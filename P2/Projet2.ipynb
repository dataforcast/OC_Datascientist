{
 "cells": [
  {
   "cell_type": "markdown",
   "metadata": {},
   "source": [
    "# Plan de l'étude"
   ]
  },
  {
   "cell_type": "markdown",
   "metadata": {},
   "source": [
    "1) Introduction\n",
    "\n",
    "2) Acquisition des données\n",
    "\n",
    "3) Nettoyage des données\n",
    "\n",
    "4) Exploration et analyse des données\n",
    "\n",
    "5) Quantification de la qualité d'un nutriment\n",
    "\n",
    "6) Propositions d'aliments pour une recette\n",
    "\n",
    "\n"
   ]
  },
  {
   "cell_type": "markdown",
   "metadata": {},
   "source": [
    "# Introduction"
   ]
  },
  {
   "cell_type": "markdown",
   "metadata": {},
   "source": [
    "## Avertissements"
   ]
  },
  {
   "cell_type": "markdown",
   "metadata": {},
   "source": [
    "L'utilisation de ce Notebook nécessite une capacité minimale de 2Go de RAM\n",
    "\n",
    "Le chargement de la base de données nécessite 1.5Go de RAM.\n",
    "\n",
    "Pour charger les données du fichier de données, ce dernier doit être localisé dans le répertoire ./tmp, au même niveau que le notebook. "
   ]
  },
  {
   "cell_type": "markdown",
   "metadata": {},
   "source": [
    "## Formulation du problème"
   ]
  },
  {
   "cell_type": "markdown",
   "metadata": {},
   "source": [
    "L'étude présentée ci-dessous vise à accompagner la composition des recettes saines à partir d'une base alimentaire. Un recette est comprise ici comme une combinaison d'aliments de la base.\n",
    "\n",
    "Etant donné le niveau calorique d'un repas rapporté à 100g d'aliments issus de la base de données, quels aliments sont ils susceptibles de rentrer dans une recette saine?\n",
    "\n",
    "Hypothèse : une recette saine et composée d'aliments sains.\n",
    "-----------\n",
    "\n",
    "Pour pouvoir répondre à cette question, cette dernière a été reformulée comme suit : \n",
    "\n",
    "Reformulation\n",
    "---------------\n",
    "\n",
    "\"Y a t-il un lien entre la classe énergétique d'un aliment et son scoring?\"\n",
    "\n",
    "Pour mener à bien cette étude, nous avons fait le choix des options suivantes: \n",
    "\n",
    " 1) L'apport énergétique est la variable autour de laquelle l'étude va s'articuler\n",
    " \n",
    " 2) L'étude a été abordée sous l'angle de l'analyse des nutriments. Ces derniers ont été décomposés en deux classes :\n",
    " \n",
    "     a) la classe des nutriments qui contribuent positivement à une recette saine, \n",
    "     \n",
    "     b) la classe des nutriments qui contribue négativement à une recette saine.\n",
    " \n",
    " 3) La statistique descriptive a été mise au service de l'analyse de la base de données.\n",
    "\n",
    "Au fil de l'analyse, des recommandations d'aliments pour composer une recette vont être proposées."
   ]
  },
  {
   "cell_type": "markdown",
   "metadata": {},
   "source": [
    "# Fonctions et structures utilitaires"
   ]
  },
  {
   "cell_type": "markdown",
   "metadata": {},
   "source": [
    "## Structures"
   ]
  },
  {
   "cell_type": "code",
   "execution_count": 1,
   "metadata": {},
   "outputs": [],
   "source": [
    "medianprops = {'color':\"black\"}\n",
    "meanprops = {'marker':'o', 'markeredgecolor':'black',\n",
    "            'markerfacecolor':'firebrick'}\n",
    "\n",
    "\n",
    "# Les categories de nutriments qui font la qualité d'un aliment sont stockés en variables de classe sous forme de dictionaires.\n",
    "# C'est une sous-catégorie de NUTRITION_CATEG.\n",
    "\n",
    "NUTRITION_QUALITY_CATEG = {\n",
    "                # ---------  Protéines ------------------------\n",
    "                'proteins_100g' : 'PROTEINES',\n",
    "                'casein_100g' : 'PROTEINES',\n",
    "                'serum-proteins_100g' : 'PROTEINES',\n",
    "                'nucleotides_100g' : 'PROTEINES',\n",
    "                'biotin_100g' : 'PROTEINES',\n",
    "\n",
    "                # -------- Acides gras insaturés --------------\n",
    "                'alpha-linolenic-acid_100g' : 'ACIDES GRAS',# AG polyinsaturé  : classe oméga-3\n",
    "                'eicosapentaenoic-acid_100g' : 'ACIDES GRAS',# AG polyinsaturé  : classe oméga-3\n",
    "                'docosahexaenoic-acid_100g' : 'ACIDES GRAS',# AG polyinsaturé  : classe oméga-3\n",
    "                'linoleic-acid_100g' : 'ACIDES GRAS',        # AG polyinsaturé  : classe oméga-6\n",
    "                'arachidonic-acid_100g' : 'ACIDES GRAS',     # AG polyinsaturé  : classe oméga-6     \n",
    "                'gamma-linolenic-acid_100g' : 'ACIDES GRAS', # AG polyinsaturé  : classe oméga-6  \n",
    "                'dihomo-gamma-linolenic-acid_100g' : 'ACIDES GRAS',        # AG insaturés :classe oméga-6\n",
    "                'oleic-acid_100g' : 'ACIDES GRAS',       # AG mono-insaturés :classe  oméga-9\n",
    "                'elaidic-acid_100g' : 'ACIDES GRAS',     # AG insaturé\n",
    "                'gondoic-acid_100g' : 'ACIDES GRAS',     # AG insaturé\n",
    "                'mead-acid_100g' : 'ACIDES GRAS',        # AG insaturé\n",
    "                'erucic-acid_100g' : 'ACIDES GRAS',      # AG insaturé\n",
    "                'nervonic-acid_100g' : 'ACIDES GRAS',    # AG insaturé                           \n",
    "                'pantothenic-acid_100g' : 'ACIDES GRAS',  #No\n",
    "\n",
    "                # -------- Vitamines  --------------\n",
    "                'vitamin-a_100g' : 'VITAMINES',        \n",
    "                'vitamin-d_100g' : 'VITAMINES',        \n",
    "                'vitamin-e_100g' : 'VITAMINES',        \n",
    "                'vitamin-k_100g' : 'VITAMINES',        \n",
    "                'vitamin-c_100g' : 'VITAMINES',        \n",
    "                'vitamin-b1_100g' : 'VITAMINES',        \n",
    "                'vitamin-b2_100g' : 'VITAMINES',        \n",
    "                'vitamin-pp_100g' : 'VITAMINES',        \n",
    "                'vitamin-b6_100g' : 'VITAMINES',        \n",
    "                'vitamin-b9_100g' : 'VITAMINES',        \n",
    "                'vitamin-b12_100g' : 'VITAMINES',                            \n",
    "\n",
    "                # -------- Sels minéraux  --------------\n",
    "                'taurine_100g' : 'SELS MINERAUX',        \n",
    "                'caffeine_100g' : 'SELS MINERAUX',        \n",
    "                'iodine_100g' :   'SELS MINERAUX',        \n",
    "                'molybdenum_100g' : 'SELS MINERAUX',        \n",
    "                'chromium_100g' : 'SELS MINERAUX',        \n",
    "                'selenium_100g' : 'SELS MINERAUX',        \n",
    "                'fluoride_100g' : 'SELS MINERAUX',        \n",
    "                'manganese_100g' : 'SELS MINERAUX',        \n",
    "                'copper_100g' :    'SELS MINERAUX',        \n",
    "                'zinc_100g' :      'SELS MINERAUX',        \n",
    "                'magnesium_100g' : 'SELS MINERAUX',        \n",
    "                'iron_100g' :       'SELS MINERAUX',        \n",
    "                'phosphorus_100g' : 'SELS MINERAUX',        \n",
    "                'calcium_100g' :    'SELS MINERAUX',        \n",
    "                'sodium_100g' :     'SELS MINERAUX',        \n",
    "                'silica_100g' :     'SELS MINERAUX',        \n",
    "                'bicarbonate_100g' :'SELS MINERAUX',        \n",
    "                'potassium_100g' :  'SELS MINERAUX',        \n",
    "                'chloride_100g' :   'SELS MINERAUX',        \n",
    "\n",
    "}\n",
    "NUTRITION_CATEG = { \n",
    "                'proteins_100g' : 'PROTEINES',\n",
    "                'casein_100g' : 'PROTEINES',\n",
    "                'serum-proteins_100g' : 'PROTEINES',\n",
    "                'nucleotides_100g' : 'PROTEINES',\n",
    "                'biotin_100g' : 'PROTEINES',\n",
    "\n",
    "                'carbohydrates_100g' : 'GLUCIDES',\n",
    "\n",
    "                'sugars_100g' : 'GLUCIDES',\n",
    "\n",
    "                'sucrose_100g' : 'GLUCIDES',\n",
    "                'glucose_100g' : 'GLUCIDES',\n",
    "                'fructose_100g' :'GLUCIDES',\n",
    "                'lactose_100g' : 'GLUCIDES',\n",
    "                'maltose_100g' : 'GLUCIDES',\n",
    "                'lactose_100g' : 'GLUCIDES',\n",
    "                'maltodextrins_100g' : 'GLUCIDES',\n",
    "                'starch_100g' : 'GLUCIDES',\n",
    "                'polyols_100g' : 'GLUCIDES',\n",
    "\n",
    "                # --- Acides gras saturés ------\n",
    "                'caproic-acid_100g' : 'ACIDES GRAS',#AG saturé\n",
    "                'caprylic-acid_100g' : 'ACIDES GRAS',#AG saturé\n",
    "                'capric-acid_100g' : 'ACIDES GRAS',#AG saturé\n",
    "                'lauric-acid_100g' : 'ACIDES GRAS',#AG saturé\n",
    "                'myristic-acid_100g' : 'ACIDES GRAS',#AG saturé (très répandu des AGS)\n",
    "                'palmitic-acid_100g' : 'ACIDES GRAS',#AG saturé (très répandu des AGS)\n",
    "                'stearic-acid_100g' : 'ACIDES GRAS',# AG saturé (le plus répandu des AGS)\n",
    "                'arachidic-acid_100g' : 'ACIDES GRAS',# AG saturé\n",
    "                'behenic-acid_100g' : 'ACIDES GRAS',# AG saturé\n",
    "                'lignoceric-acid_100g' : 'ACIDES GRAS',# AG saturé\n",
    "                'cerotic-acid_100g' : 'ACIDES GRAS',# AG saturé\n",
    "                'montanic-acid_100g' : 'ACIDES GRAS', # AG saturé\n",
    "                'melissic-acid_100g' : 'ACIDES GRAS', # AG saturé\n",
    "\n",
    "                # --- Acides gras insaturés ------\n",
    "                'alpha-linolenic-acid_100g' : 'ACIDES GRAS',# AG polyinsaturé  : classe oméga-3\n",
    "                'eicosapentaenoic-acid_100g' : 'ACIDES GRAS',# AG polyinsaturé  : classe oméga-3\n",
    "                'docosahexaenoic-acid_100g' : 'ACIDES GRAS',# AG polyinsaturé  : classe oméga-3\n",
    "                'linoleic-acid_100g' : 'ACIDES GRAS',        # AG polyinsaturé  : classe oméga-6\n",
    "                'arachidonic-acid_100g' : 'ACIDES GRAS',     # AG polyinsaturé  : classe oméga-6     \n",
    "                'gamma-linolenic-acid_100g' : 'ACIDES GRAS', # AG polyinsaturé  : classe oméga-6  \n",
    "                'dihomo-gamma-linolenic-acid_100g' : 'ACIDES GRAS',        # AG insaturés :classe oméga-6\n",
    "                'oleic-acid_100g' : 'ACIDES GRAS',       # AG mono-insaturés :classe  oméga-9\n",
    "                'elaidic-acid_100g' : 'ACIDES GRAS',     # AG insaturé\n",
    "                'gondoic-acid_100g' : 'ACIDES GRAS',     # AG insaturé\n",
    "                'mead-acid_100g' : 'ACIDES GRAS',        # AG insaturé\n",
    "                'erucic-acid_100g' : 'ACIDES GRAS',      # AG insaturé\n",
    "                'nervonic-acid_100g' : 'ACIDES GRAS',    # AG insaturé                   \n",
    "                'pantothenic-acid_100g' : 'ACIDES GRAS',  #No\n",
    "\n",
    "                'vitamin-a_100g' : 'VITAMINES',        \n",
    "                'vitamin-d_100g' : 'VITAMINES',        \n",
    "                'vitamin-e_100g' : 'VITAMINES',        \n",
    "                'vitamin-k_100g' : 'VITAMINES',        \n",
    "                'vitamin-c_100g' : 'VITAMINES',        \n",
    "                'vitamin-b1_100g' : 'VITAMINES',        \n",
    "                'vitamin-b2_100g' : 'VITAMINES',        \n",
    "                'vitamin-pp_100g' : 'VITAMINES',        \n",
    "                'vitamin-b6_100g' : 'VITAMINES',        \n",
    "                'vitamin-b9_100g' : 'VITAMINES',        \n",
    "                'vitamin-b12_100g' : 'VITAMINES',                            \n",
    "\n",
    "                'taurine_100g' : 'SELS MINERAUX',        \n",
    "                'caffeine_100g' : 'SELS MINERAUX',        \n",
    "                'iodine_100g' :   'SELS MINERAUX',        \n",
    "                'molybdenum_100g' : 'SELS MINERAUX',        \n",
    "                'chromium_100g' : 'SELS MINERAUX',        \n",
    "                'selenium_100g' : 'SELS MINERAUX',        \n",
    "                'fluoride_100g' : 'SELS MINERAUX',        \n",
    "                'manganese_100g' : 'SELS MINERAUX',        \n",
    "                'copper_100g' :    'SELS MINERAUX',        \n",
    "                'zinc_100g' :      'SELS MINERAUX',        \n",
    "                'magnesium_100g' : 'SELS MINERAUX',        \n",
    "                'iron_100g' :       'SELS MINERAUX',        \n",
    "                'phosphorus_100g' : 'SELS MINERAUX',        \n",
    "                'calcium_100g' :    'SELS MINERAUX',        \n",
    "                'sodium_100g' :     'SELS MINERAUX',        \n",
    "                'silica_100g' :     'SELS MINERAUX',        \n",
    "                'bicarbonate_100g' :'SELS MINERAUX',        \n",
    "                'potassium_100g' :  'SELS MINERAUX',        \n",
    "                'chloride_100g' :   'SELS MINERAUX',        \n",
    "\n",
    "                #'alcohol_100g' : 'ALCOHOL',        \n",
    "\n",
    "                'fiber_100g' : 'FIBRES',        \n",
    "\n",
    "                'saturated-fat_100g' : 'LIPIDES',\n",
    "                'monounsaturated-fat_100g' : 'LIPIDES',\n",
    "                'polyunsaturated-fat_100g' : 'LIPIDES',\n",
    "                'omega-3-fat_100g' : 'LIPIDES',\n",
    "                'omega-6-fat_100g' : 'LIPIDES',\n",
    "                'omega-9-fat_100g' : 'LIPIDES',\n",
    "                'trans-fat_100g' : 'LIPIDES',\n",
    "                'cholesterol_100g' : 'LIPIDES',\n",
    "                #'fat_100g' : 'LIPIDES',\n",
    "               }\n"
   ]
  },
  {
   "cell_type": "markdown",
   "metadata": {},
   "source": [
    "## Fonctions"
   ]
  },
  {
   "cell_type": "code",
   "execution_count": 77,
   "metadata": {},
   "outputs": [],
   "source": [
    "import matplotlib.pyplot as plt\n",
    "import pandas as pd\n",
    "import seaborn as sns\n",
    "import numpy as np\n",
    "%matplotlib inline  \n",
    "\n",
    "%reload_ext autoreload\n",
    "%autoreload 2\n",
    "\n",
    "%aimport SeriesExplorer\n",
    "from SeriesExplorer import *\n",
    "\n",
    "\n",
    "\n",
    "#------------------------------------------------------------------------------\n",
    "#\n",
    "#------------------------------------------------------------------------------\n",
    "def remove_pattern(myList,pattern) :\n",
    "    new_list = list()\n",
    "    for elt in myList :\n",
    "        new_list.append(elt.replace(pattern, ''))\n",
    "    return new_list\n",
    "#------------------------------------------------------------------------------\n",
    "\n",
    "#------------------------------------------------------------------------------\n",
    "#\n",
    "#------------------------------------------------------------------------------\n",
    "def filter_nan(val) :\n",
    "    if np.nan is not val :\n",
    "        return val\n",
    "#------------------------------------------------------------------------------\n",
    "\n",
    "#------------------------------------------------------------------------------\n",
    "#\n",
    "#------------------------------------------------------------------------------\n",
    "def df_dimensions(dataframe, verbose=True) :\n",
    "    #lines = len(dataframe)\n",
    "    #columns = len(dataframe.iloc[0,:])\n",
    "    lines, columns = dataframe.shape\n",
    "    if verbose is True :\n",
    "        print(\"-------oOo-------\")\n",
    "        print(\"Nombre (lignes, colonnes)  = ({},{}) \".format(lines, columns))    \n",
    "        print(\"Utilisation mémoire : {} bytes \".format(sum(dataframe.memory_usage(deep=True))))\n",
    "        print(\"-------oOo-------\")\n",
    "    return lines, columns\n",
    "#------------------------------------------------------------------------------\n",
    "\n",
    "#------------------------------------------------------------------------------\n",
    "#\n",
    "#------------------------------------------------------------------------------\n",
    "def build_list_target_intake(dict_nutrient_intake, target_category) :\n",
    "    dict_targetCategory_intake = dict()\n",
    "\n",
    "    for nutrient in SeriesExplorer.NUTRITION_CATEG.keys() :\n",
    "        if SeriesExplorer.NUTRITION_CATEG[nutrient] == target_category :\n",
    "            if nutrient in dict_nutrient_intake.keys() :\n",
    "                dict_targetCategory_intake[nutrient] = dict_nutrient_intake[nutrient]\n",
    "                #print('Nutrient = {} / Intake = {}'.format(nutrient, dict_nutrient_intake[nutrient]))\n",
    "    return dict_targetCategory_intake\n",
    "# ------------------------------------------------------------------------------\n",
    "# ------------------------------------------------------------------------------\n",
    "#\n",
    "# ------------------------------------------------------------------------------\n",
    "def df_describe_by_range(df,range_columns) :\n",
    "    count = 0\n",
    "    start = 0\n",
    "    count_df = 0\n",
    "    dict_df = dict()\n",
    "    for column in df.columns :\n",
    "        if 0 < count%range_columns or 0 == count:\n",
    "            count += 1\n",
    "        else :\n",
    "            dict_df[count_df] = df.iloc[:,start:count].describe()\n",
    "            start = count\n",
    "            count += 1\n",
    "            count_df +=1\n",
    "    for item in dict_df.keys() :\n",
    "        print(dict_df[item])\n",
    "# ------------------------------------------------------------------------------\n",
    "# ------------------------------------------------------------------------------\n",
    "#\n",
    "# ------------------------------------------------------------------------------\n",
    "def df_remove_nutrient(df, list_nutrient) :\n",
    "    \"\"\" Delete columns from dataframe.\n",
    "        Columns to be deleted are those in list given as parameter.\n",
    "    \"\"\"\n",
    "    df_dimensions(df)\n",
    "    for nutrient in list_nutrient :\n",
    "        if nutrient in df.columns :\n",
    "            del(df[nutrient])\n",
    "    df_dimensions(df)\n",
    "    return df\n",
    "# ------------------------------------------------------------------------------\n",
    "#------------------------------------------------------------------------------\n",
    "#\n",
    "#------------------------------------------------------------------------------\n",
    "def df_keep_columns_from_list(dataframe, list_columns) :\n",
    "    \"\"\"Purge les colonnes d'un objet de type DataFrame à partir d'une \n",
    "    liste passée en argument.\n",
    "    Les colonnes qui ne sont pas dans la liste sont purgées.\n",
    "    Return : le dataframe purgé.\n",
    "    \"\"\"\n",
    "    for col in dataframe.columns:\n",
    "        if col not in list_columns :\n",
    "            del dataframe[col]\n",
    "    df_dimensions(dataframe)\n",
    "    return dataframe\n",
    "#------------------------------------------------------------------------------\n",
    "\n",
    "# ------------------------------------------------------------------------------\n",
    "#\n",
    "# ------------------------------------------------------------------------------\n",
    "def df_change_erratic_values(df, correction_factor=0) :\n",
    "    list_index_drop = list()\n",
    "    df_dimensions(df)\n",
    "    # Constitution de la liste des index de lignes a dropper.\n",
    "    for index in df.index :\n",
    "        for nutrient in df.columns :\n",
    "            nutrient_value = df.loc[index,nutrient]\n",
    "            food_name = df.loc[index,'product_name']\n",
    "            if( isinstance(nutrient_value,float) and nutrient_value is not np.nan and 0 > nutrient_value ) :\n",
    "                print(\"Food : {} / Nutriment : {} / Index= {} / Value= {} --> {}\".format(food_name,nutrient, index, nutrient_value, abs(correction_factor*nutrient_value)))\n",
    "                list_index_drop.append(index)\n",
    "                df.loc[index,nutrient] = correction_factor*nutrient_value\n",
    "    list_index_drop\n",
    "    #df_tmp = df.drop(list_index_drop)\n",
    "    df_dimensions(df)\n",
    "    return df\n",
    "# ------------------------------------------------------------------------------\n",
    "\n",
    "# ------------------------------------------------------------------------------\n",
    "#\n",
    "# ------------------------------------------------------------------------------\n",
    "def df_drop_columns_zmin_equal_zmax(df) :\n",
    "    \"\"\"Drop all columns for which zmin = zmax.\n",
    "    Drop all columns for which quantile 3/4 is 0.\n",
    "    \"\"\"\n",
    "    df_dimensions(df)\n",
    "    list_columns = list(df.columns)\n",
    "    #print(list_columns)\n",
    "    nutrition_categ = remove_pattern(NUTRITION_CATEG,'_100g')\n",
    "    \n",
    "    for nutrient in nutrition_categ :\n",
    "        if nutrient in list_columns :\n",
    "            zmin, zmax = df_boxplot_min_max(df , nutrient)\n",
    "            if( isinstance(zmin,float) and zmin is not np.nan ) :\n",
    "                if( isinstance(zmax,float) and zmax is not np.nan ) :\n",
    "                    if zmax <= zmin   : \n",
    "                        # print(\"Purge nutrient = {}\".format(nutrient))\n",
    "                        del(df[nutrient])\n",
    "\n",
    "    list_columns = list(df.columns)\n",
    "    for nutrient in nutrition_categ :\n",
    "        if nutrient in list_columns :\n",
    "            if df[nutrient].quantile(3/4) == 0 :\n",
    "                del(df[nutrient])\n",
    "        \n",
    "    df_dimensions(df)\n",
    "    return df\n",
    "# ------------------------------------------------------------------------------\n",
    "\n",
    "# ------------------------------------------------------------------------------\n",
    "#\n",
    "# ------------------------------------------------------------------------------\n",
    "def df_drop_columns_min_equal_max(df) :\n",
    "    \"\"\"Drop all columns belonging to SeriesExplorer.NUTRITION_CATEG list and \n",
    "    from wich min and max values are equals.\n",
    "    \"\"\"\n",
    "\n",
    "    df_dimensions(df)\n",
    "    nutrition_categ = remove_pattern(NUTRITION_CATEG,'_100g')\n",
    "    for nutrient in df.columns :\n",
    "        if nutrient in nutrition_categ :\n",
    "            # print(df_food[nutrient].min())\n",
    "            is_not_filtered = df[nutrient].min() < df[nutrient].max()\n",
    "            if is_not_filtered == False : \n",
    "                print(\"Purge nutrient = {}\".format(nutrient))\n",
    "                del(df[nutrient])\n",
    "    df_dimensions(df)\n",
    "    return df\n",
    "# ------------------------------------------------------------------------------\n",
    "\n",
    "# ------------------------------------------------------------------------------\n",
    "#\n",
    "# ------------------------------------------------------------------------------\n",
    "def df_remove_duplicates(df) :\n",
    "    \"\"\"Remove duplicated raws from dataframe given as parameter.\n",
    "        dataframe index is reseted in order to have a smoothly operation.\n",
    "    \"\"\"\n",
    "    df_dimensions(df)\n",
    "\n",
    "    df = df.reset_index()\n",
    "    for column in df.columns :\n",
    "        df[column].drop_duplicates(inplace=True, keep='first')\n",
    "\n",
    "    df_dimensions(df)\n",
    "    return df\n",
    "# ------------------------------------------------------------------------------\n",
    "\n",
    "# ------------------------------------------------------------------------------\n",
    "#\n",
    "# ------------------------------------------------------------------------------\n",
    "def df_merge_columns(df, column_dest, column_src) :\n",
    "    \"\"\"Merge column_src into column_dest for a given df.\n",
    "       Once done, column_dest is removed from df.\n",
    "    \"\"\"\n",
    "    if column_src in df  :\n",
    "        df[column_dest] = SeriesExplorer.mergeSeries(df[column_dest], df[column_src])\n",
    "\n",
    "        # Purge des colonnes 'generic_name','categories'\n",
    "        del(df[column_src])\n",
    "\n",
    "    df_dimensions(df)\n",
    "    return df\n",
    "# ------------------------------------------------------------------------------\n",
    "\n",
    "# ------------------------------------------------------------------------------\n",
    "#\n",
    "# ------------------------------------------------------------------------------\n",
    "def df_drop_raws_from_nan_value(df, column) :\n",
    "    \"\"\" Drop whole raw where nan value stand in column.\n",
    "    \"\"\"\n",
    "    if column not in df :\n",
    "        return df\n",
    "\n",
    "    df_dimensions(df)\n",
    "\n",
    "    ser = pd.Series(df[column], index= df.index)\n",
    "    ser.dropna(axis=0 , inplace=True)\n",
    "    del(df[column])\n",
    "    df = pd.concat((df,ser), axis=1, join='inner')\n",
    "\n",
    "    df_dimensions(df)\n",
    "    \n",
    "    return df\n",
    "        \n",
    "# ------------------------------------------------------------------------------\n",
    "\n",
    "# ------------------------------------------------------------------------------\n",
    "#\n",
    "# ------------------------------------------------------------------------------\n",
    "def df_drop_columns_from_nan_threshold(df, nan_threshold, verbose=True) :\n",
    "    \"\"\"Remove nutrients from dataframe according to nan value threshold given as parameter.\n",
    "        Parameters : \n",
    "            threshold : value under which nutrient is dropped.\n",
    "            df : dataframe on which operation applies.\n",
    "    \"\"\"\n",
    "    if verbose :\n",
    "        df_dimensions(df)\n",
    "\n",
    "    df_len = len(df)\n",
    "    for nutrient in df.columns :\n",
    "        if nutrient != 'product_name' :\n",
    "            # Getting all nan values from nutrient and storing them into df_sample\n",
    "            df_sample = df[np.isnan(df_food[nutrient])]\n",
    "            nutrient_rate = 1. - (len(df_sample)/df_len)\n",
    "            if  nan_threshold > nutrient_rate  :\n",
    "                del(df[nutrient])\n",
    "    if verbose :\n",
    "        df_dimensions(df)\n",
    "    return df\n",
    "# ------------------------------------------------------------------------------\n",
    "\n",
    "\n",
    "# ------------------------------------------------------------------------------\n",
    "#\n",
    "# ------------------------------------------------------------------------------\n",
    "def df_scan_nan_threshold(df, step=10) :\n",
    "    \"\"\" Display numbers columns considering % of nan values \n",
    "    This function repeatively calls function df_drop_columns_from_nan_threshold\n",
    "    \"\"\"\n",
    "    index = 0\n",
    "    \n",
    "    dict_scan_nan_threshold = dict()\n",
    "    \n",
    "    df_save = df.copy()\n",
    "    while index <= 100 :\n",
    "        df = df_save.copy()\n",
    "        nan_threshold = index/100\n",
    "        df = df_drop_columns_from_nan_threshold(df, nan_threshold, verbose=False)\n",
    "        lines, columns = df_dimensions(df, verbose=False)\n",
    "        #dict_nutrient_count[nan_threshold] = columns\n",
    "        index +=step\n",
    "        print('Seuil= {}% / Nutriments= {}'.format(nan_threshold*100, columns))\n",
    "        dict_scan_nan_threshold[nan_threshold] = columns\n",
    "    return dict_scan_nan_threshold\n",
    "# ------------------------------------------------------------------------------\n",
    "# ------------------------------------------------------------------------------\n",
    "#\n",
    "# ------------------------------------------------------------------------------\n",
    "def df_range_column(df,column,val_min,val_max) :\n",
    "    \"\"\" Returns a datafram from which values from the given column \n",
    "    are val_min < values <= val_max\n",
    "    \"\"\"\n",
    "\n",
    "    df1 = df[df[column] <= val_max]\n",
    "    df2 = df1[df1[column] >  val_min]\n",
    "    return df2\n",
    "# ------------------------------------------------------------------------------\n",
    "# ------------------------------------------------------------------------------\n",
    "# Assignation des operations a une categorie et a un type\n",
    "# ------------------------------------------------------------------------------\n",
    "def detect_words(values, dictionary):\n",
    "    result = []\n",
    "    for lib in values:\n",
    "        operation_type = \"AUTRE\"\n",
    "        for word, val in dictionary.items():\n",
    "            if word in lib:\n",
    "                operation_type = val\n",
    "        result.append(operation_type)\n",
    "    return result\n",
    "# ------------------------------------------------------------------------------\n",
    "#\n",
    "# ------------------------------------------------------------------------------\n",
    "def build_nutrient_quality_dict(df) :\n",
    "    \"\"\" Build a dictionary for nutrient quality.\n",
    "        Indexes from dictionary are index values from df\n",
    "        Values : for each raw, compute of cumulative sum over all nutrients\n",
    "    \"\"\"\n",
    "\n",
    "    #ser_quality_nutrient = pd.Series()\n",
    "    dict_nutrient_value = dict()\n",
    "\n",
    "    # This initialisation allows cumulative sum\n",
    "    for index in df.index :\n",
    "        dict_nutrient_value[index] = 0.0\n",
    "    \n",
    "    for nutrient in df.columns : \n",
    "        if nutrient in NUTRITION_QUALITY_CATEG :\n",
    "            for nutrient_index, nutrient_value in df[nutrient].iteritems() :\n",
    "                if( isinstance(nutrient_value,float) and nutrient_value is not np.nan and 0 < nutrient_value ) :    \n",
    "                    #if nutrient_index in dict_nutrient_value.keys() and 0 < dict_nutrient_value[nutrient_index]:\n",
    "                    # Nutrient already exists; it can be cumulated \n",
    "                    dict_nutrient_value[nutrient_index] += nutrient_value\n",
    "                    #else :\n",
    "                        # Initialization \n",
    "                        #dict_nutrient_value[nutrient_index]  = nutrient_value\n",
    "                #else  :\n",
    "                    # Permettra par la suite de remplacer ces valeurs par la médiane\n",
    "                    # dict_nutrient_value[nutrient_index] = -1\n",
    "                    #dict_nutrient_nan[nutrient_index] = np.nan\n",
    "                    #pass\n",
    "                #list_index.append(nutrient_index)\n",
    "\n",
    "    len(dict_nutrient_value)\n",
    "    #dict_nutrient_value\n",
    "    return dict_nutrient_value\n",
    "# ------------------------------------------------------------------------------\n",
    "\n",
    "# ------------------------------------------------------------------------------\n",
    "#\n",
    "# ------------------------------------------------------------------------------\n",
    "def df_sns_joint_plot(df, var1, var2, parameter_kind='reg', parameter_color='grey') :\n",
    "    with sns.axes_style('white'):\n",
    "        sns.jointplot(var1, var2, data=df, kind = parameter_kind, color = parameter_color)    \n",
    "\n",
    "# ------------------------------------------------------------------------------\n",
    "\n",
    "# ------------------------------------------------------------------------------\n",
    "#\n",
    "# ------------------------------------------------------------------------------\n",
    "def df_boxplot_min_max(df , nutrient) :\n",
    "    \"\"\"Retourne les valeurs extremes des moustaches d'un nutriment.\n",
    "    \"\"\"\n",
    "    z = pd.DataFrame(df[nutrient]).describe()\n",
    "    \n",
    "    q1 = z.loc['25%',nutrient]\n",
    "    q3 = z.loc['75%',nutrient]\n",
    "\n",
    "    # Calcul des moustaches\n",
    "    zmin1 = z.loc['min',nutrient]\n",
    "    zmin2 = q1-(q3-q1)*1.5\n",
    "    zmin = max(zmin1,zmin2)\n",
    "\n",
    "    zmax1 = z.loc['max',nutrient]\n",
    "    zmax2 = q3+(q3-q1)*1.5\n",
    "    zmax = min(zmax1,zmax2)\n",
    "\n",
    "    return zmin,zmax\n",
    "# ------------------------------------------------------------------------------\n",
    "\n",
    "# ------------------------------------------------------------------------------\n",
    "#\n",
    "# ------------------------------------------------------------------------------\n",
    "def df_boxplot_display(df_food, nutrient) :\n",
    "    z = pd.DataFrame(df_food[nutrient]).boxplot(showfliers= False, patch_artist=True, medianprops=medianprops,showmeans=True, meanprops=meanprops)\n",
    "# ------------------------------------------------------------------------------\n",
    "\n",
    "\n",
    "# ------------------------------------------------------------------------------\n",
    "#\n",
    "# ------------------------------------------------------------------------------\n",
    "def df_boxplot_list_display(df,list_var ) :\n",
    "    \"\"\" Display boxplot of filtered values from dataframe given as parameter.\n",
    "    Filtered values are those in list_var.\n",
    "    Statistics dispersions are also displayed.\n",
    "    \"\"\"\n",
    "\n",
    "    for var in list_var :\n",
    "        print(\"=\"*60)\n",
    "        print(str(var).center(60,'-'))\n",
    "        print(\"Moyenne: {}\".format(df[var].mean()))\n",
    "        print(\"Mediane: {}\".format(df[var].median()))\n",
    "        print(\"Modes: {}\".format(df[var].mode()))\n",
    "        print(\"Variance: {}\".format(df[var].var(ddof=0)))\n",
    "        print(\"Ecart:{}\".format(df[var].std(ddof=0)))\n",
    "        df_food.boxplot(column=var, vert=False, showfliers=False, patch_artist=True, medianprops=medianprops,showmeans=True, meanprops=meanprops)\n",
    "        plt.show()\n",
    "# ------------------------------------------------------------------------------\n",
    "\n",
    "\n",
    "# ------------------------------------------------------------------------------\n",
    "#\n",
    "# ------------------------------------------------------------------------------\n",
    "def df_display_hist_from_list(df_food, list_columns) :\n",
    "    \"\"\" Display histograms issued from dataframe and filetered from list given \n",
    "    as parameter.\n",
    "    Histogram represents frequencies from dataframe for each column from list_columns.\n",
    "    \"\"\"\n",
    "    z = plt.figure(figsize=(4,4))\n",
    "    for column in list_columns :\n",
    "        df = df_food.copy()\n",
    "        zmin, zmax = df_boxplot_min_max(df, column)\n",
    "        if zmin < zmax :\n",
    "            list_name = remove_pattern([column],'100g')\n",
    "            new_column = list_name[0]\n",
    "            df.rename(columns={column: new_column}, inplace=True)\n",
    "            column = new_column\n",
    "            df = pd.DataFrame(df[column], index=df.index)\n",
    "            df = df[df[column] <= zmax]\n",
    "            df = df[df[column] >= zmin]\n",
    "            df = df[df[column] > 0.0]\n",
    "            #z = plt.figure()\n",
    "            z = df.plot.hist(bins=50)\n",
    "# ------------------------------------------------------------------------------\n",
    "\n",
    "# ------------------------------------------------------------------------------\n",
    "#\n",
    "# ------------------------------------------------------------------------------\n",
    "def df_display_dict_hist(dict_to_display, title, xlabel, ylabel, fontSize, color):\n",
    "\n",
    "    # Gestion de l'affichage\n",
    "    fig, ax = plt.subplots()\n",
    "    plt.rcParams.update({'font.size': fontSize})\n",
    "\n",
    "    plt.title(title)\n",
    "    ax.set_xlabel(xlabel, fontsize = fontSize, color=color)\n",
    "    ax.set_ylabel(ylabel, fontsize = fontSize, color=color)\n",
    "    ax.tick_params(axis='x', rotation=90)\n",
    "\n",
    "    list_values   = dict_to_display.values()\n",
    "    bar_locations = dict_to_display.keys()\n",
    "\n",
    "    z = plt.bar(bar_locations, list_values, align='center', width=0.5)\n",
    "    return\n",
    "\n",
    "# ------------------------------------------------------------------------------\n",
    "#\n",
    "# ------------------------------------------------------------------------------\n",
    "def df_build_scoring_from_listing_1(df_food, list_nutrient_minus, list_nutrient_plus) :\n",
    "    dict_scoring = dict()\n",
    "    for index in df_food.index :\n",
    "        dict_scoring[index] = 0.0\n",
    "\n",
    "    # Calcul des perciles pour le scoring\n",
    "    dict_nutrient_plus  = dict()\n",
    "    dict_nutrient_minus = dict()\n",
    "\n",
    "    for nutrient in list_nutrient_plus : \n",
    "        dict_nutrient_plus[nutrient]={'Q1':df_food[nutrient].quantile(1/4), 'Q2':df_food[nutrient].quantile(2/4), 'Q3':df_food[nutrient].quantile(3/4)}\n",
    "\n",
    "    for nutrient in list_nutrient_minus : \n",
    "        dict_nutrient_minus[nutrient]={'Q1':df_food[nutrient].quantile(1/4), 'Q2':df_food[nutrient].quantile(2/4), 'Q3':df_food[nutrient].quantile(3/4)}\n",
    "\n",
    "    for index in df_food.index :\n",
    "        scoring_aliment = 0.0\n",
    "        for nutrient_plus in list_nutrient_plus :\n",
    "            nutrient_fact = df_food.loc[index,nutrient_plus]\n",
    "            if nutrient_fact == 0.0 :\n",
    "                scoring_aliment = 0\n",
    "            elif 0 < nutrient_fact and nutrient_fact <= dict_nutrient_plus[nutrient_plus]['Q2'] :\n",
    "                scoring_aliment = 1\n",
    "            elif dict_nutrient_plus[nutrient_plus]['Q2'] < nutrient_fact :\n",
    "                scoring_aliment = 2\n",
    "            else :\n",
    "                pass\n",
    "            dict_scoring[index] += scoring_aliment\n",
    "\n",
    "        for nutrient_minus in list_nutrient_minus :\n",
    "            nutrient_fact = df_food.loc[index,nutrient_minus]\n",
    "            if nutrient_fact == 0.0 :\n",
    "                scoring_aliment = 0\n",
    "            elif 0 < nutrient_fact and nutrient_fact <= dict_nutrient_minus[nutrient_minus]['Q2'] :\n",
    "                scoring_aliment = -1\n",
    "            elif dict_nutrient_minus[nutrient_minus]['Q2'] < nutrient_fact :\n",
    "                scoring_aliment = -2\n",
    "            else :\n",
    "                pass\n",
    "            dict_scoring[index] += scoring_aliment\n",
    "\n",
    "    len(dict_scoring)\n",
    "    \n",
    "    df_scoring = pd.DataFrame(dict_scoring, columns=list(dict_scoring.keys()), index=['scoring_1'])\n",
    "    df_scoring = df_scoring.transpose()\n",
    "\n",
    "    return df_scoring\n",
    "# ------------------------------------------------------------------------------\n",
    "\n",
    "\n",
    "# ------------------------------------------------------------------------------\n",
    "#\n",
    "# ------------------------------------------------------------------------------\n",
    "def df_build_scoring_from_listing_2(df_food, list_nutrient_minus, list_nutrient_plus) :\n",
    "    dict_scoring = dict()\n",
    "    for index in df_food.index :\n",
    "        dict_scoring[index] = 0.0\n",
    "\n",
    "    # Calcul des perciles pour le scoring\n",
    "    dict_nutrient_plus  = dict()\n",
    "    dict_nutrient_minus = dict()\n",
    "\n",
    "    for nutrient in list_nutrient_plus : \n",
    "        dict_nutrient_plus[nutrient]={'Q1':df_food[nutrient].quantile(1/4), 'Q2':df_food[nutrient].quantile(2/4), 'Q3':df_food[nutrient].quantile(3/4)}\n",
    "\n",
    "\n",
    "    for nutrient in list_nutrient_minus : \n",
    "        dict_nutrient_minus[nutrient]={'Q1':df_food[nutrient].quantile(1/4), 'Q2':df_food[nutrient].quantile(2/4), 'Q3':df_food[nutrient].quantile(3/4)}\n",
    "\n",
    "    # Scoring par aliment        \n",
    "        \n",
    "    for index in df_food.index :\n",
    "        scoring_aliment = 0.0\n",
    "        for nutrient_plus in list_nutrient_plus :\n",
    "            nutrient_fact = df_food.loc[index,nutrient_plus]\n",
    "            if nutrient_fact == 0.0 :\n",
    "                scoring_aliment = 0\n",
    "            elif 0 < nutrient_fact and nutrient_fact <= dict_nutrient_plus[nutrient_plus]['Q1'] :\n",
    "                scoring_aliment = 1                \n",
    "            elif dict_nutrient_plus[nutrient_plus]['Q1'] < nutrient_fact and nutrient_fact <= dict_nutrient_plus[nutrient_plus]['Q2'] :\n",
    "                scoring_aliment = 2\n",
    "            elif dict_nutrient_plus[nutrient_plus]['Q2'] < nutrient_fact and nutrient_fact <= dict_nutrient_plus[nutrient_plus]['Q3']:\n",
    "                scoring_aliment = 3\n",
    "            elif dict_nutrient_plus[nutrient_plus]['Q3'] < nutrient_fact :\n",
    "                scoring_aliment = 4\n",
    "            else :\n",
    "                pass\n",
    "            dict_scoring[index] += scoring_aliment\n",
    "\n",
    "        for nutrient_minus in list_nutrient_minus :\n",
    "            nutrient_fact = df_food.loc[index,nutrient_minus]\n",
    "            if nutrient_fact == 0.0 :\n",
    "                scoring_aliment = 0\n",
    "            elif 0 < nutrient_fact and nutrient_fact <= dict_nutrient_minus[nutrient_minus]['Q1'] :\n",
    "                scoring_aliment = -1\n",
    "            elif dict_nutrient_minus[nutrient_minus]['Q1'] < nutrient_fact and nutrient_fact <= dict_nutrient_minus[nutrient_minus]['Q2'] :\n",
    "                scoring_aliment = -2\n",
    "            elif dict_nutrient_minus[nutrient_minus]['Q2'] < nutrient_fact and nutrient_fact <= dict_nutrient_minus[nutrient_minus]['Q3']:\n",
    "                scoring_aliment = -3\n",
    "            elif dict_nutrient_minus[nutrient_minus]['Q3'] < nutrient_fact :\n",
    "                scoring_aliment = -4\n",
    "            else :\n",
    "                pass\n",
    "            dict_scoring[index] += scoring_aliment\n",
    "\n",
    "    len(dict_scoring)\n",
    "    \n",
    "    df_scoring = pd.DataFrame(dict_scoring, columns=list(dict_scoring.keys()), index=['scoring_2'])\n",
    "    df_scoring = df_scoring.transpose()\n",
    "\n",
    "    return df_scoring\n",
    "# ------------------------------------------------------------------------------\n",
    "\n",
    "# ------------------------------------------------------------------------------\n",
    "#\n",
    "# ------------------------------------------------------------------------------\n",
    "def get_dict_category_count(df) :  \n",
    "    \"\"\" Computes nutrients categories frequencies .\n",
    "    \"\"\"\n",
    "    dict_category_count = dict()\n",
    "    dict_category_freq  = dict()\n",
    "    dict_nutrition_categ= dict()\n",
    "    \n",
    "    # Initialization \n",
    "    for category in NUTRITION_CATEG.values() :   \n",
    "        dict_category_count[category] =0\n",
    "\n",
    "    for item, value in NUTRITION_CATEG.items() :\n",
    "        returned_list = remove_pattern([item],'_100g')\n",
    "        dict_nutrition_categ[returned_list[0]] = value\n",
    "\n",
    "    total_nutriment = len(dict_nutrition_categ)\n",
    "    nutrient_sum = 0\n",
    "    # For all columns : \n",
    "    for nutrient in df_food :\n",
    "        if nutrient in dict_nutrition_categ.keys() :\n",
    "            category = dict_nutrition_categ[nutrient]\n",
    "            # For all values on column \n",
    "            for key, intakeValue in df_food[nutrient].iteritems() :\n",
    "                if 0 < intakeValue :\n",
    "                    dict_category_count[category] += 1\n",
    "                    nutrient_sum += 1  \n",
    "\n",
    "    for category in dict_nutrition_categ.values() :   \n",
    "        dict_category_freq[category] = dict_category_count[category]/nutrient_sum\n",
    "                \n",
    "    return dict_category_count, dict_category_freq\n",
    "    \n",
    "# ------------------------------------------------------------------------------\n",
    "\n",
    "# ------------------------------------------------------------------------------\n",
    "#\n",
    "# ------------------------------------------------------------------------------\n",
    "def df_recomandations_display( df_food, score, countMax=10) :\n",
    "    \"\"\" Affiche les aliments dont le scoring dans la colonne du même nom \n",
    "    est superieur à la valeur score passée en paramètre.\n",
    "    \"\"\"\n",
    "    #threadsold = df_food[score].median()\n",
    "    threadsold = df_food[score].quantile(3/4)\n",
    "    print(threadsold)\n",
    "    count = 0\n",
    "    #zmin, zmax = df_boxplot_min_max(df_food, column)\n",
    "    \n",
    "    for index in df_food.index :\n",
    "        value = df_food.loc[index,score]\n",
    "        if  value >= threadsold :\n",
    "            if count < countMax :\n",
    "                food_name = df_food.loc[index,'product_name']\n",
    "                if  isinstance(food_name, str) :\n",
    "                    if(1 < len(food_name)) :\n",
    "                        print(df_food.loc[index,'product_name'])\n",
    "                        count += 1\n",
    "            else :\n",
    "                break\n",
    "    print(\"\\n --------------------- \")            \n",
    "    count = 0\n",
    "    threadsold = df_food[score].quantile(1/4)\n",
    "    print(threadsold)\n",
    "    for index in df_food.index :\n",
    "        value = df_food.loc[index,score]\n",
    "        if  value < threadsold :\n",
    "            if count < 10 :\n",
    "                food_name = df_food.loc[index,'product_name']\n",
    "                if  isinstance(food_name, str) :\n",
    "                    if(1 < len(food_name)) :\n",
    "                        print(df_food.loc[index,'product_name'])\n",
    "                        count += 1\n",
    "            else :\n",
    "                break\n",
    "# ------------------------------------------------------------------------------\n",
    "\n",
    "# ------------------------------------------------------------------------------\n",
    "# Distribution empirique des apports par categorie de nutriments\n",
    "# ------------------------------------------------------------------------------\n",
    "\"\"\" Construit et renvoie un dictionnaire contenant\n",
    "     * en indexes, la liste de categories de nutriments \n",
    "     * en valeurs, la contribution en g des categories de nutriments à la base alimentaire.\n",
    "\"\"\"\n",
    "def df_build_dict_nutrientCategory_intake(df_food) :\n",
    "    # Initialisation\n",
    "    dict_nutrientCategory_intake = dict()\n",
    "    dict_nutrient_intake        = dict()\n",
    "    dict_nutrition_categ        = dict()\n",
    "\n",
    "    for category in NUTRITION_CATEG.values() :\n",
    "        dict_nutrientCategory_intake[category] = 0\n",
    "\n",
    "    for item, value in NUTRITION_CATEG.items() :\n",
    "        returned_list = remove_pattern([item],'_100g')\n",
    "        dict_nutrition_categ[returned_list[0]] = value\n",
    "        \n",
    "    for nutrient in df_food.columns:\n",
    "        if nutrient in dict_nutrition_categ :\n",
    "            dict_nutrient_intake[nutrient] = 0\n",
    "\n",
    "    \n",
    "    for nutrient in df_food.columns:\n",
    "        if nutrient in  dict_nutrition_categ:\n",
    "            dict_nutrient_intake[nutrient] = df_food[nutrient].sum()\n",
    "\n",
    "    for nutrient in list_nutrient:\n",
    "        if nutrient in dict_nutrition_categ :\n",
    "            category = dict_nutrition_categ[nutrient]\n",
    "            dict_nutrientCategory_intake[category] +=  dict_nutrient_intake[nutrient]\n",
    "\n",
    "        \n",
    "    return dict_nutrientCategory_intake\n",
    "# ------------------------------------------------------------------------------\n",
    "\n",
    "# ------------------------------------------------------------------------------\n",
    "#\n",
    "# ------------------------------------------------------------------------------\n",
    "def dict_display_lorenz(dict_to_display) :\n",
    "    \"\"\"Affiche la courbe de Lorenz des valeurs contenues dans le dictionnaire passé en parametre.\n",
    "    Le coefficient de GINI est affiché.\n",
    "    \"\"\"\n",
    "    ser = pd.Series(dict_to_display)\n",
    "    lorenz = np.cumsum(np.sort(ser)) / ser.sum()\n",
    "    lorenz = np.append([0],lorenz) # La courbe de Lorenz commence à 0\n",
    "\n",
    "    plt.plot(np.linspace(0,1,len(lorenz)),lorenz,drawstyle='steps-post')\n",
    "    plt.show()\n",
    "    aire_ss_courbe = lorenz[:-1].sum()/len(lorenz) # aire sous la courbe de Lorenz. La dernière valeur ne participe pas à l'aire, d'où \"[:-1]\"\n",
    "    S = 0.5 - aire_ss_courbe # aire entre la 1e bissectrice et la courbe de Lorenz\n",
    "    gini = 2*S\n",
    "    print(\"\\n ---> Coefficient de GINI= {}\".format(gini))\n",
    "# ------------------------------------------------------------------------------\n",
    "    \n",
    "# ------------------------------------------------------------------------------\n",
    "#\n",
    "# ------------------------------------------------------------------------------\n",
    "def df_display_linear_regression_from_list(df_param, var_pivot,list_var) :\n",
    "    \"\"\" Display linear regression between variable var_pivot given as parameter \n",
    "    and variables included into list_var given as parameter.\n",
    "    \"\"\"\n",
    "    df_dimensions(df_param)\n",
    "    for var in list_var : \n",
    "        df = df_param.copy()\n",
    "        if var in df.columns :\n",
    "            zmin, zmax = df_boxplot_min_max(df , var)\n",
    "            df = df[df[var]<=zmax ]\n",
    "            df = df[df[var]>=zmin ]\n",
    "            df = df[df[var]>0.0]\n",
    "            df_sns_joint_plot(df, var_pivot, var, parameter_color='grey')\n",
    "            df_dimensions(df_param)\n",
    "# ------------------------------------------------------------------------------\n",
    "    "
   ]
  },
  {
   "cell_type": "markdown",
   "metadata": {},
   "source": [
    "# Acquisition des données"
   ]
  },
  {
   "cell_type": "code",
   "execution_count": 3,
   "metadata": {},
   "outputs": [
    {
     "name": "stderr",
     "output_type": "stream",
     "text": [
      "/home/bangui/anaconda3/lib/python3.6/site-packages/IPython/core/interactiveshell.py:2728: DtypeWarning: Columns (0,3,5,19,20,24,25,26,27,28,35,36,37,38,39,48) have mixed types. Specify dtype option on import or set low_memory=False.\n",
      "  interactivity=interactivity, compiler=compiler, result=result)\n"
     ]
    }
   ],
   "source": [
    "fileName = './tmp/fr.openfoodfacts.org.products-file.csv'\n",
    "\n",
    "df_food_raw = pd.read_csv(fileName, sep='\\t', low_memory=True)"
   ]
  },
  {
   "cell_type": "markdown",
   "metadata": {},
   "source": [
    "La méthodologie a consistée à travailler sur une fraction des données de la base, contruire un modèle de données en formulant des hypothèses.\n",
    "\n",
    "Cette fraction a été incrémentée au fil de l'létude et, une fois le modèle retenu satisfaisant, ce dernier a été étendu à l'ensemble de la base.\n",
    "\n",
    "Les hypothèses et critères retenus pour le modéle sont expicités plus bas."
   ]
  },
  {
   "cell_type": "code",
   "execution_count": 4,
   "metadata": {},
   "outputs": [
    {
     "name": "stdout",
     "output_type": "stream",
     "text": [
      "-------oOo-------\n",
      "Nombre (lignes, colonnes)  = (320772,162) \n",
      "Utilisation mémoire : 1479277404 bytes \n",
      "-------oOo-------\n"
     ]
    },
    {
     "data": {
      "text/plain": [
       "(320772, 162)"
      ]
     },
     "execution_count": 4,
     "metadata": {},
     "output_type": "execute_result"
    }
   ],
   "source": [
    "frac = 1.0\n",
    "if frac == 1.0 :\n",
    "    df_food = df_food_raw.copy()\n",
    "else :\n",
    "    df_food = df_food_raw.sample(frac, replace=False)\n",
    "#Dimensions caractéristiques de l'échantillon : \n",
    "df_dimensions(df_food)"
   ]
  },
  {
   "cell_type": "markdown",
   "metadata": {},
   "source": [
    "Suppression du motif '_100g' dans le nom des colonnes"
   ]
  },
  {
   "cell_type": "code",
   "execution_count": 5,
   "metadata": {},
   "outputs": [],
   "source": [
    "new_list = remove_pattern(list(df_food.columns),'_100g') \n",
    "df_food.columns =new_list"
   ]
  },
  {
   "cell_type": "markdown",
   "metadata": {},
   "source": [
    "Simplification du modéle : \n",
    "----------------------------\n",
    "1) Réduction de sa dimension en réduisant le nombre de colonnes.\n",
    "\n",
    "2) Réduction de sa complexité en réduisant le nombre de lignes.\n",
    "\n",
    "Justifications : \n",
    "------------------\n",
    "A) Constat a été fait que toutes les informations de la base ne sont pas exploitables.\n",
    "Des données quantitatives sont absentes de valeurs, des données qualitatives ne sont pas exprimées.\n",
    "\n",
    "B) Par ailleurs, l'étude est menée principalement sous l'angle des nutriments et de l'apport énergétique.\n"
   ]
  },
  {
   "cell_type": "markdown",
   "metadata": {},
   "source": [
    "\n",
    "## Fusion des colonnes complementaires : product_name, generic_name, categories"
   ]
  },
  {
   "cell_type": "code",
   "execution_count": 6,
   "metadata": {},
   "outputs": [
    {
     "name": "stdout",
     "output_type": "stream",
     "text": [
      "-------oOo-------\n",
      "Nombre (lignes, colonnes)  = (320772,161) \n",
      "Utilisation mémoire : 1469885828 bytes \n",
      "-------oOo-------\n",
      "-------oOo-------\n",
      "Nombre (lignes, colonnes)  = (320772,160) \n",
      "Utilisation mémoire : 1456712183 bytes \n",
      "-------oOo-------\n"
     ]
    }
   ],
   "source": [
    "%aimport SeriesExplorer\n",
    "from SeriesExplorer import *\n",
    "df_food = df_merge_columns(df_food, 'product_name', 'generic_name')\n",
    "\n",
    "df_food = df_merge_columns(df_food, 'product_name', 'categories')"
   ]
  },
  {
   "cell_type": "markdown",
   "metadata": {},
   "source": [
    "## Purge des lignes dont le nom de produit n'est pas renseigné"
   ]
  },
  {
   "cell_type": "code",
   "execution_count": 7,
   "metadata": {},
   "outputs": [
    {
     "name": "stdout",
     "output_type": "stream",
     "text": [
      "-------oOo-------\n",
      "Nombre (lignes, colonnes)  = (320772,160) \n",
      "Utilisation mémoire : 1456712183 bytes \n",
      "-------oOo-------\n",
      "-------oOo-------\n",
      "Nombre (lignes, colonnes)  = (304052,160) \n",
      "Utilisation mémoire : 1401828927 bytes \n",
      "-------oOo-------\n"
     ]
    }
   ],
   "source": [
    "df_food = df_drop_raws_from_nan_value(df_food, 'product_name')"
   ]
  },
  {
   "cell_type": "markdown",
   "metadata": {},
   "source": [
    "## Suppression des variables non consistantes pour l'analyse"
   ]
  },
  {
   "cell_type": "markdown",
   "metadata": {},
   "source": [
    " Les variables consistantes dans le contexte de cete analyse sont les nutriments et autres variables \n",
    " exprimées en densité energétique.\n",
    " \n",
    " Le liste des nutriments est issue du fichier qui décrit la base alimentaire."
   ]
  },
  {
   "cell_type": "markdown",
   "metadata": {},
   "source": [
    "Cette liste est constituée a partir de la lecture du fichier nutrition_fact.txt\n",
    "\n",
    "Ce dernier est issue d'opérations d'édition sur le fichier original datafields.txt."
   ]
  },
  {
   "cell_type": "code",
   "execution_count": 8,
   "metadata": {},
   "outputs": [],
   "source": [
    "%aimport SeriesExplorer\n",
    "from SeriesExplorer import *\n",
    "\n",
    "list_nutrient_kept = SeriesExplorer.read('./data/nutrition_fact.txt')\n",
    "list_nutrient_kept.append('product_name')\n",
    "\n",
    "list_nutrient_kept = remove_pattern(list_nutrient_kept,'_100g')"
   ]
  },
  {
   "cell_type": "code",
   "execution_count": 9,
   "metadata": {},
   "outputs": [
    {
     "name": "stdout",
     "output_type": "stream",
     "text": [
      "-------oOo-------\n",
      "Nombre (lignes, colonnes)  = (304052,86) \n",
      "Utilisation mémoire : 226551367 bytes \n",
      "-------oOo-------\n"
     ]
    }
   ],
   "source": [
    "df_food = df_keep_columns_from_list(df_food, list_nutrient_kept)"
   ]
  },
  {
   "cell_type": "markdown",
   "metadata": {},
   "source": [
    "## Purge des colonnes dont toutes les valeurs sont nan"
   ]
  },
  {
   "cell_type": "code",
   "execution_count": 10,
   "metadata": {},
   "outputs": [
    {
     "name": "stdout",
     "output_type": "stream",
     "text": [
      "-------oOo-------\n",
      "Nombre (lignes, colonnes)  = (304052,77) \n",
      "Utilisation mémoire : 204659623 bytes \n",
      "-------oOo-------\n"
     ]
    },
    {
     "data": {
      "text/plain": [
       "(304052, 77)"
      ]
     },
     "execution_count": 10,
     "metadata": {},
     "output_type": "execute_result"
    }
   ],
   "source": [
    "# axis = 1 : colonnes\n",
    "# inplace=True : application au df, retour None.\n",
    "# how : toutes les valeurs des colonnes a NaN\n",
    "df_food.dropna(axis=1, how='all', inplace=True)\n",
    "df_dimensions(df_food)"
   ]
  },
  {
   "cell_type": "markdown",
   "metadata": {},
   "source": [
    "## Purge des lignes dont toutes les valeurs sont NaN :"
   ]
  },
  {
   "cell_type": "code",
   "execution_count": 11,
   "metadata": {},
   "outputs": [
    {
     "name": "stdout",
     "output_type": "stream",
     "text": [
      "-------oOo-------\n",
      "Nombre (lignes, colonnes)  = (304052,77) \n",
      "Utilisation mémoire : 204659623 bytes \n",
      "-------oOo-------\n"
     ]
    },
    {
     "data": {
      "text/plain": [
       "(304052, 77)"
      ]
     },
     "execution_count": 11,
     "metadata": {},
     "output_type": "execute_result"
    }
   ],
   "source": [
    "#Purge des lignes dont toutes les valeurs sont NaN\n",
    "df_food.dropna(axis=0, how='all', inplace=True)\n",
    "df_dimensions(df_food)"
   ]
  },
  {
   "cell_type": "code",
   "execution_count": 12,
   "metadata": {},
   "outputs": [],
   "source": [
    "df_save = df_food.copy()"
   ]
  },
  {
   "cell_type": "markdown",
   "metadata": {},
   "source": [
    "## Traitement des valeurs erratiques"
   ]
  },
  {
   "cell_type": "markdown",
   "metadata": {},
   "source": [
    "Ce traitement a fait l'objet de plusieurs tactiques.\n",
    "\n",
    "Au final, les valeurs erratiques ont été imputées à 0.\n",
    "\n",
    "Ce choix a semblé cohérent avec le nom des aliments qui font l'objet du traitement.\n"
   ]
  },
  {
   "cell_type": "code",
   "execution_count": 13,
   "metadata": {},
   "outputs": [],
   "source": [
    "df_food = df_save.copy()"
   ]
  },
  {
   "cell_type": "code",
   "execution_count": 14,
   "metadata": {},
   "outputs": [
    {
     "name": "stdout",
     "output_type": "stream",
     "text": [
      "-------oOo-------\n",
      "Nombre (lignes, colonnes)  = (304052,77) \n",
      "Utilisation mémoire : 204659623 bytes \n",
      "-------oOo-------\n",
      "Food : Grade A Fancy Chopped Spinach / Nutriment : sugars / Index= 8582 / Value= -1.2 --> 0.0\n",
      "Food : Select, Spicy Red Bell Pepper Pasta Sauce / Nutriment : sugars / Index= 18209 / Value= -0.8 --> 0.0\n",
      "Food : Xtra Butter Microwave Pop Corn, Butter / Nutriment : trans-fat / Index= 23576 / Value= -3.03 --> 0.0\n",
      "Food : Traditional Tender Cracklins Chicharrones / Nutriment : fiber / Index= 23784 / Value= -6.7 --> 0.0\n",
      "Food : Venus, Cuttlefish Balls / Nutriment : selenium / Index= 28324 / Value= -2e-06 --> 0.0\n",
      "Food : Whole Cashews / Nutriment : proteins / Index= 33781 / Value= -3.57 --> 0.0\n",
      "Food : Cheez Waffies / Nutriment : vitamin-c / Index= 41538 / Value= -0.0021 --> 0.0\n",
      "Food : Cocoa Dyno-Bites, Sweetened Rice Cereal With Real Cocoa / Nutriment : copper / Index= 54954 / Value= -6.896552 --> 0.0\n",
      "Food : Flavor Aid, Soft Drink Mix, Lemon / Nutriment : vitamin-a / Index= 80440 / Value= -0.0003396 --> 0.0\n",
      "Food : Gelato Truffle On A Stick / Nutriment : trans-fat / Index= 107990 / Value= -0.7 --> 0.0\n",
      "Food : Gourmet Blends, Seasoning, Garlic Pepper / Nutriment : proteins / Index= 115310 / Value= -500.0 --> 0.0\n",
      "Food : Hummous, Black Truffle / Nutriment : sugars / Index= 117739 / Value= -3.57 --> 0.0\n",
      "Food : Rugen Fisch, Salmon Fillets Skinless And Boneless / Nutriment : trans-fat / Index= 120692 / Value= -1.0 --> 0.0\n",
      "Food : Crackers / Nutriment : sugars / Index= 146284 / Value= -6.67 --> 0.0\n",
      "Food : Italianavera, Tomato Sauce With Gaeta Olives & Sicilian Capers, Olives & Sicilian Capers / Nutriment : sugars / Index= 150858 / Value= -6.25 --> 0.0\n",
      "Food : Crispy Wheat Crackers / Nutriment : trans-fat / Index= 153498 / Value= -3.57 --> 0.0\n",
      "Food : Organic Pumpkin Seeds / Nutriment : sugars / Index= 164030 / Value= -17.86 --> 0.0\n",
      "Food : Lightly Dried Cilantro / Nutriment : proteins / Index= 169119 / Value= -800.0 --> 0.0\n",
      "Food : France / Nutriment : biotin / Index= 189152 / Value= -1.0 --> 0.0\n",
      "Food : France / Nutriment : pantothenic-acid / Index= 189152 / Value= -1.0 --> 0.0\n",
      "Food : France / Nutriment : biotin / Index= 189160 / Value= -2.0 --> 0.0\n",
      "Food : France / Nutriment : pantothenic-acid / Index= 189160 / Value= -2.0 --> 0.0\n",
      "Food : France / Nutriment : biotin / Index= 189162 / Value= -1.0 --> 0.0\n",
      "Food : France / Nutriment : pantothenic-acid / Index= 189162 / Value= -1.0 --> 0.0\n",
      "Food : France / Nutriment : biotin / Index= 189260 / Value= -1.0 --> 0.0\n",
      "Food : France / Nutriment : pantothenic-acid / Index= 189260 / Value= -1.0 --> 0.0\n",
      "Food : France / Nutriment : biotin / Index= 189262 / Value= -1.0 --> 0.0\n",
      "Food : France / Nutriment : pantothenic-acid / Index= 189262 / Value= -1.0 --> 0.0\n",
      "Food : France / Nutriment : biotin / Index= 189269 / Value= -1.0 --> 0.0\n",
      "Food : France / Nutriment : pantothenic-acid / Index= 189269 / Value= -1.0 --> 0.0\n",
      "Food : France / Nutriment : biotin / Index= 189272 / Value= -1.0 --> 0.0\n",
      "Food : France / Nutriment : pantothenic-acid / Index= 189272 / Value= -1.0 --> 0.0\n",
      "Food : France / Nutriment : biotin / Index= 189417 / Value= -1.0 --> 0.0\n",
      "Food : France / Nutriment : pantothenic-acid / Index= 189417 / Value= -1.0 --> 0.0\n",
      "Food : Caprice des dieux / Nutriment : sugars / Index= 195761 / Value= -0.1 --> 0.0\n",
      "Food : Lamthong, Fruit Cocktail In Syrup / Nutriment : iron / Index= 316892 / Value= -0.00026 --> 0.0\n",
      "-------oOo-------\n",
      "Nombre (lignes, colonnes)  = (304052,77) \n",
      "Utilisation mémoire : 213048231 bytes \n",
      "-------oOo-------\n"
     ]
    }
   ],
   "source": [
    "correction_factor = 0\n",
    "df_food = df_change_erratic_values(df_food)"
   ]
  },
  {
   "cell_type": "markdown",
   "metadata": {},
   "source": [
    "## Purge des colonnes dont min == max ou zmin == zmax"
   ]
  },
  {
   "cell_type": "code",
   "execution_count": 15,
   "metadata": {},
   "outputs": [
    {
     "name": "stdout",
     "output_type": "stream",
     "text": [
      "-------oOo-------\n",
      "Nombre (lignes, colonnes)  = (304052,77) \n",
      "Utilisation mémoire : 213048231 bytes \n",
      "-------oOo-------\n",
      "Purge nutrient = caprylic-acid\n",
      "Purge nutrient = myristic-acid\n",
      "Purge nutrient = palmitic-acid\n",
      "Purge nutrient = stearic-acid\n",
      "Purge nutrient = montanic-acid\n",
      "-------oOo-------\n",
      "Nombre (lignes, colonnes)  = (304052,72) \n",
      "Utilisation mémoire : 200886151 bytes \n",
      "-------oOo-------\n"
     ]
    }
   ],
   "source": [
    "df_food = df_drop_columns_min_equal_max(df_food)"
   ]
  },
  {
   "cell_type": "code",
   "execution_count": 18,
   "metadata": {},
   "outputs": [],
   "source": [
    "df_save = df_food.copy()"
   ]
  },
  {
   "cell_type": "raw",
   "metadata": {},
   "source": [
    "df_food = df_save.copy()"
   ]
  },
  {
   "cell_type": "code",
   "execution_count": 16,
   "metadata": {},
   "outputs": [
    {
     "name": "stdout",
     "output_type": "stream",
     "text": [
      "-------oOo-------\n",
      "Nombre (lignes, colonnes)  = (304052,72) \n",
      "Utilisation mémoire : 200886151 bytes \n",
      "-------oOo-------\n",
      "-------oOo-------\n",
      "Nombre (lignes, colonnes)  = (304052,71) \n",
      "Utilisation mémoire : 198453735 bytes \n",
      "-------oOo-------\n"
     ]
    }
   ],
   "source": [
    "df_food = df_drop_columns_zmin_equal_zmax(df_food)"
   ]
  },
  {
   "cell_type": "raw",
   "metadata": {},
   "source": [
    "df_food['vitamin-a_100g'].describe()"
   ]
  },
  {
   "cell_type": "code",
   "execution_count": 188,
   "metadata": {},
   "outputs": [],
   "source": [
    "df_save = df_food.copy()"
   ]
  },
  {
   "cell_type": "markdown",
   "metadata": {},
   "source": [
    "## Calcul du seuil de valeurs a NaN"
   ]
  },
  {
   "cell_type": "code",
   "execution_count": 17,
   "metadata": {},
   "outputs": [
    {
     "name": "stdout",
     "output_type": "stream",
     "text": [
      "Seuil= 0.0% / Nutriments= 71\n",
      "Seuil= 5.0% / Nutriments= 17\n",
      "Seuil= 10.0% / Nutriments= 14\n",
      "Seuil= 15.0% / Nutriments= 14\n",
      "Seuil= 20.0% / Nutriments= 14\n",
      "Seuil= 25.0% / Nutriments= 14\n",
      "Seuil= 30.0% / Nutriments= 14\n",
      "Seuil= 35.0% / Nutriments= 14\n",
      "Seuil= 40.0% / Nutriments= 14\n",
      "Seuil= 45.0% / Nutriments= 14\n",
      "Seuil= 50.0% / Nutriments= 9\n",
      "Seuil= 55.00000000000001% / Nutriments= 9\n",
      "Seuil= 60.0% / Nutriments= 9\n",
      "Seuil= 65.0% / Nutriments= 9\n",
      "Seuil= 70.0% / Nutriments= 8\n",
      "Seuil= 75.0% / Nutriments= 7\n",
      "Seuil= 80.0% / Nutriments= 4\n",
      "Seuil= 85.0% / Nutriments= 1\n",
      "Seuil= 90.0% / Nutriments= 1\n",
      "Seuil= 95.0% / Nutriments= 1\n",
      "Seuil= 100.0% / Nutriments= 1\n"
     ]
    }
   ],
   "source": [
    "dict_scan_nan_threshold = df_scan_nan_threshold(df_food,step=5)"
   ]
  },
  {
   "cell_type": "code",
   "execution_count": 18,
   "metadata": {},
   "outputs": [
    {
     "data": {
      "image/png": "[encoded data removed]",
      "text/plain": [
       "<matplotlib.figure.Figure at 0xa9bb7c0c>"
      ]
     },
     "metadata": {},
     "output_type": "display_data"
    }
   ],
   "source": [
    "mylist=dict_scan_nan_threshold.values()\n",
    "#plt.plot(range(0,len(dict_scan_nan_threshold)), mylist, 'o-')\n",
    "plt.plot(range(0,105,5), mylist, 'o-')\n",
    "plt.show()"
   ]
  },
  {
   "cell_type": "code",
   "execution_count": 19,
   "metadata": {},
   "outputs": [],
   "source": [
    "nan_threshold = 45/100"
   ]
  },
  {
   "cell_type": "code",
   "execution_count": 20,
   "metadata": {},
   "outputs": [
    {
     "name": "stdout",
     "output_type": "stream",
     "text": [
      "-------oOo-------\n",
      "Nombre (lignes, colonnes)  = (304052,71) \n",
      "Utilisation mémoire : 198453735 bytes \n",
      "-------oOo-------\n",
      "-------oOo-------\n",
      "Nombre (lignes, colonnes)  = (304052,14) \n",
      "Utilisation mémoire : 59806023 bytes \n",
      "-------oOo-------\n"
     ]
    }
   ],
   "source": [
    "df_food_fract = df_drop_columns_from_nan_threshold(df_food, nan_threshold)"
   ]
  },
  {
   "cell_type": "code",
   "execution_count": 21,
   "metadata": {},
   "outputs": [],
   "source": [
    "df_food = df_food_fract.copy()"
   ]
  },
  {
   "cell_type": "code",
   "execution_count": 22,
   "metadata": {},
   "outputs": [],
   "source": [
    "df_food.replace(np.nan, 0, inplace=True)"
   ]
  },
  {
   "cell_type": "code",
   "execution_count": 23,
   "metadata": {},
   "outputs": [
    {
     "name": "stdout",
     "output_type": "stream",
     "text": [
      "-------oOo-------\n",
      "Nombre (lignes, colonnes)  = (304052,14) \n",
      "Utilisation mémoire : 51417415 bytes \n",
      "-------oOo-------\n"
     ]
    },
    {
     "data": {
      "text/plain": [
       "(304052, 14)"
      ]
     },
     "execution_count": 23,
     "metadata": {},
     "output_type": "execute_result"
    }
   ],
   "source": [
    "df_dimensions(df_food)"
   ]
  },
  {
   "cell_type": "code",
   "execution_count": 24,
   "metadata": {},
   "outputs": [
    {
     "name": "stdout",
     "output_type": "stream",
     "text": [
      "Percent of 0 values for product_name= 0.0%\n"
     ]
    }
   ],
   "source": [
    "print(\"Percent of 0 values for product_name= {}%\".format(len(df_food[df_food['product_name']==0])*100/df_food['product_name'].shape[0]))"
   ]
  },
  {
   "cell_type": "markdown",
   "metadata": {},
   "source": [
    "# Exploration et analyse des données"
   ]
  },
  {
   "cell_type": "markdown",
   "metadata": {},
   "source": [
    "La population est formée d'aliments.\n",
    "\n",
    "Les caractéristiques de cette population sont :\n",
    "\n",
    "  a) La densité énergétique\n",
    "  \n",
    "  b) Les nutriments\n",
    "\n",
    "Du point de vue nutritionnel, ces caractéristiques sont consistantes avec des recettes saines."
   ]
  },
  {
   "cell_type": "markdown",
   "metadata": {},
   "source": [
    "## Analyse univariée de la densité energétique"
   ]
  },
  {
   "cell_type": "markdown",
   "metadata": {},
   "source": [
    "### Outliers de la variable energy"
   ]
  },
  {
   "cell_type": "code",
   "execution_count": 25,
   "metadata": {},
   "outputs": [
    {
     "data": {
      "image/png": "[encoded data removed]",
      "text/plain": [
       "<matplotlib.figure.Figure at 0x9b5f264c>"
      ]
     },
     "metadata": {},
     "output_type": "display_data"
    }
   ],
   "source": [
    "df_boxplot_display(df_food, 'energy')"
   ]
  },
  {
   "cell_type": "code",
   "execution_count": 26,
   "metadata": {},
   "outputs": [],
   "source": [
    "df_save = df_food.copy()"
   ]
  },
  {
   "cell_type": "markdown",
   "metadata": {},
   "source": [
    "L'analyse va se centrer autour des aliments qui ont une densité d'energie dans les cantiles.\n",
    "\n",
    "Ce choix a été motivé par le fait que la prise en compte des outliers, au vu de la qualité des observations de la base, compliquait considérablement l'analyse du modéle statistique sous-jacent."
   ]
  },
  {
   "cell_type": "code",
   "execution_count": 27,
   "metadata": {},
   "outputs": [
    {
     "name": "stdout",
     "output_type": "stream",
     "text": [
      "-------oOo-------\n",
      "Nombre (lignes, colonnes)  = (304052,14) \n",
      "Utilisation mémoire : 51417415 bytes \n",
      "-------oOo-------\n",
      "-------oOo-------\n",
      "Nombre (lignes, colonnes)  = (302291,14) \n",
      "Utilisation mémoire : 51123509 bytes \n",
      "-------oOo-------\n"
     ]
    },
    {
     "data": {
      "text/plain": [
       "(302291, 14)"
      ]
     },
     "execution_count": 27,
     "metadata": {},
     "output_type": "execute_result"
    }
   ],
   "source": [
    "# Les outliers rendent difficiles la lecture et l'interprétation des graphiques.\n",
    "df_dimensions(df_food)\n",
    "df_food = df_food[df_food['energy']<=3500]\n",
    "df_dimensions(df_food)"
   ]
  },
  {
   "cell_type": "code",
   "execution_count": 28,
   "metadata": {},
   "outputs": [
    {
     "data": {
      "image/png": "[encoded data removed]",
      "text/plain": [
       "<matplotlib.figure.Figure at 0xabcde28c>"
      ]
     },
     "metadata": {},
     "output_type": "display_data"
    }
   ],
   "source": [
    "import seaborn as sns\n",
    "sns.set()\n",
    "sns.distplot(df_food['energy'], kde=False, bins=50);"
   ]
  },
  {
   "cell_type": "code",
   "execution_count": 29,
   "metadata": {},
   "outputs": [
    {
     "name": "stdout",
     "output_type": "stream",
     "text": [
      "-------oOo-------\n",
      "Nombre (lignes, colonnes)  = (302291,14) \n",
      "Utilisation mémoire : 51123509 bytes \n",
      "-------oOo-------\n",
      "-------oOo-------\n",
      "Nombre (lignes, colonnes)  = (247505,14) \n",
      "Utilisation mémoire : 42018662 bytes \n",
      "-------oOo-------\n"
     ]
    },
    {
     "data": {
      "text/plain": [
       "(247505, 14)"
      ]
     },
     "execution_count": 29,
     "metadata": {},
     "output_type": "execute_result"
    }
   ],
   "source": [
    "# Densité energétique >0\n",
    "df_dimensions(df_food)\n",
    "df_food = df_food[df_food['energy']>0.0]\n",
    "df_dimensions(df_food)"
   ]
  },
  {
   "cell_type": "code",
   "execution_count": 30,
   "metadata": {},
   "outputs": [
    {
     "data": {
      "image/png": "[encoded data removed]",
      "text/plain": [
       "<matplotlib.figure.Figure at 0xab2f31ac>"
      ]
     },
     "metadata": {},
     "output_type": "display_data"
    }
   ],
   "source": [
    "sns.distplot(df_food['energy'], kde=False, bins=50);"
   ]
  },
  {
   "cell_type": "markdown",
   "metadata": {},
   "source": [
    "### Distributions empiriques des nutriments"
   ]
  },
  {
   "cell_type": "markdown",
   "metadata": {},
   "source": [
    "2 modes émergent de la distribution de la densité energétique"
   ]
  },
  {
   "cell_type": "code",
   "execution_count": 32,
   "metadata": {},
   "outputs": [
    {
     "data": {
      "text/plain": [
       "['fat',\n",
       " 'saturated-fat',\n",
       " 'cholesterol',\n",
       " 'carbohydrates',\n",
       " 'sugars',\n",
       " 'fiber',\n",
       " 'proteins',\n",
       " 'sodium',\n",
       " 'vitamin-a',\n",
       " 'vitamin-c',\n",
       " 'calcium',\n",
       " 'iron']"
      ]
     },
     "execution_count": 32,
     "metadata": {},
     "output_type": "execute_result"
    }
   ],
   "source": [
    "if 'product_name' in list_nutrient :\n",
    "    list_nutrient.remove(\"product_name\")\n",
    "\n",
    "if 'energy' in list_nutrient :\n",
    "    list_nutrient.remove(\"energy\")\n",
    "list_nutrient"
   ]
  },
  {
   "cell_type": "code",
   "execution_count": 33,
   "metadata": {},
   "outputs": [
    {
     "data": {
      "text/plain": [
       "<matplotlib.figure.Figure at 0xab274dcc>"
      ]
     },
     "metadata": {},
     "output_type": "display_data"
    },
    {
     "data": {
      "image/png": "[encoded data removed]",
      "text/plain": [
       "<matplotlib.figure.Figure at 0xab27dc6c>"
      ]
     },
     "metadata": {},
     "output_type": "display_data"
    },
    {
     "data": {
      "image/png": "[encoded data removed]",
      "text/plain": [
       "<matplotlib.figure.Figure at 0xa9c7fecc>"
      ]
     },
     "metadata": {},
     "output_type": "display_data"
    },
    {
     "data": {
      "image/png": "[encoded data removed]",
      "text/plain": [
       "<matplotlib.figure.Figure at 0xa9bfb94c>"
      ]
     },
     "metadata": {},
     "output_type": "display_data"
    },
    {
     "data": {
      "image/png": "[encoded data removed]",
      "text/plain": [
       "<matplotlib.figure.Figure at 0xa9bfb34c>"
      ]
     },
     "metadata": {},
     "output_type": "display_data"
    },
    {
     "data": {
      "image/png": "[encoded data removed]",
      "text/plain": [
       "<matplotlib.figure.Figure at 0xa9ab12ac>"
      ]
     },
     "metadata": {},
     "output_type": "display_data"
    },
    {
     "data": {
      "image/png": "[encoded data removed]",
      "text/plain": [
       "<matplotlib.figure.Figure at 0xa8a6086c>"
      ]
     },
     "metadata": {},
     "output_type": "display_data"
    },
    {
     "data": {
      "image/png": "[encoded data removed]",
      "text/plain": [
       "<matplotlib.figure.Figure at 0xa9bb5a0c>"
      ]
     },
     "metadata": {},
     "output_type": "display_data"
    },
    {
     "data": {
      "image/png": "[encoded data removed]",
      "text/plain": [
       "<matplotlib.figure.Figure at 0xab2f348c>"
      ]
     },
     "metadata": {},
     "output_type": "display_data"
    },
    {
     "data": {
      "image/png": "[encoded data removed]",
      "text/plain": [
       "<matplotlib.figure.Figure at 0xab39f40c>"
      ]
     },
     "metadata": {},
     "output_type": "display_data"
    }
   ],
   "source": [
    "df_display_hist_from_list(df_food, list_nutrient )"
   ]
  },
  {
   "cell_type": "markdown",
   "metadata": {},
   "source": [
    "Ces distributions nous apprennent que certains nutriments ont une distribution multi-modale.\n",
    "\n",
    "Par ailleurs, ils sont de fréquences inégales et leur apport relatif varie d'un facteur 1000 pour certains d'entre-eux.\n",
    "\n",
    "Il sera tenu compte de ces points pour scorer les aliments."
   ]
  },
  {
   "cell_type": "markdown",
   "metadata": {},
   "source": [
    "### Boxplot des nutriments"
   ]
  },
  {
   "cell_type": "code",
   "execution_count": 53,
   "metadata": {},
   "outputs": [
    {
     "name": "stdout",
     "output_type": "stream",
     "text": [
      "============================================================\n",
      "----------------------------fat-----------------------------\n",
      "Moyenne: 11.685557912365406\n",
      "Mediane: 4.0\n",
      "Modes: 0    0.0\n",
      "dtype: float64\n",
      "Variance: 256.6102513869593\n",
      "Ecart:16.019059004415936\n"
     ]
    },
    {
     "data": {
      "image/png": "[encoded data removed]",
      "text/plain": [
       "<matplotlib.figure.Figure at 0x90c3abec>"
      ]
     },
     "metadata": {},
     "output_type": "display_data"
    },
    {
     "name": "stdout",
     "output_type": "stream",
     "text": [
      "============================================================\n",
      "-----------------------saturated-fat------------------------\n",
      "Moyenne: 4.520573131169067\n",
      "Mediane: 1.18\n",
      "Modes: 0    0.0\n",
      "dtype: float64\n",
      "Variance: 52.33467914940568\n",
      "Ecart:7.234271155369122\n"
     ]
    },
    {
     "data": {
      "image/png": "[encoded data removed]",
      "text/plain": [
       "<matplotlib.figure.Figure at 0x8fe7fdac>"
      ]
     },
     "metadata": {},
     "output_type": "display_data"
    },
    {
     "name": "stdout",
     "output_type": "stream",
     "text": [
      "============================================================\n",
      "------------------------cholesterol-------------------------\n",
      "Moyenne: 0.011623153249429304\n",
      "Mediane: 0.0\n",
      "Modes: 0    0.0\n",
      "dtype: float64\n",
      "Variance: 0.0747282429874119\n",
      "Ecart:0.27336467033508904\n"
     ]
    },
    {
     "data": {
      "image/png": "[encoded data removed]",
      "text/plain": [
       "<matplotlib.figure.Figure at 0x90410ccc>"
      ]
     },
     "metadata": {},
     "output_type": "display_data"
    },
    {
     "name": "stdout",
     "output_type": "stream",
     "text": [
      "============================================================\n",
      "-----------------------carbohydrates------------------------\n",
      "Moyenne: 30.91126301731278\n",
      "Mediane: 18.9\n",
      "Modes: 0    0.0\n",
      "dtype: float64\n",
      "Variance: 851.7991340524762\n",
      "Ecart:29.18559805884533\n"
     ]
    },
    {
     "data": {
      "image/png": "[encoded data removed]",
      "text/plain": [
       "<matplotlib.figure.Figure at 0x904170ec>"
      ]
     },
     "metadata": {},
     "output_type": "display_data"
    },
    {
     "name": "stdout",
     "output_type": "stream",
     "text": [
      "============================================================\n",
      "---------------------------sugars---------------------------\n",
      "Moyenne: 15.54640064273449\n",
      "Mediane: 5.21\n",
      "Modes: 0    0.0\n",
      "dtype: float64\n",
      "Variance: 440.4314124144791\n",
      "Ecart:20.98645783390992\n"
     ]
    },
    {
     "data": {
      "image/png": "[encoded data removed]",
      "text/plain": [
       "<matplotlib.figure.Figure at 0xabeffbcc>"
      ]
     },
     "metadata": {},
     "output_type": "display_data"
    },
    {
     "name": "stdout",
     "output_type": "stream",
     "text": [
      "============================================================\n",
      "---------------------------fiber----------------------------\n",
      "Moyenne: 2.264286934647785\n",
      "Mediane: 0.5\n",
      "Modes: 0    0.0\n",
      "dtype: float64\n",
      "Variance: 18.01369327954946\n",
      "Ecart:4.244254148793337\n"
     ]
    },
    {
     "data": {
      "image/png": "[encoded data removed]",
      "text/plain": [
       "<matplotlib.figure.Figure at 0x90433dec>"
      ]
     },
     "metadata": {},
     "output_type": "display_data"
    },
    {
     "name": "stdout",
     "output_type": "stream",
     "text": [
      "============================================================\n",
      "--------------------------proteins--------------------------\n",
      "Moyenne: 7.322984347386921\n",
      "Mediane: 5.0\n",
      "Modes: 0    0.0\n",
      "dtype: float64\n",
      "Variance: 66.9055535942303\n",
      "Ecart:8.17958150483448\n"
     ]
    },
    {
     "data": {
      "image/png": "[encoded data removed]",
      "text/plain": [
       "<matplotlib.figure.Figure at 0x90883a0c>"
      ]
     },
     "metadata": {},
     "output_type": "display_data"
    },
    {
     "name": "stdout",
     "output_type": "stream",
     "text": [
      "============================================================\n",
      "---------------------------sodium---------------------------\n",
      "Moyenne: 0.6183285140418633\n",
      "Mediane: 0.224\n",
      "Modes: 0    0.0\n",
      "dtype: float64\n",
      "Variance: 2624.964154115974\n",
      "Ecart:51.23440400859538\n"
     ]
    },
    {
     "data": {
      "image/png": "[encoded data removed]",
      "text/plain": [
       "<matplotlib.figure.Figure at 0x90ec9e0c>"
      ]
     },
     "metadata": {},
     "output_type": "display_data"
    },
    {
     "name": "stdout",
     "output_type": "stream",
     "text": [
      "============================================================\n",
      "-------------------------vitamin-a--------------------------\n",
      "Moyenne: 0.00021272007166723905\n",
      "Mediane: 0.0\n",
      "Modes: 0    0.0\n",
      "dtype: float64\n",
      "Variance: 0.002984217706100184\n",
      "Ecart:0.05462799379530777\n"
     ]
    },
    {
     "data": {
      "image/png": "[encoded data removed]",
      "text/plain": [
       "<matplotlib.figure.Figure at 0x90706fec>"
      ]
     },
     "metadata": {},
     "output_type": "display_data"
    },
    {
     "name": "stdout",
     "output_type": "stream",
     "text": [
      "============================================================\n",
      "-------------------------vitamin-c--------------------------\n",
      "Moyenne: 0.011543384256479668\n",
      "Mediane: 0.0\n",
      "Modes: 0    0.0\n",
      "dtype: float64\n",
      "Variance: 2.786213397167533\n",
      "Ecart:1.6691954340841977\n"
     ]
    },
    {
     "data": {
      "image/png": "[encoded data removed]",
      "text/plain": [
       "<matplotlib.figure.Figure at 0x9086afac>"
      ]
     },
     "metadata": {},
     "output_type": "display_data"
    },
    {
     "name": "stdout",
     "output_type": "stream",
     "text": [
      "============================================================\n",
      "--------------------------calcium---------------------------\n",
      "Moyenne: 0.0699938222944991\n",
      "Mediane: 0.0\n",
      "Modes: 0    0.0\n",
      "dtype: float64\n",
      "Variance: 6.272702877524978\n",
      "Ecart:2.504536459611834\n"
     ]
    },
    {
     "data": {
      "image/png": "[encoded data removed]",
      "text/plain": [
       "<matplotlib.figure.Figure at 0x8ff171ec>"
      ]
     },
     "metadata": {},
     "output_type": "display_data"
    },
    {
     "name": "stdout",
     "output_type": "stream",
     "text": [
      "============================================================\n",
      "----------------------------iron----------------------------\n",
      "Moyenne: 0.00203051182932062\n",
      "Mediane: 0.0\n",
      "Modes: 0    0.0\n",
      "dtype: float64\n",
      "Variance: 0.025911525265955034\n",
      "Ecart:0.1609705726707681\n"
     ]
    },
    {
     "data": {
      "image/png": "[encoded data removed]",
      "text/plain": [
       "<matplotlib.figure.Figure at 0x8ffdeeac>"
      ]
     },
     "metadata": {},
     "output_type": "display_data"
    }
   ],
   "source": [
    "df_boxplot_list_display(df_food,list_nutrient )"
   ]
  },
  {
   "cell_type": "code",
   "execution_count": null,
   "metadata": {},
   "outputs": [],
   "source": []
  },
  {
   "cell_type": "markdown",
   "metadata": {},
   "source": [
    "### Distribution des catégories de nutriments dans l'alimentation"
   ]
  },
  {
   "cell_type": "raw",
   "metadata": {},
   "source": [
    "list_nutrient = list(df_food.columns)\n",
    "list_nutrient.remove('energy')\n",
    "list_nutrient.remove('product_name')\n",
    "list_nutrient"
   ]
  },
  {
   "cell_type": "code",
   "execution_count": 54,
   "metadata": {},
   "outputs": [],
   "source": [
    "dict_nutrientCategory_intake = df_build_dict_nutrientCategory_intake(df_food)"
   ]
  },
  {
   "cell_type": "code",
   "execution_count": 55,
   "metadata": {},
   "outputs": [
    {
     "data": {
      "image/png": "[encoded data removed]",
      "text/plain": [
       "<matplotlib.figure.Figure at 0x8ffe32ec>"
      ]
     },
     "metadata": {},
     "output_type": "display_data"
    }
   ],
   "source": [
    "title  = \"Distribution empirique d'apports par categories de nutriments\"\n",
    "xlabel = 'Catégories'\n",
    "ylabel = \"Apport nutritionnels à la base (g)\"\n",
    "fontSize = 10\n",
    "color = 'b'\n",
    "df_display_dict_hist(dict_nutrientCategory_intake, title, xlabel, ylabel, fontSize, color)"
   ]
  },
  {
   "cell_type": "code",
   "execution_count": 56,
   "metadata": {},
   "outputs": [],
   "source": [
    "dict_nutrientCategory_count, dict_nutrientCategory_freq = get_dict_category_count(df_food)"
   ]
  },
  {
   "cell_type": "raw",
   "metadata": {},
   "source": [
    "df_category_count = pd.DataFrame(dict_nutrientCategory_count, index= dict_nutrientCategory_count.keys())\n",
    "df_category_freq  = pd.DataFrame(dict_nutrientCategory_freq, index= dict_nutrientCategory_freq.keys())"
   ]
  },
  {
   "cell_type": "code",
   "execution_count": 57,
   "metadata": {},
   "outputs": [
    {
     "data": {
      "image/png": "[encoded data removed]",
      "text/plain": [
       "<matplotlib.figure.Figure at 0x9192514c>"
      ]
     },
     "metadata": {},
     "output_type": "display_data"
    }
   ],
   "source": [
    "title = \"Distribution empirique de la frequence des categories de nutriments\"\n",
    "xlabel = 'Catégories'\n",
    "ylabel = \"Frequence\"\n",
    "fontsize = 10\n",
    "color = 'b'\n",
    "df_display_dict_hist(dict_nutrientCategory_freq, title, xlabel, ylabel, fontSize, color)"
   ]
  },
  {
   "cell_type": "markdown",
   "metadata": {},
   "source": [
    "Le modéle des données a fait disparaître les acides gras.\n",
    "\n",
    "Les vitamines, à l'état de traces en termes d'apports, sont représentés dans la base de données re-modelée."
   ]
  },
  {
   "cell_type": "markdown",
   "metadata": {},
   "source": [
    "### Concentration des apports alimentaires"
   ]
  },
  {
   "cell_type": "code",
   "execution_count": 58,
   "metadata": {},
   "outputs": [
    {
     "data": {
      "image/png": "[encoded data removed]",
      "text/plain": [
       "<matplotlib.figure.Figure at 0x90c6c42c>"
      ]
     },
     "metadata": {},
     "output_type": "display_data"
    },
    {
     "name": "stdout",
     "output_type": "stream",
     "text": [
      "\n",
      " ---> Coefficient de GINI= 0.89392643594093\n"
     ]
    }
   ],
   "source": [
    "dict_display_lorenz(dict_nutrientCategory_intake)"
   ]
  },
  {
   "cell_type": "markdown",
   "metadata": {},
   "source": [
    "Les apports nutritionnels sont concentrés sur quelques nutriments.\n",
    "\n",
    "15% des nutriments concentrent 80% des appports."
   ]
  },
  {
   "cell_type": "markdown",
   "metadata": {},
   "source": [
    "# Recommandations par le scoring"
   ]
  },
  {
   "cell_type": "markdown",
   "metadata": {},
   "source": [
    "## Extraction du scoring"
   ]
  },
  {
   "cell_type": "code",
   "execution_count": 59,
   "metadata": {},
   "outputs": [
    {
     "name": "stdout",
     "output_type": "stream",
     "text": [
      "nutrition-score-fr_100g\n",
      "nutrition-score-uk_100g\n"
     ]
    }
   ],
   "source": [
    "for col in df_food_raw.columns:\n",
    "    if 'sco' in col :\n",
    "        print(col)"
   ]
  },
  {
   "cell_type": "markdown",
   "metadata": {},
   "source": [
    "## Analyse du scoring"
   ]
  },
  {
   "cell_type": "code",
   "execution_count": 60,
   "metadata": {},
   "outputs": [
    {
     "name": "stdout",
     "output_type": "stream",
     "text": [
      "-------oOo-------\n",
      "Nombre (lignes, colonnes)  = (172741,162) \n",
      "Utilisation mémoire : 859534120 bytes \n",
      "-------oOo-------\n"
     ]
    },
    {
     "data": {
      "text/plain": [
       "(172741, 162)"
      ]
     },
     "execution_count": 60,
     "metadata": {},
     "output_type": "execute_result"
    }
   ],
   "source": [
    "df_score_native_fr = df_food_raw[df_food_raw['nutrition-score-fr_100g']>0]\n",
    "df_score_native_uk = df_food_raw[df_food_raw['nutrition-score-uk_100g']>0]\n",
    "df_dimensions(df_score_native_fr)"
   ]
  },
  {
   "cell_type": "code",
   "execution_count": 61,
   "metadata": {},
   "outputs": [
    {
     "data": {
      "image/png": "[encoded data removed]",
      "text/plain": [
       "<matplotlib.figure.Figure at 0xab28ebac>"
      ]
     },
     "metadata": {},
     "output_type": "display_data"
    }
   ],
   "source": [
    "z = pd.DataFrame(df_score_native_uk['nutrition-score-fr_100g']).boxplot(showfliers= False, patch_artist=True, medianprops=medianprops,showmeans=True, meanprops=meanprops)"
   ]
  },
  {
   "cell_type": "code",
   "execution_count": 62,
   "metadata": {},
   "outputs": [
    {
     "data": {
      "image/png": "[encoded data removed]",
      "text/plain": [
       "<matplotlib.figure.Figure at 0xa9b7fb6c>"
      ]
     },
     "metadata": {},
     "output_type": "display_data"
    }
   ],
   "source": [
    "z = pd.DataFrame(df_score_native_uk['nutrition-score-uk_100g']).boxplot(showfliers= False, patch_artist=True, medianprops=medianprops,showmeans=True, meanprops=meanprops)"
   ]
  },
  {
   "cell_type": "code",
   "execution_count": 63,
   "metadata": {},
   "outputs": [
    {
     "name": "stdout",
     "output_type": "stream",
     "text": [
      "-------oOo-------\n",
      "Nombre (lignes, colonnes)  = (247505,16) \n",
      "Utilisation mémoire : 45978742 bytes \n",
      "-------oOo-------\n"
     ]
    },
    {
     "data": {
      "text/plain": [
       "(247505, 16)"
      ]
     },
     "execution_count": 63,
     "metadata": {},
     "output_type": "execute_result"
    }
   ],
   "source": [
    "df_food['native_score_fr'] = df_score_native_fr['nutrition-score-fr_100g']\n",
    "df_food['native_score_en'] = df_score_native_uk['nutrition-score-uk_100g']\n",
    "df_dimensions(df_food)"
   ]
  },
  {
   "cell_type": "markdown",
   "metadata": {},
   "source": [
    "## Recommandations"
   ]
  },
  {
   "cell_type": "code",
   "execution_count": 66,
   "metadata": {},
   "outputs": [
    {
     "name": "stdout",
     "output_type": "stream",
     "text": [
      "18.0\n",
      "Dark Chocolate Coconut Chews\n",
      "Dark Chocolate Sea Salt & Turbinado Almonds\n",
      "Lion Peanut x2\n",
      "Milk Chocolate Peanut Butter Malt Balls\n",
      "Yogurt Pretzels\n",
      "Chili Mango\n",
      "Milk Chocolate Pretzels\n",
      "Butter Croissants\n",
      "Biscuit\n",
      "Biscuit\n",
      "\n",
      " --------------------- \n",
      "6.0\n",
      "Pain Burger Artisan\n",
      "Quiche Lorraine\n",
      "Bolillos\n",
      "Sliced Plain Bagel\n",
      "Freshly Baked Italian Loaf\n",
      "La Brea Bakery Ciabatta Loaf Freshly Baked In Store\n",
      "Lithuanian Rye Bread\n",
      "Ryan's, Juice Melange, Fuji Pom Blend\n",
      "Ryan's, Lemonade\n",
      "Ryan's, Spiced Apple Cider\n"
     ]
    }
   ],
   "source": [
    "score = 'native_score_fr'\n",
    "df_recomandations_display(df_food, score, countMax=10)"
   ]
  },
  {
   "cell_type": "markdown",
   "metadata": {},
   "source": [
    "# Scoring par pondération"
   ]
  },
  {
   "cell_type": "code",
   "execution_count": 68,
   "metadata": {},
   "outputs": [
    {
     "name": "stdout",
     "output_type": "stream",
     "text": [
      "\n",
      "Liste de nutriments à apports positifs pour la santé: ['carbohydrates', 'fiber', 'proteins', 'sodium', 'vitamin-a', 'vitamin-c', 'calcium', 'iron']\n",
      "\n",
      "Liste de nutriments à apports négatifs pour la santé : ['fat', 'saturated-fat', 'cholesterol', 'sugars']\n"
     ]
    }
   ],
   "source": [
    "list_nutrient_plus = list_nutrient.copy()\n",
    "\n",
    "if 'product_name' in list_nutrient_plus :\n",
    "    list_nutrient_plus.remove('product_name')\n",
    "\n",
    "if 'energy' in list_nutrient_plus :\n",
    "    list_nutrient_plus.remove('energy')\n",
    "\n",
    "if 'fat' in list_nutrient_plus :\n",
    "    list_nutrient_plus.remove('fat')\n",
    "\n",
    "if 'saturated-fat' in list_nutrient_plus :\n",
    "    list_nutrient_plus.remove('saturated-fat')\n",
    "\n",
    "if 'trans-fat' in list_nutrient_plus :\n",
    "    list_nutrient_plus.remove('trans-fat')\n",
    "\n",
    "if 'cholesterol' in list_nutrient_plus :\n",
    "    list_nutrient_plus.remove('cholesterol')\n",
    "\n",
    "if 'sugars' in list_nutrient_plus :\n",
    "    list_nutrient_plus.remove('sugars')\n",
    "\n",
    "print(\"\\nListe de nutriments à apports positifs pour la santé: {}\".format(list_nutrient_plus))    \n",
    "\n",
    "list_nutrient_minus = list_nutrient.copy()\n",
    "if 'product_name' in list_nutrient_minus :\n",
    "    list_nutrient_minus.remove('product_name')\n",
    "\n",
    "if 'energy' in list_nutrient_minus :\n",
    "    list_nutrient_minus.remove('energy')\n",
    "\n",
    "for nutrient in list_nutrient_plus :\n",
    "    list_nutrient_minus.remove(nutrient)\n",
    "\n",
    "print(\"\\nListe de nutriments à apports négatifs pour la santé : {}\".format(list_nutrient_minus))\n"
   ]
  },
  {
   "cell_type": "markdown",
   "metadata": {},
   "source": [
    "### Contraintes du modèle : cas des hydrates de carbone"
   ]
  },
  {
   "cell_type": "raw",
   "metadata": {},
   "source": [
    "df_food = df_save.copy()"
   ]
  },
  {
   "cell_type": "code",
   "execution_count": 69,
   "metadata": {},
   "outputs": [
    {
     "data": {
      "image/png": "[encoded data removed]",
      "text/plain": [
       "<matplotlib.figure.Figure at 0xab32d82c>"
      ]
     },
     "metadata": {},
     "output_type": "display_data"
    }
   ],
   "source": [
    "df_sns_joint_plot(df_food,\"energy\", 'carbohydrates', parameter_color='r')"
   ]
  },
  {
   "cell_type": "code",
   "execution_count": 73,
   "metadata": {},
   "outputs": [
    {
     "name": "stdout",
     "output_type": "stream",
     "text": [
      "-------oOo-------\n",
      "Nombre (lignes, colonnes)  = (247505,14) \n",
      "Utilisation mémoire : 50407270 bytes \n",
      "-------oOo-------\n",
      "-------oOo-------\n",
      "Nombre (lignes, colonnes)  = (247505,14) \n",
      "Utilisation mémoire : 42018662 bytes \n",
      "-------oOo-------\n"
     ]
    },
    {
     "data": {
      "text/plain": [
       "(247505, 14)"
      ]
     },
     "execution_count": 73,
     "metadata": {},
     "output_type": "execute_result"
    }
   ],
   "source": [
    "df_dimensions(df_food)\n",
    "df_food = df_food[df_food['energy']>0]\n",
    "df_dimensions(df_food)    "
   ]
  },
  {
   "cell_type": "raw",
   "metadata": {},
   "source": [
    "df_sns_joint_plot(df_food,\"energy\", 'carbohydrates', parameter_color='orange')"
   ]
  },
  {
   "cell_type": "markdown",
   "metadata": {},
   "source": [
    "### Hydrates de carbone : traitement des outliers"
   ]
  },
  {
   "cell_type": "code",
   "execution_count": 75,
   "metadata": {},
   "outputs": [
    {
     "name": "stdout",
     "output_type": "stream",
     "text": [
      "-------oOo-------\n",
      "Nombre (lignes, colonnes)  = (247505,14) \n",
      "Utilisation mémoire : 50407270 bytes \n",
      "-------oOo-------\n",
      "0.0 135.5\n",
      "-------oOo-------\n",
      "Nombre (lignes, colonnes)  = (217176,14) \n",
      "Utilisation mémoire : 36870736 bytes \n",
      "-------oOo-------\n"
     ]
    },
    {
     "data": {
      "image/png": "[encoded data removed]",
      "text/plain": [
       "<matplotlib.figure.Figure at 0xa9c0e18c>"
      ]
     },
     "metadata": {},
     "output_type": "display_data"
    }
   ],
   "source": [
    "df_dimensions(df_food)\n",
    "nutrient = 'carbohydrates'\n",
    "zmin, zmax = df_boxplot_min_max(df_food , nutrient)\n",
    "print(zmin,zmax)\n",
    "df_food = df_food[df_food[nutrient]<=zmax ]\n",
    "df_food = df_food[df_food[nutrient]>=zmin ]\n",
    "df_food = df_food[df_food[nutrient]> 0 ]\n",
    "df_dimensions(df_food)\n",
    "df_sns_joint_plot(df_food,\"energy\", nutrient, parameter_color='blue')"
   ]
  },
  {
   "cell_type": "code",
   "execution_count": 70,
   "metadata": {},
   "outputs": [
    {
     "data": {
      "text/plain": [
       "['fat', 'sugars']"
      ]
     },
     "execution_count": 70,
     "metadata": {},
     "output_type": "execute_result"
    }
   ],
   "source": [
    "if 'saturated-fat' in list_nutrient_minus :\n",
    "    list_nutrient_minus.remove('saturated-fat')\n",
    "\n",
    "if 'cholesterol' in list_nutrient_minus :    \n",
    "    list_nutrient_minus.remove('cholesterol')    \n",
    "\n",
    "list_nutrient_minus"
   ]
  },
  {
   "cell_type": "raw",
   "metadata": {},
   "source": [
    "df_food = df_save.copy()"
   ]
  },
  {
   "cell_type": "code",
   "execution_count": 71,
   "metadata": {},
   "outputs": [
    {
     "name": "stdout",
     "output_type": "stream",
     "text": [
      "-------oOo-------\n",
      "Nombre (lignes, colonnes)  = (247505,16) \n",
      "Utilisation mémoire : 54367350 bytes \n",
      "-------oOo-------\n",
      "-------oOo-------\n",
      "Nombre (lignes, colonnes)  = (247505,16) \n",
      "Utilisation mémoire : 54367350 bytes \n",
      "-------oOo-------\n",
      "-------oOo-------\n",
      "Nombre (lignes, colonnes)  = (247505,16) \n",
      "Utilisation mémoire : 54367350 bytes \n",
      "-------oOo-------\n"
     ]
    },
    {
     "data": {
      "image/png": "[encoded data removed]",
      "text/plain": [
       "<matplotlib.figure.Figure at 0x9085984c>"
      ]
     },
     "metadata": {},
     "output_type": "display_data"
    },
    {
     "data": {
      "image/png": "[encoded data removed]",
      "text/plain": [
       "<matplotlib.figure.Figure at 0x9078ec4c>"
      ]
     },
     "metadata": {},
     "output_type": "display_data"
    }
   ],
   "source": [
    "df_display_linear_regression_from_list(df_food, \"energy\",list_nutrient_minus) "
   ]
  },
  {
   "cell_type": "code",
   "execution_count": 96,
   "metadata": {},
   "outputs": [
    {
     "name": "stdout",
     "output_type": "stream",
     "text": [
      "-------oOo-------\n",
      "Nombre (lignes, colonnes)  = (217176,14) \n",
      "Utilisation mémoire : 45259344 bytes \n",
      "-------oOo-------\n"
     ]
    },
    {
     "data": {
      "text/plain": [
       "(217176, 14)"
      ]
     },
     "execution_count": 96,
     "metadata": {},
     "output_type": "execute_result"
    }
   ],
   "source": [
    "df_dimensions(df_food)"
   ]
  },
  {
   "cell_type": "markdown",
   "metadata": {},
   "source": [
    "### Justifications"
   ]
  },
  {
   "cell_type": "markdown",
   "metadata": {},
   "source": [
    "Utilisation de la correlation carbonydrates_100g et energy_100g\n",
    "\n",
    "De par la litterature sur le sujet, les hydrates de carbone sont les nutriments qui contribuent le plus à notre apport énergértique.\n",
    "\n",
    "Il doit donc y avoir une corrélation entre l'apport énergétique de ce nutriment et la variable energy_100g.\n",
    "\n",
    "\n",
    "On prend le partie de contraindre le modèle afin d'optimiser cette corrélation linéaire."
   ]
  },
  {
   "cell_type": "markdown",
   "metadata": {},
   "source": [
    "# Scoring des aliments"
   ]
  },
  {
   "cell_type": "markdown",
   "metadata": {},
   "source": [
    "## Poids des nutriments fonction des cantiles"
   ]
  },
  {
   "cell_type": "markdown",
   "metadata": {},
   "source": [
    "Une table de scoring est calculée.\n",
    "\n",
    "Pour chacun des nutriments, les quantiles 1/4, 2/4 et 3/4 sont calculés.\n",
    "\n",
    "Un poids est associé à chaque intervalle inter-quantile dont le signe dépend de la liste (+ ou -).\n",
    "\n",
    "Le scoring d'un aliment va être la somme cumulée de ces poids.\n"
   ]
  },
  {
   "cell_type": "markdown",
   "metadata": {},
   "source": [
    "## Calcul du scoring par aliment : methode 1"
   ]
  },
  {
   "cell_type": "markdown",
   "metadata": {},
   "source": [
    "Retourne un dataframe qui contient une colonne scoring_1 avec une valeur pour chacun des aliments."
   ]
  },
  {
   "cell_type": "code",
   "execution_count": 72,
   "metadata": {},
   "outputs": [],
   "source": [
    "df_scoring_1 = df_build_scoring_from_listing_1(df_food, list_nutrient_minus, list_nutrient_plus)"
   ]
  },
  {
   "cell_type": "markdown",
   "metadata": {},
   "source": [
    "## Analyse du scoring"
   ]
  },
  {
   "cell_type": "code",
   "execution_count": 73,
   "metadata": {},
   "outputs": [
    {
     "data": {
      "image/png": "[encoded data removed]",
      "text/plain": [
       "<matplotlib.figure.Figure at 0xa8d9f34c>"
      ]
     },
     "metadata": {},
     "output_type": "display_data"
    }
   ],
   "source": [
    "z = df_scoring_1.boxplot(['scoring_1'], showfliers= False, patch_artist=True, medianprops=medianprops,showmeans=True, meanprops=meanprops)"
   ]
  },
  {
   "cell_type": "code",
   "execution_count": 74,
   "metadata": {},
   "outputs": [
    {
     "data": {
      "text/plain": [
       "scoring_1    4.0\n",
       "dtype: float64"
      ]
     },
     "execution_count": 74,
     "metadata": {},
     "output_type": "execute_result"
    },
    {
     "data": {
      "image/png": "[encoded data removed]",
      "text/plain": [
       "<matplotlib.figure.Figure at 0xa8e07f0c>"
      ]
     },
     "metadata": {},
     "output_type": "display_data"
    }
   ],
   "source": [
    "z=df_scoring_1.hist(bins=15)\n",
    "df_scoring_1.median()"
   ]
  },
  {
   "cell_type": "markdown",
   "metadata": {},
   "source": [
    "### Aggrégation de scorint_1 à la table des aliments"
   ]
  },
  {
   "cell_type": "code",
   "execution_count": 75,
   "metadata": {},
   "outputs": [
    {
     "name": "stdout",
     "output_type": "stream",
     "text": [
      "-------oOo-------\n",
      "Nombre (lignes, colonnes)  = (247505,16) \n",
      "Utilisation mémoire : 54367350 bytes \n",
      "-------oOo-------\n",
      "-------oOo-------\n",
      "Nombre (lignes, colonnes)  = (247505,17) \n",
      "Utilisation mémoire : 56347390 bytes \n",
      "-------oOo-------\n"
     ]
    },
    {
     "data": {
      "text/plain": [
       "(247505, 17)"
      ]
     },
     "execution_count": 75,
     "metadata": {},
     "output_type": "execute_result"
    }
   ],
   "source": [
    "#df_food = df_save.copy()\n",
    "df_dimensions(df_food)\n",
    "if \"scoring_1\" in df_food :\n",
    "    del df_food['scoring_1']\n",
    "df_food = pd.concat([df_food,df_scoring_1], axis=1)\n",
    "df_dimensions(df_food)"
   ]
  },
  {
   "cell_type": "raw",
   "metadata": {},
   "source": [
    "df_sns_joint_plot(df_food,\"energy\", 'scoring_1', parameter_color='grey')"
   ]
  },
  {
   "cell_type": "markdown",
   "metadata": {},
   "source": [
    "## Calcul du scoring par aliment : methode 2"
   ]
  },
  {
   "cell_type": "markdown",
   "metadata": {},
   "source": [
    "Utilisation de l'écat inter-quartile pour la classification des aliments"
   ]
  },
  {
   "cell_type": "code",
   "execution_count": 81,
   "metadata": {},
   "outputs": [],
   "source": [
    "df_scoring_2 = df_build_scoring_from_listing_2(df_food, list_nutrient_minus, list_nutrient_plus)"
   ]
  },
  {
   "cell_type": "markdown",
   "metadata": {},
   "source": [
    "## Analyse du scoring"
   ]
  },
  {
   "cell_type": "code",
   "execution_count": 82,
   "metadata": {},
   "outputs": [
    {
     "data": {
      "image/png": "[encoded data removed]",
      "text/plain": [
       "<matplotlib.figure.Figure at 0x90bcf70c>"
      ]
     },
     "metadata": {},
     "output_type": "display_data"
    }
   ],
   "source": [
    "z = df_scoring_2.boxplot(['scoring_2'], showfliers= False, patch_artist=True, medianprops=medianprops,showmeans=True, meanprops=meanprops)"
   ]
  },
  {
   "cell_type": "code",
   "execution_count": 83,
   "metadata": {},
   "outputs": [
    {
     "data": {
      "image/png": "[encoded data removed]",
      "text/plain": [
       "<matplotlib.figure.Figure at 0xa8d13d6c>"
      ]
     },
     "metadata": {},
     "output_type": "display_data"
    }
   ],
   "source": [
    "z=df_scoring_2.hist(bins=15)"
   ]
  },
  {
   "cell_type": "markdown",
   "metadata": {},
   "source": [
    "## Aggregation de la variable scoring au dataframe"
   ]
  },
  {
   "cell_type": "code",
   "execution_count": 84,
   "metadata": {},
   "outputs": [
    {
     "name": "stdout",
     "output_type": "stream",
     "text": [
      "-------oOo-------\n",
      "Nombre (lignes, colonnes)  = (247505,17) \n",
      "Utilisation mémoire : 56347390 bytes \n",
      "-------oOo-------\n",
      "-------oOo-------\n",
      "Nombre (lignes, colonnes)  = (247505,18) \n",
      "Utilisation mémoire : 58327430 bytes \n",
      "-------oOo-------\n"
     ]
    },
    {
     "data": {
      "text/plain": [
       "(247505, 18)"
      ]
     },
     "execution_count": 84,
     "metadata": {},
     "output_type": "execute_result"
    }
   ],
   "source": [
    "#df_food = df_save.copy()\n",
    "df_dimensions(df_food)\n",
    "if 'scoring_2' in df_food.columns :\n",
    "    del(df_food['scoring_2'])\n",
    "df_food = pd.concat([df_food,df_scoring], axis=1)\n",
    "df_dimensions(df_food)"
   ]
  },
  {
   "cell_type": "markdown",
   "metadata": {},
   "source": [
    "### Comparaison avec le scoring natif"
   ]
  },
  {
   "cell_type": "raw",
   "metadata": {},
   "source": [
    "df_food.describe()"
   ]
  },
  {
   "cell_type": "code",
   "execution_count": 85,
   "metadata": {},
   "outputs": [
    {
     "data": {
      "image/png": "[encoded data removed]",
      "text/plain": [
       "<matplotlib.figure.Figure at 0x9035980c>"
      ]
     },
     "metadata": {},
     "output_type": "display_data"
    }
   ],
   "source": [
    "df_sns_joint_plot(df_food,\"native_score_fr\", 'native_score_en', parameter_color='orange')"
   ]
  },
  {
   "cell_type": "code",
   "execution_count": 89,
   "metadata": {},
   "outputs": [
    {
     "data": {
      "image/png": "[encoded data removed]",
      "text/plain": [
       "<matplotlib.figure.Figure at 0xa8c6dd6c>"
      ]
     },
     "metadata": {},
     "output_type": "display_data"
    }
   ],
   "source": [
    "df_sns_joint_plot(df_food,\"scoring_1\", 'scoring_2', parameter_color='red')"
   ]
  },
  {
   "cell_type": "code",
   "execution_count": 90,
   "metadata": {},
   "outputs": [
    {
     "data": {
      "image/png": "[encoded data removed]",
      "text/plain": [
       "<matplotlib.figure.Figure at 0x904ff2ec>"
      ]
     },
     "metadata": {},
     "output_type": "display_data"
    }
   ],
   "source": [
    "df_sns_joint_plot(df_food, 'scoring_2',\"native_score_fr\", parameter_color='grey')"
   ]
  },
  {
   "cell_type": "markdown",
   "metadata": {},
   "source": [
    "# Recommandations sur la base du scoring pondéré"
   ]
  },
  {
   "cell_type": "code",
   "execution_count": 91,
   "metadata": {},
   "outputs": [
    {
     "name": "stdout",
     "output_type": "stream",
     "text": [
      "8.0\n",
      "Peanuts\n",
      "Organic Salted Nut Mix\n",
      "Organic Long Grain White Rice\n",
      "Organic Adzuki Beans\n",
      "Organic Penne Pasta\n",
      "Zen Party Mix\n",
      "Organic Golden Flax Seeds\n",
      "Organic Hazelnuts\n",
      "Organic Oat Groats\n",
      "Energy Power Mix\n",
      "\n",
      " --------------------- \n",
      "2.0\n",
      "Sweeteners, Demerara Turbinado Sugar\n",
      "Marks % Spencer 2 Blueberry Muffins\n",
      "Sweeteners, Organic Fair Trade Sugar\n",
      "Vanilla Extract\n",
      "M&S Extrenely Chocolatey Milk, Dark & White Chocolate Biscuits\n",
      "diet lemonade by Sainsbury's\n",
      "Organic Unrefined Mascobado Sugar\n",
      "Pecan Halves\n",
      "Veggie Colin the Caterpillar\n",
      "Belgische Pralinen\n"
     ]
    }
   ],
   "source": [
    "score = 'scoring_1'\n",
    "df_recomandations_display(df_food, score, countMax=10)"
   ]
  },
  {
   "cell_type": "code",
   "execution_count": 92,
   "metadata": {},
   "outputs": [
    {
     "name": "stdout",
     "output_type": "stream",
     "text": [
      "14.0\n",
      "Peanuts\n",
      "Organic Salted Nut Mix\n",
      "Organic Long Grain White Rice\n",
      "Organic Muesli\n",
      "Organic Adzuki Beans\n",
      "Organic Penne Pasta\n",
      "Zen Party Mix\n",
      "Organic Golden Flax Seeds\n",
      "Cinnamon Nut Granola\n",
      "Organic Hazelnuts\n",
      "\n",
      " --------------------- \n",
      "4.0\n",
      "Sweeteners, Demerara Turbinado Sugar\n",
      "Marks % Spencer 2 Blueberry Muffins\n",
      "Sweeteners, Organic Fair Trade Sugar\n",
      "Vanilla Extract\n",
      "M&S Extrenely Chocolatey Milk, Dark & White Chocolate Biscuits\n",
      "diet lemonade by Sainsbury's\n",
      "Organic Unrefined Mascobado Sugar\n",
      "Pecan Halves\n",
      "Veggie Colin the Caterpillar\n",
      "Mini Confettis\n"
     ]
    }
   ],
   "source": [
    "score = 'scoring_2'\n",
    "df_recomandations_display(df_food, score, countMax=10)"
   ]
  },
  {
   "cell_type": "code",
   "execution_count": 93,
   "metadata": {},
   "outputs": [
    {
     "name": "stdout",
     "output_type": "stream",
     "text": [
      "18.0\n",
      "Dark Chocolate Coconut Chews\n",
      "Dark Chocolate Sea Salt & Turbinado Almonds\n",
      "Lion Peanut x2\n",
      "Milk Chocolate Peanut Butter Malt Balls\n",
      "Yogurt Pretzels\n",
      "Chili Mango\n",
      "Milk Chocolate Pretzels\n",
      "Butter Croissants\n",
      "Biscuit\n",
      "Biscuit\n",
      "\n",
      " --------------------- \n",
      "6.0\n",
      "Pain Burger Artisan\n",
      "Quiche Lorraine\n",
      "Bolillos\n",
      "Sliced Plain Bagel\n",
      "Freshly Baked Italian Loaf\n",
      "La Brea Bakery Ciabatta Loaf Freshly Baked In Store\n",
      "Lithuanian Rye Bread\n",
      "Ryan's, Juice Melange, Fuji Pom Blend\n",
      "Ryan's, Lemonade\n",
      "Ryan's, Spiced Apple Cider\n"
     ]
    }
   ],
   "source": [
    "score = 'native_score_fr'\n",
    "df_recomandations_display(df_food, score, countMax=10)"
   ]
  },
  {
   "cell_type": "code",
   "execution_count": 228,
   "metadata": {},
   "outputs": [
    {
     "name": "stdout",
     "output_type": "stream",
     "text": [
      "13.0\n",
      "Aliments et boissons à base de végétaux,Aliments d'origine végétale,Aliments à base de fruits et de légumes,Produits à tartiner,Petit-déjeuners,Fruits et produits dérivés,Pâtes à tartiner végétaux,Produits à tartiner sucrés,Confitures et marmelades,Confitures,Confitures de fruits,Confitures de fruits rouges,Confitures allégées,Confitures de fraises\n",
      "MANGUE PASSION\n",
      "Salame & Cheddar Cheese\n",
      "Aliments et boissons à base de végétaux,Aliments d'origine végétale,Céréales et pommes de terre,Pains,Croûtons\n",
      "Viandes,Surgelés,Viandes surgelées,Préparations de viande surgelées\n",
      "Elites, Premium Pickles, Bread & Butter Chips\n",
      "cheese crackers\n",
      "Sweetener\n",
      "Berry Blast, Chewy Berry Flavored Candies, Wild Berry, Blue Raspberry, Strawberry, Blueberry, Peach Berry\n",
      "Tandoori Seasoning\n",
      "\n",
      " --------------------- \n",
      "7.0\n",
      "Chocolate Cupcakes\n",
      "Noix décortiquées\n",
      "Epicerie\n",
      "Banana Pepper Rings\n",
      "Mozzarella Cheese\n",
      "Farine\n",
      "New Zealand Protein Smoothie Powder, Berry\n",
      "Muffins\n",
      "Brioches\n",
      "Son d'Avoine Bio\n"
     ]
    }
   ],
   "source": [
    "score = 'native_score_en'\n",
    "df_recomandations_display(df_food, score, countMax=10)"
   ]
  }
 ],
 "metadata": {
  "celltoolbar": "Raw Cell Format",
  "kernelspec": {
   "display_name": "Python 3",
   "language": "python",
   "name": "python3"
  },
  "language_info": {
   "codemirror_mode": {
    "name": "ipython",
    "version": 3
   },
   "file_extension": ".py",
   "mimetype": "text/x-python",
   "name": "python",
   "nbconvert_exporter": "python",
   "pygments_lexer": "ipython3",
   "version": "3.6.4"
  }
 },
 "nbformat": 4,
 "nbformat_minor": 2
}
