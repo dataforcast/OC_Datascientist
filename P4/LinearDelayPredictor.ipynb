{
 "cells": [
  {
   "cell_type": "markdown",
   "metadata": {},
   "source": [
    "<!--NOTEBOOK_INFORMATION-->\n",
    "<img align=\"left\" style=\"padding-right:10px;\" src=\"./figures/LogoOpenclassrooms.png\">\n",
    "<font size=\"4\">\n",
    "\n",
    "<p>\n",
    "Ce notebook a été réalisé dans le cadre du 4eme projet de ma formation Datascientist dispensée en MOOC par \n",
    "**<font color='blus'>Openclassrooms / écoles Centrale-Supélec</font>**.    \n",
    "</p>    \n",
    "\n",
    "<p>\n",
    "Il permet de tester un objet de type **<font color='blue'>LinearDelayPredictor</font>**. Ce dernier anticipe les retards de vol d'avion de l'année 2016 aux USA. \n",
    "<p>\n",
    "Les données alimentant les modèles implémentés dans **<font color='blue'>LinearDelayPredictor</font>** sont fournies par le site :\n",
    "</p>\n",
    "<p>\n",
    "    <font color='blue'>\n",
    "https://www.transtats.bts.gov/DL_SelectFields.asp?Table_ID=236&DB_Short_Name=On-Time\n",
    "</font>\n",
    "</p>\n",
    "\n",
    "</p>    \n",
    "<p>\n",
    "La classe  **<font color='blue'>LinearDelayPredictor</font>** est implémentée dans le fichier <font color='blue'>LinearDelayPredictor.py</font>. \n",
    "    \n",
    "Un objet de cette classe a été  généré par une instance de type <font color='blue'>P4_ModelBuilder</font>.\n",
    "</p>    \n",
    "<p>\n",
    "L'objet <font color='blue'>oLinearDelayPredictor</font> implémente un ou plusieurs modèles de régression linéaire, à savoir :    \n",
    "</p>\n",
    "  <p>\n",
    "    * <font color='blue'>DummyRegressor</font> * , pour avoir une baseline dans la phase d'évaluation.\n",
    "  </p>\n",
    "  <p> \n",
    "    * <font color='blue'>LinearRegressor</font> *</p>\n",
    "  <p> \n",
    "    *<font color='blue'> Ridge</font> * </p>\n",
    "  <p> \n",
    "    * <font color='blue'>Lasso</font> * </p>\n",
    "  <p> \n",
    "    * <font color='blue'>ElasticNet</font> *</p>\n",
    "<p>\n",
    "Le choix de la multiplicité dépend de la configuration du modèle fixée dans <font color='blue'>P4_ModelBuilder</font>.\n",
    "</p>    \n",
    "\n",
    "<p>\n",
    "</p>\n",
    "\n",
    "<p>\n",
    "</p>\n",
    "</font>"
   ]
  },
  {
   "cell_type": "code",
   "execution_count": 1,
   "metadata": {},
   "outputs": [],
   "source": [
    "from LinearDelayPredictor import *"
   ]
  },
  {
   "cell_type": "code",
   "execution_count": 2,
   "metadata": {},
   "outputs": [
    {
     "name": "stdout",
     "output_type": "stream",
     "text": [
      "Help on class LinearDelayPredictor in module LinearDelayPredictor:\n",
      "\n",
      "class LinearDelayPredictor(builtins.object)\n",
      " |  This class implements all attributes and linear regression models \n",
      " |  computed into P4DataModel class that are required for making a delay \n",
      " |  estimation.\n",
      " |  There is one regression model per route.\n",
      " |  A route matches with a tuple of (ORIGIN_CITY_NAMRE,DEST_CITY_NAME).\n",
      " |  \n",
      " |  Methods defined here:\n",
      " |  \n",
      " |  __init__(self, path_to_data=None)\n",
      " |      Initialize self.  See help(type(self)) for accurate signature.\n",
      " |  \n",
      " |  copy(self, object)\n",
      " |      Copies attributes from object given as parameter into \n",
      " |      this object.\n",
      " |  \n",
      " |  dump(self, dumpFileName=None)\n",
      " |      Dump object given as parameter into a dumped file\n",
      " |  \n",
      " |  dump_empty_df(self, dumpFileName=None)\n",
      " |      Dump self object given as parameter into a dumped file \n",
      " |      Dataframe are assigned to None.\n",
      " |  \n",
      " |  evaluate_delay(self, selected_id)\n",
      " |      This is entry point for computing delay estimation.\n",
      " |      Input : \n",
      " |       selected_id : supposed to be provided from a user interface.\n",
      " |      Output :\n",
      " |       estimated delay returned into a json format.\n",
      " |  \n",
      " |  get_cities_route(self, route=0)\n",
      " |      Returns tuple (ORIGIN_CITY_NAME, DEST_CITY_NAME) matching with route \n",
      " |      value given as parameter.\n",
      " |  \n",
      " |  get_random_flights(self, nb_flights=10)\n",
      " |      Returns a dafarame with nb_flights rows randomly selected.\n",
      " |  \n",
      " |  get_random_flights_not_validated(self, nb_flights=10)\n",
      " |      Returns a dafarame with nb_flights rows randomly selected.\n",
      " |      All rows from returned dataframe belongs to a valid route.\n",
      " |      Returned dataframe contains routes from which at least one model \n",
      " |      name is available\n",
      " |  \n",
      " |  json_selection_builder(self, df_selection)\n",
      " |      Builds a json formated list of flights aimed for user selection.\n",
      " |      Input : \n",
      " |          df_selection : a subset of dataframe issued from LinearDelayPredictor.\n",
      " |      Output :\n",
      " |          list_json_selection : a list with elements formated as json.\n",
      " |  \n",
      " |  print(self, is_route=False)\n",
      " |      #---------------------------------------------------------------------------\n",
      " |      #  \n",
      " |      #---------------------------------------------------------------------------\n",
      " |  \n",
      " |  ----------------------------------------------------------------------\n",
      " |  Data descriptors defined here:\n",
      " |  \n",
      " |  __dict__\n",
      " |      dictionary for instance variables (if defined)\n",
      " |  \n",
      " |  __weakref__\n",
      " |      list of weak references to the object (if defined)\n",
      " |  \n",
      " |  df_route\n",
      " |  \n",
      " |  dict_climat\n",
      " |  \n",
      " |  dict_model_route\n",
      " |  \n",
      " |  dict_model_route_error\n",
      " |  \n",
      " |  fract_user_test\n",
      " |  \n",
      " |  model_name\n",
      "\n"
     ]
    }
   ],
   "source": [
    "help(LinearDelayPredictor)"
   ]
  },
  {
   "cell_type": "markdown",
   "metadata": {},
   "source": [
    "## <font color='blue'> Chargement et dump de l'objet *LinearDelayPredictor* : optionel</font>\n",
    "\n",
    "Cette opération est réalisée en cas de modification des méthodes de la classe <font color='blue'>*LinearDelayPredictor*</font>.\n",
    "\n",
    "Elle permet de s'affranchir du processus de génèse par <font color='blue'>*P4_ModelBuilder*</font>."
   ]
  },
  {
   "cell_type": "code",
   "execution_count": 3,
   "metadata": {},
   "outputs": [
    {
     "name": "stdout",
     "output_type": "stream",
     "text": [
      "\n",
      "Loading dumped file...\n",
      "Done!\n"
     ]
    }
   ],
   "source": [
    "import LinearDelayPredictor\n",
    "#-----------------------------------------------------------------\n",
    "# 1) Instantiation de l'objet oLinearDelayPredictor\n",
    "# Les attributs de cet objet sont vides.\n",
    "# Cette instance intégre les dernières modifications des méthodes \n",
    "# de la classe LinearDelayPredictor.\n",
    "#-----------------------------------------------------------------\n",
    "oLinearDelayPredictor = LinearDelayPredictor.LinearDelayPredictor()\n",
    "#-----------------------------------------------------------------\n",
    "# 2) Chargement de l'objet sérialisé dans un fichier \n",
    "#-----------------------------------------------------------------\n",
    "print(\"\\nLoading dumped file...\")\n",
    "oLinearDelayPredictor_reloaded = LinearDelayPredictor.load_dumped()\n",
    "print(\"Done!\")\n"
   ]
  },
  {
   "cell_type": "code",
   "execution_count": 4,
   "metadata": {},
   "outputs": [
    {
     "name": "stdout",
     "output_type": "stream",
     "text": [
      "\n",
      "Object duplication...\n",
      "Done!\n"
     ]
    }
   ],
   "source": [
    "oLinearDelayPredictor = LinearDelayPredictor.LinearDelayPredictor()\n",
    "\n",
    "#-----------------------------------------------------------------\n",
    "# 3) Copie de l'objet Chargé à l'étape 2 dans l'objet instancié à l'étape 1)\n",
    "# Les attributs de l'objet instantié à l'étape 1) sont initialisés avec \n",
    "# ceux de l'objet de l'étape 2).\n",
    "#-----------------------------------------------------------------\n",
    "print(\"\\nObject duplication...\")\n",
    "oLinearDelayPredictor.copy(oLinearDelayPredictor_reloaded)\n",
    "print(\"Done!\")\n",
    "oLinearDelayPredictor._dict_feature_processor = {'CRS_DEP_TIME':LinearDelayPredictor.cb_convert_floathour_to_mn}\n",
    "del(oLinearDelayPredictor_reloaded)"
   ]
  },
  {
   "cell_type": "markdown",
   "metadata": {},
   "source": [
    "**Dump object with empty dataframes**"
   ]
  },
  {
   "cell_type": "code",
   "execution_count": null,
   "metadata": {},
   "outputs": [],
   "source": []
  },
  {
   "cell_type": "code",
   "execution_count": 6,
   "metadata": {},
   "outputs": [
    {
     "name": "stdout",
     "output_type": "stream",
     "text": [
      "\n",
      "Dumping file...\n",
      "\n",
      " *** Fraction of user test dataframe: size= (395, 13)\n",
      "\n",
      " *** Filter of route dataframe based on user dataframe : 39...\n",
      "\n",
      " *** Dataframe route size= (395, 3)\n",
      "\n",
      " *** Fraction of Dataframe route size= (117, 0)\n",
      "\n",
      " *** Dataframe user test size= (39, 13)\n",
      "\n",
      " *** Route dataframe compression...\n",
      "\n",
      " *** User test dataframe compression...\n",
      "\n",
      " *** Data route compression...\n",
      "\n",
      " *** Dump objectin file= ./data/oLinearDelayPredictor.dump...\n",
      "\n",
      " *** Route dataframe decompression ...\n",
      "\n",
      " *** User dataframe decompression ...\n",
      "\n",
      " *** User dataframe decompression ...\n",
      "Done!\n"
     ]
    }
   ],
   "source": [
    "#-----------------------------------------------------------------\n",
    "# 5) Sérialisation de l'instance oLinearDelayPredictor dans un fichier.\n",
    "#-----------------------------------------------------------------\n",
    "oLinearDelayPredictor._fract_user_test = 0.1\n",
    "print(\"\\nDumping file...\")\n",
    "oLinearDelayPredictor.dump()\n",
    "print(\"Done!\")\n",
    " \n",
    "del(oLinearDelayPredictor)\n"
   ]
  },
  {
   "cell_type": "markdown",
   "metadata": {},
   "source": [
    "## <font color='blue'> Chargement de l'objet *LinearDelayPredictor*</font>"
   ]
  },
  {
   "cell_type": "code",
   "execution_count": 1,
   "metadata": {},
   "outputs": [],
   "source": [
    "import LinearDelayPredictor\n",
    "oLinearDelayPredictor = LinearDelayPredictor.load_dumped()"
   ]
  },
  {
   "cell_type": "code",
   "execution_count": 5,
   "metadata": {},
   "outputs": [
    {
     "name": "stdout",
     "output_type": "stream",
     "text": [
      "\n",
      "------------------- LinearDelayPredictor ----------------------\n",
      "Current model name                   = LinearRegression\n",
      "Routes in error                      = {'SGDRegressor': []}\n",
      "List of periodic features            = []\n",
      "List of excluded features            = ['ORIGIN_AIRPORT_ID', 'DEST_AIRPORT_ID', 'ORIGIN_CITY_NAME', 'DEST_CITY_NAME', 'ARR_DELAY', 'CARRIER', 'CRS_ARR_TIME', 'FL_NUM', 'WEEK_OF_MONTH', 'ORIGIN_STATE_ABR', 'DEST_STATE_ABR']\n",
      "List of quant features to cos()      = []\n",
      "List of quant features to identity() = []\n",
      "Features processor dictionary        = {'CRS_DEP_TIME': <function cb_convert_floathour_to_mn at 0xae83aa94>}\n",
      "Climatic model                       = {'WA': 1, 'OR': 1, 'ID': 2, 'MT': 2, 'WY': 2, 'UT': 2, 'CO': 2, 'ND': 2, 'SD': 2, 'NE': 2, 'KS': 2, 'OK': 2, 'VA': 4, 'NC': 4, 'GA': 4, 'FL': 4, 'AL': 4, 'TN': 4, 'MS': 4, 'LA': 4, 'AR': 4, 'AZ': 5, 'TX': 5, 'NM': 5, 'NV': 5, 'CA': 6, 'MI': 3, 'NY': 3, 'IL': 3, 'MO': 3, 'HI': 3, 'VI': 3, 'MA': 3, 'PA': 3, 'NJ': 3, 'PR': 3, 'IN': 3, 'MD': 3, 'MN': 3, 'WI': 3, 'IA': 3, 'KY': 3, 'OH': 3, 'CT': 3, 'AK': 3, 'RI': 3, 'ME': 3, 'SC': 3, 'VT': 3, 'WV': 3, 'TT': 3, 'NH': 3}\n",
      "Fraction of dumped data user test    = -1\n",
      "---------------------------------------------------------------\n",
      "\n"
     ]
    }
   ],
   "source": [
    "#oLinearDelayPredictor.model_name = \"SGDRegressor\"\n",
    "#oLinearDelayPredictor._list_quantitative_identity = ['CRS_DEP_TIME']\n",
    "oLinearDelayPredictor.print()\n",
    "#oLinearDelayPredictor._df_user_test.shape"
   ]
  },
  {
   "cell_type": "markdown",
   "metadata": {},
   "source": [
    "## <font color='blue'> Test de l'objet *LinearDelayPredictor*</font>"
   ]
  },
  {
   "cell_type": "markdown",
   "metadata": {},
   "source": [
    "L'objet <font color='blue'>*oLinearDelayPredictor*</font> intégre une fraction des vols, fraction dédiée aux tests.\n",
    "\n",
    "Les étapes du test sont les suivantes : \n",
    " * Un nombre de vols est présenté à l'utilisateur. Chaque vol est identifié par une route. Ce nombre est fixé par la variable <font color='blue'>nb_flights</font> ci-dessous.\n",
    " * Ce dernier entre une route.\n",
    " * Le calcul de l'anticipation du retard de ce vol est réalisé.\n",
    " * Le résultat de l'anticipation est retourné avec le retard mésuré."
   ]
  },
  {
   "cell_type": "markdown",
   "metadata": {},
   "source": [
    "## <font color='blue'> Affichage des vols disponibles pour les tests</font>\n",
    "\n",
    "Le nombre de vols est paramètrable par la variable <font color='blue'>nb_flights</font> définie ci-dessous.\n",
    "\n",
    "La liste des vols disponible est affichée au format json."
   ]
  },
  {
   "cell_type": "code",
   "execution_count": 7,
   "metadata": {},
   "outputs": [
    {
     "data": {
      "text/plain": [
       "(10, 13)"
      ]
     },
     "execution_count": 7,
     "metadata": {},
     "output_type": "execute_result"
    }
   ],
   "source": [
    "nb_flights = 10\n",
    "df_selection = oLinearDelayPredictor.get_random_flights(nb_flights)\n",
    "df_selection.shape"
   ]
  },
  {
   "cell_type": "raw",
   "metadata": {},
   "source": [
    "df_selection.sample()\n",
    "df_selection.index.tolist()"
   ]
  },
  {
   "cell_type": "raw",
   "metadata": {},
   "source": [
    " df_selection.loc[44342].ORIGIN_CITY_NAME, df_selection.loc[44342].DEST_CITY_NAME"
   ]
  },
  {
   "cell_type": "raw",
   "metadata": {},
   "source": [
    "#oLinearDelayPredictor._get_route(df_selection.loc[44342].ORIGIN_CITY_NAME, df_selection.loc[44342].DEST_CITY_NAME)\n",
    "oLinearDelayPredictor._df_route.shape"
   ]
  },
  {
   "cell_type": "code",
   "execution_count": 8,
   "metadata": {},
   "outputs": [
    {
     "name": "stdout",
     "output_type": "stream",
     "text": [
      "{\"_select\":[{\"id\":\"443404\",\"flight\":\"643\",\"company\":\"WN\",\"origin\":\"Chicago, IL\",\"destination\":\"Tulsa, OK\",\"departure\":\"THU 01-21 16:10\",\"arrival\":\"17:55},{\"id\":\"87504\",\"flight\":\"657\",\"company\":\"AS\",\"origin\":\"San Antonio, TX\",\"destination\":\"Seattle, WA\",\"departure\":\"SUN 01-31 18:30\",\"arrival\":\"21:00},{\"id\":\"339964\",\"flight\":\"2033\",\"company\":\"WN\",\"origin\":\"Phoenix, AZ\",\"destination\":\"Denver, CO\",\"departure\":\"FRI 01-1 10:40\",\"arrival\":\"12:25},{\"id\":\"347823\",\"flight\":\"663\",\"company\":\"WN\",\"origin\":\"Kansas City, MO\",\"destination\":\"Las Vegas, NV\",\"departure\":\"MON 01-4 13:35\",\"arrival\":\"14:45},{\"id\":\"114053\",\"flight\":\"607\",\"company\":\"F9\",\"origin\":\"Indianapolis, IN\",\"destination\":\"Denver, CO\",\"departure\":\"MON 01-25 19:15\",\"arrival\":\"20:07},{\"id\":\"13618\",\"flight\":\"1181\",\"company\":\"AA\",\"origin\":\"Dallas/Fort Worth, TX\",\"destination\":\"Dayton, OH\",\"departure\":\"SUN 01-10 20:25\",\"arrival\":\"23:40},{\"id\":\"90170\",\"flight\":\"29\",\"company\":\"AS\",\"origin\":\"Chicago, IL\",\"destination\":\"Seattle, WA\",\"departure\":\"SUN 01-17 15:35\",\"arrival\":\"18:24},{\"id\":\"366724\",\"flight\":\"2491\",\"company\":\"WN\",\"origin\":\"San Jose, CA\",\"destination\":\"Denver, CO\",\"departure\":\"SAT 01-9 12:30\",\"arrival\":\"16:00},{\"id\":\"255822\",\"flight\":\"1164\",\"company\":\"DL\",\"origin\":\"Minneapolis, MN\",\"destination\":\"Fort Myers, FL\",\"departure\":\"MON 01-18 19:50\",\"arrival\":\"0:13},{\"id\":\"118317\",\"flight\":\"131\",\"company\":\"F9\",\"origin\":\"Dallas/Fort Worth, TX\",\"destination\":\"Denver, CO\",\"departure\":\"SAT 01-30 19:59\",\"arrival\":\"21:06}]}\n"
     ]
    }
   ],
   "source": [
    "df_selection = oLinearDelayPredictor.get_random_flights(nb_flights)\n",
    "\n",
    "json_selection = oLinearDelayPredictor.json_selection_builder(df_selection)\n",
    "print(json_selection)\n"
   ]
  },
  {
   "cell_type": "markdown",
   "metadata": {},
   "source": [
    "## <font color='blue'> Evaluation du retard d'un vol</font>\n",
    "\n",
    "Pour ce faire, donner une valeur à la variable <font color='blue'>selected_id</font> définie ci-dessous, valeur sélectionnée dans la liste des items json ci-dessus et identifiée par le label <font color='blue'>\"id\"</font>."
   ]
  },
  {
   "cell_type": "code",
   "execution_count": 9,
   "metadata": {},
   "outputs": [
    {
     "name": "stdout",
     "output_type": "stream",
     "text": [
      "{\"_result\":[{\"id\":\"118317\",\"model\":\"ElasticNet\",\"evaluated_delay\":\"-8\",\"measured_delay\":\"-24\"}]}\n"
     ]
    }
   ],
   "source": [
    "selected_id = 118317\n",
    "\n",
    "json_result = oLinearDelayPredictor.evaluate_delay(selected_id)\n",
    "print(json_result)"
   ]
  },
  {
   "cell_type": "code",
   "execution_count": null,
   "metadata": {},
   "outputs": [],
   "source": []
  }
 ],
 "metadata": {
  "kernelspec": {
   "display_name": "Python 3",
   "language": "python",
   "name": "python3"
  },
  "language_info": {
   "codemirror_mode": {
    "name": "ipython",
    "version": 3
   },
   "file_extension": ".py",
   "mimetype": "text/x-python",
   "name": "python",
   "nbconvert_exporter": "python",
   "pygments_lexer": "ipython3",
   "version": "3.6.4"
  }
 },
 "nbformat": 4,
 "nbformat_minor": 2
}
