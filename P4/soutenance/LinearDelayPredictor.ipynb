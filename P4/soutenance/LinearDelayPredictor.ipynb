{
 "cells": [
  {
   "cell_type": "markdown",
   "metadata": {},
   "source": [
    "<!--NOTEBOOK_INFORMATION-->\n",
    "<img align=\"left\" style=\"padding-right:10px;\" src=\"./figures/LogoOpenclassrooms.png\">\n",
    "<font size=\"4\">\n",
    "\n",
    "<p>\n",
    "Ce notebook a été réalisé dans le cadre du 4eme projet de ma formation Datascientist dispensée en MOOC par \n",
    "**<font color='blus'>Openclassrooms / écoles Centrale-Supélec</font>**.    \n",
    "</p>    \n",
    "\n",
    "<p>\n",
    "Il permet de tester un objet de type **<font color='blue'>LinearDelayPredictor</font>**. Ce dernier anticipe les retards de vol d'avion de l'année 2016 aux USA. \n",
    "<p>\n",
    "Les données alimentant les modèles implémentés dans **<font color='blue'>LinearDelayPredictor</font>** sont fournies par le site :\n",
    "</p>\n",
    "<p>\n",
    "    <font color='blue'>\n",
    "https://www.transtats.bts.gov/DL_SelectFields.asp?Table_ID=236&DB_Short_Name=On-Time\n",
    "</font>\n",
    "</p>\n",
    "\n",
    "</p>    \n",
    "<p>\n",
    "La classe  **<font color='blue'>LinearDelayPredictor</font>** est implémentée dans le fichier <font color='blue'>LinearDelayPredictor.py</font>. \n",
    "    \n",
    "Un objet de cette classe a été  généré par une instance de type <font color='blue'>P4_ModelBuilder</font>.\n",
    "</p>    \n",
    "<p>\n",
    "L'objet <font color='blue'>oLinearDelayPredictor</font> implémente un ou plusieurs modèles de régression linéaire, à savoir :    \n",
    "</p>\n",
    "  <p>\n",
    "    * <font color='blue'>DummyRegressor</font> * , pour avoir une baseline dans la phase d'évaluation.\n",
    "  </p>\n",
    "  <p> \n",
    "    * <font color='blue'>LinearRegressor</font> *</p>\n",
    "  <p> \n",
    "    *<font color='blue'> Ridge</font> * </p>\n",
    "  <p> \n",
    "    * <font color='blue'>Lasso</font> * </p>\n",
    "  <p> \n",
    "    * <font color='blue'>ElasticNet</font> *</p>\n",
    "<p>\n",
    "Le choix de la multiplicité dépend de la configuration du modèle fixée dans <font color='blue'>P4_ModelBuilder</font>.\n",
    "</p>    \n",
    "\n",
    "<p>\n",
    "</p>\n",
    "\n",
    "<p>\n",
    "</p>\n",
    "</font>"
   ]
  },
  {
   "cell_type": "code",
   "execution_count": null,
   "metadata": {},
   "outputs": [],
   "source": [
    "from LinearDelayPredictor import *"
   ]
  },
  {
   "cell_type": "code",
   "execution_count": null,
   "metadata": {},
   "outputs": [],
   "source": [
    "help(LinearDelayPredictor)"
   ]
  },
  {
   "cell_type": "markdown",
   "metadata": {},
   "source": [
    "## <font color='blue'> Chargement et dump de l'objet *LinearDelayPredictor* : optionel</font>\n",
    "\n",
    "Cette opération est réalisée en cas de modification des méthodes de la classe <font color='blue'>*LinearDelayPredictor*</font>.\n",
    "\n",
    "Elle permet de s'affranchir du processus de génèse par <font color='blue'>*P4_ModelBuilder*</font>."
   ]
  },
  {
   "cell_type": "code",
   "execution_count": 50,
   "metadata": {},
   "outputs": [
    {
     "name": "stdout",
     "output_type": "stream",
     "text": [
      "\n",
      "Loading dumped file...\n",
      "Done!\n",
      "\n",
      "Object duplication...\n",
      "Done!\n",
      "\n",
      "Dumping file...\n",
      "Done!\n"
     ]
    }
   ],
   "source": [
    "import LinearDelayPredictor\n",
    "#-----------------------------------------------------------------\n",
    "# 1) Instantiation de l'objet oLinearDelayPredictor\n",
    "# Les attributs de cet objet sont vides.\n",
    "# Cette instance intégre les dernières modifications des méthodes \n",
    "# de la classe LinearDelayPredictor.\n",
    "#-----------------------------------------------------------------\n",
    "oLinearDelayPredictor = LinearDelayPredictor.LinearDelayPredictor()\n",
    "\n",
    "#-----------------------------------------------------------------\n",
    "# 2) Chargement de l'objet sérialisé dans un fichier \n",
    "#-----------------------------------------------------------------\n",
    "print(\"\\nLoading dumped file...\")\n",
    "oLinearDelayPredictor_reloaded = LinearDelayPredictor.load_dumped()\n",
    "print(\"Done!\")\n",
    "\n",
    "\n",
    "#-----------------------------------------------------------------\n",
    "# 3) Copie de l'objet Chargé à l'étape 2 dans l'objet instancié à l'étape 1)\n",
    "# Les attributs de l'objet instantié à l'étape 1) sont initialisés avec \n",
    "# ceux de l'objet de l'étape 2).\n",
    "#-----------------------------------------------------------------\n",
    "print(\"\\nObject duplication...\")\n",
    "oLinearDelayPredictor.copy(oLinearDelayPredictor_reloaded)\n",
    "print(\"Done!\")\n",
    "oLinearDelayPredictor._dict_feature_processor = {'CRS_DEP_TIME':LinearDelayPredictor.cb_convert_floathour_to_mn}\n",
    "#-----------------------------------------------------------------\n",
    "# 4) Sérialisation de l'instance oLinearDelayPredictor dans un fichier.\n",
    "#-----------------------------------------------------------------\n",
    "print(\"\\nDumping file...\")\n",
    "oLinearDelayPredictor.dump()\n",
    "print(\"Done!\")\n",
    "\n",
    "del(oLinearDelayPredictor_reloaded)\n",
    "del(oLinearDelayPredictor)\n"
   ]
  },
  {
   "cell_type": "markdown",
   "metadata": {},
   "source": [
    "## <font color='blue'> Chargement de l'objet *LinearDelayPredictor*</font>"
   ]
  },
  {
   "cell_type": "code",
   "execution_count": 51,
   "metadata": {},
   "outputs": [],
   "source": [
    "import LinearDelayPredictor\n",
    "oLinearDelayPredictor = LinearDelayPredictor.load_dumped()"
   ]
  },
  {
   "cell_type": "code",
   "execution_count": 52,
   "metadata": {},
   "outputs": [
    {
     "name": "stdout",
     "output_type": "stream",
     "text": [
      "\n",
      "------------------- LinearDelayPredictor ----------------------\n",
      "Current model name                   = LinearRegression\n",
      "Routes in error                      = {'SGDRegressor': [1423, 2453, 737, 3926, 1462, 902, 1614, 3346, 236, 3112, 741, 3322, 2559, 869, 2024, 1022, 1068, 2301, 2702, 3761, 3793, 2260, 2756, 2268, 1686, 1991, 2215, 3752, 1684, 4004, 523, 3062, 208, 1104, 106, 3007, 189, 2715, 1343, 549, 2019, 1201, 3055, 1154, 3350, 1437, 1016, 2812, 1959, 2495, 2155, 929, 3052, 3231, 4050, 1552, 1510, 3985, 1150, 1973, 1170, 1645, 4047, 840, 2861, 3845, 2670, 409, 2295, 3758, 1902, 1820, 3431, 1412, 3743, 2552, 2709, 2699, 873, 1851, 1956, 712, 2201, 237, 4128, 641, 436, 3072, 3058, 2854, 3624, 1174, 359, 4081, 1242, 3933, 4164, 87, 539, 2302, 992, 3554, 259, 1862, 2023, 1227, 2529, 111, 21, 4015, 627, 2509, 1962, 1424, 4073, 3316, 585, 4132, 3833, 1685, 3873, 4027, 3617, 4066, 1897, 3230, 376, 2664]}\n",
      "List of periodic features            = []\n",
      "List of excluded features            = ['ORIGIN_AIRPORT_ID', 'DEST_AIRPORT_ID', 'ORIGIN_CITY_NAME', 'DEST_CITY_NAME', 'ARR_DELAY', 'CARRIER', 'CRS_ARR_TIME', 'FL_NUM', 'WEEK_OF_MONTH', 'ORIGIN_STATE_ABR', 'DEST_STATE_ABR']\n",
      "List of quant features to cos()      = []\n",
      "List of quant features to identity() = []\n",
      "Features processor dictionary        = {'CRS_DEP_TIME': <function cb_convert_floathour_to_mn at 0xac693df4>}\n",
      "Climatic model                       = {'WA': 1, 'OR': 1, 'ID': 2, 'MT': 2, 'WY': 2, 'UT': 2, 'CO': 2, 'ND': 2, 'SD': 2, 'NE': 2, 'KS': 2, 'OK': 2, 'VA': 4, 'NC': 4, 'GA': 4, 'FL': 4, 'AL': 4, 'TN': 4, 'MS': 4, 'LA': 4, 'AR': 4, 'AZ': 5, 'TX': 5, 'NM': 5, 'NV': 5, 'CA': 6, 'MI': 3, 'NY': 3, 'IL': 3, 'MO': 3, 'HI': 3, 'VI': 3, 'MA': 3, 'PA': 3, 'NJ': 3, 'PR': 3, 'IN': 3, 'MD': 3, 'MN': 3, 'WI': 3, 'IA': 3, 'KY': 3, 'OH': 3, 'CT': 3, 'AK': 3, 'RI': 3, 'ME': 3, 'SC': 3, 'VT': 3, 'WV': 3, 'TT': 3, 'NH': 3}\n",
      "---------------------------------------------------------------\n",
      "\n"
     ]
    }
   ],
   "source": [
    "#oLinearDelayPredictor.model_name = \"SGDRegressor\"\n",
    "#oLinearDelayPredictor._list_quantitative_identity = ['CRS_DEP_TIME']\n",
    "oLinearDelayPredictor.print()"
   ]
  },
  {
   "cell_type": "markdown",
   "metadata": {},
   "source": [
    "## <font color='blue'> Test de l'objet *LinearDelayPredictor*</font>"
   ]
  },
  {
   "cell_type": "markdown",
   "metadata": {},
   "source": [
    "L'objet <font color='blue'>*oLinearDelayPredictor*</font> intégre une fraction des vols, fraction dédiée aux tests.\n",
    "\n",
    "Les étapes du test sont les suivantes : \n",
    " * Un nombre de vols est présenté à l'utilisateur. Chaque vol est identifié par une route. Ce nombre est fixé par la variable <font color='blue'>nb_flights</font> ci-dessous.\n",
    " * Ce dernier entre une route.\n",
    " * Le calcul de l'anticipation du retard de ce vol est réalisé.\n",
    " * Le résultat de l'anticipation est retourné avec le retard mésuré."
   ]
  },
  {
   "cell_type": "markdown",
   "metadata": {},
   "source": [
    "## <font color='blue'> Affichage des vols disponibles pour les tests</font>\n",
    "\n",
    "Le nombre de vols est paramètrable par la variable <font color='blue'>nb_flights</font> définie ci-dessous.\n",
    "\n",
    "La liste des vols disponible est affichée au format json."
   ]
  },
  {
   "cell_type": "code",
   "execution_count": 46,
   "metadata": {},
   "outputs": [
    {
     "data": {
      "text/plain": [
       "(10, 13)"
      ]
     },
     "execution_count": 46,
     "metadata": {},
     "output_type": "execute_result"
    }
   ],
   "source": [
    "nb_flights = 10\n",
    "df_selection = oLinearDelayPredictor.get_random_flights(nb_flights)\n",
    "df_selection.shape"
   ]
  },
  {
   "cell_type": "code",
   "execution_count": 47,
   "metadata": {},
   "outputs": [
    {
     "name": "stdout",
     "output_type": "stream",
     "text": [
      "{\"_select\":[{\"id\":\"365509\",\"flight\":\"2745\",\"company\":\"WN\",\"origin\":\"Minneapolis, MN\",\"destination\":\"Atlanta, GA\",\"departure\":\"FRI 02-12 05:45\",\"arrival\":\"09:20},{\"id\":\"73886\",\"flight\":\"2877\",\"company\":\"EV\",\"origin\":\"Dallas/Fort Worth, TX\",\"destination\":\"Meridian, MS\",\"departure\":\"MON 11-21 14:35\",\"arrival\":\"16:01},{\"id\":\"53447\",\"flight\":\"1976\",\"company\":\"AA\",\"origin\":\"San Francisco, CA\",\"destination\":\"Phoenix, AZ\",\"departure\":\"WED 01-13 09:10\",\"arrival\":\"12:05},{\"id\":\"124619\",\"flight\":\"281\",\"company\":\"NK\",\"origin\":\"Minneapolis, MN\",\"destination\":\"Houston, TX\",\"departure\":\"MON 09-26 20:27\",\"arrival\":\"23:23},{\"id\":\"287375\",\"flight\":\"5025\",\"company\":\"OO\",\"origin\":\"Redding, CA\",\"destination\":\"San Francisco, CA\",\"departure\":\"WED 06-29 10:10\",\"arrival\":\"11:22},{\"id\":\"376889\",\"flight\":\"1910\",\"company\":\"UA\",\"origin\":\"San Juan, PR\",\"destination\":\"Chicago, IL\",\"departure\":\"SUN 01-17 14:50\",\"arrival\":\"18:10},{\"id\":\"234456\",\"flight\":\"144\",\"company\":\"HA\",\"origin\":\"Lihue, HI\",\"destination\":\"Honolulu, HI\",\"departure\":\"SAT 04-2 11:41\",\"arrival\":\"12:15},{\"id\":\"248145\",\"flight\":\"289\",\"company\":\"HA\",\"origin\":\"Kahului, HI\",\"destination\":\"Honolulu, HI\",\"departure\":\"MON 05-23 13:29\",\"arrival\":\"14:06},{\"id\":\"246670\",\"flight\":\"506\",\"company\":\"AA\",\"origin\":\"Philadelphia, PA\",\"destination\":\"Phoenix, AZ\",\"departure\":\"SAT 10-22 07:05\",\"arrival\":\"09:12},{\"id\":\"378353\",\"flight\":\"1228\",\"company\":\"WN\",\"origin\":\"Newark, NJ\",\"destination\":\"Austin, TX\",\"departure\":\"WED 01-13 07:10\",\"arrival\":\"10:35}]}\n"
     ]
    }
   ],
   "source": [
    "df_selection = oLinearDelayPredictor.get_random_flights(nb_flights)\n",
    "\n",
    "json_selection = oLinearDelayPredictor.json_selection_builder(df_selection)\n",
    "print(json_selection)\n"
   ]
  },
  {
   "cell_type": "markdown",
   "metadata": {},
   "source": [
    "## <font color='blue'> Evaluation du retard d'un vol</font>\n",
    "\n",
    "Pour ce faire, donner une valeur à la variable <font color='blue'>selected_id</font> définie ci-dessous, valeur sélectionnée dans la liste des items json ci-dessus et identifiée par le label <font color='blue'>\"id\"</font>."
   ]
  },
  {
   "cell_type": "code",
   "execution_count": 55,
   "metadata": {},
   "outputs": [
    {
     "name": "stdout",
     "output_type": "stream",
     "text": [
      "{\"_result\":[{\"id\":\"73886\",\"model\":\"SGDRegressor\",\"evaluated_delay\":\"-3\",\"measured_delay\":\"4\"}]}\n"
     ]
    }
   ],
   "source": [
    "selected_id = 73886\n",
    "\n",
    "json_result = oLinearDelayPredictor.evaluate_delay(selected_id)\n",
    "print(json_result)"
   ]
  },
  {
   "cell_type": "code",
   "execution_count": null,
   "metadata": {},
   "outputs": [],
   "source": []
  }
 ],
 "metadata": {
  "kernelspec": {
   "display_name": "Python 3",
   "language": "python",
   "name": "python3"
  },
  "language_info": {
   "codemirror_mode": {
    "name": "ipython",
    "version": 3
   },
   "file_extension": ".py",
   "mimetype": "text/x-python",
   "name": "python",
   "nbconvert_exporter": "python",
   "pygments_lexer": "ipython3",
   "version": "3.6.4"
  }
 },
 "nbformat": 4,
 "nbformat_minor": 2
}
