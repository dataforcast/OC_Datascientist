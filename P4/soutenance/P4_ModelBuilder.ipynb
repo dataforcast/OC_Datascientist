{
 "cells": [
  {
   "cell_type": "markdown",
   "metadata": {},
   "source": [
    "<!--NOTEBOOK_INFORMATION-->\n",
    "<img align=\"left\" style=\"padding-right:10px;\" src=\"./figures/LogoOpenclassrooms.png\">\n",
    "<font size=\"4\">\n",
    "<p>\n",
    "Cette étude a été réalisée dans le cadre du 4eme projet de ma formation Datascientist dispensée en MOOC par \n",
    "**<font color='blus'>Openclassrooms / écoles Centrale-Supélec</font>**.\n",
    "</p>    \n",
    "\n",
    "<p>\n",
    "Ce notebook présente  un modèle de prédictions des retards d'avions implémenté dans le ficher <font color='blue'>P4_ModelBuilder.py</font>.\n",
    "</p>\n",
    "<p>\n",
    "Il utilise les résultats de l'analyse exploratoire implémentée dans le notebook <font color='blue'>P4_3.ipynb</font>.\n",
    "</p>\n",
    "\n",
    "<p>\n",
    "Le modèle est basé sur les données fournies par le site :\n",
    "</p>\n",
    "<p>\n",
    "https://www.transtats.bts.gov/DL_SelectFields.asp?Table_ID=236&DB_Short_Name=On-Time\n",
    "</p>\n",
    "<p>\n",
    "</p>\n",
    "</font>"
   ]
  },
  {
   "cell_type": "markdown",
   "metadata": {},
   "source": [
    "# <font color='blus'> Mise au point du composant </font><font color='blue'>P4_ModelBuilder</font>"
   ]
  },
  {
   "cell_type": "code",
   "execution_count": null,
   "metadata": {},
   "outputs": [],
   "source": [
    "from P4_ModelBuilder import *\n",
    "import LinearDelayPredictor"
   ]
  },
  {
   "cell_type": "code",
   "execution_count": null,
   "metadata": {},
   "outputs": [],
   "source": [
    "help (P4_ModelBuilder)"
   ]
  },
  {
   "cell_type": "code",
   "execution_count": null,
   "metadata": {},
   "outputs": [],
   "source": [
    "path_name = \"../outside_p4/data/Dataset+Projet+4_2/\"\n",
    "year = 2016\n",
    "oP4_ModelBuilder = P4_ModelBuilder(path_name,year)\n",
    "oP4_ModelBuilder.is_route_in_model = True\n",
    "oP4_ModelBuilder.is_delay_outlier_removed = True\n",
    "oP4_ModelBuilder.dict_delay_splitted = {'neg':0,'pos':0}\n",
    "oP4_ModelBuilder.is_route_restricted = False\n",
    "oP4_ModelBuilder.is_low_memory = True\n",
    "#oP4_ModelBuilder._modulo_month = 3\n",
    "#oP4_ModelBuilder.list_carrier_id = ['DL', 'AA', 'AS', 'B6', 'EV', 'F9', 'VX', 'WN', 'OO', 'UA', 'HA', 'NK']\n",
    "#oP4_ModelBuilder.list_carrier_id = [19790, 19805, 19930, 20409, 20366, 20436, 21171, 19393, 20304, 19977, 19690, 20416]\n",
    "#oP4_ModelBuilder.list_carrier_id = [19790]\n",
    "oP4_ModelBuilder.list_carrier_id = list()\n",
    "\n",
    "oP4_ModelBuilder._frac_test = 0.1\n",
    "oP4_ModelBuilder.fract_data = -1"
   ]
  },
  {
   "cell_type": "markdown",
   "metadata": {},
   "source": [
    "## <font color='blue'>*Méthode load_and_clean()*</font>"
   ]
  },
  {
   "cell_type": "code",
   "execution_count": null,
   "metadata": {
    "scrolled": false
   },
   "outputs": [],
   "source": [
    "list_col_keep = [\n",
    " 'CRS_DEP_TIME'\n",
    ",'ORIGIN_AIRPORT_ID'\n",
    ",'DEST_AIRPORT_ID'          \n",
    ",'ORIGIN_CITY_NAME'\n",
    ",'DEST_CITY_NAME'             \n",
    ",'ARR_DELAY'\n",
    ",'AIRLINE_ID'    \n",
    ",'MONTH'\n",
    ",'DAY_OF_MONTH'\n",
    ",'DAY_OF_WEEK'\n",
    ",'CARRIER'\n",
    ",'CRS_ARR_TIME'    \n",
    ",'FL_NUM'    \n",
    ",'ORIGIN_STATE_ABR'\n",
    ",'DEST_STATE_ABR'    \n",
    "]\n",
    "\n",
    "#-------------------------------------------------------------------------\n",
    "# These features are used for user test \n",
    "#-------------------------------------------------------------------------\n",
    "list_for_user_test =['MONTH','DAY_OF_MONTH','DAY_OF_WEEK'\\\n",
    "      , 'CRS_DEP_TIME','AIRLINE_ID','ORIGIN_CITY_NAME','DEST_CITY_NAME'\\\n",
    "      ,'ARR_DELAY','CARRIER','CRS_ARR_TIME','FL_NUM','ORIGIN_STATE_ABR','DEST_STATE_ABR']\n",
    "\n",
    "#-------------------------------------------------------------------------\n",
    "# These features are excluded from data model\n",
    "#-------------------------------------------------------------------------\n",
    "list_excluded = ['WEEK_OF_MONTH','CARRIER','CRS_ARR_TIME','FL_NUM']\n",
    "\n",
    "list_month = ['01','02','03','04','05','06','07','08','09','10','11','12']\n",
    "#list_month = ['01','02','03','04']\n",
    "\n",
    "list_skip_rows_04 = [121011,386248,388290,389370,389547,453857]\n",
    "dict_skip_rows = dict()\n",
    "dict_skip_rows['01'] = None\n",
    "dict_skip_rows['02'] = None\n",
    "dict_skip_rows['03'] = None\n",
    "dict_skip_rows['04'] = list_skip_rows_04\n",
    "dict_skip_rows['05'] = None\n",
    "dict_skip_rows['06'] = None\n",
    "dict_skip_rows['07'] = None\n",
    "dict_skip_rows['08'] = None\n",
    "dict_skip_rows['09'] = None\n",
    "dict_skip_rows['10'] = None\n",
    "dict_skip_rows['11'] = None\n",
    "dict_skip_rows['12'] = None\n",
    "list_for_cleaning = ['MONTH', 'DAY_OF_MONTH', 'DAY_OF_WEEK'\\\n",
    "                     ,'AIRLINE_ID','ORIGIN_AIRPORT_ID', 'DEST_AIRPORT_ID','CRS_DEP_TIME', 'ARR_DELAY']\n",
    "oP4_ModelBuilder.load_and_clean(list_month,list_col_keep,list_for_cleaning,dict_skip_rows=dict_skip_rows)\n",
    "oP4_ModelBuilder.print()"
   ]
  },
  {
   "cell_type": "raw",
   "metadata": {},
   "source": [
    "oP4_ModelBuilder_save = P4_ModelBuilder(None,None)\n",
    "oP4_ModelBuilder_save.copy(oP4_ModelBuilder)"
   ]
  },
  {
   "cell_type": "raw",
   "metadata": {},
   "source": [
    "oP4_ModelBuilder = P4_ModelBuilder(None,None)\n",
    "oP4_ModelBuilder.copy(oP4_ModelBuilder_save)"
   ]
  },
  {
   "cell_type": "code",
   "execution_count": null,
   "metadata": {},
   "outputs": [],
   "source": [
    "oP4_ModelBuilder.print()"
   ]
  },
  {
   "cell_type": "markdown",
   "metadata": {},
   "source": [
    "## <font color='blue'>Méthode *data_build()*</font>"
   ]
  },
  {
   "cell_type": "raw",
   "metadata": {},
   "source": [
    "z_ = oP4_ModelBuilder._df.HROUTE.hist(bins=50, figsize=(10,10))"
   ]
  },
  {
   "cell_type": "code",
   "execution_count": null,
   "metadata": {},
   "outputs": [],
   "source": [
    "oP4_ModelBuilder._df.shape, oP4_ModelBuilder._df.columns"
   ]
  },
  {
   "cell_type": "raw",
   "metadata": {},
   "source": [
    "['CRS_DEP_TIME', 'ORIGIN_AIRPORT_ID', 'DEST_AIRPORT_ID',\n",
    "       'ORIGIN_CITY_NAME', 'DEST_CITY_NAME', 'ARR_DELAY', 'AIRLINE_ID',\n",
    "       'MONTH', 'DAY_OF_MONTH', 'DAY_OF_WEEK', 'CARRIER', 'CRS_ARR_TIME',\n",
    "       'FL_NUM']"
   ]
  },
  {
   "cell_type": "code",
   "execution_count": null,
   "metadata": {},
   "outputs": [],
   "source": [
    "# References used in LinearDelayPredictor\n",
    "list_ref = ['ORIGIN_CITY_NAME','DEST_CITY_NAME','ORIGIN_STATE_ABR','DEST_STATE_ABR']\n",
    "\n",
    "list_quant = ['CRS_DEP_TIME']\n",
    "#list_quant = None\n",
    "\n",
    "list_target = ['ARR_DELAY']\n",
    "#-------------------------------------------\n",
    "# List of feautres excluded from encoding\n",
    "#-------------------------------------------\n",
    "list_excluded = list()\n",
    "list_excluded.append('ORIGIN_AIRPORT_ID')\n",
    "list_excluded.append('DEST_AIRPORT_ID')\n",
    "list_excluded.append('ORIGIN_CITY_NAME')\n",
    "list_excluded.append('DEST_CITY_NAME')\n",
    "list_excluded.append('ARR_DELAY')\n",
    "list_excluded.append('CARRIER')\n",
    "list_excluded.append('CRS_ARR_TIME')\n",
    "list_excluded.append('FL_NUM')\n",
    "list_excluded.append('WEEK_OF_MONTH')\n",
    "list_excluded.append('ORIGIN_STATE_ABR')\n",
    "list_excluded.append('DEST_STATE_ABR')\n",
    "\n",
    "list_value_excluded = ['FL','N707EV']\n",
    "list_periodic_feature = None\n",
    "#---------------------------------------------------------------------------------------------------------\n",
    "# Record features transformation\n",
    "#---------------------------------------------------------------------------------------------------------\n",
    "oP4_ModelBuilder.dict_feature_processor = {'CRS_DEP_TIME':LinearDelayPredictor.cb_convert_floathour_to_mn}\n",
    "# Values form CRS_DEP_TIME will be converted into mn then hour using 2 successives callback functions.\n",
    "#dict_feature_processor = {'CRS_DEP_TIME':[cb_convert_floathour_to_mn]}\n",
    "#oP4_ModelBuilder.dict_feature_processor = dict_feature_processor.copy()\n",
    "t0 = time.time()\n",
    "\n",
    "oP4_ModelBuilder.data_build(list_ref, list_quant, list_target,list_excluded\\\n",
    "                            ,list_value_excluded=list_value_excluded\\\n",
    "                           ,list_periodic_feature = list_periodic_feature,\n",
    "                           list_for_user_test = list_for_user_test)\n",
    "t1 = time.time()\n",
    "print(\"\\n*** Elapsed time = %0.2F\" %(t1-t0))\n",
    "oP4_ModelBuilder.print()"
   ]
  },
  {
   "cell_type": "raw",
   "metadata": {},
   "source": [
    "oP4_ModelBuilder_save = P4_ModelBuilder(None,None)\n",
    "oP4_ModelBuilder_save.copy(oP4_ModelBuilder)"
   ]
  },
  {
   "cell_type": "raw",
   "metadata": {},
   "source": [
    "from P4_ModelBuilder import *\n",
    "\n",
    "oP4_ModelBuilder = P4_ModelBuilder(None,None)\n",
    "oP4_ModelBuilder.copy(oP4_ModelBuilder_save)\n",
    "oP4_ModelBuilder.dict_feature_processor = {'CRS_DEP_TIME':LinearDelayPredictor.cb_convert_floathour_to_mn}"
   ]
  },
  {
   "cell_type": "code",
   "execution_count": null,
   "metadata": {},
   "outputs": [],
   "source": [
    "len(oP4_ModelBuilder._dict_route_data)"
   ]
  },
  {
   "cell_type": "code",
   "execution_count": null,
   "metadata": {},
   "outputs": [],
   "source": [
    "oP4_ModelBuilder.print()"
   ]
  },
  {
   "cell_type": "code",
   "execution_count": null,
   "metadata": {},
   "outputs": [],
   "source": [
    "import P4_ModelBuilder\n",
    "\n",
    "print(\"\\n*** Dumping oP4_ModelBuilder after data_build()...\")\n",
    "P4_ModelBuilder.dump_me(oP4_ModelBuilder,\"./data/oP4_ModelBuilder_data_build.dump\")\n",
    "print(\"*** Done!\\n\")"
   ]
  },
  {
   "cell_type": "raw",
   "metadata": {},
   "source": [
    "import P4_ModelBuilder\n",
    "\n",
    "print(\"\\n*** Reloading oP4_ModelBuilder...\")\n",
    "oP4_ModelBuilder = P4_ModelBuilder.reloadme()\n",
    "print(\"*** Done!\\n\")\n",
    "oP4_ModelBuilder.print()"
   ]
  },
  {
   "cell_type": "markdown",
   "metadata": {},
   "source": [
    "## <font color='blue'>Méthode *model_build()*</font>"
   ]
  },
  {
   "cell_type": "code",
   "execution_count": null,
   "metadata": {},
   "outputs": [],
   "source": [
    "import P4_ModelBuilder\n",
    "from P4_ModelBuilder import *\n",
    "\n",
    "n_alphas = 20\n",
    "dict_parameters_ridge = {'n_alphas':n_alphas,'list_alphas': np.logspace(1, 2, n_alphas)}\n",
    "dict_parameters_lasso = {'n_alphas':n_alphas,'list_alphas': np.logspace(-5, 5, n_alphas)}\n",
    "\n",
    "list_alphas_sgdreg =  {'max_iter':[5, 10, 20, 40], 'penalty':[None, \"l1\", \"l2\", \"elasticnet\"]\\\n",
    "         , \"alpha\":[0.0001, 0.001, 0.01]\\\n",
    "         , \"l1_ratio\": [0.15, 0.5, 0.85] }\n",
    "dict_parameters_sgdreg= {'n_alphas':None,'list_alphas':list_alphas_sgdreg}\n",
    "\n",
    "dict_models_parameters = dict()\n",
    "dict_models_parameters['SGDRegressor'] = dict_parameters_sgdreg\n",
    "if False :\n",
    "    dict_models_parameters['DummyRegressor'] = None\n",
    "    dict_models_parameters['LinearRegression'] = None\n",
    "    dict_models_parameters['Lasso'] = dict_parameters_lasso\n",
    "    dict_models_parameters['Ridge'] = dict_parameters_ridge\n",
    "    dict_models_parameters['SGDRegressor'] = dict_parameters_sgdreg\n",
    "t0 = time.time()\n",
    "oP4_ModelBuilder._model_build(dict_models_parameters)\n",
    "t1 = time.time()\n",
    "\n",
    "print(\"\\n *** Elapsed time = %1.2F\"%(t1-t0))\n",
    "\n",
    "#oP4_ModelBuilder_save = P4_ModelBuilder(None,None)\n",
    "#oP4_ModelBuilder_save.copy(oP4_ModelBuilder)"
   ]
  },
  {
   "cell_type": "code",
   "execution_count": null,
   "metadata": {},
   "outputs": [],
   "source": [
    "import P4_ModelBuilder\n",
    "\n",
    "print(\"\\n*** Dumping oP4_ModelBuilder after model_build()...\")\n",
    "P4_ModelBuilder.dump_me(oP4_ModelBuilder,\"./data/oP4_ModelBuilder_model_build.dump\")\n",
    "print(\"*** Done!\\n\")"
   ]
  },
  {
   "cell_type": "code",
   "execution_count": null,
   "metadata": {},
   "outputs": [],
   "source": [
    "#oP4_ModelBuilder._print_result()\n",
    "oP4_ModelBuilder.predictor_dump()"
   ]
  },
  {
   "cell_type": "raw",
   "metadata": {},
   "source": [
    "from P4_ModelBuilder import *\n",
    "\n",
    "#------------------------------------------------------------------------------\n",
    "# Create a saved oP4_ModelBuilder object \n",
    "# then copy back current oP4_ModelBuilder object\n",
    "#------------------------------------------------------------------------------\n",
    "oP4_ModelBuilder_save = P4_ModelBuilder(None,None)\n",
    "oP4_ModelBuilder_save.copy(oP4_ModelBuilder)\n",
    "\n",
    "#------------------------------------------------------------------------------\n",
    "# The following instruction is required in order to dump oLinearPredictor object.\n",
    "# Otherwise, Pickle raises an error.\n",
    "#------------------------------------------------------------------------------\n",
    "oP4_ModelBuilder_save.dict_feature_processor ={'CRS_DEP_TIME':LinearDelayPredictor.cb_convert_floathour_to_mn}\n",
    "\n",
    "#------------------------------------------------------------------------------\n",
    "# Dumping....\n",
    "#------------------------------------------------------------------------------\n",
    "oP4_ModelBuilder_save.predictor_dump()"
   ]
  },
  {
   "cell_type": "raw",
   "metadata": {},
   "source": [
    "oP4_ModelBuilder_save.oLinearDelayPredictor.print()"
   ]
  },
  {
   "cell_type": "raw",
   "metadata": {},
   "source": [
    "from P4_ModelBuilder import *\n",
    "\n",
    "oP4_ModelBuilder = P4_ModelBuilder(None,None)\n",
    "oP4_ModelBuilder.copy(oP4_ModelBuilder_save)\n",
    "#oP4_ModelBuilder.dict_feature_processor = {'CRS_DEP_TIME':LinearDelayPredictor.cb_convert_floathour_to_mn}"
   ]
  },
  {
   "cell_type": "code",
   "execution_count": null,
   "metadata": {},
   "outputs": [],
   "source": [
    "oP4_ModelBuilder.print()"
   ]
  },
  {
   "cell_type": "markdown",
   "metadata": {},
   "source": [
    "# <font color='blus'> Test de l'application de prédiction</font>"
   ]
  },
  {
   "cell_type": "code",
   "execution_count": null,
   "metadata": {},
   "outputs": [],
   "source": [
    "import LinearDelayPredictor\n",
    "oLinearDelayPredictor = LinearDelayPredictor.LinearDelayPredictor()\n",
    "if True :\n",
    "    oLinearDelayPredictor_reloaded = LinearDelayPredictor.load_dumped()\n",
    "    oLinearDelayPredictor.copy(oLinearDelayPredictor_reloaded)\n",
    "    \n",
    "else :\n",
    "    oLinearDelayPredictor = oP4_ModelBuilder._oLinearDelayPredictor\n",
    "#oLinearDelayPredictor.print()\n",
    "#oLinearDelayPredictor.dump()\n",
    "\n",
    "#oLinearDelayPredictor.model_name = 'DummyRegressor'\n"
   ]
  },
  {
   "cell_type": "code",
   "execution_count": null,
   "metadata": {},
   "outputs": [],
   "source": [
    "oLinearDelayPredictor.print()"
   ]
  },
  {
   "cell_type": "code",
   "execution_count": null,
   "metadata": {},
   "outputs": [],
   "source": [
    "for test_count in range(1,20,1) :\n",
    "    #df_param = oLinearDelayPredictor._df_user_test.sample(1)\n",
    "    df_param = oLinearDelayPredictor.get_random_flights(10)\n",
    "    if df_param is None :\n",
    "        print(\"\\n*** ERROR : no data with available routes! \")\n",
    "        break\n",
    "    #df_param = oLinearDelayPredictor._df_user_test.sample(1)\n",
    "    #df_param = oLinearDelayPredictor._df_user_test.copy()\n",
    "    #origin, destination = oP4_ModelBuilder._get_route()\n",
    "    #print(origin, destination)\n",
    "    index_row = df_param.index[0]\n",
    "    month=df_param.loc[index_row,'MONTH']\n",
    "    \n",
    "    day_of_month=df_param.loc[index_row,'DAY_OF_MONTH']\n",
    "    day_of_week=df_param.loc[index_row,'DAY_OF_WEEK']\n",
    "    crs_dep_time = df_param.loc[index_row,'CRS_DEP_TIME']\n",
    "    \n",
    "    airline_id = df_param.loc[index_row,'AIRLINE_ID']\n",
    "    arr_delay = df_param.loc[index_row,'ARR_DELAY']\n",
    "\n",
    "    origin_city_name = df_param.loc[index_row,'ORIGIN_CITY_NAME']\n",
    "    dest_city_name = df_param.loc[index_row,'DEST_CITY_NAME']\n",
    "\n",
    "    origin_state_abr = df_param.loc[index_row,'ORIGIN_STATE_ABR']\n",
    "    dest_state_abr = df_param.loc[index_row,'DEST_STATE_ABR']\n",
    "    \n",
    "    \n",
    "    print(\"Month             = {}\".format(month))\n",
    "    print(\"Day Of Month      = {}\".format(day_of_month))\n",
    "    print(\"Day Of Week       = {}\".format(day_of_week))\n",
    "    print(\"Depart time       = {}\".format(crs_dep_time))\n",
    "    print(\"Airline ID        = {}\".format(airline_id))\n",
    "    print(\"Origin            = {}\".format(origin_city_name))\n",
    "    print(\"Destination       = {}\".format(dest_city_name))\n",
    "    print(\"Origin state      = {}\".format(origin_state_abr))\n",
    "    print(\"Destination state = {}\".format(dest_state_abr))\n",
    "\n",
    "    route = oLinearDelayPredictor._get_route(origin_city_name,dest_city_name)\n",
    "\n",
    "    #print(\"Route  = {}\\n\".format(route))\n",
    "    \n",
    "    list_qualitative = [airline_id, month, day_of_month, day_of_week, origin_state_abr, dest_state_abr]\n",
    "    list_quantitative = [crs_dep_time]\n",
    "    list_route = [origin_city_name,dest_city_name]\n",
    "    oLinearDelayPredictor.model_name = 'SGDRegressor'\n",
    "    \n",
    "    result_delay, dict_result_delay \\\n",
    "    = oLinearDelayPredictor._forecast_delay(list_qualitative,list_quantitative, list_route,is_all_model=False)\n",
    "    #print(dict_result_delay,result_delay)\n",
    "    if dict_result_delay is not None :\n",
    "        dict_result_delay['measure'] = arr_delay\n",
    "        #print(\"\")\n",
    "        #print(\"Measured delay for flight : %1.2F\" %arr_delay)\n",
    "        LinearDelayPredictor.print_delays(dict_result_delay)\n",
    "        #print(\"dict_result_delay = {}\".format(dict_result_delay ))\n",
    "    else :\n",
    "        print(\"\\n*** ERROR : delay evaluation FAILED!\")\n",
    "\n",
    "    "
   ]
  },
  {
   "cell_type": "markdown",
   "metadata": {},
   "source": [
    "# <font color='blue'>Calcul de la moyenne pondérée par route</font>"
   ]
  },
  {
   "cell_type": "markdown",
   "metadata": {},
   "source": [
    "** <font color='blue'>Calcul de la fréquence par route</font>**"
   ]
  },
  {
   "cell_type": "code",
   "execution_count": null,
   "metadata": {},
   "outputs": [],
   "source": []
  },
  {
   "cell_type": "raw",
   "metadata": {},
   "source": [
    "oP4_ModelBuilder._df.columns"
   ]
  },
  {
   "cell_type": "code",
   "execution_count": null,
   "metadata": {},
   "outputs": [],
   "source": [
    "oP4_ModelBuilder._dict_route_data[3089]['result']['SGDRegressor']['MAE']"
   ]
  }
 ],
 "metadata": {
  "kernelspec": {
   "display_name": "Python 3",
   "language": "python",
   "name": "python3"
  },
  "language_info": {
   "codemirror_mode": {
    "name": "ipython",
    "version": 3
   },
   "file_extension": ".py",
   "mimetype": "text/x-python",
   "name": "python",
   "nbconvert_exporter": "python",
   "pygments_lexer": "ipython3",
   "version": "3.6.4"
  }
 },
 "nbformat": 4,
 "nbformat_minor": 2
}
