{
 "cells": [
  {
   "cell_type": "markdown",
   "metadata": {},
   "source": [
    "<!--NOTEBOOK_INFORMATION-->\n",
    "<img align=\"left\" style=\"padding-right:10px;\" src=\"./figures/LogoOpenclassrooms.png\">\n",
    "<font size=\"4\">\n",
    "<p>\n",
    "Cette étude a été réalisée dans le cadre du 4eme projet de ma formation Datascientist dispensée en MOOC par \n",
    "**<font color='blus'>Openclassrooms / écoles Centrale-Supélec</font>**.\n",
    "</p>    \n",
    "\n",
    "<p>\n",
    "Ce notebook présente un modèle de prédiction des retards d'avions. \n",
    "</p>\n",
    "<p>\n",
    "Le modèle se base sur les données fournies par le site :\n",
    "</p>\n",
    "<p>\n",
    "https://www.transtats.bts.gov/DL_SelectFields.asp?Table_ID=236&DB_Short_Name=On-Time\n",
    "</p>\n",
    "<p>\n",
    "</p>\n",
    "</font>"
   ]
  },
  {
   "cell_type": "markdown",
   "metadata": {},
   "source": [
    "# <font color='blus'> Synthèse du 24/05/2018</font>\n",
    "\n",
    "## <font color='blue'>Nature du pb à résoudre</font>\n",
    "* Problème de prédiction.\n",
    "* Orientation vers un algorithme de régression.\n",
    "\n",
    "## <font color='blue'>Acquisition des données</font>\n",
    "* Problème de débordement mémoire\n",
    "\n",
    "## <font color='blue'>Préparation des données</font>\n",
    "* Traitement des valeurs a Nan\n",
    "\n",
    "## <font color='blue'>Analyse exploratoire</font>\n",
    "Objectifs: appréhender la nature du problème à résoudre pour s'orienter vers des modèles de prédictions.\n",
    "* Correlations\n",
    "* Analyse en composantes principales :  quelles sont les variables qui expliquent le plus la variance? Réduction de dimension possible?\n",
    "\n",
    "## <font color='blue'>Evaluation des modèles de prédiction</font>\n",
    "* Modèle linéaire : basé sur une combinaison linéaire des variables.__Comment justifier l'hyopthèse de linéarité?__\n",
    "* Choix des hyper-paramètres : Grid search\n",
    "* Entraînement des modèles : validation croisée\n",
    "* Prédiction des retards avec un score : prédiction de la valeur du retard\n",
    "* Prédiction binaire du retard : en retard / pas en retard\n",
    "* Comparaison des performances avec des modèles naïfs.\n",
    "* Augmentation de la performance des algorithmes évalués\n",
    "\n",
    "## <font color='blue'>Choix du modèle de prédiction</font>\n",
    "\n",
    "\n",
    "* Anticiper les retards : retard = heure atterissage - heure prévue.\n",
    "* Créer la colonne avant la séparation et supprimer la colonne dont elle dépend. Sinon phénomène de __DATA LEAKAGE__. *En effet, si on utilise deux variables pour en créer une 3eme, alors lorsque l'on va prédire, à un instant dans le futur, une valeur pour cette 3eme variable, les valeurs des 2 variables utilisées ne seront plus valables au moment de la prédiction. Les variables ayant servies à créer cette nouvelle variable doivent être **exclues du modèle**.*.\n",
    "\n",
    "* Les étiquettes sont a valeurs dans les réels. On utilisera donc une regression linéaire pour la prédiction des retards.\n",
    "\n",
    "* Après modélisation, si la mtrice X.T.dot(X) est inversible, alors le pb admet une solution unique et explicite, issue de la maximisation de la vraissemblance du modèle, i.e, la maximisation de la probabilité de calculer la valeur de la cible (ici, pour ce problème, les retards).\n",
    "\n",
    "* Technique courante sur les lignes : définir les indices das un vecteur modele réduit Etudier l'impact de la taille des données d'entraînement sur la qualité de la prédiction. 20%, 40%, 30% de l'entraînement et regarder la performance.\n",
    "* Supprimer les colones qui n'apporent rien a la prediction\n",
    "* Regression : foncton de out a optimiser va inclure les coeff de Ridge de et Lasso Initialement, sans regularisation. Par la suite, essayer la recherche d'hyper-paramètres l1 et l2 qui controlent Ridge et Lasso. __Coder une seule loss__ qui jauge l'effet de la régularisation L1 et L2. __==> utiliser la regression elestic net.__\n",
    "\n",
    "* Conclusion : jouer le jeux de test et évaluer l'erreur quadratique.\n",
    "\n",
    "* __Le pb est formulé en prédiction__ : entraîner un modele sur Janv--> mars, essayer sur Avril. Ce, pour répondre a la probléamatique : évaluer les retards dans le futur.\n",
    "* Entraîner surr 15 premiers jours et tester sur les derniers jours.\n",
    "\n",
    "\n",
    "\n"
   ]
  },
  {
   "cell_type": "markdown",
   "metadata": {},
   "source": [
    "# <font color='blus'> Synthèse du 19/05/2018</font>\n",
    "\n",
    "## <font color='blue'>Acquisition des données</font>\n",
    "* Exploration des données et modèle sur un mois\n",
    "\n",
    "## <font color='blue'>Préparation des données</font>\n",
    "* Traitement des valeurs a Nan remplacées par la valeur moyenne dans le vecteur étiquette \n",
    "* Mises a 0 sur les autres données.\n",
    "\n",
    "## <font color='blue'>Analyse exploratoire</font>\n",
    "Objectifs: appréhender la nature du problème à résoudre pour s'orienter vers des modèles de prédictions.\n",
    "* Correlations : données corrélées sur les retards ==> élimination des colonnes corrélées?\n",
    "\n",
    "## <font color='blue'>Evaluation d'un modèle de prédiciton binaire : KNN</font>\n",
    "* Choix des hyper-paramètres : Grid search\n",
    "* Entraînement des modèles : validation croisée\n",
    "* Affichage des performances du modèle : MSE et matrice de confusion\n",
    "\n",
    "## <font color='blue'>Modèle de prédiction par regression : SVR </font>\n",
    "* Données d'entraînement : sur un mois, les 3 premières semaines.\n",
    "* Regression linéaire par vecteur de support\n",
    "\n",
    "\n",
    "\n"
   ]
  },
  {
   "cell_type": "code",
   "execution_count": null,
   "metadata": {},
   "outputs": [],
   "source": []
  },
  {
   "cell_type": "markdown",
   "metadata": {},
   "source": [
    "# <font color='blues'>Acquisition des données</font>"
   ]
  },
  {
   "cell_type": "markdown",
   "metadata": {},
   "source": [
    "__Loading Python lib used for project__"
   ]
  },
  {
   "cell_type": "code",
   "execution_count": 1,
   "metadata": {},
   "outputs": [],
   "source": [
    "import pandas as pd\n",
    "from p3_util import *\n",
    "from p3_util_plot import *"
   ]
  },
  {
   "cell_type": "markdown",
   "metadata": {},
   "source": [
    "__Data loading initialization with 1st month__"
   ]
  },
  {
   "cell_type": "code",
   "execution_count": 2,
   "metadata": {},
   "outputs": [
    {
     "name": "stdout",
     "output_type": "stream",
     "text": [
      "Month 03 loaded!\n",
      "(479122, 65)\n"
     ]
    }
   ],
   "source": [
    "path_name = \"./data/Dataset+Projet+4/2016\"\n",
    "month = '03'\n",
    "\n",
    "path_name_month = path_name+\"_\"+str(month)+\".csv\"\n",
    "df_dealays = pd.read_csv(path_name_month, delimiter=',',low_memory=False)\n",
    "print(\"Month \"+month+\" loaded!\")\n",
    "print(df_dealays.shape)"
   ]
  },
  {
   "cell_type": "markdown",
   "metadata": {},
   "source": [
    "__Loading remainings month__"
   ]
  },
  {
   "cell_type": "raw",
   "metadata": {},
   "source": [
    "list_month=['02','03','04','05','06']\n",
    "\n",
    "# Loading remaining months against list_month\n",
    "for month in list_month :\n",
    "    path_name_month = path_name+\"_\"+str(month)+\".csv\"\n",
    "    df_dealays = df_dealays.add(pd.read_csv(path_name_month, delimiter=','))\n",
    "    print(\"Month \"+month+\" loaded!\")\n",
    "    print(df_dealays.shape)\n",
    "    print(df_dealays.columns)\n",
    "    "
   ]
  },
  {
   "cell_type": "code",
   "execution_count": 3,
   "metadata": {},
   "outputs": [
    {
     "name": "stdout",
     "output_type": "stream",
     "text": [
      "(479122, 65)\n",
      "Index(['YEAR', 'QUARTER', 'MONTH', 'DAY_OF_MONTH', 'DAY_OF_WEEK', 'FL_DATE',\n",
      "       'UNIQUE_CARRIER', 'AIRLINE_ID', 'CARRIER', 'TAIL_NUM', 'FL_NUM',\n",
      "       'ORIGIN_AIRPORT_ID', 'ORIGIN_AIRPORT_SEQ_ID', 'ORIGIN_CITY_MARKET_ID',\n",
      "       'ORIGIN', 'ORIGIN_CITY_NAME', 'ORIGIN_STATE_ABR', 'ORIGIN_STATE_FIPS',\n",
      "       'ORIGIN_STATE_NM', 'ORIGIN_WAC', 'DEST_AIRPORT_ID',\n",
      "       'DEST_AIRPORT_SEQ_ID', 'DEST_CITY_MARKET_ID', 'DEST', 'DEST_CITY_NAME',\n",
      "       'DEST_STATE_ABR', 'DEST_STATE_FIPS', 'DEST_STATE_NM', 'DEST_WAC',\n",
      "       'CRS_DEP_TIME', 'DEP_TIME', 'DEP_DELAY', 'DEP_DELAY_NEW', 'DEP_DEL15',\n",
      "       'DEP_DELAY_GROUP', 'DEP_TIME_BLK', 'TAXI_OUT', 'WHEELS_OFF',\n",
      "       'WHEELS_ON', 'TAXI_IN', 'CRS_ARR_TIME', 'ARR_TIME', 'ARR_DELAY',\n",
      "       'ARR_DELAY_NEW', 'ARR_DEL15', 'ARR_DELAY_GROUP', 'ARR_TIME_BLK',\n",
      "       'CANCELLED', 'CANCELLATION_CODE', 'DIVERTED', 'CRS_ELAPSED_TIME',\n",
      "       'ACTUAL_ELAPSED_TIME', 'AIR_TIME', 'FLIGHTS', 'DISTANCE',\n",
      "       'DISTANCE_GROUP', 'CARRIER_DELAY', 'WEATHER_DELAY', 'NAS_DELAY',\n",
      "       'SECURITY_DELAY', 'LATE_AIRCRAFT_DELAY', 'FIRST_DEP_TIME',\n",
      "       'TOTAL_ADD_GTIME', 'LONGEST_ADD_GTIME', 'Unnamed: 64'],\n",
      "      dtype='object')\n"
     ]
    }
   ],
   "source": [
    "print(df_dealays.shape)\n",
    "print(df_dealays.columns)\n"
   ]
  },
  {
   "cell_type": "code",
   "execution_count": 4,
   "metadata": {},
   "outputs": [
    {
     "data": {
      "text/plain": [
       "(96760      NaN\n",
       " 384670     NaN\n",
       " 470819     NaN\n",
       " 363504     NaN\n",
       " 195587     NaN\n",
       " 214907    11.0\n",
       " 374047     NaN\n",
       " 219589     NaN\n",
       " 195655     0.0\n",
       " 107416     NaN\n",
       " Name: CARRIER_DELAY, dtype: float64, 35880     NaN\n",
       " 430568    NaN\n",
       " 89064     NaN\n",
       " 219327    NaN\n",
       " 289098    NaN\n",
       " 416851    NaN\n",
       " 191295    NaN\n",
       " 90288     0.0\n",
       " 324151    NaN\n",
       " 463423    0.0\n",
       " Name: WEATHER_DELAY, dtype: float64, 471591    0.0\n",
       " 153567    NaN\n",
       " 234236    NaN\n",
       " 100405    0.0\n",
       " 183200    NaN\n",
       " 290177    NaN\n",
       " 286426    NaN\n",
       " 46690     NaN\n",
       " 458901    NaN\n",
       " 383067    NaN\n",
       " Name: NAS_DELAY, dtype: float64, 449464   NaN\n",
       " 93579    NaN\n",
       " 71852    NaN\n",
       " 287578   NaN\n",
       " 122432   NaN\n",
       " 384787   NaN\n",
       " 326197   NaN\n",
       " 428657   NaN\n",
       " 24478    NaN\n",
       " 291669   NaN\n",
       " Name: SECURITY_DELAY, dtype: float64, 339144    NaN\n",
       " 257759    0.0\n",
       " 317467    NaN\n",
       " 31908     NaN\n",
       " 120549    NaN\n",
       " 72402     NaN\n",
       " 441074    NaN\n",
       " 82305     NaN\n",
       " 158735    NaN\n",
       " 3928      NaN\n",
       " Name: LATE_AIRCRAFT_DELAY, dtype: float64)"
      ]
     },
     "execution_count": 4,
     "metadata": {},
     "output_type": "execute_result"
    }
   ],
   "source": [
    "sampling=10\n",
    "df_dealays.CARRIER_DELAY.sample(sampling),\\\n",
    "df_dealays.WEATHER_DELAY.sample(sampling),\\\n",
    "df_dealays.NAS_DELAY.sample(sampling),\\\n",
    "df_dealays.SECURITY_DELAY.sample(sampling),\\\n",
    "df_dealays.LATE_AIRCRAFT_DELAY.sample(sampling)"
   ]
  },
  {
   "cell_type": "markdown",
   "metadata": {},
   "source": [
    "# <font color='blues'>Data preparation</font>"
   ]
  },
  {
   "cell_type": "markdown",
   "metadata": {},
   "source": [
    "__Nan values processing__"
   ]
  },
  {
   "cell_type": "code",
   "execution_count": 5,
   "metadata": {},
   "outputs": [
    {
     "name": "stdout",
     "output_type": "stream",
     "text": [
      "(479122, 65)\n",
      "(479122, 50)\n",
      "['FL_DATE', 'UNIQUE_CARRIER', 'CARRIER', 'TAIL_NUM', 'ORIGIN', 'ORIGIN_CITY_NAME', 'ORIGIN_STATE_ABR', 'ORIGIN_STATE_NM', 'DEST', 'DEST_CITY_NAME', 'DEST_STATE_ABR', 'DEST_STATE_NM', 'DEP_TIME_BLK', 'ARR_TIME_BLK', 'CANCELLATION_CODE']\n"
     ]
    }
   ],
   "source": [
    "# Getting digital dataframe with ditigal columns only\n",
    "print(df_dealays.shape)\n",
    "\n",
    "df_dealays_digit,list_col_notdigit = df_get_digital_columns(df_dealays) \n",
    "print(df_dealays_digit.shape)\n",
    "print(list_col_notdigit)\n"
   ]
  },
  {
   "cell_type": "code",
   "execution_count": 6,
   "metadata": {},
   "outputs": [
    {
     "data": {
      "text/plain": [
       "Index(['YEAR', 'QUARTER', 'MONTH', 'DAY_OF_MONTH', 'DAY_OF_WEEK', 'AIRLINE_ID',\n",
       "       'FL_NUM', 'ORIGIN_AIRPORT_ID', 'ORIGIN_AIRPORT_SEQ_ID',\n",
       "       'ORIGIN_CITY_MARKET_ID', 'ORIGIN_STATE_FIPS', 'ORIGIN_WAC',\n",
       "       'DEST_AIRPORT_ID', 'DEST_AIRPORT_SEQ_ID', 'DEST_CITY_MARKET_ID',\n",
       "       'DEST_STATE_FIPS', 'DEST_WAC', 'CRS_DEP_TIME', 'DEP_TIME', 'DEP_DELAY',\n",
       "       'DEP_DELAY_NEW', 'DEP_DEL15', 'DEP_DELAY_GROUP', 'TAXI_OUT',\n",
       "       'WHEELS_OFF', 'WHEELS_ON', 'TAXI_IN', 'CRS_ARR_TIME', 'ARR_TIME',\n",
       "       'ARR_DELAY', 'ARR_DELAY_NEW', 'ARR_DEL15', 'ARR_DELAY_GROUP',\n",
       "       'CANCELLED', 'DIVERTED', 'CRS_ELAPSED_TIME', 'ACTUAL_ELAPSED_TIME',\n",
       "       'AIR_TIME', 'FLIGHTS', 'DISTANCE', 'DISTANCE_GROUP'],\n",
       "      dtype='object')"
      ]
     },
     "execution_count": 6,
     "metadata": {},
     "output_type": "execute_result"
    }
   ],
   "source": [
    "df_dealays_digit_sample = df_dealays_digit.sample(int(df_dealays.shape[0]/10))\n",
    "\n",
    "df_dealays_digit_sample.columns\n",
    "df_dealays_digit_sample_restricted = df_dealays_digit_sample.iloc[:,:-9]\n",
    "df_dealays_digit_sample_restricted.columns"
   ]
  },
  {
   "cell_type": "code",
   "execution_count": 7,
   "metadata": {},
   "outputs": [
    {
     "name": "stdout",
     "output_type": "stream",
     "text": [
      "DEP_TIME nan\n",
      "DEP_TIME nan\n",
      "DEP_TIME nan\n",
      "DEP_TIME nan\n",
      "DEP_TIME nan\n",
      "DEP_TIME nan\n",
      "DEP_TIME nan\n",
      "DEP_TIME nan\n",
      "DEP_TIME nan\n",
      "DEP_TIME nan\n",
      "DEP_TIME nan\n",
      "DEP_TIME nan\n",
      "DEP_TIME nan\n",
      "DEP_TIME nan\n",
      "DEP_TIME nan\n",
      "DEP_TIME nan\n",
      "DEP_TIME nan\n",
      "DEP_TIME nan\n",
      "DEP_TIME nan\n",
      "DEP_TIME nan\n",
      "DEP_TIME nan\n",
      "DEP_TIME nan\n",
      "DEP_TIME nan\n",
      "DEP_TIME nan\n",
      "DEP_TIME nan\n",
      "DEP_TIME nan\n",
      "DEP_TIME nan\n",
      "DEP_TIME nan\n",
      "DEP_TIME nan\n",
      "DEP_TIME nan\n",
      "DEP_TIME nan\n",
      "DEP_TIME nan\n",
      "DEP_TIME nan\n",
      "DEP_TIME nan\n",
      "DEP_TIME nan\n",
      "DEP_TIME nan\n",
      "DEP_TIME nan\n",
      "DEP_TIME nan\n",
      "DEP_TIME nan\n",
      "DEP_TIME nan\n",
      "DEP_TIME nan\n",
      "DEP_TIME nan\n",
      "DEP_TIME nan\n",
      "DEP_TIME nan\n",
      "DEP_TIME nan\n",
      "DEP_TIME nan\n",
      "DEP_TIME nan\n",
      "DEP_TIME nan\n",
      "DEP_TIME nan\n",
      "DEP_TIME nan\n",
      "DEP_TIME nan\n",
      "DEP_TIME nan\n",
      "DEP_TIME nan\n",
      "DEP_TIME nan\n",
      "DEP_TIME nan\n",
      "DEP_TIME nan\n",
      "DEP_TIME nan\n",
      "DEP_TIME nan\n",
      "DEP_TIME nan\n",
      "DEP_TIME nan\n",
      "DEP_TIME nan\n",
      "DEP_TIME nan\n",
      "DEP_TIME nan\n",
      "DEP_TIME nan\n",
      "DEP_TIME nan\n",
      "DEP_TIME nan\n",
      "DEP_TIME nan\n",
      "DEP_TIME nan\n",
      "DEP_TIME nan\n",
      "DEP_TIME nan\n",
      "DEP_TIME nan\n",
      "DEP_TIME nan\n",
      "DEP_TIME nan\n",
      "DEP_TIME nan\n",
      "DEP_TIME nan\n",
      "DEP_TIME nan\n",
      "DEP_TIME nan\n",
      "DEP_TIME nan\n",
      "DEP_TIME nan\n",
      "DEP_TIME nan\n",
      "DEP_TIME nan\n",
      "DEP_TIME nan\n",
      "DEP_TIME nan\n",
      "DEP_TIME nan\n",
      "DEP_TIME nan\n",
      "DEP_TIME nan\n",
      "DEP_TIME nan\n",
      "DEP_TIME nan\n",
      "DEP_TIME nan\n",
      "DEP_TIME nan\n",
      "DEP_TIME nan\n",
      "DEP_TIME nan\n",
      "DEP_TIME nan\n",
      "DEP_TIME nan\n",
      "DEP_TIME nan\n",
      "DEP_TIME nan\n",
      "DEP_TIME nan\n",
      "DEP_TIME nan\n",
      "DEP_TIME nan\n",
      "DEP_TIME nan\n",
      "DEP_TIME nan\n",
      "DEP_TIME nan\n",
      "DEP_TIME nan\n",
      "DEP_TIME nan\n",
      "DEP_TIME nan\n",
      "DEP_TIME nan\n",
      "DEP_TIME nan\n",
      "DEP_TIME nan\n",
      "DEP_TIME nan\n",
      "DEP_TIME nan\n",
      "DEP_TIME nan\n",
      "DEP_TIME nan\n",
      "DEP_TIME nan\n",
      "DEP_TIME nan\n",
      "DEP_TIME nan\n",
      "DEP_TIME nan\n",
      "DEP_TIME nan\n",
      "DEP_TIME nan\n",
      "DEP_TIME nan\n",
      "DEP_TIME nan\n",
      "DEP_TIME nan\n",
      "DEP_TIME nan\n",
      "DEP_TIME nan\n",
      "DEP_TIME nan\n",
      "DEP_TIME nan\n",
      "DEP_TIME nan\n",
      "DEP_TIME nan\n",
      "DEP_TIME nan\n",
      "DEP_TIME nan\n",
      "DEP_TIME nan\n",
      "DEP_TIME nan\n",
      "DEP_TIME nan\n",
      "DEP_TIME nan\n",
      "DEP_TIME nan\n",
      "DEP_TIME nan\n",
      "DEP_TIME nan\n",
      "DEP_TIME nan\n",
      "DEP_TIME nan\n",
      "DEP_TIME nan\n",
      "DEP_TIME nan\n",
      "DEP_TIME nan\n",
      "DEP_TIME nan\n",
      "DEP_TIME nan\n",
      "DEP_TIME nan\n",
      "DEP_TIME nan\n",
      "DEP_TIME nan\n",
      "DEP_TIME nan\n",
      "DEP_TIME nan\n",
      "DEP_TIME nan\n",
      "DEP_TIME nan\n",
      "DEP_TIME nan\n",
      "DEP_TIME nan\n",
      "DEP_TIME nan\n",
      "DEP_TIME nan\n",
      "DEP_TIME nan\n",
      "DEP_TIME nan\n",
      "DEP_TIME nan\n",
      "DEP_TIME nan\n",
      "DEP_TIME nan\n",
      "DEP_TIME nan\n",
      "DEP_TIME nan\n",
      "DEP_TIME nan\n",
      "DEP_TIME nan\n",
      "DEP_TIME nan\n",
      "DEP_TIME nan\n",
      "DEP_TIME nan\n",
      "DEP_TIME nan\n",
      "DEP_TIME nan\n",
      "DEP_TIME nan\n",
      "DEP_TIME nan\n",
      "DEP_TIME nan\n",
      "DEP_TIME nan\n",
      "DEP_TIME nan\n",
      "DEP_TIME nan\n",
      "DEP_TIME nan\n",
      "DEP_TIME nan\n",
      "DEP_TIME nan\n",
      "DEP_TIME nan\n",
      "DEP_TIME nan\n",
      "DEP_TIME nan\n",
      "DEP_TIME nan\n",
      "DEP_TIME nan\n",
      "DEP_TIME nan\n",
      "DEP_TIME nan\n",
      "DEP_TIME nan\n",
      "DEP_TIME nan\n",
      "DEP_TIME nan\n",
      "DEP_TIME nan\n",
      "DEP_TIME nan\n",
      "DEP_TIME nan\n",
      "DEP_TIME nan\n",
      "DEP_TIME nan\n",
      "DEP_TIME nan\n",
      "DEP_TIME nan\n",
      "DEP_TIME nan\n",
      "DEP_TIME nan\n",
      "DEP_TIME nan\n",
      "DEP_TIME nan\n",
      "DEP_TIME nan\n",
      "DEP_TIME nan\n",
      "DEP_TIME nan\n",
      "DEP_TIME nan\n",
      "DEP_TIME nan\n",
      "DEP_TIME nan\n",
      "DEP_TIME nan\n",
      "DEP_TIME nan\n",
      "DEP_TIME nan\n",
      "DEP_TIME nan\n",
      "DEP_TIME nan\n",
      "DEP_TIME nan\n",
      "DEP_TIME nan\n",
      "DEP_TIME nan\n",
      "DEP_TIME nan\n",
      "DEP_TIME nan\n",
      "DEP_TIME nan\n",
      "DEP_TIME nan\n",
      "DEP_TIME nan\n",
      "DEP_TIME nan\n",
      "DEP_TIME nan\n",
      "DEP_TIME nan\n",
      "DEP_TIME nan\n",
      "DEP_TIME nan\n",
      "DEP_TIME nan\n",
      "DEP_TIME nan\n",
      "DEP_TIME nan\n",
      "DEP_TIME nan\n",
      "DEP_TIME nan\n",
      "DEP_TIME nan\n",
      "DEP_TIME nan\n",
      "DEP_TIME nan\n",
      "DEP_TIME nan\n",
      "DEP_TIME nan\n",
      "DEP_TIME nan\n",
      "DEP_TIME nan\n",
      "DEP_TIME nan\n",
      "DEP_TIME nan\n",
      "DEP_TIME nan\n",
      "DEP_TIME nan\n",
      "DEP_TIME nan\n",
      "DEP_TIME nan\n",
      "DEP_TIME nan\n",
      "DEP_TIME nan\n",
      "DEP_TIME nan\n",
      "DEP_TIME nan\n",
      "DEP_TIME nan\n",
      "DEP_TIME nan\n",
      "DEP_TIME nan\n",
      "DEP_TIME nan\n",
      "DEP_TIME nan\n",
      "DEP_TIME nan\n",
      "DEP_TIME nan\n",
      "DEP_TIME nan\n",
      "DEP_TIME nan\n",
      "DEP_TIME nan\n",
      "DEP_TIME nan\n",
      "DEP_TIME nan\n",
      "DEP_TIME nan\n",
      "DEP_TIME nan\n",
      "DEP_TIME nan\n",
      "DEP_TIME nan\n",
      "DEP_TIME nan\n",
      "DEP_TIME nan\n",
      "DEP_TIME nan\n",
      "DEP_TIME nan\n",
      "DEP_TIME nan\n",
      "DEP_TIME nan\n",
      "DEP_TIME nan\n",
      "DEP_TIME nan\n",
      "DEP_TIME nan\n",
      "DEP_TIME nan\n",
      "DEP_TIME nan\n",
      "DEP_TIME nan\n",
      "DEP_TIME nan\n",
      "DEP_TIME nan\n",
      "DEP_TIME nan\n",
      "DEP_TIME nan\n",
      "DEP_TIME nan\n",
      "DEP_TIME nan\n",
      "DEP_TIME nan\n",
      "DEP_TIME nan\n",
      "DEP_TIME nan\n",
      "DEP_TIME nan\n",
      "DEP_TIME nan\n",
      "DEP_TIME nan\n",
      "DEP_TIME nan\n",
      "DEP_TIME nan\n",
      "DEP_TIME nan\n",
      "DEP_TIME nan\n",
      "DEP_TIME nan\n",
      "DEP_TIME nan\n",
      "DEP_TIME nan\n",
      "DEP_TIME nan\n",
      "DEP_TIME nan\n",
      "DEP_TIME nan\n",
      "DEP_TIME nan\n",
      "DEP_TIME nan\n",
      "DEP_TIME nan\n",
      "DEP_TIME nan\n",
      "DEP_TIME nan\n",
      "DEP_TIME nan\n",
      "DEP_TIME nan\n",
      "DEP_TIME nan\n",
      "DEP_TIME nan\n",
      "DEP_TIME nan\n",
      "DEP_TIME nan\n",
      "DEP_TIME nan\n",
      "DEP_TIME nan\n",
      "DEP_TIME nan\n",
      "DEP_TIME nan\n",
      "DEP_TIME nan\n",
      "DEP_TIME nan\n",
      "DEP_TIME nan\n",
      "DEP_TIME nan\n",
      "DEP_TIME nan\n",
      "DEP_TIME nan\n",
      "DEP_TIME nan\n",
      "DEP_TIME nan\n",
      "DEP_TIME nan\n",
      "DEP_TIME nan\n",
      "DEP_TIME nan\n",
      "DEP_TIME nan\n",
      "DEP_TIME nan\n",
      "DEP_TIME nan\n",
      "DEP_TIME nan\n",
      "DEP_TIME nan\n",
      "DEP_TIME nan\n",
      "DEP_TIME nan\n",
      "DEP_TIME nan\n",
      "DEP_TIME nan\n",
      "DEP_TIME nan\n",
      "DEP_TIME nan\n",
      "DEP_TIME nan\n",
      "DEP_TIME nan\n",
      "DEP_TIME nan\n",
      "DEP_TIME nan\n",
      "DEP_TIME nan\n",
      "DEP_TIME nan\n",
      "DEP_TIME nan\n",
      "DEP_TIME nan\n",
      "DEP_TIME nan\n",
      "DEP_TIME nan\n",
      "DEP_TIME nan\n",
      "DEP_TIME nan\n",
      "DEP_TIME nan\n",
      "DEP_TIME nan\n",
      "DEP_TIME nan\n",
      "DEP_TIME nan\n",
      "DEP_TIME nan\n",
      "DEP_TIME nan\n",
      "DEP_TIME nan\n",
      "DEP_TIME nan\n",
      "DEP_TIME nan\n",
      "DEP_TIME nan\n",
      "DEP_TIME nan\n",
      "DEP_TIME nan\n",
      "DEP_TIME nan\n",
      "DEP_TIME nan\n",
      "DEP_TIME nan\n",
      "DEP_TIME nan\n",
      "DEP_TIME nan\n",
      "DEP_TIME nan\n",
      "DEP_TIME nan\n",
      "DEP_TIME nan\n",
      "DEP_TIME nan\n",
      "DEP_TIME nan\n",
      "DEP_TIME nan\n",
      "DEP_TIME nan\n",
      "DEP_TIME nan\n",
      "DEP_TIME nan\n",
      "DEP_TIME nan\n",
      "DEP_TIME nan\n",
      "DEP_TIME nan\n",
      "DEP_TIME nan\n",
      "DEP_TIME nan\n",
      "DEP_TIME nan\n",
      "DEP_TIME nan\n",
      "DEP_TIME nan\n",
      "DEP_TIME nan\n",
      "DEP_TIME nan\n",
      "DEP_TIME nan\n",
      "DEP_TIME nan\n",
      "DEP_TIME nan\n",
      "DEP_TIME nan\n",
      "DEP_TIME nan\n",
      "DEP_TIME nan\n",
      "DEP_TIME nan\n",
      "DEP_TIME nan\n",
      "DEP_TIME nan\n",
      "DEP_TIME nan\n",
      "DEP_TIME nan\n",
      "DEP_TIME nan\n",
      "DEP_TIME nan\n",
      "DEP_TIME nan\n",
      "DEP_TIME nan\n",
      "DEP_TIME nan\n",
      "DEP_TIME nan\n",
      "DEP_TIME nan\n",
      "DEP_TIME nan\n",
      "DEP_TIME nan\n",
      "DEP_TIME nan\n",
      "DEP_TIME nan\n",
      "DEP_TIME nan\n",
      "DEP_TIME nan\n",
      "DEP_TIME nan\n",
      "DEP_TIME nan\n",
      "DEP_TIME nan\n",
      "DEP_TIME nan\n",
      "DEP_TIME nan\n",
      "DEP_TIME nan\n",
      "DEP_TIME nan\n",
      "DEP_TIME nan\n",
      "DEP_TIME nan\n",
      "DEP_TIME nan\n",
      "DEP_TIME nan\n",
      "DEP_TIME nan\n",
      "DEP_TIME nan\n",
      "DEP_TIME nan\n",
      "DEP_TIME nan\n",
      "DEP_TIME nan\n",
      "DEP_TIME nan\n",
      "DEP_TIME nan\n",
      "DEP_TIME nan\n",
      "DEP_TIME nan\n",
      "DEP_TIME nan\n",
      "DEP_TIME nan\n",
      "DEP_TIME nan\n",
      "DEP_TIME nan\n",
      "DEP_TIME nan\n",
      "DEP_TIME nan\n",
      "DEP_TIME nan\n",
      "DEP_TIME nan\n",
      "DEP_TIME nan\n",
      "DEP_TIME nan\n",
      "DEP_TIME nan\n",
      "DEP_TIME nan\n",
      "DEP_TIME nan\n",
      "DEP_TIME nan\n",
      "DEP_TIME nan\n",
      "DEP_TIME nan\n",
      "DEP_TIME nan\n",
      "DEP_TIME nan\n",
      "DEP_TIME nan\n",
      "DEP_TIME nan\n",
      "DEP_TIME nan\n",
      "DEP_TIME nan\n",
      "DEP_TIME nan\n",
      "DEP_TIME nan\n",
      "DEP_TIME nan\n",
      "DEP_TIME nan\n",
      "DEP_TIME nan\n",
      "DEP_TIME nan\n",
      "DEP_TIME nan\n",
      "DEP_TIME nan\n",
      "DEP_TIME nan\n",
      "DEP_TIME nan\n",
      "DEP_TIME nan\n",
      "DEP_TIME nan\n",
      "DEP_TIME nan\n",
      "DEP_TIME nan\n",
      "DEP_TIME nan\n",
      "DEP_TIME nan\n",
      "DEP_TIME nan\n",
      "DEP_TIME nan\n",
      "DEP_TIME nan\n",
      "DEP_TIME nan\n",
      "DEP_TIME nan\n",
      "DEP_TIME nan\n",
      "DEP_TIME nan\n",
      "DEP_TIME nan\n",
      "DEP_TIME nan\n",
      "DEP_TIME nan\n",
      "DEP_TIME nan\n",
      "DEP_TIME nan\n",
      "DEP_TIME nan\n",
      "DEP_TIME nan\n",
      "DEP_TIME nan\n",
      "DEP_TIME nan\n",
      "DEP_TIME nan\n",
      "DEP_TIME nan\n",
      "DEP_TIME nan\n",
      "DEP_TIME nan\n",
      "DEP_TIME nan\n",
      "TAXI_OUT nan\n",
      "TAXI_OUT nan\n",
      "TAXI_OUT nan\n",
      "TAXI_OUT nan\n",
      "TAXI_OUT nan\n",
      "TAXI_OUT nan\n",
      "TAXI_OUT nan\n",
      "TAXI_OUT nan\n",
      "TAXI_OUT nan\n",
      "TAXI_OUT nan\n",
      "TAXI_OUT nan\n",
      "TAXI_OUT nan\n",
      "TAXI_OUT nan\n",
      "TAXI_OUT nan\n",
      "TAXI_OUT nan\n",
      "TAXI_OUT nan\n",
      "TAXI_OUT nan\n",
      "TAXI_OUT nan\n",
      "WHEELS_ON nan\n",
      "WHEELS_ON nan\n",
      "WHEELS_ON nan\n",
      "WHEELS_ON nan\n",
      "WHEELS_ON nan\n",
      "WHEELS_ON nan\n",
      "WHEELS_ON nan\n",
      "WHEELS_ON nan\n",
      "WHEELS_ON nan\n",
      "WHEELS_ON nan\n",
      "WHEELS_ON nan\n",
      "WHEELS_ON nan\n",
      "WHEELS_ON nan\n",
      "WHEELS_ON nan\n",
      "WHEELS_ON nan\n",
      "WHEELS_ON nan\n",
      "WHEELS_ON nan\n",
      "WHEELS_ON nan\n",
      "WHEELS_ON nan\n",
      "WHEELS_ON nan\n",
      "WHEELS_ON nan\n",
      "WHEELS_ON nan\n",
      "WHEELS_ON nan\n",
      "WHEELS_ON nan\n",
      "WHEELS_ON nan\n",
      "WHEELS_ON nan\n",
      "WHEELS_ON nan\n",
      "WHEELS_ON nan\n",
      "WHEELS_ON nan\n",
      "WHEELS_ON nan\n",
      "WHEELS_ON nan\n",
      "WHEELS_ON nan\n",
      "WHEELS_ON nan\n",
      "ARR_DELAY nan\n",
      "ARR_DELAY nan\n",
      "ARR_DELAY nan\n",
      "ARR_DELAY nan\n",
      "ARR_DELAY nan\n",
      "ARR_DELAY nan\n",
      "ARR_DELAY nan\n",
      "ARR_DELAY nan\n",
      "ARR_DELAY nan\n",
      "ARR_DELAY nan\n",
      "ARR_DELAY nan\n",
      "ARR_DELAY nan\n",
      "ARR_DELAY nan\n",
      "ARR_DELAY nan\n",
      "ARR_DELAY nan\n",
      "ARR_DELAY nan\n",
      "ARR_DELAY nan\n",
      "ARR_DELAY nan\n",
      "ARR_DELAY nan\n",
      "ARR_DELAY nan\n",
      "ARR_DELAY nan\n",
      "ARR_DELAY nan\n",
      "ARR_DELAY nan\n",
      "ARR_DELAY nan\n",
      "ARR_DELAY nan\n",
      "ARR_DELAY nan\n",
      "ARR_DELAY nan\n",
      "ARR_DELAY nan\n",
      "ARR_DELAY nan\n",
      "ARR_DELAY nan\n",
      "ARR_DELAY nan\n",
      "ARR_DELAY nan\n",
      "ARR_DELAY nan\n",
      "ARR_DELAY nan\n",
      "ARR_DELAY nan\n",
      "ARR_DELAY nan\n",
      "ARR_DELAY nan\n",
      "ARR_DELAY nan\n",
      "ARR_DELAY nan\n",
      "ARR_DELAY nan\n",
      "ARR_DELAY nan\n",
      "ARR_DELAY nan\n",
      "ARR_DELAY nan\n",
      "ARR_DELAY nan\n",
      "ARR_DELAY nan\n",
      "ARR_DELAY nan\n",
      "ARR_DELAY nan\n",
      "ARR_DELAY nan\n",
      "ARR_DELAY nan\n",
      "ARR_DELAY nan\n",
      "ARR_DELAY nan\n",
      "ARR_DELAY nan\n",
      "ARR_DELAY nan\n",
      "ARR_DELAY nan\n",
      "ARR_DELAY nan\n",
      "ARR_DELAY nan\n",
      "ARR_DELAY nan\n",
      "ARR_DELAY nan\n",
      "ARR_DELAY nan\n",
      "ARR_DELAY nan\n",
      "ARR_DELAY nan\n",
      "ARR_DELAY nan\n",
      "ARR_DELAY nan\n",
      "ARR_DELAY nan\n",
      "ARR_DELAY nan\n",
      "ARR_DELAY nan\n",
      "ARR_DELAY nan\n",
      "ARR_DELAY nan\n",
      "ARR_DELAY nan\n",
      "ARR_DELAY nan\n",
      "ARR_DELAY nan\n",
      "ARR_DELAY nan\n",
      "ARR_DELAY nan\n",
      "ARR_DELAY nan\n",
      "ARR_DELAY nan\n",
      "ARR_DELAY nan\n",
      "ARR_DELAY nan\n",
      "ARR_DELAY nan\n",
      "ARR_DELAY nan\n",
      "ARR_DELAY nan\n",
      "ARR_DELAY nan\n",
      "ARR_DELAY nan\n",
      "ARR_DELAY nan\n",
      "ARR_DELAY nan\n",
      "ARR_DELAY nan\n",
      "ARR_DELAY nan\n",
      "ARR_DELAY nan\n",
      "ARR_DELAY nan\n"
     ]
    },
    {
     "name": "stdout",
     "output_type": "stream",
     "text": [
      "ARR_DELAY nan\n",
      "ARR_DELAY nan\n",
      "ARR_DELAY nan\n",
      "ARR_DELAY nan\n",
      "ARR_DELAY nan\n",
      "ARR_DELAY nan\n",
      "ARR_DELAY nan\n",
      "ARR_DELAY nan\n",
      "ARR_DELAY nan\n",
      "ARR_DELAY nan\n",
      "ARR_DELAY nan\n",
      "ARR_DELAY nan\n",
      "ARR_DELAY nan\n",
      "ARR_DELAY nan\n",
      "Number of droped raws = 635\n"
     ]
    },
    {
     "data": {
      "text/plain": [
       "['DEP_TIME', 'TAXI_OUT', 'WHEELS_ON', 'ARR_DELAY']"
      ]
     },
     "execution_count": 7,
     "metadata": {},
     "output_type": "execute_result"
    }
   ],
   "source": [
    "df_dealays_digit_sample_cleaned , list_dropped_unique= df_clean_nan(df_dealays_digit_sample_restricted, verbose=True, action=True)\n",
    "list_dropped_unique"
   ]
  },
  {
   "cell_type": "markdown",
   "metadata": {},
   "source": [
    "# <font color='blues'>Exploratory analysis</font>"
   ]
  },
  {
   "cell_type": "markdown",
   "metadata": {},
   "source": [
    "__ PCA : data are scaled __"
   ]
  },
  {
   "cell_type": "code",
   "execution_count": 8,
   "metadata": {},
   "outputs": [
    {
     "data": {
      "text/plain": [
       "['DEP_TIME', 'TAXI_OUT', 'WHEELS_ON', 'ARR_DELAY']"
      ]
     },
     "execution_count": 8,
     "metadata": {},
     "output_type": "execute_result"
    }
   ],
   "source": [
    "list_dropped_unique"
   ]
  },
  {
   "cell_type": "code",
   "execution_count": 9,
   "metadata": {},
   "outputs": [
    {
     "data": {
      "image/png": "[encoded data removed]",
      "text/plain": [
       "<matplotlib.figure.Figure at 0xabc7aa4c>"
      ]
     },
     "metadata": {},
     "output_type": "display_data"
    }
   ],
   "source": [
    "X_scaled_ = df_pca_all_plot(df_dealays_digit_sample_cleaned)"
   ]
  },
  {
   "cell_type": "code",
   "execution_count": 10,
   "metadata": {},
   "outputs": [
    {
     "name": "stdout",
     "output_type": "stream",
     "text": [
      "(47277, 2)\n"
     ]
    }
   ],
   "source": [
    "# Get standardized data\n",
    "X_scaled = df_get_std_scaled_values(df_dealays_digit_sample_cleaned)\n",
    "\n",
    "#Build PCA algorithme.\n",
    "nb_components = 2\n",
    "pca = PCA(n_components=nb_components)\n",
    "pca.fit(X_scaled)\n",
    "\n",
    "X_projected = pca.transform(X_scaled)\n",
    "print(X_projected.shape)\n"
   ]
  },
  {
   "cell_type": "code",
   "execution_count": 11,
   "metadata": {},
   "outputs": [
    {
     "data": {
      "image/png": "[encoded data removed]",
      "text/plain": [
       "<matplotlib.figure.Figure at 0xabbcf3ac>"
      ]
     },
     "metadata": {},
     "output_type": "display_data"
    }
   ],
   "source": [
    "df_pcs2_plot(df_dealays_digit_sample_cleaned, pca)"
   ]
  },
  {
   "cell_type": "code",
   "execution_count": 12,
   "metadata": {},
   "outputs": [
    {
     "data": {
      "image/png": "[encoded data removed]",
      "text/plain": [
       "<matplotlib.figure.Figure at 0xabbb2b6c>"
      ]
     },
     "metadata": {},
     "output_type": "display_data"
    }
   ],
   "source": [
    "df_dealays_digit_sample_cleaned_corr = df_dealays_digit_sample_cleaned.corr()\n",
    "f, ax = plt.subplots(figsize=(10, 10))\n",
    "_z = sns.heatmap(df_dealays_digit_sample_cleaned_corr, annot=False)"
   ]
  },
  {
   "cell_type": "markdown",
   "metadata": {},
   "source": [
    "## <font color='blue'>Analyse des variables liées aux retards</font>"
   ]
  },
  {
   "cell_type": "code",
   "execution_count": 13,
   "metadata": {},
   "outputs": [
    {
     "data": {
      "image/png": "[encoded data removed]",
      "text/plain": [
       "<matplotlib.figure.Figure at 0x9dbcc4ec>"
      ]
     },
     "metadata": {},
     "output_type": "display_data"
    }
   ],
   "source": [
    "fig = plt.figure(figsize=(16, 16))\n",
    "list_data= ['DEP_DELAY',\n",
    "       'DEP_DELAY_NEW', 'DEP_DEL15', 'DEP_DELAY_GROUP', 'TAXI_OUT',\n",
    "       'WHEELS_OFF', 'WHEELS_ON', 'TAXI_IN', 'CRS_ARR_TIME', 'ARR_TIME',\n",
    "       'ARR_DELAY', 'ARR_DELAY_NEW', 'ARR_DEL15', 'ARR_DELAY_GROUP',\n",
    "       'CANCELLED', 'DIVERTED', 'CRS_ELAPSED_TIME', 'ACTUAL_ELAPSED_TIME']\n",
    "if True :\n",
    "    for pos in range(len(list_data)) :\n",
    "        item = list_data[pos]\n",
    "        X = df_dealays_digit_sample_cleaned[item]\n",
    "        ax = fig.add_subplot(5,4, (pos+1))\n",
    "        h = ax.hist(X, bins=50, color='steelblue', edgecolor='none', normed=True)\n",
    "        ax.set_title(item, fontsize=8)\n",
    "    "
   ]
  },
  {
   "cell_type": "markdown",
   "metadata": {},
   "source": [
    "__Corrrelation des varables liées aux retards__"
   ]
  },
  {
   "cell_type": "code",
   "execution_count": 14,
   "metadata": {},
   "outputs": [
    {
     "data": {
      "image/png": "[encoded data removed]",
      "text/plain": [
       "<matplotlib.figure.Figure at 0x906bcbec>"
      ]
     },
     "metadata": {},
     "output_type": "display_data"
    }
   ],
   "source": [
    "list_data\n",
    "df = pd.DataFrame()\n",
    "ser1 = df_dealays_digit_sample_cleaned['DEP_DELAY']\n",
    "\n",
    "ser2 = df_dealays_digit_sample_cleaned['ACTUAL_ELAPSED_TIME']\n",
    "result = pd.concat([ser1, ser2], axis=1)\n",
    "for column in list_data :\n",
    "    ser = df_dealays_digit_sample_cleaned[column]\n",
    "    df = pd.concat([df, ser], axis=1)\n",
    "\n",
    "    \n",
    "df_corr = df.corr()    \n",
    "\n",
    "f, ax = plt.subplots(figsize=(10, 10))\n",
    "_z = sns.heatmap(df_corr, annot=False)"
   ]
  },
  {
   "cell_type": "raw",
   "metadata": {},
   "source": [
    "pca = df_pca_components_plot(df_dealays_digit_sample_cleaned, 'MONTH')"
   ]
  },
  {
   "cell_type": "markdown",
   "metadata": {},
   "source": [
    "# <font color='blues'>Classification binaire KNN : ARR_DELAY </font>"
   ]
  },
  {
   "cell_type": "markdown",
   "metadata": {},
   "source": [
    "__Imputation des valeurs a la moyenne pour la classe binaire issue de la colonne ARR_DELAY__"
   ]
  },
  {
   "cell_type": "code",
   "execution_count": 15,
   "metadata": {},
   "outputs": [],
   "source": [
    "ser_delay = df_dealays_digit_sample_restricted.ARR_DELAY\n",
    "arr_delay = np.array(ser_delay)\n",
    "where_nan_index = np.isnan(arr_delay)\n",
    "\n",
    "array_delay_sum = np.nansum(arr_delay)\n",
    "mean_delay_sum = array_delay_sum/len(arr_delay)\n",
    "\n",
    "arr_delay[where_nan_index] = mean_delay_sum"
   ]
  },
  {
   "cell_type": "code",
   "execution_count": 16,
   "metadata": {},
   "outputs": [
    {
     "data": {
      "text/plain": [
       "(47912, 41)"
      ]
     },
     "execution_count": 16,
     "metadata": {},
     "output_type": "execute_result"
    }
   ],
   "source": [
    "df_dealays_digit_sample_restricted.shape"
   ]
  },
  {
   "cell_type": "markdown",
   "metadata": {},
   "source": [
    "__Creation de la classe binaire : retard ou pas__"
   ]
  },
  {
   "cell_type": "code",
   "execution_count": 17,
   "metadata": {},
   "outputs": [],
   "source": [
    "y = np.where(arr_delay>0,1,-1)"
   ]
  },
  {
   "cell_type": "markdown",
   "metadata": {},
   "source": [
    "__Imputation des valeurs indéfinies à 0 dans le dataframe__"
   ]
  },
  {
   "cell_type": "code",
   "execution_count": 18,
   "metadata": {},
   "outputs": [],
   "source": [
    "df = df_dealays_digit_sample_restricted.fillna(value=0)"
   ]
  },
  {
   "cell_type": "markdown",
   "metadata": {},
   "source": [
    "__Purge de la colonne ARR_DELAY__"
   ]
  },
  {
   "cell_type": "code",
   "execution_count": 19,
   "metadata": {},
   "outputs": [
    {
     "name": "stdout",
     "output_type": "stream",
     "text": [
      "(47912, 41)\n",
      "(47912, 40)\n"
     ]
    }
   ],
   "source": [
    "print(df.shape)\n",
    "X = df.drop(labels='ARR_DELAY', axis=1)\n",
    "print(X.shape)"
   ]
  },
  {
   "cell_type": "markdown",
   "metadata": {},
   "source": [
    "__Création des jeux de données d'entraînement et de test sur des données standardisées__"
   ]
  },
  {
   "cell_type": "code",
   "execution_count": 20,
   "metadata": {},
   "outputs": [],
   "source": [
    "from sklearn import preprocessing\n",
    "from sklearn.model_selection import train_test_split\n",
    "\n",
    "X_train, X_test, y_train, y_test = train_test_split(X, y, test_size=0.33)"
   ]
  },
  {
   "cell_type": "markdown",
   "metadata": {},
   "source": [
    "__Standardisation des données__"
   ]
  },
  {
   "cell_type": "code",
   "execution_count": 21,
   "metadata": {},
   "outputs": [],
   "source": [
    "std_scale = preprocessing.StandardScaler().fit(X_train)\n",
    "X_train_std = std_scale.transform(X_train)\n",
    "X_test_std = std_scale.transform(X_test)"
   ]
  },
  {
   "cell_type": "markdown",
   "metadata": {},
   "source": [
    "__Recherche du nb de voisins optimum du KNN par validation croisée__"
   ]
  },
  {
   "cell_type": "code",
   "execution_count": 22,
   "metadata": {},
   "outputs": [
    {
     "name": "stdout",
     "output_type": "stream",
     "text": [
      "KNN : recherche du nombre de voisins optimum = 171.401s\n",
      "Le nombre optimal de voisins est 5\n"
     ]
    }
   ],
   "source": [
    "from sklearn.neighbors import KNeighborsClassifier\n",
    "from sklearn.metrics import accuracy_score\n",
    "from sklearn.model_selection import cross_val_score\n",
    "\n",
    "#-----------------------------------------------------------------------------------\n",
    "# Creation d'une liste de nombre de voisins impairs\n",
    "#-----------------------------------------------------------------------------------\n",
    "myList = list(range(3,6))\n",
    "\n",
    "neighbors = filter(lambda x: x % 2 != 0, myList)\n",
    "list_neighbors = list(neighbors)\n",
    "\n",
    "#-----------------------------------------------------------------------------------\n",
    "# Liste contenant les scores moyens de la recherche croisée (CV)\n",
    "#-----------------------------------------------------------------------------------\n",
    "list_cv_mean_scores = list()\n",
    "\n",
    "min_index = 0\n",
    "scores_mean = 0.0\n",
    "import time\n",
    "t0 = time.time()\n",
    "# Recherche du nombre de voisins optimumss\n",
    "for k in list_neighbors:\n",
    "    knn_clf = KNeighborsClassifier(n_neighbors=k)\n",
    "    scores = cross_val_score(knn_clf, X_train_std, y_train, cv=5, scoring='accuracy')\n",
    "    list_cv_mean_scores.append(scores.mean())\n",
    "print(\"KNN : recherche du nombre de voisins optimum = %0.3fs\" % (time.time()-t0))\n",
    "\n",
    "#-----------------------------------------------------------------------------------\n",
    "# Erreur de classification minimale\n",
    "#-----------------------------------------------------------------------------------\n",
    "list_mse = [1 - x for x in list_cv_mean_scores]\n",
    "min_index = list_mse.index(min(list_mse))\n",
    "\n",
    "#-----------------------------------------------------------------------------------\n",
    "# Extraction du meilleur nombre de voisins\n",
    "#-----------------------------------------------------------------------------------\n",
    "optimal_k = list_neighbors[min_index]\n",
    "print( \"Le nombre optimal de voisins est %d\" % optimal_k)\n"
   ]
  },
  {
   "cell_type": "code",
   "execution_count": 23,
   "metadata": {},
   "outputs": [
    {
     "data": {
      "image/png": "[encoded data removed]",
      "text/plain": [
       "<matplotlib.figure.Figure at 0x9dbe67ec>"
      ]
     },
     "metadata": {},
     "output_type": "display_data"
    }
   ],
   "source": [
    "\n",
    "# plot misclassification error vs k\n",
    "plt.figure(figsize=(10,10))\n",
    "plt.plot(list_neighbors, list_mse)\n",
    "plt.xlabel('Nombre de voisins K')\n",
    "plt.ylabel('Erreur de classification')\n",
    "plt.show()"
   ]
  },
  {
   "cell_type": "markdown",
   "metadata": {},
   "source": [
    "__Prédictions avec un classifieur KNN optimal__"
   ]
  },
  {
   "cell_type": "code",
   "execution_count": 24,
   "metadata": {},
   "outputs": [
    {
     "name": "stdout",
     "output_type": "stream",
     "text": [
      "Apprentissage KNN réalisé en 1.835s\n",
      "Meilleur score pour la classification KNN : 0.8585\n"
     ]
    }
   ],
   "source": [
    "knn_clf = KNeighborsClassifier(n_neighbors=5)\n",
    "t0 = time.time()\n",
    "knn_clf.fit(X_train_std, y_train)\n",
    "t1 = time.time()\n",
    "print(\"Apprentissage KNN réalisé en %0.3Fs\" % (t1-t0))\n",
    "y_pred_knn = knn_clf.predict(X_test_std)\n",
    "print(\"Meilleur score pour la classification KNN : %0.4F\" % accuracy_score(y_test, y_pred_knn))"
   ]
  },
  {
   "cell_type": "markdown",
   "metadata": {},
   "source": [
    "__Affichage des scores du classificateur binaire__"
   ]
  },
  {
   "cell_type": "code",
   "execution_count": 25,
   "metadata": {},
   "outputs": [
    {
     "name": "stdout",
     "output_type": "stream",
     "text": [
      "(15811,)\n",
      "             precision    recall  f1-score   support\n",
      "\n",
      "     RETARD       0.84      0.97      0.90     10176\n",
      "   PONCTUEL       0.92      0.66      0.77      5635\n",
      "\n",
      "avg / total       0.87      0.86      0.85     15811\n",
      "\n"
     ]
    }
   ],
   "source": [
    "from sklearn.metrics import classification_report\n",
    "from sklearn.metrics import confusion_matrix\n",
    "print(y_test.shape)\n",
    "class_names=['RETARD','PONCTUEL']\n",
    "print(classification_report(y_test, y_pred_knn,target_names=class_names))"
   ]
  },
  {
   "cell_type": "markdown",
   "metadata": {},
   "source": [
    "__Affichage graphique de la matrice de confusions__"
   ]
  },
  {
   "cell_type": "code",
   "execution_count": 26,
   "metadata": {},
   "outputs": [],
   "source": [
    "import itertools\n",
    "\n",
    "def plot_confusion_matrix(cm, classes,\n",
    "                          normalize=False,\n",
    "                          title='Confusion matrix',\n",
    "                          cmap=plt.cm.Blues):\n",
    "    \"\"\"\n",
    "    This function prints and plots the confusion matrix.\n",
    "    Normalization can be applied by setting `normalize=True`.\n",
    "    \"\"\"\n",
    "    if normalize:\n",
    "        cm = cm.astype('float') / cm.sum(axis=1)[:, np.newaxis]\n",
    "        print(\"Normalized confusion matrix\")\n",
    "    else:\n",
    "        print('Confusion matrix, without normalization')\n",
    "\n",
    "    print(cm)\n",
    "    plt.figure(figsize=(8,8))\n",
    "    plt.imshow(cm, interpolation='nearest', cmap=cmap)\n",
    "    plt.title(title)\n",
    "    plt.colorbar()\n",
    "    tick_marks = np.arange(len(classes))\n",
    "    plt.xticks(tick_marks, classes, rotation=45)\n",
    "    plt.yticks(tick_marks, classes)\n",
    "\n",
    "    fmt = '.2f' if normalize else 'd'\n",
    "    thresh = cm.max() / 2.\n",
    "    for i, j in itertools.product(range(cm.shape[0]), range(cm.shape[1])):\n",
    "        plt.text(j, i, format(cm[i, j], fmt),\n",
    "                 horizontalalignment=\"center\",\n",
    "                 color=\"white\" if cm[i, j] > thresh else \"black\")\n",
    "\n",
    "    plt.tight_layout()\n",
    "    plt.ylabel('True label')\n",
    "    plt.xlabel('Predicted label')\n"
   ]
  },
  {
   "cell_type": "code",
   "execution_count": 27,
   "metadata": {},
   "outputs": [
    {
     "name": "stdout",
     "output_type": "stream",
     "text": [
      "Normalized confusion matrix\n",
      "[[0.96688286 0.03311714]\n",
      " [0.33717835 0.66282165]]\n"
     ]
    },
    {
     "data": {
      "image/png": "[encoded data removed]",
      "text/plain": [
       "<matplotlib.figure.Figure at 0x8f55896c>"
      ]
     },
     "metadata": {},
     "output_type": "display_data"
    }
   ],
   "source": [
    "conf = confusion_matrix(y_test, y_pred_knn )\n",
    "#print(conf)\n",
    "plot_confusion_matrix(conf, class_names,\n",
    "                          normalize=True,\n",
    "                          title='Matrice de confusion',\n",
    "                          cmap=plt.cm.Reds)"
   ]
  },
  {
   "cell_type": "raw",
   "metadata": {},
   "source": [
    "import matplotlib.pyplot as plt\n",
    "n_classes = 2\n",
    "conf = confusion_matrix(y_test, y_pred_knn)\n",
    "plt.figure(figsize=(10,10))\n",
    "plt.xlabel('Classe réelle')\n",
    "plt.ylabel('Classe prédite')\n",
    "\n",
    "plt.imshow(conf, cmap='binary', interpolation='None')\n",
    "plt.show()"
   ]
  },
  {
   "cell_type": "markdown",
   "metadata": {},
   "source": [
    "# <font color='blues'>Classification binaire KNN : calcul du retard </font>"
   ]
  },
  {
   "cell_type": "code",
   "execution_count": 28,
   "metadata": {},
   "outputs": [
    {
     "data": {
      "text/plain": [
       "Index(['YEAR', 'QUARTER', 'MONTH', 'DAY_OF_MONTH', 'DAY_OF_WEEK', 'AIRLINE_ID',\n",
       "       'FL_NUM', 'ORIGIN_AIRPORT_ID', 'ORIGIN_AIRPORT_SEQ_ID',\n",
       "       'ORIGIN_CITY_MARKET_ID', 'ORIGIN_STATE_FIPS', 'ORIGIN_WAC',\n",
       "       'DEST_AIRPORT_ID', 'DEST_AIRPORT_SEQ_ID', 'DEST_CITY_MARKET_ID',\n",
       "       'DEST_STATE_FIPS', 'DEST_WAC', 'CRS_DEP_TIME', 'DEP_TIME', 'DEP_DELAY',\n",
       "       'DEP_DELAY_NEW', 'DEP_DEL15', 'DEP_DELAY_GROUP', 'TAXI_OUT',\n",
       "       'WHEELS_OFF', 'WHEELS_ON', 'TAXI_IN', 'CRS_ARR_TIME', 'ARR_TIME',\n",
       "       'ARR_DELAY', 'ARR_DELAY_NEW', 'ARR_DEL15', 'ARR_DELAY_GROUP',\n",
       "       'CANCELLED', 'DIVERTED', 'CRS_ELAPSED_TIME', 'ACTUAL_ELAPSED_TIME',\n",
       "       'AIR_TIME', 'FLIGHTS', 'DISTANCE', 'DISTANCE_GROUP'],\n",
       "      dtype='object')"
      ]
     },
     "execution_count": 28,
     "metadata": {},
     "output_type": "execute_result"
    }
   ],
   "source": [
    "df_dealays_digit_sample_restricted.columns"
   ]
  },
  {
   "cell_type": "markdown",
   "metadata": {},
   "source": [
    "## <font color='blue'>Groupement des résultats par airline ID</font>"
   ]
  },
  {
   "cell_type": "markdown",
   "metadata": {},
   "source": [
    "__Recupération des identifiants de compagines__"
   ]
  },
  {
   "cell_type": "code",
   "execution_count": 29,
   "metadata": {},
   "outputs": [],
   "source": [
    "arr_airline_id = df_dealays_digit_sample_restricted.AIRLINE_ID.unique()"
   ]
  },
  {
   "cell_type": "markdown",
   "metadata": {},
   "source": [
    "__Stockage des DF dans un dictionnaire de compagnies__"
   ]
  },
  {
   "cell_type": "code",
   "execution_count": 79,
   "metadata": {},
   "outputs": [],
   "source": [
    "dict_df_aid=dict()\n",
    "df = df_dealays_digit_sample_restricted.copy()\n",
    "for aid in arr_airline_id :\n",
    "    dict_df_aid[aid] = df[df['AIRLINE_ID']==aid]"
   ]
  },
  {
   "cell_type": "markdown",
   "metadata": {},
   "source": [
    "__Classifieur KNN : recherche du meilleur nombre de voisins pour le dernier aid__"
   ]
  },
  {
   "cell_type": "code",
   "execution_count": 80,
   "metadata": {},
   "outputs": [
    {
     "data": {
      "text/plain": [
       "245861    18\n",
       "243878    25\n",
       "245513     5\n",
       "245378    25\n",
       "245816    27\n",
       "245455     9\n",
       "247828    23\n",
       "246085    19\n",
       "244834    30\n",
       "243809    25\n",
       "244392     8\n",
       "249104    24\n",
       "242243    14\n",
       "247743    23\n",
       "243389     6\n",
       "246447    28\n",
       "245649    18\n",
       "244856     9\n",
       "247767    16\n",
       "248878    15\n",
       "245158    27\n",
       "246534     2\n",
       "245407    23\n",
       "244927     6\n",
       "246120    23\n",
       "244885    26\n",
       "243180     8\n",
       "242683    12\n",
       "242439    16\n",
       "249309    24\n",
       "          ..\n",
       "246408    17\n",
       "245028     2\n",
       "244806    21\n",
       "242455     1\n",
       "243825     3\n",
       "242442    19\n",
       "243529    15\n",
       "244285     8\n",
       "243331    29\n",
       "248906    24\n",
       "243657    24\n",
       "248074    22\n",
       "240600    31\n",
       "244890    31\n",
       "244929     8\n",
       "245267    25\n",
       "241879    17\n",
       "249163    24\n",
       "242160    24\n",
       "249112     1\n",
       "245052    26\n",
       "242139     3\n",
       "241999    18\n",
       "247934    22\n",
       "243093    21\n",
       "245581    29\n",
       "246141    13\n",
       "245999    26\n",
       "245398    14\n",
       "247603    26\n",
       "Name: DAY_OF_MONTH, Length: 631, dtype: int64"
      ]
     },
     "execution_count": 80,
     "metadata": {},
     "output_type": "execute_result"
    }
   ],
   "source": [
    "df_aid = dict_df_aid[aid]\n",
    "df_aid.columns\n",
    "#df_aid['DAY_OF_MONTH']"
   ]
  },
  {
   "cell_type": "code",
   "execution_count": 32,
   "metadata": {},
   "outputs": [],
   "source": [
    "ser_delay = df_aid.ARR_DELAY\n",
    "arr_delay = np.array(ser_delay)\n",
    "where_nan_index = np.isnan(arr_delay)\n",
    "\n",
    "array_delay_sum = np.nansum(arr_delay)\n",
    "mean_delay_sum = array_delay_sum/len(arr_delay)\n",
    "\n",
    "arr_delay[where_nan_index] = mean_delay_sum"
   ]
  },
  {
   "cell_type": "markdown",
   "metadata": {},
   "source": [
    "__Creation de la classe binaire : retard ou pas__"
   ]
  },
  {
   "cell_type": "code",
   "execution_count": 33,
   "metadata": {},
   "outputs": [],
   "source": [
    "y_aid = np.where(arr_delay>0,1,-1)"
   ]
  },
  {
   "cell_type": "markdown",
   "metadata": {},
   "source": [
    "__Imputation des valeurs indéfinies à 0 dans le dataframe__"
   ]
  },
  {
   "cell_type": "code",
   "execution_count": 34,
   "metadata": {},
   "outputs": [],
   "source": [
    "df_aid = df_aid.fillna(value=0)"
   ]
  },
  {
   "cell_type": "markdown",
   "metadata": {},
   "source": [
    "__Purge de la colonne ARR_DELAY__"
   ]
  },
  {
   "cell_type": "code",
   "execution_count": 35,
   "metadata": {},
   "outputs": [
    {
     "name": "stdout",
     "output_type": "stream",
     "text": [
      "(631, 41)\n",
      "(631, 40)\n"
     ]
    }
   ],
   "source": [
    "print(df_aid.shape)\n",
    "X_aid = df_aid.drop(labels='ARR_DELAY', axis=1)\n",
    "print(X_aid.shape)"
   ]
  },
  {
   "cell_type": "markdown",
   "metadata": {},
   "source": [
    "__Création des jeux de données d'entraînement et de test sur des données standardisées__"
   ]
  },
  {
   "cell_type": "code",
   "execution_count": 36,
   "metadata": {},
   "outputs": [],
   "source": [
    "from sklearn import preprocessing\n",
    "from sklearn.model_selection import train_test_split\n",
    "\n",
    "X_train_aid, X_test_aid, y_train_aid, y_test_aid = train_test_split(X_aid, y_aid, test_size=0.20)"
   ]
  },
  {
   "cell_type": "markdown",
   "metadata": {},
   "source": [
    "__Standardisation des données__"
   ]
  },
  {
   "cell_type": "code",
   "execution_count": 37,
   "metadata": {},
   "outputs": [],
   "source": [
    "std_scale = preprocessing.StandardScaler().fit(X_train_aid)\n",
    "X_train_aid_std = std_scale.transform(X_train_aid)\n",
    "X_test_aid_std = std_scale.transform(X_test_aid)"
   ]
  },
  {
   "cell_type": "code",
   "execution_count": 38,
   "metadata": {},
   "outputs": [
    {
     "name": "stdout",
     "output_type": "stream",
     "text": [
      "KNN classifier: Elapsed time for searching best neighbors number= 0.054s\n",
      "Optimal number for neighbors= 3\n"
     ]
    }
   ],
   "source": [
    "best_neighbors = knn_cv_search(X_train_aid_std, y_train_aid, list_neighbors=None, cv_parameter=5\\\n",
    "   , scoring_parameter='accuracy')"
   ]
  },
  {
   "cell_type": "code",
   "execution_count": 39,
   "metadata": {},
   "outputs": [
    {
     "name": "stdout",
     "output_type": "stream",
     "text": [
      "Apprentissage KNN réalisé en 0.003s\n",
      "Meilleur score pour la classification KNN de la compagine= 19690 : 0.8582677165354331\n"
     ]
    }
   ],
   "source": [
    "knn_clf = KNeighborsClassifier(n_neighbors=best_neighbors)\n",
    "t0 = time.time()\n",
    "knn_clf.fit(X_train_aid_std, y_train_aid)\n",
    "t1 = time.time()\n",
    "print(\"Apprentissage KNN réalisé en %0.3Fs\" % (t1-t0))\n",
    "y_pred_aid_knn = knn_clf.predict(X_test_aid_std)\n",
    "print(\"Meilleur score pour la classification KNN de la compagine= {} : {}\".format(aid,accuracy_score(y_test_aid, y_pred_aid_knn)))"
   ]
  },
  {
   "cell_type": "code",
   "execution_count": 40,
   "metadata": {},
   "outputs": [
    {
     "name": "stdout",
     "output_type": "stream",
     "text": [
      "Normalized confusion matrix\n",
      "[[0.93975904 0.06024096]\n",
      " [0.29545455 0.70454545]]\n"
     ]
    },
    {
     "data": {
      "image/png": "[encoded data removed]",
      "text/plain": [
       "<matplotlib.figure.Figure at 0x8f48e8cc>"
      ]
     },
     "metadata": {},
     "output_type": "display_data"
    }
   ],
   "source": [
    "conf = confusion_matrix(y_test_aid, y_pred_aid_knn )\n",
    "class_names=['RETARD','PONCTUEL']\n",
    "title_aid = 'Matrice de confusion des retards : compagnie= {}'.format(aid)\n",
    "\n",
    "if True :\n",
    "    plot_confusion_matrix(conf, class_names,\n",
    "                              normalize=True,\n",
    "                              title = title_aid,\n",
    "                              cmap=plt.cm.Reds)"
   ]
  },
  {
   "cell_type": "markdown",
   "metadata": {},
   "source": [
    "# <font color='blues'>Regression sur les valeurs des retards </font>"
   ]
  },
  {
   "cell_type": "markdown",
   "metadata": {},
   "source": [
    "## <font color='blue'>Modèle de regression SVR</font>"
   ]
  },
  {
   "cell_type": "markdown",
   "metadata": {},
   "source": [
    "__Validation des hypothèses: __\n",
    "* Bruit est normal\n",
    "* Obervations sont indépendantes et identiquement distribués\n",
    "* Pb est linéaire : les réalisations (X,y) doivent être rendues indépendantes les unes des autres"
   ]
  },
  {
   "cell_type": "markdown",
   "metadata": {},
   "source": [
    "### <font color='blue'>Contruction d'un vecteur d'étiquettes</font>"
   ]
  },
  {
   "cell_type": "code",
   "execution_count": 82,
   "metadata": {},
   "outputs": [
    {
     "data": {
      "text/plain": [
       "245861    18\n",
       "243878    25\n",
       "245513     5\n",
       "245378    25\n",
       "245816    27\n",
       "245455     9\n",
       "247828    23\n",
       "246085    19\n",
       "244834    30\n",
       "243809    25\n",
       "244392     8\n",
       "249104    24\n",
       "242243    14\n",
       "247743    23\n",
       "243389     6\n",
       "246447    28\n",
       "245649    18\n",
       "244856     9\n",
       "247767    16\n",
       "248878    15\n",
       "245158    27\n",
       "246534     2\n",
       "245407    23\n",
       "244927     6\n",
       "246120    23\n",
       "244885    26\n",
       "243180     8\n",
       "242683    12\n",
       "242439    16\n",
       "249309    24\n",
       "          ..\n",
       "246408    17\n",
       "245028     2\n",
       "244806    21\n",
       "242455     1\n",
       "243825     3\n",
       "242442    19\n",
       "243529    15\n",
       "244285     8\n",
       "243331    29\n",
       "248906    24\n",
       "243657    24\n",
       "248074    22\n",
       "240600    31\n",
       "244890    31\n",
       "244929     8\n",
       "245267    25\n",
       "241879    17\n",
       "249163    24\n",
       "242160    24\n",
       "249112     1\n",
       "245052    26\n",
       "242139     3\n",
       "241999    18\n",
       "247934    22\n",
       "243093    21\n",
       "245581    29\n",
       "246141    13\n",
       "245999    26\n",
       "245398    14\n",
       "247603    26\n",
       "Name: DAY_OF_MONTH, Length: 631, dtype: int64"
      ]
     },
     "execution_count": 82,
     "metadata": {},
     "output_type": "execute_result"
    }
   ],
   "source": [
    "# Recherche du dataframe avec le max de lignes\n",
    "if False :\n",
    "    max_aid = 0\n",
    "    for aid in dict_df_aid.keys() :    \n",
    "        if dict_df_aid[aid].shape[0] > max_aid :\n",
    "            max_aid = aid\n",
    "\n",
    "    df_aid = dict_df_aid[max_aid]\n",
    "df_aid.shape\n",
    "df_aid['DAY_OF_MONTH']\n"
   ]
  },
  {
   "cell_type": "markdown",
   "metadata": {},
   "source": [
    "__Traitement des valeurs a Nan par imputation de la valeur médiane__"
   ]
  },
  {
   "cell_type": "code",
   "execution_count": 84,
   "metadata": {},
   "outputs": [],
   "source": [
    "df_aid_save = df_aid.copy()"
   ]
  },
  {
   "cell_type": "code",
   "execution_count": 91,
   "metadata": {},
   "outputs": [],
   "source": [
    "df_aid = df_aid_save.copy()\n",
    "if False :\n",
    "    for column in df_aid.columns :\n",
    "        ser = df_aid[column]\n",
    "        #median = ser.median()\n",
    "        arr_ser = np.array(ser)\n",
    "        where_nan_index = np.isnan(arr_ser)\n",
    "\n",
    "        array_sum = np.nansum(arr_ser)\n",
    "        mean_delay_sum = array_sum/len(arr_ser)\n",
    "\n",
    "        arr_ser[where_nan_index] = mean_delay_sum\n",
    "        df_aid[column] = pd.Series(arr_delay)\n",
    "else :\n",
    "    df_aid = df_aid.fillna(value=0)"
   ]
  },
  {
   "cell_type": "code",
   "execution_count": 92,
   "metadata": {},
   "outputs": [
    {
     "data": {
      "text/plain": [
       "Index(['YEAR', 'QUARTER', 'MONTH', 'DAY_OF_MONTH', 'DAY_OF_WEEK', 'AIRLINE_ID',\n",
       "       'FL_NUM', 'ORIGIN_AIRPORT_ID', 'ORIGIN_AIRPORT_SEQ_ID',\n",
       "       'ORIGIN_CITY_MARKET_ID', 'ORIGIN_STATE_FIPS', 'ORIGIN_WAC',\n",
       "       'DEST_AIRPORT_ID', 'DEST_AIRPORT_SEQ_ID', 'DEST_CITY_MARKET_ID',\n",
       "       'DEST_STATE_FIPS', 'DEST_WAC', 'CRS_DEP_TIME', 'DEP_TIME', 'DEP_DELAY',\n",
       "       'DEP_DELAY_NEW', 'DEP_DEL15', 'DEP_DELAY_GROUP', 'TAXI_OUT',\n",
       "       'WHEELS_OFF', 'WHEELS_ON', 'TAXI_IN', 'CRS_ARR_TIME', 'ARR_TIME',\n",
       "       'ARR_DELAY', 'ARR_DELAY_NEW', 'ARR_DEL15', 'ARR_DELAY_GROUP',\n",
       "       'CANCELLED', 'DIVERTED', 'CRS_ELAPSED_TIME', 'ACTUAL_ELAPSED_TIME',\n",
       "       'AIR_TIME', 'FLIGHTS', 'DISTANCE', 'DISTANCE_GROUP'],\n",
       "      dtype='object')"
      ]
     },
     "execution_count": 92,
     "metadata": {},
     "output_type": "execute_result"
    }
   ],
   "source": [
    "df_aid.columns"
   ]
  },
  {
   "cell_type": "markdown",
   "metadata": {},
   "source": [
    "__Récupération des variables corréles selon un seuil__"
   ]
  },
  {
   "cell_type": "code",
   "execution_count": 93,
   "metadata": {},
   "outputs": [
    {
     "data": {
      "text/plain": [
       "245861    18\n",
       "243878    25\n",
       "245513     5\n",
       "245378    25\n",
       "245816    27\n",
       "245455     9\n",
       "247828    23\n",
       "246085    19\n",
       "244834    30\n",
       "243809    25\n",
       "244392     8\n",
       "249104    24\n",
       "242243    14\n",
       "247743    23\n",
       "243389     6\n",
       "246447    28\n",
       "245649    18\n",
       "244856     9\n",
       "247767    16\n",
       "248878    15\n",
       "245158    27\n",
       "246534     2\n",
       "245407    23\n",
       "244927     6\n",
       "246120    23\n",
       "244885    26\n",
       "243180     8\n",
       "242683    12\n",
       "242439    16\n",
       "249309    24\n",
       "          ..\n",
       "246408    17\n",
       "245028     2\n",
       "244806    21\n",
       "242455     1\n",
       "243825     3\n",
       "242442    19\n",
       "243529    15\n",
       "244285     8\n",
       "243331    29\n",
       "248906    24\n",
       "243657    24\n",
       "248074    22\n",
       "240600    31\n",
       "244890    31\n",
       "244929     8\n",
       "245267    25\n",
       "241879    17\n",
       "249163    24\n",
       "242160    24\n",
       "249112     1\n",
       "245052    26\n",
       "242139     3\n",
       "241999    18\n",
       "247934    22\n",
       "243093    21\n",
       "245581    29\n",
       "246141    13\n",
       "245999    26\n",
       "245398    14\n",
       "247603    26\n",
       "Name: DAY_OF_MONTH, Length: 631, dtype: int64"
      ]
     },
     "execution_count": 93,
     "metadata": {},
     "output_type": "execute_result"
    }
   ],
   "source": [
    "df_aid.shape\n",
    "df_aid['DAY_OF_MONTH']"
   ]
  },
  {
   "cell_type": "code",
   "execution_count": 94,
   "metadata": {},
   "outputs": [
    {
     "data": {
      "text/plain": [
       "(41, 41)"
      ]
     },
     "execution_count": 94,
     "metadata": {},
     "output_type": "execute_result"
    }
   ],
   "source": [
    "df_aid_corr = df_aid.corr()\n",
    "df_aid_corr.shape"
   ]
  },
  {
   "cell_type": "code",
   "execution_count": 97,
   "metadata": {},
   "outputs": [],
   "source": [
    "correlation_threshold_value = 0.9\n",
    "dict_dict_value_threshold = get_dict_dict_value_threshold(df_aid_corr, threshold = correlation_threshold_value)"
   ]
  },
  {
   "cell_type": "code",
   "execution_count": 98,
   "metadata": {},
   "outputs": [
    {
     "data": {
      "text/plain": [
       "{'ACTUAL_ELAPSED_TIME': {'AIR_TIME': 0.999184037433879,\n",
       "  'CRS_ELAPSED_TIME': 0.9977224936528558,\n",
       "  'DISTANCE': 0.9909860957471343,\n",
       "  'DISTANCE_GROUP': 0.9664042393018741},\n",
       " 'AIR_TIME': {'ACTUAL_ELAPSED_TIME': 0.999184037433879,\n",
       "  'CRS_ELAPSED_TIME': 0.9980789007475703,\n",
       "  'DISTANCE': 0.9915591522379733,\n",
       "  'DISTANCE_GROUP': 0.9654528995639831},\n",
       " 'ARR_DELAY': {'ARR_DELAY_GROUP': 0.9415201356948637},\n",
       " 'ARR_DELAY_GROUP': {'ARR_DELAY': 0.9415201356948637},\n",
       " 'ARR_TIME': {'CRS_ARR_TIME': 0.9663529983305161,\n",
       "  'WHEELS_ON': 0.9995133492297418},\n",
       " 'CRS_ARR_TIME': {'ARR_TIME': 0.9663529983305161,\n",
       "  'WHEELS_ON': 0.9662479811701024},\n",
       " 'CRS_DEP_TIME': {'DEP_TIME': 0.9987733746160348,\n",
       "  'WHEELS_OFF': 0.9986949352667852},\n",
       " 'CRS_ELAPSED_TIME': {'ACTUAL_ELAPSED_TIME': 0.9977224936528558,\n",
       "  'AIR_TIME': 0.9980789007475703,\n",
       "  'DISTANCE': 0.9944626048004753,\n",
       "  'DISTANCE_GROUP': 0.9710187439563127},\n",
       " 'DEP_DELAY': {'DEP_DELAY_GROUP': 0.9461763048145436,\n",
       "  'DEP_DELAY_NEW': 0.9573867042083861},\n",
       " 'DEP_DELAY_GROUP': {'DEP_DELAY': 0.9461763048145436,\n",
       "  'DEP_DELAY_NEW': 0.9041765147483146},\n",
       " 'DEP_DELAY_NEW': {'DEP_DELAY': 0.9573867042083861,\n",
       "  'DEP_DELAY_GROUP': 0.9041765147483146},\n",
       " 'DEP_TIME': {'CRS_DEP_TIME': 0.9987733746160348,\n",
       "  'WHEELS_OFF': 0.9992291518486519},\n",
       " 'DEST_AIRPORT_ID': {'DEST_AIRPORT_SEQ_ID': 0.9999999999819438},\n",
       " 'DEST_AIRPORT_SEQ_ID': {'DEST_AIRPORT_ID': 0.9999999999819438},\n",
       " 'DISTANCE': {'ACTUAL_ELAPSED_TIME': 0.9909860957471343,\n",
       "  'AIR_TIME': 0.9915591522379733,\n",
       "  'CRS_ELAPSED_TIME': 0.9944626048004753,\n",
       "  'DISTANCE_GROUP': 0.9716836640109551},\n",
       " 'DISTANCE_GROUP': {'ACTUAL_ELAPSED_TIME': 0.9664042393018741,\n",
       "  'AIR_TIME': 0.9654528995639831,\n",
       "  'CRS_ELAPSED_TIME': 0.9710187439563127,\n",
       "  'DISTANCE': 0.9716836640109551},\n",
       " 'ORIGIN_AIRPORT_ID': {'ORIGIN_AIRPORT_SEQ_ID': 0.9999999999801635},\n",
       " 'ORIGIN_AIRPORT_SEQ_ID': {'ORIGIN_AIRPORT_ID': 0.9999999999801635},\n",
       " 'WHEELS_OFF': {'CRS_DEP_TIME': 0.9986949352667852,\n",
       "  'DEP_TIME': 0.9992291518486519},\n",
       " 'WHEELS_ON': {'ARR_TIME': 0.9995133492297418,\n",
       "  'CRS_ARR_TIME': 0.9662479811701024}}"
      ]
     },
     "execution_count": 98,
     "metadata": {},
     "output_type": "execute_result"
    }
   ],
   "source": [
    "dict_dict_value_threshold"
   ]
  },
  {
   "cell_type": "code",
   "execution_count": 99,
   "metadata": {},
   "outputs": [
    {
     "data": {
      "image/png": "[encoded data removed]",
      "text/plain": [
       "<matplotlib.figure.Figure at 0x8f51772c>"
      ]
     },
     "metadata": {},
     "output_type": "display_data"
    }
   ],
   "source": [
    "df_corr = pd.DataFrame(dict_dict_value_threshold) \n",
    "\n",
    "f, ax = plt.subplots(figsize=(10, 10))\n",
    "_z = sns.heatmap(df_corr, annot=False)"
   ]
  },
  {
   "cell_type": "markdown",
   "metadata": {},
   "source": [
    "__Vecteur des étiquettes __"
   ]
  },
  {
   "cell_type": "code",
   "execution_count": 100,
   "metadata": {},
   "outputs": [],
   "source": [
    "df_aid_droped = df_aid.copy()\n",
    "df_aid_droped['LABEL'] = df_aid['CRS_ARR_TIME'] - df_aid['ARR_TIME']"
   ]
  },
  {
   "cell_type": "markdown",
   "metadata": {},
   "source": [
    "__Purge des colonnes ayant servies a calculer les étiquettes__"
   ]
  },
  {
   "cell_type": "code",
   "execution_count": 101,
   "metadata": {},
   "outputs": [],
   "source": [
    "df_aid_droped.drop(labels='CRS_ARR_TIME', axis=1, inplace=True)\n",
    "df_aid_droped.drop(labels='ARR_TIME', axis=1, inplace=True)"
   ]
  },
  {
   "cell_type": "markdown",
   "metadata": {},
   "source": [
    "__Calcul des données des jeux d'entraînement et de test __"
   ]
  },
  {
   "cell_type": "code",
   "execution_count": 102,
   "metadata": {},
   "outputs": [
    {
     "data": {
      "text/plain": [
       "245861    18\n",
       "243878    25\n",
       "245513     5\n",
       "245378    25\n",
       "245816    27\n",
       "245455     9\n",
       "247828    23\n",
       "246085    19\n",
       "244834    30\n",
       "243809    25\n",
       "244392     8\n",
       "249104    24\n",
       "242243    14\n",
       "247743    23\n",
       "243389     6\n",
       "246447    28\n",
       "245649    18\n",
       "244856     9\n",
       "247767    16\n",
       "248878    15\n",
       "245158    27\n",
       "246534     2\n",
       "245407    23\n",
       "244927     6\n",
       "246120    23\n",
       "244885    26\n",
       "243180     8\n",
       "242683    12\n",
       "242439    16\n",
       "249309    24\n",
       "          ..\n",
       "246408    17\n",
       "245028     2\n",
       "244806    21\n",
       "242455     1\n",
       "243825     3\n",
       "242442    19\n",
       "243529    15\n",
       "244285     8\n",
       "243331    29\n",
       "248906    24\n",
       "243657    24\n",
       "248074    22\n",
       "240600    31\n",
       "244890    31\n",
       "244929     8\n",
       "245267    25\n",
       "241879    17\n",
       "249163    24\n",
       "242160    24\n",
       "249112     1\n",
       "245052    26\n",
       "242139     3\n",
       "241999    18\n",
       "247934    22\n",
       "243093    21\n",
       "245581    29\n",
       "246141    13\n",
       "245999    26\n",
       "245398    14\n",
       "247603    26\n",
       "Name: DAY_OF_MONTH, Length: 631, dtype: int64"
      ]
     },
     "execution_count": 102,
     "metadata": {},
     "output_type": "execute_result"
    }
   ],
   "source": [
    "X_aid_train = df_aid_droped[df_aid_droped['DAY_OF_MONTH']<=20]\n",
    "y_aid_train = df_aid_droped[df_aid_droped['DAY_OF_MONTH']<=20]['LABEL']\n",
    "\n",
    "X_aid_test = df_aid_droped[df_aid_droped['DAY_OF_MONTH']>20]\n",
    "y_aid_test = df_aid_droped[df_aid_droped['DAY_OF_MONTH']>20]['LABEL']\n",
    "df_aid_droped['DAY_OF_MONTH']"
   ]
  },
  {
   "cell_type": "code",
   "execution_count": 103,
   "metadata": {},
   "outputs": [],
   "source": [
    "X_aid_train = X_aid_train.drop(labels='LABEL', axis=1, inplace=False)\n",
    "X_aid_train = X_aid_train.drop(labels='DAY_OF_MONTH', axis=1, inplace=False)\n",
    "\n",
    "X_aid_test = X_aid_test.drop(labels='LABEL', axis=1, inplace=False)\n",
    "X_aid_test = X_aid_test.drop(labels='DAY_OF_MONTH', axis=1, inplace=False)"
   ]
  },
  {
   "cell_type": "code",
   "execution_count": 104,
   "metadata": {},
   "outputs": [
    {
     "data": {
      "text/plain": [
       "Index(['YEAR', 'QUARTER', 'MONTH', 'DAY_OF_WEEK', 'AIRLINE_ID', 'FL_NUM',\n",
       "       'ORIGIN_AIRPORT_ID', 'ORIGIN_AIRPORT_SEQ_ID', 'ORIGIN_CITY_MARKET_ID',\n",
       "       'ORIGIN_STATE_FIPS', 'ORIGIN_WAC', 'DEST_AIRPORT_ID',\n",
       "       'DEST_AIRPORT_SEQ_ID', 'DEST_CITY_MARKET_ID', 'DEST_STATE_FIPS',\n",
       "       'DEST_WAC', 'CRS_DEP_TIME', 'DEP_TIME', 'DEP_DELAY', 'DEP_DELAY_NEW',\n",
       "       'DEP_DEL15', 'DEP_DELAY_GROUP', 'TAXI_OUT', 'WHEELS_OFF', 'WHEELS_ON',\n",
       "       'TAXI_IN', 'ARR_DELAY', 'ARR_DELAY_NEW', 'ARR_DEL15', 'ARR_DELAY_GROUP',\n",
       "       'CANCELLED', 'DIVERTED', 'CRS_ELAPSED_TIME', 'ACTUAL_ELAPSED_TIME',\n",
       "       'AIR_TIME', 'FLIGHTS', 'DISTANCE', 'DISTANCE_GROUP'],\n",
       "      dtype='object')"
      ]
     },
     "execution_count": 104,
     "metadata": {},
     "output_type": "execute_result"
    }
   ],
   "source": [
    "X_aid_train.columns"
   ]
  },
  {
   "cell_type": "code",
   "execution_count": 105,
   "metadata": {},
   "outputs": [
    {
     "data": {
      "text/plain": [
       "((388,), (243,))"
      ]
     },
     "execution_count": 105,
     "metadata": {},
     "output_type": "execute_result"
    }
   ],
   "source": [
    "y_aid_train.shape, y_aid_test.shape"
   ]
  },
  {
   "cell_type": "markdown",
   "metadata": {},
   "source": [
    "__Standardisation des données__"
   ]
  },
  {
   "cell_type": "code",
   "execution_count": 106,
   "metadata": {},
   "outputs": [],
   "source": [
    "from sklearn import preprocessing\n",
    "\n",
    "std_scale = preprocessing.StandardScaler().fit(X_aid_train)\n",
    "X_aid_train_std = std_scale.transform(X_aid_train)\n",
    "\n",
    "std_scale = preprocessing.StandardScaler().fit(X_aid_test)\n",
    "X_test_aid_std = std_scale.transform(X_aid_test)"
   ]
  },
  {
   "cell_type": "code",
   "execution_count": 107,
   "metadata": {},
   "outputs": [
    {
     "data": {
      "text/plain": [
       "((388, 38), (388,))"
      ]
     },
     "execution_count": 107,
     "metadata": {},
     "output_type": "execute_result"
    }
   ],
   "source": [
    "X_aid_train_std.shape, y_aid_train.shape"
   ]
  },
  {
   "cell_type": "markdown",
   "metadata": {},
   "source": [
    "__Classificateur linéaire : SVC__"
   ]
  },
  {
   "cell_type": "code",
   "execution_count": 109,
   "metadata": {},
   "outputs": [
    {
     "ename": "ValueError",
     "evalue": "Invalid parameter multi_class for estimator LinearSVR(C=1, dual=True, epsilon=0.0, fit_intercept=True,\n     intercept_scaling=1.0, loss='epsilon_insensitive', max_iter=1000,\n     random_state=None, tol=0.0001, verbose=0). Check the list of available parameters with `estimator.get_params().keys()`.",
     "output_type": "error",
     "traceback": [
      "\u001b[0;31m---------------------------------------------------------------------------\u001b[0m",
      "\u001b[0;31mValueError\u001b[0m                                Traceback (most recent call last)",
      "\u001b[0;32m<ipython-input-109-98a3ff22726c>\u001b[0m in \u001b[0;36m<module>\u001b[0;34m()\u001b[0m\n\u001b[1;32m      7\u001b[0m \u001b[0mgrid_svr\u001b[0m \u001b[0;34m=\u001b[0m \u001b[0mGridSearchCV\u001b[0m\u001b[0;34m(\u001b[0m\u001b[0mlsvr_clf\u001b[0m\u001b[0;34m,\u001b[0m \u001b[0mparam_grid\u001b[0m\u001b[0;34m,\u001b[0m \u001b[0mrefit\u001b[0m\u001b[0;34m=\u001b[0m\u001b[0;32mTrue\u001b[0m\u001b[0;34m)\u001b[0m\u001b[0;34m\u001b[0m\u001b[0m\n\u001b[1;32m      8\u001b[0m \u001b[0mt0\u001b[0m \u001b[0;34m=\u001b[0m \u001b[0mtime\u001b[0m\u001b[0;34m.\u001b[0m\u001b[0mtime\u001b[0m\u001b[0;34m(\u001b[0m\u001b[0;34m)\u001b[0m\u001b[0;34m\u001b[0m\u001b[0m\n\u001b[0;32m----> 9\u001b[0;31m \u001b[0mgrid_svr\u001b[0m\u001b[0;34m.\u001b[0m\u001b[0mfit\u001b[0m\u001b[0;34m(\u001b[0m\u001b[0mX_aid_train_std\u001b[0m\u001b[0;34m,\u001b[0m \u001b[0my_aid_train\u001b[0m\u001b[0;34m)\u001b[0m\u001b[0;34m\u001b[0m\u001b[0m\n\u001b[0m\u001b[1;32m     10\u001b[0m \u001b[0mprint\u001b[0m\u001b[0;34m(\u001b[0m\u001b[0;34m\"Recherche des hyper-paramètres en %0.3fs\"\u001b[0m \u001b[0;34m%\u001b[0m \u001b[0;34m(\u001b[0m\u001b[0mtime\u001b[0m\u001b[0;34m.\u001b[0m\u001b[0mtime\u001b[0m\u001b[0;34m(\u001b[0m\u001b[0;34m)\u001b[0m \u001b[0;34m-\u001b[0m \u001b[0mt0\u001b[0m\u001b[0;34m)\u001b[0m\u001b[0;34m)\u001b[0m\u001b[0;34m\u001b[0m\u001b[0m\n\u001b[1;32m     11\u001b[0m \u001b[0mprint\u001b[0m\u001b[0;34m(\u001b[0m\u001b[0;34m\"Meilleurs hyper-paramètres pour le classifieur LinearSVC: \"\u001b[0m\u001b[0;34m+\u001b[0m\u001b[0mstr\u001b[0m\u001b[0;34m(\u001b[0m\u001b[0mgrid_svr\u001b[0m\u001b[0;34m.\u001b[0m\u001b[0mbest_params_\u001b[0m\u001b[0;34m)\u001b[0m\u001b[0;34m)\u001b[0m\u001b[0;34m\u001b[0m\u001b[0m\n",
      "\u001b[0;32m~/anaconda3/lib/python3.6/site-packages/sklearn/model_selection/_search.py\u001b[0m in \u001b[0;36mfit\u001b[0;34m(self, X, y, groups, **fit_params)\u001b[0m\n\u001b[1;32m    637\u001b[0m                                   error_score=self.error_score)\n\u001b[1;32m    638\u001b[0m           for parameters, (train, test) in product(candidate_params,\n\u001b[0;32m--> 639\u001b[0;31m                                                    cv.split(X, y, groups)))\n\u001b[0m\u001b[1;32m    640\u001b[0m \u001b[0;34m\u001b[0m\u001b[0m\n\u001b[1;32m    641\u001b[0m         \u001b[0;31m# if one choose to see train score, \"out\" will contain train score info\u001b[0m\u001b[0;34m\u001b[0m\u001b[0;34m\u001b[0m\u001b[0m\n",
      "\u001b[0;32m~/anaconda3/lib/python3.6/site-packages/sklearn/externals/joblib/parallel.py\u001b[0m in \u001b[0;36m__call__\u001b[0;34m(self, iterable)\u001b[0m\n\u001b[1;32m    777\u001b[0m             \u001b[0;31m# was dispatched. In particular this covers the edge\u001b[0m\u001b[0;34m\u001b[0m\u001b[0;34m\u001b[0m\u001b[0m\n\u001b[1;32m    778\u001b[0m             \u001b[0;31m# case of Parallel used with an exhausted iterator.\u001b[0m\u001b[0;34m\u001b[0m\u001b[0;34m\u001b[0m\u001b[0m\n\u001b[0;32m--> 779\u001b[0;31m             \u001b[0;32mwhile\u001b[0m \u001b[0mself\u001b[0m\u001b[0;34m.\u001b[0m\u001b[0mdispatch_one_batch\u001b[0m\u001b[0;34m(\u001b[0m\u001b[0miterator\u001b[0m\u001b[0;34m)\u001b[0m\u001b[0;34m:\u001b[0m\u001b[0;34m\u001b[0m\u001b[0m\n\u001b[0m\u001b[1;32m    780\u001b[0m                 \u001b[0mself\u001b[0m\u001b[0;34m.\u001b[0m\u001b[0m_iterating\u001b[0m \u001b[0;34m=\u001b[0m \u001b[0;32mTrue\u001b[0m\u001b[0;34m\u001b[0m\u001b[0m\n\u001b[1;32m    781\u001b[0m             \u001b[0;32melse\u001b[0m\u001b[0;34m:\u001b[0m\u001b[0;34m\u001b[0m\u001b[0m\n",
      "\u001b[0;32m~/anaconda3/lib/python3.6/site-packages/sklearn/externals/joblib/parallel.py\u001b[0m in \u001b[0;36mdispatch_one_batch\u001b[0;34m(self, iterator)\u001b[0m\n\u001b[1;32m    623\u001b[0m                 \u001b[0;32mreturn\u001b[0m \u001b[0;32mFalse\u001b[0m\u001b[0;34m\u001b[0m\u001b[0m\n\u001b[1;32m    624\u001b[0m             \u001b[0;32melse\u001b[0m\u001b[0;34m:\u001b[0m\u001b[0;34m\u001b[0m\u001b[0m\n\u001b[0;32m--> 625\u001b[0;31m                 \u001b[0mself\u001b[0m\u001b[0;34m.\u001b[0m\u001b[0m_dispatch\u001b[0m\u001b[0;34m(\u001b[0m\u001b[0mtasks\u001b[0m\u001b[0;34m)\u001b[0m\u001b[0;34m\u001b[0m\u001b[0m\n\u001b[0m\u001b[1;32m    626\u001b[0m                 \u001b[0;32mreturn\u001b[0m \u001b[0;32mTrue\u001b[0m\u001b[0;34m\u001b[0m\u001b[0m\n\u001b[1;32m    627\u001b[0m \u001b[0;34m\u001b[0m\u001b[0m\n",
      "\u001b[0;32m~/anaconda3/lib/python3.6/site-packages/sklearn/externals/joblib/parallel.py\u001b[0m in \u001b[0;36m_dispatch\u001b[0;34m(self, batch)\u001b[0m\n\u001b[1;32m    586\u001b[0m         \u001b[0mdispatch_timestamp\u001b[0m \u001b[0;34m=\u001b[0m \u001b[0mtime\u001b[0m\u001b[0;34m.\u001b[0m\u001b[0mtime\u001b[0m\u001b[0;34m(\u001b[0m\u001b[0;34m)\u001b[0m\u001b[0;34m\u001b[0m\u001b[0m\n\u001b[1;32m    587\u001b[0m         \u001b[0mcb\u001b[0m \u001b[0;34m=\u001b[0m \u001b[0mBatchCompletionCallBack\u001b[0m\u001b[0;34m(\u001b[0m\u001b[0mdispatch_timestamp\u001b[0m\u001b[0;34m,\u001b[0m \u001b[0mlen\u001b[0m\u001b[0;34m(\u001b[0m\u001b[0mbatch\u001b[0m\u001b[0;34m)\u001b[0m\u001b[0;34m,\u001b[0m \u001b[0mself\u001b[0m\u001b[0;34m)\u001b[0m\u001b[0;34m\u001b[0m\u001b[0m\n\u001b[0;32m--> 588\u001b[0;31m         \u001b[0mjob\u001b[0m \u001b[0;34m=\u001b[0m \u001b[0mself\u001b[0m\u001b[0;34m.\u001b[0m\u001b[0m_backend\u001b[0m\u001b[0;34m.\u001b[0m\u001b[0mapply_async\u001b[0m\u001b[0;34m(\u001b[0m\u001b[0mbatch\u001b[0m\u001b[0;34m,\u001b[0m \u001b[0mcallback\u001b[0m\u001b[0;34m=\u001b[0m\u001b[0mcb\u001b[0m\u001b[0;34m)\u001b[0m\u001b[0;34m\u001b[0m\u001b[0m\n\u001b[0m\u001b[1;32m    589\u001b[0m         \u001b[0mself\u001b[0m\u001b[0;34m.\u001b[0m\u001b[0m_jobs\u001b[0m\u001b[0;34m.\u001b[0m\u001b[0mappend\u001b[0m\u001b[0;34m(\u001b[0m\u001b[0mjob\u001b[0m\u001b[0;34m)\u001b[0m\u001b[0;34m\u001b[0m\u001b[0m\n\u001b[1;32m    590\u001b[0m \u001b[0;34m\u001b[0m\u001b[0m\n",
      "\u001b[0;32m~/anaconda3/lib/python3.6/site-packages/sklearn/externals/joblib/_parallel_backends.py\u001b[0m in \u001b[0;36mapply_async\u001b[0;34m(self, func, callback)\u001b[0m\n\u001b[1;32m    109\u001b[0m     \u001b[0;32mdef\u001b[0m \u001b[0mapply_async\u001b[0m\u001b[0;34m(\u001b[0m\u001b[0mself\u001b[0m\u001b[0;34m,\u001b[0m \u001b[0mfunc\u001b[0m\u001b[0;34m,\u001b[0m \u001b[0mcallback\u001b[0m\u001b[0;34m=\u001b[0m\u001b[0;32mNone\u001b[0m\u001b[0;34m)\u001b[0m\u001b[0;34m:\u001b[0m\u001b[0;34m\u001b[0m\u001b[0m\n\u001b[1;32m    110\u001b[0m         \u001b[0;34m\"\"\"Schedule a func to be run\"\"\"\u001b[0m\u001b[0;34m\u001b[0m\u001b[0m\n\u001b[0;32m--> 111\u001b[0;31m         \u001b[0mresult\u001b[0m \u001b[0;34m=\u001b[0m \u001b[0mImmediateResult\u001b[0m\u001b[0;34m(\u001b[0m\u001b[0mfunc\u001b[0m\u001b[0;34m)\u001b[0m\u001b[0;34m\u001b[0m\u001b[0m\n\u001b[0m\u001b[1;32m    112\u001b[0m         \u001b[0;32mif\u001b[0m \u001b[0mcallback\u001b[0m\u001b[0;34m:\u001b[0m\u001b[0;34m\u001b[0m\u001b[0m\n\u001b[1;32m    113\u001b[0m             \u001b[0mcallback\u001b[0m\u001b[0;34m(\u001b[0m\u001b[0mresult\u001b[0m\u001b[0;34m)\u001b[0m\u001b[0;34m\u001b[0m\u001b[0m\n",
      "\u001b[0;32m~/anaconda3/lib/python3.6/site-packages/sklearn/externals/joblib/_parallel_backends.py\u001b[0m in \u001b[0;36m__init__\u001b[0;34m(self, batch)\u001b[0m\n\u001b[1;32m    330\u001b[0m         \u001b[0;31m# Don't delay the application, to avoid keeping the input\u001b[0m\u001b[0;34m\u001b[0m\u001b[0;34m\u001b[0m\u001b[0m\n\u001b[1;32m    331\u001b[0m         \u001b[0;31m# arguments in memory\u001b[0m\u001b[0;34m\u001b[0m\u001b[0;34m\u001b[0m\u001b[0m\n\u001b[0;32m--> 332\u001b[0;31m         \u001b[0mself\u001b[0m\u001b[0;34m.\u001b[0m\u001b[0mresults\u001b[0m \u001b[0;34m=\u001b[0m \u001b[0mbatch\u001b[0m\u001b[0;34m(\u001b[0m\u001b[0;34m)\u001b[0m\u001b[0;34m\u001b[0m\u001b[0m\n\u001b[0m\u001b[1;32m    333\u001b[0m \u001b[0;34m\u001b[0m\u001b[0m\n\u001b[1;32m    334\u001b[0m     \u001b[0;32mdef\u001b[0m \u001b[0mget\u001b[0m\u001b[0;34m(\u001b[0m\u001b[0mself\u001b[0m\u001b[0;34m)\u001b[0m\u001b[0;34m:\u001b[0m\u001b[0;34m\u001b[0m\u001b[0m\n",
      "\u001b[0;32m~/anaconda3/lib/python3.6/site-packages/sklearn/externals/joblib/parallel.py\u001b[0m in \u001b[0;36m__call__\u001b[0;34m(self)\u001b[0m\n\u001b[1;32m    129\u001b[0m \u001b[0;34m\u001b[0m\u001b[0m\n\u001b[1;32m    130\u001b[0m     \u001b[0;32mdef\u001b[0m \u001b[0m__call__\u001b[0m\u001b[0;34m(\u001b[0m\u001b[0mself\u001b[0m\u001b[0;34m)\u001b[0m\u001b[0;34m:\u001b[0m\u001b[0;34m\u001b[0m\u001b[0m\n\u001b[0;32m--> 131\u001b[0;31m         \u001b[0;32mreturn\u001b[0m \u001b[0;34m[\u001b[0m\u001b[0mfunc\u001b[0m\u001b[0;34m(\u001b[0m\u001b[0;34m*\u001b[0m\u001b[0margs\u001b[0m\u001b[0;34m,\u001b[0m \u001b[0;34m**\u001b[0m\u001b[0mkwargs\u001b[0m\u001b[0;34m)\u001b[0m \u001b[0;32mfor\u001b[0m \u001b[0mfunc\u001b[0m\u001b[0;34m,\u001b[0m \u001b[0margs\u001b[0m\u001b[0;34m,\u001b[0m \u001b[0mkwargs\u001b[0m \u001b[0;32min\u001b[0m \u001b[0mself\u001b[0m\u001b[0;34m.\u001b[0m\u001b[0mitems\u001b[0m\u001b[0;34m]\u001b[0m\u001b[0;34m\u001b[0m\u001b[0m\n\u001b[0m\u001b[1;32m    132\u001b[0m \u001b[0;34m\u001b[0m\u001b[0m\n\u001b[1;32m    133\u001b[0m     \u001b[0;32mdef\u001b[0m \u001b[0m__len__\u001b[0m\u001b[0;34m(\u001b[0m\u001b[0mself\u001b[0m\u001b[0;34m)\u001b[0m\u001b[0;34m:\u001b[0m\u001b[0;34m\u001b[0m\u001b[0m\n",
      "\u001b[0;32m~/anaconda3/lib/python3.6/site-packages/sklearn/externals/joblib/parallel.py\u001b[0m in \u001b[0;36m<listcomp>\u001b[0;34m(.0)\u001b[0m\n\u001b[1;32m    129\u001b[0m \u001b[0;34m\u001b[0m\u001b[0m\n\u001b[1;32m    130\u001b[0m     \u001b[0;32mdef\u001b[0m \u001b[0m__call__\u001b[0m\u001b[0;34m(\u001b[0m\u001b[0mself\u001b[0m\u001b[0;34m)\u001b[0m\u001b[0;34m:\u001b[0m\u001b[0;34m\u001b[0m\u001b[0m\n\u001b[0;32m--> 131\u001b[0;31m         \u001b[0;32mreturn\u001b[0m \u001b[0;34m[\u001b[0m\u001b[0mfunc\u001b[0m\u001b[0;34m(\u001b[0m\u001b[0;34m*\u001b[0m\u001b[0margs\u001b[0m\u001b[0;34m,\u001b[0m \u001b[0;34m**\u001b[0m\u001b[0mkwargs\u001b[0m\u001b[0;34m)\u001b[0m \u001b[0;32mfor\u001b[0m \u001b[0mfunc\u001b[0m\u001b[0;34m,\u001b[0m \u001b[0margs\u001b[0m\u001b[0;34m,\u001b[0m \u001b[0mkwargs\u001b[0m \u001b[0;32min\u001b[0m \u001b[0mself\u001b[0m\u001b[0;34m.\u001b[0m\u001b[0mitems\u001b[0m\u001b[0;34m]\u001b[0m\u001b[0;34m\u001b[0m\u001b[0m\n\u001b[0m\u001b[1;32m    132\u001b[0m \u001b[0;34m\u001b[0m\u001b[0m\n\u001b[1;32m    133\u001b[0m     \u001b[0;32mdef\u001b[0m \u001b[0m__len__\u001b[0m\u001b[0;34m(\u001b[0m\u001b[0mself\u001b[0m\u001b[0;34m)\u001b[0m\u001b[0;34m:\u001b[0m\u001b[0;34m\u001b[0m\u001b[0m\n",
      "\u001b[0;32m~/anaconda3/lib/python3.6/site-packages/sklearn/model_selection/_validation.py\u001b[0m in \u001b[0;36m_fit_and_score\u001b[0;34m(estimator, X, y, scorer, train, test, verbose, parameters, fit_params, return_train_score, return_parameters, return_n_test_samples, return_times, error_score)\u001b[0m\n\u001b[1;32m    442\u001b[0m     \u001b[0mtrain_scores\u001b[0m \u001b[0;34m=\u001b[0m \u001b[0;34m{\u001b[0m\u001b[0;34m}\u001b[0m\u001b[0;34m\u001b[0m\u001b[0m\n\u001b[1;32m    443\u001b[0m     \u001b[0;32mif\u001b[0m \u001b[0mparameters\u001b[0m \u001b[0;32mis\u001b[0m \u001b[0;32mnot\u001b[0m \u001b[0;32mNone\u001b[0m\u001b[0;34m:\u001b[0m\u001b[0;34m\u001b[0m\u001b[0m\n\u001b[0;32m--> 444\u001b[0;31m         \u001b[0mestimator\u001b[0m\u001b[0;34m.\u001b[0m\u001b[0mset_params\u001b[0m\u001b[0;34m(\u001b[0m\u001b[0;34m**\u001b[0m\u001b[0mparameters\u001b[0m\u001b[0;34m)\u001b[0m\u001b[0;34m\u001b[0m\u001b[0m\n\u001b[0m\u001b[1;32m    445\u001b[0m \u001b[0;34m\u001b[0m\u001b[0m\n\u001b[1;32m    446\u001b[0m     \u001b[0mstart_time\u001b[0m \u001b[0;34m=\u001b[0m \u001b[0mtime\u001b[0m\u001b[0;34m.\u001b[0m\u001b[0mtime\u001b[0m\u001b[0;34m(\u001b[0m\u001b[0;34m)\u001b[0m\u001b[0;34m\u001b[0m\u001b[0m\n",
      "\u001b[0;32m~/anaconda3/lib/python3.6/site-packages/sklearn/base.py\u001b[0m in \u001b[0;36mset_params\u001b[0;34m(self, **params)\u001b[0m\n\u001b[1;32m    272\u001b[0m                                  \u001b[0;34m'Check the list of available parameters '\u001b[0m\u001b[0;34m\u001b[0m\u001b[0m\n\u001b[1;32m    273\u001b[0m                                  \u001b[0;34m'with `estimator.get_params().keys()`.'\u001b[0m \u001b[0;34m%\u001b[0m\u001b[0;34m\u001b[0m\u001b[0m\n\u001b[0;32m--> 274\u001b[0;31m                                  (key, self))\n\u001b[0m\u001b[1;32m    275\u001b[0m \u001b[0;34m\u001b[0m\u001b[0m\n\u001b[1;32m    276\u001b[0m             \u001b[0;32mif\u001b[0m \u001b[0mdelim\u001b[0m\u001b[0;34m:\u001b[0m\u001b[0;34m\u001b[0m\u001b[0m\n",
      "\u001b[0;31mValueError\u001b[0m: Invalid parameter multi_class for estimator LinearSVR(C=1, dual=True, epsilon=0.0, fit_intercept=True,\n     intercept_scaling=1.0, loss='epsilon_insensitive', max_iter=1000,\n     random_state=None, tol=0.0001, verbose=0). Check the list of available parameters with `estimator.get_params().keys()`."
     ]
    }
   ],
   "source": [
    "from sklearn.model_selection import GridSearchCV\n",
    "from sklearn.svm import LinearSVR\n",
    "import time\n",
    "\n",
    "lsvr_clf = LinearSVR()\n",
    "param_grid = {'C':[1,2,3,4,5], 'multi_class': ['ovr','crammer_singer'] }\n",
    "grid_svr = GridSearchCV(lsvr_clf, param_grid, refit=True)\n",
    "t0 = time.time()\n",
    "grid_svr.fit(X_aid_train_std, y_aid_train)\n",
    "print(\"Recherche des hyper-paramètres en %0.3fs\" % (time.time() - t0))\n",
    "print(\"Meilleurs hyper-paramètres pour le classifieur LinearSVC: \"+str(grid_svr.best_params_))\n"
   ]
  },
  {
   "cell_type": "code",
   "execution_count": null,
   "metadata": {},
   "outputs": [],
   "source": []
  }
 ],
 "metadata": {
  "kernelspec": {
   "display_name": "Python 3",
   "language": "python",
   "name": "python3"
  },
  "language_info": {
   "codemirror_mode": {
    "name": "ipython",
    "version": 3
   },
   "file_extension": ".py",
   "mimetype": "text/x-python",
   "name": "python",
   "nbconvert_exporter": "python",
   "pygments_lexer": "ipython3",
   "version": "3.6.4"
  }
 },
 "nbformat": 4,
 "nbformat_minor": 2
}
