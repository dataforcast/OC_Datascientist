{
 "cells": [
  {
   "cell_type": "markdown",
   "metadata": {},
   "source": [
    "<!--NOTEBOOK_INFORMATION-->\n",
    "<img align=\"left\" style=\"padding-right:10px;\" src=\"./figures/LogoOpenclassrooms.png\">\n",
    "<font size=\"4\">\n",
    "<p>\n",
    "Cette étude a été réalisée dans le cadre du 4eme projet de ma formation Datascientist dispensée en MOOC par \n",
    "**<font color='blus'>Openclassrooms / écoles Centrale-Supélec</font>**.\n",
    "</p>    \n",
    "\n",
    "<p>\n",
    "Ce notebook présente un modèle de prédiction des retards d'avions. \n",
    "</p>\n",
    "<p>\n",
    "Le modèle se base sur les données fournies par le site :\n",
    "</p>\n",
    "<p>\n",
    "https://www.transtats.bts.gov/DL_SelectFields.asp?Table_ID=236&DB_Short_Name=On-Time\n",
    "</p>\n",
    "<p>\n",
    "</p>\n",
    "</font>"
   ]
  },
  {
   "cell_type": "markdown",
   "metadata": {},
   "source": [
    "# <font color='blus'> Synthèse du 24/05/2018</font>\n",
    "\n",
    "## <font color='blue'>Nature du pb à résoudre</font>\n",
    "* Problème de prédiction.\n",
    "* Orientation vers un algorithme de régression tels que vue en cours : ElasticNet.\n",
    "\n",
    "## <font color='blue'>Acquisition des données</font>\n",
    "* Problème de débordement mémoire\n",
    "\n",
    "## <font color='blue'>Préparation des données</font>\n",
    "* Traitement des valeurs a Nan\n",
    "\n",
    "## <font color='blue'>Analyse exploratoire</font>\n",
    "Objectifs: appréhender la nature du problème à résoudre pour s'orienter vers des modèles de prédictions.\n",
    "* Correlations\n",
    "* Analyse en composantes principales :  quelles sont les variables qui expliquent le plus la variance? Réduction de dimension possible?\n",
    "\n",
    "## <font color='blue'>Evaluation des modèles de prédiction</font>\n",
    "* Modèle linéaire : basé sur une combinaison linéaire des variables.__Comment justifier l'hyopthèse de linéarité?__\n",
    "* Choix des hyper-paramètres : Grid search\n",
    "* Entraînement des modèles : validation croisée\n",
    "* Prédiction des retards avec un score : prédiction de la valeur du retard\n",
    "* Prédiction binaire du retard : en retard / pas en retard\n",
    "* Comparaison des performances avec des modèles naïfs.\n",
    "* Augmentation de la performance des algorithmes évalués\n",
    "\n",
    "## <font color='blue'>Choix du modèle de prédiction</font>\n",
    "\n",
    "\n",
    "* Anticiper les retards : retard = heure atterissage - heure prévue.\n",
    "* Créer la colonne avant la séparation et supprimer la colonne dont elle dépend. Sinon phénomène de __DATA LEAKAGE__. *En effet, si on utilise deux variables pour en créer une 3eme, alors lorsque l'on va prédire, à un instant dans le futur, une valeur pour cette 3eme variable, les valeurs des 2 variables utilisées ne seront plus valables au moment de la prédiction. Les variables ayant servies à créer cette nouvelle variable doivent être **exclues du modèle**.*.\n",
    "\n",
    "* Les étiquettes sont a valeurs dans les réels. On utilisera donc une regression linéaire pour la prédiction des retards.\n",
    "\n",
    "* Après modélisation, si la mtrice X.T.dot(X) est inversible, alors le pb admet une solution unique et explicite, issue de la maximisation de la vraissemblance du modèle, i.e, la maximisation de la probabilité de calculer la valeur de la cible (ici, pour ce problème, les retards).\n",
    "\n",
    "* Technique courante sur les lignes : définir les indices das un vecteur modele réduit Etudier l'impact de la taille des données d'entraînement sur la qualité de la prédiction. 20%, 40%, 30% de l'entraînement et regarder la performance.\n",
    "* Supprimer les colones qui n'apporent rien a la prediction\n",
    "* Regression : foncton de out a optimiser va inclure les coeff de Ridge de et Lasso Initialement, sans regularisation. Par la suite, essayer la recherche d'hyper-paramètres l1 et l2 qui controlent Ridge et Lasso. __Coder une seule loss__ qui jauge l'effet de la régularisation L1 et L2. __==> utiliser la regression elestic net.__\n",
    "\n",
    "* Conclusion : jouer le jeux de test et évaluer l'erreur quadratique.\n",
    "\n",
    "* __Le pb est formulé en prédiction__ : entraîner un modele sur Janv--> mars, essayer sur Avril. Ce, pour répondre a la probléamatique : évaluer les retards dans le futur.\n",
    "* Entraîner surr 15 premiers jours et tester sur les derniers jours.\n",
    "\n",
    "\n",
    "\n"
   ]
  },
  {
   "cell_type": "markdown",
   "metadata": {},
   "source": [
    "# <font color='blus'> Synthèse du 19/05/2018</font>\n",
    "\n",
    "## <font color='blue'>Acquisition des données</font>\n",
    "* Exploration des données et modèle sur un mois\n",
    "\n",
    "## <font color='blue'>Préparation des données</font>\n",
    "* Traitement des valeurs a Nan remplacées par la valeur moyenne dans le vecteur étiquette \n",
    "* Mises a 0 sur les autres données.\n",
    "\n",
    "## <font color='blue'>Analyse exploratoire</font>\n",
    "Objectifs: appréhender la nature du problème à résoudre pour s'orienter vers des modèles de prédictions.\n",
    "* Correlations : données corrélées sur les retards ==> élimination des colonnes corrélées?\n",
    "\n",
    "## <font color='blue'>Evaluation d'un modèle de prédiciton binaire : KNN</font>\n",
    "* Choix des hyper-paramètres : Grid search\n",
    "* Entraînement des modèles : validation croisée\n",
    "* Affichage des performances du modèle : MSE et matrice de confusion\n",
    "\n",
    "## <font color='blue'>Modèle de prédiction par regression : SVR </font>\n",
    "* Données d'entraînement : sur un mois, les 3 premières semaines.\n",
    "* Regression linéaire par vecteur de support\n",
    "\n",
    "\n",
    "## Commentaires de la session\n",
    "* Bruit Gaussien : pour valider les hypothèses de la mise en oeuvre de la regression linéaire, faire un histogramme a posteriori en utilisant le calcul de l'erreur entre les données mesurées et la valeur d'une regression linéaire simple.\n",
    "\n",
    "* Indépendance : vérifier que les colonnes ne sont pas indépendantes. Au sens conceptuel du terme : heure dans deux colonnes pas exeemple. \n",
    "* Data leakage : retard au depart et retard a l'arrivée. Predire a partir des informations indépendantes du retard de départ. Enlever le retard de départ; cela ne se justifie pas par l'IID. Dans la réaalité pas accès à cette information.\n",
    "\n",
    "* Scikitlearn : entrainer le modele et remplacer les données par des nvx modeles .Partial feed Voir http://scikit-learn.org/stable/modules/scaling_strategies.html\n",
    "* Se focaliser sur la regression linéaire Ridge / Lasso\n",
    "* Utiliser les regression KNN et Linear SVR en termes de références, baseline ou pour approfondir l'étude.\n",
    "\n",
    "\n"
   ]
  },
  {
   "cell_type": "markdown",
   "metadata": {},
   "source": [
    "# <font color='blues'>Acquisition des données</font>"
   ]
  },
  {
   "cell_type": "markdown",
   "metadata": {},
   "source": [
    "__Loading Python lib used for project__"
   ]
  },
  {
   "cell_type": "code",
   "execution_count": 1,
   "metadata": {},
   "outputs": [],
   "source": [
    "import pandas as pd\n",
    "\n",
    "from sklearn import preprocessing\n",
    "from sklearn.model_selection import train_test_split\n",
    "\n",
    "\n",
    "from p3_util import *\n",
    "from p3_util_plot import *\n",
    "from p4_util import *"
   ]
  },
  {
   "cell_type": "markdown",
   "metadata": {},
   "source": [
    "__Data loading from a fixed month__"
   ]
  },
  {
   "cell_type": "code",
   "execution_count": 2,
   "metadata": {},
   "outputs": [
    {
     "name": "stdout",
     "output_type": "stream",
     "text": [
      "Month 03 loaded!\n",
      "(479122, 65)\n"
     ]
    }
   ],
   "source": [
    "path_name = \"./data/Dataset+Projet+4/2016\"\n",
    "list_month = ['03']\n",
    "df_dealays_digit, list_col_notdigit = p4_df_get_from_month(path_name, list_month)"
   ]
  },
  {
   "cell_type": "code",
   "execution_count": 3,
   "metadata": {},
   "outputs": [],
   "source": [
    "df_dealays_digit_save = df_dealays_digit.copy()"
   ]
  },
  {
   "cell_type": "markdown",
   "metadata": {},
   "source": [
    "# <font color='blues'>Data preparation</font>"
   ]
  },
  {
   "cell_type": "markdown",
   "metadata": {},
   "source": [
    "__Identification des colonnes non numériques : <font color='blue'>list_col_notdigit</font>__\n",
    "\n",
    "*Les colonnes en gras sont à encoder*\n",
    "\n",
    "* **FL_DATE : date du vol**\n",
    "* UNIQUE_CARRIER : identification unique du transporteur\n",
    "* CARRIER : identification du transporteur\n",
    "* TAIL_NUM : marquage sur la carliingue de l'avion\n",
    "* ORIGIN : aeroport de départ\n",
    "* **ORIGIN_WAC : aeroport de départ, en code international**\n",
    "* **ORIGIN_STATE_FIPS : origine encdée par le bureau fédéral**\n",
    "* ORIGIN_CITY_NAME : ville a laquelle l'aeroport d'origine est rattachée\n",
    "* ORIGIN_STATE_ABR : abbréviation de l'état d'origine du vol\n",
    "* ORIGIN_STATE_NM : état d'origine du vol\n",
    "* DEST : aeroport de destination\n",
    "* **DEST_WAC : aeroport de destination en code international**\n",
    "* DEST_CITY_NAME : nom de la ille de destination\n",
    "* DEST_STATE_ABR : abbréviation de l'état de destination du vol\n",
    "* DEST_STATE_NM : état de destination du vol\n",
    "* **DEP_TIME_BLK : fenêtres temporelles de départ**\n",
    "* **ARR_TIME_BLK : fenêtres temporelles d'arrivée**\n",
    "* AIR_TIME : temps de vol avant atterissage et après décolage\n",
    "* CANCELLATION_CODE : code d'annulation"
   ]
  },
  {
   "cell_type": "code",
   "execution_count": 33,
   "metadata": {},
   "outputs": [
    {
     "name": "stdout",
     "output_type": "stream",
     "text": [
      "['FL_DATE', 'UNIQUE_CARRIER', 'CARRIER', 'TAIL_NUM', 'ORIGIN', 'ORIGIN_CITY_NAME', 'ORIGIN_STATE_ABR', 'ORIGIN_STATE_NM', 'DEST', 'DEST_CITY_NAME', 'DEST_STATE_ABR', 'DEST_STATE_NM', 'DEP_TIME_BLK', 'ARR_TIME_BLK', 'CANCELLATION_CODE']\n"
     ]
    },
    {
     "data": {
      "text/plain": [
       "15"
      ]
     },
     "execution_count": 33,
     "metadata": {},
     "output_type": "execute_result"
    }
   ],
   "source": [
    "print(list_col_notdigit)\n",
    "len(list_col_notdigit)"
   ]
  },
  {
   "cell_type": "code",
   "execution_count": 34,
   "metadata": {},
   "outputs": [
    {
     "data": {
      "text/plain": [
       "array([ 0,  1,  2,  3,  4, 19, 20,  5,  6,  7,  8,  9, 10, 11, 12, 13, 14,\n",
       "       15, 16, 17, 18, 26, 21, 22, 23, 24, 25, 27, 28, 29, 30],\n",
       "      dtype=int64)"
      ]
     },
     "execution_count": 34,
     "metadata": {},
     "output_type": "execute_result"
    }
   ],
   "source": [
    "df_dealays_digit.FL_DATE.unique()"
   ]
  },
  {
   "cell_type": "code",
   "execution_count": 6,
   "metadata": {},
   "outputs": [
    {
     "data": {
      "text/plain": [
       "array([1.])"
      ]
     },
     "execution_count": 6,
     "metadata": {},
     "output_type": "execute_result"
    }
   ],
   "source": [
    "df_dealays_digit.FLIGHTS.unique()"
   ]
  },
  {
   "cell_type": "markdown",
   "metadata": {},
   "source": [
    "__Columns to be dropped__"
   ]
  },
  {
   "cell_type": "code",
   "execution_count": 26,
   "metadata": {},
   "outputs": [
    {
     "name": "stdout",
     "output_type": "stream",
     "text": [
      "(479122, 11)\n",
      "*** WARNING : column YEAR not in dataframe\n",
      "*** WARNING : column MONTH not in dataframe\n",
      "*** WARNING : column DAY_OF_MONTH not in dataframe\n",
      "*** WARNING : column QUARTER not in dataframe\n",
      "*** WARNING : column UNIQUE_CARRIER not in dataframe\n",
      "*** WARNING : column CARRIER not in dataframe\n",
      "*** WARNING : column TAIL_NUM not in dataframe\n",
      "*** WARNING : column ORIGIN_CITY_NAME not in dataframe\n",
      "*** WARNING : column ORIGIN_STATE_ABR not in dataframe\n",
      "*** WARNING : column ORIGIN_STATE_NM not in dataframe\n",
      "*** WARNING : column DEST_CITY_NAME not in dataframe\n",
      "*** WARNING : column DEST_STATE_ABR not in dataframe\n",
      "*** WARNING : column DEST_STATE_NM not in dataframe\n",
      "*** WARNING : column CANCELLATION_CODE not in dataframe\n",
      "*** WARNING : column ORIGIN_AIRPORT_ID not in dataframe\n",
      "*** WARNING : column ORIGIN_AIRPORT_SEQ_ID not in dataframe\n",
      "*** WARNING : column ORIGIN_CITY_MARKET_ID not in dataframe\n",
      "*** WARNING : column ORIGIN not in dataframe\n",
      "*** WARNING : column DEST not in dataframe\n",
      "*** WARNING : column ORIGIN_STATE_FIPS not in dataframe\n",
      "*** WARNING : column DEST_CITY_MARKET_ID not in dataframe\n",
      "*** WARNING : column DEST_STATE_FIPS not in dataframe\n",
      "*** WARNING : column DEP_TIME not in dataframe\n",
      "*** WARNING : column DEP_DELAY not in dataframe\n",
      "*** WARNING : column DEP_DELAY_NEW not in dataframe\n",
      "*** WARNING : column DEP_DEL15 not in dataframe\n",
      "*** WARNING : column DEP_DELAY_GROUP not in dataframe\n",
      "*** WARNING : column TAXI_OUT not in dataframe\n",
      "*** WARNING : column WHEELS_OFF not in dataframe\n",
      "*** WARNING : column WHEELS_ON not in dataframe\n",
      "*** WARNING : column TAXI_IN not in dataframe\n",
      "*** WARNING : column CANCELLED not in dataframe\n",
      "*** WARNING : column DIVERTED not in dataframe\n",
      "*** WARNING : column ACTUAL_ELAPSED_TIME not in dataframe\n",
      "*** WARNING : column ARR_DELAY not in dataframe\n",
      "*** WARNING : column ARR_DELAY_NEW not in dataframe\n",
      "*** WARNING : column ARR_DEL15 not in dataframe\n",
      "*** WARNING : column AIR_TIME not in dataframe\n",
      "*** WARNING : column DISTANCE_GROUP not in dataframe\n",
      "*** WARNING : column CARRIER_DELAY not in dataframe\n",
      "*** WARNING : column WEATHER_DELAY not in dataframe\n",
      "*** WARNING : column NAS_DELAY not in dataframe\n",
      "*** WARNING : column SECURITY_DELAY not in dataframe\n",
      "*** WARNING : column LATE_AIRCRAFT_DELAY not in dataframe\n",
      "*** WARNING : column FIRST_DEP_TIME not in dataframe\n",
      "*** WARNING : column TOTAL_ADD_GTIME not in dataframe\n",
      "*** WARNING : column LONGEST_ADD_GTIME not in dataframe\n",
      "*** WARNING : column DEST_AIRPORT_ID not in dataframe\n",
      "*** WARNING : column DEST_AIRPORT_SEQ_ID not in dataframe\n",
      "*** WARNING : column CRS_DEP_TIME not in dataframe\n",
      "*** WARNING : column CRS_ELAPSED_TIME not in dataframe\n",
      "*** WARNING : column AIRLINE_ID not in dataframe\n",
      "*** WARNING : column FLIGHTS not in dataframe\n",
      "(479122, 10)\n"
     ]
    }
   ],
   "source": [
    "print(df_dealays_digit.shape)\n",
    "#list_col_to_drop=[ 'YEAR', 'MONTH'\\\n",
    "#                  ,'DAY_OF_MONTH', 'QUARTER', 'UNIQUE_CARRIER'\\\n",
    "#                  ,'CARRIER', 'TAIL_NUM','ORIGIN_CITY_NAME', 'ORIGIN_STATE_ABR' \\\n",
    "#                  ,'ORIGIN_STATE_NM','DEST_CITY_NAME','DEST_STATE_ABR','DEST_STATE_NM'\\\n",
    "#                  ,'CANCELLATION_CODE','ORIGIN_AIRPORT_ID','ORIGIN_AIRPORT_SEQ_ID','ORIGIN_CITY_MARKET_ID'\\\n",
    "#                  ,'ORIGIN','DEST','ORIGIN_STATE_FIPS','DEST_CITY_MARKET_ID','DEST_STATE_FIPS'\\\n",
    "#                  ,'DEP_TIME','DEP_DELAY','DEP_DELAY_NEW','DEP_DEL15','DEP_DELAY_GROUP'\\\n",
    "#                  ,'TAXI_OUT','WHEELS_OFF','WHEELS_ON', 'TAXI_IN','CANCELLED','DIVERTED','ACTUAL_ELAPSED_TIME'\\\n",
    "#                  ,'ARR_DELAY', 'ARR_DELAY_NEW', 'ARR_DEL15','ARR_DELAY_GROUP','AIR_TIME'\\\n",
    "#                  ,'DISTANCE_GROUP', 'CARRIER_DELAY', 'WEATHER_DELAY', 'NAS_DELAY'\\\n",
    "#                 ,'SECURITY_DELAY', 'LATE_AIRCRAFT_DELAY', 'FIRST_DEP_TIME'\\\n",
    "#                 ,'TOTAL_ADD_GTIME', 'LONGEST_ADD_GTIME','DEST_AIRPORT_ID','DEST_AIRPORT_SEQ_ID']\n",
    "\n",
    "list_col_to_drop=[ 'YEAR', 'MONTH'\\\n",
    "                  ,'DAY_OF_MONTH', 'QUARTER', 'UNIQUE_CARRIER'\\\n",
    "                  ,'CARRIER', 'TAIL_NUM','ORIGIN_CITY_NAME', 'ORIGIN_STATE_ABR' \\\n",
    "                  ,'ORIGIN_STATE_NM','DEST_CITY_NAME','DEST_STATE_ABR','DEST_STATE_NM'\\\n",
    "                  ,'CANCELLATION_CODE','ORIGIN_AIRPORT_ID','ORIGIN_AIRPORT_SEQ_ID','ORIGIN_CITY_MARKET_ID'\\\n",
    "                  ,'ORIGIN','DEST','ORIGIN_STATE_FIPS','DEST_CITY_MARKET_ID','DEST_STATE_FIPS'\\\n",
    "                  ,'DEP_TIME','DEP_DELAY','DEP_DELAY_NEW','DEP_DEL15','DEP_DELAY_GROUP'\\\n",
    "                  ,'TAXI_OUT','WHEELS_OFF','WHEELS_ON', 'TAXI_IN','CANCELLED','DIVERTED','ACTUAL_ELAPSED_TIME'\\\n",
    "                  ,'ARR_DELAY', 'ARR_DELAY_NEW', 'ARR_DEL15','AIR_TIME'\\\n",
    "                  ,'DISTANCE_GROUP', 'CARRIER_DELAY', 'WEATHER_DELAY', 'NAS_DELAY'\\\n",
    "                 ,'SECURITY_DELAY', 'LATE_AIRCRAFT_DELAY', 'FIRST_DEP_TIME'\\\n",
    "                 ,'TOTAL_ADD_GTIME', 'LONGEST_ADD_GTIME','DEST_AIRPORT_ID','DEST_AIRPORT_SEQ_ID'\n",
    "                 ,'CRS_DEP_TIME', 'CRS_ELAPSED_TIME', 'AIRLINE_ID','FLIGHTS','ARR_TIME']\n",
    "\n",
    "\n",
    "for column in list_col_to_drop :\n",
    "    df_dealays_digit = df_drop_column(df_dealays_digit,column)\n",
    "print(df_dealays_digit.shape)"
   ]
  },
  {
   "cell_type": "code",
   "execution_count": 27,
   "metadata": {},
   "outputs": [
    {
     "name": "stdout",
     "output_type": "stream",
     "text": [
      "*** WARNING : column Unnamed: 64 not in dataframe\n"
     ]
    }
   ],
   "source": [
    "column = 'Unnamed: 64'\n",
    "df_dealays_digit = df_drop_column(df_dealays_digit,column)"
   ]
  },
  {
   "cell_type": "code",
   "execution_count": 28,
   "metadata": {},
   "outputs": [
    {
     "data": {
      "text/plain": [
       "Index(['DAY_OF_WEEK', 'FL_NUM', 'ORIGIN_WAC', 'DEST_WAC', 'CRS_ARR_TIME',\n",
       "       'ARR_DELAY_GROUP', 'DISTANCE', 'FL_DATE', 'DEP_TIME_BLK',\n",
       "       'ARR_TIME_BLK'],\n",
       "      dtype='object')"
      ]
     },
     "execution_count": 28,
     "metadata": {},
     "output_type": "execute_result"
    }
   ],
   "source": [
    "df_dealays_digit.columns"
   ]
  },
  {
   "cell_type": "code",
   "execution_count": 10,
   "metadata": {},
   "outputs": [
    {
     "data": {
      "text/plain": [
       "array([2, 3, 4, 5, 6, 7, 1], dtype=int64)"
      ]
     },
     "execution_count": 10,
     "metadata": {},
     "output_type": "execute_result"
    }
   ],
   "source": [
    "df_dealays_digit.DAY_OF_WEEK.unique()"
   ]
  },
  {
   "cell_type": "markdown",
   "metadata": {},
   "source": [
    "__Build column list for dropping raws with Nan values__"
   ]
  },
  {
   "cell_type": "code",
   "execution_count": 29,
   "metadata": {},
   "outputs": [],
   "source": [
    "list_raw_drop_nan=['DAY_OF_WEEK', 'FL_DATE', 'AIRLINE_ID', 'FL_NUM', 'ORIGIN_WAC',\n",
    "       'DEST_WAC', 'DEP_TIME_BLK', 'ARR_TIME_BLK', 'FLIGHTS', ]"
   ]
  },
  {
   "cell_type": "markdown",
   "metadata": {},
   "source": [
    "__Drop raws with Nan values__"
   ]
  },
  {
   "cell_type": "raw",
   "metadata": {},
   "source": [
    "print(df_dealays_digit.shape)\n",
    "for column in list_raw_drop_nan :\n",
    "    df_dealays_digit = df_drop_raws_from_nan_value(df_dealays_digit, column) \n",
    "print(df_dealays_digit.shape)    "
   ]
  },
  {
   "cell_type": "markdown",
   "metadata": {},
   "source": [
    "__Imputation of Nan values__"
   ]
  },
  {
   "cell_type": "code",
   "execution_count": 30,
   "metadata": {},
   "outputs": [
    {
     "name": "stdout",
     "output_type": "stream",
     "text": [
      "(479122, 10)\n",
      "(479122, 10)\n"
     ]
    }
   ],
   "source": [
    "print(df_dealays_digit.shape)\n",
    "\n",
    "for column in df_dealays_digit.columns :\n",
    "    if column not in list_raw_drop_nan :\n",
    "        df_dealays_digit = df_replace_nan_with_value_type(df_dealays_digit, column, value_type='median')\n",
    "\n",
    "print(df_dealays_digit.shape)        "
   ]
  },
  {
   "cell_type": "code",
   "execution_count": 31,
   "metadata": {
    "scrolled": true
   },
   "outputs": [
    {
     "data": {
      "text/html": [
       "<div>\n",
       "<style scoped>\n",
       "    .dataframe tbody tr th:only-of-type {\n",
       "        vertical-align: middle;\n",
       "    }\n",
       "\n",
       "    .dataframe tbody tr th {\n",
       "        vertical-align: top;\n",
       "    }\n",
       "\n",
       "    .dataframe thead th {\n",
       "        text-align: right;\n",
       "    }\n",
       "</style>\n",
       "<table border=\"1\" class=\"dataframe\">\n",
       "  <thead>\n",
       "    <tr style=\"text-align: right;\">\n",
       "      <th></th>\n",
       "      <th>DAY_OF_WEEK</th>\n",
       "      <th>FL_NUM</th>\n",
       "      <th>ORIGIN_WAC</th>\n",
       "      <th>DEST_WAC</th>\n",
       "      <th>FL_DATE</th>\n",
       "      <th>DEP_TIME_BLK</th>\n",
       "      <th>ARR_TIME_BLK</th>\n",
       "      <th>CRS_ARR_TIME</th>\n",
       "      <th>ARR_DELAY_GROUP</th>\n",
       "      <th>DISTANCE</th>\n",
       "    </tr>\n",
       "  </thead>\n",
       "  <tbody>\n",
       "    <tr>\n",
       "      <th>171889</th>\n",
       "      <td>1</td>\n",
       "      <td>1243</td>\n",
       "      <td>37</td>\n",
       "      <td>41</td>\n",
       "      <td>13</td>\n",
       "      <td>9</td>\n",
       "      <td>10</td>\n",
       "      <td>1535</td>\n",
       "      <td>-1.0</td>\n",
       "      <td>562.0</td>\n",
       "    </tr>\n",
       "    <tr>\n",
       "      <th>87938</th>\n",
       "      <td>5</td>\n",
       "      <td>2386</td>\n",
       "      <td>34</td>\n",
       "      <td>22</td>\n",
       "      <td>17</td>\n",
       "      <td>16</td>\n",
       "      <td>18</td>\n",
       "      <td>2357</td>\n",
       "      <td>0.0</td>\n",
       "      <td>762.0</td>\n",
       "    </tr>\n",
       "  </tbody>\n",
       "</table>\n",
       "</div>"
      ],
      "text/plain": [
       "        DAY_OF_WEEK  FL_NUM  ORIGIN_WAC  DEST_WAC  FL_DATE  DEP_TIME_BLK  \\\n",
       "171889            1    1243          37        41       13             9   \n",
       "87938             5    2386          34        22       17            16   \n",
       "\n",
       "        ARR_TIME_BLK  CRS_ARR_TIME  ARR_DELAY_GROUP  DISTANCE  \n",
       "171889            10          1535             -1.0     562.0  \n",
       "87938             18          2357              0.0     762.0  "
      ]
     },
     "execution_count": 31,
     "metadata": {},
     "output_type": "execute_result"
    }
   ],
   "source": [
    "df_dealays_digit.sample(2)"
   ]
  },
  {
   "cell_type": "markdown",
   "metadata": {},
   "source": [
    "__Encodage des colonnes__"
   ]
  },
  {
   "cell_type": "code",
   "execution_count": 32,
   "metadata": {},
   "outputs": [
    {
     "name": "stdout",
     "output_type": "stream",
     "text": [
      "(479122, 10)\n",
      "(479122, 10)\n",
      "(479122, 9)\n",
      "(479122, 10)\n",
      "(479122, 10)\n",
      "(479122, 9)\n",
      "(479122, 10)\n",
      "(479122, 10)\n",
      "(479122, 9)\n",
      "(479122, 10)\n",
      "(479122, 10)\n"
     ]
    }
   ],
   "source": [
    "list_encode_column=['FL_DATE','DEP_TIME_BLK','ARR_TIME_BLK']\n",
    "print(df_dealays_digit.shape)\n",
    "for column in list_encode_column :\n",
    "    df_dealays_digit = df_encode_column(df_dealays_digit,column)\n",
    "print(df_dealays_digit.shape)    "
   ]
  },
  {
   "cell_type": "markdown",
   "metadata": {},
   "source": [
    "# <font color='blues'>Exploratory analysis</font>"
   ]
  },
  {
   "cell_type": "markdown",
   "metadata": {},
   "source": [
    "__ PCA : data are scaled __"
   ]
  },
  {
   "cell_type": "raw",
   "metadata": {},
   "source": [
    "X_scaled_ = df_pca_all_plot(df_dealays_digit_sample)"
   ]
  },
  {
   "cell_type": "raw",
   "metadata": {},
   "source": [
    "# Get standardized data\n",
    "X_scaled = df_get_std_scaled_values(df_dealays_digit_sample)\n",
    "\n",
    "#Build PCA algorithme.\n",
    "nb_components = 2\n",
    "pca = PCA(n_components=nb_components)\n",
    "pca.fit(X_scaled)\n",
    "\n",
    "X_projected = pca.transform(X_scaled)\n",
    "print(X_projected.shape)\n"
   ]
  },
  {
   "cell_type": "raw",
   "metadata": {},
   "source": [
    "df_pcs2_plot(df_dealays_digit_sample, pca)"
   ]
  },
  {
   "cell_type": "raw",
   "metadata": {},
   "source": [
    "df_dealays_digit_sample_corr = df_dealays_digit_sample.corr()\n",
    "f, ax = plt.subplots(figsize=(10, 10))\n",
    "_z = sns.heatmap(df_dealays_digit_sample_corr, annot=False)"
   ]
  },
  {
   "cell_type": "markdown",
   "metadata": {},
   "source": [
    "## <font color='blue'>Analyse des variables liées aux retards</font>"
   ]
  },
  {
   "cell_type": "code",
   "execution_count": 35,
   "metadata": {},
   "outputs": [
    {
     "data": {
      "text/plain": [
       "Index(['DAY_OF_WEEK', 'FL_NUM', 'ORIGIN_WAC', 'DEST_WAC', 'CRS_ARR_TIME',\n",
       "       'ARR_DELAY_GROUP', 'DISTANCE', 'FL_DATE', 'DEP_TIME_BLK',\n",
       "       'ARR_TIME_BLK'],\n",
       "      dtype='object')"
      ]
     },
     "execution_count": 35,
     "metadata": {},
     "output_type": "execute_result"
    }
   ],
   "source": [
    "df_dealays_digit.columns"
   ]
  },
  {
   "cell_type": "code",
   "execution_count": 36,
   "metadata": {},
   "outputs": [
    {
     "data": {
      "image/png": "[encoded data removed]",
      "text/plain": [
       "<matplotlib.figure.Figure at 0x9da16b4c>"
      ]
     },
     "metadata": {},
     "output_type": "display_data"
    }
   ],
   "source": [
    "fig = plt.figure(figsize=(16, 16))\n",
    "list_data_analysis= ['DAY_OF_WEEK', 'FL_NUM', 'ORIGIN_WAC', 'DEST_WAC',\n",
    "       'CRS_ARR_TIME', 'ARR_DELAY_GROUP',\n",
    "       'DISTANCE', 'FL_DATE', 'DEP_TIME_BLK','ARR_TIME_BLK']\n",
    "if True :\n",
    "    for pos in range(len(list_data_analysis)) :\n",
    "        item = list_data_analysis[pos]\n",
    "        X = df_dealays_digit[item]\n",
    "        ax = fig.add_subplot(5,4, (pos+1))\n",
    "        h = ax.hist(X, bins=50, color='steelblue', edgecolor='none', normed=True)\n",
    "        ax.set_title(item, fontsize=8)\n",
    "    "
   ]
  },
  {
   "cell_type": "code",
   "execution_count": 37,
   "metadata": {},
   "outputs": [],
   "source": [
    "df_dealays_digit_save = df_dealays_digit.copy()"
   ]
  },
  {
   "cell_type": "code",
   "execution_count": 38,
   "metadata": {},
   "outputs": [],
   "source": [
    "df_dealays_digit = df_dealays_digit_save.copy()"
   ]
  },
  {
   "cell_type": "markdown",
   "metadata": {},
   "source": [
    "# <font color='blues'>Création du vecteur étiquettes pour les retards</font>"
   ]
  },
  {
   "cell_type": "markdown",
   "metadata": {},
   "source": [
    "__Calcul du vecteur retard avec les colonnes CSR_ARR_TIME et ARR_TIME__"
   ]
  },
  {
   "cell_type": "code",
   "execution_count": 39,
   "metadata": {},
   "outputs": [],
   "source": [
    "arr_delay = np.array(df_dealays_digit['ARR_DELAY_GROUP'])"
   ]
  },
  {
   "cell_type": "code",
   "execution_count": 40,
   "metadata": {},
   "outputs": [
    {
     "data": {
      "text/plain": [
       "Index(['DAY_OF_WEEK', 'FL_NUM', 'ORIGIN_WAC', 'DEST_WAC', 'CRS_ARR_TIME',\n",
       "       'ARR_DELAY_GROUP', 'DISTANCE', 'FL_DATE', 'DEP_TIME_BLK',\n",
       "       'ARR_TIME_BLK'],\n",
       "      dtype='object')"
      ]
     },
     "execution_count": 40,
     "metadata": {},
     "output_type": "execute_result"
    }
   ],
   "source": [
    "df_dealays_digit.columns"
   ]
  },
  {
   "cell_type": "raw",
   "metadata": {},
   "source": [
    "arr_crs_arr_time = np.array(df_dealays_digit['CRS_ARR_TIME'] )\n",
    "arr_arr_time = np.array(df_dealays_digit['ARR_TIME'])\n",
    "arr_delay = arr_arr_time-arr_crs_arr_time"
   ]
  },
  {
   "cell_type": "markdown",
   "metadata": {},
   "source": [
    "__Purge des colonnes utilisées pour le vecteur retard__"
   ]
  },
  {
   "cell_type": "code",
   "execution_count": 41,
   "metadata": {},
   "outputs": [
    {
     "name": "stdout",
     "output_type": "stream",
     "text": [
      "(479122, 10)\n",
      "(479122, 9)\n"
     ]
    }
   ],
   "source": [
    "print(df_dealays_digit.shape)\n",
    "df_dealays_digit = df_drop_list_column(df_dealays_digit,['ARR_DELAY_GROUP']) \n",
    "print(df_dealays_digit.shape)"
   ]
  },
  {
   "cell_type": "markdown",
   "metadata": {},
   "source": [
    "# <font color='blues'>Classification binaire KNN </font>"
   ]
  },
  {
   "cell_type": "markdown",
   "metadata": {},
   "source": [
    "## <font color='blue'>Creation de la classe binaire : avec retard (-1) ou sans retard (1)</font>"
   ]
  },
  {
   "cell_type": "raw",
   "metadata": {},
   "source": [
    "df_dealays_digit.columns"
   ]
  },
  {
   "cell_type": "raw",
   "metadata": {},
   "source": [
    "y_labels = np.where(arr_delay>0,1,-1)\n",
    "print(np.where(y_labels>0)[0].shape[0], np.where(y_labels<0)[0].shape[0])\n",
    "print(np.where(y_labels>0)[0].shape[0] + np.where(y_labels<0)[0].shape[0],y_labels.shape[0] )"
   ]
  },
  {
   "cell_type": "raw",
   "metadata": {},
   "source": [
    "__Création des jeux de données d'entraînement et standardisation des données__"
   ]
  },
  {
   "cell_type": "raw",
   "metadata": {},
   "source": [
    "# -----------------------------------------------------------------------------\n",
    "# La colonne separator_column est utilisée pour séparer le jeu de données de test\n",
    "# du jeu de données d'entraînement.\n",
    "# Le critere de séparation sont les valeurs de part et d'autre de la valeur \n",
    "# train_limit\n",
    "# -----------------------------------------------------------------------------\n",
    "separator_column = 'FL_DATE'\n",
    "train_limit = 20\n",
    "\n",
    "X_train_std, X_test_std, y_train, y_test =  p4_train_test_split_from_column(df_dealays_digit\\\n",
    "                                                                    , separator_column\\\n",
    "                                                                    , train_limit\\\n",
    "                                                                    , y_labels)"
   ]
  },
  {
   "cell_type": "raw",
   "metadata": {},
   "source": [
    "__Verification sommaire__"
   ]
  },
  {
   "cell_type": "raw",
   "metadata": {},
   "source": [
    "np.where(y_test>0)[0].shape[0]+np.where(y_test<0)[0].shape[0], y_test.shape[0]"
   ]
  },
  {
   "cell_type": "raw",
   "metadata": {},
   "source": [
    "## <font color='blue'>Recherche du nb de voisins optimum du KNN par validation croisée</font>"
   ]
  },
  {
   "cell_type": "raw",
   "metadata": {},
   "source": [
    "best_neighbors, list_neighbors, list_score = knn_cv_search(X_train_std, y_train\\\n",
    "                                                           , scoring_parameter='neg_mean_squared_error'\\\n",
    "                                                          ,limit_list=(7,25))"
   ]
  },
  {
   "cell_type": "raw",
   "metadata": {},
   "source": [
    "# plot misclassification error vs k\n",
    "plt.figure(figsize=(10,10))\n",
    "plt.plot(list_neighbors, list_score)\n",
    "plt.xlabel('Nombre de voisins K')\n",
    "plt.ylabel('Erreur de classification')\n",
    "plt.show()"
   ]
  },
  {
   "cell_type": "raw",
   "metadata": {},
   "source": [
    "## <font color='blue'>Prédictions avec un classifieur KNN optimal</font>"
   ]
  },
  {
   "cell_type": "raw",
   "metadata": {},
   "source": [
    "import time\n",
    "knn_clf = KNeighborsClassifier(n_neighbors=best_neighbors)\n",
    "t0 = time.time()\n",
    "knn_clf.fit(X_train_std, y_train)\n",
    "t1 = time.time()\n",
    "print(\"Apprentissage KNN réalisé en %0.3Fs\" % (t1-t0))\n",
    "t0=t1\n",
    "y_pred_knn = knn_clf.predict(X_test_std)\n",
    "t1 = time.time()\n",
    "print(\"Meilleur score pour la classification KNN : %0.4F\" % accuracy_score(y_test, y_pred_knn))\n",
    "print(\"Prédictions KNN réalisées en %0.3Fs\" % (t1-t0))"
   ]
  },
  {
   "cell_type": "raw",
   "metadata": {},
   "source": [
    "__Affichage des scores du classificateur binaire__"
   ]
  },
  {
   "cell_type": "raw",
   "metadata": {},
   "source": [
    "from sklearn.metrics import classification_report\n",
    "from sklearn.metrics import confusion_matrix\n",
    "print(y_test.shape)\n",
    "class_names=['RETARD','PONCTUEL']\n",
    "print(classification_report(y_test, y_pred_knn,target_names=class_names))"
   ]
  },
  {
   "cell_type": "raw",
   "metadata": {},
   "source": [
    "__Affichage graphique de la matrice de confusions__"
   ]
  },
  {
   "cell_type": "raw",
   "metadata": {},
   "source": [
    "conf = confusion_matrix(y_test, y_pred_knn )\n",
    "#print(conf)\n",
    "plot_confusion_matrix(conf, class_names,\n",
    "                          normalize=True,\n",
    "                          title='Matrice de confusion',\n",
    "                          cmap=plt.cm.Reds)"
   ]
  },
  {
   "cell_type": "markdown",
   "metadata": {},
   "source": [
    "# <font color='blues'>Regression sur les valeurs des retards </font>"
   ]
  },
  {
   "cell_type": "markdown",
   "metadata": {},
   "source": [
    "## <font color='blue'>Modèle de regression SVR</font>"
   ]
  },
  {
   "cell_type": "markdown",
   "metadata": {},
   "source": [
    "__Validation des hypothèses: __\n",
    "* Bruit est normal\n",
    "* Obervations sont indépendantes et identiquement distribués\n",
    "* Pb est linéaire : les réalisations (X,y) doivent être rendues indépendantes les unes des autres"
   ]
  },
  {
   "cell_type": "markdown",
   "metadata": {},
   "source": [
    "### <font color='blue'>Contruction d'un vecteur d'étiquettes</font>"
   ]
  },
  {
   "cell_type": "markdown",
   "metadata": {},
   "source": [
    "__Regresseur linéaire : SVR__"
   ]
  },
  {
   "cell_type": "code",
   "execution_count": 42,
   "metadata": {},
   "outputs": [],
   "source": [
    "y_labels = arr_delay"
   ]
  },
  {
   "cell_type": "code",
   "execution_count": 43,
   "metadata": {},
   "outputs": [
    {
     "data": {
      "text/plain": [
       "Index(['DAY_OF_WEEK', 'FL_NUM', 'ORIGIN_WAC', 'DEST_WAC', 'CRS_ARR_TIME',\n",
       "       'DISTANCE', 'FL_DATE', 'DEP_TIME_BLK', 'ARR_TIME_BLK'],\n",
       "      dtype='object')"
      ]
     },
     "execution_count": 43,
     "metadata": {},
     "output_type": "execute_result"
    }
   ],
   "source": [
    "df_dealays_digit.columns"
   ]
  },
  {
   "cell_type": "code",
   "execution_count": 44,
   "metadata": {},
   "outputs": [],
   "source": [
    "# -----------------------------------------------------------------------------\n",
    "# La colonne separator_column est utilisée pour séparer le jeu de données de test\n",
    "# du jeu de données d'entraînement.\n",
    "# Le critere de séparation sont les valeurs de part et d'autre de train_limit\n",
    "# -----------------------------------------------------------------------------\n",
    "separator_column = 'FL_DATE'\n",
    "train_limit = 20\n",
    "\n",
    "df_dealays_digit, X_train_std, X_test_std, y_train, y_test =  p4_train_test_split_from_column(df_dealays_digit\\\n",
    "                                                                    , separator_column\\\n",
    "                                                                    , train_limit\\\n",
    "                                                                    , y_labels)"
   ]
  },
  {
   "cell_type": "code",
   "execution_count": 45,
   "metadata": {},
   "outputs": [
    {
     "data": {
      "text/plain": [
       "Index(['DAY_OF_WEEK', 'FL_NUM', 'ORIGIN_WAC', 'DEST_WAC', 'CRS_ARR_TIME',\n",
       "       'DISTANCE', 'FL_DATE', 'DEP_TIME_BLK', 'ARR_TIME_BLK'],\n",
       "      dtype='object')"
      ]
     },
     "execution_count": 45,
     "metadata": {},
     "output_type": "execute_result"
    }
   ],
   "source": [
    "df_dealays_digit.columns"
   ]
  },
  {
   "cell_type": "code",
   "execution_count": 49,
   "metadata": {},
   "outputs": [
    {
     "name": "stdout",
     "output_type": "stream",
     "text": [
      "Recherche des hyper-paramètres en 46.607s\n",
      "Meilleurs hyper-paramètres pour le classifieur LinearSVC: {'C': 0.55}\n"
     ]
    }
   ],
   "source": [
    "from sklearn.model_selection import GridSearchCV\n",
    "from sklearn.svm import LinearSVR\n",
    "import time\n",
    "\n",
    "lsvr_clf = LinearSVR()\n",
    "param_grid = {'C':[0.5,0.55,0.6,0.65] }\n",
    "grid_svr = GridSearchCV(lsvr_clf, param_grid, refit=True)\n",
    "t0 = time.time()\n",
    "grid_svr.fit(X_train_std, y_train)\n",
    "print(\"Recherche des hyper-paramètres en %0.3fs\" % (time.time() - t0))\n",
    "print(\"Meilleurs hyper-paramètres pour le classifieur LinearSVC: \"+str(grid_svr.best_params_))\n"
   ]
  },
  {
   "cell_type": "code",
   "execution_count": 50,
   "metadata": {},
   "outputs": [],
   "source": [
    "lsvr_clf = LinearSVR(C=grid_svr.best_params_['C'])\n",
    "lsvr_clf.fit(X_train_std, y_train)\n",
    "y_pred_lsvr = lsvr_clf.predict(X_test_std)"
   ]
  },
  {
   "cell_type": "code",
   "execution_count": 51,
   "metadata": {},
   "outputs": [
    {
     "name": "stdout",
     "output_type": "stream",
     "text": [
      "Coefficient de correlation R2 = -0.130263\n"
     ]
    }
   ],
   "source": [
    "from sklearn.metrics import r2_score\n",
    "y_pred_lsvr = lsvr_clf.predict(X_test_std)\n",
    "#score_r2 = lsvr_clf.score(X_test_std,y_pred_lsvr)\n",
    "score_r2 = r2_score(y_test, y_pred_lsvr)\n",
    "\n",
    "print(\"Coefficient de correlation R2 = %0.6f\" %score_r2)"
   ]
  },
  {
   "cell_type": "code",
   "execution_count": 52,
   "metadata": {},
   "outputs": [
    {
     "data": {
      "text/plain": [
       "(-2.0, 12.0, -1.000465598853867, -0.9991408865755091)"
      ]
     },
     "execution_count": 52,
     "metadata": {},
     "output_type": "execute_result"
    }
   ],
   "source": [
    "y_test.min(), y_test.max(), y_pred_lsvr.min(), y_pred_lsvr.max()"
   ]
  },
  {
   "cell_type": "code",
   "execution_count": 53,
   "metadata": {},
   "outputs": [
    {
     "data": {
      "image/png": "[encoded data removed]",
      "text/plain": [
       "<matplotlib.figure.Figure at 0xab97992c>"
      ]
     },
     "metadata": {},
     "output_type": "display_data"
    }
   ],
   "source": [
    "z_ = plt.scatter(y_pred_lsvr, y_test, c='r', alpha=0.2)"
   ]
  },
  {
   "cell_type": "markdown",
   "metadata": {},
   "source": [
    "__Creation des jeux de données de test et d'entraînement de façon classique__"
   ]
  },
  {
   "cell_type": "code",
   "execution_count": 54,
   "metadata": {},
   "outputs": [
    {
     "data": {
      "text/plain": [
       "Index(['DAY_OF_WEEK', 'FL_NUM', 'ORIGIN_WAC', 'DEST_WAC', 'CRS_ARR_TIME',\n",
       "       'DISTANCE', 'FL_DATE', 'DEP_TIME_BLK', 'ARR_TIME_BLK'],\n",
       "      dtype='object')"
      ]
     },
     "execution_count": 54,
     "metadata": {},
     "output_type": "execute_result"
    }
   ],
   "source": [
    "df_dealays_digit.columns"
   ]
  },
  {
   "cell_type": "code",
   "execution_count": 55,
   "metadata": {},
   "outputs": [],
   "source": [
    "y_labels = arr_delay"
   ]
  },
  {
   "cell_type": "code",
   "execution_count": 56,
   "metadata": {},
   "outputs": [],
   "source": [
    "from sklearn import model_selection\n",
    "\n",
    "X_train, X_test, y_train, y_test = \\\n",
    "model_selection.train_test_split(df_dealays_digit, y_labels,test_size=0.3)"
   ]
  },
  {
   "cell_type": "code",
   "execution_count": 57,
   "metadata": {},
   "outputs": [],
   "source": [
    "std_scale = preprocessing.StandardScaler().fit(X_train)\n",
    "X_train_std = std_scale.transform(X_train)\n",
    "X_test_std = std_scale.transform(X_test)"
   ]
  },
  {
   "cell_type": "code",
   "execution_count": 58,
   "metadata": {},
   "outputs": [
    {
     "name": "stdout",
     "output_type": "stream",
     "text": [
      "Recherche des hyper-paramètres en 82.298s\n",
      "Meilleurs hyper-paramètres pour le classifieur LinearSVC: {'C': 2}\n"
     ]
    }
   ],
   "source": [
    "from sklearn.model_selection import GridSearchCV\n",
    "from sklearn.svm import LinearSVR\n",
    "import time\n",
    "\n",
    "lsvr_clf = LinearSVR()\n",
    "param_grid = {'C':[0.1,1,2,3] }\n",
    "grid_svr = GridSearchCV(lsvr_clf, param_grid, refit=True)\n",
    "t0 = time.time()\n",
    "grid_svr.fit(X_train_std, y_train)\n",
    "print(\"Recherche des hyper-paramètres en %0.3fs\" % (time.time() - t0))\n",
    "print(\"Meilleurs hyper-paramètres pour le classifieur LinearSVC: \"+str(grid_svr.best_params_))\n"
   ]
  },
  {
   "cell_type": "code",
   "execution_count": 59,
   "metadata": {},
   "outputs": [],
   "source": [
    "lsvr_clf = LinearSVR(C=grid_svr.best_params_['C'])\n",
    "lsvr_clf.fit(X_train_std, y_train)\n",
    "y_pred_lsvr = lsvr_clf.predict(X_test_std)"
   ]
  },
  {
   "cell_type": "code",
   "execution_count": 60,
   "metadata": {},
   "outputs": [
    {
     "data": {
      "text/plain": [
       "(-2.0, 12.0, -1.0010506291187005, -0.999351947353482)"
      ]
     },
     "execution_count": 60,
     "metadata": {},
     "output_type": "execute_result"
    }
   ],
   "source": [
    "y_test.min(), y_test.max(), y_pred_lsvr.min(), y_pred_lsvr.max()"
   ]
  },
  {
   "cell_type": "code",
   "execution_count": 61,
   "metadata": {},
   "outputs": [
    {
     "name": "stdout",
     "output_type": "stream",
     "text": [
      "Coefficient de correlation R2 = -0.112366\n"
     ]
    }
   ],
   "source": [
    "from sklearn.metrics import r2_score\n",
    "y_pred_lsvr = lsvr_clf.predict(X_test_std)\n",
    "#score_r2 = lsvr_clf.score(X_test_std,y_pred_lsvr)\n",
    "score_r2 = r2_score(y_test, y_pred_lsvr)\n",
    "\n",
    "print(\"Coefficient de correlation R2 = %0.6f\" %score_r2)"
   ]
  },
  {
   "cell_type": "code",
   "execution_count": null,
   "metadata": {},
   "outputs": [],
   "source": [
    "plt.scatter(y_test, y_pred_lsvr, color='coral')"
   ]
  },
  {
   "cell_type": "code",
   "execution_count": 136,
   "metadata": {},
   "outputs": [],
   "source": [
    "from sklearn.linear_model import ElasticNet\n",
    "from sklearn.linear_model import LinearRegression\n",
    "from sklearn.linear_model import ElasticNetCV\n",
    "from sklearn.metrics import r2_score\n",
    "from sklearn import model_selection\n",
    "\n",
    "#from sklearn.metrics import Scorer"
   ]
  },
  {
   "cell_type": "markdown",
   "metadata": {},
   "source": [
    "# <font color='blues'>Validation de l'hypothèse bruit Gaussien</color>"
   ]
  },
  {
   "cell_type": "markdown",
   "metadata": {},
   "source": [
    "## <font color='blue'>Prédictions de l'estimateur LinearRegression</font>"
   ]
  },
  {
   "cell_type": "code",
   "execution_count": 162,
   "metadata": {},
   "outputs": [],
   "source": [
    "X_train, X_test, y_train, y_test = \\\n",
    "model_selection.train_test_split(df_dealays_digit.values, y_labels,test_size=0.3)\n",
    "\n",
    "std_scale = preprocessing.StandardScaler().fit(X_train)\n",
    "X_train_std = std_scale.transform(X_train)\n",
    "X_test_std = std_scale.transform(X_test)"
   ]
  },
  {
   "cell_type": "code",
   "execution_count": 163,
   "metadata": {
    "scrolled": true
   },
   "outputs": [
    {
     "name": "stdout",
     "output_type": "stream",
     "text": [
      "Coefficient de correlation R2 = 0.020958\n"
     ]
    }
   ],
   "source": [
    "regr = LinearRegression()\n",
    "regr.fit(X_train_std, y_train)\n",
    "y_predict = regr.predict(X_test_std)\n",
    "\n",
    "score_r2 = r2_score(np.array(y_test), y_predict)\n",
    "print(\"Coefficient de correlation R2 = %0.6f\" %score_r2)"
   ]
  },
  {
   "cell_type": "code",
   "execution_count": 167,
   "metadata": {},
   "outputs": [],
   "source": [
    "arr_y_test = np.array(y_test)\n",
    "\n",
    "list_error = [ (arr_y_test[j]-y_predict[j])**2  for j in range(0,y_predict.shape[0])]"
   ]
  },
  {
   "cell_type": "code",
   "execution_count": 168,
   "metadata": {},
   "outputs": [
    {
     "data": {
      "image/png": "[encoded data removed]",
      "text/plain": [
       "<matplotlib.figure.Figure at 0xab4af82c>"
      ]
     },
     "metadata": {},
     "output_type": "display_data"
    }
   ],
   "source": [
    "import matplotlib.pyplot as plt\n",
    "ax = plt.gca()\n",
    "# Affichage de dexu courbes : \n",
    "# --> Courbe 1 : list_alpha,list_error_ridge\n",
    "# --> Courbe 2 : [10**-5, 10**5],[baseline_error,baseline_error]\n",
    "z_ = ax.plot(range(0,y_predict.shape[0]),list_error )\n",
    "ax.set_xscale('log')\n",
    "#ax.set_yscale('log')\n",
    "plt.show()"
   ]
  },
  {
   "cell_type": "markdown",
   "metadata": {},
   "source": [
    "# <font color='blues'>Regressions du package sklearn.linear_model</color>"
   ]
  },
  {
   "cell_type": "markdown",
   "metadata": {},
   "source": [
    "__Jeu de données de test et d'entraînement__"
   ]
  },
  {
   "cell_type": "code",
   "execution_count": 72,
   "metadata": {},
   "outputs": [],
   "source": [
    "# -----------------------------------------------------------------------------\n",
    "# La colonne separator_column est utilisée pour séparer le jeu de données de test\n",
    "# du jeu de données d'entraînement.\n",
    "# Le critere de séparation sont les valeurs de part et d'autre de train_limit\n",
    "# -----------------------------------------------------------------------------\n",
    "separator_column = 'FL_DATE'\n",
    "train_limit = 20\n",
    "\n",
    "df_dealays_digit, X_train_std, X_test_std, y_train, y_test =  p4_train_test_split_from_column(df_dealays_digit\\\n",
    "                                                                    , separator_column\\\n",
    "                                                                    , train_limit\\\n",
    "                                                                    , y_labels)"
   ]
  },
  {
   "cell_type": "markdown",
   "metadata": {},
   "source": [
    "## <font color='blue'>Prédictions de l'estimateur ElasticNet</font>"
   ]
  },
  {
   "cell_type": "markdown",
   "metadata": {},
   "source": [
    "__Cas du Lasso__"
   ]
  },
  {
   "cell_type": "code",
   "execution_count": 79,
   "metadata": {},
   "outputs": [
    {
     "name": "stdout",
     "output_type": "stream",
     "text": [
      "Coefficient de correlation R2 = -0.002485\n"
     ]
    }
   ],
   "source": [
    "regr = ElasticNet(l1_ratio = 1)\n",
    "regr.fit(X_train_std, y_train)\n",
    "y_predict = regr.predict(X_test_std)\n",
    "\n",
    "score_r2 = r2_score(y_test, y_predict)\n",
    "print(\"Coefficient de correlation R2 = %0.6f\" %score_r2)"
   ]
  },
  {
   "cell_type": "markdown",
   "metadata": {},
   "source": [
    "__Cas du ridge__"
   ]
  },
  {
   "cell_type": "code",
   "execution_count": 80,
   "metadata": {},
   "outputs": [
    {
     "name": "stdout",
     "output_type": "stream",
     "text": [
      "Coefficient de correlation R2 = 0.012573\n"
     ]
    },
    {
     "name": "stderr",
     "output_type": "stream",
     "text": [
      "/home/bangui/anaconda3/lib/python3.6/site-packages/sklearn/linear_model/coordinate_descent.py:491: ConvergenceWarning: Objective did not converge. You might want to increase the number of iterations. Fitting data with very small alpha may cause precision problems.\n",
      "  ConvergenceWarning)\n"
     ]
    }
   ],
   "source": [
    "regr = ElasticNet(l1_ratio = 0)\n",
    "regr.fit(X_train_std, y_train)\n",
    "y_predict = regr.predict(X_test_std)\n",
    "\n",
    "score_r2 = r2_score(y_test, y_predict)\n",
    "print(\"Coefficient de correlation R2 = %0.6f\" %score_r2)"
   ]
  },
  {
   "cell_type": "markdown",
   "metadata": {},
   "source": [
    "__Recherche par hyper-paramètres de ElasticNet__"
   ]
  },
  {
   "cell_type": "code",
   "execution_count": 106,
   "metadata": {
    "scrolled": true
   },
   "outputs": [
    {
     "name": "stdout",
     "output_type": "stream",
     "text": [
      "Recherche des hyper-paramètres en 39.001s\n",
      "Meilleur(s) hyper-paramètre(s) pour le classifieur ElacticNet: {'l1_ratio': 0.0001}\n"
     ]
    }
   ],
   "source": [
    "n_alphas = 50\n",
    "alphas = np.logspace(-1, 0, n_alphas)\n",
    "param_grid = {'l1_ratio':np.logspace(-4, 0, n_alphas)}\n",
    "\n",
    "regr = ElasticNet()\n",
    "\n",
    "grid_regr = GridSearchCV(regr, param_grid, refit=True, scoring='r2', cv=5)\n",
    "t0 = time.time()\n",
    "grid_regr.fit(X_train_std, y_train)\n",
    "print(\"Recherche des hyper-paramètres en %0.3fs\" % (time.time() - t0))\n",
    "print(\"Meilleur(s) hyper-paramètre(s) pour le classifieur ElacticNet: \"+str(grid_regr.best_params_))\n"
   ]
  },
  {
   "cell_type": "code",
   "execution_count": 105,
   "metadata": {},
   "outputs": [
    {
     "data": {
      "text/plain": [
       "array([ 0.00475774,  0.00475402,  0.00474795,  0.00473812,  0.00472208,\n",
       "        0.00469587,  0.00465291,  0.00458209,  0.00446429,  0.00427181,\n",
       "        0.00394575,  0.00337018,  0.00239361,  0.00085496, -0.00152408,\n",
       "       -0.00662909, -0.01266504, -0.01274045, -0.01274045, -0.01274045])"
      ]
     },
     "execution_count": 105,
     "metadata": {},
     "output_type": "execute_result"
    }
   ],
   "source": [
    "grid_regr.cv_results_['mean_test_score']"
   ]
  },
  {
   "cell_type": "code",
   "execution_count": 108,
   "metadata": {},
   "outputs": [],
   "source": [
    "n_alphas = 50\n",
    "alphas = np.logspace(-1, 0, n_alphas)\n",
    "param_grid = {'l1_ratio':np.logspace(-4, 0, n_alphas)}\n",
    "\n",
    "regr = ElasticNetCV(l1_ratio=alphas)"
   ]
  },
  {
   "cell_type": "code",
   "execution_count": 109,
   "metadata": {},
   "outputs": [
    {
     "data": {
      "text/plain": [
       "ElasticNetCV(alphas=None, copy_X=True, cv=None, eps=0.001, fit_intercept=True,\n",
       "       l1_ratio=array([0.1    , 0.10481, 0.10985, 0.11514, 0.12068, 0.12649, 0.13257,\n",
       "       0.13895, 0.14563, 0.15264, 0.15999, 0.16768, 0.17575, 0.18421,\n",
       "       0.19307, 0.20236, 0.2121 , 0.2223 , 0.233  , 0.24421, 0.25595,\n",
       "       0.26827, 0.28118, 0.29471, 0.30888, 0.32375, 0.33932, 0.35565,\n",
       "       0.37...513, 0.68665,\n",
       "       0.71969, 0.75431, 0.7906 , 0.82864, 0.86851, 0.9103 , 0.9541 ,\n",
       "       1.     ]),\n",
       "       max_iter=1000, n_alphas=100, n_jobs=1, normalize=False,\n",
       "       positive=False, precompute='auto', random_state=None,\n",
       "       selection='cyclic', tol=0.0001, verbose=0)"
      ]
     },
     "execution_count": 109,
     "metadata": {},
     "output_type": "execute_result"
    }
   ],
   "source": [
    "regr.fit(X_train_std, y_train)"
   ]
  },
  {
   "cell_type": "code",
   "execution_count": 111,
   "metadata": {},
   "outputs": [
    {
     "data": {
      "text/plain": [
       "0.011991103186176244"
      ]
     },
     "execution_count": 111,
     "metadata": {},
     "output_type": "execute_result"
    }
   ],
   "source": [
    "regr.score(X_test_std,y_test)"
   ]
  },
  {
   "cell_type": "code",
   "execution_count": 114,
   "metadata": {},
   "outputs": [],
   "source": [
    "path = regr.path(X_test_std,y_test)"
   ]
  },
  {
   "cell_type": "code",
   "execution_count": 123,
   "metadata": {},
   "outputs": [
    {
     "data": {
      "text/plain": [
       "100"
      ]
     },
     "execution_count": 123,
     "metadata": {},
     "output_type": "execute_result"
    }
   ],
   "source": [
    "len(path[2])"
   ]
  },
  {
   "cell_type": "code",
   "execution_count": 124,
   "metadata": {},
   "outputs": [
    {
     "data": {
      "image/png": "[encoded data removed]",
      "text/plain": [
       "<matplotlib.figure.Figure at 0xaae9d78c>"
      ]
     },
     "metadata": {},
     "output_type": "display_data"
    }
   ],
   "source": [
    "ax = plt.gca()\n",
    "\n",
    "ax.plot(path[0], path[2])\n",
    "ax.set_xscale('log')\n",
    "plt.xlabel('alpha')\n",
    "plt.ylabel('weights')\n",
    "plt.title('ElasticNet coefficients as a function of the regularization')\n",
    "plt.axis('tight')\n",
    "plt.show()"
   ]
  },
  {
   "cell_type": "code",
   "execution_count": 131,
   "metadata": {},
   "outputs": [],
   "source": [
    "coefs = []\n",
    "errors = []\n",
    "enet = ElasticNet()\n",
    "\n",
    "for a in alphas:\n",
    "    enet.set_params(l1_ratio=a)\n",
    "    enet.fit(X_train_std, y_train)\n",
    "    coefs.append(enet.coef_)\n",
    "    #errors.append([ np.mean((enet.predict(X_test_std) - y_test) ** 2)])\n",
    "    errors.append([ np.mean(r2_score(y_test, enet.predict(X_test_std)))])\n",
    "    "
   ]
  },
  {
   "cell_type": "code",
   "execution_count": 132,
   "metadata": {},
   "outputs": [
    {
     "data": {
      "image/png": "[encoded data removed]",
      "text/plain": [
       "<matplotlib.figure.Figure at 0xab63d8ac>"
      ]
     },
     "metadata": {},
     "output_type": "display_data"
    }
   ],
   "source": [
    "ax = plt.gca()\n",
    "\n",
    "ax.plot(alphas,coefs)\n",
    "ax.set_xscale('log')\n",
    "plt.xlabel('L1')\n",
    "plt.ylabel('Poids')\n",
    "plt.title('ElasticNet: poids fonction de la regularisation')\n",
    "plt.axis('tight')\n",
    "plt.show()"
   ]
  },
  {
   "cell_type": "code",
   "execution_count": 134,
   "metadata": {},
   "outputs": [
    {
     "data": {
      "image/png": "[encoded data removed]",
      "text/plain": [
       "<matplotlib.figure.Figure at 0xab5a3a0c>"
      ]
     },
     "metadata": {},
     "output_type": "display_data"
    }
   ],
   "source": [
    "ax = plt.gca()\n",
    "\n",
    "ax.plot(alphas, errors)\n",
    "ax.set_xscale('log')\n",
    "plt.xlabel('L1')\n",
    "plt.ylabel('Erreurs R2')\n",
    "plt.axis('tight')\n",
    "plt.show()"
   ]
  },
  {
   "cell_type": "code",
   "execution_count": null,
   "metadata": {},
   "outputs": [],
   "source": []
  }
 ],
 "metadata": {
  "kernelspec": {
   "display_name": "Python 3",
   "language": "python",
   "name": "python3"
  },
  "language_info": {
   "codemirror_mode": {
    "name": "ipython",
    "version": 3
   },
   "file_extension": ".py",
   "mimetype": "text/x-python",
   "name": "python",
   "nbconvert_exporter": "python",
   "pygments_lexer": "ipython3",
   "version": "3.6.4"
  }
 },
 "nbformat": 4,
 "nbformat_minor": 2
}
