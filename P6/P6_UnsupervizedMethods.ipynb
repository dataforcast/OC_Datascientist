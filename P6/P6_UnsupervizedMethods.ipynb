{
 "cells": [
  {
   "cell_type": "markdown",
   "metadata": {
    "slideshow": {
     "slide_type": "-"
    }
   },
   "source": [
    "<!--NOTEBOOK_INFORMATION-->\n",
    "<img align=\"left\" style=\"padding-right:10px;\" src=\"./figures/LogoOpenclassrooms.png\">\n",
    "<font size=\"4\">\n",
    "    \n",
    "Cette étude a été réalisée dans le cadre du 6ème projet de ma formation Datascientist dispensée en MOOC par \n",
    "\n",
    "<font color='blus'>Openclassrooms / écoles Centrale-Supélec</font>.\n",
    "\n",
    "\n",
    "\n",
    "\n",
    "<p></p><p></p><p></p>\n",
    "\n",
    "\n",
    "\n",
    "\n",
    "\n",
    "**Le problème posé :**\n",
    "\n",
    "\n",
    "*Stack Overflow est un site célèbre de question-réponses liées au développement informatique. Pour poser une question sur ce site, il faut entrer plusieurs tags de manière à retrouver facilement la question par la suite. Pour les utilisateurs expérimentés cela ne pose pas de problème, mais pour les nouveaux utilisateurs, il serait judicieux de suggérer quelques tags relatifs à la question posée.*\n",
    "\n",
    "*Amateur de Stack Overflow, qui vous a souvent sauvé la mise, vous décidez d'aider la communauté en retour. Pour cela, vous développez un système de suggestion de tags pour le site. Celui-ci prendra la forme d’un algorithme de machine learning qui assigne automatiquement plusieurs tags pertinents à une question.*\n",
    "\n",
    "\n",
    "\n",
    "**Solutions mises en oeuvre**\n",
    "\n",
    "Les solutions de suggestion de tags présentés ici se basent sur des modèles *non-supervisés* de machine learning.\n",
    "\n",
    "Les modèles mis en oeuvre : \n",
    "    * Clusterisation par K-means\n",
    "    * LDA\n",
    "    * Word2Vec\n",
    "    * Gloves\n",
    "\n",
    "Ce notebook utilise les données issues du notebook **P6_DadaAnalysis.ipynb**\n",
    "\n"
   ]
  },
  {
   "cell_type": "code",
   "execution_count": 36,
   "metadata": {},
   "outputs": [],
   "source": [
    "%load_ext autoreload\n",
    "%autoreload 2\n",
    "%reload_ext autoreload\n",
    "\n",
    "import p6_util\n",
    "import p6_util_plot\n",
    "\n",
    "# When True, results are read from dumped files.\n",
    "# Otherwise, results are computed then dumped into files on mass storage.\n",
    "is_reloaded = True"
   ]
  },
  {
   "cell_type": "code",
   "execution_count": null,
   "metadata": {},
   "outputs": [],
   "source": [
    "import pandas as pd\n",
    "file_name=\"./data/StackOverFlowTags.csv\"\n",
    "df_sof_tags=pd.read_csv(file_name)\n",
    "df_sof_tags.shape"
   ]
  },
  {
   "cell_type": "code",
   "execution_count": null,
   "metadata": {},
   "outputs": [],
   "source": [
    "df_sof_tags.columns"
   ]
  },
  {
   "cell_type": "code",
   "execution_count": null,
   "metadata": {},
   "outputs": [],
   "source": [
    "list_sof_tags = df_sof_tags.TagName.tolist()"
   ]
  },
  {
   "cell_type": "markdown",
   "metadata": {},
   "source": [
    "# <font color='blus'>3. Unsupervised methods</font>"
   ]
  },
  {
   "cell_type": "markdown",
   "metadata": {},
   "source": [
    "TAGS are regarded as keywords.\n",
    "\n",
    "Aims of this section is to create data points then identify clusters from this set of data.\n",
    "\n",
    "These data-points are digital representation of the cleaned documents dataset.\n",
    "\n",
    "For each-one of the clusters, most representative terms will be identified.\n",
    "\n",
    "These terms will be considered as TAGs.\n",
    "\n",
    "Differents embeddings techniques will be used in order to create data-points : \n",
    "\n",
    "* Bag of words\n",
    "* Co-occurence\n",
    "* TF-IDF"
   ]
  },
  {
   "cell_type": "markdown",
   "metadata": {},
   "source": [
    "**Loading train dataset and extract users questions from Body column**"
   ]
  },
  {
   "cell_type": "code",
   "execution_count": 46,
   "metadata": {},
   "outputs": [
    {
     "name": "stdout",
     "output_type": "stream",
     "text": [
      "(24604, 5)\n"
     ]
    }
   ],
   "source": [
    "import pandas as pd\n",
    "file_name=\"./data/train_StackOverFlow_BodyTitleTags.csv\"\n",
    "df_sof_train=pd.read_csv(file_name)\n",
    "print(df_sof_train.shape)"
   ]
  },
  {
   "cell_type": "code",
   "execution_count": null,
   "metadata": {},
   "outputs": [],
   "source": [
    "type(df_sof_train['Body'])"
   ]
  },
  {
   "cell_type": "markdown",
   "metadata": {},
   "source": [
    "**Standardize `Body` column from dataset**"
   ]
  },
  {
   "cell_type": "code",
   "execution_count": null,
   "metadata": {},
   "outputs": [],
   "source": [
    "import p6_util\n",
    "ser_document_std = p6_util.p6_df_standardization(df_sof_train['Body'],is_stemming=False, is_lem=False)"
   ]
  },
  {
   "cell_type": "markdown",
   "metadata": {},
   "source": [
    "**Save dataframe with standardized `Body` column**"
   ]
  },
  {
   "cell_type": "code",
   "execution_count": null,
   "metadata": {},
   "outputs": [],
   "source": [
    "import p5_util\n",
    "file_name=\"./data/df_document_std.dump\"\n",
    "p5_util.object_dump(ser_document_std, file_name)"
   ]
  },
  {
   "cell_type": "markdown",
   "metadata": {},
   "source": [
    "**Load standardized corpus**"
   ]
  },
  {
   "cell_type": "code",
   "execution_count": null,
   "metadata": {},
   "outputs": [],
   "source": [
    "import p5_util\n",
    "file_name=\"./data/ser_sof_train.dump\"\n",
    "ser_sof_train = p5_util.object_load(file_name)\n",
    "print(ser_sof_train.shape)"
   ]
  },
  {
   "cell_type": "code",
   "execution_count": null,
   "metadata": {},
   "outputs": [],
   "source": [
    "ser_document_std = ser_sof_train[:16359]\n",
    "print(ser_document_std.shape)"
   ]
  },
  {
   "cell_type": "markdown",
   "metadata": {},
   "source": [
    "#### Corpus vectorization"
   ]
  },
  {
   "cell_type": "code",
   "execution_count": null,
   "metadata": {},
   "outputs": [],
   "source": [
    "from sklearn.feature_extraction.text import TfidfVectorizer\n",
    "\n",
    "# When building vacabulary, terms with frequency document < p_min_df are ignored.\n",
    "p_min_df = 0.0005\n",
    "# When building vacabulary, terms with frequency document> p_max_df are ignored.\n",
    "p_max_df = 1.\n",
    "\n",
    "\n",
    "dict_sof_document = ser_document_std.to_dict()\n",
    "\n",
    "ngram1=1\n",
    "ngram2=1\n",
    "vectorizer=TfidfVectorizer(norm=\"l2\", use_idf=True, min_df=p_min_df, max_df=p_max_df, ngram_range=(ngram1, ngram2))\n",
    "\n",
    "csr_matrix = vectorizer.fit_transform(dict_sof_document.values())\n",
    "\n",
    "print(csr_matrix.shape)"
   ]
  },
  {
   "cell_type": "markdown",
   "metadata": {},
   "source": [
    "**Save vectorization with ngram (2,2) mode**"
   ]
  },
  {
   "cell_type": "code",
   "execution_count": null,
   "metadata": {},
   "outputs": [],
   "source": [
    "import p5_util\n",
    "file_name=\"./data/csr_matrix_tfidf_1gram.dump\"\n",
    "p5_util.object_dump(csr_matrix, file_name)\n",
    "\n",
    "file_name=\"./data/vectorizer_tfidf_1gram.dump\"\n",
    "p5_util.object_dump(vectorizer, file_name)"
   ]
  },
  {
   "cell_type": "markdown",
   "metadata": {},
   "source": [
    "## <font color='blus'>3.1 Kmeans clustering</font>"
   ]
  },
  {
   "cell_type": "markdown",
   "metadata": {},
   "source": [
    "**Load vectorization operator and CSR matrix**"
   ]
  },
  {
   "cell_type": "code",
   "execution_count": 25,
   "metadata": {},
   "outputs": [
    {
     "name": "stdout",
     "output_type": "stream",
     "text": [
      "p5_util.object_load : fileName= ./data/csr_matrix_tfidf_ngram1_b.dump\n",
      "p5_util.object_load : fileName= ./data/vectorizer_tfidf_ngram1_b.dump\n"
     ]
    }
   ],
   "source": [
    "import p5_util\n",
    "file_name=\"./data/csr_matrix_tfidf_ngram1_b.dump\"\n",
    "csr_matrix  = p5_util.object_load(file_name)\n",
    "\n",
    "file_name=\"./data/vectorizer_tfidf_ngram1_b.dump\"\n",
    "vectorizer = p5_util.object_load(file_name)"
   ]
  },
  {
   "cell_type": "raw",
   "metadata": {},
   "source": [
    "#type(csr_matrix) is a 'csr_matrix'\n",
    "print(type(csr_matrix))\n",
    "if isinstance(csr_matrix, 'scipy.sparse.csr.csr_matrix') :\n",
    "    print(\"YES\")\n",
    "else :\n",
    "    print(\"NO\")"
   ]
  },
  {
   "cell_type": "code",
   "execution_count": 27,
   "metadata": {},
   "outputs": [
    {
     "ename": "NameError",
     "evalue": "name 'df_customers' is not defined",
     "output_type": "error",
     "traceback": [
      "\u001b[0;31m---------------------------------------------------------------------------\u001b[0m",
      "\u001b[0;31mNameError\u001b[0m                                 Traceback (most recent call last)",
      "\u001b[0;32m<ipython-input-27-cf192b95ab87>\u001b[0m in \u001b[0;36m<module>\u001b[0;34m()\u001b[0m\n\u001b[1;32m      2\u001b[0m \u001b[0mcluster_start\u001b[0m \u001b[0;34m=\u001b[0m \u001b[0;36m1\u001b[0m\u001b[0;34m\u001b[0m\u001b[0m\n\u001b[1;32m      3\u001b[0m \u001b[0mcluster_end\u001b[0m \u001b[0;34m=\u001b[0m \u001b[0;36m10\u001b[0m\u001b[0;34m\u001b[0m\u001b[0m\n\u001b[0;32m----> 4\u001b[0;31m \u001b[0mdict_kmeans\u001b[0m \u001b[0;34m=\u001b[0m \u001b[0mp5_util\u001b[0m\u001b[0;34m.\u001b[0m\u001b[0mkmeans_scan_inter_inertia\u001b[0m\u001b[0;34m(\u001b[0m\u001b[0mdf_customers\u001b[0m\u001b[0;34m,\u001b[0m \u001b[0mcluster_start\u001b[0m\u001b[0;34m,\u001b[0m \u001b[0mcluster_end\u001b[0m\u001b[0;34m)\u001b[0m\u001b[0;34m\u001b[0m\u001b[0m\n\u001b[0m",
      "\u001b[0;31mNameError\u001b[0m: name 'df_customers' is not defined"
     ]
    }
   ],
   "source": [
    "import p5_util\n",
    "cluster_start = 1\n",
    "cluster_end = 10\n",
    "dict_kmeans = p5_util.kmeans_scan_inter_inertia(df_customers, cluster_start, cluster_end)"
   ]
  },
  {
   "cell_type": "markdown",
   "metadata": {},
   "source": [
    "**Proceed to Kmeans clustering**"
   ]
  },
  {
   "cell_type": "code",
   "execution_count": 28,
   "metadata": {},
   "outputs": [
    {
     "name": "stdout",
     "output_type": "stream",
     "text": [
      "24604\n"
     ]
    }
   ],
   "source": [
    "from sklearn.cluster import KMeans\n",
    "n_cluster=100\n",
    "cluster_kmean=KMeans(n_clusters=n_cluster).fit(csr_matrix)\n",
    "\n",
    "print(len(cluster_kmean.labels_))"
   ]
  },
  {
   "cell_type": "markdown",
   "metadata": {},
   "source": [
    "**Save Kmeans clustering**"
   ]
  },
  {
   "cell_type": "code",
   "execution_count": 29,
   "metadata": {},
   "outputs": [],
   "source": [
    "file_name=\"./data/cluster_kmeans_labels_\"+str(n_cluster)+\".dump\"\n",
    "p5_util.object_dump(cluster_kmean.labels_, file_name)"
   ]
  },
  {
   "cell_type": "markdown",
   "metadata": {},
   "source": [
    "**For each cluster build a TAG list**"
   ]
  },
  {
   "cell_type": "code",
   "execution_count": 30,
   "metadata": {},
   "outputs": [
    {
     "name": "stdout",
     "output_type": "stream",
     "text": [
      "p5_util.object_load : fileName= ./data/cluster_kmeans_labels_100.dump\n"
     ]
    }
   ],
   "source": [
    "file_name=\"./data/cluster_kmeans_labels_\"+str(n_cluster)+\".dump\"\n",
    "cluster_kmean_labels = p5_util.object_load(file_name)"
   ]
  },
  {
   "cell_type": "code",
   "execution_count": 31,
   "metadata": {},
   "outputs": [
    {
     "ename": "NameError",
     "evalue": "name 'dict_sof_document' is not defined",
     "output_type": "error",
     "traceback": [
      "\u001b[0;31m---------------------------------------------------------------------------\u001b[0m",
      "\u001b[0;31mNameError\u001b[0m                                 Traceback (most recent call last)",
      "\u001b[0;32m<ipython-input-31-df26bc584918>\u001b[0m in \u001b[0;36m<module>\u001b[0;34m()\u001b[0m\n\u001b[1;32m      1\u001b[0m \u001b[0;32mimport\u001b[0m \u001b[0mp6_util\u001b[0m\u001b[0;34m\u001b[0m\u001b[0m\n\u001b[1;32m      2\u001b[0m \u001b[0mp_tag_ratio\u001b[0m\u001b[0;34m=\u001b[0m\u001b[0;36m1.0\u001b[0m\u001b[0;34m\u001b[0m\u001b[0m\n\u001b[0;32m----> 3\u001b[0;31m \u001b[0mdict_list_cluster_tag\u001b[0m\u001b[0;34m,\u001b[0m \u001b[0mdict_cluster_stat\u001b[0m\u001b[0;34m,\u001b[0m \u001b[0mdict_df_freq_cluster_tag\u001b[0m \u001b[0;34m=\u001b[0m \u001b[0mp6_util\u001b[0m\u001b[0;34m.\u001b[0m\u001b[0mget_dict_list_cluster_tag\u001b[0m\u001b[0;34m(\u001b[0m\u001b[0mcluster_kmean_labels\u001b[0m\u001b[0;34m,\u001b[0m \u001b[0mdict_sof_document\u001b[0m\u001b[0;34m,\u001b[0m \u001b[0mvectorizer\u001b[0m\u001b[0;34m,\u001b[0m \u001b[0mp_tag_ratio\u001b[0m\u001b[0;34m)\u001b[0m\u001b[0;34m\u001b[0m\u001b[0m\n\u001b[0m",
      "\u001b[0;31mNameError\u001b[0m: name 'dict_sof_document' is not defined"
     ]
    }
   ],
   "source": [
    "import p6_util\n",
    "p_tag_ratio=1.0\n",
    "dict_list_cluster_tag, dict_cluster_stat, dict_df_freq_cluster_tag \\\n",
    "= p6_util.get_dict_list_cluster_tag(cluster_kmean_labels, dict_sof_document, vectorizer, p_tag_ratio)"
   ]
  },
  {
   "cell_type": "code",
   "execution_count": null,
   "metadata": {},
   "outputs": [],
   "source": [
    "import p5_util\n",
    "file_name=\"./data/dict_list_cluster_tag.dump\"\n",
    "p5_util.object_dump(dict_list_cluster_tag, file_name)"
   ]
  },
  {
   "cell_type": "markdown",
   "metadata": {},
   "source": [
    "#### Plot cluster distribution"
   ]
  },
  {
   "cell_type": "code",
   "execution_count": null,
   "metadata": {},
   "outputs": [],
   "source": [
    "import pandas as pd\n",
    "# Convert dictionary as dataframe allowing having statisticals values\n",
    "df_cluster_stat = pd.DataFrame.from_dict(dict_cluster_stat, orient='index')\n",
    "df_cluster_stat.rename(columns={0:'cluster'},inplace=True)\n",
    "\n",
    "min_cluster_count = min(df_cluster_stat.cluster)\n",
    "max_cluster_count = max(df_cluster_stat.cluster)\n",
    "\n",
    "#Get outliers clusters : mix and max values\n",
    "cluster_max_id = df_cluster_stat.query(\"cluster == \"+str(max_cluster_count), inplace=False).index[0]\n",
    "cluster_min_id = df_cluster_stat.query(\"cluster == \"+str(min_cluster_count), inplace=False).index[0]\n",
    "\n",
    "print(\"Cluster {} : elements= {} \".format(cluster_min_id, min_cluster_count))\n",
    "print(\"Cluster {} : elements= {} \".format(cluster_max_id, max_cluster_count))\n"
   ]
  },
  {
   "cell_type": "markdown",
   "metadata": {},
   "source": [
    "**Display Questions distribution among clusters**"
   ]
  },
  {
   "cell_type": "code",
   "execution_count": null,
   "metadata": {},
   "outputs": [],
   "source": [
    "df_cluster_stat.query(\"cluster <= 1000\", inplace=True)\n",
    "ax = df_cluster_stat.plot.bar(figsize=(7, 7), title=\"Questions distribution\", color='orange', fontsize=14)"
   ]
  },
  {
   "cell_type": "markdown",
   "metadata": {},
   "source": [
    "**Display cluster with lower number of elements**"
   ]
  },
  {
   "cell_type": "code",
   "execution_count": null,
   "metadata": {},
   "outputs": [],
   "source": [
    "import p6_util_plot\n",
    "df_freq_cluster_tag = dict_df_freq_cluster_tag[cluster_min_id]\n",
    "dict_freq_cluster_tag = df_freq_cluster_tag.to_dict()['Freq']\n",
    "p6_util_plot.display_word_cloud(dict_freq_cluster_tag)"
   ]
  },
  {
   "cell_type": "code",
   "execution_count": null,
   "metadata": {},
   "outputs": [],
   "source": [
    "print(dict_list_cluster_tag[cluster_min_id])\n",
    "print(\"\\n\")\n",
    "#print(dict_list_cluster_tag[cluster_max_id])"
   ]
  },
  {
   "cell_type": "markdown",
   "metadata": {},
   "source": [
    "**Display cluster with greater number of elements**"
   ]
  },
  {
   "cell_type": "code",
   "execution_count": null,
   "metadata": {},
   "outputs": [],
   "source": [
    "import p6_util_plot\n",
    "df_freq_cluster_tag = dict_df_freq_cluster_tag[cluster_max_id]\n",
    "dict_freq_cluster_tag = df_freq_cluster_tag.to_dict()['Freq']\n",
    "p6_util_plot.display_word_cloud(dict_freq_cluster_tag)"
   ]
  },
  {
   "cell_type": "markdown",
   "metadata": {},
   "source": [
    "## Testing process"
   ]
  },
  {
   "cell_type": "markdown",
   "metadata": {},
   "source": [
    "Questions (Posts) are vectorized.\n",
    "\n",
    "Vectorization leads to a Matrix.\n",
    "\n",
    "Transpozed matrix is clusterized : transpozed matrix columns are questions (Posts).\n",
    "\n",
    "A clustering algorythm is applied over transposed matrix. Each cluster compound a set of questions.\n",
    "\n",
    "Each cluster is assigned with some TAGs that way : \n",
    "\n",
    "* In any cluster, TAGs are picked up from vectors components.\n",
    "\n",
    "* For each one of the cluster element : \n",
    "    * Greatest components values are picked up.\n",
    "    * TAGs to be assigned are vocabulary terms matching with picked-up values.\n"
   ]
  },
  {
   "cell_type": "code",
   "execution_count": 5,
   "metadata": {},
   "outputs": [],
   "source": [
    "range_1_topic = range(10,110,10)\n",
    "range_2_topic = range(200,600,100)"
   ]
  },
  {
   "cell_type": "markdown",
   "metadata": {},
   "source": [
    "## <font color='blus'>3.3. LDA Performances evaluation with TFIDF</font>"
   ]
  },
  {
   "cell_type": "code",
   "execution_count": 2,
   "metadata": {},
   "outputs": [
    {
     "name": "stdout",
     "output_type": "stream",
     "text": [
      "p5_util.object_load : fileName= ./data/csr_matrix_tfidf_ngram1_b.dump\n",
      "p5_util.object_load : fileName= ./data/vectorizer_tfidf_ngram1_b.dump\n",
      "(24604, 4207)\n"
     ]
    }
   ],
   "source": [
    "import p5_util\n",
    "file_name=\"./data/csr_matrix_tfidf_ngram1_b.dump\"\n",
    "csr_matrix = p5_util.object_load(file_name)\n",
    "\n",
    "file_name=\"./data/vectorizer_tfidf_ngram1_b.dump\"\n",
    "vectorizer = p5_util.object_load(file_name)\n",
    "\n",
    "bow_feature_names = vectorizer.get_feature_names()\n",
    "\n",
    "embedding_type = \"tfidf\"\n",
    "\n",
    "print(csr_matrix.shape)"
   ]
  },
  {
   "cell_type": "markdown",
   "metadata": {},
   "source": [
    "### <font color='blue'>3.3.1. Building a set of LDAs models depending of numbers of topics</font>"
   ]
  },
  {
   "cell_type": "code",
   "execution_count": 3,
   "metadata": {},
   "outputs": [
    {
     "name": "stdout",
     "output_type": "stream",
     "text": [
      "Building LDA model with 10 topics\n"
     ]
    },
    {
     "name": "stderr",
     "output_type": "stream",
     "text": [
      "/home/bangui/anaconda3/lib/python3.7/site-packages/sklearn/decomposition/online_lda.py:314: DeprecationWarning: n_topics has been renamed to n_components in version 0.19 and will be removed in 0.21\n",
      "  DeprecationWarning)\n"
     ]
    },
    {
     "name": "stdout",
     "output_type": "stream",
     "text": [
      "Building LDA model with 20 topics\n"
     ]
    },
    {
     "name": "stderr",
     "output_type": "stream",
     "text": [
      "/home/bangui/anaconda3/lib/python3.7/site-packages/sklearn/decomposition/online_lda.py:314: DeprecationWarning: n_topics has been renamed to n_components in version 0.19 and will be removed in 0.21\n",
      "  DeprecationWarning)\n"
     ]
    },
    {
     "name": "stdout",
     "output_type": "stream",
     "text": [
      "Building LDA model with 30 topics\n"
     ]
    },
    {
     "name": "stderr",
     "output_type": "stream",
     "text": [
      "/home/bangui/anaconda3/lib/python3.7/site-packages/sklearn/decomposition/online_lda.py:314: DeprecationWarning: n_topics has been renamed to n_components in version 0.19 and will be removed in 0.21\n",
      "  DeprecationWarning)\n"
     ]
    },
    {
     "name": "stdout",
     "output_type": "stream",
     "text": [
      "Building LDA model with 40 topics\n"
     ]
    },
    {
     "name": "stderr",
     "output_type": "stream",
     "text": [
      "/home/bangui/anaconda3/lib/python3.7/site-packages/sklearn/decomposition/online_lda.py:314: DeprecationWarning: n_topics has been renamed to n_components in version 0.19 and will be removed in 0.21\n",
      "  DeprecationWarning)\n"
     ]
    },
    {
     "name": "stdout",
     "output_type": "stream",
     "text": [
      "Building LDA model with 50 topics\n"
     ]
    },
    {
     "name": "stderr",
     "output_type": "stream",
     "text": [
      "/home/bangui/anaconda3/lib/python3.7/site-packages/sklearn/decomposition/online_lda.py:314: DeprecationWarning: n_topics has been renamed to n_components in version 0.19 and will be removed in 0.21\n",
      "  DeprecationWarning)\n"
     ]
    },
    {
     "name": "stdout",
     "output_type": "stream",
     "text": [
      "Building LDA model with 60 topics\n"
     ]
    },
    {
     "name": "stderr",
     "output_type": "stream",
     "text": [
      "/home/bangui/anaconda3/lib/python3.7/site-packages/sklearn/decomposition/online_lda.py:314: DeprecationWarning: n_topics has been renamed to n_components in version 0.19 and will be removed in 0.21\n",
      "  DeprecationWarning)\n"
     ]
    },
    {
     "name": "stdout",
     "output_type": "stream",
     "text": [
      "Building LDA model with 70 topics\n"
     ]
    },
    {
     "name": "stderr",
     "output_type": "stream",
     "text": [
      "/home/bangui/anaconda3/lib/python3.7/site-packages/sklearn/decomposition/online_lda.py:314: DeprecationWarning: n_topics has been renamed to n_components in version 0.19 and will be removed in 0.21\n",
      "  DeprecationWarning)\n"
     ]
    },
    {
     "name": "stdout",
     "output_type": "stream",
     "text": [
      "Building LDA model with 80 topics\n"
     ]
    },
    {
     "name": "stderr",
     "output_type": "stream",
     "text": [
      "/home/bangui/anaconda3/lib/python3.7/site-packages/sklearn/decomposition/online_lda.py:314: DeprecationWarning: n_topics has been renamed to n_components in version 0.19 and will be removed in 0.21\n",
      "  DeprecationWarning)\n"
     ]
    },
    {
     "name": "stdout",
     "output_type": "stream",
     "text": [
      "Building LDA model with 90 topics\n"
     ]
    },
    {
     "name": "stderr",
     "output_type": "stream",
     "text": [
      "/home/bangui/anaconda3/lib/python3.7/site-packages/sklearn/decomposition/online_lda.py:314: DeprecationWarning: n_topics has been renamed to n_components in version 0.19 and will be removed in 0.21\n",
      "  DeprecationWarning)\n"
     ]
    },
    {
     "name": "stdout",
     "output_type": "stream",
     "text": [
      "Building LDA model with 100 topics\n"
     ]
    },
    {
     "name": "stderr",
     "output_type": "stream",
     "text": [
      "/home/bangui/anaconda3/lib/python3.7/site-packages/sklearn/decomposition/online_lda.py:314: DeprecationWarning: n_topics has been renamed to n_components in version 0.19 and will be removed in 0.21\n",
      "  DeprecationWarning)\n"
     ]
    },
    {
     "name": "stdout",
     "output_type": "stream",
     "text": [
      "Building LDA model with 200 topics\n"
     ]
    },
    {
     "name": "stderr",
     "output_type": "stream",
     "text": [
      "/home/bangui/anaconda3/lib/python3.7/site-packages/sklearn/decomposition/online_lda.py:314: DeprecationWarning: n_topics has been renamed to n_components in version 0.19 and will be removed in 0.21\n",
      "  DeprecationWarning)\n"
     ]
    },
    {
     "name": "stdout",
     "output_type": "stream",
     "text": [
      "Building LDA model with 300 topics\n"
     ]
    },
    {
     "name": "stderr",
     "output_type": "stream",
     "text": [
      "/home/bangui/anaconda3/lib/python3.7/site-packages/sklearn/decomposition/online_lda.py:314: DeprecationWarning: n_topics has been renamed to n_components in version 0.19 and will be removed in 0.21\n",
      "  DeprecationWarning)\n"
     ]
    },
    {
     "name": "stdout",
     "output_type": "stream",
     "text": [
      "Building LDA model with 400 topics\n"
     ]
    },
    {
     "name": "stderr",
     "output_type": "stream",
     "text": [
      "/home/bangui/anaconda3/lib/python3.7/site-packages/sklearn/decomposition/online_lda.py:314: DeprecationWarning: n_topics has been renamed to n_components in version 0.19 and will be removed in 0.21\n",
      "  DeprecationWarning)\n"
     ]
    },
    {
     "name": "stdout",
     "output_type": "stream",
     "text": [
      "Building LDA model with 500 topics\n"
     ]
    },
    {
     "name": "stderr",
     "output_type": "stream",
     "text": [
      "/home/bangui/anaconda3/lib/python3.7/site-packages/sklearn/decomposition/online_lda.py:314: DeprecationWarning: n_topics has been renamed to n_components in version 0.19 and will be removed in 0.21\n",
      "  DeprecationWarning)\n"
     ]
    }
   ],
   "source": [
    "import p5_util\n",
    "import p6_util\n",
    "\n",
    "p6_util.p6_lda_build_range(range_1_topic,embedding_type, csr_matrix)\n",
    "\n",
    "p6_util.p6_lda_build_range(range_2_topic,embedding_type, csr_matrix)\n"
   ]
  },
  {
   "cell_type": "markdown",
   "metadata": {},
   "source": [
    "### <font color='blue'>3.3.2. LDA performances evaluation with TFIDF</font>"
   ]
  },
  {
   "cell_type": "code",
   "execution_count": 3,
   "metadata": {},
   "outputs": [
    {
     "name": "stdout",
     "output_type": "stream",
     "text": [
      "(50000, 2)\n"
     ]
    }
   ],
   "source": [
    "import pandas as pd\n",
    "\n",
    "file_name=\"./data/test_StackOverFlow_BodyTitleTags.csv\"\n",
    "df_sof_test=pd.read_csv(file_name)\n",
    "\n",
    "file_name=\"./data/StackOverFlowTags.csv\"\n",
    "df_sof_tags=pd.read_csv(file_name)\n",
    "\n",
    "list_sof_tags = df_sof_tags.TagName.tolist()\n",
    "\n",
    "print(df_sof_tags.shape)"
   ]
  },
  {
   "cell_type": "markdown",
   "metadata": {},
   "source": [
    "**<font color='blue'>Accuracy score computing for topics ranged from 10 to 100 then 200 to 500</font>**\n",
    "* For each one of the LDA models ranging from 10 to 100, 1000 random POSTs will be selected from TEST dataset.\n",
    "\n",
    "* A matching is performed between TAGs issued from POSTs and those issued from LDA model.\n",
    "\n",
    "* Accuracy is computed from `number of matching TAGs / number of POSTs TAGs`.\n",
    "\n",
    "* For each model ranging from 10 to 100 topics, results are stored into dictionary and saved into dumped files.\n"
   ]
  },
  {
   "cell_type": "code",
   "execution_count": 8,
   "metadata": {},
   "outputs": [
    {
     "name": "stdout",
     "output_type": "stream",
     "text": [
      "\n",
      "*** INFO : dictionaries results are still dumped on mass storage !\n"
     ]
    }
   ],
   "source": [
    "import p6_util\n",
    "nb_test = 1000\n",
    "\n",
    "# These fonctions compute dictionaries containing LDA performances.\n",
    "# Those dictionaries are dumped in files onto mass storage.\n",
    "# If is_reloaded is True, then those functions are skiped.\n",
    "if is_reloaded is False :\n",
    "    p6_util.p6_lda_range_mean_score(nb_test, range_1_topic, embedding_type, df_sof_test\\\n",
    "                            ,list_sof_tags, vectorizer) \n",
    "\n",
    "    p6_util.p6_lda_range_mean_score(nb_test, range_2_topic, embedding_type, df_sof_test\\\n",
    "                            ,list_sof_tags, vectorizer) \n",
    "else :\n",
    "    print(\"\\n*** INFO : dictionaries results are still dumped on mass storage !\")"
   ]
  },
  {
   "cell_type": "markdown",
   "metadata": {},
   "source": [
    "**<font color='blue'>Aggregation of ranged scores</font>**"
   ]
  },
  {
   "cell_type": "code",
   "execution_count": 9,
   "metadata": {},
   "outputs": [
    {
     "name": "stdout",
     "output_type": "stream",
     "text": [
      "p5_util.object_load : fileName= ./data/dict_score_lda_tfidf_10.dump\n",
      "p5_util.object_load : fileName= ./data/dict_score_lda_tfidf_20.dump\n",
      "p5_util.object_load : fileName= ./data/dict_score_lda_tfidf_30.dump\n",
      "p5_util.object_load : fileName= ./data/dict_score_lda_tfidf_40.dump\n",
      "p5_util.object_load : fileName= ./data/dict_score_lda_tfidf_50.dump\n",
      "p5_util.object_load : fileName= ./data/dict_score_lda_tfidf_60.dump\n",
      "p5_util.object_load : fileName= ./data/dict_score_lda_tfidf_70.dump\n",
      "p5_util.object_load : fileName= ./data/dict_score_lda_tfidf_80.dump\n",
      "p5_util.object_load : fileName= ./data/dict_score_lda_tfidf_90.dump\n",
      "p5_util.object_load : fileName= ./data/dict_score_lda_tfidf_100.dump\n",
      "p5_util.object_load : fileName= ./data/dict_score_lda_tfidf_200.dump\n",
      "p5_util.object_load : fileName= ./data/dict_score_lda_tfidf_300.dump\n",
      "p5_util.object_load : fileName= ./data/dict_score_lda_tfidf_400.dump\n",
      "p5_util.object_load : fileName= ./data/dict_score_lda_tfidf_500.dump\n"
     ]
    }
   ],
   "source": [
    "import p6_util\n",
    "dict_lda_tfidf_mean_accuracy = p6_util.p6_lda_build_accuracy_result(embedding_type, range_1_topic)\n",
    "\n",
    "for key, value in p6_util.p6_lda_build_accuracy_result(embedding_type, range_2_topic).items():\n",
    "    dict_lda_tfidf_mean_accuracy[key] = value"
   ]
  },
  {
   "cell_type": "markdown",
   "metadata": {},
   "source": [
    "**<font color='blue'>Displaying scores</font>**"
   ]
  },
  {
   "cell_type": "code",
   "execution_count": 8,
   "metadata": {},
   "outputs": [
    {
     "data": {
      "image/png": "[encoded data removed]",
      "text/plain": [
       "<Figure size 1440x720 with 1 Axes>"
      ]
     },
     "metadata": {},
     "output_type": "display_data"
    }
   ],
   "source": [
    "import p6_util_plot\n",
    "import numpy as np\n",
    "\n",
    "item_count = None#len(dict_lda_mean_accuracy)\n",
    "\n",
    "    \n",
    "X = np.array([key for key in dict_lda_tfidf_mean_accuracy.keys()])\n",
    "y = np.array([value for value in dict_lda_tfidf_mean_accuracy.values()])\n",
    "#X=np.log(X)\n",
    "\n",
    "\n",
    "title = \"LDA models with TDIDF : Accuracy = F(Topics)\"\n",
    "p_x_title = \"Number of topics in LDA model\"\n",
    "p_y_title = \"Accuracy\"\n",
    "item_count=None\n",
    "p6_util_plot.X_y_plot(X,y,item_count,title, p_x_title, p_y_title)"
   ]
  },
  {
   "cell_type": "markdown",
   "metadata": {},
   "source": [
    "## <font color='blus'>3.4. LDA with BOW </font>"
   ]
  },
  {
   "cell_type": "code",
   "execution_count": 11,
   "metadata": {},
   "outputs": [
    {
     "name": "stdout",
     "output_type": "stream",
     "text": [
      "p5_util.object_load : fileName= ./data/csr_matrix_bow.dump\n",
      "(24604, 2463)\n"
     ]
    }
   ],
   "source": [
    "import p5_util\n",
    "file_name=\"./data/csr_matrix_bow.dump\"\n",
    "csr_matrix = p5_util.object_load(file_name)\n",
    "embedding_type = \"bow\"\n",
    "\n",
    "print(csr_matrix.shape)"
   ]
  },
  {
   "cell_type": "code",
   "execution_count": 12,
   "metadata": {},
   "outputs": [
    {
     "name": "stdout",
     "output_type": "stream",
     "text": [
      "p5_util.object_load : fileName= ./data/vectorizer_bow.dump\n"
     ]
    }
   ],
   "source": [
    "import p5_util\n",
    "file_name=\"./data/vectorizer_bow.dump\"\n",
    "vectorizer = p5_util.object_load(file_name)"
   ]
  },
  {
   "cell_type": "code",
   "execution_count": 13,
   "metadata": {},
   "outputs": [],
   "source": [
    "bow_feature_names = vectorizer.get_feature_names()"
   ]
  },
  {
   "cell_type": "markdown",
   "metadata": {},
   "source": [
    "### <font color='blue'>3.4.1. Initializing a set of LDAs models depending of topics numbers</font>"
   ]
  },
  {
   "cell_type": "code",
   "execution_count": null,
   "metadata": {},
   "outputs": [],
   "source": [
    "import p5_util\n",
    "import p6_util\n",
    "\n",
    "file_name=\"./data/csr_matrix_bow.dump\"\n",
    "csr_matrix = p5_util.object_load(file_name)\n",
    "\n",
    "print(csr_matrix.shape)\n",
    "\n",
    "p6_util.p6_lda_build_range(range_1_topic,embedding_type, csr_matrix)\n",
    "p6_util.p6_lda_build_range(range_2_topic,embedding_type, csr_matrix)\n"
   ]
  },
  {
   "cell_type": "markdown",
   "metadata": {},
   "source": [
    "### <font color='blue'>3.4.2. LDA performances evaluation with BOW</font>"
   ]
  },
  {
   "cell_type": "code",
   "execution_count": 16,
   "metadata": {},
   "outputs": [],
   "source": [
    "import pandas as pd\n",
    "file_name=\"./data/test_StackOverFlow_BodyTitleTags.csv\"\n",
    "df_sof_test=pd.read_csv(file_name)"
   ]
  },
  {
   "cell_type": "code",
   "execution_count": 17,
   "metadata": {},
   "outputs": [
    {
     "data": {
      "text/plain": [
       "(50000, 2)"
      ]
     },
     "execution_count": 17,
     "metadata": {},
     "output_type": "execute_result"
    }
   ],
   "source": [
    "import pandas as pd\n",
    "file_name=\"./data/StackOverFlowTags.csv\"\n",
    "df_sof_tags=pd.read_csv(file_name)\n",
    "list_sof_tags = df_sof_tags.TagName.tolist()\n",
    "\n",
    "df_sof_tags.shape"
   ]
  },
  {
   "cell_type": "markdown",
   "metadata": {},
   "source": [
    "**<font color='blue'>Score computing for topics ranged from 10 to 100</font>**"
   ]
  },
  {
   "cell_type": "markdown",
   "metadata": {},
   "source": [
    "**<font color='blue'>Score computing for topics ranged from 100 to 600</font>**"
   ]
  },
  {
   "cell_type": "code",
   "execution_count": 24,
   "metadata": {},
   "outputs": [
    {
     "name": "stdout",
     "output_type": "stream",
     "text": [
      "p5_util.object_load : fileName= ./data/lda_bow_10topics.dump\n",
      "p5_util.object_load : fileName= ./data/lda_bow_20topics.dump\n",
      "p5_util.object_load : fileName= ./data/lda_bow_30topics.dump\n",
      "p5_util.object_load : fileName= ./data/lda_bow_40topics.dump\n",
      "p5_util.object_load : fileName= ./data/lda_bow_50topics.dump\n",
      "p5_util.object_load : fileName= ./data/lda_bow_60topics.dump\n",
      "p5_util.object_load : fileName= ./data/lda_bow_70topics.dump\n",
      "p5_util.object_load : fileName= ./data/lda_bow_80topics.dump\n",
      "p5_util.object_load : fileName= ./data/lda_bow_90topics.dump\n",
      "p5_util.object_load : fileName= ./data/lda_bow_100topics.dump\n"
     ]
    }
   ],
   "source": [
    "import p6_util\n",
    "\n",
    "\n",
    "dict_dict_score_lda=dict()\n",
    "nb_test = 1000\n",
    "embedding_type='bow'\n",
    "list_sof_tags = df_sof_tags.TagName.tolist()\n",
    "\n",
    "p6_util.p6_lda_range_mean_score(nb_test, range_1_topic, embedding_type, df_sof_test\\\n",
    "                        ,list_sof_tags, vectorizer) \n",
    "\n",
    "p6_util.p6_lda_range_mean_score(nb_test, range_2_topic, embedding_type, df_sof_test\\\n",
    "                        ,list_sof_tags, vectorizer) "
   ]
  },
  {
   "cell_type": "markdown",
   "metadata": {},
   "source": [
    "**<font color='blue'>Aggregation of ranged scores</font>**"
   ]
  },
  {
   "cell_type": "code",
   "execution_count": 25,
   "metadata": {},
   "outputs": [
    {
     "name": "stdout",
     "output_type": "stream",
     "text": [
      "p5_util.object_load : fileName= ./data/dict_score_lda_bow_10.dump\n",
      "p5_util.object_load : fileName= ./data/dict_score_lda_bow_20.dump\n",
      "p5_util.object_load : fileName= ./data/dict_score_lda_bow_30.dump\n",
      "p5_util.object_load : fileName= ./data/dict_score_lda_bow_40.dump\n",
      "p5_util.object_load : fileName= ./data/dict_score_lda_bow_50.dump\n",
      "p5_util.object_load : fileName= ./data/dict_score_lda_bow_60.dump\n",
      "p5_util.object_load : fileName= ./data/dict_score_lda_bow_70.dump\n",
      "p5_util.object_load : fileName= ./data/dict_score_lda_bow_80.dump\n",
      "p5_util.object_load : fileName= ./data/dict_score_lda_bow_90.dump\n",
      "p5_util.object_load : fileName= ./data/dict_score_lda_bow_100.dump\n",
      "p5_util.object_load : fileName= ./data/dict_score_lda_bow_200.dump\n",
      "p5_util.object_load : fileName= ./data/dict_score_lda_bow_300.dump\n",
      "p5_util.object_load : fileName= ./data/dict_score_lda_bow_400.dump\n",
      "p5_util.object_load : fileName= ./data/dict_score_lda_bow_500.dump\n"
     ]
    }
   ],
   "source": [
    "import p6_util\n",
    "dict_lda_tfidf_mean_accuracy = p6_util.p6_lda_build_accuracy_result(embedding_type, range_1_topic)\n",
    "\n",
    "for key, value in p6_util.p6_lda_build_accuracy_result(embedding_type, range_2_topic).items():\n",
    "    dict_lda_tfidf_mean_accuracy[key] = value"
   ]
  },
  {
   "cell_type": "markdown",
   "metadata": {},
   "source": [
    "**<font color='blue'>Displaying scores</font>**"
   ]
  },
  {
   "cell_type": "code",
   "execution_count": 26,
   "metadata": {},
   "outputs": [
    {
     "data": {
      "image/png": "[encoded data removed]",
      "text/plain": [
       "<Figure size 1440x720 with 1 Axes>"
      ]
     },
     "metadata": {},
     "output_type": "display_data"
    }
   ],
   "source": [
    "import p6_util_plot\n",
    "import numpy as np\n",
    "\n",
    "item_count = None#len(dict_lda_mean_accuracy)\n",
    "\n",
    "    \n",
    "X = np.array([key for key in dict_lda_tfidf_mean_accuracy.keys()])\n",
    "y = np.array([value for value in dict_lda_tfidf_mean_accuracy.values()])\n",
    "#X=np.log(X)\n",
    "\n",
    "\n",
    "title = \"LDA models with BOW : Accuracy = F(Topics)\"\n",
    "p_x_title = \"Number of topics in LDA model\"\n",
    "p_y_title = \"Accuracy\"\n",
    "item_count=None\n",
    "p6_util_plot.X_y_plot(X,y,item_count,title, p_x_title, p_y_title)"
   ]
  },
  {
   "cell_type": "markdown",
   "metadata": {},
   "source": [
    "**Loading LDA model for 400 topics**"
   ]
  },
  {
   "cell_type": "code",
   "execution_count": 1,
   "metadata": {},
   "outputs": [
    {
     "name": "stdout",
     "output_type": "stream",
     "text": [
      "400\n"
     ]
    }
   ],
   "source": [
    "range_topic=range(400,500,100)\n",
    "for topic in range_topic:\n",
    "    print(topic)"
   ]
  },
  {
   "cell_type": "code",
   "execution_count": 10,
   "metadata": {},
   "outputs": [
    {
     "name": "stdout",
     "output_type": "stream",
     "text": [
      "p5_util.object_load : fileName= ./data/lda_bow_400topics.dump\n"
     ]
    }
   ],
   "source": [
    "import p5_util\n",
    "import p6_util\n",
    "\n",
    "file_name=\"./data/lda_bow_400topics.dump\"\n",
    "lda_bow_400topics = p5_util.object_load(file_name)\n"
   ]
  },
  {
   "cell_type": "code",
   "execution_count": 11,
   "metadata": {},
   "outputs": [
    {
     "data": {
      "text/plain": [
       "LatentDirichletAllocation(batch_size=128, doc_topic_prior=None,\n",
       "             evaluate_every=-1, learning_decay=0.7,\n",
       "             learning_method='online', learning_offset=50.0,\n",
       "             max_doc_update_iter=100, max_iter=5, mean_change_tol=0.001,\n",
       "             n_components=10, n_jobs=None, n_topics=400, perp_tol=0.1,\n",
       "             random_state=0, topic_word_prior=None,\n",
       "             total_samples=1000000.0, verbose=0)"
      ]
     },
     "execution_count": 11,
     "metadata": {},
     "output_type": "execute_result"
    }
   ],
   "source": [
    "lda_bow_400topics"
   ]
  },
  {
   "cell_type": "code",
   "execution_count": 15,
   "metadata": {},
   "outputs": [
    {
     "name": "stdout",
     "output_type": "stream",
     "text": [
      "0 [2.50013625 2.50012109 2.50014103 ... 2.50017918 2.50021424 2.50012851]\n"
     ]
    },
    {
     "data": {
      "text/plain": [
       "array([0.00250014, 0.00250012, 0.00250014, ..., 0.00250018, 0.00250021,\n",
       "       0.00250013])"
      ]
     },
     "execution_count": 15,
     "metadata": {},
     "output_type": "execute_result"
    }
   ],
   "source": [
    "\n",
    "for topic_idx, topic in enumerate(lda_bow_400topics.components_):\n",
    "    print(topic_idx, topic*1000)\n",
    "    arr_distrib_topic_words = topic\n",
    "    break\n",
    "    \n",
    "#lda_bow_400topics.keys()\n",
    "type(arr_distrib_topic_words)\n",
    "lda_bow_400topics.components_[0]"
   ]
  },
  {
   "cell_type": "code",
   "execution_count": 16,
   "metadata": {},
   "outputs": [
    {
     "data": {
      "text/plain": [
       "(array([  3.,   0.,   2.,   4.,   8.,  11.,  19.,  15.,  20.,  37.,  43.,\n",
       "         46.,  70.,  57.,  85.,  92.,  96., 116.,  97., 129., 117., 126.,\n",
       "        128., 145., 112., 109., 100., 103., 105.,  79.,  71.,  70.,  50.,\n",
       "         56.,  33.,  26.,  22.,  13.,  12.,   9.,   5.,   3.,   6.,   5.,\n",
       "          3.,   0.,   1.,   2.,   1.,   1.]),\n",
       " array([0.00250008, 0.00250008, 0.00250008, 0.00250009, 0.00250009,\n",
       "        0.00250009, 0.00250009, 0.00250009, 0.00250009, 0.00250009,\n",
       "        0.0025001 , 0.0025001 , 0.0025001 , 0.0025001 , 0.0025001 ,\n",
       "        0.0025001 , 0.00250011, 0.00250011, 0.00250011, 0.00250011,\n",
       "        0.00250011, 0.00250011, 0.00250011, 0.00250012, 0.00250012,\n",
       "        0.00250012, 0.00250012, 0.00250012, 0.00250012, 0.00250013,\n",
       "        0.00250013, 0.00250013, 0.00250013, 0.00250013, 0.00250013,\n",
       "        0.00250013, 0.00250014, 0.00250014, 0.00250014, 0.00250014,\n",
       "        0.00250014, 0.00250014, 0.00250015, 0.00250015, 0.00250015,\n",
       "        0.00250015, 0.00250015, 0.00250015, 0.00250015, 0.00250016,\n",
       "        0.00250016]),\n",
       " <a list of 50 Patch objects>)"
      ]
     },
     "execution_count": 16,
     "metadata": {},
     "output_type": "execute_result"
    },
    {
     "data": {
      "image/png": "[encoded data removed]",
      "text/plain": [
       "<Figure size 432x288 with 1 Axes>"
      ]
     },
     "metadata": {
      "needs_background": "light"
     },
     "output_type": "display_data"
    }
   ],
   "source": [
    "# Distribution of probabilité of P(Tk|Wi) where :\n",
    "# Tk is the keme topic\n",
    "# Wi is the ith. word from dictionary\n",
    "\n",
    "import numpy as np\n",
    "import matplotlib.pyplot as plt\n",
    "p_bins=50\n",
    "plt.hist(lda_bow_400topics.components_[100], bins=p_bins)\n",
    "plt.hist(lda_bow_400topics.components_[200], bins=p_bins)\n",
    "plt.hist(lda_bow_400topics.components_[399], bins=p_bins)\n"
   ]
  },
  {
   "cell_type": "markdown",
   "metadata": {},
   "source": [
    "## 3.3. DBSCAN clustering"
   ]
  },
  {
   "cell_type": "code",
   "execution_count": null,
   "metadata": {},
   "outputs": [],
   "source": [
    "import p5_util\n",
    "file_name=\"./data/csr_matrix_bow.dump\"\n",
    "csr_matrix_bow = p5_util.object_load(file_name)\n",
    "print(csr_matrix_bow.shape)\n",
    "\n",
    "file_name=\"./data/vectorizer_bow.dump\"\n",
    "vectorizer_bow = p5_util.object_load(file_name)"
   ]
  },
  {
   "cell_type": "code",
   "execution_count": null,
   "metadata": {},
   "outputs": [],
   "source": [
    "from sklearn.cluster import DBSCAN\n",
    "import numpy as np\n",
    "\n",
    "p_eps=5\n",
    "# ALL CPU are activated\n",
    "dbscan = DBSCAN(eps=p_eps,min_samples=100, n_jobs=-1)\n",
    "\n",
    "\n",
    "pred_dbscan =  dbscan.fit_predict(csr_matrix_bow.toarray())\n",
    "\n",
    "np.unique(pred_dbscan)"
   ]
  },
  {
   "cell_type": "code",
   "execution_count": null,
   "metadata": {},
   "outputs": [],
   "source": [
    "print(\"Noise : \"+str(len(np.where(pred_dbscan==-1)[0])))\n",
    "print(\"Classified : \"+str(len(np.where(pred_dbscan!=-1)[0])))"
   ]
  },
  {
   "cell_type": "markdown",
   "metadata": {},
   "source": [
    "CSR matrix is converted into dataframe in order to feed cluster algorithm"
   ]
  },
  {
   "cell_type": "code",
   "execution_count": 32,
   "metadata": {},
   "outputs": [
    {
     "name": "stdout",
     "output_type": "stream",
     "text": [
      "(24604, 4207)\n"
     ]
    }
   ],
   "source": [
    "import pandas as pd\n",
    "df_sof = pd.DataFrame(csr_matrix.toarray())\n",
    "print(df_sof.shape)"
   ]
  },
  {
   "cell_type": "code",
   "execution_count": 36,
   "metadata": {},
   "outputs": [
    {
     "name": "stdout",
     "output_type": "stream",
     "text": [
      "Clustering : 1 clusters\n",
      "Clustering : 2 clusters\n",
      "Clustering : 3 clusters\n",
      "Clustering : 4 clusters\n",
      "Clustering : 5 clusters\n",
      "Clustering : 6 clusters\n",
      "Clustering : 7 clusters\n",
      "Clustering : 8 clusters\n",
      "Clustering : 9 clusters\n",
      "Clustering : 10 clusters\n",
      "Clustering : 11 clusters\n",
      "Clustering : 12 clusters\n",
      "Clustering : 13 clusters\n",
      "Clustering : 14 clusters\n",
      "Clustering : 15 clusters\n",
      "Clustering : 16 clusters\n",
      "Clustering : 17 clusters\n",
      "Clustering : 18 clusters\n",
      "Clustering : 19 clusters\n",
      "Clustering : 20 clusters\n",
      "Clustering : 21 clusters\n",
      "Clustering : 22 clusters\n",
      "Clustering : 23 clusters\n",
      "Clustering : 24 clusters\n",
      "Clustering : 25 clusters\n",
      "Clustering : 26 clusters\n",
      "Clustering : 27 clusters\n",
      "Clustering : 28 clusters\n",
      "Clustering : 29 clusters\n",
      "Clustering : 30 clusters\n",
      "Clustering : 31 clusters\n",
      "Clustering : 32 clusters\n",
      "Clustering : 33 clusters\n",
      "Clustering : 34 clusters\n",
      "Clustering : 35 clusters\n",
      "Clustering : 36 clusters\n",
      "Clustering : 37 clusters\n",
      "Clustering : 38 clusters\n",
      "Clustering : 39 clusters\n",
      "Clustering : 40 clusters\n",
      "Clustering : 41 clusters\n",
      "Clustering : 42 clusters\n",
      "Clustering : 43 clusters\n",
      "Clustering : 44 clusters\n",
      "Clustering : 45 clusters\n",
      "Clustering : 46 clusters\n",
      "Clustering : 47 clusters\n",
      "Clustering : 48 clusters\n",
      "Clustering : 49 clusters\n",
      "Clustering : 50 clusters\n",
      "Clustering : 51 clusters\n",
      "Clustering : 52 clusters\n",
      "Clustering : 53 clusters\n",
      "Clustering : 54 clusters\n",
      "Clustering : 55 clusters\n",
      "Clustering : 56 clusters\n",
      "Clustering : 57 clusters\n",
      "Clustering : 58 clusters\n",
      "Clustering : 59 clusters\n",
      "Clustering : 60 clusters\n",
      "Clustering : 61 clusters\n",
      "Clustering : 62 clusters\n",
      "Clustering : 63 clusters\n",
      "Clustering : 64 clusters\n",
      "Clustering : 65 clusters\n",
      "Clustering : 66 clusters\n",
      "Clustering : 67 clusters\n",
      "Clustering : 68 clusters\n",
      "Clustering : 69 clusters\n",
      "Clustering : 70 clusters\n",
      "Clustering : 71 clusters\n",
      "Clustering : 72 clusters\n",
      "Clustering : 73 clusters\n",
      "Clustering : 74 clusters\n",
      "Clustering : 75 clusters\n",
      "Clustering : 76 clusters\n",
      "Clustering : 77 clusters\n",
      "Clustering : 78 clusters\n",
      "Clustering : 79 clusters\n",
      "Clustering : 80 clusters\n",
      "Clustering : 81 clusters\n",
      "Clustering : 82 clusters\n",
      "Clustering : 83 clusters\n",
      "Clustering : 84 clusters\n",
      "Clustering : 85 clusters\n",
      "Clustering : 86 clusters\n",
      "Clustering : 87 clusters\n",
      "Clustering : 88 clusters\n",
      "Clustering : 89 clusters\n",
      "Clustering : 90 clusters\n",
      "Clustering : 91 clusters\n",
      "Clustering : 92 clusters\n",
      "Clustering : 93 clusters\n",
      "Clustering : 94 clusters\n",
      "Clustering : 95 clusters\n",
      "Clustering : 96 clusters\n",
      "Clustering : 97 clusters\n",
      "Clustering : 98 clusters\n",
      "Clustering : 99 clusters\n",
      "Clustering : 100 clusters\n",
      "Clustering : 101 clusters\n",
      "Clustering : 102 clusters\n",
      "Clustering : 103 clusters\n",
      "Clustering : 104 clusters\n",
      "Clustering : 105 clusters\n",
      "Clustering : 106 clusters\n",
      "Clustering : 107 clusters\n",
      "Clustering : 108 clusters\n",
      "Clustering : 109 clusters\n",
      "Clustering : 110 clusters\n",
      "Clustering : 111 clusters\n",
      "Clustering : 112 clusters\n",
      "Clustering : 113 clusters\n",
      "Clustering : 114 clusters\n",
      "Clustering : 115 clusters\n",
      "Clustering : 116 clusters\n",
      "Clustering : 117 clusters\n",
      "Clustering : 118 clusters\n",
      "Clustering : 119 clusters\n",
      "Clustering : 120 clusters\n",
      "Clustering : 121 clusters\n",
      "Clustering : 122 clusters\n",
      "Clustering : 123 clusters\n",
      "Clustering : 124 clusters\n",
      "Clustering : 125 clusters\n",
      "Clustering : 126 clusters\n",
      "Clustering : 127 clusters\n",
      "Clustering : 128 clusters\n",
      "Clustering : 129 clusters\n",
      "Clustering : 130 clusters\n",
      "Clustering : 131 clusters\n",
      "Clustering : 132 clusters\n",
      "Clustering : 133 clusters\n",
      "Clustering : 134 clusters\n",
      "Clustering : 135 clusters\n",
      "Clustering : 136 clusters\n",
      "Clustering : 137 clusters\n",
      "Clustering : 138 clusters\n",
      "Clustering : 139 clusters\n",
      "Clustering : 140 clusters\n",
      "Clustering : 141 clusters\n",
      "Clustering : 142 clusters\n",
      "Clustering : 143 clusters\n",
      "Clustering : 144 clusters\n",
      "Clustering : 145 clusters\n",
      "Clustering : 146 clusters\n",
      "Clustering : 147 clusters\n",
      "Clustering : 148 clusters\n",
      "Clustering : 149 clusters\n",
      "Clustering : 150 clusters\n",
      "Clustering : 151 clusters\n",
      "Clustering : 152 clusters\n",
      "Clustering : 153 clusters\n",
      "Clustering : 154 clusters\n",
      "Clustering : 155 clusters\n",
      "Clustering : 156 clusters\n",
      "Clustering : 157 clusters\n",
      "Clustering : 158 clusters\n",
      "Clustering : 159 clusters\n",
      "Clustering : 160 clusters\n",
      "Clustering : 161 clusters\n",
      "Clustering : 162 clusters\n",
      "Clustering : 163 clusters\n",
      "Clustering : 164 clusters\n",
      "Clustering : 165 clusters\n",
      "Clustering : 166 clusters\n",
      "Clustering : 167 clusters\n",
      "Clustering : 168 clusters\n",
      "Clustering : 169 clusters\n",
      "Clustering : 170 clusters\n",
      "Clustering : 171 clusters\n",
      "Clustering : 172 clusters\n",
      "Clustering : 173 clusters\n",
      "Clustering : 174 clusters\n",
      "Clustering : 175 clusters\n",
      "Clustering : 176 clusters\n",
      "Clustering : 177 clusters\n",
      "Clustering : 178 clusters\n",
      "Clustering : 179 clusters\n",
      "Clustering : 180 clusters\n",
      "Clustering : 181 clusters\n",
      "Clustering : 182 clusters\n",
      "Clustering : 183 clusters\n",
      "Clustering : 184 clusters\n",
      "Clustering : 185 clusters\n",
      "Clustering : 186 clusters\n",
      "Clustering : 187 clusters\n",
      "Clustering : 188 clusters\n",
      "Clustering : 189 clusters\n",
      "Clustering : 190 clusters\n",
      "Clustering : 191 clusters\n",
      "Clustering : 192 clusters\n",
      "Clustering : 193 clusters\n",
      "Clustering : 194 clusters\n",
      "Clustering : 195 clusters\n",
      "Clustering : 196 clusters\n",
      "Clustering : 197 clusters\n",
      "Clustering : 198 clusters\n",
      "Clustering : 199 clusters\n",
      "Clustering : 200 clusters\n"
     ]
    }
   ],
   "source": [
    "import p5_util\n",
    "cluster_start = 1\n",
    "cluster_end = 201\n",
    "dict_kmeans = p5_util.kmeans_scan_inter_inertia(df_sof, cluster_start, cluster_end)"
   ]
  },
  {
   "cell_type": "code",
   "execution_count": 37,
   "metadata": {},
   "outputs": [
    {
     "data": {
      "text/plain": [
       "200"
      ]
     },
     "execution_count": 37,
     "metadata": {},
     "output_type": "execute_result"
    }
   ],
   "source": [
    "len(dict_kmeans)"
   ]
  },
  {
   "cell_type": "markdown",
   "metadata": {},
   "source": [
    "**Save Kmeans clustering scan**"
   ]
  },
  {
   "cell_type": "code",
   "execution_count": 39,
   "metadata": {},
   "outputs": [],
   "source": [
    "import p5_util\n",
    "\n",
    "fileName = './data/dict_tfidf_clustering_kmeans_'+str(len(dict_kmeans))+'.dump'\n",
    "p5_util.object_dump(dict_kmeans, fileName)"
   ]
  },
  {
   "cell_type": "code",
   "execution_count": 40,
   "metadata": {},
   "outputs": [
    {
     "data": {
      "text/plain": [
       "'./data/dict_tfidf_clustering_kmeans_200.dump'"
      ]
     },
     "execution_count": 40,
     "metadata": {},
     "output_type": "execute_result"
    }
   ],
   "source": [
    "fileName"
   ]
  },
  {
   "cell_type": "code",
   "execution_count": 41,
   "metadata": {},
   "outputs": [
    {
     "name": "stdout",
     "output_type": "stream",
     "text": [
      "1 200\n"
     ]
    },
    {
     "data": {
      "image/png": "[encoded data removed]",
      "text/plain": [
       "<Figure size 1440x720 with 2 Axes>"
      ]
     },
     "metadata": {},
     "output_type": "display_data"
    }
   ],
   "source": [
    "import p5_util_plot\n",
    "import p5_util\n",
    "is_reloaded = False\n",
    "if is_reloaded is True:\n",
    "    fileName = './data/dict_tfidf_clustering_kmeans.dump'\n",
    "    dict_kmeans = p5_util.object_load(fileName)\n",
    "    print(\"Records into dict_kmeans= \"+str(len(dict_kmeans)))\n",
    "fileNamefileName\n",
    "x_label_0 = 'Features : Nb. clusters'\n",
    "x_label_1 = 'Features : Nb. clusters'\n",
    "cluster_start = list(dict_kmeans.keys())[0]\n",
    "cluster_end = list(dict_kmeans.keys())[len(dict_kmeans)-1]\n",
    "print(cluster_start, cluster_end)\n",
    "p5_util_plot.plot_kmeans_interInertia(dict_kmeans, cluster_start, cluster_end\\\n",
    "                             ,[x_label_0, x_label_1]\\\n",
    "                             ,p_rows=1, p_cols=2, p_figsize=(20,10))"
   ]
  },
  {
   "cell_type": "code",
   "execution_count": 43,
   "metadata": {},
   "outputs": [
    {
     "data": {
      "text/plain": [
       "KMeans(algorithm='auto', copy_x=True, init='k-means++', max_iter=300,\n",
       "    n_clusters=8, n_init=10, n_jobs=None, precompute_distances='auto',\n",
       "    random_state=None, tol=0.0001, verbose=0)"
      ]
     },
     "execution_count": 43,
     "metadata": {},
     "output_type": "execute_result"
    }
   ],
   "source": [
    "dict_kmeans[8]"
   ]
  },
  {
   "cell_type": "markdown",
   "metadata": {},
   "source": [
    "## <font color='blus'>3.5. Word2Vec model</font>"
   ]
  },
  {
   "cell_type": "markdown",
   "metadata": {},
   "source": [
    "### Embedding corpus with Word2vec model\n",
    "\n",
    "It is expected that ``word2vec`` learns relationships between words automatically.\n",
    "\n",
    "* ``df_sof_train['Body']`` represents the corpus with which ``word2vec`` model is feeded.\n",
    "* Once feed, ``word2vec`` will build a vocabulary, mean, a list of words (features) from which any word from corpus is vectorized.\n",
    "* Matrix [Corpus words x Features] is stored in ``word2vec_model.wv.vectors``.\n"
   ]
  },
  {
   "cell_type": "markdown",
   "metadata": {},
   "source": [
    "**<font color='blue'>Load test dataset</font>**"
   ]
  },
  {
   "cell_type": "code",
   "execution_count": 6,
   "metadata": {},
   "outputs": [
    {
     "name": "stdout",
     "output_type": "stream",
     "text": [
      "(50000, 2)\n"
     ]
    }
   ],
   "source": [
    "import pandas as pd\n",
    "\n",
    "file_name=\"./data/test_StackOverFlow_BodyTitleTags.csv\"\n",
    "df_sof_test=pd.read_csv(file_name)\n",
    "\n",
    "file_name=\"./data/StackOverFlowTags.csv\"\n",
    "df_sof_tags=pd.read_csv(file_name)\n",
    "\n",
    "list_sof_tags = df_sof_tags.TagName.tolist()\n",
    "\n",
    "print(df_sof_tags.shape)"
   ]
  },
  {
   "cell_type": "markdown",
   "metadata": {},
   "source": [
    "**<font color='blue'>Load train dataset</font>**"
   ]
  },
  {
   "cell_type": "code",
   "execution_count": 23,
   "metadata": {},
   "outputs": [
    {
     "name": "stdout",
     "output_type": "stream",
     "text": [
      "(24604, 5)\n"
     ]
    }
   ],
   "source": [
    "import pandas as pd\n",
    "file_name=\"./data/train_StackOverFlow_BodyTitleTags.csv\"\n",
    "df_sof_train=pd.read_csv(file_name)\n",
    "print(df_sof_train.shape)"
   ]
  },
  {
   "cell_type": "markdown",
   "metadata": {},
   "source": [
    "**<font color='blue'>Load standardized corpus</font>**"
   ]
  },
  {
   "cell_type": "code",
   "execution_count": 1,
   "metadata": {},
   "outputs": [
    {
     "name": "stdout",
     "output_type": "stream",
     "text": [
      "p5_util.object_load : fileName= ./data/ser_sof_train.dump\n",
      "(24604,)\n"
     ]
    }
   ],
   "source": [
    "import p5_util\n",
    "file_name=\"./data/ser_sof_train.dump\"\n",
    "ser_sof_train = p5_util.object_load(file_name)\n",
    "print(ser_sof_train.shape)"
   ]
  },
  {
   "cell_type": "code",
   "execution_count": 2,
   "metadata": {},
   "outputs": [
    {
     "data": {
      "text/plain": [
       "24604"
      ]
     },
     "execution_count": 2,
     "metadata": {},
     "output_type": "execute_result"
    }
   ],
   "source": [
    "import p6_util\n",
    "\n",
    "df_sof_train = ser_sof_train.to_frame()\n",
    "\n",
    "list_sentence = p6_util.get_list_sentence_from_df(df_sof_train, 'Body')\n",
    "len(list_sentence)"
   ]
  },
  {
   "cell_type": "code",
   "execution_count": 3,
   "metadata": {},
   "outputs": [
    {
     "data": {
      "text/plain": [
       "['track',\n",
       " 'bar',\n",
       " 'form',\n",
       " 's',\n",
       " 'opacity',\n",
       " 'this',\n",
       " 'code',\n",
       " 'control',\n",
       " 'work',\n",
       " 'this',\n",
       " 'code',\n",
       " 'fine',\n",
       " 'past',\n",
       " 'vb',\n",
       " 'net',\n",
       " 'project',\n",
       " 'convert',\n",
       " 'decimal',\n",
       " 'double']"
      ]
     },
     "execution_count": 3,
     "metadata": {},
     "output_type": "execute_result"
    }
   ],
   "source": [
    "list_sentence[0]"
   ]
  },
  {
   "cell_type": "markdown",
   "metadata": {},
   "source": [
    "### <font color='blus'>3.5.1. Train Word2Vec model for size ranging from 100 to 1000</font>"
   ]
  },
  {
   "cell_type": "code",
   "execution_count": 4,
   "metadata": {},
   "outputs": [
    {
     "name": "stdout",
     "output_type": "stream",
     "text": [
      "Word2Vec(vocab=18444, size=100, alpha=0.025)\n",
      "Word2Vec(vocab=18444, size=200, alpha=0.025)\n",
      "Word2Vec(vocab=18444, size=300, alpha=0.025)\n",
      "Word2Vec(vocab=18444, size=400, alpha=0.025)\n",
      "Word2Vec(vocab=18444, size=500, alpha=0.025)\n",
      "Word2Vec(vocab=18444, size=600, alpha=0.025)\n",
      "Word2Vec(vocab=18444, size=700, alpha=0.025)\n",
      "Word2Vec(vocab=18444, size=800, alpha=0.025)\n",
      "Word2Vec(vocab=18444, size=900, alpha=0.025)\n",
      "Word2Vec(vocab=18444, size=1000, alpha=0.025)\n"
     ]
    }
   ],
   "source": [
    "from gensim.models import Word2Vec\n",
    "import p5_util\n",
    "import p6_util\n",
    "\n",
    "#sg=0 : CBOW is used\n",
    "#sg=1 : skip gram is used\n",
    "dict_w2vec_model = dict()\n",
    "size_range = range(100,1100,100)\n",
    "for p_size in size_range :\n",
    "    word2vec_model = Word2Vec(list_sentence, min_count=2, size=p_size, workers=6, sg=0, window=5)\n",
    "    word2vec_model.train(list_sentence, total_examples=len(list_sentence), epochs=10)\n",
    "    dict_w2vec_model[p_size] = word2vec_model\n",
    "    print(word2vec_model)\n",
    "\n",
    "fileName = \"./data/dict_w2vec_model\"\n",
    "p5_util.object_dump(dict_w2vec_model, fileName)"
   ]
  },
  {
   "cell_type": "markdown",
   "metadata": {},
   "source": [
    "**<font color='blue'>W2Vec model accuracy</font>**"
   ]
  },
  {
   "cell_type": "code",
   "execution_count": 7,
   "metadata": {},
   "outputs": [
    {
     "name": "stdout",
     "output_type": "stream",
     "text": [
      "\n",
      "*** INFO : NB test= 163\n",
      "\n",
      "*** Mean accuracy for Word2Vec(100) = 21.36\n",
      "\n",
      "*** INFO : NB test= 163\n",
      "\n",
      "*** Mean accuracy for Word2Vec(200) = 21.24\n",
      "\n",
      "*** INFO : NB test= 163\n",
      "\n",
      "*** Mean accuracy for Word2Vec(300) = 21.11\n",
      "\n",
      "*** INFO : NB test= 163\n",
      "\n",
      "*** Mean accuracy for Word2Vec(400) = 21.76\n",
      "\n",
      "*** INFO : NB test= 163\n",
      "\n",
      "*** Mean accuracy for Word2Vec(500) = 21.28\n",
      "\n",
      "*** INFO : NB test= 163\n",
      "\n",
      "*** Mean accuracy for Word2Vec(600) = 20.97\n",
      "\n",
      "*** INFO : NB test= 163\n",
      "\n",
      "*** Mean accuracy for Word2Vec(700) = 21.27\n",
      "\n",
      "*** INFO : NB test= 163\n",
      "\n",
      "*** Mean accuracy for Word2Vec(800) = 22.78\n",
      "\n",
      "*** INFO : NB test= 163\n",
      "\n",
      "*** Mean accuracy for Word2Vec(900) = 21.61\n",
      "\n",
      "*** INFO : NB test= 163\n",
      "\n",
      "*** Mean accuracy for Word2Vec(1000) = 21.97\n"
     ]
    }
   ],
   "source": [
    "import p6_util\n",
    "dict_w2vec_mean_accuracy = dict()\n",
    "for p_size in size_range :\n",
    "    dict_w2vec_mean_accuracy[p_size] \\\n",
    "    = p6_util.p6_w2vec_mean_accuracy(dict_w2vec_model[p_size], df_sof_test, ratio=1/100)\n",
    "    print(\"\\n*** Mean accuracy for Word2Vec(\"+str(p_size)+\") = {0:1.2F}\".format(dict_w2vec_mean_accuracy[p_size]*100))"
   ]
  },
  {
   "cell_type": "markdown",
   "metadata": {},
   "source": [
    "### <font color='blus'>3.5.2. Train Word2Vec model for window ranging from 1 to 10</font>"
   ]
  },
  {
   "cell_type": "code",
   "execution_count": 12,
   "metadata": {},
   "outputs": [
    {
     "name": "stdout",
     "output_type": "stream",
     "text": [
      "Word2Vec(vocab=18444, size=200, alpha=0.025)\n",
      "Word2Vec(vocab=18444, size=200, alpha=0.025)\n",
      "Word2Vec(vocab=18444, size=200, alpha=0.025)\n",
      "Word2Vec(vocab=18444, size=200, alpha=0.025)\n",
      "Word2Vec(vocab=18444, size=200, alpha=0.025)\n",
      "Word2Vec(vocab=18444, size=200, alpha=0.025)\n",
      "Word2Vec(vocab=18444, size=200, alpha=0.025)\n",
      "Word2Vec(vocab=18444, size=200, alpha=0.025)\n",
      "Word2Vec(vocab=18444, size=200, alpha=0.025)\n",
      "Word2Vec(vocab=18444, size=200, alpha=0.025)\n",
      "Word2Vec(vocab=18444, size=200, alpha=0.025)\n",
      "Word2Vec(vocab=18444, size=200, alpha=0.025)\n",
      "Word2Vec(vocab=18444, size=200, alpha=0.025)\n",
      "Word2Vec(vocab=18444, size=200, alpha=0.025)\n",
      "Word2Vec(vocab=18444, size=200, alpha=0.025)\n",
      "Word2Vec(vocab=18444, size=200, alpha=0.025)\n",
      "Word2Vec(vocab=18444, size=200, alpha=0.025)\n",
      "Word2Vec(vocab=18444, size=200, alpha=0.025)\n",
      "Word2Vec(vocab=18444, size=200, alpha=0.025)\n",
      "Word2Vec(vocab=18444, size=200, alpha=0.025)\n"
     ]
    }
   ],
   "source": [
    "from gensim.models import Word2Vec\n",
    "import p5_util\n",
    "import p6_util\n",
    "\n",
    "#sg=0 : CBOW is used\n",
    "#sg=1 : skip gram is used\n",
    "p_size = 200\n",
    "dict_w2vec_model = dict()\n",
    "window_range = range(1,21,1)\n",
    "for p_window in window_range :\n",
    "    word2vec_model = Word2Vec(list_sentence, min_count=2, size=p_size, workers=6, sg=0, window=p_window)\n",
    "    word2vec_model.train(list_sentence, total_examples=len(list_sentence), epochs=10)\n",
    "    dict_w2vec_model[p_window] = word2vec_model\n",
    "    print(\"Window= \"+str(p_window)+\" / {}\".format(word2vec_model)\n",
    "\n",
    "fileName = \"./data/dict_w2vec_model_window\"\n",
    "p5_util.object_dump(dict_w2vec_model, fileName)"
   ]
  },
  {
   "cell_type": "markdown",
   "metadata": {},
   "source": [
    "**<font color='blue'>W2Vec model accuracy</font>**"
   ]
  },
  {
   "cell_type": "code",
   "execution_count": 75,
   "metadata": {},
   "outputs": [
    {
     "name": "stdout",
     "output_type": "stream",
     "text": [
      "[]\n",
      "[('lib', 0.51791024), ('name', 0.34205732), ('dir', 0.0077024354), ('cpp', 0.0052703572), ('fatal', 0.004975718), ('error', 0.004882041), ('h', 0.0048304675), ('usr', 0.0041413927), ('path', 0.0040876283), ('directory', 0.003691896)]\n",
      "\n",
      "<p>i have the following script</p>\n",
      "\n",
      "<pre><code>import getopt, sys\n",
      "opts, args = getopt.getopt(sys.argv[1:], \"h:s\")\n",
      "for key,value in opts:\n",
      "    print key, \"=&gt;\", value\n",
      "</code></pre>\n",
      "\n",
      "<p>if i name this getopt.py and run it doesn't work as it tries to import itself</p>\n",
      "\n",
      "<p>is there a way around this, so i can keep this filename but specify on import that i want the standard python lib and not this file?  </p>\n",
      "\n",
      "<p>Solution based on Vinko's answer:</p>\n",
      "\n",
      "<pre><code>import sys\n",
      "sys.path.reverse()\n",
      "from getopt import getopt\n",
      "\n",
      "opts, args = getopt(sys.argv[1:], \"h:s\")\n",
      "\n",
      "for key,value in opts:\n",
      "    print key, \"=&gt;\", value\n",
      "</code></pre>\n",
      "\n",
      "\n",
      "python name a file same as a lib\n",
      "\n",
      "<python>\n"
     ]
    }
   ],
   "source": [
    "import p6_util\n",
    "post_id=300\n",
    "body  = df_sof_test.Body.iloc[post_id]\n",
    "title = df_sof_test.Title.iloc[post_id]\n",
    "tags  = df_sof_test.Tags.iloc[post_id]\n",
    "post  = body+title\n",
    "ser_post = p6_util.p6_str_standardization(post)\n",
    "list_post_word = ser_post.tolist()[0].split()\n",
    "list_tag_expert = word2vec_model.predict_output_word(list_post_word, topn=10)\n",
    "print(list(set(list_tag_expert).intersection(list_sof_tags)))\n",
    "print(list_tag_expert)\n",
    "print()\n",
    "print(body)\n",
    "print()\n",
    "print(title)\n",
    "print()\n",
    "print(tags)"
   ]
  },
  {
   "cell_type": "code",
   "execution_count": 13,
   "metadata": {},
   "outputs": [
    {
     "name": "stdout",
     "output_type": "stream",
     "text": [
      "\n",
      "*** INFO : NB test= 163\n",
      "\n",
      "*** Mean accuracy for Word2Vec( window=1) = 14.51\n",
      "\n",
      "*** INFO : NB test= 163\n",
      "\n",
      "*** Mean accuracy for Word2Vec( window=2) = 17.47\n",
      "\n",
      "*** INFO : NB test= 163\n",
      "\n",
      "*** Mean accuracy for Word2Vec( window=3) = 19.41\n",
      "\n",
      "*** INFO : NB test= 163\n",
      "\n",
      "*** Mean accuracy for Word2Vec( window=4) = 21.04\n",
      "\n",
      "*** INFO : NB test= 163\n",
      "\n",
      "*** Mean accuracy for Word2Vec( window=5) = 22.25\n",
      "\n",
      "*** INFO : NB test= 163\n",
      "\n",
      "*** Mean accuracy for Word2Vec( window=6) = 22.47\n",
      "\n",
      "*** INFO : NB test= 163\n",
      "\n",
      "*** Mean accuracy for Word2Vec( window=7) = 24.03\n",
      "\n",
      "*** INFO : NB test= 163\n",
      "\n",
      "*** Mean accuracy for Word2Vec( window=8) = 23.47\n",
      "\n",
      "*** INFO : NB test= 163\n",
      "\n",
      "*** Mean accuracy for Word2Vec( window=9) = 23.72\n",
      "\n",
      "*** INFO : NB test= 163\n",
      "\n",
      "*** Mean accuracy for Word2Vec( window=10) = 23.16\n",
      "\n",
      "*** INFO : NB test= 163\n",
      "\n",
      "*** Mean accuracy for Word2Vec( window=11) = 23.42\n",
      "\n",
      "*** INFO : NB test= 163\n",
      "\n",
      "*** Mean accuracy for Word2Vec( window=12) = 24.16\n",
      "\n",
      "*** INFO : NB test= 163\n",
      "\n",
      "*** Mean accuracy for Word2Vec( window=13) = 24.58\n",
      "\n",
      "*** INFO : NB test= 163\n",
      "\n",
      "*** Mean accuracy for Word2Vec( window=14) = 23.44\n",
      "\n",
      "*** INFO : NB test= 163\n",
      "\n",
      "*** Mean accuracy for Word2Vec( window=15) = 23.47\n",
      "\n",
      "*** INFO : NB test= 163\n",
      "\n",
      "*** Mean accuracy for Word2Vec( window=16) = 24.54\n",
      "\n",
      "*** INFO : NB test= 163\n",
      "\n",
      "*** Mean accuracy for Word2Vec( window=17) = 24.95\n",
      "\n",
      "*** INFO : NB test= 163\n",
      "\n",
      "*** Mean accuracy for Word2Vec( window=18) = 24.82\n",
      "\n",
      "*** INFO : NB test= 163\n",
      "\n",
      "*** Mean accuracy for Word2Vec( window=19) = 24.48\n",
      "\n",
      "*** INFO : NB test= 163\n",
      "\n",
      "*** Mean accuracy for Word2Vec( window=20) = 24.79\n"
     ]
    }
   ],
   "source": [
    "import p6_util\n",
    "\n",
    "dict_w2vec_mean_accuracy = dict()\n",
    "for p_window in window_range :\n",
    "    dict_w2vec_mean_accuracy[p_window] \\\n",
    "    = p6_util.p6_w2vec_mean_accuracy(dict_w2vec_model[p_window], df_sof_test, ratio=1/100)\n",
    "    print(\"\\n*** Mean accuracy for Word2Vec( window=\"+str(p_window)+\") = {0:1.2F}\".format(dict_w2vec_mean_accuracy[p_window]*100))"
   ]
  },
  {
   "cell_type": "code",
   "execution_count": 14,
   "metadata": {},
   "outputs": [
    {
     "data": {
      "image/png": "[encoded data removed]",
      "text/plain": [
       "<Figure size 1440x720 with 1 Axes>"
      ]
     },
     "metadata": {},
     "output_type": "display_data"
    }
   ],
   "source": [
    "import p6_util_plot\n",
    "import numpy as np\n",
    "\n",
    "item_count = None#len(dict_lda_mean_accuracy)\n",
    "\n",
    "    \n",
    "X = np.array([key for key in dict_w2vec_mean_accuracy.keys()])\n",
    "y = np.array([value for value in dict_w2vec_mean_accuracy.values()])\n",
    "#X=np.log(X)\n",
    "\n",
    "\n",
    "title = \"W2VEC models Accuracy = F(Window)\"\n",
    "p_x_title = \"Window size\"\n",
    "p_y_title = \"Accuracy\"\n",
    "item_count=None\n",
    "p6_util_plot.X_y_plot(X,y,item_count,title, p_x_title, p_y_title)"
   ]
  },
  {
   "cell_type": "markdown",
   "metadata": {},
   "source": [
    "**<font color=blue>Save best W2VEC model**</font>"
   ]
  },
  {
   "cell_type": "code",
   "execution_count": 16,
   "metadata": {},
   "outputs": [],
   "source": [
    "import p5_util\n",
    "window=7\n",
    "size=200\n",
    "file_name=\"./data/w2vec_best_model\"\n",
    "p5_util.object_dump(dict_w2vec_model[window],file_name)"
   ]
  },
  {
   "cell_type": "markdown",
   "metadata": {},
   "source": [
    "### <font color='blus'>3.5.2. Build dictionary from TAG suggested by an expert solution</font>"
   ]
  },
  {
   "cell_type": "code",
   "execution_count": 47,
   "metadata": {},
   "outputs": [
    {
     "name": "stdout",
     "output_type": "stream",
     "text": [
      "(16359, 5) Index(['Id', 'PostTypeId', 'Body', 'Title', 'Tags'], dtype='object')\n"
     ]
    }
   ],
   "source": [
    "import pandas as pd\n",
    "file_name=\"./data/test_StackOverFlow_BodyTitleTags.csv\"\n",
    "df_sof_test=pd.read_csv(file_name)\n",
    "print(df_sof_test.shape, df_sof_test.columns)"
   ]
  },
  {
   "cell_type": "code",
   "execution_count": 48,
   "metadata": {},
   "outputs": [
    {
     "name": "stdout",
     "output_type": "stream",
     "text": [
      "p5_util.object_load : fileName= ./data/w2vec_best_model\n"
     ]
    }
   ],
   "source": [
    "file_name=\"./data/w2vec_best_model\"\n",
    "w2vec_best = p5_util.object_load(file_name)"
   ]
  },
  {
   "cell_type": "code",
   "execution_count": 32,
   "metadata": {},
   "outputs": [
    {
     "name": "stdout",
     "output_type": "stream",
     "text": [
      "['dll', 'assembly', 'assemblies', 'dlls', 'gac', 'version', 'library', 'exe', 'loaded', 'folder']\n",
      "['c#', '.net', 'sharepoint', 'assemblies']\n",
      "How to reference to multiple version assembly\n",
      "\n",
      "<p>I'm developing a Sharepoint application and use .NET AjaxControlToolkit library, we are adding a custom aspx page to the Sharepoint. Sharepoint 2007 run in quirks mode so I've made some modification to the AJAX library to make it behave like it normally should. The problem is, the other team already use AJAX library and it is a different version with mine. This cause conflict because there could be only one dll in the bin folder with the same name.</p>\n",
      "\n",
      "<p>From what I know, .NET should be able to handle this situation easily. I've tried using strong name and GAC to solve it, but it still refer to the dll in the bin folder. If there is no AjaxControlToolkit.dll in the bin folder, the application will simply fail to load the assembly. </p>\n",
      "\n",
      "<p>If I use complete assembly information on my like this </p>\n",
      "\n",
      "<pre><code>&lt;%@ \n",
      "    Register \n",
      "    tagprefix=\"AjaxControlToolkit\"\n",
      "    namespace=\"AjaxControlToolkit\"\n",
      "    assembly=\"AjaxControlToolkit, Version=1.0.299.18064, \n",
      "    PublicKeyToken=12345678abcdefgh, \n",
      "    Culture=neutral\"\n",
      "%&gt;\n",
      "</code></pre>\n",
      "\n",
      "<p>It gives me Compiler Error CS0433</p>\n",
      "\n",
      "<p>Can someone help me on how to use multiple version of assembly in an application?</p>\n",
      "\n"
     ]
    }
   ],
   "source": [
    "import p6_util\n",
    "\n",
    "id_post=500\n",
    "#for post_id in range(0,nb_post) :\n",
    "list_post_word = df_sof_test.tolist()[id_post].split()\n",
    "list_tag_suggested \\\n",
    "    = w2vec_best.predict_output_word(list_post_word, topn=10)\n",
    "list_tag_suggested=[tuple_result[0] for tuple_result in list_tag_suggested]\n",
    "print(list_tag_suggested)\n",
    "print(p6_util.clean_marker_text(df_sof_train.Tags[id_post],leading_marker='<', trailing_marker='>'))\n",
    "print(df_sof_train.Title[id_post])\n",
    "print()\n",
    "print(df_sof_train.Body[id_post])\n"
   ]
  },
  {
   "cell_type": "code",
   "execution_count": 57,
   "metadata": {},
   "outputs": [
    {
     "name": "stderr",
     "output_type": "stream",
     "text": [
      "/home/bangui/anaconda3/lib/python3.7/site-packages/gensim/models/word2vec.py:859: UserWarning: All the input context words are out-of-vocabulary for the current model.\n",
      "  warnings.warn(\"All the input context words are out-of-vocabulary for the current model.\")\n"
     ]
    },
    {
     "name": "stdout",
     "output_type": "stream",
     "text": [
      "POST= 8172 Nb suggested TAG= None\n"
     ]
    }
   ],
   "source": [
    "import p6_util\n",
    "nb_test=df_sof_test.shape[0]\n",
    "dict_post_w2vec_tag , nb_fail= p6_util.w2vec_build_dict_post_tag(w2vec_best , df_sof_test, nb_test, topn=10)"
   ]
  },
  {
   "cell_type": "code",
   "execution_count": 58,
   "metadata": {},
   "outputs": [],
   "source": [
    "import p5_util\n",
    "file_name=\"./data/dict_post_w2vec_tag\"\n",
    "p5_util.object_dump(dict_post_w2vec_tag,file_name)"
   ]
  },
  {
   "cell_type": "code",
   "execution_count": 61,
   "metadata": {},
   "outputs": [
    {
     "data": {
      "text/plain": [
       "'<noscript> in <head>'"
      ]
     },
     "execution_count": 61,
     "metadata": {},
     "output_type": "execute_result"
    }
   ],
   "source": [
    "df_sof_test.Title[8172]"
   ]
  },
  {
   "cell_type": "markdown",
   "metadata": {},
   "source": [
    "## <font color='blus'>3.6. Glove model</font>"
   ]
  },
  {
   "cell_type": "code",
   "execution_count": null,
   "metadata": {},
   "outputs": [],
   "source": [
    "import itertools\n",
    "#from gensim.models.word2vec import Text8Corpus\n",
    "from glove import Corpus, Glove\n",
    "\n",
    "# sentences and corpus from standard library\n",
    "#sentences = list(itertools.islice(Text8Corpus('text8'),None))\n",
    "corpus = Corpus()\n",
    "# fitting the corpus with sentences and creating Glove object\n",
    "corpus.fit(list_tokenized_sentences, window=10)\n",
    "glove = Glove(no_components=100, learning_rate=0.05)\n",
    "# fitting to the corpus and adding standard dictionary to the object\n",
    "glove.fit(corpus.matrix, epochs=30, no_threads=4, verbose=True)\n",
    "glove.add_dictionary(corpus.dictionary)"
   ]
  },
  {
   "cell_type": "markdown",
   "metadata": {},
   "source": [
    "# <font color='blus'>4. Test and performance</font>"
   ]
  },
  {
   "cell_type": "markdown",
   "metadata": {},
   "source": [
    "**Dictionary of tags from expert solution is loaded**"
   ]
  },
  {
   "cell_type": "code",
   "execution_count": 42,
   "metadata": {},
   "outputs": [
    {
     "name": "stdout",
     "output_type": "stream",
     "text": [
      "p5_util.object_load : fileName= ./data/dict_post_w2vec_tag\n"
     ]
    }
   ],
   "source": [
    "import p5_util\n",
    "file_name=\"./data/dict_post_w2vec_tag\"\n",
    "dict_post_w2vec_tag = p5_util.object_load(file_name)"
   ]
  },
  {
   "cell_type": "markdown",
   "metadata": {},
   "source": [
    "**Test dataset is loaded**"
   ]
  },
  {
   "cell_type": "code",
   "execution_count": 43,
   "metadata": {},
   "outputs": [
    {
     "name": "stdout",
     "output_type": "stream",
     "text": [
      "(50000, 2)\n"
     ]
    }
   ],
   "source": [
    "import pandas as pd\n",
    "\n",
    "file_name=\"./data/test_StackOverFlow_BodyTitleTags.csv\"\n",
    "df_sof_test=pd.read_csv(file_name)\n",
    "\n",
    "file_name=\"./data/StackOverFlowTags.csv\"\n",
    "df_sof_tags=pd.read_csv(file_name)\n",
    "\n",
    "list_sof_tags = df_sof_tags.TagName.tolist()\n",
    "\n",
    "print(df_sof_tags.shape)"
   ]
  },
  {
   "cell_type": "code",
   "execution_count": null,
   "metadata": {},
   "outputs": [],
   "source": []
  },
  {
   "cell_type": "markdown",
   "metadata": {},
   "source": [
    "## <font color='blus'>4.1 Computation of accuracy, recall and F-measure</font>"
   ]
  },
  {
   "cell_type": "code",
   "execution_count": 44,
   "metadata": {},
   "outputs": [
    {
     "data": {
      "text/plain": [
       "Index(['Id', 'PostTypeId', 'Body', 'Title', 'Tags'], dtype='object')"
      ]
     },
     "execution_count": 44,
     "metadata": {},
     "output_type": "execute_result"
    }
   ],
   "source": [
    "df_sof_test.columns"
   ]
  },
  {
   "cell_type": "code",
   "execution_count": null,
   "metadata": {},
   "outputs": [],
   "source": [
    "p6_util.measure_avg_compute(dict_post_w2vec_tag,df_sof_test.Tags)"
   ]
  },
  {
   "cell_type": "markdown",
   "metadata": {},
   "source": [
    "### Word2Vec model"
   ]
  },
  {
   "cell_type": "markdown",
   "metadata": {},
   "source": [
    "* A post is randomly selected from test dataset.\n",
    "* Then post is ipre-processed in order to feed M.L. model."
   ]
  },
  {
   "cell_type": "code",
   "execution_count": null,
   "metadata": {},
   "outputs": [],
   "source": []
  },
  {
   "cell_type": "markdown",
   "metadata": {},
   "source": [
    "* Tag counts is computed from test.\n",
    "* Computed tags are returned with same number and same format then tags from test."
   ]
  },
  {
   "cell_type": "code",
   "execution_count": null,
   "metadata": {},
   "outputs": [],
   "source": [
    "import p6_util\n",
    "tag_count=p6_util.get_tag_count(df_sof_test.Tags.iloc[i_random])\n",
    "\n",
    "list_computed_tag = p6_util.get_list_tag_from_post(df_post.Body.iloc[0], word2vec_model, max_tag=tag_count)\n",
    "print(\"Computed tags = \"+\"\".join(list_computed_tag))\n",
    "print(\"\")\n",
    "print(\"Tags from test = \"+df_sof_test.Tags.iloc[i_random])\n",
    "print(\"------------------------------------------\")\n",
    "print(\"Posted question : \\n\")\n",
    "print(\"Title : \"+str(title))\n",
    "print(\"\")\n",
    "print(\"Body: \"+str(body))"
   ]
  },
  {
   "cell_type": "markdown",
   "metadata": {},
   "source": [
    "## Plot 2D projection of Word2Vec embedded vocabulary"
   ]
  },
  {
   "cell_type": "code",
   "execution_count": null,
   "metadata": {},
   "outputs": [],
   "source": [
    "from gensim.models import Word2Vec\n",
    "\n",
    "word2vec_model = Word2Vec.load(\"word2vec_model\")\n",
    "\n",
    "len(word2vec_model.wv.vocab.keys()), len(word2vec_model.wv.vectors)"
   ]
  },
  {
   "cell_type": "markdown",
   "metadata": {},
   "source": [
    "### Compute matrix for any word into corpus"
   ]
  },
  {
   "cell_type": "markdown",
   "metadata": {},
   "source": [
    "**Load cleaned train-dataset**"
   ]
  },
  {
   "cell_type": "code",
   "execution_count": null,
   "metadata": {},
   "outputs": [],
   "source": [
    "import p5_util\n",
    "file_name='./data/df_sof_train.dump'\n",
    "df_sof_train=p5_util.object_load(file_name)"
   ]
  },
  {
   "cell_type": "markdown",
   "metadata": {},
   "source": [
    "**Get SOF corpus from dataframe**"
   ]
  },
  {
   "cell_type": "code",
   "execution_count": null,
   "metadata": {},
   "outputs": [],
   "source": [
    "import p6_util\n",
    "list_corpus = p6_util.get_list_sentence_from_df(df_sof_train, 'Body')"
   ]
  },
  {
   "cell_type": "code",
   "execution_count": null,
   "metadata": {},
   "outputs": [],
   "source": [
    "list_tokenized_corpus=list()\n",
    "i=0\n",
    "for list_word in list_corpus:\n",
    "    list_tokenized_corpus += list_word\n",
    "    "
   ]
  },
  {
   "cell_type": "code",
   "execution_count": null,
   "metadata": {},
   "outputs": [],
   "source": [
    "len(list_tokenized_corpus[1:]), len(list_tokenized_corpus)"
   ]
  },
  {
   "cell_type": "raw",
   "metadata": {},
   "source": [
    "import numpy as np\n",
    "len(list_tokenized_corpus)\n",
    "word0 = list_tokenized_corpus[0]\n",
    "word1 = list_tokenized_corpus[1]\n",
    "\n",
    "#arr = word2vec_model[word0].reshape(1,-1)\n",
    "#arr = word2vec_model[word0]\n",
    "#print(arr.shape)\n",
    "#arr1= word2vec_model[word1].reshape(1,-1)\n",
    "arr1 = word2vec_model[word1]\n",
    "#print(arr1.shape)\n",
    "arr = np.vstack((arr,arr1))\n",
    "print(arr.shape)"
   ]
  },
  {
   "cell_type": "raw",
   "metadata": {},
   "source": [
    "word2vec_model[\"10\"]"
   ]
  },
  {
   "cell_type": "raw",
   "metadata": {},
   "source": [
    "word = list_tokenized_corpus[0]\n",
    "matrix=word2vec_model[word]\n",
    "for word in list_tokenized_corpus[1:]:\n",
    "    matrix = np.vstack((matrix,word2vec_model[word]))\n",
    "    \n",
    "    "
   ]
  },
  {
   "cell_type": "markdown",
   "metadata": {},
   "source": [
    "### 2D t-SNE transformation"
   ]
  },
  {
   "cell_type": "markdown",
   "metadata": {},
   "source": [
    "#### Load TDIF Matrix"
   ]
  },
  {
   "cell_type": "code",
   "execution_count": null,
   "metadata": {},
   "outputs": [],
   "source": [
    "import p5_util\n",
    "file_name=\"./data/csr_matrix_tdif.dump\"\n",
    "csr_matrix = p5_util.object_load(file_name)\n",
    "\n",
    "print(csr_matrix.shape)"
   ]
  },
  {
   "cell_type": "markdown",
   "metadata": {},
   "source": [
    "**Get sample from CSR matrix**"
   ]
  },
  {
   "cell_type": "code",
   "execution_count": null,
   "metadata": {},
   "outputs": [],
   "source": [
    "import random\n",
    "import numpy as np\n",
    "arr = np.zeros(100)\n",
    "array = csr_matrix.toarray()\n",
    "#array_index_sample = random.sample(list(csr_matrix.shape), 10)\n",
    "\n",
    "arr_index = np.random.randint(0,array.shape[0],1000)\n",
    "array_sample = csr_matrix.toarray()[arr_index]"
   ]
  },
  {
   "cell_type": "code",
   "execution_count": null,
   "metadata": {},
   "outputs": [],
   "source": [
    "array_sample.shape, array.shape"
   ]
  },
  {
   "cell_type": "markdown",
   "metadata": {},
   "source": [
    "**Compute for embedded vocabulary t-SNE projection with different perplexity values**"
   ]
  },
  {
   "cell_type": "code",
   "execution_count": null,
   "metadata": {},
   "outputs": [],
   "source": [
    "import p5_util\n",
    "if True:\n",
    "    #X_std=word2vec_model.wv.vectors\n",
    "    X_std = array_sample\n",
    "    my_list_tsne_perplexity=[var for var in range(5,55,5)]\n",
    "    dict_tsne_result = p5_util.tsne_2D_process_perplexity(X_std, tsne_iter=1000, list_tsne_perplexity=my_list_tsne_perplexity)"
   ]
  },
  {
   "cell_type": "markdown",
   "metadata": {},
   "source": [
    "**Plot points issued from t-SNE transformations for each perplexity value**"
   ]
  },
  {
   "cell_type": "code",
   "execution_count": null,
   "metadata": {},
   "outputs": [],
   "source": [
    "import p5_util_plot\n",
    "if True :\n",
    "    nb_col = 4     \n",
    "    p5_util_plot.plot_2D_dict_tsne_result(dict_tsne_result, nb_col, ratio=0.05)"
   ]
  },
  {
   "cell_type": "markdown",
   "metadata": {},
   "source": [
    "**Compute vocabulary t-SNE transformation for a fixed perplexity value**"
   ]
  },
  {
   "cell_type": "code",
   "execution_count": null,
   "metadata": {},
   "outputs": [],
   "source": [
    "import p5_util\n",
    "\n",
    "X_std=word2vec_model.wv.vectors\n",
    "print(X_std.shape)\n",
    "perplexity=10\n",
    "my_list_tsne_perplexity=[perplexity,]\n",
    "dict_tsne_result = p5_util.tsne_2D_process_perplexity(X_std, tsne_iter=300, list_tsne_perplexity=my_list_tsne_perplexity)"
   ]
  },
  {
   "cell_type": "code",
   "execution_count": null,
   "metadata": {},
   "outputs": [],
   "source": [
    "len(dict_tsne_result[perplexity]),X_std.shape"
   ]
  },
  {
   "cell_type": "markdown",
   "metadata": {},
   "source": [
    "**Plot points issued from t-SNE embedded vocabulary transformation with words related to each point**"
   ]
  },
  {
   "cell_type": "code",
   "execution_count": null,
   "metadata": {},
   "outputs": [],
   "source": [
    "import numpy as np\n",
    "import p5_util_plot\n",
    "\n",
    "nb_col = 1\n",
    "dict_tsne_result_part={perplexity:dict_tsne_result[perplexity]}\n",
    "p_annotation = np.array(list(word2vec_model.wv.vocab.keys()))\n",
    "p5_util_plot.plot_2D_dict_tsne_result(dict_tsne_result_part, nb_col, ratio=0.05, annotation=p_annotation)"
   ]
  },
  {
   "cell_type": "markdown",
   "metadata": {},
   "source": [
    "### 2D PCA transformation"
   ]
  },
  {
   "cell_type": "code",
   "execution_count": null,
   "metadata": {},
   "outputs": [],
   "source": [
    "import pandas as pd\n",
    "df_pca=pd.DataFrame(X_std)"
   ]
  },
  {
   "cell_type": "code",
   "execution_count": null,
   "metadata": {},
   "outputs": [],
   "source": [
    "df_pca.shape"
   ]
  },
  {
   "cell_type": "code",
   "execution_count": null,
   "metadata": {},
   "outputs": [],
   "source": [
    "import p3_util_plot\n",
    "z__ = p3_util_plot.df_pca_all_plot(df_pca, plot=True)"
   ]
  },
  {
   "cell_type": "code",
   "execution_count": null,
   "metadata": {},
   "outputs": [],
   "source": [
    "from sklearn.decomposition import PCA\n",
    "\n",
    "nb_components=600\n",
    "pca = PCA(n_components=nb_components)\n",
    "pca.fit(X_std)\n",
    "X_pca = pca.transform(X_std)\n",
    "print(X_pca.shape)"
   ]
  },
  {
   "cell_type": "markdown",
   "metadata": {},
   "source": [
    "**Save reduced PCA**"
   ]
  },
  {
   "cell_type": "code",
   "execution_count": null,
   "metadata": {},
   "outputs": [],
   "source": [
    "import p5_util\n",
    "file_name=\"./data/pca_600_tdif.dump\"\n",
    "p5_util.object_dump(X_pca, file_name)"
   ]
  },
  {
   "cell_type": "code",
   "execution_count": null,
   "metadata": {},
   "outputs": [],
   "source": [
    "import p3_util_plot\n",
    "p_ratio=0.1\n",
    "title = str(int(p_ratio*100))+\" % Embedded TF-IDF vocabulary\"\n",
    "pca_=p3_util_plot.df_pca_components_plot(df_pca, None, nb_components=2, param_title=title, ratio=p_ratio)"
   ]
  },
  {
   "cell_type": "code",
   "execution_count": null,
   "metadata": {},
   "outputs": [],
   "source": [
    "df_pca.shape"
   ]
  },
  {
   "cell_type": "code",
   "execution_count": null,
   "metadata": {},
   "outputs": [],
   "source": [
    "import pandas as pd\n",
    "\n",
    "list(word2vec_model.wv.vocab.keys())\n",
    "df_vocab=pd.DataFrame(list(word2vec_model.wv.vocab.keys()))"
   ]
  },
  {
   "cell_type": "code",
   "execution_count": null,
   "metadata": {},
   "outputs": [],
   "source": [
    "df_vocab.shape"
   ]
  },
  {
   "cell_type": "code",
   "execution_count": null,
   "metadata": {},
   "outputs": [],
   "source": [
    "import p3_util_plot\n",
    "\n",
    "p3_util_plot.df_pcs2_plot(df_pca, pca_)"
   ]
  }
 ],
 "metadata": {
  "celltoolbar": "Slideshow",
  "kernelspec": {
   "display_name": "Python 3",
   "language": "python",
   "name": "python3"
  },
  "language_info": {
   "codemirror_mode": {
    "name": "ipython",
    "version": 3
   },
   "file_extension": ".py",
   "mimetype": "text/x-python",
   "name": "python",
   "nbconvert_exporter": "python",
   "pygments_lexer": "ipython3",
   "version": "3.7.0"
  }
 },
 "nbformat": 4,
 "nbformat_minor": 2
}
