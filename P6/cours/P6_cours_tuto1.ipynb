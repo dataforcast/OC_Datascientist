{
 "cells": [
  {
   "cell_type": "markdown",
   "metadata": {},
   "source": [
    "<!--NOTEBOOK_INFORMATION-->\n",
    "<img align=\"left\" style=\"padding-right:10px;\" src=\"./figures/LogoOpenclassrooms.png\">\n",
    "<font size=\"4\">\n",
    "<p>\n",
    "Cette activité est réalisée dans le cadre du cours ``Analysez vos données textuelles`` diffusé en MOOC par\n",
    "**<font color='blus'>Openclassrooms</font>**.\n",
    "</p>    \n"
   ]
  },
  {
   "cell_type": "code",
   "execution_count": 1,
   "metadata": {},
   "outputs": [],
   "source": [
    "import p6_util_activity \n",
    "\n",
    "#-----------------------------------------------------------------------------\n",
    "# When this flag is activated,  then a subset of CNN files are read.\n",
    "# When value is False, then all CNN files are read. in this case, make sure \n",
    "# you've at leat 16G RAM available and to run over 64bits station.\n",
    "#-----------------------------------------------------------------------------\n",
    "is_partial_read=True\n",
    "max_read_count=100\n",
    "file_path =\"./data/cnn_new\""
   ]
  },
  {
   "cell_type": "markdown",
   "metadata": {},
   "source": [
    "For each pair of files, frequencies are recorded into dictionary ``dict_article_highlight`` as component of a tuple.\n",
    "\n",
    "Format of ``dict_article_highlight`` is as following : ``{#ID:(tokenized_article,tokenized_highlight,dict_article_freq,dict_highlight_freq)}``\n",
    "\n",
    "* ``tokenized_article`` : list of tokens issued from article\n",
    "* ``tokenized_highlight`` : list of tokens issued from highlight\n",
    "* ``dict_article_freq`` is formated as : ``{token:token_frequency}``\n",
    "* ``dict_highlight_freq`` is formated as : ``{token:token_frequency}``"
   ]
  },
  {
   "cell_type": "code",
   "execution_count": 2,
   "metadata": {},
   "outputs": [
    {
     "name": "stdout",
     "output_type": "stream",
     "text": [
      "100 100\n"
     ]
    }
   ],
   "source": [
    "data_path = './data/cnn/stories'\n",
    "dict_article, dict_highlight = p6_util_activity.read_cnn_corpora(data_path, p_restriction=None, read_count=max_read_count)\n",
    "\n",
    "print(len(dict_article), len(dict_highlight))\n"
   ]
  },
  {
   "cell_type": "markdown",
   "metadata": {},
   "source": [
    "#### Frequencies computing over raw articles and highlights\n",
    "\n",
    "* Frequencies are computed for both type of content (raw articles and raw highlights)"
   ]
  },
  {
   "cell_type": "code",
   "execution_count": 3,
   "metadata": {},
   "outputs": [
    {
     "name": "stdout",
     "output_type": "stream",
     "text": [
      "Taille du dictionnaire des frequences de mots pour les articles: 15891\n",
      "Taille du dictionnaire des frequences de mots pour les hightlights: 2301\n"
     ]
    }
   ],
   "source": [
    "import p6_util_activity\n",
    "\n",
    "dict_article_freq = p6_util_activity.compute_frequency_sentence(dict_article)\n",
    "print(\"Taille du dictionnaire des frequences de mots pour les articles: \"+str(len(dict_article_freq.keys())))\n",
    "\n",
    "dict_highlight_freq = p6_util_activity.compute_frequency_sentence(dict_highlight)\n",
    "print(\"Taille du dictionnaire des frequences de mots pour les hightlights: \"+str(len(dict_highlight_freq.keys())))\n"
   ]
  },
  {
   "cell_type": "markdown",
   "metadata": {},
   "source": [
    "**Plot of word frequencies from raw files**"
   ]
  },
  {
   "cell_type": "markdown",
   "metadata": {},
   "source": [
    "* Plot of frequencies for hilights."
   ]
  },
  {
   "cell_type": "code",
   "execution_count": 5,
   "metadata": {},
   "outputs": [
    {
     "data": {
      "image/png": "[encoded data removed]",
      "text/plain": [
       "<matplotlib.figure.Figure at 0xabdd61ac>"
      ]
     },
     "metadata": {},
     "output_type": "display_data"
    }
   ],
   "source": [
    "import p6_util_activity\n",
    "\n",
    "p6_util_activity.dict_plot_frequency(dict_highlight_freq,\"Raw highlights\",query=\"Freq>10\")"
   ]
  },
  {
   "cell_type": "markdown",
   "metadata": {},
   "source": [
    "* Plot of frequencies for articles."
   ]
  },
  {
   "cell_type": "code",
   "execution_count": 6,
   "metadata": {},
   "outputs": [
    {
     "data": {
      "image/png": "[encoded data removed]",
      "text/plain": [
       "<matplotlib.figure.Figure at 0xabd6d82c>"
      ]
     },
     "metadata": {},
     "output_type": "display_data"
    }
   ],
   "source": [
    "import p6_util_activity\n",
    "\n",
    "p6_util_activity.dict_plot_frequency(dict_article_freq,\"Raw articles\",query=\"Freq>200\")"
   ]
  },
  {
   "cell_type": "markdown",
   "metadata": {},
   "source": [
    "#### TF-IDF computing for raw articles and highlights\n",
    "\n",
    "* TF-IDF are computed for both type of content (raw articles and raw highlights)"
   ]
  },
  {
   "cell_type": "code",
   "execution_count": 7,
   "metadata": {},
   "outputs": [
    {
     "name": "stdout",
     "output_type": "stream",
     "text": [
      "Taille du dictionnaire des valeurs TFIDF des mots pour les articles bruts: 9624\n",
      "Taille du dictionnaire des valeurs TFIDF des mots pour les highlights bruts: 1942\n"
     ]
    }
   ],
   "source": [
    "import p6_util_activity\n",
    "\n",
    "tfidf_vectorizer = p6_util_activity.compute_tfidf(dict_article, doc_type='string')\n",
    "dict_tfidf_art = p6_util_activity.get_dict_tfidf(tfidf_vectorizer)\n",
    "print(\"Taille du dictionnaire des valeurs TFIDF des mots pour les articles bruts: \"+str(len(dict_tfidf_art.keys())))\n",
    "\n",
    "tfidf_vectorizer= p6_util_activity.compute_tfidf(dict_highlight, doc_type='string')\n",
    "dict_tfidf_hig = p6_util_activity.get_dict_tfidf(tfidf_vectorizer)\n",
    "print(\"Taille du dictionnaire des valeurs TFIDF des mots pour les highlights bruts: \"+str(len(dict_tfidf_hig.keys())))\n"
   ]
  },
  {
   "cell_type": "markdown",
   "metadata": {},
   "source": [
    "**NLP process for articles : **\n",
    "* removing stopwords for english language\n",
    "* removing punctuation\n",
    "* tokenizing each document"
   ]
  },
  {
   "cell_type": "code",
   "execution_count": 22,
   "metadata": {},
   "outputs": [],
   "source": [
    "import nltk\n",
    "\n",
    "for root_name in dict_article.keys():\n",
    "    article = p6_util_activity.cb_remove_punctuation(dict_article[root_name])\n",
    "    article = p6_util_activity.cb_remove_stopwords(article)\n",
    "    dict_article[root_name] = nltk.word_tokenize(article)\n"
   ]
  },
  {
   "cell_type": "markdown",
   "metadata": {},
   "source": [
    "**NLP process for highlights : **\n",
    "* removing punctuation\n",
    "* tokenizing each document"
   ]
  },
  {
   "cell_type": "code",
   "execution_count": 23,
   "metadata": {},
   "outputs": [],
   "source": [
    "import nltk\n",
    "\n",
    "for root_name in dict_highlight.keys():\n",
    "    highlight = p6_util_activity.cb_remove_punctuation(dict_highlight[root_name])\n",
    "    dict_highlight[root_name] = nltk.word_tokenize(highlight)\n"
   ]
  },
  {
   "cell_type": "markdown",
   "metadata": {},
   "source": [
    "**Writing pair of cleaned files : articles and highllights**\n",
    "\n",
    "Resulting files are created into directory ``cnn_new``.\n",
    "\n",
    "They are named with same root-name then original files.\n",
    "\n",
    "Extension ``.art`` are tokenized files containing articles.\n",
    "\n",
    "Extension ``.hig`` are tokenized files containing highlights concatened contents.\n",
    "\n",
    "Files names with same root name are those for which highlights and articles do match.\n",
    "\n",
    "\n"
   ]
  },
  {
   "cell_type": "code",
   "execution_count": 24,
   "metadata": {},
   "outputs": [
    {
     "name": "stdout",
     "output_type": "stream",
     "text": [
      "Directory ./data/cnn_new Already exists!\n"
     ]
    }
   ],
   "source": [
    "import p6_util_activity\n",
    "\n",
    "cnn_new_dir = file_path\n",
    "p6_util_activity.build_directory(cnn_new_dir)\n",
    "\n",
    "p6_util_activity.write_train_set(cnn_new_dir, dict_article, dict_highlight)"
   ]
  },
  {
   "cell_type": "markdown",
   "metadata": {},
   "source": [
    "**Read cleaned files**"
   ]
  },
  {
   "cell_type": "code",
   "execution_count": 25,
   "metadata": {},
   "outputs": [
    {
     "name": "stdout",
     "output_type": "stream",
     "text": [
      "100 100\n"
     ]
    }
   ],
   "source": [
    "import p6_util_activity\n",
    "dict_article, dict_highlight = p6_util_activity.read_train_set(file_path,read_count=max_read_count)\n",
    "print(len(dict_article), len(dict_highlight))"
   ]
  },
  {
   "cell_type": "markdown",
   "metadata": {},
   "source": [
    "#### Frequencies computing over articles and highlights issued from cleaned files\n",
    "\n",
    "* Cleaned files for articles and hilights are read.\n",
    "* Frequencies are computed for both type of content (articles and highlights)"
   ]
  },
  {
   "cell_type": "code",
   "execution_count": 26,
   "metadata": {},
   "outputs": [
    {
     "name": "stdout",
     "output_type": "stream",
     "text": [
      "Taille du dictionnaire des frequences des mots pour les articles traités: 9624\n",
      "Taille du dictionnaire des fréquences des mots pour les highlights traités: 1942\n"
     ]
    }
   ],
   "source": [
    "import p6_util_activity\n",
    "\n",
    "dict_freq_art = p6_util_activity.compute_frequency(dict_article)\n",
    "print(\"Taille du dictionnaire des frequences des mots pour les articles traités: \"+str(len(dict_tfidf_art.keys())))\n",
    "\n",
    "dict_freq_hig = p6_util_activity.compute_frequency(dict_highlight)\n",
    "print(\"Taille du dictionnaire des fréquences des mots pour les highlights traités: \"+str(len(dict_tfidf_hig.keys())))\n"
   ]
  },
  {
   "cell_type": "markdown",
   "metadata": {},
   "source": [
    "**Plot of word frequencies from cleaned files**"
   ]
  },
  {
   "cell_type": "markdown",
   "metadata": {},
   "source": [
    "* Plot of frequencies for clean hilights."
   ]
  },
  {
   "cell_type": "code",
   "execution_count": 27,
   "metadata": {},
   "outputs": [
    {
     "data": {
      "image/png": "[encoded data removed]",
      "text/plain": [
       "<matplotlib.figure.Figure at 0xa4f69ecc>"
      ]
     },
     "metadata": {},
     "output_type": "display_data"
    }
   ],
   "source": [
    "import p6_util_activity\n",
    "\n",
    "p6_util_activity.dict_plot_frequency(dict_freq_hig,\"Cleaned highlights\",query=\"Freq>10\")"
   ]
  },
  {
   "cell_type": "markdown",
   "metadata": {},
   "source": [
    "* Plot of frequencies for claned articles."
   ]
  },
  {
   "cell_type": "code",
   "execution_count": 28,
   "metadata": {},
   "outputs": [
    {
     "data": {
      "image/png": "[encoded data removed]",
      "text/plain": [
       "<matplotlib.figure.Figure at 0xa4b8d94c>"
      ]
     },
     "metadata": {},
     "output_type": "display_data"
    }
   ],
   "source": [
    "import p6_util_activity\n",
    "\n",
    "p6_util_activity.dict_plot_frequency(dict_freq_art,\"Cleaned articles\",query=\"Freq>50\")"
   ]
  },
  {
   "cell_type": "markdown",
   "metadata": {},
   "source": [
    "#### TF-IDF computing over articles and highlights\n",
    "\n",
    "* Files from cleaned articles and hilights are read.\n",
    "* TF-IDF weights are computed for both type of content (articles and highlights)"
   ]
  },
  {
   "cell_type": "code",
   "execution_count": 29,
   "metadata": {},
   "outputs": [
    {
     "name": "stdout",
     "output_type": "stream",
     "text": [
      "100 100\n"
     ]
    }
   ],
   "source": [
    "import p6_util_activity\n",
    "dict_article, dict_highlight = p6_util_activity.read_train_set(file_path)\n",
    "print(len(dict_article), len(dict_highlight))"
   ]
  },
  {
   "cell_type": "code",
   "execution_count": 30,
   "metadata": {},
   "outputs": [
    {
     "name": "stdout",
     "output_type": "stream",
     "text": [
      "Taille du dictionnaire des valeurs TFIDF des mots pour les articles traités: 11495\n",
      "Taille du dictionnaire des valeurs TFIDF des mots pour les highlights traités: 1988\n"
     ]
    }
   ],
   "source": [
    "import p6_util_activity\n",
    "\n",
    "vectorizer = p6_util_activity.compute_tfidf(dict_article, doc_type='string')\n",
    "dict_tfidf_art = p6_util_activity.get_dict_tfidf(vectorizer)\n",
    "print(\"Taille du dictionnaire des valeurs TFIDF des mots pour les articles traités: \"+str(len(dict_tfidf_art.keys())))\n",
    "\n",
    "vectorizer = p6_util_activity.compute_tfidf(dict_highlight, doc_type='string')\n",
    "dict_tfidf_hig = p6_util_activity.get_dict_tfidf(vectorizer)\n",
    "print(\"Taille du dictionnaire des valeurs TFIDF des mots pour les highlights traités: \"+str(len(dict_tfidf_hig.keys())))\n"
   ]
  },
  {
   "cell_type": "markdown",
   "metadata": {},
   "source": [
    "### Test highlights predictions"
   ]
  },
  {
   "cell_type": "markdown",
   "metadata": {},
   "source": [
    "**Read cleaned files**"
   ]
  },
  {
   "cell_type": "code",
   "execution_count": 31,
   "metadata": {},
   "outputs": [
    {
     "name": "stdout",
     "output_type": "stream",
     "text": [
      "100 100\n"
     ]
    }
   ],
   "source": [
    "import p6_util_activity\n",
    "dict_article, dict_highlight = p6_util_activity.read_train_set(file_path,read_count=max_read_count)\n",
    "print(len(dict_article), len(dict_highlight))"
   ]
  },
  {
   "cell_type": "markdown",
   "metadata": {},
   "source": [
    "**Data is splitted into train and test**\n",
    "\n",
    "* 70% dataset for training model\n",
    "* 30% dataset for testing model"
   ]
  },
  {
   "cell_type": "code",
   "execution_count": 32,
   "metadata": {},
   "outputs": [
    {
     "name": "stdout",
     "output_type": "stream",
     "text": [
      "70 30 70 30\n"
     ]
    }
   ],
   "source": [
    "import p6_util_activity\n",
    "dict_X_train, dict_X_test, dict_y_train, dict_y_test = p6_util_activity.split_train_test(dict_article, dict_highlight, train_ratio = 0.7)\n",
    "print(len(dict_X_train), len(dict_X_test), len(dict_y_train), len(dict_y_test))"
   ]
  },
  {
   "cell_type": "markdown",
   "metadata": {},
   "source": [
    "Compute TFIDF matrix from ``X`` using ``TfidfTransformer`` with option ``use_idf=True`` (default option)"
   ]
  },
  {
   "cell_type": "code",
   "execution_count": 33,
   "metadata": {},
   "outputs": [],
   "source": [
    "from sklearn.feature_extraction.text import TfidfVectorizer\n",
    "\n",
    "vectorizer=TfidfVectorizer(norm=\"l2\", use_idf=True)\n",
    "X_train = vectorizer.fit_transform(dict_X_train.values())\n",
    "y_train = list(dict_y_train.values())"
   ]
  },
  {
   "cell_type": "markdown",
   "metadata": {},
   "source": [
    "Use ``MultinomialNB`` as predictor"
   ]
  },
  {
   "cell_type": "code",
   "execution_count": 34,
   "metadata": {},
   "outputs": [],
   "source": [
    "from sklearn.naive_bayes import MultinomialNB\n",
    "clf = MultinomialNB().fit(X_train, y_train)"
   ]
  },
  {
   "cell_type": "code",
   "execution_count": 35,
   "metadata": {},
   "outputs": [],
   "source": [
    "X_test = vectorizer.transform(dict_X_test.values())\n",
    "y_test=list(dict_y_test.values())"
   ]
  },
  {
   "cell_type": "code",
   "execution_count": 36,
   "metadata": {},
   "outputs": [],
   "source": [
    "y_pred = clf.predict(X_test)"
   ]
  },
  {
   "cell_type": "code",
   "execution_count": 37,
   "metadata": {},
   "outputs": [
    {
     "name": "stdout",
     "output_type": "stream",
     "text": [
      "new tournament will go on without woods president of golfers foundation says woods had minor injuries in the onecar crash near his home early friday police will continue investigating after woods delays giving statement for third time woods on web site the only person responsible for the accident is me\n",
      "\n",
      "---------------------------------\n",
      "\n",
      "former aide to jim mcgreevey says he and the couple had sexual relations dina matos mcgreevey denies says husband has cronies after her jim mcgreevey confirms aides accounts given to reporters mcgreeveys are in the process of divorcing he announced resignation in 04\n",
      "\n",
      "\n",
      "---------------------------------\n",
      "\n"
     ]
    }
   ],
   "source": [
    "n=10\n",
    "print(y_pred[n])\n",
    "print(\"\\n---------------------------------\\n\")\n",
    "print(y_test[n])\n",
    "print(\"\\n\\n---------------------------------\\n\")\n",
    "#print(vectorizer.inverse_transform(X_test[n]))\n"
   ]
  },
  {
   "cell_type": "markdown",
   "metadata": {},
   "source": [
    "Use ``RandomForest`` as predictor"
   ]
  },
  {
   "cell_type": "code",
   "execution_count": 38,
   "metadata": {},
   "outputs": [],
   "source": [
    "from sklearn.ensemble import RandomForestClassifier\n",
    "\n",
    "nb_estimators = 20\n",
    "rfc = RandomForestClassifier(n_estimators=nb_estimators)\n",
    "rfc_model = rfc.fit(X_train, y_train)\n",
    "y_pred = rfc_model.predict(X_test)"
   ]
  },
  {
   "cell_type": "code",
   "execution_count": 39,
   "metadata": {},
   "outputs": [
    {
     "name": "stdout",
     "output_type": "stream",
     "text": [
      "canada says patient who traveled to nigeria tested negative for the virus zambia bans travelers from ebola countries guinea liberia and sierra leone and nigeria are battling ebola\n",
      "\n",
      "---------------------------------\n",
      "\n",
      "former aide to jim mcgreevey says he and the couple had sexual relations dina matos mcgreevey denies says husband has cronies after her jim mcgreevey confirms aides accounts given to reporters mcgreeveys are in the process of divorcing he announced resignation in 04\n",
      "\n",
      "\n",
      "---------------------------------\n",
      "\n"
     ]
    }
   ],
   "source": [
    "n=10\n",
    "print(y_pred[n])\n",
    "print(\"\\n---------------------------------\\n\")\n",
    "print(y_test[n])\n",
    "print(\"\\n\\n---------------------------------\\n\")\n"
   ]
  }
 ],
 "metadata": {
  "kernelspec": {
   "display_name": "Python 3",
   "language": "python",
   "name": "python3"
  },
  "language_info": {
   "codemirror_mode": {
    "name": "ipython",
    "version": 3
   },
   "file_extension": ".py",
   "mimetype": "text/x-python",
   "name": "python",
   "nbconvert_exporter": "python",
   "pygments_lexer": "ipython3",
   "version": "3.7.0"
  }
 },
 "nbformat": 4,
 "nbformat_minor": 2
}
