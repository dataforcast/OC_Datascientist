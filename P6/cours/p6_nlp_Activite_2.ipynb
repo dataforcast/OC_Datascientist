{
 "cells": [
  {
   "cell_type": "markdown",
   "metadata": {},
   "source": [
    "<!--NOTEBOOK_INFORMATION-->\n",
    "<img align=\"left\" style=\"padding-right:10px;\" src=\"./figures/LogoOpenclassrooms.png\">\n",
    "<font size=\"4\">\n",
    "<p>\n",
    "Cette activité est réalisée dans le cadre du cours ``Analysez vos données textuelles`` diffusé en MOOC par\n",
    "<font color='blus'>Openclassrooms</font>.\n",
    "</p>\n",
    "...   \n",
    "<p>\n",
    "...   \n",
    "</p>\n",
    "\n",
    "**Consignes**: \n",
    "\n",
    "* Charger les données\n",
    "* Créer différents classifieurs (au moins 3)\n",
    "* Effectuer une validation croisée sur les différents classifieurs\n",
    "* Afficher les différentes performances\n",
    "\n",
    "<p>\n",
    "Le jeu de données est relativement lourd pour un travail en local, avec 650MB compressé de données. Il est conseillé de travailler sur un échantillon dans un premier temps pour s’assurer que tout fonctionne comme prévu pour ensuite traiter tout le jeu de données et obtenir les résultats finaux.    \n",
    "</p>"
   ]
  },
  {
   "cell_type": "code",
   "execution_count": 1,
   "metadata": {},
   "outputs": [],
   "source": [
    "#-------------------------------------------------------------------------------\n",
    "# Constants for this notebook\n",
    "#-------------------------------------------------------------------------------\n",
    "file_name_train = './data/rcv1_train.dump'\n",
    "IS_LOCAL_DATASET=True\n",
    "IS_LOCAL_DATASET_TEST=False\n",
    "\n",
    "N_JOBS=-1\n",
    "\n",
    "#-------------------------------------------------------------------------------\n",
    "# Those ratio for dimensioning X and y vectors.\n",
    "#-------------------------------------------------------------------------------\n",
    "train_ratio = 0.7\n",
    "test_ratio = 0.01"
   ]
  },
  {
   "cell_type": "code",
   "execution_count": 2,
   "metadata": {},
   "outputs": [],
   "source": [
    "import numpy as np\n",
    "\n",
    "from sklearn import preprocessing\n",
    "from sklearn import metrics\n",
    "\n",
    "\n",
    "#-------------------------------------------------------------------------------\n",
    "#\n",
    "#-------------------------------------------------------------------------------\n",
    "def X_y_ratio(X,y,train_ratio):\n",
    "    train_range= int(X.shape[0]*train_ratio)\n",
    "    X_ratio=X[:train_range]\n",
    "    y_ratio=y[:train_range]\n",
    "    \n",
    "    return X_ratio, y_ratio\n",
    "#-------------------------------------------------------------------------------\n",
    "\n",
    "\n",
    "import matplotlib.pyplot as plt\n",
    "\n",
    "#-------------------------------------------------------------------------------\n",
    "#\n",
    "#-------------------------------------------------------------------------------\n",
    "def ser_item_occurency_plot(ser_item_name, ser_item_count, item_count=None, title=None):\n",
    "    \"\"\"Plot values issued form 2 Series as following : \n",
    "    First Series contains items names\n",
    "    Second Series contains items occutencies.\n",
    "    \n",
    "    \"\"\"\n",
    "    df_item_dict={item:count for item, count \\\n",
    "    in zip(ser_item_name, ser_item_count)}\n",
    "\n",
    "    list_item_sorted \\\n",
    "    = sorted(df_item_dict.items(), key=lambda x: x[1], reverse=False)\n",
    "\n",
    "    dict_item_sorted = dict()\n",
    "    for tuple_value in list_item_sorted :\n",
    "        dict_item_sorted[tuple_value[0]] = tuple_value[1]\n",
    "\n",
    "\n",
    "    X = list(dict_item_sorted.keys())\n",
    "    y = list(dict_item_sorted.values())\n",
    "\n",
    "    fig, ax = plt.subplots(figsize=(20,10))\n",
    "\n",
    "    if item_count is not None:\n",
    "        X_plot = X[:item_count]\n",
    "        y_plot = y[:item_count]\n",
    "    else:\n",
    "        X_plot = X.copy()\n",
    "        y_plot = y.copy()\n",
    "    \n",
    "    ax.plot(X_plot,y_plot)\n",
    "    ax.set_xticklabels(X[:item_count], rotation=90)\n",
    "    ax.set_xlabel('Accuracy')\n",
    "    ax.set_ylabel('Classifiers')\n",
    "    if title is not None : \n",
    "        ax.set_title(title)\n",
    "    ax.grid(linestyle='-', linewidth='0.1', color='grey')\n",
    "    fig.patch.set_facecolor('#E0E0E0')\n",
    "\n",
    "    plt.show()\n",
    "#-------------------------------------------------------------------------------\n"
   ]
  },
  {
   "cell_type": "markdown",
   "metadata": {},
   "source": [
    "# <font color='blus'>1. Data acquisition</font>\n",
    "\n",
    "**From http://scikit-learn.org/stable/datasets/rcv1.html**\n",
    "\n",
    "``data``: The feature matrix is a scipy CSR sparse matrix, with 804414 samples and 47236 features. \n",
    "\n",
    "Non-zero values contains cosine-normalized, log TF-IDF vectors. \n",
    "\n",
    "A nearly chronological split is proposed in [1]: \n",
    "\n",
    "* The first 23149 samples are the training set. \n",
    "* The last 781265 samples are the testing set. \n",
    "\n",
    "This follows the official LYRL2004 chronological split. \n",
    "\n",
    "The array has 0.16% of non zero values:"
   ]
  },
  {
   "cell_type": "markdown",
   "metadata": {},
   "source": [
    "## <font color='blus'>1.1. Loading train dataset </font>"
   ]
  },
  {
   "cell_type": "code",
   "execution_count": 3,
   "metadata": {},
   "outputs": [
    {
     "name": "stdout",
     "output_type": "stream",
     "text": [
      "\n",
      "*** Loading local train dataset ...\n",
      "./data/rcv1_train.dump\n",
      "\n",
      "p5_util.object_load : fileName= ./data/rcv1_train.dump\n",
      "\n",
      "*** Local train dataset loaded!\n",
      "\n",
      "*** Train target : (103,)\n",
      "\n",
      "*** Train data : (23149, 47236)\n"
     ]
    }
   ],
   "source": [
    "# RCV1 : Reuters Corpus Volume I \n",
    "from sklearn.datasets import fetch_rcv1\n",
    "\n",
    "import p5_util\n",
    "\n",
    "if IS_LOCAL_DATASET is False:\n",
    "    #------------------------------------------------------------------------\n",
    "    # Loading train dataset\n",
    "    #------------------------------------------------------------------------\n",
    "    rcv1_train = fetch_rcv1(subset='train')\n",
    "    file_name = file_name_train\n",
    "    #------------------------------------------------------------------------\n",
    "    # Dumping train dataset\n",
    "    #------------------------------------------------------------------------\n",
    "    p5_util.object_dump(rcv1_train, file_name)\n",
    "else:\n",
    "    print(\"\\n*** Loading local train dataset ...\")\n",
    "    print(file_name_train+str(\"\\n\"))\n",
    "    rcv1_train = p5_util.object_load(file_name_train)\n",
    "    print(\"\\n*** Local train dataset loaded!\")\n",
    "\n",
    "print(\"\\n*** Train target : \"+str(rcv1_train.target_names.shape))\n",
    "print(\"\\n*** Train data : \"+str(rcv1_train.data.shape))\n",
    "\n",
    "X_train = rcv1_train.data\n",
    "y_train = rcv1_train.target\n",
    "del(rcv1_train)"
   ]
  },
  {
   "cell_type": "markdown",
   "metadata": {},
   "source": [
    "## <font color='blus'>1.2. Loading test dataset from corpus</font>"
   ]
  },
  {
   "cell_type": "code",
   "execution_count": 4,
   "metadata": {},
   "outputs": [
    {
     "name": "stdout",
     "output_type": "stream",
     "text": [
      "\n",
      "*** Loading local test dataset ...\n",
      "p5_util.object_load : fileName= ./data/rcv1_test_data_0.dump\n",
      "./data/rcv1_test_data_0.dump (100000, 47236)\n",
      "p5_util.object_load : fileName= ./data/rcv1_test_data_1.dump\n",
      "./data/rcv1_test_data_1.dump (200000, 47236)\n",
      "p5_util.object_load : fileName= ./data/rcv1_test_data_2.dump\n",
      "./data/rcv1_test_data_2.dump (300000, 47236)\n",
      "p5_util.object_load : fileName= ./data/rcv1_test_data_3.dump\n",
      "./data/rcv1_test_data_3.dump (400000, 47236)\n",
      "p5_util.object_load : fileName= ./data/rcv1_test_data_4.dump\n",
      "./data/rcv1_test_data_4.dump (500000, 47236)\n",
      "p5_util.object_load : fileName= ./data/rcv1_test_data_5.dump\n",
      "./data/rcv1_test_data_5.dump (600000, 47236)\n",
      "p5_util.object_load : fileName= ./data/rcv1_test_data_6.dump\n",
      "./data/rcv1_test_data_6.dump (700000, 47236)\n",
      "p5_util.object_load : fileName= ./data/rcv1_test_data_7.dump\n",
      "./data/rcv1_test_data_7.dump (781258, 47236)\n",
      "\n",
      " Loading splited file done!\n",
      "\n",
      "p5_util.object_load : fileName= ./data/rcv1_test_target_0.dump\n",
      "./data/rcv1_test_target_0.dump (100000, 103)\n",
      "p5_util.object_load : fileName= ./data/rcv1_test_target_1.dump\n",
      "./data/rcv1_test_target_1.dump (200000, 103)\n",
      "p5_util.object_load : fileName= ./data/rcv1_test_target_2.dump\n",
      "./data/rcv1_test_target_2.dump (300000, 103)\n",
      "p5_util.object_load : fileName= ./data/rcv1_test_target_3.dump\n",
      "./data/rcv1_test_target_3.dump (400000, 103)\n",
      "p5_util.object_load : fileName= ./data/rcv1_test_target_4.dump\n",
      "./data/rcv1_test_target_4.dump (500000, 103)\n",
      "p5_util.object_load : fileName= ./data/rcv1_test_target_5.dump\n",
      "./data/rcv1_test_target_5.dump (600000, 103)\n",
      "p5_util.object_load : fileName= ./data/rcv1_test_target_6.dump\n",
      "./data/rcv1_test_target_6.dump (700000, 103)\n",
      "p5_util.object_load : fileName= ./data/rcv1_test_target_7.dump\n",
      "./data/rcv1_test_target_7.dump (781258, 103)\n",
      "\n",
      " Loading splited file done!\n",
      "\n",
      "p5_util.object_load : fileName= ./data/rcv1_test_sample_id_0.dump\n",
      "./data/rcv1_test_sample_id_0.dump (100000,)\n",
      "p5_util.object_load : fileName= ./data/rcv1_test_sample_id_1.dump\n",
      "./data/rcv1_test_sample_id_1.dump (200000,)\n",
      "p5_util.object_load : fileName= ./data/rcv1_test_sample_id_2.dump\n",
      "./data/rcv1_test_sample_id_2.dump (300000,)\n",
      "p5_util.object_load : fileName= ./data/rcv1_test_sample_id_3.dump\n",
      "./data/rcv1_test_sample_id_3.dump (400000,)\n",
      "p5_util.object_load : fileName= ./data/rcv1_test_sample_id_4.dump\n",
      "./data/rcv1_test_sample_id_4.dump (500000,)\n",
      "p5_util.object_load : fileName= ./data/rcv1_test_sample_id_5.dump\n",
      "./data/rcv1_test_sample_id_5.dump (600000,)\n",
      "p5_util.object_load : fileName= ./data/rcv1_test_sample_id_6.dump\n",
      "./data/rcv1_test_sample_id_6.dump (700000,)\n",
      "p5_util.object_load : fileName= ./data/rcv1_test_sample_id_7.dump\n",
      "./data/rcv1_test_sample_id_7.dump (781258,)\n",
      "\n",
      " Loading splited file done!\n",
      "\n",
      "p5_util.object_load : fileName= ./data/rcv1_test_target_names_0.dump\n",
      "./data/rcv1_test_target_names_0.dump (103,)\n",
      "\n",
      " Loading splited file done!\n",
      "\n",
      "\n",
      "*** Local test dataset loaded!\n",
      "\n",
      "*** Test dataset dictionary keys : dict_keys(['data', 'target', 'sample_id', 'target_names'])\n",
      "\n",
      "*** Test target sizing : (103,)\n",
      "\n",
      "*** Test data sizing : (781258, 47236)\n"
     ]
    }
   ],
   "source": [
    "import p5_util\n",
    "\n",
    "data_path = \"./data\"\n",
    "core_name = \"rcv1_test\"\n",
    "\n",
    "# RCV1 : Reuters Corpus Volume I \n",
    "from sklearn.datasets import fetch_rcv1\n",
    "data_path = \"./data\"\n",
    "core_name = \"rcv1_test\"\n",
    "\n",
    "if IS_LOCAL_DATASET_TEST is False:\n",
    "    #------------------------------------------------------------------------\n",
    "    # Loading test dataset\n",
    "    #------------------------------------------------------------------------\n",
    "    rcv1_test = fetch_rcv1(subset='test')\n",
    "    print(rcv1_test.keys(),rcv1_test.data.shape)\n",
    "    \n",
    "    #------------------------------------------------------------------------\n",
    "    # Dumping test dataset\n",
    "    #------------------------------------------------------------------------\n",
    "    p5_util.bunch_dump(rcv1_test, 100000, data_path, core_name)    \n",
    "else:\n",
    "    print(\"\\n*** Loading local test dataset ...\")\n",
    "    list_key = ['data', 'target', 'sample_id', 'target_names',]\n",
    "    data_len=781265\n",
    "    row_packet=100000\n",
    "    dict_rcv1_test = p5_util.bunch_load(list_key, data_len, row_packet, data_path, core_name)\n",
    "    print(\"\\n*** Local test dataset loaded!\")\n",
    "\n",
    "print(\"\\n*** Test dataset dictionary keys : \"+str(dict_rcv1_test.keys()))\n",
    "print(\"\\n*** Test target sizing : \"+str(dict_rcv1_test['target_names'].shape))\n",
    "print(\"\\n*** Test data sizing : \"+str(dict_rcv1_test['data'].shape))\n",
    "\n",
    "X_test = dict_rcv1_test['data']\n",
    "y_test = dict_rcv1_test['target']\n",
    "del(dict_rcv1_test)"
   ]
  },
  {
   "cell_type": "code",
   "execution_count": 5,
   "metadata": {
    "scrolled": true
   },
   "outputs": [
    {
     "name": "stdout",
     "output_type": "stream",
     "text": [
      "(781258, 47236) (781258, 103)\n",
      "(7812, 47236) (7812, 103)\n"
     ]
    }
   ],
   "source": [
    "print(X_test.shape, y_test.shape)\n",
    "X_test, y_test = X_y_ratio(X_test, y_test, test_ratio)\n",
    "print(X_test.shape, y_test.shape)"
   ]
  },
  {
   "cell_type": "code",
   "execution_count": 6,
   "metadata": {},
   "outputs": [
    {
     "name": "stdout",
     "output_type": "stream",
     "text": [
      "(23149, 47236) (23149, 103)\n",
      "(16204, 47236) (16204, 103)\n"
     ]
    }
   ],
   "source": [
    "print(X_train.shape, y_train.shape)\n",
    "X_train, y_train = X_y_ratio(X_train, y_train, train_ratio)\n",
    "print(X_train.shape, y_train.shape)"
   ]
  },
  {
   "cell_type": "markdown",
   "metadata": {},
   "source": [
    "# <font color='blus'>2. Applying classifiers over dataset</font>"
   ]
  },
  {
   "cell_type": "markdown",
   "metadata": {},
   "source": [
    "**Classsifiers score are stored into dictionary**"
   ]
  },
  {
   "cell_type": "code",
   "execution_count": null,
   "metadata": {},
   "outputs": [],
   "source": [
    "dict_classifer_score=dict()"
   ]
  },
  {
   "cell_type": "markdown",
   "metadata": {},
   "source": [
    "## <font color='blus'>2.1. Multinomial Naive Bayes classifier with binary relevance</font>"
   ]
  },
  {
   "cell_type": "markdown",
   "metadata": {},
   "source": [
    "Due to multiple targets classes, `OneVsRestClassifier` classifier is applied on Multinomial Naive Bayes classifier. \n",
    "\n",
    "One classifier per class is fitted.\n",
    "\n",
    "**Note : change N_JOBS value if required. Default value is fixed to 8.** \n",
    "\n",
    "*See constants assignation into fisrt cells from this notebook.*"
   ]
  },
  {
   "cell_type": "markdown",
   "metadata": {},
   "source": [
    "### <font color='blus'>2.1.1. Training Multinomial Naive Bayes classifier</font>"
   ]
  },
  {
   "cell_type": "markdown",
   "metadata": {},
   "source": [
    "One versus Rest transformation ispallied Naive Bayes classifier."
   ]
  },
  {
   "cell_type": "code",
   "execution_count": null,
   "metadata": {},
   "outputs": [],
   "source": [
    "from sklearn.naive_bayes import MultinomialNB\n",
    "from sklearn.multiclass import OneVsRestClassifier\n",
    "\n",
    "classifier_mnb = OneVsRestClassifier(MultinomialNB()).fit(X_train, y_train)"
   ]
  },
  {
   "cell_type": "markdown",
   "metadata": {},
   "source": [
    "### <font color='blus'>2.1.2. Classifier evaluation </font>"
   ]
  },
  {
   "cell_type": "code",
   "execution_count": null,
   "metadata": {},
   "outputs": [],
   "source": [
    "from sklearn.metrics import accuracy_score\n",
    "y_pred = classifier_mnb.predict(X_test)\n",
    "\n",
    "classifier_mnb_score = accuracy_score(y_test,y_pred)\n",
    "\n",
    "print(\"Accuracy score for MNB classifier composed with OvR: {0:1.2F} %\".format(classifier_mnb_score*100))"
   ]
  },
  {
   "cell_type": "code",
   "execution_count": null,
   "metadata": {},
   "outputs": [],
   "source": [
    "dict_classifer_score['MNB'] = classifier_mnb_score"
   ]
  },
  {
   "cell_type": "code",
   "execution_count": null,
   "metadata": {},
   "outputs": [],
   "source": [
    "import p5_util\n",
    "file_name='./data/dict_classifer_score.dump'\n",
    "p5_util.object_dump(dict_classifer_score, file_name)"
   ]
  },
  {
   "cell_type": "markdown",
   "metadata": {},
   "source": [
    "## <font color='blus'>2.2. Chained Multinomial Naive Bayes classifier</font>"
   ]
  },
  {
   "cell_type": "markdown",
   "metadata": {},
   "source": [
    "### <font color='blus'>2.2.1. Training Chained Naive Bayes classifier</font>"
   ]
  },
  {
   "cell_type": "code",
   "execution_count": null,
   "metadata": {},
   "outputs": [],
   "source": [
    "#from nltk.classify import NaiveBayesClassifier\n",
    "#from sklearn.multioutput import ClassifierChain\n",
    "from skmultilearn.problem_transform import ClassifierChain\n",
    "\n",
    "from sklearn.naive_bayes import GaussianNB\n",
    "from sklearn.naive_bayes import MultinomialNB\n",
    "from sklearn.linear_model import LogisticRegression\n"
   ]
  },
  {
   "cell_type": "code",
   "execution_count": null,
   "metadata": {},
   "outputs": [],
   "source": [
    "chained_classifier_mnb = ClassifierChain(MultinomialNB())"
   ]
  },
  {
   "cell_type": "code",
   "execution_count": null,
   "metadata": {},
   "outputs": [],
   "source": [
    "chained_classifier_mnb.fit(X_train , y_train)"
   ]
  },
  {
   "cell_type": "code",
   "execution_count": null,
   "metadata": {},
   "outputs": [],
   "source": [
    "import p5_util\n",
    "file_name='./data/chained_classifier_mnb.dump'\n",
    "p5_util.object_dump(chained_classifier_mnb, file_name)"
   ]
  },
  {
   "cell_type": "code",
   "execution_count": null,
   "metadata": {},
   "outputs": [],
   "source": [
    "import p5_util\n",
    "file_name='./data/dict_classifer_score.dump'\n",
    "p5_util.object_dump(dict_classifer_score, file_name)"
   ]
  },
  {
   "cell_type": "markdown",
   "metadata": {},
   "source": [
    "### <font color='blus'>2.2.2. Chained classifier evaluation </font>"
   ]
  },
  {
   "cell_type": "code",
   "execution_count": null,
   "metadata": {},
   "outputs": [],
   "source": [
    "import p5_util\n",
    "file_name='./data/chained_classifier_mnb.dump'\n",
    "chained_classifier_mnb = p5_util.object_load(file_name)\n",
    "\n",
    "file_name='./data/dict_classifer_score.dump'\n",
    "dict_classifer_score = p5_util.object_load(file_name)\n"
   ]
  },
  {
   "cell_type": "code",
   "execution_count": null,
   "metadata": {},
   "outputs": [],
   "source": [
    "chained_classifier_mnb_score = chained_classifier_mnb.score(X_test ,y_test)\n",
    "\n",
    "print(\"Mean score for Chained Multinomial Naive Bayes classifier : {0:1.2F} %\".format(chained_classifier_mnb_score*100))"
   ]
  },
  {
   "cell_type": "markdown",
   "metadata": {},
   "source": [
    "from sklearn.metrics import accuracy_score\n",
    "y_pred = classifier_mnb_chained.predict(X_test_size)\n",
    "\n",
    "chained_classifier_mnb_score = accuracy_score(y_test,y_pred)\n",
    "\n",
    "print(\"Accuracy score for chained MNB classifier : {0:1.2F} %\".format(score*100))"
   ]
  },
  {
   "cell_type": "markdown",
   "metadata": {},
   "source": [
    "This result is not better then the one with OvR (binary relevance) transformation.\n",
    "\n",
    "It then can be suspected that Labels are independants from each other."
   ]
  },
  {
   "cell_type": "code",
   "execution_count": null,
   "metadata": {},
   "outputs": [],
   "source": [
    "dict_classifer_score['Chained MNB'] = chained_classifier_mnb_score"
   ]
  },
  {
   "cell_type": "code",
   "execution_count": null,
   "metadata": {},
   "outputs": [],
   "source": [
    "import p5_util\n",
    "file_name='./data/dict_classifer_score.dump'\n",
    "p5_util.object_dump(dict_classifer_score, file_name)"
   ]
  },
  {
   "cell_type": "markdown",
   "metadata": {},
   "source": [
    "## <font color='blus'>2.3. Evaluation of Multinomial Bernouilli Naive Bayes classifier</font>"
   ]
  },
  {
   "cell_type": "markdown",
   "metadata": {},
   "source": [
    "Data have binaries values? Bernouilli naive Bayes classifier is expected to provide good results."
   ]
  },
  {
   "cell_type": "markdown",
   "metadata": {},
   "source": [
    "It is revealed that `y_train` is encoded as a binary array.\n",
    "\n",
    "It is then possible to arrange classifier as chained Binaries classifiers.\n",
    "\n",
    "Chaining binaries classifiers leads to take into account correlations between Labels assigned to samples.\n"
   ]
  },
  {
   "cell_type": "markdown",
   "metadata": {},
   "source": [
    "### <font color='blus'>2.3.1. Training classifier</font>"
   ]
  },
  {
   "cell_type": "code",
   "execution_count": null,
   "metadata": {},
   "outputs": [],
   "source": [
    "from sklearn.naive_bayes import BernoulliNB\n",
    "from sklearn.multiclass import OneVsRestClassifier\n",
    "\n",
    "classifier_ber = OneVsRestClassifier(BernoulliNB(), n_jobs=N_JOBS).fit(X_train, y_train)"
   ]
  },
  {
   "cell_type": "markdown",
   "metadata": {},
   "source": [
    "### <font color='blus'>2.3.2. Classifier evaluation </font>"
   ]
  },
  {
   "cell_type": "code",
   "execution_count": null,
   "metadata": {},
   "outputs": [],
   "source": [
    "import p5_util\n",
    "file_name='./data/dict_classifer_score.dump'\n",
    "dict_classifer_score = p5_util.object_load(file_name)\n",
    "dict_classifer_score"
   ]
  },
  {
   "cell_type": "code",
   "execution_count": null,
   "metadata": {},
   "outputs": [],
   "source": [
    "from sklearn.metrics import accuracy_score\n",
    "y_pred = classifier_ber.predict(X_test)\n",
    "\n",
    "classifier_ber_score = accuracy_score(y_test,y_pred)\n",
    "\n",
    "print(\"Accuracy score for Bernoilli NB classifier : {0:1.2F} %\".format(classifier_ber_score*100))"
   ]
  },
  {
   "cell_type": "code",
   "execution_count": null,
   "metadata": {},
   "outputs": [],
   "source": [
    "dict_classifer_score['Bernouilli NB'] = classifier_ber_score"
   ]
  },
  {
   "cell_type": "code",
   "execution_count": null,
   "metadata": {},
   "outputs": [],
   "source": [
    "import p5_util\n",
    "file_name='./data/dict_classifer_score.dump'\n",
    "p5_util.object_dump(dict_classifer_score, file_name)"
   ]
  },
  {
   "cell_type": "markdown",
   "metadata": {},
   "source": [
    "## <font color='blus'>2.4. Evaluation of SGD classifier</font>"
   ]
  },
  {
   "cell_type": "markdown",
   "metadata": {},
   "source": [
    "Stochastic Gradient Descent Classifier"
   ]
  },
  {
   "cell_type": "code",
   "execution_count": null,
   "metadata": {},
   "outputs": [],
   "source": [
    "from sklearn.linear_model import SGDClassifier\n",
    "from sklearn.multiclass import OneVsRestClassifier\n",
    "\n",
    "classifier_sgd = OneVsRestClassifier(SGDClassifier(loss='hinge', penalty='l2', alpha=1e-3, random_state=42, max_iter=5, tol=None)).fit(X_train, y_train)"
   ]
  },
  {
   "cell_type": "code",
   "execution_count": null,
   "metadata": {},
   "outputs": [],
   "source": [
    "classifier_sgd_score = classifier_sgd.score(X_test ,y_test)\n",
    "print(\"Mean score for Stochastic Gradient Descent classifier : {0:1.2F} %\".format(classifier_sgd_score*100))"
   ]
  },
  {
   "cell_type": "code",
   "execution_count": null,
   "metadata": {},
   "outputs": [],
   "source": [
    "dict_classifer_score['SGD'] = classifier_sgd_score"
   ]
  },
  {
   "cell_type": "code",
   "execution_count": null,
   "metadata": {},
   "outputs": [],
   "source": [
    "import p5_util\n",
    "file_name='./data/dict_classifer_score.dump'\n",
    "p5_util.object_dump(dict_classifer_score, file_name)"
   ]
  },
  {
   "cell_type": "markdown",
   "metadata": {},
   "source": [
    "## <font color='blus'>2.5. Chained evaluation of SGD classifier</font>"
   ]
  },
  {
   "cell_type": "markdown",
   "metadata": {},
   "source": [
    "Stochastic Gradient Descent Classifier.\n",
    "\n",
    "Ce classifier declenche une erreur car li existe un cas ou une \n",
    "observation a seulement 1 classe.\n",
    "\n",
    "On va éliminer ces cas pour éviter une exception."
   ]
  },
  {
   "cell_type": "code",
   "execution_count": null,
   "metadata": {},
   "outputs": [],
   "source": [
    "from sklearn.linear_model import SGDClassifier\n",
    "from skmultilearn.problem_transform import ClassifierChain\n",
    "\n",
    "#\n",
    "chained_classifier_sgd = ClassifierChain(SGDClassifier(loss='hinge', penalty='l2', alpha=1e-3, random_state=42, max_iter=5, tol=None))"
   ]
  },
  {
   "cell_type": "markdown",
   "metadata": {},
   "source": [
    "**Rows with less then 1 class are filtered from X_train and y_train**"
   ]
  },
  {
   "cell_type": "code",
   "execution_count": 11,
   "metadata": {},
   "outputs": [
    {
     "name": "stdout",
     "output_type": "stream",
     "text": [
      "(15703, 47236) (15703, 103)\n"
     ]
    },
    {
     "data": {
      "text/plain": [
       "(15703, 15703)"
      ]
     },
     "execution_count": 11,
     "metadata": {},
     "output_type": "execute_result"
    }
   ],
   "source": [
    "dict_class_y = dict()\n",
    "dict_class_X = dict()\n",
    "\n",
    "print(X_train.shape, y_train.shape)\n",
    "\n",
    "for i in range(0,len(y_train.toarray())):\n",
    "    if y_train[i].toarray().sum() > 1:\n",
    "        #dict_class_1[i]= y_train[i].toarray().sum()\n",
    "        dict_class_y[i] = y_train[i]\n",
    "        dict_class_X[i] = X_train[i]\n",
    "len(dict_class_y), len(dict_class_X)"
   ]
  },
  {
   "cell_type": "code",
   "execution_count": 10,
   "metadata": {},
   "outputs": [
    {
     "data": {
      "text/plain": [
       "((15703, 47236), (15703, 103))"
      ]
     },
     "execution_count": 10,
     "metadata": {},
     "output_type": "execute_result"
    }
   ],
   "source": [
    "from scipy import sparse\n",
    "\n",
    "y_train_cleaned  = np.take(y_train.toarray(), [key for key in dict_class_y.keys()], axis=0, out=None, mode='raise')\n",
    "y_train = sparse.csr_matrix(y_train_cleaned)\n",
    "del(y_train_cleaned)\n",
    "\n",
    "X_train_cleaned  = np.take(X_train.toarray(), [key for key in dict_class_y.keys()], axis=0, out=None, mode='raise')\n",
    "X_train = sparse.csr_matrix(X_train_cleaned)\n",
    "del(X_train_cleaned)\n",
    "\n",
    "X_train.shape, y_train.shape"
   ]
  },
  {
   "cell_type": "code",
   "execution_count": null,
   "metadata": {},
   "outputs": [],
   "source": []
  },
  {
   "cell_type": "code",
   "execution_count": null,
   "metadata": {},
   "outputs": [],
   "source": [
    "chained_classifier_sgd.fit(X_train , y_train)"
   ]
  },
  {
   "cell_type": "code",
   "execution_count": null,
   "metadata": {},
   "outputs": [],
   "source": [
    "chained_classifier_sgd_score = classifier_sgd.score(X_test ,y_test)\n",
    "print(\"Mean score for Stochastic Gradient Descent classifier : {0:1.2F} %\".format(chained_classifier_sgd_score*100))"
   ]
  },
  {
   "cell_type": "code",
   "execution_count": null,
   "metadata": {},
   "outputs": [],
   "source": [
    "import p5_util\n",
    "dict_classifer_score['Chained SGD'] = chained_classifier_sgd_score\n",
    "file_name='./data/dict_classifer_score.dump'\n",
    "p5_util.object_dump(dict_classifer_score, file_name)"
   ]
  },
  {
   "cell_type": "code",
   "execution_count": null,
   "metadata": {},
   "outputs": [],
   "source": []
  },
  {
   "cell_type": "markdown",
   "metadata": {},
   "source": [
    "## <font color='blus'>2.5. SGD classfier transformed with Label powerset</font>"
   ]
  },
  {
   "cell_type": "markdown",
   "metadata": {},
   "source": [
    "### <font color='blus'>2.5.1. Training classifier</font>"
   ]
  },
  {
   "cell_type": "code",
   "execution_count": 27,
   "metadata": {},
   "outputs": [],
   "source": [
    "from sklearn.linear_model import SGDClassifier\n",
    "from skmultilearn.problem_transform import LabelPowerset\n",
    "power_classifier_sgd = LabelPowerset(SGDClassifier(loss='hinge', penalty='l2', alpha=1e-3, random_state=42, max_iter=5, tol=None))"
   ]
  },
  {
   "cell_type": "code",
   "execution_count": 28,
   "metadata": {},
   "outputs": [
    {
     "data": {
      "text/plain": [
       "LabelPowerset(classifier=SGDClassifier(alpha=0.001, average=False, class_weight=None,\n",
       "       early_stopping=False, epsilon=0.1, eta0=0.0, fit_intercept=True,\n",
       "       l1_ratio=0.15, learning_rate='optimal', loss='hinge', max_iter=5,\n",
       "       n_iter=None, n_iter_no_change=5, n_jobs=None, penalty='l2',\n",
       "       power_t=0.5, random_state=42, shuffle=True, tol=None,\n",
       "       validation_fraction=0.1, verbose=0, warm_start=False),\n",
       "       require_dense=[True, True])"
      ]
     },
     "execution_count": 28,
     "metadata": {},
     "output_type": "execute_result"
    }
   ],
   "source": [
    "power_classifier_sgd.fit(X_train , y_train)"
   ]
  },
  {
   "cell_type": "code",
   "execution_count": 30,
   "metadata": {},
   "outputs": [
    {
     "name": "stdout",
     "output_type": "stream",
     "text": [
      "Accuracy score for Power labelled SGD classifier : 48.31 %\n"
     ]
    }
   ],
   "source": [
    "from sklearn.metrics import accuracy_score\n",
    "y_pred = power_classifier_sgd.predict(X_test)\n",
    "\n",
    "power_classifier_sgd_score = accuracy_score(y_test,y_pred)\n",
    "\n",
    "print(\"Accuracy score for Power labelled SGD classifier : {0:1.2F} %\".format(power_classifier_sgd_score*100))"
   ]
  },
  {
   "cell_type": "code",
   "execution_count": 35,
   "metadata": {},
   "outputs": [
    {
     "data": {
      "text/plain": [
       "{'MNB': 0.062848,\n",
       " 'Chained MNB': 0.102208,\n",
       " 'Bernouilli NB': 0.146112,\n",
       " 'SGD': 0.197696,\n",
       " 'Logistic Regression': 0.3429281029102719,\n",
       " 'Power SGD': 0.48310291858678955}"
      ]
     },
     "execution_count": 35,
     "metadata": {},
     "output_type": "execute_result"
    }
   ],
   "source": [
    "dict_classifer_score"
   ]
  },
  {
   "cell_type": "code",
   "execution_count": 34,
   "metadata": {},
   "outputs": [],
   "source": [
    "import p5_util\n",
    "dict_classifer_score['Power SGD'] = power_classifier_sgd_score\n",
    "file_name='./data/dict_classifer_score.dump'\n",
    "p5_util.object_dump(dict_classifer_score, file_name)"
   ]
  },
  {
   "cell_type": "markdown",
   "metadata": {},
   "source": [
    "## <font color='blus'>2.6. Logistic regression & One vs rest</font>"
   ]
  },
  {
   "cell_type": "code",
   "execution_count": 16,
   "metadata": {},
   "outputs": [],
   "source": [
    "from sklearn.multiclass import OneVsRestClassifier\n",
    "from sklearn.linear_model import LogisticRegression\n",
    "from sklearn.model_selection import GridSearchCV\n",
    "from sklearn.metrics import accuracy_score\n",
    "from sklearn.metrics import make_scorer\n",
    "\n",
    "dict_param_grid = {\n",
    "    'estimator__C': [1e-7, 1e-6, 1e-5, 1e-4, 1e-3, 1e-2, 1e-1, 1e0],\n",
    "    'estimator__penalty': ['l2'],\n",
    "    'n_jobs': [-1]\n",
    "}\n",
    "\n",
    "estimator = OneVsRestClassifier(LogisticRegression())\n",
    "lr_gscv  = GridSearchCV(estimator, dict_param_grid)"
   ]
  },
  {
   "cell_type": "code",
   "execution_count": 17,
   "metadata": {},
   "outputs": [
    {
     "name": "stderr",
     "output_type": "stream",
     "text": [
      "/home/bangui/anaconda3/lib/python3.7/site-packages/sklearn/model_selection/_split.py:1943: FutureWarning: You should specify a value for 'cv' instead of relying on the default value. The default value will change from 3 to 5 in version 0.22.\n",
      "  warnings.warn(CV_WARNING, FutureWarning)\n",
      "/home/bangui/anaconda3/lib/python3.7/site-packages/sklearn/linear_model/logistic.py:432: FutureWarning: Default solver will be changed to 'lbfgs' in 0.22. Specify a solver to silence this warning.\n",
      "  FutureWarning)\n",
      "/home/bangui/anaconda3/lib/python3.7/site-packages/sklearn/multiclass.py:76: UserWarning: Label not 42 is present in all training examples.\n",
      "  str(classes[c]))\n",
      "/home/bangui/anaconda3/lib/python3.7/site-packages/sklearn/multiclass.py:76: UserWarning: Label not 49 is present in all training examples.\n",
      "  str(classes[c]))\n",
      "/home/bangui/anaconda3/lib/python3.7/site-packages/sklearn/multiclass.py:76: UserWarning: Label not 66 is present in all training examples.\n",
      "  str(classes[c]))\n",
      "/home/bangui/anaconda3/lib/python3.7/site-packages/sklearn/multiclass.py:76: UserWarning: Label not 77 is present in all training examples.\n",
      "  str(classes[c]))\n",
      "/home/bangui/anaconda3/lib/python3.7/site-packages/sklearn/multiclass.py:76: UserWarning: Label not 80 is present in all training examples.\n",
      "  str(classes[c]))\n",
      "/home/bangui/anaconda3/lib/python3.7/site-packages/sklearn/multiclass.py:76: UserWarning: Label not 69 is present in all training examples.\n",
      "  str(classes[c]))\n"
     ]
    },
    {
     "data": {
      "text/plain": [
       "GridSearchCV(cv='warn', error_score='raise-deprecating',\n",
       "       estimator=OneVsRestClassifier(estimator=LogisticRegression(C=1.0, class_weight=None, dual=False, fit_intercept=True,\n",
       "          intercept_scaling=1, max_iter=100, multi_class='warn',\n",
       "          n_jobs=None, penalty='l2', random_state=None, solver='warn',\n",
       "          tol=0.0001, verbose=0, warm_start=False),\n",
       "          n_jobs=None),\n",
       "       fit_params=None, iid='warn', n_jobs=None,\n",
       "       param_grid={'estimator__C': [1e-07, 1e-06, 1e-05, 0.0001, 0.001, 0.01, 0.1, 1.0], 'estimator__penalty': ['l2'], 'n_jobs': [-1]},\n",
       "       pre_dispatch='2*n_jobs', refit=True, return_train_score='warn',\n",
       "       scoring=None, verbose=0)"
      ]
     },
     "execution_count": 17,
     "metadata": {},
     "output_type": "execute_result"
    }
   ],
   "source": [
    "lr_gscv.fit(X_train, y_train)"
   ]
  },
  {
   "cell_type": "code",
   "execution_count": 18,
   "metadata": {},
   "outputs": [
    {
     "name": "stdout",
     "output_type": "stream",
     "text": [
      "0.3429281029102719\n",
      "{'estimator__C': 1.0, 'estimator__penalty': 'l2', 'n_jobs': -1}\n"
     ]
    }
   ],
   "source": [
    "print (lr_gscv.best_score_)\n",
    "print (lr_gscv.best_params_)"
   ]
  },
  {
   "cell_type": "code",
   "execution_count": 49,
   "metadata": {},
   "outputs": [
    {
     "name": "stdout",
     "output_type": "stream",
     "text": [
      "p5_util.object_load : fileName= ./data/dict_classifer_score.dump\n"
     ]
    }
   ],
   "source": [
    "import p5_util\n",
    "file_name='./data/dict_classifer_score.dump'\n",
    "dict_classifer_score = p5_util.object_load(file_name)\n",
    "\n",
    "dict_classifer_score['GSCV Logistic Regression'] = lr_gscv.best_score_\n",
    "p5_util.object_dump(dict_classifer_score, file_name)"
   ]
  },
  {
   "cell_type": "code",
   "execution_count": 51,
   "metadata": {},
   "outputs": [
    {
     "data": {
      "text/plain": [
       "{'MNB': 0.062848,\n",
       " 'Chained MNB': 0.102208,\n",
       " 'Bernouilli NB': 0.146112,\n",
       " 'SGD': 0.197696,\n",
       " 'Power SGD': 0.48310291858678955,\n",
       " 'GSCV SGD': 0.5193911991339235,\n",
       " 'GSCV Logistic Regression': 0.3429281029102719}"
      ]
     },
     "execution_count": 51,
     "metadata": {},
     "output_type": "execute_result"
    }
   ],
   "source": [
    "dict_classifer_score"
   ]
  },
  {
   "cell_type": "code",
   "execution_count": null,
   "metadata": {},
   "outputs": [],
   "source": [
    "print(\"Accuracy GSCV Logistic Regression classifier : {0:1.2F} %\".format(lr_gscv_score*100))"
   ]
  },
  {
   "cell_type": "markdown",
   "metadata": {},
   "source": [
    "## <font color='blus'>2.7. Grid search on SGD classifier & One vs rest</font>"
   ]
  },
  {
   "cell_type": "code",
   "execution_count": 36,
   "metadata": {},
   "outputs": [],
   "source": [
    "from sklearn.model_selection import GridSearchCV\n",
    "from sklearn.linear_model import SGDClassifier\n",
    "from sklearn.multiclass import OneVsRestClassifier\n",
    "dict_param_grid = {\n",
    "    'estimator__alpha': [1e-7, 1e-6, 1e-5, 1e-4, 1e-3, 1e-2, 1e-1, 1e0],\n",
    "    'estimator__penalty': ['l2'],\n",
    "    'n_jobs': [-1]\n",
    "}\n",
    "\n",
    "estimator = OneVsRestClassifier(SGDClassifier())\n",
    "sgd_gscv  = GridSearchCV(estimator, dict_param_grid, cv=5)\n"
   ]
  },
  {
   "cell_type": "code",
   "execution_count": 37,
   "metadata": {},
   "outputs": [
    {
     "name": "stderr",
     "output_type": "stream",
     "text": [
      "/home/bangui/anaconda3/lib/python3.7/site-packages/sklearn/linear_model/stochastic_gradient.py:144: FutureWarning: max_iter and tol parameters have been added in SGDClassifier in 0.19. If both are left unset, they default to max_iter=5 and tol=None. If tol is not None, max_iter defaults to max_iter=1000. From 0.21, default max_iter will be 1000, and default tol will be 1e-3.\n",
      "  FutureWarning)\n",
      "/home/bangui/anaconda3/lib/python3.7/site-packages/sklearn/multiclass.py:76: UserWarning: Label not 42 is present in all training examples.\n",
      "  str(classes[c]))\n",
      "/home/bangui/anaconda3/lib/python3.7/site-packages/sklearn/multiclass.py:76: UserWarning: Label not 49 is present in all training examples.\n",
      "  str(classes[c]))\n",
      "/home/bangui/anaconda3/lib/python3.7/site-packages/sklearn/multiclass.py:76: UserWarning: Label not 66 is present in all training examples.\n",
      "  str(classes[c]))\n",
      "/home/bangui/anaconda3/lib/python3.7/site-packages/sklearn/multiclass.py:76: UserWarning: Label not 77 is present in all training examples.\n",
      "  str(classes[c]))\n",
      "/home/bangui/anaconda3/lib/python3.7/site-packages/sklearn/multiclass.py:76: UserWarning: Label not 80 is present in all training examples.\n",
      "  str(classes[c]))\n",
      "/home/bangui/anaconda3/lib/python3.7/site-packages/sklearn/multiclass.py:76: UserWarning: Label not 69 is present in all training examples.\n",
      "  str(classes[c]))\n"
     ]
    },
    {
     "data": {
      "text/plain": [
       "GridSearchCV(cv=5, error_score='raise-deprecating',\n",
       "       estimator=OneVsRestClassifier(estimator=SGDClassifier(alpha=0.0001, average=False, class_weight=None,\n",
       "       early_stopping=False, epsilon=0.1, eta0=0.0, fit_intercept=True,\n",
       "       l1_ratio=0.15, learning_rate='optimal', loss='hinge', max_iter=None,\n",
       "       n_iter=None, n_iter_no_change=5, n_jobs=None, penalty='l2',\n",
       "       power_t=0.5, random_state=None, shuffle=True, tol=None,\n",
       "       validation_fraction=0.1, verbose=0, warm_start=False),\n",
       "          n_jobs=None),\n",
       "       fit_params=None, iid='warn', n_jobs=None,\n",
       "       param_grid={'estimator__alpha': [1e-07, 1e-06, 1e-05, 0.0001, 0.001, 0.01, 0.1, 1.0], 'estimator__penalty': ['l2'], 'n_jobs': [-1]},\n",
       "       pre_dispatch='2*n_jobs', refit=True, return_train_score='warn',\n",
       "       scoring=None, verbose=0)"
      ]
     },
     "execution_count": 37,
     "metadata": {},
     "output_type": "execute_result"
    }
   ],
   "source": [
    "sgd_gscv.fit(X_train, y_train)"
   ]
  },
  {
   "cell_type": "code",
   "execution_count": 1,
   "metadata": {},
   "outputs": [
    {
     "ename": "NameError",
     "evalue": "name 'sgd_gscv' is not defined",
     "output_type": "error",
     "traceback": [
      "\u001b[0;31m---------------------------------------------------------------------------\u001b[0m",
      "\u001b[0;31mNameError\u001b[0m                                 Traceback (most recent call last)",
      "\u001b[0;32m<ipython-input-1-fb1730446125>\u001b[0m in \u001b[0;36m<module>\u001b[0;34m()\u001b[0m\n\u001b[0;32m----> 1\u001b[0;31m \u001b[0mprint\u001b[0m \u001b[0;34m(\u001b[0m\u001b[0msgd_gscv\u001b[0m\u001b[0;34m.\u001b[0m\u001b[0mbest_score_\u001b[0m\u001b[0;34m)\u001b[0m\u001b[0;34m\u001b[0m\u001b[0m\n\u001b[0m\u001b[1;32m      2\u001b[0m \u001b[0mprint\u001b[0m \u001b[0;34m(\u001b[0m\u001b[0msgd_gscv\u001b[0m\u001b[0;34m.\u001b[0m\u001b[0mbest_params_\u001b[0m\u001b[0;34m)\u001b[0m\u001b[0;34m\u001b[0m\u001b[0m\n",
      "\u001b[0;31mNameError\u001b[0m: name 'sgd_gscv' is not defined"
     ]
    }
   ],
   "source": [
    "print (sgd_gscv.best_score_)\n",
    "print (sgd_gscv.best_params_)"
   ]
  },
  {
   "cell_type": "code",
   "execution_count": 39,
   "metadata": {},
   "outputs": [
    {
     "name": "stdout",
     "output_type": "stream",
     "text": [
      "p5_util.object_load : fileName= ./data/dict_classifer_score.dump\n"
     ]
    }
   ],
   "source": [
    "import p5_util\n",
    "file_name='./data/dict_classifer_score.dump'\n",
    "dict_classifer_score = p5_util.object_load(file_name)\n",
    "\n",
    "dict_classifer_score['GSCV SGD'] = sgd_gscv.best_score_\n",
    "p5_util.object_dump(dict_classifer_score, file_name)"
   ]
  },
  {
   "cell_type": "code",
   "execution_count": 40,
   "metadata": {},
   "outputs": [
    {
     "data": {
      "text/plain": [
       "{'MNB': 0.062848,\n",
       " 'Chained MNB': 0.102208,\n",
       " 'Bernouilli NB': 0.146112,\n",
       " 'SGD': 0.197696,\n",
       " 'Logistic Regression': 0.3429281029102719,\n",
       " 'Power SGD': 0.48310291858678955,\n",
       " 'GSCV SGD': 0.5193911991339235}"
      ]
     },
     "execution_count": 40,
     "metadata": {},
     "output_type": "execute_result"
    }
   ],
   "source": [
    "dict_classifer_score"
   ]
  },
  {
   "cell_type": "markdown",
   "metadata": {},
   "source": [
    "## <font color='blus'>3. Classifiers results</font>"
   ]
  },
  {
   "cell_type": "code",
   "execution_count": 52,
   "metadata": {},
   "outputs": [
    {
     "data": {
      "text/html": [
       "<div>\n",
       "<style scoped>\n",
       "    .dataframe tbody tr th:only-of-type {\n",
       "        vertical-align: middle;\n",
       "    }\n",
       "\n",
       "    .dataframe tbody tr th {\n",
       "        vertical-align: top;\n",
       "    }\n",
       "\n",
       "    .dataframe thead th {\n",
       "        text-align: right;\n",
       "    }\n",
       "</style>\n",
       "<table border=\"1\" class=\"dataframe\">\n",
       "  <thead>\n",
       "    <tr style=\"text-align: right;\">\n",
       "      <th></th>\n",
       "      <th>Classifier</th>\n",
       "      <th>Score</th>\n",
       "    </tr>\n",
       "  </thead>\n",
       "  <tbody>\n",
       "    <tr>\n",
       "      <th>0</th>\n",
       "      <td>MNB</td>\n",
       "      <td>0.062848</td>\n",
       "    </tr>\n",
       "    <tr>\n",
       "      <th>1</th>\n",
       "      <td>Chained MNB</td>\n",
       "      <td>0.102208</td>\n",
       "    </tr>\n",
       "    <tr>\n",
       "      <th>2</th>\n",
       "      <td>Bernouilli NB</td>\n",
       "      <td>0.146112</td>\n",
       "    </tr>\n",
       "    <tr>\n",
       "      <th>3</th>\n",
       "      <td>SGD</td>\n",
       "      <td>0.197696</td>\n",
       "    </tr>\n",
       "    <tr>\n",
       "      <th>4</th>\n",
       "      <td>Power SGD</td>\n",
       "      <td>0.483103</td>\n",
       "    </tr>\n",
       "    <tr>\n",
       "      <th>5</th>\n",
       "      <td>GSCV SGD</td>\n",
       "      <td>0.519391</td>\n",
       "    </tr>\n",
       "    <tr>\n",
       "      <th>6</th>\n",
       "      <td>GSCV Logistic Regression</td>\n",
       "      <td>0.342928</td>\n",
       "    </tr>\n",
       "  </tbody>\n",
       "</table>\n",
       "</div>"
      ],
      "text/plain": [
       "                 Classifier     Score\n",
       "0                       MNB  0.062848\n",
       "1               Chained MNB  0.102208\n",
       "2             Bernouilli NB  0.146112\n",
       "3                       SGD  0.197696\n",
       "4                 Power SGD  0.483103\n",
       "5                  GSCV SGD  0.519391\n",
       "6  GSCV Logistic Regression  0.342928"
      ]
     },
     "execution_count": 52,
     "metadata": {},
     "output_type": "execute_result"
    }
   ],
   "source": [
    "import pandas as pd\n",
    "df_result = pd.DataFrame.from_dict( dict_classifer_score, orient='index')\n",
    "df_result.reset_index(inplace=True)\n",
    "df_result.rename(columns={'index':'Classifier',0:'Score'}, inplace=True)\n",
    "df_result"
   ]
  },
  {
   "cell_type": "code",
   "execution_count": 53,
   "metadata": {},
   "outputs": [
    {
     "data": {
      "image/png": "[encoded data removed]",
      "text/plain": [
       "<Figure size 1440x720 with 1 Axes>"
      ]
     },
     "metadata": {},
     "output_type": "display_data"
    }
   ],
   "source": [
    "title = \"Classifiers accuracy\"\n",
    "ser_item_occurency_plot(df_result.Classifier, df_result.Score, item_count=None, title=title)"
   ]
  },
  {
   "cell_type": "code",
   "execution_count": null,
   "metadata": {},
   "outputs": [],
   "source": []
  }
 ],
 "metadata": {
  "kernelspec": {
   "display_name": "Python 3",
   "language": "python",
   "name": "python3"
  },
  "language_info": {
   "codemirror_mode": {
    "name": "ipython",
    "version": 3
   },
   "file_extension": ".py",
   "mimetype": "text/x-python",
   "name": "python",
   "nbconvert_exporter": "python",
   "pygments_lexer": "ipython3",
   "version": "3.7.0"
  }
 },
 "nbformat": 4,
 "nbformat_minor": 2
}
