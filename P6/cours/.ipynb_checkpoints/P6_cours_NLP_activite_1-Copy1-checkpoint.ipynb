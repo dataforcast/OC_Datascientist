{
 "cells": [
  {
   "cell_type": "markdown",
   "metadata": {},
   "source": [
    "<!--NOTEBOOK_INFORMATION-->\n",
    "<img align=\"left\" style=\"padding-right:10px;\" src=\"./figures/LogoOpenclassrooms.png\">\n",
    "<font size=\"4\">\n",
    "<p>\n",
    "Cette activité est réalisée dans le cadre du cours ``Analysez vos données textuelles`` diffusé en MOOC par\n",
    "**<font color='blus'>Openclassrooms</font>**.\n",
    "</p>    \n"
   ]
  },
  {
   "cell_type": "code",
   "execution_count": 1,
   "metadata": {},
   "outputs": [],
   "source": [
    "import pandas as pd\n",
    "import glob\n",
    "import pickle\n",
    "import os\n",
    "import nltk\n",
    "from sklearn.feature_extraction.text import TfidfVectorizer\n",
    "\n",
    "#-----------------------------------------------------------------------------\n",
    "# When this flag is activated,  then a subset of CNN files are read.\n",
    "# When value is False, then all CNN files are read. in this case, make sure \n",
    "# you've at leat 16G RAM available and to run over 64bits station.\n",
    "#-----------------------------------------------------------------------------\n",
    "is_partial_read=True"
   ]
  },
  {
   "cell_type": "markdown",
   "metadata": {},
   "source": [
    "#### Utilities functions"
   ]
  },
  {
   "cell_type": "code",
   "execution_count": 2,
   "metadata": {},
   "outputs": [],
   "source": [
    "import nltk\n",
    "from nltk.corpus import stopwords\n",
    "\n",
    "#-------------------------------------------------------------------------------\n",
    "#\n",
    "#-------------------------------------------------------------------------------\n",
    "def cb_remove_stopwords(item, mode='upper') :\n",
    "    list_word=item.split()\n",
    "    item_no_stopwords_1=[ word for word in list_word if word.lower() not in stopwords.words('english') \\\n",
    "                      and not str(word).isdigit()]\n",
    "    item_no_stopwords=[word for word in item_no_stopwords_1 if word.lower() not in ['cnn']]\n",
    "    \n",
    "    item_no_stopwords=\" \".join(item_no_stopwords)\n",
    "    if mode == 'upper':\n",
    "        return item_no_stopwords.upper()\n",
    "    elif mode =='lower':\n",
    "        return item_no_stopwords.lower()\n",
    "    else:\n",
    "        print(\"*** ERROR no mode defined for word! ***\")\n",
    "        return None\n",
    "#-------------------------------------------------------------------------------\n",
    "\n",
    "#-------------------------------------------------------------------------------\n",
    "#\n",
    "#-------------------------------------------------------------------------------\n",
    "def cb_remove_punctuation(item, list_char_remove, mode='upper') :\n",
    "    tokenizer = nltk.RegexpTokenizer(r'[ a-zA-Z0-9]')\n",
    "    tokenized_list = tokenizer.tokenize(item.lower())\n",
    "    #tokenized_list.append(\"\\'\")\n",
    "    item_no_punctuation=[ char for char in item.lower() if char in tokenized_list ]\n",
    "\n",
    "    item_no_punctuation=\"\".join(item_no_punctuation)\n",
    "    if mode == 'upper':\n",
    "        return item_no_punctuation.upper()\n",
    "    elif mode =='lower':\n",
    "        return item_no_punctuation.lower()\n",
    "    else:\n",
    "        print(\"*** ERROR no mode defined for word! ***\")\n",
    "        return None\n",
    "#-------------------------------------------------------------------------------\n",
    "\n",
    "#-------------------------------------------------------------------------------\n",
    "#\n",
    "#-------------------------------------------------------------------------------\n",
    "def file_write(content, directory, file_count, extension):\n",
    "\n",
    "    file_name = directory+'/'+str(file_count)\n",
    "    file_name += extension\n",
    "\n",
    "    file_to_write = open(file_name,'wt')\n",
    "    file_to_write.write(content)\n",
    "    file_to_write.close()\n",
    "    return\n",
    "#-------------------------------------------------------------------------------\n",
    "\n",
    "#-------------------------------------------------------------------------------\n",
    "#\n",
    "#-------------------------------------------------------------------------------\n",
    "def get_dict_tfidf(dict_article_highlight, doc_type):\n",
    "    \"\"\"Returns tfidf dictionary under the format {token:tfidf}\n",
    "    Input : \n",
    "        * dict_article_highlight dictionary containing tokenized articles and corresponding highlights.\n",
    "        Keys dictionary are numbers.\n",
    "        Values are tuple (list_token_article, list_highlight)\n",
    "    \"\"\"\n",
    "    \n",
    "    tuple_pos=-1\n",
    "    if doc_type == \"article\":\n",
    "        tuple_pos=0\n",
    "    elif doc_type == \"highlight\":\n",
    "        tuple_pos=1\n",
    "    else:\n",
    "        print(\"*** ERROR : Unknown document type= \"+str(doc_type))\n",
    "\n",
    "    if tuple_pos in [0,1]:\n",
    "        list_tokenized_article=list()\n",
    "        for key in dict_article_highlight.keys():\n",
    "            list_token_article=dict_article_highlight[key][tuple_pos]\n",
    "            str_tokenized_article=' '.join(str(e) for e in list_token_article)\n",
    "            list_tokenized_article.append(str_tokenized_article)\n",
    "\n",
    "        vectorizer=TfidfVectorizer(norm=\"l2\")\n",
    "        vectorizer.fit_transform(list_tokenized_article)\n",
    "\n",
    "        dict_tfidf=dict()\n",
    "        for word in vectorizer.vocabulary_.keys():\n",
    "            index=vectorizer.vocabulary_[word]\n",
    "            tfidf=vectorizer.idf_[index]\n",
    "            dict_tfidf[word]=tfidf\n",
    "        return dict_tfidf    \n",
    "#-------------------------------------------------------------------------------\n",
    "\n",
    "\n",
    "#-------------------------------------------------------------------------------\n",
    "#\n",
    "#-------------------------------------------------------------------------------\n",
    "def dict_plot_frequency(dict_article_highlight, file_count, doc_type, query=None):\n",
    "    \"\"\"Plot word frequencies onto a bar diagram.\n",
    "    \"\"\"\n",
    "    tokenized_article,tokenized_highlight,dict_article_freq,dict_highlight_freq \\\n",
    "    = dict_article_highlight[file_count]        \n",
    "    dict_freq=None\n",
    "    if doc_type == \"article\":\n",
    "        dict_freq=dict_article_freq\n",
    "    elif doc_type == \"highlight\":\n",
    "        dict_freq=dict_highlight_freq\n",
    "    else:\n",
    "        print(\"*** ERROR : Unknown document type= \"+str(doc_type))\n",
    "    \n",
    "    print(dict_freq)\n",
    "        \n",
    "    if dict_freq is not None:\n",
    "        df = pd.DataFrame.from_dict(dict_freq, orient='index')\n",
    "        if 'Freq' not in df.columns:\n",
    "            df.rename(columns={0:'Freq'}, inplace=True)\n",
    "            df.sort_values(by = 'Freq', inplace=True, ascending=False) \n",
    "        else:\n",
    "            pass\n",
    "        title = \"File \"+doc_type+\" #\"+str(file_count)+\" : \"\n",
    "        if query is None:\n",
    "            title += \"Words frequency\"\n",
    "            z_=df.plot(kind='bar', title=title, color='orange')\n",
    "        else:\n",
    "            title += \"Words frequency \"+query\n",
    "            z_=df.query(query).plot(kind='bar', title=title, color='orange')\n",
    "    else:\n",
    "        pass\n",
    "#-------------------------------------------------------------------------------\n",
    "\n",
    "#-------------------------------------------------------------------------------\n",
    "#\n",
    "#-------------------------------------------------------------------------------\n",
    "def get_dict_article_highlight(file_path, p_restriction=None):\n",
    "    dict_article_highlight = dict()\n",
    "    #-----------------------------------------------------------\n",
    "    # Used to restrict the read all highlights files\n",
    "    #-----------------------------------------------------------\n",
    "    file_count=0\n",
    "    if p_restriction is None:\n",
    "        iglob_hig = glob.iglob(file_path+\"/*.hig\")\n",
    "        iglob_art = glob.iglob(file_path+\"/*.art\")\n",
    "    else:\n",
    "        iglob_hig = glob.iglob(file_path+\"/\"+restriction+\".hig\")\n",
    "        print(\"Reading \"+file_path+\"/\"+restriction+\".hig\")\n",
    "\n",
    "        iglob_art = glob.iglob(file_path+\"/\"+restriction+\".art\")\n",
    "        print(\"Reading \"+file_path+\"/\"+restriction+\".art\")\n",
    "        \n",
    "    for file_name_hig in iglob_hig:\n",
    "        file_root_name = file_name_hig.split('.hig')[0]\n",
    "        file_name_art=file_root_name+'.art'    \n",
    "\n",
    "        file_to_read = open(file_name_hig,'rt') \n",
    "        data_highlight = file_to_read.read()\n",
    "        file_to_read.close()    \n",
    "\n",
    "        file_to_read = open(file_name_art,'rt') \n",
    "        data_article = file_to_read.read()\n",
    "        file_to_read.close()    \n",
    "\n",
    "        file_count +=1\n",
    "        #---------------------------------------------------------------------\n",
    "        # Words frequencies over highlights\n",
    "        #---------------------------------------------------------------------\n",
    "        tokenized_highlight = data_highlight.split(' ')\n",
    "        dict_highlight_freq = nltk.FreqDist(tokenized_highlight)\n",
    "\n",
    "        tokenized_article = data_article.split(' ')\n",
    "        dict_article_freq = nltk.FreqDist(tokenized_article)\n",
    "\n",
    "        #---------------------------------------------------------------------\n",
    "        # Words frequencies over article\n",
    "        #---------------------------------------------------------------------\n",
    "        dict_article_freq = nltk.FreqDist(tokenized_article)\n",
    "\n",
    "        #------------------------------------------------------\n",
    "        # Dictionary is filled with highlights matching with\n",
    "        # articles.\n",
    "        #------------------------------------------------------\n",
    "        dict_article_highlight[file_count]=(tokenized_article,tokenized_highlight,dict_article_freq,dict_highlight_freq)\n",
    "\n",
    "    return dict_article_highlight\n",
    "#-------------------------------------------------------------------------------\n",
    "\n",
    "#-------------------------------------------------------------------------------\n",
    "#\n",
    "#-------------------------------------------------------------------------------\n",
    "def prepare_articles(data_path, p_restriction=None, is_write=True):\n",
    "    \"\"\"Files for articles and corresponding highlights are created in the followings sequences.\n",
    "    Location of whole files is directory ``./data/cnn/stories``\n",
    "    Resulting files are located into ``./data/cnn_corpus``\n",
    "    Tokens frequencies for articles are handled into dictionary ``dict_article_freq``\n",
    "    Tokens frequencies for highlights are handled into dictionary ``dict_highlight_freq``\n",
    "    For each file, these dictionaries are recorded into dictionary ``dict_article_highlight`` as tuple.\n",
    "    \"\"\"\n",
    "    #-----------------------------------------------------------\n",
    "    # Used to restrict the read to some files.\n",
    "    #-----------------------------------------------------------\n",
    "    iglob__ = None\n",
    "    if p_restriction is not None:\n",
    "        iglob__ = glob.iglob(data_path+\"/\"+p_restriction)\n",
    "    else:\n",
    "        iglob__ = glob.iglob(data_path+\"/*.story\")\n",
    "\n",
    "    #-----------------------------------------------------------\n",
    "    # Keys dictionary are article while values are list of \n",
    "    # hightlighs matching with an article\n",
    "    #-----------------------------------------------------------\n",
    "    dict_article_highlight=dict()\n",
    "    dict_article_freq=dict()\n",
    "    dict_highlight_freq=dict()\n",
    "\n",
    "    file_count=0\n",
    "    \n",
    "    for file_name in iglob__:\n",
    "        file_to_read = open(file_name,'rt') \n",
    "        data_file = file_to_read.read()\n",
    "        file_to_read.close()    \n",
    "        file_count +=1\n",
    "        list_highlight = data_file.rsplit(\"\\n\\n@highlight\")\n",
    "\n",
    "        #------------------------------------------------------\n",
    "        # Article is extracted from list\n",
    "        #------------------------------------------------------\n",
    "        article = list_highlight[0]\n",
    "\n",
    "        #------------------------------------------------------\n",
    "        # Article is removed from list; list contains highlights \n",
    "        # only\n",
    "        #------------------------------------------------------\n",
    "        list_highlight.remove(article)\n",
    "\n",
    "        #---------------------------------------------------------------------\n",
    "        # Remove punctuation from article\n",
    "        #---------------------------------------------------------------------\n",
    "        article = cb_remove_punctuation(article, None, mode='lower')\n",
    "\n",
    "        #---------------------------------------------------------------------\n",
    "        # Remove english stopwords for article\n",
    "        #---------------------------------------------------------------------\n",
    "        article = cb_remove_stopwords(article, mode='lower')    \n",
    "\n",
    "        #---------------------------------------------------------------------\n",
    "        # Article are tokenized\n",
    "        #---------------------------------------------------------------------    \n",
    "        tokenized_article = nltk.word_tokenize(article)\n",
    "\n",
    "        #---------------------------------------------------------------------\n",
    "        # Remove punctuation from highlights and tokenized each of them and \n",
    "        # do compound.\n",
    "        #---------------------------------------------------------------------   \n",
    "        tokenized_highlight=list()\n",
    "        for highlight in list_highlight:\n",
    "            highlight_1 = cb_remove_punctuation(highlight, None, mode='lower')\n",
    "            tokenized_highlight += nltk.word_tokenize(highlight_1)\n",
    "\n",
    "        #---------------------------------------------------------------------\n",
    "        # Words frequencies over highlights\n",
    "        #---------------------------------------------------------------------\n",
    "        dict_highlight_freq = nltk.FreqDist(tokenized_highlight)\n",
    "\n",
    "        #---------------------------------------------------------------------\n",
    "        # Words frequencies over article\n",
    "        #---------------------------------------------------------------------\n",
    "        dict_article_freq = nltk.FreqDist(tokenized_article)\n",
    "\n",
    "        #------------------------------------------------------\n",
    "        # Dictionary is filled with highlights matching with\n",
    "        # articles.\n",
    "        #------------------------------------------------------\n",
    "        dict_article_highlight[file_count]=(tokenized_article,tokenized_highlight,dict_article_freq,dict_highlight_freq)\n",
    "\n",
    "        #------------------------------------------------------\n",
    "        # Write 2 files : article (.art) and highlights related\n",
    "        # to each article (.hil)\n",
    "        #------------------------------------------------------\n",
    "        if is_write is True:\n",
    "            str_tokenized_article=' '.join(str(e) for e in tokenized_article)\n",
    "            file_write(str_tokenized_article, corpusdir, file_count, '.art')\n",
    "\n",
    "            str_tokenized_highlight=' '.join(str(e) for e in tokenized_highlight)\n",
    "            file_write(str_tokenized_highlight, corpusdir, file_count, '.hig')\n",
    "\n",
    "        if 0 == file_count % 1000:\n",
    "            print(\"Counted file = \"+str(file_count))\n",
    "    return dict_article_highlight\n",
    "#-------------------------------------------------------------------------------\n",
    "    "
   ]
  },
  {
   "cell_type": "markdown",
   "metadata": {},
   "source": [
    "Resulting files are created into directory ``cnn_corpus``.\n",
    "\n",
    "They are named ``1.art``, ``1.hig``, ``2.art``, ``2.hig``...\n",
    "\n",
    "Extension ``.art`` are files containing articles.\n",
    "\n",
    "Extension ``.hig`` are files containing hilights concatened contents.\n",
    "\n",
    "Files names with same root name (1,2,...,17..) are those fo which highlights and articles do match.\n",
    "\n",
    "\n"
   ]
  },
  {
   "cell_type": "code",
   "execution_count": 3,
   "metadata": {},
   "outputs": [
    {
     "name": "stdout",
     "output_type": "stream",
     "text": [
      "Corpus dir ./data/cnn_corpus Already exists!\n"
     ]
    }
   ],
   "source": [
    "corpusdir = './data/cnn_corpus'\n",
    "\n",
    "if not os.path.exists(corpusdir):\n",
    "    os.makedirs(corpusdir)\n",
    "    print(\"Corpus dir \"+corpusdir+\" created!\")\n",
    "else:\n",
    "    print(\"Corpus dir \"+corpusdir+\" Already exists!\")\n",
    "assert os.path.isdir(corpusdir)\n",
    "    "
   ]
  },
  {
   "cell_type": "markdown",
   "metadata": {},
   "source": [
    "For each pair of files, frequencies are recorded into dictionary ``dict_article_highlight`` as component of a tuple.\n",
    "\n",
    "Format of ``dict_article_highlight`` is as following : ``{#ID:(tokenized_article,tokenized_highlight,dict_article_freq,dict_highlight_freq)}``\n",
    "\n",
    "* ``tokenized_article`` : list of tokens issued from article\n",
    "* ``tokenized_highlight`` : list of tokens issued from highlight\n",
    "* ``dict_article_freq`` is formated as : ``{token:token_frequency}``\n",
    "* ``dict_highlight_freq`` is formated as : ``{token:token_frequency}``"
   ]
  },
  {
   "cell_type": "code",
   "execution_count": 4,
   "metadata": {},
   "outputs": [],
   "source": [
    "data_path= \"./data/cnn/stories\"\n",
    "if is_partial_read is True :\n",
    "    #-------------------------------------------------------------\n",
    "    # Only file names starting with aaa are read.\n",
    "    #-------------------------------------------------------------\n",
    "    restriction=\"aaa*.story\"\n",
    "else:\n",
    "    #-------------------------------------------------------------\n",
    "    # All file names are read.\n",
    "    #-------------------------------------------------------------\n",
    "    restriction=None\n",
    "\n",
    "dict_article_highlight = prepare_articles(data_path,p_restriction=restriction)"
   ]
  },
  {
   "cell_type": "markdown",
   "metadata": {},
   "source": [
    "Get tfidf weights for articles and hilights.\n",
    "\n",
    "Each results is a dictionary formated as {token:weight} where weight is the token tfidf value"
   ]
  },
  {
   "cell_type": "code",
   "execution_count": 5,
   "metadata": {},
   "outputs": [
    {
     "data": {
      "text/plain": [
       "(3650, 623)"
      ]
     },
     "execution_count": 5,
     "metadata": {},
     "output_type": "execute_result"
    }
   ],
   "source": [
    "dict_tfidf_article=get_dict_tfidf(dict_article_highlight, \"article\")\n",
    "dict_tfidf_highlight=get_dict_tfidf(dict_article_highlight, \"highlight\")\n",
    "len(dict_tfidf_article),len(dict_tfidf_highlight)"
   ]
  },
  {
   "cell_type": "markdown",
   "metadata": {},
   "source": [
    "Bar plot of frequencies for file #2, both for article and hilights."
   ]
  },
  {
   "cell_type": "code",
   "execution_count": 6,
   "metadata": {},
   "outputs": [
    {
     "name": "stdout",
     "output_type": "stream",
     "text": [
      "<FreqDist with 337 samples and 496 outcomes>\n",
      "<FreqDist with 49 samples and 61 outcomes>\n"
     ]
    }
   ],
   "source": [
    "dict_plot_frequency(dict_article_highlight, 2, \"article\",query=\"Freq>2\")\n",
    "dict_plot_frequency(dict_article_highlight, 2, \"highlight\",query=None)"
   ]
  },
  {
   "cell_type": "markdown",
   "metadata": {},
   "source": [
    "Read all recorded files and retrieve tfidf values."
   ]
  },
  {
   "cell_type": "code",
   "execution_count": 7,
   "metadata": {},
   "outputs": [
    {
     "name": "stdout",
     "output_type": "stream",
     "text": [
      "Reading ./data/cnn_corpus/869*.hig\n",
      "Reading ./data/cnn_corpus/869*.art\n",
      "Number of pair of files read= 111\n"
     ]
    }
   ],
   "source": [
    "file_path =\"./data/cnn_corpus\"\n",
    "if is_partial_read is True :\n",
    "    #-------------------------------------------------------------\n",
    "    # Only file names starting with aaa are read.\n",
    "    #-------------------------------------------------------------\n",
    "    restriction=\"869*\"\n",
    "else:\n",
    "    #-------------------------------------------------------------\n",
    "    # All file names are read.\n",
    "    #-------------------------------------------------------------\n",
    "    restriction=None\n",
    "dict_article_highlight = get_dict_article_highlight(file_path, p_restriction=restriction)\n",
    "\n",
    "print(\"Number of pair of files read= \"+str(len(dict_article_highlight)))"
   ]
  },
  {
   "cell_type": "markdown",
   "metadata": {},
   "source": [
    "Get TFIDF values"
   ]
  },
  {
   "cell_type": "code",
   "execution_count": 8,
   "metadata": {},
   "outputs": [
    {
     "data": {
      "text/plain": [
       "(12584, 2158)"
      ]
     },
     "execution_count": 8,
     "metadata": {},
     "output_type": "execute_result"
    }
   ],
   "source": [
    "dict_tfidf_article=get_dict_tfidf(dict_article_highlight, \"article\")\n",
    "dict_tfidf_highlight=get_dict_tfidf(dict_article_highlight, \"highlight\")\n",
    "len(dict_tfidf_article),len(dict_tfidf_highlight)"
   ]
  },
  {
   "cell_type": "markdown",
   "metadata": {},
   "source": [
    "Plot token frequencies"
   ]
  },
  {
   "cell_type": "code",
   "execution_count": 9,
   "metadata": {},
   "outputs": [
    {
     "name": "stdout",
     "output_type": "stream",
     "text": [
      "<FreqDist with 167 samples and 206 outcomes>\n",
      "<FreqDist with 40 samples and 45 outcomes>\n"
     ]
    },
    {
     "data": {
      "image/png": "[encoded data removed]",
      "text/plain": [
       "<matplotlib.figure.Figure at 0xabbfc34c>"
      ]
     },
     "metadata": {},
     "output_type": "display_data"
    },
    {
     "data": {
      "image/png": "[encoded data removed]",
      "text/plain": [
       "<matplotlib.figure.Figure at 0xabe1edcc>"
      ]
     },
     "metadata": {},
     "output_type": "display_data"
    }
   ],
   "source": [
    "file_count=1\n",
    "dict_plot_frequency(dict_article_highlight, file_count, \"article\",query=\"Freq>2\")\n",
    "dict_plot_frequency(dict_article_highlight, file_count, \"highlight\",query=None)"
   ]
  },
  {
   "cell_type": "code",
   "execution_count": null,
   "metadata": {},
   "outputs": [],
   "source": []
  }
 ],
 "metadata": {
  "kernelspec": {
   "display_name": "Python 3",
   "language": "python",
   "name": "python3"
  },
  "language_info": {
   "codemirror_mode": {
    "name": "ipython",
    "version": 3
   },
   "file_extension": ".py",
   "mimetype": "text/x-python",
   "name": "python",
   "nbconvert_exporter": "python",
   "pygments_lexer": "ipython3",
   "version": "3.6.4"
  }
 },
 "nbformat": 4,
 "nbformat_minor": 2
}
