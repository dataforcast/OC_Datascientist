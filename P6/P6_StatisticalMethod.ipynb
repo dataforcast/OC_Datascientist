{
 "cells": [
  {
   "cell_type": "markdown",
   "metadata": {
    "slideshow": {
     "slide_type": "-"
    }
   },
   "source": [
    "<!--NOTEBOOK_INFORMATION-->\n",
    "<img align=\"left\" style=\"padding-right:10px;\" src=\"./figures/LogoOpenclassrooms.png\">\n",
    "<font size=\"4\">\n",
    "<p>\n",
    "Cette étude a été réalisée dans le cadre du 6ème projet de ma formation Datascientist dispensée en MOOC par \n",
    "</p>    \n",
    "<font color='blus'>Openclassrooms / écoles Centrale-Supélec</font>.\n",
    "<p>\n",
    "Le modèle étudié se base sur les données fournies par le site de StackOverFlow.\n",
    "</p>\n",
    "<p>\n",
    "Ce notebook présente un système de suggestion de TAGS basé sur des méthodes statistiques.\n",
    "</p>\n",
    "<p>\n",
    "Le traitement des données réalisé dans le notebook 'P6_DataAnalysis' sont utilisées pour alimenter les modèles.\n",
    "</p>\n",
    "\n"
   ]
  },
  {
   "cell_type": "markdown",
   "metadata": {},
   "source": [
    "# 5 Statistical TAGS assignement methods"
   ]
  },
  {
   "cell_type": "markdown",
   "metadata": {},
   "source": [
    "TAGS are regarded as keywords.\n",
    "\n",
    "Aims of this section is to create data points then identify clusters from this set of data.\n",
    "\n",
    "These data-points are digital representation of the cleaned documents dataset.\n",
    "\n",
    "For each-one of the clusters, most representative terms will be identified.\n",
    "\n",
    "These terms will be considered as TAGs.\n",
    "\n",
    "Differents embeddings techniques will be used in order to create data-points : \n",
    "\n",
    "* Bag of words\n",
    "* Co-occurence\n",
    "* TF-IDF"
   ]
  },
  {
   "cell_type": "markdown",
   "metadata": {},
   "source": [
    "**Loading cleaned train dataset.**"
   ]
  },
  {
   "cell_type": "code",
   "execution_count": 18,
   "metadata": {},
   "outputs": [
    {
     "name": "stdout",
     "output_type": "stream",
     "text": [
      "p5_util.object_load : fileName= ./data/df_sof_train.dump\n",
      "(24604, 5)\n"
     ]
    }
   ],
   "source": [
    "import p5_util\n",
    "file_name='./data/df_sof_train.dump'\n",
    "df_sof_train = p5_util.object_load(file_name)\n",
    "print(df_sof_train.shape)"
   ]
  },
  {
   "cell_type": "markdown",
   "metadata": {},
   "source": [
    "### 5.1.1 Features creation from Bag of Words"
   ]
  },
  {
   "cell_type": "markdown",
   "metadata": {},
   "source": [
    "* Dataset is tokenized\n",
    "* Corpus is represented as a matrix\n",
    "* Matrix values are tokens frequencies (TF)"
   ]
  },
  {
   "cell_type": "code",
   "execution_count": 19,
   "metadata": {},
   "outputs": [],
   "source": [
    "dict_sof_document = df_sof_train.Body.to_dict()"
   ]
  },
  {
   "cell_type": "markdown",
   "metadata": {},
   "source": [
    "**Normalization**"
   ]
  },
  {
   "cell_type": "code",
   "execution_count": 20,
   "metadata": {},
   "outputs": [],
   "source": [
    "# When building vacabulary, terms with frequency document < p_min_df are ignored.\n",
    "p_min_df = 0.001\n",
    "\n",
    "# When building vacabulary, terms with frequency document> p_max_df are ignored.\n",
    "p_max_df = 1."
   ]
  },
  {
   "cell_type": "markdown",
   "metadata": {},
   "source": [
    "**BOW Vectorization with (1-GRAM terms)**"
   ]
  },
  {
   "cell_type": "code",
   "execution_count": 21,
   "metadata": {
    "scrolled": true
   },
   "outputs": [
    {
     "name": "stdout",
     "output_type": "stream",
     "text": [
      "(24604, 2147)\n"
     ]
    }
   ],
   "source": [
    "from sklearn.feature_extraction.text import CountVectorizer\n",
    "ngram=1\n",
    "vectorizer = CountVectorizer(min_df=0.001, max_df=.1, ngram_range=(ngram, ngram))\n",
    "csr_matrix = vectorizer.fit_transform(dict_sof_document.values())\n",
    "\n",
    "print(csr_matrix.shape)"
   ]
  },
  {
   "cell_type": "markdown",
   "metadata": {},
   "source": [
    "The 24604 posts are expanded over 2462 features."
   ]
  },
  {
   "cell_type": "markdown",
   "metadata": {},
   "source": [
    "**Test of statistical methods for TAGs assignation**"
   ]
  },
  {
   "cell_type": "markdown",
   "metadata": {},
   "source": [
    "For each raw from CSR matrix, the N greater values are extracted.\n",
    "\n",
    "Matching Key words from columns are chosen from vacabulary.\n",
    "\n",
    "Those keywords are assigned as TAGS.\n"
   ]
  },
  {
   "cell_type": "markdown",
   "metadata": {},
   "source": [
    "**Loading test dataset**"
   ]
  },
  {
   "cell_type": "code",
   "execution_count": 22,
   "metadata": {},
   "outputs": [],
   "source": [
    "import pandas as pd\n",
    "file_name=\"./data/test_StackOverFlow_BodyTitleTags.csv\"\n",
    "df_sof_test=pd.read_csv(file_name)"
   ]
  },
  {
   "cell_type": "markdown",
   "metadata": {},
   "source": [
    "**Extract a row to be tested from test dataset**"
   ]
  },
  {
   "cell_type": "code",
   "execution_count": 23,
   "metadata": {},
   "outputs": [],
   "source": [
    "import p6_util\n",
    "\n",
    "document_index=400"
   ]
  },
  {
   "cell_type": "code",
   "execution_count": null,
   "metadata": {},
   "outputs": [],
   "source": [
    "import p6_util\n",
    "\n",
    "df_document = df_sof_test[df_sof_test.index==document_index]\n",
    "df_document_std = p6_util.p6_df_standardization(df_document)"
   ]
  },
  {
   "cell_type": "markdown",
   "metadata": {},
   "source": [
    "**Apply test**"
   ]
  },
  {
   "cell_type": "code",
   "execution_count": 24,
   "metadata": {},
   "outputs": [
    {
     "name": "stdout",
     "output_type": "stream",
     "text": [
      "\n",
      "Cleaning text in-between markers <code></code> markers...\n",
      "\n",
      "Cleaning LXML markers...\n",
      "\n",
      "Remove verbs from sentences...\n",
      "\n",
      "Filtering alpha-numeroc words from sentences...\n",
      "\n",
      "Removing stopwords...\n"
     ]
    },
    {
     "name": "stderr",
     "output_type": "stream",
     "text": [
      "/home/bangui/Dropbox/Perso/Formation/Openclassroom/Datascientist/P6/p6_util.py:37: SettingWithCopyWarning: \n",
      "A value is trying to be set on a copy of a slice from a DataFrame.\n",
      "Try using .loc[row_indexer,col_indexer] = value instead\n",
      "\n",
      "See the caveats in the documentation: http://pandas.pydata.org/pandas-docs/stable/indexing.html#indexing-view-versus-copy\n",
      "  df[\"Body\"] = df.Body.apply(cb_remove_marker,args=('code',))\n",
      "/home/bangui/Dropbox/Perso/Formation/Openclassroom/Datascientist/P6/p6_util.py:40: SettingWithCopyWarning: \n",
      "A value is trying to be set on a copy of a slice from a DataFrame.\n",
      "Try using .loc[row_indexer,col_indexer] = value instead\n",
      "\n",
      "See the caveats in the documentation: http://pandas.pydata.org/pandas-docs/stable/indexing.html#indexing-view-versus-copy\n",
      "  df[\"Body\"] = df.Body.apply(cb_clean_lxml)\n",
      "/home/bangui/Dropbox/Perso/Formation/Openclassroom/Datascientist/P6/p6_util.py:43: SettingWithCopyWarning: \n",
      "A value is trying to be set on a copy of a slice from a DataFrame.\n",
      "Try using .loc[row_indexer,col_indexer] = value instead\n",
      "\n",
      "See the caveats in the documentation: http://pandas.pydata.org/pandas-docs/stable/indexing.html#indexing-view-versus-copy\n",
      "  df[\"Body\"] = df.Body.apply(cb_sentence_filter)\n",
      "/home/bangui/Dropbox/Perso/Formation/Openclassroom/Datascientist/P6/p6_util.py:46: SettingWithCopyWarning: \n",
      "A value is trying to be set on a copy of a slice from a DataFrame.\n",
      "Try using .loc[row_indexer,col_indexer] = value instead\n",
      "\n",
      "See the caveats in the documentation: http://pandas.pydata.org/pandas-docs/stable/indexing.html#indexing-view-versus-copy\n",
      "  df[\"Body\"] = df.Body.apply(cb_remove_verb_from_sentence)\n"
     ]
    },
    {
     "name": "stdout",
     "output_type": "stream",
     "text": [
      "\n",
      "Lemmatization ...\n"
     ]
    },
    {
     "name": "stderr",
     "output_type": "stream",
     "text": [
      "/home/bangui/Dropbox/Perso/Formation/Openclassroom/Datascientist/P6/p6_util.py:49: SettingWithCopyWarning: \n",
      "A value is trying to be set on a copy of a slice from a DataFrame.\n",
      "Try using .loc[row_indexer,col_indexer] = value instead\n",
      "\n",
      "See the caveats in the documentation: http://pandas.pydata.org/pandas-docs/stable/indexing.html#indexing-view-versus-copy\n",
      "  df[\"Body\"] = df.Body.apply(cb_remove_stopwords)\n",
      "/home/bangui/Dropbox/Perso/Formation/Openclassroom/Datascientist/P6/p6_util.py:54: SettingWithCopyWarning: \n",
      "A value is trying to be set on a copy of a slice from a DataFrame.\n",
      "Try using .loc[row_indexer,col_indexer] = value instead\n",
      "\n",
      "See the caveats in the documentation: http://pandas.pydata.org/pandas-docs/stable/indexing.html#indexing-view-versus-copy\n",
      "  df['Body']=df.Body.apply(p5_util.cb_lemmatizer,args=(lemmatizer,'lower'))\n"
     ]
    }
   ],
   "source": [
    "import p6_util\n",
    "p_tag_ratio=0.1\n",
    "embeding_mode='bow'\n",
    "list_tag, list_tag_original, str_original_document \\\n",
    "= p6_util.taglist_stat_predict(df_sof_test, document_index, embeding_mode\\\n",
    "                               , vectorizer, csr_matrix, p_tag_ratio)"
   ]
  },
  {
   "cell_type": "code",
   "execution_count": 25,
   "metadata": {},
   "outputs": [
    {
     "name": "stdout",
     "output_type": "stream",
     "text": [
      "\n",
      "Original sentence : <p>In my user model, I have an attribute called \"nickname\" and validates as such:</p>\n",
      "\n",
      "<blockquote>\n",
      "  <p>validates_format_of :nickname, :with => /[a-zA-Z0-9]$/, :allow_nil => true</p>\n",
      "</blockquote>\n",
      "\n",
      "<p>However, it is currently letting this string pass as valid:</p>\n",
      "\n",
      "<p>a?c</p>\n",
      "\n",
      "<p>I only want to accept alphanumeric strings - does anyone know why my regular expression is failing?  If anybody could suggest a better regular expression, I'm all ears.</p>\n",
      "\n",
      "BOW : Suggested Tags list : ['allow', 'anybody']\n",
      "Original Tags list : ['regex', 'validation']\n",
      "\n"
     ]
    }
   ],
   "source": [
    "if list_tag is not None and list_tag_original is not None and str_original_document is not None: \n",
    "    print(\"\\nOriginal sentence : {}\".format(str_original_document))\n",
    "    print(\"BOW : Suggested Tags list : {}\".format(sorted(list_tag)))\n",
    "    print(\"Original Tags list : {}\\n\".format(sorted(list_tag_original)))"
   ]
  },
  {
   "cell_type": "markdown",
   "metadata": {},
   "source": [
    "### 5.1.2 Features creation from TF-IDF representation"
   ]
  },
  {
   "cell_type": "markdown",
   "metadata": {},
   "source": [
    "* Terms having a frequency occurence greater then ``p_max_df`` threshold are ignored\n",
    "* Terms having a frequency occurence less then ``p_min_df`` threshold are ignored"
   ]
  },
  {
   "cell_type": "markdown",
   "metadata": {},
   "source": [
    "**Normalization**"
   ]
  },
  {
   "cell_type": "code",
   "execution_count": 26,
   "metadata": {},
   "outputs": [],
   "source": [
    "# When building vacabulary, terms with frequency document < p_min_df are ignored.\n",
    "p_min_df = 0.001\n",
    "\n",
    "# When building vacabulary, terms with frequency document> p_max_df are ignored.\n",
    "p_max_df = 1."
   ]
  },
  {
   "cell_type": "code",
   "execution_count": 27,
   "metadata": {},
   "outputs": [
    {
     "name": "stdout",
     "output_type": "stream",
     "text": [
      "24604\n",
      "(24604, 2166)\n"
     ]
    }
   ],
   "source": [
    "from sklearn.feature_extraction.text import TfidfVectorizer\n",
    "\n",
    "dict_sof = df_sof_train.Body.to_dict()\n",
    "print(len(dict_sof))\n",
    "\n",
    "vectorizer=TfidfVectorizer(norm=\"l2\", use_idf=True, min_df=p_min_df, max_df=p_max_df)\n",
    "csr_matrix = vectorizer.fit_transform(dict_sof.values())\n",
    "\n",
    "print(csr_matrix.shape)"
   ]
  },
  {
   "cell_type": "markdown",
   "metadata": {},
   "source": [
    "The 24604 posts are expanded over 2484 features."
   ]
  },
  {
   "cell_type": "markdown",
   "metadata": {},
   "source": [
    "**Test of statistical methods based on TFIDF for TAGs assignation**"
   ]
  },
  {
   "cell_type": "markdown",
   "metadata": {},
   "source": [
    "For each raw from CSR matrix, the N greater values are extracted.\n",
    "\n",
    "Matching Key words with columns are chosen from vacabulary.\n",
    "\n",
    "Those keywords are assigned as TAGS.\n"
   ]
  },
  {
   "cell_type": "markdown",
   "metadata": {},
   "source": [
    "**Loading test dataset**"
   ]
  },
  {
   "cell_type": "code",
   "execution_count": 28,
   "metadata": {},
   "outputs": [],
   "source": [
    "import pandas as pd\n",
    "file_name=\"./data/test_StackOverFlow_BodyTitleTags.csv\"\n",
    "df_sof_test=pd.read_csv(file_name)"
   ]
  },
  {
   "cell_type": "markdown",
   "metadata": {},
   "source": [
    "**Extract a row to be tested from test dataset**"
   ]
  },
  {
   "cell_type": "code",
   "execution_count": 29,
   "metadata": {},
   "outputs": [],
   "source": [
    "import p6_util\n",
    "\n",
    "document_index=400"
   ]
  },
  {
   "cell_type": "markdown",
   "metadata": {},
   "source": [
    "**Apply test**"
   ]
  },
  {
   "cell_type": "code",
   "execution_count": 30,
   "metadata": {
    "scrolled": true
   },
   "outputs": [
    {
     "name": "stdout",
     "output_type": "stream",
     "text": [
      "\n",
      "Cleaning text in-between markers <code></code> markers...\n",
      "\n",
      "Cleaning LXML markers...\n",
      "\n",
      "Remove verbs from sentences...\n",
      "\n",
      "Filtering alpha-numeroc words from sentences...\n",
      "\n",
      "Removing stopwords...\n"
     ]
    },
    {
     "name": "stderr",
     "output_type": "stream",
     "text": [
      "/home/bangui/Dropbox/Perso/Formation/Openclassroom/Datascientist/P6/p6_util.py:37: SettingWithCopyWarning: \n",
      "A value is trying to be set on a copy of a slice from a DataFrame.\n",
      "Try using .loc[row_indexer,col_indexer] = value instead\n",
      "\n",
      "See the caveats in the documentation: http://pandas.pydata.org/pandas-docs/stable/indexing.html#indexing-view-versus-copy\n",
      "  df[\"Body\"] = df.Body.apply(cb_remove_marker,args=('code',))\n",
      "/home/bangui/Dropbox/Perso/Formation/Openclassroom/Datascientist/P6/p6_util.py:40: SettingWithCopyWarning: \n",
      "A value is trying to be set on a copy of a slice from a DataFrame.\n",
      "Try using .loc[row_indexer,col_indexer] = value instead\n",
      "\n",
      "See the caveats in the documentation: http://pandas.pydata.org/pandas-docs/stable/indexing.html#indexing-view-versus-copy\n",
      "  df[\"Body\"] = df.Body.apply(cb_clean_lxml)\n",
      "/home/bangui/Dropbox/Perso/Formation/Openclassroom/Datascientist/P6/p6_util.py:43: SettingWithCopyWarning: \n",
      "A value is trying to be set on a copy of a slice from a DataFrame.\n",
      "Try using .loc[row_indexer,col_indexer] = value instead\n",
      "\n",
      "See the caveats in the documentation: http://pandas.pydata.org/pandas-docs/stable/indexing.html#indexing-view-versus-copy\n",
      "  df[\"Body\"] = df.Body.apply(cb_sentence_filter)\n",
      "/home/bangui/Dropbox/Perso/Formation/Openclassroom/Datascientist/P6/p6_util.py:46: SettingWithCopyWarning: \n",
      "A value is trying to be set on a copy of a slice from a DataFrame.\n",
      "Try using .loc[row_indexer,col_indexer] = value instead\n",
      "\n",
      "See the caveats in the documentation: http://pandas.pydata.org/pandas-docs/stable/indexing.html#indexing-view-versus-copy\n",
      "  df[\"Body\"] = df.Body.apply(cb_remove_verb_from_sentence)\n"
     ]
    },
    {
     "name": "stdout",
     "output_type": "stream",
     "text": [
      "\n",
      "Lemmatization ...\n"
     ]
    },
    {
     "name": "stderr",
     "output_type": "stream",
     "text": [
      "/home/bangui/Dropbox/Perso/Formation/Openclassroom/Datascientist/P6/p6_util.py:49: SettingWithCopyWarning: \n",
      "A value is trying to be set on a copy of a slice from a DataFrame.\n",
      "Try using .loc[row_indexer,col_indexer] = value instead\n",
      "\n",
      "See the caveats in the documentation: http://pandas.pydata.org/pandas-docs/stable/indexing.html#indexing-view-versus-copy\n",
      "  df[\"Body\"] = df.Body.apply(cb_remove_stopwords)\n",
      "/home/bangui/Dropbox/Perso/Formation/Openclassroom/Datascientist/P6/p6_util.py:54: SettingWithCopyWarning: \n",
      "A value is trying to be set on a copy of a slice from a DataFrame.\n",
      "Try using .loc[row_indexer,col_indexer] = value instead\n",
      "\n",
      "See the caveats in the documentation: http://pandas.pydata.org/pandas-docs/stable/indexing.html#indexing-view-versus-copy\n",
      "  df['Body']=df.Body.apply(p5_util.cb_lemmatizer,args=(lemmatizer,'lower'))\n"
     ]
    }
   ],
   "source": [
    "import p6_util\n",
    "p_tag_ratio=0.3\n",
    "embeding_mode='tfidf'\n",
    "list_tag, list_tag_original, str_original_document \\\n",
    "= p6_util.taglist_stat_predict(df_sof_test, document_index, embeding_mode, vectorizer, csr_matrix, p_tag_ratio)"
   ]
  },
  {
   "cell_type": "code",
   "execution_count": 31,
   "metadata": {
    "scrolled": true
   },
   "outputs": [
    {
     "name": "stdout",
     "output_type": "stream",
     "text": [
      "\n",
      "Original sentence : <p>In my user model, I have an attribute called \"nickname\" and validates as such:</p>\n",
      "\n",
      "<blockquote>\n",
      "  <p>validates_format_of :nickname, :with => /[a-zA-Z0-9]$/, :allow_nil => true</p>\n",
      "</blockquote>\n",
      "\n",
      "<p>However, it is currently letting this string pass as valid:</p>\n",
      "\n",
      "<p>a?c</p>\n",
      "\n",
      "<p>I only want to accept alphanumeric strings - does anyone know why my regular expression is failing?  If anybody could suggest a better regular expression, I'm all ears.</p>\n",
      "\n",
      "TFIDF : Suggested Tags list : ['allow', 'anybody', 'attribute', 'ci', 'expression', 'pas', 'regular', 'valid']\n",
      "Original Tags list : ['regex', 'validation']\n",
      "\n"
     ]
    }
   ],
   "source": [
    "if list_tag is not None and list_tag_original is not None and str_original_document is not None: \n",
    "    print(\"\\nOriginal sentence : {}\".format(str_original_document))\n",
    "    print(\"TFIDF : Suggested Tags list : {}\".format(list_tag))\n",
    "    print(\"Original Tags list : {}\\n\".format(list_tag_original))"
   ]
  },
  {
   "cell_type": "markdown",
   "metadata": {},
   "source": [
    "### 5.1.3 Features creation from Co-occurency representation : bi-gram occurencies"
   ]
  },
  {
   "cell_type": "markdown",
   "metadata": {},
   "source": [
    "* Terms having a frequency occurence greater then ``p_max_df`` threshold are ignored\n",
    "* Terms having a frequency occurence less then ``p_min_df`` threshold are ignored"
   ]
  },
  {
   "cell_type": "code",
   "execution_count": 32,
   "metadata": {},
   "outputs": [],
   "source": [
    "# When building vacabulary, terms with frequency document < p_min_df are ignored.\n",
    "p_min_df = 0.001\n",
    "\n",
    "# When building vacabulary, terms with frequency document> p_max_df are ignored.\n",
    "p_max_df = 1."
   ]
  },
  {
   "cell_type": "code",
   "execution_count": 33,
   "metadata": {},
   "outputs": [
    {
     "name": "stdout",
     "output_type": "stream",
     "text": [
      "(24604, 1272)\n"
     ]
    }
   ],
   "source": [
    "from sklearn.feature_extraction.text import CountVectorizer\n",
    "ngram=2\n",
    "vectorizer = CountVectorizer(min_df=0.001, max_df=.1, ngram_range=(ngram, ngram))\n",
    "csr_matrix = vectorizer.fit_transform(dict_sof_document.values())\n",
    "\n",
    "print(csr_matrix.shape)"
   ]
  },
  {
   "cell_type": "markdown",
   "metadata": {},
   "source": [
    "The 24604 posts are expanded over 1376 features."
   ]
  },
  {
   "cell_type": "markdown",
   "metadata": {},
   "source": [
    "**Apply test **"
   ]
  },
  {
   "cell_type": "code",
   "execution_count": 34,
   "metadata": {},
   "outputs": [
    {
     "name": "stdout",
     "output_type": "stream",
     "text": [
      "\n",
      "Cleaning text in-between markers <code></code> markers...\n",
      "\n",
      "Cleaning LXML markers...\n",
      "\n",
      "Remove verbs from sentences...\n"
     ]
    },
    {
     "name": "stderr",
     "output_type": "stream",
     "text": [
      "/home/bangui/Dropbox/Perso/Formation/Openclassroom/Datascientist/P6/p6_util.py:37: SettingWithCopyWarning: \n",
      "A value is trying to be set on a copy of a slice from a DataFrame.\n",
      "Try using .loc[row_indexer,col_indexer] = value instead\n",
      "\n",
      "See the caveats in the documentation: http://pandas.pydata.org/pandas-docs/stable/indexing.html#indexing-view-versus-copy\n",
      "  df[\"Body\"] = df.Body.apply(cb_remove_marker,args=('code',))\n",
      "/home/bangui/Dropbox/Perso/Formation/Openclassroom/Datascientist/P6/p6_util.py:40: SettingWithCopyWarning: \n",
      "A value is trying to be set on a copy of a slice from a DataFrame.\n",
      "Try using .loc[row_indexer,col_indexer] = value instead\n",
      "\n",
      "See the caveats in the documentation: http://pandas.pydata.org/pandas-docs/stable/indexing.html#indexing-view-versus-copy\n",
      "  df[\"Body\"] = df.Body.apply(cb_clean_lxml)\n",
      "/home/bangui/Dropbox/Perso/Formation/Openclassroom/Datascientist/P6/p6_util.py:43: SettingWithCopyWarning: \n",
      "A value is trying to be set on a copy of a slice from a DataFrame.\n",
      "Try using .loc[row_indexer,col_indexer] = value instead\n",
      "\n",
      "See the caveats in the documentation: http://pandas.pydata.org/pandas-docs/stable/indexing.html#indexing-view-versus-copy\n",
      "  df[\"Body\"] = df.Body.apply(cb_sentence_filter)\n",
      "/home/bangui/Dropbox/Perso/Formation/Openclassroom/Datascientist/P6/p6_util.py:46: SettingWithCopyWarning: \n",
      "A value is trying to be set on a copy of a slice from a DataFrame.\n",
      "Try using .loc[row_indexer,col_indexer] = value instead\n",
      "\n",
      "See the caveats in the documentation: http://pandas.pydata.org/pandas-docs/stable/indexing.html#indexing-view-versus-copy\n",
      "  df[\"Body\"] = df.Body.apply(cb_remove_verb_from_sentence)\n"
     ]
    },
    {
     "name": "stdout",
     "output_type": "stream",
     "text": [
      "\n",
      "Filtering alpha-numeroc words from sentences...\n",
      "\n",
      "Removing stopwords...\n",
      "\n",
      "Lemmatization ...\n"
     ]
    },
    {
     "name": "stderr",
     "output_type": "stream",
     "text": [
      "/home/bangui/Dropbox/Perso/Formation/Openclassroom/Datascientist/P6/p6_util.py:49: SettingWithCopyWarning: \n",
      "A value is trying to be set on a copy of a slice from a DataFrame.\n",
      "Try using .loc[row_indexer,col_indexer] = value instead\n",
      "\n",
      "See the caveats in the documentation: http://pandas.pydata.org/pandas-docs/stable/indexing.html#indexing-view-versus-copy\n",
      "  df[\"Body\"] = df.Body.apply(cb_remove_stopwords)\n",
      "/home/bangui/Dropbox/Perso/Formation/Openclassroom/Datascientist/P6/p6_util.py:54: SettingWithCopyWarning: \n",
      "A value is trying to be set on a copy of a slice from a DataFrame.\n",
      "Try using .loc[row_indexer,col_indexer] = value instead\n",
      "\n",
      "See the caveats in the documentation: http://pandas.pydata.org/pandas-docs/stable/indexing.html#indexing-view-versus-copy\n",
      "  df['Body']=df.Body.apply(p5_util.cb_lemmatizer,args=(lemmatizer,'lower'))\n"
     ]
    }
   ],
   "source": [
    "import p6_util\n",
    "p_tag_ratio=0.3\n",
    "embeding_mode='ngram'\n",
    "list_tag, list_tag_original, str_original_document \\\n",
    "= p6_util.taglist_stat_predict(df_sof_test, document_index, embeding_mode, vectorizer, csr_matrix, p_tag_ratio)"
   ]
  },
  {
   "cell_type": "code",
   "execution_count": 35,
   "metadata": {
    "scrolled": true
   },
   "outputs": [
    {
     "name": "stdout",
     "output_type": "stream",
     "text": [
      "\n",
      "Original sentence : <p>In my user model, I have an attribute called \"nickname\" and validates as such:</p>\n",
      "\n",
      "<blockquote>\n",
      "  <p>validates_format_of :nickname, :with => /[a-zA-Z0-9]$/, :allow_nil => true</p>\n",
      "</blockquote>\n",
      "\n",
      "<p>However, it is currently letting this string pass as valid:</p>\n",
      "\n",
      "<p>a?c</p>\n",
      "\n",
      "<p>I only want to accept alphanumeric strings - does anyone know why my regular expression is failing?  If anybody could suggest a better regular expression, I'm all ears.</p>\n",
      "\n",
      "BOW/NGRAM=2 : Suggested Tags list : ['regular expression']\n",
      "Original Tags list : ['regex', 'validation']\n",
      "\n"
     ]
    }
   ],
   "source": [
    "if list_tag is not None and list_tag_original is not None and str_original_document is not None: \n",
    "    print(\"\\nOriginal sentence : {}\".format(str_original_document))\n",
    "    print(\"BOW/NGRAM=2 : Suggested Tags list : {}\".format(list_tag))\n",
    "    print(\"Original Tags list : {}\\n\".format(list_tag_original))"
   ]
  },
  {
   "cell_type": "markdown",
   "metadata": {},
   "source": [
    "### 5.1.4 Features creation from Co-occurency representation : 1-gram & bi-gram TF-IDF"
   ]
  },
  {
   "cell_type": "markdown",
   "metadata": {},
   "source": [
    "* Terms having a frequency occurence greater then ``p_max_df`` threshold are ignored\n",
    "* Terms having a frequency occurence less then ``p_min_df`` threshold are ignored"
   ]
  },
  {
   "cell_type": "code",
   "execution_count": 36,
   "metadata": {},
   "outputs": [],
   "source": [
    "# When building vacabulary, terms with frequency document < p_min_df are ignored.\n",
    "p_min_df = 0.001\n",
    "\n",
    "# When building vacabulary, terms with frequency document> p_max_df are ignored.\n",
    "p_max_df = 1."
   ]
  },
  {
   "cell_type": "code",
   "execution_count": 37,
   "metadata": {},
   "outputs": [
    {
     "name": "stdout",
     "output_type": "stream",
     "text": [
      "(24604, 3438)\n"
     ]
    }
   ],
   "source": [
    "from sklearn.feature_extraction.text import TfidfVectorizer\n",
    "\n",
    "ngram1=1\n",
    "ngram2=2\n",
    "vectorizer=TfidfVectorizer(norm=\"l2\", use_idf=True, min_df=p_min_df, max_df=p_max_df, ngram_range=(ngram1, ngram2))\n",
    "\n",
    "csr_matrix = vectorizer.fit_transform(dict_sof_document.values())\n",
    "\n",
    "print(csr_matrix.shape)"
   ]
  },
  {
   "cell_type": "markdown",
   "metadata": {},
   "source": [
    "The 24604 posts are expanded over 3860 features."
   ]
  },
  {
   "cell_type": "markdown",
   "metadata": {},
   "source": [
    "**Apply test**"
   ]
  },
  {
   "cell_type": "code",
   "execution_count": 38,
   "metadata": {},
   "outputs": [
    {
     "name": "stdout",
     "output_type": "stream",
     "text": [
      "\n",
      "Cleaning text in-between markers <code></code> markers...\n",
      "\n",
      "Cleaning LXML markers...\n",
      "\n",
      "Remove verbs from sentences...\n",
      "\n",
      "Filtering alpha-numeroc words from sentences...\n",
      "\n",
      "Removing stopwords...\n"
     ]
    },
    {
     "name": "stderr",
     "output_type": "stream",
     "text": [
      "/home/bangui/Dropbox/Perso/Formation/Openclassroom/Datascientist/P6/p6_util.py:37: SettingWithCopyWarning: \n",
      "A value is trying to be set on a copy of a slice from a DataFrame.\n",
      "Try using .loc[row_indexer,col_indexer] = value instead\n",
      "\n",
      "See the caveats in the documentation: http://pandas.pydata.org/pandas-docs/stable/indexing.html#indexing-view-versus-copy\n",
      "  df[\"Body\"] = df.Body.apply(cb_remove_marker,args=('code',))\n",
      "/home/bangui/Dropbox/Perso/Formation/Openclassroom/Datascientist/P6/p6_util.py:40: SettingWithCopyWarning: \n",
      "A value is trying to be set on a copy of a slice from a DataFrame.\n",
      "Try using .loc[row_indexer,col_indexer] = value instead\n",
      "\n",
      "See the caveats in the documentation: http://pandas.pydata.org/pandas-docs/stable/indexing.html#indexing-view-versus-copy\n",
      "  df[\"Body\"] = df.Body.apply(cb_clean_lxml)\n",
      "/home/bangui/Dropbox/Perso/Formation/Openclassroom/Datascientist/P6/p6_util.py:43: SettingWithCopyWarning: \n",
      "A value is trying to be set on a copy of a slice from a DataFrame.\n",
      "Try using .loc[row_indexer,col_indexer] = value instead\n",
      "\n",
      "See the caveats in the documentation: http://pandas.pydata.org/pandas-docs/stable/indexing.html#indexing-view-versus-copy\n",
      "  df[\"Body\"] = df.Body.apply(cb_sentence_filter)\n",
      "/home/bangui/Dropbox/Perso/Formation/Openclassroom/Datascientist/P6/p6_util.py:46: SettingWithCopyWarning: \n",
      "A value is trying to be set on a copy of a slice from a DataFrame.\n",
      "Try using .loc[row_indexer,col_indexer] = value instead\n",
      "\n",
      "See the caveats in the documentation: http://pandas.pydata.org/pandas-docs/stable/indexing.html#indexing-view-versus-copy\n",
      "  df[\"Body\"] = df.Body.apply(cb_remove_verb_from_sentence)\n"
     ]
    },
    {
     "name": "stdout",
     "output_type": "stream",
     "text": [
      "\n",
      "Lemmatization ...\n"
     ]
    },
    {
     "name": "stderr",
     "output_type": "stream",
     "text": [
      "/home/bangui/Dropbox/Perso/Formation/Openclassroom/Datascientist/P6/p6_util.py:49: SettingWithCopyWarning: \n",
      "A value is trying to be set on a copy of a slice from a DataFrame.\n",
      "Try using .loc[row_indexer,col_indexer] = value instead\n",
      "\n",
      "See the caveats in the documentation: http://pandas.pydata.org/pandas-docs/stable/indexing.html#indexing-view-versus-copy\n",
      "  df[\"Body\"] = df.Body.apply(cb_remove_stopwords)\n",
      "/home/bangui/Dropbox/Perso/Formation/Openclassroom/Datascientist/P6/p6_util.py:54: SettingWithCopyWarning: \n",
      "A value is trying to be set on a copy of a slice from a DataFrame.\n",
      "Try using .loc[row_indexer,col_indexer] = value instead\n",
      "\n",
      "See the caveats in the documentation: http://pandas.pydata.org/pandas-docs/stable/indexing.html#indexing-view-versus-copy\n",
      "  df['Body']=df.Body.apply(p5_util.cb_lemmatizer,args=(lemmatizer,'lower'))\n"
     ]
    }
   ],
   "source": [
    "import p6_util\n",
    "p_tag_ratio=0.3\n",
    "embeding_mode='tfidf'\n",
    "list_tag, list_tag_original, str_original_document \\\n",
    "= p6_util.taglist_stat_predict(df_sof_test, document_index, embeding_mode, vectorizer, csr_matrix, p_tag_ratio)"
   ]
  },
  {
   "cell_type": "code",
   "execution_count": 39,
   "metadata": {
    "scrolled": true
   },
   "outputs": [
    {
     "name": "stdout",
     "output_type": "stream",
     "text": [
      "\n",
      "Original sentence : <p>In my user model, I have an attribute called \"nickname\" and validates as such:</p>\n",
      "\n",
      "<blockquote>\n",
      "  <p>validates_format_of :nickname, :with => /[a-zA-Z0-9]$/, :allow_nil => true</p>\n",
      "</blockquote>\n",
      "\n",
      "<p>However, it is currently letting this string pass as valid:</p>\n",
      "\n",
      "<p>a?c</p>\n",
      "\n",
      "<p>I only want to accept alphanumeric strings - does anyone know why my regular expression is failing?  If anybody could suggest a better regular expression, I'm all ears.</p>\n",
      "\n",
      "TFIDF/NGRAM=(1,2) : Suggested Tags list : ['allow', 'attribute', 'ci', 'expression', 'pas', 'regular', 'regular expression', 'valid']\n",
      "Original Tags list : ['regex', 'validation']\n",
      "\n"
     ]
    }
   ],
   "source": [
    "if list_tag is not None and list_tag_original is not None and str_original_document is not None: \n",
    "    print(\"\\nOriginal sentence : {}\".format(str_original_document))\n",
    "    print(\"TFIDF/NGRAM=(1,2) : Suggested Tags list : {}\".format(list_tag))\n",
    "    print(\"Original Tags list : {}\\n\".format(list_tag_original))"
   ]
  },
  {
   "cell_type": "code",
   "execution_count": 40,
   "metadata": {},
   "outputs": [
    {
     "name": "stdout",
     "output_type": "stream",
     "text": [
      "\n",
      "Cleaning text in-between markers <code></code> markers...\n",
      "\n",
      "Cleaning LXML markers...\n",
      "\n",
      "Remove verbs from sentences...\n",
      "\n",
      "Filtering alpha-numeroc words from sentences...\n",
      "\n",
      "Removing stopwords...\n",
      "\n",
      "Lemmatization ...\n"
     ]
    },
    {
     "name": "stderr",
     "output_type": "stream",
     "text": [
      "/home/bangui/Dropbox/Perso/Formation/Openclassroom/Datascientist/P6/p6_util.py:37: SettingWithCopyWarning: \n",
      "A value is trying to be set on a copy of a slice from a DataFrame.\n",
      "Try using .loc[row_indexer,col_indexer] = value instead\n",
      "\n",
      "See the caveats in the documentation: http://pandas.pydata.org/pandas-docs/stable/indexing.html#indexing-view-versus-copy\n",
      "  df[\"Body\"] = df.Body.apply(cb_remove_marker,args=('code',))\n",
      "/home/bangui/Dropbox/Perso/Formation/Openclassroom/Datascientist/P6/p6_util.py:40: SettingWithCopyWarning: \n",
      "A value is trying to be set on a copy of a slice from a DataFrame.\n",
      "Try using .loc[row_indexer,col_indexer] = value instead\n",
      "\n",
      "See the caveats in the documentation: http://pandas.pydata.org/pandas-docs/stable/indexing.html#indexing-view-versus-copy\n",
      "  df[\"Body\"] = df.Body.apply(cb_clean_lxml)\n",
      "/home/bangui/Dropbox/Perso/Formation/Openclassroom/Datascientist/P6/p6_util.py:43: SettingWithCopyWarning: \n",
      "A value is trying to be set on a copy of a slice from a DataFrame.\n",
      "Try using .loc[row_indexer,col_indexer] = value instead\n",
      "\n",
      "See the caveats in the documentation: http://pandas.pydata.org/pandas-docs/stable/indexing.html#indexing-view-versus-copy\n",
      "  df[\"Body\"] = df.Body.apply(cb_sentence_filter)\n",
      "/home/bangui/Dropbox/Perso/Formation/Openclassroom/Datascientist/P6/p6_util.py:46: SettingWithCopyWarning: \n",
      "A value is trying to be set on a copy of a slice from a DataFrame.\n",
      "Try using .loc[row_indexer,col_indexer] = value instead\n",
      "\n",
      "See the caveats in the documentation: http://pandas.pydata.org/pandas-docs/stable/indexing.html#indexing-view-versus-copy\n",
      "  df[\"Body\"] = df.Body.apply(cb_remove_verb_from_sentence)\n",
      "/home/bangui/Dropbox/Perso/Formation/Openclassroom/Datascientist/P6/p6_util.py:49: SettingWithCopyWarning: \n",
      "A value is trying to be set on a copy of a slice from a DataFrame.\n",
      "Try using .loc[row_indexer,col_indexer] = value instead\n",
      "\n",
      "See the caveats in the documentation: http://pandas.pydata.org/pandas-docs/stable/indexing.html#indexing-view-versus-copy\n",
      "  df[\"Body\"] = df.Body.apply(cb_remove_stopwords)\n"
     ]
    },
    {
     "name": "stdout",
     "output_type": "stream",
     "text": [
      "\n",
      "*** ERROR : get_dict_frequency function should apply with         CountVectorizer type only!\n"
     ]
    },
    {
     "name": "stderr",
     "output_type": "stream",
     "text": [
      "/home/bangui/Dropbox/Perso/Formation/Openclassroom/Datascientist/P6/p6_util.py:54: SettingWithCopyWarning: \n",
      "A value is trying to be set on a copy of a slice from a DataFrame.\n",
      "Try using .loc[row_indexer,col_indexer] = value instead\n",
      "\n",
      "See the caveats in the documentation: http://pandas.pydata.org/pandas-docs/stable/indexing.html#indexing-view-versus-copy\n",
      "  df['Body']=df.Body.apply(p5_util.cb_lemmatizer,args=(lemmatizer,'lower'))\n"
     ]
    }
   ],
   "source": [
    "import p6_util\n",
    "\n",
    "#---------------------------------------------------------------\n",
    "#Extract a row to be tested from test dataset \n",
    "#---------------------------------------------------------------\n",
    "document_index=400\n",
    "p_tag_ratio=0.3\n",
    "embeding_mode='bow'\n",
    "\n",
    "#p6_util.tag_document_test(document_index, embeding_mode, p_tag_ratio)\n",
    "\n",
    "list_tag, list_tag_original, str_original_document \\\n",
    "= p6_util.taglist_stat_predict(df_sof_test, document_index, embeding_mode, vectorizer, csr_matrix, p_tag_ratio)"
   ]
  },
  {
   "cell_type": "code",
   "execution_count": 41,
   "metadata": {},
   "outputs": [],
   "source": [
    "if list_tag is not None and list_tag_original is not None and str_original_document is not None: \n",
    "    print(\"\\nOriginal sentence : {}\".format(str_original_document))\n",
    "    print(\"TFIDF : Suggested Tags list : {}\".format(list_tag))\n",
    "    print(\"Original Tags list : {}\\n\".format(list_tag_original))"
   ]
  }
 ],
 "metadata": {
  "celltoolbar": "Slideshow",
  "kernelspec": {
   "display_name": "Python 3",
   "language": "python",
   "name": "python3"
  },
  "language_info": {
   "codemirror_mode": {
    "name": "ipython",
    "version": 3
   },
   "file_extension": ".py",
   "mimetype": "text/x-python",
   "name": "python",
   "nbconvert_exporter": "python",
   "pygments_lexer": "ipython3",
   "version": "3.7.0"
  }
 },
 "nbformat": 4,
 "nbformat_minor": 2
}
