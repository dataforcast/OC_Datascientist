{
 "cells": [
  {
   "cell_type": "markdown",
   "metadata": {
    "slideshow": {
     "slide_type": "-"
    }
   },
   "source": [
    "<!--NOTEBOOK_INFORMATION-->\n",
    "<img align=\"left\" style=\"padding-right:10px;\" src=\"./figures/LogoOpenclassrooms.png\">\n",
    "<font size=\"4\">\n",
    "<p>\n",
    "Cette étude a été réalisée dans le cadre du 6ème projet de ma formation Datascientist dispensée en MOOC par \n",
    "</p>    \n",
    "<font color='blus'>Openclassrooms / écoles Centrale-Supélec</font>.\n",
    "<p>\n",
    "Le modèle étudié se base sur les données fournies par le site de StackOverFlow.\n",
    "</p>\n",
    "<p>\n",
    "Ce notebook présente un système de suggestion de TAGS basé sur des méthodes statistiques.\n",
    "</p>\n",
    "<p>\n",
    "Le traitement des données réalisé dans le notebook 'P6_DataAnalysis' sont utilisées pour alimenter les modèles.\n",
    "</p>\n",
    "\n"
   ]
  },
  {
   "cell_type": "code",
   "execution_count": 120,
   "metadata": {},
   "outputs": [
    {
     "name": "stdout",
     "output_type": "stream",
     "text": [
      "The autoreload extension is already loaded. To reload it, use:\n",
      "  %reload_ext autoreload\n"
     ]
    }
   ],
   "source": [
    "%load_ext autoreload\n",
    "%autoreload 2\n",
    "%reload_ext autoreload\n",
    "\n",
    "import p6_util\n",
    "import p6_util_plot"
   ]
  },
  {
   "cell_type": "markdown",
   "metadata": {},
   "source": [
    "# 5 Statistical TAGS assignement methods"
   ]
  },
  {
   "cell_type": "markdown",
   "metadata": {},
   "source": [
    "**Loading cleaned train dataset.**"
   ]
  },
  {
   "cell_type": "code",
   "execution_count": 20,
   "metadata": {},
   "outputs": [
    {
     "name": "stdout",
     "output_type": "stream",
     "text": [
      "p5_util.object_load : fileName= ./data/ser_sof_train.dump\n",
      "(24604,)\n"
     ]
    }
   ],
   "source": [
    "import p5_util\n",
    "file_name='./data/ser_sof_train.dump'\n",
    "ser_sof_train = p5_util.object_load(file_name)\n",
    "print(ser_sof_train.shape)"
   ]
  },
  {
   "cell_type": "markdown",
   "metadata": {},
   "source": [
    "**Loading test dataset**"
   ]
  },
  {
   "cell_type": "code",
   "execution_count": 21,
   "metadata": {},
   "outputs": [],
   "source": [
    "import pandas as pd\n",
    "file_name=\"./data/test_StackOverFlow_BodyTitleTags.csv\"\n",
    "df_sof_test=pd.read_csv(file_name)"
   ]
  },
  {
   "cell_type": "code",
   "execution_count": 22,
   "metadata": {},
   "outputs": [],
   "source": [
    "df_sof_test['Body']=df_sof_test['Body']+df_sof_test['Title']"
   ]
  },
  {
   "cell_type": "markdown",
   "metadata": {},
   "source": [
    "**Loading target : list of TAGs from SOF**"
   ]
  },
  {
   "cell_type": "code",
   "execution_count": 23,
   "metadata": {},
   "outputs": [
    {
     "name": "stdout",
     "output_type": "stream",
     "text": [
      "(50000, 2)\n"
     ]
    }
   ],
   "source": [
    "import pandas as pd\n",
    "file_name=\"./data/StackOverFlowTags.csv\"\n",
    "df_sof_tags=pd.read_csv(file_name)\n",
    "print(df_sof_tags.shape)\n",
    "list_sof_tag = df_sof_tags.TagName.tolist( )"
   ]
  },
  {
   "cell_type": "markdown",
   "metadata": {},
   "source": [
    "## 5.1 Features creation from Bag of Words"
   ]
  },
  {
   "cell_type": "markdown",
   "metadata": {},
   "source": [
    "* Dataset is tokenized\n",
    "* Corpus is represented as a matrix\n",
    "* Matrix values are tokens frequencies (TF)"
   ]
  },
  {
   "cell_type": "markdown",
   "metadata": {},
   "source": [
    "**BOW Vectorization with (1-GRAM terms)**"
   ]
  },
  {
   "cell_type": "code",
   "execution_count": 72,
   "metadata": {},
   "outputs": [],
   "source": [
    "embeding_mode='bow'"
   ]
  },
  {
   "cell_type": "code",
   "execution_count": 112,
   "metadata": {},
   "outputs": [
    {
     "name": "stdout",
     "output_type": "stream",
     "text": [
      "(24604, 2463)\n"
     ]
    }
   ],
   "source": [
    "from sklearn.feature_extraction.text import CountVectorizer\n",
    "ngram=1\n",
    "vectorizer_bow = CountVectorizer(min_df=0.001, max_df=.1, ngram_range=(ngram, ngram))\n",
    "csr_matrix_bow = vectorizer_bow.fit_transform(ser_sof_train)\n",
    "\n",
    "print(csr_matrix_bow.shape)"
   ]
  },
  {
   "cell_type": "markdown",
   "metadata": {},
   "source": [
    "The 24604 posts are expanded over 2463 features."
   ]
  },
  {
   "cell_type": "markdown",
   "metadata": {},
   "source": [
    "### 5.1.1 BOW evaluation"
   ]
  },
  {
   "cell_type": "markdown",
   "metadata": {},
   "source": [
    "For each raw from CSR matrix, the N greater values are extracted.\n",
    "\n",
    "Matching Key words from columns are chosen from vacabulary.\n",
    "\n",
    "Those keywords are assigned as TAGS.\n"
   ]
  },
  {
   "cell_type": "code",
   "execution_count": 113,
   "metadata": {},
   "outputs": [
    {
     "data": {
      "text/plain": [
       "(32, 3)"
      ]
     },
     "execution_count": 113,
     "metadata": {},
     "output_type": "execute_result"
    }
   ],
   "source": [
    "nb_test = int(len(df_sof_test)/500)\n",
    "\n",
    "modulo=int(nb_test/10)\n",
    "nb_test, modulo"
   ]
  },
  {
   "cell_type": "code",
   "execution_count": 134,
   "metadata": {},
   "outputs": [
    {
     "name": "stdout",
     "output_type": "stream",
     "text": [
      "\n",
      "Test mode bow covering 32 documents\n",
      "\n",
      "Processed documents : 3/32\n",
      "Processed documents : 6/32\n",
      "Processed documents : 9/32\n",
      "Processed documents : 12/32\n",
      "Processed documents : 15/32\n",
      "Processed documents : 18/32\n",
      "Processed documents : 21/32\n",
      "Processed documents : 24/32\n",
      "Processed documents : 27/32\n",
      "Processed documents : 30/32\n"
     ]
    }
   ],
   "source": [
    "import p6_util\n",
    "dict_match_result = p6_util.p6_score_mean_string_simlarity(nb_test, df_sof_test, list_sof_tag\\\n",
    "    , vectorizer_bow, csr_matrix_bow,p_tag_ratio=None, embeding_mode='bow' )"
   ]
  },
  {
   "cell_type": "code",
   "execution_count": 135,
   "metadata": {},
   "outputs": [],
   "source": [
    "import p5_util\n",
    "file_name='./data/dict_match_result_bow_stat.dump'\n",
    "p5_util.object_dump(dict_match_result, file_name)"
   ]
  },
  {
   "cell_type": "code",
   "execution_count": 199,
   "metadata": {},
   "outputs": [
    {
     "name": "stdout",
     "output_type": "stream",
     "text": [
      "p5_util.object_load : fileName= ./data/dict_match_result_bow_stat.dump\n"
     ]
    }
   ],
   "source": [
    "import p5_util\n",
    "file_name='./data/dict_match_result_bow_stat.dump'\n",
    "dict_match_result = p5_util.object_load(file_name)"
   ]
  },
  {
   "cell_type": "code",
   "execution_count": 200,
   "metadata": {},
   "outputs": [
    {
     "name": "stdout",
     "output_type": "stream",
     "text": [
      "\n",
      "*** Mean similarity indice >100: 96.88 %\n",
      "\n",
      "*** Mean similarity indice = 0: 0.00 %\n",
      "\n",
      "*** Matching results : 21.88 %\n"
     ]
    }
   ],
   "source": [
    "import p6_util\n",
    "arr_similarity_result, arr_matching_result = p6_util.p6_stat_compute_result(dict_match_result)"
   ]
  },
  {
   "cell_type": "code",
   "execution_count": 201,
   "metadata": {},
   "outputs": [
    {
     "name": "stderr",
     "output_type": "stream",
     "text": [
      "/home/bangui/anaconda3/lib/python3.7/site-packages/scipy/stats/stats.py:1713: FutureWarning: Using a non-tuple sequence for multidimensional indexing is deprecated; use `arr[tuple(seq)]` instead of `arr[seq]`. In the future this will be interpreted as an array index, `arr[np.array(seq)]`, which will result either in an error or a different result.\n",
      "  return np.add.reduce(sorted[indexer] * weights, axis=axis) / sumval\n"
     ]
    },
    {
     "data": {
      "image/png": "[encoded data removed]",
      "text/plain": [
       "<Figure size 432x288 with 1 Axes>"
      ]
     },
     "metadata": {},
     "output_type": "display_data"
    }
   ],
   "source": [
    "import seaborn as sns, numpy as np\n",
    "sns.set()\n",
    "#x = np.random.randn(100)\n",
    "ax = sns.distplot(arr_similarity_result)"
   ]
  },
  {
   "cell_type": "code",
   "execution_count": 202,
   "metadata": {},
   "outputs": [
    {
     "name": "stderr",
     "output_type": "stream",
     "text": [
      "/home/bangui/anaconda3/lib/python3.7/site-packages/scipy/stats/stats.py:1713: FutureWarning: Using a non-tuple sequence for multidimensional indexing is deprecated; use `arr[tuple(seq)]` instead of `arr[seq]`. In the future this will be interpreted as an array index, `arr[np.array(seq)]`, which will result either in an error or a different result.\n",
      "  return np.add.reduce(sorted[indexer] * weights, axis=axis) / sumval\n"
     ]
    },
    {
     "data": {
      "image/png": "[encoded data removed]",
      "text/plain": [
       "<Figure size 432x288 with 1 Axes>"
      ]
     },
     "metadata": {},
     "output_type": "display_data"
    }
   ],
   "source": [
    "ax = sns.distplot(arr_matching_result, bins=30)"
   ]
  },
  {
   "cell_type": "code",
   "execution_count": 159,
   "metadata": {},
   "outputs": [
    {
     "name": "stdout",
     "output_type": "stream",
     "text": [
      "(100.0, 1.0, ['iphone'], ['iphone'])\n",
      "(100.0, 0.4, ['database', 'ion', 'eve', 'oracle', 'out'], ['database', 'oracle', 'command', 'line', 'client'])\n",
      "(100.0, 0.4, ['rinside', 'locale', 'set', 'utf', 'kismet-wireless'], ['c++', 'unicode', 'locale', 'utf', 'ucs'])\n",
      "(100.0, 0.5, ['csv', 'aws-elasticfilesystem', 'perl', 'table'], ['html', 'perl', 'html', 'table'])\n"
     ]
    },
    {
     "data": {
      "text/plain": [
       "[None, None, None, None]"
      ]
     },
     "execution_count": 159,
     "metadata": {},
     "output_type": "execute_result"
    }
   ],
   "source": [
    "import numpy as np\n",
    "\n",
    "arr_index = np.where(arr_matching_result>=0.4)[0]\n",
    "[print(dict_match_result[index]) for index in list(arr_index)]"
   ]
  },
  {
   "cell_type": "markdown",
   "metadata": {},
   "source": [
    "## 5.2 TF-IDF  with ngram=(1,1)"
   ]
  },
  {
   "cell_type": "code",
   "execution_count": 160,
   "metadata": {},
   "outputs": [
    {
     "name": "stdout",
     "output_type": "stream",
     "text": [
      "(24604, 2482)\n"
     ]
    }
   ],
   "source": [
    "from sklearn.feature_extraction.text import TfidfVectorizer\n",
    "# When building vacabulary, terms with frequency document < p_min_df are ignored.\n",
    "p_min_df = 0.001\n",
    "\n",
    "# When building vacabulary, terms with frequency document> p_max_df are ignored.\n",
    "p_max_df = 1.\n",
    "\n",
    "ngram1=1\n",
    "ngram2=1\n",
    "vectorizer_tfidf_ngram1=TfidfVectorizer(norm=\"l2\", use_idf=True, min_df=p_min_df, max_df=p_max_df, ngram_range=(ngram1, ngram2))\n",
    "\n",
    "csr_matrix_tfidf_ngram1 = vectorizer_tfidf_ngram1.fit_transform(ser_sof_train)\n",
    "\n",
    "print(csr_matrix_tfidf_ngram1.shape)"
   ]
  },
  {
   "cell_type": "code",
   "execution_count": 161,
   "metadata": {},
   "outputs": [
    {
     "name": "stdout",
     "output_type": "stream",
     "text": [
      "MIN DF= 0.001  MAX DF = 1.0\n"
     ]
    }
   ],
   "source": [
    "print(\"MIN DF= \"+str(p_min_df)+\"  MAX DF = \"+str(p_max_df))"
   ]
  },
  {
   "cell_type": "code",
   "execution_count": 162,
   "metadata": {},
   "outputs": [
    {
     "name": "stdout",
     "output_type": "stream",
     "text": [
      "Nb tests= 32 Module=3\n"
     ]
    }
   ],
   "source": [
    "nb_test = int(len(df_sof_test)/500)\n",
    "\n",
    "modulo=int(nb_test/10)\n",
    "print(\"Nb tests= {} Module={}\".format(nb_test, modulo))"
   ]
  },
  {
   "cell_type": "code",
   "execution_count": 163,
   "metadata": {},
   "outputs": [
    {
     "name": "stdout",
     "output_type": "stream",
     "text": [
      "\n",
      "Test mode tfidf covering 32 documents\n",
      "\n",
      "Processed documents : 3/32\n",
      "Processed documents : 6/32\n",
      "Processed documents : 9/32\n",
      "Processed documents : 12/32\n",
      "Processed documents : 15/32\n",
      "Processed documents : 18/32\n",
      "Processed documents : 21/32\n",
      "Processed documents : 24/32\n",
      "Processed documents : 27/32\n",
      "Processed documents : 30/32\n"
     ]
    }
   ],
   "source": [
    "import p6_util\n",
    "dict_match_result = p6_util.p6_score_mean_string_simlarity(nb_test, df_sof_test, list_sof_tag\\\n",
    "    , vectorizer_tfidf_ngram1, csr_matrix_tfidf_ngram1,p_tag_ratio=None, embeding_mode='tfidf' )"
   ]
  },
  {
   "cell_type": "code",
   "execution_count": 164,
   "metadata": {},
   "outputs": [],
   "source": [
    "import p5_util\n",
    "file_name='./data/dict_match_result_tfidf_ngram1_stat.dump'\n",
    "p5_util.object_dump(dict_match_result, file_name)"
   ]
  },
  {
   "cell_type": "code",
   "execution_count": 203,
   "metadata": {},
   "outputs": [
    {
     "name": "stdout",
     "output_type": "stream",
     "text": [
      "p5_util.object_load : fileName= ./data/dict_match_result_tfidf_ngram1_stat.dump\n"
     ]
    }
   ],
   "source": [
    "import p5_util\n",
    "file_name='./data/dict_match_result_tfidf_ngram1_stat.dump'\n",
    "dict_match_result = p5_util.object_load(file_name)"
   ]
  },
  {
   "cell_type": "code",
   "execution_count": 204,
   "metadata": {},
   "outputs": [
    {
     "name": "stdout",
     "output_type": "stream",
     "text": [
      "\n",
      "*** Mean similarity indice >100: 96.88 %\n",
      "\n",
      "*** Mean similarity indice = 0: 0.00 %\n",
      "\n",
      "*** Matching results : 34.38 %\n"
     ]
    }
   ],
   "source": [
    "import p6_util\n",
    "arr_similarity_result, arr_matching_result = p6_util.p6_stat_compute_result(dict_match_result)"
   ]
  },
  {
   "cell_type": "code",
   "execution_count": 205,
   "metadata": {},
   "outputs": [
    {
     "name": "stderr",
     "output_type": "stream",
     "text": [
      "/home/bangui/anaconda3/lib/python3.7/site-packages/scipy/stats/stats.py:1713: FutureWarning: Using a non-tuple sequence for multidimensional indexing is deprecated; use `arr[tuple(seq)]` instead of `arr[seq]`. In the future this will be interpreted as an array index, `arr[np.array(seq)]`, which will result either in an error or a different result.\n",
      "  return np.add.reduce(sorted[indexer] * weights, axis=axis) / sumval\n"
     ]
    },
    {
     "data": {
      "image/png": "[encoded data removed]",
      "text/plain": [
       "<Figure size 432x288 with 1 Axes>"
      ]
     },
     "metadata": {},
     "output_type": "display_data"
    }
   ],
   "source": [
    "import seaborn as sns, numpy as np\n",
    "sns.set()\n",
    "np.random.seed(0)\n",
    "#x = np.random.randn(100)\n",
    "ax = sns.distplot(arr_similarity_result)"
   ]
  },
  {
   "cell_type": "code",
   "execution_count": 206,
   "metadata": {},
   "outputs": [
    {
     "name": "stderr",
     "output_type": "stream",
     "text": [
      "/home/bangui/anaconda3/lib/python3.7/site-packages/scipy/stats/stats.py:1713: FutureWarning: Using a non-tuple sequence for multidimensional indexing is deprecated; use `arr[tuple(seq)]` instead of `arr[seq]`. In the future this will be interpreted as an array index, `arr[np.array(seq)]`, which will result either in an error or a different result.\n",
      "  return np.add.reduce(sorted[indexer] * weights, axis=axis) / sumval\n"
     ]
    },
    {
     "data": {
      "image/png": "[encoded data removed]",
      "text/plain": [
       "<Figure size 432x288 with 1 Axes>"
      ]
     },
     "metadata": {},
     "output_type": "display_data"
    }
   ],
   "source": [
    "ax = sns.distplot(arr_matching_result, bins=30)"
   ]
  },
  {
   "cell_type": "markdown",
   "metadata": {},
   "source": [
    "* Terms having a frequency occurence greater then ``p_max_df`` threshold are ignored\n",
    "* Terms having a frequency occurence less then ``p_min_df`` threshold are ignored"
   ]
  },
  {
   "cell_type": "markdown",
   "metadata": {},
   "source": [
    "## 5.3 TF-IDF  with ngram=(2,2)"
   ]
  },
  {
   "cell_type": "code",
   "execution_count": 170,
   "metadata": {},
   "outputs": [
    {
     "name": "stdout",
     "output_type": "stream",
     "text": [
      "(24604, 1142)\n"
     ]
    }
   ],
   "source": [
    "from sklearn.feature_extraction.text import TfidfVectorizer\n",
    "\n",
    "ngram1=2\n",
    "ngram2=2\n",
    "vectorizer_tfidf_ngram2=TfidfVectorizer(norm=\"l2\", use_idf=True, min_df=p_min_df, max_df=p_max_df, ngram_range=(ngram1, ngram2))\n",
    "\n",
    "csr_matrix_tfidf_ngram2 = vectorizer_tfidf_ngram2.fit_transform(ser_sof_train)\n",
    "\n",
    "print(csr_matrix_tfidf_ngram2.shape)"
   ]
  },
  {
   "cell_type": "code",
   "execution_count": 171,
   "metadata": {},
   "outputs": [
    {
     "name": "stdout",
     "output_type": "stream",
     "text": [
      "Nb tests= 32 Module=3\n"
     ]
    }
   ],
   "source": [
    "nb_test = int(len(df_sof_test)/500)\n",
    "\n",
    "modulo=int(nb_test/10)\n",
    "print(\"Nb tests= {} Module={}\".format(nb_test, modulo))"
   ]
  },
  {
   "cell_type": "code",
   "execution_count": 172,
   "metadata": {},
   "outputs": [
    {
     "name": "stdout",
     "output_type": "stream",
     "text": [
      "\n",
      "Test mode tfidf covering 32 documents\n",
      "\n",
      "Processed documents : 3/32\n",
      "Processed documents : 6/32\n",
      "Processed documents : 9/32\n",
      "Processed documents : 12/32\n",
      "Processed documents : 15/32\n",
      "Processed documents : 18/32\n",
      "Processed documents : 21/32\n",
      "Processed documents : 24/32\n",
      "Processed documents : 27/32\n",
      "Processed documents : 30/32\n"
     ]
    }
   ],
   "source": [
    "import p6_util\n",
    "dict_match_result = p6_util.p6_score_mean_string_simlarity(nb_test, df_sof_test, list_sof_tag\\\n",
    "    , vectorizer_tfidf_ngram2, csr_matrix_tfidf_ngram2,p_tag_ratio=None, embeding_mode='tfidf' )"
   ]
  },
  {
   "cell_type": "code",
   "execution_count": 173,
   "metadata": {},
   "outputs": [],
   "source": [
    "import p5_util\n",
    "file_name='./data/dict_match_result_tfidf_ngram2_stat.dump'\n",
    "p5_util.object_dump(dict_match_result, file_name)"
   ]
  },
  {
   "cell_type": "code",
   "execution_count": 207,
   "metadata": {},
   "outputs": [
    {
     "name": "stdout",
     "output_type": "stream",
     "text": [
      "p5_util.object_load : fileName= ./data/dict_match_result_tfidf_ngram2_stat.dump\n"
     ]
    }
   ],
   "source": [
    "import p5_util\n",
    "file_name='./data/dict_match_result_tfidf_ngram2_stat.dump'\n",
    "dict_match_result = p5_util.object_load(file_name)"
   ]
  },
  {
   "cell_type": "code",
   "execution_count": 208,
   "metadata": {},
   "outputs": [
    {
     "name": "stdout",
     "output_type": "stream",
     "text": [
      "\n",
      "*** Mean similarity indice >100: 21.88 %\n",
      "\n",
      "*** Mean similarity indice = 0: 28.12 %\n",
      "\n",
      "*** Matching results : 6.25 %\n"
     ]
    }
   ],
   "source": [
    "import p6_util\n",
    "arr_similarity_result, arr_matching_result = p6_util.p6_stat_compute_result(dict_match_result)"
   ]
  },
  {
   "cell_type": "code",
   "execution_count": 209,
   "metadata": {},
   "outputs": [
    {
     "name": "stderr",
     "output_type": "stream",
     "text": [
      "/home/bangui/anaconda3/lib/python3.7/site-packages/scipy/stats/stats.py:1713: FutureWarning: Using a non-tuple sequence for multidimensional indexing is deprecated; use `arr[tuple(seq)]` instead of `arr[seq]`. In the future this will be interpreted as an array index, `arr[np.array(seq)]`, which will result either in an error or a different result.\n",
      "  return np.add.reduce(sorted[indexer] * weights, axis=axis) / sumval\n"
     ]
    },
    {
     "data": {
      "image/png": "[encoded data removed]",
      "text/plain": [
       "<Figure size 432x288 with 1 Axes>"
      ]
     },
     "metadata": {},
     "output_type": "display_data"
    }
   ],
   "source": [
    "import seaborn as sns, numpy as np\n",
    "sns.set()\n",
    "np.random.seed(0)\n",
    "#x = np.random.randn(100)\n",
    "ax = sns.distplot(arr_similarity_result, bins=30)"
   ]
  },
  {
   "cell_type": "code",
   "execution_count": 210,
   "metadata": {
    "scrolled": true
   },
   "outputs": [
    {
     "name": "stderr",
     "output_type": "stream",
     "text": [
      "/home/bangui/anaconda3/lib/python3.7/site-packages/scipy/stats/stats.py:1713: FutureWarning: Using a non-tuple sequence for multidimensional indexing is deprecated; use `arr[tuple(seq)]` instead of `arr[seq]`. In the future this will be interpreted as an array index, `arr[np.array(seq)]`, which will result either in an error or a different result.\n",
      "  return np.add.reduce(sorted[indexer] * weights, axis=axis) / sumval\n"
     ]
    },
    {
     "data": {
      "image/png": "[encoded data removed]",
      "text/plain": [
       "<Figure size 432x288 with 1 Axes>"
      ]
     },
     "metadata": {},
     "output_type": "display_data"
    }
   ],
   "source": [
    "ax = sns.distplot(arr_matching_result, bins=30)"
   ]
  },
  {
   "cell_type": "markdown",
   "metadata": {},
   "source": [
    "## 5.4. TF-IDF  with ngram=(1,2)"
   ]
  },
  {
   "cell_type": "code",
   "execution_count": 178,
   "metadata": {},
   "outputs": [
    {
     "name": "stdout",
     "output_type": "stream",
     "text": [
      "(24604, 3624)\n"
     ]
    }
   ],
   "source": [
    "from sklearn.feature_extraction.text import TfidfVectorizer\n",
    "\n",
    "ngram1=1\n",
    "ngram2=2\n",
    "vectorizer_tfidf_ngram1_2=TfidfVectorizer(norm=\"l2\", use_idf=True, min_df=p_min_df, max_df=p_max_df, ngram_range=(ngram1, ngram2))\n",
    "\n",
    "csr_matrix_tfidf_ngram1_2 = vectorizer_tfidf_ngram1_2.fit_transform(ser_sof_train)\n",
    "\n",
    "print(csr_matrix_tfidf_ngram1_2.shape)"
   ]
  },
  {
   "cell_type": "code",
   "execution_count": 179,
   "metadata": {},
   "outputs": [
    {
     "name": "stdout",
     "output_type": "stream",
     "text": [
      "Nb tests= 32 Module=3\n"
     ]
    }
   ],
   "source": [
    "nb_test = int(len(df_sof_test)/500)\n",
    "\n",
    "modulo=int(nb_test/10)\n",
    "print(\"Nb tests= {} Module={}\".format(nb_test, modulo))"
   ]
  },
  {
   "cell_type": "code",
   "execution_count": 180,
   "metadata": {},
   "outputs": [
    {
     "name": "stdout",
     "output_type": "stream",
     "text": [
      "\n",
      "Test mode tfidf covering 32 documents\n",
      "\n",
      "Processed documents : 3/32\n",
      "Processed documents : 6/32\n",
      "Processed documents : 9/32\n",
      "Processed documents : 12/32\n",
      "Processed documents : 15/32\n",
      "Processed documents : 18/32\n",
      "Processed documents : 21/32\n",
      "Processed documents : 24/32\n",
      "Processed documents : 27/32\n",
      "Processed documents : 30/32\n"
     ]
    }
   ],
   "source": [
    "import p6_util\n",
    "dict_match_result = p6_util.p6_score_mean_string_simlarity(nb_test, df_sof_test, list_sof_tag\\\n",
    "    , vectorizer_tfidf_ngram1_2, csr_matrix_tfidf_ngram1_2,p_tag_ratio=None, embeding_mode='tfidf' )"
   ]
  },
  {
   "cell_type": "code",
   "execution_count": 181,
   "metadata": {},
   "outputs": [],
   "source": [
    "import p5_util\n",
    "file_name='./data/dict_match_result_tfidf_ngram1_2_stat.dump'\n",
    "p5_util.object_dump(dict_match_result, file_name)"
   ]
  },
  {
   "cell_type": "code",
   "execution_count": 211,
   "metadata": {},
   "outputs": [
    {
     "name": "stdout",
     "output_type": "stream",
     "text": [
      "p5_util.object_load : fileName= ./data/dict_match_result_tfidf_ngram1_2_stat.dump\n"
     ]
    }
   ],
   "source": [
    "import p5_util\n",
    "file_name='./data/dict_match_result_tfidf_ngram1_2_stat.dump'\n",
    "dict_match_result = p5_util.object_load(file_name)"
   ]
  },
  {
   "cell_type": "code",
   "execution_count": 212,
   "metadata": {},
   "outputs": [
    {
     "name": "stdout",
     "output_type": "stream",
     "text": [
      "\n",
      "*** Mean similarity indice >100: 100.00 %\n",
      "\n",
      "*** Mean similarity indice = 0: 0.00 %\n",
      "\n",
      "*** Matching results : 28.12 %\n"
     ]
    }
   ],
   "source": [
    "import p6_util\n",
    "arr_similarity_result, arr_matching_result = p6_util.p6_stat_compute_result(dict_match_result)"
   ]
  },
  {
   "cell_type": "code",
   "execution_count": 214,
   "metadata": {},
   "outputs": [
    {
     "name": "stderr",
     "output_type": "stream",
     "text": [
      "/home/bangui/anaconda3/lib/python3.7/site-packages/scipy/stats/stats.py:1713: FutureWarning: Using a non-tuple sequence for multidimensional indexing is deprecated; use `arr[tuple(seq)]` instead of `arr[seq]`. In the future this will be interpreted as an array index, `arr[np.array(seq)]`, which will result either in an error or a different result.\n",
      "  return np.add.reduce(sorted[indexer] * weights, axis=axis) / sumval\n",
      "/home/bangui/anaconda3/lib/python3.7/site-packages/statsmodels/nonparametric/kde.py:488: RuntimeWarning: invalid value encountered in true_divide\n",
      "  binned = fast_linbin(X, a, b, gridsize) / (delta * nobs)\n",
      "/home/bangui/anaconda3/lib/python3.7/site-packages/statsmodels/nonparametric/kdetools.py:34: RuntimeWarning: invalid value encountered in double_scalars\n",
      "  FAC1 = 2*(np.pi*bw/RANGE)**2\n",
      "/home/bangui/anaconda3/lib/python3.7/site-packages/numpy/core/fromnumeric.py:83: RuntimeWarning: invalid value encountered in reduce\n",
      "  return ufunc.reduce(obj, axis, dtype, out, **passkwargs)\n"
     ]
    },
    {
     "data": {
      "image/png": "[encoded data removed]",
      "text/plain": [
       "<Figure size 432x288 with 1 Axes>"
      ]
     },
     "metadata": {},
     "output_type": "display_data"
    }
   ],
   "source": [
    "import seaborn as sns, numpy as np\n",
    "sns.set()\n",
    "#x = np.random.randn(100)\n",
    "ax = sns.distplot(arr_similarity_result, bins=30)"
   ]
  },
  {
   "cell_type": "code",
   "execution_count": 215,
   "metadata": {},
   "outputs": [
    {
     "name": "stderr",
     "output_type": "stream",
     "text": [
      "/home/bangui/anaconda3/lib/python3.7/site-packages/scipy/stats/stats.py:1713: FutureWarning: Using a non-tuple sequence for multidimensional indexing is deprecated; use `arr[tuple(seq)]` instead of `arr[seq]`. In the future this will be interpreted as an array index, `arr[np.array(seq)]`, which will result either in an error or a different result.\n",
      "  return np.add.reduce(sorted[indexer] * weights, axis=axis) / sumval\n"
     ]
    },
    {
     "data": {
      "image/png": "[encoded data removed]",
      "text/plain": [
       "<Figure size 432x288 with 1 Axes>"
      ]
     },
     "metadata": {},
     "output_type": "display_data"
    }
   ],
   "source": [
    "ax = sns.distplot(arr_matching_result, bins=30)"
   ]
  },
  {
   "cell_type": "code",
   "execution_count": null,
   "metadata": {},
   "outputs": [],
   "source": []
  },
  {
   "cell_type": "code",
   "execution_count": null,
   "metadata": {},
   "outputs": [],
   "source": []
  },
  {
   "cell_type": "markdown",
   "metadata": {},
   "source": [
    "## 5.5. TF_IDF Vectorization optmization"
   ]
  },
  {
   "cell_type": "code",
   "execution_count": 186,
   "metadata": {},
   "outputs": [
    {
     "name": "stdout",
     "output_type": "stream",
     "text": [
      "(24604, 3677)\n"
     ]
    }
   ],
   "source": [
    "from sklearn.feature_extraction.text import TfidfVectorizer\n",
    "# When building vacabulary, terms with frequency document < p_min_df are ignored.\n",
    "p_min_df = 0.0005\n",
    "\n",
    "# When building vocabulary, terms with frequency document> p_max_df are ignored.\n",
    "p_max_df = 1.\n",
    "\n",
    "ngram1=1\n",
    "ngram2=1\n",
    "vectorizer_tfidf_ngram1=TfidfVectorizer(norm=\"l2\", use_idf=True, min_df=p_min_df, max_df=p_max_df, ngram_range=(ngram1, ngram2))\n",
    "\n",
    "csr_matrix_tfidf_ngram1 = vectorizer_tfidf_ngram1.fit_transform(ser_sof_train)\n",
    "\n",
    "print(csr_matrix_tfidf_ngram1.shape)"
   ]
  },
  {
   "cell_type": "code",
   "execution_count": 187,
   "metadata": {},
   "outputs": [
    {
     "name": "stdout",
     "output_type": "stream",
     "text": [
      "MIN DF= 0.0005  MAX DF = 1.0\n"
     ]
    }
   ],
   "source": [
    "print(\"MIN DF= \"+str(p_min_df)+\"  MAX DF = \"+str(p_max_df))"
   ]
  },
  {
   "cell_type": "code",
   "execution_count": 188,
   "metadata": {},
   "outputs": [
    {
     "name": "stdout",
     "output_type": "stream",
     "text": [
      "Nb tests= 32 Module=3\n"
     ]
    }
   ],
   "source": [
    "nb_test = int(len(df_sof_test)/500)\n",
    "\n",
    "modulo=int(nb_test/10)\n",
    "print(\"Nb tests= {} Module={}\".format(nb_test, modulo))"
   ]
  },
  {
   "cell_type": "code",
   "execution_count": 189,
   "metadata": {},
   "outputs": [
    {
     "name": "stdout",
     "output_type": "stream",
     "text": [
      "\n",
      "Test mode tfidf covering 32 documents\n",
      "\n",
      "Processed documents : 3/32\n",
      "Processed documents : 6/32\n",
      "Processed documents : 9/32\n",
      "Processed documents : 12/32\n",
      "Processed documents : 15/32\n",
      "Processed documents : 18/32\n",
      "Processed documents : 21/32\n",
      "Processed documents : 24/32\n",
      "Processed documents : 27/32\n",
      "Processed documents : 30/32\n"
     ]
    }
   ],
   "source": [
    "import p6_util\n",
    "dict_match_result = p6_util.p6_score_mean_string_simlarity(nb_test, df_sof_test, list_sof_tag\\\n",
    "    , vectorizer_tfidf_ngram1, csr_matrix_tfidf_ngram1,p_tag_ratio=None, embeding_mode='tfidf' )"
   ]
  },
  {
   "cell_type": "code",
   "execution_count": 190,
   "metadata": {},
   "outputs": [],
   "source": [
    "import p5_util\n",
    "file_name='./data/dict_match_result_tfidf_ngram1plus_stat.dump'\n",
    "p5_util.object_dump(dict_match_result, file_name)"
   ]
  },
  {
   "cell_type": "code",
   "execution_count": 216,
   "metadata": {},
   "outputs": [
    {
     "name": "stdout",
     "output_type": "stream",
     "text": [
      "p5_util.object_load : fileName= ./data/dict_match_result_tfidf_ngram1plus_stat.dump\n"
     ]
    }
   ],
   "source": [
    "import p5_util\n",
    "file_name='./data/dict_match_result_tfidf_ngram1plus_stat.dump'\n",
    "dict_match_result = p5_util.object_load(file_name)"
   ]
  },
  {
   "cell_type": "code",
   "execution_count": 217,
   "metadata": {},
   "outputs": [
    {
     "name": "stdout",
     "output_type": "stream",
     "text": [
      "\n",
      "*** Mean similarity indice >100: 96.88 %\n",
      "\n",
      "*** Mean similarity indice = 0: 0.00 %\n",
      "\n",
      "*** Matching results : 40.62 %\n"
     ]
    }
   ],
   "source": [
    "import p6_util\n",
    "arr_similarity_result, arr_matching_result = p6_util.p6_stat_compute_result(dict_match_result)"
   ]
  },
  {
   "cell_type": "code",
   "execution_count": 218,
   "metadata": {},
   "outputs": [
    {
     "name": "stderr",
     "output_type": "stream",
     "text": [
      "/home/bangui/anaconda3/lib/python3.7/site-packages/scipy/stats/stats.py:1713: FutureWarning: Using a non-tuple sequence for multidimensional indexing is deprecated; use `arr[tuple(seq)]` instead of `arr[seq]`. In the future this will be interpreted as an array index, `arr[np.array(seq)]`, which will result either in an error or a different result.\n",
      "  return np.add.reduce(sorted[indexer] * weights, axis=axis) / sumval\n"
     ]
    },
    {
     "data": {
      "image/png": "[encoded data removed]",
      "text/plain": [
       "<Figure size 432x288 with 1 Axes>"
      ]
     },
     "metadata": {},
     "output_type": "display_data"
    }
   ],
   "source": [
    "import seaborn as sns, numpy as np\n",
    "sns.set()\n",
    "np.random.seed(0)\n",
    "#x = np.random.randn(100)\n",
    "ax = sns.distplot(arr_similarity_result)"
   ]
  },
  {
   "cell_type": "code",
   "execution_count": 219,
   "metadata": {},
   "outputs": [
    {
     "name": "stderr",
     "output_type": "stream",
     "text": [
      "/home/bangui/anaconda3/lib/python3.7/site-packages/scipy/stats/stats.py:1713: FutureWarning: Using a non-tuple sequence for multidimensional indexing is deprecated; use `arr[tuple(seq)]` instead of `arr[seq]`. In the future this will be interpreted as an array index, `arr[np.array(seq)]`, which will result either in an error or a different result.\n",
      "  return np.add.reduce(sorted[indexer] * weights, axis=axis) / sumval\n"
     ]
    },
    {
     "data": {
      "image/png": "[encoded data removed]",
      "text/plain": [
       "<Figure size 432x288 with 1 Axes>"
      ]
     },
     "metadata": {},
     "output_type": "display_data"
    }
   ],
   "source": [
    "ax = sns.distplot(arr_matching_result, bins=30)"
   ]
  },
  {
   "cell_type": "code",
   "execution_count": null,
   "metadata": {},
   "outputs": [],
   "source": []
  },
  {
   "cell_type": "code",
   "execution_count": null,
   "metadata": {},
   "outputs": [],
   "source": []
  }
 ],
 "metadata": {
  "celltoolbar": "Slideshow",
  "kernelspec": {
   "display_name": "Python 3",
   "language": "python",
   "name": "python3"
  },
  "language_info": {
   "codemirror_mode": {
    "name": "ipython",
    "version": 3
   },
   "file_extension": ".py",
   "mimetype": "text/x-python",
   "name": "python",
   "nbconvert_exporter": "python",
   "pygments_lexer": "ipython3",
   "version": "3.7.0"
  }
 },
 "nbformat": 4,
 "nbformat_minor": 2
}
