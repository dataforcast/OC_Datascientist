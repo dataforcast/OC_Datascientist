{
 "cells": [
  {
   "cell_type": "markdown",
   "metadata": {},
   "source": [
    "<!--NOTEBOOK_INFORMATION-->\n",
    "<img align=\"left\" style=\"padding-right:10px;\" src=\"./figures/LogoOpenclassrooms.png\">\n",
    "<font size=\"4\">\n",
    "    \n",
    "Cette étude a été réalisée dans le cadre du 6ème projet de ma formation Datascientist dispensée en MOOC par \n",
    "\n",
    "<font color='blus'>Openclassrooms / écoles Centrale-Supélec</font>.\n",
    "\n",
    "\n",
    "\n",
    "\n",
    "<p></p><p></p><p></p>\n",
    "\n",
    "\n",
    "\n",
    "\n",
    "\n",
    "**Le problème posé :**\n",
    "\n",
    "\n",
    "*Stack Overflow est un site célèbre de question-réponses liées au développement informatique. Pour poser une question sur ce site, il faut entrer plusieurs tags de manière à retrouver facilement la question par la suite. Pour les utilisateurs expérimentés cela ne pose pas de problème, mais pour les nouveaux utilisateurs, il serait judicieux de suggérer quelques tags relatifs à la question posée.*\n",
    "\n",
    "*Amateur de Stack Overflow, qui vous a souvent sauvé la mise, vous décidez d'aider la communauté en retour. Pour cela, vous développez un système de suggestion de tags pour le site. Celui-ci prendra la forme d’un algorithme de machine learning qui assigne automatiquement plusieurs tags pertinents à une question.*\n"
   ]
  },
  {
   "cell_type": "code",
   "execution_count": null,
   "metadata": {},
   "outputs": [],
   "source": [
    "from P6_PostClassifier import *\n",
    "%load_ext autoreload\n",
    "%autoreload 2\n",
    "%reload_ext autoreload"
   ]
  },
  {
   "cell_type": "code",
   "execution_count": null,
   "metadata": {},
   "outputs": [],
   "source": [
    "import p5_util\n",
    "\n",
    "file_name=\"./data/train_StackOverFlow_BodyTitleTags.csv\"\n",
    "ser_sof_tags_train=pd.read_csv(file_name)['Tags']\n",
    "print(ser_sof_tags_train.shape)\n",
    "\n",
    "# List of referenced TAG is built...\n",
    "list_list_tags_train  \\\n",
    "= ser_sof_tags_train.apply(p6_util.clean_marker_text, leading_marker='<', trailing_marker='>').tolist()\n",
    "print(len(list_list_tags_train))\n",
    "\n",
    "list_ref_tags = list()\n",
    "for list_tags in list_list_tags_train :\n",
    "    list_ref_tags += [tag for tag in list_tags]\n",
    "    \n",
    "list_unique_tags_train = list(set(list_ref_tags))\n",
    "print(len(list_unique_tags_train))\n",
    "\n",
    "filename='./data/list_unique_tags_train'\n",
    "p5_util.object_dump(list_unique_tags_train,filename)"
   ]
  },
  {
   "cell_type": "code",
   "execution_count": null,
   "metadata": {},
   "outputs": [],
   "source": [
    "import pandas as pd\n",
    "\n",
    "file_name=\"./data/test_StackOverFlow_BodyTitleTags.csv\"\n",
    "df_sof_test=pd.read_csv(file_name)"
   ]
  },
  {
   "cell_type": "markdown",
   "metadata": {},
   "source": [
    "## <font color='blus'> 1.1 Loading LDA model</font>"
   ]
  },
  {
   "cell_type": "code",
   "execution_count": null,
   "metadata": {},
   "outputs": [],
   "source": [
    "from P6_PostClassifier import *\n",
    "\n",
    "oP6_PostClassifier = P6_PostClassifier(path_to_model='./data')\n",
    "oP6_PostClassifier.show()"
   ]
  },
  {
   "cell_type": "markdown",
   "metadata": {},
   "source": [
    "### 1.1.1 LDA model configuration"
   ]
  },
  {
   "cell_type": "code",
   "execution_count": null,
   "metadata": {},
   "outputs": [],
   "source": [
    "import p5_util\n",
    "\n",
    "model_name_file = 'lda_bow_400topics.dump'\n",
    "model_name = 'LDA'\n",
    "vectorizer_name = 'BOW'\n",
    "vectorizer_file_name=\"vectorizer_bow.dump\"\n",
    "oP6_PostClassifier.load_model_from_file_name(model_name, model_name_file, vectorizer_name,vectorizer_file_name )\n",
    "oP6_PostClassifier.list_tag_ref = list_unique_tags_train\n",
    "\n",
    "\n",
    "oP6_PostClassifier.model_name='LDA'\n",
    "oP6_PostClassifier.df_validation = df_sof_test\n",
    "oP6_PostClassifier.show()\n",
    "\n",
    "p5_util.object_dump(oP6_PostClassifier,'./data/oP6_PostClassifier.dump')"
   ]
  },
  {
   "cell_type": "code",
   "execution_count": null,
   "metadata": {},
   "outputs": [],
   "source": [
    "oP6_PostClassifier.df_validation.shape"
   ]
  },
  {
   "cell_type": "raw",
   "metadata": {},
   "source": [
    "from fuzzywuzzy import fuzz\n",
    "from fuzzywuzzy import process\n",
    "oP6_PostClassifier._list_tag_ref\n",
    "#process.extract('http', oP6_PostClassifier._list_tag_ref)"
   ]
  },
  {
   "cell_type": "code",
   "execution_count": null,
   "metadata": {},
   "outputs": [],
   "source": [
    "df_sample = df_sof_test.sample()\n",
    "body = df_sample.Body.iloc[0]\n",
    "title=df_sample.Title.iloc[0]\n",
    "tags = df_sample.Tags.iloc[0]\n",
    "\n",
    "oP6_PostClassifier.suggest(body, title, tags)"
   ]
  },
  {
   "cell_type": "code",
   "execution_count": null,
   "metadata": {},
   "outputs": [],
   "source": [
    "print()\n",
    "print(title)\n",
    "print()\n",
    "print(body)"
   ]
  },
  {
   "cell_type": "code",
   "execution_count": null,
   "metadata": {},
   "outputs": [],
   "source": [
    "list_tag_suggested = ['java', 'php', 'system', 'specific', 'perl', 'work', 'everything']"
   ]
  },
  {
   "cell_type": "code",
   "execution_count": null,
   "metadata": {},
   "outputs": [],
   "source": [
    "list_tag_fw = list()\n",
    "for word in list_tag_suggested :\n",
    "\n",
    "    list_tuple_score = process.extract(word, oP6_PostClassifier._list_tag_ref)\n",
    "\n",
    "    list_tag_fw += [tuple_score[0] for tuple_score \\\n",
    "    in list_tuple_score if tuple_score[1] >= 95]\n",
    "list_tag_fw"
   ]
  },
  {
   "cell_type": "markdown",
   "metadata": {},
   "source": [
    "## <font color='blus'> 1.2. Loading Logistic Regression model</font>"
   ]
  },
  {
   "cell_type": "code",
   "execution_count": null,
   "metadata": {},
   "outputs": [],
   "source": []
  },
  {
   "cell_type": "code",
   "execution_count": null,
   "metadata": {},
   "outputs": [],
   "source": [
    "from P6_PostClassifier import *\n",
    "\n",
    "model_name_file = 'classifier_best_logisticRegression.dump'\n",
    "model_name = 'LogReg'\n",
    "vectorizer_name = 'TFIDF'\n",
    "vectorizer_file_name=\"vectorizer_tfidf_ngram1_0.0002_.dump\"\n",
    "\n",
    "oP6_PostClassifier = P6_PostClassifier(path_to_model='./data')\n",
    "\n",
    "oP6_PostClassifier.load_model_from_file_name(model_name, model_name_file, vectorizer_name,vectorizer_file_name )\n",
    "oP6_PostClassifier.list_tag_ref = list_unique_tags_train\n",
    "oP6_PostClassifier.model_name=model_name\n",
    "oP6_PostClassifier.show()"
   ]
  },
  {
   "cell_type": "code",
   "execution_count": null,
   "metadata": {},
   "outputs": [],
   "source": [
    "df_sample = df_sof_test.sample()\n",
    "body = df_sample.Body.iloc[0]\n",
    "title=df_sample.Title.iloc[0]\n",
    "tags = df_sample.Tags.iloc[0]\n",
    "\n",
    "list_tag_suggested, list_tag_suggested_fw, list_assigned_tags = oP6_PostClassifier.suggest(body,title,tags)\n",
    "list_tag_suggested=list()\n",
    "X = oP6_PostClassifier._dict_vectorizer['TFIDF'].transform(oP6_PostClassifier._ser_post)\n",
    "\n",
    "y_pred = oP6_PostClassifier._dict_model['LogReg'].predict(X)\n",
    "print(X.shape, y_pred.A.shape)\n",
    "dict_row_col_pred = p6_util.p6_get_dict_row_col_from_csrmatrix(y_pred)\n",
    "\n",
    "for row, list_col_pred in dict_row_col_pred.items() :\n",
    "    list_col_pred = dict_row_col_pred[row]\n",
    "    print(list_col_pred)\n",
    "\n",
    "list_tag_suggested = list()\n",
    "for col in list_col_pred:\n",
    "    tag_suggested = oP6_PostClassifier._list_tag_ref[col]\n",
    "    list_tag_suggested.append(tag_suggested)\n",
    "print(list_tag_suggested,list_assigned_tags)\n",
    "print()\n",
    "print(title)\n",
    "print()\n",
    "print(body)"
   ]
  },
  {
   "cell_type": "code",
   "execution_count": null,
   "metadata": {},
   "outputs": [],
   "source": [
    "np.where(y_pred.A >0)\n",
    "#dict_row_col_pred"
   ]
  },
  {
   "cell_type": "code",
   "execution_count": null,
   "metadata": {},
   "outputs": [],
   "source": [
    "tuple_index = np.where(y_pred.A >0)\n",
    "oP6_PostClassifier._ser_post\n",
    "print(oP6_PostClassifier._list_tag_ref[575],oP6_PostClassifier._list_tag_ref[4910])\n"
   ]
  },
  {
   "cell_type": "code",
   "execution_count": null,
   "metadata": {},
   "outputs": [],
   "source": [
    "tags"
   ]
  },
  {
   "cell_type": "markdown",
   "metadata": {},
   "source": [
    "## <font color='blus'> 1.3. Loading KRR Gaussian model</font>"
   ]
  },
  {
   "cell_type": "code",
   "execution_count": null,
   "metadata": {},
   "outputs": [],
   "source": [
    "oP6_PostClassifier = P6_PostClassifier(path_to_model='./data')\n",
    "oP6_PostClassifier.show()"
   ]
  },
  {
   "cell_type": "code",
   "execution_count": null,
   "metadata": {},
   "outputs": [],
   "source": [
    "oP6_PostClassifier.list_tag_ref=list_unique_tags_train\n",
    "oP6_PostClassifier.show()"
   ]
  },
  {
   "cell_type": "code",
   "execution_count": null,
   "metadata": {},
   "outputs": [],
   "source": [
    "model_name_file = 'classifier_KRRGaussian.dump'\n",
    "model_name = 'KRR'\n",
    "\n",
    "vectorizer_name = 'TFIDF'\n",
    "vectorizer_file_name=\"vectorizer_tfidf_ngram1_0.0002_.dump\"\n",
    "\n",
    "oP6_PostClassifier.load_model_from_file_name(model_name, model_name_file, vectorizer_name,vectorizer_file_name )\n",
    "oP6_PostClassifier.model_name = model_name\n",
    "oP6_PostClassifier.show()"
   ]
  },
  {
   "cell_type": "code",
   "execution_count": null,
   "metadata": {},
   "outputs": [],
   "source": [
    "df_sample = df_sof_test.sample()\n",
    "body = df_sample.Body.iloc[0]\n",
    "title=df_sample.Title.iloc[0]\n",
    "tags = df_sample.Tags.iloc[0]\n",
    "\n",
    "oP6_PostClassifier.suggest(body,title,tags)"
   ]
  },
  {
   "cell_type": "markdown",
   "metadata": {},
   "source": [
    "# <font color='blus'> 2.0 Loading oP6_PostClassifier</font>"
   ]
  },
  {
   "cell_type": "code",
   "execution_count": 1,
   "metadata": {},
   "outputs": [
    {
     "name": "stdout",
     "output_type": "stream",
     "text": [
      "./data/oP6_PostClassifier.dump\n",
      "\n",
      "  \n",
      "Verbose  ................: True\n",
      "Path model name  ........: ./data\n",
      "Model name ..............: LDA\n",
      "Model ...................: LatentDirichletAllocation(batch_size=128, doc_topic_prior=None,\n",
      "             evaluate_every=-1, learning_decay=0.7,\n",
      "             learning_method='online', learning_offset=50.0,\n",
      "             max_doc_update_iter=100, max_iter=5, mean_change_tol=0.001,\n",
      "             n_components=10, n_jobs=None, n_topics=400, perp_tol=0.1,\n",
      "             random_state=0, topic_word_prior=None,\n",
      "             total_samples=1000000.0, verbose=0)\n",
      "\n",
      "Vectorizer name ..............: BOW\n",
      "Vectorizer ...................: CountVectorizer(analyzer='word', binary=False, decode_error='strict',\n",
      "        dtype=<class 'numpy.int64'>, encoding='utf-8', input='content',\n",
      "        lowercase=True, max_df=0.1, max_features=None, min_df=0.001,\n",
      "        ngram_range=(1, 1), preprocessor=None, stop_words=None,\n",
      "        strip_accents=None, token_pattern='(?u)\\\\b\\\\w\\\\w+\\\\b',\n",
      "        tokenizer=None, vocabulary=None)\n",
      "\n",
      "Current model name  .....: LDA\n",
      "Current vectorizer name .: BOW\n",
      "LDA topics ..............: 400\n",
      "List TAG ref ............: 6436\n",
      "Max suggested TAG .......: 6\n",
      "Validation dataset ......: 2\n"
     ]
    },
    {
     "name": "stderr",
     "output_type": "stream",
     "text": [
      "/home/bangui/anaconda3/lib/python3.6/site-packages/sklearn/base.py:251: UserWarning: Trying to unpickle estimator LatentDirichletAllocation from version 0.20.0 when using version 0.20.2. This might lead to breaking code or invalid results. Use at your own risk.\n",
      "  UserWarning)\n",
      "/home/bangui/anaconda3/lib/python3.6/site-packages/sklearn/base.py:251: UserWarning: Trying to unpickle estimator CountVectorizer from version 0.20.0 when using version 0.20.2. This might lead to breaking code or invalid results. Use at your own risk.\n",
      "  UserWarning)\n"
     ]
    }
   ],
   "source": [
    "from P6_PostClassifier import *\n",
    "import P6_PostClassifier\n",
    "\n",
    "oP6_PostClassifier = P6_PostClassifier.load_dumped()\n",
    "oP6_PostClassifier.show()"
   ]
  },
  {
   "cell_type": "code",
   "execution_count": 2,
   "metadata": {},
   "outputs": [
    {
     "name": "stdout",
     "output_type": "stream",
     "text": [
      "{\"_result\":[{tag_s : ['class']},{tag_a : ['c++', 'oop', 'visual-c++', 'templates']},{title : is it possible to have templated classes within a template class?},{body : <pre><code>template &lt;class M, class A&gt; class C { std::list&lt;M&gt; m_List; ... }\n",
      "</code></pre>\n",
      "\n",
      "<p>Is the above code possible?  I would like to be able to do something similar.</p>\n",
      "\n",
      "<p>Why I ask is that i get the following error:</p>\n",
      "\n",
      "<pre><code>Error 1 error C2079: 'std::_List_nod&lt;_Ty,_Alloc&gt;::_Node::_Myval' uses undefined class 'M'   C:\\Program Files\\Microsoft Visual Studio 9.0\\VC\\include\\list    41\n",
      "</code></pre>\n",
      "},]}\n",
      "\n"
     ]
    }
   ],
   "source": [
    "list_tag_suggested, list_tag_suggested_fw, list_assigned_tags, body, title = oP6_PostClassifier.process_post(None)\n",
    "json_result = oP6_PostClassifier.json_builder(list_tag_suggested, list_tag_suggested_fw, list_assigned_tags, body, title)\n",
    "print(json_result)\n",
    "print()\n",
    "\n"
   ]
  },
  {
   "cell_type": "code",
   "execution_count": null,
   "metadata": {},
   "outputs": [],
   "source": [
    "print()\n",
    "\n",
    "print(len(oP6_PostClassifier.df_validation.Body[post_id]))"
   ]
  },
  {
   "cell_type": "code",
   "execution_count": null,
   "metadata": {},
   "outputs": [],
   "source": [
    "df_sof_test.iloc[10]"
   ]
  },
  {
   "cell_type": "code",
   "execution_count": null,
   "metadata": {},
   "outputs": [],
   "source": [
    "post_id=0\n",
    "body = df_sof_test.Body.iloc[post_id]\n",
    "title = df_sof_test.Title.iloc[post_id]\n",
    "tag_a = df_sof_test.Tags.iloc[post_id]\n",
    "print()\n",
    "print(tag_a)\n",
    "print()\n",
    "print(title)\n",
    "print()\n",
    "print(body)"
   ]
  },
  {
   "cell_type": "code",
   "execution_count": null,
   "metadata": {},
   "outputs": [],
   "source": [
    "oP6_PostClassifier.df_validation.shape"
   ]
  },
  {
   "cell_type": "code",
   "execution_count": null,
   "metadata": {},
   "outputs": [],
   "source": []
  }
 ],
 "metadata": {
  "kernelspec": {
   "display_name": "Python 3",
   "language": "python",
   "name": "python3"
  },
  "language_info": {
   "codemirror_mode": {
    "name": "ipython",
    "version": 3
   },
   "file_extension": ".py",
   "mimetype": "text/x-python",
   "name": "python",
   "nbconvert_exporter": "python",
   "pygments_lexer": "ipython3",
   "version": "3.6.6"
  }
 },
 "nbformat": 4,
 "nbformat_minor": 2
}
