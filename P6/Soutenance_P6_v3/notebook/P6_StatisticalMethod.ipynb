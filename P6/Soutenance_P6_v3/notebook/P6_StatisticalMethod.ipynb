{
 "cells": [
  {
   "cell_type": "markdown",
   "metadata": {
    "slideshow": {
     "slide_type": "-"
    }
   },
   "source": [
    "<!--NOTEBOOK_INFORMATION-->\n",
    "<img align=\"left\" style=\"padding-right:10px;\" src=\"./figures/LogoOpenclassrooms.png\">\n",
    "<font size=\"4\">\n",
    "<p>\n",
    "Cette étude a été réalisée dans le cadre du 6ème projet de ma formation Datascientist dispensée en MOOC par \n",
    "</p>    \n",
    "<font color='blus'>Openclassrooms / écoles Centrale-Supélec</font>.\n",
    "<p>\n",
    "Le modèle étudié se base sur les données fournies par le site de StackOverFlow.\n",
    "</p>\n",
    "<p>\n",
    "Ce notebook présente un système de suggestion de TAGS basé sur des méthodes statistiques.\n",
    "</p>\n",
    "<p>\n",
    "Le traitement des données réalisé dans le notebook 'P6_DataAnalysis' sont utilisées pour alimenter les modèles.\n",
    "</p>\n",
    "\n"
   ]
  },
  {
   "cell_type": "code",
   "execution_count": 3,
   "metadata": {},
   "outputs": [],
   "source": [
    "%load_ext autoreload\n",
    "%autoreload 2\n",
    "%reload_ext autoreload\n",
    "\n",
    "import p6_util\n",
    "import p6_util_plot\n",
    "\n",
    "dict_stat_result = dict()\n",
    "\n",
    "import p5_util\n",
    "\n",
    "import pandas as pd\n",
    "def p6_load_dataset_benchmark() :\n",
    "    file_name=\"./data/StackOverFlowTags.csv\"\n",
    "    df_sof_tags=pd.read_csv(file_name)\n",
    "    print(df_sof_tags.shape)\n",
    "    list_sof_tag = df_sof_tags.TagName.tolist( )\n",
    "\n",
    "    file_name=\"./data/test_StackOverFlow_BodyTitleTags.csv\"\n",
    "    df_sof_test=pd.read_csv(file_name)\n",
    "\n",
    "    df_sof_test['Body']=df_sof_test['Body']+df_sof_test['Title']\n",
    "\n",
    "    file_name='./data/ser_sof_train.dump'\n",
    "    ser_sof_train = p5_util.object_load(file_name)\n",
    "    print(ser_sof_train.shape)\n",
    "    return ser_sof_train, df_sof_test, list_sof_tag"
   ]
  },
  {
   "cell_type": "markdown",
   "metadata": {},
   "source": [
    "# <font color='blus'>5. Statistical TAGs assignement methods</font>"
   ]
  },
  {
   "cell_type": "markdown",
   "metadata": {},
   "source": [
    "**Loading cleaned Posts train dataset**"
   ]
  },
  {
   "cell_type": "code",
   "execution_count": 3,
   "metadata": {},
   "outputs": [
    {
     "name": "stdout",
     "output_type": "stream",
     "text": [
      "p5_util.object_load : fileName= ./data/ser_sof_train.dump\n",
      "(24604,)\n"
     ]
    }
   ],
   "source": [
    "import p5_util\n",
    "file_name='./data/ser_sof_train.dump'\n",
    "ser_sof_train = p5_util.object_load(file_name)\n",
    "print(ser_sof_train.shape)"
   ]
  },
  {
   "cell_type": "markdown",
   "metadata": {},
   "source": [
    "**Loading test dataset**"
   ]
  },
  {
   "cell_type": "code",
   "execution_count": 4,
   "metadata": {},
   "outputs": [],
   "source": [
    "import pandas as pd\n",
    "file_name=\"./data/test_StackOverFlow_BodyTitleTags.csv\"\n",
    "df_sof_test=pd.read_csv(file_name)"
   ]
  },
  {
   "cell_type": "markdown",
   "metadata": {},
   "source": [
    "**POST is created from Body and Title columns**"
   ]
  },
  {
   "cell_type": "code",
   "execution_count": 5,
   "metadata": {},
   "outputs": [],
   "source": [
    "df_sof_test['Body']=df_sof_test['Body']+df_sof_test['Title']"
   ]
  },
  {
   "cell_type": "markdown",
   "metadata": {},
   "source": [
    "**Loading target : list of TAGs from SOF**"
   ]
  },
  {
   "cell_type": "code",
   "execution_count": 6,
   "metadata": {},
   "outputs": [
    {
     "name": "stdout",
     "output_type": "stream",
     "text": [
      "(50000, 2)\n"
     ]
    }
   ],
   "source": [
    "import pandas as pd\n",
    "file_name=\"./data/StackOverFlowTags.csv\"\n",
    "df_sof_tags=pd.read_csv(file_name)\n",
    "print(df_sof_tags.shape)\n",
    "list_sof_tag = df_sof_tags.TagName.tolist( )"
   ]
  },
  {
   "cell_type": "markdown",
   "metadata": {},
   "source": [
    "## <font color='blus'>5.1 Body+Title : Features creation from Bag of Words</font>"
   ]
  },
  {
   "cell_type": "markdown",
   "metadata": {},
   "source": [
    "* Dataset is tokenized\n",
    "* Corpus is represented as a matrix\n",
    "* Matrix values are tokens frequencies (TF)"
   ]
  },
  {
   "cell_type": "markdown",
   "metadata": {},
   "source": [
    "**BOW Vectorization with (1-GRAM terms)**"
   ]
  },
  {
   "cell_type": "code",
   "execution_count": 7,
   "metadata": {},
   "outputs": [
    {
     "name": "stdout",
     "output_type": "stream",
     "text": [
      "(24604, 2492)\n"
     ]
    }
   ],
   "source": [
    "from sklearn.feature_extraction.text import CountVectorizer\n",
    "import p5_util\n",
    "\n",
    "embeding_mode='bow'\n",
    "\n",
    "ngram=1\n",
    "vectorizer_bow = CountVectorizer(min_df=0.001, max_df=.1, ngram_range=(ngram, ngram))\n",
    "csr_matrix_bow = vectorizer_bow.fit_transform(ser_sof_train)\n",
    "\n",
    "print(csr_matrix_bow.shape)\n",
    "\n",
    "file_name='./data/csr_matrix_bow.dump'\n",
    "p5_util.object_dump(csr_matrix_bow, file_name)"
   ]
  },
  {
   "cell_type": "code",
   "execution_count": 2,
   "metadata": {},
   "outputs": [
    {
     "name": "stdout",
     "output_type": "stream",
     "text": [
      "p5_util.object_load : fileName= ./data/vectorizer_bow.dump\n"
     ]
    }
   ],
   "source": [
    "import p5_util\n",
    "file_name='./data/vectorizer_bow.dump'\n",
    "vectorizer_bow = p5_util.object_load(file_name)"
   ]
  },
  {
   "cell_type": "code",
   "execution_count": 3,
   "metadata": {},
   "outputs": [
    {
     "data": {
      "text/plain": [
       "CountVectorizer(analyzer='word', binary=False, decode_error='strict',\n",
       "        dtype=<class 'numpy.int64'>, encoding='utf-8', input='content',\n",
       "        lowercase=True, max_df=0.1, max_features=None, min_df=0.001,\n",
       "        ngram_range=(1, 1), preprocessor=None, stop_words=None,\n",
       "        strip_accents=None, token_pattern='(?u)\\\\b\\\\w\\\\w+\\\\b',\n",
       "        tokenizer=None, vocabulary=None)"
      ]
     },
     "execution_count": 3,
     "metadata": {},
     "output_type": "execute_result"
    }
   ],
   "source": [
    "vectorizer_bow"
   ]
  },
  {
   "cell_type": "markdown",
   "metadata": {},
   "source": [
    "The 24604 posts are expanded over 2463 features."
   ]
  },
  {
   "cell_type": "markdown",
   "metadata": {},
   "source": [
    "### <font color='blus'>5.1.1 Statistical method evaluation based on BOW</font>"
   ]
  },
  {
   "cell_type": "markdown",
   "metadata": {},
   "source": [
    "For each raw from CSR matrix, the N greater values are extracted.\n",
    "\n",
    "Matching Key words from columns are chosen from vacabulary.\n",
    "\n",
    "Those keywords are assigned as TAGs (suggested tags).\n"
   ]
  },
  {
   "cell_type": "code",
   "execution_count": 10,
   "metadata": {},
   "outputs": [
    {
     "name": "stdout",
     "output_type": "stream",
     "text": [
      "\n",
      "Test mode bow covering 327 documents\n",
      "\n",
      "Processed documents : 32/327\n",
      "Processed documents : 64/327\n",
      "Processed documents : 96/327\n",
      "Processed documents : 128/327\n",
      "Processed documents : 160/327\n",
      "Processed documents : 192/327\n",
      "Processed documents : 224/327\n",
      "Processed documents : 256/327\n",
      "Processed documents : 288/327\n",
      "Processed documents : 320/327\n"
     ]
    }
   ],
   "source": [
    "import p6_util\n",
    "\n",
    "nb_test = int(len(df_sof_test)/50)\n",
    "\n",
    "modulo=int(nb_test/10)\n",
    "nb_test, modulo\n",
    "\n",
    "dict_match_result = p6_util.p6_score_mean_string_simlarity(nb_test, df_sof_test, list_sof_tag\\\n",
    "    , vectorizer_bow, csr_matrix_bow,p_tag_ratio=None, embeding_mode='bow' )\n",
    "\n",
    "import p5_util\n",
    "file_name='./data/dict_match_result_bow_stat.dump'\n",
    "p5_util.object_dump(dict_match_result, file_name)"
   ]
  },
  {
   "cell_type": "code",
   "execution_count": 11,
   "metadata": {},
   "outputs": [
    {
     "name": "stdout",
     "output_type": "stream",
     "text": [
      "p5_util.object_load : fileName= ./data/dict_match_result_bow_stat.dump\n"
     ]
    }
   ],
   "source": [
    "import p5_util\n",
    "file_name='./data/dict_match_result_bow_stat.dump'\n",
    "dict_match_result = p5_util.object_load(file_name)"
   ]
  },
  {
   "cell_type": "code",
   "execution_count": 12,
   "metadata": {},
   "outputs": [
    {
     "name": "stdout",
     "output_type": "stream",
     "text": [
      "\n",
      "*** Matching results : 0.09 %\n"
     ]
    }
   ],
   "source": [
    "import p6_util\n",
    "arr_similarity_result, arr_matching_result , stat_mean_accuracy_score = p6_util.p6_stat_compute_result(dict_match_result)"
   ]
  },
  {
   "cell_type": "code",
   "execution_count": 13,
   "metadata": {},
   "outputs": [],
   "source": [
    "dict_stat_result['BOW'] = stat_mean_accuracy_score"
   ]
  },
  {
   "cell_type": "code",
   "execution_count": 14,
   "metadata": {},
   "outputs": [
    {
     "name": "stderr",
     "output_type": "stream",
     "text": [
      "/home/bangui/anaconda3/lib/python3.7/site-packages/scipy/stats/stats.py:1713: FutureWarning: Using a non-tuple sequence for multidimensional indexing is deprecated; use `arr[tuple(seq)]` instead of `arr[seq]`. In the future this will be interpreted as an array index, `arr[np.array(seq)]`, which will result either in an error or a different result.\n",
      "  return np.add.reduce(sorted[indexer] * weights, axis=axis) / sumval\n"
     ]
    },
    {
     "data": {
      "image/png": "[encoded data removed]",
      "text/plain": [
       "<Figure size 432x288 with 1 Axes>"
      ]
     },
     "metadata": {},
     "output_type": "display_data"
    }
   ],
   "source": [
    "import seaborn as sns, numpy as np\n",
    "sns.set()\n",
    "\n",
    "ax = sns.distplot(arr_matching_result, bins=30)"
   ]
  },
  {
   "cell_type": "markdown",
   "metadata": {},
   "source": [
    "## <font color='blus'>5.2 TF-IDF  with ngram=(1,1)</font>"
   ]
  },
  {
   "cell_type": "markdown",
   "metadata": {},
   "source": [
    "* Terms having a frequency occurence greater then ``p_max_df`` threshold are ignored\n",
    "* Terms having a frequency occurence less then ``p_min_df`` threshold are ignored"
   ]
  },
  {
   "cell_type": "code",
   "execution_count": 15,
   "metadata": {},
   "outputs": [
    {
     "name": "stdout",
     "output_type": "stream",
     "text": [
      "(24604, 2512)\n",
      "MIN DF= 0.001  MAX DF = 1.0\n"
     ]
    }
   ],
   "source": [
    "from sklearn.feature_extraction.text import TfidfVectorizer\n",
    "import p5_util\n",
    "\n",
    "# When building vacabulary, terms with frequency document < p_min_df are ignored.\n",
    "p_min_df = 0.001\n",
    "\n",
    "# When building vacabulary, terms with frequency document> p_max_df are ignored.\n",
    "p_max_df = 1.\n",
    "\n",
    "ngram1=1\n",
    "ngram2=1\n",
    "vectorizer_tfidf_ngram1=TfidfVectorizer(norm=\"l2\", use_idf=True, min_df=p_min_df, max_df=p_max_df, ngram_range=(ngram1, ngram2))\n",
    "\n",
    "csr_matrix_tfidf_ngram1 = vectorizer_tfidf_ngram1.fit_transform(ser_sof_train)\n",
    "\n",
    "print(csr_matrix_tfidf_ngram1.shape)\n",
    "\n",
    "file_name='./data/dict_match_result_tfidf_ngram1_stat.dump'\n",
    "p5_util.object_dump(dict_match_result, file_name)\n",
    "\n",
    "print(\"MIN DF= \"+str(p_min_df)+\"  MAX DF = \"+str(p_max_df))"
   ]
  },
  {
   "cell_type": "code",
   "execution_count": 16,
   "metadata": {},
   "outputs": [
    {
     "name": "stdout",
     "output_type": "stream",
     "text": [
      "Nb tests= 1635 Modulo=163\n",
      "\n",
      "Test mode tfidf covering 1635 documents\n",
      "\n",
      "Processed documents : 163/1635\n",
      "Processed documents : 326/1635\n",
      "Processed documents : 489/1635\n",
      "Processed documents : 652/1635\n",
      "Processed documents : 815/1635\n",
      "Processed documents : 978/1635\n",
      "Processed documents : 1141/1635\n",
      "Processed documents : 1304/1635\n",
      "Processed documents : 1467/1635\n",
      "Processed documents : 1630/1635\n"
     ]
    }
   ],
   "source": [
    "import p5_util\n",
    "import p6_util\n",
    "\n",
    "nb_test = int(len(df_sof_test)/10)\n",
    "\n",
    "modulo=int(nb_test/10)\n",
    "print(\"Nb tests= {} Modulo={}\".format(nb_test, modulo))\n",
    "\n",
    "dict_match_result = p6_util.p6_score_mean_string_simlarity(nb_test, df_sof_test, list_sof_tag\\\n",
    "    , vectorizer_tfidf_ngram1, csr_matrix_tfidf_ngram1,p_tag_ratio=None, embeding_mode='tfidf' )\n",
    "\n",
    "file_name='./data/dict_match_result_tfidf_ngram1_stat.dump'\n",
    "p5_util.object_dump(dict_match_result, file_name)"
   ]
  },
  {
   "cell_type": "code",
   "execution_count": 17,
   "metadata": {},
   "outputs": [
    {
     "name": "stdout",
     "output_type": "stream",
     "text": [
      "p5_util.object_load : fileName= ./data/dict_match_result_tfidf_ngram1_stat.dump\n"
     ]
    }
   ],
   "source": [
    "import p5_util\n",
    "file_name='./data/dict_match_result_tfidf_ngram1_stat.dump'\n",
    "dict_match_result = p5_util.object_load(file_name)"
   ]
  },
  {
   "cell_type": "code",
   "execution_count": 18,
   "metadata": {},
   "outputs": [
    {
     "name": "stdout",
     "output_type": "stream",
     "text": [
      "\n",
      "*** Matching results : 0.11 %\n"
     ]
    },
    {
     "data": {
      "text/plain": [
       "{'BOW': 0.08886704528906363, 'TFIDF(1,1)': 0.10965813663061368}"
      ]
     },
     "execution_count": 18,
     "metadata": {},
     "output_type": "execute_result"
    }
   ],
   "source": [
    "import p6_util\n",
    "arr_similarity_result, arr_matching_result, stat_mean_accuracy_score = p6_util.p6_stat_compute_result(dict_match_result)\n",
    "\n",
    "dict_stat_result[\"TFIDF(1,1)\"] = stat_mean_accuracy_score\n",
    "dict_stat_result"
   ]
  },
  {
   "cell_type": "code",
   "execution_count": 19,
   "metadata": {},
   "outputs": [
    {
     "name": "stderr",
     "output_type": "stream",
     "text": [
      "/home/bangui/anaconda3/lib/python3.7/site-packages/scipy/stats/stats.py:1713: FutureWarning: Using a non-tuple sequence for multidimensional indexing is deprecated; use `arr[tuple(seq)]` instead of `arr[seq]`. In the future this will be interpreted as an array index, `arr[np.array(seq)]`, which will result either in an error or a different result.\n",
      "  return np.add.reduce(sorted[indexer] * weights, axis=axis) / sumval\n"
     ]
    },
    {
     "data": {
      "image/png": "[encoded data removed]",
      "text/plain": [
       "<Figure size 432x288 with 1 Axes>"
      ]
     },
     "metadata": {},
     "output_type": "display_data"
    }
   ],
   "source": [
    "import seaborn as sns, numpy as np\n",
    "sns.set()\n",
    "np.random.seed(0)\n",
    "ax = sns.distplot(arr_matching_result, bins=30)"
   ]
  },
  {
   "cell_type": "markdown",
   "metadata": {},
   "source": [
    "## <font color='blus'>5.3 TF-IDF  with ngram=(2,2)</font>"
   ]
  },
  {
   "cell_type": "code",
   "execution_count": 20,
   "metadata": {},
   "outputs": [
    {
     "name": "stdout",
     "output_type": "stream",
     "text": [
      "(24604, 1386)\n"
     ]
    }
   ],
   "source": [
    "from sklearn.feature_extraction.text import TfidfVectorizer\n",
    "\n",
    "ngram1=2\n",
    "ngram2=2\n",
    "vectorizer_tfidf_ngram2=TfidfVectorizer(norm=\"l2\", use_idf=True, min_df=p_min_df, max_df=p_max_df, ngram_range=(ngram1, ngram2))\n",
    "\n",
    "csr_matrix_tfidf_ngram2 = vectorizer_tfidf_ngram2.fit_transform(ser_sof_train)\n",
    "\n",
    "print(csr_matrix_tfidf_ngram2.shape)"
   ]
  },
  {
   "cell_type": "code",
   "execution_count": 21,
   "metadata": {},
   "outputs": [
    {
     "name": "stdout",
     "output_type": "stream",
     "text": [
      "Nb tests= 1635 Module=163\n",
      "\n",
      "Test mode tfidf covering 1635 documents\n",
      "\n",
      "Processed documents : 163/1635\n",
      "Processed documents : 326/1635\n",
      "Processed documents : 489/1635\n",
      "Processed documents : 652/1635\n",
      "Processed documents : 815/1635\n",
      "Processed documents : 978/1635\n",
      "Processed documents : 1141/1635\n",
      "Processed documents : 1304/1635\n",
      "Processed documents : 1467/1635\n",
      "Processed documents : 1630/1635\n"
     ]
    }
   ],
   "source": [
    "import p5_util\n",
    "import p6_util\n",
    "\n",
    "nb_test = int(len(df_sof_test)/10)\n",
    "\n",
    "modulo=int(nb_test/10)\n",
    "print(\"Nb tests= {} Module={}\".format(nb_test, modulo))\n",
    "\n",
    "dict_match_result = p6_util.p6_score_mean_string_simlarity(nb_test, df_sof_test, list_sof_tag\\\n",
    "    , vectorizer_tfidf_ngram2, csr_matrix_tfidf_ngram2,p_tag_ratio=None, embeding_mode='tfidf' )\n",
    "\n",
    "file_name='./data/dict_match_result_tfidf_ngram2_stat.dump'\n",
    "p5_util.object_dump(dict_match_result, file_name)"
   ]
  },
  {
   "cell_type": "code",
   "execution_count": 22,
   "metadata": {},
   "outputs": [
    {
     "name": "stdout",
     "output_type": "stream",
     "text": [
      "p5_util.object_load : fileName= ./data/dict_match_result_tfidf_ngram2_stat.dump\n"
     ]
    }
   ],
   "source": [
    "import p5_util\n",
    "file_name='./data/dict_match_result_tfidf_ngram2_stat.dump'\n",
    "dict_match_result = p5_util.object_load(file_name)"
   ]
  },
  {
   "cell_type": "code",
   "execution_count": 23,
   "metadata": {},
   "outputs": [
    {
     "name": "stdout",
     "output_type": "stream",
     "text": [
      "\n",
      "*** Matching results : 0.00 %\n"
     ]
    },
    {
     "data": {
      "text/plain": [
       "{'BOW': 0.08886704528906363,\n",
       " 'TFIDF(1,1)': 0.10965813663061368,\n",
       " 'TFIDF(2,2)': 0.0}"
      ]
     },
     "execution_count": 23,
     "metadata": {},
     "output_type": "execute_result"
    }
   ],
   "source": [
    "import p6_util\n",
    "arr_similarity_result, arr_matching_result, stat_mean_accuracy_score = p6_util.p6_stat_compute_result(dict_match_result)\n",
    "\n",
    "dict_stat_result[\"TFIDF(2,2)\"] = stat_mean_accuracy_score\n",
    "dict_stat_result"
   ]
  },
  {
   "cell_type": "code",
   "execution_count": 24,
   "metadata": {},
   "outputs": [
    {
     "name": "stderr",
     "output_type": "stream",
     "text": [
      "/home/bangui/anaconda3/lib/python3.7/site-packages/scipy/stats/stats.py:1713: FutureWarning: Using a non-tuple sequence for multidimensional indexing is deprecated; use `arr[tuple(seq)]` instead of `arr[seq]`. In the future this will be interpreted as an array index, `arr[np.array(seq)]`, which will result either in an error or a different result.\n",
      "  return np.add.reduce(sorted[indexer] * weights, axis=axis) / sumval\n",
      "/home/bangui/anaconda3/lib/python3.7/site-packages/statsmodels/nonparametric/kde.py:488: RuntimeWarning: invalid value encountered in true_divide\n",
      "  binned = fast_linbin(X, a, b, gridsize) / (delta * nobs)\n",
      "/home/bangui/anaconda3/lib/python3.7/site-packages/statsmodels/nonparametric/kdetools.py:34: RuntimeWarning: invalid value encountered in double_scalars\n",
      "  FAC1 = 2*(np.pi*bw/RANGE)**2\n",
      "/home/bangui/anaconda3/lib/python3.7/site-packages/numpy/core/fromnumeric.py:83: RuntimeWarning: invalid value encountered in reduce\n",
      "  return ufunc.reduce(obj, axis, dtype, out, **passkwargs)\n"
     ]
    },
    {
     "data": {
      "image/png": "[encoded data removed]",
      "text/plain": [
       "<Figure size 432x288 with 1 Axes>"
      ]
     },
     "metadata": {},
     "output_type": "display_data"
    }
   ],
   "source": [
    "import seaborn as sns, numpy as np\n",
    "sns.set()\n",
    "np.random.seed(0)\n",
    "#x = np.random.randn(100)\n",
    "ax = sns.distplot(arr_matching_result, bins=30)"
   ]
  },
  {
   "cell_type": "markdown",
   "metadata": {},
   "source": [
    "## <font color='blus'>5.4. TF-IDF  with ngram=(1,2)</font>"
   ]
  },
  {
   "cell_type": "code",
   "execution_count": 25,
   "metadata": {},
   "outputs": [
    {
     "name": "stdout",
     "output_type": "stream",
     "text": [
      "Nb tests= 327 Module=32\n",
      "(24604, 3898)\n"
     ]
    }
   ],
   "source": [
    "from sklearn.feature_extraction.text import TfidfVectorizer\n",
    "\n",
    "nb_test = int(len(df_sof_test)/50)\n",
    "\n",
    "modulo=int(nb_test/10)\n",
    "print(\"Nb tests= {} Module={}\".format(nb_test, modulo))\n",
    "\n",
    "\n",
    "ngram1=1\n",
    "ngram2=2\n",
    "vectorizer_tfidf_ngram1_2=TfidfVectorizer(norm=\"l2\", use_idf=True, min_df=p_min_df, max_df=p_max_df, ngram_range=(ngram1, ngram2))\n",
    "\n",
    "csr_matrix_tfidf_ngram1_2 = vectorizer_tfidf_ngram1_2.fit_transform(ser_sof_train)\n",
    "\n",
    "print(csr_matrix_tfidf_ngram1_2.shape)"
   ]
  },
  {
   "cell_type": "code",
   "execution_count": 26,
   "metadata": {},
   "outputs": [
    {
     "name": "stdout",
     "output_type": "stream",
     "text": [
      "\n",
      "Test mode tfidf covering 327 documents\n",
      "\n",
      "Processed documents : 32/327\n",
      "Processed documents : 64/327\n",
      "Processed documents : 96/327\n",
      "Processed documents : 128/327\n",
      "Processed documents : 160/327\n",
      "Processed documents : 192/327\n",
      "Processed documents : 224/327\n",
      "Processed documents : 256/327\n",
      "Processed documents : 288/327\n",
      "Processed documents : 320/327\n"
     ]
    }
   ],
   "source": [
    "import p5_util\n",
    "import p6_util\n",
    "\n",
    "dict_match_result = p6_util.p6_score_mean_string_simlarity(nb_test, df_sof_test, list_sof_tag\\\n",
    "    , vectorizer_tfidf_ngram1_2, csr_matrix_tfidf_ngram1_2,p_tag_ratio=None, embeding_mode='tfidf' )\n",
    "\n",
    "file_name='./data/dict_match_result_tfidf_ngram1_2_stat.dump'\n",
    "p5_util.object_dump(dict_match_result, file_name)"
   ]
  },
  {
   "cell_type": "code",
   "execution_count": 27,
   "metadata": {},
   "outputs": [
    {
     "name": "stdout",
     "output_type": "stream",
     "text": [
      "p5_util.object_load : fileName= ./data/dict_match_result_tfidf_ngram1_2_stat.dump\n"
     ]
    }
   ],
   "source": [
    "import p5_util\n",
    "file_name='./data/dict_match_result_tfidf_ngram1_2_stat.dump'\n",
    "dict_match_result = p5_util.object_load(file_name)"
   ]
  },
  {
   "cell_type": "code",
   "execution_count": 28,
   "metadata": {},
   "outputs": [
    {
     "name": "stdout",
     "output_type": "stream",
     "text": [
      "\n",
      "*** Matching results : 0.08 %\n"
     ]
    },
    {
     "data": {
      "text/plain": [
       "{'BOW': 0.08886704528906363,\n",
       " 'TFIDF(1,1)': 0.10965813663061368,\n",
       " 'TFIDF(2,2)': 0.0,\n",
       " 'TFIDF(1,2)': 0.08272182285943754}"
      ]
     },
     "execution_count": 28,
     "metadata": {},
     "output_type": "execute_result"
    }
   ],
   "source": [
    "import p6_util\n",
    "arr_similarity_result, arr_matching_result, stat_mean_accuracy_score = p6_util.p6_stat_compute_result(dict_match_result)\n",
    "\n",
    "dict_stat_result[\"TFIDF(1,2)\"] = stat_mean_accuracy_score\n",
    "dict_stat_result"
   ]
  },
  {
   "cell_type": "code",
   "execution_count": 29,
   "metadata": {},
   "outputs": [
    {
     "name": "stderr",
     "output_type": "stream",
     "text": [
      "/home/bangui/anaconda3/lib/python3.7/site-packages/scipy/stats/stats.py:1713: FutureWarning: Using a non-tuple sequence for multidimensional indexing is deprecated; use `arr[tuple(seq)]` instead of `arr[seq]`. In the future this will be interpreted as an array index, `arr[np.array(seq)]`, which will result either in an error or a different result.\n",
      "  return np.add.reduce(sorted[indexer] * weights, axis=axis) / sumval\n"
     ]
    },
    {
     "data": {
      "image/png": "[encoded data removed]",
      "text/plain": [
       "<Figure size 432x288 with 1 Axes>"
      ]
     },
     "metadata": {},
     "output_type": "display_data"
    }
   ],
   "source": [
    "import seaborn as sns, numpy as np\n",
    "sns.set()\n",
    "#x = np.random.randn(100)\n",
    "ax = sns.distplot(arr_matching_result, bins=30)"
   ]
  },
  {
   "cell_type": "code",
   "execution_count": null,
   "metadata": {},
   "outputs": [],
   "source": []
  },
  {
   "cell_type": "markdown",
   "metadata": {},
   "source": [
    "## <font color='blus'> 5.5. Optimized TFIDF Vectorization</font>"
   ]
  },
  {
   "cell_type": "markdown",
   "metadata": {},
   "source": [
    "**Loading target : list of TAGs from SOF**"
   ]
  },
  {
   "cell_type": "code",
   "execution_count": 30,
   "metadata": {},
   "outputs": [
    {
     "name": "stdout",
     "output_type": "stream",
     "text": [
      "(50000, 2)\n"
     ]
    }
   ],
   "source": [
    "import pandas as pd\n",
    "file_name=\"./data/StackOverFlowTags.csv\"\n",
    "df_sof_tags=pd.read_csv(file_name)\n",
    "print(df_sof_tags.shape)\n",
    "list_sof_tag = df_sof_tags.TagName.tolist( )"
   ]
  },
  {
   "cell_type": "markdown",
   "metadata": {},
   "source": [
    "**Loading test dataset**"
   ]
  },
  {
   "cell_type": "code",
   "execution_count": 31,
   "metadata": {},
   "outputs": [
    {
     "data": {
      "text/plain": [
       "(16359, 5)"
      ]
     },
     "execution_count": 31,
     "metadata": {},
     "output_type": "execute_result"
    }
   ],
   "source": [
    "import pandas as pd\n",
    "file_name=\"./data/test_StackOverFlow_BodyTitleTags.csv\"\n",
    "df_sof_test=pd.read_csv(file_name)\n",
    "df_sof_test.shape"
   ]
  },
  {
   "cell_type": "code",
   "execution_count": 32,
   "metadata": {},
   "outputs": [],
   "source": [
    "df_sof_test['Body']=df_sof_test['Body']+df_sof_test['Title']"
   ]
  },
  {
   "cell_type": "markdown",
   "metadata": {},
   "source": [
    "**Loading cleaned train dataset of Posts**"
   ]
  },
  {
   "cell_type": "code",
   "execution_count": 33,
   "metadata": {},
   "outputs": [
    {
     "name": "stdout",
     "output_type": "stream",
     "text": [
      "p5_util.object_load : fileName= ./data/ser_sof_train.dump\n",
      "(24604,)\n"
     ]
    }
   ],
   "source": [
    "import p5_util\n",
    "file_name='./data/ser_sof_train.dump'\n",
    "ser_sof_train = p5_util.object_load(file_name)\n",
    "print(ser_sof_train.shape)"
   ]
  },
  {
   "cell_type": "code",
   "execution_count": 34,
   "metadata": {},
   "outputs": [
    {
     "name": "stdout",
     "output_type": "stream",
     "text": [
      "(24604, 3388)\n",
      "MIN DF= 0.0006  MAX DF = 1.0\n",
      "(24604, 3388)\n"
     ]
    }
   ],
   "source": [
    "from sklearn.feature_extraction.text import TfidfVectorizer\n",
    "import p5_util\n",
    "\n",
    "# When building vacabulary, terms with frequency document < p_min_df are ignored.\n",
    "p_min_df = 0.0006\n",
    "\n",
    "# When building vocabulary, terms with frequency document> p_max_df are ignored.\n",
    "p_max_df = 1.\n",
    "\n",
    "ngram1=1\n",
    "ngram2=1\n",
    "vectorizer_tfidf_ngram1_b=TfidfVectorizer(norm=\"l2\", use_idf=True, min_df=p_min_df, max_df=p_max_df, ngram_range=(ngram1, ngram2))\n",
    "\n",
    "csr_matrix_tfidf_ngram1_b = vectorizer_tfidf_ngram1_b.fit_transform(ser_sof_train)\n",
    "\n",
    "print(csr_matrix_tfidf_ngram1_b.shape)\n",
    "\n",
    "print(\"MIN DF= \"+str(p_min_df)+\"  MAX DF = \"+str(p_max_df))\n",
    "\n",
    "file_name='./data/csr_matrix_tfidf_ngram1_b.dump'\n",
    "p5_util.object_dump(csr_matrix_tfidf_ngram1_b,file_name)\n",
    "print(csr_matrix_tfidf_ngram1_b.shape)\n",
    " \n",
    "\n",
    "file_name='./data/vectorizer_tfidf_ngram1_b.dump'\n",
    "p5_util.object_dump(vectorizer_tfidf_ngram1_b,file_name)"
   ]
  },
  {
   "cell_type": "code",
   "execution_count": 35,
   "metadata": {},
   "outputs": [
    {
     "name": "stdout",
     "output_type": "stream",
     "text": [
      "p5_util.object_load : fileName= ./data/csr_matrix_tfidf_ngram1_b.dump\n",
      "(24604, 3388)\n",
      "p5_util.object_load : fileName= ./data/vectorizer_tfidf_ngram1_b.dump\n"
     ]
    }
   ],
   "source": [
    "import p5_util\n",
    "file_name='./data/csr_matrix_tfidf_ngram1_b.dump'\n",
    "csr_matrix_tfidf_ngram1_b = p5_util.object_load(file_name)\n",
    "print(csr_matrix_tfidf_ngram1_b.shape)\n",
    " \n",
    "file_name='./data/vectorizer_tfidf_ngram1_b.dump'\n",
    "vectorizer_tfidf_ngram1_b = p5_util.object_load(file_name)\n",
    "\n"
   ]
  },
  {
   "cell_type": "code",
   "execution_count": 36,
   "metadata": {},
   "outputs": [
    {
     "name": "stdout",
     "output_type": "stream",
     "text": [
      "Nb tests= 327 Module=32\n",
      "\n",
      "Test mode tfidf covering 327 documents\n",
      "\n",
      "Processed documents : 32/327\n",
      "Processed documents : 64/327\n",
      "Processed documents : 96/327\n",
      "Processed documents : 128/327\n",
      "Processed documents : 160/327\n",
      "Processed documents : 192/327\n",
      "Processed documents : 224/327\n",
      "Processed documents : 256/327\n",
      "Processed documents : 288/327\n",
      "Processed documents : 320/327\n"
     ]
    }
   ],
   "source": [
    "import p6_util\n",
    "\n",
    "nb_test = int(len(df_sof_test)/50)\n",
    "\n",
    "modulo=int(nb_test/10)\n",
    "print(\"Nb tests= {} Module={}\".format(nb_test, modulo))\n",
    "\n",
    "dict_match_result = p6_util.p6_score_mean_string_simlarity(nb_test, df_sof_test, list_sof_tag\\\n",
    "    , vectorizer_tfidf_ngram1_b, csr_matrix_tfidf_ngram1_b,p_tag_ratio=None, embeding_mode='tfidf' )\n",
    "\n",
    "import p5_util\n",
    "file_name='./data/dict_match_result_tfidf_ngram1plus_stat.dump'\n",
    "p5_util.object_dump(dict_match_result, file_name)"
   ]
  },
  {
   "cell_type": "code",
   "execution_count": 37,
   "metadata": {},
   "outputs": [
    {
     "name": "stdout",
     "output_type": "stream",
     "text": [
      "p5_util.object_load : fileName= ./data/dict_match_result_tfidf_ngram1plus_stat.dump\n"
     ]
    }
   ],
   "source": [
    "import p5_util\n",
    "file_name='./data/dict_match_result_tfidf_ngram1plus_stat.dump'\n",
    "dict_match_result = p5_util.object_load(file_name)"
   ]
  },
  {
   "cell_type": "code",
   "execution_count": 38,
   "metadata": {},
   "outputs": [
    {
     "name": "stdout",
     "output_type": "stream",
     "text": [
      "\n",
      "*** Matching results : 0.10 %\n"
     ]
    }
   ],
   "source": [
    "import p6_util\n",
    "arr_similarity_result, arr_matching_result, stat_mean_accuracy_score = p6_util.p6_stat_compute_result(dict_match_result)\n",
    "\n",
    "dict_stat_result[\"TFIDF(1,1) Plus\"] = stat_mean_accuracy_score"
   ]
  },
  {
   "cell_type": "code",
   "execution_count": 39,
   "metadata": {},
   "outputs": [
    {
     "name": "stderr",
     "output_type": "stream",
     "text": [
      "/home/bangui/anaconda3/lib/python3.7/site-packages/scipy/stats/stats.py:1713: FutureWarning: Using a non-tuple sequence for multidimensional indexing is deprecated; use `arr[tuple(seq)]` instead of `arr[seq]`. In the future this will be interpreted as an array index, `arr[np.array(seq)]`, which will result either in an error or a different result.\n",
      "  return np.add.reduce(sorted[indexer] * weights, axis=axis) / sumval\n"
     ]
    },
    {
     "data": {
      "image/png": "[encoded data removed]",
      "text/plain": [
       "<Figure size 432x288 with 1 Axes>"
      ]
     },
     "metadata": {},
     "output_type": "display_data"
    }
   ],
   "source": [
    "import seaborn as sns, numpy as np\n",
    "sns.set()\n",
    "np.random.seed(0)\n",
    "ax = sns.distplot(arr_matching_result, bins=30)"
   ]
  },
  {
   "cell_type": "code",
   "execution_count": 40,
   "metadata": {
    "scrolled": true
   },
   "outputs": [
    {
     "data": {
      "text/html": [
       "<div>\n",
       "<style scoped>\n",
       "    .dataframe tbody tr th:only-of-type {\n",
       "        vertical-align: middle;\n",
       "    }\n",
       "\n",
       "    .dataframe tbody tr th {\n",
       "        vertical-align: top;\n",
       "    }\n",
       "\n",
       "    .dataframe thead th {\n",
       "        text-align: right;\n",
       "    }\n",
       "</style>\n",
       "<table border=\"1\" class=\"dataframe\">\n",
       "  <thead>\n",
       "    <tr style=\"text-align: right;\">\n",
       "      <th></th>\n",
       "      <th>Model</th>\n",
       "      <th>Score</th>\n",
       "    </tr>\n",
       "  </thead>\n",
       "  <tbody>\n",
       "    <tr>\n",
       "      <th>0</th>\n",
       "      <td>BOW</td>\n",
       "      <td>0.088867</td>\n",
       "    </tr>\n",
       "    <tr>\n",
       "      <th>1</th>\n",
       "      <td>TFIDF(1,1)</td>\n",
       "      <td>0.109658</td>\n",
       "    </tr>\n",
       "    <tr>\n",
       "      <th>2</th>\n",
       "      <td>TFIDF(2,2)</td>\n",
       "      <td>0.000000</td>\n",
       "    </tr>\n",
       "    <tr>\n",
       "      <th>3</th>\n",
       "      <td>TFIDF(1,2)</td>\n",
       "      <td>0.082722</td>\n",
       "    </tr>\n",
       "    <tr>\n",
       "      <th>4</th>\n",
       "      <td>TFIDF(1,1) Plus</td>\n",
       "      <td>0.102871</td>\n",
       "    </tr>\n",
       "  </tbody>\n",
       "</table>\n",
       "</div>"
      ],
      "text/plain": [
       "             Model     Score\n",
       "0              BOW  0.088867\n",
       "1       TFIDF(1,1)  0.109658\n",
       "2       TFIDF(2,2)  0.000000\n",
       "3       TFIDF(1,2)  0.082722\n",
       "4  TFIDF(1,1) Plus  0.102871"
      ]
     },
     "execution_count": 40,
     "metadata": {},
     "output_type": "execute_result"
    }
   ],
   "source": [
    "import pandas as pd\n",
    "df_result = pd.DataFrame.from_dict( dict_stat_result, orient='index')\n",
    "df_result.reset_index(inplace=True)\n",
    "df_result.rename(columns={'index':'Model',0:'Score'}, inplace=True)\n",
    "df_result"
   ]
  },
  {
   "cell_type": "code",
   "execution_count": 41,
   "metadata": {},
   "outputs": [
    {
     "data": {
      "image/png": "[encoded data removed]",
      "text/plain": [
       "<Figure size 1440x720 with 1 Axes>"
      ]
     },
     "metadata": {},
     "output_type": "display_data"
    }
   ],
   "source": [
    "import p6_util_plot\n",
    "title = \"Models accuracy\"\n",
    "p6_util_plot.ser_item_occurency_plot(df_result.Model, df_result.Score*100, item_count=None, title=title,\\\n",
    "                                    p_reverse=False, p_y_title='Embedding models')"
   ]
  },
  {
   "cell_type": "code",
   "execution_count": null,
   "metadata": {},
   "outputs": [],
   "source": []
  },
  {
   "cell_type": "markdown",
   "metadata": {},
   "source": [
    "## <font color='blus'> 5.6. Searcn for best TFIDF (1,1) Vectorization model</font>"
   ]
  },
  {
   "cell_type": "markdown",
   "metadata": {},
   "source": [
    "**Loading all required dataset for benchmark**"
   ]
  },
  {
   "cell_type": "code",
   "execution_count": 11,
   "metadata": {},
   "outputs": [
    {
     "name": "stdout",
     "output_type": "stream",
     "text": [
      "(50000, 2)\n",
      "p5_util.object_load : fileName= ./data/ser_sof_train.dump\n",
      "(24604,)\n"
     ]
    }
   ],
   "source": [
    "ser_sof_train, df_sof_test, list_sof_tag = p6_load_dataset_benchmark()"
   ]
  },
  {
   "cell_type": "code",
   "execution_count": 14,
   "metadata": {},
   "outputs": [],
   "source": [
    "from sklearn.feature_extraction.text import TfidfVectorizer\n",
    "import p5_util\n",
    "\n",
    "dict_stat_result_1_1 = dict()\n",
    "\n",
    "# When building vacabulary, terms with frequency document < p_min_df are ignored.\n",
    "p_min_df_list = [0., 1e-4, 2e-4, 3e-4, 4e-4, 5e-4, 6e-4, 7e-4]\n",
    "# When building vocabulary, terms with frequency document> p_max_df are ignored.\n",
    "p_max_df = 1."
   ]
  },
  {
   "cell_type": "code",
   "execution_count": 15,
   "metadata": {},
   "outputs": [
    {
     "name": "stdout",
     "output_type": "stream",
     "text": [
      "MIN DF= 0.0  MAX DF = 1.0\n",
      "(24604, 33372)\n",
      "\n",
      "MIN DF= 0.0001  MAX DF = 1.0\n",
      "(24604, 9037)\n",
      "\n",
      "MIN DF= 0.0002  MAX DF = 1.0\n",
      "(24604, 6448)\n",
      "\n",
      "MIN DF= 0.0003  MAX DF = 1.0\n",
      "(24604, 4850)\n",
      "\n",
      "MIN DF= 0.0004  MAX DF = 1.0\n",
      "(24604, 4271)\n",
      "\n",
      "MIN DF= 0.0005  MAX DF = 1.0\n",
      "(24604, 3702)\n",
      "\n",
      "MIN DF= 0.0006  MAX DF = 1.0\n",
      "(24604, 3388)\n",
      "\n",
      "MIN DF= 0.0007  MAX DF = 1.0\n",
      "(24604, 3047)\n",
      "\n"
     ]
    }
   ],
   "source": [
    "ngram1=1\n",
    "ngram2=1\n",
    "\n",
    "dict_vectorizer_tfidf_ngram1 = dict()\n",
    "dict_csr_matrix_tfidf_ngram1 = dict()\n",
    "for  p_min_df in p_min_df_list :\n",
    "    \n",
    "    dict_vectorizer_tfidf_ngram1[p_min_df] \\\n",
    "    = TfidfVectorizer(norm=\"l2\", use_idf=True, min_df=p_min_df, max_df=p_max_df, ngram_range=(ngram1, ngram2))\n",
    "\n",
    "    dict_csr_matrix_tfidf_ngram1[p_min_df] = dict_vectorizer_tfidf_ngram1[p_min_df].fit_transform(ser_sof_train)\n",
    "\n",
    "    print(\"MIN DF= \"+str(p_min_df)+\"  MAX DF = \"+str(p_max_df))\n",
    "\n",
    "    file_name='./data/csr_matrix_tfidf_ngram1_'+str(p_min_df)+'_.dump'\n",
    "    p5_util.object_dump(dict_csr_matrix_tfidf_ngram1[p_min_df],file_name)\n",
    "    print(dict_csr_matrix_tfidf_ngram1[p_min_df].shape)\n",
    " \n",
    "\n",
    "    file_name='./data/vectorizer_tfidf_ngram1_'+str(p_min_df)+'_.dump'\n",
    "    p5_util.object_dump(dict_vectorizer_tfidf_ngram1[p_min_df],file_name)\n",
    "    print()"
   ]
  },
  {
   "cell_type": "code",
   "execution_count": 16,
   "metadata": {},
   "outputs": [
    {
     "name": "stdout",
     "output_type": "stream",
     "text": [
      "Nb tests= 1635 Module=163\n",
      "\n",
      "Test mode tfidf covering 1635 documents\n",
      "\n",
      "Processed documents : 163/1635\n",
      "Processed documents : 326/1635\n",
      "Processed documents : 489/1635\n",
      "Processed documents : 652/1635\n",
      "Processed documents : 815/1635\n",
      "Processed documents : 978/1635\n",
      "Processed documents : 1141/1635\n",
      "Processed documents : 1304/1635\n",
      "Processed documents : 1467/1635\n",
      "Processed documents : 1630/1635\n",
      "\n",
      "Test mode tfidf covering 1635 documents\n",
      "\n",
      "Processed documents : 163/1635\n",
      "Processed documents : 326/1635\n",
      "Processed documents : 489/1635\n",
      "Processed documents : 652/1635\n",
      "Processed documents : 815/1635\n",
      "Processed documents : 978/1635\n",
      "Processed documents : 1141/1635\n",
      "Processed documents : 1304/1635\n",
      "Processed documents : 1467/1635\n",
      "Processed documents : 1630/1635\n",
      "\n",
      "Test mode tfidf covering 1635 documents\n",
      "\n",
      "Processed documents : 163/1635\n",
      "Processed documents : 326/1635\n",
      "Processed documents : 489/1635\n",
      "Processed documents : 652/1635\n",
      "Processed documents : 815/1635\n",
      "Processed documents : 978/1635\n",
      "Processed documents : 1141/1635\n",
      "Processed documents : 1304/1635\n",
      "Processed documents : 1467/1635\n",
      "Processed documents : 1630/1635\n",
      "\n",
      "Test mode tfidf covering 1635 documents\n",
      "\n",
      "Processed documents : 163/1635\n",
      "Processed documents : 326/1635\n",
      "Processed documents : 489/1635\n",
      "Processed documents : 652/1635\n",
      "Processed documents : 815/1635\n",
      "Processed documents : 978/1635\n",
      "Processed documents : 1141/1635\n",
      "Processed documents : 1304/1635\n",
      "Processed documents : 1467/1635\n",
      "Processed documents : 1630/1635\n",
      "\n",
      "Test mode tfidf covering 1635 documents\n",
      "\n",
      "Processed documents : 163/1635\n",
      "Processed documents : 326/1635\n",
      "Processed documents : 489/1635\n",
      "Processed documents : 652/1635\n",
      "Processed documents : 815/1635\n",
      "Processed documents : 978/1635\n",
      "Processed documents : 1141/1635\n",
      "Processed documents : 1304/1635\n",
      "Processed documents : 1467/1635\n",
      "Processed documents : 1630/1635\n",
      "\n",
      "Test mode tfidf covering 1635 documents\n",
      "\n",
      "Processed documents : 163/1635\n",
      "Processed documents : 326/1635\n",
      "Processed documents : 489/1635\n",
      "Processed documents : 652/1635\n",
      "Processed documents : 815/1635\n",
      "Processed documents : 978/1635\n",
      "Processed documents : 1141/1635\n",
      "Processed documents : 1304/1635\n",
      "Processed documents : 1467/1635\n",
      "Processed documents : 1630/1635\n",
      "\n",
      "Test mode tfidf covering 1635 documents\n",
      "\n",
      "Processed documents : 163/1635\n",
      "Processed documents : 326/1635\n",
      "Processed documents : 489/1635\n",
      "Processed documents : 652/1635\n",
      "Processed documents : 815/1635\n",
      "Processed documents : 978/1635\n",
      "Processed documents : 1141/1635\n",
      "Processed documents : 1304/1635\n",
      "Processed documents : 1467/1635\n",
      "Processed documents : 1630/1635\n",
      "\n",
      "Test mode tfidf covering 1635 documents\n",
      "\n",
      "Processed documents : 163/1635\n",
      "Processed documents : 326/1635\n",
      "Processed documents : 489/1635\n",
      "Processed documents : 652/1635\n",
      "Processed documents : 815/1635\n",
      "Processed documents : 978/1635\n",
      "Processed documents : 1141/1635\n",
      "Processed documents : 1304/1635\n",
      "Processed documents : 1467/1635\n",
      "Processed documents : 1630/1635\n"
     ]
    }
   ],
   "source": [
    "import p5_util\n",
    "import p6_util\n",
    "\n",
    "nb_test = int(len(df_sof_test)/10)\n",
    "\n",
    "modulo=int(nb_test/10)\n",
    "print(\"Nb tests= {} Module={}\".format(nb_test, modulo))\n",
    "dict_dict_match_result = dict()\n",
    "for  p_min_df in p_min_df_list :\n",
    "    vectorizer_tfidf_ngram1 = dict_vectorizer_tfidf_ngram1[p_min_df]\n",
    "    csr_matrix_tfidf_ngram1 = dict_csr_matrix_tfidf_ngram1[p_min_df]\n",
    "    dict_dict_match_result[p_min_df] \\\n",
    "    = p6_util.p6_score_mean_string_simlarity(nb_test, df_sof_test, list_sof_tag\\\n",
    "        , vectorizer_tfidf_ngram1, csr_matrix_tfidf_ngram1,p_tag_ratio=None, embeding_mode='tfidf' )\n",
    "\n",
    "    file_name='./data/dict_match_result_tfidf_ngram1_stat_'+str(p_min_df)+'_.dump'\n",
    "    p5_util.object_dump(dict_dict_match_result[p_min_df], file_name)"
   ]
  },
  {
   "cell_type": "markdown",
   "metadata": {},
   "source": [
    "**Loading dictionary of benchmark results**"
   ]
  },
  {
   "cell_type": "code",
   "execution_count": 17,
   "metadata": {},
   "outputs": [
    {
     "name": "stdout",
     "output_type": "stream",
     "text": [
      "p5_util.object_load : fileName= ./data/dict_match_result_tfidf_ngram1_stat_0.0_.dump\n",
      "p5_util.object_load : fileName= ./data/dict_match_result_tfidf_ngram1_stat_0.0001_.dump\n",
      "p5_util.object_load : fileName= ./data/dict_match_result_tfidf_ngram1_stat_0.0002_.dump\n",
      "p5_util.object_load : fileName= ./data/dict_match_result_tfidf_ngram1_stat_0.0003_.dump\n",
      "p5_util.object_load : fileName= ./data/dict_match_result_tfidf_ngram1_stat_0.0004_.dump\n",
      "p5_util.object_load : fileName= ./data/dict_match_result_tfidf_ngram1_stat_0.0005_.dump\n",
      "p5_util.object_load : fileName= ./data/dict_match_result_tfidf_ngram1_stat_0.0006_.dump\n",
      "p5_util.object_load : fileName= ./data/dict_match_result_tfidf_ngram1_stat_0.0007_.dump\n"
     ]
    }
   ],
   "source": [
    "import p5_util\n",
    "dict_dict_match_result = dict()\n",
    "for  p_min_df in p_min_df_list :\n",
    "    file_name='./data/dict_match_result_tfidf_ngram1_stat_'+str(p_min_df)+'_.dump'\n",
    "    dict_dict_match_result[p_min_df] = p5_util.object_load(file_name)"
   ]
  },
  {
   "cell_type": "code",
   "execution_count": 18,
   "metadata": {},
   "outputs": [
    {
     "name": "stdout",
     "output_type": "stream",
     "text": [
      "\n",
      "*** Matching results : 0.11 %\n",
      "\n",
      "*** Matching results : 0.12 %\n",
      "\n",
      "*** Matching results : 0.12 %\n",
      "\n",
      "*** Matching results : 0.12 %\n",
      "\n",
      "*** Matching results : 0.11 %\n",
      "\n",
      "*** Matching results : 0.12 %\n",
      "\n",
      "*** Matching results : 0.12 %\n",
      "\n",
      "*** Matching results : 0.11 %\n"
     ]
    }
   ],
   "source": [
    "import p6_util\n",
    "dict_stat_result_all = dict()\n",
    "for  p_min_df in p_min_df_list :\n",
    "\n",
    "    arr_similarity_result, arr_matching_result, stat_mean_accuracy_score \\\n",
    "    = p6_util.p6_stat_compute_result(dict_dict_match_result[p_min_df])\n",
    "\n",
    "    dict_stat_result_all[p_min_df] = stat_mean_accuracy_score\n"
   ]
  },
  {
   "cell_type": "code",
   "execution_count": 21,
   "metadata": {
    "scrolled": true
   },
   "outputs": [
    {
     "data": {
      "text/html": [
       "<div>\n",
       "<style scoped>\n",
       "    .dataframe tbody tr th:only-of-type {\n",
       "        vertical-align: middle;\n",
       "    }\n",
       "\n",
       "    .dataframe tbody tr th {\n",
       "        vertical-align: top;\n",
       "    }\n",
       "\n",
       "    .dataframe thead th {\n",
       "        text-align: right;\n",
       "    }\n",
       "</style>\n",
       "<table border=\"1\" class=\"dataframe\">\n",
       "  <thead>\n",
       "    <tr style=\"text-align: right;\">\n",
       "      <th></th>\n",
       "      <th>P_MIN</th>\n",
       "      <th>Score</th>\n",
       "    </tr>\n",
       "  </thead>\n",
       "  <tbody>\n",
       "    <tr>\n",
       "      <th>0</th>\n",
       "      <td>0.0000</td>\n",
       "      <td>0.112134</td>\n",
       "    </tr>\n",
       "    <tr>\n",
       "      <th>1</th>\n",
       "      <td>0.0001</td>\n",
       "      <td>0.116002</td>\n",
       "    </tr>\n",
       "    <tr>\n",
       "      <th>2</th>\n",
       "      <td>0.0002</td>\n",
       "      <td>0.117521</td>\n",
       "    </tr>\n",
       "    <tr>\n",
       "      <th>3</th>\n",
       "      <td>0.0003</td>\n",
       "      <td>0.117207</td>\n",
       "    </tr>\n",
       "    <tr>\n",
       "      <th>4</th>\n",
       "      <td>0.0004</td>\n",
       "      <td>0.114405</td>\n",
       "    </tr>\n",
       "    <tr>\n",
       "      <th>5</th>\n",
       "      <td>0.0005</td>\n",
       "      <td>0.116280</td>\n",
       "    </tr>\n",
       "    <tr>\n",
       "      <th>6</th>\n",
       "      <td>0.0006</td>\n",
       "      <td>0.115967</td>\n",
       "    </tr>\n",
       "    <tr>\n",
       "      <th>7</th>\n",
       "      <td>0.0007</td>\n",
       "      <td>0.113995</td>\n",
       "    </tr>\n",
       "  </tbody>\n",
       "</table>\n",
       "</div>"
      ],
      "text/plain": [
       "    P_MIN     Score\n",
       "0  0.0000  0.112134\n",
       "1  0.0001  0.116002\n",
       "2  0.0002  0.117521\n",
       "3  0.0003  0.117207\n",
       "4  0.0004  0.114405\n",
       "5  0.0005  0.116280\n",
       "6  0.0006  0.115967\n",
       "7  0.0007  0.113995"
      ]
     },
     "execution_count": 21,
     "metadata": {},
     "output_type": "execute_result"
    }
   ],
   "source": [
    "import pandas as pd\n",
    "df_result = pd.DataFrame.from_dict( dict_stat_result_all, orient='index')\n",
    "df_result.reset_index(inplace=True)\n",
    "df_result.rename(columns={'index':'P_MIN',0:'Score'}, inplace=True)\n",
    "df_result"
   ]
  },
  {
   "cell_type": "code",
   "execution_count": 26,
   "metadata": {},
   "outputs": [
    {
     "data": {
      "image/png": "[encoded data removed]",
      "text/plain": [
       "<Figure size 1440x720 with 1 Axes>"
      ]
     },
     "metadata": {},
     "output_type": "display_data"
    }
   ],
   "source": [
    "import p6_util_plot\n",
    "title = \"Benchmark of TFIDF (1,1) models; max_df=1.\"\n",
    "p6_util_plot.ser_item_occurency_plot(df_result.P_MIN, df_result.Score*100, item_count=None, title=title,\\\n",
    "                                    p_reverse=None, p_x_title='p_min values', p_y_title='Embedding models accuracy (%)')"
   ]
  },
  {
   "cell_type": "markdown",
   "metadata": {},
   "source": [
    "**Fixing optimized p_min_df, searching for best p_amx_df**"
   ]
  },
  {
   "cell_type": "code",
   "execution_count": 30,
   "metadata": {},
   "outputs": [
    {
     "name": "stdout",
     "output_type": "stream",
     "text": [
      "MIN DF= 0.0002  MAX DF = 0.01\n",
      "(24604, 5980)\n",
      "\n",
      "MIN DF= 0.0002  MAX DF = 0.02\n",
      "(24604, 6232)\n",
      "\n",
      "MIN DF= 0.0002  MAX DF = 0.03\n",
      "(24604, 6325)\n",
      "\n",
      "MIN DF= 0.0002  MAX DF = 0.04\n",
      "(24604, 6367)\n",
      "\n",
      "MIN DF= 0.0002  MAX DF = 0.05\n",
      "(24604, 6389)\n",
      "\n",
      "MIN DF= 0.0002  MAX DF = 0.06\n",
      "(24604, 6405)\n",
      "\n",
      "MIN DF= 0.0002  MAX DF = 0.07\n",
      "(24604, 6415)\n",
      "\n",
      "MIN DF= 0.0002  MAX DF = 0.08\n",
      "(24604, 6422)\n",
      "\n",
      "MIN DF= 0.0002  MAX DF = 0.09\n",
      "(24604, 6425)\n",
      "\n",
      "MIN DF= 0.0002  MAX DF = 0.1\n",
      "(24604, 6428)\n",
      "\n"
     ]
    }
   ],
   "source": [
    "from sklearn.feature_extraction.text import TfidfVectorizer\n",
    "import p5_util\n",
    "\n",
    "dict_stat_result_1_1 = dict()\n",
    "\n",
    "# When building vacabulary, terms with frequency document < p_min_df are ignored.\n",
    "p_min_df = 0.0002\n",
    "# When building vocabulary, terms with frequency document> p_max_df are ignored.\n",
    "p_max_df_list = [0.1, 2e-1, 3e-1, 4e-1, 5e-1,6e-1, 7e-1, 8e-1, 9e-1, 1.]\n",
    "p_max_df_list = [1e-2, 2e-2, 3e-2, 4e-2, 5e-2,6e-2, 7e-2, 8e-2, 9e-2, 10e-2]\n",
    "\n",
    "#p_max_df_list = [1.,]\n",
    "\n",
    "ngram1=1\n",
    "ngram2=1\n",
    "dict_vectorizer_tfidf_ngram1 = dict()\n",
    "dict_csr_matrix_tfidf_ngram1 = dict()\n",
    "for  p_max_df in p_max_df_list :\n",
    "    try :\n",
    "        dict_vectorizer_tfidf_ngram1[p_max_df] = TfidfVectorizer(norm=\"l2\", use_idf=True, min_df=p_min_df, max_df=p_max_df, ngram_range=(ngram1, ngram2))\n",
    "    except :\n",
    "        print(\"\\n*** ERROR for (min,max)= \"+str(p_min_df, p_max_df))\n",
    "        continue\n",
    "    dict_csr_matrix_tfidf_ngram1[p_max_df] = dict_vectorizer_tfidf_ngram1[p_max_df].fit_transform(ser_sof_train)\n",
    "\n",
    "    print(\"MIN DF= \"+str(p_min_df)+\"  MAX DF = \"+str(p_max_df))\n",
    "\n",
    "    file_name='./data/csr_matrix_tfidf_ngram1_'+str(p_max_df)+'_.dump'\n",
    "    #p5_util.object_dump(dict_csr_matrix_tfidf_ngram1[p_max_df],file_name)\n",
    "    print(dict_csr_matrix_tfidf_ngram1[p_max_df].shape)\n",
    " \n",
    "\n",
    "    file_name='./data/vectorizer_tfidf_ngram1_'+str(p_max_df)+'_.dump'\n",
    "    #p5_util.object_dump(dict_vectorizer_tfidf_ngram1[p_max_df],file_name)\n",
    "    print()"
   ]
  },
  {
   "cell_type": "code",
   "execution_count": 31,
   "metadata": {},
   "outputs": [
    {
     "name": "stdout",
     "output_type": "stream",
     "text": [
      "Nb tests= 327 Module=32\n",
      "\n",
      "Test mode tfidf covering 327 documents\n",
      "\n",
      "Processed documents : 32/327\n",
      "Processed documents : 64/327\n",
      "Processed documents : 96/327\n",
      "Processed documents : 128/327\n",
      "Processed documents : 160/327\n",
      "Processed documents : 192/327\n",
      "Processed documents : 224/327\n",
      "Processed documents : 256/327\n",
      "Processed documents : 288/327\n",
      "Processed documents : 320/327\n",
      "\n",
      "Test mode tfidf covering 327 documents\n",
      "\n",
      "Processed documents : 32/327\n",
      "Processed documents : 64/327\n",
      "Processed documents : 96/327\n",
      "Processed documents : 128/327\n",
      "Processed documents : 160/327\n",
      "Processed documents : 192/327\n",
      "Processed documents : 224/327\n",
      "Processed documents : 256/327\n",
      "Processed documents : 288/327\n",
      "Processed documents : 320/327\n",
      "\n",
      "Test mode tfidf covering 327 documents\n",
      "\n",
      "Processed documents : 32/327\n",
      "Processed documents : 64/327\n",
      "Processed documents : 96/327\n",
      "Processed documents : 128/327\n",
      "Processed documents : 160/327\n",
      "Processed documents : 192/327\n",
      "Processed documents : 224/327\n",
      "Processed documents : 256/327\n",
      "Processed documents : 288/327\n",
      "Processed documents : 320/327\n",
      "\n",
      "Test mode tfidf covering 327 documents\n",
      "\n",
      "Processed documents : 32/327\n",
      "Processed documents : 64/327\n",
      "Processed documents : 96/327\n",
      "Processed documents : 128/327\n",
      "Processed documents : 160/327\n",
      "Processed documents : 192/327\n",
      "Processed documents : 224/327\n",
      "Processed documents : 256/327\n",
      "Processed documents : 288/327\n",
      "Processed documents : 320/327\n",
      "\n",
      "Test mode tfidf covering 327 documents\n",
      "\n",
      "Processed documents : 32/327\n",
      "Processed documents : 64/327\n",
      "Processed documents : 96/327\n",
      "Processed documents : 128/327\n",
      "Processed documents : 160/327\n",
      "Processed documents : 192/327\n",
      "Processed documents : 224/327\n",
      "Processed documents : 256/327\n",
      "Processed documents : 288/327\n",
      "Processed documents : 320/327\n",
      "\n",
      "Test mode tfidf covering 327 documents\n",
      "\n",
      "Processed documents : 32/327\n",
      "Processed documents : 64/327\n",
      "Processed documents : 96/327\n",
      "Processed documents : 128/327\n",
      "Processed documents : 160/327\n",
      "Processed documents : 192/327\n",
      "Processed documents : 224/327\n",
      "Processed documents : 256/327\n",
      "Processed documents : 288/327\n",
      "Processed documents : 320/327\n",
      "\n",
      "Test mode tfidf covering 327 documents\n",
      "\n",
      "Processed documents : 32/327\n",
      "Processed documents : 64/327\n",
      "Processed documents : 96/327\n",
      "Processed documents : 128/327\n",
      "Processed documents : 160/327\n",
      "Processed documents : 192/327\n",
      "Processed documents : 224/327\n",
      "Processed documents : 256/327\n",
      "Processed documents : 288/327\n",
      "Processed documents : 320/327\n",
      "\n",
      "Test mode tfidf covering 327 documents\n",
      "\n",
      "Processed documents : 32/327\n",
      "Processed documents : 64/327\n",
      "Processed documents : 96/327\n",
      "Processed documents : 128/327\n",
      "Processed documents : 160/327\n",
      "Processed documents : 192/327\n",
      "Processed documents : 224/327\n",
      "Processed documents : 256/327\n",
      "Processed documents : 288/327\n",
      "Processed documents : 320/327\n",
      "\n",
      "Test mode tfidf covering 327 documents\n",
      "\n",
      "Processed documents : 32/327\n",
      "Processed documents : 64/327\n",
      "Processed documents : 96/327\n",
      "Processed documents : 128/327\n",
      "Processed documents : 160/327\n",
      "Processed documents : 192/327\n",
      "Processed documents : 224/327\n",
      "Processed documents : 256/327\n",
      "Processed documents : 288/327\n",
      "Processed documents : 320/327\n",
      "\n",
      "Test mode tfidf covering 327 documents\n",
      "\n",
      "Processed documents : 32/327\n",
      "Processed documents : 64/327\n",
      "Processed documents : 96/327\n",
      "Processed documents : 128/327\n",
      "Processed documents : 160/327\n",
      "Processed documents : 192/327\n",
      "Processed documents : 224/327\n",
      "Processed documents : 256/327\n",
      "Processed documents : 288/327\n",
      "Processed documents : 320/327\n",
      "max_df= 0.01\n",
      "\n",
      "*** Matching results : 0.08 %\n",
      "max_df= 0.02\n",
      "\n",
      "*** Matching results : 0.10 %\n",
      "max_df= 0.03\n",
      "\n",
      "*** Matching results : 0.10 %\n",
      "max_df= 0.04\n",
      "\n",
      "*** Matching results : 0.10 %\n",
      "max_df= 0.05\n",
      "\n",
      "*** Matching results : 0.10 %\n",
      "max_df= 0.06\n",
      "\n",
      "*** Matching results : 0.11 %\n",
      "max_df= 0.07\n",
      "\n",
      "*** Matching results : 0.11 %\n",
      "max_df= 0.08\n",
      "\n",
      "*** Matching results : 0.11 %\n",
      "max_df= 0.09\n",
      "\n",
      "*** Matching results : 0.11 %\n",
      "max_df= 0.1\n",
      "\n",
      "*** Matching results : 0.11 %\n"
     ]
    },
    {
     "data": {
      "text/html": [
       "<div>\n",
       "<style scoped>\n",
       "    .dataframe tbody tr th:only-of-type {\n",
       "        vertical-align: middle;\n",
       "    }\n",
       "\n",
       "    .dataframe tbody tr th {\n",
       "        vertical-align: top;\n",
       "    }\n",
       "\n",
       "    .dataframe thead th {\n",
       "        text-align: right;\n",
       "    }\n",
       "</style>\n",
       "<table border=\"1\" class=\"dataframe\">\n",
       "  <thead>\n",
       "    <tr style=\"text-align: right;\">\n",
       "      <th></th>\n",
       "      <th>P_MAX</th>\n",
       "      <th>Score</th>\n",
       "    </tr>\n",
       "  </thead>\n",
       "  <tbody>\n",
       "    <tr>\n",
       "      <th>0</th>\n",
       "      <td>0.01</td>\n",
       "      <td>0.083507</td>\n",
       "    </tr>\n",
       "    <tr>\n",
       "      <th>1</th>\n",
       "      <td>0.02</td>\n",
       "      <td>0.097622</td>\n",
       "    </tr>\n",
       "    <tr>\n",
       "      <th>2</th>\n",
       "      <td>0.03</td>\n",
       "      <td>0.101932</td>\n",
       "    </tr>\n",
       "    <tr>\n",
       "      <th>3</th>\n",
       "      <td>0.04</td>\n",
       "      <td>0.104200</td>\n",
       "    </tr>\n",
       "    <tr>\n",
       "      <th>4</th>\n",
       "      <td>0.05</td>\n",
       "      <td>0.104812</td>\n",
       "    </tr>\n",
       "    <tr>\n",
       "      <th>5</th>\n",
       "      <td>0.06</td>\n",
       "      <td>0.105249</td>\n",
       "    </tr>\n",
       "    <tr>\n",
       "      <th>6</th>\n",
       "      <td>0.07</td>\n",
       "      <td>0.105249</td>\n",
       "    </tr>\n",
       "    <tr>\n",
       "      <th>7</th>\n",
       "      <td>0.08</td>\n",
       "      <td>0.106013</td>\n",
       "    </tr>\n",
       "    <tr>\n",
       "      <th>8</th>\n",
       "      <td>0.09</td>\n",
       "      <td>0.106013</td>\n",
       "    </tr>\n",
       "    <tr>\n",
       "      <th>9</th>\n",
       "      <td>0.10</td>\n",
       "      <td>0.106013</td>\n",
       "    </tr>\n",
       "  </tbody>\n",
       "</table>\n",
       "</div>"
      ],
      "text/plain": [
       "   P_MAX     Score\n",
       "0   0.01  0.083507\n",
       "1   0.02  0.097622\n",
       "2   0.03  0.101932\n",
       "3   0.04  0.104200\n",
       "4   0.05  0.104812\n",
       "5   0.06  0.105249\n",
       "6   0.07  0.105249\n",
       "7   0.08  0.106013\n",
       "8   0.09  0.106013\n",
       "9   0.10  0.106013"
      ]
     },
     "execution_count": 31,
     "metadata": {},
     "output_type": "execute_result"
    }
   ],
   "source": [
    "import p5_util\n",
    "import p6_util\n",
    "\n",
    "nb_test = int(len(df_sof_test)/50)\n",
    "\n",
    "modulo=int(nb_test/10)\n",
    "print(\"Nb tests= {} Module={}\".format(nb_test, modulo))\n",
    "dict_dict_match_result = dict()\n",
    "for  p_max_df in p_max_df_list  :\n",
    "    vectorizer_tfidf_ngram1 = dict_vectorizer_tfidf_ngram1[p_max_df]\n",
    "    csr_matrix_tfidf_ngram1 = dict_csr_matrix_tfidf_ngram1[p_max_df]\n",
    "    dict_dict_match_result[p_max_df] \\\n",
    "    = p6_util.p6_score_mean_string_simlarity(nb_test, df_sof_test, list_sof_tag\\\n",
    "        , vectorizer_tfidf_ngram1, csr_matrix_tfidf_ngram1,p_tag_ratio=None, embeding_mode='tfidf' )\n",
    "\n",
    "    #file_name='./data/dict_match_result_tfidf_ngram1_stat_'+str(p_min_df)+'_.dump'\n",
    "    #p5_util.object_dump(dict_dict_match_result[p_max_df], file_name)\n",
    "\n",
    "import p6_util\n",
    "dict_stat_result_all = dict()\n",
    "for  p_max_df in p_max_df_list  :\n",
    "    print(\"max_df= \"+str(p_max_df))\n",
    "    arr_similarity_result, arr_matching_result, stat_mean_accuracy_score \\\n",
    "    = p6_util.p6_stat_compute_result(dict_dict_match_result[p_max_df])\n",
    "\n",
    "    dict_stat_result_all[p_max_df] = stat_mean_accuracy_score\n",
    "\n",
    "\n",
    "import pandas as pd\n",
    "df_result = pd.DataFrame.from_dict( dict_stat_result_all, orient='index')\n",
    "df_result.reset_index(inplace=True)\n",
    "df_result.rename(columns={'index':'P_MAX',0:'Score'}, inplace=True)\n",
    "df_result"
   ]
  },
  {
   "cell_type": "code",
   "execution_count": 36,
   "metadata": {},
   "outputs": [
    {
     "data": {
      "image/png": "[encoded data removed]",
      "text/plain": [
       "<Figure size 1440x720 with 1 Axes>"
      ]
     },
     "metadata": {},
     "output_type": "display_data"
    }
   ],
   "source": [
    "import p6_util_plot\n",
    "title = \"Benchmark of TFIDF (1,1) models; min_df=2E-4\"\n",
    "p6_util_plot.ser_item_occurency_plot(df_result.P_MAX, df_result.Score*100, item_count=None, title=title,\\\n",
    "                                    p_reverse=False, p_x_title='p_max values', p_y_title='Embedding models accuracy (%)')"
   ]
  },
  {
   "cell_type": "markdown",
   "metadata": {},
   "source": [
    "## <font color='blus'> 5.7. Building best TFIDF (1,1) Vectorized model</font>"
   ]
  },
  {
   "cell_type": "code",
   "execution_count": 39,
   "metadata": {},
   "outputs": [
    {
     "name": "stdout",
     "output_type": "stream",
     "text": [
      "(24604, 6448)\n"
     ]
    }
   ],
   "source": [
    "import p5_util\n",
    "\n",
    "ngram1=1\n",
    "ngram2=1\n",
    "p_min_df=2.E-4\n",
    "p_max_df=1.0\n",
    "vectorizer_tfidf_ngram1_b \\\n",
    "= TfidfVectorizer(norm=\"l2\", use_idf=True, min_df=p_min_df, max_df=p_max_df, ngram_range=(ngram1, ngram2))\n",
    "csr_matrix_tfidf_ngram1_b = vectorizer_tfidf_ngram1_b.fit_transform(ser_sof_train)\n",
    "\n",
    "print(csr_matrix_tfidf_ngram1_b.shape)\n",
    "file_name='./data/csr_matrix_tfidf_ngram1_b.dump'\n",
    "p5_util.object_dump(csr_matrix_tfidf_ngram1_b,file_name)\n",
    "\n",
    "file_name='./data/vectorizer_tfidf_ngram1_b.dump'\n",
    "p5_util.object_dump(vectorizer_tfidf_ngram1_b,file_name)\n",
    "\n"
   ]
  },
  {
   "cell_type": "markdown",
   "metadata": {},
   "source": [
    "## <font color='blus'> 5.8. Testing best TFIDF (1,1) Vectorization model</font>"
   ]
  },
  {
   "cell_type": "code",
   "execution_count": 4,
   "metadata": {},
   "outputs": [
    {
     "name": "stdout",
     "output_type": "stream",
     "text": [
      "p5_util.object_load : fileName= ./data/csr_matrix_tfidf_ngram1_b.dump\n",
      "(24604, 6448)\n",
      "p5_util.object_load : fileName= ./data/vectorizer_tfidf_ngram1_b.dump\n"
     ]
    }
   ],
   "source": [
    "import p5_util\n",
    "\n",
    "file_name='./data/csr_matrix_tfidf_ngram1_b.dump'\n",
    "csr_matrix_tfidf_ngram1_b = p5_util.object_load(file_name)\n",
    "print(csr_matrix_tfidf_ngram1_b.shape)\n",
    "\n",
    "file_name='./data/vectorizer_tfidf_ngram1_b.dump'\n",
    "vectorizer_tfidf_ngram1_b = p5_util.object_load(file_name)\n",
    "\n"
   ]
  },
  {
   "cell_type": "code",
   "execution_count": 44,
   "metadata": {},
   "outputs": [
    {
     "name": "stdout",
     "output_type": "stream",
     "text": [
      "Nb tests= 1635 Module=163\n",
      "\n",
      "Test mode tfidf covering 1635 documents\n",
      "\n",
      "Processed documents : 163/1635\n",
      "Processed documents : 326/1635\n",
      "Processed documents : 489/1635\n",
      "Processed documents : 652/1635\n",
      "Processed documents : 815/1635\n",
      "Processed documents : 978/1635\n",
      "Processed documents : 1141/1635\n",
      "Processed documents : 1304/1635\n",
      "Processed documents : 1467/1635\n",
      "Processed documents : 1630/1635\n"
     ]
    }
   ],
   "source": [
    "\n",
    "nb_test = int(len(df_sof_test)/10)\n",
    "\n",
    "modulo=int(nb_test/10)\n",
    "print(\"Nb tests= {} Module={}\".format(nb_test, modulo))\n",
    "dict_dict_match_result[0] \\\n",
    "= p6_util.p6_score_mean_string_simlarity(nb_test, df_sof_test, list_sof_tag\\\n",
    "    , vectorizer_tfidf_ngram1_b, csr_matrix_tfidf_ngram1_b,p_tag_ratio=None, embeding_mode='tfidf' )\n"
   ]
  },
  {
   "cell_type": "code",
   "execution_count": 45,
   "metadata": {},
   "outputs": [
    {
     "name": "stdout",
     "output_type": "stream",
     "text": [
      "\n",
      "*** Matching results : 0.12 %\n"
     ]
    }
   ],
   "source": [
    "import p6_util\n",
    "dict_stat_result_all = dict()\n",
    "arr_similarity_result, arr_matching_result, stat_mean_accuracy_score \\\n",
    "= p6_util.p6_stat_compute_result(dict_dict_match_result[0])\n",
    "\n",
    "dict_stat_result_all[0] = stat_mean_accuracy_score\n"
   ]
  },
  {
   "cell_type": "code",
   "execution_count": null,
   "metadata": {},
   "outputs": [],
   "source": [
    "    "
   ]
  }
 ],
 "metadata": {
  "celltoolbar": "Slideshow",
  "kernelspec": {
   "display_name": "Python 3",
   "language": "python",
   "name": "python3"
  },
  "language_info": {
   "codemirror_mode": {
    "name": "ipython",
    "version": 3
   },
   "file_extension": ".py",
   "mimetype": "text/x-python",
   "name": "python",
   "nbconvert_exporter": "python",
   "pygments_lexer": "ipython3",
   "version": "3.7.0"
  }
 },
 "nbformat": 4,
 "nbformat_minor": 2
}
