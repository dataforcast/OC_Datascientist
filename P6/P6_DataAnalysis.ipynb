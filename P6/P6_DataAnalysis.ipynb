{
 "cells": [
  {
   "cell_type": "markdown",
   "metadata": {
    "slideshow": {
     "slide_type": "-"
    }
   },
   "source": [
    "<!--NOTEBOOK_INFORMATION-->\n",
    "<img align=\"left\" style=\"padding-right:10px;\" src=\"./figures/LogoOpenclassrooms.png\">\n",
    "<font size=\"4\">\n",
    "<p>\n",
    "Cette étude a été réalisée dans le cadre du 6ème projet de ma formation Datascientist dispensée en MOOC par \n",
    "</p>    \n",
    "<font color='blus'>Openclassrooms / écoles Centrale-Supélec</font>.\n",
    "<p>\n",
    "Le modèle étudié se base sur les données fournies par le site de StackOverFlow.\n",
    "</p>\n",
    "<p>\n",
    "La requête SQL suivante a permis de récupérer :\n",
    "\n",
    "* les données du jeux d'entrainement:     \n",
    "\n",
    "    ``SELECT Id, PostTypeId, Body, Title, Tags from Posts where Id<200000 and PostTypeId=1;``\n",
    "    \n",
    "\n",
    "* les données du jeux de test :\n",
    "\n",
    "    ``SELECT Id, PostTypeId, Body, Title, Tags from Posts where Id>=200000 and Id<300000 and PostTypeId=1;``\n",
    "    \n",
    "</p>\n",
    "<p>\n",
    "\n"
   ]
  },
  {
   "cell_type": "markdown",
   "metadata": {},
   "source": [
    "# <font color='blus'>1. Paramaters</font>"
   ]
  },
  {
   "cell_type": "code",
   "execution_count": 1,
   "metadata": {},
   "outputs": [],
   "source": [
    "#-------------------------------------------------------------------------------\n",
    "# Apply or not stemming process over sentences\n",
    "#-------------------------------------------------------------------------------\n",
    "is_stemming=False"
   ]
  },
  {
   "cell_type": "markdown",
   "metadata": {},
   "source": [
    "# <font color='blus'>2. Data acquisition</font>"
   ]
  },
  {
   "cell_type": "code",
   "execution_count": 2,
   "metadata": {},
   "outputs": [],
   "source": [
    "import pandas as pd\n",
    "file_name=\"./data/train_StackOverFlow_BodyTitleTags.csv\"\n",
    "df_sof_train=pd.read_csv(file_name)"
   ]
  },
  {
   "cell_type": "code",
   "execution_count": 3,
   "metadata": {},
   "outputs": [
    {
     "name": "stdout",
     "output_type": "stream",
     "text": [
      "Index(['Id', 'PostTypeId', 'Body', 'Title', 'Tags'], dtype='object')\n"
     ]
    }
   ],
   "source": [
    "print(df_sof_train.columns)"
   ]
  },
  {
   "cell_type": "raw",
   "metadata": {},
   "source": [
    "df_sof_train.sample()\n",
    "print(df_sof_train.Title.iloc[0])\n",
    "print(\"----------------\")\n",
    "print(df_sof_train.Body.iloc[0]+'\\n')"
   ]
  },
  {
   "cell_type": "markdown",
   "metadata": {},
   "source": [
    "# <font color='blus'>3. Data-set processing</font>"
   ]
  },
  {
   "cell_type": "markdown",
   "metadata": {},
   "source": [
    "**Merge Body and Title columns**\n",
    "\n",
    "``Title`` elements are regarded as synthetisis of ``Body`` elements.\n",
    "\n",
    "Merging ``Title`` with ``Body`` enreach ``Body`` contents with more relevant informations."
   ]
  },
  {
   "cell_type": "code",
   "execution_count": 4,
   "metadata": {},
   "outputs": [],
   "source": [
    "df_sof_train['Body']=df_sof_train['Body']+df_sof_train['Title']"
   ]
  },
  {
   "cell_type": "raw",
   "metadata": {},
   "source": [
    "df_sof_train.Tags.sample()"
   ]
  },
  {
   "cell_type": "markdown",
   "metadata": {},
   "source": [
    "**Dataset preprocessing**"
   ]
  },
  {
   "cell_type": "markdown",
   "metadata": {},
   "source": [
    "Expressions between markers ``code`` and ``/code`` are all removed.\n",
    "\n",
    "Such expressions are computer language specifics, different as english language. It is considered as having  no semantic value for english language."
   ]
  },
  {
   "cell_type": "code",
   "execution_count": 9,
   "metadata": {},
   "outputs": [
    {
     "name": "stdout",
     "output_type": "stream",
     "text": [
      "\n",
      "Cleaning text in-between markers <code></code> markers...\n",
      "\n",
      "Cleaning LXML markers...\n",
      "\n",
      "Remove verbs from sentences...\n",
      "\n",
      "Filtering alpha-numeroc words from sentences...\n",
      "\n",
      "Removing stopwords...\n",
      "\n",
      "Lemmatization ...\n"
     ]
    }
   ],
   "source": [
    "import p6_util\n",
    "df_sof_train = p6_util.p6_df_standardization(df_sof_train)"
   ]
  },
  {
   "cell_type": "markdown",
   "metadata": {},
   "source": [
    "**Save cleaned train-dataset**"
   ]
  },
  {
   "cell_type": "code",
   "execution_count": 10,
   "metadata": {},
   "outputs": [],
   "source": [
    "import p5_util\n",
    "file_name='./data/df_sof_train.dump'\n",
    "p5_util.object_dump(df_sof_train, file_name)"
   ]
  },
  {
   "cell_type": "markdown",
   "metadata": {},
   "source": [
    "# <font color='blus'>4. Data analysis</font>"
   ]
  },
  {
   "cell_type": "markdown",
   "metadata": {},
   "source": [
    "**Cleaned dataset is loaded from dumped file**"
   ]
  },
  {
   "cell_type": "code",
   "execution_count": 11,
   "metadata": {},
   "outputs": [
    {
     "name": "stdout",
     "output_type": "stream",
     "text": [
      "p5_util.object_load : fileName= ./data/df_sof_train.dump\n"
     ]
    }
   ],
   "source": [
    "import p5_util\n",
    "file_name='./data/df_sof_train.dump'\n",
    "df_sof_train = p5_util.object_load(file_name)"
   ]
  },
  {
   "cell_type": "markdown",
   "metadata": {},
   "source": [
    "## 4.1 Words frequencies computation"
   ]
  },
  {
   "cell_type": "markdown",
   "metadata": {},
   "source": [
    "Series ``df_sof_train.Body`` is converted into a dictionary in order to feed ``compute_frequency_sentence`` function."
   ]
  },
  {
   "cell_type": "code",
   "execution_count": 12,
   "metadata": {},
   "outputs": [],
   "source": [
    "import p6_util\n",
    "dict_body_train = df_sof_train.Body.to_dict()\n",
    "freq_body_train = p6_util.compute_frequency_sentence(dict_body_train, token_mode='nltk')"
   ]
  },
  {
   "cell_type": "code",
   "execution_count": 14,
   "metadata": {},
   "outputs": [
    {
     "data": {
      "text/plain": [
       "<Figure size 720x720 with 0 Axes>"
      ]
     },
     "metadata": {},
     "output_type": "display_data"
    },
    {
     "data": {
      "image/png": "[encoded data removed]",
      "text/plain": [
       "<Figure size 432x288 with 1 Axes>"
      ]
     },
     "metadata": {
      "needs_background": "light"
     },
     "output_type": "display_data"
    }
   ],
   "source": [
    "import p6_util_plot\n",
    "p6_util_plot.dict_plot_frequency(freq_body_train, \"Body + Title columns : no verbs\", query=\"2000<Freq<=2500\")"
   ]
  },
  {
   "cell_type": "code",
   "execution_count": 15,
   "metadata": {},
   "outputs": [
    {
     "data": {
      "text/plain": [
       "<Figure size 720x720 with 0 Axes>"
      ]
     },
     "metadata": {},
     "output_type": "display_data"
    },
    {
     "data": {
      "image/png": "[encoded data removed]",
      "text/plain": [
       "<Figure size 432x288 with 1 Axes>"
      ]
     },
     "metadata": {
      "needs_background": "light"
     },
     "output_type": "display_data"
    }
   ],
   "source": [
    "import p6_util_plot\n",
    "p6_util_plot.dict_plot_frequency(freq_body_train, \"Body + Title columns : no verbs\", query=\"2500< Freq <=3500\")"
   ]
  },
  {
   "cell_type": "code",
   "execution_count": 16,
   "metadata": {},
   "outputs": [
    {
     "data": {
      "text/plain": [
       "<Figure size 720x720 with 0 Axes>"
      ]
     },
     "metadata": {},
     "output_type": "display_data"
    },
    {
     "data": {
      "image/png": "[encoded data removed]",
      "text/plain": [
       "<Figure size 432x288 with 1 Axes>"
      ]
     },
     "metadata": {
      "needs_background": "light"
     },
     "output_type": "display_data"
    }
   ],
   "source": [
    "import p6_util_plot\n",
    "p6_util_plot.dict_plot_frequency(freq_body_train, \"Body + Title columns : no verbs\", query=\"3500<Freq\")"
   ]
  },
  {
   "cell_type": "markdown",
   "metadata": {},
   "source": [
    "**Convert ``FreqDist`` as a ``DataFrame`` object and filter frequencies values.**"
   ]
  },
  {
   "cell_type": "code",
   "execution_count": 17,
   "metadata": {},
   "outputs": [
    {
     "data": {
      "text/plain": [
       "(317, 1)"
      ]
     },
     "execution_count": 17,
     "metadata": {},
     "output_type": "execute_result"
    }
   ],
   "source": [
    "import p6_util\n",
    "df_freq_train = p6_util.get_df_from_FreqDist(freq_body_train, query=\"500<Freq\")\n",
    "\n",
    "df_freq_train.shape"
   ]
  }
 ],
 "metadata": {
  "celltoolbar": "Slideshow",
  "kernelspec": {
   "display_name": "Python 3",
   "language": "python",
   "name": "python3"
  },
  "language_info": {
   "codemirror_mode": {
    "name": "ipython",
    "version": 3
   },
   "file_extension": ".py",
   "mimetype": "text/x-python",
   "name": "python",
   "nbconvert_exporter": "python",
   "pygments_lexer": "ipython3",
   "version": "3.7.0"
  }
 },
 "nbformat": 4,
 "nbformat_minor": 2
}
