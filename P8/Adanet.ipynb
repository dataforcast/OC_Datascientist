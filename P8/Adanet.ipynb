{
 "cells": [
  {
   "cell_type": "code",
   "execution_count": 1,
   "metadata": {
    "colab": {},
    "colab_type": "code",
    "id": "jOUQoPfSYUGp"
   },
   "outputs": [],
   "source": [
    "%load_ext autoreload\n",
    "%autoreload 2\n",
    "import adanet"
   ]
  },
  {
   "cell_type": "markdown",
   "metadata": {},
   "source": [
    "#### Fixe global parameters"
   ]
  },
  {
   "cell_type": "code",
   "execution_count": 2,
   "metadata": {
    "colab": {},
    "colab_type": "code",
    "id": "BUkDiPBiM7dy"
   },
   "outputs": [],
   "source": [
    "OUTPUT_DIR = './tmp/adanet'\n",
    "datadir = './data'\n",
    "is_tensorboard = True"
   ]
  },
  {
   "cell_type": "markdown",
   "metadata": {},
   "source": [
    "#### Kill all processes related to tensorboard"
   ]
  },
  {
   "cell_type": "code",
   "execution_count": 3,
   "metadata": {},
   "outputs": [
    {
     "name": "stdout",
     "output_type": "stream",
     "text": [
      "kill: (21424)kill: (21430)"
     ]
    }
   ],
   "source": [
    "# this will kill the processes for Tensorboard\n",
    "if is_tensorboard is True :\n",
    "    !ps aux | grep tensorboard | awk '{print $2}' | xargs kill\n",
    "\n",
    "# this will kill the processes for ngrok\n",
    "if is_tensorboard is True :\n",
    "    !ps aux | grep ngrok | awk '{print $2}' | xargs kill"
   ]
  },
  {
   "cell_type": "markdown",
   "metadata": {},
   "source": [
    "#### Check a NN object candidate sample that will be created from Adanet algorithm."
   ]
  },
  {
   "cell_type": "code",
   "execution_count": 4,
   "metadata": {},
   "outputs": [
    {
     "data": {
      "text/plain": [
       "{'adanet_feature_columns': None,\n",
       " 'adanet_feature_shape': (28, 28),\n",
       " 'adanet_tf_head': None,\n",
       " 'adanet_lambda': 1e-05,\n",
       " 'adanet_is_learn_mixture_weights': True,\n",
       " 'adanet_initial_num_layers': 1,\n",
       " 'adanet_num_layers': None,\n",
       " 'adanet_nn_candidate': 2,\n",
       " 'adanet_output_dir': './tmp/adanet',\n",
       " 'adanet_nn_layer_config': {'nn_type': 'RNN',\n",
       "  'nn_dropout_rate': 0.0,\n",
       "  'nn_batch_norm': True,\n",
       "  'nn_logit_dimension': 10,\n",
       "  'nn_optimizer': <tensorflow.python.training.adam.AdamOptimizer at 0x7f3c26464780>,\n",
       "  'nn_seed': 42,\n",
       "  'nn_initializer_name': 'truncated_normal',\n",
       "  'nn_layer_config': {'rnn_layer_num': 1,\n",
       "   'rnn_hidden_units': 128,\n",
       "   'rnn_timesteps': 28,\n",
       "   'rnn_cell_type': 'SGRU'}}}"
      ]
     },
     "execution_count": 4,
     "metadata": {},
     "output_type": "execute_result"
    }
   ],
   "source": [
    "import p8_util_config\n",
    "p8_util_config.dict_adanet_config"
   ]
  },
  {
   "cell_type": "code",
   "execution_count": 5,
   "metadata": {},
   "outputs": [
    {
     "name": "stderr",
     "output_type": "stream",
     "text": [
      "Using TensorFlow backend.\n"
     ]
    },
    {
     "name": "stdout",
     "output_type": "stream",
     "text": [
      "\n",
      "*** Number of convolutional layers= 2\n",
      "\n",
      "*** NNAdaNetBuilder : NN Type=RNN\n",
      "\n",
      "*** get_tf_head() : feature shape= (28, 28)\n",
      "\n",
      "*** get_tf_head() : feature columns= [NumericColumn(key='images', shape=(28, 28), default_value=None, dtype=tf.float32, normalizer_fn=None)]\n",
      "\n",
      "*** make_config() : output dir= ./tmp/adanet/RNN/SGRU\n",
      "\n",
      "Max steps= 300 / Number of EPOCH=100\n",
      "\n",
      "\n",
      "Global steps  : ................................... 300\n",
      "NN type              : ............................ RNN\n",
      "Features shape       : ............................ (28, 28)\n",
      "Adanet outputdir     : ............................ ./tmp/adanet/RNN\n",
      "Adanet output log    : ............................ ./tmp/adanet/RNN/SGRU\n",
      "Adanet boosting iter.: ............................ 40\n",
      "Adanet iter per boost: ............................ 7\n",
      "Number of layers     : ............................ 2\n",
      "Dropout rate         : ............................ 0.0\n",
      "Seed value           : ............................ 42\n",
      "Nb of classes (logit): ............................ 10\n",
      "Adanet regularization: ............................ 1e-05\n",
      "Weights initializer  : ............................ truncated_normal\n",
      "Batch normalization  : ............................ True\n",
      "Learn mixture weights: ............................ True\n",
      "\n",
      "\n",
      "Cell type            : ............................ SGRU\n",
      "Hidden units         : ............................ 128\n",
      "Stacked cells        : ............................ 2\n",
      "Time steps           : ............................ 28\n"
     ]
    },
    {
     "data": {
      "text/plain": [
       "7"
      ]
     },
     "execution_count": 5,
     "metadata": {},
     "output_type": "execute_result"
    }
   ],
   "source": [
    "import p8_util\n",
    "import p8_util_config\n",
    "\n",
    "oNNAdaNetBuilder = p8_util.create_nn_builder(OUTPUT_DIR, layer_num=2)\n",
    "oNNAdaNetBuilder.show()\n",
    "p8_util_config.ADANET_MAX_ITERATION_STEPS"
   ]
  },
  {
   "cell_type": "markdown",
   "metadata": {},
   "source": [
    "#### Display configuration"
   ]
  },
  {
   "cell_type": "code",
   "execution_count": 6,
   "metadata": {},
   "outputs": [
    {
     "name": "stdout",
     "output_type": "stream",
     "text": [
      "Global steps= 300\n",
      "MAX Adanet steps= 7\n",
      "\n"
     ]
    },
    {
     "data": {
      "text/plain": [
       "{'adanet_feature_columns': None,\n",
       " 'adanet_feature_shape': (28, 28),\n",
       " 'adanet_tf_head': None,\n",
       " 'adanet_lambda': 1e-05,\n",
       " 'adanet_is_learn_mixture_weights': True,\n",
       " 'adanet_initial_num_layers': 1,\n",
       " 'adanet_num_layers': None,\n",
       " 'adanet_nn_candidate': 2,\n",
       " 'adanet_output_dir': './tmp/adanet',\n",
       " 'adanet_nn_layer_config': {'nn_type': 'RNN',\n",
       "  'nn_dropout_rate': 0.0,\n",
       "  'nn_batch_norm': True,\n",
       "  'nn_logit_dimension': 10,\n",
       "  'nn_optimizer': <tensorflow.python.training.adam.AdamOptimizer at 0x7f3c26464780>,\n",
       "  'nn_seed': 42,\n",
       "  'nn_initializer_name': 'truncated_normal',\n",
       "  'nn_layer_config': {'rnn_layer_num': 2,\n",
       "   'rnn_hidden_units': 128,\n",
       "   'rnn_timesteps': 28,\n",
       "   'rnn_cell_type': 'SGRU'}}}"
      ]
     },
     "execution_count": 6,
     "metadata": {},
     "output_type": "execute_result"
    }
   ],
   "source": [
    "import p8_util_config\n",
    "print(\"Global steps= {}\".format(p8_util_config.TRAIN_STEPS))\n",
    "print(\"MAX Adanet steps= {}\".format(p8_util_config.ADANET_MAX_ITERATION_STEPS))\n",
    "print(\"\")\n",
    "p8_util_config.dict_adanet_config\n"
   ]
  },
  {
   "cell_type": "markdown",
   "metadata": {},
   "source": [
    "#### ADANET estimator is built"
   ]
  },
  {
   "cell_type": "code",
   "execution_count": null,
   "metadata": {
    "colab": {
     "base_uri": "https://localhost:8080/",
     "height": 1295
    },
    "colab_type": "code",
    "executionInfo": {
     "elapsed": 2118,
     "status": "error",
     "timestamp": 1554720133634,
     "user": {
      "displayName": "FBT Telecom",
      "photoUrl": "",
      "userId": "01928442219250440173"
     },
     "user_tz": -120
    },
    "id": "_reIMFwIcDKL",
    "outputId": "5db434df-7c87-4eaf-ab11-e3a91c5425a7"
   },
   "outputs": [
    {
     "name": "stdout",
     "output_type": "stream",
     "text": [
      "\n",
      "*** get_tf_head() : feature shape= (28, 28)\n",
      "\n",
      "*** get_tf_head() : feature columns= [NumericColumn(key='images', shape=(28, 28), default_value=None, dtype=tf.float32, normalizer_fn=None)]\n",
      "\n",
      "*** NNGenerator() : feature_columns= [NumericColumn(key='images', shape=(28, 28), default_value=None, dtype=tf.float32, normalizer_fn=None)]\n",
      "*** INFO : MyGenerator : instantiation DONE!\n",
      "\n",
      "*** make_config() : output dir= ./tmp/adanet/SGRU\n",
      "\n",
      "*** get_tf_head() : feature shape= (28, 28)\n",
      "\n",
      "*** get_tf_head() : feature columns= [NumericColumn(key='images', shape=(28, 28), default_value=None, dtype=tf.float32, normalizer_fn=None)]\n",
      "INFO:tensorflow:Using config: {'_model_dir': './tmp/adanet/SGRU', '_tf_random_seed': 42, '_save_summary_steps': 10, '_save_checkpoints_steps': 10, '_save_checkpoints_secs': None, '_session_config': allow_soft_placement: true\n",
      "graph_options {\n",
      "  rewrite_options {\n",
      "    meta_optimizer_iterations: ONE\n",
      "  }\n",
      "}\n",
      ", '_keep_checkpoint_max': 5, '_keep_checkpoint_every_n_hours': 10000, '_log_step_count_steps': 100, '_train_distribute': None, '_device_fn': None, '_protocol': None, '_eval_distribute': None, '_experimental_distribute': None, '_service': None, '_cluster_spec': <tensorflow.python.training.server_lib.ClusterSpec object at 0x7f3c22128f98>, '_task_type': 'worker', '_task_id': 0, '_global_id_in_cluster': 0, '_master': '', '_evaluation_master': '', '_is_chief': True, '_num_ps_replicas': 0, '_num_worker_replicas': 1}\n"
     ]
    },
    {
     "name": "stderr",
     "output_type": "stream",
     "text": [
      "WARNING: Logging before flag parsing goes to stderr.\n",
      "I0522 20:12:04.140020 139898093799232 estimator.py:201] Using config: {'_model_dir': './tmp/adanet/SGRU', '_tf_random_seed': 42, '_save_summary_steps': 10, '_save_checkpoints_steps': 10, '_save_checkpoints_secs': None, '_session_config': allow_soft_placement: true\n",
      "graph_options {\n",
      "  rewrite_options {\n",
      "    meta_optimizer_iterations: ONE\n",
      "  }\n",
      "}\n",
      ", '_keep_checkpoint_max': 5, '_keep_checkpoint_every_n_hours': 10000, '_log_step_count_steps': 100, '_train_distribute': None, '_device_fn': None, '_protocol': None, '_eval_distribute': None, '_experimental_distribute': None, '_service': None, '_cluster_spec': <tensorflow.python.training.server_lib.ClusterSpec object at 0x7f3c22128f98>, '_task_type': 'worker', '_task_id': 0, '_global_id_in_cluster': 0, '_master': '', '_evaluation_master': '', '_is_chief': True, '_num_ps_replicas': 0, '_num_worker_replicas': 1}\n"
     ]
    }
   ],
   "source": [
    "import p8_util_config\n",
    "import NNGenerator\n",
    "\n",
    "subnetwork_generator=NNGenerator.NNGenerator(p8_util_config.dict_adanet_config)\n",
    "adanet_estimator, output_dir_log = p8_util.build_adanet_estimator(subnetwork_generator)"
   ]
  },
  {
   "cell_type": "markdown",
   "metadata": {},
   "source": [
    "#### Train and evaluate ADANET estimator"
   ]
  },
  {
   "cell_type": "code",
   "execution_count": null,
   "metadata": {},
   "outputs": [
    {
     "name": "stdout",
     "output_type": "stream",
     "text": [
      "INFO:tensorflow:Not using Distribute Coordinator.\n"
     ]
    },
    {
     "name": "stderr",
     "output_type": "stream",
     "text": [
      "I0522 20:12:04.192369 139898093799232 estimator_training.py:185] Not using Distribute Coordinator.\n"
     ]
    },
    {
     "name": "stdout",
     "output_type": "stream",
     "text": [
      "INFO:tensorflow:Running training and evaluation locally (non-distributed).\n"
     ]
    },
    {
     "name": "stderr",
     "output_type": "stream",
     "text": [
      "I0522 20:12:04.193676 139898093799232 training.py:610] Running training and evaluation locally (non-distributed).\n"
     ]
    },
    {
     "name": "stdout",
     "output_type": "stream",
     "text": [
      "INFO:tensorflow:Start train and evaluate loop. The evaluate will happen after every checkpoint. Checkpoint frequency is determined based on RunConfig arguments: save_checkpoints_steps 10 or save_checkpoints_secs None.\n"
     ]
    },
    {
     "name": "stderr",
     "output_type": "stream",
     "text": [
      "I0522 20:12:04.195402 139898093799232 training.py:698] Start train and evaluate loop. The evaluate will happen after every checkpoint. Checkpoint frequency is determined based on RunConfig arguments: save_checkpoints_steps 10 or save_checkpoints_secs None.\n"
     ]
    },
    {
     "name": "stdout",
     "output_type": "stream",
     "text": [
      "WARNING:tensorflow:From /home/bangui/anaconda3/lib/python3.6/site-packages/tensorflow/python/framework/op_def_library.py:263: colocate_with (from tensorflow.python.framework.ops) is deprecated and will be removed in a future version.\n",
      "Instructions for updating:\n",
      "Colocations handled automatically by placer.\n"
     ]
    },
    {
     "name": "stderr",
     "output_type": "stream",
     "text": [
      "W0522 20:12:04.204798 139898093799232 deprecation.py:323] From /home/bangui/anaconda3/lib/python3.6/site-packages/tensorflow/python/framework/op_def_library.py:263: colocate_with (from tensorflow.python.framework.ops) is deprecated and will be removed in a future version.\n",
      "Instructions for updating:\n",
      "Colocations handled automatically by placer.\n"
     ]
    },
    {
     "name": "stdout",
     "output_type": "stream",
     "text": [
      "\n",
      "*** input_fn() : feature_shape= (28, 28) / label_shape= [1]\n",
      "WARNING:tensorflow:From /home/bangui/anaconda3/lib/python3.6/site-packages/tensorflow/python/data/ops/dataset_ops.py:429: py_func (from tensorflow.python.ops.script_ops) is deprecated and will be removed in a future version.\n",
      "Instructions for updating:\n",
      "tf.py_func is deprecated in TF V2. Instead, use\n",
      "    tf.py_function, which takes a python function which manipulates tf eager\n",
      "    tensors instead of numpy arrays. It's easy to convert a tf eager tensor to\n",
      "    an ndarray (just call tensor.numpy()) but having access to eager tensors\n",
      "    means `tf.py_function`s can use accelerators such as GPUs as well as\n",
      "    being differentiable using a gradient tape.\n",
      "    \n"
     ]
    },
    {
     "name": "stderr",
     "output_type": "stream",
     "text": [
      "W0522 20:12:04.549394 139898093799232 deprecation.py:323] From /home/bangui/anaconda3/lib/python3.6/site-packages/tensorflow/python/data/ops/dataset_ops.py:429: py_func (from tensorflow.python.ops.script_ops) is deprecated and will be removed in a future version.\n",
      "Instructions for updating:\n",
      "tf.py_func is deprecated in TF V2. Instead, use\n",
      "    tf.py_function, which takes a python function which manipulates tf eager\n",
      "    tensors instead of numpy arrays. It's easy to convert a tf eager tensor to\n",
      "    an ndarray (just call tensor.numpy()) but having access to eager tensors\n",
      "    means `tf.py_function`s can use accelerators such as GPUs as well as\n",
      "    being differentiable using a gradient tape.\n",
      "    \n"
     ]
    },
    {
     "name": "stdout",
     "output_type": "stream",
     "text": [
      "\n",
      "*** preprocess_image() : image shape= (28, 28)\n",
      "\n",
      "*** preprocess_image() : features= {'images': <tf.Tensor 'arg0:0' shape=(28, 28) dtype=float32>} / label shape= ()\n",
      "\n",
      "***_input_fn() : Label shape =[1]\n",
      "INFO:tensorflow:Calling model_fn.\n"
     ]
    },
    {
     "name": "stderr",
     "output_type": "stream",
     "text": [
      "I0522 20:12:04.660515 139898093799232 estimator.py:1111] Calling model_fn.\n"
     ]
    },
    {
     "name": "stdout",
     "output_type": "stream",
     "text": [
      "\n",
      "*** NNAdaNetBuilder : NN Type=RNN\n",
      "\n",
      "*** get_tf_head() : feature shape= (28, 28)\n",
      "\n",
      "*** get_tf_head() : feature columns= [NumericColumn(key='images', shape=(28, 28), default_value=None, dtype=tf.float32, normalizer_fn=None)]\n",
      "\n",
      "*** NNAdaNetBuilder : NN Type=RNN\n",
      "\n",
      "*** get_tf_head() : feature shape= (28, 28)\n",
      "\n",
      "*** get_tf_head() : feature columns= [NumericColumn(key='images', shape=(28, 28), default_value=None, dtype=tf.float32, normalizer_fn=None)]\n",
      "INFO:tensorflow:Building iteration 0\n"
     ]
    },
    {
     "name": "stderr",
     "output_type": "stream",
     "text": [
      "I0522 20:12:04.664344 139898093799232 iteration.py:250] Building iteration 0\n"
     ]
    },
    {
     "name": "stdout",
     "output_type": "stream",
     "text": [
      "INFO:tensorflow:Building subnetwork 'RNN_SGRU_layer_1'\n"
     ]
    },
    {
     "name": "stderr",
     "output_type": "stream",
     "text": [
      "I0522 20:12:04.682715 139898093799232 iteration.py:337] Building subnetwork 'RNN_SGRU_layer_1'\n"
     ]
    },
    {
     "name": "stdout",
     "output_type": "stream",
     "text": [
      "\n",
      "\n",
      "*** build_subnetwork() : features= {'images': <tf.Tensor 'IteratorGetNext:0' shape=(?, 28, 28) dtype=float32>}\n",
      "\n",
      "\n",
      "*** build_subnetwork() : self._feature_columns= [NumericColumn(key='images', shape=(28, 28), default_value=None, dtype=tf.float32, normalizer_fn=None)]\n",
      "WARNING:tensorflow:From /home/bangui/anaconda3/lib/python3.6/site-packages/tensorflow/python/feature_column/feature_column.py:205: NumericColumn._get_dense_tensor (from tensorflow.python.feature_column.feature_column_v2) is deprecated and will be removed after 2018-11-30.\n",
      "Instructions for updating:\n",
      "The old _FeatureColumn APIs are being deprecated. Please use the new FeatureColumn APIs instead.\n"
     ]
    },
    {
     "name": "stderr",
     "output_type": "stream",
     "text": [
      "W0522 20:12:04.690263 139898093799232 deprecation.py:323] From /home/bangui/anaconda3/lib/python3.6/site-packages/tensorflow/python/feature_column/feature_column.py:205: NumericColumn._get_dense_tensor (from tensorflow.python.feature_column.feature_column_v2) is deprecated and will be removed after 2018-11-30.\n",
      "Instructions for updating:\n",
      "The old _FeatureColumn APIs are being deprecated. Please use the new FeatureColumn APIs instead.\n"
     ]
    },
    {
     "name": "stdout",
     "output_type": "stream",
     "text": [
      "WARNING:tensorflow:From /home/bangui/anaconda3/lib/python3.6/site-packages/tensorflow/python/feature_column/feature_column.py:2121: NumericColumn._transform_feature (from tensorflow.python.feature_column.feature_column_v2) is deprecated and will be removed after 2018-11-30.\n",
      "Instructions for updating:\n",
      "The old _FeatureColumn APIs are being deprecated. Please use the new FeatureColumn APIs instead.\n"
     ]
    },
    {
     "name": "stderr",
     "output_type": "stream",
     "text": [
      "W0522 20:12:04.691840 139898093799232 deprecation.py:323] From /home/bangui/anaconda3/lib/python3.6/site-packages/tensorflow/python/feature_column/feature_column.py:2121: NumericColumn._transform_feature (from tensorflow.python.feature_column.feature_column_v2) is deprecated and will be removed after 2018-11-30.\n",
      "Instructions for updating:\n",
      "The old _FeatureColumn APIs are being deprecated. Please use the new FeatureColumn APIs instead.\n"
     ]
    },
    {
     "name": "stdout",
     "output_type": "stream",
     "text": [
      "WARNING:tensorflow:From /home/bangui/anaconda3/lib/python3.6/site-packages/tensorflow/python/feature_column/feature_column_v2.py:2703: to_float (from tensorflow.python.ops.math_ops) is deprecated and will be removed in a future version.\n",
      "Instructions for updating:\n",
      "Use tf.cast instead.\n"
     ]
    },
    {
     "name": "stderr",
     "output_type": "stream",
     "text": [
      "W0522 20:12:04.694361 139898093799232 deprecation.py:323] From /home/bangui/anaconda3/lib/python3.6/site-packages/tensorflow/python/feature_column/feature_column_v2.py:2703: to_float (from tensorflow.python.ops.math_ops) is deprecated and will be removed in a future version.\n",
      "Instructions for updating:\n",
      "Use tf.cast instead.\n"
     ]
    },
    {
     "name": "stdout",
     "output_type": "stream",
     "text": [
      "WARNING:tensorflow:From /home/bangui/anaconda3/lib/python3.6/site-packages/tensorflow/python/feature_column/feature_column.py:206: NumericColumn._variable_shape (from tensorflow.python.feature_column.feature_column_v2) is deprecated and will be removed after 2018-11-30.\n",
      "Instructions for updating:\n",
      "The old _FeatureColumn APIs are being deprecated. Please use the new FeatureColumn APIs instead.\n"
     ]
    },
    {
     "name": "stderr",
     "output_type": "stream",
     "text": [
      "W0522 20:12:04.696032 139898093799232 deprecation.py:323] From /home/bangui/anaconda3/lib/python3.6/site-packages/tensorflow/python/feature_column/feature_column.py:206: NumericColumn._variable_shape (from tensorflow.python.feature_column.feature_column_v2) is deprecated and will be removed after 2018-11-30.\n",
      "Instructions for updating:\n",
      "The old _FeatureColumn APIs are being deprecated. Please use the new FeatureColumn APIs instead.\n"
     ]
    },
    {
     "name": "stdout",
     "output_type": "stream",
     "text": [
      "\n",
      "\n",
      "*** build_subnetwork() : NN type= RNN / Input layer shape= (?, 784)\n",
      "WARNING:tensorflow:From /home/bangui/Dropbox/Perso/Formation/openclassrooms/OC_Datascientist/P8/NNAdaNetBuilder.py:530: GRUCell.__init__ (from tensorflow.python.ops.rnn_cell_impl) is deprecated and will be removed in a future version.\n",
      "Instructions for updating:\n",
      "This class is equivalent as tf.keras.layers.GRUCell, and will be replaced by that in Tensorflow 2.0.\n"
     ]
    },
    {
     "name": "stderr",
     "output_type": "stream",
     "text": [
      "W0522 20:12:04.758251 139898093799232 deprecation.py:323] From /home/bangui/Dropbox/Perso/Formation/openclassrooms/OC_Datascientist/P8/NNAdaNetBuilder.py:530: GRUCell.__init__ (from tensorflow.python.ops.rnn_cell_impl) is deprecated and will be removed in a future version.\n",
      "Instructions for updating:\n",
      "This class is equivalent as tf.keras.layers.GRUCell, and will be replaced by that in Tensorflow 2.0.\n"
     ]
    },
    {
     "name": "stdout",
     "output_type": "stream",
     "text": [
      "WARNING:tensorflow:From /home/bangui/Dropbox/Perso/Formation/openclassrooms/OC_Datascientist/P8/NNAdaNetBuilder.py:531: MultiRNNCell.__init__ (from tensorflow.python.ops.rnn_cell_impl) is deprecated and will be removed in a future version.\n",
      "Instructions for updating:\n",
      "This class is equivalent as tf.keras.layers.StackedRNNCells, and will be replaced by that in Tensorflow 2.0.\n"
     ]
    },
    {
     "name": "stderr",
     "output_type": "stream",
     "text": [
      "W0522 20:12:04.762009 139898093799232 deprecation.py:323] From /home/bangui/Dropbox/Perso/Formation/openclassrooms/OC_Datascientist/P8/NNAdaNetBuilder.py:531: MultiRNNCell.__init__ (from tensorflow.python.ops.rnn_cell_impl) is deprecated and will be removed in a future version.\n",
      "Instructions for updating:\n",
      "This class is equivalent as tf.keras.layers.StackedRNNCells, and will be replaced by that in Tensorflow 2.0.\n"
     ]
    },
    {
     "name": "stdout",
     "output_type": "stream",
     "text": [
      "WARNING:tensorflow:From /home/bangui/Dropbox/Perso/Formation/openclassrooms/OC_Datascientist/P8/NNAdaNetBuilder.py:566: static_rnn (from tensorflow.python.ops.rnn) is deprecated and will be removed in a future version.\n",
      "Instructions for updating:\n",
      "Please use `keras.layers.RNN(cell, unroll=True)`, which is equivalent to this API\n"
     ]
    },
    {
     "name": "stderr",
     "output_type": "stream",
     "text": [
      "W0522 20:12:04.764710 139898093799232 deprecation.py:323] From /home/bangui/Dropbox/Perso/Formation/openclassrooms/OC_Datascientist/P8/NNAdaNetBuilder.py:566: static_rnn (from tensorflow.python.ops.rnn) is deprecated and will be removed in a future version.\n",
      "Instructions for updating:\n",
      "Please use `keras.layers.RNN(cell, unroll=True)`, which is equivalent to this API\n"
     ]
    },
    {
     "name": "stdout",
     "output_type": "stream",
     "text": [
      "\n",
      "*** _build_rnn_subnetwork() : output[-1]= Tensor(\"adanet/iteration_0/subnetwork_t0_RNN_SGRU_layer_1/rnn/rnn/multi_rnn_cell/cell_0/gru_cell/add_27:0\", shape=(?, 128), dtype=float32) / Weight= <tf.Variable 'adanet/iteration_0/subnetwork_t0_RNN_SGRU_layer_1/W:0' shape=(128, 10) dtype=float32_ref>\n",
      "WARNING:tensorflow:From /home/bangui/Dropbox/Perso/Formation/openclassrooms/OC_Datascientist/P8/NNAdaNetBuilder.py:574: dense (from tensorflow.python.layers.core) is deprecated and will be removed in a future version.\n",
      "Instructions for updating:\n",
      "Use keras.layers.dense instead.\n"
     ]
    },
    {
     "name": "stderr",
     "output_type": "stream",
     "text": [
      "W0522 20:12:05.210233 139898093799232 deprecation.py:323] From /home/bangui/Dropbox/Perso/Formation/openclassrooms/OC_Datascientist/P8/NNAdaNetBuilder.py:574: dense (from tensorflow.python.layers.core) is deprecated and will be removed in a future version.\n",
      "Instructions for updating:\n",
      "Use keras.layers.dense instead.\n"
     ]
    },
    {
     "name": "stdout",
     "output_type": "stream",
     "text": [
      "\n",
      "***build_subnetwork() / RNN : logits shape= (?, 10)\n",
      "\n",
      "*** build_subnetwork() : last_layer= Tensor(\"adanet/iteration_0/subnetwork_t0_RNN_SGRU_layer_1/dense/BiasAdd:0\", shape=(?, 128), dtype=float32)\n",
      "INFO:tensorflow:Building subnetwork 'RNN_SGRU_layer_2'\n"
     ]
    },
    {
     "name": "stderr",
     "output_type": "stream",
     "text": [
      "I0522 20:12:06.836878 139898093799232 iteration.py:337] Building subnetwork 'RNN_SGRU_layer_2'\n"
     ]
    },
    {
     "name": "stdout",
     "output_type": "stream",
     "text": [
      "\n",
      "\n",
      "*** build_subnetwork() : features= {'images': <tf.Tensor 'IteratorGetNext:0' shape=(?, 28, 28) dtype=float32>}\n",
      "\n",
      "\n",
      "*** build_subnetwork() : self._feature_columns= [NumericColumn(key='images', shape=(28, 28), default_value=None, dtype=tf.float32, normalizer_fn=None)]\n",
      "\n",
      "\n",
      "*** build_subnetwork() : NN type= RNN / Input layer shape= (?, 784)\n",
      "\n",
      "*** _build_rnn_subnetwork() : output[-1]= Tensor(\"adanet/iteration_0/subnetwork_t0_RNN_SGRU_layer_2/rnn/rnn/multi_rnn_cell/cell_1/gru_cell/add_27:0\", shape=(?, 128), dtype=float32) / Weight= <tf.Variable 'adanet/iteration_0/subnetwork_t0_RNN_SGRU_layer_2/W:0' shape=(128, 10) dtype=float32_ref>\n",
      "\n",
      "***build_subnetwork() / RNN : logits shape= (?, 10)\n",
      "\n",
      "*** build_subnetwork() : last_layer= Tensor(\"adanet/iteration_0/subnetwork_t0_RNN_SGRU_layer_2/dense/BiasAdd:0\", shape=(?, 128), dtype=float32)\n",
      "INFO:tensorflow:*** _build_weighted_subnetwork_helper() : MixtureWeightType= vector\n"
     ]
    },
    {
     "name": "stderr",
     "output_type": "stream",
     "text": [
      "I0522 20:12:10.469974 139898093799232 weighted.py:391] *** _build_weighted_subnetwork_helper() : MixtureWeightType= vector\n"
     ]
    },
    {
     "name": "stdout",
     "output_type": "stream",
     "text": [
      "WARNING:tensorflow:The `build_mixture_weights_train_op` method is deprecated. Please use the `Ensembler#build_train_op` instead.\n"
     ]
    },
    {
     "name": "stderr",
     "output_type": "stream",
     "text": [
      "W0522 20:12:10.546406 139898093799232 tf_logging.py:161] The `build_mixture_weights_train_op` method is deprecated. Please use the `Ensembler#build_train_op` instead.\n"
     ]
    },
    {
     "name": "stdout",
     "output_type": "stream",
     "text": [
      "INFO:tensorflow:*** _build_weighted_subnetwork_helper() : MixtureWeightType= vector\n"
     ]
    },
    {
     "name": "stderr",
     "output_type": "stream",
     "text": [
      "I0522 20:12:10.672976 139898093799232 weighted.py:391] *** _build_weighted_subnetwork_helper() : MixtureWeightType= vector\n"
     ]
    },
    {
     "name": "stdout",
     "output_type": "stream",
     "text": [
      "WARNING:tensorflow:The `build_mixture_weights_train_op` method is deprecated. Please use the `Ensembler#build_train_op` instead.\n"
     ]
    },
    {
     "name": "stderr",
     "output_type": "stream",
     "text": [
      "W0522 20:12:10.760577 139898093799232 tf_logging.py:161] The `build_mixture_weights_train_op` method is deprecated. Please use the `Ensembler#build_train_op` instead.\n"
     ]
    },
    {
     "name": "stdout",
     "output_type": "stream",
     "text": [
      "INFO:tensorflow:Done calling model_fn.\n"
     ]
    },
    {
     "name": "stderr",
     "output_type": "stream",
     "text": [
      "I0522 20:12:10.935234 139898093799232 estimator.py:1113] Done calling model_fn.\n"
     ]
    },
    {
     "name": "stdout",
     "output_type": "stream",
     "text": [
      "INFO:tensorflow:Create CheckpointSaverHook.\n"
     ]
    },
    {
     "name": "stderr",
     "output_type": "stream",
     "text": [
      "I0522 20:12:10.936136 139898093799232 basic_session_run_hooks.py:527] Create CheckpointSaverHook.\n"
     ]
    },
    {
     "name": "stdout",
     "output_type": "stream",
     "text": [
      "INFO:tensorflow:Graph was finalized.\n"
     ]
    },
    {
     "name": "stderr",
     "output_type": "stream",
     "text": [
      "I0522 20:12:14.335451 139898093799232 monitored_session.py:222] Graph was finalized.\n"
     ]
    },
    {
     "name": "stdout",
     "output_type": "stream",
     "text": [
      "INFO:tensorflow:Running local_init_op.\n"
     ]
    },
    {
     "name": "stderr",
     "output_type": "stream",
     "text": [
      "I0522 20:12:14.768140 139898093799232 session_manager.py:491] Running local_init_op.\n"
     ]
    },
    {
     "name": "stdout",
     "output_type": "stream",
     "text": [
      "INFO:tensorflow:Done running local_init_op.\n"
     ]
    },
    {
     "name": "stderr",
     "output_type": "stream",
     "text": [
      "I0522 20:12:14.863889 139898093799232 session_manager.py:493] Done running local_init_op.\n"
     ]
    },
    {
     "name": "stdout",
     "output_type": "stream",
     "text": [
      "INFO:tensorflow:Saving checkpoints for 0 into ./tmp/adanet/SGRU/model.ckpt.\n"
     ]
    },
    {
     "name": "stderr",
     "output_type": "stream",
     "text": [
      "I0522 20:12:18.172822 139898093799232 basic_session_run_hooks.py:594] Saving checkpoints for 0 into ./tmp/adanet/SGRU/model.ckpt.\n"
     ]
    },
    {
     "name": "stdout",
     "output_type": "stream",
     "text": [
      "INFO:tensorflow:loss = 2.3033805, step = 1\n"
     ]
    },
    {
     "name": "stderr",
     "output_type": "stream",
     "text": [
      "I0522 20:12:22.083304 139898093799232 basic_session_run_hooks.py:249] loss = 2.3033805, step = 1\n"
     ]
    },
    {
     "name": "stdout",
     "output_type": "stream",
     "text": [
      "INFO:tensorflow:Saving checkpoints for 7 into ./tmp/adanet/SGRU/model.ckpt.\n"
     ]
    },
    {
     "name": "stderr",
     "output_type": "stream",
     "text": [
      "I0522 20:12:25.559711 139898093799232 basic_session_run_hooks.py:594] Saving checkpoints for 7 into ./tmp/adanet/SGRU/model.ckpt.\n"
     ]
    },
    {
     "name": "stdout",
     "output_type": "stream",
     "text": [
      "\n",
      "*** input_fn() : feature_shape= (28, 28) / label_shape= [1]\n",
      "\n",
      "*** input_fn : TEST / feature_shape= (28, 28)\n",
      "\n",
      "*** preprocess_image() : image shape= (28, 28)\n",
      "\n",
      "*** preprocess_image() : features= {'images': <tf.Tensor 'arg0:0' shape=(28, 28) dtype=float32>} / label shape= ()\n",
      "\n",
      "***_input_fn() : Label shape =[1]\n",
      "INFO:tensorflow:Calling model_fn.\n"
     ]
    },
    {
     "name": "stderr",
     "output_type": "stream",
     "text": [
      "I0522 20:12:26.201528 139898093799232 estimator.py:1111] Calling model_fn.\n"
     ]
    },
    {
     "name": "stdout",
     "output_type": "stream",
     "text": [
      "\n",
      "*** NNAdaNetBuilder : NN Type=RNN\n",
      "\n",
      "*** get_tf_head() : feature shape= (28, 28)\n",
      "\n",
      "*** get_tf_head() : feature columns= [NumericColumn(key='images', shape=(28, 28), default_value=None, dtype=tf.float32, normalizer_fn=None)]\n",
      "\n",
      "*** NNAdaNetBuilder : NN Type=RNN\n",
      "\n",
      "*** get_tf_head() : feature shape= (28, 28)\n",
      "\n",
      "*** get_tf_head() : feature columns= [NumericColumn(key='images', shape=(28, 28), default_value=None, dtype=tf.float32, normalizer_fn=None)]\n",
      "INFO:tensorflow:Building iteration 0\n"
     ]
    },
    {
     "name": "stderr",
     "output_type": "stream",
     "text": [
      "I0522 20:12:26.206462 139898093799232 iteration.py:250] Building iteration 0\n"
     ]
    },
    {
     "name": "stdout",
     "output_type": "stream",
     "text": [
      "INFO:tensorflow:Building subnetwork 'RNN_SGRU_layer_1'\n"
     ]
    },
    {
     "name": "stderr",
     "output_type": "stream",
     "text": [
      "I0522 20:12:26.214010 139898093799232 iteration.py:337] Building subnetwork 'RNN_SGRU_layer_1'\n"
     ]
    },
    {
     "name": "stdout",
     "output_type": "stream",
     "text": [
      "\n",
      "\n",
      "*** build_subnetwork() : features= {'images': <tf.Tensor 'IteratorGetNext:0' shape=(?, 28, 28) dtype=float32>}\n",
      "\n",
      "\n",
      "*** build_subnetwork() : self._feature_columns= [NumericColumn(key='images', shape=(28, 28), default_value=None, dtype=tf.float32, normalizer_fn=None)]\n",
      "\n",
      "\n",
      "*** build_subnetwork() : NN type= RNN / Input layer shape= (?, 784)\n",
      "\n",
      "*** _build_rnn_subnetwork() : output[-1]= Tensor(\"adanet/iteration_0/subnetwork_t0_RNN_SGRU_layer_1/rnn/rnn/multi_rnn_cell/cell_0/gru_cell/add_27:0\", shape=(?, 128), dtype=float32) / Weight= <tf.Variable 'adanet/iteration_0/subnetwork_t0_RNN_SGRU_layer_1/W:0' shape=(128, 10) dtype=float32_ref>\n",
      "\n",
      "***build_subnetwork() / RNN : logits shape= (?, 10)\n",
      "\n",
      "*** build_subnetwork() : last_layer= Tensor(\"adanet/iteration_0/subnetwork_t0_RNN_SGRU_layer_1/dense/BiasAdd:0\", shape=(?, 128), dtype=float32)\n",
      "INFO:tensorflow:Building subnetwork 'RNN_SGRU_layer_2'\n"
     ]
    },
    {
     "name": "stderr",
     "output_type": "stream",
     "text": [
      "I0522 20:12:26.641596 139898093799232 iteration.py:337] Building subnetwork 'RNN_SGRU_layer_2'\n"
     ]
    },
    {
     "name": "stdout",
     "output_type": "stream",
     "text": [
      "\n",
      "\n",
      "*** build_subnetwork() : features= {'images': <tf.Tensor 'IteratorGetNext:0' shape=(?, 28, 28) dtype=float32>}\n",
      "\n",
      "\n",
      "*** build_subnetwork() : self._feature_columns= [NumericColumn(key='images', shape=(28, 28), default_value=None, dtype=tf.float32, normalizer_fn=None)]\n",
      "\n",
      "\n",
      "*** build_subnetwork() : NN type= RNN / Input layer shape= (?, 784)\n",
      "\n",
      "*** _build_rnn_subnetwork() : output[-1]= Tensor(\"adanet/iteration_0/subnetwork_t0_RNN_SGRU_layer_2/rnn/rnn/multi_rnn_cell/cell_1/gru_cell/add_27:0\", shape=(?, 128), dtype=float32) / Weight= <tf.Variable 'adanet/iteration_0/subnetwork_t0_RNN_SGRU_layer_2/W:0' shape=(128, 10) dtype=float32_ref>\n",
      "\n",
      "***build_subnetwork() / RNN : logits shape= (?, 10)\n",
      "\n",
      "*** build_subnetwork() : last_layer= Tensor(\"adanet/iteration_0/subnetwork_t0_RNN_SGRU_layer_2/dense/BiasAdd:0\", shape=(?, 128), dtype=float32)\n",
      "INFO:tensorflow:*** _build_weighted_subnetwork_helper() : MixtureWeightType= vector\n"
     ]
    },
    {
     "name": "stderr",
     "output_type": "stream",
     "text": [
      "I0522 20:12:27.478445 139898093799232 weighted.py:391] *** _build_weighted_subnetwork_helper() : MixtureWeightType= vector\n"
     ]
    },
    {
     "name": "stdout",
     "output_type": "stream",
     "text": [
      "INFO:tensorflow:*** _build_weighted_subnetwork_helper() : MixtureWeightType= vector\n"
     ]
    },
    {
     "name": "stderr",
     "output_type": "stream",
     "text": [
      "I0522 20:12:27.620349 139898093799232 weighted.py:391] *** _build_weighted_subnetwork_helper() : MixtureWeightType= vector\n"
     ]
    },
    {
     "name": "stdout",
     "output_type": "stream",
     "text": [
      "INFO:tensorflow:Done calling model_fn.\n"
     ]
    },
    {
     "name": "stderr",
     "output_type": "stream",
     "text": [
      "I0522 20:12:27.862568 139898093799232 estimator.py:1113] Done calling model_fn.\n"
     ]
    },
    {
     "name": "stdout",
     "output_type": "stream",
     "text": [
      "INFO:tensorflow:Starting evaluation at 2019-05-22T18:12:27Z\n"
     ]
    },
    {
     "name": "stderr",
     "output_type": "stream",
     "text": [
      "I0522 20:12:27.893866 139898093799232 evaluation.py:257] Starting evaluation at 2019-05-22T18:12:27Z\n"
     ]
    },
    {
     "name": "stdout",
     "output_type": "stream",
     "text": [
      "INFO:tensorflow:Graph was finalized.\n"
     ]
    },
    {
     "name": "stderr",
     "output_type": "stream",
     "text": [
      "I0522 20:12:28.107626 139898093799232 monitored_session.py:222] Graph was finalized.\n"
     ]
    },
    {
     "name": "stdout",
     "output_type": "stream",
     "text": [
      "WARNING:tensorflow:From /home/bangui/anaconda3/lib/python3.6/site-packages/tensorflow/python/training/saver.py:1266: checkpoint_exists (from tensorflow.python.training.checkpoint_management) is deprecated and will be removed in a future version.\n",
      "Instructions for updating:\n",
      "Use standard file APIs to check for files with this prefix.\n"
     ]
    },
    {
     "name": "stderr",
     "output_type": "stream",
     "text": [
      "W0522 20:12:28.108896 139898093799232 deprecation.py:323] From /home/bangui/anaconda3/lib/python3.6/site-packages/tensorflow/python/training/saver.py:1266: checkpoint_exists (from tensorflow.python.training.checkpoint_management) is deprecated and will be removed in a future version.\n",
      "Instructions for updating:\n",
      "Use standard file APIs to check for files with this prefix.\n"
     ]
    },
    {
     "name": "stdout",
     "output_type": "stream",
     "text": [
      "INFO:tensorflow:Restoring parameters from ./tmp/adanet/SGRU/model.ckpt-7\n"
     ]
    },
    {
     "name": "stderr",
     "output_type": "stream",
     "text": [
      "I0522 20:12:28.113334 139898093799232 saver.py:1270] Restoring parameters from ./tmp/adanet/SGRU/model.ckpt-7\n"
     ]
    },
    {
     "name": "stdout",
     "output_type": "stream",
     "text": [
      "INFO:tensorflow:Running local_init_op.\n"
     ]
    },
    {
     "name": "stderr",
     "output_type": "stream",
     "text": [
      "I0522 20:12:28.249841 139898093799232 session_manager.py:491] Running local_init_op.\n"
     ]
    },
    {
     "name": "stdout",
     "output_type": "stream",
     "text": [
      "INFO:tensorflow:Done running local_init_op.\n"
     ]
    },
    {
     "name": "stderr",
     "output_type": "stream",
     "text": [
      "I0522 20:12:28.320017 139898093799232 session_manager.py:493] Done running local_init_op.\n"
     ]
    },
    {
     "name": "stdout",
     "output_type": "stream",
     "text": [
      "\n",
      "*** generator() : labels shape= (10000,) / label values= 0\n",
      "INFO:tensorflow:Finished evaluation at 2019-05-22-18:12:31\n"
     ]
    },
    {
     "name": "stderr",
     "output_type": "stream",
     "text": [
      "I0522 20:12:31.243126 139898093799232 evaluation.py:277] Finished evaluation at 2019-05-22-18:12:31\n"
     ]
    },
    {
     "name": "stdout",
     "output_type": "stream",
     "text": [
      "INFO:tensorflow:Saving dict for global step 7: accuracy = 0.3562, average_loss = 2.2139304, global_step = 7, loss = 2.2137594\n"
     ]
    },
    {
     "name": "stderr",
     "output_type": "stream",
     "text": [
      "I0522 20:12:31.244067 139898093799232 estimator.py:1979] Saving dict for global step 7: accuracy = 0.3562, average_loss = 2.2139304, global_step = 7, loss = 2.2137594\n"
     ]
    },
    {
     "name": "stdout",
     "output_type": "stream",
     "text": [
      "INFO:tensorflow:Saving 'checkpoint_path' summary for global step 7: ./tmp/adanet/SGRU/model.ckpt-7\n"
     ]
    },
    {
     "name": "stderr",
     "output_type": "stream",
     "text": [
      "I0522 20:12:31.455278 139898093799232 estimator.py:2039] Saving 'checkpoint_path' summary for global step 7: ./tmp/adanet/SGRU/model.ckpt-7\n"
     ]
    },
    {
     "name": "stdout",
     "output_type": "stream",
     "text": [
      "INFO:tensorflow:Loss for final step: 2.2381625.\n"
     ]
    },
    {
     "name": "stderr",
     "output_type": "stream",
     "text": [
      "I0522 20:12:31.559324 139898093799232 estimator.py:359] Loss for final step: 2.2381625.\n"
     ]
    },
    {
     "name": "stdout",
     "output_type": "stream",
     "text": [
      "\n",
      "*** input_fn() : feature_shape= (28, 28) / label_shape= [1]\n",
      "\n",
      "*** preprocess_image() : image shape= (28, 28)\n",
      "\n",
      "*** preprocess_image() : features= {'images': <tf.Tensor 'arg0:0' shape=(28, 28) dtype=float32>} / label shape= ()\n",
      "\n",
      "***_input_fn() : Label shape =[1]\n",
      "INFO:tensorflow:Calling model_fn.\n"
     ]
    },
    {
     "name": "stderr",
     "output_type": "stream",
     "text": [
      "I0522 20:12:31.838189 139898093799232 estimator.py:1111] Calling model_fn.\n"
     ]
    },
    {
     "name": "stdout",
     "output_type": "stream",
     "text": [
      "\n",
      "*** NNAdaNetBuilder : NN Type=RNN\n",
      "\n",
      "*** get_tf_head() : feature shape= (28, 28)\n",
      "\n",
      "*** get_tf_head() : feature columns= [NumericColumn(key='images', shape=(28, 28), default_value=None, dtype=tf.float32, normalizer_fn=None)]\n",
      "\n",
      "*** NNAdaNetBuilder : NN Type=RNN\n",
      "\n",
      "*** get_tf_head() : feature shape= (28, 28)\n",
      "\n",
      "*** get_tf_head() : feature columns= [NumericColumn(key='images', shape=(28, 28), default_value=None, dtype=tf.float32, normalizer_fn=None)]\n",
      "INFO:tensorflow:Building iteration 0\n"
     ]
    },
    {
     "name": "stderr",
     "output_type": "stream",
     "text": [
      "I0522 20:12:31.842360 139898093799232 iteration.py:250] Building iteration 0\n"
     ]
    },
    {
     "name": "stdout",
     "output_type": "stream",
     "text": [
      "INFO:tensorflow:Building subnetwork 'RNN_SGRU_layer_1'\n"
     ]
    },
    {
     "name": "stderr",
     "output_type": "stream",
     "text": [
      "I0522 20:12:31.848186 139898093799232 iteration.py:337] Building subnetwork 'RNN_SGRU_layer_1'\n"
     ]
    },
    {
     "name": "stdout",
     "output_type": "stream",
     "text": [
      "\n",
      "\n",
      "*** build_subnetwork() : features= {'images': <tf.Tensor 'IteratorGetNext:0' shape=(?, 28, 28) dtype=float32>}\n",
      "\n",
      "\n",
      "*** build_subnetwork() : self._feature_columns= [NumericColumn(key='images', shape=(28, 28), default_value=None, dtype=tf.float32, normalizer_fn=None)]\n",
      "\n",
      "\n",
      "*** build_subnetwork() : NN type= RNN / Input layer shape= (?, 784)\n",
      "\n",
      "*** _build_rnn_subnetwork() : output[-1]= Tensor(\"adanet/iteration_0/subnetwork_t0_RNN_SGRU_layer_1/rnn/rnn/multi_rnn_cell/cell_0/gru_cell/add_27:0\", shape=(?, 128), dtype=float32) / Weight= <tf.Variable 'adanet/iteration_0/subnetwork_t0_RNN_SGRU_layer_1/W:0' shape=(128, 10) dtype=float32_ref>\n",
      "\n",
      "***build_subnetwork() / RNN : logits shape= (?, 10)\n",
      "\n",
      "*** build_subnetwork() : last_layer= Tensor(\"adanet/iteration_0/subnetwork_t0_RNN_SGRU_layer_1/dense/BiasAdd:0\", shape=(?, 128), dtype=float32)\n",
      "INFO:tensorflow:Building subnetwork 'RNN_SGRU_layer_2'\n"
     ]
    },
    {
     "name": "stderr",
     "output_type": "stream",
     "text": [
      "I0522 20:12:32.251492 139898093799232 iteration.py:337] Building subnetwork 'RNN_SGRU_layer_2'\n"
     ]
    },
    {
     "name": "stdout",
     "output_type": "stream",
     "text": [
      "\n",
      "\n",
      "*** build_subnetwork() : features= {'images': <tf.Tensor 'IteratorGetNext:0' shape=(?, 28, 28) dtype=float32>}\n",
      "\n",
      "\n",
      "*** build_subnetwork() : self._feature_columns= [NumericColumn(key='images', shape=(28, 28), default_value=None, dtype=tf.float32, normalizer_fn=None)]\n",
      "\n",
      "\n",
      "*** build_subnetwork() : NN type= RNN / Input layer shape= (?, 784)\n",
      "\n",
      "*** _build_rnn_subnetwork() : output[-1]= Tensor(\"adanet/iteration_0/subnetwork_t0_RNN_SGRU_layer_2/rnn/rnn/multi_rnn_cell/cell_1/gru_cell/add_27:0\", shape=(?, 128), dtype=float32) / Weight= <tf.Variable 'adanet/iteration_0/subnetwork_t0_RNN_SGRU_layer_2/W:0' shape=(128, 10) dtype=float32_ref>\n",
      "\n",
      "***build_subnetwork() / RNN : logits shape= (?, 10)\n",
      "\n",
      "*** build_subnetwork() : last_layer= Tensor(\"adanet/iteration_0/subnetwork_t0_RNN_SGRU_layer_2/dense/BiasAdd:0\", shape=(?, 128), dtype=float32)\n",
      "INFO:tensorflow:*** _build_weighted_subnetwork_helper() : MixtureWeightType= vector\n"
     ]
    },
    {
     "name": "stderr",
     "output_type": "stream",
     "text": [
      "I0522 20:12:32.952240 139898093799232 weighted.py:391] *** _build_weighted_subnetwork_helper() : MixtureWeightType= vector\n"
     ]
    },
    {
     "name": "stdout",
     "output_type": "stream",
     "text": [
      "INFO:tensorflow:*** _build_weighted_subnetwork_helper() : MixtureWeightType= vector\n"
     ]
    },
    {
     "name": "stderr",
     "output_type": "stream",
     "text": [
      "I0522 20:12:33.084077 139898093799232 weighted.py:391] *** _build_weighted_subnetwork_helper() : MixtureWeightType= vector\n"
     ]
    },
    {
     "name": "stdout",
     "output_type": "stream",
     "text": [
      "INFO:tensorflow:Restoring parameters from ./tmp/adanet/SGRU/model.ckpt-7\n"
     ]
    },
    {
     "name": "stderr",
     "output_type": "stream",
     "text": [
      "I0522 20:12:33.749495 139898093799232 saver.py:1270] Restoring parameters from ./tmp/adanet/SGRU/model.ckpt-7\n"
     ]
    },
    {
     "name": "stdout",
     "output_type": "stream",
     "text": [
      "WARNING:tensorflow:From /home/bangui/anaconda3/lib/python3.6/site-packages/adanet/core/estimator.py:919: start_queue_runners (from tensorflow.python.training.queue_runner_impl) is deprecated and will be removed in a future version.\n",
      "Instructions for updating:\n",
      "To construct input pipelines, use the `tf.data` module.\n"
     ]
    },
    {
     "name": "stderr",
     "output_type": "stream",
     "text": [
      "W0522 20:12:33.831907 139898093799232 deprecation.py:323] From /home/bangui/anaconda3/lib/python3.6/site-packages/adanet/core/estimator.py:919: start_queue_runners (from tensorflow.python.training.queue_runner_impl) is deprecated and will be removed in a future version.\n",
      "Instructions for updating:\n",
      "To construct input pipelines, use the `tf.data` module.\n"
     ]
    },
    {
     "name": "stdout",
     "output_type": "stream",
     "text": [
      "WARNING:tensorflow:`tf.train.start_queue_runners()` was called when no queue runners were defined. You can safely remove the call to this deprecated function.\n"
     ]
    },
    {
     "name": "stderr",
     "output_type": "stream",
     "text": [
      "W0522 20:12:33.832841 139898093799232 queue_runner_impl.py:471] `tf.train.start_queue_runners()` was called when no queue runners were defined. You can safely remove the call to this deprecated function.\n"
     ]
    },
    {
     "name": "stdout",
     "output_type": "stream",
     "text": [
      "\n",
      "*** generator() : labels shape= (55000,) / label values= 3\n",
      "\n",
      "*** generator() : labels shape= (55000,) / label values= 3\n",
      "\n",
      "*** generator() : labels shape= (55000,) / label values= 3\n",
      "\n",
      "*** generator() : labels shape= (55000,) / label values= 3\n",
      "\n",
      "*** generator() : labels shape= (55000,) / label values= 3\n",
      "\n",
      "*** generator() : labels shape= (55000,) / label values= 3\n",
      "\n",
      "*** generator() : labels shape= (55000,) / label values= 3\n",
      "\n",
      "*** generator() : labels shape= (55000,) / label values= 3\n",
      "\n",
      "*** generator() : labels shape= (55000,) / label values= 3\n",
      "\n",
      "*** generator() : labels shape= (55000,) / label values= 3\n",
      "\n",
      "*** generator() : labels shape= (55000,) / label values= 3\n",
      "\n",
      "*** generator() : labels shape= (55000,) / label values= 3\n",
      "\n",
      "*** generator() : labels shape= (55000,) / label values= 3\n",
      "\n",
      "*** generator() : labels shape= (55000,) / label values= 3\n",
      "\n",
      "*** generator() : labels shape= (55000,) / label values= 3\n",
      "\n",
      "*** generator() : labels shape= (55000,) / label values= 3\n",
      "\n",
      "*** generator() : labels shape= (55000,) / label values= 3\n",
      "\n",
      "*** generator() : labels shape= (55000,) / label values= 3\n",
      "\n",
      "*** generator() : labels shape= (55000,) / label values= 3\n",
      "\n",
      "*** generator() : labels shape= (55000,) / label values= 3\n",
      "\n",
      "*** generator() : labels shape= (55000,) / label values= 3\n",
      "\n",
      "*** generator() : labels shape= (55000,) / label values= 3\n",
      "\n",
      "*** generator() : labels shape= (55000,) / label values= 3\n",
      "\n",
      "*** generator() : labels shape= (55000,) / label values= 3\n",
      "\n",
      "*** generator() : labels shape= (55000,) / label values= 3\n",
      "\n",
      "*** generator() : labels shape= (55000,) / label values= 3\n",
      "\n",
      "*** generator() : labels shape= (55000,) / label values= 3\n",
      "\n",
      "*** generator() : labels shape= (55000,) / label values= 3\n",
      "\n",
      "*** generator() : labels shape= (55000,) / label values= 3\n",
      "\n",
      "*** generator() : labels shape= (55000,) / label values= 3\n",
      "\n",
      "*** generator() : labels shape= (55000,) / label values= 3\n",
      "\n",
      "*** generator() : labels shape= (55000,) / label values= 3\n",
      "\n",
      "*** generator() : labels shape= (55000,) / label values= 3\n",
      "\n",
      "*** generator() : labels shape= (55000,) / label values= 3\n",
      "\n",
      "*** generator() : labels shape= (55000,) / label values= 3\n",
      "\n",
      "*** generator() : labels shape= (55000,) / label values= 3\n",
      "\n",
      "*** generator() : labels shape= (55000,) / label values= 3\n",
      "\n",
      "*** generator() : labels shape= (55000,) / label values= 3\n",
      "\n",
      "*** generator() : labels shape= (55000,) / label values= 3\n",
      "\n",
      "*** generator() : labels shape= (55000,) / label values= 3\n",
      "\n",
      "*** generator() : labels shape= (55000,) / label values= 3\n",
      "\n",
      "*** generator() : labels shape= (55000,) / label values= 3\n",
      "\n",
      "*** generator() : labels shape= (55000,) / label values= 3\n",
      "\n",
      "*** generator() : labels shape= (55000,) / label values= 3\n",
      "\n",
      "*** generator() : labels shape= (55000,) / label values= 3\n",
      "\n",
      "*** generator() : labels shape= (55000,) / label values= 3\n",
      "\n",
      "*** generator() : labels shape= (55000,) / label values= 3\n",
      "\n",
      "*** generator() : labels shape= (55000,) / label values= 3\n",
      "\n",
      "*** generator() : labels shape= (55000,) / label values= 3\n",
      "\n",
      "*** generator() : labels shape= (55000,) / label values= 3\n",
      "\n",
      "*** generator() : labels shape= (55000,) / label values= 3\n",
      "\n",
      "*** generator() : labels shape= (55000,) / label values= 3\n",
      "\n",
      "*** generator() : labels shape= (55000,) / label values= 3\n",
      "\n",
      "*** generator() : labels shape= (55000,) / label values= 3\n",
      "\n",
      "*** generator() : labels shape= (55000,) / label values= 3\n",
      "\n",
      "*** generator() : labels shape= (55000,) / label values= 3\n",
      "\n",
      "*** generator() : labels shape= (55000,) / label values= 3\n",
      "\n",
      "*** generator() : labels shape= (55000,) / label values= 3\n",
      "\n",
      "*** generator() : labels shape= (55000,) / label values= 3\n",
      "\n",
      "*** generator() : labels shape= (55000,) / label values= 3\n",
      "\n",
      "*** generator() : labels shape= (55000,) / label values= 3\n",
      "\n",
      "*** generator() : labels shape= (55000,) / label values= 3\n",
      "\n",
      "*** generator() : labels shape= (55000,) / label values= 3\n",
      "\n",
      "*** generator() : labels shape= (55000,) / label values= 3\n",
      "\n",
      "*** generator() : labels shape= (55000,) / label values= 3\n",
      "\n",
      "*** generator() : labels shape= (55000,) / label values= 3\n",
      "\n",
      "*** generator() : labels shape= (55000,) / label values= 3\n",
      "\n",
      "*** generator() : labels shape= (55000,) / label values= 3\n",
      "\n",
      "*** generator() : labels shape= (55000,) / label values= 3\n",
      "\n",
      "*** generator() : labels shape= (55000,) / label values= 3\n",
      "\n",
      "*** generator() : labels shape= (55000,) / label values= 3\n",
      "\n",
      "*** generator() : labels shape= (55000,) / label values= 3\n",
      "\n",
      "*** generator() : labels shape= (55000,) / label values= 3\n",
      "\n",
      "*** generator() : labels shape= (55000,) / label values= 3\n",
      "\n",
      "*** generator() : labels shape= (55000,) / label values= 3\n",
      "\n",
      "*** generator() : labels shape= (55000,) / label values= 3\n",
      "\n",
      "*** generator() : labels shape= (55000,) / label values= 3\n",
      "\n",
      "*** generator() : labels shape= (55000,) / label values= 3\n",
      "\n",
      "*** generator() : labels shape= (55000,) / label values= 3\n",
      "\n",
      "*** generator() : labels shape= (55000,) / label values= 3\n",
      "\n",
      "*** generator() : labels shape= (55000,) / label values= 3\n",
      "\n",
      "*** generator() : labels shape= (55000,) / label values= 3\n",
      "\n",
      "*** generator() : labels shape= (55000,) / label values= 3\n",
      "\n",
      "*** generator() : labels shape= (55000,) / label values= 3\n",
      "\n",
      "*** generator() : labels shape= (55000,) / label values= 3\n",
      "\n",
      "*** generator() : labels shape= (55000,) / label values= 3\n",
      "\n",
      "*** generator() : labels shape= (55000,) / label values= 3\n",
      "\n",
      "*** generator() : labels shape= (55000,) / label values= 3\n",
      "\n",
      "*** generator() : labels shape= (55000,) / label values= 3\n",
      "\n",
      "*** generator() : labels shape= (55000,) / label values= 3\n",
      "\n",
      "*** generator() : labels shape= (55000,) / label values= 3\n",
      "\n",
      "*** generator() : labels shape= (55000,) / label values= 3\n",
      "\n",
      "*** generator() : labels shape= (55000,) / label values= 3\n",
      "\n",
      "*** generator() : labels shape= (55000,) / label values= 3\n",
      "\n",
      "*** generator() : labels shape= (55000,) / label values= 3\n",
      "\n",
      "*** generator() : labels shape= (55000,) / label values= 3\n",
      "\n",
      "*** generator() : labels shape= (55000,) / label values= 3\n",
      "\n",
      "*** generator() : labels shape= (55000,) / label values= 3\n",
      "\n",
      "*** generator() : labels shape= (55000,) / label values= 3\n",
      "\n",
      "*** generator() : labels shape= (55000,) / label values= 3\n",
      "INFO:tensorflow:Done calling model_fn.\n"
     ]
    },
    {
     "name": "stderr",
     "output_type": "stream",
     "text": [
      "I0522 20:32:41.837282 139898093799232 estimator.py:1113] Done calling model_fn.\n"
     ]
    },
    {
     "name": "stdout",
     "output_type": "stream",
     "text": [
      "INFO:tensorflow:Using config: {'_model_dir': './tmp/adanet/SGRU/temp_model_dir', '_tf_random_seed': 42, '_save_summary_steps': 100, '_save_checkpoints_steps': None, '_save_checkpoints_secs': 600, '_session_config': allow_soft_placement: true\n",
      "graph_options {\n",
      "  rewrite_options {\n",
      "    meta_optimizer_iterations: ONE\n",
      "  }\n",
      "}\n",
      ", '_keep_checkpoint_max': 5, '_keep_checkpoint_every_n_hours': 10000, '_log_step_count_steps': 100, '_train_distribute': None, '_device_fn': None, '_protocol': None, '_eval_distribute': None, '_experimental_distribute': None, '_service': None, '_cluster_spec': <tensorflow.python.training.server_lib.ClusterSpec object at 0x7f3b99bf1860>, '_task_type': 'worker', '_task_id': 0, '_global_id_in_cluster': 0, '_master': '', '_evaluation_master': '', '_is_chief': True, '_num_ps_replicas': 0, '_num_worker_replicas': 1}\n"
     ]
    },
    {
     "name": "stderr",
     "output_type": "stream",
     "text": [
      "I0522 20:32:41.838521 139898093799232 estimator.py:201] Using config: {'_model_dir': './tmp/adanet/SGRU/temp_model_dir', '_tf_random_seed': 42, '_save_summary_steps': 100, '_save_checkpoints_steps': None, '_save_checkpoints_secs': 600, '_session_config': allow_soft_placement: true\n",
      "graph_options {\n",
      "  rewrite_options {\n",
      "    meta_optimizer_iterations: ONE\n",
      "  }\n",
      "}\n",
      ", '_keep_checkpoint_max': 5, '_keep_checkpoint_every_n_hours': 10000, '_log_step_count_steps': 100, '_train_distribute': None, '_device_fn': None, '_protocol': None, '_eval_distribute': None, '_experimental_distribute': None, '_service': None, '_cluster_spec': <tensorflow.python.training.server_lib.ClusterSpec object at 0x7f3b99bf1860>, '_task_type': 'worker', '_task_id': 0, '_global_id_in_cluster': 0, '_master': '', '_evaluation_master': '', '_is_chief': True, '_num_ps_replicas': 0, '_num_worker_replicas': 1}\n"
     ]
    },
    {
     "name": "stdout",
     "output_type": "stream",
     "text": [
      "\n",
      "*** input_fn() : feature_shape= (28, 28) / label_shape= [1]\n",
      "\n",
      "*** preprocess_image() : image shape= (28, 28)\n",
      "\n",
      "*** preprocess_image() : features= {'images': <tf.Tensor 'arg0:0' shape=(28, 28) dtype=float32>} / label shape= ()\n",
      "\n",
      "***_input_fn() : Label shape =[1]\n",
      "INFO:tensorflow:Calling model_fn.\n"
     ]
    },
    {
     "name": "stderr",
     "output_type": "stream",
     "text": [
      "I0522 20:32:42.117768 139898093799232 estimator.py:1111] Calling model_fn.\n"
     ]
    },
    {
     "name": "stdout",
     "output_type": "stream",
     "text": [
      "\n",
      "*** NNAdaNetBuilder : NN Type=RNN\n",
      "\n",
      "*** get_tf_head() : feature shape= (28, 28)\n",
      "\n",
      "*** get_tf_head() : feature columns= [NumericColumn(key='images', shape=(28, 28), default_value=None, dtype=tf.float32, normalizer_fn=None)]\n",
      "\n",
      "*** NNAdaNetBuilder : NN Type=RNN\n",
      "\n",
      "*** get_tf_head() : feature shape= (28, 28)\n",
      "\n",
      "*** get_tf_head() : feature columns= [NumericColumn(key='images', shape=(28, 28), default_value=None, dtype=tf.float32, normalizer_fn=None)]\n",
      "INFO:tensorflow:Rebuilding iteration 0\n"
     ]
    },
    {
     "name": "stderr",
     "output_type": "stream",
     "text": [
      "I0522 20:32:42.121339 139898093799232 iteration.py:250] Rebuilding iteration 0\n"
     ]
    },
    {
     "name": "stdout",
     "output_type": "stream",
     "text": [
      "INFO:tensorflow:Rebuilding subnetwork 'RNN_SGRU_layer_2'\n"
     ]
    },
    {
     "name": "stderr",
     "output_type": "stream",
     "text": [
      "I0522 20:32:42.127218 139898093799232 iteration.py:337] Rebuilding subnetwork 'RNN_SGRU_layer_2'\n"
     ]
    },
    {
     "name": "stdout",
     "output_type": "stream",
     "text": [
      "\n",
      "\n",
      "*** build_subnetwork() : features= {'images': <tf.Tensor 'IteratorGetNext:0' shape=(?, 28, 28) dtype=float32>}\n",
      "\n",
      "\n",
      "*** build_subnetwork() : self._feature_columns= [NumericColumn(key='images', shape=(28, 28), default_value=None, dtype=tf.float32, normalizer_fn=None)]\n",
      "\n",
      "\n",
      "*** build_subnetwork() : NN type= RNN / Input layer shape= (?, 784)\n",
      "\n",
      "*** _build_rnn_subnetwork() : output[-1]= Tensor(\"adanet/iteration_0/subnetwork_t0_RNN_SGRU_layer_2/rnn/rnn/multi_rnn_cell/cell_1/gru_cell/add_27:0\", shape=(?, 128), dtype=float32) / Weight= <tf.Variable 'adanet/iteration_0/subnetwork_t0_RNN_SGRU_layer_2/W:0' shape=(128, 10) dtype=float32_ref>\n",
      "\n",
      "***build_subnetwork() / RNN : logits shape= (?, 10)\n",
      "\n",
      "*** build_subnetwork() : last_layer= Tensor(\"adanet/iteration_0/subnetwork_t0_RNN_SGRU_layer_2/dense/BiasAdd:0\", shape=(?, 128), dtype=float32)\n",
      "INFO:tensorflow:*** _build_weighted_subnetwork_helper() : MixtureWeightType= vector\n"
     ]
    },
    {
     "name": "stderr",
     "output_type": "stream",
     "text": [
      "I0522 20:32:42.737541 139898093799232 weighted.py:391] *** _build_weighted_subnetwork_helper() : MixtureWeightType= vector\n"
     ]
    },
    {
     "name": "stdout",
     "output_type": "stream",
     "text": [
      "\n",
      "*** NNAdaNetBuilder : NN Type=RNN\n",
      "\n",
      "*** get_tf_head() : feature shape= (28, 28)\n",
      "\n",
      "*** get_tf_head() : feature columns= [NumericColumn(key='images', shape=(28, 28), default_value=None, dtype=tf.float32, normalizer_fn=None)]\n",
      "\n",
      "*** NNAdaNetBuilder : NN Type=RNN\n",
      "\n",
      "*** get_tf_head() : feature shape= (28, 28)\n",
      "\n",
      "*** get_tf_head() : feature columns= [NumericColumn(key='images', shape=(28, 28), default_value=None, dtype=tf.float32, normalizer_fn=None)]\n",
      "INFO:tensorflow:Building iteration 1\n"
     ]
    },
    {
     "name": "stderr",
     "output_type": "stream",
     "text": [
      "I0522 20:32:42.855793 139898093799232 iteration.py:250] Building iteration 1\n"
     ]
    },
    {
     "name": "stdout",
     "output_type": "stream",
     "text": [
      "INFO:tensorflow:Building subnetwork 'RNN_SGRU_layer_2'\n"
     ]
    },
    {
     "name": "stderr",
     "output_type": "stream",
     "text": [
      "I0522 20:32:42.878719 139898093799232 iteration.py:337] Building subnetwork 'RNN_SGRU_layer_2'\n"
     ]
    },
    {
     "name": "stdout",
     "output_type": "stream",
     "text": [
      "\n",
      "\n",
      "*** build_subnetwork() : features= {'images': <tf.Tensor 'IteratorGetNext:0' shape=(?, 28, 28) dtype=float32>}\n",
      "\n",
      "\n",
      "*** build_subnetwork() : self._feature_columns= [NumericColumn(key='images', shape=(28, 28), default_value=None, dtype=tf.float32, normalizer_fn=None)]\n",
      "\n",
      "\n",
      "*** build_subnetwork() : NN type= RNN / Input layer shape= (?, 784)\n",
      "\n",
      "*** _build_rnn_subnetwork() : output[-1]= Tensor(\"adanet/iteration_1/subnetwork_t1_RNN_SGRU_layer_2/rnn/rnn/multi_rnn_cell/cell_1/gru_cell/add_27:0\", shape=(?, 128), dtype=float32) / Weight= <tf.Variable 'adanet/iteration_1/subnetwork_t1_RNN_SGRU_layer_2/W:0' shape=(128, 10) dtype=float32_ref>\n",
      "\n",
      "***build_subnetwork() / RNN : logits shape= (?, 10)\n",
      "\n",
      "*** build_subnetwork() : last_layer= Tensor(\"adanet/iteration_1/subnetwork_t1_RNN_SGRU_layer_2/dense/BiasAdd:0\", shape=(?, 128), dtype=float32)\n",
      "INFO:tensorflow:Building subnetwork 'RNN_SGRU_layer_3'\n"
     ]
    },
    {
     "name": "stderr",
     "output_type": "stream",
     "text": [
      "I0522 20:32:46.427470 139898093799232 iteration.py:337] Building subnetwork 'RNN_SGRU_layer_3'\n"
     ]
    },
    {
     "name": "stdout",
     "output_type": "stream",
     "text": [
      "\n",
      "\n",
      "*** build_subnetwork() : features= {'images': <tf.Tensor 'IteratorGetNext:0' shape=(?, 28, 28) dtype=float32>}\n",
      "\n",
      "\n",
      "*** build_subnetwork() : self._feature_columns= [NumericColumn(key='images', shape=(28, 28), default_value=None, dtype=tf.float32, normalizer_fn=None)]\n",
      "\n",
      "\n",
      "*** build_subnetwork() : NN type= RNN / Input layer shape= (?, 784)\n",
      "\n",
      "*** _build_rnn_subnetwork() : output[-1]= Tensor(\"adanet/iteration_1/subnetwork_t1_RNN_SGRU_layer_3/rnn/rnn/multi_rnn_cell/cell_2/gru_cell/add_27:0\", shape=(?, 128), dtype=float32) / Weight= <tf.Variable 'adanet/iteration_1/subnetwork_t1_RNN_SGRU_layer_3/W:0' shape=(128, 10) dtype=float32_ref>\n",
      "\n",
      "***build_subnetwork() / RNN : logits shape= (?, 10)\n",
      "\n",
      "*** build_subnetwork() : last_layer= Tensor(\"adanet/iteration_1/subnetwork_t1_RNN_SGRU_layer_3/dense/BiasAdd:0\", shape=(?, 128), dtype=float32)\n",
      "WARNING:tensorflow:Using an `adanet.subnetwork.Builder#prune_previous_ensemble` is deprecated. Please use a custom `adanet.ensemble.Strategy` instead.\n"
     ]
    },
    {
     "name": "stderr",
     "output_type": "stream",
     "text": [
      "W0522 20:32:52.106817 139898093799232 tf_logging.py:161] Using an `adanet.subnetwork.Builder#prune_previous_ensemble` is deprecated. Please use a custom `adanet.ensemble.Strategy` instead.\n"
     ]
    },
    {
     "name": "stdout",
     "output_type": "stream",
     "text": [
      "INFO:tensorflow:*** _build_weighted_subnetwork_helper() : MixtureWeightType= vector\n"
     ]
    },
    {
     "name": "stderr",
     "output_type": "stream",
     "text": [
      "I0522 20:32:52.110849 139898093799232 weighted.py:391] *** _build_weighted_subnetwork_helper() : MixtureWeightType= vector\n"
     ]
    },
    {
     "name": "stdout",
     "output_type": "stream",
     "text": [
      "INFO:tensorflow:*** _build_weighted_subnetwork_helper() : MixtureWeightType= vector\n"
     ]
    },
    {
     "name": "stderr",
     "output_type": "stream",
     "text": [
      "I0522 20:32:52.118181 139898093799232 weighted.py:391] *** _build_weighted_subnetwork_helper() : MixtureWeightType= vector\n"
     ]
    },
    {
     "name": "stdout",
     "output_type": "stream",
     "text": [
      "WARNING:tensorflow:The `build_mixture_weights_train_op` method is deprecated. Please use the `Ensembler#build_train_op` instead.\n"
     ]
    },
    {
     "name": "stderr",
     "output_type": "stream",
     "text": [
      "W0522 20:32:52.198441 139898093799232 tf_logging.py:161] The `build_mixture_weights_train_op` method is deprecated. Please use the `Ensembler#build_train_op` instead.\n"
     ]
    },
    {
     "name": "stdout",
     "output_type": "stream",
     "text": [
      "WARNING:tensorflow:Using an `adanet.subnetwork.Builder#prune_previous_ensemble` is deprecated. Please use a custom `adanet.ensemble.Strategy` instead.\n"
     ]
    },
    {
     "name": "stderr",
     "output_type": "stream",
     "text": [
      "W0522 20:32:52.315529 139898093799232 tf_logging.py:161] Using an `adanet.subnetwork.Builder#prune_previous_ensemble` is deprecated. Please use a custom `adanet.ensemble.Strategy` instead.\n"
     ]
    },
    {
     "name": "stdout",
     "output_type": "stream",
     "text": [
      "INFO:tensorflow:*** _build_weighted_subnetwork_helper() : MixtureWeightType= vector\n"
     ]
    },
    {
     "name": "stderr",
     "output_type": "stream",
     "text": [
      "I0522 20:32:52.319875 139898093799232 weighted.py:391] *** _build_weighted_subnetwork_helper() : MixtureWeightType= vector\n"
     ]
    },
    {
     "name": "stdout",
     "output_type": "stream",
     "text": [
      "INFO:tensorflow:*** _build_weighted_subnetwork_helper() : MixtureWeightType= vector\n"
     ]
    },
    {
     "name": "stderr",
     "output_type": "stream",
     "text": [
      "I0522 20:32:52.326668 139898093799232 weighted.py:391] *** _build_weighted_subnetwork_helper() : MixtureWeightType= vector\n"
     ]
    },
    {
     "name": "stdout",
     "output_type": "stream",
     "text": [
      "WARNING:tensorflow:The `build_mixture_weights_train_op` method is deprecated. Please use the `Ensembler#build_train_op` instead.\n"
     ]
    },
    {
     "name": "stderr",
     "output_type": "stream",
     "text": [
      "W0522 20:32:52.392163 139898093799232 tf_logging.py:161] The `build_mixture_weights_train_op` method is deprecated. Please use the `Ensembler#build_train_op` instead.\n"
     ]
    },
    {
     "name": "stdout",
     "output_type": "stream",
     "text": [
      "INFO:tensorflow:Done calling model_fn.\n"
     ]
    },
    {
     "name": "stderr",
     "output_type": "stream",
     "text": [
      "I0522 20:32:52.548975 139898093799232 estimator.py:1113] Done calling model_fn.\n"
     ]
    },
    {
     "name": "stdout",
     "output_type": "stream",
     "text": [
      "INFO:tensorflow:Create CheckpointSaverHook.\n"
     ]
    },
    {
     "name": "stderr",
     "output_type": "stream",
     "text": [
      "I0522 20:32:52.550507 139898093799232 basic_session_run_hooks.py:527] Create CheckpointSaverHook.\n"
     ]
    },
    {
     "name": "stdout",
     "output_type": "stream",
     "text": [
      "WARNING:tensorflow:From /home/bangui/anaconda3/lib/python3.6/site-packages/tensorflow/python/training/saver.py:1070: get_checkpoint_mtimes (from tensorflow.python.training.checkpoint_management) is deprecated and will be removed in a future version.\n",
      "Instructions for updating:\n",
      "Use standard file utilities to get mtimes.\n"
     ]
    },
    {
     "name": "stderr",
     "output_type": "stream",
     "text": [
      "W0522 20:32:58.805193 139898093799232 deprecation.py:323] From /home/bangui/anaconda3/lib/python3.6/site-packages/tensorflow/python/training/saver.py:1070: get_checkpoint_mtimes (from tensorflow.python.training.checkpoint_management) is deprecated and will be removed in a future version.\n",
      "Instructions for updating:\n",
      "Use standard file utilities to get mtimes.\n"
     ]
    },
    {
     "name": "stdout",
     "output_type": "stream",
     "text": [
      "INFO:tensorflow:Graph was finalized.\n"
     ]
    },
    {
     "name": "stderr",
     "output_type": "stream",
     "text": [
      "I0522 20:32:59.053545 139898093799232 monitored_session.py:222] Graph was finalized.\n"
     ]
    },
    {
     "name": "stdout",
     "output_type": "stream",
     "text": [
      "INFO:tensorflow:Running local_init_op.\n"
     ]
    },
    {
     "name": "stderr",
     "output_type": "stream",
     "text": [
      "I0522 20:32:59.736478 139898093799232 session_manager.py:491] Running local_init_op.\n"
     ]
    },
    {
     "name": "stdout",
     "output_type": "stream",
     "text": [
      "INFO:tensorflow:Done running local_init_op.\n"
     ]
    },
    {
     "name": "stderr",
     "output_type": "stream",
     "text": [
      "I0522 20:32:59.893735 139898093799232 session_manager.py:493] Done running local_init_op.\n"
     ]
    },
    {
     "name": "stdout",
     "output_type": "stream",
     "text": [
      "INFO:tensorflow:Saving checkpoints for 0 into ./tmp/adanet/SGRU/temp_model_dir/model.ckpt.\n"
     ]
    },
    {
     "name": "stderr",
     "output_type": "stream",
     "text": [
      "I0522 20:33:05.463264 139898093799232 basic_session_run_hooks.py:594] Saving checkpoints for 0 into ./tmp/adanet/SGRU/temp_model_dir/model.ckpt.\n"
     ]
    },
    {
     "name": "stdout",
     "output_type": "stream",
     "text": [
      "INFO:tensorflow:Restoring parameters from ./tmp/adanet/SGRU/model.ckpt-7\n"
     ]
    },
    {
     "name": "stderr",
     "output_type": "stream",
     "text": [
      "I0522 20:33:06.496150 139898093799232 saver.py:1270] Restoring parameters from ./tmp/adanet/SGRU/model.ckpt-7\n"
     ]
    },
    {
     "name": "stdout",
     "output_type": "stream",
     "text": [
      "INFO:tensorflow:loss = 2.1788023, step = 8\n"
     ]
    },
    {
     "name": "stderr",
     "output_type": "stream",
     "text": [
      "I0522 20:33:08.899070 139898093799232 basic_session_run_hooks.py:249] loss = 2.1788023, step = 8\n"
     ]
    },
    {
     "name": "stdout",
     "output_type": "stream",
     "text": [
      "INFO:tensorflow:Saving checkpoints for 8 into ./tmp/adanet/SGRU/temp_model_dir/model.ckpt.\n"
     ]
    },
    {
     "name": "stderr",
     "output_type": "stream",
     "text": [
      "I0522 20:33:08.901581 139898093799232 basic_session_run_hooks.py:594] Saving checkpoints for 8 into ./tmp/adanet/SGRU/temp_model_dir/model.ckpt.\n"
     ]
    },
    {
     "name": "stdout",
     "output_type": "stream",
     "text": [
      "INFO:tensorflow:Loss for final step: 2.1788023.\n"
     ]
    },
    {
     "name": "stderr",
     "output_type": "stream",
     "text": [
      "I0522 20:33:09.690322 139898093799232 estimator.py:359] Loss for final step: 2.1788023.\n"
     ]
    },
    {
     "name": "stdout",
     "output_type": "stream",
     "text": [
      "\n",
      "*** input_fn() : feature_shape= (28, 28) / label_shape= [1]\n",
      "\n",
      "*** preprocess_image() : image shape= (28, 28)\n",
      "\n",
      "*** preprocess_image() : features= {'images': <tf.Tensor 'arg0:0' shape=(28, 28) dtype=float32>} / label shape= ()\n",
      "\n",
      "***_input_fn() : Label shape =[1]\n",
      "INFO:tensorflow:Calling model_fn.\n"
     ]
    },
    {
     "name": "stderr",
     "output_type": "stream",
     "text": [
      "I0522 20:33:09.942533 139898093799232 estimator.py:1111] Calling model_fn.\n"
     ]
    },
    {
     "name": "stdout",
     "output_type": "stream",
     "text": [
      "\n",
      "*** NNAdaNetBuilder : NN Type=RNN\n",
      "\n",
      "*** get_tf_head() : feature shape= (28, 28)\n",
      "\n",
      "*** get_tf_head() : feature columns= [NumericColumn(key='images', shape=(28, 28), default_value=None, dtype=tf.float32, normalizer_fn=None)]\n",
      "\n",
      "*** NNAdaNetBuilder : NN Type=RNN\n",
      "\n",
      "*** get_tf_head() : feature shape= (28, 28)\n",
      "\n",
      "*** get_tf_head() : feature columns= [NumericColumn(key='images', shape=(28, 28), default_value=None, dtype=tf.float32, normalizer_fn=None)]\n",
      "INFO:tensorflow:Rebuilding iteration 0\n"
     ]
    },
    {
     "name": "stderr",
     "output_type": "stream",
     "text": [
      "I0522 20:33:09.949596 139898093799232 iteration.py:250] Rebuilding iteration 0\n"
     ]
    },
    {
     "name": "stdout",
     "output_type": "stream",
     "text": [
      "INFO:tensorflow:Rebuilding subnetwork 'RNN_SGRU_layer_2'\n"
     ]
    },
    {
     "name": "stderr",
     "output_type": "stream",
     "text": [
      "I0522 20:33:09.958701 139898093799232 iteration.py:337] Rebuilding subnetwork 'RNN_SGRU_layer_2'\n"
     ]
    },
    {
     "name": "stdout",
     "output_type": "stream",
     "text": [
      "\n",
      "\n",
      "*** build_subnetwork() : features= {'images': <tf.Tensor 'IteratorGetNext:0' shape=(?, 28, 28) dtype=float32>}\n",
      "\n",
      "\n",
      "*** build_subnetwork() : self._feature_columns= [NumericColumn(key='images', shape=(28, 28), default_value=None, dtype=tf.float32, normalizer_fn=None)]\n",
      "\n",
      "\n",
      "*** build_subnetwork() : NN type= RNN / Input layer shape= (?, 784)\n",
      "\n",
      "*** _build_rnn_subnetwork() : output[-1]= Tensor(\"adanet/iteration_0/subnetwork_t0_RNN_SGRU_layer_2/rnn/rnn/multi_rnn_cell/cell_1/gru_cell/add_27:0\", shape=(?, 128), dtype=float32) / Weight= <tf.Variable 'adanet/iteration_0/subnetwork_t0_RNN_SGRU_layer_2/W:0' shape=(128, 10) dtype=float32_ref>\n",
      "\n",
      "***build_subnetwork() / RNN : logits shape= (?, 10)\n",
      "\n",
      "*** build_subnetwork() : last_layer= Tensor(\"adanet/iteration_0/subnetwork_t0_RNN_SGRU_layer_2/dense/BiasAdd:0\", shape=(?, 128), dtype=float32)\n",
      "INFO:tensorflow:*** _build_weighted_subnetwork_helper() : MixtureWeightType= vector\n"
     ]
    },
    {
     "name": "stderr",
     "output_type": "stream",
     "text": [
      "I0522 20:33:10.613670 139898093799232 weighted.py:391] *** _build_weighted_subnetwork_helper() : MixtureWeightType= vector\n"
     ]
    },
    {
     "name": "stdout",
     "output_type": "stream",
     "text": [
      "\n",
      "*** NNAdaNetBuilder : NN Type=RNN\n",
      "\n",
      "*** get_tf_head() : feature shape= (28, 28)\n",
      "\n",
      "*** get_tf_head() : feature columns= [NumericColumn(key='images', shape=(28, 28), default_value=None, dtype=tf.float32, normalizer_fn=None)]\n",
      "\n",
      "*** NNAdaNetBuilder : NN Type=RNN\n",
      "\n",
      "*** get_tf_head() : feature shape= (28, 28)\n",
      "\n",
      "*** get_tf_head() : feature columns= [NumericColumn(key='images', shape=(28, 28), default_value=None, dtype=tf.float32, normalizer_fn=None)]\n",
      "INFO:tensorflow:Building iteration 1\n"
     ]
    },
    {
     "name": "stderr",
     "output_type": "stream",
     "text": [
      "I0522 20:33:10.736615 139898093799232 iteration.py:250] Building iteration 1\n"
     ]
    },
    {
     "name": "stdout",
     "output_type": "stream",
     "text": [
      "INFO:tensorflow:Building subnetwork 'RNN_SGRU_layer_2'\n"
     ]
    },
    {
     "name": "stderr",
     "output_type": "stream",
     "text": [
      "I0522 20:33:10.758720 139898093799232 iteration.py:337] Building subnetwork 'RNN_SGRU_layer_2'\n"
     ]
    },
    {
     "name": "stdout",
     "output_type": "stream",
     "text": [
      "\n",
      "\n",
      "*** build_subnetwork() : features= {'images': <tf.Tensor 'IteratorGetNext:0' shape=(?, 28, 28) dtype=float32>}\n",
      "\n",
      "\n",
      "*** build_subnetwork() : self._feature_columns= [NumericColumn(key='images', shape=(28, 28), default_value=None, dtype=tf.float32, normalizer_fn=None)]\n",
      "\n",
      "\n",
      "*** build_subnetwork() : NN type= RNN / Input layer shape= (?, 784)\n",
      "\n",
      "*** _build_rnn_subnetwork() : output[-1]= Tensor(\"adanet/iteration_1/subnetwork_t1_RNN_SGRU_layer_2/rnn/rnn/multi_rnn_cell/cell_1/gru_cell/add_27:0\", shape=(?, 128), dtype=float32) / Weight= <tf.Variable 'adanet/iteration_1/subnetwork_t1_RNN_SGRU_layer_2/W:0' shape=(128, 10) dtype=float32_ref>\n",
      "\n",
      "***build_subnetwork() / RNN : logits shape= (?, 10)\n",
      "\n",
      "*** build_subnetwork() : last_layer= Tensor(\"adanet/iteration_1/subnetwork_t1_RNN_SGRU_layer_2/dense/BiasAdd:0\", shape=(?, 128), dtype=float32)\n",
      "INFO:tensorflow:Building subnetwork 'RNN_SGRU_layer_3'\n"
     ]
    },
    {
     "name": "stderr",
     "output_type": "stream",
     "text": [
      "I0522 20:33:14.744852 139898093799232 iteration.py:337] Building subnetwork 'RNN_SGRU_layer_3'\n"
     ]
    },
    {
     "name": "stdout",
     "output_type": "stream",
     "text": [
      "\n",
      "\n",
      "*** build_subnetwork() : features= {'images': <tf.Tensor 'IteratorGetNext:0' shape=(?, 28, 28) dtype=float32>}\n",
      "\n",
      "\n",
      "*** build_subnetwork() : self._feature_columns= [NumericColumn(key='images', shape=(28, 28), default_value=None, dtype=tf.float32, normalizer_fn=None)]\n",
      "\n",
      "\n",
      "*** build_subnetwork() : NN type= RNN / Input layer shape= (?, 784)\n",
      "\n",
      "*** _build_rnn_subnetwork() : output[-1]= Tensor(\"adanet/iteration_1/subnetwork_t1_RNN_SGRU_layer_3/rnn/rnn/multi_rnn_cell/cell_2/gru_cell/add_27:0\", shape=(?, 128), dtype=float32) / Weight= <tf.Variable 'adanet/iteration_1/subnetwork_t1_RNN_SGRU_layer_3/W:0' shape=(128, 10) dtype=float32_ref>\n",
      "\n",
      "***build_subnetwork() / RNN : logits shape= (?, 10)\n",
      "\n",
      "*** build_subnetwork() : last_layer= Tensor(\"adanet/iteration_1/subnetwork_t1_RNN_SGRU_layer_3/dense/BiasAdd:0\", shape=(?, 128), dtype=float32)\n",
      "WARNING:tensorflow:Using an `adanet.subnetwork.Builder#prune_previous_ensemble` is deprecated. Please use a custom `adanet.ensemble.Strategy` instead.\n"
     ]
    },
    {
     "name": "stderr",
     "output_type": "stream",
     "text": [
      "W0522 20:33:20.453758 139898093799232 tf_logging.py:161] Using an `adanet.subnetwork.Builder#prune_previous_ensemble` is deprecated. Please use a custom `adanet.ensemble.Strategy` instead.\n"
     ]
    },
    {
     "name": "stdout",
     "output_type": "stream",
     "text": [
      "INFO:tensorflow:*** _build_weighted_subnetwork_helper() : MixtureWeightType= vector\n"
     ]
    },
    {
     "name": "stderr",
     "output_type": "stream",
     "text": [
      "I0522 20:33:20.459206 139898093799232 weighted.py:391] *** _build_weighted_subnetwork_helper() : MixtureWeightType= vector\n"
     ]
    },
    {
     "name": "stdout",
     "output_type": "stream",
     "text": [
      "INFO:tensorflow:*** _build_weighted_subnetwork_helper() : MixtureWeightType= vector\n"
     ]
    },
    {
     "name": "stderr",
     "output_type": "stream",
     "text": [
      "I0522 20:33:20.470333 139898093799232 weighted.py:391] *** _build_weighted_subnetwork_helper() : MixtureWeightType= vector\n"
     ]
    },
    {
     "name": "stdout",
     "output_type": "stream",
     "text": [
      "WARNING:tensorflow:The `build_mixture_weights_train_op` method is deprecated. Please use the `Ensembler#build_train_op` instead.\n"
     ]
    },
    {
     "name": "stderr",
     "output_type": "stream",
     "text": [
      "W0522 20:33:20.549123 139898093799232 tf_logging.py:161] The `build_mixture_weights_train_op` method is deprecated. Please use the `Ensembler#build_train_op` instead.\n"
     ]
    },
    {
     "name": "stdout",
     "output_type": "stream",
     "text": [
      "WARNING:tensorflow:Using an `adanet.subnetwork.Builder#prune_previous_ensemble` is deprecated. Please use a custom `adanet.ensemble.Strategy` instead.\n"
     ]
    },
    {
     "name": "stderr",
     "output_type": "stream",
     "text": [
      "W0522 20:33:20.670408 139898093799232 tf_logging.py:161] Using an `adanet.subnetwork.Builder#prune_previous_ensemble` is deprecated. Please use a custom `adanet.ensemble.Strategy` instead.\n"
     ]
    },
    {
     "name": "stdout",
     "output_type": "stream",
     "text": [
      "INFO:tensorflow:*** _build_weighted_subnetwork_helper() : MixtureWeightType= vector\n"
     ]
    },
    {
     "name": "stderr",
     "output_type": "stream",
     "text": [
      "I0522 20:33:20.674758 139898093799232 weighted.py:391] *** _build_weighted_subnetwork_helper() : MixtureWeightType= vector\n"
     ]
    },
    {
     "name": "stdout",
     "output_type": "stream",
     "text": [
      "INFO:tensorflow:*** _build_weighted_subnetwork_helper() : MixtureWeightType= vector\n"
     ]
    },
    {
     "name": "stderr",
     "output_type": "stream",
     "text": [
      "I0522 20:33:20.681629 139898093799232 weighted.py:391] *** _build_weighted_subnetwork_helper() : MixtureWeightType= vector\n"
     ]
    },
    {
     "name": "stdout",
     "output_type": "stream",
     "text": [
      "WARNING:tensorflow:The `build_mixture_weights_train_op` method is deprecated. Please use the `Ensembler#build_train_op` instead.\n"
     ]
    },
    {
     "name": "stderr",
     "output_type": "stream",
     "text": [
      "W0522 20:33:20.745135 139898093799232 tf_logging.py:161] The `build_mixture_weights_train_op` method is deprecated. Please use the `Ensembler#build_train_op` instead.\n"
     ]
    },
    {
     "name": "stdout",
     "output_type": "stream",
     "text": [
      "INFO:tensorflow:Done calling model_fn.\n"
     ]
    },
    {
     "name": "stderr",
     "output_type": "stream",
     "text": [
      "I0522 20:33:20.893281 139898093799232 estimator.py:1113] Done calling model_fn.\n"
     ]
    },
    {
     "name": "stdout",
     "output_type": "stream",
     "text": [
      "INFO:tensorflow:Create CheckpointSaverHook.\n"
     ]
    },
    {
     "name": "stderr",
     "output_type": "stream",
     "text": [
      "I0522 20:33:20.894225 139898093799232 basic_session_run_hooks.py:527] Create CheckpointSaverHook.\n"
     ]
    },
    {
     "name": "stdout",
     "output_type": "stream",
     "text": [
      "INFO:tensorflow:Graph was finalized.\n"
     ]
    },
    {
     "name": "stderr",
     "output_type": "stream",
     "text": [
      "I0522 20:33:21.158827 139898093799232 monitored_session.py:222] Graph was finalized.\n"
     ]
    },
    {
     "name": "stdout",
     "output_type": "stream",
     "text": [
      "INFO:tensorflow:Restoring parameters from ./tmp/adanet/SGRU/increment.ckpt-1\n"
     ]
    },
    {
     "name": "stderr",
     "output_type": "stream",
     "text": [
      "I0522 20:33:21.161499 139898093799232 saver.py:1270] Restoring parameters from ./tmp/adanet/SGRU/increment.ckpt-1\n"
     ]
    },
    {
     "name": "stdout",
     "output_type": "stream",
     "text": [
      "INFO:tensorflow:Running local_init_op.\n"
     ]
    },
    {
     "name": "stderr",
     "output_type": "stream",
     "text": [
      "I0522 20:33:21.818726 139898093799232 session_manager.py:491] Running local_init_op.\n"
     ]
    },
    {
     "name": "stdout",
     "output_type": "stream",
     "text": [
      "INFO:tensorflow:Done running local_init_op.\n"
     ]
    },
    {
     "name": "stderr",
     "output_type": "stream",
     "text": [
      "I0522 20:33:21.980731 139898093799232 session_manager.py:493] Done running local_init_op.\n"
     ]
    },
    {
     "name": "stdout",
     "output_type": "stream",
     "text": [
      "INFO:tensorflow:Saving checkpoints for 7 into ./tmp/adanet/SGRU/model.ckpt.\n"
     ]
    },
    {
     "name": "stderr",
     "output_type": "stream",
     "text": [
      "I0522 20:33:39.820499 139898093799232 basic_session_run_hooks.py:594] Saving checkpoints for 7 into ./tmp/adanet/SGRU/model.ckpt.\n"
     ]
    },
    {
     "name": "stdout",
     "output_type": "stream",
     "text": [
      "INFO:tensorflow:loss = 2.1788023, step = 8\n"
     ]
    },
    {
     "name": "stderr",
     "output_type": "stream",
     "text": [
      "I0522 20:34:02.253133 139898093799232 basic_session_run_hooks.py:249] loss = 2.1788023, step = 8\n"
     ]
    },
    {
     "name": "stdout",
     "output_type": "stream",
     "text": [
      "INFO:tensorflow:Saving checkpoints for 14 into ./tmp/adanet/SGRU/model.ckpt.\n"
     ]
    },
    {
     "name": "stderr",
     "output_type": "stream",
     "text": [
      "I0522 20:34:17.663471 139898093799232 basic_session_run_hooks.py:594] Saving checkpoints for 14 into ./tmp/adanet/SGRU/model.ckpt.\n"
     ]
    },
    {
     "name": "stdout",
     "output_type": "stream",
     "text": [
      "\n",
      "*** input_fn() : feature_shape= (28, 28) / label_shape= [1]\n",
      "\n",
      "*** input_fn : TEST / feature_shape= (28, 28)\n",
      "\n",
      "*** preprocess_image() : image shape= (28, 28)\n",
      "\n",
      "*** preprocess_image() : features= {'images': <tf.Tensor 'arg0:0' shape=(28, 28) dtype=float32>} / label shape= ()\n",
      "\n",
      "***_input_fn() : Label shape =[1]\n",
      "INFO:tensorflow:Calling model_fn.\n"
     ]
    },
    {
     "name": "stderr",
     "output_type": "stream",
     "text": [
      "I0522 20:34:21.022665 139898093799232 estimator.py:1111] Calling model_fn.\n"
     ]
    },
    {
     "name": "stdout",
     "output_type": "stream",
     "text": [
      "\n",
      "*** NNAdaNetBuilder : NN Type=RNN\n",
      "\n",
      "*** get_tf_head() : feature shape= (28, 28)\n",
      "\n",
      "*** get_tf_head() : feature columns= [NumericColumn(key='images', shape=(28, 28), default_value=None, dtype=tf.float32, normalizer_fn=None)]\n",
      "\n",
      "*** NNAdaNetBuilder : NN Type=RNN\n",
      "\n",
      "*** get_tf_head() : feature shape= (28, 28)\n",
      "\n",
      "*** get_tf_head() : feature columns= [NumericColumn(key='images', shape=(28, 28), default_value=None, dtype=tf.float32, normalizer_fn=None)]\n",
      "INFO:tensorflow:Rebuilding iteration 0\n"
     ]
    },
    {
     "name": "stderr",
     "output_type": "stream",
     "text": [
      "I0522 20:34:21.035144 139898093799232 iteration.py:250] Rebuilding iteration 0\n"
     ]
    },
    {
     "name": "stdout",
     "output_type": "stream",
     "text": [
      "INFO:tensorflow:Rebuilding subnetwork 'RNN_SGRU_layer_2'\n"
     ]
    },
    {
     "name": "stderr",
     "output_type": "stream",
     "text": [
      "I0522 20:34:21.051647 139898093799232 iteration.py:337] Rebuilding subnetwork 'RNN_SGRU_layer_2'\n"
     ]
    },
    {
     "name": "stdout",
     "output_type": "stream",
     "text": [
      "\n",
      "\n",
      "*** build_subnetwork() : features= {'images': <tf.Tensor 'IteratorGetNext:0' shape=(?, 28, 28) dtype=float32>}\n",
      "\n",
      "\n",
      "*** build_subnetwork() : self._feature_columns= [NumericColumn(key='images', shape=(28, 28), default_value=None, dtype=tf.float32, normalizer_fn=None)]\n",
      "\n",
      "\n",
      "*** build_subnetwork() : NN type= RNN / Input layer shape= (?, 784)\n",
      "\n",
      "*** _build_rnn_subnetwork() : output[-1]= Tensor(\"adanet/iteration_0/subnetwork_t0_RNN_SGRU_layer_2/rnn/rnn/multi_rnn_cell/cell_1/gru_cell/add_27:0\", shape=(?, 128), dtype=float32) / Weight= <tf.Variable 'adanet/iteration_0/subnetwork_t0_RNN_SGRU_layer_2/W:0' shape=(128, 10) dtype=float32_ref>\n",
      "\n",
      "***build_subnetwork() / RNN : logits shape= (?, 10)\n",
      "\n",
      "*** build_subnetwork() : last_layer= Tensor(\"adanet/iteration_0/subnetwork_t0_RNN_SGRU_layer_2/dense/BiasAdd:0\", shape=(?, 128), dtype=float32)\n",
      "INFO:tensorflow:*** _build_weighted_subnetwork_helper() : MixtureWeightType= vector\n"
     ]
    },
    {
     "name": "stderr",
     "output_type": "stream",
     "text": [
      "I0522 20:34:22.860508 139898093799232 weighted.py:391] *** _build_weighted_subnetwork_helper() : MixtureWeightType= vector\n"
     ]
    },
    {
     "name": "stdout",
     "output_type": "stream",
     "text": [
      "\n",
      "*** NNAdaNetBuilder : NN Type=RNN\n",
      "\n",
      "*** get_tf_head() : feature shape= (28, 28)\n",
      "\n",
      "*** get_tf_head() : feature columns= [NumericColumn(key='images', shape=(28, 28), default_value=None, dtype=tf.float32, normalizer_fn=None)]\n",
      "\n",
      "*** NNAdaNetBuilder : NN Type=RNN\n",
      "\n",
      "*** get_tf_head() : feature shape= (28, 28)\n",
      "\n",
      "*** get_tf_head() : feature columns= [NumericColumn(key='images', shape=(28, 28), default_value=None, dtype=tf.float32, normalizer_fn=None)]\n",
      "INFO:tensorflow:Building iteration 1\n"
     ]
    },
    {
     "name": "stderr",
     "output_type": "stream",
     "text": [
      "I0522 20:34:23.259269 139898093799232 iteration.py:250] Building iteration 1\n"
     ]
    },
    {
     "name": "stdout",
     "output_type": "stream",
     "text": [
      "INFO:tensorflow:Building subnetwork 'RNN_SGRU_layer_2'\n"
     ]
    },
    {
     "name": "stderr",
     "output_type": "stream",
     "text": [
      "I0522 20:34:23.340576 139898093799232 iteration.py:337] Building subnetwork 'RNN_SGRU_layer_2'\n"
     ]
    },
    {
     "name": "stdout",
     "output_type": "stream",
     "text": [
      "\n",
      "\n",
      "*** build_subnetwork() : features= {'images': <tf.Tensor 'IteratorGetNext:0' shape=(?, 28, 28) dtype=float32>}\n",
      "\n",
      "\n",
      "*** build_subnetwork() : self._feature_columns= [NumericColumn(key='images', shape=(28, 28), default_value=None, dtype=tf.float32, normalizer_fn=None)]\n",
      "\n",
      "\n",
      "*** build_subnetwork() : NN type= RNN / Input layer shape= (?, 784)\n",
      "\n",
      "*** _build_rnn_subnetwork() : output[-1]= Tensor(\"adanet/iteration_1/subnetwork_t1_RNN_SGRU_layer_2/rnn/rnn/multi_rnn_cell/cell_1/gru_cell/add_27:0\", shape=(?, 128), dtype=float32) / Weight= <tf.Variable 'adanet/iteration_1/subnetwork_t1_RNN_SGRU_layer_2/W:0' shape=(128, 10) dtype=float32_ref>\n",
      "\n",
      "***build_subnetwork() / RNN : logits shape= (?, 10)\n",
      "\n",
      "*** build_subnetwork() : last_layer= Tensor(\"adanet/iteration_1/subnetwork_t1_RNN_SGRU_layer_2/dense/BiasAdd:0\", shape=(?, 128), dtype=float32)\n",
      "INFO:tensorflow:Building subnetwork 'RNN_SGRU_layer_3'\n"
     ]
    },
    {
     "name": "stderr",
     "output_type": "stream",
     "text": [
      "I0522 20:34:24.953269 139898093799232 iteration.py:337] Building subnetwork 'RNN_SGRU_layer_3'\n"
     ]
    },
    {
     "name": "stdout",
     "output_type": "stream",
     "text": [
      "\n",
      "\n",
      "*** build_subnetwork() : features= {'images': <tf.Tensor 'IteratorGetNext:0' shape=(?, 28, 28) dtype=float32>}\n",
      "\n",
      "\n",
      "*** build_subnetwork() : self._feature_columns= [NumericColumn(key='images', shape=(28, 28), default_value=None, dtype=tf.float32, normalizer_fn=None)]\n",
      "\n",
      "\n",
      "*** build_subnetwork() : NN type= RNN / Input layer shape= (?, 784)\n",
      "\n",
      "*** _build_rnn_subnetwork() : output[-1]= Tensor(\"adanet/iteration_1/subnetwork_t1_RNN_SGRU_layer_3/rnn/rnn/multi_rnn_cell/cell_2/gru_cell/add_27:0\", shape=(?, 128), dtype=float32) / Weight= <tf.Variable 'adanet/iteration_1/subnetwork_t1_RNN_SGRU_layer_3/W:0' shape=(128, 10) dtype=float32_ref>\n",
      "\n",
      "***build_subnetwork() / RNN : logits shape= (?, 10)\n",
      "\n",
      "*** build_subnetwork() : last_layer= Tensor(\"adanet/iteration_1/subnetwork_t1_RNN_SGRU_layer_3/dense/BiasAdd:0\", shape=(?, 128), dtype=float32)\n",
      "WARNING:tensorflow:Using an `adanet.subnetwork.Builder#prune_previous_ensemble` is deprecated. Please use a custom `adanet.ensemble.Strategy` instead.\n"
     ]
    },
    {
     "name": "stderr",
     "output_type": "stream",
     "text": [
      "W0522 20:34:27.227741 139898093799232 tf_logging.py:161] Using an `adanet.subnetwork.Builder#prune_previous_ensemble` is deprecated. Please use a custom `adanet.ensemble.Strategy` instead.\n"
     ]
    },
    {
     "name": "stdout",
     "output_type": "stream",
     "text": [
      "INFO:tensorflow:*** _build_weighted_subnetwork_helper() : MixtureWeightType= vector\n"
     ]
    },
    {
     "name": "stderr",
     "output_type": "stream",
     "text": [
      "I0522 20:34:27.239845 139898093799232 weighted.py:391] *** _build_weighted_subnetwork_helper() : MixtureWeightType= vector\n"
     ]
    },
    {
     "name": "stdout",
     "output_type": "stream",
     "text": [
      "INFO:tensorflow:*** _build_weighted_subnetwork_helper() : MixtureWeightType= vector\n"
     ]
    },
    {
     "name": "stderr",
     "output_type": "stream",
     "text": [
      "I0522 20:34:27.271543 139898093799232 weighted.py:391] *** _build_weighted_subnetwork_helper() : MixtureWeightType= vector\n"
     ]
    },
    {
     "name": "stdout",
     "output_type": "stream",
     "text": [
      "WARNING:tensorflow:Using an `adanet.subnetwork.Builder#prune_previous_ensemble` is deprecated. Please use a custom `adanet.ensemble.Strategy` instead.\n"
     ]
    },
    {
     "name": "stderr",
     "output_type": "stream",
     "text": [
      "W0522 20:34:27.574797 139898093799232 tf_logging.py:161] Using an `adanet.subnetwork.Builder#prune_previous_ensemble` is deprecated. Please use a custom `adanet.ensemble.Strategy` instead.\n"
     ]
    },
    {
     "name": "stdout",
     "output_type": "stream",
     "text": [
      "INFO:tensorflow:*** _build_weighted_subnetwork_helper() : MixtureWeightType= vector\n"
     ]
    },
    {
     "name": "stderr",
     "output_type": "stream",
     "text": [
      "I0522 20:34:27.584720 139898093799232 weighted.py:391] *** _build_weighted_subnetwork_helper() : MixtureWeightType= vector\n"
     ]
    },
    {
     "name": "stdout",
     "output_type": "stream",
     "text": [
      "INFO:tensorflow:*** _build_weighted_subnetwork_helper() : MixtureWeightType= vector\n"
     ]
    },
    {
     "name": "stderr",
     "output_type": "stream",
     "text": [
      "I0522 20:34:27.601548 139898093799232 weighted.py:391] *** _build_weighted_subnetwork_helper() : MixtureWeightType= vector\n"
     ]
    },
    {
     "name": "stdout",
     "output_type": "stream",
     "text": [
      "INFO:tensorflow:Done calling model_fn.\n"
     ]
    },
    {
     "name": "stderr",
     "output_type": "stream",
     "text": [
      "I0522 20:34:28.243096 139898093799232 estimator.py:1113] Done calling model_fn.\n"
     ]
    },
    {
     "name": "stdout",
     "output_type": "stream",
     "text": [
      "INFO:tensorflow:Starting evaluation at 2019-05-22T18:34:28Z\n"
     ]
    },
    {
     "name": "stderr",
     "output_type": "stream",
     "text": [
      "I0522 20:34:28.287729 139898093799232 evaluation.py:257] Starting evaluation at 2019-05-22T18:34:28Z\n"
     ]
    },
    {
     "name": "stdout",
     "output_type": "stream",
     "text": [
      "INFO:tensorflow:Graph was finalized.\n"
     ]
    },
    {
     "name": "stderr",
     "output_type": "stream",
     "text": [
      "I0522 20:34:28.932250 139898093799232 monitored_session.py:222] Graph was finalized.\n"
     ]
    },
    {
     "name": "stdout",
     "output_type": "stream",
     "text": [
      "INFO:tensorflow:Restoring parameters from ./tmp/adanet/SGRU/model.ckpt-14\n"
     ]
    },
    {
     "name": "stderr",
     "output_type": "stream",
     "text": [
      "I0522 20:34:28.936071 139898093799232 saver.py:1270] Restoring parameters from ./tmp/adanet/SGRU/model.ckpt-14\n"
     ]
    },
    {
     "name": "stdout",
     "output_type": "stream",
     "text": [
      "INFO:tensorflow:Running local_init_op.\n"
     ]
    },
    {
     "name": "stderr",
     "output_type": "stream",
     "text": [
      "I0522 20:34:29.415501 139898093799232 session_manager.py:491] Running local_init_op.\n"
     ]
    },
    {
     "name": "stdout",
     "output_type": "stream",
     "text": [
      "INFO:tensorflow:Done running local_init_op.\n"
     ]
    },
    {
     "name": "stderr",
     "output_type": "stream",
     "text": [
      "I0522 20:34:29.605089 139898093799232 session_manager.py:493] Done running local_init_op.\n"
     ]
    },
    {
     "name": "stdout",
     "output_type": "stream",
     "text": [
      "\n",
      "*** generator() : labels shape= (10000,) / label values= 0\n",
      "INFO:tensorflow:Finished evaluation at 2019-05-22-18:34:49\n"
     ]
    },
    {
     "name": "stderr",
     "output_type": "stream",
     "text": [
      "I0522 20:34:49.523159 139898093799232 evaluation.py:277] Finished evaluation at 2019-05-22-18:34:49\n"
     ]
    },
    {
     "name": "stdout",
     "output_type": "stream",
     "text": [
      "INFO:tensorflow:Saving dict for global step 14: accuracy = 0.3562, average_loss = 2.2139304, global_step = 14, loss = 2.2137594\n"
     ]
    },
    {
     "name": "stderr",
     "output_type": "stream",
     "text": [
      "I0522 20:34:49.525263 139898093799232 estimator.py:1979] Saving dict for global step 14: accuracy = 0.3562, average_loss = 2.2139304, global_step = 14, loss = 2.2137594\n"
     ]
    },
    {
     "name": "stdout",
     "output_type": "stream",
     "text": [
      "INFO:tensorflow:Saving 'checkpoint_path' summary for global step 14: ./tmp/adanet/SGRU/model.ckpt-14\n"
     ]
    },
    {
     "name": "stderr",
     "output_type": "stream",
     "text": [
      "I0522 20:34:49.528648 139898093799232 estimator.py:2039] Saving 'checkpoint_path' summary for global step 14: ./tmp/adanet/SGRU/model.ckpt-14\n"
     ]
    },
    {
     "name": "stdout",
     "output_type": "stream",
     "text": [
      "INFO:tensorflow:Loss for final step: 2.2104135.\n"
     ]
    },
    {
     "name": "stderr",
     "output_type": "stream",
     "text": [
      "I0522 20:34:49.731665 139898093799232 estimator.py:359] Loss for final step: 2.2104135.\n"
     ]
    },
    {
     "name": "stdout",
     "output_type": "stream",
     "text": [
      "\n",
      "*** input_fn() : feature_shape= (28, 28) / label_shape= [1]\n",
      "\n",
      "*** preprocess_image() : image shape= (28, 28)\n",
      "\n",
      "*** preprocess_image() : features= {'images': <tf.Tensor 'arg0:0' shape=(28, 28) dtype=float32>} / label shape= ()\n",
      "\n",
      "***_input_fn() : Label shape =[1]\n",
      "INFO:tensorflow:Calling model_fn.\n"
     ]
    },
    {
     "name": "stderr",
     "output_type": "stream",
     "text": [
      "I0522 20:34:50.282019 139898093799232 estimator.py:1111] Calling model_fn.\n"
     ]
    },
    {
     "name": "stdout",
     "output_type": "stream",
     "text": [
      "\n",
      "*** NNAdaNetBuilder : NN Type=RNN\n",
      "\n",
      "*** get_tf_head() : feature shape= (28, 28)\n",
      "\n",
      "*** get_tf_head() : feature columns= [NumericColumn(key='images', shape=(28, 28), default_value=None, dtype=tf.float32, normalizer_fn=None)]\n",
      "\n",
      "*** NNAdaNetBuilder : NN Type=RNN\n",
      "\n",
      "*** get_tf_head() : feature shape= (28, 28)\n",
      "\n",
      "*** get_tf_head() : feature columns= [NumericColumn(key='images', shape=(28, 28), default_value=None, dtype=tf.float32, normalizer_fn=None)]\n",
      "INFO:tensorflow:Rebuilding iteration 0\n"
     ]
    },
    {
     "name": "stderr",
     "output_type": "stream",
     "text": [
      "I0522 20:34:50.291840 139898093799232 iteration.py:250] Rebuilding iteration 0\n"
     ]
    },
    {
     "name": "stdout",
     "output_type": "stream",
     "text": [
      "INFO:tensorflow:Rebuilding subnetwork 'RNN_SGRU_layer_2'\n"
     ]
    },
    {
     "name": "stderr",
     "output_type": "stream",
     "text": [
      "I0522 20:34:50.304629 139898093799232 iteration.py:337] Rebuilding subnetwork 'RNN_SGRU_layer_2'\n"
     ]
    },
    {
     "name": "stdout",
     "output_type": "stream",
     "text": [
      "\n",
      "\n",
      "*** build_subnetwork() : features= {'images': <tf.Tensor 'IteratorGetNext:0' shape=(?, 28, 28) dtype=float32>}\n",
      "\n",
      "\n",
      "*** build_subnetwork() : self._feature_columns= [NumericColumn(key='images', shape=(28, 28), default_value=None, dtype=tf.float32, normalizer_fn=None)]\n",
      "\n",
      "\n",
      "*** build_subnetwork() : NN type= RNN / Input layer shape= (?, 784)\n",
      "\n",
      "*** _build_rnn_subnetwork() : output[-1]= Tensor(\"adanet/iteration_0/subnetwork_t0_RNN_SGRU_layer_2/rnn/rnn/multi_rnn_cell/cell_1/gru_cell/add_27:0\", shape=(?, 128), dtype=float32) / Weight= <tf.Variable 'adanet/iteration_0/subnetwork_t0_RNN_SGRU_layer_2/W:0' shape=(128, 10) dtype=float32_ref>\n",
      "\n",
      "***build_subnetwork() / RNN : logits shape= (?, 10)\n",
      "\n",
      "*** build_subnetwork() : last_layer= Tensor(\"adanet/iteration_0/subnetwork_t0_RNN_SGRU_layer_2/dense/BiasAdd:0\", shape=(?, 128), dtype=float32)\n",
      "INFO:tensorflow:*** _build_weighted_subnetwork_helper() : MixtureWeightType= vector\n"
     ]
    },
    {
     "name": "stderr",
     "output_type": "stream",
     "text": [
      "I0522 20:34:51.666665 139898093799232 weighted.py:391] *** _build_weighted_subnetwork_helper() : MixtureWeightType= vector\n"
     ]
    },
    {
     "name": "stdout",
     "output_type": "stream",
     "text": [
      "\n",
      "*** NNAdaNetBuilder : NN Type=RNN\n",
      "\n",
      "*** get_tf_head() : feature shape= (28, 28)\n",
      "\n",
      "*** get_tf_head() : feature columns= [NumericColumn(key='images', shape=(28, 28), default_value=None, dtype=tf.float32, normalizer_fn=None)]\n",
      "\n",
      "*** NNAdaNetBuilder : NN Type=RNN\n",
      "\n",
      "*** get_tf_head() : feature shape= (28, 28)\n",
      "\n",
      "*** get_tf_head() : feature columns= [NumericColumn(key='images', shape=(28, 28), default_value=None, dtype=tf.float32, normalizer_fn=None)]\n",
      "INFO:tensorflow:Building iteration 1\n"
     ]
    },
    {
     "name": "stderr",
     "output_type": "stream",
     "text": [
      "I0522 20:34:51.990635 139898093799232 iteration.py:250] Building iteration 1\n"
     ]
    },
    {
     "name": "stdout",
     "output_type": "stream",
     "text": [
      "INFO:tensorflow:Building subnetwork 'RNN_SGRU_layer_2'\n"
     ]
    },
    {
     "name": "stderr",
     "output_type": "stream",
     "text": [
      "I0522 20:34:52.058518 139898093799232 iteration.py:337] Building subnetwork 'RNN_SGRU_layer_2'\n"
     ]
    },
    {
     "name": "stdout",
     "output_type": "stream",
     "text": [
      "\n",
      "\n",
      "*** build_subnetwork() : features= {'images': <tf.Tensor 'IteratorGetNext:0' shape=(?, 28, 28) dtype=float32>}\n",
      "\n",
      "\n",
      "*** build_subnetwork() : self._feature_columns= [NumericColumn(key='images', shape=(28, 28), default_value=None, dtype=tf.float32, normalizer_fn=None)]\n",
      "\n",
      "\n",
      "*** build_subnetwork() : NN type= RNN / Input layer shape= (?, 784)\n",
      "\n",
      "*** _build_rnn_subnetwork() : output[-1]= Tensor(\"adanet/iteration_1/subnetwork_t1_RNN_SGRU_layer_2/rnn/rnn/multi_rnn_cell/cell_1/gru_cell/add_27:0\", shape=(?, 128), dtype=float32) / Weight= <tf.Variable 'adanet/iteration_1/subnetwork_t1_RNN_SGRU_layer_2/W:0' shape=(128, 10) dtype=float32_ref>\n",
      "\n",
      "***build_subnetwork() / RNN : logits shape= (?, 10)\n",
      "\n",
      "*** build_subnetwork() : last_layer= Tensor(\"adanet/iteration_1/subnetwork_t1_RNN_SGRU_layer_2/dense/BiasAdd:0\", shape=(?, 128), dtype=float32)\n",
      "INFO:tensorflow:Building subnetwork 'RNN_SGRU_layer_3'\n"
     ]
    },
    {
     "name": "stderr",
     "output_type": "stream",
     "text": [
      "I0522 20:34:53.411283 139898093799232 iteration.py:337] Building subnetwork 'RNN_SGRU_layer_3'\n"
     ]
    },
    {
     "name": "stdout",
     "output_type": "stream",
     "text": [
      "\n",
      "\n",
      "*** build_subnetwork() : features= {'images': <tf.Tensor 'IteratorGetNext:0' shape=(?, 28, 28) dtype=float32>}\n",
      "\n",
      "\n",
      "*** build_subnetwork() : self._feature_columns= [NumericColumn(key='images', shape=(28, 28), default_value=None, dtype=tf.float32, normalizer_fn=None)]\n",
      "\n",
      "\n",
      "*** build_subnetwork() : NN type= RNN / Input layer shape= (?, 784)\n",
      "\n",
      "*** _build_rnn_subnetwork() : output[-1]= Tensor(\"adanet/iteration_1/subnetwork_t1_RNN_SGRU_layer_3/rnn/rnn/multi_rnn_cell/cell_2/gru_cell/add_27:0\", shape=(?, 128), dtype=float32) / Weight= <tf.Variable 'adanet/iteration_1/subnetwork_t1_RNN_SGRU_layer_3/W:0' shape=(128, 10) dtype=float32_ref>\n",
      "\n",
      "***build_subnetwork() / RNN : logits shape= (?, 10)\n",
      "\n",
      "*** build_subnetwork() : last_layer= Tensor(\"adanet/iteration_1/subnetwork_t1_RNN_SGRU_layer_3/dense/BiasAdd:0\", shape=(?, 128), dtype=float32)\n",
      "WARNING:tensorflow:Using an `adanet.subnetwork.Builder#prune_previous_ensemble` is deprecated. Please use a custom `adanet.ensemble.Strategy` instead.\n"
     ]
    },
    {
     "name": "stderr",
     "output_type": "stream",
     "text": [
      "W0522 20:34:55.309118 139898093799232 tf_logging.py:161] Using an `adanet.subnetwork.Builder#prune_previous_ensemble` is deprecated. Please use a custom `adanet.ensemble.Strategy` instead.\n"
     ]
    },
    {
     "name": "stdout",
     "output_type": "stream",
     "text": [
      "INFO:tensorflow:*** _build_weighted_subnetwork_helper() : MixtureWeightType= vector\n"
     ]
    },
    {
     "name": "stderr",
     "output_type": "stream",
     "text": [
      "I0522 20:34:55.317465 139898093799232 weighted.py:391] *** _build_weighted_subnetwork_helper() : MixtureWeightType= vector\n"
     ]
    },
    {
     "name": "stdout",
     "output_type": "stream",
     "text": [
      "INFO:tensorflow:*** _build_weighted_subnetwork_helper() : MixtureWeightType= vector\n"
     ]
    },
    {
     "name": "stderr",
     "output_type": "stream",
     "text": [
      "I0522 20:34:55.334381 139898093799232 weighted.py:391] *** _build_weighted_subnetwork_helper() : MixtureWeightType= vector\n"
     ]
    },
    {
     "name": "stdout",
     "output_type": "stream",
     "text": [
      "WARNING:tensorflow:Using an `adanet.subnetwork.Builder#prune_previous_ensemble` is deprecated. Please use a custom `adanet.ensemble.Strategy` instead.\n"
     ]
    },
    {
     "name": "stderr",
     "output_type": "stream",
     "text": [
      "W0522 20:34:55.551071 139898093799232 tf_logging.py:161] Using an `adanet.subnetwork.Builder#prune_previous_ensemble` is deprecated. Please use a custom `adanet.ensemble.Strategy` instead.\n"
     ]
    },
    {
     "name": "stdout",
     "output_type": "stream",
     "text": [
      "INFO:tensorflow:*** _build_weighted_subnetwork_helper() : MixtureWeightType= vector\n"
     ]
    },
    {
     "name": "stderr",
     "output_type": "stream",
     "text": [
      "I0522 20:34:55.560131 139898093799232 weighted.py:391] *** _build_weighted_subnetwork_helper() : MixtureWeightType= vector\n"
     ]
    },
    {
     "name": "stdout",
     "output_type": "stream",
     "text": [
      "INFO:tensorflow:*** _build_weighted_subnetwork_helper() : MixtureWeightType= vector\n"
     ]
    },
    {
     "name": "stderr",
     "output_type": "stream",
     "text": [
      "I0522 20:34:55.575027 139898093799232 weighted.py:391] *** _build_weighted_subnetwork_helper() : MixtureWeightType= vector\n"
     ]
    },
    {
     "name": "stdout",
     "output_type": "stream",
     "text": [
      "INFO:tensorflow:Restoring parameters from ./tmp/adanet/SGRU/model.ckpt-14\n"
     ]
    },
    {
     "name": "stderr",
     "output_type": "stream",
     "text": [
      "I0522 20:34:56.591185 139898093799232 saver.py:1270] Restoring parameters from ./tmp/adanet/SGRU/model.ckpt-14\n"
     ]
    },
    {
     "name": "stdout",
     "output_type": "stream",
     "text": [
      "WARNING:tensorflow:`tf.train.start_queue_runners()` was called when no queue runners were defined. You can safely remove the call to this deprecated function.\n"
     ]
    },
    {
     "name": "stderr",
     "output_type": "stream",
     "text": [
      "W0522 20:34:56.869625 139898093799232 queue_runner_impl.py:471] `tf.train.start_queue_runners()` was called when no queue runners were defined. You can safely remove the call to this deprecated function.\n"
     ]
    },
    {
     "name": "stdout",
     "output_type": "stream",
     "text": [
      "\n",
      "*** generator() : labels shape= (55000,) / label values= 3\n",
      "\n",
      "*** generator() : labels shape= (55000,) / label values= 3\n",
      "\n",
      "*** generator() : labels shape= (55000,) / label values= 3\n",
      "\n",
      "*** generator() : labels shape= (55000,) / label values= 3\n",
      "\n",
      "*** generator() : labels shape= (55000,) / label values= 3\n",
      "\n",
      "*** generator() : labels shape= (55000,) / label values= 3\n",
      "\n",
      "*** generator() : labels shape= (55000,) / label values= 3\n",
      "\n",
      "*** generator() : labels shape= (55000,) / label values= 3\n",
      "\n",
      "*** generator() : labels shape= (55000,) / label values= 3\n",
      "\n",
      "*** generator() : labels shape= (55000,) / label values= 3\n",
      "\n",
      "*** generator() : labels shape= (55000,) / label values= 3\n",
      "\n",
      "*** generator() : labels shape= (55000,) / label values= 3\n",
      "\n",
      "*** generator() : labels shape= (55000,) / label values= 3\n",
      "\n",
      "*** generator() : labels shape= (55000,) / label values= 3\n",
      "\n",
      "*** generator() : labels shape= (55000,) / label values= 3\n",
      "\n",
      "*** generator() : labels shape= (55000,) / label values= 3\n",
      "\n",
      "*** generator() : labels shape= (55000,) / label values= 3\n",
      "\n",
      "*** generator() : labels shape= (55000,) / label values= 3\n",
      "\n",
      "*** generator() : labels shape= (55000,) / label values= 3\n",
      "\n",
      "*** generator() : labels shape= (55000,) / label values= 3\n",
      "\n",
      "*** generator() : labels shape= (55000,) / label values= 3\n",
      "\n",
      "*** generator() : labels shape= (55000,) / label values= 3\n",
      "\n",
      "*** generator() : labels shape= (55000,) / label values= 3\n",
      "\n",
      "*** generator() : labels shape= (55000,) / label values= 3\n",
      "\n",
      "*** generator() : labels shape= (55000,) / label values= 3\n",
      "\n",
      "*** generator() : labels shape= (55000,) / label values= 3\n",
      "\n",
      "*** generator() : labels shape= (55000,) / label values= 3\n",
      "\n",
      "*** generator() : labels shape= (55000,) / label values= 3\n",
      "\n",
      "*** generator() : labels shape= (55000,) / label values= 3\n",
      "\n",
      "*** generator() : labels shape= (55000,) / label values= 3\n",
      "\n",
      "*** generator() : labels shape= (55000,) / label values= 3\n",
      "\n",
      "*** generator() : labels shape= (55000,) / label values= 3\n",
      "\n",
      "*** generator() : labels shape= (55000,) / label values= 3\n",
      "\n",
      "*** generator() : labels shape= (55000,) / label values= 3\n",
      "\n",
      "*** generator() : labels shape= (55000,) / label values= 3\n",
      "\n",
      "*** generator() : labels shape= (55000,) / label values= 3\n",
      "\n",
      "*** generator() : labels shape= (55000,) / label values= 3\n",
      "\n",
      "*** generator() : labels shape= (55000,) / label values= 3\n",
      "\n",
      "*** generator() : labels shape= (55000,) / label values= 3\n",
      "\n",
      "*** generator() : labels shape= (55000,) / label values= 3\n",
      "\n",
      "*** generator() : labels shape= (55000,) / label values= 3\n",
      "\n",
      "*** generator() : labels shape= (55000,) / label values= 3\n",
      "\n",
      "*** generator() : labels shape= (55000,) / label values= 3\n",
      "\n",
      "*** generator() : labels shape= (55000,) / label values= 3\n",
      "\n",
      "*** generator() : labels shape= (55000,) / label values= 3\n",
      "\n",
      "*** generator() : labels shape= (55000,) / label values= 3\n",
      "\n",
      "*** generator() : labels shape= (55000,) / label values= 3\n",
      "\n",
      "*** generator() : labels shape= (55000,) / label values= 3\n",
      "\n",
      "*** generator() : labels shape= (55000,) / label values= 3\n",
      "\n",
      "*** generator() : labels shape= (55000,) / label values= 3\n",
      "\n",
      "*** generator() : labels shape= (55000,) / label values= 3\n",
      "\n",
      "*** generator() : labels shape= (55000,) / label values= 3\n",
      "\n",
      "*** generator() : labels shape= (55000,) / label values= 3\n",
      "\n",
      "*** generator() : labels shape= (55000,) / label values= 3\n",
      "\n",
      "*** generator() : labels shape= (55000,) / label values= 3\n",
      "\n",
      "*** generator() : labels shape= (55000,) / label values= 3\n",
      "\n",
      "*** generator() : labels shape= (55000,) / label values= 3\n",
      "\n",
      "*** generator() : labels shape= (55000,) / label values= 3\n",
      "\n",
      "*** generator() : labels shape= (55000,) / label values= 3\n",
      "\n",
      "*** generator() : labels shape= (55000,) / label values= 3\n",
      "\n",
      "*** generator() : labels shape= (55000,) / label values= 3\n",
      "\n",
      "*** generator() : labels shape= (55000,) / label values= 3\n",
      "\n",
      "*** generator() : labels shape= (55000,) / label values= 3\n",
      "\n",
      "*** generator() : labels shape= (55000,) / label values= 3\n",
      "\n",
      "*** generator() : labels shape= (55000,) / label values= 3\n",
      "\n",
      "*** generator() : labels shape= (55000,) / label values= 3\n",
      "\n",
      "*** generator() : labels shape= (55000,) / label values= 3\n",
      "\n",
      "*** generator() : labels shape= (55000,) / label values= 3\n",
      "\n",
      "*** generator() : labels shape= (55000,) / label values= 3\n",
      "\n",
      "*** generator() : labels shape= (55000,) / label values= 3\n",
      "\n",
      "*** generator() : labels shape= (55000,) / label values= 3\n",
      "\n",
      "*** generator() : labels shape= (55000,) / label values= 3\n",
      "\n",
      "*** generator() : labels shape= (55000,) / label values= 3\n",
      "\n",
      "*** generator() : labels shape= (55000,) / label values= 3\n",
      "\n",
      "*** generator() : labels shape= (55000,) / label values= 3\n",
      "\n",
      "*** generator() : labels shape= (55000,) / label values= 3\n",
      "\n",
      "*** generator() : labels shape= (55000,) / label values= 3\n",
      "\n",
      "*** generator() : labels shape= (55000,) / label values= 3\n",
      "\n",
      "*** generator() : labels shape= (55000,) / label values= 3\n",
      "\n",
      "*** generator() : labels shape= (55000,) / label values= 3\n",
      "\n",
      "*** generator() : labels shape= (55000,) / label values= 3\n",
      "\n",
      "*** generator() : labels shape= (55000,) / label values= 3\n",
      "\n",
      "*** generator() : labels shape= (55000,) / label values= 3\n",
      "\n",
      "*** generator() : labels shape= (55000,) / label values= 3\n",
      "\n",
      "*** generator() : labels shape= (55000,) / label values= 3\n",
      "\n",
      "*** generator() : labels shape= (55000,) / label values= 3\n",
      "\n",
      "*** generator() : labels shape= (55000,) / label values= 3\n",
      "\n",
      "*** generator() : labels shape= (55000,) / label values= 3\n",
      "\n",
      "*** generator() : labels shape= (55000,) / label values= 3\n",
      "\n",
      "*** generator() : labels shape= (55000,) / label values= 3\n",
      "\n",
      "*** generator() : labels shape= (55000,) / label values= 3\n",
      "\n",
      "*** generator() : labels shape= (55000,) / label values= 3\n",
      "\n",
      "*** generator() : labels shape= (55000,) / label values= 3\n",
      "\n",
      "*** generator() : labels shape= (55000,) / label values= 3\n",
      "\n",
      "*** generator() : labels shape= (55000,) / label values= 3\n",
      "\n",
      "*** generator() : labels shape= (55000,) / label values= 3\n",
      "\n",
      "*** generator() : labels shape= (55000,) / label values= 3\n",
      "\n",
      "*** generator() : labels shape= (55000,) / label values= 3\n",
      "\n",
      "*** generator() : labels shape= (55000,) / label values= 3\n",
      "\n",
      "*** generator() : labels shape= (55000,) / label values= 3\n",
      "INFO:tensorflow:Done calling model_fn.\n"
     ]
    },
    {
     "name": "stderr",
     "output_type": "stream",
     "text": [
      "I0522 21:09:56.449773 139898093799232 estimator.py:1113] Done calling model_fn.\n"
     ]
    },
    {
     "name": "stdout",
     "output_type": "stream",
     "text": [
      "INFO:tensorflow:Using config: {'_model_dir': './tmp/adanet/SGRU/temp_model_dir', '_tf_random_seed': 42, '_save_summary_steps': 100, '_save_checkpoints_steps': None, '_save_checkpoints_secs': 600, '_session_config': allow_soft_placement: true\n",
      "graph_options {\n",
      "  rewrite_options {\n",
      "    meta_optimizer_iterations: ONE\n",
      "  }\n",
      "}\n",
      ", '_keep_checkpoint_max': 5, '_keep_checkpoint_every_n_hours': 10000, '_log_step_count_steps': 100, '_train_distribute': None, '_device_fn': None, '_protocol': None, '_eval_distribute': None, '_experimental_distribute': None, '_service': None, '_cluster_spec': <tensorflow.python.training.server_lib.ClusterSpec object at 0x7f3af687b668>, '_task_type': 'worker', '_task_id': 0, '_global_id_in_cluster': 0, '_master': '', '_evaluation_master': '', '_is_chief': True, '_num_ps_replicas': 0, '_num_worker_replicas': 1}\n"
     ]
    },
    {
     "name": "stderr",
     "output_type": "stream",
     "text": [
      "I0522 21:09:56.451567 139898093799232 estimator.py:201] Using config: {'_model_dir': './tmp/adanet/SGRU/temp_model_dir', '_tf_random_seed': 42, '_save_summary_steps': 100, '_save_checkpoints_steps': None, '_save_checkpoints_secs': 600, '_session_config': allow_soft_placement: true\n",
      "graph_options {\n",
      "  rewrite_options {\n",
      "    meta_optimizer_iterations: ONE\n",
      "  }\n",
      "}\n",
      ", '_keep_checkpoint_max': 5, '_keep_checkpoint_every_n_hours': 10000, '_log_step_count_steps': 100, '_train_distribute': None, '_device_fn': None, '_protocol': None, '_eval_distribute': None, '_experimental_distribute': None, '_service': None, '_cluster_spec': <tensorflow.python.training.server_lib.ClusterSpec object at 0x7f3af687b668>, '_task_type': 'worker', '_task_id': 0, '_global_id_in_cluster': 0, '_master': '', '_evaluation_master': '', '_is_chief': True, '_num_ps_replicas': 0, '_num_worker_replicas': 1}\n"
     ]
    },
    {
     "name": "stdout",
     "output_type": "stream",
     "text": [
      "\n",
      "*** input_fn() : feature_shape= (28, 28) / label_shape= [1]\n",
      "\n",
      "*** preprocess_image() : image shape= (28, 28)\n",
      "\n",
      "*** preprocess_image() : features= {'images': <tf.Tensor 'arg0:0' shape=(28, 28) dtype=float32>} / label shape= ()\n",
      "\n",
      "***_input_fn() : Label shape =[1]\n",
      "INFO:tensorflow:Calling model_fn.\n"
     ]
    },
    {
     "name": "stderr",
     "output_type": "stream",
     "text": [
      "I0522 21:09:56.712959 139898093799232 estimator.py:1111] Calling model_fn.\n"
     ]
    },
    {
     "name": "stdout",
     "output_type": "stream",
     "text": [
      "\n",
      "*** NNAdaNetBuilder : NN Type=RNN\n",
      "\n",
      "*** get_tf_head() : feature shape= (28, 28)\n",
      "\n",
      "*** get_tf_head() : feature columns= [NumericColumn(key='images', shape=(28, 28), default_value=None, dtype=tf.float32, normalizer_fn=None)]\n",
      "\n",
      "*** NNAdaNetBuilder : NN Type=RNN\n",
      "\n",
      "*** get_tf_head() : feature shape= (28, 28)\n",
      "\n",
      "*** get_tf_head() : feature columns= [NumericColumn(key='images', shape=(28, 28), default_value=None, dtype=tf.float32, normalizer_fn=None)]\n",
      "INFO:tensorflow:Rebuilding iteration 0\n"
     ]
    },
    {
     "name": "stderr",
     "output_type": "stream",
     "text": [
      "I0522 21:09:56.715942 139898093799232 iteration.py:250] Rebuilding iteration 0\n"
     ]
    },
    {
     "name": "stdout",
     "output_type": "stream",
     "text": [
      "INFO:tensorflow:Rebuilding subnetwork 'RNN_SGRU_layer_2'\n"
     ]
    },
    {
     "name": "stderr",
     "output_type": "stream",
     "text": [
      "I0522 21:09:56.720406 139898093799232 iteration.py:337] Rebuilding subnetwork 'RNN_SGRU_layer_2'\n"
     ]
    },
    {
     "name": "stdout",
     "output_type": "stream",
     "text": [
      "\n",
      "\n",
      "*** build_subnetwork() : features= {'images': <tf.Tensor 'IteratorGetNext:0' shape=(?, 28, 28) dtype=float32>}\n",
      "\n",
      "\n",
      "*** build_subnetwork() : self._feature_columns= [NumericColumn(key='images', shape=(28, 28), default_value=None, dtype=tf.float32, normalizer_fn=None)]\n",
      "\n",
      "\n",
      "*** build_subnetwork() : NN type= RNN / Input layer shape= (?, 784)\n",
      "\n",
      "*** _build_rnn_subnetwork() : output[-1]= Tensor(\"adanet/iteration_0/subnetwork_t0_RNN_SGRU_layer_2/rnn/rnn/multi_rnn_cell/cell_1/gru_cell/add_27:0\", shape=(?, 128), dtype=float32) / Weight= <tf.Variable 'adanet/iteration_0/subnetwork_t0_RNN_SGRU_layer_2/W:0' shape=(128, 10) dtype=float32_ref>\n",
      "\n",
      "***build_subnetwork() / RNN : logits shape= (?, 10)\n",
      "\n",
      "*** build_subnetwork() : last_layer= Tensor(\"adanet/iteration_0/subnetwork_t0_RNN_SGRU_layer_2/dense/BiasAdd:0\", shape=(?, 128), dtype=float32)\n",
      "INFO:tensorflow:*** _build_weighted_subnetwork_helper() : MixtureWeightType= vector\n"
     ]
    },
    {
     "name": "stderr",
     "output_type": "stream",
     "text": [
      "I0522 21:09:57.310055 139898093799232 weighted.py:391] *** _build_weighted_subnetwork_helper() : MixtureWeightType= vector\n"
     ]
    },
    {
     "name": "stdout",
     "output_type": "stream",
     "text": [
      "\n",
      "*** NNAdaNetBuilder : NN Type=RNN\n",
      "\n",
      "*** get_tf_head() : feature shape= (28, 28)\n",
      "\n",
      "*** get_tf_head() : feature columns= [NumericColumn(key='images', shape=(28, 28), default_value=None, dtype=tf.float32, normalizer_fn=None)]\n",
      "\n",
      "*** NNAdaNetBuilder : NN Type=RNN\n",
      "\n",
      "*** get_tf_head() : feature shape= (28, 28)\n",
      "\n",
      "*** get_tf_head() : feature columns= [NumericColumn(key='images', shape=(28, 28), default_value=None, dtype=tf.float32, normalizer_fn=None)]\n",
      "INFO:tensorflow:Rebuilding iteration 1\n"
     ]
    },
    {
     "name": "stderr",
     "output_type": "stream",
     "text": [
      "I0522 21:09:57.422734 139898093799232 iteration.py:250] Rebuilding iteration 1\n"
     ]
    },
    {
     "name": "stdout",
     "output_type": "stream",
     "text": [
      "INFO:tensorflow:Rebuilding subnetwork 'RNN_SGRU_layer_3'\n"
     ]
    },
    {
     "name": "stderr",
     "output_type": "stream",
     "text": [
      "I0522 21:09:57.443417 139898093799232 iteration.py:337] Rebuilding subnetwork 'RNN_SGRU_layer_3'\n"
     ]
    },
    {
     "name": "stdout",
     "output_type": "stream",
     "text": [
      "\n",
      "\n",
      "*** build_subnetwork() : features= {'images': <tf.Tensor 'IteratorGetNext:0' shape=(?, 28, 28) dtype=float32>}\n",
      "\n",
      "\n",
      "*** build_subnetwork() : self._feature_columns= [NumericColumn(key='images', shape=(28, 28), default_value=None, dtype=tf.float32, normalizer_fn=None)]\n",
      "\n",
      "\n",
      "*** build_subnetwork() : NN type= RNN / Input layer shape= (?, 784)\n",
      "\n",
      "*** _build_rnn_subnetwork() : output[-1]= Tensor(\"adanet/iteration_1/subnetwork_t1_RNN_SGRU_layer_3/rnn/rnn/multi_rnn_cell/cell_2/gru_cell/add_27:0\", shape=(?, 128), dtype=float32) / Weight= <tf.Variable 'adanet/iteration_1/subnetwork_t1_RNN_SGRU_layer_3/W:0' shape=(128, 10) dtype=float32_ref>\n",
      "\n",
      "***build_subnetwork() / RNN : logits shape= (?, 10)\n",
      "\n",
      "*** build_subnetwork() : last_layer= Tensor(\"adanet/iteration_1/subnetwork_t1_RNN_SGRU_layer_3/dense/BiasAdd:0\", shape=(?, 128), dtype=float32)\n",
      "WARNING:tensorflow:Using an `adanet.subnetwork.Builder#prune_previous_ensemble` is deprecated. Please use a custom `adanet.ensemble.Strategy` instead.\n"
     ]
    },
    {
     "name": "stderr",
     "output_type": "stream",
     "text": [
      "W0522 21:09:58.278141 139898093799232 tf_logging.py:161] Using an `adanet.subnetwork.Builder#prune_previous_ensemble` is deprecated. Please use a custom `adanet.ensemble.Strategy` instead.\n"
     ]
    },
    {
     "name": "stdout",
     "output_type": "stream",
     "text": [
      "INFO:tensorflow:*** _build_weighted_subnetwork_helper() : MixtureWeightType= vector\n"
     ]
    },
    {
     "name": "stderr",
     "output_type": "stream",
     "text": [
      "I0522 21:09:58.281989 139898093799232 weighted.py:391] *** _build_weighted_subnetwork_helper() : MixtureWeightType= vector\n"
     ]
    },
    {
     "name": "stdout",
     "output_type": "stream",
     "text": [
      "INFO:tensorflow:*** _build_weighted_subnetwork_helper() : MixtureWeightType= vector\n"
     ]
    },
    {
     "name": "stderr",
     "output_type": "stream",
     "text": [
      "I0522 21:09:58.288184 139898093799232 weighted.py:391] *** _build_weighted_subnetwork_helper() : MixtureWeightType= vector\n"
     ]
    },
    {
     "name": "stdout",
     "output_type": "stream",
     "text": [
      "\n",
      "*** NNAdaNetBuilder : NN Type=RNN\n",
      "\n",
      "*** get_tf_head() : feature shape= (28, 28)\n",
      "\n",
      "*** get_tf_head() : feature columns= [NumericColumn(key='images', shape=(28, 28), default_value=None, dtype=tf.float32, normalizer_fn=None)]\n",
      "\n",
      "*** NNAdaNetBuilder : NN Type=RNN\n",
      "\n",
      "*** get_tf_head() : feature shape= (28, 28)\n",
      "\n",
      "*** get_tf_head() : feature columns= [NumericColumn(key='images', shape=(28, 28), default_value=None, dtype=tf.float32, normalizer_fn=None)]\n",
      "INFO:tensorflow:Building iteration 2\n"
     ]
    },
    {
     "name": "stderr",
     "output_type": "stream",
     "text": [
      "I0522 21:09:58.426159 139898093799232 iteration.py:250] Building iteration 2\n"
     ]
    },
    {
     "name": "stdout",
     "output_type": "stream",
     "text": [
      "INFO:tensorflow:Building subnetwork 'RNN_SGRU_layer_3'\n"
     ]
    },
    {
     "name": "stderr",
     "output_type": "stream",
     "text": [
      "I0522 21:09:58.447283 139898093799232 iteration.py:337] Building subnetwork 'RNN_SGRU_layer_3'\n"
     ]
    },
    {
     "name": "stdout",
     "output_type": "stream",
     "text": [
      "\n",
      "\n",
      "*** build_subnetwork() : features= {'images': <tf.Tensor 'IteratorGetNext:0' shape=(?, 28, 28) dtype=float32>}\n",
      "\n",
      "\n",
      "*** build_subnetwork() : self._feature_columns= [NumericColumn(key='images', shape=(28, 28), default_value=None, dtype=tf.float32, normalizer_fn=None)]\n",
      "\n",
      "\n",
      "*** build_subnetwork() : NN type= RNN / Input layer shape= (?, 784)\n",
      "\n",
      "*** _build_rnn_subnetwork() : output[-1]= Tensor(\"adanet/iteration_2/subnetwork_t2_RNN_SGRU_layer_3/rnn/rnn/multi_rnn_cell/cell_2/gru_cell/add_27:0\", shape=(?, 128), dtype=float32) / Weight= <tf.Variable 'adanet/iteration_2/subnetwork_t2_RNN_SGRU_layer_3/W:0' shape=(128, 10) dtype=float32_ref>\n",
      "\n",
      "***build_subnetwork() / RNN : logits shape= (?, 10)\n",
      "\n",
      "*** build_subnetwork() : last_layer= Tensor(\"adanet/iteration_2/subnetwork_t2_RNN_SGRU_layer_3/dense/BiasAdd:0\", shape=(?, 128), dtype=float32)\n",
      "INFO:tensorflow:Building subnetwork 'RNN_SGRU_layer_4'\n"
     ]
    },
    {
     "name": "stderr",
     "output_type": "stream",
     "text": [
      "I0522 21:10:04.339463 139898093799232 iteration.py:337] Building subnetwork 'RNN_SGRU_layer_4'\n"
     ]
    },
    {
     "name": "stdout",
     "output_type": "stream",
     "text": [
      "\n",
      "\n",
      "*** build_subnetwork() : features= {'images': <tf.Tensor 'IteratorGetNext:0' shape=(?, 28, 28) dtype=float32>}\n",
      "\n",
      "\n",
      "*** build_subnetwork() : self._feature_columns= [NumericColumn(key='images', shape=(28, 28), default_value=None, dtype=tf.float32, normalizer_fn=None)]\n",
      "\n",
      "\n",
      "*** build_subnetwork() : NN type= RNN / Input layer shape= (?, 784)\n",
      "\n",
      "*** _build_rnn_subnetwork() : output[-1]= Tensor(\"adanet/iteration_2/subnetwork_t2_RNN_SGRU_layer_4/rnn/rnn/multi_rnn_cell/cell_3/gru_cell/add_27:0\", shape=(?, 128), dtype=float32) / Weight= <tf.Variable 'adanet/iteration_2/subnetwork_t2_RNN_SGRU_layer_4/W:0' shape=(128, 10) dtype=float32_ref>\n",
      "\n",
      "***build_subnetwork() / RNN : logits shape= (?, 10)\n",
      "\n",
      "*** build_subnetwork() : last_layer= Tensor(\"adanet/iteration_2/subnetwork_t2_RNN_SGRU_layer_4/dense/BiasAdd:0\", shape=(?, 128), dtype=float32)\n",
      "WARNING:tensorflow:Using an `adanet.subnetwork.Builder#prune_previous_ensemble` is deprecated. Please use a custom `adanet.ensemble.Strategy` instead.\n"
     ]
    },
    {
     "name": "stderr",
     "output_type": "stream",
     "text": [
      "W0522 21:10:11.753674 139898093799232 tf_logging.py:161] Using an `adanet.subnetwork.Builder#prune_previous_ensemble` is deprecated. Please use a custom `adanet.ensemble.Strategy` instead.\n"
     ]
    },
    {
     "name": "stdout",
     "output_type": "stream",
     "text": [
      "INFO:tensorflow:*** _build_weighted_subnetwork_helper() : MixtureWeightType= vector\n"
     ]
    },
    {
     "name": "stderr",
     "output_type": "stream",
     "text": [
      "I0522 21:10:11.757879 139898093799232 weighted.py:391] *** _build_weighted_subnetwork_helper() : MixtureWeightType= vector\n"
     ]
    },
    {
     "name": "stdout",
     "output_type": "stream",
     "text": [
      "INFO:tensorflow:*** _build_weighted_subnetwork_helper() : MixtureWeightType= vector\n"
     ]
    },
    {
     "name": "stderr",
     "output_type": "stream",
     "text": [
      "I0522 21:10:11.764065 139898093799232 weighted.py:391] *** _build_weighted_subnetwork_helper() : MixtureWeightType= vector\n"
     ]
    },
    {
     "name": "stdout",
     "output_type": "stream",
     "text": [
      "INFO:tensorflow:*** _build_weighted_subnetwork_helper() : MixtureWeightType= vector\n"
     ]
    },
    {
     "name": "stderr",
     "output_type": "stream",
     "text": [
      "I0522 21:10:11.770167 139898093799232 weighted.py:391] *** _build_weighted_subnetwork_helper() : MixtureWeightType= vector\n"
     ]
    },
    {
     "name": "stdout",
     "output_type": "stream",
     "text": [
      "WARNING:tensorflow:The `build_mixture_weights_train_op` method is deprecated. Please use the `Ensembler#build_train_op` instead.\n"
     ]
    },
    {
     "name": "stderr",
     "output_type": "stream",
     "text": [
      "W0522 21:10:11.835406 139898093799232 tf_logging.py:161] The `build_mixture_weights_train_op` method is deprecated. Please use the `Ensembler#build_train_op` instead.\n"
     ]
    },
    {
     "name": "stdout",
     "output_type": "stream",
     "text": [
      "WARNING:tensorflow:Using an `adanet.subnetwork.Builder#prune_previous_ensemble` is deprecated. Please use a custom `adanet.ensemble.Strategy` instead.\n"
     ]
    },
    {
     "name": "stderr",
     "output_type": "stream",
     "text": [
      "W0522 21:10:11.974030 139898093799232 tf_logging.py:161] Using an `adanet.subnetwork.Builder#prune_previous_ensemble` is deprecated. Please use a custom `adanet.ensemble.Strategy` instead.\n"
     ]
    },
    {
     "name": "stdout",
     "output_type": "stream",
     "text": [
      "INFO:tensorflow:*** _build_weighted_subnetwork_helper() : MixtureWeightType= vector\n"
     ]
    },
    {
     "name": "stderr",
     "output_type": "stream",
     "text": [
      "I0522 21:10:11.978404 139898093799232 weighted.py:391] *** _build_weighted_subnetwork_helper() : MixtureWeightType= vector\n"
     ]
    },
    {
     "name": "stdout",
     "output_type": "stream",
     "text": [
      "INFO:tensorflow:*** _build_weighted_subnetwork_helper() : MixtureWeightType= vector\n"
     ]
    },
    {
     "name": "stderr",
     "output_type": "stream",
     "text": [
      "I0522 21:10:11.985156 139898093799232 weighted.py:391] *** _build_weighted_subnetwork_helper() : MixtureWeightType= vector\n"
     ]
    },
    {
     "name": "stdout",
     "output_type": "stream",
     "text": [
      "INFO:tensorflow:*** _build_weighted_subnetwork_helper() : MixtureWeightType= vector\n"
     ]
    },
    {
     "name": "stderr",
     "output_type": "stream",
     "text": [
      "I0522 21:10:11.991899 139898093799232 weighted.py:391] *** _build_weighted_subnetwork_helper() : MixtureWeightType= vector\n"
     ]
    },
    {
     "name": "stdout",
     "output_type": "stream",
     "text": [
      "WARNING:tensorflow:The `build_mixture_weights_train_op` method is deprecated. Please use the `Ensembler#build_train_op` instead.\n"
     ]
    },
    {
     "name": "stderr",
     "output_type": "stream",
     "text": [
      "W0522 21:10:12.060572 139898093799232 tf_logging.py:161] The `build_mixture_weights_train_op` method is deprecated. Please use the `Ensembler#build_train_op` instead.\n"
     ]
    },
    {
     "name": "stdout",
     "output_type": "stream",
     "text": [
      "INFO:tensorflow:Done calling model_fn.\n"
     ]
    },
    {
     "name": "stderr",
     "output_type": "stream",
     "text": [
      "I0522 21:10:12.236410 139898093799232 estimator.py:1113] Done calling model_fn.\n"
     ]
    },
    {
     "name": "stdout",
     "output_type": "stream",
     "text": [
      "INFO:tensorflow:Create CheckpointSaverHook.\n"
     ]
    },
    {
     "name": "stderr",
     "output_type": "stream",
     "text": [
      "I0522 21:10:12.237341 139898093799232 basic_session_run_hooks.py:527] Create CheckpointSaverHook.\n"
     ]
    },
    {
     "name": "stdout",
     "output_type": "stream",
     "text": [
      "INFO:tensorflow:Graph was finalized.\n"
     ]
    },
    {
     "name": "stderr",
     "output_type": "stream",
     "text": [
      "I0522 21:10:19.481972 139898093799232 monitored_session.py:222] Graph was finalized.\n"
     ]
    },
    {
     "name": "stdout",
     "output_type": "stream",
     "text": [
      "INFO:tensorflow:Running local_init_op.\n"
     ]
    },
    {
     "name": "stderr",
     "output_type": "stream",
     "text": [
      "I0522 21:10:20.555350 139898093799232 session_manager.py:491] Running local_init_op.\n"
     ]
    },
    {
     "name": "stdout",
     "output_type": "stream",
     "text": [
      "INFO:tensorflow:Done running local_init_op.\n"
     ]
    },
    {
     "name": "stderr",
     "output_type": "stream",
     "text": [
      "I0522 21:10:20.805362 139898093799232 session_manager.py:493] Done running local_init_op.\n"
     ]
    },
    {
     "name": "stdout",
     "output_type": "stream",
     "text": [
      "INFO:tensorflow:Saving checkpoints for 0 into ./tmp/adanet/SGRU/temp_model_dir/model.ckpt.\n"
     ]
    },
    {
     "name": "stderr",
     "output_type": "stream",
     "text": [
      "I0522 21:10:29.333662 139898093799232 basic_session_run_hooks.py:594] Saving checkpoints for 0 into ./tmp/adanet/SGRU/temp_model_dir/model.ckpt.\n"
     ]
    },
    {
     "name": "stdout",
     "output_type": "stream",
     "text": [
      "INFO:tensorflow:Restoring parameters from ./tmp/adanet/SGRU/model.ckpt-14\n"
     ]
    },
    {
     "name": "stderr",
     "output_type": "stream",
     "text": [
      "I0522 21:10:30.908847 139898093799232 saver.py:1270] Restoring parameters from ./tmp/adanet/SGRU/model.ckpt-14\n"
     ]
    },
    {
     "name": "stdout",
     "output_type": "stream",
     "text": [
      "INFO:tensorflow:loss = 2.1703777, step = 15\n"
     ]
    },
    {
     "name": "stderr",
     "output_type": "stream",
     "text": [
      "I0522 21:10:34.582227 139898093799232 basic_session_run_hooks.py:249] loss = 2.1703777, step = 15\n"
     ]
    },
    {
     "name": "stdout",
     "output_type": "stream",
     "text": [
      "INFO:tensorflow:Saving checkpoints for 15 into ./tmp/adanet/SGRU/temp_model_dir/model.ckpt.\n"
     ]
    },
    {
     "name": "stderr",
     "output_type": "stream",
     "text": [
      "I0522 21:10:34.583568 139898093799232 basic_session_run_hooks.py:594] Saving checkpoints for 15 into ./tmp/adanet/SGRU/temp_model_dir/model.ckpt.\n"
     ]
    },
    {
     "name": "stdout",
     "output_type": "stream",
     "text": [
      "INFO:tensorflow:Loss for final step: 2.1703777.\n"
     ]
    },
    {
     "name": "stderr",
     "output_type": "stream",
     "text": [
      "I0522 21:10:35.728448 139898093799232 estimator.py:359] Loss for final step: 2.1703777.\n"
     ]
    },
    {
     "name": "stdout",
     "output_type": "stream",
     "text": [
      "\n",
      "*** input_fn() : feature_shape= (28, 28) / label_shape= [1]\n",
      "\n",
      "*** preprocess_image() : image shape= (28, 28)\n",
      "\n",
      "*** preprocess_image() : features= {'images': <tf.Tensor 'arg0:0' shape=(28, 28) dtype=float32>} / label shape= ()\n",
      "\n",
      "***_input_fn() : Label shape =[1]\n",
      "INFO:tensorflow:Calling model_fn.\n"
     ]
    },
    {
     "name": "stderr",
     "output_type": "stream",
     "text": [
      "I0522 21:10:35.996877 139898093799232 estimator.py:1111] Calling model_fn.\n"
     ]
    },
    {
     "name": "stdout",
     "output_type": "stream",
     "text": [
      "\n",
      "*** NNAdaNetBuilder : NN Type=RNN\n",
      "\n",
      "*** get_tf_head() : feature shape= (28, 28)\n",
      "\n",
      "*** get_tf_head() : feature columns= [NumericColumn(key='images', shape=(28, 28), default_value=None, dtype=tf.float32, normalizer_fn=None)]\n",
      "\n",
      "*** NNAdaNetBuilder : NN Type=RNN\n",
      "\n",
      "*** get_tf_head() : feature shape= (28, 28)\n",
      "\n",
      "*** get_tf_head() : feature columns= [NumericColumn(key='images', shape=(28, 28), default_value=None, dtype=tf.float32, normalizer_fn=None)]\n",
      "INFO:tensorflow:Rebuilding iteration 0\n"
     ]
    },
    {
     "name": "stderr",
     "output_type": "stream",
     "text": [
      "I0522 21:10:36.000762 139898093799232 iteration.py:250] Rebuilding iteration 0\n"
     ]
    },
    {
     "name": "stdout",
     "output_type": "stream",
     "text": [
      "INFO:tensorflow:Rebuilding subnetwork 'RNN_SGRU_layer_2'\n"
     ]
    },
    {
     "name": "stderr",
     "output_type": "stream",
     "text": [
      "I0522 21:10:36.005576 139898093799232 iteration.py:337] Rebuilding subnetwork 'RNN_SGRU_layer_2'\n"
     ]
    },
    {
     "name": "stdout",
     "output_type": "stream",
     "text": [
      "\n",
      "\n",
      "*** build_subnetwork() : features= {'images': <tf.Tensor 'IteratorGetNext:0' shape=(?, 28, 28) dtype=float32>}\n",
      "\n",
      "\n",
      "*** build_subnetwork() : self._feature_columns= [NumericColumn(key='images', shape=(28, 28), default_value=None, dtype=tf.float32, normalizer_fn=None)]\n",
      "\n",
      "\n",
      "*** build_subnetwork() : NN type= RNN / Input layer shape= (?, 784)\n",
      "\n",
      "*** _build_rnn_subnetwork() : output[-1]= Tensor(\"adanet/iteration_0/subnetwork_t0_RNN_SGRU_layer_2/rnn/rnn/multi_rnn_cell/cell_1/gru_cell/add_27:0\", shape=(?, 128), dtype=float32) / Weight= <tf.Variable 'adanet/iteration_0/subnetwork_t0_RNN_SGRU_layer_2/W:0' shape=(128, 10) dtype=float32_ref>\n",
      "\n",
      "***build_subnetwork() / RNN : logits shape= (?, 10)\n",
      "\n",
      "*** build_subnetwork() : last_layer= Tensor(\"adanet/iteration_0/subnetwork_t0_RNN_SGRU_layer_2/dense/BiasAdd:0\", shape=(?, 128), dtype=float32)\n",
      "INFO:tensorflow:*** _build_weighted_subnetwork_helper() : MixtureWeightType= vector\n"
     ]
    },
    {
     "name": "stderr",
     "output_type": "stream",
     "text": [
      "I0522 21:10:36.654122 139898093799232 weighted.py:391] *** _build_weighted_subnetwork_helper() : MixtureWeightType= vector\n"
     ]
    },
    {
     "name": "stdout",
     "output_type": "stream",
     "text": [
      "\n",
      "*** NNAdaNetBuilder : NN Type=RNN\n",
      "\n",
      "*** get_tf_head() : feature shape= (28, 28)\n",
      "\n",
      "*** get_tf_head() : feature columns= [NumericColumn(key='images', shape=(28, 28), default_value=None, dtype=tf.float32, normalizer_fn=None)]\n",
      "\n",
      "*** NNAdaNetBuilder : NN Type=RNN\n",
      "\n",
      "*** get_tf_head() : feature shape= (28, 28)\n",
      "\n",
      "*** get_tf_head() : feature columns= [NumericColumn(key='images', shape=(28, 28), default_value=None, dtype=tf.float32, normalizer_fn=None)]\n",
      "INFO:tensorflow:Rebuilding iteration 1\n"
     ]
    },
    {
     "name": "stderr",
     "output_type": "stream",
     "text": [
      "I0522 21:10:36.781782 139898093799232 iteration.py:250] Rebuilding iteration 1\n"
     ]
    },
    {
     "name": "stdout",
     "output_type": "stream",
     "text": [
      "INFO:tensorflow:Rebuilding subnetwork 'RNN_SGRU_layer_3'\n"
     ]
    },
    {
     "name": "stderr",
     "output_type": "stream",
     "text": [
      "I0522 21:10:36.807926 139898093799232 iteration.py:337] Rebuilding subnetwork 'RNN_SGRU_layer_3'\n"
     ]
    },
    {
     "name": "stdout",
     "output_type": "stream",
     "text": [
      "\n",
      "\n",
      "*** build_subnetwork() : features= {'images': <tf.Tensor 'IteratorGetNext:0' shape=(?, 28, 28) dtype=float32>}\n",
      "\n",
      "\n",
      "*** build_subnetwork() : self._feature_columns= [NumericColumn(key='images', shape=(28, 28), default_value=None, dtype=tf.float32, normalizer_fn=None)]\n",
      "\n",
      "\n",
      "*** build_subnetwork() : NN type= RNN / Input layer shape= (?, 784)\n",
      "\n",
      "*** _build_rnn_subnetwork() : output[-1]= Tensor(\"adanet/iteration_1/subnetwork_t1_RNN_SGRU_layer_3/rnn/rnn/multi_rnn_cell/cell_2/gru_cell/add_27:0\", shape=(?, 128), dtype=float32) / Weight= <tf.Variable 'adanet/iteration_1/subnetwork_t1_RNN_SGRU_layer_3/W:0' shape=(128, 10) dtype=float32_ref>\n",
      "\n",
      "***build_subnetwork() / RNN : logits shape= (?, 10)\n",
      "\n",
      "*** build_subnetwork() : last_layer= Tensor(\"adanet/iteration_1/subnetwork_t1_RNN_SGRU_layer_3/dense/BiasAdd:0\", shape=(?, 128), dtype=float32)\n",
      "WARNING:tensorflow:Using an `adanet.subnetwork.Builder#prune_previous_ensemble` is deprecated. Please use a custom `adanet.ensemble.Strategy` instead.\n"
     ]
    },
    {
     "name": "stderr",
     "output_type": "stream",
     "text": [
      "W0522 21:10:37.740724 139898093799232 tf_logging.py:161] Using an `adanet.subnetwork.Builder#prune_previous_ensemble` is deprecated. Please use a custom `adanet.ensemble.Strategy` instead.\n"
     ]
    },
    {
     "name": "stdout",
     "output_type": "stream",
     "text": [
      "INFO:tensorflow:*** _build_weighted_subnetwork_helper() : MixtureWeightType= vector\n"
     ]
    },
    {
     "name": "stderr",
     "output_type": "stream",
     "text": [
      "I0522 21:10:37.745322 139898093799232 weighted.py:391] *** _build_weighted_subnetwork_helper() : MixtureWeightType= vector\n"
     ]
    },
    {
     "name": "stdout",
     "output_type": "stream",
     "text": [
      "INFO:tensorflow:*** _build_weighted_subnetwork_helper() : MixtureWeightType= vector\n"
     ]
    },
    {
     "name": "stderr",
     "output_type": "stream",
     "text": [
      "I0522 21:10:37.752870 139898093799232 weighted.py:391] *** _build_weighted_subnetwork_helper() : MixtureWeightType= vector\n"
     ]
    },
    {
     "name": "stdout",
     "output_type": "stream",
     "text": [
      "\n",
      "*** NNAdaNetBuilder : NN Type=RNN\n",
      "\n",
      "*** get_tf_head() : feature shape= (28, 28)\n",
      "\n",
      "*** get_tf_head() : feature columns= [NumericColumn(key='images', shape=(28, 28), default_value=None, dtype=tf.float32, normalizer_fn=None)]\n",
      "\n",
      "*** NNAdaNetBuilder : NN Type=RNN\n",
      "\n",
      "*** get_tf_head() : feature shape= (28, 28)\n",
      "\n",
      "*** get_tf_head() : feature columns= [NumericColumn(key='images', shape=(28, 28), default_value=None, dtype=tf.float32, normalizer_fn=None)]\n",
      "INFO:tensorflow:Building iteration 2\n"
     ]
    },
    {
     "name": "stderr",
     "output_type": "stream",
     "text": [
      "I0522 21:10:37.913076 139898093799232 iteration.py:250] Building iteration 2\n"
     ]
    },
    {
     "name": "stdout",
     "output_type": "stream",
     "text": [
      "INFO:tensorflow:Building subnetwork 'RNN_SGRU_layer_3'\n"
     ]
    },
    {
     "name": "stderr",
     "output_type": "stream",
     "text": [
      "I0522 21:10:37.934594 139898093799232 iteration.py:337] Building subnetwork 'RNN_SGRU_layer_3'\n"
     ]
    },
    {
     "name": "stdout",
     "output_type": "stream",
     "text": [
      "\n",
      "\n",
      "*** build_subnetwork() : features= {'images': <tf.Tensor 'IteratorGetNext:0' shape=(?, 28, 28) dtype=float32>}\n",
      "\n",
      "\n",
      "*** build_subnetwork() : self._feature_columns= [NumericColumn(key='images', shape=(28, 28), default_value=None, dtype=tf.float32, normalizer_fn=None)]\n",
      "\n",
      "\n",
      "*** build_subnetwork() : NN type= RNN / Input layer shape= (?, 784)\n",
      "\n",
      "*** _build_rnn_subnetwork() : output[-1]= Tensor(\"adanet/iteration_2/subnetwork_t2_RNN_SGRU_layer_3/rnn/rnn/multi_rnn_cell/cell_2/gru_cell/add_27:0\", shape=(?, 128), dtype=float32) / Weight= <tf.Variable 'adanet/iteration_2/subnetwork_t2_RNN_SGRU_layer_3/W:0' shape=(128, 10) dtype=float32_ref>\n",
      "\n",
      "***build_subnetwork() / RNN : logits shape= (?, 10)\n",
      "\n",
      "*** build_subnetwork() : last_layer= Tensor(\"adanet/iteration_2/subnetwork_t2_RNN_SGRU_layer_3/dense/BiasAdd:0\", shape=(?, 128), dtype=float32)\n",
      "INFO:tensorflow:Building subnetwork 'RNN_SGRU_layer_4'\n"
     ]
    },
    {
     "name": "stderr",
     "output_type": "stream",
     "text": [
      "I0522 21:10:44.396643 139898093799232 iteration.py:337] Building subnetwork 'RNN_SGRU_layer_4'\n"
     ]
    },
    {
     "name": "stdout",
     "output_type": "stream",
     "text": [
      "\n",
      "\n",
      "*** build_subnetwork() : features= {'images': <tf.Tensor 'IteratorGetNext:0' shape=(?, 28, 28) dtype=float32>}\n",
      "\n",
      "\n",
      "*** build_subnetwork() : self._feature_columns= [NumericColumn(key='images', shape=(28, 28), default_value=None, dtype=tf.float32, normalizer_fn=None)]\n",
      "\n",
      "\n",
      "*** build_subnetwork() : NN type= RNN / Input layer shape= (?, 784)\n",
      "\n",
      "*** _build_rnn_subnetwork() : output[-1]= Tensor(\"adanet/iteration_2/subnetwork_t2_RNN_SGRU_layer_4/rnn/rnn/multi_rnn_cell/cell_3/gru_cell/add_27:0\", shape=(?, 128), dtype=float32) / Weight= <tf.Variable 'adanet/iteration_2/subnetwork_t2_RNN_SGRU_layer_4/W:0' shape=(128, 10) dtype=float32_ref>\n",
      "\n",
      "***build_subnetwork() / RNN : logits shape= (?, 10)\n",
      "\n",
      "*** build_subnetwork() : last_layer= Tensor(\"adanet/iteration_2/subnetwork_t2_RNN_SGRU_layer_4/dense/BiasAdd:0\", shape=(?, 128), dtype=float32)\n",
      "WARNING:tensorflow:Using an `adanet.subnetwork.Builder#prune_previous_ensemble` is deprecated. Please use a custom `adanet.ensemble.Strategy` instead.\n"
     ]
    },
    {
     "name": "stderr",
     "output_type": "stream",
     "text": [
      "W0522 21:11:11.642763 139898093799232 tf_logging.py:161] Using an `adanet.subnetwork.Builder#prune_previous_ensemble` is deprecated. Please use a custom `adanet.ensemble.Strategy` instead.\n"
     ]
    },
    {
     "name": "stdout",
     "output_type": "stream",
     "text": [
      "INFO:tensorflow:*** _build_weighted_subnetwork_helper() : MixtureWeightType= vector\n"
     ]
    },
    {
     "name": "stderr",
     "output_type": "stream",
     "text": [
      "I0522 21:11:11.655999 139898093799232 weighted.py:391] *** _build_weighted_subnetwork_helper() : MixtureWeightType= vector\n"
     ]
    },
    {
     "name": "stdout",
     "output_type": "stream",
     "text": [
      "INFO:tensorflow:*** _build_weighted_subnetwork_helper() : MixtureWeightType= vector\n"
     ]
    },
    {
     "name": "stderr",
     "output_type": "stream",
     "text": [
      "I0522 21:11:11.675491 139898093799232 weighted.py:391] *** _build_weighted_subnetwork_helper() : MixtureWeightType= vector\n"
     ]
    },
    {
     "name": "stdout",
     "output_type": "stream",
     "text": [
      "INFO:tensorflow:*** _build_weighted_subnetwork_helper() : MixtureWeightType= vector\n"
     ]
    },
    {
     "name": "stderr",
     "output_type": "stream",
     "text": [
      "I0522 21:11:11.696502 139898093799232 weighted.py:391] *** _build_weighted_subnetwork_helper() : MixtureWeightType= vector\n"
     ]
    },
    {
     "name": "stdout",
     "output_type": "stream",
     "text": [
      "WARNING:tensorflow:The `build_mixture_weights_train_op` method is deprecated. Please use the `Ensembler#build_train_op` instead.\n"
     ]
    },
    {
     "name": "stderr",
     "output_type": "stream",
     "text": [
      "W0522 21:11:11.913468 139898093799232 tf_logging.py:161] The `build_mixture_weights_train_op` method is deprecated. Please use the `Ensembler#build_train_op` instead.\n"
     ]
    },
    {
     "name": "stdout",
     "output_type": "stream",
     "text": [
      "WARNING:tensorflow:Using an `adanet.subnetwork.Builder#prune_previous_ensemble` is deprecated. Please use a custom `adanet.ensemble.Strategy` instead.\n"
     ]
    },
    {
     "name": "stderr",
     "output_type": "stream",
     "text": [
      "W0522 21:11:12.353854 139898093799232 tf_logging.py:161] Using an `adanet.subnetwork.Builder#prune_previous_ensemble` is deprecated. Please use a custom `adanet.ensemble.Strategy` instead.\n"
     ]
    },
    {
     "name": "stdout",
     "output_type": "stream",
     "text": [
      "INFO:tensorflow:*** _build_weighted_subnetwork_helper() : MixtureWeightType= vector\n"
     ]
    },
    {
     "name": "stderr",
     "output_type": "stream",
     "text": [
      "I0522 21:11:12.365265 139898093799232 weighted.py:391] *** _build_weighted_subnetwork_helper() : MixtureWeightType= vector\n"
     ]
    },
    {
     "name": "stdout",
     "output_type": "stream",
     "text": [
      "INFO:tensorflow:*** _build_weighted_subnetwork_helper() : MixtureWeightType= vector\n"
     ]
    },
    {
     "name": "stderr",
     "output_type": "stream",
     "text": [
      "I0522 21:11:12.383706 139898093799232 weighted.py:391] *** _build_weighted_subnetwork_helper() : MixtureWeightType= vector\n"
     ]
    },
    {
     "name": "stdout",
     "output_type": "stream",
     "text": [
      "INFO:tensorflow:*** _build_weighted_subnetwork_helper() : MixtureWeightType= vector\n"
     ]
    },
    {
     "name": "stderr",
     "output_type": "stream",
     "text": [
      "I0522 21:11:12.404644 139898093799232 weighted.py:391] *** _build_weighted_subnetwork_helper() : MixtureWeightType= vector\n"
     ]
    },
    {
     "name": "stdout",
     "output_type": "stream",
     "text": [
      "WARNING:tensorflow:The `build_mixture_weights_train_op` method is deprecated. Please use the `Ensembler#build_train_op` instead.\n"
     ]
    },
    {
     "name": "stderr",
     "output_type": "stream",
     "text": [
      "W0522 21:11:12.604747 139898093799232 tf_logging.py:161] The `build_mixture_weights_train_op` method is deprecated. Please use the `Ensembler#build_train_op` instead.\n"
     ]
    },
    {
     "name": "stdout",
     "output_type": "stream",
     "text": [
      "INFO:tensorflow:Done calling model_fn.\n"
     ]
    },
    {
     "name": "stderr",
     "output_type": "stream",
     "text": [
      "I0522 21:11:13.130520 139898093799232 estimator.py:1113] Done calling model_fn.\n"
     ]
    },
    {
     "name": "stdout",
     "output_type": "stream",
     "text": [
      "INFO:tensorflow:Create CheckpointSaverHook.\n"
     ]
    },
    {
     "name": "stderr",
     "output_type": "stream",
     "text": [
      "I0522 21:11:13.133066 139898093799232 basic_session_run_hooks.py:527] Create CheckpointSaverHook.\n"
     ]
    },
    {
     "name": "stdout",
     "output_type": "stream",
     "text": [
      "INFO:tensorflow:Graph was finalized.\n"
     ]
    },
    {
     "name": "stderr",
     "output_type": "stream",
     "text": [
      "I0522 21:11:14.127106 139898093799232 monitored_session.py:222] Graph was finalized.\n"
     ]
    },
    {
     "name": "stdout",
     "output_type": "stream",
     "text": [
      "INFO:tensorflow:Restoring parameters from ./tmp/adanet/SGRU/increment.ckpt-2\n"
     ]
    },
    {
     "name": "stderr",
     "output_type": "stream",
     "text": [
      "I0522 21:11:14.133337 139898093799232 saver.py:1270] Restoring parameters from ./tmp/adanet/SGRU/increment.ckpt-2\n"
     ]
    },
    {
     "name": "stdout",
     "output_type": "stream",
     "text": [
      "INFO:tensorflow:Running local_init_op.\n"
     ]
    },
    {
     "name": "stderr",
     "output_type": "stream",
     "text": [
      "I0522 21:11:16.275717 139898093799232 session_manager.py:491] Running local_init_op.\n"
     ]
    },
    {
     "name": "stdout",
     "output_type": "stream",
     "text": [
      "INFO:tensorflow:Done running local_init_op.\n"
     ]
    },
    {
     "name": "stderr",
     "output_type": "stream",
     "text": [
      "I0522 21:11:16.769005 139898093799232 session_manager.py:493] Done running local_init_op.\n"
     ]
    },
    {
     "name": "stdout",
     "output_type": "stream",
     "text": [
      "INFO:tensorflow:Saving checkpoints for 14 into ./tmp/adanet/SGRU/model.ckpt.\n"
     ]
    },
    {
     "name": "stderr",
     "output_type": "stream",
     "text": [
      "I0522 21:11:37.049878 139898093799232 basic_session_run_hooks.py:594] Saving checkpoints for 14 into ./tmp/adanet/SGRU/model.ckpt.\n"
     ]
    },
    {
     "name": "stdout",
     "output_type": "stream",
     "text": [
      "INFO:tensorflow:loss = 2.1703777, step = 15\n"
     ]
    },
    {
     "name": "stderr",
     "output_type": "stream",
     "text": [
      "I0522 21:11:57.701856 139898093799232 basic_session_run_hooks.py:249] loss = 2.1703777, step = 15\n"
     ]
    },
    {
     "name": "stdout",
     "output_type": "stream",
     "text": [
      "INFO:tensorflow:Saving checkpoints for 21 into ./tmp/adanet/SGRU/model.ckpt.\n"
     ]
    },
    {
     "name": "stderr",
     "output_type": "stream",
     "text": [
      "I0522 21:12:17.082715 139898093799232 basic_session_run_hooks.py:594] Saving checkpoints for 21 into ./tmp/adanet/SGRU/model.ckpt.\n"
     ]
    },
    {
     "name": "stdout",
     "output_type": "stream",
     "text": [
      "WARNING:tensorflow:From /home/bangui/anaconda3/lib/python3.6/site-packages/tensorflow/python/training/saver.py:966: remove_checkpoint (from tensorflow.python.training.checkpoint_management) is deprecated and will be removed in a future version.\n",
      "Instructions for updating:\n",
      "Use standard file APIs to delete files with this prefix.\n"
     ]
    },
    {
     "name": "stderr",
     "output_type": "stream",
     "text": [
      "W0522 21:12:17.121435 139898093799232 deprecation.py:323] From /home/bangui/anaconda3/lib/python3.6/site-packages/tensorflow/python/training/saver.py:966: remove_checkpoint (from tensorflow.python.training.checkpoint_management) is deprecated and will be removed in a future version.\n",
      "Instructions for updating:\n",
      "Use standard file APIs to delete files with this prefix.\n"
     ]
    },
    {
     "name": "stdout",
     "output_type": "stream",
     "text": [
      "\n",
      "*** input_fn() : feature_shape= (28, 28) / label_shape= [1]\n",
      "\n",
      "*** input_fn : TEST / feature_shape= (28, 28)\n",
      "\n",
      "*** preprocess_image() : image shape= (28, 28)\n",
      "\n",
      "*** preprocess_image() : features= {'images': <tf.Tensor 'arg0:0' shape=(28, 28) dtype=float32>} / label shape= ()\n",
      "\n",
      "***_input_fn() : Label shape =[1]\n",
      "INFO:tensorflow:Calling model_fn.\n"
     ]
    },
    {
     "name": "stderr",
     "output_type": "stream",
     "text": [
      "I0522 21:12:20.053333 139898093799232 estimator.py:1111] Calling model_fn.\n"
     ]
    },
    {
     "name": "stdout",
     "output_type": "stream",
     "text": [
      "\n",
      "*** NNAdaNetBuilder : NN Type=RNN\n",
      "\n",
      "*** get_tf_head() : feature shape= (28, 28)\n",
      "\n",
      "*** get_tf_head() : feature columns= [NumericColumn(key='images', shape=(28, 28), default_value=None, dtype=tf.float32, normalizer_fn=None)]\n",
      "\n",
      "*** NNAdaNetBuilder : NN Type=RNN\n",
      "\n",
      "*** get_tf_head() : feature shape= (28, 28)\n",
      "\n",
      "*** get_tf_head() : feature columns= [NumericColumn(key='images', shape=(28, 28), default_value=None, dtype=tf.float32, normalizer_fn=None)]\n",
      "INFO:tensorflow:Rebuilding iteration 0\n"
     ]
    },
    {
     "name": "stderr",
     "output_type": "stream",
     "text": [
      "I0522 21:12:20.061200 139898093799232 iteration.py:250] Rebuilding iteration 0\n"
     ]
    },
    {
     "name": "stdout",
     "output_type": "stream",
     "text": [
      "INFO:tensorflow:Rebuilding subnetwork 'RNN_SGRU_layer_2'\n"
     ]
    },
    {
     "name": "stderr",
     "output_type": "stream",
     "text": [
      "I0522 21:12:20.070219 139898093799232 iteration.py:337] Rebuilding subnetwork 'RNN_SGRU_layer_2'\n"
     ]
    },
    {
     "name": "stdout",
     "output_type": "stream",
     "text": [
      "\n",
      "\n",
      "*** build_subnetwork() : features= {'images': <tf.Tensor 'IteratorGetNext:0' shape=(?, 28, 28) dtype=float32>}\n",
      "\n",
      "\n",
      "*** build_subnetwork() : self._feature_columns= [NumericColumn(key='images', shape=(28, 28), default_value=None, dtype=tf.float32, normalizer_fn=None)]\n",
      "\n",
      "\n",
      "*** build_subnetwork() : NN type= RNN / Input layer shape= (?, 784)\n",
      "\n",
      "*** _build_rnn_subnetwork() : output[-1]= Tensor(\"adanet/iteration_0/subnetwork_t0_RNN_SGRU_layer_2/rnn/rnn/multi_rnn_cell/cell_1/gru_cell/add_27:0\", shape=(?, 128), dtype=float32) / Weight= <tf.Variable 'adanet/iteration_0/subnetwork_t0_RNN_SGRU_layer_2/W:0' shape=(128, 10) dtype=float32_ref>\n",
      "\n",
      "***build_subnetwork() / RNN : logits shape= (?, 10)\n",
      "\n",
      "*** build_subnetwork() : last_layer= Tensor(\"adanet/iteration_0/subnetwork_t0_RNN_SGRU_layer_2/dense/BiasAdd:0\", shape=(?, 128), dtype=float32)\n",
      "INFO:tensorflow:*** _build_weighted_subnetwork_helper() : MixtureWeightType= vector\n"
     ]
    },
    {
     "name": "stderr",
     "output_type": "stream",
     "text": [
      "I0522 21:12:22.933978 139898093799232 weighted.py:391] *** _build_weighted_subnetwork_helper() : MixtureWeightType= vector\n"
     ]
    },
    {
     "name": "stdout",
     "output_type": "stream",
     "text": [
      "\n",
      "*** NNAdaNetBuilder : NN Type=RNN\n",
      "\n",
      "*** get_tf_head() : feature shape= (28, 28)\n",
      "\n",
      "*** get_tf_head() : feature columns= [NumericColumn(key='images', shape=(28, 28), default_value=None, dtype=tf.float32, normalizer_fn=None)]\n",
      "\n",
      "*** NNAdaNetBuilder : NN Type=RNN\n",
      "\n",
      "*** get_tf_head() : feature shape= (28, 28)\n",
      "\n",
      "*** get_tf_head() : feature columns= [NumericColumn(key='images', shape=(28, 28), default_value=None, dtype=tf.float32, normalizer_fn=None)]\n",
      "INFO:tensorflow:Rebuilding iteration 1\n"
     ]
    },
    {
     "name": "stderr",
     "output_type": "stream",
     "text": [
      "I0522 21:12:23.221739 139898093799232 iteration.py:250] Rebuilding iteration 1\n"
     ]
    },
    {
     "name": "stdout",
     "output_type": "stream",
     "text": [
      "INFO:tensorflow:Rebuilding subnetwork 'RNN_SGRU_layer_3'\n"
     ]
    },
    {
     "name": "stderr",
     "output_type": "stream",
     "text": [
      "I0522 21:12:23.279164 139898093799232 iteration.py:337] Rebuilding subnetwork 'RNN_SGRU_layer_3'\n"
     ]
    },
    {
     "name": "stdout",
     "output_type": "stream",
     "text": [
      "\n",
      "\n",
      "*** build_subnetwork() : features= {'images': <tf.Tensor 'IteratorGetNext:0' shape=(?, 28, 28) dtype=float32>}\n",
      "\n",
      "\n",
      "*** build_subnetwork() : self._feature_columns= [NumericColumn(key='images', shape=(28, 28), default_value=None, dtype=tf.float32, normalizer_fn=None)]\n",
      "\n",
      "\n",
      "*** build_subnetwork() : NN type= RNN / Input layer shape= (?, 784)\n",
      "\n",
      "*** _build_rnn_subnetwork() : output[-1]= Tensor(\"adanet/iteration_1/subnetwork_t1_RNN_SGRU_layer_3/rnn/rnn/multi_rnn_cell/cell_2/gru_cell/add_27:0\", shape=(?, 128), dtype=float32) / Weight= <tf.Variable 'adanet/iteration_1/subnetwork_t1_RNN_SGRU_layer_3/W:0' shape=(128, 10) dtype=float32_ref>\n",
      "\n",
      "***build_subnetwork() / RNN : logits shape= (?, 10)\n",
      "\n",
      "*** build_subnetwork() : last_layer= Tensor(\"adanet/iteration_1/subnetwork_t1_RNN_SGRU_layer_3/dense/BiasAdd:0\", shape=(?, 128), dtype=float32)\n",
      "WARNING:tensorflow:Using an `adanet.subnetwork.Builder#prune_previous_ensemble` is deprecated. Please use a custom `adanet.ensemble.Strategy` instead.\n"
     ]
    },
    {
     "name": "stderr",
     "output_type": "stream",
     "text": [
      "W0522 21:12:24.967404 139898093799232 tf_logging.py:161] Using an `adanet.subnetwork.Builder#prune_previous_ensemble` is deprecated. Please use a custom `adanet.ensemble.Strategy` instead.\n"
     ]
    },
    {
     "name": "stdout",
     "output_type": "stream",
     "text": [
      "INFO:tensorflow:*** _build_weighted_subnetwork_helper() : MixtureWeightType= vector\n"
     ]
    },
    {
     "name": "stderr",
     "output_type": "stream",
     "text": [
      "I0522 21:12:24.974645 139898093799232 weighted.py:391] *** _build_weighted_subnetwork_helper() : MixtureWeightType= vector\n"
     ]
    },
    {
     "name": "stdout",
     "output_type": "stream",
     "text": [
      "INFO:tensorflow:*** _build_weighted_subnetwork_helper() : MixtureWeightType= vector\n"
     ]
    },
    {
     "name": "stderr",
     "output_type": "stream",
     "text": [
      "I0522 21:12:24.987565 139898093799232 weighted.py:391] *** _build_weighted_subnetwork_helper() : MixtureWeightType= vector\n"
     ]
    },
    {
     "name": "stdout",
     "output_type": "stream",
     "text": [
      "\n",
      "*** NNAdaNetBuilder : NN Type=RNN\n",
      "\n",
      "*** get_tf_head() : feature shape= (28, 28)\n",
      "\n",
      "*** get_tf_head() : feature columns= [NumericColumn(key='images', shape=(28, 28), default_value=None, dtype=tf.float32, normalizer_fn=None)]\n",
      "\n",
      "*** NNAdaNetBuilder : NN Type=RNN\n",
      "\n",
      "*** get_tf_head() : feature shape= (28, 28)\n",
      "\n",
      "*** get_tf_head() : feature columns= [NumericColumn(key='images', shape=(28, 28), default_value=None, dtype=tf.float32, normalizer_fn=None)]\n",
      "INFO:tensorflow:Building iteration 2\n"
     ]
    },
    {
     "name": "stderr",
     "output_type": "stream",
     "text": [
      "I0522 21:12:25.354445 139898093799232 iteration.py:250] Building iteration 2\n"
     ]
    },
    {
     "name": "stdout",
     "output_type": "stream",
     "text": [
      "INFO:tensorflow:Building subnetwork 'RNN_SGRU_layer_3'\n"
     ]
    },
    {
     "name": "stderr",
     "output_type": "stream",
     "text": [
      "I0522 21:12:25.408348 139898093799232 iteration.py:337] Building subnetwork 'RNN_SGRU_layer_3'\n"
     ]
    },
    {
     "name": "stdout",
     "output_type": "stream",
     "text": [
      "\n",
      "\n",
      "*** build_subnetwork() : features= {'images': <tf.Tensor 'IteratorGetNext:0' shape=(?, 28, 28) dtype=float32>}\n",
      "\n",
      "\n",
      "*** build_subnetwork() : self._feature_columns= [NumericColumn(key='images', shape=(28, 28), default_value=None, dtype=tf.float32, normalizer_fn=None)]\n",
      "\n",
      "\n",
      "*** build_subnetwork() : NN type= RNN / Input layer shape= (?, 784)\n",
      "\n",
      "*** _build_rnn_subnetwork() : output[-1]= Tensor(\"adanet/iteration_2/subnetwork_t2_RNN_SGRU_layer_3/rnn/rnn/multi_rnn_cell/cell_2/gru_cell/add_27:0\", shape=(?, 128), dtype=float32) / Weight= <tf.Variable 'adanet/iteration_2/subnetwork_t2_RNN_SGRU_layer_3/W:0' shape=(128, 10) dtype=float32_ref>\n",
      "\n",
      "***build_subnetwork() / RNN : logits shape= (?, 10)\n",
      "\n",
      "*** build_subnetwork() : last_layer= Tensor(\"adanet/iteration_2/subnetwork_t2_RNN_SGRU_layer_3/dense/BiasAdd:0\", shape=(?, 128), dtype=float32)\n",
      "INFO:tensorflow:Building subnetwork 'RNN_SGRU_layer_4'\n"
     ]
    },
    {
     "name": "stderr",
     "output_type": "stream",
     "text": [
      "I0522 21:12:27.106547 139898093799232 iteration.py:337] Building subnetwork 'RNN_SGRU_layer_4'\n"
     ]
    },
    {
     "name": "stdout",
     "output_type": "stream",
     "text": [
      "\n",
      "\n",
      "*** build_subnetwork() : features= {'images': <tf.Tensor 'IteratorGetNext:0' shape=(?, 28, 28) dtype=float32>}\n",
      "\n",
      "\n",
      "*** build_subnetwork() : self._feature_columns= [NumericColumn(key='images', shape=(28, 28), default_value=None, dtype=tf.float32, normalizer_fn=None)]\n",
      "\n",
      "\n",
      "*** build_subnetwork() : NN type= RNN / Input layer shape= (?, 784)\n",
      "\n",
      "*** _build_rnn_subnetwork() : output[-1]= Tensor(\"adanet/iteration_2/subnetwork_t2_RNN_SGRU_layer_4/rnn/rnn/multi_rnn_cell/cell_3/gru_cell/add_27:0\", shape=(?, 128), dtype=float32) / Weight= <tf.Variable 'adanet/iteration_2/subnetwork_t2_RNN_SGRU_layer_4/W:0' shape=(128, 10) dtype=float32_ref>\n",
      "\n",
      "***build_subnetwork() / RNN : logits shape= (?, 10)\n",
      "\n",
      "*** build_subnetwork() : last_layer= Tensor(\"adanet/iteration_2/subnetwork_t2_RNN_SGRU_layer_4/dense/BiasAdd:0\", shape=(?, 128), dtype=float32)\n",
      "WARNING:tensorflow:Using an `adanet.subnetwork.Builder#prune_previous_ensemble` is deprecated. Please use a custom `adanet.ensemble.Strategy` instead.\n"
     ]
    },
    {
     "name": "stderr",
     "output_type": "stream",
     "text": [
      "W0522 21:12:29.396795 139898093799232 tf_logging.py:161] Using an `adanet.subnetwork.Builder#prune_previous_ensemble` is deprecated. Please use a custom `adanet.ensemble.Strategy` instead.\n"
     ]
    },
    {
     "name": "stdout",
     "output_type": "stream",
     "text": [
      "INFO:tensorflow:*** _build_weighted_subnetwork_helper() : MixtureWeightType= vector\n"
     ]
    },
    {
     "name": "stderr",
     "output_type": "stream",
     "text": [
      "I0522 21:12:29.404054 139898093799232 weighted.py:391] *** _build_weighted_subnetwork_helper() : MixtureWeightType= vector\n"
     ]
    },
    {
     "name": "stdout",
     "output_type": "stream",
     "text": [
      "INFO:tensorflow:*** _build_weighted_subnetwork_helper() : MixtureWeightType= vector\n"
     ]
    },
    {
     "name": "stderr",
     "output_type": "stream",
     "text": [
      "I0522 21:12:29.415725 139898093799232 weighted.py:391] *** _build_weighted_subnetwork_helper() : MixtureWeightType= vector\n"
     ]
    },
    {
     "name": "stdout",
     "output_type": "stream",
     "text": [
      "INFO:tensorflow:*** _build_weighted_subnetwork_helper() : MixtureWeightType= vector\n"
     ]
    },
    {
     "name": "stderr",
     "output_type": "stream",
     "text": [
      "I0522 21:12:29.427265 139898093799232 weighted.py:391] *** _build_weighted_subnetwork_helper() : MixtureWeightType= vector\n"
     ]
    },
    {
     "name": "stdout",
     "output_type": "stream",
     "text": [
      "WARNING:tensorflow:Using an `adanet.subnetwork.Builder#prune_previous_ensemble` is deprecated. Please use a custom `adanet.ensemble.Strategy` instead.\n"
     ]
    },
    {
     "name": "stderr",
     "output_type": "stream",
     "text": [
      "W0522 21:12:29.635755 139898093799232 tf_logging.py:161] Using an `adanet.subnetwork.Builder#prune_previous_ensemble` is deprecated. Please use a custom `adanet.ensemble.Strategy` instead.\n"
     ]
    },
    {
     "name": "stdout",
     "output_type": "stream",
     "text": [
      "INFO:tensorflow:*** _build_weighted_subnetwork_helper() : MixtureWeightType= vector\n"
     ]
    },
    {
     "name": "stderr",
     "output_type": "stream",
     "text": [
      "I0522 21:12:29.643487 139898093799232 weighted.py:391] *** _build_weighted_subnetwork_helper() : MixtureWeightType= vector\n"
     ]
    },
    {
     "name": "stdout",
     "output_type": "stream",
     "text": [
      "INFO:tensorflow:*** _build_weighted_subnetwork_helper() : MixtureWeightType= vector\n"
     ]
    },
    {
     "name": "stderr",
     "output_type": "stream",
     "text": [
      "I0522 21:12:29.659295 139898093799232 weighted.py:391] *** _build_weighted_subnetwork_helper() : MixtureWeightType= vector\n"
     ]
    },
    {
     "name": "stdout",
     "output_type": "stream",
     "text": [
      "INFO:tensorflow:*** _build_weighted_subnetwork_helper() : MixtureWeightType= vector\n"
     ]
    },
    {
     "name": "stderr",
     "output_type": "stream",
     "text": [
      "I0522 21:12:29.674094 139898093799232 weighted.py:391] *** _build_weighted_subnetwork_helper() : MixtureWeightType= vector\n"
     ]
    },
    {
     "name": "stdout",
     "output_type": "stream",
     "text": [
      "INFO:tensorflow:Done calling model_fn.\n"
     ]
    },
    {
     "name": "stderr",
     "output_type": "stream",
     "text": [
      "I0522 21:12:30.138835 139898093799232 estimator.py:1113] Done calling model_fn.\n"
     ]
    },
    {
     "name": "stdout",
     "output_type": "stream",
     "text": [
      "INFO:tensorflow:Starting evaluation at 2019-05-22T19:12:30Z\n"
     ]
    },
    {
     "name": "stderr",
     "output_type": "stream",
     "text": [
      "I0522 21:12:30.173695 139898093799232 evaluation.py:257] Starting evaluation at 2019-05-22T19:12:30Z\n"
     ]
    },
    {
     "name": "stdout",
     "output_type": "stream",
     "text": [
      "INFO:tensorflow:Graph was finalized.\n"
     ]
    },
    {
     "name": "stderr",
     "output_type": "stream",
     "text": [
      "I0522 21:12:30.794969 139898093799232 monitored_session.py:222] Graph was finalized.\n"
     ]
    },
    {
     "name": "stdout",
     "output_type": "stream",
     "text": [
      "INFO:tensorflow:Restoring parameters from ./tmp/adanet/SGRU/model.ckpt-21\n"
     ]
    },
    {
     "name": "stderr",
     "output_type": "stream",
     "text": [
      "I0522 21:12:30.797590 139898093799232 saver.py:1270] Restoring parameters from ./tmp/adanet/SGRU/model.ckpt-21\n"
     ]
    },
    {
     "name": "stdout",
     "output_type": "stream",
     "text": [
      "INFO:tensorflow:Running local_init_op.\n"
     ]
    },
    {
     "name": "stderr",
     "output_type": "stream",
     "text": [
      "I0522 21:12:31.358514 139898093799232 session_manager.py:491] Running local_init_op.\n"
     ]
    },
    {
     "name": "stdout",
     "output_type": "stream",
     "text": [
      "INFO:tensorflow:Done running local_init_op.\n"
     ]
    },
    {
     "name": "stderr",
     "output_type": "stream",
     "text": [
      "I0522 21:12:31.578377 139898093799232 session_manager.py:493] Done running local_init_op.\n"
     ]
    },
    {
     "name": "stdout",
     "output_type": "stream",
     "text": [
      "\n",
      "*** generator() : labels shape= (10000,) / label values= 0\n",
      "INFO:tensorflow:Finished evaluation at 2019-05-22-19:12:56\n"
     ]
    },
    {
     "name": "stderr",
     "output_type": "stream",
     "text": [
      "I0522 21:12:56.285451 139898093799232 evaluation.py:277] Finished evaluation at 2019-05-22-19:12:56\n"
     ]
    },
    {
     "name": "stdout",
     "output_type": "stream",
     "text": [
      "INFO:tensorflow:Saving dict for global step 21: accuracy = 0.4404, average_loss = 2.201158, global_step = 21, loss = 2.2010183\n"
     ]
    },
    {
     "name": "stderr",
     "output_type": "stream",
     "text": [
      "I0522 21:12:56.286896 139898093799232 estimator.py:1979] Saving dict for global step 21: accuracy = 0.4404, average_loss = 2.201158, global_step = 21, loss = 2.2010183\n"
     ]
    },
    {
     "name": "stdout",
     "output_type": "stream",
     "text": [
      "INFO:tensorflow:Saving 'checkpoint_path' summary for global step 21: ./tmp/adanet/SGRU/model.ckpt-21\n"
     ]
    },
    {
     "name": "stderr",
     "output_type": "stream",
     "text": [
      "I0522 21:12:56.289296 139898093799232 estimator.py:2039] Saving 'checkpoint_path' summary for global step 21: ./tmp/adanet/SGRU/model.ckpt-21\n"
     ]
    },
    {
     "name": "stdout",
     "output_type": "stream",
     "text": [
      "INFO:tensorflow:Loss for final step: 2.1976562.\n"
     ]
    },
    {
     "name": "stderr",
     "output_type": "stream",
     "text": [
      "I0522 21:12:56.526645 139898093799232 estimator.py:359] Loss for final step: 2.1976562.\n"
     ]
    },
    {
     "name": "stdout",
     "output_type": "stream",
     "text": [
      "\n",
      "*** input_fn() : feature_shape= (28, 28) / label_shape= [1]\n",
      "\n",
      "*** preprocess_image() : image shape= (28, 28)\n",
      "\n",
      "*** preprocess_image() : features= {'images': <tf.Tensor 'arg0:0' shape=(28, 28) dtype=float32>} / label shape= ()\n",
      "\n",
      "***_input_fn() : Label shape =[1]\n",
      "INFO:tensorflow:Calling model_fn.\n"
     ]
    },
    {
     "name": "stderr",
     "output_type": "stream",
     "text": [
      "I0522 21:12:56.956434 139898093799232 estimator.py:1111] Calling model_fn.\n"
     ]
    },
    {
     "name": "stdout",
     "output_type": "stream",
     "text": [
      "\n",
      "*** NNAdaNetBuilder : NN Type=RNN\n",
      "\n",
      "*** get_tf_head() : feature shape= (28, 28)\n",
      "\n",
      "*** get_tf_head() : feature columns= [NumericColumn(key='images', shape=(28, 28), default_value=None, dtype=tf.float32, normalizer_fn=None)]\n",
      "\n",
      "*** NNAdaNetBuilder : NN Type=RNN\n",
      "\n",
      "*** get_tf_head() : feature shape= (28, 28)\n",
      "\n",
      "*** get_tf_head() : feature columns= [NumericColumn(key='images', shape=(28, 28), default_value=None, dtype=tf.float32, normalizer_fn=None)]\n",
      "INFO:tensorflow:Rebuilding iteration 0\n"
     ]
    },
    {
     "name": "stderr",
     "output_type": "stream",
     "text": [
      "I0522 21:12:56.963151 139898093799232 iteration.py:250] Rebuilding iteration 0\n"
     ]
    },
    {
     "name": "stdout",
     "output_type": "stream",
     "text": [
      "INFO:tensorflow:Rebuilding subnetwork 'RNN_SGRU_layer_2'\n"
     ]
    },
    {
     "name": "stderr",
     "output_type": "stream",
     "text": [
      "I0522 21:12:56.972062 139898093799232 iteration.py:337] Rebuilding subnetwork 'RNN_SGRU_layer_2'\n"
     ]
    },
    {
     "name": "stdout",
     "output_type": "stream",
     "text": [
      "\n",
      "\n",
      "*** build_subnetwork() : features= {'images': <tf.Tensor 'IteratorGetNext:0' shape=(?, 28, 28) dtype=float32>}\n",
      "\n",
      "\n",
      "*** build_subnetwork() : self._feature_columns= [NumericColumn(key='images', shape=(28, 28), default_value=None, dtype=tf.float32, normalizer_fn=None)]\n",
      "\n",
      "\n",
      "*** build_subnetwork() : NN type= RNN / Input layer shape= (?, 784)\n",
      "\n",
      "*** _build_rnn_subnetwork() : output[-1]= Tensor(\"adanet/iteration_0/subnetwork_t0_RNN_SGRU_layer_2/rnn/rnn/multi_rnn_cell/cell_1/gru_cell/add_27:0\", shape=(?, 128), dtype=float32) / Weight= <tf.Variable 'adanet/iteration_0/subnetwork_t0_RNN_SGRU_layer_2/W:0' shape=(128, 10) dtype=float32_ref>\n",
      "\n",
      "***build_subnetwork() / RNN : logits shape= (?, 10)\n",
      "\n",
      "*** build_subnetwork() : last_layer= Tensor(\"adanet/iteration_0/subnetwork_t0_RNN_SGRU_layer_2/dense/BiasAdd:0\", shape=(?, 128), dtype=float32)\n",
      "INFO:tensorflow:*** _build_weighted_subnetwork_helper() : MixtureWeightType= vector\n"
     ]
    },
    {
     "name": "stderr",
     "output_type": "stream",
     "text": [
      "I0522 21:12:58.063072 139898093799232 weighted.py:391] *** _build_weighted_subnetwork_helper() : MixtureWeightType= vector\n"
     ]
    },
    {
     "name": "stdout",
     "output_type": "stream",
     "text": [
      "\n",
      "*** NNAdaNetBuilder : NN Type=RNN\n",
      "\n",
      "*** get_tf_head() : feature shape= (28, 28)\n",
      "\n",
      "*** get_tf_head() : feature columns= [NumericColumn(key='images', shape=(28, 28), default_value=None, dtype=tf.float32, normalizer_fn=None)]\n",
      "\n",
      "*** NNAdaNetBuilder : NN Type=RNN\n",
      "\n",
      "*** get_tf_head() : feature shape= (28, 28)\n",
      "\n",
      "*** get_tf_head() : feature columns= [NumericColumn(key='images', shape=(28, 28), default_value=None, dtype=tf.float32, normalizer_fn=None)]\n",
      "INFO:tensorflow:Rebuilding iteration 1\n"
     ]
    },
    {
     "name": "stderr",
     "output_type": "stream",
     "text": [
      "I0522 21:12:58.325079 139898093799232 iteration.py:250] Rebuilding iteration 1\n"
     ]
    },
    {
     "name": "stdout",
     "output_type": "stream",
     "text": [
      "INFO:tensorflow:Rebuilding subnetwork 'RNN_SGRU_layer_3'\n"
     ]
    },
    {
     "name": "stderr",
     "output_type": "stream",
     "text": [
      "I0522 21:12:58.376246 139898093799232 iteration.py:337] Rebuilding subnetwork 'RNN_SGRU_layer_3'\n"
     ]
    },
    {
     "name": "stdout",
     "output_type": "stream",
     "text": [
      "\n",
      "\n",
      "*** build_subnetwork() : features= {'images': <tf.Tensor 'IteratorGetNext:0' shape=(?, 28, 28) dtype=float32>}\n",
      "\n",
      "\n",
      "*** build_subnetwork() : self._feature_columns= [NumericColumn(key='images', shape=(28, 28), default_value=None, dtype=tf.float32, normalizer_fn=None)]\n",
      "\n",
      "\n",
      "*** build_subnetwork() : NN type= RNN / Input layer shape= (?, 784)\n",
      "\n",
      "*** _build_rnn_subnetwork() : output[-1]= Tensor(\"adanet/iteration_1/subnetwork_t1_RNN_SGRU_layer_3/rnn/rnn/multi_rnn_cell/cell_2/gru_cell/add_27:0\", shape=(?, 128), dtype=float32) / Weight= <tf.Variable 'adanet/iteration_1/subnetwork_t1_RNN_SGRU_layer_3/W:0' shape=(128, 10) dtype=float32_ref>\n",
      "\n",
      "***build_subnetwork() / RNN : logits shape= (?, 10)\n",
      "\n",
      "*** build_subnetwork() : last_layer= Tensor(\"adanet/iteration_1/subnetwork_t1_RNN_SGRU_layer_3/dense/BiasAdd:0\", shape=(?, 128), dtype=float32)\n",
      "WARNING:tensorflow:Using an `adanet.subnetwork.Builder#prune_previous_ensemble` is deprecated. Please use a custom `adanet.ensemble.Strategy` instead.\n"
     ]
    },
    {
     "name": "stderr",
     "output_type": "stream",
     "text": [
      "W0522 21:12:59.910311 139898093799232 tf_logging.py:161] Using an `adanet.subnetwork.Builder#prune_previous_ensemble` is deprecated. Please use a custom `adanet.ensemble.Strategy` instead.\n"
     ]
    },
    {
     "name": "stdout",
     "output_type": "stream",
     "text": [
      "INFO:tensorflow:*** _build_weighted_subnetwork_helper() : MixtureWeightType= vector\n"
     ]
    },
    {
     "name": "stderr",
     "output_type": "stream",
     "text": [
      "I0522 21:12:59.917816 139898093799232 weighted.py:391] *** _build_weighted_subnetwork_helper() : MixtureWeightType= vector\n"
     ]
    },
    {
     "name": "stdout",
     "output_type": "stream",
     "text": [
      "INFO:tensorflow:*** _build_weighted_subnetwork_helper() : MixtureWeightType= vector\n"
     ]
    },
    {
     "name": "stderr",
     "output_type": "stream",
     "text": [
      "I0522 21:12:59.929385 139898093799232 weighted.py:391] *** _build_weighted_subnetwork_helper() : MixtureWeightType= vector\n"
     ]
    },
    {
     "name": "stdout",
     "output_type": "stream",
     "text": [
      "\n",
      "*** NNAdaNetBuilder : NN Type=RNN\n",
      "\n",
      "*** get_tf_head() : feature shape= (28, 28)\n",
      "\n",
      "*** get_tf_head() : feature columns= [NumericColumn(key='images', shape=(28, 28), default_value=None, dtype=tf.float32, normalizer_fn=None)]\n",
      "\n",
      "*** NNAdaNetBuilder : NN Type=RNN\n",
      "\n",
      "*** get_tf_head() : feature shape= (28, 28)\n",
      "\n",
      "*** get_tf_head() : feature columns= [NumericColumn(key='images', shape=(28, 28), default_value=None, dtype=tf.float32, normalizer_fn=None)]\n",
      "INFO:tensorflow:Building iteration 2\n"
     ]
    },
    {
     "name": "stderr",
     "output_type": "stream",
     "text": [
      "I0522 21:13:00.269285 139898093799232 iteration.py:250] Building iteration 2\n"
     ]
    },
    {
     "name": "stdout",
     "output_type": "stream",
     "text": [
      "INFO:tensorflow:Building subnetwork 'RNN_SGRU_layer_3'\n"
     ]
    },
    {
     "name": "stderr",
     "output_type": "stream",
     "text": [
      "I0522 21:13:00.326475 139898093799232 iteration.py:337] Building subnetwork 'RNN_SGRU_layer_3'\n"
     ]
    },
    {
     "name": "stdout",
     "output_type": "stream",
     "text": [
      "\n",
      "\n",
      "*** build_subnetwork() : features= {'images': <tf.Tensor 'IteratorGetNext:0' shape=(?, 28, 28) dtype=float32>}\n",
      "\n",
      "\n",
      "*** build_subnetwork() : self._feature_columns= [NumericColumn(key='images', shape=(28, 28), default_value=None, dtype=tf.float32, normalizer_fn=None)]\n",
      "\n",
      "\n",
      "*** build_subnetwork() : NN type= RNN / Input layer shape= (?, 784)\n",
      "\n",
      "*** _build_rnn_subnetwork() : output[-1]= Tensor(\"adanet/iteration_2/subnetwork_t2_RNN_SGRU_layer_3/rnn/rnn/multi_rnn_cell/cell_2/gru_cell/add_27:0\", shape=(?, 128), dtype=float32) / Weight= <tf.Variable 'adanet/iteration_2/subnetwork_t2_RNN_SGRU_layer_3/W:0' shape=(128, 10) dtype=float32_ref>\n",
      "\n",
      "***build_subnetwork() / RNN : logits shape= (?, 10)\n",
      "\n",
      "*** build_subnetwork() : last_layer= Tensor(\"adanet/iteration_2/subnetwork_t2_RNN_SGRU_layer_3/dense/BiasAdd:0\", shape=(?, 128), dtype=float32)\n",
      "INFO:tensorflow:Building subnetwork 'RNN_SGRU_layer_4'\n"
     ]
    },
    {
     "name": "stderr",
     "output_type": "stream",
     "text": [
      "I0522 21:13:01.880959 139898093799232 iteration.py:337] Building subnetwork 'RNN_SGRU_layer_4'\n"
     ]
    },
    {
     "name": "stdout",
     "output_type": "stream",
     "text": [
      "\n",
      "\n",
      "*** build_subnetwork() : features= {'images': <tf.Tensor 'IteratorGetNext:0' shape=(?, 28, 28) dtype=float32>}\n",
      "\n",
      "\n",
      "*** build_subnetwork() : self._feature_columns= [NumericColumn(key='images', shape=(28, 28), default_value=None, dtype=tf.float32, normalizer_fn=None)]\n",
      "\n",
      "\n",
      "*** build_subnetwork() : NN type= RNN / Input layer shape= (?, 784)\n",
      "\n",
      "*** _build_rnn_subnetwork() : output[-1]= Tensor(\"adanet/iteration_2/subnetwork_t2_RNN_SGRU_layer_4/rnn/rnn/multi_rnn_cell/cell_3/gru_cell/add_27:0\", shape=(?, 128), dtype=float32) / Weight= <tf.Variable 'adanet/iteration_2/subnetwork_t2_RNN_SGRU_layer_4/W:0' shape=(128, 10) dtype=float32_ref>\n",
      "\n",
      "***build_subnetwork() / RNN : logits shape= (?, 10)\n",
      "\n",
      "*** build_subnetwork() : last_layer= Tensor(\"adanet/iteration_2/subnetwork_t2_RNN_SGRU_layer_4/dense/BiasAdd:0\", shape=(?, 128), dtype=float32)\n",
      "WARNING:tensorflow:Using an `adanet.subnetwork.Builder#prune_previous_ensemble` is deprecated. Please use a custom `adanet.ensemble.Strategy` instead.\n"
     ]
    },
    {
     "name": "stderr",
     "output_type": "stream",
     "text": [
      "W0522 21:13:03.821225 139898093799232 tf_logging.py:161] Using an `adanet.subnetwork.Builder#prune_previous_ensemble` is deprecated. Please use a custom `adanet.ensemble.Strategy` instead.\n"
     ]
    },
    {
     "name": "stdout",
     "output_type": "stream",
     "text": [
      "INFO:tensorflow:*** _build_weighted_subnetwork_helper() : MixtureWeightType= vector\n"
     ]
    },
    {
     "name": "stderr",
     "output_type": "stream",
     "text": [
      "I0522 21:13:03.828660 139898093799232 weighted.py:391] *** _build_weighted_subnetwork_helper() : MixtureWeightType= vector\n"
     ]
    },
    {
     "name": "stdout",
     "output_type": "stream",
     "text": [
      "INFO:tensorflow:*** _build_weighted_subnetwork_helper() : MixtureWeightType= vector\n"
     ]
    },
    {
     "name": "stderr",
     "output_type": "stream",
     "text": [
      "I0522 21:13:03.839438 139898093799232 weighted.py:391] *** _build_weighted_subnetwork_helper() : MixtureWeightType= vector\n"
     ]
    },
    {
     "name": "stdout",
     "output_type": "stream",
     "text": [
      "INFO:tensorflow:*** _build_weighted_subnetwork_helper() : MixtureWeightType= vector\n"
     ]
    },
    {
     "name": "stderr",
     "output_type": "stream",
     "text": [
      "I0522 21:13:03.850196 139898093799232 weighted.py:391] *** _build_weighted_subnetwork_helper() : MixtureWeightType= vector\n"
     ]
    },
    {
     "name": "stdout",
     "output_type": "stream",
     "text": [
      "WARNING:tensorflow:Using an `adanet.subnetwork.Builder#prune_previous_ensemble` is deprecated. Please use a custom `adanet.ensemble.Strategy` instead.\n"
     ]
    },
    {
     "name": "stderr",
     "output_type": "stream",
     "text": [
      "W0522 21:13:04.037212 139898093799232 tf_logging.py:161] Using an `adanet.subnetwork.Builder#prune_previous_ensemble` is deprecated. Please use a custom `adanet.ensemble.Strategy` instead.\n"
     ]
    },
    {
     "name": "stdout",
     "output_type": "stream",
     "text": [
      "INFO:tensorflow:*** _build_weighted_subnetwork_helper() : MixtureWeightType= vector\n"
     ]
    },
    {
     "name": "stderr",
     "output_type": "stream",
     "text": [
      "I0522 21:13:04.043584 139898093799232 weighted.py:391] *** _build_weighted_subnetwork_helper() : MixtureWeightType= vector\n"
     ]
    },
    {
     "name": "stdout",
     "output_type": "stream",
     "text": [
      "INFO:tensorflow:*** _build_weighted_subnetwork_helper() : MixtureWeightType= vector\n"
     ]
    },
    {
     "name": "stderr",
     "output_type": "stream",
     "text": [
      "I0522 21:13:04.054458 139898093799232 weighted.py:391] *** _build_weighted_subnetwork_helper() : MixtureWeightType= vector\n"
     ]
    },
    {
     "name": "stdout",
     "output_type": "stream",
     "text": [
      "INFO:tensorflow:*** _build_weighted_subnetwork_helper() : MixtureWeightType= vector\n"
     ]
    },
    {
     "name": "stderr",
     "output_type": "stream",
     "text": [
      "I0522 21:13:04.065042 139898093799232 weighted.py:391] *** _build_weighted_subnetwork_helper() : MixtureWeightType= vector\n"
     ]
    },
    {
     "name": "stdout",
     "output_type": "stream",
     "text": [
      "INFO:tensorflow:Restoring parameters from ./tmp/adanet/SGRU/model.ckpt-21\n"
     ]
    },
    {
     "name": "stderr",
     "output_type": "stream",
     "text": [
      "I0522 21:13:05.193827 139898093799232 saver.py:1270] Restoring parameters from ./tmp/adanet/SGRU/model.ckpt-21\n"
     ]
    },
    {
     "name": "stdout",
     "output_type": "stream",
     "text": [
      "WARNING:tensorflow:`tf.train.start_queue_runners()` was called when no queue runners were defined. You can safely remove the call to this deprecated function.\n"
     ]
    },
    {
     "name": "stderr",
     "output_type": "stream",
     "text": [
      "W0522 21:13:05.583374 139898093799232 queue_runner_impl.py:471] `tf.train.start_queue_runners()` was called when no queue runners were defined. You can safely remove the call to this deprecated function.\n"
     ]
    },
    {
     "name": "stdout",
     "output_type": "stream",
     "text": [
      "\n",
      "*** generator() : labels shape= (55000,) / label values= 3\n",
      "\n",
      "*** generator() : labels shape= (55000,) / label values= 3\n",
      "\n",
      "*** generator() : labels shape= (55000,) / label values= 3\n",
      "\n",
      "*** generator() : labels shape= (55000,) / label values= 3\n",
      "\n",
      "*** generator() : labels shape= (55000,) / label values= 3\n",
      "\n",
      "*** generator() : labels shape= (55000,) / label values= 3\n",
      "\n",
      "*** generator() : labels shape= (55000,) / label values= 3\n",
      "\n",
      "*** generator() : labels shape= (55000,) / label values= 3\n",
      "\n",
      "*** generator() : labels shape= (55000,) / label values= 3\n",
      "\n",
      "*** generator() : labels shape= (55000,) / label values= 3\n",
      "\n",
      "*** generator() : labels shape= (55000,) / label values= 3\n",
      "\n",
      "*** generator() : labels shape= (55000,) / label values= 3\n",
      "\n",
      "*** generator() : labels shape= (55000,) / label values= 3\n",
      "\n",
      "*** generator() : labels shape= (55000,) / label values= 3\n",
      "\n",
      "*** generator() : labels shape= (55000,) / label values= 3\n",
      "\n",
      "*** generator() : labels shape= (55000,) / label values= 3\n",
      "\n",
      "*** generator() : labels shape= (55000,) / label values= 3\n",
      "\n",
      "*** generator() : labels shape= (55000,) / label values= 3\n",
      "\n",
      "*** generator() : labels shape= (55000,) / label values= 3\n",
      "\n",
      "*** generator() : labels shape= (55000,) / label values= 3\n",
      "\n",
      "*** generator() : labels shape= (55000,) / label values= 3\n",
      "\n",
      "*** generator() : labels shape= (55000,) / label values= 3\n",
      "\n",
      "*** generator() : labels shape= (55000,) / label values= 3\n",
      "\n",
      "*** generator() : labels shape= (55000,) / label values= 3\n",
      "\n",
      "*** generator() : labels shape= (55000,) / label values= 3\n",
      "\n",
      "*** generator() : labels shape= (55000,) / label values= 3\n",
      "\n",
      "*** generator() : labels shape= (55000,) / label values= 3\n",
      "\n",
      "*** generator() : labels shape= (55000,) / label values= 3\n",
      "\n",
      "*** generator() : labels shape= (55000,) / label values= 3\n",
      "\n",
      "*** generator() : labels shape= (55000,) / label values= 3\n",
      "\n",
      "*** generator() : labels shape= (55000,) / label values= 3\n",
      "\n",
      "*** generator() : labels shape= (55000,) / label values= 3\n",
      "\n",
      "*** generator() : labels shape= (55000,) / label values= 3\n",
      "\n",
      "*** generator() : labels shape= (55000,) / label values= 3\n",
      "\n",
      "*** generator() : labels shape= (55000,) / label values= 3\n",
      "\n",
      "*** generator() : labels shape= (55000,) / label values= 3\n",
      "\n",
      "*** generator() : labels shape= (55000,) / label values= 3\n",
      "\n",
      "*** generator() : labels shape= (55000,) / label values= 3\n",
      "\n",
      "*** generator() : labels shape= (55000,) / label values= 3\n",
      "\n",
      "*** generator() : labels shape= (55000,) / label values= 3\n",
      "\n",
      "*** generator() : labels shape= (55000,) / label values= 3\n",
      "\n",
      "*** generator() : labels shape= (55000,) / label values= 3\n",
      "\n",
      "*** generator() : labels shape= (55000,) / label values= 3\n",
      "\n",
      "*** generator() : labels shape= (55000,) / label values= 3\n",
      "\n",
      "*** generator() : labels shape= (55000,) / label values= 3\n",
      "\n",
      "*** generator() : labels shape= (55000,) / label values= 3\n",
      "\n",
      "*** generator() : labels shape= (55000,) / label values= 3\n",
      "\n",
      "*** generator() : labels shape= (55000,) / label values= 3\n",
      "\n",
      "*** generator() : labels shape= (55000,) / label values= 3\n",
      "\n",
      "*** generator() : labels shape= (55000,) / label values= 3\n",
      "\n",
      "*** generator() : labels shape= (55000,) / label values= 3\n",
      "\n",
      "*** generator() : labels shape= (55000,) / label values= 3\n",
      "\n",
      "*** generator() : labels shape= (55000,) / label values= 3\n",
      "\n",
      "*** generator() : labels shape= (55000,) / label values= 3\n",
      "\n",
      "*** generator() : labels shape= (55000,) / label values= 3\n",
      "\n",
      "*** generator() : labels shape= (55000,) / label values= 3\n",
      "\n",
      "*** generator() : labels shape= (55000,) / label values= 3\n",
      "\n",
      "*** generator() : labels shape= (55000,) / label values= 3\n",
      "\n",
      "*** generator() : labels shape= (55000,) / label values= 3\n",
      "\n",
      "*** generator() : labels shape= (55000,) / label values= 3\n",
      "\n",
      "*** generator() : labels shape= (55000,) / label values= 3\n",
      "\n",
      "*** generator() : labels shape= (55000,) / label values= 3\n",
      "\n",
      "*** generator() : labels shape= (55000,) / label values= 3\n",
      "\n",
      "*** generator() : labels shape= (55000,) / label values= 3\n",
      "\n",
      "*** generator() : labels shape= (55000,) / label values= 3\n",
      "\n",
      "*** generator() : labels shape= (55000,) / label values= 3\n",
      "\n",
      "*** generator() : labels shape= (55000,) / label values= 3\n",
      "\n",
      "*** generator() : labels shape= (55000,) / label values= 3\n",
      "\n",
      "*** generator() : labels shape= (55000,) / label values= 3\n",
      "\n",
      "*** generator() : labels shape= (55000,) / label values= 3\n",
      "\n",
      "*** generator() : labels shape= (55000,) / label values= 3\n",
      "\n",
      "*** generator() : labels shape= (55000,) / label values= 3\n",
      "\n",
      "*** generator() : labels shape= (55000,) / label values= 3\n",
      "\n",
      "*** generator() : labels shape= (55000,) / label values= 3\n",
      "\n",
      "*** generator() : labels shape= (55000,) / label values= 3\n",
      "\n",
      "*** generator() : labels shape= (55000,) / label values= 3\n",
      "\n",
      "*** generator() : labels shape= (55000,) / label values= 3\n",
      "\n",
      "*** generator() : labels shape= (55000,) / label values= 3\n",
      "\n",
      "*** generator() : labels shape= (55000,) / label values= 3\n",
      "\n",
      "*** generator() : labels shape= (55000,) / label values= 3\n",
      "\n",
      "*** generator() : labels shape= (55000,) / label values= 3\n",
      "\n",
      "*** generator() : labels shape= (55000,) / label values= 3\n",
      "\n",
      "*** generator() : labels shape= (55000,) / label values= 3\n",
      "\n",
      "*** generator() : labels shape= (55000,) / label values= 3\n",
      "\n",
      "*** generator() : labels shape= (55000,) / label values= 3\n",
      "\n",
      "*** generator() : labels shape= (55000,) / label values= 3\n",
      "\n",
      "*** generator() : labels shape= (55000,) / label values= 3\n",
      "\n",
      "*** generator() : labels shape= (55000,) / label values= 3\n",
      "\n",
      "*** generator() : labels shape= (55000,) / label values= 3\n",
      "\n",
      "*** generator() : labels shape= (55000,) / label values= 3\n",
      "\n",
      "*** generator() : labels shape= (55000,) / label values= 3\n",
      "\n",
      "*** generator() : labels shape= (55000,) / label values= 3\n",
      "\n",
      "*** generator() : labels shape= (55000,) / label values= 3\n",
      "\n",
      "*** generator() : labels shape= (55000,) / label values= 3\n",
      "\n",
      "*** generator() : labels shape= (55000,) / label values= 3\n",
      "\n",
      "*** generator() : labels shape= (55000,) / label values= 3\n",
      "\n",
      "*** generator() : labels shape= (55000,) / label values= 3\n",
      "\n",
      "*** generator() : labels shape= (55000,) / label values= 3\n",
      "\n",
      "*** generator() : labels shape= (55000,) / label values= 3\n",
      "\n",
      "*** generator() : labels shape= (55000,) / label values= 3\n",
      "INFO:tensorflow:Done calling model_fn.\n"
     ]
    },
    {
     "name": "stderr",
     "output_type": "stream",
     "text": [
      "I0522 22:08:30.484468 139898093799232 estimator.py:1113] Done calling model_fn.\n"
     ]
    },
    {
     "name": "stdout",
     "output_type": "stream",
     "text": [
      "INFO:tensorflow:Using config: {'_model_dir': './tmp/adanet/SGRU/temp_model_dir', '_tf_random_seed': 42, '_save_summary_steps': 100, '_save_checkpoints_steps': None, '_save_checkpoints_secs': 600, '_session_config': allow_soft_placement: true\n",
      "graph_options {\n",
      "  rewrite_options {\n",
      "    meta_optimizer_iterations: ONE\n",
      "  }\n",
      "}\n",
      ", '_keep_checkpoint_max': 5, '_keep_checkpoint_every_n_hours': 10000, '_log_step_count_steps': 100, '_train_distribute': None, '_device_fn': None, '_protocol': None, '_eval_distribute': None, '_experimental_distribute': None, '_service': None, '_cluster_spec': <tensorflow.python.training.server_lib.ClusterSpec object at 0x7f3ab5afad68>, '_task_type': 'worker', '_task_id': 0, '_global_id_in_cluster': 0, '_master': '', '_evaluation_master': '', '_is_chief': True, '_num_ps_replicas': 0, '_num_worker_replicas': 1}\n"
     ]
    },
    {
     "name": "stderr",
     "output_type": "stream",
     "text": [
      "I0522 22:08:30.486157 139898093799232 estimator.py:201] Using config: {'_model_dir': './tmp/adanet/SGRU/temp_model_dir', '_tf_random_seed': 42, '_save_summary_steps': 100, '_save_checkpoints_steps': None, '_save_checkpoints_secs': 600, '_session_config': allow_soft_placement: true\n",
      "graph_options {\n",
      "  rewrite_options {\n",
      "    meta_optimizer_iterations: ONE\n",
      "  }\n",
      "}\n",
      ", '_keep_checkpoint_max': 5, '_keep_checkpoint_every_n_hours': 10000, '_log_step_count_steps': 100, '_train_distribute': None, '_device_fn': None, '_protocol': None, '_eval_distribute': None, '_experimental_distribute': None, '_service': None, '_cluster_spec': <tensorflow.python.training.server_lib.ClusterSpec object at 0x7f3ab5afad68>, '_task_type': 'worker', '_task_id': 0, '_global_id_in_cluster': 0, '_master': '', '_evaluation_master': '', '_is_chief': True, '_num_ps_replicas': 0, '_num_worker_replicas': 1}\n"
     ]
    },
    {
     "name": "stdout",
     "output_type": "stream",
     "text": [
      "\n",
      "*** input_fn() : feature_shape= (28, 28) / label_shape= [1]\n",
      "\n",
      "*** preprocess_image() : image shape= (28, 28)\n",
      "\n",
      "*** preprocess_image() : features= {'images': <tf.Tensor 'arg0:0' shape=(28, 28) dtype=float32>} / label shape= ()\n",
      "\n",
      "***_input_fn() : Label shape =[1]\n",
      "INFO:tensorflow:Calling model_fn.\n"
     ]
    },
    {
     "name": "stderr",
     "output_type": "stream",
     "text": [
      "I0522 22:08:30.743149 139898093799232 estimator.py:1111] Calling model_fn.\n"
     ]
    },
    {
     "name": "stdout",
     "output_type": "stream",
     "text": [
      "\n",
      "*** NNAdaNetBuilder : NN Type=RNN\n",
      "\n",
      "*** get_tf_head() : feature shape= (28, 28)\n",
      "\n",
      "*** get_tf_head() : feature columns= [NumericColumn(key='images', shape=(28, 28), default_value=None, dtype=tf.float32, normalizer_fn=None)]\n",
      "\n",
      "*** NNAdaNetBuilder : NN Type=RNN\n",
      "\n",
      "*** get_tf_head() : feature shape= (28, 28)\n",
      "\n",
      "*** get_tf_head() : feature columns= [NumericColumn(key='images', shape=(28, 28), default_value=None, dtype=tf.float32, normalizer_fn=None)]\n",
      "INFO:tensorflow:Rebuilding iteration 0\n"
     ]
    },
    {
     "name": "stderr",
     "output_type": "stream",
     "text": [
      "I0522 22:08:30.747218 139898093799232 iteration.py:250] Rebuilding iteration 0\n"
     ]
    },
    {
     "name": "stdout",
     "output_type": "stream",
     "text": [
      "INFO:tensorflow:Rebuilding subnetwork 'RNN_SGRU_layer_2'\n"
     ]
    },
    {
     "name": "stderr",
     "output_type": "stream",
     "text": [
      "I0522 22:08:30.752095 139898093799232 iteration.py:337] Rebuilding subnetwork 'RNN_SGRU_layer_2'\n"
     ]
    },
    {
     "name": "stdout",
     "output_type": "stream",
     "text": [
      "\n",
      "\n",
      "*** build_subnetwork() : features= {'images': <tf.Tensor 'IteratorGetNext:0' shape=(?, 28, 28) dtype=float32>}\n",
      "\n",
      "\n",
      "*** build_subnetwork() : self._feature_columns= [NumericColumn(key='images', shape=(28, 28), default_value=None, dtype=tf.float32, normalizer_fn=None)]\n",
      "\n",
      "\n",
      "*** build_subnetwork() : NN type= RNN / Input layer shape= (?, 784)\n",
      "\n",
      "*** _build_rnn_subnetwork() : output[-1]= Tensor(\"adanet/iteration_0/subnetwork_t0_RNN_SGRU_layer_2/rnn/rnn/multi_rnn_cell/cell_1/gru_cell/add_27:0\", shape=(?, 128), dtype=float32) / Weight= <tf.Variable 'adanet/iteration_0/subnetwork_t0_RNN_SGRU_layer_2/W:0' shape=(128, 10) dtype=float32_ref>\n",
      "\n",
      "***build_subnetwork() / RNN : logits shape= (?, 10)\n",
      "\n",
      "*** build_subnetwork() : last_layer= Tensor(\"adanet/iteration_0/subnetwork_t0_RNN_SGRU_layer_2/dense/BiasAdd:0\", shape=(?, 128), dtype=float32)\n",
      "INFO:tensorflow:*** _build_weighted_subnetwork_helper() : MixtureWeightType= vector\n"
     ]
    },
    {
     "name": "stderr",
     "output_type": "stream",
     "text": [
      "I0522 22:08:31.345761 139898093799232 weighted.py:391] *** _build_weighted_subnetwork_helper() : MixtureWeightType= vector\n"
     ]
    },
    {
     "name": "stdout",
     "output_type": "stream",
     "text": [
      "\n",
      "*** NNAdaNetBuilder : NN Type=RNN\n",
      "\n",
      "*** get_tf_head() : feature shape= (28, 28)\n",
      "\n",
      "*** get_tf_head() : feature columns= [NumericColumn(key='images', shape=(28, 28), default_value=None, dtype=tf.float32, normalizer_fn=None)]\n",
      "\n",
      "*** NNAdaNetBuilder : NN Type=RNN\n",
      "\n",
      "*** get_tf_head() : feature shape= (28, 28)\n",
      "\n",
      "*** get_tf_head() : feature columns= [NumericColumn(key='images', shape=(28, 28), default_value=None, dtype=tf.float32, normalizer_fn=None)]\n",
      "INFO:tensorflow:Rebuilding iteration 1\n"
     ]
    },
    {
     "name": "stderr",
     "output_type": "stream",
     "text": [
      "I0522 22:08:31.457773 139898093799232 iteration.py:250] Rebuilding iteration 1\n"
     ]
    },
    {
     "name": "stdout",
     "output_type": "stream",
     "text": [
      "INFO:tensorflow:Rebuilding subnetwork 'RNN_SGRU_layer_3'\n"
     ]
    },
    {
     "name": "stderr",
     "output_type": "stream",
     "text": [
      "I0522 22:08:31.477918 139898093799232 iteration.py:337] Rebuilding subnetwork 'RNN_SGRU_layer_3'\n"
     ]
    },
    {
     "name": "stdout",
     "output_type": "stream",
     "text": [
      "\n",
      "\n",
      "*** build_subnetwork() : features= {'images': <tf.Tensor 'IteratorGetNext:0' shape=(?, 28, 28) dtype=float32>}\n",
      "\n",
      "\n",
      "*** build_subnetwork() : self._feature_columns= [NumericColumn(key='images', shape=(28, 28), default_value=None, dtype=tf.float32, normalizer_fn=None)]\n",
      "\n",
      "\n",
      "*** build_subnetwork() : NN type= RNN / Input layer shape= (?, 784)\n",
      "\n",
      "*** _build_rnn_subnetwork() : output[-1]= Tensor(\"adanet/iteration_1/subnetwork_t1_RNN_SGRU_layer_3/rnn/rnn/multi_rnn_cell/cell_2/gru_cell/add_27:0\", shape=(?, 128), dtype=float32) / Weight= <tf.Variable 'adanet/iteration_1/subnetwork_t1_RNN_SGRU_layer_3/W:0' shape=(128, 10) dtype=float32_ref>\n",
      "\n",
      "***build_subnetwork() / RNN : logits shape= (?, 10)\n",
      "\n",
      "*** build_subnetwork() : last_layer= Tensor(\"adanet/iteration_1/subnetwork_t1_RNN_SGRU_layer_3/dense/BiasAdd:0\", shape=(?, 128), dtype=float32)\n",
      "WARNING:tensorflow:Using an `adanet.subnetwork.Builder#prune_previous_ensemble` is deprecated. Please use a custom `adanet.ensemble.Strategy` instead.\n"
     ]
    },
    {
     "name": "stderr",
     "output_type": "stream",
     "text": [
      "W0522 22:08:32.308192 139898093799232 tf_logging.py:161] Using an `adanet.subnetwork.Builder#prune_previous_ensemble` is deprecated. Please use a custom `adanet.ensemble.Strategy` instead.\n"
     ]
    },
    {
     "name": "stdout",
     "output_type": "stream",
     "text": [
      "INFO:tensorflow:*** _build_weighted_subnetwork_helper() : MixtureWeightType= vector\n"
     ]
    },
    {
     "name": "stderr",
     "output_type": "stream",
     "text": [
      "I0522 22:08:32.312232 139898093799232 weighted.py:391] *** _build_weighted_subnetwork_helper() : MixtureWeightType= vector\n"
     ]
    },
    {
     "name": "stdout",
     "output_type": "stream",
     "text": [
      "INFO:tensorflow:*** _build_weighted_subnetwork_helper() : MixtureWeightType= vector\n"
     ]
    },
    {
     "name": "stderr",
     "output_type": "stream",
     "text": [
      "I0522 22:08:32.318534 139898093799232 weighted.py:391] *** _build_weighted_subnetwork_helper() : MixtureWeightType= vector\n"
     ]
    },
    {
     "name": "stdout",
     "output_type": "stream",
     "text": [
      "\n",
      "*** NNAdaNetBuilder : NN Type=RNN\n",
      "\n",
      "*** get_tf_head() : feature shape= (28, 28)\n",
      "\n",
      "*** get_tf_head() : feature columns= [NumericColumn(key='images', shape=(28, 28), default_value=None, dtype=tf.float32, normalizer_fn=None)]\n",
      "\n",
      "*** NNAdaNetBuilder : NN Type=RNN\n",
      "\n",
      "*** get_tf_head() : feature shape= (28, 28)\n",
      "\n",
      "*** get_tf_head() : feature columns= [NumericColumn(key='images', shape=(28, 28), default_value=None, dtype=tf.float32, normalizer_fn=None)]\n",
      "INFO:tensorflow:Rebuilding iteration 2\n"
     ]
    },
    {
     "name": "stderr",
     "output_type": "stream",
     "text": [
      "I0522 22:08:32.454099 139898093799232 iteration.py:250] Rebuilding iteration 2\n"
     ]
    },
    {
     "name": "stdout",
     "output_type": "stream",
     "text": [
      "INFO:tensorflow:Rebuilding subnetwork 'RNN_SGRU_layer_4'\n"
     ]
    },
    {
     "name": "stderr",
     "output_type": "stream",
     "text": [
      "I0522 22:08:32.473659 139898093799232 iteration.py:337] Rebuilding subnetwork 'RNN_SGRU_layer_4'\n"
     ]
    },
    {
     "name": "stdout",
     "output_type": "stream",
     "text": [
      "\n",
      "\n",
      "*** build_subnetwork() : features= {'images': <tf.Tensor 'IteratorGetNext:0' shape=(?, 28, 28) dtype=float32>}\n",
      "\n",
      "\n",
      "*** build_subnetwork() : self._feature_columns= [NumericColumn(key='images', shape=(28, 28), default_value=None, dtype=tf.float32, normalizer_fn=None)]\n",
      "\n",
      "\n",
      "*** build_subnetwork() : NN type= RNN / Input layer shape= (?, 784)\n",
      "\n",
      "*** _build_rnn_subnetwork() : output[-1]= Tensor(\"adanet/iteration_2/subnetwork_t2_RNN_SGRU_layer_4/rnn/rnn/multi_rnn_cell/cell_3/gru_cell/add_27:0\", shape=(?, 128), dtype=float32) / Weight= <tf.Variable 'adanet/iteration_2/subnetwork_t2_RNN_SGRU_layer_4/W:0' shape=(128, 10) dtype=float32_ref>\n",
      "\n",
      "***build_subnetwork() / RNN : logits shape= (?, 10)\n",
      "\n",
      "*** build_subnetwork() : last_layer= Tensor(\"adanet/iteration_2/subnetwork_t2_RNN_SGRU_layer_4/dense/BiasAdd:0\", shape=(?, 128), dtype=float32)\n",
      "WARNING:tensorflow:Using an `adanet.subnetwork.Builder#prune_previous_ensemble` is deprecated. Please use a custom `adanet.ensemble.Strategy` instead.\n"
     ]
    },
    {
     "name": "stderr",
     "output_type": "stream",
     "text": [
      "W0522 22:08:35.198167 139898093799232 tf_logging.py:161] Using an `adanet.subnetwork.Builder#prune_previous_ensemble` is deprecated. Please use a custom `adanet.ensemble.Strategy` instead.\n"
     ]
    },
    {
     "name": "stdout",
     "output_type": "stream",
     "text": [
      "INFO:tensorflow:*** _build_weighted_subnetwork_helper() : MixtureWeightType= vector\n"
     ]
    },
    {
     "name": "stderr",
     "output_type": "stream",
     "text": [
      "I0522 22:08:35.202091 139898093799232 weighted.py:391] *** _build_weighted_subnetwork_helper() : MixtureWeightType= vector\n"
     ]
    },
    {
     "name": "stdout",
     "output_type": "stream",
     "text": [
      "INFO:tensorflow:*** _build_weighted_subnetwork_helper() : MixtureWeightType= vector\n"
     ]
    },
    {
     "name": "stderr",
     "output_type": "stream",
     "text": [
      "I0522 22:08:35.209284 139898093799232 weighted.py:391] *** _build_weighted_subnetwork_helper() : MixtureWeightType= vector\n"
     ]
    },
    {
     "name": "stdout",
     "output_type": "stream",
     "text": [
      "INFO:tensorflow:*** _build_weighted_subnetwork_helper() : MixtureWeightType= vector\n"
     ]
    },
    {
     "name": "stderr",
     "output_type": "stream",
     "text": [
      "I0522 22:08:35.220148 139898093799232 weighted.py:391] *** _build_weighted_subnetwork_helper() : MixtureWeightType= vector\n"
     ]
    },
    {
     "name": "stdout",
     "output_type": "stream",
     "text": [
      "\n",
      "*** NNAdaNetBuilder : NN Type=RNN\n",
      "\n",
      "*** get_tf_head() : feature shape= (28, 28)\n",
      "\n",
      "*** get_tf_head() : feature columns= [NumericColumn(key='images', shape=(28, 28), default_value=None, dtype=tf.float32, normalizer_fn=None)]\n",
      "\n",
      "*** NNAdaNetBuilder : NN Type=RNN\n",
      "\n",
      "*** get_tf_head() : feature shape= (28, 28)\n",
      "\n",
      "*** get_tf_head() : feature columns= [NumericColumn(key='images', shape=(28, 28), default_value=None, dtype=tf.float32, normalizer_fn=None)]\n",
      "INFO:tensorflow:Building iteration 3\n"
     ]
    },
    {
     "name": "stderr",
     "output_type": "stream",
     "text": [
      "I0522 22:08:35.363691 139898093799232 iteration.py:250] Building iteration 3\n"
     ]
    },
    {
     "name": "stdout",
     "output_type": "stream",
     "text": [
      "INFO:tensorflow:Building subnetwork 'RNN_SGRU_layer_4'\n"
     ]
    },
    {
     "name": "stderr",
     "output_type": "stream",
     "text": [
      "I0522 22:08:35.383845 139898093799232 iteration.py:337] Building subnetwork 'RNN_SGRU_layer_4'\n"
     ]
    },
    {
     "name": "stdout",
     "output_type": "stream",
     "text": [
      "\n",
      "\n",
      "*** build_subnetwork() : features= {'images': <tf.Tensor 'IteratorGetNext:0' shape=(?, 28, 28) dtype=float32>}\n",
      "\n",
      "\n",
      "*** build_subnetwork() : self._feature_columns= [NumericColumn(key='images', shape=(28, 28), default_value=None, dtype=tf.float32, normalizer_fn=None)]\n",
      "\n",
      "\n",
      "*** build_subnetwork() : NN type= RNN / Input layer shape= (?, 784)\n",
      "\n",
      "*** _build_rnn_subnetwork() : output[-1]= Tensor(\"adanet/iteration_3/subnetwork_t3_RNN_SGRU_layer_4/rnn/rnn/multi_rnn_cell/cell_3/gru_cell/add_27:0\", shape=(?, 128), dtype=float32) / Weight= <tf.Variable 'adanet/iteration_3/subnetwork_t3_RNN_SGRU_layer_4/W:0' shape=(128, 10) dtype=float32_ref>\n",
      "\n",
      "***build_subnetwork() / RNN : logits shape= (?, 10)\n",
      "\n",
      "*** build_subnetwork() : last_layer= Tensor(\"adanet/iteration_3/subnetwork_t3_RNN_SGRU_layer_4/dense/BiasAdd:0\", shape=(?, 128), dtype=float32)\n",
      "INFO:tensorflow:Building subnetwork 'RNN_SGRU_layer_5'\n"
     ]
    },
    {
     "name": "stderr",
     "output_type": "stream",
     "text": [
      "I0522 22:08:41.933835 139898093799232 iteration.py:337] Building subnetwork 'RNN_SGRU_layer_5'\n"
     ]
    },
    {
     "name": "stdout",
     "output_type": "stream",
     "text": [
      "\n",
      "\n",
      "*** build_subnetwork() : features= {'images': <tf.Tensor 'IteratorGetNext:0' shape=(?, 28, 28) dtype=float32>}\n",
      "\n",
      "\n",
      "*** build_subnetwork() : self._feature_columns= [NumericColumn(key='images', shape=(28, 28), default_value=None, dtype=tf.float32, normalizer_fn=None)]\n",
      "\n",
      "\n",
      "*** build_subnetwork() : NN type= RNN / Input layer shape= (?, 784)\n",
      "\n",
      "*** _build_rnn_subnetwork() : output[-1]= Tensor(\"adanet/iteration_3/subnetwork_t3_RNN_SGRU_layer_5/rnn/rnn/multi_rnn_cell/cell_4/gru_cell/add_27:0\", shape=(?, 128), dtype=float32) / Weight= <tf.Variable 'adanet/iteration_3/subnetwork_t3_RNN_SGRU_layer_5/W:0' shape=(128, 10) dtype=float32_ref>\n",
      "\n",
      "***build_subnetwork() / RNN : logits shape= (?, 10)\n",
      "\n",
      "*** build_subnetwork() : last_layer= Tensor(\"adanet/iteration_3/subnetwork_t3_RNN_SGRU_layer_5/dense/BiasAdd:0\", shape=(?, 128), dtype=float32)\n",
      "WARNING:tensorflow:Using an `adanet.subnetwork.Builder#prune_previous_ensemble` is deprecated. Please use a custom `adanet.ensemble.Strategy` instead.\n"
     ]
    },
    {
     "name": "stderr",
     "output_type": "stream",
     "text": [
      "W0522 22:08:51.612015 139898093799232 tf_logging.py:161] Using an `adanet.subnetwork.Builder#prune_previous_ensemble` is deprecated. Please use a custom `adanet.ensemble.Strategy` instead.\n"
     ]
    },
    {
     "name": "stdout",
     "output_type": "stream",
     "text": [
      "INFO:tensorflow:*** _build_weighted_subnetwork_helper() : MixtureWeightType= vector\n"
     ]
    },
    {
     "name": "stderr",
     "output_type": "stream",
     "text": [
      "I0522 22:08:51.619843 139898093799232 weighted.py:391] *** _build_weighted_subnetwork_helper() : MixtureWeightType= vector\n"
     ]
    },
    {
     "name": "stdout",
     "output_type": "stream",
     "text": [
      "INFO:tensorflow:*** _build_weighted_subnetwork_helper() : MixtureWeightType= vector\n"
     ]
    },
    {
     "name": "stderr",
     "output_type": "stream",
     "text": [
      "I0522 22:08:51.628632 139898093799232 weighted.py:391] *** _build_weighted_subnetwork_helper() : MixtureWeightType= vector\n"
     ]
    },
    {
     "name": "stdout",
     "output_type": "stream",
     "text": [
      "INFO:tensorflow:*** _build_weighted_subnetwork_helper() : MixtureWeightType= vector\n"
     ]
    },
    {
     "name": "stderr",
     "output_type": "stream",
     "text": [
      "I0522 22:08:51.636467 139898093799232 weighted.py:391] *** _build_weighted_subnetwork_helper() : MixtureWeightType= vector\n"
     ]
    },
    {
     "name": "stdout",
     "output_type": "stream",
     "text": [
      "INFO:tensorflow:*** _build_weighted_subnetwork_helper() : MixtureWeightType= vector\n"
     ]
    },
    {
     "name": "stderr",
     "output_type": "stream",
     "text": [
      "I0522 22:08:51.642594 139898093799232 weighted.py:391] *** _build_weighted_subnetwork_helper() : MixtureWeightType= vector\n"
     ]
    },
    {
     "name": "stdout",
     "output_type": "stream",
     "text": [
      "WARNING:tensorflow:The `build_mixture_weights_train_op` method is deprecated. Please use the `Ensembler#build_train_op` instead.\n"
     ]
    },
    {
     "name": "stderr",
     "output_type": "stream",
     "text": [
      "W0522 22:08:51.709046 139898093799232 tf_logging.py:161] The `build_mixture_weights_train_op` method is deprecated. Please use the `Ensembler#build_train_op` instead.\n"
     ]
    },
    {
     "name": "stdout",
     "output_type": "stream",
     "text": [
      "WARNING:tensorflow:Using an `adanet.subnetwork.Builder#prune_previous_ensemble` is deprecated. Please use a custom `adanet.ensemble.Strategy` instead.\n"
     ]
    },
    {
     "name": "stderr",
     "output_type": "stream",
     "text": [
      "W0522 22:08:51.873095 139898093799232 tf_logging.py:161] Using an `adanet.subnetwork.Builder#prune_previous_ensemble` is deprecated. Please use a custom `adanet.ensemble.Strategy` instead.\n"
     ]
    },
    {
     "name": "stdout",
     "output_type": "stream",
     "text": [
      "INFO:tensorflow:*** _build_weighted_subnetwork_helper() : MixtureWeightType= vector\n"
     ]
    },
    {
     "name": "stderr",
     "output_type": "stream",
     "text": [
      "I0522 22:08:51.877084 139898093799232 weighted.py:391] *** _build_weighted_subnetwork_helper() : MixtureWeightType= vector\n"
     ]
    },
    {
     "name": "stdout",
     "output_type": "stream",
     "text": [
      "INFO:tensorflow:*** _build_weighted_subnetwork_helper() : MixtureWeightType= vector\n"
     ]
    },
    {
     "name": "stderr",
     "output_type": "stream",
     "text": [
      "I0522 22:08:51.883377 139898093799232 weighted.py:391] *** _build_weighted_subnetwork_helper() : MixtureWeightType= vector\n"
     ]
    },
    {
     "name": "stdout",
     "output_type": "stream",
     "text": [
      "INFO:tensorflow:*** _build_weighted_subnetwork_helper() : MixtureWeightType= vector\n"
     ]
    },
    {
     "name": "stderr",
     "output_type": "stream",
     "text": [
      "I0522 22:08:51.889881 139898093799232 weighted.py:391] *** _build_weighted_subnetwork_helper() : MixtureWeightType= vector\n"
     ]
    },
    {
     "name": "stdout",
     "output_type": "stream",
     "text": [
      "INFO:tensorflow:*** _build_weighted_subnetwork_helper() : MixtureWeightType= vector\n"
     ]
    },
    {
     "name": "stderr",
     "output_type": "stream",
     "text": [
      "I0522 22:08:51.896301 139898093799232 weighted.py:391] *** _build_weighted_subnetwork_helper() : MixtureWeightType= vector\n"
     ]
    },
    {
     "name": "stdout",
     "output_type": "stream",
     "text": [
      "WARNING:tensorflow:The `build_mixture_weights_train_op` method is deprecated. Please use the `Ensembler#build_train_op` instead.\n"
     ]
    },
    {
     "name": "stderr",
     "output_type": "stream",
     "text": [
      "W0522 22:08:51.969804 139898093799232 tf_logging.py:161] The `build_mixture_weights_train_op` method is deprecated. Please use the `Ensembler#build_train_op` instead.\n"
     ]
    },
    {
     "name": "stdout",
     "output_type": "stream",
     "text": [
      "INFO:tensorflow:Done calling model_fn.\n"
     ]
    },
    {
     "name": "stderr",
     "output_type": "stream",
     "text": [
      "I0522 22:08:52.168542 139898093799232 estimator.py:1113] Done calling model_fn.\n"
     ]
    },
    {
     "name": "stdout",
     "output_type": "stream",
     "text": [
      "INFO:tensorflow:Create CheckpointSaverHook.\n"
     ]
    },
    {
     "name": "stderr",
     "output_type": "stream",
     "text": [
      "I0522 22:08:52.169393 139898093799232 basic_session_run_hooks.py:527] Create CheckpointSaverHook.\n"
     ]
    },
    {
     "name": "stdout",
     "output_type": "stream",
     "text": [
      "INFO:tensorflow:Graph was finalized.\n"
     ]
    },
    {
     "name": "stderr",
     "output_type": "stream",
     "text": [
      "I0522 22:09:01.506824 139898093799232 monitored_session.py:222] Graph was finalized.\n"
     ]
    },
    {
     "name": "stdout",
     "output_type": "stream",
     "text": [
      "INFO:tensorflow:Running local_init_op.\n"
     ]
    },
    {
     "name": "stderr",
     "output_type": "stream",
     "text": [
      "I0522 22:09:02.943509 139898093799232 session_manager.py:491] Running local_init_op.\n"
     ]
    },
    {
     "name": "stdout",
     "output_type": "stream",
     "text": [
      "INFO:tensorflow:Done running local_init_op.\n"
     ]
    },
    {
     "name": "stderr",
     "output_type": "stream",
     "text": [
      "I0522 22:09:03.243319 139898093799232 session_manager.py:493] Done running local_init_op.\n"
     ]
    },
    {
     "name": "stdout",
     "output_type": "stream",
     "text": [
      "INFO:tensorflow:Saving checkpoints for 0 into ./tmp/adanet/SGRU/temp_model_dir/model.ckpt.\n"
     ]
    },
    {
     "name": "stderr",
     "output_type": "stream",
     "text": [
      "I0522 22:09:14.517285 139898093799232 basic_session_run_hooks.py:594] Saving checkpoints for 0 into ./tmp/adanet/SGRU/temp_model_dir/model.ckpt.\n"
     ]
    },
    {
     "name": "stdout",
     "output_type": "stream",
     "text": [
      "INFO:tensorflow:Restoring parameters from ./tmp/adanet/SGRU/model.ckpt-21\n"
     ]
    },
    {
     "name": "stderr",
     "output_type": "stream",
     "text": [
      "I0522 22:09:16.503578 139898093799232 saver.py:1270] Restoring parameters from ./tmp/adanet/SGRU/model.ckpt-21\n"
     ]
    },
    {
     "name": "stdout",
     "output_type": "stream",
     "text": [
      "INFO:tensorflow:loss = 2.1625617, step = 22\n"
     ]
    },
    {
     "name": "stderr",
     "output_type": "stream",
     "text": [
      "I0522 22:09:21.803485 139898093799232 basic_session_run_hooks.py:249] loss = 2.1625617, step = 22\n"
     ]
    },
    {
     "name": "stdout",
     "output_type": "stream",
     "text": [
      "INFO:tensorflow:Saving checkpoints for 22 into ./tmp/adanet/SGRU/temp_model_dir/model.ckpt.\n"
     ]
    },
    {
     "name": "stderr",
     "output_type": "stream",
     "text": [
      "I0522 22:09:21.805054 139898093799232 basic_session_run_hooks.py:594] Saving checkpoints for 22 into ./tmp/adanet/SGRU/temp_model_dir/model.ckpt.\n"
     ]
    },
    {
     "name": "stdout",
     "output_type": "stream",
     "text": [
      "INFO:tensorflow:Loss for final step: 2.1625617.\n"
     ]
    },
    {
     "name": "stderr",
     "output_type": "stream",
     "text": [
      "I0522 22:09:23.353645 139898093799232 estimator.py:359] Loss for final step: 2.1625617.\n"
     ]
    },
    {
     "name": "stdout",
     "output_type": "stream",
     "text": [
      "\n",
      "*** input_fn() : feature_shape= (28, 28) / label_shape= [1]\n",
      "\n",
      "*** preprocess_image() : image shape= (28, 28)\n",
      "\n",
      "*** preprocess_image() : features= {'images': <tf.Tensor 'arg0:0' shape=(28, 28) dtype=float32>} / label shape= ()\n",
      "\n",
      "***_input_fn() : Label shape =[1]\n",
      "INFO:tensorflow:Calling model_fn.\n"
     ]
    },
    {
     "name": "stderr",
     "output_type": "stream",
     "text": [
      "I0522 22:09:23.621573 139898093799232 estimator.py:1111] Calling model_fn.\n"
     ]
    },
    {
     "name": "stdout",
     "output_type": "stream",
     "text": [
      "\n",
      "*** NNAdaNetBuilder : NN Type=RNN\n",
      "\n",
      "*** get_tf_head() : feature shape= (28, 28)\n",
      "\n",
      "*** get_tf_head() : feature columns= [NumericColumn(key='images', shape=(28, 28), default_value=None, dtype=tf.float32, normalizer_fn=None)]\n",
      "\n",
      "*** NNAdaNetBuilder : NN Type=RNN\n",
      "\n",
      "*** get_tf_head() : feature shape= (28, 28)\n",
      "\n",
      "*** get_tf_head() : feature columns= [NumericColumn(key='images', shape=(28, 28), default_value=None, dtype=tf.float32, normalizer_fn=None)]\n",
      "INFO:tensorflow:Rebuilding iteration 0\n"
     ]
    },
    {
     "name": "stderr",
     "output_type": "stream",
     "text": [
      "I0522 22:09:23.626680 139898093799232 iteration.py:250] Rebuilding iteration 0\n"
     ]
    },
    {
     "name": "stdout",
     "output_type": "stream",
     "text": [
      "INFO:tensorflow:Rebuilding subnetwork 'RNN_SGRU_layer_2'\n"
     ]
    },
    {
     "name": "stderr",
     "output_type": "stream",
     "text": [
      "I0522 22:09:23.631409 139898093799232 iteration.py:337] Rebuilding subnetwork 'RNN_SGRU_layer_2'\n"
     ]
    },
    {
     "name": "stdout",
     "output_type": "stream",
     "text": [
      "\n",
      "\n",
      "*** build_subnetwork() : features= {'images': <tf.Tensor 'IteratorGetNext:0' shape=(?, 28, 28) dtype=float32>}\n",
      "\n",
      "\n",
      "*** build_subnetwork() : self._feature_columns= [NumericColumn(key='images', shape=(28, 28), default_value=None, dtype=tf.float32, normalizer_fn=None)]\n",
      "\n",
      "\n",
      "*** build_subnetwork() : NN type= RNN / Input layer shape= (?, 784)\n",
      "\n",
      "*** _build_rnn_subnetwork() : output[-1]= Tensor(\"adanet/iteration_0/subnetwork_t0_RNN_SGRU_layer_2/rnn/rnn/multi_rnn_cell/cell_1/gru_cell/add_27:0\", shape=(?, 128), dtype=float32) / Weight= <tf.Variable 'adanet/iteration_0/subnetwork_t0_RNN_SGRU_layer_2/W:0' shape=(128, 10) dtype=float32_ref>\n",
      "\n",
      "***build_subnetwork() / RNN : logits shape= (?, 10)\n",
      "\n",
      "*** build_subnetwork() : last_layer= Tensor(\"adanet/iteration_0/subnetwork_t0_RNN_SGRU_layer_2/dense/BiasAdd:0\", shape=(?, 128), dtype=float32)\n",
      "INFO:tensorflow:*** _build_weighted_subnetwork_helper() : MixtureWeightType= vector\n"
     ]
    },
    {
     "name": "stderr",
     "output_type": "stream",
     "text": [
      "I0522 22:09:24.284103 139898093799232 weighted.py:391] *** _build_weighted_subnetwork_helper() : MixtureWeightType= vector\n"
     ]
    },
    {
     "name": "stdout",
     "output_type": "stream",
     "text": [
      "\n",
      "*** NNAdaNetBuilder : NN Type=RNN\n",
      "\n",
      "*** get_tf_head() : feature shape= (28, 28)\n",
      "\n",
      "*** get_tf_head() : feature columns= [NumericColumn(key='images', shape=(28, 28), default_value=None, dtype=tf.float32, normalizer_fn=None)]\n",
      "\n",
      "*** NNAdaNetBuilder : NN Type=RNN\n",
      "\n",
      "*** get_tf_head() : feature shape= (28, 28)\n",
      "\n",
      "*** get_tf_head() : feature columns= [NumericColumn(key='images', shape=(28, 28), default_value=None, dtype=tf.float32, normalizer_fn=None)]\n",
      "INFO:tensorflow:Rebuilding iteration 1\n"
     ]
    },
    {
     "name": "stderr",
     "output_type": "stream",
     "text": [
      "I0522 22:09:24.410244 139898093799232 iteration.py:250] Rebuilding iteration 1\n"
     ]
    },
    {
     "name": "stdout",
     "output_type": "stream",
     "text": [
      "INFO:tensorflow:Rebuilding subnetwork 'RNN_SGRU_layer_3'\n"
     ]
    },
    {
     "name": "stderr",
     "output_type": "stream",
     "text": [
      "I0522 22:09:24.437415 139898093799232 iteration.py:337] Rebuilding subnetwork 'RNN_SGRU_layer_3'\n"
     ]
    },
    {
     "name": "stdout",
     "output_type": "stream",
     "text": [
      "\n",
      "\n",
      "*** build_subnetwork() : features= {'images': <tf.Tensor 'IteratorGetNext:0' shape=(?, 28, 28) dtype=float32>}\n",
      "\n",
      "\n",
      "*** build_subnetwork() : self._feature_columns= [NumericColumn(key='images', shape=(28, 28), default_value=None, dtype=tf.float32, normalizer_fn=None)]\n",
      "\n",
      "\n",
      "*** build_subnetwork() : NN type= RNN / Input layer shape= (?, 784)\n",
      "\n",
      "*** _build_rnn_subnetwork() : output[-1]= Tensor(\"adanet/iteration_1/subnetwork_t1_RNN_SGRU_layer_3/rnn/rnn/multi_rnn_cell/cell_2/gru_cell/add_27:0\", shape=(?, 128), dtype=float32) / Weight= <tf.Variable 'adanet/iteration_1/subnetwork_t1_RNN_SGRU_layer_3/W:0' shape=(128, 10) dtype=float32_ref>\n",
      "\n",
      "***build_subnetwork() / RNN : logits shape= (?, 10)\n",
      "\n",
      "*** build_subnetwork() : last_layer= Tensor(\"adanet/iteration_1/subnetwork_t1_RNN_SGRU_layer_3/dense/BiasAdd:0\", shape=(?, 128), dtype=float32)\n",
      "WARNING:tensorflow:Using an `adanet.subnetwork.Builder#prune_previous_ensemble` is deprecated. Please use a custom `adanet.ensemble.Strategy` instead.\n"
     ]
    },
    {
     "name": "stderr",
     "output_type": "stream",
     "text": [
      "W0522 22:09:25.359761 139898093799232 tf_logging.py:161] Using an `adanet.subnetwork.Builder#prune_previous_ensemble` is deprecated. Please use a custom `adanet.ensemble.Strategy` instead.\n"
     ]
    },
    {
     "name": "stdout",
     "output_type": "stream",
     "text": [
      "INFO:tensorflow:*** _build_weighted_subnetwork_helper() : MixtureWeightType= vector\n"
     ]
    },
    {
     "name": "stderr",
     "output_type": "stream",
     "text": [
      "I0522 22:09:25.364782 139898093799232 weighted.py:391] *** _build_weighted_subnetwork_helper() : MixtureWeightType= vector\n"
     ]
    },
    {
     "name": "stdout",
     "output_type": "stream",
     "text": [
      "INFO:tensorflow:*** _build_weighted_subnetwork_helper() : MixtureWeightType= vector\n"
     ]
    },
    {
     "name": "stderr",
     "output_type": "stream",
     "text": [
      "I0522 22:09:25.372787 139898093799232 weighted.py:391] *** _build_weighted_subnetwork_helper() : MixtureWeightType= vector\n"
     ]
    },
    {
     "name": "stdout",
     "output_type": "stream",
     "text": [
      "\n",
      "*** NNAdaNetBuilder : NN Type=RNN\n",
      "\n",
      "*** get_tf_head() : feature shape= (28, 28)\n",
      "\n",
      "*** get_tf_head() : feature columns= [NumericColumn(key='images', shape=(28, 28), default_value=None, dtype=tf.float32, normalizer_fn=None)]\n",
      "\n",
      "*** NNAdaNetBuilder : NN Type=RNN\n",
      "\n",
      "*** get_tf_head() : feature shape= (28, 28)\n",
      "\n",
      "*** get_tf_head() : feature columns= [NumericColumn(key='images', shape=(28, 28), default_value=None, dtype=tf.float32, normalizer_fn=None)]\n",
      "INFO:tensorflow:Rebuilding iteration 2\n"
     ]
    },
    {
     "name": "stderr",
     "output_type": "stream",
     "text": [
      "I0522 22:09:25.532350 139898093799232 iteration.py:250] Rebuilding iteration 2\n"
     ]
    },
    {
     "name": "stdout",
     "output_type": "stream",
     "text": [
      "INFO:tensorflow:Rebuilding subnetwork 'RNN_SGRU_layer_4'\n"
     ]
    },
    {
     "name": "stderr",
     "output_type": "stream",
     "text": [
      "I0522 22:09:25.556428 139898093799232 iteration.py:337] Rebuilding subnetwork 'RNN_SGRU_layer_4'\n"
     ]
    },
    {
     "name": "stdout",
     "output_type": "stream",
     "text": [
      "\n",
      "\n",
      "*** build_subnetwork() : features= {'images': <tf.Tensor 'IteratorGetNext:0' shape=(?, 28, 28) dtype=float32>}\n",
      "\n",
      "\n",
      "*** build_subnetwork() : self._feature_columns= [NumericColumn(key='images', shape=(28, 28), default_value=None, dtype=tf.float32, normalizer_fn=None)]\n",
      "\n",
      "\n",
      "*** build_subnetwork() : NN type= RNN / Input layer shape= (?, 784)\n",
      "\n",
      "*** _build_rnn_subnetwork() : output[-1]= Tensor(\"adanet/iteration_2/subnetwork_t2_RNN_SGRU_layer_4/rnn/rnn/multi_rnn_cell/cell_3/gru_cell/add_27:0\", shape=(?, 128), dtype=float32) / Weight= <tf.Variable 'adanet/iteration_2/subnetwork_t2_RNN_SGRU_layer_4/W:0' shape=(128, 10) dtype=float32_ref>\n",
      "\n",
      "***build_subnetwork() / RNN : logits shape= (?, 10)\n",
      "\n",
      "*** build_subnetwork() : last_layer= Tensor(\"adanet/iteration_2/subnetwork_t2_RNN_SGRU_layer_4/dense/BiasAdd:0\", shape=(?, 128), dtype=float32)\n",
      "WARNING:tensorflow:Using an `adanet.subnetwork.Builder#prune_previous_ensemble` is deprecated. Please use a custom `adanet.ensemble.Strategy` instead.\n"
     ]
    },
    {
     "name": "stderr",
     "output_type": "stream",
     "text": [
      "W0522 22:09:26.759780 139898093799232 tf_logging.py:161] Using an `adanet.subnetwork.Builder#prune_previous_ensemble` is deprecated. Please use a custom `adanet.ensemble.Strategy` instead.\n"
     ]
    },
    {
     "name": "stdout",
     "output_type": "stream",
     "text": [
      "INFO:tensorflow:*** _build_weighted_subnetwork_helper() : MixtureWeightType= vector\n"
     ]
    },
    {
     "name": "stderr",
     "output_type": "stream",
     "text": [
      "I0522 22:09:26.764344 139898093799232 weighted.py:391] *** _build_weighted_subnetwork_helper() : MixtureWeightType= vector\n"
     ]
    },
    {
     "name": "stdout",
     "output_type": "stream",
     "text": [
      "INFO:tensorflow:*** _build_weighted_subnetwork_helper() : MixtureWeightType= vector\n"
     ]
    },
    {
     "name": "stderr",
     "output_type": "stream",
     "text": [
      "I0522 22:09:26.771431 139898093799232 weighted.py:391] *** _build_weighted_subnetwork_helper() : MixtureWeightType= vector\n"
     ]
    },
    {
     "name": "stdout",
     "output_type": "stream",
     "text": [
      "INFO:tensorflow:*** _build_weighted_subnetwork_helper() : MixtureWeightType= vector\n"
     ]
    },
    {
     "name": "stderr",
     "output_type": "stream",
     "text": [
      "I0522 22:09:26.778367 139898093799232 weighted.py:391] *** _build_weighted_subnetwork_helper() : MixtureWeightType= vector\n"
     ]
    },
    {
     "name": "stdout",
     "output_type": "stream",
     "text": [
      "\n",
      "*** NNAdaNetBuilder : NN Type=RNN\n",
      "\n",
      "*** get_tf_head() : feature shape= (28, 28)\n",
      "\n",
      "*** get_tf_head() : feature columns= [NumericColumn(key='images', shape=(28, 28), default_value=None, dtype=tf.float32, normalizer_fn=None)]\n",
      "\n",
      "*** NNAdaNetBuilder : NN Type=RNN\n",
      "\n",
      "*** get_tf_head() : feature shape= (28, 28)\n",
      "\n",
      "*** get_tf_head() : feature columns= [NumericColumn(key='images', shape=(28, 28), default_value=None, dtype=tf.float32, normalizer_fn=None)]\n",
      "INFO:tensorflow:Building iteration 3\n"
     ]
    },
    {
     "name": "stderr",
     "output_type": "stream",
     "text": [
      "I0522 22:09:26.939636 139898093799232 iteration.py:250] Building iteration 3\n"
     ]
    },
    {
     "name": "stdout",
     "output_type": "stream",
     "text": [
      "INFO:tensorflow:Building subnetwork 'RNN_SGRU_layer_4'\n"
     ]
    },
    {
     "name": "stderr",
     "output_type": "stream",
     "text": [
      "I0522 22:09:26.965226 139898093799232 iteration.py:337] Building subnetwork 'RNN_SGRU_layer_4'\n"
     ]
    },
    {
     "name": "stdout",
     "output_type": "stream",
     "text": [
      "\n",
      "\n",
      "*** build_subnetwork() : features= {'images': <tf.Tensor 'IteratorGetNext:0' shape=(?, 28, 28) dtype=float32>}\n",
      "\n",
      "\n",
      "*** build_subnetwork() : self._feature_columns= [NumericColumn(key='images', shape=(28, 28), default_value=None, dtype=tf.float32, normalizer_fn=None)]\n",
      "\n",
      "\n",
      "*** build_subnetwork() : NN type= RNN / Input layer shape= (?, 784)\n",
      "\n",
      "*** _build_rnn_subnetwork() : output[-1]= Tensor(\"adanet/iteration_3/subnetwork_t3_RNN_SGRU_layer_4/rnn/rnn/multi_rnn_cell/cell_3/gru_cell/add_27:0\", shape=(?, 128), dtype=float32) / Weight= <tf.Variable 'adanet/iteration_3/subnetwork_t3_RNN_SGRU_layer_4/W:0' shape=(128, 10) dtype=float32_ref>\n",
      "\n",
      "***build_subnetwork() / RNN : logits shape= (?, 10)\n",
      "\n",
      "*** build_subnetwork() : last_layer= Tensor(\"adanet/iteration_3/subnetwork_t3_RNN_SGRU_layer_4/dense/BiasAdd:0\", shape=(?, 128), dtype=float32)\n",
      "INFO:tensorflow:Building subnetwork 'RNN_SGRU_layer_5'\n"
     ]
    },
    {
     "name": "stderr",
     "output_type": "stream",
     "text": [
      "I0522 22:09:34.308299 139898093799232 iteration.py:337] Building subnetwork 'RNN_SGRU_layer_5'\n"
     ]
    },
    {
     "name": "stdout",
     "output_type": "stream",
     "text": [
      "\n",
      "\n",
      "*** build_subnetwork() : features= {'images': <tf.Tensor 'IteratorGetNext:0' shape=(?, 28, 28) dtype=float32>}\n",
      "\n",
      "\n",
      "*** build_subnetwork() : self._feature_columns= [NumericColumn(key='images', shape=(28, 28), default_value=None, dtype=tf.float32, normalizer_fn=None)]\n",
      "\n",
      "\n",
      "*** build_subnetwork() : NN type= RNN / Input layer shape= (?, 784)\n",
      "\n",
      "*** _build_rnn_subnetwork() : output[-1]= Tensor(\"adanet/iteration_3/subnetwork_t3_RNN_SGRU_layer_5/rnn/rnn/multi_rnn_cell/cell_4/gru_cell/add_27:0\", shape=(?, 128), dtype=float32) / Weight= <tf.Variable 'adanet/iteration_3/subnetwork_t3_RNN_SGRU_layer_5/W:0' shape=(128, 10) dtype=float32_ref>\n",
      "\n",
      "***build_subnetwork() / RNN : logits shape= (?, 10)\n",
      "\n",
      "*** build_subnetwork() : last_layer= Tensor(\"adanet/iteration_3/subnetwork_t3_RNN_SGRU_layer_5/dense/BiasAdd:0\", shape=(?, 128), dtype=float32)\n",
      "WARNING:tensorflow:Using an `adanet.subnetwork.Builder#prune_previous_ensemble` is deprecated. Please use a custom `adanet.ensemble.Strategy` instead.\n"
     ]
    },
    {
     "name": "stderr",
     "output_type": "stream",
     "text": [
      "W0522 22:09:45.738079 139898093799232 tf_logging.py:161] Using an `adanet.subnetwork.Builder#prune_previous_ensemble` is deprecated. Please use a custom `adanet.ensemble.Strategy` instead.\n"
     ]
    },
    {
     "name": "stdout",
     "output_type": "stream",
     "text": [
      "INFO:tensorflow:*** _build_weighted_subnetwork_helper() : MixtureWeightType= vector\n"
     ]
    },
    {
     "name": "stderr",
     "output_type": "stream",
     "text": [
      "I0522 22:09:45.745716 139898093799232 weighted.py:391] *** _build_weighted_subnetwork_helper() : MixtureWeightType= vector\n"
     ]
    },
    {
     "name": "stdout",
     "output_type": "stream",
     "text": [
      "INFO:tensorflow:*** _build_weighted_subnetwork_helper() : MixtureWeightType= vector\n"
     ]
    },
    {
     "name": "stderr",
     "output_type": "stream",
     "text": [
      "I0522 22:09:45.754349 139898093799232 weighted.py:391] *** _build_weighted_subnetwork_helper() : MixtureWeightType= vector\n"
     ]
    },
    {
     "name": "stdout",
     "output_type": "stream",
     "text": [
      "INFO:tensorflow:*** _build_weighted_subnetwork_helper() : MixtureWeightType= vector\n"
     ]
    },
    {
     "name": "stderr",
     "output_type": "stream",
     "text": [
      "I0522 22:09:45.762588 139898093799232 weighted.py:391] *** _build_weighted_subnetwork_helper() : MixtureWeightType= vector\n"
     ]
    },
    {
     "name": "stdout",
     "output_type": "stream",
     "text": [
      "INFO:tensorflow:*** _build_weighted_subnetwork_helper() : MixtureWeightType= vector\n"
     ]
    },
    {
     "name": "stderr",
     "output_type": "stream",
     "text": [
      "I0522 22:09:45.769336 139898093799232 weighted.py:391] *** _build_weighted_subnetwork_helper() : MixtureWeightType= vector\n"
     ]
    },
    {
     "name": "stdout",
     "output_type": "stream",
     "text": [
      "WARNING:tensorflow:The `build_mixture_weights_train_op` method is deprecated. Please use the `Ensembler#build_train_op` instead.\n"
     ]
    },
    {
     "name": "stderr",
     "output_type": "stream",
     "text": [
      "W0522 22:09:45.843639 139898093799232 tf_logging.py:161] The `build_mixture_weights_train_op` method is deprecated. Please use the `Ensembler#build_train_op` instead.\n"
     ]
    },
    {
     "name": "stdout",
     "output_type": "stream",
     "text": [
      "WARNING:tensorflow:Using an `adanet.subnetwork.Builder#prune_previous_ensemble` is deprecated. Please use a custom `adanet.ensemble.Strategy` instead.\n"
     ]
    },
    {
     "name": "stderr",
     "output_type": "stream",
     "text": [
      "W0522 22:09:46.014208 139898093799232 tf_logging.py:161] Using an `adanet.subnetwork.Builder#prune_previous_ensemble` is deprecated. Please use a custom `adanet.ensemble.Strategy` instead.\n"
     ]
    },
    {
     "name": "stdout",
     "output_type": "stream",
     "text": [
      "INFO:tensorflow:*** _build_weighted_subnetwork_helper() : MixtureWeightType= vector\n"
     ]
    },
    {
     "name": "stderr",
     "output_type": "stream",
     "text": [
      "I0522 22:09:46.018311 139898093799232 weighted.py:391] *** _build_weighted_subnetwork_helper() : MixtureWeightType= vector\n"
     ]
    },
    {
     "name": "stdout",
     "output_type": "stream",
     "text": [
      "INFO:tensorflow:*** _build_weighted_subnetwork_helper() : MixtureWeightType= vector\n"
     ]
    },
    {
     "name": "stderr",
     "output_type": "stream",
     "text": [
      "I0522 22:09:46.025440 139898093799232 weighted.py:391] *** _build_weighted_subnetwork_helper() : MixtureWeightType= vector\n"
     ]
    },
    {
     "name": "stdout",
     "output_type": "stream",
     "text": [
      "INFO:tensorflow:*** _build_weighted_subnetwork_helper() : MixtureWeightType= vector\n"
     ]
    },
    {
     "name": "stderr",
     "output_type": "stream",
     "text": [
      "I0522 22:09:46.032114 139898093799232 weighted.py:391] *** _build_weighted_subnetwork_helper() : MixtureWeightType= vector\n"
     ]
    },
    {
     "name": "stdout",
     "output_type": "stream",
     "text": [
      "INFO:tensorflow:*** _build_weighted_subnetwork_helper() : MixtureWeightType= vector\n"
     ]
    },
    {
     "name": "stderr",
     "output_type": "stream",
     "text": [
      "I0522 22:09:46.041343 139898093799232 weighted.py:391] *** _build_weighted_subnetwork_helper() : MixtureWeightType= vector\n"
     ]
    },
    {
     "name": "stdout",
     "output_type": "stream",
     "text": [
      "WARNING:tensorflow:The `build_mixture_weights_train_op` method is deprecated. Please use the `Ensembler#build_train_op` instead.\n"
     ]
    },
    {
     "name": "stderr",
     "output_type": "stream",
     "text": [
      "W0522 22:09:46.126415 139898093799232 tf_logging.py:161] The `build_mixture_weights_train_op` method is deprecated. Please use the `Ensembler#build_train_op` instead.\n"
     ]
    },
    {
     "name": "stdout",
     "output_type": "stream",
     "text": [
      "INFO:tensorflow:Done calling model_fn.\n"
     ]
    },
    {
     "name": "stderr",
     "output_type": "stream",
     "text": [
      "I0522 22:09:46.365048 139898093799232 estimator.py:1113] Done calling model_fn.\n"
     ]
    },
    {
     "name": "stdout",
     "output_type": "stream",
     "text": [
      "INFO:tensorflow:Create CheckpointSaverHook.\n"
     ]
    },
    {
     "name": "stderr",
     "output_type": "stream",
     "text": [
      "I0522 22:09:46.365996 139898093799232 basic_session_run_hooks.py:527] Create CheckpointSaverHook.\n"
     ]
    },
    {
     "name": "stdout",
     "output_type": "stream",
     "text": [
      "INFO:tensorflow:Graph was finalized.\n"
     ]
    },
    {
     "name": "stderr",
     "output_type": "stream",
     "text": [
      "I0522 22:09:46.905055 139898093799232 monitored_session.py:222] Graph was finalized.\n"
     ]
    },
    {
     "name": "stdout",
     "output_type": "stream",
     "text": [
      "INFO:tensorflow:Restoring parameters from ./tmp/adanet/SGRU/increment.ckpt-3\n"
     ]
    },
    {
     "name": "stderr",
     "output_type": "stream",
     "text": [
      "I0522 22:09:46.907099 139898093799232 saver.py:1270] Restoring parameters from ./tmp/adanet/SGRU/increment.ckpt-3\n"
     ]
    },
    {
     "name": "stdout",
     "output_type": "stream",
     "text": [
      "INFO:tensorflow:Running local_init_op.\n"
     ]
    },
    {
     "name": "stderr",
     "output_type": "stream",
     "text": [
      "I0522 22:09:48.230700 139898093799232 session_manager.py:491] Running local_init_op.\n"
     ]
    },
    {
     "name": "stdout",
     "output_type": "stream",
     "text": [
      "INFO:tensorflow:Done running local_init_op.\n"
     ]
    },
    {
     "name": "stderr",
     "output_type": "stream",
     "text": [
      "I0522 22:09:48.530422 139898093799232 session_manager.py:493] Done running local_init_op.\n"
     ]
    },
    {
     "name": "stdout",
     "output_type": "stream",
     "text": [
      "INFO:tensorflow:Saving checkpoints for 21 into ./tmp/adanet/SGRU/model.ckpt.\n"
     ]
    },
    {
     "name": "stderr",
     "output_type": "stream",
     "text": [
      "I0522 22:10:00.152913 139898093799232 basic_session_run_hooks.py:594] Saving checkpoints for 21 into ./tmp/adanet/SGRU/model.ckpt.\n"
     ]
    },
    {
     "name": "stdout",
     "output_type": "stream",
     "text": [
      "INFO:tensorflow:loss = 2.1625617, step = 22\n"
     ]
    },
    {
     "name": "stderr",
     "output_type": "stream",
     "text": [
      "I0522 22:10:16.283000 139898093799232 basic_session_run_hooks.py:249] loss = 2.1625617, step = 22\n"
     ]
    },
    {
     "name": "stdout",
     "output_type": "stream",
     "text": [
      "INFO:tensorflow:Saving checkpoints for 28 into ./tmp/adanet/SGRU/model.ckpt.\n"
     ]
    },
    {
     "name": "stderr",
     "output_type": "stream",
     "text": [
      "I0522 22:10:35.369968 139898093799232 basic_session_run_hooks.py:594] Saving checkpoints for 28 into ./tmp/adanet/SGRU/model.ckpt.\n"
     ]
    },
    {
     "name": "stdout",
     "output_type": "stream",
     "text": [
      "\n",
      "*** input_fn() : feature_shape= (28, 28) / label_shape= [1]\n",
      "\n",
      "*** input_fn : TEST / feature_shape= (28, 28)\n",
      "\n",
      "*** preprocess_image() : image shape= (28, 28)\n",
      "\n",
      "*** preprocess_image() : features= {'images': <tf.Tensor 'arg0:0' shape=(28, 28) dtype=float32>} / label shape= ()\n",
      "\n",
      "***_input_fn() : Label shape =[1]\n",
      "INFO:tensorflow:Calling model_fn.\n"
     ]
    },
    {
     "name": "stderr",
     "output_type": "stream",
     "text": [
      "I0522 22:10:37.060378 139898093799232 estimator.py:1111] Calling model_fn.\n"
     ]
    },
    {
     "name": "stdout",
     "output_type": "stream",
     "text": [
      "\n",
      "*** NNAdaNetBuilder : NN Type=RNN\n",
      "\n",
      "*** get_tf_head() : feature shape= (28, 28)\n",
      "\n",
      "*** get_tf_head() : feature columns= [NumericColumn(key='images', shape=(28, 28), default_value=None, dtype=tf.float32, normalizer_fn=None)]\n",
      "\n",
      "*** NNAdaNetBuilder : NN Type=RNN\n",
      "\n",
      "*** get_tf_head() : feature shape= (28, 28)\n",
      "\n",
      "*** get_tf_head() : feature columns= [NumericColumn(key='images', shape=(28, 28), default_value=None, dtype=tf.float32, normalizer_fn=None)]\n",
      "INFO:tensorflow:Rebuilding iteration 0\n"
     ]
    },
    {
     "name": "stderr",
     "output_type": "stream",
     "text": [
      "I0522 22:10:37.065187 139898093799232 iteration.py:250] Rebuilding iteration 0\n"
     ]
    },
    {
     "name": "stdout",
     "output_type": "stream",
     "text": [
      "INFO:tensorflow:Rebuilding subnetwork 'RNN_SGRU_layer_2'\n"
     ]
    },
    {
     "name": "stderr",
     "output_type": "stream",
     "text": [
      "I0522 22:10:37.071151 139898093799232 iteration.py:337] Rebuilding subnetwork 'RNN_SGRU_layer_2'\n"
     ]
    },
    {
     "name": "stdout",
     "output_type": "stream",
     "text": [
      "\n",
      "\n",
      "*** build_subnetwork() : features= {'images': <tf.Tensor 'IteratorGetNext:0' shape=(?, 28, 28) dtype=float32>}\n",
      "\n",
      "\n",
      "*** build_subnetwork() : self._feature_columns= [NumericColumn(key='images', shape=(28, 28), default_value=None, dtype=tf.float32, normalizer_fn=None)]\n",
      "\n",
      "\n",
      "*** build_subnetwork() : NN type= RNN / Input layer shape= (?, 784)\n",
      "\n",
      "*** _build_rnn_subnetwork() : output[-1]= Tensor(\"adanet/iteration_0/subnetwork_t0_RNN_SGRU_layer_2/rnn/rnn/multi_rnn_cell/cell_1/gru_cell/add_27:0\", shape=(?, 128), dtype=float32) / Weight= <tf.Variable 'adanet/iteration_0/subnetwork_t0_RNN_SGRU_layer_2/W:0' shape=(128, 10) dtype=float32_ref>\n",
      "\n",
      "***build_subnetwork() / RNN : logits shape= (?, 10)\n",
      "\n",
      "*** build_subnetwork() : last_layer= Tensor(\"adanet/iteration_0/subnetwork_t0_RNN_SGRU_layer_2/dense/BiasAdd:0\", shape=(?, 128), dtype=float32)\n",
      "INFO:tensorflow:*** _build_weighted_subnetwork_helper() : MixtureWeightType= vector\n"
     ]
    },
    {
     "name": "stderr",
     "output_type": "stream",
     "text": [
      "I0522 22:10:37.762622 139898093799232 weighted.py:391] *** _build_weighted_subnetwork_helper() : MixtureWeightType= vector\n"
     ]
    },
    {
     "name": "stdout",
     "output_type": "stream",
     "text": [
      "\n",
      "*** NNAdaNetBuilder : NN Type=RNN\n",
      "\n",
      "*** get_tf_head() : feature shape= (28, 28)\n",
      "\n",
      "*** get_tf_head() : feature columns= [NumericColumn(key='images', shape=(28, 28), default_value=None, dtype=tf.float32, normalizer_fn=None)]\n",
      "\n",
      "*** NNAdaNetBuilder : NN Type=RNN\n",
      "\n",
      "*** get_tf_head() : feature shape= (28, 28)\n",
      "\n",
      "*** get_tf_head() : feature columns= [NumericColumn(key='images', shape=(28, 28), default_value=None, dtype=tf.float32, normalizer_fn=None)]\n",
      "INFO:tensorflow:Rebuilding iteration 1\n"
     ]
    },
    {
     "name": "stderr",
     "output_type": "stream",
     "text": [
      "I0522 22:10:37.933322 139898093799232 iteration.py:250] Rebuilding iteration 1\n"
     ]
    },
    {
     "name": "stdout",
     "output_type": "stream",
     "text": [
      "INFO:tensorflow:Rebuilding subnetwork 'RNN_SGRU_layer_3'\n"
     ]
    },
    {
     "name": "stderr",
     "output_type": "stream",
     "text": [
      "I0522 22:10:37.962797 139898093799232 iteration.py:337] Rebuilding subnetwork 'RNN_SGRU_layer_3'\n"
     ]
    },
    {
     "name": "stdout",
     "output_type": "stream",
     "text": [
      "\n",
      "\n",
      "*** build_subnetwork() : features= {'images': <tf.Tensor 'IteratorGetNext:0' shape=(?, 28, 28) dtype=float32>}\n",
      "\n",
      "\n",
      "*** build_subnetwork() : self._feature_columns= [NumericColumn(key='images', shape=(28, 28), default_value=None, dtype=tf.float32, normalizer_fn=None)]\n",
      "\n",
      "\n",
      "*** build_subnetwork() : NN type= RNN / Input layer shape= (?, 784)\n",
      "\n",
      "*** _build_rnn_subnetwork() : output[-1]= Tensor(\"adanet/iteration_1/subnetwork_t1_RNN_SGRU_layer_3/rnn/rnn/multi_rnn_cell/cell_2/gru_cell/add_27:0\", shape=(?, 128), dtype=float32) / Weight= <tf.Variable 'adanet/iteration_1/subnetwork_t1_RNN_SGRU_layer_3/W:0' shape=(128, 10) dtype=float32_ref>\n",
      "\n",
      "***build_subnetwork() / RNN : logits shape= (?, 10)\n",
      "\n",
      "*** build_subnetwork() : last_layer= Tensor(\"adanet/iteration_1/subnetwork_t1_RNN_SGRU_layer_3/dense/BiasAdd:0\", shape=(?, 128), dtype=float32)\n",
      "WARNING:tensorflow:Using an `adanet.subnetwork.Builder#prune_previous_ensemble` is deprecated. Please use a custom `adanet.ensemble.Strategy` instead.\n"
     ]
    },
    {
     "name": "stderr",
     "output_type": "stream",
     "text": [
      "W0522 22:10:38.917892 139898093799232 tf_logging.py:161] Using an `adanet.subnetwork.Builder#prune_previous_ensemble` is deprecated. Please use a custom `adanet.ensemble.Strategy` instead.\n"
     ]
    },
    {
     "name": "stdout",
     "output_type": "stream",
     "text": [
      "INFO:tensorflow:*** _build_weighted_subnetwork_helper() : MixtureWeightType= vector\n"
     ]
    },
    {
     "name": "stderr",
     "output_type": "stream",
     "text": [
      "I0522 22:10:38.927937 139898093799232 weighted.py:391] *** _build_weighted_subnetwork_helper() : MixtureWeightType= vector\n"
     ]
    },
    {
     "name": "stdout",
     "output_type": "stream",
     "text": [
      "INFO:tensorflow:*** _build_weighted_subnetwork_helper() : MixtureWeightType= vector\n"
     ]
    },
    {
     "name": "stderr",
     "output_type": "stream",
     "text": [
      "I0522 22:10:38.935453 139898093799232 weighted.py:391] *** _build_weighted_subnetwork_helper() : MixtureWeightType= vector\n"
     ]
    },
    {
     "name": "stdout",
     "output_type": "stream",
     "text": [
      "\n",
      "*** NNAdaNetBuilder : NN Type=RNN\n",
      "\n",
      "*** get_tf_head() : feature shape= (28, 28)\n",
      "\n",
      "*** get_tf_head() : feature columns= [NumericColumn(key='images', shape=(28, 28), default_value=None, dtype=tf.float32, normalizer_fn=None)]\n",
      "\n",
      "*** NNAdaNetBuilder : NN Type=RNN\n",
      "\n",
      "*** get_tf_head() : feature shape= (28, 28)\n",
      "\n",
      "*** get_tf_head() : feature columns= [NumericColumn(key='images', shape=(28, 28), default_value=None, dtype=tf.float32, normalizer_fn=None)]\n",
      "INFO:tensorflow:Rebuilding iteration 2\n"
     ]
    },
    {
     "name": "stderr",
     "output_type": "stream",
     "text": [
      "I0522 22:10:39.144114 139898093799232 iteration.py:250] Rebuilding iteration 2\n"
     ]
    },
    {
     "name": "stdout",
     "output_type": "stream",
     "text": [
      "INFO:tensorflow:Rebuilding subnetwork 'RNN_SGRU_layer_4'\n"
     ]
    },
    {
     "name": "stderr",
     "output_type": "stream",
     "text": [
      "I0522 22:10:39.173551 139898093799232 iteration.py:337] Rebuilding subnetwork 'RNN_SGRU_layer_4'\n"
     ]
    },
    {
     "name": "stdout",
     "output_type": "stream",
     "text": [
      "\n",
      "\n",
      "*** build_subnetwork() : features= {'images': <tf.Tensor 'IteratorGetNext:0' shape=(?, 28, 28) dtype=float32>}\n",
      "\n",
      "\n",
      "*** build_subnetwork() : self._feature_columns= [NumericColumn(key='images', shape=(28, 28), default_value=None, dtype=tf.float32, normalizer_fn=None)]\n",
      "\n",
      "\n",
      "*** build_subnetwork() : NN type= RNN / Input layer shape= (?, 784)\n",
      "\n",
      "*** _build_rnn_subnetwork() : output[-1]= Tensor(\"adanet/iteration_2/subnetwork_t2_RNN_SGRU_layer_4/rnn/rnn/multi_rnn_cell/cell_3/gru_cell/add_27:0\", shape=(?, 128), dtype=float32) / Weight= <tf.Variable 'adanet/iteration_2/subnetwork_t2_RNN_SGRU_layer_4/W:0' shape=(128, 10) dtype=float32_ref>\n",
      "\n",
      "***build_subnetwork() / RNN : logits shape= (?, 10)\n",
      "\n",
      "*** build_subnetwork() : last_layer= Tensor(\"adanet/iteration_2/subnetwork_t2_RNN_SGRU_layer_4/dense/BiasAdd:0\", shape=(?, 128), dtype=float32)\n",
      "WARNING:tensorflow:Using an `adanet.subnetwork.Builder#prune_previous_ensemble` is deprecated. Please use a custom `adanet.ensemble.Strategy` instead.\n"
     ]
    },
    {
     "name": "stderr",
     "output_type": "stream",
     "text": [
      "W0522 22:10:40.429551 139898093799232 tf_logging.py:161] Using an `adanet.subnetwork.Builder#prune_previous_ensemble` is deprecated. Please use a custom `adanet.ensemble.Strategy` instead.\n"
     ]
    },
    {
     "name": "stdout",
     "output_type": "stream",
     "text": [
      "INFO:tensorflow:*** _build_weighted_subnetwork_helper() : MixtureWeightType= vector\n"
     ]
    },
    {
     "name": "stderr",
     "output_type": "stream",
     "text": [
      "I0522 22:10:40.435442 139898093799232 weighted.py:391] *** _build_weighted_subnetwork_helper() : MixtureWeightType= vector\n"
     ]
    },
    {
     "name": "stdout",
     "output_type": "stream",
     "text": [
      "INFO:tensorflow:*** _build_weighted_subnetwork_helper() : MixtureWeightType= vector\n"
     ]
    },
    {
     "name": "stderr",
     "output_type": "stream",
     "text": [
      "I0522 22:10:40.445885 139898093799232 weighted.py:391] *** _build_weighted_subnetwork_helper() : MixtureWeightType= vector\n"
     ]
    },
    {
     "name": "stdout",
     "output_type": "stream",
     "text": [
      "INFO:tensorflow:*** _build_weighted_subnetwork_helper() : MixtureWeightType= vector\n"
     ]
    },
    {
     "name": "stderr",
     "output_type": "stream",
     "text": [
      "I0522 22:10:40.452535 139898093799232 weighted.py:391] *** _build_weighted_subnetwork_helper() : MixtureWeightType= vector\n"
     ]
    },
    {
     "name": "stdout",
     "output_type": "stream",
     "text": [
      "\n",
      "*** NNAdaNetBuilder : NN Type=RNN\n",
      "\n",
      "*** get_tf_head() : feature shape= (28, 28)\n",
      "\n",
      "*** get_tf_head() : feature columns= [NumericColumn(key='images', shape=(28, 28), default_value=None, dtype=tf.float32, normalizer_fn=None)]\n",
      "\n",
      "*** NNAdaNetBuilder : NN Type=RNN\n",
      "\n",
      "*** get_tf_head() : feature shape= (28, 28)\n",
      "\n",
      "*** get_tf_head() : feature columns= [NumericColumn(key='images', shape=(28, 28), default_value=None, dtype=tf.float32, normalizer_fn=None)]\n",
      "INFO:tensorflow:Building iteration 3\n"
     ]
    },
    {
     "name": "stderr",
     "output_type": "stream",
     "text": [
      "I0522 22:10:40.664344 139898093799232 iteration.py:250] Building iteration 3\n"
     ]
    },
    {
     "name": "stdout",
     "output_type": "stream",
     "text": [
      "INFO:tensorflow:Building subnetwork 'RNN_SGRU_layer_4'\n"
     ]
    },
    {
     "name": "stderr",
     "output_type": "stream",
     "text": [
      "I0522 22:10:40.693604 139898093799232 iteration.py:337] Building subnetwork 'RNN_SGRU_layer_4'\n"
     ]
    },
    {
     "name": "stdout",
     "output_type": "stream",
     "text": [
      "\n",
      "\n",
      "*** build_subnetwork() : features= {'images': <tf.Tensor 'IteratorGetNext:0' shape=(?, 28, 28) dtype=float32>}\n",
      "\n",
      "\n",
      "*** build_subnetwork() : self._feature_columns= [NumericColumn(key='images', shape=(28, 28), default_value=None, dtype=tf.float32, normalizer_fn=None)]\n",
      "\n",
      "\n",
      "*** build_subnetwork() : NN type= RNN / Input layer shape= (?, 784)\n",
      "\n",
      "*** _build_rnn_subnetwork() : output[-1]= Tensor(\"adanet/iteration_3/subnetwork_t3_RNN_SGRU_layer_4/rnn/rnn/multi_rnn_cell/cell_3/gru_cell/add_27:0\", shape=(?, 128), dtype=float32) / Weight= <tf.Variable 'adanet/iteration_3/subnetwork_t3_RNN_SGRU_layer_4/W:0' shape=(128, 10) dtype=float32_ref>\n",
      "\n",
      "***build_subnetwork() / RNN : logits shape= (?, 10)\n",
      "\n",
      "*** build_subnetwork() : last_layer= Tensor(\"adanet/iteration_3/subnetwork_t3_RNN_SGRU_layer_4/dense/BiasAdd:0\", shape=(?, 128), dtype=float32)\n",
      "INFO:tensorflow:Building subnetwork 'RNN_SGRU_layer_5'\n"
     ]
    },
    {
     "name": "stderr",
     "output_type": "stream",
     "text": [
      "I0522 22:10:41.968971 139898093799232 iteration.py:337] Building subnetwork 'RNN_SGRU_layer_5'\n"
     ]
    },
    {
     "name": "stdout",
     "output_type": "stream",
     "text": [
      "\n",
      "\n",
      "*** build_subnetwork() : features= {'images': <tf.Tensor 'IteratorGetNext:0' shape=(?, 28, 28) dtype=float32>}\n",
      "\n",
      "\n",
      "*** build_subnetwork() : self._feature_columns= [NumericColumn(key='images', shape=(28, 28), default_value=None, dtype=tf.float32, normalizer_fn=None)]\n",
      "\n",
      "\n",
      "*** build_subnetwork() : NN type= RNN / Input layer shape= (?, 784)\n",
      "\n",
      "*** _build_rnn_subnetwork() : output[-1]= Tensor(\"adanet/iteration_3/subnetwork_t3_RNN_SGRU_layer_5/rnn/rnn/multi_rnn_cell/cell_4/gru_cell/add_27:0\", shape=(?, 128), dtype=float32) / Weight= <tf.Variable 'adanet/iteration_3/subnetwork_t3_RNN_SGRU_layer_5/W:0' shape=(128, 10) dtype=float32_ref>\n",
      "\n",
      "***build_subnetwork() / RNN : logits shape= (?, 10)\n",
      "\n",
      "*** build_subnetwork() : last_layer= Tensor(\"adanet/iteration_3/subnetwork_t3_RNN_SGRU_layer_5/dense/BiasAdd:0\", shape=(?, 128), dtype=float32)\n",
      "WARNING:tensorflow:Using an `adanet.subnetwork.Builder#prune_previous_ensemble` is deprecated. Please use a custom `adanet.ensemble.Strategy` instead.\n"
     ]
    },
    {
     "name": "stderr",
     "output_type": "stream",
     "text": [
      "W0522 22:10:43.960911 139898093799232 tf_logging.py:161] Using an `adanet.subnetwork.Builder#prune_previous_ensemble` is deprecated. Please use a custom `adanet.ensemble.Strategy` instead.\n"
     ]
    },
    {
     "name": "stdout",
     "output_type": "stream",
     "text": [
      "INFO:tensorflow:*** _build_weighted_subnetwork_helper() : MixtureWeightType= vector\n"
     ]
    },
    {
     "name": "stderr",
     "output_type": "stream",
     "text": [
      "I0522 22:10:43.972879 139898093799232 weighted.py:391] *** _build_weighted_subnetwork_helper() : MixtureWeightType= vector\n"
     ]
    },
    {
     "name": "stdout",
     "output_type": "stream",
     "text": [
      "INFO:tensorflow:*** _build_weighted_subnetwork_helper() : MixtureWeightType= vector\n"
     ]
    },
    {
     "name": "stderr",
     "output_type": "stream",
     "text": [
      "I0522 22:10:44.002322 139898093799232 weighted.py:391] *** _build_weighted_subnetwork_helper() : MixtureWeightType= vector\n"
     ]
    },
    {
     "name": "stdout",
     "output_type": "stream",
     "text": [
      "INFO:tensorflow:*** _build_weighted_subnetwork_helper() : MixtureWeightType= vector\n"
     ]
    },
    {
     "name": "stderr",
     "output_type": "stream",
     "text": [
      "I0522 22:10:44.029778 139898093799232 weighted.py:391] *** _build_weighted_subnetwork_helper() : MixtureWeightType= vector\n"
     ]
    },
    {
     "name": "stdout",
     "output_type": "stream",
     "text": [
      "INFO:tensorflow:*** _build_weighted_subnetwork_helper() : MixtureWeightType= vector\n"
     ]
    },
    {
     "name": "stderr",
     "output_type": "stream",
     "text": [
      "I0522 22:10:44.042688 139898093799232 weighted.py:391] *** _build_weighted_subnetwork_helper() : MixtureWeightType= vector\n"
     ]
    },
    {
     "name": "stdout",
     "output_type": "stream",
     "text": [
      "WARNING:tensorflow:Using an `adanet.subnetwork.Builder#prune_previous_ensemble` is deprecated. Please use a custom `adanet.ensemble.Strategy` instead.\n"
     ]
    },
    {
     "name": "stderr",
     "output_type": "stream",
     "text": [
      "W0522 22:10:44.565366 139898093799232 tf_logging.py:161] Using an `adanet.subnetwork.Builder#prune_previous_ensemble` is deprecated. Please use a custom `adanet.ensemble.Strategy` instead.\n"
     ]
    },
    {
     "name": "stdout",
     "output_type": "stream",
     "text": [
      "INFO:tensorflow:*** _build_weighted_subnetwork_helper() : MixtureWeightType= vector\n"
     ]
    },
    {
     "name": "stderr",
     "output_type": "stream",
     "text": [
      "I0522 22:10:44.584826 139898093799232 weighted.py:391] *** _build_weighted_subnetwork_helper() : MixtureWeightType= vector\n"
     ]
    },
    {
     "name": "stdout",
     "output_type": "stream",
     "text": [
      "INFO:tensorflow:*** _build_weighted_subnetwork_helper() : MixtureWeightType= vector\n"
     ]
    },
    {
     "name": "stderr",
     "output_type": "stream",
     "text": [
      "I0522 22:10:44.600094 139898093799232 weighted.py:391] *** _build_weighted_subnetwork_helper() : MixtureWeightType= vector\n"
     ]
    },
    {
     "name": "stdout",
     "output_type": "stream",
     "text": [
      "INFO:tensorflow:*** _build_weighted_subnetwork_helper() : MixtureWeightType= vector\n"
     ]
    },
    {
     "name": "stderr",
     "output_type": "stream",
     "text": [
      "I0522 22:10:44.607269 139898093799232 weighted.py:391] *** _build_weighted_subnetwork_helper() : MixtureWeightType= vector\n"
     ]
    },
    {
     "name": "stdout",
     "output_type": "stream",
     "text": [
      "INFO:tensorflow:*** _build_weighted_subnetwork_helper() : MixtureWeightType= vector\n"
     ]
    },
    {
     "name": "stderr",
     "output_type": "stream",
     "text": [
      "I0522 22:10:44.614405 139898093799232 weighted.py:391] *** _build_weighted_subnetwork_helper() : MixtureWeightType= vector\n"
     ]
    },
    {
     "name": "stdout",
     "output_type": "stream",
     "text": [
      "INFO:tensorflow:Done calling model_fn.\n"
     ]
    },
    {
     "name": "stderr",
     "output_type": "stream",
     "text": [
      "I0522 22:10:44.885088 139898093799232 estimator.py:1113] Done calling model_fn.\n"
     ]
    },
    {
     "name": "stdout",
     "output_type": "stream",
     "text": [
      "INFO:tensorflow:Starting evaluation at 2019-05-22T20:10:44Z\n"
     ]
    },
    {
     "name": "stderr",
     "output_type": "stream",
     "text": [
      "I0522 22:10:44.901613 139898093799232 evaluation.py:257] Starting evaluation at 2019-05-22T20:10:44Z\n"
     ]
    },
    {
     "name": "stdout",
     "output_type": "stream",
     "text": [
      "INFO:tensorflow:Graph was finalized.\n"
     ]
    },
    {
     "name": "stderr",
     "output_type": "stream",
     "text": [
      "I0522 22:10:45.326795 139898093799232 monitored_session.py:222] Graph was finalized.\n"
     ]
    },
    {
     "name": "stdout",
     "output_type": "stream",
     "text": [
      "INFO:tensorflow:Restoring parameters from ./tmp/adanet/SGRU/model.ckpt-28\n"
     ]
    },
    {
     "name": "stderr",
     "output_type": "stream",
     "text": [
      "I0522 22:10:45.330242 139898093799232 saver.py:1270] Restoring parameters from ./tmp/adanet/SGRU/model.ckpt-28\n"
     ]
    },
    {
     "name": "stdout",
     "output_type": "stream",
     "text": [
      "INFO:tensorflow:Running local_init_op.\n"
     ]
    },
    {
     "name": "stderr",
     "output_type": "stream",
     "text": [
      "I0522 22:10:45.866226 139898093799232 session_manager.py:491] Running local_init_op.\n"
     ]
    },
    {
     "name": "stdout",
     "output_type": "stream",
     "text": [
      "INFO:tensorflow:Done running local_init_op.\n"
     ]
    },
    {
     "name": "stderr",
     "output_type": "stream",
     "text": [
      "I0522 22:10:46.058618 139898093799232 session_manager.py:493] Done running local_init_op.\n"
     ]
    },
    {
     "name": "stdout",
     "output_type": "stream",
     "text": [
      "\n",
      "*** generator() : labels shape= (10000,) / label values= 0\n",
      "INFO:tensorflow:Finished evaluation at 2019-05-22-20:11:05\n"
     ]
    },
    {
     "name": "stderr",
     "output_type": "stream",
     "text": [
      "I0522 22:11:05.238373 139898093799232 evaluation.py:277] Finished evaluation at 2019-05-22-20:11:05\n"
     ]
    },
    {
     "name": "stdout",
     "output_type": "stream",
     "text": [
      "INFO:tensorflow:Saving dict for global step 28: accuracy = 0.5074, average_loss = 2.186048, global_step = 28, loss = 2.1859367\n"
     ]
    },
    {
     "name": "stderr",
     "output_type": "stream",
     "text": [
      "I0522 22:11:05.239251 139898093799232 estimator.py:1979] Saving dict for global step 28: accuracy = 0.5074, average_loss = 2.186048, global_step = 28, loss = 2.1859367\n"
     ]
    },
    {
     "name": "stdout",
     "output_type": "stream",
     "text": [
      "INFO:tensorflow:Saving 'checkpoint_path' summary for global step 28: ./tmp/adanet/SGRU/model.ckpt-28\n"
     ]
    },
    {
     "name": "stderr",
     "output_type": "stream",
     "text": [
      "I0522 22:11:05.240416 139898093799232 estimator.py:2039] Saving 'checkpoint_path' summary for global step 28: ./tmp/adanet/SGRU/model.ckpt-28\n"
     ]
    },
    {
     "name": "stdout",
     "output_type": "stream",
     "text": [
      "INFO:tensorflow:Loss for final step: 2.1826491.\n"
     ]
    },
    {
     "name": "stderr",
     "output_type": "stream",
     "text": [
      "I0522 22:11:05.494826 139898093799232 estimator.py:359] Loss for final step: 2.1826491.\n"
     ]
    },
    {
     "name": "stdout",
     "output_type": "stream",
     "text": [
      "\n",
      "*** input_fn() : feature_shape= (28, 28) / label_shape= [1]\n",
      "\n",
      "*** preprocess_image() : image shape= (28, 28)\n",
      "\n",
      "*** preprocess_image() : features= {'images': <tf.Tensor 'arg0:0' shape=(28, 28) dtype=float32>} / label shape= ()\n",
      "\n",
      "***_input_fn() : Label shape =[1]\n",
      "INFO:tensorflow:Calling model_fn.\n"
     ]
    },
    {
     "name": "stderr",
     "output_type": "stream",
     "text": [
      "I0522 22:11:05.796667 139898093799232 estimator.py:1111] Calling model_fn.\n"
     ]
    },
    {
     "name": "stdout",
     "output_type": "stream",
     "text": [
      "\n",
      "*** NNAdaNetBuilder : NN Type=RNN\n",
      "\n",
      "*** get_tf_head() : feature shape= (28, 28)\n",
      "\n",
      "*** get_tf_head() : feature columns= [NumericColumn(key='images', shape=(28, 28), default_value=None, dtype=tf.float32, normalizer_fn=None)]\n",
      "\n",
      "*** NNAdaNetBuilder : NN Type=RNN\n",
      "\n",
      "*** get_tf_head() : feature shape= (28, 28)\n",
      "\n",
      "*** get_tf_head() : feature columns= [NumericColumn(key='images', shape=(28, 28), default_value=None, dtype=tf.float32, normalizer_fn=None)]\n",
      "INFO:tensorflow:Rebuilding iteration 0\n"
     ]
    },
    {
     "name": "stderr",
     "output_type": "stream",
     "text": [
      "I0522 22:11:05.807432 139898093799232 iteration.py:250] Rebuilding iteration 0\n"
     ]
    },
    {
     "name": "stdout",
     "output_type": "stream",
     "text": [
      "INFO:tensorflow:Rebuilding subnetwork 'RNN_SGRU_layer_2'\n"
     ]
    },
    {
     "name": "stderr",
     "output_type": "stream",
     "text": [
      "I0522 22:11:05.815008 139898093799232 iteration.py:337] Rebuilding subnetwork 'RNN_SGRU_layer_2'\n"
     ]
    },
    {
     "name": "stdout",
     "output_type": "stream",
     "text": [
      "\n",
      "\n",
      "*** build_subnetwork() : features= {'images': <tf.Tensor 'IteratorGetNext:0' shape=(?, 28, 28) dtype=float32>}\n",
      "\n",
      "\n",
      "*** build_subnetwork() : self._feature_columns= [NumericColumn(key='images', shape=(28, 28), default_value=None, dtype=tf.float32, normalizer_fn=None)]\n",
      "\n",
      "\n",
      "*** build_subnetwork() : NN type= RNN / Input layer shape= (?, 784)\n",
      "\n",
      "*** _build_rnn_subnetwork() : output[-1]= Tensor(\"adanet/iteration_0/subnetwork_t0_RNN_SGRU_layer_2/rnn/rnn/multi_rnn_cell/cell_1/gru_cell/add_27:0\", shape=(?, 128), dtype=float32) / Weight= <tf.Variable 'adanet/iteration_0/subnetwork_t0_RNN_SGRU_layer_2/W:0' shape=(128, 10) dtype=float32_ref>\n",
      "\n",
      "***build_subnetwork() / RNN : logits shape= (?, 10)\n",
      "\n",
      "*** build_subnetwork() : last_layer= Tensor(\"adanet/iteration_0/subnetwork_t0_RNN_SGRU_layer_2/dense/BiasAdd:0\", shape=(?, 128), dtype=float32)\n",
      "INFO:tensorflow:*** _build_weighted_subnetwork_helper() : MixtureWeightType= vector\n"
     ]
    },
    {
     "name": "stderr",
     "output_type": "stream",
     "text": [
      "I0522 22:11:06.725256 139898093799232 weighted.py:391] *** _build_weighted_subnetwork_helper() : MixtureWeightType= vector\n"
     ]
    },
    {
     "name": "stdout",
     "output_type": "stream",
     "text": [
      "\n",
      "*** NNAdaNetBuilder : NN Type=RNN\n",
      "\n",
      "*** get_tf_head() : feature shape= (28, 28)\n",
      "\n",
      "*** get_tf_head() : feature columns= [NumericColumn(key='images', shape=(28, 28), default_value=None, dtype=tf.float32, normalizer_fn=None)]\n",
      "\n",
      "*** NNAdaNetBuilder : NN Type=RNN\n",
      "\n",
      "*** get_tf_head() : feature shape= (28, 28)\n",
      "\n",
      "*** get_tf_head() : feature columns= [NumericColumn(key='images', shape=(28, 28), default_value=None, dtype=tf.float32, normalizer_fn=None)]\n",
      "INFO:tensorflow:Rebuilding iteration 1\n"
     ]
    },
    {
     "name": "stderr",
     "output_type": "stream",
     "text": [
      "I0522 22:11:06.963258 139898093799232 iteration.py:250] Rebuilding iteration 1\n"
     ]
    },
    {
     "name": "stdout",
     "output_type": "stream",
     "text": [
      "INFO:tensorflow:Rebuilding subnetwork 'RNN_SGRU_layer_3'\n"
     ]
    },
    {
     "name": "stderr",
     "output_type": "stream",
     "text": [
      "I0522 22:11:07.030439 139898093799232 iteration.py:337] Rebuilding subnetwork 'RNN_SGRU_layer_3'\n"
     ]
    },
    {
     "name": "stdout",
     "output_type": "stream",
     "text": [
      "\n",
      "\n",
      "*** build_subnetwork() : features= {'images': <tf.Tensor 'IteratorGetNext:0' shape=(?, 28, 28) dtype=float32>}\n",
      "\n",
      "\n",
      "*** build_subnetwork() : self._feature_columns= [NumericColumn(key='images', shape=(28, 28), default_value=None, dtype=tf.float32, normalizer_fn=None)]\n",
      "\n",
      "\n",
      "*** build_subnetwork() : NN type= RNN / Input layer shape= (?, 784)\n",
      "\n",
      "*** _build_rnn_subnetwork() : output[-1]= Tensor(\"adanet/iteration_1/subnetwork_t1_RNN_SGRU_layer_3/rnn/rnn/multi_rnn_cell/cell_2/gru_cell/add_27:0\", shape=(?, 128), dtype=float32) / Weight= <tf.Variable 'adanet/iteration_1/subnetwork_t1_RNN_SGRU_layer_3/W:0' shape=(128, 10) dtype=float32_ref>\n",
      "\n",
      "***build_subnetwork() / RNN : logits shape= (?, 10)\n",
      "\n",
      "*** build_subnetwork() : last_layer= Tensor(\"adanet/iteration_1/subnetwork_t1_RNN_SGRU_layer_3/dense/BiasAdd:0\", shape=(?, 128), dtype=float32)\n",
      "WARNING:tensorflow:Using an `adanet.subnetwork.Builder#prune_previous_ensemble` is deprecated. Please use a custom `adanet.ensemble.Strategy` instead.\n"
     ]
    },
    {
     "name": "stderr",
     "output_type": "stream",
     "text": [
      "W0522 22:11:08.070593 139898093799232 tf_logging.py:161] Using an `adanet.subnetwork.Builder#prune_previous_ensemble` is deprecated. Please use a custom `adanet.ensemble.Strategy` instead.\n"
     ]
    },
    {
     "name": "stdout",
     "output_type": "stream",
     "text": [
      "INFO:tensorflow:*** _build_weighted_subnetwork_helper() : MixtureWeightType= vector\n"
     ]
    },
    {
     "name": "stderr",
     "output_type": "stream",
     "text": [
      "I0522 22:11:08.075141 139898093799232 weighted.py:391] *** _build_weighted_subnetwork_helper() : MixtureWeightType= vector\n"
     ]
    },
    {
     "name": "stdout",
     "output_type": "stream",
     "text": [
      "INFO:tensorflow:*** _build_weighted_subnetwork_helper() : MixtureWeightType= vector\n"
     ]
    },
    {
     "name": "stderr",
     "output_type": "stream",
     "text": [
      "I0522 22:11:08.082381 139898093799232 weighted.py:391] *** _build_weighted_subnetwork_helper() : MixtureWeightType= vector\n"
     ]
    },
    {
     "name": "stdout",
     "output_type": "stream",
     "text": [
      "\n",
      "*** NNAdaNetBuilder : NN Type=RNN\n",
      "\n",
      "*** get_tf_head() : feature shape= (28, 28)\n",
      "\n",
      "*** get_tf_head() : feature columns= [NumericColumn(key='images', shape=(28, 28), default_value=None, dtype=tf.float32, normalizer_fn=None)]\n",
      "\n",
      "*** NNAdaNetBuilder : NN Type=RNN\n",
      "\n",
      "*** get_tf_head() : feature shape= (28, 28)\n",
      "\n",
      "*** get_tf_head() : feature columns= [NumericColumn(key='images', shape=(28, 28), default_value=None, dtype=tf.float32, normalizer_fn=None)]\n",
      "INFO:tensorflow:Rebuilding iteration 2\n"
     ]
    },
    {
     "name": "stderr",
     "output_type": "stream",
     "text": [
      "I0522 22:11:08.296823 139898093799232 iteration.py:250] Rebuilding iteration 2\n"
     ]
    },
    {
     "name": "stdout",
     "output_type": "stream",
     "text": [
      "INFO:tensorflow:Rebuilding subnetwork 'RNN_SGRU_layer_4'\n"
     ]
    },
    {
     "name": "stderr",
     "output_type": "stream",
     "text": [
      "I0522 22:11:08.334568 139898093799232 iteration.py:337] Rebuilding subnetwork 'RNN_SGRU_layer_4'\n"
     ]
    },
    {
     "name": "stdout",
     "output_type": "stream",
     "text": [
      "\n",
      "\n",
      "*** build_subnetwork() : features= {'images': <tf.Tensor 'IteratorGetNext:0' shape=(?, 28, 28) dtype=float32>}\n",
      "\n",
      "\n",
      "*** build_subnetwork() : self._feature_columns= [NumericColumn(key='images', shape=(28, 28), default_value=None, dtype=tf.float32, normalizer_fn=None)]\n",
      "\n",
      "\n",
      "*** build_subnetwork() : NN type= RNN / Input layer shape= (?, 784)\n",
      "\n",
      "*** _build_rnn_subnetwork() : output[-1]= Tensor(\"adanet/iteration_2/subnetwork_t2_RNN_SGRU_layer_4/rnn/rnn/multi_rnn_cell/cell_3/gru_cell/add_27:0\", shape=(?, 128), dtype=float32) / Weight= <tf.Variable 'adanet/iteration_2/subnetwork_t2_RNN_SGRU_layer_4/W:0' shape=(128, 10) dtype=float32_ref>\n",
      "\n",
      "***build_subnetwork() / RNN : logits shape= (?, 10)\n",
      "\n",
      "*** build_subnetwork() : last_layer= Tensor(\"adanet/iteration_2/subnetwork_t2_RNN_SGRU_layer_4/dense/BiasAdd:0\", shape=(?, 128), dtype=float32)\n",
      "WARNING:tensorflow:Using an `adanet.subnetwork.Builder#prune_previous_ensemble` is deprecated. Please use a custom `adanet.ensemble.Strategy` instead.\n"
     ]
    },
    {
     "name": "stderr",
     "output_type": "stream",
     "text": [
      "W0522 22:11:09.609825 139898093799232 tf_logging.py:161] Using an `adanet.subnetwork.Builder#prune_previous_ensemble` is deprecated. Please use a custom `adanet.ensemble.Strategy` instead.\n"
     ]
    },
    {
     "name": "stdout",
     "output_type": "stream",
     "text": [
      "INFO:tensorflow:*** _build_weighted_subnetwork_helper() : MixtureWeightType= vector\n"
     ]
    },
    {
     "name": "stderr",
     "output_type": "stream",
     "text": [
      "I0522 22:11:09.615661 139898093799232 weighted.py:391] *** _build_weighted_subnetwork_helper() : MixtureWeightType= vector\n"
     ]
    },
    {
     "name": "stdout",
     "output_type": "stream",
     "text": [
      "INFO:tensorflow:*** _build_weighted_subnetwork_helper() : MixtureWeightType= vector\n"
     ]
    },
    {
     "name": "stderr",
     "output_type": "stream",
     "text": [
      "I0522 22:11:09.624852 139898093799232 weighted.py:391] *** _build_weighted_subnetwork_helper() : MixtureWeightType= vector\n"
     ]
    },
    {
     "name": "stdout",
     "output_type": "stream",
     "text": [
      "INFO:tensorflow:*** _build_weighted_subnetwork_helper() : MixtureWeightType= vector\n"
     ]
    },
    {
     "name": "stderr",
     "output_type": "stream",
     "text": [
      "I0522 22:11:09.634067 139898093799232 weighted.py:391] *** _build_weighted_subnetwork_helper() : MixtureWeightType= vector\n"
     ]
    },
    {
     "name": "stdout",
     "output_type": "stream",
     "text": [
      "\n",
      "*** NNAdaNetBuilder : NN Type=RNN\n",
      "\n",
      "*** get_tf_head() : feature shape= (28, 28)\n",
      "\n",
      "*** get_tf_head() : feature columns= [NumericColumn(key='images', shape=(28, 28), default_value=None, dtype=tf.float32, normalizer_fn=None)]\n",
      "\n",
      "*** NNAdaNetBuilder : NN Type=RNN\n",
      "\n",
      "*** get_tf_head() : feature shape= (28, 28)\n",
      "\n",
      "*** get_tf_head() : feature columns= [NumericColumn(key='images', shape=(28, 28), default_value=None, dtype=tf.float32, normalizer_fn=None)]\n",
      "INFO:tensorflow:Building iteration 3\n"
     ]
    },
    {
     "name": "stderr",
     "output_type": "stream",
     "text": [
      "I0522 22:11:09.864051 139898093799232 iteration.py:250] Building iteration 3\n"
     ]
    },
    {
     "name": "stdout",
     "output_type": "stream",
     "text": [
      "INFO:tensorflow:Building subnetwork 'RNN_SGRU_layer_4'\n"
     ]
    },
    {
     "name": "stderr",
     "output_type": "stream",
     "text": [
      "I0522 22:11:09.893517 139898093799232 iteration.py:337] Building subnetwork 'RNN_SGRU_layer_4'\n"
     ]
    },
    {
     "name": "stdout",
     "output_type": "stream",
     "text": [
      "\n",
      "\n",
      "*** build_subnetwork() : features= {'images': <tf.Tensor 'IteratorGetNext:0' shape=(?, 28, 28) dtype=float32>}\n",
      "\n",
      "\n",
      "*** build_subnetwork() : self._feature_columns= [NumericColumn(key='images', shape=(28, 28), default_value=None, dtype=tf.float32, normalizer_fn=None)]\n",
      "\n",
      "\n",
      "*** build_subnetwork() : NN type= RNN / Input layer shape= (?, 784)\n",
      "\n",
      "*** _build_rnn_subnetwork() : output[-1]= Tensor(\"adanet/iteration_3/subnetwork_t3_RNN_SGRU_layer_4/rnn/rnn/multi_rnn_cell/cell_3/gru_cell/add_27:0\", shape=(?, 128), dtype=float32) / Weight= <tf.Variable 'adanet/iteration_3/subnetwork_t3_RNN_SGRU_layer_4/W:0' shape=(128, 10) dtype=float32_ref>\n",
      "\n",
      "***build_subnetwork() / RNN : logits shape= (?, 10)\n",
      "\n",
      "*** build_subnetwork() : last_layer= Tensor(\"adanet/iteration_3/subnetwork_t3_RNN_SGRU_layer_4/dense/BiasAdd:0\", shape=(?, 128), dtype=float32)\n",
      "INFO:tensorflow:Building subnetwork 'RNN_SGRU_layer_5'\n"
     ]
    },
    {
     "name": "stderr",
     "output_type": "stream",
     "text": [
      "I0522 22:11:14.687440 139898093799232 iteration.py:337] Building subnetwork 'RNN_SGRU_layer_5'\n"
     ]
    },
    {
     "name": "stdout",
     "output_type": "stream",
     "text": [
      "\n",
      "\n",
      "*** build_subnetwork() : features= {'images': <tf.Tensor 'IteratorGetNext:0' shape=(?, 28, 28) dtype=float32>}\n",
      "\n",
      "\n",
      "*** build_subnetwork() : self._feature_columns= [NumericColumn(key='images', shape=(28, 28), default_value=None, dtype=tf.float32, normalizer_fn=None)]\n",
      "\n",
      "\n",
      "*** build_subnetwork() : NN type= RNN / Input layer shape= (?, 784)\n",
      "\n",
      "*** _build_rnn_subnetwork() : output[-1]= Tensor(\"adanet/iteration_3/subnetwork_t3_RNN_SGRU_layer_5/rnn/rnn/multi_rnn_cell/cell_4/gru_cell/add_27:0\", shape=(?, 128), dtype=float32) / Weight= <tf.Variable 'adanet/iteration_3/subnetwork_t3_RNN_SGRU_layer_5/W:0' shape=(128, 10) dtype=float32_ref>\n",
      "\n",
      "***build_subnetwork() / RNN : logits shape= (?, 10)\n",
      "\n",
      "*** build_subnetwork() : last_layer= Tensor(\"adanet/iteration_3/subnetwork_t3_RNN_SGRU_layer_5/dense/BiasAdd:0\", shape=(?, 128), dtype=float32)\n",
      "WARNING:tensorflow:Using an `adanet.subnetwork.Builder#prune_previous_ensemble` is deprecated. Please use a custom `adanet.ensemble.Strategy` instead.\n"
     ]
    },
    {
     "name": "stderr",
     "output_type": "stream",
     "text": [
      "W0522 22:11:16.491809 139898093799232 tf_logging.py:161] Using an `adanet.subnetwork.Builder#prune_previous_ensemble` is deprecated. Please use a custom `adanet.ensemble.Strategy` instead.\n"
     ]
    },
    {
     "name": "stdout",
     "output_type": "stream",
     "text": [
      "INFO:tensorflow:*** _build_weighted_subnetwork_helper() : MixtureWeightType= vector\n"
     ]
    },
    {
     "name": "stderr",
     "output_type": "stream",
     "text": [
      "I0522 22:11:16.498191 139898093799232 weighted.py:391] *** _build_weighted_subnetwork_helper() : MixtureWeightType= vector\n"
     ]
    },
    {
     "name": "stdout",
     "output_type": "stream",
     "text": [
      "INFO:tensorflow:*** _build_weighted_subnetwork_helper() : MixtureWeightType= vector\n"
     ]
    },
    {
     "name": "stderr",
     "output_type": "stream",
     "text": [
      "I0522 22:11:16.504942 139898093799232 weighted.py:391] *** _build_weighted_subnetwork_helper() : MixtureWeightType= vector\n"
     ]
    },
    {
     "name": "stdout",
     "output_type": "stream",
     "text": [
      "INFO:tensorflow:*** _build_weighted_subnetwork_helper() : MixtureWeightType= vector\n"
     ]
    },
    {
     "name": "stderr",
     "output_type": "stream",
     "text": [
      "I0522 22:11:16.511361 139898093799232 weighted.py:391] *** _build_weighted_subnetwork_helper() : MixtureWeightType= vector\n"
     ]
    },
    {
     "name": "stdout",
     "output_type": "stream",
     "text": [
      "INFO:tensorflow:*** _build_weighted_subnetwork_helper() : MixtureWeightType= vector\n"
     ]
    },
    {
     "name": "stderr",
     "output_type": "stream",
     "text": [
      "I0522 22:11:16.517688 139898093799232 weighted.py:391] *** _build_weighted_subnetwork_helper() : MixtureWeightType= vector\n"
     ]
    },
    {
     "name": "stdout",
     "output_type": "stream",
     "text": [
      "WARNING:tensorflow:Using an `adanet.subnetwork.Builder#prune_previous_ensemble` is deprecated. Please use a custom `adanet.ensemble.Strategy` instead.\n"
     ]
    },
    {
     "name": "stderr",
     "output_type": "stream",
     "text": [
      "W0522 22:11:16.649228 139898093799232 tf_logging.py:161] Using an `adanet.subnetwork.Builder#prune_previous_ensemble` is deprecated. Please use a custom `adanet.ensemble.Strategy` instead.\n"
     ]
    },
    {
     "name": "stdout",
     "output_type": "stream",
     "text": [
      "INFO:tensorflow:*** _build_weighted_subnetwork_helper() : MixtureWeightType= vector\n"
     ]
    },
    {
     "name": "stderr",
     "output_type": "stream",
     "text": [
      "I0522 22:11:16.654311 139898093799232 weighted.py:391] *** _build_weighted_subnetwork_helper() : MixtureWeightType= vector\n"
     ]
    },
    {
     "name": "stdout",
     "output_type": "stream",
     "text": [
      "INFO:tensorflow:*** _build_weighted_subnetwork_helper() : MixtureWeightType= vector\n"
     ]
    },
    {
     "name": "stderr",
     "output_type": "stream",
     "text": [
      "I0522 22:11:16.662241 139898093799232 weighted.py:391] *** _build_weighted_subnetwork_helper() : MixtureWeightType= vector\n"
     ]
    },
    {
     "name": "stdout",
     "output_type": "stream",
     "text": [
      "INFO:tensorflow:*** _build_weighted_subnetwork_helper() : MixtureWeightType= vector\n"
     ]
    },
    {
     "name": "stderr",
     "output_type": "stream",
     "text": [
      "I0522 22:11:16.670499 139898093799232 weighted.py:391] *** _build_weighted_subnetwork_helper() : MixtureWeightType= vector\n"
     ]
    },
    {
     "name": "stdout",
     "output_type": "stream",
     "text": [
      "INFO:tensorflow:*** _build_weighted_subnetwork_helper() : MixtureWeightType= vector\n"
     ]
    },
    {
     "name": "stderr",
     "output_type": "stream",
     "text": [
      "I0522 22:11:16.679177 139898093799232 weighted.py:391] *** _build_weighted_subnetwork_helper() : MixtureWeightType= vector\n"
     ]
    },
    {
     "name": "stdout",
     "output_type": "stream",
     "text": [
      "INFO:tensorflow:Restoring parameters from ./tmp/adanet/SGRU/model.ckpt-28\n"
     ]
    },
    {
     "name": "stderr",
     "output_type": "stream",
     "text": [
      "I0522 22:11:17.903736 139898093799232 saver.py:1270] Restoring parameters from ./tmp/adanet/SGRU/model.ckpt-28\n"
     ]
    },
    {
     "name": "stdout",
     "output_type": "stream",
     "text": [
      "WARNING:tensorflow:`tf.train.start_queue_runners()` was called when no queue runners were defined. You can safely remove the call to this deprecated function.\n"
     ]
    },
    {
     "name": "stderr",
     "output_type": "stream",
     "text": [
      "W0522 22:11:18.301246 139898093799232 queue_runner_impl.py:471] `tf.train.start_queue_runners()` was called when no queue runners were defined. You can safely remove the call to this deprecated function.\n"
     ]
    },
    {
     "name": "stdout",
     "output_type": "stream",
     "text": [
      "\n",
      "*** generator() : labels shape= (55000,) / label values= 3\n",
      "\n",
      "*** generator() : labels shape= (55000,) / label values= 3\n",
      "\n",
      "*** generator() : labels shape= (55000,) / label values= 3\n",
      "\n",
      "*** generator() : labels shape= (55000,) / label values= 3\n",
      "\n",
      "*** generator() : labels shape= (55000,) / label values= 3\n",
      "\n",
      "*** generator() : labels shape= (55000,) / label values= 3\n",
      "\n",
      "*** generator() : labels shape= (55000,) / label values= 3\n",
      "\n",
      "*** generator() : labels shape= (55000,) / label values= 3\n",
      "\n",
      "*** generator() : labels shape= (55000,) / label values= 3\n",
      "\n",
      "*** generator() : labels shape= (55000,) / label values= 3\n",
      "\n",
      "*** generator() : labels shape= (55000,) / label values= 3\n",
      "\n",
      "*** generator() : labels shape= (55000,) / label values= 3\n",
      "\n",
      "*** generator() : labels shape= (55000,) / label values= 3\n",
      "\n",
      "*** generator() : labels shape= (55000,) / label values= 3\n",
      "\n",
      "*** generator() : labels shape= (55000,) / label values= 3\n",
      "\n",
      "*** generator() : labels shape= (55000,) / label values= 3\n",
      "\n",
      "*** generator() : labels shape= (55000,) / label values= 3\n",
      "\n",
      "*** generator() : labels shape= (55000,) / label values= 3\n",
      "\n",
      "*** generator() : labels shape= (55000,) / label values= 3\n",
      "\n",
      "*** generator() : labels shape= (55000,) / label values= 3\n",
      "\n",
      "*** generator() : labels shape= (55000,) / label values= 3\n",
      "\n",
      "*** generator() : labels shape= (55000,) / label values= 3\n",
      "\n",
      "*** generator() : labels shape= (55000,) / label values= 3\n",
      "\n",
      "*** generator() : labels shape= (55000,) / label values= 3\n",
      "\n",
      "*** generator() : labels shape= (55000,) / label values= 3\n",
      "\n",
      "*** generator() : labels shape= (55000,) / label values= 3\n",
      "\n",
      "*** generator() : labels shape= (55000,) / label values= 3\n",
      "\n",
      "*** generator() : labels shape= (55000,) / label values= 3\n",
      "\n",
      "*** generator() : labels shape= (55000,) / label values= 3\n",
      "\n",
      "*** generator() : labels shape= (55000,) / label values= 3\n",
      "\n",
      "*** generator() : labels shape= (55000,) / label values= 3\n",
      "\n",
      "*** generator() : labels shape= (55000,) / label values= 3\n",
      "\n",
      "*** generator() : labels shape= (55000,) / label values= 3\n",
      "\n",
      "*** generator() : labels shape= (55000,) / label values= 3\n",
      "\n",
      "*** generator() : labels shape= (55000,) / label values= 3\n",
      "\n",
      "*** generator() : labels shape= (55000,) / label values= 3\n",
      "\n",
      "*** generator() : labels shape= (55000,) / label values= 3\n",
      "\n",
      "*** generator() : labels shape= (55000,) / label values= 3\n",
      "\n",
      "*** generator() : labels shape= (55000,) / label values= 3\n",
      "\n",
      "*** generator() : labels shape= (55000,) / label values= 3\n",
      "\n",
      "*** generator() : labels shape= (55000,) / label values= 3\n",
      "\n",
      "*** generator() : labels shape= (55000,) / label values= 3\n",
      "\n",
      "*** generator() : labels shape= (55000,) / label values= 3\n",
      "\n",
      "*** generator() : labels shape= (55000,) / label values= 3\n",
      "\n",
      "*** generator() : labels shape= (55000,) / label values= 3\n",
      "\n",
      "*** generator() : labels shape= (55000,) / label values= 3\n",
      "\n",
      "*** generator() : labels shape= (55000,) / label values= 3\n",
      "\n",
      "*** generator() : labels shape= (55000,) / label values= 3\n",
      "\n",
      "*** generator() : labels shape= (55000,) / label values= 3\n",
      "\n",
      "*** generator() : labels shape= (55000,) / label values= 3\n",
      "\n",
      "*** generator() : labels shape= (55000,) / label values= 3\n",
      "\n",
      "*** generator() : labels shape= (55000,) / label values= 3\n",
      "\n",
      "*** generator() : labels shape= (55000,) / label values= 3\n",
      "\n",
      "*** generator() : labels shape= (55000,) / label values= 3\n",
      "\n",
      "*** generator() : labels shape= (55000,) / label values= 3\n",
      "\n",
      "*** generator() : labels shape= (55000,) / label values= 3\n",
      "\n",
      "*** generator() : labels shape= (55000,) / label values= 3\n",
      "\n",
      "*** generator() : labels shape= (55000,) / label values= 3\n",
      "\n",
      "*** generator() : labels shape= (55000,) / label values= 3\n",
      "\n",
      "*** generator() : labels shape= (55000,) / label values= 3\n",
      "\n",
      "*** generator() : labels shape= (55000,) / label values= 3\n",
      "\n",
      "*** generator() : labels shape= (55000,) / label values= 3\n",
      "\n",
      "*** generator() : labels shape= (55000,) / label values= 3\n",
      "\n",
      "*** generator() : labels shape= (55000,) / label values= 3\n",
      "\n",
      "*** generator() : labels shape= (55000,) / label values= 3\n",
      "\n",
      "*** generator() : labels shape= (55000,) / label values= 3\n",
      "\n",
      "*** generator() : labels shape= (55000,) / label values= 3\n",
      "\n",
      "*** generator() : labels shape= (55000,) / label values= 3\n",
      "\n",
      "*** generator() : labels shape= (55000,) / label values= 3\n",
      "\n",
      "*** generator() : labels shape= (55000,) / label values= 3\n",
      "\n",
      "*** generator() : labels shape= (55000,) / label values= 3\n",
      "\n",
      "*** generator() : labels shape= (55000,) / label values= 3\n",
      "\n",
      "*** generator() : labels shape= (55000,) / label values= 3\n",
      "\n",
      "*** generator() : labels shape= (55000,) / label values= 3\n",
      "\n",
      "*** generator() : labels shape= (55000,) / label values= 3\n",
      "\n",
      "*** generator() : labels shape= (55000,) / label values= 3\n",
      "\n",
      "*** generator() : labels shape= (55000,) / label values= 3\n",
      "\n",
      "*** generator() : labels shape= (55000,) / label values= 3\n",
      "\n",
      "*** generator() : labels shape= (55000,) / label values= 3\n",
      "\n",
      "*** generator() : labels shape= (55000,) / label values= 3\n",
      "\n",
      "*** generator() : labels shape= (55000,) / label values= 3\n",
      "\n",
      "*** generator() : labels shape= (55000,) / label values= 3\n",
      "\n",
      "*** generator() : labels shape= (55000,) / label values= 3\n",
      "\n",
      "*** generator() : labels shape= (55000,) / label values= 3\n",
      "\n",
      "*** generator() : labels shape= (55000,) / label values= 3\n",
      "\n",
      "*** generator() : labels shape= (55000,) / label values= 3\n",
      "\n",
      "*** generator() : labels shape= (55000,) / label values= 3\n",
      "\n",
      "*** generator() : labels shape= (55000,) / label values= 3\n",
      "\n",
      "*** generator() : labels shape= (55000,) / label values= 3\n",
      "\n",
      "*** generator() : labels shape= (55000,) / label values= 3\n",
      "\n",
      "*** generator() : labels shape= (55000,) / label values= 3\n",
      "\n",
      "*** generator() : labels shape= (55000,) / label values= 3\n",
      "\n",
      "*** generator() : labels shape= (55000,) / label values= 3\n",
      "\n",
      "*** generator() : labels shape= (55000,) / label values= 3\n",
      "\n",
      "*** generator() : labels shape= (55000,) / label values= 3\n",
      "\n",
      "*** generator() : labels shape= (55000,) / label values= 3\n",
      "\n",
      "*** generator() : labels shape= (55000,) / label values= 3\n",
      "\n",
      "*** generator() : labels shape= (55000,) / label values= 3\n",
      "\n",
      "*** generator() : labels shape= (55000,) / label values= 3\n",
      "\n",
      "*** generator() : labels shape= (55000,) / label values= 3\n",
      "INFO:tensorflow:Done calling model_fn.\n"
     ]
    },
    {
     "name": "stderr",
     "output_type": "stream",
     "text": [
      "I0522 23:24:47.275771 139898093799232 estimator.py:1113] Done calling model_fn.\n"
     ]
    },
    {
     "name": "stdout",
     "output_type": "stream",
     "text": [
      "INFO:tensorflow:Using config: {'_model_dir': './tmp/adanet/SGRU/temp_model_dir', '_tf_random_seed': 42, '_save_summary_steps': 100, '_save_checkpoints_steps': None, '_save_checkpoints_secs': 600, '_session_config': allow_soft_placement: true\n",
      "graph_options {\n",
      "  rewrite_options {\n",
      "    meta_optimizer_iterations: ONE\n",
      "  }\n",
      "}\n",
      ", '_keep_checkpoint_max': 5, '_keep_checkpoint_every_n_hours': 10000, '_log_step_count_steps': 100, '_train_distribute': None, '_device_fn': None, '_protocol': None, '_eval_distribute': None, '_experimental_distribute': None, '_service': None, '_cluster_spec': <tensorflow.python.training.server_lib.ClusterSpec object at 0x7f3a9e45ecf8>, '_task_type': 'worker', '_task_id': 0, '_global_id_in_cluster': 0, '_master': '', '_evaluation_master': '', '_is_chief': True, '_num_ps_replicas': 0, '_num_worker_replicas': 1}\n"
     ]
    },
    {
     "name": "stderr",
     "output_type": "stream",
     "text": [
      "I0522 23:24:47.276915 139898093799232 estimator.py:201] Using config: {'_model_dir': './tmp/adanet/SGRU/temp_model_dir', '_tf_random_seed': 42, '_save_summary_steps': 100, '_save_checkpoints_steps': None, '_save_checkpoints_secs': 600, '_session_config': allow_soft_placement: true\n",
      "graph_options {\n",
      "  rewrite_options {\n",
      "    meta_optimizer_iterations: ONE\n",
      "  }\n",
      "}\n",
      ", '_keep_checkpoint_max': 5, '_keep_checkpoint_every_n_hours': 10000, '_log_step_count_steps': 100, '_train_distribute': None, '_device_fn': None, '_protocol': None, '_eval_distribute': None, '_experimental_distribute': None, '_service': None, '_cluster_spec': <tensorflow.python.training.server_lib.ClusterSpec object at 0x7f3a9e45ecf8>, '_task_type': 'worker', '_task_id': 0, '_global_id_in_cluster': 0, '_master': '', '_evaluation_master': '', '_is_chief': True, '_num_ps_replicas': 0, '_num_worker_replicas': 1}\n"
     ]
    },
    {
     "name": "stdout",
     "output_type": "stream",
     "text": [
      "\n",
      "*** input_fn() : feature_shape= (28, 28) / label_shape= [1]\n",
      "\n",
      "*** preprocess_image() : image shape= (28, 28)\n",
      "\n",
      "*** preprocess_image() : features= {'images': <tf.Tensor 'arg0:0' shape=(28, 28) dtype=float32>} / label shape= ()\n",
      "\n",
      "***_input_fn() : Label shape =[1]\n",
      "INFO:tensorflow:Calling model_fn.\n"
     ]
    },
    {
     "name": "stderr",
     "output_type": "stream",
     "text": [
      "I0522 23:24:47.528456 139898093799232 estimator.py:1111] Calling model_fn.\n"
     ]
    },
    {
     "name": "stdout",
     "output_type": "stream",
     "text": [
      "\n",
      "*** NNAdaNetBuilder : NN Type=RNN\n",
      "\n",
      "*** get_tf_head() : feature shape= (28, 28)\n",
      "\n",
      "*** get_tf_head() : feature columns= [NumericColumn(key='images', shape=(28, 28), default_value=None, dtype=tf.float32, normalizer_fn=None)]\n",
      "\n",
      "*** NNAdaNetBuilder : NN Type=RNN\n",
      "\n",
      "*** get_tf_head() : feature shape= (28, 28)\n",
      "\n",
      "*** get_tf_head() : feature columns= [NumericColumn(key='images', shape=(28, 28), default_value=None, dtype=tf.float32, normalizer_fn=None)]\n",
      "INFO:tensorflow:Rebuilding iteration 0\n"
     ]
    },
    {
     "name": "stderr",
     "output_type": "stream",
     "text": [
      "I0522 23:24:47.532534 139898093799232 iteration.py:250] Rebuilding iteration 0\n"
     ]
    },
    {
     "name": "stdout",
     "output_type": "stream",
     "text": [
      "INFO:tensorflow:Rebuilding subnetwork 'RNN_SGRU_layer_2'\n"
     ]
    },
    {
     "name": "stderr",
     "output_type": "stream",
     "text": [
      "I0522 23:24:47.537201 139898093799232 iteration.py:337] Rebuilding subnetwork 'RNN_SGRU_layer_2'\n"
     ]
    },
    {
     "name": "stdout",
     "output_type": "stream",
     "text": [
      "\n",
      "\n",
      "*** build_subnetwork() : features= {'images': <tf.Tensor 'IteratorGetNext:0' shape=(?, 28, 28) dtype=float32>}\n",
      "\n",
      "\n",
      "*** build_subnetwork() : self._feature_columns= [NumericColumn(key='images', shape=(28, 28), default_value=None, dtype=tf.float32, normalizer_fn=None)]\n",
      "\n",
      "\n",
      "*** build_subnetwork() : NN type= RNN / Input layer shape= (?, 784)\n",
      "\n",
      "*** _build_rnn_subnetwork() : output[-1]= Tensor(\"adanet/iteration_0/subnetwork_t0_RNN_SGRU_layer_2/rnn/rnn/multi_rnn_cell/cell_1/gru_cell/add_27:0\", shape=(?, 128), dtype=float32) / Weight= <tf.Variable 'adanet/iteration_0/subnetwork_t0_RNN_SGRU_layer_2/W:0' shape=(128, 10) dtype=float32_ref>\n",
      "\n",
      "***build_subnetwork() / RNN : logits shape= (?, 10)\n",
      "\n",
      "*** build_subnetwork() : last_layer= Tensor(\"adanet/iteration_0/subnetwork_t0_RNN_SGRU_layer_2/dense/BiasAdd:0\", shape=(?, 128), dtype=float32)\n",
      "INFO:tensorflow:*** _build_weighted_subnetwork_helper() : MixtureWeightType= vector\n"
     ]
    },
    {
     "name": "stderr",
     "output_type": "stream",
     "text": [
      "I0522 23:24:48.084292 139898093799232 weighted.py:391] *** _build_weighted_subnetwork_helper() : MixtureWeightType= vector\n"
     ]
    },
    {
     "name": "stdout",
     "output_type": "stream",
     "text": [
      "\n",
      "*** NNAdaNetBuilder : NN Type=RNN\n",
      "\n",
      "*** get_tf_head() : feature shape= (28, 28)\n",
      "\n",
      "*** get_tf_head() : feature columns= [NumericColumn(key='images', shape=(28, 28), default_value=None, dtype=tf.float32, normalizer_fn=None)]\n",
      "\n",
      "*** NNAdaNetBuilder : NN Type=RNN\n",
      "\n",
      "*** get_tf_head() : feature shape= (28, 28)\n",
      "\n",
      "*** get_tf_head() : feature columns= [NumericColumn(key='images', shape=(28, 28), default_value=None, dtype=tf.float32, normalizer_fn=None)]\n",
      "INFO:tensorflow:Rebuilding iteration 1\n"
     ]
    },
    {
     "name": "stderr",
     "output_type": "stream",
     "text": [
      "I0522 23:24:48.192755 139898093799232 iteration.py:250] Rebuilding iteration 1\n"
     ]
    },
    {
     "name": "stdout",
     "output_type": "stream",
     "text": [
      "INFO:tensorflow:Rebuilding subnetwork 'RNN_SGRU_layer_3'\n"
     ]
    },
    {
     "name": "stderr",
     "output_type": "stream",
     "text": [
      "I0522 23:24:48.212681 139898093799232 iteration.py:337] Rebuilding subnetwork 'RNN_SGRU_layer_3'\n"
     ]
    },
    {
     "name": "stdout",
     "output_type": "stream",
     "text": [
      "\n",
      "\n",
      "*** build_subnetwork() : features= {'images': <tf.Tensor 'IteratorGetNext:0' shape=(?, 28, 28) dtype=float32>}\n",
      "\n",
      "\n",
      "*** build_subnetwork() : self._feature_columns= [NumericColumn(key='images', shape=(28, 28), default_value=None, dtype=tf.float32, normalizer_fn=None)]\n",
      "\n",
      "\n",
      "*** build_subnetwork() : NN type= RNN / Input layer shape= (?, 784)\n",
      "\n",
      "*** _build_rnn_subnetwork() : output[-1]= Tensor(\"adanet/iteration_1/subnetwork_t1_RNN_SGRU_layer_3/rnn/rnn/multi_rnn_cell/cell_2/gru_cell/add_27:0\", shape=(?, 128), dtype=float32) / Weight= <tf.Variable 'adanet/iteration_1/subnetwork_t1_RNN_SGRU_layer_3/W:0' shape=(128, 10) dtype=float32_ref>\n",
      "\n",
      "***build_subnetwork() / RNN : logits shape= (?, 10)\n",
      "\n",
      "*** build_subnetwork() : last_layer= Tensor(\"adanet/iteration_1/subnetwork_t1_RNN_SGRU_layer_3/dense/BiasAdd:0\", shape=(?, 128), dtype=float32)\n",
      "WARNING:tensorflow:Using an `adanet.subnetwork.Builder#prune_previous_ensemble` is deprecated. Please use a custom `adanet.ensemble.Strategy` instead.\n"
     ]
    },
    {
     "name": "stderr",
     "output_type": "stream",
     "text": [
      "W0522 23:24:48.978602 139898093799232 tf_logging.py:161] Using an `adanet.subnetwork.Builder#prune_previous_ensemble` is deprecated. Please use a custom `adanet.ensemble.Strategy` instead.\n"
     ]
    },
    {
     "name": "stdout",
     "output_type": "stream",
     "text": [
      "INFO:tensorflow:*** _build_weighted_subnetwork_helper() : MixtureWeightType= vector\n"
     ]
    },
    {
     "name": "stderr",
     "output_type": "stream",
     "text": [
      "I0522 23:24:48.982838 139898093799232 weighted.py:391] *** _build_weighted_subnetwork_helper() : MixtureWeightType= vector\n"
     ]
    },
    {
     "name": "stdout",
     "output_type": "stream",
     "text": [
      "INFO:tensorflow:*** _build_weighted_subnetwork_helper() : MixtureWeightType= vector\n"
     ]
    },
    {
     "name": "stderr",
     "output_type": "stream",
     "text": [
      "I0522 23:24:48.989415 139898093799232 weighted.py:391] *** _build_weighted_subnetwork_helper() : MixtureWeightType= vector\n"
     ]
    },
    {
     "name": "stdout",
     "output_type": "stream",
     "text": [
      "\n",
      "*** NNAdaNetBuilder : NN Type=RNN\n",
      "\n",
      "*** get_tf_head() : feature shape= (28, 28)\n",
      "\n",
      "*** get_tf_head() : feature columns= [NumericColumn(key='images', shape=(28, 28), default_value=None, dtype=tf.float32, normalizer_fn=None)]\n",
      "\n",
      "*** NNAdaNetBuilder : NN Type=RNN\n",
      "\n",
      "*** get_tf_head() : feature shape= (28, 28)\n",
      "\n",
      "*** get_tf_head() : feature columns= [NumericColumn(key='images', shape=(28, 28), default_value=None, dtype=tf.float32, normalizer_fn=None)]\n",
      "INFO:tensorflow:Rebuilding iteration 2\n"
     ]
    },
    {
     "name": "stderr",
     "output_type": "stream",
     "text": [
      "I0522 23:24:49.127833 139898093799232 iteration.py:250] Rebuilding iteration 2\n"
     ]
    },
    {
     "name": "stdout",
     "output_type": "stream",
     "text": [
      "INFO:tensorflow:Rebuilding subnetwork 'RNN_SGRU_layer_4'\n"
     ]
    },
    {
     "name": "stderr",
     "output_type": "stream",
     "text": [
      "I0522 23:24:49.148286 139898093799232 iteration.py:337] Rebuilding subnetwork 'RNN_SGRU_layer_4'\n"
     ]
    },
    {
     "name": "stdout",
     "output_type": "stream",
     "text": [
      "\n",
      "\n",
      "*** build_subnetwork() : features= {'images': <tf.Tensor 'IteratorGetNext:0' shape=(?, 28, 28) dtype=float32>}\n",
      "\n",
      "\n",
      "*** build_subnetwork() : self._feature_columns= [NumericColumn(key='images', shape=(28, 28), default_value=None, dtype=tf.float32, normalizer_fn=None)]\n",
      "\n",
      "\n",
      "*** build_subnetwork() : NN type= RNN / Input layer shape= (?, 784)\n",
      "\n",
      "*** _build_rnn_subnetwork() : output[-1]= Tensor(\"adanet/iteration_2/subnetwork_t2_RNN_SGRU_layer_4/rnn/rnn/multi_rnn_cell/cell_3/gru_cell/add_27:0\", shape=(?, 128), dtype=float32) / Weight= <tf.Variable 'adanet/iteration_2/subnetwork_t2_RNN_SGRU_layer_4/W:0' shape=(128, 10) dtype=float32_ref>\n",
      "\n",
      "***build_subnetwork() / RNN : logits shape= (?, 10)\n",
      "\n",
      "*** build_subnetwork() : last_layer= Tensor(\"adanet/iteration_2/subnetwork_t2_RNN_SGRU_layer_4/dense/BiasAdd:0\", shape=(?, 128), dtype=float32)\n",
      "WARNING:tensorflow:Using an `adanet.subnetwork.Builder#prune_previous_ensemble` is deprecated. Please use a custom `adanet.ensemble.Strategy` instead.\n"
     ]
    },
    {
     "name": "stderr",
     "output_type": "stream",
     "text": [
      "W0522 23:24:50.136059 139898093799232 tf_logging.py:161] Using an `adanet.subnetwork.Builder#prune_previous_ensemble` is deprecated. Please use a custom `adanet.ensemble.Strategy` instead.\n"
     ]
    },
    {
     "name": "stdout",
     "output_type": "stream",
     "text": [
      "INFO:tensorflow:*** _build_weighted_subnetwork_helper() : MixtureWeightType= vector\n"
     ]
    },
    {
     "name": "stderr",
     "output_type": "stream",
     "text": [
      "I0522 23:24:50.140646 139898093799232 weighted.py:391] *** _build_weighted_subnetwork_helper() : MixtureWeightType= vector\n"
     ]
    },
    {
     "name": "stdout",
     "output_type": "stream",
     "text": [
      "INFO:tensorflow:*** _build_weighted_subnetwork_helper() : MixtureWeightType= vector\n"
     ]
    },
    {
     "name": "stderr",
     "output_type": "stream",
     "text": [
      "I0522 23:24:50.147166 139898093799232 weighted.py:391] *** _build_weighted_subnetwork_helper() : MixtureWeightType= vector\n"
     ]
    },
    {
     "name": "stdout",
     "output_type": "stream",
     "text": [
      "INFO:tensorflow:*** _build_weighted_subnetwork_helper() : MixtureWeightType= vector\n"
     ]
    },
    {
     "name": "stderr",
     "output_type": "stream",
     "text": [
      "I0522 23:24:50.153846 139898093799232 weighted.py:391] *** _build_weighted_subnetwork_helper() : MixtureWeightType= vector\n"
     ]
    },
    {
     "name": "stdout",
     "output_type": "stream",
     "text": [
      "\n",
      "*** NNAdaNetBuilder : NN Type=RNN\n",
      "\n",
      "*** get_tf_head() : feature shape= (28, 28)\n",
      "\n",
      "*** get_tf_head() : feature columns= [NumericColumn(key='images', shape=(28, 28), default_value=None, dtype=tf.float32, normalizer_fn=None)]\n",
      "\n",
      "*** NNAdaNetBuilder : NN Type=RNN\n",
      "\n",
      "*** get_tf_head() : feature shape= (28, 28)\n",
      "\n",
      "*** get_tf_head() : feature columns= [NumericColumn(key='images', shape=(28, 28), default_value=None, dtype=tf.float32, normalizer_fn=None)]\n",
      "INFO:tensorflow:Rebuilding iteration 3\n"
     ]
    },
    {
     "name": "stderr",
     "output_type": "stream",
     "text": [
      "I0522 23:24:50.289924 139898093799232 iteration.py:250] Rebuilding iteration 3\n"
     ]
    },
    {
     "name": "stdout",
     "output_type": "stream",
     "text": [
      "INFO:tensorflow:Rebuilding subnetwork 'RNN_SGRU_layer_4'\n"
     ]
    },
    {
     "name": "stderr",
     "output_type": "stream",
     "text": [
      "I0522 23:24:50.310017 139898093799232 iteration.py:337] Rebuilding subnetwork 'RNN_SGRU_layer_4'\n"
     ]
    },
    {
     "name": "stdout",
     "output_type": "stream",
     "text": [
      "\n",
      "\n",
      "*** build_subnetwork() : features= {'images': <tf.Tensor 'IteratorGetNext:0' shape=(?, 28, 28) dtype=float32>}\n",
      "\n",
      "\n",
      "*** build_subnetwork() : self._feature_columns= [NumericColumn(key='images', shape=(28, 28), default_value=None, dtype=tf.float32, normalizer_fn=None)]\n",
      "\n",
      "\n",
      "*** build_subnetwork() : NN type= RNN / Input layer shape= (?, 784)\n",
      "\n",
      "*** _build_rnn_subnetwork() : output[-1]= Tensor(\"adanet/iteration_3/subnetwork_t3_RNN_SGRU_layer_4/rnn/rnn/multi_rnn_cell/cell_3/gru_cell/add_27:0\", shape=(?, 128), dtype=float32) / Weight= <tf.Variable 'adanet/iteration_3/subnetwork_t3_RNN_SGRU_layer_4/W:0' shape=(128, 10) dtype=float32_ref>\n",
      "\n",
      "***build_subnetwork() / RNN : logits shape= (?, 10)\n",
      "\n",
      "*** build_subnetwork() : last_layer= Tensor(\"adanet/iteration_3/subnetwork_t3_RNN_SGRU_layer_4/dense/BiasAdd:0\", shape=(?, 128), dtype=float32)\n",
      "WARNING:tensorflow:Using an `adanet.subnetwork.Builder#prune_previous_ensemble` is deprecated. Please use a custom `adanet.ensemble.Strategy` instead.\n"
     ]
    },
    {
     "name": "stderr",
     "output_type": "stream",
     "text": [
      "W0522 23:24:51.294399 139898093799232 tf_logging.py:161] Using an `adanet.subnetwork.Builder#prune_previous_ensemble` is deprecated. Please use a custom `adanet.ensemble.Strategy` instead.\n"
     ]
    },
    {
     "name": "stdout",
     "output_type": "stream",
     "text": [
      "INFO:tensorflow:*** _build_weighted_subnetwork_helper() : MixtureWeightType= vector\n"
     ]
    },
    {
     "name": "stderr",
     "output_type": "stream",
     "text": [
      "I0522 23:24:51.298963 139898093799232 weighted.py:391] *** _build_weighted_subnetwork_helper() : MixtureWeightType= vector\n"
     ]
    },
    {
     "name": "stdout",
     "output_type": "stream",
     "text": [
      "INFO:tensorflow:*** _build_weighted_subnetwork_helper() : MixtureWeightType= vector\n"
     ]
    },
    {
     "name": "stderr",
     "output_type": "stream",
     "text": [
      "I0522 23:24:51.305024 139898093799232 weighted.py:391] *** _build_weighted_subnetwork_helper() : MixtureWeightType= vector\n"
     ]
    },
    {
     "name": "stdout",
     "output_type": "stream",
     "text": [
      "INFO:tensorflow:*** _build_weighted_subnetwork_helper() : MixtureWeightType= vector\n"
     ]
    },
    {
     "name": "stderr",
     "output_type": "stream",
     "text": [
      "I0522 23:24:51.310942 139898093799232 weighted.py:391] *** _build_weighted_subnetwork_helper() : MixtureWeightType= vector\n"
     ]
    },
    {
     "name": "stdout",
     "output_type": "stream",
     "text": [
      "INFO:tensorflow:*** _build_weighted_subnetwork_helper() : MixtureWeightType= vector\n"
     ]
    },
    {
     "name": "stderr",
     "output_type": "stream",
     "text": [
      "I0522 23:24:51.316944 139898093799232 weighted.py:391] *** _build_weighted_subnetwork_helper() : MixtureWeightType= vector\n"
     ]
    },
    {
     "name": "stdout",
     "output_type": "stream",
     "text": [
      "\n",
      "*** NNAdaNetBuilder : NN Type=RNN\n",
      "\n",
      "*** get_tf_head() : feature shape= (28, 28)\n",
      "\n",
      "*** get_tf_head() : feature columns= [NumericColumn(key='images', shape=(28, 28), default_value=None, dtype=tf.float32, normalizer_fn=None)]\n",
      "\n",
      "*** NNAdaNetBuilder : NN Type=RNN\n",
      "\n",
      "*** get_tf_head() : feature shape= (28, 28)\n",
      "\n",
      "*** get_tf_head() : feature columns= [NumericColumn(key='images', shape=(28, 28), default_value=None, dtype=tf.float32, normalizer_fn=None)]\n",
      "INFO:tensorflow:Building iteration 4\n"
     ]
    },
    {
     "name": "stderr",
     "output_type": "stream",
     "text": [
      "I0522 23:24:51.455151 139898093799232 iteration.py:250] Building iteration 4\n"
     ]
    },
    {
     "name": "stdout",
     "output_type": "stream",
     "text": [
      "INFO:tensorflow:Building subnetwork 'RNN_SGRU_layer_4'\n"
     ]
    },
    {
     "name": "stderr",
     "output_type": "stream",
     "text": [
      "I0522 23:24:51.475841 139898093799232 iteration.py:337] Building subnetwork 'RNN_SGRU_layer_4'\n"
     ]
    },
    {
     "name": "stdout",
     "output_type": "stream",
     "text": [
      "\n",
      "\n",
      "*** build_subnetwork() : features= {'images': <tf.Tensor 'IteratorGetNext:0' shape=(?, 28, 28) dtype=float32>}\n",
      "\n",
      "\n",
      "*** build_subnetwork() : self._feature_columns= [NumericColumn(key='images', shape=(28, 28), default_value=None, dtype=tf.float32, normalizer_fn=None)]\n",
      "\n",
      "\n",
      "*** build_subnetwork() : NN type= RNN / Input layer shape= (?, 784)\n",
      "\n",
      "*** _build_rnn_subnetwork() : output[-1]= Tensor(\"adanet/iteration_4/subnetwork_t4_RNN_SGRU_layer_4/rnn/rnn/multi_rnn_cell/cell_3/gru_cell/add_27:0\", shape=(?, 128), dtype=float32) / Weight= <tf.Variable 'adanet/iteration_4/subnetwork_t4_RNN_SGRU_layer_4/W:0' shape=(128, 10) dtype=float32_ref>\n",
      "\n",
      "***build_subnetwork() / RNN : logits shape= (?, 10)\n",
      "\n",
      "*** build_subnetwork() : last_layer= Tensor(\"adanet/iteration_4/subnetwork_t4_RNN_SGRU_layer_4/dense/BiasAdd:0\", shape=(?, 128), dtype=float32)\n",
      "INFO:tensorflow:Building subnetwork 'RNN_SGRU_layer_5'\n"
     ]
    },
    {
     "name": "stderr",
     "output_type": "stream",
     "text": [
      "I0522 23:24:57.433098 139898093799232 iteration.py:337] Building subnetwork 'RNN_SGRU_layer_5'\n"
     ]
    },
    {
     "name": "stdout",
     "output_type": "stream",
     "text": [
      "\n",
      "\n",
      "*** build_subnetwork() : features= {'images': <tf.Tensor 'IteratorGetNext:0' shape=(?, 28, 28) dtype=float32>}\n",
      "\n",
      "\n",
      "*** build_subnetwork() : self._feature_columns= [NumericColumn(key='images', shape=(28, 28), default_value=None, dtype=tf.float32, normalizer_fn=None)]\n",
      "\n",
      "\n",
      "*** build_subnetwork() : NN type= RNN / Input layer shape= (?, 784)\n",
      "\n",
      "*** _build_rnn_subnetwork() : output[-1]= Tensor(\"adanet/iteration_4/subnetwork_t4_RNN_SGRU_layer_5/rnn/rnn/multi_rnn_cell/cell_4/gru_cell/add_27:0\", shape=(?, 128), dtype=float32) / Weight= <tf.Variable 'adanet/iteration_4/subnetwork_t4_RNN_SGRU_layer_5/W:0' shape=(128, 10) dtype=float32_ref>\n",
      "\n",
      "***build_subnetwork() / RNN : logits shape= (?, 10)\n",
      "\n",
      "*** build_subnetwork() : last_layer= Tensor(\"adanet/iteration_4/subnetwork_t4_RNN_SGRU_layer_5/dense/BiasAdd:0\", shape=(?, 128), dtype=float32)\n",
      "WARNING:tensorflow:Using an `adanet.subnetwork.Builder#prune_previous_ensemble` is deprecated. Please use a custom `adanet.ensemble.Strategy` instead.\n"
     ]
    },
    {
     "name": "stderr",
     "output_type": "stream",
     "text": [
      "W0522 23:25:05.511424 139898093799232 tf_logging.py:161] Using an `adanet.subnetwork.Builder#prune_previous_ensemble` is deprecated. Please use a custom `adanet.ensemble.Strategy` instead.\n"
     ]
    },
    {
     "name": "stdout",
     "output_type": "stream",
     "text": [
      "INFO:tensorflow:*** _build_weighted_subnetwork_helper() : MixtureWeightType= vector\n"
     ]
    },
    {
     "name": "stderr",
     "output_type": "stream",
     "text": [
      "I0522 23:25:05.515210 139898093799232 weighted.py:391] *** _build_weighted_subnetwork_helper() : MixtureWeightType= vector\n"
     ]
    },
    {
     "name": "stdout",
     "output_type": "stream",
     "text": [
      "INFO:tensorflow:*** _build_weighted_subnetwork_helper() : MixtureWeightType= vector\n"
     ]
    },
    {
     "name": "stderr",
     "output_type": "stream",
     "text": [
      "I0522 23:25:05.522198 139898093799232 weighted.py:391] *** _build_weighted_subnetwork_helper() : MixtureWeightType= vector\n"
     ]
    },
    {
     "name": "stdout",
     "output_type": "stream",
     "text": [
      "INFO:tensorflow:*** _build_weighted_subnetwork_helper() : MixtureWeightType= vector\n"
     ]
    },
    {
     "name": "stderr",
     "output_type": "stream",
     "text": [
      "I0522 23:25:05.528967 139898093799232 weighted.py:391] *** _build_weighted_subnetwork_helper() : MixtureWeightType= vector\n"
     ]
    },
    {
     "name": "stdout",
     "output_type": "stream",
     "text": [
      "INFO:tensorflow:*** _build_weighted_subnetwork_helper() : MixtureWeightType= vector\n"
     ]
    },
    {
     "name": "stderr",
     "output_type": "stream",
     "text": [
      "I0522 23:25:05.536333 139898093799232 weighted.py:391] *** _build_weighted_subnetwork_helper() : MixtureWeightType= vector\n"
     ]
    },
    {
     "name": "stdout",
     "output_type": "stream",
     "text": [
      "INFO:tensorflow:*** _build_weighted_subnetwork_helper() : MixtureWeightType= vector\n"
     ]
    },
    {
     "name": "stderr",
     "output_type": "stream",
     "text": [
      "I0522 23:25:05.543289 139898093799232 weighted.py:391] *** _build_weighted_subnetwork_helper() : MixtureWeightType= vector\n"
     ]
    },
    {
     "name": "stdout",
     "output_type": "stream",
     "text": [
      "WARNING:tensorflow:The `build_mixture_weights_train_op` method is deprecated. Please use the `Ensembler#build_train_op` instead.\n"
     ]
    },
    {
     "name": "stderr",
     "output_type": "stream",
     "text": [
      "W0522 23:25:05.621466 139898093799232 tf_logging.py:161] The `build_mixture_weights_train_op` method is deprecated. Please use the `Ensembler#build_train_op` instead.\n"
     ]
    },
    {
     "name": "stdout",
     "output_type": "stream",
     "text": [
      "WARNING:tensorflow:Using an `adanet.subnetwork.Builder#prune_previous_ensemble` is deprecated. Please use a custom `adanet.ensemble.Strategy` instead.\n"
     ]
    },
    {
     "name": "stderr",
     "output_type": "stream",
     "text": [
      "W0522 23:25:05.800998 139898093799232 tf_logging.py:161] Using an `adanet.subnetwork.Builder#prune_previous_ensemble` is deprecated. Please use a custom `adanet.ensemble.Strategy` instead.\n"
     ]
    },
    {
     "name": "stdout",
     "output_type": "stream",
     "text": [
      "INFO:tensorflow:*** _build_weighted_subnetwork_helper() : MixtureWeightType= vector\n"
     ]
    },
    {
     "name": "stderr",
     "output_type": "stream",
     "text": [
      "I0522 23:25:05.805282 139898093799232 weighted.py:391] *** _build_weighted_subnetwork_helper() : MixtureWeightType= vector\n"
     ]
    },
    {
     "name": "stdout",
     "output_type": "stream",
     "text": [
      "INFO:tensorflow:*** _build_weighted_subnetwork_helper() : MixtureWeightType= vector\n"
     ]
    },
    {
     "name": "stderr",
     "output_type": "stream",
     "text": [
      "I0522 23:25:05.811737 139898093799232 weighted.py:391] *** _build_weighted_subnetwork_helper() : MixtureWeightType= vector\n"
     ]
    },
    {
     "name": "stdout",
     "output_type": "stream",
     "text": [
      "INFO:tensorflow:*** _build_weighted_subnetwork_helper() : MixtureWeightType= vector\n"
     ]
    },
    {
     "name": "stderr",
     "output_type": "stream",
     "text": [
      "I0522 23:25:05.818259 139898093799232 weighted.py:391] *** _build_weighted_subnetwork_helper() : MixtureWeightType= vector\n"
     ]
    },
    {
     "name": "stdout",
     "output_type": "stream",
     "text": [
      "INFO:tensorflow:*** _build_weighted_subnetwork_helper() : MixtureWeightType= vector\n"
     ]
    },
    {
     "name": "stderr",
     "output_type": "stream",
     "text": [
      "I0522 23:25:05.824804 139898093799232 weighted.py:391] *** _build_weighted_subnetwork_helper() : MixtureWeightType= vector\n"
     ]
    },
    {
     "name": "stdout",
     "output_type": "stream",
     "text": [
      "INFO:tensorflow:*** _build_weighted_subnetwork_helper() : MixtureWeightType= vector\n"
     ]
    },
    {
     "name": "stderr",
     "output_type": "stream",
     "text": [
      "I0522 23:25:05.831491 139898093799232 weighted.py:391] *** _build_weighted_subnetwork_helper() : MixtureWeightType= vector\n"
     ]
    },
    {
     "name": "stdout",
     "output_type": "stream",
     "text": [
      "WARNING:tensorflow:The `build_mixture_weights_train_op` method is deprecated. Please use the `Ensembler#build_train_op` instead.\n"
     ]
    },
    {
     "name": "stderr",
     "output_type": "stream",
     "text": [
      "W0522 23:25:05.907374 139898093799232 tf_logging.py:161] The `build_mixture_weights_train_op` method is deprecated. Please use the `Ensembler#build_train_op` instead.\n"
     ]
    },
    {
     "name": "stdout",
     "output_type": "stream",
     "text": [
      "INFO:tensorflow:Done calling model_fn.\n"
     ]
    },
    {
     "name": "stderr",
     "output_type": "stream",
     "text": [
      "I0522 23:25:06.128364 139898093799232 estimator.py:1113] Done calling model_fn.\n"
     ]
    },
    {
     "name": "stdout",
     "output_type": "stream",
     "text": [
      "INFO:tensorflow:Create CheckpointSaverHook.\n"
     ]
    },
    {
     "name": "stderr",
     "output_type": "stream",
     "text": [
      "I0522 23:25:06.129424 139898093799232 basic_session_run_hooks.py:527] Create CheckpointSaverHook.\n"
     ]
    },
    {
     "name": "stdout",
     "output_type": "stream",
     "text": [
      "INFO:tensorflow:Graph was finalized.\n"
     ]
    },
    {
     "name": "stderr",
     "output_type": "stream",
     "text": [
      "I0522 23:25:18.815388 139898093799232 monitored_session.py:222] Graph was finalized.\n"
     ]
    },
    {
     "name": "stdout",
     "output_type": "stream",
     "text": [
      "INFO:tensorflow:Running local_init_op.\n"
     ]
    },
    {
     "name": "stderr",
     "output_type": "stream",
     "text": [
      "I0522 23:25:20.266436 139898093799232 session_manager.py:491] Running local_init_op.\n"
     ]
    },
    {
     "name": "stdout",
     "output_type": "stream",
     "text": [
      "INFO:tensorflow:Done running local_init_op.\n"
     ]
    },
    {
     "name": "stderr",
     "output_type": "stream",
     "text": [
      "I0522 23:25:20.575774 139898093799232 session_manager.py:493] Done running local_init_op.\n"
     ]
    },
    {
     "name": "stdout",
     "output_type": "stream",
     "text": [
      "INFO:tensorflow:Saving checkpoints for 0 into ./tmp/adanet/SGRU/temp_model_dir/model.ckpt.\n"
     ]
    },
    {
     "name": "stderr",
     "output_type": "stream",
     "text": [
      "I0522 23:25:30.843420 139898093799232 basic_session_run_hooks.py:594] Saving checkpoints for 0 into ./tmp/adanet/SGRU/temp_model_dir/model.ckpt.\n"
     ]
    },
    {
     "name": "stdout",
     "output_type": "stream",
     "text": [
      "INFO:tensorflow:Restoring parameters from ./tmp/adanet/SGRU/model.ckpt-28\n"
     ]
    },
    {
     "name": "stderr",
     "output_type": "stream",
     "text": [
      "I0522 23:25:32.836264 139898093799232 saver.py:1270] Restoring parameters from ./tmp/adanet/SGRU/model.ckpt-28\n"
     ]
    },
    {
     "name": "stdout",
     "output_type": "stream",
     "text": [
      "INFO:tensorflow:loss = 2.15378, step = 29\n"
     ]
    },
    {
     "name": "stderr",
     "output_type": "stream",
     "text": [
      "I0522 23:25:38.230232 139898093799232 basic_session_run_hooks.py:249] loss = 2.15378, step = 29\n"
     ]
    },
    {
     "name": "stdout",
     "output_type": "stream",
     "text": [
      "INFO:tensorflow:Saving checkpoints for 29 into ./tmp/adanet/SGRU/temp_model_dir/model.ckpt.\n"
     ]
    },
    {
     "name": "stderr",
     "output_type": "stream",
     "text": [
      "I0522 23:25:38.231375 139898093799232 basic_session_run_hooks.py:594] Saving checkpoints for 29 into ./tmp/adanet/SGRU/temp_model_dir/model.ckpt.\n"
     ]
    },
    {
     "name": "stdout",
     "output_type": "stream",
     "text": [
      "INFO:tensorflow:Loss for final step: 2.15378.\n"
     ]
    },
    {
     "name": "stderr",
     "output_type": "stream",
     "text": [
      "I0522 23:25:39.780803 139898093799232 estimator.py:359] Loss for final step: 2.15378.\n"
     ]
    },
    {
     "name": "stdout",
     "output_type": "stream",
     "text": [
      "\n",
      "*** input_fn() : feature_shape= (28, 28) / label_shape= [1]\n",
      "\n",
      "*** preprocess_image() : image shape= (28, 28)\n",
      "\n",
      "*** preprocess_image() : features= {'images': <tf.Tensor 'arg0:0' shape=(28, 28) dtype=float32>} / label shape= ()\n",
      "\n",
      "***_input_fn() : Label shape =[1]\n",
      "INFO:tensorflow:Calling model_fn.\n"
     ]
    },
    {
     "name": "stderr",
     "output_type": "stream",
     "text": [
      "I0522 23:25:40.014600 139898093799232 estimator.py:1111] Calling model_fn.\n"
     ]
    },
    {
     "name": "stdout",
     "output_type": "stream",
     "text": [
      "\n",
      "*** NNAdaNetBuilder : NN Type=RNN\n",
      "\n",
      "*** get_tf_head() : feature shape= (28, 28)\n",
      "\n",
      "*** get_tf_head() : feature columns= [NumericColumn(key='images', shape=(28, 28), default_value=None, dtype=tf.float32, normalizer_fn=None)]\n",
      "\n",
      "*** NNAdaNetBuilder : NN Type=RNN\n",
      "\n",
      "*** get_tf_head() : feature shape= (28, 28)\n",
      "\n",
      "*** get_tf_head() : feature columns= [NumericColumn(key='images', shape=(28, 28), default_value=None, dtype=tf.float32, normalizer_fn=None)]\n",
      "INFO:tensorflow:Rebuilding iteration 0\n"
     ]
    },
    {
     "name": "stderr",
     "output_type": "stream",
     "text": [
      "I0522 23:25:40.018910 139898093799232 iteration.py:250] Rebuilding iteration 0\n"
     ]
    },
    {
     "name": "stdout",
     "output_type": "stream",
     "text": [
      "INFO:tensorflow:Rebuilding subnetwork 'RNN_SGRU_layer_2'\n"
     ]
    },
    {
     "name": "stderr",
     "output_type": "stream",
     "text": [
      "I0522 23:25:40.023819 139898093799232 iteration.py:337] Rebuilding subnetwork 'RNN_SGRU_layer_2'\n"
     ]
    },
    {
     "name": "stdout",
     "output_type": "stream",
     "text": [
      "\n",
      "\n",
      "*** build_subnetwork() : features= {'images': <tf.Tensor 'IteratorGetNext:0' shape=(?, 28, 28) dtype=float32>}\n",
      "\n",
      "\n",
      "*** build_subnetwork() : self._feature_columns= [NumericColumn(key='images', shape=(28, 28), default_value=None, dtype=tf.float32, normalizer_fn=None)]\n",
      "\n",
      "\n",
      "*** build_subnetwork() : NN type= RNN / Input layer shape= (?, 784)\n",
      "\n",
      "*** _build_rnn_subnetwork() : output[-1]= Tensor(\"adanet/iteration_0/subnetwork_t0_RNN_SGRU_layer_2/rnn/rnn/multi_rnn_cell/cell_1/gru_cell/add_27:0\", shape=(?, 128), dtype=float32) / Weight= <tf.Variable 'adanet/iteration_0/subnetwork_t0_RNN_SGRU_layer_2/W:0' shape=(128, 10) dtype=float32_ref>\n",
      "\n",
      "***build_subnetwork() / RNN : logits shape= (?, 10)\n",
      "\n",
      "*** build_subnetwork() : last_layer= Tensor(\"adanet/iteration_0/subnetwork_t0_RNN_SGRU_layer_2/dense/BiasAdd:0\", shape=(?, 128), dtype=float32)\n",
      "INFO:tensorflow:*** _build_weighted_subnetwork_helper() : MixtureWeightType= vector\n"
     ]
    },
    {
     "name": "stderr",
     "output_type": "stream",
     "text": [
      "I0522 23:25:40.615281 139898093799232 weighted.py:391] *** _build_weighted_subnetwork_helper() : MixtureWeightType= vector\n"
     ]
    },
    {
     "name": "stdout",
     "output_type": "stream",
     "text": [
      "\n",
      "*** NNAdaNetBuilder : NN Type=RNN\n",
      "\n",
      "*** get_tf_head() : feature shape= (28, 28)\n",
      "\n",
      "*** get_tf_head() : feature columns= [NumericColumn(key='images', shape=(28, 28), default_value=None, dtype=tf.float32, normalizer_fn=None)]\n",
      "\n",
      "*** NNAdaNetBuilder : NN Type=RNN\n",
      "\n",
      "*** get_tf_head() : feature shape= (28, 28)\n",
      "\n",
      "*** get_tf_head() : feature columns= [NumericColumn(key='images', shape=(28, 28), default_value=None, dtype=tf.float32, normalizer_fn=None)]\n",
      "INFO:tensorflow:Rebuilding iteration 1\n"
     ]
    },
    {
     "name": "stderr",
     "output_type": "stream",
     "text": [
      "I0522 23:25:40.730164 139898093799232 iteration.py:250] Rebuilding iteration 1\n"
     ]
    },
    {
     "name": "stdout",
     "output_type": "stream",
     "text": [
      "INFO:tensorflow:Rebuilding subnetwork 'RNN_SGRU_layer_3'\n"
     ]
    },
    {
     "name": "stderr",
     "output_type": "stream",
     "text": [
      "I0522 23:25:40.752318 139898093799232 iteration.py:337] Rebuilding subnetwork 'RNN_SGRU_layer_3'\n"
     ]
    },
    {
     "name": "stdout",
     "output_type": "stream",
     "text": [
      "\n",
      "\n",
      "*** build_subnetwork() : features= {'images': <tf.Tensor 'IteratorGetNext:0' shape=(?, 28, 28) dtype=float32>}\n",
      "\n",
      "\n",
      "*** build_subnetwork() : self._feature_columns= [NumericColumn(key='images', shape=(28, 28), default_value=None, dtype=tf.float32, normalizer_fn=None)]\n",
      "\n",
      "\n",
      "*** build_subnetwork() : NN type= RNN / Input layer shape= (?, 784)\n",
      "\n",
      "*** _build_rnn_subnetwork() : output[-1]= Tensor(\"adanet/iteration_1/subnetwork_t1_RNN_SGRU_layer_3/rnn/rnn/multi_rnn_cell/cell_2/gru_cell/add_27:0\", shape=(?, 128), dtype=float32) / Weight= <tf.Variable 'adanet/iteration_1/subnetwork_t1_RNN_SGRU_layer_3/W:0' shape=(128, 10) dtype=float32_ref>\n",
      "\n",
      "***build_subnetwork() / RNN : logits shape= (?, 10)\n",
      "\n",
      "*** build_subnetwork() : last_layer= Tensor(\"adanet/iteration_1/subnetwork_t1_RNN_SGRU_layer_3/dense/BiasAdd:0\", shape=(?, 128), dtype=float32)\n",
      "WARNING:tensorflow:Using an `adanet.subnetwork.Builder#prune_previous_ensemble` is deprecated. Please use a custom `adanet.ensemble.Strategy` instead.\n"
     ]
    },
    {
     "name": "stderr",
     "output_type": "stream",
     "text": [
      "W0522 23:25:41.598451 139898093799232 tf_logging.py:161] Using an `adanet.subnetwork.Builder#prune_previous_ensemble` is deprecated. Please use a custom `adanet.ensemble.Strategy` instead.\n"
     ]
    },
    {
     "name": "stdout",
     "output_type": "stream",
     "text": [
      "INFO:tensorflow:*** _build_weighted_subnetwork_helper() : MixtureWeightType= vector\n"
     ]
    },
    {
     "name": "stderr",
     "output_type": "stream",
     "text": [
      "I0522 23:25:41.603575 139898093799232 weighted.py:391] *** _build_weighted_subnetwork_helper() : MixtureWeightType= vector\n"
     ]
    },
    {
     "name": "stdout",
     "output_type": "stream",
     "text": [
      "INFO:tensorflow:*** _build_weighted_subnetwork_helper() : MixtureWeightType= vector\n"
     ]
    },
    {
     "name": "stderr",
     "output_type": "stream",
     "text": [
      "I0522 23:25:41.611774 139898093799232 weighted.py:391] *** _build_weighted_subnetwork_helper() : MixtureWeightType= vector\n"
     ]
    },
    {
     "name": "stdout",
     "output_type": "stream",
     "text": [
      "\n",
      "*** NNAdaNetBuilder : NN Type=RNN\n",
      "\n",
      "*** get_tf_head() : feature shape= (28, 28)\n",
      "\n",
      "*** get_tf_head() : feature columns= [NumericColumn(key='images', shape=(28, 28), default_value=None, dtype=tf.float32, normalizer_fn=None)]\n",
      "\n",
      "*** NNAdaNetBuilder : NN Type=RNN\n",
      "\n",
      "*** get_tf_head() : feature shape= (28, 28)\n",
      "\n",
      "*** get_tf_head() : feature columns= [NumericColumn(key='images', shape=(28, 28), default_value=None, dtype=tf.float32, normalizer_fn=None)]\n",
      "INFO:tensorflow:Rebuilding iteration 2\n"
     ]
    },
    {
     "name": "stderr",
     "output_type": "stream",
     "text": [
      "I0522 23:25:41.765770 139898093799232 iteration.py:250] Rebuilding iteration 2\n"
     ]
    },
    {
     "name": "stdout",
     "output_type": "stream",
     "text": [
      "INFO:tensorflow:Rebuilding subnetwork 'RNN_SGRU_layer_4'\n"
     ]
    },
    {
     "name": "stderr",
     "output_type": "stream",
     "text": [
      "I0522 23:25:41.789614 139898093799232 iteration.py:337] Rebuilding subnetwork 'RNN_SGRU_layer_4'\n"
     ]
    },
    {
     "name": "stdout",
     "output_type": "stream",
     "text": [
      "\n",
      "\n",
      "*** build_subnetwork() : features= {'images': <tf.Tensor 'IteratorGetNext:0' shape=(?, 28, 28) dtype=float32>}\n",
      "\n",
      "\n",
      "*** build_subnetwork() : self._feature_columns= [NumericColumn(key='images', shape=(28, 28), default_value=None, dtype=tf.float32, normalizer_fn=None)]\n",
      "\n",
      "\n",
      "*** build_subnetwork() : NN type= RNN / Input layer shape= (?, 784)\n",
      "\n",
      "*** _build_rnn_subnetwork() : output[-1]= Tensor(\"adanet/iteration_2/subnetwork_t2_RNN_SGRU_layer_4/rnn/rnn/multi_rnn_cell/cell_3/gru_cell/add_27:0\", shape=(?, 128), dtype=float32) / Weight= <tf.Variable 'adanet/iteration_2/subnetwork_t2_RNN_SGRU_layer_4/W:0' shape=(128, 10) dtype=float32_ref>\n",
      "\n",
      "***build_subnetwork() / RNN : logits shape= (?, 10)\n",
      "\n",
      "*** build_subnetwork() : last_layer= Tensor(\"adanet/iteration_2/subnetwork_t2_RNN_SGRU_layer_4/dense/BiasAdd:0\", shape=(?, 128), dtype=float32)\n",
      "WARNING:tensorflow:Using an `adanet.subnetwork.Builder#prune_previous_ensemble` is deprecated. Please use a custom `adanet.ensemble.Strategy` instead.\n"
     ]
    },
    {
     "name": "stderr",
     "output_type": "stream",
     "text": [
      "W0522 23:25:42.911605 139898093799232 tf_logging.py:161] Using an `adanet.subnetwork.Builder#prune_previous_ensemble` is deprecated. Please use a custom `adanet.ensemble.Strategy` instead.\n"
     ]
    },
    {
     "name": "stdout",
     "output_type": "stream",
     "text": [
      "INFO:tensorflow:*** _build_weighted_subnetwork_helper() : MixtureWeightType= vector\n"
     ]
    },
    {
     "name": "stderr",
     "output_type": "stream",
     "text": [
      "I0522 23:25:42.916025 139898093799232 weighted.py:391] *** _build_weighted_subnetwork_helper() : MixtureWeightType= vector\n"
     ]
    },
    {
     "name": "stdout",
     "output_type": "stream",
     "text": [
      "INFO:tensorflow:*** _build_weighted_subnetwork_helper() : MixtureWeightType= vector\n"
     ]
    },
    {
     "name": "stderr",
     "output_type": "stream",
     "text": [
      "I0522 23:25:42.924119 139898093799232 weighted.py:391] *** _build_weighted_subnetwork_helper() : MixtureWeightType= vector\n"
     ]
    },
    {
     "name": "stdout",
     "output_type": "stream",
     "text": [
      "INFO:tensorflow:*** _build_weighted_subnetwork_helper() : MixtureWeightType= vector\n"
     ]
    },
    {
     "name": "stderr",
     "output_type": "stream",
     "text": [
      "I0522 23:25:42.931086 139898093799232 weighted.py:391] *** _build_weighted_subnetwork_helper() : MixtureWeightType= vector\n"
     ]
    },
    {
     "name": "stdout",
     "output_type": "stream",
     "text": [
      "\n",
      "*** NNAdaNetBuilder : NN Type=RNN\n",
      "\n",
      "*** get_tf_head() : feature shape= (28, 28)\n",
      "\n",
      "*** get_tf_head() : feature columns= [NumericColumn(key='images', shape=(28, 28), default_value=None, dtype=tf.float32, normalizer_fn=None)]\n",
      "\n",
      "*** NNAdaNetBuilder : NN Type=RNN\n",
      "\n",
      "*** get_tf_head() : feature shape= (28, 28)\n",
      "\n",
      "*** get_tf_head() : feature columns= [NumericColumn(key='images', shape=(28, 28), default_value=None, dtype=tf.float32, normalizer_fn=None)]\n",
      "INFO:tensorflow:Rebuilding iteration 3\n"
     ]
    },
    {
     "name": "stderr",
     "output_type": "stream",
     "text": [
      "I0522 23:25:43.075232 139898093799232 iteration.py:250] Rebuilding iteration 3\n"
     ]
    },
    {
     "name": "stdout",
     "output_type": "stream",
     "text": [
      "INFO:tensorflow:Rebuilding subnetwork 'RNN_SGRU_layer_4'\n"
     ]
    },
    {
     "name": "stderr",
     "output_type": "stream",
     "text": [
      "I0522 23:25:43.097922 139898093799232 iteration.py:337] Rebuilding subnetwork 'RNN_SGRU_layer_4'\n"
     ]
    },
    {
     "name": "stdout",
     "output_type": "stream",
     "text": [
      "\n",
      "\n",
      "*** build_subnetwork() : features= {'images': <tf.Tensor 'IteratorGetNext:0' shape=(?, 28, 28) dtype=float32>}\n",
      "\n",
      "\n",
      "*** build_subnetwork() : self._feature_columns= [NumericColumn(key='images', shape=(28, 28), default_value=None, dtype=tf.float32, normalizer_fn=None)]\n",
      "\n",
      "\n",
      "*** build_subnetwork() : NN type= RNN / Input layer shape= (?, 784)\n",
      "\n",
      "*** _build_rnn_subnetwork() : output[-1]= Tensor(\"adanet/iteration_3/subnetwork_t3_RNN_SGRU_layer_4/rnn/rnn/multi_rnn_cell/cell_3/gru_cell/add_27:0\", shape=(?, 128), dtype=float32) / Weight= <tf.Variable 'adanet/iteration_3/subnetwork_t3_RNN_SGRU_layer_4/W:0' shape=(128, 10) dtype=float32_ref>\n",
      "\n",
      "***build_subnetwork() / RNN : logits shape= (?, 10)\n",
      "\n",
      "*** build_subnetwork() : last_layer= Tensor(\"adanet/iteration_3/subnetwork_t3_RNN_SGRU_layer_4/dense/BiasAdd:0\", shape=(?, 128), dtype=float32)\n",
      "WARNING:tensorflow:Using an `adanet.subnetwork.Builder#prune_previous_ensemble` is deprecated. Please use a custom `adanet.ensemble.Strategy` instead.\n"
     ]
    },
    {
     "name": "stderr",
     "output_type": "stream",
     "text": [
      "W0522 23:25:44.194570 139898093799232 tf_logging.py:161] Using an `adanet.subnetwork.Builder#prune_previous_ensemble` is deprecated. Please use a custom `adanet.ensemble.Strategy` instead.\n"
     ]
    },
    {
     "name": "stdout",
     "output_type": "stream",
     "text": [
      "INFO:tensorflow:*** _build_weighted_subnetwork_helper() : MixtureWeightType= vector\n"
     ]
    },
    {
     "name": "stderr",
     "output_type": "stream",
     "text": [
      "I0522 23:25:44.198944 139898093799232 weighted.py:391] *** _build_weighted_subnetwork_helper() : MixtureWeightType= vector\n"
     ]
    },
    {
     "name": "stdout",
     "output_type": "stream",
     "text": [
      "INFO:tensorflow:*** _build_weighted_subnetwork_helper() : MixtureWeightType= vector\n"
     ]
    },
    {
     "name": "stderr",
     "output_type": "stream",
     "text": [
      "I0522 23:25:44.206673 139898093799232 weighted.py:391] *** _build_weighted_subnetwork_helper() : MixtureWeightType= vector\n"
     ]
    },
    {
     "name": "stdout",
     "output_type": "stream",
     "text": [
      "INFO:tensorflow:*** _build_weighted_subnetwork_helper() : MixtureWeightType= vector\n"
     ]
    },
    {
     "name": "stderr",
     "output_type": "stream",
     "text": [
      "I0522 23:25:44.214247 139898093799232 weighted.py:391] *** _build_weighted_subnetwork_helper() : MixtureWeightType= vector\n"
     ]
    },
    {
     "name": "stdout",
     "output_type": "stream",
     "text": [
      "INFO:tensorflow:*** _build_weighted_subnetwork_helper() : MixtureWeightType= vector\n"
     ]
    },
    {
     "name": "stderr",
     "output_type": "stream",
     "text": [
      "I0522 23:25:44.221992 139898093799232 weighted.py:391] *** _build_weighted_subnetwork_helper() : MixtureWeightType= vector\n"
     ]
    },
    {
     "name": "stdout",
     "output_type": "stream",
     "text": [
      "\n",
      "*** NNAdaNetBuilder : NN Type=RNN\n",
      "\n",
      "*** get_tf_head() : feature shape= (28, 28)\n",
      "\n",
      "*** get_tf_head() : feature columns= [NumericColumn(key='images', shape=(28, 28), default_value=None, dtype=tf.float32, normalizer_fn=None)]\n",
      "\n",
      "*** NNAdaNetBuilder : NN Type=RNN\n",
      "\n",
      "*** get_tf_head() : feature shape= (28, 28)\n",
      "\n",
      "*** get_tf_head() : feature columns= [NumericColumn(key='images', shape=(28, 28), default_value=None, dtype=tf.float32, normalizer_fn=None)]\n",
      "INFO:tensorflow:Building iteration 4\n"
     ]
    },
    {
     "name": "stderr",
     "output_type": "stream",
     "text": [
      "I0522 23:25:44.372854 139898093799232 iteration.py:250] Building iteration 4\n"
     ]
    },
    {
     "name": "stdout",
     "output_type": "stream",
     "text": [
      "INFO:tensorflow:Building subnetwork 'RNN_SGRU_layer_4'\n"
     ]
    },
    {
     "name": "stderr",
     "output_type": "stream",
     "text": [
      "I0522 23:25:44.395568 139898093799232 iteration.py:337] Building subnetwork 'RNN_SGRU_layer_4'\n"
     ]
    },
    {
     "name": "stdout",
     "output_type": "stream",
     "text": [
      "\n",
      "\n",
      "*** build_subnetwork() : features= {'images': <tf.Tensor 'IteratorGetNext:0' shape=(?, 28, 28) dtype=float32>}\n",
      "\n",
      "\n",
      "*** build_subnetwork() : self._feature_columns= [NumericColumn(key='images', shape=(28, 28), default_value=None, dtype=tf.float32, normalizer_fn=None)]\n",
      "\n",
      "\n",
      "*** build_subnetwork() : NN type= RNN / Input layer shape= (?, 784)\n",
      "\n",
      "*** _build_rnn_subnetwork() : output[-1]= Tensor(\"adanet/iteration_4/subnetwork_t4_RNN_SGRU_layer_4/rnn/rnn/multi_rnn_cell/cell_3/gru_cell/add_27:0\", shape=(?, 128), dtype=float32) / Weight= <tf.Variable 'adanet/iteration_4/subnetwork_t4_RNN_SGRU_layer_4/W:0' shape=(128, 10) dtype=float32_ref>\n",
      "\n",
      "***build_subnetwork() / RNN : logits shape= (?, 10)\n",
      "\n",
      "*** build_subnetwork() : last_layer= Tensor(\"adanet/iteration_4/subnetwork_t4_RNN_SGRU_layer_4/dense/BiasAdd:0\", shape=(?, 128), dtype=float32)\n",
      "INFO:tensorflow:Building subnetwork 'RNN_SGRU_layer_5'\n"
     ]
    },
    {
     "name": "stderr",
     "output_type": "stream",
     "text": [
      "I0522 23:25:52.153550 139898093799232 iteration.py:337] Building subnetwork 'RNN_SGRU_layer_5'\n"
     ]
    },
    {
     "name": "stdout",
     "output_type": "stream",
     "text": [
      "\n",
      "\n",
      "*** build_subnetwork() : features= {'images': <tf.Tensor 'IteratorGetNext:0' shape=(?, 28, 28) dtype=float32>}\n",
      "\n",
      "\n",
      "*** build_subnetwork() : self._feature_columns= [NumericColumn(key='images', shape=(28, 28), default_value=None, dtype=tf.float32, normalizer_fn=None)]\n",
      "\n",
      "\n",
      "*** build_subnetwork() : NN type= RNN / Input layer shape= (?, 784)\n",
      "\n",
      "*** _build_rnn_subnetwork() : output[-1]= Tensor(\"adanet/iteration_4/subnetwork_t4_RNN_SGRU_layer_5/rnn/rnn/multi_rnn_cell/cell_4/gru_cell/add_27:0\", shape=(?, 128), dtype=float32) / Weight= <tf.Variable 'adanet/iteration_4/subnetwork_t4_RNN_SGRU_layer_5/W:0' shape=(128, 10) dtype=float32_ref>\n",
      "\n",
      "***build_subnetwork() / RNN : logits shape= (?, 10)\n",
      "\n",
      "*** build_subnetwork() : last_layer= Tensor(\"adanet/iteration_4/subnetwork_t4_RNN_SGRU_layer_5/dense/BiasAdd:0\", shape=(?, 128), dtype=float32)\n",
      "WARNING:tensorflow:Using an `adanet.subnetwork.Builder#prune_previous_ensemble` is deprecated. Please use a custom `adanet.ensemble.Strategy` instead.\n"
     ]
    },
    {
     "name": "stderr",
     "output_type": "stream",
     "text": [
      "W0522 23:26:00.367216 139898093799232 tf_logging.py:161] Using an `adanet.subnetwork.Builder#prune_previous_ensemble` is deprecated. Please use a custom `adanet.ensemble.Strategy` instead.\n"
     ]
    },
    {
     "name": "stdout",
     "output_type": "stream",
     "text": [
      "INFO:tensorflow:*** _build_weighted_subnetwork_helper() : MixtureWeightType= vector\n"
     ]
    },
    {
     "name": "stderr",
     "output_type": "stream",
     "text": [
      "I0522 23:26:00.371638 139898093799232 weighted.py:391] *** _build_weighted_subnetwork_helper() : MixtureWeightType= vector\n"
     ]
    },
    {
     "name": "stdout",
     "output_type": "stream",
     "text": [
      "INFO:tensorflow:*** _build_weighted_subnetwork_helper() : MixtureWeightType= vector\n"
     ]
    },
    {
     "name": "stderr",
     "output_type": "stream",
     "text": [
      "I0522 23:26:00.378022 139898093799232 weighted.py:391] *** _build_weighted_subnetwork_helper() : MixtureWeightType= vector\n"
     ]
    },
    {
     "name": "stdout",
     "output_type": "stream",
     "text": [
      "INFO:tensorflow:*** _build_weighted_subnetwork_helper() : MixtureWeightType= vector\n"
     ]
    },
    {
     "name": "stderr",
     "output_type": "stream",
     "text": [
      "I0522 23:26:00.384238 139898093799232 weighted.py:391] *** _build_weighted_subnetwork_helper() : MixtureWeightType= vector\n"
     ]
    },
    {
     "name": "stdout",
     "output_type": "stream",
     "text": [
      "INFO:tensorflow:*** _build_weighted_subnetwork_helper() : MixtureWeightType= vector\n"
     ]
    },
    {
     "name": "stderr",
     "output_type": "stream",
     "text": [
      "I0522 23:26:00.390484 139898093799232 weighted.py:391] *** _build_weighted_subnetwork_helper() : MixtureWeightType= vector\n"
     ]
    },
    {
     "name": "stdout",
     "output_type": "stream",
     "text": [
      "INFO:tensorflow:*** _build_weighted_subnetwork_helper() : MixtureWeightType= vector\n"
     ]
    },
    {
     "name": "stderr",
     "output_type": "stream",
     "text": [
      "I0522 23:26:00.396759 139898093799232 weighted.py:391] *** _build_weighted_subnetwork_helper() : MixtureWeightType= vector\n"
     ]
    },
    {
     "name": "stdout",
     "output_type": "stream",
     "text": [
      "WARNING:tensorflow:The `build_mixture_weights_train_op` method is deprecated. Please use the `Ensembler#build_train_op` instead.\n"
     ]
    },
    {
     "name": "stderr",
     "output_type": "stream",
     "text": [
      "W0522 23:26:00.472372 139898093799232 tf_logging.py:161] The `build_mixture_weights_train_op` method is deprecated. Please use the `Ensembler#build_train_op` instead.\n"
     ]
    },
    {
     "name": "stdout",
     "output_type": "stream",
     "text": [
      "WARNING:tensorflow:Using an `adanet.subnetwork.Builder#prune_previous_ensemble` is deprecated. Please use a custom `adanet.ensemble.Strategy` instead.\n"
     ]
    },
    {
     "name": "stderr",
     "output_type": "stream",
     "text": [
      "W0522 23:26:00.650671 139898093799232 tf_logging.py:161] Using an `adanet.subnetwork.Builder#prune_previous_ensemble` is deprecated. Please use a custom `adanet.ensemble.Strategy` instead.\n"
     ]
    },
    {
     "name": "stdout",
     "output_type": "stream",
     "text": [
      "INFO:tensorflow:*** _build_weighted_subnetwork_helper() : MixtureWeightType= vector\n"
     ]
    },
    {
     "name": "stderr",
     "output_type": "stream",
     "text": [
      "I0522 23:26:00.654516 139898093799232 weighted.py:391] *** _build_weighted_subnetwork_helper() : MixtureWeightType= vector\n"
     ]
    },
    {
     "name": "stdout",
     "output_type": "stream",
     "text": [
      "INFO:tensorflow:*** _build_weighted_subnetwork_helper() : MixtureWeightType= vector\n"
     ]
    },
    {
     "name": "stderr",
     "output_type": "stream",
     "text": [
      "I0522 23:26:00.661396 139898093799232 weighted.py:391] *** _build_weighted_subnetwork_helper() : MixtureWeightType= vector\n"
     ]
    },
    {
     "name": "stdout",
     "output_type": "stream",
     "text": [
      "INFO:tensorflow:*** _build_weighted_subnetwork_helper() : MixtureWeightType= vector\n"
     ]
    },
    {
     "name": "stderr",
     "output_type": "stream",
     "text": [
      "I0522 23:26:00.667601 139898093799232 weighted.py:391] *** _build_weighted_subnetwork_helper() : MixtureWeightType= vector\n"
     ]
    },
    {
     "name": "stdout",
     "output_type": "stream",
     "text": [
      "INFO:tensorflow:*** _build_weighted_subnetwork_helper() : MixtureWeightType= vector\n"
     ]
    },
    {
     "name": "stderr",
     "output_type": "stream",
     "text": [
      "I0522 23:26:00.674038 139898093799232 weighted.py:391] *** _build_weighted_subnetwork_helper() : MixtureWeightType= vector\n"
     ]
    },
    {
     "name": "stdout",
     "output_type": "stream",
     "text": [
      "INFO:tensorflow:*** _build_weighted_subnetwork_helper() : MixtureWeightType= vector\n"
     ]
    },
    {
     "name": "stderr",
     "output_type": "stream",
     "text": [
      "I0522 23:26:00.680357 139898093799232 weighted.py:391] *** _build_weighted_subnetwork_helper() : MixtureWeightType= vector\n"
     ]
    },
    {
     "name": "stdout",
     "output_type": "stream",
     "text": [
      "WARNING:tensorflow:The `build_mixture_weights_train_op` method is deprecated. Please use the `Ensembler#build_train_op` instead.\n"
     ]
    },
    {
     "name": "stderr",
     "output_type": "stream",
     "text": [
      "W0522 23:26:00.755922 139898093799232 tf_logging.py:161] The `build_mixture_weights_train_op` method is deprecated. Please use the `Ensembler#build_train_op` instead.\n"
     ]
    },
    {
     "name": "stdout",
     "output_type": "stream",
     "text": [
      "INFO:tensorflow:Done calling model_fn.\n"
     ]
    },
    {
     "name": "stderr",
     "output_type": "stream",
     "text": [
      "I0522 23:26:00.964262 139898093799232 estimator.py:1113] Done calling model_fn.\n"
     ]
    },
    {
     "name": "stdout",
     "output_type": "stream",
     "text": [
      "INFO:tensorflow:Create CheckpointSaverHook.\n"
     ]
    },
    {
     "name": "stderr",
     "output_type": "stream",
     "text": [
      "I0522 23:26:00.965172 139898093799232 basic_session_run_hooks.py:527] Create CheckpointSaverHook.\n"
     ]
    },
    {
     "name": "stdout",
     "output_type": "stream",
     "text": [
      "INFO:tensorflow:Graph was finalized.\n"
     ]
    },
    {
     "name": "stderr",
     "output_type": "stream",
     "text": [
      "I0522 23:26:01.460057 139898093799232 monitored_session.py:222] Graph was finalized.\n"
     ]
    },
    {
     "name": "stdout",
     "output_type": "stream",
     "text": [
      "INFO:tensorflow:Restoring parameters from ./tmp/adanet/SGRU/increment.ckpt-4\n"
     ]
    },
    {
     "name": "stderr",
     "output_type": "stream",
     "text": [
      "I0522 23:26:01.462203 139898093799232 saver.py:1270] Restoring parameters from ./tmp/adanet/SGRU/increment.ckpt-4\n"
     ]
    },
    {
     "name": "stdout",
     "output_type": "stream",
     "text": [
      "INFO:tensorflow:Running local_init_op.\n"
     ]
    },
    {
     "name": "stderr",
     "output_type": "stream",
     "text": [
      "I0522 23:26:02.758809 139898093799232 session_manager.py:491] Running local_init_op.\n"
     ]
    },
    {
     "name": "stdout",
     "output_type": "stream",
     "text": [
      "INFO:tensorflow:Done running local_init_op.\n"
     ]
    },
    {
     "name": "stderr",
     "output_type": "stream",
     "text": [
      "I0522 23:26:03.052510 139898093799232 session_manager.py:493] Done running local_init_op.\n"
     ]
    },
    {
     "name": "stdout",
     "output_type": "stream",
     "text": [
      "INFO:tensorflow:Saving checkpoints for 28 into ./tmp/adanet/SGRU/model.ckpt.\n"
     ]
    },
    {
     "name": "stderr",
     "output_type": "stream",
     "text": [
      "I0522 23:26:13.348807 139898093799232 basic_session_run_hooks.py:594] Saving checkpoints for 28 into ./tmp/adanet/SGRU/model.ckpt.\n"
     ]
    },
    {
     "name": "stdout",
     "output_type": "stream",
     "text": [
      "INFO:tensorflow:loss = 2.15378, step = 29\n"
     ]
    },
    {
     "name": "stderr",
     "output_type": "stream",
     "text": [
      "I0522 23:26:28.100167 139898093799232 basic_session_run_hooks.py:249] loss = 2.15378, step = 29\n"
     ]
    },
    {
     "name": "stdout",
     "output_type": "stream",
     "text": [
      "INFO:tensorflow:Saving checkpoints for 35 into ./tmp/adanet/SGRU/model.ckpt.\n"
     ]
    },
    {
     "name": "stderr",
     "output_type": "stream",
     "text": [
      "I0522 23:26:42.206728 139898093799232 basic_session_run_hooks.py:594] Saving checkpoints for 35 into ./tmp/adanet/SGRU/model.ckpt.\n"
     ]
    },
    {
     "name": "stdout",
     "output_type": "stream",
     "text": [
      "\n",
      "*** input_fn() : feature_shape= (28, 28) / label_shape= [1]\n",
      "\n",
      "*** input_fn : TEST / feature_shape= (28, 28)\n",
      "\n",
      "*** preprocess_image() : image shape= (28, 28)\n",
      "\n",
      "*** preprocess_image() : features= {'images': <tf.Tensor 'arg0:0' shape=(28, 28) dtype=float32>} / label shape= ()\n",
      "\n",
      "***_input_fn() : Label shape =[1]\n",
      "INFO:tensorflow:Calling model_fn.\n"
     ]
    },
    {
     "name": "stderr",
     "output_type": "stream",
     "text": [
      "I0522 23:26:43.705562 139898093799232 estimator.py:1111] Calling model_fn.\n"
     ]
    },
    {
     "name": "stdout",
     "output_type": "stream",
     "text": [
      "\n",
      "*** NNAdaNetBuilder : NN Type=RNN\n",
      "\n",
      "*** get_tf_head() : feature shape= (28, 28)\n",
      "\n",
      "*** get_tf_head() : feature columns= [NumericColumn(key='images', shape=(28, 28), default_value=None, dtype=tf.float32, normalizer_fn=None)]\n",
      "\n",
      "*** NNAdaNetBuilder : NN Type=RNN\n",
      "\n",
      "*** get_tf_head() : feature shape= (28, 28)\n",
      "\n",
      "*** get_tf_head() : feature columns= [NumericColumn(key='images', shape=(28, 28), default_value=None, dtype=tf.float32, normalizer_fn=None)]\n",
      "INFO:tensorflow:Rebuilding iteration 0\n"
     ]
    },
    {
     "name": "stderr",
     "output_type": "stream",
     "text": [
      "I0522 23:26:43.709928 139898093799232 iteration.py:250] Rebuilding iteration 0\n"
     ]
    },
    {
     "name": "stdout",
     "output_type": "stream",
     "text": [
      "INFO:tensorflow:Rebuilding subnetwork 'RNN_SGRU_layer_2'\n"
     ]
    },
    {
     "name": "stderr",
     "output_type": "stream",
     "text": [
      "I0522 23:26:43.714568 139898093799232 iteration.py:337] Rebuilding subnetwork 'RNN_SGRU_layer_2'\n"
     ]
    },
    {
     "name": "stdout",
     "output_type": "stream",
     "text": [
      "\n",
      "\n",
      "*** build_subnetwork() : features= {'images': <tf.Tensor 'IteratorGetNext:0' shape=(?, 28, 28) dtype=float32>}\n",
      "\n",
      "\n",
      "*** build_subnetwork() : self._feature_columns= [NumericColumn(key='images', shape=(28, 28), default_value=None, dtype=tf.float32, normalizer_fn=None)]\n",
      "\n",
      "\n",
      "*** build_subnetwork() : NN type= RNN / Input layer shape= (?, 784)\n",
      "\n",
      "*** _build_rnn_subnetwork() : output[-1]= Tensor(\"adanet/iteration_0/subnetwork_t0_RNN_SGRU_layer_2/rnn/rnn/multi_rnn_cell/cell_1/gru_cell/add_27:0\", shape=(?, 128), dtype=float32) / Weight= <tf.Variable 'adanet/iteration_0/subnetwork_t0_RNN_SGRU_layer_2/W:0' shape=(128, 10) dtype=float32_ref>\n",
      "\n",
      "***build_subnetwork() / RNN : logits shape= (?, 10)\n",
      "\n",
      "*** build_subnetwork() : last_layer= Tensor(\"adanet/iteration_0/subnetwork_t0_RNN_SGRU_layer_2/dense/BiasAdd:0\", shape=(?, 128), dtype=float32)\n",
      "INFO:tensorflow:*** _build_weighted_subnetwork_helper() : MixtureWeightType= vector\n"
     ]
    },
    {
     "name": "stderr",
     "output_type": "stream",
     "text": [
      "I0522 23:26:44.264288 139898093799232 weighted.py:391] *** _build_weighted_subnetwork_helper() : MixtureWeightType= vector\n"
     ]
    },
    {
     "name": "stdout",
     "output_type": "stream",
     "text": [
      "\n",
      "*** NNAdaNetBuilder : NN Type=RNN\n",
      "\n",
      "*** get_tf_head() : feature shape= (28, 28)\n",
      "\n",
      "*** get_tf_head() : feature columns= [NumericColumn(key='images', shape=(28, 28), default_value=None, dtype=tf.float32, normalizer_fn=None)]\n",
      "\n",
      "*** NNAdaNetBuilder : NN Type=RNN\n",
      "\n",
      "*** get_tf_head() : feature shape= (28, 28)\n",
      "\n",
      "*** get_tf_head() : feature columns= [NumericColumn(key='images', shape=(28, 28), default_value=None, dtype=tf.float32, normalizer_fn=None)]\n",
      "INFO:tensorflow:Rebuilding iteration 1\n"
     ]
    },
    {
     "name": "stderr",
     "output_type": "stream",
     "text": [
      "I0522 23:26:44.399056 139898093799232 iteration.py:250] Rebuilding iteration 1\n"
     ]
    },
    {
     "name": "stdout",
     "output_type": "stream",
     "text": [
      "INFO:tensorflow:Rebuilding subnetwork 'RNN_SGRU_layer_3'\n"
     ]
    },
    {
     "name": "stderr",
     "output_type": "stream",
     "text": [
      "I0522 23:26:44.426875 139898093799232 iteration.py:337] Rebuilding subnetwork 'RNN_SGRU_layer_3'\n"
     ]
    },
    {
     "name": "stdout",
     "output_type": "stream",
     "text": [
      "\n",
      "\n",
      "*** build_subnetwork() : features= {'images': <tf.Tensor 'IteratorGetNext:0' shape=(?, 28, 28) dtype=float32>}\n",
      "\n",
      "\n",
      "*** build_subnetwork() : self._feature_columns= [NumericColumn(key='images', shape=(28, 28), default_value=None, dtype=tf.float32, normalizer_fn=None)]\n",
      "\n",
      "\n",
      "*** build_subnetwork() : NN type= RNN / Input layer shape= (?, 784)\n",
      "\n",
      "*** _build_rnn_subnetwork() : output[-1]= Tensor(\"adanet/iteration_1/subnetwork_t1_RNN_SGRU_layer_3/rnn/rnn/multi_rnn_cell/cell_2/gru_cell/add_27:0\", shape=(?, 128), dtype=float32) / Weight= <tf.Variable 'adanet/iteration_1/subnetwork_t1_RNN_SGRU_layer_3/W:0' shape=(128, 10) dtype=float32_ref>\n",
      "\n",
      "***build_subnetwork() / RNN : logits shape= (?, 10)\n",
      "\n",
      "*** build_subnetwork() : last_layer= Tensor(\"adanet/iteration_1/subnetwork_t1_RNN_SGRU_layer_3/dense/BiasAdd:0\", shape=(?, 128), dtype=float32)\n",
      "WARNING:tensorflow:Using an `adanet.subnetwork.Builder#prune_previous_ensemble` is deprecated. Please use a custom `adanet.ensemble.Strategy` instead.\n"
     ]
    },
    {
     "name": "stderr",
     "output_type": "stream",
     "text": [
      "W0522 23:26:47.803061 139898093799232 tf_logging.py:161] Using an `adanet.subnetwork.Builder#prune_previous_ensemble` is deprecated. Please use a custom `adanet.ensemble.Strategy` instead.\n"
     ]
    },
    {
     "name": "stdout",
     "output_type": "stream",
     "text": [
      "INFO:tensorflow:*** _build_weighted_subnetwork_helper() : MixtureWeightType= vector\n"
     ]
    },
    {
     "name": "stderr",
     "output_type": "stream",
     "text": [
      "I0522 23:26:47.807596 139898093799232 weighted.py:391] *** _build_weighted_subnetwork_helper() : MixtureWeightType= vector\n"
     ]
    },
    {
     "name": "stdout",
     "output_type": "stream",
     "text": [
      "INFO:tensorflow:*** _build_weighted_subnetwork_helper() : MixtureWeightType= vector\n"
     ]
    },
    {
     "name": "stderr",
     "output_type": "stream",
     "text": [
      "I0522 23:26:47.814986 139898093799232 weighted.py:391] *** _build_weighted_subnetwork_helper() : MixtureWeightType= vector\n"
     ]
    },
    {
     "name": "stdout",
     "output_type": "stream",
     "text": [
      "\n",
      "*** NNAdaNetBuilder : NN Type=RNN\n",
      "\n",
      "*** get_tf_head() : feature shape= (28, 28)\n",
      "\n",
      "*** get_tf_head() : feature columns= [NumericColumn(key='images', shape=(28, 28), default_value=None, dtype=tf.float32, normalizer_fn=None)]\n",
      "\n",
      "*** NNAdaNetBuilder : NN Type=RNN\n",
      "\n",
      "*** get_tf_head() : feature shape= (28, 28)\n",
      "\n",
      "*** get_tf_head() : feature columns= [NumericColumn(key='images', shape=(28, 28), default_value=None, dtype=tf.float32, normalizer_fn=None)]\n",
      "INFO:tensorflow:Rebuilding iteration 2\n"
     ]
    },
    {
     "name": "stderr",
     "output_type": "stream",
     "text": [
      "I0522 23:26:47.982769 139898093799232 iteration.py:250] Rebuilding iteration 2\n"
     ]
    },
    {
     "name": "stdout",
     "output_type": "stream",
     "text": [
      "INFO:tensorflow:Rebuilding subnetwork 'RNN_SGRU_layer_4'\n"
     ]
    },
    {
     "name": "stderr",
     "output_type": "stream",
     "text": [
      "I0522 23:26:48.010527 139898093799232 iteration.py:337] Rebuilding subnetwork 'RNN_SGRU_layer_4'\n"
     ]
    },
    {
     "name": "stdout",
     "output_type": "stream",
     "text": [
      "\n",
      "\n",
      "*** build_subnetwork() : features= {'images': <tf.Tensor 'IteratorGetNext:0' shape=(?, 28, 28) dtype=float32>}\n",
      "\n",
      "\n",
      "*** build_subnetwork() : self._feature_columns= [NumericColumn(key='images', shape=(28, 28), default_value=None, dtype=tf.float32, normalizer_fn=None)]\n",
      "\n",
      "\n",
      "*** build_subnetwork() : NN type= RNN / Input layer shape= (?, 784)\n",
      "\n",
      "*** _build_rnn_subnetwork() : output[-1]= Tensor(\"adanet/iteration_2/subnetwork_t2_RNN_SGRU_layer_4/rnn/rnn/multi_rnn_cell/cell_3/gru_cell/add_27:0\", shape=(?, 128), dtype=float32) / Weight= <tf.Variable 'adanet/iteration_2/subnetwork_t2_RNN_SGRU_layer_4/W:0' shape=(128, 10) dtype=float32_ref>\n",
      "\n",
      "***build_subnetwork() / RNN : logits shape= (?, 10)\n",
      "\n",
      "*** build_subnetwork() : last_layer= Tensor(\"adanet/iteration_2/subnetwork_t2_RNN_SGRU_layer_4/dense/BiasAdd:0\", shape=(?, 128), dtype=float32)\n",
      "WARNING:tensorflow:Using an `adanet.subnetwork.Builder#prune_previous_ensemble` is deprecated. Please use a custom `adanet.ensemble.Strategy` instead.\n"
     ]
    },
    {
     "name": "stderr",
     "output_type": "stream",
     "text": [
      "W0522 23:26:49.008898 139898093799232 tf_logging.py:161] Using an `adanet.subnetwork.Builder#prune_previous_ensemble` is deprecated. Please use a custom `adanet.ensemble.Strategy` instead.\n"
     ]
    },
    {
     "name": "stdout",
     "output_type": "stream",
     "text": [
      "INFO:tensorflow:*** _build_weighted_subnetwork_helper() : MixtureWeightType= vector\n"
     ]
    },
    {
     "name": "stderr",
     "output_type": "stream",
     "text": [
      "I0522 23:26:49.012653 139898093799232 weighted.py:391] *** _build_weighted_subnetwork_helper() : MixtureWeightType= vector\n"
     ]
    },
    {
     "name": "stdout",
     "output_type": "stream",
     "text": [
      "INFO:tensorflow:*** _build_weighted_subnetwork_helper() : MixtureWeightType= vector\n"
     ]
    },
    {
     "name": "stderr",
     "output_type": "stream",
     "text": [
      "I0522 23:26:49.019051 139898093799232 weighted.py:391] *** _build_weighted_subnetwork_helper() : MixtureWeightType= vector\n"
     ]
    },
    {
     "name": "stdout",
     "output_type": "stream",
     "text": [
      "INFO:tensorflow:*** _build_weighted_subnetwork_helper() : MixtureWeightType= vector\n"
     ]
    },
    {
     "name": "stderr",
     "output_type": "stream",
     "text": [
      "I0522 23:26:49.025429 139898093799232 weighted.py:391] *** _build_weighted_subnetwork_helper() : MixtureWeightType= vector\n"
     ]
    },
    {
     "name": "stdout",
     "output_type": "stream",
     "text": [
      "\n",
      "*** NNAdaNetBuilder : NN Type=RNN\n",
      "\n",
      "*** get_tf_head() : feature shape= (28, 28)\n",
      "\n",
      "*** get_tf_head() : feature columns= [NumericColumn(key='images', shape=(28, 28), default_value=None, dtype=tf.float32, normalizer_fn=None)]\n",
      "\n",
      "*** NNAdaNetBuilder : NN Type=RNN\n",
      "\n",
      "*** get_tf_head() : feature shape= (28, 28)\n",
      "\n",
      "*** get_tf_head() : feature columns= [NumericColumn(key='images', shape=(28, 28), default_value=None, dtype=tf.float32, normalizer_fn=None)]\n",
      "INFO:tensorflow:Rebuilding iteration 3\n"
     ]
    },
    {
     "name": "stderr",
     "output_type": "stream",
     "text": [
      "I0522 23:26:49.198591 139898093799232 iteration.py:250] Rebuilding iteration 3\n"
     ]
    },
    {
     "name": "stdout",
     "output_type": "stream",
     "text": [
      "INFO:tensorflow:Rebuilding subnetwork 'RNN_SGRU_layer_4'\n"
     ]
    },
    {
     "name": "stderr",
     "output_type": "stream",
     "text": [
      "I0522 23:26:49.225816 139898093799232 iteration.py:337] Rebuilding subnetwork 'RNN_SGRU_layer_4'\n"
     ]
    },
    {
     "name": "stdout",
     "output_type": "stream",
     "text": [
      "\n",
      "\n",
      "*** build_subnetwork() : features= {'images': <tf.Tensor 'IteratorGetNext:0' shape=(?, 28, 28) dtype=float32>}\n",
      "\n",
      "\n",
      "*** build_subnetwork() : self._feature_columns= [NumericColumn(key='images', shape=(28, 28), default_value=None, dtype=tf.float32, normalizer_fn=None)]\n",
      "\n",
      "\n",
      "*** build_subnetwork() : NN type= RNN / Input layer shape= (?, 784)\n",
      "\n",
      "*** _build_rnn_subnetwork() : output[-1]= Tensor(\"adanet/iteration_3/subnetwork_t3_RNN_SGRU_layer_4/rnn/rnn/multi_rnn_cell/cell_3/gru_cell/add_27:0\", shape=(?, 128), dtype=float32) / Weight= <tf.Variable 'adanet/iteration_3/subnetwork_t3_RNN_SGRU_layer_4/W:0' shape=(128, 10) dtype=float32_ref>\n",
      "\n",
      "***build_subnetwork() / RNN : logits shape= (?, 10)\n",
      "\n",
      "*** build_subnetwork() : last_layer= Tensor(\"adanet/iteration_3/subnetwork_t3_RNN_SGRU_layer_4/dense/BiasAdd:0\", shape=(?, 128), dtype=float32)\n",
      "WARNING:tensorflow:Using an `adanet.subnetwork.Builder#prune_previous_ensemble` is deprecated. Please use a custom `adanet.ensemble.Strategy` instead.\n"
     ]
    },
    {
     "name": "stderr",
     "output_type": "stream",
     "text": [
      "W0522 23:26:50.223179 139898093799232 tf_logging.py:161] Using an `adanet.subnetwork.Builder#prune_previous_ensemble` is deprecated. Please use a custom `adanet.ensemble.Strategy` instead.\n"
     ]
    },
    {
     "name": "stdout",
     "output_type": "stream",
     "text": [
      "INFO:tensorflow:*** _build_weighted_subnetwork_helper() : MixtureWeightType= vector\n"
     ]
    },
    {
     "name": "stderr",
     "output_type": "stream",
     "text": [
      "I0522 23:26:50.227435 139898093799232 weighted.py:391] *** _build_weighted_subnetwork_helper() : MixtureWeightType= vector\n"
     ]
    },
    {
     "name": "stdout",
     "output_type": "stream",
     "text": [
      "INFO:tensorflow:*** _build_weighted_subnetwork_helper() : MixtureWeightType= vector\n"
     ]
    },
    {
     "name": "stderr",
     "output_type": "stream",
     "text": [
      "I0522 23:26:50.234271 139898093799232 weighted.py:391] *** _build_weighted_subnetwork_helper() : MixtureWeightType= vector\n"
     ]
    },
    {
     "name": "stdout",
     "output_type": "stream",
     "text": [
      "INFO:tensorflow:*** _build_weighted_subnetwork_helper() : MixtureWeightType= vector\n"
     ]
    },
    {
     "name": "stderr",
     "output_type": "stream",
     "text": [
      "I0522 23:26:50.240887 139898093799232 weighted.py:391] *** _build_weighted_subnetwork_helper() : MixtureWeightType= vector\n"
     ]
    },
    {
     "name": "stdout",
     "output_type": "stream",
     "text": [
      "INFO:tensorflow:*** _build_weighted_subnetwork_helper() : MixtureWeightType= vector\n"
     ]
    },
    {
     "name": "stderr",
     "output_type": "stream",
     "text": [
      "I0522 23:26:50.247432 139898093799232 weighted.py:391] *** _build_weighted_subnetwork_helper() : MixtureWeightType= vector\n"
     ]
    },
    {
     "name": "stdout",
     "output_type": "stream",
     "text": [
      "\n",
      "*** NNAdaNetBuilder : NN Type=RNN\n",
      "\n",
      "*** get_tf_head() : feature shape= (28, 28)\n",
      "\n",
      "*** get_tf_head() : feature columns= [NumericColumn(key='images', shape=(28, 28), default_value=None, dtype=tf.float32, normalizer_fn=None)]\n",
      "\n",
      "*** NNAdaNetBuilder : NN Type=RNN\n",
      "\n",
      "*** get_tf_head() : feature shape= (28, 28)\n",
      "\n",
      "*** get_tf_head() : feature columns= [NumericColumn(key='images', shape=(28, 28), default_value=None, dtype=tf.float32, normalizer_fn=None)]\n",
      "INFO:tensorflow:Building iteration 4\n"
     ]
    },
    {
     "name": "stderr",
     "output_type": "stream",
     "text": [
      "I0522 23:26:50.426339 139898093799232 iteration.py:250] Building iteration 4\n"
     ]
    },
    {
     "name": "stdout",
     "output_type": "stream",
     "text": [
      "INFO:tensorflow:Building subnetwork 'RNN_SGRU_layer_4'\n"
     ]
    },
    {
     "name": "stderr",
     "output_type": "stream",
     "text": [
      "I0522 23:26:50.453641 139898093799232 iteration.py:337] Building subnetwork 'RNN_SGRU_layer_4'\n"
     ]
    },
    {
     "name": "stdout",
     "output_type": "stream",
     "text": [
      "\n",
      "\n",
      "*** build_subnetwork() : features= {'images': <tf.Tensor 'IteratorGetNext:0' shape=(?, 28, 28) dtype=float32>}\n",
      "\n",
      "\n",
      "*** build_subnetwork() : self._feature_columns= [NumericColumn(key='images', shape=(28, 28), default_value=None, dtype=tf.float32, normalizer_fn=None)]\n",
      "\n",
      "\n",
      "*** build_subnetwork() : NN type= RNN / Input layer shape= (?, 784)\n",
      "\n",
      "*** _build_rnn_subnetwork() : output[-1]= Tensor(\"adanet/iteration_4/subnetwork_t4_RNN_SGRU_layer_4/rnn/rnn/multi_rnn_cell/cell_3/gru_cell/add_27:0\", shape=(?, 128), dtype=float32) / Weight= <tf.Variable 'adanet/iteration_4/subnetwork_t4_RNN_SGRU_layer_4/W:0' shape=(128, 10) dtype=float32_ref>\n",
      "\n",
      "***build_subnetwork() / RNN : logits shape= (?, 10)\n",
      "\n",
      "*** build_subnetwork() : last_layer= Tensor(\"adanet/iteration_4/subnetwork_t4_RNN_SGRU_layer_4/dense/BiasAdd:0\", shape=(?, 128), dtype=float32)\n",
      "INFO:tensorflow:Building subnetwork 'RNN_SGRU_layer_5'\n"
     ]
    },
    {
     "name": "stderr",
     "output_type": "stream",
     "text": [
      "I0522 23:26:51.467366 139898093799232 iteration.py:337] Building subnetwork 'RNN_SGRU_layer_5'\n"
     ]
    },
    {
     "name": "stdout",
     "output_type": "stream",
     "text": [
      "\n",
      "\n",
      "*** build_subnetwork() : features= {'images': <tf.Tensor 'IteratorGetNext:0' shape=(?, 28, 28) dtype=float32>}\n",
      "\n",
      "\n",
      "*** build_subnetwork() : self._feature_columns= [NumericColumn(key='images', shape=(28, 28), default_value=None, dtype=tf.float32, normalizer_fn=None)]\n",
      "\n",
      "\n",
      "*** build_subnetwork() : NN type= RNN / Input layer shape= (?, 784)\n",
      "\n",
      "*** _build_rnn_subnetwork() : output[-1]= Tensor(\"adanet/iteration_4/subnetwork_t4_RNN_SGRU_layer_5/rnn/rnn/multi_rnn_cell/cell_4/gru_cell/add_27:0\", shape=(?, 128), dtype=float32) / Weight= <tf.Variable 'adanet/iteration_4/subnetwork_t4_RNN_SGRU_layer_5/W:0' shape=(128, 10) dtype=float32_ref>\n",
      "\n",
      "***build_subnetwork() / RNN : logits shape= (?, 10)\n",
      "\n",
      "*** build_subnetwork() : last_layer= Tensor(\"adanet/iteration_4/subnetwork_t4_RNN_SGRU_layer_5/dense/BiasAdd:0\", shape=(?, 128), dtype=float32)\n",
      "WARNING:tensorflow:Using an `adanet.subnetwork.Builder#prune_previous_ensemble` is deprecated. Please use a custom `adanet.ensemble.Strategy` instead.\n"
     ]
    },
    {
     "name": "stderr",
     "output_type": "stream",
     "text": [
      "W0522 23:26:52.688486 139898093799232 tf_logging.py:161] Using an `adanet.subnetwork.Builder#prune_previous_ensemble` is deprecated. Please use a custom `adanet.ensemble.Strategy` instead.\n"
     ]
    },
    {
     "name": "stdout",
     "output_type": "stream",
     "text": [
      "INFO:tensorflow:*** _build_weighted_subnetwork_helper() : MixtureWeightType= vector\n"
     ]
    },
    {
     "name": "stderr",
     "output_type": "stream",
     "text": [
      "I0522 23:26:52.692894 139898093799232 weighted.py:391] *** _build_weighted_subnetwork_helper() : MixtureWeightType= vector\n"
     ]
    },
    {
     "name": "stdout",
     "output_type": "stream",
     "text": [
      "INFO:tensorflow:*** _build_weighted_subnetwork_helper() : MixtureWeightType= vector\n"
     ]
    },
    {
     "name": "stderr",
     "output_type": "stream",
     "text": [
      "I0522 23:26:52.699591 139898093799232 weighted.py:391] *** _build_weighted_subnetwork_helper() : MixtureWeightType= vector\n"
     ]
    },
    {
     "name": "stdout",
     "output_type": "stream",
     "text": [
      "INFO:tensorflow:*** _build_weighted_subnetwork_helper() : MixtureWeightType= vector\n"
     ]
    },
    {
     "name": "stderr",
     "output_type": "stream",
     "text": [
      "I0522 23:26:52.706194 139898093799232 weighted.py:391] *** _build_weighted_subnetwork_helper() : MixtureWeightType= vector\n"
     ]
    },
    {
     "name": "stdout",
     "output_type": "stream",
     "text": [
      "INFO:tensorflow:*** _build_weighted_subnetwork_helper() : MixtureWeightType= vector\n"
     ]
    },
    {
     "name": "stderr",
     "output_type": "stream",
     "text": [
      "I0522 23:26:52.712754 139898093799232 weighted.py:391] *** _build_weighted_subnetwork_helper() : MixtureWeightType= vector\n"
     ]
    },
    {
     "name": "stdout",
     "output_type": "stream",
     "text": [
      "INFO:tensorflow:*** _build_weighted_subnetwork_helper() : MixtureWeightType= vector\n"
     ]
    },
    {
     "name": "stderr",
     "output_type": "stream",
     "text": [
      "I0522 23:26:52.719880 139898093799232 weighted.py:391] *** _build_weighted_subnetwork_helper() : MixtureWeightType= vector\n"
     ]
    },
    {
     "name": "stdout",
     "output_type": "stream",
     "text": [
      "WARNING:tensorflow:Using an `adanet.subnetwork.Builder#prune_previous_ensemble` is deprecated. Please use a custom `adanet.ensemble.Strategy` instead.\n"
     ]
    },
    {
     "name": "stderr",
     "output_type": "stream",
     "text": [
      "W0522 23:26:52.829847 139898093799232 tf_logging.py:161] Using an `adanet.subnetwork.Builder#prune_previous_ensemble` is deprecated. Please use a custom `adanet.ensemble.Strategy` instead.\n"
     ]
    },
    {
     "name": "stdout",
     "output_type": "stream",
     "text": [
      "INFO:tensorflow:*** _build_weighted_subnetwork_helper() : MixtureWeightType= vector\n"
     ]
    },
    {
     "name": "stderr",
     "output_type": "stream",
     "text": [
      "I0522 23:26:52.834665 139898093799232 weighted.py:391] *** _build_weighted_subnetwork_helper() : MixtureWeightType= vector\n"
     ]
    },
    {
     "name": "stdout",
     "output_type": "stream",
     "text": [
      "INFO:tensorflow:*** _build_weighted_subnetwork_helper() : MixtureWeightType= vector\n"
     ]
    },
    {
     "name": "stderr",
     "output_type": "stream",
     "text": [
      "I0522 23:26:52.841352 139898093799232 weighted.py:391] *** _build_weighted_subnetwork_helper() : MixtureWeightType= vector\n"
     ]
    },
    {
     "name": "stdout",
     "output_type": "stream",
     "text": [
      "INFO:tensorflow:*** _build_weighted_subnetwork_helper() : MixtureWeightType= vector\n"
     ]
    },
    {
     "name": "stderr",
     "output_type": "stream",
     "text": [
      "I0522 23:26:52.848115 139898093799232 weighted.py:391] *** _build_weighted_subnetwork_helper() : MixtureWeightType= vector\n"
     ]
    },
    {
     "name": "stdout",
     "output_type": "stream",
     "text": [
      "INFO:tensorflow:*** _build_weighted_subnetwork_helper() : MixtureWeightType= vector\n"
     ]
    },
    {
     "name": "stderr",
     "output_type": "stream",
     "text": [
      "I0522 23:26:52.854683 139898093799232 weighted.py:391] *** _build_weighted_subnetwork_helper() : MixtureWeightType= vector\n"
     ]
    },
    {
     "name": "stdout",
     "output_type": "stream",
     "text": [
      "INFO:tensorflow:*** _build_weighted_subnetwork_helper() : MixtureWeightType= vector\n"
     ]
    },
    {
     "name": "stderr",
     "output_type": "stream",
     "text": [
      "I0522 23:26:52.861498 139898093799232 weighted.py:391] *** _build_weighted_subnetwork_helper() : MixtureWeightType= vector\n"
     ]
    },
    {
     "name": "stdout",
     "output_type": "stream",
     "text": [
      "INFO:tensorflow:Done calling model_fn.\n"
     ]
    },
    {
     "name": "stderr",
     "output_type": "stream",
     "text": [
      "I0522 23:26:53.085111 139898093799232 estimator.py:1113] Done calling model_fn.\n"
     ]
    },
    {
     "name": "stdout",
     "output_type": "stream",
     "text": [
      "INFO:tensorflow:Starting evaluation at 2019-05-22T21:26:53Z\n"
     ]
    },
    {
     "name": "stderr",
     "output_type": "stream",
     "text": [
      "I0522 23:26:53.099949 139898093799232 evaluation.py:257] Starting evaluation at 2019-05-22T21:26:53Z\n"
     ]
    },
    {
     "name": "stdout",
     "output_type": "stream",
     "text": [
      "INFO:tensorflow:Graph was finalized.\n"
     ]
    },
    {
     "name": "stderr",
     "output_type": "stream",
     "text": [
      "I0522 23:26:53.504766 139898093799232 monitored_session.py:222] Graph was finalized.\n"
     ]
    },
    {
     "name": "stdout",
     "output_type": "stream",
     "text": [
      "INFO:tensorflow:Restoring parameters from ./tmp/adanet/SGRU/model.ckpt-35\n"
     ]
    },
    {
     "name": "stderr",
     "output_type": "stream",
     "text": [
      "I0522 23:26:53.507162 139898093799232 saver.py:1270] Restoring parameters from ./tmp/adanet/SGRU/model.ckpt-35\n"
     ]
    },
    {
     "name": "stdout",
     "output_type": "stream",
     "text": [
      "INFO:tensorflow:Running local_init_op.\n"
     ]
    },
    {
     "name": "stderr",
     "output_type": "stream",
     "text": [
      "I0522 23:26:54.028105 139898093799232 session_manager.py:491] Running local_init_op.\n"
     ]
    },
    {
     "name": "stdout",
     "output_type": "stream",
     "text": [
      "INFO:tensorflow:Done running local_init_op.\n"
     ]
    },
    {
     "name": "stderr",
     "output_type": "stream",
     "text": [
      "I0522 23:26:54.205306 139898093799232 session_manager.py:493] Done running local_init_op.\n"
     ]
    },
    {
     "name": "stdout",
     "output_type": "stream",
     "text": [
      "\n",
      "*** generator() : labels shape= (10000,) / label values= 0\n",
      "INFO:tensorflow:Finished evaluation at 2019-05-22-21:27:09\n"
     ]
    },
    {
     "name": "stderr",
     "output_type": "stream",
     "text": [
      "I0522 23:27:09.933483 139898093799232 evaluation.py:277] Finished evaluation at 2019-05-22-21:27:09\n"
     ]
    },
    {
     "name": "stdout",
     "output_type": "stream",
     "text": [
      "INFO:tensorflow:Saving dict for global step 35: accuracy = 0.485, average_loss = 2.1771753, global_step = 35, loss = 2.1770418\n"
     ]
    },
    {
     "name": "stderr",
     "output_type": "stream",
     "text": [
      "I0522 23:27:09.934275 139898093799232 estimator.py:1979] Saving dict for global step 35: accuracy = 0.485, average_loss = 2.1771753, global_step = 35, loss = 2.1770418\n"
     ]
    },
    {
     "name": "stdout",
     "output_type": "stream",
     "text": [
      "INFO:tensorflow:Saving 'checkpoint_path' summary for global step 35: ./tmp/adanet/SGRU/model.ckpt-35\n"
     ]
    },
    {
     "name": "stderr",
     "output_type": "stream",
     "text": [
      "I0522 23:27:09.936033 139898093799232 estimator.py:2039] Saving 'checkpoint_path' summary for global step 35: ./tmp/adanet/SGRU/model.ckpt-35\n"
     ]
    },
    {
     "name": "stdout",
     "output_type": "stream",
     "text": [
      "INFO:tensorflow:Loss for final step: 2.1712399.\n"
     ]
    },
    {
     "name": "stderr",
     "output_type": "stream",
     "text": [
      "I0522 23:27:10.152856 139898093799232 estimator.py:359] Loss for final step: 2.1712399.\n"
     ]
    },
    {
     "name": "stdout",
     "output_type": "stream",
     "text": [
      "\n",
      "*** input_fn() : feature_shape= (28, 28) / label_shape= [1]\n",
      "\n",
      "*** preprocess_image() : image shape= (28, 28)\n",
      "\n",
      "*** preprocess_image() : features= {'images': <tf.Tensor 'arg0:0' shape=(28, 28) dtype=float32>} / label shape= ()\n",
      "\n",
      "***_input_fn() : Label shape =[1]\n",
      "INFO:tensorflow:Calling model_fn.\n"
     ]
    },
    {
     "name": "stderr",
     "output_type": "stream",
     "text": [
      "I0522 23:27:10.377703 139898093799232 estimator.py:1111] Calling model_fn.\n"
     ]
    },
    {
     "name": "stdout",
     "output_type": "stream",
     "text": [
      "\n",
      "*** NNAdaNetBuilder : NN Type=RNN\n",
      "\n",
      "*** get_tf_head() : feature shape= (28, 28)\n",
      "\n",
      "*** get_tf_head() : feature columns= [NumericColumn(key='images', shape=(28, 28), default_value=None, dtype=tf.float32, normalizer_fn=None)]\n",
      "\n",
      "*** NNAdaNetBuilder : NN Type=RNN\n",
      "\n",
      "*** get_tf_head() : feature shape= (28, 28)\n",
      "\n",
      "*** get_tf_head() : feature columns= [NumericColumn(key='images', shape=(28, 28), default_value=None, dtype=tf.float32, normalizer_fn=None)]\n",
      "INFO:tensorflow:Rebuilding iteration 0\n"
     ]
    },
    {
     "name": "stderr",
     "output_type": "stream",
     "text": [
      "I0522 23:27:10.382596 139898093799232 iteration.py:250] Rebuilding iteration 0\n"
     ]
    },
    {
     "name": "stdout",
     "output_type": "stream",
     "text": [
      "INFO:tensorflow:Rebuilding subnetwork 'RNN_SGRU_layer_2'\n"
     ]
    },
    {
     "name": "stderr",
     "output_type": "stream",
     "text": [
      "I0522 23:27:10.387824 139898093799232 iteration.py:337] Rebuilding subnetwork 'RNN_SGRU_layer_2'\n"
     ]
    },
    {
     "name": "stdout",
     "output_type": "stream",
     "text": [
      "\n",
      "\n",
      "*** build_subnetwork() : features= {'images': <tf.Tensor 'IteratorGetNext:0' shape=(?, 28, 28) dtype=float32>}\n",
      "\n",
      "\n",
      "*** build_subnetwork() : self._feature_columns= [NumericColumn(key='images', shape=(28, 28), default_value=None, dtype=tf.float32, normalizer_fn=None)]\n",
      "\n",
      "\n",
      "*** build_subnetwork() : NN type= RNN / Input layer shape= (?, 784)\n",
      "\n",
      "*** _build_rnn_subnetwork() : output[-1]= Tensor(\"adanet/iteration_0/subnetwork_t0_RNN_SGRU_layer_2/rnn/rnn/multi_rnn_cell/cell_1/gru_cell/add_27:0\", shape=(?, 128), dtype=float32) / Weight= <tf.Variable 'adanet/iteration_0/subnetwork_t0_RNN_SGRU_layer_2/W:0' shape=(128, 10) dtype=float32_ref>\n",
      "\n",
      "***build_subnetwork() / RNN : logits shape= (?, 10)\n",
      "\n",
      "*** build_subnetwork() : last_layer= Tensor(\"adanet/iteration_0/subnetwork_t0_RNN_SGRU_layer_2/dense/BiasAdd:0\", shape=(?, 128), dtype=float32)\n",
      "INFO:tensorflow:*** _build_weighted_subnetwork_helper() : MixtureWeightType= vector\n"
     ]
    },
    {
     "name": "stderr",
     "output_type": "stream",
     "text": [
      "I0522 23:27:10.978086 139898093799232 weighted.py:391] *** _build_weighted_subnetwork_helper() : MixtureWeightType= vector\n"
     ]
    },
    {
     "name": "stdout",
     "output_type": "stream",
     "text": [
      "\n",
      "*** NNAdaNetBuilder : NN Type=RNN\n",
      "\n",
      "*** get_tf_head() : feature shape= (28, 28)\n",
      "\n",
      "*** get_tf_head() : feature columns= [NumericColumn(key='images', shape=(28, 28), default_value=None, dtype=tf.float32, normalizer_fn=None)]\n",
      "\n",
      "*** NNAdaNetBuilder : NN Type=RNN\n",
      "\n",
      "*** get_tf_head() : feature shape= (28, 28)\n",
      "\n",
      "*** get_tf_head() : feature columns= [NumericColumn(key='images', shape=(28, 28), default_value=None, dtype=tf.float32, normalizer_fn=None)]\n",
      "INFO:tensorflow:Rebuilding iteration 1\n"
     ]
    },
    {
     "name": "stderr",
     "output_type": "stream",
     "text": [
      "I0522 23:27:11.121483 139898093799232 iteration.py:250] Rebuilding iteration 1\n"
     ]
    },
    {
     "name": "stdout",
     "output_type": "stream",
     "text": [
      "INFO:tensorflow:Rebuilding subnetwork 'RNN_SGRU_layer_3'\n"
     ]
    },
    {
     "name": "stderr",
     "output_type": "stream",
     "text": [
      "I0522 23:27:11.149660 139898093799232 iteration.py:337] Rebuilding subnetwork 'RNN_SGRU_layer_3'\n"
     ]
    },
    {
     "name": "stdout",
     "output_type": "stream",
     "text": [
      "\n",
      "\n",
      "*** build_subnetwork() : features= {'images': <tf.Tensor 'IteratorGetNext:0' shape=(?, 28, 28) dtype=float32>}\n",
      "\n",
      "\n",
      "*** build_subnetwork() : self._feature_columns= [NumericColumn(key='images', shape=(28, 28), default_value=None, dtype=tf.float32, normalizer_fn=None)]\n",
      "\n",
      "\n",
      "*** build_subnetwork() : NN type= RNN / Input layer shape= (?, 784)\n",
      "\n",
      "*** _build_rnn_subnetwork() : output[-1]= Tensor(\"adanet/iteration_1/subnetwork_t1_RNN_SGRU_layer_3/rnn/rnn/multi_rnn_cell/cell_2/gru_cell/add_27:0\", shape=(?, 128), dtype=float32) / Weight= <tf.Variable 'adanet/iteration_1/subnetwork_t1_RNN_SGRU_layer_3/W:0' shape=(128, 10) dtype=float32_ref>\n",
      "\n",
      "***build_subnetwork() / RNN : logits shape= (?, 10)\n",
      "\n",
      "*** build_subnetwork() : last_layer= Tensor(\"adanet/iteration_1/subnetwork_t1_RNN_SGRU_layer_3/dense/BiasAdd:0\", shape=(?, 128), dtype=float32)\n",
      "WARNING:tensorflow:Using an `adanet.subnetwork.Builder#prune_previous_ensemble` is deprecated. Please use a custom `adanet.ensemble.Strategy` instead.\n"
     ]
    },
    {
     "name": "stderr",
     "output_type": "stream",
     "text": [
      "W0522 23:27:11.988874 139898093799232 tf_logging.py:161] Using an `adanet.subnetwork.Builder#prune_previous_ensemble` is deprecated. Please use a custom `adanet.ensemble.Strategy` instead.\n"
     ]
    },
    {
     "name": "stdout",
     "output_type": "stream",
     "text": [
      "INFO:tensorflow:*** _build_weighted_subnetwork_helper() : MixtureWeightType= vector\n"
     ]
    },
    {
     "name": "stderr",
     "output_type": "stream",
     "text": [
      "I0522 23:27:11.992860 139898093799232 weighted.py:391] *** _build_weighted_subnetwork_helper() : MixtureWeightType= vector\n"
     ]
    },
    {
     "name": "stdout",
     "output_type": "stream",
     "text": [
      "INFO:tensorflow:*** _build_weighted_subnetwork_helper() : MixtureWeightType= vector\n"
     ]
    },
    {
     "name": "stderr",
     "output_type": "stream",
     "text": [
      "I0522 23:27:11.999423 139898093799232 weighted.py:391] *** _build_weighted_subnetwork_helper() : MixtureWeightType= vector\n"
     ]
    },
    {
     "name": "stdout",
     "output_type": "stream",
     "text": [
      "\n",
      "*** NNAdaNetBuilder : NN Type=RNN\n",
      "\n",
      "*** get_tf_head() : feature shape= (28, 28)\n",
      "\n",
      "*** get_tf_head() : feature columns= [NumericColumn(key='images', shape=(28, 28), default_value=None, dtype=tf.float32, normalizer_fn=None)]\n",
      "\n",
      "*** NNAdaNetBuilder : NN Type=RNN\n",
      "\n",
      "*** get_tf_head() : feature shape= (28, 28)\n",
      "\n",
      "*** get_tf_head() : feature columns= [NumericColumn(key='images', shape=(28, 28), default_value=None, dtype=tf.float32, normalizer_fn=None)]\n",
      "INFO:tensorflow:Rebuilding iteration 2\n"
     ]
    },
    {
     "name": "stderr",
     "output_type": "stream",
     "text": [
      "I0522 23:27:12.179847 139898093799232 iteration.py:250] Rebuilding iteration 2\n"
     ]
    },
    {
     "name": "stdout",
     "output_type": "stream",
     "text": [
      "INFO:tensorflow:Rebuilding subnetwork 'RNN_SGRU_layer_4'\n"
     ]
    },
    {
     "name": "stderr",
     "output_type": "stream",
     "text": [
      "I0522 23:27:12.208215 139898093799232 iteration.py:337] Rebuilding subnetwork 'RNN_SGRU_layer_4'\n"
     ]
    },
    {
     "name": "stdout",
     "output_type": "stream",
     "text": [
      "\n",
      "\n",
      "*** build_subnetwork() : features= {'images': <tf.Tensor 'IteratorGetNext:0' shape=(?, 28, 28) dtype=float32>}\n",
      "\n",
      "\n",
      "*** build_subnetwork() : self._feature_columns= [NumericColumn(key='images', shape=(28, 28), default_value=None, dtype=tf.float32, normalizer_fn=None)]\n",
      "\n",
      "\n",
      "*** build_subnetwork() : NN type= RNN / Input layer shape= (?, 784)\n",
      "\n",
      "*** _build_rnn_subnetwork() : output[-1]= Tensor(\"adanet/iteration_2/subnetwork_t2_RNN_SGRU_layer_4/rnn/rnn/multi_rnn_cell/cell_3/gru_cell/add_27:0\", shape=(?, 128), dtype=float32) / Weight= <tf.Variable 'adanet/iteration_2/subnetwork_t2_RNN_SGRU_layer_4/W:0' shape=(128, 10) dtype=float32_ref>\n",
      "\n",
      "***build_subnetwork() / RNN : logits shape= (?, 10)\n",
      "\n",
      "*** build_subnetwork() : last_layer= Tensor(\"adanet/iteration_2/subnetwork_t2_RNN_SGRU_layer_4/dense/BiasAdd:0\", shape=(?, 128), dtype=float32)\n",
      "WARNING:tensorflow:Using an `adanet.subnetwork.Builder#prune_previous_ensemble` is deprecated. Please use a custom `adanet.ensemble.Strategy` instead.\n"
     ]
    },
    {
     "name": "stderr",
     "output_type": "stream",
     "text": [
      "W0522 23:27:13.284766 139898093799232 tf_logging.py:161] Using an `adanet.subnetwork.Builder#prune_previous_ensemble` is deprecated. Please use a custom `adanet.ensemble.Strategy` instead.\n"
     ]
    },
    {
     "name": "stdout",
     "output_type": "stream",
     "text": [
      "INFO:tensorflow:*** _build_weighted_subnetwork_helper() : MixtureWeightType= vector\n"
     ]
    },
    {
     "name": "stderr",
     "output_type": "stream",
     "text": [
      "I0522 23:27:13.288771 139898093799232 weighted.py:391] *** _build_weighted_subnetwork_helper() : MixtureWeightType= vector\n"
     ]
    },
    {
     "name": "stdout",
     "output_type": "stream",
     "text": [
      "INFO:tensorflow:*** _build_weighted_subnetwork_helper() : MixtureWeightType= vector\n"
     ]
    },
    {
     "name": "stderr",
     "output_type": "stream",
     "text": [
      "I0522 23:27:13.295341 139898093799232 weighted.py:391] *** _build_weighted_subnetwork_helper() : MixtureWeightType= vector\n"
     ]
    },
    {
     "name": "stdout",
     "output_type": "stream",
     "text": [
      "INFO:tensorflow:*** _build_weighted_subnetwork_helper() : MixtureWeightType= vector\n"
     ]
    },
    {
     "name": "stderr",
     "output_type": "stream",
     "text": [
      "I0522 23:27:13.301885 139898093799232 weighted.py:391] *** _build_weighted_subnetwork_helper() : MixtureWeightType= vector\n"
     ]
    },
    {
     "name": "stdout",
     "output_type": "stream",
     "text": [
      "\n",
      "*** NNAdaNetBuilder : NN Type=RNN\n",
      "\n",
      "*** get_tf_head() : feature shape= (28, 28)\n",
      "\n",
      "*** get_tf_head() : feature columns= [NumericColumn(key='images', shape=(28, 28), default_value=None, dtype=tf.float32, normalizer_fn=None)]\n",
      "\n",
      "*** NNAdaNetBuilder : NN Type=RNN\n",
      "\n",
      "*** get_tf_head() : feature shape= (28, 28)\n",
      "\n",
      "*** get_tf_head() : feature columns= [NumericColumn(key='images', shape=(28, 28), default_value=None, dtype=tf.float32, normalizer_fn=None)]\n",
      "INFO:tensorflow:Rebuilding iteration 3\n"
     ]
    },
    {
     "name": "stderr",
     "output_type": "stream",
     "text": [
      "I0522 23:27:13.488798 139898093799232 iteration.py:250] Rebuilding iteration 3\n"
     ]
    },
    {
     "name": "stdout",
     "output_type": "stream",
     "text": [
      "INFO:tensorflow:Rebuilding subnetwork 'RNN_SGRU_layer_4'\n"
     ]
    },
    {
     "name": "stderr",
     "output_type": "stream",
     "text": [
      "I0522 23:27:13.517377 139898093799232 iteration.py:337] Rebuilding subnetwork 'RNN_SGRU_layer_4'\n"
     ]
    },
    {
     "name": "stdout",
     "output_type": "stream",
     "text": [
      "\n",
      "\n",
      "*** build_subnetwork() : features= {'images': <tf.Tensor 'IteratorGetNext:0' shape=(?, 28, 28) dtype=float32>}\n",
      "\n",
      "\n",
      "*** build_subnetwork() : self._feature_columns= [NumericColumn(key='images', shape=(28, 28), default_value=None, dtype=tf.float32, normalizer_fn=None)]\n",
      "\n",
      "\n",
      "*** build_subnetwork() : NN type= RNN / Input layer shape= (?, 784)\n",
      "\n",
      "*** _build_rnn_subnetwork() : output[-1]= Tensor(\"adanet/iteration_3/subnetwork_t3_RNN_SGRU_layer_4/rnn/rnn/multi_rnn_cell/cell_3/gru_cell/add_27:0\", shape=(?, 128), dtype=float32) / Weight= <tf.Variable 'adanet/iteration_3/subnetwork_t3_RNN_SGRU_layer_4/W:0' shape=(128, 10) dtype=float32_ref>\n",
      "\n",
      "***build_subnetwork() / RNN : logits shape= (?, 10)\n",
      "\n",
      "*** build_subnetwork() : last_layer= Tensor(\"adanet/iteration_3/subnetwork_t3_RNN_SGRU_layer_4/dense/BiasAdd:0\", shape=(?, 128), dtype=float32)\n",
      "WARNING:tensorflow:Using an `adanet.subnetwork.Builder#prune_previous_ensemble` is deprecated. Please use a custom `adanet.ensemble.Strategy` instead.\n"
     ]
    },
    {
     "name": "stderr",
     "output_type": "stream",
     "text": [
      "W0522 23:27:14.603206 139898093799232 tf_logging.py:161] Using an `adanet.subnetwork.Builder#prune_previous_ensemble` is deprecated. Please use a custom `adanet.ensemble.Strategy` instead.\n"
     ]
    },
    {
     "name": "stdout",
     "output_type": "stream",
     "text": [
      "INFO:tensorflow:*** _build_weighted_subnetwork_helper() : MixtureWeightType= vector\n"
     ]
    },
    {
     "name": "stderr",
     "output_type": "stream",
     "text": [
      "I0522 23:27:14.607537 139898093799232 weighted.py:391] *** _build_weighted_subnetwork_helper() : MixtureWeightType= vector\n"
     ]
    },
    {
     "name": "stdout",
     "output_type": "stream",
     "text": [
      "INFO:tensorflow:*** _build_weighted_subnetwork_helper() : MixtureWeightType= vector\n"
     ]
    },
    {
     "name": "stderr",
     "output_type": "stream",
     "text": [
      "I0522 23:27:14.614372 139898093799232 weighted.py:391] *** _build_weighted_subnetwork_helper() : MixtureWeightType= vector\n"
     ]
    },
    {
     "name": "stdout",
     "output_type": "stream",
     "text": [
      "INFO:tensorflow:*** _build_weighted_subnetwork_helper() : MixtureWeightType= vector\n"
     ]
    },
    {
     "name": "stderr",
     "output_type": "stream",
     "text": [
      "I0522 23:27:14.621157 139898093799232 weighted.py:391] *** _build_weighted_subnetwork_helper() : MixtureWeightType= vector\n"
     ]
    },
    {
     "name": "stdout",
     "output_type": "stream",
     "text": [
      "INFO:tensorflow:*** _build_weighted_subnetwork_helper() : MixtureWeightType= vector\n"
     ]
    },
    {
     "name": "stderr",
     "output_type": "stream",
     "text": [
      "I0522 23:27:14.627878 139898093799232 weighted.py:391] *** _build_weighted_subnetwork_helper() : MixtureWeightType= vector\n"
     ]
    },
    {
     "name": "stdout",
     "output_type": "stream",
     "text": [
      "\n",
      "*** NNAdaNetBuilder : NN Type=RNN\n",
      "\n",
      "*** get_tf_head() : feature shape= (28, 28)\n",
      "\n",
      "*** get_tf_head() : feature columns= [NumericColumn(key='images', shape=(28, 28), default_value=None, dtype=tf.float32, normalizer_fn=None)]\n",
      "\n",
      "*** NNAdaNetBuilder : NN Type=RNN\n",
      "\n",
      "*** get_tf_head() : feature shape= (28, 28)\n",
      "\n",
      "*** get_tf_head() : feature columns= [NumericColumn(key='images', shape=(28, 28), default_value=None, dtype=tf.float32, normalizer_fn=None)]\n",
      "INFO:tensorflow:Building iteration 4\n"
     ]
    },
    {
     "name": "stderr",
     "output_type": "stream",
     "text": [
      "I0522 23:27:14.804227 139898093799232 iteration.py:250] Building iteration 4\n"
     ]
    },
    {
     "name": "stdout",
     "output_type": "stream",
     "text": [
      "INFO:tensorflow:Building subnetwork 'RNN_SGRU_layer_4'\n"
     ]
    },
    {
     "name": "stderr",
     "output_type": "stream",
     "text": [
      "I0522 23:27:14.830508 139898093799232 iteration.py:337] Building subnetwork 'RNN_SGRU_layer_4'\n"
     ]
    },
    {
     "name": "stdout",
     "output_type": "stream",
     "text": [
      "\n",
      "\n",
      "*** build_subnetwork() : features= {'images': <tf.Tensor 'IteratorGetNext:0' shape=(?, 28, 28) dtype=float32>}\n",
      "\n",
      "\n",
      "*** build_subnetwork() : self._feature_columns= [NumericColumn(key='images', shape=(28, 28), default_value=None, dtype=tf.float32, normalizer_fn=None)]\n",
      "\n",
      "\n",
      "*** build_subnetwork() : NN type= RNN / Input layer shape= (?, 784)\n",
      "\n",
      "*** _build_rnn_subnetwork() : output[-1]= Tensor(\"adanet/iteration_4/subnetwork_t4_RNN_SGRU_layer_4/rnn/rnn/multi_rnn_cell/cell_3/gru_cell/add_27:0\", shape=(?, 128), dtype=float32) / Weight= <tf.Variable 'adanet/iteration_4/subnetwork_t4_RNN_SGRU_layer_4/W:0' shape=(128, 10) dtype=float32_ref>\n",
      "\n",
      "***build_subnetwork() / RNN : logits shape= (?, 10)\n",
      "\n",
      "*** build_subnetwork() : last_layer= Tensor(\"adanet/iteration_4/subnetwork_t4_RNN_SGRU_layer_4/dense/BiasAdd:0\", shape=(?, 128), dtype=float32)\n",
      "INFO:tensorflow:Building subnetwork 'RNN_SGRU_layer_5'\n"
     ]
    },
    {
     "name": "stderr",
     "output_type": "stream",
     "text": [
      "I0522 23:27:15.831326 139898093799232 iteration.py:337] Building subnetwork 'RNN_SGRU_layer_5'\n"
     ]
    },
    {
     "name": "stdout",
     "output_type": "stream",
     "text": [
      "\n",
      "\n",
      "*** build_subnetwork() : features= {'images': <tf.Tensor 'IteratorGetNext:0' shape=(?, 28, 28) dtype=float32>}\n",
      "\n",
      "\n",
      "*** build_subnetwork() : self._feature_columns= [NumericColumn(key='images', shape=(28, 28), default_value=None, dtype=tf.float32, normalizer_fn=None)]\n",
      "\n",
      "\n",
      "*** build_subnetwork() : NN type= RNN / Input layer shape= (?, 784)\n",
      "\n",
      "*** _build_rnn_subnetwork() : output[-1]= Tensor(\"adanet/iteration_4/subnetwork_t4_RNN_SGRU_layer_5/rnn/rnn/multi_rnn_cell/cell_4/gru_cell/add_27:0\", shape=(?, 128), dtype=float32) / Weight= <tf.Variable 'adanet/iteration_4/subnetwork_t4_RNN_SGRU_layer_5/W:0' shape=(128, 10) dtype=float32_ref>\n",
      "\n",
      "***build_subnetwork() / RNN : logits shape= (?, 10)\n",
      "\n",
      "*** build_subnetwork() : last_layer= Tensor(\"adanet/iteration_4/subnetwork_t4_RNN_SGRU_layer_5/dense/BiasAdd:0\", shape=(?, 128), dtype=float32)\n",
      "WARNING:tensorflow:Using an `adanet.subnetwork.Builder#prune_previous_ensemble` is deprecated. Please use a custom `adanet.ensemble.Strategy` instead.\n"
     ]
    },
    {
     "name": "stderr",
     "output_type": "stream",
     "text": [
      "W0522 23:27:17.031692 139898093799232 tf_logging.py:161] Using an `adanet.subnetwork.Builder#prune_previous_ensemble` is deprecated. Please use a custom `adanet.ensemble.Strategy` instead.\n"
     ]
    },
    {
     "name": "stdout",
     "output_type": "stream",
     "text": [
      "INFO:tensorflow:*** _build_weighted_subnetwork_helper() : MixtureWeightType= vector\n"
     ]
    },
    {
     "name": "stderr",
     "output_type": "stream",
     "text": [
      "I0522 23:27:17.035459 139898093799232 weighted.py:391] *** _build_weighted_subnetwork_helper() : MixtureWeightType= vector\n"
     ]
    },
    {
     "name": "stdout",
     "output_type": "stream",
     "text": [
      "INFO:tensorflow:*** _build_weighted_subnetwork_helper() : MixtureWeightType= vector\n"
     ]
    },
    {
     "name": "stderr",
     "output_type": "stream",
     "text": [
      "I0522 23:27:17.041877 139898093799232 weighted.py:391] *** _build_weighted_subnetwork_helper() : MixtureWeightType= vector\n"
     ]
    },
    {
     "name": "stdout",
     "output_type": "stream",
     "text": [
      "INFO:tensorflow:*** _build_weighted_subnetwork_helper() : MixtureWeightType= vector\n"
     ]
    },
    {
     "name": "stderr",
     "output_type": "stream",
     "text": [
      "I0522 23:27:17.048660 139898093799232 weighted.py:391] *** _build_weighted_subnetwork_helper() : MixtureWeightType= vector\n"
     ]
    },
    {
     "name": "stdout",
     "output_type": "stream",
     "text": [
      "INFO:tensorflow:*** _build_weighted_subnetwork_helper() : MixtureWeightType= vector\n"
     ]
    },
    {
     "name": "stderr",
     "output_type": "stream",
     "text": [
      "I0522 23:27:17.054854 139898093799232 weighted.py:391] *** _build_weighted_subnetwork_helper() : MixtureWeightType= vector\n"
     ]
    },
    {
     "name": "stdout",
     "output_type": "stream",
     "text": [
      "INFO:tensorflow:*** _build_weighted_subnetwork_helper() : MixtureWeightType= vector\n"
     ]
    },
    {
     "name": "stderr",
     "output_type": "stream",
     "text": [
      "I0522 23:27:17.061131 139898093799232 weighted.py:391] *** _build_weighted_subnetwork_helper() : MixtureWeightType= vector\n"
     ]
    },
    {
     "name": "stdout",
     "output_type": "stream",
     "text": [
      "WARNING:tensorflow:Using an `adanet.subnetwork.Builder#prune_previous_ensemble` is deprecated. Please use a custom `adanet.ensemble.Strategy` instead.\n"
     ]
    },
    {
     "name": "stderr",
     "output_type": "stream",
     "text": [
      "W0522 23:27:17.170871 139898093799232 tf_logging.py:161] Using an `adanet.subnetwork.Builder#prune_previous_ensemble` is deprecated. Please use a custom `adanet.ensemble.Strategy` instead.\n"
     ]
    },
    {
     "name": "stdout",
     "output_type": "stream",
     "text": [
      "INFO:tensorflow:*** _build_weighted_subnetwork_helper() : MixtureWeightType= vector\n"
     ]
    },
    {
     "name": "stderr",
     "output_type": "stream",
     "text": [
      "I0522 23:27:17.174773 139898093799232 weighted.py:391] *** _build_weighted_subnetwork_helper() : MixtureWeightType= vector\n"
     ]
    },
    {
     "name": "stdout",
     "output_type": "stream",
     "text": [
      "INFO:tensorflow:*** _build_weighted_subnetwork_helper() : MixtureWeightType= vector\n"
     ]
    },
    {
     "name": "stderr",
     "output_type": "stream",
     "text": [
      "I0522 23:27:17.181163 139898093799232 weighted.py:391] *** _build_weighted_subnetwork_helper() : MixtureWeightType= vector\n"
     ]
    },
    {
     "name": "stdout",
     "output_type": "stream",
     "text": [
      "INFO:tensorflow:*** _build_weighted_subnetwork_helper() : MixtureWeightType= vector\n"
     ]
    },
    {
     "name": "stderr",
     "output_type": "stream",
     "text": [
      "I0522 23:27:17.187337 139898093799232 weighted.py:391] *** _build_weighted_subnetwork_helper() : MixtureWeightType= vector\n"
     ]
    },
    {
     "name": "stdout",
     "output_type": "stream",
     "text": [
      "INFO:tensorflow:*** _build_weighted_subnetwork_helper() : MixtureWeightType= vector\n"
     ]
    },
    {
     "name": "stderr",
     "output_type": "stream",
     "text": [
      "I0522 23:27:17.193545 139898093799232 weighted.py:391] *** _build_weighted_subnetwork_helper() : MixtureWeightType= vector\n"
     ]
    },
    {
     "name": "stdout",
     "output_type": "stream",
     "text": [
      "INFO:tensorflow:*** _build_weighted_subnetwork_helper() : MixtureWeightType= vector\n"
     ]
    },
    {
     "name": "stderr",
     "output_type": "stream",
     "text": [
      "I0522 23:27:17.200475 139898093799232 weighted.py:391] *** _build_weighted_subnetwork_helper() : MixtureWeightType= vector\n"
     ]
    },
    {
     "name": "stdout",
     "output_type": "stream",
     "text": [
      "INFO:tensorflow:Restoring parameters from ./tmp/adanet/SGRU/model.ckpt-35\n"
     ]
    },
    {
     "name": "stderr",
     "output_type": "stream",
     "text": [
      "I0522 23:27:18.068549 139898093799232 saver.py:1270] Restoring parameters from ./tmp/adanet/SGRU/model.ckpt-35\n"
     ]
    },
    {
     "name": "stdout",
     "output_type": "stream",
     "text": [
      "WARNING:tensorflow:`tf.train.start_queue_runners()` was called when no queue runners were defined. You can safely remove the call to this deprecated function.\n"
     ]
    },
    {
     "name": "stderr",
     "output_type": "stream",
     "text": [
      "W0522 23:27:18.474952 139898093799232 queue_runner_impl.py:471] `tf.train.start_queue_runners()` was called when no queue runners were defined. You can safely remove the call to this deprecated function.\n"
     ]
    },
    {
     "name": "stdout",
     "output_type": "stream",
     "text": [
      "\n",
      "*** generator() : labels shape= (55000,) / label values= 3\n",
      "\n",
      "*** generator() : labels shape= (55000,) / label values= 3\n",
      "\n",
      "*** generator() : labels shape= (55000,) / label values= 3\n",
      "\n",
      "*** generator() : labels shape= (55000,) / label values= 3\n",
      "\n",
      "*** generator() : labels shape= (55000,) / label values= 3\n",
      "\n",
      "*** generator() : labels shape= (55000,) / label values= 3\n",
      "\n",
      "*** generator() : labels shape= (55000,) / label values= 3\n",
      "\n",
      "*** generator() : labels shape= (55000,) / label values= 3\n",
      "\n",
      "*** generator() : labels shape= (55000,) / label values= 3\n",
      "\n",
      "*** generator() : labels shape= (55000,) / label values= 3\n",
      "\n",
      "*** generator() : labels shape= (55000,) / label values= 3\n",
      "\n",
      "*** generator() : labels shape= (55000,) / label values= 3\n",
      "\n",
      "*** generator() : labels shape= (55000,) / label values= 3\n",
      "\n",
      "*** generator() : labels shape= (55000,) / label values= 3\n",
      "\n",
      "*** generator() : labels shape= (55000,) / label values= 3\n",
      "\n",
      "*** generator() : labels shape= (55000,) / label values= 3\n",
      "\n",
      "*** generator() : labels shape= (55000,) / label values= 3\n",
      "\n",
      "*** generator() : labels shape= (55000,) / label values= 3\n",
      "\n",
      "*** generator() : labels shape= (55000,) / label values= 3\n",
      "\n",
      "*** generator() : labels shape= (55000,) / label values= 3\n",
      "\n",
      "*** generator() : labels shape= (55000,) / label values= 3\n",
      "\n",
      "*** generator() : labels shape= (55000,) / label values= 3\n",
      "\n",
      "*** generator() : labels shape= (55000,) / label values= 3\n",
      "\n",
      "*** generator() : labels shape= (55000,) / label values= 3\n",
      "\n",
      "*** generator() : labels shape= (55000,) / label values= 3\n",
      "\n",
      "*** generator() : labels shape= (55000,) / label values= 3\n",
      "\n",
      "*** generator() : labels shape= (55000,) / label values= 3\n",
      "\n",
      "*** generator() : labels shape= (55000,) / label values= 3\n",
      "\n",
      "*** generator() : labels shape= (55000,) / label values= 3\n",
      "\n",
      "*** generator() : labels shape= (55000,) / label values= 3\n",
      "\n",
      "*** generator() : labels shape= (55000,) / label values= 3\n",
      "\n",
      "*** generator() : labels shape= (55000,) / label values= 3\n",
      "\n",
      "*** generator() : labels shape= (55000,) / label values= 3\n",
      "\n",
      "*** generator() : labels shape= (55000,) / label values= 3\n",
      "\n",
      "*** generator() : labels shape= (55000,) / label values= 3\n",
      "\n",
      "*** generator() : labels shape= (55000,) / label values= 3\n",
      "\n",
      "*** generator() : labels shape= (55000,) / label values= 3\n",
      "\n",
      "*** generator() : labels shape= (55000,) / label values= 3\n",
      "\n",
      "*** generator() : labels shape= (55000,) / label values= 3\n",
      "\n",
      "*** generator() : labels shape= (55000,) / label values= 3\n",
      "\n",
      "*** generator() : labels shape= (55000,) / label values= 3\n",
      "\n",
      "*** generator() : labels shape= (55000,) / label values= 3\n",
      "\n",
      "*** generator() : labels shape= (55000,) / label values= 3\n",
      "\n",
      "*** generator() : labels shape= (55000,) / label values= 3\n",
      "\n",
      "*** generator() : labels shape= (55000,) / label values= 3\n",
      "\n",
      "*** generator() : labels shape= (55000,) / label values= 3\n",
      "\n",
      "*** generator() : labels shape= (55000,) / label values= 3\n",
      "\n",
      "*** generator() : labels shape= (55000,) / label values= 3\n",
      "\n",
      "*** generator() : labels shape= (55000,) / label values= 3\n",
      "\n",
      "*** generator() : labels shape= (55000,) / label values= 3\n",
      "\n",
      "*** generator() : labels shape= (55000,) / label values= 3\n",
      "\n",
      "*** generator() : labels shape= (55000,) / label values= 3\n",
      "\n",
      "*** generator() : labels shape= (55000,) / label values= 3\n",
      "\n",
      "*** generator() : labels shape= (55000,) / label values= 3\n",
      "\n",
      "*** generator() : labels shape= (55000,) / label values= 3\n",
      "\n",
      "*** generator() : labels shape= (55000,) / label values= 3\n",
      "\n",
      "*** generator() : labels shape= (55000,) / label values= 3\n",
      "\n",
      "*** generator() : labels shape= (55000,) / label values= 3\n",
      "\n",
      "*** generator() : labels shape= (55000,) / label values= 3\n",
      "\n",
      "*** generator() : labels shape= (55000,) / label values= 3\n",
      "\n",
      "*** generator() : labels shape= (55000,) / label values= 3\n",
      "\n",
      "*** generator() : labels shape= (55000,) / label values= 3\n",
      "\n",
      "*** generator() : labels shape= (55000,) / label values= 3\n",
      "\n",
      "*** generator() : labels shape= (55000,) / label values= 3\n",
      "\n",
      "*** generator() : labels shape= (55000,) / label values= 3\n",
      "\n",
      "*** generator() : labels shape= (55000,) / label values= 3\n",
      "\n",
      "*** generator() : labels shape= (55000,) / label values= 3\n",
      "\n",
      "*** generator() : labels shape= (55000,) / label values= 3\n",
      "\n",
      "*** generator() : labels shape= (55000,) / label values= 3\n",
      "\n",
      "*** generator() : labels shape= (55000,) / label values= 3\n",
      "\n",
      "*** generator() : labels shape= (55000,) / label values= 3\n",
      "\n",
      "*** generator() : labels shape= (55000,) / label values= 3\n",
      "\n",
      "*** generator() : labels shape= (55000,) / label values= 3\n",
      "\n",
      "*** generator() : labels shape= (55000,) / label values= 3\n",
      "\n",
      "*** generator() : labels shape= (55000,) / label values= 3\n",
      "\n",
      "*** generator() : labels shape= (55000,) / label values= 3\n",
      "\n",
      "*** generator() : labels shape= (55000,) / label values= 3\n",
      "\n",
      "*** generator() : labels shape= (55000,) / label values= 3\n",
      "\n",
      "*** generator() : labels shape= (55000,) / label values= 3\n",
      "\n",
      "*** generator() : labels shape= (55000,) / label values= 3\n",
      "\n",
      "*** generator() : labels shape= (55000,) / label values= 3\n",
      "\n",
      "*** generator() : labels shape= (55000,) / label values= 3\n",
      "\n",
      "*** generator() : labels shape= (55000,) / label values= 3\n",
      "\n",
      "*** generator() : labels shape= (55000,) / label values= 3\n",
      "\n",
      "*** generator() : labels shape= (55000,) / label values= 3\n",
      "\n",
      "*** generator() : labels shape= (55000,) / label values= 3\n",
      "\n",
      "*** generator() : labels shape= (55000,) / label values= 3\n",
      "\n",
      "*** generator() : labels shape= (55000,) / label values= 3\n",
      "\n",
      "*** generator() : labels shape= (55000,) / label values= 3\n",
      "\n",
      "*** generator() : labels shape= (55000,) / label values= 3\n",
      "\n",
      "*** generator() : labels shape= (55000,) / label values= 3\n",
      "\n",
      "*** generator() : labels shape= (55000,) / label values= 3\n",
      "\n",
      "*** generator() : labels shape= (55000,) / label values= 3\n",
      "\n",
      "*** generator() : labels shape= (55000,) / label values= 3\n",
      "\n",
      "*** generator() : labels shape= (55000,) / label values= 3\n",
      "\n",
      "*** generator() : labels shape= (55000,) / label values= 3\n",
      "\n",
      "*** generator() : labels shape= (55000,) / label values= 3\n",
      "\n",
      "*** generator() : labels shape= (55000,) / label values= 3\n",
      "\n",
      "*** generator() : labels shape= (55000,) / label values= 3\n",
      "\n",
      "*** generator() : labels shape= (55000,) / label values= 3\n",
      "INFO:tensorflow:Done calling model_fn.\n"
     ]
    },
    {
     "name": "stderr",
     "output_type": "stream",
     "text": [
      "I0523 00:57:51.786300 139898093799232 estimator.py:1113] Done calling model_fn.\n"
     ]
    },
    {
     "name": "stdout",
     "output_type": "stream",
     "text": [
      "INFO:tensorflow:Using config: {'_model_dir': './tmp/adanet/SGRU/temp_model_dir', '_tf_random_seed': 42, '_save_summary_steps': 100, '_save_checkpoints_steps': None, '_save_checkpoints_secs': 600, '_session_config': allow_soft_placement: true\n",
      "graph_options {\n",
      "  rewrite_options {\n",
      "    meta_optimizer_iterations: ONE\n",
      "  }\n",
      "}\n",
      ", '_keep_checkpoint_max': 5, '_keep_checkpoint_every_n_hours': 10000, '_log_step_count_steps': 100, '_train_distribute': None, '_device_fn': None, '_protocol': None, '_eval_distribute': None, '_experimental_distribute': None, '_service': None, '_cluster_spec': <tensorflow.python.training.server_lib.ClusterSpec object at 0x7f3a1c1b5748>, '_task_type': 'worker', '_task_id': 0, '_global_id_in_cluster': 0, '_master': '', '_evaluation_master': '', '_is_chief': True, '_num_ps_replicas': 0, '_num_worker_replicas': 1}\n"
     ]
    },
    {
     "name": "stderr",
     "output_type": "stream",
     "text": [
      "I0523 00:57:51.787581 139898093799232 estimator.py:201] Using config: {'_model_dir': './tmp/adanet/SGRU/temp_model_dir', '_tf_random_seed': 42, '_save_summary_steps': 100, '_save_checkpoints_steps': None, '_save_checkpoints_secs': 600, '_session_config': allow_soft_placement: true\n",
      "graph_options {\n",
      "  rewrite_options {\n",
      "    meta_optimizer_iterations: ONE\n",
      "  }\n",
      "}\n",
      ", '_keep_checkpoint_max': 5, '_keep_checkpoint_every_n_hours': 10000, '_log_step_count_steps': 100, '_train_distribute': None, '_device_fn': None, '_protocol': None, '_eval_distribute': None, '_experimental_distribute': None, '_service': None, '_cluster_spec': <tensorflow.python.training.server_lib.ClusterSpec object at 0x7f3a1c1b5748>, '_task_type': 'worker', '_task_id': 0, '_global_id_in_cluster': 0, '_master': '', '_evaluation_master': '', '_is_chief': True, '_num_ps_replicas': 0, '_num_worker_replicas': 1}\n"
     ]
    },
    {
     "name": "stdout",
     "output_type": "stream",
     "text": [
      "\n",
      "*** input_fn() : feature_shape= (28, 28) / label_shape= [1]\n",
      "\n",
      "*** preprocess_image() : image shape= (28, 28)\n",
      "\n",
      "*** preprocess_image() : features= {'images': <tf.Tensor 'arg0:0' shape=(28, 28) dtype=float32>} / label shape= ()\n",
      "\n",
      "***_input_fn() : Label shape =[1]\n",
      "INFO:tensorflow:Calling model_fn.\n"
     ]
    },
    {
     "name": "stderr",
     "output_type": "stream",
     "text": [
      "I0523 00:57:52.032014 139898093799232 estimator.py:1111] Calling model_fn.\n"
     ]
    },
    {
     "name": "stdout",
     "output_type": "stream",
     "text": [
      "\n",
      "*** NNAdaNetBuilder : NN Type=RNN\n",
      "\n",
      "*** get_tf_head() : feature shape= (28, 28)\n",
      "\n",
      "*** get_tf_head() : feature columns= [NumericColumn(key='images', shape=(28, 28), default_value=None, dtype=tf.float32, normalizer_fn=None)]\n",
      "\n",
      "*** NNAdaNetBuilder : NN Type=RNN\n",
      "\n",
      "*** get_tf_head() : feature shape= (28, 28)\n",
      "\n",
      "*** get_tf_head() : feature columns= [NumericColumn(key='images', shape=(28, 28), default_value=None, dtype=tf.float32, normalizer_fn=None)]\n",
      "INFO:tensorflow:Rebuilding iteration 0\n"
     ]
    },
    {
     "name": "stderr",
     "output_type": "stream",
     "text": [
      "I0523 00:57:52.035974 139898093799232 iteration.py:250] Rebuilding iteration 0\n"
     ]
    },
    {
     "name": "stdout",
     "output_type": "stream",
     "text": [
      "INFO:tensorflow:Rebuilding subnetwork 'RNN_SGRU_layer_2'\n"
     ]
    },
    {
     "name": "stderr",
     "output_type": "stream",
     "text": [
      "I0523 00:57:52.040551 139898093799232 iteration.py:337] Rebuilding subnetwork 'RNN_SGRU_layer_2'\n"
     ]
    },
    {
     "name": "stdout",
     "output_type": "stream",
     "text": [
      "\n",
      "\n",
      "*** build_subnetwork() : features= {'images': <tf.Tensor 'IteratorGetNext:0' shape=(?, 28, 28) dtype=float32>}\n",
      "\n",
      "\n",
      "*** build_subnetwork() : self._feature_columns= [NumericColumn(key='images', shape=(28, 28), default_value=None, dtype=tf.float32, normalizer_fn=None)]\n",
      "\n",
      "\n",
      "*** build_subnetwork() : NN type= RNN / Input layer shape= (?, 784)\n",
      "\n",
      "*** _build_rnn_subnetwork() : output[-1]= Tensor(\"adanet/iteration_0/subnetwork_t0_RNN_SGRU_layer_2/rnn/rnn/multi_rnn_cell/cell_1/gru_cell/add_27:0\", shape=(?, 128), dtype=float32) / Weight= <tf.Variable 'adanet/iteration_0/subnetwork_t0_RNN_SGRU_layer_2/W:0' shape=(128, 10) dtype=float32_ref>\n",
      "\n",
      "***build_subnetwork() / RNN : logits shape= (?, 10)\n",
      "\n",
      "*** build_subnetwork() : last_layer= Tensor(\"adanet/iteration_0/subnetwork_t0_RNN_SGRU_layer_2/dense/BiasAdd:0\", shape=(?, 128), dtype=float32)\n",
      "INFO:tensorflow:*** _build_weighted_subnetwork_helper() : MixtureWeightType= vector\n"
     ]
    },
    {
     "name": "stderr",
     "output_type": "stream",
     "text": [
      "I0523 00:57:52.600185 139898093799232 weighted.py:391] *** _build_weighted_subnetwork_helper() : MixtureWeightType= vector\n"
     ]
    },
    {
     "name": "stdout",
     "output_type": "stream",
     "text": [
      "\n",
      "*** NNAdaNetBuilder : NN Type=RNN\n",
      "\n",
      "*** get_tf_head() : feature shape= (28, 28)\n",
      "\n",
      "*** get_tf_head() : feature columns= [NumericColumn(key='images', shape=(28, 28), default_value=None, dtype=tf.float32, normalizer_fn=None)]\n",
      "\n",
      "*** NNAdaNetBuilder : NN Type=RNN\n",
      "\n",
      "*** get_tf_head() : feature shape= (28, 28)\n",
      "\n",
      "*** get_tf_head() : feature columns= [NumericColumn(key='images', shape=(28, 28), default_value=None, dtype=tf.float32, normalizer_fn=None)]\n",
      "INFO:tensorflow:Rebuilding iteration 1\n"
     ]
    },
    {
     "name": "stderr",
     "output_type": "stream",
     "text": [
      "I0523 00:57:52.709301 139898093799232 iteration.py:250] Rebuilding iteration 1\n"
     ]
    },
    {
     "name": "stdout",
     "output_type": "stream",
     "text": [
      "INFO:tensorflow:Rebuilding subnetwork 'RNN_SGRU_layer_3'\n"
     ]
    },
    {
     "name": "stderr",
     "output_type": "stream",
     "text": [
      "I0523 00:57:52.728919 139898093799232 iteration.py:337] Rebuilding subnetwork 'RNN_SGRU_layer_3'\n"
     ]
    },
    {
     "name": "stdout",
     "output_type": "stream",
     "text": [
      "\n",
      "\n",
      "*** build_subnetwork() : features= {'images': <tf.Tensor 'IteratorGetNext:0' shape=(?, 28, 28) dtype=float32>}\n",
      "\n",
      "\n",
      "*** build_subnetwork() : self._feature_columns= [NumericColumn(key='images', shape=(28, 28), default_value=None, dtype=tf.float32, normalizer_fn=None)]\n",
      "\n",
      "\n",
      "*** build_subnetwork() : NN type= RNN / Input layer shape= (?, 784)\n",
      "\n",
      "*** _build_rnn_subnetwork() : output[-1]= Tensor(\"adanet/iteration_1/subnetwork_t1_RNN_SGRU_layer_3/rnn/rnn/multi_rnn_cell/cell_2/gru_cell/add_27:0\", shape=(?, 128), dtype=float32) / Weight= <tf.Variable 'adanet/iteration_1/subnetwork_t1_RNN_SGRU_layer_3/W:0' shape=(128, 10) dtype=float32_ref>\n",
      "\n",
      "***build_subnetwork() / RNN : logits shape= (?, 10)\n",
      "\n",
      "*** build_subnetwork() : last_layer= Tensor(\"adanet/iteration_1/subnetwork_t1_RNN_SGRU_layer_3/dense/BiasAdd:0\", shape=(?, 128), dtype=float32)\n",
      "WARNING:tensorflow:Using an `adanet.subnetwork.Builder#prune_previous_ensemble` is deprecated. Please use a custom `adanet.ensemble.Strategy` instead.\n"
     ]
    },
    {
     "name": "stderr",
     "output_type": "stream",
     "text": [
      "W0523 00:57:53.500299 139898093799232 tf_logging.py:161] Using an `adanet.subnetwork.Builder#prune_previous_ensemble` is deprecated. Please use a custom `adanet.ensemble.Strategy` instead.\n"
     ]
    },
    {
     "name": "stdout",
     "output_type": "stream",
     "text": [
      "INFO:tensorflow:*** _build_weighted_subnetwork_helper() : MixtureWeightType= vector\n"
     ]
    },
    {
     "name": "stderr",
     "output_type": "stream",
     "text": [
      "I0523 00:57:53.503965 139898093799232 weighted.py:391] *** _build_weighted_subnetwork_helper() : MixtureWeightType= vector\n"
     ]
    },
    {
     "name": "stdout",
     "output_type": "stream",
     "text": [
      "INFO:tensorflow:*** _build_weighted_subnetwork_helper() : MixtureWeightType= vector\n"
     ]
    },
    {
     "name": "stderr",
     "output_type": "stream",
     "text": [
      "I0523 00:57:53.510281 139898093799232 weighted.py:391] *** _build_weighted_subnetwork_helper() : MixtureWeightType= vector\n"
     ]
    },
    {
     "name": "stdout",
     "output_type": "stream",
     "text": [
      "\n",
      "*** NNAdaNetBuilder : NN Type=RNN\n",
      "\n",
      "*** get_tf_head() : feature shape= (28, 28)\n",
      "\n",
      "*** get_tf_head() : feature columns= [NumericColumn(key='images', shape=(28, 28), default_value=None, dtype=tf.float32, normalizer_fn=None)]\n",
      "\n",
      "*** NNAdaNetBuilder : NN Type=RNN\n",
      "\n",
      "*** get_tf_head() : feature shape= (28, 28)\n",
      "\n",
      "*** get_tf_head() : feature columns= [NumericColumn(key='images', shape=(28, 28), default_value=None, dtype=tf.float32, normalizer_fn=None)]\n",
      "INFO:tensorflow:Rebuilding iteration 2\n"
     ]
    },
    {
     "name": "stderr",
     "output_type": "stream",
     "text": [
      "I0523 00:57:53.641524 139898093799232 iteration.py:250] Rebuilding iteration 2\n"
     ]
    },
    {
     "name": "stdout",
     "output_type": "stream",
     "text": [
      "INFO:tensorflow:Rebuilding subnetwork 'RNN_SGRU_layer_4'\n"
     ]
    },
    {
     "name": "stderr",
     "output_type": "stream",
     "text": [
      "I0523 00:57:53.662068 139898093799232 iteration.py:337] Rebuilding subnetwork 'RNN_SGRU_layer_4'\n"
     ]
    },
    {
     "name": "stdout",
     "output_type": "stream",
     "text": [
      "\n",
      "\n",
      "*** build_subnetwork() : features= {'images': <tf.Tensor 'IteratorGetNext:0' shape=(?, 28, 28) dtype=float32>}\n",
      "\n",
      "\n",
      "*** build_subnetwork() : self._feature_columns= [NumericColumn(key='images', shape=(28, 28), default_value=None, dtype=tf.float32, normalizer_fn=None)]\n",
      "\n",
      "\n",
      "*** build_subnetwork() : NN type= RNN / Input layer shape= (?, 784)\n",
      "\n",
      "*** _build_rnn_subnetwork() : output[-1]= Tensor(\"adanet/iteration_2/subnetwork_t2_RNN_SGRU_layer_4/rnn/rnn/multi_rnn_cell/cell_3/gru_cell/add_27:0\", shape=(?, 128), dtype=float32) / Weight= <tf.Variable 'adanet/iteration_2/subnetwork_t2_RNN_SGRU_layer_4/W:0' shape=(128, 10) dtype=float32_ref>\n",
      "\n",
      "***build_subnetwork() / RNN : logits shape= (?, 10)\n",
      "\n",
      "*** build_subnetwork() : last_layer= Tensor(\"adanet/iteration_2/subnetwork_t2_RNN_SGRU_layer_4/dense/BiasAdd:0\", shape=(?, 128), dtype=float32)\n",
      "WARNING:tensorflow:Using an `adanet.subnetwork.Builder#prune_previous_ensemble` is deprecated. Please use a custom `adanet.ensemble.Strategy` instead.\n"
     ]
    },
    {
     "name": "stderr",
     "output_type": "stream",
     "text": [
      "W0523 00:57:54.794471 139898093799232 tf_logging.py:161] Using an `adanet.subnetwork.Builder#prune_previous_ensemble` is deprecated. Please use a custom `adanet.ensemble.Strategy` instead.\n"
     ]
    },
    {
     "name": "stdout",
     "output_type": "stream",
     "text": [
      "INFO:tensorflow:*** _build_weighted_subnetwork_helper() : MixtureWeightType= vector\n"
     ]
    },
    {
     "name": "stderr",
     "output_type": "stream",
     "text": [
      "I0523 00:57:54.799002 139898093799232 weighted.py:391] *** _build_weighted_subnetwork_helper() : MixtureWeightType= vector\n"
     ]
    },
    {
     "name": "stdout",
     "output_type": "stream",
     "text": [
      "INFO:tensorflow:*** _build_weighted_subnetwork_helper() : MixtureWeightType= vector\n"
     ]
    },
    {
     "name": "stderr",
     "output_type": "stream",
     "text": [
      "I0523 00:57:54.806061 139898093799232 weighted.py:391] *** _build_weighted_subnetwork_helper() : MixtureWeightType= vector\n"
     ]
    },
    {
     "name": "stdout",
     "output_type": "stream",
     "text": [
      "INFO:tensorflow:*** _build_weighted_subnetwork_helper() : MixtureWeightType= vector\n"
     ]
    },
    {
     "name": "stderr",
     "output_type": "stream",
     "text": [
      "I0523 00:57:54.812825 139898093799232 weighted.py:391] *** _build_weighted_subnetwork_helper() : MixtureWeightType= vector\n"
     ]
    },
    {
     "name": "stdout",
     "output_type": "stream",
     "text": [
      "\n",
      "*** NNAdaNetBuilder : NN Type=RNN\n",
      "\n",
      "*** get_tf_head() : feature shape= (28, 28)\n",
      "\n",
      "*** get_tf_head() : feature columns= [NumericColumn(key='images', shape=(28, 28), default_value=None, dtype=tf.float32, normalizer_fn=None)]\n",
      "\n",
      "*** NNAdaNetBuilder : NN Type=RNN\n",
      "\n",
      "*** get_tf_head() : feature shape= (28, 28)\n",
      "\n",
      "*** get_tf_head() : feature columns= [NumericColumn(key='images', shape=(28, 28), default_value=None, dtype=tf.float32, normalizer_fn=None)]\n",
      "INFO:tensorflow:Rebuilding iteration 3\n"
     ]
    },
    {
     "name": "stderr",
     "output_type": "stream",
     "text": [
      "I0523 00:57:54.965960 139898093799232 iteration.py:250] Rebuilding iteration 3\n"
     ]
    },
    {
     "name": "stdout",
     "output_type": "stream",
     "text": [
      "INFO:tensorflow:Rebuilding subnetwork 'RNN_SGRU_layer_4'\n"
     ]
    },
    {
     "name": "stderr",
     "output_type": "stream",
     "text": [
      "I0523 00:57:54.987572 139898093799232 iteration.py:337] Rebuilding subnetwork 'RNN_SGRU_layer_4'\n"
     ]
    },
    {
     "name": "stdout",
     "output_type": "stream",
     "text": [
      "\n",
      "\n",
      "*** build_subnetwork() : features= {'images': <tf.Tensor 'IteratorGetNext:0' shape=(?, 28, 28) dtype=float32>}\n",
      "\n",
      "\n",
      "*** build_subnetwork() : self._feature_columns= [NumericColumn(key='images', shape=(28, 28), default_value=None, dtype=tf.float32, normalizer_fn=None)]\n",
      "\n",
      "\n",
      "*** build_subnetwork() : NN type= RNN / Input layer shape= (?, 784)\n",
      "\n",
      "*** _build_rnn_subnetwork() : output[-1]= Tensor(\"adanet/iteration_3/subnetwork_t3_RNN_SGRU_layer_4/rnn/rnn/multi_rnn_cell/cell_3/gru_cell/add_27:0\", shape=(?, 128), dtype=float32) / Weight= <tf.Variable 'adanet/iteration_3/subnetwork_t3_RNN_SGRU_layer_4/W:0' shape=(128, 10) dtype=float32_ref>\n",
      "\n",
      "***build_subnetwork() / RNN : logits shape= (?, 10)\n",
      "\n",
      "*** build_subnetwork() : last_layer= Tensor(\"adanet/iteration_3/subnetwork_t3_RNN_SGRU_layer_4/dense/BiasAdd:0\", shape=(?, 128), dtype=float32)\n",
      "WARNING:tensorflow:Using an `adanet.subnetwork.Builder#prune_previous_ensemble` is deprecated. Please use a custom `adanet.ensemble.Strategy` instead.\n"
     ]
    },
    {
     "name": "stderr",
     "output_type": "stream",
     "text": [
      "W0523 00:57:56.125782 139898093799232 tf_logging.py:161] Using an `adanet.subnetwork.Builder#prune_previous_ensemble` is deprecated. Please use a custom `adanet.ensemble.Strategy` instead.\n"
     ]
    },
    {
     "name": "stdout",
     "output_type": "stream",
     "text": [
      "INFO:tensorflow:*** _build_weighted_subnetwork_helper() : MixtureWeightType= vector\n"
     ]
    },
    {
     "name": "stderr",
     "output_type": "stream",
     "text": [
      "I0523 00:57:56.131073 139898093799232 weighted.py:391] *** _build_weighted_subnetwork_helper() : MixtureWeightType= vector\n"
     ]
    },
    {
     "name": "stdout",
     "output_type": "stream",
     "text": [
      "INFO:tensorflow:*** _build_weighted_subnetwork_helper() : MixtureWeightType= vector\n"
     ]
    },
    {
     "name": "stderr",
     "output_type": "stream",
     "text": [
      "I0523 00:57:56.137974 139898093799232 weighted.py:391] *** _build_weighted_subnetwork_helper() : MixtureWeightType= vector\n"
     ]
    },
    {
     "name": "stdout",
     "output_type": "stream",
     "text": [
      "INFO:tensorflow:*** _build_weighted_subnetwork_helper() : MixtureWeightType= vector\n"
     ]
    },
    {
     "name": "stderr",
     "output_type": "stream",
     "text": [
      "I0523 00:57:56.144966 139898093799232 weighted.py:391] *** _build_weighted_subnetwork_helper() : MixtureWeightType= vector\n"
     ]
    },
    {
     "name": "stdout",
     "output_type": "stream",
     "text": [
      "INFO:tensorflow:*** _build_weighted_subnetwork_helper() : MixtureWeightType= vector\n"
     ]
    },
    {
     "name": "stderr",
     "output_type": "stream",
     "text": [
      "I0523 00:57:56.152092 139898093799232 weighted.py:391] *** _build_weighted_subnetwork_helper() : MixtureWeightType= vector\n"
     ]
    },
    {
     "name": "stdout",
     "output_type": "stream",
     "text": [
      "\n",
      "*** NNAdaNetBuilder : NN Type=RNN\n",
      "\n",
      "*** get_tf_head() : feature shape= (28, 28)\n",
      "\n",
      "*** get_tf_head() : feature columns= [NumericColumn(key='images', shape=(28, 28), default_value=None, dtype=tf.float32, normalizer_fn=None)]\n",
      "\n",
      "*** NNAdaNetBuilder : NN Type=RNN\n",
      "\n",
      "*** get_tf_head() : feature shape= (28, 28)\n",
      "\n",
      "*** get_tf_head() : feature columns= [NumericColumn(key='images', shape=(28, 28), default_value=None, dtype=tf.float32, normalizer_fn=None)]\n",
      "INFO:tensorflow:Rebuilding iteration 4\n"
     ]
    },
    {
     "name": "stderr",
     "output_type": "stream",
     "text": [
      "I0523 00:57:56.306779 139898093799232 iteration.py:250] Rebuilding iteration 4\n"
     ]
    },
    {
     "name": "stdout",
     "output_type": "stream",
     "text": [
      "INFO:tensorflow:Rebuilding subnetwork 'RNN_SGRU_layer_4'\n"
     ]
    },
    {
     "name": "stderr",
     "output_type": "stream",
     "text": [
      "I0523 00:57:56.328698 139898093799232 iteration.py:337] Rebuilding subnetwork 'RNN_SGRU_layer_4'\n"
     ]
    },
    {
     "name": "stdout",
     "output_type": "stream",
     "text": [
      "\n",
      "\n",
      "*** build_subnetwork() : features= {'images': <tf.Tensor 'IteratorGetNext:0' shape=(?, 28, 28) dtype=float32>}\n",
      "\n",
      "\n",
      "*** build_subnetwork() : self._feature_columns= [NumericColumn(key='images', shape=(28, 28), default_value=None, dtype=tf.float32, normalizer_fn=None)]\n",
      "\n",
      "\n",
      "*** build_subnetwork() : NN type= RNN / Input layer shape= (?, 784)\n",
      "\n",
      "*** _build_rnn_subnetwork() : output[-1]= Tensor(\"adanet/iteration_4/subnetwork_t4_RNN_SGRU_layer_4/rnn/rnn/multi_rnn_cell/cell_3/gru_cell/add_27:0\", shape=(?, 128), dtype=float32) / Weight= <tf.Variable 'adanet/iteration_4/subnetwork_t4_RNN_SGRU_layer_4/W:0' shape=(128, 10) dtype=float32_ref>\n",
      "\n",
      "***build_subnetwork() / RNN : logits shape= (?, 10)\n",
      "\n",
      "*** build_subnetwork() : last_layer= Tensor(\"adanet/iteration_4/subnetwork_t4_RNN_SGRU_layer_4/dense/BiasAdd:0\", shape=(?, 128), dtype=float32)\n",
      "WARNING:tensorflow:Using an `adanet.subnetwork.Builder#prune_previous_ensemble` is deprecated. Please use a custom `adanet.ensemble.Strategy` instead.\n"
     ]
    },
    {
     "name": "stderr",
     "output_type": "stream",
     "text": [
      "W0523 00:57:57.426502 139898093799232 tf_logging.py:161] Using an `adanet.subnetwork.Builder#prune_previous_ensemble` is deprecated. Please use a custom `adanet.ensemble.Strategy` instead.\n"
     ]
    },
    {
     "name": "stdout",
     "output_type": "stream",
     "text": [
      "INFO:tensorflow:*** _build_weighted_subnetwork_helper() : MixtureWeightType= vector\n"
     ]
    },
    {
     "name": "stderr",
     "output_type": "stream",
     "text": [
      "I0523 00:57:57.431144 139898093799232 weighted.py:391] *** _build_weighted_subnetwork_helper() : MixtureWeightType= vector\n"
     ]
    },
    {
     "name": "stdout",
     "output_type": "stream",
     "text": [
      "INFO:tensorflow:*** _build_weighted_subnetwork_helper() : MixtureWeightType= vector\n"
     ]
    },
    {
     "name": "stderr",
     "output_type": "stream",
     "text": [
      "I0523 00:57:57.438215 139898093799232 weighted.py:391] *** _build_weighted_subnetwork_helper() : MixtureWeightType= vector\n"
     ]
    },
    {
     "name": "stdout",
     "output_type": "stream",
     "text": [
      "INFO:tensorflow:*** _build_weighted_subnetwork_helper() : MixtureWeightType= vector\n"
     ]
    },
    {
     "name": "stderr",
     "output_type": "stream",
     "text": [
      "I0523 00:57:57.444766 139898093799232 weighted.py:391] *** _build_weighted_subnetwork_helper() : MixtureWeightType= vector\n"
     ]
    },
    {
     "name": "stdout",
     "output_type": "stream",
     "text": [
      "INFO:tensorflow:*** _build_weighted_subnetwork_helper() : MixtureWeightType= vector\n"
     ]
    },
    {
     "name": "stderr",
     "output_type": "stream",
     "text": [
      "I0523 00:57:57.451210 139898093799232 weighted.py:391] *** _build_weighted_subnetwork_helper() : MixtureWeightType= vector\n"
     ]
    },
    {
     "name": "stdout",
     "output_type": "stream",
     "text": [
      "INFO:tensorflow:*** _build_weighted_subnetwork_helper() : MixtureWeightType= vector\n"
     ]
    },
    {
     "name": "stderr",
     "output_type": "stream",
     "text": [
      "I0523 00:57:57.458067 139898093799232 weighted.py:391] *** _build_weighted_subnetwork_helper() : MixtureWeightType= vector\n"
     ]
    },
    {
     "name": "stdout",
     "output_type": "stream",
     "text": [
      "\n",
      "*** NNAdaNetBuilder : NN Type=RNN\n",
      "\n",
      "*** get_tf_head() : feature shape= (28, 28)\n",
      "\n",
      "*** get_tf_head() : feature columns= [NumericColumn(key='images', shape=(28, 28), default_value=None, dtype=tf.float32, normalizer_fn=None)]\n",
      "\n",
      "*** NNAdaNetBuilder : NN Type=RNN\n",
      "\n",
      "*** get_tf_head() : feature shape= (28, 28)\n",
      "\n",
      "*** get_tf_head() : feature columns= [NumericColumn(key='images', shape=(28, 28), default_value=None, dtype=tf.float32, normalizer_fn=None)]\n",
      "INFO:tensorflow:Building iteration 5\n"
     ]
    },
    {
     "name": "stderr",
     "output_type": "stream",
     "text": [
      "I0523 00:57:57.621588 139898093799232 iteration.py:250] Building iteration 5\n"
     ]
    },
    {
     "name": "stdout",
     "output_type": "stream",
     "text": [
      "INFO:tensorflow:Building subnetwork 'RNN_SGRU_layer_4'\n"
     ]
    },
    {
     "name": "stderr",
     "output_type": "stream",
     "text": [
      "I0523 00:57:57.643916 139898093799232 iteration.py:337] Building subnetwork 'RNN_SGRU_layer_4'\n"
     ]
    },
    {
     "name": "stdout",
     "output_type": "stream",
     "text": [
      "\n",
      "\n",
      "*** build_subnetwork() : features= {'images': <tf.Tensor 'IteratorGetNext:0' shape=(?, 28, 28) dtype=float32>}\n",
      "\n",
      "\n",
      "*** build_subnetwork() : self._feature_columns= [NumericColumn(key='images', shape=(28, 28), default_value=None, dtype=tf.float32, normalizer_fn=None)]\n",
      "\n",
      "\n",
      "*** build_subnetwork() : NN type= RNN / Input layer shape= (?, 784)\n",
      "\n",
      "*** _build_rnn_subnetwork() : output[-1]= Tensor(\"adanet/iteration_5/subnetwork_t5_RNN_SGRU_layer_4/rnn/rnn/multi_rnn_cell/cell_3/gru_cell/add_27:0\", shape=(?, 128), dtype=float32) / Weight= <tf.Variable 'adanet/iteration_5/subnetwork_t5_RNN_SGRU_layer_4/W:0' shape=(128, 10) dtype=float32_ref>\n",
      "\n",
      "***build_subnetwork() / RNN : logits shape= (?, 10)\n",
      "\n",
      "*** build_subnetwork() : last_layer= Tensor(\"adanet/iteration_5/subnetwork_t5_RNN_SGRU_layer_4/dense/BiasAdd:0\", shape=(?, 128), dtype=float32)\n",
      "INFO:tensorflow:Building subnetwork 'RNN_SGRU_layer_5'\n"
     ]
    },
    {
     "name": "stderr",
     "output_type": "stream",
     "text": [
      "I0523 00:58:04.501897 139898093799232 iteration.py:337] Building subnetwork 'RNN_SGRU_layer_5'\n"
     ]
    },
    {
     "name": "stdout",
     "output_type": "stream",
     "text": [
      "\n",
      "\n",
      "*** build_subnetwork() : features= {'images': <tf.Tensor 'IteratorGetNext:0' shape=(?, 28, 28) dtype=float32>}\n",
      "\n",
      "\n",
      "*** build_subnetwork() : self._feature_columns= [NumericColumn(key='images', shape=(28, 28), default_value=None, dtype=tf.float32, normalizer_fn=None)]\n",
      "\n",
      "\n",
      "*** build_subnetwork() : NN type= RNN / Input layer shape= (?, 784)\n",
      "\n",
      "*** _build_rnn_subnetwork() : output[-1]= Tensor(\"adanet/iteration_5/subnetwork_t5_RNN_SGRU_layer_5/rnn/rnn/multi_rnn_cell/cell_4/gru_cell/add_27:0\", shape=(?, 128), dtype=float32) / Weight= <tf.Variable 'adanet/iteration_5/subnetwork_t5_RNN_SGRU_layer_5/W:0' shape=(128, 10) dtype=float32_ref>\n",
      "\n",
      "***build_subnetwork() / RNN : logits shape= (?, 10)\n",
      "\n",
      "*** build_subnetwork() : last_layer= Tensor(\"adanet/iteration_5/subnetwork_t5_RNN_SGRU_layer_5/dense/BiasAdd:0\", shape=(?, 128), dtype=float32)\n",
      "WARNING:tensorflow:Using an `adanet.subnetwork.Builder#prune_previous_ensemble` is deprecated. Please use a custom `adanet.ensemble.Strategy` instead.\n"
     ]
    },
    {
     "name": "stderr",
     "output_type": "stream",
     "text": [
      "W0523 00:58:16.630585 139898093799232 tf_logging.py:161] Using an `adanet.subnetwork.Builder#prune_previous_ensemble` is deprecated. Please use a custom `adanet.ensemble.Strategy` instead.\n"
     ]
    },
    {
     "name": "stdout",
     "output_type": "stream",
     "text": [
      "INFO:tensorflow:*** _build_weighted_subnetwork_helper() : MixtureWeightType= vector\n"
     ]
    },
    {
     "name": "stderr",
     "output_type": "stream",
     "text": [
      "I0523 00:58:16.636166 139898093799232 weighted.py:391] *** _build_weighted_subnetwork_helper() : MixtureWeightType= vector\n"
     ]
    },
    {
     "name": "stdout",
     "output_type": "stream",
     "text": [
      "INFO:tensorflow:*** _build_weighted_subnetwork_helper() : MixtureWeightType= vector\n"
     ]
    },
    {
     "name": "stderr",
     "output_type": "stream",
     "text": [
      "I0523 00:58:16.646060 139898093799232 weighted.py:391] *** _build_weighted_subnetwork_helper() : MixtureWeightType= vector\n"
     ]
    },
    {
     "name": "stdout",
     "output_type": "stream",
     "text": [
      "INFO:tensorflow:*** _build_weighted_subnetwork_helper() : MixtureWeightType= vector\n"
     ]
    },
    {
     "name": "stderr",
     "output_type": "stream",
     "text": [
      "I0523 00:58:16.656295 139898093799232 weighted.py:391] *** _build_weighted_subnetwork_helper() : MixtureWeightType= vector\n"
     ]
    },
    {
     "name": "stdout",
     "output_type": "stream",
     "text": [
      "INFO:tensorflow:*** _build_weighted_subnetwork_helper() : MixtureWeightType= vector\n"
     ]
    },
    {
     "name": "stderr",
     "output_type": "stream",
     "text": [
      "I0523 00:58:16.665801 139898093799232 weighted.py:391] *** _build_weighted_subnetwork_helper() : MixtureWeightType= vector\n"
     ]
    },
    {
     "name": "stdout",
     "output_type": "stream",
     "text": [
      "INFO:tensorflow:*** _build_weighted_subnetwork_helper() : MixtureWeightType= vector\n"
     ]
    },
    {
     "name": "stderr",
     "output_type": "stream",
     "text": [
      "I0523 00:58:16.674929 139898093799232 weighted.py:391] *** _build_weighted_subnetwork_helper() : MixtureWeightType= vector\n"
     ]
    },
    {
     "name": "stdout",
     "output_type": "stream",
     "text": [
      "INFO:tensorflow:*** _build_weighted_subnetwork_helper() : MixtureWeightType= vector\n"
     ]
    },
    {
     "name": "stderr",
     "output_type": "stream",
     "text": [
      "I0523 00:58:16.682806 139898093799232 weighted.py:391] *** _build_weighted_subnetwork_helper() : MixtureWeightType= vector\n"
     ]
    },
    {
     "name": "stdout",
     "output_type": "stream",
     "text": [
      "WARNING:tensorflow:The `build_mixture_weights_train_op` method is deprecated. Please use the `Ensembler#build_train_op` instead.\n"
     ]
    },
    {
     "name": "stderr",
     "output_type": "stream",
     "text": [
      "W0523 00:58:16.779994 139898093799232 tf_logging.py:161] The `build_mixture_weights_train_op` method is deprecated. Please use the `Ensembler#build_train_op` instead.\n"
     ]
    },
    {
     "name": "stdout",
     "output_type": "stream",
     "text": [
      "WARNING:tensorflow:Using an `adanet.subnetwork.Builder#prune_previous_ensemble` is deprecated. Please use a custom `adanet.ensemble.Strategy` instead.\n"
     ]
    },
    {
     "name": "stderr",
     "output_type": "stream",
     "text": [
      "W0523 00:58:17.011945 139898093799232 tf_logging.py:161] Using an `adanet.subnetwork.Builder#prune_previous_ensemble` is deprecated. Please use a custom `adanet.ensemble.Strategy` instead.\n"
     ]
    },
    {
     "name": "stdout",
     "output_type": "stream",
     "text": [
      "INFO:tensorflow:*** _build_weighted_subnetwork_helper() : MixtureWeightType= vector\n"
     ]
    },
    {
     "name": "stderr",
     "output_type": "stream",
     "text": [
      "I0523 00:58:17.016951 139898093799232 weighted.py:391] *** _build_weighted_subnetwork_helper() : MixtureWeightType= vector\n"
     ]
    },
    {
     "name": "stdout",
     "output_type": "stream",
     "text": [
      "INFO:tensorflow:*** _build_weighted_subnetwork_helper() : MixtureWeightType= vector\n"
     ]
    },
    {
     "name": "stderr",
     "output_type": "stream",
     "text": [
      "I0523 00:58:17.025178 139898093799232 weighted.py:391] *** _build_weighted_subnetwork_helper() : MixtureWeightType= vector\n"
     ]
    },
    {
     "name": "stdout",
     "output_type": "stream",
     "text": [
      "INFO:tensorflow:*** _build_weighted_subnetwork_helper() : MixtureWeightType= vector\n"
     ]
    },
    {
     "name": "stderr",
     "output_type": "stream",
     "text": [
      "I0523 00:58:17.033379 139898093799232 weighted.py:391] *** _build_weighted_subnetwork_helper() : MixtureWeightType= vector\n"
     ]
    },
    {
     "name": "stdout",
     "output_type": "stream",
     "text": [
      "INFO:tensorflow:*** _build_weighted_subnetwork_helper() : MixtureWeightType= vector\n"
     ]
    },
    {
     "name": "stderr",
     "output_type": "stream",
     "text": [
      "I0523 00:58:17.041210 139898093799232 weighted.py:391] *** _build_weighted_subnetwork_helper() : MixtureWeightType= vector\n"
     ]
    },
    {
     "name": "stdout",
     "output_type": "stream",
     "text": [
      "INFO:tensorflow:*** _build_weighted_subnetwork_helper() : MixtureWeightType= vector\n"
     ]
    },
    {
     "name": "stderr",
     "output_type": "stream",
     "text": [
      "I0523 00:58:17.049845 139898093799232 weighted.py:391] *** _build_weighted_subnetwork_helper() : MixtureWeightType= vector\n"
     ]
    },
    {
     "name": "stdout",
     "output_type": "stream",
     "text": [
      "INFO:tensorflow:*** _build_weighted_subnetwork_helper() : MixtureWeightType= vector\n"
     ]
    },
    {
     "name": "stderr",
     "output_type": "stream",
     "text": [
      "I0523 00:58:17.057450 139898093799232 weighted.py:391] *** _build_weighted_subnetwork_helper() : MixtureWeightType= vector\n"
     ]
    },
    {
     "name": "stdout",
     "output_type": "stream",
     "text": [
      "WARNING:tensorflow:The `build_mixture_weights_train_op` method is deprecated. Please use the `Ensembler#build_train_op` instead.\n"
     ]
    },
    {
     "name": "stderr",
     "output_type": "stream",
     "text": [
      "W0523 00:58:17.152592 139898093799232 tf_logging.py:161] The `build_mixture_weights_train_op` method is deprecated. Please use the `Ensembler#build_train_op` instead.\n"
     ]
    },
    {
     "name": "stdout",
     "output_type": "stream",
     "text": [
      "INFO:tensorflow:Done calling model_fn.\n"
     ]
    },
    {
     "name": "stderr",
     "output_type": "stream",
     "text": [
      "I0523 00:58:17.416694 139898093799232 estimator.py:1113] Done calling model_fn.\n"
     ]
    },
    {
     "name": "stdout",
     "output_type": "stream",
     "text": [
      "INFO:tensorflow:Create CheckpointSaverHook.\n"
     ]
    },
    {
     "name": "stderr",
     "output_type": "stream",
     "text": [
      "I0523 00:58:17.417665 139898093799232 basic_session_run_hooks.py:527] Create CheckpointSaverHook.\n"
     ]
    },
    {
     "name": "stdout",
     "output_type": "stream",
     "text": [
      "INFO:tensorflow:Graph was finalized.\n"
     ]
    },
    {
     "name": "stderr",
     "output_type": "stream",
     "text": [
      "I0523 00:58:28.888995 139898093799232 monitored_session.py:222] Graph was finalized.\n"
     ]
    },
    {
     "name": "stdout",
     "output_type": "stream",
     "text": [
      "INFO:tensorflow:Running local_init_op.\n"
     ]
    },
    {
     "name": "stderr",
     "output_type": "stream",
     "text": [
      "I0523 00:58:30.884423 139898093799232 session_manager.py:491] Running local_init_op.\n"
     ]
    },
    {
     "name": "stdout",
     "output_type": "stream",
     "text": [
      "INFO:tensorflow:Done running local_init_op.\n"
     ]
    },
    {
     "name": "stderr",
     "output_type": "stream",
     "text": [
      "I0523 00:58:31.242242 139898093799232 session_manager.py:493] Done running local_init_op.\n"
     ]
    },
    {
     "name": "stdout",
     "output_type": "stream",
     "text": [
      "INFO:tensorflow:Saving checkpoints for 0 into ./tmp/adanet/SGRU/temp_model_dir/model.ckpt.\n"
     ]
    },
    {
     "name": "stderr",
     "output_type": "stream",
     "text": [
      "I0523 00:58:44.162255 139898093799232 basic_session_run_hooks.py:594] Saving checkpoints for 0 into ./tmp/adanet/SGRU/temp_model_dir/model.ckpt.\n"
     ]
    },
    {
     "name": "stdout",
     "output_type": "stream",
     "text": [
      "INFO:tensorflow:Restoring parameters from ./tmp/adanet/SGRU/model.ckpt-35\n"
     ]
    },
    {
     "name": "stderr",
     "output_type": "stream",
     "text": [
      "I0523 00:58:46.385048 139898093799232 saver.py:1270] Restoring parameters from ./tmp/adanet/SGRU/model.ckpt-35\n"
     ]
    },
    {
     "name": "stdout",
     "output_type": "stream",
     "text": [
      "INFO:tensorflow:loss = 2.1494615, step = 36\n"
     ]
    },
    {
     "name": "stderr",
     "output_type": "stream",
     "text": [
      "I0523 00:58:52.682823 139898093799232 basic_session_run_hooks.py:249] loss = 2.1494615, step = 36\n"
     ]
    },
    {
     "name": "stdout",
     "output_type": "stream",
     "text": [
      "INFO:tensorflow:Saving checkpoints for 36 into ./tmp/adanet/SGRU/temp_model_dir/model.ckpt.\n"
     ]
    },
    {
     "name": "stderr",
     "output_type": "stream",
     "text": [
      "I0523 00:58:52.684098 139898093799232 basic_session_run_hooks.py:594] Saving checkpoints for 36 into ./tmp/adanet/SGRU/temp_model_dir/model.ckpt.\n"
     ]
    },
    {
     "name": "stdout",
     "output_type": "stream",
     "text": [
      "INFO:tensorflow:Loss for final step: 2.1494615.\n"
     ]
    },
    {
     "name": "stderr",
     "output_type": "stream",
     "text": [
      "I0523 00:58:54.345185 139898093799232 estimator.py:359] Loss for final step: 2.1494615.\n"
     ]
    },
    {
     "name": "stdout",
     "output_type": "stream",
     "text": [
      "\n",
      "*** input_fn() : feature_shape= (28, 28) / label_shape= [1]\n",
      "\n",
      "*** preprocess_image() : image shape= (28, 28)\n",
      "\n",
      "*** preprocess_image() : features= {'images': <tf.Tensor 'arg0:0' shape=(28, 28) dtype=float32>} / label shape= ()\n",
      "\n",
      "***_input_fn() : Label shape =[1]\n",
      "INFO:tensorflow:Calling model_fn.\n"
     ]
    },
    {
     "name": "stderr",
     "output_type": "stream",
     "text": [
      "I0523 00:58:54.586315 139898093799232 estimator.py:1111] Calling model_fn.\n"
     ]
    },
    {
     "name": "stdout",
     "output_type": "stream",
     "text": [
      "\n",
      "*** NNAdaNetBuilder : NN Type=RNN\n",
      "\n",
      "*** get_tf_head() : feature shape= (28, 28)\n",
      "\n",
      "*** get_tf_head() : feature columns= [NumericColumn(key='images', shape=(28, 28), default_value=None, dtype=tf.float32, normalizer_fn=None)]\n",
      "\n",
      "*** NNAdaNetBuilder : NN Type=RNN\n",
      "\n",
      "*** get_tf_head() : feature shape= (28, 28)\n",
      "\n",
      "*** get_tf_head() : feature columns= [NumericColumn(key='images', shape=(28, 28), default_value=None, dtype=tf.float32, normalizer_fn=None)]\n",
      "INFO:tensorflow:Rebuilding iteration 0\n"
     ]
    },
    {
     "name": "stderr",
     "output_type": "stream",
     "text": [
      "I0523 00:58:54.590385 139898093799232 iteration.py:250] Rebuilding iteration 0\n"
     ]
    },
    {
     "name": "stdout",
     "output_type": "stream",
     "text": [
      "INFO:tensorflow:Rebuilding subnetwork 'RNN_SGRU_layer_2'\n"
     ]
    },
    {
     "name": "stderr",
     "output_type": "stream",
     "text": [
      "I0523 00:58:54.595098 139898093799232 iteration.py:337] Rebuilding subnetwork 'RNN_SGRU_layer_2'\n"
     ]
    },
    {
     "name": "stdout",
     "output_type": "stream",
     "text": [
      "\n",
      "\n",
      "*** build_subnetwork() : features= {'images': <tf.Tensor 'IteratorGetNext:0' shape=(?, 28, 28) dtype=float32>}\n",
      "\n",
      "\n",
      "*** build_subnetwork() : self._feature_columns= [NumericColumn(key='images', shape=(28, 28), default_value=None, dtype=tf.float32, normalizer_fn=None)]\n",
      "\n",
      "\n",
      "*** build_subnetwork() : NN type= RNN / Input layer shape= (?, 784)\n",
      "\n",
      "*** _build_rnn_subnetwork() : output[-1]= Tensor(\"adanet/iteration_0/subnetwork_t0_RNN_SGRU_layer_2/rnn/rnn/multi_rnn_cell/cell_1/gru_cell/add_27:0\", shape=(?, 128), dtype=float32) / Weight= <tf.Variable 'adanet/iteration_0/subnetwork_t0_RNN_SGRU_layer_2/W:0' shape=(128, 10) dtype=float32_ref>\n",
      "\n",
      "***build_subnetwork() / RNN : logits shape= (?, 10)\n",
      "\n",
      "*** build_subnetwork() : last_layer= Tensor(\"adanet/iteration_0/subnetwork_t0_RNN_SGRU_layer_2/dense/BiasAdd:0\", shape=(?, 128), dtype=float32)\n",
      "INFO:tensorflow:*** _build_weighted_subnetwork_helper() : MixtureWeightType= vector\n"
     ]
    },
    {
     "name": "stderr",
     "output_type": "stream",
     "text": [
      "I0523 00:58:55.134727 139898093799232 weighted.py:391] *** _build_weighted_subnetwork_helper() : MixtureWeightType= vector\n"
     ]
    },
    {
     "name": "stdout",
     "output_type": "stream",
     "text": [
      "\n",
      "*** NNAdaNetBuilder : NN Type=RNN\n",
      "\n",
      "*** get_tf_head() : feature shape= (28, 28)\n",
      "\n",
      "*** get_tf_head() : feature columns= [NumericColumn(key='images', shape=(28, 28), default_value=None, dtype=tf.float32, normalizer_fn=None)]\n",
      "\n",
      "*** NNAdaNetBuilder : NN Type=RNN\n",
      "\n",
      "*** get_tf_head() : feature shape= (28, 28)\n",
      "\n",
      "*** get_tf_head() : feature columns= [NumericColumn(key='images', shape=(28, 28), default_value=None, dtype=tf.float32, normalizer_fn=None)]\n",
      "INFO:tensorflow:Rebuilding iteration 1\n"
     ]
    },
    {
     "name": "stderr",
     "output_type": "stream",
     "text": [
      "I0523 00:58:55.238501 139898093799232 iteration.py:250] Rebuilding iteration 1\n"
     ]
    },
    {
     "name": "stdout",
     "output_type": "stream",
     "text": [
      "INFO:tensorflow:Rebuilding subnetwork 'RNN_SGRU_layer_3'\n"
     ]
    },
    {
     "name": "stderr",
     "output_type": "stream",
     "text": [
      "I0523 00:58:55.258260 139898093799232 iteration.py:337] Rebuilding subnetwork 'RNN_SGRU_layer_3'\n"
     ]
    },
    {
     "name": "stdout",
     "output_type": "stream",
     "text": [
      "\n",
      "\n",
      "*** build_subnetwork() : features= {'images': <tf.Tensor 'IteratorGetNext:0' shape=(?, 28, 28) dtype=float32>}\n",
      "\n",
      "\n",
      "*** build_subnetwork() : self._feature_columns= [NumericColumn(key='images', shape=(28, 28), default_value=None, dtype=tf.float32, normalizer_fn=None)]\n",
      "\n",
      "\n",
      "*** build_subnetwork() : NN type= RNN / Input layer shape= (?, 784)\n",
      "\n",
      "*** _build_rnn_subnetwork() : output[-1]= Tensor(\"adanet/iteration_1/subnetwork_t1_RNN_SGRU_layer_3/rnn/rnn/multi_rnn_cell/cell_2/gru_cell/add_27:0\", shape=(?, 128), dtype=float32) / Weight= <tf.Variable 'adanet/iteration_1/subnetwork_t1_RNN_SGRU_layer_3/W:0' shape=(128, 10) dtype=float32_ref>\n",
      "\n",
      "***build_subnetwork() / RNN : logits shape= (?, 10)\n",
      "\n",
      "*** build_subnetwork() : last_layer= Tensor(\"adanet/iteration_1/subnetwork_t1_RNN_SGRU_layer_3/dense/BiasAdd:0\", shape=(?, 128), dtype=float32)\n",
      "WARNING:tensorflow:Using an `adanet.subnetwork.Builder#prune_previous_ensemble` is deprecated. Please use a custom `adanet.ensemble.Strategy` instead.\n"
     ]
    },
    {
     "name": "stderr",
     "output_type": "stream",
     "text": [
      "W0523 00:58:56.015594 139898093799232 tf_logging.py:161] Using an `adanet.subnetwork.Builder#prune_previous_ensemble` is deprecated. Please use a custom `adanet.ensemble.Strategy` instead.\n"
     ]
    },
    {
     "name": "stdout",
     "output_type": "stream",
     "text": [
      "INFO:tensorflow:*** _build_weighted_subnetwork_helper() : MixtureWeightType= vector\n"
     ]
    },
    {
     "name": "stderr",
     "output_type": "stream",
     "text": [
      "I0523 00:58:56.020161 139898093799232 weighted.py:391] *** _build_weighted_subnetwork_helper() : MixtureWeightType= vector\n"
     ]
    },
    {
     "name": "stdout",
     "output_type": "stream",
     "text": [
      "INFO:tensorflow:*** _build_weighted_subnetwork_helper() : MixtureWeightType= vector\n"
     ]
    },
    {
     "name": "stderr",
     "output_type": "stream",
     "text": [
      "I0523 00:58:56.027026 139898093799232 weighted.py:391] *** _build_weighted_subnetwork_helper() : MixtureWeightType= vector\n"
     ]
    },
    {
     "name": "stdout",
     "output_type": "stream",
     "text": [
      "\n",
      "*** NNAdaNetBuilder : NN Type=RNN\n",
      "\n",
      "*** get_tf_head() : feature shape= (28, 28)\n",
      "\n",
      "*** get_tf_head() : feature columns= [NumericColumn(key='images', shape=(28, 28), default_value=None, dtype=tf.float32, normalizer_fn=None)]\n",
      "\n",
      "*** NNAdaNetBuilder : NN Type=RNN\n",
      "\n",
      "*** get_tf_head() : feature shape= (28, 28)\n",
      "\n",
      "*** get_tf_head() : feature columns= [NumericColumn(key='images', shape=(28, 28), default_value=None, dtype=tf.float32, normalizer_fn=None)]\n",
      "INFO:tensorflow:Rebuilding iteration 2\n"
     ]
    },
    {
     "name": "stderr",
     "output_type": "stream",
     "text": [
      "I0523 00:58:56.157325 139898093799232 iteration.py:250] Rebuilding iteration 2\n"
     ]
    },
    {
     "name": "stdout",
     "output_type": "stream",
     "text": [
      "INFO:tensorflow:Rebuilding subnetwork 'RNN_SGRU_layer_4'\n"
     ]
    },
    {
     "name": "stderr",
     "output_type": "stream",
     "text": [
      "I0523 00:58:56.177405 139898093799232 iteration.py:337] Rebuilding subnetwork 'RNN_SGRU_layer_4'\n"
     ]
    },
    {
     "name": "stdout",
     "output_type": "stream",
     "text": [
      "\n",
      "\n",
      "*** build_subnetwork() : features= {'images': <tf.Tensor 'IteratorGetNext:0' shape=(?, 28, 28) dtype=float32>}\n",
      "\n",
      "\n",
      "*** build_subnetwork() : self._feature_columns= [NumericColumn(key='images', shape=(28, 28), default_value=None, dtype=tf.float32, normalizer_fn=None)]\n",
      "\n",
      "\n",
      "*** build_subnetwork() : NN type= RNN / Input layer shape= (?, 784)\n",
      "\n",
      "*** _build_rnn_subnetwork() : output[-1]= Tensor(\"adanet/iteration_2/subnetwork_t2_RNN_SGRU_layer_4/rnn/rnn/multi_rnn_cell/cell_3/gru_cell/add_27:0\", shape=(?, 128), dtype=float32) / Weight= <tf.Variable 'adanet/iteration_2/subnetwork_t2_RNN_SGRU_layer_4/W:0' shape=(128, 10) dtype=float32_ref>\n",
      "\n",
      "***build_subnetwork() / RNN : logits shape= (?, 10)\n",
      "\n",
      "*** build_subnetwork() : last_layer= Tensor(\"adanet/iteration_2/subnetwork_t2_RNN_SGRU_layer_4/dense/BiasAdd:0\", shape=(?, 128), dtype=float32)\n",
      "WARNING:tensorflow:Using an `adanet.subnetwork.Builder#prune_previous_ensemble` is deprecated. Please use a custom `adanet.ensemble.Strategy` instead.\n"
     ]
    },
    {
     "name": "stderr",
     "output_type": "stream",
     "text": [
      "W0523 00:58:57.174039 139898093799232 tf_logging.py:161] Using an `adanet.subnetwork.Builder#prune_previous_ensemble` is deprecated. Please use a custom `adanet.ensemble.Strategy` instead.\n"
     ]
    },
    {
     "name": "stdout",
     "output_type": "stream",
     "text": [
      "INFO:tensorflow:*** _build_weighted_subnetwork_helper() : MixtureWeightType= vector\n"
     ]
    },
    {
     "name": "stderr",
     "output_type": "stream",
     "text": [
      "I0523 00:58:57.178145 139898093799232 weighted.py:391] *** _build_weighted_subnetwork_helper() : MixtureWeightType= vector\n"
     ]
    },
    {
     "name": "stdout",
     "output_type": "stream",
     "text": [
      "INFO:tensorflow:*** _build_weighted_subnetwork_helper() : MixtureWeightType= vector\n"
     ]
    },
    {
     "name": "stderr",
     "output_type": "stream",
     "text": [
      "I0523 00:58:57.184338 139898093799232 weighted.py:391] *** _build_weighted_subnetwork_helper() : MixtureWeightType= vector\n"
     ]
    },
    {
     "name": "stdout",
     "output_type": "stream",
     "text": [
      "INFO:tensorflow:*** _build_weighted_subnetwork_helper() : MixtureWeightType= vector\n"
     ]
    },
    {
     "name": "stderr",
     "output_type": "stream",
     "text": [
      "I0523 00:58:57.190821 139898093799232 weighted.py:391] *** _build_weighted_subnetwork_helper() : MixtureWeightType= vector\n"
     ]
    },
    {
     "name": "stdout",
     "output_type": "stream",
     "text": [
      "\n",
      "*** NNAdaNetBuilder : NN Type=RNN\n",
      "\n",
      "*** get_tf_head() : feature shape= (28, 28)\n",
      "\n",
      "*** get_tf_head() : feature columns= [NumericColumn(key='images', shape=(28, 28), default_value=None, dtype=tf.float32, normalizer_fn=None)]\n",
      "\n",
      "*** NNAdaNetBuilder : NN Type=RNN\n",
      "\n",
      "*** get_tf_head() : feature shape= (28, 28)\n",
      "\n",
      "*** get_tf_head() : feature columns= [NumericColumn(key='images', shape=(28, 28), default_value=None, dtype=tf.float32, normalizer_fn=None)]\n",
      "INFO:tensorflow:Rebuilding iteration 3\n"
     ]
    },
    {
     "name": "stderr",
     "output_type": "stream",
     "text": [
      "I0523 00:58:57.330804 139898093799232 iteration.py:250] Rebuilding iteration 3\n"
     ]
    },
    {
     "name": "stdout",
     "output_type": "stream",
     "text": [
      "INFO:tensorflow:Rebuilding subnetwork 'RNN_SGRU_layer_4'\n"
     ]
    },
    {
     "name": "stderr",
     "output_type": "stream",
     "text": [
      "I0523 00:58:57.351023 139898093799232 iteration.py:337] Rebuilding subnetwork 'RNN_SGRU_layer_4'\n"
     ]
    },
    {
     "name": "stdout",
     "output_type": "stream",
     "text": [
      "\n",
      "\n",
      "*** build_subnetwork() : features= {'images': <tf.Tensor 'IteratorGetNext:0' shape=(?, 28, 28) dtype=float32>}\n",
      "\n",
      "\n",
      "*** build_subnetwork() : self._feature_columns= [NumericColumn(key='images', shape=(28, 28), default_value=None, dtype=tf.float32, normalizer_fn=None)]\n",
      "\n",
      "\n",
      "*** build_subnetwork() : NN type= RNN / Input layer shape= (?, 784)\n",
      "\n",
      "*** _build_rnn_subnetwork() : output[-1]= Tensor(\"adanet/iteration_3/subnetwork_t3_RNN_SGRU_layer_4/rnn/rnn/multi_rnn_cell/cell_3/gru_cell/add_27:0\", shape=(?, 128), dtype=float32) / Weight= <tf.Variable 'adanet/iteration_3/subnetwork_t3_RNN_SGRU_layer_4/W:0' shape=(128, 10) dtype=float32_ref>\n",
      "\n",
      "***build_subnetwork() / RNN : logits shape= (?, 10)\n",
      "\n",
      "*** build_subnetwork() : last_layer= Tensor(\"adanet/iteration_3/subnetwork_t3_RNN_SGRU_layer_4/dense/BiasAdd:0\", shape=(?, 128), dtype=float32)\n",
      "WARNING:tensorflow:Using an `adanet.subnetwork.Builder#prune_previous_ensemble` is deprecated. Please use a custom `adanet.ensemble.Strategy` instead.\n"
     ]
    },
    {
     "name": "stderr",
     "output_type": "stream",
     "text": [
      "W0523 00:58:58.372505 139898093799232 tf_logging.py:161] Using an `adanet.subnetwork.Builder#prune_previous_ensemble` is deprecated. Please use a custom `adanet.ensemble.Strategy` instead.\n"
     ]
    },
    {
     "name": "stdout",
     "output_type": "stream",
     "text": [
      "INFO:tensorflow:*** _build_weighted_subnetwork_helper() : MixtureWeightType= vector\n"
     ]
    },
    {
     "name": "stderr",
     "output_type": "stream",
     "text": [
      "I0523 00:58:58.376548 139898093799232 weighted.py:391] *** _build_weighted_subnetwork_helper() : MixtureWeightType= vector\n"
     ]
    },
    {
     "name": "stdout",
     "output_type": "stream",
     "text": [
      "INFO:tensorflow:*** _build_weighted_subnetwork_helper() : MixtureWeightType= vector\n"
     ]
    },
    {
     "name": "stderr",
     "output_type": "stream",
     "text": [
      "I0523 00:58:58.382875 139898093799232 weighted.py:391] *** _build_weighted_subnetwork_helper() : MixtureWeightType= vector\n"
     ]
    },
    {
     "name": "stdout",
     "output_type": "stream",
     "text": [
      "INFO:tensorflow:*** _build_weighted_subnetwork_helper() : MixtureWeightType= vector\n"
     ]
    },
    {
     "name": "stderr",
     "output_type": "stream",
     "text": [
      "I0523 00:58:58.389117 139898093799232 weighted.py:391] *** _build_weighted_subnetwork_helper() : MixtureWeightType= vector\n"
     ]
    },
    {
     "name": "stdout",
     "output_type": "stream",
     "text": [
      "INFO:tensorflow:*** _build_weighted_subnetwork_helper() : MixtureWeightType= vector\n"
     ]
    },
    {
     "name": "stderr",
     "output_type": "stream",
     "text": [
      "I0523 00:58:58.395601 139898093799232 weighted.py:391] *** _build_weighted_subnetwork_helper() : MixtureWeightType= vector\n"
     ]
    },
    {
     "name": "stdout",
     "output_type": "stream",
     "text": [
      "\n",
      "*** NNAdaNetBuilder : NN Type=RNN\n",
      "\n",
      "*** get_tf_head() : feature shape= (28, 28)\n",
      "\n",
      "*** get_tf_head() : feature columns= [NumericColumn(key='images', shape=(28, 28), default_value=None, dtype=tf.float32, normalizer_fn=None)]\n",
      "\n",
      "*** NNAdaNetBuilder : NN Type=RNN\n",
      "\n",
      "*** get_tf_head() : feature shape= (28, 28)\n",
      "\n",
      "*** get_tf_head() : feature columns= [NumericColumn(key='images', shape=(28, 28), default_value=None, dtype=tf.float32, normalizer_fn=None)]\n",
      "INFO:tensorflow:Rebuilding iteration 4\n"
     ]
    },
    {
     "name": "stderr",
     "output_type": "stream",
     "text": [
      "I0523 00:58:58.541502 139898093799232 iteration.py:250] Rebuilding iteration 4\n"
     ]
    },
    {
     "name": "stdout",
     "output_type": "stream",
     "text": [
      "INFO:tensorflow:Rebuilding subnetwork 'RNN_SGRU_layer_4'\n"
     ]
    },
    {
     "name": "stderr",
     "output_type": "stream",
     "text": [
      "I0523 00:58:58.562210 139898093799232 iteration.py:337] Rebuilding subnetwork 'RNN_SGRU_layer_4'\n"
     ]
    },
    {
     "name": "stdout",
     "output_type": "stream",
     "text": [
      "\n",
      "\n",
      "*** build_subnetwork() : features= {'images': <tf.Tensor 'IteratorGetNext:0' shape=(?, 28, 28) dtype=float32>}\n",
      "\n",
      "\n",
      "*** build_subnetwork() : self._feature_columns= [NumericColumn(key='images', shape=(28, 28), default_value=None, dtype=tf.float32, normalizer_fn=None)]\n",
      "\n",
      "\n",
      "*** build_subnetwork() : NN type= RNN / Input layer shape= (?, 784)\n",
      "\n",
      "*** _build_rnn_subnetwork() : output[-1]= Tensor(\"adanet/iteration_4/subnetwork_t4_RNN_SGRU_layer_4/rnn/rnn/multi_rnn_cell/cell_3/gru_cell/add_27:0\", shape=(?, 128), dtype=float32) / Weight= <tf.Variable 'adanet/iteration_4/subnetwork_t4_RNN_SGRU_layer_4/W:0' shape=(128, 10) dtype=float32_ref>\n",
      "\n",
      "***build_subnetwork() / RNN : logits shape= (?, 10)\n",
      "\n",
      "*** build_subnetwork() : last_layer= Tensor(\"adanet/iteration_4/subnetwork_t4_RNN_SGRU_layer_4/dense/BiasAdd:0\", shape=(?, 128), dtype=float32)\n",
      "WARNING:tensorflow:Using an `adanet.subnetwork.Builder#prune_previous_ensemble` is deprecated. Please use a custom `adanet.ensemble.Strategy` instead.\n"
     ]
    },
    {
     "name": "stderr",
     "output_type": "stream",
     "text": [
      "W0523 00:58:59.584899 139898093799232 tf_logging.py:161] Using an `adanet.subnetwork.Builder#prune_previous_ensemble` is deprecated. Please use a custom `adanet.ensemble.Strategy` instead.\n"
     ]
    },
    {
     "name": "stdout",
     "output_type": "stream",
     "text": [
      "INFO:tensorflow:*** _build_weighted_subnetwork_helper() : MixtureWeightType= vector\n"
     ]
    },
    {
     "name": "stderr",
     "output_type": "stream",
     "text": [
      "I0523 00:58:59.588880 139898093799232 weighted.py:391] *** _build_weighted_subnetwork_helper() : MixtureWeightType= vector\n"
     ]
    },
    {
     "name": "stdout",
     "output_type": "stream",
     "text": [
      "INFO:tensorflow:*** _build_weighted_subnetwork_helper() : MixtureWeightType= vector\n"
     ]
    },
    {
     "name": "stderr",
     "output_type": "stream",
     "text": [
      "I0523 00:58:59.595723 139898093799232 weighted.py:391] *** _build_weighted_subnetwork_helper() : MixtureWeightType= vector\n"
     ]
    },
    {
     "name": "stdout",
     "output_type": "stream",
     "text": [
      "INFO:tensorflow:*** _build_weighted_subnetwork_helper() : MixtureWeightType= vector\n"
     ]
    },
    {
     "name": "stderr",
     "output_type": "stream",
     "text": [
      "I0523 00:58:59.602145 139898093799232 weighted.py:391] *** _build_weighted_subnetwork_helper() : MixtureWeightType= vector\n"
     ]
    },
    {
     "name": "stdout",
     "output_type": "stream",
     "text": [
      "INFO:tensorflow:*** _build_weighted_subnetwork_helper() : MixtureWeightType= vector\n"
     ]
    },
    {
     "name": "stderr",
     "output_type": "stream",
     "text": [
      "I0523 00:58:59.608598 139898093799232 weighted.py:391] *** _build_weighted_subnetwork_helper() : MixtureWeightType= vector\n"
     ]
    },
    {
     "name": "stdout",
     "output_type": "stream",
     "text": [
      "INFO:tensorflow:*** _build_weighted_subnetwork_helper() : MixtureWeightType= vector\n"
     ]
    },
    {
     "name": "stderr",
     "output_type": "stream",
     "text": [
      "I0523 00:58:59.615002 139898093799232 weighted.py:391] *** _build_weighted_subnetwork_helper() : MixtureWeightType= vector\n"
     ]
    },
    {
     "name": "stdout",
     "output_type": "stream",
     "text": [
      "\n",
      "*** NNAdaNetBuilder : NN Type=RNN\n",
      "\n",
      "*** get_tf_head() : feature shape= (28, 28)\n",
      "\n",
      "*** get_tf_head() : feature columns= [NumericColumn(key='images', shape=(28, 28), default_value=None, dtype=tf.float32, normalizer_fn=None)]\n",
      "\n",
      "*** NNAdaNetBuilder : NN Type=RNN\n",
      "\n",
      "*** get_tf_head() : feature shape= (28, 28)\n",
      "\n",
      "*** get_tf_head() : feature columns= [NumericColumn(key='images', shape=(28, 28), default_value=None, dtype=tf.float32, normalizer_fn=None)]\n",
      "INFO:tensorflow:Building iteration 5\n"
     ]
    },
    {
     "name": "stderr",
     "output_type": "stream",
     "text": [
      "I0523 00:58:59.762378 139898093799232 iteration.py:250] Building iteration 5\n"
     ]
    },
    {
     "name": "stdout",
     "output_type": "stream",
     "text": [
      "INFO:tensorflow:Building subnetwork 'RNN_SGRU_layer_4'\n"
     ]
    },
    {
     "name": "stderr",
     "output_type": "stream",
     "text": [
      "I0523 00:58:59.783020 139898093799232 iteration.py:337] Building subnetwork 'RNN_SGRU_layer_4'\n"
     ]
    },
    {
     "name": "stdout",
     "output_type": "stream",
     "text": [
      "\n",
      "\n",
      "*** build_subnetwork() : features= {'images': <tf.Tensor 'IteratorGetNext:0' shape=(?, 28, 28) dtype=float32>}\n",
      "\n",
      "\n",
      "*** build_subnetwork() : self._feature_columns= [NumericColumn(key='images', shape=(28, 28), default_value=None, dtype=tf.float32, normalizer_fn=None)]\n",
      "\n",
      "\n",
      "*** build_subnetwork() : NN type= RNN / Input layer shape= (?, 784)\n",
      "\n",
      "*** _build_rnn_subnetwork() : output[-1]= Tensor(\"adanet/iteration_5/subnetwork_t5_RNN_SGRU_layer_4/rnn/rnn/multi_rnn_cell/cell_3/gru_cell/add_27:0\", shape=(?, 128), dtype=float32) / Weight= <tf.Variable 'adanet/iteration_5/subnetwork_t5_RNN_SGRU_layer_4/W:0' shape=(128, 10) dtype=float32_ref>\n",
      "\n",
      "***build_subnetwork() / RNN : logits shape= (?, 10)\n",
      "\n",
      "*** build_subnetwork() : last_layer= Tensor(\"adanet/iteration_5/subnetwork_t5_RNN_SGRU_layer_4/dense/BiasAdd:0\", shape=(?, 128), dtype=float32)\n",
      "INFO:tensorflow:Building subnetwork 'RNN_SGRU_layer_5'\n"
     ]
    },
    {
     "name": "stderr",
     "output_type": "stream",
     "text": [
      "I0523 00:59:06.023962 139898093799232 iteration.py:337] Building subnetwork 'RNN_SGRU_layer_5'\n"
     ]
    },
    {
     "name": "stdout",
     "output_type": "stream",
     "text": [
      "\n",
      "\n",
      "*** build_subnetwork() : features= {'images': <tf.Tensor 'IteratorGetNext:0' shape=(?, 28, 28) dtype=float32>}\n",
      "\n",
      "\n",
      "*** build_subnetwork() : self._feature_columns= [NumericColumn(key='images', shape=(28, 28), default_value=None, dtype=tf.float32, normalizer_fn=None)]\n",
      "\n",
      "\n",
      "*** build_subnetwork() : NN type= RNN / Input layer shape= (?, 784)\n",
      "\n",
      "*** _build_rnn_subnetwork() : output[-1]= Tensor(\"adanet/iteration_5/subnetwork_t5_RNN_SGRU_layer_5/rnn/rnn/multi_rnn_cell/cell_4/gru_cell/add_27:0\", shape=(?, 128), dtype=float32) / Weight= <tf.Variable 'adanet/iteration_5/subnetwork_t5_RNN_SGRU_layer_5/W:0' shape=(128, 10) dtype=float32_ref>\n",
      "\n",
      "***build_subnetwork() / RNN : logits shape= (?, 10)\n",
      "\n",
      "*** build_subnetwork() : last_layer= Tensor(\"adanet/iteration_5/subnetwork_t5_RNN_SGRU_layer_5/dense/BiasAdd:0\", shape=(?, 128), dtype=float32)\n",
      "WARNING:tensorflow:Using an `adanet.subnetwork.Builder#prune_previous_ensemble` is deprecated. Please use a custom `adanet.ensemble.Strategy` instead.\n"
     ]
    },
    {
     "name": "stderr",
     "output_type": "stream",
     "text": [
      "W0523 00:59:14.188052 139898093799232 tf_logging.py:161] Using an `adanet.subnetwork.Builder#prune_previous_ensemble` is deprecated. Please use a custom `adanet.ensemble.Strategy` instead.\n"
     ]
    },
    {
     "name": "stdout",
     "output_type": "stream",
     "text": [
      "INFO:tensorflow:*** _build_weighted_subnetwork_helper() : MixtureWeightType= vector\n"
     ]
    },
    {
     "name": "stderr",
     "output_type": "stream",
     "text": [
      "I0523 00:59:14.192692 139898093799232 weighted.py:391] *** _build_weighted_subnetwork_helper() : MixtureWeightType= vector\n"
     ]
    },
    {
     "name": "stdout",
     "output_type": "stream",
     "text": [
      "INFO:tensorflow:*** _build_weighted_subnetwork_helper() : MixtureWeightType= vector\n"
     ]
    },
    {
     "name": "stderr",
     "output_type": "stream",
     "text": [
      "I0523 00:59:14.199053 139898093799232 weighted.py:391] *** _build_weighted_subnetwork_helper() : MixtureWeightType= vector\n"
     ]
    },
    {
     "name": "stdout",
     "output_type": "stream",
     "text": [
      "INFO:tensorflow:*** _build_weighted_subnetwork_helper() : MixtureWeightType= vector\n"
     ]
    },
    {
     "name": "stderr",
     "output_type": "stream",
     "text": [
      "I0523 00:59:14.205265 139898093799232 weighted.py:391] *** _build_weighted_subnetwork_helper() : MixtureWeightType= vector\n"
     ]
    },
    {
     "name": "stdout",
     "output_type": "stream",
     "text": [
      "INFO:tensorflow:*** _build_weighted_subnetwork_helper() : MixtureWeightType= vector\n"
     ]
    },
    {
     "name": "stderr",
     "output_type": "stream",
     "text": [
      "I0523 00:59:14.211530 139898093799232 weighted.py:391] *** _build_weighted_subnetwork_helper() : MixtureWeightType= vector\n"
     ]
    },
    {
     "name": "stdout",
     "output_type": "stream",
     "text": [
      "INFO:tensorflow:*** _build_weighted_subnetwork_helper() : MixtureWeightType= vector\n"
     ]
    },
    {
     "name": "stderr",
     "output_type": "stream",
     "text": [
      "I0523 00:59:14.217913 139898093799232 weighted.py:391] *** _build_weighted_subnetwork_helper() : MixtureWeightType= vector\n"
     ]
    },
    {
     "name": "stdout",
     "output_type": "stream",
     "text": [
      "INFO:tensorflow:*** _build_weighted_subnetwork_helper() : MixtureWeightType= vector\n"
     ]
    },
    {
     "name": "stderr",
     "output_type": "stream",
     "text": [
      "I0523 00:59:14.224485 139898093799232 weighted.py:391] *** _build_weighted_subnetwork_helper() : MixtureWeightType= vector\n"
     ]
    },
    {
     "name": "stdout",
     "output_type": "stream",
     "text": [
      "WARNING:tensorflow:The `build_mixture_weights_train_op` method is deprecated. Please use the `Ensembler#build_train_op` instead.\n"
     ]
    },
    {
     "name": "stderr",
     "output_type": "stream",
     "text": [
      "W0523 00:59:14.307191 139898093799232 tf_logging.py:161] The `build_mixture_weights_train_op` method is deprecated. Please use the `Ensembler#build_train_op` instead.\n"
     ]
    },
    {
     "name": "stdout",
     "output_type": "stream",
     "text": [
      "WARNING:tensorflow:Using an `adanet.subnetwork.Builder#prune_previous_ensemble` is deprecated. Please use a custom `adanet.ensemble.Strategy` instead.\n"
     ]
    },
    {
     "name": "stderr",
     "output_type": "stream",
     "text": [
      "W0523 00:59:14.507086 139898093799232 tf_logging.py:161] Using an `adanet.subnetwork.Builder#prune_previous_ensemble` is deprecated. Please use a custom `adanet.ensemble.Strategy` instead.\n"
     ]
    },
    {
     "name": "stdout",
     "output_type": "stream",
     "text": [
      "INFO:tensorflow:*** _build_weighted_subnetwork_helper() : MixtureWeightType= vector\n"
     ]
    },
    {
     "name": "stderr",
     "output_type": "stream",
     "text": [
      "I0523 00:59:14.511108 139898093799232 weighted.py:391] *** _build_weighted_subnetwork_helper() : MixtureWeightType= vector\n"
     ]
    },
    {
     "name": "stdout",
     "output_type": "stream",
     "text": [
      "INFO:tensorflow:*** _build_weighted_subnetwork_helper() : MixtureWeightType= vector\n"
     ]
    },
    {
     "name": "stderr",
     "output_type": "stream",
     "text": [
      "I0523 00:59:14.517398 139898093799232 weighted.py:391] *** _build_weighted_subnetwork_helper() : MixtureWeightType= vector\n"
     ]
    },
    {
     "name": "stdout",
     "output_type": "stream",
     "text": [
      "INFO:tensorflow:*** _build_weighted_subnetwork_helper() : MixtureWeightType= vector\n"
     ]
    },
    {
     "name": "stderr",
     "output_type": "stream",
     "text": [
      "I0523 00:59:14.523689 139898093799232 weighted.py:391] *** _build_weighted_subnetwork_helper() : MixtureWeightType= vector\n"
     ]
    },
    {
     "name": "stdout",
     "output_type": "stream",
     "text": [
      "INFO:tensorflow:*** _build_weighted_subnetwork_helper() : MixtureWeightType= vector\n"
     ]
    },
    {
     "name": "stderr",
     "output_type": "stream",
     "text": [
      "I0523 00:59:14.530022 139898093799232 weighted.py:391] *** _build_weighted_subnetwork_helper() : MixtureWeightType= vector\n"
     ]
    },
    {
     "name": "stdout",
     "output_type": "stream",
     "text": [
      "INFO:tensorflow:*** _build_weighted_subnetwork_helper() : MixtureWeightType= vector\n"
     ]
    },
    {
     "name": "stderr",
     "output_type": "stream",
     "text": [
      "I0523 00:59:14.536437 139898093799232 weighted.py:391] *** _build_weighted_subnetwork_helper() : MixtureWeightType= vector\n"
     ]
    },
    {
     "name": "stdout",
     "output_type": "stream",
     "text": [
      "INFO:tensorflow:*** _build_weighted_subnetwork_helper() : MixtureWeightType= vector\n"
     ]
    },
    {
     "name": "stderr",
     "output_type": "stream",
     "text": [
      "I0523 00:59:14.542780 139898093799232 weighted.py:391] *** _build_weighted_subnetwork_helper() : MixtureWeightType= vector\n"
     ]
    },
    {
     "name": "stdout",
     "output_type": "stream",
     "text": [
      "WARNING:tensorflow:The `build_mixture_weights_train_op` method is deprecated. Please use the `Ensembler#build_train_op` instead.\n"
     ]
    },
    {
     "name": "stderr",
     "output_type": "stream",
     "text": [
      "W0523 00:59:14.625557 139898093799232 tf_logging.py:161] The `build_mixture_weights_train_op` method is deprecated. Please use the `Ensembler#build_train_op` instead.\n"
     ]
    },
    {
     "name": "stdout",
     "output_type": "stream",
     "text": [
      "INFO:tensorflow:Done calling model_fn.\n"
     ]
    },
    {
     "name": "stderr",
     "output_type": "stream",
     "text": [
      "I0523 00:59:14.861323 139898093799232 estimator.py:1113] Done calling model_fn.\n"
     ]
    },
    {
     "name": "stdout",
     "output_type": "stream",
     "text": [
      "INFO:tensorflow:Create CheckpointSaverHook.\n"
     ]
    },
    {
     "name": "stderr",
     "output_type": "stream",
     "text": [
      "I0523 00:59:14.862639 139898093799232 basic_session_run_hooks.py:527] Create CheckpointSaverHook.\n"
     ]
    },
    {
     "name": "stdout",
     "output_type": "stream",
     "text": [
      "INFO:tensorflow:Graph was finalized.\n"
     ]
    },
    {
     "name": "stderr",
     "output_type": "stream",
     "text": [
      "I0523 00:59:15.413943 139898093799232 monitored_session.py:222] Graph was finalized.\n"
     ]
    },
    {
     "name": "stdout",
     "output_type": "stream",
     "text": [
      "INFO:tensorflow:Restoring parameters from ./tmp/adanet/SGRU/increment.ckpt-5\n"
     ]
    },
    {
     "name": "stderr",
     "output_type": "stream",
     "text": [
      "I0523 00:59:15.416733 139898093799232 saver.py:1270] Restoring parameters from ./tmp/adanet/SGRU/increment.ckpt-5\n"
     ]
    },
    {
     "name": "stdout",
     "output_type": "stream",
     "text": [
      "INFO:tensorflow:Running local_init_op.\n"
     ]
    },
    {
     "name": "stderr",
     "output_type": "stream",
     "text": [
      "I0523 00:59:16.860899 139898093799232 session_manager.py:491] Running local_init_op.\n"
     ]
    },
    {
     "name": "stdout",
     "output_type": "stream",
     "text": [
      "INFO:tensorflow:Done running local_init_op.\n"
     ]
    },
    {
     "name": "stderr",
     "output_type": "stream",
     "text": [
      "I0523 00:59:17.201847 139898093799232 session_manager.py:493] Done running local_init_op.\n"
     ]
    },
    {
     "name": "stdout",
     "output_type": "stream",
     "text": [
      "INFO:tensorflow:Saving checkpoints for 35 into ./tmp/adanet/SGRU/model.ckpt.\n"
     ]
    },
    {
     "name": "stderr",
     "output_type": "stream",
     "text": [
      "I0523 00:59:30.755781 139898093799232 basic_session_run_hooks.py:594] Saving checkpoints for 35 into ./tmp/adanet/SGRU/model.ckpt.\n"
     ]
    },
    {
     "name": "stdout",
     "output_type": "stream",
     "text": [
      "INFO:tensorflow:loss = 2.1494615, step = 36\n"
     ]
    },
    {
     "name": "stderr",
     "output_type": "stream",
     "text": [
      "I0523 00:59:46.642460 139898093799232 basic_session_run_hooks.py:249] loss = 2.1494615, step = 36\n"
     ]
    },
    {
     "name": "stdout",
     "output_type": "stream",
     "text": [
      "INFO:tensorflow:Saving checkpoints for 42 into ./tmp/adanet/SGRU/model.ckpt.\n"
     ]
    },
    {
     "name": "stderr",
     "output_type": "stream",
     "text": [
      "I0523 01:00:02.354611 139898093799232 basic_session_run_hooks.py:594] Saving checkpoints for 42 into ./tmp/adanet/SGRU/model.ckpt.\n"
     ]
    },
    {
     "name": "stdout",
     "output_type": "stream",
     "text": [
      "\n",
      "*** input_fn() : feature_shape= (28, 28) / label_shape= [1]\n",
      "\n",
      "*** input_fn : TEST / feature_shape= (28, 28)\n",
      "\n",
      "*** preprocess_image() : image shape= (28, 28)\n",
      "\n",
      "*** preprocess_image() : features= {'images': <tf.Tensor 'arg0:0' shape=(28, 28) dtype=float32>} / label shape= ()\n",
      "\n",
      "***_input_fn() : Label shape =[1]\n",
      "INFO:tensorflow:Calling model_fn.\n"
     ]
    },
    {
     "name": "stderr",
     "output_type": "stream",
     "text": [
      "I0523 01:00:04.082846 139898093799232 estimator.py:1111] Calling model_fn.\n"
     ]
    },
    {
     "name": "stdout",
     "output_type": "stream",
     "text": [
      "\n",
      "*** NNAdaNetBuilder : NN Type=RNN\n",
      "\n",
      "*** get_tf_head() : feature shape= (28, 28)\n",
      "\n",
      "*** get_tf_head() : feature columns= [NumericColumn(key='images', shape=(28, 28), default_value=None, dtype=tf.float32, normalizer_fn=None)]\n",
      "\n",
      "*** NNAdaNetBuilder : NN Type=RNN\n",
      "\n",
      "*** get_tf_head() : feature shape= (28, 28)\n",
      "\n",
      "*** get_tf_head() : feature columns= [NumericColumn(key='images', shape=(28, 28), default_value=None, dtype=tf.float32, normalizer_fn=None)]\n",
      "INFO:tensorflow:Rebuilding iteration 0\n"
     ]
    },
    {
     "name": "stderr",
     "output_type": "stream",
     "text": [
      "I0523 01:00:04.087261 139898093799232 iteration.py:250] Rebuilding iteration 0\n"
     ]
    },
    {
     "name": "stdout",
     "output_type": "stream",
     "text": [
      "INFO:tensorflow:Rebuilding subnetwork 'RNN_SGRU_layer_2'\n"
     ]
    },
    {
     "name": "stderr",
     "output_type": "stream",
     "text": [
      "I0523 01:00:04.092711 139898093799232 iteration.py:337] Rebuilding subnetwork 'RNN_SGRU_layer_2'\n"
     ]
    },
    {
     "name": "stdout",
     "output_type": "stream",
     "text": [
      "\n",
      "\n",
      "*** build_subnetwork() : features= {'images': <tf.Tensor 'IteratorGetNext:0' shape=(?, 28, 28) dtype=float32>}\n",
      "\n",
      "\n",
      "*** build_subnetwork() : self._feature_columns= [NumericColumn(key='images', shape=(28, 28), default_value=None, dtype=tf.float32, normalizer_fn=None)]\n",
      "\n",
      "\n",
      "*** build_subnetwork() : NN type= RNN / Input layer shape= (?, 784)\n",
      "\n",
      "*** _build_rnn_subnetwork() : output[-1]= Tensor(\"adanet/iteration_0/subnetwork_t0_RNN_SGRU_layer_2/rnn/rnn/multi_rnn_cell/cell_1/gru_cell/add_27:0\", shape=(?, 128), dtype=float32) / Weight= <tf.Variable 'adanet/iteration_0/subnetwork_t0_RNN_SGRU_layer_2/W:0' shape=(128, 10) dtype=float32_ref>\n",
      "\n",
      "***build_subnetwork() / RNN : logits shape= (?, 10)\n",
      "\n",
      "*** build_subnetwork() : last_layer= Tensor(\"adanet/iteration_0/subnetwork_t0_RNN_SGRU_layer_2/dense/BiasAdd:0\", shape=(?, 128), dtype=float32)\n",
      "INFO:tensorflow:*** _build_weighted_subnetwork_helper() : MixtureWeightType= vector\n"
     ]
    },
    {
     "name": "stderr",
     "output_type": "stream",
     "text": [
      "I0523 01:00:04.676230 139898093799232 weighted.py:391] *** _build_weighted_subnetwork_helper() : MixtureWeightType= vector\n"
     ]
    },
    {
     "name": "stdout",
     "output_type": "stream",
     "text": [
      "\n",
      "*** NNAdaNetBuilder : NN Type=RNN\n",
      "\n",
      "*** get_tf_head() : feature shape= (28, 28)\n",
      "\n",
      "*** get_tf_head() : feature columns= [NumericColumn(key='images', shape=(28, 28), default_value=None, dtype=tf.float32, normalizer_fn=None)]\n",
      "\n",
      "*** NNAdaNetBuilder : NN Type=RNN\n",
      "\n",
      "*** get_tf_head() : feature shape= (28, 28)\n",
      "\n",
      "*** get_tf_head() : feature columns= [NumericColumn(key='images', shape=(28, 28), default_value=None, dtype=tf.float32, normalizer_fn=None)]\n",
      "INFO:tensorflow:Rebuilding iteration 1\n"
     ]
    },
    {
     "name": "stderr",
     "output_type": "stream",
     "text": [
      "I0523 01:00:04.818175 139898093799232 iteration.py:250] Rebuilding iteration 1\n"
     ]
    },
    {
     "name": "stdout",
     "output_type": "stream",
     "text": [
      "INFO:tensorflow:Rebuilding subnetwork 'RNN_SGRU_layer_3'\n"
     ]
    },
    {
     "name": "stderr",
     "output_type": "stream",
     "text": [
      "I0523 01:00:04.846539 139898093799232 iteration.py:337] Rebuilding subnetwork 'RNN_SGRU_layer_3'\n"
     ]
    },
    {
     "name": "stdout",
     "output_type": "stream",
     "text": [
      "\n",
      "\n",
      "*** build_subnetwork() : features= {'images': <tf.Tensor 'IteratorGetNext:0' shape=(?, 28, 28) dtype=float32>}\n",
      "\n",
      "\n",
      "*** build_subnetwork() : self._feature_columns= [NumericColumn(key='images', shape=(28, 28), default_value=None, dtype=tf.float32, normalizer_fn=None)]\n",
      "\n",
      "\n",
      "*** build_subnetwork() : NN type= RNN / Input layer shape= (?, 784)\n",
      "\n",
      "*** _build_rnn_subnetwork() : output[-1]= Tensor(\"adanet/iteration_1/subnetwork_t1_RNN_SGRU_layer_3/rnn/rnn/multi_rnn_cell/cell_2/gru_cell/add_27:0\", shape=(?, 128), dtype=float32) / Weight= <tf.Variable 'adanet/iteration_1/subnetwork_t1_RNN_SGRU_layer_3/W:0' shape=(128, 10) dtype=float32_ref>\n",
      "\n",
      "***build_subnetwork() / RNN : logits shape= (?, 10)\n",
      "\n",
      "*** build_subnetwork() : last_layer= Tensor(\"adanet/iteration_1/subnetwork_t1_RNN_SGRU_layer_3/dense/BiasAdd:0\", shape=(?, 128), dtype=float32)\n",
      "WARNING:tensorflow:Using an `adanet.subnetwork.Builder#prune_previous_ensemble` is deprecated. Please use a custom `adanet.ensemble.Strategy` instead.\n"
     ]
    },
    {
     "name": "stderr",
     "output_type": "stream",
     "text": [
      "W0523 01:00:05.669207 139898093799232 tf_logging.py:161] Using an `adanet.subnetwork.Builder#prune_previous_ensemble` is deprecated. Please use a custom `adanet.ensemble.Strategy` instead.\n"
     ]
    },
    {
     "name": "stdout",
     "output_type": "stream",
     "text": [
      "INFO:tensorflow:*** _build_weighted_subnetwork_helper() : MixtureWeightType= vector\n"
     ]
    },
    {
     "name": "stderr",
     "output_type": "stream",
     "text": [
      "I0523 01:00:05.673395 139898093799232 weighted.py:391] *** _build_weighted_subnetwork_helper() : MixtureWeightType= vector\n"
     ]
    },
    {
     "name": "stdout",
     "output_type": "stream",
     "text": [
      "INFO:tensorflow:*** _build_weighted_subnetwork_helper() : MixtureWeightType= vector\n"
     ]
    },
    {
     "name": "stderr",
     "output_type": "stream",
     "text": [
      "I0523 01:00:05.680413 139898093799232 weighted.py:391] *** _build_weighted_subnetwork_helper() : MixtureWeightType= vector\n"
     ]
    },
    {
     "name": "stdout",
     "output_type": "stream",
     "text": [
      "\n",
      "*** NNAdaNetBuilder : NN Type=RNN\n",
      "\n",
      "*** get_tf_head() : feature shape= (28, 28)\n",
      "\n",
      "*** get_tf_head() : feature columns= [NumericColumn(key='images', shape=(28, 28), default_value=None, dtype=tf.float32, normalizer_fn=None)]\n",
      "\n",
      "*** NNAdaNetBuilder : NN Type=RNN\n",
      "\n",
      "*** get_tf_head() : feature shape= (28, 28)\n",
      "\n",
      "*** get_tf_head() : feature columns= [NumericColumn(key='images', shape=(28, 28), default_value=None, dtype=tf.float32, normalizer_fn=None)]\n",
      "INFO:tensorflow:Rebuilding iteration 2\n"
     ]
    },
    {
     "name": "stderr",
     "output_type": "stream",
     "text": [
      "I0523 01:00:05.861131 139898093799232 iteration.py:250] Rebuilding iteration 2\n"
     ]
    },
    {
     "name": "stdout",
     "output_type": "stream",
     "text": [
      "INFO:tensorflow:Rebuilding subnetwork 'RNN_SGRU_layer_4'\n"
     ]
    },
    {
     "name": "stderr",
     "output_type": "stream",
     "text": [
      "I0523 01:00:05.889492 139898093799232 iteration.py:337] Rebuilding subnetwork 'RNN_SGRU_layer_4'\n"
     ]
    },
    {
     "name": "stdout",
     "output_type": "stream",
     "text": [
      "\n",
      "\n",
      "*** build_subnetwork() : features= {'images': <tf.Tensor 'IteratorGetNext:0' shape=(?, 28, 28) dtype=float32>}\n",
      "\n",
      "\n",
      "*** build_subnetwork() : self._feature_columns= [NumericColumn(key='images', shape=(28, 28), default_value=None, dtype=tf.float32, normalizer_fn=None)]\n",
      "\n",
      "\n",
      "*** build_subnetwork() : NN type= RNN / Input layer shape= (?, 784)\n",
      "\n",
      "*** _build_rnn_subnetwork() : output[-1]= Tensor(\"adanet/iteration_2/subnetwork_t2_RNN_SGRU_layer_4/rnn/rnn/multi_rnn_cell/cell_3/gru_cell/add_27:0\", shape=(?, 128), dtype=float32) / Weight= <tf.Variable 'adanet/iteration_2/subnetwork_t2_RNN_SGRU_layer_4/W:0' shape=(128, 10) dtype=float32_ref>\n",
      "\n",
      "***build_subnetwork() / RNN : logits shape= (?, 10)\n",
      "\n",
      "*** build_subnetwork() : last_layer= Tensor(\"adanet/iteration_2/subnetwork_t2_RNN_SGRU_layer_4/dense/BiasAdd:0\", shape=(?, 128), dtype=float32)\n",
      "WARNING:tensorflow:Using an `adanet.subnetwork.Builder#prune_previous_ensemble` is deprecated. Please use a custom `adanet.ensemble.Strategy` instead.\n"
     ]
    },
    {
     "name": "stderr",
     "output_type": "stream",
     "text": [
      "W0523 01:00:10.490389 139898093799232 tf_logging.py:161] Using an `adanet.subnetwork.Builder#prune_previous_ensemble` is deprecated. Please use a custom `adanet.ensemble.Strategy` instead.\n"
     ]
    },
    {
     "name": "stdout",
     "output_type": "stream",
     "text": [
      "INFO:tensorflow:*** _build_weighted_subnetwork_helper() : MixtureWeightType= vector\n"
     ]
    },
    {
     "name": "stderr",
     "output_type": "stream",
     "text": [
      "I0523 01:00:10.494571 139898093799232 weighted.py:391] *** _build_weighted_subnetwork_helper() : MixtureWeightType= vector\n"
     ]
    },
    {
     "name": "stdout",
     "output_type": "stream",
     "text": [
      "INFO:tensorflow:*** _build_weighted_subnetwork_helper() : MixtureWeightType= vector\n"
     ]
    },
    {
     "name": "stderr",
     "output_type": "stream",
     "text": [
      "I0523 01:00:10.501576 139898093799232 weighted.py:391] *** _build_weighted_subnetwork_helper() : MixtureWeightType= vector\n"
     ]
    },
    {
     "name": "stdout",
     "output_type": "stream",
     "text": [
      "INFO:tensorflow:*** _build_weighted_subnetwork_helper() : MixtureWeightType= vector\n"
     ]
    },
    {
     "name": "stderr",
     "output_type": "stream",
     "text": [
      "I0523 01:00:10.508328 139898093799232 weighted.py:391] *** _build_weighted_subnetwork_helper() : MixtureWeightType= vector\n"
     ]
    },
    {
     "name": "stdout",
     "output_type": "stream",
     "text": [
      "\n",
      "*** NNAdaNetBuilder : NN Type=RNN\n",
      "\n",
      "*** get_tf_head() : feature shape= (28, 28)\n",
      "\n",
      "*** get_tf_head() : feature columns= [NumericColumn(key='images', shape=(28, 28), default_value=None, dtype=tf.float32, normalizer_fn=None)]\n",
      "\n",
      "*** NNAdaNetBuilder : NN Type=RNN\n",
      "\n",
      "*** get_tf_head() : feature shape= (28, 28)\n",
      "\n",
      "*** get_tf_head() : feature columns= [NumericColumn(key='images', shape=(28, 28), default_value=None, dtype=tf.float32, normalizer_fn=None)]\n",
      "INFO:tensorflow:Rebuilding iteration 3\n"
     ]
    },
    {
     "name": "stderr",
     "output_type": "stream",
     "text": [
      "I0523 01:00:10.694684 139898093799232 iteration.py:250] Rebuilding iteration 3\n"
     ]
    },
    {
     "name": "stdout",
     "output_type": "stream",
     "text": [
      "INFO:tensorflow:Rebuilding subnetwork 'RNN_SGRU_layer_4'\n"
     ]
    },
    {
     "name": "stderr",
     "output_type": "stream",
     "text": [
      "I0523 01:00:10.723233 139898093799232 iteration.py:337] Rebuilding subnetwork 'RNN_SGRU_layer_4'\n"
     ]
    },
    {
     "name": "stdout",
     "output_type": "stream",
     "text": [
      "\n",
      "\n",
      "*** build_subnetwork() : features= {'images': <tf.Tensor 'IteratorGetNext:0' shape=(?, 28, 28) dtype=float32>}\n",
      "\n",
      "\n",
      "*** build_subnetwork() : self._feature_columns= [NumericColumn(key='images', shape=(28, 28), default_value=None, dtype=tf.float32, normalizer_fn=None)]\n",
      "\n",
      "\n",
      "*** build_subnetwork() : NN type= RNN / Input layer shape= (?, 784)\n",
      "\n",
      "*** _build_rnn_subnetwork() : output[-1]= Tensor(\"adanet/iteration_3/subnetwork_t3_RNN_SGRU_layer_4/rnn/rnn/multi_rnn_cell/cell_3/gru_cell/add_27:0\", shape=(?, 128), dtype=float32) / Weight= <tf.Variable 'adanet/iteration_3/subnetwork_t3_RNN_SGRU_layer_4/W:0' shape=(128, 10) dtype=float32_ref>\n",
      "\n",
      "***build_subnetwork() / RNN : logits shape= (?, 10)\n",
      "\n",
      "*** build_subnetwork() : last_layer= Tensor(\"adanet/iteration_3/subnetwork_t3_RNN_SGRU_layer_4/dense/BiasAdd:0\", shape=(?, 128), dtype=float32)\n",
      "WARNING:tensorflow:Using an `adanet.subnetwork.Builder#prune_previous_ensemble` is deprecated. Please use a custom `adanet.ensemble.Strategy` instead.\n"
     ]
    },
    {
     "name": "stderr",
     "output_type": "stream",
     "text": [
      "W0523 01:00:11.832787 139898093799232 tf_logging.py:161] Using an `adanet.subnetwork.Builder#prune_previous_ensemble` is deprecated. Please use a custom `adanet.ensemble.Strategy` instead.\n"
     ]
    },
    {
     "name": "stdout",
     "output_type": "stream",
     "text": [
      "INFO:tensorflow:*** _build_weighted_subnetwork_helper() : MixtureWeightType= vector\n"
     ]
    },
    {
     "name": "stderr",
     "output_type": "stream",
     "text": [
      "I0523 01:00:11.837524 139898093799232 weighted.py:391] *** _build_weighted_subnetwork_helper() : MixtureWeightType= vector\n"
     ]
    },
    {
     "name": "stdout",
     "output_type": "stream",
     "text": [
      "INFO:tensorflow:*** _build_weighted_subnetwork_helper() : MixtureWeightType= vector\n"
     ]
    },
    {
     "name": "stderr",
     "output_type": "stream",
     "text": [
      "I0523 01:00:11.844378 139898093799232 weighted.py:391] *** _build_weighted_subnetwork_helper() : MixtureWeightType= vector\n"
     ]
    },
    {
     "name": "stdout",
     "output_type": "stream",
     "text": [
      "INFO:tensorflow:*** _build_weighted_subnetwork_helper() : MixtureWeightType= vector\n"
     ]
    },
    {
     "name": "stderr",
     "output_type": "stream",
     "text": [
      "I0523 01:00:11.850971 139898093799232 weighted.py:391] *** _build_weighted_subnetwork_helper() : MixtureWeightType= vector\n"
     ]
    },
    {
     "name": "stdout",
     "output_type": "stream",
     "text": [
      "INFO:tensorflow:*** _build_weighted_subnetwork_helper() : MixtureWeightType= vector\n"
     ]
    },
    {
     "name": "stderr",
     "output_type": "stream",
     "text": [
      "I0523 01:00:11.857657 139898093799232 weighted.py:391] *** _build_weighted_subnetwork_helper() : MixtureWeightType= vector\n"
     ]
    },
    {
     "name": "stdout",
     "output_type": "stream",
     "text": [
      "\n",
      "*** NNAdaNetBuilder : NN Type=RNN\n",
      "\n",
      "*** get_tf_head() : feature shape= (28, 28)\n",
      "\n",
      "*** get_tf_head() : feature columns= [NumericColumn(key='images', shape=(28, 28), default_value=None, dtype=tf.float32, normalizer_fn=None)]\n",
      "\n",
      "*** NNAdaNetBuilder : NN Type=RNN\n",
      "\n",
      "*** get_tf_head() : feature shape= (28, 28)\n",
      "\n",
      "*** get_tf_head() : feature columns= [NumericColumn(key='images', shape=(28, 28), default_value=None, dtype=tf.float32, normalizer_fn=None)]\n",
      "INFO:tensorflow:Rebuilding iteration 4\n"
     ]
    },
    {
     "name": "stderr",
     "output_type": "stream",
     "text": [
      "I0523 01:00:12.050829 139898093799232 iteration.py:250] Rebuilding iteration 4\n"
     ]
    },
    {
     "name": "stdout",
     "output_type": "stream",
     "text": [
      "INFO:tensorflow:Rebuilding subnetwork 'RNN_SGRU_layer_4'\n"
     ]
    },
    {
     "name": "stderr",
     "output_type": "stream",
     "text": [
      "I0523 01:00:12.078907 139898093799232 iteration.py:337] Rebuilding subnetwork 'RNN_SGRU_layer_4'\n"
     ]
    },
    {
     "name": "stdout",
     "output_type": "stream",
     "text": [
      "\n",
      "\n",
      "*** build_subnetwork() : features= {'images': <tf.Tensor 'IteratorGetNext:0' shape=(?, 28, 28) dtype=float32>}\n",
      "\n",
      "\n",
      "*** build_subnetwork() : self._feature_columns= [NumericColumn(key='images', shape=(28, 28), default_value=None, dtype=tf.float32, normalizer_fn=None)]\n",
      "\n",
      "\n",
      "*** build_subnetwork() : NN type= RNN / Input layer shape= (?, 784)\n",
      "\n",
      "*** _build_rnn_subnetwork() : output[-1]= Tensor(\"adanet/iteration_4/subnetwork_t4_RNN_SGRU_layer_4/rnn/rnn/multi_rnn_cell/cell_3/gru_cell/add_27:0\", shape=(?, 128), dtype=float32) / Weight= <tf.Variable 'adanet/iteration_4/subnetwork_t4_RNN_SGRU_layer_4/W:0' shape=(128, 10) dtype=float32_ref>\n",
      "\n",
      "***build_subnetwork() / RNN : logits shape= (?, 10)\n",
      "\n",
      "*** build_subnetwork() : last_layer= Tensor(\"adanet/iteration_4/subnetwork_t4_RNN_SGRU_layer_4/dense/BiasAdd:0\", shape=(?, 128), dtype=float32)\n",
      "WARNING:tensorflow:Using an `adanet.subnetwork.Builder#prune_previous_ensemble` is deprecated. Please use a custom `adanet.ensemble.Strategy` instead.\n"
     ]
    },
    {
     "name": "stderr",
     "output_type": "stream",
     "text": [
      "W0523 01:00:13.161026 139898093799232 tf_logging.py:161] Using an `adanet.subnetwork.Builder#prune_previous_ensemble` is deprecated. Please use a custom `adanet.ensemble.Strategy` instead.\n"
     ]
    },
    {
     "name": "stdout",
     "output_type": "stream",
     "text": [
      "INFO:tensorflow:*** _build_weighted_subnetwork_helper() : MixtureWeightType= vector\n"
     ]
    },
    {
     "name": "stderr",
     "output_type": "stream",
     "text": [
      "I0523 01:00:13.165361 139898093799232 weighted.py:391] *** _build_weighted_subnetwork_helper() : MixtureWeightType= vector\n"
     ]
    },
    {
     "name": "stdout",
     "output_type": "stream",
     "text": [
      "INFO:tensorflow:*** _build_weighted_subnetwork_helper() : MixtureWeightType= vector\n"
     ]
    },
    {
     "name": "stderr",
     "output_type": "stream",
     "text": [
      "I0523 01:00:13.172143 139898093799232 weighted.py:391] *** _build_weighted_subnetwork_helper() : MixtureWeightType= vector\n"
     ]
    },
    {
     "name": "stdout",
     "output_type": "stream",
     "text": [
      "INFO:tensorflow:*** _build_weighted_subnetwork_helper() : MixtureWeightType= vector\n"
     ]
    },
    {
     "name": "stderr",
     "output_type": "stream",
     "text": [
      "I0523 01:00:13.178796 139898093799232 weighted.py:391] *** _build_weighted_subnetwork_helper() : MixtureWeightType= vector\n"
     ]
    },
    {
     "name": "stdout",
     "output_type": "stream",
     "text": [
      "INFO:tensorflow:*** _build_weighted_subnetwork_helper() : MixtureWeightType= vector\n"
     ]
    },
    {
     "name": "stderr",
     "output_type": "stream",
     "text": [
      "I0523 01:00:13.185735 139898093799232 weighted.py:391] *** _build_weighted_subnetwork_helper() : MixtureWeightType= vector\n"
     ]
    },
    {
     "name": "stdout",
     "output_type": "stream",
     "text": [
      "INFO:tensorflow:*** _build_weighted_subnetwork_helper() : MixtureWeightType= vector\n"
     ]
    },
    {
     "name": "stderr",
     "output_type": "stream",
     "text": [
      "I0523 01:00:13.192461 139898093799232 weighted.py:391] *** _build_weighted_subnetwork_helper() : MixtureWeightType= vector\n"
     ]
    },
    {
     "name": "stdout",
     "output_type": "stream",
     "text": [
      "\n",
      "*** NNAdaNetBuilder : NN Type=RNN\n",
      "\n",
      "*** get_tf_head() : feature shape= (28, 28)\n",
      "\n",
      "*** get_tf_head() : feature columns= [NumericColumn(key='images', shape=(28, 28), default_value=None, dtype=tf.float32, normalizer_fn=None)]\n",
      "\n",
      "*** NNAdaNetBuilder : NN Type=RNN\n",
      "\n",
      "*** get_tf_head() : feature shape= (28, 28)\n",
      "\n",
      "*** get_tf_head() : feature columns= [NumericColumn(key='images', shape=(28, 28), default_value=None, dtype=tf.float32, normalizer_fn=None)]\n",
      "INFO:tensorflow:Building iteration 5\n"
     ]
    },
    {
     "name": "stderr",
     "output_type": "stream",
     "text": [
      "I0523 01:00:13.391410 139898093799232 iteration.py:250] Building iteration 5\n"
     ]
    },
    {
     "name": "stdout",
     "output_type": "stream",
     "text": [
      "INFO:tensorflow:Building subnetwork 'RNN_SGRU_layer_4'\n"
     ]
    },
    {
     "name": "stderr",
     "output_type": "stream",
     "text": [
      "I0523 01:00:13.419830 139898093799232 iteration.py:337] Building subnetwork 'RNN_SGRU_layer_4'\n"
     ]
    },
    {
     "name": "stdout",
     "output_type": "stream",
     "text": [
      "\n",
      "\n",
      "*** build_subnetwork() : features= {'images': <tf.Tensor 'IteratorGetNext:0' shape=(?, 28, 28) dtype=float32>}\n",
      "\n",
      "\n",
      "*** build_subnetwork() : self._feature_columns= [NumericColumn(key='images', shape=(28, 28), default_value=None, dtype=tf.float32, normalizer_fn=None)]\n",
      "\n",
      "\n",
      "*** build_subnetwork() : NN type= RNN / Input layer shape= (?, 784)\n",
      "\n",
      "*** _build_rnn_subnetwork() : output[-1]= Tensor(\"adanet/iteration_5/subnetwork_t5_RNN_SGRU_layer_4/rnn/rnn/multi_rnn_cell/cell_3/gru_cell/add_27:0\", shape=(?, 128), dtype=float32) / Weight= <tf.Variable 'adanet/iteration_5/subnetwork_t5_RNN_SGRU_layer_4/W:0' shape=(128, 10) dtype=float32_ref>\n",
      "\n",
      "***build_subnetwork() / RNN : logits shape= (?, 10)\n",
      "\n",
      "*** build_subnetwork() : last_layer= Tensor(\"adanet/iteration_5/subnetwork_t5_RNN_SGRU_layer_4/dense/BiasAdd:0\", shape=(?, 128), dtype=float32)\n",
      "INFO:tensorflow:Building subnetwork 'RNN_SGRU_layer_5'\n"
     ]
    },
    {
     "name": "stderr",
     "output_type": "stream",
     "text": [
      "I0523 01:00:14.508089 139898093799232 iteration.py:337] Building subnetwork 'RNN_SGRU_layer_5'\n"
     ]
    },
    {
     "name": "stdout",
     "output_type": "stream",
     "text": [
      "\n",
      "\n",
      "*** build_subnetwork() : features= {'images': <tf.Tensor 'IteratorGetNext:0' shape=(?, 28, 28) dtype=float32>}\n",
      "\n",
      "\n",
      "*** build_subnetwork() : self._feature_columns= [NumericColumn(key='images', shape=(28, 28), default_value=None, dtype=tf.float32, normalizer_fn=None)]\n",
      "\n",
      "\n",
      "*** build_subnetwork() : NN type= RNN / Input layer shape= (?, 784)\n",
      "\n",
      "*** _build_rnn_subnetwork() : output[-1]= Tensor(\"adanet/iteration_5/subnetwork_t5_RNN_SGRU_layer_5/rnn/rnn/multi_rnn_cell/cell_4/gru_cell/add_27:0\", shape=(?, 128), dtype=float32) / Weight= <tf.Variable 'adanet/iteration_5/subnetwork_t5_RNN_SGRU_layer_5/W:0' shape=(128, 10) dtype=float32_ref>\n",
      "\n",
      "***build_subnetwork() / RNN : logits shape= (?, 10)\n",
      "\n",
      "*** build_subnetwork() : last_layer= Tensor(\"adanet/iteration_5/subnetwork_t5_RNN_SGRU_layer_5/dense/BiasAdd:0\", shape=(?, 128), dtype=float32)\n",
      "WARNING:tensorflow:Using an `adanet.subnetwork.Builder#prune_previous_ensemble` is deprecated. Please use a custom `adanet.ensemble.Strategy` instead.\n"
     ]
    },
    {
     "name": "stderr",
     "output_type": "stream",
     "text": [
      "W0523 01:00:15.893514 139898093799232 tf_logging.py:161] Using an `adanet.subnetwork.Builder#prune_previous_ensemble` is deprecated. Please use a custom `adanet.ensemble.Strategy` instead.\n"
     ]
    },
    {
     "name": "stdout",
     "output_type": "stream",
     "text": [
      "INFO:tensorflow:*** _build_weighted_subnetwork_helper() : MixtureWeightType= vector\n"
     ]
    },
    {
     "name": "stderr",
     "output_type": "stream",
     "text": [
      "I0523 01:00:15.898664 139898093799232 weighted.py:391] *** _build_weighted_subnetwork_helper() : MixtureWeightType= vector\n"
     ]
    },
    {
     "name": "stdout",
     "output_type": "stream",
     "text": [
      "INFO:tensorflow:*** _build_weighted_subnetwork_helper() : MixtureWeightType= vector\n"
     ]
    },
    {
     "name": "stderr",
     "output_type": "stream",
     "text": [
      "I0523 01:00:15.907258 139898093799232 weighted.py:391] *** _build_weighted_subnetwork_helper() : MixtureWeightType= vector\n"
     ]
    },
    {
     "name": "stdout",
     "output_type": "stream",
     "text": [
      "INFO:tensorflow:*** _build_weighted_subnetwork_helper() : MixtureWeightType= vector\n"
     ]
    },
    {
     "name": "stderr",
     "output_type": "stream",
     "text": [
      "I0523 01:00:15.915434 139898093799232 weighted.py:391] *** _build_weighted_subnetwork_helper() : MixtureWeightType= vector\n"
     ]
    },
    {
     "name": "stdout",
     "output_type": "stream",
     "text": [
      "INFO:tensorflow:*** _build_weighted_subnetwork_helper() : MixtureWeightType= vector\n"
     ]
    },
    {
     "name": "stderr",
     "output_type": "stream",
     "text": [
      "I0523 01:00:15.923906 139898093799232 weighted.py:391] *** _build_weighted_subnetwork_helper() : MixtureWeightType= vector\n"
     ]
    },
    {
     "name": "stdout",
     "output_type": "stream",
     "text": [
      "INFO:tensorflow:*** _build_weighted_subnetwork_helper() : MixtureWeightType= vector\n"
     ]
    },
    {
     "name": "stderr",
     "output_type": "stream",
     "text": [
      "I0523 01:00:15.931886 139898093799232 weighted.py:391] *** _build_weighted_subnetwork_helper() : MixtureWeightType= vector\n"
     ]
    },
    {
     "name": "stdout",
     "output_type": "stream",
     "text": [
      "INFO:tensorflow:*** _build_weighted_subnetwork_helper() : MixtureWeightType= vector\n"
     ]
    },
    {
     "name": "stderr",
     "output_type": "stream",
     "text": [
      "I0523 01:00:15.940027 139898093799232 weighted.py:391] *** _build_weighted_subnetwork_helper() : MixtureWeightType= vector\n"
     ]
    },
    {
     "name": "stdout",
     "output_type": "stream",
     "text": [
      "WARNING:tensorflow:Using an `adanet.subnetwork.Builder#prune_previous_ensemble` is deprecated. Please use a custom `adanet.ensemble.Strategy` instead.\n"
     ]
    },
    {
     "name": "stderr",
     "output_type": "stream",
     "text": [
      "W0523 01:00:16.082218 139898093799232 tf_logging.py:161] Using an `adanet.subnetwork.Builder#prune_previous_ensemble` is deprecated. Please use a custom `adanet.ensemble.Strategy` instead.\n"
     ]
    },
    {
     "name": "stdout",
     "output_type": "stream",
     "text": [
      "INFO:tensorflow:*** _build_weighted_subnetwork_helper() : MixtureWeightType= vector\n"
     ]
    },
    {
     "name": "stderr",
     "output_type": "stream",
     "text": [
      "I0523 01:00:16.087335 139898093799232 weighted.py:391] *** _build_weighted_subnetwork_helper() : MixtureWeightType= vector\n"
     ]
    },
    {
     "name": "stdout",
     "output_type": "stream",
     "text": [
      "INFO:tensorflow:*** _build_weighted_subnetwork_helper() : MixtureWeightType= vector\n"
     ]
    },
    {
     "name": "stderr",
     "output_type": "stream",
     "text": [
      "I0523 01:00:16.095564 139898093799232 weighted.py:391] *** _build_weighted_subnetwork_helper() : MixtureWeightType= vector\n"
     ]
    },
    {
     "name": "stdout",
     "output_type": "stream",
     "text": [
      "INFO:tensorflow:*** _build_weighted_subnetwork_helper() : MixtureWeightType= vector\n"
     ]
    },
    {
     "name": "stderr",
     "output_type": "stream",
     "text": [
      "I0523 01:00:16.105514 139898093799232 weighted.py:391] *** _build_weighted_subnetwork_helper() : MixtureWeightType= vector\n"
     ]
    },
    {
     "name": "stdout",
     "output_type": "stream",
     "text": [
      "INFO:tensorflow:*** _build_weighted_subnetwork_helper() : MixtureWeightType= vector\n"
     ]
    },
    {
     "name": "stderr",
     "output_type": "stream",
     "text": [
      "I0523 01:00:16.113466 139898093799232 weighted.py:391] *** _build_weighted_subnetwork_helper() : MixtureWeightType= vector\n"
     ]
    },
    {
     "name": "stdout",
     "output_type": "stream",
     "text": [
      "INFO:tensorflow:*** _build_weighted_subnetwork_helper() : MixtureWeightType= vector\n"
     ]
    },
    {
     "name": "stderr",
     "output_type": "stream",
     "text": [
      "I0523 01:00:16.122069 139898093799232 weighted.py:391] *** _build_weighted_subnetwork_helper() : MixtureWeightType= vector\n"
     ]
    },
    {
     "name": "stdout",
     "output_type": "stream",
     "text": [
      "INFO:tensorflow:*** _build_weighted_subnetwork_helper() : MixtureWeightType= vector\n"
     ]
    },
    {
     "name": "stderr",
     "output_type": "stream",
     "text": [
      "I0523 01:00:16.130040 139898093799232 weighted.py:391] *** _build_weighted_subnetwork_helper() : MixtureWeightType= vector\n"
     ]
    },
    {
     "name": "stdout",
     "output_type": "stream",
     "text": [
      "INFO:tensorflow:Done calling model_fn.\n"
     ]
    },
    {
     "name": "stderr",
     "output_type": "stream",
     "text": [
      "I0523 01:00:16.461701 139898093799232 estimator.py:1113] Done calling model_fn.\n"
     ]
    },
    {
     "name": "stdout",
     "output_type": "stream",
     "text": [
      "INFO:tensorflow:Starting evaluation at 2019-05-22T23:00:16Z\n"
     ]
    },
    {
     "name": "stderr",
     "output_type": "stream",
     "text": [
      "I0523 01:00:16.479134 139898093799232 evaluation.py:257] Starting evaluation at 2019-05-22T23:00:16Z\n"
     ]
    },
    {
     "name": "stdout",
     "output_type": "stream",
     "text": [
      "INFO:tensorflow:Graph was finalized.\n"
     ]
    },
    {
     "name": "stderr",
     "output_type": "stream",
     "text": [
      "I0523 01:00:16.986533 139898093799232 monitored_session.py:222] Graph was finalized.\n"
     ]
    },
    {
     "name": "stdout",
     "output_type": "stream",
     "text": [
      "INFO:tensorflow:Restoring parameters from ./tmp/adanet/SGRU/model.ckpt-42\n"
     ]
    },
    {
     "name": "stderr",
     "output_type": "stream",
     "text": [
      "I0523 01:00:16.988820 139898093799232 saver.py:1270] Restoring parameters from ./tmp/adanet/SGRU/model.ckpt-42\n"
     ]
    },
    {
     "name": "stdout",
     "output_type": "stream",
     "text": [
      "INFO:tensorflow:Running local_init_op.\n"
     ]
    },
    {
     "name": "stderr",
     "output_type": "stream",
     "text": [
      "I0523 01:00:17.652236 139898093799232 session_manager.py:491] Running local_init_op.\n"
     ]
    },
    {
     "name": "stdout",
     "output_type": "stream",
     "text": [
      "INFO:tensorflow:Done running local_init_op.\n"
     ]
    },
    {
     "name": "stderr",
     "output_type": "stream",
     "text": [
      "I0523 01:00:17.868808 139898093799232 session_manager.py:493] Done running local_init_op.\n"
     ]
    },
    {
     "name": "stdout",
     "output_type": "stream",
     "text": [
      "\n",
      "*** generator() : labels shape= (10000,) / label values= 0\n",
      "INFO:tensorflow:Finished evaluation at 2019-05-22-23:00:36\n"
     ]
    },
    {
     "name": "stderr",
     "output_type": "stream",
     "text": [
      "I0523 01:00:36.439856 139898093799232 evaluation.py:277] Finished evaluation at 2019-05-22-23:00:36\n"
     ]
    },
    {
     "name": "stdout",
     "output_type": "stream",
     "text": [
      "INFO:tensorflow:Saving dict for global step 42: accuracy = 0.5014, average_loss = 2.171377, global_step = 42, loss = 2.1712334\n"
     ]
    },
    {
     "name": "stderr",
     "output_type": "stream",
     "text": [
      "I0523 01:00:36.441028 139898093799232 estimator.py:1979] Saving dict for global step 42: accuracy = 0.5014, average_loss = 2.171377, global_step = 42, loss = 2.1712334\n"
     ]
    },
    {
     "name": "stdout",
     "output_type": "stream",
     "text": [
      "INFO:tensorflow:Saving 'checkpoint_path' summary for global step 42: ./tmp/adanet/SGRU/model.ckpt-42\n"
     ]
    },
    {
     "name": "stderr",
     "output_type": "stream",
     "text": [
      "I0523 01:00:36.442765 139898093799232 estimator.py:2039] Saving 'checkpoint_path' summary for global step 42: ./tmp/adanet/SGRU/model.ckpt-42\n"
     ]
    },
    {
     "name": "stdout",
     "output_type": "stream",
     "text": [
      "INFO:tensorflow:Loss for final step: 2.1666107.\n"
     ]
    },
    {
     "name": "stderr",
     "output_type": "stream",
     "text": [
      "I0523 01:00:36.677356 139898093799232 estimator.py:359] Loss for final step: 2.1666107.\n"
     ]
    },
    {
     "name": "stdout",
     "output_type": "stream",
     "text": [
      "\n",
      "*** input_fn() : feature_shape= (28, 28) / label_shape= [1]\n",
      "\n",
      "*** preprocess_image() : image shape= (28, 28)\n",
      "\n",
      "*** preprocess_image() : features= {'images': <tf.Tensor 'arg0:0' shape=(28, 28) dtype=float32>} / label shape= ()\n",
      "\n",
      "***_input_fn() : Label shape =[1]\n",
      "INFO:tensorflow:Calling model_fn.\n"
     ]
    },
    {
     "name": "stderr",
     "output_type": "stream",
     "text": [
      "I0523 01:00:36.906695 139898093799232 estimator.py:1111] Calling model_fn.\n"
     ]
    },
    {
     "name": "stdout",
     "output_type": "stream",
     "text": [
      "\n",
      "*** NNAdaNetBuilder : NN Type=RNN\n",
      "\n",
      "*** get_tf_head() : feature shape= (28, 28)\n",
      "\n",
      "*** get_tf_head() : feature columns= [NumericColumn(key='images', shape=(28, 28), default_value=None, dtype=tf.float32, normalizer_fn=None)]\n",
      "\n",
      "*** NNAdaNetBuilder : NN Type=RNN\n",
      "\n",
      "*** get_tf_head() : feature shape= (28, 28)\n",
      "\n",
      "*** get_tf_head() : feature columns= [NumericColumn(key='images', shape=(28, 28), default_value=None, dtype=tf.float32, normalizer_fn=None)]\n",
      "INFO:tensorflow:Rebuilding iteration 0\n"
     ]
    },
    {
     "name": "stderr",
     "output_type": "stream",
     "text": [
      "I0523 01:00:36.910609 139898093799232 iteration.py:250] Rebuilding iteration 0\n"
     ]
    },
    {
     "name": "stdout",
     "output_type": "stream",
     "text": [
      "INFO:tensorflow:Rebuilding subnetwork 'RNN_SGRU_layer_2'\n"
     ]
    },
    {
     "name": "stderr",
     "output_type": "stream",
     "text": [
      "I0523 01:00:36.915356 139898093799232 iteration.py:337] Rebuilding subnetwork 'RNN_SGRU_layer_2'\n"
     ]
    },
    {
     "name": "stdout",
     "output_type": "stream",
     "text": [
      "\n",
      "\n",
      "*** build_subnetwork() : features= {'images': <tf.Tensor 'IteratorGetNext:0' shape=(?, 28, 28) dtype=float32>}\n",
      "\n",
      "\n",
      "*** build_subnetwork() : self._feature_columns= [NumericColumn(key='images', shape=(28, 28), default_value=None, dtype=tf.float32, normalizer_fn=None)]\n",
      "\n",
      "\n",
      "*** build_subnetwork() : NN type= RNN / Input layer shape= (?, 784)\n",
      "\n",
      "*** _build_rnn_subnetwork() : output[-1]= Tensor(\"adanet/iteration_0/subnetwork_t0_RNN_SGRU_layer_2/rnn/rnn/multi_rnn_cell/cell_1/gru_cell/add_27:0\", shape=(?, 128), dtype=float32) / Weight= <tf.Variable 'adanet/iteration_0/subnetwork_t0_RNN_SGRU_layer_2/W:0' shape=(128, 10) dtype=float32_ref>\n",
      "\n",
      "***build_subnetwork() / RNN : logits shape= (?, 10)\n",
      "\n",
      "*** build_subnetwork() : last_layer= Tensor(\"adanet/iteration_0/subnetwork_t0_RNN_SGRU_layer_2/dense/BiasAdd:0\", shape=(?, 128), dtype=float32)\n",
      "INFO:tensorflow:*** _build_weighted_subnetwork_helper() : MixtureWeightType= vector\n"
     ]
    },
    {
     "name": "stderr",
     "output_type": "stream",
     "text": [
      "I0523 01:00:37.455203 139898093799232 weighted.py:391] *** _build_weighted_subnetwork_helper() : MixtureWeightType= vector\n"
     ]
    },
    {
     "name": "stdout",
     "output_type": "stream",
     "text": [
      "\n",
      "*** NNAdaNetBuilder : NN Type=RNN\n",
      "\n",
      "*** get_tf_head() : feature shape= (28, 28)\n",
      "\n",
      "*** get_tf_head() : feature columns= [NumericColumn(key='images', shape=(28, 28), default_value=None, dtype=tf.float32, normalizer_fn=None)]\n",
      "\n",
      "*** NNAdaNetBuilder : NN Type=RNN\n",
      "\n",
      "*** get_tf_head() : feature shape= (28, 28)\n",
      "\n",
      "*** get_tf_head() : feature columns= [NumericColumn(key='images', shape=(28, 28), default_value=None, dtype=tf.float32, normalizer_fn=None)]\n",
      "INFO:tensorflow:Rebuilding iteration 1\n"
     ]
    },
    {
     "name": "stderr",
     "output_type": "stream",
     "text": [
      "I0523 01:00:37.588066 139898093799232 iteration.py:250] Rebuilding iteration 1\n"
     ]
    },
    {
     "name": "stdout",
     "output_type": "stream",
     "text": [
      "INFO:tensorflow:Rebuilding subnetwork 'RNN_SGRU_layer_3'\n"
     ]
    },
    {
     "name": "stderr",
     "output_type": "stream",
     "text": [
      "I0523 01:00:37.614844 139898093799232 iteration.py:337] Rebuilding subnetwork 'RNN_SGRU_layer_3'\n"
     ]
    },
    {
     "name": "stdout",
     "output_type": "stream",
     "text": [
      "\n",
      "\n",
      "*** build_subnetwork() : features= {'images': <tf.Tensor 'IteratorGetNext:0' shape=(?, 28, 28) dtype=float32>}\n",
      "\n",
      "\n",
      "*** build_subnetwork() : self._feature_columns= [NumericColumn(key='images', shape=(28, 28), default_value=None, dtype=tf.float32, normalizer_fn=None)]\n",
      "\n",
      "\n",
      "*** build_subnetwork() : NN type= RNN / Input layer shape= (?, 784)\n",
      "\n",
      "*** _build_rnn_subnetwork() : output[-1]= Tensor(\"adanet/iteration_1/subnetwork_t1_RNN_SGRU_layer_3/rnn/rnn/multi_rnn_cell/cell_2/gru_cell/add_27:0\", shape=(?, 128), dtype=float32) / Weight= <tf.Variable 'adanet/iteration_1/subnetwork_t1_RNN_SGRU_layer_3/W:0' shape=(128, 10) dtype=float32_ref>\n",
      "\n",
      "***build_subnetwork() / RNN : logits shape= (?, 10)\n",
      "\n",
      "*** build_subnetwork() : last_layer= Tensor(\"adanet/iteration_1/subnetwork_t1_RNN_SGRU_layer_3/dense/BiasAdd:0\", shape=(?, 128), dtype=float32)\n",
      "WARNING:tensorflow:Using an `adanet.subnetwork.Builder#prune_previous_ensemble` is deprecated. Please use a custom `adanet.ensemble.Strategy` instead.\n"
     ]
    },
    {
     "name": "stderr",
     "output_type": "stream",
     "text": [
      "W0523 01:00:38.376171 139898093799232 tf_logging.py:161] Using an `adanet.subnetwork.Builder#prune_previous_ensemble` is deprecated. Please use a custom `adanet.ensemble.Strategy` instead.\n"
     ]
    },
    {
     "name": "stdout",
     "output_type": "stream",
     "text": [
      "INFO:tensorflow:*** _build_weighted_subnetwork_helper() : MixtureWeightType= vector\n"
     ]
    },
    {
     "name": "stderr",
     "output_type": "stream",
     "text": [
      "I0523 01:00:38.380955 139898093799232 weighted.py:391] *** _build_weighted_subnetwork_helper() : MixtureWeightType= vector\n"
     ]
    },
    {
     "name": "stdout",
     "output_type": "stream",
     "text": [
      "INFO:tensorflow:*** _build_weighted_subnetwork_helper() : MixtureWeightType= vector\n"
     ]
    },
    {
     "name": "stderr",
     "output_type": "stream",
     "text": [
      "I0523 01:00:38.387612 139898093799232 weighted.py:391] *** _build_weighted_subnetwork_helper() : MixtureWeightType= vector\n"
     ]
    },
    {
     "name": "stdout",
     "output_type": "stream",
     "text": [
      "\n",
      "*** NNAdaNetBuilder : NN Type=RNN\n",
      "\n",
      "*** get_tf_head() : feature shape= (28, 28)\n",
      "\n",
      "*** get_tf_head() : feature columns= [NumericColumn(key='images', shape=(28, 28), default_value=None, dtype=tf.float32, normalizer_fn=None)]\n",
      "\n",
      "*** NNAdaNetBuilder : NN Type=RNN\n",
      "\n",
      "*** get_tf_head() : feature shape= (28, 28)\n",
      "\n",
      "*** get_tf_head() : feature columns= [NumericColumn(key='images', shape=(28, 28), default_value=None, dtype=tf.float32, normalizer_fn=None)]\n",
      "INFO:tensorflow:Rebuilding iteration 2\n"
     ]
    },
    {
     "name": "stderr",
     "output_type": "stream",
     "text": [
      "I0523 01:00:38.555571 139898093799232 iteration.py:250] Rebuilding iteration 2\n"
     ]
    },
    {
     "name": "stdout",
     "output_type": "stream",
     "text": [
      "INFO:tensorflow:Rebuilding subnetwork 'RNN_SGRU_layer_4'\n"
     ]
    },
    {
     "name": "stderr",
     "output_type": "stream",
     "text": [
      "I0523 01:00:38.583110 139898093799232 iteration.py:337] Rebuilding subnetwork 'RNN_SGRU_layer_4'\n"
     ]
    },
    {
     "name": "stdout",
     "output_type": "stream",
     "text": [
      "\n",
      "\n",
      "*** build_subnetwork() : features= {'images': <tf.Tensor 'IteratorGetNext:0' shape=(?, 28, 28) dtype=float32>}\n",
      "\n",
      "\n",
      "*** build_subnetwork() : self._feature_columns= [NumericColumn(key='images', shape=(28, 28), default_value=None, dtype=tf.float32, normalizer_fn=None)]\n",
      "\n",
      "\n",
      "*** build_subnetwork() : NN type= RNN / Input layer shape= (?, 784)\n",
      "\n",
      "*** _build_rnn_subnetwork() : output[-1]= Tensor(\"adanet/iteration_2/subnetwork_t2_RNN_SGRU_layer_4/rnn/rnn/multi_rnn_cell/cell_3/gru_cell/add_27:0\", shape=(?, 128), dtype=float32) / Weight= <tf.Variable 'adanet/iteration_2/subnetwork_t2_RNN_SGRU_layer_4/W:0' shape=(128, 10) dtype=float32_ref>\n",
      "\n",
      "***build_subnetwork() / RNN : logits shape= (?, 10)\n",
      "\n",
      "*** build_subnetwork() : last_layer= Tensor(\"adanet/iteration_2/subnetwork_t2_RNN_SGRU_layer_4/dense/BiasAdd:0\", shape=(?, 128), dtype=float32)\n",
      "WARNING:tensorflow:Using an `adanet.subnetwork.Builder#prune_previous_ensemble` is deprecated. Please use a custom `adanet.ensemble.Strategy` instead.\n"
     ]
    },
    {
     "name": "stderr",
     "output_type": "stream",
     "text": [
      "W0523 01:00:39.572548 139898093799232 tf_logging.py:161] Using an `adanet.subnetwork.Builder#prune_previous_ensemble` is deprecated. Please use a custom `adanet.ensemble.Strategy` instead.\n"
     ]
    },
    {
     "name": "stdout",
     "output_type": "stream",
     "text": [
      "INFO:tensorflow:*** _build_weighted_subnetwork_helper() : MixtureWeightType= vector\n"
     ]
    },
    {
     "name": "stderr",
     "output_type": "stream",
     "text": [
      "I0523 01:00:39.576592 139898093799232 weighted.py:391] *** _build_weighted_subnetwork_helper() : MixtureWeightType= vector\n"
     ]
    },
    {
     "name": "stdout",
     "output_type": "stream",
     "text": [
      "INFO:tensorflow:*** _build_weighted_subnetwork_helper() : MixtureWeightType= vector\n"
     ]
    },
    {
     "name": "stderr",
     "output_type": "stream",
     "text": [
      "I0523 01:00:39.583133 139898093799232 weighted.py:391] *** _build_weighted_subnetwork_helper() : MixtureWeightType= vector\n"
     ]
    },
    {
     "name": "stdout",
     "output_type": "stream",
     "text": [
      "INFO:tensorflow:*** _build_weighted_subnetwork_helper() : MixtureWeightType= vector\n"
     ]
    },
    {
     "name": "stderr",
     "output_type": "stream",
     "text": [
      "I0523 01:00:39.589645 139898093799232 weighted.py:391] *** _build_weighted_subnetwork_helper() : MixtureWeightType= vector\n"
     ]
    },
    {
     "name": "stdout",
     "output_type": "stream",
     "text": [
      "\n",
      "*** NNAdaNetBuilder : NN Type=RNN\n",
      "\n",
      "*** get_tf_head() : feature shape= (28, 28)\n",
      "\n",
      "*** get_tf_head() : feature columns= [NumericColumn(key='images', shape=(28, 28), default_value=None, dtype=tf.float32, normalizer_fn=None)]\n",
      "\n",
      "*** NNAdaNetBuilder : NN Type=RNN\n",
      "\n",
      "*** get_tf_head() : feature shape= (28, 28)\n",
      "\n",
      "*** get_tf_head() : feature columns= [NumericColumn(key='images', shape=(28, 28), default_value=None, dtype=tf.float32, normalizer_fn=None)]\n",
      "INFO:tensorflow:Rebuilding iteration 3\n"
     ]
    },
    {
     "name": "stderr",
     "output_type": "stream",
     "text": [
      "I0523 01:00:39.762228 139898093799232 iteration.py:250] Rebuilding iteration 3\n"
     ]
    },
    {
     "name": "stdout",
     "output_type": "stream",
     "text": [
      "INFO:tensorflow:Rebuilding subnetwork 'RNN_SGRU_layer_4'\n"
     ]
    },
    {
     "name": "stderr",
     "output_type": "stream",
     "text": [
      "I0523 01:00:39.789091 139898093799232 iteration.py:337] Rebuilding subnetwork 'RNN_SGRU_layer_4'\n"
     ]
    },
    {
     "name": "stdout",
     "output_type": "stream",
     "text": [
      "\n",
      "\n",
      "*** build_subnetwork() : features= {'images': <tf.Tensor 'IteratorGetNext:0' shape=(?, 28, 28) dtype=float32>}\n",
      "\n",
      "\n",
      "*** build_subnetwork() : self._feature_columns= [NumericColumn(key='images', shape=(28, 28), default_value=None, dtype=tf.float32, normalizer_fn=None)]\n",
      "\n",
      "\n",
      "*** build_subnetwork() : NN type= RNN / Input layer shape= (?, 784)\n",
      "\n",
      "*** _build_rnn_subnetwork() : output[-1]= Tensor(\"adanet/iteration_3/subnetwork_t3_RNN_SGRU_layer_4/rnn/rnn/multi_rnn_cell/cell_3/gru_cell/add_27:0\", shape=(?, 128), dtype=float32) / Weight= <tf.Variable 'adanet/iteration_3/subnetwork_t3_RNN_SGRU_layer_4/W:0' shape=(128, 10) dtype=float32_ref>\n",
      "\n",
      "***build_subnetwork() / RNN : logits shape= (?, 10)\n",
      "\n",
      "*** build_subnetwork() : last_layer= Tensor(\"adanet/iteration_3/subnetwork_t3_RNN_SGRU_layer_4/dense/BiasAdd:0\", shape=(?, 128), dtype=float32)\n",
      "WARNING:tensorflow:Using an `adanet.subnetwork.Builder#prune_previous_ensemble` is deprecated. Please use a custom `adanet.ensemble.Strategy` instead.\n"
     ]
    },
    {
     "name": "stderr",
     "output_type": "stream",
     "text": [
      "W0523 01:00:40.774760 139898093799232 tf_logging.py:161] Using an `adanet.subnetwork.Builder#prune_previous_ensemble` is deprecated. Please use a custom `adanet.ensemble.Strategy` instead.\n"
     ]
    },
    {
     "name": "stdout",
     "output_type": "stream",
     "text": [
      "INFO:tensorflow:*** _build_weighted_subnetwork_helper() : MixtureWeightType= vector\n"
     ]
    },
    {
     "name": "stderr",
     "output_type": "stream",
     "text": [
      "I0523 01:00:40.778973 139898093799232 weighted.py:391] *** _build_weighted_subnetwork_helper() : MixtureWeightType= vector\n"
     ]
    },
    {
     "name": "stdout",
     "output_type": "stream",
     "text": [
      "INFO:tensorflow:*** _build_weighted_subnetwork_helper() : MixtureWeightType= vector\n"
     ]
    },
    {
     "name": "stderr",
     "output_type": "stream",
     "text": [
      "I0523 01:00:40.785216 139898093799232 weighted.py:391] *** _build_weighted_subnetwork_helper() : MixtureWeightType= vector\n"
     ]
    },
    {
     "name": "stdout",
     "output_type": "stream",
     "text": [
      "INFO:tensorflow:*** _build_weighted_subnetwork_helper() : MixtureWeightType= vector\n"
     ]
    },
    {
     "name": "stderr",
     "output_type": "stream",
     "text": [
      "I0523 01:00:40.791367 139898093799232 weighted.py:391] *** _build_weighted_subnetwork_helper() : MixtureWeightType= vector\n"
     ]
    },
    {
     "name": "stdout",
     "output_type": "stream",
     "text": [
      "INFO:tensorflow:*** _build_weighted_subnetwork_helper() : MixtureWeightType= vector\n"
     ]
    },
    {
     "name": "stderr",
     "output_type": "stream",
     "text": [
      "I0523 01:00:40.797641 139898093799232 weighted.py:391] *** _build_weighted_subnetwork_helper() : MixtureWeightType= vector\n"
     ]
    },
    {
     "name": "stdout",
     "output_type": "stream",
     "text": [
      "\n",
      "*** NNAdaNetBuilder : NN Type=RNN\n",
      "\n",
      "*** get_tf_head() : feature shape= (28, 28)\n",
      "\n",
      "*** get_tf_head() : feature columns= [NumericColumn(key='images', shape=(28, 28), default_value=None, dtype=tf.float32, normalizer_fn=None)]\n",
      "\n",
      "*** NNAdaNetBuilder : NN Type=RNN\n",
      "\n",
      "*** get_tf_head() : feature shape= (28, 28)\n",
      "\n",
      "*** get_tf_head() : feature columns= [NumericColumn(key='images', shape=(28, 28), default_value=None, dtype=tf.float32, normalizer_fn=None)]\n",
      "INFO:tensorflow:Rebuilding iteration 4\n"
     ]
    },
    {
     "name": "stderr",
     "output_type": "stream",
     "text": [
      "I0523 01:00:40.972947 139898093799232 iteration.py:250] Rebuilding iteration 4\n"
     ]
    },
    {
     "name": "stdout",
     "output_type": "stream",
     "text": [
      "INFO:tensorflow:Rebuilding subnetwork 'RNN_SGRU_layer_4'\n"
     ]
    },
    {
     "name": "stderr",
     "output_type": "stream",
     "text": [
      "I0523 01:00:40.999340 139898093799232 iteration.py:337] Rebuilding subnetwork 'RNN_SGRU_layer_4'\n"
     ]
    },
    {
     "name": "stdout",
     "output_type": "stream",
     "text": [
      "\n",
      "\n",
      "*** build_subnetwork() : features= {'images': <tf.Tensor 'IteratorGetNext:0' shape=(?, 28, 28) dtype=float32>}\n",
      "\n",
      "\n",
      "*** build_subnetwork() : self._feature_columns= [NumericColumn(key='images', shape=(28, 28), default_value=None, dtype=tf.float32, normalizer_fn=None)]\n",
      "\n",
      "\n",
      "*** build_subnetwork() : NN type= RNN / Input layer shape= (?, 784)\n",
      "\n",
      "*** _build_rnn_subnetwork() : output[-1]= Tensor(\"adanet/iteration_4/subnetwork_t4_RNN_SGRU_layer_4/rnn/rnn/multi_rnn_cell/cell_3/gru_cell/add_27:0\", shape=(?, 128), dtype=float32) / Weight= <tf.Variable 'adanet/iteration_4/subnetwork_t4_RNN_SGRU_layer_4/W:0' shape=(128, 10) dtype=float32_ref>\n",
      "\n",
      "***build_subnetwork() / RNN : logits shape= (?, 10)\n",
      "\n",
      "*** build_subnetwork() : last_layer= Tensor(\"adanet/iteration_4/subnetwork_t4_RNN_SGRU_layer_4/dense/BiasAdd:0\", shape=(?, 128), dtype=float32)\n",
      "WARNING:tensorflow:Using an `adanet.subnetwork.Builder#prune_previous_ensemble` is deprecated. Please use a custom `adanet.ensemble.Strategy` instead.\n"
     ]
    },
    {
     "name": "stderr",
     "output_type": "stream",
     "text": [
      "W0523 01:00:41.978023 139898093799232 tf_logging.py:161] Using an `adanet.subnetwork.Builder#prune_previous_ensemble` is deprecated. Please use a custom `adanet.ensemble.Strategy` instead.\n"
     ]
    },
    {
     "name": "stdout",
     "output_type": "stream",
     "text": [
      "INFO:tensorflow:*** _build_weighted_subnetwork_helper() : MixtureWeightType= vector\n"
     ]
    },
    {
     "name": "stderr",
     "output_type": "stream",
     "text": [
      "I0523 01:00:41.981913 139898093799232 weighted.py:391] *** _build_weighted_subnetwork_helper() : MixtureWeightType= vector\n"
     ]
    },
    {
     "name": "stdout",
     "output_type": "stream",
     "text": [
      "INFO:tensorflow:*** _build_weighted_subnetwork_helper() : MixtureWeightType= vector\n"
     ]
    },
    {
     "name": "stderr",
     "output_type": "stream",
     "text": [
      "I0523 01:00:41.988060 139898093799232 weighted.py:391] *** _build_weighted_subnetwork_helper() : MixtureWeightType= vector\n"
     ]
    },
    {
     "name": "stdout",
     "output_type": "stream",
     "text": [
      "INFO:tensorflow:*** _build_weighted_subnetwork_helper() : MixtureWeightType= vector\n"
     ]
    },
    {
     "name": "stderr",
     "output_type": "stream",
     "text": [
      "I0523 01:00:41.994781 139898093799232 weighted.py:391] *** _build_weighted_subnetwork_helper() : MixtureWeightType= vector\n"
     ]
    },
    {
     "name": "stdout",
     "output_type": "stream",
     "text": [
      "INFO:tensorflow:*** _build_weighted_subnetwork_helper() : MixtureWeightType= vector\n"
     ]
    },
    {
     "name": "stderr",
     "output_type": "stream",
     "text": [
      "I0523 01:00:42.000984 139898093799232 weighted.py:391] *** _build_weighted_subnetwork_helper() : MixtureWeightType= vector\n"
     ]
    },
    {
     "name": "stdout",
     "output_type": "stream",
     "text": [
      "INFO:tensorflow:*** _build_weighted_subnetwork_helper() : MixtureWeightType= vector\n"
     ]
    },
    {
     "name": "stderr",
     "output_type": "stream",
     "text": [
      "I0523 01:00:42.007307 139898093799232 weighted.py:391] *** _build_weighted_subnetwork_helper() : MixtureWeightType= vector\n"
     ]
    },
    {
     "name": "stdout",
     "output_type": "stream",
     "text": [
      "\n",
      "*** NNAdaNetBuilder : NN Type=RNN\n",
      "\n",
      "*** get_tf_head() : feature shape= (28, 28)\n",
      "\n",
      "*** get_tf_head() : feature columns= [NumericColumn(key='images', shape=(28, 28), default_value=None, dtype=tf.float32, normalizer_fn=None)]\n",
      "\n",
      "*** NNAdaNetBuilder : NN Type=RNN\n",
      "\n",
      "*** get_tf_head() : feature shape= (28, 28)\n",
      "\n",
      "*** get_tf_head() : feature columns= [NumericColumn(key='images', shape=(28, 28), default_value=None, dtype=tf.float32, normalizer_fn=None)]\n",
      "INFO:tensorflow:Building iteration 5\n"
     ]
    },
    {
     "name": "stderr",
     "output_type": "stream",
     "text": [
      "I0523 01:00:42.192786 139898093799232 iteration.py:250] Building iteration 5\n"
     ]
    },
    {
     "name": "stdout",
     "output_type": "stream",
     "text": [
      "INFO:tensorflow:Building subnetwork 'RNN_SGRU_layer_4'\n"
     ]
    },
    {
     "name": "stderr",
     "output_type": "stream",
     "text": [
      "I0523 01:00:42.218939 139898093799232 iteration.py:337] Building subnetwork 'RNN_SGRU_layer_4'\n"
     ]
    },
    {
     "name": "stdout",
     "output_type": "stream",
     "text": [
      "\n",
      "\n",
      "*** build_subnetwork() : features= {'images': <tf.Tensor 'IteratorGetNext:0' shape=(?, 28, 28) dtype=float32>}\n",
      "\n",
      "\n",
      "*** build_subnetwork() : self._feature_columns= [NumericColumn(key='images', shape=(28, 28), default_value=None, dtype=tf.float32, normalizer_fn=None)]\n",
      "\n",
      "\n",
      "*** build_subnetwork() : NN type= RNN / Input layer shape= (?, 784)\n",
      "\n",
      "*** _build_rnn_subnetwork() : output[-1]= Tensor(\"adanet/iteration_5/subnetwork_t5_RNN_SGRU_layer_4/rnn/rnn/multi_rnn_cell/cell_3/gru_cell/add_27:0\", shape=(?, 128), dtype=float32) / Weight= <tf.Variable 'adanet/iteration_5/subnetwork_t5_RNN_SGRU_layer_4/W:0' shape=(128, 10) dtype=float32_ref>\n",
      "\n",
      "***build_subnetwork() / RNN : logits shape= (?, 10)\n",
      "\n",
      "*** build_subnetwork() : last_layer= Tensor(\"adanet/iteration_5/subnetwork_t5_RNN_SGRU_layer_4/dense/BiasAdd:0\", shape=(?, 128), dtype=float32)\n",
      "INFO:tensorflow:Building subnetwork 'RNN_SGRU_layer_5'\n"
     ]
    },
    {
     "name": "stderr",
     "output_type": "stream",
     "text": [
      "I0523 01:00:43.198659 139898093799232 iteration.py:337] Building subnetwork 'RNN_SGRU_layer_5'\n"
     ]
    },
    {
     "name": "stdout",
     "output_type": "stream",
     "text": [
      "\n",
      "\n",
      "*** build_subnetwork() : features= {'images': <tf.Tensor 'IteratorGetNext:0' shape=(?, 28, 28) dtype=float32>}\n",
      "\n",
      "\n",
      "*** build_subnetwork() : self._feature_columns= [NumericColumn(key='images', shape=(28, 28), default_value=None, dtype=tf.float32, normalizer_fn=None)]\n",
      "\n",
      "\n",
      "*** build_subnetwork() : NN type= RNN / Input layer shape= (?, 784)\n",
      "\n",
      "*** _build_rnn_subnetwork() : output[-1]= Tensor(\"adanet/iteration_5/subnetwork_t5_RNN_SGRU_layer_5/rnn/rnn/multi_rnn_cell/cell_4/gru_cell/add_27:0\", shape=(?, 128), dtype=float32) / Weight= <tf.Variable 'adanet/iteration_5/subnetwork_t5_RNN_SGRU_layer_5/W:0' shape=(128, 10) dtype=float32_ref>\n",
      "\n",
      "***build_subnetwork() / RNN : logits shape= (?, 10)\n",
      "\n",
      "*** build_subnetwork() : last_layer= Tensor(\"adanet/iteration_5/subnetwork_t5_RNN_SGRU_layer_5/dense/BiasAdd:0\", shape=(?, 128), dtype=float32)\n",
      "WARNING:tensorflow:Using an `adanet.subnetwork.Builder#prune_previous_ensemble` is deprecated. Please use a custom `adanet.ensemble.Strategy` instead.\n"
     ]
    },
    {
     "name": "stderr",
     "output_type": "stream",
     "text": [
      "W0523 01:00:44.398082 139898093799232 tf_logging.py:161] Using an `adanet.subnetwork.Builder#prune_previous_ensemble` is deprecated. Please use a custom `adanet.ensemble.Strategy` instead.\n"
     ]
    },
    {
     "name": "stdout",
     "output_type": "stream",
     "text": [
      "INFO:tensorflow:*** _build_weighted_subnetwork_helper() : MixtureWeightType= vector\n"
     ]
    },
    {
     "name": "stderr",
     "output_type": "stream",
     "text": [
      "I0523 01:00:44.402036 139898093799232 weighted.py:391] *** _build_weighted_subnetwork_helper() : MixtureWeightType= vector\n"
     ]
    },
    {
     "name": "stdout",
     "output_type": "stream",
     "text": [
      "INFO:tensorflow:*** _build_weighted_subnetwork_helper() : MixtureWeightType= vector\n"
     ]
    },
    {
     "name": "stderr",
     "output_type": "stream",
     "text": [
      "I0523 01:00:44.408405 139898093799232 weighted.py:391] *** _build_weighted_subnetwork_helper() : MixtureWeightType= vector\n"
     ]
    },
    {
     "name": "stdout",
     "output_type": "stream",
     "text": [
      "INFO:tensorflow:*** _build_weighted_subnetwork_helper() : MixtureWeightType= vector\n"
     ]
    },
    {
     "name": "stderr",
     "output_type": "stream",
     "text": [
      "I0523 01:00:44.414568 139898093799232 weighted.py:391] *** _build_weighted_subnetwork_helper() : MixtureWeightType= vector\n"
     ]
    },
    {
     "name": "stdout",
     "output_type": "stream",
     "text": [
      "INFO:tensorflow:*** _build_weighted_subnetwork_helper() : MixtureWeightType= vector\n"
     ]
    },
    {
     "name": "stderr",
     "output_type": "stream",
     "text": [
      "I0523 01:00:44.420749 139898093799232 weighted.py:391] *** _build_weighted_subnetwork_helper() : MixtureWeightType= vector\n"
     ]
    },
    {
     "name": "stdout",
     "output_type": "stream",
     "text": [
      "INFO:tensorflow:*** _build_weighted_subnetwork_helper() : MixtureWeightType= vector\n"
     ]
    },
    {
     "name": "stderr",
     "output_type": "stream",
     "text": [
      "I0523 01:00:44.427391 139898093799232 weighted.py:391] *** _build_weighted_subnetwork_helper() : MixtureWeightType= vector\n"
     ]
    },
    {
     "name": "stdout",
     "output_type": "stream",
     "text": [
      "INFO:tensorflow:*** _build_weighted_subnetwork_helper() : MixtureWeightType= vector\n"
     ]
    },
    {
     "name": "stderr",
     "output_type": "stream",
     "text": [
      "I0523 01:00:44.433573 139898093799232 weighted.py:391] *** _build_weighted_subnetwork_helper() : MixtureWeightType= vector\n"
     ]
    },
    {
     "name": "stdout",
     "output_type": "stream",
     "text": [
      "WARNING:tensorflow:Using an `adanet.subnetwork.Builder#prune_previous_ensemble` is deprecated. Please use a custom `adanet.ensemble.Strategy` instead.\n"
     ]
    },
    {
     "name": "stderr",
     "output_type": "stream",
     "text": [
      "W0523 01:00:44.546597 139898093799232 tf_logging.py:161] Using an `adanet.subnetwork.Builder#prune_previous_ensemble` is deprecated. Please use a custom `adanet.ensemble.Strategy` instead.\n"
     ]
    },
    {
     "name": "stdout",
     "output_type": "stream",
     "text": [
      "INFO:tensorflow:*** _build_weighted_subnetwork_helper() : MixtureWeightType= vector\n"
     ]
    },
    {
     "name": "stderr",
     "output_type": "stream",
     "text": [
      "I0523 01:00:44.550539 139898093799232 weighted.py:391] *** _build_weighted_subnetwork_helper() : MixtureWeightType= vector\n"
     ]
    },
    {
     "name": "stdout",
     "output_type": "stream",
     "text": [
      "INFO:tensorflow:*** _build_weighted_subnetwork_helper() : MixtureWeightType= vector\n"
     ]
    },
    {
     "name": "stderr",
     "output_type": "stream",
     "text": [
      "I0523 01:00:44.556792 139898093799232 weighted.py:391] *** _build_weighted_subnetwork_helper() : MixtureWeightType= vector\n"
     ]
    },
    {
     "name": "stdout",
     "output_type": "stream",
     "text": [
      "INFO:tensorflow:*** _build_weighted_subnetwork_helper() : MixtureWeightType= vector\n"
     ]
    },
    {
     "name": "stderr",
     "output_type": "stream",
     "text": [
      "I0523 01:00:44.562889 139898093799232 weighted.py:391] *** _build_weighted_subnetwork_helper() : MixtureWeightType= vector\n"
     ]
    },
    {
     "name": "stdout",
     "output_type": "stream",
     "text": [
      "INFO:tensorflow:*** _build_weighted_subnetwork_helper() : MixtureWeightType= vector\n"
     ]
    },
    {
     "name": "stderr",
     "output_type": "stream",
     "text": [
      "I0523 01:00:44.569396 139898093799232 weighted.py:391] *** _build_weighted_subnetwork_helper() : MixtureWeightType= vector\n"
     ]
    },
    {
     "name": "stdout",
     "output_type": "stream",
     "text": [
      "INFO:tensorflow:*** _build_weighted_subnetwork_helper() : MixtureWeightType= vector\n"
     ]
    },
    {
     "name": "stderr",
     "output_type": "stream",
     "text": [
      "I0523 01:00:44.575647 139898093799232 weighted.py:391] *** _build_weighted_subnetwork_helper() : MixtureWeightType= vector\n"
     ]
    },
    {
     "name": "stdout",
     "output_type": "stream",
     "text": [
      "INFO:tensorflow:*** _build_weighted_subnetwork_helper() : MixtureWeightType= vector\n"
     ]
    },
    {
     "name": "stderr",
     "output_type": "stream",
     "text": [
      "I0523 01:00:44.581926 139898093799232 weighted.py:391] *** _build_weighted_subnetwork_helper() : MixtureWeightType= vector\n"
     ]
    },
    {
     "name": "stdout",
     "output_type": "stream",
     "text": [
      "INFO:tensorflow:Restoring parameters from ./tmp/adanet/SGRU/model.ckpt-42\n"
     ]
    },
    {
     "name": "stderr",
     "output_type": "stream",
     "text": [
      "I0523 01:00:45.599403 139898093799232 saver.py:1270] Restoring parameters from ./tmp/adanet/SGRU/model.ckpt-42\n"
     ]
    },
    {
     "name": "stdout",
     "output_type": "stream",
     "text": [
      "WARNING:tensorflow:`tf.train.start_queue_runners()` was called when no queue runners were defined. You can safely remove the call to this deprecated function.\n"
     ]
    },
    {
     "name": "stderr",
     "output_type": "stream",
     "text": [
      "W0523 01:00:46.092539 139898093799232 queue_runner_impl.py:471] `tf.train.start_queue_runners()` was called when no queue runners were defined. You can safely remove the call to this deprecated function.\n"
     ]
    },
    {
     "name": "stdout",
     "output_type": "stream",
     "text": [
      "\n",
      "*** generator() : labels shape= (55000,) / label values= 3\n",
      "\n",
      "*** generator() : labels shape= (55000,) / label values= 3\n",
      "\n",
      "*** generator() : labels shape= (55000,) / label values= 3\n",
      "\n",
      "*** generator() : labels shape= (55000,) / label values= 3\n",
      "\n",
      "*** generator() : labels shape= (55000,) / label values= 3\n",
      "\n",
      "*** generator() : labels shape= (55000,) / label values= 3\n",
      "\n",
      "*** generator() : labels shape= (55000,) / label values= 3\n",
      "\n",
      "*** generator() : labels shape= (55000,) / label values= 3\n",
      "\n",
      "*** generator() : labels shape= (55000,) / label values= 3\n",
      "\n",
      "*** generator() : labels shape= (55000,) / label values= 3\n",
      "\n",
      "*** generator() : labels shape= (55000,) / label values= 3\n",
      "\n",
      "*** generator() : labels shape= (55000,) / label values= 3\n",
      "\n",
      "*** generator() : labels shape= (55000,) / label values= 3\n",
      "\n",
      "*** generator() : labels shape= (55000,) / label values= 3\n",
      "\n",
      "*** generator() : labels shape= (55000,) / label values= 3\n",
      "\n",
      "*** generator() : labels shape= (55000,) / label values= 3\n",
      "\n",
      "*** generator() : labels shape= (55000,) / label values= 3\n",
      "\n",
      "*** generator() : labels shape= (55000,) / label values= 3\n",
      "\n",
      "*** generator() : labels shape= (55000,) / label values= 3\n",
      "\n",
      "*** generator() : labels shape= (55000,) / label values= 3\n",
      "\n",
      "*** generator() : labels shape= (55000,) / label values= 3\n",
      "\n",
      "*** generator() : labels shape= (55000,) / label values= 3\n",
      "\n",
      "*** generator() : labels shape= (55000,) / label values= 3\n",
      "\n",
      "*** generator() : labels shape= (55000,) / label values= 3\n",
      "\n",
      "*** generator() : labels shape= (55000,) / label values= 3\n",
      "\n",
      "*** generator() : labels shape= (55000,) / label values= 3\n",
      "\n",
      "*** generator() : labels shape= (55000,) / label values= 3\n",
      "\n",
      "*** generator() : labels shape= (55000,) / label values= 3\n",
      "\n",
      "*** generator() : labels shape= (55000,) / label values= 3\n",
      "\n",
      "*** generator() : labels shape= (55000,) / label values= 3\n",
      "\n",
      "*** generator() : labels shape= (55000,) / label values= 3\n",
      "\n",
      "*** generator() : labels shape= (55000,) / label values= 3\n",
      "\n",
      "*** generator() : labels shape= (55000,) / label values= 3\n",
      "\n",
      "*** generator() : labels shape= (55000,) / label values= 3\n",
      "\n",
      "*** generator() : labels shape= (55000,) / label values= 3\n",
      "\n",
      "*** generator() : labels shape= (55000,) / label values= 3\n",
      "\n",
      "*** generator() : labels shape= (55000,) / label values= 3\n",
      "\n",
      "*** generator() : labels shape= (55000,) / label values= 3\n",
      "\n",
      "*** generator() : labels shape= (55000,) / label values= 3\n",
      "\n",
      "*** generator() : labels shape= (55000,) / label values= 3\n",
      "\n",
      "*** generator() : labels shape= (55000,) / label values= 3\n",
      "\n",
      "*** generator() : labels shape= (55000,) / label values= 3\n",
      "\n",
      "*** generator() : labels shape= (55000,) / label values= 3\n",
      "\n",
      "*** generator() : labels shape= (55000,) / label values= 3\n",
      "\n",
      "*** generator() : labels shape= (55000,) / label values= 3\n",
      "\n",
      "*** generator() : labels shape= (55000,) / label values= 3\n",
      "\n",
      "*** generator() : labels shape= (55000,) / label values= 3\n",
      "\n",
      "*** generator() : labels shape= (55000,) / label values= 3\n",
      "\n",
      "*** generator() : labels shape= (55000,) / label values= 3\n",
      "\n",
      "*** generator() : labels shape= (55000,) / label values= 3\n",
      "\n",
      "*** generator() : labels shape= (55000,) / label values= 3\n",
      "\n",
      "*** generator() : labels shape= (55000,) / label values= 3\n",
      "\n",
      "*** generator() : labels shape= (55000,) / label values= 3\n",
      "\n",
      "*** generator() : labels shape= (55000,) / label values= 3\n",
      "\n",
      "*** generator() : labels shape= (55000,) / label values= 3\n",
      "\n",
      "*** generator() : labels shape= (55000,) / label values= 3\n",
      "\n",
      "*** generator() : labels shape= (55000,) / label values= 3\n",
      "\n",
      "*** generator() : labels shape= (55000,) / label values= 3\n",
      "\n",
      "*** generator() : labels shape= (55000,) / label values= 3\n",
      "\n",
      "*** generator() : labels shape= (55000,) / label values= 3\n",
      "\n",
      "*** generator() : labels shape= (55000,) / label values= 3\n",
      "\n",
      "*** generator() : labels shape= (55000,) / label values= 3\n",
      "\n",
      "*** generator() : labels shape= (55000,) / label values= 3\n",
      "\n",
      "*** generator() : labels shape= (55000,) / label values= 3\n",
      "\n",
      "*** generator() : labels shape= (55000,) / label values= 3\n",
      "\n",
      "*** generator() : labels shape= (55000,) / label values= 3\n",
      "\n",
      "*** generator() : labels shape= (55000,) / label values= 3\n",
      "\n",
      "*** generator() : labels shape= (55000,) / label values= 3\n",
      "\n",
      "*** generator() : labels shape= (55000,) / label values= 3\n",
      "\n",
      "*** generator() : labels shape= (55000,) / label values= 3\n",
      "\n",
      "*** generator() : labels shape= (55000,) / label values= 3\n",
      "\n",
      "*** generator() : labels shape= (55000,) / label values= 3\n",
      "\n",
      "*** generator() : labels shape= (55000,) / label values= 3\n",
      "\n",
      "*** generator() : labels shape= (55000,) / label values= 3\n",
      "\n",
      "*** generator() : labels shape= (55000,) / label values= 3\n",
      "\n",
      "*** generator() : labels shape= (55000,) / label values= 3\n",
      "\n",
      "*** generator() : labels shape= (55000,) / label values= 3\n",
      "\n",
      "*** generator() : labels shape= (55000,) / label values= 3\n",
      "\n",
      "*** generator() : labels shape= (55000,) / label values= 3\n",
      "\n",
      "*** generator() : labels shape= (55000,) / label values= 3\n",
      "\n",
      "*** generator() : labels shape= (55000,) / label values= 3\n",
      "\n",
      "*** generator() : labels shape= (55000,) / label values= 3\n",
      "\n",
      "*** generator() : labels shape= (55000,) / label values= 3\n",
      "\n",
      "*** generator() : labels shape= (55000,) / label values= 3\n",
      "\n",
      "*** generator() : labels shape= (55000,) / label values= 3\n",
      "\n",
      "*** generator() : labels shape= (55000,) / label values= 3\n",
      "\n",
      "*** generator() : labels shape= (55000,) / label values= 3\n",
      "\n",
      "*** generator() : labels shape= (55000,) / label values= 3\n",
      "\n",
      "*** generator() : labels shape= (55000,) / label values= 3\n",
      "\n",
      "*** generator() : labels shape= (55000,) / label values= 3\n",
      "\n",
      "*** generator() : labels shape= (55000,) / label values= 3\n",
      "\n",
      "*** generator() : labels shape= (55000,) / label values= 3\n",
      "\n",
      "*** generator() : labels shape= (55000,) / label values= 3\n",
      "\n",
      "*** generator() : labels shape= (55000,) / label values= 3\n",
      "\n",
      "*** generator() : labels shape= (55000,) / label values= 3\n",
      "\n",
      "*** generator() : labels shape= (55000,) / label values= 3\n",
      "\n",
      "*** generator() : labels shape= (55000,) / label values= 3\n",
      "\n",
      "*** generator() : labels shape= (55000,) / label values= 3\n",
      "\n",
      "*** generator() : labels shape= (55000,) / label values= 3\n",
      "\n",
      "*** generator() : labels shape= (55000,) / label values= 3\n",
      "INFO:tensorflow:Done calling model_fn.\n"
     ]
    },
    {
     "name": "stderr",
     "output_type": "stream",
     "text": [
      "I0523 02:42:21.749327 139898093799232 estimator.py:1113] Done calling model_fn.\n"
     ]
    },
    {
     "name": "stdout",
     "output_type": "stream",
     "text": [
      "INFO:tensorflow:Using config: {'_model_dir': './tmp/adanet/SGRU/temp_model_dir', '_tf_random_seed': 42, '_save_summary_steps': 100, '_save_checkpoints_steps': None, '_save_checkpoints_secs': 600, '_session_config': allow_soft_placement: true\n",
      "graph_options {\n",
      "  rewrite_options {\n",
      "    meta_optimizer_iterations: ONE\n",
      "  }\n",
      "}\n",
      ", '_keep_checkpoint_max': 5, '_keep_checkpoint_every_n_hours': 10000, '_log_step_count_steps': 100, '_train_distribute': None, '_device_fn': None, '_protocol': None, '_eval_distribute': None, '_experimental_distribute': None, '_service': None, '_cluster_spec': <tensorflow.python.training.server_lib.ClusterSpec object at 0x7f39c3a6efd0>, '_task_type': 'worker', '_task_id': 0, '_global_id_in_cluster': 0, '_master': '', '_evaluation_master': '', '_is_chief': True, '_num_ps_replicas': 0, '_num_worker_replicas': 1}\n"
     ]
    },
    {
     "name": "stderr",
     "output_type": "stream",
     "text": [
      "I0523 02:42:21.750479 139898093799232 estimator.py:201] Using config: {'_model_dir': './tmp/adanet/SGRU/temp_model_dir', '_tf_random_seed': 42, '_save_summary_steps': 100, '_save_checkpoints_steps': None, '_save_checkpoints_secs': 600, '_session_config': allow_soft_placement: true\n",
      "graph_options {\n",
      "  rewrite_options {\n",
      "    meta_optimizer_iterations: ONE\n",
      "  }\n",
      "}\n",
      ", '_keep_checkpoint_max': 5, '_keep_checkpoint_every_n_hours': 10000, '_log_step_count_steps': 100, '_train_distribute': None, '_device_fn': None, '_protocol': None, '_eval_distribute': None, '_experimental_distribute': None, '_service': None, '_cluster_spec': <tensorflow.python.training.server_lib.ClusterSpec object at 0x7f39c3a6efd0>, '_task_type': 'worker', '_task_id': 0, '_global_id_in_cluster': 0, '_master': '', '_evaluation_master': '', '_is_chief': True, '_num_ps_replicas': 0, '_num_worker_replicas': 1}\n"
     ]
    },
    {
     "name": "stdout",
     "output_type": "stream",
     "text": [
      "\n",
      "*** input_fn() : feature_shape= (28, 28) / label_shape= [1]\n",
      "\n",
      "*** preprocess_image() : image shape= (28, 28)\n",
      "\n",
      "*** preprocess_image() : features= {'images': <tf.Tensor 'arg0:0' shape=(28, 28) dtype=float32>} / label shape= ()\n",
      "\n",
      "***_input_fn() : Label shape =[1]\n",
      "INFO:tensorflow:Calling model_fn.\n"
     ]
    },
    {
     "name": "stderr",
     "output_type": "stream",
     "text": [
      "I0523 02:42:22.005481 139898093799232 estimator.py:1111] Calling model_fn.\n"
     ]
    },
    {
     "name": "stdout",
     "output_type": "stream",
     "text": [
      "\n",
      "*** NNAdaNetBuilder : NN Type=RNN\n",
      "\n",
      "*** get_tf_head() : feature shape= (28, 28)\n",
      "\n",
      "*** get_tf_head() : feature columns= [NumericColumn(key='images', shape=(28, 28), default_value=None, dtype=tf.float32, normalizer_fn=None)]\n",
      "\n",
      "*** NNAdaNetBuilder : NN Type=RNN\n",
      "\n",
      "*** get_tf_head() : feature shape= (28, 28)\n",
      "\n",
      "*** get_tf_head() : feature columns= [NumericColumn(key='images', shape=(28, 28), default_value=None, dtype=tf.float32, normalizer_fn=None)]\n",
      "INFO:tensorflow:Rebuilding iteration 0\n"
     ]
    },
    {
     "name": "stderr",
     "output_type": "stream",
     "text": [
      "I0523 02:42:22.009180 139898093799232 iteration.py:250] Rebuilding iteration 0\n"
     ]
    },
    {
     "name": "stdout",
     "output_type": "stream",
     "text": [
      "INFO:tensorflow:Rebuilding subnetwork 'RNN_SGRU_layer_2'\n"
     ]
    },
    {
     "name": "stderr",
     "output_type": "stream",
     "text": [
      "I0523 02:42:22.014000 139898093799232 iteration.py:337] Rebuilding subnetwork 'RNN_SGRU_layer_2'\n"
     ]
    },
    {
     "name": "stdout",
     "output_type": "stream",
     "text": [
      "\n",
      "\n",
      "*** build_subnetwork() : features= {'images': <tf.Tensor 'IteratorGetNext:0' shape=(?, 28, 28) dtype=float32>}\n",
      "\n",
      "\n",
      "*** build_subnetwork() : self._feature_columns= [NumericColumn(key='images', shape=(28, 28), default_value=None, dtype=tf.float32, normalizer_fn=None)]\n",
      "\n",
      "\n",
      "*** build_subnetwork() : NN type= RNN / Input layer shape= (?, 784)\n",
      "\n",
      "*** _build_rnn_subnetwork() : output[-1]= Tensor(\"adanet/iteration_0/subnetwork_t0_RNN_SGRU_layer_2/rnn/rnn/multi_rnn_cell/cell_1/gru_cell/add_27:0\", shape=(?, 128), dtype=float32) / Weight= <tf.Variable 'adanet/iteration_0/subnetwork_t0_RNN_SGRU_layer_2/W:0' shape=(128, 10) dtype=float32_ref>\n",
      "\n",
      "***build_subnetwork() / RNN : logits shape= (?, 10)\n",
      "\n",
      "*** build_subnetwork() : last_layer= Tensor(\"adanet/iteration_0/subnetwork_t0_RNN_SGRU_layer_2/dense/BiasAdd:0\", shape=(?, 128), dtype=float32)\n",
      "INFO:tensorflow:*** _build_weighted_subnetwork_helper() : MixtureWeightType= vector\n"
     ]
    },
    {
     "name": "stderr",
     "output_type": "stream",
     "text": [
      "I0523 02:42:22.615145 139898093799232 weighted.py:391] *** _build_weighted_subnetwork_helper() : MixtureWeightType= vector\n"
     ]
    },
    {
     "name": "stdout",
     "output_type": "stream",
     "text": [
      "\n",
      "*** NNAdaNetBuilder : NN Type=RNN\n",
      "\n",
      "*** get_tf_head() : feature shape= (28, 28)\n",
      "\n",
      "*** get_tf_head() : feature columns= [NumericColumn(key='images', shape=(28, 28), default_value=None, dtype=tf.float32, normalizer_fn=None)]\n",
      "\n",
      "*** NNAdaNetBuilder : NN Type=RNN\n",
      "\n",
      "*** get_tf_head() : feature shape= (28, 28)\n",
      "\n",
      "*** get_tf_head() : feature columns= [NumericColumn(key='images', shape=(28, 28), default_value=None, dtype=tf.float32, normalizer_fn=None)]\n",
      "INFO:tensorflow:Rebuilding iteration 1\n"
     ]
    },
    {
     "name": "stderr",
     "output_type": "stream",
     "text": [
      "I0523 02:42:22.730943 139898093799232 iteration.py:250] Rebuilding iteration 1\n"
     ]
    },
    {
     "name": "stdout",
     "output_type": "stream",
     "text": [
      "INFO:tensorflow:Rebuilding subnetwork 'RNN_SGRU_layer_3'\n"
     ]
    },
    {
     "name": "stderr",
     "output_type": "stream",
     "text": [
      "I0523 02:42:22.751652 139898093799232 iteration.py:337] Rebuilding subnetwork 'RNN_SGRU_layer_3'\n"
     ]
    },
    {
     "name": "stdout",
     "output_type": "stream",
     "text": [
      "\n",
      "\n",
      "*** build_subnetwork() : features= {'images': <tf.Tensor 'IteratorGetNext:0' shape=(?, 28, 28) dtype=float32>}\n",
      "\n",
      "\n",
      "*** build_subnetwork() : self._feature_columns= [NumericColumn(key='images', shape=(28, 28), default_value=None, dtype=tf.float32, normalizer_fn=None)]\n",
      "\n",
      "\n",
      "*** build_subnetwork() : NN type= RNN / Input layer shape= (?, 784)\n",
      "\n",
      "*** _build_rnn_subnetwork() : output[-1]= Tensor(\"adanet/iteration_1/subnetwork_t1_RNN_SGRU_layer_3/rnn/rnn/multi_rnn_cell/cell_2/gru_cell/add_27:0\", shape=(?, 128), dtype=float32) / Weight= <tf.Variable 'adanet/iteration_1/subnetwork_t1_RNN_SGRU_layer_3/W:0' shape=(128, 10) dtype=float32_ref>\n",
      "\n",
      "***build_subnetwork() / RNN : logits shape= (?, 10)\n",
      "\n",
      "*** build_subnetwork() : last_layer= Tensor(\"adanet/iteration_1/subnetwork_t1_RNN_SGRU_layer_3/dense/BiasAdd:0\", shape=(?, 128), dtype=float32)\n",
      "WARNING:tensorflow:Using an `adanet.subnetwork.Builder#prune_previous_ensemble` is deprecated. Please use a custom `adanet.ensemble.Strategy` instead.\n"
     ]
    },
    {
     "name": "stderr",
     "output_type": "stream",
     "text": [
      "W0523 02:42:23.590822 139898093799232 tf_logging.py:161] Using an `adanet.subnetwork.Builder#prune_previous_ensemble` is deprecated. Please use a custom `adanet.ensemble.Strategy` instead.\n"
     ]
    },
    {
     "name": "stdout",
     "output_type": "stream",
     "text": [
      "INFO:tensorflow:*** _build_weighted_subnetwork_helper() : MixtureWeightType= vector\n"
     ]
    },
    {
     "name": "stderr",
     "output_type": "stream",
     "text": [
      "I0523 02:42:23.594427 139898093799232 weighted.py:391] *** _build_weighted_subnetwork_helper() : MixtureWeightType= vector\n"
     ]
    },
    {
     "name": "stdout",
     "output_type": "stream",
     "text": [
      "INFO:tensorflow:*** _build_weighted_subnetwork_helper() : MixtureWeightType= vector\n"
     ]
    },
    {
     "name": "stderr",
     "output_type": "stream",
     "text": [
      "I0523 02:42:23.600814 139898093799232 weighted.py:391] *** _build_weighted_subnetwork_helper() : MixtureWeightType= vector\n"
     ]
    },
    {
     "name": "stdout",
     "output_type": "stream",
     "text": [
      "\n",
      "*** NNAdaNetBuilder : NN Type=RNN\n",
      "\n",
      "*** get_tf_head() : feature shape= (28, 28)\n",
      "\n",
      "*** get_tf_head() : feature columns= [NumericColumn(key='images', shape=(28, 28), default_value=None, dtype=tf.float32, normalizer_fn=None)]\n",
      "\n",
      "*** NNAdaNetBuilder : NN Type=RNN\n",
      "\n",
      "*** get_tf_head() : feature shape= (28, 28)\n",
      "\n",
      "*** get_tf_head() : feature columns= [NumericColumn(key='images', shape=(28, 28), default_value=None, dtype=tf.float32, normalizer_fn=None)]\n",
      "INFO:tensorflow:Rebuilding iteration 2\n"
     ]
    },
    {
     "name": "stderr",
     "output_type": "stream",
     "text": [
      "I0523 02:42:23.741703 139898093799232 iteration.py:250] Rebuilding iteration 2\n"
     ]
    },
    {
     "name": "stdout",
     "output_type": "stream",
     "text": [
      "INFO:tensorflow:Rebuilding subnetwork 'RNN_SGRU_layer_4'\n"
     ]
    },
    {
     "name": "stderr",
     "output_type": "stream",
     "text": [
      "I0523 02:42:23.762371 139898093799232 iteration.py:337] Rebuilding subnetwork 'RNN_SGRU_layer_4'\n"
     ]
    },
    {
     "name": "stdout",
     "output_type": "stream",
     "text": [
      "\n",
      "\n",
      "*** build_subnetwork() : features= {'images': <tf.Tensor 'IteratorGetNext:0' shape=(?, 28, 28) dtype=float32>}\n",
      "\n",
      "\n",
      "*** build_subnetwork() : self._feature_columns= [NumericColumn(key='images', shape=(28, 28), default_value=None, dtype=tf.float32, normalizer_fn=None)]\n",
      "\n",
      "\n",
      "*** build_subnetwork() : NN type= RNN / Input layer shape= (?, 784)\n",
      "\n",
      "*** _build_rnn_subnetwork() : output[-1]= Tensor(\"adanet/iteration_2/subnetwork_t2_RNN_SGRU_layer_4/rnn/rnn/multi_rnn_cell/cell_3/gru_cell/add_27:0\", shape=(?, 128), dtype=float32) / Weight= <tf.Variable 'adanet/iteration_2/subnetwork_t2_RNN_SGRU_layer_4/W:0' shape=(128, 10) dtype=float32_ref>\n",
      "\n",
      "***build_subnetwork() / RNN : logits shape= (?, 10)\n",
      "\n",
      "*** build_subnetwork() : last_layer= Tensor(\"adanet/iteration_2/subnetwork_t2_RNN_SGRU_layer_4/dense/BiasAdd:0\", shape=(?, 128), dtype=float32)\n",
      "WARNING:tensorflow:Using an `adanet.subnetwork.Builder#prune_previous_ensemble` is deprecated. Please use a custom `adanet.ensemble.Strategy` instead.\n"
     ]
    },
    {
     "name": "stderr",
     "output_type": "stream",
     "text": [
      "W0523 02:42:24.840282 139898093799232 tf_logging.py:161] Using an `adanet.subnetwork.Builder#prune_previous_ensemble` is deprecated. Please use a custom `adanet.ensemble.Strategy` instead.\n"
     ]
    },
    {
     "name": "stdout",
     "output_type": "stream",
     "text": [
      "INFO:tensorflow:*** _build_weighted_subnetwork_helper() : MixtureWeightType= vector\n"
     ]
    },
    {
     "name": "stderr",
     "output_type": "stream",
     "text": [
      "I0523 02:42:24.843873 139898093799232 weighted.py:391] *** _build_weighted_subnetwork_helper() : MixtureWeightType= vector\n"
     ]
    },
    {
     "name": "stdout",
     "output_type": "stream",
     "text": [
      "INFO:tensorflow:*** _build_weighted_subnetwork_helper() : MixtureWeightType= vector\n"
     ]
    },
    {
     "name": "stderr",
     "output_type": "stream",
     "text": [
      "I0523 02:42:24.850791 139898093799232 weighted.py:391] *** _build_weighted_subnetwork_helper() : MixtureWeightType= vector\n"
     ]
    },
    {
     "name": "stdout",
     "output_type": "stream",
     "text": [
      "INFO:tensorflow:*** _build_weighted_subnetwork_helper() : MixtureWeightType= vector\n"
     ]
    },
    {
     "name": "stderr",
     "output_type": "stream",
     "text": [
      "I0523 02:42:24.857025 139898093799232 weighted.py:391] *** _build_weighted_subnetwork_helper() : MixtureWeightType= vector\n"
     ]
    },
    {
     "name": "stdout",
     "output_type": "stream",
     "text": [
      "\n",
      "*** NNAdaNetBuilder : NN Type=RNN\n",
      "\n",
      "*** get_tf_head() : feature shape= (28, 28)\n",
      "\n",
      "*** get_tf_head() : feature columns= [NumericColumn(key='images', shape=(28, 28), default_value=None, dtype=tf.float32, normalizer_fn=None)]\n",
      "\n",
      "*** NNAdaNetBuilder : NN Type=RNN\n",
      "\n",
      "*** get_tf_head() : feature shape= (28, 28)\n",
      "\n",
      "*** get_tf_head() : feature columns= [NumericColumn(key='images', shape=(28, 28), default_value=None, dtype=tf.float32, normalizer_fn=None)]\n",
      "INFO:tensorflow:Rebuilding iteration 3\n"
     ]
    },
    {
     "name": "stderr",
     "output_type": "stream",
     "text": [
      "I0523 02:42:25.001725 139898093799232 iteration.py:250] Rebuilding iteration 3\n"
     ]
    },
    {
     "name": "stdout",
     "output_type": "stream",
     "text": [
      "INFO:tensorflow:Rebuilding subnetwork 'RNN_SGRU_layer_4'\n"
     ]
    },
    {
     "name": "stderr",
     "output_type": "stream",
     "text": [
      "I0523 02:42:25.023070 139898093799232 iteration.py:337] Rebuilding subnetwork 'RNN_SGRU_layer_4'\n"
     ]
    },
    {
     "name": "stdout",
     "output_type": "stream",
     "text": [
      "\n",
      "\n",
      "*** build_subnetwork() : features= {'images': <tf.Tensor 'IteratorGetNext:0' shape=(?, 28, 28) dtype=float32>}\n",
      "\n",
      "\n",
      "*** build_subnetwork() : self._feature_columns= [NumericColumn(key='images', shape=(28, 28), default_value=None, dtype=tf.float32, normalizer_fn=None)]\n",
      "\n",
      "\n",
      "*** build_subnetwork() : NN type= RNN / Input layer shape= (?, 784)\n",
      "\n",
      "*** _build_rnn_subnetwork() : output[-1]= Tensor(\"adanet/iteration_3/subnetwork_t3_RNN_SGRU_layer_4/rnn/rnn/multi_rnn_cell/cell_3/gru_cell/add_27:0\", shape=(?, 128), dtype=float32) / Weight= <tf.Variable 'adanet/iteration_3/subnetwork_t3_RNN_SGRU_layer_4/W:0' shape=(128, 10) dtype=float32_ref>\n",
      "\n",
      "***build_subnetwork() / RNN : logits shape= (?, 10)\n",
      "\n",
      "*** build_subnetwork() : last_layer= Tensor(\"adanet/iteration_3/subnetwork_t3_RNN_SGRU_layer_4/dense/BiasAdd:0\", shape=(?, 128), dtype=float32)\n",
      "WARNING:tensorflow:Using an `adanet.subnetwork.Builder#prune_previous_ensemble` is deprecated. Please use a custom `adanet.ensemble.Strategy` instead.\n"
     ]
    },
    {
     "name": "stderr",
     "output_type": "stream",
     "text": [
      "W0523 02:42:26.105950 139898093799232 tf_logging.py:161] Using an `adanet.subnetwork.Builder#prune_previous_ensemble` is deprecated. Please use a custom `adanet.ensemble.Strategy` instead.\n"
     ]
    },
    {
     "name": "stdout",
     "output_type": "stream",
     "text": [
      "INFO:tensorflow:*** _build_weighted_subnetwork_helper() : MixtureWeightType= vector\n"
     ]
    },
    {
     "name": "stderr",
     "output_type": "stream",
     "text": [
      "I0523 02:42:26.110049 139898093799232 weighted.py:391] *** _build_weighted_subnetwork_helper() : MixtureWeightType= vector\n"
     ]
    },
    {
     "name": "stdout",
     "output_type": "stream",
     "text": [
      "INFO:tensorflow:*** _build_weighted_subnetwork_helper() : MixtureWeightType= vector\n"
     ]
    },
    {
     "name": "stderr",
     "output_type": "stream",
     "text": [
      "I0523 02:42:26.116438 139898093799232 weighted.py:391] *** _build_weighted_subnetwork_helper() : MixtureWeightType= vector\n"
     ]
    },
    {
     "name": "stdout",
     "output_type": "stream",
     "text": [
      "INFO:tensorflow:*** _build_weighted_subnetwork_helper() : MixtureWeightType= vector\n"
     ]
    },
    {
     "name": "stderr",
     "output_type": "stream",
     "text": [
      "I0523 02:42:26.122781 139898093799232 weighted.py:391] *** _build_weighted_subnetwork_helper() : MixtureWeightType= vector\n"
     ]
    },
    {
     "name": "stdout",
     "output_type": "stream",
     "text": [
      "INFO:tensorflow:*** _build_weighted_subnetwork_helper() : MixtureWeightType= vector\n"
     ]
    },
    {
     "name": "stderr",
     "output_type": "stream",
     "text": [
      "I0523 02:42:26.129251 139898093799232 weighted.py:391] *** _build_weighted_subnetwork_helper() : MixtureWeightType= vector\n"
     ]
    },
    {
     "name": "stdout",
     "output_type": "stream",
     "text": [
      "\n",
      "*** NNAdaNetBuilder : NN Type=RNN\n",
      "\n",
      "*** get_tf_head() : feature shape= (28, 28)\n",
      "\n",
      "*** get_tf_head() : feature columns= [NumericColumn(key='images', shape=(28, 28), default_value=None, dtype=tf.float32, normalizer_fn=None)]\n",
      "\n",
      "*** NNAdaNetBuilder : NN Type=RNN\n",
      "\n",
      "*** get_tf_head() : feature shape= (28, 28)\n",
      "\n",
      "*** get_tf_head() : feature columns= [NumericColumn(key='images', shape=(28, 28), default_value=None, dtype=tf.float32, normalizer_fn=None)]\n",
      "INFO:tensorflow:Rebuilding iteration 4\n"
     ]
    },
    {
     "name": "stderr",
     "output_type": "stream",
     "text": [
      "I0523 02:42:26.280363 139898093799232 iteration.py:250] Rebuilding iteration 4\n"
     ]
    },
    {
     "name": "stdout",
     "output_type": "stream",
     "text": [
      "INFO:tensorflow:Rebuilding subnetwork 'RNN_SGRU_layer_4'\n"
     ]
    },
    {
     "name": "stderr",
     "output_type": "stream",
     "text": [
      "I0523 02:42:26.301002 139898093799232 iteration.py:337] Rebuilding subnetwork 'RNN_SGRU_layer_4'\n"
     ]
    },
    {
     "name": "stdout",
     "output_type": "stream",
     "text": [
      "\n",
      "\n",
      "*** build_subnetwork() : features= {'images': <tf.Tensor 'IteratorGetNext:0' shape=(?, 28, 28) dtype=float32>}\n",
      "\n",
      "\n",
      "*** build_subnetwork() : self._feature_columns= [NumericColumn(key='images', shape=(28, 28), default_value=None, dtype=tf.float32, normalizer_fn=None)]\n",
      "\n",
      "\n",
      "*** build_subnetwork() : NN type= RNN / Input layer shape= (?, 784)\n",
      "\n",
      "*** _build_rnn_subnetwork() : output[-1]= Tensor(\"adanet/iteration_4/subnetwork_t4_RNN_SGRU_layer_4/rnn/rnn/multi_rnn_cell/cell_3/gru_cell/add_27:0\", shape=(?, 128), dtype=float32) / Weight= <tf.Variable 'adanet/iteration_4/subnetwork_t4_RNN_SGRU_layer_4/W:0' shape=(128, 10) dtype=float32_ref>\n",
      "\n",
      "***build_subnetwork() / RNN : logits shape= (?, 10)\n",
      "\n",
      "*** build_subnetwork() : last_layer= Tensor(\"adanet/iteration_4/subnetwork_t4_RNN_SGRU_layer_4/dense/BiasAdd:0\", shape=(?, 128), dtype=float32)\n",
      "WARNING:tensorflow:Using an `adanet.subnetwork.Builder#prune_previous_ensemble` is deprecated. Please use a custom `adanet.ensemble.Strategy` instead.\n"
     ]
    },
    {
     "name": "stderr",
     "output_type": "stream",
     "text": [
      "W0523 02:42:27.377623 139898093799232 tf_logging.py:161] Using an `adanet.subnetwork.Builder#prune_previous_ensemble` is deprecated. Please use a custom `adanet.ensemble.Strategy` instead.\n"
     ]
    },
    {
     "name": "stdout",
     "output_type": "stream",
     "text": [
      "INFO:tensorflow:*** _build_weighted_subnetwork_helper() : MixtureWeightType= vector\n"
     ]
    },
    {
     "name": "stderr",
     "output_type": "stream",
     "text": [
      "I0523 02:42:27.381408 139898093799232 weighted.py:391] *** _build_weighted_subnetwork_helper() : MixtureWeightType= vector\n"
     ]
    },
    {
     "name": "stdout",
     "output_type": "stream",
     "text": [
      "INFO:tensorflow:*** _build_weighted_subnetwork_helper() : MixtureWeightType= vector\n"
     ]
    },
    {
     "name": "stderr",
     "output_type": "stream",
     "text": [
      "I0523 02:42:27.387649 139898093799232 weighted.py:391] *** _build_weighted_subnetwork_helper() : MixtureWeightType= vector\n"
     ]
    },
    {
     "name": "stdout",
     "output_type": "stream",
     "text": [
      "INFO:tensorflow:*** _build_weighted_subnetwork_helper() : MixtureWeightType= vector\n"
     ]
    },
    {
     "name": "stderr",
     "output_type": "stream",
     "text": [
      "I0523 02:42:27.393963 139898093799232 weighted.py:391] *** _build_weighted_subnetwork_helper() : MixtureWeightType= vector\n"
     ]
    },
    {
     "name": "stdout",
     "output_type": "stream",
     "text": [
      "INFO:tensorflow:*** _build_weighted_subnetwork_helper() : MixtureWeightType= vector\n"
     ]
    },
    {
     "name": "stderr",
     "output_type": "stream",
     "text": [
      "I0523 02:42:27.400321 139898093799232 weighted.py:391] *** _build_weighted_subnetwork_helper() : MixtureWeightType= vector\n"
     ]
    },
    {
     "name": "stdout",
     "output_type": "stream",
     "text": [
      "INFO:tensorflow:*** _build_weighted_subnetwork_helper() : MixtureWeightType= vector\n"
     ]
    },
    {
     "name": "stderr",
     "output_type": "stream",
     "text": [
      "I0523 02:42:27.407102 139898093799232 weighted.py:391] *** _build_weighted_subnetwork_helper() : MixtureWeightType= vector\n"
     ]
    },
    {
     "name": "stdout",
     "output_type": "stream",
     "text": [
      "\n",
      "*** NNAdaNetBuilder : NN Type=RNN\n",
      "\n",
      "*** get_tf_head() : feature shape= (28, 28)\n",
      "\n",
      "*** get_tf_head() : feature columns= [NumericColumn(key='images', shape=(28, 28), default_value=None, dtype=tf.float32, normalizer_fn=None)]\n",
      "\n",
      "*** NNAdaNetBuilder : NN Type=RNN\n",
      "\n",
      "*** get_tf_head() : feature shape= (28, 28)\n",
      "\n",
      "*** get_tf_head() : feature columns= [NumericColumn(key='images', shape=(28, 28), default_value=None, dtype=tf.float32, normalizer_fn=None)]\n",
      "INFO:tensorflow:Rebuilding iteration 5\n"
     ]
    },
    {
     "name": "stderr",
     "output_type": "stream",
     "text": [
      "I0523 02:42:27.562159 139898093799232 iteration.py:250] Rebuilding iteration 5\n"
     ]
    },
    {
     "name": "stdout",
     "output_type": "stream",
     "text": [
      "INFO:tensorflow:Rebuilding subnetwork 'RNN_SGRU_layer_4'\n"
     ]
    },
    {
     "name": "stderr",
     "output_type": "stream",
     "text": [
      "I0523 02:42:27.583295 139898093799232 iteration.py:337] Rebuilding subnetwork 'RNN_SGRU_layer_4'\n"
     ]
    },
    {
     "name": "stdout",
     "output_type": "stream",
     "text": [
      "\n",
      "\n",
      "*** build_subnetwork() : features= {'images': <tf.Tensor 'IteratorGetNext:0' shape=(?, 28, 28) dtype=float32>}\n",
      "\n",
      "\n",
      "*** build_subnetwork() : self._feature_columns= [NumericColumn(key='images', shape=(28, 28), default_value=None, dtype=tf.float32, normalizer_fn=None)]\n",
      "\n",
      "\n",
      "*** build_subnetwork() : NN type= RNN / Input layer shape= (?, 784)\n",
      "\n",
      "*** _build_rnn_subnetwork() : output[-1]= Tensor(\"adanet/iteration_5/subnetwork_t5_RNN_SGRU_layer_4/rnn/rnn/multi_rnn_cell/cell_3/gru_cell/add_27:0\", shape=(?, 128), dtype=float32) / Weight= <tf.Variable 'adanet/iteration_5/subnetwork_t5_RNN_SGRU_layer_4/W:0' shape=(128, 10) dtype=float32_ref>\n",
      "\n",
      "***build_subnetwork() / RNN : logits shape= (?, 10)\n",
      "\n",
      "*** build_subnetwork() : last_layer= Tensor(\"adanet/iteration_5/subnetwork_t5_RNN_SGRU_layer_4/dense/BiasAdd:0\", shape=(?, 128), dtype=float32)\n",
      "WARNING:tensorflow:Using an `adanet.subnetwork.Builder#prune_previous_ensemble` is deprecated. Please use a custom `adanet.ensemble.Strategy` instead.\n"
     ]
    },
    {
     "name": "stderr",
     "output_type": "stream",
     "text": [
      "W0523 02:42:28.757656 139898093799232 tf_logging.py:161] Using an `adanet.subnetwork.Builder#prune_previous_ensemble` is deprecated. Please use a custom `adanet.ensemble.Strategy` instead.\n"
     ]
    },
    {
     "name": "stdout",
     "output_type": "stream",
     "text": [
      "INFO:tensorflow:*** _build_weighted_subnetwork_helper() : MixtureWeightType= vector\n"
     ]
    },
    {
     "name": "stderr",
     "output_type": "stream",
     "text": [
      "I0523 02:42:28.761769 139898093799232 weighted.py:391] *** _build_weighted_subnetwork_helper() : MixtureWeightType= vector\n"
     ]
    },
    {
     "name": "stdout",
     "output_type": "stream",
     "text": [
      "INFO:tensorflow:*** _build_weighted_subnetwork_helper() : MixtureWeightType= vector\n"
     ]
    },
    {
     "name": "stderr",
     "output_type": "stream",
     "text": [
      "I0523 02:42:28.768887 139898093799232 weighted.py:391] *** _build_weighted_subnetwork_helper() : MixtureWeightType= vector\n"
     ]
    },
    {
     "name": "stdout",
     "output_type": "stream",
     "text": [
      "INFO:tensorflow:*** _build_weighted_subnetwork_helper() : MixtureWeightType= vector\n"
     ]
    },
    {
     "name": "stderr",
     "output_type": "stream",
     "text": [
      "I0523 02:42:28.775471 139898093799232 weighted.py:391] *** _build_weighted_subnetwork_helper() : MixtureWeightType= vector\n"
     ]
    },
    {
     "name": "stdout",
     "output_type": "stream",
     "text": [
      "INFO:tensorflow:*** _build_weighted_subnetwork_helper() : MixtureWeightType= vector\n"
     ]
    },
    {
     "name": "stderr",
     "output_type": "stream",
     "text": [
      "I0523 02:42:28.783266 139898093799232 weighted.py:391] *** _build_weighted_subnetwork_helper() : MixtureWeightType= vector\n"
     ]
    },
    {
     "name": "stdout",
     "output_type": "stream",
     "text": [
      "INFO:tensorflow:*** _build_weighted_subnetwork_helper() : MixtureWeightType= vector\n"
     ]
    },
    {
     "name": "stderr",
     "output_type": "stream",
     "text": [
      "I0523 02:42:28.790146 139898093799232 weighted.py:391] *** _build_weighted_subnetwork_helper() : MixtureWeightType= vector\n"
     ]
    },
    {
     "name": "stdout",
     "output_type": "stream",
     "text": [
      "INFO:tensorflow:*** _build_weighted_subnetwork_helper() : MixtureWeightType= vector\n"
     ]
    },
    {
     "name": "stderr",
     "output_type": "stream",
     "text": [
      "I0523 02:42:28.797070 139898093799232 weighted.py:391] *** _build_weighted_subnetwork_helper() : MixtureWeightType= vector\n"
     ]
    },
    {
     "name": "stdout",
     "output_type": "stream",
     "text": [
      "\n",
      "*** NNAdaNetBuilder : NN Type=RNN\n",
      "\n",
      "*** get_tf_head() : feature shape= (28, 28)\n",
      "\n",
      "*** get_tf_head() : feature columns= [NumericColumn(key='images', shape=(28, 28), default_value=None, dtype=tf.float32, normalizer_fn=None)]\n",
      "\n",
      "*** NNAdaNetBuilder : NN Type=RNN\n",
      "\n",
      "*** get_tf_head() : feature shape= (28, 28)\n",
      "\n",
      "*** get_tf_head() : feature columns= [NumericColumn(key='images', shape=(28, 28), default_value=None, dtype=tf.float32, normalizer_fn=None)]\n",
      "INFO:tensorflow:Building iteration 6\n"
     ]
    },
    {
     "name": "stderr",
     "output_type": "stream",
     "text": [
      "I0523 02:42:28.962202 139898093799232 iteration.py:250] Building iteration 6\n"
     ]
    },
    {
     "name": "stdout",
     "output_type": "stream",
     "text": [
      "INFO:tensorflow:Building subnetwork 'RNN_SGRU_layer_4'\n"
     ]
    },
    {
     "name": "stderr",
     "output_type": "stream",
     "text": [
      "I0523 02:42:28.985275 139898093799232 iteration.py:337] Building subnetwork 'RNN_SGRU_layer_4'\n"
     ]
    },
    {
     "name": "stdout",
     "output_type": "stream",
     "text": [
      "\n",
      "\n",
      "*** build_subnetwork() : features= {'images': <tf.Tensor 'IteratorGetNext:0' shape=(?, 28, 28) dtype=float32>}\n",
      "\n",
      "\n",
      "*** build_subnetwork() : self._feature_columns= [NumericColumn(key='images', shape=(28, 28), default_value=None, dtype=tf.float32, normalizer_fn=None)]\n",
      "\n",
      "\n",
      "*** build_subnetwork() : NN type= RNN / Input layer shape= (?, 784)\n",
      "\n",
      "*** _build_rnn_subnetwork() : output[-1]= Tensor(\"adanet/iteration_6/subnetwork_t6_RNN_SGRU_layer_4/rnn/rnn/multi_rnn_cell/cell_3/gru_cell/add_27:0\", shape=(?, 128), dtype=float32) / Weight= <tf.Variable 'adanet/iteration_6/subnetwork_t6_RNN_SGRU_layer_4/W:0' shape=(128, 10) dtype=float32_ref>\n",
      "\n",
      "***build_subnetwork() / RNN : logits shape= (?, 10)\n",
      "\n",
      "*** build_subnetwork() : last_layer= Tensor(\"adanet/iteration_6/subnetwork_t6_RNN_SGRU_layer_4/dense/BiasAdd:0\", shape=(?, 128), dtype=float32)\n",
      "INFO:tensorflow:Building subnetwork 'RNN_SGRU_layer_5'\n"
     ]
    },
    {
     "name": "stderr",
     "output_type": "stream",
     "text": [
      "I0523 02:42:36.005125 139898093799232 iteration.py:337] Building subnetwork 'RNN_SGRU_layer_5'\n"
     ]
    },
    {
     "name": "stdout",
     "output_type": "stream",
     "text": [
      "\n",
      "\n",
      "*** build_subnetwork() : features= {'images': <tf.Tensor 'IteratorGetNext:0' shape=(?, 28, 28) dtype=float32>}\n",
      "\n",
      "\n",
      "*** build_subnetwork() : self._feature_columns= [NumericColumn(key='images', shape=(28, 28), default_value=None, dtype=tf.float32, normalizer_fn=None)]\n",
      "\n",
      "\n",
      "*** build_subnetwork() : NN type= RNN / Input layer shape= (?, 784)\n",
      "\n",
      "*** _build_rnn_subnetwork() : output[-1]= Tensor(\"adanet/iteration_6/subnetwork_t6_RNN_SGRU_layer_5/rnn/rnn/multi_rnn_cell/cell_4/gru_cell/add_27:0\", shape=(?, 128), dtype=float32) / Weight= <tf.Variable 'adanet/iteration_6/subnetwork_t6_RNN_SGRU_layer_5/W:0' shape=(128, 10) dtype=float32_ref>\n",
      "\n",
      "***build_subnetwork() / RNN : logits shape= (?, 10)\n",
      "\n",
      "*** build_subnetwork() : last_layer= Tensor(\"adanet/iteration_6/subnetwork_t6_RNN_SGRU_layer_5/dense/BiasAdd:0\", shape=(?, 128), dtype=float32)\n",
      "WARNING:tensorflow:Using an `adanet.subnetwork.Builder#prune_previous_ensemble` is deprecated. Please use a custom `adanet.ensemble.Strategy` instead.\n"
     ]
    },
    {
     "name": "stderr",
     "output_type": "stream",
     "text": [
      "W0523 02:42:44.815854 139898093799232 tf_logging.py:161] Using an `adanet.subnetwork.Builder#prune_previous_ensemble` is deprecated. Please use a custom `adanet.ensemble.Strategy` instead.\n"
     ]
    },
    {
     "name": "stdout",
     "output_type": "stream",
     "text": [
      "INFO:tensorflow:*** _build_weighted_subnetwork_helper() : MixtureWeightType= vector\n"
     ]
    },
    {
     "name": "stderr",
     "output_type": "stream",
     "text": [
      "I0523 02:42:44.822240 139898093799232 weighted.py:391] *** _build_weighted_subnetwork_helper() : MixtureWeightType= vector\n"
     ]
    },
    {
     "name": "stdout",
     "output_type": "stream",
     "text": [
      "INFO:tensorflow:*** _build_weighted_subnetwork_helper() : MixtureWeightType= vector\n"
     ]
    },
    {
     "name": "stderr",
     "output_type": "stream",
     "text": [
      "I0523 02:42:44.831468 139898093799232 weighted.py:391] *** _build_weighted_subnetwork_helper() : MixtureWeightType= vector\n"
     ]
    },
    {
     "name": "stdout",
     "output_type": "stream",
     "text": [
      "INFO:tensorflow:*** _build_weighted_subnetwork_helper() : MixtureWeightType= vector\n"
     ]
    },
    {
     "name": "stderr",
     "output_type": "stream",
     "text": [
      "I0523 02:42:44.839870 139898093799232 weighted.py:391] *** _build_weighted_subnetwork_helper() : MixtureWeightType= vector\n"
     ]
    },
    {
     "name": "stdout",
     "output_type": "stream",
     "text": [
      "INFO:tensorflow:*** _build_weighted_subnetwork_helper() : MixtureWeightType= vector\n"
     ]
    },
    {
     "name": "stderr",
     "output_type": "stream",
     "text": [
      "I0523 02:42:44.848359 139898093799232 weighted.py:391] *** _build_weighted_subnetwork_helper() : MixtureWeightType= vector\n"
     ]
    },
    {
     "name": "stdout",
     "output_type": "stream",
     "text": [
      "INFO:tensorflow:*** _build_weighted_subnetwork_helper() : MixtureWeightType= vector\n"
     ]
    },
    {
     "name": "stderr",
     "output_type": "stream",
     "text": [
      "I0523 02:42:44.856392 139898093799232 weighted.py:391] *** _build_weighted_subnetwork_helper() : MixtureWeightType= vector\n"
     ]
    },
    {
     "name": "stdout",
     "output_type": "stream",
     "text": [
      "INFO:tensorflow:*** _build_weighted_subnetwork_helper() : MixtureWeightType= vector\n"
     ]
    },
    {
     "name": "stderr",
     "output_type": "stream",
     "text": [
      "I0523 02:42:44.864252 139898093799232 weighted.py:391] *** _build_weighted_subnetwork_helper() : MixtureWeightType= vector\n"
     ]
    },
    {
     "name": "stdout",
     "output_type": "stream",
     "text": [
      "INFO:tensorflow:*** _build_weighted_subnetwork_helper() : MixtureWeightType= vector\n"
     ]
    },
    {
     "name": "stderr",
     "output_type": "stream",
     "text": [
      "I0523 02:42:44.872804 139898093799232 weighted.py:391] *** _build_weighted_subnetwork_helper() : MixtureWeightType= vector\n"
     ]
    },
    {
     "name": "stdout",
     "output_type": "stream",
     "text": [
      "WARNING:tensorflow:The `build_mixture_weights_train_op` method is deprecated. Please use the `Ensembler#build_train_op` instead.\n"
     ]
    },
    {
     "name": "stderr",
     "output_type": "stream",
     "text": [
      "W0523 02:42:44.977003 139898093799232 tf_logging.py:161] The `build_mixture_weights_train_op` method is deprecated. Please use the `Ensembler#build_train_op` instead.\n"
     ]
    },
    {
     "name": "stdout",
     "output_type": "stream",
     "text": [
      "WARNING:tensorflow:Using an `adanet.subnetwork.Builder#prune_previous_ensemble` is deprecated. Please use a custom `adanet.ensemble.Strategy` instead.\n"
     ]
    },
    {
     "name": "stderr",
     "output_type": "stream",
     "text": [
      "W0523 02:42:45.221516 139898093799232 tf_logging.py:161] Using an `adanet.subnetwork.Builder#prune_previous_ensemble` is deprecated. Please use a custom `adanet.ensemble.Strategy` instead.\n"
     ]
    },
    {
     "name": "stdout",
     "output_type": "stream",
     "text": [
      "INFO:tensorflow:*** _build_weighted_subnetwork_helper() : MixtureWeightType= vector\n"
     ]
    },
    {
     "name": "stderr",
     "output_type": "stream",
     "text": [
      "I0523 02:42:45.225986 139898093799232 weighted.py:391] *** _build_weighted_subnetwork_helper() : MixtureWeightType= vector\n"
     ]
    },
    {
     "name": "stdout",
     "output_type": "stream",
     "text": [
      "INFO:tensorflow:*** _build_weighted_subnetwork_helper() : MixtureWeightType= vector\n"
     ]
    },
    {
     "name": "stderr",
     "output_type": "stream",
     "text": [
      "I0523 02:42:45.233726 139898093799232 weighted.py:391] *** _build_weighted_subnetwork_helper() : MixtureWeightType= vector\n"
     ]
    },
    {
     "name": "stdout",
     "output_type": "stream",
     "text": [
      "INFO:tensorflow:*** _build_weighted_subnetwork_helper() : MixtureWeightType= vector\n"
     ]
    },
    {
     "name": "stderr",
     "output_type": "stream",
     "text": [
      "I0523 02:42:45.241220 139898093799232 weighted.py:391] *** _build_weighted_subnetwork_helper() : MixtureWeightType= vector\n"
     ]
    },
    {
     "name": "stdout",
     "output_type": "stream",
     "text": [
      "INFO:tensorflow:*** _build_weighted_subnetwork_helper() : MixtureWeightType= vector\n"
     ]
    },
    {
     "name": "stderr",
     "output_type": "stream",
     "text": [
      "I0523 02:42:45.248497 139898093799232 weighted.py:391] *** _build_weighted_subnetwork_helper() : MixtureWeightType= vector\n"
     ]
    },
    {
     "name": "stdout",
     "output_type": "stream",
     "text": [
      "INFO:tensorflow:*** _build_weighted_subnetwork_helper() : MixtureWeightType= vector\n"
     ]
    },
    {
     "name": "stderr",
     "output_type": "stream",
     "text": [
      "I0523 02:42:45.255738 139898093799232 weighted.py:391] *** _build_weighted_subnetwork_helper() : MixtureWeightType= vector\n"
     ]
    },
    {
     "name": "stdout",
     "output_type": "stream",
     "text": [
      "INFO:tensorflow:*** _build_weighted_subnetwork_helper() : MixtureWeightType= vector\n"
     ]
    },
    {
     "name": "stderr",
     "output_type": "stream",
     "text": [
      "I0523 02:42:45.263003 139898093799232 weighted.py:391] *** _build_weighted_subnetwork_helper() : MixtureWeightType= vector\n"
     ]
    },
    {
     "name": "stdout",
     "output_type": "stream",
     "text": [
      "INFO:tensorflow:*** _build_weighted_subnetwork_helper() : MixtureWeightType= vector\n"
     ]
    },
    {
     "name": "stderr",
     "output_type": "stream",
     "text": [
      "I0523 02:42:45.269990 139898093799232 weighted.py:391] *** _build_weighted_subnetwork_helper() : MixtureWeightType= vector\n"
     ]
    },
    {
     "name": "stdout",
     "output_type": "stream",
     "text": [
      "WARNING:tensorflow:The `build_mixture_weights_train_op` method is deprecated. Please use the `Ensembler#build_train_op` instead.\n"
     ]
    },
    {
     "name": "stderr",
     "output_type": "stream",
     "text": [
      "W0523 02:42:45.364857 139898093799232 tf_logging.py:161] The `build_mixture_weights_train_op` method is deprecated. Please use the `Ensembler#build_train_op` instead.\n"
     ]
    },
    {
     "name": "stdout",
     "output_type": "stream",
     "text": [
      "INFO:tensorflow:Done calling model_fn.\n"
     ]
    },
    {
     "name": "stderr",
     "output_type": "stream",
     "text": [
      "I0523 02:42:45.643034 139898093799232 estimator.py:1113] Done calling model_fn.\n"
     ]
    },
    {
     "name": "stdout",
     "output_type": "stream",
     "text": [
      "INFO:tensorflow:Create CheckpointSaverHook.\n"
     ]
    },
    {
     "name": "stderr",
     "output_type": "stream",
     "text": [
      "I0523 02:42:45.644042 139898093799232 basic_session_run_hooks.py:527] Create CheckpointSaverHook.\n"
     ]
    },
    {
     "name": "stdout",
     "output_type": "stream",
     "text": [
      "INFO:tensorflow:Graph was finalized.\n"
     ]
    },
    {
     "name": "stderr",
     "output_type": "stream",
     "text": [
      "I0523 02:43:01.750603 139898093799232 monitored_session.py:222] Graph was finalized.\n"
     ]
    },
    {
     "name": "stdout",
     "output_type": "stream",
     "text": [
      "INFO:tensorflow:Running local_init_op.\n"
     ]
    },
    {
     "name": "stderr",
     "output_type": "stream",
     "text": [
      "I0523 02:43:03.463289 139898093799232 session_manager.py:491] Running local_init_op.\n"
     ]
    },
    {
     "name": "stdout",
     "output_type": "stream",
     "text": [
      "INFO:tensorflow:Done running local_init_op.\n"
     ]
    },
    {
     "name": "stderr",
     "output_type": "stream",
     "text": [
      "I0523 02:43:03.828046 139898093799232 session_manager.py:493] Done running local_init_op.\n"
     ]
    },
    {
     "name": "stdout",
     "output_type": "stream",
     "text": [
      "INFO:tensorflow:Saving checkpoints for 0 into ./tmp/adanet/SGRU/temp_model_dir/model.ckpt.\n"
     ]
    },
    {
     "name": "stderr",
     "output_type": "stream",
     "text": [
      "I0523 02:43:17.298448 139898093799232 basic_session_run_hooks.py:594] Saving checkpoints for 0 into ./tmp/adanet/SGRU/temp_model_dir/model.ckpt.\n"
     ]
    },
    {
     "name": "stdout",
     "output_type": "stream",
     "text": [
      "INFO:tensorflow:Restoring parameters from ./tmp/adanet/SGRU/model.ckpt-42\n"
     ]
    },
    {
     "name": "stderr",
     "output_type": "stream",
     "text": [
      "I0523 02:43:19.777941 139898093799232 saver.py:1270] Restoring parameters from ./tmp/adanet/SGRU/model.ckpt-42\n"
     ]
    },
    {
     "name": "stdout",
     "output_type": "stream",
     "text": [
      "INFO:tensorflow:loss = 2.1420972, step = 43\n"
     ]
    },
    {
     "name": "stderr",
     "output_type": "stream",
     "text": [
      "I0523 02:43:26.953268 139898093799232 basic_session_run_hooks.py:249] loss = 2.1420972, step = 43\n"
     ]
    },
    {
     "name": "stdout",
     "output_type": "stream",
     "text": [
      "INFO:tensorflow:Saving checkpoints for 43 into ./tmp/adanet/SGRU/temp_model_dir/model.ckpt.\n"
     ]
    },
    {
     "name": "stderr",
     "output_type": "stream",
     "text": [
      "I0523 02:43:26.954469 139898093799232 basic_session_run_hooks.py:594] Saving checkpoints for 43 into ./tmp/adanet/SGRU/temp_model_dir/model.ckpt.\n"
     ]
    },
    {
     "name": "stdout",
     "output_type": "stream",
     "text": [
      "INFO:tensorflow:Loss for final step: 2.1420972.\n"
     ]
    },
    {
     "name": "stderr",
     "output_type": "stream",
     "text": [
      "I0523 02:43:28.732057 139898093799232 estimator.py:359] Loss for final step: 2.1420972.\n"
     ]
    },
    {
     "name": "stdout",
     "output_type": "stream",
     "text": [
      "\n",
      "*** input_fn() : feature_shape= (28, 28) / label_shape= [1]\n",
      "\n",
      "*** preprocess_image() : image shape= (28, 28)\n",
      "\n",
      "*** preprocess_image() : features= {'images': <tf.Tensor 'arg0:0' shape=(28, 28) dtype=float32>} / label shape= ()\n",
      "\n",
      "***_input_fn() : Label shape =[1]\n",
      "INFO:tensorflow:Calling model_fn.\n"
     ]
    },
    {
     "name": "stderr",
     "output_type": "stream",
     "text": [
      "I0523 02:43:28.994807 139898093799232 estimator.py:1111] Calling model_fn.\n"
     ]
    },
    {
     "name": "stdout",
     "output_type": "stream",
     "text": [
      "\n",
      "*** NNAdaNetBuilder : NN Type=RNN\n",
      "\n",
      "*** get_tf_head() : feature shape= (28, 28)\n",
      "\n",
      "*** get_tf_head() : feature columns= [NumericColumn(key='images', shape=(28, 28), default_value=None, dtype=tf.float32, normalizer_fn=None)]\n",
      "\n",
      "*** NNAdaNetBuilder : NN Type=RNN\n",
      "\n",
      "*** get_tf_head() : feature shape= (28, 28)\n",
      "\n",
      "*** get_tf_head() : feature columns= [NumericColumn(key='images', shape=(28, 28), default_value=None, dtype=tf.float32, normalizer_fn=None)]\n",
      "INFO:tensorflow:Rebuilding iteration 0\n"
     ]
    },
    {
     "name": "stderr",
     "output_type": "stream",
     "text": [
      "I0523 02:43:28.999575 139898093799232 iteration.py:250] Rebuilding iteration 0\n"
     ]
    },
    {
     "name": "stdout",
     "output_type": "stream",
     "text": [
      "INFO:tensorflow:Rebuilding subnetwork 'RNN_SGRU_layer_2'\n"
     ]
    },
    {
     "name": "stderr",
     "output_type": "stream",
     "text": [
      "I0523 02:43:29.004363 139898093799232 iteration.py:337] Rebuilding subnetwork 'RNN_SGRU_layer_2'\n"
     ]
    },
    {
     "name": "stdout",
     "output_type": "stream",
     "text": [
      "\n",
      "\n",
      "*** build_subnetwork() : features= {'images': <tf.Tensor 'IteratorGetNext:0' shape=(?, 28, 28) dtype=float32>}\n",
      "\n",
      "\n",
      "*** build_subnetwork() : self._feature_columns= [NumericColumn(key='images', shape=(28, 28), default_value=None, dtype=tf.float32, normalizer_fn=None)]\n",
      "\n",
      "\n",
      "*** build_subnetwork() : NN type= RNN / Input layer shape= (?, 784)\n",
      "\n",
      "*** _build_rnn_subnetwork() : output[-1]= Tensor(\"adanet/iteration_0/subnetwork_t0_RNN_SGRU_layer_2/rnn/rnn/multi_rnn_cell/cell_1/gru_cell/add_27:0\", shape=(?, 128), dtype=float32) / Weight= <tf.Variable 'adanet/iteration_0/subnetwork_t0_RNN_SGRU_layer_2/W:0' shape=(128, 10) dtype=float32_ref>\n",
      "\n",
      "***build_subnetwork() / RNN : logits shape= (?, 10)\n",
      "\n",
      "*** build_subnetwork() : last_layer= Tensor(\"adanet/iteration_0/subnetwork_t0_RNN_SGRU_layer_2/dense/BiasAdd:0\", shape=(?, 128), dtype=float32)\n",
      "INFO:tensorflow:*** _build_weighted_subnetwork_helper() : MixtureWeightType= vector\n"
     ]
    },
    {
     "name": "stderr",
     "output_type": "stream",
     "text": [
      "I0523 02:43:29.592051 139898093799232 weighted.py:391] *** _build_weighted_subnetwork_helper() : MixtureWeightType= vector\n"
     ]
    },
    {
     "name": "stdout",
     "output_type": "stream",
     "text": [
      "\n",
      "*** NNAdaNetBuilder : NN Type=RNN\n",
      "\n",
      "*** get_tf_head() : feature shape= (28, 28)\n",
      "\n",
      "*** get_tf_head() : feature columns= [NumericColumn(key='images', shape=(28, 28), default_value=None, dtype=tf.float32, normalizer_fn=None)]\n",
      "\n",
      "*** NNAdaNetBuilder : NN Type=RNN\n",
      "\n",
      "*** get_tf_head() : feature shape= (28, 28)\n",
      "\n",
      "*** get_tf_head() : feature columns= [NumericColumn(key='images', shape=(28, 28), default_value=None, dtype=tf.float32, normalizer_fn=None)]\n",
      "INFO:tensorflow:Rebuilding iteration 1\n"
     ]
    },
    {
     "name": "stderr",
     "output_type": "stream",
     "text": [
      "I0523 02:43:29.704759 139898093799232 iteration.py:250] Rebuilding iteration 1\n"
     ]
    },
    {
     "name": "stdout",
     "output_type": "stream",
     "text": [
      "INFO:tensorflow:Rebuilding subnetwork 'RNN_SGRU_layer_3'\n"
     ]
    },
    {
     "name": "stderr",
     "output_type": "stream",
     "text": [
      "I0523 02:43:29.724824 139898093799232 iteration.py:337] Rebuilding subnetwork 'RNN_SGRU_layer_3'\n"
     ]
    },
    {
     "name": "stdout",
     "output_type": "stream",
     "text": [
      "\n",
      "\n",
      "*** build_subnetwork() : features= {'images': <tf.Tensor 'IteratorGetNext:0' shape=(?, 28, 28) dtype=float32>}\n",
      "\n",
      "\n",
      "*** build_subnetwork() : self._feature_columns= [NumericColumn(key='images', shape=(28, 28), default_value=None, dtype=tf.float32, normalizer_fn=None)]\n",
      "\n",
      "\n",
      "*** build_subnetwork() : NN type= RNN / Input layer shape= (?, 784)\n",
      "\n",
      "*** _build_rnn_subnetwork() : output[-1]= Tensor(\"adanet/iteration_1/subnetwork_t1_RNN_SGRU_layer_3/rnn/rnn/multi_rnn_cell/cell_2/gru_cell/add_27:0\", shape=(?, 128), dtype=float32) / Weight= <tf.Variable 'adanet/iteration_1/subnetwork_t1_RNN_SGRU_layer_3/W:0' shape=(128, 10) dtype=float32_ref>\n",
      "\n",
      "***build_subnetwork() / RNN : logits shape= (?, 10)\n",
      "\n",
      "*** build_subnetwork() : last_layer= Tensor(\"adanet/iteration_1/subnetwork_t1_RNN_SGRU_layer_3/dense/BiasAdd:0\", shape=(?, 128), dtype=float32)\n",
      "WARNING:tensorflow:Using an `adanet.subnetwork.Builder#prune_previous_ensemble` is deprecated. Please use a custom `adanet.ensemble.Strategy` instead.\n"
     ]
    },
    {
     "name": "stderr",
     "output_type": "stream",
     "text": [
      "W0523 02:43:30.552322 139898093799232 tf_logging.py:161] Using an `adanet.subnetwork.Builder#prune_previous_ensemble` is deprecated. Please use a custom `adanet.ensemble.Strategy` instead.\n"
     ]
    },
    {
     "name": "stdout",
     "output_type": "stream",
     "text": [
      "INFO:tensorflow:*** _build_weighted_subnetwork_helper() : MixtureWeightType= vector\n"
     ]
    },
    {
     "name": "stderr",
     "output_type": "stream",
     "text": [
      "I0523 02:43:30.556459 139898093799232 weighted.py:391] *** _build_weighted_subnetwork_helper() : MixtureWeightType= vector\n"
     ]
    },
    {
     "name": "stdout",
     "output_type": "stream",
     "text": [
      "INFO:tensorflow:*** _build_weighted_subnetwork_helper() : MixtureWeightType= vector\n"
     ]
    },
    {
     "name": "stderr",
     "output_type": "stream",
     "text": [
      "I0523 02:43:30.563098 139898093799232 weighted.py:391] *** _build_weighted_subnetwork_helper() : MixtureWeightType= vector\n"
     ]
    },
    {
     "name": "stdout",
     "output_type": "stream",
     "text": [
      "\n",
      "*** NNAdaNetBuilder : NN Type=RNN\n",
      "\n",
      "*** get_tf_head() : feature shape= (28, 28)\n",
      "\n",
      "*** get_tf_head() : feature columns= [NumericColumn(key='images', shape=(28, 28), default_value=None, dtype=tf.float32, normalizer_fn=None)]\n",
      "\n",
      "*** NNAdaNetBuilder : NN Type=RNN\n",
      "\n",
      "*** get_tf_head() : feature shape= (28, 28)\n",
      "\n",
      "*** get_tf_head() : feature columns= [NumericColumn(key='images', shape=(28, 28), default_value=None, dtype=tf.float32, normalizer_fn=None)]\n",
      "INFO:tensorflow:Rebuilding iteration 2\n"
     ]
    },
    {
     "name": "stderr",
     "output_type": "stream",
     "text": [
      "I0523 02:43:30.701613 139898093799232 iteration.py:250] Rebuilding iteration 2\n"
     ]
    },
    {
     "name": "stdout",
     "output_type": "stream",
     "text": [
      "INFO:tensorflow:Rebuilding subnetwork 'RNN_SGRU_layer_4'\n"
     ]
    },
    {
     "name": "stderr",
     "output_type": "stream",
     "text": [
      "I0523 02:43:30.722638 139898093799232 iteration.py:337] Rebuilding subnetwork 'RNN_SGRU_layer_4'\n"
     ]
    },
    {
     "name": "stdout",
     "output_type": "stream",
     "text": [
      "\n",
      "\n",
      "*** build_subnetwork() : features= {'images': <tf.Tensor 'IteratorGetNext:0' shape=(?, 28, 28) dtype=float32>}\n",
      "\n",
      "\n",
      "*** build_subnetwork() : self._feature_columns= [NumericColumn(key='images', shape=(28, 28), default_value=None, dtype=tf.float32, normalizer_fn=None)]\n",
      "\n",
      "\n",
      "*** build_subnetwork() : NN type= RNN / Input layer shape= (?, 784)\n",
      "\n",
      "*** _build_rnn_subnetwork() : output[-1]= Tensor(\"adanet/iteration_2/subnetwork_t2_RNN_SGRU_layer_4/rnn/rnn/multi_rnn_cell/cell_3/gru_cell/add_27:0\", shape=(?, 128), dtype=float32) / Weight= <tf.Variable 'adanet/iteration_2/subnetwork_t2_RNN_SGRU_layer_4/W:0' shape=(128, 10) dtype=float32_ref>\n",
      "\n",
      "***build_subnetwork() / RNN : logits shape= (?, 10)\n",
      "\n",
      "*** build_subnetwork() : last_layer= Tensor(\"adanet/iteration_2/subnetwork_t2_RNN_SGRU_layer_4/dense/BiasAdd:0\", shape=(?, 128), dtype=float32)\n",
      "WARNING:tensorflow:Using an `adanet.subnetwork.Builder#prune_previous_ensemble` is deprecated. Please use a custom `adanet.ensemble.Strategy` instead.\n"
     ]
    },
    {
     "name": "stderr",
     "output_type": "stream",
     "text": [
      "W0523 02:43:31.713191 139898093799232 tf_logging.py:161] Using an `adanet.subnetwork.Builder#prune_previous_ensemble` is deprecated. Please use a custom `adanet.ensemble.Strategy` instead.\n"
     ]
    },
    {
     "name": "stdout",
     "output_type": "stream",
     "text": [
      "INFO:tensorflow:*** _build_weighted_subnetwork_helper() : MixtureWeightType= vector\n"
     ]
    },
    {
     "name": "stderr",
     "output_type": "stream",
     "text": [
      "I0523 02:43:31.717754 139898093799232 weighted.py:391] *** _build_weighted_subnetwork_helper() : MixtureWeightType= vector\n"
     ]
    },
    {
     "name": "stdout",
     "output_type": "stream",
     "text": [
      "INFO:tensorflow:*** _build_weighted_subnetwork_helper() : MixtureWeightType= vector\n"
     ]
    },
    {
     "name": "stderr",
     "output_type": "stream",
     "text": [
      "I0523 02:43:31.724731 139898093799232 weighted.py:391] *** _build_weighted_subnetwork_helper() : MixtureWeightType= vector\n"
     ]
    },
    {
     "name": "stdout",
     "output_type": "stream",
     "text": [
      "INFO:tensorflow:*** _build_weighted_subnetwork_helper() : MixtureWeightType= vector\n"
     ]
    },
    {
     "name": "stderr",
     "output_type": "stream",
     "text": [
      "I0523 02:43:31.731764 139898093799232 weighted.py:391] *** _build_weighted_subnetwork_helper() : MixtureWeightType= vector\n"
     ]
    },
    {
     "name": "stdout",
     "output_type": "stream",
     "text": [
      "\n",
      "*** NNAdaNetBuilder : NN Type=RNN\n",
      "\n",
      "*** get_tf_head() : feature shape= (28, 28)\n",
      "\n",
      "*** get_tf_head() : feature columns= [NumericColumn(key='images', shape=(28, 28), default_value=None, dtype=tf.float32, normalizer_fn=None)]\n",
      "\n",
      "*** NNAdaNetBuilder : NN Type=RNN\n",
      "\n",
      "*** get_tf_head() : feature shape= (28, 28)\n",
      "\n",
      "*** get_tf_head() : feature columns= [NumericColumn(key='images', shape=(28, 28), default_value=None, dtype=tf.float32, normalizer_fn=None)]\n",
      "INFO:tensorflow:Rebuilding iteration 3\n"
     ]
    },
    {
     "name": "stderr",
     "output_type": "stream",
     "text": [
      "I0523 02:43:31.866445 139898093799232 iteration.py:250] Rebuilding iteration 3\n"
     ]
    },
    {
     "name": "stdout",
     "output_type": "stream",
     "text": [
      "INFO:tensorflow:Rebuilding subnetwork 'RNN_SGRU_layer_4'\n"
     ]
    },
    {
     "name": "stderr",
     "output_type": "stream",
     "text": [
      "I0523 02:43:31.887414 139898093799232 iteration.py:337] Rebuilding subnetwork 'RNN_SGRU_layer_4'\n"
     ]
    },
    {
     "name": "stdout",
     "output_type": "stream",
     "text": [
      "\n",
      "\n",
      "*** build_subnetwork() : features= {'images': <tf.Tensor 'IteratorGetNext:0' shape=(?, 28, 28) dtype=float32>}\n",
      "\n",
      "\n",
      "*** build_subnetwork() : self._feature_columns= [NumericColumn(key='images', shape=(28, 28), default_value=None, dtype=tf.float32, normalizer_fn=None)]\n",
      "\n",
      "\n",
      "*** build_subnetwork() : NN type= RNN / Input layer shape= (?, 784)\n",
      "\n",
      "*** _build_rnn_subnetwork() : output[-1]= Tensor(\"adanet/iteration_3/subnetwork_t3_RNN_SGRU_layer_4/rnn/rnn/multi_rnn_cell/cell_3/gru_cell/add_27:0\", shape=(?, 128), dtype=float32) / Weight= <tf.Variable 'adanet/iteration_3/subnetwork_t3_RNN_SGRU_layer_4/W:0' shape=(128, 10) dtype=float32_ref>\n",
      "\n",
      "***build_subnetwork() / RNN : logits shape= (?, 10)\n",
      "\n",
      "*** build_subnetwork() : last_layer= Tensor(\"adanet/iteration_3/subnetwork_t3_RNN_SGRU_layer_4/dense/BiasAdd:0\", shape=(?, 128), dtype=float32)\n",
      "WARNING:tensorflow:Using an `adanet.subnetwork.Builder#prune_previous_ensemble` is deprecated. Please use a custom `adanet.ensemble.Strategy` instead.\n"
     ]
    },
    {
     "name": "stderr",
     "output_type": "stream",
     "text": [
      "W0523 02:43:32.961857 139898093799232 tf_logging.py:161] Using an `adanet.subnetwork.Builder#prune_previous_ensemble` is deprecated. Please use a custom `adanet.ensemble.Strategy` instead.\n"
     ]
    },
    {
     "name": "stdout",
     "output_type": "stream",
     "text": [
      "INFO:tensorflow:*** _build_weighted_subnetwork_helper() : MixtureWeightType= vector\n"
     ]
    },
    {
     "name": "stderr",
     "output_type": "stream",
     "text": [
      "I0523 02:43:32.965661 139898093799232 weighted.py:391] *** _build_weighted_subnetwork_helper() : MixtureWeightType= vector\n"
     ]
    },
    {
     "name": "stdout",
     "output_type": "stream",
     "text": [
      "INFO:tensorflow:*** _build_weighted_subnetwork_helper() : MixtureWeightType= vector\n"
     ]
    },
    {
     "name": "stderr",
     "output_type": "stream",
     "text": [
      "I0523 02:43:32.971901 139898093799232 weighted.py:391] *** _build_weighted_subnetwork_helper() : MixtureWeightType= vector\n"
     ]
    },
    {
     "name": "stdout",
     "output_type": "stream",
     "text": [
      "INFO:tensorflow:*** _build_weighted_subnetwork_helper() : MixtureWeightType= vector\n"
     ]
    },
    {
     "name": "stderr",
     "output_type": "stream",
     "text": [
      "I0523 02:43:32.978122 139898093799232 weighted.py:391] *** _build_weighted_subnetwork_helper() : MixtureWeightType= vector\n"
     ]
    },
    {
     "name": "stdout",
     "output_type": "stream",
     "text": [
      "INFO:tensorflow:*** _build_weighted_subnetwork_helper() : MixtureWeightType= vector\n"
     ]
    },
    {
     "name": "stderr",
     "output_type": "stream",
     "text": [
      "I0523 02:43:32.985126 139898093799232 weighted.py:391] *** _build_weighted_subnetwork_helper() : MixtureWeightType= vector\n"
     ]
    },
    {
     "name": "stdout",
     "output_type": "stream",
     "text": [
      "\n",
      "*** NNAdaNetBuilder : NN Type=RNN\n",
      "\n",
      "*** get_tf_head() : feature shape= (28, 28)\n",
      "\n",
      "*** get_tf_head() : feature columns= [NumericColumn(key='images', shape=(28, 28), default_value=None, dtype=tf.float32, normalizer_fn=None)]\n",
      "\n",
      "*** NNAdaNetBuilder : NN Type=RNN\n",
      "\n",
      "*** get_tf_head() : feature shape= (28, 28)\n",
      "\n",
      "*** get_tf_head() : feature columns= [NumericColumn(key='images', shape=(28, 28), default_value=None, dtype=tf.float32, normalizer_fn=None)]\n",
      "INFO:tensorflow:Rebuilding iteration 4\n"
     ]
    },
    {
     "name": "stderr",
     "output_type": "stream",
     "text": [
      "I0523 02:43:33.125742 139898093799232 iteration.py:250] Rebuilding iteration 4\n"
     ]
    },
    {
     "name": "stdout",
     "output_type": "stream",
     "text": [
      "INFO:tensorflow:Rebuilding subnetwork 'RNN_SGRU_layer_4'\n"
     ]
    },
    {
     "name": "stderr",
     "output_type": "stream",
     "text": [
      "I0523 02:43:33.145816 139898093799232 iteration.py:337] Rebuilding subnetwork 'RNN_SGRU_layer_4'\n"
     ]
    },
    {
     "name": "stdout",
     "output_type": "stream",
     "text": [
      "\n",
      "\n",
      "*** build_subnetwork() : features= {'images': <tf.Tensor 'IteratorGetNext:0' shape=(?, 28, 28) dtype=float32>}\n",
      "\n",
      "\n",
      "*** build_subnetwork() : self._feature_columns= [NumericColumn(key='images', shape=(28, 28), default_value=None, dtype=tf.float32, normalizer_fn=None)]\n",
      "\n",
      "\n",
      "*** build_subnetwork() : NN type= RNN / Input layer shape= (?, 784)\n",
      "\n",
      "*** _build_rnn_subnetwork() : output[-1]= Tensor(\"adanet/iteration_4/subnetwork_t4_RNN_SGRU_layer_4/rnn/rnn/multi_rnn_cell/cell_3/gru_cell/add_27:0\", shape=(?, 128), dtype=float32) / Weight= <tf.Variable 'adanet/iteration_4/subnetwork_t4_RNN_SGRU_layer_4/W:0' shape=(128, 10) dtype=float32_ref>\n",
      "\n",
      "***build_subnetwork() / RNN : logits shape= (?, 10)\n",
      "\n",
      "*** build_subnetwork() : last_layer= Tensor(\"adanet/iteration_4/subnetwork_t4_RNN_SGRU_layer_4/dense/BiasAdd:0\", shape=(?, 128), dtype=float32)\n",
      "WARNING:tensorflow:Using an `adanet.subnetwork.Builder#prune_previous_ensemble` is deprecated. Please use a custom `adanet.ensemble.Strategy` instead.\n"
     ]
    },
    {
     "name": "stderr",
     "output_type": "stream",
     "text": [
      "W0523 02:43:34.179012 139898093799232 tf_logging.py:161] Using an `adanet.subnetwork.Builder#prune_previous_ensemble` is deprecated. Please use a custom `adanet.ensemble.Strategy` instead.\n"
     ]
    },
    {
     "name": "stdout",
     "output_type": "stream",
     "text": [
      "INFO:tensorflow:*** _build_weighted_subnetwork_helper() : MixtureWeightType= vector\n"
     ]
    },
    {
     "name": "stderr",
     "output_type": "stream",
     "text": [
      "I0523 02:43:34.183271 139898093799232 weighted.py:391] *** _build_weighted_subnetwork_helper() : MixtureWeightType= vector\n"
     ]
    },
    {
     "name": "stdout",
     "output_type": "stream",
     "text": [
      "INFO:tensorflow:*** _build_weighted_subnetwork_helper() : MixtureWeightType= vector\n"
     ]
    },
    {
     "name": "stderr",
     "output_type": "stream",
     "text": [
      "I0523 02:43:34.190347 139898093799232 weighted.py:391] *** _build_weighted_subnetwork_helper() : MixtureWeightType= vector\n"
     ]
    },
    {
     "name": "stdout",
     "output_type": "stream",
     "text": [
      "INFO:tensorflow:*** _build_weighted_subnetwork_helper() : MixtureWeightType= vector\n"
     ]
    },
    {
     "name": "stderr",
     "output_type": "stream",
     "text": [
      "I0523 02:43:34.196923 139898093799232 weighted.py:391] *** _build_weighted_subnetwork_helper() : MixtureWeightType= vector\n"
     ]
    },
    {
     "name": "stdout",
     "output_type": "stream",
     "text": [
      "INFO:tensorflow:*** _build_weighted_subnetwork_helper() : MixtureWeightType= vector\n"
     ]
    },
    {
     "name": "stderr",
     "output_type": "stream",
     "text": [
      "I0523 02:43:34.203316 139898093799232 weighted.py:391] *** _build_weighted_subnetwork_helper() : MixtureWeightType= vector\n"
     ]
    },
    {
     "name": "stdout",
     "output_type": "stream",
     "text": [
      "INFO:tensorflow:*** _build_weighted_subnetwork_helper() : MixtureWeightType= vector\n"
     ]
    },
    {
     "name": "stderr",
     "output_type": "stream",
     "text": [
      "I0523 02:43:34.210100 139898093799232 weighted.py:391] *** _build_weighted_subnetwork_helper() : MixtureWeightType= vector\n"
     ]
    },
    {
     "name": "stdout",
     "output_type": "stream",
     "text": [
      "\n",
      "*** NNAdaNetBuilder : NN Type=RNN\n",
      "\n",
      "*** get_tf_head() : feature shape= (28, 28)\n",
      "\n",
      "*** get_tf_head() : feature columns= [NumericColumn(key='images', shape=(28, 28), default_value=None, dtype=tf.float32, normalizer_fn=None)]\n",
      "\n",
      "*** NNAdaNetBuilder : NN Type=RNN\n",
      "\n",
      "*** get_tf_head() : feature shape= (28, 28)\n",
      "\n",
      "*** get_tf_head() : feature columns= [NumericColumn(key='images', shape=(28, 28), default_value=None, dtype=tf.float32, normalizer_fn=None)]\n",
      "INFO:tensorflow:Rebuilding iteration 5\n"
     ]
    },
    {
     "name": "stderr",
     "output_type": "stream",
     "text": [
      "I0523 02:43:34.375067 139898093799232 iteration.py:250] Rebuilding iteration 5\n"
     ]
    },
    {
     "name": "stdout",
     "output_type": "stream",
     "text": [
      "INFO:tensorflow:Rebuilding subnetwork 'RNN_SGRU_layer_4'\n"
     ]
    },
    {
     "name": "stderr",
     "output_type": "stream",
     "text": [
      "I0523 02:43:34.398797 139898093799232 iteration.py:337] Rebuilding subnetwork 'RNN_SGRU_layer_4'\n"
     ]
    },
    {
     "name": "stdout",
     "output_type": "stream",
     "text": [
      "\n",
      "\n",
      "*** build_subnetwork() : features= {'images': <tf.Tensor 'IteratorGetNext:0' shape=(?, 28, 28) dtype=float32>}\n",
      "\n",
      "\n",
      "*** build_subnetwork() : self._feature_columns= [NumericColumn(key='images', shape=(28, 28), default_value=None, dtype=tf.float32, normalizer_fn=None)]\n",
      "\n",
      "\n",
      "*** build_subnetwork() : NN type= RNN / Input layer shape= (?, 784)\n",
      "\n",
      "*** _build_rnn_subnetwork() : output[-1]= Tensor(\"adanet/iteration_5/subnetwork_t5_RNN_SGRU_layer_4/rnn/rnn/multi_rnn_cell/cell_3/gru_cell/add_27:0\", shape=(?, 128), dtype=float32) / Weight= <tf.Variable 'adanet/iteration_5/subnetwork_t5_RNN_SGRU_layer_4/W:0' shape=(128, 10) dtype=float32_ref>\n",
      "\n",
      "***build_subnetwork() / RNN : logits shape= (?, 10)\n",
      "\n",
      "*** build_subnetwork() : last_layer= Tensor(\"adanet/iteration_5/subnetwork_t5_RNN_SGRU_layer_4/dense/BiasAdd:0\", shape=(?, 128), dtype=float32)\n",
      "WARNING:tensorflow:Using an `adanet.subnetwork.Builder#prune_previous_ensemble` is deprecated. Please use a custom `adanet.ensemble.Strategy` instead.\n"
     ]
    },
    {
     "name": "stderr",
     "output_type": "stream",
     "text": [
      "W0523 02:43:35.520227 139898093799232 tf_logging.py:161] Using an `adanet.subnetwork.Builder#prune_previous_ensemble` is deprecated. Please use a custom `adanet.ensemble.Strategy` instead.\n"
     ]
    },
    {
     "name": "stdout",
     "output_type": "stream",
     "text": [
      "INFO:tensorflow:*** _build_weighted_subnetwork_helper() : MixtureWeightType= vector\n"
     ]
    },
    {
     "name": "stderr",
     "output_type": "stream",
     "text": [
      "I0523 02:43:35.524287 139898093799232 weighted.py:391] *** _build_weighted_subnetwork_helper() : MixtureWeightType= vector\n"
     ]
    },
    {
     "name": "stdout",
     "output_type": "stream",
     "text": [
      "INFO:tensorflow:*** _build_weighted_subnetwork_helper() : MixtureWeightType= vector\n"
     ]
    },
    {
     "name": "stderr",
     "output_type": "stream",
     "text": [
      "I0523 02:43:35.530917 139898093799232 weighted.py:391] *** _build_weighted_subnetwork_helper() : MixtureWeightType= vector\n"
     ]
    },
    {
     "name": "stdout",
     "output_type": "stream",
     "text": [
      "INFO:tensorflow:*** _build_weighted_subnetwork_helper() : MixtureWeightType= vector\n"
     ]
    },
    {
     "name": "stderr",
     "output_type": "stream",
     "text": [
      "I0523 02:43:35.537340 139898093799232 weighted.py:391] *** _build_weighted_subnetwork_helper() : MixtureWeightType= vector\n"
     ]
    },
    {
     "name": "stdout",
     "output_type": "stream",
     "text": [
      "INFO:tensorflow:*** _build_weighted_subnetwork_helper() : MixtureWeightType= vector\n"
     ]
    },
    {
     "name": "stderr",
     "output_type": "stream",
     "text": [
      "I0523 02:43:35.543783 139898093799232 weighted.py:391] *** _build_weighted_subnetwork_helper() : MixtureWeightType= vector\n"
     ]
    },
    {
     "name": "stdout",
     "output_type": "stream",
     "text": [
      "INFO:tensorflow:*** _build_weighted_subnetwork_helper() : MixtureWeightType= vector\n"
     ]
    },
    {
     "name": "stderr",
     "output_type": "stream",
     "text": [
      "I0523 02:43:35.550698 139898093799232 weighted.py:391] *** _build_weighted_subnetwork_helper() : MixtureWeightType= vector\n"
     ]
    },
    {
     "name": "stdout",
     "output_type": "stream",
     "text": [
      "INFO:tensorflow:*** _build_weighted_subnetwork_helper() : MixtureWeightType= vector\n"
     ]
    },
    {
     "name": "stderr",
     "output_type": "stream",
     "text": [
      "I0523 02:43:35.557228 139898093799232 weighted.py:391] *** _build_weighted_subnetwork_helper() : MixtureWeightType= vector\n"
     ]
    },
    {
     "name": "stdout",
     "output_type": "stream",
     "text": [
      "\n",
      "*** NNAdaNetBuilder : NN Type=RNN\n",
      "\n",
      "*** get_tf_head() : feature shape= (28, 28)\n",
      "\n",
      "*** get_tf_head() : feature columns= [NumericColumn(key='images', shape=(28, 28), default_value=None, dtype=tf.float32, normalizer_fn=None)]\n",
      "\n",
      "*** NNAdaNetBuilder : NN Type=RNN\n",
      "\n",
      "*** get_tf_head() : feature shape= (28, 28)\n",
      "\n",
      "*** get_tf_head() : feature columns= [NumericColumn(key='images', shape=(28, 28), default_value=None, dtype=tf.float32, normalizer_fn=None)]\n",
      "INFO:tensorflow:Building iteration 6\n"
     ]
    },
    {
     "name": "stderr",
     "output_type": "stream",
     "text": [
      "I0523 02:43:35.714371 139898093799232 iteration.py:250] Building iteration 6\n"
     ]
    },
    {
     "name": "stdout",
     "output_type": "stream",
     "text": [
      "INFO:tensorflow:Building subnetwork 'RNN_SGRU_layer_4'\n"
     ]
    },
    {
     "name": "stderr",
     "output_type": "stream",
     "text": [
      "I0523 02:43:35.736042 139898093799232 iteration.py:337] Building subnetwork 'RNN_SGRU_layer_4'\n"
     ]
    },
    {
     "name": "stdout",
     "output_type": "stream",
     "text": [
      "\n",
      "\n",
      "*** build_subnetwork() : features= {'images': <tf.Tensor 'IteratorGetNext:0' shape=(?, 28, 28) dtype=float32>}\n",
      "\n",
      "\n",
      "*** build_subnetwork() : self._feature_columns= [NumericColumn(key='images', shape=(28, 28), default_value=None, dtype=tf.float32, normalizer_fn=None)]\n",
      "\n",
      "\n",
      "*** build_subnetwork() : NN type= RNN / Input layer shape= (?, 784)\n",
      "\n",
      "*** _build_rnn_subnetwork() : output[-1]= Tensor(\"adanet/iteration_6/subnetwork_t6_RNN_SGRU_layer_4/rnn/rnn/multi_rnn_cell/cell_3/gru_cell/add_27:0\", shape=(?, 128), dtype=float32) / Weight= <tf.Variable 'adanet/iteration_6/subnetwork_t6_RNN_SGRU_layer_4/W:0' shape=(128, 10) dtype=float32_ref>\n",
      "\n",
      "***build_subnetwork() / RNN : logits shape= (?, 10)\n",
      "\n",
      "*** build_subnetwork() : last_layer= Tensor(\"adanet/iteration_6/subnetwork_t6_RNN_SGRU_layer_4/dense/BiasAdd:0\", shape=(?, 128), dtype=float32)\n",
      "INFO:tensorflow:Building subnetwork 'RNN_SGRU_layer_5'\n"
     ]
    },
    {
     "name": "stderr",
     "output_type": "stream",
     "text": [
      "I0523 02:43:42.072936 139898093799232 iteration.py:337] Building subnetwork 'RNN_SGRU_layer_5'\n"
     ]
    },
    {
     "name": "stdout",
     "output_type": "stream",
     "text": [
      "\n",
      "\n",
      "*** build_subnetwork() : features= {'images': <tf.Tensor 'IteratorGetNext:0' shape=(?, 28, 28) dtype=float32>}\n",
      "\n",
      "\n",
      "*** build_subnetwork() : self._feature_columns= [NumericColumn(key='images', shape=(28, 28), default_value=None, dtype=tf.float32, normalizer_fn=None)]\n",
      "\n",
      "\n",
      "*** build_subnetwork() : NN type= RNN / Input layer shape= (?, 784)\n",
      "\n",
      "*** _build_rnn_subnetwork() : output[-1]= Tensor(\"adanet/iteration_6/subnetwork_t6_RNN_SGRU_layer_5/rnn/rnn/multi_rnn_cell/cell_4/gru_cell/add_27:0\", shape=(?, 128), dtype=float32) / Weight= <tf.Variable 'adanet/iteration_6/subnetwork_t6_RNN_SGRU_layer_5/W:0' shape=(128, 10) dtype=float32_ref>\n",
      "\n",
      "***build_subnetwork() / RNN : logits shape= (?, 10)\n",
      "\n",
      "*** build_subnetwork() : last_layer= Tensor(\"adanet/iteration_6/subnetwork_t6_RNN_SGRU_layer_5/dense/BiasAdd:0\", shape=(?, 128), dtype=float32)\n",
      "WARNING:tensorflow:Using an `adanet.subnetwork.Builder#prune_previous_ensemble` is deprecated. Please use a custom `adanet.ensemble.Strategy` instead.\n"
     ]
    },
    {
     "name": "stderr",
     "output_type": "stream",
     "text": [
      "W0523 02:43:50.062037 139898093799232 tf_logging.py:161] Using an `adanet.subnetwork.Builder#prune_previous_ensemble` is deprecated. Please use a custom `adanet.ensemble.Strategy` instead.\n"
     ]
    },
    {
     "name": "stdout",
     "output_type": "stream",
     "text": [
      "INFO:tensorflow:*** _build_weighted_subnetwork_helper() : MixtureWeightType= vector\n"
     ]
    },
    {
     "name": "stderr",
     "output_type": "stream",
     "text": [
      "I0523 02:43:50.066731 139898093799232 weighted.py:391] *** _build_weighted_subnetwork_helper() : MixtureWeightType= vector\n"
     ]
    },
    {
     "name": "stdout",
     "output_type": "stream",
     "text": [
      "INFO:tensorflow:*** _build_weighted_subnetwork_helper() : MixtureWeightType= vector\n"
     ]
    },
    {
     "name": "stderr",
     "output_type": "stream",
     "text": [
      "I0523 02:43:50.073450 139898093799232 weighted.py:391] *** _build_weighted_subnetwork_helper() : MixtureWeightType= vector\n"
     ]
    },
    {
     "name": "stdout",
     "output_type": "stream",
     "text": [
      "INFO:tensorflow:*** _build_weighted_subnetwork_helper() : MixtureWeightType= vector\n"
     ]
    },
    {
     "name": "stderr",
     "output_type": "stream",
     "text": [
      "I0523 02:43:50.080070 139898093799232 weighted.py:391] *** _build_weighted_subnetwork_helper() : MixtureWeightType= vector\n"
     ]
    },
    {
     "name": "stdout",
     "output_type": "stream",
     "text": [
      "INFO:tensorflow:*** _build_weighted_subnetwork_helper() : MixtureWeightType= vector\n"
     ]
    },
    {
     "name": "stderr",
     "output_type": "stream",
     "text": [
      "I0523 02:43:50.086713 139898093799232 weighted.py:391] *** _build_weighted_subnetwork_helper() : MixtureWeightType= vector\n"
     ]
    },
    {
     "name": "stdout",
     "output_type": "stream",
     "text": [
      "INFO:tensorflow:*** _build_weighted_subnetwork_helper() : MixtureWeightType= vector\n"
     ]
    },
    {
     "name": "stderr",
     "output_type": "stream",
     "text": [
      "I0523 02:43:50.093410 139898093799232 weighted.py:391] *** _build_weighted_subnetwork_helper() : MixtureWeightType= vector\n"
     ]
    },
    {
     "name": "stdout",
     "output_type": "stream",
     "text": [
      "INFO:tensorflow:*** _build_weighted_subnetwork_helper() : MixtureWeightType= vector\n"
     ]
    },
    {
     "name": "stderr",
     "output_type": "stream",
     "text": [
      "I0523 02:43:50.100332 139898093799232 weighted.py:391] *** _build_weighted_subnetwork_helper() : MixtureWeightType= vector\n"
     ]
    },
    {
     "name": "stdout",
     "output_type": "stream",
     "text": [
      "INFO:tensorflow:*** _build_weighted_subnetwork_helper() : MixtureWeightType= vector\n"
     ]
    },
    {
     "name": "stderr",
     "output_type": "stream",
     "text": [
      "I0523 02:43:50.107130 139898093799232 weighted.py:391] *** _build_weighted_subnetwork_helper() : MixtureWeightType= vector\n"
     ]
    },
    {
     "name": "stdout",
     "output_type": "stream",
     "text": [
      "WARNING:tensorflow:The `build_mixture_weights_train_op` method is deprecated. Please use the `Ensembler#build_train_op` instead.\n"
     ]
    },
    {
     "name": "stderr",
     "output_type": "stream",
     "text": [
      "W0523 02:43:50.202736 139898093799232 tf_logging.py:161] The `build_mixture_weights_train_op` method is deprecated. Please use the `Ensembler#build_train_op` instead.\n"
     ]
    },
    {
     "name": "stdout",
     "output_type": "stream",
     "text": [
      "WARNING:tensorflow:Using an `adanet.subnetwork.Builder#prune_previous_ensemble` is deprecated. Please use a custom `adanet.ensemble.Strategy` instead.\n"
     ]
    },
    {
     "name": "stderr",
     "output_type": "stream",
     "text": [
      "W0523 02:43:50.454936 139898093799232 tf_logging.py:161] Using an `adanet.subnetwork.Builder#prune_previous_ensemble` is deprecated. Please use a custom `adanet.ensemble.Strategy` instead.\n"
     ]
    },
    {
     "name": "stdout",
     "output_type": "stream",
     "text": [
      "INFO:tensorflow:*** _build_weighted_subnetwork_helper() : MixtureWeightType= vector\n"
     ]
    },
    {
     "name": "stderr",
     "output_type": "stream",
     "text": [
      "I0523 02:43:50.459303 139898093799232 weighted.py:391] *** _build_weighted_subnetwork_helper() : MixtureWeightType= vector\n"
     ]
    },
    {
     "name": "stdout",
     "output_type": "stream",
     "text": [
      "INFO:tensorflow:*** _build_weighted_subnetwork_helper() : MixtureWeightType= vector\n"
     ]
    },
    {
     "name": "stderr",
     "output_type": "stream",
     "text": [
      "I0523 02:43:50.467138 139898093799232 weighted.py:391] *** _build_weighted_subnetwork_helper() : MixtureWeightType= vector\n"
     ]
    },
    {
     "name": "stdout",
     "output_type": "stream",
     "text": [
      "INFO:tensorflow:*** _build_weighted_subnetwork_helper() : MixtureWeightType= vector\n"
     ]
    },
    {
     "name": "stderr",
     "output_type": "stream",
     "text": [
      "I0523 02:43:50.474468 139898093799232 weighted.py:391] *** _build_weighted_subnetwork_helper() : MixtureWeightType= vector\n"
     ]
    },
    {
     "name": "stdout",
     "output_type": "stream",
     "text": [
      "INFO:tensorflow:*** _build_weighted_subnetwork_helper() : MixtureWeightType= vector\n"
     ]
    },
    {
     "name": "stderr",
     "output_type": "stream",
     "text": [
      "I0523 02:43:50.481679 139898093799232 weighted.py:391] *** _build_weighted_subnetwork_helper() : MixtureWeightType= vector\n"
     ]
    },
    {
     "name": "stdout",
     "output_type": "stream",
     "text": [
      "INFO:tensorflow:*** _build_weighted_subnetwork_helper() : MixtureWeightType= vector\n"
     ]
    },
    {
     "name": "stderr",
     "output_type": "stream",
     "text": [
      "I0523 02:43:50.488948 139898093799232 weighted.py:391] *** _build_weighted_subnetwork_helper() : MixtureWeightType= vector\n"
     ]
    },
    {
     "name": "stdout",
     "output_type": "stream",
     "text": [
      "INFO:tensorflow:*** _build_weighted_subnetwork_helper() : MixtureWeightType= vector\n"
     ]
    },
    {
     "name": "stderr",
     "output_type": "stream",
     "text": [
      "I0523 02:43:50.496128 139898093799232 weighted.py:391] *** _build_weighted_subnetwork_helper() : MixtureWeightType= vector\n"
     ]
    },
    {
     "name": "stdout",
     "output_type": "stream",
     "text": [
      "INFO:tensorflow:*** _build_weighted_subnetwork_helper() : MixtureWeightType= vector\n"
     ]
    },
    {
     "name": "stderr",
     "output_type": "stream",
     "text": [
      "I0523 02:43:50.503226 139898093799232 weighted.py:391] *** _build_weighted_subnetwork_helper() : MixtureWeightType= vector\n"
     ]
    },
    {
     "name": "stdout",
     "output_type": "stream",
     "text": [
      "WARNING:tensorflow:The `build_mixture_weights_train_op` method is deprecated. Please use the `Ensembler#build_train_op` instead.\n"
     ]
    },
    {
     "name": "stderr",
     "output_type": "stream",
     "text": [
      "W0523 02:43:50.598433 139898093799232 tf_logging.py:161] The `build_mixture_weights_train_op` method is deprecated. Please use the `Ensembler#build_train_op` instead.\n"
     ]
    },
    {
     "name": "stdout",
     "output_type": "stream",
     "text": [
      "INFO:tensorflow:Done calling model_fn.\n"
     ]
    },
    {
     "name": "stderr",
     "output_type": "stream",
     "text": [
      "I0523 02:43:50.866346 139898093799232 estimator.py:1113] Done calling model_fn.\n"
     ]
    },
    {
     "name": "stdout",
     "output_type": "stream",
     "text": [
      "INFO:tensorflow:Create CheckpointSaverHook.\n"
     ]
    },
    {
     "name": "stderr",
     "output_type": "stream",
     "text": [
      "I0523 02:43:50.867266 139898093799232 basic_session_run_hooks.py:527] Create CheckpointSaverHook.\n"
     ]
    },
    {
     "name": "stdout",
     "output_type": "stream",
     "text": [
      "INFO:tensorflow:Graph was finalized.\n"
     ]
    },
    {
     "name": "stderr",
     "output_type": "stream",
     "text": [
      "I0523 02:43:51.500832 139898093799232 monitored_session.py:222] Graph was finalized.\n"
     ]
    },
    {
     "name": "stdout",
     "output_type": "stream",
     "text": [
      "INFO:tensorflow:Restoring parameters from ./tmp/adanet/SGRU/increment.ckpt-6\n"
     ]
    },
    {
     "name": "stderr",
     "output_type": "stream",
     "text": [
      "I0523 02:43:51.503387 139898093799232 saver.py:1270] Restoring parameters from ./tmp/adanet/SGRU/increment.ckpt-6\n"
     ]
    },
    {
     "name": "stdout",
     "output_type": "stream",
     "text": [
      "INFO:tensorflow:Running local_init_op.\n"
     ]
    },
    {
     "name": "stderr",
     "output_type": "stream",
     "text": [
      "I0523 02:43:53.085772 139898093799232 session_manager.py:491] Running local_init_op.\n"
     ]
    },
    {
     "name": "stdout",
     "output_type": "stream",
     "text": [
      "INFO:tensorflow:Done running local_init_op.\n"
     ]
    },
    {
     "name": "stderr",
     "output_type": "stream",
     "text": [
      "I0523 02:43:53.443194 139898093799232 session_manager.py:493] Done running local_init_op.\n"
     ]
    },
    {
     "name": "stdout",
     "output_type": "stream",
     "text": [
      "INFO:tensorflow:Saving checkpoints for 42 into ./tmp/adanet/SGRU/model.ckpt.\n"
     ]
    },
    {
     "name": "stderr",
     "output_type": "stream",
     "text": [
      "I0523 02:44:06.219888 139898093799232 basic_session_run_hooks.py:594] Saving checkpoints for 42 into ./tmp/adanet/SGRU/model.ckpt.\n"
     ]
    },
    {
     "name": "stdout",
     "output_type": "stream",
     "text": [
      "INFO:tensorflow:loss = 2.1420972, step = 43\n"
     ]
    },
    {
     "name": "stderr",
     "output_type": "stream",
     "text": [
      "I0523 02:44:27.581556 139898093799232 basic_session_run_hooks.py:249] loss = 2.1420972, step = 43\n"
     ]
    },
    {
     "name": "stdout",
     "output_type": "stream",
     "text": [
      "INFO:tensorflow:Saving checkpoints for 49 into ./tmp/adanet/SGRU/model.ckpt.\n"
     ]
    },
    {
     "name": "stderr",
     "output_type": "stream",
     "text": [
      "I0523 02:45:05.050656 139898093799232 basic_session_run_hooks.py:594] Saving checkpoints for 49 into ./tmp/adanet/SGRU/model.ckpt.\n"
     ]
    },
    {
     "name": "stdout",
     "output_type": "stream",
     "text": [
      "\n",
      "*** input_fn() : feature_shape= (28, 28) / label_shape= [1]\n",
      "\n",
      "*** input_fn : TEST / feature_shape= (28, 28)\n",
      "\n",
      "*** preprocess_image() : image shape= (28, 28)\n",
      "\n",
      "*** preprocess_image() : features= {'images': <tf.Tensor 'arg0:0' shape=(28, 28) dtype=float32>} / label shape= ()\n",
      "\n",
      "***_input_fn() : Label shape =[1]\n",
      "INFO:tensorflow:Calling model_fn.\n"
     ]
    },
    {
     "name": "stderr",
     "output_type": "stream",
     "text": [
      "I0523 02:45:12.392525 139898093799232 estimator.py:1111] Calling model_fn.\n"
     ]
    },
    {
     "name": "stdout",
     "output_type": "stream",
     "text": [
      "\n",
      "*** NNAdaNetBuilder : NN Type=RNN\n",
      "\n",
      "*** get_tf_head() : feature shape= (28, 28)\n",
      "\n",
      "*** get_tf_head() : feature columns= [NumericColumn(key='images', shape=(28, 28), default_value=None, dtype=tf.float32, normalizer_fn=None)]\n",
      "\n",
      "*** NNAdaNetBuilder : NN Type=RNN\n",
      "\n",
      "*** get_tf_head() : feature shape= (28, 28)\n",
      "\n",
      "*** get_tf_head() : feature columns= [NumericColumn(key='images', shape=(28, 28), default_value=None, dtype=tf.float32, normalizer_fn=None)]\n",
      "INFO:tensorflow:Rebuilding iteration 0\n"
     ]
    },
    {
     "name": "stderr",
     "output_type": "stream",
     "text": [
      "I0523 02:45:12.410861 139898093799232 iteration.py:250] Rebuilding iteration 0\n"
     ]
    },
    {
     "name": "stdout",
     "output_type": "stream",
     "text": [
      "INFO:tensorflow:Rebuilding subnetwork 'RNN_SGRU_layer_2'\n"
     ]
    },
    {
     "name": "stderr",
     "output_type": "stream",
     "text": [
      "I0523 02:45:12.424441 139898093799232 iteration.py:337] Rebuilding subnetwork 'RNN_SGRU_layer_2'\n"
     ]
    },
    {
     "name": "stdout",
     "output_type": "stream",
     "text": [
      "\n",
      "\n",
      "*** build_subnetwork() : features= {'images': <tf.Tensor 'IteratorGetNext:0' shape=(?, 28, 28) dtype=float32>}\n",
      "\n",
      "\n",
      "*** build_subnetwork() : self._feature_columns= [NumericColumn(key='images', shape=(28, 28), default_value=None, dtype=tf.float32, normalizer_fn=None)]\n",
      "\n",
      "\n",
      "*** build_subnetwork() : NN type= RNN / Input layer shape= (?, 784)\n",
      "\n",
      "*** _build_rnn_subnetwork() : output[-1]= Tensor(\"adanet/iteration_0/subnetwork_t0_RNN_SGRU_layer_2/rnn/rnn/multi_rnn_cell/cell_1/gru_cell/add_27:0\", shape=(?, 128), dtype=float32) / Weight= <tf.Variable 'adanet/iteration_0/subnetwork_t0_RNN_SGRU_layer_2/W:0' shape=(128, 10) dtype=float32_ref>\n",
      "\n",
      "***build_subnetwork() / RNN : logits shape= (?, 10)\n",
      "\n",
      "*** build_subnetwork() : last_layer= Tensor(\"adanet/iteration_0/subnetwork_t0_RNN_SGRU_layer_2/dense/BiasAdd:0\", shape=(?, 128), dtype=float32)\n",
      "INFO:tensorflow:*** _build_weighted_subnetwork_helper() : MixtureWeightType= vector\n"
     ]
    },
    {
     "name": "stderr",
     "output_type": "stream",
     "text": [
      "I0523 02:45:13.993931 139898093799232 weighted.py:391] *** _build_weighted_subnetwork_helper() : MixtureWeightType= vector\n"
     ]
    },
    {
     "name": "stdout",
     "output_type": "stream",
     "text": [
      "\n",
      "*** NNAdaNetBuilder : NN Type=RNN\n",
      "\n",
      "*** get_tf_head() : feature shape= (28, 28)\n",
      "\n",
      "*** get_tf_head() : feature columns= [NumericColumn(key='images', shape=(28, 28), default_value=None, dtype=tf.float32, normalizer_fn=None)]\n",
      "\n",
      "*** NNAdaNetBuilder : NN Type=RNN\n",
      "\n",
      "*** get_tf_head() : feature shape= (28, 28)\n",
      "\n",
      "*** get_tf_head() : feature columns= [NumericColumn(key='images', shape=(28, 28), default_value=None, dtype=tf.float32, normalizer_fn=None)]\n",
      "INFO:tensorflow:Rebuilding iteration 1\n"
     ]
    },
    {
     "name": "stderr",
     "output_type": "stream",
     "text": [
      "I0523 02:45:14.322097 139898093799232 iteration.py:250] Rebuilding iteration 1\n"
     ]
    },
    {
     "name": "stdout",
     "output_type": "stream",
     "text": [
      "INFO:tensorflow:Rebuilding subnetwork 'RNN_SGRU_layer_3'\n"
     ]
    },
    {
     "name": "stderr",
     "output_type": "stream",
     "text": [
      "I0523 02:45:14.385107 139898093799232 iteration.py:337] Rebuilding subnetwork 'RNN_SGRU_layer_3'\n"
     ]
    },
    {
     "name": "stdout",
     "output_type": "stream",
     "text": [
      "\n",
      "\n",
      "*** build_subnetwork() : features= {'images': <tf.Tensor 'IteratorGetNext:0' shape=(?, 28, 28) dtype=float32>}\n",
      "\n",
      "\n",
      "*** build_subnetwork() : self._feature_columns= [NumericColumn(key='images', shape=(28, 28), default_value=None, dtype=tf.float32, normalizer_fn=None)]\n",
      "\n",
      "\n",
      "*** build_subnetwork() : NN type= RNN / Input layer shape= (?, 784)\n",
      "\n",
      "*** _build_rnn_subnetwork() : output[-1]= Tensor(\"adanet/iteration_1/subnetwork_t1_RNN_SGRU_layer_3/rnn/rnn/multi_rnn_cell/cell_2/gru_cell/add_27:0\", shape=(?, 128), dtype=float32) / Weight= <tf.Variable 'adanet/iteration_1/subnetwork_t1_RNN_SGRU_layer_3/W:0' shape=(128, 10) dtype=float32_ref>\n",
      "\n",
      "***build_subnetwork() / RNN : logits shape= (?, 10)\n",
      "\n",
      "*** build_subnetwork() : last_layer= Tensor(\"adanet/iteration_1/subnetwork_t1_RNN_SGRU_layer_3/dense/BiasAdd:0\", shape=(?, 128), dtype=float32)\n",
      "WARNING:tensorflow:Using an `adanet.subnetwork.Builder#prune_previous_ensemble` is deprecated. Please use a custom `adanet.ensemble.Strategy` instead.\n"
     ]
    },
    {
     "name": "stderr",
     "output_type": "stream",
     "text": [
      "W0523 02:45:16.091581 139898093799232 tf_logging.py:161] Using an `adanet.subnetwork.Builder#prune_previous_ensemble` is deprecated. Please use a custom `adanet.ensemble.Strategy` instead.\n"
     ]
    },
    {
     "name": "stdout",
     "output_type": "stream",
     "text": [
      "INFO:tensorflow:*** _build_weighted_subnetwork_helper() : MixtureWeightType= vector\n"
     ]
    },
    {
     "name": "stderr",
     "output_type": "stream",
     "text": [
      "I0523 02:45:16.098591 139898093799232 weighted.py:391] *** _build_weighted_subnetwork_helper() : MixtureWeightType= vector\n"
     ]
    },
    {
     "name": "stdout",
     "output_type": "stream",
     "text": [
      "INFO:tensorflow:*** _build_weighted_subnetwork_helper() : MixtureWeightType= vector\n"
     ]
    },
    {
     "name": "stderr",
     "output_type": "stream",
     "text": [
      "I0523 02:45:16.111915 139898093799232 weighted.py:391] *** _build_weighted_subnetwork_helper() : MixtureWeightType= vector\n"
     ]
    },
    {
     "name": "stdout",
     "output_type": "stream",
     "text": [
      "\n",
      "*** NNAdaNetBuilder : NN Type=RNN\n",
      "\n",
      "*** get_tf_head() : feature shape= (28, 28)\n",
      "\n",
      "*** get_tf_head() : feature columns= [NumericColumn(key='images', shape=(28, 28), default_value=None, dtype=tf.float32, normalizer_fn=None)]\n",
      "\n",
      "*** NNAdaNetBuilder : NN Type=RNN\n",
      "\n",
      "*** get_tf_head() : feature shape= (28, 28)\n",
      "\n",
      "*** get_tf_head() : feature columns= [NumericColumn(key='images', shape=(28, 28), default_value=None, dtype=tf.float32, normalizer_fn=None)]\n",
      "INFO:tensorflow:Rebuilding iteration 2\n"
     ]
    },
    {
     "name": "stderr",
     "output_type": "stream",
     "text": [
      "I0523 02:45:16.550276 139898093799232 iteration.py:250] Rebuilding iteration 2\n"
     ]
    },
    {
     "name": "stdout",
     "output_type": "stream",
     "text": [
      "INFO:tensorflow:Rebuilding subnetwork 'RNN_SGRU_layer_4'\n"
     ]
    },
    {
     "name": "stderr",
     "output_type": "stream",
     "text": [
      "I0523 02:45:16.692325 139898093799232 iteration.py:337] Rebuilding subnetwork 'RNN_SGRU_layer_4'\n"
     ]
    },
    {
     "name": "stdout",
     "output_type": "stream",
     "text": [
      "\n",
      "\n",
      "*** build_subnetwork() : features= {'images': <tf.Tensor 'IteratorGetNext:0' shape=(?, 28, 28) dtype=float32>}\n",
      "\n",
      "\n",
      "*** build_subnetwork() : self._feature_columns= [NumericColumn(key='images', shape=(28, 28), default_value=None, dtype=tf.float32, normalizer_fn=None)]\n",
      "\n",
      "\n",
      "*** build_subnetwork() : NN type= RNN / Input layer shape= (?, 784)\n",
      "\n",
      "*** _build_rnn_subnetwork() : output[-1]= Tensor(\"adanet/iteration_2/subnetwork_t2_RNN_SGRU_layer_4/rnn/rnn/multi_rnn_cell/cell_3/gru_cell/add_27:0\", shape=(?, 128), dtype=float32) / Weight= <tf.Variable 'adanet/iteration_2/subnetwork_t2_RNN_SGRU_layer_4/W:0' shape=(128, 10) dtype=float32_ref>\n",
      "\n",
      "***build_subnetwork() / RNN : logits shape= (?, 10)\n",
      "\n",
      "*** build_subnetwork() : last_layer= Tensor(\"adanet/iteration_2/subnetwork_t2_RNN_SGRU_layer_4/dense/BiasAdd:0\", shape=(?, 128), dtype=float32)\n",
      "WARNING:tensorflow:Using an `adanet.subnetwork.Builder#prune_previous_ensemble` is deprecated. Please use a custom `adanet.ensemble.Strategy` instead.\n"
     ]
    },
    {
     "name": "stderr",
     "output_type": "stream",
     "text": [
      "W0523 02:45:19.575056 139898093799232 tf_logging.py:161] Using an `adanet.subnetwork.Builder#prune_previous_ensemble` is deprecated. Please use a custom `adanet.ensemble.Strategy` instead.\n"
     ]
    },
    {
     "name": "stdout",
     "output_type": "stream",
     "text": [
      "INFO:tensorflow:*** _build_weighted_subnetwork_helper() : MixtureWeightType= vector\n"
     ]
    },
    {
     "name": "stderr",
     "output_type": "stream",
     "text": [
      "I0523 02:45:19.585538 139898093799232 weighted.py:391] *** _build_weighted_subnetwork_helper() : MixtureWeightType= vector\n"
     ]
    },
    {
     "name": "stdout",
     "output_type": "stream",
     "text": [
      "INFO:tensorflow:*** _build_weighted_subnetwork_helper() : MixtureWeightType= vector\n"
     ]
    },
    {
     "name": "stderr",
     "output_type": "stream",
     "text": [
      "I0523 02:45:19.601520 139898093799232 weighted.py:391] *** _build_weighted_subnetwork_helper() : MixtureWeightType= vector\n"
     ]
    },
    {
     "name": "stdout",
     "output_type": "stream",
     "text": [
      "INFO:tensorflow:*** _build_weighted_subnetwork_helper() : MixtureWeightType= vector\n"
     ]
    },
    {
     "name": "stderr",
     "output_type": "stream",
     "text": [
      "I0523 02:45:19.617601 139898093799232 weighted.py:391] *** _build_weighted_subnetwork_helper() : MixtureWeightType= vector\n"
     ]
    },
    {
     "name": "stdout",
     "output_type": "stream",
     "text": [
      "\n",
      "*** NNAdaNetBuilder : NN Type=RNN\n",
      "\n",
      "*** get_tf_head() : feature shape= (28, 28)\n",
      "\n",
      "*** get_tf_head() : feature columns= [NumericColumn(key='images', shape=(28, 28), default_value=None, dtype=tf.float32, normalizer_fn=None)]\n",
      "\n",
      "*** NNAdaNetBuilder : NN Type=RNN\n",
      "\n",
      "*** get_tf_head() : feature shape= (28, 28)\n",
      "\n",
      "*** get_tf_head() : feature columns= [NumericColumn(key='images', shape=(28, 28), default_value=None, dtype=tf.float32, normalizer_fn=None)]\n",
      "INFO:tensorflow:Rebuilding iteration 3\n"
     ]
    },
    {
     "name": "stderr",
     "output_type": "stream",
     "text": [
      "I0523 02:45:20.144779 139898093799232 iteration.py:250] Rebuilding iteration 3\n"
     ]
    },
    {
     "name": "stdout",
     "output_type": "stream",
     "text": [
      "INFO:tensorflow:Rebuilding subnetwork 'RNN_SGRU_layer_4'\n"
     ]
    },
    {
     "name": "stderr",
     "output_type": "stream",
     "text": [
      "I0523 02:45:20.229383 139898093799232 iteration.py:337] Rebuilding subnetwork 'RNN_SGRU_layer_4'\n"
     ]
    },
    {
     "name": "stdout",
     "output_type": "stream",
     "text": [
      "\n",
      "\n",
      "*** build_subnetwork() : features= {'images': <tf.Tensor 'IteratorGetNext:0' shape=(?, 28, 28) dtype=float32>}\n",
      "\n",
      "\n",
      "*** build_subnetwork() : self._feature_columns= [NumericColumn(key='images', shape=(28, 28), default_value=None, dtype=tf.float32, normalizer_fn=None)]\n",
      "\n",
      "\n",
      "*** build_subnetwork() : NN type= RNN / Input layer shape= (?, 784)\n",
      "\n",
      "*** _build_rnn_subnetwork() : output[-1]= Tensor(\"adanet/iteration_3/subnetwork_t3_RNN_SGRU_layer_4/rnn/rnn/multi_rnn_cell/cell_3/gru_cell/add_27:0\", shape=(?, 128), dtype=float32) / Weight= <tf.Variable 'adanet/iteration_3/subnetwork_t3_RNN_SGRU_layer_4/W:0' shape=(128, 10) dtype=float32_ref>\n",
      "\n",
      "***build_subnetwork() / RNN : logits shape= (?, 10)\n",
      "\n",
      "*** build_subnetwork() : last_layer= Tensor(\"adanet/iteration_3/subnetwork_t3_RNN_SGRU_layer_4/dense/BiasAdd:0\", shape=(?, 128), dtype=float32)\n",
      "WARNING:tensorflow:Using an `adanet.subnetwork.Builder#prune_previous_ensemble` is deprecated. Please use a custom `adanet.ensemble.Strategy` instead.\n"
     ]
    },
    {
     "name": "stderr",
     "output_type": "stream",
     "text": [
      "W0523 02:45:23.641317 139898093799232 tf_logging.py:161] Using an `adanet.subnetwork.Builder#prune_previous_ensemble` is deprecated. Please use a custom `adanet.ensemble.Strategy` instead.\n"
     ]
    },
    {
     "name": "stdout",
     "output_type": "stream",
     "text": [
      "INFO:tensorflow:*** _build_weighted_subnetwork_helper() : MixtureWeightType= vector\n"
     ]
    },
    {
     "name": "stderr",
     "output_type": "stream",
     "text": [
      "I0523 02:45:23.666585 139898093799232 weighted.py:391] *** _build_weighted_subnetwork_helper() : MixtureWeightType= vector\n"
     ]
    },
    {
     "name": "stdout",
     "output_type": "stream",
     "text": [
      "INFO:tensorflow:*** _build_weighted_subnetwork_helper() : MixtureWeightType= vector\n"
     ]
    },
    {
     "name": "stderr",
     "output_type": "stream",
     "text": [
      "I0523 02:45:23.713562 139898093799232 weighted.py:391] *** _build_weighted_subnetwork_helper() : MixtureWeightType= vector\n"
     ]
    },
    {
     "name": "stdout",
     "output_type": "stream",
     "text": [
      "INFO:tensorflow:*** _build_weighted_subnetwork_helper() : MixtureWeightType= vector\n"
     ]
    },
    {
     "name": "stderr",
     "output_type": "stream",
     "text": [
      "I0523 02:45:23.743250 139898093799232 weighted.py:391] *** _build_weighted_subnetwork_helper() : MixtureWeightType= vector\n"
     ]
    },
    {
     "name": "stdout",
     "output_type": "stream",
     "text": [
      "INFO:tensorflow:*** _build_weighted_subnetwork_helper() : MixtureWeightType= vector\n"
     ]
    },
    {
     "name": "stderr",
     "output_type": "stream",
     "text": [
      "I0523 02:45:23.767091 139898093799232 weighted.py:391] *** _build_weighted_subnetwork_helper() : MixtureWeightType= vector\n"
     ]
    },
    {
     "name": "stdout",
     "output_type": "stream",
     "text": [
      "\n",
      "*** NNAdaNetBuilder : NN Type=RNN\n",
      "\n",
      "*** get_tf_head() : feature shape= (28, 28)\n",
      "\n",
      "*** get_tf_head() : feature columns= [NumericColumn(key='images', shape=(28, 28), default_value=None, dtype=tf.float32, normalizer_fn=None)]\n",
      "\n",
      "*** NNAdaNetBuilder : NN Type=RNN\n",
      "\n",
      "*** get_tf_head() : feature shape= (28, 28)\n",
      "\n",
      "*** get_tf_head() : feature columns= [NumericColumn(key='images', shape=(28, 28), default_value=None, dtype=tf.float32, normalizer_fn=None)]\n",
      "INFO:tensorflow:Rebuilding iteration 4\n"
     ]
    },
    {
     "name": "stderr",
     "output_type": "stream",
     "text": [
      "I0523 02:45:24.590246 139898093799232 iteration.py:250] Rebuilding iteration 4\n"
     ]
    },
    {
     "name": "stdout",
     "output_type": "stream",
     "text": [
      "INFO:tensorflow:Rebuilding subnetwork 'RNN_SGRU_layer_4'\n"
     ]
    },
    {
     "name": "stderr",
     "output_type": "stream",
     "text": [
      "I0523 02:45:24.910225 139898093799232 iteration.py:337] Rebuilding subnetwork 'RNN_SGRU_layer_4'\n"
     ]
    },
    {
     "name": "stdout",
     "output_type": "stream",
     "text": [
      "\n",
      "\n",
      "*** build_subnetwork() : features= {'images': <tf.Tensor 'IteratorGetNext:0' shape=(?, 28, 28) dtype=float32>}\n",
      "\n",
      "\n",
      "*** build_subnetwork() : self._feature_columns= [NumericColumn(key='images', shape=(28, 28), default_value=None, dtype=tf.float32, normalizer_fn=None)]\n",
      "\n",
      "\n",
      "*** build_subnetwork() : NN type= RNN / Input layer shape= (?, 784)\n",
      "\n",
      "*** _build_rnn_subnetwork() : output[-1]= Tensor(\"adanet/iteration_4/subnetwork_t4_RNN_SGRU_layer_4/rnn/rnn/multi_rnn_cell/cell_3/gru_cell/add_27:0\", shape=(?, 128), dtype=float32) / Weight= <tf.Variable 'adanet/iteration_4/subnetwork_t4_RNN_SGRU_layer_4/W:0' shape=(128, 10) dtype=float32_ref>\n",
      "\n",
      "***build_subnetwork() / RNN : logits shape= (?, 10)\n",
      "\n",
      "*** build_subnetwork() : last_layer= Tensor(\"adanet/iteration_4/subnetwork_t4_RNN_SGRU_layer_4/dense/BiasAdd:0\", shape=(?, 128), dtype=float32)\n"
     ]
    }
   ],
   "source": [
    "import time\n",
    "import p8_util\n",
    "start_time = time.time()\n",
    "results, _ = p8_util.train_and_evaluate(adanet_estimator)\n",
    "end_time = time.time()"
   ]
  },
  {
   "cell_type": "code",
   "execution_count": null,
   "metadata": {},
   "outputs": [],
   "source": [
    "224*224*3"
   ]
  },
  {
   "cell_type": "markdown",
   "metadata": {},
   "source": [
    "#### Display results"
   ]
  },
  {
   "cell_type": "code",
   "execution_count": null,
   "metadata": {
    "colab": {
     "base_uri": "https://localhost:8080/",
     "height": 1295
    },
    "colab_type": "code",
    "executionInfo": {
     "elapsed": 2118,
     "status": "error",
     "timestamp": 1554720133634,
     "user": {
      "displayName": "FBT Telecom",
      "photoUrl": "",
      "userId": "01928442219250440173"
     },
     "user_tz": -120
    },
    "id": "_reIMFwIcDKL",
    "outputId": "5db434df-7c87-4eaf-ab11-e3a91c5425a7",
    "scrolled": true
   },
   "outputs": [],
   "source": [
    "print(\"\\n------------------------------------------------\")\n",
    "print(\"Time (sec)\", end_time-start_time)\n",
    "for key in results.keys() :\n",
    "    title =key.upper()\n",
    "    print(\"\\n{}: {}\".format(title, results[key]))\n"
   ]
  },
  {
   "cell_type": "code",
   "execution_count": null,
   "metadata": {},
   "outputs": [],
   "source": [
    "import tensorflow as tf\n",
    "def ensemble_architecture(result):\n",
    "  \"\"\"Extracts the ensemble architecture from evaluation results.\"\"\"\n",
    "\n",
    "  architecture = result[\"architecture/adanet/ensembles\"]\n",
    "  # The architecture is a serialized Summary proto for TensorBoard.\n",
    "  summary_proto = tf.summary.Summary.FromString(architecture)\n",
    "  return summary_proto.value[0].tensor.string_val[0]"
   ]
  },
  {
   "cell_type": "code",
   "execution_count": null,
   "metadata": {},
   "outputs": [],
   "source": [
    "print(\"Architecture: {} / Accuracy= {} /Loss= {}\".format(ensemble_architecture(results)\\\n",
    "                                                  , results['accuracy'], results['loss']))"
   ]
  },
  {
   "cell_type": "markdown",
   "metadata": {},
   "source": [
    "#### Activate tensorflow monotoring"
   ]
  },
  {
   "cell_type": "code",
   "execution_count": 5,
   "metadata": {},
   "outputs": [],
   "source": [
    "if is_tensorboard is True :\n",
    "    get_ipython().system_raw(\n",
    "        'tensorboard --logdir {} --host localhost --port 6006 &'\n",
    "        .format(output_dir_log)\n",
    "    )\n",
    "\n",
    "\n",
    "    get_ipython().system_raw('./assets/ngrok http 6006 &')"
   ]
  },
  {
   "cell_type": "code",
   "execution_count": 4,
   "metadata": {},
   "outputs": [],
   "source": [
    "output_dir_log='./tmp/adanet/SGRU'"
   ]
  },
  {
   "cell_type": "code",
   "execution_count": null,
   "metadata": {},
   "outputs": [],
   "source": [
    "300/40"
   ]
  },
  {
   "cell_type": "code",
   "execution_count": null,
   "metadata": {},
   "outputs": [],
   "source": [
    "40*8"
   ]
  },
  {
   "cell_type": "code",
   "execution_count": null,
   "metadata": {},
   "outputs": [],
   "source": []
  }
 ],
 "metadata": {
  "accelerator": "GPU",
  "colab": {
   "collapsed_sections": [],
   "name": "Untitled0.ipynb",
   "provenance": [],
   "version": "0.3.2"
  },
  "kernelspec": {
   "display_name": "Python 3",
   "language": "python",
   "name": "python3"
  },
  "language_info": {
   "codemirror_mode": {
    "name": "ipython",
    "version": 3
   },
   "file_extension": ".py",
   "mimetype": "text/x-python",
   "name": "python",
   "nbconvert_exporter": "python",
   "pygments_lexer": "ipython3",
   "version": "3.6.8"
  }
 },
 "nbformat": 4,
 "nbformat_minor": 1
}
