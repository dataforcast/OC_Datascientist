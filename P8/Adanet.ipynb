{
 "cells": [
  {
   "cell_type": "code",
   "execution_count": 1,
   "metadata": {
    "colab": {},
    "colab_type": "code",
    "id": "jOUQoPfSYUGp"
   },
   "outputs": [],
   "source": [
    "%load_ext autoreload\n",
    "%autoreload 2\n",
    "import adanet"
   ]
  },
  {
   "cell_type": "code",
   "execution_count": 2,
   "metadata": {
    "colab": {},
    "colab_type": "code",
    "id": "BUkDiPBiM7dy"
   },
   "outputs": [],
   "source": [
    "OUTPUT_DIR = './tmp/adanet'\n",
    "datadir = './data'\n",
    "is_tensorboard = True"
   ]
  },
  {
   "cell_type": "code",
   "execution_count": 3,
   "metadata": {},
   "outputs": [
    {
     "name": "stdout",
     "output_type": "stream",
     "text": [
      "kill: (25461)kill: (25467)"
     ]
    }
   ],
   "source": [
    "# this will kill the processes for Tensorboard\n",
    "if is_tensorboard is True :\n",
    "    !ps aux | grep tensorboard | awk '{print $2}' | xargs kill\n",
    "\n",
    "# this will kill the processes for ngrok\n",
    "if is_tensorboard is True :\n",
    "    !ps aux | grep ngrok | awk '{print $2}' | xargs kill"
   ]
  },
  {
   "cell_type": "code",
   "execution_count": 4,
   "metadata": {},
   "outputs": [
    {
     "name": "stderr",
     "output_type": "stream",
     "text": [
      "Using TensorFlow backend.\n"
     ]
    },
    {
     "name": "stdout",
     "output_type": "stream",
     "text": [
      "p5_util.object_load : fileName= ./data/arr_keras_X_y_train_test.dump\n",
      "(414, 224, 224, 3) (47, 224, 224, 3)\n"
     ]
    }
   ],
   "source": [
    "import p8_util\n",
    "filename_dataset=datadir+'/arr_keras_X_y_train_test.dump'\n",
    "x_train, x_test, y_train, y_test, nClasses, tuple_dimension = p8_util.load_dataset(filename_dataset)\n",
    "print(x_train.shape, x_test.shape)"
   ]
  },
  {
   "cell_type": "code",
   "execution_count": 5,
   "metadata": {},
   "outputs": [
    {
     "data": {
      "text/plain": [
       "3"
      ]
     },
     "execution_count": 5,
     "metadata": {},
     "output_type": "execute_result"
    }
   ],
   "source": [
    "import p8_util_config\n",
    "p8_util_config.ADANET_MAX_ITERATION_STEPS"
   ]
  },
  {
   "cell_type": "code",
   "execution_count": 6,
   "metadata": {},
   "outputs": [
    {
     "name": "stdout",
     "output_type": "stream",
     "text": [
      "*** INFO : MyGenerator : instantiation DONE!\n",
      "INFO:tensorflow:Using config: {'_model_dir': './tmp/adanet/CNN', '_tf_random_seed': 42, '_save_summary_steps': 5, '_save_checkpoints_steps': 5, '_save_checkpoints_secs': None, '_session_config': allow_soft_placement: true\n",
      "graph_options {\n",
      "  rewrite_options {\n",
      "    meta_optimizer_iterations: ONE\n",
      "  }\n",
      "}\n",
      ", '_keep_checkpoint_max': 5, '_keep_checkpoint_every_n_hours': 10000, '_log_step_count_steps': 100, '_train_distribute': None, '_device_fn': None, '_protocol': None, '_eval_distribute': None, '_experimental_distribute': None, '_service': None, '_cluster_spec': <tensorflow.python.training.server_lib.ClusterSpec object at 0x7f04d26f13c8>, '_task_type': 'worker', '_task_id': 0, '_global_id_in_cluster': 0, '_master': '', '_evaluation_master': '', '_is_chief': True, '_num_ps_replicas': 0, '_num_worker_replicas': 1}\n"
     ]
    }
   ],
   "source": [
    "import p8_util_config\n",
    "import NNGenerator\n",
    "\n",
    "nn_type = p8_util_config.dict_adanet_config['adanet_nn_layer_config']['nn_type']\n",
    "my_config = p8_util.make_config(nn_type,output_dir=OUTPUT_DIR, is_restored=False)\n",
    "\n",
    "nClasses = p8_util_config.dict_adanet_config['adanet_nn_layer_config']['nn_type']\n",
    "\n",
    "estimator = adanet.Estimator(\n",
    "    head=p8_util_config.dict_adanet_config['adanet_tf_head'],\n",
    "    \n",
    "    subnetwork_generator=NNGenerator.NNGenerator(p8_util_config.dict_adanet_config),\n",
    "            \n",
    "    adanet_lambda=p8_util_config.dict_adanet_config['adanet_lambda'],#0.0,#.015,\n",
    "    \n",
    "    max_iteration_steps=p8_util_config.ADANET_MAX_ITERATION_STEPS,\n",
    "    \n",
    "    evaluator=adanet.Evaluator(\n",
    "        input_fn=p8_util.input_fn(\"train\", x_train, y_train\\\n",
    "                          , p8_util_config.NUM_EPOCHS\n",
    "                          , tuple_dimension=tuple_dimension\\\n",
    "                          , batch_size=p8_util_config.BATCH_SIZE),\n",
    "        steps=None),\n",
    "    config=  my_config)"
   ]
  },
  {
   "cell_type": "code",
   "execution_count": 7,
   "metadata": {},
   "outputs": [
    {
     "name": "stdout",
     "output_type": "stream",
     "text": [
      "Global steps= 9\n",
      "MAX Adanet steps= 3\n"
     ]
    }
   ],
   "source": [
    "import p8_util_config\n",
    "print(\"Global steps= {}\".format(p8_util_config.TRAIN_STEPS))\n",
    "print(\"MAX Adanet steps= {}\".format(p8_util_config.ADANET_MAX_ITERATION_STEPS))"
   ]
  },
  {
   "cell_type": "code",
   "execution_count": 8,
   "metadata": {
    "colab": {
     "base_uri": "https://localhost:8080/",
     "height": 1295
    },
    "colab_type": "code",
    "executionInfo": {
     "elapsed": 2118,
     "status": "error",
     "timestamp": 1554720133634,
     "user": {
      "displayName": "FBT Telecom",
      "photoUrl": "",
      "userId": "01928442219250440173"
     },
     "user_tz": -120
    },
    "id": "_reIMFwIcDKL",
    "outputId": "5db434df-7c87-4eaf-ab11-e3a91c5425a7"
   },
   "outputs": [
    {
     "name": "stdout",
     "output_type": "stream",
     "text": [
      "INFO:tensorflow:Not using Distribute Coordinator.\n",
      "INFO:tensorflow:Running training and evaluation locally (non-distributed).\n",
      "INFO:tensorflow:Start train and evaluate loop. The evaluate will happen after every checkpoint. Checkpoint frequency is determined based on RunConfig arguments: save_checkpoints_steps 5 or save_checkpoints_secs None.\n",
      "INFO:tensorflow:Beginning training AdaNet iteration 0\n",
      "INFO:tensorflow:Calling model_fn.\n",
      "\n",
      "*** NNGenerator : layers= (0,1)\n",
      "\n",
      "*** NNAdaNetBuilder : NN Type=CNN\n",
      "\n",
      "*** NNAdaNetBuilder : NN Type=CNN\n",
      "INFO:tensorflow:Building iteration 0\n",
      "INFO:tensorflow:Building subnetwork 'CNN_linear'\n",
      "\n",
      "\n",
      "*** build_subnetwork() : NN type= CNN\n",
      "INFO:tensorflow:Building subnetwork 'CNN_layer_1'\n",
      "\n",
      "\n",
      "*** build_subnetwork() : NN type= CNN\n",
      "INFO:tensorflow:Done calling model_fn.\n",
      "INFO:tensorflow:Create CheckpointSaverHook.\n",
      "INFO:tensorflow:Graph was finalized.\n",
      "INFO:tensorflow:Running local_init_op.\n",
      "INFO:tensorflow:Done running local_init_op.\n",
      "INFO:tensorflow:Saving checkpoints for 0 into ./tmp/adanet/CNN/model.ckpt.\n",
      "INFO:tensorflow:loss = 1.5812107, step = 1\n",
      "INFO:tensorflow:Saving checkpoints for 3 into ./tmp/adanet/CNN/model.ckpt.\n",
      "INFO:tensorflow:Calling model_fn.\n",
      "\n",
      "*** NNGenerator : layers= (0,1)\n",
      "\n",
      "*** NNAdaNetBuilder : NN Type=CNN\n",
      "\n",
      "*** NNAdaNetBuilder : NN Type=CNN\n",
      "INFO:tensorflow:Building iteration 0\n",
      "INFO:tensorflow:Building subnetwork 'CNN_linear'\n",
      "\n",
      "\n",
      "*** build_subnetwork() : NN type= CNN\n",
      "INFO:tensorflow:Building subnetwork 'CNN_layer_1'\n",
      "\n",
      "\n",
      "*** build_subnetwork() : NN type= CNN\n",
      "INFO:tensorflow:Done calling model_fn.\n",
      "INFO:tensorflow:Starting evaluation at 2019-04-25-22:21:56\n",
      "INFO:tensorflow:Graph was finalized.\n",
      "INFO:tensorflow:Restoring parameters from ./tmp/adanet/CNN/model.ckpt-3\n",
      "INFO:tensorflow:Running local_init_op.\n",
      "INFO:tensorflow:Done running local_init_op.\n",
      "INFO:tensorflow:Saving candidate 't0_CNN_linear' dict for global step 3: accuracy/adanet/adanet_weighted_ensemble = 0.31914893, accuracy/adanet/subnetwork = 0.31914893, accuracy/adanet/uniform_average_ensemble = 0.31914893, architecture/adanet/ensembles = b'\\n_\\n=adanet/iteration_0/ensemble_t0_CNN_linear/architecture/adanetB\\x14\\x08\\x07\\x12\\x00B\\x0e| CNN_linear |J\\x08\\n\\x06\\n\\x04text', average_loss/adanet/adanet_weighted_ensemble = 1.1023594, average_loss/adanet/subnetwork = 1.1023624, average_loss/adanet/uniform_average_ensemble = 1.1023624, loss/adanet/adanet_weighted_ensemble = 1.0845728, loss/adanet/subnetwork = 1.084571, loss/adanet/uniform_average_ensemble = 1.084571\n",
      "INFO:tensorflow:Saving candidate 't0_CNN_layer_1' dict for global step 3: accuracy/adanet/adanet_weighted_ensemble = 0.31914893, accuracy/adanet/subnetwork = 0.31914893, accuracy/adanet/uniform_average_ensemble = 0.31914893, architecture/adanet/ensembles = b'\\na\\n>adanet/iteration_0/ensemble_t0_CNN_layer_1/architecture/adanetB\\x15\\x08\\x07\\x12\\x00B\\x0f| CNN_layer_1 |J\\x08\\n\\x06\\n\\x04text', average_loss/adanet/adanet_weighted_ensemble = 1.1000831, average_loss/adanet/subnetwork = 1.1000851, average_loss/adanet/uniform_average_ensemble = 1.1000851, loss/adanet/adanet_weighted_ensemble = 1.1186914, loss/adanet/subnetwork = 1.1186993, loss/adanet/uniform_average_ensemble = 1.1186993\n",
      "INFO:tensorflow:Finished evaluation at 2019-04-25-22:21:58\n",
      "INFO:tensorflow:Saving dict for global step 3: accuracy = 0.31914893, accuracy/adanet/adanet_weighted_ensemble = 0.31914893, accuracy/adanet/subnetwork = 0.31914893, accuracy/adanet/uniform_average_ensemble = 0.31914893, average_loss = 1.1023594, average_loss/adanet/adanet_weighted_ensemble = 1.1023594, average_loss/adanet/subnetwork = 1.1023624, average_loss/adanet/uniform_average_ensemble = 1.1023624, global_step = 3, loss = 1.0845728, loss/adanet/adanet_weighted_ensemble = 1.0845728, loss/adanet/subnetwork = 1.084571, loss/adanet/uniform_average_ensemble = 1.084571\n",
      "INFO:tensorflow:Saving 'checkpoint_path' summary for global step 3: ./tmp/adanet/CNN/model.ckpt-3\n",
      "INFO:tensorflow:Loss for final step: 1.6219805.\n",
      "INFO:tensorflow:Finished training Adanet iteration 0\n",
      "INFO:tensorflow:Beginning bookkeeping phase for iteration 0\n",
      "\n",
      "*** NNGenerator : layers= (0,1)\n",
      "\n",
      "*** NNAdaNetBuilder : NN Type=CNN\n",
      "\n",
      "*** NNAdaNetBuilder : NN Type=CNN\n",
      "INFO:tensorflow:Building iteration 0\n",
      "INFO:tensorflow:Building subnetwork 'CNN_linear'\n",
      "\n",
      "\n",
      "*** build_subnetwork() : NN type= CNN\n",
      "INFO:tensorflow:Building subnetwork 'CNN_layer_1'\n",
      "\n",
      "\n",
      "*** build_subnetwork() : NN type= CNN\n",
      "INFO:tensorflow:Starting ensemble evaluation for iteration 0\n",
      "INFO:tensorflow:Restoring parameters from ./tmp/adanet/CNN/model.ckpt-3\n",
      "WARNING:tensorflow:From /home/bangui/anaconda3/lib/python3.6/site-packages/adanet/core/estimator.py:729: start_queue_runners (from tensorflow.python.training.queue_runner_impl) is deprecated and will be removed in a future version.\n",
      "Instructions for updating:\n",
      "To construct input pipelines, use the `tf.data` module.\n",
      "WARNING:tensorflow:`tf.train.start_queue_runners()` was called when no queue runners were defined. You can safely remove the call to this deprecated function.\n",
      "INFO:tensorflow:Encountered end of input after 440 evaluations\n",
      "INFO:tensorflow:Computed ensemble metrics: adanet_loss/t0_CNN_linear = 1.143764, adanet_loss/t0_CNN_layer_1 = 1.135332\n",
      "INFO:tensorflow:Finished ensemble evaluation for iteration 0\n",
      "INFO:tensorflow:'t0_CNN_layer_1' at index 1 is moving onto the next iteration\n",
      "INFO:tensorflow:Importing architecture from ./tmp/adanet/CNN/architecture-0.txt: ['0:CNN_layer_1'].\n",
      "\n",
      "*** NNGenerator : layers= (0,1)\n",
      "\n",
      "*** NNAdaNetBuilder : NN Type=CNN\n",
      "\n",
      "*** NNAdaNetBuilder : NN Type=CNN\n",
      "INFO:tensorflow:Rebuilding iteration 0\n",
      "INFO:tensorflow:Building subnetwork 'CNN_layer_1'\n",
      "\n",
      "\n",
      "*** build_subnetwork() : NN type= CNN\n",
      "INFO:tensorflow:Warm-starting from: ('./tmp/adanet/CNN/model.ckpt-3',)\n",
      "INFO:tensorflow:Warm-starting variable: global_step; prev_var_name: Unchanged\n",
      "INFO:tensorflow:Warm-starting variable: adanet/iteration_0/step; prev_var_name: Unchanged\n",
      "INFO:tensorflow:Warm-starting variable: adanet/iteration_0/ensemble_t0_CNN_layer_1/weighted_subnetwork_0/subnetwork/batch_normalization/gamma; prev_var_name: Unchanged\n",
      "INFO:tensorflow:Warm-starting variable: adanet/iteration_0/ensemble_t0_CNN_layer_1/weighted_subnetwork_0/subnetwork/batch_normalization/beta; prev_var_name: Unchanged\n",
      "INFO:tensorflow:Warm-starting variable: adanet/iteration_0/ensemble_t0_CNN_layer_1/weighted_subnetwork_0/subnetwork/batch_normalization/moving_mean; prev_var_name: Unchanged\n",
      "INFO:tensorflow:Warm-starting variable: adanet/iteration_0/ensemble_t0_CNN_layer_1/weighted_subnetwork_0/subnetwork/batch_normalization/moving_variance; prev_var_name: Unchanged\n",
      "INFO:tensorflow:Warm-starting variable: adanet/iteration_0/ensemble_t0_CNN_layer_1/weighted_subnetwork_0/subnetwork/conv2d/kernel; prev_var_name: Unchanged\n",
      "INFO:tensorflow:Warm-starting variable: adanet/iteration_0/ensemble_t0_CNN_layer_1/weighted_subnetwork_0/subnetwork/conv2d/bias; prev_var_name: Unchanged\n",
      "INFO:tensorflow:Warm-starting variable: adanet/iteration_0/ensemble_t0_CNN_layer_1/weighted_subnetwork_0/subnetwork/batch_normalization_1/gamma; prev_var_name: Unchanged\n",
      "INFO:tensorflow:Warm-starting variable: adanet/iteration_0/ensemble_t0_CNN_layer_1/weighted_subnetwork_0/subnetwork/batch_normalization_1/beta; prev_var_name: Unchanged\n",
      "INFO:tensorflow:Warm-starting variable: adanet/iteration_0/ensemble_t0_CNN_layer_1/weighted_subnetwork_0/subnetwork/batch_normalization_1/moving_mean; prev_var_name: Unchanged\n",
      "INFO:tensorflow:Warm-starting variable: adanet/iteration_0/ensemble_t0_CNN_layer_1/weighted_subnetwork_0/subnetwork/batch_normalization_1/moving_variance; prev_var_name: Unchanged\n",
      "INFO:tensorflow:Warm-starting variable: adanet/iteration_0/ensemble_t0_CNN_layer_1/weighted_subnetwork_0/subnetwork/conv2d_1/kernel; prev_var_name: Unchanged\n",
      "INFO:tensorflow:Warm-starting variable: adanet/iteration_0/ensemble_t0_CNN_layer_1/weighted_subnetwork_0/subnetwork/conv2d_1/bias; prev_var_name: Unchanged\n",
      "INFO:tensorflow:Warm-starting variable: adanet/iteration_0/ensemble_t0_CNN_layer_1/weighted_subnetwork_0/subnetwork/batch_normalization_2/gamma; prev_var_name: Unchanged\n",
      "INFO:tensorflow:Warm-starting variable: adanet/iteration_0/ensemble_t0_CNN_layer_1/weighted_subnetwork_0/subnetwork/batch_normalization_2/beta; prev_var_name: Unchanged\n"
     ]
    },
    {
     "name": "stdout",
     "output_type": "stream",
     "text": [
      "INFO:tensorflow:Warm-starting variable: adanet/iteration_0/ensemble_t0_CNN_layer_1/weighted_subnetwork_0/subnetwork/batch_normalization_2/moving_mean; prev_var_name: Unchanged\n",
      "INFO:tensorflow:Warm-starting variable: adanet/iteration_0/ensemble_t0_CNN_layer_1/weighted_subnetwork_0/subnetwork/batch_normalization_2/moving_variance; prev_var_name: Unchanged\n",
      "INFO:tensorflow:Warm-starting variable: adanet/iteration_0/ensemble_t0_CNN_layer_1/weighted_subnetwork_0/subnetwork/conv2d_2/kernel; prev_var_name: Unchanged\n",
      "INFO:tensorflow:Warm-starting variable: adanet/iteration_0/ensemble_t0_CNN_layer_1/weighted_subnetwork_0/subnetwork/conv2d_2/bias; prev_var_name: Unchanged\n",
      "INFO:tensorflow:Warm-starting variable: adanet/iteration_0/ensemble_t0_CNN_layer_1/weighted_subnetwork_0/subnetwork/batch_normalization_3/gamma; prev_var_name: Unchanged\n",
      "INFO:tensorflow:Warm-starting variable: adanet/iteration_0/ensemble_t0_CNN_layer_1/weighted_subnetwork_0/subnetwork/batch_normalization_3/beta; prev_var_name: Unchanged\n",
      "INFO:tensorflow:Warm-starting variable: adanet/iteration_0/ensemble_t0_CNN_layer_1/weighted_subnetwork_0/subnetwork/batch_normalization_3/moving_mean; prev_var_name: Unchanged\n",
      "INFO:tensorflow:Warm-starting variable: adanet/iteration_0/ensemble_t0_CNN_layer_1/weighted_subnetwork_0/subnetwork/batch_normalization_3/moving_variance; prev_var_name: Unchanged\n",
      "INFO:tensorflow:Warm-starting variable: adanet/iteration_0/ensemble_t0_CNN_layer_1/weighted_subnetwork_0/subnetwork/dense/kernel; prev_var_name: Unchanged\n",
      "INFO:tensorflow:Warm-starting variable: adanet/iteration_0/ensemble_t0_CNN_layer_1/weighted_subnetwork_0/subnetwork/dense/bias; prev_var_name: Unchanged\n",
      "INFO:tensorflow:Warm-starting variable: adanet/iteration_0/ensemble_t0_CNN_layer_1/weighted_subnetwork_0/subnetwork/dense_1/kernel; prev_var_name: Unchanged\n",
      "INFO:tensorflow:Warm-starting variable: adanet/iteration_0/ensemble_t0_CNN_layer_1/weighted_subnetwork_0/subnetwork/dense_1/bias; prev_var_name: Unchanged\n",
      "INFO:tensorflow:Warm-starting variable: adanet/iteration_0/ensemble_t0_CNN_layer_1/weighted_subnetwork_0/logits/mixture_weight; prev_var_name: Unchanged\n",
      "INFO:tensorflow:Warm-starting variable: adanet/iteration_0/ensemble_t0_CNN_layer_1/bias; prev_var_name: Unchanged\n",
      "INFO:tensorflow:Warm-starting variable: adanet/iteration_0/candidate_t0_CNN_layer_1/adanet_loss; prev_var_name: Unchanged\n",
      "INFO:tensorflow:Warm-starting variable: adanet/iteration_0/candidate_t0_CNN_layer_1/adanet/iteration_0/candidate_t0_CNN_layer_1/adanet_loss/biased; prev_var_name: Unchanged\n",
      "INFO:tensorflow:Warm-starting variable: adanet/iteration_0/candidate_t0_CNN_layer_1/adanet/iteration_0/candidate_t0_CNN_layer_1/adanet_loss/local_step; prev_var_name: Unchanged\n",
      "INFO:tensorflow:Warm-starting variable: adanet/iteration_0/train_op/is_over/is_over_var_fn/is_over_var; prev_var_name: Unchanged\n",
      "\n",
      "*** NNGenerator : layers= (1,2)\n",
      "\n",
      "*** NNAdaNetBuilder : NN Type=CNN\n",
      "\n",
      "*** NNAdaNetBuilder : NN Type=CNN\n",
      "INFO:tensorflow:Building iteration 1\n",
      "INFO:tensorflow:Building subnetwork 'CNN_layer_1'\n",
      "\n",
      "\n",
      "*** build_subnetwork() : NN type= CNN\n",
      "INFO:tensorflow:Building subnetwork 'CNN_layer_2'\n",
      "\n",
      "\n",
      "*** build_subnetwork() : NN type= CNN\n",
      "INFO:tensorflow:Overwriting checkpoint with new graph for iteration 1 to ./tmp/adanet/CNN/model.ckpt-3\n",
      "WARNING:tensorflow:`tf.train.start_queue_runners()` was called when no queue runners were defined. You can safely remove the call to this deprecated function.\n",
      "INFO:tensorflow:Finished bookkeeping phase for iteration 0\n",
      "INFO:tensorflow:Beginning training AdaNet iteration 1\n",
      "INFO:tensorflow:Calling model_fn.\n",
      "INFO:tensorflow:Importing architecture from ./tmp/adanet/CNN/architecture-0.txt: ['0:CNN_layer_1'].\n",
      "\n",
      "*** NNGenerator : layers= (0,1)\n",
      "\n",
      "*** NNAdaNetBuilder : NN Type=CNN\n",
      "\n",
      "*** NNAdaNetBuilder : NN Type=CNN\n",
      "INFO:tensorflow:Rebuilding iteration 0\n",
      "INFO:tensorflow:Building subnetwork 'CNN_layer_1'\n",
      "\n",
      "\n",
      "*** build_subnetwork() : NN type= CNN\n",
      "\n",
      "*** NNGenerator : layers= (1,2)\n",
      "\n",
      "*** NNAdaNetBuilder : NN Type=CNN\n",
      "\n",
      "*** NNAdaNetBuilder : NN Type=CNN\n",
      "INFO:tensorflow:Building iteration 1\n",
      "INFO:tensorflow:Building subnetwork 'CNN_layer_1'\n",
      "\n",
      "\n",
      "*** build_subnetwork() : NN type= CNN\n",
      "INFO:tensorflow:Building subnetwork 'CNN_layer_2'\n",
      "\n",
      "\n",
      "*** build_subnetwork() : NN type= CNN\n",
      "INFO:tensorflow:Done calling model_fn.\n",
      "INFO:tensorflow:Create CheckpointSaverHook.\n",
      "INFO:tensorflow:Graph was finalized.\n",
      "INFO:tensorflow:Restoring parameters from ./tmp/adanet/CNN/increment.ckpt-1\n",
      "INFO:tensorflow:Running local_init_op.\n",
      "INFO:tensorflow:Done running local_init_op.\n",
      "INFO:tensorflow:Saving checkpoints for 3 into ./tmp/adanet/CNN/model.ckpt.\n",
      "INFO:tensorflow:loss = 1.1012583, step = 4\n",
      "INFO:tensorflow:Saving checkpoints for 6 into ./tmp/adanet/CNN/model.ckpt.\n",
      "INFO:tensorflow:Calling model_fn.\n",
      "INFO:tensorflow:Importing architecture from ./tmp/adanet/CNN/architecture-0.txt: ['0:CNN_layer_1'].\n",
      "\n",
      "*** NNGenerator : layers= (0,1)\n",
      "\n",
      "*** NNAdaNetBuilder : NN Type=CNN\n",
      "\n",
      "*** NNAdaNetBuilder : NN Type=CNN\n",
      "INFO:tensorflow:Rebuilding iteration 0\n",
      "INFO:tensorflow:Building subnetwork 'CNN_layer_1'\n",
      "\n",
      "\n",
      "*** build_subnetwork() : NN type= CNN\n",
      "\n",
      "*** NNGenerator : layers= (1,2)\n",
      "\n",
      "*** NNAdaNetBuilder : NN Type=CNN\n",
      "\n",
      "*** NNAdaNetBuilder : NN Type=CNN\n",
      "INFO:tensorflow:Building iteration 1\n",
      "INFO:tensorflow:Building subnetwork 'CNN_layer_1'\n",
      "\n",
      "\n",
      "*** build_subnetwork() : NN type= CNN\n",
      "INFO:tensorflow:Building subnetwork 'CNN_layer_2'\n",
      "\n",
      "\n",
      "*** build_subnetwork() : NN type= CNN\n",
      "INFO:tensorflow:Done calling model_fn.\n",
      "INFO:tensorflow:Starting evaluation at 2019-04-25-22:27:54\n",
      "INFO:tensorflow:Graph was finalized.\n",
      "INFO:tensorflow:Restoring parameters from ./tmp/adanet/CNN/model.ckpt-6\n",
      "INFO:tensorflow:Running local_init_op.\n",
      "INFO:tensorflow:Done running local_init_op.\n",
      "INFO:tensorflow:Saving candidate 't0_CNN_layer_1' dict for global step 6: accuracy/adanet/adanet_weighted_ensemble = 0.31914893, accuracy/adanet/subnetwork = 0.31914893, accuracy/adanet/uniform_average_ensemble = 0.31914893, architecture/adanet/ensembles = b'\\na\\n>adanet/iteration_0/ensemble_t0_CNN_layer_1/architecture/adanetB\\x15\\x08\\x07\\x12\\x00B\\x0f| CNN_layer_1 |J\\x08\\n\\x06\\n\\x04text', average_loss/adanet/adanet_weighted_ensemble = 1.1000831, average_loss/adanet/subnetwork = 1.1000851, average_loss/adanet/uniform_average_ensemble = 1.1000851, loss/adanet/adanet_weighted_ensemble = 1.1186914, loss/adanet/subnetwork = 1.1186993, loss/adanet/uniform_average_ensemble = 1.1186993\n",
      "INFO:tensorflow:Saving candidate 't1_CNN_layer_1' dict for global step 6: accuracy/adanet/adanet_weighted_ensemble = 0.31914893, accuracy/adanet/subnetwork = 0.44680852, accuracy/adanet/uniform_average_ensemble = 0.31914893, architecture/adanet/ensembles = b'\\no\\n>adanet/iteration_1/ensemble_t1_CNN_layer_1/architecture/adanetB#\\x08\\x07\\x12\\x00B\\x1d| CNN_layer_1 | CNN_layer_1 |J\\x08\\n\\x06\\n\\x04text', average_loss/adanet/adanet_weighted_ensemble = 1.0954764, average_loss/adanet/subnetwork = 1.0938748, average_loss/adanet/uniform_average_ensemble = 1.0954757, loss/adanet/adanet_weighted_ensemble = 1.1051676, loss/adanet/subnetwork = 1.0945842, loss/adanet/uniform_average_ensemble = 1.1051674\n",
      "INFO:tensorflow:Saving candidate 't1_CNN_layer_2' dict for global step 6: accuracy/adanet/adanet_weighted_ensemble = 0.3617021, accuracy/adanet/subnetwork = 0.40425533, accuracy/adanet/uniform_average_ensemble = 0.3617021, architecture/adanet/ensembles = b'\\no\\n>adanet/iteration_1/ensemble_t1_CNN_layer_2/architecture/adanetB#\\x08\\x07\\x12\\x00B\\x1d| CNN_layer_1 | CNN_layer_2 |J\\x08\\n\\x06\\n\\x04text', average_loss/adanet/adanet_weighted_ensemble = 1.097254, average_loss/adanet/subnetwork = 1.0967029, average_loss/adanet/uniform_average_ensemble = 1.097254, loss/adanet/adanet_weighted_ensemble = 1.1087508, loss/adanet/subnetwork = 1.1009343, loss/adanet/uniform_average_ensemble = 1.1087515\n",
      "INFO:tensorflow:Finished evaluation at 2019-04-25-22:27:58\n",
      "INFO:tensorflow:Saving dict for global step 6: accuracy = 0.31914893, accuracy/adanet/adanet_weighted_ensemble = 0.31914893, accuracy/adanet/subnetwork = 0.31914893, accuracy/adanet/uniform_average_ensemble = 0.31914893, average_loss = 1.1000831, average_loss/adanet/adanet_weighted_ensemble = 1.1000831, average_loss/adanet/subnetwork = 1.1000851, average_loss/adanet/uniform_average_ensemble = 1.1000851, global_step = 6, loss = 1.1186914, loss/adanet/adanet_weighted_ensemble = 1.1186914, loss/adanet/subnetwork = 1.1186993, loss/adanet/uniform_average_ensemble = 1.1186993\n"
     ]
    },
    {
     "name": "stdout",
     "output_type": "stream",
     "text": [
      "INFO:tensorflow:Saving 'checkpoint_path' summary for global step 6: ./tmp/adanet/CNN/model.ckpt-6\n",
      "INFO:tensorflow:Loss for final step: 1.1019964.\n",
      "INFO:tensorflow:Finished training Adanet iteration 1\n",
      "INFO:tensorflow:Beginning bookkeeping phase for iteration 1\n",
      "INFO:tensorflow:Importing architecture from ./tmp/adanet/CNN/architecture-0.txt: ['0:CNN_layer_1'].\n",
      "\n",
      "*** NNGenerator : layers= (0,1)\n",
      "\n",
      "*** NNAdaNetBuilder : NN Type=CNN\n",
      "\n",
      "*** NNAdaNetBuilder : NN Type=CNN\n",
      "INFO:tensorflow:Rebuilding iteration 0\n",
      "INFO:tensorflow:Building subnetwork 'CNN_layer_1'\n",
      "\n",
      "\n",
      "*** build_subnetwork() : NN type= CNN\n",
      "\n",
      "*** NNGenerator : layers= (1,2)\n",
      "\n",
      "*** NNAdaNetBuilder : NN Type=CNN\n",
      "\n",
      "*** NNAdaNetBuilder : NN Type=CNN\n",
      "INFO:tensorflow:Building iteration 1\n",
      "INFO:tensorflow:Building subnetwork 'CNN_layer_1'\n",
      "\n",
      "\n",
      "*** build_subnetwork() : NN type= CNN\n",
      "INFO:tensorflow:Building subnetwork 'CNN_layer_2'\n",
      "\n",
      "\n",
      "*** build_subnetwork() : NN type= CNN\n",
      "INFO:tensorflow:Starting ensemble evaluation for iteration 1\n",
      "INFO:tensorflow:Restoring parameters from ./tmp/adanet/CNN/model.ckpt-6\n",
      "WARNING:tensorflow:`tf.train.start_queue_runners()` was called when no queue runners were defined. You can safely remove the call to this deprecated function.\n",
      "INFO:tensorflow:Encountered end of input after 440 evaluations\n",
      "INFO:tensorflow:Computed ensemble metrics: adanet_loss/t0_CNN_layer_1 = 1.135332, adanet_loss/t1_CNN_layer_1 = 1.131958, adanet_loss/t1_CNN_layer_2 = 1.131752\n",
      "INFO:tensorflow:Finished ensemble evaluation for iteration 1\n",
      "INFO:tensorflow:'t1_CNN_layer_2' at index 2 is moving onto the next iteration\n",
      "INFO:tensorflow:Importing architecture from ./tmp/adanet/CNN/architecture-1.txt: ['0:CNN_layer_1', '1:CNN_layer_2'].\n",
      "\n",
      "*** NNGenerator : layers= (0,1)\n",
      "\n",
      "*** NNAdaNetBuilder : NN Type=CNN\n",
      "\n",
      "*** NNAdaNetBuilder : NN Type=CNN\n",
      "INFO:tensorflow:Rebuilding iteration 0\n",
      "INFO:tensorflow:Building subnetwork 'CNN_layer_1'\n",
      "\n",
      "\n",
      "*** build_subnetwork() : NN type= CNN\n",
      "\n",
      "*** NNGenerator : layers= (1,2)\n",
      "\n",
      "*** NNAdaNetBuilder : NN Type=CNN\n",
      "\n",
      "*** NNAdaNetBuilder : NN Type=CNN\n",
      "INFO:tensorflow:Rebuilding iteration 1\n",
      "INFO:tensorflow:Building subnetwork 'CNN_layer_2'\n",
      "\n",
      "\n",
      "*** build_subnetwork() : NN type= CNN\n",
      "INFO:tensorflow:Warm-starting from: ('./tmp/adanet/CNN/model.ckpt-6',)\n",
      "INFO:tensorflow:Warm-starting variable: global_step; prev_var_name: Unchanged\n",
      "INFO:tensorflow:Warm-starting variable: adanet/iteration_0/step; prev_var_name: Unchanged\n",
      "INFO:tensorflow:Warm-starting variable: adanet/iteration_0/ensemble_t0_CNN_layer_1/weighted_subnetwork_0/subnetwork/batch_normalization/gamma; prev_var_name: Unchanged\n",
      "INFO:tensorflow:Warm-starting variable: adanet/iteration_0/ensemble_t0_CNN_layer_1/weighted_subnetwork_0/subnetwork/batch_normalization/beta; prev_var_name: Unchanged\n",
      "INFO:tensorflow:Warm-starting variable: adanet/iteration_0/ensemble_t0_CNN_layer_1/weighted_subnetwork_0/subnetwork/batch_normalization/moving_mean; prev_var_name: Unchanged\n",
      "INFO:tensorflow:Warm-starting variable: adanet/iteration_0/ensemble_t0_CNN_layer_1/weighted_subnetwork_0/subnetwork/batch_normalization/moving_variance; prev_var_name: Unchanged\n",
      "INFO:tensorflow:Warm-starting variable: adanet/iteration_0/ensemble_t0_CNN_layer_1/weighted_subnetwork_0/subnetwork/conv2d/kernel; prev_var_name: Unchanged\n",
      "INFO:tensorflow:Warm-starting variable: adanet/iteration_0/ensemble_t0_CNN_layer_1/weighted_subnetwork_0/subnetwork/conv2d/bias; prev_var_name: Unchanged\n",
      "INFO:tensorflow:Warm-starting variable: adanet/iteration_0/ensemble_t0_CNN_layer_1/weighted_subnetwork_0/subnetwork/batch_normalization_1/gamma; prev_var_name: Unchanged\n",
      "INFO:tensorflow:Warm-starting variable: adanet/iteration_0/ensemble_t0_CNN_layer_1/weighted_subnetwork_0/subnetwork/batch_normalization_1/beta; prev_var_name: Unchanged\n",
      "INFO:tensorflow:Warm-starting variable: adanet/iteration_0/ensemble_t0_CNN_layer_1/weighted_subnetwork_0/subnetwork/batch_normalization_1/moving_mean; prev_var_name: Unchanged\n",
      "INFO:tensorflow:Warm-starting variable: adanet/iteration_0/ensemble_t0_CNN_layer_1/weighted_subnetwork_0/subnetwork/batch_normalization_1/moving_variance; prev_var_name: Unchanged\n",
      "INFO:tensorflow:Warm-starting variable: adanet/iteration_0/ensemble_t0_CNN_layer_1/weighted_subnetwork_0/subnetwork/conv2d_1/kernel; prev_var_name: Unchanged\n",
      "INFO:tensorflow:Warm-starting variable: adanet/iteration_0/ensemble_t0_CNN_layer_1/weighted_subnetwork_0/subnetwork/conv2d_1/bias; prev_var_name: Unchanged\n",
      "INFO:tensorflow:Warm-starting variable: adanet/iteration_0/ensemble_t0_CNN_layer_1/weighted_subnetwork_0/subnetwork/batch_normalization_2/gamma; prev_var_name: Unchanged\n",
      "INFO:tensorflow:Warm-starting variable: adanet/iteration_0/ensemble_t0_CNN_layer_1/weighted_subnetwork_0/subnetwork/batch_normalization_2/beta; prev_var_name: Unchanged\n",
      "INFO:tensorflow:Warm-starting variable: adanet/iteration_0/ensemble_t0_CNN_layer_1/weighted_subnetwork_0/subnetwork/batch_normalization_2/moving_mean; prev_var_name: Unchanged\n",
      "INFO:tensorflow:Warm-starting variable: adanet/iteration_0/ensemble_t0_CNN_layer_1/weighted_subnetwork_0/subnetwork/batch_normalization_2/moving_variance; prev_var_name: Unchanged\n",
      "INFO:tensorflow:Warm-starting variable: adanet/iteration_0/ensemble_t0_CNN_layer_1/weighted_subnetwork_0/subnetwork/conv2d_2/kernel; prev_var_name: Unchanged\n",
      "INFO:tensorflow:Warm-starting variable: adanet/iteration_0/ensemble_t0_CNN_layer_1/weighted_subnetwork_0/subnetwork/conv2d_2/bias; prev_var_name: Unchanged\n",
      "INFO:tensorflow:Warm-starting variable: adanet/iteration_0/ensemble_t0_CNN_layer_1/weighted_subnetwork_0/subnetwork/batch_normalization_3/gamma; prev_var_name: Unchanged\n",
      "INFO:tensorflow:Warm-starting variable: adanet/iteration_0/ensemble_t0_CNN_layer_1/weighted_subnetwork_0/subnetwork/batch_normalization_3/beta; prev_var_name: Unchanged\n",
      "INFO:tensorflow:Warm-starting variable: adanet/iteration_0/ensemble_t0_CNN_layer_1/weighted_subnetwork_0/subnetwork/batch_normalization_3/moving_mean; prev_var_name: Unchanged\n",
      "INFO:tensorflow:Warm-starting variable: adanet/iteration_0/ensemble_t0_CNN_layer_1/weighted_subnetwork_0/subnetwork/batch_normalization_3/moving_variance; prev_var_name: Unchanged\n",
      "INFO:tensorflow:Warm-starting variable: adanet/iteration_0/ensemble_t0_CNN_layer_1/weighted_subnetwork_0/subnetwork/dense/kernel; prev_var_name: Unchanged\n",
      "INFO:tensorflow:Warm-starting variable: adanet/iteration_0/ensemble_t0_CNN_layer_1/weighted_subnetwork_0/subnetwork/dense/bias; prev_var_name: Unchanged\n",
      "INFO:tensorflow:Warm-starting variable: adanet/iteration_0/ensemble_t0_CNN_layer_1/weighted_subnetwork_0/subnetwork/dense_1/kernel; prev_var_name: Unchanged\n",
      "INFO:tensorflow:Warm-starting variable: adanet/iteration_0/ensemble_t0_CNN_layer_1/weighted_subnetwork_0/subnetwork/dense_1/bias; prev_var_name: Unchanged\n",
      "INFO:tensorflow:Warm-starting variable: adanet/iteration_0/ensemble_t0_CNN_layer_1/weighted_subnetwork_0/logits/mixture_weight; prev_var_name: Unchanged\n",
      "INFO:tensorflow:Warm-starting variable: adanet/iteration_0/ensemble_t0_CNN_layer_1/bias; prev_var_name: Unchanged\n",
      "INFO:tensorflow:Warm-starting variable: adanet/iteration_0/candidate_t0_CNN_layer_1/adanet_loss; prev_var_name: Unchanged\n",
      "INFO:tensorflow:Warm-starting variable: adanet/iteration_0/candidate_t0_CNN_layer_1/adanet/iteration_0/candidate_t0_CNN_layer_1/adanet_loss/biased; prev_var_name: Unchanged\n",
      "INFO:tensorflow:Warm-starting variable: adanet/iteration_0/candidate_t0_CNN_layer_1/adanet/iteration_0/candidate_t0_CNN_layer_1/adanet_loss/local_step; prev_var_name: Unchanged\n",
      "INFO:tensorflow:Warm-starting variable: adanet/iteration_0/train_op/is_over/is_over_var_fn/is_over_var; prev_var_name: Unchanged\n",
      "INFO:tensorflow:Warm-starting variable: adanet/iteration_1/step; prev_var_name: Unchanged\n",
      "INFO:tensorflow:Warm-starting variable: adanet/iteration_1/candidate_t0_CNN_layer_1/adanet_loss; prev_var_name: Unchanged\n",
      "INFO:tensorflow:Warm-starting variable: adanet/iteration_1/candidate_t0_CNN_layer_1/adanet/iteration_1/candidate_t0_CNN_layer_1/adanet_loss/biased; prev_var_name: Unchanged\n",
      "INFO:tensorflow:Warm-starting variable: adanet/iteration_1/candidate_t0_CNN_layer_1/adanet/iteration_1/candidate_t0_CNN_layer_1/adanet_loss/local_step; prev_var_name: Unchanged\n",
      "INFO:tensorflow:Warm-starting variable: adanet/iteration_1/ensemble_t1_CNN_layer_2/weighted_subnetwork_0/logits/mixture_weight; prev_var_name: Unchanged\n"
     ]
    },
    {
     "name": "stdout",
     "output_type": "stream",
     "text": [
      "INFO:tensorflow:Warm-starting variable: adanet/iteration_1/ensemble_t1_CNN_layer_2/weighted_subnetwork_1/subnetwork/batch_normalization/gamma; prev_var_name: Unchanged\n",
      "INFO:tensorflow:Warm-starting variable: adanet/iteration_1/ensemble_t1_CNN_layer_2/weighted_subnetwork_1/subnetwork/batch_normalization/beta; prev_var_name: Unchanged\n",
      "INFO:tensorflow:Warm-starting variable: adanet/iteration_1/ensemble_t1_CNN_layer_2/weighted_subnetwork_1/subnetwork/batch_normalization/moving_mean; prev_var_name: Unchanged\n",
      "INFO:tensorflow:Warm-starting variable: adanet/iteration_1/ensemble_t1_CNN_layer_2/weighted_subnetwork_1/subnetwork/batch_normalization/moving_variance; prev_var_name: Unchanged\n",
      "INFO:tensorflow:Warm-starting variable: adanet/iteration_1/ensemble_t1_CNN_layer_2/weighted_subnetwork_1/subnetwork/conv2d/kernel; prev_var_name: Unchanged\n",
      "INFO:tensorflow:Warm-starting variable: adanet/iteration_1/ensemble_t1_CNN_layer_2/weighted_subnetwork_1/subnetwork/conv2d/bias; prev_var_name: Unchanged\n",
      "INFO:tensorflow:Warm-starting variable: adanet/iteration_1/ensemble_t1_CNN_layer_2/weighted_subnetwork_1/subnetwork/batch_normalization_1/gamma; prev_var_name: Unchanged\n",
      "INFO:tensorflow:Warm-starting variable: adanet/iteration_1/ensemble_t1_CNN_layer_2/weighted_subnetwork_1/subnetwork/batch_normalization_1/beta; prev_var_name: Unchanged\n",
      "INFO:tensorflow:Warm-starting variable: adanet/iteration_1/ensemble_t1_CNN_layer_2/weighted_subnetwork_1/subnetwork/batch_normalization_1/moving_mean; prev_var_name: Unchanged\n",
      "INFO:tensorflow:Warm-starting variable: adanet/iteration_1/ensemble_t1_CNN_layer_2/weighted_subnetwork_1/subnetwork/batch_normalization_1/moving_variance; prev_var_name: Unchanged\n",
      "INFO:tensorflow:Warm-starting variable: adanet/iteration_1/ensemble_t1_CNN_layer_2/weighted_subnetwork_1/subnetwork/conv2d_1/kernel; prev_var_name: Unchanged\n",
      "INFO:tensorflow:Warm-starting variable: adanet/iteration_1/ensemble_t1_CNN_layer_2/weighted_subnetwork_1/subnetwork/conv2d_1/bias; prev_var_name: Unchanged\n",
      "INFO:tensorflow:Warm-starting variable: adanet/iteration_1/ensemble_t1_CNN_layer_2/weighted_subnetwork_1/subnetwork/batch_normalization_2/gamma; prev_var_name: Unchanged\n",
      "INFO:tensorflow:Warm-starting variable: adanet/iteration_1/ensemble_t1_CNN_layer_2/weighted_subnetwork_1/subnetwork/batch_normalization_2/beta; prev_var_name: Unchanged\n",
      "INFO:tensorflow:Warm-starting variable: adanet/iteration_1/ensemble_t1_CNN_layer_2/weighted_subnetwork_1/subnetwork/batch_normalization_2/moving_mean; prev_var_name: Unchanged\n",
      "INFO:tensorflow:Warm-starting variable: adanet/iteration_1/ensemble_t1_CNN_layer_2/weighted_subnetwork_1/subnetwork/batch_normalization_2/moving_variance; prev_var_name: Unchanged\n",
      "INFO:tensorflow:Warm-starting variable: adanet/iteration_1/ensemble_t1_CNN_layer_2/weighted_subnetwork_1/subnetwork/conv2d_2/kernel; prev_var_name: Unchanged\n",
      "INFO:tensorflow:Warm-starting variable: adanet/iteration_1/ensemble_t1_CNN_layer_2/weighted_subnetwork_1/subnetwork/conv2d_2/bias; prev_var_name: Unchanged\n",
      "INFO:tensorflow:Warm-starting variable: adanet/iteration_1/ensemble_t1_CNN_layer_2/weighted_subnetwork_1/subnetwork/batch_normalization_3/gamma; prev_var_name: Unchanged\n",
      "INFO:tensorflow:Warm-starting variable: adanet/iteration_1/ensemble_t1_CNN_layer_2/weighted_subnetwork_1/subnetwork/batch_normalization_3/beta; prev_var_name: Unchanged\n",
      "INFO:tensorflow:Warm-starting variable: adanet/iteration_1/ensemble_t1_CNN_layer_2/weighted_subnetwork_1/subnetwork/batch_normalization_3/moving_mean; prev_var_name: Unchanged\n",
      "INFO:tensorflow:Warm-starting variable: adanet/iteration_1/ensemble_t1_CNN_layer_2/weighted_subnetwork_1/subnetwork/batch_normalization_3/moving_variance; prev_var_name: Unchanged\n",
      "INFO:tensorflow:Warm-starting variable: adanet/iteration_1/ensemble_t1_CNN_layer_2/weighted_subnetwork_1/subnetwork/dense/kernel; prev_var_name: Unchanged\n",
      "INFO:tensorflow:Warm-starting variable: adanet/iteration_1/ensemble_t1_CNN_layer_2/weighted_subnetwork_1/subnetwork/dense/bias; prev_var_name: Unchanged\n",
      "INFO:tensorflow:Warm-starting variable: adanet/iteration_1/ensemble_t1_CNN_layer_2/weighted_subnetwork_1/subnetwork/batch_normalization_4/gamma; prev_var_name: Unchanged\n",
      "INFO:tensorflow:Warm-starting variable: adanet/iteration_1/ensemble_t1_CNN_layer_2/weighted_subnetwork_1/subnetwork/batch_normalization_4/beta; prev_var_name: Unchanged\n",
      "INFO:tensorflow:Warm-starting variable: adanet/iteration_1/ensemble_t1_CNN_layer_2/weighted_subnetwork_1/subnetwork/batch_normalization_4/moving_mean; prev_var_name: Unchanged\n",
      "INFO:tensorflow:Warm-starting variable: adanet/iteration_1/ensemble_t1_CNN_layer_2/weighted_subnetwork_1/subnetwork/batch_normalization_4/moving_variance; prev_var_name: Unchanged\n",
      "INFO:tensorflow:Warm-starting variable: adanet/iteration_1/ensemble_t1_CNN_layer_2/weighted_subnetwork_1/subnetwork/dense_1/kernel; prev_var_name: Unchanged\n",
      "INFO:tensorflow:Warm-starting variable: adanet/iteration_1/ensemble_t1_CNN_layer_2/weighted_subnetwork_1/subnetwork/dense_1/bias; prev_var_name: Unchanged\n",
      "INFO:tensorflow:Warm-starting variable: adanet/iteration_1/ensemble_t1_CNN_layer_2/weighted_subnetwork_1/subnetwork/dense_2/kernel; prev_var_name: Unchanged\n",
      "INFO:tensorflow:Warm-starting variable: adanet/iteration_1/ensemble_t1_CNN_layer_2/weighted_subnetwork_1/subnetwork/dense_2/bias; prev_var_name: Unchanged\n",
      "INFO:tensorflow:Warm-starting variable: adanet/iteration_1/ensemble_t1_CNN_layer_2/weighted_subnetwork_1/logits/mixture_weight; prev_var_name: Unchanged\n",
      "INFO:tensorflow:Warm-starting variable: adanet/iteration_1/ensemble_t1_CNN_layer_2/bias; prev_var_name: Unchanged\n",
      "INFO:tensorflow:Warm-starting variable: adanet/iteration_1/candidate_t1_CNN_layer_2/adanet_loss; prev_var_name: Unchanged\n",
      "INFO:tensorflow:Warm-starting variable: adanet/iteration_1/candidate_t1_CNN_layer_2/adanet/iteration_1/candidate_t1_CNN_layer_2/adanet_loss/biased; prev_var_name: Unchanged\n",
      "INFO:tensorflow:Warm-starting variable: adanet/iteration_1/candidate_t1_CNN_layer_2/adanet/iteration_1/candidate_t1_CNN_layer_2/adanet_loss/local_step; prev_var_name: Unchanged\n",
      "INFO:tensorflow:Warm-starting variable: adanet/iteration_1/train_op/is_over/is_over_var_fn/is_over_var; prev_var_name: Unchanged\n",
      "\n",
      "*** NNGenerator : layers= (2,3)\n",
      "\n",
      "*** NNAdaNetBuilder : NN Type=CNN\n",
      "\n",
      "*** NNAdaNetBuilder : NN Type=CNN\n",
      "INFO:tensorflow:Building iteration 2\n",
      "INFO:tensorflow:Building subnetwork 'CNN_layer_2'\n",
      "\n",
      "\n",
      "*** build_subnetwork() : NN type= CNN\n",
      "INFO:tensorflow:Building subnetwork 'CNN_layer_3'\n",
      "\n",
      "\n",
      "*** build_subnetwork() : NN type= CNN\n",
      "INFO:tensorflow:Overwriting checkpoint with new graph for iteration 2 to ./tmp/adanet/CNN/model.ckpt-6\n",
      "WARNING:tensorflow:`tf.train.start_queue_runners()` was called when no queue runners were defined. You can safely remove the call to this deprecated function.\n",
      "INFO:tensorflow:Finished bookkeeping phase for iteration 1\n",
      "INFO:tensorflow:Beginning training AdaNet iteration 2\n",
      "INFO:tensorflow:Calling model_fn.\n",
      "INFO:tensorflow:Importing architecture from ./tmp/adanet/CNN/architecture-1.txt: ['0:CNN_layer_1', '1:CNN_layer_2'].\n",
      "\n",
      "*** NNGenerator : layers= (0,1)\n",
      "\n",
      "*** NNAdaNetBuilder : NN Type=CNN\n",
      "\n",
      "*** NNAdaNetBuilder : NN Type=CNN\n",
      "INFO:tensorflow:Rebuilding iteration 0\n",
      "INFO:tensorflow:Building subnetwork 'CNN_layer_1'\n",
      "\n",
      "\n",
      "*** build_subnetwork() : NN type= CNN\n",
      "\n",
      "*** NNGenerator : layers= (1,2)\n",
      "\n",
      "*** NNAdaNetBuilder : NN Type=CNN\n",
      "\n",
      "*** NNAdaNetBuilder : NN Type=CNN\n",
      "INFO:tensorflow:Rebuilding iteration 1\n",
      "INFO:tensorflow:Building subnetwork 'CNN_layer_2'\n",
      "\n",
      "\n",
      "*** build_subnetwork() : NN type= CNN\n",
      "\n",
      "*** NNGenerator : layers= (2,3)\n",
      "\n",
      "*** NNAdaNetBuilder : NN Type=CNN\n",
      "\n",
      "*** NNAdaNetBuilder : NN Type=CNN\n",
      "INFO:tensorflow:Building iteration 2\n",
      "INFO:tensorflow:Building subnetwork 'CNN_layer_2'\n",
      "\n",
      "\n",
      "*** build_subnetwork() : NN type= CNN\n",
      "INFO:tensorflow:Building subnetwork 'CNN_layer_3'\n",
      "\n",
      "\n",
      "*** build_subnetwork() : NN type= CNN\n",
      "INFO:tensorflow:Done calling model_fn.\n",
      "INFO:tensorflow:Create CheckpointSaverHook.\n",
      "INFO:tensorflow:Graph was finalized.\n",
      "INFO:tensorflow:Restoring parameters from ./tmp/adanet/CNN/increment.ckpt-2\n",
      "INFO:tensorflow:Running local_init_op.\n",
      "INFO:tensorflow:Done running local_init_op.\n",
      "INFO:tensorflow:Saving checkpoints for 6 into ./tmp/adanet/CNN/model.ckpt.\n",
      "INFO:tensorflow:loss = 1.0882922, step = 7\n"
     ]
    },
    {
     "name": "stdout",
     "output_type": "stream",
     "text": [
      "INFO:tensorflow:Saving checkpoints for 9 into ./tmp/adanet/CNN/model.ckpt.\n",
      "INFO:tensorflow:Calling model_fn.\n",
      "INFO:tensorflow:Importing architecture from ./tmp/adanet/CNN/architecture-1.txt: ['0:CNN_layer_1', '1:CNN_layer_2'].\n",
      "\n",
      "*** NNGenerator : layers= (0,1)\n",
      "\n",
      "*** NNAdaNetBuilder : NN Type=CNN\n",
      "\n",
      "*** NNAdaNetBuilder : NN Type=CNN\n",
      "INFO:tensorflow:Rebuilding iteration 0\n",
      "INFO:tensorflow:Building subnetwork 'CNN_layer_1'\n",
      "\n",
      "\n",
      "*** build_subnetwork() : NN type= CNN\n",
      "\n",
      "*** NNGenerator : layers= (1,2)\n",
      "\n",
      "*** NNAdaNetBuilder : NN Type=CNN\n",
      "\n",
      "*** NNAdaNetBuilder : NN Type=CNN\n",
      "INFO:tensorflow:Rebuilding iteration 1\n",
      "INFO:tensorflow:Building subnetwork 'CNN_layer_2'\n",
      "\n",
      "\n",
      "*** build_subnetwork() : NN type= CNN\n",
      "\n",
      "*** NNGenerator : layers= (2,3)\n",
      "\n",
      "*** NNAdaNetBuilder : NN Type=CNN\n",
      "\n",
      "*** NNAdaNetBuilder : NN Type=CNN\n",
      "INFO:tensorflow:Building iteration 2\n",
      "INFO:tensorflow:Building subnetwork 'CNN_layer_2'\n",
      "\n",
      "\n",
      "*** build_subnetwork() : NN type= CNN\n",
      "INFO:tensorflow:Building subnetwork 'CNN_layer_3'\n",
      "\n",
      "\n",
      "*** build_subnetwork() : NN type= CNN\n",
      "INFO:tensorflow:Done calling model_fn.\n",
      "INFO:tensorflow:Starting evaluation at 2019-04-25-22:33:27\n",
      "INFO:tensorflow:Graph was finalized.\n",
      "INFO:tensorflow:Restoring parameters from ./tmp/adanet/CNN/model.ckpt-9\n",
      "INFO:tensorflow:Running local_init_op.\n",
      "INFO:tensorflow:Done running local_init_op.\n",
      "INFO:tensorflow:Saving candidate 't1_CNN_layer_2' dict for global step 9: accuracy/adanet/adanet_weighted_ensemble = 0.3617021, accuracy/adanet/subnetwork = 0.40425533, accuracy/adanet/uniform_average_ensemble = 0.3617021, architecture/adanet/ensembles = b'\\no\\n>adanet/iteration_1/ensemble_t1_CNN_layer_2/architecture/adanetB#\\x08\\x07\\x12\\x00B\\x1d| CNN_layer_1 | CNN_layer_2 |J\\x08\\n\\x06\\n\\x04text', average_loss/adanet/adanet_weighted_ensemble = 1.097254, average_loss/adanet/subnetwork = 1.0967029, average_loss/adanet/uniform_average_ensemble = 1.097254, loss/adanet/adanet_weighted_ensemble = 1.1087508, loss/adanet/subnetwork = 1.1009343, loss/adanet/uniform_average_ensemble = 1.1087515\n",
      "INFO:tensorflow:Saving candidate 't2_CNN_layer_2' dict for global step 9: accuracy/adanet/adanet_weighted_ensemble = 0.29787233, accuracy/adanet/subnetwork = 0.34042552, accuracy/adanet/uniform_average_ensemble = 0.29787233, architecture/adanet/ensembles = b'\\n}\\n>adanet/iteration_2/ensemble_t2_CNN_layer_2/architecture/adanetB1\\x08\\x07\\x12\\x00B+| CNN_layer_1 | CNN_layer_2 | CNN_layer_2 |J\\x08\\n\\x06\\n\\x04text', average_loss/adanet/adanet_weighted_ensemble = 1.0973129, average_loss/adanet/subnetwork = 1.0983068, average_loss/adanet/uniform_average_ensemble = 1.0973129, loss/adanet/adanet_weighted_ensemble = 1.1052462, loss/adanet/subnetwork = 1.0991201, loss/adanet/uniform_average_ensemble = 1.1052465\n",
      "INFO:tensorflow:Saving candidate 't2_CNN_layer_3' dict for global step 9: accuracy/adanet/adanet_weighted_ensemble = 0.34042552, accuracy/adanet/subnetwork = 0.3617021, accuracy/adanet/uniform_average_ensemble = 0.34042552, architecture/adanet/ensembles = b'\\n}\\n>adanet/iteration_2/ensemble_t2_CNN_layer_3/architecture/adanetB1\\x08\\x07\\x12\\x00B+| CNN_layer_1 | CNN_layer_2 | CNN_layer_3 |J\\x08\\n\\x06\\n\\x04text', average_loss/adanet/adanet_weighted_ensemble = 1.0967177, average_loss/adanet/subnetwork = 1.09698, average_loss/adanet/uniform_average_ensemble = 1.0967177, loss/adanet/adanet_weighted_ensemble = 1.1040609, loss/adanet/subnetwork = 1.0960073, loss/adanet/uniform_average_ensemble = 1.1040611\n",
      "INFO:tensorflow:Finished evaluation at 2019-04-25-22:33:31\n",
      "INFO:tensorflow:Saving dict for global step 9: accuracy = 0.29787233, accuracy/adanet/adanet_weighted_ensemble = 0.29787233, accuracy/adanet/subnetwork = 0.34042552, accuracy/adanet/uniform_average_ensemble = 0.29787233, average_loss = 1.0973129, average_loss/adanet/adanet_weighted_ensemble = 1.0973129, average_loss/adanet/subnetwork = 1.0983068, average_loss/adanet/uniform_average_ensemble = 1.0973129, global_step = 9, loss = 1.1052462, loss/adanet/adanet_weighted_ensemble = 1.1052462, loss/adanet/subnetwork = 1.0991201, loss/adanet/uniform_average_ensemble = 1.1052465\n",
      "INFO:tensorflow:Saving 'checkpoint_path' summary for global step 9: ./tmp/adanet/CNN/model.ckpt-9\n",
      "INFO:tensorflow:Loss for final step: 1.1047087.\n",
      "INFO:tensorflow:Finished training Adanet iteration 2\n"
     ]
    }
   ],
   "source": [
    "import time\n",
    "import tensorflow as tf\n",
    "\n",
    "start_time = time.time()\n",
    "results, _ = tf.estimator.train_and_evaluate(\n",
    "    estimator,\n",
    "    train_spec=tf.estimator.TrainSpec(\n",
    "        input_fn= p8_util.input_fn(\"train\"\n",
    "                           , x_train\n",
    "                           , y_train, p8_util_config.NUM_EPOCHS \\\n",
    "                           , tuple_dimension=tuple_dimension\\\n",
    "                           , batch_size=p8_util_config.BATCH_SIZE),\n",
    "        max_steps=p8_util_config.TRAIN_STEPS),\n",
    "    eval_spec=tf.estimator.EvalSpec(\n",
    "        input_fn= p8_util.input_fn(\"test\"\n",
    "                                   , x_test\n",
    "                                   , y_test\n",
    "                                   , p8_util_config.NUM_EPOCHS\\\n",
    "                                   , tuple_dimension=tuple_dimension\\\n",
    "                                   , batch_size=p8_util_config.BATCH_SIZE),\n",
    "        steps=None,\n",
    "        start_delay_secs=1,\n",
    "        throttle_secs=1,  \n",
    "    )\n",
    ")\n",
    "end_time = time.time()"
   ]
  },
  {
   "cell_type": "code",
   "execution_count": 9,
   "metadata": {
    "colab": {
     "base_uri": "https://localhost:8080/",
     "height": 1295
    },
    "colab_type": "code",
    "executionInfo": {
     "elapsed": 2118,
     "status": "error",
     "timestamp": 1554720133634,
     "user": {
      "displayName": "FBT Telecom",
      "photoUrl": "",
      "userId": "01928442219250440173"
     },
     "user_tz": -120
    },
    "id": "_reIMFwIcDKL",
    "outputId": "5db434df-7c87-4eaf-ab11-e3a91c5425a7",
    "scrolled": true
   },
   "outputs": [
    {
     "name": "stdout",
     "output_type": "stream",
     "text": [
      "\n",
      "------------------------------------------------\n",
      "Time (sec) 706.9577541351318\n",
      "\n",
      "ACCURACY: 0.2978723347187042\n",
      "\n",
      "ACCURACY/ADANET/ADANET_WEIGHTED_ENSEMBLE: 0.2978723347187042\n",
      "\n",
      "ACCURACY/ADANET/SUBNETWORK: 0.3404255211353302\n",
      "\n",
      "ACCURACY/ADANET/UNIFORM_AVERAGE_ENSEMBLE: 0.2978723347187042\n",
      "\n",
      "ARCHITECTURE/ADANET/ENSEMBLES: b'\\n}\\n>adanet/iteration_2/ensemble_t2_CNN_layer_2/architecture/adanetB1\\x08\\x07\\x12\\x00B+| CNN_layer_1 | CNN_layer_2 | CNN_layer_2 |J\\x08\\n\\x06\\n\\x04text'\n",
      "\n",
      "AVERAGE_LOSS: 1.0973129272460938\n",
      "\n",
      "AVERAGE_LOSS/ADANET/ADANET_WEIGHTED_ENSEMBLE: 1.0973129272460938\n",
      "\n",
      "AVERAGE_LOSS/ADANET/SUBNETWORK: 1.0983067750930786\n",
      "\n",
      "AVERAGE_LOSS/ADANET/UNIFORM_AVERAGE_ENSEMBLE: 1.0973129272460938\n",
      "\n",
      "LOSS: 1.1052461862564087\n",
      "\n",
      "LOSS/ADANET/ADANET_WEIGHTED_ENSEMBLE: 1.1052461862564087\n",
      "\n",
      "LOSS/ADANET/SUBNETWORK: 1.0991201400756836\n",
      "\n",
      "LOSS/ADANET/UNIFORM_AVERAGE_ENSEMBLE: 1.1052465438842773\n",
      "\n",
      "GLOBAL_STEP: 9\n"
     ]
    }
   ],
   "source": [
    "print(\"\\n------------------------------------------------\")\n",
    "print(\"Time (sec)\", end_time-start_time)\n",
    "for key in results.keys() :\n",
    "    title =key.upper()\n",
    "    print(\"\\n{}: {}\".format(title, results[key]))\n"
   ]
  },
  {
   "cell_type": "code",
   "execution_count": 10,
   "metadata": {},
   "outputs": [],
   "source": [
    "#import tensorflow as tf\n",
    "#help(tf.estimator.Estimator)"
   ]
  },
  {
   "cell_type": "raw",
   "metadata": {},
   "source": [
    "from tensorflow.python.tools.inspect_checkpoint import print_tensors_in_checkpoint_file\n",
    "max_iteration_steps=TRAIN_STEPS // ADANET_ITERATIONS\n",
    "\n",
    "#filenale_model_check = './tmp/models/'+str(NN_TYPE)+'/model.ckpt-3'\n",
    "#print_tensors_in_checkpoint_file(file_name=filenale_model_check, tensor_name='', all_tensors=False)\n",
    "print(\"\\n----------\\n\")\n",
    "filename_model_checkpoint = OUTPUT_DIR+'/'+str(NN_TYPE)+'/model.ckpt-'+str(TRAIN_STEPS)\n",
    "print_tensors_in_checkpoint_file(file_name=filename_model_checkpoint\\\n",
    "                                 , tensor_name='', all_tensors=False)\n"
   ]
  },
  {
   "cell_type": "code",
   "execution_count": 11,
   "metadata": {},
   "outputs": [],
   "source": [
    "def ensemble_architecture(result):\n",
    "  \"\"\"Extracts the ensemble architecture from evaluation results.\"\"\"\n",
    "\n",
    "  architecture = result[\"architecture/adanet/ensembles\"]\n",
    "  # The architecture is a serialized Summary proto for TensorBoard.\n",
    "  summary_proto = tf.summary.Summary.FromString(architecture)\n",
    "  return summary_proto.value[0].tensor.string_val[0]"
   ]
  },
  {
   "cell_type": "code",
   "execution_count": 12,
   "metadata": {},
   "outputs": [
    {
     "name": "stdout",
     "output_type": "stream",
     "text": [
      "Architecture: b'| CNN_layer_1 | CNN_layer_2 | CNN_layer_2 |' / Accuracy= 0.2978723347187042 /Loss= 1.1052461862564087\n"
     ]
    }
   ],
   "source": [
    "print(\"Architecture: {} / Accuracy= {} /Loss= {}\".format(ensemble_architecture(results)\\\n",
    "                                                  , results['accuracy'], results['loss']))"
   ]
  },
  {
   "cell_type": "code",
   "execution_count": 13,
   "metadata": {},
   "outputs": [],
   "source": [
    "# Architecture: b'| DNN_layer_1 | DNN_layer_2 | DNN_layer_3 |' : accuracy = 40% / Loss = 1.0883579\n",
    "# Architecture: b'| CNNBase_layer_1 |' / Accuracy= 0.40425533056259155 /Loss= 1.081491470336914\n",
    "# Architecture: b'| CNNBase_linear | CNNBase_layer_1 |' / Accuracy= 0.42553192377090454 /Loss= 1.1250361204147339"
   ]
  },
  {
   "cell_type": "code",
   "execution_count": 14,
   "metadata": {},
   "outputs": [],
   "source": [
    "if is_tensorboard is True :\n",
    "    get_ipython().system_raw(\n",
    "        'tensorboard --logdir {} --host localhost --port 6006 &'\n",
    "        .format(OUTPUT_DIR)\n",
    "    )\n",
    "\n",
    "\n",
    "    get_ipython().system_raw('./assets/ngrok http 6006 &')"
   ]
  },
  {
   "cell_type": "code",
   "execution_count": 15,
   "metadata": {},
   "outputs": [
    {
     "data": {
      "text/plain": [
       "[(0, 0),\n",
       " (1, 1),\n",
       " (2, 0),\n",
       " (3, 1),\n",
       " (4, 0),\n",
       " (5, 1),\n",
       " (6, 0),\n",
       " (7, 1),\n",
       " (8, 0),\n",
       " (9, 1)]"
      ]
     },
     "execution_count": 15,
     "metadata": {},
     "output_type": "execute_result"
    }
   ],
   "source": [
    "[(i,i%2) for i in range(0,10)]"
   ]
  },
  {
   "cell_type": "code",
   "execution_count": 16,
   "metadata": {},
   "outputs": [
    {
     "data": {
      "text/plain": [
       "1"
      ]
     },
     "execution_count": 16,
     "metadata": {},
     "output_type": "execute_result"
    }
   ],
   "source": [
    "1%2"
   ]
  },
  {
   "cell_type": "code",
   "execution_count": 17,
   "metadata": {},
   "outputs": [
    {
     "data": {
      "text/plain": [
       "0"
      ]
     },
     "execution_count": 17,
     "metadata": {},
     "output_type": "execute_result"
    }
   ],
   "source": [
    "2%2"
   ]
  },
  {
   "cell_type": "code",
   "execution_count": 18,
   "metadata": {},
   "outputs": [
    {
     "data": {
      "text/plain": [
       "1"
      ]
     },
     "execution_count": 18,
     "metadata": {},
     "output_type": "execute_result"
    }
   ],
   "source": [
    "3%2"
   ]
  },
  {
   "cell_type": "code",
   "execution_count": 19,
   "metadata": {},
   "outputs": [
    {
     "data": {
      "text/plain": [
       "0"
      ]
     },
     "execution_count": 19,
     "metadata": {},
     "output_type": "execute_result"
    }
   ],
   "source": [
    "4%2"
   ]
  },
  {
   "cell_type": "raw",
   "metadata": {},
   "source": [
    "import tensorflow as tf\n",
    "help(tf.contrib.util.constant_value)"
   ]
  },
  {
   "cell_type": "code",
   "execution_count": null,
   "metadata": {},
   "outputs": [],
   "source": []
  }
 ],
 "metadata": {
  "accelerator": "GPU",
  "colab": {
   "collapsed_sections": [],
   "name": "Untitled0.ipynb",
   "provenance": [],
   "version": "0.3.2"
  },
  "kernelspec": {
   "display_name": "Python 3",
   "language": "python",
   "name": "python3"
  },
  "language_info": {
   "codemirror_mode": {
    "name": "ipython",
    "version": 3
   },
   "file_extension": ".py",
   "mimetype": "text/x-python",
   "name": "python",
   "nbconvert_exporter": "python",
   "pygments_lexer": "ipython3",
   "version": "3.6.8"
  }
 },
 "nbformat": 4,
 "nbformat_minor": 1
}
