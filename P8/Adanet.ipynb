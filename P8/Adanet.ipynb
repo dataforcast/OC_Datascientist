{
 "cells": [
  {
   "cell_type": "code",
   "execution_count": 1,
   "metadata": {
    "colab": {},
    "colab_type": "code",
    "id": "jOUQoPfSYUGp"
   },
   "outputs": [],
   "source": [
    "%load_ext autoreload\n",
    "%autoreload 2\n",
    "import adanet"
   ]
  },
  {
   "cell_type": "code",
   "execution_count": 2,
   "metadata": {
    "colab": {},
    "colab_type": "code",
    "id": "BUkDiPBiM7dy"
   },
   "outputs": [],
   "source": [
    "OUTPUT_DIR = './tmp/adanet'\n",
    "datadir = './data'\n",
    "is_tensorboard = True"
   ]
  },
  {
   "cell_type": "code",
   "execution_count": 3,
   "metadata": {},
   "outputs": [
    {
     "name": "stdout",
     "output_type": "stream",
     "text": [
      "kill: (15196)kill: (15202)"
     ]
    }
   ],
   "source": [
    "# this will kill the processes for Tensorboard\n",
    "if is_tensorboard is True :\n",
    "    !ps aux | grep tensorboard | awk '{print $2}' | xargs kill\n",
    "\n",
    "# this will kill the processes for ngrok\n",
    "if is_tensorboard is True :\n",
    "    !ps aux | grep ngrok | awk '{print $2}' | xargs kill"
   ]
  },
  {
   "cell_type": "code",
   "execution_count": 4,
   "metadata": {},
   "outputs": [
    {
     "name": "stderr",
     "output_type": "stream",
     "text": [
      "Using TensorFlow backend.\n"
     ]
    },
    {
     "name": "stdout",
     "output_type": "stream",
     "text": [
      "p5_util.object_load : fileName= ./data/arr_keras_X_y_train_test.dump\n",
      "(414, 224, 224, 3) (47, 224, 224, 3) (414, 3) (47, 3)\n",
      "(414, 224, 224, 3) (47, 224, 224, 3) (224, 224, 3)\n"
     ]
    }
   ],
   "source": [
    "import p8_util\n",
    "filename_dataset=datadir+'/arr_keras_X_y_train_test.dump'\n",
    "x_train, x_test, y_train, y_test, nClasses, feature_shape = p8_util.load_dataset(filename_dataset)\n",
    "print(x_train.shape, x_test.shape, feature_shape)"
   ]
  },
  {
   "cell_type": "code",
   "execution_count": 5,
   "metadata": {},
   "outputs": [
    {
     "data": {
      "text/plain": [
       "5"
      ]
     },
     "execution_count": 5,
     "metadata": {},
     "output_type": "execute_result"
    }
   ],
   "source": [
    "import p8_util_config\n",
    "p8_util_config.ADANET_MAX_ITERATION_STEPS"
   ]
  },
  {
   "cell_type": "code",
   "execution_count": 6,
   "metadata": {},
   "outputs": [
    {
     "name": "stdout",
     "output_type": "stream",
     "text": [
      "\n",
      "*** get_tf_head() : feature shape= (224, 224, 3)\n",
      "\n",
      "*** get_tf_head() : feature columns= [NumericColumn(key='images', shape=(224, 224, 3), default_value=None, dtype=tf.float32, normalizer_fn=None)]\n"
     ]
    },
    {
     "data": {
      "text/plain": [
       "([NumericColumn(key='images', shape=(224, 224, 3), default_value=None, dtype=tf.float32, normalizer_fn=None)],\n",
       " 'weighted_sum_over_batch_size',\n",
       " <tensorflow_estimator.python.estimator.canned.head._MultiClassHeadWithSoftmaxCrossEntropyLoss at 0x7fad682aa908>)"
      ]
     },
     "execution_count": 6,
     "metadata": {},
     "output_type": "execute_result"
    }
   ],
   "source": [
    "import p8_util\n",
    "p8_util.get_tf_head(feature_shape, 3, nn_type='DNN', feature_shape=feature_shape)"
   ]
  },
  {
   "cell_type": "code",
   "execution_count": 7,
   "metadata": {},
   "outputs": [
    {
     "name": "stdout",
     "output_type": "stream",
     "text": [
      "\n",
      "*** get_tf_head() : feature shape= (224, 224, 3)\n",
      "\n",
      "*** get_tf_head() : feature columns= [NumericColumn(key='images', shape=(224, 224, 3), default_value=None, dtype=tf.float32, normalizer_fn=None)]\n",
      "\n",
      "*** Number of classes= 3 / NN type= DNN\n",
      "\n",
      "*** make_config() : output dir= ./tmp/adanet/DNN\n"
     ]
    },
    {
     "data": {
      "text/plain": [
       "'./tmp/adanet'"
      ]
     },
     "execution_count": 7,
     "metadata": {},
     "output_type": "execute_result"
    }
   ],
   "source": [
    "import p8_util\n",
    "import p8_util_config\n",
    "import NNGenerator\n",
    "\n",
    "#---------------------------------------------------------------------------------\n",
    "# Update Adanet configuration with feature columns.\n",
    "# \n",
    "#---------------------------------------------------------------------------------\n",
    "dict_nn_layer_config = p8_util_config.dict_adanet_config['adanet_nn_layer_config']\n",
    "nb_class= dict_nn_layer_config['nn_logit_dimension']\n",
    "nn_type = dict_nn_layer_config['nn_type']\n",
    "\n",
    "feature_columns, loss_reduction, tf_head \\\n",
    "        = p8_util.get_tf_head(feature_shape, nb_class, nn_type=nn_type, feature_shape=feature_shape)\n",
    "\n",
    "p8_util_config.dict_adanet_config['adanet_feature_columns'] = feature_columns\n",
    "p8_util_config.dict_adanet_config['adanet_tf_head'] = tf_head\n",
    "p8_util_config.dict_adanet_config['adanet_feature_shape'] = feature_shape\n",
    "\n",
    "#---------------------------------------------------------------------------------\n",
    "\n",
    "print(\"\\n*** Number of classes= {} / NN type= {}\".format(nb_class, nn_type))\n",
    "\n",
    "adanet_estimator_config, output_dir_log = p8_util.make_config(nn_type,output_dir=OUTPUT_DIR, is_restored=False)\n",
    "OUTPUT_DIR"
   ]
  },
  {
   "cell_type": "code",
   "execution_count": 8,
   "metadata": {},
   "outputs": [
    {
     "name": "stderr",
     "output_type": "stream",
     "text": [
      "WARNING: Logging before flag parsing goes to stderr.\n",
      "W0512 13:06:44.316353 140384601073472 estimator.py:535] The following arguments have been moved to `adanet.ensemble.ComplexityRegularizedEnsembler` which can be specified in the `ensemblers` argument: ['adanet_lambda']\n"
     ]
    },
    {
     "name": "stdout",
     "output_type": "stream",
     "text": [
      "\n",
      "*** NNGenerator() : feature_columns= [NumericColumn(key='images', shape=(224, 224, 3), default_value=None, dtype=tf.float32, normalizer_fn=None)]\n",
      "*** INFO : MyGenerator : instantiation DONE!\n",
      "INFO:tensorflow:Using config: {'_model_dir': './tmp/adanet/DNN', '_tf_random_seed': 42, '_save_summary_steps': 10, '_save_checkpoints_steps': 10, '_save_checkpoints_secs': None, '_session_config': allow_soft_placement: true\n",
      "graph_options {\n",
      "  rewrite_options {\n",
      "    meta_optimizer_iterations: ONE\n",
      "  }\n",
      "}\n",
      ", '_keep_checkpoint_max': 5, '_keep_checkpoint_every_n_hours': 10000, '_log_step_count_steps': 100, '_train_distribute': None, '_device_fn': None, '_protocol': None, '_eval_distribute': None, '_experimental_distribute': None, '_service': None, '_cluster_spec': <tensorflow.python.training.server_lib.ClusterSpec object at 0x7fad68269fd0>, '_task_type': 'worker', '_task_id': 0, '_global_id_in_cluster': 0, '_master': '', '_evaluation_master': '', '_is_chief': True, '_num_ps_replicas': 0, '_num_worker_replicas': 1}\n"
     ]
    },
    {
     "name": "stderr",
     "output_type": "stream",
     "text": [
      "I0512 13:06:44.319236 140384601073472 estimator.py:201] Using config: {'_model_dir': './tmp/adanet/DNN', '_tf_random_seed': 42, '_save_summary_steps': 10, '_save_checkpoints_steps': 10, '_save_checkpoints_secs': None, '_session_config': allow_soft_placement: true\n",
      "graph_options {\n",
      "  rewrite_options {\n",
      "    meta_optimizer_iterations: ONE\n",
      "  }\n",
      "}\n",
      ", '_keep_checkpoint_max': 5, '_keep_checkpoint_every_n_hours': 10000, '_log_step_count_steps': 100, '_train_distribute': None, '_device_fn': None, '_protocol': None, '_eval_distribute': None, '_experimental_distribute': None, '_service': None, '_cluster_spec': <tensorflow.python.training.server_lib.ClusterSpec object at 0x7fad68269fd0>, '_task_type': 'worker', '_task_id': 0, '_global_id_in_cluster': 0, '_master': '', '_evaluation_master': '', '_is_chief': True, '_num_ps_replicas': 0, '_num_worker_replicas': 1}\n"
     ]
    }
   ],
   "source": [
    "input_fn_param={'num_epochs':p8_util_config.NUM_EPOCHS,\\\n",
    "                'batch_size':p8_util_config.BATCH_SIZE,\\\n",
    "                'feature_shape': feature_shape,\\\n",
    "               }\n",
    "train_input_fn=p8_util.input_fn(\"train\", x_train, y_train,input_fn_param)\n",
    "\n",
    "adanet_estimator = adanet.Estimator(\n",
    "    head=p8_util_config.dict_adanet_config['adanet_tf_head'],\n",
    "    \n",
    "    subnetwork_generator=NNGenerator.NNGenerator(p8_util_config.dict_adanet_config),\n",
    "            \n",
    "    adanet_lambda=p8_util_config.dict_adanet_config['adanet_lambda'],\n",
    "    \n",
    "    max_iteration_steps=p8_util_config.ADANET_MAX_ITERATION_STEPS,\n",
    "    \n",
    "    evaluator=adanet.Evaluator(\n",
    "        input_fn=train_input_fn,\n",
    "        steps=None),\n",
    "    config=  adanet_estimator_config)"
   ]
  },
  {
   "cell_type": "code",
   "execution_count": 9,
   "metadata": {},
   "outputs": [
    {
     "name": "stdout",
     "output_type": "stream",
     "text": [
      "Global steps= 50\n",
      "MAX Adanet steps= 5\n",
      "{'adanet_feature_columns': [NumericColumn(key='images', shape=(224, 224, 3), default_value=None, dtype=tf.float32, normalizer_fn=None)], 'adanet_feature_shape': (224, 224, 3), 'adanet_tf_head': <tensorflow_estimator.python.estimator.canned.head._MultiClassHeadWithSoftmaxCrossEntropyLoss object at 0x7fad68269c18>, 'adanet_lambda': 0.0, 'adanet_is_learn_mixture_weights': True, 'adanet_initial_num_layers': 0, 'adanet_num_layers': None, 'adanet_nn_candidate': 2, 'adanet_output_dir': './tmp/adanet', 'adanet_nn_layer_config': {'nn_type': 'DNN', 'nn_dropout_rate': 0.0, 'nn_batch_norm': True, 'nn_dense_layer_num': 1, 'nn_dense_unit_size': 128, 'nn_logit_dimension': 3, 'nn_optimizer': <tensorflow.python.training.rmsprop.RMSPropOptimizer object at 0x7fad6839c668>, 'nn_seed': 42, 'nn_initializer_name': 'xavier', 'nn_layer_config': {'dnn_layer_num': 1, 'dnn_hidden_units': 128}}}\n"
     ]
    },
    {
     "data": {
      "text/plain": [
       "(414,)"
      ]
     },
     "execution_count": 9,
     "metadata": {},
     "output_type": "execute_result"
    }
   ],
   "source": [
    "import p8_util_config\n",
    "print(\"Global steps= {}\".format(p8_util_config.TRAIN_STEPS))\n",
    "print(\"MAX Adanet steps= {}\".format(p8_util_config.ADANET_MAX_ITERATION_STEPS))\n",
    "print(p8_util_config.dict_adanet_config)\n",
    "y_train.shape"
   ]
  },
  {
   "cell_type": "code",
   "execution_count": 10,
   "metadata": {},
   "outputs": [
    {
     "data": {
      "text/plain": [
       "{'feature_map_size': [64],\n",
       " 'conv_kernel_size': (5, 5),\n",
       " 'conv_layer_num': 2,\n",
       " 'conv_filters': 32,\n",
       " 'conv_strides': 1,\n",
       " 'conv_padding_name': 'same',\n",
       " 'conv_activation_name': 'relu'}"
      ]
     },
     "execution_count": 10,
     "metadata": {},
     "output_type": "execute_result"
    }
   ],
   "source": [
    "p8_util_config.dict_cnn_layer_config"
   ]
  },
  {
   "cell_type": "code",
   "execution_count": 11,
   "metadata": {
    "colab": {
     "base_uri": "https://localhost:8080/",
     "height": 1295
    },
    "colab_type": "code",
    "executionInfo": {
     "elapsed": 2118,
     "status": "error",
     "timestamp": 1554720133634,
     "user": {
      "displayName": "FBT Telecom",
      "photoUrl": "",
      "userId": "01928442219250440173"
     },
     "user_tz": -120
    },
    "id": "_reIMFwIcDKL",
    "outputId": "5db434df-7c87-4eaf-ab11-e3a91c5425a7"
   },
   "outputs": [],
   "source": [
    "import time\n",
    "import tensorflow as tf\n",
    "#---------------------------------------------------------------------\n",
    "# Input function parameters stay same as for train_input_fn\n",
    "#---------------------------------------------------------------------\n",
    "test_input_fn=p8_util.input_fn(\"test\", x_test, y_test,input_fn_param)\n",
    "train_spec=tf.estimator.TrainSpec(\n",
    "        input_fn= train_input_fn,\n",
    "        max_steps=p8_util_config.TRAIN_STEPS)\n",
    "\n",
    "eval_spec=tf.estimator.EvalSpec(\n",
    "        input_fn= test_input_fn,\n",
    "        steps=None,\n",
    "        start_delay_secs=1,\n",
    "        throttle_secs=1)"
   ]
  },
  {
   "cell_type": "code",
   "execution_count": 12,
   "metadata": {
    "colab": {
     "base_uri": "https://localhost:8080/",
     "height": 1295
    },
    "colab_type": "code",
    "executionInfo": {
     "elapsed": 2118,
     "status": "error",
     "timestamp": 1554720133634,
     "user": {
      "displayName": "FBT Telecom",
      "photoUrl": "",
      "userId": "01928442219250440173"
     },
     "user_tz": -120
    },
    "id": "_reIMFwIcDKL",
    "outputId": "5db434df-7c87-4eaf-ab11-e3a91c5425a7"
   },
   "outputs": [
    {
     "name": "stdout",
     "output_type": "stream",
     "text": [
      "INFO:tensorflow:Not using Distribute Coordinator.\n"
     ]
    },
    {
     "name": "stderr",
     "output_type": "stream",
     "text": [
      "I0512 13:06:44.544433 140384601073472 estimator_training.py:185] Not using Distribute Coordinator.\n"
     ]
    },
    {
     "name": "stdout",
     "output_type": "stream",
     "text": [
      "INFO:tensorflow:Running training and evaluation locally (non-distributed).\n"
     ]
    },
    {
     "name": "stderr",
     "output_type": "stream",
     "text": [
      "I0512 13:06:44.545859 140384601073472 training.py:610] Running training and evaluation locally (non-distributed).\n"
     ]
    },
    {
     "name": "stdout",
     "output_type": "stream",
     "text": [
      "INFO:tensorflow:Start train and evaluate loop. The evaluate will happen after every checkpoint. Checkpoint frequency is determined based on RunConfig arguments: save_checkpoints_steps 10 or save_checkpoints_secs None.\n"
     ]
    },
    {
     "name": "stderr",
     "output_type": "stream",
     "text": [
      "I0512 13:06:44.546856 140384601073472 training.py:698] Start train and evaluate loop. The evaluate will happen after every checkpoint. Checkpoint frequency is determined based on RunConfig arguments: save_checkpoints_steps 10 or save_checkpoints_secs None.\n"
     ]
    },
    {
     "name": "stdout",
     "output_type": "stream",
     "text": [
      "WARNING:tensorflow:From /home/bangui/anaconda3/lib/python3.6/site-packages/tensorflow/python/framework/op_def_library.py:263: colocate_with (from tensorflow.python.framework.ops) is deprecated and will be removed in a future version.\n",
      "Instructions for updating:\n",
      "Colocations handled automatically by placer.\n"
     ]
    },
    {
     "name": "stderr",
     "output_type": "stream",
     "text": [
      "W0512 13:06:44.561848 140384601073472 deprecation.py:323] From /home/bangui/anaconda3/lib/python3.6/site-packages/tensorflow/python/framework/op_def_library.py:263: colocate_with (from tensorflow.python.framework.ops) is deprecated and will be removed in a future version.\n",
      "Instructions for updating:\n",
      "Colocations handled automatically by placer.\n"
     ]
    },
    {
     "name": "stdout",
     "output_type": "stream",
     "text": [
      "\n",
      "*** input_fn() : feature_shape= (224, 224, 3) / label_shape= [1]\n",
      "WARNING:tensorflow:From /home/bangui/anaconda3/lib/python3.6/site-packages/tensorflow/python/data/ops/dataset_ops.py:429: py_func (from tensorflow.python.ops.script_ops) is deprecated and will be removed in a future version.\n",
      "Instructions for updating:\n",
      "tf.py_func is deprecated in TF V2. Instead, use\n",
      "    tf.py_function, which takes a python function which manipulates tf eager\n",
      "    tensors instead of numpy arrays. It's easy to convert a tf eager tensor to\n",
      "    an ndarray (just call tensor.numpy()) but having access to eager tensors\n",
      "    means `tf.py_function`s can use accelerators such as GPUs as well as\n",
      "    being differentiable using a gradient tape.\n",
      "    \n"
     ]
    },
    {
     "name": "stderr",
     "output_type": "stream",
     "text": [
      "W0512 13:06:44.584670 140384601073472 deprecation.py:323] From /home/bangui/anaconda3/lib/python3.6/site-packages/tensorflow/python/data/ops/dataset_ops.py:429: py_func (from tensorflow.python.ops.script_ops) is deprecated and will be removed in a future version.\n",
      "Instructions for updating:\n",
      "tf.py_func is deprecated in TF V2. Instead, use\n",
      "    tf.py_function, which takes a python function which manipulates tf eager\n",
      "    tensors instead of numpy arrays. It's easy to convert a tf eager tensor to\n",
      "    an ndarray (just call tensor.numpy()) but having access to eager tensors\n",
      "    means `tf.py_function`s can use accelerators such as GPUs as well as\n",
      "    being differentiable using a gradient tape.\n",
      "    \n"
     ]
    },
    {
     "name": "stdout",
     "output_type": "stream",
     "text": [
      "\n",
      "*** preprocess_color_image() : label shape= ()\n",
      "\n",
      "***_input_fn() : Label shape =[1]\n",
      "INFO:tensorflow:Calling model_fn.\n"
     ]
    },
    {
     "name": "stderr",
     "output_type": "stream",
     "text": [
      "I0512 13:06:44.723994 140384601073472 estimator.py:1111] Calling model_fn.\n"
     ]
    },
    {
     "name": "stdout",
     "output_type": "stream",
     "text": [
      "\n",
      "*** NNGenerator : layers= (0,1)\n",
      "\n",
      "*** NNAdaNetBuilder : NN Type=DNN\n",
      "\n",
      "*** get_tf_head() : feature shape= (224, 224, 3)\n",
      "\n",
      "*** get_tf_head() : feature columns= [NumericColumn(key='images', shape=(224, 224, 3), default_value=None, dtype=tf.float32, normalizer_fn=None)]\n",
      "\n",
      "*** NNAdaNetBuilder : NN Type=DNN\n",
      "\n",
      "*** get_tf_head() : feature shape= (224, 224, 3)\n",
      "\n",
      "*** get_tf_head() : feature columns= [NumericColumn(key='images', shape=(224, 224, 3), default_value=None, dtype=tf.float32, normalizer_fn=None)]\n",
      "INFO:tensorflow:Building iteration 0\n"
     ]
    },
    {
     "name": "stderr",
     "output_type": "stream",
     "text": [
      "I0512 13:06:44.728909 140384601073472 iteration.py:250] Building iteration 0\n"
     ]
    },
    {
     "name": "stdout",
     "output_type": "stream",
     "text": [
      "INFO:tensorflow:Building subnetwork 'DNN_linear'\n"
     ]
    },
    {
     "name": "stderr",
     "output_type": "stream",
     "text": [
      "I0512 13:06:44.748070 140384601073472 iteration.py:337] Building subnetwork 'DNN_linear'\n"
     ]
    },
    {
     "name": "stdout",
     "output_type": "stream",
     "text": [
      "\n",
      "\n",
      "*** build_subnetwork() : features= {'images': <tf.Tensor 'IteratorGetNext:0' shape=(?, 224, 224, 3) dtype=float32>}\n",
      "\n",
      "\n",
      "*** build_subnetwork() : self._feature_columns= [NumericColumn(key='images', shape=(224, 224, 3), default_value=None, dtype=tf.float32, normalizer_fn=None)]\n",
      "WARNING:tensorflow:From /home/bangui/anaconda3/lib/python3.6/site-packages/tensorflow/python/feature_column/feature_column.py:205: NumericColumn._get_dense_tensor (from tensorflow.python.feature_column.feature_column_v2) is deprecated and will be removed after 2018-11-30.\n",
      "Instructions for updating:\n",
      "The old _FeatureColumn APIs are being deprecated. Please use the new FeatureColumn APIs instead.\n"
     ]
    },
    {
     "name": "stderr",
     "output_type": "stream",
     "text": [
      "W0512 13:06:44.757087 140384601073472 deprecation.py:323] From /home/bangui/anaconda3/lib/python3.6/site-packages/tensorflow/python/feature_column/feature_column.py:205: NumericColumn._get_dense_tensor (from tensorflow.python.feature_column.feature_column_v2) is deprecated and will be removed after 2018-11-30.\n",
      "Instructions for updating:\n",
      "The old _FeatureColumn APIs are being deprecated. Please use the new FeatureColumn APIs instead.\n"
     ]
    },
    {
     "name": "stdout",
     "output_type": "stream",
     "text": [
      "WARNING:tensorflow:From /home/bangui/anaconda3/lib/python3.6/site-packages/tensorflow/python/feature_column/feature_column.py:2121: NumericColumn._transform_feature (from tensorflow.python.feature_column.feature_column_v2) is deprecated and will be removed after 2018-11-30.\n",
      "Instructions for updating:\n",
      "The old _FeatureColumn APIs are being deprecated. Please use the new FeatureColumn APIs instead.\n"
     ]
    },
    {
     "name": "stderr",
     "output_type": "stream",
     "text": [
      "W0512 13:06:44.759916 140384601073472 deprecation.py:323] From /home/bangui/anaconda3/lib/python3.6/site-packages/tensorflow/python/feature_column/feature_column.py:2121: NumericColumn._transform_feature (from tensorflow.python.feature_column.feature_column_v2) is deprecated and will be removed after 2018-11-30.\n",
      "Instructions for updating:\n",
      "The old _FeatureColumn APIs are being deprecated. Please use the new FeatureColumn APIs instead.\n"
     ]
    },
    {
     "name": "stdout",
     "output_type": "stream",
     "text": [
      "WARNING:tensorflow:From /home/bangui/anaconda3/lib/python3.6/site-packages/tensorflow/python/feature_column/feature_column_v2.py:2703: to_float (from tensorflow.python.ops.math_ops) is deprecated and will be removed in a future version.\n",
      "Instructions for updating:\n",
      "Use tf.cast instead.\n"
     ]
    },
    {
     "name": "stderr",
     "output_type": "stream",
     "text": [
      "W0512 13:06:44.763598 140384601073472 deprecation.py:323] From /home/bangui/anaconda3/lib/python3.6/site-packages/tensorflow/python/feature_column/feature_column_v2.py:2703: to_float (from tensorflow.python.ops.math_ops) is deprecated and will be removed in a future version.\n",
      "Instructions for updating:\n",
      "Use tf.cast instead.\n"
     ]
    },
    {
     "name": "stdout",
     "output_type": "stream",
     "text": [
      "WARNING:tensorflow:From /home/bangui/anaconda3/lib/python3.6/site-packages/tensorflow/python/feature_column/feature_column.py:206: NumericColumn._variable_shape (from tensorflow.python.feature_column.feature_column_v2) is deprecated and will be removed after 2018-11-30.\n",
      "Instructions for updating:\n",
      "The old _FeatureColumn APIs are being deprecated. Please use the new FeatureColumn APIs instead.\n"
     ]
    },
    {
     "name": "stderr",
     "output_type": "stream",
     "text": [
      "W0512 13:06:44.767915 140384601073472 deprecation.py:323] From /home/bangui/anaconda3/lib/python3.6/site-packages/tensorflow/python/feature_column/feature_column.py:206: NumericColumn._variable_shape (from tensorflow.python.feature_column.feature_column_v2) is deprecated and will be removed after 2018-11-30.\n",
      "Instructions for updating:\n",
      "The old _FeatureColumn APIs are being deprecated. Please use the new FeatureColumn APIs instead.\n"
     ]
    },
    {
     "name": "stdout",
     "output_type": "stream",
     "text": [
      "\n",
      "\n",
      "*** build_subnetwork() : NN type= DNN / Input layer shape= (?, 150528)\n",
      "**** *** _build_dnn_subnetwork : Layers= 1\n",
      "\n",
      "WARNING:tensorflow:From /home/bangui/Dropbox/Perso/Formation/openclassrooms/OC_Datascientist/P8/NNAdaNetBuilder.py:264: dense (from tensorflow.python.layers.core) is deprecated and will be removed in a future version.\n",
      "Instructions for updating:\n",
      "Use keras.layers.dense instead.\n"
     ]
    },
    {
     "name": "stderr",
     "output_type": "stream",
     "text": [
      "W0512 13:06:44.802920 140384601073472 deprecation.py:323] From /home/bangui/Dropbox/Perso/Formation/openclassrooms/OC_Datascientist/P8/NNAdaNetBuilder.py:264: dense (from tensorflow.python.layers.core) is deprecated and will be removed in a future version.\n",
      "Instructions for updating:\n",
      "Use keras.layers.dense instead.\n"
     ]
    },
    {
     "name": "stdout",
     "output_type": "stream",
     "text": [
      "WARNING:tensorflow:From /home/bangui/Dropbox/Perso/Formation/openclassrooms/OC_Datascientist/P8/NNAdaNetBuilder.py:267: dropout (from tensorflow.python.layers.core) is deprecated and will be removed in a future version.\n",
      "Instructions for updating:\n",
      "Use keras.layers.dropout instead.\n"
     ]
    },
    {
     "name": "stderr",
     "output_type": "stream",
     "text": [
      "W0512 13:06:44.856266 140384601073472 deprecation.py:323] From /home/bangui/Dropbox/Perso/Formation/openclassrooms/OC_Datascientist/P8/NNAdaNetBuilder.py:267: dropout (from tensorflow.python.layers.core) is deprecated and will be removed in a future version.\n",
      "Instructions for updating:\n",
      "Use keras.layers.dropout instead.\n"
     ]
    },
    {
     "name": "stdout",
     "output_type": "stream",
     "text": [
      "WARNING:tensorflow:From /home/bangui/anaconda3/lib/python3.6/site-packages/tensorflow/python/keras/layers/core.py:143: calling dropout (from tensorflow.python.ops.nn_ops) with keep_prob is deprecated and will be removed in a future version.\n",
      "Instructions for updating:\n",
      "Please use `rate` instead of `keep_prob`. Rate should be set to `rate = 1 - keep_prob`.\n"
     ]
    },
    {
     "name": "stderr",
     "output_type": "stream",
     "text": [
      "W0512 13:06:44.862344 140384601073472 deprecation.py:506] From /home/bangui/anaconda3/lib/python3.6/site-packages/tensorflow/python/keras/layers/core.py:143: calling dropout (from tensorflow.python.ops.nn_ops) with keep_prob is deprecated and will be removed in a future version.\n",
      "Instructions for updating:\n",
      "Please use `rate` instead of `keep_prob`. Rate should be set to `rate = 1 - keep_prob`.\n"
     ]
    },
    {
     "name": "stdout",
     "output_type": "stream",
     "text": [
      "\n",
      "*** build_subnetwork() : last_layer= Tensor(\"adanet/iteration_0/subnetwork_t0_DNN_linear/dense/Relu:0\", shape=(?, 128), dtype=float32)\n",
      "INFO:tensorflow:Building subnetwork 'DNN_layer_1'\n"
     ]
    },
    {
     "name": "stderr",
     "output_type": "stream",
     "text": [
      "I0512 13:06:45.265684 140384601073472 iteration.py:337] Building subnetwork 'DNN_layer_1'\n"
     ]
    },
    {
     "name": "stdout",
     "output_type": "stream",
     "text": [
      "\n",
      "\n",
      "*** build_subnetwork() : features= {'images': <tf.Tensor 'IteratorGetNext:0' shape=(?, 224, 224, 3) dtype=float32>}\n",
      "\n",
      "\n",
      "*** build_subnetwork() : self._feature_columns= [NumericColumn(key='images', shape=(224, 224, 3), default_value=None, dtype=tf.float32, normalizer_fn=None)]\n",
      "\n",
      "\n",
      "*** build_subnetwork() : NN type= DNN / Input layer shape= (?, 150528)\n",
      "**** *** _build_dnn_subnetwork : Layers= 1\n",
      "\n",
      "\n",
      "*** build_subnetwork() : last_layer= Tensor(\"adanet/iteration_0/subnetwork_t0_DNN_layer_1/dense/Relu:0\", shape=(?, 128), dtype=float32)\n",
      "WARNING:tensorflow:The `build_mixture_weights_train_op` method is deprecated. Please use the `Ensembler#build_train_op` instead.\n"
     ]
    },
    {
     "name": "stderr",
     "output_type": "stream",
     "text": [
      "W0512 13:06:45.715995 140384601073472 tf_logging.py:161] The `build_mixture_weights_train_op` method is deprecated. Please use the `Ensembler#build_train_op` instead.\n"
     ]
    },
    {
     "name": "stdout",
     "output_type": "stream",
     "text": [
      "WARNING:tensorflow:The `build_mixture_weights_train_op` method is deprecated. Please use the `Ensembler#build_train_op` instead.\n"
     ]
    },
    {
     "name": "stderr",
     "output_type": "stream",
     "text": [
      "W0512 13:06:45.860360 140384601073472 tf_logging.py:161] The `build_mixture_weights_train_op` method is deprecated. Please use the `Ensembler#build_train_op` instead.\n"
     ]
    },
    {
     "name": "stdout",
     "output_type": "stream",
     "text": [
      "INFO:tensorflow:Done calling model_fn.\n"
     ]
    },
    {
     "name": "stderr",
     "output_type": "stream",
     "text": [
      "I0512 13:06:46.025911 140384601073472 estimator.py:1113] Done calling model_fn.\n"
     ]
    },
    {
     "name": "stdout",
     "output_type": "stream",
     "text": [
      "INFO:tensorflow:Create CheckpointSaverHook.\n"
     ]
    },
    {
     "name": "stderr",
     "output_type": "stream",
     "text": [
      "I0512 13:06:46.027182 140384601073472 basic_session_run_hooks.py:527] Create CheckpointSaverHook.\n"
     ]
    },
    {
     "name": "stdout",
     "output_type": "stream",
     "text": [
      "INFO:tensorflow:Graph was finalized.\n"
     ]
    },
    {
     "name": "stderr",
     "output_type": "stream",
     "text": [
      "I0512 13:06:47.167662 140384601073472 monitored_session.py:222] Graph was finalized.\n"
     ]
    },
    {
     "name": "stdout",
     "output_type": "stream",
     "text": [
      "INFO:tensorflow:Running local_init_op.\n"
     ]
    },
    {
     "name": "stderr",
     "output_type": "stream",
     "text": [
      "I0512 13:06:47.980705 140384601073472 session_manager.py:491] Running local_init_op.\n"
     ]
    },
    {
     "name": "stdout",
     "output_type": "stream",
     "text": [
      "INFO:tensorflow:Done running local_init_op.\n"
     ]
    },
    {
     "name": "stderr",
     "output_type": "stream",
     "text": [
      "I0512 13:06:47.996817 140384601073472 session_manager.py:493] Done running local_init_op.\n"
     ]
    },
    {
     "name": "stdout",
     "output_type": "stream",
     "text": [
      "INFO:tensorflow:Saving checkpoints for 0 into ./tmp/adanet/DNN/model.ckpt.\n"
     ]
    },
    {
     "name": "stderr",
     "output_type": "stream",
     "text": [
      "I0512 13:06:48.358050 140384601073472 basic_session_run_hooks.py:594] Saving checkpoints for 0 into ./tmp/adanet/DNN/model.ckpt.\n"
     ]
    },
    {
     "name": "stdout",
     "output_type": "stream",
     "text": [
      "INFO:tensorflow:loss = 1.202062, step = 1\n"
     ]
    },
    {
     "name": "stderr",
     "output_type": "stream",
     "text": [
      "I0512 13:06:49.087846 140384601073472 basic_session_run_hooks.py:249] loss = 1.202062, step = 1\n"
     ]
    },
    {
     "name": "stdout",
     "output_type": "stream",
     "text": [
      "\n",
      "*** generator() : labels shape= (414,) / label values= 1\n",
      "INFO:tensorflow:Saving checkpoints for 5 into ./tmp/adanet/DNN/model.ckpt.\n"
     ]
    },
    {
     "name": "stderr",
     "output_type": "stream",
     "text": [
      "I0512 13:06:49.707871 140384601073472 basic_session_run_hooks.py:594] Saving checkpoints for 5 into ./tmp/adanet/DNN/model.ckpt.\n"
     ]
    },
    {
     "name": "stdout",
     "output_type": "stream",
     "text": [
      "\n",
      "*** input_fn() : feature_shape= (224, 224, 3) / label_shape= [1]\n",
      "\n",
      "*** input_fn : TEST / feature_shape= (224, 224, 3)\n",
      "\n",
      "*** preprocess_color_image() : label shape= ()\n",
      "\n",
      "***_input_fn() : Label shape =[1]\n",
      "INFO:tensorflow:Calling model_fn.\n"
     ]
    },
    {
     "name": "stderr",
     "output_type": "stream",
     "text": [
      "I0512 13:06:50.059563 140384601073472 estimator.py:1111] Calling model_fn.\n"
     ]
    },
    {
     "name": "stdout",
     "output_type": "stream",
     "text": [
      "\n",
      "*** NNGenerator : layers= (0,1)\n",
      "\n",
      "*** NNAdaNetBuilder : NN Type=DNN\n",
      "\n",
      "*** get_tf_head() : feature shape= (224, 224, 3)\n",
      "\n",
      "*** get_tf_head() : feature columns= [NumericColumn(key='images', shape=(224, 224, 3), default_value=None, dtype=tf.float32, normalizer_fn=None)]\n",
      "\n",
      "*** NNAdaNetBuilder : NN Type=DNN\n",
      "\n",
      "*** get_tf_head() : feature shape= (224, 224, 3)\n",
      "\n",
      "*** get_tf_head() : feature columns= [NumericColumn(key='images', shape=(224, 224, 3), default_value=None, dtype=tf.float32, normalizer_fn=None)]\n",
      "INFO:tensorflow:Building iteration 0\n"
     ]
    },
    {
     "name": "stderr",
     "output_type": "stream",
     "text": [
      "I0512 13:06:50.063286 140384601073472 iteration.py:250] Building iteration 0\n"
     ]
    },
    {
     "name": "stdout",
     "output_type": "stream",
     "text": [
      "INFO:tensorflow:Building subnetwork 'DNN_linear'\n"
     ]
    },
    {
     "name": "stderr",
     "output_type": "stream",
     "text": [
      "I0512 13:06:50.068624 140384601073472 iteration.py:337] Building subnetwork 'DNN_linear'\n"
     ]
    },
    {
     "name": "stdout",
     "output_type": "stream",
     "text": [
      "\n",
      "\n",
      "*** build_subnetwork() : features= {'images': <tf.Tensor 'IteratorGetNext:0' shape=(?, 224, 224, 3) dtype=float32>}\n",
      "\n",
      "\n",
      "*** build_subnetwork() : self._feature_columns= [NumericColumn(key='images', shape=(224, 224, 3), default_value=None, dtype=tf.float32, normalizer_fn=None)]\n",
      "\n",
      "\n",
      "*** build_subnetwork() : NN type= DNN / Input layer shape= (?, 150528)\n",
      "**** *** _build_dnn_subnetwork : Layers= 1\n",
      "\n",
      "\n",
      "*** build_subnetwork() : last_layer= Tensor(\"adanet/iteration_0/subnetwork_t0_DNN_linear/dropout/Identity:0\", shape=(?, 128), dtype=float32)\n",
      "INFO:tensorflow:Building subnetwork 'DNN_layer_1'\n"
     ]
    },
    {
     "name": "stderr",
     "output_type": "stream",
     "text": [
      "I0512 13:06:50.236878 140384601073472 iteration.py:337] Building subnetwork 'DNN_layer_1'\n"
     ]
    },
    {
     "name": "stdout",
     "output_type": "stream",
     "text": [
      "\n",
      "\n",
      "*** build_subnetwork() : features= {'images': <tf.Tensor 'IteratorGetNext:0' shape=(?, 224, 224, 3) dtype=float32>}\n",
      "\n",
      "\n",
      "*** build_subnetwork() : self._feature_columns= [NumericColumn(key='images', shape=(224, 224, 3), default_value=None, dtype=tf.float32, normalizer_fn=None)]\n",
      "\n",
      "\n",
      "*** build_subnetwork() : NN type= DNN / Input layer shape= (?, 150528)\n",
      "**** *** _build_dnn_subnetwork : Layers= 1\n",
      "\n",
      "\n",
      "*** build_subnetwork() : last_layer= Tensor(\"adanet/iteration_0/subnetwork_t0_DNN_layer_1/dropout/Identity:0\", shape=(?, 128), dtype=float32)\n",
      "INFO:tensorflow:Done calling model_fn.\n"
     ]
    },
    {
     "name": "stderr",
     "output_type": "stream",
     "text": [
      "I0512 13:06:50.763745 140384601073472 estimator.py:1113] Done calling model_fn.\n"
     ]
    },
    {
     "name": "stdout",
     "output_type": "stream",
     "text": [
      "INFO:tensorflow:Starting evaluation at 2019-05-12T11:06:50Z\n"
     ]
    },
    {
     "name": "stderr",
     "output_type": "stream",
     "text": [
      "I0512 13:06:50.792735 140384601073472 evaluation.py:257] Starting evaluation at 2019-05-12T11:06:50Z\n"
     ]
    },
    {
     "name": "stdout",
     "output_type": "stream",
     "text": [
      "INFO:tensorflow:Graph was finalized.\n"
     ]
    },
    {
     "name": "stderr",
     "output_type": "stream",
     "text": [
      "I0512 13:06:50.968118 140384601073472 monitored_session.py:222] Graph was finalized.\n"
     ]
    },
    {
     "name": "stdout",
     "output_type": "stream",
     "text": [
      "WARNING:tensorflow:From /home/bangui/anaconda3/lib/python3.6/site-packages/tensorflow/python/training/saver.py:1266: checkpoint_exists (from tensorflow.python.training.checkpoint_management) is deprecated and will be removed in a future version.\n",
      "Instructions for updating:\n",
      "Use standard file APIs to check for files with this prefix.\n"
     ]
    },
    {
     "name": "stderr",
     "output_type": "stream",
     "text": [
      "W0512 13:06:50.969147 140384601073472 deprecation.py:323] From /home/bangui/anaconda3/lib/python3.6/site-packages/tensorflow/python/training/saver.py:1266: checkpoint_exists (from tensorflow.python.training.checkpoint_management) is deprecated and will be removed in a future version.\n",
      "Instructions for updating:\n",
      "Use standard file APIs to check for files with this prefix.\n"
     ]
    },
    {
     "name": "stdout",
     "output_type": "stream",
     "text": [
      "INFO:tensorflow:Restoring parameters from ./tmp/adanet/DNN/model.ckpt-5\n"
     ]
    },
    {
     "name": "stderr",
     "output_type": "stream",
     "text": [
      "I0512 13:06:50.970663 140384601073472 saver.py:1270] Restoring parameters from ./tmp/adanet/DNN/model.ckpt-5\n"
     ]
    },
    {
     "name": "stdout",
     "output_type": "stream",
     "text": [
      "INFO:tensorflow:Running local_init_op.\n"
     ]
    },
    {
     "name": "stderr",
     "output_type": "stream",
     "text": [
      "I0512 13:06:51.090356 140384601073472 session_manager.py:491] Running local_init_op.\n"
     ]
    },
    {
     "name": "stdout",
     "output_type": "stream",
     "text": [
      "INFO:tensorflow:Done running local_init_op.\n"
     ]
    },
    {
     "name": "stderr",
     "output_type": "stream",
     "text": [
      "I0512 13:06:51.139075 140384601073472 session_manager.py:493] Done running local_init_op.\n"
     ]
    },
    {
     "name": "stdout",
     "output_type": "stream",
     "text": [
      "\n",
      "*** generator() : labels shape= (47,) / label values= 0\n",
      "INFO:tensorflow:Finished evaluation at 2019-05-12-11:06:51\n"
     ]
    },
    {
     "name": "stderr",
     "output_type": "stream",
     "text": [
      "I0512 13:06:51.775520 140384601073472 evaluation.py:277] Finished evaluation at 2019-05-12-11:06:51\n"
     ]
    },
    {
     "name": "stdout",
     "output_type": "stream",
     "text": [
      "INFO:tensorflow:Saving dict for global step 5: accuracy = 0.38297874, average_loss = 1.1966809, global_step = 5, loss = 1.1458831\n"
     ]
    },
    {
     "name": "stderr",
     "output_type": "stream",
     "text": [
      "I0512 13:06:51.777250 140384601073472 estimator.py:1979] Saving dict for global step 5: accuracy = 0.38297874, average_loss = 1.1966809, global_step = 5, loss = 1.1458831\n"
     ]
    },
    {
     "name": "stdout",
     "output_type": "stream",
     "text": [
      "INFO:tensorflow:Saving 'checkpoint_path' summary for global step 5: ./tmp/adanet/DNN/model.ckpt-5\n"
     ]
    },
    {
     "name": "stderr",
     "output_type": "stream",
     "text": [
      "I0512 13:06:51.921563 140384601073472 estimator.py:2039] Saving 'checkpoint_path' summary for global step 5: ./tmp/adanet/DNN/model.ckpt-5\n"
     ]
    },
    {
     "name": "stdout",
     "output_type": "stream",
     "text": [
      "INFO:tensorflow:Loss for final step: 1.4446206.\n"
     ]
    },
    {
     "name": "stderr",
     "output_type": "stream",
     "text": [
      "I0512 13:06:51.968340 140384601073472 estimator.py:359] Loss for final step: 1.4446206.\n"
     ]
    },
    {
     "name": "stdout",
     "output_type": "stream",
     "text": [
      "\n",
      "*** input_fn() : feature_shape= (224, 224, 3) / label_shape= [1]\n",
      "\n",
      "*** preprocess_color_image() : label shape= ()\n",
      "\n",
      "***_input_fn() : Label shape =[1]\n",
      "INFO:tensorflow:Calling model_fn.\n"
     ]
    },
    {
     "name": "stderr",
     "output_type": "stream",
     "text": [
      "I0512 13:06:52.019787 140384601073472 estimator.py:1111] Calling model_fn.\n"
     ]
    },
    {
     "name": "stdout",
     "output_type": "stream",
     "text": [
      "\n",
      "*** NNGenerator : layers= (0,1)\n",
      "\n",
      "*** NNAdaNetBuilder : NN Type=DNN\n",
      "\n",
      "*** get_tf_head() : feature shape= (224, 224, 3)\n",
      "\n",
      "*** get_tf_head() : feature columns= [NumericColumn(key='images', shape=(224, 224, 3), default_value=None, dtype=tf.float32, normalizer_fn=None)]\n",
      "\n",
      "*** NNAdaNetBuilder : NN Type=DNN\n",
      "\n",
      "*** get_tf_head() : feature shape= (224, 224, 3)\n",
      "\n",
      "*** get_tf_head() : feature columns= [NumericColumn(key='images', shape=(224, 224, 3), default_value=None, dtype=tf.float32, normalizer_fn=None)]\n",
      "INFO:tensorflow:Building iteration 0\n"
     ]
    },
    {
     "name": "stderr",
     "output_type": "stream",
     "text": [
      "I0512 13:06:52.023179 140384601073472 iteration.py:250] Building iteration 0\n"
     ]
    },
    {
     "name": "stdout",
     "output_type": "stream",
     "text": [
      "INFO:tensorflow:Building subnetwork 'DNN_linear'\n"
     ]
    },
    {
     "name": "stderr",
     "output_type": "stream",
     "text": [
      "I0512 13:06:52.028505 140384601073472 iteration.py:337] Building subnetwork 'DNN_linear'\n"
     ]
    },
    {
     "name": "stdout",
     "output_type": "stream",
     "text": [
      "\n",
      "\n",
      "*** build_subnetwork() : features= {'images': <tf.Tensor 'IteratorGetNext:0' shape=(?, 224, 224, 3) dtype=float32>}\n",
      "\n",
      "\n",
      "*** build_subnetwork() : self._feature_columns= [NumericColumn(key='images', shape=(224, 224, 3), default_value=None, dtype=tf.float32, normalizer_fn=None)]\n",
      "\n",
      "\n",
      "*** build_subnetwork() : NN type= DNN / Input layer shape= (?, 150528)\n",
      "**** *** _build_dnn_subnetwork : Layers= 1\n",
      "\n",
      "\n",
      "*** build_subnetwork() : last_layer= Tensor(\"adanet/iteration_0/subnetwork_t0_DNN_linear/dropout/Identity:0\", shape=(?, 128), dtype=float32)\n",
      "INFO:tensorflow:Building subnetwork 'DNN_layer_1'\n"
     ]
    },
    {
     "name": "stderr",
     "output_type": "stream",
     "text": [
      "I0512 13:06:52.173922 140384601073472 iteration.py:337] Building subnetwork 'DNN_layer_1'\n"
     ]
    },
    {
     "name": "stdout",
     "output_type": "stream",
     "text": [
      "\n",
      "\n",
      "*** build_subnetwork() : features= {'images': <tf.Tensor 'IteratorGetNext:0' shape=(?, 224, 224, 3) dtype=float32>}\n",
      "\n",
      "\n",
      "*** build_subnetwork() : self._feature_columns= [NumericColumn(key='images', shape=(224, 224, 3), default_value=None, dtype=tf.float32, normalizer_fn=None)]\n",
      "\n",
      "\n",
      "*** build_subnetwork() : NN type= DNN / Input layer shape= (?, 150528)\n",
      "**** *** _build_dnn_subnetwork : Layers= 1\n",
      "\n",
      "\n",
      "*** build_subnetwork() : last_layer= Tensor(\"adanet/iteration_0/subnetwork_t0_DNN_layer_1/dropout/Identity:0\", shape=(?, 128), dtype=float32)\n",
      "INFO:tensorflow:Restoring parameters from ./tmp/adanet/DNN/model.ckpt-5\n"
     ]
    },
    {
     "name": "stderr",
     "output_type": "stream",
     "text": [
      "I0512 13:06:52.840855 140384601073472 saver.py:1270] Restoring parameters from ./tmp/adanet/DNN/model.ckpt-5\n"
     ]
    },
    {
     "name": "stdout",
     "output_type": "stream",
     "text": [
      "WARNING:tensorflow:From /home/bangui/anaconda3/lib/python3.6/site-packages/adanet/core/estimator.py:919: start_queue_runners (from tensorflow.python.training.queue_runner_impl) is deprecated and will be removed in a future version.\n",
      "Instructions for updating:\n",
      "To construct input pipelines, use the `tf.data` module.\n"
     ]
    },
    {
     "name": "stderr",
     "output_type": "stream",
     "text": [
      "W0512 13:06:52.961192 140384601073472 deprecation.py:323] From /home/bangui/anaconda3/lib/python3.6/site-packages/adanet/core/estimator.py:919: start_queue_runners (from tensorflow.python.training.queue_runner_impl) is deprecated and will be removed in a future version.\n",
      "Instructions for updating:\n",
      "To construct input pipelines, use the `tf.data` module.\n"
     ]
    },
    {
     "name": "stdout",
     "output_type": "stream",
     "text": [
      "WARNING:tensorflow:`tf.train.start_queue_runners()` was called when no queue runners were defined. You can safely remove the call to this deprecated function.\n"
     ]
    },
    {
     "name": "stderr",
     "output_type": "stream",
     "text": [
      "W0512 13:06:52.962512 140384601073472 queue_runner_impl.py:471] `tf.train.start_queue_runners()` was called when no queue runners were defined. You can safely remove the call to this deprecated function.\n"
     ]
    },
    {
     "name": "stdout",
     "output_type": "stream",
     "text": [
      "\n",
      "*** generator() : labels shape= (414,) / label values= 1\n",
      "\n",
      "*** generator() : labels shape= (414,) / label values= 1\n",
      "\n",
      "*** generator() : labels shape= (414,) / label values= 1\n",
      "\n",
      "*** generator() : labels shape= (414,) / label values= 1\n",
      "\n",
      "*** generator() : labels shape= (414,) / label values= 1\n",
      "\n",
      "*** generator() : labels shape= (414,) / label values= 1\n",
      "INFO:tensorflow:Done calling model_fn.\n"
     ]
    },
    {
     "name": "stderr",
     "output_type": "stream",
     "text": [
      "I0512 13:06:56.117969 140384601073472 estimator.py:1113] Done calling model_fn.\n"
     ]
    },
    {
     "name": "stdout",
     "output_type": "stream",
     "text": [
      "INFO:tensorflow:Using config: {'_model_dir': './tmp/adanet/DNN/temp_model_dir', '_tf_random_seed': 42, '_save_summary_steps': 100, '_save_checkpoints_steps': None, '_save_checkpoints_secs': 600, '_session_config': allow_soft_placement: true\n",
      "graph_options {\n",
      "  rewrite_options {\n",
      "    meta_optimizer_iterations: ONE\n",
      "  }\n",
      "}\n",
      ", '_keep_checkpoint_max': 5, '_keep_checkpoint_every_n_hours': 10000, '_log_step_count_steps': 100, '_train_distribute': None, '_device_fn': None, '_protocol': None, '_eval_distribute': None, '_experimental_distribute': None, '_service': None, '_cluster_spec': <tensorflow.python.training.server_lib.ClusterSpec object at 0x7fad5bcbe780>, '_task_type': 'worker', '_task_id': 0, '_global_id_in_cluster': 0, '_master': '', '_evaluation_master': '', '_is_chief': True, '_num_ps_replicas': 0, '_num_worker_replicas': 1}\n"
     ]
    },
    {
     "name": "stderr",
     "output_type": "stream",
     "text": [
      "I0512 13:06:56.119367 140384601073472 estimator.py:201] Using config: {'_model_dir': './tmp/adanet/DNN/temp_model_dir', '_tf_random_seed': 42, '_save_summary_steps': 100, '_save_checkpoints_steps': None, '_save_checkpoints_secs': 600, '_session_config': allow_soft_placement: true\n",
      "graph_options {\n",
      "  rewrite_options {\n",
      "    meta_optimizer_iterations: ONE\n",
      "  }\n",
      "}\n",
      ", '_keep_checkpoint_max': 5, '_keep_checkpoint_every_n_hours': 10000, '_log_step_count_steps': 100, '_train_distribute': None, '_device_fn': None, '_protocol': None, '_eval_distribute': None, '_experimental_distribute': None, '_service': None, '_cluster_spec': <tensorflow.python.training.server_lib.ClusterSpec object at 0x7fad5bcbe780>, '_task_type': 'worker', '_task_id': 0, '_global_id_in_cluster': 0, '_master': '', '_evaluation_master': '', '_is_chief': True, '_num_ps_replicas': 0, '_num_worker_replicas': 1}\n"
     ]
    },
    {
     "name": "stdout",
     "output_type": "stream",
     "text": [
      "\n",
      "*** input_fn() : feature_shape= (224, 224, 3) / label_shape= [1]\n",
      "\n",
      "*** preprocess_color_image() : label shape= ()\n",
      "\n",
      "***_input_fn() : Label shape =[1]\n",
      "INFO:tensorflow:Calling model_fn.\n"
     ]
    },
    {
     "name": "stderr",
     "output_type": "stream",
     "text": [
      "I0512 13:06:56.199449 140384601073472 estimator.py:1111] Calling model_fn.\n"
     ]
    },
    {
     "name": "stdout",
     "output_type": "stream",
     "text": [
      "\n",
      "*** NNGenerator : layers= (0,1)\n",
      "\n",
      "*** NNAdaNetBuilder : NN Type=DNN\n",
      "\n",
      "*** get_tf_head() : feature shape= (224, 224, 3)\n",
      "\n",
      "*** get_tf_head() : feature columns= [NumericColumn(key='images', shape=(224, 224, 3), default_value=None, dtype=tf.float32, normalizer_fn=None)]\n",
      "\n",
      "*** NNAdaNetBuilder : NN Type=DNN\n",
      "\n",
      "*** get_tf_head() : feature shape= (224, 224, 3)\n",
      "\n",
      "*** get_tf_head() : feature columns= [NumericColumn(key='images', shape=(224, 224, 3), default_value=None, dtype=tf.float32, normalizer_fn=None)]\n",
      "INFO:tensorflow:Rebuilding iteration 0\n"
     ]
    },
    {
     "name": "stderr",
     "output_type": "stream",
     "text": [
      "I0512 13:06:56.204113 140384601073472 iteration.py:250] Rebuilding iteration 0\n"
     ]
    },
    {
     "name": "stdout",
     "output_type": "stream",
     "text": [
      "INFO:tensorflow:Rebuilding subnetwork 'DNN_linear'\n"
     ]
    },
    {
     "name": "stderr",
     "output_type": "stream",
     "text": [
      "I0512 13:06:56.210183 140384601073472 iteration.py:337] Rebuilding subnetwork 'DNN_linear'\n"
     ]
    },
    {
     "name": "stdout",
     "output_type": "stream",
     "text": [
      "\n",
      "\n",
      "*** build_subnetwork() : features= {'images': <tf.Tensor 'IteratorGetNext:0' shape=(?, 224, 224, 3) dtype=float32>}\n",
      "\n",
      "\n",
      "*** build_subnetwork() : self._feature_columns= [NumericColumn(key='images', shape=(224, 224, 3), default_value=None, dtype=tf.float32, normalizer_fn=None)]\n",
      "\n",
      "\n",
      "*** build_subnetwork() : NN type= DNN / Input layer shape= (?, 150528)\n",
      "**** *** _build_dnn_subnetwork : Layers= 1\n",
      "\n",
      "\n",
      "*** build_subnetwork() : last_layer= Tensor(\"adanet/iteration_0/subnetwork_t0_DNN_linear/dropout/Identity:0\", shape=(?, 128), dtype=float32)\n",
      "\n",
      "*** NNGenerator : layers= (0,1)\n",
      "\n",
      "*** NNAdaNetBuilder : NN Type=DNN\n",
      "\n",
      "*** get_tf_head() : feature shape= (224, 224, 3)\n",
      "\n",
      "*** get_tf_head() : feature columns= [NumericColumn(key='images', shape=(224, 224, 3), default_value=None, dtype=tf.float32, normalizer_fn=None)]\n",
      "\n",
      "*** NNAdaNetBuilder : NN Type=DNN\n",
      "\n",
      "*** get_tf_head() : feature shape= (224, 224, 3)\n",
      "\n",
      "*** get_tf_head() : feature columns= [NumericColumn(key='images', shape=(224, 224, 3), default_value=None, dtype=tf.float32, normalizer_fn=None)]\n",
      "INFO:tensorflow:Building iteration 1\n"
     ]
    },
    {
     "name": "stderr",
     "output_type": "stream",
     "text": [
      "I0512 13:06:56.499038 140384601073472 iteration.py:250] Building iteration 1\n"
     ]
    },
    {
     "name": "stdout",
     "output_type": "stream",
     "text": [
      "INFO:tensorflow:Building subnetwork 'DNN_linear'\n"
     ]
    },
    {
     "name": "stderr",
     "output_type": "stream",
     "text": [
      "I0512 13:06:56.526095 140384601073472 iteration.py:337] Building subnetwork 'DNN_linear'\n"
     ]
    },
    {
     "name": "stdout",
     "output_type": "stream",
     "text": [
      "\n",
      "\n",
      "*** build_subnetwork() : features= {'images': <tf.Tensor 'IteratorGetNext:0' shape=(?, 224, 224, 3) dtype=float32>}\n",
      "\n",
      "\n",
      "*** build_subnetwork() : self._feature_columns= [NumericColumn(key='images', shape=(224, 224, 3), default_value=None, dtype=tf.float32, normalizer_fn=None)]\n",
      "\n",
      "\n",
      "*** build_subnetwork() : NN type= DNN / Input layer shape= (?, 150528)\n",
      "**** *** _build_dnn_subnetwork : Layers= 1\n",
      "\n",
      "\n",
      "*** build_subnetwork() : last_layer= Tensor(\"adanet/iteration_1/subnetwork_t1_DNN_linear/dense/Relu:0\", shape=(?, 128), dtype=float32)\n",
      "INFO:tensorflow:Building subnetwork 'DNN_layer_1'\n"
     ]
    },
    {
     "name": "stderr",
     "output_type": "stream",
     "text": [
      "I0512 13:06:56.712343 140384601073472 iteration.py:337] Building subnetwork 'DNN_layer_1'\n"
     ]
    },
    {
     "name": "stdout",
     "output_type": "stream",
     "text": [
      "\n",
      "\n",
      "*** build_subnetwork() : features= {'images': <tf.Tensor 'IteratorGetNext:0' shape=(?, 224, 224, 3) dtype=float32>}\n",
      "\n",
      "\n",
      "*** build_subnetwork() : self._feature_columns= [NumericColumn(key='images', shape=(224, 224, 3), default_value=None, dtype=tf.float32, normalizer_fn=None)]\n",
      "\n",
      "\n",
      "*** build_subnetwork() : NN type= DNN / Input layer shape= (?, 150528)\n",
      "**** *** _build_dnn_subnetwork : Layers= 1\n",
      "\n",
      "\n",
      "*** build_subnetwork() : last_layer= Tensor(\"adanet/iteration_1/subnetwork_t1_DNN_layer_1/dense/Relu:0\", shape=(?, 128), dtype=float32)\n",
      "WARNING:tensorflow:Using an `adanet.subnetwork.Builder#prune_previous_ensemble` is deprecated. Please use a custom `adanet.ensemble.Strategy` instead.\n"
     ]
    },
    {
     "name": "stderr",
     "output_type": "stream",
     "text": [
      "W0512 13:06:56.910859 140384601073472 tf_logging.py:161] Using an `adanet.subnetwork.Builder#prune_previous_ensemble` is deprecated. Please use a custom `adanet.ensemble.Strategy` instead.\n"
     ]
    },
    {
     "name": "stdout",
     "output_type": "stream",
     "text": [
      "WARNING:tensorflow:The `build_mixture_weights_train_op` method is deprecated. Please use the `Ensembler#build_train_op` instead.\n"
     ]
    },
    {
     "name": "stderr",
     "output_type": "stream",
     "text": [
      "W0512 13:06:57.010742 140384601073472 tf_logging.py:161] The `build_mixture_weights_train_op` method is deprecated. Please use the `Ensembler#build_train_op` instead.\n"
     ]
    },
    {
     "name": "stdout",
     "output_type": "stream",
     "text": [
      "WARNING:tensorflow:Using an `adanet.subnetwork.Builder#prune_previous_ensemble` is deprecated. Please use a custom `adanet.ensemble.Strategy` instead.\n"
     ]
    },
    {
     "name": "stderr",
     "output_type": "stream",
     "text": [
      "W0512 13:06:57.213981 140384601073472 tf_logging.py:161] Using an `adanet.subnetwork.Builder#prune_previous_ensemble` is deprecated. Please use a custom `adanet.ensemble.Strategy` instead.\n"
     ]
    },
    {
     "name": "stdout",
     "output_type": "stream",
     "text": [
      "WARNING:tensorflow:The `build_mixture_weights_train_op` method is deprecated. Please use the `Ensembler#build_train_op` instead.\n"
     ]
    },
    {
     "name": "stderr",
     "output_type": "stream",
     "text": [
      "W0512 13:06:57.293350 140384601073472 tf_logging.py:161] The `build_mixture_weights_train_op` method is deprecated. Please use the `Ensembler#build_train_op` instead.\n"
     ]
    },
    {
     "name": "stdout",
     "output_type": "stream",
     "text": [
      "INFO:tensorflow:Done calling model_fn.\n"
     ]
    },
    {
     "name": "stderr",
     "output_type": "stream",
     "text": [
      "I0512 13:06:57.441081 140384601073472 estimator.py:1113] Done calling model_fn.\n"
     ]
    },
    {
     "name": "stdout",
     "output_type": "stream",
     "text": [
      "INFO:tensorflow:Create CheckpointSaverHook.\n"
     ]
    },
    {
     "name": "stderr",
     "output_type": "stream",
     "text": [
      "I0512 13:06:57.441936 140384601073472 basic_session_run_hooks.py:527] Create CheckpointSaverHook.\n"
     ]
    },
    {
     "name": "stdout",
     "output_type": "stream",
     "text": [
      "WARNING:tensorflow:From /home/bangui/anaconda3/lib/python3.6/site-packages/tensorflow/python/training/saver.py:1070: get_checkpoint_mtimes (from tensorflow.python.training.checkpoint_management) is deprecated and will be removed in a future version.\n",
      "Instructions for updating:\n",
      "Use standard file utilities to get mtimes.\n"
     ]
    },
    {
     "name": "stderr",
     "output_type": "stream",
     "text": [
      "W0512 13:06:58.062246 140384601073472 deprecation.py:323] From /home/bangui/anaconda3/lib/python3.6/site-packages/tensorflow/python/training/saver.py:1070: get_checkpoint_mtimes (from tensorflow.python.training.checkpoint_management) is deprecated and will be removed in a future version.\n",
      "Instructions for updating:\n",
      "Use standard file utilities to get mtimes.\n"
     ]
    },
    {
     "name": "stdout",
     "output_type": "stream",
     "text": [
      "INFO:tensorflow:Graph was finalized.\n"
     ]
    },
    {
     "name": "stderr",
     "output_type": "stream",
     "text": [
      "I0512 13:06:58.252357 140384601073472 monitored_session.py:222] Graph was finalized.\n"
     ]
    },
    {
     "name": "stdout",
     "output_type": "stream",
     "text": [
      "INFO:tensorflow:Running local_init_op.\n"
     ]
    },
    {
     "name": "stderr",
     "output_type": "stream",
     "text": [
      "I0512 13:06:59.100630 140384601073472 session_manager.py:491] Running local_init_op.\n"
     ]
    },
    {
     "name": "stdout",
     "output_type": "stream",
     "text": [
      "INFO:tensorflow:Done running local_init_op.\n"
     ]
    },
    {
     "name": "stderr",
     "output_type": "stream",
     "text": [
      "I0512 13:06:59.135990 140384601073472 session_manager.py:493] Done running local_init_op.\n"
     ]
    },
    {
     "name": "stdout",
     "output_type": "stream",
     "text": [
      "INFO:tensorflow:Saving checkpoints for 0 into ./tmp/adanet/DNN/temp_model_dir/model.ckpt.\n"
     ]
    },
    {
     "name": "stderr",
     "output_type": "stream",
     "text": [
      "I0512 13:06:59.764263 140384601073472 basic_session_run_hooks.py:594] Saving checkpoints for 0 into ./tmp/adanet/DNN/temp_model_dir/model.ckpt.\n"
     ]
    },
    {
     "name": "stdout",
     "output_type": "stream",
     "text": [
      "INFO:tensorflow:Restoring parameters from ./tmp/adanet/DNN/model.ckpt-5\n"
     ]
    },
    {
     "name": "stderr",
     "output_type": "stream",
     "text": [
      "I0512 13:07:00.254014 140384601073472 saver.py:1270] Restoring parameters from ./tmp/adanet/DNN/model.ckpt-5\n"
     ]
    },
    {
     "name": "stdout",
     "output_type": "stream",
     "text": [
      "INFO:tensorflow:loss = 1.0692801, step = 6\n"
     ]
    },
    {
     "name": "stderr",
     "output_type": "stream",
     "text": [
      "I0512 13:07:01.724580 140384601073472 basic_session_run_hooks.py:249] loss = 1.0692801, step = 6\n"
     ]
    },
    {
     "name": "stdout",
     "output_type": "stream",
     "text": [
      "INFO:tensorflow:Saving checkpoints for 6 into ./tmp/adanet/DNN/temp_model_dir/model.ckpt.\n"
     ]
    },
    {
     "name": "stderr",
     "output_type": "stream",
     "text": [
      "I0512 13:07:01.725637 140384601073472 basic_session_run_hooks.py:594] Saving checkpoints for 6 into ./tmp/adanet/DNN/temp_model_dir/model.ckpt.\n"
     ]
    },
    {
     "name": "stdout",
     "output_type": "stream",
     "text": [
      "INFO:tensorflow:Loss for final step: 1.0692801.\n"
     ]
    },
    {
     "name": "stderr",
     "output_type": "stream",
     "text": [
      "I0512 13:07:03.243649 140384601073472 estimator.py:359] Loss for final step: 1.0692801.\n"
     ]
    },
    {
     "name": "stdout",
     "output_type": "stream",
     "text": [
      "\n",
      "*** input_fn() : feature_shape= (224, 224, 3) / label_shape= [1]\n",
      "\n",
      "*** preprocess_color_image() : label shape= ()\n",
      "\n",
      "***_input_fn() : Label shape =[1]\n",
      "INFO:tensorflow:Calling model_fn.\n"
     ]
    },
    {
     "name": "stderr",
     "output_type": "stream",
     "text": [
      "I0512 13:07:03.408502 140384601073472 estimator.py:1111] Calling model_fn.\n"
     ]
    },
    {
     "name": "stdout",
     "output_type": "stream",
     "text": [
      "\n",
      "*** NNGenerator : layers= (0,1)\n",
      "\n",
      "*** NNAdaNetBuilder : NN Type=DNN\n",
      "\n",
      "*** get_tf_head() : feature shape= (224, 224, 3)\n",
      "\n",
      "*** get_tf_head() : feature columns= [NumericColumn(key='images', shape=(224, 224, 3), default_value=None, dtype=tf.float32, normalizer_fn=None)]\n",
      "\n",
      "*** NNAdaNetBuilder : NN Type=DNN\n",
      "\n",
      "*** get_tf_head() : feature shape= (224, 224, 3)\n",
      "\n",
      "*** get_tf_head() : feature columns= [NumericColumn(key='images', shape=(224, 224, 3), default_value=None, dtype=tf.float32, normalizer_fn=None)]\n",
      "INFO:tensorflow:Rebuilding iteration 0\n"
     ]
    },
    {
     "name": "stderr",
     "output_type": "stream",
     "text": [
      "I0512 13:07:03.411462 140384601073472 iteration.py:250] Rebuilding iteration 0\n"
     ]
    },
    {
     "name": "stdout",
     "output_type": "stream",
     "text": [
      "INFO:tensorflow:Rebuilding subnetwork 'DNN_linear'\n"
     ]
    },
    {
     "name": "stderr",
     "output_type": "stream",
     "text": [
      "I0512 13:07:03.416289 140384601073472 iteration.py:337] Rebuilding subnetwork 'DNN_linear'\n"
     ]
    },
    {
     "name": "stdout",
     "output_type": "stream",
     "text": [
      "\n",
      "\n",
      "*** build_subnetwork() : features= {'images': <tf.Tensor 'IteratorGetNext:0' shape=(?, 224, 224, 3) dtype=float32>}\n",
      "\n",
      "\n",
      "*** build_subnetwork() : self._feature_columns= [NumericColumn(key='images', shape=(224, 224, 3), default_value=None, dtype=tf.float32, normalizer_fn=None)]\n",
      "\n",
      "\n",
      "*** build_subnetwork() : NN type= DNN / Input layer shape= (?, 150528)\n",
      "**** *** _build_dnn_subnetwork : Layers= 1\n",
      "\n",
      "\n",
      "*** build_subnetwork() : last_layer= Tensor(\"adanet/iteration_0/subnetwork_t0_DNN_linear/dropout/Identity:0\", shape=(?, 128), dtype=float32)\n",
      "\n",
      "*** NNGenerator : layers= (0,1)\n",
      "\n",
      "*** NNAdaNetBuilder : NN Type=DNN\n",
      "\n",
      "*** get_tf_head() : feature shape= (224, 224, 3)\n",
      "\n",
      "*** get_tf_head() : feature columns= [NumericColumn(key='images', shape=(224, 224, 3), default_value=None, dtype=tf.float32, normalizer_fn=None)]\n",
      "\n",
      "*** NNAdaNetBuilder : NN Type=DNN\n",
      "\n",
      "*** get_tf_head() : feature shape= (224, 224, 3)\n",
      "\n",
      "*** get_tf_head() : feature columns= [NumericColumn(key='images', shape=(224, 224, 3), default_value=None, dtype=tf.float32, normalizer_fn=None)]\n",
      "INFO:tensorflow:Building iteration 1\n"
     ]
    },
    {
     "name": "stderr",
     "output_type": "stream",
     "text": [
      "I0512 13:07:04.201682 140384601073472 iteration.py:250] Building iteration 1\n"
     ]
    },
    {
     "name": "stdout",
     "output_type": "stream",
     "text": [
      "INFO:tensorflow:Building subnetwork 'DNN_linear'\n"
     ]
    },
    {
     "name": "stderr",
     "output_type": "stream",
     "text": [
      "I0512 13:07:04.356042 140384601073472 iteration.py:337] Building subnetwork 'DNN_linear'\n"
     ]
    },
    {
     "name": "stdout",
     "output_type": "stream",
     "text": [
      "\n",
      "\n",
      "*** build_subnetwork() : features= {'images': <tf.Tensor 'IteratorGetNext:0' shape=(?, 224, 224, 3) dtype=float32>}\n",
      "\n",
      "\n",
      "*** build_subnetwork() : self._feature_columns= [NumericColumn(key='images', shape=(224, 224, 3), default_value=None, dtype=tf.float32, normalizer_fn=None)]\n",
      "\n",
      "\n",
      "*** build_subnetwork() : NN type= DNN / Input layer shape= (?, 150528)\n",
      "**** *** _build_dnn_subnetwork : Layers= 1\n",
      "\n",
      "\n",
      "*** build_subnetwork() : last_layer= Tensor(\"adanet/iteration_1/subnetwork_t1_DNN_linear/dense/Relu:0\", shape=(?, 128), dtype=float32)\n",
      "INFO:tensorflow:Building subnetwork 'DNN_layer_1'\n"
     ]
    },
    {
     "name": "stderr",
     "output_type": "stream",
     "text": [
      "I0512 13:07:04.618873 140384601073472 iteration.py:337] Building subnetwork 'DNN_layer_1'\n"
     ]
    },
    {
     "name": "stdout",
     "output_type": "stream",
     "text": [
      "\n",
      "\n",
      "*** build_subnetwork() : features= {'images': <tf.Tensor 'IteratorGetNext:0' shape=(?, 224, 224, 3) dtype=float32>}\n",
      "\n",
      "\n",
      "*** build_subnetwork() : self._feature_columns= [NumericColumn(key='images', shape=(224, 224, 3), default_value=None, dtype=tf.float32, normalizer_fn=None)]\n",
      "\n",
      "\n",
      "*** build_subnetwork() : NN type= DNN / Input layer shape= (?, 150528)\n",
      "**** *** _build_dnn_subnetwork : Layers= 1\n",
      "\n",
      "\n",
      "*** build_subnetwork() : last_layer= Tensor(\"adanet/iteration_1/subnetwork_t1_DNN_layer_1/dense/Relu:0\", shape=(?, 128), dtype=float32)\n",
      "WARNING:tensorflow:Using an `adanet.subnetwork.Builder#prune_previous_ensemble` is deprecated. Please use a custom `adanet.ensemble.Strategy` instead.\n"
     ]
    },
    {
     "name": "stderr",
     "output_type": "stream",
     "text": [
      "W0512 13:07:05.121512 140384601073472 tf_logging.py:161] Using an `adanet.subnetwork.Builder#prune_previous_ensemble` is deprecated. Please use a custom `adanet.ensemble.Strategy` instead.\n"
     ]
    },
    {
     "name": "stdout",
     "output_type": "stream",
     "text": [
      "WARNING:tensorflow:The `build_mixture_weights_train_op` method is deprecated. Please use the `Ensembler#build_train_op` instead.\n"
     ]
    },
    {
     "name": "stderr",
     "output_type": "stream",
     "text": [
      "W0512 13:07:05.222838 140384601073472 tf_logging.py:161] The `build_mixture_weights_train_op` method is deprecated. Please use the `Ensembler#build_train_op` instead.\n"
     ]
    },
    {
     "name": "stdout",
     "output_type": "stream",
     "text": [
      "WARNING:tensorflow:Using an `adanet.subnetwork.Builder#prune_previous_ensemble` is deprecated. Please use a custom `adanet.ensemble.Strategy` instead.\n"
     ]
    },
    {
     "name": "stderr",
     "output_type": "stream",
     "text": [
      "W0512 13:07:05.332042 140384601073472 tf_logging.py:161] Using an `adanet.subnetwork.Builder#prune_previous_ensemble` is deprecated. Please use a custom `adanet.ensemble.Strategy` instead.\n"
     ]
    },
    {
     "name": "stdout",
     "output_type": "stream",
     "text": [
      "WARNING:tensorflow:The `build_mixture_weights_train_op` method is deprecated. Please use the `Ensembler#build_train_op` instead.\n"
     ]
    },
    {
     "name": "stderr",
     "output_type": "stream",
     "text": [
      "W0512 13:07:05.432235 140384601073472 tf_logging.py:161] The `build_mixture_weights_train_op` method is deprecated. Please use the `Ensembler#build_train_op` instead.\n"
     ]
    },
    {
     "name": "stdout",
     "output_type": "stream",
     "text": [
      "INFO:tensorflow:Done calling model_fn.\n"
     ]
    },
    {
     "name": "stderr",
     "output_type": "stream",
     "text": [
      "I0512 13:07:05.580367 140384601073472 estimator.py:1113] Done calling model_fn.\n"
     ]
    },
    {
     "name": "stdout",
     "output_type": "stream",
     "text": [
      "INFO:tensorflow:Create CheckpointSaverHook.\n"
     ]
    },
    {
     "name": "stderr",
     "output_type": "stream",
     "text": [
      "I0512 13:07:05.581217 140384601073472 basic_session_run_hooks.py:527] Create CheckpointSaverHook.\n"
     ]
    },
    {
     "name": "stdout",
     "output_type": "stream",
     "text": [
      "INFO:tensorflow:Graph was finalized.\n"
     ]
    },
    {
     "name": "stderr",
     "output_type": "stream",
     "text": [
      "I0512 13:07:05.774058 140384601073472 monitored_session.py:222] Graph was finalized.\n"
     ]
    },
    {
     "name": "stdout",
     "output_type": "stream",
     "text": [
      "INFO:tensorflow:Restoring parameters from ./tmp/adanet/DNN/increment.ckpt-1\n"
     ]
    },
    {
     "name": "stderr",
     "output_type": "stream",
     "text": [
      "I0512 13:07:05.776415 140384601073472 saver.py:1270] Restoring parameters from ./tmp/adanet/DNN/increment.ckpt-1\n"
     ]
    },
    {
     "name": "stdout",
     "output_type": "stream",
     "text": [
      "INFO:tensorflow:Running local_init_op.\n"
     ]
    },
    {
     "name": "stderr",
     "output_type": "stream",
     "text": [
      "I0512 13:07:05.974461 140384601073472 session_manager.py:491] Running local_init_op.\n"
     ]
    },
    {
     "name": "stdout",
     "output_type": "stream",
     "text": [
      "INFO:tensorflow:Done running local_init_op.\n"
     ]
    },
    {
     "name": "stderr",
     "output_type": "stream",
     "text": [
      "I0512 13:07:06.017282 140384601073472 session_manager.py:493] Done running local_init_op.\n"
     ]
    },
    {
     "name": "stdout",
     "output_type": "stream",
     "text": [
      "INFO:tensorflow:Saving checkpoints for 5 into ./tmp/adanet/DNN/model.ckpt.\n"
     ]
    },
    {
     "name": "stderr",
     "output_type": "stream",
     "text": [
      "I0512 13:07:06.643976 140384601073472 basic_session_run_hooks.py:594] Saving checkpoints for 5 into ./tmp/adanet/DNN/model.ckpt.\n"
     ]
    },
    {
     "name": "stdout",
     "output_type": "stream",
     "text": [
      "INFO:tensorflow:loss = 1.0692801, step = 6\n"
     ]
    },
    {
     "name": "stderr",
     "output_type": "stream",
     "text": [
      "I0512 13:07:07.816350 140384601073472 basic_session_run_hooks.py:249] loss = 1.0692801, step = 6\n"
     ]
    },
    {
     "name": "stdout",
     "output_type": "stream",
     "text": [
      "\n",
      "*** generator() : labels shape= (414,) / label values= 1\n",
      "INFO:tensorflow:Saving checkpoints for 10 into ./tmp/adanet/DNN/model.ckpt.\n"
     ]
    },
    {
     "name": "stderr",
     "output_type": "stream",
     "text": [
      "I0512 13:07:08.951837 140384601073472 basic_session_run_hooks.py:594] Saving checkpoints for 10 into ./tmp/adanet/DNN/model.ckpt.\n"
     ]
    },
    {
     "name": "stdout",
     "output_type": "stream",
     "text": [
      "\n",
      "*** input_fn() : feature_shape= (224, 224, 3) / label_shape= [1]\n",
      "\n",
      "*** input_fn : TEST / feature_shape= (224, 224, 3)\n",
      "\n",
      "*** preprocess_color_image() : label shape= ()\n",
      "\n",
      "***_input_fn() : Label shape =[1]\n",
      "INFO:tensorflow:Calling model_fn.\n"
     ]
    },
    {
     "name": "stderr",
     "output_type": "stream",
     "text": [
      "I0512 13:07:09.443485 140384601073472 estimator.py:1111] Calling model_fn.\n"
     ]
    },
    {
     "name": "stdout",
     "output_type": "stream",
     "text": [
      "\n",
      "*** NNGenerator : layers= (0,1)\n",
      "\n",
      "*** NNAdaNetBuilder : NN Type=DNN\n",
      "\n",
      "*** get_tf_head() : feature shape= (224, 224, 3)\n",
      "\n",
      "*** get_tf_head() : feature columns= [NumericColumn(key='images', shape=(224, 224, 3), default_value=None, dtype=tf.float32, normalizer_fn=None)]\n",
      "\n",
      "*** NNAdaNetBuilder : NN Type=DNN\n",
      "\n",
      "*** get_tf_head() : feature shape= (224, 224, 3)\n",
      "\n",
      "*** get_tf_head() : feature columns= [NumericColumn(key='images', shape=(224, 224, 3), default_value=None, dtype=tf.float32, normalizer_fn=None)]\n",
      "INFO:tensorflow:Rebuilding iteration 0\n"
     ]
    },
    {
     "name": "stderr",
     "output_type": "stream",
     "text": [
      "I0512 13:07:09.448881 140384601073472 iteration.py:250] Rebuilding iteration 0\n"
     ]
    },
    {
     "name": "stdout",
     "output_type": "stream",
     "text": [
      "INFO:tensorflow:Rebuilding subnetwork 'DNN_linear'\n"
     ]
    },
    {
     "name": "stderr",
     "output_type": "stream",
     "text": [
      "I0512 13:07:09.454719 140384601073472 iteration.py:337] Rebuilding subnetwork 'DNN_linear'\n"
     ]
    },
    {
     "name": "stdout",
     "output_type": "stream",
     "text": [
      "\n",
      "\n",
      "*** build_subnetwork() : features= {'images': <tf.Tensor 'IteratorGetNext:0' shape=(?, 224, 224, 3) dtype=float32>}\n",
      "\n",
      "\n",
      "*** build_subnetwork() : self._feature_columns= [NumericColumn(key='images', shape=(224, 224, 3), default_value=None, dtype=tf.float32, normalizer_fn=None)]\n",
      "\n",
      "\n",
      "*** build_subnetwork() : NN type= DNN / Input layer shape= (?, 150528)\n",
      "**** *** _build_dnn_subnetwork : Layers= 1\n",
      "\n",
      "\n",
      "*** build_subnetwork() : last_layer= Tensor(\"adanet/iteration_0/subnetwork_t0_DNN_linear/dropout/Identity:0\", shape=(?, 128), dtype=float32)\n",
      "\n",
      "*** NNGenerator : layers= (0,1)\n",
      "\n",
      "*** NNAdaNetBuilder : NN Type=DNN\n",
      "\n",
      "*** get_tf_head() : feature shape= (224, 224, 3)\n",
      "\n",
      "*** get_tf_head() : feature columns= [NumericColumn(key='images', shape=(224, 224, 3), default_value=None, dtype=tf.float32, normalizer_fn=None)]\n",
      "\n",
      "*** NNAdaNetBuilder : NN Type=DNN\n",
      "\n",
      "*** get_tf_head() : feature shape= (224, 224, 3)\n",
      "\n",
      "*** get_tf_head() : feature columns= [NumericColumn(key='images', shape=(224, 224, 3), default_value=None, dtype=tf.float32, normalizer_fn=None)]\n",
      "INFO:tensorflow:Building iteration 1\n"
     ]
    },
    {
     "name": "stderr",
     "output_type": "stream",
     "text": [
      "I0512 13:07:09.883571 140384601073472 iteration.py:250] Building iteration 1\n"
     ]
    },
    {
     "name": "stdout",
     "output_type": "stream",
     "text": [
      "INFO:tensorflow:Building subnetwork 'DNN_linear'\n"
     ]
    },
    {
     "name": "stderr",
     "output_type": "stream",
     "text": [
      "I0512 13:07:09.934067 140384601073472 iteration.py:337] Building subnetwork 'DNN_linear'\n"
     ]
    },
    {
     "name": "stdout",
     "output_type": "stream",
     "text": [
      "\n",
      "\n",
      "*** build_subnetwork() : features= {'images': <tf.Tensor 'IteratorGetNext:0' shape=(?, 224, 224, 3) dtype=float32>}\n",
      "\n",
      "\n",
      "*** build_subnetwork() : self._feature_columns= [NumericColumn(key='images', shape=(224, 224, 3), default_value=None, dtype=tf.float32, normalizer_fn=None)]\n",
      "\n",
      "\n",
      "*** build_subnetwork() : NN type= DNN / Input layer shape= (?, 150528)\n",
      "**** *** _build_dnn_subnetwork : Layers= 1\n",
      "\n",
      "\n",
      "*** build_subnetwork() : last_layer= Tensor(\"adanet/iteration_1/subnetwork_t1_DNN_linear/dropout/Identity:0\", shape=(?, 128), dtype=float32)\n",
      "INFO:tensorflow:Building subnetwork 'DNN_layer_1'\n"
     ]
    },
    {
     "name": "stderr",
     "output_type": "stream",
     "text": [
      "I0512 13:07:10.073491 140384601073472 iteration.py:337] Building subnetwork 'DNN_layer_1'\n"
     ]
    },
    {
     "name": "stdout",
     "output_type": "stream",
     "text": [
      "\n",
      "\n",
      "*** build_subnetwork() : features= {'images': <tf.Tensor 'IteratorGetNext:0' shape=(?, 224, 224, 3) dtype=float32>}\n",
      "\n",
      "\n",
      "*** build_subnetwork() : self._feature_columns= [NumericColumn(key='images', shape=(224, 224, 3), default_value=None, dtype=tf.float32, normalizer_fn=None)]\n",
      "\n",
      "\n",
      "*** build_subnetwork() : NN type= DNN / Input layer shape= (?, 150528)\n",
      "**** *** _build_dnn_subnetwork : Layers= 1\n",
      "\n",
      "\n",
      "*** build_subnetwork() : last_layer= Tensor(\"adanet/iteration_1/subnetwork_t1_DNN_layer_1/dropout/Identity:0\", shape=(?, 128), dtype=float32)\n",
      "WARNING:tensorflow:Using an `adanet.subnetwork.Builder#prune_previous_ensemble` is deprecated. Please use a custom `adanet.ensemble.Strategy` instead.\n"
     ]
    },
    {
     "name": "stderr",
     "output_type": "stream",
     "text": [
      "W0512 13:07:10.256088 140384601073472 tf_logging.py:161] Using an `adanet.subnetwork.Builder#prune_previous_ensemble` is deprecated. Please use a custom `adanet.ensemble.Strategy` instead.\n"
     ]
    },
    {
     "name": "stdout",
     "output_type": "stream",
     "text": [
      "WARNING:tensorflow:Using an `adanet.subnetwork.Builder#prune_previous_ensemble` is deprecated. Please use a custom `adanet.ensemble.Strategy` instead.\n"
     ]
    },
    {
     "name": "stderr",
     "output_type": "stream",
     "text": [
      "W0512 13:07:10.401719 140384601073472 tf_logging.py:161] Using an `adanet.subnetwork.Builder#prune_previous_ensemble` is deprecated. Please use a custom `adanet.ensemble.Strategy` instead.\n"
     ]
    },
    {
     "name": "stdout",
     "output_type": "stream",
     "text": [
      "INFO:tensorflow:Done calling model_fn.\n"
     ]
    },
    {
     "name": "stderr",
     "output_type": "stream",
     "text": [
      "I0512 13:07:10.654598 140384601073472 estimator.py:1113] Done calling model_fn.\n"
     ]
    },
    {
     "name": "stdout",
     "output_type": "stream",
     "text": [
      "INFO:tensorflow:Starting evaluation at 2019-05-12T11:07:10Z\n"
     ]
    },
    {
     "name": "stderr",
     "output_type": "stream",
     "text": [
      "I0512 13:07:10.674419 140384601073472 evaluation.py:257] Starting evaluation at 2019-05-12T11:07:10Z\n"
     ]
    },
    {
     "name": "stdout",
     "output_type": "stream",
     "text": [
      "INFO:tensorflow:Graph was finalized.\n"
     ]
    },
    {
     "name": "stderr",
     "output_type": "stream",
     "text": [
      "I0512 13:07:10.908530 140384601073472 monitored_session.py:222] Graph was finalized.\n"
     ]
    },
    {
     "name": "stdout",
     "output_type": "stream",
     "text": [
      "INFO:tensorflow:Restoring parameters from ./tmp/adanet/DNN/model.ckpt-10\n"
     ]
    },
    {
     "name": "stderr",
     "output_type": "stream",
     "text": [
      "I0512 13:07:10.910568 140384601073472 saver.py:1270] Restoring parameters from ./tmp/adanet/DNN/model.ckpt-10\n"
     ]
    },
    {
     "name": "stdout",
     "output_type": "stream",
     "text": [
      "INFO:tensorflow:Running local_init_op.\n"
     ]
    },
    {
     "name": "stderr",
     "output_type": "stream",
     "text": [
      "I0512 13:07:11.069635 140384601073472 session_manager.py:491] Running local_init_op.\n"
     ]
    },
    {
     "name": "stdout",
     "output_type": "stream",
     "text": [
      "INFO:tensorflow:Done running local_init_op.\n"
     ]
    },
    {
     "name": "stderr",
     "output_type": "stream",
     "text": [
      "I0512 13:07:11.139399 140384601073472 session_manager.py:493] Done running local_init_op.\n"
     ]
    },
    {
     "name": "stdout",
     "output_type": "stream",
     "text": [
      "\n",
      "*** generator() : labels shape= (47,) / label values= 0\n",
      "INFO:tensorflow:Finished evaluation at 2019-05-12-11:07:12\n"
     ]
    },
    {
     "name": "stderr",
     "output_type": "stream",
     "text": [
      "I0512 13:07:12.158695 140384601073472 evaluation.py:277] Finished evaluation at 2019-05-12-11:07:12\n"
     ]
    },
    {
     "name": "stdout",
     "output_type": "stream",
     "text": [
      "INFO:tensorflow:Saving dict for global step 10: accuracy = 0.38297874, average_loss = 1.1970296, global_step = 10, loss = 1.146147\n"
     ]
    },
    {
     "name": "stderr",
     "output_type": "stream",
     "text": [
      "I0512 13:07:12.159995 140384601073472 estimator.py:1979] Saving dict for global step 10: accuracy = 0.38297874, average_loss = 1.1970296, global_step = 10, loss = 1.146147\n"
     ]
    },
    {
     "name": "stdout",
     "output_type": "stream",
     "text": [
      "INFO:tensorflow:Saving 'checkpoint_path' summary for global step 10: ./tmp/adanet/DNN/model.ckpt-10\n"
     ]
    },
    {
     "name": "stderr",
     "output_type": "stream",
     "text": [
      "I0512 13:07:12.162969 140384601073472 estimator.py:2039] Saving 'checkpoint_path' summary for global step 10: ./tmp/adanet/DNN/model.ckpt-10\n"
     ]
    },
    {
     "name": "stdout",
     "output_type": "stream",
     "text": [
      "INFO:tensorflow:Loss for final step: 1.1076792.\n"
     ]
    },
    {
     "name": "stderr",
     "output_type": "stream",
     "text": [
      "I0512 13:07:12.246165 140384601073472 estimator.py:359] Loss for final step: 1.1076792.\n"
     ]
    },
    {
     "name": "stdout",
     "output_type": "stream",
     "text": [
      "\n",
      "*** input_fn() : feature_shape= (224, 224, 3) / label_shape= [1]\n",
      "\n",
      "*** preprocess_color_image() : label shape= ()\n",
      "\n",
      "***_input_fn() : Label shape =[1]\n",
      "INFO:tensorflow:Calling model_fn.\n"
     ]
    },
    {
     "name": "stderr",
     "output_type": "stream",
     "text": [
      "I0512 13:07:12.301704 140384601073472 estimator.py:1111] Calling model_fn.\n"
     ]
    },
    {
     "name": "stdout",
     "output_type": "stream",
     "text": [
      "\n",
      "*** NNGenerator : layers= (0,1)\n",
      "\n",
      "*** NNAdaNetBuilder : NN Type=DNN\n",
      "\n",
      "*** get_tf_head() : feature shape= (224, 224, 3)\n",
      "\n",
      "*** get_tf_head() : feature columns= [NumericColumn(key='images', shape=(224, 224, 3), default_value=None, dtype=tf.float32, normalizer_fn=None)]\n",
      "\n",
      "*** NNAdaNetBuilder : NN Type=DNN\n",
      "\n",
      "*** get_tf_head() : feature shape= (224, 224, 3)\n",
      "\n",
      "*** get_tf_head() : feature columns= [NumericColumn(key='images', shape=(224, 224, 3), default_value=None, dtype=tf.float32, normalizer_fn=None)]\n",
      "INFO:tensorflow:Rebuilding iteration 0\n"
     ]
    },
    {
     "name": "stderr",
     "output_type": "stream",
     "text": [
      "I0512 13:07:12.305371 140384601073472 iteration.py:250] Rebuilding iteration 0\n"
     ]
    },
    {
     "name": "stdout",
     "output_type": "stream",
     "text": [
      "INFO:tensorflow:Rebuilding subnetwork 'DNN_linear'\n"
     ]
    },
    {
     "name": "stderr",
     "output_type": "stream",
     "text": [
      "I0512 13:07:12.310677 140384601073472 iteration.py:337] Rebuilding subnetwork 'DNN_linear'\n"
     ]
    },
    {
     "name": "stdout",
     "output_type": "stream",
     "text": [
      "\n",
      "\n",
      "*** build_subnetwork() : features= {'images': <tf.Tensor 'IteratorGetNext:0' shape=(?, 224, 224, 3) dtype=float32>}\n",
      "\n",
      "\n",
      "*** build_subnetwork() : self._feature_columns= [NumericColumn(key='images', shape=(224, 224, 3), default_value=None, dtype=tf.float32, normalizer_fn=None)]\n",
      "\n",
      "\n",
      "*** build_subnetwork() : NN type= DNN / Input layer shape= (?, 150528)\n",
      "**** *** _build_dnn_subnetwork : Layers= 1\n",
      "\n",
      "\n",
      "*** build_subnetwork() : last_layer= Tensor(\"adanet/iteration_0/subnetwork_t0_DNN_linear/dropout/Identity:0\", shape=(?, 128), dtype=float32)\n",
      "\n",
      "*** NNGenerator : layers= (0,1)\n",
      "\n",
      "*** NNAdaNetBuilder : NN Type=DNN\n",
      "\n",
      "*** get_tf_head() : feature shape= (224, 224, 3)\n",
      "\n",
      "*** get_tf_head() : feature columns= [NumericColumn(key='images', shape=(224, 224, 3), default_value=None, dtype=tf.float32, normalizer_fn=None)]\n",
      "\n",
      "*** NNAdaNetBuilder : NN Type=DNN\n",
      "\n",
      "*** get_tf_head() : feature shape= (224, 224, 3)\n",
      "\n",
      "*** get_tf_head() : feature columns= [NumericColumn(key='images', shape=(224, 224, 3), default_value=None, dtype=tf.float32, normalizer_fn=None)]\n",
      "INFO:tensorflow:Building iteration 1\n"
     ]
    },
    {
     "name": "stderr",
     "output_type": "stream",
     "text": [
      "I0512 13:07:12.668755 140384601073472 iteration.py:250] Building iteration 1\n"
     ]
    },
    {
     "name": "stdout",
     "output_type": "stream",
     "text": [
      "INFO:tensorflow:Building subnetwork 'DNN_linear'\n"
     ]
    },
    {
     "name": "stderr",
     "output_type": "stream",
     "text": [
      "I0512 13:07:12.715750 140384601073472 iteration.py:337] Building subnetwork 'DNN_linear'\n"
     ]
    },
    {
     "name": "stdout",
     "output_type": "stream",
     "text": [
      "\n",
      "\n",
      "*** build_subnetwork() : features= {'images': <tf.Tensor 'IteratorGetNext:0' shape=(?, 224, 224, 3) dtype=float32>}\n",
      "\n",
      "\n",
      "*** build_subnetwork() : self._feature_columns= [NumericColumn(key='images', shape=(224, 224, 3), default_value=None, dtype=tf.float32, normalizer_fn=None)]\n",
      "\n",
      "\n",
      "*** build_subnetwork() : NN type= DNN / Input layer shape= (?, 150528)\n",
      "**** *** _build_dnn_subnetwork : Layers= 1\n",
      "\n",
      "\n",
      "*** build_subnetwork() : last_layer= Tensor(\"adanet/iteration_1/subnetwork_t1_DNN_linear/dropout/Identity:0\", shape=(?, 128), dtype=float32)\n",
      "INFO:tensorflow:Building subnetwork 'DNN_layer_1'\n"
     ]
    },
    {
     "name": "stderr",
     "output_type": "stream",
     "text": [
      "I0512 13:07:12.870848 140384601073472 iteration.py:337] Building subnetwork 'DNN_layer_1'\n"
     ]
    },
    {
     "name": "stdout",
     "output_type": "stream",
     "text": [
      "\n",
      "\n",
      "*** build_subnetwork() : features= {'images': <tf.Tensor 'IteratorGetNext:0' shape=(?, 224, 224, 3) dtype=float32>}\n",
      "\n",
      "\n",
      "*** build_subnetwork() : self._feature_columns= [NumericColumn(key='images', shape=(224, 224, 3), default_value=None, dtype=tf.float32, normalizer_fn=None)]\n",
      "\n",
      "\n",
      "*** build_subnetwork() : NN type= DNN / Input layer shape= (?, 150528)\n",
      "**** *** _build_dnn_subnetwork : Layers= 1\n",
      "\n",
      "\n",
      "*** build_subnetwork() : last_layer= Tensor(\"adanet/iteration_1/subnetwork_t1_DNN_layer_1/dropout/Identity:0\", shape=(?, 128), dtype=float32)\n",
      "WARNING:tensorflow:Using an `adanet.subnetwork.Builder#prune_previous_ensemble` is deprecated. Please use a custom `adanet.ensemble.Strategy` instead.\n"
     ]
    },
    {
     "name": "stderr",
     "output_type": "stream",
     "text": [
      "W0512 13:07:13.048562 140384601073472 tf_logging.py:161] Using an `adanet.subnetwork.Builder#prune_previous_ensemble` is deprecated. Please use a custom `adanet.ensemble.Strategy` instead.\n"
     ]
    },
    {
     "name": "stdout",
     "output_type": "stream",
     "text": [
      "WARNING:tensorflow:Using an `adanet.subnetwork.Builder#prune_previous_ensemble` is deprecated. Please use a custom `adanet.ensemble.Strategy` instead.\n"
     ]
    },
    {
     "name": "stderr",
     "output_type": "stream",
     "text": [
      "W0512 13:07:13.169441 140384601073472 tf_logging.py:161] Using an `adanet.subnetwork.Builder#prune_previous_ensemble` is deprecated. Please use a custom `adanet.ensemble.Strategy` instead.\n"
     ]
    },
    {
     "name": "stdout",
     "output_type": "stream",
     "text": [
      "INFO:tensorflow:Restoring parameters from ./tmp/adanet/DNN/model.ckpt-10\n"
     ]
    },
    {
     "name": "stderr",
     "output_type": "stream",
     "text": [
      "I0512 13:07:13.654226 140384601073472 saver.py:1270] Restoring parameters from ./tmp/adanet/DNN/model.ckpt-10\n"
     ]
    },
    {
     "name": "stdout",
     "output_type": "stream",
     "text": [
      "WARNING:tensorflow:`tf.train.start_queue_runners()` was called when no queue runners were defined. You can safely remove the call to this deprecated function.\n"
     ]
    },
    {
     "name": "stderr",
     "output_type": "stream",
     "text": [
      "W0512 13:07:13.791726 140384601073472 queue_runner_impl.py:471] `tf.train.start_queue_runners()` was called when no queue runners were defined. You can safely remove the call to this deprecated function.\n"
     ]
    },
    {
     "name": "stdout",
     "output_type": "stream",
     "text": [
      "\n",
      "*** generator() : labels shape= (414,) / label values= 1\n",
      "\n",
      "*** generator() : labels shape= (414,) / label values= 1\n",
      "\n",
      "*** generator() : labels shape= (414,) / label values= 1\n",
      "\n",
      "*** generator() : labels shape= (414,) / label values= 1\n",
      "\n",
      "*** generator() : labels shape= (414,) / label values= 1\n",
      "\n",
      "*** generator() : labels shape= (414,) / label values= 1\n",
      "INFO:tensorflow:Done calling model_fn.\n"
     ]
    },
    {
     "name": "stderr",
     "output_type": "stream",
     "text": [
      "I0512 13:07:17.458945 140384601073472 estimator.py:1113] Done calling model_fn.\n"
     ]
    },
    {
     "name": "stdout",
     "output_type": "stream",
     "text": [
      "INFO:tensorflow:Using config: {'_model_dir': './tmp/adanet/DNN/temp_model_dir', '_tf_random_seed': 42, '_save_summary_steps': 100, '_save_checkpoints_steps': None, '_save_checkpoints_secs': 600, '_session_config': allow_soft_placement: true\n",
      "graph_options {\n",
      "  rewrite_options {\n",
      "    meta_optimizer_iterations: ONE\n",
      "  }\n",
      "}\n",
      ", '_keep_checkpoint_max': 5, '_keep_checkpoint_every_n_hours': 10000, '_log_step_count_steps': 100, '_train_distribute': None, '_device_fn': None, '_protocol': None, '_eval_distribute': None, '_experimental_distribute': None, '_service': None, '_cluster_spec': <tensorflow.python.training.server_lib.ClusterSpec object at 0x7facaa1a9898>, '_task_type': 'worker', '_task_id': 0, '_global_id_in_cluster': 0, '_master': '', '_evaluation_master': '', '_is_chief': True, '_num_ps_replicas': 0, '_num_worker_replicas': 1}\n"
     ]
    },
    {
     "name": "stderr",
     "output_type": "stream",
     "text": [
      "I0512 13:07:17.460179 140384601073472 estimator.py:201] Using config: {'_model_dir': './tmp/adanet/DNN/temp_model_dir', '_tf_random_seed': 42, '_save_summary_steps': 100, '_save_checkpoints_steps': None, '_save_checkpoints_secs': 600, '_session_config': allow_soft_placement: true\n",
      "graph_options {\n",
      "  rewrite_options {\n",
      "    meta_optimizer_iterations: ONE\n",
      "  }\n",
      "}\n",
      ", '_keep_checkpoint_max': 5, '_keep_checkpoint_every_n_hours': 10000, '_log_step_count_steps': 100, '_train_distribute': None, '_device_fn': None, '_protocol': None, '_eval_distribute': None, '_experimental_distribute': None, '_service': None, '_cluster_spec': <tensorflow.python.training.server_lib.ClusterSpec object at 0x7facaa1a9898>, '_task_type': 'worker', '_task_id': 0, '_global_id_in_cluster': 0, '_master': '', '_evaluation_master': '', '_is_chief': True, '_num_ps_replicas': 0, '_num_worker_replicas': 1}\n"
     ]
    },
    {
     "name": "stdout",
     "output_type": "stream",
     "text": [
      "\n",
      "*** input_fn() : feature_shape= (224, 224, 3) / label_shape= [1]\n",
      "\n",
      "*** preprocess_color_image() : label shape= ()\n",
      "\n",
      "***_input_fn() : Label shape =[1]\n",
      "INFO:tensorflow:Calling model_fn.\n"
     ]
    },
    {
     "name": "stderr",
     "output_type": "stream",
     "text": [
      "I0512 13:07:17.537485 140384601073472 estimator.py:1111] Calling model_fn.\n"
     ]
    },
    {
     "name": "stdout",
     "output_type": "stream",
     "text": [
      "\n",
      "*** NNGenerator : layers= (0,1)\n",
      "\n",
      "*** NNAdaNetBuilder : NN Type=DNN\n",
      "\n",
      "*** get_tf_head() : feature shape= (224, 224, 3)\n",
      "\n",
      "*** get_tf_head() : feature columns= [NumericColumn(key='images', shape=(224, 224, 3), default_value=None, dtype=tf.float32, normalizer_fn=None)]\n",
      "\n",
      "*** NNAdaNetBuilder : NN Type=DNN\n",
      "\n",
      "*** get_tf_head() : feature shape= (224, 224, 3)\n",
      "\n",
      "*** get_tf_head() : feature columns= [NumericColumn(key='images', shape=(224, 224, 3), default_value=None, dtype=tf.float32, normalizer_fn=None)]\n",
      "INFO:tensorflow:Rebuilding iteration 0\n"
     ]
    },
    {
     "name": "stderr",
     "output_type": "stream",
     "text": [
      "I0512 13:07:17.542467 140384601073472 iteration.py:250] Rebuilding iteration 0\n"
     ]
    },
    {
     "name": "stdout",
     "output_type": "stream",
     "text": [
      "INFO:tensorflow:Rebuilding subnetwork 'DNN_linear'\n"
     ]
    },
    {
     "name": "stderr",
     "output_type": "stream",
     "text": [
      "I0512 13:07:17.546829 140384601073472 iteration.py:337] Rebuilding subnetwork 'DNN_linear'\n"
     ]
    },
    {
     "name": "stdout",
     "output_type": "stream",
     "text": [
      "\n",
      "\n",
      "*** build_subnetwork() : features= {'images': <tf.Tensor 'IteratorGetNext:0' shape=(?, 224, 224, 3) dtype=float32>}\n",
      "\n",
      "\n",
      "*** build_subnetwork() : self._feature_columns= [NumericColumn(key='images', shape=(224, 224, 3), default_value=None, dtype=tf.float32, normalizer_fn=None)]\n",
      "\n",
      "\n",
      "*** build_subnetwork() : NN type= DNN / Input layer shape= (?, 150528)\n",
      "**** *** _build_dnn_subnetwork : Layers= 1\n",
      "\n",
      "\n",
      "*** build_subnetwork() : last_layer= Tensor(\"adanet/iteration_0/subnetwork_t0_DNN_linear/dropout/Identity:0\", shape=(?, 128), dtype=float32)\n",
      "\n",
      "*** NNGenerator : layers= (0,1)\n",
      "\n",
      "*** NNAdaNetBuilder : NN Type=DNN\n",
      "\n",
      "*** get_tf_head() : feature shape= (224, 224, 3)\n",
      "\n",
      "*** get_tf_head() : feature columns= [NumericColumn(key='images', shape=(224, 224, 3), default_value=None, dtype=tf.float32, normalizer_fn=None)]\n",
      "\n",
      "*** NNAdaNetBuilder : NN Type=DNN\n",
      "\n",
      "*** get_tf_head() : feature shape= (224, 224, 3)\n",
      "\n",
      "*** get_tf_head() : feature columns= [NumericColumn(key='images', shape=(224, 224, 3), default_value=None, dtype=tf.float32, normalizer_fn=None)]\n",
      "INFO:tensorflow:Building iteration 2\n"
     ]
    },
    {
     "name": "stderr",
     "output_type": "stream",
     "text": [
      "I0512 13:07:17.873182 140384601073472 iteration.py:250] Building iteration 2\n"
     ]
    },
    {
     "name": "stdout",
     "output_type": "stream",
     "text": [
      "INFO:tensorflow:Building subnetwork 'DNN_linear'\n"
     ]
    },
    {
     "name": "stderr",
     "output_type": "stream",
     "text": [
      "I0512 13:07:17.908552 140384601073472 iteration.py:337] Building subnetwork 'DNN_linear'\n"
     ]
    },
    {
     "name": "stdout",
     "output_type": "stream",
     "text": [
      "\n",
      "\n",
      "*** build_subnetwork() : features= {'images': <tf.Tensor 'IteratorGetNext:0' shape=(?, 224, 224, 3) dtype=float32>}\n",
      "\n",
      "\n",
      "*** build_subnetwork() : self._feature_columns= [NumericColumn(key='images', shape=(224, 224, 3), default_value=None, dtype=tf.float32, normalizer_fn=None)]\n",
      "\n",
      "\n",
      "*** build_subnetwork() : NN type= DNN / Input layer shape= (?, 150528)\n",
      "**** *** _build_dnn_subnetwork : Layers= 1\n",
      "\n",
      "\n",
      "*** build_subnetwork() : last_layer= Tensor(\"adanet/iteration_2/subnetwork_t2_DNN_linear/dense/Relu:0\", shape=(?, 128), dtype=float32)\n",
      "INFO:tensorflow:Building subnetwork 'DNN_layer_1'\n"
     ]
    },
    {
     "name": "stderr",
     "output_type": "stream",
     "text": [
      "I0512 13:07:18.307279 140384601073472 iteration.py:337] Building subnetwork 'DNN_layer_1'\n"
     ]
    },
    {
     "name": "stdout",
     "output_type": "stream",
     "text": [
      "\n",
      "\n",
      "*** build_subnetwork() : features= {'images': <tf.Tensor 'IteratorGetNext:0' shape=(?, 224, 224, 3) dtype=float32>}\n",
      "\n",
      "\n",
      "*** build_subnetwork() : self._feature_columns= [NumericColumn(key='images', shape=(224, 224, 3), default_value=None, dtype=tf.float32, normalizer_fn=None)]\n",
      "\n",
      "\n",
      "*** build_subnetwork() : NN type= DNN / Input layer shape= (?, 150528)\n",
      "**** *** _build_dnn_subnetwork : Layers= 1\n",
      "\n",
      "\n",
      "*** build_subnetwork() : last_layer= Tensor(\"adanet/iteration_2/subnetwork_t2_DNN_layer_1/dense/Relu:0\", shape=(?, 128), dtype=float32)\n",
      "WARNING:tensorflow:Using an `adanet.subnetwork.Builder#prune_previous_ensemble` is deprecated. Please use a custom `adanet.ensemble.Strategy` instead.\n"
     ]
    },
    {
     "name": "stderr",
     "output_type": "stream",
     "text": [
      "W0512 13:07:18.882593 140384601073472 tf_logging.py:161] Using an `adanet.subnetwork.Builder#prune_previous_ensemble` is deprecated. Please use a custom `adanet.ensemble.Strategy` instead.\n"
     ]
    },
    {
     "name": "stdout",
     "output_type": "stream",
     "text": [
      "WARNING:tensorflow:The `build_mixture_weights_train_op` method is deprecated. Please use the `Ensembler#build_train_op` instead.\n"
     ]
    },
    {
     "name": "stderr",
     "output_type": "stream",
     "text": [
      "W0512 13:07:19.212219 140384601073472 tf_logging.py:161] The `build_mixture_weights_train_op` method is deprecated. Please use the `Ensembler#build_train_op` instead.\n"
     ]
    },
    {
     "name": "stdout",
     "output_type": "stream",
     "text": [
      "WARNING:tensorflow:Using an `adanet.subnetwork.Builder#prune_previous_ensemble` is deprecated. Please use a custom `adanet.ensemble.Strategy` instead.\n"
     ]
    },
    {
     "name": "stderr",
     "output_type": "stream",
     "text": [
      "W0512 13:07:19.342144 140384601073472 tf_logging.py:161] Using an `adanet.subnetwork.Builder#prune_previous_ensemble` is deprecated. Please use a custom `adanet.ensemble.Strategy` instead.\n"
     ]
    },
    {
     "name": "stdout",
     "output_type": "stream",
     "text": [
      "WARNING:tensorflow:The `build_mixture_weights_train_op` method is deprecated. Please use the `Ensembler#build_train_op` instead.\n"
     ]
    },
    {
     "name": "stderr",
     "output_type": "stream",
     "text": [
      "W0512 13:07:19.442993 140384601073472 tf_logging.py:161] The `build_mixture_weights_train_op` method is deprecated. Please use the `Ensembler#build_train_op` instead.\n"
     ]
    },
    {
     "name": "stdout",
     "output_type": "stream",
     "text": [
      "INFO:tensorflow:Done calling model_fn.\n"
     ]
    },
    {
     "name": "stderr",
     "output_type": "stream",
     "text": [
      "I0512 13:07:19.588451 140384601073472 estimator.py:1113] Done calling model_fn.\n"
     ]
    },
    {
     "name": "stdout",
     "output_type": "stream",
     "text": [
      "INFO:tensorflow:Create CheckpointSaverHook.\n"
     ]
    },
    {
     "name": "stderr",
     "output_type": "stream",
     "text": [
      "I0512 13:07:19.589217 140384601073472 basic_session_run_hooks.py:527] Create CheckpointSaverHook.\n"
     ]
    },
    {
     "name": "stdout",
     "output_type": "stream",
     "text": [
      "INFO:tensorflow:Graph was finalized.\n"
     ]
    },
    {
     "name": "stderr",
     "output_type": "stream",
     "text": [
      "I0512 13:07:20.761492 140384601073472 monitored_session.py:222] Graph was finalized.\n"
     ]
    },
    {
     "name": "stdout",
     "output_type": "stream",
     "text": [
      "INFO:tensorflow:Running local_init_op.\n"
     ]
    },
    {
     "name": "stderr",
     "output_type": "stream",
     "text": [
      "I0512 13:07:21.614425 140384601073472 session_manager.py:491] Running local_init_op.\n"
     ]
    },
    {
     "name": "stdout",
     "output_type": "stream",
     "text": [
      "INFO:tensorflow:Done running local_init_op.\n"
     ]
    },
    {
     "name": "stderr",
     "output_type": "stream",
     "text": [
      "I0512 13:07:21.656084 140384601073472 session_manager.py:493] Done running local_init_op.\n"
     ]
    },
    {
     "name": "stdout",
     "output_type": "stream",
     "text": [
      "INFO:tensorflow:Saving checkpoints for 0 into ./tmp/adanet/DNN/temp_model_dir/model.ckpt.\n"
     ]
    },
    {
     "name": "stderr",
     "output_type": "stream",
     "text": [
      "I0512 13:07:22.290224 140384601073472 basic_session_run_hooks.py:594] Saving checkpoints for 0 into ./tmp/adanet/DNN/temp_model_dir/model.ckpt.\n"
     ]
    },
    {
     "name": "stdout",
     "output_type": "stream",
     "text": [
      "INFO:tensorflow:Restoring parameters from ./tmp/adanet/DNN/model.ckpt-10\n"
     ]
    },
    {
     "name": "stderr",
     "output_type": "stream",
     "text": [
      "I0512 13:07:22.776302 140384601073472 saver.py:1270] Restoring parameters from ./tmp/adanet/DNN/model.ckpt-10\n"
     ]
    },
    {
     "name": "stdout",
     "output_type": "stream",
     "text": [
      "INFO:tensorflow:loss = 1.0692801, step = 11\n"
     ]
    },
    {
     "name": "stderr",
     "output_type": "stream",
     "text": [
      "I0512 13:07:24.110777 140384601073472 basic_session_run_hooks.py:249] loss = 1.0692801, step = 11\n"
     ]
    },
    {
     "name": "stdout",
     "output_type": "stream",
     "text": [
      "INFO:tensorflow:Saving checkpoints for 11 into ./tmp/adanet/DNN/temp_model_dir/model.ckpt.\n"
     ]
    },
    {
     "name": "stderr",
     "output_type": "stream",
     "text": [
      "I0512 13:07:24.111993 140384601073472 basic_session_run_hooks.py:594] Saving checkpoints for 11 into ./tmp/adanet/DNN/temp_model_dir/model.ckpt.\n"
     ]
    },
    {
     "name": "stdout",
     "output_type": "stream",
     "text": [
      "INFO:tensorflow:Loss for final step: 1.0692801.\n"
     ]
    },
    {
     "name": "stderr",
     "output_type": "stream",
     "text": [
      "I0512 13:07:25.713783 140384601073472 estimator.py:359] Loss for final step: 1.0692801.\n"
     ]
    },
    {
     "name": "stdout",
     "output_type": "stream",
     "text": [
      "\n",
      "*** input_fn() : feature_shape= (224, 224, 3) / label_shape= [1]\n",
      "\n",
      "*** preprocess_color_image() : label shape= ()\n",
      "\n",
      "***_input_fn() : Label shape =[1]\n",
      "INFO:tensorflow:Calling model_fn.\n"
     ]
    },
    {
     "name": "stderr",
     "output_type": "stream",
     "text": [
      "I0512 13:07:25.874772 140384601073472 estimator.py:1111] Calling model_fn.\n"
     ]
    },
    {
     "name": "stdout",
     "output_type": "stream",
     "text": [
      "\n",
      "*** NNGenerator : layers= (0,1)\n",
      "\n",
      "*** NNAdaNetBuilder : NN Type=DNN\n",
      "\n",
      "*** get_tf_head() : feature shape= (224, 224, 3)\n",
      "\n",
      "*** get_tf_head() : feature columns= [NumericColumn(key='images', shape=(224, 224, 3), default_value=None, dtype=tf.float32, normalizer_fn=None)]\n",
      "\n",
      "*** NNAdaNetBuilder : NN Type=DNN\n",
      "\n",
      "*** get_tf_head() : feature shape= (224, 224, 3)\n",
      "\n",
      "*** get_tf_head() : feature columns= [NumericColumn(key='images', shape=(224, 224, 3), default_value=None, dtype=tf.float32, normalizer_fn=None)]\n",
      "INFO:tensorflow:Rebuilding iteration 0\n"
     ]
    },
    {
     "name": "stderr",
     "output_type": "stream",
     "text": [
      "I0512 13:07:25.881271 140384601073472 iteration.py:250] Rebuilding iteration 0\n"
     ]
    },
    {
     "name": "stdout",
     "output_type": "stream",
     "text": [
      "INFO:tensorflow:Rebuilding subnetwork 'DNN_linear'\n"
     ]
    },
    {
     "name": "stderr",
     "output_type": "stream",
     "text": [
      "I0512 13:07:25.887134 140384601073472 iteration.py:337] Rebuilding subnetwork 'DNN_linear'\n"
     ]
    },
    {
     "name": "stdout",
     "output_type": "stream",
     "text": [
      "\n",
      "\n",
      "*** build_subnetwork() : features= {'images': <tf.Tensor 'IteratorGetNext:0' shape=(?, 224, 224, 3) dtype=float32>}\n",
      "\n",
      "\n",
      "*** build_subnetwork() : self._feature_columns= [NumericColumn(key='images', shape=(224, 224, 3), default_value=None, dtype=tf.float32, normalizer_fn=None)]\n",
      "\n",
      "\n",
      "*** build_subnetwork() : NN type= DNN / Input layer shape= (?, 150528)\n",
      "**** *** _build_dnn_subnetwork : Layers= 1\n",
      "\n",
      "\n",
      "*** build_subnetwork() : last_layer= Tensor(\"adanet/iteration_0/subnetwork_t0_DNN_linear/dropout/Identity:0\", shape=(?, 128), dtype=float32)\n",
      "\n",
      "*** NNGenerator : layers= (0,1)\n",
      "\n",
      "*** NNAdaNetBuilder : NN Type=DNN\n",
      "\n",
      "*** get_tf_head() : feature shape= (224, 224, 3)\n",
      "\n",
      "*** get_tf_head() : feature columns= [NumericColumn(key='images', shape=(224, 224, 3), default_value=None, dtype=tf.float32, normalizer_fn=None)]\n",
      "\n",
      "*** NNAdaNetBuilder : NN Type=DNN\n",
      "\n",
      "*** get_tf_head() : feature shape= (224, 224, 3)\n",
      "\n",
      "*** get_tf_head() : feature columns= [NumericColumn(key='images', shape=(224, 224, 3), default_value=None, dtype=tf.float32, normalizer_fn=None)]\n",
      "INFO:tensorflow:Building iteration 2\n"
     ]
    },
    {
     "name": "stderr",
     "output_type": "stream",
     "text": [
      "I0512 13:07:26.194912 140384601073472 iteration.py:250] Building iteration 2\n"
     ]
    },
    {
     "name": "stdout",
     "output_type": "stream",
     "text": [
      "INFO:tensorflow:Building subnetwork 'DNN_linear'\n"
     ]
    },
    {
     "name": "stderr",
     "output_type": "stream",
     "text": [
      "I0512 13:07:26.223931 140384601073472 iteration.py:337] Building subnetwork 'DNN_linear'\n"
     ]
    },
    {
     "name": "stdout",
     "output_type": "stream",
     "text": [
      "\n",
      "\n",
      "*** build_subnetwork() : features= {'images': <tf.Tensor 'IteratorGetNext:0' shape=(?, 224, 224, 3) dtype=float32>}\n",
      "\n",
      "\n",
      "*** build_subnetwork() : self._feature_columns= [NumericColumn(key='images', shape=(224, 224, 3), default_value=None, dtype=tf.float32, normalizer_fn=None)]\n",
      "\n",
      "\n",
      "*** build_subnetwork() : NN type= DNN / Input layer shape= (?, 150528)\n",
      "**** *** _build_dnn_subnetwork : Layers= 1\n",
      "\n",
      "\n",
      "*** build_subnetwork() : last_layer= Tensor(\"adanet/iteration_2/subnetwork_t2_DNN_linear/dense/Relu:0\", shape=(?, 128), dtype=float32)\n",
      "INFO:tensorflow:Building subnetwork 'DNN_layer_1'\n"
     ]
    },
    {
     "name": "stderr",
     "output_type": "stream",
     "text": [
      "I0512 13:07:26.572244 140384601073472 iteration.py:337] Building subnetwork 'DNN_layer_1'\n"
     ]
    },
    {
     "name": "stdout",
     "output_type": "stream",
     "text": [
      "\n",
      "\n",
      "*** build_subnetwork() : features= {'images': <tf.Tensor 'IteratorGetNext:0' shape=(?, 224, 224, 3) dtype=float32>}\n",
      "\n",
      "\n",
      "*** build_subnetwork() : self._feature_columns= [NumericColumn(key='images', shape=(224, 224, 3), default_value=None, dtype=tf.float32, normalizer_fn=None)]\n",
      "\n",
      "\n",
      "*** build_subnetwork() : NN type= DNN / Input layer shape= (?, 150528)\n",
      "**** *** _build_dnn_subnetwork : Layers= 1\n",
      "\n",
      "\n",
      "*** build_subnetwork() : last_layer= Tensor(\"adanet/iteration_2/subnetwork_t2_DNN_layer_1/dense/Relu:0\", shape=(?, 128), dtype=float32)\n",
      "WARNING:tensorflow:Using an `adanet.subnetwork.Builder#prune_previous_ensemble` is deprecated. Please use a custom `adanet.ensemble.Strategy` instead.\n"
     ]
    },
    {
     "name": "stderr",
     "output_type": "stream",
     "text": [
      "W0512 13:07:26.916796 140384601073472 tf_logging.py:161] Using an `adanet.subnetwork.Builder#prune_previous_ensemble` is deprecated. Please use a custom `adanet.ensemble.Strategy` instead.\n"
     ]
    },
    {
     "name": "stdout",
     "output_type": "stream",
     "text": [
      "WARNING:tensorflow:The `build_mixture_weights_train_op` method is deprecated. Please use the `Ensembler#build_train_op` instead.\n"
     ]
    },
    {
     "name": "stderr",
     "output_type": "stream",
     "text": [
      "W0512 13:07:26.994353 140384601073472 tf_logging.py:161] The `build_mixture_weights_train_op` method is deprecated. Please use the `Ensembler#build_train_op` instead.\n"
     ]
    },
    {
     "name": "stdout",
     "output_type": "stream",
     "text": [
      "WARNING:tensorflow:Using an `adanet.subnetwork.Builder#prune_previous_ensemble` is deprecated. Please use a custom `adanet.ensemble.Strategy` instead.\n"
     ]
    },
    {
     "name": "stderr",
     "output_type": "stream",
     "text": [
      "W0512 13:07:27.239477 140384601073472 tf_logging.py:161] Using an `adanet.subnetwork.Builder#prune_previous_ensemble` is deprecated. Please use a custom `adanet.ensemble.Strategy` instead.\n"
     ]
    },
    {
     "name": "stdout",
     "output_type": "stream",
     "text": [
      "WARNING:tensorflow:The `build_mixture_weights_train_op` method is deprecated. Please use the `Ensembler#build_train_op` instead.\n"
     ]
    },
    {
     "name": "stderr",
     "output_type": "stream",
     "text": [
      "W0512 13:07:27.324718 140384601073472 tf_logging.py:161] The `build_mixture_weights_train_op` method is deprecated. Please use the `Ensembler#build_train_op` instead.\n"
     ]
    },
    {
     "name": "stdout",
     "output_type": "stream",
     "text": [
      "INFO:tensorflow:Done calling model_fn.\n"
     ]
    },
    {
     "name": "stderr",
     "output_type": "stream",
     "text": [
      "I0512 13:07:27.479136 140384601073472 estimator.py:1113] Done calling model_fn.\n"
     ]
    },
    {
     "name": "stdout",
     "output_type": "stream",
     "text": [
      "INFO:tensorflow:Create CheckpointSaverHook.\n"
     ]
    },
    {
     "name": "stderr",
     "output_type": "stream",
     "text": [
      "I0512 13:07:27.479994 140384601073472 basic_session_run_hooks.py:527] Create CheckpointSaverHook.\n"
     ]
    },
    {
     "name": "stdout",
     "output_type": "stream",
     "text": [
      "INFO:tensorflow:Graph was finalized.\n"
     ]
    },
    {
     "name": "stderr",
     "output_type": "stream",
     "text": [
      "I0512 13:07:27.998270 140384601073472 monitored_session.py:222] Graph was finalized.\n"
     ]
    },
    {
     "name": "stdout",
     "output_type": "stream",
     "text": [
      "INFO:tensorflow:Restoring parameters from ./tmp/adanet/DNN/increment.ckpt-2\n"
     ]
    },
    {
     "name": "stderr",
     "output_type": "stream",
     "text": [
      "I0512 13:07:28.004621 140384601073472 saver.py:1270] Restoring parameters from ./tmp/adanet/DNN/increment.ckpt-2\n"
     ]
    },
    {
     "name": "stdout",
     "output_type": "stream",
     "text": [
      "INFO:tensorflow:Running local_init_op.\n"
     ]
    },
    {
     "name": "stderr",
     "output_type": "stream",
     "text": [
      "I0512 13:07:28.207713 140384601073472 session_manager.py:491] Running local_init_op.\n"
     ]
    },
    {
     "name": "stdout",
     "output_type": "stream",
     "text": [
      "INFO:tensorflow:Done running local_init_op.\n"
     ]
    },
    {
     "name": "stderr",
     "output_type": "stream",
     "text": [
      "I0512 13:07:28.239298 140384601073472 session_manager.py:493] Done running local_init_op.\n"
     ]
    },
    {
     "name": "stdout",
     "output_type": "stream",
     "text": [
      "INFO:tensorflow:Saving checkpoints for 10 into ./tmp/adanet/DNN/model.ckpt.\n"
     ]
    },
    {
     "name": "stderr",
     "output_type": "stream",
     "text": [
      "I0512 13:07:29.200774 140384601073472 basic_session_run_hooks.py:594] Saving checkpoints for 10 into ./tmp/adanet/DNN/model.ckpt.\n"
     ]
    },
    {
     "name": "stdout",
     "output_type": "stream",
     "text": [
      "INFO:tensorflow:loss = 1.0692801, step = 11\n"
     ]
    },
    {
     "name": "stderr",
     "output_type": "stream",
     "text": [
      "I0512 13:07:30.669144 140384601073472 basic_session_run_hooks.py:249] loss = 1.0692801, step = 11\n"
     ]
    },
    {
     "name": "stdout",
     "output_type": "stream",
     "text": [
      "\n",
      "*** generator() : labels shape= (414,) / label values= 1\n",
      "INFO:tensorflow:Saving checkpoints for 15 into ./tmp/adanet/DNN/model.ckpt.\n"
     ]
    },
    {
     "name": "stderr",
     "output_type": "stream",
     "text": [
      "I0512 13:07:31.511491 140384601073472 basic_session_run_hooks.py:594] Saving checkpoints for 15 into ./tmp/adanet/DNN/model.ckpt.\n"
     ]
    },
    {
     "name": "stdout",
     "output_type": "stream",
     "text": [
      "WARNING:tensorflow:From /home/bangui/anaconda3/lib/python3.6/site-packages/tensorflow/python/training/saver.py:966: remove_checkpoint (from tensorflow.python.training.checkpoint_management) is deprecated and will be removed in a future version.\n",
      "Instructions for updating:\n",
      "Use standard file APIs to delete files with this prefix.\n"
     ]
    },
    {
     "name": "stderr",
     "output_type": "stream",
     "text": [
      "W0512 13:07:31.866896 140384601073472 deprecation.py:323] From /home/bangui/anaconda3/lib/python3.6/site-packages/tensorflow/python/training/saver.py:966: remove_checkpoint (from tensorflow.python.training.checkpoint_management) is deprecated and will be removed in a future version.\n",
      "Instructions for updating:\n",
      "Use standard file APIs to delete files with this prefix.\n"
     ]
    },
    {
     "name": "stdout",
     "output_type": "stream",
     "text": [
      "\n",
      "*** input_fn() : feature_shape= (224, 224, 3) / label_shape= [1]\n",
      "\n",
      "*** input_fn : TEST / feature_shape= (224, 224, 3)\n",
      "\n",
      "*** preprocess_color_image() : label shape= ()\n",
      "\n",
      "***_input_fn() : Label shape =[1]\n",
      "INFO:tensorflow:Calling model_fn.\n"
     ]
    },
    {
     "name": "stderr",
     "output_type": "stream",
     "text": [
      "I0512 13:07:32.082954 140384601073472 estimator.py:1111] Calling model_fn.\n"
     ]
    },
    {
     "name": "stdout",
     "output_type": "stream",
     "text": [
      "\n",
      "*** NNGenerator : layers= (0,1)\n",
      "\n",
      "*** NNAdaNetBuilder : NN Type=DNN\n",
      "\n",
      "*** get_tf_head() : feature shape= (224, 224, 3)\n",
      "\n",
      "*** get_tf_head() : feature columns= [NumericColumn(key='images', shape=(224, 224, 3), default_value=None, dtype=tf.float32, normalizer_fn=None)]\n",
      "\n",
      "*** NNAdaNetBuilder : NN Type=DNN\n",
      "\n",
      "*** get_tf_head() : feature shape= (224, 224, 3)\n",
      "\n",
      "*** get_tf_head() : feature columns= [NumericColumn(key='images', shape=(224, 224, 3), default_value=None, dtype=tf.float32, normalizer_fn=None)]\n",
      "INFO:tensorflow:Rebuilding iteration 0\n"
     ]
    },
    {
     "name": "stderr",
     "output_type": "stream",
     "text": [
      "I0512 13:07:32.090620 140384601073472 iteration.py:250] Rebuilding iteration 0\n"
     ]
    },
    {
     "name": "stdout",
     "output_type": "stream",
     "text": [
      "INFO:tensorflow:Rebuilding subnetwork 'DNN_linear'\n"
     ]
    },
    {
     "name": "stderr",
     "output_type": "stream",
     "text": [
      "I0512 13:07:32.100027 140384601073472 iteration.py:337] Rebuilding subnetwork 'DNN_linear'\n"
     ]
    },
    {
     "name": "stdout",
     "output_type": "stream",
     "text": [
      "\n",
      "\n",
      "*** build_subnetwork() : features= {'images': <tf.Tensor 'IteratorGetNext:0' shape=(?, 224, 224, 3) dtype=float32>}\n",
      "\n",
      "\n",
      "*** build_subnetwork() : self._feature_columns= [NumericColumn(key='images', shape=(224, 224, 3), default_value=None, dtype=tf.float32, normalizer_fn=None)]\n",
      "\n",
      "\n",
      "*** build_subnetwork() : NN type= DNN / Input layer shape= (?, 150528)\n",
      "**** *** _build_dnn_subnetwork : Layers= 1\n",
      "\n",
      "\n",
      "*** build_subnetwork() : last_layer= Tensor(\"adanet/iteration_0/subnetwork_t0_DNN_linear/dropout/Identity:0\", shape=(?, 128), dtype=float32)\n",
      "\n",
      "*** NNGenerator : layers= (0,1)\n",
      "\n",
      "*** NNAdaNetBuilder : NN Type=DNN\n",
      "\n",
      "*** get_tf_head() : feature shape= (224, 224, 3)\n",
      "\n",
      "*** get_tf_head() : feature columns= [NumericColumn(key='images', shape=(224, 224, 3), default_value=None, dtype=tf.float32, normalizer_fn=None)]\n",
      "\n",
      "*** NNAdaNetBuilder : NN Type=DNN\n",
      "\n",
      "*** get_tf_head() : feature shape= (224, 224, 3)\n",
      "\n",
      "*** get_tf_head() : feature columns= [NumericColumn(key='images', shape=(224, 224, 3), default_value=None, dtype=tf.float32, normalizer_fn=None)]\n",
      "INFO:tensorflow:Building iteration 2\n"
     ]
    },
    {
     "name": "stderr",
     "output_type": "stream",
     "text": [
      "I0512 13:07:32.423491 140384601073472 iteration.py:250] Building iteration 2\n"
     ]
    },
    {
     "name": "stdout",
     "output_type": "stream",
     "text": [
      "INFO:tensorflow:Building subnetwork 'DNN_linear'\n"
     ]
    },
    {
     "name": "stderr",
     "output_type": "stream",
     "text": [
      "I0512 13:07:32.470391 140384601073472 iteration.py:337] Building subnetwork 'DNN_linear'\n"
     ]
    },
    {
     "name": "stdout",
     "output_type": "stream",
     "text": [
      "\n",
      "\n",
      "*** build_subnetwork() : features= {'images': <tf.Tensor 'IteratorGetNext:0' shape=(?, 224, 224, 3) dtype=float32>}\n",
      "\n",
      "\n",
      "*** build_subnetwork() : self._feature_columns= [NumericColumn(key='images', shape=(224, 224, 3), default_value=None, dtype=tf.float32, normalizer_fn=None)]\n",
      "\n",
      "\n",
      "*** build_subnetwork() : NN type= DNN / Input layer shape= (?, 150528)\n",
      "**** *** _build_dnn_subnetwork : Layers= 1\n",
      "\n",
      "\n",
      "*** build_subnetwork() : last_layer= Tensor(\"adanet/iteration_2/subnetwork_t2_DNN_linear/dropout/Identity:0\", shape=(?, 128), dtype=float32)\n",
      "INFO:tensorflow:Building subnetwork 'DNN_layer_1'\n"
     ]
    },
    {
     "name": "stderr",
     "output_type": "stream",
     "text": [
      "I0512 13:07:32.631503 140384601073472 iteration.py:337] Building subnetwork 'DNN_layer_1'\n"
     ]
    },
    {
     "name": "stdout",
     "output_type": "stream",
     "text": [
      "\n",
      "\n",
      "*** build_subnetwork() : features= {'images': <tf.Tensor 'IteratorGetNext:0' shape=(?, 224, 224, 3) dtype=float32>}\n",
      "\n",
      "\n",
      "*** build_subnetwork() : self._feature_columns= [NumericColumn(key='images', shape=(224, 224, 3), default_value=None, dtype=tf.float32, normalizer_fn=None)]\n",
      "\n",
      "\n",
      "*** build_subnetwork() : NN type= DNN / Input layer shape= (?, 150528)\n",
      "**** *** _build_dnn_subnetwork : Layers= 1\n",
      "\n",
      "\n",
      "*** build_subnetwork() : last_layer= Tensor(\"adanet/iteration_2/subnetwork_t2_DNN_layer_1/dropout/Identity:0\", shape=(?, 128), dtype=float32)\n",
      "WARNING:tensorflow:Using an `adanet.subnetwork.Builder#prune_previous_ensemble` is deprecated. Please use a custom `adanet.ensemble.Strategy` instead.\n"
     ]
    },
    {
     "name": "stderr",
     "output_type": "stream",
     "text": [
      "W0512 13:07:32.804808 140384601073472 tf_logging.py:161] Using an `adanet.subnetwork.Builder#prune_previous_ensemble` is deprecated. Please use a custom `adanet.ensemble.Strategy` instead.\n"
     ]
    },
    {
     "name": "stdout",
     "output_type": "stream",
     "text": [
      "WARNING:tensorflow:Using an `adanet.subnetwork.Builder#prune_previous_ensemble` is deprecated. Please use a custom `adanet.ensemble.Strategy` instead.\n"
     ]
    },
    {
     "name": "stderr",
     "output_type": "stream",
     "text": [
      "W0512 13:07:32.928909 140384601073472 tf_logging.py:161] Using an `adanet.subnetwork.Builder#prune_previous_ensemble` is deprecated. Please use a custom `adanet.ensemble.Strategy` instead.\n"
     ]
    },
    {
     "name": "stdout",
     "output_type": "stream",
     "text": [
      "INFO:tensorflow:Done calling model_fn.\n"
     ]
    },
    {
     "name": "stderr",
     "output_type": "stream",
     "text": [
      "I0512 13:07:33.393177 140384601073472 estimator.py:1113] Done calling model_fn.\n"
     ]
    },
    {
     "name": "stdout",
     "output_type": "stream",
     "text": [
      "INFO:tensorflow:Starting evaluation at 2019-05-12T11:07:33Z\n"
     ]
    },
    {
     "name": "stderr",
     "output_type": "stream",
     "text": [
      "I0512 13:07:33.411859 140384601073472 evaluation.py:257] Starting evaluation at 2019-05-12T11:07:33Z\n"
     ]
    },
    {
     "name": "stdout",
     "output_type": "stream",
     "text": [
      "INFO:tensorflow:Graph was finalized.\n"
     ]
    },
    {
     "name": "stderr",
     "output_type": "stream",
     "text": [
      "I0512 13:07:33.919862 140384601073472 monitored_session.py:222] Graph was finalized.\n"
     ]
    },
    {
     "name": "stdout",
     "output_type": "stream",
     "text": [
      "INFO:tensorflow:Restoring parameters from ./tmp/adanet/DNN/model.ckpt-15\n"
     ]
    },
    {
     "name": "stderr",
     "output_type": "stream",
     "text": [
      "I0512 13:07:33.921616 140384601073472 saver.py:1270] Restoring parameters from ./tmp/adanet/DNN/model.ckpt-15\n"
     ]
    },
    {
     "name": "stdout",
     "output_type": "stream",
     "text": [
      "INFO:tensorflow:Running local_init_op.\n"
     ]
    },
    {
     "name": "stderr",
     "output_type": "stream",
     "text": [
      "I0512 13:07:34.082095 140384601073472 session_manager.py:491] Running local_init_op.\n"
     ]
    },
    {
     "name": "stdout",
     "output_type": "stream",
     "text": [
      "INFO:tensorflow:Done running local_init_op.\n"
     ]
    },
    {
     "name": "stderr",
     "output_type": "stream",
     "text": [
      "I0512 13:07:34.193883 140384601073472 session_manager.py:493] Done running local_init_op.\n"
     ]
    },
    {
     "name": "stdout",
     "output_type": "stream",
     "text": [
      "\n",
      "*** generator() : labels shape= (47,) / label values= 0\n",
      "INFO:tensorflow:Finished evaluation at 2019-05-12-11:07:35\n"
     ]
    },
    {
     "name": "stderr",
     "output_type": "stream",
     "text": [
      "I0512 13:07:35.613075 140384601073472 evaluation.py:277] Finished evaluation at 2019-05-12-11:07:35\n"
     ]
    },
    {
     "name": "stdout",
     "output_type": "stream",
     "text": [
      "INFO:tensorflow:Saving dict for global step 15: accuracy = 0.38297874, average_loss = 1.1970296, global_step = 15, loss = 1.146147\n"
     ]
    },
    {
     "name": "stderr",
     "output_type": "stream",
     "text": [
      "I0512 13:07:35.614450 140384601073472 estimator.py:1979] Saving dict for global step 15: accuracy = 0.38297874, average_loss = 1.1970296, global_step = 15, loss = 1.146147\n"
     ]
    },
    {
     "name": "stdout",
     "output_type": "stream",
     "text": [
      "INFO:tensorflow:Saving 'checkpoint_path' summary for global step 15: ./tmp/adanet/DNN/model.ckpt-15\n"
     ]
    },
    {
     "name": "stderr",
     "output_type": "stream",
     "text": [
      "I0512 13:07:35.617778 140384601073472 estimator.py:2039] Saving 'checkpoint_path' summary for global step 15: ./tmp/adanet/DNN/model.ckpt-15\n"
     ]
    },
    {
     "name": "stdout",
     "output_type": "stream",
     "text": [
      "INFO:tensorflow:Loss for final step: 1.1076792.\n"
     ]
    },
    {
     "name": "stderr",
     "output_type": "stream",
     "text": [
      "I0512 13:07:35.685753 140384601073472 estimator.py:359] Loss for final step: 1.1076792.\n"
     ]
    },
    {
     "name": "stdout",
     "output_type": "stream",
     "text": [
      "\n",
      "*** input_fn() : feature_shape= (224, 224, 3) / label_shape= [1]\n",
      "\n",
      "*** preprocess_color_image() : label shape= ()\n",
      "\n",
      "***_input_fn() : Label shape =[1]\n",
      "INFO:tensorflow:Calling model_fn.\n"
     ]
    },
    {
     "name": "stderr",
     "output_type": "stream",
     "text": [
      "I0512 13:07:35.758246 140384601073472 estimator.py:1111] Calling model_fn.\n"
     ]
    },
    {
     "name": "stdout",
     "output_type": "stream",
     "text": [
      "\n",
      "*** NNGenerator : layers= (0,1)\n",
      "\n",
      "*** NNAdaNetBuilder : NN Type=DNN\n",
      "\n",
      "*** get_tf_head() : feature shape= (224, 224, 3)\n",
      "\n",
      "*** get_tf_head() : feature columns= [NumericColumn(key='images', shape=(224, 224, 3), default_value=None, dtype=tf.float32, normalizer_fn=None)]\n",
      "\n",
      "*** NNAdaNetBuilder : NN Type=DNN\n",
      "\n",
      "*** get_tf_head() : feature shape= (224, 224, 3)\n",
      "\n",
      "*** get_tf_head() : feature columns= [NumericColumn(key='images', shape=(224, 224, 3), default_value=None, dtype=tf.float32, normalizer_fn=None)]\n",
      "INFO:tensorflow:Rebuilding iteration 0\n"
     ]
    },
    {
     "name": "stderr",
     "output_type": "stream",
     "text": [
      "I0512 13:07:35.771104 140384601073472 iteration.py:250] Rebuilding iteration 0\n"
     ]
    },
    {
     "name": "stdout",
     "output_type": "stream",
     "text": [
      "INFO:tensorflow:Rebuilding subnetwork 'DNN_linear'\n"
     ]
    },
    {
     "name": "stderr",
     "output_type": "stream",
     "text": [
      "I0512 13:07:35.780465 140384601073472 iteration.py:337] Rebuilding subnetwork 'DNN_linear'\n"
     ]
    },
    {
     "name": "stdout",
     "output_type": "stream",
     "text": [
      "\n",
      "\n",
      "*** build_subnetwork() : features= {'images': <tf.Tensor 'IteratorGetNext:0' shape=(?, 224, 224, 3) dtype=float32>}\n",
      "\n",
      "\n",
      "*** build_subnetwork() : self._feature_columns= [NumericColumn(key='images', shape=(224, 224, 3), default_value=None, dtype=tf.float32, normalizer_fn=None)]\n",
      "\n",
      "\n",
      "*** build_subnetwork() : NN type= DNN / Input layer shape= (?, 150528)\n",
      "**** *** _build_dnn_subnetwork : Layers= 1\n",
      "\n",
      "\n",
      "*** build_subnetwork() : last_layer= Tensor(\"adanet/iteration_0/subnetwork_t0_DNN_linear/dropout/Identity:0\", shape=(?, 128), dtype=float32)\n",
      "\n",
      "*** NNGenerator : layers= (0,1)\n",
      "\n",
      "*** NNAdaNetBuilder : NN Type=DNN\n",
      "\n",
      "*** get_tf_head() : feature shape= (224, 224, 3)\n",
      "\n",
      "*** get_tf_head() : feature columns= [NumericColumn(key='images', shape=(224, 224, 3), default_value=None, dtype=tf.float32, normalizer_fn=None)]\n",
      "\n",
      "*** NNAdaNetBuilder : NN Type=DNN\n",
      "\n",
      "*** get_tf_head() : feature shape= (224, 224, 3)\n",
      "\n",
      "*** get_tf_head() : feature columns= [NumericColumn(key='images', shape=(224, 224, 3), default_value=None, dtype=tf.float32, normalizer_fn=None)]\n",
      "INFO:tensorflow:Building iteration 2\n"
     ]
    },
    {
     "name": "stderr",
     "output_type": "stream",
     "text": [
      "I0512 13:07:36.437980 140384601073472 iteration.py:250] Building iteration 2\n"
     ]
    },
    {
     "name": "stdout",
     "output_type": "stream",
     "text": [
      "INFO:tensorflow:Building subnetwork 'DNN_linear'\n"
     ]
    },
    {
     "name": "stderr",
     "output_type": "stream",
     "text": [
      "I0512 13:07:36.514874 140384601073472 iteration.py:337] Building subnetwork 'DNN_linear'\n"
     ]
    },
    {
     "name": "stdout",
     "output_type": "stream",
     "text": [
      "\n",
      "\n",
      "*** build_subnetwork() : features= {'images': <tf.Tensor 'IteratorGetNext:0' shape=(?, 224, 224, 3) dtype=float32>}\n",
      "\n",
      "\n",
      "*** build_subnetwork() : self._feature_columns= [NumericColumn(key='images', shape=(224, 224, 3), default_value=None, dtype=tf.float32, normalizer_fn=None)]\n",
      "\n",
      "\n",
      "*** build_subnetwork() : NN type= DNN / Input layer shape= (?, 150528)\n",
      "**** *** _build_dnn_subnetwork : Layers= 1\n",
      "\n",
      "\n",
      "*** build_subnetwork() : last_layer= Tensor(\"adanet/iteration_2/subnetwork_t2_DNN_linear/dropout/Identity:0\", shape=(?, 128), dtype=float32)\n",
      "INFO:tensorflow:Building subnetwork 'DNN_layer_1'\n"
     ]
    },
    {
     "name": "stderr",
     "output_type": "stream",
     "text": [
      "I0512 13:07:36.754033 140384601073472 iteration.py:337] Building subnetwork 'DNN_layer_1'\n"
     ]
    },
    {
     "name": "stdout",
     "output_type": "stream",
     "text": [
      "\n",
      "\n",
      "*** build_subnetwork() : features= {'images': <tf.Tensor 'IteratorGetNext:0' shape=(?, 224, 224, 3) dtype=float32>}\n",
      "\n",
      "\n",
      "*** build_subnetwork() : self._feature_columns= [NumericColumn(key='images', shape=(224, 224, 3), default_value=None, dtype=tf.float32, normalizer_fn=None)]\n",
      "\n",
      "\n",
      "*** build_subnetwork() : NN type= DNN / Input layer shape= (?, 150528)\n",
      "**** *** _build_dnn_subnetwork : Layers= 1\n",
      "\n",
      "\n",
      "*** build_subnetwork() : last_layer= Tensor(\"adanet/iteration_2/subnetwork_t2_DNN_layer_1/dropout/Identity:0\", shape=(?, 128), dtype=float32)\n",
      "WARNING:tensorflow:Using an `adanet.subnetwork.Builder#prune_previous_ensemble` is deprecated. Please use a custom `adanet.ensemble.Strategy` instead.\n"
     ]
    },
    {
     "name": "stderr",
     "output_type": "stream",
     "text": [
      "W0512 13:07:36.911591 140384601073472 tf_logging.py:161] Using an `adanet.subnetwork.Builder#prune_previous_ensemble` is deprecated. Please use a custom `adanet.ensemble.Strategy` instead.\n"
     ]
    },
    {
     "name": "stdout",
     "output_type": "stream",
     "text": [
      "WARNING:tensorflow:Using an `adanet.subnetwork.Builder#prune_previous_ensemble` is deprecated. Please use a custom `adanet.ensemble.Strategy` instead.\n"
     ]
    },
    {
     "name": "stderr",
     "output_type": "stream",
     "text": [
      "W0512 13:07:37.034765 140384601073472 tf_logging.py:161] Using an `adanet.subnetwork.Builder#prune_previous_ensemble` is deprecated. Please use a custom `adanet.ensemble.Strategy` instead.\n"
     ]
    },
    {
     "name": "stdout",
     "output_type": "stream",
     "text": [
      "INFO:tensorflow:Restoring parameters from ./tmp/adanet/DNN/model.ckpt-15\n"
     ]
    },
    {
     "name": "stderr",
     "output_type": "stream",
     "text": [
      "I0512 13:07:37.486303 140384601073472 saver.py:1270] Restoring parameters from ./tmp/adanet/DNN/model.ckpt-15\n"
     ]
    },
    {
     "name": "stdout",
     "output_type": "stream",
     "text": [
      "WARNING:tensorflow:`tf.train.start_queue_runners()` was called when no queue runners were defined. You can safely remove the call to this deprecated function.\n"
     ]
    },
    {
     "name": "stderr",
     "output_type": "stream",
     "text": [
      "W0512 13:07:37.624597 140384601073472 queue_runner_impl.py:471] `tf.train.start_queue_runners()` was called when no queue runners were defined. You can safely remove the call to this deprecated function.\n"
     ]
    },
    {
     "name": "stdout",
     "output_type": "stream",
     "text": [
      "\n",
      "*** generator() : labels shape= (414,) / label values= 1\n",
      "\n",
      "*** generator() : labels shape= (414,) / label values= 1\n",
      "\n",
      "*** generator() : labels shape= (414,) / label values= 1\n",
      "\n",
      "*** generator() : labels shape= (414,) / label values= 1\n",
      "\n",
      "*** generator() : labels shape= (414,) / label values= 1\n",
      "\n",
      "*** generator() : labels shape= (414,) / label values= 1\n",
      "INFO:tensorflow:Done calling model_fn.\n"
     ]
    },
    {
     "name": "stderr",
     "output_type": "stream",
     "text": [
      "I0512 13:07:42.250930 140384601073472 estimator.py:1113] Done calling model_fn.\n"
     ]
    },
    {
     "name": "stdout",
     "output_type": "stream",
     "text": [
      "INFO:tensorflow:Using config: {'_model_dir': './tmp/adanet/DNN/temp_model_dir', '_tf_random_seed': 42, '_save_summary_steps': 100, '_save_checkpoints_steps': None, '_save_checkpoints_secs': 600, '_session_config': allow_soft_placement: true\n",
      "graph_options {\n",
      "  rewrite_options {\n",
      "    meta_optimizer_iterations: ONE\n",
      "  }\n",
      "}\n",
      ", '_keep_checkpoint_max': 5, '_keep_checkpoint_every_n_hours': 10000, '_log_step_count_steps': 100, '_train_distribute': None, '_device_fn': None, '_protocol': None, '_eval_distribute': None, '_experimental_distribute': None, '_service': None, '_cluster_spec': <tensorflow.python.training.server_lib.ClusterSpec object at 0x7fac9d86f278>, '_task_type': 'worker', '_task_id': 0, '_global_id_in_cluster': 0, '_master': '', '_evaluation_master': '', '_is_chief': True, '_num_ps_replicas': 0, '_num_worker_replicas': 1}\n"
     ]
    },
    {
     "name": "stderr",
     "output_type": "stream",
     "text": [
      "I0512 13:07:42.252660 140384601073472 estimator.py:201] Using config: {'_model_dir': './tmp/adanet/DNN/temp_model_dir', '_tf_random_seed': 42, '_save_summary_steps': 100, '_save_checkpoints_steps': None, '_save_checkpoints_secs': 600, '_session_config': allow_soft_placement: true\n",
      "graph_options {\n",
      "  rewrite_options {\n",
      "    meta_optimizer_iterations: ONE\n",
      "  }\n",
      "}\n",
      ", '_keep_checkpoint_max': 5, '_keep_checkpoint_every_n_hours': 10000, '_log_step_count_steps': 100, '_train_distribute': None, '_device_fn': None, '_protocol': None, '_eval_distribute': None, '_experimental_distribute': None, '_service': None, '_cluster_spec': <tensorflow.python.training.server_lib.ClusterSpec object at 0x7fac9d86f278>, '_task_type': 'worker', '_task_id': 0, '_global_id_in_cluster': 0, '_master': '', '_evaluation_master': '', '_is_chief': True, '_num_ps_replicas': 0, '_num_worker_replicas': 1}\n"
     ]
    },
    {
     "name": "stdout",
     "output_type": "stream",
     "text": [
      "\n",
      "*** input_fn() : feature_shape= (224, 224, 3) / label_shape= [1]\n",
      "\n",
      "*** preprocess_color_image() : label shape= ()\n",
      "\n",
      "***_input_fn() : Label shape =[1]\n",
      "INFO:tensorflow:Calling model_fn.\n"
     ]
    },
    {
     "name": "stderr",
     "output_type": "stream",
     "text": [
      "I0512 13:07:42.330001 140384601073472 estimator.py:1111] Calling model_fn.\n"
     ]
    },
    {
     "name": "stdout",
     "output_type": "stream",
     "text": [
      "\n",
      "*** NNGenerator : layers= (0,1)\n",
      "\n",
      "*** NNAdaNetBuilder : NN Type=DNN\n",
      "\n",
      "*** get_tf_head() : feature shape= (224, 224, 3)\n",
      "\n",
      "*** get_tf_head() : feature columns= [NumericColumn(key='images', shape=(224, 224, 3), default_value=None, dtype=tf.float32, normalizer_fn=None)]\n",
      "\n",
      "*** NNAdaNetBuilder : NN Type=DNN\n",
      "\n",
      "*** get_tf_head() : feature shape= (224, 224, 3)\n",
      "\n",
      "*** get_tf_head() : feature columns= [NumericColumn(key='images', shape=(224, 224, 3), default_value=None, dtype=tf.float32, normalizer_fn=None)]\n",
      "INFO:tensorflow:Rebuilding iteration 0\n"
     ]
    },
    {
     "name": "stderr",
     "output_type": "stream",
     "text": [
      "I0512 13:07:42.333545 140384601073472 iteration.py:250] Rebuilding iteration 0\n"
     ]
    },
    {
     "name": "stdout",
     "output_type": "stream",
     "text": [
      "INFO:tensorflow:Rebuilding subnetwork 'DNN_linear'\n"
     ]
    },
    {
     "name": "stderr",
     "output_type": "stream",
     "text": [
      "I0512 13:07:42.338438 140384601073472 iteration.py:337] Rebuilding subnetwork 'DNN_linear'\n"
     ]
    },
    {
     "name": "stdout",
     "output_type": "stream",
     "text": [
      "\n",
      "\n",
      "*** build_subnetwork() : features= {'images': <tf.Tensor 'IteratorGetNext:0' shape=(?, 224, 224, 3) dtype=float32>}\n",
      "\n",
      "\n",
      "*** build_subnetwork() : self._feature_columns= [NumericColumn(key='images', shape=(224, 224, 3), default_value=None, dtype=tf.float32, normalizer_fn=None)]\n",
      "\n",
      "\n",
      "*** build_subnetwork() : NN type= DNN / Input layer shape= (?, 150528)\n",
      "**** *** _build_dnn_subnetwork : Layers= 1\n",
      "\n",
      "\n",
      "*** build_subnetwork() : last_layer= Tensor(\"adanet/iteration_0/subnetwork_t0_DNN_linear/dropout/Identity:0\", shape=(?, 128), dtype=float32)\n",
      "\n",
      "*** NNGenerator : layers= (0,1)\n",
      "\n",
      "*** NNAdaNetBuilder : NN Type=DNN\n",
      "\n",
      "*** get_tf_head() : feature shape= (224, 224, 3)\n",
      "\n",
      "*** get_tf_head() : feature columns= [NumericColumn(key='images', shape=(224, 224, 3), default_value=None, dtype=tf.float32, normalizer_fn=None)]\n",
      "\n",
      "*** NNAdaNetBuilder : NN Type=DNN\n",
      "\n",
      "*** get_tf_head() : feature shape= (224, 224, 3)\n",
      "\n",
      "*** get_tf_head() : feature columns= [NumericColumn(key='images', shape=(224, 224, 3), default_value=None, dtype=tf.float32, normalizer_fn=None)]\n",
      "INFO:tensorflow:Building iteration 3\n"
     ]
    },
    {
     "name": "stderr",
     "output_type": "stream",
     "text": [
      "I0512 13:07:42.627614 140384601073472 iteration.py:250] Building iteration 3\n"
     ]
    },
    {
     "name": "stdout",
     "output_type": "stream",
     "text": [
      "INFO:tensorflow:Building subnetwork 'DNN_linear'\n"
     ]
    },
    {
     "name": "stderr",
     "output_type": "stream",
     "text": [
      "I0512 13:07:42.655344 140384601073472 iteration.py:337] Building subnetwork 'DNN_linear'\n"
     ]
    },
    {
     "name": "stdout",
     "output_type": "stream",
     "text": [
      "\n",
      "\n",
      "*** build_subnetwork() : features= {'images': <tf.Tensor 'IteratorGetNext:0' shape=(?, 224, 224, 3) dtype=float32>}\n",
      "\n",
      "\n",
      "*** build_subnetwork() : self._feature_columns= [NumericColumn(key='images', shape=(224, 224, 3), default_value=None, dtype=tf.float32, normalizer_fn=None)]\n",
      "\n",
      "\n",
      "*** build_subnetwork() : NN type= DNN / Input layer shape= (?, 150528)\n",
      "**** *** _build_dnn_subnetwork : Layers= 1\n",
      "\n",
      "\n",
      "*** build_subnetwork() : last_layer= Tensor(\"adanet/iteration_3/subnetwork_t3_DNN_linear/dense/Relu:0\", shape=(?, 128), dtype=float32)\n",
      "INFO:tensorflow:Building subnetwork 'DNN_layer_1'\n"
     ]
    },
    {
     "name": "stderr",
     "output_type": "stream",
     "text": [
      "I0512 13:07:42.868939 140384601073472 iteration.py:337] Building subnetwork 'DNN_layer_1'\n"
     ]
    },
    {
     "name": "stdout",
     "output_type": "stream",
     "text": [
      "\n",
      "\n",
      "*** build_subnetwork() : features= {'images': <tf.Tensor 'IteratorGetNext:0' shape=(?, 224, 224, 3) dtype=float32>}\n",
      "\n",
      "\n",
      "*** build_subnetwork() : self._feature_columns= [NumericColumn(key='images', shape=(224, 224, 3), default_value=None, dtype=tf.float32, normalizer_fn=None)]\n",
      "\n",
      "\n",
      "*** build_subnetwork() : NN type= DNN / Input layer shape= (?, 150528)\n",
      "**** *** _build_dnn_subnetwork : Layers= 1\n",
      "\n",
      "\n",
      "*** build_subnetwork() : last_layer= Tensor(\"adanet/iteration_3/subnetwork_t3_DNN_layer_1/dense/Relu:0\", shape=(?, 128), dtype=float32)\n",
      "WARNING:tensorflow:Using an `adanet.subnetwork.Builder#prune_previous_ensemble` is deprecated. Please use a custom `adanet.ensemble.Strategy` instead.\n"
     ]
    },
    {
     "name": "stderr",
     "output_type": "stream",
     "text": [
      "W0512 13:07:43.054791 140384601073472 tf_logging.py:161] Using an `adanet.subnetwork.Builder#prune_previous_ensemble` is deprecated. Please use a custom `adanet.ensemble.Strategy` instead.\n"
     ]
    },
    {
     "name": "stdout",
     "output_type": "stream",
     "text": [
      "WARNING:tensorflow:The `build_mixture_weights_train_op` method is deprecated. Please use the `Ensembler#build_train_op` instead.\n"
     ]
    },
    {
     "name": "stderr",
     "output_type": "stream",
     "text": [
      "W0512 13:07:43.142053 140384601073472 tf_logging.py:161] The `build_mixture_weights_train_op` method is deprecated. Please use the `Ensembler#build_train_op` instead.\n"
     ]
    },
    {
     "name": "stdout",
     "output_type": "stream",
     "text": [
      "WARNING:tensorflow:Using an `adanet.subnetwork.Builder#prune_previous_ensemble` is deprecated. Please use a custom `adanet.ensemble.Strategy` instead.\n"
     ]
    },
    {
     "name": "stderr",
     "output_type": "stream",
     "text": [
      "W0512 13:07:43.274701 140384601073472 tf_logging.py:161] Using an `adanet.subnetwork.Builder#prune_previous_ensemble` is deprecated. Please use a custom `adanet.ensemble.Strategy` instead.\n"
     ]
    },
    {
     "name": "stdout",
     "output_type": "stream",
     "text": [
      "WARNING:tensorflow:The `build_mixture_weights_train_op` method is deprecated. Please use the `Ensembler#build_train_op` instead.\n"
     ]
    },
    {
     "name": "stderr",
     "output_type": "stream",
     "text": [
      "W0512 13:07:43.509606 140384601073472 tf_logging.py:161] The `build_mixture_weights_train_op` method is deprecated. Please use the `Ensembler#build_train_op` instead.\n"
     ]
    },
    {
     "name": "stdout",
     "output_type": "stream",
     "text": [
      "INFO:tensorflow:Done calling model_fn.\n"
     ]
    },
    {
     "name": "stderr",
     "output_type": "stream",
     "text": [
      "I0512 13:07:44.680518 140384601073472 estimator.py:1113] Done calling model_fn.\n"
     ]
    },
    {
     "name": "stdout",
     "output_type": "stream",
     "text": [
      "INFO:tensorflow:Create CheckpointSaverHook.\n"
     ]
    },
    {
     "name": "stderr",
     "output_type": "stream",
     "text": [
      "I0512 13:07:44.684144 140384601073472 basic_session_run_hooks.py:527] Create CheckpointSaverHook.\n"
     ]
    },
    {
     "name": "stdout",
     "output_type": "stream",
     "text": [
      "INFO:tensorflow:Graph was finalized.\n"
     ]
    },
    {
     "name": "stderr",
     "output_type": "stream",
     "text": [
      "I0512 13:07:45.483829 140384601073472 monitored_session.py:222] Graph was finalized.\n"
     ]
    },
    {
     "name": "stdout",
     "output_type": "stream",
     "text": [
      "INFO:tensorflow:Running local_init_op.\n"
     ]
    },
    {
     "name": "stderr",
     "output_type": "stream",
     "text": [
      "I0512 13:07:46.339332 140384601073472 session_manager.py:491] Running local_init_op.\n"
     ]
    },
    {
     "name": "stdout",
     "output_type": "stream",
     "text": [
      "INFO:tensorflow:Done running local_init_op.\n"
     ]
    },
    {
     "name": "stderr",
     "output_type": "stream",
     "text": [
      "I0512 13:07:46.371992 140384601073472 session_manager.py:493] Done running local_init_op.\n"
     ]
    },
    {
     "name": "stdout",
     "output_type": "stream",
     "text": [
      "INFO:tensorflow:Saving checkpoints for 0 into ./tmp/adanet/DNN/temp_model_dir/model.ckpt.\n"
     ]
    },
    {
     "name": "stderr",
     "output_type": "stream",
     "text": [
      "I0512 13:07:47.002357 140384601073472 basic_session_run_hooks.py:594] Saving checkpoints for 0 into ./tmp/adanet/DNN/temp_model_dir/model.ckpt.\n"
     ]
    },
    {
     "name": "stdout",
     "output_type": "stream",
     "text": [
      "INFO:tensorflow:Restoring parameters from ./tmp/adanet/DNN/model.ckpt-15\n"
     ]
    },
    {
     "name": "stderr",
     "output_type": "stream",
     "text": [
      "I0512 13:07:47.478104 140384601073472 saver.py:1270] Restoring parameters from ./tmp/adanet/DNN/model.ckpt-15\n"
     ]
    },
    {
     "name": "stdout",
     "output_type": "stream",
     "text": [
      "INFO:tensorflow:loss = 1.0692801, step = 16\n"
     ]
    },
    {
     "name": "stderr",
     "output_type": "stream",
     "text": [
      "I0512 13:07:49.071071 140384601073472 basic_session_run_hooks.py:249] loss = 1.0692801, step = 16\n"
     ]
    },
    {
     "name": "stdout",
     "output_type": "stream",
     "text": [
      "INFO:tensorflow:Saving checkpoints for 16 into ./tmp/adanet/DNN/temp_model_dir/model.ckpt.\n"
     ]
    },
    {
     "name": "stderr",
     "output_type": "stream",
     "text": [
      "I0512 13:07:49.072639 140384601073472 basic_session_run_hooks.py:594] Saving checkpoints for 16 into ./tmp/adanet/DNN/temp_model_dir/model.ckpt.\n"
     ]
    },
    {
     "name": "stdout",
     "output_type": "stream",
     "text": [
      "INFO:tensorflow:Loss for final step: 1.0692801.\n"
     ]
    },
    {
     "name": "stderr",
     "output_type": "stream",
     "text": [
      "I0512 13:07:50.205341 140384601073472 estimator.py:359] Loss for final step: 1.0692801.\n"
     ]
    },
    {
     "name": "stdout",
     "output_type": "stream",
     "text": [
      "\n",
      "*** input_fn() : feature_shape= (224, 224, 3) / label_shape= [1]\n",
      "\n",
      "*** preprocess_color_image() : label shape= ()\n",
      "\n",
      "***_input_fn() : Label shape =[1]\n",
      "INFO:tensorflow:Calling model_fn.\n"
     ]
    },
    {
     "name": "stderr",
     "output_type": "stream",
     "text": [
      "I0512 13:07:50.364378 140384601073472 estimator.py:1111] Calling model_fn.\n"
     ]
    },
    {
     "name": "stdout",
     "output_type": "stream",
     "text": [
      "\n",
      "*** NNGenerator : layers= (0,1)\n",
      "\n",
      "*** NNAdaNetBuilder : NN Type=DNN\n",
      "\n",
      "*** get_tf_head() : feature shape= (224, 224, 3)\n",
      "\n",
      "*** get_tf_head() : feature columns= [NumericColumn(key='images', shape=(224, 224, 3), default_value=None, dtype=tf.float32, normalizer_fn=None)]\n",
      "\n",
      "*** NNAdaNetBuilder : NN Type=DNN\n",
      "\n",
      "*** get_tf_head() : feature shape= (224, 224, 3)\n",
      "\n",
      "*** get_tf_head() : feature columns= [NumericColumn(key='images', shape=(224, 224, 3), default_value=None, dtype=tf.float32, normalizer_fn=None)]\n",
      "INFO:tensorflow:Rebuilding iteration 0\n"
     ]
    },
    {
     "name": "stderr",
     "output_type": "stream",
     "text": [
      "I0512 13:07:50.369150 140384601073472 iteration.py:250] Rebuilding iteration 0\n"
     ]
    },
    {
     "name": "stdout",
     "output_type": "stream",
     "text": [
      "INFO:tensorflow:Rebuilding subnetwork 'DNN_linear'\n"
     ]
    },
    {
     "name": "stderr",
     "output_type": "stream",
     "text": [
      "I0512 13:07:50.374709 140384601073472 iteration.py:337] Rebuilding subnetwork 'DNN_linear'\n"
     ]
    },
    {
     "name": "stdout",
     "output_type": "stream",
     "text": [
      "\n",
      "\n",
      "*** build_subnetwork() : features= {'images': <tf.Tensor 'IteratorGetNext:0' shape=(?, 224, 224, 3) dtype=float32>}\n",
      "\n",
      "\n",
      "*** build_subnetwork() : self._feature_columns= [NumericColumn(key='images', shape=(224, 224, 3), default_value=None, dtype=tf.float32, normalizer_fn=None)]\n",
      "\n",
      "\n",
      "*** build_subnetwork() : NN type= DNN / Input layer shape= (?, 150528)\n",
      "**** *** _build_dnn_subnetwork : Layers= 1\n",
      "\n",
      "\n",
      "*** build_subnetwork() : last_layer= Tensor(\"adanet/iteration_0/subnetwork_t0_DNN_linear/dropout/Identity:0\", shape=(?, 128), dtype=float32)\n",
      "\n",
      "*** NNGenerator : layers= (0,1)\n",
      "\n",
      "*** NNAdaNetBuilder : NN Type=DNN\n",
      "\n",
      "*** get_tf_head() : feature shape= (224, 224, 3)\n",
      "\n",
      "*** get_tf_head() : feature columns= [NumericColumn(key='images', shape=(224, 224, 3), default_value=None, dtype=tf.float32, normalizer_fn=None)]\n",
      "\n",
      "*** NNAdaNetBuilder : NN Type=DNN\n",
      "\n",
      "*** get_tf_head() : feature shape= (224, 224, 3)\n",
      "\n",
      "*** get_tf_head() : feature columns= [NumericColumn(key='images', shape=(224, 224, 3), default_value=None, dtype=tf.float32, normalizer_fn=None)]\n",
      "INFO:tensorflow:Building iteration 3\n"
     ]
    },
    {
     "name": "stderr",
     "output_type": "stream",
     "text": [
      "I0512 13:07:50.765624 140384601073472 iteration.py:250] Building iteration 3\n"
     ]
    },
    {
     "name": "stdout",
     "output_type": "stream",
     "text": [
      "INFO:tensorflow:Building subnetwork 'DNN_linear'\n"
     ]
    },
    {
     "name": "stderr",
     "output_type": "stream",
     "text": [
      "I0512 13:07:50.813458 140384601073472 iteration.py:337] Building subnetwork 'DNN_linear'\n"
     ]
    },
    {
     "name": "stdout",
     "output_type": "stream",
     "text": [
      "\n",
      "\n",
      "*** build_subnetwork() : features= {'images': <tf.Tensor 'IteratorGetNext:0' shape=(?, 224, 224, 3) dtype=float32>}\n",
      "\n",
      "\n",
      "*** build_subnetwork() : self._feature_columns= [NumericColumn(key='images', shape=(224, 224, 3), default_value=None, dtype=tf.float32, normalizer_fn=None)]\n",
      "\n",
      "\n",
      "*** build_subnetwork() : NN type= DNN / Input layer shape= (?, 150528)\n",
      "**** *** _build_dnn_subnetwork : Layers= 1\n",
      "\n",
      "\n",
      "*** build_subnetwork() : last_layer= Tensor(\"adanet/iteration_3/subnetwork_t3_DNN_linear/dense/Relu:0\", shape=(?, 128), dtype=float32)\n",
      "INFO:tensorflow:Building subnetwork 'DNN_layer_1'\n"
     ]
    },
    {
     "name": "stderr",
     "output_type": "stream",
     "text": [
      "I0512 13:07:51.119140 140384601073472 iteration.py:337] Building subnetwork 'DNN_layer_1'\n"
     ]
    },
    {
     "name": "stdout",
     "output_type": "stream",
     "text": [
      "\n",
      "\n",
      "*** build_subnetwork() : features= {'images': <tf.Tensor 'IteratorGetNext:0' shape=(?, 224, 224, 3) dtype=float32>}\n",
      "\n",
      "\n",
      "*** build_subnetwork() : self._feature_columns= [NumericColumn(key='images', shape=(224, 224, 3), default_value=None, dtype=tf.float32, normalizer_fn=None)]\n",
      "\n",
      "\n",
      "*** build_subnetwork() : NN type= DNN / Input layer shape= (?, 150528)\n",
      "**** *** _build_dnn_subnetwork : Layers= 1\n",
      "\n",
      "\n",
      "*** build_subnetwork() : last_layer= Tensor(\"adanet/iteration_3/subnetwork_t3_DNN_layer_1/dense/Relu:0\", shape=(?, 128), dtype=float32)\n",
      "WARNING:tensorflow:Using an `adanet.subnetwork.Builder#prune_previous_ensemble` is deprecated. Please use a custom `adanet.ensemble.Strategy` instead.\n"
     ]
    },
    {
     "name": "stderr",
     "output_type": "stream",
     "text": [
      "W0512 13:07:51.299457 140384601073472 tf_logging.py:161] Using an `adanet.subnetwork.Builder#prune_previous_ensemble` is deprecated. Please use a custom `adanet.ensemble.Strategy` instead.\n"
     ]
    },
    {
     "name": "stdout",
     "output_type": "stream",
     "text": [
      "WARNING:tensorflow:The `build_mixture_weights_train_op` method is deprecated. Please use the `Ensembler#build_train_op` instead.\n"
     ]
    },
    {
     "name": "stderr",
     "output_type": "stream",
     "text": [
      "W0512 13:07:51.381189 140384601073472 tf_logging.py:161] The `build_mixture_weights_train_op` method is deprecated. Please use the `Ensembler#build_train_op` instead.\n"
     ]
    },
    {
     "name": "stdout",
     "output_type": "stream",
     "text": [
      "WARNING:tensorflow:Using an `adanet.subnetwork.Builder#prune_previous_ensemble` is deprecated. Please use a custom `adanet.ensemble.Strategy` instead.\n"
     ]
    },
    {
     "name": "stderr",
     "output_type": "stream",
     "text": [
      "W0512 13:07:51.488894 140384601073472 tf_logging.py:161] Using an `adanet.subnetwork.Builder#prune_previous_ensemble` is deprecated. Please use a custom `adanet.ensemble.Strategy` instead.\n"
     ]
    },
    {
     "name": "stdout",
     "output_type": "stream",
     "text": [
      "WARNING:tensorflow:The `build_mixture_weights_train_op` method is deprecated. Please use the `Ensembler#build_train_op` instead.\n"
     ]
    },
    {
     "name": "stderr",
     "output_type": "stream",
     "text": [
      "W0512 13:07:51.569737 140384601073472 tf_logging.py:161] The `build_mixture_weights_train_op` method is deprecated. Please use the `Ensembler#build_train_op` instead.\n"
     ]
    },
    {
     "name": "stdout",
     "output_type": "stream",
     "text": [
      "INFO:tensorflow:Done calling model_fn.\n"
     ]
    },
    {
     "name": "stderr",
     "output_type": "stream",
     "text": [
      "I0512 13:07:51.711555 140384601073472 estimator.py:1113] Done calling model_fn.\n"
     ]
    },
    {
     "name": "stdout",
     "output_type": "stream",
     "text": [
      "INFO:tensorflow:Create CheckpointSaverHook.\n"
     ]
    },
    {
     "name": "stderr",
     "output_type": "stream",
     "text": [
      "I0512 13:07:51.712412 140384601073472 basic_session_run_hooks.py:527] Create CheckpointSaverHook.\n"
     ]
    },
    {
     "name": "stdout",
     "output_type": "stream",
     "text": [
      "INFO:tensorflow:Graph was finalized.\n"
     ]
    },
    {
     "name": "stderr",
     "output_type": "stream",
     "text": [
      "I0512 13:07:51.897371 140384601073472 monitored_session.py:222] Graph was finalized.\n"
     ]
    },
    {
     "name": "stdout",
     "output_type": "stream",
     "text": [
      "INFO:tensorflow:Restoring parameters from ./tmp/adanet/DNN/increment.ckpt-3\n"
     ]
    },
    {
     "name": "stderr",
     "output_type": "stream",
     "text": [
      "I0512 13:07:51.899637 140384601073472 saver.py:1270] Restoring parameters from ./tmp/adanet/DNN/increment.ckpt-3\n"
     ]
    },
    {
     "name": "stdout",
     "output_type": "stream",
     "text": [
      "INFO:tensorflow:Running local_init_op.\n"
     ]
    },
    {
     "name": "stderr",
     "output_type": "stream",
     "text": [
      "I0512 13:07:52.109817 140384601073472 session_manager.py:491] Running local_init_op.\n"
     ]
    },
    {
     "name": "stdout",
     "output_type": "stream",
     "text": [
      "INFO:tensorflow:Done running local_init_op.\n"
     ]
    },
    {
     "name": "stderr",
     "output_type": "stream",
     "text": [
      "I0512 13:07:52.142706 140384601073472 session_manager.py:493] Done running local_init_op.\n"
     ]
    },
    {
     "name": "stdout",
     "output_type": "stream",
     "text": [
      "INFO:tensorflow:Saving checkpoints for 15 into ./tmp/adanet/DNN/model.ckpt.\n"
     ]
    },
    {
     "name": "stderr",
     "output_type": "stream",
     "text": [
      "I0512 13:07:52.758083 140384601073472 basic_session_run_hooks.py:594] Saving checkpoints for 15 into ./tmp/adanet/DNN/model.ckpt.\n"
     ]
    },
    {
     "name": "stdout",
     "output_type": "stream",
     "text": [
      "INFO:tensorflow:loss = 1.0692801, step = 16\n"
     ]
    },
    {
     "name": "stderr",
     "output_type": "stream",
     "text": [
      "I0512 13:07:54.784502 140384601073472 basic_session_run_hooks.py:249] loss = 1.0692801, step = 16\n"
     ]
    },
    {
     "name": "stdout",
     "output_type": "stream",
     "text": [
      "\n",
      "*** generator() : labels shape= (414,) / label values= 1\n",
      "INFO:tensorflow:Saving checkpoints for 20 into ./tmp/adanet/DNN/model.ckpt.\n"
     ]
    },
    {
     "name": "stderr",
     "output_type": "stream",
     "text": [
      "I0512 13:07:55.514005 140384601073472 basic_session_run_hooks.py:594] Saving checkpoints for 20 into ./tmp/adanet/DNN/model.ckpt.\n"
     ]
    },
    {
     "name": "stdout",
     "output_type": "stream",
     "text": [
      "\n",
      "*** input_fn() : feature_shape= (224, 224, 3) / label_shape= [1]\n",
      "\n",
      "*** input_fn : TEST / feature_shape= (224, 224, 3)\n",
      "\n",
      "*** preprocess_color_image() : label shape= ()\n",
      "\n",
      "***_input_fn() : Label shape =[1]\n",
      "INFO:tensorflow:Calling model_fn.\n"
     ]
    },
    {
     "name": "stderr",
     "output_type": "stream",
     "text": [
      "I0512 13:07:56.004615 140384601073472 estimator.py:1111] Calling model_fn.\n"
     ]
    },
    {
     "name": "stdout",
     "output_type": "stream",
     "text": [
      "\n",
      "*** NNGenerator : layers= (0,1)\n",
      "\n",
      "*** NNAdaNetBuilder : NN Type=DNN\n",
      "\n",
      "*** get_tf_head() : feature shape= (224, 224, 3)\n",
      "\n",
      "*** get_tf_head() : feature columns= [NumericColumn(key='images', shape=(224, 224, 3), default_value=None, dtype=tf.float32, normalizer_fn=None)]\n",
      "\n",
      "*** NNAdaNetBuilder : NN Type=DNN\n",
      "\n",
      "*** get_tf_head() : feature shape= (224, 224, 3)\n",
      "\n",
      "*** get_tf_head() : feature columns= [NumericColumn(key='images', shape=(224, 224, 3), default_value=None, dtype=tf.float32, normalizer_fn=None)]\n",
      "INFO:tensorflow:Rebuilding iteration 0\n"
     ]
    },
    {
     "name": "stderr",
     "output_type": "stream",
     "text": [
      "I0512 13:07:56.008280 140384601073472 iteration.py:250] Rebuilding iteration 0\n"
     ]
    },
    {
     "name": "stdout",
     "output_type": "stream",
     "text": [
      "INFO:tensorflow:Rebuilding subnetwork 'DNN_linear'\n"
     ]
    },
    {
     "name": "stderr",
     "output_type": "stream",
     "text": [
      "I0512 13:07:56.013560 140384601073472 iteration.py:337] Rebuilding subnetwork 'DNN_linear'\n"
     ]
    },
    {
     "name": "stdout",
     "output_type": "stream",
     "text": [
      "\n",
      "\n",
      "*** build_subnetwork() : features= {'images': <tf.Tensor 'IteratorGetNext:0' shape=(?, 224, 224, 3) dtype=float32>}\n",
      "\n",
      "\n",
      "*** build_subnetwork() : self._feature_columns= [NumericColumn(key='images', shape=(224, 224, 3), default_value=None, dtype=tf.float32, normalizer_fn=None)]\n",
      "\n",
      "\n",
      "*** build_subnetwork() : NN type= DNN / Input layer shape= (?, 150528)\n",
      "**** *** _build_dnn_subnetwork : Layers= 1\n",
      "\n",
      "\n",
      "*** build_subnetwork() : last_layer= Tensor(\"adanet/iteration_0/subnetwork_t0_DNN_linear/dropout/Identity:0\", shape=(?, 128), dtype=float32)\n",
      "\n",
      "*** NNGenerator : layers= (0,1)\n",
      "\n",
      "*** NNAdaNetBuilder : NN Type=DNN\n",
      "\n",
      "*** get_tf_head() : feature shape= (224, 224, 3)\n",
      "\n",
      "*** get_tf_head() : feature columns= [NumericColumn(key='images', shape=(224, 224, 3), default_value=None, dtype=tf.float32, normalizer_fn=None)]\n",
      "\n",
      "*** NNAdaNetBuilder : NN Type=DNN\n",
      "\n",
      "*** get_tf_head() : feature shape= (224, 224, 3)\n",
      "\n",
      "*** get_tf_head() : feature columns= [NumericColumn(key='images', shape=(224, 224, 3), default_value=None, dtype=tf.float32, normalizer_fn=None)]\n",
      "INFO:tensorflow:Building iteration 3\n"
     ]
    },
    {
     "name": "stderr",
     "output_type": "stream",
     "text": [
      "I0512 13:07:56.340528 140384601073472 iteration.py:250] Building iteration 3\n"
     ]
    },
    {
     "name": "stdout",
     "output_type": "stream",
     "text": [
      "INFO:tensorflow:Building subnetwork 'DNN_linear'\n"
     ]
    },
    {
     "name": "stderr",
     "output_type": "stream",
     "text": [
      "I0512 13:07:56.603700 140384601073472 iteration.py:337] Building subnetwork 'DNN_linear'\n"
     ]
    },
    {
     "name": "stdout",
     "output_type": "stream",
     "text": [
      "\n",
      "\n",
      "*** build_subnetwork() : features= {'images': <tf.Tensor 'IteratorGetNext:0' shape=(?, 224, 224, 3) dtype=float32>}\n",
      "\n",
      "\n",
      "*** build_subnetwork() : self._feature_columns= [NumericColumn(key='images', shape=(224, 224, 3), default_value=None, dtype=tf.float32, normalizer_fn=None)]\n",
      "\n",
      "\n",
      "*** build_subnetwork() : NN type= DNN / Input layer shape= (?, 150528)\n",
      "**** *** _build_dnn_subnetwork : Layers= 1\n",
      "\n",
      "\n",
      "*** build_subnetwork() : last_layer= Tensor(\"adanet/iteration_3/subnetwork_t3_DNN_linear/dropout/Identity:0\", shape=(?, 128), dtype=float32)\n",
      "INFO:tensorflow:Building subnetwork 'DNN_layer_1'\n"
     ]
    },
    {
     "name": "stderr",
     "output_type": "stream",
     "text": [
      "I0512 13:07:56.762484 140384601073472 iteration.py:337] Building subnetwork 'DNN_layer_1'\n"
     ]
    },
    {
     "name": "stdout",
     "output_type": "stream",
     "text": [
      "\n",
      "\n",
      "*** build_subnetwork() : features= {'images': <tf.Tensor 'IteratorGetNext:0' shape=(?, 224, 224, 3) dtype=float32>}\n",
      "\n",
      "\n",
      "*** build_subnetwork() : self._feature_columns= [NumericColumn(key='images', shape=(224, 224, 3), default_value=None, dtype=tf.float32, normalizer_fn=None)]\n",
      "\n",
      "\n",
      "*** build_subnetwork() : NN type= DNN / Input layer shape= (?, 150528)\n",
      "**** *** _build_dnn_subnetwork : Layers= 1\n",
      "\n",
      "\n",
      "*** build_subnetwork() : last_layer= Tensor(\"adanet/iteration_3/subnetwork_t3_DNN_layer_1/dropout/Identity:0\", shape=(?, 128), dtype=float32)\n",
      "WARNING:tensorflow:Using an `adanet.subnetwork.Builder#prune_previous_ensemble` is deprecated. Please use a custom `adanet.ensemble.Strategy` instead.\n"
     ]
    },
    {
     "name": "stderr",
     "output_type": "stream",
     "text": [
      "W0512 13:07:56.948494 140384601073472 tf_logging.py:161] Using an `adanet.subnetwork.Builder#prune_previous_ensemble` is deprecated. Please use a custom `adanet.ensemble.Strategy` instead.\n"
     ]
    },
    {
     "name": "stdout",
     "output_type": "stream",
     "text": [
      "WARNING:tensorflow:Using an `adanet.subnetwork.Builder#prune_previous_ensemble` is deprecated. Please use a custom `adanet.ensemble.Strategy` instead.\n"
     ]
    },
    {
     "name": "stderr",
     "output_type": "stream",
     "text": [
      "W0512 13:07:57.080989 140384601073472 tf_logging.py:161] Using an `adanet.subnetwork.Builder#prune_previous_ensemble` is deprecated. Please use a custom `adanet.ensemble.Strategy` instead.\n"
     ]
    },
    {
     "name": "stdout",
     "output_type": "stream",
     "text": [
      "INFO:tensorflow:Done calling model_fn.\n"
     ]
    },
    {
     "name": "stderr",
     "output_type": "stream",
     "text": [
      "I0512 13:07:57.325155 140384601073472 estimator.py:1113] Done calling model_fn.\n"
     ]
    },
    {
     "name": "stdout",
     "output_type": "stream",
     "text": [
      "INFO:tensorflow:Starting evaluation at 2019-05-12T11:07:57Z\n"
     ]
    },
    {
     "name": "stderr",
     "output_type": "stream",
     "text": [
      "I0512 13:07:57.347085 140384601073472 evaluation.py:257] Starting evaluation at 2019-05-12T11:07:57Z\n"
     ]
    },
    {
     "name": "stdout",
     "output_type": "stream",
     "text": [
      "INFO:tensorflow:Graph was finalized.\n"
     ]
    },
    {
     "name": "stderr",
     "output_type": "stream",
     "text": [
      "I0512 13:07:57.571683 140384601073472 monitored_session.py:222] Graph was finalized.\n"
     ]
    },
    {
     "name": "stdout",
     "output_type": "stream",
     "text": [
      "INFO:tensorflow:Restoring parameters from ./tmp/adanet/DNN/model.ckpt-20\n"
     ]
    },
    {
     "name": "stderr",
     "output_type": "stream",
     "text": [
      "I0512 13:07:57.573521 140384601073472 saver.py:1270] Restoring parameters from ./tmp/adanet/DNN/model.ckpt-20\n"
     ]
    },
    {
     "name": "stdout",
     "output_type": "stream",
     "text": [
      "INFO:tensorflow:Running local_init_op.\n"
     ]
    },
    {
     "name": "stderr",
     "output_type": "stream",
     "text": [
      "I0512 13:07:57.731446 140384601073472 session_manager.py:491] Running local_init_op.\n"
     ]
    },
    {
     "name": "stdout",
     "output_type": "stream",
     "text": [
      "INFO:tensorflow:Done running local_init_op.\n"
     ]
    },
    {
     "name": "stderr",
     "output_type": "stream",
     "text": [
      "I0512 13:07:57.819707 140384601073472 session_manager.py:493] Done running local_init_op.\n"
     ]
    },
    {
     "name": "stdout",
     "output_type": "stream",
     "text": [
      "\n",
      "*** generator() : labels shape= (47,) / label values= 0\n",
      "INFO:tensorflow:Finished evaluation at 2019-05-12-11:07:58\n"
     ]
    },
    {
     "name": "stderr",
     "output_type": "stream",
     "text": [
      "I0512 13:07:58.719421 140384601073472 evaluation.py:277] Finished evaluation at 2019-05-12-11:07:58\n"
     ]
    },
    {
     "name": "stdout",
     "output_type": "stream",
     "text": [
      "INFO:tensorflow:Saving dict for global step 20: accuracy = 0.38297874, average_loss = 1.1970296, global_step = 20, loss = 1.146147\n"
     ]
    },
    {
     "name": "stderr",
     "output_type": "stream",
     "text": [
      "I0512 13:07:58.722928 140384601073472 estimator.py:1979] Saving dict for global step 20: accuracy = 0.38297874, average_loss = 1.1970296, global_step = 20, loss = 1.146147\n"
     ]
    },
    {
     "name": "stdout",
     "output_type": "stream",
     "text": [
      "INFO:tensorflow:Saving 'checkpoint_path' summary for global step 20: ./tmp/adanet/DNN/model.ckpt-20\n"
     ]
    },
    {
     "name": "stderr",
     "output_type": "stream",
     "text": [
      "I0512 13:07:58.727801 140384601073472 estimator.py:2039] Saving 'checkpoint_path' summary for global step 20: ./tmp/adanet/DNN/model.ckpt-20\n"
     ]
    },
    {
     "name": "stdout",
     "output_type": "stream",
     "text": [
      "INFO:tensorflow:Loss for final step: 1.1076792.\n"
     ]
    },
    {
     "name": "stderr",
     "output_type": "stream",
     "text": [
      "I0512 13:07:58.795939 140384601073472 estimator.py:359] Loss for final step: 1.1076792.\n"
     ]
    },
    {
     "name": "stdout",
     "output_type": "stream",
     "text": [
      "\n",
      "*** input_fn() : feature_shape= (224, 224, 3) / label_shape= [1]\n",
      "\n",
      "*** preprocess_color_image() : label shape= ()\n",
      "\n",
      "***_input_fn() : Label shape =[1]\n",
      "INFO:tensorflow:Calling model_fn.\n"
     ]
    },
    {
     "name": "stderr",
     "output_type": "stream",
     "text": [
      "I0512 13:07:58.866420 140384601073472 estimator.py:1111] Calling model_fn.\n"
     ]
    },
    {
     "name": "stdout",
     "output_type": "stream",
     "text": [
      "\n",
      "*** NNGenerator : layers= (0,1)\n",
      "\n",
      "*** NNAdaNetBuilder : NN Type=DNN\n",
      "\n",
      "*** get_tf_head() : feature shape= (224, 224, 3)\n",
      "\n",
      "*** get_tf_head() : feature columns= [NumericColumn(key='images', shape=(224, 224, 3), default_value=None, dtype=tf.float32, normalizer_fn=None)]\n",
      "\n",
      "*** NNAdaNetBuilder : NN Type=DNN\n",
      "\n",
      "*** get_tf_head() : feature shape= (224, 224, 3)\n",
      "\n",
      "*** get_tf_head() : feature columns= [NumericColumn(key='images', shape=(224, 224, 3), default_value=None, dtype=tf.float32, normalizer_fn=None)]\n",
      "INFO:tensorflow:Rebuilding iteration 0\n"
     ]
    },
    {
     "name": "stderr",
     "output_type": "stream",
     "text": [
      "I0512 13:07:58.869616 140384601073472 iteration.py:250] Rebuilding iteration 0\n"
     ]
    },
    {
     "name": "stdout",
     "output_type": "stream",
     "text": [
      "INFO:tensorflow:Rebuilding subnetwork 'DNN_linear'\n"
     ]
    },
    {
     "name": "stderr",
     "output_type": "stream",
     "text": [
      "I0512 13:07:58.874803 140384601073472 iteration.py:337] Rebuilding subnetwork 'DNN_linear'\n"
     ]
    },
    {
     "name": "stdout",
     "output_type": "stream",
     "text": [
      "\n",
      "\n",
      "*** build_subnetwork() : features= {'images': <tf.Tensor 'IteratorGetNext:0' shape=(?, 224, 224, 3) dtype=float32>}\n",
      "\n",
      "\n",
      "*** build_subnetwork() : self._feature_columns= [NumericColumn(key='images', shape=(224, 224, 3), default_value=None, dtype=tf.float32, normalizer_fn=None)]\n",
      "\n",
      "\n",
      "*** build_subnetwork() : NN type= DNN / Input layer shape= (?, 150528)\n",
      "**** *** _build_dnn_subnetwork : Layers= 1\n",
      "\n",
      "\n",
      "*** build_subnetwork() : last_layer= Tensor(\"adanet/iteration_0/subnetwork_t0_DNN_linear/dropout/Identity:0\", shape=(?, 128), dtype=float32)\n",
      "\n",
      "*** NNGenerator : layers= (0,1)\n",
      "\n",
      "*** NNAdaNetBuilder : NN Type=DNN\n",
      "\n",
      "*** get_tf_head() : feature shape= (224, 224, 3)\n",
      "\n",
      "*** get_tf_head() : feature columns= [NumericColumn(key='images', shape=(224, 224, 3), default_value=None, dtype=tf.float32, normalizer_fn=None)]\n",
      "\n",
      "*** NNAdaNetBuilder : NN Type=DNN\n",
      "\n",
      "*** get_tf_head() : feature shape= (224, 224, 3)\n",
      "\n",
      "*** get_tf_head() : feature columns= [NumericColumn(key='images', shape=(224, 224, 3), default_value=None, dtype=tf.float32, normalizer_fn=None)]\n",
      "INFO:tensorflow:Building iteration 3\n"
     ]
    },
    {
     "name": "stderr",
     "output_type": "stream",
     "text": [
      "I0512 13:07:59.229664 140384601073472 iteration.py:250] Building iteration 3\n"
     ]
    },
    {
     "name": "stdout",
     "output_type": "stream",
     "text": [
      "INFO:tensorflow:Building subnetwork 'DNN_linear'\n"
     ]
    },
    {
     "name": "stderr",
     "output_type": "stream",
     "text": [
      "I0512 13:07:59.283513 140384601073472 iteration.py:337] Building subnetwork 'DNN_linear'\n"
     ]
    },
    {
     "name": "stdout",
     "output_type": "stream",
     "text": [
      "\n",
      "\n",
      "*** build_subnetwork() : features= {'images': <tf.Tensor 'IteratorGetNext:0' shape=(?, 224, 224, 3) dtype=float32>}\n",
      "\n",
      "\n",
      "*** build_subnetwork() : self._feature_columns= [NumericColumn(key='images', shape=(224, 224, 3), default_value=None, dtype=tf.float32, normalizer_fn=None)]\n",
      "\n",
      "\n",
      "*** build_subnetwork() : NN type= DNN / Input layer shape= (?, 150528)\n",
      "**** *** _build_dnn_subnetwork : Layers= 1\n",
      "\n",
      "\n",
      "*** build_subnetwork() : last_layer= Tensor(\"adanet/iteration_3/subnetwork_t3_DNN_linear/dropout/Identity:0\", shape=(?, 128), dtype=float32)\n",
      "INFO:tensorflow:Building subnetwork 'DNN_layer_1'\n"
     ]
    },
    {
     "name": "stderr",
     "output_type": "stream",
     "text": [
      "I0512 13:07:59.457674 140384601073472 iteration.py:337] Building subnetwork 'DNN_layer_1'\n"
     ]
    },
    {
     "name": "stdout",
     "output_type": "stream",
     "text": [
      "\n",
      "\n",
      "*** build_subnetwork() : features= {'images': <tf.Tensor 'IteratorGetNext:0' shape=(?, 224, 224, 3) dtype=float32>}\n",
      "\n",
      "\n",
      "*** build_subnetwork() : self._feature_columns= [NumericColumn(key='images', shape=(224, 224, 3), default_value=None, dtype=tf.float32, normalizer_fn=None)]\n",
      "\n",
      "\n",
      "*** build_subnetwork() : NN type= DNN / Input layer shape= (?, 150528)\n",
      "**** *** _build_dnn_subnetwork : Layers= 1\n",
      "\n",
      "\n",
      "*** build_subnetwork() : last_layer= Tensor(\"adanet/iteration_3/subnetwork_t3_DNN_layer_1/dropout/Identity:0\", shape=(?, 128), dtype=float32)\n",
      "WARNING:tensorflow:Using an `adanet.subnetwork.Builder#prune_previous_ensemble` is deprecated. Please use a custom `adanet.ensemble.Strategy` instead.\n"
     ]
    },
    {
     "name": "stderr",
     "output_type": "stream",
     "text": [
      "W0512 13:07:59.633172 140384601073472 tf_logging.py:161] Using an `adanet.subnetwork.Builder#prune_previous_ensemble` is deprecated. Please use a custom `adanet.ensemble.Strategy` instead.\n"
     ]
    },
    {
     "name": "stdout",
     "output_type": "stream",
     "text": [
      "WARNING:tensorflow:Using an `adanet.subnetwork.Builder#prune_previous_ensemble` is deprecated. Please use a custom `adanet.ensemble.Strategy` instead.\n"
     ]
    },
    {
     "name": "stderr",
     "output_type": "stream",
     "text": [
      "W0512 13:07:59.778883 140384601073472 tf_logging.py:161] Using an `adanet.subnetwork.Builder#prune_previous_ensemble` is deprecated. Please use a custom `adanet.ensemble.Strategy` instead.\n"
     ]
    },
    {
     "name": "stdout",
     "output_type": "stream",
     "text": [
      "INFO:tensorflow:Restoring parameters from ./tmp/adanet/DNN/model.ckpt-20\n"
     ]
    },
    {
     "name": "stderr",
     "output_type": "stream",
     "text": [
      "I0512 13:08:00.271991 140384601073472 saver.py:1270] Restoring parameters from ./tmp/adanet/DNN/model.ckpt-20\n"
     ]
    },
    {
     "name": "stdout",
     "output_type": "stream",
     "text": [
      "WARNING:tensorflow:`tf.train.start_queue_runners()` was called when no queue runners were defined. You can safely remove the call to this deprecated function.\n"
     ]
    },
    {
     "name": "stderr",
     "output_type": "stream",
     "text": [
      "W0512 13:08:00.414825 140384601073472 queue_runner_impl.py:471] `tf.train.start_queue_runners()` was called when no queue runners were defined. You can safely remove the call to this deprecated function.\n"
     ]
    },
    {
     "name": "stdout",
     "output_type": "stream",
     "text": [
      "\n",
      "*** generator() : labels shape= (414,) / label values= 1\n",
      "\n",
      "*** generator() : labels shape= (414,) / label values= 1\n",
      "\n",
      "*** generator() : labels shape= (414,) / label values= 1\n",
      "\n",
      "*** generator() : labels shape= (414,) / label values= 1\n",
      "\n",
      "*** generator() : labels shape= (414,) / label values= 1\n",
      "\n",
      "*** generator() : labels shape= (414,) / label values= 1\n",
      "INFO:tensorflow:Done calling model_fn.\n"
     ]
    },
    {
     "name": "stderr",
     "output_type": "stream",
     "text": [
      "I0512 13:08:03.955035 140384601073472 estimator.py:1113] Done calling model_fn.\n"
     ]
    },
    {
     "name": "stdout",
     "output_type": "stream",
     "text": [
      "INFO:tensorflow:Using config: {'_model_dir': './tmp/adanet/DNN/temp_model_dir', '_tf_random_seed': 42, '_save_summary_steps': 100, '_save_checkpoints_steps': None, '_save_checkpoints_secs': 600, '_session_config': allow_soft_placement: true\n",
      "graph_options {\n",
      "  rewrite_options {\n",
      "    meta_optimizer_iterations: ONE\n",
      "  }\n",
      "}\n",
      ", '_keep_checkpoint_max': 5, '_keep_checkpoint_every_n_hours': 10000, '_log_step_count_steps': 100, '_train_distribute': None, '_device_fn': None, '_protocol': None, '_eval_distribute': None, '_experimental_distribute': None, '_service': None, '_cluster_spec': <tensorflow.python.training.server_lib.ClusterSpec object at 0x7fac9920e7f0>, '_task_type': 'worker', '_task_id': 0, '_global_id_in_cluster': 0, '_master': '', '_evaluation_master': '', '_is_chief': True, '_num_ps_replicas': 0, '_num_worker_replicas': 1}\n"
     ]
    },
    {
     "name": "stderr",
     "output_type": "stream",
     "text": [
      "I0512 13:08:03.956235 140384601073472 estimator.py:201] Using config: {'_model_dir': './tmp/adanet/DNN/temp_model_dir', '_tf_random_seed': 42, '_save_summary_steps': 100, '_save_checkpoints_steps': None, '_save_checkpoints_secs': 600, '_session_config': allow_soft_placement: true\n",
      "graph_options {\n",
      "  rewrite_options {\n",
      "    meta_optimizer_iterations: ONE\n",
      "  }\n",
      "}\n",
      ", '_keep_checkpoint_max': 5, '_keep_checkpoint_every_n_hours': 10000, '_log_step_count_steps': 100, '_train_distribute': None, '_device_fn': None, '_protocol': None, '_eval_distribute': None, '_experimental_distribute': None, '_service': None, '_cluster_spec': <tensorflow.python.training.server_lib.ClusterSpec object at 0x7fac9920e7f0>, '_task_type': 'worker', '_task_id': 0, '_global_id_in_cluster': 0, '_master': '', '_evaluation_master': '', '_is_chief': True, '_num_ps_replicas': 0, '_num_worker_replicas': 1}\n"
     ]
    },
    {
     "name": "stdout",
     "output_type": "stream",
     "text": [
      "\n",
      "*** input_fn() : feature_shape= (224, 224, 3) / label_shape= [1]\n",
      "\n",
      "*** preprocess_color_image() : label shape= ()\n",
      "\n",
      "***_input_fn() : Label shape =[1]\n",
      "INFO:tensorflow:Calling model_fn.\n"
     ]
    },
    {
     "name": "stderr",
     "output_type": "stream",
     "text": [
      "I0512 13:08:04.027764 140384601073472 estimator.py:1111] Calling model_fn.\n"
     ]
    },
    {
     "name": "stdout",
     "output_type": "stream",
     "text": [
      "\n",
      "*** NNGenerator : layers= (0,1)\n",
      "\n",
      "*** NNAdaNetBuilder : NN Type=DNN\n",
      "\n",
      "*** get_tf_head() : feature shape= (224, 224, 3)\n",
      "\n",
      "*** get_tf_head() : feature columns= [NumericColumn(key='images', shape=(224, 224, 3), default_value=None, dtype=tf.float32, normalizer_fn=None)]\n",
      "\n",
      "*** NNAdaNetBuilder : NN Type=DNN\n",
      "\n",
      "*** get_tf_head() : feature shape= (224, 224, 3)\n",
      "\n",
      "*** get_tf_head() : feature columns= [NumericColumn(key='images', shape=(224, 224, 3), default_value=None, dtype=tf.float32, normalizer_fn=None)]\n",
      "INFO:tensorflow:Rebuilding iteration 0\n"
     ]
    },
    {
     "name": "stderr",
     "output_type": "stream",
     "text": [
      "I0512 13:08:04.036607 140384601073472 iteration.py:250] Rebuilding iteration 0\n"
     ]
    },
    {
     "name": "stdout",
     "output_type": "stream",
     "text": [
      "INFO:tensorflow:Rebuilding subnetwork 'DNN_linear'\n"
     ]
    },
    {
     "name": "stderr",
     "output_type": "stream",
     "text": [
      "I0512 13:08:04.043933 140384601073472 iteration.py:337] Rebuilding subnetwork 'DNN_linear'\n"
     ]
    },
    {
     "name": "stdout",
     "output_type": "stream",
     "text": [
      "\n",
      "\n",
      "*** build_subnetwork() : features= {'images': <tf.Tensor 'IteratorGetNext:0' shape=(?, 224, 224, 3) dtype=float32>}\n",
      "\n",
      "\n",
      "*** build_subnetwork() : self._feature_columns= [NumericColumn(key='images', shape=(224, 224, 3), default_value=None, dtype=tf.float32, normalizer_fn=None)]\n",
      "\n",
      "\n",
      "*** build_subnetwork() : NN type= DNN / Input layer shape= (?, 150528)\n",
      "**** *** _build_dnn_subnetwork : Layers= 1\n",
      "\n",
      "\n",
      "*** build_subnetwork() : last_layer= Tensor(\"adanet/iteration_0/subnetwork_t0_DNN_linear/dropout/Identity:0\", shape=(?, 128), dtype=float32)\n",
      "\n",
      "*** NNGenerator : layers= (0,1)\n",
      "\n",
      "*** NNAdaNetBuilder : NN Type=DNN\n",
      "\n",
      "*** get_tf_head() : feature shape= (224, 224, 3)\n",
      "\n",
      "*** get_tf_head() : feature columns= [NumericColumn(key='images', shape=(224, 224, 3), default_value=None, dtype=tf.float32, normalizer_fn=None)]\n",
      "\n",
      "*** NNAdaNetBuilder : NN Type=DNN\n",
      "\n",
      "*** get_tf_head() : feature shape= (224, 224, 3)\n",
      "\n",
      "*** get_tf_head() : feature columns= [NumericColumn(key='images', shape=(224, 224, 3), default_value=None, dtype=tf.float32, normalizer_fn=None)]\n",
      "INFO:tensorflow:Building iteration 4\n"
     ]
    },
    {
     "name": "stderr",
     "output_type": "stream",
     "text": [
      "I0512 13:08:04.337464 140384601073472 iteration.py:250] Building iteration 4\n"
     ]
    },
    {
     "name": "stdout",
     "output_type": "stream",
     "text": [
      "INFO:tensorflow:Building subnetwork 'DNN_linear'\n"
     ]
    },
    {
     "name": "stderr",
     "output_type": "stream",
     "text": [
      "I0512 13:08:04.364832 140384601073472 iteration.py:337] Building subnetwork 'DNN_linear'\n"
     ]
    },
    {
     "name": "stdout",
     "output_type": "stream",
     "text": [
      "\n",
      "\n",
      "*** build_subnetwork() : features= {'images': <tf.Tensor 'IteratorGetNext:0' shape=(?, 224, 224, 3) dtype=float32>}\n",
      "\n",
      "\n",
      "*** build_subnetwork() : self._feature_columns= [NumericColumn(key='images', shape=(224, 224, 3), default_value=None, dtype=tf.float32, normalizer_fn=None)]\n",
      "\n",
      "\n",
      "*** build_subnetwork() : NN type= DNN / Input layer shape= (?, 150528)\n",
      "**** *** _build_dnn_subnetwork : Layers= 1\n",
      "\n",
      "\n",
      "*** build_subnetwork() : last_layer= Tensor(\"adanet/iteration_4/subnetwork_t4_DNN_linear/dense/Relu:0\", shape=(?, 128), dtype=float32)\n",
      "INFO:tensorflow:Building subnetwork 'DNN_layer_1'\n"
     ]
    },
    {
     "name": "stderr",
     "output_type": "stream",
     "text": [
      "I0512 13:08:04.813312 140384601073472 iteration.py:337] Building subnetwork 'DNN_layer_1'\n"
     ]
    },
    {
     "name": "stdout",
     "output_type": "stream",
     "text": [
      "\n",
      "\n",
      "*** build_subnetwork() : features= {'images': <tf.Tensor 'IteratorGetNext:0' shape=(?, 224, 224, 3) dtype=float32>}\n",
      "\n",
      "\n",
      "*** build_subnetwork() : self._feature_columns= [NumericColumn(key='images', shape=(224, 224, 3), default_value=None, dtype=tf.float32, normalizer_fn=None)]\n",
      "\n",
      "\n",
      "*** build_subnetwork() : NN type= DNN / Input layer shape= (?, 150528)\n",
      "**** *** _build_dnn_subnetwork : Layers= 1\n",
      "\n",
      "\n",
      "*** build_subnetwork() : last_layer= Tensor(\"adanet/iteration_4/subnetwork_t4_DNN_layer_1/dense/Relu:0\", shape=(?, 128), dtype=float32)\n",
      "WARNING:tensorflow:Using an `adanet.subnetwork.Builder#prune_previous_ensemble` is deprecated. Please use a custom `adanet.ensemble.Strategy` instead.\n"
     ]
    },
    {
     "name": "stderr",
     "output_type": "stream",
     "text": [
      "W0512 13:08:04.970335 140384601073472 tf_logging.py:161] Using an `adanet.subnetwork.Builder#prune_previous_ensemble` is deprecated. Please use a custom `adanet.ensemble.Strategy` instead.\n"
     ]
    },
    {
     "name": "stdout",
     "output_type": "stream",
     "text": [
      "WARNING:tensorflow:The `build_mixture_weights_train_op` method is deprecated. Please use the `Ensembler#build_train_op` instead.\n"
     ]
    },
    {
     "name": "stderr",
     "output_type": "stream",
     "text": [
      "W0512 13:08:05.045802 140384601073472 tf_logging.py:161] The `build_mixture_weights_train_op` method is deprecated. Please use the `Ensembler#build_train_op` instead.\n"
     ]
    },
    {
     "name": "stdout",
     "output_type": "stream",
     "text": [
      "WARNING:tensorflow:Using an `adanet.subnetwork.Builder#prune_previous_ensemble` is deprecated. Please use a custom `adanet.ensemble.Strategy` instead.\n"
     ]
    },
    {
     "name": "stderr",
     "output_type": "stream",
     "text": [
      "W0512 13:08:05.148128 140384601073472 tf_logging.py:161] Using an `adanet.subnetwork.Builder#prune_previous_ensemble` is deprecated. Please use a custom `adanet.ensemble.Strategy` instead.\n"
     ]
    },
    {
     "name": "stdout",
     "output_type": "stream",
     "text": [
      "WARNING:tensorflow:The `build_mixture_weights_train_op` method is deprecated. Please use the `Ensembler#build_train_op` instead.\n"
     ]
    },
    {
     "name": "stderr",
     "output_type": "stream",
     "text": [
      "W0512 13:08:05.224281 140384601073472 tf_logging.py:161] The `build_mixture_weights_train_op` method is deprecated. Please use the `Ensembler#build_train_op` instead.\n"
     ]
    },
    {
     "name": "stdout",
     "output_type": "stream",
     "text": [
      "INFO:tensorflow:Done calling model_fn.\n"
     ]
    },
    {
     "name": "stderr",
     "output_type": "stream",
     "text": [
      "I0512 13:08:05.361718 140384601073472 estimator.py:1113] Done calling model_fn.\n"
     ]
    },
    {
     "name": "stdout",
     "output_type": "stream",
     "text": [
      "INFO:tensorflow:Create CheckpointSaverHook.\n"
     ]
    },
    {
     "name": "stderr",
     "output_type": "stream",
     "text": [
      "I0512 13:08:05.362716 140384601073472 basic_session_run_hooks.py:527] Create CheckpointSaverHook.\n"
     ]
    },
    {
     "name": "stdout",
     "output_type": "stream",
     "text": [
      "INFO:tensorflow:Graph was finalized.\n"
     ]
    },
    {
     "name": "stderr",
     "output_type": "stream",
     "text": [
      "I0512 13:08:05.982605 140384601073472 monitored_session.py:222] Graph was finalized.\n"
     ]
    },
    {
     "name": "stdout",
     "output_type": "stream",
     "text": [
      "INFO:tensorflow:Running local_init_op.\n"
     ]
    },
    {
     "name": "stderr",
     "output_type": "stream",
     "text": [
      "I0512 13:08:06.788062 140384601073472 session_manager.py:491] Running local_init_op.\n"
     ]
    },
    {
     "name": "stdout",
     "output_type": "stream",
     "text": [
      "INFO:tensorflow:Done running local_init_op.\n"
     ]
    },
    {
     "name": "stderr",
     "output_type": "stream",
     "text": [
      "I0512 13:08:06.820555 140384601073472 session_manager.py:493] Done running local_init_op.\n"
     ]
    },
    {
     "name": "stdout",
     "output_type": "stream",
     "text": [
      "INFO:tensorflow:Saving checkpoints for 0 into ./tmp/adanet/DNN/temp_model_dir/model.ckpt.\n"
     ]
    },
    {
     "name": "stderr",
     "output_type": "stream",
     "text": [
      "I0512 13:08:07.449539 140384601073472 basic_session_run_hooks.py:594] Saving checkpoints for 0 into ./tmp/adanet/DNN/temp_model_dir/model.ckpt.\n"
     ]
    },
    {
     "name": "stdout",
     "output_type": "stream",
     "text": [
      "INFO:tensorflow:Restoring parameters from ./tmp/adanet/DNN/model.ckpt-20\n"
     ]
    },
    {
     "name": "stderr",
     "output_type": "stream",
     "text": [
      "I0512 13:08:07.901361 140384601073472 saver.py:1270] Restoring parameters from ./tmp/adanet/DNN/model.ckpt-20\n"
     ]
    },
    {
     "name": "stdout",
     "output_type": "stream",
     "text": [
      "INFO:tensorflow:loss = 1.0692801, step = 21\n"
     ]
    },
    {
     "name": "stderr",
     "output_type": "stream",
     "text": [
      "I0512 13:08:09.553917 140384601073472 basic_session_run_hooks.py:249] loss = 1.0692801, step = 21\n"
     ]
    },
    {
     "name": "stdout",
     "output_type": "stream",
     "text": [
      "INFO:tensorflow:Saving checkpoints for 21 into ./tmp/adanet/DNN/temp_model_dir/model.ckpt.\n"
     ]
    },
    {
     "name": "stderr",
     "output_type": "stream",
     "text": [
      "I0512 13:08:09.554853 140384601073472 basic_session_run_hooks.py:594] Saving checkpoints for 21 into ./tmp/adanet/DNN/temp_model_dir/model.ckpt.\n"
     ]
    },
    {
     "name": "stdout",
     "output_type": "stream",
     "text": [
      "INFO:tensorflow:Loss for final step: 1.0692801.\n"
     ]
    },
    {
     "name": "stderr",
     "output_type": "stream",
     "text": [
      "I0512 13:08:10.776297 140384601073472 estimator.py:359] Loss for final step: 1.0692801.\n"
     ]
    },
    {
     "name": "stdout",
     "output_type": "stream",
     "text": [
      "\n",
      "*** input_fn() : feature_shape= (224, 224, 3) / label_shape= [1]\n",
      "\n",
      "*** preprocess_color_image() : label shape= ()\n",
      "\n",
      "***_input_fn() : Label shape =[1]\n",
      "INFO:tensorflow:Calling model_fn.\n"
     ]
    },
    {
     "name": "stderr",
     "output_type": "stream",
     "text": [
      "I0512 13:08:11.544752 140384601073472 estimator.py:1111] Calling model_fn.\n"
     ]
    },
    {
     "name": "stdout",
     "output_type": "stream",
     "text": [
      "\n",
      "*** NNGenerator : layers= (0,1)\n",
      "\n",
      "*** NNAdaNetBuilder : NN Type=DNN\n",
      "\n",
      "*** get_tf_head() : feature shape= (224, 224, 3)\n",
      "\n",
      "*** get_tf_head() : feature columns= [NumericColumn(key='images', shape=(224, 224, 3), default_value=None, dtype=tf.float32, normalizer_fn=None)]\n",
      "\n",
      "*** NNAdaNetBuilder : NN Type=DNN\n",
      "\n",
      "*** get_tf_head() : feature shape= (224, 224, 3)\n",
      "\n",
      "*** get_tf_head() : feature columns= [NumericColumn(key='images', shape=(224, 224, 3), default_value=None, dtype=tf.float32, normalizer_fn=None)]\n",
      "INFO:tensorflow:Rebuilding iteration 0\n"
     ]
    },
    {
     "name": "stderr",
     "output_type": "stream",
     "text": [
      "I0512 13:08:11.549108 140384601073472 iteration.py:250] Rebuilding iteration 0\n"
     ]
    },
    {
     "name": "stdout",
     "output_type": "stream",
     "text": [
      "INFO:tensorflow:Rebuilding subnetwork 'DNN_linear'\n"
     ]
    },
    {
     "name": "stderr",
     "output_type": "stream",
     "text": [
      "I0512 13:08:11.555025 140384601073472 iteration.py:337] Rebuilding subnetwork 'DNN_linear'\n"
     ]
    },
    {
     "name": "stdout",
     "output_type": "stream",
     "text": [
      "\n",
      "\n",
      "*** build_subnetwork() : features= {'images': <tf.Tensor 'IteratorGetNext:0' shape=(?, 224, 224, 3) dtype=float32>}\n",
      "\n",
      "\n",
      "*** build_subnetwork() : self._feature_columns= [NumericColumn(key='images', shape=(224, 224, 3), default_value=None, dtype=tf.float32, normalizer_fn=None)]\n",
      "\n",
      "\n",
      "*** build_subnetwork() : NN type= DNN / Input layer shape= (?, 150528)\n",
      "**** *** _build_dnn_subnetwork : Layers= 1\n",
      "\n",
      "\n",
      "*** build_subnetwork() : last_layer= Tensor(\"adanet/iteration_0/subnetwork_t0_DNN_linear/dropout/Identity:0\", shape=(?, 128), dtype=float32)\n",
      "\n",
      "*** NNGenerator : layers= (0,1)\n",
      "\n",
      "*** NNAdaNetBuilder : NN Type=DNN\n",
      "\n",
      "*** get_tf_head() : feature shape= (224, 224, 3)\n",
      "\n",
      "*** get_tf_head() : feature columns= [NumericColumn(key='images', shape=(224, 224, 3), default_value=None, dtype=tf.float32, normalizer_fn=None)]\n",
      "\n",
      "*** NNAdaNetBuilder : NN Type=DNN\n",
      "\n",
      "*** get_tf_head() : feature shape= (224, 224, 3)\n",
      "\n",
      "*** get_tf_head() : feature columns= [NumericColumn(key='images', shape=(224, 224, 3), default_value=None, dtype=tf.float32, normalizer_fn=None)]\n",
      "INFO:tensorflow:Building iteration 4\n"
     ]
    },
    {
     "name": "stderr",
     "output_type": "stream",
     "text": [
      "I0512 13:08:12.114059 140384601073472 iteration.py:250] Building iteration 4\n"
     ]
    },
    {
     "name": "stdout",
     "output_type": "stream",
     "text": [
      "INFO:tensorflow:Building subnetwork 'DNN_linear'\n"
     ]
    },
    {
     "name": "stderr",
     "output_type": "stream",
     "text": [
      "I0512 13:08:12.144763 140384601073472 iteration.py:337] Building subnetwork 'DNN_linear'\n"
     ]
    },
    {
     "name": "stdout",
     "output_type": "stream",
     "text": [
      "\n",
      "\n",
      "*** build_subnetwork() : features= {'images': <tf.Tensor 'IteratorGetNext:0' shape=(?, 224, 224, 3) dtype=float32>}\n",
      "\n",
      "\n",
      "*** build_subnetwork() : self._feature_columns= [NumericColumn(key='images', shape=(224, 224, 3), default_value=None, dtype=tf.float32, normalizer_fn=None)]\n",
      "\n",
      "\n",
      "*** build_subnetwork() : NN type= DNN / Input layer shape= (?, 150528)\n",
      "**** *** _build_dnn_subnetwork : Layers= 1\n",
      "\n",
      "\n",
      "*** build_subnetwork() : last_layer= Tensor(\"adanet/iteration_4/subnetwork_t4_DNN_linear/dense/Relu:0\", shape=(?, 128), dtype=float32)\n",
      "INFO:tensorflow:Building subnetwork 'DNN_layer_1'\n"
     ]
    },
    {
     "name": "stderr",
     "output_type": "stream",
     "text": [
      "I0512 13:08:12.340861 140384601073472 iteration.py:337] Building subnetwork 'DNN_layer_1'\n"
     ]
    },
    {
     "name": "stdout",
     "output_type": "stream",
     "text": [
      "\n",
      "\n",
      "*** build_subnetwork() : features= {'images': <tf.Tensor 'IteratorGetNext:0' shape=(?, 224, 224, 3) dtype=float32>}\n",
      "\n",
      "\n",
      "*** build_subnetwork() : self._feature_columns= [NumericColumn(key='images', shape=(224, 224, 3), default_value=None, dtype=tf.float32, normalizer_fn=None)]\n",
      "\n",
      "\n",
      "*** build_subnetwork() : NN type= DNN / Input layer shape= (?, 150528)\n",
      "**** *** _build_dnn_subnetwork : Layers= 1\n",
      "\n",
      "\n",
      "*** build_subnetwork() : last_layer= Tensor(\"adanet/iteration_4/subnetwork_t4_DNN_layer_1/dense/Relu:0\", shape=(?, 128), dtype=float32)\n",
      "WARNING:tensorflow:Using an `adanet.subnetwork.Builder#prune_previous_ensemble` is deprecated. Please use a custom `adanet.ensemble.Strategy` instead.\n"
     ]
    },
    {
     "name": "stderr",
     "output_type": "stream",
     "text": [
      "W0512 13:08:12.527478 140384601073472 tf_logging.py:161] Using an `adanet.subnetwork.Builder#prune_previous_ensemble` is deprecated. Please use a custom `adanet.ensemble.Strategy` instead.\n"
     ]
    },
    {
     "name": "stdout",
     "output_type": "stream",
     "text": [
      "WARNING:tensorflow:The `build_mixture_weights_train_op` method is deprecated. Please use the `Ensembler#build_train_op` instead.\n"
     ]
    },
    {
     "name": "stderr",
     "output_type": "stream",
     "text": [
      "W0512 13:08:12.635447 140384601073472 tf_logging.py:161] The `build_mixture_weights_train_op` method is deprecated. Please use the `Ensembler#build_train_op` instead.\n"
     ]
    },
    {
     "name": "stdout",
     "output_type": "stream",
     "text": [
      "WARNING:tensorflow:Using an `adanet.subnetwork.Builder#prune_previous_ensemble` is deprecated. Please use a custom `adanet.ensemble.Strategy` instead.\n"
     ]
    },
    {
     "name": "stderr",
     "output_type": "stream",
     "text": [
      "W0512 13:08:12.755986 140384601073472 tf_logging.py:161] Using an `adanet.subnetwork.Builder#prune_previous_ensemble` is deprecated. Please use a custom `adanet.ensemble.Strategy` instead.\n"
     ]
    },
    {
     "name": "stdout",
     "output_type": "stream",
     "text": [
      "WARNING:tensorflow:The `build_mixture_weights_train_op` method is deprecated. Please use the `Ensembler#build_train_op` instead.\n"
     ]
    },
    {
     "name": "stderr",
     "output_type": "stream",
     "text": [
      "W0512 13:08:12.857958 140384601073472 tf_logging.py:161] The `build_mixture_weights_train_op` method is deprecated. Please use the `Ensembler#build_train_op` instead.\n"
     ]
    },
    {
     "name": "stdout",
     "output_type": "stream",
     "text": [
      "INFO:tensorflow:Done calling model_fn.\n"
     ]
    },
    {
     "name": "stderr",
     "output_type": "stream",
     "text": [
      "I0512 13:08:13.028182 140384601073472 estimator.py:1113] Done calling model_fn.\n"
     ]
    },
    {
     "name": "stdout",
     "output_type": "stream",
     "text": [
      "INFO:tensorflow:Create CheckpointSaverHook.\n"
     ]
    },
    {
     "name": "stderr",
     "output_type": "stream",
     "text": [
      "I0512 13:08:13.029093 140384601073472 basic_session_run_hooks.py:527] Create CheckpointSaverHook.\n"
     ]
    },
    {
     "name": "stdout",
     "output_type": "stream",
     "text": [
      "INFO:tensorflow:Graph was finalized.\n"
     ]
    },
    {
     "name": "stderr",
     "output_type": "stream",
     "text": [
      "I0512 13:08:13.223117 140384601073472 monitored_session.py:222] Graph was finalized.\n"
     ]
    },
    {
     "name": "stdout",
     "output_type": "stream",
     "text": [
      "INFO:tensorflow:Restoring parameters from ./tmp/adanet/DNN/increment.ckpt-4\n"
     ]
    },
    {
     "name": "stderr",
     "output_type": "stream",
     "text": [
      "I0512 13:08:13.225387 140384601073472 saver.py:1270] Restoring parameters from ./tmp/adanet/DNN/increment.ckpt-4\n"
     ]
    },
    {
     "name": "stdout",
     "output_type": "stream",
     "text": [
      "INFO:tensorflow:Running local_init_op.\n"
     ]
    },
    {
     "name": "stderr",
     "output_type": "stream",
     "text": [
      "I0512 13:08:13.525748 140384601073472 session_manager.py:491] Running local_init_op.\n"
     ]
    },
    {
     "name": "stdout",
     "output_type": "stream",
     "text": [
      "INFO:tensorflow:Done running local_init_op.\n"
     ]
    },
    {
     "name": "stderr",
     "output_type": "stream",
     "text": [
      "I0512 13:08:13.570198 140384601073472 session_manager.py:493] Done running local_init_op.\n"
     ]
    },
    {
     "name": "stdout",
     "output_type": "stream",
     "text": [
      "INFO:tensorflow:Saving checkpoints for 20 into ./tmp/adanet/DNN/model.ckpt.\n"
     ]
    },
    {
     "name": "stderr",
     "output_type": "stream",
     "text": [
      "I0512 13:08:14.270357 140384601073472 basic_session_run_hooks.py:594] Saving checkpoints for 20 into ./tmp/adanet/DNN/model.ckpt.\n"
     ]
    },
    {
     "name": "stdout",
     "output_type": "stream",
     "text": [
      "INFO:tensorflow:loss = 1.0692801, step = 21\n"
     ]
    },
    {
     "name": "stderr",
     "output_type": "stream",
     "text": [
      "I0512 13:08:16.375946 140384601073472 basic_session_run_hooks.py:249] loss = 1.0692801, step = 21\n"
     ]
    },
    {
     "name": "stdout",
     "output_type": "stream",
     "text": [
      "\n",
      "*** generator() : labels shape= (414,) / label values= 1\n",
      "INFO:tensorflow:Saving checkpoints for 25 into ./tmp/adanet/DNN/model.ckpt.\n"
     ]
    },
    {
     "name": "stderr",
     "output_type": "stream",
     "text": [
      "I0512 13:08:17.670891 140384601073472 basic_session_run_hooks.py:594] Saving checkpoints for 25 into ./tmp/adanet/DNN/model.ckpt.\n"
     ]
    },
    {
     "name": "stdout",
     "output_type": "stream",
     "text": [
      "\n",
      "*** input_fn() : feature_shape= (224, 224, 3) / label_shape= [1]\n",
      "\n",
      "*** input_fn : TEST / feature_shape= (224, 224, 3)\n",
      "\n",
      "*** preprocess_color_image() : label shape= ()\n",
      "\n",
      "***_input_fn() : Label shape =[1]\n",
      "INFO:tensorflow:Calling model_fn.\n"
     ]
    },
    {
     "name": "stderr",
     "output_type": "stream",
     "text": [
      "I0512 13:08:18.240628 140384601073472 estimator.py:1111] Calling model_fn.\n"
     ]
    },
    {
     "name": "stdout",
     "output_type": "stream",
     "text": [
      "\n",
      "*** NNGenerator : layers= (0,1)\n",
      "\n",
      "*** NNAdaNetBuilder : NN Type=DNN\n",
      "\n",
      "*** get_tf_head() : feature shape= (224, 224, 3)\n",
      "\n",
      "*** get_tf_head() : feature columns= [NumericColumn(key='images', shape=(224, 224, 3), default_value=None, dtype=tf.float32, normalizer_fn=None)]\n",
      "\n",
      "*** NNAdaNetBuilder : NN Type=DNN\n",
      "\n",
      "*** get_tf_head() : feature shape= (224, 224, 3)\n",
      "\n",
      "*** get_tf_head() : feature columns= [NumericColumn(key='images', shape=(224, 224, 3), default_value=None, dtype=tf.float32, normalizer_fn=None)]\n",
      "INFO:tensorflow:Rebuilding iteration 0\n"
     ]
    },
    {
     "name": "stderr",
     "output_type": "stream",
     "text": [
      "I0512 13:08:18.245877 140384601073472 iteration.py:250] Rebuilding iteration 0\n"
     ]
    },
    {
     "name": "stdout",
     "output_type": "stream",
     "text": [
      "INFO:tensorflow:Rebuilding subnetwork 'DNN_linear'\n"
     ]
    },
    {
     "name": "stderr",
     "output_type": "stream",
     "text": [
      "I0512 13:08:18.250720 140384601073472 iteration.py:337] Rebuilding subnetwork 'DNN_linear'\n"
     ]
    },
    {
     "name": "stdout",
     "output_type": "stream",
     "text": [
      "\n",
      "\n",
      "*** build_subnetwork() : features= {'images': <tf.Tensor 'IteratorGetNext:0' shape=(?, 224, 224, 3) dtype=float32>}\n",
      "\n",
      "\n",
      "*** build_subnetwork() : self._feature_columns= [NumericColumn(key='images', shape=(224, 224, 3), default_value=None, dtype=tf.float32, normalizer_fn=None)]\n",
      "\n",
      "\n",
      "*** build_subnetwork() : NN type= DNN / Input layer shape= (?, 150528)\n",
      "**** *** _build_dnn_subnetwork : Layers= 1\n",
      "\n",
      "\n",
      "*** build_subnetwork() : last_layer= Tensor(\"adanet/iteration_0/subnetwork_t0_DNN_linear/dropout/Identity:0\", shape=(?, 128), dtype=float32)\n",
      "\n",
      "*** NNGenerator : layers= (0,1)\n",
      "\n",
      "*** NNAdaNetBuilder : NN Type=DNN\n",
      "\n",
      "*** get_tf_head() : feature shape= (224, 224, 3)\n",
      "\n",
      "*** get_tf_head() : feature columns= [NumericColumn(key='images', shape=(224, 224, 3), default_value=None, dtype=tf.float32, normalizer_fn=None)]\n",
      "\n",
      "*** NNAdaNetBuilder : NN Type=DNN\n",
      "\n",
      "*** get_tf_head() : feature shape= (224, 224, 3)\n",
      "\n",
      "*** get_tf_head() : feature columns= [NumericColumn(key='images', shape=(224, 224, 3), default_value=None, dtype=tf.float32, normalizer_fn=None)]\n",
      "INFO:tensorflow:Building iteration 4\n"
     ]
    },
    {
     "name": "stderr",
     "output_type": "stream",
     "text": [
      "I0512 13:08:18.886253 140384601073472 iteration.py:250] Building iteration 4\n"
     ]
    },
    {
     "name": "stdout",
     "output_type": "stream",
     "text": [
      "INFO:tensorflow:Building subnetwork 'DNN_linear'\n"
     ]
    },
    {
     "name": "stderr",
     "output_type": "stream",
     "text": [
      "I0512 13:08:18.989966 140384601073472 iteration.py:337] Building subnetwork 'DNN_linear'\n"
     ]
    },
    {
     "name": "stdout",
     "output_type": "stream",
     "text": [
      "\n",
      "\n",
      "*** build_subnetwork() : features= {'images': <tf.Tensor 'IteratorGetNext:0' shape=(?, 224, 224, 3) dtype=float32>}\n",
      "\n",
      "\n",
      "*** build_subnetwork() : self._feature_columns= [NumericColumn(key='images', shape=(224, 224, 3), default_value=None, dtype=tf.float32, normalizer_fn=None)]\n",
      "\n",
      "\n",
      "*** build_subnetwork() : NN type= DNN / Input layer shape= (?, 150528)\n",
      "**** *** _build_dnn_subnetwork : Layers= 1\n",
      "\n",
      "\n",
      "*** build_subnetwork() : last_layer= Tensor(\"adanet/iteration_4/subnetwork_t4_DNN_linear/dropout/Identity:0\", shape=(?, 128), dtype=float32)\n",
      "INFO:tensorflow:Building subnetwork 'DNN_layer_1'\n"
     ]
    },
    {
     "name": "stderr",
     "output_type": "stream",
     "text": [
      "I0512 13:08:19.322579 140384601073472 iteration.py:337] Building subnetwork 'DNN_layer_1'\n"
     ]
    },
    {
     "name": "stdout",
     "output_type": "stream",
     "text": [
      "\n",
      "\n",
      "*** build_subnetwork() : features= {'images': <tf.Tensor 'IteratorGetNext:0' shape=(?, 224, 224, 3) dtype=float32>}\n",
      "\n",
      "\n",
      "*** build_subnetwork() : self._feature_columns= [NumericColumn(key='images', shape=(224, 224, 3), default_value=None, dtype=tf.float32, normalizer_fn=None)]\n",
      "\n",
      "\n",
      "*** build_subnetwork() : NN type= DNN / Input layer shape= (?, 150528)\n",
      "**** *** _build_dnn_subnetwork : Layers= 1\n",
      "\n",
      "\n",
      "*** build_subnetwork() : last_layer= Tensor(\"adanet/iteration_4/subnetwork_t4_DNN_layer_1/dropout/Identity:0\", shape=(?, 128), dtype=float32)\n",
      "WARNING:tensorflow:Using an `adanet.subnetwork.Builder#prune_previous_ensemble` is deprecated. Please use a custom `adanet.ensemble.Strategy` instead.\n"
     ]
    },
    {
     "name": "stderr",
     "output_type": "stream",
     "text": [
      "W0512 13:08:19.477053 140384601073472 tf_logging.py:161] Using an `adanet.subnetwork.Builder#prune_previous_ensemble` is deprecated. Please use a custom `adanet.ensemble.Strategy` instead.\n"
     ]
    },
    {
     "name": "stdout",
     "output_type": "stream",
     "text": [
      "WARNING:tensorflow:Using an `adanet.subnetwork.Builder#prune_previous_ensemble` is deprecated. Please use a custom `adanet.ensemble.Strategy` instead.\n"
     ]
    },
    {
     "name": "stderr",
     "output_type": "stream",
     "text": [
      "W0512 13:08:19.640441 140384601073472 tf_logging.py:161] Using an `adanet.subnetwork.Builder#prune_previous_ensemble` is deprecated. Please use a custom `adanet.ensemble.Strategy` instead.\n"
     ]
    },
    {
     "name": "stdout",
     "output_type": "stream",
     "text": [
      "INFO:tensorflow:Done calling model_fn.\n"
     ]
    },
    {
     "name": "stderr",
     "output_type": "stream",
     "text": [
      "I0512 13:08:19.902781 140384601073472 estimator.py:1113] Done calling model_fn.\n"
     ]
    },
    {
     "name": "stdout",
     "output_type": "stream",
     "text": [
      "INFO:tensorflow:Starting evaluation at 2019-05-12T11:08:19Z\n"
     ]
    },
    {
     "name": "stderr",
     "output_type": "stream",
     "text": [
      "I0512 13:08:19.921560 140384601073472 evaluation.py:257] Starting evaluation at 2019-05-12T11:08:19Z\n"
     ]
    },
    {
     "name": "stdout",
     "output_type": "stream",
     "text": [
      "INFO:tensorflow:Graph was finalized.\n"
     ]
    },
    {
     "name": "stderr",
     "output_type": "stream",
     "text": [
      "I0512 13:08:20.181157 140384601073472 monitored_session.py:222] Graph was finalized.\n"
     ]
    },
    {
     "name": "stdout",
     "output_type": "stream",
     "text": [
      "INFO:tensorflow:Restoring parameters from ./tmp/adanet/DNN/model.ckpt-25\n"
     ]
    },
    {
     "name": "stderr",
     "output_type": "stream",
     "text": [
      "I0512 13:08:20.183514 140384601073472 saver.py:1270] Restoring parameters from ./tmp/adanet/DNN/model.ckpt-25\n"
     ]
    },
    {
     "name": "stdout",
     "output_type": "stream",
     "text": [
      "INFO:tensorflow:Running local_init_op.\n"
     ]
    },
    {
     "name": "stderr",
     "output_type": "stream",
     "text": [
      "I0512 13:08:20.333647 140384601073472 session_manager.py:491] Running local_init_op.\n"
     ]
    },
    {
     "name": "stdout",
     "output_type": "stream",
     "text": [
      "INFO:tensorflow:Done running local_init_op.\n"
     ]
    },
    {
     "name": "stderr",
     "output_type": "stream",
     "text": [
      "I0512 13:08:20.402414 140384601073472 session_manager.py:493] Done running local_init_op.\n"
     ]
    },
    {
     "name": "stdout",
     "output_type": "stream",
     "text": [
      "\n",
      "*** generator() : labels shape= (47,) / label values= 0\n",
      "INFO:tensorflow:Finished evaluation at 2019-05-12-11:08:21\n"
     ]
    },
    {
     "name": "stderr",
     "output_type": "stream",
     "text": [
      "I0512 13:08:21.611256 140384601073472 evaluation.py:277] Finished evaluation at 2019-05-12-11:08:21\n"
     ]
    },
    {
     "name": "stdout",
     "output_type": "stream",
     "text": [
      "INFO:tensorflow:Saving dict for global step 25: accuracy = 0.38297874, average_loss = 1.1970296, global_step = 25, loss = 1.146147\n"
     ]
    },
    {
     "name": "stderr",
     "output_type": "stream",
     "text": [
      "I0512 13:08:21.613348 140384601073472 estimator.py:1979] Saving dict for global step 25: accuracy = 0.38297874, average_loss = 1.1970296, global_step = 25, loss = 1.146147\n"
     ]
    },
    {
     "name": "stdout",
     "output_type": "stream",
     "text": [
      "INFO:tensorflow:Saving 'checkpoint_path' summary for global step 25: ./tmp/adanet/DNN/model.ckpt-25\n"
     ]
    },
    {
     "name": "stderr",
     "output_type": "stream",
     "text": [
      "I0512 13:08:21.616178 140384601073472 estimator.py:2039] Saving 'checkpoint_path' summary for global step 25: ./tmp/adanet/DNN/model.ckpt-25\n"
     ]
    },
    {
     "name": "stdout",
     "output_type": "stream",
     "text": [
      "INFO:tensorflow:Loss for final step: 1.1076792.\n"
     ]
    },
    {
     "name": "stderr",
     "output_type": "stream",
     "text": [
      "I0512 13:08:21.686956 140384601073472 estimator.py:359] Loss for final step: 1.1076792.\n"
     ]
    },
    {
     "name": "stdout",
     "output_type": "stream",
     "text": [
      "\n",
      "*** input_fn() : feature_shape= (224, 224, 3) / label_shape= [1]\n",
      "\n",
      "*** preprocess_color_image() : label shape= ()\n",
      "\n",
      "***_input_fn() : Label shape =[1]\n",
      "INFO:tensorflow:Calling model_fn.\n"
     ]
    },
    {
     "name": "stderr",
     "output_type": "stream",
     "text": [
      "I0512 13:08:21.782422 140384601073472 estimator.py:1111] Calling model_fn.\n"
     ]
    },
    {
     "name": "stdout",
     "output_type": "stream",
     "text": [
      "\n",
      "*** NNGenerator : layers= (0,1)\n",
      "\n",
      "*** NNAdaNetBuilder : NN Type=DNN\n",
      "\n",
      "*** get_tf_head() : feature shape= (224, 224, 3)\n",
      "\n",
      "*** get_tf_head() : feature columns= [NumericColumn(key='images', shape=(224, 224, 3), default_value=None, dtype=tf.float32, normalizer_fn=None)]\n",
      "\n",
      "*** NNAdaNetBuilder : NN Type=DNN\n",
      "\n",
      "*** get_tf_head() : feature shape= (224, 224, 3)\n",
      "\n",
      "*** get_tf_head() : feature columns= [NumericColumn(key='images', shape=(224, 224, 3), default_value=None, dtype=tf.float32, normalizer_fn=None)]\n",
      "INFO:tensorflow:Rebuilding iteration 0\n"
     ]
    },
    {
     "name": "stderr",
     "output_type": "stream",
     "text": [
      "I0512 13:08:21.788904 140384601073472 iteration.py:250] Rebuilding iteration 0\n"
     ]
    },
    {
     "name": "stdout",
     "output_type": "stream",
     "text": [
      "INFO:tensorflow:Rebuilding subnetwork 'DNN_linear'\n"
     ]
    },
    {
     "name": "stderr",
     "output_type": "stream",
     "text": [
      "I0512 13:08:21.794011 140384601073472 iteration.py:337] Rebuilding subnetwork 'DNN_linear'\n"
     ]
    },
    {
     "name": "stdout",
     "output_type": "stream",
     "text": [
      "\n",
      "\n",
      "*** build_subnetwork() : features= {'images': <tf.Tensor 'IteratorGetNext:0' shape=(?, 224, 224, 3) dtype=float32>}\n",
      "\n",
      "\n",
      "*** build_subnetwork() : self._feature_columns= [NumericColumn(key='images', shape=(224, 224, 3), default_value=None, dtype=tf.float32, normalizer_fn=None)]\n",
      "\n",
      "\n",
      "*** build_subnetwork() : NN type= DNN / Input layer shape= (?, 150528)\n",
      "**** *** _build_dnn_subnetwork : Layers= 1\n",
      "\n",
      "\n",
      "*** build_subnetwork() : last_layer= Tensor(\"adanet/iteration_0/subnetwork_t0_DNN_linear/dropout/Identity:0\", shape=(?, 128), dtype=float32)\n",
      "\n",
      "*** NNGenerator : layers= (0,1)\n",
      "\n",
      "*** NNAdaNetBuilder : NN Type=DNN\n",
      "\n",
      "*** get_tf_head() : feature shape= (224, 224, 3)\n",
      "\n",
      "*** get_tf_head() : feature columns= [NumericColumn(key='images', shape=(224, 224, 3), default_value=None, dtype=tf.float32, normalizer_fn=None)]\n",
      "\n",
      "*** NNAdaNetBuilder : NN Type=DNN\n",
      "\n",
      "*** get_tf_head() : feature shape= (224, 224, 3)\n",
      "\n",
      "*** get_tf_head() : feature columns= [NumericColumn(key='images', shape=(224, 224, 3), default_value=None, dtype=tf.float32, normalizer_fn=None)]\n",
      "INFO:tensorflow:Building iteration 4\n"
     ]
    },
    {
     "name": "stderr",
     "output_type": "stream",
     "text": [
      "I0512 13:08:22.670132 140384601073472 iteration.py:250] Building iteration 4\n"
     ]
    },
    {
     "name": "stdout",
     "output_type": "stream",
     "text": [
      "INFO:tensorflow:Building subnetwork 'DNN_linear'\n"
     ]
    },
    {
     "name": "stderr",
     "output_type": "stream",
     "text": [
      "I0512 13:08:22.720127 140384601073472 iteration.py:337] Building subnetwork 'DNN_linear'\n"
     ]
    },
    {
     "name": "stdout",
     "output_type": "stream",
     "text": [
      "\n",
      "\n",
      "*** build_subnetwork() : features= {'images': <tf.Tensor 'IteratorGetNext:0' shape=(?, 224, 224, 3) dtype=float32>}\n",
      "\n",
      "\n",
      "*** build_subnetwork() : self._feature_columns= [NumericColumn(key='images', shape=(224, 224, 3), default_value=None, dtype=tf.float32, normalizer_fn=None)]\n",
      "\n",
      "\n",
      "*** build_subnetwork() : NN type= DNN / Input layer shape= (?, 150528)\n",
      "**** *** _build_dnn_subnetwork : Layers= 1\n",
      "\n",
      "\n",
      "*** build_subnetwork() : last_layer= Tensor(\"adanet/iteration_4/subnetwork_t4_DNN_linear/dropout/Identity:0\", shape=(?, 128), dtype=float32)\n",
      "INFO:tensorflow:Building subnetwork 'DNN_layer_1'\n"
     ]
    },
    {
     "name": "stderr",
     "output_type": "stream",
     "text": [
      "I0512 13:08:22.898446 140384601073472 iteration.py:337] Building subnetwork 'DNN_layer_1'\n"
     ]
    },
    {
     "name": "stdout",
     "output_type": "stream",
     "text": [
      "\n",
      "\n",
      "*** build_subnetwork() : features= {'images': <tf.Tensor 'IteratorGetNext:0' shape=(?, 224, 224, 3) dtype=float32>}\n",
      "\n",
      "\n",
      "*** build_subnetwork() : self._feature_columns= [NumericColumn(key='images', shape=(224, 224, 3), default_value=None, dtype=tf.float32, normalizer_fn=None)]\n",
      "\n",
      "\n",
      "*** build_subnetwork() : NN type= DNN / Input layer shape= (?, 150528)\n",
      "**** *** _build_dnn_subnetwork : Layers= 1\n",
      "\n",
      "\n",
      "*** build_subnetwork() : last_layer= Tensor(\"adanet/iteration_4/subnetwork_t4_DNN_layer_1/dropout/Identity:0\", shape=(?, 128), dtype=float32)\n",
      "WARNING:tensorflow:Using an `adanet.subnetwork.Builder#prune_previous_ensemble` is deprecated. Please use a custom `adanet.ensemble.Strategy` instead.\n"
     ]
    },
    {
     "name": "stderr",
     "output_type": "stream",
     "text": [
      "W0512 13:08:23.091286 140384601073472 tf_logging.py:161] Using an `adanet.subnetwork.Builder#prune_previous_ensemble` is deprecated. Please use a custom `adanet.ensemble.Strategy` instead.\n"
     ]
    },
    {
     "name": "stdout",
     "output_type": "stream",
     "text": [
      "WARNING:tensorflow:Using an `adanet.subnetwork.Builder#prune_previous_ensemble` is deprecated. Please use a custom `adanet.ensemble.Strategy` instead.\n"
     ]
    },
    {
     "name": "stderr",
     "output_type": "stream",
     "text": [
      "W0512 13:08:23.213084 140384601073472 tf_logging.py:161] Using an `adanet.subnetwork.Builder#prune_previous_ensemble` is deprecated. Please use a custom `adanet.ensemble.Strategy` instead.\n"
     ]
    },
    {
     "name": "stdout",
     "output_type": "stream",
     "text": [
      "INFO:tensorflow:Restoring parameters from ./tmp/adanet/DNN/model.ckpt-25\n"
     ]
    },
    {
     "name": "stderr",
     "output_type": "stream",
     "text": [
      "I0512 13:08:23.727272 140384601073472 saver.py:1270] Restoring parameters from ./tmp/adanet/DNN/model.ckpt-25\n"
     ]
    },
    {
     "name": "stdout",
     "output_type": "stream",
     "text": [
      "WARNING:tensorflow:`tf.train.start_queue_runners()` was called when no queue runners were defined. You can safely remove the call to this deprecated function.\n"
     ]
    },
    {
     "name": "stderr",
     "output_type": "stream",
     "text": [
      "W0512 13:08:23.866248 140384601073472 queue_runner_impl.py:471] `tf.train.start_queue_runners()` was called when no queue runners were defined. You can safely remove the call to this deprecated function.\n"
     ]
    },
    {
     "name": "stdout",
     "output_type": "stream",
     "text": [
      "\n",
      "*** generator() : labels shape= (414,) / label values= 1\n",
      "\n",
      "*** generator() : labels shape= (414,) / label values= 1\n",
      "\n",
      "*** generator() : labels shape= (414,) / label values= 1\n",
      "\n",
      "*** generator() : labels shape= (414,) / label values= 1\n",
      "\n",
      "*** generator() : labels shape= (414,) / label values= 1\n",
      "\n",
      "*** generator() : labels shape= (414,) / label values= 1\n",
      "INFO:tensorflow:Done calling model_fn.\n"
     ]
    },
    {
     "name": "stderr",
     "output_type": "stream",
     "text": [
      "I0512 13:08:28.827163 140384601073472 estimator.py:1113] Done calling model_fn.\n"
     ]
    },
    {
     "name": "stdout",
     "output_type": "stream",
     "text": [
      "INFO:tensorflow:Using config: {'_model_dir': './tmp/adanet/DNN/temp_model_dir', '_tf_random_seed': 42, '_save_summary_steps': 100, '_save_checkpoints_steps': None, '_save_checkpoints_secs': 600, '_session_config': allow_soft_placement: true\n",
      "graph_options {\n",
      "  rewrite_options {\n",
      "    meta_optimizer_iterations: ONE\n",
      "  }\n",
      "}\n",
      ", '_keep_checkpoint_max': 5, '_keep_checkpoint_every_n_hours': 10000, '_log_step_count_steps': 100, '_train_distribute': None, '_device_fn': None, '_protocol': None, '_eval_distribute': None, '_experimental_distribute': None, '_service': None, '_cluster_spec': <tensorflow.python.training.server_lib.ClusterSpec object at 0x7fac8f3abef0>, '_task_type': 'worker', '_task_id': 0, '_global_id_in_cluster': 0, '_master': '', '_evaluation_master': '', '_is_chief': True, '_num_ps_replicas': 0, '_num_worker_replicas': 1}\n"
     ]
    },
    {
     "name": "stderr",
     "output_type": "stream",
     "text": [
      "I0512 13:08:28.828582 140384601073472 estimator.py:201] Using config: {'_model_dir': './tmp/adanet/DNN/temp_model_dir', '_tf_random_seed': 42, '_save_summary_steps': 100, '_save_checkpoints_steps': None, '_save_checkpoints_secs': 600, '_session_config': allow_soft_placement: true\n",
      "graph_options {\n",
      "  rewrite_options {\n",
      "    meta_optimizer_iterations: ONE\n",
      "  }\n",
      "}\n",
      ", '_keep_checkpoint_max': 5, '_keep_checkpoint_every_n_hours': 10000, '_log_step_count_steps': 100, '_train_distribute': None, '_device_fn': None, '_protocol': None, '_eval_distribute': None, '_experimental_distribute': None, '_service': None, '_cluster_spec': <tensorflow.python.training.server_lib.ClusterSpec object at 0x7fac8f3abef0>, '_task_type': 'worker', '_task_id': 0, '_global_id_in_cluster': 0, '_master': '', '_evaluation_master': '', '_is_chief': True, '_num_ps_replicas': 0, '_num_worker_replicas': 1}\n"
     ]
    },
    {
     "name": "stdout",
     "output_type": "stream",
     "text": [
      "\n",
      "*** input_fn() : feature_shape= (224, 224, 3) / label_shape= [1]\n",
      "\n",
      "*** preprocess_color_image() : label shape= ()\n",
      "\n",
      "***_input_fn() : Label shape =[1]\n",
      "INFO:tensorflow:Calling model_fn.\n"
     ]
    },
    {
     "name": "stderr",
     "output_type": "stream",
     "text": [
      "I0512 13:08:28.910062 140384601073472 estimator.py:1111] Calling model_fn.\n"
     ]
    },
    {
     "name": "stdout",
     "output_type": "stream",
     "text": [
      "\n",
      "*** NNGenerator : layers= (0,1)\n",
      "\n",
      "*** NNAdaNetBuilder : NN Type=DNN\n",
      "\n",
      "*** get_tf_head() : feature shape= (224, 224, 3)\n",
      "\n",
      "*** get_tf_head() : feature columns= [NumericColumn(key='images', shape=(224, 224, 3), default_value=None, dtype=tf.float32, normalizer_fn=None)]\n",
      "\n",
      "*** NNAdaNetBuilder : NN Type=DNN\n",
      "\n",
      "*** get_tf_head() : feature shape= (224, 224, 3)\n",
      "\n",
      "*** get_tf_head() : feature columns= [NumericColumn(key='images', shape=(224, 224, 3), default_value=None, dtype=tf.float32, normalizer_fn=None)]\n",
      "INFO:tensorflow:Rebuilding iteration 0\n"
     ]
    },
    {
     "name": "stderr",
     "output_type": "stream",
     "text": [
      "I0512 13:08:28.914030 140384601073472 iteration.py:250] Rebuilding iteration 0\n"
     ]
    },
    {
     "name": "stdout",
     "output_type": "stream",
     "text": [
      "INFO:tensorflow:Rebuilding subnetwork 'DNN_linear'\n"
     ]
    },
    {
     "name": "stderr",
     "output_type": "stream",
     "text": [
      "I0512 13:08:28.919989 140384601073472 iteration.py:337] Rebuilding subnetwork 'DNN_linear'\n"
     ]
    },
    {
     "name": "stdout",
     "output_type": "stream",
     "text": [
      "\n",
      "\n",
      "*** build_subnetwork() : features= {'images': <tf.Tensor 'IteratorGetNext:0' shape=(?, 224, 224, 3) dtype=float32>}\n",
      "\n",
      "\n",
      "*** build_subnetwork() : self._feature_columns= [NumericColumn(key='images', shape=(224, 224, 3), default_value=None, dtype=tf.float32, normalizer_fn=None)]\n",
      "\n",
      "\n",
      "*** build_subnetwork() : NN type= DNN / Input layer shape= (?, 150528)\n",
      "**** *** _build_dnn_subnetwork : Layers= 1\n",
      "\n",
      "\n",
      "*** build_subnetwork() : last_layer= Tensor(\"adanet/iteration_0/subnetwork_t0_DNN_linear/dropout/Identity:0\", shape=(?, 128), dtype=float32)\n",
      "\n",
      "*** NNGenerator : layers= (0,1)\n",
      "\n",
      "*** NNAdaNetBuilder : NN Type=DNN\n",
      "\n",
      "*** get_tf_head() : feature shape= (224, 224, 3)\n",
      "\n",
      "*** get_tf_head() : feature columns= [NumericColumn(key='images', shape=(224, 224, 3), default_value=None, dtype=tf.float32, normalizer_fn=None)]\n",
      "\n",
      "*** NNAdaNetBuilder : NN Type=DNN\n",
      "\n",
      "*** get_tf_head() : feature shape= (224, 224, 3)\n",
      "\n",
      "*** get_tf_head() : feature columns= [NumericColumn(key='images', shape=(224, 224, 3), default_value=None, dtype=tf.float32, normalizer_fn=None)]\n",
      "INFO:tensorflow:Building iteration 5\n"
     ]
    },
    {
     "name": "stderr",
     "output_type": "stream",
     "text": [
      "I0512 13:08:29.809134 140384601073472 iteration.py:250] Building iteration 5\n"
     ]
    },
    {
     "name": "stdout",
     "output_type": "stream",
     "text": [
      "INFO:tensorflow:Building subnetwork 'DNN_linear'\n"
     ]
    },
    {
     "name": "stderr",
     "output_type": "stream",
     "text": [
      "I0512 13:08:29.895903 140384601073472 iteration.py:337] Building subnetwork 'DNN_linear'\n"
     ]
    },
    {
     "name": "stdout",
     "output_type": "stream",
     "text": [
      "\n",
      "\n",
      "*** build_subnetwork() : features= {'images': <tf.Tensor 'IteratorGetNext:0' shape=(?, 224, 224, 3) dtype=float32>}\n",
      "\n",
      "\n",
      "*** build_subnetwork() : self._feature_columns= [NumericColumn(key='images', shape=(224, 224, 3), default_value=None, dtype=tf.float32, normalizer_fn=None)]\n",
      "\n",
      "\n",
      "*** build_subnetwork() : NN type= DNN / Input layer shape= (?, 150528)\n",
      "**** *** _build_dnn_subnetwork : Layers= 1\n",
      "\n",
      "\n",
      "*** build_subnetwork() : last_layer= Tensor(\"adanet/iteration_5/subnetwork_t5_DNN_linear/dense/Relu:0\", shape=(?, 128), dtype=float32)\n",
      "INFO:tensorflow:Building subnetwork 'DNN_layer_1'\n"
     ]
    },
    {
     "name": "stderr",
     "output_type": "stream",
     "text": [
      "I0512 13:08:30.237069 140384601073472 iteration.py:337] Building subnetwork 'DNN_layer_1'\n"
     ]
    },
    {
     "name": "stdout",
     "output_type": "stream",
     "text": [
      "\n",
      "\n",
      "*** build_subnetwork() : features= {'images': <tf.Tensor 'IteratorGetNext:0' shape=(?, 224, 224, 3) dtype=float32>}\n",
      "\n",
      "\n",
      "*** build_subnetwork() : self._feature_columns= [NumericColumn(key='images', shape=(224, 224, 3), default_value=None, dtype=tf.float32, normalizer_fn=None)]\n",
      "\n",
      "\n",
      "*** build_subnetwork() : NN type= DNN / Input layer shape= (?, 150528)\n",
      "**** *** _build_dnn_subnetwork : Layers= 1\n",
      "\n",
      "\n",
      "*** build_subnetwork() : last_layer= Tensor(\"adanet/iteration_5/subnetwork_t5_DNN_layer_1/dense/Relu:0\", shape=(?, 128), dtype=float32)\n",
      "WARNING:tensorflow:Using an `adanet.subnetwork.Builder#prune_previous_ensemble` is deprecated. Please use a custom `adanet.ensemble.Strategy` instead.\n"
     ]
    },
    {
     "name": "stderr",
     "output_type": "stream",
     "text": [
      "W0512 13:08:30.390924 140384601073472 tf_logging.py:161] Using an `adanet.subnetwork.Builder#prune_previous_ensemble` is deprecated. Please use a custom `adanet.ensemble.Strategy` instead.\n"
     ]
    },
    {
     "name": "stdout",
     "output_type": "stream",
     "text": [
      "WARNING:tensorflow:The `build_mixture_weights_train_op` method is deprecated. Please use the `Ensembler#build_train_op` instead.\n"
     ]
    },
    {
     "name": "stderr",
     "output_type": "stream",
     "text": [
      "W0512 13:08:30.472071 140384601073472 tf_logging.py:161] The `build_mixture_weights_train_op` method is deprecated. Please use the `Ensembler#build_train_op` instead.\n"
     ]
    },
    {
     "name": "stdout",
     "output_type": "stream",
     "text": [
      "WARNING:tensorflow:Using an `adanet.subnetwork.Builder#prune_previous_ensemble` is deprecated. Please use a custom `adanet.ensemble.Strategy` instead.\n"
     ]
    },
    {
     "name": "stderr",
     "output_type": "stream",
     "text": [
      "W0512 13:08:30.757468 140384601073472 tf_logging.py:161] Using an `adanet.subnetwork.Builder#prune_previous_ensemble` is deprecated. Please use a custom `adanet.ensemble.Strategy` instead.\n"
     ]
    },
    {
     "name": "stdout",
     "output_type": "stream",
     "text": [
      "WARNING:tensorflow:The `build_mixture_weights_train_op` method is deprecated. Please use the `Ensembler#build_train_op` instead.\n"
     ]
    },
    {
     "name": "stderr",
     "output_type": "stream",
     "text": [
      "W0512 13:08:30.865943 140384601073472 tf_logging.py:161] The `build_mixture_weights_train_op` method is deprecated. Please use the `Ensembler#build_train_op` instead.\n"
     ]
    },
    {
     "name": "stdout",
     "output_type": "stream",
     "text": [
      "INFO:tensorflow:Done calling model_fn.\n"
     ]
    },
    {
     "name": "stderr",
     "output_type": "stream",
     "text": [
      "I0512 13:08:31.458510 140384601073472 estimator.py:1113] Done calling model_fn.\n"
     ]
    },
    {
     "name": "stdout",
     "output_type": "stream",
     "text": [
      "INFO:tensorflow:Create CheckpointSaverHook.\n"
     ]
    },
    {
     "name": "stderr",
     "output_type": "stream",
     "text": [
      "I0512 13:08:31.460655 140384601073472 basic_session_run_hooks.py:527] Create CheckpointSaverHook.\n"
     ]
    },
    {
     "name": "stdout",
     "output_type": "stream",
     "text": [
      "INFO:tensorflow:Graph was finalized.\n"
     ]
    },
    {
     "name": "stderr",
     "output_type": "stream",
     "text": [
      "I0512 13:08:32.475423 140384601073472 monitored_session.py:222] Graph was finalized.\n"
     ]
    },
    {
     "name": "stdout",
     "output_type": "stream",
     "text": [
      "INFO:tensorflow:Running local_init_op.\n"
     ]
    },
    {
     "name": "stderr",
     "output_type": "stream",
     "text": [
      "I0512 13:08:33.311367 140384601073472 session_manager.py:491] Running local_init_op.\n"
     ]
    },
    {
     "name": "stdout",
     "output_type": "stream",
     "text": [
      "INFO:tensorflow:Done running local_init_op.\n"
     ]
    },
    {
     "name": "stderr",
     "output_type": "stream",
     "text": [
      "I0512 13:08:33.347382 140384601073472 session_manager.py:493] Done running local_init_op.\n"
     ]
    },
    {
     "name": "stdout",
     "output_type": "stream",
     "text": [
      "INFO:tensorflow:Saving checkpoints for 0 into ./tmp/adanet/DNN/temp_model_dir/model.ckpt.\n"
     ]
    },
    {
     "name": "stderr",
     "output_type": "stream",
     "text": [
      "I0512 13:08:33.942652 140384601073472 basic_session_run_hooks.py:594] Saving checkpoints for 0 into ./tmp/adanet/DNN/temp_model_dir/model.ckpt.\n"
     ]
    },
    {
     "name": "stdout",
     "output_type": "stream",
     "text": [
      "INFO:tensorflow:Restoring parameters from ./tmp/adanet/DNN/model.ckpt-25\n"
     ]
    },
    {
     "name": "stderr",
     "output_type": "stream",
     "text": [
      "I0512 13:08:34.534103 140384601073472 saver.py:1270] Restoring parameters from ./tmp/adanet/DNN/model.ckpt-25\n"
     ]
    },
    {
     "name": "stdout",
     "output_type": "stream",
     "text": [
      "INFO:tensorflow:loss = 1.0692801, step = 26\n"
     ]
    },
    {
     "name": "stderr",
     "output_type": "stream",
     "text": [
      "I0512 13:08:36.191318 140384601073472 basic_session_run_hooks.py:249] loss = 1.0692801, step = 26\n"
     ]
    },
    {
     "name": "stdout",
     "output_type": "stream",
     "text": [
      "INFO:tensorflow:Saving checkpoints for 26 into ./tmp/adanet/DNN/temp_model_dir/model.ckpt.\n"
     ]
    },
    {
     "name": "stderr",
     "output_type": "stream",
     "text": [
      "I0512 13:08:36.192860 140384601073472 basic_session_run_hooks.py:594] Saving checkpoints for 26 into ./tmp/adanet/DNN/temp_model_dir/model.ckpt.\n"
     ]
    },
    {
     "name": "stdout",
     "output_type": "stream",
     "text": [
      "INFO:tensorflow:Loss for final step: 1.0692801.\n"
     ]
    },
    {
     "name": "stderr",
     "output_type": "stream",
     "text": [
      "I0512 13:08:37.495833 140384601073472 estimator.py:359] Loss for final step: 1.0692801.\n"
     ]
    },
    {
     "name": "stdout",
     "output_type": "stream",
     "text": [
      "\n",
      "*** input_fn() : feature_shape= (224, 224, 3) / label_shape= [1]\n",
      "\n",
      "*** preprocess_color_image() : label shape= ()\n",
      "\n",
      "***_input_fn() : Label shape =[1]\n",
      "INFO:tensorflow:Calling model_fn.\n"
     ]
    },
    {
     "name": "stderr",
     "output_type": "stream",
     "text": [
      "I0512 13:08:37.662896 140384601073472 estimator.py:1111] Calling model_fn.\n"
     ]
    },
    {
     "name": "stdout",
     "output_type": "stream",
     "text": [
      "\n",
      "*** NNGenerator : layers= (0,1)\n",
      "\n",
      "*** NNAdaNetBuilder : NN Type=DNN\n",
      "\n",
      "*** get_tf_head() : feature shape= (224, 224, 3)\n",
      "\n",
      "*** get_tf_head() : feature columns= [NumericColumn(key='images', shape=(224, 224, 3), default_value=None, dtype=tf.float32, normalizer_fn=None)]\n",
      "\n",
      "*** NNAdaNetBuilder : NN Type=DNN\n",
      "\n",
      "*** get_tf_head() : feature shape= (224, 224, 3)\n",
      "\n",
      "*** get_tf_head() : feature columns= [NumericColumn(key='images', shape=(224, 224, 3), default_value=None, dtype=tf.float32, normalizer_fn=None)]\n",
      "INFO:tensorflow:Rebuilding iteration 0\n"
     ]
    },
    {
     "name": "stderr",
     "output_type": "stream",
     "text": [
      "I0512 13:08:37.669712 140384601073472 iteration.py:250] Rebuilding iteration 0\n"
     ]
    },
    {
     "name": "stdout",
     "output_type": "stream",
     "text": [
      "INFO:tensorflow:Rebuilding subnetwork 'DNN_linear'\n"
     ]
    },
    {
     "name": "stderr",
     "output_type": "stream",
     "text": [
      "I0512 13:08:37.674577 140384601073472 iteration.py:337] Rebuilding subnetwork 'DNN_linear'\n"
     ]
    },
    {
     "name": "stdout",
     "output_type": "stream",
     "text": [
      "\n",
      "\n",
      "*** build_subnetwork() : features= {'images': <tf.Tensor 'IteratorGetNext:0' shape=(?, 224, 224, 3) dtype=float32>}\n",
      "\n",
      "\n",
      "*** build_subnetwork() : self._feature_columns= [NumericColumn(key='images', shape=(224, 224, 3), default_value=None, dtype=tf.float32, normalizer_fn=None)]\n",
      "\n",
      "\n",
      "*** build_subnetwork() : NN type= DNN / Input layer shape= (?, 150528)\n",
      "**** *** _build_dnn_subnetwork : Layers= 1\n",
      "\n",
      "\n",
      "*** build_subnetwork() : last_layer= Tensor(\"adanet/iteration_0/subnetwork_t0_DNN_linear/dropout/Identity:0\", shape=(?, 128), dtype=float32)\n",
      "\n",
      "*** NNGenerator : layers= (0,1)\n",
      "\n",
      "*** NNAdaNetBuilder : NN Type=DNN\n",
      "\n",
      "*** get_tf_head() : feature shape= (224, 224, 3)\n",
      "\n",
      "*** get_tf_head() : feature columns= [NumericColumn(key='images', shape=(224, 224, 3), default_value=None, dtype=tf.float32, normalizer_fn=None)]\n",
      "\n",
      "*** NNAdaNetBuilder : NN Type=DNN\n",
      "\n",
      "*** get_tf_head() : feature shape= (224, 224, 3)\n",
      "\n",
      "*** get_tf_head() : feature columns= [NumericColumn(key='images', shape=(224, 224, 3), default_value=None, dtype=tf.float32, normalizer_fn=None)]\n",
      "INFO:tensorflow:Building iteration 5\n"
     ]
    },
    {
     "name": "stderr",
     "output_type": "stream",
     "text": [
      "I0512 13:08:37.973061 140384601073472 iteration.py:250] Building iteration 5\n"
     ]
    },
    {
     "name": "stdout",
     "output_type": "stream",
     "text": [
      "INFO:tensorflow:Building subnetwork 'DNN_linear'\n"
     ]
    },
    {
     "name": "stderr",
     "output_type": "stream",
     "text": [
      "I0512 13:08:38.016910 140384601073472 iteration.py:337] Building subnetwork 'DNN_linear'\n"
     ]
    },
    {
     "name": "stdout",
     "output_type": "stream",
     "text": [
      "\n",
      "\n",
      "*** build_subnetwork() : features= {'images': <tf.Tensor 'IteratorGetNext:0' shape=(?, 224, 224, 3) dtype=float32>}\n",
      "\n",
      "\n",
      "*** build_subnetwork() : self._feature_columns= [NumericColumn(key='images', shape=(224, 224, 3), default_value=None, dtype=tf.float32, normalizer_fn=None)]\n",
      "\n",
      "\n",
      "*** build_subnetwork() : NN type= DNN / Input layer shape= (?, 150528)\n",
      "**** *** _build_dnn_subnetwork : Layers= 1\n",
      "\n",
      "\n",
      "*** build_subnetwork() : last_layer= Tensor(\"adanet/iteration_5/subnetwork_t5_DNN_linear/dense/Relu:0\", shape=(?, 128), dtype=float32)\n",
      "INFO:tensorflow:Building subnetwork 'DNN_layer_1'\n"
     ]
    },
    {
     "name": "stderr",
     "output_type": "stream",
     "text": [
      "I0512 13:08:38.228567 140384601073472 iteration.py:337] Building subnetwork 'DNN_layer_1'\n"
     ]
    },
    {
     "name": "stdout",
     "output_type": "stream",
     "text": [
      "\n",
      "\n",
      "*** build_subnetwork() : features= {'images': <tf.Tensor 'IteratorGetNext:0' shape=(?, 224, 224, 3) dtype=float32>}\n",
      "\n",
      "\n",
      "*** build_subnetwork() : self._feature_columns= [NumericColumn(key='images', shape=(224, 224, 3), default_value=None, dtype=tf.float32, normalizer_fn=None)]\n",
      "\n",
      "\n",
      "*** build_subnetwork() : NN type= DNN / Input layer shape= (?, 150528)\n",
      "**** *** _build_dnn_subnetwork : Layers= 1\n",
      "\n",
      "\n",
      "*** build_subnetwork() : last_layer= Tensor(\"adanet/iteration_5/subnetwork_t5_DNN_layer_1/dense/Relu:0\", shape=(?, 128), dtype=float32)\n",
      "WARNING:tensorflow:Using an `adanet.subnetwork.Builder#prune_previous_ensemble` is deprecated. Please use a custom `adanet.ensemble.Strategy` instead.\n"
     ]
    },
    {
     "name": "stderr",
     "output_type": "stream",
     "text": [
      "W0512 13:08:38.377359 140384601073472 tf_logging.py:161] Using an `adanet.subnetwork.Builder#prune_previous_ensemble` is deprecated. Please use a custom `adanet.ensemble.Strategy` instead.\n"
     ]
    },
    {
     "name": "stdout",
     "output_type": "stream",
     "text": [
      "WARNING:tensorflow:The `build_mixture_weights_train_op` method is deprecated. Please use the `Ensembler#build_train_op` instead.\n"
     ]
    },
    {
     "name": "stderr",
     "output_type": "stream",
     "text": [
      "W0512 13:08:38.465965 140384601073472 tf_logging.py:161] The `build_mixture_weights_train_op` method is deprecated. Please use the `Ensembler#build_train_op` instead.\n"
     ]
    },
    {
     "name": "stdout",
     "output_type": "stream",
     "text": [
      "WARNING:tensorflow:Using an `adanet.subnetwork.Builder#prune_previous_ensemble` is deprecated. Please use a custom `adanet.ensemble.Strategy` instead.\n"
     ]
    },
    {
     "name": "stderr",
     "output_type": "stream",
     "text": [
      "W0512 13:08:38.616494 140384601073472 tf_logging.py:161] Using an `adanet.subnetwork.Builder#prune_previous_ensemble` is deprecated. Please use a custom `adanet.ensemble.Strategy` instead.\n"
     ]
    },
    {
     "name": "stdout",
     "output_type": "stream",
     "text": [
      "WARNING:tensorflow:The `build_mixture_weights_train_op` method is deprecated. Please use the `Ensembler#build_train_op` instead.\n"
     ]
    },
    {
     "name": "stderr",
     "output_type": "stream",
     "text": [
      "W0512 13:08:38.716496 140384601073472 tf_logging.py:161] The `build_mixture_weights_train_op` method is deprecated. Please use the `Ensembler#build_train_op` instead.\n"
     ]
    },
    {
     "name": "stdout",
     "output_type": "stream",
     "text": [
      "INFO:tensorflow:Done calling model_fn.\n"
     ]
    },
    {
     "name": "stderr",
     "output_type": "stream",
     "text": [
      "I0512 13:08:38.864319 140384601073472 estimator.py:1113] Done calling model_fn.\n"
     ]
    },
    {
     "name": "stdout",
     "output_type": "stream",
     "text": [
      "INFO:tensorflow:Create CheckpointSaverHook.\n"
     ]
    },
    {
     "name": "stderr",
     "output_type": "stream",
     "text": [
      "I0512 13:08:38.865243 140384601073472 basic_session_run_hooks.py:527] Create CheckpointSaverHook.\n"
     ]
    },
    {
     "name": "stdout",
     "output_type": "stream",
     "text": [
      "INFO:tensorflow:Graph was finalized.\n"
     ]
    },
    {
     "name": "stderr",
     "output_type": "stream",
     "text": [
      "I0512 13:08:39.045999 140384601073472 monitored_session.py:222] Graph was finalized.\n"
     ]
    },
    {
     "name": "stdout",
     "output_type": "stream",
     "text": [
      "INFO:tensorflow:Restoring parameters from ./tmp/adanet/DNN/increment.ckpt-5\n"
     ]
    },
    {
     "name": "stderr",
     "output_type": "stream",
     "text": [
      "I0512 13:08:39.048335 140384601073472 saver.py:1270] Restoring parameters from ./tmp/adanet/DNN/increment.ckpt-5\n"
     ]
    },
    {
     "name": "stdout",
     "output_type": "stream",
     "text": [
      "INFO:tensorflow:Running local_init_op.\n"
     ]
    },
    {
     "name": "stderr",
     "output_type": "stream",
     "text": [
      "I0512 13:08:39.244870 140384601073472 session_manager.py:491] Running local_init_op.\n"
     ]
    },
    {
     "name": "stdout",
     "output_type": "stream",
     "text": [
      "INFO:tensorflow:Done running local_init_op.\n"
     ]
    },
    {
     "name": "stderr",
     "output_type": "stream",
     "text": [
      "I0512 13:08:39.287116 140384601073472 session_manager.py:493] Done running local_init_op.\n"
     ]
    },
    {
     "name": "stdout",
     "output_type": "stream",
     "text": [
      "INFO:tensorflow:Saving checkpoints for 25 into ./tmp/adanet/DNN/model.ckpt.\n"
     ]
    },
    {
     "name": "stderr",
     "output_type": "stream",
     "text": [
      "I0512 13:08:40.106428 140384601073472 basic_session_run_hooks.py:594] Saving checkpoints for 25 into ./tmp/adanet/DNN/model.ckpt.\n"
     ]
    },
    {
     "name": "stdout",
     "output_type": "stream",
     "text": [
      "INFO:tensorflow:loss = 1.0692801, step = 26\n"
     ]
    },
    {
     "name": "stderr",
     "output_type": "stream",
     "text": [
      "I0512 13:08:42.515120 140384601073472 basic_session_run_hooks.py:249] loss = 1.0692801, step = 26\n"
     ]
    },
    {
     "name": "stdout",
     "output_type": "stream",
     "text": [
      "\n",
      "*** generator() : labels shape= (414,) / label values= 1\n",
      "INFO:tensorflow:Saving checkpoints for 30 into ./tmp/adanet/DNN/model.ckpt.\n"
     ]
    },
    {
     "name": "stderr",
     "output_type": "stream",
     "text": [
      "I0512 13:08:43.616969 140384601073472 basic_session_run_hooks.py:594] Saving checkpoints for 30 into ./tmp/adanet/DNN/model.ckpt.\n"
     ]
    },
    {
     "name": "stdout",
     "output_type": "stream",
     "text": [
      "\n",
      "*** input_fn() : feature_shape= (224, 224, 3) / label_shape= [1]\n",
      "\n",
      "*** input_fn : TEST / feature_shape= (224, 224, 3)\n",
      "\n",
      "*** preprocess_color_image() : label shape= ()\n",
      "\n",
      "***_input_fn() : Label shape =[1]\n",
      "INFO:tensorflow:Calling model_fn.\n"
     ]
    },
    {
     "name": "stderr",
     "output_type": "stream",
     "text": [
      "I0512 13:08:44.261969 140384601073472 estimator.py:1111] Calling model_fn.\n"
     ]
    },
    {
     "name": "stdout",
     "output_type": "stream",
     "text": [
      "\n",
      "*** NNGenerator : layers= (0,1)\n",
      "\n",
      "*** NNAdaNetBuilder : NN Type=DNN\n",
      "\n",
      "*** get_tf_head() : feature shape= (224, 224, 3)\n",
      "\n",
      "*** get_tf_head() : feature columns= [NumericColumn(key='images', shape=(224, 224, 3), default_value=None, dtype=tf.float32, normalizer_fn=None)]\n",
      "\n",
      "*** NNAdaNetBuilder : NN Type=DNN\n",
      "\n",
      "*** get_tf_head() : feature shape= (224, 224, 3)\n",
      "\n",
      "*** get_tf_head() : feature columns= [NumericColumn(key='images', shape=(224, 224, 3), default_value=None, dtype=tf.float32, normalizer_fn=None)]\n",
      "INFO:tensorflow:Rebuilding iteration 0\n"
     ]
    },
    {
     "name": "stderr",
     "output_type": "stream",
     "text": [
      "I0512 13:08:44.275565 140384601073472 iteration.py:250] Rebuilding iteration 0\n"
     ]
    },
    {
     "name": "stdout",
     "output_type": "stream",
     "text": [
      "INFO:tensorflow:Rebuilding subnetwork 'DNN_linear'\n"
     ]
    },
    {
     "name": "stderr",
     "output_type": "stream",
     "text": [
      "I0512 13:08:44.295127 140384601073472 iteration.py:337] Rebuilding subnetwork 'DNN_linear'\n"
     ]
    },
    {
     "name": "stdout",
     "output_type": "stream",
     "text": [
      "\n",
      "\n",
      "*** build_subnetwork() : features= {'images': <tf.Tensor 'IteratorGetNext:0' shape=(?, 224, 224, 3) dtype=float32>}\n",
      "\n",
      "\n",
      "*** build_subnetwork() : self._feature_columns= [NumericColumn(key='images', shape=(224, 224, 3), default_value=None, dtype=tf.float32, normalizer_fn=None)]\n",
      "\n",
      "\n",
      "*** build_subnetwork() : NN type= DNN / Input layer shape= (?, 150528)\n",
      "**** *** _build_dnn_subnetwork : Layers= 1\n",
      "\n",
      "\n",
      "*** build_subnetwork() : last_layer= Tensor(\"adanet/iteration_0/subnetwork_t0_DNN_linear/dropout/Identity:0\", shape=(?, 128), dtype=float32)\n",
      "\n",
      "*** NNGenerator : layers= (0,1)\n",
      "\n",
      "*** NNAdaNetBuilder : NN Type=DNN\n",
      "\n",
      "*** get_tf_head() : feature shape= (224, 224, 3)\n",
      "\n",
      "*** get_tf_head() : feature columns= [NumericColumn(key='images', shape=(224, 224, 3), default_value=None, dtype=tf.float32, normalizer_fn=None)]\n",
      "\n",
      "*** NNAdaNetBuilder : NN Type=DNN\n",
      "\n",
      "*** get_tf_head() : feature shape= (224, 224, 3)\n",
      "\n",
      "*** get_tf_head() : feature columns= [NumericColumn(key='images', shape=(224, 224, 3), default_value=None, dtype=tf.float32, normalizer_fn=None)]\n",
      "INFO:tensorflow:Building iteration 5\n"
     ]
    },
    {
     "name": "stderr",
     "output_type": "stream",
     "text": [
      "I0512 13:08:45.013927 140384601073472 iteration.py:250] Building iteration 5\n"
     ]
    },
    {
     "name": "stdout",
     "output_type": "stream",
     "text": [
      "INFO:tensorflow:Building subnetwork 'DNN_linear'\n"
     ]
    },
    {
     "name": "stderr",
     "output_type": "stream",
     "text": [
      "I0512 13:08:45.061692 140384601073472 iteration.py:337] Building subnetwork 'DNN_linear'\n"
     ]
    },
    {
     "name": "stdout",
     "output_type": "stream",
     "text": [
      "\n",
      "\n",
      "*** build_subnetwork() : features= {'images': <tf.Tensor 'IteratorGetNext:0' shape=(?, 224, 224, 3) dtype=float32>}\n",
      "\n",
      "\n",
      "*** build_subnetwork() : self._feature_columns= [NumericColumn(key='images', shape=(224, 224, 3), default_value=None, dtype=tf.float32, normalizer_fn=None)]\n",
      "\n",
      "\n",
      "*** build_subnetwork() : NN type= DNN / Input layer shape= (?, 150528)\n",
      "**** *** _build_dnn_subnetwork : Layers= 1\n",
      "\n",
      "\n",
      "*** build_subnetwork() : last_layer= Tensor(\"adanet/iteration_5/subnetwork_t5_DNN_linear/dropout/Identity:0\", shape=(?, 128), dtype=float32)\n",
      "INFO:tensorflow:Building subnetwork 'DNN_layer_1'\n"
     ]
    },
    {
     "name": "stderr",
     "output_type": "stream",
     "text": [
      "I0512 13:08:45.253161 140384601073472 iteration.py:337] Building subnetwork 'DNN_layer_1'\n"
     ]
    },
    {
     "name": "stdout",
     "output_type": "stream",
     "text": [
      "\n",
      "\n",
      "*** build_subnetwork() : features= {'images': <tf.Tensor 'IteratorGetNext:0' shape=(?, 224, 224, 3) dtype=float32>}\n",
      "\n",
      "\n",
      "*** build_subnetwork() : self._feature_columns= [NumericColumn(key='images', shape=(224, 224, 3), default_value=None, dtype=tf.float32, normalizer_fn=None)]\n",
      "\n",
      "\n",
      "*** build_subnetwork() : NN type= DNN / Input layer shape= (?, 150528)\n",
      "**** *** _build_dnn_subnetwork : Layers= 1\n",
      "\n",
      "\n",
      "*** build_subnetwork() : last_layer= Tensor(\"adanet/iteration_5/subnetwork_t5_DNN_layer_1/dropout/Identity:0\", shape=(?, 128), dtype=float32)\n",
      "WARNING:tensorflow:Using an `adanet.subnetwork.Builder#prune_previous_ensemble` is deprecated. Please use a custom `adanet.ensemble.Strategy` instead.\n"
     ]
    },
    {
     "name": "stderr",
     "output_type": "stream",
     "text": [
      "W0512 13:08:45.440889 140384601073472 tf_logging.py:161] Using an `adanet.subnetwork.Builder#prune_previous_ensemble` is deprecated. Please use a custom `adanet.ensemble.Strategy` instead.\n"
     ]
    },
    {
     "name": "stdout",
     "output_type": "stream",
     "text": [
      "WARNING:tensorflow:Using an `adanet.subnetwork.Builder#prune_previous_ensemble` is deprecated. Please use a custom `adanet.ensemble.Strategy` instead.\n"
     ]
    },
    {
     "name": "stderr",
     "output_type": "stream",
     "text": [
      "W0512 13:08:45.836455 140384601073472 tf_logging.py:161] Using an `adanet.subnetwork.Builder#prune_previous_ensemble` is deprecated. Please use a custom `adanet.ensemble.Strategy` instead.\n"
     ]
    },
    {
     "name": "stdout",
     "output_type": "stream",
     "text": [
      "INFO:tensorflow:Done calling model_fn.\n"
     ]
    },
    {
     "name": "stderr",
     "output_type": "stream",
     "text": [
      "I0512 13:08:46.135723 140384601073472 estimator.py:1113] Done calling model_fn.\n"
     ]
    },
    {
     "name": "stdout",
     "output_type": "stream",
     "text": [
      "INFO:tensorflow:Starting evaluation at 2019-05-12T11:08:46Z\n"
     ]
    },
    {
     "name": "stderr",
     "output_type": "stream",
     "text": [
      "I0512 13:08:46.152924 140384601073472 evaluation.py:257] Starting evaluation at 2019-05-12T11:08:46Z\n"
     ]
    },
    {
     "name": "stdout",
     "output_type": "stream",
     "text": [
      "INFO:tensorflow:Graph was finalized.\n"
     ]
    },
    {
     "name": "stderr",
     "output_type": "stream",
     "text": [
      "I0512 13:08:46.456993 140384601073472 monitored_session.py:222] Graph was finalized.\n"
     ]
    },
    {
     "name": "stdout",
     "output_type": "stream",
     "text": [
      "INFO:tensorflow:Restoring parameters from ./tmp/adanet/DNN/model.ckpt-30\n"
     ]
    },
    {
     "name": "stderr",
     "output_type": "stream",
     "text": [
      "I0512 13:08:46.459697 140384601073472 saver.py:1270] Restoring parameters from ./tmp/adanet/DNN/model.ckpt-30\n"
     ]
    },
    {
     "name": "stdout",
     "output_type": "stream",
     "text": [
      "INFO:tensorflow:Running local_init_op.\n"
     ]
    },
    {
     "name": "stderr",
     "output_type": "stream",
     "text": [
      "I0512 13:08:46.749326 140384601073472 session_manager.py:491] Running local_init_op.\n"
     ]
    },
    {
     "name": "stdout",
     "output_type": "stream",
     "text": [
      "INFO:tensorflow:Done running local_init_op.\n"
     ]
    },
    {
     "name": "stderr",
     "output_type": "stream",
     "text": [
      "I0512 13:08:46.906442 140384601073472 session_manager.py:493] Done running local_init_op.\n"
     ]
    },
    {
     "name": "stdout",
     "output_type": "stream",
     "text": [
      "\n",
      "*** generator() : labels shape= (47,) / label values= 0\n",
      "INFO:tensorflow:Finished evaluation at 2019-05-12-11:08:48\n"
     ]
    },
    {
     "name": "stderr",
     "output_type": "stream",
     "text": [
      "I0512 13:08:48.722274 140384601073472 evaluation.py:277] Finished evaluation at 2019-05-12-11:08:48\n"
     ]
    },
    {
     "name": "stdout",
     "output_type": "stream",
     "text": [
      "INFO:tensorflow:Saving dict for global step 30: accuracy = 0.38297874, average_loss = 1.1970296, global_step = 30, loss = 1.146147\n"
     ]
    },
    {
     "name": "stderr",
     "output_type": "stream",
     "text": [
      "I0512 13:08:48.724114 140384601073472 estimator.py:1979] Saving dict for global step 30: accuracy = 0.38297874, average_loss = 1.1970296, global_step = 30, loss = 1.146147\n"
     ]
    },
    {
     "name": "stdout",
     "output_type": "stream",
     "text": [
      "INFO:tensorflow:Saving 'checkpoint_path' summary for global step 30: ./tmp/adanet/DNN/model.ckpt-30\n"
     ]
    },
    {
     "name": "stderr",
     "output_type": "stream",
     "text": [
      "I0512 13:08:48.727593 140384601073472 estimator.py:2039] Saving 'checkpoint_path' summary for global step 30: ./tmp/adanet/DNN/model.ckpt-30\n"
     ]
    },
    {
     "name": "stdout",
     "output_type": "stream",
     "text": [
      "INFO:tensorflow:Loss for final step: 1.1076792.\n"
     ]
    },
    {
     "name": "stderr",
     "output_type": "stream",
     "text": [
      "I0512 13:08:48.811085 140384601073472 estimator.py:359] Loss for final step: 1.1076792.\n"
     ]
    },
    {
     "name": "stdout",
     "output_type": "stream",
     "text": [
      "\n",
      "*** input_fn() : feature_shape= (224, 224, 3) / label_shape= [1]\n",
      "\n",
      "*** preprocess_color_image() : label shape= ()\n",
      "\n",
      "***_input_fn() : Label shape =[1]\n",
      "INFO:tensorflow:Calling model_fn.\n"
     ]
    },
    {
     "name": "stderr",
     "output_type": "stream",
     "text": [
      "I0512 13:08:48.926106 140384601073472 estimator.py:1111] Calling model_fn.\n"
     ]
    },
    {
     "name": "stdout",
     "output_type": "stream",
     "text": [
      "\n",
      "*** NNGenerator : layers= (0,1)\n",
      "\n",
      "*** NNAdaNetBuilder : NN Type=DNN\n",
      "\n",
      "*** get_tf_head() : feature shape= (224, 224, 3)\n",
      "\n",
      "*** get_tf_head() : feature columns= [NumericColumn(key='images', shape=(224, 224, 3), default_value=None, dtype=tf.float32, normalizer_fn=None)]\n",
      "\n",
      "*** NNAdaNetBuilder : NN Type=DNN\n",
      "\n",
      "*** get_tf_head() : feature shape= (224, 224, 3)\n",
      "\n",
      "*** get_tf_head() : feature columns= [NumericColumn(key='images', shape=(224, 224, 3), default_value=None, dtype=tf.float32, normalizer_fn=None)]\n",
      "INFO:tensorflow:Rebuilding iteration 0\n"
     ]
    },
    {
     "name": "stderr",
     "output_type": "stream",
     "text": [
      "I0512 13:08:48.933379 140384601073472 iteration.py:250] Rebuilding iteration 0\n"
     ]
    },
    {
     "name": "stdout",
     "output_type": "stream",
     "text": [
      "INFO:tensorflow:Rebuilding subnetwork 'DNN_linear'\n"
     ]
    },
    {
     "name": "stderr",
     "output_type": "stream",
     "text": [
      "I0512 13:08:48.955019 140384601073472 iteration.py:337] Rebuilding subnetwork 'DNN_linear'\n"
     ]
    },
    {
     "name": "stdout",
     "output_type": "stream",
     "text": [
      "\n",
      "\n",
      "*** build_subnetwork() : features= {'images': <tf.Tensor 'IteratorGetNext:0' shape=(?, 224, 224, 3) dtype=float32>}\n",
      "\n",
      "\n",
      "*** build_subnetwork() : self._feature_columns= [NumericColumn(key='images', shape=(224, 224, 3), default_value=None, dtype=tf.float32, normalizer_fn=None)]\n",
      "\n",
      "\n",
      "*** build_subnetwork() : NN type= DNN / Input layer shape= (?, 150528)\n",
      "**** *** _build_dnn_subnetwork : Layers= 1\n",
      "\n",
      "\n",
      "*** build_subnetwork() : last_layer= Tensor(\"adanet/iteration_0/subnetwork_t0_DNN_linear/dropout/Identity:0\", shape=(?, 128), dtype=float32)\n",
      "\n",
      "*** NNGenerator : layers= (0,1)\n",
      "\n",
      "*** NNAdaNetBuilder : NN Type=DNN\n",
      "\n",
      "*** get_tf_head() : feature shape= (224, 224, 3)\n",
      "\n",
      "*** get_tf_head() : feature columns= [NumericColumn(key='images', shape=(224, 224, 3), default_value=None, dtype=tf.float32, normalizer_fn=None)]\n",
      "\n",
      "*** NNAdaNetBuilder : NN Type=DNN\n",
      "\n",
      "*** get_tf_head() : feature shape= (224, 224, 3)\n",
      "\n",
      "*** get_tf_head() : feature columns= [NumericColumn(key='images', shape=(224, 224, 3), default_value=None, dtype=tf.float32, normalizer_fn=None)]\n",
      "INFO:tensorflow:Building iteration 5\n"
     ]
    },
    {
     "name": "stderr",
     "output_type": "stream",
     "text": [
      "I0512 13:08:49.483929 140384601073472 iteration.py:250] Building iteration 5\n"
     ]
    },
    {
     "name": "stdout",
     "output_type": "stream",
     "text": [
      "INFO:tensorflow:Building subnetwork 'DNN_linear'\n"
     ]
    },
    {
     "name": "stderr",
     "output_type": "stream",
     "text": [
      "I0512 13:08:49.529728 140384601073472 iteration.py:337] Building subnetwork 'DNN_linear'\n"
     ]
    },
    {
     "name": "stdout",
     "output_type": "stream",
     "text": [
      "\n",
      "\n",
      "*** build_subnetwork() : features= {'images': <tf.Tensor 'IteratorGetNext:0' shape=(?, 224, 224, 3) dtype=float32>}\n",
      "\n",
      "\n",
      "*** build_subnetwork() : self._feature_columns= [NumericColumn(key='images', shape=(224, 224, 3), default_value=None, dtype=tf.float32, normalizer_fn=None)]\n",
      "\n",
      "\n",
      "*** build_subnetwork() : NN type= DNN / Input layer shape= (?, 150528)\n",
      "**** *** _build_dnn_subnetwork : Layers= 1\n",
      "\n",
      "\n",
      "*** build_subnetwork() : last_layer= Tensor(\"adanet/iteration_5/subnetwork_t5_DNN_linear/dropout/Identity:0\", shape=(?, 128), dtype=float32)\n",
      "INFO:tensorflow:Building subnetwork 'DNN_layer_1'\n"
     ]
    },
    {
     "name": "stderr",
     "output_type": "stream",
     "text": [
      "I0512 13:08:49.665122 140384601073472 iteration.py:337] Building subnetwork 'DNN_layer_1'\n"
     ]
    },
    {
     "name": "stdout",
     "output_type": "stream",
     "text": [
      "\n",
      "\n",
      "*** build_subnetwork() : features= {'images': <tf.Tensor 'IteratorGetNext:0' shape=(?, 224, 224, 3) dtype=float32>}\n",
      "\n",
      "\n",
      "*** build_subnetwork() : self._feature_columns= [NumericColumn(key='images', shape=(224, 224, 3), default_value=None, dtype=tf.float32, normalizer_fn=None)]\n",
      "\n",
      "\n",
      "*** build_subnetwork() : NN type= DNN / Input layer shape= (?, 150528)\n",
      "**** *** _build_dnn_subnetwork : Layers= 1\n",
      "\n",
      "\n",
      "*** build_subnetwork() : last_layer= Tensor(\"adanet/iteration_5/subnetwork_t5_DNN_layer_1/dropout/Identity:0\", shape=(?, 128), dtype=float32)\n",
      "WARNING:tensorflow:Using an `adanet.subnetwork.Builder#prune_previous_ensemble` is deprecated. Please use a custom `adanet.ensemble.Strategy` instead.\n"
     ]
    },
    {
     "name": "stderr",
     "output_type": "stream",
     "text": [
      "W0512 13:08:50.000500 140384601073472 tf_logging.py:161] Using an `adanet.subnetwork.Builder#prune_previous_ensemble` is deprecated. Please use a custom `adanet.ensemble.Strategy` instead.\n"
     ]
    },
    {
     "name": "stdout",
     "output_type": "stream",
     "text": [
      "WARNING:tensorflow:Using an `adanet.subnetwork.Builder#prune_previous_ensemble` is deprecated. Please use a custom `adanet.ensemble.Strategy` instead.\n"
     ]
    },
    {
     "name": "stderr",
     "output_type": "stream",
     "text": [
      "W0512 13:08:50.163672 140384601073472 tf_logging.py:161] Using an `adanet.subnetwork.Builder#prune_previous_ensemble` is deprecated. Please use a custom `adanet.ensemble.Strategy` instead.\n"
     ]
    },
    {
     "name": "stdout",
     "output_type": "stream",
     "text": [
      "INFO:tensorflow:Restoring parameters from ./tmp/adanet/DNN/model.ckpt-30\n"
     ]
    },
    {
     "name": "stderr",
     "output_type": "stream",
     "text": [
      "I0512 13:08:50.717944 140384601073472 saver.py:1270] Restoring parameters from ./tmp/adanet/DNN/model.ckpt-30\n"
     ]
    },
    {
     "name": "stdout",
     "output_type": "stream",
     "text": [
      "WARNING:tensorflow:`tf.train.start_queue_runners()` was called when no queue runners were defined. You can safely remove the call to this deprecated function.\n"
     ]
    },
    {
     "name": "stderr",
     "output_type": "stream",
     "text": [
      "W0512 13:08:50.857211 140384601073472 queue_runner_impl.py:471] `tf.train.start_queue_runners()` was called when no queue runners were defined. You can safely remove the call to this deprecated function.\n"
     ]
    },
    {
     "name": "stdout",
     "output_type": "stream",
     "text": [
      "\n",
      "*** generator() : labels shape= (414,) / label values= 1\n",
      "\n",
      "*** generator() : labels shape= (414,) / label values= 1\n",
      "\n",
      "*** generator() : labels shape= (414,) / label values= 1\n",
      "\n",
      "*** generator() : labels shape= (414,) / label values= 1\n",
      "\n",
      "*** generator() : labels shape= (414,) / label values= 1\n",
      "\n",
      "*** generator() : labels shape= (414,) / label values= 1\n",
      "INFO:tensorflow:Done calling model_fn.\n"
     ]
    },
    {
     "name": "stderr",
     "output_type": "stream",
     "text": [
      "I0512 13:08:55.312484 140384601073472 estimator.py:1113] Done calling model_fn.\n"
     ]
    },
    {
     "name": "stdout",
     "output_type": "stream",
     "text": [
      "INFO:tensorflow:Using config: {'_model_dir': './tmp/adanet/DNN/temp_model_dir', '_tf_random_seed': 42, '_save_summary_steps': 100, '_save_checkpoints_steps': None, '_save_checkpoints_secs': 600, '_session_config': allow_soft_placement: true\n",
      "graph_options {\n",
      "  rewrite_options {\n",
      "    meta_optimizer_iterations: ONE\n",
      "  }\n",
      "}\n",
      ", '_keep_checkpoint_max': 5, '_keep_checkpoint_every_n_hours': 10000, '_log_step_count_steps': 100, '_train_distribute': None, '_device_fn': None, '_protocol': None, '_eval_distribute': None, '_experimental_distribute': None, '_service': None, '_cluster_spec': <tensorflow.python.training.server_lib.ClusterSpec object at 0x7fac709e3438>, '_task_type': 'worker', '_task_id': 0, '_global_id_in_cluster': 0, '_master': '', '_evaluation_master': '', '_is_chief': True, '_num_ps_replicas': 0, '_num_worker_replicas': 1}\n"
     ]
    },
    {
     "name": "stderr",
     "output_type": "stream",
     "text": [
      "I0512 13:08:55.316308 140384601073472 estimator.py:201] Using config: {'_model_dir': './tmp/adanet/DNN/temp_model_dir', '_tf_random_seed': 42, '_save_summary_steps': 100, '_save_checkpoints_steps': None, '_save_checkpoints_secs': 600, '_session_config': allow_soft_placement: true\n",
      "graph_options {\n",
      "  rewrite_options {\n",
      "    meta_optimizer_iterations: ONE\n",
      "  }\n",
      "}\n",
      ", '_keep_checkpoint_max': 5, '_keep_checkpoint_every_n_hours': 10000, '_log_step_count_steps': 100, '_train_distribute': None, '_device_fn': None, '_protocol': None, '_eval_distribute': None, '_experimental_distribute': None, '_service': None, '_cluster_spec': <tensorflow.python.training.server_lib.ClusterSpec object at 0x7fac709e3438>, '_task_type': 'worker', '_task_id': 0, '_global_id_in_cluster': 0, '_master': '', '_evaluation_master': '', '_is_chief': True, '_num_ps_replicas': 0, '_num_worker_replicas': 1}\n"
     ]
    },
    {
     "name": "stdout",
     "output_type": "stream",
     "text": [
      "\n",
      "*** input_fn() : feature_shape= (224, 224, 3) / label_shape= [1]\n",
      "\n",
      "*** preprocess_color_image() : label shape= ()\n",
      "\n",
      "***_input_fn() : Label shape =[1]\n",
      "INFO:tensorflow:Calling model_fn.\n"
     ]
    },
    {
     "name": "stderr",
     "output_type": "stream",
     "text": [
      "I0512 13:08:55.469547 140384601073472 estimator.py:1111] Calling model_fn.\n"
     ]
    },
    {
     "name": "stdout",
     "output_type": "stream",
     "text": [
      "\n",
      "*** NNGenerator : layers= (0,1)\n",
      "\n",
      "*** NNAdaNetBuilder : NN Type=DNN\n",
      "\n",
      "*** get_tf_head() : feature shape= (224, 224, 3)\n",
      "\n",
      "*** get_tf_head() : feature columns= [NumericColumn(key='images', shape=(224, 224, 3), default_value=None, dtype=tf.float32, normalizer_fn=None)]\n",
      "\n",
      "*** NNAdaNetBuilder : NN Type=DNN\n",
      "\n",
      "*** get_tf_head() : feature shape= (224, 224, 3)\n",
      "\n",
      "*** get_tf_head() : feature columns= [NumericColumn(key='images', shape=(224, 224, 3), default_value=None, dtype=tf.float32, normalizer_fn=None)]\n",
      "INFO:tensorflow:Rebuilding iteration 0\n"
     ]
    },
    {
     "name": "stderr",
     "output_type": "stream",
     "text": [
      "I0512 13:08:55.477696 140384601073472 iteration.py:250] Rebuilding iteration 0\n"
     ]
    },
    {
     "name": "stdout",
     "output_type": "stream",
     "text": [
      "INFO:tensorflow:Rebuilding subnetwork 'DNN_linear'\n"
     ]
    },
    {
     "name": "stderr",
     "output_type": "stream",
     "text": [
      "I0512 13:08:55.494319 140384601073472 iteration.py:337] Rebuilding subnetwork 'DNN_linear'\n"
     ]
    },
    {
     "name": "stdout",
     "output_type": "stream",
     "text": [
      "\n",
      "\n",
      "*** build_subnetwork() : features= {'images': <tf.Tensor 'IteratorGetNext:0' shape=(?, 224, 224, 3) dtype=float32>}\n",
      "\n",
      "\n",
      "*** build_subnetwork() : self._feature_columns= [NumericColumn(key='images', shape=(224, 224, 3), default_value=None, dtype=tf.float32, normalizer_fn=None)]\n",
      "\n",
      "\n",
      "*** build_subnetwork() : NN type= DNN / Input layer shape= (?, 150528)\n",
      "**** *** _build_dnn_subnetwork : Layers= 1\n",
      "\n",
      "\n",
      "*** build_subnetwork() : last_layer= Tensor(\"adanet/iteration_0/subnetwork_t0_DNN_linear/dropout/Identity:0\", shape=(?, 128), dtype=float32)\n",
      "\n",
      "*** NNGenerator : layers= (0,1)\n",
      "\n",
      "*** NNAdaNetBuilder : NN Type=DNN\n",
      "\n",
      "*** get_tf_head() : feature shape= (224, 224, 3)\n",
      "\n",
      "*** get_tf_head() : feature columns= [NumericColumn(key='images', shape=(224, 224, 3), default_value=None, dtype=tf.float32, normalizer_fn=None)]\n",
      "\n",
      "*** NNAdaNetBuilder : NN Type=DNN\n",
      "\n",
      "*** get_tf_head() : feature shape= (224, 224, 3)\n",
      "\n",
      "*** get_tf_head() : feature columns= [NumericColumn(key='images', shape=(224, 224, 3), default_value=None, dtype=tf.float32, normalizer_fn=None)]\n",
      "INFO:tensorflow:Building iteration 6\n"
     ]
    },
    {
     "name": "stderr",
     "output_type": "stream",
     "text": [
      "I0512 13:08:55.725475 140384601073472 iteration.py:250] Building iteration 6\n"
     ]
    },
    {
     "name": "stdout",
     "output_type": "stream",
     "text": [
      "INFO:tensorflow:Building subnetwork 'DNN_linear'\n"
     ]
    },
    {
     "name": "stderr",
     "output_type": "stream",
     "text": [
      "I0512 13:08:55.746950 140384601073472 iteration.py:337] Building subnetwork 'DNN_linear'\n"
     ]
    },
    {
     "name": "stdout",
     "output_type": "stream",
     "text": [
      "\n",
      "\n",
      "*** build_subnetwork() : features= {'images': <tf.Tensor 'IteratorGetNext:0' shape=(?, 224, 224, 3) dtype=float32>}\n",
      "\n",
      "\n",
      "*** build_subnetwork() : self._feature_columns= [NumericColumn(key='images', shape=(224, 224, 3), default_value=None, dtype=tf.float32, normalizer_fn=None)]\n",
      "\n",
      "\n",
      "*** build_subnetwork() : NN type= DNN / Input layer shape= (?, 150528)\n",
      "**** *** _build_dnn_subnetwork : Layers= 1\n",
      "\n",
      "\n",
      "*** build_subnetwork() : last_layer= Tensor(\"adanet/iteration_6/subnetwork_t6_DNN_linear/dense/Relu:0\", shape=(?, 128), dtype=float32)\n",
      "INFO:tensorflow:Building subnetwork 'DNN_layer_1'\n"
     ]
    },
    {
     "name": "stderr",
     "output_type": "stream",
     "text": [
      "I0512 13:08:55.880722 140384601073472 iteration.py:337] Building subnetwork 'DNN_layer_1'\n"
     ]
    },
    {
     "name": "stdout",
     "output_type": "stream",
     "text": [
      "\n",
      "\n",
      "*** build_subnetwork() : features= {'images': <tf.Tensor 'IteratorGetNext:0' shape=(?, 224, 224, 3) dtype=float32>}\n",
      "\n",
      "\n",
      "*** build_subnetwork() : self._feature_columns= [NumericColumn(key='images', shape=(224, 224, 3), default_value=None, dtype=tf.float32, normalizer_fn=None)]\n",
      "\n",
      "\n",
      "*** build_subnetwork() : NN type= DNN / Input layer shape= (?, 150528)\n",
      "**** *** _build_dnn_subnetwork : Layers= 1\n",
      "\n",
      "\n",
      "*** build_subnetwork() : last_layer= Tensor(\"adanet/iteration_6/subnetwork_t6_DNN_layer_1/dense/Relu:0\", shape=(?, 128), dtype=float32)\n",
      "WARNING:tensorflow:Using an `adanet.subnetwork.Builder#prune_previous_ensemble` is deprecated. Please use a custom `adanet.ensemble.Strategy` instead.\n"
     ]
    },
    {
     "name": "stderr",
     "output_type": "stream",
     "text": [
      "W0512 13:08:56.236381 140384601073472 tf_logging.py:161] Using an `adanet.subnetwork.Builder#prune_previous_ensemble` is deprecated. Please use a custom `adanet.ensemble.Strategy` instead.\n"
     ]
    },
    {
     "name": "stdout",
     "output_type": "stream",
     "text": [
      "WARNING:tensorflow:The `build_mixture_weights_train_op` method is deprecated. Please use the `Ensembler#build_train_op` instead.\n"
     ]
    },
    {
     "name": "stderr",
     "output_type": "stream",
     "text": [
      "W0512 13:08:56.449641 140384601073472 tf_logging.py:161] The `build_mixture_weights_train_op` method is deprecated. Please use the `Ensembler#build_train_op` instead.\n"
     ]
    },
    {
     "name": "stdout",
     "output_type": "stream",
     "text": [
      "WARNING:tensorflow:Using an `adanet.subnetwork.Builder#prune_previous_ensemble` is deprecated. Please use a custom `adanet.ensemble.Strategy` instead.\n"
     ]
    },
    {
     "name": "stderr",
     "output_type": "stream",
     "text": [
      "W0512 13:08:56.539552 140384601073472 tf_logging.py:161] Using an `adanet.subnetwork.Builder#prune_previous_ensemble` is deprecated. Please use a custom `adanet.ensemble.Strategy` instead.\n"
     ]
    },
    {
     "name": "stdout",
     "output_type": "stream",
     "text": [
      "WARNING:tensorflow:The `build_mixture_weights_train_op` method is deprecated. Please use the `Ensembler#build_train_op` instead.\n"
     ]
    },
    {
     "name": "stderr",
     "output_type": "stream",
     "text": [
      "W0512 13:08:56.600507 140384601073472 tf_logging.py:161] The `build_mixture_weights_train_op` method is deprecated. Please use the `Ensembler#build_train_op` instead.\n"
     ]
    },
    {
     "name": "stdout",
     "output_type": "stream",
     "text": [
      "INFO:tensorflow:Done calling model_fn.\n"
     ]
    },
    {
     "name": "stderr",
     "output_type": "stream",
     "text": [
      "I0512 13:08:56.729764 140384601073472 estimator.py:1113] Done calling model_fn.\n"
     ]
    },
    {
     "name": "stdout",
     "output_type": "stream",
     "text": [
      "INFO:tensorflow:Create CheckpointSaverHook.\n"
     ]
    },
    {
     "name": "stderr",
     "output_type": "stream",
     "text": [
      "I0512 13:08:56.731007 140384601073472 basic_session_run_hooks.py:527] Create CheckpointSaverHook.\n"
     ]
    },
    {
     "name": "stdout",
     "output_type": "stream",
     "text": [
      "INFO:tensorflow:Graph was finalized.\n"
     ]
    },
    {
     "name": "stderr",
     "output_type": "stream",
     "text": [
      "I0512 13:08:57.394676 140384601073472 monitored_session.py:222] Graph was finalized.\n"
     ]
    },
    {
     "name": "stdout",
     "output_type": "stream",
     "text": [
      "INFO:tensorflow:Running local_init_op.\n"
     ]
    },
    {
     "name": "stderr",
     "output_type": "stream",
     "text": [
      "I0512 13:08:58.210706 140384601073472 session_manager.py:491] Running local_init_op.\n"
     ]
    },
    {
     "name": "stdout",
     "output_type": "stream",
     "text": [
      "INFO:tensorflow:Done running local_init_op.\n"
     ]
    },
    {
     "name": "stderr",
     "output_type": "stream",
     "text": [
      "I0512 13:08:58.241007 140384601073472 session_manager.py:493] Done running local_init_op.\n"
     ]
    },
    {
     "name": "stdout",
     "output_type": "stream",
     "text": [
      "INFO:tensorflow:Saving checkpoints for 0 into ./tmp/adanet/DNN/temp_model_dir/model.ckpt.\n"
     ]
    },
    {
     "name": "stderr",
     "output_type": "stream",
     "text": [
      "I0512 13:08:58.889045 140384601073472 basic_session_run_hooks.py:594] Saving checkpoints for 0 into ./tmp/adanet/DNN/temp_model_dir/model.ckpt.\n"
     ]
    },
    {
     "name": "stdout",
     "output_type": "stream",
     "text": [
      "INFO:tensorflow:Restoring parameters from ./tmp/adanet/DNN/model.ckpt-30\n"
     ]
    },
    {
     "name": "stderr",
     "output_type": "stream",
     "text": [
      "I0512 13:08:59.374207 140384601073472 saver.py:1270] Restoring parameters from ./tmp/adanet/DNN/model.ckpt-30\n"
     ]
    },
    {
     "name": "stdout",
     "output_type": "stream",
     "text": [
      "INFO:tensorflow:loss = 1.0692801, step = 31\n"
     ]
    },
    {
     "name": "stderr",
     "output_type": "stream",
     "text": [
      "I0512 13:09:00.937077 140384601073472 basic_session_run_hooks.py:249] loss = 1.0692801, step = 31\n"
     ]
    },
    {
     "name": "stdout",
     "output_type": "stream",
     "text": [
      "INFO:tensorflow:Saving checkpoints for 31 into ./tmp/adanet/DNN/temp_model_dir/model.ckpt.\n"
     ]
    },
    {
     "name": "stderr",
     "output_type": "stream",
     "text": [
      "I0512 13:09:00.938665 140384601073472 basic_session_run_hooks.py:594] Saving checkpoints for 31 into ./tmp/adanet/DNN/temp_model_dir/model.ckpt.\n"
     ]
    },
    {
     "name": "stdout",
     "output_type": "stream",
     "text": [
      "INFO:tensorflow:Loss for final step: 1.0692801.\n"
     ]
    },
    {
     "name": "stderr",
     "output_type": "stream",
     "text": [
      "I0512 13:09:02.202924 140384601073472 estimator.py:359] Loss for final step: 1.0692801.\n"
     ]
    },
    {
     "name": "stdout",
     "output_type": "stream",
     "text": [
      "\n",
      "*** input_fn() : feature_shape= (224, 224, 3) / label_shape= [1]\n",
      "\n",
      "*** preprocess_color_image() : label shape= ()\n",
      "\n",
      "***_input_fn() : Label shape =[1]\n",
      "INFO:tensorflow:Calling model_fn.\n"
     ]
    },
    {
     "name": "stderr",
     "output_type": "stream",
     "text": [
      "I0512 13:09:02.377164 140384601073472 estimator.py:1111] Calling model_fn.\n"
     ]
    },
    {
     "name": "stdout",
     "output_type": "stream",
     "text": [
      "\n",
      "*** NNGenerator : layers= (0,1)\n",
      "\n",
      "*** NNAdaNetBuilder : NN Type=DNN\n",
      "\n",
      "*** get_tf_head() : feature shape= (224, 224, 3)\n",
      "\n",
      "*** get_tf_head() : feature columns= [NumericColumn(key='images', shape=(224, 224, 3), default_value=None, dtype=tf.float32, normalizer_fn=None)]\n",
      "\n",
      "*** NNAdaNetBuilder : NN Type=DNN\n",
      "\n",
      "*** get_tf_head() : feature shape= (224, 224, 3)\n",
      "\n",
      "*** get_tf_head() : feature columns= [NumericColumn(key='images', shape=(224, 224, 3), default_value=None, dtype=tf.float32, normalizer_fn=None)]\n",
      "INFO:tensorflow:Rebuilding iteration 0\n"
     ]
    },
    {
     "name": "stderr",
     "output_type": "stream",
     "text": [
      "I0512 13:09:02.381107 140384601073472 iteration.py:250] Rebuilding iteration 0\n"
     ]
    },
    {
     "name": "stdout",
     "output_type": "stream",
     "text": [
      "INFO:tensorflow:Rebuilding subnetwork 'DNN_linear'\n"
     ]
    },
    {
     "name": "stderr",
     "output_type": "stream",
     "text": [
      "I0512 13:09:02.386131 140384601073472 iteration.py:337] Rebuilding subnetwork 'DNN_linear'\n"
     ]
    },
    {
     "name": "stdout",
     "output_type": "stream",
     "text": [
      "\n",
      "\n",
      "*** build_subnetwork() : features= {'images': <tf.Tensor 'IteratorGetNext:0' shape=(?, 224, 224, 3) dtype=float32>}\n",
      "\n",
      "\n",
      "*** build_subnetwork() : self._feature_columns= [NumericColumn(key='images', shape=(224, 224, 3), default_value=None, dtype=tf.float32, normalizer_fn=None)]\n",
      "\n",
      "\n",
      "*** build_subnetwork() : NN type= DNN / Input layer shape= (?, 150528)\n",
      "**** *** _build_dnn_subnetwork : Layers= 1\n",
      "\n",
      "\n",
      "*** build_subnetwork() : last_layer= Tensor(\"adanet/iteration_0/subnetwork_t0_DNN_linear/dropout/Identity:0\", shape=(?, 128), dtype=float32)\n",
      "\n",
      "*** NNGenerator : layers= (0,1)\n",
      "\n",
      "*** NNAdaNetBuilder : NN Type=DNN\n",
      "\n",
      "*** get_tf_head() : feature shape= (224, 224, 3)\n",
      "\n",
      "*** get_tf_head() : feature columns= [NumericColumn(key='images', shape=(224, 224, 3), default_value=None, dtype=tf.float32, normalizer_fn=None)]\n",
      "\n",
      "*** NNAdaNetBuilder : NN Type=DNN\n",
      "\n",
      "*** get_tf_head() : feature shape= (224, 224, 3)\n",
      "\n",
      "*** get_tf_head() : feature columns= [NumericColumn(key='images', shape=(224, 224, 3), default_value=None, dtype=tf.float32, normalizer_fn=None)]\n",
      "INFO:tensorflow:Building iteration 6\n"
     ]
    },
    {
     "name": "stderr",
     "output_type": "stream",
     "text": [
      "I0512 13:09:02.697343 140384601073472 iteration.py:250] Building iteration 6\n"
     ]
    },
    {
     "name": "stdout",
     "output_type": "stream",
     "text": [
      "INFO:tensorflow:Building subnetwork 'DNN_linear'\n"
     ]
    },
    {
     "name": "stderr",
     "output_type": "stream",
     "text": [
      "I0512 13:09:02.726809 140384601073472 iteration.py:337] Building subnetwork 'DNN_linear'\n"
     ]
    },
    {
     "name": "stdout",
     "output_type": "stream",
     "text": [
      "\n",
      "\n",
      "*** build_subnetwork() : features= {'images': <tf.Tensor 'IteratorGetNext:0' shape=(?, 224, 224, 3) dtype=float32>}\n",
      "\n",
      "\n",
      "*** build_subnetwork() : self._feature_columns= [NumericColumn(key='images', shape=(224, 224, 3), default_value=None, dtype=tf.float32, normalizer_fn=None)]\n",
      "\n",
      "\n",
      "*** build_subnetwork() : NN type= DNN / Input layer shape= (?, 150528)\n",
      "**** *** _build_dnn_subnetwork : Layers= 1\n",
      "\n",
      "\n",
      "*** build_subnetwork() : last_layer= Tensor(\"adanet/iteration_6/subnetwork_t6_DNN_linear/dense/Relu:0\", shape=(?, 128), dtype=float32)\n",
      "INFO:tensorflow:Building subnetwork 'DNN_layer_1'\n"
     ]
    },
    {
     "name": "stderr",
     "output_type": "stream",
     "text": [
      "I0512 13:09:02.925909 140384601073472 iteration.py:337] Building subnetwork 'DNN_layer_1'\n"
     ]
    },
    {
     "name": "stdout",
     "output_type": "stream",
     "text": [
      "\n",
      "\n",
      "*** build_subnetwork() : features= {'images': <tf.Tensor 'IteratorGetNext:0' shape=(?, 224, 224, 3) dtype=float32>}\n",
      "\n",
      "\n",
      "*** build_subnetwork() : self._feature_columns= [NumericColumn(key='images', shape=(224, 224, 3), default_value=None, dtype=tf.float32, normalizer_fn=None)]\n",
      "\n",
      "\n",
      "*** build_subnetwork() : NN type= DNN / Input layer shape= (?, 150528)\n",
      "**** *** _build_dnn_subnetwork : Layers= 1\n",
      "\n",
      "\n",
      "*** build_subnetwork() : last_layer= Tensor(\"adanet/iteration_6/subnetwork_t6_DNN_layer_1/dense/Relu:0\", shape=(?, 128), dtype=float32)\n",
      "WARNING:tensorflow:Using an `adanet.subnetwork.Builder#prune_previous_ensemble` is deprecated. Please use a custom `adanet.ensemble.Strategy` instead.\n"
     ]
    },
    {
     "name": "stderr",
     "output_type": "stream",
     "text": [
      "W0512 13:09:03.086999 140384601073472 tf_logging.py:161] Using an `adanet.subnetwork.Builder#prune_previous_ensemble` is deprecated. Please use a custom `adanet.ensemble.Strategy` instead.\n"
     ]
    },
    {
     "name": "stdout",
     "output_type": "stream",
     "text": [
      "WARNING:tensorflow:The `build_mixture_weights_train_op` method is deprecated. Please use the `Ensembler#build_train_op` instead.\n"
     ]
    },
    {
     "name": "stderr",
     "output_type": "stream",
     "text": [
      "W0512 13:09:03.168182 140384601073472 tf_logging.py:161] The `build_mixture_weights_train_op` method is deprecated. Please use the `Ensembler#build_train_op` instead.\n"
     ]
    },
    {
     "name": "stdout",
     "output_type": "stream",
     "text": [
      "WARNING:tensorflow:Using an `adanet.subnetwork.Builder#prune_previous_ensemble` is deprecated. Please use a custom `adanet.ensemble.Strategy` instead.\n"
     ]
    },
    {
     "name": "stderr",
     "output_type": "stream",
     "text": [
      "W0512 13:09:03.296152 140384601073472 tf_logging.py:161] Using an `adanet.subnetwork.Builder#prune_previous_ensemble` is deprecated. Please use a custom `adanet.ensemble.Strategy` instead.\n"
     ]
    },
    {
     "name": "stdout",
     "output_type": "stream",
     "text": [
      "WARNING:tensorflow:The `build_mixture_weights_train_op` method is deprecated. Please use the `Ensembler#build_train_op` instead.\n"
     ]
    },
    {
     "name": "stderr",
     "output_type": "stream",
     "text": [
      "W0512 13:09:03.397724 140384601073472 tf_logging.py:161] The `build_mixture_weights_train_op` method is deprecated. Please use the `Ensembler#build_train_op` instead.\n"
     ]
    },
    {
     "name": "stdout",
     "output_type": "stream",
     "text": [
      "INFO:tensorflow:Done calling model_fn.\n"
     ]
    },
    {
     "name": "stderr",
     "output_type": "stream",
     "text": [
      "I0512 13:09:03.562714 140384601073472 estimator.py:1113] Done calling model_fn.\n"
     ]
    },
    {
     "name": "stdout",
     "output_type": "stream",
     "text": [
      "INFO:tensorflow:Create CheckpointSaverHook.\n"
     ]
    },
    {
     "name": "stderr",
     "output_type": "stream",
     "text": [
      "I0512 13:09:03.563717 140384601073472 basic_session_run_hooks.py:527] Create CheckpointSaverHook.\n"
     ]
    },
    {
     "name": "stdout",
     "output_type": "stream",
     "text": [
      "INFO:tensorflow:Graph was finalized.\n"
     ]
    },
    {
     "name": "stderr",
     "output_type": "stream",
     "text": [
      "I0512 13:09:03.753375 140384601073472 monitored_session.py:222] Graph was finalized.\n"
     ]
    },
    {
     "name": "stdout",
     "output_type": "stream",
     "text": [
      "INFO:tensorflow:Restoring parameters from ./tmp/adanet/DNN/increment.ckpt-6\n"
     ]
    },
    {
     "name": "stderr",
     "output_type": "stream",
     "text": [
      "I0512 13:09:03.755890 140384601073472 saver.py:1270] Restoring parameters from ./tmp/adanet/DNN/increment.ckpt-6\n"
     ]
    },
    {
     "name": "stdout",
     "output_type": "stream",
     "text": [
      "INFO:tensorflow:Running local_init_op.\n"
     ]
    },
    {
     "name": "stderr",
     "output_type": "stream",
     "text": [
      "I0512 13:09:03.960277 140384601073472 session_manager.py:491] Running local_init_op.\n"
     ]
    },
    {
     "name": "stdout",
     "output_type": "stream",
     "text": [
      "INFO:tensorflow:Done running local_init_op.\n"
     ]
    },
    {
     "name": "stderr",
     "output_type": "stream",
     "text": [
      "I0512 13:09:03.992867 140384601073472 session_manager.py:493] Done running local_init_op.\n"
     ]
    },
    {
     "name": "stdout",
     "output_type": "stream",
     "text": [
      "INFO:tensorflow:Saving checkpoints for 30 into ./tmp/adanet/DNN/model.ckpt.\n"
     ]
    },
    {
     "name": "stderr",
     "output_type": "stream",
     "text": [
      "I0512 13:09:04.688596 140384601073472 basic_session_run_hooks.py:594] Saving checkpoints for 30 into ./tmp/adanet/DNN/model.ckpt.\n"
     ]
    },
    {
     "name": "stdout",
     "output_type": "stream",
     "text": [
      "INFO:tensorflow:loss = 1.0692801, step = 31\n"
     ]
    },
    {
     "name": "stderr",
     "output_type": "stream",
     "text": [
      "I0512 13:09:06.120970 140384601073472 basic_session_run_hooks.py:249] loss = 1.0692801, step = 31\n"
     ]
    },
    {
     "name": "stdout",
     "output_type": "stream",
     "text": [
      "\n",
      "*** generator() : labels shape= (414,) / label values= 1\n",
      "INFO:tensorflow:Saving checkpoints for 35 into ./tmp/adanet/DNN/model.ckpt.\n"
     ]
    },
    {
     "name": "stderr",
     "output_type": "stream",
     "text": [
      "I0512 13:09:06.839417 140384601073472 basic_session_run_hooks.py:594] Saving checkpoints for 35 into ./tmp/adanet/DNN/model.ckpt.\n"
     ]
    },
    {
     "name": "stdout",
     "output_type": "stream",
     "text": [
      "\n",
      "*** input_fn() : feature_shape= (224, 224, 3) / label_shape= [1]\n",
      "\n",
      "*** input_fn : TEST / feature_shape= (224, 224, 3)\n",
      "\n",
      "*** preprocess_color_image() : label shape= ()\n",
      "\n",
      "***_input_fn() : Label shape =[1]\n",
      "INFO:tensorflow:Calling model_fn.\n"
     ]
    },
    {
     "name": "stderr",
     "output_type": "stream",
     "text": [
      "I0512 13:09:07.433109 140384601073472 estimator.py:1111] Calling model_fn.\n"
     ]
    },
    {
     "name": "stdout",
     "output_type": "stream",
     "text": [
      "\n",
      "*** NNGenerator : layers= (0,1)\n",
      "\n",
      "*** NNAdaNetBuilder : NN Type=DNN\n",
      "\n",
      "*** get_tf_head() : feature shape= (224, 224, 3)\n",
      "\n",
      "*** get_tf_head() : feature columns= [NumericColumn(key='images', shape=(224, 224, 3), default_value=None, dtype=tf.float32, normalizer_fn=None)]\n",
      "\n",
      "*** NNAdaNetBuilder : NN Type=DNN\n",
      "\n",
      "*** get_tf_head() : feature shape= (224, 224, 3)\n",
      "\n",
      "*** get_tf_head() : feature columns= [NumericColumn(key='images', shape=(224, 224, 3), default_value=None, dtype=tf.float32, normalizer_fn=None)]\n",
      "INFO:tensorflow:Rebuilding iteration 0\n"
     ]
    },
    {
     "name": "stderr",
     "output_type": "stream",
     "text": [
      "I0512 13:09:07.454222 140384601073472 iteration.py:250] Rebuilding iteration 0\n"
     ]
    },
    {
     "name": "stdout",
     "output_type": "stream",
     "text": [
      "INFO:tensorflow:Rebuilding subnetwork 'DNN_linear'\n"
     ]
    },
    {
     "name": "stderr",
     "output_type": "stream",
     "text": [
      "I0512 13:09:07.470170 140384601073472 iteration.py:337] Rebuilding subnetwork 'DNN_linear'\n"
     ]
    },
    {
     "name": "stdout",
     "output_type": "stream",
     "text": [
      "\n",
      "\n",
      "*** build_subnetwork() : features= {'images': <tf.Tensor 'IteratorGetNext:0' shape=(?, 224, 224, 3) dtype=float32>}\n",
      "\n",
      "\n",
      "*** build_subnetwork() : self._feature_columns= [NumericColumn(key='images', shape=(224, 224, 3), default_value=None, dtype=tf.float32, normalizer_fn=None)]\n",
      "\n",
      "\n",
      "*** build_subnetwork() : NN type= DNN / Input layer shape= (?, 150528)\n",
      "**** *** _build_dnn_subnetwork : Layers= 1\n",
      "\n",
      "\n",
      "*** build_subnetwork() : last_layer= Tensor(\"adanet/iteration_0/subnetwork_t0_DNN_linear/dropout/Identity:0\", shape=(?, 128), dtype=float32)\n",
      "\n",
      "*** NNGenerator : layers= (0,1)\n",
      "\n",
      "*** NNAdaNetBuilder : NN Type=DNN\n",
      "\n",
      "*** get_tf_head() : feature shape= (224, 224, 3)\n",
      "\n",
      "*** get_tf_head() : feature columns= [NumericColumn(key='images', shape=(224, 224, 3), default_value=None, dtype=tf.float32, normalizer_fn=None)]\n",
      "\n",
      "*** NNAdaNetBuilder : NN Type=DNN\n",
      "\n",
      "*** get_tf_head() : feature shape= (224, 224, 3)\n",
      "\n",
      "*** get_tf_head() : feature columns= [NumericColumn(key='images', shape=(224, 224, 3), default_value=None, dtype=tf.float32, normalizer_fn=None)]\n",
      "INFO:tensorflow:Building iteration 6\n"
     ]
    },
    {
     "name": "stderr",
     "output_type": "stream",
     "text": [
      "I0512 13:09:07.970674 140384601073472 iteration.py:250] Building iteration 6\n"
     ]
    },
    {
     "name": "stdout",
     "output_type": "stream",
     "text": [
      "INFO:tensorflow:Building subnetwork 'DNN_linear'\n"
     ]
    },
    {
     "name": "stderr",
     "output_type": "stream",
     "text": [
      "I0512 13:09:08.430863 140384601073472 iteration.py:337] Building subnetwork 'DNN_linear'\n"
     ]
    },
    {
     "name": "stdout",
     "output_type": "stream",
     "text": [
      "\n",
      "\n",
      "*** build_subnetwork() : features= {'images': <tf.Tensor 'IteratorGetNext:0' shape=(?, 224, 224, 3) dtype=float32>}\n",
      "\n",
      "\n",
      "*** build_subnetwork() : self._feature_columns= [NumericColumn(key='images', shape=(224, 224, 3), default_value=None, dtype=tf.float32, normalizer_fn=None)]\n",
      "\n",
      "\n",
      "*** build_subnetwork() : NN type= DNN / Input layer shape= (?, 150528)\n",
      "**** *** _build_dnn_subnetwork : Layers= 1\n",
      "\n",
      "\n",
      "*** build_subnetwork() : last_layer= Tensor(\"adanet/iteration_6/subnetwork_t6_DNN_linear/dropout/Identity:0\", shape=(?, 128), dtype=float32)\n",
      "INFO:tensorflow:Building subnetwork 'DNN_layer_1'\n"
     ]
    },
    {
     "name": "stderr",
     "output_type": "stream",
     "text": [
      "I0512 13:09:08.566911 140384601073472 iteration.py:337] Building subnetwork 'DNN_layer_1'\n"
     ]
    },
    {
     "name": "stdout",
     "output_type": "stream",
     "text": [
      "\n",
      "\n",
      "*** build_subnetwork() : features= {'images': <tf.Tensor 'IteratorGetNext:0' shape=(?, 224, 224, 3) dtype=float32>}\n",
      "\n",
      "\n",
      "*** build_subnetwork() : self._feature_columns= [NumericColumn(key='images', shape=(224, 224, 3), default_value=None, dtype=tf.float32, normalizer_fn=None)]\n",
      "\n",
      "\n",
      "*** build_subnetwork() : NN type= DNN / Input layer shape= (?, 150528)\n",
      "**** *** _build_dnn_subnetwork : Layers= 1\n",
      "\n",
      "\n",
      "*** build_subnetwork() : last_layer= Tensor(\"adanet/iteration_6/subnetwork_t6_DNN_layer_1/dropout/Identity:0\", shape=(?, 128), dtype=float32)\n",
      "WARNING:tensorflow:Using an `adanet.subnetwork.Builder#prune_previous_ensemble` is deprecated. Please use a custom `adanet.ensemble.Strategy` instead.\n"
     ]
    },
    {
     "name": "stderr",
     "output_type": "stream",
     "text": [
      "W0512 13:09:08.783702 140384601073472 tf_logging.py:161] Using an `adanet.subnetwork.Builder#prune_previous_ensemble` is deprecated. Please use a custom `adanet.ensemble.Strategy` instead.\n"
     ]
    },
    {
     "name": "stdout",
     "output_type": "stream",
     "text": [
      "WARNING:tensorflow:Using an `adanet.subnetwork.Builder#prune_previous_ensemble` is deprecated. Please use a custom `adanet.ensemble.Strategy` instead.\n"
     ]
    },
    {
     "name": "stderr",
     "output_type": "stream",
     "text": [
      "W0512 13:09:09.189357 140384601073472 tf_logging.py:161] Using an `adanet.subnetwork.Builder#prune_previous_ensemble` is deprecated. Please use a custom `adanet.ensemble.Strategy` instead.\n"
     ]
    },
    {
     "name": "stdout",
     "output_type": "stream",
     "text": [
      "INFO:tensorflow:Done calling model_fn.\n"
     ]
    },
    {
     "name": "stderr",
     "output_type": "stream",
     "text": [
      "I0512 13:09:09.495965 140384601073472 estimator.py:1113] Done calling model_fn.\n"
     ]
    },
    {
     "name": "stdout",
     "output_type": "stream",
     "text": [
      "INFO:tensorflow:Starting evaluation at 2019-05-12T11:09:09Z\n"
     ]
    },
    {
     "name": "stderr",
     "output_type": "stream",
     "text": [
      "I0512 13:09:09.516072 140384601073472 evaluation.py:257] Starting evaluation at 2019-05-12T11:09:09Z\n"
     ]
    },
    {
     "name": "stdout",
     "output_type": "stream",
     "text": [
      "INFO:tensorflow:Graph was finalized.\n"
     ]
    },
    {
     "name": "stderr",
     "output_type": "stream",
     "text": [
      "I0512 13:09:09.747010 140384601073472 monitored_session.py:222] Graph was finalized.\n"
     ]
    },
    {
     "name": "stdout",
     "output_type": "stream",
     "text": [
      "INFO:tensorflow:Restoring parameters from ./tmp/adanet/DNN/model.ckpt-35\n"
     ]
    },
    {
     "name": "stderr",
     "output_type": "stream",
     "text": [
      "I0512 13:09:09.749165 140384601073472 saver.py:1270] Restoring parameters from ./tmp/adanet/DNN/model.ckpt-35\n"
     ]
    },
    {
     "name": "stdout",
     "output_type": "stream",
     "text": [
      "INFO:tensorflow:Running local_init_op.\n"
     ]
    },
    {
     "name": "stderr",
     "output_type": "stream",
     "text": [
      "I0512 13:09:09.900779 140384601073472 session_manager.py:491] Running local_init_op.\n"
     ]
    },
    {
     "name": "stdout",
     "output_type": "stream",
     "text": [
      "INFO:tensorflow:Done running local_init_op.\n"
     ]
    },
    {
     "name": "stderr",
     "output_type": "stream",
     "text": [
      "I0512 13:09:10.059847 140384601073472 session_manager.py:493] Done running local_init_op.\n"
     ]
    },
    {
     "name": "stdout",
     "output_type": "stream",
     "text": [
      "\n",
      "*** generator() : labels shape= (47,) / label values= 0\n",
      "INFO:tensorflow:Finished evaluation at 2019-05-12-11:09:11\n"
     ]
    },
    {
     "name": "stderr",
     "output_type": "stream",
     "text": [
      "I0512 13:09:11.239085 140384601073472 evaluation.py:277] Finished evaluation at 2019-05-12-11:09:11\n"
     ]
    },
    {
     "name": "stdout",
     "output_type": "stream",
     "text": [
      "INFO:tensorflow:Saving dict for global step 35: accuracy = 0.38297874, average_loss = 1.1970296, global_step = 35, loss = 1.146147\n"
     ]
    },
    {
     "name": "stderr",
     "output_type": "stream",
     "text": [
      "I0512 13:09:11.241230 140384601073472 estimator.py:1979] Saving dict for global step 35: accuracy = 0.38297874, average_loss = 1.1970296, global_step = 35, loss = 1.146147\n"
     ]
    },
    {
     "name": "stdout",
     "output_type": "stream",
     "text": [
      "INFO:tensorflow:Saving 'checkpoint_path' summary for global step 35: ./tmp/adanet/DNN/model.ckpt-35\n"
     ]
    },
    {
     "name": "stderr",
     "output_type": "stream",
     "text": [
      "I0512 13:09:11.243771 140384601073472 estimator.py:2039] Saving 'checkpoint_path' summary for global step 35: ./tmp/adanet/DNN/model.ckpt-35\n"
     ]
    },
    {
     "name": "stdout",
     "output_type": "stream",
     "text": [
      "INFO:tensorflow:Loss for final step: 1.1076792.\n"
     ]
    },
    {
     "name": "stderr",
     "output_type": "stream",
     "text": [
      "I0512 13:09:11.314659 140384601073472 estimator.py:359] Loss for final step: 1.1076792.\n"
     ]
    },
    {
     "name": "stdout",
     "output_type": "stream",
     "text": [
      "\n",
      "*** input_fn() : feature_shape= (224, 224, 3) / label_shape= [1]\n",
      "\n",
      "*** preprocess_color_image() : label shape= ()\n",
      "\n",
      "***_input_fn() : Label shape =[1]\n",
      "INFO:tensorflow:Calling model_fn.\n"
     ]
    },
    {
     "name": "stderr",
     "output_type": "stream",
     "text": [
      "I0512 13:09:11.394538 140384601073472 estimator.py:1111] Calling model_fn.\n"
     ]
    },
    {
     "name": "stdout",
     "output_type": "stream",
     "text": [
      "\n",
      "*** NNGenerator : layers= (0,1)\n",
      "\n",
      "*** NNAdaNetBuilder : NN Type=DNN\n",
      "\n",
      "*** get_tf_head() : feature shape= (224, 224, 3)\n",
      "\n",
      "*** get_tf_head() : feature columns= [NumericColumn(key='images', shape=(224, 224, 3), default_value=None, dtype=tf.float32, normalizer_fn=None)]\n",
      "\n",
      "*** NNAdaNetBuilder : NN Type=DNN\n",
      "\n",
      "*** get_tf_head() : feature shape= (224, 224, 3)\n",
      "\n",
      "*** get_tf_head() : feature columns= [NumericColumn(key='images', shape=(224, 224, 3), default_value=None, dtype=tf.float32, normalizer_fn=None)]\n",
      "INFO:tensorflow:Rebuilding iteration 0\n"
     ]
    },
    {
     "name": "stderr",
     "output_type": "stream",
     "text": [
      "I0512 13:09:11.403700 140384601073472 iteration.py:250] Rebuilding iteration 0\n"
     ]
    },
    {
     "name": "stdout",
     "output_type": "stream",
     "text": [
      "INFO:tensorflow:Rebuilding subnetwork 'DNN_linear'\n"
     ]
    },
    {
     "name": "stderr",
     "output_type": "stream",
     "text": [
      "I0512 13:09:11.416388 140384601073472 iteration.py:337] Rebuilding subnetwork 'DNN_linear'\n"
     ]
    },
    {
     "name": "stdout",
     "output_type": "stream",
     "text": [
      "\n",
      "\n",
      "*** build_subnetwork() : features= {'images': <tf.Tensor 'IteratorGetNext:0' shape=(?, 224, 224, 3) dtype=float32>}\n",
      "\n",
      "\n",
      "*** build_subnetwork() : self._feature_columns= [NumericColumn(key='images', shape=(224, 224, 3), default_value=None, dtype=tf.float32, normalizer_fn=None)]\n",
      "\n",
      "\n",
      "*** build_subnetwork() : NN type= DNN / Input layer shape= (?, 150528)\n",
      "**** *** _build_dnn_subnetwork : Layers= 1\n",
      "\n",
      "\n",
      "*** build_subnetwork() : last_layer= Tensor(\"adanet/iteration_0/subnetwork_t0_DNN_linear/dropout/Identity:0\", shape=(?, 128), dtype=float32)\n",
      "\n",
      "*** NNGenerator : layers= (0,1)\n",
      "\n",
      "*** NNAdaNetBuilder : NN Type=DNN\n",
      "\n",
      "*** get_tf_head() : feature shape= (224, 224, 3)\n",
      "\n",
      "*** get_tf_head() : feature columns= [NumericColumn(key='images', shape=(224, 224, 3), default_value=None, dtype=tf.float32, normalizer_fn=None)]\n",
      "\n",
      "*** NNAdaNetBuilder : NN Type=DNN\n",
      "\n",
      "*** get_tf_head() : feature shape= (224, 224, 3)\n",
      "\n",
      "*** get_tf_head() : feature columns= [NumericColumn(key='images', shape=(224, 224, 3), default_value=None, dtype=tf.float32, normalizer_fn=None)]\n",
      "INFO:tensorflow:Building iteration 6\n"
     ]
    },
    {
     "name": "stderr",
     "output_type": "stream",
     "text": [
      "I0512 13:09:11.922281 140384601073472 iteration.py:250] Building iteration 6\n"
     ]
    },
    {
     "name": "stdout",
     "output_type": "stream",
     "text": [
      "INFO:tensorflow:Building subnetwork 'DNN_linear'\n"
     ]
    },
    {
     "name": "stderr",
     "output_type": "stream",
     "text": [
      "I0512 13:09:11.970619 140384601073472 iteration.py:337] Building subnetwork 'DNN_linear'\n"
     ]
    },
    {
     "name": "stdout",
     "output_type": "stream",
     "text": [
      "\n",
      "\n",
      "*** build_subnetwork() : features= {'images': <tf.Tensor 'IteratorGetNext:0' shape=(?, 224, 224, 3) dtype=float32>}\n",
      "\n",
      "\n",
      "*** build_subnetwork() : self._feature_columns= [NumericColumn(key='images', shape=(224, 224, 3), default_value=None, dtype=tf.float32, normalizer_fn=None)]\n",
      "\n",
      "\n",
      "*** build_subnetwork() : NN type= DNN / Input layer shape= (?, 150528)\n",
      "**** *** _build_dnn_subnetwork : Layers= 1\n",
      "\n",
      "\n",
      "*** build_subnetwork() : last_layer= Tensor(\"adanet/iteration_6/subnetwork_t6_DNN_linear/dropout/Identity:0\", shape=(?, 128), dtype=float32)\n",
      "INFO:tensorflow:Building subnetwork 'DNN_layer_1'\n"
     ]
    },
    {
     "name": "stderr",
     "output_type": "stream",
     "text": [
      "I0512 13:09:12.107347 140384601073472 iteration.py:337] Building subnetwork 'DNN_layer_1'\n"
     ]
    },
    {
     "name": "stdout",
     "output_type": "stream",
     "text": [
      "\n",
      "\n",
      "*** build_subnetwork() : features= {'images': <tf.Tensor 'IteratorGetNext:0' shape=(?, 224, 224, 3) dtype=float32>}\n",
      "\n",
      "\n",
      "*** build_subnetwork() : self._feature_columns= [NumericColumn(key='images', shape=(224, 224, 3), default_value=None, dtype=tf.float32, normalizer_fn=None)]\n",
      "\n",
      "\n",
      "*** build_subnetwork() : NN type= DNN / Input layer shape= (?, 150528)\n",
      "**** *** _build_dnn_subnetwork : Layers= 1\n",
      "\n",
      "\n",
      "*** build_subnetwork() : last_layer= Tensor(\"adanet/iteration_6/subnetwork_t6_DNN_layer_1/dropout/Identity:0\", shape=(?, 128), dtype=float32)\n",
      "WARNING:tensorflow:Using an `adanet.subnetwork.Builder#prune_previous_ensemble` is deprecated. Please use a custom `adanet.ensemble.Strategy` instead.\n"
     ]
    },
    {
     "name": "stderr",
     "output_type": "stream",
     "text": [
      "W0512 13:09:12.306100 140384601073472 tf_logging.py:161] Using an `adanet.subnetwork.Builder#prune_previous_ensemble` is deprecated. Please use a custom `adanet.ensemble.Strategy` instead.\n"
     ]
    },
    {
     "name": "stdout",
     "output_type": "stream",
     "text": [
      "WARNING:tensorflow:Using an `adanet.subnetwork.Builder#prune_previous_ensemble` is deprecated. Please use a custom `adanet.ensemble.Strategy` instead.\n"
     ]
    },
    {
     "name": "stderr",
     "output_type": "stream",
     "text": [
      "W0512 13:09:12.431465 140384601073472 tf_logging.py:161] Using an `adanet.subnetwork.Builder#prune_previous_ensemble` is deprecated. Please use a custom `adanet.ensemble.Strategy` instead.\n"
     ]
    },
    {
     "name": "stdout",
     "output_type": "stream",
     "text": [
      "INFO:tensorflow:Restoring parameters from ./tmp/adanet/DNN/model.ckpt-35\n"
     ]
    },
    {
     "name": "stderr",
     "output_type": "stream",
     "text": [
      "I0512 13:09:12.909957 140384601073472 saver.py:1270] Restoring parameters from ./tmp/adanet/DNN/model.ckpt-35\n"
     ]
    },
    {
     "name": "stdout",
     "output_type": "stream",
     "text": [
      "WARNING:tensorflow:`tf.train.start_queue_runners()` was called when no queue runners were defined. You can safely remove the call to this deprecated function.\n"
     ]
    },
    {
     "name": "stderr",
     "output_type": "stream",
     "text": [
      "W0512 13:09:13.069628 140384601073472 queue_runner_impl.py:471] `tf.train.start_queue_runners()` was called when no queue runners were defined. You can safely remove the call to this deprecated function.\n"
     ]
    },
    {
     "name": "stdout",
     "output_type": "stream",
     "text": [
      "\n",
      "*** generator() : labels shape= (414,) / label values= 1\n",
      "\n",
      "*** generator() : labels shape= (414,) / label values= 1\n",
      "\n",
      "*** generator() : labels shape= (414,) / label values= 1\n",
      "\n",
      "*** generator() : labels shape= (414,) / label values= 1\n",
      "\n",
      "*** generator() : labels shape= (414,) / label values= 1\n",
      "\n",
      "*** generator() : labels shape= (414,) / label values= 1\n",
      "INFO:tensorflow:Done calling model_fn.\n"
     ]
    },
    {
     "name": "stderr",
     "output_type": "stream",
     "text": [
      "I0512 13:09:16.814590 140384601073472 estimator.py:1113] Done calling model_fn.\n"
     ]
    },
    {
     "name": "stdout",
     "output_type": "stream",
     "text": [
      "INFO:tensorflow:Using config: {'_model_dir': './tmp/adanet/DNN/temp_model_dir', '_tf_random_seed': 42, '_save_summary_steps': 100, '_save_checkpoints_steps': None, '_save_checkpoints_secs': 600, '_session_config': allow_soft_placement: true\n",
      "graph_options {\n",
      "  rewrite_options {\n",
      "    meta_optimizer_iterations: ONE\n",
      "  }\n",
      "}\n",
      ", '_keep_checkpoint_max': 5, '_keep_checkpoint_every_n_hours': 10000, '_log_step_count_steps': 100, '_train_distribute': None, '_device_fn': None, '_protocol': None, '_eval_distribute': None, '_experimental_distribute': None, '_service': None, '_cluster_spec': <tensorflow.python.training.server_lib.ClusterSpec object at 0x7fac9300d358>, '_task_type': 'worker', '_task_id': 0, '_global_id_in_cluster': 0, '_master': '', '_evaluation_master': '', '_is_chief': True, '_num_ps_replicas': 0, '_num_worker_replicas': 1}\n"
     ]
    },
    {
     "name": "stderr",
     "output_type": "stream",
     "text": [
      "I0512 13:09:16.815828 140384601073472 estimator.py:201] Using config: {'_model_dir': './tmp/adanet/DNN/temp_model_dir', '_tf_random_seed': 42, '_save_summary_steps': 100, '_save_checkpoints_steps': None, '_save_checkpoints_secs': 600, '_session_config': allow_soft_placement: true\n",
      "graph_options {\n",
      "  rewrite_options {\n",
      "    meta_optimizer_iterations: ONE\n",
      "  }\n",
      "}\n",
      ", '_keep_checkpoint_max': 5, '_keep_checkpoint_every_n_hours': 10000, '_log_step_count_steps': 100, '_train_distribute': None, '_device_fn': None, '_protocol': None, '_eval_distribute': None, '_experimental_distribute': None, '_service': None, '_cluster_spec': <tensorflow.python.training.server_lib.ClusterSpec object at 0x7fac9300d358>, '_task_type': 'worker', '_task_id': 0, '_global_id_in_cluster': 0, '_master': '', '_evaluation_master': '', '_is_chief': True, '_num_ps_replicas': 0, '_num_worker_replicas': 1}\n"
     ]
    },
    {
     "name": "stdout",
     "output_type": "stream",
     "text": [
      "\n",
      "*** input_fn() : feature_shape= (224, 224, 3) / label_shape= [1]\n",
      "\n",
      "*** preprocess_color_image() : label shape= ()\n",
      "\n",
      "***_input_fn() : Label shape =[1]\n",
      "INFO:tensorflow:Calling model_fn.\n"
     ]
    },
    {
     "name": "stderr",
     "output_type": "stream",
     "text": [
      "I0512 13:09:16.881911 140384601073472 estimator.py:1111] Calling model_fn.\n"
     ]
    },
    {
     "name": "stdout",
     "output_type": "stream",
     "text": [
      "\n",
      "*** NNGenerator : layers= (0,1)\n",
      "\n",
      "*** NNAdaNetBuilder : NN Type=DNN\n",
      "\n",
      "*** get_tf_head() : feature shape= (224, 224, 3)\n",
      "\n",
      "*** get_tf_head() : feature columns= [NumericColumn(key='images', shape=(224, 224, 3), default_value=None, dtype=tf.float32, normalizer_fn=None)]\n",
      "\n",
      "*** NNAdaNetBuilder : NN Type=DNN\n",
      "\n",
      "*** get_tf_head() : feature shape= (224, 224, 3)\n",
      "\n",
      "*** get_tf_head() : feature columns= [NumericColumn(key='images', shape=(224, 224, 3), default_value=None, dtype=tf.float32, normalizer_fn=None)]\n",
      "INFO:tensorflow:Rebuilding iteration 0\n"
     ]
    },
    {
     "name": "stderr",
     "output_type": "stream",
     "text": [
      "I0512 13:09:16.885309 140384601073472 iteration.py:250] Rebuilding iteration 0\n"
     ]
    },
    {
     "name": "stdout",
     "output_type": "stream",
     "text": [
      "INFO:tensorflow:Rebuilding subnetwork 'DNN_linear'\n"
     ]
    },
    {
     "name": "stderr",
     "output_type": "stream",
     "text": [
      "I0512 13:09:16.890011 140384601073472 iteration.py:337] Rebuilding subnetwork 'DNN_linear'\n"
     ]
    },
    {
     "name": "stdout",
     "output_type": "stream",
     "text": [
      "\n",
      "\n",
      "*** build_subnetwork() : features= {'images': <tf.Tensor 'IteratorGetNext:0' shape=(?, 224, 224, 3) dtype=float32>}\n",
      "\n",
      "\n",
      "*** build_subnetwork() : self._feature_columns= [NumericColumn(key='images', shape=(224, 224, 3), default_value=None, dtype=tf.float32, normalizer_fn=None)]\n",
      "\n",
      "\n",
      "*** build_subnetwork() : NN type= DNN / Input layer shape= (?, 150528)\n",
      "**** *** _build_dnn_subnetwork : Layers= 1\n",
      "\n",
      "\n",
      "*** build_subnetwork() : last_layer= Tensor(\"adanet/iteration_0/subnetwork_t0_DNN_linear/dropout/Identity:0\", shape=(?, 128), dtype=float32)\n",
      "\n",
      "*** NNGenerator : layers= (0,1)\n",
      "\n",
      "*** NNAdaNetBuilder : NN Type=DNN\n",
      "\n",
      "*** get_tf_head() : feature shape= (224, 224, 3)\n",
      "\n",
      "*** get_tf_head() : feature columns= [NumericColumn(key='images', shape=(224, 224, 3), default_value=None, dtype=tf.float32, normalizer_fn=None)]\n",
      "\n",
      "*** NNAdaNetBuilder : NN Type=DNN\n",
      "\n",
      "*** get_tf_head() : feature shape= (224, 224, 3)\n",
      "\n",
      "*** get_tf_head() : feature columns= [NumericColumn(key='images', shape=(224, 224, 3), default_value=None, dtype=tf.float32, normalizer_fn=None)]\n",
      "INFO:tensorflow:Building iteration 7\n"
     ]
    },
    {
     "name": "stderr",
     "output_type": "stream",
     "text": [
      "I0512 13:09:17.186629 140384601073472 iteration.py:250] Building iteration 7\n"
     ]
    },
    {
     "name": "stdout",
     "output_type": "stream",
     "text": [
      "INFO:tensorflow:Building subnetwork 'DNN_linear'\n"
     ]
    },
    {
     "name": "stderr",
     "output_type": "stream",
     "text": [
      "I0512 13:09:17.222274 140384601073472 iteration.py:337] Building subnetwork 'DNN_linear'\n"
     ]
    },
    {
     "name": "stdout",
     "output_type": "stream",
     "text": [
      "\n",
      "\n",
      "*** build_subnetwork() : features= {'images': <tf.Tensor 'IteratorGetNext:0' shape=(?, 224, 224, 3) dtype=float32>}\n",
      "\n",
      "\n",
      "*** build_subnetwork() : self._feature_columns= [NumericColumn(key='images', shape=(224, 224, 3), default_value=None, dtype=tf.float32, normalizer_fn=None)]\n",
      "\n",
      "\n",
      "*** build_subnetwork() : NN type= DNN / Input layer shape= (?, 150528)\n",
      "**** *** _build_dnn_subnetwork : Layers= 1\n",
      "\n",
      "\n",
      "*** build_subnetwork() : last_layer= Tensor(\"adanet/iteration_7/subnetwork_t7_DNN_linear/dense/Relu:0\", shape=(?, 128), dtype=float32)\n",
      "INFO:tensorflow:Building subnetwork 'DNN_layer_1'\n"
     ]
    },
    {
     "name": "stderr",
     "output_type": "stream",
     "text": [
      "I0512 13:09:17.691073 140384601073472 iteration.py:337] Building subnetwork 'DNN_layer_1'\n"
     ]
    },
    {
     "name": "stdout",
     "output_type": "stream",
     "text": [
      "\n",
      "\n",
      "*** build_subnetwork() : features= {'images': <tf.Tensor 'IteratorGetNext:0' shape=(?, 224, 224, 3) dtype=float32>}\n",
      "\n",
      "\n",
      "*** build_subnetwork() : self._feature_columns= [NumericColumn(key='images', shape=(224, 224, 3), default_value=None, dtype=tf.float32, normalizer_fn=None)]\n",
      "\n",
      "\n",
      "*** build_subnetwork() : NN type= DNN / Input layer shape= (?, 150528)\n",
      "**** *** _build_dnn_subnetwork : Layers= 1\n",
      "\n",
      "\n",
      "*** build_subnetwork() : last_layer= Tensor(\"adanet/iteration_7/subnetwork_t7_DNN_layer_1/dense/Relu:0\", shape=(?, 128), dtype=float32)\n",
      "WARNING:tensorflow:Using an `adanet.subnetwork.Builder#prune_previous_ensemble` is deprecated. Please use a custom `adanet.ensemble.Strategy` instead.\n"
     ]
    },
    {
     "name": "stderr",
     "output_type": "stream",
     "text": [
      "W0512 13:09:18.034514 140384601073472 tf_logging.py:161] Using an `adanet.subnetwork.Builder#prune_previous_ensemble` is deprecated. Please use a custom `adanet.ensemble.Strategy` instead.\n"
     ]
    },
    {
     "name": "stdout",
     "output_type": "stream",
     "text": [
      "WARNING:tensorflow:The `build_mixture_weights_train_op` method is deprecated. Please use the `Ensembler#build_train_op` instead.\n"
     ]
    },
    {
     "name": "stderr",
     "output_type": "stream",
     "text": [
      "W0512 13:09:18.112255 140384601073472 tf_logging.py:161] The `build_mixture_weights_train_op` method is deprecated. Please use the `Ensembler#build_train_op` instead.\n"
     ]
    },
    {
     "name": "stdout",
     "output_type": "stream",
     "text": [
      "WARNING:tensorflow:Using an `adanet.subnetwork.Builder#prune_previous_ensemble` is deprecated. Please use a custom `adanet.ensemble.Strategy` instead.\n"
     ]
    },
    {
     "name": "stderr",
     "output_type": "stream",
     "text": [
      "W0512 13:09:18.243283 140384601073472 tf_logging.py:161] Using an `adanet.subnetwork.Builder#prune_previous_ensemble` is deprecated. Please use a custom `adanet.ensemble.Strategy` instead.\n"
     ]
    },
    {
     "name": "stdout",
     "output_type": "stream",
     "text": [
      "WARNING:tensorflow:The `build_mixture_weights_train_op` method is deprecated. Please use the `Ensembler#build_train_op` instead.\n"
     ]
    },
    {
     "name": "stderr",
     "output_type": "stream",
     "text": [
      "W0512 13:09:18.345707 140384601073472 tf_logging.py:161] The `build_mixture_weights_train_op` method is deprecated. Please use the `Ensembler#build_train_op` instead.\n"
     ]
    },
    {
     "name": "stdout",
     "output_type": "stream",
     "text": [
      "INFO:tensorflow:Done calling model_fn.\n"
     ]
    },
    {
     "name": "stderr",
     "output_type": "stream",
     "text": [
      "I0512 13:09:18.865292 140384601073472 estimator.py:1113] Done calling model_fn.\n"
     ]
    },
    {
     "name": "stdout",
     "output_type": "stream",
     "text": [
      "INFO:tensorflow:Create CheckpointSaverHook.\n"
     ]
    },
    {
     "name": "stderr",
     "output_type": "stream",
     "text": [
      "I0512 13:09:18.868148 140384601073472 basic_session_run_hooks.py:527] Create CheckpointSaverHook.\n"
     ]
    },
    {
     "name": "stdout",
     "output_type": "stream",
     "text": [
      "INFO:tensorflow:Graph was finalized.\n"
     ]
    },
    {
     "name": "stderr",
     "output_type": "stream",
     "text": [
      "I0512 13:09:19.515573 140384601073472 monitored_session.py:222] Graph was finalized.\n"
     ]
    },
    {
     "name": "stdout",
     "output_type": "stream",
     "text": [
      "INFO:tensorflow:Running local_init_op.\n"
     ]
    },
    {
     "name": "stderr",
     "output_type": "stream",
     "text": [
      "I0512 13:09:20.821716 140384601073472 session_manager.py:491] Running local_init_op.\n"
     ]
    },
    {
     "name": "stdout",
     "output_type": "stream",
     "text": [
      "INFO:tensorflow:Done running local_init_op.\n"
     ]
    },
    {
     "name": "stderr",
     "output_type": "stream",
     "text": [
      "I0512 13:09:20.854226 140384601073472 session_manager.py:493] Done running local_init_op.\n"
     ]
    },
    {
     "name": "stdout",
     "output_type": "stream",
     "text": [
      "INFO:tensorflow:Saving checkpoints for 0 into ./tmp/adanet/DNN/temp_model_dir/model.ckpt.\n"
     ]
    },
    {
     "name": "stderr",
     "output_type": "stream",
     "text": [
      "I0512 13:09:21.524355 140384601073472 basic_session_run_hooks.py:594] Saving checkpoints for 0 into ./tmp/adanet/DNN/temp_model_dir/model.ckpt.\n"
     ]
    },
    {
     "name": "stdout",
     "output_type": "stream",
     "text": [
      "INFO:tensorflow:Restoring parameters from ./tmp/adanet/DNN/model.ckpt-35\n"
     ]
    },
    {
     "name": "stderr",
     "output_type": "stream",
     "text": [
      "I0512 13:09:22.461589 140384601073472 saver.py:1270] Restoring parameters from ./tmp/adanet/DNN/model.ckpt-35\n"
     ]
    },
    {
     "name": "stdout",
     "output_type": "stream",
     "text": [
      "INFO:tensorflow:loss = 1.0692801, step = 36\n"
     ]
    },
    {
     "name": "stderr",
     "output_type": "stream",
     "text": [
      "I0512 13:09:24.756626 140384601073472 basic_session_run_hooks.py:249] loss = 1.0692801, step = 36\n"
     ]
    },
    {
     "name": "stdout",
     "output_type": "stream",
     "text": [
      "INFO:tensorflow:Saving checkpoints for 36 into ./tmp/adanet/DNN/temp_model_dir/model.ckpt.\n"
     ]
    },
    {
     "name": "stderr",
     "output_type": "stream",
     "text": [
      "I0512 13:09:24.757776 140384601073472 basic_session_run_hooks.py:594] Saving checkpoints for 36 into ./tmp/adanet/DNN/temp_model_dir/model.ckpt.\n"
     ]
    },
    {
     "name": "stdout",
     "output_type": "stream",
     "text": [
      "INFO:tensorflow:Loss for final step: 1.0692801.\n"
     ]
    },
    {
     "name": "stderr",
     "output_type": "stream",
     "text": [
      "I0512 13:09:25.947870 140384601073472 estimator.py:359] Loss for final step: 1.0692801.\n"
     ]
    },
    {
     "name": "stdout",
     "output_type": "stream",
     "text": [
      "\n",
      "*** input_fn() : feature_shape= (224, 224, 3) / label_shape= [1]\n",
      "\n",
      "*** preprocess_color_image() : label shape= ()\n",
      "\n",
      "***_input_fn() : Label shape =[1]\n",
      "INFO:tensorflow:Calling model_fn.\n"
     ]
    },
    {
     "name": "stderr",
     "output_type": "stream",
     "text": [
      "I0512 13:09:26.093660 140384601073472 estimator.py:1111] Calling model_fn.\n"
     ]
    },
    {
     "name": "stdout",
     "output_type": "stream",
     "text": [
      "\n",
      "*** NNGenerator : layers= (0,1)\n",
      "\n",
      "*** NNAdaNetBuilder : NN Type=DNN\n",
      "\n",
      "*** get_tf_head() : feature shape= (224, 224, 3)\n",
      "\n",
      "*** get_tf_head() : feature columns= [NumericColumn(key='images', shape=(224, 224, 3), default_value=None, dtype=tf.float32, normalizer_fn=None)]\n",
      "\n",
      "*** NNAdaNetBuilder : NN Type=DNN\n",
      "\n",
      "*** get_tf_head() : feature shape= (224, 224, 3)\n",
      "\n",
      "*** get_tf_head() : feature columns= [NumericColumn(key='images', shape=(224, 224, 3), default_value=None, dtype=tf.float32, normalizer_fn=None)]\n",
      "INFO:tensorflow:Rebuilding iteration 0\n"
     ]
    },
    {
     "name": "stderr",
     "output_type": "stream",
     "text": [
      "I0512 13:09:26.096989 140384601073472 iteration.py:250] Rebuilding iteration 0\n"
     ]
    },
    {
     "name": "stdout",
     "output_type": "stream",
     "text": [
      "INFO:tensorflow:Rebuilding subnetwork 'DNN_linear'\n"
     ]
    },
    {
     "name": "stderr",
     "output_type": "stream",
     "text": [
      "I0512 13:09:26.101746 140384601073472 iteration.py:337] Rebuilding subnetwork 'DNN_linear'\n"
     ]
    },
    {
     "name": "stdout",
     "output_type": "stream",
     "text": [
      "\n",
      "\n",
      "*** build_subnetwork() : features= {'images': <tf.Tensor 'IteratorGetNext:0' shape=(?, 224, 224, 3) dtype=float32>}\n",
      "\n",
      "\n",
      "*** build_subnetwork() : self._feature_columns= [NumericColumn(key='images', shape=(224, 224, 3), default_value=None, dtype=tf.float32, normalizer_fn=None)]\n",
      "\n",
      "\n",
      "*** build_subnetwork() : NN type= DNN / Input layer shape= (?, 150528)\n",
      "**** *** _build_dnn_subnetwork : Layers= 1\n",
      "\n",
      "\n",
      "*** build_subnetwork() : last_layer= Tensor(\"adanet/iteration_0/subnetwork_t0_DNN_linear/dropout/Identity:0\", shape=(?, 128), dtype=float32)\n",
      "\n",
      "*** NNGenerator : layers= (0,1)\n",
      "\n",
      "*** NNAdaNetBuilder : NN Type=DNN\n",
      "\n",
      "*** get_tf_head() : feature shape= (224, 224, 3)\n",
      "\n",
      "*** get_tf_head() : feature columns= [NumericColumn(key='images', shape=(224, 224, 3), default_value=None, dtype=tf.float32, normalizer_fn=None)]\n",
      "\n",
      "*** NNAdaNetBuilder : NN Type=DNN\n",
      "\n",
      "*** get_tf_head() : feature shape= (224, 224, 3)\n",
      "\n",
      "*** get_tf_head() : feature columns= [NumericColumn(key='images', shape=(224, 224, 3), default_value=None, dtype=tf.float32, normalizer_fn=None)]\n",
      "INFO:tensorflow:Building iteration 7\n"
     ]
    },
    {
     "name": "stderr",
     "output_type": "stream",
     "text": [
      "I0512 13:09:26.445146 140384601073472 iteration.py:250] Building iteration 7\n"
     ]
    },
    {
     "name": "stdout",
     "output_type": "stream",
     "text": [
      "INFO:tensorflow:Building subnetwork 'DNN_linear'\n"
     ]
    },
    {
     "name": "stderr",
     "output_type": "stream",
     "text": [
      "I0512 13:09:26.473051 140384601073472 iteration.py:337] Building subnetwork 'DNN_linear'\n"
     ]
    },
    {
     "name": "stdout",
     "output_type": "stream",
     "text": [
      "\n",
      "\n",
      "*** build_subnetwork() : features= {'images': <tf.Tensor 'IteratorGetNext:0' shape=(?, 224, 224, 3) dtype=float32>}\n",
      "\n",
      "\n",
      "*** build_subnetwork() : self._feature_columns= [NumericColumn(key='images', shape=(224, 224, 3), default_value=None, dtype=tf.float32, normalizer_fn=None)]\n",
      "\n",
      "\n",
      "*** build_subnetwork() : NN type= DNN / Input layer shape= (?, 150528)\n",
      "**** *** _build_dnn_subnetwork : Layers= 1\n",
      "\n",
      "\n",
      "*** build_subnetwork() : last_layer= Tensor(\"adanet/iteration_7/subnetwork_t7_DNN_linear/dense/Relu:0\", shape=(?, 128), dtype=float32)\n",
      "INFO:tensorflow:Building subnetwork 'DNN_layer_1'\n"
     ]
    },
    {
     "name": "stderr",
     "output_type": "stream",
     "text": [
      "I0512 13:09:26.731359 140384601073472 iteration.py:337] Building subnetwork 'DNN_layer_1'\n"
     ]
    },
    {
     "name": "stdout",
     "output_type": "stream",
     "text": [
      "\n",
      "\n",
      "*** build_subnetwork() : features= {'images': <tf.Tensor 'IteratorGetNext:0' shape=(?, 224, 224, 3) dtype=float32>}\n",
      "\n",
      "\n",
      "*** build_subnetwork() : self._feature_columns= [NumericColumn(key='images', shape=(224, 224, 3), default_value=None, dtype=tf.float32, normalizer_fn=None)]\n",
      "\n",
      "\n",
      "*** build_subnetwork() : NN type= DNN / Input layer shape= (?, 150528)\n",
      "**** *** _build_dnn_subnetwork : Layers= 1\n",
      "\n",
      "\n",
      "*** build_subnetwork() : last_layer= Tensor(\"adanet/iteration_7/subnetwork_t7_DNN_layer_1/dense/Relu:0\", shape=(?, 128), dtype=float32)\n",
      "WARNING:tensorflow:Using an `adanet.subnetwork.Builder#prune_previous_ensemble` is deprecated. Please use a custom `adanet.ensemble.Strategy` instead.\n"
     ]
    },
    {
     "name": "stderr",
     "output_type": "stream",
     "text": [
      "W0512 13:09:26.890897 140384601073472 tf_logging.py:161] Using an `adanet.subnetwork.Builder#prune_previous_ensemble` is deprecated. Please use a custom `adanet.ensemble.Strategy` instead.\n"
     ]
    },
    {
     "name": "stdout",
     "output_type": "stream",
     "text": [
      "WARNING:tensorflow:The `build_mixture_weights_train_op` method is deprecated. Please use the `Ensembler#build_train_op` instead.\n"
     ]
    },
    {
     "name": "stderr",
     "output_type": "stream",
     "text": [
      "W0512 13:09:26.993627 140384601073472 tf_logging.py:161] The `build_mixture_weights_train_op` method is deprecated. Please use the `Ensembler#build_train_op` instead.\n"
     ]
    },
    {
     "name": "stdout",
     "output_type": "stream",
     "text": [
      "WARNING:tensorflow:Using an `adanet.subnetwork.Builder#prune_previous_ensemble` is deprecated. Please use a custom `adanet.ensemble.Strategy` instead.\n"
     ]
    },
    {
     "name": "stderr",
     "output_type": "stream",
     "text": [
      "W0512 13:09:27.595630 140384601073472 tf_logging.py:161] Using an `adanet.subnetwork.Builder#prune_previous_ensemble` is deprecated. Please use a custom `adanet.ensemble.Strategy` instead.\n"
     ]
    },
    {
     "name": "stdout",
     "output_type": "stream",
     "text": [
      "WARNING:tensorflow:The `build_mixture_weights_train_op` method is deprecated. Please use the `Ensembler#build_train_op` instead.\n"
     ]
    },
    {
     "name": "stderr",
     "output_type": "stream",
     "text": [
      "W0512 13:09:27.677293 140384601073472 tf_logging.py:161] The `build_mixture_weights_train_op` method is deprecated. Please use the `Ensembler#build_train_op` instead.\n"
     ]
    },
    {
     "name": "stdout",
     "output_type": "stream",
     "text": [
      "INFO:tensorflow:Done calling model_fn.\n"
     ]
    },
    {
     "name": "stderr",
     "output_type": "stream",
     "text": [
      "I0512 13:09:27.851498 140384601073472 estimator.py:1113] Done calling model_fn.\n"
     ]
    },
    {
     "name": "stdout",
     "output_type": "stream",
     "text": [
      "INFO:tensorflow:Create CheckpointSaverHook.\n"
     ]
    },
    {
     "name": "stderr",
     "output_type": "stream",
     "text": [
      "I0512 13:09:27.852391 140384601073472 basic_session_run_hooks.py:527] Create CheckpointSaverHook.\n"
     ]
    },
    {
     "name": "stdout",
     "output_type": "stream",
     "text": [
      "INFO:tensorflow:Graph was finalized.\n"
     ]
    },
    {
     "name": "stderr",
     "output_type": "stream",
     "text": [
      "I0512 13:09:28.044029 140384601073472 monitored_session.py:222] Graph was finalized.\n"
     ]
    },
    {
     "name": "stdout",
     "output_type": "stream",
     "text": [
      "INFO:tensorflow:Restoring parameters from ./tmp/adanet/DNN/increment.ckpt-7\n"
     ]
    },
    {
     "name": "stderr",
     "output_type": "stream",
     "text": [
      "I0512 13:09:28.046508 140384601073472 saver.py:1270] Restoring parameters from ./tmp/adanet/DNN/increment.ckpt-7\n"
     ]
    },
    {
     "name": "stdout",
     "output_type": "stream",
     "text": [
      "INFO:tensorflow:Running local_init_op.\n"
     ]
    },
    {
     "name": "stderr",
     "output_type": "stream",
     "text": [
      "I0512 13:09:28.257701 140384601073472 session_manager.py:491] Running local_init_op.\n"
     ]
    },
    {
     "name": "stdout",
     "output_type": "stream",
     "text": [
      "INFO:tensorflow:Done running local_init_op.\n"
     ]
    },
    {
     "name": "stderr",
     "output_type": "stream",
     "text": [
      "I0512 13:09:28.291072 140384601073472 session_manager.py:493] Done running local_init_op.\n"
     ]
    },
    {
     "name": "stdout",
     "output_type": "stream",
     "text": [
      "INFO:tensorflow:Saving checkpoints for 35 into ./tmp/adanet/DNN/model.ckpt.\n"
     ]
    },
    {
     "name": "stderr",
     "output_type": "stream",
     "text": [
      "I0512 13:09:28.867571 140384601073472 basic_session_run_hooks.py:594] Saving checkpoints for 35 into ./tmp/adanet/DNN/model.ckpt.\n"
     ]
    },
    {
     "name": "stdout",
     "output_type": "stream",
     "text": [
      "INFO:tensorflow:loss = 1.0692801, step = 36\n"
     ]
    },
    {
     "name": "stderr",
     "output_type": "stream",
     "text": [
      "I0512 13:09:31.926660 140384601073472 basic_session_run_hooks.py:249] loss = 1.0692801, step = 36\n"
     ]
    },
    {
     "name": "stdout",
     "output_type": "stream",
     "text": [
      "\n",
      "*** generator() : labels shape= (414,) / label values= 1\n",
      "INFO:tensorflow:Saving checkpoints for 40 into ./tmp/adanet/DNN/model.ckpt.\n"
     ]
    },
    {
     "name": "stderr",
     "output_type": "stream",
     "text": [
      "I0512 13:09:32.728856 140384601073472 basic_session_run_hooks.py:594] Saving checkpoints for 40 into ./tmp/adanet/DNN/model.ckpt.\n"
     ]
    },
    {
     "name": "stdout",
     "output_type": "stream",
     "text": [
      "\n",
      "*** input_fn() : feature_shape= (224, 224, 3) / label_shape= [1]\n",
      "\n",
      "*** input_fn : TEST / feature_shape= (224, 224, 3)\n",
      "\n",
      "*** preprocess_color_image() : label shape= ()\n",
      "\n",
      "***_input_fn() : Label shape =[1]\n",
      "INFO:tensorflow:Calling model_fn.\n"
     ]
    },
    {
     "name": "stderr",
     "output_type": "stream",
     "text": [
      "I0512 13:09:33.241600 140384601073472 estimator.py:1111] Calling model_fn.\n"
     ]
    },
    {
     "name": "stdout",
     "output_type": "stream",
     "text": [
      "\n",
      "*** NNGenerator : layers= (0,1)\n",
      "\n",
      "*** NNAdaNetBuilder : NN Type=DNN\n",
      "\n",
      "*** get_tf_head() : feature shape= (224, 224, 3)\n",
      "\n",
      "*** get_tf_head() : feature columns= [NumericColumn(key='images', shape=(224, 224, 3), default_value=None, dtype=tf.float32, normalizer_fn=None)]\n",
      "\n",
      "*** NNAdaNetBuilder : NN Type=DNN\n",
      "\n",
      "*** get_tf_head() : feature shape= (224, 224, 3)\n",
      "\n",
      "*** get_tf_head() : feature columns= [NumericColumn(key='images', shape=(224, 224, 3), default_value=None, dtype=tf.float32, normalizer_fn=None)]\n",
      "INFO:tensorflow:Rebuilding iteration 0\n"
     ]
    },
    {
     "name": "stderr",
     "output_type": "stream",
     "text": [
      "I0512 13:09:33.246833 140384601073472 iteration.py:250] Rebuilding iteration 0\n"
     ]
    },
    {
     "name": "stdout",
     "output_type": "stream",
     "text": [
      "INFO:tensorflow:Rebuilding subnetwork 'DNN_linear'\n"
     ]
    },
    {
     "name": "stderr",
     "output_type": "stream",
     "text": [
      "I0512 13:09:33.253207 140384601073472 iteration.py:337] Rebuilding subnetwork 'DNN_linear'\n"
     ]
    },
    {
     "name": "stdout",
     "output_type": "stream",
     "text": [
      "\n",
      "\n",
      "*** build_subnetwork() : features= {'images': <tf.Tensor 'IteratorGetNext:0' shape=(?, 224, 224, 3) dtype=float32>}\n",
      "\n",
      "\n",
      "*** build_subnetwork() : self._feature_columns= [NumericColumn(key='images', shape=(224, 224, 3), default_value=None, dtype=tf.float32, normalizer_fn=None)]\n",
      "\n",
      "\n",
      "*** build_subnetwork() : NN type= DNN / Input layer shape= (?, 150528)\n",
      "**** *** _build_dnn_subnetwork : Layers= 1\n",
      "\n",
      "\n",
      "*** build_subnetwork() : last_layer= Tensor(\"adanet/iteration_0/subnetwork_t0_DNN_linear/dropout/Identity:0\", shape=(?, 128), dtype=float32)\n",
      "\n",
      "*** NNGenerator : layers= (0,1)\n",
      "\n",
      "*** NNAdaNetBuilder : NN Type=DNN\n",
      "\n",
      "*** get_tf_head() : feature shape= (224, 224, 3)\n",
      "\n",
      "*** get_tf_head() : feature columns= [NumericColumn(key='images', shape=(224, 224, 3), default_value=None, dtype=tf.float32, normalizer_fn=None)]\n",
      "\n",
      "*** NNAdaNetBuilder : NN Type=DNN\n",
      "\n",
      "*** get_tf_head() : feature shape= (224, 224, 3)\n",
      "\n",
      "*** get_tf_head() : feature columns= [NumericColumn(key='images', shape=(224, 224, 3), default_value=None, dtype=tf.float32, normalizer_fn=None)]\n",
      "INFO:tensorflow:Building iteration 7\n"
     ]
    },
    {
     "name": "stderr",
     "output_type": "stream",
     "text": [
      "I0512 13:09:33.612007 140384601073472 iteration.py:250] Building iteration 7\n"
     ]
    },
    {
     "name": "stdout",
     "output_type": "stream",
     "text": [
      "INFO:tensorflow:Building subnetwork 'DNN_linear'\n"
     ]
    },
    {
     "name": "stderr",
     "output_type": "stream",
     "text": [
      "I0512 13:09:33.664670 140384601073472 iteration.py:337] Building subnetwork 'DNN_linear'\n"
     ]
    },
    {
     "name": "stdout",
     "output_type": "stream",
     "text": [
      "\n",
      "\n",
      "*** build_subnetwork() : features= {'images': <tf.Tensor 'IteratorGetNext:0' shape=(?, 224, 224, 3) dtype=float32>}\n",
      "\n",
      "\n",
      "*** build_subnetwork() : self._feature_columns= [NumericColumn(key='images', shape=(224, 224, 3), default_value=None, dtype=tf.float32, normalizer_fn=None)]\n",
      "\n",
      "\n",
      "*** build_subnetwork() : NN type= DNN / Input layer shape= (?, 150528)\n",
      "**** *** _build_dnn_subnetwork : Layers= 1\n",
      "\n",
      "\n",
      "*** build_subnetwork() : last_layer= Tensor(\"adanet/iteration_7/subnetwork_t7_DNN_linear/dropout/Identity:0\", shape=(?, 128), dtype=float32)\n",
      "INFO:tensorflow:Building subnetwork 'DNN_layer_1'\n"
     ]
    },
    {
     "name": "stderr",
     "output_type": "stream",
     "text": [
      "I0512 13:09:34.016119 140384601073472 iteration.py:337] Building subnetwork 'DNN_layer_1'\n"
     ]
    },
    {
     "name": "stdout",
     "output_type": "stream",
     "text": [
      "\n",
      "\n",
      "*** build_subnetwork() : features= {'images': <tf.Tensor 'IteratorGetNext:0' shape=(?, 224, 224, 3) dtype=float32>}\n",
      "\n",
      "\n",
      "*** build_subnetwork() : self._feature_columns= [NumericColumn(key='images', shape=(224, 224, 3), default_value=None, dtype=tf.float32, normalizer_fn=None)]\n",
      "\n",
      "\n",
      "*** build_subnetwork() : NN type= DNN / Input layer shape= (?, 150528)\n",
      "**** *** _build_dnn_subnetwork : Layers= 1\n",
      "\n",
      "\n",
      "*** build_subnetwork() : last_layer= Tensor(\"adanet/iteration_7/subnetwork_t7_DNN_layer_1/dropout/Identity:0\", shape=(?, 128), dtype=float32)\n",
      "WARNING:tensorflow:Using an `adanet.subnetwork.Builder#prune_previous_ensemble` is deprecated. Please use a custom `adanet.ensemble.Strategy` instead.\n"
     ]
    },
    {
     "name": "stderr",
     "output_type": "stream",
     "text": [
      "W0512 13:09:34.157821 140384601073472 tf_logging.py:161] Using an `adanet.subnetwork.Builder#prune_previous_ensemble` is deprecated. Please use a custom `adanet.ensemble.Strategy` instead.\n"
     ]
    },
    {
     "name": "stdout",
     "output_type": "stream",
     "text": [
      "WARNING:tensorflow:Using an `adanet.subnetwork.Builder#prune_previous_ensemble` is deprecated. Please use a custom `adanet.ensemble.Strategy` instead.\n"
     ]
    },
    {
     "name": "stderr",
     "output_type": "stream",
     "text": [
      "W0512 13:09:34.287510 140384601073472 tf_logging.py:161] Using an `adanet.subnetwork.Builder#prune_previous_ensemble` is deprecated. Please use a custom `adanet.ensemble.Strategy` instead.\n"
     ]
    },
    {
     "name": "stdout",
     "output_type": "stream",
     "text": [
      "INFO:tensorflow:Done calling model_fn.\n"
     ]
    },
    {
     "name": "stderr",
     "output_type": "stream",
     "text": [
      "I0512 13:09:34.534815 140384601073472 estimator.py:1113] Done calling model_fn.\n"
     ]
    },
    {
     "name": "stdout",
     "output_type": "stream",
     "text": [
      "INFO:tensorflow:Starting evaluation at 2019-05-12T11:09:34Z\n"
     ]
    },
    {
     "name": "stderr",
     "output_type": "stream",
     "text": [
      "I0512 13:09:34.550692 140384601073472 evaluation.py:257] Starting evaluation at 2019-05-12T11:09:34Z\n"
     ]
    },
    {
     "name": "stdout",
     "output_type": "stream",
     "text": [
      "INFO:tensorflow:Graph was finalized.\n"
     ]
    },
    {
     "name": "stderr",
     "output_type": "stream",
     "text": [
      "I0512 13:09:34.804963 140384601073472 monitored_session.py:222] Graph was finalized.\n"
     ]
    },
    {
     "name": "stdout",
     "output_type": "stream",
     "text": [
      "INFO:tensorflow:Restoring parameters from ./tmp/adanet/DNN/model.ckpt-40\n"
     ]
    },
    {
     "name": "stderr",
     "output_type": "stream",
     "text": [
      "I0512 13:09:34.808126 140384601073472 saver.py:1270] Restoring parameters from ./tmp/adanet/DNN/model.ckpt-40\n"
     ]
    },
    {
     "name": "stdout",
     "output_type": "stream",
     "text": [
      "INFO:tensorflow:Running local_init_op.\n"
     ]
    },
    {
     "name": "stderr",
     "output_type": "stream",
     "text": [
      "I0512 13:09:34.959967 140384601073472 session_manager.py:491] Running local_init_op.\n"
     ]
    },
    {
     "name": "stdout",
     "output_type": "stream",
     "text": [
      "INFO:tensorflow:Done running local_init_op.\n"
     ]
    },
    {
     "name": "stderr",
     "output_type": "stream",
     "text": [
      "I0512 13:09:35.028395 140384601073472 session_manager.py:493] Done running local_init_op.\n"
     ]
    },
    {
     "name": "stdout",
     "output_type": "stream",
     "text": [
      "\n",
      "*** generator() : labels shape= (47,) / label values= 0\n",
      "INFO:tensorflow:Finished evaluation at 2019-05-12-11:09:35\n"
     ]
    },
    {
     "name": "stderr",
     "output_type": "stream",
     "text": [
      "I0512 13:09:35.947921 140384601073472 evaluation.py:277] Finished evaluation at 2019-05-12-11:09:35\n"
     ]
    },
    {
     "name": "stdout",
     "output_type": "stream",
     "text": [
      "INFO:tensorflow:Saving dict for global step 40: accuracy = 0.38297874, average_loss = 1.1970296, global_step = 40, loss = 1.146147\n"
     ]
    },
    {
     "name": "stderr",
     "output_type": "stream",
     "text": [
      "I0512 13:09:35.949181 140384601073472 estimator.py:1979] Saving dict for global step 40: accuracy = 0.38297874, average_loss = 1.1970296, global_step = 40, loss = 1.146147\n"
     ]
    },
    {
     "name": "stdout",
     "output_type": "stream",
     "text": [
      "INFO:tensorflow:Saving 'checkpoint_path' summary for global step 40: ./tmp/adanet/DNN/model.ckpt-40\n"
     ]
    },
    {
     "name": "stderr",
     "output_type": "stream",
     "text": [
      "I0512 13:09:35.951210 140384601073472 estimator.py:2039] Saving 'checkpoint_path' summary for global step 40: ./tmp/adanet/DNN/model.ckpt-40\n"
     ]
    },
    {
     "name": "stdout",
     "output_type": "stream",
     "text": [
      "INFO:tensorflow:Loss for final step: 1.1076792.\n"
     ]
    },
    {
     "name": "stderr",
     "output_type": "stream",
     "text": [
      "I0512 13:09:36.022218 140384601073472 estimator.py:359] Loss for final step: 1.1076792.\n"
     ]
    },
    {
     "name": "stdout",
     "output_type": "stream",
     "text": [
      "\n",
      "*** input_fn() : feature_shape= (224, 224, 3) / label_shape= [1]\n",
      "\n",
      "*** preprocess_color_image() : label shape= ()\n",
      "\n",
      "***_input_fn() : Label shape =[1]\n",
      "INFO:tensorflow:Calling model_fn.\n"
     ]
    },
    {
     "name": "stderr",
     "output_type": "stream",
     "text": [
      "I0512 13:09:36.104889 140384601073472 estimator.py:1111] Calling model_fn.\n"
     ]
    },
    {
     "name": "stdout",
     "output_type": "stream",
     "text": [
      "\n",
      "*** NNGenerator : layers= (0,1)\n",
      "\n",
      "*** NNAdaNetBuilder : NN Type=DNN\n",
      "\n",
      "*** get_tf_head() : feature shape= (224, 224, 3)\n",
      "\n",
      "*** get_tf_head() : feature columns= [NumericColumn(key='images', shape=(224, 224, 3), default_value=None, dtype=tf.float32, normalizer_fn=None)]\n",
      "\n",
      "*** NNAdaNetBuilder : NN Type=DNN\n",
      "\n",
      "*** get_tf_head() : feature shape= (224, 224, 3)\n",
      "\n",
      "*** get_tf_head() : feature columns= [NumericColumn(key='images', shape=(224, 224, 3), default_value=None, dtype=tf.float32, normalizer_fn=None)]\n",
      "INFO:tensorflow:Rebuilding iteration 0\n"
     ]
    },
    {
     "name": "stderr",
     "output_type": "stream",
     "text": [
      "I0512 13:09:36.110111 140384601073472 iteration.py:250] Rebuilding iteration 0\n"
     ]
    },
    {
     "name": "stdout",
     "output_type": "stream",
     "text": [
      "INFO:tensorflow:Rebuilding subnetwork 'DNN_linear'\n"
     ]
    },
    {
     "name": "stderr",
     "output_type": "stream",
     "text": [
      "I0512 13:09:36.124480 140384601073472 iteration.py:337] Rebuilding subnetwork 'DNN_linear'\n"
     ]
    },
    {
     "name": "stdout",
     "output_type": "stream",
     "text": [
      "\n",
      "\n",
      "*** build_subnetwork() : features= {'images': <tf.Tensor 'IteratorGetNext:0' shape=(?, 224, 224, 3) dtype=float32>}\n",
      "\n",
      "\n",
      "*** build_subnetwork() : self._feature_columns= [NumericColumn(key='images', shape=(224, 224, 3), default_value=None, dtype=tf.float32, normalizer_fn=None)]\n",
      "\n",
      "\n",
      "*** build_subnetwork() : NN type= DNN / Input layer shape= (?, 150528)\n",
      "**** *** _build_dnn_subnetwork : Layers= 1\n",
      "\n",
      "\n",
      "*** build_subnetwork() : last_layer= Tensor(\"adanet/iteration_0/subnetwork_t0_DNN_linear/dropout/Identity:0\", shape=(?, 128), dtype=float32)\n",
      "\n",
      "*** NNGenerator : layers= (0,1)\n",
      "\n",
      "*** NNAdaNetBuilder : NN Type=DNN\n",
      "\n",
      "*** get_tf_head() : feature shape= (224, 224, 3)\n",
      "\n",
      "*** get_tf_head() : feature columns= [NumericColumn(key='images', shape=(224, 224, 3), default_value=None, dtype=tf.float32, normalizer_fn=None)]\n",
      "\n",
      "*** NNAdaNetBuilder : NN Type=DNN\n",
      "\n",
      "*** get_tf_head() : feature shape= (224, 224, 3)\n",
      "\n",
      "*** get_tf_head() : feature columns= [NumericColumn(key='images', shape=(224, 224, 3), default_value=None, dtype=tf.float32, normalizer_fn=None)]\n",
      "INFO:tensorflow:Building iteration 7\n"
     ]
    },
    {
     "name": "stderr",
     "output_type": "stream",
     "text": [
      "I0512 13:09:36.445622 140384601073472 iteration.py:250] Building iteration 7\n"
     ]
    },
    {
     "name": "stdout",
     "output_type": "stream",
     "text": [
      "INFO:tensorflow:Building subnetwork 'DNN_linear'\n"
     ]
    },
    {
     "name": "stderr",
     "output_type": "stream",
     "text": [
      "I0512 13:09:36.490189 140384601073472 iteration.py:337] Building subnetwork 'DNN_linear'\n"
     ]
    },
    {
     "name": "stdout",
     "output_type": "stream",
     "text": [
      "\n",
      "\n",
      "*** build_subnetwork() : features= {'images': <tf.Tensor 'IteratorGetNext:0' shape=(?, 224, 224, 3) dtype=float32>}\n",
      "\n",
      "\n",
      "*** build_subnetwork() : self._feature_columns= [NumericColumn(key='images', shape=(224, 224, 3), default_value=None, dtype=tf.float32, normalizer_fn=None)]\n",
      "\n",
      "\n",
      "*** build_subnetwork() : NN type= DNN / Input layer shape= (?, 150528)\n",
      "**** *** _build_dnn_subnetwork : Layers= 1\n",
      "\n",
      "\n",
      "*** build_subnetwork() : last_layer= Tensor(\"adanet/iteration_7/subnetwork_t7_DNN_linear/dropout/Identity:0\", shape=(?, 128), dtype=float32)\n",
      "INFO:tensorflow:Building subnetwork 'DNN_layer_1'\n"
     ]
    },
    {
     "name": "stderr",
     "output_type": "stream",
     "text": [
      "I0512 13:09:36.636985 140384601073472 iteration.py:337] Building subnetwork 'DNN_layer_1'\n"
     ]
    },
    {
     "name": "stdout",
     "output_type": "stream",
     "text": [
      "\n",
      "\n",
      "*** build_subnetwork() : features= {'images': <tf.Tensor 'IteratorGetNext:0' shape=(?, 224, 224, 3) dtype=float32>}\n",
      "\n",
      "\n",
      "*** build_subnetwork() : self._feature_columns= [NumericColumn(key='images', shape=(224, 224, 3), default_value=None, dtype=tf.float32, normalizer_fn=None)]\n",
      "\n",
      "\n",
      "*** build_subnetwork() : NN type= DNN / Input layer shape= (?, 150528)\n",
      "**** *** _build_dnn_subnetwork : Layers= 1\n",
      "\n",
      "\n",
      "*** build_subnetwork() : last_layer= Tensor(\"adanet/iteration_7/subnetwork_t7_DNN_layer_1/dropout/Identity:0\", shape=(?, 128), dtype=float32)\n",
      "WARNING:tensorflow:Using an `adanet.subnetwork.Builder#prune_previous_ensemble` is deprecated. Please use a custom `adanet.ensemble.Strategy` instead.\n"
     ]
    },
    {
     "name": "stderr",
     "output_type": "stream",
     "text": [
      "W0512 13:09:36.785311 140384601073472 tf_logging.py:161] Using an `adanet.subnetwork.Builder#prune_previous_ensemble` is deprecated. Please use a custom `adanet.ensemble.Strategy` instead.\n"
     ]
    },
    {
     "name": "stdout",
     "output_type": "stream",
     "text": [
      "WARNING:tensorflow:Using an `adanet.subnetwork.Builder#prune_previous_ensemble` is deprecated. Please use a custom `adanet.ensemble.Strategy` instead.\n"
     ]
    },
    {
     "name": "stderr",
     "output_type": "stream",
     "text": [
      "W0512 13:09:36.900317 140384601073472 tf_logging.py:161] Using an `adanet.subnetwork.Builder#prune_previous_ensemble` is deprecated. Please use a custom `adanet.ensemble.Strategy` instead.\n"
     ]
    },
    {
     "name": "stdout",
     "output_type": "stream",
     "text": [
      "INFO:tensorflow:Restoring parameters from ./tmp/adanet/DNN/model.ckpt-40\n"
     ]
    },
    {
     "name": "stderr",
     "output_type": "stream",
     "text": [
      "I0512 13:09:37.384840 140384601073472 saver.py:1270] Restoring parameters from ./tmp/adanet/DNN/model.ckpt-40\n"
     ]
    },
    {
     "name": "stdout",
     "output_type": "stream",
     "text": [
      "WARNING:tensorflow:`tf.train.start_queue_runners()` was called when no queue runners were defined. You can safely remove the call to this deprecated function.\n"
     ]
    },
    {
     "name": "stderr",
     "output_type": "stream",
     "text": [
      "W0512 13:09:37.531208 140384601073472 queue_runner_impl.py:471] `tf.train.start_queue_runners()` was called when no queue runners were defined. You can safely remove the call to this deprecated function.\n"
     ]
    },
    {
     "name": "stdout",
     "output_type": "stream",
     "text": [
      "\n",
      "*** generator() : labels shape= (414,) / label values= 1\n",
      "\n",
      "*** generator() : labels shape= (414,) / label values= 1\n",
      "\n",
      "*** generator() : labels shape= (414,) / label values= 1\n",
      "\n",
      "*** generator() : labels shape= (414,) / label values= 1\n",
      "\n",
      "*** generator() : labels shape= (414,) / label values= 1\n",
      "\n",
      "*** generator() : labels shape= (414,) / label values= 1\n",
      "INFO:tensorflow:Done calling model_fn.\n"
     ]
    },
    {
     "name": "stderr",
     "output_type": "stream",
     "text": [
      "I0512 13:09:41.810119 140384601073472 estimator.py:1113] Done calling model_fn.\n"
     ]
    },
    {
     "name": "stdout",
     "output_type": "stream",
     "text": [
      "INFO:tensorflow:Using config: {'_model_dir': './tmp/adanet/DNN/temp_model_dir', '_tf_random_seed': 42, '_save_summary_steps': 100, '_save_checkpoints_steps': None, '_save_checkpoints_secs': 600, '_session_config': allow_soft_placement: true\n",
      "graph_options {\n",
      "  rewrite_options {\n",
      "    meta_optimizer_iterations: ONE\n",
      "  }\n",
      "}\n",
      ", '_keep_checkpoint_max': 5, '_keep_checkpoint_every_n_hours': 10000, '_log_step_count_steps': 100, '_train_distribute': None, '_device_fn': None, '_protocol': None, '_eval_distribute': None, '_experimental_distribute': None, '_service': None, '_cluster_spec': <tensorflow.python.training.server_lib.ClusterSpec object at 0x7fac94982470>, '_task_type': 'worker', '_task_id': 0, '_global_id_in_cluster': 0, '_master': '', '_evaluation_master': '', '_is_chief': True, '_num_ps_replicas': 0, '_num_worker_replicas': 1}\n"
     ]
    },
    {
     "name": "stderr",
     "output_type": "stream",
     "text": [
      "I0512 13:09:41.811267 140384601073472 estimator.py:201] Using config: {'_model_dir': './tmp/adanet/DNN/temp_model_dir', '_tf_random_seed': 42, '_save_summary_steps': 100, '_save_checkpoints_steps': None, '_save_checkpoints_secs': 600, '_session_config': allow_soft_placement: true\n",
      "graph_options {\n",
      "  rewrite_options {\n",
      "    meta_optimizer_iterations: ONE\n",
      "  }\n",
      "}\n",
      ", '_keep_checkpoint_max': 5, '_keep_checkpoint_every_n_hours': 10000, '_log_step_count_steps': 100, '_train_distribute': None, '_device_fn': None, '_protocol': None, '_eval_distribute': None, '_experimental_distribute': None, '_service': None, '_cluster_spec': <tensorflow.python.training.server_lib.ClusterSpec object at 0x7fac94982470>, '_task_type': 'worker', '_task_id': 0, '_global_id_in_cluster': 0, '_master': '', '_evaluation_master': '', '_is_chief': True, '_num_ps_replicas': 0, '_num_worker_replicas': 1}\n"
     ]
    },
    {
     "name": "stdout",
     "output_type": "stream",
     "text": [
      "\n",
      "*** input_fn() : feature_shape= (224, 224, 3) / label_shape= [1]\n",
      "\n",
      "*** preprocess_color_image() : label shape= ()\n",
      "\n",
      "***_input_fn() : Label shape =[1]\n",
      "INFO:tensorflow:Calling model_fn.\n"
     ]
    },
    {
     "name": "stderr",
     "output_type": "stream",
     "text": [
      "I0512 13:09:41.886055 140384601073472 estimator.py:1111] Calling model_fn.\n"
     ]
    },
    {
     "name": "stdout",
     "output_type": "stream",
     "text": [
      "\n",
      "*** NNGenerator : layers= (0,1)\n",
      "\n",
      "*** NNAdaNetBuilder : NN Type=DNN\n",
      "\n",
      "*** get_tf_head() : feature shape= (224, 224, 3)\n",
      "\n",
      "*** get_tf_head() : feature columns= [NumericColumn(key='images', shape=(224, 224, 3), default_value=None, dtype=tf.float32, normalizer_fn=None)]\n",
      "\n",
      "*** NNAdaNetBuilder : NN Type=DNN\n",
      "\n",
      "*** get_tf_head() : feature shape= (224, 224, 3)\n",
      "\n",
      "*** get_tf_head() : feature columns= [NumericColumn(key='images', shape=(224, 224, 3), default_value=None, dtype=tf.float32, normalizer_fn=None)]\n",
      "INFO:tensorflow:Rebuilding iteration 0\n"
     ]
    },
    {
     "name": "stderr",
     "output_type": "stream",
     "text": [
      "I0512 13:09:41.893197 140384601073472 iteration.py:250] Rebuilding iteration 0\n"
     ]
    },
    {
     "name": "stdout",
     "output_type": "stream",
     "text": [
      "INFO:tensorflow:Rebuilding subnetwork 'DNN_linear'\n"
     ]
    },
    {
     "name": "stderr",
     "output_type": "stream",
     "text": [
      "I0512 13:09:41.899159 140384601073472 iteration.py:337] Rebuilding subnetwork 'DNN_linear'\n"
     ]
    },
    {
     "name": "stdout",
     "output_type": "stream",
     "text": [
      "\n",
      "\n",
      "*** build_subnetwork() : features= {'images': <tf.Tensor 'IteratorGetNext:0' shape=(?, 224, 224, 3) dtype=float32>}\n",
      "\n",
      "\n",
      "*** build_subnetwork() : self._feature_columns= [NumericColumn(key='images', shape=(224, 224, 3), default_value=None, dtype=tf.float32, normalizer_fn=None)]\n",
      "\n",
      "\n",
      "*** build_subnetwork() : NN type= DNN / Input layer shape= (?, 150528)\n",
      "**** *** _build_dnn_subnetwork : Layers= 1\n",
      "\n",
      "\n",
      "*** build_subnetwork() : last_layer= Tensor(\"adanet/iteration_0/subnetwork_t0_DNN_linear/dropout/Identity:0\", shape=(?, 128), dtype=float32)\n",
      "\n",
      "*** NNGenerator : layers= (0,1)\n",
      "\n",
      "*** NNAdaNetBuilder : NN Type=DNN\n",
      "\n",
      "*** get_tf_head() : feature shape= (224, 224, 3)\n",
      "\n",
      "*** get_tf_head() : feature columns= [NumericColumn(key='images', shape=(224, 224, 3), default_value=None, dtype=tf.float32, normalizer_fn=None)]\n",
      "\n",
      "*** NNAdaNetBuilder : NN Type=DNN\n",
      "\n",
      "*** get_tf_head() : feature shape= (224, 224, 3)\n",
      "\n",
      "*** get_tf_head() : feature columns= [NumericColumn(key='images', shape=(224, 224, 3), default_value=None, dtype=tf.float32, normalizer_fn=None)]\n",
      "INFO:tensorflow:Building iteration 8\n"
     ]
    },
    {
     "name": "stderr",
     "output_type": "stream",
     "text": [
      "I0512 13:09:42.183527 140384601073472 iteration.py:250] Building iteration 8\n"
     ]
    },
    {
     "name": "stdout",
     "output_type": "stream",
     "text": [
      "INFO:tensorflow:Building subnetwork 'DNN_linear'\n"
     ]
    },
    {
     "name": "stderr",
     "output_type": "stream",
     "text": [
      "I0512 13:09:42.211791 140384601073472 iteration.py:337] Building subnetwork 'DNN_linear'\n"
     ]
    },
    {
     "name": "stdout",
     "output_type": "stream",
     "text": [
      "\n",
      "\n",
      "*** build_subnetwork() : features= {'images': <tf.Tensor 'IteratorGetNext:0' shape=(?, 224, 224, 3) dtype=float32>}\n",
      "\n",
      "\n",
      "*** build_subnetwork() : self._feature_columns= [NumericColumn(key='images', shape=(224, 224, 3), default_value=None, dtype=tf.float32, normalizer_fn=None)]\n",
      "\n",
      "\n",
      "*** build_subnetwork() : NN type= DNN / Input layer shape= (?, 150528)\n",
      "**** *** _build_dnn_subnetwork : Layers= 1\n",
      "\n",
      "\n",
      "*** build_subnetwork() : last_layer= Tensor(\"adanet/iteration_8/subnetwork_t8_DNN_linear/dense/Relu:0\", shape=(?, 128), dtype=float32)\n",
      "INFO:tensorflow:Building subnetwork 'DNN_layer_1'\n"
     ]
    },
    {
     "name": "stderr",
     "output_type": "stream",
     "text": [
      "I0512 13:09:42.396915 140384601073472 iteration.py:337] Building subnetwork 'DNN_layer_1'\n"
     ]
    },
    {
     "name": "stdout",
     "output_type": "stream",
     "text": [
      "\n",
      "\n",
      "*** build_subnetwork() : features= {'images': <tf.Tensor 'IteratorGetNext:0' shape=(?, 224, 224, 3) dtype=float32>}\n",
      "\n",
      "\n",
      "*** build_subnetwork() : self._feature_columns= [NumericColumn(key='images', shape=(224, 224, 3), default_value=None, dtype=tf.float32, normalizer_fn=None)]\n",
      "\n",
      "\n",
      "*** build_subnetwork() : NN type= DNN / Input layer shape= (?, 150528)\n",
      "**** *** _build_dnn_subnetwork : Layers= 1\n",
      "\n",
      "\n",
      "*** build_subnetwork() : last_layer= Tensor(\"adanet/iteration_8/subnetwork_t8_DNN_layer_1/dense/Relu:0\", shape=(?, 128), dtype=float32)\n",
      "WARNING:tensorflow:Using an `adanet.subnetwork.Builder#prune_previous_ensemble` is deprecated. Please use a custom `adanet.ensemble.Strategy` instead.\n"
     ]
    },
    {
     "name": "stderr",
     "output_type": "stream",
     "text": [
      "W0512 13:09:42.595299 140384601073472 tf_logging.py:161] Using an `adanet.subnetwork.Builder#prune_previous_ensemble` is deprecated. Please use a custom `adanet.ensemble.Strategy` instead.\n"
     ]
    },
    {
     "name": "stdout",
     "output_type": "stream",
     "text": [
      "WARNING:tensorflow:The `build_mixture_weights_train_op` method is deprecated. Please use the `Ensembler#build_train_op` instead.\n"
     ]
    },
    {
     "name": "stderr",
     "output_type": "stream",
     "text": [
      "W0512 13:09:42.681105 140384601073472 tf_logging.py:161] The `build_mixture_weights_train_op` method is deprecated. Please use the `Ensembler#build_train_op` instead.\n"
     ]
    },
    {
     "name": "stdout",
     "output_type": "stream",
     "text": [
      "WARNING:tensorflow:Using an `adanet.subnetwork.Builder#prune_previous_ensemble` is deprecated. Please use a custom `adanet.ensemble.Strategy` instead.\n"
     ]
    },
    {
     "name": "stderr",
     "output_type": "stream",
     "text": [
      "W0512 13:09:42.877709 140384601073472 tf_logging.py:161] Using an `adanet.subnetwork.Builder#prune_previous_ensemble` is deprecated. Please use a custom `adanet.ensemble.Strategy` instead.\n"
     ]
    },
    {
     "name": "stdout",
     "output_type": "stream",
     "text": [
      "WARNING:tensorflow:The `build_mixture_weights_train_op` method is deprecated. Please use the `Ensembler#build_train_op` instead.\n"
     ]
    },
    {
     "name": "stderr",
     "output_type": "stream",
     "text": [
      "W0512 13:09:43.132121 140384601073472 tf_logging.py:161] The `build_mixture_weights_train_op` method is deprecated. Please use the `Ensembler#build_train_op` instead.\n"
     ]
    },
    {
     "name": "stdout",
     "output_type": "stream",
     "text": [
      "INFO:tensorflow:Done calling model_fn.\n"
     ]
    },
    {
     "name": "stderr",
     "output_type": "stream",
     "text": [
      "I0512 13:09:43.303554 140384601073472 estimator.py:1113] Done calling model_fn.\n"
     ]
    },
    {
     "name": "stdout",
     "output_type": "stream",
     "text": [
      "INFO:tensorflow:Create CheckpointSaverHook.\n"
     ]
    },
    {
     "name": "stderr",
     "output_type": "stream",
     "text": [
      "I0512 13:09:43.304465 140384601073472 basic_session_run_hooks.py:527] Create CheckpointSaverHook.\n"
     ]
    },
    {
     "name": "stdout",
     "output_type": "stream",
     "text": [
      "INFO:tensorflow:Graph was finalized.\n"
     ]
    },
    {
     "name": "stderr",
     "output_type": "stream",
     "text": [
      "I0512 13:09:44.274570 140384601073472 monitored_session.py:222] Graph was finalized.\n"
     ]
    },
    {
     "name": "stdout",
     "output_type": "stream",
     "text": [
      "INFO:tensorflow:Running local_init_op.\n"
     ]
    },
    {
     "name": "stderr",
     "output_type": "stream",
     "text": [
      "I0512 13:09:45.468513 140384601073472 session_manager.py:491] Running local_init_op.\n"
     ]
    },
    {
     "name": "stdout",
     "output_type": "stream",
     "text": [
      "INFO:tensorflow:Done running local_init_op.\n"
     ]
    },
    {
     "name": "stderr",
     "output_type": "stream",
     "text": [
      "I0512 13:09:45.501835 140384601073472 session_manager.py:493] Done running local_init_op.\n"
     ]
    },
    {
     "name": "stdout",
     "output_type": "stream",
     "text": [
      "INFO:tensorflow:Saving checkpoints for 0 into ./tmp/adanet/DNN/temp_model_dir/model.ckpt.\n"
     ]
    },
    {
     "name": "stderr",
     "output_type": "stream",
     "text": [
      "I0512 13:09:46.394350 140384601073472 basic_session_run_hooks.py:594] Saving checkpoints for 0 into ./tmp/adanet/DNN/temp_model_dir/model.ckpt.\n"
     ]
    },
    {
     "name": "stdout",
     "output_type": "stream",
     "text": [
      "INFO:tensorflow:Restoring parameters from ./tmp/adanet/DNN/model.ckpt-40\n"
     ]
    },
    {
     "name": "stderr",
     "output_type": "stream",
     "text": [
      "I0512 13:09:46.887431 140384601073472 saver.py:1270] Restoring parameters from ./tmp/adanet/DNN/model.ckpt-40\n"
     ]
    },
    {
     "name": "stdout",
     "output_type": "stream",
     "text": [
      "INFO:tensorflow:loss = 1.0692801, step = 41\n"
     ]
    },
    {
     "name": "stderr",
     "output_type": "stream",
     "text": [
      "I0512 13:09:47.922069 140384601073472 basic_session_run_hooks.py:249] loss = 1.0692801, step = 41\n"
     ]
    },
    {
     "name": "stdout",
     "output_type": "stream",
     "text": [
      "INFO:tensorflow:Saving checkpoints for 41 into ./tmp/adanet/DNN/temp_model_dir/model.ckpt.\n"
     ]
    },
    {
     "name": "stderr",
     "output_type": "stream",
     "text": [
      "I0512 13:09:47.923473 140384601073472 basic_session_run_hooks.py:594] Saving checkpoints for 41 into ./tmp/adanet/DNN/temp_model_dir/model.ckpt.\n"
     ]
    },
    {
     "name": "stdout",
     "output_type": "stream",
     "text": [
      "INFO:tensorflow:Loss for final step: 1.0692801.\n"
     ]
    },
    {
     "name": "stderr",
     "output_type": "stream",
     "text": [
      "I0512 13:09:48.969341 140384601073472 estimator.py:359] Loss for final step: 1.0692801.\n"
     ]
    },
    {
     "name": "stdout",
     "output_type": "stream",
     "text": [
      "\n",
      "*** input_fn() : feature_shape= (224, 224, 3) / label_shape= [1]\n",
      "\n",
      "*** preprocess_color_image() : label shape= ()\n",
      "\n",
      "***_input_fn() : Label shape =[1]\n",
      "INFO:tensorflow:Calling model_fn.\n"
     ]
    },
    {
     "name": "stderr",
     "output_type": "stream",
     "text": [
      "I0512 13:09:49.304550 140384601073472 estimator.py:1111] Calling model_fn.\n"
     ]
    },
    {
     "name": "stdout",
     "output_type": "stream",
     "text": [
      "\n",
      "*** NNGenerator : layers= (0,1)\n",
      "\n",
      "*** NNAdaNetBuilder : NN Type=DNN\n",
      "\n",
      "*** get_tf_head() : feature shape= (224, 224, 3)\n",
      "\n",
      "*** get_tf_head() : feature columns= [NumericColumn(key='images', shape=(224, 224, 3), default_value=None, dtype=tf.float32, normalizer_fn=None)]\n",
      "\n",
      "*** NNAdaNetBuilder : NN Type=DNN\n",
      "\n",
      "*** get_tf_head() : feature shape= (224, 224, 3)\n",
      "\n",
      "*** get_tf_head() : feature columns= [NumericColumn(key='images', shape=(224, 224, 3), default_value=None, dtype=tf.float32, normalizer_fn=None)]\n",
      "INFO:tensorflow:Rebuilding iteration 0\n"
     ]
    },
    {
     "name": "stderr",
     "output_type": "stream",
     "text": [
      "I0512 13:09:49.316420 140384601073472 iteration.py:250] Rebuilding iteration 0\n"
     ]
    },
    {
     "name": "stdout",
     "output_type": "stream",
     "text": [
      "INFO:tensorflow:Rebuilding subnetwork 'DNN_linear'\n"
     ]
    },
    {
     "name": "stderr",
     "output_type": "stream",
     "text": [
      "I0512 13:09:49.321682 140384601073472 iteration.py:337] Rebuilding subnetwork 'DNN_linear'\n"
     ]
    },
    {
     "name": "stdout",
     "output_type": "stream",
     "text": [
      "\n",
      "\n",
      "*** build_subnetwork() : features= {'images': <tf.Tensor 'IteratorGetNext:0' shape=(?, 224, 224, 3) dtype=float32>}\n",
      "\n",
      "\n",
      "*** build_subnetwork() : self._feature_columns= [NumericColumn(key='images', shape=(224, 224, 3), default_value=None, dtype=tf.float32, normalizer_fn=None)]\n",
      "\n",
      "\n",
      "*** build_subnetwork() : NN type= DNN / Input layer shape= (?, 150528)\n",
      "**** *** _build_dnn_subnetwork : Layers= 1\n",
      "\n",
      "\n",
      "*** build_subnetwork() : last_layer= Tensor(\"adanet/iteration_0/subnetwork_t0_DNN_linear/dropout/Identity:0\", shape=(?, 128), dtype=float32)\n",
      "\n",
      "*** NNGenerator : layers= (0,1)\n",
      "\n",
      "*** NNAdaNetBuilder : NN Type=DNN\n",
      "\n",
      "*** get_tf_head() : feature shape= (224, 224, 3)\n",
      "\n",
      "*** get_tf_head() : feature columns= [NumericColumn(key='images', shape=(224, 224, 3), default_value=None, dtype=tf.float32, normalizer_fn=None)]\n",
      "\n",
      "*** NNAdaNetBuilder : NN Type=DNN\n",
      "\n",
      "*** get_tf_head() : feature shape= (224, 224, 3)\n",
      "\n",
      "*** get_tf_head() : feature columns= [NumericColumn(key='images', shape=(224, 224, 3), default_value=None, dtype=tf.float32, normalizer_fn=None)]\n",
      "INFO:tensorflow:Building iteration 8\n"
     ]
    },
    {
     "name": "stderr",
     "output_type": "stream",
     "text": [
      "I0512 13:09:49.666946 140384601073472 iteration.py:250] Building iteration 8\n"
     ]
    },
    {
     "name": "stdout",
     "output_type": "stream",
     "text": [
      "INFO:tensorflow:Building subnetwork 'DNN_linear'\n"
     ]
    },
    {
     "name": "stderr",
     "output_type": "stream",
     "text": [
      "I0512 13:09:50.213435 140384601073472 iteration.py:337] Building subnetwork 'DNN_linear'\n"
     ]
    },
    {
     "name": "stdout",
     "output_type": "stream",
     "text": [
      "\n",
      "\n",
      "*** build_subnetwork() : features= {'images': <tf.Tensor 'IteratorGetNext:0' shape=(?, 224, 224, 3) dtype=float32>}\n",
      "\n",
      "\n",
      "*** build_subnetwork() : self._feature_columns= [NumericColumn(key='images', shape=(224, 224, 3), default_value=None, dtype=tf.float32, normalizer_fn=None)]\n",
      "\n",
      "\n",
      "*** build_subnetwork() : NN type= DNN / Input layer shape= (?, 150528)\n",
      "**** *** _build_dnn_subnetwork : Layers= 1\n",
      "\n",
      "\n",
      "*** build_subnetwork() : last_layer= Tensor(\"adanet/iteration_8/subnetwork_t8_DNN_linear/dense/Relu:0\", shape=(?, 128), dtype=float32)\n",
      "INFO:tensorflow:Building subnetwork 'DNN_layer_1'\n"
     ]
    },
    {
     "name": "stderr",
     "output_type": "stream",
     "text": [
      "I0512 13:09:50.385605 140384601073472 iteration.py:337] Building subnetwork 'DNN_layer_1'\n"
     ]
    },
    {
     "name": "stdout",
     "output_type": "stream",
     "text": [
      "\n",
      "\n",
      "*** build_subnetwork() : features= {'images': <tf.Tensor 'IteratorGetNext:0' shape=(?, 224, 224, 3) dtype=float32>}\n",
      "\n",
      "\n",
      "*** build_subnetwork() : self._feature_columns= [NumericColumn(key='images', shape=(224, 224, 3), default_value=None, dtype=tf.float32, normalizer_fn=None)]\n",
      "\n",
      "\n",
      "*** build_subnetwork() : NN type= DNN / Input layer shape= (?, 150528)\n",
      "**** *** _build_dnn_subnetwork : Layers= 1\n",
      "\n",
      "\n",
      "*** build_subnetwork() : last_layer= Tensor(\"adanet/iteration_8/subnetwork_t8_DNN_layer_1/dense/Relu:0\", shape=(?, 128), dtype=float32)\n",
      "WARNING:tensorflow:Using an `adanet.subnetwork.Builder#prune_previous_ensemble` is deprecated. Please use a custom `adanet.ensemble.Strategy` instead.\n"
     ]
    },
    {
     "name": "stderr",
     "output_type": "stream",
     "text": [
      "W0512 13:09:50.756211 140384601073472 tf_logging.py:161] Using an `adanet.subnetwork.Builder#prune_previous_ensemble` is deprecated. Please use a custom `adanet.ensemble.Strategy` instead.\n"
     ]
    },
    {
     "name": "stdout",
     "output_type": "stream",
     "text": [
      "WARNING:tensorflow:The `build_mixture_weights_train_op` method is deprecated. Please use the `Ensembler#build_train_op` instead.\n"
     ]
    },
    {
     "name": "stderr",
     "output_type": "stream",
     "text": [
      "W0512 13:09:51.011634 140384601073472 tf_logging.py:161] The `build_mixture_weights_train_op` method is deprecated. Please use the `Ensembler#build_train_op` instead.\n"
     ]
    },
    {
     "name": "stdout",
     "output_type": "stream",
     "text": [
      "WARNING:tensorflow:Using an `adanet.subnetwork.Builder#prune_previous_ensemble` is deprecated. Please use a custom `adanet.ensemble.Strategy` instead.\n"
     ]
    },
    {
     "name": "stderr",
     "output_type": "stream",
     "text": [
      "W0512 13:09:51.270632 140384601073472 tf_logging.py:161] Using an `adanet.subnetwork.Builder#prune_previous_ensemble` is deprecated. Please use a custom `adanet.ensemble.Strategy` instead.\n"
     ]
    },
    {
     "name": "stdout",
     "output_type": "stream",
     "text": [
      "WARNING:tensorflow:The `build_mixture_weights_train_op` method is deprecated. Please use the `Ensembler#build_train_op` instead.\n"
     ]
    },
    {
     "name": "stderr",
     "output_type": "stream",
     "text": [
      "W0512 13:09:51.371375 140384601073472 tf_logging.py:161] The `build_mixture_weights_train_op` method is deprecated. Please use the `Ensembler#build_train_op` instead.\n"
     ]
    },
    {
     "name": "stdout",
     "output_type": "stream",
     "text": [
      "INFO:tensorflow:Done calling model_fn.\n"
     ]
    },
    {
     "name": "stderr",
     "output_type": "stream",
     "text": [
      "I0512 13:09:51.538195 140384601073472 estimator.py:1113] Done calling model_fn.\n"
     ]
    },
    {
     "name": "stdout",
     "output_type": "stream",
     "text": [
      "INFO:tensorflow:Create CheckpointSaverHook.\n"
     ]
    },
    {
     "name": "stderr",
     "output_type": "stream",
     "text": [
      "I0512 13:09:51.539110 140384601073472 basic_session_run_hooks.py:527] Create CheckpointSaverHook.\n"
     ]
    },
    {
     "name": "stdout",
     "output_type": "stream",
     "text": [
      "INFO:tensorflow:Graph was finalized.\n"
     ]
    },
    {
     "name": "stderr",
     "output_type": "stream",
     "text": [
      "I0512 13:09:51.730831 140384601073472 monitored_session.py:222] Graph was finalized.\n"
     ]
    },
    {
     "name": "stdout",
     "output_type": "stream",
     "text": [
      "INFO:tensorflow:Restoring parameters from ./tmp/adanet/DNN/increment.ckpt-8\n"
     ]
    },
    {
     "name": "stderr",
     "output_type": "stream",
     "text": [
      "I0512 13:09:51.733321 140384601073472 saver.py:1270] Restoring parameters from ./tmp/adanet/DNN/increment.ckpt-8\n"
     ]
    },
    {
     "name": "stdout",
     "output_type": "stream",
     "text": [
      "INFO:tensorflow:Running local_init_op.\n"
     ]
    },
    {
     "name": "stderr",
     "output_type": "stream",
     "text": [
      "I0512 13:09:52.105930 140384601073472 session_manager.py:491] Running local_init_op.\n"
     ]
    },
    {
     "name": "stdout",
     "output_type": "stream",
     "text": [
      "INFO:tensorflow:Done running local_init_op.\n"
     ]
    },
    {
     "name": "stderr",
     "output_type": "stream",
     "text": [
      "I0512 13:09:52.172401 140384601073472 session_manager.py:493] Done running local_init_op.\n"
     ]
    },
    {
     "name": "stdout",
     "output_type": "stream",
     "text": [
      "INFO:tensorflow:Saving checkpoints for 40 into ./tmp/adanet/DNN/model.ckpt.\n"
     ]
    },
    {
     "name": "stderr",
     "output_type": "stream",
     "text": [
      "I0512 13:09:53.161888 140384601073472 basic_session_run_hooks.py:594] Saving checkpoints for 40 into ./tmp/adanet/DNN/model.ckpt.\n"
     ]
    },
    {
     "name": "stdout",
     "output_type": "stream",
     "text": [
      "INFO:tensorflow:loss = 1.0692801, step = 41\n"
     ]
    },
    {
     "name": "stderr",
     "output_type": "stream",
     "text": [
      "I0512 13:09:55.786456 140384601073472 basic_session_run_hooks.py:249] loss = 1.0692801, step = 41\n"
     ]
    },
    {
     "name": "stdout",
     "output_type": "stream",
     "text": [
      "\n",
      "*** generator() : labels shape= (414,) / label values= 1\n",
      "INFO:tensorflow:Saving checkpoints for 45 into ./tmp/adanet/DNN/model.ckpt.\n"
     ]
    },
    {
     "name": "stderr",
     "output_type": "stream",
     "text": [
      "I0512 13:09:56.552763 140384601073472 basic_session_run_hooks.py:594] Saving checkpoints for 45 into ./tmp/adanet/DNN/model.ckpt.\n"
     ]
    },
    {
     "name": "stdout",
     "output_type": "stream",
     "text": [
      "\n",
      "*** input_fn() : feature_shape= (224, 224, 3) / label_shape= [1]\n",
      "\n",
      "*** input_fn : TEST / feature_shape= (224, 224, 3)\n",
      "\n",
      "*** preprocess_color_image() : label shape= ()\n",
      "\n",
      "***_input_fn() : Label shape =[1]\n",
      "INFO:tensorflow:Calling model_fn.\n"
     ]
    },
    {
     "name": "stderr",
     "output_type": "stream",
     "text": [
      "I0512 13:09:57.131335 140384601073472 estimator.py:1111] Calling model_fn.\n"
     ]
    },
    {
     "name": "stdout",
     "output_type": "stream",
     "text": [
      "\n",
      "*** NNGenerator : layers= (0,1)\n",
      "\n",
      "*** NNAdaNetBuilder : NN Type=DNN\n",
      "\n",
      "*** get_tf_head() : feature shape= (224, 224, 3)\n",
      "\n",
      "*** get_tf_head() : feature columns= [NumericColumn(key='images', shape=(224, 224, 3), default_value=None, dtype=tf.float32, normalizer_fn=None)]\n",
      "\n",
      "*** NNAdaNetBuilder : NN Type=DNN\n",
      "\n",
      "*** get_tf_head() : feature shape= (224, 224, 3)\n",
      "\n",
      "*** get_tf_head() : feature columns= [NumericColumn(key='images', shape=(224, 224, 3), default_value=None, dtype=tf.float32, normalizer_fn=None)]\n",
      "INFO:tensorflow:Rebuilding iteration 0\n"
     ]
    },
    {
     "name": "stderr",
     "output_type": "stream",
     "text": [
      "I0512 13:09:57.137069 140384601073472 iteration.py:250] Rebuilding iteration 0\n"
     ]
    },
    {
     "name": "stdout",
     "output_type": "stream",
     "text": [
      "INFO:tensorflow:Rebuilding subnetwork 'DNN_linear'\n"
     ]
    },
    {
     "name": "stderr",
     "output_type": "stream",
     "text": [
      "I0512 13:09:57.147707 140384601073472 iteration.py:337] Rebuilding subnetwork 'DNN_linear'\n"
     ]
    },
    {
     "name": "stdout",
     "output_type": "stream",
     "text": [
      "\n",
      "\n",
      "*** build_subnetwork() : features= {'images': <tf.Tensor 'IteratorGetNext:0' shape=(?, 224, 224, 3) dtype=float32>}\n",
      "\n",
      "\n",
      "*** build_subnetwork() : self._feature_columns= [NumericColumn(key='images', shape=(224, 224, 3), default_value=None, dtype=tf.float32, normalizer_fn=None)]\n",
      "\n",
      "\n",
      "*** build_subnetwork() : NN type= DNN / Input layer shape= (?, 150528)\n",
      "**** *** _build_dnn_subnetwork : Layers= 1\n",
      "\n",
      "\n",
      "*** build_subnetwork() : last_layer= Tensor(\"adanet/iteration_0/subnetwork_t0_DNN_linear/dropout/Identity:0\", shape=(?, 128), dtype=float32)\n",
      "\n",
      "*** NNGenerator : layers= (0,1)\n",
      "\n",
      "*** NNAdaNetBuilder : NN Type=DNN\n",
      "\n",
      "*** get_tf_head() : feature shape= (224, 224, 3)\n",
      "\n",
      "*** get_tf_head() : feature columns= [NumericColumn(key='images', shape=(224, 224, 3), default_value=None, dtype=tf.float32, normalizer_fn=None)]\n",
      "\n",
      "*** NNAdaNetBuilder : NN Type=DNN\n",
      "\n",
      "*** get_tf_head() : feature shape= (224, 224, 3)\n",
      "\n",
      "*** get_tf_head() : feature columns= [NumericColumn(key='images', shape=(224, 224, 3), default_value=None, dtype=tf.float32, normalizer_fn=None)]\n",
      "INFO:tensorflow:Building iteration 8\n"
     ]
    },
    {
     "name": "stderr",
     "output_type": "stream",
     "text": [
      "I0512 13:09:57.966568 140384601073472 iteration.py:250] Building iteration 8\n"
     ]
    },
    {
     "name": "stdout",
     "output_type": "stream",
     "text": [
      "INFO:tensorflow:Building subnetwork 'DNN_linear'\n"
     ]
    },
    {
     "name": "stderr",
     "output_type": "stream",
     "text": [
      "I0512 13:09:58.003717 140384601073472 iteration.py:337] Building subnetwork 'DNN_linear'\n"
     ]
    },
    {
     "name": "stdout",
     "output_type": "stream",
     "text": [
      "\n",
      "\n",
      "*** build_subnetwork() : features= {'images': <tf.Tensor 'IteratorGetNext:0' shape=(?, 224, 224, 3) dtype=float32>}\n",
      "\n",
      "\n",
      "*** build_subnetwork() : self._feature_columns= [NumericColumn(key='images', shape=(224, 224, 3), default_value=None, dtype=tf.float32, normalizer_fn=None)]\n",
      "\n",
      "\n",
      "*** build_subnetwork() : NN type= DNN / Input layer shape= (?, 150528)\n",
      "**** *** _build_dnn_subnetwork : Layers= 1\n",
      "\n",
      "\n",
      "*** build_subnetwork() : last_layer= Tensor(\"adanet/iteration_8/subnetwork_t8_DNN_linear/dropout/Identity:0\", shape=(?, 128), dtype=float32)\n",
      "INFO:tensorflow:Building subnetwork 'DNN_layer_1'\n"
     ]
    },
    {
     "name": "stderr",
     "output_type": "stream",
     "text": [
      "I0512 13:09:58.176162 140384601073472 iteration.py:337] Building subnetwork 'DNN_layer_1'\n"
     ]
    },
    {
     "name": "stdout",
     "output_type": "stream",
     "text": [
      "\n",
      "\n",
      "*** build_subnetwork() : features= {'images': <tf.Tensor 'IteratorGetNext:0' shape=(?, 224, 224, 3) dtype=float32>}\n",
      "\n",
      "\n",
      "*** build_subnetwork() : self._feature_columns= [NumericColumn(key='images', shape=(224, 224, 3), default_value=None, dtype=tf.float32, normalizer_fn=None)]\n",
      "\n",
      "\n",
      "*** build_subnetwork() : NN type= DNN / Input layer shape= (?, 150528)\n",
      "**** *** _build_dnn_subnetwork : Layers= 1\n",
      "\n",
      "\n",
      "*** build_subnetwork() : last_layer= Tensor(\"adanet/iteration_8/subnetwork_t8_DNN_layer_1/dropout/Identity:0\", shape=(?, 128), dtype=float32)\n",
      "WARNING:tensorflow:Using an `adanet.subnetwork.Builder#prune_previous_ensemble` is deprecated. Please use a custom `adanet.ensemble.Strategy` instead.\n"
     ]
    },
    {
     "name": "stderr",
     "output_type": "stream",
     "text": [
      "W0512 13:09:58.352422 140384601073472 tf_logging.py:161] Using an `adanet.subnetwork.Builder#prune_previous_ensemble` is deprecated. Please use a custom `adanet.ensemble.Strategy` instead.\n"
     ]
    },
    {
     "name": "stdout",
     "output_type": "stream",
     "text": [
      "WARNING:tensorflow:Using an `adanet.subnetwork.Builder#prune_previous_ensemble` is deprecated. Please use a custom `adanet.ensemble.Strategy` instead.\n"
     ]
    },
    {
     "name": "stderr",
     "output_type": "stream",
     "text": [
      "W0512 13:09:58.652745 140384601073472 tf_logging.py:161] Using an `adanet.subnetwork.Builder#prune_previous_ensemble` is deprecated. Please use a custom `adanet.ensemble.Strategy` instead.\n"
     ]
    },
    {
     "name": "stdout",
     "output_type": "stream",
     "text": [
      "INFO:tensorflow:Done calling model_fn.\n"
     ]
    },
    {
     "name": "stderr",
     "output_type": "stream",
     "text": [
      "I0512 13:09:59.222422 140384601073472 estimator.py:1113] Done calling model_fn.\n"
     ]
    },
    {
     "name": "stdout",
     "output_type": "stream",
     "text": [
      "INFO:tensorflow:Starting evaluation at 2019-05-12T11:09:59Z\n"
     ]
    },
    {
     "name": "stderr",
     "output_type": "stream",
     "text": [
      "I0512 13:09:59.239344 140384601073472 evaluation.py:257] Starting evaluation at 2019-05-12T11:09:59Z\n"
     ]
    },
    {
     "name": "stdout",
     "output_type": "stream",
     "text": [
      "INFO:tensorflow:Graph was finalized.\n"
     ]
    },
    {
     "name": "stderr",
     "output_type": "stream",
     "text": [
      "I0512 13:09:59.471867 140384601073472 monitored_session.py:222] Graph was finalized.\n"
     ]
    },
    {
     "name": "stdout",
     "output_type": "stream",
     "text": [
      "INFO:tensorflow:Restoring parameters from ./tmp/adanet/DNN/model.ckpt-45\n"
     ]
    },
    {
     "name": "stderr",
     "output_type": "stream",
     "text": [
      "I0512 13:09:59.473738 140384601073472 saver.py:1270] Restoring parameters from ./tmp/adanet/DNN/model.ckpt-45\n"
     ]
    },
    {
     "name": "stdout",
     "output_type": "stream",
     "text": [
      "INFO:tensorflow:Running local_init_op.\n"
     ]
    },
    {
     "name": "stderr",
     "output_type": "stream",
     "text": [
      "I0512 13:09:59.629331 140384601073472 session_manager.py:491] Running local_init_op.\n"
     ]
    },
    {
     "name": "stdout",
     "output_type": "stream",
     "text": [
      "INFO:tensorflow:Done running local_init_op.\n"
     ]
    },
    {
     "name": "stderr",
     "output_type": "stream",
     "text": [
      "I0512 13:09:59.702074 140384601073472 session_manager.py:493] Done running local_init_op.\n"
     ]
    },
    {
     "name": "stdout",
     "output_type": "stream",
     "text": [
      "\n",
      "*** generator() : labels shape= (47,) / label values= 0\n",
      "INFO:tensorflow:Finished evaluation at 2019-05-12-11:10:01\n"
     ]
    },
    {
     "name": "stderr",
     "output_type": "stream",
     "text": [
      "I0512 13:10:01.013400 140384601073472 evaluation.py:277] Finished evaluation at 2019-05-12-11:10:01\n"
     ]
    },
    {
     "name": "stdout",
     "output_type": "stream",
     "text": [
      "INFO:tensorflow:Saving dict for global step 45: accuracy = 0.38297874, average_loss = 1.1970296, global_step = 45, loss = 1.146147\n"
     ]
    },
    {
     "name": "stderr",
     "output_type": "stream",
     "text": [
      "I0512 13:10:01.014589 140384601073472 estimator.py:1979] Saving dict for global step 45: accuracy = 0.38297874, average_loss = 1.1970296, global_step = 45, loss = 1.146147\n"
     ]
    },
    {
     "name": "stdout",
     "output_type": "stream",
     "text": [
      "INFO:tensorflow:Saving 'checkpoint_path' summary for global step 45: ./tmp/adanet/DNN/model.ckpt-45\n"
     ]
    },
    {
     "name": "stderr",
     "output_type": "stream",
     "text": [
      "I0512 13:10:01.016169 140384601073472 estimator.py:2039] Saving 'checkpoint_path' summary for global step 45: ./tmp/adanet/DNN/model.ckpt-45\n"
     ]
    },
    {
     "name": "stdout",
     "output_type": "stream",
     "text": [
      "INFO:tensorflow:Loss for final step: 1.1076792.\n"
     ]
    },
    {
     "name": "stderr",
     "output_type": "stream",
     "text": [
      "I0512 13:10:01.097119 140384601073472 estimator.py:359] Loss for final step: 1.1076792.\n"
     ]
    },
    {
     "name": "stdout",
     "output_type": "stream",
     "text": [
      "\n",
      "*** input_fn() : feature_shape= (224, 224, 3) / label_shape= [1]\n",
      "\n",
      "*** preprocess_color_image() : label shape= ()\n",
      "\n",
      "***_input_fn() : Label shape =[1]\n",
      "INFO:tensorflow:Calling model_fn.\n"
     ]
    },
    {
     "name": "stderr",
     "output_type": "stream",
     "text": [
      "I0512 13:10:01.168999 140384601073472 estimator.py:1111] Calling model_fn.\n"
     ]
    },
    {
     "name": "stdout",
     "output_type": "stream",
     "text": [
      "\n",
      "*** NNGenerator : layers= (0,1)\n",
      "\n",
      "*** NNAdaNetBuilder : NN Type=DNN\n",
      "\n",
      "*** get_tf_head() : feature shape= (224, 224, 3)\n",
      "\n",
      "*** get_tf_head() : feature columns= [NumericColumn(key='images', shape=(224, 224, 3), default_value=None, dtype=tf.float32, normalizer_fn=None)]\n",
      "\n",
      "*** NNAdaNetBuilder : NN Type=DNN\n",
      "\n",
      "*** get_tf_head() : feature shape= (224, 224, 3)\n",
      "\n",
      "*** get_tf_head() : feature columns= [NumericColumn(key='images', shape=(224, 224, 3), default_value=None, dtype=tf.float32, normalizer_fn=None)]\n",
      "INFO:tensorflow:Rebuilding iteration 0\n"
     ]
    },
    {
     "name": "stderr",
     "output_type": "stream",
     "text": [
      "I0512 13:10:01.173718 140384601073472 iteration.py:250] Rebuilding iteration 0\n"
     ]
    },
    {
     "name": "stdout",
     "output_type": "stream",
     "text": [
      "INFO:tensorflow:Rebuilding subnetwork 'DNN_linear'\n"
     ]
    },
    {
     "name": "stderr",
     "output_type": "stream",
     "text": [
      "I0512 13:10:01.178448 140384601073472 iteration.py:337] Rebuilding subnetwork 'DNN_linear'\n"
     ]
    },
    {
     "name": "stdout",
     "output_type": "stream",
     "text": [
      "\n",
      "\n",
      "*** build_subnetwork() : features= {'images': <tf.Tensor 'IteratorGetNext:0' shape=(?, 224, 224, 3) dtype=float32>}\n",
      "\n",
      "\n",
      "*** build_subnetwork() : self._feature_columns= [NumericColumn(key='images', shape=(224, 224, 3), default_value=None, dtype=tf.float32, normalizer_fn=None)]\n",
      "\n",
      "\n",
      "*** build_subnetwork() : NN type= DNN / Input layer shape= (?, 150528)\n",
      "**** *** _build_dnn_subnetwork : Layers= 1\n",
      "\n",
      "\n",
      "*** build_subnetwork() : last_layer= Tensor(\"adanet/iteration_0/subnetwork_t0_DNN_linear/dropout/Identity:0\", shape=(?, 128), dtype=float32)\n",
      "\n",
      "*** NNGenerator : layers= (0,1)\n",
      "\n",
      "*** NNAdaNetBuilder : NN Type=DNN\n",
      "\n",
      "*** get_tf_head() : feature shape= (224, 224, 3)\n",
      "\n",
      "*** get_tf_head() : feature columns= [NumericColumn(key='images', shape=(224, 224, 3), default_value=None, dtype=tf.float32, normalizer_fn=None)]\n",
      "\n",
      "*** NNAdaNetBuilder : NN Type=DNN\n",
      "\n",
      "*** get_tf_head() : feature shape= (224, 224, 3)\n",
      "\n",
      "*** get_tf_head() : feature columns= [NumericColumn(key='images', shape=(224, 224, 3), default_value=None, dtype=tf.float32, normalizer_fn=None)]\n",
      "INFO:tensorflow:Building iteration 8\n"
     ]
    },
    {
     "name": "stderr",
     "output_type": "stream",
     "text": [
      "I0512 13:10:01.525671 140384601073472 iteration.py:250] Building iteration 8\n"
     ]
    },
    {
     "name": "stdout",
     "output_type": "stream",
     "text": [
      "INFO:tensorflow:Building subnetwork 'DNN_linear'\n"
     ]
    },
    {
     "name": "stderr",
     "output_type": "stream",
     "text": [
      "I0512 13:10:01.573635 140384601073472 iteration.py:337] Building subnetwork 'DNN_linear'\n"
     ]
    },
    {
     "name": "stdout",
     "output_type": "stream",
     "text": [
      "\n",
      "\n",
      "*** build_subnetwork() : features= {'images': <tf.Tensor 'IteratorGetNext:0' shape=(?, 224, 224, 3) dtype=float32>}\n",
      "\n",
      "\n",
      "*** build_subnetwork() : self._feature_columns= [NumericColumn(key='images', shape=(224, 224, 3), default_value=None, dtype=tf.float32, normalizer_fn=None)]\n",
      "\n",
      "\n",
      "*** build_subnetwork() : NN type= DNN / Input layer shape= (?, 150528)\n",
      "**** *** _build_dnn_subnetwork : Layers= 1\n",
      "\n",
      "\n",
      "*** build_subnetwork() : last_layer= Tensor(\"adanet/iteration_8/subnetwork_t8_DNN_linear/dropout/Identity:0\", shape=(?, 128), dtype=float32)\n",
      "INFO:tensorflow:Building subnetwork 'DNN_layer_1'\n"
     ]
    },
    {
     "name": "stderr",
     "output_type": "stream",
     "text": [
      "I0512 13:10:01.822000 140384601073472 iteration.py:337] Building subnetwork 'DNN_layer_1'\n"
     ]
    },
    {
     "name": "stdout",
     "output_type": "stream",
     "text": [
      "\n",
      "\n",
      "*** build_subnetwork() : features= {'images': <tf.Tensor 'IteratorGetNext:0' shape=(?, 224, 224, 3) dtype=float32>}\n",
      "\n",
      "\n",
      "*** build_subnetwork() : self._feature_columns= [NumericColumn(key='images', shape=(224, 224, 3), default_value=None, dtype=tf.float32, normalizer_fn=None)]\n",
      "\n",
      "\n",
      "*** build_subnetwork() : NN type= DNN / Input layer shape= (?, 150528)\n",
      "**** *** _build_dnn_subnetwork : Layers= 1\n",
      "\n",
      "\n",
      "*** build_subnetwork() : last_layer= Tensor(\"adanet/iteration_8/subnetwork_t8_DNN_layer_1/dropout/Identity:0\", shape=(?, 128), dtype=float32)\n",
      "WARNING:tensorflow:Using an `adanet.subnetwork.Builder#prune_previous_ensemble` is deprecated. Please use a custom `adanet.ensemble.Strategy` instead.\n"
     ]
    },
    {
     "name": "stderr",
     "output_type": "stream",
     "text": [
      "W0512 13:10:02.103450 140384601073472 tf_logging.py:161] Using an `adanet.subnetwork.Builder#prune_previous_ensemble` is deprecated. Please use a custom `adanet.ensemble.Strategy` instead.\n"
     ]
    },
    {
     "name": "stdout",
     "output_type": "stream",
     "text": [
      "WARNING:tensorflow:Using an `adanet.subnetwork.Builder#prune_previous_ensemble` is deprecated. Please use a custom `adanet.ensemble.Strategy` instead.\n"
     ]
    },
    {
     "name": "stderr",
     "output_type": "stream",
     "text": [
      "W0512 13:10:02.276895 140384601073472 tf_logging.py:161] Using an `adanet.subnetwork.Builder#prune_previous_ensemble` is deprecated. Please use a custom `adanet.ensemble.Strategy` instead.\n"
     ]
    },
    {
     "name": "stdout",
     "output_type": "stream",
     "text": [
      "INFO:tensorflow:Restoring parameters from ./tmp/adanet/DNN/model.ckpt-45\n"
     ]
    },
    {
     "name": "stderr",
     "output_type": "stream",
     "text": [
      "I0512 13:10:02.977755 140384601073472 saver.py:1270] Restoring parameters from ./tmp/adanet/DNN/model.ckpt-45\n"
     ]
    },
    {
     "name": "stdout",
     "output_type": "stream",
     "text": [
      "WARNING:tensorflow:`tf.train.start_queue_runners()` was called when no queue runners were defined. You can safely remove the call to this deprecated function.\n"
     ]
    },
    {
     "name": "stderr",
     "output_type": "stream",
     "text": [
      "W0512 13:10:03.222340 140384601073472 queue_runner_impl.py:471] `tf.train.start_queue_runners()` was called when no queue runners were defined. You can safely remove the call to this deprecated function.\n"
     ]
    },
    {
     "name": "stdout",
     "output_type": "stream",
     "text": [
      "\n",
      "*** generator() : labels shape= (414,) / label values= 1\n",
      "\n",
      "*** generator() : labels shape= (414,) / label values= 1\n",
      "\n",
      "*** generator() : labels shape= (414,) / label values= 1\n",
      "\n",
      "*** generator() : labels shape= (414,) / label values= 1\n",
      "\n",
      "*** generator() : labels shape= (414,) / label values= 1\n",
      "\n",
      "*** generator() : labels shape= (414,) / label values= 1\n",
      "INFO:tensorflow:Done calling model_fn.\n"
     ]
    },
    {
     "name": "stderr",
     "output_type": "stream",
     "text": [
      "I0512 13:10:08.049115 140384601073472 estimator.py:1113] Done calling model_fn.\n"
     ]
    },
    {
     "name": "stdout",
     "output_type": "stream",
     "text": [
      "INFO:tensorflow:Using config: {'_model_dir': './tmp/adanet/DNN/temp_model_dir', '_tf_random_seed': 42, '_save_summary_steps': 100, '_save_checkpoints_steps': None, '_save_checkpoints_secs': 600, '_session_config': allow_soft_placement: true\n",
      "graph_options {\n",
      "  rewrite_options {\n",
      "    meta_optimizer_iterations: ONE\n",
      "  }\n",
      "}\n",
      ", '_keep_checkpoint_max': 5, '_keep_checkpoint_every_n_hours': 10000, '_log_step_count_steps': 100, '_train_distribute': None, '_device_fn': None, '_protocol': None, '_eval_distribute': None, '_experimental_distribute': None, '_service': None, '_cluster_spec': <tensorflow.python.training.server_lib.ClusterSpec object at 0x7fac302b6c88>, '_task_type': 'worker', '_task_id': 0, '_global_id_in_cluster': 0, '_master': '', '_evaluation_master': '', '_is_chief': True, '_num_ps_replicas': 0, '_num_worker_replicas': 1}\n"
     ]
    },
    {
     "name": "stderr",
     "output_type": "stream",
     "text": [
      "I0512 13:10:08.050281 140384601073472 estimator.py:201] Using config: {'_model_dir': './tmp/adanet/DNN/temp_model_dir', '_tf_random_seed': 42, '_save_summary_steps': 100, '_save_checkpoints_steps': None, '_save_checkpoints_secs': 600, '_session_config': allow_soft_placement: true\n",
      "graph_options {\n",
      "  rewrite_options {\n",
      "    meta_optimizer_iterations: ONE\n",
      "  }\n",
      "}\n",
      ", '_keep_checkpoint_max': 5, '_keep_checkpoint_every_n_hours': 10000, '_log_step_count_steps': 100, '_train_distribute': None, '_device_fn': None, '_protocol': None, '_eval_distribute': None, '_experimental_distribute': None, '_service': None, '_cluster_spec': <tensorflow.python.training.server_lib.ClusterSpec object at 0x7fac302b6c88>, '_task_type': 'worker', '_task_id': 0, '_global_id_in_cluster': 0, '_master': '', '_evaluation_master': '', '_is_chief': True, '_num_ps_replicas': 0, '_num_worker_replicas': 1}\n"
     ]
    },
    {
     "name": "stdout",
     "output_type": "stream",
     "text": [
      "\n",
      "*** input_fn() : feature_shape= (224, 224, 3) / label_shape= [1]\n",
      "\n",
      "*** preprocess_color_image() : label shape= ()\n",
      "\n",
      "***_input_fn() : Label shape =[1]\n",
      "INFO:tensorflow:Calling model_fn.\n"
     ]
    },
    {
     "name": "stderr",
     "output_type": "stream",
     "text": [
      "I0512 13:10:08.118219 140384601073472 estimator.py:1111] Calling model_fn.\n"
     ]
    },
    {
     "name": "stdout",
     "output_type": "stream",
     "text": [
      "\n",
      "*** NNGenerator : layers= (0,1)\n",
      "\n",
      "*** NNAdaNetBuilder : NN Type=DNN\n",
      "\n",
      "*** get_tf_head() : feature shape= (224, 224, 3)\n",
      "\n",
      "*** get_tf_head() : feature columns= [NumericColumn(key='images', shape=(224, 224, 3), default_value=None, dtype=tf.float32, normalizer_fn=None)]\n",
      "\n",
      "*** NNAdaNetBuilder : NN Type=DNN\n",
      "\n",
      "*** get_tf_head() : feature shape= (224, 224, 3)\n",
      "\n",
      "*** get_tf_head() : feature columns= [NumericColumn(key='images', shape=(224, 224, 3), default_value=None, dtype=tf.float32, normalizer_fn=None)]\n",
      "INFO:tensorflow:Rebuilding iteration 0\n"
     ]
    },
    {
     "name": "stderr",
     "output_type": "stream",
     "text": [
      "I0512 13:10:08.125546 140384601073472 iteration.py:250] Rebuilding iteration 0\n"
     ]
    },
    {
     "name": "stdout",
     "output_type": "stream",
     "text": [
      "INFO:tensorflow:Rebuilding subnetwork 'DNN_linear'\n"
     ]
    },
    {
     "name": "stderr",
     "output_type": "stream",
     "text": [
      "I0512 13:10:08.141191 140384601073472 iteration.py:337] Rebuilding subnetwork 'DNN_linear'\n"
     ]
    },
    {
     "name": "stdout",
     "output_type": "stream",
     "text": [
      "\n",
      "\n",
      "*** build_subnetwork() : features= {'images': <tf.Tensor 'IteratorGetNext:0' shape=(?, 224, 224, 3) dtype=float32>}\n",
      "\n",
      "\n",
      "*** build_subnetwork() : self._feature_columns= [NumericColumn(key='images', shape=(224, 224, 3), default_value=None, dtype=tf.float32, normalizer_fn=None)]\n",
      "\n",
      "\n",
      "*** build_subnetwork() : NN type= DNN / Input layer shape= (?, 150528)\n",
      "**** *** _build_dnn_subnetwork : Layers= 1\n",
      "\n",
      "\n",
      "*** build_subnetwork() : last_layer= Tensor(\"adanet/iteration_0/subnetwork_t0_DNN_linear/dropout/Identity:0\", shape=(?, 128), dtype=float32)\n",
      "\n",
      "*** NNGenerator : layers= (0,1)\n",
      "\n",
      "*** NNAdaNetBuilder : NN Type=DNN\n",
      "\n",
      "*** get_tf_head() : feature shape= (224, 224, 3)\n",
      "\n",
      "*** get_tf_head() : feature columns= [NumericColumn(key='images', shape=(224, 224, 3), default_value=None, dtype=tf.float32, normalizer_fn=None)]\n",
      "\n",
      "*** NNAdaNetBuilder : NN Type=DNN\n",
      "\n",
      "*** get_tf_head() : feature shape= (224, 224, 3)\n",
      "\n",
      "*** get_tf_head() : feature columns= [NumericColumn(key='images', shape=(224, 224, 3), default_value=None, dtype=tf.float32, normalizer_fn=None)]\n",
      "INFO:tensorflow:Building iteration 9\n"
     ]
    },
    {
     "name": "stderr",
     "output_type": "stream",
     "text": [
      "I0512 13:10:08.901460 140384601073472 iteration.py:250] Building iteration 9\n"
     ]
    },
    {
     "name": "stdout",
     "output_type": "stream",
     "text": [
      "INFO:tensorflow:Building subnetwork 'DNN_linear'\n"
     ]
    },
    {
     "name": "stderr",
     "output_type": "stream",
     "text": [
      "I0512 13:10:08.934284 140384601073472 iteration.py:337] Building subnetwork 'DNN_linear'\n"
     ]
    },
    {
     "name": "stdout",
     "output_type": "stream",
     "text": [
      "\n",
      "\n",
      "*** build_subnetwork() : features= {'images': <tf.Tensor 'IteratorGetNext:0' shape=(?, 224, 224, 3) dtype=float32>}\n",
      "\n",
      "\n",
      "*** build_subnetwork() : self._feature_columns= [NumericColumn(key='images', shape=(224, 224, 3), default_value=None, dtype=tf.float32, normalizer_fn=None)]\n",
      "\n",
      "\n",
      "*** build_subnetwork() : NN type= DNN / Input layer shape= (?, 150528)\n",
      "**** *** _build_dnn_subnetwork : Layers= 1\n",
      "\n",
      "\n",
      "*** build_subnetwork() : last_layer= Tensor(\"adanet/iteration_9/subnetwork_t9_DNN_linear/dense/Relu:0\", shape=(?, 128), dtype=float32)\n",
      "INFO:tensorflow:Building subnetwork 'DNN_layer_1'\n"
     ]
    },
    {
     "name": "stderr",
     "output_type": "stream",
     "text": [
      "I0512 13:10:09.136178 140384601073472 iteration.py:337] Building subnetwork 'DNN_layer_1'\n"
     ]
    },
    {
     "name": "stdout",
     "output_type": "stream",
     "text": [
      "\n",
      "\n",
      "*** build_subnetwork() : features= {'images': <tf.Tensor 'IteratorGetNext:0' shape=(?, 224, 224, 3) dtype=float32>}\n",
      "\n",
      "\n",
      "*** build_subnetwork() : self._feature_columns= [NumericColumn(key='images', shape=(224, 224, 3), default_value=None, dtype=tf.float32, normalizer_fn=None)]\n",
      "\n",
      "\n",
      "*** build_subnetwork() : NN type= DNN / Input layer shape= (?, 150528)\n",
      "**** *** _build_dnn_subnetwork : Layers= 1\n",
      "\n",
      "\n",
      "*** build_subnetwork() : last_layer= Tensor(\"adanet/iteration_9/subnetwork_t9_DNN_layer_1/dense/Relu:0\", shape=(?, 128), dtype=float32)\n",
      "WARNING:tensorflow:Using an `adanet.subnetwork.Builder#prune_previous_ensemble` is deprecated. Please use a custom `adanet.ensemble.Strategy` instead.\n"
     ]
    },
    {
     "name": "stderr",
     "output_type": "stream",
     "text": [
      "W0512 13:10:09.370546 140384601073472 tf_logging.py:161] Using an `adanet.subnetwork.Builder#prune_previous_ensemble` is deprecated. Please use a custom `adanet.ensemble.Strategy` instead.\n"
     ]
    },
    {
     "name": "stdout",
     "output_type": "stream",
     "text": [
      "WARNING:tensorflow:The `build_mixture_weights_train_op` method is deprecated. Please use the `Ensembler#build_train_op` instead.\n"
     ]
    },
    {
     "name": "stderr",
     "output_type": "stream",
     "text": [
      "W0512 13:10:09.661196 140384601073472 tf_logging.py:161] The `build_mixture_weights_train_op` method is deprecated. Please use the `Ensembler#build_train_op` instead.\n"
     ]
    },
    {
     "name": "stdout",
     "output_type": "stream",
     "text": [
      "WARNING:tensorflow:Using an `adanet.subnetwork.Builder#prune_previous_ensemble` is deprecated. Please use a custom `adanet.ensemble.Strategy` instead.\n"
     ]
    },
    {
     "name": "stderr",
     "output_type": "stream",
     "text": [
      "W0512 13:10:09.852531 140384601073472 tf_logging.py:161] Using an `adanet.subnetwork.Builder#prune_previous_ensemble` is deprecated. Please use a custom `adanet.ensemble.Strategy` instead.\n"
     ]
    },
    {
     "name": "stdout",
     "output_type": "stream",
     "text": [
      "WARNING:tensorflow:The `build_mixture_weights_train_op` method is deprecated. Please use the `Ensembler#build_train_op` instead.\n"
     ]
    },
    {
     "name": "stderr",
     "output_type": "stream",
     "text": [
      "W0512 13:10:09.932175 140384601073472 tf_logging.py:161] The `build_mixture_weights_train_op` method is deprecated. Please use the `Ensembler#build_train_op` instead.\n"
     ]
    },
    {
     "name": "stdout",
     "output_type": "stream",
     "text": [
      "INFO:tensorflow:Done calling model_fn.\n"
     ]
    },
    {
     "name": "stderr",
     "output_type": "stream",
     "text": [
      "I0512 13:10:10.081233 140384601073472 estimator.py:1113] Done calling model_fn.\n"
     ]
    },
    {
     "name": "stdout",
     "output_type": "stream",
     "text": [
      "INFO:tensorflow:Create CheckpointSaverHook.\n"
     ]
    },
    {
     "name": "stderr",
     "output_type": "stream",
     "text": [
      "I0512 13:10:10.082103 140384601073472 basic_session_run_hooks.py:527] Create CheckpointSaverHook.\n"
     ]
    },
    {
     "name": "stdout",
     "output_type": "stream",
     "text": [
      "INFO:tensorflow:Graph was finalized.\n"
     ]
    },
    {
     "name": "stderr",
     "output_type": "stream",
     "text": [
      "I0512 13:10:10.995353 140384601073472 monitored_session.py:222] Graph was finalized.\n"
     ]
    },
    {
     "name": "stdout",
     "output_type": "stream",
     "text": [
      "INFO:tensorflow:Running local_init_op.\n"
     ]
    },
    {
     "name": "stderr",
     "output_type": "stream",
     "text": [
      "I0512 13:10:11.926410 140384601073472 session_manager.py:491] Running local_init_op.\n"
     ]
    },
    {
     "name": "stdout",
     "output_type": "stream",
     "text": [
      "INFO:tensorflow:Done running local_init_op.\n"
     ]
    },
    {
     "name": "stderr",
     "output_type": "stream",
     "text": [
      "I0512 13:10:11.954785 140384601073472 session_manager.py:493] Done running local_init_op.\n"
     ]
    },
    {
     "name": "stdout",
     "output_type": "stream",
     "text": [
      "INFO:tensorflow:Saving checkpoints for 0 into ./tmp/adanet/DNN/temp_model_dir/model.ckpt.\n"
     ]
    },
    {
     "name": "stderr",
     "output_type": "stream",
     "text": [
      "I0512 13:10:12.673701 140384601073472 basic_session_run_hooks.py:594] Saving checkpoints for 0 into ./tmp/adanet/DNN/temp_model_dir/model.ckpt.\n"
     ]
    },
    {
     "name": "stdout",
     "output_type": "stream",
     "text": [
      "INFO:tensorflow:Restoring parameters from ./tmp/adanet/DNN/model.ckpt-45\n"
     ]
    },
    {
     "name": "stderr",
     "output_type": "stream",
     "text": [
      "I0512 13:10:13.145003 140384601073472 saver.py:1270] Restoring parameters from ./tmp/adanet/DNN/model.ckpt-45\n"
     ]
    },
    {
     "name": "stdout",
     "output_type": "stream",
     "text": [
      "INFO:tensorflow:loss = 1.0692801, step = 46\n"
     ]
    },
    {
     "name": "stderr",
     "output_type": "stream",
     "text": [
      "I0512 13:10:14.159137 140384601073472 basic_session_run_hooks.py:249] loss = 1.0692801, step = 46\n"
     ]
    },
    {
     "name": "stdout",
     "output_type": "stream",
     "text": [
      "INFO:tensorflow:Saving checkpoints for 46 into ./tmp/adanet/DNN/temp_model_dir/model.ckpt.\n"
     ]
    },
    {
     "name": "stderr",
     "output_type": "stream",
     "text": [
      "I0512 13:10:14.160460 140384601073472 basic_session_run_hooks.py:594] Saving checkpoints for 46 into ./tmp/adanet/DNN/temp_model_dir/model.ckpt.\n"
     ]
    },
    {
     "name": "stdout",
     "output_type": "stream",
     "text": [
      "INFO:tensorflow:Loss for final step: 1.0692801.\n"
     ]
    },
    {
     "name": "stderr",
     "output_type": "stream",
     "text": [
      "I0512 13:10:15.205147 140384601073472 estimator.py:359] Loss for final step: 1.0692801.\n"
     ]
    },
    {
     "name": "stdout",
     "output_type": "stream",
     "text": [
      "\n",
      "*** input_fn() : feature_shape= (224, 224, 3) / label_shape= [1]\n",
      "\n",
      "*** preprocess_color_image() : label shape= ()\n",
      "\n",
      "***_input_fn() : Label shape =[1]\n",
      "INFO:tensorflow:Calling model_fn.\n"
     ]
    },
    {
     "name": "stderr",
     "output_type": "stream",
     "text": [
      "I0512 13:10:15.634343 140384601073472 estimator.py:1111] Calling model_fn.\n"
     ]
    },
    {
     "name": "stdout",
     "output_type": "stream",
     "text": [
      "\n",
      "*** NNGenerator : layers= (0,1)\n",
      "\n",
      "*** NNAdaNetBuilder : NN Type=DNN\n",
      "\n",
      "*** get_tf_head() : feature shape= (224, 224, 3)\n",
      "\n",
      "*** get_tf_head() : feature columns= [NumericColumn(key='images', shape=(224, 224, 3), default_value=None, dtype=tf.float32, normalizer_fn=None)]\n",
      "\n",
      "*** NNAdaNetBuilder : NN Type=DNN\n",
      "\n",
      "*** get_tf_head() : feature shape= (224, 224, 3)\n",
      "\n",
      "*** get_tf_head() : feature columns= [NumericColumn(key='images', shape=(224, 224, 3), default_value=None, dtype=tf.float32, normalizer_fn=None)]\n",
      "INFO:tensorflow:Rebuilding iteration 0\n"
     ]
    },
    {
     "name": "stderr",
     "output_type": "stream",
     "text": [
      "I0512 13:10:15.638217 140384601073472 iteration.py:250] Rebuilding iteration 0\n"
     ]
    },
    {
     "name": "stdout",
     "output_type": "stream",
     "text": [
      "INFO:tensorflow:Rebuilding subnetwork 'DNN_linear'\n"
     ]
    },
    {
     "name": "stderr",
     "output_type": "stream",
     "text": [
      "I0512 13:10:15.642765 140384601073472 iteration.py:337] Rebuilding subnetwork 'DNN_linear'\n"
     ]
    },
    {
     "name": "stdout",
     "output_type": "stream",
     "text": [
      "\n",
      "\n",
      "*** build_subnetwork() : features= {'images': <tf.Tensor 'IteratorGetNext:0' shape=(?, 224, 224, 3) dtype=float32>}\n",
      "\n",
      "\n",
      "*** build_subnetwork() : self._feature_columns= [NumericColumn(key='images', shape=(224, 224, 3), default_value=None, dtype=tf.float32, normalizer_fn=None)]\n",
      "\n",
      "\n",
      "*** build_subnetwork() : NN type= DNN / Input layer shape= (?, 150528)\n",
      "**** *** _build_dnn_subnetwork : Layers= 1\n",
      "\n",
      "\n",
      "*** build_subnetwork() : last_layer= Tensor(\"adanet/iteration_0/subnetwork_t0_DNN_linear/dropout/Identity:0\", shape=(?, 128), dtype=float32)\n",
      "\n",
      "*** NNGenerator : layers= (0,1)\n",
      "\n",
      "*** NNAdaNetBuilder : NN Type=DNN\n",
      "\n",
      "*** get_tf_head() : feature shape= (224, 224, 3)\n",
      "\n",
      "*** get_tf_head() : feature columns= [NumericColumn(key='images', shape=(224, 224, 3), default_value=None, dtype=tf.float32, normalizer_fn=None)]\n",
      "\n",
      "*** NNAdaNetBuilder : NN Type=DNN\n",
      "\n",
      "*** get_tf_head() : feature shape= (224, 224, 3)\n",
      "\n",
      "*** get_tf_head() : feature columns= [NumericColumn(key='images', shape=(224, 224, 3), default_value=None, dtype=tf.float32, normalizer_fn=None)]\n",
      "INFO:tensorflow:Building iteration 9\n"
     ]
    },
    {
     "name": "stderr",
     "output_type": "stream",
     "text": [
      "I0512 13:10:15.923598 140384601073472 iteration.py:250] Building iteration 9\n"
     ]
    },
    {
     "name": "stdout",
     "output_type": "stream",
     "text": [
      "INFO:tensorflow:Building subnetwork 'DNN_linear'\n"
     ]
    },
    {
     "name": "stderr",
     "output_type": "stream",
     "text": [
      "I0512 13:10:16.733654 140384601073472 iteration.py:337] Building subnetwork 'DNN_linear'\n"
     ]
    },
    {
     "name": "stdout",
     "output_type": "stream",
     "text": [
      "\n",
      "\n",
      "*** build_subnetwork() : features= {'images': <tf.Tensor 'IteratorGetNext:0' shape=(?, 224, 224, 3) dtype=float32>}\n",
      "\n",
      "\n",
      "*** build_subnetwork() : self._feature_columns= [NumericColumn(key='images', shape=(224, 224, 3), default_value=None, dtype=tf.float32, normalizer_fn=None)]\n",
      "\n",
      "\n",
      "*** build_subnetwork() : NN type= DNN / Input layer shape= (?, 150528)\n",
      "**** *** _build_dnn_subnetwork : Layers= 1\n",
      "\n",
      "\n",
      "*** build_subnetwork() : last_layer= Tensor(\"adanet/iteration_9/subnetwork_t9_DNN_linear/dense/Relu:0\", shape=(?, 128), dtype=float32)\n",
      "INFO:tensorflow:Building subnetwork 'DNN_layer_1'\n"
     ]
    },
    {
     "name": "stderr",
     "output_type": "stream",
     "text": [
      "I0512 13:10:17.194453 140384601073472 iteration.py:337] Building subnetwork 'DNN_layer_1'\n"
     ]
    },
    {
     "name": "stdout",
     "output_type": "stream",
     "text": [
      "\n",
      "\n",
      "*** build_subnetwork() : features= {'images': <tf.Tensor 'IteratorGetNext:0' shape=(?, 224, 224, 3) dtype=float32>}\n",
      "\n",
      "\n",
      "*** build_subnetwork() : self._feature_columns= [NumericColumn(key='images', shape=(224, 224, 3), default_value=None, dtype=tf.float32, normalizer_fn=None)]\n",
      "\n",
      "\n",
      "*** build_subnetwork() : NN type= DNN / Input layer shape= (?, 150528)\n",
      "**** *** _build_dnn_subnetwork : Layers= 1\n",
      "\n",
      "\n",
      "*** build_subnetwork() : last_layer= Tensor(\"adanet/iteration_9/subnetwork_t9_DNN_layer_1/dense/Relu:0\", shape=(?, 128), dtype=float32)\n",
      "WARNING:tensorflow:Using an `adanet.subnetwork.Builder#prune_previous_ensemble` is deprecated. Please use a custom `adanet.ensemble.Strategy` instead.\n"
     ]
    },
    {
     "name": "stderr",
     "output_type": "stream",
     "text": [
      "W0512 13:10:17.366873 140384601073472 tf_logging.py:161] Using an `adanet.subnetwork.Builder#prune_previous_ensemble` is deprecated. Please use a custom `adanet.ensemble.Strategy` instead.\n"
     ]
    },
    {
     "name": "stdout",
     "output_type": "stream",
     "text": [
      "WARNING:tensorflow:The `build_mixture_weights_train_op` method is deprecated. Please use the `Ensembler#build_train_op` instead.\n"
     ]
    },
    {
     "name": "stderr",
     "output_type": "stream",
     "text": [
      "W0512 13:10:17.467137 140384601073472 tf_logging.py:161] The `build_mixture_weights_train_op` method is deprecated. Please use the `Ensembler#build_train_op` instead.\n"
     ]
    },
    {
     "name": "stdout",
     "output_type": "stream",
     "text": [
      "WARNING:tensorflow:Using an `adanet.subnetwork.Builder#prune_previous_ensemble` is deprecated. Please use a custom `adanet.ensemble.Strategy` instead.\n"
     ]
    },
    {
     "name": "stderr",
     "output_type": "stream",
     "text": [
      "W0512 13:10:17.598065 140384601073472 tf_logging.py:161] Using an `adanet.subnetwork.Builder#prune_previous_ensemble` is deprecated. Please use a custom `adanet.ensemble.Strategy` instead.\n"
     ]
    },
    {
     "name": "stdout",
     "output_type": "stream",
     "text": [
      "WARNING:tensorflow:The `build_mixture_weights_train_op` method is deprecated. Please use the `Ensembler#build_train_op` instead.\n"
     ]
    },
    {
     "name": "stderr",
     "output_type": "stream",
     "text": [
      "W0512 13:10:17.699410 140384601073472 tf_logging.py:161] The `build_mixture_weights_train_op` method is deprecated. Please use the `Ensembler#build_train_op` instead.\n"
     ]
    },
    {
     "name": "stdout",
     "output_type": "stream",
     "text": [
      "INFO:tensorflow:Done calling model_fn.\n"
     ]
    },
    {
     "name": "stderr",
     "output_type": "stream",
     "text": [
      "I0512 13:10:17.848843 140384601073472 estimator.py:1113] Done calling model_fn.\n"
     ]
    },
    {
     "name": "stdout",
     "output_type": "stream",
     "text": [
      "INFO:tensorflow:Create CheckpointSaverHook.\n"
     ]
    },
    {
     "name": "stderr",
     "output_type": "stream",
     "text": [
      "I0512 13:10:17.849752 140384601073472 basic_session_run_hooks.py:527] Create CheckpointSaverHook.\n"
     ]
    },
    {
     "name": "stdout",
     "output_type": "stream",
     "text": [
      "INFO:tensorflow:Graph was finalized.\n"
     ]
    },
    {
     "name": "stderr",
     "output_type": "stream",
     "text": [
      "I0512 13:10:18.205679 140384601073472 monitored_session.py:222] Graph was finalized.\n"
     ]
    },
    {
     "name": "stdout",
     "output_type": "stream",
     "text": [
      "INFO:tensorflow:Restoring parameters from ./tmp/adanet/DNN/increment.ckpt-9\n"
     ]
    },
    {
     "name": "stderr",
     "output_type": "stream",
     "text": [
      "I0512 13:10:18.212013 140384601073472 saver.py:1270] Restoring parameters from ./tmp/adanet/DNN/increment.ckpt-9\n"
     ]
    },
    {
     "name": "stdout",
     "output_type": "stream",
     "text": [
      "INFO:tensorflow:Running local_init_op.\n"
     ]
    },
    {
     "name": "stderr",
     "output_type": "stream",
     "text": [
      "I0512 13:10:18.469391 140384601073472 session_manager.py:491] Running local_init_op.\n"
     ]
    },
    {
     "name": "stdout",
     "output_type": "stream",
     "text": [
      "INFO:tensorflow:Done running local_init_op.\n"
     ]
    },
    {
     "name": "stderr",
     "output_type": "stream",
     "text": [
      "I0512 13:10:18.519467 140384601073472 session_manager.py:493] Done running local_init_op.\n"
     ]
    },
    {
     "name": "stdout",
     "output_type": "stream",
     "text": [
      "INFO:tensorflow:Saving checkpoints for 45 into ./tmp/adanet/DNN/model.ckpt.\n"
     ]
    },
    {
     "name": "stderr",
     "output_type": "stream",
     "text": [
      "I0512 13:10:19.228057 140384601073472 basic_session_run_hooks.py:594] Saving checkpoints for 45 into ./tmp/adanet/DNN/model.ckpt.\n"
     ]
    },
    {
     "name": "stdout",
     "output_type": "stream",
     "text": [
      "INFO:tensorflow:loss = 1.0692801, step = 46\n"
     ]
    },
    {
     "name": "stderr",
     "output_type": "stream",
     "text": [
      "I0512 13:10:22.061266 140384601073472 basic_session_run_hooks.py:249] loss = 1.0692801, step = 46\n"
     ]
    },
    {
     "name": "stdout",
     "output_type": "stream",
     "text": [
      "\n",
      "*** generator() : labels shape= (414,) / label values= 1\n",
      "INFO:tensorflow:Saving checkpoints for 50 into ./tmp/adanet/DNN/model.ckpt.\n"
     ]
    },
    {
     "name": "stderr",
     "output_type": "stream",
     "text": [
      "I0512 13:10:22.815870 140384601073472 basic_session_run_hooks.py:594] Saving checkpoints for 50 into ./tmp/adanet/DNN/model.ckpt.\n"
     ]
    },
    {
     "name": "stdout",
     "output_type": "stream",
     "text": [
      "\n",
      "*** input_fn() : feature_shape= (224, 224, 3) / label_shape= [1]\n",
      "\n",
      "*** input_fn : TEST / feature_shape= (224, 224, 3)\n",
      "\n",
      "*** preprocess_color_image() : label shape= ()\n",
      "\n",
      "***_input_fn() : Label shape =[1]\n",
      "INFO:tensorflow:Calling model_fn.\n"
     ]
    },
    {
     "name": "stderr",
     "output_type": "stream",
     "text": [
      "I0512 13:10:23.299257 140384601073472 estimator.py:1111] Calling model_fn.\n"
     ]
    },
    {
     "name": "stdout",
     "output_type": "stream",
     "text": [
      "\n",
      "*** NNGenerator : layers= (0,1)\n",
      "\n",
      "*** NNAdaNetBuilder : NN Type=DNN\n",
      "\n",
      "*** get_tf_head() : feature shape= (224, 224, 3)\n",
      "\n",
      "*** get_tf_head() : feature columns= [NumericColumn(key='images', shape=(224, 224, 3), default_value=None, dtype=tf.float32, normalizer_fn=None)]\n",
      "\n",
      "*** NNAdaNetBuilder : NN Type=DNN\n",
      "\n",
      "*** get_tf_head() : feature shape= (224, 224, 3)\n",
      "\n",
      "*** get_tf_head() : feature columns= [NumericColumn(key='images', shape=(224, 224, 3), default_value=None, dtype=tf.float32, normalizer_fn=None)]\n",
      "INFO:tensorflow:Rebuilding iteration 0\n"
     ]
    },
    {
     "name": "stderr",
     "output_type": "stream",
     "text": [
      "I0512 13:10:23.303558 140384601073472 iteration.py:250] Rebuilding iteration 0\n"
     ]
    },
    {
     "name": "stdout",
     "output_type": "stream",
     "text": [
      "INFO:tensorflow:Rebuilding subnetwork 'DNN_linear'\n"
     ]
    },
    {
     "name": "stderr",
     "output_type": "stream",
     "text": [
      "I0512 13:10:23.308939 140384601073472 iteration.py:337] Rebuilding subnetwork 'DNN_linear'\n"
     ]
    },
    {
     "name": "stdout",
     "output_type": "stream",
     "text": [
      "\n",
      "\n",
      "*** build_subnetwork() : features= {'images': <tf.Tensor 'IteratorGetNext:0' shape=(?, 224, 224, 3) dtype=float32>}\n",
      "\n",
      "\n",
      "*** build_subnetwork() : self._feature_columns= [NumericColumn(key='images', shape=(224, 224, 3), default_value=None, dtype=tf.float32, normalizer_fn=None)]\n",
      "\n",
      "\n",
      "*** build_subnetwork() : NN type= DNN / Input layer shape= (?, 150528)\n",
      "**** *** _build_dnn_subnetwork : Layers= 1\n",
      "\n",
      "\n",
      "*** build_subnetwork() : last_layer= Tensor(\"adanet/iteration_0/subnetwork_t0_DNN_linear/dropout/Identity:0\", shape=(?, 128), dtype=float32)\n",
      "\n",
      "*** NNGenerator : layers= (0,1)\n",
      "\n",
      "*** NNAdaNetBuilder : NN Type=DNN\n",
      "\n",
      "*** get_tf_head() : feature shape= (224, 224, 3)\n",
      "\n",
      "*** get_tf_head() : feature columns= [NumericColumn(key='images', shape=(224, 224, 3), default_value=None, dtype=tf.float32, normalizer_fn=None)]\n",
      "\n",
      "*** NNAdaNetBuilder : NN Type=DNN\n",
      "\n",
      "*** get_tf_head() : feature shape= (224, 224, 3)\n",
      "\n",
      "*** get_tf_head() : feature columns= [NumericColumn(key='images', shape=(224, 224, 3), default_value=None, dtype=tf.float32, normalizer_fn=None)]\n",
      "INFO:tensorflow:Building iteration 9\n"
     ]
    },
    {
     "name": "stderr",
     "output_type": "stream",
     "text": [
      "I0512 13:10:23.629719 140384601073472 iteration.py:250] Building iteration 9\n"
     ]
    },
    {
     "name": "stdout",
     "output_type": "stream",
     "text": [
      "INFO:tensorflow:Building subnetwork 'DNN_linear'\n"
     ]
    },
    {
     "name": "stderr",
     "output_type": "stream",
     "text": [
      "I0512 13:10:23.664561 140384601073472 iteration.py:337] Building subnetwork 'DNN_linear'\n"
     ]
    },
    {
     "name": "stdout",
     "output_type": "stream",
     "text": [
      "\n",
      "\n",
      "*** build_subnetwork() : features= {'images': <tf.Tensor 'IteratorGetNext:0' shape=(?, 224, 224, 3) dtype=float32>}\n",
      "\n",
      "\n",
      "*** build_subnetwork() : self._feature_columns= [NumericColumn(key='images', shape=(224, 224, 3), default_value=None, dtype=tf.float32, normalizer_fn=None)]\n",
      "\n",
      "\n",
      "*** build_subnetwork() : NN type= DNN / Input layer shape= (?, 150528)\n",
      "**** *** _build_dnn_subnetwork : Layers= 1\n",
      "\n",
      "\n",
      "*** build_subnetwork() : last_layer= Tensor(\"adanet/iteration_9/subnetwork_t9_DNN_linear/dropout/Identity:0\", shape=(?, 128), dtype=float32)\n",
      "INFO:tensorflow:Building subnetwork 'DNN_layer_1'\n"
     ]
    },
    {
     "name": "stderr",
     "output_type": "stream",
     "text": [
      "I0512 13:10:23.830657 140384601073472 iteration.py:337] Building subnetwork 'DNN_layer_1'\n"
     ]
    },
    {
     "name": "stdout",
     "output_type": "stream",
     "text": [
      "\n",
      "\n",
      "*** build_subnetwork() : features= {'images': <tf.Tensor 'IteratorGetNext:0' shape=(?, 224, 224, 3) dtype=float32>}\n",
      "\n",
      "\n",
      "*** build_subnetwork() : self._feature_columns= [NumericColumn(key='images', shape=(224, 224, 3), default_value=None, dtype=tf.float32, normalizer_fn=None)]\n",
      "\n",
      "\n",
      "*** build_subnetwork() : NN type= DNN / Input layer shape= (?, 150528)\n",
      "**** *** _build_dnn_subnetwork : Layers= 1\n",
      "\n",
      "\n",
      "*** build_subnetwork() : last_layer= Tensor(\"adanet/iteration_9/subnetwork_t9_DNN_layer_1/dropout/Identity:0\", shape=(?, 128), dtype=float32)\n",
      "WARNING:tensorflow:Using an `adanet.subnetwork.Builder#prune_previous_ensemble` is deprecated. Please use a custom `adanet.ensemble.Strategy` instead.\n"
     ]
    },
    {
     "name": "stderr",
     "output_type": "stream",
     "text": [
      "W0512 13:10:23.999108 140384601073472 tf_logging.py:161] Using an `adanet.subnetwork.Builder#prune_previous_ensemble` is deprecated. Please use a custom `adanet.ensemble.Strategy` instead.\n"
     ]
    },
    {
     "name": "stdout",
     "output_type": "stream",
     "text": [
      "WARNING:tensorflow:Using an `adanet.subnetwork.Builder#prune_previous_ensemble` is deprecated. Please use a custom `adanet.ensemble.Strategy` instead.\n"
     ]
    },
    {
     "name": "stderr",
     "output_type": "stream",
     "text": [
      "W0512 13:10:24.112442 140384601073472 tf_logging.py:161] Using an `adanet.subnetwork.Builder#prune_previous_ensemble` is deprecated. Please use a custom `adanet.ensemble.Strategy` instead.\n"
     ]
    },
    {
     "name": "stdout",
     "output_type": "stream",
     "text": [
      "INFO:tensorflow:Done calling model_fn.\n"
     ]
    },
    {
     "name": "stderr",
     "output_type": "stream",
     "text": [
      "I0512 13:10:24.337950 140384601073472 estimator.py:1113] Done calling model_fn.\n"
     ]
    },
    {
     "name": "stdout",
     "output_type": "stream",
     "text": [
      "INFO:tensorflow:Starting evaluation at 2019-05-12T11:10:24Z\n"
     ]
    },
    {
     "name": "stderr",
     "output_type": "stream",
     "text": [
      "I0512 13:10:24.354409 140384601073472 evaluation.py:257] Starting evaluation at 2019-05-12T11:10:24Z\n"
     ]
    },
    {
     "name": "stdout",
     "output_type": "stream",
     "text": [
      "INFO:tensorflow:Graph was finalized.\n"
     ]
    },
    {
     "name": "stderr",
     "output_type": "stream",
     "text": [
      "I0512 13:10:24.588040 140384601073472 monitored_session.py:222] Graph was finalized.\n"
     ]
    },
    {
     "name": "stdout",
     "output_type": "stream",
     "text": [
      "INFO:tensorflow:Restoring parameters from ./tmp/adanet/DNN/model.ckpt-50\n"
     ]
    },
    {
     "name": "stderr",
     "output_type": "stream",
     "text": [
      "I0512 13:10:24.590212 140384601073472 saver.py:1270] Restoring parameters from ./tmp/adanet/DNN/model.ckpt-50\n"
     ]
    },
    {
     "name": "stdout",
     "output_type": "stream",
     "text": [
      "INFO:tensorflow:Running local_init_op.\n"
     ]
    },
    {
     "name": "stderr",
     "output_type": "stream",
     "text": [
      "I0512 13:10:24.740447 140384601073472 session_manager.py:491] Running local_init_op.\n"
     ]
    },
    {
     "name": "stdout",
     "output_type": "stream",
     "text": [
      "INFO:tensorflow:Done running local_init_op.\n"
     ]
    },
    {
     "name": "stderr",
     "output_type": "stream",
     "text": [
      "I0512 13:10:24.806848 140384601073472 session_manager.py:493] Done running local_init_op.\n"
     ]
    },
    {
     "name": "stdout",
     "output_type": "stream",
     "text": [
      "\n",
      "*** generator() : labels shape= (47,) / label values= 0\n",
      "INFO:tensorflow:Finished evaluation at 2019-05-12-11:10:25\n"
     ]
    },
    {
     "name": "stderr",
     "output_type": "stream",
     "text": [
      "I0512 13:10:25.711323 140384601073472 evaluation.py:277] Finished evaluation at 2019-05-12-11:10:25\n"
     ]
    },
    {
     "name": "stdout",
     "output_type": "stream",
     "text": [
      "INFO:tensorflow:Saving dict for global step 50: accuracy = 0.38297874, average_loss = 1.1970296, global_step = 50, loss = 1.146147\n"
     ]
    },
    {
     "name": "stderr",
     "output_type": "stream",
     "text": [
      "I0512 13:10:25.712659 140384601073472 estimator.py:1979] Saving dict for global step 50: accuracy = 0.38297874, average_loss = 1.1970296, global_step = 50, loss = 1.146147\n"
     ]
    },
    {
     "name": "stdout",
     "output_type": "stream",
     "text": [
      "INFO:tensorflow:Saving 'checkpoint_path' summary for global step 50: ./tmp/adanet/DNN/model.ckpt-50\n"
     ]
    },
    {
     "name": "stderr",
     "output_type": "stream",
     "text": [
      "I0512 13:10:25.714942 140384601073472 estimator.py:2039] Saving 'checkpoint_path' summary for global step 50: ./tmp/adanet/DNN/model.ckpt-50\n"
     ]
    },
    {
     "name": "stdout",
     "output_type": "stream",
     "text": [
      "INFO:tensorflow:Loss for final step: 1.1076792.\n"
     ]
    },
    {
     "name": "stderr",
     "output_type": "stream",
     "text": [
      "I0512 13:10:25.784454 140384601073472 estimator.py:359] Loss for final step: 1.1076792.\n"
     ]
    }
   ],
   "source": [
    "start_time = time.time()\n",
    "results, _ = tf.estimator.train_and_evaluate(adanet_estimator, train_spec, eval_spec)\n",
    "end_time = time.time()"
   ]
  },
  {
   "cell_type": "code",
   "execution_count": 13,
   "metadata": {
    "colab": {
     "base_uri": "https://localhost:8080/",
     "height": 1295
    },
    "colab_type": "code",
    "executionInfo": {
     "elapsed": 2118,
     "status": "error",
     "timestamp": 1554720133634,
     "user": {
      "displayName": "FBT Telecom",
      "photoUrl": "",
      "userId": "01928442219250440173"
     },
     "user_tz": -120
    },
    "id": "_reIMFwIcDKL",
    "outputId": "5db434df-7c87-4eaf-ab11-e3a91c5425a7",
    "scrolled": true
   },
   "outputs": [
    {
     "name": "stdout",
     "output_type": "stream",
     "text": [
      "\n",
      "------------------------------------------------\n",
      "Time (sec) 221.25063180923462\n",
      "\n",
      "ACCURACY: 0.38297873735427856\n",
      "\n",
      "ARCHITECTURE/ADANET/ENSEMBLES: b'\\nB\\n\\x13architecture/adanetB!\\x08\\x07\\x12\\x00B\\x1b| DNN_linear | DNN_linear |J\\x08\\n\\x06\\n\\x04text'\n",
      "\n",
      "AVERAGE_LOSS: 1.1970295906066895\n",
      "\n",
      "LOSS: 1.1461470127105713\n",
      "\n",
      "GLOBAL_STEP: 50\n"
     ]
    }
   ],
   "source": [
    "print(\"\\n------------------------------------------------\")\n",
    "print(\"Time (sec)\", end_time-start_time)\n",
    "for key in results.keys() :\n",
    "    title =key.upper()\n",
    "    print(\"\\n{}: {}\".format(title, results[key]))\n"
   ]
  },
  {
   "cell_type": "code",
   "execution_count": 14,
   "metadata": {},
   "outputs": [],
   "source": [
    "#import tensorflow as tf\n",
    "#help(tf.estimator.Estimator)"
   ]
  },
  {
   "cell_type": "raw",
   "metadata": {},
   "source": [
    "from tensorflow.python.tools.inspect_checkpoint import print_tensors_in_checkpoint_file\n",
    "max_iteration_steps=TRAIN_STEPS // ADANET_ITERATIONS\n",
    "\n",
    "#filenale_model_check = './tmp/models/'+str(NN_TYPE)+'/model.ckpt-3'\n",
    "#print_tensors_in_checkpoint_file(file_name=filenale_model_check, tensor_name='', all_tensors=False)\n",
    "print(\"\\n----------\\n\")\n",
    "filename_model_checkpoint = OUTPUT_DIR+'/'+str(NN_TYPE)+'/model.ckpt-'+str(TRAIN_STEPS)\n",
    "print_tensors_in_checkpoint_file(file_name=filename_model_checkpoint\\\n",
    "                                 , tensor_name='', all_tensors=False)\n"
   ]
  },
  {
   "cell_type": "code",
   "execution_count": 15,
   "metadata": {},
   "outputs": [],
   "source": [
    "def ensemble_architecture(result):\n",
    "  \"\"\"Extracts the ensemble architecture from evaluation results.\"\"\"\n",
    "\n",
    "  architecture = result[\"architecture/adanet/ensembles\"]\n",
    "  # The architecture is a serialized Summary proto for TensorBoard.\n",
    "  summary_proto = tf.summary.Summary.FromString(architecture)\n",
    "  return summary_proto.value[0].tensor.string_val[0]"
   ]
  },
  {
   "cell_type": "code",
   "execution_count": 16,
   "metadata": {},
   "outputs": [
    {
     "name": "stdout",
     "output_type": "stream",
     "text": [
      "Architecture: b'| DNN_linear | DNN_linear |' / Accuracy= 0.38297873735427856 /Loss= 1.1461470127105713\n"
     ]
    }
   ],
   "source": [
    "print(\"Architecture: {} / Accuracy= {} /Loss= {}\".format(ensemble_architecture(results)\\\n",
    "                                                  , results['accuracy'], results['loss']))"
   ]
  },
  {
   "cell_type": "code",
   "execution_count": 17,
   "metadata": {},
   "outputs": [],
   "source": [
    "# Architecture: b'| DNN_layer_1 | DNN_layer_2 | DNN_layer_3 |' : accuracy = 40% / Loss = 1.0883579\n",
    "# Architecture: b'| CNNBase_layer_1 |' / Accuracy= 0.40425533056259155 /Loss= 1.081491470336914\n",
    "# Architecture: b'| CNNBase_linear | CNNBase_layer_1 |' / Accuracy= 0.42553192377090454 /Loss= 1.1250361204147339"
   ]
  },
  {
   "cell_type": "code",
   "execution_count": 18,
   "metadata": {},
   "outputs": [],
   "source": [
    "if is_tensorboard is True :\n",
    "    get_ipython().system_raw(\n",
    "        'tensorboard --logdir {} --host localhost --port 6006 &'\n",
    "        .format(output_dir_log)\n",
    "    )\n",
    "\n",
    "\n",
    "    get_ipython().system_raw('./assets/ngrok http 6006 &')"
   ]
  },
  {
   "cell_type": "code",
   "execution_count": 19,
   "metadata": {},
   "outputs": [
    {
     "data": {
      "text/plain": [
       "'./tmp/adanet'"
      ]
     },
     "execution_count": 19,
     "metadata": {},
     "output_type": "execute_result"
    }
   ],
   "source": [
    "OUTPUT_DIR"
   ]
  },
  {
   "cell_type": "code",
   "execution_count": 20,
   "metadata": {},
   "outputs": [
    {
     "data": {
      "text/plain": [
       "1"
      ]
     },
     "execution_count": 20,
     "metadata": {},
     "output_type": "execute_result"
    }
   ],
   "source": [
    "1%2"
   ]
  },
  {
   "cell_type": "code",
   "execution_count": 21,
   "metadata": {},
   "outputs": [
    {
     "data": {
      "text/plain": [
       "0"
      ]
     },
     "execution_count": 21,
     "metadata": {},
     "output_type": "execute_result"
    }
   ],
   "source": [
    "2%2"
   ]
  },
  {
   "cell_type": "code",
   "execution_count": 22,
   "metadata": {},
   "outputs": [
    {
     "data": {
      "text/plain": [
       "1"
      ]
     },
     "execution_count": 22,
     "metadata": {},
     "output_type": "execute_result"
    }
   ],
   "source": [
    "3%2"
   ]
  },
  {
   "cell_type": "code",
   "execution_count": 23,
   "metadata": {},
   "outputs": [
    {
     "data": {
      "text/plain": [
       "0"
      ]
     },
     "execution_count": 23,
     "metadata": {},
     "output_type": "execute_result"
    }
   ],
   "source": [
    "4%2"
   ]
  },
  {
   "cell_type": "raw",
   "metadata": {},
   "source": [
    "import tensorflow as tf\n",
    "help(tf.contrib.util.constant_value)"
   ]
  },
  {
   "cell_type": "code",
   "execution_count": null,
   "metadata": {},
   "outputs": [],
   "source": []
  }
 ],
 "metadata": {
  "accelerator": "GPU",
  "colab": {
   "collapsed_sections": [],
   "name": "Untitled0.ipynb",
   "provenance": [],
   "version": "0.3.2"
  },
  "kernelspec": {
   "display_name": "Python 3",
   "language": "python",
   "name": "python3"
  },
  "language_info": {
   "codemirror_mode": {
    "name": "ipython",
    "version": 3
   },
   "file_extension": ".py",
   "mimetype": "text/x-python",
   "name": "python",
   "nbconvert_exporter": "python",
   "pygments_lexer": "ipython3",
   "version": "3.6.8"
  }
 },
 "nbformat": 4,
 "nbformat_minor": 1
}
