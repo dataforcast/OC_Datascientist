{
 "cells": [
  {
   "cell_type": "code",
   "execution_count": 1,
   "metadata": {
    "colab": {},
    "colab_type": "code",
    "id": "jOUQoPfSYUGp"
   },
   "outputs": [],
   "source": [
    "%load_ext autoreload\n",
    "%autoreload 2\n",
    "import adanet"
   ]
  },
  {
   "cell_type": "code",
   "execution_count": 2,
   "metadata": {
    "colab": {},
    "colab_type": "code",
    "id": "BUkDiPBiM7dy"
   },
   "outputs": [],
   "source": [
    "OUTPUT_DIR = './tmp/adanet'\n",
    "datadir = './data'\n",
    "is_tensorboard = True"
   ]
  },
  {
   "cell_type": "code",
   "execution_count": 3,
   "metadata": {},
   "outputs": [
    {
     "name": "stdout",
     "output_type": "stream",
     "text": [
      "kill: (26168): Aucun processus de ce type\n",
      "kill: (26174)"
     ]
    }
   ],
   "source": [
    "# this will kill the processes for Tensorboard\n",
    "if is_tensorboard is True :\n",
    "    !ps aux | grep tensorboard | awk '{print $2}' | xargs kill\n",
    "\n",
    "# this will kill the processes for ngrok\n",
    "if is_tensorboard is True :\n",
    "    !ps aux | grep ngrok | awk '{print $2}' | xargs kill"
   ]
  },
  {
   "cell_type": "code",
   "execution_count": 4,
   "metadata": {},
   "outputs": [
    {
     "name": "stderr",
     "output_type": "stream",
     "text": [
      "Using TensorFlow backend.\n"
     ]
    },
    {
     "name": "stdout",
     "output_type": "stream",
     "text": [
      "p5_util.object_load : fileName= ./data/arr_keras_X_y_train_test.dump\n",
      "(414, 224, 224, 3) (47, 224, 224, 3) (414, 3) (47, 3)\n",
      "(414, 224, 224, 3) (47, 224, 224, 3) (224, 224, 3)\n"
     ]
    }
   ],
   "source": [
    "import p8_util\n",
    "filename_dataset=datadir+'/arr_keras_X_y_train_test.dump'\n",
    "x_train, x_test, y_train, y_test, nClasses, feature_shape = p8_util.load_dataset(filename_dataset)\n",
    "print(x_train.shape, x_test.shape, feature_shape)"
   ]
  },
  {
   "cell_type": "markdown",
   "metadata": {},
   "source": [
    "#### Check a NN object candidate sample that will be created from Adanet algorithm."
   ]
  },
  {
   "cell_type": "code",
   "execution_count": 5,
   "metadata": {},
   "outputs": [
    {
     "data": {
      "text/plain": [
       "{'adanet_feature_columns': None,\n",
       " 'adanet_feature_shape': None,\n",
       " 'adanet_tf_head': None,\n",
       " 'adanet_lambda': 0.001,\n",
       " 'adanet_is_learn_mixture_weights': True,\n",
       " 'adanet_initial_num_layers': 0,\n",
       " 'adanet_num_layers': None,\n",
       " 'adanet_nn_candidate': 2,\n",
       " 'adanet_output_dir': './tmp/adanet',\n",
       " 'adanet_nn_layer_config': {'nn_type': 'CNN',\n",
       "  'nn_dropout_rate': 0.0,\n",
       "  'nn_batch_norm': True,\n",
       "  'nn_logit_dimension': 3,\n",
       "  'nn_optimizer': <tensorflow.python.training.rmsprop.RMSPropOptimizer at 0x7f64c2b0c6a0>,\n",
       "  'nn_seed': 42,\n",
       "  'nn_initializer_name': 'xavier',\n",
       "  'nn_layer_config': {'feature_map_size': [64],\n",
       "   'cnn_kernel_size': (5, 5),\n",
       "   'cnn_layer_num': None,\n",
       "   'cnn_filters': 32,\n",
       "   'cnn_strides': 1,\n",
       "   'cnn_padding_name': 'same',\n",
       "   'cnn_activation_name': 'relu',\n",
       "   'cnn_dense_layer_num': 2,\n",
       "   'cnn_dense_unit_size': 64}}}"
      ]
     },
     "execution_count": 5,
     "metadata": {},
     "output_type": "execute_result"
    }
   ],
   "source": [
    "import p8_util_config\n",
    "p8_util_config.dict_adanet_config"
   ]
  },
  {
   "cell_type": "code",
   "execution_count": 6,
   "metadata": {},
   "outputs": [
    {
     "name": "stdout",
     "output_type": "stream",
     "text": [
      "\n",
      " Number of convolutional layers= 2\n",
      "\n",
      "*** NNAdaNetBuilder : NN Type=CNN\n",
      "\n",
      "\n",
      "Adanet outputdir     : ............................ ./tmp/adanet/CNN\n",
      "Adanet output log    : ............................ ./tmp/adanet/CNN/CNN\n",
      "NN type              : ............................ CNN\n",
      "Features shape       : ............................ (224, 224, 3)\n",
      "Number of layers     : ............................ 2\n",
      "Dropout rate         : ............................ 0.0\n",
      "Seed value           : ............................ 42\n",
      "Nb of classes (logit): ............................ 3\n",
      "Adanet regularization: ............................ 0.001\n",
      "Weights initializer  : ............................ xavier\n",
      "Batch normalization  : ............................ True\n",
      "Learn mixture weights: ............................ True\n",
      "\n",
      "\n",
      "CNN seed             : ............................ 42\n",
      "Conv. Kernel size    : ............................ (5, 5)\n",
      "Conv. layers         : ............................ 2\n",
      "Dense layers         : ............................ 2\n",
      "Units in dense layers: ............................ 64\n",
      "CNN bacth norm.      : ............................ True\n",
      "Features map size    : ............................ [64]\n",
      "Conv filters         : ............................ 32\n",
      "Strides              : ............................ 1\n",
      "Padding              : ............................ same\n",
      "Activation function  : ............................ relu\n"
     ]
    }
   ],
   "source": [
    "import p8_util\n",
    "\n",
    "oNNAdaNetBuilder = p8_util.create_nn_builder(feature_shape,OUTPUT_DIR, layer_num=2)\n",
    "oNNAdaNetBuilder.show()"
   ]
  },
  {
   "cell_type": "code",
   "execution_count": 7,
   "metadata": {},
   "outputs": [
    {
     "data": {
      "text/plain": [
       "2"
      ]
     },
     "execution_count": 7,
     "metadata": {},
     "output_type": "execute_result"
    }
   ],
   "source": [
    "import p8_util_config\n",
    "p8_util_config.ADANET_MAX_ITERATION_STEPS"
   ]
  },
  {
   "cell_type": "code",
   "execution_count": 8,
   "metadata": {},
   "outputs": [
    {
     "data": {
      "text/plain": [
       "([NumericColumn(key='images', shape=(224, 224, 3), default_value=None, dtype=tf.float32, normalizer_fn=None)],\n",
       " 'weighted_sum_over_batch_size',\n",
       " <tensorflow_estimator.python.estimator.canned.head._MultiClassHeadWithSoftmaxCrossEntropyLoss at 0x7f64c2a1ff28>)"
      ]
     },
     "execution_count": 8,
     "metadata": {},
     "output_type": "execute_result"
    }
   ],
   "source": [
    "import p8_util\n",
    "p8_util.get_tf_head(feature_shape, 3, nn_type='DNN', feature_shape=feature_shape)"
   ]
  },
  {
   "cell_type": "code",
   "execution_count": 9,
   "metadata": {},
   "outputs": [
    {
     "name": "stdout",
     "output_type": "stream",
     "text": [
      "\n",
      "*** Number of classes= 3 / NN type= CNN\n"
     ]
    },
    {
     "data": {
      "text/plain": [
       "'./tmp/adanet'"
      ]
     },
     "execution_count": 9,
     "metadata": {},
     "output_type": "execute_result"
    }
   ],
   "source": [
    "import p8_util\n",
    "import p8_util_config\n",
    "import NNGenerator\n",
    "\n",
    "#---------------------------------------------------------------------------------\n",
    "# Update Adanet configuration with feature columns.\n",
    "#---------------------------------------------------------------------------------\n",
    "dict_nn_layer_config = p8_util_config.dict_adanet_config['adanet_nn_layer_config']\n",
    "nb_class= dict_nn_layer_config['nn_logit_dimension']\n",
    "nn_type = dict_nn_layer_config['nn_type']\n",
    "\n",
    "feature_columns, loss_reduction, tf_head \\\n",
    "        = p8_util.get_tf_head(feature_shape, nb_class, nn_type=nn_type, feature_shape=feature_shape)\n",
    "\n",
    "p8_util_config.dict_adanet_config['adanet_feature_columns'] = feature_columns\n",
    "p8_util_config.dict_adanet_config['adanet_tf_head'] = tf_head\n",
    "p8_util_config.dict_adanet_config['adanet_feature_shape'] = feature_shape\n",
    "\n",
    "#---------------------------------------------------------------------------------\n",
    "\n",
    "print(\"\\n*** Number of classes= {} / NN type= {}\".format(nb_class, nn_type))\n",
    "\n",
    "adanet_estimator_config, output_dir_log = p8_util.make_config(nn_type,output_dir=OUTPUT_DIR, is_restored=False)\n",
    "OUTPUT_DIR"
   ]
  },
  {
   "cell_type": "code",
   "execution_count": 10,
   "metadata": {},
   "outputs": [
    {
     "name": "stderr",
     "output_type": "stream",
     "text": [
      "WARNING: Logging before flag parsing goes to stderr.\n",
      "W0513 12:28:53.332993 140072586213184 estimator.py:535] The following arguments have been moved to `adanet.ensemble.ComplexityRegularizedEnsembler` which can be specified in the `ensemblers` argument: ['adanet_lambda']\n"
     ]
    },
    {
     "name": "stdout",
     "output_type": "stream",
     "text": [
      "\n",
      "*** NNGenerator() : feature_columns= [NumericColumn(key='images', shape=(224, 224, 3), default_value=None, dtype=tf.float32, normalizer_fn=None)]\n",
      "*** INFO : MyGenerator : instantiation DONE!\n",
      "INFO:tensorflow:Using config: {'_model_dir': './tmp/adanet/CNN', '_tf_random_seed': 42, '_save_summary_steps': 10, '_save_checkpoints_steps': 10, '_save_checkpoints_secs': None, '_session_config': allow_soft_placement: true\n",
      "graph_options {\n",
      "  rewrite_options {\n",
      "    meta_optimizer_iterations: ONE\n",
      "  }\n",
      "}\n",
      ", '_keep_checkpoint_max': 5, '_keep_checkpoint_every_n_hours': 10000, '_log_step_count_steps': 100, '_train_distribute': None, '_device_fn': None, '_protocol': None, '_eval_distribute': None, '_experimental_distribute': None, '_service': None, '_cluster_spec': <tensorflow.python.training.server_lib.ClusterSpec object at 0x7f64c29e1198>, '_task_type': 'worker', '_task_id': 0, '_global_id_in_cluster': 0, '_master': '', '_evaluation_master': '', '_is_chief': True, '_num_ps_replicas': 0, '_num_worker_replicas': 1}\n"
     ]
    },
    {
     "name": "stderr",
     "output_type": "stream",
     "text": [
      "I0513 12:28:53.334424 140072586213184 estimator.py:201] Using config: {'_model_dir': './tmp/adanet/CNN', '_tf_random_seed': 42, '_save_summary_steps': 10, '_save_checkpoints_steps': 10, '_save_checkpoints_secs': None, '_session_config': allow_soft_placement: true\n",
      "graph_options {\n",
      "  rewrite_options {\n",
      "    meta_optimizer_iterations: ONE\n",
      "  }\n",
      "}\n",
      ", '_keep_checkpoint_max': 5, '_keep_checkpoint_every_n_hours': 10000, '_log_step_count_steps': 100, '_train_distribute': None, '_device_fn': None, '_protocol': None, '_eval_distribute': None, '_experimental_distribute': None, '_service': None, '_cluster_spec': <tensorflow.python.training.server_lib.ClusterSpec object at 0x7f64c29e1198>, '_task_type': 'worker', '_task_id': 0, '_global_id_in_cluster': 0, '_master': '', '_evaluation_master': '', '_is_chief': True, '_num_ps_replicas': 0, '_num_worker_replicas': 1}\n"
     ]
    }
   ],
   "source": [
    "input_fn_param={'num_epochs':p8_util_config.NUM_EPOCHS,\\\n",
    "                'batch_size':p8_util_config.BATCH_SIZE,\\\n",
    "                'feature_shape': feature_shape,\\\n",
    "               }\n",
    "train_input_fn=p8_util.input_fn(\"train\", x_train, y_train,input_fn_param)\n",
    "\n",
    "adanet_estimator = adanet.Estimator(\n",
    "    head=p8_util_config.dict_adanet_config['adanet_tf_head'],\n",
    "    \n",
    "    subnetwork_generator=NNGenerator.NNGenerator(p8_util_config.dict_adanet_config),\n",
    "            \n",
    "    adanet_lambda=p8_util_config.dict_adanet_config['adanet_lambda'],\n",
    "    \n",
    "    max_iteration_steps=p8_util_config.ADANET_MAX_ITERATION_STEPS,\n",
    "    \n",
    "    evaluator=adanet.Evaluator(\n",
    "        input_fn=train_input_fn,\n",
    "        steps=None),\n",
    "    config=  adanet_estimator_config)"
   ]
  },
  {
   "cell_type": "code",
   "execution_count": 11,
   "metadata": {},
   "outputs": [
    {
     "name": "stdout",
     "output_type": "stream",
     "text": [
      "Global steps= 4\n",
      "MAX Adanet steps= 2\n",
      "{'adanet_feature_columns': [NumericColumn(key='images', shape=(224, 224, 3), default_value=None, dtype=tf.float32, normalizer_fn=None)], 'adanet_feature_shape': (224, 224, 3), 'adanet_tf_head': <tensorflow_estimator.python.estimator.canned.head._MultiClassHeadWithSoftmaxCrossEntropyLoss object at 0x7f64c29e1208>, 'adanet_lambda': 0.001, 'adanet_is_learn_mixture_weights': True, 'adanet_initial_num_layers': 0, 'adanet_num_layers': None, 'adanet_nn_candidate': 2, 'adanet_output_dir': './tmp/adanet', 'adanet_nn_layer_config': {'nn_type': 'CNN', 'nn_dropout_rate': 0.0, 'nn_batch_norm': True, 'nn_logit_dimension': 3, 'nn_optimizer': <tensorflow.python.training.rmsprop.RMSPropOptimizer object at 0x7f64c2b0c6a0>, 'nn_seed': 42, 'nn_initializer_name': 'xavier', 'nn_layer_config': {'feature_map_size': [64], 'cnn_kernel_size': (5, 5), 'cnn_layer_num': 2, 'cnn_filters': 32, 'cnn_strides': 1, 'cnn_padding_name': 'same', 'cnn_activation_name': 'relu', 'cnn_dense_layer_num': 2, 'cnn_dense_unit_size': 64}}}\n"
     ]
    },
    {
     "data": {
      "text/plain": [
       "(414,)"
      ]
     },
     "execution_count": 11,
     "metadata": {},
     "output_type": "execute_result"
    }
   ],
   "source": [
    "import p8_util_config\n",
    "print(\"Global steps= {}\".format(p8_util_config.TRAIN_STEPS))\n",
    "print(\"MAX Adanet steps= {}\".format(p8_util_config.ADANET_MAX_ITERATION_STEPS))\n",
    "print(p8_util_config.dict_adanet_config)\n",
    "y_train.shape"
   ]
  },
  {
   "cell_type": "code",
   "execution_count": 12,
   "metadata": {
    "colab": {
     "base_uri": "https://localhost:8080/",
     "height": 1295
    },
    "colab_type": "code",
    "executionInfo": {
     "elapsed": 2118,
     "status": "error",
     "timestamp": 1554720133634,
     "user": {
      "displayName": "FBT Telecom",
      "photoUrl": "",
      "userId": "01928442219250440173"
     },
     "user_tz": -120
    },
    "id": "_reIMFwIcDKL",
    "outputId": "5db434df-7c87-4eaf-ab11-e3a91c5425a7"
   },
   "outputs": [],
   "source": [
    "import time\n",
    "import tensorflow as tf\n",
    "#---------------------------------------------------------------------\n",
    "# Input function parameters stay same as for train_input_fn\n",
    "#---------------------------------------------------------------------\n",
    "test_input_fn=p8_util.input_fn(\"test\", x_test, y_test,input_fn_param)\n",
    "train_spec=tf.estimator.TrainSpec(\n",
    "        input_fn= train_input_fn,\n",
    "        max_steps=p8_util_config.TRAIN_STEPS)\n",
    "\n",
    "eval_spec=tf.estimator.EvalSpec(\n",
    "        input_fn= test_input_fn,\n",
    "        steps=None,\n",
    "        start_delay_secs=1,\n",
    "        throttle_secs=1)"
   ]
  },
  {
   "cell_type": "code",
   "execution_count": 13,
   "metadata": {
    "colab": {
     "base_uri": "https://localhost:8080/",
     "height": 1295
    },
    "colab_type": "code",
    "executionInfo": {
     "elapsed": 2118,
     "status": "error",
     "timestamp": 1554720133634,
     "user": {
      "displayName": "FBT Telecom",
      "photoUrl": "",
      "userId": "01928442219250440173"
     },
     "user_tz": -120
    },
    "id": "_reIMFwIcDKL",
    "outputId": "5db434df-7c87-4eaf-ab11-e3a91c5425a7"
   },
   "outputs": [
    {
     "name": "stdout",
     "output_type": "stream",
     "text": [
      "INFO:tensorflow:Not using Distribute Coordinator.\n"
     ]
    },
    {
     "name": "stderr",
     "output_type": "stream",
     "text": [
      "I0513 12:28:53.492119 140072586213184 estimator_training.py:185] Not using Distribute Coordinator.\n"
     ]
    },
    {
     "name": "stdout",
     "output_type": "stream",
     "text": [
      "INFO:tensorflow:Running training and evaluation locally (non-distributed).\n"
     ]
    },
    {
     "name": "stderr",
     "output_type": "stream",
     "text": [
      "I0513 12:28:53.493608 140072586213184 training.py:610] Running training and evaluation locally (non-distributed).\n"
     ]
    },
    {
     "name": "stdout",
     "output_type": "stream",
     "text": [
      "INFO:tensorflow:Start train and evaluate loop. The evaluate will happen after every checkpoint. Checkpoint frequency is determined based on RunConfig arguments: save_checkpoints_steps 10 or save_checkpoints_secs None.\n"
     ]
    },
    {
     "name": "stderr",
     "output_type": "stream",
     "text": [
      "I0513 12:28:53.494422 140072586213184 training.py:698] Start train and evaluate loop. The evaluate will happen after every checkpoint. Checkpoint frequency is determined based on RunConfig arguments: save_checkpoints_steps 10 or save_checkpoints_secs None.\n"
     ]
    },
    {
     "name": "stdout",
     "output_type": "stream",
     "text": [
      "WARNING:tensorflow:From /home/bangui/anaconda3/lib/python3.6/site-packages/tensorflow/python/framework/op_def_library.py:263: colocate_with (from tensorflow.python.framework.ops) is deprecated and will be removed in a future version.\n",
      "Instructions for updating:\n",
      "Colocations handled automatically by placer.\n"
     ]
    },
    {
     "name": "stderr",
     "output_type": "stream",
     "text": [
      "W0513 12:28:53.499623 140072586213184 deprecation.py:323] From /home/bangui/anaconda3/lib/python3.6/site-packages/tensorflow/python/framework/op_def_library.py:263: colocate_with (from tensorflow.python.framework.ops) is deprecated and will be removed in a future version.\n",
      "Instructions for updating:\n",
      "Colocations handled automatically by placer.\n"
     ]
    },
    {
     "name": "stdout",
     "output_type": "stream",
     "text": [
      "WARNING:tensorflow:From /home/bangui/anaconda3/lib/python3.6/site-packages/tensorflow/python/data/ops/dataset_ops.py:429: py_func (from tensorflow.python.ops.script_ops) is deprecated and will be removed in a future version.\n",
      "Instructions for updating:\n",
      "tf.py_func is deprecated in TF V2. Instead, use\n",
      "    tf.py_function, which takes a python function which manipulates tf eager\n",
      "    tensors instead of numpy arrays. It's easy to convert a tf eager tensor to\n",
      "    an ndarray (just call tensor.numpy()) but having access to eager tensors\n",
      "    means `tf.py_function`s can use accelerators such as GPUs as well as\n",
      "    being differentiable using a gradient tape.\n",
      "    \n"
     ]
    },
    {
     "name": "stderr",
     "output_type": "stream",
     "text": [
      "W0513 12:28:53.515554 140072586213184 deprecation.py:323] From /home/bangui/anaconda3/lib/python3.6/site-packages/tensorflow/python/data/ops/dataset_ops.py:429: py_func (from tensorflow.python.ops.script_ops) is deprecated and will be removed in a future version.\n",
      "Instructions for updating:\n",
      "tf.py_func is deprecated in TF V2. Instead, use\n",
      "    tf.py_function, which takes a python function which manipulates tf eager\n",
      "    tensors instead of numpy arrays. It's easy to convert a tf eager tensor to\n",
      "    an ndarray (just call tensor.numpy()) but having access to eager tensors\n",
      "    means `tf.py_function`s can use accelerators such as GPUs as well as\n",
      "    being differentiable using a gradient tape.\n",
      "    \n"
     ]
    },
    {
     "name": "stdout",
     "output_type": "stream",
     "text": [
      "INFO:tensorflow:Calling model_fn.\n"
     ]
    },
    {
     "name": "stderr",
     "output_type": "stream",
     "text": [
      "I0513 12:28:53.551708 140072586213184 estimator.py:1111] Calling model_fn.\n"
     ]
    },
    {
     "name": "stdout",
     "output_type": "stream",
     "text": [
      "\n",
      "*** NNGenerator : layers= (0,1)\n",
      "\n",
      "*** NNAdaNetBuilder : NN Type=CNN\n",
      "\n",
      "*** NNAdaNetBuilder : NN Type=CNN\n",
      "INFO:tensorflow:Building iteration 0\n"
     ]
    },
    {
     "name": "stderr",
     "output_type": "stream",
     "text": [
      "I0513 12:28:53.552752 140072586213184 iteration.py:250] Building iteration 0\n"
     ]
    },
    {
     "name": "stdout",
     "output_type": "stream",
     "text": [
      "INFO:tensorflow:Building subnetwork 'CNN_linear'\n"
     ]
    },
    {
     "name": "stderr",
     "output_type": "stream",
     "text": [
      "I0513 12:28:53.557104 140072586213184 iteration.py:337] Building subnetwork 'CNN_linear'\n"
     ]
    },
    {
     "name": "stdout",
     "output_type": "stream",
     "text": [
      "\n",
      "\n",
      "*** build_subnetwork() : features= {'images': <tf.Tensor 'IteratorGetNext:0' shape=(?, 224, 224, 3) dtype=float32>}\n",
      "\n",
      "\n",
      "*** build_subnetwork() : self._feature_columns= [NumericColumn(key='images', shape=(224, 224, 3), default_value=None, dtype=tf.float32, normalizer_fn=None)]\n",
      "WARNING:tensorflow:From /home/bangui/anaconda3/lib/python3.6/site-packages/tensorflow/python/feature_column/feature_column.py:205: NumericColumn._get_dense_tensor (from tensorflow.python.feature_column.feature_column_v2) is deprecated and will be removed after 2018-11-30.\n",
      "Instructions for updating:\n",
      "The old _FeatureColumn APIs are being deprecated. Please use the new FeatureColumn APIs instead.\n"
     ]
    },
    {
     "name": "stderr",
     "output_type": "stream",
     "text": [
      "W0513 12:28:53.558677 140072586213184 deprecation.py:323] From /home/bangui/anaconda3/lib/python3.6/site-packages/tensorflow/python/feature_column/feature_column.py:205: NumericColumn._get_dense_tensor (from tensorflow.python.feature_column.feature_column_v2) is deprecated and will be removed after 2018-11-30.\n",
      "Instructions for updating:\n",
      "The old _FeatureColumn APIs are being deprecated. Please use the new FeatureColumn APIs instead.\n"
     ]
    },
    {
     "name": "stdout",
     "output_type": "stream",
     "text": [
      "WARNING:tensorflow:From /home/bangui/anaconda3/lib/python3.6/site-packages/tensorflow/python/feature_column/feature_column.py:2121: NumericColumn._transform_feature (from tensorflow.python.feature_column.feature_column_v2) is deprecated and will be removed after 2018-11-30.\n",
      "Instructions for updating:\n",
      "The old _FeatureColumn APIs are being deprecated. Please use the new FeatureColumn APIs instead.\n"
     ]
    },
    {
     "name": "stderr",
     "output_type": "stream",
     "text": [
      "W0513 12:28:53.559438 140072586213184 deprecation.py:323] From /home/bangui/anaconda3/lib/python3.6/site-packages/tensorflow/python/feature_column/feature_column.py:2121: NumericColumn._transform_feature (from tensorflow.python.feature_column.feature_column_v2) is deprecated and will be removed after 2018-11-30.\n",
      "Instructions for updating:\n",
      "The old _FeatureColumn APIs are being deprecated. Please use the new FeatureColumn APIs instead.\n"
     ]
    },
    {
     "name": "stdout",
     "output_type": "stream",
     "text": [
      "WARNING:tensorflow:From /home/bangui/anaconda3/lib/python3.6/site-packages/tensorflow/python/feature_column/feature_column_v2.py:2703: to_float (from tensorflow.python.ops.math_ops) is deprecated and will be removed in a future version.\n",
      "Instructions for updating:\n",
      "Use tf.cast instead.\n"
     ]
    },
    {
     "name": "stderr",
     "output_type": "stream",
     "text": [
      "W0513 12:28:53.560187 140072586213184 deprecation.py:323] From /home/bangui/anaconda3/lib/python3.6/site-packages/tensorflow/python/feature_column/feature_column_v2.py:2703: to_float (from tensorflow.python.ops.math_ops) is deprecated and will be removed in a future version.\n",
      "Instructions for updating:\n",
      "Use tf.cast instead.\n"
     ]
    },
    {
     "name": "stdout",
     "output_type": "stream",
     "text": [
      "WARNING:tensorflow:From /home/bangui/anaconda3/lib/python3.6/site-packages/tensorflow/python/feature_column/feature_column.py:206: NumericColumn._variable_shape (from tensorflow.python.feature_column.feature_column_v2) is deprecated and will be removed after 2018-11-30.\n",
      "Instructions for updating:\n",
      "The old _FeatureColumn APIs are being deprecated. Please use the new FeatureColumn APIs instead.\n"
     ]
    },
    {
     "name": "stderr",
     "output_type": "stream",
     "text": [
      "W0513 12:28:53.560808 140072586213184 deprecation.py:323] From /home/bangui/anaconda3/lib/python3.6/site-packages/tensorflow/python/feature_column/feature_column.py:206: NumericColumn._variable_shape (from tensorflow.python.feature_column.feature_column_v2) is deprecated and will be removed after 2018-11-30.\n",
      "Instructions for updating:\n",
      "The old _FeatureColumn APIs are being deprecated. Please use the new FeatureColumn APIs instead.\n"
     ]
    },
    {
     "name": "stdout",
     "output_type": "stream",
     "text": [
      "\n",
      "\n",
      "*** build_subnetwork() : NN type= CNN / Input layer shape= (?, 150528)\n",
      "\n",
      "*** _build_cnn_baseline_subnetwork() : last_layer= Tensor(\"adanet/iteration_0/subnetwork_t0_CNN_linear/input_layer/concat:0\", shape=(?, 150528), dtype=float32)\n",
      "\n",
      "*** _build_cnn_baseline_subnetwork() : features[images]= Tensor(\"IteratorGetNext:0\", shape=(?, 224, 224, 3), dtype=float32, device=/device:CPU:0)\n",
      "WARNING:tensorflow:From /home/bangui/anaconda3/lib/python3.6/site-packages/tensorflow/contrib/layers/python/layers/layers.py:1624: flatten (from tensorflow.python.layers.core) is deprecated and will be removed in a future version.\n",
      "Instructions for updating:\n",
      "Use keras.layers.flatten instead.\n"
     ]
    },
    {
     "name": "stderr",
     "output_type": "stream",
     "text": [
      "W0513 12:28:53.573630 140072586213184 deprecation.py:323] From /home/bangui/anaconda3/lib/python3.6/site-packages/tensorflow/contrib/layers/python/layers/layers.py:1624: flatten (from tensorflow.python.layers.core) is deprecated and will be removed in a future version.\n",
      "Instructions for updating:\n",
      "Use keras.layers.flatten instead.\n"
     ]
    },
    {
     "name": "stdout",
     "output_type": "stream",
     "text": [
      "WARNING:tensorflow:From /home/bangui/Dropbox/Perso/Formation/openclassrooms/OC_Datascientist/P8/NNAdaNetBuilder.py:294: batch_normalization (from tensorflow.python.layers.normalization) is deprecated and will be removed in a future version.\n",
      "Instructions for updating:\n",
      "Use keras.layers.batch_normalization instead.\n"
     ]
    },
    {
     "name": "stderr",
     "output_type": "stream",
     "text": [
      "W0513 12:28:53.585320 140072586213184 deprecation.py:323] From /home/bangui/Dropbox/Perso/Formation/openclassrooms/OC_Datascientist/P8/NNAdaNetBuilder.py:294: batch_normalization (from tensorflow.python.layers.normalization) is deprecated and will be removed in a future version.\n",
      "Instructions for updating:\n",
      "Use keras.layers.batch_normalization instead.\n"
     ]
    },
    {
     "name": "stdout",
     "output_type": "stream",
     "text": [
      "WARNING:tensorflow:From /home/bangui/Dropbox/Perso/Formation/openclassrooms/OC_Datascientist/P8/NNAdaNetBuilder.py:401: dense (from tensorflow.python.layers.core) is deprecated and will be removed in a future version.\n",
      "Instructions for updating:\n",
      "Use keras.layers.dense instead.\n"
     ]
    },
    {
     "name": "stderr",
     "output_type": "stream",
     "text": [
      "W0513 12:28:53.642740 140072586213184 deprecation.py:323] From /home/bangui/Dropbox/Perso/Formation/openclassrooms/OC_Datascientist/P8/NNAdaNetBuilder.py:401: dense (from tensorflow.python.layers.core) is deprecated and will be removed in a future version.\n",
      "Instructions for updating:\n",
      "Use keras.layers.dense instead.\n"
     ]
    },
    {
     "name": "stdout",
     "output_type": "stream",
     "text": [
      "WARNING:tensorflow:From /home/bangui/Dropbox/Perso/Formation/openclassrooms/OC_Datascientist/P8/NNAdaNetBuilder.py:405: dropout (from tensorflow.python.layers.core) is deprecated and will be removed in a future version.\n",
      "Instructions for updating:\n",
      "Use keras.layers.dropout instead.\n"
     ]
    },
    {
     "name": "stderr",
     "output_type": "stream",
     "text": [
      "W0513 12:28:53.675664 140072586213184 deprecation.py:323] From /home/bangui/Dropbox/Perso/Formation/openclassrooms/OC_Datascientist/P8/NNAdaNetBuilder.py:405: dropout (from tensorflow.python.layers.core) is deprecated and will be removed in a future version.\n",
      "Instructions for updating:\n",
      "Use keras.layers.dropout instead.\n"
     ]
    },
    {
     "name": "stdout",
     "output_type": "stream",
     "text": [
      "WARNING:tensorflow:From /home/bangui/anaconda3/lib/python3.6/site-packages/tensorflow/python/keras/layers/core.py:143: calling dropout (from tensorflow.python.ops.nn_ops) with keep_prob is deprecated and will be removed in a future version.\n",
      "Instructions for updating:\n",
      "Please use `rate` instead of `keep_prob`. Rate should be set to `rate = 1 - keep_prob`.\n"
     ]
    },
    {
     "name": "stderr",
     "output_type": "stream",
     "text": [
      "W0513 12:28:53.677342 140072586213184 deprecation.py:506] From /home/bangui/anaconda3/lib/python3.6/site-packages/tensorflow/python/keras/layers/core.py:143: calling dropout (from tensorflow.python.ops.nn_ops) with keep_prob is deprecated and will be removed in a future version.\n",
      "Instructions for updating:\n",
      "Please use `rate` instead of `keep_prob`. Rate should be set to `rate = 1 - keep_prob`.\n"
     ]
    },
    {
     "name": "stdout",
     "output_type": "stream",
     "text": [
      "\n",
      "*** build_subnetwork() : last_layer= Tensor(\"adanet/iteration_0/subnetwork_t0_CNN_linear/dense_1/Relu:0\", shape=(?, 64), dtype=float32)\n",
      "WARNING:tensorflow:From /home/bangui/anaconda3/lib/python3.6/site-packages/tensorflow/python/ops/math_ops.py:3066: to_int32 (from tensorflow.python.ops.math_ops) is deprecated and will be removed in a future version.\n",
      "Instructions for updating:\n",
      "Use tf.cast instead.\n"
     ]
    },
    {
     "name": "stderr",
     "output_type": "stream",
     "text": [
      "W0513 12:28:53.971351 140072586213184 deprecation.py:323] From /home/bangui/anaconda3/lib/python3.6/site-packages/tensorflow/python/ops/math_ops.py:3066: to_int32 (from tensorflow.python.ops.math_ops) is deprecated and will be removed in a future version.\n",
      "Instructions for updating:\n",
      "Use tf.cast instead.\n"
     ]
    },
    {
     "name": "stdout",
     "output_type": "stream",
     "text": [
      "INFO:tensorflow:Building subnetwork 'CNN_layer_1'\n"
     ]
    },
    {
     "name": "stderr",
     "output_type": "stream",
     "text": [
      "I0513 12:28:54.151081 140072586213184 iteration.py:337] Building subnetwork 'CNN_layer_1'\n"
     ]
    },
    {
     "name": "stdout",
     "output_type": "stream",
     "text": [
      "\n",
      "\n",
      "*** build_subnetwork() : features= {'images': <tf.Tensor 'IteratorGetNext:0' shape=(?, 224, 224, 3) dtype=float32>}\n",
      "\n",
      "\n",
      "*** build_subnetwork() : self._feature_columns= [NumericColumn(key='images', shape=(224, 224, 3), default_value=None, dtype=tf.float32, normalizer_fn=None)]\n",
      "\n",
      "\n",
      "*** build_subnetwork() : NN type= CNN / Input layer shape= (?, 150528)\n",
      "\n",
      "*** _build_cnn_baseline_subnetwork() : last_layer= Tensor(\"adanet/iteration_0/subnetwork_t0_CNN_layer_1/input_layer/concat:0\", shape=(?, 150528), dtype=float32)\n",
      "\n",
      "*** _build_cnn_baseline_subnetwork() : features[images]= Tensor(\"IteratorGetNext:0\", shape=(?, 224, 224, 3), dtype=float32, device=/device:CPU:0)\n",
      "WARNING:tensorflow:From /home/bangui/Dropbox/Perso/Formation/openclassrooms/OC_Datascientist/P8/NNAdaNetBuilder.py:383: conv2d (from tensorflow.python.layers.convolutional) is deprecated and will be removed in a future version.\n",
      "Instructions for updating:\n",
      "Use keras.layers.conv2d instead.\n"
     ]
    },
    {
     "name": "stderr",
     "output_type": "stream",
     "text": [
      "W0513 12:28:54.204162 140072586213184 deprecation.py:323] From /home/bangui/Dropbox/Perso/Formation/openclassrooms/OC_Datascientist/P8/NNAdaNetBuilder.py:383: conv2d (from tensorflow.python.layers.convolutional) is deprecated and will be removed in a future version.\n",
      "Instructions for updating:\n",
      "Use keras.layers.conv2d instead.\n"
     ]
    },
    {
     "name": "stdout",
     "output_type": "stream",
     "text": [
      "WARNING:tensorflow:From /home/bangui/Dropbox/Perso/Formation/openclassrooms/OC_Datascientist/P8/NNAdaNetBuilder.py:385: max_pooling2d (from tensorflow.python.layers.pooling) is deprecated and will be removed in a future version.\n",
      "Instructions for updating:\n",
      "Use keras.layers.max_pooling2d instead.\n"
     ]
    },
    {
     "name": "stderr",
     "output_type": "stream",
     "text": [
      "W0513 12:28:54.228000 140072586213184 deprecation.py:323] From /home/bangui/Dropbox/Perso/Formation/openclassrooms/OC_Datascientist/P8/NNAdaNetBuilder.py:385: max_pooling2d (from tensorflow.python.layers.pooling) is deprecated and will be removed in a future version.\n",
      "Instructions for updating:\n",
      "Use keras.layers.max_pooling2d instead.\n"
     ]
    },
    {
     "name": "stdout",
     "output_type": "stream",
     "text": [
      "\n",
      "*** build_subnetwork() : last_layer= Tensor(\"adanet/iteration_0/subnetwork_t0_CNN_layer_1/dense_1/Relu:0\", shape=(?, 64), dtype=float32)\n",
      "WARNING:tensorflow:The `build_mixture_weights_train_op` method is deprecated. Please use the `Ensembler#build_train_op` instead.\n"
     ]
    },
    {
     "name": "stderr",
     "output_type": "stream",
     "text": [
      "W0513 12:28:54.885005 140072586213184 tf_logging.py:161] The `build_mixture_weights_train_op` method is deprecated. Please use the `Ensembler#build_train_op` instead.\n"
     ]
    },
    {
     "name": "stdout",
     "output_type": "stream",
     "text": [
      "WARNING:tensorflow:The `build_mixture_weights_train_op` method is deprecated. Please use the `Ensembler#build_train_op` instead.\n"
     ]
    },
    {
     "name": "stderr",
     "output_type": "stream",
     "text": [
      "W0513 12:28:55.056899 140072586213184 tf_logging.py:161] The `build_mixture_weights_train_op` method is deprecated. Please use the `Ensembler#build_train_op` instead.\n"
     ]
    },
    {
     "name": "stdout",
     "output_type": "stream",
     "text": [
      "INFO:tensorflow:Done calling model_fn.\n"
     ]
    },
    {
     "name": "stderr",
     "output_type": "stream",
     "text": [
      "I0513 12:28:55.226312 140072586213184 estimator.py:1113] Done calling model_fn.\n"
     ]
    },
    {
     "name": "stdout",
     "output_type": "stream",
     "text": [
      "INFO:tensorflow:Create CheckpointSaverHook.\n"
     ]
    },
    {
     "name": "stderr",
     "output_type": "stream",
     "text": [
      "I0513 12:28:55.227607 140072586213184 basic_session_run_hooks.py:527] Create CheckpointSaverHook.\n"
     ]
    },
    {
     "name": "stdout",
     "output_type": "stream",
     "text": [
      "INFO:tensorflow:Graph was finalized.\n"
     ]
    },
    {
     "name": "stderr",
     "output_type": "stream",
     "text": [
      "I0513 12:28:56.132194 140072586213184 monitored_session.py:222] Graph was finalized.\n"
     ]
    },
    {
     "name": "stdout",
     "output_type": "stream",
     "text": [
      "INFO:tensorflow:Running local_init_op.\n"
     ]
    },
    {
     "name": "stderr",
     "output_type": "stream",
     "text": [
      "I0513 12:28:58.806063 140072586213184 session_manager.py:491] Running local_init_op.\n"
     ]
    },
    {
     "name": "stdout",
     "output_type": "stream",
     "text": [
      "INFO:tensorflow:Done running local_init_op.\n"
     ]
    },
    {
     "name": "stderr",
     "output_type": "stream",
     "text": [
      "I0513 12:28:58.877928 140072586213184 session_manager.py:493] Done running local_init_op.\n"
     ]
    },
    {
     "name": "stdout",
     "output_type": "stream",
     "text": [
      "INFO:tensorflow:Saving checkpoints for 0 into ./tmp/adanet/CNN/model.ckpt.\n"
     ]
    },
    {
     "name": "stderr",
     "output_type": "stream",
     "text": [
      "I0513 12:29:00.281979 140072586213184 basic_session_run_hooks.py:594] Saving checkpoints for 0 into ./tmp/adanet/CNN/model.ckpt.\n"
     ]
    },
    {
     "name": "stdout",
     "output_type": "stream",
     "text": [
      "INFO:tensorflow:loss = 1.3736955, step = 1\n"
     ]
    },
    {
     "name": "stderr",
     "output_type": "stream",
     "text": [
      "I0513 12:29:04.439522 140072586213184 basic_session_run_hooks.py:249] loss = 1.3736955, step = 1\n"
     ]
    },
    {
     "name": "stdout",
     "output_type": "stream",
     "text": [
      "INFO:tensorflow:Saving checkpoints for 2 into ./tmp/adanet/CNN/model.ckpt.\n"
     ]
    },
    {
     "name": "stderr",
     "output_type": "stream",
     "text": [
      "I0513 12:29:07.372620 140072586213184 basic_session_run_hooks.py:594] Saving checkpoints for 2 into ./tmp/adanet/CNN/model.ckpt.\n"
     ]
    },
    {
     "name": "stdout",
     "output_type": "stream",
     "text": [
      "INFO:tensorflow:Calling model_fn.\n"
     ]
    },
    {
     "name": "stderr",
     "output_type": "stream",
     "text": [
      "I0513 12:29:08.182131 140072586213184 estimator.py:1111] Calling model_fn.\n"
     ]
    },
    {
     "name": "stdout",
     "output_type": "stream",
     "text": [
      "\n",
      "*** NNGenerator : layers= (0,1)\n",
      "\n",
      "*** NNAdaNetBuilder : NN Type=CNN\n",
      "\n",
      "*** NNAdaNetBuilder : NN Type=CNN\n",
      "INFO:tensorflow:Building iteration 0\n"
     ]
    },
    {
     "name": "stderr",
     "output_type": "stream",
     "text": [
      "I0513 12:29:08.193818 140072586213184 iteration.py:250] Building iteration 0\n"
     ]
    },
    {
     "name": "stdout",
     "output_type": "stream",
     "text": [
      "INFO:tensorflow:Building subnetwork 'CNN_linear'\n"
     ]
    },
    {
     "name": "stderr",
     "output_type": "stream",
     "text": [
      "I0513 12:29:08.204399 140072586213184 iteration.py:337] Building subnetwork 'CNN_linear'\n"
     ]
    },
    {
     "name": "stdout",
     "output_type": "stream",
     "text": [
      "\n",
      "\n",
      "*** build_subnetwork() : features= {'images': <tf.Tensor 'IteratorGetNext:0' shape=(?, 224, 224, 3) dtype=float32>}\n",
      "\n",
      "\n",
      "*** build_subnetwork() : self._feature_columns= [NumericColumn(key='images', shape=(224, 224, 3), default_value=None, dtype=tf.float32, normalizer_fn=None)]\n",
      "\n",
      "\n",
      "*** build_subnetwork() : NN type= CNN / Input layer shape= (?, 150528)\n",
      "\n",
      "*** _build_cnn_baseline_subnetwork() : last_layer= Tensor(\"adanet/iteration_0/subnetwork_t0_CNN_linear/input_layer/concat:0\", shape=(?, 150528), dtype=float32)\n",
      "\n",
      "*** _build_cnn_baseline_subnetwork() : features[images]= Tensor(\"IteratorGetNext:0\", shape=(?, 224, 224, 3), dtype=float32, device=/device:CPU:0)\n",
      "\n",
      "*** build_subnetwork() : last_layer= Tensor(\"adanet/iteration_0/subnetwork_t0_CNN_linear/dropout_1/Identity:0\", shape=(?, 64), dtype=float32)\n",
      "INFO:tensorflow:Building subnetwork 'CNN_layer_1'\n"
     ]
    },
    {
     "name": "stderr",
     "output_type": "stream",
     "text": [
      "I0513 12:29:08.667554 140072586213184 iteration.py:337] Building subnetwork 'CNN_layer_1'\n"
     ]
    },
    {
     "name": "stdout",
     "output_type": "stream",
     "text": [
      "\n",
      "\n",
      "*** build_subnetwork() : features= {'images': <tf.Tensor 'IteratorGetNext:0' shape=(?, 224, 224, 3) dtype=float32>}\n",
      "\n",
      "\n",
      "*** build_subnetwork() : self._feature_columns= [NumericColumn(key='images', shape=(224, 224, 3), default_value=None, dtype=tf.float32, normalizer_fn=None)]\n",
      "\n",
      "\n",
      "*** build_subnetwork() : NN type= CNN / Input layer shape= (?, 150528)\n",
      "\n",
      "*** _build_cnn_baseline_subnetwork() : last_layer= Tensor(\"adanet/iteration_0/subnetwork_t0_CNN_layer_1/input_layer/concat:0\", shape=(?, 150528), dtype=float32)\n",
      "\n",
      "*** _build_cnn_baseline_subnetwork() : features[images]= Tensor(\"IteratorGetNext:0\", shape=(?, 224, 224, 3), dtype=float32, device=/device:CPU:0)\n",
      "\n",
      "*** build_subnetwork() : last_layer= Tensor(\"adanet/iteration_0/subnetwork_t0_CNN_layer_1/dropout_1/Identity:0\", shape=(?, 64), dtype=float32)\n",
      "INFO:tensorflow:Done calling model_fn.\n"
     ]
    },
    {
     "name": "stderr",
     "output_type": "stream",
     "text": [
      "I0513 12:29:09.690995 140072586213184 estimator.py:1113] Done calling model_fn.\n"
     ]
    },
    {
     "name": "stdout",
     "output_type": "stream",
     "text": [
      "INFO:tensorflow:Starting evaluation at 2019-05-13T10:29:09Z\n"
     ]
    },
    {
     "name": "stderr",
     "output_type": "stream",
     "text": [
      "I0513 12:29:09.720358 140072586213184 evaluation.py:257] Starting evaluation at 2019-05-13T10:29:09Z\n"
     ]
    },
    {
     "name": "stdout",
     "output_type": "stream",
     "text": [
      "INFO:tensorflow:Graph was finalized.\n"
     ]
    },
    {
     "name": "stderr",
     "output_type": "stream",
     "text": [
      "I0513 12:29:10.025772 140072586213184 monitored_session.py:222] Graph was finalized.\n"
     ]
    },
    {
     "name": "stdout",
     "output_type": "stream",
     "text": [
      "WARNING:tensorflow:From /home/bangui/anaconda3/lib/python3.6/site-packages/tensorflow/python/training/saver.py:1266: checkpoint_exists (from tensorflow.python.training.checkpoint_management) is deprecated and will be removed in a future version.\n",
      "Instructions for updating:\n",
      "Use standard file APIs to check for files with this prefix.\n"
     ]
    },
    {
     "name": "stderr",
     "output_type": "stream",
     "text": [
      "W0513 12:29:10.027140 140072586213184 deprecation.py:323] From /home/bangui/anaconda3/lib/python3.6/site-packages/tensorflow/python/training/saver.py:1266: checkpoint_exists (from tensorflow.python.training.checkpoint_management) is deprecated and will be removed in a future version.\n",
      "Instructions for updating:\n",
      "Use standard file APIs to check for files with this prefix.\n"
     ]
    },
    {
     "name": "stdout",
     "output_type": "stream",
     "text": [
      "INFO:tensorflow:Restoring parameters from ./tmp/adanet/CNN/model.ckpt-2\n"
     ]
    },
    {
     "name": "stderr",
     "output_type": "stream",
     "text": [
      "I0513 12:29:10.039878 140072586213184 saver.py:1270] Restoring parameters from ./tmp/adanet/CNN/model.ckpt-2\n"
     ]
    },
    {
     "name": "stdout",
     "output_type": "stream",
     "text": [
      "INFO:tensorflow:Running local_init_op.\n"
     ]
    },
    {
     "name": "stderr",
     "output_type": "stream",
     "text": [
      "I0513 12:29:10.239365 140072586213184 session_manager.py:491] Running local_init_op.\n"
     ]
    },
    {
     "name": "stdout",
     "output_type": "stream",
     "text": [
      "INFO:tensorflow:Done running local_init_op.\n"
     ]
    },
    {
     "name": "stderr",
     "output_type": "stream",
     "text": [
      "I0513 12:29:10.314549 140072586213184 session_manager.py:493] Done running local_init_op.\n"
     ]
    },
    {
     "name": "stdout",
     "output_type": "stream",
     "text": [
      "INFO:tensorflow:Finished evaluation at 2019-05-13-10:29:12\n"
     ]
    },
    {
     "name": "stderr",
     "output_type": "stream",
     "text": [
      "I0513 12:29:12.063197 140072586213184 evaluation.py:277] Finished evaluation at 2019-05-13-10:29:12\n"
     ]
    },
    {
     "name": "stdout",
     "output_type": "stream",
     "text": [
      "INFO:tensorflow:Saving dict for global step 2: accuracy = 0.42553192, average_loss = 1.110512, global_step = 2, loss = 1.1458623\n"
     ]
    },
    {
     "name": "stderr",
     "output_type": "stream",
     "text": [
      "I0513 12:29:12.064439 140072586213184 estimator.py:1979] Saving dict for global step 2: accuracy = 0.42553192, average_loss = 1.110512, global_step = 2, loss = 1.1458623\n"
     ]
    },
    {
     "name": "stdout",
     "output_type": "stream",
     "text": [
      "INFO:tensorflow:Saving 'checkpoint_path' summary for global step 2: ./tmp/adanet/CNN/model.ckpt-2\n"
     ]
    },
    {
     "name": "stderr",
     "output_type": "stream",
     "text": [
      "I0513 12:29:12.239464 140072586213184 estimator.py:2039] Saving 'checkpoint_path' summary for global step 2: ./tmp/adanet/CNN/model.ckpt-2\n"
     ]
    },
    {
     "name": "stdout",
     "output_type": "stream",
     "text": [
      "INFO:tensorflow:Loss for final step: 1.2588412.\n"
     ]
    },
    {
     "name": "stderr",
     "output_type": "stream",
     "text": [
      "I0513 12:29:12.317977 140072586213184 estimator.py:359] Loss for final step: 1.2588412.\n"
     ]
    },
    {
     "name": "stdout",
     "output_type": "stream",
     "text": [
      "INFO:tensorflow:Calling model_fn.\n"
     ]
    },
    {
     "name": "stderr",
     "output_type": "stream",
     "text": [
      "I0513 12:29:12.392572 140072586213184 estimator.py:1111] Calling model_fn.\n"
     ]
    },
    {
     "name": "stdout",
     "output_type": "stream",
     "text": [
      "\n",
      "*** NNGenerator : layers= (0,1)\n",
      "\n",
      "*** NNAdaNetBuilder : NN Type=CNN\n",
      "\n",
      "*** NNAdaNetBuilder : NN Type=CNN\n",
      "INFO:tensorflow:Building iteration 0\n"
     ]
    },
    {
     "name": "stderr",
     "output_type": "stream",
     "text": [
      "I0513 12:29:12.401767 140072586213184 iteration.py:250] Building iteration 0\n"
     ]
    },
    {
     "name": "stdout",
     "output_type": "stream",
     "text": [
      "INFO:tensorflow:Building subnetwork 'CNN_linear'\n"
     ]
    },
    {
     "name": "stderr",
     "output_type": "stream",
     "text": [
      "I0513 12:29:12.412581 140072586213184 iteration.py:337] Building subnetwork 'CNN_linear'\n"
     ]
    },
    {
     "name": "stdout",
     "output_type": "stream",
     "text": [
      "\n",
      "\n",
      "*** build_subnetwork() : features= {'images': <tf.Tensor 'IteratorGetNext:0' shape=(?, 224, 224, 3) dtype=float32>}\n",
      "\n",
      "\n",
      "*** build_subnetwork() : self._feature_columns= [NumericColumn(key='images', shape=(224, 224, 3), default_value=None, dtype=tf.float32, normalizer_fn=None)]\n",
      "\n",
      "\n",
      "*** build_subnetwork() : NN type= CNN / Input layer shape= (?, 150528)\n",
      "\n",
      "*** _build_cnn_baseline_subnetwork() : last_layer= Tensor(\"adanet/iteration_0/subnetwork_t0_CNN_linear/input_layer/concat:0\", shape=(?, 150528), dtype=float32)\n",
      "\n",
      "*** _build_cnn_baseline_subnetwork() : features[images]= Tensor(\"IteratorGetNext:0\", shape=(?, 224, 224, 3), dtype=float32)\n",
      "\n",
      "*** build_subnetwork() : last_layer= Tensor(\"adanet/iteration_0/subnetwork_t0_CNN_linear/dropout_1/Identity:0\", shape=(?, 64), dtype=float32)\n",
      "INFO:tensorflow:Building subnetwork 'CNN_layer_1'\n"
     ]
    },
    {
     "name": "stderr",
     "output_type": "stream",
     "text": [
      "I0513 12:29:12.811171 140072586213184 iteration.py:337] Building subnetwork 'CNN_layer_1'\n"
     ]
    },
    {
     "name": "stdout",
     "output_type": "stream",
     "text": [
      "\n",
      "\n",
      "*** build_subnetwork() : features= {'images': <tf.Tensor 'IteratorGetNext:0' shape=(?, 224, 224, 3) dtype=float32>}\n",
      "\n",
      "\n",
      "*** build_subnetwork() : self._feature_columns= [NumericColumn(key='images', shape=(224, 224, 3), default_value=None, dtype=tf.float32, normalizer_fn=None)]\n",
      "\n",
      "\n",
      "*** build_subnetwork() : NN type= CNN / Input layer shape= (?, 150528)\n",
      "\n",
      "*** _build_cnn_baseline_subnetwork() : last_layer= Tensor(\"adanet/iteration_0/subnetwork_t0_CNN_layer_1/input_layer/concat:0\", shape=(?, 150528), dtype=float32)\n",
      "\n",
      "*** _build_cnn_baseline_subnetwork() : features[images]= Tensor(\"IteratorGetNext:0\", shape=(?, 224, 224, 3), dtype=float32)\n",
      "\n",
      "*** build_subnetwork() : last_layer= Tensor(\"adanet/iteration_0/subnetwork_t0_CNN_layer_1/dropout_1/Identity:0\", shape=(?, 64), dtype=float32)\n",
      "INFO:tensorflow:Restoring parameters from ./tmp/adanet/CNN/model.ckpt-2\n"
     ]
    },
    {
     "name": "stderr",
     "output_type": "stream",
     "text": [
      "I0513 12:29:13.997435 140072586213184 saver.py:1270] Restoring parameters from ./tmp/adanet/CNN/model.ckpt-2\n"
     ]
    },
    {
     "name": "stdout",
     "output_type": "stream",
     "text": [
      "WARNING:tensorflow:From /home/bangui/anaconda3/lib/python3.6/site-packages/adanet/core/estimator.py:919: start_queue_runners (from tensorflow.python.training.queue_runner_impl) is deprecated and will be removed in a future version.\n",
      "Instructions for updating:\n",
      "To construct input pipelines, use the `tf.data` module.\n"
     ]
    },
    {
     "name": "stderr",
     "output_type": "stream",
     "text": [
      "W0513 12:29:14.155354 140072586213184 deprecation.py:323] From /home/bangui/anaconda3/lib/python3.6/site-packages/adanet/core/estimator.py:919: start_queue_runners (from tensorflow.python.training.queue_runner_impl) is deprecated and will be removed in a future version.\n",
      "Instructions for updating:\n",
      "To construct input pipelines, use the `tf.data` module.\n"
     ]
    },
    {
     "name": "stdout",
     "output_type": "stream",
     "text": [
      "WARNING:tensorflow:`tf.train.start_queue_runners()` was called when no queue runners were defined. You can safely remove the call to this deprecated function.\n"
     ]
    },
    {
     "name": "stderr",
     "output_type": "stream",
     "text": [
      "W0513 12:29:14.156291 140072586213184 queue_runner_impl.py:471] `tf.train.start_queue_runners()` was called when no queue runners were defined. You can safely remove the call to this deprecated function.\n"
     ]
    },
    {
     "name": "stdout",
     "output_type": "stream",
     "text": [
      "INFO:tensorflow:Done calling model_fn.\n"
     ]
    },
    {
     "name": "stderr",
     "output_type": "stream",
     "text": [
      "I0513 12:29:56.847784 140072586213184 estimator.py:1113] Done calling model_fn.\n"
     ]
    },
    {
     "name": "stdout",
     "output_type": "stream",
     "text": [
      "INFO:tensorflow:Using config: {'_model_dir': './tmp/adanet/CNN/temp_model_dir', '_tf_random_seed': 42, '_save_summary_steps': 100, '_save_checkpoints_steps': None, '_save_checkpoints_secs': 600, '_session_config': allow_soft_placement: true\n",
      "graph_options {\n",
      "  rewrite_options {\n",
      "    meta_optimizer_iterations: ONE\n",
      "  }\n",
      "}\n",
      ", '_keep_checkpoint_max': 5, '_keep_checkpoint_every_n_hours': 10000, '_log_step_count_steps': 100, '_train_distribute': None, '_device_fn': None, '_protocol': None, '_eval_distribute': None, '_experimental_distribute': None, '_service': None, '_cluster_spec': <tensorflow.python.training.server_lib.ClusterSpec object at 0x7f64b556c9b0>, '_task_type': 'worker', '_task_id': 0, '_global_id_in_cluster': 0, '_master': '', '_evaluation_master': '', '_is_chief': True, '_num_ps_replicas': 0, '_num_worker_replicas': 1}\n"
     ]
    },
    {
     "name": "stderr",
     "output_type": "stream",
     "text": [
      "I0513 12:29:56.849487 140072586213184 estimator.py:201] Using config: {'_model_dir': './tmp/adanet/CNN/temp_model_dir', '_tf_random_seed': 42, '_save_summary_steps': 100, '_save_checkpoints_steps': None, '_save_checkpoints_secs': 600, '_session_config': allow_soft_placement: true\n",
      "graph_options {\n",
      "  rewrite_options {\n",
      "    meta_optimizer_iterations: ONE\n",
      "  }\n",
      "}\n",
      ", '_keep_checkpoint_max': 5, '_keep_checkpoint_every_n_hours': 10000, '_log_step_count_steps': 100, '_train_distribute': None, '_device_fn': None, '_protocol': None, '_eval_distribute': None, '_experimental_distribute': None, '_service': None, '_cluster_spec': <tensorflow.python.training.server_lib.ClusterSpec object at 0x7f64b556c9b0>, '_task_type': 'worker', '_task_id': 0, '_global_id_in_cluster': 0, '_master': '', '_evaluation_master': '', '_is_chief': True, '_num_ps_replicas': 0, '_num_worker_replicas': 1}\n"
     ]
    },
    {
     "name": "stdout",
     "output_type": "stream",
     "text": [
      "INFO:tensorflow:Calling model_fn.\n"
     ]
    },
    {
     "name": "stderr",
     "output_type": "stream",
     "text": [
      "I0513 12:29:56.934403 140072586213184 estimator.py:1111] Calling model_fn.\n"
     ]
    },
    {
     "name": "stdout",
     "output_type": "stream",
     "text": [
      "\n",
      "*** NNGenerator : layers= (0,1)\n",
      "\n",
      "*** NNAdaNetBuilder : NN Type=CNN\n",
      "\n",
      "*** NNAdaNetBuilder : NN Type=CNN\n",
      "INFO:tensorflow:Rebuilding iteration 0\n"
     ]
    },
    {
     "name": "stderr",
     "output_type": "stream",
     "text": [
      "I0513 12:29:56.942792 140072586213184 iteration.py:250] Rebuilding iteration 0\n"
     ]
    },
    {
     "name": "stdout",
     "output_type": "stream",
     "text": [
      "INFO:tensorflow:Rebuilding subnetwork 'CNN_layer_1'\n"
     ]
    },
    {
     "name": "stderr",
     "output_type": "stream",
     "text": [
      "I0513 12:29:56.958858 140072586213184 iteration.py:337] Rebuilding subnetwork 'CNN_layer_1'\n"
     ]
    },
    {
     "name": "stdout",
     "output_type": "stream",
     "text": [
      "\n",
      "\n",
      "*** build_subnetwork() : features= {'images': <tf.Tensor 'IteratorGetNext:0' shape=(?, 224, 224, 3) dtype=float32>}\n",
      "\n",
      "\n",
      "*** build_subnetwork() : self._feature_columns= [NumericColumn(key='images', shape=(224, 224, 3), default_value=None, dtype=tf.float32, normalizer_fn=None)]\n",
      "\n",
      "\n",
      "*** build_subnetwork() : NN type= CNN / Input layer shape= (?, 150528)\n",
      "\n",
      "*** _build_cnn_baseline_subnetwork() : last_layer= Tensor(\"adanet/iteration_0/subnetwork_t0_CNN_layer_1/input_layer/concat:0\", shape=(?, 150528), dtype=float32)\n",
      "\n",
      "*** _build_cnn_baseline_subnetwork() : features[images]= Tensor(\"IteratorGetNext:0\", shape=(?, 224, 224, 3), dtype=float32, device=/device:CPU:0)\n",
      "\n",
      "*** build_subnetwork() : last_layer= Tensor(\"adanet/iteration_0/subnetwork_t0_CNN_layer_1/dropout_1/Identity:0\", shape=(?, 64), dtype=float32)\n",
      "\n",
      "*** NNGenerator : layers= (2,3)\n",
      "\n",
      "*** NNAdaNetBuilder : NN Type=CNN\n",
      "\n",
      "*** NNAdaNetBuilder : NN Type=CNN\n",
      "INFO:tensorflow:Building iteration 1\n"
     ]
    },
    {
     "name": "stderr",
     "output_type": "stream",
     "text": [
      "I0513 12:29:57.547407 140072586213184 iteration.py:250] Building iteration 1\n"
     ]
    },
    {
     "name": "stdout",
     "output_type": "stream",
     "text": [
      "INFO:tensorflow:Building subnetwork 'CNN_layer_2'\n"
     ]
    },
    {
     "name": "stderr",
     "output_type": "stream",
     "text": [
      "I0513 12:29:57.580152 140072586213184 iteration.py:337] Building subnetwork 'CNN_layer_2'\n"
     ]
    },
    {
     "name": "stdout",
     "output_type": "stream",
     "text": [
      "\n",
      "\n",
      "*** build_subnetwork() : features= {'images': <tf.Tensor 'IteratorGetNext:0' shape=(?, 224, 224, 3) dtype=float32>}\n",
      "\n",
      "\n",
      "*** build_subnetwork() : self._feature_columns= [NumericColumn(key='images', shape=(224, 224, 3), default_value=None, dtype=tf.float32, normalizer_fn=None)]\n",
      "\n",
      "\n",
      "*** build_subnetwork() : NN type= CNN / Input layer shape= (?, 150528)\n",
      "\n",
      "*** _build_cnn_baseline_subnetwork() : last_layer= Tensor(\"adanet/iteration_1/subnetwork_t1_CNN_layer_2/input_layer/concat:0\", shape=(?, 150528), dtype=float32)\n",
      "\n",
      "*** _build_cnn_baseline_subnetwork() : features[images]= Tensor(\"IteratorGetNext:0\", shape=(?, 224, 224, 3), dtype=float32, device=/device:CPU:0)\n",
      "\n",
      "*** build_subnetwork() : last_layer= Tensor(\"adanet/iteration_1/subnetwork_t1_CNN_layer_2/dense_1/Relu:0\", shape=(?, 64), dtype=float32)\n",
      "INFO:tensorflow:Building subnetwork 'CNN_layer_3'\n"
     ]
    },
    {
     "name": "stderr",
     "output_type": "stream",
     "text": [
      "I0513 12:29:58.531962 140072586213184 iteration.py:337] Building subnetwork 'CNN_layer_3'\n"
     ]
    },
    {
     "name": "stdout",
     "output_type": "stream",
     "text": [
      "\n",
      "\n",
      "*** build_subnetwork() : features= {'images': <tf.Tensor 'IteratorGetNext:0' shape=(?, 224, 224, 3) dtype=float32>}\n",
      "\n",
      "\n",
      "*** build_subnetwork() : self._feature_columns= [NumericColumn(key='images', shape=(224, 224, 3), default_value=None, dtype=tf.float32, normalizer_fn=None)]\n",
      "\n",
      "\n",
      "*** build_subnetwork() : NN type= CNN / Input layer shape= (?, 150528)\n",
      "\n",
      "*** _build_cnn_baseline_subnetwork() : last_layer= Tensor(\"adanet/iteration_1/subnetwork_t1_CNN_layer_3/input_layer/concat:0\", shape=(?, 150528), dtype=float32)\n",
      "\n",
      "*** _build_cnn_baseline_subnetwork() : features[images]= Tensor(\"IteratorGetNext:0\", shape=(?, 224, 224, 3), dtype=float32, device=/device:CPU:0)\n",
      "\n",
      "*** build_subnetwork() : last_layer= Tensor(\"adanet/iteration_1/subnetwork_t1_CNN_layer_3/dense_1/Relu:0\", shape=(?, 64), dtype=float32)\n",
      "WARNING:tensorflow:Using an `adanet.subnetwork.Builder#prune_previous_ensemble` is deprecated. Please use a custom `adanet.ensemble.Strategy` instead.\n"
     ]
    },
    {
     "name": "stderr",
     "output_type": "stream",
     "text": [
      "W0513 12:29:59.317574 140072586213184 tf_logging.py:161] Using an `adanet.subnetwork.Builder#prune_previous_ensemble` is deprecated. Please use a custom `adanet.ensemble.Strategy` instead.\n"
     ]
    },
    {
     "name": "stdout",
     "output_type": "stream",
     "text": [
      "WARNING:tensorflow:The `build_mixture_weights_train_op` method is deprecated. Please use the `Ensembler#build_train_op` instead.\n"
     ]
    },
    {
     "name": "stderr",
     "output_type": "stream",
     "text": [
      "W0513 12:29:59.442465 140072586213184 tf_logging.py:161] The `build_mixture_weights_train_op` method is deprecated. Please use the `Ensembler#build_train_op` instead.\n"
     ]
    },
    {
     "name": "stdout",
     "output_type": "stream",
     "text": [
      "WARNING:tensorflow:Using an `adanet.subnetwork.Builder#prune_previous_ensemble` is deprecated. Please use a custom `adanet.ensemble.Strategy` instead.\n"
     ]
    },
    {
     "name": "stderr",
     "output_type": "stream",
     "text": [
      "W0513 12:29:59.619920 140072586213184 tf_logging.py:161] Using an `adanet.subnetwork.Builder#prune_previous_ensemble` is deprecated. Please use a custom `adanet.ensemble.Strategy` instead.\n"
     ]
    },
    {
     "name": "stdout",
     "output_type": "stream",
     "text": [
      "WARNING:tensorflow:The `build_mixture_weights_train_op` method is deprecated. Please use the `Ensembler#build_train_op` instead.\n"
     ]
    },
    {
     "name": "stderr",
     "output_type": "stream",
     "text": [
      "W0513 12:29:59.749256 140072586213184 tf_logging.py:161] The `build_mixture_weights_train_op` method is deprecated. Please use the `Ensembler#build_train_op` instead.\n"
     ]
    },
    {
     "name": "stdout",
     "output_type": "stream",
     "text": [
      "INFO:tensorflow:Done calling model_fn.\n"
     ]
    },
    {
     "name": "stderr",
     "output_type": "stream",
     "text": [
      "I0513 12:30:00.140517 140072586213184 estimator.py:1113] Done calling model_fn.\n"
     ]
    },
    {
     "name": "stdout",
     "output_type": "stream",
     "text": [
      "INFO:tensorflow:Create CheckpointSaverHook.\n"
     ]
    },
    {
     "name": "stderr",
     "output_type": "stream",
     "text": [
      "I0513 12:30:00.141638 140072586213184 basic_session_run_hooks.py:527] Create CheckpointSaverHook.\n"
     ]
    },
    {
     "name": "stdout",
     "output_type": "stream",
     "text": [
      "WARNING:tensorflow:From /home/bangui/anaconda3/lib/python3.6/site-packages/tensorflow/python/training/saver.py:1070: get_checkpoint_mtimes (from tensorflow.python.training.checkpoint_management) is deprecated and will be removed in a future version.\n",
      "Instructions for updating:\n",
      "Use standard file utilities to get mtimes.\n"
     ]
    },
    {
     "name": "stderr",
     "output_type": "stream",
     "text": [
      "W0513 12:30:01.680773 140072586213184 deprecation.py:323] From /home/bangui/anaconda3/lib/python3.6/site-packages/tensorflow/python/training/saver.py:1070: get_checkpoint_mtimes (from tensorflow.python.training.checkpoint_management) is deprecated and will be removed in a future version.\n",
      "Instructions for updating:\n",
      "Use standard file utilities to get mtimes.\n"
     ]
    },
    {
     "name": "stdout",
     "output_type": "stream",
     "text": [
      "INFO:tensorflow:Graph was finalized.\n"
     ]
    },
    {
     "name": "stderr",
     "output_type": "stream",
     "text": [
      "I0513 12:30:02.161604 140072586213184 monitored_session.py:222] Graph was finalized.\n"
     ]
    },
    {
     "name": "stdout",
     "output_type": "stream",
     "text": [
      "INFO:tensorflow:Running local_init_op.\n"
     ]
    },
    {
     "name": "stderr",
     "output_type": "stream",
     "text": [
      "I0513 12:30:02.813316 140072586213184 session_manager.py:491] Running local_init_op.\n"
     ]
    },
    {
     "name": "stdout",
     "output_type": "stream",
     "text": [
      "INFO:tensorflow:Done running local_init_op.\n"
     ]
    },
    {
     "name": "stderr",
     "output_type": "stream",
     "text": [
      "I0513 12:30:02.902183 140072586213184 session_manager.py:493] Done running local_init_op.\n"
     ]
    },
    {
     "name": "stdout",
     "output_type": "stream",
     "text": [
      "INFO:tensorflow:Saving checkpoints for 0 into ./tmp/adanet/CNN/temp_model_dir/model.ckpt.\n"
     ]
    },
    {
     "name": "stderr",
     "output_type": "stream",
     "text": [
      "I0513 12:30:04.490061 140072586213184 basic_session_run_hooks.py:594] Saving checkpoints for 0 into ./tmp/adanet/CNN/temp_model_dir/model.ckpt.\n"
     ]
    },
    {
     "name": "stdout",
     "output_type": "stream",
     "text": [
      "INFO:tensorflow:Restoring parameters from ./tmp/adanet/CNN/model.ckpt-2\n"
     ]
    },
    {
     "name": "stderr",
     "output_type": "stream",
     "text": [
      "I0513 12:30:05.006743 140072586213184 saver.py:1270] Restoring parameters from ./tmp/adanet/CNN/model.ckpt-2\n"
     ]
    },
    {
     "name": "stdout",
     "output_type": "stream",
     "text": [
      "INFO:tensorflow:loss = 1.0699619, step = 3\n"
     ]
    },
    {
     "name": "stderr",
     "output_type": "stream",
     "text": [
      "I0513 12:30:08.361061 140072586213184 basic_session_run_hooks.py:249] loss = 1.0699619, step = 3\n"
     ]
    },
    {
     "name": "stdout",
     "output_type": "stream",
     "text": [
      "INFO:tensorflow:Saving checkpoints for 3 into ./tmp/adanet/CNN/temp_model_dir/model.ckpt.\n"
     ]
    },
    {
     "name": "stderr",
     "output_type": "stream",
     "text": [
      "I0513 12:30:08.362633 140072586213184 basic_session_run_hooks.py:594] Saving checkpoints for 3 into ./tmp/adanet/CNN/temp_model_dir/model.ckpt.\n"
     ]
    },
    {
     "name": "stdout",
     "output_type": "stream",
     "text": [
      "INFO:tensorflow:Loss for final step: 1.0699619.\n"
     ]
    },
    {
     "name": "stderr",
     "output_type": "stream",
     "text": [
      "I0513 12:30:08.877773 140072586213184 estimator.py:359] Loss for final step: 1.0699619.\n"
     ]
    },
    {
     "name": "stdout",
     "output_type": "stream",
     "text": [
      "INFO:tensorflow:Calling model_fn.\n"
     ]
    },
    {
     "name": "stderr",
     "output_type": "stream",
     "text": [
      "I0513 12:30:09.003298 140072586213184 estimator.py:1111] Calling model_fn.\n"
     ]
    },
    {
     "name": "stdout",
     "output_type": "stream",
     "text": [
      "\n",
      "*** NNGenerator : layers= (0,1)\n",
      "\n",
      "*** NNAdaNetBuilder : NN Type=CNN\n",
      "\n",
      "*** NNAdaNetBuilder : NN Type=CNN\n",
      "INFO:tensorflow:Rebuilding iteration 0\n"
     ]
    },
    {
     "name": "stderr",
     "output_type": "stream",
     "text": [
      "I0513 12:30:09.006990 140072586213184 iteration.py:250] Rebuilding iteration 0\n"
     ]
    },
    {
     "name": "stdout",
     "output_type": "stream",
     "text": [
      "INFO:tensorflow:Rebuilding subnetwork 'CNN_layer_1'\n"
     ]
    },
    {
     "name": "stderr",
     "output_type": "stream",
     "text": [
      "I0513 12:30:09.012349 140072586213184 iteration.py:337] Rebuilding subnetwork 'CNN_layer_1'\n"
     ]
    },
    {
     "name": "stdout",
     "output_type": "stream",
     "text": [
      "\n",
      "\n",
      "*** build_subnetwork() : features= {'images': <tf.Tensor 'IteratorGetNext:0' shape=(?, 224, 224, 3) dtype=float32>}\n",
      "\n",
      "\n",
      "*** build_subnetwork() : self._feature_columns= [NumericColumn(key='images', shape=(224, 224, 3), default_value=None, dtype=tf.float32, normalizer_fn=None)]\n",
      "\n",
      "\n",
      "*** build_subnetwork() : NN type= CNN / Input layer shape= (?, 150528)\n",
      "\n",
      "*** _build_cnn_baseline_subnetwork() : last_layer= Tensor(\"adanet/iteration_0/subnetwork_t0_CNN_layer_1/input_layer/concat:0\", shape=(?, 150528), dtype=float32)\n",
      "\n",
      "*** _build_cnn_baseline_subnetwork() : features[images]= Tensor(\"IteratorGetNext:0\", shape=(?, 224, 224, 3), dtype=float32, device=/device:CPU:0)\n",
      "\n",
      "*** build_subnetwork() : last_layer= Tensor(\"adanet/iteration_0/subnetwork_t0_CNN_layer_1/dropout_1/Identity:0\", shape=(?, 64), dtype=float32)\n",
      "\n",
      "*** NNGenerator : layers= (2,3)\n",
      "\n",
      "*** NNAdaNetBuilder : NN Type=CNN\n",
      "\n",
      "*** NNAdaNetBuilder : NN Type=CNN\n",
      "INFO:tensorflow:Building iteration 1\n"
     ]
    },
    {
     "name": "stderr",
     "output_type": "stream",
     "text": [
      "I0513 12:30:09.511606 140072586213184 iteration.py:250] Building iteration 1\n"
     ]
    },
    {
     "name": "stdout",
     "output_type": "stream",
     "text": [
      "INFO:tensorflow:Building subnetwork 'CNN_layer_2'\n"
     ]
    },
    {
     "name": "stderr",
     "output_type": "stream",
     "text": [
      "I0513 12:30:09.555342 140072586213184 iteration.py:337] Building subnetwork 'CNN_layer_2'\n"
     ]
    },
    {
     "name": "stdout",
     "output_type": "stream",
     "text": [
      "\n",
      "\n",
      "*** build_subnetwork() : features= {'images': <tf.Tensor 'IteratorGetNext:0' shape=(?, 224, 224, 3) dtype=float32>}\n",
      "\n",
      "\n",
      "*** build_subnetwork() : self._feature_columns= [NumericColumn(key='images', shape=(224, 224, 3), default_value=None, dtype=tf.float32, normalizer_fn=None)]\n",
      "\n",
      "\n",
      "*** build_subnetwork() : NN type= CNN / Input layer shape= (?, 150528)\n",
      "\n",
      "*** _build_cnn_baseline_subnetwork() : last_layer= Tensor(\"adanet/iteration_1/subnetwork_t1_CNN_layer_2/input_layer/concat:0\", shape=(?, 150528), dtype=float32)\n",
      "\n",
      "*** _build_cnn_baseline_subnetwork() : features[images]= Tensor(\"IteratorGetNext:0\", shape=(?, 224, 224, 3), dtype=float32, device=/device:CPU:0)\n",
      "\n",
      "*** build_subnetwork() : last_layer= Tensor(\"adanet/iteration_1/subnetwork_t1_CNN_layer_2/dense_1/Relu:0\", shape=(?, 64), dtype=float32)\n",
      "INFO:tensorflow:Building subnetwork 'CNN_layer_3'\n"
     ]
    },
    {
     "name": "stderr",
     "output_type": "stream",
     "text": [
      "I0513 12:30:10.488088 140072586213184 iteration.py:337] Building subnetwork 'CNN_layer_3'\n"
     ]
    },
    {
     "name": "stdout",
     "output_type": "stream",
     "text": [
      "\n",
      "\n",
      "*** build_subnetwork() : features= {'images': <tf.Tensor 'IteratorGetNext:0' shape=(?, 224, 224, 3) dtype=float32>}\n",
      "\n",
      "\n",
      "*** build_subnetwork() : self._feature_columns= [NumericColumn(key='images', shape=(224, 224, 3), default_value=None, dtype=tf.float32, normalizer_fn=None)]\n",
      "\n",
      "\n",
      "*** build_subnetwork() : NN type= CNN / Input layer shape= (?, 150528)\n",
      "\n",
      "*** _build_cnn_baseline_subnetwork() : last_layer= Tensor(\"adanet/iteration_1/subnetwork_t1_CNN_layer_3/input_layer/concat:0\", shape=(?, 150528), dtype=float32)\n",
      "\n",
      "*** _build_cnn_baseline_subnetwork() : features[images]= Tensor(\"IteratorGetNext:0\", shape=(?, 224, 224, 3), dtype=float32, device=/device:CPU:0)\n",
      "\n",
      "*** build_subnetwork() : last_layer= Tensor(\"adanet/iteration_1/subnetwork_t1_CNN_layer_3/dense_1/Relu:0\", shape=(?, 64), dtype=float32)\n",
      "WARNING:tensorflow:Using an `adanet.subnetwork.Builder#prune_previous_ensemble` is deprecated. Please use a custom `adanet.ensemble.Strategy` instead.\n"
     ]
    },
    {
     "name": "stderr",
     "output_type": "stream",
     "text": [
      "W0513 12:30:11.282342 140072586213184 tf_logging.py:161] Using an `adanet.subnetwork.Builder#prune_previous_ensemble` is deprecated. Please use a custom `adanet.ensemble.Strategy` instead.\n"
     ]
    },
    {
     "name": "stdout",
     "output_type": "stream",
     "text": [
      "WARNING:tensorflow:The `build_mixture_weights_train_op` method is deprecated. Please use the `Ensembler#build_train_op` instead.\n"
     ]
    },
    {
     "name": "stderr",
     "output_type": "stream",
     "text": [
      "W0513 12:30:11.402644 140072586213184 tf_logging.py:161] The `build_mixture_weights_train_op` method is deprecated. Please use the `Ensembler#build_train_op` instead.\n"
     ]
    },
    {
     "name": "stdout",
     "output_type": "stream",
     "text": [
      "WARNING:tensorflow:Using an `adanet.subnetwork.Builder#prune_previous_ensemble` is deprecated. Please use a custom `adanet.ensemble.Strategy` instead.\n"
     ]
    },
    {
     "name": "stderr",
     "output_type": "stream",
     "text": [
      "W0513 12:30:11.590619 140072586213184 tf_logging.py:161] Using an `adanet.subnetwork.Builder#prune_previous_ensemble` is deprecated. Please use a custom `adanet.ensemble.Strategy` instead.\n"
     ]
    },
    {
     "name": "stdout",
     "output_type": "stream",
     "text": [
      "WARNING:tensorflow:The `build_mixture_weights_train_op` method is deprecated. Please use the `Ensembler#build_train_op` instead.\n"
     ]
    },
    {
     "name": "stderr",
     "output_type": "stream",
     "text": [
      "W0513 12:30:11.727972 140072586213184 tf_logging.py:161] The `build_mixture_weights_train_op` method is deprecated. Please use the `Ensembler#build_train_op` instead.\n"
     ]
    },
    {
     "name": "stdout",
     "output_type": "stream",
     "text": [
      "INFO:tensorflow:Done calling model_fn.\n"
     ]
    },
    {
     "name": "stderr",
     "output_type": "stream",
     "text": [
      "I0513 12:30:11.980133 140072586213184 estimator.py:1113] Done calling model_fn.\n"
     ]
    },
    {
     "name": "stdout",
     "output_type": "stream",
     "text": [
      "INFO:tensorflow:Create CheckpointSaverHook.\n"
     ]
    },
    {
     "name": "stderr",
     "output_type": "stream",
     "text": [
      "I0513 12:30:11.981176 140072586213184 basic_session_run_hooks.py:527] Create CheckpointSaverHook.\n"
     ]
    },
    {
     "name": "stdout",
     "output_type": "stream",
     "text": [
      "INFO:tensorflow:Graph was finalized.\n"
     ]
    },
    {
     "name": "stderr",
     "output_type": "stream",
     "text": [
      "I0513 12:30:12.643142 140072586213184 monitored_session.py:222] Graph was finalized.\n"
     ]
    },
    {
     "name": "stdout",
     "output_type": "stream",
     "text": [
      "INFO:tensorflow:Restoring parameters from ./tmp/adanet/CNN/increment.ckpt-1\n"
     ]
    },
    {
     "name": "stderr",
     "output_type": "stream",
     "text": [
      "I0513 12:30:12.648465 140072586213184 saver.py:1270] Restoring parameters from ./tmp/adanet/CNN/increment.ckpt-1\n"
     ]
    },
    {
     "name": "stdout",
     "output_type": "stream",
     "text": [
      "INFO:tensorflow:Running local_init_op.\n"
     ]
    },
    {
     "name": "stderr",
     "output_type": "stream",
     "text": [
      "I0513 12:30:13.033214 140072586213184 session_manager.py:491] Running local_init_op.\n"
     ]
    },
    {
     "name": "stdout",
     "output_type": "stream",
     "text": [
      "INFO:tensorflow:Done running local_init_op.\n"
     ]
    },
    {
     "name": "stderr",
     "output_type": "stream",
     "text": [
      "I0513 12:30:13.122941 140072586213184 session_manager.py:493] Done running local_init_op.\n"
     ]
    },
    {
     "name": "stdout",
     "output_type": "stream",
     "text": [
      "INFO:tensorflow:Saving checkpoints for 2 into ./tmp/adanet/CNN/model.ckpt.\n"
     ]
    },
    {
     "name": "stderr",
     "output_type": "stream",
     "text": [
      "I0513 12:30:14.632659 140072586213184 basic_session_run_hooks.py:594] Saving checkpoints for 2 into ./tmp/adanet/CNN/model.ckpt.\n"
     ]
    },
    {
     "name": "stdout",
     "output_type": "stream",
     "text": [
      "INFO:tensorflow:loss = 1.0699619, step = 3\n"
     ]
    },
    {
     "name": "stderr",
     "output_type": "stream",
     "text": [
      "I0513 12:30:22.640039 140072586213184 basic_session_run_hooks.py:249] loss = 1.0699619, step = 3\n"
     ]
    },
    {
     "name": "stdout",
     "output_type": "stream",
     "text": [
      "INFO:tensorflow:Saving checkpoints for 4 into ./tmp/adanet/CNN/model.ckpt.\n"
     ]
    },
    {
     "name": "stderr",
     "output_type": "stream",
     "text": [
      "I0513 12:30:29.701849 140072586213184 basic_session_run_hooks.py:594] Saving checkpoints for 4 into ./tmp/adanet/CNN/model.ckpt.\n"
     ]
    },
    {
     "name": "stdout",
     "output_type": "stream",
     "text": [
      "INFO:tensorflow:Calling model_fn.\n"
     ]
    },
    {
     "name": "stderr",
     "output_type": "stream",
     "text": [
      "I0513 12:30:30.166839 140072586213184 estimator.py:1111] Calling model_fn.\n"
     ]
    },
    {
     "name": "stdout",
     "output_type": "stream",
     "text": [
      "\n",
      "*** NNGenerator : layers= (0,1)\n",
      "\n",
      "*** NNAdaNetBuilder : NN Type=CNN\n",
      "\n",
      "*** NNAdaNetBuilder : NN Type=CNN\n",
      "INFO:tensorflow:Rebuilding iteration 0\n"
     ]
    },
    {
     "name": "stderr",
     "output_type": "stream",
     "text": [
      "I0513 12:30:30.171982 140072586213184 iteration.py:250] Rebuilding iteration 0\n"
     ]
    },
    {
     "name": "stdout",
     "output_type": "stream",
     "text": [
      "INFO:tensorflow:Rebuilding subnetwork 'CNN_layer_1'\n"
     ]
    },
    {
     "name": "stderr",
     "output_type": "stream",
     "text": [
      "I0513 12:30:30.177020 140072586213184 iteration.py:337] Rebuilding subnetwork 'CNN_layer_1'\n"
     ]
    },
    {
     "name": "stdout",
     "output_type": "stream",
     "text": [
      "\n",
      "\n",
      "*** build_subnetwork() : features= {'images': <tf.Tensor 'IteratorGetNext:0' shape=(?, 224, 224, 3) dtype=float32>}\n",
      "\n",
      "\n",
      "*** build_subnetwork() : self._feature_columns= [NumericColumn(key='images', shape=(224, 224, 3), default_value=None, dtype=tf.float32, normalizer_fn=None)]\n",
      "\n",
      "\n",
      "*** build_subnetwork() : NN type= CNN / Input layer shape= (?, 150528)\n",
      "\n",
      "*** _build_cnn_baseline_subnetwork() : last_layer= Tensor(\"adanet/iteration_0/subnetwork_t0_CNN_layer_1/input_layer/concat:0\", shape=(?, 150528), dtype=float32)\n",
      "\n",
      "*** _build_cnn_baseline_subnetwork() : features[images]= Tensor(\"IteratorGetNext:0\", shape=(?, 224, 224, 3), dtype=float32, device=/device:CPU:0)\n",
      "\n",
      "*** build_subnetwork() : last_layer= Tensor(\"adanet/iteration_0/subnetwork_t0_CNN_layer_1/dropout_1/Identity:0\", shape=(?, 64), dtype=float32)\n",
      "\n",
      "*** NNGenerator : layers= (2,3)\n",
      "\n",
      "*** NNAdaNetBuilder : NN Type=CNN\n",
      "\n",
      "*** NNAdaNetBuilder : NN Type=CNN\n",
      "INFO:tensorflow:Building iteration 1\n"
     ]
    },
    {
     "name": "stderr",
     "output_type": "stream",
     "text": [
      "I0513 12:30:30.681662 140072586213184 iteration.py:250] Building iteration 1\n"
     ]
    },
    {
     "name": "stdout",
     "output_type": "stream",
     "text": [
      "INFO:tensorflow:Building subnetwork 'CNN_layer_2'\n"
     ]
    },
    {
     "name": "stderr",
     "output_type": "stream",
     "text": [
      "I0513 12:30:30.748211 140072586213184 iteration.py:337] Building subnetwork 'CNN_layer_2'\n"
     ]
    },
    {
     "name": "stdout",
     "output_type": "stream",
     "text": [
      "\n",
      "\n",
      "*** build_subnetwork() : features= {'images': <tf.Tensor 'IteratorGetNext:0' shape=(?, 224, 224, 3) dtype=float32>}\n",
      "\n",
      "\n",
      "*** build_subnetwork() : self._feature_columns= [NumericColumn(key='images', shape=(224, 224, 3), default_value=None, dtype=tf.float32, normalizer_fn=None)]\n",
      "\n",
      "\n",
      "*** build_subnetwork() : NN type= CNN / Input layer shape= (?, 150528)\n",
      "\n",
      "*** _build_cnn_baseline_subnetwork() : last_layer= Tensor(\"adanet/iteration_1/subnetwork_t1_CNN_layer_2/input_layer/concat:0\", shape=(?, 150528), dtype=float32)\n",
      "\n",
      "*** _build_cnn_baseline_subnetwork() : features[images]= Tensor(\"IteratorGetNext:0\", shape=(?, 224, 224, 3), dtype=float32, device=/device:CPU:0)\n",
      "\n",
      "*** build_subnetwork() : last_layer= Tensor(\"adanet/iteration_1/subnetwork_t1_CNN_layer_2/dropout_1/Identity:0\", shape=(?, 64), dtype=float32)\n",
      "INFO:tensorflow:Building subnetwork 'CNN_layer_3'\n"
     ]
    },
    {
     "name": "stderr",
     "output_type": "stream",
     "text": [
      "I0513 12:30:31.094403 140072586213184 iteration.py:337] Building subnetwork 'CNN_layer_3'\n"
     ]
    },
    {
     "name": "stdout",
     "output_type": "stream",
     "text": [
      "\n",
      "\n",
      "*** build_subnetwork() : features= {'images': <tf.Tensor 'IteratorGetNext:0' shape=(?, 224, 224, 3) dtype=float32>}\n",
      "\n",
      "\n",
      "*** build_subnetwork() : self._feature_columns= [NumericColumn(key='images', shape=(224, 224, 3), default_value=None, dtype=tf.float32, normalizer_fn=None)]\n",
      "\n",
      "\n",
      "*** build_subnetwork() : NN type= CNN / Input layer shape= (?, 150528)\n",
      "\n",
      "*** _build_cnn_baseline_subnetwork() : last_layer= Tensor(\"adanet/iteration_1/subnetwork_t1_CNN_layer_3/input_layer/concat:0\", shape=(?, 150528), dtype=float32)\n",
      "\n",
      "*** _build_cnn_baseline_subnetwork() : features[images]= Tensor(\"IteratorGetNext:0\", shape=(?, 224, 224, 3), dtype=float32, device=/device:CPU:0)\n",
      "\n",
      "*** build_subnetwork() : last_layer= Tensor(\"adanet/iteration_1/subnetwork_t1_CNN_layer_3/dropout_1/Identity:0\", shape=(?, 64), dtype=float32)\n",
      "WARNING:tensorflow:Using an `adanet.subnetwork.Builder#prune_previous_ensemble` is deprecated. Please use a custom `adanet.ensemble.Strategy` instead.\n"
     ]
    },
    {
     "name": "stderr",
     "output_type": "stream",
     "text": [
      "W0513 12:30:31.447674 140072586213184 tf_logging.py:161] Using an `adanet.subnetwork.Builder#prune_previous_ensemble` is deprecated. Please use a custom `adanet.ensemble.Strategy` instead.\n"
     ]
    },
    {
     "name": "stdout",
     "output_type": "stream",
     "text": [
      "WARNING:tensorflow:Using an `adanet.subnetwork.Builder#prune_previous_ensemble` is deprecated. Please use a custom `adanet.ensemble.Strategy` instead.\n"
     ]
    },
    {
     "name": "stderr",
     "output_type": "stream",
     "text": [
      "W0513 12:30:31.630236 140072586213184 tf_logging.py:161] Using an `adanet.subnetwork.Builder#prune_previous_ensemble` is deprecated. Please use a custom `adanet.ensemble.Strategy` instead.\n"
     ]
    },
    {
     "name": "stdout",
     "output_type": "stream",
     "text": [
      "INFO:tensorflow:Done calling model_fn.\n"
     ]
    },
    {
     "name": "stderr",
     "output_type": "stream",
     "text": [
      "I0513 12:30:31.975421 140072586213184 estimator.py:1113] Done calling model_fn.\n"
     ]
    },
    {
     "name": "stdout",
     "output_type": "stream",
     "text": [
      "INFO:tensorflow:Starting evaluation at 2019-05-13T10:30:31Z\n"
     ]
    },
    {
     "name": "stderr",
     "output_type": "stream",
     "text": [
      "I0513 12:30:32.003742 140072586213184 evaluation.py:257] Starting evaluation at 2019-05-13T10:30:31Z\n"
     ]
    },
    {
     "name": "stdout",
     "output_type": "stream",
     "text": [
      "INFO:tensorflow:Graph was finalized.\n"
     ]
    },
    {
     "name": "stderr",
     "output_type": "stream",
     "text": [
      "I0513 12:30:32.650670 140072586213184 monitored_session.py:222] Graph was finalized.\n"
     ]
    },
    {
     "name": "stdout",
     "output_type": "stream",
     "text": [
      "INFO:tensorflow:Restoring parameters from ./tmp/adanet/CNN/model.ckpt-4\n"
     ]
    },
    {
     "name": "stderr",
     "output_type": "stream",
     "text": [
      "I0513 12:30:32.652316 140072586213184 saver.py:1270] Restoring parameters from ./tmp/adanet/CNN/model.ckpt-4\n"
     ]
    },
    {
     "name": "stdout",
     "output_type": "stream",
     "text": [
      "INFO:tensorflow:Running local_init_op.\n"
     ]
    },
    {
     "name": "stderr",
     "output_type": "stream",
     "text": [
      "I0513 12:30:32.903646 140072586213184 session_manager.py:491] Running local_init_op.\n"
     ]
    },
    {
     "name": "stdout",
     "output_type": "stream",
     "text": [
      "INFO:tensorflow:Done running local_init_op.\n"
     ]
    },
    {
     "name": "stderr",
     "output_type": "stream",
     "text": [
      "I0513 12:30:33.014750 140072586213184 session_manager.py:493] Done running local_init_op.\n"
     ]
    },
    {
     "name": "stdout",
     "output_type": "stream",
     "text": [
      "INFO:tensorflow:Finished evaluation at 2019-05-13-10:30:37\n"
     ]
    },
    {
     "name": "stderr",
     "output_type": "stream",
     "text": [
      "I0513 12:30:37.636775 140072586213184 evaluation.py:277] Finished evaluation at 2019-05-13-10:30:37\n"
     ]
    },
    {
     "name": "stdout",
     "output_type": "stream",
     "text": [
      "INFO:tensorflow:Saving dict for global step 4: accuracy = 0.42553192, average_loss = 1.110512, global_step = 4, loss = 1.1458623\n"
     ]
    },
    {
     "name": "stderr",
     "output_type": "stream",
     "text": [
      "I0513 12:30:37.637668 140072586213184 estimator.py:1979] Saving dict for global step 4: accuracy = 0.42553192, average_loss = 1.110512, global_step = 4, loss = 1.1458623\n"
     ]
    },
    {
     "name": "stdout",
     "output_type": "stream",
     "text": [
      "INFO:tensorflow:Saving 'checkpoint_path' summary for global step 4: ./tmp/adanet/CNN/model.ckpt-4\n"
     ]
    },
    {
     "name": "stderr",
     "output_type": "stream",
     "text": [
      "I0513 12:30:37.639608 140072586213184 estimator.py:2039] Saving 'checkpoint_path' summary for global step 4: ./tmp/adanet/CNN/model.ckpt-4\n"
     ]
    },
    {
     "name": "stdout",
     "output_type": "stream",
     "text": [
      "INFO:tensorflow:Loss for final step: 1.053261.\n"
     ]
    },
    {
     "name": "stderr",
     "output_type": "stream",
     "text": [
      "I0513 12:30:37.678400 140072586213184 estimator.py:359] Loss for final step: 1.053261.\n"
     ]
    }
   ],
   "source": [
    "start_time = time.time()\n",
    "results, _ = tf.estimator.train_and_evaluate(adanet_estimator, train_spec, eval_spec)\n",
    "end_time = time.time()"
   ]
  },
  {
   "cell_type": "code",
   "execution_count": 14,
   "metadata": {
    "colab": {
     "base_uri": "https://localhost:8080/",
     "height": 1295
    },
    "colab_type": "code",
    "executionInfo": {
     "elapsed": 2118,
     "status": "error",
     "timestamp": 1554720133634,
     "user": {
      "displayName": "FBT Telecom",
      "photoUrl": "",
      "userId": "01928442219250440173"
     },
     "user_tz": -120
    },
    "id": "_reIMFwIcDKL",
    "outputId": "5db434df-7c87-4eaf-ab11-e3a91c5425a7",
    "scrolled": true
   },
   "outputs": [
    {
     "name": "stdout",
     "output_type": "stream",
     "text": [
      "\n",
      "------------------------------------------------\n",
      "Time (sec) 104.19318962097168\n",
      "\n",
      "ACCURACY: 0.42553192377090454\n",
      "\n",
      "ARCHITECTURE/ADANET/ENSEMBLES: b'\\n6\\n\\x13architecture/adanetB\\x15\\x08\\x07\\x12\\x00B\\x0f| CNN_layer_1 |J\\x08\\n\\x06\\n\\x04text'\n",
      "\n",
      "AVERAGE_LOSS: 1.1105120182037354\n",
      "\n",
      "LOSS: 1.145862340927124\n",
      "\n",
      "GLOBAL_STEP: 4\n"
     ]
    }
   ],
   "source": [
    "print(\"\\n------------------------------------------------\")\n",
    "print(\"Time (sec)\", end_time-start_time)\n",
    "for key in results.keys() :\n",
    "    title =key.upper()\n",
    "    print(\"\\n{}: {}\".format(title, results[key]))\n"
   ]
  },
  {
   "cell_type": "code",
   "execution_count": 15,
   "metadata": {},
   "outputs": [],
   "source": [
    "#import tensorflow as tf\n",
    "#help(tf.estimator.Estimator)"
   ]
  },
  {
   "cell_type": "raw",
   "metadata": {},
   "source": [
    "from tensorflow.python.tools.inspect_checkpoint import print_tensors_in_checkpoint_file\n",
    "max_iteration_steps=TRAIN_STEPS // ADANET_ITERATIONS\n",
    "\n",
    "#filenale_model_check = './tmp/models/'+str(NN_TYPE)+'/model.ckpt-3'\n",
    "#print_tensors_in_checkpoint_file(file_name=filenale_model_check, tensor_name='', all_tensors=False)\n",
    "print(\"\\n----------\\n\")\n",
    "filename_model_checkpoint = OUTPUT_DIR+'/'+str(NN_TYPE)+'/model.ckpt-'+str(TRAIN_STEPS)\n",
    "print_tensors_in_checkpoint_file(file_name=filename_model_checkpoint\\\n",
    "                                 , tensor_name='', all_tensors=False)\n"
   ]
  },
  {
   "cell_type": "code",
   "execution_count": 16,
   "metadata": {},
   "outputs": [],
   "source": [
    "def ensemble_architecture(result):\n",
    "  \"\"\"Extracts the ensemble architecture from evaluation results.\"\"\"\n",
    "\n",
    "  architecture = result[\"architecture/adanet/ensembles\"]\n",
    "  # The architecture is a serialized Summary proto for TensorBoard.\n",
    "  summary_proto = tf.summary.Summary.FromString(architecture)\n",
    "  return summary_proto.value[0].tensor.string_val[0]"
   ]
  },
  {
   "cell_type": "code",
   "execution_count": 17,
   "metadata": {},
   "outputs": [
    {
     "name": "stdout",
     "output_type": "stream",
     "text": [
      "Architecture: b'| CNN_layer_1 |' / Accuracy= 0.42553192377090454 /Loss= 1.145862340927124\n"
     ]
    }
   ],
   "source": [
    "print(\"Architecture: {} / Accuracy= {} /Loss= {}\".format(ensemble_architecture(results)\\\n",
    "                                                  , results['accuracy'], results['loss']))"
   ]
  },
  {
   "cell_type": "code",
   "execution_count": 18,
   "metadata": {},
   "outputs": [],
   "source": [
    "# Architecture: b'| DNN_layer_1 | DNN_layer_2 | DNN_layer_3 |' : accuracy = 40% / Loss = 1.0883579\n",
    "# Architecture: b'| CNNBase_layer_1 |' / Accuracy= 0.40425533056259155 /Loss= 1.081491470336914\n",
    "# Architecture: b'| CNNBase_linear | CNNBase_layer_1 |' / Accuracy= 0.42553192377090454 /Loss= 1.1250361204147339"
   ]
  },
  {
   "cell_type": "code",
   "execution_count": 19,
   "metadata": {},
   "outputs": [],
   "source": [
    "if is_tensorboard is True :\n",
    "    get_ipython().system_raw(\n",
    "        'tensorboard --logdir {} --host localhost --port 6006 &'\n",
    "        .format(output_dir_log)\n",
    "    )\n",
    "\n",
    "\n",
    "    get_ipython().system_raw('./assets/ngrok http 6006 &')"
   ]
  },
  {
   "cell_type": "code",
   "execution_count": 20,
   "metadata": {},
   "outputs": [
    {
     "data": {
      "text/plain": [
       "'./tmp/adanet/CNN'"
      ]
     },
     "execution_count": 20,
     "metadata": {},
     "output_type": "execute_result"
    }
   ],
   "source": [
    "output_dir_log"
   ]
  },
  {
   "cell_type": "code",
   "execution_count": 21,
   "metadata": {},
   "outputs": [
    {
     "data": {
      "text/plain": [
       "1"
      ]
     },
     "execution_count": 21,
     "metadata": {},
     "output_type": "execute_result"
    }
   ],
   "source": [
    "1%2"
   ]
  },
  {
   "cell_type": "code",
   "execution_count": 22,
   "metadata": {},
   "outputs": [
    {
     "data": {
      "text/plain": [
       "0"
      ]
     },
     "execution_count": 22,
     "metadata": {},
     "output_type": "execute_result"
    }
   ],
   "source": [
    "2%2"
   ]
  },
  {
   "cell_type": "code",
   "execution_count": 23,
   "metadata": {},
   "outputs": [
    {
     "data": {
      "text/plain": [
       "1"
      ]
     },
     "execution_count": 23,
     "metadata": {},
     "output_type": "execute_result"
    }
   ],
   "source": [
    "3%2"
   ]
  },
  {
   "cell_type": "code",
   "execution_count": 24,
   "metadata": {},
   "outputs": [
    {
     "data": {
      "text/plain": [
       "0"
      ]
     },
     "execution_count": 24,
     "metadata": {},
     "output_type": "execute_result"
    }
   ],
   "source": [
    "4%2"
   ]
  },
  {
   "cell_type": "raw",
   "metadata": {},
   "source": [
    "import tensorflow as tf\n",
    "help(tf.contrib.util.constant_value)"
   ]
  },
  {
   "cell_type": "code",
   "execution_count": null,
   "metadata": {},
   "outputs": [],
   "source": []
  }
 ],
 "metadata": {
  "accelerator": "GPU",
  "colab": {
   "collapsed_sections": [],
   "name": "Untitled0.ipynb",
   "provenance": [],
   "version": "0.3.2"
  },
  "kernelspec": {
   "display_name": "Python 3",
   "language": "python",
   "name": "python3"
  },
  "language_info": {
   "codemirror_mode": {
    "name": "ipython",
    "version": 3
   },
   "file_extension": ".py",
   "mimetype": "text/x-python",
   "name": "python",
   "nbconvert_exporter": "python",
   "pygments_lexer": "ipython3",
   "version": "3.6.8"
  }
 },
 "nbformat": 4,
 "nbformat_minor": 1
}
