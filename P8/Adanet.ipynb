{
 "cells": [
  {
   "cell_type": "code",
   "execution_count": 10,
   "metadata": {
    "colab": {},
    "colab_type": "code",
    "id": "jOUQoPfSYUGp"
   },
   "outputs": [],
   "source": [
    "%load_ext autoreload\n",
    "%autoreload 2\n",
    "import adanet"
   ]
  },
  {
   "cell_type": "code",
   "execution_count": 11,
   "metadata": {
    "colab": {},
    "colab_type": "code",
    "id": "BUkDiPBiM7dy"
   },
   "outputs": [],
   "source": [
    "OUTPUT_DIR = './tmp/adanet'\n",
    "datadir = './data'\n",
    "is_tensorboard = True"
   ]
  },
  {
   "cell_type": "code",
   "execution_count": 12,
   "metadata": {},
   "outputs": [
    {
     "name": "stdout",
     "output_type": "stream",
     "text": [
      "kill: (3695)kill: (3701)"
     ]
    }
   ],
   "source": [
    "# this will kill the processes for Tensorboard\n",
    "if is_tensorboard is True :\n",
    "    !ps aux | grep tensorboard | awk '{print $2}' | xargs kill\n",
    "\n",
    "# this will kill the processes for ngrok\n",
    "if is_tensorboard is True :\n",
    "    !ps aux | grep ngrok | awk '{print $2}' | xargs kill"
   ]
  },
  {
   "cell_type": "code",
   "execution_count": 13,
   "metadata": {},
   "outputs": [
    {
     "name": "stdout",
     "output_type": "stream",
     "text": [
      "p5_util.object_load : fileName= ./data/arr_keras_X_y_train_test.dump\n",
      "(414, 672, 224) (47, 672, 224) (414, 3) (47, 3)\n",
      "(414, 672, 224) (47, 672, 224) (672, 224)\n"
     ]
    }
   ],
   "source": [
    "import p8_util\n",
    "filename_dataset=datadir+'/arr_keras_X_y_train_test.dump'\n",
    "x_train, x_test, y_train, y_test, nClasses, feature_shape = p8_util.load_dataset(filename_dataset)\n",
    "print(x_train.shape, x_test.shape, feature_shape)"
   ]
  },
  {
   "cell_type": "markdown",
   "metadata": {},
   "source": [
    "#### Check a NN object candidate sample that will be created from Adanet algorithm."
   ]
  },
  {
   "cell_type": "code",
   "execution_count": 14,
   "metadata": {},
   "outputs": [
    {
     "data": {
      "text/plain": [
       "{'adanet_feature_columns': None,\n",
       " 'adanet_feature_shape': None,\n",
       " 'adanet_tf_head': None,\n",
       " 'adanet_lambda': 0.0,\n",
       " 'adanet_is_learn_mixture_weights': True,\n",
       " 'adanet_initial_num_layers': 1,\n",
       " 'adanet_num_layers': None,\n",
       " 'adanet_nn_candidate': 2,\n",
       " 'adanet_output_dir': './tmp/adanet',\n",
       " 'adanet_nn_layer_config': {'nn_type': 'RNN',\n",
       "  'nn_dropout_rate': 0.0,\n",
       "  'nn_batch_norm': True,\n",
       "  'nn_dense_layer_num': 1,\n",
       "  'nn_dense_unit_size': 128,\n",
       "  'nn_logit_dimension': 3,\n",
       "  'nn_optimizer': <tensorflow.python.training.adam.AdamOptimizer at 0x7f884240c940>,\n",
       "  'nn_seed': 42,\n",
       "  'nn_initializer_name': 'truncated_normal',\n",
       "  'nn_layer_config': {'rnn_layer_num': 2,\n",
       "   'rnn_hidden_units': 128,\n",
       "   'rnn_timesteps': 224,\n",
       "   'rnn_cell_type': 'SGRU'}}}"
      ]
     },
     "execution_count": 14,
     "metadata": {},
     "output_type": "execute_result"
    }
   ],
   "source": [
    "import p8_util_config\n",
    "p8_util_config.dict_adanet_config"
   ]
  },
  {
   "cell_type": "code",
   "execution_count": 15,
   "metadata": {},
   "outputs": [
    {
     "name": "stdout",
     "output_type": "stream",
     "text": [
      "\n",
      " Number of convolutional layers= 2\n",
      "\n",
      "*** NNAdaNetBuilder : NN Type=RNN\n",
      "\n",
      "*** get_tf_head() : feature shape= (672, 224)\n",
      "\n",
      "*** get_tf_head() : feature columns= [NumericColumn(key='images', shape=(672, 224), default_value=None, dtype=tf.float32, normalizer_fn=None)]\n",
      "\n",
      "*** make_config() : output dir= ./tmp/adanet/RNN/SGRU\n",
      "\n",
      "Max steps= 50 / Number of EPOCH=6\n",
      "\n",
      "\n",
      "Adanet outputdir     : ............................ ./tmp/adanet/RNN\n",
      "Adanet output log    : ............................ ./tmp/adanet/RNN/SGRU\n",
      "NN type              : ............................ RNN\n",
      "Features shape       : ............................ (672, 224)\n",
      "Units in dense layer : ............................ 128\n",
      "Number of layers     : ............................ 2\n",
      "Dropout rate         : ............................ 0.0\n",
      "Seed value           : ............................ 42\n",
      "Nb of classes (logit): ............................ 3\n",
      "Adanet regularization: ............................ 0.0\n",
      "Weights initializer  : ............................ truncated_normal\n",
      "Batch normalization  : ............................ True\n",
      "Learn mixture weights: ............................ True\n",
      "\n",
      "\n",
      "Cell type            : ............................ SGRU\n",
      "Hidden units         : ............................ 128\n",
      "Stacked cells        : ............................ 2\n",
      "Time steps           : ............................ 224\n"
     ]
    }
   ],
   "source": [
    "import p8_util\n",
    "\n",
    "oNNAdaNetBuilder = p8_util.create_nn_builder(feature_shape,OUTPUT_DIR, layer_num=2)\n",
    "oNNAdaNetBuilder.show()"
   ]
  },
  {
   "cell_type": "code",
   "execution_count": 16,
   "metadata": {},
   "outputs": [
    {
     "data": {
      "text/plain": [
       "5"
      ]
     },
     "execution_count": 16,
     "metadata": {},
     "output_type": "execute_result"
    }
   ],
   "source": [
    "import p8_util_config\n",
    "p8_util_config.ADANET_MAX_ITERATION_STEPS"
   ]
  },
  {
   "cell_type": "code",
   "execution_count": 17,
   "metadata": {},
   "outputs": [
    {
     "name": "stdout",
     "output_type": "stream",
     "text": [
      "\n",
      "*** get_tf_head() : feature shape= (672, 224)\n",
      "\n",
      "*** get_tf_head() : feature columns= [NumericColumn(key='images', shape=(672, 224), default_value=None, dtype=tf.float32, normalizer_fn=None)]\n"
     ]
    },
    {
     "data": {
      "text/plain": [
       "([NumericColumn(key='images', shape=(672, 224), default_value=None, dtype=tf.float32, normalizer_fn=None)],\n",
       " 'weighted_sum_over_batch_size',\n",
       " <tensorflow_estimator.python.estimator.canned.head._MultiClassHeadWithSoftmaxCrossEntropyLoss at 0x7f88422cdb00>)"
      ]
     },
     "execution_count": 17,
     "metadata": {},
     "output_type": "execute_result"
    }
   ],
   "source": [
    "import p8_util\n",
    "p8_util.get_tf_head(feature_shape, 3, nn_type='DNN', feature_shape=feature_shape)"
   ]
  },
  {
   "cell_type": "code",
   "execution_count": 18,
   "metadata": {},
   "outputs": [
    {
     "name": "stdout",
     "output_type": "stream",
     "text": [
      "\n",
      "*** get_tf_head() : feature shape= (672, 224)\n",
      "\n",
      "*** get_tf_head() : feature columns= [NumericColumn(key='images', shape=(672, 224), default_value=None, dtype=tf.float32, normalizer_fn=None)]\n",
      "\n",
      "*** Number of classes= 3 / NN type= RNN\n",
      "\n",
      "*** make_config() : output dir= ./tmp/adanet/RNN\n"
     ]
    },
    {
     "data": {
      "text/plain": [
       "'./tmp/adanet'"
      ]
     },
     "execution_count": 18,
     "metadata": {},
     "output_type": "execute_result"
    }
   ],
   "source": [
    "import p8_util\n",
    "import p8_util_config\n",
    "import NNGenerator\n",
    "\n",
    "#---------------------------------------------------------------------------------\n",
    "# Update Adanet configuration with feature columns.\n",
    "#---------------------------------------------------------------------------------\n",
    "dict_nn_layer_config = p8_util_config.dict_adanet_config['adanet_nn_layer_config']\n",
    "nb_class= dict_nn_layer_config['nn_logit_dimension']\n",
    "nn_type = dict_nn_layer_config['nn_type']\n",
    "\n",
    "feature_columns, loss_reduction, tf_head \\\n",
    "        = p8_util.get_tf_head(feature_shape, nb_class, nn_type=nn_type, feature_shape=feature_shape)\n",
    "\n",
    "p8_util_config.dict_adanet_config['adanet_feature_columns'] = feature_columns\n",
    "p8_util_config.dict_adanet_config['adanet_tf_head'] = tf_head\n",
    "p8_util_config.dict_adanet_config['adanet_feature_shape'] = feature_shape\n",
    "\n",
    "#---------------------------------------------------------------------------------\n",
    "\n",
    "print(\"\\n*** Number of classes= {} / NN type= {}\".format(nb_class, nn_type))\n",
    "\n",
    "adanet_estimator_config, output_dir_log = p8_util.make_config(nn_type,output_dir=OUTPUT_DIR, is_restored=False)\n",
    "OUTPUT_DIR"
   ]
  },
  {
   "cell_type": "code",
   "execution_count": 19,
   "metadata": {},
   "outputs": [
    {
     "name": "stderr",
     "output_type": "stream",
     "text": [
      "WARNING: Logging before flag parsing goes to stderr.\n",
      "W0512 14:49:31.181689 140225041876800 estimator.py:535] The following arguments have been moved to `adanet.ensemble.ComplexityRegularizedEnsembler` which can be specified in the `ensemblers` argument: ['adanet_lambda']\n"
     ]
    },
    {
     "name": "stdout",
     "output_type": "stream",
     "text": [
      "\n",
      "*** NNGenerator() : feature_columns= [NumericColumn(key='images', shape=(672, 224), default_value=None, dtype=tf.float32, normalizer_fn=None)]\n",
      "*** INFO : MyGenerator : instantiation DONE!\n",
      "INFO:tensorflow:Using config: {'_model_dir': './tmp/adanet/RNN', '_tf_random_seed': 42, '_save_summary_steps': 10, '_save_checkpoints_steps': 10, '_save_checkpoints_secs': None, '_session_config': allow_soft_placement: true\n",
      "graph_options {\n",
      "  rewrite_options {\n",
      "    meta_optimizer_iterations: ONE\n",
      "  }\n",
      "}\n",
      ", '_keep_checkpoint_max': 5, '_keep_checkpoint_every_n_hours': 10000, '_log_step_count_steps': 100, '_train_distribute': None, '_device_fn': None, '_protocol': None, '_eval_distribute': None, '_experimental_distribute': None, '_service': None, '_cluster_spec': <tensorflow.python.training.server_lib.ClusterSpec object at 0x7f88419a9908>, '_task_type': 'worker', '_task_id': 0, '_global_id_in_cluster': 0, '_master': '', '_evaluation_master': '', '_is_chief': True, '_num_ps_replicas': 0, '_num_worker_replicas': 1}\n"
     ]
    },
    {
     "name": "stderr",
     "output_type": "stream",
     "text": [
      "I0512 14:49:31.183039 140225041876800 estimator.py:201] Using config: {'_model_dir': './tmp/adanet/RNN', '_tf_random_seed': 42, '_save_summary_steps': 10, '_save_checkpoints_steps': 10, '_save_checkpoints_secs': None, '_session_config': allow_soft_placement: true\n",
      "graph_options {\n",
      "  rewrite_options {\n",
      "    meta_optimizer_iterations: ONE\n",
      "  }\n",
      "}\n",
      ", '_keep_checkpoint_max': 5, '_keep_checkpoint_every_n_hours': 10000, '_log_step_count_steps': 100, '_train_distribute': None, '_device_fn': None, '_protocol': None, '_eval_distribute': None, '_experimental_distribute': None, '_service': None, '_cluster_spec': <tensorflow.python.training.server_lib.ClusterSpec object at 0x7f88419a9908>, '_task_type': 'worker', '_task_id': 0, '_global_id_in_cluster': 0, '_master': '', '_evaluation_master': '', '_is_chief': True, '_num_ps_replicas': 0, '_num_worker_replicas': 1}\n"
     ]
    }
   ],
   "source": [
    "input_fn_param={'num_epochs':p8_util_config.NUM_EPOCHS,\\\n",
    "                'batch_size':p8_util_config.BATCH_SIZE,\\\n",
    "                'feature_shape': feature_shape,\\\n",
    "               }\n",
    "train_input_fn=p8_util.input_fn(\"train\", x_train, y_train,input_fn_param)\n",
    "\n",
    "adanet_estimator = adanet.Estimator(\n",
    "    head=p8_util_config.dict_adanet_config['adanet_tf_head'],\n",
    "    \n",
    "    subnetwork_generator=NNGenerator.NNGenerator(p8_util_config.dict_adanet_config),\n",
    "            \n",
    "    adanet_lambda=p8_util_config.dict_adanet_config['adanet_lambda'],\n",
    "    \n",
    "    max_iteration_steps=p8_util_config.ADANET_MAX_ITERATION_STEPS,\n",
    "    \n",
    "    evaluator=adanet.Evaluator(\n",
    "        input_fn=train_input_fn,\n",
    "        steps=None),\n",
    "    config=  adanet_estimator_config)"
   ]
  },
  {
   "cell_type": "code",
   "execution_count": 20,
   "metadata": {},
   "outputs": [
    {
     "name": "stdout",
     "output_type": "stream",
     "text": [
      "Global steps= 50\n",
      "MAX Adanet steps= 5\n",
      "{'adanet_feature_columns': [NumericColumn(key='images', shape=(672, 224), default_value=None, dtype=tf.float32, normalizer_fn=None)], 'adanet_feature_shape': (672, 224), 'adanet_tf_head': <tensorflow_estimator.python.estimator.canned.head._MultiClassHeadWithSoftmaxCrossEntropyLoss object at 0x7f88419a9a90>, 'adanet_lambda': 0.0, 'adanet_is_learn_mixture_weights': True, 'adanet_initial_num_layers': 1, 'adanet_num_layers': None, 'adanet_nn_candidate': 2, 'adanet_output_dir': './tmp/adanet', 'adanet_nn_layer_config': {'nn_type': 'RNN', 'nn_dropout_rate': 0.0, 'nn_batch_norm': True, 'nn_dense_layer_num': 1, 'nn_dense_unit_size': 128, 'nn_logit_dimension': 3, 'nn_optimizer': <tensorflow.python.training.adam.AdamOptimizer object at 0x7f884240c940>, 'nn_seed': 42, 'nn_initializer_name': 'truncated_normal', 'nn_layer_config': {'rnn_layer_num': 2, 'rnn_hidden_units': 128, 'rnn_timesteps': 224, 'rnn_cell_type': 'SGRU'}}}\n"
     ]
    },
    {
     "data": {
      "text/plain": [
       "(414,)"
      ]
     },
     "execution_count": 20,
     "metadata": {},
     "output_type": "execute_result"
    }
   ],
   "source": [
    "import p8_util_config\n",
    "print(\"Global steps= {}\".format(p8_util_config.TRAIN_STEPS))\n",
    "print(\"MAX Adanet steps= {}\".format(p8_util_config.ADANET_MAX_ITERATION_STEPS))\n",
    "print(p8_util_config.dict_adanet_config)\n",
    "y_train.shape"
   ]
  },
  {
   "cell_type": "code",
   "execution_count": 21,
   "metadata": {},
   "outputs": [
    {
     "data": {
      "text/plain": [
       "{'feature_map_size': [64],\n",
       " 'conv_kernel_size': (5, 5),\n",
       " 'conv_layer_num': None,\n",
       " 'conv_filters': 32,\n",
       " 'conv_strides': 1,\n",
       " 'conv_padding_name': 'same',\n",
       " 'conv_activation_name': 'relu'}"
      ]
     },
     "execution_count": 21,
     "metadata": {},
     "output_type": "execute_result"
    }
   ],
   "source": [
    "p8_util_config.dict_cnn_layer_config"
   ]
  },
  {
   "cell_type": "code",
   "execution_count": 22,
   "metadata": {
    "colab": {
     "base_uri": "https://localhost:8080/",
     "height": 1295
    },
    "colab_type": "code",
    "executionInfo": {
     "elapsed": 2118,
     "status": "error",
     "timestamp": 1554720133634,
     "user": {
      "displayName": "FBT Telecom",
      "photoUrl": "",
      "userId": "01928442219250440173"
     },
     "user_tz": -120
    },
    "id": "_reIMFwIcDKL",
    "outputId": "5db434df-7c87-4eaf-ab11-e3a91c5425a7"
   },
   "outputs": [],
   "source": [
    "import time\n",
    "import tensorflow as tf\n",
    "#---------------------------------------------------------------------\n",
    "# Input function parameters stay same as for train_input_fn\n",
    "#---------------------------------------------------------------------\n",
    "test_input_fn=p8_util.input_fn(\"test\", x_test, y_test,input_fn_param)\n",
    "train_spec=tf.estimator.TrainSpec(\n",
    "        input_fn= train_input_fn,\n",
    "        max_steps=p8_util_config.TRAIN_STEPS)\n",
    "\n",
    "eval_spec=tf.estimator.EvalSpec(\n",
    "        input_fn= test_input_fn,\n",
    "        steps=None,\n",
    "        start_delay_secs=1,\n",
    "        throttle_secs=1)"
   ]
  },
  {
   "cell_type": "code",
   "execution_count": null,
   "metadata": {
    "colab": {
     "base_uri": "https://localhost:8080/",
     "height": 1295
    },
    "colab_type": "code",
    "executionInfo": {
     "elapsed": 2118,
     "status": "error",
     "timestamp": 1554720133634,
     "user": {
      "displayName": "FBT Telecom",
      "photoUrl": "",
      "userId": "01928442219250440173"
     },
     "user_tz": -120
    },
    "id": "_reIMFwIcDKL",
    "outputId": "5db434df-7c87-4eaf-ab11-e3a91c5425a7"
   },
   "outputs": [
    {
     "name": "stdout",
     "output_type": "stream",
     "text": [
      "INFO:tensorflow:Not using Distribute Coordinator.\n"
     ]
    },
    {
     "name": "stderr",
     "output_type": "stream",
     "text": [
      "I0512 14:49:35.474911 140225041876800 estimator_training.py:185] Not using Distribute Coordinator.\n"
     ]
    },
    {
     "name": "stdout",
     "output_type": "stream",
     "text": [
      "INFO:tensorflow:Running training and evaluation locally (non-distributed).\n"
     ]
    },
    {
     "name": "stderr",
     "output_type": "stream",
     "text": [
      "I0512 14:49:35.476467 140225041876800 training.py:610] Running training and evaluation locally (non-distributed).\n"
     ]
    },
    {
     "name": "stdout",
     "output_type": "stream",
     "text": [
      "INFO:tensorflow:Start train and evaluate loop. The evaluate will happen after every checkpoint. Checkpoint frequency is determined based on RunConfig arguments: save_checkpoints_steps 10 or save_checkpoints_secs None.\n"
     ]
    },
    {
     "name": "stderr",
     "output_type": "stream",
     "text": [
      "I0512 14:49:35.477441 140225041876800 training.py:698] Start train and evaluate loop. The evaluate will happen after every checkpoint. Checkpoint frequency is determined based on RunConfig arguments: save_checkpoints_steps 10 or save_checkpoints_secs None.\n"
     ]
    },
    {
     "name": "stdout",
     "output_type": "stream",
     "text": [
      "WARNING:tensorflow:From /home/bangui/anaconda3/lib/python3.6/site-packages/tensorflow/python/framework/op_def_library.py:263: colocate_with (from tensorflow.python.framework.ops) is deprecated and will be removed in a future version.\n",
      "Instructions for updating:\n",
      "Colocations handled automatically by placer.\n"
     ]
    },
    {
     "name": "stderr",
     "output_type": "stream",
     "text": [
      "W0512 14:49:35.484328 140225041876800 deprecation.py:323] From /home/bangui/anaconda3/lib/python3.6/site-packages/tensorflow/python/framework/op_def_library.py:263: colocate_with (from tensorflow.python.framework.ops) is deprecated and will be removed in a future version.\n",
      "Instructions for updating:\n",
      "Colocations handled automatically by placer.\n"
     ]
    },
    {
     "name": "stdout",
     "output_type": "stream",
     "text": [
      "\n",
      "*** input_fn() : feature_shape= (672, 224) / label_shape= [1]\n",
      "WARNING:tensorflow:From /home/bangui/anaconda3/lib/python3.6/site-packages/tensorflow/python/data/ops/dataset_ops.py:429: py_func (from tensorflow.python.ops.script_ops) is deprecated and will be removed in a future version.\n",
      "Instructions for updating:\n",
      "tf.py_func is deprecated in TF V2. Instead, use\n",
      "    tf.py_function, which takes a python function which manipulates tf eager\n",
      "    tensors instead of numpy arrays. It's easy to convert a tf eager tensor to\n",
      "    an ndarray (just call tensor.numpy()) but having access to eager tensors\n",
      "    means `tf.py_function`s can use accelerators such as GPUs as well as\n",
      "    being differentiable using a gradient tape.\n",
      "    \n"
     ]
    },
    {
     "name": "stderr",
     "output_type": "stream",
     "text": [
      "W0512 14:49:35.512149 140225041876800 deprecation.py:323] From /home/bangui/anaconda3/lib/python3.6/site-packages/tensorflow/python/data/ops/dataset_ops.py:429: py_func (from tensorflow.python.ops.script_ops) is deprecated and will be removed in a future version.\n",
      "Instructions for updating:\n",
      "tf.py_func is deprecated in TF V2. Instead, use\n",
      "    tf.py_function, which takes a python function which manipulates tf eager\n",
      "    tensors instead of numpy arrays. It's easy to convert a tf eager tensor to\n",
      "    an ndarray (just call tensor.numpy()) but having access to eager tensors\n",
      "    means `tf.py_function`s can use accelerators such as GPUs as well as\n",
      "    being differentiable using a gradient tape.\n",
      "    \n"
     ]
    },
    {
     "name": "stdout",
     "output_type": "stream",
     "text": [
      "\n",
      "*** preprocess_color_image() : label shape= ()\n",
      "\n",
      "***_input_fn() : Label shape =[1]\n",
      "INFO:tensorflow:Calling model_fn.\n"
     ]
    },
    {
     "name": "stderr",
     "output_type": "stream",
     "text": [
      "I0512 14:49:35.631038 140225041876800 estimator.py:1111] Calling model_fn.\n"
     ]
    },
    {
     "name": "stdout",
     "output_type": "stream",
     "text": [
      "\n",
      "*** NNGenerator : layers= (1,2)\n",
      "\n",
      "*** NNAdaNetBuilder : NN Type=RNN\n",
      "\n",
      "*** get_tf_head() : feature shape= (672, 224)\n",
      "\n",
      "*** get_tf_head() : feature columns= [NumericColumn(key='images', shape=(672, 224), default_value=None, dtype=tf.float32, normalizer_fn=None)]\n",
      "\n",
      "*** NNAdaNetBuilder : NN Type=RNN\n",
      "\n",
      "*** get_tf_head() : feature shape= (672, 224)\n",
      "\n",
      "*** get_tf_head() : feature columns= [NumericColumn(key='images', shape=(672, 224), default_value=None, dtype=tf.float32, normalizer_fn=None)]\n",
      "INFO:tensorflow:Building iteration 0\n"
     ]
    },
    {
     "name": "stderr",
     "output_type": "stream",
     "text": [
      "I0512 14:49:35.633140 140225041876800 iteration.py:250] Building iteration 0\n"
     ]
    },
    {
     "name": "stdout",
     "output_type": "stream",
     "text": [
      "INFO:tensorflow:Building subnetwork 'RNN_SGRU_layer_1'\n"
     ]
    },
    {
     "name": "stderr",
     "output_type": "stream",
     "text": [
      "I0512 14:49:35.643087 140225041876800 iteration.py:337] Building subnetwork 'RNN_SGRU_layer_1'\n"
     ]
    },
    {
     "name": "stdout",
     "output_type": "stream",
     "text": [
      "\n",
      "\n",
      "*** build_subnetwork() : features= {'images': <tf.Tensor 'IteratorGetNext:0' shape=(?, 672, 224) dtype=float32>}\n",
      "\n",
      "\n",
      "*** build_subnetwork() : self._feature_columns= [NumericColumn(key='images', shape=(672, 224), default_value=None, dtype=tf.float32, normalizer_fn=None)]\n",
      "WARNING:tensorflow:From /home/bangui/anaconda3/lib/python3.6/site-packages/tensorflow/python/feature_column/feature_column.py:205: NumericColumn._get_dense_tensor (from tensorflow.python.feature_column.feature_column_v2) is deprecated and will be removed after 2018-11-30.\n",
      "Instructions for updating:\n",
      "The old _FeatureColumn APIs are being deprecated. Please use the new FeatureColumn APIs instead.\n"
     ]
    },
    {
     "name": "stderr",
     "output_type": "stream",
     "text": [
      "W0512 14:49:35.650139 140225041876800 deprecation.py:323] From /home/bangui/anaconda3/lib/python3.6/site-packages/tensorflow/python/feature_column/feature_column.py:205: NumericColumn._get_dense_tensor (from tensorflow.python.feature_column.feature_column_v2) is deprecated and will be removed after 2018-11-30.\n",
      "Instructions for updating:\n",
      "The old _FeatureColumn APIs are being deprecated. Please use the new FeatureColumn APIs instead.\n"
     ]
    },
    {
     "name": "stdout",
     "output_type": "stream",
     "text": [
      "WARNING:tensorflow:From /home/bangui/anaconda3/lib/python3.6/site-packages/tensorflow/python/feature_column/feature_column.py:2121: NumericColumn._transform_feature (from tensorflow.python.feature_column.feature_column_v2) is deprecated and will be removed after 2018-11-30.\n",
      "Instructions for updating:\n",
      "The old _FeatureColumn APIs are being deprecated. Please use the new FeatureColumn APIs instead.\n"
     ]
    },
    {
     "name": "stderr",
     "output_type": "stream",
     "text": [
      "W0512 14:49:35.652290 140225041876800 deprecation.py:323] From /home/bangui/anaconda3/lib/python3.6/site-packages/tensorflow/python/feature_column/feature_column.py:2121: NumericColumn._transform_feature (from tensorflow.python.feature_column.feature_column_v2) is deprecated and will be removed after 2018-11-30.\n",
      "Instructions for updating:\n",
      "The old _FeatureColumn APIs are being deprecated. Please use the new FeatureColumn APIs instead.\n"
     ]
    },
    {
     "name": "stdout",
     "output_type": "stream",
     "text": [
      "WARNING:tensorflow:From /home/bangui/anaconda3/lib/python3.6/site-packages/tensorflow/python/feature_column/feature_column_v2.py:2703: to_float (from tensorflow.python.ops.math_ops) is deprecated and will be removed in a future version.\n",
      "Instructions for updating:\n",
      "Use tf.cast instead.\n"
     ]
    },
    {
     "name": "stderr",
     "output_type": "stream",
     "text": [
      "W0512 14:49:35.655096 140225041876800 deprecation.py:323] From /home/bangui/anaconda3/lib/python3.6/site-packages/tensorflow/python/feature_column/feature_column_v2.py:2703: to_float (from tensorflow.python.ops.math_ops) is deprecated and will be removed in a future version.\n",
      "Instructions for updating:\n",
      "Use tf.cast instead.\n"
     ]
    },
    {
     "name": "stdout",
     "output_type": "stream",
     "text": [
      "WARNING:tensorflow:From /home/bangui/anaconda3/lib/python3.6/site-packages/tensorflow/python/feature_column/feature_column.py:206: NumericColumn._variable_shape (from tensorflow.python.feature_column.feature_column_v2) is deprecated and will be removed after 2018-11-30.\n",
      "Instructions for updating:\n",
      "The old _FeatureColumn APIs are being deprecated. Please use the new FeatureColumn APIs instead.\n"
     ]
    },
    {
     "name": "stderr",
     "output_type": "stream",
     "text": [
      "W0512 14:49:35.658561 140225041876800 deprecation.py:323] From /home/bangui/anaconda3/lib/python3.6/site-packages/tensorflow/python/feature_column/feature_column.py:206: NumericColumn._variable_shape (from tensorflow.python.feature_column.feature_column_v2) is deprecated and will be removed after 2018-11-30.\n",
      "Instructions for updating:\n",
      "The old _FeatureColumn APIs are being deprecated. Please use the new FeatureColumn APIs instead.\n"
     ]
    },
    {
     "name": "stdout",
     "output_type": "stream",
     "text": [
      "\n",
      "\n",
      "*** build_subnetwork() : NN type= RNN / Input layer shape= (?, 150528)\n",
      "WARNING:tensorflow:From /home/bangui/Dropbox/Perso/Formation/openclassrooms/OC_Datascientist/P8/NNAdaNetBuilder.py:462: GRUCell.__init__ (from tensorflow.python.ops.rnn_cell_impl) is deprecated and will be removed in a future version.\n",
      "Instructions for updating:\n",
      "This class is equivalent as tf.keras.layers.GRUCell, and will be replaced by that in Tensorflow 2.0.\n"
     ]
    },
    {
     "name": "stderr",
     "output_type": "stream",
     "text": [
      "W0512 14:49:35.707075 140225041876800 deprecation.py:323] From /home/bangui/Dropbox/Perso/Formation/openclassrooms/OC_Datascientist/P8/NNAdaNetBuilder.py:462: GRUCell.__init__ (from tensorflow.python.ops.rnn_cell_impl) is deprecated and will be removed in a future version.\n",
      "Instructions for updating:\n",
      "This class is equivalent as tf.keras.layers.GRUCell, and will be replaced by that in Tensorflow 2.0.\n"
     ]
    },
    {
     "name": "stdout",
     "output_type": "stream",
     "text": [
      "WARNING:tensorflow:From /home/bangui/Dropbox/Perso/Formation/openclassrooms/OC_Datascientist/P8/NNAdaNetBuilder.py:463: MultiRNNCell.__init__ (from tensorflow.python.ops.rnn_cell_impl) is deprecated and will be removed in a future version.\n",
      "Instructions for updating:\n",
      "This class is equivalent as tf.keras.layers.StackedRNNCells, and will be replaced by that in Tensorflow 2.0.\n"
     ]
    },
    {
     "name": "stderr",
     "output_type": "stream",
     "text": [
      "W0512 14:49:35.712171 140225041876800 deprecation.py:323] From /home/bangui/Dropbox/Perso/Formation/openclassrooms/OC_Datascientist/P8/NNAdaNetBuilder.py:463: MultiRNNCell.__init__ (from tensorflow.python.ops.rnn_cell_impl) is deprecated and will be removed in a future version.\n",
      "Instructions for updating:\n",
      "This class is equivalent as tf.keras.layers.StackedRNNCells, and will be replaced by that in Tensorflow 2.0.\n"
     ]
    },
    {
     "name": "stdout",
     "output_type": "stream",
     "text": [
      "WARNING:tensorflow:From /home/bangui/Dropbox/Perso/Formation/openclassrooms/OC_Datascientist/P8/NNAdaNetBuilder.py:498: static_rnn (from tensorflow.python.ops.rnn) is deprecated and will be removed in a future version.\n",
      "Instructions for updating:\n",
      "Please use `keras.layers.RNN(cell, unroll=True)`, which is equivalent to this API\n"
     ]
    },
    {
     "name": "stderr",
     "output_type": "stream",
     "text": [
      "W0512 14:49:35.717174 140225041876800 deprecation.py:323] From /home/bangui/Dropbox/Perso/Formation/openclassrooms/OC_Datascientist/P8/NNAdaNetBuilder.py:498: static_rnn (from tensorflow.python.ops.rnn) is deprecated and will be removed in a future version.\n",
      "Instructions for updating:\n",
      "Please use `keras.layers.RNN(cell, unroll=True)`, which is equivalent to this API\n"
     ]
    },
    {
     "name": "stdout",
     "output_type": "stream",
     "text": [
      "WARNING:tensorflow:From /home/bangui/Dropbox/Perso/Formation/openclassrooms/OC_Datascientist/P8/NNAdaNetBuilder.py:504: dense (from tensorflow.python.layers.core) is deprecated and will be removed in a future version.\n",
      "Instructions for updating:\n",
      "Use keras.layers.dense instead.\n"
     ]
    },
    {
     "name": "stderr",
     "output_type": "stream",
     "text": [
      "W0512 14:49:37.953166 140225041876800 deprecation.py:323] From /home/bangui/Dropbox/Perso/Formation/openclassrooms/OC_Datascientist/P8/NNAdaNetBuilder.py:504: dense (from tensorflow.python.layers.core) is deprecated and will be removed in a future version.\n",
      "Instructions for updating:\n",
      "Use keras.layers.dense instead.\n"
     ]
    },
    {
     "name": "stdout",
     "output_type": "stream",
     "text": [
      "\n",
      "***build_subnetwork() / RNN : logits shape= (?, 3)\n",
      "\n",
      "*** build_subnetwork() : last_layer= Tensor(\"adanet/iteration_0/subnetwork_t0_RNN_SGRU_layer_1/dense/BiasAdd:0\", shape=(?, 3), dtype=float32)\n",
      "INFO:tensorflow:Building subnetwork 'RNN_SGRU_layer_2'\n"
     ]
    },
    {
     "name": "stderr",
     "output_type": "stream",
     "text": [
      "I0512 14:49:49.471652 140225041876800 iteration.py:337] Building subnetwork 'RNN_SGRU_layer_2'\n"
     ]
    },
    {
     "name": "stdout",
     "output_type": "stream",
     "text": [
      "\n",
      "\n",
      "*** build_subnetwork() : features= {'images': <tf.Tensor 'IteratorGetNext:0' shape=(?, 672, 224) dtype=float32>}\n",
      "\n",
      "\n",
      "*** build_subnetwork() : self._feature_columns= [NumericColumn(key='images', shape=(672, 224), default_value=None, dtype=tf.float32, normalizer_fn=None)]\n",
      "\n",
      "\n",
      "*** build_subnetwork() : NN type= RNN / Input layer shape= (?, 150528)\n",
      "\n",
      "***build_subnetwork() / RNN : logits shape= (?, 3)\n",
      "\n",
      "*** build_subnetwork() : last_layer= Tensor(\"adanet/iteration_0/subnetwork_t0_RNN_SGRU_layer_2/dense/BiasAdd:0\", shape=(?, 3), dtype=float32)\n",
      "WARNING:tensorflow:The `build_mixture_weights_train_op` method is deprecated. Please use the `Ensembler#build_train_op` instead.\n"
     ]
    },
    {
     "name": "stderr",
     "output_type": "stream",
     "text": [
      "W0512 14:50:17.054489 140225041876800 tf_logging.py:161] The `build_mixture_weights_train_op` method is deprecated. Please use the `Ensembler#build_train_op` instead.\n"
     ]
    },
    {
     "name": "stdout",
     "output_type": "stream",
     "text": [
      "WARNING:tensorflow:The `build_mixture_weights_train_op` method is deprecated. Please use the `Ensembler#build_train_op` instead.\n"
     ]
    },
    {
     "name": "stderr",
     "output_type": "stream",
     "text": [
      "W0512 14:50:17.213487 140225041876800 tf_logging.py:161] The `build_mixture_weights_train_op` method is deprecated. Please use the `Ensembler#build_train_op` instead.\n"
     ]
    },
    {
     "name": "stdout",
     "output_type": "stream",
     "text": [
      "INFO:tensorflow:Done calling model_fn.\n"
     ]
    },
    {
     "name": "stderr",
     "output_type": "stream",
     "text": [
      "I0512 14:50:17.361460 140225041876800 estimator.py:1113] Done calling model_fn.\n"
     ]
    },
    {
     "name": "stdout",
     "output_type": "stream",
     "text": [
      "INFO:tensorflow:Create CheckpointSaverHook.\n"
     ]
    },
    {
     "name": "stderr",
     "output_type": "stream",
     "text": [
      "I0512 14:50:17.363067 140225041876800 basic_session_run_hooks.py:527] Create CheckpointSaverHook.\n"
     ]
    },
    {
     "name": "stdout",
     "output_type": "stream",
     "text": [
      "INFO:tensorflow:Graph was finalized.\n"
     ]
    },
    {
     "name": "stderr",
     "output_type": "stream",
     "text": [
      "I0512 14:50:40.724958 140225041876800 monitored_session.py:222] Graph was finalized.\n"
     ]
    },
    {
     "name": "stdout",
     "output_type": "stream",
     "text": [
      "INFO:tensorflow:Running local_init_op.\n"
     ]
    },
    {
     "name": "stderr",
     "output_type": "stream",
     "text": [
      "I0512 14:50:43.114536 140225041876800 session_manager.py:491] Running local_init_op.\n"
     ]
    },
    {
     "name": "stdout",
     "output_type": "stream",
     "text": [
      "INFO:tensorflow:Done running local_init_op.\n"
     ]
    },
    {
     "name": "stderr",
     "output_type": "stream",
     "text": [
      "I0512 14:50:43.658525 140225041876800 session_manager.py:493] Done running local_init_op.\n"
     ]
    },
    {
     "name": "stdout",
     "output_type": "stream",
     "text": [
      "INFO:tensorflow:Saving checkpoints for 0 into ./tmp/adanet/RNN/model.ckpt.\n"
     ]
    },
    {
     "name": "stderr",
     "output_type": "stream",
     "text": [
      "I0512 14:51:04.729786 140225041876800 basic_session_run_hooks.py:594] Saving checkpoints for 0 into ./tmp/adanet/RNN/model.ckpt.\n"
     ]
    },
    {
     "name": "stdout",
     "output_type": "stream",
     "text": [
      "INFO:tensorflow:loss = 1.0979853, step = 1\n"
     ]
    },
    {
     "name": "stderr",
     "output_type": "stream",
     "text": [
      "I0512 14:52:09.777382 140225041876800 basic_session_run_hooks.py:249] loss = 1.0979853, step = 1\n"
     ]
    },
    {
     "name": "stdout",
     "output_type": "stream",
     "text": [
      "\n",
      "*** generator() : labels shape= (414,) / label values= 1\n",
      "INFO:tensorflow:Saving checkpoints for 5 into ./tmp/adanet/RNN/model.ckpt.\n"
     ]
    },
    {
     "name": "stderr",
     "output_type": "stream",
     "text": [
      "I0512 14:53:10.437716 140225041876800 basic_session_run_hooks.py:594] Saving checkpoints for 5 into ./tmp/adanet/RNN/model.ckpt.\n"
     ]
    },
    {
     "name": "stdout",
     "output_type": "stream",
     "text": [
      "\n",
      "*** input_fn() : feature_shape= (672, 224) / label_shape= [1]\n",
      "\n",
      "*** input_fn : TEST / feature_shape= (672, 224)\n",
      "\n",
      "*** preprocess_color_image() : label shape= ()\n",
      "\n",
      "***_input_fn() : Label shape =[1]\n",
      "INFO:tensorflow:Calling model_fn.\n"
     ]
    },
    {
     "name": "stderr",
     "output_type": "stream",
     "text": [
      "I0512 14:53:13.251835 140225041876800 estimator.py:1111] Calling model_fn.\n"
     ]
    },
    {
     "name": "stdout",
     "output_type": "stream",
     "text": [
      "\n",
      "*** NNGenerator : layers= (1,2)\n",
      "\n",
      "*** NNAdaNetBuilder : NN Type=RNN\n",
      "\n",
      "*** get_tf_head() : feature shape= (672, 224)\n",
      "\n",
      "*** get_tf_head() : feature columns= [NumericColumn(key='images', shape=(672, 224), default_value=None, dtype=tf.float32, normalizer_fn=None)]\n",
      "\n",
      "*** NNAdaNetBuilder : NN Type=RNN\n",
      "\n",
      "*** get_tf_head() : feature shape= (672, 224)\n",
      "\n",
      "*** get_tf_head() : feature columns= [NumericColumn(key='images', shape=(672, 224), default_value=None, dtype=tf.float32, normalizer_fn=None)]\n",
      "INFO:tensorflow:Building iteration 0\n"
     ]
    },
    {
     "name": "stderr",
     "output_type": "stream",
     "text": [
      "I0512 14:53:13.262572 140225041876800 iteration.py:250] Building iteration 0\n"
     ]
    },
    {
     "name": "stdout",
     "output_type": "stream",
     "text": [
      "INFO:tensorflow:Building subnetwork 'RNN_SGRU_layer_1'\n"
     ]
    },
    {
     "name": "stderr",
     "output_type": "stream",
     "text": [
      "I0512 14:53:13.269453 140225041876800 iteration.py:337] Building subnetwork 'RNN_SGRU_layer_1'\n"
     ]
    },
    {
     "name": "stdout",
     "output_type": "stream",
     "text": [
      "\n",
      "\n",
      "*** build_subnetwork() : features= {'images': <tf.Tensor 'IteratorGetNext:0' shape=(?, 672, 224) dtype=float32>}\n",
      "\n",
      "\n",
      "*** build_subnetwork() : self._feature_columns= [NumericColumn(key='images', shape=(672, 224), default_value=None, dtype=tf.float32, normalizer_fn=None)]\n",
      "\n",
      "\n",
      "*** build_subnetwork() : NN type= RNN / Input layer shape= (?, 150528)\n",
      "\n",
      "***build_subnetwork() / RNN : logits shape= (?, 3)\n",
      "\n",
      "*** build_subnetwork() : last_layer= Tensor(\"adanet/iteration_0/subnetwork_t0_RNN_SGRU_layer_1/dense/BiasAdd:0\", shape=(?, 3), dtype=float32)\n",
      "INFO:tensorflow:Building subnetwork 'RNN_SGRU_layer_2'\n"
     ]
    },
    {
     "name": "stderr",
     "output_type": "stream",
     "text": [
      "I0512 14:53:15.288709 140225041876800 iteration.py:337] Building subnetwork 'RNN_SGRU_layer_2'\n"
     ]
    },
    {
     "name": "stdout",
     "output_type": "stream",
     "text": [
      "\n",
      "\n",
      "*** build_subnetwork() : features= {'images': <tf.Tensor 'IteratorGetNext:0' shape=(?, 672, 224) dtype=float32>}\n",
      "\n",
      "\n",
      "*** build_subnetwork() : self._feature_columns= [NumericColumn(key='images', shape=(672, 224), default_value=None, dtype=tf.float32, normalizer_fn=None)]\n",
      "\n",
      "\n",
      "*** build_subnetwork() : NN type= RNN / Input layer shape= (?, 150528)\n",
      "\n",
      "***build_subnetwork() / RNN : logits shape= (?, 3)\n",
      "\n",
      "*** build_subnetwork() : last_layer= Tensor(\"adanet/iteration_0/subnetwork_t0_RNN_SGRU_layer_2/dense/BiasAdd:0\", shape=(?, 3), dtype=float32)\n",
      "INFO:tensorflow:Done calling model_fn.\n"
     ]
    },
    {
     "name": "stderr",
     "output_type": "stream",
     "text": [
      "I0512 14:53:19.124769 140225041876800 estimator.py:1113] Done calling model_fn.\n"
     ]
    },
    {
     "name": "stdout",
     "output_type": "stream",
     "text": [
      "INFO:tensorflow:Starting evaluation at 2019-05-12T12:53:19Z\n"
     ]
    },
    {
     "name": "stderr",
     "output_type": "stream",
     "text": [
      "I0512 14:53:19.144837 140225041876800 evaluation.py:257] Starting evaluation at 2019-05-12T12:53:19Z\n"
     ]
    },
    {
     "name": "stdout",
     "output_type": "stream",
     "text": [
      "INFO:tensorflow:Graph was finalized.\n"
     ]
    },
    {
     "name": "stderr",
     "output_type": "stream",
     "text": [
      "I0512 14:53:19.364970 140225041876800 monitored_session.py:222] Graph was finalized.\n"
     ]
    },
    {
     "name": "stdout",
     "output_type": "stream",
     "text": [
      "WARNING:tensorflow:From /home/bangui/anaconda3/lib/python3.6/site-packages/tensorflow/python/training/saver.py:1266: checkpoint_exists (from tensorflow.python.training.checkpoint_management) is deprecated and will be removed in a future version.\n",
      "Instructions for updating:\n",
      "Use standard file APIs to check for files with this prefix.\n"
     ]
    },
    {
     "name": "stderr",
     "output_type": "stream",
     "text": [
      "W0512 14:53:19.366532 140225041876800 deprecation.py:323] From /home/bangui/anaconda3/lib/python3.6/site-packages/tensorflow/python/training/saver.py:1266: checkpoint_exists (from tensorflow.python.training.checkpoint_management) is deprecated and will be removed in a future version.\n",
      "Instructions for updating:\n",
      "Use standard file APIs to check for files with this prefix.\n"
     ]
    },
    {
     "name": "stdout",
     "output_type": "stream",
     "text": [
      "INFO:tensorflow:Restoring parameters from ./tmp/adanet/RNN/model.ckpt-5\n"
     ]
    },
    {
     "name": "stderr",
     "output_type": "stream",
     "text": [
      "I0512 14:53:19.368209 140225041876800 saver.py:1270] Restoring parameters from ./tmp/adanet/RNN/model.ckpt-5\n"
     ]
    },
    {
     "name": "stdout",
     "output_type": "stream",
     "text": [
      "INFO:tensorflow:Running local_init_op.\n"
     ]
    },
    {
     "name": "stderr",
     "output_type": "stream",
     "text": [
      "I0512 14:53:19.775758 140225041876800 session_manager.py:491] Running local_init_op.\n"
     ]
    },
    {
     "name": "stdout",
     "output_type": "stream",
     "text": [
      "INFO:tensorflow:Done running local_init_op.\n"
     ]
    },
    {
     "name": "stderr",
     "output_type": "stream",
     "text": [
      "I0512 14:53:19.916671 140225041876800 session_manager.py:493] Done running local_init_op.\n"
     ]
    },
    {
     "name": "stdout",
     "output_type": "stream",
     "text": [
      "\n",
      "*** generator() : labels shape= (47,) / label values= 0\n",
      "INFO:tensorflow:Finished evaluation at 2019-05-12-12:53:27\n"
     ]
    },
    {
     "name": "stderr",
     "output_type": "stream",
     "text": [
      "I0512 14:53:27.148080 140225041876800 evaluation.py:277] Finished evaluation at 2019-05-12-12:53:27\n"
     ]
    },
    {
     "name": "stdout",
     "output_type": "stream",
     "text": [
      "INFO:tensorflow:Saving dict for global step 5: accuracy = 0.31914893, average_loss = 1.1334285, global_step = 5, loss = 1.1371349\n"
     ]
    },
    {
     "name": "stderr",
     "output_type": "stream",
     "text": [
      "I0512 14:53:27.149197 140225041876800 estimator.py:1979] Saving dict for global step 5: accuracy = 0.31914893, average_loss = 1.1334285, global_step = 5, loss = 1.1371349\n"
     ]
    },
    {
     "name": "stdout",
     "output_type": "stream",
     "text": [
      "INFO:tensorflow:Saving 'checkpoint_path' summary for global step 5: ./tmp/adanet/RNN/model.ckpt-5\n"
     ]
    },
    {
     "name": "stderr",
     "output_type": "stream",
     "text": [
      "I0512 14:53:28.000999 140225041876800 estimator.py:2039] Saving 'checkpoint_path' summary for global step 5: ./tmp/adanet/RNN/model.ckpt-5\n"
     ]
    },
    {
     "name": "stdout",
     "output_type": "stream",
     "text": [
      "INFO:tensorflow:Loss for final step: 1.1117152.\n"
     ]
    },
    {
     "name": "stderr",
     "output_type": "stream",
     "text": [
      "I0512 14:53:28.448155 140225041876800 estimator.py:359] Loss for final step: 1.1117152.\n"
     ]
    },
    {
     "name": "stdout",
     "output_type": "stream",
     "text": [
      "\n",
      "*** input_fn() : feature_shape= (672, 224) / label_shape= [1]\n",
      "\n",
      "*** preprocess_color_image() : label shape= ()\n",
      "\n",
      "***_input_fn() : Label shape =[1]\n",
      "INFO:tensorflow:Calling model_fn.\n"
     ]
    },
    {
     "name": "stderr",
     "output_type": "stream",
     "text": [
      "I0512 14:53:28.510828 140225041876800 estimator.py:1111] Calling model_fn.\n"
     ]
    },
    {
     "name": "stdout",
     "output_type": "stream",
     "text": [
      "\n",
      "*** NNGenerator : layers= (1,2)\n",
      "\n",
      "*** NNAdaNetBuilder : NN Type=RNN\n",
      "\n",
      "*** get_tf_head() : feature shape= (672, 224)\n",
      "\n",
      "*** get_tf_head() : feature columns= [NumericColumn(key='images', shape=(672, 224), default_value=None, dtype=tf.float32, normalizer_fn=None)]\n",
      "\n",
      "*** NNAdaNetBuilder : NN Type=RNN\n",
      "\n",
      "*** get_tf_head() : feature shape= (672, 224)\n",
      "\n",
      "*** get_tf_head() : feature columns= [NumericColumn(key='images', shape=(672, 224), default_value=None, dtype=tf.float32, normalizer_fn=None)]\n",
      "INFO:tensorflow:Building iteration 0\n"
     ]
    },
    {
     "name": "stderr",
     "output_type": "stream",
     "text": [
      "I0512 14:53:28.514248 140225041876800 iteration.py:250] Building iteration 0\n"
     ]
    },
    {
     "name": "stdout",
     "output_type": "stream",
     "text": [
      "INFO:tensorflow:Building subnetwork 'RNN_SGRU_layer_1'\n"
     ]
    },
    {
     "name": "stderr",
     "output_type": "stream",
     "text": [
      "I0512 14:53:28.518814 140225041876800 iteration.py:337] Building subnetwork 'RNN_SGRU_layer_1'\n"
     ]
    },
    {
     "name": "stdout",
     "output_type": "stream",
     "text": [
      "\n",
      "\n",
      "*** build_subnetwork() : features= {'images': <tf.Tensor 'IteratorGetNext:0' shape=(?, 672, 224) dtype=float32>}\n",
      "\n",
      "\n",
      "*** build_subnetwork() : self._feature_columns= [NumericColumn(key='images', shape=(672, 224), default_value=None, dtype=tf.float32, normalizer_fn=None)]\n",
      "\n",
      "\n",
      "*** build_subnetwork() : NN type= RNN / Input layer shape= (?, 150528)\n",
      "\n",
      "***build_subnetwork() / RNN : logits shape= (?, 3)\n",
      "\n",
      "*** build_subnetwork() : last_layer= Tensor(\"adanet/iteration_0/subnetwork_t0_RNN_SGRU_layer_1/dense/BiasAdd:0\", shape=(?, 3), dtype=float32)\n",
      "INFO:tensorflow:Building subnetwork 'RNN_SGRU_layer_2'\n"
     ]
    },
    {
     "name": "stderr",
     "output_type": "stream",
     "text": [
      "I0512 14:53:30.479995 140225041876800 iteration.py:337] Building subnetwork 'RNN_SGRU_layer_2'\n"
     ]
    },
    {
     "name": "stdout",
     "output_type": "stream",
     "text": [
      "\n",
      "\n",
      "*** build_subnetwork() : features= {'images': <tf.Tensor 'IteratorGetNext:0' shape=(?, 672, 224) dtype=float32>}\n",
      "\n",
      "\n",
      "*** build_subnetwork() : self._feature_columns= [NumericColumn(key='images', shape=(672, 224), default_value=None, dtype=tf.float32, normalizer_fn=None)]\n",
      "\n",
      "\n",
      "*** build_subnetwork() : NN type= RNN / Input layer shape= (?, 150528)\n",
      "\n",
      "***build_subnetwork() / RNN : logits shape= (?, 3)\n",
      "\n",
      "*** build_subnetwork() : last_layer= Tensor(\"adanet/iteration_0/subnetwork_t0_RNN_SGRU_layer_2/dense/BiasAdd:0\", shape=(?, 3), dtype=float32)\n",
      "INFO:tensorflow:Restoring parameters from ./tmp/adanet/RNN/model.ckpt-5\n"
     ]
    },
    {
     "name": "stderr",
     "output_type": "stream",
     "text": [
      "I0512 14:53:34.588979 140225041876800 saver.py:1270] Restoring parameters from ./tmp/adanet/RNN/model.ckpt-5\n"
     ]
    },
    {
     "name": "stdout",
     "output_type": "stream",
     "text": [
      "WARNING:tensorflow:From /home/bangui/anaconda3/lib/python3.6/site-packages/adanet/core/estimator.py:919: start_queue_runners (from tensorflow.python.training.queue_runner_impl) is deprecated and will be removed in a future version.\n",
      "Instructions for updating:\n",
      "To construct input pipelines, use the `tf.data` module.\n"
     ]
    },
    {
     "name": "stderr",
     "output_type": "stream",
     "text": [
      "W0512 14:53:34.890683 140225041876800 deprecation.py:323] From /home/bangui/anaconda3/lib/python3.6/site-packages/adanet/core/estimator.py:919: start_queue_runners (from tensorflow.python.training.queue_runner_impl) is deprecated and will be removed in a future version.\n",
      "Instructions for updating:\n",
      "To construct input pipelines, use the `tf.data` module.\n"
     ]
    },
    {
     "name": "stdout",
     "output_type": "stream",
     "text": [
      "WARNING:tensorflow:`tf.train.start_queue_runners()` was called when no queue runners were defined. You can safely remove the call to this deprecated function.\n"
     ]
    },
    {
     "name": "stderr",
     "output_type": "stream",
     "text": [
      "W0512 14:53:34.891433 140225041876800 queue_runner_impl.py:471] `tf.train.start_queue_runners()` was called when no queue runners were defined. You can safely remove the call to this deprecated function.\n"
     ]
    },
    {
     "name": "stdout",
     "output_type": "stream",
     "text": [
      "\n",
      "*** generator() : labels shape= (414,) / label values= 1\n",
      "\n",
      "*** generator() : labels shape= (414,) / label values= 1\n",
      "\n",
      "*** generator() : labels shape= (414,) / label values= 1\n",
      "\n",
      "*** generator() : labels shape= (414,) / label values= 1\n",
      "\n",
      "*** generator() : labels shape= (414,) / label values= 1\n",
      "\n",
      "*** generator() : labels shape= (414,) / label values= 1\n",
      "INFO:tensorflow:Done calling model_fn.\n"
     ]
    },
    {
     "name": "stderr",
     "output_type": "stream",
     "text": [
      "I0512 14:53:48.238444 140225041876800 estimator.py:1113] Done calling model_fn.\n"
     ]
    },
    {
     "name": "stdout",
     "output_type": "stream",
     "text": [
      "INFO:tensorflow:Using config: {'_model_dir': './tmp/adanet/RNN/temp_model_dir', '_tf_random_seed': 42, '_save_summary_steps': 100, '_save_checkpoints_steps': None, '_save_checkpoints_secs': 600, '_session_config': allow_soft_placement: true\n",
      "graph_options {\n",
      "  rewrite_options {\n",
      "    meta_optimizer_iterations: ONE\n",
      "  }\n",
      "}\n",
      ", '_keep_checkpoint_max': 5, '_keep_checkpoint_every_n_hours': 10000, '_log_step_count_steps': 100, '_train_distribute': None, '_device_fn': None, '_protocol': None, '_eval_distribute': None, '_experimental_distribute': None, '_service': None, '_cluster_spec': <tensorflow.python.training.server_lib.ClusterSpec object at 0x7f875db09748>, '_task_type': 'worker', '_task_id': 0, '_global_id_in_cluster': 0, '_master': '', '_evaluation_master': '', '_is_chief': True, '_num_ps_replicas': 0, '_num_worker_replicas': 1}\n"
     ]
    },
    {
     "name": "stderr",
     "output_type": "stream",
     "text": [
      "I0512 14:53:48.239578 140225041876800 estimator.py:201] Using config: {'_model_dir': './tmp/adanet/RNN/temp_model_dir', '_tf_random_seed': 42, '_save_summary_steps': 100, '_save_checkpoints_steps': None, '_save_checkpoints_secs': 600, '_session_config': allow_soft_placement: true\n",
      "graph_options {\n",
      "  rewrite_options {\n",
      "    meta_optimizer_iterations: ONE\n",
      "  }\n",
      "}\n",
      ", '_keep_checkpoint_max': 5, '_keep_checkpoint_every_n_hours': 10000, '_log_step_count_steps': 100, '_train_distribute': None, '_device_fn': None, '_protocol': None, '_eval_distribute': None, '_experimental_distribute': None, '_service': None, '_cluster_spec': <tensorflow.python.training.server_lib.ClusterSpec object at 0x7f875db09748>, '_task_type': 'worker', '_task_id': 0, '_global_id_in_cluster': 0, '_master': '', '_evaluation_master': '', '_is_chief': True, '_num_ps_replicas': 0, '_num_worker_replicas': 1}\n"
     ]
    },
    {
     "name": "stdout",
     "output_type": "stream",
     "text": [
      "\n",
      "*** input_fn() : feature_shape= (672, 224) / label_shape= [1]\n",
      "\n",
      "*** preprocess_color_image() : label shape= ()\n",
      "\n",
      "***_input_fn() : Label shape =[1]\n",
      "INFO:tensorflow:Calling model_fn.\n"
     ]
    },
    {
     "name": "stderr",
     "output_type": "stream",
     "text": [
      "I0512 14:53:48.299804 140225041876800 estimator.py:1111] Calling model_fn.\n"
     ]
    },
    {
     "name": "stdout",
     "output_type": "stream",
     "text": [
      "\n",
      "*** NNGenerator : layers= (1,2)\n",
      "\n",
      "*** NNAdaNetBuilder : NN Type=RNN\n",
      "\n",
      "*** get_tf_head() : feature shape= (672, 224)\n",
      "\n",
      "*** get_tf_head() : feature columns= [NumericColumn(key='images', shape=(672, 224), default_value=None, dtype=tf.float32, normalizer_fn=None)]\n",
      "\n",
      "*** NNAdaNetBuilder : NN Type=RNN\n",
      "\n",
      "*** get_tf_head() : feature shape= (672, 224)\n",
      "\n",
      "*** get_tf_head() : feature columns= [NumericColumn(key='images', shape=(672, 224), default_value=None, dtype=tf.float32, normalizer_fn=None)]\n",
      "INFO:tensorflow:Rebuilding iteration 0\n"
     ]
    },
    {
     "name": "stderr",
     "output_type": "stream",
     "text": [
      "I0512 14:53:48.311345 140225041876800 iteration.py:250] Rebuilding iteration 0\n"
     ]
    },
    {
     "name": "stdout",
     "output_type": "stream",
     "text": [
      "INFO:tensorflow:Rebuilding subnetwork 'RNN_SGRU_layer_2'\n"
     ]
    },
    {
     "name": "stderr",
     "output_type": "stream",
     "text": [
      "I0512 14:53:48.323228 140225041876800 iteration.py:337] Rebuilding subnetwork 'RNN_SGRU_layer_2'\n"
     ]
    },
    {
     "name": "stdout",
     "output_type": "stream",
     "text": [
      "\n",
      "\n",
      "*** build_subnetwork() : features= {'images': <tf.Tensor 'IteratorGetNext:0' shape=(?, 672, 224) dtype=float32>}\n",
      "\n",
      "\n",
      "*** build_subnetwork() : self._feature_columns= [NumericColumn(key='images', shape=(672, 224), default_value=None, dtype=tf.float32, normalizer_fn=None)]\n",
      "\n",
      "\n",
      "*** build_subnetwork() : NN type= RNN / Input layer shape= (?, 150528)\n",
      "\n",
      "***build_subnetwork() / RNN : logits shape= (?, 3)\n",
      "\n",
      "*** build_subnetwork() : last_layer= Tensor(\"adanet/iteration_0/subnetwork_t0_RNN_SGRU_layer_2/dense/BiasAdd:0\", shape=(?, 3), dtype=float32)\n",
      "\n",
      "*** NNGenerator : layers= (2,3)\n",
      "\n",
      "*** NNAdaNetBuilder : NN Type=RNN\n",
      "\n",
      "*** get_tf_head() : feature shape= (672, 224)\n",
      "\n",
      "*** get_tf_head() : feature columns= [NumericColumn(key='images', shape=(672, 224), default_value=None, dtype=tf.float32, normalizer_fn=None)]\n",
      "\n",
      "*** NNAdaNetBuilder : NN Type=RNN\n",
      "\n",
      "*** get_tf_head() : feature shape= (672, 224)\n",
      "\n",
      "*** get_tf_head() : feature columns= [NumericColumn(key='images', shape=(672, 224), default_value=None, dtype=tf.float32, normalizer_fn=None)]\n",
      "INFO:tensorflow:Building iteration 1\n"
     ]
    },
    {
     "name": "stderr",
     "output_type": "stream",
     "text": [
      "I0512 14:53:53.493000 140225041876800 iteration.py:250] Building iteration 1\n"
     ]
    },
    {
     "name": "stdout",
     "output_type": "stream",
     "text": [
      "INFO:tensorflow:Building subnetwork 'RNN_SGRU_layer_2'\n"
     ]
    },
    {
     "name": "stderr",
     "output_type": "stream",
     "text": [
      "I0512 14:53:53.516961 140225041876800 iteration.py:337] Building subnetwork 'RNN_SGRU_layer_2'\n"
     ]
    },
    {
     "name": "stdout",
     "output_type": "stream",
     "text": [
      "\n",
      "\n",
      "*** build_subnetwork() : features= {'images': <tf.Tensor 'IteratorGetNext:0' shape=(?, 672, 224) dtype=float32>}\n",
      "\n",
      "\n",
      "*** build_subnetwork() : self._feature_columns= [NumericColumn(key='images', shape=(672, 224), default_value=None, dtype=tf.float32, normalizer_fn=None)]\n",
      "\n",
      "\n",
      "*** build_subnetwork() : NN type= RNN / Input layer shape= (?, 150528)\n",
      "\n",
      "***build_subnetwork() / RNN : logits shape= (?, 3)\n",
      "\n",
      "*** build_subnetwork() : last_layer= Tensor(\"adanet/iteration_1/subnetwork_t1_RNN_SGRU_layer_2/dense/BiasAdd:0\", shape=(?, 3), dtype=float32)\n",
      "INFO:tensorflow:Building subnetwork 'RNN_SGRU_layer_3'\n"
     ]
    },
    {
     "name": "stderr",
     "output_type": "stream",
     "text": [
      "I0512 14:54:19.355328 140225041876800 iteration.py:337] Building subnetwork 'RNN_SGRU_layer_3'\n"
     ]
    },
    {
     "name": "stdout",
     "output_type": "stream",
     "text": [
      "\n",
      "\n",
      "*** build_subnetwork() : features= {'images': <tf.Tensor 'IteratorGetNext:0' shape=(?, 672, 224) dtype=float32>}\n",
      "\n",
      "\n",
      "*** build_subnetwork() : self._feature_columns= [NumericColumn(key='images', shape=(672, 224), default_value=None, dtype=tf.float32, normalizer_fn=None)]\n",
      "\n",
      "\n",
      "*** build_subnetwork() : NN type= RNN / Input layer shape= (?, 150528)\n",
      "\n",
      "***build_subnetwork() / RNN : logits shape= (?, 3)\n",
      "\n",
      "*** build_subnetwork() : last_layer= Tensor(\"adanet/iteration_1/subnetwork_t1_RNN_SGRU_layer_3/dense/BiasAdd:0\", shape=(?, 3), dtype=float32)\n",
      "WARNING:tensorflow:Using an `adanet.subnetwork.Builder#prune_previous_ensemble` is deprecated. Please use a custom `adanet.ensemble.Strategy` instead.\n"
     ]
    },
    {
     "name": "stderr",
     "output_type": "stream",
     "text": [
      "W0512 14:54:55.676277 140225041876800 tf_logging.py:161] Using an `adanet.subnetwork.Builder#prune_previous_ensemble` is deprecated. Please use a custom `adanet.ensemble.Strategy` instead.\n"
     ]
    },
    {
     "name": "stdout",
     "output_type": "stream",
     "text": [
      "WARNING:tensorflow:The `build_mixture_weights_train_op` method is deprecated. Please use the `Ensembler#build_train_op` instead.\n"
     ]
    },
    {
     "name": "stderr",
     "output_type": "stream",
     "text": [
      "W0512 14:54:55.775669 140225041876800 tf_logging.py:161] The `build_mixture_weights_train_op` method is deprecated. Please use the `Ensembler#build_train_op` instead.\n"
     ]
    },
    {
     "name": "stdout",
     "output_type": "stream",
     "text": [
      "WARNING:tensorflow:Using an `adanet.subnetwork.Builder#prune_previous_ensemble` is deprecated. Please use a custom `adanet.ensemble.Strategy` instead.\n"
     ]
    },
    {
     "name": "stderr",
     "output_type": "stream",
     "text": [
      "W0512 14:54:57.547276 140225041876800 tf_logging.py:161] Using an `adanet.subnetwork.Builder#prune_previous_ensemble` is deprecated. Please use a custom `adanet.ensemble.Strategy` instead.\n"
     ]
    },
    {
     "name": "stdout",
     "output_type": "stream",
     "text": [
      "WARNING:tensorflow:The `build_mixture_weights_train_op` method is deprecated. Please use the `Ensembler#build_train_op` instead.\n"
     ]
    },
    {
     "name": "stderr",
     "output_type": "stream",
     "text": [
      "W0512 14:54:57.625786 140225041876800 tf_logging.py:161] The `build_mixture_weights_train_op` method is deprecated. Please use the `Ensembler#build_train_op` instead.\n"
     ]
    },
    {
     "name": "stdout",
     "output_type": "stream",
     "text": [
      "INFO:tensorflow:Done calling model_fn.\n"
     ]
    },
    {
     "name": "stderr",
     "output_type": "stream",
     "text": [
      "I0512 14:54:57.775629 140225041876800 estimator.py:1113] Done calling model_fn.\n"
     ]
    },
    {
     "name": "stdout",
     "output_type": "stream",
     "text": [
      "INFO:tensorflow:Create CheckpointSaverHook.\n"
     ]
    },
    {
     "name": "stderr",
     "output_type": "stream",
     "text": [
      "I0512 14:54:57.776567 140225041876800 basic_session_run_hooks.py:527] Create CheckpointSaverHook.\n"
     ]
    },
    {
     "name": "stdout",
     "output_type": "stream",
     "text": [
      "WARNING:tensorflow:From /home/bangui/anaconda3/lib/python3.6/site-packages/tensorflow/python/training/saver.py:1070: get_checkpoint_mtimes (from tensorflow.python.training.checkpoint_management) is deprecated and will be removed in a future version.\n",
      "Instructions for updating:\n",
      "Use standard file utilities to get mtimes.\n"
     ]
    },
    {
     "name": "stderr",
     "output_type": "stream",
     "text": [
      "W0512 14:55:36.696393 140225041876800 deprecation.py:323] From /home/bangui/anaconda3/lib/python3.6/site-packages/tensorflow/python/training/saver.py:1070: get_checkpoint_mtimes (from tensorflow.python.training.checkpoint_management) is deprecated and will be removed in a future version.\n",
      "Instructions for updating:\n",
      "Use standard file utilities to get mtimes.\n"
     ]
    },
    {
     "name": "stdout",
     "output_type": "stream",
     "text": [
      "INFO:tensorflow:Graph was finalized.\n"
     ]
    },
    {
     "name": "stderr",
     "output_type": "stream",
     "text": [
      "I0512 14:55:36.970694 140225041876800 monitored_session.py:222] Graph was finalized.\n"
     ]
    },
    {
     "name": "stdout",
     "output_type": "stream",
     "text": [
      "INFO:tensorflow:Running local_init_op.\n"
     ]
    },
    {
     "name": "stderr",
     "output_type": "stream",
     "text": [
      "I0512 14:55:41.263970 140225041876800 session_manager.py:491] Running local_init_op.\n"
     ]
    },
    {
     "name": "stdout",
     "output_type": "stream",
     "text": [
      "INFO:tensorflow:Done running local_init_op.\n"
     ]
    },
    {
     "name": "stderr",
     "output_type": "stream",
     "text": [
      "I0512 14:55:42.253560 140225041876800 session_manager.py:493] Done running local_init_op.\n"
     ]
    },
    {
     "name": "stdout",
     "output_type": "stream",
     "text": [
      "INFO:tensorflow:Saving checkpoints for 0 into ./tmp/adanet/RNN/temp_model_dir/model.ckpt.\n"
     ]
    },
    {
     "name": "stderr",
     "output_type": "stream",
     "text": [
      "I0512 14:56:19.761356 140225041876800 basic_session_run_hooks.py:594] Saving checkpoints for 0 into ./tmp/adanet/RNN/temp_model_dir/model.ckpt.\n"
     ]
    },
    {
     "name": "stdout",
     "output_type": "stream",
     "text": [
      "INFO:tensorflow:Restoring parameters from ./tmp/adanet/RNN/model.ckpt-5\n"
     ]
    },
    {
     "name": "stderr",
     "output_type": "stream",
     "text": [
      "I0512 14:56:27.407742 140225041876800 saver.py:1270] Restoring parameters from ./tmp/adanet/RNN/model.ckpt-5\n"
     ]
    },
    {
     "name": "stdout",
     "output_type": "stream",
     "text": [
      "INFO:tensorflow:loss = 1.0929796, step = 6\n"
     ]
    },
    {
     "name": "stderr",
     "output_type": "stream",
     "text": [
      "I0512 14:56:42.040189 140225041876800 basic_session_run_hooks.py:249] loss = 1.0929796, step = 6\n"
     ]
    },
    {
     "name": "stdout",
     "output_type": "stream",
     "text": [
      "INFO:tensorflow:Saving checkpoints for 6 into ./tmp/adanet/RNN/temp_model_dir/model.ckpt.\n"
     ]
    },
    {
     "name": "stderr",
     "output_type": "stream",
     "text": [
      "I0512 14:56:42.041122 140225041876800 basic_session_run_hooks.py:594] Saving checkpoints for 6 into ./tmp/adanet/RNN/temp_model_dir/model.ckpt.\n"
     ]
    },
    {
     "name": "stdout",
     "output_type": "stream",
     "text": [
      "INFO:tensorflow:Loss for final step: 1.0929796.\n"
     ]
    },
    {
     "name": "stderr",
     "output_type": "stream",
     "text": [
      "I0512 14:56:46.885158 140225041876800 estimator.py:359] Loss for final step: 1.0929796.\n"
     ]
    },
    {
     "name": "stdout",
     "output_type": "stream",
     "text": [
      "\n",
      "*** input_fn() : feature_shape= (672, 224) / label_shape= [1]\n",
      "\n",
      "*** preprocess_color_image() : label shape= ()\n",
      "\n",
      "***_input_fn() : Label shape =[1]\n",
      "INFO:tensorflow:Calling model_fn.\n"
     ]
    },
    {
     "name": "stderr",
     "output_type": "stream",
     "text": [
      "I0512 14:56:46.967653 140225041876800 estimator.py:1111] Calling model_fn.\n"
     ]
    },
    {
     "name": "stdout",
     "output_type": "stream",
     "text": [
      "\n",
      "*** NNGenerator : layers= (1,2)\n",
      "\n",
      "*** NNAdaNetBuilder : NN Type=RNN\n",
      "\n",
      "*** get_tf_head() : feature shape= (672, 224)\n",
      "\n",
      "*** get_tf_head() : feature columns= [NumericColumn(key='images', shape=(672, 224), default_value=None, dtype=tf.float32, normalizer_fn=None)]\n",
      "\n",
      "*** NNAdaNetBuilder : NN Type=RNN\n",
      "\n",
      "*** get_tf_head() : feature shape= (672, 224)\n",
      "\n",
      "*** get_tf_head() : feature columns= [NumericColumn(key='images', shape=(672, 224), default_value=None, dtype=tf.float32, normalizer_fn=None)]\n",
      "INFO:tensorflow:Rebuilding iteration 0\n"
     ]
    },
    {
     "name": "stderr",
     "output_type": "stream",
     "text": [
      "I0512 14:56:46.973153 140225041876800 iteration.py:250] Rebuilding iteration 0\n"
     ]
    },
    {
     "name": "stdout",
     "output_type": "stream",
     "text": [
      "INFO:tensorflow:Rebuilding subnetwork 'RNN_SGRU_layer_2'\n"
     ]
    },
    {
     "name": "stderr",
     "output_type": "stream",
     "text": [
      "I0512 14:56:46.977554 140225041876800 iteration.py:337] Rebuilding subnetwork 'RNN_SGRU_layer_2'\n"
     ]
    },
    {
     "name": "stdout",
     "output_type": "stream",
     "text": [
      "\n",
      "\n",
      "*** build_subnetwork() : features= {'images': <tf.Tensor 'IteratorGetNext:0' shape=(?, 672, 224) dtype=float32>}\n",
      "\n",
      "\n",
      "*** build_subnetwork() : self._feature_columns= [NumericColumn(key='images', shape=(672, 224), default_value=None, dtype=tf.float32, normalizer_fn=None)]\n",
      "\n",
      "\n",
      "*** build_subnetwork() : NN type= RNN / Input layer shape= (?, 150528)\n",
      "\n",
      "***build_subnetwork() / RNN : logits shape= (?, 3)\n",
      "\n",
      "*** build_subnetwork() : last_layer= Tensor(\"adanet/iteration_0/subnetwork_t0_RNN_SGRU_layer_2/dense/BiasAdd:0\", shape=(?, 3), dtype=float32)\n",
      "\n",
      "*** NNGenerator : layers= (2,3)\n",
      "\n",
      "*** NNAdaNetBuilder : NN Type=RNN\n",
      "\n",
      "*** get_tf_head() : feature shape= (672, 224)\n",
      "\n",
      "*** get_tf_head() : feature columns= [NumericColumn(key='images', shape=(672, 224), default_value=None, dtype=tf.float32, normalizer_fn=None)]\n",
      "\n",
      "*** NNAdaNetBuilder : NN Type=RNN\n",
      "\n",
      "*** get_tf_head() : feature shape= (672, 224)\n",
      "\n",
      "*** get_tf_head() : feature columns= [NumericColumn(key='images', shape=(672, 224), default_value=None, dtype=tf.float32, normalizer_fn=None)]\n",
      "INFO:tensorflow:Building iteration 1\n"
     ]
    },
    {
     "name": "stderr",
     "output_type": "stream",
     "text": [
      "I0512 14:56:51.137828 140225041876800 iteration.py:250] Building iteration 1\n"
     ]
    },
    {
     "name": "stdout",
     "output_type": "stream",
     "text": [
      "INFO:tensorflow:Building subnetwork 'RNN_SGRU_layer_2'\n"
     ]
    },
    {
     "name": "stderr",
     "output_type": "stream",
     "text": [
      "I0512 14:56:51.166207 140225041876800 iteration.py:337] Building subnetwork 'RNN_SGRU_layer_2'\n"
     ]
    },
    {
     "name": "stdout",
     "output_type": "stream",
     "text": [
      "\n",
      "\n",
      "*** build_subnetwork() : features= {'images': <tf.Tensor 'IteratorGetNext:0' shape=(?, 672, 224) dtype=float32>}\n",
      "\n",
      "\n",
      "*** build_subnetwork() : self._feature_columns= [NumericColumn(key='images', shape=(672, 224), default_value=None, dtype=tf.float32, normalizer_fn=None)]\n",
      "\n",
      "\n",
      "*** build_subnetwork() : NN type= RNN / Input layer shape= (?, 150528)\n",
      "\n",
      "***build_subnetwork() / RNN : logits shape= (?, 3)\n",
      "\n",
      "*** build_subnetwork() : last_layer= Tensor(\"adanet/iteration_1/subnetwork_t1_RNN_SGRU_layer_2/dense/BiasAdd:0\", shape=(?, 3), dtype=float32)\n",
      "INFO:tensorflow:Building subnetwork 'RNN_SGRU_layer_3'\n"
     ]
    },
    {
     "name": "stderr",
     "output_type": "stream",
     "text": [
      "I0512 14:57:18.352452 140225041876800 iteration.py:337] Building subnetwork 'RNN_SGRU_layer_3'\n"
     ]
    },
    {
     "name": "stdout",
     "output_type": "stream",
     "text": [
      "\n",
      "\n",
      "*** build_subnetwork() : features= {'images': <tf.Tensor 'IteratorGetNext:0' shape=(?, 672, 224) dtype=float32>}\n",
      "\n",
      "\n",
      "*** build_subnetwork() : self._feature_columns= [NumericColumn(key='images', shape=(672, 224), default_value=None, dtype=tf.float32, normalizer_fn=None)]\n",
      "\n",
      "\n",
      "*** build_subnetwork() : NN type= RNN / Input layer shape= (?, 150528)\n",
      "\n",
      "***build_subnetwork() / RNN : logits shape= (?, 3)\n",
      "\n",
      "*** build_subnetwork() : last_layer= Tensor(\"adanet/iteration_1/subnetwork_t1_RNN_SGRU_layer_3/dense/BiasAdd:0\", shape=(?, 3), dtype=float32)\n",
      "WARNING:tensorflow:Using an `adanet.subnetwork.Builder#prune_previous_ensemble` is deprecated. Please use a custom `adanet.ensemble.Strategy` instead.\n"
     ]
    },
    {
     "name": "stderr",
     "output_type": "stream",
     "text": [
      "W0512 14:57:59.971277 140225041876800 tf_logging.py:161] Using an `adanet.subnetwork.Builder#prune_previous_ensemble` is deprecated. Please use a custom `adanet.ensemble.Strategy` instead.\n"
     ]
    },
    {
     "name": "stdout",
     "output_type": "stream",
     "text": [
      "WARNING:tensorflow:The `build_mixture_weights_train_op` method is deprecated. Please use the `Ensembler#build_train_op` instead.\n"
     ]
    },
    {
     "name": "stderr",
     "output_type": "stream",
     "text": [
      "W0512 14:58:00.081143 140225041876800 tf_logging.py:161] The `build_mixture_weights_train_op` method is deprecated. Please use the `Ensembler#build_train_op` instead.\n"
     ]
    },
    {
     "name": "stdout",
     "output_type": "stream",
     "text": [
      "WARNING:tensorflow:Using an `adanet.subnetwork.Builder#prune_previous_ensemble` is deprecated. Please use a custom `adanet.ensemble.Strategy` instead.\n"
     ]
    },
    {
     "name": "stderr",
     "output_type": "stream",
     "text": [
      "W0512 14:58:00.203530 140225041876800 tf_logging.py:161] Using an `adanet.subnetwork.Builder#prune_previous_ensemble` is deprecated. Please use a custom `adanet.ensemble.Strategy` instead.\n"
     ]
    },
    {
     "name": "stdout",
     "output_type": "stream",
     "text": [
      "WARNING:tensorflow:The `build_mixture_weights_train_op` method is deprecated. Please use the `Ensembler#build_train_op` instead.\n"
     ]
    },
    {
     "name": "stderr",
     "output_type": "stream",
     "text": [
      "W0512 14:58:00.289438 140225041876800 tf_logging.py:161] The `build_mixture_weights_train_op` method is deprecated. Please use the `Ensembler#build_train_op` instead.\n"
     ]
    },
    {
     "name": "stdout",
     "output_type": "stream",
     "text": [
      "INFO:tensorflow:Done calling model_fn.\n"
     ]
    },
    {
     "name": "stderr",
     "output_type": "stream",
     "text": [
      "I0512 14:58:00.472268 140225041876800 estimator.py:1113] Done calling model_fn.\n"
     ]
    },
    {
     "name": "stdout",
     "output_type": "stream",
     "text": [
      "INFO:tensorflow:Create CheckpointSaverHook.\n"
     ]
    },
    {
     "name": "stderr",
     "output_type": "stream",
     "text": [
      "I0512 14:58:00.473382 140225041876800 basic_session_run_hooks.py:527] Create CheckpointSaverHook.\n"
     ]
    },
    {
     "name": "stdout",
     "output_type": "stream",
     "text": [
      "INFO:tensorflow:Graph was finalized.\n"
     ]
    },
    {
     "name": "stderr",
     "output_type": "stream",
     "text": [
      "I0512 14:58:00.783298 140225041876800 monitored_session.py:222] Graph was finalized.\n"
     ]
    },
    {
     "name": "stdout",
     "output_type": "stream",
     "text": [
      "INFO:tensorflow:Restoring parameters from ./tmp/adanet/RNN/increment.ckpt-1\n"
     ]
    },
    {
     "name": "stderr",
     "output_type": "stream",
     "text": [
      "I0512 14:58:00.785398 140225041876800 saver.py:1270] Restoring parameters from ./tmp/adanet/RNN/increment.ckpt-1\n"
     ]
    },
    {
     "name": "stdout",
     "output_type": "stream",
     "text": [
      "INFO:tensorflow:Running local_init_op.\n"
     ]
    },
    {
     "name": "stderr",
     "output_type": "stream",
     "text": [
      "I0512 14:58:05.138889 140225041876800 session_manager.py:491] Running local_init_op.\n"
     ]
    },
    {
     "name": "stdout",
     "output_type": "stream",
     "text": [
      "INFO:tensorflow:Done running local_init_op.\n"
     ]
    },
    {
     "name": "stderr",
     "output_type": "stream",
     "text": [
      "I0512 14:58:06.098478 140225041876800 session_manager.py:493] Done running local_init_op.\n"
     ]
    },
    {
     "name": "stdout",
     "output_type": "stream",
     "text": [
      "INFO:tensorflow:Saving checkpoints for 5 into ./tmp/adanet/RNN/model.ckpt.\n"
     ]
    },
    {
     "name": "stderr",
     "output_type": "stream",
     "text": [
      "I0512 14:58:43.150561 140225041876800 basic_session_run_hooks.py:594] Saving checkpoints for 5 into ./tmp/adanet/RNN/model.ckpt.\n"
     ]
    },
    {
     "name": "stdout",
     "output_type": "stream",
     "text": [
      "INFO:tensorflow:loss = 1.0929796, step = 6\n"
     ]
    },
    {
     "name": "stderr",
     "output_type": "stream",
     "text": [
      "I0512 15:01:12.267404 140225041876800 basic_session_run_hooks.py:249] loss = 1.0929796, step = 6\n"
     ]
    },
    {
     "name": "stdout",
     "output_type": "stream",
     "text": [
      "\n",
      "*** generator() : labels shape= (414,) / label values= 1\n",
      "INFO:tensorflow:Saving checkpoints for 10 into ./tmp/adanet/RNN/model.ckpt.\n"
     ]
    },
    {
     "name": "stderr",
     "output_type": "stream",
     "text": [
      "I0512 15:03:32.227797 140225041876800 basic_session_run_hooks.py:594] Saving checkpoints for 10 into ./tmp/adanet/RNN/model.ckpt.\n"
     ]
    },
    {
     "name": "stdout",
     "output_type": "stream",
     "text": [
      "\n",
      "*** input_fn() : feature_shape= (672, 224) / label_shape= [1]\n",
      "\n",
      "*** input_fn : TEST / feature_shape= (672, 224)\n",
      "\n",
      "*** preprocess_color_image() : label shape= ()\n",
      "\n",
      "***_input_fn() : Label shape =[1]\n",
      "INFO:tensorflow:Calling model_fn.\n"
     ]
    },
    {
     "name": "stderr",
     "output_type": "stream",
     "text": [
      "I0512 15:03:37.097996 140225041876800 estimator.py:1111] Calling model_fn.\n"
     ]
    },
    {
     "name": "stdout",
     "output_type": "stream",
     "text": [
      "\n",
      "*** NNGenerator : layers= (1,2)\n",
      "\n",
      "*** NNAdaNetBuilder : NN Type=RNN\n",
      "\n",
      "*** get_tf_head() : feature shape= (672, 224)\n",
      "\n",
      "*** get_tf_head() : feature columns= [NumericColumn(key='images', shape=(672, 224), default_value=None, dtype=tf.float32, normalizer_fn=None)]\n",
      "\n",
      "*** NNAdaNetBuilder : NN Type=RNN\n",
      "\n",
      "*** get_tf_head() : feature shape= (672, 224)\n",
      "\n",
      "*** get_tf_head() : feature columns= [NumericColumn(key='images', shape=(672, 224), default_value=None, dtype=tf.float32, normalizer_fn=None)]\n",
      "INFO:tensorflow:Rebuilding iteration 0\n"
     ]
    },
    {
     "name": "stderr",
     "output_type": "stream",
     "text": [
      "I0512 15:03:37.104398 140225041876800 iteration.py:250] Rebuilding iteration 0\n"
     ]
    },
    {
     "name": "stdout",
     "output_type": "stream",
     "text": [
      "INFO:tensorflow:Rebuilding subnetwork 'RNN_SGRU_layer_2'\n"
     ]
    },
    {
     "name": "stderr",
     "output_type": "stream",
     "text": [
      "I0512 15:03:37.109000 140225041876800 iteration.py:337] Rebuilding subnetwork 'RNN_SGRU_layer_2'\n"
     ]
    },
    {
     "name": "stdout",
     "output_type": "stream",
     "text": [
      "\n",
      "\n",
      "*** build_subnetwork() : features= {'images': <tf.Tensor 'IteratorGetNext:0' shape=(?, 672, 224) dtype=float32>}\n",
      "\n",
      "\n",
      "*** build_subnetwork() : self._feature_columns= [NumericColumn(key='images', shape=(672, 224), default_value=None, dtype=tf.float32, normalizer_fn=None)]\n",
      "\n",
      "\n",
      "*** build_subnetwork() : NN type= RNN / Input layer shape= (?, 150528)\n",
      "\n",
      "***build_subnetwork() / RNN : logits shape= (?, 3)\n",
      "\n",
      "*** build_subnetwork() : last_layer= Tensor(\"adanet/iteration_0/subnetwork_t0_RNN_SGRU_layer_2/dense/BiasAdd:0\", shape=(?, 3), dtype=float32)\n",
      "\n",
      "*** NNGenerator : layers= (2,3)\n",
      "\n",
      "*** NNAdaNetBuilder : NN Type=RNN\n",
      "\n",
      "*** get_tf_head() : feature shape= (672, 224)\n",
      "\n",
      "*** get_tf_head() : feature columns= [NumericColumn(key='images', shape=(672, 224), default_value=None, dtype=tf.float32, normalizer_fn=None)]\n",
      "\n",
      "*** NNAdaNetBuilder : NN Type=RNN\n",
      "\n",
      "*** get_tf_head() : feature shape= (672, 224)\n",
      "\n",
      "*** get_tf_head() : feature columns= [NumericColumn(key='images', shape=(672, 224), default_value=None, dtype=tf.float32, normalizer_fn=None)]\n",
      "INFO:tensorflow:Building iteration 1\n"
     ]
    },
    {
     "name": "stderr",
     "output_type": "stream",
     "text": [
      "I0512 15:03:43.965381 140225041876800 iteration.py:250] Building iteration 1\n"
     ]
    },
    {
     "name": "stdout",
     "output_type": "stream",
     "text": [
      "INFO:tensorflow:Building subnetwork 'RNN_SGRU_layer_2'\n"
     ]
    },
    {
     "name": "stderr",
     "output_type": "stream",
     "text": [
      "I0512 15:03:44.013666 140225041876800 iteration.py:337] Building subnetwork 'RNN_SGRU_layer_2'\n"
     ]
    },
    {
     "name": "stdout",
     "output_type": "stream",
     "text": [
      "\n",
      "\n",
      "*** build_subnetwork() : features= {'images': <tf.Tensor 'IteratorGetNext:0' shape=(?, 672, 224) dtype=float32>}\n",
      "\n",
      "\n",
      "*** build_subnetwork() : self._feature_columns= [NumericColumn(key='images', shape=(672, 224), default_value=None, dtype=tf.float32, normalizer_fn=None)]\n",
      "\n",
      "\n",
      "*** build_subnetwork() : NN type= RNN / Input layer shape= (?, 150528)\n",
      "\n",
      "***build_subnetwork() / RNN : logits shape= (?, 3)\n",
      "\n",
      "*** build_subnetwork() : last_layer= Tensor(\"adanet/iteration_1/subnetwork_t1_RNN_SGRU_layer_2/dense/BiasAdd:0\", shape=(?, 3), dtype=float32)\n",
      "INFO:tensorflow:Building subnetwork 'RNN_SGRU_layer_3'\n"
     ]
    },
    {
     "name": "stderr",
     "output_type": "stream",
     "text": [
      "I0512 15:03:47.725416 140225041876800 iteration.py:337] Building subnetwork 'RNN_SGRU_layer_3'\n"
     ]
    },
    {
     "name": "stdout",
     "output_type": "stream",
     "text": [
      "\n",
      "\n",
      "*** build_subnetwork() : features= {'images': <tf.Tensor 'IteratorGetNext:0' shape=(?, 672, 224) dtype=float32>}\n",
      "\n",
      "\n",
      "*** build_subnetwork() : self._feature_columns= [NumericColumn(key='images', shape=(672, 224), default_value=None, dtype=tf.float32, normalizer_fn=None)]\n",
      "\n",
      "\n",
      "*** build_subnetwork() : NN type= RNN / Input layer shape= (?, 150528)\n",
      "\n",
      "***build_subnetwork() / RNN : logits shape= (?, 3)\n",
      "\n",
      "*** build_subnetwork() : last_layer= Tensor(\"adanet/iteration_1/subnetwork_t1_RNN_SGRU_layer_3/dense/BiasAdd:0\", shape=(?, 3), dtype=float32)\n",
      "WARNING:tensorflow:Using an `adanet.subnetwork.Builder#prune_previous_ensemble` is deprecated. Please use a custom `adanet.ensemble.Strategy` instead.\n"
     ]
    },
    {
     "name": "stderr",
     "output_type": "stream",
     "text": [
      "W0512 15:03:53.255851 140225041876800 tf_logging.py:161] Using an `adanet.subnetwork.Builder#prune_previous_ensemble` is deprecated. Please use a custom `adanet.ensemble.Strategy` instead.\n"
     ]
    },
    {
     "name": "stdout",
     "output_type": "stream",
     "text": [
      "WARNING:tensorflow:Using an `adanet.subnetwork.Builder#prune_previous_ensemble` is deprecated. Please use a custom `adanet.ensemble.Strategy` instead.\n"
     ]
    },
    {
     "name": "stderr",
     "output_type": "stream",
     "text": [
      "W0512 15:03:53.372568 140225041876800 tf_logging.py:161] Using an `adanet.subnetwork.Builder#prune_previous_ensemble` is deprecated. Please use a custom `adanet.ensemble.Strategy` instead.\n"
     ]
    },
    {
     "name": "stdout",
     "output_type": "stream",
     "text": [
      "INFO:tensorflow:Done calling model_fn.\n"
     ]
    },
    {
     "name": "stderr",
     "output_type": "stream",
     "text": [
      "I0512 15:03:53.609359 140225041876800 estimator.py:1113] Done calling model_fn.\n"
     ]
    },
    {
     "name": "stdout",
     "output_type": "stream",
     "text": [
      "INFO:tensorflow:Starting evaluation at 2019-05-12T13:03:53Z\n"
     ]
    },
    {
     "name": "stderr",
     "output_type": "stream",
     "text": [
      "I0512 15:03:53.626586 140225041876800 evaluation.py:257] Starting evaluation at 2019-05-12T13:03:53Z\n"
     ]
    },
    {
     "name": "stdout",
     "output_type": "stream",
     "text": [
      "INFO:tensorflow:Graph was finalized.\n"
     ]
    },
    {
     "name": "stderr",
     "output_type": "stream",
     "text": [
      "I0512 15:03:53.899748 140225041876800 monitored_session.py:222] Graph was finalized.\n"
     ]
    },
    {
     "name": "stdout",
     "output_type": "stream",
     "text": [
      "INFO:tensorflow:Restoring parameters from ./tmp/adanet/RNN/model.ckpt-10\n"
     ]
    },
    {
     "name": "stderr",
     "output_type": "stream",
     "text": [
      "I0512 15:03:53.908733 140225041876800 saver.py:1270] Restoring parameters from ./tmp/adanet/RNN/model.ckpt-10\n"
     ]
    },
    {
     "name": "stdout",
     "output_type": "stream",
     "text": [
      "INFO:tensorflow:Running local_init_op.\n"
     ]
    },
    {
     "name": "stderr",
     "output_type": "stream",
     "text": [
      "I0512 15:03:54.862629 140225041876800 session_manager.py:491] Running local_init_op.\n"
     ]
    },
    {
     "name": "stdout",
     "output_type": "stream",
     "text": [
      "INFO:tensorflow:Done running local_init_op.\n"
     ]
    },
    {
     "name": "stderr",
     "output_type": "stream",
     "text": [
      "I0512 15:03:55.116164 140225041876800 session_manager.py:493] Done running local_init_op.\n"
     ]
    },
    {
     "name": "stdout",
     "output_type": "stream",
     "text": [
      "\n",
      "*** generator() : labels shape= (47,) / label values= 0\n",
      "INFO:tensorflow:Finished evaluation at 2019-05-12-13:05:54\n"
     ]
    },
    {
     "name": "stderr",
     "output_type": "stream",
     "text": [
      "I0512 15:05:54.668843 140225041876800 evaluation.py:277] Finished evaluation at 2019-05-12-13:05:54\n"
     ]
    },
    {
     "name": "stdout",
     "output_type": "stream",
     "text": [
      "INFO:tensorflow:Saving dict for global step 10: accuracy = 0.31914893, average_loss = 1.1207441, global_step = 10, loss = 1.1277177\n"
     ]
    },
    {
     "name": "stderr",
     "output_type": "stream",
     "text": [
      "I0512 15:06:00.255289 140225041876800 estimator.py:1979] Saving dict for global step 10: accuracy = 0.31914893, average_loss = 1.1207441, global_step = 10, loss = 1.1277177\n"
     ]
    },
    {
     "name": "stdout",
     "output_type": "stream",
     "text": [
      "INFO:tensorflow:Saving 'checkpoint_path' summary for global step 10: ./tmp/adanet/RNN/model.ckpt-10\n"
     ]
    },
    {
     "name": "stderr",
     "output_type": "stream",
     "text": [
      "I0512 15:06:06.810543 140225041876800 estimator.py:2039] Saving 'checkpoint_path' summary for global step 10: ./tmp/adanet/RNN/model.ckpt-10\n"
     ]
    },
    {
     "name": "stdout",
     "output_type": "stream",
     "text": [
      "INFO:tensorflow:Loss for final step: 1.1039755.\n"
     ]
    },
    {
     "name": "stderr",
     "output_type": "stream",
     "text": [
      "I0512 15:08:32.966445 140225041876800 estimator.py:359] Loss for final step: 1.1039755.\n"
     ]
    },
    {
     "name": "stdout",
     "output_type": "stream",
     "text": [
      "\n",
      "*** input_fn() : feature_shape= (672, 224) / label_shape= [1]\n",
      "\n",
      "*** preprocess_color_image() : label shape= ()\n",
      "\n",
      "***_input_fn() : Label shape =[1]\n",
      "INFO:tensorflow:Calling model_fn.\n"
     ]
    },
    {
     "name": "stderr",
     "output_type": "stream",
     "text": [
      "I0512 15:09:40.151986 140225041876800 estimator.py:1111] Calling model_fn.\n"
     ]
    },
    {
     "name": "stdout",
     "output_type": "stream",
     "text": [
      "\n",
      "*** NNGenerator : layers= (1,2)\n",
      "\n",
      "*** NNAdaNetBuilder : NN Type=RNN\n",
      "\n",
      "*** get_tf_head() : feature shape= (672, 224)\n",
      "\n",
      "*** get_tf_head() : feature columns= [NumericColumn(key='images', shape=(672, 224), default_value=None, dtype=tf.float32, normalizer_fn=None)]\n",
      "\n",
      "*** NNAdaNetBuilder : NN Type=RNN\n",
      "\n",
      "*** get_tf_head() : feature shape= (672, 224)\n",
      "\n",
      "*** get_tf_head() : feature columns= [NumericColumn(key='images', shape=(672, 224), default_value=None, dtype=tf.float32, normalizer_fn=None)]\n",
      "INFO:tensorflow:Rebuilding iteration 0\n"
     ]
    },
    {
     "name": "stderr",
     "output_type": "stream",
     "text": [
      "I0512 15:09:40.310298 140225041876800 iteration.py:250] Rebuilding iteration 0\n"
     ]
    },
    {
     "name": "stdout",
     "output_type": "stream",
     "text": [
      "INFO:tensorflow:Rebuilding subnetwork 'RNN_SGRU_layer_2'\n"
     ]
    },
    {
     "name": "stderr",
     "output_type": "stream",
     "text": [
      "I0512 15:09:40.543071 140225041876800 iteration.py:337] Rebuilding subnetwork 'RNN_SGRU_layer_2'\n"
     ]
    },
    {
     "name": "stdout",
     "output_type": "stream",
     "text": [
      "\n",
      "\n",
      "*** build_subnetwork() : features= {'images': <tf.Tensor 'IteratorGetNext:0' shape=(?, 672, 224) dtype=float32>}\n",
      "\n",
      "\n",
      "*** build_subnetwork() : self._feature_columns= [NumericColumn(key='images', shape=(672, 224), default_value=None, dtype=tf.float32, normalizer_fn=None)]\n",
      "\n",
      "\n",
      "*** build_subnetwork() : NN type= RNN / Input layer shape= (?, 150528)\n",
      "\n",
      "***build_subnetwork() / RNN : logits shape= (?, 3)\n",
      "\n",
      "*** build_subnetwork() : last_layer= Tensor(\"adanet/iteration_0/subnetwork_t0_RNN_SGRU_layer_2/dense/BiasAdd:0\", shape=(?, 3), dtype=float32)\n",
      "\n",
      "*** NNGenerator : layers= (2,3)\n",
      "\n",
      "*** NNAdaNetBuilder : NN Type=RNN\n",
      "\n",
      "*** get_tf_head() : feature shape= (672, 224)\n",
      "\n",
      "*** get_tf_head() : feature columns= [NumericColumn(key='images', shape=(672, 224), default_value=None, dtype=tf.float32, normalizer_fn=None)]\n",
      "\n",
      "*** NNAdaNetBuilder : NN Type=RNN\n",
      "\n",
      "*** get_tf_head() : feature shape= (672, 224)\n",
      "\n",
      "*** get_tf_head() : feature columns= [NumericColumn(key='images', shape=(672, 224), default_value=None, dtype=tf.float32, normalizer_fn=None)]\n",
      "INFO:tensorflow:Building iteration 1\n"
     ]
    },
    {
     "name": "stderr",
     "output_type": "stream",
     "text": [
      "I0512 15:23:17.367388 140225041876800 iteration.py:250] Building iteration 1\n"
     ]
    },
    {
     "name": "stdout",
     "output_type": "stream",
     "text": [
      "INFO:tensorflow:Building subnetwork 'RNN_SGRU_layer_2'\n"
     ]
    },
    {
     "name": "stderr",
     "output_type": "stream",
     "text": [
      "I0512 15:23:17.810618 140225041876800 iteration.py:337] Building subnetwork 'RNN_SGRU_layer_2'\n"
     ]
    },
    {
     "name": "stdout",
     "output_type": "stream",
     "text": [
      "\n",
      "\n",
      "*** build_subnetwork() : features= {'images': <tf.Tensor 'IteratorGetNext:0' shape=(?, 672, 224) dtype=float32>}\n",
      "\n",
      "\n",
      "*** build_subnetwork() : self._feature_columns= [NumericColumn(key='images', shape=(672, 224), default_value=None, dtype=tf.float32, normalizer_fn=None)]\n",
      "\n",
      "\n",
      "*** build_subnetwork() : NN type= RNN / Input layer shape= (?, 150528)\n"
     ]
    }
   ],
   "source": [
    "start_time = time.time()\n",
    "results, _ = tf.estimator.train_and_evaluate(adanet_estimator, train_spec, eval_spec)\n",
    "end_time = time.time()"
   ]
  },
  {
   "cell_type": "code",
   "execution_count": 1,
   "metadata": {
    "colab": {
     "base_uri": "https://localhost:8080/",
     "height": 1295
    },
    "colab_type": "code",
    "executionInfo": {
     "elapsed": 2118,
     "status": "error",
     "timestamp": 1554720133634,
     "user": {
      "displayName": "FBT Telecom",
      "photoUrl": "",
      "userId": "01928442219250440173"
     },
     "user_tz": -120
    },
    "id": "_reIMFwIcDKL",
    "outputId": "5db434df-7c87-4eaf-ab11-e3a91c5425a7",
    "scrolled": true
   },
   "outputs": [
    {
     "name": "stdout",
     "output_type": "stream",
     "text": [
      "\n",
      "------------------------------------------------\n"
     ]
    },
    {
     "ename": "NameError",
     "evalue": "name 'end_time' is not defined",
     "output_type": "error",
     "traceback": [
      "\u001b[0;31m---------------------------------------------------------------------------\u001b[0m",
      "\u001b[0;31mNameError\u001b[0m                                 Traceback (most recent call last)",
      "\u001b[0;32m<ipython-input-1-e85fc9c2d60f>\u001b[0m in \u001b[0;36m<module>\u001b[0;34m\u001b[0m\n\u001b[1;32m      1\u001b[0m \u001b[0mprint\u001b[0m\u001b[0;34m(\u001b[0m\u001b[0;34m\"\\n------------------------------------------------\"\u001b[0m\u001b[0;34m)\u001b[0m\u001b[0;34m\u001b[0m\u001b[0;34m\u001b[0m\u001b[0m\n\u001b[0;32m----> 2\u001b[0;31m \u001b[0mprint\u001b[0m\u001b[0;34m(\u001b[0m\u001b[0;34m\"Time (sec)\"\u001b[0m\u001b[0;34m,\u001b[0m \u001b[0mend_time\u001b[0m\u001b[0;34m-\u001b[0m\u001b[0mstart_time\u001b[0m\u001b[0;34m)\u001b[0m\u001b[0;34m\u001b[0m\u001b[0;34m\u001b[0m\u001b[0m\n\u001b[0m\u001b[1;32m      3\u001b[0m \u001b[0;32mfor\u001b[0m \u001b[0mkey\u001b[0m \u001b[0;32min\u001b[0m \u001b[0mresults\u001b[0m\u001b[0;34m.\u001b[0m\u001b[0mkeys\u001b[0m\u001b[0;34m(\u001b[0m\u001b[0;34m)\u001b[0m \u001b[0;34m:\u001b[0m\u001b[0;34m\u001b[0m\u001b[0;34m\u001b[0m\u001b[0m\n\u001b[1;32m      4\u001b[0m     \u001b[0mtitle\u001b[0m \u001b[0;34m=\u001b[0m\u001b[0mkey\u001b[0m\u001b[0;34m.\u001b[0m\u001b[0mupper\u001b[0m\u001b[0;34m(\u001b[0m\u001b[0;34m)\u001b[0m\u001b[0;34m\u001b[0m\u001b[0;34m\u001b[0m\u001b[0m\n\u001b[1;32m      5\u001b[0m     \u001b[0mprint\u001b[0m\u001b[0;34m(\u001b[0m\u001b[0;34m\"\\n{}: {}\"\u001b[0m\u001b[0;34m.\u001b[0m\u001b[0mformat\u001b[0m\u001b[0;34m(\u001b[0m\u001b[0mtitle\u001b[0m\u001b[0;34m,\u001b[0m \u001b[0mresults\u001b[0m\u001b[0;34m[\u001b[0m\u001b[0mkey\u001b[0m\u001b[0;34m]\u001b[0m\u001b[0;34m)\u001b[0m\u001b[0;34m)\u001b[0m\u001b[0;34m\u001b[0m\u001b[0;34m\u001b[0m\u001b[0m\n",
      "\u001b[0;31mNameError\u001b[0m: name 'end_time' is not defined"
     ]
    }
   ],
   "source": [
    "print(\"\\n------------------------------------------------\")\n",
    "print(\"Time (sec)\", end_time-start_time)\n",
    "for key in results.keys() :\n",
    "    title =key.upper()\n",
    "    print(\"\\n{}: {}\".format(title, results[key]))\n"
   ]
  },
  {
   "cell_type": "code",
   "execution_count": 2,
   "metadata": {},
   "outputs": [],
   "source": [
    "#import tensorflow as tf\n",
    "#help(tf.estimator.Estimator)"
   ]
  },
  {
   "cell_type": "raw",
   "metadata": {},
   "source": [
    "from tensorflow.python.tools.inspect_checkpoint import print_tensors_in_checkpoint_file\n",
    "max_iteration_steps=TRAIN_STEPS // ADANET_ITERATIONS\n",
    "\n",
    "#filenale_model_check = './tmp/models/'+str(NN_TYPE)+'/model.ckpt-3'\n",
    "#print_tensors_in_checkpoint_file(file_name=filenale_model_check, tensor_name='', all_tensors=False)\n",
    "print(\"\\n----------\\n\")\n",
    "filename_model_checkpoint = OUTPUT_DIR+'/'+str(NN_TYPE)+'/model.ckpt-'+str(TRAIN_STEPS)\n",
    "print_tensors_in_checkpoint_file(file_name=filename_model_checkpoint\\\n",
    "                                 , tensor_name='', all_tensors=False)\n"
   ]
  },
  {
   "cell_type": "code",
   "execution_count": 3,
   "metadata": {},
   "outputs": [],
   "source": [
    "def ensemble_architecture(result):\n",
    "  \"\"\"Extracts the ensemble architecture from evaluation results.\"\"\"\n",
    "\n",
    "  architecture = result[\"architecture/adanet/ensembles\"]\n",
    "  # The architecture is a serialized Summary proto for TensorBoard.\n",
    "  summary_proto = tf.summary.Summary.FromString(architecture)\n",
    "  return summary_proto.value[0].tensor.string_val[0]"
   ]
  },
  {
   "cell_type": "code",
   "execution_count": 4,
   "metadata": {},
   "outputs": [
    {
     "ename": "NameError",
     "evalue": "name 'results' is not defined",
     "output_type": "error",
     "traceback": [
      "\u001b[0;31m---------------------------------------------------------------------------\u001b[0m",
      "\u001b[0;31mNameError\u001b[0m                                 Traceback (most recent call last)",
      "\u001b[0;32m<ipython-input-4-6479becfee78>\u001b[0m in \u001b[0;36m<module>\u001b[0;34m\u001b[0m\n\u001b[0;32m----> 1\u001b[0;31m print(\"Architecture: {} / Accuracy= {} /Loss= {}\".format(ensemble_architecture(results)\\\n\u001b[0m\u001b[1;32m      2\u001b[0m                                                   , results['accuracy'], results['loss']))\n",
      "\u001b[0;31mNameError\u001b[0m: name 'results' is not defined"
     ]
    }
   ],
   "source": [
    "print(\"Architecture: {} / Accuracy= {} /Loss= {}\".format(ensemble_architecture(results)\\\n",
    "                                                  , results['accuracy'], results['loss']))"
   ]
  },
  {
   "cell_type": "code",
   "execution_count": 5,
   "metadata": {},
   "outputs": [],
   "source": [
    "# Architecture: b'| DNN_layer_1 | DNN_layer_2 | DNN_layer_3 |' : accuracy = 40% / Loss = 1.0883579\n",
    "# Architecture: b'| CNNBase_layer_1 |' / Accuracy= 0.40425533056259155 /Loss= 1.081491470336914\n",
    "# Architecture: b'| CNNBase_linear | CNNBase_layer_1 |' / Accuracy= 0.42553192377090454 /Loss= 1.1250361204147339"
   ]
  },
  {
   "cell_type": "code",
   "execution_count": 8,
   "metadata": {},
   "outputs": [
    {
     "ename": "NameError",
     "evalue": "name 'output_dir_log' is not defined",
     "output_type": "error",
     "traceback": [
      "\u001b[0;31m---------------------------------------------------------------------------\u001b[0m",
      "\u001b[0;31mNameError\u001b[0m                                 Traceback (most recent call last)",
      "\u001b[0;32m<ipython-input-8-48b764d3c442>\u001b[0m in \u001b[0;36m<module>\u001b[0;34m\u001b[0m\n\u001b[1;32m      2\u001b[0m     get_ipython().system_raw(\n\u001b[1;32m      3\u001b[0m         \u001b[0;34m'tensorboard --logdir {} --host localhost --port 6006 &'\u001b[0m\u001b[0;34m\u001b[0m\u001b[0;34m\u001b[0m\u001b[0m\n\u001b[0;32m----> 4\u001b[0;31m         \u001b[0;34m.\u001b[0m\u001b[0mformat\u001b[0m\u001b[0;34m(\u001b[0m\u001b[0moutput_dir_log\u001b[0m\u001b[0;34m)\u001b[0m\u001b[0;34m\u001b[0m\u001b[0;34m\u001b[0m\u001b[0m\n\u001b[0m\u001b[1;32m      5\u001b[0m     )\n\u001b[1;32m      6\u001b[0m \u001b[0;34m\u001b[0m\u001b[0m\n",
      "\u001b[0;31mNameError\u001b[0m: name 'output_dir_log' is not defined"
     ]
    }
   ],
   "source": [
    "if is_tensorboard is True :\n",
    "    get_ipython().system_raw(\n",
    "        'tensorboard --logdir {} --host localhost --port 6006 &'\n",
    "        .format(output_dir_log)\n",
    "    )\n",
    "\n",
    "\n",
    "    get_ipython().system_raw('./assets/ngrok http 6006 &')"
   ]
  },
  {
   "cell_type": "code",
   "execution_count": 41,
   "metadata": {},
   "outputs": [
    {
     "data": {
      "text/plain": [
       "'./tmp/adanet/DNN'"
      ]
     },
     "execution_count": 41,
     "metadata": {},
     "output_type": "execute_result"
    }
   ],
   "source": [
    "output_dir_log"
   ]
  },
  {
   "cell_type": "code",
   "execution_count": 20,
   "metadata": {},
   "outputs": [
    {
     "data": {
      "text/plain": [
       "1"
      ]
     },
     "execution_count": 20,
     "metadata": {},
     "output_type": "execute_result"
    }
   ],
   "source": [
    "1%2"
   ]
  },
  {
   "cell_type": "code",
   "execution_count": 21,
   "metadata": {},
   "outputs": [
    {
     "data": {
      "text/plain": [
       "0"
      ]
     },
     "execution_count": 21,
     "metadata": {},
     "output_type": "execute_result"
    }
   ],
   "source": [
    "2%2"
   ]
  },
  {
   "cell_type": "code",
   "execution_count": 22,
   "metadata": {},
   "outputs": [
    {
     "data": {
      "text/plain": [
       "1"
      ]
     },
     "execution_count": 22,
     "metadata": {},
     "output_type": "execute_result"
    }
   ],
   "source": [
    "3%2"
   ]
  },
  {
   "cell_type": "code",
   "execution_count": 23,
   "metadata": {},
   "outputs": [
    {
     "data": {
      "text/plain": [
       "0"
      ]
     },
     "execution_count": 23,
     "metadata": {},
     "output_type": "execute_result"
    }
   ],
   "source": [
    "4%2"
   ]
  },
  {
   "cell_type": "raw",
   "metadata": {},
   "source": [
    "import tensorflow as tf\n",
    "help(tf.contrib.util.constant_value)"
   ]
  },
  {
   "cell_type": "code",
   "execution_count": null,
   "metadata": {},
   "outputs": [],
   "source": []
  }
 ],
 "metadata": {
  "accelerator": "GPU",
  "colab": {
   "collapsed_sections": [],
   "name": "Untitled0.ipynb",
   "provenance": [],
   "version": "0.3.2"
  },
  "kernelspec": {
   "display_name": "Python 3",
   "language": "python",
   "name": "python3"
  },
  "language_info": {
   "codemirror_mode": {
    "name": "ipython",
    "version": 3
   },
   "file_extension": ".py",
   "mimetype": "text/x-python",
   "name": "python",
   "nbconvert_exporter": "python",
   "pygments_lexer": "ipython3",
   "version": "3.6.8"
  }
 },
 "nbformat": 4,
 "nbformat_minor": 1
}
