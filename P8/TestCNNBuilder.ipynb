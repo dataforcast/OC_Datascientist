{
 "cells": [
  {
   "cell_type": "code",
   "execution_count": 1,
   "metadata": {},
   "outputs": [
    {
     "name": "stderr",
     "output_type": "stream",
     "text": [
      "Using TensorFlow backend.\n"
     ]
    }
   ],
   "source": [
    "%load_ext autoreload\n",
    "%autoreload 2\n",
    "import time\n",
    "import tensorflow as tf\n",
    "import p8_util"
   ]
  },
  {
   "cell_type": "code",
   "execution_count": 16,
   "metadata": {},
   "outputs": [],
   "source": [
    "OUTPUT_DIR = './tmp/baseline'\n",
    "OUTPUT_DIR_TB = './tmp'\n",
    "datadir = './data'\n",
    "is_tensorboard = True"
   ]
  },
  {
   "cell_type": "code",
   "execution_count": 17,
   "metadata": {},
   "outputs": [],
   "source": [
    "if is_tensorboard is True :\n",
    "    get_ipython().system_raw(\n",
    "        'tensorboard --logdir {} --host localhost --port 6006 &'\n",
    "        .format(OUTPUT_DIR_TB)\n",
    "    )\n",
    "\n",
    "\n",
    "    get_ipython().system_raw('./assets/ngrok http 6006 &')"
   ]
  },
  {
   "cell_type": "code",
   "execution_count": 15,
   "metadata": {},
   "outputs": [
    {
     "name": "stdout",
     "output_type": "stream",
     "text": [
      "kill: (6120)kill: (6126)"
     ]
    }
   ],
   "source": [
    "# this will kill the processes for Tensorboard\n",
    "#is_tensorboard = True\n",
    "if is_tensorboard is True :\n",
    "    !ps aux | grep tensorboard | awk '{print $2}' | xargs kill\n",
    "# this will kill the processes for ngrok\n",
    "if is_tensorboard is True :\n",
    "    !ps aux | grep ngrok | awk '{print $2}' | xargs kill    "
   ]
  },
  {
   "cell_type": "code",
   "execution_count": 11,
   "metadata": {},
   "outputs": [
    {
     "name": "stderr",
     "output_type": "stream",
     "text": [
      "Using TensorFlow backend.\n"
     ]
    },
    {
     "name": "stdout",
     "output_type": "stream",
     "text": [
      "p5_util.object_load : fileName= ./data/arr_keras_X_y_train_test.dump\n"
     ]
    }
   ],
   "source": [
    "import p8_util\n",
    "filename_dataset=datadir+'/arr_keras_X_y_train_test.dump'\n",
    "x_train, x_test, y_train, y_test, nClasses, tuple_dimension = p8_util.load_dataset(filename_dataset)"
   ]
  },
  {
   "cell_type": "code",
   "execution_count": 5,
   "metadata": {},
   "outputs": [
    {
     "name": "stdout",
     "output_type": "stream",
     "text": [
      "\n",
      " Num layers= 0\n",
      "\n",
      "*** _NNAdaNetBuilder : NN Type=CNNBase\n"
     ]
    }
   ],
   "source": [
    "import p8_util_config\n",
    "#-----------------------------------------------------------------\n",
    "# Get the number of convolutional layers for CNN network\n",
    "# This will fixe the equivalent parameter of AdaNet num layers.\n",
    "#-----------------------------------------------------------------\n",
    "num_layers = p8_util_config.dict_adanet_config['adanet_nn_layer_config']['nn_layer_config']['conv_layer_num']\n",
    "print(\"\\n Num layers= {}\".format(num_layers))\n",
    "oNNAdaNetBuilder = p8_util._NNAdaNetBuilder(p8_util_config.dict_adanet_config, num_layers=num_layers)"
   ]
  },
  {
   "cell_type": "code",
   "execution_count": 6,
   "metadata": {},
   "outputs": [],
   "source": [
    "#help(tf.train.get_global_step)"
   ]
  },
  {
   "cell_type": "code",
   "execution_count": 7,
   "metadata": {},
   "outputs": [
    {
     "name": "stdout",
     "output_type": "stream",
     "text": [
      "\n",
      " NN Type= CNNBase\n",
      "INFO:tensorflow:Using config: {'_model_dir': './tmp/baseline/CNNBase', '_tf_random_seed': 42, '_save_summary_steps': 5, '_save_checkpoints_steps': 5, '_save_checkpoints_secs': None, '_session_config': allow_soft_placement: true\n",
      "graph_options {\n",
      "  rewrite_options {\n",
      "    meta_optimizer_iterations: ONE\n",
      "  }\n",
      "}\n",
      ", '_keep_checkpoint_max': 5, '_keep_checkpoint_every_n_hours': 10000, '_log_step_count_steps': 100, '_train_distribute': None, '_device_fn': None, '_protocol': None, '_eval_distribute': None, '_experimental_distribute': None, '_service': None, '_cluster_spec': <tensorflow.python.training.server_lib.ClusterSpec object at 0x7f923b2e89b0>, '_task_type': 'worker', '_task_id': 0, '_global_id_in_cluster': 0, '_master': '', '_evaluation_master': '', '_is_chief': True, '_num_ps_replicas': 0, '_num_worker_replicas': 1}\n",
      "INFO:tensorflow:Not using Distribute Coordinator.\n",
      "INFO:tensorflow:Running training and evaluation locally (non-distributed).\n",
      "INFO:tensorflow:Start train and evaluate loop. The evaluate will happen after every checkpoint. Checkpoint frequency is determined based on RunConfig arguments: save_checkpoints_steps 5 or save_checkpoints_secs None.\n",
      "INFO:tensorflow:Calling model_fn.\n",
      "INFO:tensorflow:Done calling model_fn.\n",
      "INFO:tensorflow:Create CheckpointSaverHook.\n",
      "INFO:tensorflow:Graph was finalized.\n",
      "INFO:tensorflow:Running local_init_op.\n",
      "INFO:tensorflow:Done running local_init_op.\n",
      "INFO:tensorflow:Saving checkpoints for 0 into ./tmp/baseline/CNNBase/model.ckpt.\n",
      "INFO:tensorflow:loss = 1.1109692, step = 1\n",
      "INFO:tensorflow:Saving checkpoints for 5 into ./tmp/baseline/CNNBase/model.ckpt.\n",
      "INFO:tensorflow:Calling model_fn.\n",
      "INFO:tensorflow:Done calling model_fn.\n",
      "INFO:tensorflow:Starting evaluation at 2019-04-18-16:42:50\n",
      "INFO:tensorflow:Graph was finalized.\n",
      "INFO:tensorflow:Restoring parameters from ./tmp/baseline/CNNBase/model.ckpt-5\n",
      "INFO:tensorflow:Running local_init_op.\n",
      "INFO:tensorflow:Done running local_init_op.\n",
      "INFO:tensorflow:Finished evaluation at 2019-04-18-16:42:50\n",
      "INFO:tensorflow:Saving dict for global step 5: eval_accuracy = 0.27659574, global_step = 5, loss = 1.109757\n",
      "INFO:tensorflow:Saving 'checkpoint_path' summary for global step 5: ./tmp/baseline/CNNBase/model.ckpt-5\n",
      "INFO:tensorflow:Saving checkpoints for 10 into ./tmp/baseline/CNNBase/model.ckpt.\n",
      "INFO:tensorflow:Calling model_fn.\n",
      "INFO:tensorflow:Done calling model_fn.\n",
      "INFO:tensorflow:Starting evaluation at 2019-04-18-16:42:51\n",
      "INFO:tensorflow:Graph was finalized.\n",
      "INFO:tensorflow:Restoring parameters from ./tmp/baseline/CNNBase/model.ckpt-10\n",
      "INFO:tensorflow:Running local_init_op.\n",
      "INFO:tensorflow:Done running local_init_op.\n",
      "INFO:tensorflow:Finished evaluation at 2019-04-18-16:42:52\n",
      "INFO:tensorflow:Saving dict for global step 10: eval_accuracy = 0.25531915, global_step = 10, loss = 1.1004632\n",
      "INFO:tensorflow:Saving 'checkpoint_path' summary for global step 10: ./tmp/baseline/CNNBase/model.ckpt-10\n",
      "INFO:tensorflow:Saving checkpoints for 15 into ./tmp/baseline/CNNBase/model.ckpt.\n",
      "INFO:tensorflow:Calling model_fn.\n",
      "INFO:tensorflow:Done calling model_fn.\n",
      "INFO:tensorflow:Starting evaluation at 2019-04-18-16:42:52\n",
      "INFO:tensorflow:Graph was finalized.\n",
      "INFO:tensorflow:Restoring parameters from ./tmp/baseline/CNNBase/model.ckpt-15\n",
      "INFO:tensorflow:Running local_init_op.\n",
      "INFO:tensorflow:Done running local_init_op.\n",
      "INFO:tensorflow:Finished evaluation at 2019-04-18-16:42:53\n",
      "INFO:tensorflow:Saving dict for global step 15: eval_accuracy = 0.31914893, global_step = 15, loss = 1.1023568\n",
      "INFO:tensorflow:Saving 'checkpoint_path' summary for global step 15: ./tmp/baseline/CNNBase/model.ckpt-15\n",
      "INFO:tensorflow:Saving checkpoints for 20 into ./tmp/baseline/CNNBase/model.ckpt.\n",
      "INFO:tensorflow:Calling model_fn.\n",
      "INFO:tensorflow:Done calling model_fn.\n",
      "INFO:tensorflow:Starting evaluation at 2019-04-18-16:42:54\n",
      "INFO:tensorflow:Graph was finalized.\n",
      "INFO:tensorflow:Restoring parameters from ./tmp/baseline/CNNBase/model.ckpt-20\n",
      "INFO:tensorflow:Running local_init_op.\n",
      "INFO:tensorflow:Done running local_init_op.\n",
      "INFO:tensorflow:Finished evaluation at 2019-04-18-16:42:55\n",
      "INFO:tensorflow:Saving dict for global step 20: eval_accuracy = 0.34042552, global_step = 20, loss = 1.0979689\n",
      "INFO:tensorflow:Saving 'checkpoint_path' summary for global step 20: ./tmp/baseline/CNNBase/model.ckpt-20\n",
      "INFO:tensorflow:Saving checkpoints for 25 into ./tmp/baseline/CNNBase/model.ckpt.\n",
      "INFO:tensorflow:Calling model_fn.\n",
      "INFO:tensorflow:Done calling model_fn.\n",
      "INFO:tensorflow:Starting evaluation at 2019-04-18-16:42:56\n",
      "INFO:tensorflow:Graph was finalized.\n",
      "INFO:tensorflow:Restoring parameters from ./tmp/baseline/CNNBase/model.ckpt-25\n",
      "INFO:tensorflow:Running local_init_op.\n",
      "INFO:tensorflow:Done running local_init_op.\n",
      "INFO:tensorflow:Finished evaluation at 2019-04-18-16:42:56\n",
      "INFO:tensorflow:Saving dict for global step 25: eval_accuracy = 0.44680852, global_step = 25, loss = 1.0914422\n",
      "INFO:tensorflow:Saving 'checkpoint_path' summary for global step 25: ./tmp/baseline/CNNBase/model.ckpt-25\n",
      "INFO:tensorflow:Saving checkpoints for 30 into ./tmp/baseline/CNNBase/model.ckpt.\n",
      "INFO:tensorflow:Calling model_fn.\n",
      "INFO:tensorflow:Done calling model_fn.\n",
      "INFO:tensorflow:Starting evaluation at 2019-04-18-16:42:58\n",
      "INFO:tensorflow:Graph was finalized.\n",
      "INFO:tensorflow:Restoring parameters from ./tmp/baseline/CNNBase/model.ckpt-30\n",
      "INFO:tensorflow:Running local_init_op.\n",
      "INFO:tensorflow:Done running local_init_op.\n",
      "INFO:tensorflow:Finished evaluation at 2019-04-18-16:42:58\n",
      "INFO:tensorflow:Saving dict for global step 30: eval_accuracy = 0.38297874, global_step = 30, loss = 1.0932347\n",
      "INFO:tensorflow:Saving 'checkpoint_path' summary for global step 30: ./tmp/baseline/CNNBase/model.ckpt-30\n",
      "INFO:tensorflow:Saving checkpoints for 35 into ./tmp/baseline/CNNBase/model.ckpt.\n",
      "INFO:tensorflow:Calling model_fn.\n",
      "INFO:tensorflow:Done calling model_fn.\n",
      "INFO:tensorflow:Starting evaluation at 2019-04-18-16:42:59\n",
      "INFO:tensorflow:Graph was finalized.\n",
      "INFO:tensorflow:Restoring parameters from ./tmp/baseline/CNNBase/model.ckpt-35\n",
      "INFO:tensorflow:Running local_init_op.\n",
      "INFO:tensorflow:Done running local_init_op.\n",
      "INFO:tensorflow:Finished evaluation at 2019-04-18-16:42:59\n",
      "INFO:tensorflow:Saving dict for global step 35: eval_accuracy = 0.44680852, global_step = 35, loss = 1.086164\n",
      "INFO:tensorflow:Saving 'checkpoint_path' summary for global step 35: ./tmp/baseline/CNNBase/model.ckpt-35\n",
      "INFO:tensorflow:Saving checkpoints for 40 into ./tmp/baseline/CNNBase/model.ckpt.\n",
      "INFO:tensorflow:Calling model_fn.\n",
      "INFO:tensorflow:Done calling model_fn.\n",
      "INFO:tensorflow:Starting evaluation at 2019-04-18-16:43:00\n",
      "INFO:tensorflow:Graph was finalized.\n",
      "INFO:tensorflow:Restoring parameters from ./tmp/baseline/CNNBase/model.ckpt-40\n",
      "INFO:tensorflow:Running local_init_op.\n",
      "INFO:tensorflow:Done running local_init_op.\n",
      "INFO:tensorflow:Finished evaluation at 2019-04-18-16:43:01\n",
      "INFO:tensorflow:Saving dict for global step 40: eval_accuracy = 0.34042552, global_step = 40, loss = 1.0889637\n",
      "INFO:tensorflow:Saving 'checkpoint_path' summary for global step 40: ./tmp/baseline/CNNBase/model.ckpt-40\n",
      "INFO:tensorflow:Saving checkpoints for 45 into ./tmp/baseline/CNNBase/model.ckpt.\n",
      "INFO:tensorflow:Calling model_fn.\n",
      "INFO:tensorflow:Done calling model_fn.\n",
      "INFO:tensorflow:Starting evaluation at 2019-04-18-16:43:03\n",
      "INFO:tensorflow:Graph was finalized.\n",
      "INFO:tensorflow:Restoring parameters from ./tmp/baseline/CNNBase/model.ckpt-45\n",
      "INFO:tensorflow:Running local_init_op.\n",
      "INFO:tensorflow:Done running local_init_op.\n",
      "INFO:tensorflow:Finished evaluation at 2019-04-18-16:43:03\n",
      "INFO:tensorflow:Saving dict for global step 45: eval_accuracy = 0.44680852, global_step = 45, loss = 1.0807079\n",
      "INFO:tensorflow:Saving 'checkpoint_path' summary for global step 45: ./tmp/baseline/CNNBase/model.ckpt-45\n",
      "INFO:tensorflow:Saving checkpoints for 50 into ./tmp/baseline/CNNBase/model.ckpt.\n",
      "INFO:tensorflow:Calling model_fn.\n",
      "INFO:tensorflow:Done calling model_fn.\n",
      "INFO:tensorflow:Starting evaluation at 2019-04-18-16:43:05\n",
      "INFO:tensorflow:Graph was finalized.\n",
      "INFO:tensorflow:Restoring parameters from ./tmp/baseline/CNNBase/model.ckpt-50\n",
      "INFO:tensorflow:Running local_init_op.\n",
      "INFO:tensorflow:Done running local_init_op.\n",
      "INFO:tensorflow:Finished evaluation at 2019-04-18-16:43:05\n"
     ]
    },
    {
     "name": "stdout",
     "output_type": "stream",
     "text": [
      "INFO:tensorflow:Saving dict for global step 50: eval_accuracy = 0.44680852, global_step = 50, loss = 1.0829052\n",
      "INFO:tensorflow:Saving 'checkpoint_path' summary for global step 50: ./tmp/baseline/CNNBase/model.ckpt-50\n",
      "INFO:tensorflow:Loss for final step: 1.0800596.\n"
     ]
    }
   ],
   "source": [
    "# Parameters that will be provided to model_fn\n",
    "import p8_util_config\n",
    "\n",
    "\n",
    "params = {'net_builder':oNNAdaNetBuilder}\n",
    "nn_type = p8_util_config.dict_adanet_config['adanet_nn_layer_config']['nn_type']\n",
    "print(\"\\n NN Type= {}\".format(nn_type))\n",
    "my_config = p8_util.make_config(nn_type,output_dir=OUTPUT_DIR, is_restored=False)  \n",
    "classifier = tf.estimator.Estimator(model_fn=p8_util.my_model_fn, params=params, config=my_config)\n",
    "start_time = time.time()\n",
    "results, _ = tf.estimator.train_and_evaluate(\n",
    "    classifier,\n",
    "    train_spec=tf.estimator.TrainSpec(\n",
    "        input_fn=p8_util.input_fn(\"train\", x_train, y_train, p8_util_config.NUM_EPOCHS\\\n",
    "                          , tuple_dimension=tuple_dimension\\\n",
    "                          , batch_size=p8_util_config.BATCH_SIZE),\n",
    "        max_steps=p8_util_config.MAX_STEPS),\n",
    "    \n",
    "    eval_spec=tf.estimator.EvalSpec(\n",
    "        input_fn=p8_util.input_fn(\"test\", x_test, y_test, p8_util_config.NUM_EPOCHS\\\n",
    "                           , tuple_dimension=tuple_dimension\\\n",
    "                           , batch_size=p8_util_config.BATCH_SIZE),\n",
    "        steps=None,\n",
    "        throttle_secs=1))\n",
    "end_time = time.time()"
   ]
  },
  {
   "cell_type": "code",
   "execution_count": 8,
   "metadata": {},
   "outputs": [
    {
     "name": "stdout",
     "output_type": "stream",
     "text": [
      "\n",
      "------------------------------------------------\n",
      "Time (sec) 19.315252780914307\n",
      "EVAL_ACCURACY: 0.44680851697921753\n",
      "LOSS: 1.0829051733016968\n",
      "GLOBAL_STEP: 50\n"
     ]
    }
   ],
   "source": [
    "print(\"\\n------------------------------------------------\")\n",
    "print(\"Time (sec)\", end_time-start_time)\n",
    "for key in results.keys() :\n",
    "    title =key.upper()\n",
    "    print(\"{}: {}\".format(title, results[key]))\n"
   ]
  },
  {
   "cell_type": "raw",
   "metadata": {},
   "source": [
    "# Dense layers : 2\n",
    "Time (sec) 72.61435103416443\n",
    "EVAL_ACCURACY: 0.44680851697921753\n",
    "LOSS: 1.0787994861602783\n",
    "GLOBAL_STEP: 50"
   ]
  },
  {
   "cell_type": "code",
   "execution_count": null,
   "metadata": {},
   "outputs": [],
   "source": []
  }
 ],
 "metadata": {
  "kernelspec": {
   "display_name": "Python 3",
   "language": "python",
   "name": "python3"
  },
  "language_info": {
   "codemirror_mode": {
    "name": "ipython",
    "version": 3
   },
   "file_extension": ".py",
   "mimetype": "text/x-python",
   "name": "python",
   "nbconvert_exporter": "python",
   "pygments_lexer": "ipython3",
   "version": "3.6.8"
  }
 },
 "nbformat": 4,
 "nbformat_minor": 2
}
