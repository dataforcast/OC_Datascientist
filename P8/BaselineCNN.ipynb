{
 "cells": [
  {
   "cell_type": "code",
   "execution_count": null,
   "metadata": {},
   "outputs": [],
   "source": [
    "%load_ext autoreload\n",
    "%autoreload 2\n",
    "import time\n",
    "import tensorflow as tf\n",
    "import p8_util"
   ]
  },
  {
   "cell_type": "code",
   "execution_count": null,
   "metadata": {},
   "outputs": [],
   "source": [
    "OUTPUT_DIR = './tmp/baseline'\n",
    "datadir = './data'\n",
    "is_tensorboard = True"
   ]
  },
  {
   "cell_type": "code",
   "execution_count": null,
   "metadata": {},
   "outputs": [],
   "source": [
    "import p8_util\n",
    "filename_dataset=datadir+'/arr_keras_X_y_train_test.dump'\n",
    "x_train, x_test, y_train, y_test, nClasses, tuple_dimension = p8_util.load_dataset(filename_dataset)"
   ]
  },
  {
   "cell_type": "code",
   "execution_count": null,
   "metadata": {},
   "outputs": [],
   "source": [
    "import keras\n",
    "\n",
    "LEARNING_RATE = 1.e-2\n",
    "nn_type = 'CNN'\n",
    "nb_class = nClasses\n",
    "my_feature_columns, loss_reduction, tf_head = p8_util.get_tf_head(\"images\",tuple_dimension, nClasses)\n",
    "feature_columns = my_feature_columns\n",
    "\n",
    "optimizer=tf.train.RMSPropOptimizer(learning_rate=LEARNING_RATE)\n",
    "#optimizer = tf.train.AdagradOptimizer(learning_rate=LEARNING_RATE)\n",
    "#optimizer = keras.optimizers.SGD(lr=LEARNING_RATE, decay=1e-6, momentum=0.9, nesterov=True)\n",
    "layer_size = 50\n",
    "num_layers = 1\n",
    "learn_mixture_weights = False\n",
    "dropout = 0.5\n",
    "seed=p8_util.RANDOM_SEED\n",
    "is_cnn_batch_norm = True\n",
    "cnn_layer_config={'feature_map_size':[128]}\n",
    "initialiser_name = 'xavier'\n",
    "oNNAdaNetBuilder = p8_util._NNAdaNetBuilder(nn_type, nb_class,feature_columns, optimizer, layer_size, num_layers,\n",
    "               learn_mixture_weights, dropout, seed, is_cnn_batch_norm,cnn_layer_config, initialiser_name)"
   ]
  },
  {
   "cell_type": "code",
   "execution_count": null,
   "metadata": {},
   "outputs": [],
   "source": []
  },
  {
   "cell_type": "code",
   "execution_count": null,
   "metadata": {},
   "outputs": [],
   "source": [
    "# Parameters that will be provided to model_fn\n",
    "BATCH_SIZE = 49  #@param {type:\"integer\"}\n",
    "MAX_STEPS = 100\n",
    "params = {'learning_rate':1.e-3, 'net_builder':oNNAdaNetBuilder}\n",
    "NN_TYPE = 'CNN'\n",
    "my_config = p8_util.make_config(NN_TYPE,output_dir=OUTPUT_DIR)  \n",
    "\n",
    "classifier = tf.estimator.Estimator(model_fn=p8_util.my_model_fn, params=params, config=my_config)\n",
    "start_time = time.time()\n",
    "results, _ = tf.estimator.train_and_evaluate(\n",
    "    classifier,\n",
    "    train_spec=tf.estimator.TrainSpec(\n",
    "        input_fn=p8_util.input_fn(\"train\", x_train, y_train\\\n",
    "                          , tuple_dimension=tuple_dimension\\\n",
    "                          , training=False\\\n",
    "                          , batch_size=BATCH_SIZE),\n",
    "        max_steps=MAX_STEPS),\n",
    "    \n",
    "    eval_spec=tf.estimator.EvalSpec(\n",
    "        input_fn=p8_util.input_fn(\"test\", x_test, y_test\\\n",
    "                           , tuple_dimension=tuple_dimension\\\n",
    "                           , training=False, batch_size=BATCH_SIZE),\n",
    "        steps=None))\n",
    "end_time = time.time()"
   ]
  },
  {
   "cell_type": "code",
   "execution_count": null,
   "metadata": {},
   "outputs": [],
   "source": [
    "print(\"\\n------------------------------------------------\")\n",
    "print(\"Time (sec)\", end_time-start_time)\n",
    "for key in results.keys() :\n",
    "    title =key.upper()\n",
    "    print(\"{}: {}\".format(title, results[key]))\n"
   ]
  },
  {
   "cell_type": "code",
   "execution_count": null,
   "metadata": {},
   "outputs": [],
   "source": [
    "if is_tensorboard is True :\n",
    "    get_ipython().system_raw(\n",
    "        'tensorboard --logdir {} --host localhost --port 6006 &'\n",
    "        .format(OUTPUT_DIR)\n",
    "    )\n",
    "\n",
    "\n",
    "    get_ipython().system_raw('./assets/ngrok http 6006 &')"
   ]
  },
  {
   "cell_type": "code",
   "execution_count": null,
   "metadata": {},
   "outputs": [],
   "source": [
    "# this will kill the processes for Tensorboard\n",
    "if is_tensorboard is True :\n",
    "    !ps aux | grep tensorboard | awk '{print $2}' | xargs kill\n",
    "# this will kill the processes for ngrok\n",
    "if is_tensorboard is True :\n",
    "    !ps aux | grep ngrok | awk '{print $2}' | xargs kill    "
   ]
  },
  {
   "cell_type": "code",
   "execution_count": null,
   "metadata": {},
   "outputs": [],
   "source": [
    "help(tf.estimator.EstimatorSpec)"
   ]
  },
  {
   "cell_type": "code",
   "execution_count": null,
   "metadata": {},
   "outputs": [],
   "source": []
  }
 ],
 "metadata": {
  "kernelspec": {
   "display_name": "Python 3",
   "language": "python",
   "name": "python3"
  },
  "language_info": {
   "codemirror_mode": {
    "name": "ipython",
    "version": 3
   },
   "file_extension": ".py",
   "mimetype": "text/x-python",
   "name": "python",
   "nbconvert_exporter": "python",
   "pygments_lexer": "ipython3",
   "version": "3.6.8"
  }
 },
 "nbformat": 4,
 "nbformat_minor": 2
}
