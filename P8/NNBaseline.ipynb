{
 "cells": [
  {
   "cell_type": "code",
   "execution_count": 27,
   "metadata": {},
   "outputs": [
    {
     "name": "stdout",
     "output_type": "stream",
     "text": [
      "The autoreload extension is already loaded. To reload it, use:\n",
      "  %reload_ext autoreload\n"
     ]
    }
   ],
   "source": [
    "%load_ext autoreload\n",
    "%autoreload 2"
   ]
  },
  {
   "cell_type": "code",
   "execution_count": 2,
   "metadata": {},
   "outputs": [
    {
     "name": "stderr",
     "output_type": "stream",
     "text": [
      "Using TensorFlow backend.\n"
     ]
    }
   ],
   "source": [
    "import time\n",
    "import tensorflow as tf\n",
    "import p8_util\n",
    "import p8_util_config"
   ]
  },
  {
   "cell_type": "code",
   "execution_count": 3,
   "metadata": {},
   "outputs": [
    {
     "name": "stdout",
     "output_type": "stream",
     "text": [
      "p5_util.object_load : fileName= ./data/arr_keras_X_y_train_test.dump\n",
      "(414, 224, 224, 3) (47, 224, 224, 3) (414, 3) (47, 3)\n",
      "\n",
      "Dataset : ((414, 224, 224, 3), (47, 224, 224, 3), (414,), (47,), 3, (224, 224, 3))\n"
     ]
    }
   ],
   "source": [
    "import p8_util\n",
    "datadir = './data'\n",
    "\n",
    "filename_dataset=datadir+'/arr_keras_X_y_train_test.dump'\n",
    "x_train, x_test, y_train, y_test, nClasses, feature_shape = p8_util.load_dataset(filename_dataset,is_label_encoded=True)\n",
    "\n",
    "print(\"\\nDataset : {}\".format((x_train.shape, x_test.shape, y_train.shape, y_test.shape, nClasses, feature_shape)))"
   ]
  },
  {
   "cell_type": "code",
   "execution_count": 4,
   "metadata": {},
   "outputs": [],
   "source": [
    "OUTPUT_DIR = './tmp/baseline'\n",
    "OUTPUT_DIR_TB = './tmp'\n",
    "is_tensorboard = True"
   ]
  },
  {
   "cell_type": "code",
   "execution_count": 5,
   "metadata": {},
   "outputs": [
    {
     "name": "stdout",
     "output_type": "stream",
     "text": [
      "kill: (31361)kill: (31367)"
     ]
    }
   ],
   "source": [
    "# this will kill the processes for Tensorboard\n",
    "#is_tensorboard = True\n",
    "if is_tensorboard is True :\n",
    "    !ps aux | grep tensorboard | awk '{print $2}' | xargs kill\n",
    "# this will kill the processes for ngrok\n",
    "if is_tensorboard is True :\n",
    "    !ps aux | grep ngrok | awk '{print $2}' | xargs kill    "
   ]
  },
  {
   "cell_type": "markdown",
   "metadata": {},
   "source": [
    "#### Increase of train dataset against test dataset."
   ]
  },
  {
   "cell_type": "raw",
   "metadata": {},
   "source": [
    "import numpy as np\n",
    "x_train = np.concatenate([x_train, x_test[:27,:,:,:]], axis=0)\n",
    "x_test = x_test[27:,:,:,:]\n",
    "print(x_train.shape, x_test.shape)\n",
    "\n",
    "y_train = np.concatenate([y_train, y_test[:27]])\n",
    "y_test = y_test[27:]\n",
    "print(y_train.shape, y_test.shape)"
   ]
  },
  {
   "cell_type": "code",
   "execution_count": 6,
   "metadata": {},
   "outputs": [
    {
     "data": {
      "text/plain": [
       "'./tmp/baseline'"
      ]
     },
     "execution_count": 6,
     "metadata": {},
     "output_type": "execute_result"
    }
   ],
   "source": [
    "OUTPUT_DIR"
   ]
  },
  {
   "cell_type": "code",
   "execution_count": 30,
   "metadata": {},
   "outputs": [
    {
     "name": "stdout",
     "output_type": "stream",
     "text": [
      "Input output dir= ./tmp/baseline\n",
      "\n",
      "\n",
      "Adanet outputdir     : ............................ ./tmp/baseline/CNN\n",
      "Adanet output log    : ............................ ./tmp/baseline/CNN/CNN\n",
      "Adanet iterations    : ............................ 10\n",
      "NN type              : ............................ CNN\n",
      "Features shape       : ............................ (224, 224, 3)\n",
      "Number of layers     : ............................ None\n",
      "Dropout rate         : ............................ 0.0\n",
      "Seed value           : ............................ 42\n",
      "Nb of classes (logit): ............................ 3\n",
      "Adanet regularization: ............................ 0.001\n",
      "Weights initializer  : ............................ xavier\n",
      "Batch normalization  : ............................ True\n",
      "Learn mixture weights: ............................ True\n",
      "\n",
      "\n",
      "CNN seed             : ............................ 42\n",
      "Conv. Kernel size    : ............................ (5, 5)\n",
      "Conv. layers         : ............................ None\n",
      "Dense layers         : ............................ 2\n",
      "Units in dense layers: ............................ 128\n",
      "CNN bacth norm.      : ............................ True\n",
      "Features map size    : ............................ [64]\n",
      "Conv filters         : ............................ 32\n",
      "Strides              : ............................ 1\n",
      "Padding              : ............................ same\n",
      "Activation function  : ............................ relu\n"
     ]
    }
   ],
   "source": [
    "import p8_util\n",
    "print(\"Input output dir= {}\".format(OUTPUT_DIR))\n",
    "oNNAdaNetBuilder = p8_util.create_nn_builder(feature_shape,OUTPUT_DIR)\n",
    "oNNAdaNetBuilder.show()"
   ]
  },
  {
   "cell_type": "code",
   "execution_count": 18,
   "metadata": {},
   "outputs": [],
   "source": [
    "oNNAdaNetBuilder._last_layer"
   ]
  },
  {
   "cell_type": "code",
   "execution_count": 19,
   "metadata": {},
   "outputs": [
    {
     "data": {
      "text/plain": [
       "{'adanet_feature_columns': None,\n",
       " 'adanet_feature_shape': None,\n",
       " 'adanet_tf_head': None,\n",
       " 'adanet_lambda': 0.001,\n",
       " 'adanet_is_learn_mixture_weights': True,\n",
       " 'adanet_initial_num_layers': 1,\n",
       " 'adanet_num_layers': None,\n",
       " 'adanet_nn_candidate': 2,\n",
       " 'adanet_output_dir': './tmp/adanet',\n",
       " 'adanet_nn_layer_config': {'nn_type': 'RNN',\n",
       "  'nn_dropout_rate': 0.0,\n",
       "  'nn_batch_norm': True,\n",
       "  'nn_logit_dimension': 3,\n",
       "  'nn_optimizer': <tensorflow.python.training.adam.AdamOptimizer at 0x7f0b96400ba8>,\n",
       "  'nn_seed': 42,\n",
       "  'nn_initializer_name': 'truncated_normal',\n",
       "  'nn_layer_config': {'rnn_layer_num': 2,\n",
       "   'rnn_hidden_units': 16,\n",
       "   'rnn_timesteps': 224,\n",
       "   'rnn_cell_type': 'SGRU'}}}"
      ]
     },
     "execution_count": 19,
     "metadata": {},
     "output_type": "execute_result"
    }
   ],
   "source": [
    "p8_util_config.dict_adanet_config"
   ]
  },
  {
   "cell_type": "code",
   "execution_count": 20,
   "metadata": {},
   "outputs": [],
   "source": [
    "import p8_util\n",
    "\n",
    "batch_test = 20\n",
    "input_fn_param={'num_epochs':p8_util_config.NUM_EPOCHS,\\\n",
    "                'batch_size':p8_util_config.BATCH_SIZE,\\\n",
    "                'feature_shape': oNNAdaNetBuilder.feature_shape,\\\n",
    "               }\n",
    "train_spec=tf.estimator.TrainSpec(\n",
    "        input_fn=p8_util.input_fn(\"train\", x_train, y_train,input_fn_param),\\\n",
    "        max_steps=p8_util_config.MAX_STEPS)\n",
    "\n",
    "eval_spec=tf.estimator.EvalSpec(\n",
    "        input_fn=p8_util.input_fn(\"train\", x_train, y_train,input_fn_param),\\\n",
    "        steps=None,\\\n",
    "        throttle_secs=1)"
   ]
  },
  {
   "cell_type": "code",
   "execution_count": 21,
   "metadata": {},
   "outputs": [
    {
     "name": "stdout",
     "output_type": "stream",
     "text": [
      "INFO:tensorflow:Using config: {'_model_dir': './tmp/baseline/RNN/SGRU', '_tf_random_seed': 42, '_save_summary_steps': 10, '_save_checkpoints_steps': 10, '_save_checkpoints_secs': None, '_session_config': allow_soft_placement: true\n",
      "graph_options {\n",
      "  rewrite_options {\n",
      "    meta_optimizer_iterations: ONE\n",
      "  }\n",
      "}\n",
      ", '_keep_checkpoint_max': 5, '_keep_checkpoint_every_n_hours': 10000, '_log_step_count_steps': 100, '_train_distribute': None, '_device_fn': None, '_protocol': None, '_eval_distribute': None, '_experimental_distribute': None, '_service': None, '_cluster_spec': <tensorflow.python.training.server_lib.ClusterSpec object at 0x7f0b962d16a0>, '_task_type': 'worker', '_task_id': 0, '_global_id_in_cluster': 0, '_master': '', '_evaluation_master': '', '_is_chief': True, '_num_ps_replicas': 0, '_num_worker_replicas': 1}\n"
     ]
    },
    {
     "name": "stderr",
     "output_type": "stream",
     "text": [
      "I0513 14:57:25.972729 139689580656448 estimator.py:201] Using config: {'_model_dir': './tmp/baseline/RNN/SGRU', '_tf_random_seed': 42, '_save_summary_steps': 10, '_save_checkpoints_steps': 10, '_save_checkpoints_secs': None, '_session_config': allow_soft_placement: true\n",
      "graph_options {\n",
      "  rewrite_options {\n",
      "    meta_optimizer_iterations: ONE\n",
      "  }\n",
      "}\n",
      ", '_keep_checkpoint_max': 5, '_keep_checkpoint_every_n_hours': 10000, '_log_step_count_steps': 100, '_train_distribute': None, '_device_fn': None, '_protocol': None, '_eval_distribute': None, '_experimental_distribute': None, '_service': None, '_cluster_spec': <tensorflow.python.training.server_lib.ClusterSpec object at 0x7f0b962d16a0>, '_task_type': 'worker', '_task_id': 0, '_global_id_in_cluster': 0, '_master': '', '_evaluation_master': '', '_is_chief': True, '_num_ps_replicas': 0, '_num_worker_replicas': 1}\n"
     ]
    }
   ],
   "source": [
    "params = {'net_builder': oNNAdaNetBuilder}\n",
    "    \n",
    "classifier = tf.estimator.Estimator(model_fn=p8_util.custom_model_fn, params=params, config=oNNAdaNetBuilder.classifier_config)"
   ]
  },
  {
   "cell_type": "code",
   "execution_count": 22,
   "metadata": {},
   "outputs": [
    {
     "name": "stdout",
     "output_type": "stream",
     "text": [
      "INFO:tensorflow:Not using Distribute Coordinator.\n"
     ]
    },
    {
     "name": "stderr",
     "output_type": "stream",
     "text": [
      "I0513 14:57:26.618523 139689580656448 estimator_training.py:185] Not using Distribute Coordinator.\n"
     ]
    },
    {
     "name": "stdout",
     "output_type": "stream",
     "text": [
      "INFO:tensorflow:Running training and evaluation locally (non-distributed).\n"
     ]
    },
    {
     "name": "stderr",
     "output_type": "stream",
     "text": [
      "I0513 14:57:26.620570 139689580656448 training.py:610] Running training and evaluation locally (non-distributed).\n"
     ]
    },
    {
     "name": "stdout",
     "output_type": "stream",
     "text": [
      "INFO:tensorflow:Start train and evaluate loop. The evaluate will happen after every checkpoint. Checkpoint frequency is determined based on RunConfig arguments: save_checkpoints_steps 10 or save_checkpoints_secs None.\n"
     ]
    },
    {
     "name": "stderr",
     "output_type": "stream",
     "text": [
      "I0513 14:57:26.622045 139689580656448 training.py:698] Start train and evaluate loop. The evaluate will happen after every checkpoint. Checkpoint frequency is determined based on RunConfig arguments: save_checkpoints_steps 10 or save_checkpoints_secs None.\n"
     ]
    },
    {
     "name": "stdout",
     "output_type": "stream",
     "text": [
      "INFO:tensorflow:Calling model_fn.\n"
     ]
    },
    {
     "name": "stderr",
     "output_type": "stream",
     "text": [
      "I0513 14:57:26.686332 139689580656448 estimator.py:1111] Calling model_fn.\n"
     ]
    },
    {
     "name": "stdout",
     "output_type": "stream",
     "text": [
      "WARNING:tensorflow:From /home/bangui/Dropbox/Perso/Formation/openclassrooms/OC_Datascientist/P8/NNAdaNetBuilder.py:474: GRUCell.__init__ (from tensorflow.python.ops.rnn_cell_impl) is deprecated and will be removed in a future version.\n",
      "Instructions for updating:\n",
      "This class is equivalent as tf.keras.layers.GRUCell, and will be replaced by that in Tensorflow 2.0.\n"
     ]
    },
    {
     "name": "stderr",
     "output_type": "stream",
     "text": [
      "W0513 14:57:26.730955 139689580656448 deprecation.py:323] From /home/bangui/Dropbox/Perso/Formation/openclassrooms/OC_Datascientist/P8/NNAdaNetBuilder.py:474: GRUCell.__init__ (from tensorflow.python.ops.rnn_cell_impl) is deprecated and will be removed in a future version.\n",
      "Instructions for updating:\n",
      "This class is equivalent as tf.keras.layers.GRUCell, and will be replaced by that in Tensorflow 2.0.\n"
     ]
    },
    {
     "name": "stdout",
     "output_type": "stream",
     "text": [
      "WARNING:tensorflow:From /home/bangui/Dropbox/Perso/Formation/openclassrooms/OC_Datascientist/P8/NNAdaNetBuilder.py:475: MultiRNNCell.__init__ (from tensorflow.python.ops.rnn_cell_impl) is deprecated and will be removed in a future version.\n",
      "Instructions for updating:\n",
      "This class is equivalent as tf.keras.layers.StackedRNNCells, and will be replaced by that in Tensorflow 2.0.\n"
     ]
    },
    {
     "name": "stderr",
     "output_type": "stream",
     "text": [
      "W0513 14:57:26.739226 139689580656448 deprecation.py:323] From /home/bangui/Dropbox/Perso/Formation/openclassrooms/OC_Datascientist/P8/NNAdaNetBuilder.py:475: MultiRNNCell.__init__ (from tensorflow.python.ops.rnn_cell_impl) is deprecated and will be removed in a future version.\n",
      "Instructions for updating:\n",
      "This class is equivalent as tf.keras.layers.StackedRNNCells, and will be replaced by that in Tensorflow 2.0.\n"
     ]
    },
    {
     "name": "stdout",
     "output_type": "stream",
     "text": [
      "WARNING:tensorflow:From /home/bangui/Dropbox/Perso/Formation/openclassrooms/OC_Datascientist/P8/NNAdaNetBuilder.py:510: static_rnn (from tensorflow.python.ops.rnn) is deprecated and will be removed in a future version.\n",
      "Instructions for updating:\n",
      "Please use `keras.layers.RNN(cell, unroll=True)`, which is equivalent to this API\n"
     ]
    },
    {
     "name": "stderr",
     "output_type": "stream",
     "text": [
      "W0513 14:57:26.747207 139689580656448 deprecation.py:323] From /home/bangui/Dropbox/Perso/Formation/openclassrooms/OC_Datascientist/P8/NNAdaNetBuilder.py:510: static_rnn (from tensorflow.python.ops.rnn) is deprecated and will be removed in a future version.\n",
      "Instructions for updating:\n",
      "Please use `keras.layers.RNN(cell, unroll=True)`, which is equivalent to this API\n"
     ]
    },
    {
     "name": "stdout",
     "output_type": "stream",
     "text": [
      "\n",
      "*** _build_rnn_subnetwork() : output[-1]= Tensor(\"RNN/rnn/rnn/multi_rnn_cell/cell_1/gru_cell/add_223:0\", shape=(?, 16), dtype=float32) / Weight= <tf.Variable 'W:0' shape=(16, 3) dtype=float32_ref>\n",
      "INFO:tensorflow:Done calling model_fn.\n"
     ]
    },
    {
     "name": "stderr",
     "output_type": "stream",
     "text": [
      "I0513 14:57:56.681982 139689580656448 estimator.py:1113] Done calling model_fn.\n"
     ]
    },
    {
     "name": "stdout",
     "output_type": "stream",
     "text": [
      "INFO:tensorflow:Create CheckpointSaverHook.\n"
     ]
    },
    {
     "name": "stderr",
     "output_type": "stream",
     "text": [
      "I0513 14:57:56.684088 139689580656448 basic_session_run_hooks.py:527] Create CheckpointSaverHook.\n"
     ]
    },
    {
     "name": "stdout",
     "output_type": "stream",
     "text": [
      "INFO:tensorflow:Graph was finalized.\n"
     ]
    },
    {
     "name": "stderr",
     "output_type": "stream",
     "text": [
      "I0513 14:58:00.713674 139689580656448 monitored_session.py:222] Graph was finalized.\n"
     ]
    },
    {
     "name": "stdout",
     "output_type": "stream",
     "text": [
      "INFO:tensorflow:Running local_init_op.\n"
     ]
    },
    {
     "name": "stderr",
     "output_type": "stream",
     "text": [
      "I0513 14:58:02.390172 139689580656448 session_manager.py:491] Running local_init_op.\n"
     ]
    },
    {
     "name": "stdout",
     "output_type": "stream",
     "text": [
      "INFO:tensorflow:Done running local_init_op.\n"
     ]
    },
    {
     "name": "stderr",
     "output_type": "stream",
     "text": [
      "I0513 14:58:02.831361 139689580656448 session_manager.py:493] Done running local_init_op.\n"
     ]
    },
    {
     "name": "stdout",
     "output_type": "stream",
     "text": [
      "INFO:tensorflow:Saving checkpoints for 0 into ./tmp/baseline/RNN/SGRU/model.ckpt.\n"
     ]
    },
    {
     "name": "stderr",
     "output_type": "stream",
     "text": [
      "I0513 14:58:16.868396 139689580656448 basic_session_run_hooks.py:594] Saving checkpoints for 0 into ./tmp/baseline/RNN/SGRU/model.ckpt.\n"
     ]
    },
    {
     "name": "stdout",
     "output_type": "stream",
     "text": [
      "INFO:tensorflow:loss = 1.0992829, step = 1\n"
     ]
    },
    {
     "name": "stderr",
     "output_type": "stream",
     "text": [
      "I0513 14:59:26.431071 139689580656448 basic_session_run_hooks.py:249] loss = 1.0992829, step = 1\n"
     ]
    },
    {
     "name": "stdout",
     "output_type": "stream",
     "text": [
      "INFO:tensorflow:Saving checkpoints for 4 into ./tmp/baseline/RNN/SGRU/model.ckpt.\n"
     ]
    },
    {
     "name": "stderr",
     "output_type": "stream",
     "text": [
      "I0513 15:00:18.581709 139689580656448 basic_session_run_hooks.py:594] Saving checkpoints for 4 into ./tmp/baseline/RNN/SGRU/model.ckpt.\n"
     ]
    },
    {
     "name": "stdout",
     "output_type": "stream",
     "text": [
      "INFO:tensorflow:Calling model_fn.\n"
     ]
    },
    {
     "name": "stderr",
     "output_type": "stream",
     "text": [
      "I0513 15:00:22.072826 139689580656448 estimator.py:1111] Calling model_fn.\n"
     ]
    },
    {
     "name": "stdout",
     "output_type": "stream",
     "text": [
      "\n",
      "*** _build_rnn_subnetwork() : output[-1]= Tensor(\"RNN/rnn/rnn/multi_rnn_cell/cell_1/gru_cell/add_223:0\", shape=(?, 16), dtype=float32) / Weight= <tf.Variable 'W:0' shape=(16, 3) dtype=float32_ref>\n",
      "INFO:tensorflow:Done calling model_fn.\n"
     ]
    },
    {
     "name": "stderr",
     "output_type": "stream",
     "text": [
      "I0513 15:00:30.148750 139689580656448 estimator.py:1113] Done calling model_fn.\n"
     ]
    },
    {
     "name": "stdout",
     "output_type": "stream",
     "text": [
      "INFO:tensorflow:Starting evaluation at 2019-05-13T13:00:30Z\n"
     ]
    },
    {
     "name": "stderr",
     "output_type": "stream",
     "text": [
      "I0513 15:00:30.176557 139689580656448 evaluation.py:257] Starting evaluation at 2019-05-13T13:00:30Z\n"
     ]
    },
    {
     "name": "stdout",
     "output_type": "stream",
     "text": [
      "INFO:tensorflow:Graph was finalized.\n"
     ]
    },
    {
     "name": "stderr",
     "output_type": "stream",
     "text": [
      "I0513 15:00:30.369598 139689580656448 monitored_session.py:222] Graph was finalized.\n"
     ]
    },
    {
     "name": "stdout",
     "output_type": "stream",
     "text": [
      "INFO:tensorflow:Restoring parameters from ./tmp/baseline/RNN/SGRU/model.ckpt-4\n"
     ]
    },
    {
     "name": "stderr",
     "output_type": "stream",
     "text": [
      "I0513 15:00:30.373870 139689580656448 saver.py:1270] Restoring parameters from ./tmp/baseline/RNN/SGRU/model.ckpt-4\n"
     ]
    },
    {
     "name": "stdout",
     "output_type": "stream",
     "text": [
      "INFO:tensorflow:Running local_init_op.\n"
     ]
    },
    {
     "name": "stderr",
     "output_type": "stream",
     "text": [
      "I0513 15:00:30.987277 139689580656448 session_manager.py:491] Running local_init_op.\n"
     ]
    },
    {
     "name": "stdout",
     "output_type": "stream",
     "text": [
      "INFO:tensorflow:Done running local_init_op.\n"
     ]
    },
    {
     "name": "stderr",
     "output_type": "stream",
     "text": [
      "I0513 15:00:31.156775 139689580656448 session_manager.py:493] Done running local_init_op.\n"
     ]
    },
    {
     "name": "stdout",
     "output_type": "stream",
     "text": [
      "INFO:tensorflow:Finished evaluation at 2019-05-13-13:00:40\n"
     ]
    },
    {
     "name": "stderr",
     "output_type": "stream",
     "text": [
      "I0513 15:00:40.160512 139689580656448 evaluation.py:277] Finished evaluation at 2019-05-13-13:00:40\n"
     ]
    },
    {
     "name": "stdout",
     "output_type": "stream",
     "text": [
      "INFO:tensorflow:Saving dict for global step 4: RNN_Eval_accuracy = 0.33816424, global_step = 4, loss = 1.0985215\n"
     ]
    },
    {
     "name": "stderr",
     "output_type": "stream",
     "text": [
      "I0513 15:00:40.162508 139689580656448 estimator.py:1979] Saving dict for global step 4: RNN_Eval_accuracy = 0.33816424, global_step = 4, loss = 1.0985215\n"
     ]
    },
    {
     "name": "stdout",
     "output_type": "stream",
     "text": [
      "INFO:tensorflow:Saving 'checkpoint_path' summary for global step 4: ./tmp/baseline/RNN/SGRU/model.ckpt-4\n"
     ]
    },
    {
     "name": "stderr",
     "output_type": "stream",
     "text": [
      "I0513 15:00:41.417714 139689580656448 estimator.py:2039] Saving 'checkpoint_path' summary for global step 4: ./tmp/baseline/RNN/SGRU/model.ckpt-4\n"
     ]
    },
    {
     "name": "stdout",
     "output_type": "stream",
     "text": [
      "INFO:tensorflow:Loss for final step: 1.091985.\n"
     ]
    },
    {
     "name": "stderr",
     "output_type": "stream",
     "text": [
      "I0513 15:00:41.955684 139689580656448 estimator.py:359] Loss for final step: 1.091985.\n"
     ]
    }
   ],
   "source": [
    "import p8_util\n",
    "\n",
    "start_time = time.time()\n",
    "results, _ = tf.estimator.train_and_evaluate(classifier, train_spec=train_spec, eval_spec=eval_spec)\n",
    "end_time = time.time()"
   ]
  },
  {
   "cell_type": "code",
   "execution_count": 23,
   "metadata": {},
   "outputs": [
    {
     "name": "stdout",
     "output_type": "stream",
     "text": [
      "None\n",
      "\n",
      "\n",
      "Adanet outputdir     : ............................ ./tmp/baseline/RNN\n",
      "Adanet output log    : ............................ ./tmp/baseline/RNN/SGRU\n",
      "NN type              : ............................ RNN\n",
      "Features shape       : ............................ (224, 224, 3)\n",
      "Number of layers     : ............................ 2\n",
      "Dropout rate         : ............................ 0.0\n",
      "Seed value           : ............................ 42\n",
      "Nb of classes (logit): ............................ 3\n",
      "Adanet regularization: ............................ 0.001\n",
      "Weights initializer  : ............................ truncated_normal\n",
      "Batch normalization  : ............................ True\n",
      "Learn mixture weights: ............................ True\n",
      "\n",
      "\n",
      "Cell type            : ............................ SGRU\n",
      "Hidden units         : ............................ 16\n",
      "Stacked cells        : ............................ 2\n",
      "Time steps           : ............................ 224\n"
     ]
    }
   ],
   "source": [
    "print(oNNAdaNetBuilder._last_layer)\n",
    "oNNAdaNetBuilder.show()"
   ]
  },
  {
   "cell_type": "code",
   "execution_count": 14,
   "metadata": {
    "scrolled": true
   },
   "outputs": [
    {
     "name": "stdout",
     "output_type": "stream",
     "text": [
      "\n",
      "------------------------------------------------\n",
      "Time (sec) 3.7172183990478516\n",
      "DNN_EVAL_ACCURACY: 0.33816424012184143\n",
      "LOSS: 19.677350997924805\n",
      "GLOBAL_STEP: 4\n",
      "------------------------------------------------\n",
      "\n"
     ]
    }
   ],
   "source": [
    "print(\"\\n------------------------------------------------\")\n",
    "print(\"Time (sec)\", end_time-start_time)\n",
    "for key in results.keys() :\n",
    "    title =key.upper()\n",
    "    print(\"{}: {}\".format(title, results[key]))\n",
    "print(\"------------------------------------------------\\n\")\n"
   ]
  },
  {
   "cell_type": "code",
   "execution_count": 15,
   "metadata": {},
   "outputs": [
    {
     "data": {
      "text/plain": [
       "'./tmp/baseline/DNN/DNN'"
      ]
     },
     "execution_count": 15,
     "metadata": {},
     "output_type": "execute_result"
    }
   ],
   "source": [
    "oNNAdaNetBuilder.output_dir_log"
   ]
  },
  {
   "cell_type": "code",
   "execution_count": 16,
   "metadata": {},
   "outputs": [],
   "source": [
    "if is_tensorboard is True :\n",
    "    get_ipython().system_raw(\n",
    "        'tensorboard --logdir {} --host localhost --port 6007 &'\n",
    "        .format(oNNAdaNetBuilder.output_dir_log)\n",
    "    )\n",
    "\n",
    "\n",
    "    get_ipython().system_raw('./assets/ngrok http 6007 &')"
   ]
  },
  {
   "cell_type": "raw",
   "metadata": {},
   "source": [
    "------------------------------------------------\n",
    "Time (sec) 565.1023576259613\n",
    "RNN_EVAL_ACCURACY: 0.6499999761581421\n",
    "LOSS: 0.8784809112548828\n",
    "GLOBAL_STEP: 200\n",
    "------------------------------------------------\n",
    "NN type              : ............................ RNN\n",
    "Units in dense layer : ............................ 10\n",
    "Number of layers     : ............................ 2\n",
    "Dropout rate         : ............................ 0.0\n",
    "Seed value           : ............................ 42\n",
    "Nb of classes (logit): ............................ 3\n",
    "Weights initializer  : ............................ truncated_normal\n",
    "Batch normalization  : ............................ True\n",
    "\n",
    "\n",
    "Cell type            : ............................ SLSTM\n",
    "Hidden units         : ............................ 128\n",
    "Stacked cells        : ............................ 2\n",
    "Time steps           : ............................ 224"
   ]
  },
  {
   "cell_type": "raw",
   "metadata": {},
   "source": [
    "------------------------------------------------\n",
    "Time (sec) 86.21402406692505\n",
    "RNN_EVAL_ACCURACY: 0.699999988079071\n",
    "LOSS: 0.903887152671814\n",
    "GLOBAL_STEP: 200\n",
    "------------------------------------------------\n",
    "\n",
    "NN type              : ............................ RNN\n",
    "Units in dense layer : ............................ 10\n",
    "Number of layers     : ............................ 1\n",
    "Dropout rate         : ............................ 0.0\n",
    "Seed value           : ............................ 42\n",
    "Nb of classes (logit): ............................ 3\n",
    "Weights initializer  : ............................ truncated_normal\n",
    "Batch normalization  : ............................ True\n",
    "\n",
    "\n",
    "Cell type            : ............................ RNN\n",
    "Hidden units         : ............................ 128\n",
    "Stacked cells        : ............................ 1\n",
    "Time steps           : ............................ 224\n"
   ]
  },
  {
   "cell_type": "raw",
   "metadata": {},
   "source": [
    "------------------------------------------------\n",
    "Time (sec) 673.2258858680725\n",
    "RNN_EVAL_ACCURACY: 0.800000011920929\n",
    "LOSS: 0.7224235534667969\n",
    "GLOBAL_STEP: 200\n",
    "------------------------------------------------\n",
    "\n",
    "NN type              : ............................ RNN\n",
    "Units in dense layer : ............................ 10\n",
    "Number of layers     : ............................ 2\n",
    "Dropout rate         : ............................ 0.0\n",
    "Seed value           : ............................ 42\n",
    "Nb of classes (logit): ............................ 3\n",
    "Weights initializer  : ............................ truncated_normal\n",
    "Batch normalization  : ............................ True\n",
    "\n",
    "\n",
    "Cell type            : ............................ SGRU\n",
    "Hidden units         : ............................ 128\n",
    "Stacked cells        : ............................ 2\n",
    "Time steps           : ............................ 224\n",
    "\n",
    "Max steps= 200 / Number of EPOCH=6"
   ]
  },
  {
   "cell_type": "raw",
   "metadata": {},
   "source": [
    "------------------------------------------------\n",
    "Time (sec) 91.79598736763\n",
    "RNN_EVAL_ACCURACY: 0.5\n",
    "LOSS: 1.392293930053711\n",
    "GLOBAL_STEP: 600\n",
    "------------------------------------------------\n",
    "\n",
    "NN type              : ............................ RNN\n",
    "Units in dense layer : ............................ 10\n",
    "Number of layers     : ............................ 1\n",
    "Dropout rate         : ............................ 0.0\n",
    "Seed value           : ............................ 42\n",
    "Nb of classes (logit): ............................ 3\n",
    "Weights initializer  : ............................ truncated_normal\n",
    "Batch normalization  : ............................ True"
   ]
  },
  {
   "cell_type": "raw",
   "metadata": {},
   "source": [
    "NN type              : ............................ CNNBase\n",
    "Units in dense layer : ............................ 10\n",
    "Number of layers     : ............................ 2\n",
    "Dropout rate         : ............................ 0.0\n",
    "Seed value           : ............................ 42\n",
    "Nb of classes (logit): ............................ 3\n",
    "Weights initializer  : ............................ xavier\n",
    "Batch normalization  : ............................ True\n",
    "\n",
    "\n",
    "CNN seed             : ............................ 42\n",
    "Conv. Kernel size    : ............................ (5, 5)\n",
    "Conv. layers         : ............................ 2\n",
    "Dense layers         : ............................ 1\n",
    "Units in conv. layers: ............................ 10\n",
    "CNN bacth norm.      : ............................ True\n",
    "Features map size    : ............................ [64]\n",
    "Conv filters         : ............................ 32\n",
    "Strides              : ............................ 1\n",
    "Padding              : ............................ same\n",
    "Activation function  : ............................ relu\n",
    "    \n",
    "    \n",
    "------------------------------------------------\n",
    "Time (sec) 380.2743675708771\n",
    "CNNBASE_EVAL_ACCURACY: 0.3404255211353302\n",
    "LOSS: 7.011310577392578\n",
    "GLOBAL_STEP: 300    "
   ]
  },
  {
   "cell_type": "raw",
   "metadata": {},
   "source": [
    "NN type              : ............................ CNNBase\n",
    "Units in dense layer : ............................ 20\n",
    "Number of layers     : ............................ 3\n",
    "Dropout rate         : ............................ 0.0\n",
    "Seed value           : ............................ 42\n",
    "Nb of classes (logit): ............................ 3\n",
    "Weights initializer  : ............................ xavier\n",
    "Batch normalization  : ............................ False\n",
    "\n",
    "\n",
    "CNN seed             : ............................ 42\n",
    "Conv. Kernel size    : ............................ (5, 5)\n",
    "Conv. layers         : ............................ 3\n",
    "Dense layers         : ............................ 2\n",
    "Units in conv. layers: ............................ 20\n",
    "CNN bacth norm.      : ............................ False\n",
    "Features map size    : ............................ [128]\n",
    "Conv layers          : ............................ 3\n",
    "Conv filters         : ............................ 32\n",
    "Strides              : ............................ 1\n",
    "Padding              : ............................ same\n",
    "Activation function  : ............................ relu\n",
    "\n",
    "\n",
    "Time (sec) 262.5221884250641\n",
    "EVAL_ACCURACY: 0.3404255211353302\n",
    "LOSS: 1.0971035957336426\n",
    "GLOBAL_STEP: 50"
   ]
  },
  {
   "cell_type": "raw",
   "metadata": {},
   "source": [
    "NN type              : ............................ CNNBase\n",
    "Units in dense layer : ............................ 20\n",
    "Number of layers     : ............................ 3\n",
    "Dropout rate         : ............................ 0.0\n",
    "Seed value           : ............................ 42\n",
    "Nb of classes (logit): ............................ 3\n",
    "Weights initializer  : ............................ xavier\n",
    "Batch normalization  : ............................ True\n",
    "\n",
    "\n",
    "CNN seed             : ............................ 42\n",
    "Conv. Kernel size    : ............................ (5, 5)\n",
    "Conv. layers         : ............................ 3\n",
    "Dense layers         : ............................ 2\n",
    "Units in conv. layers: ............................ 20\n",
    "CNN bacth norm.      : ............................ True\n",
    "Features map size    : ............................ [128]\n",
    "Conv layers          : ............................ 3\n",
    "Conv filters         : ............................ 32\n",
    "Strides              : ............................ 1\n",
    "Padding              : ............................ same\n",
    "Activation function  : ............................ relu\n",
    "\n",
    "------------------------------------------------\n",
    "Time (sec) 365.59686279296875\n",
    "EVAL_ACCURACY: 0.3404255211353302\n",
    "LOSS: 1.0968201160430908\n",
    "GLOBAL_STEP: 50"
   ]
  },
  {
   "cell_type": "raw",
   "metadata": {},
   "source": [
    "NN type              : ............................ CNNBase\n",
    "Units in dense layer : ............................ 20\n",
    "Number of layers     : ............................ 3\n",
    "Dropout rate         : ............................ 0.5\n",
    "Seed value           : ............................ 42\n",
    "Nb of classes (logit): ............................ 3\n",
    "Weights initializer  : ............................ xavier\n",
    "Batch normalization  : ............................ True\n",
    "\n",
    "\n",
    "CNN seed             : ............................ 42\n",
    "Conv. Kernel size    : ............................ (5, 5)\n",
    "Conv. layers         : ............................ 3\n",
    "Dense layers         : ............................ 2\n",
    "Units in conv. layers: ............................ 20\n",
    "CNN bacth norm.      : ............................ True\n",
    "Features map size    : ............................ [128]\n",
    "Conv layers          : ............................ 3\n",
    "Conv filters         : ............................ 32\n",
    "Strides              : ............................ 1\n",
    "Padding              : ............................ same\n",
    "Activation function  : ............................ relu\n",
    "------------------------------------------------\n",
    "Time (sec) 325.2791471481323\n",
    "EVAL_ACCURACY: 0.3191489279270172\n",
    "LOSS: 1.1020725965499878\n",
    "GLOBAL_STEP: 50"
   ]
  },
  {
   "cell_type": "raw",
   "metadata": {},
   "source": [
    "NN type              : ............................ CNNBase\n",
    "Units in dense layer : ............................ 20\n",
    "Number of layers     : ............................ 0\n",
    "Dropout rate         : ............................ 0.0\n",
    "Seed value           : ............................ 42\n",
    "Nb of classes (logit): ............................ 3\n",
    "Weights initializer  : ............................ xavier\n",
    "Batch normalization  : ............................ True\n",
    "\n",
    "\n",
    "CNN seed             : ............................ 42\n",
    "Conv. Kernel size    : ............................ (5, 5)\n",
    "Conv. layers         : ............................ 0\n",
    "Dense layers         : ............................ 1\n",
    "Units in conv. layers: ............................ 20\n",
    "CNN bacth norm.      : ............................ True\n",
    "Features map size    : ............................ [128]\n",
    "Conv layers          : ............................ 0\n",
    "Conv filters         : ............................ 32\n",
    "Strides              : ............................ 1\n",
    "Padding              : ............................ same\n",
    "Activation function  : ............................ relu\n",
    "\n",
    "------------------------------------------------\n",
    "Time (sec) 77.39862394332886\n",
    "EVAL_ACCURACY: 0.5106382966041565\n",
    "LOSS: 2.0911760330200195\n",
    "GLOBAL_STEP: 200\n"
   ]
  },
  {
   "cell_type": "raw",
   "metadata": {},
   "source": [
    "\n",
    "NN type              : ............................ CNNBase\n",
    "Units in dense layer : ............................ 10\n",
    "Number of layers     : ............................ 0\n",
    "Dropout rate         : ............................ 0.0\n",
    "Seed value           : ............................ 42\n",
    "Nb of classes (logit): ............................ 3\n",
    "Weights initializer  : ............................ xavier\n",
    "Batch normalization  : ............................ True\n",
    "\n",
    "\n",
    "CNN seed             : ............................ 42\n",
    "Conv. Kernel size    : ............................ (5, 5)\n",
    "Conv. layers         : ............................ 0\n",
    "Dense layers         : ............................ 1\n",
    "Units in conv. layers: ............................ 10\n",
    "CNN bacth norm.      : ............................ True\n",
    "Features map size    : ............................ [64]\n",
    "Conv layers          : ............................ 0\n",
    "Conv filters         : ............................ 32\n",
    "Strides              : ............................ 1\n",
    "Padding              : ............................ same\n",
    "Activation function  : ............................ relu\n",
    "\n",
    "------------------------------------------------\n",
    "Time (sec) 82.09228587150574\n",
    "EVAL_ACCURACY: 0.44680851697921753\n",
    "LOSS: 2.0489394664764404\n",
    "GLOBAL_STEP: 200"
   ]
  },
  {
   "cell_type": "raw",
   "metadata": {},
   "source": [
    "NN type              : ............................ CNNBase\n",
    "Units in dense layer : ............................ 10\n",
    "Number of layers     : ............................ 0\n",
    "Dropout rate         : ............................ 0.2\n",
    "Seed value           : ............................ 42\n",
    "Nb of classes (logit): ............................ 3\n",
    "Weights initializer  : ............................ xavier\n",
    "Batch normalization  : ............................ True\n",
    "\n",
    "\n",
    "CNN seed             : ............................ 42\n",
    "Conv. Kernel size    : ............................ (5, 5)\n",
    "Conv. layers         : ............................ 0\n",
    "Dense layers         : ............................ 1\n",
    "Units in conv. layers: ............................ 10\n",
    "CNN bacth norm.      : ............................ True\n",
    "Features map size    : ............................ [64]\n",
    "Conv layers          : ............................ 0\n",
    "Conv filters         : ............................ 32\n",
    "Strides              : ............................ 1\n",
    "Padding              : ............................ same\n",
    "Activation function  : ............................ relu\n",
    "------------------------------------------------\n",
    "Time (sec) 366.10398745536804\n",
    "EVAL_ACCURACY: 0.42553192377090454\n",
    "LOSS: 1.6286356449127197\n",
    "GLOBAL_STEP: 1000"
   ]
  },
  {
   "cell_type": "raw",
   "metadata": {},
   "source": [
    "NN type              : ............................ CNNBase\n",
    "Units in dense layer : ............................ 10\n",
    "Number of layers     : ............................ 3\n",
    "Dropout rate         : ............................ 0.0\n",
    "Seed value           : ............................ 42\n",
    "Nb of classes (logit): ............................ 3\n",
    "Weights initializer  : ............................ xavier\n",
    "Batch normalization  : ............................ True\n",
    "\n",
    "\n",
    "CNN seed             : ............................ 42\n",
    "Conv. Kernel size    : ............................ (5, 5)\n",
    "Conv. layers         : ............................ 3\n",
    "Dense layers         : ............................ 1\n",
    "Units in conv. layers: ............................ 10\n",
    "CNN bacth norm.      : ............................ True\n",
    "Features map size    : ............................ [64]\n",
    "Conv filters         : ............................ 32\n",
    "Strides              : ............................ 1\n",
    "Padding              : ............................ same\n",
    "Activation function  : ............................ relu\n",
    "------------------------------------------------\n",
    "Time (sec) 413.86882281303406\n",
    "CNNBASE: EVAL ACCURACY: 0.4893617033958435\n",
    "LOSS: 1.0934101343154907\n",
    "GLOBAL_STEP: 60\n"
   ]
  },
  {
   "cell_type": "raw",
   "metadata": {},
   "source": [
    "NN type              : ............................ CNNBase\n",
    "Units in dense layer : ............................ 10\n",
    "Number of layers     : ............................ 3\n",
    "Dropout rate         : ............................ 0.0\n",
    "Seed value           : ............................ 42\n",
    "Nb of classes (logit): ............................ 3\n",
    "Weights initializer  : ............................ xavier\n",
    "Batch normalization  : ............................ True\n",
    "\n",
    "\n",
    "CNN seed             : ............................ 42\n",
    "Conv. Kernel size    : ............................ (5, 5)\n",
    "Conv. layers         : ............................ 3\n",
    "Dense layers         : ............................ 1\n",
    "Units in conv. layers: ............................ 10\n",
    "CNN bacth norm.      : ............................ True\n",
    "Features map size    : ............................ [64]\n",
    "Conv filters         : ............................ 32\n",
    "Strides              : ............................ 1\n",
    "Padding              : ............................ same\n",
    "Activation function  : ............................ relu\n",
    "------------------------------------------------\n",
    "Time (sec) 45.87497568130493\n",
    "CNNBASE_EVAL_ACCURACY: 0.3617021143436432\n",
    "LOSS: 1.0970960855484009\n",
    "GLOBAL_STEP: 9"
   ]
  }
 ],
 "metadata": {
  "kernelspec": {
   "display_name": "Python 3",
   "language": "python",
   "name": "python3"
  },
  "language_info": {
   "codemirror_mode": {
    "name": "ipython",
    "version": 3
   },
   "file_extension": ".py",
   "mimetype": "text/x-python",
   "name": "python",
   "nbconvert_exporter": "python",
   "pygments_lexer": "ipython3",
   "version": "3.6.8"
  }
 },
 "nbformat": 4,
 "nbformat_minor": 2
}
