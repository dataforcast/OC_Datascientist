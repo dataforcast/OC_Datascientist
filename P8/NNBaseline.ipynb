{
 "cells": [
  {
   "cell_type": "code",
   "execution_count": 3,
   "metadata": {},
   "outputs": [
    {
     "name": "stdout",
     "output_type": "stream",
     "text": [
      "The autoreload extension is already loaded. To reload it, use:\n",
      "  %reload_ext autoreload\n"
     ]
    }
   ],
   "source": [
    "%load_ext autoreload\n",
    "%autoreload 2"
   ]
  },
  {
   "cell_type": "code",
   "execution_count": 4,
   "metadata": {},
   "outputs": [],
   "source": [
    "import time\n",
    "import tensorflow as tf\n",
    "import p8_util\n",
    "import p8_util_config"
   ]
  },
  {
   "cell_type": "code",
   "execution_count": 5,
   "metadata": {},
   "outputs": [
    {
     "name": "stdout",
     "output_type": "stream",
     "text": [
      "p5_util.object_load : fileName= ./data/arr_keras_X_y_train_test.dump\n",
      "(414, 224, 224, 3) (47, 224, 224, 3) (414, 3) (47, 3)\n",
      "\n",
      "Dataset : ((414, 224, 224, 3), (47, 224, 224, 3), (414,), (47,), 3, (224, 224, 3))\n"
     ]
    }
   ],
   "source": [
    "import p8_util\n",
    "datadir = './data'\n",
    "\n",
    "filename_dataset=datadir+'/arr_keras_X_y_train_test.dump'\n",
    "x_train, x_test, y_train, y_test, nClasses, feature_shape = p8_util.load_dataset(filename_dataset,is_label_encoded=True)\n",
    "\n",
    "print(\"\\nDataset : {}\".format((x_train.shape, x_test.shape, y_train.shape, y_test.shape, nClasses, feature_shape)))"
   ]
  },
  {
   "cell_type": "code",
   "execution_count": 6,
   "metadata": {},
   "outputs": [],
   "source": [
    "OUTPUT_DIR = './tmp/baseline'\n",
    "OUTPUT_DIR_TB = './tmp'\n",
    "is_tensorboard = True"
   ]
  },
  {
   "cell_type": "code",
   "execution_count": 7,
   "metadata": {},
   "outputs": [
    {
     "name": "stdout",
     "output_type": "stream",
     "text": [
      "kill: (23859)kill: (23865): Aucun processus de ce type\n"
     ]
    }
   ],
   "source": [
    "# this will kill the processes for Tensorboard\n",
    "#is_tensorboard = True\n",
    "if is_tensorboard is True :\n",
    "    !ps aux | grep tensorboard | awk '{print $2}' | xargs kill\n",
    "# this will kill the processes for ngrok\n",
    "if is_tensorboard is True :\n",
    "    !ps aux | grep ngrok | awk '{print $2}' | xargs kill    "
   ]
  },
  {
   "cell_type": "markdown",
   "metadata": {},
   "source": [
    "#### Increase of train dataset against test dataset."
   ]
  },
  {
   "cell_type": "raw",
   "metadata": {},
   "source": [
    "import numpy as np\n",
    "x_train = np.concatenate([x_train, x_test[:27,:,:,:]], axis=0)\n",
    "x_test = x_test[27:,:,:,:]\n",
    "print(x_train.shape, x_test.shape)\n",
    "\n",
    "y_train = np.concatenate([y_train, y_test[:27]])\n",
    "y_test = y_test[27:]\n",
    "print(y_train.shape, y_test.shape)"
   ]
  },
  {
   "cell_type": "code",
   "execution_count": 8,
   "metadata": {},
   "outputs": [
    {
     "data": {
      "text/plain": [
       "'./tmp/baseline'"
      ]
     },
     "execution_count": 8,
     "metadata": {},
     "output_type": "execute_result"
    }
   ],
   "source": [
    "OUTPUT_DIR"
   ]
  },
  {
   "cell_type": "code",
   "execution_count": 9,
   "metadata": {
    "scrolled": true
   },
   "outputs": [
    {
     "name": "stdout",
     "output_type": "stream",
     "text": [
      "Input output dir= ./tmp/baseline\n",
      "\n",
      "\n",
      "Adanet outputdir     : ............................ ./tmp/baseline/DNN\n",
      "Adanet output log    : ............................ ./tmp/baseline/DNN/DNN\n",
      "Adanet boosting iter.: ............................ 10\n",
      "Adanet global steps  : ............................ 200\n",
      "Adanet iter per boost: ............................ 20\n",
      "NN type              : ............................ DNN\n",
      "Features shape       : ............................ (224, 224, 3)\n",
      "Number of layers     : ............................ 3\n",
      "Dropout rate         : ............................ 0.0\n",
      "Seed value           : ............................ 42\n",
      "Nb of classes (logit): ............................ 3\n",
      "Adanet regularization: ............................ 1e-05\n",
      "Weights initializer  : ............................ xavier\n",
      "Batch normalization  : ............................ True\n",
      "Learn mixture weights: ............................ True\n",
      "\n",
      "\n",
      "Number of layers     : ............................ 3\n",
      "Hidden units         : ............................ 128\n"
     ]
    }
   ],
   "source": [
    "import p8_util\n",
    "print(\"Input output dir= {}\".format(OUTPUT_DIR))\n",
    "oNNAdaNetBuilder = p8_util.create_nn_builder(feature_shape,OUTPUT_DIR)\n",
    "oNNAdaNetBuilder.show()"
   ]
  },
  {
   "cell_type": "code",
   "execution_count": 10,
   "metadata": {},
   "outputs": [
    {
     "data": {
      "text/plain": [
       "6"
      ]
     },
     "execution_count": 10,
     "metadata": {},
     "output_type": "execute_result"
    }
   ],
   "source": [
    "p8_util_config.NUM_EPOCHS, p8_util_config.BATCH_SIZE, p8_util_config.NUM_EPOCHS * p8_util_config.BATCH_SIZE, \n",
    "224//34"
   ]
  },
  {
   "cell_type": "code",
   "execution_count": 11,
   "metadata": {},
   "outputs": [
    {
     "data": {
      "text/plain": [
       "{'adanet_feature_columns': None,\n",
       " 'adanet_feature_shape': None,\n",
       " 'adanet_tf_head': None,\n",
       " 'adanet_lambda': 1e-05,\n",
       " 'adanet_is_learn_mixture_weights': True,\n",
       " 'adanet_initial_num_layers': 0,\n",
       " 'adanet_num_layers': None,\n",
       " 'adanet_nn_candidate': 2,\n",
       " 'adanet_output_dir': './tmp/adanet',\n",
       " 'adanet_nn_layer_config': {'nn_type': 'DNN',\n",
       "  'nn_dropout_rate': 0.0,\n",
       "  'nn_batch_norm': True,\n",
       "  'nn_logit_dimension': 3,\n",
       "  'nn_optimizer': <tensorflow.python.training.rmsprop.RMSPropOptimizer at 0x7f23d3f80470>,\n",
       "  'nn_seed': 42,\n",
       "  'nn_initializer_name': 'xavier',\n",
       "  'nn_layer_config': {'dnn_layer_num': 3, 'dnn_hidden_units': 128}}}"
      ]
     },
     "execution_count": 11,
     "metadata": {},
     "output_type": "execute_result"
    }
   ],
   "source": [
    "p8_util_config.dict_adanet_config"
   ]
  },
  {
   "cell_type": "code",
   "execution_count": 12,
   "metadata": {},
   "outputs": [],
   "source": [
    "import p8_util\n",
    "\n",
    "batch_test = 20\n",
    "input_fn_param={'num_epochs':p8_util_config.NUM_EPOCHS,\\\n",
    "                'batch_size':p8_util_config.BATCH_SIZE,\\\n",
    "                'feature_shape': oNNAdaNetBuilder.feature_shape,\\\n",
    "               }\n",
    "train_spec=tf.estimator.TrainSpec(\n",
    "        input_fn=p8_util.input_fn(\"train\", x_train, y_train,input_fn_param),\\\n",
    "        max_steps=p8_util_config.TRAIN_STEPS)\n",
    "\n",
    "eval_spec=tf.estimator.EvalSpec(\n",
    "        input_fn=p8_util.input_fn(\"train\", x_train, y_train,input_fn_param),\\\n",
    "        steps=None,\\\n",
    "        throttle_secs=1)"
   ]
  },
  {
   "cell_type": "code",
   "execution_count": 13,
   "metadata": {},
   "outputs": [
    {
     "name": "stdout",
     "output_type": "stream",
     "text": [
      "INFO:tensorflow:Using config: {'_model_dir': './tmp/baseline/DNN/DNN', '_tf_random_seed': 42, '_save_summary_steps': 10, '_save_checkpoints_steps': 10, '_save_checkpoints_secs': None, '_session_config': allow_soft_placement: true\n",
      "graph_options {\n",
      "  rewrite_options {\n",
      "    meta_optimizer_iterations: ONE\n",
      "  }\n",
      "}\n",
      ", '_keep_checkpoint_max': 5, '_keep_checkpoint_every_n_hours': 10000, '_log_step_count_steps': 100, '_train_distribute': None, '_device_fn': None, '_protocol': None, '_eval_distribute': None, '_experimental_distribute': None, '_service': None, '_cluster_spec': <tensorflow.python.training.server_lib.ClusterSpec object at 0x7f23d3f989b0>, '_task_type': 'worker', '_task_id': 0, '_global_id_in_cluster': 0, '_master': '', '_evaluation_master': '', '_is_chief': True, '_num_ps_replicas': 0, '_num_worker_replicas': 1}\n"
     ]
    },
    {
     "name": "stderr",
     "output_type": "stream",
     "text": [
      "WARNING: Logging before flag parsing goes to stderr.\n",
      "I0515 22:54:44.142863 139793697040192 estimator.py:201] Using config: {'_model_dir': './tmp/baseline/DNN/DNN', '_tf_random_seed': 42, '_save_summary_steps': 10, '_save_checkpoints_steps': 10, '_save_checkpoints_secs': None, '_session_config': allow_soft_placement: true\n",
      "graph_options {\n",
      "  rewrite_options {\n",
      "    meta_optimizer_iterations: ONE\n",
      "  }\n",
      "}\n",
      ", '_keep_checkpoint_max': 5, '_keep_checkpoint_every_n_hours': 10000, '_log_step_count_steps': 100, '_train_distribute': None, '_device_fn': None, '_protocol': None, '_eval_distribute': None, '_experimental_distribute': None, '_service': None, '_cluster_spec': <tensorflow.python.training.server_lib.ClusterSpec object at 0x7f23d3f989b0>, '_task_type': 'worker', '_task_id': 0, '_global_id_in_cluster': 0, '_master': '', '_evaluation_master': '', '_is_chief': True, '_num_ps_replicas': 0, '_num_worker_replicas': 1}\n"
     ]
    }
   ],
   "source": [
    "params = {'net_builder': oNNAdaNetBuilder}\n",
    "    \n",
    "classifier = tf.estimator.Estimator(model_fn=p8_util.custom_model_fn, params=params, config=oNNAdaNetBuilder.classifier_config)"
   ]
  },
  {
   "cell_type": "code",
   "execution_count": 14,
   "metadata": {},
   "outputs": [
    {
     "name": "stdout",
     "output_type": "stream",
     "text": [
      "INFO:tensorflow:Not using Distribute Coordinator.\n"
     ]
    },
    {
     "name": "stderr",
     "output_type": "stream",
     "text": [
      "I0515 22:54:44.198596 139793697040192 estimator_training.py:185] Not using Distribute Coordinator.\n"
     ]
    },
    {
     "name": "stdout",
     "output_type": "stream",
     "text": [
      "INFO:tensorflow:Running training and evaluation locally (non-distributed).\n"
     ]
    },
    {
     "name": "stderr",
     "output_type": "stream",
     "text": [
      "I0515 22:54:44.199835 139793697040192 training.py:610] Running training and evaluation locally (non-distributed).\n"
     ]
    },
    {
     "name": "stdout",
     "output_type": "stream",
     "text": [
      "INFO:tensorflow:Start train and evaluate loop. The evaluate will happen after every checkpoint. Checkpoint frequency is determined based on RunConfig arguments: save_checkpoints_steps 10 or save_checkpoints_secs None.\n"
     ]
    },
    {
     "name": "stderr",
     "output_type": "stream",
     "text": [
      "I0515 22:54:44.200726 139793697040192 training.py:698] Start train and evaluate loop. The evaluate will happen after every checkpoint. Checkpoint frequency is determined based on RunConfig arguments: save_checkpoints_steps 10 or save_checkpoints_secs None.\n"
     ]
    },
    {
     "name": "stdout",
     "output_type": "stream",
     "text": [
      "WARNING:tensorflow:From /home/bangui/anaconda3/lib/python3.6/site-packages/tensorflow/python/framework/op_def_library.py:263: colocate_with (from tensorflow.python.framework.ops) is deprecated and will be removed in a future version.\n",
      "Instructions for updating:\n",
      "Colocations handled automatically by placer.\n"
     ]
    },
    {
     "name": "stderr",
     "output_type": "stream",
     "text": [
      "W0515 22:54:44.206350 139793697040192 deprecation.py:323] From /home/bangui/anaconda3/lib/python3.6/site-packages/tensorflow/python/framework/op_def_library.py:263: colocate_with (from tensorflow.python.framework.ops) is deprecated and will be removed in a future version.\n",
      "Instructions for updating:\n",
      "Colocations handled automatically by placer.\n"
     ]
    },
    {
     "name": "stdout",
     "output_type": "stream",
     "text": [
      "WARNING:tensorflow:From /home/bangui/anaconda3/lib/python3.6/site-packages/tensorflow/python/data/ops/dataset_ops.py:429: py_func (from tensorflow.python.ops.script_ops) is deprecated and will be removed in a future version.\n",
      "Instructions for updating:\n",
      "tf.py_func is deprecated in TF V2. Instead, use\n",
      "    tf.py_function, which takes a python function which manipulates tf eager\n",
      "    tensors instead of numpy arrays. It's easy to convert a tf eager tensor to\n",
      "    an ndarray (just call tensor.numpy()) but having access to eager tensors\n",
      "    means `tf.py_function`s can use accelerators such as GPUs as well as\n",
      "    being differentiable using a gradient tape.\n",
      "    \n"
     ]
    },
    {
     "name": "stderr",
     "output_type": "stream",
     "text": [
      "W0515 22:54:44.269355 139793697040192 deprecation.py:323] From /home/bangui/anaconda3/lib/python3.6/site-packages/tensorflow/python/data/ops/dataset_ops.py:429: py_func (from tensorflow.python.ops.script_ops) is deprecated and will be removed in a future version.\n",
      "Instructions for updating:\n",
      "tf.py_func is deprecated in TF V2. Instead, use\n",
      "    tf.py_function, which takes a python function which manipulates tf eager\n",
      "    tensors instead of numpy arrays. It's easy to convert a tf eager tensor to\n",
      "    an ndarray (just call tensor.numpy()) but having access to eager tensors\n",
      "    means `tf.py_function`s can use accelerators such as GPUs as well as\n",
      "    being differentiable using a gradient tape.\n",
      "    \n"
     ]
    },
    {
     "name": "stdout",
     "output_type": "stream",
     "text": [
      "INFO:tensorflow:Calling model_fn.\n"
     ]
    },
    {
     "name": "stderr",
     "output_type": "stream",
     "text": [
      "I0515 22:54:44.415086 139793697040192 estimator.py:1111] Calling model_fn.\n"
     ]
    },
    {
     "name": "stdout",
     "output_type": "stream",
     "text": [
      "WARNING:tensorflow:From /home/bangui/anaconda3/lib/python3.6/site-packages/tensorflow/python/feature_column/feature_column.py:205: NumericColumn._get_dense_tensor (from tensorflow.python.feature_column.feature_column_v2) is deprecated and will be removed after 2018-11-30.\n",
      "Instructions for updating:\n",
      "The old _FeatureColumn APIs are being deprecated. Please use the new FeatureColumn APIs instead.\n"
     ]
    },
    {
     "name": "stderr",
     "output_type": "stream",
     "text": [
      "W0515 22:54:44.424131 139793697040192 deprecation.py:323] From /home/bangui/anaconda3/lib/python3.6/site-packages/tensorflow/python/feature_column/feature_column.py:205: NumericColumn._get_dense_tensor (from tensorflow.python.feature_column.feature_column_v2) is deprecated and will be removed after 2018-11-30.\n",
      "Instructions for updating:\n",
      "The old _FeatureColumn APIs are being deprecated. Please use the new FeatureColumn APIs instead.\n"
     ]
    },
    {
     "name": "stdout",
     "output_type": "stream",
     "text": [
      "WARNING:tensorflow:From /home/bangui/anaconda3/lib/python3.6/site-packages/tensorflow/python/feature_column/feature_column.py:2121: NumericColumn._transform_feature (from tensorflow.python.feature_column.feature_column_v2) is deprecated and will be removed after 2018-11-30.\n",
      "Instructions for updating:\n",
      "The old _FeatureColumn APIs are being deprecated. Please use the new FeatureColumn APIs instead.\n"
     ]
    },
    {
     "name": "stderr",
     "output_type": "stream",
     "text": [
      "W0515 22:54:44.427955 139793697040192 deprecation.py:323] From /home/bangui/anaconda3/lib/python3.6/site-packages/tensorflow/python/feature_column/feature_column.py:2121: NumericColumn._transform_feature (from tensorflow.python.feature_column.feature_column_v2) is deprecated and will be removed after 2018-11-30.\n",
      "Instructions for updating:\n",
      "The old _FeatureColumn APIs are being deprecated. Please use the new FeatureColumn APIs instead.\n"
     ]
    },
    {
     "name": "stdout",
     "output_type": "stream",
     "text": [
      "WARNING:tensorflow:From /home/bangui/anaconda3/lib/python3.6/site-packages/tensorflow/python/feature_column/feature_column_v2.py:2703: to_float (from tensorflow.python.ops.math_ops) is deprecated and will be removed in a future version.\n",
      "Instructions for updating:\n",
      "Use tf.cast instead.\n"
     ]
    },
    {
     "name": "stderr",
     "output_type": "stream",
     "text": [
      "W0515 22:54:44.431102 139793697040192 deprecation.py:323] From /home/bangui/anaconda3/lib/python3.6/site-packages/tensorflow/python/feature_column/feature_column_v2.py:2703: to_float (from tensorflow.python.ops.math_ops) is deprecated and will be removed in a future version.\n",
      "Instructions for updating:\n",
      "Use tf.cast instead.\n"
     ]
    },
    {
     "name": "stdout",
     "output_type": "stream",
     "text": [
      "WARNING:tensorflow:From /home/bangui/anaconda3/lib/python3.6/site-packages/tensorflow/python/feature_column/feature_column.py:206: NumericColumn._variable_shape (from tensorflow.python.feature_column.feature_column_v2) is deprecated and will be removed after 2018-11-30.\n",
      "Instructions for updating:\n",
      "The old _FeatureColumn APIs are being deprecated. Please use the new FeatureColumn APIs instead.\n"
     ]
    },
    {
     "name": "stderr",
     "output_type": "stream",
     "text": [
      "W0515 22:54:44.432930 139793697040192 deprecation.py:323] From /home/bangui/anaconda3/lib/python3.6/site-packages/tensorflow/python/feature_column/feature_column.py:206: NumericColumn._variable_shape (from tensorflow.python.feature_column.feature_column_v2) is deprecated and will be removed after 2018-11-30.\n",
      "Instructions for updating:\n",
      "The old _FeatureColumn APIs are being deprecated. Please use the new FeatureColumn APIs instead.\n"
     ]
    },
    {
     "name": "stdout",
     "output_type": "stream",
     "text": [
      "WARNING:tensorflow:From /home/bangui/Dropbox/Perso/Formation/openclassrooms/OC_Datascientist/P8/NNAdaNetBuilder.py:276: dense (from tensorflow.python.layers.core) is deprecated and will be removed in a future version.\n",
      "Instructions for updating:\n",
      "Use keras.layers.dense instead.\n"
     ]
    },
    {
     "name": "stderr",
     "output_type": "stream",
     "text": [
      "W0515 22:54:44.470332 139793697040192 deprecation.py:323] From /home/bangui/Dropbox/Perso/Formation/openclassrooms/OC_Datascientist/P8/NNAdaNetBuilder.py:276: dense (from tensorflow.python.layers.core) is deprecated and will be removed in a future version.\n",
      "Instructions for updating:\n",
      "Use keras.layers.dense instead.\n"
     ]
    },
    {
     "name": "stdout",
     "output_type": "stream",
     "text": [
      "INFO:tensorflow:Done calling model_fn.\n"
     ]
    },
    {
     "name": "stderr",
     "output_type": "stream",
     "text": [
      "I0515 22:54:44.916945 139793697040192 estimator.py:1113] Done calling model_fn.\n"
     ]
    },
    {
     "name": "stdout",
     "output_type": "stream",
     "text": [
      "INFO:tensorflow:Create CheckpointSaverHook.\n"
     ]
    },
    {
     "name": "stderr",
     "output_type": "stream",
     "text": [
      "I0515 22:54:44.921913 139793697040192 basic_session_run_hooks.py:527] Create CheckpointSaverHook.\n"
     ]
    },
    {
     "name": "stdout",
     "output_type": "stream",
     "text": [
      "INFO:tensorflow:Graph was finalized.\n"
     ]
    },
    {
     "name": "stderr",
     "output_type": "stream",
     "text": [
      "I0515 22:54:45.103877 139793697040192 monitored_session.py:222] Graph was finalized.\n"
     ]
    },
    {
     "name": "stdout",
     "output_type": "stream",
     "text": [
      "INFO:tensorflow:Running local_init_op.\n"
     ]
    },
    {
     "name": "stderr",
     "output_type": "stream",
     "text": [
      "I0515 22:54:45.719342 139793697040192 session_manager.py:491] Running local_init_op.\n"
     ]
    },
    {
     "name": "stdout",
     "output_type": "stream",
     "text": [
      "INFO:tensorflow:Done running local_init_op.\n"
     ]
    },
    {
     "name": "stderr",
     "output_type": "stream",
     "text": [
      "I0515 22:54:45.729094 139793697040192 session_manager.py:493] Done running local_init_op.\n"
     ]
    },
    {
     "name": "stdout",
     "output_type": "stream",
     "text": [
      "INFO:tensorflow:Saving checkpoints for 0 into ./tmp/baseline/DNN/DNN/model.ckpt.\n"
     ]
    },
    {
     "name": "stderr",
     "output_type": "stream",
     "text": [
      "I0515 22:54:45.940895 139793697040192 basic_session_run_hooks.py:594] Saving checkpoints for 0 into ./tmp/baseline/DNN/DNN/model.ckpt.\n"
     ]
    },
    {
     "name": "stdout",
     "output_type": "stream",
     "text": [
      "INFO:tensorflow:loss = 1.1244206, step = 1\n"
     ]
    },
    {
     "name": "stderr",
     "output_type": "stream",
     "text": [
      "I0515 22:54:46.999303 139793697040192 basic_session_run_hooks.py:249] loss = 1.1244206, step = 1\n"
     ]
    },
    {
     "name": "stdout",
     "output_type": "stream",
     "text": [
      "INFO:tensorflow:Saving checkpoints for 10 into ./tmp/baseline/DNN/DNN/model.ckpt.\n"
     ]
    },
    {
     "name": "stderr",
     "output_type": "stream",
     "text": [
      "I0515 22:54:48.718444 139793697040192 basic_session_run_hooks.py:594] Saving checkpoints for 10 into ./tmp/baseline/DNN/DNN/model.ckpt.\n"
     ]
    },
    {
     "name": "stdout",
     "output_type": "stream",
     "text": [
      "INFO:tensorflow:Calling model_fn.\n"
     ]
    },
    {
     "name": "stderr",
     "output_type": "stream",
     "text": [
      "I0515 22:54:49.010793 139793697040192 estimator.py:1111] Calling model_fn.\n"
     ]
    },
    {
     "name": "stdout",
     "output_type": "stream",
     "text": [
      "INFO:tensorflow:Done calling model_fn.\n"
     ]
    },
    {
     "name": "stderr",
     "output_type": "stream",
     "text": [
      "I0515 22:54:49.158969 139793697040192 estimator.py:1113] Done calling model_fn.\n"
     ]
    },
    {
     "name": "stdout",
     "output_type": "stream",
     "text": [
      "INFO:tensorflow:Starting evaluation at 2019-05-15T20:54:49Z\n"
     ]
    },
    {
     "name": "stderr",
     "output_type": "stream",
     "text": [
      "I0515 22:54:49.176946 139793697040192 evaluation.py:257] Starting evaluation at 2019-05-15T20:54:49Z\n"
     ]
    },
    {
     "name": "stdout",
     "output_type": "stream",
     "text": [
      "INFO:tensorflow:Graph was finalized.\n"
     ]
    },
    {
     "name": "stderr",
     "output_type": "stream",
     "text": [
      "I0515 22:54:49.319129 139793697040192 monitored_session.py:222] Graph was finalized.\n"
     ]
    },
    {
     "name": "stdout",
     "output_type": "stream",
     "text": [
      "WARNING:tensorflow:From /home/bangui/anaconda3/lib/python3.6/site-packages/tensorflow/python/training/saver.py:1266: checkpoint_exists (from tensorflow.python.training.checkpoint_management) is deprecated and will be removed in a future version.\n",
      "Instructions for updating:\n",
      "Use standard file APIs to check for files with this prefix.\n"
     ]
    },
    {
     "name": "stderr",
     "output_type": "stream",
     "text": [
      "W0515 22:54:49.320772 139793697040192 deprecation.py:323] From /home/bangui/anaconda3/lib/python3.6/site-packages/tensorflow/python/training/saver.py:1266: checkpoint_exists (from tensorflow.python.training.checkpoint_management) is deprecated and will be removed in a future version.\n",
      "Instructions for updating:\n",
      "Use standard file APIs to check for files with this prefix.\n"
     ]
    },
    {
     "name": "stdout",
     "output_type": "stream",
     "text": [
      "INFO:tensorflow:Restoring parameters from ./tmp/baseline/DNN/DNN/model.ckpt-10\n"
     ]
    },
    {
     "name": "stderr",
     "output_type": "stream",
     "text": [
      "I0515 22:54:49.327491 139793697040192 saver.py:1270] Restoring parameters from ./tmp/baseline/DNN/DNN/model.ckpt-10\n"
     ]
    },
    {
     "name": "stdout",
     "output_type": "stream",
     "text": [
      "INFO:tensorflow:Running local_init_op.\n"
     ]
    },
    {
     "name": "stderr",
     "output_type": "stream",
     "text": [
      "I0515 22:54:49.426286 139793697040192 session_manager.py:491] Running local_init_op.\n"
     ]
    },
    {
     "name": "stdout",
     "output_type": "stream",
     "text": [
      "INFO:tensorflow:Done running local_init_op.\n"
     ]
    },
    {
     "name": "stderr",
     "output_type": "stream",
     "text": [
      "I0515 22:54:49.451391 139793697040192 session_manager.py:493] Done running local_init_op.\n"
     ]
    },
    {
     "name": "stdout",
     "output_type": "stream",
     "text": [
      "INFO:tensorflow:Finished evaluation at 2019-05-15-20:55:11\n"
     ]
    },
    {
     "name": "stderr",
     "output_type": "stream",
     "text": [
      "I0515 22:55:11.469232 139793697040192 evaluation.py:277] Finished evaluation at 2019-05-15-20:55:11\n"
     ]
    },
    {
     "name": "stdout",
     "output_type": "stream",
     "text": [
      "INFO:tensorflow:Saving dict for global step 10: DNN_Eval_accuracy = 0.35748792, global_step = 10, loss = 1.0997806\n"
     ]
    },
    {
     "name": "stderr",
     "output_type": "stream",
     "text": [
      "I0515 22:55:11.470315 139793697040192 estimator.py:1979] Saving dict for global step 10: DNN_Eval_accuracy = 0.35748792, global_step = 10, loss = 1.0997806\n"
     ]
    },
    {
     "name": "stdout",
     "output_type": "stream",
     "text": [
      "INFO:tensorflow:Saving 'checkpoint_path' summary for global step 10: ./tmp/baseline/DNN/DNN/model.ckpt-10\n"
     ]
    },
    {
     "name": "stderr",
     "output_type": "stream",
     "text": [
      "I0515 22:55:11.536834 139793697040192 estimator.py:2039] Saving 'checkpoint_path' summary for global step 10: ./tmp/baseline/DNN/DNN/model.ckpt-10\n"
     ]
    },
    {
     "name": "stdout",
     "output_type": "stream",
     "text": [
      "INFO:tensorflow:Saving checkpoints for 20 into ./tmp/baseline/DNN/DNN/model.ckpt.\n"
     ]
    },
    {
     "name": "stderr",
     "output_type": "stream",
     "text": [
      "I0515 22:55:13.496883 139793697040192 basic_session_run_hooks.py:594] Saving checkpoints for 20 into ./tmp/baseline/DNN/DNN/model.ckpt.\n"
     ]
    },
    {
     "name": "stdout",
     "output_type": "stream",
     "text": [
      "INFO:tensorflow:Calling model_fn.\n"
     ]
    },
    {
     "name": "stderr",
     "output_type": "stream",
     "text": [
      "I0515 22:55:13.766873 139793697040192 estimator.py:1111] Calling model_fn.\n"
     ]
    },
    {
     "name": "stdout",
     "output_type": "stream",
     "text": [
      "INFO:tensorflow:Done calling model_fn.\n"
     ]
    },
    {
     "name": "stderr",
     "output_type": "stream",
     "text": [
      "I0515 22:55:13.898638 139793697040192 estimator.py:1113] Done calling model_fn.\n"
     ]
    },
    {
     "name": "stdout",
     "output_type": "stream",
     "text": [
      "INFO:tensorflow:Starting evaluation at 2019-05-15T20:55:13Z\n"
     ]
    },
    {
     "name": "stderr",
     "output_type": "stream",
     "text": [
      "I0515 22:55:13.927740 139793697040192 evaluation.py:257] Starting evaluation at 2019-05-15T20:55:13Z\n"
     ]
    },
    {
     "name": "stdout",
     "output_type": "stream",
     "text": [
      "INFO:tensorflow:Graph was finalized.\n"
     ]
    },
    {
     "name": "stderr",
     "output_type": "stream",
     "text": [
      "I0515 22:55:14.065022 139793697040192 monitored_session.py:222] Graph was finalized.\n"
     ]
    },
    {
     "name": "stdout",
     "output_type": "stream",
     "text": [
      "INFO:tensorflow:Restoring parameters from ./tmp/baseline/DNN/DNN/model.ckpt-20\n"
     ]
    },
    {
     "name": "stderr",
     "output_type": "stream",
     "text": [
      "I0515 22:55:14.066785 139793697040192 saver.py:1270] Restoring parameters from ./tmp/baseline/DNN/DNN/model.ckpt-20\n"
     ]
    },
    {
     "name": "stdout",
     "output_type": "stream",
     "text": [
      "INFO:tensorflow:Running local_init_op.\n"
     ]
    },
    {
     "name": "stderr",
     "output_type": "stream",
     "text": [
      "I0515 22:55:14.161152 139793697040192 session_manager.py:491] Running local_init_op.\n"
     ]
    },
    {
     "name": "stdout",
     "output_type": "stream",
     "text": [
      "INFO:tensorflow:Done running local_init_op.\n"
     ]
    },
    {
     "name": "stderr",
     "output_type": "stream",
     "text": [
      "I0515 22:55:14.174920 139793697040192 session_manager.py:493] Done running local_init_op.\n"
     ]
    },
    {
     "name": "stdout",
     "output_type": "stream",
     "text": [
      "INFO:tensorflow:Finished evaluation at 2019-05-15-20:55:40\n"
     ]
    },
    {
     "name": "stderr",
     "output_type": "stream",
     "text": [
      "I0515 22:55:40.163463 139793697040192 evaluation.py:277] Finished evaluation at 2019-05-15-20:55:40\n"
     ]
    },
    {
     "name": "stdout",
     "output_type": "stream",
     "text": [
      "INFO:tensorflow:Saving dict for global step 20: DNN_Eval_accuracy = 0.3937198, global_step = 20, loss = 1.0808696\n"
     ]
    },
    {
     "name": "stderr",
     "output_type": "stream",
     "text": [
      "I0515 22:55:40.164580 139793697040192 estimator.py:1979] Saving dict for global step 20: DNN_Eval_accuracy = 0.3937198, global_step = 20, loss = 1.0808696\n"
     ]
    },
    {
     "name": "stdout",
     "output_type": "stream",
     "text": [
      "INFO:tensorflow:Saving 'checkpoint_path' summary for global step 20: ./tmp/baseline/DNN/DNN/model.ckpt-20\n"
     ]
    },
    {
     "name": "stderr",
     "output_type": "stream",
     "text": [
      "I0515 22:55:40.166643 139793697040192 estimator.py:2039] Saving 'checkpoint_path' summary for global step 20: ./tmp/baseline/DNN/DNN/model.ckpt-20\n"
     ]
    },
    {
     "name": "stdout",
     "output_type": "stream",
     "text": [
      "INFO:tensorflow:Saving checkpoints for 30 into ./tmp/baseline/DNN/DNN/model.ckpt.\n"
     ]
    },
    {
     "name": "stderr",
     "output_type": "stream",
     "text": [
      "I0515 22:55:42.181812 139793697040192 basic_session_run_hooks.py:594] Saving checkpoints for 30 into ./tmp/baseline/DNN/DNN/model.ckpt.\n"
     ]
    },
    {
     "name": "stdout",
     "output_type": "stream",
     "text": [
      "INFO:tensorflow:Calling model_fn.\n"
     ]
    },
    {
     "name": "stderr",
     "output_type": "stream",
     "text": [
      "I0515 22:55:42.665680 139793697040192 estimator.py:1111] Calling model_fn.\n"
     ]
    },
    {
     "name": "stdout",
     "output_type": "stream",
     "text": [
      "INFO:tensorflow:Done calling model_fn.\n"
     ]
    },
    {
     "name": "stderr",
     "output_type": "stream",
     "text": [
      "I0515 22:55:42.890866 139793697040192 estimator.py:1113] Done calling model_fn.\n"
     ]
    },
    {
     "name": "stdout",
     "output_type": "stream",
     "text": [
      "INFO:tensorflow:Starting evaluation at 2019-05-15T20:55:42Z\n"
     ]
    },
    {
     "name": "stderr",
     "output_type": "stream",
     "text": [
      "I0515 22:55:42.907205 139793697040192 evaluation.py:257] Starting evaluation at 2019-05-15T20:55:42Z\n"
     ]
    },
    {
     "name": "stdout",
     "output_type": "stream",
     "text": [
      "INFO:tensorflow:Graph was finalized.\n"
     ]
    },
    {
     "name": "stderr",
     "output_type": "stream",
     "text": [
      "I0515 22:55:42.988959 139793697040192 monitored_session.py:222] Graph was finalized.\n"
     ]
    },
    {
     "name": "stdout",
     "output_type": "stream",
     "text": [
      "INFO:tensorflow:Restoring parameters from ./tmp/baseline/DNN/DNN/model.ckpt-30\n"
     ]
    },
    {
     "name": "stderr",
     "output_type": "stream",
     "text": [
      "I0515 22:55:42.991224 139793697040192 saver.py:1270] Restoring parameters from ./tmp/baseline/DNN/DNN/model.ckpt-30\n"
     ]
    },
    {
     "name": "stdout",
     "output_type": "stream",
     "text": [
      "INFO:tensorflow:Running local_init_op.\n"
     ]
    },
    {
     "name": "stderr",
     "output_type": "stream",
     "text": [
      "I0515 22:55:43.053266 139793697040192 session_manager.py:491] Running local_init_op.\n"
     ]
    },
    {
     "name": "stdout",
     "output_type": "stream",
     "text": [
      "INFO:tensorflow:Done running local_init_op.\n"
     ]
    },
    {
     "name": "stderr",
     "output_type": "stream",
     "text": [
      "I0515 22:55:43.068416 139793697040192 session_manager.py:493] Done running local_init_op.\n"
     ]
    },
    {
     "name": "stdout",
     "output_type": "stream",
     "text": [
      "INFO:tensorflow:Finished evaluation at 2019-05-15-20:56:16\n"
     ]
    },
    {
     "name": "stderr",
     "output_type": "stream",
     "text": [
      "I0515 22:56:16.453968 139793697040192 evaluation.py:277] Finished evaluation at 2019-05-15-20:56:16\n"
     ]
    },
    {
     "name": "stdout",
     "output_type": "stream",
     "text": [
      "INFO:tensorflow:Saving dict for global step 30: DNN_Eval_accuracy = 0.34299517, global_step = 30, loss = 1.323047\n"
     ]
    },
    {
     "name": "stderr",
     "output_type": "stream",
     "text": [
      "I0515 22:56:16.454960 139793697040192 estimator.py:1979] Saving dict for global step 30: DNN_Eval_accuracy = 0.34299517, global_step = 30, loss = 1.323047\n"
     ]
    },
    {
     "name": "stdout",
     "output_type": "stream",
     "text": [
      "INFO:tensorflow:Saving 'checkpoint_path' summary for global step 30: ./tmp/baseline/DNN/DNN/model.ckpt-30\n"
     ]
    },
    {
     "name": "stderr",
     "output_type": "stream",
     "text": [
      "I0515 22:56:16.456118 139793697040192 estimator.py:2039] Saving 'checkpoint_path' summary for global step 30: ./tmp/baseline/DNN/DNN/model.ckpt-30\n"
     ]
    },
    {
     "name": "stdout",
     "output_type": "stream",
     "text": [
      "INFO:tensorflow:Saving checkpoints for 40 into ./tmp/baseline/DNN/DNN/model.ckpt.\n"
     ]
    },
    {
     "name": "stderr",
     "output_type": "stream",
     "text": [
      "I0515 22:56:18.809066 139793697040192 basic_session_run_hooks.py:594] Saving checkpoints for 40 into ./tmp/baseline/DNN/DNN/model.ckpt.\n"
     ]
    },
    {
     "name": "stdout",
     "output_type": "stream",
     "text": [
      "INFO:tensorflow:Calling model_fn.\n"
     ]
    },
    {
     "name": "stderr",
     "output_type": "stream",
     "text": [
      "I0515 22:56:19.078707 139793697040192 estimator.py:1111] Calling model_fn.\n"
     ]
    },
    {
     "name": "stdout",
     "output_type": "stream",
     "text": [
      "INFO:tensorflow:Done calling model_fn.\n"
     ]
    },
    {
     "name": "stderr",
     "output_type": "stream",
     "text": [
      "I0515 22:56:19.173397 139793697040192 estimator.py:1113] Done calling model_fn.\n"
     ]
    },
    {
     "name": "stdout",
     "output_type": "stream",
     "text": [
      "INFO:tensorflow:Starting evaluation at 2019-05-15T20:56:19Z\n"
     ]
    },
    {
     "name": "stderr",
     "output_type": "stream",
     "text": [
      "I0515 22:56:19.190493 139793697040192 evaluation.py:257] Starting evaluation at 2019-05-15T20:56:19Z\n"
     ]
    },
    {
     "name": "stdout",
     "output_type": "stream",
     "text": [
      "INFO:tensorflow:Graph was finalized.\n"
     ]
    },
    {
     "name": "stderr",
     "output_type": "stream",
     "text": [
      "I0515 22:56:19.270310 139793697040192 monitored_session.py:222] Graph was finalized.\n"
     ]
    },
    {
     "name": "stdout",
     "output_type": "stream",
     "text": [
      "INFO:tensorflow:Restoring parameters from ./tmp/baseline/DNN/DNN/model.ckpt-40\n"
     ]
    },
    {
     "name": "stderr",
     "output_type": "stream",
     "text": [
      "I0515 22:56:19.273283 139793697040192 saver.py:1270] Restoring parameters from ./tmp/baseline/DNN/DNN/model.ckpt-40\n"
     ]
    },
    {
     "name": "stdout",
     "output_type": "stream",
     "text": [
      "INFO:tensorflow:Running local_init_op.\n"
     ]
    },
    {
     "name": "stderr",
     "output_type": "stream",
     "text": [
      "I0515 22:56:19.328995 139793697040192 session_manager.py:491] Running local_init_op.\n"
     ]
    },
    {
     "name": "stdout",
     "output_type": "stream",
     "text": [
      "INFO:tensorflow:Done running local_init_op.\n"
     ]
    },
    {
     "name": "stderr",
     "output_type": "stream",
     "text": [
      "I0515 22:56:19.338095 139793697040192 session_manager.py:493] Done running local_init_op.\n"
     ]
    },
    {
     "name": "stdout",
     "output_type": "stream",
     "text": [
      "INFO:tensorflow:Finished evaluation at 2019-05-15-20:56:48\n"
     ]
    },
    {
     "name": "stderr",
     "output_type": "stream",
     "text": [
      "I0515 22:56:48.313754 139793697040192 evaluation.py:277] Finished evaluation at 2019-05-15-20:56:48\n"
     ]
    },
    {
     "name": "stdout",
     "output_type": "stream",
     "text": [
      "INFO:tensorflow:Saving dict for global step 40: DNN_Eval_accuracy = 0.3647343, global_step = 40, loss = 1.0651854\n"
     ]
    },
    {
     "name": "stderr",
     "output_type": "stream",
     "text": [
      "I0515 22:56:48.314907 139793697040192 estimator.py:1979] Saving dict for global step 40: DNN_Eval_accuracy = 0.3647343, global_step = 40, loss = 1.0651854\n"
     ]
    },
    {
     "name": "stdout",
     "output_type": "stream",
     "text": [
      "INFO:tensorflow:Saving 'checkpoint_path' summary for global step 40: ./tmp/baseline/DNN/DNN/model.ckpt-40\n"
     ]
    },
    {
     "name": "stderr",
     "output_type": "stream",
     "text": [
      "I0515 22:56:48.316774 139793697040192 estimator.py:2039] Saving 'checkpoint_path' summary for global step 40: ./tmp/baseline/DNN/DNN/model.ckpt-40\n"
     ]
    },
    {
     "name": "stdout",
     "output_type": "stream",
     "text": [
      "INFO:tensorflow:Saving checkpoints for 50 into ./tmp/baseline/DNN/DNN/model.ckpt.\n"
     ]
    },
    {
     "name": "stderr",
     "output_type": "stream",
     "text": [
      "I0515 22:56:50.439095 139793697040192 basic_session_run_hooks.py:594] Saving checkpoints for 50 into ./tmp/baseline/DNN/DNN/model.ckpt.\n"
     ]
    },
    {
     "name": "stdout",
     "output_type": "stream",
     "text": [
      "WARNING:tensorflow:From /home/bangui/anaconda3/lib/python3.6/site-packages/tensorflow/python/training/saver.py:966: remove_checkpoint (from tensorflow.python.training.checkpoint_management) is deprecated and will be removed in a future version.\n",
      "Instructions for updating:\n",
      "Use standard file APIs to delete files with this prefix.\n"
     ]
    },
    {
     "name": "stderr",
     "output_type": "stream",
     "text": [
      "W0515 22:56:50.670013 139793697040192 deprecation.py:323] From /home/bangui/anaconda3/lib/python3.6/site-packages/tensorflow/python/training/saver.py:966: remove_checkpoint (from tensorflow.python.training.checkpoint_management) is deprecated and will be removed in a future version.\n",
      "Instructions for updating:\n",
      "Use standard file APIs to delete files with this prefix.\n"
     ]
    },
    {
     "name": "stdout",
     "output_type": "stream",
     "text": [
      "INFO:tensorflow:Calling model_fn.\n"
     ]
    },
    {
     "name": "stderr",
     "output_type": "stream",
     "text": [
      "I0515 22:56:50.857406 139793697040192 estimator.py:1111] Calling model_fn.\n"
     ]
    },
    {
     "name": "stdout",
     "output_type": "stream",
     "text": [
      "INFO:tensorflow:Done calling model_fn.\n"
     ]
    },
    {
     "name": "stderr",
     "output_type": "stream",
     "text": [
      "I0515 22:56:50.991462 139793697040192 estimator.py:1113] Done calling model_fn.\n"
     ]
    },
    {
     "name": "stdout",
     "output_type": "stream",
     "text": [
      "INFO:tensorflow:Starting evaluation at 2019-05-15T20:56:51Z\n"
     ]
    },
    {
     "name": "stderr",
     "output_type": "stream",
     "text": [
      "I0515 22:56:51.030077 139793697040192 evaluation.py:257] Starting evaluation at 2019-05-15T20:56:51Z\n"
     ]
    },
    {
     "name": "stdout",
     "output_type": "stream",
     "text": [
      "INFO:tensorflow:Graph was finalized.\n"
     ]
    },
    {
     "name": "stderr",
     "output_type": "stream",
     "text": [
      "I0515 22:56:51.299204 139793697040192 monitored_session.py:222] Graph was finalized.\n"
     ]
    },
    {
     "name": "stdout",
     "output_type": "stream",
     "text": [
      "INFO:tensorflow:Restoring parameters from ./tmp/baseline/DNN/DNN/model.ckpt-50\n"
     ]
    },
    {
     "name": "stderr",
     "output_type": "stream",
     "text": [
      "I0515 22:56:51.302359 139793697040192 saver.py:1270] Restoring parameters from ./tmp/baseline/DNN/DNN/model.ckpt-50\n"
     ]
    },
    {
     "name": "stdout",
     "output_type": "stream",
     "text": [
      "INFO:tensorflow:Running local_init_op.\n"
     ]
    },
    {
     "name": "stderr",
     "output_type": "stream",
     "text": [
      "I0515 22:56:51.409105 139793697040192 session_manager.py:491] Running local_init_op.\n"
     ]
    },
    {
     "name": "stdout",
     "output_type": "stream",
     "text": [
      "INFO:tensorflow:Done running local_init_op.\n"
     ]
    },
    {
     "name": "stderr",
     "output_type": "stream",
     "text": [
      "I0515 22:56:51.416581 139793697040192 session_manager.py:493] Done running local_init_op.\n"
     ]
    },
    {
     "name": "stdout",
     "output_type": "stream",
     "text": [
      "INFO:tensorflow:Finished evaluation at 2019-05-15-20:57:22\n"
     ]
    },
    {
     "name": "stderr",
     "output_type": "stream",
     "text": [
      "I0515 22:57:22.669006 139793697040192 evaluation.py:277] Finished evaluation at 2019-05-15-20:57:22\n"
     ]
    },
    {
     "name": "stdout",
     "output_type": "stream",
     "text": [
      "INFO:tensorflow:Saving dict for global step 50: DNN_Eval_accuracy = 0.33816424, global_step = 50, loss = 1.2690703\n"
     ]
    },
    {
     "name": "stderr",
     "output_type": "stream",
     "text": [
      "I0515 22:57:22.669861 139793697040192 estimator.py:1979] Saving dict for global step 50: DNN_Eval_accuracy = 0.33816424, global_step = 50, loss = 1.2690703\n"
     ]
    },
    {
     "name": "stdout",
     "output_type": "stream",
     "text": [
      "INFO:tensorflow:Saving 'checkpoint_path' summary for global step 50: ./tmp/baseline/DNN/DNN/model.ckpt-50\n"
     ]
    },
    {
     "name": "stderr",
     "output_type": "stream",
     "text": [
      "I0515 22:57:22.670983 139793697040192 estimator.py:2039] Saving 'checkpoint_path' summary for global step 50: ./tmp/baseline/DNN/DNN/model.ckpt-50\n"
     ]
    },
    {
     "name": "stdout",
     "output_type": "stream",
     "text": [
      "INFO:tensorflow:Saving checkpoints for 60 into ./tmp/baseline/DNN/DNN/model.ckpt.\n"
     ]
    },
    {
     "name": "stderr",
     "output_type": "stream",
     "text": [
      "I0515 22:57:24.584031 139793697040192 basic_session_run_hooks.py:594] Saving checkpoints for 60 into ./tmp/baseline/DNN/DNN/model.ckpt.\n"
     ]
    },
    {
     "name": "stdout",
     "output_type": "stream",
     "text": [
      "INFO:tensorflow:Calling model_fn.\n"
     ]
    },
    {
     "name": "stderr",
     "output_type": "stream",
     "text": [
      "I0515 22:57:24.860309 139793697040192 estimator.py:1111] Calling model_fn.\n"
     ]
    },
    {
     "name": "stdout",
     "output_type": "stream",
     "text": [
      "INFO:tensorflow:Done calling model_fn.\n"
     ]
    },
    {
     "name": "stderr",
     "output_type": "stream",
     "text": [
      "I0515 22:57:24.952537 139793697040192 estimator.py:1113] Done calling model_fn.\n"
     ]
    },
    {
     "name": "stdout",
     "output_type": "stream",
     "text": [
      "INFO:tensorflow:Starting evaluation at 2019-05-15T20:57:24Z\n"
     ]
    },
    {
     "name": "stderr",
     "output_type": "stream",
     "text": [
      "I0515 22:57:24.967643 139793697040192 evaluation.py:257] Starting evaluation at 2019-05-15T20:57:24Z\n"
     ]
    },
    {
     "name": "stdout",
     "output_type": "stream",
     "text": [
      "INFO:tensorflow:Graph was finalized.\n"
     ]
    },
    {
     "name": "stderr",
     "output_type": "stream",
     "text": [
      "I0515 22:57:25.044011 139793697040192 monitored_session.py:222] Graph was finalized.\n"
     ]
    },
    {
     "name": "stdout",
     "output_type": "stream",
     "text": [
      "INFO:tensorflow:Restoring parameters from ./tmp/baseline/DNN/DNN/model.ckpt-60\n"
     ]
    },
    {
     "name": "stderr",
     "output_type": "stream",
     "text": [
      "I0515 22:57:25.045702 139793697040192 saver.py:1270] Restoring parameters from ./tmp/baseline/DNN/DNN/model.ckpt-60\n"
     ]
    },
    {
     "name": "stdout",
     "output_type": "stream",
     "text": [
      "INFO:tensorflow:Running local_init_op.\n"
     ]
    },
    {
     "name": "stderr",
     "output_type": "stream",
     "text": [
      "I0515 22:57:25.098784 139793697040192 session_manager.py:491] Running local_init_op.\n"
     ]
    },
    {
     "name": "stdout",
     "output_type": "stream",
     "text": [
      "INFO:tensorflow:Done running local_init_op.\n"
     ]
    },
    {
     "name": "stderr",
     "output_type": "stream",
     "text": [
      "I0515 22:57:25.106324 139793697040192 session_manager.py:493] Done running local_init_op.\n"
     ]
    },
    {
     "name": "stdout",
     "output_type": "stream",
     "text": [
      "INFO:tensorflow:Finished evaluation at 2019-05-15-20:57:50\n"
     ]
    },
    {
     "name": "stderr",
     "output_type": "stream",
     "text": [
      "I0515 22:57:50.658817 139793697040192 evaluation.py:277] Finished evaluation at 2019-05-15-20:57:50\n"
     ]
    },
    {
     "name": "stdout",
     "output_type": "stream",
     "text": [
      "INFO:tensorflow:Saving dict for global step 60: DNN_Eval_accuracy = 0.33816424, global_step = 60, loss = 1.1607144\n"
     ]
    },
    {
     "name": "stderr",
     "output_type": "stream",
     "text": [
      "I0515 22:57:50.659885 139793697040192 estimator.py:1979] Saving dict for global step 60: DNN_Eval_accuracy = 0.33816424, global_step = 60, loss = 1.1607144\n"
     ]
    },
    {
     "name": "stdout",
     "output_type": "stream",
     "text": [
      "INFO:tensorflow:Saving 'checkpoint_path' summary for global step 60: ./tmp/baseline/DNN/DNN/model.ckpt-60\n"
     ]
    },
    {
     "name": "stderr",
     "output_type": "stream",
     "text": [
      "I0515 22:57:50.661228 139793697040192 estimator.py:2039] Saving 'checkpoint_path' summary for global step 60: ./tmp/baseline/DNN/DNN/model.ckpt-60\n"
     ]
    },
    {
     "name": "stdout",
     "output_type": "stream",
     "text": [
      "INFO:tensorflow:Saving checkpoints for 70 into ./tmp/baseline/DNN/DNN/model.ckpt.\n"
     ]
    },
    {
     "name": "stderr",
     "output_type": "stream",
     "text": [
      "I0515 22:57:53.209659 139793697040192 basic_session_run_hooks.py:594] Saving checkpoints for 70 into ./tmp/baseline/DNN/DNN/model.ckpt.\n"
     ]
    },
    {
     "name": "stdout",
     "output_type": "stream",
     "text": [
      "INFO:tensorflow:Calling model_fn.\n"
     ]
    },
    {
     "name": "stderr",
     "output_type": "stream",
     "text": [
      "I0515 22:57:53.792135 139793697040192 estimator.py:1111] Calling model_fn.\n"
     ]
    },
    {
     "name": "stdout",
     "output_type": "stream",
     "text": [
      "INFO:tensorflow:Done calling model_fn.\n"
     ]
    },
    {
     "name": "stderr",
     "output_type": "stream",
     "text": [
      "I0515 22:57:54.049192 139793697040192 estimator.py:1113] Done calling model_fn.\n"
     ]
    },
    {
     "name": "stdout",
     "output_type": "stream",
     "text": [
      "INFO:tensorflow:Starting evaluation at 2019-05-15T20:57:54Z\n"
     ]
    },
    {
     "name": "stderr",
     "output_type": "stream",
     "text": [
      "I0515 22:57:54.089235 139793697040192 evaluation.py:257] Starting evaluation at 2019-05-15T20:57:54Z\n"
     ]
    },
    {
     "name": "stdout",
     "output_type": "stream",
     "text": [
      "INFO:tensorflow:Graph was finalized.\n"
     ]
    },
    {
     "name": "stderr",
     "output_type": "stream",
     "text": [
      "I0515 22:57:54.235044 139793697040192 monitored_session.py:222] Graph was finalized.\n"
     ]
    },
    {
     "name": "stdout",
     "output_type": "stream",
     "text": [
      "INFO:tensorflow:Restoring parameters from ./tmp/baseline/DNN/DNN/model.ckpt-70\n"
     ]
    },
    {
     "name": "stderr",
     "output_type": "stream",
     "text": [
      "I0515 22:57:54.239484 139793697040192 saver.py:1270] Restoring parameters from ./tmp/baseline/DNN/DNN/model.ckpt-70\n"
     ]
    },
    {
     "name": "stdout",
     "output_type": "stream",
     "text": [
      "INFO:tensorflow:Running local_init_op.\n"
     ]
    },
    {
     "name": "stderr",
     "output_type": "stream",
     "text": [
      "I0515 22:57:54.368871 139793697040192 session_manager.py:491] Running local_init_op.\n"
     ]
    },
    {
     "name": "stdout",
     "output_type": "stream",
     "text": [
      "INFO:tensorflow:Done running local_init_op.\n"
     ]
    },
    {
     "name": "stderr",
     "output_type": "stream",
     "text": [
      "I0515 22:57:54.385174 139793697040192 session_manager.py:493] Done running local_init_op.\n"
     ]
    },
    {
     "name": "stdout",
     "output_type": "stream",
     "text": [
      "INFO:tensorflow:Finished evaluation at 2019-05-15-20:58:21\n"
     ]
    },
    {
     "name": "stderr",
     "output_type": "stream",
     "text": [
      "I0515 22:58:21.605992 139793697040192 evaluation.py:277] Finished evaluation at 2019-05-15-20:58:21\n"
     ]
    },
    {
     "name": "stdout",
     "output_type": "stream",
     "text": [
      "INFO:tensorflow:Saving dict for global step 70: DNN_Eval_accuracy = 0.3236715, global_step = 70, loss = 1.1141157\n"
     ]
    },
    {
     "name": "stderr",
     "output_type": "stream",
     "text": [
      "I0515 22:58:21.606999 139793697040192 estimator.py:1979] Saving dict for global step 70: DNN_Eval_accuracy = 0.3236715, global_step = 70, loss = 1.1141157\n"
     ]
    },
    {
     "name": "stdout",
     "output_type": "stream",
     "text": [
      "INFO:tensorflow:Saving 'checkpoint_path' summary for global step 70: ./tmp/baseline/DNN/DNN/model.ckpt-70\n"
     ]
    },
    {
     "name": "stderr",
     "output_type": "stream",
     "text": [
      "I0515 22:58:21.608029 139793697040192 estimator.py:2039] Saving 'checkpoint_path' summary for global step 70: ./tmp/baseline/DNN/DNN/model.ckpt-70\n"
     ]
    },
    {
     "name": "stdout",
     "output_type": "stream",
     "text": [
      "INFO:tensorflow:Saving checkpoints for 80 into ./tmp/baseline/DNN/DNN/model.ckpt.\n"
     ]
    },
    {
     "name": "stderr",
     "output_type": "stream",
     "text": [
      "I0515 22:58:24.073239 139793697040192 basic_session_run_hooks.py:594] Saving checkpoints for 80 into ./tmp/baseline/DNN/DNN/model.ckpt.\n"
     ]
    },
    {
     "name": "stdout",
     "output_type": "stream",
     "text": [
      "INFO:tensorflow:Calling model_fn.\n"
     ]
    },
    {
     "name": "stderr",
     "output_type": "stream",
     "text": [
      "I0515 22:58:24.347710 139793697040192 estimator.py:1111] Calling model_fn.\n"
     ]
    },
    {
     "name": "stdout",
     "output_type": "stream",
     "text": [
      "INFO:tensorflow:Done calling model_fn.\n"
     ]
    },
    {
     "name": "stderr",
     "output_type": "stream",
     "text": [
      "I0515 22:58:24.443817 139793697040192 estimator.py:1113] Done calling model_fn.\n"
     ]
    },
    {
     "name": "stdout",
     "output_type": "stream",
     "text": [
      "INFO:tensorflow:Starting evaluation at 2019-05-15T20:58:24Z\n"
     ]
    },
    {
     "name": "stderr",
     "output_type": "stream",
     "text": [
      "I0515 22:58:24.465541 139793697040192 evaluation.py:257] Starting evaluation at 2019-05-15T20:58:24Z\n"
     ]
    },
    {
     "name": "stdout",
     "output_type": "stream",
     "text": [
      "INFO:tensorflow:Graph was finalized.\n"
     ]
    },
    {
     "name": "stderr",
     "output_type": "stream",
     "text": [
      "I0515 22:58:24.646214 139793697040192 monitored_session.py:222] Graph was finalized.\n"
     ]
    },
    {
     "name": "stdout",
     "output_type": "stream",
     "text": [
      "INFO:tensorflow:Restoring parameters from ./tmp/baseline/DNN/DNN/model.ckpt-80\n"
     ]
    },
    {
     "name": "stderr",
     "output_type": "stream",
     "text": [
      "I0515 22:58:24.649542 139793697040192 saver.py:1270] Restoring parameters from ./tmp/baseline/DNN/DNN/model.ckpt-80\n"
     ]
    },
    {
     "name": "stdout",
     "output_type": "stream",
     "text": [
      "INFO:tensorflow:Running local_init_op.\n"
     ]
    },
    {
     "name": "stderr",
     "output_type": "stream",
     "text": [
      "I0515 22:58:24.726317 139793697040192 session_manager.py:491] Running local_init_op.\n"
     ]
    },
    {
     "name": "stdout",
     "output_type": "stream",
     "text": [
      "INFO:tensorflow:Done running local_init_op.\n"
     ]
    },
    {
     "name": "stderr",
     "output_type": "stream",
     "text": [
      "I0515 22:58:24.733273 139793697040192 session_manager.py:493] Done running local_init_op.\n"
     ]
    },
    {
     "name": "stdout",
     "output_type": "stream",
     "text": [
      "INFO:tensorflow:Finished evaluation at 2019-05-15-20:58:49\n"
     ]
    },
    {
     "name": "stderr",
     "output_type": "stream",
     "text": [
      "I0515 22:58:49.460345 139793697040192 evaluation.py:277] Finished evaluation at 2019-05-15-20:58:49\n"
     ]
    },
    {
     "name": "stdout",
     "output_type": "stream",
     "text": [
      "INFO:tensorflow:Saving dict for global step 80: DNN_Eval_accuracy = 0.34299517, global_step = 80, loss = 1.0835629\n"
     ]
    },
    {
     "name": "stderr",
     "output_type": "stream",
     "text": [
      "I0515 22:58:49.466715 139793697040192 estimator.py:1979] Saving dict for global step 80: DNN_Eval_accuracy = 0.34299517, global_step = 80, loss = 1.0835629\n"
     ]
    },
    {
     "name": "stdout",
     "output_type": "stream",
     "text": [
      "INFO:tensorflow:Saving 'checkpoint_path' summary for global step 80: ./tmp/baseline/DNN/DNN/model.ckpt-80\n"
     ]
    },
    {
     "name": "stderr",
     "output_type": "stream",
     "text": [
      "I0515 22:58:49.472654 139793697040192 estimator.py:2039] Saving 'checkpoint_path' summary for global step 80: ./tmp/baseline/DNN/DNN/model.ckpt-80\n"
     ]
    },
    {
     "name": "stdout",
     "output_type": "stream",
     "text": [
      "INFO:tensorflow:Saving checkpoints for 90 into ./tmp/baseline/DNN/DNN/model.ckpt.\n"
     ]
    },
    {
     "name": "stderr",
     "output_type": "stream",
     "text": [
      "I0515 22:58:51.641920 139793697040192 basic_session_run_hooks.py:594] Saving checkpoints for 90 into ./tmp/baseline/DNN/DNN/model.ckpt.\n"
     ]
    },
    {
     "name": "stdout",
     "output_type": "stream",
     "text": [
      "INFO:tensorflow:Calling model_fn.\n"
     ]
    },
    {
     "name": "stderr",
     "output_type": "stream",
     "text": [
      "I0515 22:58:51.957339 139793697040192 estimator.py:1111] Calling model_fn.\n"
     ]
    },
    {
     "name": "stdout",
     "output_type": "stream",
     "text": [
      "INFO:tensorflow:Done calling model_fn.\n"
     ]
    },
    {
     "name": "stderr",
     "output_type": "stream",
     "text": [
      "I0515 22:58:52.042707 139793697040192 estimator.py:1113] Done calling model_fn.\n"
     ]
    },
    {
     "name": "stdout",
     "output_type": "stream",
     "text": [
      "INFO:tensorflow:Starting evaluation at 2019-05-15T20:58:52Z\n"
     ]
    },
    {
     "name": "stderr",
     "output_type": "stream",
     "text": [
      "I0515 22:58:52.068940 139793697040192 evaluation.py:257] Starting evaluation at 2019-05-15T20:58:52Z\n"
     ]
    },
    {
     "name": "stdout",
     "output_type": "stream",
     "text": [
      "INFO:tensorflow:Graph was finalized.\n"
     ]
    },
    {
     "name": "stderr",
     "output_type": "stream",
     "text": [
      "I0515 22:58:52.134974 139793697040192 monitored_session.py:222] Graph was finalized.\n"
     ]
    },
    {
     "name": "stdout",
     "output_type": "stream",
     "text": [
      "INFO:tensorflow:Restoring parameters from ./tmp/baseline/DNN/DNN/model.ckpt-90\n"
     ]
    },
    {
     "name": "stderr",
     "output_type": "stream",
     "text": [
      "I0515 22:58:52.137815 139793697040192 saver.py:1270] Restoring parameters from ./tmp/baseline/DNN/DNN/model.ckpt-90\n"
     ]
    },
    {
     "name": "stdout",
     "output_type": "stream",
     "text": [
      "INFO:tensorflow:Running local_init_op.\n"
     ]
    },
    {
     "name": "stderr",
     "output_type": "stream",
     "text": [
      "I0515 22:58:52.205517 139793697040192 session_manager.py:491] Running local_init_op.\n"
     ]
    },
    {
     "name": "stdout",
     "output_type": "stream",
     "text": [
      "INFO:tensorflow:Done running local_init_op.\n"
     ]
    },
    {
     "name": "stderr",
     "output_type": "stream",
     "text": [
      "I0515 22:58:52.212269 139793697040192 session_manager.py:493] Done running local_init_op.\n"
     ]
    },
    {
     "name": "stdout",
     "output_type": "stream",
     "text": [
      "INFO:tensorflow:Finished evaluation at 2019-05-15-20:59:16\n"
     ]
    },
    {
     "name": "stderr",
     "output_type": "stream",
     "text": [
      "I0515 22:59:16.510082 139793697040192 evaluation.py:277] Finished evaluation at 2019-05-15-20:59:16\n"
     ]
    },
    {
     "name": "stdout",
     "output_type": "stream",
     "text": [
      "INFO:tensorflow:Saving dict for global step 90: DNN_Eval_accuracy = 0.33816424, global_step = 90, loss = 1.1936939\n"
     ]
    },
    {
     "name": "stderr",
     "output_type": "stream",
     "text": [
      "I0515 22:59:16.511081 139793697040192 estimator.py:1979] Saving dict for global step 90: DNN_Eval_accuracy = 0.33816424, global_step = 90, loss = 1.1936939\n"
     ]
    },
    {
     "name": "stdout",
     "output_type": "stream",
     "text": [
      "INFO:tensorflow:Saving 'checkpoint_path' summary for global step 90: ./tmp/baseline/DNN/DNN/model.ckpt-90\n"
     ]
    },
    {
     "name": "stderr",
     "output_type": "stream",
     "text": [
      "I0515 22:59:16.512207 139793697040192 estimator.py:2039] Saving 'checkpoint_path' summary for global step 90: ./tmp/baseline/DNN/DNN/model.ckpt-90\n"
     ]
    },
    {
     "name": "stdout",
     "output_type": "stream",
     "text": [
      "INFO:tensorflow:Saving checkpoints for 100 into ./tmp/baseline/DNN/DNN/model.ckpt.\n"
     ]
    },
    {
     "name": "stderr",
     "output_type": "stream",
     "text": [
      "I0515 22:59:19.447681 139793697040192 basic_session_run_hooks.py:594] Saving checkpoints for 100 into ./tmp/baseline/DNN/DNN/model.ckpt.\n"
     ]
    },
    {
     "name": "stdout",
     "output_type": "stream",
     "text": [
      "INFO:tensorflow:Calling model_fn.\n"
     ]
    },
    {
     "name": "stderr",
     "output_type": "stream",
     "text": [
      "I0515 22:59:19.740777 139793697040192 estimator.py:1111] Calling model_fn.\n"
     ]
    },
    {
     "name": "stdout",
     "output_type": "stream",
     "text": [
      "INFO:tensorflow:Done calling model_fn.\n"
     ]
    },
    {
     "name": "stderr",
     "output_type": "stream",
     "text": [
      "I0515 22:59:19.838164 139793697040192 estimator.py:1113] Done calling model_fn.\n"
     ]
    },
    {
     "name": "stdout",
     "output_type": "stream",
     "text": [
      "INFO:tensorflow:Starting evaluation at 2019-05-15T20:59:19Z\n"
     ]
    },
    {
     "name": "stderr",
     "output_type": "stream",
     "text": [
      "I0515 22:59:19.853708 139793697040192 evaluation.py:257] Starting evaluation at 2019-05-15T20:59:19Z\n"
     ]
    },
    {
     "name": "stdout",
     "output_type": "stream",
     "text": [
      "INFO:tensorflow:Graph was finalized.\n"
     ]
    },
    {
     "name": "stderr",
     "output_type": "stream",
     "text": [
      "I0515 22:59:19.929395 139793697040192 monitored_session.py:222] Graph was finalized.\n"
     ]
    },
    {
     "name": "stdout",
     "output_type": "stream",
     "text": [
      "INFO:tensorflow:Restoring parameters from ./tmp/baseline/DNN/DNN/model.ckpt-100\n"
     ]
    },
    {
     "name": "stderr",
     "output_type": "stream",
     "text": [
      "I0515 22:59:19.931693 139793697040192 saver.py:1270] Restoring parameters from ./tmp/baseline/DNN/DNN/model.ckpt-100\n"
     ]
    },
    {
     "name": "stdout",
     "output_type": "stream",
     "text": [
      "INFO:tensorflow:Running local_init_op.\n"
     ]
    },
    {
     "name": "stderr",
     "output_type": "stream",
     "text": [
      "I0515 22:59:19.993612 139793697040192 session_manager.py:491] Running local_init_op.\n"
     ]
    },
    {
     "name": "stdout",
     "output_type": "stream",
     "text": [
      "INFO:tensorflow:Done running local_init_op.\n"
     ]
    },
    {
     "name": "stderr",
     "output_type": "stream",
     "text": [
      "I0515 22:59:19.999979 139793697040192 session_manager.py:493] Done running local_init_op.\n"
     ]
    },
    {
     "name": "stdout",
     "output_type": "stream",
     "text": [
      "INFO:tensorflow:Finished evaluation at 2019-05-15-20:59:57\n"
     ]
    },
    {
     "name": "stderr",
     "output_type": "stream",
     "text": [
      "I0515 22:59:57.681292 139793697040192 evaluation.py:277] Finished evaluation at 2019-05-15-20:59:57\n"
     ]
    },
    {
     "name": "stdout",
     "output_type": "stream",
     "text": [
      "INFO:tensorflow:Saving dict for global step 100: DNN_Eval_accuracy = 0.33816424, global_step = 100, loss = 1.09858\n"
     ]
    },
    {
     "name": "stderr",
     "output_type": "stream",
     "text": [
      "I0515 22:59:57.682265 139793697040192 estimator.py:1979] Saving dict for global step 100: DNN_Eval_accuracy = 0.33816424, global_step = 100, loss = 1.09858\n"
     ]
    },
    {
     "name": "stdout",
     "output_type": "stream",
     "text": [
      "INFO:tensorflow:Saving 'checkpoint_path' summary for global step 100: ./tmp/baseline/DNN/DNN/model.ckpt-100\n"
     ]
    },
    {
     "name": "stderr",
     "output_type": "stream",
     "text": [
      "I0515 22:59:57.683355 139793697040192 estimator.py:2039] Saving 'checkpoint_path' summary for global step 100: ./tmp/baseline/DNN/DNN/model.ckpt-100\n"
     ]
    },
    {
     "name": "stdout",
     "output_type": "stream",
     "text": [
      "INFO:tensorflow:global_step/sec: 0.321666\n"
     ]
    },
    {
     "name": "stderr",
     "output_type": "stream",
     "text": [
      "I0515 22:59:57.880799 139793697040192 basic_session_run_hooks.py:680] global_step/sec: 0.321666\n"
     ]
    },
    {
     "name": "stdout",
     "output_type": "stream",
     "text": [
      "INFO:tensorflow:loss = 1.0974994, step = 101 (310.884 sec)\n"
     ]
    },
    {
     "name": "stderr",
     "output_type": "stream",
     "text": [
      "I0515 22:59:57.882933 139793697040192 basic_session_run_hooks.py:247] loss = 1.0974994, step = 101 (310.884 sec)\n"
     ]
    },
    {
     "name": "stdout",
     "output_type": "stream",
     "text": [
      "INFO:tensorflow:Saving checkpoints for 110 into ./tmp/baseline/DNN/DNN/model.ckpt.\n"
     ]
    },
    {
     "name": "stderr",
     "output_type": "stream",
     "text": [
      "I0515 22:59:59.630437 139793697040192 basic_session_run_hooks.py:594] Saving checkpoints for 110 into ./tmp/baseline/DNN/DNN/model.ckpt.\n"
     ]
    },
    {
     "name": "stdout",
     "output_type": "stream",
     "text": [
      "INFO:tensorflow:Calling model_fn.\n"
     ]
    },
    {
     "name": "stderr",
     "output_type": "stream",
     "text": [
      "I0515 22:59:59.934733 139793697040192 estimator.py:1111] Calling model_fn.\n"
     ]
    },
    {
     "name": "stdout",
     "output_type": "stream",
     "text": [
      "INFO:tensorflow:Done calling model_fn.\n"
     ]
    },
    {
     "name": "stderr",
     "output_type": "stream",
     "text": [
      "I0515 23:00:00.038682 139793697040192 estimator.py:1113] Done calling model_fn.\n"
     ]
    },
    {
     "name": "stdout",
     "output_type": "stream",
     "text": [
      "INFO:tensorflow:Starting evaluation at 2019-05-15T21:00:00Z\n"
     ]
    },
    {
     "name": "stderr",
     "output_type": "stream",
     "text": [
      "I0515 23:00:00.054068 139793697040192 evaluation.py:257] Starting evaluation at 2019-05-15T21:00:00Z\n"
     ]
    },
    {
     "name": "stdout",
     "output_type": "stream",
     "text": [
      "INFO:tensorflow:Graph was finalized.\n"
     ]
    },
    {
     "name": "stderr",
     "output_type": "stream",
     "text": [
      "I0515 23:00:00.239723 139793697040192 monitored_session.py:222] Graph was finalized.\n"
     ]
    },
    {
     "name": "stdout",
     "output_type": "stream",
     "text": [
      "INFO:tensorflow:Restoring parameters from ./tmp/baseline/DNN/DNN/model.ckpt-110\n"
     ]
    },
    {
     "name": "stderr",
     "output_type": "stream",
     "text": [
      "I0515 23:00:00.241371 139793697040192 saver.py:1270] Restoring parameters from ./tmp/baseline/DNN/DNN/model.ckpt-110\n"
     ]
    },
    {
     "name": "stdout",
     "output_type": "stream",
     "text": [
      "INFO:tensorflow:Running local_init_op.\n"
     ]
    },
    {
     "name": "stderr",
     "output_type": "stream",
     "text": [
      "I0515 23:00:00.315127 139793697040192 session_manager.py:491] Running local_init_op.\n"
     ]
    },
    {
     "name": "stdout",
     "output_type": "stream",
     "text": [
      "INFO:tensorflow:Done running local_init_op.\n"
     ]
    },
    {
     "name": "stderr",
     "output_type": "stream",
     "text": [
      "I0515 23:00:00.322179 139793697040192 session_manager.py:493] Done running local_init_op.\n"
     ]
    },
    {
     "name": "stdout",
     "output_type": "stream",
     "text": [
      "INFO:tensorflow:Finished evaluation at 2019-05-15-21:00:22\n"
     ]
    },
    {
     "name": "stderr",
     "output_type": "stream",
     "text": [
      "I0515 23:00:22.364933 139793697040192 evaluation.py:277] Finished evaluation at 2019-05-15-21:00:22\n"
     ]
    },
    {
     "name": "stdout",
     "output_type": "stream",
     "text": [
      "INFO:tensorflow:Saving dict for global step 110: DNN_Eval_accuracy = 0.33816424, global_step = 110, loss = 1.0984998\n"
     ]
    },
    {
     "name": "stderr",
     "output_type": "stream",
     "text": [
      "I0515 23:00:22.368077 139793697040192 estimator.py:1979] Saving dict for global step 110: DNN_Eval_accuracy = 0.33816424, global_step = 110, loss = 1.0984998\n"
     ]
    },
    {
     "name": "stdout",
     "output_type": "stream",
     "text": [
      "INFO:tensorflow:Saving 'checkpoint_path' summary for global step 110: ./tmp/baseline/DNN/DNN/model.ckpt-110\n"
     ]
    },
    {
     "name": "stderr",
     "output_type": "stream",
     "text": [
      "I0515 23:00:22.369562 139793697040192 estimator.py:2039] Saving 'checkpoint_path' summary for global step 110: ./tmp/baseline/DNN/DNN/model.ckpt-110\n"
     ]
    },
    {
     "name": "stdout",
     "output_type": "stream",
     "text": [
      "INFO:tensorflow:Saving checkpoints for 120 into ./tmp/baseline/DNN/DNN/model.ckpt.\n"
     ]
    },
    {
     "name": "stderr",
     "output_type": "stream",
     "text": [
      "I0515 23:00:24.257282 139793697040192 basic_session_run_hooks.py:594] Saving checkpoints for 120 into ./tmp/baseline/DNN/DNN/model.ckpt.\n"
     ]
    },
    {
     "name": "stdout",
     "output_type": "stream",
     "text": [
      "INFO:tensorflow:Calling model_fn.\n"
     ]
    },
    {
     "name": "stderr",
     "output_type": "stream",
     "text": [
      "I0515 23:00:24.565072 139793697040192 estimator.py:1111] Calling model_fn.\n"
     ]
    },
    {
     "name": "stdout",
     "output_type": "stream",
     "text": [
      "INFO:tensorflow:Done calling model_fn.\n"
     ]
    },
    {
     "name": "stderr",
     "output_type": "stream",
     "text": [
      "I0515 23:00:24.667857 139793697040192 estimator.py:1113] Done calling model_fn.\n"
     ]
    },
    {
     "name": "stdout",
     "output_type": "stream",
     "text": [
      "INFO:tensorflow:Starting evaluation at 2019-05-15T21:00:24Z\n"
     ]
    },
    {
     "name": "stderr",
     "output_type": "stream",
     "text": [
      "I0515 23:00:24.683861 139793697040192 evaluation.py:257] Starting evaluation at 2019-05-15T21:00:24Z\n"
     ]
    },
    {
     "name": "stdout",
     "output_type": "stream",
     "text": [
      "INFO:tensorflow:Graph was finalized.\n"
     ]
    },
    {
     "name": "stderr",
     "output_type": "stream",
     "text": [
      "I0515 23:00:24.753306 139793697040192 monitored_session.py:222] Graph was finalized.\n"
     ]
    },
    {
     "name": "stdout",
     "output_type": "stream",
     "text": [
      "INFO:tensorflow:Restoring parameters from ./tmp/baseline/DNN/DNN/model.ckpt-120\n"
     ]
    },
    {
     "name": "stderr",
     "output_type": "stream",
     "text": [
      "I0515 23:00:24.755094 139793697040192 saver.py:1270] Restoring parameters from ./tmp/baseline/DNN/DNN/model.ckpt-120\n"
     ]
    },
    {
     "name": "stdout",
     "output_type": "stream",
     "text": [
      "INFO:tensorflow:Running local_init_op.\n"
     ]
    },
    {
     "name": "stderr",
     "output_type": "stream",
     "text": [
      "I0515 23:00:24.820555 139793697040192 session_manager.py:491] Running local_init_op.\n"
     ]
    },
    {
     "name": "stdout",
     "output_type": "stream",
     "text": [
      "INFO:tensorflow:Done running local_init_op.\n"
     ]
    },
    {
     "name": "stderr",
     "output_type": "stream",
     "text": [
      "I0515 23:00:24.831636 139793697040192 session_manager.py:493] Done running local_init_op.\n"
     ]
    },
    {
     "name": "stdout",
     "output_type": "stream",
     "text": [
      "INFO:tensorflow:Finished evaluation at 2019-05-15-21:00:47\n"
     ]
    },
    {
     "name": "stderr",
     "output_type": "stream",
     "text": [
      "I0515 23:00:47.838548 139793697040192 evaluation.py:277] Finished evaluation at 2019-05-15-21:00:47\n"
     ]
    },
    {
     "name": "stdout",
     "output_type": "stream",
     "text": [
      "INFO:tensorflow:Saving dict for global step 120: DNN_Eval_accuracy = 0.33816424, global_step = 120, loss = 1.0984808\n"
     ]
    },
    {
     "name": "stderr",
     "output_type": "stream",
     "text": [
      "I0515 23:00:47.839736 139793697040192 estimator.py:1979] Saving dict for global step 120: DNN_Eval_accuracy = 0.33816424, global_step = 120, loss = 1.0984808\n"
     ]
    },
    {
     "name": "stdout",
     "output_type": "stream",
     "text": [
      "INFO:tensorflow:Saving 'checkpoint_path' summary for global step 120: ./tmp/baseline/DNN/DNN/model.ckpt-120\n"
     ]
    },
    {
     "name": "stderr",
     "output_type": "stream",
     "text": [
      "I0515 23:00:47.841471 139793697040192 estimator.py:2039] Saving 'checkpoint_path' summary for global step 120: ./tmp/baseline/DNN/DNN/model.ckpt-120\n"
     ]
    },
    {
     "name": "stdout",
     "output_type": "stream",
     "text": [
      "INFO:tensorflow:Saving checkpoints for 130 into ./tmp/baseline/DNN/DNN/model.ckpt.\n"
     ]
    },
    {
     "name": "stderr",
     "output_type": "stream",
     "text": [
      "I0515 23:00:49.885215 139793697040192 basic_session_run_hooks.py:594] Saving checkpoints for 130 into ./tmp/baseline/DNN/DNN/model.ckpt.\n"
     ]
    },
    {
     "name": "stdout",
     "output_type": "stream",
     "text": [
      "INFO:tensorflow:Calling model_fn.\n"
     ]
    },
    {
     "name": "stderr",
     "output_type": "stream",
     "text": [
      "I0515 23:00:50.166698 139793697040192 estimator.py:1111] Calling model_fn.\n"
     ]
    },
    {
     "name": "stdout",
     "output_type": "stream",
     "text": [
      "INFO:tensorflow:Done calling model_fn.\n"
     ]
    },
    {
     "name": "stderr",
     "output_type": "stream",
     "text": [
      "I0515 23:00:50.262209 139793697040192 estimator.py:1113] Done calling model_fn.\n"
     ]
    },
    {
     "name": "stdout",
     "output_type": "stream",
     "text": [
      "INFO:tensorflow:Starting evaluation at 2019-05-15T21:00:50Z\n"
     ]
    },
    {
     "name": "stderr",
     "output_type": "stream",
     "text": [
      "I0515 23:00:50.290282 139793697040192 evaluation.py:257] Starting evaluation at 2019-05-15T21:00:50Z\n"
     ]
    },
    {
     "name": "stdout",
     "output_type": "stream",
     "text": [
      "INFO:tensorflow:Graph was finalized.\n"
     ]
    },
    {
     "name": "stderr",
     "output_type": "stream",
     "text": [
      "I0515 23:00:50.362666 139793697040192 monitored_session.py:222] Graph was finalized.\n"
     ]
    },
    {
     "name": "stdout",
     "output_type": "stream",
     "text": [
      "INFO:tensorflow:Restoring parameters from ./tmp/baseline/DNN/DNN/model.ckpt-130\n"
     ]
    },
    {
     "name": "stderr",
     "output_type": "stream",
     "text": [
      "I0515 23:00:50.364306 139793697040192 saver.py:1270] Restoring parameters from ./tmp/baseline/DNN/DNN/model.ckpt-130\n"
     ]
    },
    {
     "name": "stdout",
     "output_type": "stream",
     "text": [
      "INFO:tensorflow:Running local_init_op.\n"
     ]
    },
    {
     "name": "stderr",
     "output_type": "stream",
     "text": [
      "I0515 23:00:50.429719 139793697040192 session_manager.py:491] Running local_init_op.\n"
     ]
    },
    {
     "name": "stdout",
     "output_type": "stream",
     "text": [
      "INFO:tensorflow:Done running local_init_op.\n"
     ]
    },
    {
     "name": "stderr",
     "output_type": "stream",
     "text": [
      "I0515 23:00:50.436904 139793697040192 session_manager.py:493] Done running local_init_op.\n"
     ]
    },
    {
     "name": "stdout",
     "output_type": "stream",
     "text": [
      "INFO:tensorflow:Finished evaluation at 2019-05-15-21:01:16\n"
     ]
    },
    {
     "name": "stderr",
     "output_type": "stream",
     "text": [
      "I0515 23:01:16.842777 139793697040192 evaluation.py:277] Finished evaluation at 2019-05-15-21:01:16\n"
     ]
    },
    {
     "name": "stdout",
     "output_type": "stream",
     "text": [
      "INFO:tensorflow:Saving dict for global step 130: DNN_Eval_accuracy = 0.33816424, global_step = 130, loss = 1.0984735\n"
     ]
    },
    {
     "name": "stderr",
     "output_type": "stream",
     "text": [
      "I0515 23:01:16.843719 139793697040192 estimator.py:1979] Saving dict for global step 130: DNN_Eval_accuracy = 0.33816424, global_step = 130, loss = 1.0984735\n"
     ]
    },
    {
     "name": "stdout",
     "output_type": "stream",
     "text": [
      "INFO:tensorflow:Saving 'checkpoint_path' summary for global step 130: ./tmp/baseline/DNN/DNN/model.ckpt-130\n"
     ]
    },
    {
     "name": "stderr",
     "output_type": "stream",
     "text": [
      "I0515 23:01:16.845268 139793697040192 estimator.py:2039] Saving 'checkpoint_path' summary for global step 130: ./tmp/baseline/DNN/DNN/model.ckpt-130\n"
     ]
    },
    {
     "name": "stdout",
     "output_type": "stream",
     "text": [
      "INFO:tensorflow:Saving checkpoints for 140 into ./tmp/baseline/DNN/DNN/model.ckpt.\n"
     ]
    },
    {
     "name": "stderr",
     "output_type": "stream",
     "text": [
      "I0515 23:01:19.084118 139793697040192 basic_session_run_hooks.py:594] Saving checkpoints for 140 into ./tmp/baseline/DNN/DNN/model.ckpt.\n"
     ]
    },
    {
     "name": "stdout",
     "output_type": "stream",
     "text": [
      "INFO:tensorflow:Calling model_fn.\n"
     ]
    },
    {
     "name": "stderr",
     "output_type": "stream",
     "text": [
      "I0515 23:01:19.623046 139793697040192 estimator.py:1111] Calling model_fn.\n"
     ]
    },
    {
     "name": "stdout",
     "output_type": "stream",
     "text": [
      "INFO:tensorflow:Done calling model_fn.\n"
     ]
    },
    {
     "name": "stderr",
     "output_type": "stream",
     "text": [
      "I0515 23:01:19.890384 139793697040192 estimator.py:1113] Done calling model_fn.\n"
     ]
    },
    {
     "name": "stdout",
     "output_type": "stream",
     "text": [
      "INFO:tensorflow:Starting evaluation at 2019-05-15T21:01:19Z\n"
     ]
    },
    {
     "name": "stderr",
     "output_type": "stream",
     "text": [
      "I0515 23:01:19.964662 139793697040192 evaluation.py:257] Starting evaluation at 2019-05-15T21:01:19Z\n"
     ]
    },
    {
     "name": "stdout",
     "output_type": "stream",
     "text": [
      "INFO:tensorflow:Graph was finalized.\n"
     ]
    },
    {
     "name": "stderr",
     "output_type": "stream",
     "text": [
      "I0515 23:01:20.311957 139793697040192 monitored_session.py:222] Graph was finalized.\n"
     ]
    },
    {
     "name": "stdout",
     "output_type": "stream",
     "text": [
      "INFO:tensorflow:Restoring parameters from ./tmp/baseline/DNN/DNN/model.ckpt-140\n"
     ]
    },
    {
     "name": "stderr",
     "output_type": "stream",
     "text": [
      "I0515 23:01:20.319330 139793697040192 saver.py:1270] Restoring parameters from ./tmp/baseline/DNN/DNN/model.ckpt-140\n"
     ]
    },
    {
     "name": "stdout",
     "output_type": "stream",
     "text": [
      "INFO:tensorflow:Running local_init_op.\n"
     ]
    },
    {
     "name": "stderr",
     "output_type": "stream",
     "text": [
      "I0515 23:01:20.444958 139793697040192 session_manager.py:491] Running local_init_op.\n"
     ]
    },
    {
     "name": "stdout",
     "output_type": "stream",
     "text": [
      "INFO:tensorflow:Done running local_init_op.\n"
     ]
    },
    {
     "name": "stderr",
     "output_type": "stream",
     "text": [
      "I0515 23:01:20.470492 139793697040192 session_manager.py:493] Done running local_init_op.\n"
     ]
    },
    {
     "name": "stdout",
     "output_type": "stream",
     "text": [
      "INFO:tensorflow:Finished evaluation at 2019-05-15-21:01:44\n"
     ]
    },
    {
     "name": "stderr",
     "output_type": "stream",
     "text": [
      "I0515 23:01:44.599990 139793697040192 evaluation.py:277] Finished evaluation at 2019-05-15-21:01:44\n"
     ]
    },
    {
     "name": "stdout",
     "output_type": "stream",
     "text": [
      "INFO:tensorflow:Saving dict for global step 140: DNN_Eval_accuracy = 0.33816424, global_step = 140, loss = 1.0984552\n"
     ]
    },
    {
     "name": "stderr",
     "output_type": "stream",
     "text": [
      "I0515 23:01:44.600872 139793697040192 estimator.py:1979] Saving dict for global step 140: DNN_Eval_accuracy = 0.33816424, global_step = 140, loss = 1.0984552\n"
     ]
    },
    {
     "name": "stdout",
     "output_type": "stream",
     "text": [
      "INFO:tensorflow:Saving 'checkpoint_path' summary for global step 140: ./tmp/baseline/DNN/DNN/model.ckpt-140\n"
     ]
    },
    {
     "name": "stderr",
     "output_type": "stream",
     "text": [
      "I0515 23:01:44.602115 139793697040192 estimator.py:2039] Saving 'checkpoint_path' summary for global step 140: ./tmp/baseline/DNN/DNN/model.ckpt-140\n"
     ]
    },
    {
     "name": "stdout",
     "output_type": "stream",
     "text": [
      "INFO:tensorflow:Saving checkpoints for 150 into ./tmp/baseline/DNN/DNN/model.ckpt.\n"
     ]
    },
    {
     "name": "stderr",
     "output_type": "stream",
     "text": [
      "I0515 23:01:46.426867 139793697040192 basic_session_run_hooks.py:594] Saving checkpoints for 150 into ./tmp/baseline/DNN/DNN/model.ckpt.\n"
     ]
    },
    {
     "name": "stdout",
     "output_type": "stream",
     "text": [
      "INFO:tensorflow:Calling model_fn.\n"
     ]
    },
    {
     "name": "stderr",
     "output_type": "stream",
     "text": [
      "I0515 23:01:46.684736 139793697040192 estimator.py:1111] Calling model_fn.\n"
     ]
    },
    {
     "name": "stdout",
     "output_type": "stream",
     "text": [
      "INFO:tensorflow:Done calling model_fn.\n"
     ]
    },
    {
     "name": "stderr",
     "output_type": "stream",
     "text": [
      "I0515 23:01:46.757334 139793697040192 estimator.py:1113] Done calling model_fn.\n"
     ]
    },
    {
     "name": "stdout",
     "output_type": "stream",
     "text": [
      "INFO:tensorflow:Starting evaluation at 2019-05-15T21:01:46Z\n"
     ]
    },
    {
     "name": "stderr",
     "output_type": "stream",
     "text": [
      "I0515 23:01:46.777972 139793697040192 evaluation.py:257] Starting evaluation at 2019-05-15T21:01:46Z\n"
     ]
    },
    {
     "name": "stdout",
     "output_type": "stream",
     "text": [
      "INFO:tensorflow:Graph was finalized.\n"
     ]
    },
    {
     "name": "stderr",
     "output_type": "stream",
     "text": [
      "I0515 23:01:46.841178 139793697040192 monitored_session.py:222] Graph was finalized.\n"
     ]
    },
    {
     "name": "stdout",
     "output_type": "stream",
     "text": [
      "INFO:tensorflow:Restoring parameters from ./tmp/baseline/DNN/DNN/model.ckpt-150\n"
     ]
    },
    {
     "name": "stderr",
     "output_type": "stream",
     "text": [
      "I0515 23:01:46.843053 139793697040192 saver.py:1270] Restoring parameters from ./tmp/baseline/DNN/DNN/model.ckpt-150\n"
     ]
    },
    {
     "name": "stdout",
     "output_type": "stream",
     "text": [
      "INFO:tensorflow:Running local_init_op.\n"
     ]
    },
    {
     "name": "stderr",
     "output_type": "stream",
     "text": [
      "I0515 23:01:46.905716 139793697040192 session_manager.py:491] Running local_init_op.\n"
     ]
    },
    {
     "name": "stdout",
     "output_type": "stream",
     "text": [
      "INFO:tensorflow:Done running local_init_op.\n"
     ]
    },
    {
     "name": "stderr",
     "output_type": "stream",
     "text": [
      "I0515 23:01:46.912675 139793697040192 session_manager.py:493] Done running local_init_op.\n"
     ]
    },
    {
     "name": "stdout",
     "output_type": "stream",
     "text": [
      "INFO:tensorflow:Finished evaluation at 2019-05-15-21:02:11\n"
     ]
    },
    {
     "name": "stderr",
     "output_type": "stream",
     "text": [
      "I0515 23:02:11.667463 139793697040192 evaluation.py:277] Finished evaluation at 2019-05-15-21:02:11\n"
     ]
    },
    {
     "name": "stdout",
     "output_type": "stream",
     "text": [
      "INFO:tensorflow:Saving dict for global step 150: DNN_Eval_accuracy = 0.33816424, global_step = 150, loss = 1.0984284\n"
     ]
    },
    {
     "name": "stderr",
     "output_type": "stream",
     "text": [
      "I0515 23:02:11.670704 139793697040192 estimator.py:1979] Saving dict for global step 150: DNN_Eval_accuracy = 0.33816424, global_step = 150, loss = 1.0984284\n"
     ]
    },
    {
     "name": "stdout",
     "output_type": "stream",
     "text": [
      "INFO:tensorflow:Saving 'checkpoint_path' summary for global step 150: ./tmp/baseline/DNN/DNN/model.ckpt-150\n"
     ]
    },
    {
     "name": "stderr",
     "output_type": "stream",
     "text": [
      "I0515 23:02:11.675719 139793697040192 estimator.py:2039] Saving 'checkpoint_path' summary for global step 150: ./tmp/baseline/DNN/DNN/model.ckpt-150\n"
     ]
    },
    {
     "name": "stdout",
     "output_type": "stream",
     "text": [
      "INFO:tensorflow:Saving checkpoints for 160 into ./tmp/baseline/DNN/DNN/model.ckpt.\n"
     ]
    },
    {
     "name": "stderr",
     "output_type": "stream",
     "text": [
      "I0515 23:02:13.511244 139793697040192 basic_session_run_hooks.py:594] Saving checkpoints for 160 into ./tmp/baseline/DNN/DNN/model.ckpt.\n"
     ]
    },
    {
     "name": "stdout",
     "output_type": "stream",
     "text": [
      "INFO:tensorflow:Calling model_fn.\n"
     ]
    },
    {
     "name": "stderr",
     "output_type": "stream",
     "text": [
      "I0515 23:02:13.758827 139793697040192 estimator.py:1111] Calling model_fn.\n"
     ]
    },
    {
     "name": "stdout",
     "output_type": "stream",
     "text": [
      "INFO:tensorflow:Done calling model_fn.\n"
     ]
    },
    {
     "name": "stderr",
     "output_type": "stream",
     "text": [
      "I0515 23:02:13.845532 139793697040192 estimator.py:1113] Done calling model_fn.\n"
     ]
    },
    {
     "name": "stdout",
     "output_type": "stream",
     "text": [
      "INFO:tensorflow:Starting evaluation at 2019-05-15T21:02:13Z\n"
     ]
    },
    {
     "name": "stderr",
     "output_type": "stream",
     "text": [
      "I0515 23:02:13.860500 139793697040192 evaluation.py:257] Starting evaluation at 2019-05-15T21:02:13Z\n"
     ]
    },
    {
     "name": "stdout",
     "output_type": "stream",
     "text": [
      "INFO:tensorflow:Graph was finalized.\n"
     ]
    },
    {
     "name": "stderr",
     "output_type": "stream",
     "text": [
      "I0515 23:02:13.926346 139793697040192 monitored_session.py:222] Graph was finalized.\n"
     ]
    },
    {
     "name": "stdout",
     "output_type": "stream",
     "text": [
      "INFO:tensorflow:Restoring parameters from ./tmp/baseline/DNN/DNN/model.ckpt-160\n"
     ]
    },
    {
     "name": "stderr",
     "output_type": "stream",
     "text": [
      "I0515 23:02:13.929005 139793697040192 saver.py:1270] Restoring parameters from ./tmp/baseline/DNN/DNN/model.ckpt-160\n"
     ]
    },
    {
     "name": "stdout",
     "output_type": "stream",
     "text": [
      "INFO:tensorflow:Running local_init_op.\n"
     ]
    },
    {
     "name": "stderr",
     "output_type": "stream",
     "text": [
      "I0515 23:02:13.985390 139793697040192 session_manager.py:491] Running local_init_op.\n"
     ]
    },
    {
     "name": "stdout",
     "output_type": "stream",
     "text": [
      "INFO:tensorflow:Done running local_init_op.\n"
     ]
    },
    {
     "name": "stderr",
     "output_type": "stream",
     "text": [
      "I0515 23:02:13.992647 139793697040192 session_manager.py:493] Done running local_init_op.\n"
     ]
    },
    {
     "name": "stdout",
     "output_type": "stream",
     "text": [
      "INFO:tensorflow:Finished evaluation at 2019-05-15-21:02:39\n"
     ]
    },
    {
     "name": "stderr",
     "output_type": "stream",
     "text": [
      "I0515 23:02:39.439928 139793697040192 evaluation.py:277] Finished evaluation at 2019-05-15-21:02:39\n"
     ]
    },
    {
     "name": "stdout",
     "output_type": "stream",
     "text": [
      "INFO:tensorflow:Saving dict for global step 160: DNN_Eval_accuracy = 0.33816424, global_step = 160, loss = 1.0984375\n"
     ]
    },
    {
     "name": "stderr",
     "output_type": "stream",
     "text": [
      "I0515 23:02:39.441098 139793697040192 estimator.py:1979] Saving dict for global step 160: DNN_Eval_accuracy = 0.33816424, global_step = 160, loss = 1.0984375\n"
     ]
    },
    {
     "name": "stdout",
     "output_type": "stream",
     "text": [
      "INFO:tensorflow:Saving 'checkpoint_path' summary for global step 160: ./tmp/baseline/DNN/DNN/model.ckpt-160\n"
     ]
    },
    {
     "name": "stderr",
     "output_type": "stream",
     "text": [
      "I0515 23:02:39.447118 139793697040192 estimator.py:2039] Saving 'checkpoint_path' summary for global step 160: ./tmp/baseline/DNN/DNN/model.ckpt-160\n"
     ]
    },
    {
     "name": "stdout",
     "output_type": "stream",
     "text": [
      "INFO:tensorflow:Saving checkpoints for 170 into ./tmp/baseline/DNN/DNN/model.ckpt.\n"
     ]
    },
    {
     "name": "stderr",
     "output_type": "stream",
     "text": [
      "I0515 23:02:41.584772 139793697040192 basic_session_run_hooks.py:594] Saving checkpoints for 170 into ./tmp/baseline/DNN/DNN/model.ckpt.\n"
     ]
    },
    {
     "name": "stdout",
     "output_type": "stream",
     "text": [
      "INFO:tensorflow:Calling model_fn.\n"
     ]
    },
    {
     "name": "stderr",
     "output_type": "stream",
     "text": [
      "I0515 23:02:41.964471 139793697040192 estimator.py:1111] Calling model_fn.\n"
     ]
    },
    {
     "name": "stdout",
     "output_type": "stream",
     "text": [
      "INFO:tensorflow:Done calling model_fn.\n"
     ]
    },
    {
     "name": "stderr",
     "output_type": "stream",
     "text": [
      "I0515 23:02:42.038476 139793697040192 estimator.py:1113] Done calling model_fn.\n"
     ]
    },
    {
     "name": "stdout",
     "output_type": "stream",
     "text": [
      "INFO:tensorflow:Starting evaluation at 2019-05-15T21:02:42Z\n"
     ]
    },
    {
     "name": "stderr",
     "output_type": "stream",
     "text": [
      "I0515 23:02:42.061376 139793697040192 evaluation.py:257] Starting evaluation at 2019-05-15T21:02:42Z\n"
     ]
    },
    {
     "name": "stdout",
     "output_type": "stream",
     "text": [
      "INFO:tensorflow:Graph was finalized.\n"
     ]
    },
    {
     "name": "stderr",
     "output_type": "stream",
     "text": [
      "I0515 23:02:42.210076 139793697040192 monitored_session.py:222] Graph was finalized.\n"
     ]
    },
    {
     "name": "stdout",
     "output_type": "stream",
     "text": [
      "INFO:tensorflow:Restoring parameters from ./tmp/baseline/DNN/DNN/model.ckpt-170\n"
     ]
    },
    {
     "name": "stderr",
     "output_type": "stream",
     "text": [
      "I0515 23:02:42.211664 139793697040192 saver.py:1270] Restoring parameters from ./tmp/baseline/DNN/DNN/model.ckpt-170\n"
     ]
    },
    {
     "name": "stdout",
     "output_type": "stream",
     "text": [
      "INFO:tensorflow:Running local_init_op.\n"
     ]
    },
    {
     "name": "stderr",
     "output_type": "stream",
     "text": [
      "I0515 23:02:42.271682 139793697040192 session_manager.py:491] Running local_init_op.\n"
     ]
    },
    {
     "name": "stdout",
     "output_type": "stream",
     "text": [
      "INFO:tensorflow:Done running local_init_op.\n"
     ]
    },
    {
     "name": "stderr",
     "output_type": "stream",
     "text": [
      "I0515 23:02:42.278693 139793697040192 session_manager.py:493] Done running local_init_op.\n"
     ]
    },
    {
     "name": "stdout",
     "output_type": "stream",
     "text": [
      "INFO:tensorflow:Finished evaluation at 2019-05-15-21:03:05\n"
     ]
    },
    {
     "name": "stderr",
     "output_type": "stream",
     "text": [
      "I0515 23:03:05.762046 139793697040192 evaluation.py:277] Finished evaluation at 2019-05-15-21:03:05\n"
     ]
    },
    {
     "name": "stdout",
     "output_type": "stream",
     "text": [
      "INFO:tensorflow:Saving dict for global step 170: DNN_Eval_accuracy = 0.33816424, global_step = 170, loss = 1.0984287\n"
     ]
    },
    {
     "name": "stderr",
     "output_type": "stream",
     "text": [
      "I0515 23:03:05.766167 139793697040192 estimator.py:1979] Saving dict for global step 170: DNN_Eval_accuracy = 0.33816424, global_step = 170, loss = 1.0984287\n"
     ]
    },
    {
     "name": "stdout",
     "output_type": "stream",
     "text": [
      "INFO:tensorflow:Saving 'checkpoint_path' summary for global step 170: ./tmp/baseline/DNN/DNN/model.ckpt-170\n"
     ]
    },
    {
     "name": "stderr",
     "output_type": "stream",
     "text": [
      "I0515 23:03:05.773393 139793697040192 estimator.py:2039] Saving 'checkpoint_path' summary for global step 170: ./tmp/baseline/DNN/DNN/model.ckpt-170\n"
     ]
    },
    {
     "name": "stdout",
     "output_type": "stream",
     "text": [
      "INFO:tensorflow:Saving checkpoints for 180 into ./tmp/baseline/DNN/DNN/model.ckpt.\n"
     ]
    },
    {
     "name": "stderr",
     "output_type": "stream",
     "text": [
      "I0515 23:03:07.414629 139793697040192 basic_session_run_hooks.py:594] Saving checkpoints for 180 into ./tmp/baseline/DNN/DNN/model.ckpt.\n"
     ]
    },
    {
     "name": "stdout",
     "output_type": "stream",
     "text": [
      "INFO:tensorflow:Calling model_fn.\n"
     ]
    },
    {
     "name": "stderr",
     "output_type": "stream",
     "text": [
      "I0515 23:03:07.669879 139793697040192 estimator.py:1111] Calling model_fn.\n"
     ]
    },
    {
     "name": "stdout",
     "output_type": "stream",
     "text": [
      "INFO:tensorflow:Done calling model_fn.\n"
     ]
    },
    {
     "name": "stderr",
     "output_type": "stream",
     "text": [
      "I0515 23:03:07.770136 139793697040192 estimator.py:1113] Done calling model_fn.\n"
     ]
    },
    {
     "name": "stdout",
     "output_type": "stream",
     "text": [
      "INFO:tensorflow:Starting evaluation at 2019-05-15T21:03:07Z\n"
     ]
    },
    {
     "name": "stderr",
     "output_type": "stream",
     "text": [
      "I0515 23:03:07.817277 139793697040192 evaluation.py:257] Starting evaluation at 2019-05-15T21:03:07Z\n"
     ]
    },
    {
     "name": "stdout",
     "output_type": "stream",
     "text": [
      "INFO:tensorflow:Graph was finalized.\n"
     ]
    },
    {
     "name": "stderr",
     "output_type": "stream",
     "text": [
      "I0515 23:03:07.962573 139793697040192 monitored_session.py:222] Graph was finalized.\n"
     ]
    },
    {
     "name": "stdout",
     "output_type": "stream",
     "text": [
      "INFO:tensorflow:Restoring parameters from ./tmp/baseline/DNN/DNN/model.ckpt-180\n"
     ]
    },
    {
     "name": "stderr",
     "output_type": "stream",
     "text": [
      "I0515 23:03:07.966318 139793697040192 saver.py:1270] Restoring parameters from ./tmp/baseline/DNN/DNN/model.ckpt-180\n"
     ]
    },
    {
     "name": "stdout",
     "output_type": "stream",
     "text": [
      "INFO:tensorflow:Running local_init_op.\n"
     ]
    },
    {
     "name": "stderr",
     "output_type": "stream",
     "text": [
      "I0515 23:03:08.044905 139793697040192 session_manager.py:491] Running local_init_op.\n"
     ]
    },
    {
     "name": "stdout",
     "output_type": "stream",
     "text": [
      "INFO:tensorflow:Done running local_init_op.\n"
     ]
    },
    {
     "name": "stderr",
     "output_type": "stream",
     "text": [
      "I0515 23:03:08.052312 139793697040192 session_manager.py:493] Done running local_init_op.\n"
     ]
    },
    {
     "name": "stdout",
     "output_type": "stream",
     "text": [
      "INFO:tensorflow:Finished evaluation at 2019-05-15-21:03:31\n"
     ]
    },
    {
     "name": "stderr",
     "output_type": "stream",
     "text": [
      "I0515 23:03:31.460037 139793697040192 evaluation.py:277] Finished evaluation at 2019-05-15-21:03:31\n"
     ]
    },
    {
     "name": "stdout",
     "output_type": "stream",
     "text": [
      "INFO:tensorflow:Saving dict for global step 180: DNN_Eval_accuracy = 0.33816424, global_step = 180, loss = 1.0984269\n"
     ]
    },
    {
     "name": "stderr",
     "output_type": "stream",
     "text": [
      "I0515 23:03:31.461067 139793697040192 estimator.py:1979] Saving dict for global step 180: DNN_Eval_accuracy = 0.33816424, global_step = 180, loss = 1.0984269\n"
     ]
    },
    {
     "name": "stdout",
     "output_type": "stream",
     "text": [
      "INFO:tensorflow:Saving 'checkpoint_path' summary for global step 180: ./tmp/baseline/DNN/DNN/model.ckpt-180\n"
     ]
    },
    {
     "name": "stderr",
     "output_type": "stream",
     "text": [
      "I0515 23:03:31.462560 139793697040192 estimator.py:2039] Saving 'checkpoint_path' summary for global step 180: ./tmp/baseline/DNN/DNN/model.ckpt-180\n"
     ]
    },
    {
     "name": "stdout",
     "output_type": "stream",
     "text": [
      "INFO:tensorflow:Saving checkpoints for 190 into ./tmp/baseline/DNN/DNN/model.ckpt.\n"
     ]
    },
    {
     "name": "stderr",
     "output_type": "stream",
     "text": [
      "I0515 23:03:32.990885 139793697040192 basic_session_run_hooks.py:594] Saving checkpoints for 190 into ./tmp/baseline/DNN/DNN/model.ckpt.\n"
     ]
    },
    {
     "name": "stdout",
     "output_type": "stream",
     "text": [
      "INFO:tensorflow:Calling model_fn.\n"
     ]
    },
    {
     "name": "stderr",
     "output_type": "stream",
     "text": [
      "I0515 23:03:33.235607 139793697040192 estimator.py:1111] Calling model_fn.\n"
     ]
    },
    {
     "name": "stdout",
     "output_type": "stream",
     "text": [
      "INFO:tensorflow:Done calling model_fn.\n"
     ]
    },
    {
     "name": "stderr",
     "output_type": "stream",
     "text": [
      "I0515 23:03:33.312528 139793697040192 estimator.py:1113] Done calling model_fn.\n"
     ]
    },
    {
     "name": "stdout",
     "output_type": "stream",
     "text": [
      "INFO:tensorflow:Starting evaluation at 2019-05-15T21:03:33Z\n"
     ]
    },
    {
     "name": "stderr",
     "output_type": "stream",
     "text": [
      "I0515 23:03:33.328338 139793697040192 evaluation.py:257] Starting evaluation at 2019-05-15T21:03:33Z\n"
     ]
    },
    {
     "name": "stdout",
     "output_type": "stream",
     "text": [
      "INFO:tensorflow:Graph was finalized.\n"
     ]
    },
    {
     "name": "stderr",
     "output_type": "stream",
     "text": [
      "I0515 23:03:33.386561 139793697040192 monitored_session.py:222] Graph was finalized.\n"
     ]
    },
    {
     "name": "stdout",
     "output_type": "stream",
     "text": [
      "INFO:tensorflow:Restoring parameters from ./tmp/baseline/DNN/DNN/model.ckpt-190\n"
     ]
    },
    {
     "name": "stderr",
     "output_type": "stream",
     "text": [
      "I0515 23:03:33.389757 139793697040192 saver.py:1270] Restoring parameters from ./tmp/baseline/DNN/DNN/model.ckpt-190\n"
     ]
    },
    {
     "name": "stdout",
     "output_type": "stream",
     "text": [
      "INFO:tensorflow:Running local_init_op.\n"
     ]
    },
    {
     "name": "stderr",
     "output_type": "stream",
     "text": [
      "I0515 23:03:33.447685 139793697040192 session_manager.py:491] Running local_init_op.\n"
     ]
    },
    {
     "name": "stdout",
     "output_type": "stream",
     "text": [
      "INFO:tensorflow:Done running local_init_op.\n"
     ]
    },
    {
     "name": "stderr",
     "output_type": "stream",
     "text": [
      "I0515 23:03:33.455452 139793697040192 session_manager.py:493] Done running local_init_op.\n"
     ]
    },
    {
     "name": "stdout",
     "output_type": "stream",
     "text": [
      "INFO:tensorflow:Finished evaluation at 2019-05-15-21:03:55\n"
     ]
    },
    {
     "name": "stderr",
     "output_type": "stream",
     "text": [
      "I0515 23:03:55.199567 139793697040192 evaluation.py:277] Finished evaluation at 2019-05-15-21:03:55\n"
     ]
    },
    {
     "name": "stdout",
     "output_type": "stream",
     "text": [
      "INFO:tensorflow:Saving dict for global step 190: DNN_Eval_accuracy = 0.33816424, global_step = 190, loss = 1.0984253\n"
     ]
    },
    {
     "name": "stderr",
     "output_type": "stream",
     "text": [
      "I0515 23:03:55.200496 139793697040192 estimator.py:1979] Saving dict for global step 190: DNN_Eval_accuracy = 0.33816424, global_step = 190, loss = 1.0984253\n"
     ]
    },
    {
     "name": "stdout",
     "output_type": "stream",
     "text": [
      "INFO:tensorflow:Saving 'checkpoint_path' summary for global step 190: ./tmp/baseline/DNN/DNN/model.ckpt-190\n"
     ]
    },
    {
     "name": "stderr",
     "output_type": "stream",
     "text": [
      "I0515 23:03:55.201694 139793697040192 estimator.py:2039] Saving 'checkpoint_path' summary for global step 190: ./tmp/baseline/DNN/DNN/model.ckpt-190\n"
     ]
    },
    {
     "name": "stdout",
     "output_type": "stream",
     "text": [
      "INFO:tensorflow:Saving checkpoints for 198 into ./tmp/baseline/DNN/DNN/model.ckpt.\n"
     ]
    },
    {
     "name": "stderr",
     "output_type": "stream",
     "text": [
      "I0515 23:03:56.359626 139793697040192 basic_session_run_hooks.py:594] Saving checkpoints for 198 into ./tmp/baseline/DNN/DNN/model.ckpt.\n"
     ]
    },
    {
     "name": "stdout",
     "output_type": "stream",
     "text": [
      "INFO:tensorflow:Calling model_fn.\n"
     ]
    },
    {
     "name": "stderr",
     "output_type": "stream",
     "text": [
      "I0515 23:03:56.602851 139793697040192 estimator.py:1111] Calling model_fn.\n"
     ]
    },
    {
     "name": "stdout",
     "output_type": "stream",
     "text": [
      "INFO:tensorflow:Done calling model_fn.\n"
     ]
    },
    {
     "name": "stderr",
     "output_type": "stream",
     "text": [
      "I0515 23:03:56.674124 139793697040192 estimator.py:1113] Done calling model_fn.\n"
     ]
    },
    {
     "name": "stdout",
     "output_type": "stream",
     "text": [
      "INFO:tensorflow:Starting evaluation at 2019-05-15T21:03:56Z\n"
     ]
    },
    {
     "name": "stderr",
     "output_type": "stream",
     "text": [
      "I0515 23:03:56.694095 139793697040192 evaluation.py:257] Starting evaluation at 2019-05-15T21:03:56Z\n"
     ]
    },
    {
     "name": "stdout",
     "output_type": "stream",
     "text": [
      "INFO:tensorflow:Graph was finalized.\n"
     ]
    },
    {
     "name": "stderr",
     "output_type": "stream",
     "text": [
      "I0515 23:03:56.844799 139793697040192 monitored_session.py:222] Graph was finalized.\n"
     ]
    },
    {
     "name": "stdout",
     "output_type": "stream",
     "text": [
      "INFO:tensorflow:Restoring parameters from ./tmp/baseline/DNN/DNN/model.ckpt-198\n"
     ]
    },
    {
     "name": "stderr",
     "output_type": "stream",
     "text": [
      "I0515 23:03:56.848025 139793697040192 saver.py:1270] Restoring parameters from ./tmp/baseline/DNN/DNN/model.ckpt-198\n"
     ]
    },
    {
     "name": "stdout",
     "output_type": "stream",
     "text": [
      "INFO:tensorflow:Running local_init_op.\n"
     ]
    },
    {
     "name": "stderr",
     "output_type": "stream",
     "text": [
      "I0515 23:03:56.911025 139793697040192 session_manager.py:491] Running local_init_op.\n"
     ]
    },
    {
     "name": "stdout",
     "output_type": "stream",
     "text": [
      "INFO:tensorflow:Done running local_init_op.\n"
     ]
    },
    {
     "name": "stderr",
     "output_type": "stream",
     "text": [
      "I0515 23:03:56.918128 139793697040192 session_manager.py:493] Done running local_init_op.\n"
     ]
    },
    {
     "name": "stdout",
     "output_type": "stream",
     "text": [
      "INFO:tensorflow:Finished evaluation at 2019-05-15-21:04:19\n"
     ]
    },
    {
     "name": "stderr",
     "output_type": "stream",
     "text": [
      "I0515 23:04:19.514009 139793697040192 evaluation.py:277] Finished evaluation at 2019-05-15-21:04:19\n"
     ]
    },
    {
     "name": "stdout",
     "output_type": "stream",
     "text": [
      "INFO:tensorflow:Saving dict for global step 198: DNN_Eval_accuracy = 0.33816424, global_step = 198, loss = 1.0984128\n"
     ]
    },
    {
     "name": "stderr",
     "output_type": "stream",
     "text": [
      "I0515 23:04:19.514893 139793697040192 estimator.py:1979] Saving dict for global step 198: DNN_Eval_accuracy = 0.33816424, global_step = 198, loss = 1.0984128\n"
     ]
    },
    {
     "name": "stdout",
     "output_type": "stream",
     "text": [
      "INFO:tensorflow:Saving 'checkpoint_path' summary for global step 198: ./tmp/baseline/DNN/DNN/model.ckpt-198\n"
     ]
    },
    {
     "name": "stderr",
     "output_type": "stream",
     "text": [
      "I0515 23:04:19.516018 139793697040192 estimator.py:2039] Saving 'checkpoint_path' summary for global step 198: ./tmp/baseline/DNN/DNN/model.ckpt-198\n"
     ]
    },
    {
     "name": "stdout",
     "output_type": "stream",
     "text": [
      "INFO:tensorflow:Loss for final step: 1.10066.\n"
     ]
    },
    {
     "name": "stderr",
     "output_type": "stream",
     "text": [
      "I0515 23:04:19.536989 139793697040192 estimator.py:359] Loss for final step: 1.10066.\n"
     ]
    }
   ],
   "source": [
    "import p8_util\n",
    "\n",
    "start_time = time.time()\n",
    "results, _ = tf.estimator.train_and_evaluate(classifier, train_spec=train_spec, eval_spec=eval_spec)\n",
    "end_time = time.time()"
   ]
  },
  {
   "cell_type": "code",
   "execution_count": 15,
   "metadata": {
    "scrolled": true
   },
   "outputs": [
    {
     "name": "stdout",
     "output_type": "stream",
     "text": [
      "\n",
      "------------------------------------------------\n",
      "Time (sec) 575.3410842418671\n",
      "DNN_EVAL_ACCURACY: 0.33816424012184143\n",
      "LOSS: 1.0984127521514893\n",
      "GLOBAL_STEP: 198\n",
      "------------------------------------------------\n",
      "\n"
     ]
    }
   ],
   "source": [
    "print(\"\\n------------------------------------------------\")\n",
    "print(\"Time (sec)\", end_time-start_time)\n",
    "for key in results.keys() :\n",
    "    title =key.upper()\n",
    "    print(\"{}: {}\".format(title, results[key]))\n",
    "print(\"------------------------------------------------\\n\")\n"
   ]
  },
  {
   "cell_type": "code",
   "execution_count": 16,
   "metadata": {},
   "outputs": [
    {
     "data": {
      "text/plain": [
       "'./tmp/baseline/DNN/DNN'"
      ]
     },
     "execution_count": 16,
     "metadata": {},
     "output_type": "execute_result"
    }
   ],
   "source": [
    "oNNAdaNetBuilder.output_dir_log"
   ]
  },
  {
   "cell_type": "code",
   "execution_count": 17,
   "metadata": {},
   "outputs": [],
   "source": [
    "if is_tensorboard is True :\n",
    "    get_ipython().system_raw(\n",
    "        'tensorboard --logdir {} --host localhost --port 6007 &'\n",
    "        .format(oNNAdaNetBuilder.output_dir_log)\n",
    "    )\n",
    "\n",
    "\n",
    "    get_ipython().system_raw('./assets/ngrok http 6007 &')"
   ]
  },
  {
   "cell_type": "raw",
   "metadata": {},
   "source": [
    "------------------------------------------------\n",
    "Time (sec) 565.1023576259613\n",
    "RNN_EVAL_ACCURACY: 0.6499999761581421\n",
    "LOSS: 0.8784809112548828\n",
    "GLOBAL_STEP: 200\n",
    "------------------------------------------------\n",
    "NN type              : ............................ RNN\n",
    "Units in dense layer : ............................ 10\n",
    "Number of layers     : ............................ 2\n",
    "Dropout rate         : ............................ 0.0\n",
    "Seed value           : ............................ 42\n",
    "Nb of classes (logit): ............................ 3\n",
    "Weights initializer  : ............................ truncated_normal\n",
    "Batch normalization  : ............................ True\n",
    "\n",
    "\n",
    "Cell type            : ............................ SLSTM\n",
    "Hidden units         : ............................ 128\n",
    "Stacked cells        : ............................ 2\n",
    "Time steps           : ............................ 224"
   ]
  },
  {
   "cell_type": "raw",
   "metadata": {},
   "source": [
    "------------------------------------------------\n",
    "Time (sec) 86.21402406692505\n",
    "RNN_EVAL_ACCURACY: 0.699999988079071\n",
    "LOSS: 0.903887152671814\n",
    "GLOBAL_STEP: 200\n",
    "------------------------------------------------\n",
    "\n",
    "NN type              : ............................ RNN\n",
    "Units in dense layer : ............................ 10\n",
    "Number of layers     : ............................ 1\n",
    "Dropout rate         : ............................ 0.0\n",
    "Seed value           : ............................ 42\n",
    "Nb of classes (logit): ............................ 3\n",
    "Weights initializer  : ............................ truncated_normal\n",
    "Batch normalization  : ............................ True\n",
    "\n",
    "\n",
    "Cell type            : ............................ RNN\n",
    "Hidden units         : ............................ 128\n",
    "Stacked cells        : ............................ 1\n",
    "Time steps           : ............................ 224\n"
   ]
  },
  {
   "cell_type": "raw",
   "metadata": {},
   "source": [
    "------------------------------------------------\n",
    "Time (sec) 673.2258858680725\n",
    "RNN_EVAL_ACCURACY: 0.800000011920929\n",
    "LOSS: 0.7224235534667969\n",
    "GLOBAL_STEP: 200\n",
    "------------------------------------------------\n",
    "\n",
    "NN type              : ............................ RNN\n",
    "Units in dense layer : ............................ 10\n",
    "Number of layers     : ............................ 2\n",
    "Dropout rate         : ............................ 0.0\n",
    "Seed value           : ............................ 42\n",
    "Nb of classes (logit): ............................ 3\n",
    "Weights initializer  : ............................ truncated_normal\n",
    "Batch normalization  : ............................ True\n",
    "\n",
    "\n",
    "Cell type            : ............................ SGRU\n",
    "Hidden units         : ............................ 128\n",
    "Stacked cells        : ............................ 2\n",
    "Time steps           : ............................ 224\n",
    "\n",
    "Max steps= 200 / Number of EPOCH=6"
   ]
  },
  {
   "cell_type": "raw",
   "metadata": {},
   "source": [
    "------------------------------------------------\n",
    "Time (sec) 91.79598736763\n",
    "RNN_EVAL_ACCURACY: 0.5\n",
    "LOSS: 1.392293930053711\n",
    "GLOBAL_STEP: 600\n",
    "------------------------------------------------\n",
    "\n",
    "NN type              : ............................ RNN\n",
    "Units in dense layer : ............................ 10\n",
    "Number of layers     : ............................ 1\n",
    "Dropout rate         : ............................ 0.0\n",
    "Seed value           : ............................ 42\n",
    "Nb of classes (logit): ............................ 3\n",
    "Weights initializer  : ............................ truncated_normal\n",
    "Batch normalization  : ............................ True"
   ]
  },
  {
   "cell_type": "raw",
   "metadata": {},
   "source": [
    "NN type              : ............................ CNNBase\n",
    "Units in dense layer : ............................ 10\n",
    "Number of layers     : ............................ 2\n",
    "Dropout rate         : ............................ 0.0\n",
    "Seed value           : ............................ 42\n",
    "Nb of classes (logit): ............................ 3\n",
    "Weights initializer  : ............................ xavier\n",
    "Batch normalization  : ............................ True\n",
    "\n",
    "\n",
    "CNN seed             : ............................ 42\n",
    "Conv. Kernel size    : ............................ (5, 5)\n",
    "Conv. layers         : ............................ 2\n",
    "Dense layers         : ............................ 1\n",
    "Units in conv. layers: ............................ 10\n",
    "CNN bacth norm.      : ............................ True\n",
    "Features map size    : ............................ [64]\n",
    "Conv filters         : ............................ 32\n",
    "Strides              : ............................ 1\n",
    "Padding              : ............................ same\n",
    "Activation function  : ............................ relu\n",
    "    \n",
    "    \n",
    "------------------------------------------------\n",
    "Time (sec) 380.2743675708771\n",
    "CNNBASE_EVAL_ACCURACY: 0.3404255211353302\n",
    "LOSS: 7.011310577392578\n",
    "GLOBAL_STEP: 300    "
   ]
  },
  {
   "cell_type": "raw",
   "metadata": {},
   "source": [
    "NN type              : ............................ CNNBase\n",
    "Units in dense layer : ............................ 20\n",
    "Number of layers     : ............................ 3\n",
    "Dropout rate         : ............................ 0.0\n",
    "Seed value           : ............................ 42\n",
    "Nb of classes (logit): ............................ 3\n",
    "Weights initializer  : ............................ xavier\n",
    "Batch normalization  : ............................ False\n",
    "\n",
    "\n",
    "CNN seed             : ............................ 42\n",
    "Conv. Kernel size    : ............................ (5, 5)\n",
    "Conv. layers         : ............................ 3\n",
    "Dense layers         : ............................ 2\n",
    "Units in conv. layers: ............................ 20\n",
    "CNN bacth norm.      : ............................ False\n",
    "Features map size    : ............................ [128]\n",
    "Conv layers          : ............................ 3\n",
    "Conv filters         : ............................ 32\n",
    "Strides              : ............................ 1\n",
    "Padding              : ............................ same\n",
    "Activation function  : ............................ relu\n",
    "\n",
    "\n",
    "Time (sec) 262.5221884250641\n",
    "EVAL_ACCURACY: 0.3404255211353302\n",
    "LOSS: 1.0971035957336426\n",
    "GLOBAL_STEP: 50"
   ]
  },
  {
   "cell_type": "raw",
   "metadata": {},
   "source": [
    "NN type              : ............................ CNNBase\n",
    "Units in dense layer : ............................ 20\n",
    "Number of layers     : ............................ 3\n",
    "Dropout rate         : ............................ 0.0\n",
    "Seed value           : ............................ 42\n",
    "Nb of classes (logit): ............................ 3\n",
    "Weights initializer  : ............................ xavier\n",
    "Batch normalization  : ............................ True\n",
    "\n",
    "\n",
    "CNN seed             : ............................ 42\n",
    "Conv. Kernel size    : ............................ (5, 5)\n",
    "Conv. layers         : ............................ 3\n",
    "Dense layers         : ............................ 2\n",
    "Units in conv. layers: ............................ 20\n",
    "CNN bacth norm.      : ............................ True\n",
    "Features map size    : ............................ [128]\n",
    "Conv layers          : ............................ 3\n",
    "Conv filters         : ............................ 32\n",
    "Strides              : ............................ 1\n",
    "Padding              : ............................ same\n",
    "Activation function  : ............................ relu\n",
    "\n",
    "------------------------------------------------\n",
    "Time (sec) 365.59686279296875\n",
    "EVAL_ACCURACY: 0.3404255211353302\n",
    "LOSS: 1.0968201160430908\n",
    "GLOBAL_STEP: 50"
   ]
  },
  {
   "cell_type": "raw",
   "metadata": {},
   "source": [
    "NN type              : ............................ CNNBase\n",
    "Units in dense layer : ............................ 20\n",
    "Number of layers     : ............................ 3\n",
    "Dropout rate         : ............................ 0.5\n",
    "Seed value           : ............................ 42\n",
    "Nb of classes (logit): ............................ 3\n",
    "Weights initializer  : ............................ xavier\n",
    "Batch normalization  : ............................ True\n",
    "\n",
    "\n",
    "CNN seed             : ............................ 42\n",
    "Conv. Kernel size    : ............................ (5, 5)\n",
    "Conv. layers         : ............................ 3\n",
    "Dense layers         : ............................ 2\n",
    "Units in conv. layers: ............................ 20\n",
    "CNN bacth norm.      : ............................ True\n",
    "Features map size    : ............................ [128]\n",
    "Conv layers          : ............................ 3\n",
    "Conv filters         : ............................ 32\n",
    "Strides              : ............................ 1\n",
    "Padding              : ............................ same\n",
    "Activation function  : ............................ relu\n",
    "------------------------------------------------\n",
    "Time (sec) 325.2791471481323\n",
    "EVAL_ACCURACY: 0.3191489279270172\n",
    "LOSS: 1.1020725965499878\n",
    "GLOBAL_STEP: 50"
   ]
  },
  {
   "cell_type": "raw",
   "metadata": {},
   "source": [
    "NN type              : ............................ CNNBase\n",
    "Units in dense layer : ............................ 20\n",
    "Number of layers     : ............................ 0\n",
    "Dropout rate         : ............................ 0.0\n",
    "Seed value           : ............................ 42\n",
    "Nb of classes (logit): ............................ 3\n",
    "Weights initializer  : ............................ xavier\n",
    "Batch normalization  : ............................ True\n",
    "\n",
    "\n",
    "CNN seed             : ............................ 42\n",
    "Conv. Kernel size    : ............................ (5, 5)\n",
    "Conv. layers         : ............................ 0\n",
    "Dense layers         : ............................ 1\n",
    "Units in conv. layers: ............................ 20\n",
    "CNN bacth norm.      : ............................ True\n",
    "Features map size    : ............................ [128]\n",
    "Conv layers          : ............................ 0\n",
    "Conv filters         : ............................ 32\n",
    "Strides              : ............................ 1\n",
    "Padding              : ............................ same\n",
    "Activation function  : ............................ relu\n",
    "\n",
    "------------------------------------------------\n",
    "Time (sec) 77.39862394332886\n",
    "EVAL_ACCURACY: 0.5106382966041565\n",
    "LOSS: 2.0911760330200195\n",
    "GLOBAL_STEP: 200\n"
   ]
  },
  {
   "cell_type": "raw",
   "metadata": {},
   "source": [
    "\n",
    "NN type              : ............................ CNNBase\n",
    "Units in dense layer : ............................ 10\n",
    "Number of layers     : ............................ 0\n",
    "Dropout rate         : ............................ 0.0\n",
    "Seed value           : ............................ 42\n",
    "Nb of classes (logit): ............................ 3\n",
    "Weights initializer  : ............................ xavier\n",
    "Batch normalization  : ............................ True\n",
    "\n",
    "\n",
    "CNN seed             : ............................ 42\n",
    "Conv. Kernel size    : ............................ (5, 5)\n",
    "Conv. layers         : ............................ 0\n",
    "Dense layers         : ............................ 1\n",
    "Units in conv. layers: ............................ 10\n",
    "CNN bacth norm.      : ............................ True\n",
    "Features map size    : ............................ [64]\n",
    "Conv layers          : ............................ 0\n",
    "Conv filters         : ............................ 32\n",
    "Strides              : ............................ 1\n",
    "Padding              : ............................ same\n",
    "Activation function  : ............................ relu\n",
    "\n",
    "------------------------------------------------\n",
    "Time (sec) 82.09228587150574\n",
    "EVAL_ACCURACY: 0.44680851697921753\n",
    "LOSS: 2.0489394664764404\n",
    "GLOBAL_STEP: 200"
   ]
  },
  {
   "cell_type": "raw",
   "metadata": {},
   "source": [
    "NN type              : ............................ CNNBase\n",
    "Units in dense layer : ............................ 10\n",
    "Number of layers     : ............................ 0\n",
    "Dropout rate         : ............................ 0.2\n",
    "Seed value           : ............................ 42\n",
    "Nb of classes (logit): ............................ 3\n",
    "Weights initializer  : ............................ xavier\n",
    "Batch normalization  : ............................ True\n",
    "\n",
    "\n",
    "CNN seed             : ............................ 42\n",
    "Conv. Kernel size    : ............................ (5, 5)\n",
    "Conv. layers         : ............................ 0\n",
    "Dense layers         : ............................ 1\n",
    "Units in conv. layers: ............................ 10\n",
    "CNN bacth norm.      : ............................ True\n",
    "Features map size    : ............................ [64]\n",
    "Conv layers          : ............................ 0\n",
    "Conv filters         : ............................ 32\n",
    "Strides              : ............................ 1\n",
    "Padding              : ............................ same\n",
    "Activation function  : ............................ relu\n",
    "------------------------------------------------\n",
    "Time (sec) 366.10398745536804\n",
    "EVAL_ACCURACY: 0.42553192377090454\n",
    "LOSS: 1.6286356449127197\n",
    "GLOBAL_STEP: 1000"
   ]
  },
  {
   "cell_type": "raw",
   "metadata": {},
   "source": [
    "NN type              : ............................ CNNBase\n",
    "Units in dense layer : ............................ 10\n",
    "Number of layers     : ............................ 3\n",
    "Dropout rate         : ............................ 0.0\n",
    "Seed value           : ............................ 42\n",
    "Nb of classes (logit): ............................ 3\n",
    "Weights initializer  : ............................ xavier\n",
    "Batch normalization  : ............................ True\n",
    "\n",
    "\n",
    "CNN seed             : ............................ 42\n",
    "Conv. Kernel size    : ............................ (5, 5)\n",
    "Conv. layers         : ............................ 3\n",
    "Dense layers         : ............................ 1\n",
    "Units in conv. layers: ............................ 10\n",
    "CNN bacth norm.      : ............................ True\n",
    "Features map size    : ............................ [64]\n",
    "Conv filters         : ............................ 32\n",
    "Strides              : ............................ 1\n",
    "Padding              : ............................ same\n",
    "Activation function  : ............................ relu\n",
    "------------------------------------------------\n",
    "Time (sec) 413.86882281303406\n",
    "CNNBASE: EVAL ACCURACY: 0.4893617033958435\n",
    "LOSS: 1.0934101343154907\n",
    "GLOBAL_STEP: 60\n"
   ]
  },
  {
   "cell_type": "raw",
   "metadata": {},
   "source": [
    "NN type              : ............................ CNNBase\n",
    "Units in dense layer : ............................ 10\n",
    "Number of layers     : ............................ 3\n",
    "Dropout rate         : ............................ 0.0\n",
    "Seed value           : ............................ 42\n",
    "Nb of classes (logit): ............................ 3\n",
    "Weights initializer  : ............................ xavier\n",
    "Batch normalization  : ............................ True\n",
    "\n",
    "\n",
    "CNN seed             : ............................ 42\n",
    "Conv. Kernel size    : ............................ (5, 5)\n",
    "Conv. layers         : ............................ 3\n",
    "Dense layers         : ............................ 1\n",
    "Units in conv. layers: ............................ 10\n",
    "CNN bacth norm.      : ............................ True\n",
    "Features map size    : ............................ [64]\n",
    "Conv filters         : ............................ 32\n",
    "Strides              : ............................ 1\n",
    "Padding              : ............................ same\n",
    "Activation function  : ............................ relu\n",
    "------------------------------------------------\n",
    "Time (sec) 45.87497568130493\n",
    "CNNBASE_EVAL_ACCURACY: 0.3617021143436432\n",
    "LOSS: 1.0970960855484009\n",
    "GLOBAL_STEP: 9"
   ]
  },
  {
   "cell_type": "code",
   "execution_count": 18,
   "metadata": {},
   "outputs": [
    {
     "data": {
      "text/plain": [
       "50"
      ]
     },
     "execution_count": 18,
     "metadata": {},
     "output_type": "execute_result"
    }
   ],
   "source": [
    "500//10"
   ]
  },
  {
   "cell_type": "code",
   "execution_count": 19,
   "metadata": {},
   "outputs": [
    {
     "data": {
      "text/plain": [
       "(200, 66)"
      ]
     },
     "execution_count": 19,
     "metadata": {},
     "output_type": "execute_result"
    }
   ],
   "source": [
    "138*3\n",
    "epochs=20\n",
    "mini_batch_size=138\n",
    "mini_batch_number =414//mini_batch_size\n",
    "train_step = 200\n",
    "epochs = train_step//mini_batch_number\n",
    "train_step,epochs"
   ]
  },
  {
   "cell_type": "code",
   "execution_count": null,
   "metadata": {},
   "outputs": [],
   "source": []
  }
 ],
 "metadata": {
  "kernelspec": {
   "display_name": "Python 3",
   "language": "python",
   "name": "python3"
  },
  "language_info": {
   "codemirror_mode": {
    "name": "ipython",
    "version": 3
   },
   "file_extension": ".py",
   "mimetype": "text/x-python",
   "name": "python",
   "nbconvert_exporter": "python",
   "pygments_lexer": "ipython3",
   "version": "3.6.8"
  }
 },
 "nbformat": 4,
 "nbformat_minor": 2
}
