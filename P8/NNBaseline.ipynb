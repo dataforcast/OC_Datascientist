{
 "cells": [
  {
   "cell_type": "code",
   "execution_count": 22,
   "metadata": {},
   "outputs": [
    {
     "name": "stdout",
     "output_type": "stream",
     "text": [
      "The autoreload extension is already loaded. To reload it, use:\n",
      "  %reload_ext autoreload\n"
     ]
    }
   ],
   "source": [
    "%load_ext autoreload\n",
    "%autoreload 2"
   ]
  },
  {
   "cell_type": "code",
   "execution_count": 23,
   "metadata": {},
   "outputs": [],
   "source": [
    "import time\n",
    "import tensorflow as tf\n",
    "import p8_util\n",
    "import p8_util_config"
   ]
  },
  {
   "cell_type": "raw",
   "metadata": {},
   "source": [
    "import p8_util\n",
    "datadir = './data'\n",
    "\n",
    "filename_dataset=datadir+'/arr_keras_X_y_train_test.dump'\n",
    "x_train, x_test, y_train, y_test, nClasses, feature_shape = p8_util.load_dataset(filename_dataset,is_label_encoded=True)\n",
    "\n",
    "print(\"\\nDataset : {}\".format((x_train.shape, x_test.shape, y_train.shape, y_test.shape, nClasses, feature_shape)))"
   ]
  },
  {
   "cell_type": "code",
   "execution_count": 24,
   "metadata": {},
   "outputs": [],
   "source": [
    "OUTPUT_DIR = './tmp/baseline'\n",
    "OUTPUT_DIR_TB = './tmp'\n",
    "is_tensorboard = True"
   ]
  },
  {
   "cell_type": "markdown",
   "metadata": {},
   "source": [
    "#### Tensorboard processes are killed"
   ]
  },
  {
   "cell_type": "code",
   "execution_count": 25,
   "metadata": {},
   "outputs": [
    {
     "name": "stdout",
     "output_type": "stream",
     "text": [
      "kill: (24160): Aucun processus de ce type\n",
      "kill: (24166)"
     ]
    }
   ],
   "source": [
    "# this will kill the processes for Tensorboard\n",
    "#is_tensorboard = True\n",
    "if is_tensorboard is True :\n",
    "    !ps aux | grep tensorboard | awk '{print $2}' | xargs kill\n",
    "# this will kill the processes for ngrok\n",
    "if is_tensorboard is True :\n",
    "    !ps aux | grep ngrok | awk '{print $2}' | xargs kill    "
   ]
  },
  {
   "cell_type": "raw",
   "metadata": {},
   "source": [
    "!ps aux | grep tensorboard| awk '{print $2}'\n",
    "!ps aux | grep tensorboard    "
   ]
  },
  {
   "cell_type": "markdown",
   "metadata": {},
   "source": [
    "#### Increase of train dataset against test dataset."
   ]
  },
  {
   "cell_type": "raw",
   "metadata": {},
   "source": [
    "import numpy as np\n",
    "x_train = np.concatenate([x_train, x_test[:27,:,:,:]], axis=0)\n",
    "x_test = x_test[27:,:,:,:]\n",
    "print(x_train.shape, x_test.shape)\n",
    "\n",
    "y_train = np.concatenate([y_train, y_test[:27]])\n",
    "y_test = y_test[27:]\n",
    "print(y_train.shape, y_test.shape)"
   ]
  },
  {
   "cell_type": "code",
   "execution_count": 26,
   "metadata": {},
   "outputs": [
    {
     "data": {
      "text/plain": [
       "'./tmp/baseline'"
      ]
     },
     "execution_count": 26,
     "metadata": {},
     "output_type": "execute_result"
    }
   ],
   "source": [
    "OUTPUT_DIR"
   ]
  },
  {
   "cell_type": "code",
   "execution_count": 27,
   "metadata": {
    "scrolled": true
   },
   "outputs": [
    {
     "name": "stdout",
     "output_type": "stream",
     "text": [
      "Input output dir= ./tmp/baseline\n",
      "\n",
      "*** Number of convolutional layers= 2\n",
      "\n",
      "*** NNAdaNetBuilder : NN Type=RNN\n",
      "\n",
      "*** get_tf_head() : feature shape= (28, 28)\n",
      "\n",
      "*** get_tf_head() : feature columns= [NumericColumn(key='images', shape=(28, 28), default_value=None, dtype=tf.float32, normalizer_fn=None)]\n",
      "\n",
      "*** make_config() : output dir= ./tmp/baseline/RNN/SGRU\n",
      "\n",
      "Max steps= 300 / Number of EPOCH=100\n",
      "\n",
      "\n",
      "Global steps  : ................................... 300\n",
      "NN type              : ............................ RNN\n",
      "Features shape       : ............................ (28, 28)\n",
      "Adanet outputdir     : ............................ ./tmp/baseline/RNN\n",
      "Adanet output log    : ............................ ./tmp/baseline/RNN/SGRU\n",
      "Adanet boosting iter.: ............................ 40\n",
      "Adanet iter per boost: ............................ 7\n",
      "Number of layers     : ............................ 2\n",
      "Dropout rate         : ............................ 0.0\n",
      "Seed value           : ............................ 42\n",
      "Nb of classes (logit): ............................ 10\n",
      "Adanet regularization: ............................ 1e-05\n",
      "Weights initializer  : ............................ truncated_normal\n",
      "Batch normalization  : ............................ True\n",
      "Learn mixture weights: ............................ True\n",
      "\n",
      "\n",
      "Cell type            : ............................ SGRU\n",
      "Hidden units         : ............................ 128\n",
      "Stacked cells        : ............................ 2\n",
      "Time steps           : ............................ 28\n"
     ]
    }
   ],
   "source": [
    "import p8_util\n",
    "print(\"Input output dir= {}\".format(OUTPUT_DIR))\n",
    "oNNAdaNetBuilder = p8_util.create_nn_builder(OUTPUT_DIR)\n",
    "oNNAdaNetBuilder.show()"
   ]
  },
  {
   "cell_type": "markdown",
   "metadata": {},
   "source": [
    "#### Customized Tensor Flow Estimator"
   ]
  },
  {
   "cell_type": "code",
   "execution_count": 28,
   "metadata": {},
   "outputs": [
    {
     "name": "stdout",
     "output_type": "stream",
     "text": [
      "\n",
      "*** Number of convolutional layers= 2\n",
      "\n",
      "*** NNAdaNetBuilder : NN Type=RNN\n",
      "\n",
      "*** get_tf_head() : feature shape= (28, 28)\n",
      "\n",
      "*** get_tf_head() : feature columns= [NumericColumn(key='images', shape=(28, 28), default_value=None, dtype=tf.float32, normalizer_fn=None)]\n",
      "\n",
      "*** make_config() : output dir= ./tmp/baseline/RNN/SGRU\n",
      "\n",
      "Max steps= 300 / Number of EPOCH=100\n",
      "\n",
      "\n",
      "Global steps  : ................................... 300\n",
      "NN type              : ............................ RNN\n",
      "Features shape       : ............................ (28, 28)\n",
      "Adanet outputdir     : ............................ ./tmp/baseline/RNN\n",
      "Adanet output log    : ............................ ./tmp/baseline/RNN/SGRU\n",
      "Adanet boosting iter.: ............................ 40\n",
      "Adanet iter per boost: ............................ 7\n",
      "Number of layers     : ............................ 2\n",
      "Dropout rate         : ............................ 0.0\n",
      "Seed value           : ............................ 42\n",
      "Nb of classes (logit): ............................ 10\n",
      "Adanet regularization: ............................ 1e-05\n",
      "Weights initializer  : ............................ truncated_normal\n",
      "Batch normalization  : ............................ True\n",
      "Learn mixture weights: ............................ True\n",
      "\n",
      "\n",
      "Cell type            : ............................ SGRU\n",
      "Hidden units         : ............................ 128\n",
      "Stacked cells        : ............................ 2\n",
      "Time steps           : ............................ 28\n"
     ]
    }
   ],
   "source": [
    "oNNAdaNetBuilder = p8_util.create_nn_builder(OUTPUT_DIR)\n",
    "oNNAdaNetBuilder.show()\n",
    "params = {'net_builder': oNNAdaNetBuilder}"
   ]
  },
  {
   "cell_type": "markdown",
   "metadata": {},
   "source": [
    "#### Create a Baseline Estimator"
   ]
  },
  {
   "cell_type": "code",
   "execution_count": 29,
   "metadata": {},
   "outputs": [
    {
     "name": "stdout",
     "output_type": "stream",
     "text": [
      "INFO:tensorflow:Using config: {'_model_dir': './tmp/baseline/RNN/SGRU', '_tf_random_seed': 42, '_save_summary_steps': 10, '_save_checkpoints_steps': 10, '_save_checkpoints_secs': None, '_session_config': allow_soft_placement: true\n",
      "graph_options {\n",
      "  rewrite_options {\n",
      "    meta_optimizer_iterations: ONE\n",
      "  }\n",
      "}\n",
      ", '_keep_checkpoint_max': 5, '_keep_checkpoint_every_n_hours': 10000, '_log_step_count_steps': 100, '_train_distribute': None, '_device_fn': None, '_protocol': None, '_eval_distribute': None, '_experimental_distribute': None, '_service': None, '_cluster_spec': <tensorflow.python.training.server_lib.ClusterSpec object at 0x7ff63895a4e0>, '_task_type': 'worker', '_task_id': 0, '_global_id_in_cluster': 0, '_master': '', '_evaluation_master': '', '_is_chief': True, '_num_ps_replicas': 0, '_num_worker_replicas': 1}\n"
     ]
    },
    {
     "name": "stderr",
     "output_type": "stream",
     "text": [
      "I0523 08:38:53.827258 140697495811904 estimator.py:201] Using config: {'_model_dir': './tmp/baseline/RNN/SGRU', '_tf_random_seed': 42, '_save_summary_steps': 10, '_save_checkpoints_steps': 10, '_save_checkpoints_secs': None, '_session_config': allow_soft_placement: true\n",
      "graph_options {\n",
      "  rewrite_options {\n",
      "    meta_optimizer_iterations: ONE\n",
      "  }\n",
      "}\n",
      ", '_keep_checkpoint_max': 5, '_keep_checkpoint_every_n_hours': 10000, '_log_step_count_steps': 100, '_train_distribute': None, '_device_fn': None, '_protocol': None, '_eval_distribute': None, '_experimental_distribute': None, '_service': None, '_cluster_spec': <tensorflow.python.training.server_lib.ClusterSpec object at 0x7ff63895a4e0>, '_task_type': 'worker', '_task_id': 0, '_global_id_in_cluster': 0, '_master': '', '_evaluation_master': '', '_is_chief': True, '_num_ps_replicas': 0, '_num_worker_replicas': 1}\n"
     ]
    }
   ],
   "source": [
    "import BaselineEstimator\n",
    "oBaselineEstimator = BaselineEstimator.BaselineEstimator( params, IS_DEBUG=True)"
   ]
  },
  {
   "cell_type": "code",
   "execution_count": 30,
   "metadata": {},
   "outputs": [
    {
     "name": "stdout",
     "output_type": "stream",
     "text": [
      "INFO:tensorflow:Not using Distribute Coordinator.\n"
     ]
    },
    {
     "name": "stderr",
     "output_type": "stream",
     "text": [
      "I0523 08:38:53.889388 140697495811904 estimator_training.py:185] Not using Distribute Coordinator.\n"
     ]
    },
    {
     "name": "stdout",
     "output_type": "stream",
     "text": [
      "INFO:tensorflow:Running training and evaluation locally (non-distributed).\n"
     ]
    },
    {
     "name": "stderr",
     "output_type": "stream",
     "text": [
      "I0523 08:38:53.891669 140697495811904 training.py:610] Running training and evaluation locally (non-distributed).\n"
     ]
    },
    {
     "name": "stdout",
     "output_type": "stream",
     "text": [
      "INFO:tensorflow:Start train and evaluate loop. The evaluate will happen after every checkpoint. Checkpoint frequency is determined based on RunConfig arguments: save_checkpoints_steps 10 or save_checkpoints_secs None.\n"
     ]
    },
    {
     "name": "stderr",
     "output_type": "stream",
     "text": [
      "I0523 08:38:53.893485 140697495811904 training.py:698] Start train and evaluate loop. The evaluate will happen after every checkpoint. Checkpoint frequency is determined based on RunConfig arguments: save_checkpoints_steps 10 or save_checkpoints_secs None.\n"
     ]
    },
    {
     "name": "stdout",
     "output_type": "stream",
     "text": [
      "\n",
      "*** input_fn() : feature_shape= (28, 28) / label_shape= [1]\n",
      "\n",
      "*** preprocess_image() : image shape= (28, 28)\n",
      "\n",
      "*** preprocess_image() : features= {'images': <tf.Tensor 'arg0:0' shape=(28, 28) dtype=float32>} / label shape= ()\n",
      "\n",
      "***_input_fn() : Label shape =[1]\n",
      "INFO:tensorflow:Calling model_fn.\n"
     ]
    },
    {
     "name": "stderr",
     "output_type": "stream",
     "text": [
      "I0523 08:38:54.202697 140697495811904 estimator.py:1111] Calling model_fn.\n"
     ]
    },
    {
     "name": "stdout",
     "output_type": "stream",
     "text": [
      "\n",
      "*** custom_model_fn() : input_layer shape= (?, 784) / Labels shape= (?,)\n",
      "\n",
      "*** _build_rnn_subnetwork() : output[-1]= Tensor(\"RNN/rnn/rnn/multi_rnn_cell/cell_1/gru_cell/add_27:0\", shape=(?, 128), dtype=float32) / Weight= <tf.Variable 'W:0' shape=(128, 10) dtype=float32_ref>\n",
      "\n",
      "*** custom_model_fn() : logits shape= (?, 10) / labels shape= (?,)\n",
      "INFO:tensorflow:Done calling model_fn.\n"
     ]
    },
    {
     "name": "stderr",
     "output_type": "stream",
     "text": [
      "I0523 08:38:58.734708 140697495811904 estimator.py:1113] Done calling model_fn.\n"
     ]
    },
    {
     "name": "stdout",
     "output_type": "stream",
     "text": [
      "INFO:tensorflow:Create CheckpointSaverHook.\n"
     ]
    },
    {
     "name": "stderr",
     "output_type": "stream",
     "text": [
      "I0523 08:38:58.737263 140697495811904 basic_session_run_hooks.py:527] Create CheckpointSaverHook.\n"
     ]
    },
    {
     "name": "stdout",
     "output_type": "stream",
     "text": [
      "INFO:tensorflow:Graph was finalized.\n"
     ]
    },
    {
     "name": "stderr",
     "output_type": "stream",
     "text": [
      "I0523 08:38:59.353919 140697495811904 monitored_session.py:222] Graph was finalized.\n"
     ]
    },
    {
     "name": "stdout",
     "output_type": "stream",
     "text": [
      "INFO:tensorflow:Running local_init_op.\n"
     ]
    },
    {
     "name": "stderr",
     "output_type": "stream",
     "text": [
      "I0523 08:38:59.670620 140697495811904 session_manager.py:491] Running local_init_op.\n"
     ]
    },
    {
     "name": "stdout",
     "output_type": "stream",
     "text": [
      "INFO:tensorflow:Done running local_init_op.\n"
     ]
    },
    {
     "name": "stderr",
     "output_type": "stream",
     "text": [
      "I0523 08:38:59.777804 140697495811904 session_manager.py:493] Done running local_init_op.\n"
     ]
    },
    {
     "name": "stdout",
     "output_type": "stream",
     "text": [
      "INFO:tensorflow:Saving checkpoints for 0 into ./tmp/baseline/RNN/SGRU/model.ckpt.\n"
     ]
    },
    {
     "name": "stderr",
     "output_type": "stream",
     "text": [
      "I0523 08:39:01.388803 140697495811904 basic_session_run_hooks.py:594] Saving checkpoints for 0 into ./tmp/baseline/RNN/SGRU/model.ckpt.\n"
     ]
    },
    {
     "name": "stdout",
     "output_type": "stream",
     "text": [
      "INFO:tensorflow:loss = 2.3096976, step = 1\n"
     ]
    },
    {
     "name": "stderr",
     "output_type": "stream",
     "text": [
      "I0523 08:39:03.912571 140697495811904 basic_session_run_hooks.py:249] loss = 2.3096976, step = 1\n"
     ]
    },
    {
     "name": "stdout",
     "output_type": "stream",
     "text": [
      "INFO:tensorflow:Saving checkpoints for 10 into ./tmp/baseline/RNN/SGRU/model.ckpt.\n"
     ]
    },
    {
     "name": "stderr",
     "output_type": "stream",
     "text": [
      "I0523 08:39:06.122692 140697495811904 basic_session_run_hooks.py:594] Saving checkpoints for 10 into ./tmp/baseline/RNN/SGRU/model.ckpt.\n"
     ]
    },
    {
     "name": "stdout",
     "output_type": "stream",
     "text": [
      "\n",
      "*** input_fn() : feature_shape= (28, 28) / label_shape= [1]\n",
      "\n",
      "*** input_fn : TEST / feature_shape= (28, 28)\n",
      "\n",
      "*** preprocess_image() : image shape= (28, 28)\n",
      "\n",
      "*** preprocess_image() : features= {'images': <tf.Tensor 'arg0:0' shape=(28, 28) dtype=float32>} / label shape= ()\n",
      "\n",
      "***_input_fn() : Label shape =[1]\n",
      "INFO:tensorflow:Calling model_fn.\n"
     ]
    },
    {
     "name": "stderr",
     "output_type": "stream",
     "text": [
      "I0523 08:39:06.682131 140697495811904 estimator.py:1111] Calling model_fn.\n"
     ]
    },
    {
     "name": "stdout",
     "output_type": "stream",
     "text": [
      "\n",
      "*** custom_model_fn() : input_layer shape= (?, 784) / Labels shape= (?,)\n",
      "\n",
      "*** _build_rnn_subnetwork() : output[-1]= Tensor(\"RNN/rnn/rnn/multi_rnn_cell/cell_1/gru_cell/add_27:0\", shape=(?, 128), dtype=float32) / Weight= <tf.Variable 'W:0' shape=(128, 10) dtype=float32_ref>\n",
      "\n",
      "*** custom_model_fn() : logits shape= (?, 10) / labels shape= (?,)\n",
      "INFO:tensorflow:Done calling model_fn.\n"
     ]
    },
    {
     "name": "stderr",
     "output_type": "stream",
     "text": [
      "I0523 08:39:07.424616 140697495811904 estimator.py:1113] Done calling model_fn.\n"
     ]
    },
    {
     "name": "stdout",
     "output_type": "stream",
     "text": [
      "INFO:tensorflow:Starting evaluation at 2019-05-23T06:39:07Z\n"
     ]
    },
    {
     "name": "stderr",
     "output_type": "stream",
     "text": [
      "I0523 08:39:07.448955 140697495811904 evaluation.py:257] Starting evaluation at 2019-05-23T06:39:07Z\n"
     ]
    },
    {
     "name": "stdout",
     "output_type": "stream",
     "text": [
      "INFO:tensorflow:Graph was finalized.\n"
     ]
    },
    {
     "name": "stderr",
     "output_type": "stream",
     "text": [
      "I0523 08:39:07.616407 140697495811904 monitored_session.py:222] Graph was finalized.\n"
     ]
    },
    {
     "name": "stdout",
     "output_type": "stream",
     "text": [
      "WARNING:tensorflow:From /home/bangui/anaconda3/lib/python3.6/site-packages/tensorflow/python/training/saver.py:1266: checkpoint_exists (from tensorflow.python.training.checkpoint_management) is deprecated and will be removed in a future version.\n",
      "Instructions for updating:\n",
      "Use standard file APIs to check for files with this prefix.\n"
     ]
    },
    {
     "name": "stderr",
     "output_type": "stream",
     "text": [
      "W0523 08:39:07.617777 140697495811904 deprecation.py:323] From /home/bangui/anaconda3/lib/python3.6/site-packages/tensorflow/python/training/saver.py:1266: checkpoint_exists (from tensorflow.python.training.checkpoint_management) is deprecated and will be removed in a future version.\n",
      "Instructions for updating:\n",
      "Use standard file APIs to check for files with this prefix.\n"
     ]
    },
    {
     "name": "stdout",
     "output_type": "stream",
     "text": [
      "INFO:tensorflow:Restoring parameters from ./tmp/baseline/RNN/SGRU/model.ckpt-10\n"
     ]
    },
    {
     "name": "stderr",
     "output_type": "stream",
     "text": [
      "I0523 08:39:07.620851 140697495811904 saver.py:1270] Restoring parameters from ./tmp/baseline/RNN/SGRU/model.ckpt-10\n"
     ]
    },
    {
     "name": "stdout",
     "output_type": "stream",
     "text": [
      "INFO:tensorflow:Running local_init_op.\n"
     ]
    },
    {
     "name": "stderr",
     "output_type": "stream",
     "text": [
      "I0523 08:39:07.725838 140697495811904 session_manager.py:491] Running local_init_op.\n"
     ]
    },
    {
     "name": "stdout",
     "output_type": "stream",
     "text": [
      "INFO:tensorflow:Done running local_init_op.\n"
     ]
    },
    {
     "name": "stderr",
     "output_type": "stream",
     "text": [
      "I0523 08:39:07.755611 140697495811904 session_manager.py:493] Done running local_init_op.\n"
     ]
    },
    {
     "name": "stdout",
     "output_type": "stream",
     "text": [
      "\n",
      "*** generator() : labels shape= (10000,) / label values= 0\n",
      "INFO:tensorflow:Finished evaluation at 2019-05-23-06:39:09\n"
     ]
    },
    {
     "name": "stderr",
     "output_type": "stream",
     "text": [
      "I0523 08:39:09.955568 140697495811904 evaluation.py:277] Finished evaluation at 2019-05-23-06:39:09\n"
     ]
    },
    {
     "name": "stdout",
     "output_type": "stream",
     "text": [
      "INFO:tensorflow:Saving dict for global step 10: RNN_Eval_accuracy = 0.4124, global_step = 10, loss = 2.1156268\n"
     ]
    },
    {
     "name": "stderr",
     "output_type": "stream",
     "text": [
      "I0523 08:39:09.956379 140697495811904 estimator.py:1979] Saving dict for global step 10: RNN_Eval_accuracy = 0.4124, global_step = 10, loss = 2.1156268\n"
     ]
    },
    {
     "name": "stdout",
     "output_type": "stream",
     "text": [
      "INFO:tensorflow:Saving 'checkpoint_path' summary for global step 10: ./tmp/baseline/RNN/SGRU/model.ckpt-10\n"
     ]
    },
    {
     "name": "stderr",
     "output_type": "stream",
     "text": [
      "I0523 08:39:10.091039 140697495811904 estimator.py:2039] Saving 'checkpoint_path' summary for global step 10: ./tmp/baseline/RNN/SGRU/model.ckpt-10\n"
     ]
    },
    {
     "name": "stdout",
     "output_type": "stream",
     "text": [
      "INFO:tensorflow:Saving checkpoints for 20 into ./tmp/baseline/RNN/SGRU/model.ckpt.\n"
     ]
    },
    {
     "name": "stderr",
     "output_type": "stream",
     "text": [
      "I0523 08:39:12.687000 140697495811904 basic_session_run_hooks.py:594] Saving checkpoints for 20 into ./tmp/baseline/RNN/SGRU/model.ckpt.\n"
     ]
    },
    {
     "name": "stdout",
     "output_type": "stream",
     "text": [
      "\n",
      "*** input_fn() : feature_shape= (28, 28) / label_shape= [1]\n",
      "\n",
      "*** input_fn : TEST / feature_shape= (28, 28)\n",
      "\n",
      "*** preprocess_image() : image shape= (28, 28)\n",
      "\n",
      "*** preprocess_image() : features= {'images': <tf.Tensor 'arg0:0' shape=(28, 28) dtype=float32>} / label shape= ()\n",
      "\n",
      "***_input_fn() : Label shape =[1]\n",
      "INFO:tensorflow:Calling model_fn.\n"
     ]
    },
    {
     "name": "stderr",
     "output_type": "stream",
     "text": [
      "I0523 08:39:13.281544 140697495811904 estimator.py:1111] Calling model_fn.\n"
     ]
    },
    {
     "name": "stdout",
     "output_type": "stream",
     "text": [
      "\n",
      "*** custom_model_fn() : input_layer shape= (?, 784) / Labels shape= (?,)\n",
      "\n",
      "*** _build_rnn_subnetwork() : output[-1]= Tensor(\"RNN/rnn/rnn/multi_rnn_cell/cell_1/gru_cell/add_27:0\", shape=(?, 128), dtype=float32) / Weight= <tf.Variable 'W:0' shape=(128, 10) dtype=float32_ref>\n",
      "\n",
      "*** custom_model_fn() : logits shape= (?, 10) / labels shape= (?,)\n",
      "INFO:tensorflow:Done calling model_fn.\n"
     ]
    },
    {
     "name": "stderr",
     "output_type": "stream",
     "text": [
      "I0523 08:39:13.947401 140697495811904 estimator.py:1113] Done calling model_fn.\n"
     ]
    },
    {
     "name": "stdout",
     "output_type": "stream",
     "text": [
      "INFO:tensorflow:Starting evaluation at 2019-05-23T06:39:13Z\n"
     ]
    },
    {
     "name": "stderr",
     "output_type": "stream",
     "text": [
      "I0523 08:39:13.966263 140697495811904 evaluation.py:257] Starting evaluation at 2019-05-23T06:39:13Z\n"
     ]
    },
    {
     "name": "stdout",
     "output_type": "stream",
     "text": [
      "INFO:tensorflow:Graph was finalized.\n"
     ]
    },
    {
     "name": "stderr",
     "output_type": "stream",
     "text": [
      "I0523 08:39:14.246836 140697495811904 monitored_session.py:222] Graph was finalized.\n"
     ]
    },
    {
     "name": "stdout",
     "output_type": "stream",
     "text": [
      "INFO:tensorflow:Restoring parameters from ./tmp/baseline/RNN/SGRU/model.ckpt-20\n"
     ]
    },
    {
     "name": "stderr",
     "output_type": "stream",
     "text": [
      "I0523 08:39:14.248700 140697495811904 saver.py:1270] Restoring parameters from ./tmp/baseline/RNN/SGRU/model.ckpt-20\n"
     ]
    },
    {
     "name": "stdout",
     "output_type": "stream",
     "text": [
      "INFO:tensorflow:Running local_init_op.\n"
     ]
    },
    {
     "name": "stderr",
     "output_type": "stream",
     "text": [
      "I0523 08:39:14.336932 140697495811904 session_manager.py:491] Running local_init_op.\n"
     ]
    },
    {
     "name": "stdout",
     "output_type": "stream",
     "text": [
      "INFO:tensorflow:Done running local_init_op.\n"
     ]
    },
    {
     "name": "stderr",
     "output_type": "stream",
     "text": [
      "I0523 08:39:14.361694 140697495811904 session_manager.py:493] Done running local_init_op.\n"
     ]
    },
    {
     "name": "stdout",
     "output_type": "stream",
     "text": [
      "\n",
      "*** generator() : labels shape= (10000,) / label values= 0\n",
      "INFO:tensorflow:Finished evaluation at 2019-05-23-06:39:15\n"
     ]
    },
    {
     "name": "stderr",
     "output_type": "stream",
     "text": [
      "I0523 08:39:15.942923 140697495811904 evaluation.py:277] Finished evaluation at 2019-05-23-06:39:15\n"
     ]
    },
    {
     "name": "stdout",
     "output_type": "stream",
     "text": [
      "INFO:tensorflow:Saving dict for global step 20: RNN_Eval_accuracy = 0.3937, global_step = 20, loss = 1.7919664\n"
     ]
    },
    {
     "name": "stderr",
     "output_type": "stream",
     "text": [
      "I0523 08:39:15.943824 140697495811904 estimator.py:1979] Saving dict for global step 20: RNN_Eval_accuracy = 0.3937, global_step = 20, loss = 1.7919664\n"
     ]
    },
    {
     "name": "stdout",
     "output_type": "stream",
     "text": [
      "INFO:tensorflow:Saving 'checkpoint_path' summary for global step 20: ./tmp/baseline/RNN/SGRU/model.ckpt-20\n"
     ]
    },
    {
     "name": "stderr",
     "output_type": "stream",
     "text": [
      "I0523 08:39:15.945062 140697495811904 estimator.py:2039] Saving 'checkpoint_path' summary for global step 20: ./tmp/baseline/RNN/SGRU/model.ckpt-20\n"
     ]
    },
    {
     "name": "stdout",
     "output_type": "stream",
     "text": [
      "INFO:tensorflow:Saving checkpoints for 30 into ./tmp/baseline/RNN/SGRU/model.ckpt.\n"
     ]
    },
    {
     "name": "stderr",
     "output_type": "stream",
     "text": [
      "I0523 08:39:16.478705 140697495811904 basic_session_run_hooks.py:594] Saving checkpoints for 30 into ./tmp/baseline/RNN/SGRU/model.ckpt.\n"
     ]
    },
    {
     "name": "stdout",
     "output_type": "stream",
     "text": [
      "\n",
      "*** input_fn() : feature_shape= (28, 28) / label_shape= [1]\n",
      "\n",
      "*** input_fn : TEST / feature_shape= (28, 28)\n",
      "\n",
      "*** preprocess_image() : image shape= (28, 28)\n",
      "\n",
      "*** preprocess_image() : features= {'images': <tf.Tensor 'arg0:0' shape=(28, 28) dtype=float32>} / label shape= ()\n",
      "\n",
      "***_input_fn() : Label shape =[1]\n",
      "INFO:tensorflow:Calling model_fn.\n"
     ]
    },
    {
     "name": "stderr",
     "output_type": "stream",
     "text": [
      "I0523 08:39:16.987758 140697495811904 estimator.py:1111] Calling model_fn.\n"
     ]
    },
    {
     "name": "stdout",
     "output_type": "stream",
     "text": [
      "\n",
      "*** custom_model_fn() : input_layer shape= (?, 784) / Labels shape= (?,)\n",
      "\n",
      "*** _build_rnn_subnetwork() : output[-1]= Tensor(\"RNN/rnn/rnn/multi_rnn_cell/cell_1/gru_cell/add_27:0\", shape=(?, 128), dtype=float32) / Weight= <tf.Variable 'W:0' shape=(128, 10) dtype=float32_ref>\n",
      "\n",
      "*** custom_model_fn() : logits shape= (?, 10) / labels shape= (?,)\n",
      "INFO:tensorflow:Done calling model_fn.\n"
     ]
    },
    {
     "name": "stderr",
     "output_type": "stream",
     "text": [
      "I0523 08:39:17.582442 140697495811904 estimator.py:1113] Done calling model_fn.\n"
     ]
    },
    {
     "name": "stdout",
     "output_type": "stream",
     "text": [
      "INFO:tensorflow:Starting evaluation at 2019-05-23T06:39:17Z\n"
     ]
    },
    {
     "name": "stderr",
     "output_type": "stream",
     "text": [
      "I0523 08:39:17.605779 140697495811904 evaluation.py:257] Starting evaluation at 2019-05-23T06:39:17Z\n"
     ]
    },
    {
     "name": "stdout",
     "output_type": "stream",
     "text": [
      "INFO:tensorflow:Graph was finalized.\n"
     ]
    },
    {
     "name": "stderr",
     "output_type": "stream",
     "text": [
      "I0523 08:39:17.737662 140697495811904 monitored_session.py:222] Graph was finalized.\n"
     ]
    },
    {
     "name": "stdout",
     "output_type": "stream",
     "text": [
      "INFO:tensorflow:Restoring parameters from ./tmp/baseline/RNN/SGRU/model.ckpt-30\n"
     ]
    },
    {
     "name": "stderr",
     "output_type": "stream",
     "text": [
      "I0523 08:39:17.740259 140697495811904 saver.py:1270] Restoring parameters from ./tmp/baseline/RNN/SGRU/model.ckpt-30\n"
     ]
    },
    {
     "name": "stdout",
     "output_type": "stream",
     "text": [
      "INFO:tensorflow:Running local_init_op.\n"
     ]
    },
    {
     "name": "stderr",
     "output_type": "stream",
     "text": [
      "I0523 08:39:17.807638 140697495811904 session_manager.py:491] Running local_init_op.\n"
     ]
    },
    {
     "name": "stdout",
     "output_type": "stream",
     "text": [
      "INFO:tensorflow:Done running local_init_op.\n"
     ]
    },
    {
     "name": "stderr",
     "output_type": "stream",
     "text": [
      "I0523 08:39:17.835337 140697495811904 session_manager.py:493] Done running local_init_op.\n"
     ]
    },
    {
     "name": "stdout",
     "output_type": "stream",
     "text": [
      "\n",
      "*** generator() : labels shape= (10000,) / label values= 0\n",
      "INFO:tensorflow:Finished evaluation at 2019-05-23-06:39:19\n"
     ]
    },
    {
     "name": "stderr",
     "output_type": "stream",
     "text": [
      "I0523 08:39:19.471060 140697495811904 evaluation.py:277] Finished evaluation at 2019-05-23-06:39:19\n"
     ]
    },
    {
     "name": "stdout",
     "output_type": "stream",
     "text": [
      "INFO:tensorflow:Saving dict for global step 30: RNN_Eval_accuracy = 0.5557, global_step = 30, loss = 1.4739664\n"
     ]
    },
    {
     "name": "stderr",
     "output_type": "stream",
     "text": [
      "I0523 08:39:19.471828 140697495811904 estimator.py:1979] Saving dict for global step 30: RNN_Eval_accuracy = 0.5557, global_step = 30, loss = 1.4739664\n"
     ]
    },
    {
     "name": "stdout",
     "output_type": "stream",
     "text": [
      "INFO:tensorflow:Saving 'checkpoint_path' summary for global step 30: ./tmp/baseline/RNN/SGRU/model.ckpt-30\n"
     ]
    },
    {
     "name": "stderr",
     "output_type": "stream",
     "text": [
      "I0523 08:39:19.472989 140697495811904 estimator.py:2039] Saving 'checkpoint_path' summary for global step 30: ./tmp/baseline/RNN/SGRU/model.ckpt-30\n"
     ]
    },
    {
     "name": "stdout",
     "output_type": "stream",
     "text": [
      "INFO:tensorflow:Saving checkpoints for 40 into ./tmp/baseline/RNN/SGRU/model.ckpt.\n"
     ]
    },
    {
     "name": "stderr",
     "output_type": "stream",
     "text": [
      "I0523 08:39:20.014921 140697495811904 basic_session_run_hooks.py:594] Saving checkpoints for 40 into ./tmp/baseline/RNN/SGRU/model.ckpt.\n"
     ]
    },
    {
     "name": "stdout",
     "output_type": "stream",
     "text": [
      "\n",
      "*** input_fn() : feature_shape= (28, 28) / label_shape= [1]\n",
      "\n",
      "*** input_fn : TEST / feature_shape= (28, 28)\n",
      "\n",
      "*** preprocess_image() : image shape= (28, 28)\n",
      "\n",
      "*** preprocess_image() : features= {'images': <tf.Tensor 'arg0:0' shape=(28, 28) dtype=float32>} / label shape= ()\n",
      "\n",
      "***_input_fn() : Label shape =[1]\n",
      "INFO:tensorflow:Calling model_fn.\n"
     ]
    },
    {
     "name": "stderr",
     "output_type": "stream",
     "text": [
      "I0523 08:39:20.559873 140697495811904 estimator.py:1111] Calling model_fn.\n"
     ]
    },
    {
     "name": "stdout",
     "output_type": "stream",
     "text": [
      "\n",
      "*** custom_model_fn() : input_layer shape= (?, 784) / Labels shape= (?,)\n",
      "\n",
      "*** _build_rnn_subnetwork() : output[-1]= Tensor(\"RNN/rnn/rnn/multi_rnn_cell/cell_1/gru_cell/add_27:0\", shape=(?, 128), dtype=float32) / Weight= <tf.Variable 'W:0' shape=(128, 10) dtype=float32_ref>\n",
      "\n",
      "*** custom_model_fn() : logits shape= (?, 10) / labels shape= (?,)\n",
      "INFO:tensorflow:Done calling model_fn.\n"
     ]
    },
    {
     "name": "stderr",
     "output_type": "stream",
     "text": [
      "I0523 08:39:21.412280 140697495811904 estimator.py:1113] Done calling model_fn.\n"
     ]
    },
    {
     "name": "stdout",
     "output_type": "stream",
     "text": [
      "INFO:tensorflow:Starting evaluation at 2019-05-23T06:39:21Z\n"
     ]
    },
    {
     "name": "stderr",
     "output_type": "stream",
     "text": [
      "I0523 08:39:21.430574 140697495811904 evaluation.py:257] Starting evaluation at 2019-05-23T06:39:21Z\n"
     ]
    },
    {
     "name": "stdout",
     "output_type": "stream",
     "text": [
      "INFO:tensorflow:Graph was finalized.\n"
     ]
    },
    {
     "name": "stderr",
     "output_type": "stream",
     "text": [
      "I0523 08:39:21.546269 140697495811904 monitored_session.py:222] Graph was finalized.\n"
     ]
    },
    {
     "name": "stdout",
     "output_type": "stream",
     "text": [
      "INFO:tensorflow:Restoring parameters from ./tmp/baseline/RNN/SGRU/model.ckpt-40\n"
     ]
    },
    {
     "name": "stderr",
     "output_type": "stream",
     "text": [
      "I0523 08:39:21.548352 140697495811904 saver.py:1270] Restoring parameters from ./tmp/baseline/RNN/SGRU/model.ckpt-40\n"
     ]
    },
    {
     "name": "stdout",
     "output_type": "stream",
     "text": [
      "INFO:tensorflow:Running local_init_op.\n"
     ]
    },
    {
     "name": "stderr",
     "output_type": "stream",
     "text": [
      "I0523 08:39:21.627316 140697495811904 session_manager.py:491] Running local_init_op.\n"
     ]
    },
    {
     "name": "stdout",
     "output_type": "stream",
     "text": [
      "INFO:tensorflow:Done running local_init_op.\n"
     ]
    },
    {
     "name": "stderr",
     "output_type": "stream",
     "text": [
      "I0523 08:39:21.647923 140697495811904 session_manager.py:493] Done running local_init_op.\n"
     ]
    },
    {
     "name": "stdout",
     "output_type": "stream",
     "text": [
      "\n",
      "*** generator() : labels shape= (10000,) / label values= 0\n",
      "INFO:tensorflow:Finished evaluation at 2019-05-23-06:39:23\n"
     ]
    },
    {
     "name": "stderr",
     "output_type": "stream",
     "text": [
      "I0523 08:39:23.260982 140697495811904 evaluation.py:277] Finished evaluation at 2019-05-23-06:39:23\n"
     ]
    },
    {
     "name": "stdout",
     "output_type": "stream",
     "text": [
      "INFO:tensorflow:Saving dict for global step 40: RNN_Eval_accuracy = 0.6166, global_step = 40, loss = 1.2138826\n"
     ]
    },
    {
     "name": "stderr",
     "output_type": "stream",
     "text": [
      "I0523 08:39:23.262089 140697495811904 estimator.py:1979] Saving dict for global step 40: RNN_Eval_accuracy = 0.6166, global_step = 40, loss = 1.2138826\n"
     ]
    },
    {
     "name": "stdout",
     "output_type": "stream",
     "text": [
      "INFO:tensorflow:Saving 'checkpoint_path' summary for global step 40: ./tmp/baseline/RNN/SGRU/model.ckpt-40\n"
     ]
    },
    {
     "name": "stderr",
     "output_type": "stream",
     "text": [
      "I0523 08:39:23.263117 140697495811904 estimator.py:2039] Saving 'checkpoint_path' summary for global step 40: ./tmp/baseline/RNN/SGRU/model.ckpt-40\n"
     ]
    },
    {
     "name": "stdout",
     "output_type": "stream",
     "text": [
      "INFO:tensorflow:Saving checkpoints for 50 into ./tmp/baseline/RNN/SGRU/model.ckpt.\n"
     ]
    },
    {
     "name": "stderr",
     "output_type": "stream",
     "text": [
      "I0523 08:39:23.812309 140697495811904 basic_session_run_hooks.py:594] Saving checkpoints for 50 into ./tmp/baseline/RNN/SGRU/model.ckpt.\n"
     ]
    },
    {
     "name": "stdout",
     "output_type": "stream",
     "text": [
      "WARNING:tensorflow:From /home/bangui/anaconda3/lib/python3.6/site-packages/tensorflow/python/training/saver.py:966: remove_checkpoint (from tensorflow.python.training.checkpoint_management) is deprecated and will be removed in a future version.\n",
      "Instructions for updating:\n",
      "Use standard file APIs to delete files with this prefix.\n"
     ]
    },
    {
     "name": "stderr",
     "output_type": "stream",
     "text": [
      "W0523 08:39:23.818451 140697495811904 deprecation.py:323] From /home/bangui/anaconda3/lib/python3.6/site-packages/tensorflow/python/training/saver.py:966: remove_checkpoint (from tensorflow.python.training.checkpoint_management) is deprecated and will be removed in a future version.\n",
      "Instructions for updating:\n",
      "Use standard file APIs to delete files with this prefix.\n"
     ]
    },
    {
     "name": "stdout",
     "output_type": "stream",
     "text": [
      "\n",
      "*** input_fn() : feature_shape= (28, 28) / label_shape= [1]\n",
      "\n",
      "*** input_fn : TEST / feature_shape= (28, 28)\n",
      "\n",
      "*** preprocess_image() : image shape= (28, 28)\n",
      "\n",
      "*** preprocess_image() : features= {'images': <tf.Tensor 'arg0:0' shape=(28, 28) dtype=float32>} / label shape= ()\n",
      "\n",
      "***_input_fn() : Label shape =[1]\n",
      "INFO:tensorflow:Calling model_fn.\n"
     ]
    },
    {
     "name": "stderr",
     "output_type": "stream",
     "text": [
      "I0523 08:39:24.347136 140697495811904 estimator.py:1111] Calling model_fn.\n"
     ]
    },
    {
     "name": "stdout",
     "output_type": "stream",
     "text": [
      "\n",
      "*** custom_model_fn() : input_layer shape= (?, 784) / Labels shape= (?,)\n",
      "\n",
      "*** _build_rnn_subnetwork() : output[-1]= Tensor(\"RNN/rnn/rnn/multi_rnn_cell/cell_1/gru_cell/add_27:0\", shape=(?, 128), dtype=float32) / Weight= <tf.Variable 'W:0' shape=(128, 10) dtype=float32_ref>\n",
      "\n",
      "*** custom_model_fn() : logits shape= (?, 10) / labels shape= (?,)\n",
      "INFO:tensorflow:Done calling model_fn.\n"
     ]
    },
    {
     "name": "stderr",
     "output_type": "stream",
     "text": [
      "I0523 08:39:24.937050 140697495811904 estimator.py:1113] Done calling model_fn.\n"
     ]
    },
    {
     "name": "stdout",
     "output_type": "stream",
     "text": [
      "INFO:tensorflow:Starting evaluation at 2019-05-23T06:39:24Z\n"
     ]
    },
    {
     "name": "stderr",
     "output_type": "stream",
     "text": [
      "I0523 08:39:24.955841 140697495811904 evaluation.py:257] Starting evaluation at 2019-05-23T06:39:24Z\n"
     ]
    },
    {
     "name": "stdout",
     "output_type": "stream",
     "text": [
      "INFO:tensorflow:Graph was finalized.\n"
     ]
    },
    {
     "name": "stderr",
     "output_type": "stream",
     "text": [
      "I0523 08:39:25.085031 140697495811904 monitored_session.py:222] Graph was finalized.\n"
     ]
    },
    {
     "name": "stdout",
     "output_type": "stream",
     "text": [
      "INFO:tensorflow:Restoring parameters from ./tmp/baseline/RNN/SGRU/model.ckpt-50\n"
     ]
    },
    {
     "name": "stderr",
     "output_type": "stream",
     "text": [
      "I0523 08:39:25.086964 140697495811904 saver.py:1270] Restoring parameters from ./tmp/baseline/RNN/SGRU/model.ckpt-50\n"
     ]
    },
    {
     "name": "stdout",
     "output_type": "stream",
     "text": [
      "INFO:tensorflow:Running local_init_op.\n"
     ]
    },
    {
     "name": "stderr",
     "output_type": "stream",
     "text": [
      "I0523 08:39:25.170419 140697495811904 session_manager.py:491] Running local_init_op.\n"
     ]
    },
    {
     "name": "stdout",
     "output_type": "stream",
     "text": [
      "INFO:tensorflow:Done running local_init_op.\n"
     ]
    },
    {
     "name": "stderr",
     "output_type": "stream",
     "text": [
      "I0523 08:39:25.189656 140697495811904 session_manager.py:493] Done running local_init_op.\n"
     ]
    },
    {
     "name": "stdout",
     "output_type": "stream",
     "text": [
      "\n",
      "*** generator() : labels shape= (10000,) / label values= 0\n",
      "INFO:tensorflow:Finished evaluation at 2019-05-23-06:39:26\n"
     ]
    },
    {
     "name": "stderr",
     "output_type": "stream",
     "text": [
      "I0523 08:39:26.832197 140697495811904 evaluation.py:277] Finished evaluation at 2019-05-23-06:39:26\n"
     ]
    },
    {
     "name": "stdout",
     "output_type": "stream",
     "text": [
      "INFO:tensorflow:Saving dict for global step 50: RNN_Eval_accuracy = 0.7112, global_step = 50, loss = 0.98436666\n"
     ]
    },
    {
     "name": "stderr",
     "output_type": "stream",
     "text": [
      "I0523 08:39:26.833039 140697495811904 estimator.py:1979] Saving dict for global step 50: RNN_Eval_accuracy = 0.7112, global_step = 50, loss = 0.98436666\n"
     ]
    },
    {
     "name": "stdout",
     "output_type": "stream",
     "text": [
      "INFO:tensorflow:Saving 'checkpoint_path' summary for global step 50: ./tmp/baseline/RNN/SGRU/model.ckpt-50\n"
     ]
    },
    {
     "name": "stderr",
     "output_type": "stream",
     "text": [
      "I0523 08:39:26.834038 140697495811904 estimator.py:2039] Saving 'checkpoint_path' summary for global step 50: ./tmp/baseline/RNN/SGRU/model.ckpt-50\n"
     ]
    },
    {
     "name": "stdout",
     "output_type": "stream",
     "text": [
      "INFO:tensorflow:Saving checkpoints for 60 into ./tmp/baseline/RNN/SGRU/model.ckpt.\n"
     ]
    },
    {
     "name": "stderr",
     "output_type": "stream",
     "text": [
      "I0523 08:39:27.397871 140697495811904 basic_session_run_hooks.py:594] Saving checkpoints for 60 into ./tmp/baseline/RNN/SGRU/model.ckpt.\n"
     ]
    },
    {
     "name": "stdout",
     "output_type": "stream",
     "text": [
      "\n",
      "*** input_fn() : feature_shape= (28, 28) / label_shape= [1]\n",
      "\n",
      "*** input_fn : TEST / feature_shape= (28, 28)\n",
      "\n",
      "*** preprocess_image() : image shape= (28, 28)\n",
      "\n",
      "*** preprocess_image() : features= {'images': <tf.Tensor 'arg0:0' shape=(28, 28) dtype=float32>} / label shape= ()\n",
      "\n",
      "***_input_fn() : Label shape =[1]\n",
      "INFO:tensorflow:Calling model_fn.\n"
     ]
    },
    {
     "name": "stderr",
     "output_type": "stream",
     "text": [
      "I0523 08:39:27.968580 140697495811904 estimator.py:1111] Calling model_fn.\n"
     ]
    },
    {
     "name": "stdout",
     "output_type": "stream",
     "text": [
      "\n",
      "*** custom_model_fn() : input_layer shape= (?, 784) / Labels shape= (?,)\n",
      "\n",
      "*** _build_rnn_subnetwork() : output[-1]= Tensor(\"RNN/rnn/rnn/multi_rnn_cell/cell_1/gru_cell/add_27:0\", shape=(?, 128), dtype=float32) / Weight= <tf.Variable 'W:0' shape=(128, 10) dtype=float32_ref>\n",
      "\n",
      "*** custom_model_fn() : logits shape= (?, 10) / labels shape= (?,)\n",
      "INFO:tensorflow:Done calling model_fn.\n"
     ]
    },
    {
     "name": "stderr",
     "output_type": "stream",
     "text": [
      "I0523 08:39:28.819842 140697495811904 estimator.py:1113] Done calling model_fn.\n"
     ]
    },
    {
     "name": "stdout",
     "output_type": "stream",
     "text": [
      "INFO:tensorflow:Starting evaluation at 2019-05-23T06:39:28Z\n"
     ]
    },
    {
     "name": "stderr",
     "output_type": "stream",
     "text": [
      "I0523 08:39:28.838570 140697495811904 evaluation.py:257] Starting evaluation at 2019-05-23T06:39:28Z\n"
     ]
    },
    {
     "name": "stdout",
     "output_type": "stream",
     "text": [
      "INFO:tensorflow:Graph was finalized.\n"
     ]
    },
    {
     "name": "stderr",
     "output_type": "stream",
     "text": [
      "I0523 08:39:28.955198 140697495811904 monitored_session.py:222] Graph was finalized.\n"
     ]
    },
    {
     "name": "stdout",
     "output_type": "stream",
     "text": [
      "INFO:tensorflow:Restoring parameters from ./tmp/baseline/RNN/SGRU/model.ckpt-60\n"
     ]
    },
    {
     "name": "stderr",
     "output_type": "stream",
     "text": [
      "I0523 08:39:28.957129 140697495811904 saver.py:1270] Restoring parameters from ./tmp/baseline/RNN/SGRU/model.ckpt-60\n"
     ]
    },
    {
     "name": "stdout",
     "output_type": "stream",
     "text": [
      "INFO:tensorflow:Running local_init_op.\n"
     ]
    },
    {
     "name": "stderr",
     "output_type": "stream",
     "text": [
      "I0523 08:39:29.046278 140697495811904 session_manager.py:491] Running local_init_op.\n"
     ]
    },
    {
     "name": "stdout",
     "output_type": "stream",
     "text": [
      "INFO:tensorflow:Done running local_init_op.\n"
     ]
    },
    {
     "name": "stderr",
     "output_type": "stream",
     "text": [
      "I0523 08:39:29.064911 140697495811904 session_manager.py:493] Done running local_init_op.\n"
     ]
    },
    {
     "name": "stdout",
     "output_type": "stream",
     "text": [
      "\n",
      "*** generator() : labels shape= (10000,) / label values= 0\n",
      "INFO:tensorflow:Finished evaluation at 2019-05-23-06:39:30\n"
     ]
    },
    {
     "name": "stderr",
     "output_type": "stream",
     "text": [
      "I0523 08:39:30.734409 140697495811904 evaluation.py:277] Finished evaluation at 2019-05-23-06:39:30\n"
     ]
    },
    {
     "name": "stdout",
     "output_type": "stream",
     "text": [
      "INFO:tensorflow:Saving dict for global step 60: RNN_Eval_accuracy = 0.7504, global_step = 60, loss = 0.8286836\n"
     ]
    },
    {
     "name": "stderr",
     "output_type": "stream",
     "text": [
      "I0523 08:39:30.735609 140697495811904 estimator.py:1979] Saving dict for global step 60: RNN_Eval_accuracy = 0.7504, global_step = 60, loss = 0.8286836\n"
     ]
    },
    {
     "name": "stdout",
     "output_type": "stream",
     "text": [
      "INFO:tensorflow:Saving 'checkpoint_path' summary for global step 60: ./tmp/baseline/RNN/SGRU/model.ckpt-60\n"
     ]
    },
    {
     "name": "stderr",
     "output_type": "stream",
     "text": [
      "I0523 08:39:30.737672 140697495811904 estimator.py:2039] Saving 'checkpoint_path' summary for global step 60: ./tmp/baseline/RNN/SGRU/model.ckpt-60\n"
     ]
    },
    {
     "name": "stdout",
     "output_type": "stream",
     "text": [
      "INFO:tensorflow:Saving checkpoints for 70 into ./tmp/baseline/RNN/SGRU/model.ckpt.\n"
     ]
    },
    {
     "name": "stderr",
     "output_type": "stream",
     "text": [
      "I0523 08:39:31.319301 140697495811904 basic_session_run_hooks.py:594] Saving checkpoints for 70 into ./tmp/baseline/RNN/SGRU/model.ckpt.\n"
     ]
    },
    {
     "name": "stdout",
     "output_type": "stream",
     "text": [
      "\n",
      "*** input_fn() : feature_shape= (28, 28) / label_shape= [1]\n",
      "\n",
      "*** input_fn : TEST / feature_shape= (28, 28)\n",
      "\n",
      "*** preprocess_image() : image shape= (28, 28)\n",
      "\n",
      "*** preprocess_image() : features= {'images': <tf.Tensor 'arg0:0' shape=(28, 28) dtype=float32>} / label shape= ()\n",
      "\n",
      "***_input_fn() : Label shape =[1]\n",
      "INFO:tensorflow:Calling model_fn.\n"
     ]
    },
    {
     "name": "stderr",
     "output_type": "stream",
     "text": [
      "I0523 08:39:31.872569 140697495811904 estimator.py:1111] Calling model_fn.\n"
     ]
    },
    {
     "name": "stdout",
     "output_type": "stream",
     "text": [
      "\n",
      "*** custom_model_fn() : input_layer shape= (?, 784) / Labels shape= (?,)\n",
      "\n",
      "*** _build_rnn_subnetwork() : output[-1]= Tensor(\"RNN/rnn/rnn/multi_rnn_cell/cell_1/gru_cell/add_27:0\", shape=(?, 128), dtype=float32) / Weight= <tf.Variable 'W:0' shape=(128, 10) dtype=float32_ref>\n",
      "\n",
      "*** custom_model_fn() : logits shape= (?, 10) / labels shape= (?,)\n",
      "INFO:tensorflow:Done calling model_fn.\n"
     ]
    },
    {
     "name": "stderr",
     "output_type": "stream",
     "text": [
      "I0523 08:39:32.551603 140697495811904 estimator.py:1113] Done calling model_fn.\n"
     ]
    },
    {
     "name": "stdout",
     "output_type": "stream",
     "text": [
      "INFO:tensorflow:Starting evaluation at 2019-05-23T06:39:32Z\n"
     ]
    },
    {
     "name": "stderr",
     "output_type": "stream",
     "text": [
      "I0523 08:39:32.570771 140697495811904 evaluation.py:257] Starting evaluation at 2019-05-23T06:39:32Z\n"
     ]
    },
    {
     "name": "stdout",
     "output_type": "stream",
     "text": [
      "INFO:tensorflow:Graph was finalized.\n"
     ]
    },
    {
     "name": "stderr",
     "output_type": "stream",
     "text": [
      "I0523 08:39:32.688611 140697495811904 monitored_session.py:222] Graph was finalized.\n"
     ]
    },
    {
     "name": "stdout",
     "output_type": "stream",
     "text": [
      "INFO:tensorflow:Restoring parameters from ./tmp/baseline/RNN/SGRU/model.ckpt-70\n"
     ]
    },
    {
     "name": "stderr",
     "output_type": "stream",
     "text": [
      "I0523 08:39:32.696301 140697495811904 saver.py:1270] Restoring parameters from ./tmp/baseline/RNN/SGRU/model.ckpt-70\n"
     ]
    },
    {
     "name": "stdout",
     "output_type": "stream",
     "text": [
      "INFO:tensorflow:Running local_init_op.\n"
     ]
    },
    {
     "name": "stderr",
     "output_type": "stream",
     "text": [
      "I0523 08:39:32.792284 140697495811904 session_manager.py:491] Running local_init_op.\n"
     ]
    },
    {
     "name": "stdout",
     "output_type": "stream",
     "text": [
      "INFO:tensorflow:Done running local_init_op.\n"
     ]
    },
    {
     "name": "stderr",
     "output_type": "stream",
     "text": [
      "I0523 08:39:32.808494 140697495811904 session_manager.py:493] Done running local_init_op.\n"
     ]
    },
    {
     "name": "stdout",
     "output_type": "stream",
     "text": [
      "\n",
      "*** generator() : labels shape= (10000,) / label values= 0\n",
      "INFO:tensorflow:Finished evaluation at 2019-05-23-06:39:34\n"
     ]
    },
    {
     "name": "stderr",
     "output_type": "stream",
     "text": [
      "I0523 08:39:34.491327 140697495811904 evaluation.py:277] Finished evaluation at 2019-05-23-06:39:34\n"
     ]
    },
    {
     "name": "stdout",
     "output_type": "stream",
     "text": [
      "INFO:tensorflow:Saving dict for global step 70: RNN_Eval_accuracy = 0.7676, global_step = 70, loss = 0.7309612\n"
     ]
    },
    {
     "name": "stderr",
     "output_type": "stream",
     "text": [
      "I0523 08:39:34.492121 140697495811904 estimator.py:1979] Saving dict for global step 70: RNN_Eval_accuracy = 0.7676, global_step = 70, loss = 0.7309612\n"
     ]
    },
    {
     "name": "stdout",
     "output_type": "stream",
     "text": [
      "INFO:tensorflow:Saving 'checkpoint_path' summary for global step 70: ./tmp/baseline/RNN/SGRU/model.ckpt-70\n"
     ]
    },
    {
     "name": "stderr",
     "output_type": "stream",
     "text": [
      "I0523 08:39:34.493373 140697495811904 estimator.py:2039] Saving 'checkpoint_path' summary for global step 70: ./tmp/baseline/RNN/SGRU/model.ckpt-70\n"
     ]
    },
    {
     "name": "stdout",
     "output_type": "stream",
     "text": [
      "INFO:tensorflow:Saving checkpoints for 80 into ./tmp/baseline/RNN/SGRU/model.ckpt.\n"
     ]
    },
    {
     "name": "stderr",
     "output_type": "stream",
     "text": [
      "I0523 08:39:35.080899 140697495811904 basic_session_run_hooks.py:594] Saving checkpoints for 80 into ./tmp/baseline/RNN/SGRU/model.ckpt.\n"
     ]
    },
    {
     "name": "stdout",
     "output_type": "stream",
     "text": [
      "\n",
      "*** input_fn() : feature_shape= (28, 28) / label_shape= [1]\n",
      "\n",
      "*** input_fn : TEST / feature_shape= (28, 28)\n",
      "\n",
      "*** preprocess_image() : image shape= (28, 28)\n",
      "\n",
      "*** preprocess_image() : features= {'images': <tf.Tensor 'arg0:0' shape=(28, 28) dtype=float32>} / label shape= ()\n",
      "\n",
      "***_input_fn() : Label shape =[1]\n",
      "INFO:tensorflow:Calling model_fn.\n"
     ]
    },
    {
     "name": "stderr",
     "output_type": "stream",
     "text": [
      "I0523 08:39:35.598785 140697495811904 estimator.py:1111] Calling model_fn.\n"
     ]
    },
    {
     "name": "stdout",
     "output_type": "stream",
     "text": [
      "\n",
      "*** custom_model_fn() : input_layer shape= (?, 784) / Labels shape= (?,)\n",
      "\n",
      "*** _build_rnn_subnetwork() : output[-1]= Tensor(\"RNN/rnn/rnn/multi_rnn_cell/cell_1/gru_cell/add_27:0\", shape=(?, 128), dtype=float32) / Weight= <tf.Variable 'W:0' shape=(128, 10) dtype=float32_ref>\n",
      "\n",
      "*** custom_model_fn() : logits shape= (?, 10) / labels shape= (?,)\n",
      "INFO:tensorflow:Done calling model_fn.\n"
     ]
    },
    {
     "name": "stderr",
     "output_type": "stream",
     "text": [
      "I0523 08:39:36.477750 140697495811904 estimator.py:1113] Done calling model_fn.\n"
     ]
    },
    {
     "name": "stdout",
     "output_type": "stream",
     "text": [
      "INFO:tensorflow:Starting evaluation at 2019-05-23T06:39:36Z\n"
     ]
    },
    {
     "name": "stderr",
     "output_type": "stream",
     "text": [
      "I0523 08:39:36.496735 140697495811904 evaluation.py:257] Starting evaluation at 2019-05-23T06:39:36Z\n"
     ]
    },
    {
     "name": "stdout",
     "output_type": "stream",
     "text": [
      "INFO:tensorflow:Graph was finalized.\n"
     ]
    },
    {
     "name": "stderr",
     "output_type": "stream",
     "text": [
      "I0523 08:39:36.608379 140697495811904 monitored_session.py:222] Graph was finalized.\n"
     ]
    },
    {
     "name": "stdout",
     "output_type": "stream",
     "text": [
      "INFO:tensorflow:Restoring parameters from ./tmp/baseline/RNN/SGRU/model.ckpt-80\n"
     ]
    },
    {
     "name": "stderr",
     "output_type": "stream",
     "text": [
      "I0523 08:39:36.610537 140697495811904 saver.py:1270] Restoring parameters from ./tmp/baseline/RNN/SGRU/model.ckpt-80\n"
     ]
    },
    {
     "name": "stdout",
     "output_type": "stream",
     "text": [
      "INFO:tensorflow:Running local_init_op.\n"
     ]
    },
    {
     "name": "stderr",
     "output_type": "stream",
     "text": [
      "I0523 08:39:36.691402 140697495811904 session_manager.py:491] Running local_init_op.\n"
     ]
    },
    {
     "name": "stdout",
     "output_type": "stream",
     "text": [
      "INFO:tensorflow:Done running local_init_op.\n"
     ]
    },
    {
     "name": "stderr",
     "output_type": "stream",
     "text": [
      "I0523 08:39:36.708074 140697495811904 session_manager.py:493] Done running local_init_op.\n"
     ]
    },
    {
     "name": "stdout",
     "output_type": "stream",
     "text": [
      "\n",
      "*** generator() : labels shape= (10000,) / label values= 0\n",
      "INFO:tensorflow:Finished evaluation at 2019-05-23-06:39:38\n"
     ]
    },
    {
     "name": "stderr",
     "output_type": "stream",
     "text": [
      "I0523 08:39:38.370836 140697495811904 evaluation.py:277] Finished evaluation at 2019-05-23-06:39:38\n"
     ]
    },
    {
     "name": "stdout",
     "output_type": "stream",
     "text": [
      "INFO:tensorflow:Saving dict for global step 80: RNN_Eval_accuracy = 0.8135, global_step = 80, loss = 0.6130988\n"
     ]
    },
    {
     "name": "stderr",
     "output_type": "stream",
     "text": [
      "I0523 08:39:38.372010 140697495811904 estimator.py:1979] Saving dict for global step 80: RNN_Eval_accuracy = 0.8135, global_step = 80, loss = 0.6130988\n"
     ]
    },
    {
     "name": "stdout",
     "output_type": "stream",
     "text": [
      "INFO:tensorflow:Saving 'checkpoint_path' summary for global step 80: ./tmp/baseline/RNN/SGRU/model.ckpt-80\n"
     ]
    },
    {
     "name": "stderr",
     "output_type": "stream",
     "text": [
      "I0523 08:39:38.373486 140697495811904 estimator.py:2039] Saving 'checkpoint_path' summary for global step 80: ./tmp/baseline/RNN/SGRU/model.ckpt-80\n"
     ]
    },
    {
     "name": "stdout",
     "output_type": "stream",
     "text": [
      "INFO:tensorflow:Saving checkpoints for 90 into ./tmp/baseline/RNN/SGRU/model.ckpt.\n"
     ]
    },
    {
     "name": "stderr",
     "output_type": "stream",
     "text": [
      "I0523 08:39:38.953235 140697495811904 basic_session_run_hooks.py:594] Saving checkpoints for 90 into ./tmp/baseline/RNN/SGRU/model.ckpt.\n"
     ]
    },
    {
     "name": "stdout",
     "output_type": "stream",
     "text": [
      "\n",
      "*** input_fn() : feature_shape= (28, 28) / label_shape= [1]\n",
      "\n",
      "*** input_fn : TEST / feature_shape= (28, 28)\n",
      "\n",
      "*** preprocess_image() : image shape= (28, 28)\n",
      "\n",
      "*** preprocess_image() : features= {'images': <tf.Tensor 'arg0:0' shape=(28, 28) dtype=float32>} / label shape= ()\n",
      "\n",
      "***_input_fn() : Label shape =[1]\n",
      "INFO:tensorflow:Calling model_fn.\n"
     ]
    },
    {
     "name": "stderr",
     "output_type": "stream",
     "text": [
      "I0523 08:39:39.484844 140697495811904 estimator.py:1111] Calling model_fn.\n"
     ]
    },
    {
     "name": "stdout",
     "output_type": "stream",
     "text": [
      "\n",
      "*** custom_model_fn() : input_layer shape= (?, 784) / Labels shape= (?,)\n",
      "\n",
      "*** _build_rnn_subnetwork() : output[-1]= Tensor(\"RNN/rnn/rnn/multi_rnn_cell/cell_1/gru_cell/add_27:0\", shape=(?, 128), dtype=float32) / Weight= <tf.Variable 'W:0' shape=(128, 10) dtype=float32_ref>\n",
      "\n",
      "*** custom_model_fn() : logits shape= (?, 10) / labels shape= (?,)\n",
      "INFO:tensorflow:Done calling model_fn.\n"
     ]
    },
    {
     "name": "stderr",
     "output_type": "stream",
     "text": [
      "I0523 08:39:40.124441 140697495811904 estimator.py:1113] Done calling model_fn.\n"
     ]
    },
    {
     "name": "stdout",
     "output_type": "stream",
     "text": [
      "INFO:tensorflow:Starting evaluation at 2019-05-23T06:39:40Z\n"
     ]
    },
    {
     "name": "stderr",
     "output_type": "stream",
     "text": [
      "I0523 08:39:40.147572 140697495811904 evaluation.py:257] Starting evaluation at 2019-05-23T06:39:40Z\n"
     ]
    },
    {
     "name": "stdout",
     "output_type": "stream",
     "text": [
      "INFO:tensorflow:Graph was finalized.\n"
     ]
    },
    {
     "name": "stderr",
     "output_type": "stream",
     "text": [
      "I0523 08:39:40.272581 140697495811904 monitored_session.py:222] Graph was finalized.\n"
     ]
    },
    {
     "name": "stdout",
     "output_type": "stream",
     "text": [
      "INFO:tensorflow:Restoring parameters from ./tmp/baseline/RNN/SGRU/model.ckpt-90\n"
     ]
    },
    {
     "name": "stderr",
     "output_type": "stream",
     "text": [
      "I0523 08:39:40.275398 140697495811904 saver.py:1270] Restoring parameters from ./tmp/baseline/RNN/SGRU/model.ckpt-90\n"
     ]
    },
    {
     "name": "stdout",
     "output_type": "stream",
     "text": [
      "INFO:tensorflow:Running local_init_op.\n"
     ]
    },
    {
     "name": "stderr",
     "output_type": "stream",
     "text": [
      "I0523 08:39:40.356370 140697495811904 session_manager.py:491] Running local_init_op.\n"
     ]
    },
    {
     "name": "stdout",
     "output_type": "stream",
     "text": [
      "INFO:tensorflow:Done running local_init_op.\n"
     ]
    },
    {
     "name": "stderr",
     "output_type": "stream",
     "text": [
      "I0523 08:39:40.380667 140697495811904 session_manager.py:493] Done running local_init_op.\n"
     ]
    },
    {
     "name": "stdout",
     "output_type": "stream",
     "text": [
      "\n",
      "*** generator() : labels shape= (10000,) / label values= 0\n",
      "INFO:tensorflow:Finished evaluation at 2019-05-23-06:39:42\n"
     ]
    },
    {
     "name": "stderr",
     "output_type": "stream",
     "text": [
      "I0523 08:39:42.074728 140697495811904 evaluation.py:277] Finished evaluation at 2019-05-23-06:39:42\n"
     ]
    },
    {
     "name": "stdout",
     "output_type": "stream",
     "text": [
      "INFO:tensorflow:Saving dict for global step 90: RNN_Eval_accuracy = 0.8319, global_step = 90, loss = 0.5590496\n"
     ]
    },
    {
     "name": "stderr",
     "output_type": "stream",
     "text": [
      "I0523 08:39:42.075726 140697495811904 estimator.py:1979] Saving dict for global step 90: RNN_Eval_accuracy = 0.8319, global_step = 90, loss = 0.5590496\n"
     ]
    },
    {
     "name": "stdout",
     "output_type": "stream",
     "text": [
      "INFO:tensorflow:Saving 'checkpoint_path' summary for global step 90: ./tmp/baseline/RNN/SGRU/model.ckpt-90\n"
     ]
    },
    {
     "name": "stderr",
     "output_type": "stream",
     "text": [
      "I0523 08:39:42.076652 140697495811904 estimator.py:2039] Saving 'checkpoint_path' summary for global step 90: ./tmp/baseline/RNN/SGRU/model.ckpt-90\n"
     ]
    },
    {
     "name": "stdout",
     "output_type": "stream",
     "text": [
      "INFO:tensorflow:Saving checkpoints for 100 into ./tmp/baseline/RNN/SGRU/model.ckpt.\n"
     ]
    },
    {
     "name": "stderr",
     "output_type": "stream",
     "text": [
      "I0523 08:39:42.639707 140697495811904 basic_session_run_hooks.py:594] Saving checkpoints for 100 into ./tmp/baseline/RNN/SGRU/model.ckpt.\n"
     ]
    },
    {
     "name": "stdout",
     "output_type": "stream",
     "text": [
      "\n",
      "*** input_fn() : feature_shape= (28, 28) / label_shape= [1]\n",
      "\n",
      "*** input_fn : TEST / feature_shape= (28, 28)\n",
      "\n",
      "*** preprocess_image() : image shape= (28, 28)\n",
      "\n",
      "*** preprocess_image() : features= {'images': <tf.Tensor 'arg0:0' shape=(28, 28) dtype=float32>} / label shape= ()\n",
      "\n",
      "***_input_fn() : Label shape =[1]\n",
      "INFO:tensorflow:Calling model_fn.\n"
     ]
    },
    {
     "name": "stderr",
     "output_type": "stream",
     "text": [
      "I0523 08:39:43.153072 140697495811904 estimator.py:1111] Calling model_fn.\n"
     ]
    },
    {
     "name": "stdout",
     "output_type": "stream",
     "text": [
      "\n",
      "*** custom_model_fn() : input_layer shape= (?, 784) / Labels shape= (?,)\n",
      "\n",
      "*** _build_rnn_subnetwork() : output[-1]= Tensor(\"RNN/rnn/rnn/multi_rnn_cell/cell_1/gru_cell/add_27:0\", shape=(?, 128), dtype=float32) / Weight= <tf.Variable 'W:0' shape=(128, 10) dtype=float32_ref>\n",
      "\n",
      "*** custom_model_fn() : logits shape= (?, 10) / labels shape= (?,)\n",
      "INFO:tensorflow:Done calling model_fn.\n"
     ]
    },
    {
     "name": "stderr",
     "output_type": "stream",
     "text": [
      "I0523 08:39:44.062044 140697495811904 estimator.py:1113] Done calling model_fn.\n"
     ]
    },
    {
     "name": "stdout",
     "output_type": "stream",
     "text": [
      "INFO:tensorflow:Starting evaluation at 2019-05-23T06:39:44Z\n"
     ]
    },
    {
     "name": "stderr",
     "output_type": "stream",
     "text": [
      "I0523 08:39:44.091016 140697495811904 evaluation.py:257] Starting evaluation at 2019-05-23T06:39:44Z\n"
     ]
    },
    {
     "name": "stdout",
     "output_type": "stream",
     "text": [
      "INFO:tensorflow:Graph was finalized.\n"
     ]
    },
    {
     "name": "stderr",
     "output_type": "stream",
     "text": [
      "I0523 08:39:44.341767 140697495811904 monitored_session.py:222] Graph was finalized.\n"
     ]
    },
    {
     "name": "stdout",
     "output_type": "stream",
     "text": [
      "INFO:tensorflow:Restoring parameters from ./tmp/baseline/RNN/SGRU/model.ckpt-100\n"
     ]
    },
    {
     "name": "stderr",
     "output_type": "stream",
     "text": [
      "I0523 08:39:44.348547 140697495811904 saver.py:1270] Restoring parameters from ./tmp/baseline/RNN/SGRU/model.ckpt-100\n"
     ]
    },
    {
     "name": "stdout",
     "output_type": "stream",
     "text": [
      "INFO:tensorflow:Running local_init_op.\n"
     ]
    },
    {
     "name": "stderr",
     "output_type": "stream",
     "text": [
      "I0523 08:39:44.512815 140697495811904 session_manager.py:491] Running local_init_op.\n"
     ]
    },
    {
     "name": "stdout",
     "output_type": "stream",
     "text": [
      "INFO:tensorflow:Done running local_init_op.\n"
     ]
    },
    {
     "name": "stderr",
     "output_type": "stream",
     "text": [
      "I0523 08:39:44.538370 140697495811904 session_manager.py:493] Done running local_init_op.\n"
     ]
    },
    {
     "name": "stdout",
     "output_type": "stream",
     "text": [
      "\n",
      "*** generator() : labels shape= (10000,) / label values= 0\n",
      "INFO:tensorflow:Finished evaluation at 2019-05-23-06:39:47\n"
     ]
    },
    {
     "name": "stderr",
     "output_type": "stream",
     "text": [
      "I0523 08:39:47.361684 140697495811904 evaluation.py:277] Finished evaluation at 2019-05-23-06:39:47\n"
     ]
    },
    {
     "name": "stdout",
     "output_type": "stream",
     "text": [
      "INFO:tensorflow:Saving dict for global step 100: RNN_Eval_accuracy = 0.8343, global_step = 100, loss = 0.5191932\n"
     ]
    },
    {
     "name": "stderr",
     "output_type": "stream",
     "text": [
      "I0523 08:39:47.362828 140697495811904 estimator.py:1979] Saving dict for global step 100: RNN_Eval_accuracy = 0.8343, global_step = 100, loss = 0.5191932\n"
     ]
    },
    {
     "name": "stdout",
     "output_type": "stream",
     "text": [
      "INFO:tensorflow:Saving 'checkpoint_path' summary for global step 100: ./tmp/baseline/RNN/SGRU/model.ckpt-100\n"
     ]
    },
    {
     "name": "stderr",
     "output_type": "stream",
     "text": [
      "I0523 08:39:47.364686 140697495811904 estimator.py:2039] Saving 'checkpoint_path' summary for global step 100: ./tmp/baseline/RNN/SGRU/model.ckpt-100\n"
     ]
    },
    {
     "name": "stdout",
     "output_type": "stream",
     "text": [
      "INFO:tensorflow:global_step/sec: 2.29731\n"
     ]
    },
    {
     "name": "stderr",
     "output_type": "stream",
     "text": [
      "I0523 08:39:47.441457 140697495811904 basic_session_run_hooks.py:680] global_step/sec: 2.29731\n"
     ]
    },
    {
     "name": "stdout",
     "output_type": "stream",
     "text": [
      "INFO:tensorflow:loss = 0.5779985, step = 101 (43.533 sec)\n"
     ]
    },
    {
     "name": "stderr",
     "output_type": "stream",
     "text": [
      "I0523 08:39:47.445301 140697495811904 basic_session_run_hooks.py:247] loss = 0.5779985, step = 101 (43.533 sec)\n"
     ]
    },
    {
     "name": "stdout",
     "output_type": "stream",
     "text": [
      "INFO:tensorflow:Saving checkpoints for 110 into ./tmp/baseline/RNN/SGRU/model.ckpt.\n"
     ]
    },
    {
     "name": "stderr",
     "output_type": "stream",
     "text": [
      "I0523 08:39:48.309302 140697495811904 basic_session_run_hooks.py:594] Saving checkpoints for 110 into ./tmp/baseline/RNN/SGRU/model.ckpt.\n"
     ]
    },
    {
     "name": "stdout",
     "output_type": "stream",
     "text": [
      "\n",
      "*** input_fn() : feature_shape= (28, 28) / label_shape= [1]\n",
      "\n",
      "*** input_fn : TEST / feature_shape= (28, 28)\n",
      "\n",
      "*** preprocess_image() : image shape= (28, 28)\n",
      "\n",
      "*** preprocess_image() : features= {'images': <tf.Tensor 'arg0:0' shape=(28, 28) dtype=float32>} / label shape= ()\n",
      "\n",
      "***_input_fn() : Label shape =[1]\n",
      "INFO:tensorflow:Calling model_fn.\n"
     ]
    },
    {
     "name": "stderr",
     "output_type": "stream",
     "text": [
      "I0523 08:39:49.487907 140697495811904 estimator.py:1111] Calling model_fn.\n"
     ]
    },
    {
     "name": "stdout",
     "output_type": "stream",
     "text": [
      "\n",
      "*** custom_model_fn() : input_layer shape= (?, 784) / Labels shape= (?,)\n",
      "\n",
      "*** _build_rnn_subnetwork() : output[-1]= Tensor(\"RNN/rnn/rnn/multi_rnn_cell/cell_1/gru_cell/add_27:0\", shape=(?, 128), dtype=float32) / Weight= <tf.Variable 'W:0' shape=(128, 10) dtype=float32_ref>\n",
      "\n",
      "*** custom_model_fn() : logits shape= (?, 10) / labels shape= (?,)\n",
      "INFO:tensorflow:Done calling model_fn.\n"
     ]
    },
    {
     "name": "stderr",
     "output_type": "stream",
     "text": [
      "I0523 08:39:52.783801 140697495811904 estimator.py:1113] Done calling model_fn.\n"
     ]
    },
    {
     "name": "stdout",
     "output_type": "stream",
     "text": [
      "INFO:tensorflow:Starting evaluation at 2019-05-23T06:39:52Z\n"
     ]
    },
    {
     "name": "stderr",
     "output_type": "stream",
     "text": [
      "I0523 08:39:52.830959 140697495811904 evaluation.py:257] Starting evaluation at 2019-05-23T06:39:52Z\n"
     ]
    },
    {
     "name": "stdout",
     "output_type": "stream",
     "text": [
      "INFO:tensorflow:Graph was finalized.\n"
     ]
    },
    {
     "name": "stderr",
     "output_type": "stream",
     "text": [
      "I0523 08:39:53.012299 140697495811904 monitored_session.py:222] Graph was finalized.\n"
     ]
    },
    {
     "name": "stdout",
     "output_type": "stream",
     "text": [
      "INFO:tensorflow:Restoring parameters from ./tmp/baseline/RNN/SGRU/model.ckpt-110\n"
     ]
    },
    {
     "name": "stderr",
     "output_type": "stream",
     "text": [
      "I0523 08:39:53.016906 140697495811904 saver.py:1270] Restoring parameters from ./tmp/baseline/RNN/SGRU/model.ckpt-110\n"
     ]
    },
    {
     "name": "stdout",
     "output_type": "stream",
     "text": [
      "INFO:tensorflow:Running local_init_op.\n"
     ]
    },
    {
     "name": "stderr",
     "output_type": "stream",
     "text": [
      "I0523 08:39:53.143193 140697495811904 session_manager.py:491] Running local_init_op.\n"
     ]
    },
    {
     "name": "stdout",
     "output_type": "stream",
     "text": [
      "INFO:tensorflow:Done running local_init_op.\n"
     ]
    },
    {
     "name": "stderr",
     "output_type": "stream",
     "text": [
      "I0523 08:39:53.186288 140697495811904 session_manager.py:493] Done running local_init_op.\n"
     ]
    },
    {
     "name": "stdout",
     "output_type": "stream",
     "text": [
      "\n",
      "*** generator() : labels shape= (10000,) / label values= 0\n",
      "INFO:tensorflow:Finished evaluation at 2019-05-23-06:39:57\n"
     ]
    },
    {
     "name": "stderr",
     "output_type": "stream",
     "text": [
      "I0523 08:39:57.257805 140697495811904 evaluation.py:277] Finished evaluation at 2019-05-23-06:39:57\n"
     ]
    },
    {
     "name": "stdout",
     "output_type": "stream",
     "text": [
      "INFO:tensorflow:Saving dict for global step 110: RNN_Eval_accuracy = 0.855, global_step = 110, loss = 0.46326885\n"
     ]
    },
    {
     "name": "stderr",
     "output_type": "stream",
     "text": [
      "I0523 08:39:57.259283 140697495811904 estimator.py:1979] Saving dict for global step 110: RNN_Eval_accuracy = 0.855, global_step = 110, loss = 0.46326885\n"
     ]
    },
    {
     "name": "stdout",
     "output_type": "stream",
     "text": [
      "INFO:tensorflow:Saving 'checkpoint_path' summary for global step 110: ./tmp/baseline/RNN/SGRU/model.ckpt-110\n"
     ]
    },
    {
     "name": "stderr",
     "output_type": "stream",
     "text": [
      "I0523 08:39:57.260532 140697495811904 estimator.py:2039] Saving 'checkpoint_path' summary for global step 110: ./tmp/baseline/RNN/SGRU/model.ckpt-110\n"
     ]
    },
    {
     "name": "stdout",
     "output_type": "stream",
     "text": [
      "INFO:tensorflow:Saving checkpoints for 120 into ./tmp/baseline/RNN/SGRU/model.ckpt.\n"
     ]
    },
    {
     "name": "stderr",
     "output_type": "stream",
     "text": [
      "I0523 08:39:58.557621 140697495811904 basic_session_run_hooks.py:594] Saving checkpoints for 120 into ./tmp/baseline/RNN/SGRU/model.ckpt.\n"
     ]
    },
    {
     "name": "stdout",
     "output_type": "stream",
     "text": [
      "\n",
      "*** input_fn() : feature_shape= (28, 28) / label_shape= [1]\n",
      "\n",
      "*** input_fn : TEST / feature_shape= (28, 28)\n",
      "\n",
      "*** preprocess_image() : image shape= (28, 28)\n",
      "\n",
      "*** preprocess_image() : features= {'images': <tf.Tensor 'arg0:0' shape=(28, 28) dtype=float32>} / label shape= ()\n",
      "\n",
      "***_input_fn() : Label shape =[1]\n",
      "INFO:tensorflow:Calling model_fn.\n"
     ]
    },
    {
     "name": "stderr",
     "output_type": "stream",
     "text": [
      "I0523 08:39:59.378726 140697495811904 estimator.py:1111] Calling model_fn.\n"
     ]
    },
    {
     "name": "stdout",
     "output_type": "stream",
     "text": [
      "\n",
      "*** custom_model_fn() : input_layer shape= (?, 784) / Labels shape= (?,)\n",
      "\n",
      "*** _build_rnn_subnetwork() : output[-1]= Tensor(\"RNN/rnn/rnn/multi_rnn_cell/cell_1/gru_cell/add_27:0\", shape=(?, 128), dtype=float32) / Weight= <tf.Variable 'W:0' shape=(128, 10) dtype=float32_ref>\n",
      "\n",
      "*** custom_model_fn() : logits shape= (?, 10) / labels shape= (?,)\n",
      "INFO:tensorflow:Done calling model_fn.\n"
     ]
    },
    {
     "name": "stderr",
     "output_type": "stream",
     "text": [
      "I0523 08:40:00.789045 140697495811904 estimator.py:1113] Done calling model_fn.\n"
     ]
    },
    {
     "name": "stdout",
     "output_type": "stream",
     "text": [
      "INFO:tensorflow:Starting evaluation at 2019-05-23T06:40:00Z\n"
     ]
    },
    {
     "name": "stderr",
     "output_type": "stream",
     "text": [
      "I0523 08:40:00.810174 140697495811904 evaluation.py:257] Starting evaluation at 2019-05-23T06:40:00Z\n"
     ]
    },
    {
     "name": "stdout",
     "output_type": "stream",
     "text": [
      "INFO:tensorflow:Graph was finalized.\n"
     ]
    },
    {
     "name": "stderr",
     "output_type": "stream",
     "text": [
      "I0523 08:40:00.889258 140697495811904 monitored_session.py:222] Graph was finalized.\n"
     ]
    },
    {
     "name": "stdout",
     "output_type": "stream",
     "text": [
      "INFO:tensorflow:Restoring parameters from ./tmp/baseline/RNN/SGRU/model.ckpt-120\n"
     ]
    },
    {
     "name": "stderr",
     "output_type": "stream",
     "text": [
      "I0523 08:40:00.891270 140697495811904 saver.py:1270] Restoring parameters from ./tmp/baseline/RNN/SGRU/model.ckpt-120\n"
     ]
    },
    {
     "name": "stdout",
     "output_type": "stream",
     "text": [
      "INFO:tensorflow:Running local_init_op.\n"
     ]
    },
    {
     "name": "stderr",
     "output_type": "stream",
     "text": [
      "I0523 08:40:00.946833 140697495811904 session_manager.py:491] Running local_init_op.\n"
     ]
    },
    {
     "name": "stdout",
     "output_type": "stream",
     "text": [
      "INFO:tensorflow:Done running local_init_op.\n"
     ]
    },
    {
     "name": "stderr",
     "output_type": "stream",
     "text": [
      "I0523 08:40:00.966924 140697495811904 session_manager.py:493] Done running local_init_op.\n"
     ]
    },
    {
     "name": "stdout",
     "output_type": "stream",
     "text": [
      "\n",
      "*** generator() : labels shape= (10000,) / label values= 0\n",
      "INFO:tensorflow:Finished evaluation at 2019-05-23-06:40:03\n"
     ]
    },
    {
     "name": "stderr",
     "output_type": "stream",
     "text": [
      "I0523 08:40:03.575874 140697495811904 evaluation.py:277] Finished evaluation at 2019-05-23-06:40:03\n"
     ]
    },
    {
     "name": "stdout",
     "output_type": "stream",
     "text": [
      "INFO:tensorflow:Saving dict for global step 120: RNN_Eval_accuracy = 0.8689, global_step = 120, loss = 0.42885548\n"
     ]
    },
    {
     "name": "stderr",
     "output_type": "stream",
     "text": [
      "I0523 08:40:03.578226 140697495811904 estimator.py:1979] Saving dict for global step 120: RNN_Eval_accuracy = 0.8689, global_step = 120, loss = 0.42885548\n"
     ]
    },
    {
     "name": "stdout",
     "output_type": "stream",
     "text": [
      "INFO:tensorflow:Saving 'checkpoint_path' summary for global step 120: ./tmp/baseline/RNN/SGRU/model.ckpt-120\n"
     ]
    },
    {
     "name": "stderr",
     "output_type": "stream",
     "text": [
      "I0523 08:40:03.580415 140697495811904 estimator.py:2039] Saving 'checkpoint_path' summary for global step 120: ./tmp/baseline/RNN/SGRU/model.ckpt-120\n"
     ]
    },
    {
     "name": "stdout",
     "output_type": "stream",
     "text": [
      "INFO:tensorflow:Saving checkpoints for 130 into ./tmp/baseline/RNN/SGRU/model.ckpt.\n"
     ]
    },
    {
     "name": "stderr",
     "output_type": "stream",
     "text": [
      "I0523 08:40:04.617673 140697495811904 basic_session_run_hooks.py:594] Saving checkpoints for 130 into ./tmp/baseline/RNN/SGRU/model.ckpt.\n"
     ]
    },
    {
     "name": "stdout",
     "output_type": "stream",
     "text": [
      "\n",
      "*** input_fn() : feature_shape= (28, 28) / label_shape= [1]\n",
      "\n",
      "*** input_fn : TEST / feature_shape= (28, 28)\n",
      "\n",
      "*** preprocess_image() : image shape= (28, 28)\n",
      "\n",
      "*** preprocess_image() : features= {'images': <tf.Tensor 'arg0:0' shape=(28, 28) dtype=float32>} / label shape= ()\n",
      "\n",
      "***_input_fn() : Label shape =[1]\n",
      "INFO:tensorflow:Calling model_fn.\n"
     ]
    },
    {
     "name": "stderr",
     "output_type": "stream",
     "text": [
      "I0523 08:40:05.296776 140697495811904 estimator.py:1111] Calling model_fn.\n"
     ]
    },
    {
     "name": "stdout",
     "output_type": "stream",
     "text": [
      "\n",
      "*** custom_model_fn() : input_layer shape= (?, 784) / Labels shape= (?,)\n",
      "\n",
      "*** _build_rnn_subnetwork() : output[-1]= Tensor(\"RNN/rnn/rnn/multi_rnn_cell/cell_1/gru_cell/add_27:0\", shape=(?, 128), dtype=float32) / Weight= <tf.Variable 'W:0' shape=(128, 10) dtype=float32_ref>\n",
      "\n",
      "*** custom_model_fn() : logits shape= (?, 10) / labels shape= (?,)\n",
      "INFO:tensorflow:Done calling model_fn.\n"
     ]
    },
    {
     "name": "stderr",
     "output_type": "stream",
     "text": [
      "I0523 08:40:06.435921 140697495811904 estimator.py:1113] Done calling model_fn.\n"
     ]
    },
    {
     "name": "stdout",
     "output_type": "stream",
     "text": [
      "INFO:tensorflow:Starting evaluation at 2019-05-23T06:40:06Z\n"
     ]
    },
    {
     "name": "stderr",
     "output_type": "stream",
     "text": [
      "I0523 08:40:06.455866 140697495811904 evaluation.py:257] Starting evaluation at 2019-05-23T06:40:06Z\n"
     ]
    },
    {
     "name": "stdout",
     "output_type": "stream",
     "text": [
      "INFO:tensorflow:Graph was finalized.\n"
     ]
    },
    {
     "name": "stderr",
     "output_type": "stream",
     "text": [
      "I0523 08:40:06.532914 140697495811904 monitored_session.py:222] Graph was finalized.\n"
     ]
    },
    {
     "name": "stdout",
     "output_type": "stream",
     "text": [
      "INFO:tensorflow:Restoring parameters from ./tmp/baseline/RNN/SGRU/model.ckpt-130\n"
     ]
    },
    {
     "name": "stderr",
     "output_type": "stream",
     "text": [
      "I0523 08:40:06.536659 140697495811904 saver.py:1270] Restoring parameters from ./tmp/baseline/RNN/SGRU/model.ckpt-130\n"
     ]
    },
    {
     "name": "stdout",
     "output_type": "stream",
     "text": [
      "INFO:tensorflow:Running local_init_op.\n"
     ]
    },
    {
     "name": "stderr",
     "output_type": "stream",
     "text": [
      "I0523 08:40:06.593908 140697495811904 session_manager.py:491] Running local_init_op.\n"
     ]
    },
    {
     "name": "stdout",
     "output_type": "stream",
     "text": [
      "INFO:tensorflow:Done running local_init_op.\n"
     ]
    },
    {
     "name": "stderr",
     "output_type": "stream",
     "text": [
      "I0523 08:40:06.607369 140697495811904 session_manager.py:493] Done running local_init_op.\n"
     ]
    },
    {
     "name": "stdout",
     "output_type": "stream",
     "text": [
      "\n",
      "*** generator() : labels shape= (10000,) / label values= 0\n",
      "INFO:tensorflow:Finished evaluation at 2019-05-23-06:40:08\n"
     ]
    },
    {
     "name": "stderr",
     "output_type": "stream",
     "text": [
      "I0523 08:40:08.566103 140697495811904 evaluation.py:277] Finished evaluation at 2019-05-23-06:40:08\n"
     ]
    },
    {
     "name": "stdout",
     "output_type": "stream",
     "text": [
      "INFO:tensorflow:Saving dict for global step 130: RNN_Eval_accuracy = 0.881, global_step = 130, loss = 0.39597535\n"
     ]
    },
    {
     "name": "stderr",
     "output_type": "stream",
     "text": [
      "I0523 08:40:08.567074 140697495811904 estimator.py:1979] Saving dict for global step 130: RNN_Eval_accuracy = 0.881, global_step = 130, loss = 0.39597535\n"
     ]
    },
    {
     "name": "stdout",
     "output_type": "stream",
     "text": [
      "INFO:tensorflow:Saving 'checkpoint_path' summary for global step 130: ./tmp/baseline/RNN/SGRU/model.ckpt-130\n"
     ]
    },
    {
     "name": "stderr",
     "output_type": "stream",
     "text": [
      "I0523 08:40:08.568226 140697495811904 estimator.py:2039] Saving 'checkpoint_path' summary for global step 130: ./tmp/baseline/RNN/SGRU/model.ckpt-130\n"
     ]
    },
    {
     "name": "stdout",
     "output_type": "stream",
     "text": [
      "INFO:tensorflow:Saving checkpoints for 140 into ./tmp/baseline/RNN/SGRU/model.ckpt.\n"
     ]
    },
    {
     "name": "stderr",
     "output_type": "stream",
     "text": [
      "I0523 08:40:09.231570 140697495811904 basic_session_run_hooks.py:594] Saving checkpoints for 140 into ./tmp/baseline/RNN/SGRU/model.ckpt.\n"
     ]
    },
    {
     "name": "stdout",
     "output_type": "stream",
     "text": [
      "\n",
      "*** input_fn() : feature_shape= (28, 28) / label_shape= [1]\n",
      "\n",
      "*** input_fn : TEST / feature_shape= (28, 28)\n",
      "\n",
      "*** preprocess_image() : image shape= (28, 28)\n",
      "\n",
      "*** preprocess_image() : features= {'images': <tf.Tensor 'arg0:0' shape=(28, 28) dtype=float32>} / label shape= ()\n",
      "\n",
      "***_input_fn() : Label shape =[1]\n",
      "INFO:tensorflow:Calling model_fn.\n"
     ]
    },
    {
     "name": "stderr",
     "output_type": "stream",
     "text": [
      "I0523 08:40:09.774982 140697495811904 estimator.py:1111] Calling model_fn.\n"
     ]
    },
    {
     "name": "stdout",
     "output_type": "stream",
     "text": [
      "\n",
      "*** custom_model_fn() : input_layer shape= (?, 784) / Labels shape= (?,)\n",
      "\n",
      "*** _build_rnn_subnetwork() : output[-1]= Tensor(\"RNN/rnn/rnn/multi_rnn_cell/cell_1/gru_cell/add_27:0\", shape=(?, 128), dtype=float32) / Weight= <tf.Variable 'W:0' shape=(128, 10) dtype=float32_ref>\n",
      "\n",
      "*** custom_model_fn() : logits shape= (?, 10) / labels shape= (?,)\n",
      "INFO:tensorflow:Done calling model_fn.\n"
     ]
    },
    {
     "name": "stderr",
     "output_type": "stream",
     "text": [
      "I0523 08:40:10.440754 140697495811904 estimator.py:1113] Done calling model_fn.\n"
     ]
    },
    {
     "name": "stdout",
     "output_type": "stream",
     "text": [
      "INFO:tensorflow:Starting evaluation at 2019-05-23T06:40:10Z\n"
     ]
    },
    {
     "name": "stderr",
     "output_type": "stream",
     "text": [
      "I0523 08:40:10.466860 140697495811904 evaluation.py:257] Starting evaluation at 2019-05-23T06:40:10Z\n"
     ]
    },
    {
     "name": "stdout",
     "output_type": "stream",
     "text": [
      "INFO:tensorflow:Graph was finalized.\n"
     ]
    },
    {
     "name": "stderr",
     "output_type": "stream",
     "text": [
      "I0523 08:40:10.717047 140697495811904 monitored_session.py:222] Graph was finalized.\n"
     ]
    },
    {
     "name": "stdout",
     "output_type": "stream",
     "text": [
      "INFO:tensorflow:Restoring parameters from ./tmp/baseline/RNN/SGRU/model.ckpt-140\n"
     ]
    },
    {
     "name": "stderr",
     "output_type": "stream",
     "text": [
      "I0523 08:40:10.726419 140697495811904 saver.py:1270] Restoring parameters from ./tmp/baseline/RNN/SGRU/model.ckpt-140\n"
     ]
    },
    {
     "name": "stdout",
     "output_type": "stream",
     "text": [
      "INFO:tensorflow:Running local_init_op.\n"
     ]
    },
    {
     "name": "stderr",
     "output_type": "stream",
     "text": [
      "I0523 08:40:10.895575 140697495811904 session_manager.py:491] Running local_init_op.\n"
     ]
    },
    {
     "name": "stdout",
     "output_type": "stream",
     "text": [
      "INFO:tensorflow:Done running local_init_op.\n"
     ]
    },
    {
     "name": "stderr",
     "output_type": "stream",
     "text": [
      "I0523 08:40:10.927908 140697495811904 session_manager.py:493] Done running local_init_op.\n"
     ]
    },
    {
     "name": "stdout",
     "output_type": "stream",
     "text": [
      "\n",
      "*** generator() : labels shape= (10000,) / label values= 0\n",
      "INFO:tensorflow:Finished evaluation at 2019-05-23-06:40:14\n"
     ]
    },
    {
     "name": "stderr",
     "output_type": "stream",
     "text": [
      "I0523 08:40:14.089349 140697495811904 evaluation.py:277] Finished evaluation at 2019-05-23-06:40:14\n"
     ]
    },
    {
     "name": "stdout",
     "output_type": "stream",
     "text": [
      "INFO:tensorflow:Saving dict for global step 140: RNN_Eval_accuracy = 0.8903, global_step = 140, loss = 0.36299405\n"
     ]
    },
    {
     "name": "stderr",
     "output_type": "stream",
     "text": [
      "I0523 08:40:14.091453 140697495811904 estimator.py:1979] Saving dict for global step 140: RNN_Eval_accuracy = 0.8903, global_step = 140, loss = 0.36299405\n"
     ]
    },
    {
     "name": "stdout",
     "output_type": "stream",
     "text": [
      "INFO:tensorflow:Saving 'checkpoint_path' summary for global step 140: ./tmp/baseline/RNN/SGRU/model.ckpt-140\n"
     ]
    },
    {
     "name": "stderr",
     "output_type": "stream",
     "text": [
      "I0523 08:40:14.098023 140697495811904 estimator.py:2039] Saving 'checkpoint_path' summary for global step 140: ./tmp/baseline/RNN/SGRU/model.ckpt-140\n"
     ]
    },
    {
     "name": "stdout",
     "output_type": "stream",
     "text": [
      "INFO:tensorflow:Saving checkpoints for 150 into ./tmp/baseline/RNN/SGRU/model.ckpt.\n"
     ]
    },
    {
     "name": "stderr",
     "output_type": "stream",
     "text": [
      "I0523 08:40:15.343116 140697495811904 basic_session_run_hooks.py:594] Saving checkpoints for 150 into ./tmp/baseline/RNN/SGRU/model.ckpt.\n"
     ]
    },
    {
     "name": "stdout",
     "output_type": "stream",
     "text": [
      "\n",
      "*** input_fn() : feature_shape= (28, 28) / label_shape= [1]\n",
      "\n",
      "*** input_fn : TEST / feature_shape= (28, 28)\n",
      "\n",
      "*** preprocess_image() : image shape= (28, 28)\n",
      "\n",
      "*** preprocess_image() : features= {'images': <tf.Tensor 'arg0:0' shape=(28, 28) dtype=float32>} / label shape= ()\n",
      "\n",
      "***_input_fn() : Label shape =[1]\n",
      "INFO:tensorflow:Calling model_fn.\n"
     ]
    },
    {
     "name": "stderr",
     "output_type": "stream",
     "text": [
      "I0523 08:40:16.024090 140697495811904 estimator.py:1111] Calling model_fn.\n"
     ]
    },
    {
     "name": "stdout",
     "output_type": "stream",
     "text": [
      "\n",
      "*** custom_model_fn() : input_layer shape= (?, 784) / Labels shape= (?,)\n",
      "\n",
      "*** _build_rnn_subnetwork() : output[-1]= Tensor(\"RNN/rnn/rnn/multi_rnn_cell/cell_1/gru_cell/add_27:0\", shape=(?, 128), dtype=float32) / Weight= <tf.Variable 'W:0' shape=(128, 10) dtype=float32_ref>\n",
      "\n",
      "*** custom_model_fn() : logits shape= (?, 10) / labels shape= (?,)\n",
      "INFO:tensorflow:Done calling model_fn.\n"
     ]
    },
    {
     "name": "stderr",
     "output_type": "stream",
     "text": [
      "I0523 08:40:17.545512 140697495811904 estimator.py:1113] Done calling model_fn.\n"
     ]
    },
    {
     "name": "stdout",
     "output_type": "stream",
     "text": [
      "INFO:tensorflow:Starting evaluation at 2019-05-23T06:40:17Z\n"
     ]
    },
    {
     "name": "stderr",
     "output_type": "stream",
     "text": [
      "I0523 08:40:17.618077 140697495811904 evaluation.py:257] Starting evaluation at 2019-05-23T06:40:17Z\n"
     ]
    },
    {
     "name": "stdout",
     "output_type": "stream",
     "text": [
      "INFO:tensorflow:Graph was finalized.\n"
     ]
    },
    {
     "name": "stderr",
     "output_type": "stream",
     "text": [
      "I0523 08:40:17.910896 140697495811904 monitored_session.py:222] Graph was finalized.\n"
     ]
    },
    {
     "name": "stdout",
     "output_type": "stream",
     "text": [
      "INFO:tensorflow:Restoring parameters from ./tmp/baseline/RNN/SGRU/model.ckpt-150\n"
     ]
    },
    {
     "name": "stderr",
     "output_type": "stream",
     "text": [
      "I0523 08:40:17.920163 140697495811904 saver.py:1270] Restoring parameters from ./tmp/baseline/RNN/SGRU/model.ckpt-150\n"
     ]
    },
    {
     "name": "stdout",
     "output_type": "stream",
     "text": [
      "INFO:tensorflow:Running local_init_op.\n"
     ]
    },
    {
     "name": "stderr",
     "output_type": "stream",
     "text": [
      "I0523 08:40:18.094473 140697495811904 session_manager.py:491] Running local_init_op.\n"
     ]
    },
    {
     "name": "stdout",
     "output_type": "stream",
     "text": [
      "INFO:tensorflow:Done running local_init_op.\n"
     ]
    },
    {
     "name": "stderr",
     "output_type": "stream",
     "text": [
      "I0523 08:40:18.130686 140697495811904 session_manager.py:493] Done running local_init_op.\n"
     ]
    },
    {
     "name": "stdout",
     "output_type": "stream",
     "text": [
      "\n",
      "*** generator() : labels shape= (10000,) / label values= 0\n",
      "INFO:tensorflow:Finished evaluation at 2019-05-23-06:40:22\n"
     ]
    },
    {
     "name": "stderr",
     "output_type": "stream",
     "text": [
      "I0523 08:40:22.596612 140697495811904 evaluation.py:277] Finished evaluation at 2019-05-23-06:40:22\n"
     ]
    },
    {
     "name": "stdout",
     "output_type": "stream",
     "text": [
      "INFO:tensorflow:Saving dict for global step 150: RNN_Eval_accuracy = 0.8859, global_step = 150, loss = 0.37378597\n"
     ]
    },
    {
     "name": "stderr",
     "output_type": "stream",
     "text": [
      "I0523 08:40:22.597798 140697495811904 estimator.py:1979] Saving dict for global step 150: RNN_Eval_accuracy = 0.8859, global_step = 150, loss = 0.37378597\n"
     ]
    },
    {
     "name": "stdout",
     "output_type": "stream",
     "text": [
      "INFO:tensorflow:Saving 'checkpoint_path' summary for global step 150: ./tmp/baseline/RNN/SGRU/model.ckpt-150\n"
     ]
    },
    {
     "name": "stderr",
     "output_type": "stream",
     "text": [
      "I0523 08:40:22.604466 140697495811904 estimator.py:2039] Saving 'checkpoint_path' summary for global step 150: ./tmp/baseline/RNN/SGRU/model.ckpt-150\n"
     ]
    },
    {
     "name": "stdout",
     "output_type": "stream",
     "text": [
      "INFO:tensorflow:Saving checkpoints for 160 into ./tmp/baseline/RNN/SGRU/model.ckpt.\n"
     ]
    },
    {
     "name": "stderr",
     "output_type": "stream",
     "text": [
      "I0523 08:40:23.203110 140697495811904 basic_session_run_hooks.py:594] Saving checkpoints for 160 into ./tmp/baseline/RNN/SGRU/model.ckpt.\n"
     ]
    },
    {
     "name": "stdout",
     "output_type": "stream",
     "text": [
      "\n",
      "*** input_fn() : feature_shape= (28, 28) / label_shape= [1]\n",
      "\n",
      "*** input_fn : TEST / feature_shape= (28, 28)\n",
      "\n",
      "*** preprocess_image() : image shape= (28, 28)\n",
      "\n",
      "*** preprocess_image() : features= {'images': <tf.Tensor 'arg0:0' shape=(28, 28) dtype=float32>} / label shape= ()\n",
      "\n",
      "***_input_fn() : Label shape =[1]\n",
      "INFO:tensorflow:Calling model_fn.\n"
     ]
    },
    {
     "name": "stderr",
     "output_type": "stream",
     "text": [
      "I0523 08:40:23.945146 140697495811904 estimator.py:1111] Calling model_fn.\n"
     ]
    },
    {
     "name": "stdout",
     "output_type": "stream",
     "text": [
      "\n",
      "*** custom_model_fn() : input_layer shape= (?, 784) / Labels shape= (?,)\n",
      "\n",
      "*** _build_rnn_subnetwork() : output[-1]= Tensor(\"RNN/rnn/rnn/multi_rnn_cell/cell_1/gru_cell/add_27:0\", shape=(?, 128), dtype=float32) / Weight= <tf.Variable 'W:0' shape=(128, 10) dtype=float32_ref>\n",
      "\n",
      "*** custom_model_fn() : logits shape= (?, 10) / labels shape= (?,)\n",
      "INFO:tensorflow:Done calling model_fn.\n"
     ]
    },
    {
     "name": "stderr",
     "output_type": "stream",
     "text": [
      "I0523 08:40:24.930298 140697495811904 estimator.py:1113] Done calling model_fn.\n"
     ]
    },
    {
     "name": "stdout",
     "output_type": "stream",
     "text": [
      "INFO:tensorflow:Starting evaluation at 2019-05-23T06:40:24Z\n"
     ]
    },
    {
     "name": "stderr",
     "output_type": "stream",
     "text": [
      "I0523 08:40:24.949266 140697495811904 evaluation.py:257] Starting evaluation at 2019-05-23T06:40:24Z\n"
     ]
    },
    {
     "name": "stdout",
     "output_type": "stream",
     "text": [
      "INFO:tensorflow:Graph was finalized.\n"
     ]
    },
    {
     "name": "stderr",
     "output_type": "stream",
     "text": [
      "I0523 08:40:25.049974 140697495811904 monitored_session.py:222] Graph was finalized.\n"
     ]
    },
    {
     "name": "stdout",
     "output_type": "stream",
     "text": [
      "INFO:tensorflow:Restoring parameters from ./tmp/baseline/RNN/SGRU/model.ckpt-160\n"
     ]
    },
    {
     "name": "stderr",
     "output_type": "stream",
     "text": [
      "I0523 08:40:25.052304 140697495811904 saver.py:1270] Restoring parameters from ./tmp/baseline/RNN/SGRU/model.ckpt-160\n"
     ]
    },
    {
     "name": "stdout",
     "output_type": "stream",
     "text": [
      "INFO:tensorflow:Running local_init_op.\n"
     ]
    },
    {
     "name": "stderr",
     "output_type": "stream",
     "text": [
      "I0523 08:40:25.106093 140697495811904 session_manager.py:491] Running local_init_op.\n"
     ]
    },
    {
     "name": "stdout",
     "output_type": "stream",
     "text": [
      "INFO:tensorflow:Done running local_init_op.\n"
     ]
    },
    {
     "name": "stderr",
     "output_type": "stream",
     "text": [
      "I0523 08:40:25.123067 140697495811904 session_manager.py:493] Done running local_init_op.\n"
     ]
    },
    {
     "name": "stdout",
     "output_type": "stream",
     "text": [
      "\n",
      "*** generator() : labels shape= (10000,) / label values= 0\n",
      "INFO:tensorflow:Finished evaluation at 2019-05-23-06:40:27\n"
     ]
    },
    {
     "name": "stderr",
     "output_type": "stream",
     "text": [
      "I0523 08:40:27.982934 140697495811904 evaluation.py:277] Finished evaluation at 2019-05-23-06:40:27\n"
     ]
    },
    {
     "name": "stdout",
     "output_type": "stream",
     "text": [
      "INFO:tensorflow:Saving dict for global step 160: RNN_Eval_accuracy = 0.88, global_step = 160, loss = 0.38092002\n"
     ]
    },
    {
     "name": "stderr",
     "output_type": "stream",
     "text": [
      "I0523 08:40:27.984301 140697495811904 estimator.py:1979] Saving dict for global step 160: RNN_Eval_accuracy = 0.88, global_step = 160, loss = 0.38092002\n"
     ]
    },
    {
     "name": "stdout",
     "output_type": "stream",
     "text": [
      "INFO:tensorflow:Saving 'checkpoint_path' summary for global step 160: ./tmp/baseline/RNN/SGRU/model.ckpt-160\n"
     ]
    },
    {
     "name": "stderr",
     "output_type": "stream",
     "text": [
      "I0523 08:40:27.985580 140697495811904 estimator.py:2039] Saving 'checkpoint_path' summary for global step 160: ./tmp/baseline/RNN/SGRU/model.ckpt-160\n"
     ]
    },
    {
     "name": "stdout",
     "output_type": "stream",
     "text": [
      "INFO:tensorflow:Saving checkpoints for 170 into ./tmp/baseline/RNN/SGRU/model.ckpt.\n"
     ]
    },
    {
     "name": "stderr",
     "output_type": "stream",
     "text": [
      "I0523 08:40:28.883182 140697495811904 basic_session_run_hooks.py:594] Saving checkpoints for 170 into ./tmp/baseline/RNN/SGRU/model.ckpt.\n"
     ]
    },
    {
     "name": "stdout",
     "output_type": "stream",
     "text": [
      "\n",
      "*** input_fn() : feature_shape= (28, 28) / label_shape= [1]\n",
      "\n",
      "*** input_fn : TEST / feature_shape= (28, 28)\n",
      "\n",
      "*** preprocess_image() : image shape= (28, 28)\n",
      "\n",
      "*** preprocess_image() : features= {'images': <tf.Tensor 'arg0:0' shape=(28, 28) dtype=float32>} / label shape= ()\n",
      "\n",
      "***_input_fn() : Label shape =[1]\n",
      "INFO:tensorflow:Calling model_fn.\n"
     ]
    },
    {
     "name": "stderr",
     "output_type": "stream",
     "text": [
      "I0523 08:40:30.117891 140697495811904 estimator.py:1111] Calling model_fn.\n"
     ]
    },
    {
     "name": "stdout",
     "output_type": "stream",
     "text": [
      "\n",
      "*** custom_model_fn() : input_layer shape= (?, 784) / Labels shape= (?,)\n",
      "\n",
      "*** _build_rnn_subnetwork() : output[-1]= Tensor(\"RNN/rnn/rnn/multi_rnn_cell/cell_1/gru_cell/add_27:0\", shape=(?, 128), dtype=float32) / Weight= <tf.Variable 'W:0' shape=(128, 10) dtype=float32_ref>\n",
      "\n",
      "*** custom_model_fn() : logits shape= (?, 10) / labels shape= (?,)\n",
      "INFO:tensorflow:Done calling model_fn.\n"
     ]
    },
    {
     "name": "stderr",
     "output_type": "stream",
     "text": [
      "I0523 08:40:31.653161 140697495811904 estimator.py:1113] Done calling model_fn.\n"
     ]
    },
    {
     "name": "stdout",
     "output_type": "stream",
     "text": [
      "INFO:tensorflow:Starting evaluation at 2019-05-23T06:40:31Z\n"
     ]
    },
    {
     "name": "stderr",
     "output_type": "stream",
     "text": [
      "I0523 08:40:31.672259 140697495811904 evaluation.py:257] Starting evaluation at 2019-05-23T06:40:31Z\n"
     ]
    },
    {
     "name": "stdout",
     "output_type": "stream",
     "text": [
      "INFO:tensorflow:Graph was finalized.\n"
     ]
    },
    {
     "name": "stderr",
     "output_type": "stream",
     "text": [
      "I0523 08:40:31.741374 140697495811904 monitored_session.py:222] Graph was finalized.\n"
     ]
    },
    {
     "name": "stdout",
     "output_type": "stream",
     "text": [
      "INFO:tensorflow:Restoring parameters from ./tmp/baseline/RNN/SGRU/model.ckpt-170\n"
     ]
    },
    {
     "name": "stderr",
     "output_type": "stream",
     "text": [
      "I0523 08:40:31.743179 140697495811904 saver.py:1270] Restoring parameters from ./tmp/baseline/RNN/SGRU/model.ckpt-170\n"
     ]
    },
    {
     "name": "stdout",
     "output_type": "stream",
     "text": [
      "INFO:tensorflow:Running local_init_op.\n"
     ]
    },
    {
     "name": "stderr",
     "output_type": "stream",
     "text": [
      "I0523 08:40:31.801360 140697495811904 session_manager.py:491] Running local_init_op.\n"
     ]
    },
    {
     "name": "stdout",
     "output_type": "stream",
     "text": [
      "INFO:tensorflow:Done running local_init_op.\n"
     ]
    },
    {
     "name": "stderr",
     "output_type": "stream",
     "text": [
      "I0523 08:40:31.815264 140697495811904 session_manager.py:493] Done running local_init_op.\n"
     ]
    },
    {
     "name": "stdout",
     "output_type": "stream",
     "text": [
      "\n",
      "*** generator() : labels shape= (10000,) / label values= 0\n",
      "INFO:tensorflow:Finished evaluation at 2019-05-23-06:40:35\n"
     ]
    },
    {
     "name": "stderr",
     "output_type": "stream",
     "text": [
      "I0523 08:40:35.113338 140697495811904 evaluation.py:277] Finished evaluation at 2019-05-23-06:40:35\n"
     ]
    },
    {
     "name": "stdout",
     "output_type": "stream",
     "text": [
      "INFO:tensorflow:Saving dict for global step 170: RNN_Eval_accuracy = 0.8995, global_step = 170, loss = 0.32863286\n"
     ]
    },
    {
     "name": "stderr",
     "output_type": "stream",
     "text": [
      "I0523 08:40:35.114651 140697495811904 estimator.py:1979] Saving dict for global step 170: RNN_Eval_accuracy = 0.8995, global_step = 170, loss = 0.32863286\n"
     ]
    },
    {
     "name": "stdout",
     "output_type": "stream",
     "text": [
      "INFO:tensorflow:Saving 'checkpoint_path' summary for global step 170: ./tmp/baseline/RNN/SGRU/model.ckpt-170\n"
     ]
    },
    {
     "name": "stderr",
     "output_type": "stream",
     "text": [
      "I0523 08:40:35.115892 140697495811904 estimator.py:2039] Saving 'checkpoint_path' summary for global step 170: ./tmp/baseline/RNN/SGRU/model.ckpt-170\n"
     ]
    },
    {
     "name": "stdout",
     "output_type": "stream",
     "text": [
      "INFO:tensorflow:Saving checkpoints for 180 into ./tmp/baseline/RNN/SGRU/model.ckpt.\n"
     ]
    },
    {
     "name": "stderr",
     "output_type": "stream",
     "text": [
      "I0523 08:40:35.639644 140697495811904 basic_session_run_hooks.py:594] Saving checkpoints for 180 into ./tmp/baseline/RNN/SGRU/model.ckpt.\n"
     ]
    },
    {
     "name": "stdout",
     "output_type": "stream",
     "text": [
      "\n",
      "*** input_fn() : feature_shape= (28, 28) / label_shape= [1]\n",
      "\n",
      "*** input_fn : TEST / feature_shape= (28, 28)\n",
      "\n",
      "*** preprocess_image() : image shape= (28, 28)\n",
      "\n",
      "*** preprocess_image() : features= {'images': <tf.Tensor 'arg0:0' shape=(28, 28) dtype=float32>} / label shape= ()\n",
      "\n",
      "***_input_fn() : Label shape =[1]\n",
      "INFO:tensorflow:Calling model_fn.\n"
     ]
    },
    {
     "name": "stderr",
     "output_type": "stream",
     "text": [
      "I0523 08:40:36.193459 140697495811904 estimator.py:1111] Calling model_fn.\n"
     ]
    },
    {
     "name": "stdout",
     "output_type": "stream",
     "text": [
      "\n",
      "*** custom_model_fn() : input_layer shape= (?, 784) / Labels shape= (?,)\n",
      "\n",
      "*** _build_rnn_subnetwork() : output[-1]= Tensor(\"RNN/rnn/rnn/multi_rnn_cell/cell_1/gru_cell/add_27:0\", shape=(?, 128), dtype=float32) / Weight= <tf.Variable 'W:0' shape=(128, 10) dtype=float32_ref>\n",
      "\n",
      "*** custom_model_fn() : logits shape= (?, 10) / labels shape= (?,)\n",
      "INFO:tensorflow:Done calling model_fn.\n"
     ]
    },
    {
     "name": "stderr",
     "output_type": "stream",
     "text": [
      "I0523 08:40:37.003640 140697495811904 estimator.py:1113] Done calling model_fn.\n"
     ]
    },
    {
     "name": "stdout",
     "output_type": "stream",
     "text": [
      "INFO:tensorflow:Starting evaluation at 2019-05-23T06:40:37Z\n"
     ]
    },
    {
     "name": "stderr",
     "output_type": "stream",
     "text": [
      "I0523 08:40:37.022769 140697495811904 evaluation.py:257] Starting evaluation at 2019-05-23T06:40:37Z\n"
     ]
    },
    {
     "name": "stdout",
     "output_type": "stream",
     "text": [
      "INFO:tensorflow:Graph was finalized.\n"
     ]
    },
    {
     "name": "stderr",
     "output_type": "stream",
     "text": [
      "I0523 08:40:37.097218 140697495811904 monitored_session.py:222] Graph was finalized.\n"
     ]
    },
    {
     "name": "stdout",
     "output_type": "stream",
     "text": [
      "INFO:tensorflow:Restoring parameters from ./tmp/baseline/RNN/SGRU/model.ckpt-180\n"
     ]
    },
    {
     "name": "stderr",
     "output_type": "stream",
     "text": [
      "I0523 08:40:37.099277 140697495811904 saver.py:1270] Restoring parameters from ./tmp/baseline/RNN/SGRU/model.ckpt-180\n"
     ]
    },
    {
     "name": "stdout",
     "output_type": "stream",
     "text": [
      "INFO:tensorflow:Running local_init_op.\n"
     ]
    },
    {
     "name": "stderr",
     "output_type": "stream",
     "text": [
      "I0523 08:40:37.152204 140697495811904 session_manager.py:491] Running local_init_op.\n"
     ]
    },
    {
     "name": "stdout",
     "output_type": "stream",
     "text": [
      "INFO:tensorflow:Done running local_init_op.\n"
     ]
    },
    {
     "name": "stderr",
     "output_type": "stream",
     "text": [
      "I0523 08:40:37.166143 140697495811904 session_manager.py:493] Done running local_init_op.\n"
     ]
    },
    {
     "name": "stdout",
     "output_type": "stream",
     "text": [
      "\n",
      "*** generator() : labels shape= (10000,) / label values= 0\n",
      "INFO:tensorflow:Finished evaluation at 2019-05-23-06:40:40\n"
     ]
    },
    {
     "name": "stderr",
     "output_type": "stream",
     "text": [
      "I0523 08:40:40.257074 140697495811904 evaluation.py:277] Finished evaluation at 2019-05-23-06:40:40\n"
     ]
    },
    {
     "name": "stdout",
     "output_type": "stream",
     "text": [
      "INFO:tensorflow:Saving dict for global step 180: RNN_Eval_accuracy = 0.9088, global_step = 180, loss = 0.30798993\n"
     ]
    },
    {
     "name": "stderr",
     "output_type": "stream",
     "text": [
      "I0523 08:40:40.257969 140697495811904 estimator.py:1979] Saving dict for global step 180: RNN_Eval_accuracy = 0.9088, global_step = 180, loss = 0.30798993\n"
     ]
    },
    {
     "name": "stdout",
     "output_type": "stream",
     "text": [
      "INFO:tensorflow:Saving 'checkpoint_path' summary for global step 180: ./tmp/baseline/RNN/SGRU/model.ckpt-180\n"
     ]
    },
    {
     "name": "stderr",
     "output_type": "stream",
     "text": [
      "I0523 08:40:40.259031 140697495811904 estimator.py:2039] Saving 'checkpoint_path' summary for global step 180: ./tmp/baseline/RNN/SGRU/model.ckpt-180\n"
     ]
    },
    {
     "name": "stdout",
     "output_type": "stream",
     "text": [
      "INFO:tensorflow:Saving checkpoints for 190 into ./tmp/baseline/RNN/SGRU/model.ckpt.\n"
     ]
    },
    {
     "name": "stderr",
     "output_type": "stream",
     "text": [
      "I0523 08:40:41.434078 140697495811904 basic_session_run_hooks.py:594] Saving checkpoints for 190 into ./tmp/baseline/RNN/SGRU/model.ckpt.\n"
     ]
    },
    {
     "name": "stdout",
     "output_type": "stream",
     "text": [
      "\n",
      "*** input_fn() : feature_shape= (28, 28) / label_shape= [1]\n",
      "\n",
      "*** input_fn : TEST / feature_shape= (28, 28)\n",
      "\n",
      "*** preprocess_image() : image shape= (28, 28)\n",
      "\n",
      "*** preprocess_image() : features= {'images': <tf.Tensor 'arg0:0' shape=(28, 28) dtype=float32>} / label shape= ()\n",
      "\n",
      "***_input_fn() : Label shape =[1]\n",
      "INFO:tensorflow:Calling model_fn.\n"
     ]
    },
    {
     "name": "stderr",
     "output_type": "stream",
     "text": [
      "I0523 08:40:42.341082 140697495811904 estimator.py:1111] Calling model_fn.\n"
     ]
    },
    {
     "name": "stdout",
     "output_type": "stream",
     "text": [
      "\n",
      "*** custom_model_fn() : input_layer shape= (?, 784) / Labels shape= (?,)\n",
      "\n",
      "*** _build_rnn_subnetwork() : output[-1]= Tensor(\"RNN/rnn/rnn/multi_rnn_cell/cell_1/gru_cell/add_27:0\", shape=(?, 128), dtype=float32) / Weight= <tf.Variable 'W:0' shape=(128, 10) dtype=float32_ref>\n",
      "\n",
      "*** custom_model_fn() : logits shape= (?, 10) / labels shape= (?,)\n",
      "INFO:tensorflow:Done calling model_fn.\n"
     ]
    },
    {
     "name": "stderr",
     "output_type": "stream",
     "text": [
      "I0523 08:40:43.524300 140697495811904 estimator.py:1113] Done calling model_fn.\n"
     ]
    },
    {
     "name": "stdout",
     "output_type": "stream",
     "text": [
      "INFO:tensorflow:Starting evaluation at 2019-05-23T06:40:43Z\n"
     ]
    },
    {
     "name": "stderr",
     "output_type": "stream",
     "text": [
      "I0523 08:40:43.545626 140697495811904 evaluation.py:257] Starting evaluation at 2019-05-23T06:40:43Z\n"
     ]
    },
    {
     "name": "stdout",
     "output_type": "stream",
     "text": [
      "INFO:tensorflow:Graph was finalized.\n"
     ]
    },
    {
     "name": "stderr",
     "output_type": "stream",
     "text": [
      "I0523 08:40:43.635016 140697495811904 monitored_session.py:222] Graph was finalized.\n"
     ]
    },
    {
     "name": "stdout",
     "output_type": "stream",
     "text": [
      "INFO:tensorflow:Restoring parameters from ./tmp/baseline/RNN/SGRU/model.ckpt-190\n"
     ]
    },
    {
     "name": "stderr",
     "output_type": "stream",
     "text": [
      "I0523 08:40:43.637836 140697495811904 saver.py:1270] Restoring parameters from ./tmp/baseline/RNN/SGRU/model.ckpt-190\n"
     ]
    },
    {
     "name": "stdout",
     "output_type": "stream",
     "text": [
      "INFO:tensorflow:Running local_init_op.\n"
     ]
    },
    {
     "name": "stderr",
     "output_type": "stream",
     "text": [
      "I0523 08:40:43.691009 140697495811904 session_manager.py:491] Running local_init_op.\n"
     ]
    },
    {
     "name": "stdout",
     "output_type": "stream",
     "text": [
      "INFO:tensorflow:Done running local_init_op.\n"
     ]
    },
    {
     "name": "stderr",
     "output_type": "stream",
     "text": [
      "I0523 08:40:43.705205 140697495811904 session_manager.py:493] Done running local_init_op.\n"
     ]
    },
    {
     "name": "stdout",
     "output_type": "stream",
     "text": [
      "\n",
      "*** generator() : labels shape= (10000,) / label values= 0\n",
      "INFO:tensorflow:Finished evaluation at 2019-05-23-06:40:48\n"
     ]
    },
    {
     "name": "stderr",
     "output_type": "stream",
     "text": [
      "I0523 08:40:48.496573 140697495811904 evaluation.py:277] Finished evaluation at 2019-05-23-06:40:48\n"
     ]
    },
    {
     "name": "stdout",
     "output_type": "stream",
     "text": [
      "INFO:tensorflow:Saving dict for global step 190: RNN_Eval_accuracy = 0.9127, global_step = 190, loss = 0.29815558\n"
     ]
    },
    {
     "name": "stderr",
     "output_type": "stream",
     "text": [
      "I0523 08:40:48.497982 140697495811904 estimator.py:1979] Saving dict for global step 190: RNN_Eval_accuracy = 0.9127, global_step = 190, loss = 0.29815558\n"
     ]
    },
    {
     "name": "stdout",
     "output_type": "stream",
     "text": [
      "INFO:tensorflow:Saving 'checkpoint_path' summary for global step 190: ./tmp/baseline/RNN/SGRU/model.ckpt-190\n"
     ]
    },
    {
     "name": "stderr",
     "output_type": "stream",
     "text": [
      "I0523 08:40:48.499260 140697495811904 estimator.py:2039] Saving 'checkpoint_path' summary for global step 190: ./tmp/baseline/RNN/SGRU/model.ckpt-190\n"
     ]
    },
    {
     "name": "stdout",
     "output_type": "stream",
     "text": [
      "INFO:tensorflow:Saving checkpoints for 200 into ./tmp/baseline/RNN/SGRU/model.ckpt.\n"
     ]
    },
    {
     "name": "stderr",
     "output_type": "stream",
     "text": [
      "I0523 08:40:49.868143 140697495811904 basic_session_run_hooks.py:594] Saving checkpoints for 200 into ./tmp/baseline/RNN/SGRU/model.ckpt.\n"
     ]
    },
    {
     "name": "stdout",
     "output_type": "stream",
     "text": [
      "\n",
      "*** input_fn() : feature_shape= (28, 28) / label_shape= [1]\n",
      "\n",
      "*** input_fn : TEST / feature_shape= (28, 28)\n",
      "\n",
      "*** preprocess_image() : image shape= (28, 28)\n",
      "\n",
      "*** preprocess_image() : features= {'images': <tf.Tensor 'arg0:0' shape=(28, 28) dtype=float32>} / label shape= ()\n",
      "\n",
      "***_input_fn() : Label shape =[1]\n",
      "INFO:tensorflow:Calling model_fn.\n"
     ]
    },
    {
     "name": "stderr",
     "output_type": "stream",
     "text": [
      "I0523 08:40:50.495252 140697495811904 estimator.py:1111] Calling model_fn.\n"
     ]
    },
    {
     "name": "stdout",
     "output_type": "stream",
     "text": [
      "\n",
      "*** custom_model_fn() : input_layer shape= (?, 784) / Labels shape= (?,)\n",
      "\n",
      "*** _build_rnn_subnetwork() : output[-1]= Tensor(\"RNN/rnn/rnn/multi_rnn_cell/cell_1/gru_cell/add_27:0\", shape=(?, 128), dtype=float32) / Weight= <tf.Variable 'W:0' shape=(128, 10) dtype=float32_ref>\n",
      "\n",
      "*** custom_model_fn() : logits shape= (?, 10) / labels shape= (?,)\n",
      "INFO:tensorflow:Done calling model_fn.\n"
     ]
    },
    {
     "name": "stderr",
     "output_type": "stream",
     "text": [
      "I0523 08:40:51.346919 140697495811904 estimator.py:1113] Done calling model_fn.\n"
     ]
    },
    {
     "name": "stdout",
     "output_type": "stream",
     "text": [
      "INFO:tensorflow:Starting evaluation at 2019-05-23T06:40:51Z\n"
     ]
    },
    {
     "name": "stderr",
     "output_type": "stream",
     "text": [
      "I0523 08:40:51.363942 140697495811904 evaluation.py:257] Starting evaluation at 2019-05-23T06:40:51Z\n"
     ]
    },
    {
     "name": "stdout",
     "output_type": "stream",
     "text": [
      "INFO:tensorflow:Graph was finalized.\n"
     ]
    },
    {
     "name": "stderr",
     "output_type": "stream",
     "text": [
      "I0523 08:40:51.446681 140697495811904 monitored_session.py:222] Graph was finalized.\n"
     ]
    },
    {
     "name": "stdout",
     "output_type": "stream",
     "text": [
      "INFO:tensorflow:Restoring parameters from ./tmp/baseline/RNN/SGRU/model.ckpt-200\n"
     ]
    },
    {
     "name": "stderr",
     "output_type": "stream",
     "text": [
      "I0523 08:40:51.449446 140697495811904 saver.py:1270] Restoring parameters from ./tmp/baseline/RNN/SGRU/model.ckpt-200\n"
     ]
    },
    {
     "name": "stdout",
     "output_type": "stream",
     "text": [
      "INFO:tensorflow:Running local_init_op.\n"
     ]
    },
    {
     "name": "stderr",
     "output_type": "stream",
     "text": [
      "I0523 08:40:51.537529 140697495811904 session_manager.py:491] Running local_init_op.\n"
     ]
    },
    {
     "name": "stdout",
     "output_type": "stream",
     "text": [
      "INFO:tensorflow:Done running local_init_op.\n"
     ]
    },
    {
     "name": "stderr",
     "output_type": "stream",
     "text": [
      "I0523 08:40:51.573418 140697495811904 session_manager.py:493] Done running local_init_op.\n"
     ]
    },
    {
     "name": "stdout",
     "output_type": "stream",
     "text": [
      "\n",
      "*** generator() : labels shape= (10000,) / label values= 0\n",
      "INFO:tensorflow:Finished evaluation at 2019-05-23-06:40:53\n"
     ]
    },
    {
     "name": "stderr",
     "output_type": "stream",
     "text": [
      "I0523 08:40:53.636223 140697495811904 evaluation.py:277] Finished evaluation at 2019-05-23-06:40:53\n"
     ]
    },
    {
     "name": "stdout",
     "output_type": "stream",
     "text": [
      "INFO:tensorflow:Saving dict for global step 200: RNN_Eval_accuracy = 0.914, global_step = 200, loss = 0.28434658\n"
     ]
    },
    {
     "name": "stderr",
     "output_type": "stream",
     "text": [
      "I0523 08:40:53.637735 140697495811904 estimator.py:1979] Saving dict for global step 200: RNN_Eval_accuracy = 0.914, global_step = 200, loss = 0.28434658\n"
     ]
    },
    {
     "name": "stdout",
     "output_type": "stream",
     "text": [
      "INFO:tensorflow:Saving 'checkpoint_path' summary for global step 200: ./tmp/baseline/RNN/SGRU/model.ckpt-200\n"
     ]
    },
    {
     "name": "stderr",
     "output_type": "stream",
     "text": [
      "I0523 08:40:53.639877 140697495811904 estimator.py:2039] Saving 'checkpoint_path' summary for global step 200: ./tmp/baseline/RNN/SGRU/model.ckpt-200\n"
     ]
    },
    {
     "name": "stdout",
     "output_type": "stream",
     "text": [
      "INFO:tensorflow:global_step/sec: 1.5088\n"
     ]
    },
    {
     "name": "stderr",
     "output_type": "stream",
     "text": [
      "I0523 08:40:53.719527 140697495811904 basic_session_run_hooks.py:680] global_step/sec: 1.5088\n"
     ]
    },
    {
     "name": "stdout",
     "output_type": "stream",
     "text": [
      "INFO:tensorflow:loss = 0.39504588, step = 201 (66.276 sec)\n"
     ]
    },
    {
     "name": "stderr",
     "output_type": "stream",
     "text": [
      "I0523 08:40:53.721532 140697495811904 basic_session_run_hooks.py:247] loss = 0.39504588, step = 201 (66.276 sec)\n"
     ]
    },
    {
     "name": "stdout",
     "output_type": "stream",
     "text": [
      "INFO:tensorflow:Saving checkpoints for 210 into ./tmp/baseline/RNN/SGRU/model.ckpt.\n"
     ]
    },
    {
     "name": "stderr",
     "output_type": "stream",
     "text": [
      "I0523 08:40:54.334371 140697495811904 basic_session_run_hooks.py:594] Saving checkpoints for 210 into ./tmp/baseline/RNN/SGRU/model.ckpt.\n"
     ]
    },
    {
     "name": "stdout",
     "output_type": "stream",
     "text": [
      "\n",
      "*** input_fn() : feature_shape= (28, 28) / label_shape= [1]\n",
      "\n",
      "*** input_fn : TEST / feature_shape= (28, 28)\n",
      "\n",
      "*** preprocess_image() : image shape= (28, 28)\n",
      "\n",
      "*** preprocess_image() : features= {'images': <tf.Tensor 'arg0:0' shape=(28, 28) dtype=float32>} / label shape= ()\n",
      "\n",
      "***_input_fn() : Label shape =[1]\n",
      "INFO:tensorflow:Calling model_fn.\n"
     ]
    },
    {
     "name": "stderr",
     "output_type": "stream",
     "text": [
      "I0523 08:40:54.962823 140697495811904 estimator.py:1111] Calling model_fn.\n"
     ]
    },
    {
     "name": "stdout",
     "output_type": "stream",
     "text": [
      "\n",
      "*** custom_model_fn() : input_layer shape= (?, 784) / Labels shape= (?,)\n",
      "\n",
      "*** _build_rnn_subnetwork() : output[-1]= Tensor(\"RNN/rnn/rnn/multi_rnn_cell/cell_1/gru_cell/add_27:0\", shape=(?, 128), dtype=float32) / Weight= <tf.Variable 'W:0' shape=(128, 10) dtype=float32_ref>\n",
      "\n",
      "*** custom_model_fn() : logits shape= (?, 10) / labels shape= (?,)\n",
      "INFO:tensorflow:Done calling model_fn.\n"
     ]
    },
    {
     "name": "stderr",
     "output_type": "stream",
     "text": [
      "I0523 08:40:55.630826 140697495811904 estimator.py:1113] Done calling model_fn.\n"
     ]
    },
    {
     "name": "stdout",
     "output_type": "stream",
     "text": [
      "INFO:tensorflow:Starting evaluation at 2019-05-23T06:40:55Z\n"
     ]
    },
    {
     "name": "stderr",
     "output_type": "stream",
     "text": [
      "I0523 08:40:55.650467 140697495811904 evaluation.py:257] Starting evaluation at 2019-05-23T06:40:55Z\n"
     ]
    },
    {
     "name": "stdout",
     "output_type": "stream",
     "text": [
      "INFO:tensorflow:Graph was finalized.\n"
     ]
    },
    {
     "name": "stderr",
     "output_type": "stream",
     "text": [
      "I0523 08:40:55.729773 140697495811904 monitored_session.py:222] Graph was finalized.\n"
     ]
    },
    {
     "name": "stdout",
     "output_type": "stream",
     "text": [
      "INFO:tensorflow:Restoring parameters from ./tmp/baseline/RNN/SGRU/model.ckpt-210\n"
     ]
    },
    {
     "name": "stderr",
     "output_type": "stream",
     "text": [
      "I0523 08:40:55.732091 140697495811904 saver.py:1270] Restoring parameters from ./tmp/baseline/RNN/SGRU/model.ckpt-210\n"
     ]
    },
    {
     "name": "stdout",
     "output_type": "stream",
     "text": [
      "INFO:tensorflow:Running local_init_op.\n"
     ]
    },
    {
     "name": "stderr",
     "output_type": "stream",
     "text": [
      "I0523 08:40:55.785850 140697495811904 session_manager.py:491] Running local_init_op.\n"
     ]
    },
    {
     "name": "stdout",
     "output_type": "stream",
     "text": [
      "INFO:tensorflow:Done running local_init_op.\n"
     ]
    },
    {
     "name": "stderr",
     "output_type": "stream",
     "text": [
      "I0523 08:40:55.799064 140697495811904 session_manager.py:493] Done running local_init_op.\n"
     ]
    },
    {
     "name": "stdout",
     "output_type": "stream",
     "text": [
      "\n",
      "*** generator() : labels shape= (10000,) / label values= 0\n",
      "INFO:tensorflow:Finished evaluation at 2019-05-23-06:40:58\n"
     ]
    },
    {
     "name": "stderr",
     "output_type": "stream",
     "text": [
      "I0523 08:40:58.571821 140697495811904 evaluation.py:277] Finished evaluation at 2019-05-23-06:40:58\n"
     ]
    },
    {
     "name": "stdout",
     "output_type": "stream",
     "text": [
      "INFO:tensorflow:Saving dict for global step 210: RNN_Eval_accuracy = 0.9128, global_step = 210, loss = 0.28432047\n"
     ]
    },
    {
     "name": "stderr",
     "output_type": "stream",
     "text": [
      "I0523 08:40:58.572768 140697495811904 estimator.py:1979] Saving dict for global step 210: RNN_Eval_accuracy = 0.9128, global_step = 210, loss = 0.28432047\n"
     ]
    },
    {
     "name": "stdout",
     "output_type": "stream",
     "text": [
      "INFO:tensorflow:Saving 'checkpoint_path' summary for global step 210: ./tmp/baseline/RNN/SGRU/model.ckpt-210\n"
     ]
    },
    {
     "name": "stderr",
     "output_type": "stream",
     "text": [
      "I0523 08:40:58.574219 140697495811904 estimator.py:2039] Saving 'checkpoint_path' summary for global step 210: ./tmp/baseline/RNN/SGRU/model.ckpt-210\n"
     ]
    },
    {
     "name": "stdout",
     "output_type": "stream",
     "text": [
      "INFO:tensorflow:Saving checkpoints for 220 into ./tmp/baseline/RNN/SGRU/model.ckpt.\n"
     ]
    },
    {
     "name": "stderr",
     "output_type": "stream",
     "text": [
      "I0523 08:40:59.297985 140697495811904 basic_session_run_hooks.py:594] Saving checkpoints for 220 into ./tmp/baseline/RNN/SGRU/model.ckpt.\n"
     ]
    },
    {
     "name": "stdout",
     "output_type": "stream",
     "text": [
      "\n",
      "*** input_fn() : feature_shape= (28, 28) / label_shape= [1]\n",
      "\n",
      "*** input_fn : TEST / feature_shape= (28, 28)\n",
      "\n",
      "*** preprocess_image() : image shape= (28, 28)\n",
      "\n",
      "*** preprocess_image() : features= {'images': <tf.Tensor 'arg0:0' shape=(28, 28) dtype=float32>} / label shape= ()\n",
      "\n",
      "***_input_fn() : Label shape =[1]\n",
      "INFO:tensorflow:Calling model_fn.\n"
     ]
    },
    {
     "name": "stderr",
     "output_type": "stream",
     "text": [
      "I0523 08:40:59.904389 140697495811904 estimator.py:1111] Calling model_fn.\n"
     ]
    },
    {
     "name": "stdout",
     "output_type": "stream",
     "text": [
      "\n",
      "*** custom_model_fn() : input_layer shape= (?, 784) / Labels shape= (?,)\n",
      "\n",
      "*** _build_rnn_subnetwork() : output[-1]= Tensor(\"RNN/rnn/rnn/multi_rnn_cell/cell_1/gru_cell/add_27:0\", shape=(?, 128), dtype=float32) / Weight= <tf.Variable 'W:0' shape=(128, 10) dtype=float32_ref>\n",
      "\n",
      "*** custom_model_fn() : logits shape= (?, 10) / labels shape= (?,)\n",
      "INFO:tensorflow:Done calling model_fn.\n"
     ]
    },
    {
     "name": "stderr",
     "output_type": "stream",
     "text": [
      "I0523 08:41:01.595387 140697495811904 estimator.py:1113] Done calling model_fn.\n"
     ]
    },
    {
     "name": "stdout",
     "output_type": "stream",
     "text": [
      "INFO:tensorflow:Starting evaluation at 2019-05-23T06:41:01Z\n"
     ]
    },
    {
     "name": "stderr",
     "output_type": "stream",
     "text": [
      "I0523 08:41:01.614674 140697495811904 evaluation.py:257] Starting evaluation at 2019-05-23T06:41:01Z\n"
     ]
    },
    {
     "name": "stdout",
     "output_type": "stream",
     "text": [
      "INFO:tensorflow:Graph was finalized.\n"
     ]
    },
    {
     "name": "stderr",
     "output_type": "stream",
     "text": [
      "I0523 08:41:01.698778 140697495811904 monitored_session.py:222] Graph was finalized.\n"
     ]
    },
    {
     "name": "stdout",
     "output_type": "stream",
     "text": [
      "INFO:tensorflow:Restoring parameters from ./tmp/baseline/RNN/SGRU/model.ckpt-220\n"
     ]
    },
    {
     "name": "stderr",
     "output_type": "stream",
     "text": [
      "I0523 08:41:01.700490 140697495811904 saver.py:1270] Restoring parameters from ./tmp/baseline/RNN/SGRU/model.ckpt-220\n"
     ]
    },
    {
     "name": "stdout",
     "output_type": "stream",
     "text": [
      "INFO:tensorflow:Running local_init_op.\n"
     ]
    },
    {
     "name": "stderr",
     "output_type": "stream",
     "text": [
      "I0523 08:41:01.755518 140697495811904 session_manager.py:491] Running local_init_op.\n"
     ]
    },
    {
     "name": "stdout",
     "output_type": "stream",
     "text": [
      "INFO:tensorflow:Done running local_init_op.\n"
     ]
    },
    {
     "name": "stderr",
     "output_type": "stream",
     "text": [
      "I0523 08:41:01.774203 140697495811904 session_manager.py:493] Done running local_init_op.\n"
     ]
    },
    {
     "name": "stdout",
     "output_type": "stream",
     "text": [
      "\n",
      "*** generator() : labels shape= (10000,) / label values= 0\n",
      "INFO:tensorflow:Finished evaluation at 2019-05-23-06:41:04\n"
     ]
    },
    {
     "name": "stderr",
     "output_type": "stream",
     "text": [
      "I0523 08:41:04.201070 140697495811904 evaluation.py:277] Finished evaluation at 2019-05-23-06:41:04\n"
     ]
    },
    {
     "name": "stdout",
     "output_type": "stream",
     "text": [
      "INFO:tensorflow:Saving dict for global step 220: RNN_Eval_accuracy = 0.9163, global_step = 220, loss = 0.28015694\n"
     ]
    },
    {
     "name": "stderr",
     "output_type": "stream",
     "text": [
      "I0523 08:41:04.202137 140697495811904 estimator.py:1979] Saving dict for global step 220: RNN_Eval_accuracy = 0.9163, global_step = 220, loss = 0.28015694\n"
     ]
    },
    {
     "name": "stdout",
     "output_type": "stream",
     "text": [
      "INFO:tensorflow:Saving 'checkpoint_path' summary for global step 220: ./tmp/baseline/RNN/SGRU/model.ckpt-220\n"
     ]
    },
    {
     "name": "stderr",
     "output_type": "stream",
     "text": [
      "I0523 08:41:04.203726 140697495811904 estimator.py:2039] Saving 'checkpoint_path' summary for global step 220: ./tmp/baseline/RNN/SGRU/model.ckpt-220\n"
     ]
    },
    {
     "name": "stdout",
     "output_type": "stream",
     "text": [
      "INFO:tensorflow:Saving checkpoints for 230 into ./tmp/baseline/RNN/SGRU/model.ckpt.\n"
     ]
    },
    {
     "name": "stderr",
     "output_type": "stream",
     "text": [
      "I0523 08:41:04.872910 140697495811904 basic_session_run_hooks.py:594] Saving checkpoints for 230 into ./tmp/baseline/RNN/SGRU/model.ckpt.\n"
     ]
    },
    {
     "name": "stdout",
     "output_type": "stream",
     "text": [
      "\n",
      "*** input_fn() : feature_shape= (28, 28) / label_shape= [1]\n",
      "\n",
      "*** input_fn : TEST / feature_shape= (28, 28)\n",
      "\n",
      "*** preprocess_image() : image shape= (28, 28)\n",
      "\n",
      "*** preprocess_image() : features= {'images': <tf.Tensor 'arg0:0' shape=(28, 28) dtype=float32>} / label shape= ()\n",
      "\n",
      "***_input_fn() : Label shape =[1]\n",
      "INFO:tensorflow:Calling model_fn.\n"
     ]
    },
    {
     "name": "stderr",
     "output_type": "stream",
     "text": [
      "I0523 08:41:05.487035 140697495811904 estimator.py:1111] Calling model_fn.\n"
     ]
    },
    {
     "name": "stdout",
     "output_type": "stream",
     "text": [
      "\n",
      "*** custom_model_fn() : input_layer shape= (?, 784) / Labels shape= (?,)\n",
      "\n",
      "*** _build_rnn_subnetwork() : output[-1]= Tensor(\"RNN/rnn/rnn/multi_rnn_cell/cell_1/gru_cell/add_27:0\", shape=(?, 128), dtype=float32) / Weight= <tf.Variable 'W:0' shape=(128, 10) dtype=float32_ref>\n",
      "\n",
      "*** custom_model_fn() : logits shape= (?, 10) / labels shape= (?,)\n",
      "INFO:tensorflow:Done calling model_fn.\n"
     ]
    },
    {
     "name": "stderr",
     "output_type": "stream",
     "text": [
      "I0523 08:41:06.653802 140697495811904 estimator.py:1113] Done calling model_fn.\n"
     ]
    },
    {
     "name": "stdout",
     "output_type": "stream",
     "text": [
      "INFO:tensorflow:Starting evaluation at 2019-05-23T06:41:06Z\n"
     ]
    },
    {
     "name": "stderr",
     "output_type": "stream",
     "text": [
      "I0523 08:41:06.712613 140697495811904 evaluation.py:257] Starting evaluation at 2019-05-23T06:41:06Z\n"
     ]
    },
    {
     "name": "stdout",
     "output_type": "stream",
     "text": [
      "INFO:tensorflow:Graph was finalized.\n"
     ]
    },
    {
     "name": "stderr",
     "output_type": "stream",
     "text": [
      "I0523 08:41:06.826731 140697495811904 monitored_session.py:222] Graph was finalized.\n"
     ]
    },
    {
     "name": "stdout",
     "output_type": "stream",
     "text": [
      "INFO:tensorflow:Restoring parameters from ./tmp/baseline/RNN/SGRU/model.ckpt-230\n"
     ]
    },
    {
     "name": "stderr",
     "output_type": "stream",
     "text": [
      "I0523 08:41:06.829019 140697495811904 saver.py:1270] Restoring parameters from ./tmp/baseline/RNN/SGRU/model.ckpt-230\n"
     ]
    },
    {
     "name": "stdout",
     "output_type": "stream",
     "text": [
      "INFO:tensorflow:Running local_init_op.\n"
     ]
    },
    {
     "name": "stderr",
     "output_type": "stream",
     "text": [
      "I0523 08:41:06.883862 140697495811904 session_manager.py:491] Running local_init_op.\n"
     ]
    },
    {
     "name": "stdout",
     "output_type": "stream",
     "text": [
      "INFO:tensorflow:Done running local_init_op.\n"
     ]
    },
    {
     "name": "stderr",
     "output_type": "stream",
     "text": [
      "I0523 08:41:06.898902 140697495811904 session_manager.py:493] Done running local_init_op.\n"
     ]
    },
    {
     "name": "stdout",
     "output_type": "stream",
     "text": [
      "\n",
      "*** generator() : labels shape= (10000,) / label values= 0\n",
      "INFO:tensorflow:Finished evaluation at 2019-05-23-06:41:09\n"
     ]
    },
    {
     "name": "stderr",
     "output_type": "stream",
     "text": [
      "I0523 08:41:09.309294 140697495811904 evaluation.py:277] Finished evaluation at 2019-05-23-06:41:09\n"
     ]
    },
    {
     "name": "stdout",
     "output_type": "stream",
     "text": [
      "INFO:tensorflow:Saving dict for global step 230: RNN_Eval_accuracy = 0.9184, global_step = 230, loss = 0.2719388\n"
     ]
    },
    {
     "name": "stderr",
     "output_type": "stream",
     "text": [
      "I0523 08:41:09.310281 140697495811904 estimator.py:1979] Saving dict for global step 230: RNN_Eval_accuracy = 0.9184, global_step = 230, loss = 0.2719388\n"
     ]
    },
    {
     "name": "stdout",
     "output_type": "stream",
     "text": [
      "INFO:tensorflow:Saving 'checkpoint_path' summary for global step 230: ./tmp/baseline/RNN/SGRU/model.ckpt-230\n"
     ]
    },
    {
     "name": "stderr",
     "output_type": "stream",
     "text": [
      "I0523 08:41:09.311491 140697495811904 estimator.py:2039] Saving 'checkpoint_path' summary for global step 230: ./tmp/baseline/RNN/SGRU/model.ckpt-230\n"
     ]
    },
    {
     "name": "stdout",
     "output_type": "stream",
     "text": [
      "INFO:tensorflow:Saving checkpoints for 240 into ./tmp/baseline/RNN/SGRU/model.ckpt.\n"
     ]
    },
    {
     "name": "stderr",
     "output_type": "stream",
     "text": [
      "I0523 08:41:10.210625 140697495811904 basic_session_run_hooks.py:594] Saving checkpoints for 240 into ./tmp/baseline/RNN/SGRU/model.ckpt.\n"
     ]
    },
    {
     "name": "stdout",
     "output_type": "stream",
     "text": [
      "\n",
      "*** input_fn() : feature_shape= (28, 28) / label_shape= [1]\n",
      "\n",
      "*** input_fn : TEST / feature_shape= (28, 28)\n",
      "\n",
      "*** preprocess_image() : image shape= (28, 28)\n",
      "\n",
      "*** preprocess_image() : features= {'images': <tf.Tensor 'arg0:0' shape=(28, 28) dtype=float32>} / label shape= ()\n",
      "\n",
      "***_input_fn() : Label shape =[1]\n",
      "INFO:tensorflow:Calling model_fn.\n"
     ]
    },
    {
     "name": "stderr",
     "output_type": "stream",
     "text": [
      "I0523 08:41:11.537783 140697495811904 estimator.py:1111] Calling model_fn.\n"
     ]
    },
    {
     "name": "stdout",
     "output_type": "stream",
     "text": [
      "\n",
      "*** custom_model_fn() : input_layer shape= (?, 784) / Labels shape= (?,)\n",
      "\n",
      "*** _build_rnn_subnetwork() : output[-1]= Tensor(\"RNN/rnn/rnn/multi_rnn_cell/cell_1/gru_cell/add_27:0\", shape=(?, 128), dtype=float32) / Weight= <tf.Variable 'W:0' shape=(128, 10) dtype=float32_ref>\n",
      "\n",
      "*** custom_model_fn() : logits shape= (?, 10) / labels shape= (?,)\n",
      "INFO:tensorflow:Done calling model_fn.\n"
     ]
    },
    {
     "name": "stderr",
     "output_type": "stream",
     "text": [
      "I0523 08:41:13.105602 140697495811904 estimator.py:1113] Done calling model_fn.\n"
     ]
    },
    {
     "name": "stdout",
     "output_type": "stream",
     "text": [
      "INFO:tensorflow:Starting evaluation at 2019-05-23T06:41:13Z\n"
     ]
    },
    {
     "name": "stderr",
     "output_type": "stream",
     "text": [
      "I0523 08:41:13.122456 140697495811904 evaluation.py:257] Starting evaluation at 2019-05-23T06:41:13Z\n"
     ]
    },
    {
     "name": "stdout",
     "output_type": "stream",
     "text": [
      "INFO:tensorflow:Graph was finalized.\n"
     ]
    },
    {
     "name": "stderr",
     "output_type": "stream",
     "text": [
      "I0523 08:41:13.200867 140697495811904 monitored_session.py:222] Graph was finalized.\n"
     ]
    },
    {
     "name": "stdout",
     "output_type": "stream",
     "text": [
      "INFO:tensorflow:Restoring parameters from ./tmp/baseline/RNN/SGRU/model.ckpt-240\n"
     ]
    },
    {
     "name": "stderr",
     "output_type": "stream",
     "text": [
      "I0523 08:41:13.202693 140697495811904 saver.py:1270] Restoring parameters from ./tmp/baseline/RNN/SGRU/model.ckpt-240\n"
     ]
    },
    {
     "name": "stdout",
     "output_type": "stream",
     "text": [
      "INFO:tensorflow:Running local_init_op.\n"
     ]
    },
    {
     "name": "stderr",
     "output_type": "stream",
     "text": [
      "I0523 08:41:13.254810 140697495811904 session_manager.py:491] Running local_init_op.\n"
     ]
    },
    {
     "name": "stdout",
     "output_type": "stream",
     "text": [
      "INFO:tensorflow:Done running local_init_op.\n"
     ]
    },
    {
     "name": "stderr",
     "output_type": "stream",
     "text": [
      "I0523 08:41:13.271908 140697495811904 session_manager.py:493] Done running local_init_op.\n"
     ]
    },
    {
     "name": "stdout",
     "output_type": "stream",
     "text": [
      "\n",
      "*** generator() : labels shape= (10000,) / label values= 0\n",
      "INFO:tensorflow:Finished evaluation at 2019-05-23-06:41:14\n"
     ]
    },
    {
     "name": "stderr",
     "output_type": "stream",
     "text": [
      "I0523 08:41:14.983184 140697495811904 evaluation.py:277] Finished evaluation at 2019-05-23-06:41:14\n"
     ]
    },
    {
     "name": "stdout",
     "output_type": "stream",
     "text": [
      "INFO:tensorflow:Saving dict for global step 240: RNN_Eval_accuracy = 0.9264, global_step = 240, loss = 0.24964738\n"
     ]
    },
    {
     "name": "stderr",
     "output_type": "stream",
     "text": [
      "I0523 08:41:14.984873 140697495811904 estimator.py:1979] Saving dict for global step 240: RNN_Eval_accuracy = 0.9264, global_step = 240, loss = 0.24964738\n"
     ]
    },
    {
     "name": "stdout",
     "output_type": "stream",
     "text": [
      "INFO:tensorflow:Saving 'checkpoint_path' summary for global step 240: ./tmp/baseline/RNN/SGRU/model.ckpt-240\n"
     ]
    },
    {
     "name": "stderr",
     "output_type": "stream",
     "text": [
      "I0523 08:41:14.986173 140697495811904 estimator.py:2039] Saving 'checkpoint_path' summary for global step 240: ./tmp/baseline/RNN/SGRU/model.ckpt-240\n"
     ]
    },
    {
     "name": "stdout",
     "output_type": "stream",
     "text": [
      "INFO:tensorflow:Saving checkpoints for 250 into ./tmp/baseline/RNN/SGRU/model.ckpt.\n"
     ]
    },
    {
     "name": "stderr",
     "output_type": "stream",
     "text": [
      "I0523 08:41:15.566528 140697495811904 basic_session_run_hooks.py:594] Saving checkpoints for 250 into ./tmp/baseline/RNN/SGRU/model.ckpt.\n"
     ]
    },
    {
     "name": "stdout",
     "output_type": "stream",
     "text": [
      "\n",
      "*** input_fn() : feature_shape= (28, 28) / label_shape= [1]\n",
      "\n",
      "*** input_fn : TEST / feature_shape= (28, 28)\n",
      "\n",
      "*** preprocess_image() : image shape= (28, 28)\n",
      "\n",
      "*** preprocess_image() : features= {'images': <tf.Tensor 'arg0:0' shape=(28, 28) dtype=float32>} / label shape= ()\n",
      "\n",
      "***_input_fn() : Label shape =[1]\n",
      "INFO:tensorflow:Calling model_fn.\n"
     ]
    },
    {
     "name": "stderr",
     "output_type": "stream",
     "text": [
      "I0523 08:41:16.214823 140697495811904 estimator.py:1111] Calling model_fn.\n"
     ]
    },
    {
     "name": "stdout",
     "output_type": "stream",
     "text": [
      "\n",
      "*** custom_model_fn() : input_layer shape= (?, 784) / Labels shape= (?,)\n",
      "\n",
      "*** _build_rnn_subnetwork() : output[-1]= Tensor(\"RNN/rnn/rnn/multi_rnn_cell/cell_1/gru_cell/add_27:0\", shape=(?, 128), dtype=float32) / Weight= <tf.Variable 'W:0' shape=(128, 10) dtype=float32_ref>\n",
      "\n",
      "*** custom_model_fn() : logits shape= (?, 10) / labels shape= (?,)\n",
      "INFO:tensorflow:Done calling model_fn.\n"
     ]
    },
    {
     "name": "stderr",
     "output_type": "stream",
     "text": [
      "I0523 08:41:17.628509 140697495811904 estimator.py:1113] Done calling model_fn.\n"
     ]
    },
    {
     "name": "stdout",
     "output_type": "stream",
     "text": [
      "INFO:tensorflow:Starting evaluation at 2019-05-23T06:41:17Z\n"
     ]
    },
    {
     "name": "stderr",
     "output_type": "stream",
     "text": [
      "I0523 08:41:17.678866 140697495811904 evaluation.py:257] Starting evaluation at 2019-05-23T06:41:17Z\n"
     ]
    },
    {
     "name": "stdout",
     "output_type": "stream",
     "text": [
      "INFO:tensorflow:Graph was finalized.\n"
     ]
    },
    {
     "name": "stderr",
     "output_type": "stream",
     "text": [
      "I0523 08:41:18.438343 140697495811904 monitored_session.py:222] Graph was finalized.\n"
     ]
    },
    {
     "name": "stdout",
     "output_type": "stream",
     "text": [
      "INFO:tensorflow:Restoring parameters from ./tmp/baseline/RNN/SGRU/model.ckpt-250\n"
     ]
    },
    {
     "name": "stderr",
     "output_type": "stream",
     "text": [
      "I0523 08:41:18.440727 140697495811904 saver.py:1270] Restoring parameters from ./tmp/baseline/RNN/SGRU/model.ckpt-250\n"
     ]
    },
    {
     "name": "stdout",
     "output_type": "stream",
     "text": [
      "INFO:tensorflow:Running local_init_op.\n"
     ]
    },
    {
     "name": "stderr",
     "output_type": "stream",
     "text": [
      "I0523 08:41:18.543112 140697495811904 session_manager.py:491] Running local_init_op.\n"
     ]
    },
    {
     "name": "stdout",
     "output_type": "stream",
     "text": [
      "INFO:tensorflow:Done running local_init_op.\n"
     ]
    },
    {
     "name": "stderr",
     "output_type": "stream",
     "text": [
      "I0523 08:41:18.589534 140697495811904 session_manager.py:493] Done running local_init_op.\n"
     ]
    },
    {
     "name": "stdout",
     "output_type": "stream",
     "text": [
      "\n",
      "*** generator() : labels shape= (10000,) / label values= 0\n",
      "INFO:tensorflow:Finished evaluation at 2019-05-23-06:41:20\n"
     ]
    },
    {
     "name": "stderr",
     "output_type": "stream",
     "text": [
      "I0523 08:41:20.890979 140697495811904 evaluation.py:277] Finished evaluation at 2019-05-23-06:41:20\n"
     ]
    },
    {
     "name": "stdout",
     "output_type": "stream",
     "text": [
      "INFO:tensorflow:Saving dict for global step 250: RNN_Eval_accuracy = 0.9271, global_step = 250, loss = 0.24426879\n"
     ]
    },
    {
     "name": "stderr",
     "output_type": "stream",
     "text": [
      "I0523 08:41:20.891937 140697495811904 estimator.py:1979] Saving dict for global step 250: RNN_Eval_accuracy = 0.9271, global_step = 250, loss = 0.24426879\n"
     ]
    },
    {
     "name": "stdout",
     "output_type": "stream",
     "text": [
      "INFO:tensorflow:Saving 'checkpoint_path' summary for global step 250: ./tmp/baseline/RNN/SGRU/model.ckpt-250\n"
     ]
    },
    {
     "name": "stderr",
     "output_type": "stream",
     "text": [
      "I0523 08:41:20.893182 140697495811904 estimator.py:2039] Saving 'checkpoint_path' summary for global step 250: ./tmp/baseline/RNN/SGRU/model.ckpt-250\n"
     ]
    },
    {
     "name": "stdout",
     "output_type": "stream",
     "text": [
      "INFO:tensorflow:Saving checkpoints for 260 into ./tmp/baseline/RNN/SGRU/model.ckpt.\n"
     ]
    },
    {
     "name": "stderr",
     "output_type": "stream",
     "text": [
      "I0523 08:41:21.510438 140697495811904 basic_session_run_hooks.py:594] Saving checkpoints for 260 into ./tmp/baseline/RNN/SGRU/model.ckpt.\n"
     ]
    },
    {
     "name": "stdout",
     "output_type": "stream",
     "text": [
      "\n",
      "*** input_fn() : feature_shape= (28, 28) / label_shape= [1]\n",
      "\n",
      "*** input_fn : TEST / feature_shape= (28, 28)\n",
      "\n",
      "*** preprocess_image() : image shape= (28, 28)\n",
      "\n",
      "*** preprocess_image() : features= {'images': <tf.Tensor 'arg0:0' shape=(28, 28) dtype=float32>} / label shape= ()\n",
      "\n",
      "***_input_fn() : Label shape =[1]\n",
      "INFO:tensorflow:Calling model_fn.\n"
     ]
    },
    {
     "name": "stderr",
     "output_type": "stream",
     "text": [
      "I0523 08:41:22.088435 140697495811904 estimator.py:1111] Calling model_fn.\n"
     ]
    },
    {
     "name": "stdout",
     "output_type": "stream",
     "text": [
      "\n",
      "*** custom_model_fn() : input_layer shape= (?, 784) / Labels shape= (?,)\n",
      "\n",
      "*** _build_rnn_subnetwork() : output[-1]= Tensor(\"RNN/rnn/rnn/multi_rnn_cell/cell_1/gru_cell/add_27:0\", shape=(?, 128), dtype=float32) / Weight= <tf.Variable 'W:0' shape=(128, 10) dtype=float32_ref>\n",
      "\n",
      "*** custom_model_fn() : logits shape= (?, 10) / labels shape= (?,)\n",
      "INFO:tensorflow:Done calling model_fn.\n"
     ]
    },
    {
     "name": "stderr",
     "output_type": "stream",
     "text": [
      "I0523 08:41:22.790029 140697495811904 estimator.py:1113] Done calling model_fn.\n"
     ]
    },
    {
     "name": "stdout",
     "output_type": "stream",
     "text": [
      "INFO:tensorflow:Starting evaluation at 2019-05-23T06:41:22Z\n"
     ]
    },
    {
     "name": "stderr",
     "output_type": "stream",
     "text": [
      "I0523 08:41:22.810332 140697495811904 evaluation.py:257] Starting evaluation at 2019-05-23T06:41:22Z\n"
     ]
    },
    {
     "name": "stdout",
     "output_type": "stream",
     "text": [
      "INFO:tensorflow:Graph was finalized.\n"
     ]
    },
    {
     "name": "stderr",
     "output_type": "stream",
     "text": [
      "I0523 08:41:22.934729 140697495811904 monitored_session.py:222] Graph was finalized.\n"
     ]
    },
    {
     "name": "stdout",
     "output_type": "stream",
     "text": [
      "INFO:tensorflow:Restoring parameters from ./tmp/baseline/RNN/SGRU/model.ckpt-260\n"
     ]
    },
    {
     "name": "stderr",
     "output_type": "stream",
     "text": [
      "I0523 08:41:22.936614 140697495811904 saver.py:1270] Restoring parameters from ./tmp/baseline/RNN/SGRU/model.ckpt-260\n"
     ]
    },
    {
     "name": "stdout",
     "output_type": "stream",
     "text": [
      "INFO:tensorflow:Running local_init_op.\n"
     ]
    },
    {
     "name": "stderr",
     "output_type": "stream",
     "text": [
      "I0523 08:41:23.010676 140697495811904 session_manager.py:491] Running local_init_op.\n"
     ]
    },
    {
     "name": "stdout",
     "output_type": "stream",
     "text": [
      "INFO:tensorflow:Done running local_init_op.\n"
     ]
    },
    {
     "name": "stderr",
     "output_type": "stream",
     "text": [
      "I0523 08:41:23.040068 140697495811904 session_manager.py:493] Done running local_init_op.\n"
     ]
    },
    {
     "name": "stdout",
     "output_type": "stream",
     "text": [
      "\n",
      "*** generator() : labels shape= (10000,) / label values= 0\n",
      "INFO:tensorflow:Finished evaluation at 2019-05-23-06:41:24\n"
     ]
    },
    {
     "name": "stderr",
     "output_type": "stream",
     "text": [
      "I0523 08:41:24.752505 140697495811904 evaluation.py:277] Finished evaluation at 2019-05-23-06:41:24\n"
     ]
    },
    {
     "name": "stdout",
     "output_type": "stream",
     "text": [
      "INFO:tensorflow:Saving dict for global step 260: RNN_Eval_accuracy = 0.9327, global_step = 260, loss = 0.22038539\n"
     ]
    },
    {
     "name": "stderr",
     "output_type": "stream",
     "text": [
      "I0523 08:41:24.753459 140697495811904 estimator.py:1979] Saving dict for global step 260: RNN_Eval_accuracy = 0.9327, global_step = 260, loss = 0.22038539\n"
     ]
    },
    {
     "name": "stdout",
     "output_type": "stream",
     "text": [
      "INFO:tensorflow:Saving 'checkpoint_path' summary for global step 260: ./tmp/baseline/RNN/SGRU/model.ckpt-260\n"
     ]
    },
    {
     "name": "stderr",
     "output_type": "stream",
     "text": [
      "I0523 08:41:24.754532 140697495811904 estimator.py:2039] Saving 'checkpoint_path' summary for global step 260: ./tmp/baseline/RNN/SGRU/model.ckpt-260\n"
     ]
    },
    {
     "name": "stdout",
     "output_type": "stream",
     "text": [
      "INFO:tensorflow:Saving checkpoints for 270 into ./tmp/baseline/RNN/SGRU/model.ckpt.\n"
     ]
    },
    {
     "name": "stderr",
     "output_type": "stream",
     "text": [
      "I0523 08:41:25.364156 140697495811904 basic_session_run_hooks.py:594] Saving checkpoints for 270 into ./tmp/baseline/RNN/SGRU/model.ckpt.\n"
     ]
    },
    {
     "name": "stdout",
     "output_type": "stream",
     "text": [
      "\n",
      "*** input_fn() : feature_shape= (28, 28) / label_shape= [1]\n",
      "\n",
      "*** input_fn : TEST / feature_shape= (28, 28)\n",
      "\n",
      "*** preprocess_image() : image shape= (28, 28)\n",
      "\n",
      "*** preprocess_image() : features= {'images': <tf.Tensor 'arg0:0' shape=(28, 28) dtype=float32>} / label shape= ()\n",
      "\n",
      "***_input_fn() : Label shape =[1]\n",
      "INFO:tensorflow:Calling model_fn.\n"
     ]
    },
    {
     "name": "stderr",
     "output_type": "stream",
     "text": [
      "I0523 08:41:25.950448 140697495811904 estimator.py:1111] Calling model_fn.\n"
     ]
    },
    {
     "name": "stdout",
     "output_type": "stream",
     "text": [
      "\n",
      "*** custom_model_fn() : input_layer shape= (?, 784) / Labels shape= (?,)\n",
      "\n",
      "*** _build_rnn_subnetwork() : output[-1]= Tensor(\"RNN/rnn/rnn/multi_rnn_cell/cell_1/gru_cell/add_27:0\", shape=(?, 128), dtype=float32) / Weight= <tf.Variable 'W:0' shape=(128, 10) dtype=float32_ref>\n",
      "\n",
      "*** custom_model_fn() : logits shape= (?, 10) / labels shape= (?,)\n",
      "INFO:tensorflow:Done calling model_fn.\n"
     ]
    },
    {
     "name": "stderr",
     "output_type": "stream",
     "text": [
      "I0523 08:41:26.845225 140697495811904 estimator.py:1113] Done calling model_fn.\n"
     ]
    },
    {
     "name": "stdout",
     "output_type": "stream",
     "text": [
      "INFO:tensorflow:Starting evaluation at 2019-05-23T06:41:26Z\n"
     ]
    },
    {
     "name": "stderr",
     "output_type": "stream",
     "text": [
      "I0523 08:41:26.894945 140697495811904 evaluation.py:257] Starting evaluation at 2019-05-23T06:41:26Z\n"
     ]
    },
    {
     "name": "stdout",
     "output_type": "stream",
     "text": [
      "INFO:tensorflow:Graph was finalized.\n"
     ]
    },
    {
     "name": "stderr",
     "output_type": "stream",
     "text": [
      "I0523 08:41:27.033278 140697495811904 monitored_session.py:222] Graph was finalized.\n"
     ]
    },
    {
     "name": "stdout",
     "output_type": "stream",
     "text": [
      "INFO:tensorflow:Restoring parameters from ./tmp/baseline/RNN/SGRU/model.ckpt-270\n"
     ]
    },
    {
     "name": "stderr",
     "output_type": "stream",
     "text": [
      "I0523 08:41:27.035066 140697495811904 saver.py:1270] Restoring parameters from ./tmp/baseline/RNN/SGRU/model.ckpt-270\n"
     ]
    },
    {
     "name": "stdout",
     "output_type": "stream",
     "text": [
      "INFO:tensorflow:Running local_init_op.\n"
     ]
    },
    {
     "name": "stderr",
     "output_type": "stream",
     "text": [
      "I0523 08:41:27.122410 140697495811904 session_manager.py:491] Running local_init_op.\n"
     ]
    },
    {
     "name": "stdout",
     "output_type": "stream",
     "text": [
      "INFO:tensorflow:Done running local_init_op.\n"
     ]
    },
    {
     "name": "stderr",
     "output_type": "stream",
     "text": [
      "I0523 08:41:27.143774 140697495811904 session_manager.py:493] Done running local_init_op.\n"
     ]
    },
    {
     "name": "stdout",
     "output_type": "stream",
     "text": [
      "\n",
      "*** generator() : labels shape= (10000,) / label values= 0\n",
      "INFO:tensorflow:Finished evaluation at 2019-05-23-06:41:28\n"
     ]
    },
    {
     "name": "stderr",
     "output_type": "stream",
     "text": [
      "I0523 08:41:28.907136 140697495811904 evaluation.py:277] Finished evaluation at 2019-05-23-06:41:28\n"
     ]
    },
    {
     "name": "stdout",
     "output_type": "stream",
     "text": [
      "INFO:tensorflow:Saving dict for global step 270: RNN_Eval_accuracy = 0.933, global_step = 270, loss = 0.22261998\n"
     ]
    },
    {
     "name": "stderr",
     "output_type": "stream",
     "text": [
      "I0523 08:41:28.907998 140697495811904 estimator.py:1979] Saving dict for global step 270: RNN_Eval_accuracy = 0.933, global_step = 270, loss = 0.22261998\n"
     ]
    },
    {
     "name": "stdout",
     "output_type": "stream",
     "text": [
      "INFO:tensorflow:Saving 'checkpoint_path' summary for global step 270: ./tmp/baseline/RNN/SGRU/model.ckpt-270\n"
     ]
    },
    {
     "name": "stderr",
     "output_type": "stream",
     "text": [
      "I0523 08:41:28.909456 140697495811904 estimator.py:2039] Saving 'checkpoint_path' summary for global step 270: ./tmp/baseline/RNN/SGRU/model.ckpt-270\n"
     ]
    },
    {
     "name": "stdout",
     "output_type": "stream",
     "text": [
      "INFO:tensorflow:Saving checkpoints for 280 into ./tmp/baseline/RNN/SGRU/model.ckpt.\n"
     ]
    },
    {
     "name": "stderr",
     "output_type": "stream",
     "text": [
      "I0523 08:41:29.538934 140697495811904 basic_session_run_hooks.py:594] Saving checkpoints for 280 into ./tmp/baseline/RNN/SGRU/model.ckpt.\n"
     ]
    },
    {
     "name": "stdout",
     "output_type": "stream",
     "text": [
      "\n",
      "*** input_fn() : feature_shape= (28, 28) / label_shape= [1]\n",
      "\n",
      "*** input_fn : TEST / feature_shape= (28, 28)\n",
      "\n",
      "*** preprocess_image() : image shape= (28, 28)\n",
      "\n",
      "*** preprocess_image() : features= {'images': <tf.Tensor 'arg0:0' shape=(28, 28) dtype=float32>} / label shape= ()\n",
      "\n",
      "***_input_fn() : Label shape =[1]\n",
      "INFO:tensorflow:Calling model_fn.\n"
     ]
    },
    {
     "name": "stderr",
     "output_type": "stream",
     "text": [
      "I0523 08:41:30.072961 140697495811904 estimator.py:1111] Calling model_fn.\n"
     ]
    },
    {
     "name": "stdout",
     "output_type": "stream",
     "text": [
      "\n",
      "*** custom_model_fn() : input_layer shape= (?, 784) / Labels shape= (?,)\n",
      "\n",
      "*** _build_rnn_subnetwork() : output[-1]= Tensor(\"RNN/rnn/rnn/multi_rnn_cell/cell_1/gru_cell/add_27:0\", shape=(?, 128), dtype=float32) / Weight= <tf.Variable 'W:0' shape=(128, 10) dtype=float32_ref>\n",
      "\n",
      "*** custom_model_fn() : logits shape= (?, 10) / labels shape= (?,)\n",
      "INFO:tensorflow:Done calling model_fn.\n"
     ]
    },
    {
     "name": "stderr",
     "output_type": "stream",
     "text": [
      "I0523 08:41:30.672203 140697495811904 estimator.py:1113] Done calling model_fn.\n"
     ]
    },
    {
     "name": "stdout",
     "output_type": "stream",
     "text": [
      "INFO:tensorflow:Starting evaluation at 2019-05-23T06:41:30Z\n"
     ]
    },
    {
     "name": "stderr",
     "output_type": "stream",
     "text": [
      "I0523 08:41:30.691466 140697495811904 evaluation.py:257] Starting evaluation at 2019-05-23T06:41:30Z\n"
     ]
    },
    {
     "name": "stdout",
     "output_type": "stream",
     "text": [
      "INFO:tensorflow:Graph was finalized.\n"
     ]
    },
    {
     "name": "stderr",
     "output_type": "stream",
     "text": [
      "I0523 08:41:30.814034 140697495811904 monitored_session.py:222] Graph was finalized.\n"
     ]
    },
    {
     "name": "stdout",
     "output_type": "stream",
     "text": [
      "INFO:tensorflow:Restoring parameters from ./tmp/baseline/RNN/SGRU/model.ckpt-280\n"
     ]
    },
    {
     "name": "stderr",
     "output_type": "stream",
     "text": [
      "I0523 08:41:30.815702 140697495811904 saver.py:1270] Restoring parameters from ./tmp/baseline/RNN/SGRU/model.ckpt-280\n"
     ]
    },
    {
     "name": "stdout",
     "output_type": "stream",
     "text": [
      "INFO:tensorflow:Running local_init_op.\n"
     ]
    },
    {
     "name": "stderr",
     "output_type": "stream",
     "text": [
      "I0523 08:41:30.906255 140697495811904 session_manager.py:491] Running local_init_op.\n"
     ]
    },
    {
     "name": "stdout",
     "output_type": "stream",
     "text": [
      "INFO:tensorflow:Done running local_init_op.\n"
     ]
    },
    {
     "name": "stderr",
     "output_type": "stream",
     "text": [
      "I0523 08:41:30.929900 140697495811904 session_manager.py:493] Done running local_init_op.\n"
     ]
    },
    {
     "name": "stdout",
     "output_type": "stream",
     "text": [
      "\n",
      "*** generator() : labels shape= (10000,) / label values= 0\n",
      "INFO:tensorflow:Finished evaluation at 2019-05-23-06:41:32\n"
     ]
    },
    {
     "name": "stderr",
     "output_type": "stream",
     "text": [
      "I0523 08:41:32.726133 140697495811904 evaluation.py:277] Finished evaluation at 2019-05-23-06:41:32\n"
     ]
    },
    {
     "name": "stdout",
     "output_type": "stream",
     "text": [
      "INFO:tensorflow:Saving dict for global step 280: RNN_Eval_accuracy = 0.9341, global_step = 280, loss = 0.21377335\n"
     ]
    },
    {
     "name": "stderr",
     "output_type": "stream",
     "text": [
      "I0523 08:41:32.727369 140697495811904 estimator.py:1979] Saving dict for global step 280: RNN_Eval_accuracy = 0.9341, global_step = 280, loss = 0.21377335\n"
     ]
    },
    {
     "name": "stdout",
     "output_type": "stream",
     "text": [
      "INFO:tensorflow:Saving 'checkpoint_path' summary for global step 280: ./tmp/baseline/RNN/SGRU/model.ckpt-280\n"
     ]
    },
    {
     "name": "stderr",
     "output_type": "stream",
     "text": [
      "I0523 08:41:32.728827 140697495811904 estimator.py:2039] Saving 'checkpoint_path' summary for global step 280: ./tmp/baseline/RNN/SGRU/model.ckpt-280\n"
     ]
    },
    {
     "name": "stdout",
     "output_type": "stream",
     "text": [
      "INFO:tensorflow:Saving checkpoints for 290 into ./tmp/baseline/RNN/SGRU/model.ckpt.\n"
     ]
    },
    {
     "name": "stderr",
     "output_type": "stream",
     "text": [
      "I0523 08:41:33.354257 140697495811904 basic_session_run_hooks.py:594] Saving checkpoints for 290 into ./tmp/baseline/RNN/SGRU/model.ckpt.\n"
     ]
    },
    {
     "name": "stdout",
     "output_type": "stream",
     "text": [
      "\n",
      "*** input_fn() : feature_shape= (28, 28) / label_shape= [1]\n",
      "\n",
      "*** input_fn : TEST / feature_shape= (28, 28)\n",
      "\n",
      "*** preprocess_image() : image shape= (28, 28)\n",
      "\n",
      "*** preprocess_image() : features= {'images': <tf.Tensor 'arg0:0' shape=(28, 28) dtype=float32>} / label shape= ()\n",
      "\n",
      "***_input_fn() : Label shape =[1]\n",
      "INFO:tensorflow:Calling model_fn.\n"
     ]
    },
    {
     "name": "stderr",
     "output_type": "stream",
     "text": [
      "I0523 08:41:33.947479 140697495811904 estimator.py:1111] Calling model_fn.\n"
     ]
    },
    {
     "name": "stdout",
     "output_type": "stream",
     "text": [
      "\n",
      "*** custom_model_fn() : input_layer shape= (?, 784) / Labels shape= (?,)\n",
      "\n",
      "*** _build_rnn_subnetwork() : output[-1]= Tensor(\"RNN/rnn/rnn/multi_rnn_cell/cell_1/gru_cell/add_27:0\", shape=(?, 128), dtype=float32) / Weight= <tf.Variable 'W:0' shape=(128, 10) dtype=float32_ref>\n",
      "\n",
      "*** custom_model_fn() : logits shape= (?, 10) / labels shape= (?,)\n",
      "INFO:tensorflow:Done calling model_fn.\n"
     ]
    },
    {
     "name": "stderr",
     "output_type": "stream",
     "text": [
      "I0523 08:41:34.823599 140697495811904 estimator.py:1113] Done calling model_fn.\n"
     ]
    },
    {
     "name": "stdout",
     "output_type": "stream",
     "text": [
      "INFO:tensorflow:Starting evaluation at 2019-05-23T06:41:34Z\n"
     ]
    },
    {
     "name": "stderr",
     "output_type": "stream",
     "text": [
      "I0523 08:41:34.841352 140697495811904 evaluation.py:257] Starting evaluation at 2019-05-23T06:41:34Z\n"
     ]
    },
    {
     "name": "stdout",
     "output_type": "stream",
     "text": [
      "INFO:tensorflow:Graph was finalized.\n"
     ]
    },
    {
     "name": "stderr",
     "output_type": "stream",
     "text": [
      "I0523 08:41:34.950746 140697495811904 monitored_session.py:222] Graph was finalized.\n"
     ]
    },
    {
     "name": "stdout",
     "output_type": "stream",
     "text": [
      "INFO:tensorflow:Restoring parameters from ./tmp/baseline/RNN/SGRU/model.ckpt-290\n"
     ]
    },
    {
     "name": "stderr",
     "output_type": "stream",
     "text": [
      "I0523 08:41:34.952486 140697495811904 saver.py:1270] Restoring parameters from ./tmp/baseline/RNN/SGRU/model.ckpt-290\n"
     ]
    },
    {
     "name": "stdout",
     "output_type": "stream",
     "text": [
      "INFO:tensorflow:Running local_init_op.\n"
     ]
    },
    {
     "name": "stderr",
     "output_type": "stream",
     "text": [
      "I0523 08:41:35.030704 140697495811904 session_manager.py:491] Running local_init_op.\n"
     ]
    },
    {
     "name": "stdout",
     "output_type": "stream",
     "text": [
      "INFO:tensorflow:Done running local_init_op.\n"
     ]
    },
    {
     "name": "stderr",
     "output_type": "stream",
     "text": [
      "I0523 08:41:35.046686 140697495811904 session_manager.py:493] Done running local_init_op.\n"
     ]
    },
    {
     "name": "stdout",
     "output_type": "stream",
     "text": [
      "\n",
      "*** generator() : labels shape= (10000,) / label values= 0\n",
      "INFO:tensorflow:Finished evaluation at 2019-05-23-06:41:36\n"
     ]
    },
    {
     "name": "stderr",
     "output_type": "stream",
     "text": [
      "I0523 08:41:36.803983 140697495811904 evaluation.py:277] Finished evaluation at 2019-05-23-06:41:36\n"
     ]
    },
    {
     "name": "stdout",
     "output_type": "stream",
     "text": [
      "INFO:tensorflow:Saving dict for global step 290: RNN_Eval_accuracy = 0.9317, global_step = 290, loss = 0.2289643\n"
     ]
    },
    {
     "name": "stderr",
     "output_type": "stream",
     "text": [
      "I0523 08:41:36.805151 140697495811904 estimator.py:1979] Saving dict for global step 290: RNN_Eval_accuracy = 0.9317, global_step = 290, loss = 0.2289643\n"
     ]
    },
    {
     "name": "stdout",
     "output_type": "stream",
     "text": [
      "INFO:tensorflow:Saving 'checkpoint_path' summary for global step 290: ./tmp/baseline/RNN/SGRU/model.ckpt-290\n"
     ]
    },
    {
     "name": "stderr",
     "output_type": "stream",
     "text": [
      "I0523 08:41:36.806707 140697495811904 estimator.py:2039] Saving 'checkpoint_path' summary for global step 290: ./tmp/baseline/RNN/SGRU/model.ckpt-290\n"
     ]
    },
    {
     "name": "stdout",
     "output_type": "stream",
     "text": [
      "INFO:tensorflow:Saving checkpoints for 300 into ./tmp/baseline/RNN/SGRU/model.ckpt.\n"
     ]
    },
    {
     "name": "stderr",
     "output_type": "stream",
     "text": [
      "I0523 08:41:37.424496 140697495811904 basic_session_run_hooks.py:594] Saving checkpoints for 300 into ./tmp/baseline/RNN/SGRU/model.ckpt.\n"
     ]
    },
    {
     "name": "stdout",
     "output_type": "stream",
     "text": [
      "\n",
      "*** input_fn() : feature_shape= (28, 28) / label_shape= [1]\n",
      "\n",
      "*** input_fn : TEST / feature_shape= (28, 28)\n",
      "\n",
      "*** preprocess_image() : image shape= (28, 28)\n",
      "\n",
      "*** preprocess_image() : features= {'images': <tf.Tensor 'arg0:0' shape=(28, 28) dtype=float32>} / label shape= ()\n",
      "\n",
      "***_input_fn() : Label shape =[1]\n",
      "INFO:tensorflow:Calling model_fn.\n"
     ]
    },
    {
     "name": "stderr",
     "output_type": "stream",
     "text": [
      "I0523 08:41:37.978927 140697495811904 estimator.py:1111] Calling model_fn.\n"
     ]
    },
    {
     "name": "stdout",
     "output_type": "stream",
     "text": [
      "\n",
      "*** custom_model_fn() : input_layer shape= (?, 784) / Labels shape= (?,)\n",
      "\n",
      "*** _build_rnn_subnetwork() : output[-1]= Tensor(\"RNN/rnn/rnn/multi_rnn_cell/cell_1/gru_cell/add_27:0\", shape=(?, 128), dtype=float32) / Weight= <tf.Variable 'W:0' shape=(128, 10) dtype=float32_ref>\n",
      "\n",
      "*** custom_model_fn() : logits shape= (?, 10) / labels shape= (?,)\n",
      "INFO:tensorflow:Done calling model_fn.\n"
     ]
    },
    {
     "name": "stderr",
     "output_type": "stream",
     "text": [
      "I0523 08:41:38.654824 140697495811904 estimator.py:1113] Done calling model_fn.\n"
     ]
    },
    {
     "name": "stdout",
     "output_type": "stream",
     "text": [
      "INFO:tensorflow:Starting evaluation at 2019-05-23T06:41:38Z\n"
     ]
    },
    {
     "name": "stderr",
     "output_type": "stream",
     "text": [
      "I0523 08:41:38.675991 140697495811904 evaluation.py:257] Starting evaluation at 2019-05-23T06:41:38Z\n"
     ]
    },
    {
     "name": "stdout",
     "output_type": "stream",
     "text": [
      "INFO:tensorflow:Graph was finalized.\n"
     ]
    },
    {
     "name": "stderr",
     "output_type": "stream",
     "text": [
      "I0523 08:41:38.784334 140697495811904 monitored_session.py:222] Graph was finalized.\n"
     ]
    },
    {
     "name": "stdout",
     "output_type": "stream",
     "text": [
      "INFO:tensorflow:Restoring parameters from ./tmp/baseline/RNN/SGRU/model.ckpt-300\n"
     ]
    },
    {
     "name": "stderr",
     "output_type": "stream",
     "text": [
      "I0523 08:41:38.786296 140697495811904 saver.py:1270] Restoring parameters from ./tmp/baseline/RNN/SGRU/model.ckpt-300\n"
     ]
    },
    {
     "name": "stdout",
     "output_type": "stream",
     "text": [
      "INFO:tensorflow:Running local_init_op.\n"
     ]
    },
    {
     "name": "stderr",
     "output_type": "stream",
     "text": [
      "I0523 08:41:38.868422 140697495811904 session_manager.py:491] Running local_init_op.\n"
     ]
    },
    {
     "name": "stdout",
     "output_type": "stream",
     "text": [
      "INFO:tensorflow:Done running local_init_op.\n"
     ]
    },
    {
     "name": "stderr",
     "output_type": "stream",
     "text": [
      "I0523 08:41:38.888557 140697495811904 session_manager.py:493] Done running local_init_op.\n"
     ]
    },
    {
     "name": "stdout",
     "output_type": "stream",
     "text": [
      "\n",
      "*** generator() : labels shape= (10000,) / label values= 0\n",
      "INFO:tensorflow:Finished evaluation at 2019-05-23-06:41:40\n"
     ]
    },
    {
     "name": "stderr",
     "output_type": "stream",
     "text": [
      "I0523 08:41:40.658493 140697495811904 evaluation.py:277] Finished evaluation at 2019-05-23-06:41:40\n"
     ]
    },
    {
     "name": "stdout",
     "output_type": "stream",
     "text": [
      "INFO:tensorflow:Saving dict for global step 300: RNN_Eval_accuracy = 0.9355, global_step = 300, loss = 0.2149805\n"
     ]
    },
    {
     "name": "stderr",
     "output_type": "stream",
     "text": [
      "I0523 08:41:40.659481 140697495811904 estimator.py:1979] Saving dict for global step 300: RNN_Eval_accuracy = 0.9355, global_step = 300, loss = 0.2149805\n"
     ]
    },
    {
     "name": "stdout",
     "output_type": "stream",
     "text": [
      "INFO:tensorflow:Saving 'checkpoint_path' summary for global step 300: ./tmp/baseline/RNN/SGRU/model.ckpt-300\n"
     ]
    },
    {
     "name": "stderr",
     "output_type": "stream",
     "text": [
      "I0523 08:41:40.660974 140697495811904 estimator.py:2039] Saving 'checkpoint_path' summary for global step 300: ./tmp/baseline/RNN/SGRU/model.ckpt-300\n"
     ]
    },
    {
     "name": "stdout",
     "output_type": "stream",
     "text": [
      "INFO:tensorflow:Loss for final step: 0.29178038.\n"
     ]
    },
    {
     "name": "stderr",
     "output_type": "stream",
     "text": [
      "I0523 08:41:40.755586 140697495811904 estimator.py:359] Loss for final step: 0.29178038.\n"
     ]
    }
   ],
   "source": [
    "results, start_time, end_time  = oBaselineEstimator.train_and_evaluate()"
   ]
  },
  {
   "cell_type": "code",
   "execution_count": 31,
   "metadata": {
    "scrolled": true
   },
   "outputs": [
    {
     "name": "stdout",
     "output_type": "stream",
     "text": [
      "\n",
      "------------------------------------------------\n",
      "Time (sec) 166.86804461479187\n",
      "RNN_EVAL_ACCURACY: 0.9355000257492065\n",
      "LOSS: 0.21498049795627594\n",
      "GLOBAL_STEP: 300\n",
      "------------------------------------------------\n",
      "\n"
     ]
    }
   ],
   "source": [
    "print(\"\\n------------------------------------------------\")\n",
    "print(\"Time (sec)\", end_time-start_time)\n",
    "for key in results.keys() :\n",
    "    title =key.upper()\n",
    "    print(\"{}: {}\".format(title, results[key]))\n",
    "print(\"------------------------------------------------\\n\")\n"
   ]
  },
  {
   "cell_type": "code",
   "execution_count": 32,
   "metadata": {},
   "outputs": [],
   "source": [
    "output_dir_log = './tmp/baseline/RNN/RNN'"
   ]
  },
  {
   "cell_type": "code",
   "execution_count": 33,
   "metadata": {},
   "outputs": [
    {
     "data": {
      "text/plain": [
       "'./tmp/baseline/RNN/SGRU'"
      ]
     },
     "execution_count": 33,
     "metadata": {},
     "output_type": "execute_result"
    }
   ],
   "source": [
    "oNNAdaNetBuilder.output_dir_log, is_tensorboard\n",
    "output_dir_log = oNNAdaNetBuilder.output_dir_log\n",
    "output_dir_log"
   ]
  },
  {
   "cell_type": "code",
   "execution_count": 34,
   "metadata": {},
   "outputs": [],
   "source": [
    "if is_tensorboard is True :\n",
    "    get_ipython().system_raw(\n",
    "        'tensorboard --logdir {} --host localhost --port 6007 &'\n",
    "        .format(output_dir_log)\n",
    "    )\n",
    "\n",
    "\n",
    "    get_ipython().system_raw('./assets/ngrok http 6007 &')"
   ]
  },
  {
   "cell_type": "code",
   "execution_count": null,
   "metadata": {},
   "outputs": [],
   "source": [
    "is_tensorboard,output_dir_log"
   ]
  },
  {
   "cell_type": "code",
   "execution_count": null,
   "metadata": {},
   "outputs": [],
   "source": []
  }
 ],
 "metadata": {
  "kernelspec": {
   "display_name": "Python 3",
   "language": "python",
   "name": "python3"
  },
  "language_info": {
   "codemirror_mode": {
    "name": "ipython",
    "version": 3
   },
   "file_extension": ".py",
   "mimetype": "text/x-python",
   "name": "python",
   "nbconvert_exporter": "python",
   "pygments_lexer": "ipython3",
   "version": "3.6.8"
  }
 },
 "nbformat": 4,
 "nbformat_minor": 2
}
