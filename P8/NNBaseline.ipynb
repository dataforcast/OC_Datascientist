{
 "cells": [
  {
   "cell_type": "code",
   "execution_count": 1,
   "metadata": {},
   "outputs": [],
   "source": [
    "%load_ext autoreload\n",
    "%autoreload 2"
   ]
  },
  {
   "cell_type": "code",
   "execution_count": 2,
   "metadata": {},
   "outputs": [
    {
     "name": "stderr",
     "output_type": "stream",
     "text": [
      "Using TensorFlow backend.\n"
     ]
    }
   ],
   "source": [
    "import time\n",
    "import tensorflow as tf\n",
    "import p8_util"
   ]
  },
  {
   "cell_type": "code",
   "execution_count": 51,
   "metadata": {},
   "outputs": [
    {
     "name": "stdout",
     "output_type": "stream",
     "text": [
      "p5_util.object_load : fileName= ./data/arr_keras_X_y_train_test.dump\n",
      "(414, 672, 224) (47, 672, 224) (414, 3) (47, 3)\n",
      "\n",
      "Dataset : ((414, 672, 224), (47, 672, 224), (414, 3), (47, 3), 3, (672, 224))\n"
     ]
    }
   ],
   "source": [
    "import p8_util\n",
    "datadir = './data'\n",
    "\n",
    "filename_dataset=datadir+'/arr_keras_X_y_train_test.dump'\n",
    "x_train, x_test, y_train, y_test, nClasses, feature_shape = p8_util.load_dataset(filename_dataset,is_label_encoded=True)\n",
    "\n",
    "print(\"\\nDataset : {}\".format((x_train.shape, x_test.shape, y_train.shape, y_test.shape, nClasses, feature_shape)))"
   ]
  },
  {
   "cell_type": "raw",
   "metadata": {},
   "source": [
    "p5_util.object_load : fileName= ./data/arr_keras_X_y_train_test.dump\n",
    "(414, 224, 224, 3) (47, 224, 224, 3) (414, 3) (47, 3)\n",
    "(414, 224, 672) (47, 224, 672) (414, 3) (47, 3)\n",
    "(414, 672, 224) (47, 672, 224) (414, 3) (47, 3)\n",
    "\n",
    "Dataset : ((414, 672, 224), (47, 672, 224), (414, 3), (47, 3), 3, (672, 224))"
   ]
  },
  {
   "cell_type": "code",
   "execution_count": 49,
   "metadata": {},
   "outputs": [
    {
     "data": {
      "text/plain": [
       "(414, 672, 224)"
      ]
     },
     "execution_count": 49,
     "metadata": {},
     "output_type": "execute_result"
    }
   ],
   "source": [
    "x_train.shape\n",
    "x_batch = p8_util.batch_coloredimage_serial_reshape(x_train)\n",
    "x_batch.shape"
   ]
  },
  {
   "cell_type": "code",
   "execution_count": 28,
   "metadata": {},
   "outputs": [],
   "source": [
    "OUTPUT_DIR = './tmp/baseline'\n",
    "OUTPUT_DIR_TB = './tmp'\n",
    "is_tensorboard = True"
   ]
  },
  {
   "cell_type": "code",
   "execution_count": 29,
   "metadata": {},
   "outputs": [
    {
     "name": "stdout",
     "output_type": "stream",
     "text": [
      "kill: (26846): Aucun processus de ce type\n",
      "kill: (26852)"
     ]
    }
   ],
   "source": [
    "# this will kill the processes for Tensorboard\n",
    "#is_tensorboard = True\n",
    "if is_tensorboard is True :\n",
    "    !ps aux | grep tensorboard | awk '{print $2}' | xargs kill\n",
    "# this will kill the processes for ngrok\n",
    "if is_tensorboard is True :\n",
    "    !ps aux | grep ngrok | awk '{print $2}' | xargs kill    "
   ]
  },
  {
   "cell_type": "markdown",
   "metadata": {},
   "source": [
    "#### Increase of train dataset against test dataset."
   ]
  },
  {
   "cell_type": "raw",
   "metadata": {},
   "source": [
    "import numpy as np\n",
    "x_train = np.concatenate([x_train, x_test[:27,:,:,:]], axis=0)\n",
    "x_test = x_test[27:,:,:,:]\n",
    "print(x_train.shape, x_test.shape)\n",
    "\n",
    "y_train = np.concatenate([y_train, y_test[:27]])\n",
    "y_test = y_test[27:]\n",
    "print(y_train.shape, y_test.shape)"
   ]
  },
  {
   "cell_type": "code",
   "execution_count": 30,
   "metadata": {},
   "outputs": [
    {
     "name": "stdout",
     "output_type": "stream",
     "text": [
      "\n",
      " Number of convolutional layers= 1\n",
      "\n",
      "*** NNAdaNetBuilder : NN Type=DNN\n",
      "\n",
      "*** get_tf_head() : feature shape= (672, 224)\n",
      "\n",
      "*** get_tf_head() : feature columns= [_NumericColumn(key='images', shape=(672, 224), default_value=None, dtype=tf.float32, normalizer_fn=None)]\n",
      "\n",
      "*** make_config() : output dir= ./tmp/baseline/DNN/DNN\n",
      "\n",
      "\n",
      "Adanet outputdir     : ............................ ./tmp/baseline/DNN\n",
      "Adanet output log    : ............................ ./tmp/baseline/DNN/DNN\n",
      "NN type              : ............................ DNN\n",
      "Features shape       : ............................ (672, 224)\n",
      "Units in dense layer : ............................ 128\n",
      "Number of layers     : ............................ 1\n",
      "Dropout rate         : ............................ 0.0\n",
      "Seed value           : ............................ 42\n",
      "Nb of classes (logit): ............................ 3\n",
      "Adanet regularization: ............................ 0.005\n",
      "Weights initializer  : ............................ xavier\n",
      "Batch normalization  : ............................ True\n",
      "\n",
      "\n",
      "Number of layers     : ............................ 1\n",
      "Hidden units         : ............................ 128\n",
      "\n",
      "Max steps= 50 / Number of EPOCH=6\n"
     ]
    }
   ],
   "source": [
    "import p8_util_config\n",
    "import NNAdaNetBuilder\n",
    "\n",
    "#-----------------------------------------------------------------\n",
    "# Get the number of convolutional layers for CNN network\n",
    "# This will fixe the equivalent parameter of AdaNet num layers.\n",
    "#-----------------------------------------------------------------\n",
    "\n",
    "FEATURES_KEY = 'images'\n",
    "#my_feature_columns, loss_reduction, tf_head = p8_util.get_tf_head(FEATURES_KEY, feature_shape, nClasses, nn_type='DNN')\n",
    "if p8_util_config.dict_adanet_config['adanet_nn_layer_config']['nn_type'] == 'CNN' :\n",
    "    layer_num = p8_util_config.dict_adanet_config['adanet_nn_layer_config']['nn_layer_config']['conv_layer_num']\n",
    "elif p8_util_config.dict_adanet_config['adanet_nn_layer_config']['nn_type'] == 'RNN' :\n",
    "    layer_num = p8_util_config.dict_adanet_config['adanet_nn_layer_config']['nn_layer_config']['rnn_layer_num']\n",
    "elif p8_util_config.dict_adanet_config['adanet_nn_layer_config']['nn_type'] == 'DNN' :\n",
    "    layer_num = p8_util_config.dict_adanet_config['adanet_nn_layer_config']['nn_layer_config']['dnn_layer_num']\n",
    "\n",
    "print(\"\\n Number of convolutional layers= {}\".format(layer_num))\n",
    "oNNAdaNetBuilder = NNAdaNetBuilder.NNAdaNetBuilder(p8_util_config.dict_adanet_config, num_layers=layer_num)\n",
    "oNNAdaNetBuilder.feature_shape = feature_shape\n",
    "oNNAdaNetBuilder.output_dir = OUTPUT_DIR\n",
    "oNNAdaNetBuilder.show()\n",
    "\n",
    "print(\"\\nMax steps= {} / Number of EPOCH={}\".format(p8_util_config.MAX_STEPS,p8_util_config.NUM_EPOCHS))"
   ]
  },
  {
   "cell_type": "code",
   "execution_count": 31,
   "metadata": {},
   "outputs": [
    {
     "data": {
      "text/plain": [
       "{'adanet_feature_columns': None,\n",
       " 'adanet_feature_shape': None,\n",
       " 'adanet_tf_head': None,\n",
       " 'adanet_lambda': 0.005,\n",
       " 'adanet_is_learn_mixture_weights': True,\n",
       " 'adanet_initial_num_layers': 0,\n",
       " 'adanet_num_layers': None,\n",
       " 'adanet_nn_candidate': 2,\n",
       " 'adanet_output_dir': './tmp/adanet',\n",
       " 'adanet_nn_layer_config': {'nn_type': 'DNN',\n",
       "  'nn_dropout_rate': 0.0,\n",
       "  'nn_batch_norm': True,\n",
       "  'nn_dense_layer_num': 1,\n",
       "  'nn_dense_unit_size': 128,\n",
       "  'nn_logit_dimension': 3,\n",
       "  'nn_optimizer': <tensorflow.python.training.rmsprop.RMSPropOptimizer at 0x7f533fafc8d0>,\n",
       "  'nn_seed': 42,\n",
       "  'nn_initializer_name': 'xavier',\n",
       "  'nn_layer_config': {'dnn_layer_num': 1, 'dnn_hidden_units': 128}}}"
      ]
     },
     "execution_count": 31,
     "metadata": {},
     "output_type": "execute_result"
    }
   ],
   "source": [
    "p8_util_config.dict_adanet_config"
   ]
  },
  {
   "cell_type": "raw",
   "metadata": {},
   "source": [
    "# Parameters that will be provided to model_fn\n",
    "import p8_util_config\n",
    "dict_adanet_nn_layer_config = p8_util_config.dict_adanet_config['adanet_nn_layer_config']\n",
    "nn_type = dict_adanet_nn_layer_config['nn_type']\n",
    "params = {'net_builder':oNNAdaNetBuilder, 'nn_type':nn_type}\n",
    "\n",
    "dict_nn_layer_config = dict_adanet_nn_layer_config['nn_layer_config']\n",
    "\n",
    "if 'RNN' == nn_type :\n",
    "    rnn_cell_type = dict_nn_layer_config['rnn_cell_type']\n",
    "    params['rnn_cell_type'] = rnn_cell_type\n",
    "    model_name = rnn_cell_type\n",
    "    #params = {'net_builder':oNNAdaNetBuilder, 'nn_type':nn_type, 'rnn_cell_type':rnn_cell_type}\n",
    "elif 'CNN' == nn_type or 'CNNBase' == nn_type:\n",
    "    model_name = nn_type    \n",
    "elif 'DNN' == nn_type :\n",
    "    model_name = nn_type\n",
    "else :\n",
    "    pass\n",
    "print(\"\\n NN Type= {}\".format(nn_type))\n",
    "dict_nn_layer_config = dict_adanet_nn_layer_config['nn_layer_config']\n",
    "\n",
    "OUTPUT_DIR_LOG= OUTPUT_DIR+str('/')+str(nn_type)\n",
    "\n",
    "my_config = p8_util.make_config(model_name,output_dir=OUTPUT_DIR_LOG, is_restored=False)  \n",
    "classifier = tf.estimator.Estimator(model_fn=p8_util.my_model_fn, params=params, config=my_config)\n"
   ]
  },
  {
   "cell_type": "code",
   "execution_count": null,
   "metadata": {},
   "outputs": [],
   "source": []
  },
  {
   "cell_type": "code",
   "execution_count": 32,
   "metadata": {},
   "outputs": [],
   "source": [
    "import p8_util\n",
    "\n",
    "batch_test = 20\n",
    "input_fn_param={'num_epochs':p8_util_config.NUM_EPOCHS,\\\n",
    "                'batch_size':p8_util_config.BATCH_SIZE,\\\n",
    "                'feature_shape': oNNAdaNetBuilder.feature_shape,\\\n",
    "               }\n",
    "train_spec=tf.estimator.TrainSpec(\n",
    "        input_fn=p8_util.input_fn(\"train\", x_train, y_train,input_fn_param),\\\n",
    "        max_steps=p8_util_config.MAX_STEPS)\n",
    "\n",
    "eval_spec=tf.estimator.EvalSpec(\n",
    "        input_fn=p8_util.input_fn(\"train\", x_train, y_train,input_fn_param),\\\n",
    "        steps=None,\\\n",
    "        throttle_secs=1)"
   ]
  },
  {
   "cell_type": "code",
   "execution_count": 33,
   "metadata": {},
   "outputs": [
    {
     "name": "stdout",
     "output_type": "stream",
     "text": [
      "INFO:tensorflow:Using config: {'_model_dir': './tmp/baseline/DNN/DNN', '_tf_random_seed': 42, '_save_summary_steps': 10, '_save_checkpoints_steps': 10, '_save_checkpoints_secs': None, '_session_config': allow_soft_placement: true\n",
      "graph_options {\n",
      "  rewrite_options {\n",
      "    meta_optimizer_iterations: ONE\n",
      "  }\n",
      "}\n",
      ", '_keep_checkpoint_max': 5, '_keep_checkpoint_every_n_hours': 10000, '_log_step_count_steps': 100, '_train_distribute': None, '_device_fn': None, '_protocol': None, '_eval_distribute': None, '_experimental_distribute': None, '_service': None, '_cluster_spec': <tensorflow.python.training.server_lib.ClusterSpec object at 0x7f53201c76a0>, '_task_type': 'worker', '_task_id': 0, '_global_id_in_cluster': 0, '_master': '', '_evaluation_master': '', '_is_chief': True, '_num_ps_replicas': 0, '_num_worker_replicas': 1}\n"
     ]
    }
   ],
   "source": [
    "params = {'net_builder': oNNAdaNetBuilder}\n",
    "    \n",
    "classifier = tf.estimator.Estimator(model_fn=p8_util.my_model_fn, params=params, config=oNNAdaNetBuilder.classifier_config)"
   ]
  },
  {
   "cell_type": "code",
   "execution_count": 34,
   "metadata": {},
   "outputs": [
    {
     "name": "stdout",
     "output_type": "stream",
     "text": [
      "INFO:tensorflow:Not using Distribute Coordinator.\n",
      "INFO:tensorflow:Running training and evaluation locally (non-distributed).\n",
      "INFO:tensorflow:Start train and evaluate loop. The evaluate will happen after every checkpoint. Checkpoint frequency is determined based on RunConfig arguments: save_checkpoints_steps 10 or save_checkpoints_secs None.\n",
      "\n",
      "*** input_fn() : feature_shape= (672, 224) / Label shape= [3]\n",
      "\n",
      "*** preprocess_image() : features= {'images': <tf.Tensor 'Reshape:0' shape=(224, 224, 3) dtype=float32>} / label shape= (3,)\n",
      "INFO:tensorflow:Calling model_fn.\n",
      "\n",
      "*** my_model_fn() : input_layer shape= (?, 150528) / Labels shape= (?, 3)\n",
      "**** *** _build_dnn_subnetwork : Layers= 1\n",
      "\n",
      "\n",
      "*** my_model_fn() : logits shape= (?, 3) / labels shape= (?, 3)\n",
      "INFO:tensorflow:Done calling model_fn.\n",
      "INFO:tensorflow:Create CheckpointSaverHook.\n",
      "INFO:tensorflow:Graph was finalized.\n",
      "INFO:tensorflow:Running local_init_op.\n",
      "INFO:tensorflow:Done running local_init_op.\n",
      "INFO:tensorflow:Saving checkpoints for 0 into ./tmp/baseline/DNN/DNN/model.ckpt.\n",
      "INFO:tensorflow:loss = 1.0767565, step = 1\n",
      "INFO:tensorflow:Saving checkpoints for 10 into ./tmp/baseline/DNN/DNN/model.ckpt.\n",
      "\n",
      "*** input_fn() : feature_shape= (672, 224) / Label shape= [3]\n",
      "\n",
      "*** preprocess_image() : features= {'images': <tf.Tensor 'Reshape:0' shape=(224, 224, 3) dtype=float32>} / label shape= (3,)\n",
      "INFO:tensorflow:Calling model_fn.\n",
      "\n",
      "*** my_model_fn() : input_layer shape= (?, 150528) / Labels shape= (?, 3)\n",
      "**** *** _build_dnn_subnetwork : Layers= 1\n",
      "\n",
      "\n",
      "*** my_model_fn() : logits shape= (?, 3) / labels shape= (?, 3)\n",
      "INFO:tensorflow:Done calling model_fn.\n",
      "INFO:tensorflow:Starting evaluation at 2019-05-11-18:10:48\n",
      "INFO:tensorflow:Graph was finalized.\n",
      "INFO:tensorflow:Restoring parameters from ./tmp/baseline/DNN/DNN/model.ckpt-10\n",
      "INFO:tensorflow:Running local_init_op.\n",
      "INFO:tensorflow:Done running local_init_op.\n",
      "INFO:tensorflow:Finished evaluation at 2019-05-11-18:10:59\n",
      "INFO:tensorflow:Saving dict for global step 10: DNN_Eval_accuracy = 0.45169082, global_step = 10, loss = 1.0804256\n",
      "INFO:tensorflow:Saving 'checkpoint_path' summary for global step 10: ./tmp/baseline/DNN/DNN/model.ckpt-10\n",
      "INFO:tensorflow:Saving checkpoints for 20 into ./tmp/baseline/DNN/DNN/model.ckpt.\n",
      "\n",
      "*** input_fn() : feature_shape= (672, 224) / Label shape= [3]\n",
      "\n",
      "*** preprocess_image() : features= {'images': <tf.Tensor 'Reshape:0' shape=(224, 224, 3) dtype=float32>} / label shape= (3,)\n",
      "INFO:tensorflow:Calling model_fn.\n",
      "\n",
      "*** my_model_fn() : input_layer shape= (?, 150528) / Labels shape= (?, 3)\n",
      "**** *** _build_dnn_subnetwork : Layers= 1\n",
      "\n",
      "\n",
      "*** my_model_fn() : logits shape= (?, 3) / labels shape= (?, 3)\n",
      "INFO:tensorflow:Done calling model_fn.\n",
      "INFO:tensorflow:Starting evaluation at 2019-05-11-18:11:01\n",
      "INFO:tensorflow:Graph was finalized.\n",
      "INFO:tensorflow:Restoring parameters from ./tmp/baseline/DNN/DNN/model.ckpt-20\n",
      "INFO:tensorflow:Running local_init_op.\n",
      "INFO:tensorflow:Done running local_init_op.\n",
      "INFO:tensorflow:Finished evaluation at 2019-05-11-18:11:12\n",
      "INFO:tensorflow:Saving dict for global step 20: DNN_Eval_accuracy = 0.33816424, global_step = 20, loss = 1.3668481\n",
      "INFO:tensorflow:Saving 'checkpoint_path' summary for global step 20: ./tmp/baseline/DNN/DNN/model.ckpt-20\n",
      "INFO:tensorflow:Saving checkpoints for 30 into ./tmp/baseline/DNN/DNN/model.ckpt.\n",
      "\n",
      "*** input_fn() : feature_shape= (672, 224) / Label shape= [3]\n",
      "\n",
      "*** preprocess_image() : features= {'images': <tf.Tensor 'Reshape:0' shape=(224, 224, 3) dtype=float32>} / label shape= (3,)\n",
      "INFO:tensorflow:Calling model_fn.\n",
      "\n",
      "*** my_model_fn() : input_layer shape= (?, 150528) / Labels shape= (?, 3)\n",
      "**** *** _build_dnn_subnetwork : Layers= 1\n",
      "\n",
      "\n",
      "*** my_model_fn() : logits shape= (?, 3) / labels shape= (?, 3)\n",
      "INFO:tensorflow:Done calling model_fn.\n",
      "INFO:tensorflow:Starting evaluation at 2019-05-11-18:11:13\n",
      "INFO:tensorflow:Graph was finalized.\n",
      "INFO:tensorflow:Restoring parameters from ./tmp/baseline/DNN/DNN/model.ckpt-30\n",
      "INFO:tensorflow:Running local_init_op.\n",
      "INFO:tensorflow:Done running local_init_op.\n",
      "INFO:tensorflow:Finished evaluation at 2019-05-11-18:11:24\n",
      "INFO:tensorflow:Saving dict for global step 30: DNN_Eval_accuracy = 0.44444445, global_step = 30, loss = 1.0034198\n",
      "INFO:tensorflow:Saving 'checkpoint_path' summary for global step 30: ./tmp/baseline/DNN/DNN/model.ckpt-30\n",
      "INFO:tensorflow:Saving checkpoints for 40 into ./tmp/baseline/DNN/DNN/model.ckpt.\n",
      "\n",
      "*** input_fn() : feature_shape= (672, 224) / Label shape= [3]\n",
      "\n",
      "*** preprocess_image() : features= {'images': <tf.Tensor 'Reshape:0' shape=(224, 224, 3) dtype=float32>} / label shape= (3,)\n",
      "INFO:tensorflow:Calling model_fn.\n",
      "\n",
      "*** my_model_fn() : input_layer shape= (?, 150528) / Labels shape= (?, 3)\n",
      "**** *** _build_dnn_subnetwork : Layers= 1\n",
      "\n",
      "\n",
      "*** my_model_fn() : logits shape= (?, 3) / labels shape= (?, 3)\n",
      "INFO:tensorflow:Done calling model_fn.\n",
      "INFO:tensorflow:Starting evaluation at 2019-05-11-18:11:25\n",
      "INFO:tensorflow:Graph was finalized.\n",
      "INFO:tensorflow:Restoring parameters from ./tmp/baseline/DNN/DNN/model.ckpt-40\n",
      "INFO:tensorflow:Running local_init_op.\n",
      "INFO:tensorflow:Done running local_init_op.\n",
      "INFO:tensorflow:Finished evaluation at 2019-05-11-18:11:36\n",
      "INFO:tensorflow:Saving dict for global step 40: DNN_Eval_accuracy = 0.41304347, global_step = 40, loss = 1.0840226\n",
      "INFO:tensorflow:Saving 'checkpoint_path' summary for global step 40: ./tmp/baseline/DNN/DNN/model.ckpt-40\n",
      "INFO:tensorflow:Saving checkpoints for 50 into ./tmp/baseline/DNN/DNN/model.ckpt.\n",
      "\n",
      "*** input_fn() : feature_shape= (672, 224) / Label shape= [3]\n",
      "\n",
      "*** preprocess_image() : features= {'images': <tf.Tensor 'Reshape:0' shape=(224, 224, 3) dtype=float32>} / label shape= (3,)\n",
      "INFO:tensorflow:Calling model_fn.\n",
      "\n",
      "*** my_model_fn() : input_layer shape= (?, 150528) / Labels shape= (?, 3)\n",
      "**** *** _build_dnn_subnetwork : Layers= 1\n",
      "\n",
      "\n",
      "*** my_model_fn() : logits shape= (?, 3) / labels shape= (?, 3)\n",
      "INFO:tensorflow:Done calling model_fn.\n",
      "INFO:tensorflow:Starting evaluation at 2019-05-11-18:11:37\n",
      "INFO:tensorflow:Graph was finalized.\n",
      "INFO:tensorflow:Restoring parameters from ./tmp/baseline/DNN/DNN/model.ckpt-50\n",
      "INFO:tensorflow:Running local_init_op.\n",
      "INFO:tensorflow:Done running local_init_op.\n",
      "INFO:tensorflow:Finished evaluation at 2019-05-11-18:11:47\n",
      "INFO:tensorflow:Saving dict for global step 50: DNN_Eval_accuracy = 0.3599034, global_step = 50, loss = 1.0828537\n",
      "INFO:tensorflow:Saving 'checkpoint_path' summary for global step 50: ./tmp/baseline/DNN/DNN/model.ckpt-50\n",
      "INFO:tensorflow:Loss for final step: 1.0961576.\n"
     ]
    }
   ],
   "source": [
    "import p8_util\n",
    "\n",
    "start_time = time.time()\n",
    "results, _ = tf.estimator.train_and_evaluate(classifier, train_spec=train_spec, eval_spec=eval_spec)\n",
    "end_time = time.time()"
   ]
  },
  {
   "cell_type": "code",
   "execution_count": 35,
   "metadata": {
    "scrolled": true
   },
   "outputs": [
    {
     "name": "stdout",
     "output_type": "stream",
     "text": [
      "\n",
      "------------------------------------------------\n",
      "Time (sec) 64.64970374107361\n",
      "DNN_EVAL_ACCURACY: 0.35990339517593384\n",
      "LOSS: 1.0828536748886108\n",
      "GLOBAL_STEP: 50\n",
      "------------------------------------------------\n",
      "\n"
     ]
    }
   ],
   "source": [
    "print(\"\\n------------------------------------------------\")\n",
    "print(\"Time (sec)\", end_time-start_time)\n",
    "for key in results.keys() :\n",
    "    title =key.upper()\n",
    "    print(\"{}: {}\".format(title, results[key]))\n",
    "print(\"------------------------------------------------\\n\")\n"
   ]
  },
  {
   "cell_type": "code",
   "execution_count": 36,
   "metadata": {},
   "outputs": [
    {
     "data": {
      "text/plain": [
       "'./tmp/baseline/DNN/DNN'"
      ]
     },
     "execution_count": 36,
     "metadata": {},
     "output_type": "execute_result"
    }
   ],
   "source": [
    "oNNAdaNetBuilder.output_dir_log"
   ]
  },
  {
   "cell_type": "code",
   "execution_count": 37,
   "metadata": {},
   "outputs": [],
   "source": [
    "if is_tensorboard is True :\n",
    "    get_ipython().system_raw(\n",
    "        'tensorboard --logdir {} --host localhost --port 6007 &'\n",
    "        .format(oNNAdaNetBuilder.output_dir_log)\n",
    "    )\n",
    "\n",
    "\n",
    "    get_ipython().system_raw('./assets/ngrok http 6007 &')"
   ]
  },
  {
   "cell_type": "raw",
   "metadata": {},
   "source": [
    "------------------------------------------------\n",
    "Time (sec) 565.1023576259613\n",
    "RNN_EVAL_ACCURACY: 0.6499999761581421\n",
    "LOSS: 0.8784809112548828\n",
    "GLOBAL_STEP: 200\n",
    "------------------------------------------------\n",
    "NN type              : ............................ RNN\n",
    "Units in dense layer : ............................ 10\n",
    "Number of layers     : ............................ 2\n",
    "Dropout rate         : ............................ 0.0\n",
    "Seed value           : ............................ 42\n",
    "Nb of classes (logit): ............................ 3\n",
    "Weights initializer  : ............................ truncated_normal\n",
    "Batch normalization  : ............................ True\n",
    "\n",
    "\n",
    "Cell type            : ............................ SLSTM\n",
    "Hidden units         : ............................ 128\n",
    "Stacked cells        : ............................ 2\n",
    "Time steps           : ............................ 224"
   ]
  },
  {
   "cell_type": "raw",
   "metadata": {},
   "source": [
    "------------------------------------------------\n",
    "Time (sec) 86.21402406692505\n",
    "RNN_EVAL_ACCURACY: 0.699999988079071\n",
    "LOSS: 0.903887152671814\n",
    "GLOBAL_STEP: 200\n",
    "------------------------------------------------\n",
    "\n",
    "NN type              : ............................ RNN\n",
    "Units in dense layer : ............................ 10\n",
    "Number of layers     : ............................ 1\n",
    "Dropout rate         : ............................ 0.0\n",
    "Seed value           : ............................ 42\n",
    "Nb of classes (logit): ............................ 3\n",
    "Weights initializer  : ............................ truncated_normal\n",
    "Batch normalization  : ............................ True\n",
    "\n",
    "\n",
    "Cell type            : ............................ RNN\n",
    "Hidden units         : ............................ 128\n",
    "Stacked cells        : ............................ 1\n",
    "Time steps           : ............................ 224\n"
   ]
  },
  {
   "cell_type": "raw",
   "metadata": {},
   "source": [
    "------------------------------------------------\n",
    "Time (sec) 673.2258858680725\n",
    "RNN_EVAL_ACCURACY: 0.800000011920929\n",
    "LOSS: 0.7224235534667969\n",
    "GLOBAL_STEP: 200\n",
    "------------------------------------------------\n",
    "\n",
    "NN type              : ............................ RNN\n",
    "Units in dense layer : ............................ 10\n",
    "Number of layers     : ............................ 2\n",
    "Dropout rate         : ............................ 0.0\n",
    "Seed value           : ............................ 42\n",
    "Nb of classes (logit): ............................ 3\n",
    "Weights initializer  : ............................ truncated_normal\n",
    "Batch normalization  : ............................ True\n",
    "\n",
    "\n",
    "Cell type            : ............................ SGRU\n",
    "Hidden units         : ............................ 128\n",
    "Stacked cells        : ............................ 2\n",
    "Time steps           : ............................ 224\n",
    "\n",
    "Max steps= 200 / Number of EPOCH=6"
   ]
  },
  {
   "cell_type": "raw",
   "metadata": {},
   "source": [
    "------------------------------------------------\n",
    "Time (sec) 91.79598736763\n",
    "RNN_EVAL_ACCURACY: 0.5\n",
    "LOSS: 1.392293930053711\n",
    "GLOBAL_STEP: 600\n",
    "------------------------------------------------\n",
    "\n",
    "NN type              : ............................ RNN\n",
    "Units in dense layer : ............................ 10\n",
    "Number of layers     : ............................ 1\n",
    "Dropout rate         : ............................ 0.0\n",
    "Seed value           : ............................ 42\n",
    "Nb of classes (logit): ............................ 3\n",
    "Weights initializer  : ............................ truncated_normal\n",
    "Batch normalization  : ............................ True"
   ]
  },
  {
   "cell_type": "raw",
   "metadata": {},
   "source": [
    "NN type              : ............................ CNNBase\n",
    "Units in dense layer : ............................ 10\n",
    "Number of layers     : ............................ 2\n",
    "Dropout rate         : ............................ 0.0\n",
    "Seed value           : ............................ 42\n",
    "Nb of classes (logit): ............................ 3\n",
    "Weights initializer  : ............................ xavier\n",
    "Batch normalization  : ............................ True\n",
    "\n",
    "\n",
    "CNN seed             : ............................ 42\n",
    "Conv. Kernel size    : ............................ (5, 5)\n",
    "Conv. layers         : ............................ 2\n",
    "Dense layers         : ............................ 1\n",
    "Units in conv. layers: ............................ 10\n",
    "CNN bacth norm.      : ............................ True\n",
    "Features map size    : ............................ [64]\n",
    "Conv filters         : ............................ 32\n",
    "Strides              : ............................ 1\n",
    "Padding              : ............................ same\n",
    "Activation function  : ............................ relu\n",
    "    \n",
    "    \n",
    "------------------------------------------------\n",
    "Time (sec) 380.2743675708771\n",
    "CNNBASE_EVAL_ACCURACY: 0.3404255211353302\n",
    "LOSS: 7.011310577392578\n",
    "GLOBAL_STEP: 300    "
   ]
  },
  {
   "cell_type": "raw",
   "metadata": {},
   "source": [
    "NN type              : ............................ CNNBase\n",
    "Units in dense layer : ............................ 20\n",
    "Number of layers     : ............................ 3\n",
    "Dropout rate         : ............................ 0.0\n",
    "Seed value           : ............................ 42\n",
    "Nb of classes (logit): ............................ 3\n",
    "Weights initializer  : ............................ xavier\n",
    "Batch normalization  : ............................ False\n",
    "\n",
    "\n",
    "CNN seed             : ............................ 42\n",
    "Conv. Kernel size    : ............................ (5, 5)\n",
    "Conv. layers         : ............................ 3\n",
    "Dense layers         : ............................ 2\n",
    "Units in conv. layers: ............................ 20\n",
    "CNN bacth norm.      : ............................ False\n",
    "Features map size    : ............................ [128]\n",
    "Conv layers          : ............................ 3\n",
    "Conv filters         : ............................ 32\n",
    "Strides              : ............................ 1\n",
    "Padding              : ............................ same\n",
    "Activation function  : ............................ relu\n",
    "\n",
    "\n",
    "Time (sec) 262.5221884250641\n",
    "EVAL_ACCURACY: 0.3404255211353302\n",
    "LOSS: 1.0971035957336426\n",
    "GLOBAL_STEP: 50"
   ]
  },
  {
   "cell_type": "raw",
   "metadata": {},
   "source": [
    "NN type              : ............................ CNNBase\n",
    "Units in dense layer : ............................ 20\n",
    "Number of layers     : ............................ 3\n",
    "Dropout rate         : ............................ 0.0\n",
    "Seed value           : ............................ 42\n",
    "Nb of classes (logit): ............................ 3\n",
    "Weights initializer  : ............................ xavier\n",
    "Batch normalization  : ............................ True\n",
    "\n",
    "\n",
    "CNN seed             : ............................ 42\n",
    "Conv. Kernel size    : ............................ (5, 5)\n",
    "Conv. layers         : ............................ 3\n",
    "Dense layers         : ............................ 2\n",
    "Units in conv. layers: ............................ 20\n",
    "CNN bacth norm.      : ............................ True\n",
    "Features map size    : ............................ [128]\n",
    "Conv layers          : ............................ 3\n",
    "Conv filters         : ............................ 32\n",
    "Strides              : ............................ 1\n",
    "Padding              : ............................ same\n",
    "Activation function  : ............................ relu\n",
    "\n",
    "------------------------------------------------\n",
    "Time (sec) 365.59686279296875\n",
    "EVAL_ACCURACY: 0.3404255211353302\n",
    "LOSS: 1.0968201160430908\n",
    "GLOBAL_STEP: 50"
   ]
  },
  {
   "cell_type": "raw",
   "metadata": {},
   "source": [
    "NN type              : ............................ CNNBase\n",
    "Units in dense layer : ............................ 20\n",
    "Number of layers     : ............................ 3\n",
    "Dropout rate         : ............................ 0.5\n",
    "Seed value           : ............................ 42\n",
    "Nb of classes (logit): ............................ 3\n",
    "Weights initializer  : ............................ xavier\n",
    "Batch normalization  : ............................ True\n",
    "\n",
    "\n",
    "CNN seed             : ............................ 42\n",
    "Conv. Kernel size    : ............................ (5, 5)\n",
    "Conv. layers         : ............................ 3\n",
    "Dense layers         : ............................ 2\n",
    "Units in conv. layers: ............................ 20\n",
    "CNN bacth norm.      : ............................ True\n",
    "Features map size    : ............................ [128]\n",
    "Conv layers          : ............................ 3\n",
    "Conv filters         : ............................ 32\n",
    "Strides              : ............................ 1\n",
    "Padding              : ............................ same\n",
    "Activation function  : ............................ relu\n",
    "------------------------------------------------\n",
    "Time (sec) 325.2791471481323\n",
    "EVAL_ACCURACY: 0.3191489279270172\n",
    "LOSS: 1.1020725965499878\n",
    "GLOBAL_STEP: 50"
   ]
  },
  {
   "cell_type": "raw",
   "metadata": {},
   "source": [
    "NN type              : ............................ CNNBase\n",
    "Units in dense layer : ............................ 20\n",
    "Number of layers     : ............................ 0\n",
    "Dropout rate         : ............................ 0.0\n",
    "Seed value           : ............................ 42\n",
    "Nb of classes (logit): ............................ 3\n",
    "Weights initializer  : ............................ xavier\n",
    "Batch normalization  : ............................ True\n",
    "\n",
    "\n",
    "CNN seed             : ............................ 42\n",
    "Conv. Kernel size    : ............................ (5, 5)\n",
    "Conv. layers         : ............................ 0\n",
    "Dense layers         : ............................ 1\n",
    "Units in conv. layers: ............................ 20\n",
    "CNN bacth norm.      : ............................ True\n",
    "Features map size    : ............................ [128]\n",
    "Conv layers          : ............................ 0\n",
    "Conv filters         : ............................ 32\n",
    "Strides              : ............................ 1\n",
    "Padding              : ............................ same\n",
    "Activation function  : ............................ relu\n",
    "\n",
    "------------------------------------------------\n",
    "Time (sec) 77.39862394332886\n",
    "EVAL_ACCURACY: 0.5106382966041565\n",
    "LOSS: 2.0911760330200195\n",
    "GLOBAL_STEP: 200\n"
   ]
  },
  {
   "cell_type": "raw",
   "metadata": {},
   "source": [
    "\n",
    "NN type              : ............................ CNNBase\n",
    "Units in dense layer : ............................ 10\n",
    "Number of layers     : ............................ 0\n",
    "Dropout rate         : ............................ 0.0\n",
    "Seed value           : ............................ 42\n",
    "Nb of classes (logit): ............................ 3\n",
    "Weights initializer  : ............................ xavier\n",
    "Batch normalization  : ............................ True\n",
    "\n",
    "\n",
    "CNN seed             : ............................ 42\n",
    "Conv. Kernel size    : ............................ (5, 5)\n",
    "Conv. layers         : ............................ 0\n",
    "Dense layers         : ............................ 1\n",
    "Units in conv. layers: ............................ 10\n",
    "CNN bacth norm.      : ............................ True\n",
    "Features map size    : ............................ [64]\n",
    "Conv layers          : ............................ 0\n",
    "Conv filters         : ............................ 32\n",
    "Strides              : ............................ 1\n",
    "Padding              : ............................ same\n",
    "Activation function  : ............................ relu\n",
    "\n",
    "------------------------------------------------\n",
    "Time (sec) 82.09228587150574\n",
    "EVAL_ACCURACY: 0.44680851697921753\n",
    "LOSS: 2.0489394664764404\n",
    "GLOBAL_STEP: 200"
   ]
  },
  {
   "cell_type": "raw",
   "metadata": {},
   "source": [
    "NN type              : ............................ CNNBase\n",
    "Units in dense layer : ............................ 10\n",
    "Number of layers     : ............................ 0\n",
    "Dropout rate         : ............................ 0.2\n",
    "Seed value           : ............................ 42\n",
    "Nb of classes (logit): ............................ 3\n",
    "Weights initializer  : ............................ xavier\n",
    "Batch normalization  : ............................ True\n",
    "\n",
    "\n",
    "CNN seed             : ............................ 42\n",
    "Conv. Kernel size    : ............................ (5, 5)\n",
    "Conv. layers         : ............................ 0\n",
    "Dense layers         : ............................ 1\n",
    "Units in conv. layers: ............................ 10\n",
    "CNN bacth norm.      : ............................ True\n",
    "Features map size    : ............................ [64]\n",
    "Conv layers          : ............................ 0\n",
    "Conv filters         : ............................ 32\n",
    "Strides              : ............................ 1\n",
    "Padding              : ............................ same\n",
    "Activation function  : ............................ relu\n",
    "------------------------------------------------\n",
    "Time (sec) 366.10398745536804\n",
    "EVAL_ACCURACY: 0.42553192377090454\n",
    "LOSS: 1.6286356449127197\n",
    "GLOBAL_STEP: 1000"
   ]
  },
  {
   "cell_type": "raw",
   "metadata": {},
   "source": [
    "NN type              : ............................ CNNBase\n",
    "Units in dense layer : ............................ 10\n",
    "Number of layers     : ............................ 3\n",
    "Dropout rate         : ............................ 0.0\n",
    "Seed value           : ............................ 42\n",
    "Nb of classes (logit): ............................ 3\n",
    "Weights initializer  : ............................ xavier\n",
    "Batch normalization  : ............................ True\n",
    "\n",
    "\n",
    "CNN seed             : ............................ 42\n",
    "Conv. Kernel size    : ............................ (5, 5)\n",
    "Conv. layers         : ............................ 3\n",
    "Dense layers         : ............................ 1\n",
    "Units in conv. layers: ............................ 10\n",
    "CNN bacth norm.      : ............................ True\n",
    "Features map size    : ............................ [64]\n",
    "Conv filters         : ............................ 32\n",
    "Strides              : ............................ 1\n",
    "Padding              : ............................ same\n",
    "Activation function  : ............................ relu\n",
    "------------------------------------------------\n",
    "Time (sec) 413.86882281303406\n",
    "CNNBASE: EVAL ACCURACY: 0.4893617033958435\n",
    "LOSS: 1.0934101343154907\n",
    "GLOBAL_STEP: 60\n"
   ]
  },
  {
   "cell_type": "raw",
   "metadata": {},
   "source": [
    "NN type              : ............................ CNNBase\n",
    "Units in dense layer : ............................ 10\n",
    "Number of layers     : ............................ 3\n",
    "Dropout rate         : ............................ 0.0\n",
    "Seed value           : ............................ 42\n",
    "Nb of classes (logit): ............................ 3\n",
    "Weights initializer  : ............................ xavier\n",
    "Batch normalization  : ............................ True\n",
    "\n",
    "\n",
    "CNN seed             : ............................ 42\n",
    "Conv. Kernel size    : ............................ (5, 5)\n",
    "Conv. layers         : ............................ 3\n",
    "Dense layers         : ............................ 1\n",
    "Units in conv. layers: ............................ 10\n",
    "CNN bacth norm.      : ............................ True\n",
    "Features map size    : ............................ [64]\n",
    "Conv filters         : ............................ 32\n",
    "Strides              : ............................ 1\n",
    "Padding              : ............................ same\n",
    "Activation function  : ............................ relu\n",
    "------------------------------------------------\n",
    "Time (sec) 45.87497568130493\n",
    "CNNBASE_EVAL_ACCURACY: 0.3617021143436432\n",
    "LOSS: 1.0970960855484009\n",
    "GLOBAL_STEP: 9"
   ]
  }
 ],
 "metadata": {
  "kernelspec": {
   "display_name": "Python 3",
   "language": "python",
   "name": "python3"
  },
  "language_info": {
   "codemirror_mode": {
    "name": "ipython",
    "version": 3
   },
   "file_extension": ".py",
   "mimetype": "text/x-python",
   "name": "python",
   "nbconvert_exporter": "python",
   "pygments_lexer": "ipython3",
   "version": "3.6.8"
  }
 },
 "nbformat": 4,
 "nbformat_minor": 2
}
