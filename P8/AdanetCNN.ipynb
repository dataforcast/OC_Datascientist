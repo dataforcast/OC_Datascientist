{
 "cells": [
  {
   "cell_type": "code",
   "execution_count": 1,
   "metadata": {
    "colab": {},
    "colab_type": "code",
    "id": "jOUQoPfSYUGp"
   },
   "outputs": [],
   "source": [
    "%load_ext autoreload\n",
    "%autoreload 2\n",
    "import adanet"
   ]
  },
  {
   "cell_type": "raw",
   "metadata": {},
   "source": [
    "from keras.models import Sequential\n",
    "from keras.layers import Conv2D, MaxPooling2D\n",
    "from keras.layers import Flatten, Dense, Dropout\n",
    "\n",
    "class CNNBuilder(adanet.subnetwork.Builder):\n",
    "    def __init__(self, n_convs):\n",
    "        self._n_convs = n_convs\n",
    "        \n",
    "    def build_subnetwork(self,\n",
    "                         features,\n",
    "                         logits_dimension,\n",
    "                         training,\n",
    "                         iteration_step,\n",
    "                         summary,\n",
    "                         previous_ensemble=None):\n",
    "        \n",
    "        images = list(features.values())[0]\n",
    "        x = images\n",
    "    \n",
    "        for i in range(self._n_convs):\n",
    "            x = Conv2D(32, kernel_size=7, activation='relu')(x)\n",
    "            x = MaxPooling2D(strides=2)(x)\n",
    "        \n",
    "        x = Flatten()(x)\n",
    "        x = Dense(100, activation='relu')(x)\n",
    "        \n",
    "        logits = Dense(10)(x)\n",
    "\n",
    "        complexity = tf.constant(1)\n",
    "\n",
    "        persisted_tensors = {'n_convs': tf.constant(self._n_convs)}\n",
    "        \n",
    "        return adanet.Subnetwork(\n",
    "            last_layer=x,\n",
    "            logits=logits,\n",
    "            complexity=complexity,\n",
    "            persisted_tensors=persisted_tensors)\n",
    "    \n",
    "    def build_subnetwork_train_op(self,\n",
    "                                  subnetwork,\n",
    "                                  loss,\n",
    "                                  var_list,\n",
    "                                  labels,\n",
    "                                  iteration_step,\n",
    "                                  summary,\n",
    "                                  previous_ensemble=None):\n",
    "\n",
    "        optimizer = tf.train.RMSPropOptimizer(learning_rate=0.001,\n",
    "                                              decay=0.0)\n",
    "        return optimizer.minimize(loss=loss, var_list=var_list)\n",
    "\n",
    "    def build_mixture_weights_train_op(self,\n",
    "                                       loss,\n",
    "                                       var_list,\n",
    "                                       logits,\n",
    "                                       labels,\n",
    "                                       iteration_step, summary):\n",
    "        return tf.no_op(\"mixture_weights_train_op\")\n",
    "\n",
    "    @property\n",
    "    def name(self):\n",
    "        return f'cnn_{self._n_convs}'\n",
    "    \n",
    "    \n",
    "class CNNGenerator(adanet.subnetwork.Generator):\n",
    "    def __init__(self):\n",
    "            self._cnn_builder_fn = CNNBuilder\n",
    "\n",
    "    def generate_candidates(self,\n",
    "                                previous_ensemble,\n",
    "                                iteration_number,\n",
    "                                previous_ensemble_reports,\n",
    "                                all_reports):\n",
    "\n",
    "        n_convs = 0\n",
    "        if previous_ensemble:\n",
    "            n_convs = tf.contrib.util.constant_value(\n",
    "                previous_ensemble.weighted_subnetworks[-1]\n",
    "                .subnetwork\n",
    "                .persisted_tensors['n_convs'])\n",
    "        return [\n",
    "                    self._cnn_builder_fn(n_convs=n_convs),\n",
    "                    self._cnn_builder_fn(n_convs=n_convs + 1)\n",
    "                ]    "
   ]
  },
  {
   "cell_type": "code",
   "execution_count": 2,
   "metadata": {
    "colab": {
     "base_uri": "https://localhost:8080/",
     "height": 187
    },
    "colab_type": "code",
    "executionInfo": {
     "elapsed": 9045,
     "status": "ok",
     "timestamp": 1554728368274,
     "user": {
      "displayName": "FBT Telecom",
      "photoUrl": "",
      "userId": "01928442219250440173"
     },
     "user_tz": -120
    },
    "id": "7EI_pADAU18C",
    "outputId": "edba7d19-9657-40e3-f820-98f9f2fe987a"
   },
   "outputs": [],
   "source": [
    "#!pip install adanet\n"
   ]
  },
  {
   "cell_type": "code",
   "execution_count": 3,
   "metadata": {
    "colab": {
     "base_uri": "https://localhost:8080/",
     "height": 34
    },
    "colab_type": "code",
    "executionInfo": {
     "elapsed": 9032,
     "status": "ok",
     "timestamp": 1554728368275,
     "user": {
      "displayName": "FBT Telecom",
      "photoUrl": "",
      "userId": "01928442219250440173"
     },
     "user_tz": -120
    },
    "id": "H0nY8dpvMJLo",
    "outputId": "3d91be51-c088-4a1d-c16d-1f45e009be7c"
   },
   "outputs": [],
   "source": [
    "#from google.colab import drive\n",
    "#drive.mount('/content/gdrive')"
   ]
  },
  {
   "cell_type": "raw",
   "metadata": {
    "colab": {
     "base_uri": "https://localhost:8080/",
     "height": 91,
     "resources": {
      "http://localhost:8080/nbextensions/google.colab/files.js": {
       "data": "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",
       "headers": [
        [
         "content-type",
         "application/javascript"
        ]
       ],
       "ok": true,
       "status": 200,
       "status_text": ""
      }
     }
    },
    "colab_type": "code",
    "executionInfo": {
     "elapsed": 25921,
     "status": "ok",
     "timestamp": 1554728385174,
     "user": {
      "displayName": "FBT Telecom",
      "photoUrl": "",
      "userId": "01928442219250440173"
     },
     "user_tz": -120
    },
    "id": "PdDjX7uEOSRH",
    "outputId": "55408fae-72ed-44d9-c1f8-2661703f9be2"
   },
   "source": [
    "!rm -f /content/p5_util*.py\n",
    "\n",
    "from google.colab import files\n",
    "src = list(files.upload().values())[0]\n",
    "open('p5_util.py','wb').write(src)\n",
    "import p5_util\n",
    "!ls /content"
   ]
  },
  {
   "cell_type": "raw",
   "metadata": {
    "colab": {
     "base_uri": "https://localhost:8080/",
     "height": 91,
     "resources": {
      "http://localhost:8080/nbextensions/google.colab/files.js": {
       "data": "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",
       "headers": [
        [
         "content-type",
         "application/javascript"
        ]
       ],
       "ok": true,
       "status": 200,
       "status_text": ""
      }
     }
    },
    "colab_type": "code",
    "executionInfo": {
     "elapsed": 38684,
     "status": "ok",
     "timestamp": 1554728397945,
     "user": {
      "displayName": "FBT Telecom",
      "photoUrl": "",
      "userId": "01928442219250440173"
     },
     "user_tz": -120
    },
    "id": "9AIsX6I1UmCN",
    "outputId": "bd4c8b15-3cde-4b23-ba1d-cc80594da780"
   },
   "source": [
    "!rm -f /content/p8_util*.py\n",
    "from google.colab import files\n",
    "src = list(files.upload().values())[0]\n",
    "open('p8_util.py','wb').write(src)\n",
    "import p8_util\n",
    "!ls /content\n"
   ]
  },
  {
   "cell_type": "raw",
   "metadata": {
    "colab": {
     "base_uri": "https://localhost:8080/",
     "height": 34
    },
    "colab_type": "code",
    "executionInfo": {
     "elapsed": 41049,
     "status": "ok",
     "timestamp": 1554728400325,
     "user": {
      "displayName": "FBT Telecom",
      "photoUrl": "",
      "userId": "01928442219250440173"
     },
     "user_tz": -120
    },
    "id": "8fJBD1kWMf_k",
    "outputId": "d6bf7a58-fcb1-44de-b0ed-7ca71f10717a"
   },
   "source": [
    "!ls \"/content/gdrive/My Drive/Datacolab/data\""
   ]
  },
  {
   "cell_type": "code",
   "execution_count": 4,
   "metadata": {
    "colab": {
     "base_uri": "https://localhost:8080/",
     "height": 34
    },
    "colab_type": "code",
    "executionInfo": {
     "elapsed": 44272,
     "status": "ok",
     "timestamp": 1554728403555,
     "user": {
      "displayName": "FBT Telecom",
      "photoUrl": "",
      "userId": "01928442219250440173"
     },
     "user_tz": -120
    },
    "id": "r1pokfSRM3l_",
    "outputId": "c59db8b7-c170-45af-9b5d-0c47f0f6a0d7"
   },
   "outputs": [
    {
     "name": "stdout",
     "output_type": "stream",
     "text": [
      "/home/bangui/Dropbox/Perso/Formation/openclassrooms/OC_Datascientist/P8\r\n"
     ]
    }
   ],
   "source": [
    "!pwd"
   ]
  },
  {
   "cell_type": "code",
   "execution_count": 5,
   "metadata": {
    "colab": {},
    "colab_type": "code",
    "id": "BUkDiPBiM7dy"
   },
   "outputs": [],
   "source": [
    "datadir = './data'"
   ]
  },
  {
   "cell_type": "code",
   "execution_count": 6,
   "metadata": {
    "colab": {
     "base_uri": "https://localhost:8080/",
     "height": 34
    },
    "colab_type": "code",
    "executionInfo": {
     "elapsed": 44276,
     "status": "ok",
     "timestamp": 1554728403570,
     "user": {
      "displayName": "FBT Telecom",
      "photoUrl": "",
      "userId": "01928442219250440173"
     },
     "user_tz": -120
    },
    "id": "sfaIMirYNCzB",
    "outputId": "8eaa26a5-3b44-4dd2-fbde-7d54eb77b5a6"
   },
   "outputs": [
    {
     "data": {
      "text/plain": [
       "'./data'"
      ]
     },
     "execution_count": 6,
     "metadata": {},
     "output_type": "execute_result"
    }
   ],
   "source": [
    "datadir"
   ]
  },
  {
   "cell_type": "code",
   "execution_count": 7,
   "metadata": {
    "colab": {
     "base_uri": "https://localhost:8080/",
     "height": 68
    },
    "colab_type": "code",
    "executionInfo": {
     "elapsed": 46048,
     "status": "ok",
     "timestamp": 1554728405349,
     "user": {
      "displayName": "FBT Telecom",
      "photoUrl": "",
      "userId": "01928442219250440173"
     },
     "user_tz": -120
    },
    "id": "j8aeg60UNEOv",
    "outputId": "f9d411eb-f6cf-44c7-a938-112603889e71"
   },
   "outputs": [
    {
     "name": "stderr",
     "output_type": "stream",
     "text": [
      "Using TensorFlow backend.\n"
     ]
    },
    {
     "name": "stdout",
     "output_type": "stream",
     "text": [
      "p5_util.object_load : fileName= ./data/arr_keras_X_y_train_test.dump\n",
      "(414, 224, 224, 3) (47, 224, 224, 3) (414,) (47,)\n"
     ]
    }
   ],
   "source": [
    "import p5_util\n",
    "import p8_util\n",
    "\n",
    "filename=datadir+'/arr_keras_X_y_train_test.dump'\n",
    "(x_train,x_test, y_train, y_test) = p5_util.object_load(filename)\n",
    "if True :\n",
    "    y_train=p8_util.array_label_encode_from_index(y_train)\n",
    "    y_test=p8_util.array_label_encode_from_index(y_test)\n",
    "\n",
    "print(x_train.shape,x_test.shape,y_train.shape,y_test.shape)\n",
    "\n",
    "w_size = x_train.shape[1]\n",
    "h_size = x_train.shape[2]        "
   ]
  },
  {
   "cell_type": "code",
   "execution_count": 8,
   "metadata": {
    "colab": {},
    "colab_type": "code",
    "id": "X8UAmIIj8rR7"
   },
   "outputs": [
    {
     "name": "stdout",
     "output_type": "stream",
     "text": [
      "Number of classes= 1\n"
     ]
    }
   ],
   "source": [
    "y_train = y_train.astype(int)\n",
    "y_test = y_test.astype(int)\n",
    "y_train.min(), y_train.max(), x_train.min(),  x_train.max()\n",
    "y_train[0],y_test[0]\n",
    "\n",
    "y_train[0], y_test[1]\n",
    "l = y_train[0].shape\n",
    "len(l)\n",
    "a=(11,)\n",
    "len(y_train.shape)\n",
    "if 1 ==  len(y_train.shape) :\n",
    "    nClasses=1\n",
    "else :\n",
    "    nClasses = y_train.shape[1]\n",
    "print(\"Number of classes= \"+str(nClasses))\n"
   ]
  },
  {
   "cell_type": "code",
   "execution_count": 9,
   "metadata": {},
   "outputs": [
    {
     "data": {
      "text/plain": [
       "(414,)"
      ]
     },
     "execution_count": 9,
     "metadata": {},
     "output_type": "execute_result"
    }
   ],
   "source": [
    "#help(adanet.subnetwork.Generator)\n",
    "y_train.shape"
   ]
  },
  {
   "cell_type": "raw",
   "metadata": {},
   "source": [
    "y_train = y_train.reshape([-1,1,1,1])\n",
    "gg = p8_util.generator(x_train, y_train)\n",
    "for i,j in gg():\n",
    "    print(i.shape, j.shape, j)\n",
    "    break\n",
    "j[0][0][0]"
   ]
  },
  {
   "cell_type": "code",
   "execution_count": 10,
   "metadata": {
    "colab": {
     "base_uri": "https://localhost:8080/",
     "height": 1295
    },
    "colab_type": "code",
    "executionInfo": {
     "elapsed": 2118,
     "status": "error",
     "timestamp": 1554720133634,
     "user": {
      "displayName": "FBT Telecom",
      "photoUrl": "",
      "userId": "01928442219250440173"
     },
     "user_tz": -120
    },
    "id": "_reIMFwIcDKL",
    "outputId": "5db434df-7c87-4eaf-ab11-e3a91c5425a7"
   },
   "outputs": [
    {
     "name": "stdout",
     "output_type": "stream",
     "text": [
      "*** INFO : MyGenerator : instantiation DONE!\n",
      "INFO:tensorflow:Using config: {'_model_dir': './tmp/models/CNN', '_tf_random_seed': 42, '_save_summary_steps': 100000, '_save_checkpoints_steps': 100000, '_save_checkpoints_secs': None, '_session_config': allow_soft_placement: true\n",
      "graph_options {\n",
      "  rewrite_options {\n",
      "    meta_optimizer_iterations: ONE\n",
      "  }\n",
      "}\n",
      ", '_keep_checkpoint_max': 5, '_keep_checkpoint_every_n_hours': 10000, '_log_step_count_steps': 100, '_train_distribute': None, '_device_fn': None, '_protocol': None, '_eval_distribute': None, '_experimental_distribute': None, '_service': None, '_cluster_spec': <tensorflow.python.training.server_lib.ClusterSpec object at 0x7fa31a58a0b8>, '_task_type': 'worker', '_task_id': 0, '_global_id_in_cluster': 0, '_master': '', '_evaluation_master': '', '_is_chief': True, '_num_ps_replicas': 0, '_num_worker_replicas': 1}\n"
     ]
    }
   ],
   "source": [
    "import tensorflow as tf\n",
    "import p8_util\n",
    "import shutil\n",
    "\n",
    "    \n",
    "LEARNING_RATE = 0.003  #@param {type:\"number\"}\n",
    "TRAIN_STEPS = 4  #@param {type:\"integer\"}\n",
    "BATCH_SIZE = 49  #@param {type:\"integer\"}\n",
    "\n",
    "ADANET_ITERATIONS = 2  #@param {type:\"integer\"}\n",
    "NN_TYPE = 'CNN'\n",
    "\n",
    "tuple_dimension = (w_size, h_size,3)\n",
    "nClasses=3\n",
    "\n",
    "my_feature_columns, loss_reduction, tf_head \\\n",
    "= p8_util.get_tf_head(\"images\",tuple_dimension, nClasses)\n",
    "\n",
    "# A `Head` instance defines the loss function and metrics for `Estimators`.\n",
    "# Tells Tensorfow how to compute loss function and metrics\n",
    "#head = tf.contrib.estimator.multi_class_head(nClasses\\\n",
    "#                                             , loss_reduction=loss_reduction)\n",
    "estimator = adanet.Estimator(\n",
    "    head=tf_head,\n",
    "    \n",
    "    subnetwork_generator=p8_util.MyGenerator(\n",
    "        nClasses,\n",
    "        feature_columns=my_feature_columns,\n",
    "        optimizer=tf.train.RMSPropOptimizer(learning_rate=LEARNING_RATE),\n",
    "        seed=p8_util.RANDOM_SEED,\n",
    "        nn_type=NN_TYPE),\n",
    "        \n",
    "    \n",
    "    max_iteration_steps=TRAIN_STEPS // ADANET_ITERATIONS,\n",
    "    \n",
    "    evaluator=adanet.Evaluator(\n",
    "        input_fn=p8_util.input_fn(\"train\", x_train, y_train\\\n",
    "                          , tuple_dimension=tuple_dimension\\\n",
    "                          , training=False\\\n",
    "                          , batch_size=BATCH_SIZE),\n",
    "        steps=None),\n",
    "    config=p8_util.make_config(NN_TYPE))"
   ]
  },
  {
   "cell_type": "code",
   "execution_count": 11,
   "metadata": {
    "colab": {
     "base_uri": "https://localhost:8080/",
     "height": 1295
    },
    "colab_type": "code",
    "executionInfo": {
     "elapsed": 2118,
     "status": "error",
     "timestamp": 1554720133634,
     "user": {
      "displayName": "FBT Telecom",
      "photoUrl": "",
      "userId": "01928442219250440173"
     },
     "user_tz": -120
    },
    "id": "_reIMFwIcDKL",
    "outputId": "5db434df-7c87-4eaf-ab11-e3a91c5425a7"
   },
   "outputs": [
    {
     "name": "stdout",
     "output_type": "stream",
     "text": [
      "INFO:tensorflow:Not using Distribute Coordinator.\n",
      "INFO:tensorflow:Running training and evaluation locally (non-distributed).\n",
      "INFO:tensorflow:Start train and evaluate loop. The evaluate will happen after every checkpoint. Checkpoint frequency is determined based on RunConfig arguments: save_checkpoints_steps 100000 or save_checkpoints_secs None.\n",
      "INFO:tensorflow:Beginning training AdaNet iteration 0\n",
      "INFO:tensorflow:Calling model_fn.\n",
      "\n",
      "*** generate_candidates : Iteration= 0 /Layers=0\n",
      "\n",
      "*** _NNAdaNetBuilder : Classes=3\n",
      "\n",
      "*** _NNAdaNetBuilder : Classes=3\n",
      "INFO:tensorflow:Building iteration 0\n",
      "INFO:tensorflow:Building subnetwork 'CNN_layer_0'\n",
      "\n",
      "\n",
      "*** build_subnetwork() : features shape= (?, 224, 224, 3)\n",
      "*** _build_cnn_subnetwork() : width=224 / Heigh=224 / Channel=3\n",
      "WARNING:tensorflow:From /home/bangui/Dropbox/Perso/Formation/openclassrooms/OC_Datascientist/P8/p8_util.py:336: calling Subnetwork.__new__ (from adanet.core.subnetwork.generator) with persisted_tensors is deprecated and will be removed in a future version.\n",
      "Instructions for updating:\n",
      "`persisted_tensors` is deprecated, please use `shared` instead.\n",
      "\n",
      "+++ _check_logits_final_dim() : expected_logits_dimension= 3\n",
      "\n",
      "+++ _check_logits_final_dim() : expected_logits_dimension= 3\n",
      "\n",
      "+++ _check_logits_final_dim() : expected_logits_dimension= 3\n",
      "INFO:tensorflow:Building subnetwork 'CNN_layer_1'\n",
      "\n",
      "\n",
      "*** build_subnetwork() : features shape= (?, 224, 224, 3)\n",
      "*** _build_cnn_subnetwork() : width=224 / Heigh=224 / Channel=3\n",
      "\n",
      "*** *** Last layer shape= Tensor(\"adanet/iteration_0/ensemble_t0_CNN_layer_1/weighted_subnetwork_0/subnetwork/Flatten/flatten/Reshape:0\", shape=(?, 401408), dtype=float32)\n",
      "\n",
      "+++ _check_logits_final_dim() : expected_logits_dimension= 3\n",
      "\n",
      "+++ _check_logits_final_dim() : expected_logits_dimension= 3\n",
      "\n",
      "+++ _check_logits_final_dim() : expected_logits_dimension= 3\n",
      "INFO:tensorflow:Done calling model_fn.\n",
      "INFO:tensorflow:Create CheckpointSaverHook.\n",
      "INFO:tensorflow:Graph was finalized.\n",
      "INFO:tensorflow:Running local_init_op.\n",
      "INFO:tensorflow:Done running local_init_op.\n",
      "INFO:tensorflow:Saving checkpoints for 0 into ./tmp/models/CNN/model.ckpt.\n",
      "\n",
      "*** generator() : labels shape= (414,) / label values= 0\n",
      "INFO:tensorflow:loss = 1.098791, step = 1\n",
      "INFO:tensorflow:Saving checkpoints for 2 into ./tmp/models/CNN/model.ckpt.\n",
      "INFO:tensorflow:Calling model_fn.\n",
      "\n",
      "*** generate_candidates : Iteration= 0 /Layers=0\n",
      "\n",
      "*** _NNAdaNetBuilder : Classes=3\n",
      "\n",
      "*** _NNAdaNetBuilder : Classes=3\n",
      "INFO:tensorflow:Building iteration 0\n",
      "INFO:tensorflow:Building subnetwork 'CNN_layer_0'\n",
      "\n",
      "\n",
      "*** build_subnetwork() : features shape= (?, 224, 224, 3)\n",
      "*** _build_cnn_subnetwork() : width=224 / Heigh=224 / Channel=3\n",
      "\n",
      "+++ _check_logits_final_dim() : expected_logits_dimension= 3\n",
      "\n",
      "+++ _check_logits_final_dim() : expected_logits_dimension= 3\n",
      "\n",
      "+++ _check_logits_final_dim() : expected_logits_dimension= 3\n",
      "INFO:tensorflow:Building subnetwork 'CNN_layer_1'\n",
      "\n",
      "\n",
      "*** build_subnetwork() : features shape= (?, 224, 224, 3)\n",
      "*** _build_cnn_subnetwork() : width=224 / Heigh=224 / Channel=3\n",
      "\n",
      "*** *** Last layer shape= Tensor(\"adanet/iteration_0/ensemble_t0_CNN_layer_1/weighted_subnetwork_0/subnetwork/Flatten/flatten/Reshape:0\", shape=(?, 401408), dtype=float32)\n",
      "\n",
      "+++ _check_logits_final_dim() : expected_logits_dimension= 3\n",
      "\n",
      "+++ _check_logits_final_dim() : expected_logits_dimension= 3\n",
      "\n",
      "+++ _check_logits_final_dim() : expected_logits_dimension= 3\n",
      "INFO:tensorflow:Done calling model_fn.\n",
      "INFO:tensorflow:Starting evaluation at 2019-04-15-14:00:26\n",
      "INFO:tensorflow:Graph was finalized.\n",
      "INFO:tensorflow:Restoring parameters from ./tmp/models/CNN/model.ckpt-2\n",
      "INFO:tensorflow:Running local_init_op.\n",
      "INFO:tensorflow:Done running local_init_op.\n",
      "\n",
      "*** generator() : labels shape= (47,) / label values= 1\n",
      "INFO:tensorflow:Saving candidate 't0_CNN_layer_0' dict for global step 2: accuracy/adanet/adanet_weighted_ensemble = 0.38297874, accuracy/adanet/subnetwork = 0.38297874, accuracy/adanet/uniform_average_ensemble = 0.38297874, architecture/adanet/ensembles = b'\\na\\n>adanet/iteration_0/ensemble_t0_CNN_layer_0/architecture/adanetB\\x15\\x08\\x07\\x12\\x00B\\x0f| CNN_layer_0 |J\\x08\\n\\x06\\n\\x04text', average_loss/adanet/adanet_weighted_ensemble = 31.333714, average_loss/adanet/subnetwork = 31.333714, average_loss/adanet/uniform_average_ensemble = 31.333714, loss/adanet/adanet_weighted_ensemble = 31.333714, loss/adanet/subnetwork = 31.333714, loss/adanet/uniform_average_ensemble = 31.333714\n",
      "INFO:tensorflow:Saving candidate 't0_CNN_layer_1' dict for global step 2: accuracy/adanet/adanet_weighted_ensemble = 0.40425533, accuracy/adanet/subnetwork = 0.40425533, accuracy/adanet/uniform_average_ensemble = 0.40425533, architecture/adanet/ensembles = b'\\na\\n>adanet/iteration_0/ensemble_t0_CNN_layer_1/architecture/adanetB\\x15\\x08\\x07\\x12\\x00B\\x0f| CNN_layer_1 |J\\x08\\n\\x06\\n\\x04text', average_loss/adanet/adanet_weighted_ensemble = 1.12002, average_loss/adanet/subnetwork = 1.12002, average_loss/adanet/uniform_average_ensemble = 1.12002, loss/adanet/adanet_weighted_ensemble = 1.12002, loss/adanet/subnetwork = 1.12002, loss/adanet/uniform_average_ensemble = 1.12002\n",
      "INFO:tensorflow:Finished evaluation at 2019-04-15-14:00:28\n",
      "INFO:tensorflow:Saving dict for global step 2: accuracy = 0.40425533, accuracy/adanet/adanet_weighted_ensemble = 0.40425533, accuracy/adanet/subnetwork = 0.40425533, accuracy/adanet/uniform_average_ensemble = 0.40425533, average_loss = 1.12002, average_loss/adanet/adanet_weighted_ensemble = 1.12002, average_loss/adanet/subnetwork = 1.12002, average_loss/adanet/uniform_average_ensemble = 1.12002, global_step = 2, loss = 1.12002, loss/adanet/adanet_weighted_ensemble = 1.12002, loss/adanet/subnetwork = 1.12002, loss/adanet/uniform_average_ensemble = 1.12002\n",
      "INFO:tensorflow:Saving 'checkpoint_path' summary for global step 2: ./tmp/models/CNN/model.ckpt-2\n",
      "INFO:tensorflow:Loss for final step: 1.1371498.\n",
      "INFO:tensorflow:Finished training Adanet iteration 0\n",
      "INFO:tensorflow:Beginning bookkeeping phase for iteration 0\n",
      "\n",
      "*** generate_candidates : Iteration= 0 /Layers=0\n",
      "\n",
      "*** _NNAdaNetBuilder : Classes=3\n",
      "\n",
      "*** _NNAdaNetBuilder : Classes=3\n",
      "INFO:tensorflow:Building iteration 0\n",
      "INFO:tensorflow:Building subnetwork 'CNN_layer_0'\n",
      "\n",
      "\n",
      "*** build_subnetwork() : features shape= (?, 224, 224, 3)\n",
      "*** _build_cnn_subnetwork() : width=224 / Heigh=224 / Channel=3\n",
      "\n",
      "+++ _check_logits_final_dim() : expected_logits_dimension= 3\n",
      "\n",
      "+++ _check_logits_final_dim() : expected_logits_dimension= 3\n",
      "\n",
      "+++ _check_logits_final_dim() : expected_logits_dimension= 3\n",
      "INFO:tensorflow:Building subnetwork 'CNN_layer_1'\n",
      "\n",
      "\n",
      "*** build_subnetwork() : features shape= (?, 224, 224, 3)\n",
      "*** _build_cnn_subnetwork() : width=224 / Heigh=224 / Channel=3\n",
      "\n",
      "*** *** Last layer shape= Tensor(\"adanet/iteration_0/ensemble_t0_CNN_layer_1/weighted_subnetwork_0/subnetwork/Flatten/flatten/Reshape:0\", shape=(?, 401408), dtype=float32)\n",
      "\n",
      "+++ _check_logits_final_dim() : expected_logits_dimension= 3\n",
      "\n",
      "+++ _check_logits_final_dim() : expected_logits_dimension= 3\n",
      "\n",
      "+++ _check_logits_final_dim() : expected_logits_dimension= 3\n",
      "INFO:tensorflow:Starting ensemble evaluation for iteration 0\n",
      "INFO:tensorflow:Restoring parameters from ./tmp/models/CNN/model.ckpt-2\n",
      "WARNING:tensorflow:From /home/bangui/anaconda3/lib/python3.6/site-packages/adanet/core/estimator.py:729: start_queue_runners (from tensorflow.python.training.queue_runner_impl) is deprecated and will be removed in a future version.\n",
      "Instructions for updating:\n",
      "To construct input pipelines, use the `tf.data` module.\n",
      "WARNING:tensorflow:`tf.train.start_queue_runners()` was called when no queue runners were defined. You can safely remove the call to this deprecated function.\n",
      "\n",
      "*** generator() : labels shape= (414,) / label values= 0\n",
      "INFO:tensorflow:Encountered end of input after 10 evaluations\n",
      "INFO:tensorflow:Computed ensemble metrics: adanet_loss/t0_CNN_layer_0 = 32.965786, adanet_loss/t0_CNN_layer_1 = 1.126094\n",
      "INFO:tensorflow:Finished ensemble evaluation for iteration 0\n",
      "INFO:tensorflow:'t0_CNN_layer_1' at index 1 is moving onto the next iteration\n",
      "INFO:tensorflow:Importing architecture from ./tmp/models/CNN/architecture-0.txt: ['0:CNN_layer_1'].\n",
      "\n",
      "*** generate_candidates : Iteration= 0 /Layers=0\n",
      "\n",
      "*** _NNAdaNetBuilder : Classes=3\n",
      "\n",
      "*** _NNAdaNetBuilder : Classes=3\n",
      "INFO:tensorflow:Rebuilding iteration 0\n"
     ]
    },
    {
     "name": "stdout",
     "output_type": "stream",
     "text": [
      "INFO:tensorflow:Building subnetwork 'CNN_layer_1'\n",
      "\n",
      "\n",
      "*** build_subnetwork() : features shape= (?, 224, 224, 3)\n",
      "*** _build_cnn_subnetwork() : width=224 / Heigh=224 / Channel=3\n",
      "\n",
      "*** *** Last layer shape= Tensor(\"adanet/iteration_0/ensemble_t0_CNN_layer_1/weighted_subnetwork_0/subnetwork/Flatten/flatten/Reshape:0\", shape=(?, 401408), dtype=float32)\n",
      "\n",
      "+++ _check_logits_final_dim() : expected_logits_dimension= 3\n",
      "\n",
      "+++ _check_logits_final_dim() : expected_logits_dimension= 3\n",
      "\n",
      "+++ _check_logits_final_dim() : expected_logits_dimension= 3\n",
      "INFO:tensorflow:Warm-starting from: ('./tmp/models/CNN/model.ckpt-2',)\n",
      "INFO:tensorflow:Warm-starting variable: global_step; prev_var_name: Unchanged\n",
      "INFO:tensorflow:Warm-starting variable: adanet/iteration_0/step; prev_var_name: Unchanged\n",
      "INFO:tensorflow:Warm-starting variable: adanet/iteration_0/ensemble_t0_CNN_layer_1/weighted_subnetwork_0/subnetwork/conv2d/kernel; prev_var_name: Unchanged\n",
      "INFO:tensorflow:Warm-starting variable: adanet/iteration_0/ensemble_t0_CNN_layer_1/weighted_subnetwork_0/subnetwork/conv2d/bias; prev_var_name: Unchanged\n",
      "INFO:tensorflow:Warm-starting variable: adanet/iteration_0/ensemble_t0_CNN_layer_1/weighted_subnetwork_0/subnetwork/conv2d_1/kernel; prev_var_name: Unchanged\n",
      "INFO:tensorflow:Warm-starting variable: adanet/iteration_0/ensemble_t0_CNN_layer_1/weighted_subnetwork_0/subnetwork/conv2d_1/bias; prev_var_name: Unchanged\n",
      "INFO:tensorflow:Warm-starting variable: adanet/iteration_0/ensemble_t0_CNN_layer_1/weighted_subnetwork_0/subnetwork/dense/kernel; prev_var_name: Unchanged\n",
      "INFO:tensorflow:Warm-starting variable: adanet/iteration_0/ensemble_t0_CNN_layer_1/weighted_subnetwork_0/subnetwork/dense/bias; prev_var_name: Unchanged\n",
      "INFO:tensorflow:Warm-starting variable: adanet/iteration_0/ensemble_t0_CNN_layer_1/weighted_subnetwork_0/subnetwork/dense_1/kernel; prev_var_name: Unchanged\n",
      "INFO:tensorflow:Warm-starting variable: adanet/iteration_0/ensemble_t0_CNN_layer_1/weighted_subnetwork_0/subnetwork/dense_1/bias; prev_var_name: Unchanged\n",
      "INFO:tensorflow:Warm-starting variable: adanet/iteration_0/ensemble_t0_CNN_layer_1/weighted_subnetwork_0/logits/mixture_weight; prev_var_name: Unchanged\n",
      "INFO:tensorflow:Warm-starting variable: adanet/iteration_0/ensemble_t0_CNN_layer_1/bias; prev_var_name: Unchanged\n",
      "INFO:tensorflow:Warm-starting variable: adanet/iteration_0/candidate_t0_CNN_layer_1/adanet_loss; prev_var_name: Unchanged\n",
      "INFO:tensorflow:Warm-starting variable: adanet/iteration_0/candidate_t0_CNN_layer_1/adanet/iteration_0/candidate_t0_CNN_layer_1/adanet_loss/biased; prev_var_name: Unchanged\n",
      "INFO:tensorflow:Warm-starting variable: adanet/iteration_0/candidate_t0_CNN_layer_1/adanet/iteration_0/candidate_t0_CNN_layer_1/adanet_loss/local_step; prev_var_name: Unchanged\n",
      "INFO:tensorflow:Warm-starting variable: adanet/iteration_0/train_op/is_over/is_over_var_fn/is_over_var; prev_var_name: Unchanged\n",
      "\n",
      "*** generate_candidates : Iteration= 1 /Layers=1\n",
      "\n",
      "*** _NNAdaNetBuilder : Classes=3\n",
      "\n",
      "*** _NNAdaNetBuilder : Classes=3\n",
      "INFO:tensorflow:Building iteration 1\n",
      "INFO:tensorflow:Building subnetwork 'CNN_layer_1'\n",
      "\n",
      "\n",
      "*** build_subnetwork() : features shape= (?, 224, 224, 3)\n",
      "*** _build_cnn_subnetwork() : width=224 / Heigh=224 / Channel=3\n",
      "\n",
      "*** *** Last layer shape= Tensor(\"adanet/iteration_1/ensemble_t1_CNN_layer_1/weighted_subnetwork_1/subnetwork/Flatten/flatten/Reshape:0\", shape=(?, 401408), dtype=float32)\n",
      "\n",
      "+++ _check_logits_final_dim() : expected_logits_dimension= 3\n",
      "\n",
      "+++ _check_logits_final_dim() : expected_logits_dimension= 3\n",
      "\n",
      "+++ _check_logits_final_dim() : expected_logits_dimension= 3\n",
      "INFO:tensorflow:Building subnetwork 'CNN_layer_2'\n",
      "\n",
      "\n",
      "*** build_subnetwork() : features shape= (?, 224, 224, 3)\n",
      "*** _build_cnn_subnetwork() : width=224 / Heigh=224 / Channel=3\n",
      "\n",
      "*** *** Last layer shape= Tensor(\"adanet/iteration_1/ensemble_t1_CNN_layer_2/weighted_subnetwork_1/subnetwork/Flatten/flatten/Reshape:0\", shape=(?, 401408), dtype=float32)\n",
      "\n",
      "*** *** Last layer shape= Tensor(\"adanet/iteration_1/ensemble_t1_CNN_layer_2/weighted_subnetwork_1/subnetwork/Flatten_1/flatten/Reshape:0\", shape=(?, 401408), dtype=float32)\n",
      "\n",
      "+++ _check_logits_final_dim() : expected_logits_dimension= 3\n",
      "\n",
      "+++ _check_logits_final_dim() : expected_logits_dimension= 3\n",
      "\n",
      "+++ _check_logits_final_dim() : expected_logits_dimension= 3\n",
      "INFO:tensorflow:Overwriting checkpoint with new graph for iteration 1 to ./tmp/models/CNN/model.ckpt-2\n",
      "WARNING:tensorflow:`tf.train.start_queue_runners()` was called when no queue runners were defined. You can safely remove the call to this deprecated function.\n",
      "INFO:tensorflow:Finished bookkeeping phase for iteration 0\n",
      "INFO:tensorflow:Beginning training AdaNet iteration 1\n",
      "INFO:tensorflow:Calling model_fn.\n",
      "INFO:tensorflow:Importing architecture from ./tmp/models/CNN/architecture-0.txt: ['0:CNN_layer_1'].\n",
      "\n",
      "*** generate_candidates : Iteration= 0 /Layers=0\n",
      "\n",
      "*** _NNAdaNetBuilder : Classes=3\n",
      "\n",
      "*** _NNAdaNetBuilder : Classes=3\n",
      "INFO:tensorflow:Rebuilding iteration 0\n",
      "INFO:tensorflow:Building subnetwork 'CNN_layer_1'\n",
      "\n",
      "\n",
      "*** build_subnetwork() : features shape= (?, 224, 224, 3)\n",
      "*** _build_cnn_subnetwork() : width=224 / Heigh=224 / Channel=3\n",
      "\n",
      "*** *** Last layer shape= Tensor(\"adanet/iteration_0/ensemble_t0_CNN_layer_1/weighted_subnetwork_0/subnetwork/Flatten/flatten/Reshape:0\", shape=(?, 401408), dtype=float32)\n",
      "\n",
      "+++ _check_logits_final_dim() : expected_logits_dimension= 3\n",
      "\n",
      "+++ _check_logits_final_dim() : expected_logits_dimension= 3\n",
      "\n",
      "+++ _check_logits_final_dim() : expected_logits_dimension= 3\n",
      "\n",
      "*** generate_candidates : Iteration= 1 /Layers=1\n",
      "\n",
      "*** _NNAdaNetBuilder : Classes=3\n",
      "\n",
      "*** _NNAdaNetBuilder : Classes=3\n",
      "INFO:tensorflow:Building iteration 1\n",
      "INFO:tensorflow:Building subnetwork 'CNN_layer_1'\n",
      "\n",
      "\n",
      "*** build_subnetwork() : features shape= (?, 224, 224, 3)\n",
      "*** _build_cnn_subnetwork() : width=224 / Heigh=224 / Channel=3\n",
      "\n",
      "*** *** Last layer shape= Tensor(\"adanet/iteration_1/ensemble_t1_CNN_layer_1/weighted_subnetwork_1/subnetwork/Flatten/flatten/Reshape:0\", shape=(?, 401408), dtype=float32)\n",
      "\n",
      "+++ _check_logits_final_dim() : expected_logits_dimension= 3\n",
      "\n",
      "+++ _check_logits_final_dim() : expected_logits_dimension= 3\n",
      "\n",
      "+++ _check_logits_final_dim() : expected_logits_dimension= 3\n",
      "INFO:tensorflow:Building subnetwork 'CNN_layer_2'\n",
      "\n",
      "\n",
      "*** build_subnetwork() : features shape= (?, 224, 224, 3)\n",
      "*** _build_cnn_subnetwork() : width=224 / Heigh=224 / Channel=3\n",
      "\n",
      "*** *** Last layer shape= Tensor(\"adanet/iteration_1/ensemble_t1_CNN_layer_2/weighted_subnetwork_1/subnetwork/Flatten/flatten/Reshape:0\", shape=(?, 401408), dtype=float32)\n",
      "\n",
      "*** *** Last layer shape= Tensor(\"adanet/iteration_1/ensemble_t1_CNN_layer_2/weighted_subnetwork_1/subnetwork/Flatten_1/flatten/Reshape:0\", shape=(?, 401408), dtype=float32)\n",
      "\n",
      "+++ _check_logits_final_dim() : expected_logits_dimension= 3\n",
      "\n",
      "+++ _check_logits_final_dim() : expected_logits_dimension= 3\n",
      "\n",
      "+++ _check_logits_final_dim() : expected_logits_dimension= 3\n",
      "INFO:tensorflow:Done calling model_fn.\n",
      "INFO:tensorflow:Create CheckpointSaverHook.\n",
      "INFO:tensorflow:Graph was finalized.\n",
      "INFO:tensorflow:Restoring parameters from ./tmp/models/CNN/increment.ckpt-1\n",
      "INFO:tensorflow:Running local_init_op.\n",
      "INFO:tensorflow:Done running local_init_op.\n",
      "INFO:tensorflow:Saving checkpoints for 2 into ./tmp/models/CNN/model.ckpt.\n",
      "\n",
      "*** generator() : labels shape= (414,) / label values= 0\n",
      "INFO:tensorflow:loss = 1.0974677, step = 3\n",
      "INFO:tensorflow:Saving checkpoints for 4 into ./tmp/models/CNN/model.ckpt.\n",
      "INFO:tensorflow:Calling model_fn.\n",
      "INFO:tensorflow:Importing architecture from ./tmp/models/CNN/architecture-0.txt: ['0:CNN_layer_1'].\n",
      "\n",
      "*** generate_candidates : Iteration= 0 /Layers=0\n",
      "\n",
      "*** _NNAdaNetBuilder : Classes=3\n",
      "\n",
      "*** _NNAdaNetBuilder : Classes=3\n",
      "INFO:tensorflow:Rebuilding iteration 0\n",
      "INFO:tensorflow:Building subnetwork 'CNN_layer_1'\n",
      "\n",
      "\n",
      "*** build_subnetwork() : features shape= (?, 224, 224, 3)\n",
      "*** _build_cnn_subnetwork() : width=224 / Heigh=224 / Channel=3\n",
      "\n",
      "*** *** Last layer shape= Tensor(\"adanet/iteration_0/ensemble_t0_CNN_layer_1/weighted_subnetwork_0/subnetwork/Flatten/flatten/Reshape:0\", shape=(?, 401408), dtype=float32)\n",
      "\n",
      "+++ _check_logits_final_dim() : expected_logits_dimension= 3\n",
      "\n",
      "+++ _check_logits_final_dim() : expected_logits_dimension= 3\n",
      "\n",
      "+++ _check_logits_final_dim() : expected_logits_dimension= 3\n",
      "\n",
      "*** generate_candidates : Iteration= 1 /Layers=1\n",
      "\n",
      "*** _NNAdaNetBuilder : Classes=3\n",
      "\n",
      "*** _NNAdaNetBuilder : Classes=3\n",
      "INFO:tensorflow:Building iteration 1\n"
     ]
    },
    {
     "name": "stdout",
     "output_type": "stream",
     "text": [
      "INFO:tensorflow:Building subnetwork 'CNN_layer_1'\n",
      "\n",
      "\n",
      "*** build_subnetwork() : features shape= (?, 224, 224, 3)\n",
      "*** _build_cnn_subnetwork() : width=224 / Heigh=224 / Channel=3\n",
      "\n",
      "*** *** Last layer shape= Tensor(\"adanet/iteration_1/ensemble_t1_CNN_layer_1/weighted_subnetwork_1/subnetwork/Flatten/flatten/Reshape:0\", shape=(?, 401408), dtype=float32)\n",
      "\n",
      "+++ _check_logits_final_dim() : expected_logits_dimension= 3\n",
      "\n",
      "+++ _check_logits_final_dim() : expected_logits_dimension= 3\n",
      "\n",
      "+++ _check_logits_final_dim() : expected_logits_dimension= 3\n",
      "INFO:tensorflow:Building subnetwork 'CNN_layer_2'\n",
      "\n",
      "\n",
      "*** build_subnetwork() : features shape= (?, 224, 224, 3)\n",
      "*** _build_cnn_subnetwork() : width=224 / Heigh=224 / Channel=3\n",
      "\n",
      "*** *** Last layer shape= Tensor(\"adanet/iteration_1/ensemble_t1_CNN_layer_2/weighted_subnetwork_1/subnetwork/Flatten/flatten/Reshape:0\", shape=(?, 401408), dtype=float32)\n",
      "\n",
      "*** *** Last layer shape= Tensor(\"adanet/iteration_1/ensemble_t1_CNN_layer_2/weighted_subnetwork_1/subnetwork/Flatten_1/flatten/Reshape:0\", shape=(?, 401408), dtype=float32)\n",
      "\n",
      "+++ _check_logits_final_dim() : expected_logits_dimension= 3\n",
      "\n",
      "+++ _check_logits_final_dim() : expected_logits_dimension= 3\n",
      "\n",
      "+++ _check_logits_final_dim() : expected_logits_dimension= 3\n",
      "INFO:tensorflow:Done calling model_fn.\n",
      "INFO:tensorflow:Starting evaluation at 2019-04-15-14:01:10\n",
      "INFO:tensorflow:Graph was finalized.\n",
      "INFO:tensorflow:Restoring parameters from ./tmp/models/CNN/model.ckpt-4\n",
      "INFO:tensorflow:Running local_init_op.\n",
      "INFO:tensorflow:Done running local_init_op.\n",
      "\n",
      "*** generator() : labels shape= (47,) / label values= 1\n",
      "INFO:tensorflow:Saving candidate 't0_CNN_layer_1' dict for global step 4: accuracy/adanet/adanet_weighted_ensemble = 0.40425533, accuracy/adanet/subnetwork = 0.40425533, accuracy/adanet/uniform_average_ensemble = 0.40425533, architecture/adanet/ensembles = b'\\na\\n>adanet/iteration_0/ensemble_t0_CNN_layer_1/architecture/adanetB\\x15\\x08\\x07\\x12\\x00B\\x0f| CNN_layer_1 |J\\x08\\n\\x06\\n\\x04text', average_loss/adanet/adanet_weighted_ensemble = 1.12002, average_loss/adanet/subnetwork = 1.12002, average_loss/adanet/uniform_average_ensemble = 1.12002, loss/adanet/adanet_weighted_ensemble = 1.12002, loss/adanet/subnetwork = 1.12002, loss/adanet/uniform_average_ensemble = 1.12002\n",
      "INFO:tensorflow:Saving candidate 't1_CNN_layer_1' dict for global step 4: accuracy/adanet/adanet_weighted_ensemble = 0.38297874, accuracy/adanet/subnetwork = 0.3617021, accuracy/adanet/uniform_average_ensemble = 0.38297874, architecture/adanet/ensembles = b'\\no\\n>adanet/iteration_1/ensemble_t1_CNN_layer_1/architecture/adanetB#\\x08\\x07\\x12\\x00B\\x1d| CNN_layer_1 | CNN_layer_1 |J\\x08\\n\\x06\\n\\x04text', average_loss/adanet/adanet_weighted_ensemble = 1.1098968, average_loss/adanet/subnetwork = 1.1038514, average_loss/adanet/uniform_average_ensemble = 1.1098968, loss/adanet/adanet_weighted_ensemble = 1.1098968, loss/adanet/subnetwork = 1.1038514, loss/adanet/uniform_average_ensemble = 1.1098968\n",
      "INFO:tensorflow:Saving candidate 't1_CNN_layer_2' dict for global step 4: accuracy/adanet/adanet_weighted_ensemble = 0.34042552, accuracy/adanet/subnetwork = 0.34042552, accuracy/adanet/uniform_average_ensemble = 0.34042552, architecture/adanet/ensembles = b'\\no\\n>adanet/iteration_1/ensemble_t1_CNN_layer_2/architecture/adanetB#\\x08\\x07\\x12\\x00B\\x1d| CNN_layer_1 | CNN_layer_2 |J\\x08\\n\\x06\\n\\x04text', average_loss/adanet/adanet_weighted_ensemble = 1.1142968, average_loss/adanet/subnetwork = 1.1145041, average_loss/adanet/uniform_average_ensemble = 1.1142968, loss/adanet/adanet_weighted_ensemble = 1.1142968, loss/adanet/subnetwork = 1.1145041, loss/adanet/uniform_average_ensemble = 1.1142968\n",
      "INFO:tensorflow:Finished evaluation at 2019-04-15-14:01:14\n",
      "INFO:tensorflow:Saving dict for global step 4: accuracy = 0.34042552, accuracy/adanet/adanet_weighted_ensemble = 0.34042552, accuracy/adanet/subnetwork = 0.34042552, accuracy/adanet/uniform_average_ensemble = 0.34042552, average_loss = 1.1142968, average_loss/adanet/adanet_weighted_ensemble = 1.1142968, average_loss/adanet/subnetwork = 1.1145041, average_loss/adanet/uniform_average_ensemble = 1.1142968, global_step = 4, loss = 1.1142968, loss/adanet/adanet_weighted_ensemble = 1.1142968, loss/adanet/subnetwork = 1.1145041, loss/adanet/uniform_average_ensemble = 1.1142968\n",
      "INFO:tensorflow:Saving 'checkpoint_path' summary for global step 4: ./tmp/models/CNN/model.ckpt-4\n",
      "INFO:tensorflow:Loss for final step: 1.0713642.\n",
      "INFO:tensorflow:Finished training Adanet iteration 1\n",
      "Accuracy: 0.34042552\n",
      "Loss: 1.1142968\n"
     ]
    }
   ],
   "source": [
    "results, _ = tf.estimator.train_and_evaluate(\n",
    "    estimator,\n",
    "    train_spec=tf.estimator.TrainSpec(\n",
    "        input_fn= p8_util.input_fn(\"train\", x_train, y_train\\\n",
    "                           , tuple_dimension=tuple_dimension\\\n",
    "                           , training=True, batch_size=BATCH_SIZE),\n",
    "        max_steps=TRAIN_STEPS),\n",
    "    eval_spec=tf.estimator.EvalSpec(\n",
    "        input_fn= p8_util.input_fn(\"test\", x_test, y_test\\\n",
    "                           , tuple_dimension=tuple_dimension\\\n",
    "                           , training=False, batch_size=BATCH_SIZE),\n",
    "        steps=None,\n",
    "        start_delay_secs=1,\n",
    "        throttle_secs=1,  \n",
    "    ))\n",
    "print(\"Accuracy:\", results[\"accuracy\"])\n",
    "print(\"Loss:\", results[\"average_loss\"])"
   ]
  },
  {
   "cell_type": "code",
   "execution_count": null,
   "metadata": {},
   "outputs": [],
   "source": []
  },
  {
   "cell_type": "code",
   "execution_count": 17,
   "metadata": {},
   "outputs": [
    {
     "name": "stdout",
     "output_type": "stream",
     "text": [
      "\n",
      "----------\n",
      "\n",
      "adanet/iteration_0/candidate_t0_CNN_layer_1/adanet/iteration_0/candidate_t0_CNN_layer_1/adanet_loss/biased (DT_FLOAT) []\n",
      "adanet/iteration_0/candidate_t0_CNN_layer_1/adanet/iteration_0/candidate_t0_CNN_layer_1/adanet_loss/local_step (DT_FLOAT) []\n",
      "adanet/iteration_0/candidate_t0_CNN_layer_1/adanet_loss (DT_FLOAT) []\n",
      "adanet/iteration_0/ensemble_t0_CNN_layer_1/bias (DT_FLOAT) [3]\n",
      "adanet/iteration_0/ensemble_t0_CNN_layer_1/weighted_subnetwork_0/logits/mixture_weight (DT_FLOAT) []\n",
      "adanet/iteration_0/ensemble_t0_CNN_layer_1/weighted_subnetwork_0/subnetwork/conv2d/bias (DT_FLOAT) [64]\n",
      "adanet/iteration_0/ensemble_t0_CNN_layer_1/weighted_subnetwork_0/subnetwork/conv2d/kernel (DT_FLOAT) [3,3,3,64]\n",
      "adanet/iteration_0/ensemble_t0_CNN_layer_1/weighted_subnetwork_0/subnetwork/conv2d_1/bias (DT_FLOAT) [128]\n",
      "adanet/iteration_0/ensemble_t0_CNN_layer_1/weighted_subnetwork_0/subnetwork/conv2d_1/kernel (DT_FLOAT) [3,3,64,128]\n",
      "adanet/iteration_0/ensemble_t0_CNN_layer_1/weighted_subnetwork_0/subnetwork/dense/bias (DT_FLOAT) [100]\n",
      "adanet/iteration_0/ensemble_t0_CNN_layer_1/weighted_subnetwork_0/subnetwork/dense/kernel (DT_FLOAT) [401408,100]\n",
      "adanet/iteration_0/ensemble_t0_CNN_layer_1/weighted_subnetwork_0/subnetwork/dense_1/bias (DT_FLOAT) [3]\n",
      "adanet/iteration_0/ensemble_t0_CNN_layer_1/weighted_subnetwork_0/subnetwork/dense_1/kernel (DT_FLOAT) [100,3]\n",
      "adanet/iteration_0/step (DT_INT64) []\n",
      "adanet/iteration_0/train_op/is_over/is_over_var_fn/is_over_var (DT_BOOL) []\n",
      "adanet/iteration_1/candidate_t0_CNN_layer_1/adanet/iteration_1/candidate_t0_CNN_layer_1/adanet_loss/biased (DT_FLOAT) []\n",
      "adanet/iteration_1/candidate_t0_CNN_layer_1/adanet/iteration_1/candidate_t0_CNN_layer_1/adanet_loss/local_step (DT_FLOAT) []\n",
      "adanet/iteration_1/candidate_t0_CNN_layer_1/adanet_loss (DT_FLOAT) []\n",
      "adanet/iteration_1/candidate_t1_CNN_layer_1/adanet/iteration_1/candidate_t1_CNN_layer_1/adanet_loss/biased (DT_FLOAT) []\n",
      "adanet/iteration_1/candidate_t1_CNN_layer_1/adanet/iteration_1/candidate_t1_CNN_layer_1/adanet_loss/local_step (DT_FLOAT) []\n",
      "adanet/iteration_1/candidate_t1_CNN_layer_1/adanet_loss (DT_FLOAT) []\n",
      "adanet/iteration_1/candidate_t1_CNN_layer_2/adanet/iteration_1/candidate_t1_CNN_layer_2/adanet_loss/biased (DT_FLOAT) []\n",
      "adanet/iteration_1/candidate_t1_CNN_layer_2/adanet/iteration_1/candidate_t1_CNN_layer_2/adanet_loss/local_step (DT_FLOAT) []\n",
      "adanet/iteration_1/candidate_t1_CNN_layer_2/adanet_loss (DT_FLOAT) []\n",
      "adanet/iteration_1/ensemble_t1_CNN_layer_1/bias (DT_FLOAT) [3]\n",
      "adanet/iteration_1/ensemble_t1_CNN_layer_1/train_subnetwork/adanet/iteration_1/ensemble_t1_CNN_layer_1/weighted_subnetwork_1/subnetwork/conv2d/bias/RMSProp (DT_FLOAT) [64]\n",
      "adanet/iteration_1/ensemble_t1_CNN_layer_1/train_subnetwork/adanet/iteration_1/ensemble_t1_CNN_layer_1/weighted_subnetwork_1/subnetwork/conv2d/bias/RMSProp_1 (DT_FLOAT) [64]\n",
      "adanet/iteration_1/ensemble_t1_CNN_layer_1/train_subnetwork/adanet/iteration_1/ensemble_t1_CNN_layer_1/weighted_subnetwork_1/subnetwork/conv2d/kernel/RMSProp (DT_FLOAT) [3,3,3,64]\n",
      "adanet/iteration_1/ensemble_t1_CNN_layer_1/train_subnetwork/adanet/iteration_1/ensemble_t1_CNN_layer_1/weighted_subnetwork_1/subnetwork/conv2d/kernel/RMSProp_1 (DT_FLOAT) [3,3,3,64]\n",
      "adanet/iteration_1/ensemble_t1_CNN_layer_1/train_subnetwork/adanet/iteration_1/ensemble_t1_CNN_layer_1/weighted_subnetwork_1/subnetwork/conv2d_1/bias/RMSProp (DT_FLOAT) [128]\n",
      "adanet/iteration_1/ensemble_t1_CNN_layer_1/train_subnetwork/adanet/iteration_1/ensemble_t1_CNN_layer_1/weighted_subnetwork_1/subnetwork/conv2d_1/bias/RMSProp_1 (DT_FLOAT) [128]\n",
      "adanet/iteration_1/ensemble_t1_CNN_layer_1/train_subnetwork/adanet/iteration_1/ensemble_t1_CNN_layer_1/weighted_subnetwork_1/subnetwork/conv2d_1/kernel/RMSProp (DT_FLOAT) [3,3,64,128]\n",
      "adanet/iteration_1/ensemble_t1_CNN_layer_1/train_subnetwork/adanet/iteration_1/ensemble_t1_CNN_layer_1/weighted_subnetwork_1/subnetwork/conv2d_1/kernel/RMSProp_1 (DT_FLOAT) [3,3,64,128]\n",
      "adanet/iteration_1/ensemble_t1_CNN_layer_1/train_subnetwork/adanet/iteration_1/ensemble_t1_CNN_layer_1/weighted_subnetwork_1/subnetwork/dense/bias/RMSProp (DT_FLOAT) [100]\n",
      "adanet/iteration_1/ensemble_t1_CNN_layer_1/train_subnetwork/adanet/iteration_1/ensemble_t1_CNN_layer_1/weighted_subnetwork_1/subnetwork/dense/bias/RMSProp_1 (DT_FLOAT) [100]\n",
      "adanet/iteration_1/ensemble_t1_CNN_layer_1/train_subnetwork/adanet/iteration_1/ensemble_t1_CNN_layer_1/weighted_subnetwork_1/subnetwork/dense/kernel/RMSProp (DT_FLOAT) [401408,100]\n",
      "adanet/iteration_1/ensemble_t1_CNN_layer_1/train_subnetwork/adanet/iteration_1/ensemble_t1_CNN_layer_1/weighted_subnetwork_1/subnetwork/dense/kernel/RMSProp_1 (DT_FLOAT) [401408,100]\n",
      "adanet/iteration_1/ensemble_t1_CNN_layer_1/train_subnetwork/adanet/iteration_1/ensemble_t1_CNN_layer_1/weighted_subnetwork_1/subnetwork/dense_1/bias/RMSProp (DT_FLOAT) [3]\n",
      "adanet/iteration_1/ensemble_t1_CNN_layer_1/train_subnetwork/adanet/iteration_1/ensemble_t1_CNN_layer_1/weighted_subnetwork_1/subnetwork/dense_1/bias/RMSProp_1 (DT_FLOAT) [3]\n",
      "adanet/iteration_1/ensemble_t1_CNN_layer_1/train_subnetwork/adanet/iteration_1/ensemble_t1_CNN_layer_1/weighted_subnetwork_1/subnetwork/dense_1/kernel/RMSProp (DT_FLOAT) [100,3]\n",
      "adanet/iteration_1/ensemble_t1_CNN_layer_1/train_subnetwork/adanet/iteration_1/ensemble_t1_CNN_layer_1/weighted_subnetwork_1/subnetwork/dense_1/kernel/RMSProp_1 (DT_FLOAT) [100,3]\n",
      "adanet/iteration_1/ensemble_t1_CNN_layer_1/weighted_subnetwork_0/logits/mixture_weight (DT_FLOAT) []\n",
      "adanet/iteration_1/ensemble_t1_CNN_layer_1/weighted_subnetwork_1/logits/mixture_weight (DT_FLOAT) []\n",
      "adanet/iteration_1/ensemble_t1_CNN_layer_1/weighted_subnetwork_1/subnetwork/conv2d/bias (DT_FLOAT) [64]\n",
      "adanet/iteration_1/ensemble_t1_CNN_layer_1/weighted_subnetwork_1/subnetwork/conv2d/kernel (DT_FLOAT) [3,3,3,64]\n",
      "adanet/iteration_1/ensemble_t1_CNN_layer_1/weighted_subnetwork_1/subnetwork/conv2d_1/bias (DT_FLOAT) [128]\n",
      "adanet/iteration_1/ensemble_t1_CNN_layer_1/weighted_subnetwork_1/subnetwork/conv2d_1/kernel (DT_FLOAT) [3,3,64,128]\n",
      "adanet/iteration_1/ensemble_t1_CNN_layer_1/weighted_subnetwork_1/subnetwork/dense/bias (DT_FLOAT) [100]\n",
      "adanet/iteration_1/ensemble_t1_CNN_layer_1/weighted_subnetwork_1/subnetwork/dense/kernel (DT_FLOAT) [401408,100]\n",
      "adanet/iteration_1/ensemble_t1_CNN_layer_1/weighted_subnetwork_1/subnetwork/dense_1/bias (DT_FLOAT) [3]\n",
      "adanet/iteration_1/ensemble_t1_CNN_layer_1/weighted_subnetwork_1/subnetwork/dense_1/kernel (DT_FLOAT) [100,3]\n",
      "adanet/iteration_1/ensemble_t1_CNN_layer_2/bias (DT_FLOAT) [3]\n",
      "adanet/iteration_1/ensemble_t1_CNN_layer_2/train_subnetwork/adanet/iteration_1/ensemble_t1_CNN_layer_2/weighted_subnetwork_1/subnetwork/conv2d_2/bias/RMSProp (DT_FLOAT) [64]\n",
      "adanet/iteration_1/ensemble_t1_CNN_layer_2/train_subnetwork/adanet/iteration_1/ensemble_t1_CNN_layer_2/weighted_subnetwork_1/subnetwork/conv2d_2/bias/RMSProp_1 (DT_FLOAT) [64]\n",
      "adanet/iteration_1/ensemble_t1_CNN_layer_2/train_subnetwork/adanet/iteration_1/ensemble_t1_CNN_layer_2/weighted_subnetwork_1/subnetwork/conv2d_2/kernel/RMSProp (DT_FLOAT) [3,3,3,64]\n",
      "adanet/iteration_1/ensemble_t1_CNN_layer_2/train_subnetwork/adanet/iteration_1/ensemble_t1_CNN_layer_2/weighted_subnetwork_1/subnetwork/conv2d_2/kernel/RMSProp_1 (DT_FLOAT) [3,3,3,64]\n",
      "adanet/iteration_1/ensemble_t1_CNN_layer_2/train_subnetwork/adanet/iteration_1/ensemble_t1_CNN_layer_2/weighted_subnetwork_1/subnetwork/conv2d_3/bias/RMSProp (DT_FLOAT) [128]\n",
      "adanet/iteration_1/ensemble_t1_CNN_layer_2/train_subnetwork/adanet/iteration_1/ensemble_t1_CNN_layer_2/weighted_subnetwork_1/subnetwork/conv2d_3/bias/RMSProp_1 (DT_FLOAT) [128]\n",
      "adanet/iteration_1/ensemble_t1_CNN_layer_2/train_subnetwork/adanet/iteration_1/ensemble_t1_CNN_layer_2/weighted_subnetwork_1/subnetwork/conv2d_3/kernel/RMSProp (DT_FLOAT) [3,3,64,128]\n",
      "adanet/iteration_1/ensemble_t1_CNN_layer_2/train_subnetwork/adanet/iteration_1/ensemble_t1_CNN_layer_2/weighted_subnetwork_1/subnetwork/conv2d_3/kernel/RMSProp_1 (DT_FLOAT) [3,3,64,128]\n",
      "adanet/iteration_1/ensemble_t1_CNN_layer_2/train_subnetwork/adanet/iteration_1/ensemble_t1_CNN_layer_2/weighted_subnetwork_1/subnetwork/dense_1/bias/RMSProp (DT_FLOAT) [100]\n",
      "adanet/iteration_1/ensemble_t1_CNN_layer_2/train_subnetwork/adanet/iteration_1/ensemble_t1_CNN_layer_2/weighted_subnetwork_1/subnetwork/dense_1/bias/RMSProp_1 (DT_FLOAT) [100]\n",
      "adanet/iteration_1/ensemble_t1_CNN_layer_2/train_subnetwork/adanet/iteration_1/ensemble_t1_CNN_layer_2/weighted_subnetwork_1/subnetwork/dense_1/kernel/RMSProp (DT_FLOAT) [401408,100]\n",
      "adanet/iteration_1/ensemble_t1_CNN_layer_2/train_subnetwork/adanet/iteration_1/ensemble_t1_CNN_layer_2/weighted_subnetwork_1/subnetwork/dense_1/kernel/RMSProp_1 (DT_FLOAT) [401408,100]\n",
      "adanet/iteration_1/ensemble_t1_CNN_layer_2/train_subnetwork/adanet/iteration_1/ensemble_t1_CNN_layer_2/weighted_subnetwork_1/subnetwork/dense_2/bias/RMSProp (DT_FLOAT) [3]\n",
      "adanet/iteration_1/ensemble_t1_CNN_layer_2/train_subnetwork/adanet/iteration_1/ensemble_t1_CNN_layer_2/weighted_subnetwork_1/subnetwork/dense_2/bias/RMSProp_1 (DT_FLOAT) [3]\n",
      "adanet/iteration_1/ensemble_t1_CNN_layer_2/train_subnetwork/adanet/iteration_1/ensemble_t1_CNN_layer_2/weighted_subnetwork_1/subnetwork/dense_2/kernel/RMSProp (DT_FLOAT) [100,3]\n",
      "adanet/iteration_1/ensemble_t1_CNN_layer_2/train_subnetwork/adanet/iteration_1/ensemble_t1_CNN_layer_2/weighted_subnetwork_1/subnetwork/dense_2/kernel/RMSProp_1 (DT_FLOAT) [100,3]\n",
      "adanet/iteration_1/ensemble_t1_CNN_layer_2/weighted_subnetwork_0/logits/mixture_weight (DT_FLOAT) []\n",
      "adanet/iteration_1/ensemble_t1_CNN_layer_2/weighted_subnetwork_1/logits/mixture_weight (DT_FLOAT) []\n",
      "adanet/iteration_1/ensemble_t1_CNN_layer_2/weighted_subnetwork_1/subnetwork/conv2d/bias (DT_FLOAT) [64]\n",
      "adanet/iteration_1/ensemble_t1_CNN_layer_2/weighted_subnetwork_1/subnetwork/conv2d/kernel (DT_FLOAT) [3,3,3,64]\n",
      "adanet/iteration_1/ensemble_t1_CNN_layer_2/weighted_subnetwork_1/subnetwork/conv2d_1/bias (DT_FLOAT) [128]\n",
      "adanet/iteration_1/ensemble_t1_CNN_layer_2/weighted_subnetwork_1/subnetwork/conv2d_1/kernel (DT_FLOAT) [3,3,64,128]\n",
      "adanet/iteration_1/ensemble_t1_CNN_layer_2/weighted_subnetwork_1/subnetwork/conv2d_2/bias (DT_FLOAT) [64]\n",
      "adanet/iteration_1/ensemble_t1_CNN_layer_2/weighted_subnetwork_1/subnetwork/conv2d_2/kernel (DT_FLOAT) [3,3,3,64]\n",
      "adanet/iteration_1/ensemble_t1_CNN_layer_2/weighted_subnetwork_1/subnetwork/conv2d_3/bias (DT_FLOAT) [128]\n",
      "adanet/iteration_1/ensemble_t1_CNN_layer_2/weighted_subnetwork_1/subnetwork/conv2d_3/kernel (DT_FLOAT) [3,3,64,128]\n",
      "adanet/iteration_1/ensemble_t1_CNN_layer_2/weighted_subnetwork_1/subnetwork/dense/bias (DT_FLOAT) [100]\n",
      "adanet/iteration_1/ensemble_t1_CNN_layer_2/weighted_subnetwork_1/subnetwork/dense/kernel (DT_FLOAT) [401408,100]\n",
      "adanet/iteration_1/ensemble_t1_CNN_layer_2/weighted_subnetwork_1/subnetwork/dense_1/bias (DT_FLOAT) [100]\n",
      "adanet/iteration_1/ensemble_t1_CNN_layer_2/weighted_subnetwork_1/subnetwork/dense_1/kernel (DT_FLOAT) [401408,100]\n",
      "adanet/iteration_1/ensemble_t1_CNN_layer_2/weighted_subnetwork_1/subnetwork/dense_2/bias (DT_FLOAT) [3]\n",
      "adanet/iteration_1/ensemble_t1_CNN_layer_2/weighted_subnetwork_1/subnetwork/dense_2/kernel (DT_FLOAT) [100,3]\n",
      "adanet/iteration_1/step (DT_INT64) []\n",
      "adanet/iteration_1/train_op/is_over/is_over_var_fn/is_over_var (DT_BOOL) []\n",
      "current_iteration (DT_INT64) []\n",
      "global_step (DT_INT64) []\n",
      "\n"
     ]
    }
   ],
   "source": [
    "from tensorflow.python.tools.inspect_checkpoint import print_tensors_in_checkpoint_file\n",
    "max_iteration_steps=TRAIN_STEPS // ADANET_ITERATIONS\n",
    "\n",
    "filenale_model_check = './tmp/models/'+str(NN_TYPE)+'/model.ckpt-3'\n",
    "#print_tensors_in_checkpoint_file(file_name=filenale_model_check, tensor_name='', all_tensors=False)\n",
    "print(\"\\n----------\\n\")\n",
    "filenale_model_check = './tmp/models/'+str(NN_TYPE)+'/model.ckpt-'+str(max_iteration_steps)\n",
    "print_tensors_in_checkpoint_file(file_name=filenale_model_check, tensor_name='', all_tensors=False)\n"
   ]
  },
  {
   "cell_type": "code",
   "execution_count": 18,
   "metadata": {},
   "outputs": [],
   "source": [
    "def ensemble_architecture(result):\n",
    "  \"\"\"Extracts the ensemble architecture from evaluation results.\"\"\"\n",
    "\n",
    "  architecture = result[\"architecture/adanet/ensembles\"]\n",
    "  # The architecture is a serialized Summary proto for TensorBoard.\n",
    "  summary_proto = tf.summary.Summary.FromString(architecture)\n",
    "  return summary_proto.value[0].tensor.string_val[0]"
   ]
  },
  {
   "cell_type": "code",
   "execution_count": 19,
   "metadata": {},
   "outputs": [
    {
     "name": "stdout",
     "output_type": "stream",
     "text": [
      "Architecture: b'| CNN_layer_1 | CNN_layer_2 |'\n"
     ]
    }
   ],
   "source": [
    "print(\"Architecture:\", ensemble_architecture(results))"
   ]
  },
  {
   "cell_type": "code",
   "execution_count": 15,
   "metadata": {},
   "outputs": [],
   "source": [
    "# Architecture: b'| DNN_layer_1 | DNN_layer_2 | DNN_layer_3 |' : accuracy = 40% / Loss = 1.0883579\n",
    "# Architecture: b'| CNN_layer_1 |'  : accuracy = 32% / Loss =  1.0998582\n",
    "# Architecture: b'| CNN_layer_0 |'  : accuracy = 45% / Loss =  1.0836046"
   ]
  },
  {
   "cell_type": "code",
   "execution_count": 16,
   "metadata": {},
   "outputs": [
    {
     "data": {
      "text/plain": [
       "b'\\no\\n>adanet/iteration_1/ensemble_t1_CNN_layer_2/architecture/adanetB#\\x08\\x07\\x12\\x00B\\x1d| CNN_layer_1 | CNN_layer_2 |J\\x08\\n\\x06\\n\\x04text'"
      ]
     },
     "execution_count": 16,
     "metadata": {},
     "output_type": "execute_result"
    }
   ],
   "source": [
    "results['architecture/adanet/ensembles']"
   ]
  },
  {
   "cell_type": "code",
   "execution_count": null,
   "metadata": {},
   "outputs": [],
   "source": []
  },
  {
   "cell_type": "code",
   "execution_count": null,
   "metadata": {},
   "outputs": [],
   "source": []
  },
  {
   "cell_type": "code",
   "execution_count": null,
   "metadata": {},
   "outputs": [],
   "source": []
  }
 ],
 "metadata": {
  "accelerator": "GPU",
  "colab": {
   "collapsed_sections": [],
   "name": "Untitled0.ipynb",
   "provenance": [],
   "version": "0.3.2"
  },
  "kernelspec": {
   "display_name": "Python 3",
   "language": "python",
   "name": "python3"
  },
  "language_info": {
   "codemirror_mode": {
    "name": "ipython",
    "version": 3
   },
   "file_extension": ".py",
   "mimetype": "text/x-python",
   "name": "python",
   "nbconvert_exporter": "python",
   "pygments_lexer": "ipython3",
   "version": "3.6.8"
  }
 },
 "nbformat": 4,
 "nbformat_minor": 1
}
