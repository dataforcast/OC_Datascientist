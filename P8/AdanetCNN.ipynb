{
 "cells": [
  {
   "cell_type": "code",
   "execution_count": 1,
   "metadata": {
    "colab": {},
    "colab_type": "code",
    "id": "jOUQoPfSYUGp"
   },
   "outputs": [],
   "source": [
    "%load_ext autoreload\n",
    "%autoreload 2\n",
    "import adanet"
   ]
  },
  {
   "cell_type": "code",
   "execution_count": 1,
   "metadata": {
    "colab": {},
    "colab_type": "code",
    "id": "BUkDiPBiM7dy"
   },
   "outputs": [],
   "source": [
    "OUTPUT_DIR = './tmp/adanet'\n",
    "datadir = './data'\n",
    "is_tensorboard = True"
   ]
  },
  {
   "cell_type": "code",
   "execution_count": 2,
   "metadata": {},
   "outputs": [],
   "source": [
    "if is_tensorboard is True :\n",
    "    get_ipython().system_raw(\n",
    "        'tensorboard --logdir {} --host localhost --port 6006 &'\n",
    "        .format(OUTPUT_DIR)\n",
    "    )\n",
    "\n",
    "\n",
    "    get_ipython().system_raw('./assets/ngrok http 6006 &')"
   ]
  },
  {
   "cell_type": "code",
   "execution_count": 4,
   "metadata": {},
   "outputs": [
    {
     "name": "stdout",
     "output_type": "stream",
     "text": [
      "kill: (20788)kill: (20794)"
     ]
    }
   ],
   "source": [
    "# this will kill the processes for Tensorboard\n",
    "if is_tensorboard is True :\n",
    "    !ps aux | grep tensorboard | awk '{print $2}' | xargs kill\n",
    "\n",
    "# this will kill the processes for ngrok\n",
    "if is_tensorboard is True :\n",
    "    !ps aux | grep ngrok | awk '{print $2}' | xargs kill"
   ]
  },
  {
   "cell_type": "code",
   "execution_count": 5,
   "metadata": {},
   "outputs": [
    {
     "name": "stderr",
     "output_type": "stream",
     "text": [
      "Using TensorFlow backend.\n"
     ]
    },
    {
     "name": "stdout",
     "output_type": "stream",
     "text": [
      "p5_util.object_load : fileName= ./data/arr_keras_X_y_train_test.dump\n",
      "(414, 224, 224, 3) (47, 224, 224, 3)\n"
     ]
    }
   ],
   "source": [
    "import p8_util\n",
    "filename_dataset=datadir+'/arr_keras_X_y_train_test.dump'\n",
    "x_train, x_test, y_train, y_test, nClasses, tuple_dimension = p8_util.load_dataset(filename_dataset)\n",
    "print(x_train.shape, x_test.shape)"
   ]
  },
  {
   "cell_type": "code",
   "execution_count": 6,
   "metadata": {},
   "outputs": [
    {
     "data": {
      "text/plain": [
       "3"
      ]
     },
     "execution_count": 6,
     "metadata": {},
     "output_type": "execute_result"
    }
   ],
   "source": [
    "import p8_util_config\n",
    "p8_util_config.ADANET_MAX_ITERATION_STEPS"
   ]
  },
  {
   "cell_type": "code",
   "execution_count": 7,
   "metadata": {},
   "outputs": [
    {
     "name": "stdout",
     "output_type": "stream",
     "text": [
      "*** INFO : MyGenerator : instantiation DONE!\n",
      "INFO:tensorflow:Using config: {'_model_dir': './tmp/adanet/CNNBase', '_tf_random_seed': 42, '_save_summary_steps': 5, '_save_checkpoints_steps': 5, '_save_checkpoints_secs': None, '_session_config': allow_soft_placement: true\n",
      "graph_options {\n",
      "  rewrite_options {\n",
      "    meta_optimizer_iterations: ONE\n",
      "  }\n",
      "}\n",
      ", '_keep_checkpoint_max': 5, '_keep_checkpoint_every_n_hours': 10000, '_log_step_count_steps': 100, '_train_distribute': None, '_device_fn': None, '_protocol': None, '_eval_distribute': None, '_experimental_distribute': None, '_service': None, '_cluster_spec': <tensorflow.python.training.server_lib.ClusterSpec object at 0x7fbb19c09390>, '_task_type': 'worker', '_task_id': 0, '_global_id_in_cluster': 0, '_master': '', '_evaluation_master': '', '_is_chief': True, '_num_ps_replicas': 0, '_num_worker_replicas': 1}\n"
     ]
    }
   ],
   "source": [
    "import p8_util_config\n",
    "import NNGenerator\n",
    "\n",
    "nn_type = p8_util_config.dict_adanet_config['adanet_nn_layer_config']['nn_type']\n",
    "my_config = p8_util.make_config(nn_type,output_dir=OUTPUT_DIR, is_restored=False)\n",
    "\n",
    "nClasses = p8_util_config.dict_adanet_config['adanet_nn_layer_config']['nn_type']\n",
    "\n",
    "estimator = adanet.Estimator(\n",
    "    head=p8_util_config.dict_adanet_config['adanet_tf_head'],\n",
    "    \n",
    "    subnetwork_generator=NNGenerator.NNGenerator(p8_util_config.dict_adanet_config),\n",
    "            \n",
    "    adanet_lambda=p8_util_config.dict_adanet_config['adanet_lambda'],#0.0,#.015,\n",
    "    \n",
    "    max_iteration_steps=p8_util_config.ADANET_MAX_ITERATION_STEPS,\n",
    "    \n",
    "    evaluator=adanet.Evaluator(\n",
    "        input_fn=p8_util.input_fn(\"train\", x_train, y_train\\\n",
    "                          , p8_util_config.NUM_EPOCHS\n",
    "                          , tuple_dimension=tuple_dimension\\\n",
    "                          , batch_size=p8_util_config.BATCH_SIZE),\n",
    "        steps=None),\n",
    "    config=  my_config)"
   ]
  },
  {
   "cell_type": "code",
   "execution_count": 8,
   "metadata": {},
   "outputs": [
    {
     "name": "stdout",
     "output_type": "stream",
     "text": [
      "Trains steps= 9\n",
      "MAX Adanet steps= 3\n"
     ]
    }
   ],
   "source": [
    "import p8_util_config\n",
    "print(\"Trains steps= {}\".format(p8_util_config.TRAIN_STEPS))\n",
    "print(\"MAX Adanet steps= {}\".format(p8_util_config.ADANET_MAX_ITERATION_STEPS))"
   ]
  },
  {
   "cell_type": "code",
   "execution_count": 9,
   "metadata": {
    "colab": {
     "base_uri": "https://localhost:8080/",
     "height": 1295
    },
    "colab_type": "code",
    "executionInfo": {
     "elapsed": 2118,
     "status": "error",
     "timestamp": 1554720133634,
     "user": {
      "displayName": "FBT Telecom",
      "photoUrl": "",
      "userId": "01928442219250440173"
     },
     "user_tz": -120
    },
    "id": "_reIMFwIcDKL",
    "outputId": "5db434df-7c87-4eaf-ab11-e3a91c5425a7"
   },
   "outputs": [
    {
     "name": "stdout",
     "output_type": "stream",
     "text": [
      "INFO:tensorflow:Not using Distribute Coordinator.\n",
      "INFO:tensorflow:Running training and evaluation locally (non-distributed).\n",
      "INFO:tensorflow:Start train and evaluate loop. The evaluate will happen after every checkpoint. Checkpoint frequency is determined based on RunConfig arguments: save_checkpoints_steps 5 or save_checkpoints_secs None.\n",
      "INFO:tensorflow:Beginning training AdaNet iteration 0\n",
      "INFO:tensorflow:Calling model_fn.\n",
      "\n",
      "*** NNAdaNetBuilder : NN Type=CNNBase\n",
      "\n",
      "*** NNAdaNetBuilder : NN Type=CNNBase\n",
      "INFO:tensorflow:Building iteration 0\n",
      "INFO:tensorflow:Building subnetwork 'CNNBase_linear'\n",
      "\n",
      "\n",
      "*** build_subnetwork() : NN type= CNNBase\n",
      "INFO:tensorflow:Building subnetwork 'CNNBase_layer_1'\n",
      "\n",
      "\n",
      "*** build_subnetwork() : NN type= CNNBase\n",
      "INFO:tensorflow:Done calling model_fn.\n",
      "INFO:tensorflow:Create CheckpointSaverHook.\n",
      "INFO:tensorflow:Graph was finalized.\n",
      "INFO:tensorflow:Running local_init_op.\n",
      "INFO:tensorflow:Done running local_init_op.\n",
      "INFO:tensorflow:Saving checkpoints for 0 into ./tmp/adanet/CNNBase/model.ckpt.\n",
      "INFO:tensorflow:loss = 1.4366373, step = 1\n",
      "INFO:tensorflow:Saving checkpoints for 3 into ./tmp/adanet/CNNBase/model.ckpt.\n",
      "INFO:tensorflow:Calling model_fn.\n",
      "\n",
      "*** NNAdaNetBuilder : NN Type=CNNBase\n",
      "\n",
      "*** NNAdaNetBuilder : NN Type=CNNBase\n",
      "INFO:tensorflow:Building iteration 0\n",
      "INFO:tensorflow:Building subnetwork 'CNNBase_linear'\n",
      "\n",
      "\n",
      "*** build_subnetwork() : NN type= CNNBase\n",
      "INFO:tensorflow:Building subnetwork 'CNNBase_layer_1'\n",
      "\n",
      "\n",
      "*** build_subnetwork() : NN type= CNNBase\n",
      "INFO:tensorflow:Done calling model_fn.\n",
      "INFO:tensorflow:Starting evaluation at 2019-04-24-22:15:28\n",
      "INFO:tensorflow:Graph was finalized.\n",
      "INFO:tensorflow:Restoring parameters from ./tmp/adanet/CNNBase/model.ckpt-3\n",
      "INFO:tensorflow:Running local_init_op.\n",
      "INFO:tensorflow:Done running local_init_op.\n",
      "INFO:tensorflow:Saving candidate 't0_CNNBase_linear' dict for global step 3: accuracy/adanet/adanet_weighted_ensemble = 0.31914893, accuracy/adanet/subnetwork = 0.31914893, accuracy/adanet/uniform_average_ensemble = 0.31914893, architecture/adanet/ensembles = b'\\ng\\nAadanet/iteration_0/ensemble_t0_CNNBase_linear/architecture/adanetB\\x18\\x08\\x07\\x12\\x00B\\x12| CNNBase_linear |J\\x08\\n\\x06\\n\\x04text', average_loss/adanet/adanet_weighted_ensemble = 1.2180431, average_loss/adanet/subnetwork = 1.2181149, average_loss/adanet/uniform_average_ensemble = 1.2181149, loss/adanet/adanet_weighted_ensemble = 1.2180431, loss/adanet/subnetwork = 1.2181149, loss/adanet/uniform_average_ensemble = 1.2181149\n",
      "INFO:tensorflow:Saving candidate 't0_CNNBase_layer_1' dict for global step 3: accuracy/adanet/adanet_weighted_ensemble = 0.29787233, accuracy/adanet/subnetwork = 0.29787233, accuracy/adanet/uniform_average_ensemble = 0.29787233, architecture/adanet/ensembles = b'\\ni\\nBadanet/iteration_0/ensemble_t0_CNNBase_layer_1/architecture/adanetB\\x19\\x08\\x07\\x12\\x00B\\x13| CNNBase_layer_1 |J\\x08\\n\\x06\\n\\x04text', average_loss/adanet/adanet_weighted_ensemble = 1.0964555, average_loss/adanet/subnetwork = 1.096457, average_loss/adanet/uniform_average_ensemble = 1.096457, loss/adanet/adanet_weighted_ensemble = 1.0964555, loss/adanet/subnetwork = 1.096457, loss/adanet/uniform_average_ensemble = 1.096457\n",
      "INFO:tensorflow:Finished evaluation at 2019-04-24-22:15:29\n",
      "INFO:tensorflow:Saving dict for global step 3: accuracy = 0.29787233, accuracy/adanet/adanet_weighted_ensemble = 0.29787233, accuracy/adanet/subnetwork = 0.29787233, accuracy/adanet/uniform_average_ensemble = 0.29787233, average_loss = 1.0964555, average_loss/adanet/adanet_weighted_ensemble = 1.0964555, average_loss/adanet/subnetwork = 1.096457, average_loss/adanet/uniform_average_ensemble = 1.096457, global_step = 3, loss = 1.0964555, loss/adanet/adanet_weighted_ensemble = 1.0964555, loss/adanet/subnetwork = 1.096457, loss/adanet/uniform_average_ensemble = 1.096457\n",
      "INFO:tensorflow:Saving 'checkpoint_path' summary for global step 3: ./tmp/adanet/CNNBase/model.ckpt-3\n",
      "INFO:tensorflow:Loss for final step: 1.4560487.\n",
      "INFO:tensorflow:Finished training Adanet iteration 0\n",
      "INFO:tensorflow:Beginning bookkeeping phase for iteration 0\n",
      "\n",
      "*** NNAdaNetBuilder : NN Type=CNNBase\n",
      "\n",
      "*** NNAdaNetBuilder : NN Type=CNNBase\n",
      "INFO:tensorflow:Building iteration 0\n",
      "INFO:tensorflow:Building subnetwork 'CNNBase_linear'\n",
      "\n",
      "\n",
      "*** build_subnetwork() : NN type= CNNBase\n",
      "INFO:tensorflow:Building subnetwork 'CNNBase_layer_1'\n",
      "\n",
      "\n",
      "*** build_subnetwork() : NN type= CNNBase\n",
      "INFO:tensorflow:Starting ensemble evaluation for iteration 0\n",
      "INFO:tensorflow:Restoring parameters from ./tmp/adanet/CNNBase/model.ckpt-3\n",
      "WARNING:tensorflow:From /home/bangui/anaconda3/lib/python3.6/site-packages/adanet/core/estimator.py:729: start_queue_runners (from tensorflow.python.training.queue_runner_impl) is deprecated and will be removed in a future version.\n",
      "Instructions for updating:\n",
      "To construct input pipelines, use the `tf.data` module.\n",
      "WARNING:tensorflow:`tf.train.start_queue_runners()` was called when no queue runners were defined. You can safely remove the call to this deprecated function.\n",
      "INFO:tensorflow:Encountered end of input after 4 evaluations\n",
      "INFO:tensorflow:Computed ensemble metrics: adanet_loss/t0_CNNBase_linear = 1.126811, adanet_loss/t0_CNNBase_layer_1 = 1.113575\n",
      "INFO:tensorflow:Finished ensemble evaluation for iteration 0\n",
      "INFO:tensorflow:'t0_CNNBase_layer_1' at index 1 is moving onto the next iteration\n",
      "INFO:tensorflow:Importing architecture from ./tmp/adanet/CNNBase/architecture-0.txt: ['0:CNNBase_layer_1'].\n",
      "\n",
      "*** NNAdaNetBuilder : NN Type=CNNBase\n",
      "\n",
      "*** NNAdaNetBuilder : NN Type=CNNBase\n",
      "INFO:tensorflow:Rebuilding iteration 0\n",
      "INFO:tensorflow:Building subnetwork 'CNNBase_layer_1'\n",
      "\n",
      "\n",
      "*** build_subnetwork() : NN type= CNNBase\n",
      "INFO:tensorflow:Warm-starting from: ('./tmp/adanet/CNNBase/model.ckpt-3',)\n",
      "INFO:tensorflow:Warm-starting variable: global_step; prev_var_name: Unchanged\n",
      "INFO:tensorflow:Warm-starting variable: adanet/iteration_0/step; prev_var_name: Unchanged\n",
      "INFO:tensorflow:Warm-starting variable: adanet/iteration_0/ensemble_t0_CNNBase_layer_1/weighted_subnetwork_0/subnetwork/batch_normalization/gamma; prev_var_name: Unchanged\n",
      "INFO:tensorflow:Warm-starting variable: adanet/iteration_0/ensemble_t0_CNNBase_layer_1/weighted_subnetwork_0/subnetwork/batch_normalization/beta; prev_var_name: Unchanged\n",
      "INFO:tensorflow:Warm-starting variable: adanet/iteration_0/ensemble_t0_CNNBase_layer_1/weighted_subnetwork_0/subnetwork/batch_normalization/moving_mean; prev_var_name: Unchanged\n",
      "INFO:tensorflow:Warm-starting variable: adanet/iteration_0/ensemble_t0_CNNBase_layer_1/weighted_subnetwork_0/subnetwork/batch_normalization/moving_variance; prev_var_name: Unchanged\n",
      "INFO:tensorflow:Warm-starting variable: adanet/iteration_0/ensemble_t0_CNNBase_layer_1/weighted_subnetwork_0/subnetwork/conv2d/kernel; prev_var_name: Unchanged\n",
      "INFO:tensorflow:Warm-starting variable: adanet/iteration_0/ensemble_t0_CNNBase_layer_1/weighted_subnetwork_0/subnetwork/conv2d/bias; prev_var_name: Unchanged\n",
      "INFO:tensorflow:Warm-starting variable: adanet/iteration_0/ensemble_t0_CNNBase_layer_1/weighted_subnetwork_0/subnetwork/batch_normalization_1/gamma; prev_var_name: Unchanged\n",
      "INFO:tensorflow:Warm-starting variable: adanet/iteration_0/ensemble_t0_CNNBase_layer_1/weighted_subnetwork_0/subnetwork/batch_normalization_1/beta; prev_var_name: Unchanged\n",
      "INFO:tensorflow:Warm-starting variable: adanet/iteration_0/ensemble_t0_CNNBase_layer_1/weighted_subnetwork_0/subnetwork/batch_normalization_1/moving_mean; prev_var_name: Unchanged\n",
      "INFO:tensorflow:Warm-starting variable: adanet/iteration_0/ensemble_t0_CNNBase_layer_1/weighted_subnetwork_0/subnetwork/batch_normalization_1/moving_variance; prev_var_name: Unchanged\n",
      "INFO:tensorflow:Warm-starting variable: adanet/iteration_0/ensemble_t0_CNNBase_layer_1/weighted_subnetwork_0/subnetwork/dense/kernel; prev_var_name: Unchanged\n",
      "INFO:tensorflow:Warm-starting variable: adanet/iteration_0/ensemble_t0_CNNBase_layer_1/weighted_subnetwork_0/subnetwork/dense/bias; prev_var_name: Unchanged\n",
      "INFO:tensorflow:Warm-starting variable: adanet/iteration_0/ensemble_t0_CNNBase_layer_1/weighted_subnetwork_0/subnetwork/dense_1/kernel; prev_var_name: Unchanged\n",
      "INFO:tensorflow:Warm-starting variable: adanet/iteration_0/ensemble_t0_CNNBase_layer_1/weighted_subnetwork_0/subnetwork/dense_1/bias; prev_var_name: Unchanged\n"
     ]
    },
    {
     "name": "stdout",
     "output_type": "stream",
     "text": [
      "INFO:tensorflow:Warm-starting variable: adanet/iteration_0/ensemble_t0_CNNBase_layer_1/weighted_subnetwork_0/logits/mixture_weight; prev_var_name: Unchanged\n",
      "INFO:tensorflow:Warm-starting variable: adanet/iteration_0/ensemble_t0_CNNBase_layer_1/bias; prev_var_name: Unchanged\n",
      "INFO:tensorflow:Warm-starting variable: adanet/iteration_0/candidate_t0_CNNBase_layer_1/adanet_loss; prev_var_name: Unchanged\n",
      "INFO:tensorflow:Warm-starting variable: adanet/iteration_0/candidate_t0_CNNBase_layer_1/adanet/iteration_0/candidate_t0_CNNBase_layer_1/adanet_loss/biased; prev_var_name: Unchanged\n",
      "INFO:tensorflow:Warm-starting variable: adanet/iteration_0/candidate_t0_CNNBase_layer_1/adanet/iteration_0/candidate_t0_CNNBase_layer_1/adanet_loss/local_step; prev_var_name: Unchanged\n",
      "INFO:tensorflow:Warm-starting variable: adanet/iteration_0/train_op/is_over/is_over_var_fn/is_over_var; prev_var_name: Unchanged\n",
      "\n",
      "*** NNAdaNetBuilder : NN Type=CNNBase\n",
      "\n",
      "*** NNAdaNetBuilder : NN Type=CNNBase\n",
      "INFO:tensorflow:Building iteration 1\n",
      "INFO:tensorflow:Building subnetwork 'CNNBase_layer_1'\n",
      "\n",
      "\n",
      "*** build_subnetwork() : NN type= CNNBase\n",
      "INFO:tensorflow:Building subnetwork 'CNNBase_layer_2'\n",
      "\n",
      "\n",
      "*** build_subnetwork() : NN type= CNNBase\n",
      "INFO:tensorflow:Overwriting checkpoint with new graph for iteration 1 to ./tmp/adanet/CNNBase/model.ckpt-3\n",
      "WARNING:tensorflow:`tf.train.start_queue_runners()` was called when no queue runners were defined. You can safely remove the call to this deprecated function.\n",
      "INFO:tensorflow:Finished bookkeeping phase for iteration 0\n",
      "INFO:tensorflow:Beginning training AdaNet iteration 1\n",
      "INFO:tensorflow:Calling model_fn.\n",
      "INFO:tensorflow:Importing architecture from ./tmp/adanet/CNNBase/architecture-0.txt: ['0:CNNBase_layer_1'].\n",
      "\n",
      "*** NNAdaNetBuilder : NN Type=CNNBase\n",
      "\n",
      "*** NNAdaNetBuilder : NN Type=CNNBase\n",
      "INFO:tensorflow:Rebuilding iteration 0\n",
      "INFO:tensorflow:Building subnetwork 'CNNBase_layer_1'\n",
      "\n",
      "\n",
      "*** build_subnetwork() : NN type= CNNBase\n",
      "\n",
      "*** NNAdaNetBuilder : NN Type=CNNBase\n",
      "\n",
      "*** NNAdaNetBuilder : NN Type=CNNBase\n",
      "INFO:tensorflow:Building iteration 1\n",
      "INFO:tensorflow:Building subnetwork 'CNNBase_layer_1'\n",
      "\n",
      "\n",
      "*** build_subnetwork() : NN type= CNNBase\n",
      "INFO:tensorflow:Building subnetwork 'CNNBase_layer_2'\n",
      "\n",
      "\n",
      "*** build_subnetwork() : NN type= CNNBase\n",
      "INFO:tensorflow:Done calling model_fn.\n",
      "INFO:tensorflow:Create CheckpointSaverHook.\n",
      "INFO:tensorflow:Graph was finalized.\n",
      "INFO:tensorflow:Restoring parameters from ./tmp/adanet/CNNBase/increment.ckpt-1\n",
      "INFO:tensorflow:Running local_init_op.\n",
      "INFO:tensorflow:Done running local_init_op.\n",
      "INFO:tensorflow:Saving checkpoints for 3 into ./tmp/adanet/CNNBase/model.ckpt.\n",
      "INFO:tensorflow:loss = 1.0982871, step = 4\n",
      "INFO:tensorflow:Saving checkpoints for 6 into ./tmp/adanet/CNNBase/model.ckpt.\n",
      "INFO:tensorflow:Calling model_fn.\n",
      "INFO:tensorflow:Importing architecture from ./tmp/adanet/CNNBase/architecture-0.txt: ['0:CNNBase_layer_1'].\n",
      "\n",
      "*** NNAdaNetBuilder : NN Type=CNNBase\n",
      "\n",
      "*** NNAdaNetBuilder : NN Type=CNNBase\n",
      "INFO:tensorflow:Rebuilding iteration 0\n",
      "INFO:tensorflow:Building subnetwork 'CNNBase_layer_1'\n",
      "\n",
      "\n",
      "*** build_subnetwork() : NN type= CNNBase\n",
      "\n",
      "*** NNAdaNetBuilder : NN Type=CNNBase\n",
      "\n",
      "*** NNAdaNetBuilder : NN Type=CNNBase\n",
      "INFO:tensorflow:Building iteration 1\n",
      "INFO:tensorflow:Building subnetwork 'CNNBase_layer_1'\n",
      "\n",
      "\n",
      "*** build_subnetwork() : NN type= CNNBase\n",
      "INFO:tensorflow:Building subnetwork 'CNNBase_layer_2'\n",
      "\n",
      "\n",
      "*** build_subnetwork() : NN type= CNNBase\n",
      "INFO:tensorflow:Done calling model_fn.\n",
      "INFO:tensorflow:Starting evaluation at 2019-04-24-22:16:02\n",
      "INFO:tensorflow:Graph was finalized.\n",
      "INFO:tensorflow:Restoring parameters from ./tmp/adanet/CNNBase/model.ckpt-6\n",
      "INFO:tensorflow:Running local_init_op.\n",
      "INFO:tensorflow:Done running local_init_op.\n",
      "INFO:tensorflow:Saving candidate 't0_CNNBase_layer_1' dict for global step 6: accuracy/adanet/adanet_weighted_ensemble = 0.29787233, accuracy/adanet/subnetwork = 0.29787233, accuracy/adanet/uniform_average_ensemble = 0.29787233, architecture/adanet/ensembles = b'\\ni\\nBadanet/iteration_0/ensemble_t0_CNNBase_layer_1/architecture/adanetB\\x19\\x08\\x07\\x12\\x00B\\x13| CNNBase_layer_1 |J\\x08\\n\\x06\\n\\x04text', average_loss/adanet/adanet_weighted_ensemble = 1.0964555, average_loss/adanet/subnetwork = 1.096457, average_loss/adanet/uniform_average_ensemble = 1.096457, loss/adanet/adanet_weighted_ensemble = 1.0964555, loss/adanet/subnetwork = 1.096457, loss/adanet/uniform_average_ensemble = 1.096457\n",
      "INFO:tensorflow:Saving candidate 't1_CNNBase_layer_1' dict for global step 6: accuracy/adanet/adanet_weighted_ensemble = 0.3617021, accuracy/adanet/subnetwork = 0.34042552, accuracy/adanet/uniform_average_ensemble = 0.3617021, architecture/adanet/ensembles = b'\\n{\\nBadanet/iteration_1/ensemble_t1_CNNBase_layer_1/architecture/adanetB+\\x08\\x07\\x12\\x00B%| CNNBase_layer_1 | CNNBase_layer_1 |J\\x08\\n\\x06\\n\\x04text', average_loss/adanet/adanet_weighted_ensemble = 1.0939392, average_loss/adanet/subnetwork = 1.0942616, average_loss/adanet/uniform_average_ensemble = 1.0939391, loss/adanet/adanet_weighted_ensemble = 1.0939392, loss/adanet/subnetwork = 1.0942616, loss/adanet/uniform_average_ensemble = 1.0939391\n",
      "INFO:tensorflow:Saving candidate 't1_CNNBase_layer_2' dict for global step 6: accuracy/adanet/adanet_weighted_ensemble = 0.34042552, accuracy/adanet/subnetwork = 0.31914893, accuracy/adanet/uniform_average_ensemble = 0.34042552, architecture/adanet/ensembles = b'\\n{\\nBadanet/iteration_1/ensemble_t1_CNNBase_layer_2/architecture/adanetB+\\x08\\x07\\x12\\x00B%| CNNBase_layer_1 | CNNBase_layer_2 |J\\x08\\n\\x06\\n\\x04text', average_loss/adanet/adanet_weighted_ensemble = 1.1044943, average_loss/adanet/subnetwork = 1.1232375, average_loss/adanet/uniform_average_ensemble = 1.1044995, loss/adanet/adanet_weighted_ensemble = 1.1044943, loss/adanet/subnetwork = 1.1232375, loss/adanet/uniform_average_ensemble = 1.1044995\n",
      "INFO:tensorflow:Finished evaluation at 2019-04-24-22:16:04\n",
      "INFO:tensorflow:Saving dict for global step 6: accuracy = 0.29787233, accuracy/adanet/adanet_weighted_ensemble = 0.29787233, accuracy/adanet/subnetwork = 0.29787233, accuracy/adanet/uniform_average_ensemble = 0.29787233, average_loss = 1.0964555, average_loss/adanet/adanet_weighted_ensemble = 1.0964555, average_loss/adanet/subnetwork = 1.096457, average_loss/adanet/uniform_average_ensemble = 1.096457, global_step = 6, loss = 1.0964555, loss/adanet/adanet_weighted_ensemble = 1.0964555, loss/adanet/subnetwork = 1.096457, loss/adanet/uniform_average_ensemble = 1.096457\n",
      "INFO:tensorflow:Saving 'checkpoint_path' summary for global step 6: ./tmp/adanet/CNNBase/model.ckpt-6\n",
      "INFO:tensorflow:Loss for final step: 1.0851091.\n",
      "INFO:tensorflow:Finished training Adanet iteration 1\n",
      "INFO:tensorflow:Beginning bookkeeping phase for iteration 1\n",
      "INFO:tensorflow:Importing architecture from ./tmp/adanet/CNNBase/architecture-0.txt: ['0:CNNBase_layer_1'].\n",
      "\n",
      "*** NNAdaNetBuilder : NN Type=CNNBase\n",
      "\n",
      "*** NNAdaNetBuilder : NN Type=CNNBase\n",
      "INFO:tensorflow:Rebuilding iteration 0\n",
      "INFO:tensorflow:Building subnetwork 'CNNBase_layer_1'\n",
      "\n",
      "\n",
      "*** build_subnetwork() : NN type= CNNBase\n",
      "\n",
      "*** NNAdaNetBuilder : NN Type=CNNBase\n",
      "\n",
      "*** NNAdaNetBuilder : NN Type=CNNBase\n",
      "INFO:tensorflow:Building iteration 1\n",
      "INFO:tensorflow:Building subnetwork 'CNNBase_layer_1'\n",
      "\n",
      "\n",
      "*** build_subnetwork() : NN type= CNNBase\n",
      "INFO:tensorflow:Building subnetwork 'CNNBase_layer_2'\n",
      "\n",
      "\n",
      "*** build_subnetwork() : NN type= CNNBase\n",
      "INFO:tensorflow:Starting ensemble evaluation for iteration 1\n",
      "INFO:tensorflow:Restoring parameters from ./tmp/adanet/CNNBase/model.ckpt-6\n",
      "WARNING:tensorflow:`tf.train.start_queue_runners()` was called when no queue runners were defined. You can safely remove the call to this deprecated function.\n",
      "INFO:tensorflow:Encountered end of input after 4 evaluations\n",
      "INFO:tensorflow:Computed ensemble metrics: adanet_loss/t0_CNNBase_layer_1 = 1.113575, adanet_loss/t1_CNNBase_layer_1 = 1.112036, adanet_loss/t1_CNNBase_layer_2 = 1.124112\n",
      "INFO:tensorflow:Finished ensemble evaluation for iteration 1\n",
      "INFO:tensorflow:'t1_CNNBase_layer_1' at index 1 is moving onto the next iteration\n",
      "INFO:tensorflow:Importing architecture from ./tmp/adanet/CNNBase/architecture-1.txt: ['0:CNNBase_layer_1', '1:CNNBase_layer_1'].\n",
      "\n",
      "*** NNAdaNetBuilder : NN Type=CNNBase\n",
      "\n",
      "*** NNAdaNetBuilder : NN Type=CNNBase\n",
      "INFO:tensorflow:Rebuilding iteration 0\n"
     ]
    },
    {
     "name": "stdout",
     "output_type": "stream",
     "text": [
      "INFO:tensorflow:Building subnetwork 'CNNBase_layer_1'\n",
      "\n",
      "\n",
      "*** build_subnetwork() : NN type= CNNBase\n",
      "\n",
      "*** NNAdaNetBuilder : NN Type=CNNBase\n",
      "\n",
      "*** NNAdaNetBuilder : NN Type=CNNBase\n",
      "INFO:tensorflow:Rebuilding iteration 1\n",
      "INFO:tensorflow:Building subnetwork 'CNNBase_layer_1'\n",
      "\n",
      "\n",
      "*** build_subnetwork() : NN type= CNNBase\n",
      "INFO:tensorflow:Warm-starting from: ('./tmp/adanet/CNNBase/model.ckpt-6',)\n",
      "INFO:tensorflow:Warm-starting variable: global_step; prev_var_name: Unchanged\n",
      "INFO:tensorflow:Warm-starting variable: adanet/iteration_0/step; prev_var_name: Unchanged\n",
      "INFO:tensorflow:Warm-starting variable: adanet/iteration_0/ensemble_t0_CNNBase_layer_1/weighted_subnetwork_0/subnetwork/batch_normalization/gamma; prev_var_name: Unchanged\n",
      "INFO:tensorflow:Warm-starting variable: adanet/iteration_0/ensemble_t0_CNNBase_layer_1/weighted_subnetwork_0/subnetwork/batch_normalization/beta; prev_var_name: Unchanged\n",
      "INFO:tensorflow:Warm-starting variable: adanet/iteration_0/ensemble_t0_CNNBase_layer_1/weighted_subnetwork_0/subnetwork/batch_normalization/moving_mean; prev_var_name: Unchanged\n",
      "INFO:tensorflow:Warm-starting variable: adanet/iteration_0/ensemble_t0_CNNBase_layer_1/weighted_subnetwork_0/subnetwork/batch_normalization/moving_variance; prev_var_name: Unchanged\n",
      "INFO:tensorflow:Warm-starting variable: adanet/iteration_0/ensemble_t0_CNNBase_layer_1/weighted_subnetwork_0/subnetwork/conv2d/kernel; prev_var_name: Unchanged\n",
      "INFO:tensorflow:Warm-starting variable: adanet/iteration_0/ensemble_t0_CNNBase_layer_1/weighted_subnetwork_0/subnetwork/conv2d/bias; prev_var_name: Unchanged\n",
      "INFO:tensorflow:Warm-starting variable: adanet/iteration_0/ensemble_t0_CNNBase_layer_1/weighted_subnetwork_0/subnetwork/batch_normalization_1/gamma; prev_var_name: Unchanged\n",
      "INFO:tensorflow:Warm-starting variable: adanet/iteration_0/ensemble_t0_CNNBase_layer_1/weighted_subnetwork_0/subnetwork/batch_normalization_1/beta; prev_var_name: Unchanged\n",
      "INFO:tensorflow:Warm-starting variable: adanet/iteration_0/ensemble_t0_CNNBase_layer_1/weighted_subnetwork_0/subnetwork/batch_normalization_1/moving_mean; prev_var_name: Unchanged\n",
      "INFO:tensorflow:Warm-starting variable: adanet/iteration_0/ensemble_t0_CNNBase_layer_1/weighted_subnetwork_0/subnetwork/batch_normalization_1/moving_variance; prev_var_name: Unchanged\n",
      "INFO:tensorflow:Warm-starting variable: adanet/iteration_0/ensemble_t0_CNNBase_layer_1/weighted_subnetwork_0/subnetwork/dense/kernel; prev_var_name: Unchanged\n",
      "INFO:tensorflow:Warm-starting variable: adanet/iteration_0/ensemble_t0_CNNBase_layer_1/weighted_subnetwork_0/subnetwork/dense/bias; prev_var_name: Unchanged\n",
      "INFO:tensorflow:Warm-starting variable: adanet/iteration_0/ensemble_t0_CNNBase_layer_1/weighted_subnetwork_0/subnetwork/dense_1/kernel; prev_var_name: Unchanged\n",
      "INFO:tensorflow:Warm-starting variable: adanet/iteration_0/ensemble_t0_CNNBase_layer_1/weighted_subnetwork_0/subnetwork/dense_1/bias; prev_var_name: Unchanged\n",
      "INFO:tensorflow:Warm-starting variable: adanet/iteration_0/ensemble_t0_CNNBase_layer_1/weighted_subnetwork_0/logits/mixture_weight; prev_var_name: Unchanged\n",
      "INFO:tensorflow:Warm-starting variable: adanet/iteration_0/ensemble_t0_CNNBase_layer_1/bias; prev_var_name: Unchanged\n",
      "INFO:tensorflow:Warm-starting variable: adanet/iteration_0/candidate_t0_CNNBase_layer_1/adanet_loss; prev_var_name: Unchanged\n",
      "INFO:tensorflow:Warm-starting variable: adanet/iteration_0/candidate_t0_CNNBase_layer_1/adanet/iteration_0/candidate_t0_CNNBase_layer_1/adanet_loss/biased; prev_var_name: Unchanged\n",
      "INFO:tensorflow:Warm-starting variable: adanet/iteration_0/candidate_t0_CNNBase_layer_1/adanet/iteration_0/candidate_t0_CNNBase_layer_1/adanet_loss/local_step; prev_var_name: Unchanged\n",
      "INFO:tensorflow:Warm-starting variable: adanet/iteration_0/train_op/is_over/is_over_var_fn/is_over_var; prev_var_name: Unchanged\n",
      "INFO:tensorflow:Warm-starting variable: adanet/iteration_1/step; prev_var_name: Unchanged\n",
      "INFO:tensorflow:Warm-starting variable: adanet/iteration_1/candidate_t0_CNNBase_layer_1/adanet_loss; prev_var_name: Unchanged\n",
      "INFO:tensorflow:Warm-starting variable: adanet/iteration_1/candidate_t0_CNNBase_layer_1/adanet/iteration_1/candidate_t0_CNNBase_layer_1/adanet_loss/biased; prev_var_name: Unchanged\n",
      "INFO:tensorflow:Warm-starting variable: adanet/iteration_1/candidate_t0_CNNBase_layer_1/adanet/iteration_1/candidate_t0_CNNBase_layer_1/adanet_loss/local_step; prev_var_name: Unchanged\n",
      "INFO:tensorflow:Warm-starting variable: adanet/iteration_1/ensemble_t1_CNNBase_layer_1/weighted_subnetwork_0/logits/mixture_weight; prev_var_name: Unchanged\n",
      "INFO:tensorflow:Warm-starting variable: adanet/iteration_1/ensemble_t1_CNNBase_layer_1/weighted_subnetwork_1/subnetwork/batch_normalization/gamma; prev_var_name: Unchanged\n",
      "INFO:tensorflow:Warm-starting variable: adanet/iteration_1/ensemble_t1_CNNBase_layer_1/weighted_subnetwork_1/subnetwork/batch_normalization/beta; prev_var_name: Unchanged\n",
      "INFO:tensorflow:Warm-starting variable: adanet/iteration_1/ensemble_t1_CNNBase_layer_1/weighted_subnetwork_1/subnetwork/batch_normalization/moving_mean; prev_var_name: Unchanged\n",
      "INFO:tensorflow:Warm-starting variable: adanet/iteration_1/ensemble_t1_CNNBase_layer_1/weighted_subnetwork_1/subnetwork/batch_normalization/moving_variance; prev_var_name: Unchanged\n",
      "INFO:tensorflow:Warm-starting variable: adanet/iteration_1/ensemble_t1_CNNBase_layer_1/weighted_subnetwork_1/subnetwork/conv2d/kernel; prev_var_name: Unchanged\n",
      "INFO:tensorflow:Warm-starting variable: adanet/iteration_1/ensemble_t1_CNNBase_layer_1/weighted_subnetwork_1/subnetwork/conv2d/bias; prev_var_name: Unchanged\n",
      "INFO:tensorflow:Warm-starting variable: adanet/iteration_1/ensemble_t1_CNNBase_layer_1/weighted_subnetwork_1/subnetwork/batch_normalization_1/gamma; prev_var_name: Unchanged\n",
      "INFO:tensorflow:Warm-starting variable: adanet/iteration_1/ensemble_t1_CNNBase_layer_1/weighted_subnetwork_1/subnetwork/batch_normalization_1/beta; prev_var_name: Unchanged\n",
      "INFO:tensorflow:Warm-starting variable: adanet/iteration_1/ensemble_t1_CNNBase_layer_1/weighted_subnetwork_1/subnetwork/batch_normalization_1/moving_mean; prev_var_name: Unchanged\n",
      "INFO:tensorflow:Warm-starting variable: adanet/iteration_1/ensemble_t1_CNNBase_layer_1/weighted_subnetwork_1/subnetwork/batch_normalization_1/moving_variance; prev_var_name: Unchanged\n",
      "INFO:tensorflow:Warm-starting variable: adanet/iteration_1/ensemble_t1_CNNBase_layer_1/weighted_subnetwork_1/subnetwork/dense/kernel; prev_var_name: Unchanged\n",
      "INFO:tensorflow:Warm-starting variable: adanet/iteration_1/ensemble_t1_CNNBase_layer_1/weighted_subnetwork_1/subnetwork/dense/bias; prev_var_name: Unchanged\n",
      "INFO:tensorflow:Warm-starting variable: adanet/iteration_1/ensemble_t1_CNNBase_layer_1/weighted_subnetwork_1/subnetwork/dense_1/kernel; prev_var_name: Unchanged\n",
      "INFO:tensorflow:Warm-starting variable: adanet/iteration_1/ensemble_t1_CNNBase_layer_1/weighted_subnetwork_1/subnetwork/dense_1/bias; prev_var_name: Unchanged\n",
      "INFO:tensorflow:Warm-starting variable: adanet/iteration_1/ensemble_t1_CNNBase_layer_1/weighted_subnetwork_1/logits/mixture_weight; prev_var_name: Unchanged\n",
      "INFO:tensorflow:Warm-starting variable: adanet/iteration_1/ensemble_t1_CNNBase_layer_1/bias; prev_var_name: Unchanged\n",
      "INFO:tensorflow:Warm-starting variable: adanet/iteration_1/candidate_t1_CNNBase_layer_1/adanet_loss; prev_var_name: Unchanged\n",
      "INFO:tensorflow:Warm-starting variable: adanet/iteration_1/candidate_t1_CNNBase_layer_1/adanet/iteration_1/candidate_t1_CNNBase_layer_1/adanet_loss/biased; prev_var_name: Unchanged\n",
      "INFO:tensorflow:Warm-starting variable: adanet/iteration_1/candidate_t1_CNNBase_layer_1/adanet/iteration_1/candidate_t1_CNNBase_layer_1/adanet_loss/local_step; prev_var_name: Unchanged\n",
      "INFO:tensorflow:Warm-starting variable: adanet/iteration_1/train_op/is_over/is_over_var_fn/is_over_var; prev_var_name: Unchanged\n",
      "\n",
      "*** NNAdaNetBuilder : NN Type=CNNBase\n",
      "\n",
      "*** NNAdaNetBuilder : NN Type=CNNBase\n",
      "INFO:tensorflow:Building iteration 2\n",
      "INFO:tensorflow:Building subnetwork 'CNNBase_layer_1'\n",
      "\n",
      "\n",
      "*** build_subnetwork() : NN type= CNNBase\n",
      "INFO:tensorflow:Building subnetwork 'CNNBase_layer_2'\n",
      "\n",
      "\n",
      "*** build_subnetwork() : NN type= CNNBase\n",
      "INFO:tensorflow:Overwriting checkpoint with new graph for iteration 2 to ./tmp/adanet/CNNBase/model.ckpt-6\n"
     ]
    },
    {
     "name": "stdout",
     "output_type": "stream",
     "text": [
      "WARNING:tensorflow:`tf.train.start_queue_runners()` was called when no queue runners were defined. You can safely remove the call to this deprecated function.\n",
      "INFO:tensorflow:Finished bookkeeping phase for iteration 1\n",
      "INFO:tensorflow:Beginning training AdaNet iteration 2\n",
      "INFO:tensorflow:Calling model_fn.\n",
      "INFO:tensorflow:Importing architecture from ./tmp/adanet/CNNBase/architecture-1.txt: ['0:CNNBase_layer_1', '1:CNNBase_layer_1'].\n",
      "\n",
      "*** NNAdaNetBuilder : NN Type=CNNBase\n",
      "\n",
      "*** NNAdaNetBuilder : NN Type=CNNBase\n",
      "INFO:tensorflow:Rebuilding iteration 0\n",
      "INFO:tensorflow:Building subnetwork 'CNNBase_layer_1'\n",
      "\n",
      "\n",
      "*** build_subnetwork() : NN type= CNNBase\n",
      "\n",
      "*** NNAdaNetBuilder : NN Type=CNNBase\n",
      "\n",
      "*** NNAdaNetBuilder : NN Type=CNNBase\n",
      "INFO:tensorflow:Rebuilding iteration 1\n",
      "INFO:tensorflow:Building subnetwork 'CNNBase_layer_1'\n",
      "\n",
      "\n",
      "*** build_subnetwork() : NN type= CNNBase\n",
      "\n",
      "*** NNAdaNetBuilder : NN Type=CNNBase\n",
      "\n",
      "*** NNAdaNetBuilder : NN Type=CNNBase\n",
      "INFO:tensorflow:Building iteration 2\n",
      "INFO:tensorflow:Building subnetwork 'CNNBase_layer_1'\n",
      "\n",
      "\n",
      "*** build_subnetwork() : NN type= CNNBase\n",
      "INFO:tensorflow:Building subnetwork 'CNNBase_layer_2'\n",
      "\n",
      "\n",
      "*** build_subnetwork() : NN type= CNNBase\n",
      "INFO:tensorflow:Done calling model_fn.\n",
      "INFO:tensorflow:Create CheckpointSaverHook.\n",
      "INFO:tensorflow:Graph was finalized.\n",
      "INFO:tensorflow:Restoring parameters from ./tmp/adanet/CNNBase/increment.ckpt-2\n",
      "INFO:tensorflow:Running local_init_op.\n",
      "INFO:tensorflow:Done running local_init_op.\n",
      "INFO:tensorflow:Saving checkpoints for 6 into ./tmp/adanet/CNNBase/model.ckpt.\n",
      "INFO:tensorflow:loss = 1.0964439, step = 7\n",
      "INFO:tensorflow:Saving checkpoints for 9 into ./tmp/adanet/CNNBase/model.ckpt.\n",
      "INFO:tensorflow:Calling model_fn.\n",
      "INFO:tensorflow:Importing architecture from ./tmp/adanet/CNNBase/architecture-1.txt: ['0:CNNBase_layer_1', '1:CNNBase_layer_1'].\n",
      "\n",
      "*** NNAdaNetBuilder : NN Type=CNNBase\n",
      "\n",
      "*** NNAdaNetBuilder : NN Type=CNNBase\n",
      "INFO:tensorflow:Rebuilding iteration 0\n",
      "INFO:tensorflow:Building subnetwork 'CNNBase_layer_1'\n",
      "\n",
      "\n",
      "*** build_subnetwork() : NN type= CNNBase\n",
      "\n",
      "*** NNAdaNetBuilder : NN Type=CNNBase\n",
      "\n",
      "*** NNAdaNetBuilder : NN Type=CNNBase\n",
      "INFO:tensorflow:Rebuilding iteration 1\n",
      "INFO:tensorflow:Building subnetwork 'CNNBase_layer_1'\n",
      "\n",
      "\n",
      "*** build_subnetwork() : NN type= CNNBase\n",
      "\n",
      "*** NNAdaNetBuilder : NN Type=CNNBase\n",
      "\n",
      "*** NNAdaNetBuilder : NN Type=CNNBase\n",
      "INFO:tensorflow:Building iteration 2\n",
      "INFO:tensorflow:Building subnetwork 'CNNBase_layer_1'\n",
      "\n",
      "\n",
      "*** build_subnetwork() : NN type= CNNBase\n",
      "INFO:tensorflow:Building subnetwork 'CNNBase_layer_2'\n",
      "\n",
      "\n",
      "*** build_subnetwork() : NN type= CNNBase\n",
      "INFO:tensorflow:Done calling model_fn.\n",
      "INFO:tensorflow:Starting evaluation at 2019-04-24-22:16:50\n",
      "INFO:tensorflow:Graph was finalized.\n",
      "INFO:tensorflow:Restoring parameters from ./tmp/adanet/CNNBase/model.ckpt-9\n",
      "INFO:tensorflow:Running local_init_op.\n",
      "INFO:tensorflow:Done running local_init_op.\n",
      "INFO:tensorflow:Saving candidate 't1_CNNBase_layer_1' dict for global step 9: accuracy/adanet/adanet_weighted_ensemble = 0.3617021, accuracy/adanet/subnetwork = 0.34042552, accuracy/adanet/uniform_average_ensemble = 0.3617021, architecture/adanet/ensembles = b'\\n{\\nBadanet/iteration_1/ensemble_t1_CNNBase_layer_1/architecture/adanetB+\\x08\\x07\\x12\\x00B%| CNNBase_layer_1 | CNNBase_layer_1 |J\\x08\\n\\x06\\n\\x04text', average_loss/adanet/adanet_weighted_ensemble = 1.0939392, average_loss/adanet/subnetwork = 1.0942616, average_loss/adanet/uniform_average_ensemble = 1.0939391, loss/adanet/adanet_weighted_ensemble = 1.0939392, loss/adanet/subnetwork = 1.0942616, loss/adanet/uniform_average_ensemble = 1.0939391\n",
      "INFO:tensorflow:Saving candidate 't2_CNNBase_layer_1' dict for global step 9: accuracy/adanet/adanet_weighted_ensemble = 0.38297874, accuracy/adanet/subnetwork = 0.38297874, accuracy/adanet/uniform_average_ensemble = 0.38297874, architecture/adanet/ensembles = b'\\n\\x8d\\x01\\nBadanet/iteration_2/ensemble_t2_CNNBase_layer_1/architecture/adanetB=\\x08\\x07\\x12\\x00B7| CNNBase_layer_1 | CNNBase_layer_1 | CNNBase_layer_1 |J\\x08\\n\\x06\\n\\x04text', average_loss/adanet/adanet_weighted_ensemble = 1.0919487, average_loss/adanet/subnetwork = 1.0948448, average_loss/adanet/uniform_average_ensemble = 1.0919489, loss/adanet/adanet_weighted_ensemble = 1.0919487, loss/adanet/subnetwork = 1.0948448, loss/adanet/uniform_average_ensemble = 1.0919489\n",
      "INFO:tensorflow:Saving candidate 't2_CNNBase_layer_2' dict for global step 9: accuracy/adanet/adanet_weighted_ensemble = 0.38297874, accuracy/adanet/subnetwork = 0.31914893, accuracy/adanet/uniform_average_ensemble = 0.38297874, architecture/adanet/ensembles = b'\\n\\x8d\\x01\\nBadanet/iteration_2/ensemble_t2_CNNBase_layer_2/architecture/adanetB=\\x08\\x07\\x12\\x00B7| CNNBase_layer_1 | CNNBase_layer_1 | CNNBase_layer_2 |J\\x08\\n\\x06\\n\\x04text', average_loss/adanet/adanet_weighted_ensemble = 1.0945606, average_loss/adanet/subnetwork = 1.1023301, average_loss/adanet/uniform_average_ensemble = 1.0945611, loss/adanet/adanet_weighted_ensemble = 1.0945606, loss/adanet/subnetwork = 1.1023301, loss/adanet/uniform_average_ensemble = 1.0945611\n",
      "INFO:tensorflow:Finished evaluation at 2019-04-24-22:16:53\n",
      "INFO:tensorflow:Saving dict for global step 9: accuracy = 0.38297874, accuracy/adanet/adanet_weighted_ensemble = 0.38297874, accuracy/adanet/subnetwork = 0.38297874, accuracy/adanet/uniform_average_ensemble = 0.38297874, average_loss = 1.0919487, average_loss/adanet/adanet_weighted_ensemble = 1.0919487, average_loss/adanet/subnetwork = 1.0948448, average_loss/adanet/uniform_average_ensemble = 1.0919489, global_step = 9, loss = 1.0919487, loss/adanet/adanet_weighted_ensemble = 1.0919487, loss/adanet/subnetwork = 1.0948448, loss/adanet/uniform_average_ensemble = 1.0919489\n",
      "INFO:tensorflow:Saving 'checkpoint_path' summary for global step 9: ./tmp/adanet/CNNBase/model.ckpt-9\n",
      "INFO:tensorflow:Loss for final step: 1.0481001.\n",
      "INFO:tensorflow:Finished training Adanet iteration 2\n"
     ]
    }
   ],
   "source": [
    "import time\n",
    "import tensorflow as tf\n",
    "\n",
    "start_time = time.time()\n",
    "results, _ = tf.estimator.train_and_evaluate(\n",
    "    estimator,\n",
    "    train_spec=tf.estimator.TrainSpec(\n",
    "        input_fn= p8_util.input_fn(\"train\"\n",
    "                           , x_train\n",
    "                           , y_train, p8_util_config.NUM_EPOCHS \\\n",
    "                           , tuple_dimension=tuple_dimension\\\n",
    "                           , batch_size=p8_util_config.BATCH_SIZE),\n",
    "        max_steps=p8_util_config.TRAIN_STEPS),\n",
    "    eval_spec=tf.estimator.EvalSpec(\n",
    "        input_fn= p8_util.input_fn(\"test\"\n",
    "                                   , x_test\n",
    "                                   , y_test\n",
    "                                   , p8_util_config.NUM_EPOCHS\\\n",
    "                                   , tuple_dimension=tuple_dimension\\\n",
    "                                   , batch_size=p8_util_config.BATCH_SIZE),\n",
    "        steps=None,\n",
    "        start_delay_secs=1,\n",
    "        throttle_secs=1,  \n",
    "    )\n",
    ")\n",
    "end_time = time.time()"
   ]
  },
  {
   "cell_type": "code",
   "execution_count": 10,
   "metadata": {
    "colab": {
     "base_uri": "https://localhost:8080/",
     "height": 1295
    },
    "colab_type": "code",
    "executionInfo": {
     "elapsed": 2118,
     "status": "error",
     "timestamp": 1554720133634,
     "user": {
      "displayName": "FBT Telecom",
      "photoUrl": "",
      "userId": "01928442219250440173"
     },
     "user_tz": -120
    },
    "id": "_reIMFwIcDKL",
    "outputId": "5db434df-7c87-4eaf-ab11-e3a91c5425a7",
    "scrolled": true
   },
   "outputs": [
    {
     "name": "stdout",
     "output_type": "stream",
     "text": [
      "\n",
      "------------------------------------------------\n",
      "Time (sec) 99.29052305221558\n",
      "\n",
      "ACCURACY: 0.38297873735427856\n",
      "\n",
      "ACCURACY/ADANET/ADANET_WEIGHTED_ENSEMBLE: 0.38297873735427856\n",
      "\n",
      "ACCURACY/ADANET/SUBNETWORK: 0.38297873735427856\n",
      "\n",
      "ACCURACY/ADANET/UNIFORM_AVERAGE_ENSEMBLE: 0.38297873735427856\n",
      "\n",
      "ARCHITECTURE/ADANET/ENSEMBLES: b'\\n\\x8d\\x01\\nBadanet/iteration_2/ensemble_t2_CNNBase_layer_1/architecture/adanetB=\\x08\\x07\\x12\\x00B7| CNNBase_layer_1 | CNNBase_layer_1 | CNNBase_layer_1 |J\\x08\\n\\x06\\n\\x04text'\n",
      "\n",
      "AVERAGE_LOSS: 1.0919487476348877\n",
      "\n",
      "AVERAGE_LOSS/ADANET/ADANET_WEIGHTED_ENSEMBLE: 1.0919487476348877\n",
      "\n",
      "AVERAGE_LOSS/ADANET/SUBNETWORK: 1.0948448181152344\n",
      "\n",
      "AVERAGE_LOSS/ADANET/UNIFORM_AVERAGE_ENSEMBLE: 1.0919488668441772\n",
      "\n",
      "LOSS: 1.0919487476348877\n",
      "\n",
      "LOSS/ADANET/ADANET_WEIGHTED_ENSEMBLE: 1.0919487476348877\n",
      "\n",
      "LOSS/ADANET/SUBNETWORK: 1.0948448181152344\n",
      "\n",
      "LOSS/ADANET/UNIFORM_AVERAGE_ENSEMBLE: 1.0919488668441772\n",
      "\n",
      "GLOBAL_STEP: 9\n"
     ]
    }
   ],
   "source": [
    "print(\"\\n------------------------------------------------\")\n",
    "print(\"Time (sec)\", end_time-start_time)\n",
    "for key in results.keys() :\n",
    "    title =key.upper()\n",
    "    print(\"\\n{}: {}\".format(title, results[key]))\n"
   ]
  },
  {
   "cell_type": "code",
   "execution_count": 11,
   "metadata": {},
   "outputs": [],
   "source": [
    "#import tensorflow as tf\n",
    "#help(tf.estimator.Estimator)"
   ]
  },
  {
   "cell_type": "raw",
   "metadata": {},
   "source": [
    "from tensorflow.python.tools.inspect_checkpoint import print_tensors_in_checkpoint_file\n",
    "max_iteration_steps=TRAIN_STEPS // ADANET_ITERATIONS\n",
    "\n",
    "#filenale_model_check = './tmp/models/'+str(NN_TYPE)+'/model.ckpt-3'\n",
    "#print_tensors_in_checkpoint_file(file_name=filenale_model_check, tensor_name='', all_tensors=False)\n",
    "print(\"\\n----------\\n\")\n",
    "filename_model_checkpoint = OUTPUT_DIR+'/'+str(NN_TYPE)+'/model.ckpt-'+str(TRAIN_STEPS)\n",
    "print_tensors_in_checkpoint_file(file_name=filename_model_checkpoint\\\n",
    "                                 , tensor_name='', all_tensors=False)\n"
   ]
  },
  {
   "cell_type": "code",
   "execution_count": 12,
   "metadata": {},
   "outputs": [],
   "source": [
    "def ensemble_architecture(result):\n",
    "  \"\"\"Extracts the ensemble architecture from evaluation results.\"\"\"\n",
    "\n",
    "  architecture = result[\"architecture/adanet/ensembles\"]\n",
    "  # The architecture is a serialized Summary proto for TensorBoard.\n",
    "  summary_proto = tf.summary.Summary.FromString(architecture)\n",
    "  return summary_proto.value[0].tensor.string_val[0]"
   ]
  },
  {
   "cell_type": "code",
   "execution_count": 13,
   "metadata": {},
   "outputs": [
    {
     "name": "stdout",
     "output_type": "stream",
     "text": [
      "Architecture: b'| CNNBase_layer_1 | CNNBase_layer_1 | CNNBase_layer_1 |' / Accuracy= 0.38297873735427856 /Loss= 1.0919487476348877\n"
     ]
    }
   ],
   "source": [
    "print(\"Architecture: {} / Accuracy= {} /Loss= {}\".format(ensemble_architecture(results)\\\n",
    "                                                  , results['accuracy'], results['loss']))"
   ]
  },
  {
   "cell_type": "code",
   "execution_count": 14,
   "metadata": {},
   "outputs": [],
   "source": [
    "# Architecture: b'| DNN_layer_1 | DNN_layer_2 | DNN_layer_3 |' : accuracy = 40% / Loss = 1.0883579\n",
    "# Architecture: b'| CNNBase_layer_1 |' / Accuracy= 0.40425533056259155 /Loss= 1.081491470336914\n",
    "# Architecture: b'| CNNBase_linear | CNNBase_layer_1 |' / Accuracy= 0.42553192377090454 /Loss= 1.1250361204147339"
   ]
  },
  {
   "cell_type": "code",
   "execution_count": 9,
   "metadata": {},
   "outputs": [
    {
     "data": {
      "text/plain": [
       "[0, 1, 0, 1, 0, 1, 0, 1, 0, 1]"
      ]
     },
     "execution_count": 9,
     "metadata": {},
     "output_type": "execute_result"
    }
   ],
   "source": [
    "[i%2 for i in range(0,10)]"
   ]
  },
  {
   "cell_type": "code",
   "execution_count": 4,
   "metadata": {},
   "outputs": [
    {
     "data": {
      "text/plain": [
       "1"
      ]
     },
     "execution_count": 4,
     "metadata": {},
     "output_type": "execute_result"
    }
   ],
   "source": [
    "1%2"
   ]
  },
  {
   "cell_type": "code",
   "execution_count": 5,
   "metadata": {},
   "outputs": [
    {
     "data": {
      "text/plain": [
       "0"
      ]
     },
     "execution_count": 5,
     "metadata": {},
     "output_type": "execute_result"
    }
   ],
   "source": [
    "2%2"
   ]
  },
  {
   "cell_type": "code",
   "execution_count": 6,
   "metadata": {},
   "outputs": [
    {
     "data": {
      "text/plain": [
       "1"
      ]
     },
     "execution_count": 6,
     "metadata": {},
     "output_type": "execute_result"
    }
   ],
   "source": [
    "3%2"
   ]
  },
  {
   "cell_type": "code",
   "execution_count": 7,
   "metadata": {},
   "outputs": [
    {
     "data": {
      "text/plain": [
       "0"
      ]
     },
     "execution_count": 7,
     "metadata": {},
     "output_type": "execute_result"
    }
   ],
   "source": [
    "4%2"
   ]
  },
  {
   "cell_type": "code",
   "execution_count": null,
   "metadata": {},
   "outputs": [],
   "source": []
  }
 ],
 "metadata": {
  "accelerator": "GPU",
  "colab": {
   "collapsed_sections": [],
   "name": "Untitled0.ipynb",
   "provenance": [],
   "version": "0.3.2"
  },
  "kernelspec": {
   "display_name": "Python 3",
   "language": "python",
   "name": "python3"
  },
  "language_info": {
   "codemirror_mode": {
    "name": "ipython",
    "version": 3
   },
   "file_extension": ".py",
   "mimetype": "text/x-python",
   "name": "python",
   "nbconvert_exporter": "python",
   "pygments_lexer": "ipython3",
   "version": "3.6.8"
  }
 },
 "nbformat": 4,
 "nbformat_minor": 1
}
