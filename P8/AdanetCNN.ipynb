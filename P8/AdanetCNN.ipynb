{
 "cells": [
  {
   "cell_type": "code",
   "execution_count": 1,
   "metadata": {
    "colab": {},
    "colab_type": "code",
    "id": "jOUQoPfSYUGp"
   },
   "outputs": [],
   "source": [
    "%load_ext autoreload\n",
    "%autoreload 2\n",
    "import adanet"
   ]
  },
  {
   "cell_type": "code",
   "execution_count": 2,
   "metadata": {
    "colab": {},
    "colab_type": "code",
    "id": "BUkDiPBiM7dy"
   },
   "outputs": [],
   "source": [
    "OUTPUT_DIR = './tmp/models'\n",
    "datadir = './data'\n",
    "is_tensorboard = False"
   ]
  },
  {
   "cell_type": "code",
   "execution_count": 3,
   "metadata": {
    "colab": {
     "base_uri": "https://localhost:8080/",
     "height": 34
    },
    "colab_type": "code",
    "executionInfo": {
     "elapsed": 44276,
     "status": "ok",
     "timestamp": 1554728403570,
     "user": {
      "displayName": "FBT Telecom",
      "photoUrl": "",
      "userId": "01928442219250440173"
     },
     "user_tz": -120
    },
    "id": "sfaIMirYNCzB",
    "outputId": "8eaa26a5-3b44-4dd2-fbde-7d54eb77b5a6"
   },
   "outputs": [
    {
     "data": {
      "text/plain": [
       "'./data'"
      ]
     },
     "execution_count": 3,
     "metadata": {},
     "output_type": "execute_result"
    }
   ],
   "source": [
    "datadir"
   ]
  },
  {
   "cell_type": "code",
   "execution_count": 7,
   "metadata": {},
   "outputs": [
    {
     "name": "stdout",
     "output_type": "stream",
     "text": [
      "p5_util.object_load : fileName= ./data/arr_keras_X_y_train_test.dump\n",
      "(414, 224, 224, 3) (47, 224, 224, 3) (414,) (47,)\n",
      "Number of classes= 3\n"
     ]
    }
   ],
   "source": [
    "import numpy as np\n",
    "\n",
    "import p5_util\n",
    "import p8_util\n",
    "\n",
    "filename=datadir+'/arr_keras_X_y_train_test.dump'\n",
    "(x_train,x_test, y_train, y_test) = p5_util.object_load(filename)\n",
    "if True :\n",
    "    y_train=p8_util.array_label_encode_from_index(y_train)\n",
    "    y_test=p8_util.array_label_encode_from_index(y_test)\n",
    "\n",
    "print(x_train.shape,x_test.shape,y_train.shape,y_test.shape)\n",
    "\n",
    "w_size = x_train.shape[1]\n",
    "h_size = x_train.shape[2]        \n",
    "\n",
    "y_train.shape, y_train.min(), y_train.max()\n",
    "nClasses = max(len(np.unique(y_train)), len(np.unique(y_test)))\n",
    "print(\"Number of classes= \"+str(nClasses))\n"
   ]
  },
  {
   "cell_type": "code",
   "execution_count": 17,
   "metadata": {
    "colab": {
     "base_uri": "https://localhost:8080/",
     "height": 1295
    },
    "colab_type": "code",
    "executionInfo": {
     "elapsed": 2118,
     "status": "error",
     "timestamp": 1554720133634,
     "user": {
      "displayName": "FBT Telecom",
      "photoUrl": "",
      "userId": "01928442219250440173"
     },
     "user_tz": -120
    },
    "id": "_reIMFwIcDKL",
    "outputId": "5db434df-7c87-4eaf-ab11-e3a91c5425a7"
   },
   "outputs": [
    {
     "name": "stdout",
     "output_type": "stream",
     "text": [
      "*** INFO : MyGenerator : instantiation DONE!\n",
      "INFO:tensorflow:Using config: {'_model_dir': './tmp/models/CNN', '_tf_random_seed': 42, '_save_summary_steps': 100000, '_save_checkpoints_steps': 100000, '_save_checkpoints_secs': None, '_session_config': allow_soft_placement: true\n",
      "graph_options {\n",
      "  rewrite_options {\n",
      "    meta_optimizer_iterations: ONE\n",
      "  }\n",
      "}\n",
      ", '_keep_checkpoint_max': 5, '_keep_checkpoint_every_n_hours': 10000, '_log_step_count_steps': 100, '_train_distribute': None, '_device_fn': None, '_protocol': None, '_eval_distribute': None, '_experimental_distribute': None, '_service': None, '_cluster_spec': <tensorflow.python.training.server_lib.ClusterSpec object at 0x7f4659f2c4a8>, '_task_type': 'worker', '_task_id': 0, '_global_id_in_cluster': 0, '_master': '', '_evaluation_master': '', '_is_chief': True, '_num_ps_replicas': 0, '_num_worker_replicas': 1}\n"
     ]
    }
   ],
   "source": [
    "import tensorflow as tf\n",
    "import p8_util\n",
    "import shutil\n",
    "\n",
    "    \n",
    "LEARNING_RATE = 0.003  #@param {type:\"number\"}\n",
    "TRAIN_STEPS = 500  #@param {type:\"integer\"}\n",
    "BATCH_SIZE = 49  #@param {type:\"integer\"}\n",
    "\n",
    "ADANET_ITERATIONS = 2  #@param {type:\"integer\"}\n",
    "NN_TYPE = 'CNN'\n",
    "\n",
    "tuple_dimension = (w_size, h_size,3)\n",
    "#nClasses=3\n",
    "\n",
    "my_feature_columns, loss_reduction, tf_head \\\n",
    "= p8_util.get_tf_head(\"images\",tuple_dimension, nClasses)\n",
    "\n",
    "# A `Head` instance defines the loss function and metrics for `Estimators`.\n",
    "# Tells Tensorfow how to compute loss function and metrics\n",
    "#head = tf.contrib.estimator.multi_class_head(nClasses\\\n",
    "#                                             , loss_reduction=loss_reduction)\n",
    "estimator = adanet.Estimator(\n",
    "    head=tf_head,\n",
    "    \n",
    "    subnetwork_generator=p8_util.MyGenerator(\n",
    "        nClasses,\n",
    "        feature_columns=my_feature_columns,\n",
    "        optimizer=tf.train.RMSPropOptimizer(learning_rate=LEARNING_RATE),\n",
    "        seed=p8_util.RANDOM_SEED,\n",
    "        nn_type=NN_TYPE,\n",
    "        dropout=0.5),\n",
    "        \n",
    "    \n",
    "    max_iteration_steps=TRAIN_STEPS // ADANET_ITERATIONS,\n",
    "    \n",
    "    evaluator=adanet.Evaluator(\n",
    "        input_fn=p8_util.input_fn(\"train\", x_train, y_train\\\n",
    "                          , tuple_dimension=tuple_dimension\\\n",
    "                          , training=False\\\n",
    "                          , batch_size=BATCH_SIZE),\n",
    "        steps=None),\n",
    "    config=p8_util.make_config(NN_TYPE,output_dir=OUTPUT_DIR))"
   ]
  },
  {
   "cell_type": "code",
   "execution_count": null,
   "metadata": {
    "colab": {
     "base_uri": "https://localhost:8080/",
     "height": 1295
    },
    "colab_type": "code",
    "executionInfo": {
     "elapsed": 2118,
     "status": "error",
     "timestamp": 1554720133634,
     "user": {
      "displayName": "FBT Telecom",
      "photoUrl": "",
      "userId": "01928442219250440173"
     },
     "user_tz": -120
    },
    "id": "_reIMFwIcDKL",
    "outputId": "5db434df-7c87-4eaf-ab11-e3a91c5425a7"
   },
   "outputs": [
    {
     "name": "stdout",
     "output_type": "stream",
     "text": [
      "INFO:tensorflow:Not using Distribute Coordinator.\n",
      "INFO:tensorflow:Running training and evaluation locally (non-distributed).\n",
      "INFO:tensorflow:Start train and evaluate loop. The evaluate will happen after every checkpoint. Checkpoint frequency is determined based on RunConfig arguments: save_checkpoints_steps 100000 or save_checkpoints_secs None.\n",
      "INFO:tensorflow:Beginning training AdaNet iteration 0\n",
      "INFO:tensorflow:Calling model_fn.\n",
      "\n",
      "*** generate_candidates : Iteration= 0 /Layers=0\n",
      "\n",
      "*** _NNAdaNetBuilder : Classes=3\n",
      "\n",
      "*** _NNAdaNetBuilder : Classes=3\n",
      "INFO:tensorflow:Building iteration 0\n",
      "INFO:tensorflow:Building subnetwork 'CNN_layer_0'\n",
      "\n",
      "\n",
      "*** build_subnetwork() : features shape= (?, 224, 224, 3)\n",
      "*** _build_cnn_subnetwork() : width=224 / Heigh=224 / Channel=3\n",
      "\n",
      "+++ _check_logits_final_dim() : expected_logits_dimension= 3\n",
      "\n",
      "+++ _check_logits_final_dim() : expected_logits_dimension= 3\n",
      "\n",
      "+++ _check_logits_final_dim() : expected_logits_dimension= 3\n",
      "INFO:tensorflow:Building subnetwork 'CNN_layer_1'\n",
      "\n",
      "\n",
      "*** build_subnetwork() : features shape= (?, 224, 224, 3)\n",
      "*** _build_cnn_subnetwork() : width=224 / Heigh=224 / Channel=3\n",
      "\n",
      "+++ _check_logits_final_dim() : expected_logits_dimension= 3\n",
      "\n",
      "+++ _check_logits_final_dim() : expected_logits_dimension= 3\n",
      "\n",
      "+++ _check_logits_final_dim() : expected_logits_dimension= 3\n",
      "INFO:tensorflow:Done calling model_fn.\n",
      "INFO:tensorflow:Create CheckpointSaverHook.\n",
      "INFO:tensorflow:Graph was finalized.\n",
      "INFO:tensorflow:Running local_init_op.\n",
      "INFO:tensorflow:Done running local_init_op.\n",
      "INFO:tensorflow:Saving checkpoints for 0 into ./tmp/models/CNN/model.ckpt.\n",
      "\n",
      "*** generator() : labels shape= (414,) / label values= 0\n",
      "INFO:tensorflow:loss = 1.0866518, step = 1\n",
      "\n",
      "*** generator() : labels shape= (414,) / label values= 0\n",
      "\n",
      "*** generator() : labels shape= (414,) / label values= 0\n",
      "\n",
      "*** generator() : labels shape= (414,) / label values= 0\n",
      "\n",
      "*** generator() : labels shape= (414,) / label values= 0\n"
     ]
    }
   ],
   "source": [
    "results, _ = tf.estimator.train_and_evaluate(\n",
    "    estimator,\n",
    "    train_spec=tf.estimator.TrainSpec(\n",
    "        input_fn= p8_util.input_fn(\"train\", x_train, y_train\\\n",
    "                           , tuple_dimension=tuple_dimension\\\n",
    "                           , training=True, batch_size=BATCH_SIZE),\n",
    "        max_steps=TRAIN_STEPS),\n",
    "    eval_spec=tf.estimator.EvalSpec(\n",
    "        input_fn= p8_util.input_fn(\"test\", x_test, y_test\\\n",
    "                           , tuple_dimension=tuple_dimension\\\n",
    "                           , training=False, batch_size=BATCH_SIZE),\n",
    "        steps=None,\n",
    "        start_delay_secs=1,\n",
    "        throttle_secs=1,  \n",
    "    ))\n",
    "print(\"Accuracy:\", results[\"accuracy\"])\n",
    "print(\"Loss:\", results[\"average_loss\"])"
   ]
  },
  {
   "cell_type": "code",
   "execution_count": null,
   "metadata": {},
   "outputs": [],
   "source": []
  },
  {
   "cell_type": "code",
   "execution_count": 10,
   "metadata": {},
   "outputs": [
    {
     "name": "stdout",
     "output_type": "stream",
     "text": [
      "\n",
      "----------\n",
      "\n",
      "adanet/iteration_0/candidate_t0_CNN_layer_0/adanet/iteration_0/candidate_t0_CNN_layer_0/adanet_loss/biased (DT_FLOAT) []\n",
      "adanet/iteration_0/candidate_t0_CNN_layer_0/adanet/iteration_0/candidate_t0_CNN_layer_0/adanet_loss/local_step (DT_FLOAT) []\n",
      "adanet/iteration_0/candidate_t0_CNN_layer_0/adanet_loss (DT_FLOAT) []\n",
      "adanet/iteration_0/candidate_t0_CNN_layer_1/adanet/iteration_0/candidate_t0_CNN_layer_1/adanet_loss/biased (DT_FLOAT) []\n",
      "adanet/iteration_0/candidate_t0_CNN_layer_1/adanet/iteration_0/candidate_t0_CNN_layer_1/adanet_loss/local_step (DT_FLOAT) []\n",
      "adanet/iteration_0/candidate_t0_CNN_layer_1/adanet_loss (DT_FLOAT) []\n",
      "adanet/iteration_0/ensemble_t0_CNN_layer_0/bias (DT_FLOAT) [3]\n",
      "adanet/iteration_0/ensemble_t0_CNN_layer_0/train_subnetwork/adanet/iteration_0/ensemble_t0_CNN_layer_0/weighted_subnetwork_0/subnetwork/dense/bias/RMSProp (DT_FLOAT) [3]\n",
      "adanet/iteration_0/ensemble_t0_CNN_layer_0/train_subnetwork/adanet/iteration_0/ensemble_t0_CNN_layer_0/weighted_subnetwork_0/subnetwork/dense/bias/RMSProp_1 (DT_FLOAT) [3]\n",
      "adanet/iteration_0/ensemble_t0_CNN_layer_0/train_subnetwork/adanet/iteration_0/ensemble_t0_CNN_layer_0/weighted_subnetwork_0/subnetwork/dense/kernel/RMSProp (DT_FLOAT) [150528,3]\n",
      "adanet/iteration_0/ensemble_t0_CNN_layer_0/train_subnetwork/adanet/iteration_0/ensemble_t0_CNN_layer_0/weighted_subnetwork_0/subnetwork/dense/kernel/RMSProp_1 (DT_FLOAT) [150528,3]\n",
      "adanet/iteration_0/ensemble_t0_CNN_layer_0/weighted_subnetwork_0/logits/mixture_weight (DT_FLOAT) []\n",
      "adanet/iteration_0/ensemble_t0_CNN_layer_0/weighted_subnetwork_0/subnetwork/dense/bias (DT_FLOAT) [3]\n",
      "adanet/iteration_0/ensemble_t0_CNN_layer_0/weighted_subnetwork_0/subnetwork/dense/kernel (DT_FLOAT) [150528,3]\n",
      "adanet/iteration_0/ensemble_t0_CNN_layer_1/bias (DT_FLOAT) [3]\n",
      "adanet/iteration_0/ensemble_t0_CNN_layer_1/train_subnetwork/adanet/iteration_0/ensemble_t0_CNN_layer_1/weighted_subnetwork_0/subnetwork/conv2d/bias/RMSProp (DT_FLOAT) [64]\n",
      "adanet/iteration_0/ensemble_t0_CNN_layer_1/train_subnetwork/adanet/iteration_0/ensemble_t0_CNN_layer_1/weighted_subnetwork_0/subnetwork/conv2d/bias/RMSProp_1 (DT_FLOAT) [64]\n",
      "adanet/iteration_0/ensemble_t0_CNN_layer_1/train_subnetwork/adanet/iteration_0/ensemble_t0_CNN_layer_1/weighted_subnetwork_0/subnetwork/conv2d/kernel/RMSProp (DT_FLOAT) [3,3,3,64]\n",
      "adanet/iteration_0/ensemble_t0_CNN_layer_1/train_subnetwork/adanet/iteration_0/ensemble_t0_CNN_layer_1/weighted_subnetwork_0/subnetwork/conv2d/kernel/RMSProp_1 (DT_FLOAT) [3,3,3,64]\n",
      "adanet/iteration_0/ensemble_t0_CNN_layer_1/train_subnetwork/adanet/iteration_0/ensemble_t0_CNN_layer_1/weighted_subnetwork_0/subnetwork/conv2d_1/bias/RMSProp (DT_FLOAT) [64]\n",
      "adanet/iteration_0/ensemble_t0_CNN_layer_1/train_subnetwork/adanet/iteration_0/ensemble_t0_CNN_layer_1/weighted_subnetwork_0/subnetwork/conv2d_1/bias/RMSProp_1 (DT_FLOAT) [64]\n",
      "adanet/iteration_0/ensemble_t0_CNN_layer_1/train_subnetwork/adanet/iteration_0/ensemble_t0_CNN_layer_1/weighted_subnetwork_0/subnetwork/conv2d_1/kernel/RMSProp (DT_FLOAT) [3,3,64,64]\n",
      "adanet/iteration_0/ensemble_t0_CNN_layer_1/train_subnetwork/adanet/iteration_0/ensemble_t0_CNN_layer_1/weighted_subnetwork_0/subnetwork/conv2d_1/kernel/RMSProp_1 (DT_FLOAT) [3,3,64,64]\n",
      "adanet/iteration_0/ensemble_t0_CNN_layer_1/train_subnetwork/adanet/iteration_0/ensemble_t0_CNN_layer_1/weighted_subnetwork_0/subnetwork/conv2d_2/bias/RMSProp (DT_FLOAT) [128]\n",
      "adanet/iteration_0/ensemble_t0_CNN_layer_1/train_subnetwork/adanet/iteration_0/ensemble_t0_CNN_layer_1/weighted_subnetwork_0/subnetwork/conv2d_2/bias/RMSProp_1 (DT_FLOAT) [128]\n",
      "adanet/iteration_0/ensemble_t0_CNN_layer_1/train_subnetwork/adanet/iteration_0/ensemble_t0_CNN_layer_1/weighted_subnetwork_0/subnetwork/conv2d_2/kernel/RMSProp (DT_FLOAT) [3,3,64,128]\n",
      "adanet/iteration_0/ensemble_t0_CNN_layer_1/train_subnetwork/adanet/iteration_0/ensemble_t0_CNN_layer_1/weighted_subnetwork_0/subnetwork/conv2d_2/kernel/RMSProp_1 (DT_FLOAT) [3,3,64,128]\n",
      "adanet/iteration_0/ensemble_t0_CNN_layer_1/train_subnetwork/adanet/iteration_0/ensemble_t0_CNN_layer_1/weighted_subnetwork_0/subnetwork/dense/bias/RMSProp (DT_FLOAT) [100]\n",
      "adanet/iteration_0/ensemble_t0_CNN_layer_1/train_subnetwork/adanet/iteration_0/ensemble_t0_CNN_layer_1/weighted_subnetwork_0/subnetwork/dense/bias/RMSProp_1 (DT_FLOAT) [100]\n",
      "adanet/iteration_0/ensemble_t0_CNN_layer_1/train_subnetwork/adanet/iteration_0/ensemble_t0_CNN_layer_1/weighted_subnetwork_0/subnetwork/dense/kernel/RMSProp (DT_FLOAT) [401408,100]\n",
      "adanet/iteration_0/ensemble_t0_CNN_layer_1/train_subnetwork/adanet/iteration_0/ensemble_t0_CNN_layer_1/weighted_subnetwork_0/subnetwork/dense/kernel/RMSProp_1 (DT_FLOAT) [401408,100]\n",
      "adanet/iteration_0/ensemble_t0_CNN_layer_1/train_subnetwork/adanet/iteration_0/ensemble_t0_CNN_layer_1/weighted_subnetwork_0/subnetwork/dense_1/bias/RMSProp (DT_FLOAT) [3]\n",
      "adanet/iteration_0/ensemble_t0_CNN_layer_1/train_subnetwork/adanet/iteration_0/ensemble_t0_CNN_layer_1/weighted_subnetwork_0/subnetwork/dense_1/bias/RMSProp_1 (DT_FLOAT) [3]\n",
      "adanet/iteration_0/ensemble_t0_CNN_layer_1/train_subnetwork/adanet/iteration_0/ensemble_t0_CNN_layer_1/weighted_subnetwork_0/subnetwork/dense_1/kernel/RMSProp (DT_FLOAT) [100,3]\n",
      "adanet/iteration_0/ensemble_t0_CNN_layer_1/train_subnetwork/adanet/iteration_0/ensemble_t0_CNN_layer_1/weighted_subnetwork_0/subnetwork/dense_1/kernel/RMSProp_1 (DT_FLOAT) [100,3]\n",
      "adanet/iteration_0/ensemble_t0_CNN_layer_1/weighted_subnetwork_0/logits/mixture_weight (DT_FLOAT) []\n",
      "adanet/iteration_0/ensemble_t0_CNN_layer_1/weighted_subnetwork_0/subnetwork/conv2d/bias (DT_FLOAT) [64]\n",
      "adanet/iteration_0/ensemble_t0_CNN_layer_1/weighted_subnetwork_0/subnetwork/conv2d/kernel (DT_FLOAT) [3,3,3,64]\n",
      "adanet/iteration_0/ensemble_t0_CNN_layer_1/weighted_subnetwork_0/subnetwork/conv2d_1/bias (DT_FLOAT) [64]\n",
      "adanet/iteration_0/ensemble_t0_CNN_layer_1/weighted_subnetwork_0/subnetwork/conv2d_1/kernel (DT_FLOAT) [3,3,64,64]\n",
      "adanet/iteration_0/ensemble_t0_CNN_layer_1/weighted_subnetwork_0/subnetwork/conv2d_2/bias (DT_FLOAT) [128]\n",
      "adanet/iteration_0/ensemble_t0_CNN_layer_1/weighted_subnetwork_0/subnetwork/conv2d_2/kernel (DT_FLOAT) [3,3,64,128]\n",
      "adanet/iteration_0/ensemble_t0_CNN_layer_1/weighted_subnetwork_0/subnetwork/dense/bias (DT_FLOAT) [100]\n",
      "adanet/iteration_0/ensemble_t0_CNN_layer_1/weighted_subnetwork_0/subnetwork/dense/kernel (DT_FLOAT) [401408,100]\n",
      "adanet/iteration_0/ensemble_t0_CNN_layer_1/weighted_subnetwork_0/subnetwork/dense_1/bias (DT_FLOAT) [3]\n",
      "adanet/iteration_0/ensemble_t0_CNN_layer_1/weighted_subnetwork_0/subnetwork/dense_1/kernel (DT_FLOAT) [100,3]\n",
      "adanet/iteration_0/step (DT_INT64) []\n",
      "adanet/iteration_0/train_op/is_over/is_over_var_fn/is_over_var (DT_BOOL) []\n",
      "current_iteration (DT_INT64) []\n",
      "global_step (DT_INT64) []\n",
      "\n"
     ]
    }
   ],
   "source": [
    "from tensorflow.python.tools.inspect_checkpoint import print_tensors_in_checkpoint_file\n",
    "max_iteration_steps=TRAIN_STEPS // ADANET_ITERATIONS\n",
    "\n",
    "#filenale_model_check = './tmp/models/'+str(NN_TYPE)+'/model.ckpt-3'\n",
    "#print_tensors_in_checkpoint_file(file_name=filenale_model_check, tensor_name='', all_tensors=False)\n",
    "print(\"\\n----------\\n\")\n",
    "filenale_model_check = './tmp/models/'+str(NN_TYPE)+'/model.ckpt-'+str(TRAIN_STEPS)\n",
    "print_tensors_in_checkpoint_file(file_name=filenale_model_check, tensor_name='', all_tensors=False)\n"
   ]
  },
  {
   "cell_type": "code",
   "execution_count": 11,
   "metadata": {},
   "outputs": [],
   "source": [
    "def ensemble_architecture(result):\n",
    "  \"\"\"Extracts the ensemble architecture from evaluation results.\"\"\"\n",
    "\n",
    "  architecture = result[\"architecture/adanet/ensembles\"]\n",
    "  # The architecture is a serialized Summary proto for TensorBoard.\n",
    "  summary_proto = tf.summary.Summary.FromString(architecture)\n",
    "  return summary_proto.value[0].tensor.string_val[0]"
   ]
  },
  {
   "cell_type": "code",
   "execution_count": 12,
   "metadata": {},
   "outputs": [
    {
     "name": "stdout",
     "output_type": "stream",
     "text": [
      "Architecture: b'| CNN_layer_1 |' / Accuracy= 0.3191489279270172 \n"
     ]
    }
   ],
   "source": [
    "print(\"Architecture: {} / Accuracy= {} \".format(ensemble_architecture(results)\\\n",
    "                                                  , results['accuracy']))"
   ]
  },
  {
   "cell_type": "code",
   "execution_count": 13,
   "metadata": {},
   "outputs": [],
   "source": [
    "# Architecture: b'| DNN_layer_1 | DNN_layer_2 | DNN_layer_3 |' : accuracy = 40% / Loss = 1.0883579\n",
    "# Architecture: b'| CNN_layer_1 | CNN_layer_2 |' : accuracy = 34% / Loss =  1.1142968"
   ]
  },
  {
   "cell_type": "code",
   "execution_count": 16,
   "metadata": {},
   "outputs": [
    {
     "data": {
      "text/plain": [
       "b'\\na\\n>adanet/iteration_0/ensemble_t0_CNN_layer_1/architecture/adanetB\\x15\\x08\\x07\\x12\\x00B\\x0f| CNN_layer_1 |J\\x08\\n\\x06\\n\\x04text'"
      ]
     },
     "execution_count": 16,
     "metadata": {},
     "output_type": "execute_result"
    }
   ],
   "source": [
    "results['architecture/adanet/ensembles']"
   ]
  },
  {
   "cell_type": "code",
   "execution_count": null,
   "metadata": {},
   "outputs": [],
   "source": [
    "results.keys()"
   ]
  },
  {
   "cell_type": "code",
   "execution_count": null,
   "metadata": {},
   "outputs": [],
   "source": [
    "if is_tensorboard is True :\n",
    "    get_ipython().system_raw(\n",
    "        'tensorboard --logdir {} --host localhost --port 6006 &'\n",
    "        .format(OUTPUT_DIR)\n",
    "    )\n",
    "\n",
    "\n",
    "    get_ipython().system_raw('./assets/ngrok http 6006 &')"
   ]
  },
  {
   "cell_type": "code",
   "execution_count": null,
   "metadata": {},
   "outputs": [],
   "source": [
    "# this will kill the processes for Tensorboard\n",
    "if is_tensorboard is True :\n",
    "    !ps aux | grep tensorboard | awk '{print $2}' | xargs kill"
   ]
  },
  {
   "cell_type": "code",
   "execution_count": null,
   "metadata": {},
   "outputs": [],
   "source": [
    "# this will kill the processes for ngrok\n",
    "if is_tensorboard is True :\n",
    "    !ps aux | grep ngrok | awk '{print $2}' | xargs kill"
   ]
  },
  {
   "cell_type": "code",
   "execution_count": null,
   "metadata": {},
   "outputs": [],
   "source": []
  }
 ],
 "metadata": {
  "accelerator": "GPU",
  "colab": {
   "collapsed_sections": [],
   "name": "Untitled0.ipynb",
   "provenance": [],
   "version": "0.3.2"
  },
  "kernelspec": {
   "display_name": "Python 3",
   "language": "python",
   "name": "python3"
  },
  "language_info": {
   "codemirror_mode": {
    "name": "ipython",
    "version": 3
   },
   "file_extension": ".py",
   "mimetype": "text/x-python",
   "name": "python",
   "nbconvert_exporter": "python",
   "pygments_lexer": "ipython3",
   "version": "3.6.8"
  }
 },
 "nbformat": 4,
 "nbformat_minor": 1
}
