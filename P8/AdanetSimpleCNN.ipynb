{
 "cells": [
  {
   "cell_type": "code",
   "execution_count": 1,
   "metadata": {},
   "outputs": [],
   "source": [
    "import adanet\n",
    "import tensorflow as tf\n",
    "import numpy as np"
   ]
  },
  {
   "cell_type": "code",
   "execution_count": 2,
   "metadata": {},
   "outputs": [
    {
     "name": "stderr",
     "output_type": "stream",
     "text": [
      "Using TensorFlow backend.\n"
     ]
    }
   ],
   "source": [
    "from keras.models import Sequential\n",
    "from keras.layers import Conv2D, MaxPooling2D\n",
    "from keras.layers import Flatten, Dense, Dropout\n",
    "\n",
    "class CNNBuilder(adanet.subnetwork.Builder):\n",
    "    def __init__(self, n_convs):\n",
    "        self._n_convs = n_convs\n",
    "        \n",
    "    def build_subnetwork(self,\n",
    "                         features,\n",
    "                         logits_dimension,\n",
    "                         training,\n",
    "                         iteration_step,\n",
    "                         summary,\n",
    "                         previous_ensemble=None):\n",
    "        \n",
    "        images = list(features.values())[0]\n",
    "        x = images\n",
    "    \n",
    "        for i in range(self._n_convs):\n",
    "            x = Conv2D(32, kernel_size=7, activation='relu')(x)\n",
    "            x = MaxPooling2D(strides=2)(x)\n",
    "        \n",
    "        x = Flatten()(x)\n",
    "        x = Dense(100, activation='relu')(x)\n",
    "        \n",
    "        logits = Dense(10)(x)\n",
    "\n",
    "        complexity = tf.constant(1)\n",
    "\n",
    "        persisted_tensors = {'n_convs': tf.constant(self._n_convs)}\n",
    "        \n",
    "        return adanet.Subnetwork(\n",
    "            last_layer=x,\n",
    "            logits=logits,\n",
    "            complexity=complexity,\n",
    "            persisted_tensors=persisted_tensors)\n",
    "    \n",
    "    def build_subnetwork_train_op(self,\n",
    "                                  subnetwork,\n",
    "                                  loss,\n",
    "                                  var_list,\n",
    "                                  labels,\n",
    "                                  iteration_step,\n",
    "                                  summary,\n",
    "                                  previous_ensemble=None):\n",
    "\n",
    "        optimizer = tf.train.RMSPropOptimizer(learning_rate=0.001,\n",
    "                                              decay=0.0)\n",
    "        return optimizer.minimize(loss=loss, var_list=var_list)\n",
    "\n",
    "    def build_mixture_weights_train_op(self,\n",
    "                                       loss,\n",
    "                                       var_list,\n",
    "                                       logits,\n",
    "                                       labels,\n",
    "                                       iteration_step, summary):\n",
    "        return tf.no_op(\"mixture_weights_train_op\")\n",
    "\n",
    "    @property\n",
    "    def name(self):\n",
    "        return f'cnn_{self._n_convs}'"
   ]
  },
  {
   "cell_type": "code",
   "execution_count": 3,
   "metadata": {},
   "outputs": [],
   "source": [
    "class CNNGenerator(adanet.subnetwork.Generator):\n",
    "    def __init__(self):\n",
    "            self._cnn_builder_fn = CNNBuilder\n",
    "\n",
    "    def generate_candidates(self,\n",
    "                                previous_ensemble,\n",
    "                                iteration_number,\n",
    "                                previous_ensemble_reports,\n",
    "                                all_reports):\n",
    "\n",
    "        n_convs = 0\n",
    "        if previous_ensemble:\n",
    "            n_convs = tf.contrib.util.constant_value(\n",
    "                previous_ensemble.weighted_subnetworks[-1]\n",
    "                .subnetwork\n",
    "                .persisted_tensors['n_convs'])\n",
    "        return [\n",
    "                    self._cnn_builder_fn(n_convs=n_convs),\n",
    "                    self._cnn_builder_fn(n_convs=n_convs + 1)\n",
    "                ]"
   ]
  },
  {
   "cell_type": "raw",
   "metadata": {},
   "source": [
    "import tensorflow as tf\n",
    "import numpy as np\n",
    "\n",
    "(x_train, labels_train), (x_test, labels_test) = tf.keras.datasets.cifar10.load_data()\n",
    "\n",
    "x_train = x_train / 255 # map values between 0 and 1\n",
    "x_test  = x_test / 255  # map values between 0 and 1\n",
    "\n",
    "x_train = x_train.astype(np.float32) # cast values to float32\n",
    "x_test = x_test.astype(np.float32)   # cast values to float32\n",
    "\n",
    "labels_train = labels_train.astype(np.int32) # cast values to int32\n",
    "labels_test = labels_test.astype(np.int32)   # cast values to int32"
   ]
  },
  {
   "cell_type": "code",
   "execution_count": 4,
   "metadata": {},
   "outputs": [
    {
     "name": "stdout",
     "output_type": "stream",
     "text": [
      "p5_util.object_load : fileName= ./P7/data/arr_keras_X_y_train_test.dump\n",
      "(414, 224, 224, 3) (47, 224, 224, 3) (414,) (47,)\n"
     ]
    }
   ],
   "source": [
    "import p5_util\n",
    "import p8_util\n",
    "\n",
    "datadir = './P7/data'\n",
    "filename=datadir+'/arr_keras_X_y_train_test.dump'\n",
    "(x_train,x_test, y_train, y_test) = p5_util.object_load(filename)\n",
    "if True :\n",
    "    y_train=p8_util.array_label_encode_from_index(y_train)\n",
    "    y_test=p8_util.array_label_encode_from_index(y_test)\n",
    "\n",
    "print(x_train.shape,x_test.shape,y_train.shape,y_test.shape)\n",
    "\n",
    "w_size = x_train.shape[1]\n",
    "h_size = x_train.shape[2]        \n",
    "\n",
    "labels_train = y_train.astype(np.int32) # cast values to int32\n",
    "labels_test = y_test.astype(np.int32)   # cast values to int32"
   ]
  },
  {
   "cell_type": "code",
   "execution_count": 5,
   "metadata": {},
   "outputs": [
    {
     "data": {
      "text/plain": [
       "(414, 1)"
      ]
     },
     "execution_count": 5,
     "metadata": {},
     "output_type": "execute_result"
    }
   ],
   "source": [
    "labels_test = labels_test.reshape(-1,1)\n",
    "labels_train = labels_train.reshape(-1,1)\n",
    "labels_train.shape\n"
   ]
  },
  {
   "cell_type": "code",
   "execution_count": 6,
   "metadata": {},
   "outputs": [
    {
     "data": {
      "text/plain": [
       "array([0], dtype=int32)"
      ]
     },
     "execution_count": 6,
     "metadata": {},
     "output_type": "execute_result"
    }
   ],
   "source": [
    "labels_train[0]"
   ]
  },
  {
   "cell_type": "code",
   "execution_count": 5,
   "metadata": {},
   "outputs": [
    {
     "name": "stdout",
     "output_type": "stream",
     "text": [
      "INFO:tensorflow:Using default config.\n",
      "WARNING:tensorflow:Using temporary folder as model directory: /tmp/tmp7550ry0e\n",
      "INFO:tensorflow:Using config: {'_model_dir': '/tmp/tmp7550ry0e', '_tf_random_seed': None, '_save_summary_steps': 100, '_save_checkpoints_steps': None, '_save_checkpoints_secs': 600, '_session_config': allow_soft_placement: true\n",
      "graph_options {\n",
      "  rewrite_options {\n",
      "    meta_optimizer_iterations: ONE\n",
      "  }\n",
      "}\n",
      ", '_keep_checkpoint_max': 5, '_keep_checkpoint_every_n_hours': 10000, '_log_step_count_steps': 100, '_train_distribute': None, '_device_fn': None, '_protocol': None, '_eval_distribute': None, '_experimental_distribute': None, '_service': None, '_cluster_spec': <tensorflow.python.training.server_lib.ClusterSpec object at 0x7f3af93d8a58>, '_task_type': 'worker', '_task_id': 0, '_global_id_in_cluster': 0, '_master': '', '_evaluation_master': '', '_is_chief': True, '_num_ps_replicas': 0, '_num_worker_replicas': 1}\n"
     ]
    }
   ],
   "source": [
    "head = tf.contrib.estimator.multi_class_head(10)\n",
    "ADANET_ITERATIONS = 2  #@param {type:\"integer\"}\n",
    "TRAIN_STEPS = 100  #@param {type:\"integer\"}\n",
    "max_iteration_steps = int(TRAIN_STEPS / ADANET_ITERATIONS)\n",
    "\n",
    "EPOCHS = 10\n",
    "BATCH_SIZE = 32\n",
    "train_input_fn = tf.estimator.inputs.numpy_input_fn(\n",
    "    x={\"x\": x_train},\n",
    "    y=labels_train,\n",
    "    batch_size=BATCH_SIZE,\n",
    "    num_epochs=EPOCHS,\n",
    "    shuffle=False)\n",
    "\n",
    "adanet_input_fn = tf.estimator.inputs.numpy_input_fn(\n",
    "    x={\"x\": x_train},\n",
    "    y=labels_train,\n",
    "    batch_size=BATCH_SIZE,\n",
    "    num_epochs=1,\n",
    "    shuffle=False)\n",
    "\n",
    "test_input_fn = tf.estimator.inputs.numpy_input_fn(\n",
    "    x={\"x\": x_test},\n",
    "    y=labels_test,\n",
    "    batch_size=BATCH_SIZE,\n",
    "    num_epochs=1,\n",
    "    shuffle=False)\n",
    "\n",
    "\n",
    "estimator = adanet.Estimator(\n",
    "    head=head,\n",
    "    subnetwork_generator=CNNGenerator(),\n",
    "    max_iteration_steps=max_iteration_steps,\n",
    "    evaluator=adanet.Evaluator(\n",
    "        input_fn=adanet_input_fn,\n",
    "        steps=None),\n",
    "    adanet_loss_decay=.99)"
   ]
  },
  {
   "cell_type": "code",
   "execution_count": 6,
   "metadata": {},
   "outputs": [
    {
     "name": "stdout",
     "output_type": "stream",
     "text": [
      "INFO:tensorflow:Not using Distribute Coordinator.\n",
      "INFO:tensorflow:Running training and evaluation locally (non-distributed).\n",
      "INFO:tensorflow:Start train and evaluate loop. The evaluate will happen after every checkpoint. Checkpoint frequency is determined based on RunConfig arguments: save_checkpoints_steps None or save_checkpoints_secs 600.\n",
      "INFO:tensorflow:Beginning training AdaNet iteration 0\n",
      "WARNING:tensorflow:From /home/bangui/anaconda3/lib/python3.6/site-packages/tensorflow/python/estimator/inputs/queues/feeding_queue_runner.py:62: QueueRunner.__init__ (from tensorflow.python.training.queue_runner_impl) is deprecated and will be removed in a future version.\n",
      "Instructions for updating:\n",
      "To construct input pipelines, use the `tf.data` module.\n",
      "WARNING:tensorflow:From /home/bangui/anaconda3/lib/python3.6/site-packages/tensorflow/python/estimator/inputs/queues/feeding_functions.py:500: add_queue_runner (from tensorflow.python.training.queue_runner_impl) is deprecated and will be removed in a future version.\n",
      "Instructions for updating:\n",
      "To construct input pipelines, use the `tf.data` module.\n",
      "INFO:tensorflow:Calling model_fn.\n",
      "INFO:tensorflow:Building iteration 0\n",
      "INFO:tensorflow:Building subnetwork 'cnn_0'\n",
      "WARNING:tensorflow:From <ipython-input-2-19aa0032d636>:37: calling Subnetwork.__new__ (from adanet.core.subnetwork.generator) with persisted_tensors is deprecated and will be removed in a future version.\n",
      "Instructions for updating:\n",
      "`persisted_tensors` is deprecated, please use `shared` instead.\n",
      "\n",
      "+++ _check_logits_final_dim() : expected_logits_dimension= 10\n",
      "\n",
      "+++ _check_logits_final_dim() : expected_logits_dimension= 10\n",
      "\n",
      "+++ _check_logits_final_dim() : expected_logits_dimension= 10\n",
      "INFO:tensorflow:Building subnetwork 'cnn_1'\n",
      "\n",
      "+++ _check_logits_final_dim() : expected_logits_dimension= 10\n",
      "\n",
      "+++ _check_logits_final_dim() : expected_logits_dimension= 10\n",
      "\n",
      "+++ _check_logits_final_dim() : expected_logits_dimension= 10\n",
      "INFO:tensorflow:Done calling model_fn.\n",
      "INFO:tensorflow:Create CheckpointSaverHook.\n",
      "INFO:tensorflow:Graph was finalized.\n",
      "INFO:tensorflow:Running local_init_op.\n",
      "INFO:tensorflow:Done running local_init_op.\n",
      "WARNING:tensorflow:From /home/bangui/anaconda3/lib/python3.6/site-packages/tensorflow/python/training/monitored_session.py:804: start_queue_runners (from tensorflow.python.training.queue_runner_impl) is deprecated and will be removed in a future version.\n",
      "Instructions for updating:\n",
      "To construct input pipelines, use the `tf.data` module.\n",
      "INFO:tensorflow:Saving checkpoints for 0 into /tmp/tmp7550ry0e/model.ckpt.\n",
      "INFO:tensorflow:loss = 1.9598969, step = 1\n",
      "INFO:tensorflow:Saving checkpoints for 50 into /tmp/tmp7550ry0e/model.ckpt.\n",
      "INFO:tensorflow:Calling model_fn.\n",
      "INFO:tensorflow:Building iteration 0\n",
      "INFO:tensorflow:Building subnetwork 'cnn_0'\n",
      "\n",
      "+++ _check_logits_final_dim() : expected_logits_dimension= 10\n",
      "\n",
      "+++ _check_logits_final_dim() : expected_logits_dimension= 10\n",
      "\n",
      "+++ _check_logits_final_dim() : expected_logits_dimension= 10\n",
      "INFO:tensorflow:Building subnetwork 'cnn_1'\n",
      "\n",
      "+++ _check_logits_final_dim() : expected_logits_dimension= 10\n",
      "\n",
      "+++ _check_logits_final_dim() : expected_logits_dimension= 10\n",
      "\n",
      "+++ _check_logits_final_dim() : expected_logits_dimension= 10\n",
      "INFO:tensorflow:Done calling model_fn.\n",
      "INFO:tensorflow:Starting evaluation at 2019-04-13-14:47:41\n",
      "INFO:tensorflow:Graph was finalized.\n",
      "INFO:tensorflow:Restoring parameters from /tmp/tmp7550ry0e/model.ckpt-50\n",
      "INFO:tensorflow:Running local_init_op.\n",
      "INFO:tensorflow:Done running local_init_op.\n",
      "INFO:tensorflow:Saving candidate 't0_cnn_0' dict for global step 50: accuracy/adanet/adanet_weighted_ensemble = 0.42553192, accuracy/adanet/subnetwork = 0.42553192, accuracy/adanet/uniform_average_ensemble = 0.42553192, architecture/adanet/ensembles = b'\\nU\\n8adanet/iteration_0/ensemble_t0_cnn_0/architecture/adanetB\\x0f\\x08\\x07\\x12\\x00B\\t| cnn_0 |J\\x08\\n\\x06\\n\\x04text', average_loss/adanet/adanet_weighted_ensemble = 64.25821, average_loss/adanet/subnetwork = 64.25821, average_loss/adanet/uniform_average_ensemble = 64.25821, loss/adanet/adanet_weighted_ensemble = 71.11669, loss/adanet/subnetwork = 71.11669, loss/adanet/uniform_average_ensemble = 71.11669\n",
      "INFO:tensorflow:Saving candidate 't0_cnn_1' dict for global step 50: accuracy/adanet/adanet_weighted_ensemble = 0.4893617, accuracy/adanet/subnetwork = 0.4893617, accuracy/adanet/uniform_average_ensemble = 0.4893617, architecture/adanet/ensembles = b'\\nU\\n8adanet/iteration_0/ensemble_t0_cnn_1/architecture/adanetB\\x0f\\x08\\x07\\x12\\x00B\\t| cnn_1 |J\\x08\\n\\x06\\n\\x04text', average_loss/adanet/adanet_weighted_ensemble = 1.6921635, average_loss/adanet/subnetwork = 1.6921635, average_loss/adanet/uniform_average_ensemble = 1.6921635, loss/adanet/adanet_weighted_ensemble = 1.5930097, loss/adanet/subnetwork = 1.5930097, loss/adanet/uniform_average_ensemble = 1.5930097\n",
      "INFO:tensorflow:Finished evaluation at 2019-04-13-14:47:42\n",
      "INFO:tensorflow:Saving dict for global step 50: accuracy = 0.4893617, accuracy/adanet/adanet_weighted_ensemble = 0.4893617, accuracy/adanet/subnetwork = 0.4893617, accuracy/adanet/uniform_average_ensemble = 0.4893617, average_loss = 1.6921635, average_loss/adanet/adanet_weighted_ensemble = 1.6921635, average_loss/adanet/subnetwork = 1.6921635, average_loss/adanet/uniform_average_ensemble = 1.6921635, global_step = 50, loss = 1.5930097, loss/adanet/adanet_weighted_ensemble = 1.5930097, loss/adanet/subnetwork = 1.5930097, loss/adanet/uniform_average_ensemble = 1.5930097\n",
      "INFO:tensorflow:Saving 'checkpoint_path' summary for global step 50: /tmp/tmp7550ry0e/model.ckpt-50\n",
      "INFO:tensorflow:Loss for final step: 1.2044623.\n",
      "INFO:tensorflow:Finished training Adanet iteration 0\n",
      "INFO:tensorflow:Beginning bookkeeping phase for iteration 0\n",
      "INFO:tensorflow:Building iteration 0\n",
      "INFO:tensorflow:Building subnetwork 'cnn_0'\n",
      "\n",
      "+++ _check_logits_final_dim() : expected_logits_dimension= 10\n",
      "\n",
      "+++ _check_logits_final_dim() : expected_logits_dimension= 10\n",
      "\n",
      "+++ _check_logits_final_dim() : expected_logits_dimension= 10\n",
      "INFO:tensorflow:Building subnetwork 'cnn_1'\n",
      "\n",
      "+++ _check_logits_final_dim() : expected_logits_dimension= 10\n",
      "\n",
      "+++ _check_logits_final_dim() : expected_logits_dimension= 10\n",
      "\n",
      "+++ _check_logits_final_dim() : expected_logits_dimension= 10\n",
      "INFO:tensorflow:Starting ensemble evaluation for iteration 0\n",
      "INFO:tensorflow:Restoring parameters from /tmp/tmp7550ry0e/model.ckpt-50\n",
      "INFO:tensorflow:Encountered end of input after 14 evaluations\n",
      "INFO:tensorflow:Computed ensemble metrics: adanet_loss/t0_cnn_0 = 57.227261, adanet_loss/t0_cnn_1 = 0.287326\n",
      "INFO:tensorflow:Finished ensemble evaluation for iteration 0\n",
      "INFO:tensorflow:'t0_cnn_1' at index 1 is moving onto the next iteration\n",
      "INFO:tensorflow:Importing architecture from /tmp/tmp7550ry0e/architecture-0.txt: ['0:cnn_1'].\n",
      "INFO:tensorflow:Rebuilding iteration 0\n",
      "INFO:tensorflow:Building subnetwork 'cnn_1'\n",
      "\n",
      "+++ _check_logits_final_dim() : expected_logits_dimension= 10\n",
      "\n",
      "+++ _check_logits_final_dim() : expected_logits_dimension= 10\n",
      "\n",
      "+++ _check_logits_final_dim() : expected_logits_dimension= 10\n",
      "INFO:tensorflow:Warm-starting from: ('/tmp/tmp7550ry0e/model.ckpt-50',)\n",
      "INFO:tensorflow:Warm-starting variable: global_step; prev_var_name: Unchanged\n",
      "INFO:tensorflow:Warm-starting variable: adanet/iteration_0/step; prev_var_name: Unchanged\n",
      "INFO:tensorflow:Warm-starting variable: adanet/iteration_0/ensemble_t0_cnn_1/weighted_subnetwork_0/subnetwork/conv2d_1/kernel; prev_var_name: Unchanged\n",
      "INFO:tensorflow:Warm-starting variable: adanet/iteration_0/ensemble_t0_cnn_1/weighted_subnetwork_0/subnetwork/conv2d_1/bias; prev_var_name: Unchanged\n",
      "INFO:tensorflow:Warm-starting variable: adanet/iteration_0/ensemble_t0_cnn_1/weighted_subnetwork_0/subnetwork/dense_1/kernel; prev_var_name: Unchanged\n"
     ]
    },
    {
     "ename": "ValueError",
     "evalue": "Tensor adanet/iteration_0/ensemble_t0_cnn_1/weighted_subnetwork_0/subnetwork/dense_1/kernel is not found in /tmp/tmp7550ry0e/model.ckpt-50 checkpoint {'current_iteration': [], 'adanet/iteration_0/step': [], 'adanet/iteration_0/ensemble_t0_cnn_1/weighted_subnetwork_0/subnetwork/dense_4/kernel': [100, 10], 'adanet/iteration_0/ensemble_t0_cnn_1/weighted_subnetwork_0/subnetwork/dense_4/bias': [10], 'adanet/iteration_0/ensemble_t0_cnn_1/weighted_subnetwork_0/subnetwork/dense_3/bias': [100], 'adanet/iteration_0/ensemble_t0_cnn_0/train_subnetwork/adanet/iteration_0/ensemble_t0_cnn_0/weighted_subnetwork_0/subnetwork/dense_2/bias/RMSProp': [10], 'adanet/iteration_0/ensemble_t0_cnn_0/train_subnetwork/adanet/iteration_0/ensemble_t0_cnn_0/weighted_subnetwork_0/subnetwork/dense_1/kernel/RMSProp': [150528, 100], 'adanet/iteration_0/ensemble_t0_cnn_0/weighted_subnetwork_0/subnetwork/dense_2/bias': [10], 'adanet/iteration_0/ensemble_t0_cnn_1/train_subnetwork/adanet/iteration_0/ensemble_t0_cnn_1/weighted_subnetwork_0/subnetwork/dense_4/kernel/RMSProp_1': [100, 10], 'adanet/iteration_0/ensemble_t0_cnn_0/train_subnetwork/adanet/iteration_0/ensemble_t0_cnn_0/weighted_subnetwork_0/subnetwork/dense_1/kernel/RMSProp_1': [150528, 100], 'adanet/iteration_0/ensemble_t0_cnn_0/bias': [10], 'adanet/iteration_0/ensemble_t0_cnn_0/weighted_subnetwork_0/logits/mixture_weight': [], 'adanet/iteration_0/ensemble_t0_cnn_0/weighted_subnetwork_0/subnetwork/dense_1/bias': [100], 'adanet/iteration_0/ensemble_t0_cnn_1/train_subnetwork/adanet/iteration_0/ensemble_t0_cnn_1/weighted_subnetwork_0/subnetwork/conv2d_1/bias/RMSProp': [32], 'adanet/iteration_0/candidate_t0_cnn_0/adanet/iteration_0/candidate_t0_cnn_0/adanet_loss/local_step': [], 'adanet/iteration_0/candidate_t0_cnn_0/adanet/iteration_0/candidate_t0_cnn_0/adanet_loss/biased': [], 'adanet/iteration_0/train_op/is_over/is_over_var_fn/is_over_var': [], 'adanet/iteration_0/ensemble_t0_cnn_1/train_subnetwork/adanet/iteration_0/ensemble_t0_cnn_1/weighted_subnetwork_0/subnetwork/dense_4/kernel/RMSProp': [100, 10], 'adanet/iteration_0/ensemble_t0_cnn_0/train_subnetwork/adanet/iteration_0/ensemble_t0_cnn_0/weighted_subnetwork_0/subnetwork/dense_1/bias/RMSProp': [100], 'adanet/iteration_0/candidate_t0_cnn_1/adanet/iteration_0/candidate_t0_cnn_1/adanet_loss/biased': [], 'adanet/iteration_0/candidate_t0_cnn_1/adanet/iteration_0/candidate_t0_cnn_1/adanet_loss/local_step': [], 'adanet/iteration_0/ensemble_t0_cnn_1/train_subnetwork/adanet/iteration_0/ensemble_t0_cnn_1/weighted_subnetwork_0/subnetwork/conv2d_1/kernel/RMSProp': [7, 7, 3, 32], 'adanet/iteration_0/ensemble_t0_cnn_1/weighted_subnetwork_0/subnetwork/conv2d_1/bias': [32], 'adanet/iteration_0/ensemble_t0_cnn_0/train_subnetwork/adanet/iteration_0/ensemble_t0_cnn_0/weighted_subnetwork_0/subnetwork/dense_1/bias/RMSProp_1': [100], 'adanet/iteration_0/candidate_t0_cnn_0/adanet_loss': [], 'global_step': [], 'adanet/iteration_0/ensemble_t0_cnn_1/train_subnetwork/adanet/iteration_0/ensemble_t0_cnn_1/weighted_subnetwork_0/subnetwork/dense_3/kernel/RMSProp_1': [380192, 100], 'adanet/iteration_0/candidate_t0_cnn_1/adanet_loss': [], 'adanet/iteration_0/ensemble_t0_cnn_0/weighted_subnetwork_0/subnetwork/dense_1/kernel': [150528, 100], 'adanet/iteration_0/ensemble_t0_cnn_1/train_subnetwork/adanet/iteration_0/ensemble_t0_cnn_1/weighted_subnetwork_0/subnetwork/dense_3/bias/RMSProp_1': [100], 'adanet/iteration_0/ensemble_t0_cnn_0/weighted_subnetwork_0/subnetwork/dense_2/kernel': [100, 10], 'adanet/iteration_0/ensemble_t0_cnn_1/bias': [10], 'adanet/iteration_0/ensemble_t0_cnn_0/train_subnetwork/adanet/iteration_0/ensemble_t0_cnn_0/weighted_subnetwork_0/subnetwork/dense_2/bias/RMSProp_1': [10], 'adanet/iteration_0/ensemble_t0_cnn_1/train_subnetwork/adanet/iteration_0/ensemble_t0_cnn_1/weighted_subnetwork_0/subnetwork/conv2d_1/bias/RMSProp_1': [32], 'adanet/iteration_0/ensemble_t0_cnn_0/train_subnetwork/adanet/iteration_0/ensemble_t0_cnn_0/weighted_subnetwork_0/subnetwork/dense_2/kernel/RMSProp_1': [100, 10], 'adanet/iteration_0/ensemble_t0_cnn_1/train_subnetwork/adanet/iteration_0/ensemble_t0_cnn_1/weighted_subnetwork_0/subnetwork/conv2d_1/kernel/RMSProp_1': [7, 7, 3, 32], 'adanet/iteration_0/ensemble_t0_cnn_0/train_subnetwork/adanet/iteration_0/ensemble_t0_cnn_0/weighted_subnetwork_0/subnetwork/dense_2/kernel/RMSProp': [100, 10], 'adanet/iteration_0/ensemble_t0_cnn_1/train_subnetwork/adanet/iteration_0/ensemble_t0_cnn_1/weighted_subnetwork_0/subnetwork/dense_3/kernel/RMSProp': [380192, 100], 'adanet/iteration_0/ensemble_t0_cnn_1/train_subnetwork/adanet/iteration_0/ensemble_t0_cnn_1/weighted_subnetwork_0/subnetwork/dense_3/bias/RMSProp': [100], 'adanet/iteration_0/ensemble_t0_cnn_1/train_subnetwork/adanet/iteration_0/ensemble_t0_cnn_1/weighted_subnetwork_0/subnetwork/dense_4/bias/RMSProp': [10], 'adanet/iteration_0/ensemble_t0_cnn_1/weighted_subnetwork_0/subnetwork/dense_3/kernel': [380192, 100], 'adanet/iteration_0/ensemble_t0_cnn_1/train_subnetwork/adanet/iteration_0/ensemble_t0_cnn_1/weighted_subnetwork_0/subnetwork/dense_4/bias/RMSProp_1': [10], 'adanet/iteration_0/ensemble_t0_cnn_1/weighted_subnetwork_0/logits/mixture_weight': [], 'adanet/iteration_0/ensemble_t0_cnn_1/weighted_subnetwork_0/subnetwork/conv2d_1/kernel': [7, 7, 3, 32]}",
     "output_type": "error",
     "traceback": [
      "\u001b[0;31m---------------------------------------------------------------------------\u001b[0m",
      "\u001b[0;31mValueError\u001b[0m                                Traceback (most recent call last)",
      "\u001b[0;32m<ipython-input-6-78946ce5f122>\u001b[0m in \u001b[0;36m<module>\u001b[0;34m\u001b[0m\n\u001b[1;32m      6\u001b[0m     eval_spec=tf.estimator.EvalSpec(\n\u001b[1;32m      7\u001b[0m         \u001b[0minput_fn\u001b[0m\u001b[0;34m=\u001b[0m\u001b[0mtest_input_fn\u001b[0m\u001b[0;34m,\u001b[0m\u001b[0;34m\u001b[0m\u001b[0;34m\u001b[0m\u001b[0m\n\u001b[0;32m----> 8\u001b[0;31m         steps=None))\n\u001b[0m\u001b[1;32m      9\u001b[0m \u001b[0mprint\u001b[0m\u001b[0;34m(\u001b[0m\u001b[0;34m\"Accuracy:\"\u001b[0m\u001b[0;34m,\u001b[0m \u001b[0mresults\u001b[0m\u001b[0;34m[\u001b[0m\u001b[0;34m\"accuracy\"\u001b[0m\u001b[0;34m]\u001b[0m\u001b[0;34m)\u001b[0m\u001b[0;34m\u001b[0m\u001b[0;34m\u001b[0m\u001b[0m\n\u001b[1;32m     10\u001b[0m \u001b[0mprint\u001b[0m\u001b[0;34m(\u001b[0m\u001b[0;34m\"Loss:\"\u001b[0m\u001b[0;34m,\u001b[0m \u001b[0mresults\u001b[0m\u001b[0;34m[\u001b[0m\u001b[0;34m\"average_loss\"\u001b[0m\u001b[0;34m]\u001b[0m\u001b[0;34m)\u001b[0m\u001b[0;34m\u001b[0m\u001b[0;34m\u001b[0m\u001b[0m\n",
      "\u001b[0;32m~/anaconda3/lib/python3.6/site-packages/tensorflow/python/estimator/training.py\u001b[0m in \u001b[0;36mtrain_and_evaluate\u001b[0;34m(estimator, train_spec, eval_spec)\u001b[0m\n\u001b[1;32m    469\u001b[0m         '(with task id 0).  Given task id {}'.format(config.task_id))\n\u001b[1;32m    470\u001b[0m \u001b[0;34m\u001b[0m\u001b[0m\n\u001b[0;32m--> 471\u001b[0;31m   \u001b[0;32mreturn\u001b[0m \u001b[0mexecutor\u001b[0m\u001b[0;34m.\u001b[0m\u001b[0mrun\u001b[0m\u001b[0;34m(\u001b[0m\u001b[0;34m)\u001b[0m\u001b[0;34m\u001b[0m\u001b[0;34m\u001b[0m\u001b[0m\n\u001b[0m\u001b[1;32m    472\u001b[0m \u001b[0;34m\u001b[0m\u001b[0m\n\u001b[1;32m    473\u001b[0m \u001b[0;34m\u001b[0m\u001b[0m\n",
      "\u001b[0;32m~/anaconda3/lib/python3.6/site-packages/tensorflow/python/estimator/training.py\u001b[0m in \u001b[0;36mrun\u001b[0;34m(self)\u001b[0m\n\u001b[1;32m    608\u001b[0m         config.task_type != run_config_lib.TaskType.EVALUATOR):\n\u001b[1;32m    609\u001b[0m       \u001b[0mlogging\u001b[0m\u001b[0;34m.\u001b[0m\u001b[0minfo\u001b[0m\u001b[0;34m(\u001b[0m\u001b[0;34m'Running training and evaluation locally (non-distributed).'\u001b[0m\u001b[0;34m)\u001b[0m\u001b[0;34m\u001b[0m\u001b[0;34m\u001b[0m\u001b[0m\n\u001b[0;32m--> 610\u001b[0;31m       \u001b[0;32mreturn\u001b[0m \u001b[0mself\u001b[0m\u001b[0;34m.\u001b[0m\u001b[0mrun_local\u001b[0m\u001b[0;34m(\u001b[0m\u001b[0;34m)\u001b[0m\u001b[0;34m\u001b[0m\u001b[0;34m\u001b[0m\u001b[0m\n\u001b[0m\u001b[1;32m    611\u001b[0m \u001b[0;34m\u001b[0m\u001b[0m\n\u001b[1;32m    612\u001b[0m     \u001b[0;31m# Distributed case.\u001b[0m\u001b[0;34m\u001b[0m\u001b[0;34m\u001b[0m\u001b[0;34m\u001b[0m\u001b[0m\n",
      "\u001b[0;32m~/anaconda3/lib/python3.6/site-packages/tensorflow/python/estimator/training.py\u001b[0m in \u001b[0;36mrun_local\u001b[0;34m(self)\u001b[0m\n\u001b[1;32m    709\u001b[0m         \u001b[0mmax_steps\u001b[0m\u001b[0;34m=\u001b[0m\u001b[0mself\u001b[0m\u001b[0;34m.\u001b[0m\u001b[0m_train_spec\u001b[0m\u001b[0;34m.\u001b[0m\u001b[0mmax_steps\u001b[0m\u001b[0;34m,\u001b[0m\u001b[0;34m\u001b[0m\u001b[0;34m\u001b[0m\u001b[0m\n\u001b[1;32m    710\u001b[0m         \u001b[0mhooks\u001b[0m\u001b[0;34m=\u001b[0m\u001b[0mtrain_hooks\u001b[0m\u001b[0;34m,\u001b[0m\u001b[0;34m\u001b[0m\u001b[0;34m\u001b[0m\u001b[0m\n\u001b[0;32m--> 711\u001b[0;31m         saving_listeners=saving_listeners)\n\u001b[0m\u001b[1;32m    712\u001b[0m \u001b[0;34m\u001b[0m\u001b[0m\n\u001b[1;32m    713\u001b[0m     eval_result = listener_for_eval.eval_result or _EvalResult(\n",
      "\u001b[0;32m~/anaconda3/lib/python3.6/site-packages/adanet/core/estimator.py\u001b[0m in \u001b[0;36mtrain\u001b[0;34m(self, input_fn, hooks, steps, max_steps, saving_listeners)\u001b[0m\n\u001b[1;32m    499\u001b[0m           \u001b[0;31m# in order to use them when preparing the next iteration.\u001b[0m\u001b[0;34m\u001b[0m\u001b[0;34m\u001b[0m\u001b[0;34m\u001b[0m\u001b[0m\n\u001b[1;32m    500\u001b[0m           \u001b[0mself\u001b[0m\u001b[0;34m.\u001b[0m\u001b[0m_train_hooks\u001b[0m \u001b[0;34m=\u001b[0m \u001b[0mhooks\u001b[0m \u001b[0;32mor\u001b[0m \u001b[0;34m(\u001b[0m\u001b[0;34m)\u001b[0m\u001b[0;34m\u001b[0m\u001b[0;34m\u001b[0m\u001b[0m\n\u001b[0;32m--> 501\u001b[0;31m           \u001b[0mself\u001b[0m\u001b[0;34m.\u001b[0m\u001b[0m_prepare_next_iteration\u001b[0m\u001b[0;34m(\u001b[0m\u001b[0minput_fn\u001b[0m\u001b[0;34m)\u001b[0m\u001b[0;34m\u001b[0m\u001b[0;34m\u001b[0m\u001b[0m\n\u001b[0m\u001b[1;32m    502\u001b[0m \u001b[0;34m\u001b[0m\u001b[0m\n\u001b[1;32m    503\u001b[0m         \u001b[0;31m# This inner loop serves mainly for synchronizing the workers with the\u001b[0m\u001b[0;34m\u001b[0m\u001b[0;34m\u001b[0m\u001b[0;34m\u001b[0m\u001b[0m\n",
      "\u001b[0;32m~/anaconda3/lib/python3.6/site-packages/adanet/core/estimator.py\u001b[0m in \u001b[0;36m_prepare_next_iteration\u001b[0;34m(self, train_input_fn)\u001b[0m\n\u001b[1;32m    618\u001b[0m     \u001b[0mparams\u001b[0m\u001b[0;34m[\u001b[0m\u001b[0mself\u001b[0m\u001b[0;34m.\u001b[0m\u001b[0m_Keys\u001b[0m\u001b[0;34m.\u001b[0m\u001b[0mINCREMENT_ITERATION\u001b[0m\u001b[0;34m]\u001b[0m \u001b[0;34m=\u001b[0m \u001b[0;32mTrue\u001b[0m\u001b[0;34m\u001b[0m\u001b[0;34m\u001b[0m\u001b[0m\n\u001b[1;32m    619\u001b[0m     self._call_adanet_model_fn(train_input_fn, tf.estimator.ModeKeys.TRAIN,\n\u001b[0;32m--> 620\u001b[0;31m                                params)\n\u001b[0m\u001b[1;32m    621\u001b[0m \u001b[0;34m\u001b[0m\u001b[0m\n\u001b[1;32m    622\u001b[0m   \u001b[0;32mdef\u001b[0m \u001b[0m_architecture_filename\u001b[0m\u001b[0;34m(\u001b[0m\u001b[0mself\u001b[0m\u001b[0;34m,\u001b[0m \u001b[0miteration_number\u001b[0m\u001b[0;34m)\u001b[0m\u001b[0;34m:\u001b[0m\u001b[0;34m\u001b[0m\u001b[0;34m\u001b[0m\u001b[0m\n",
      "\u001b[0;32m~/anaconda3/lib/python3.6/site-packages/adanet/core/estimator.py\u001b[0m in \u001b[0;36m_call_adanet_model_fn\u001b[0;34m(self, input_fn, mode, params)\u001b[0m\n\u001b[1;32m    578\u001b[0m       \u001b[0mtf\u001b[0m\u001b[0;34m.\u001b[0m\u001b[0mtrain\u001b[0m\u001b[0;34m.\u001b[0m\u001b[0mget_or_create_global_step\u001b[0m\u001b[0;34m(\u001b[0m\u001b[0;34m)\u001b[0m\u001b[0;34m\u001b[0m\u001b[0;34m\u001b[0m\u001b[0m\n\u001b[1;32m    579\u001b[0m       \u001b[0mfeatures\u001b[0m\u001b[0;34m,\u001b[0m \u001b[0mlabels\u001b[0m \u001b[0;34m=\u001b[0m \u001b[0minput_fn\u001b[0m\u001b[0;34m(\u001b[0m\u001b[0;34m)\u001b[0m\u001b[0;34m\u001b[0m\u001b[0;34m\u001b[0m\u001b[0m\n\u001b[0;32m--> 580\u001b[0;31m       \u001b[0mself\u001b[0m\u001b[0;34m.\u001b[0m\u001b[0m_adanet_model_fn\u001b[0m\u001b[0;34m(\u001b[0m\u001b[0mfeatures\u001b[0m\u001b[0;34m,\u001b[0m \u001b[0mlabels\u001b[0m\u001b[0;34m,\u001b[0m \u001b[0mmode\u001b[0m\u001b[0;34m,\u001b[0m \u001b[0mparams\u001b[0m\u001b[0;34m)\u001b[0m\u001b[0;34m\u001b[0m\u001b[0;34m\u001b[0m\u001b[0m\n\u001b[0m\u001b[1;32m    581\u001b[0m \u001b[0;34m\u001b[0m\u001b[0m\n\u001b[1;32m    582\u001b[0m   \u001b[0;32mdef\u001b[0m \u001b[0m_prepare_next_iteration\u001b[0m\u001b[0;34m(\u001b[0m\u001b[0mself\u001b[0m\u001b[0;34m,\u001b[0m \u001b[0mtrain_input_fn\u001b[0m\u001b[0;34m)\u001b[0m\u001b[0;34m:\u001b[0m\u001b[0;34m\u001b[0m\u001b[0;34m\u001b[0m\u001b[0m\n",
      "\u001b[0;32m~/anaconda3/lib/python3.6/site-packages/adanet/core/estimator.py\u001b[0m in \u001b[0;36m_adanet_model_fn\u001b[0;34m(self, features, labels, mode, params)\u001b[0m\n\u001b[1;32m   1102\u001b[0m       \u001b[0;32mif\u001b[0m \u001b[0mself\u001b[0m\u001b[0;34m.\u001b[0m\u001b[0m_Keys\u001b[0m\u001b[0;34m.\u001b[0m\u001b[0mINCREMENT_ITERATION\u001b[0m \u001b[0;32min\u001b[0m \u001b[0mparams\u001b[0m\u001b[0;34m:\u001b[0m\u001b[0;34m\u001b[0m\u001b[0;34m\u001b[0m\u001b[0m\n\u001b[1;32m   1103\u001b[0m         \u001b[0mlatest_checkpoint\u001b[0m \u001b[0;34m=\u001b[0m \u001b[0mtf\u001b[0m\u001b[0;34m.\u001b[0m\u001b[0mtrain\u001b[0m\u001b[0;34m.\u001b[0m\u001b[0mlatest_checkpoint\u001b[0m\u001b[0;34m(\u001b[0m\u001b[0mself\u001b[0m\u001b[0;34m.\u001b[0m\u001b[0mmodel_dir\u001b[0m\u001b[0;34m)\u001b[0m\u001b[0;34m\u001b[0m\u001b[0;34m\u001b[0m\u001b[0m\n\u001b[0;32m-> 1104\u001b[0;31m         \u001b[0mtf\u001b[0m\u001b[0;34m.\u001b[0m\u001b[0mtrain\u001b[0m\u001b[0;34m.\u001b[0m\u001b[0mwarm_start\u001b[0m\u001b[0;34m(\u001b[0m\u001b[0mlatest_checkpoint\u001b[0m\u001b[0;34m,\u001b[0m \u001b[0mvars_to_warm_start\u001b[0m\u001b[0;34m=\u001b[0m\u001b[0;34m[\u001b[0m\u001b[0;34m\".*\"\u001b[0m\u001b[0;34m]\u001b[0m\u001b[0;34m)\u001b[0m\u001b[0;34m\u001b[0m\u001b[0;34m\u001b[0m\u001b[0m\n\u001b[0m\u001b[1;32m   1105\u001b[0m       \u001b[0mprevious_ensemble_reports\u001b[0m\u001b[0;34m,\u001b[0m \u001b[0mall_reports\u001b[0m \u001b[0;34m=\u001b[0m \u001b[0;34m[\u001b[0m\u001b[0;34m]\u001b[0m\u001b[0;34m,\u001b[0m \u001b[0;34m[\u001b[0m\u001b[0;34m]\u001b[0m\u001b[0;34m\u001b[0m\u001b[0;34m\u001b[0m\u001b[0m\n\u001b[1;32m   1106\u001b[0m       \u001b[0;32mif\u001b[0m \u001b[0mself\u001b[0m\u001b[0;34m.\u001b[0m\u001b[0m_report_materializer\u001b[0m\u001b[0;34m:\u001b[0m\u001b[0;34m\u001b[0m\u001b[0;34m\u001b[0m\u001b[0m\n",
      "\u001b[0;32m~/anaconda3/lib/python3.6/site-packages/tensorflow/python/training/warm_starting_util.py\u001b[0m in \u001b[0;36mwarm_start\u001b[0;34m(ckpt_to_initialize_from, vars_to_warm_start, var_name_to_vocab_info, var_name_to_prev_var_name)\u001b[0m\n\u001b[1;32m    461\u001b[0m         \u001b[0;32mif\u001b[0m \u001b[0mlen\u001b[0m\u001b[0;34m(\u001b[0m\u001b[0mvariable\u001b[0m\u001b[0;34m)\u001b[0m \u001b[0;34m==\u001b[0m \u001b[0;36m1\u001b[0m\u001b[0;34m:\u001b[0m\u001b[0;34m\u001b[0m\u001b[0;34m\u001b[0m\u001b[0m\n\u001b[1;32m    462\u001b[0m           \u001b[0mvariable\u001b[0m \u001b[0;34m=\u001b[0m \u001b[0mvariable\u001b[0m\u001b[0;34m[\u001b[0m\u001b[0;36m0\u001b[0m\u001b[0;34m]\u001b[0m\u001b[0;34m\u001b[0m\u001b[0;34m\u001b[0m\u001b[0m\n\u001b[0;32m--> 463\u001b[0;31m         \u001b[0m_warm_start_var\u001b[0m\u001b[0;34m(\u001b[0m\u001b[0mvariable\u001b[0m\u001b[0;34m,\u001b[0m \u001b[0mckpt_to_initialize_from\u001b[0m\u001b[0;34m,\u001b[0m \u001b[0mprev_var_name\u001b[0m\u001b[0;34m)\u001b[0m\u001b[0;34m\u001b[0m\u001b[0;34m\u001b[0m\u001b[0m\n\u001b[0m\u001b[1;32m    464\u001b[0m \u001b[0;34m\u001b[0m\u001b[0m\n\u001b[1;32m    465\u001b[0m   prev_var_name_not_used = set(\n",
      "\u001b[0;32m~/anaconda3/lib/python3.6/site-packages/tensorflow/python/training/warm_starting_util.py\u001b[0m in \u001b[0;36m_warm_start_var\u001b[0;34m(var, prev_ckpt, prev_tensor_name)\u001b[0m\n\u001b[1;32m    179\u001b[0m     \u001b[0;31m# Assume tensor name remains the same.\u001b[0m\u001b[0;34m\u001b[0m\u001b[0;34m\u001b[0m\u001b[0;34m\u001b[0m\u001b[0m\n\u001b[1;32m    180\u001b[0m     \u001b[0mprev_tensor_name\u001b[0m \u001b[0;34m=\u001b[0m \u001b[0mcurrent_var_name\u001b[0m\u001b[0;34m\u001b[0m\u001b[0;34m\u001b[0m\u001b[0m\n\u001b[0;32m--> 181\u001b[0;31m   \u001b[0mcheckpoint_utils\u001b[0m\u001b[0;34m.\u001b[0m\u001b[0minit_from_checkpoint\u001b[0m\u001b[0;34m(\u001b[0m\u001b[0mprev_ckpt\u001b[0m\u001b[0;34m,\u001b[0m \u001b[0;34m{\u001b[0m\u001b[0mprev_tensor_name\u001b[0m\u001b[0;34m:\u001b[0m \u001b[0mvar\u001b[0m\u001b[0;34m}\u001b[0m\u001b[0;34m)\u001b[0m\u001b[0;34m\u001b[0m\u001b[0;34m\u001b[0m\u001b[0m\n\u001b[0m\u001b[1;32m    182\u001b[0m \u001b[0;34m\u001b[0m\u001b[0m\n\u001b[1;32m    183\u001b[0m \u001b[0;34m\u001b[0m\u001b[0m\n",
      "\u001b[0;32m~/anaconda3/lib/python3.6/site-packages/tensorflow/python/training/checkpoint_utils.py\u001b[0m in \u001b[0;36minit_from_checkpoint\u001b[0;34m(ckpt_dir_or_file, assignment_map)\u001b[0m\n\u001b[1;32m    185\u001b[0m   \u001b[0;32melse\u001b[0m\u001b[0;34m:\u001b[0m\u001b[0;34m\u001b[0m\u001b[0;34m\u001b[0m\u001b[0m\n\u001b[1;32m    186\u001b[0m     distribution_strategy_context.get_tower_context().merge_call(\n\u001b[0;32m--> 187\u001b[0;31m         _init_from_checkpoint, ckpt_dir_or_file, assignment_map)\n\u001b[0m\u001b[1;32m    188\u001b[0m \u001b[0;34m\u001b[0m\u001b[0m\n\u001b[1;32m    189\u001b[0m \u001b[0;34m\u001b[0m\u001b[0m\n",
      "\u001b[0;32m~/anaconda3/lib/python3.6/site-packages/tensorflow/python/training/distribute.py\u001b[0m in \u001b[0;36mmerge_call\u001b[0;34m(self, merge_fn, *args, **kwargs)\u001b[0m\n\u001b[1;32m   1051\u001b[0m     \"\"\"\n\u001b[1;32m   1052\u001b[0m     \u001b[0mrequire_tower_context\u001b[0m\u001b[0;34m(\u001b[0m\u001b[0mself\u001b[0m\u001b[0;34m)\u001b[0m\u001b[0;34m\u001b[0m\u001b[0;34m\u001b[0m\u001b[0m\n\u001b[0;32m-> 1053\u001b[0;31m     \u001b[0;32mreturn\u001b[0m \u001b[0mself\u001b[0m\u001b[0;34m.\u001b[0m\u001b[0m_merge_call\u001b[0m\u001b[0;34m(\u001b[0m\u001b[0mmerge_fn\u001b[0m\u001b[0;34m,\u001b[0m \u001b[0;34m*\u001b[0m\u001b[0margs\u001b[0m\u001b[0;34m,\u001b[0m \u001b[0;34m**\u001b[0m\u001b[0mkwargs\u001b[0m\u001b[0;34m)\u001b[0m\u001b[0;34m\u001b[0m\u001b[0;34m\u001b[0m\u001b[0m\n\u001b[0m\u001b[1;32m   1054\u001b[0m \u001b[0;34m\u001b[0m\u001b[0m\n\u001b[1;32m   1055\u001b[0m   \u001b[0;32mdef\u001b[0m \u001b[0m_merge_call\u001b[0m\u001b[0;34m(\u001b[0m\u001b[0mself\u001b[0m\u001b[0;34m,\u001b[0m \u001b[0mmerge_fn\u001b[0m\u001b[0;34m,\u001b[0m \u001b[0;34m*\u001b[0m\u001b[0margs\u001b[0m\u001b[0;34m,\u001b[0m \u001b[0;34m**\u001b[0m\u001b[0mkwargs\u001b[0m\u001b[0;34m)\u001b[0m\u001b[0;34m:\u001b[0m\u001b[0;34m\u001b[0m\u001b[0;34m\u001b[0m\u001b[0m\n",
      "\u001b[0;32m~/anaconda3/lib/python3.6/site-packages/tensorflow/python/training/distribute.py\u001b[0m in \u001b[0;36m_merge_call\u001b[0;34m(self, merge_fn, *args, **kwargs)\u001b[0m\n\u001b[1;32m   1059\u001b[0m             self._distribution_strategy))\n\u001b[1;32m   1060\u001b[0m     \u001b[0;32mtry\u001b[0m\u001b[0;34m:\u001b[0m\u001b[0;34m\u001b[0m\u001b[0;34m\u001b[0m\u001b[0m\n\u001b[0;32m-> 1061\u001b[0;31m       \u001b[0;32mreturn\u001b[0m \u001b[0mmerge_fn\u001b[0m\u001b[0;34m(\u001b[0m\u001b[0mself\u001b[0m\u001b[0;34m.\u001b[0m\u001b[0m_distribution_strategy\u001b[0m\u001b[0;34m,\u001b[0m \u001b[0;34m*\u001b[0m\u001b[0margs\u001b[0m\u001b[0;34m,\u001b[0m \u001b[0;34m**\u001b[0m\u001b[0mkwargs\u001b[0m\u001b[0;34m)\u001b[0m\u001b[0;34m\u001b[0m\u001b[0;34m\u001b[0m\u001b[0m\n\u001b[0m\u001b[1;32m   1062\u001b[0m     \u001b[0;32mfinally\u001b[0m\u001b[0;34m:\u001b[0m\u001b[0;34m\u001b[0m\u001b[0;34m\u001b[0m\u001b[0m\n\u001b[1;32m   1063\u001b[0m       \u001b[0m_pop_per_thread_mode\u001b[0m\u001b[0;34m(\u001b[0m\u001b[0;34m)\u001b[0m\u001b[0;34m\u001b[0m\u001b[0;34m\u001b[0m\u001b[0m\n",
      "\u001b[0;32m~/anaconda3/lib/python3.6/site-packages/tensorflow/python/training/checkpoint_utils.py\u001b[0m in \u001b[0;36m_init_from_checkpoint\u001b[0;34m(_, ckpt_dir_or_file, assignment_map)\u001b[0m\n\u001b[1;32m    214\u001b[0m       \u001b[0;32mif\u001b[0m \u001b[0mtensor_name_in_ckpt\u001b[0m \u001b[0;32mnot\u001b[0m \u001b[0;32min\u001b[0m \u001b[0mvariable_map\u001b[0m\u001b[0;34m:\u001b[0m\u001b[0;34m\u001b[0m\u001b[0;34m\u001b[0m\u001b[0m\n\u001b[1;32m    215\u001b[0m         raise ValueError(\"Tensor %s is not found in %s checkpoint %s\" % (\n\u001b[0;32m--> 216\u001b[0;31m             \u001b[0mtensor_name_in_ckpt\u001b[0m\u001b[0;34m,\u001b[0m \u001b[0mckpt_dir_or_file\u001b[0m\u001b[0;34m,\u001b[0m \u001b[0mvariable_map\u001b[0m\u001b[0;34m\u001b[0m\u001b[0;34m\u001b[0m\u001b[0m\n\u001b[0m\u001b[1;32m    217\u001b[0m         ))\n\u001b[1;32m    218\u001b[0m       \u001b[0;32mif\u001b[0m \u001b[0m_is_variable\u001b[0m\u001b[0;34m(\u001b[0m\u001b[0mvar\u001b[0m\u001b[0;34m)\u001b[0m\u001b[0;34m:\u001b[0m\u001b[0;34m\u001b[0m\u001b[0;34m\u001b[0m\u001b[0m\n",
      "\u001b[0;31mValueError\u001b[0m: Tensor adanet/iteration_0/ensemble_t0_cnn_1/weighted_subnetwork_0/subnetwork/dense_1/kernel is not found in /tmp/tmp7550ry0e/model.ckpt-50 checkpoint {'current_iteration': [], 'adanet/iteration_0/step': [], 'adanet/iteration_0/ensemble_t0_cnn_1/weighted_subnetwork_0/subnetwork/dense_4/kernel': [100, 10], 'adanet/iteration_0/ensemble_t0_cnn_1/weighted_subnetwork_0/subnetwork/dense_4/bias': [10], 'adanet/iteration_0/ensemble_t0_cnn_1/weighted_subnetwork_0/subnetwork/dense_3/bias': [100], 'adanet/iteration_0/ensemble_t0_cnn_0/train_subnetwork/adanet/iteration_0/ensemble_t0_cnn_0/weighted_subnetwork_0/subnetwork/dense_2/bias/RMSProp': [10], 'adanet/iteration_0/ensemble_t0_cnn_0/train_subnetwork/adanet/iteration_0/ensemble_t0_cnn_0/weighted_subnetwork_0/subnetwork/dense_1/kernel/RMSProp': [150528, 100], 'adanet/iteration_0/ensemble_t0_cnn_0/weighted_subnetwork_0/subnetwork/dense_2/bias': [10], 'adanet/iteration_0/ensemble_t0_cnn_1/train_subnetwork/adanet/iteration_0/ensemble_t0_cnn_1/weighted_subnetwork_0/subnetwork/dense_4/kernel/RMSProp_1': [100, 10], 'adanet/iteration_0/ensemble_t0_cnn_0/train_subnetwork/adanet/iteration_0/ensemble_t0_cnn_0/weighted_subnetwork_0/subnetwork/dense_1/kernel/RMSProp_1': [150528, 100], 'adanet/iteration_0/ensemble_t0_cnn_0/bias': [10], 'adanet/iteration_0/ensemble_t0_cnn_0/weighted_subnetwork_0/logits/mixture_weight': [], 'adanet/iteration_0/ensemble_t0_cnn_0/weighted_subnetwork_0/subnetwork/dense_1/bias': [100], 'adanet/iteration_0/ensemble_t0_cnn_1/train_subnetwork/adanet/iteration_0/ensemble_t0_cnn_1/weighted_subnetwork_0/subnetwork/conv2d_1/bias/RMSProp': [32], 'adanet/iteration_0/candidate_t0_cnn_0/adanet/iteration_0/candidate_t0_cnn_0/adanet_loss/local_step': [], 'adanet/iteration_0/candidate_t0_cnn_0/adanet/iteration_0/candidate_t0_cnn_0/adanet_loss/biased': [], 'adanet/iteration_0/train_op/is_over/is_over_var_fn/is_over_var': [], 'adanet/iteration_0/ensemble_t0_cnn_1/train_subnetwork/adanet/iteration_0/ensemble_t0_cnn_1/weighted_subnetwork_0/subnetwork/dense_4/kernel/RMSProp': [100, 10], 'adanet/iteration_0/ensemble_t0_cnn_0/train_subnetwork/adanet/iteration_0/ensemble_t0_cnn_0/weighted_subnetwork_0/subnetwork/dense_1/bias/RMSProp': [100], 'adanet/iteration_0/candidate_t0_cnn_1/adanet/iteration_0/candidate_t0_cnn_1/adanet_loss/biased': [], 'adanet/iteration_0/candidate_t0_cnn_1/adanet/iteration_0/candidate_t0_cnn_1/adanet_loss/local_step': [], 'adanet/iteration_0/ensemble_t0_cnn_1/train_subnetwork/adanet/iteration_0/ensemble_t0_cnn_1/weighted_subnetwork_0/subnetwork/conv2d_1/kernel/RMSProp': [7, 7, 3, 32], 'adanet/iteration_0/ensemble_t0_cnn_1/weighted_subnetwork_0/subnetwork/conv2d_1/bias': [32], 'adanet/iteration_0/ensemble_t0_cnn_0/train_subnetwork/adanet/iteration_0/ensemble_t0_cnn_0/weighted_subnetwork_0/subnetwork/dense_1/bias/RMSProp_1': [100], 'adanet/iteration_0/candidate_t0_cnn_0/adanet_loss': [], 'global_step': [], 'adanet/iteration_0/ensemble_t0_cnn_1/train_subnetwork/adanet/iteration_0/ensemble_t0_cnn_1/weighted_subnetwork_0/subnetwork/dense_3/kernel/RMSProp_1': [380192, 100], 'adanet/iteration_0/candidate_t0_cnn_1/adanet_loss': [], 'adanet/iteration_0/ensemble_t0_cnn_0/weighted_subnetwork_0/subnetwork/dense_1/kernel': [150528, 100], 'adanet/iteration_0/ensemble_t0_cnn_1/train_subnetwork/adanet/iteration_0/ensemble_t0_cnn_1/weighted_subnetwork_0/subnetwork/dense_3/bias/RMSProp_1': [100], 'adanet/iteration_0/ensemble_t0_cnn_0/weighted_subnetwork_0/subnetwork/dense_2/kernel': [100, 10], 'adanet/iteration_0/ensemble_t0_cnn_1/bias': [10], 'adanet/iteration_0/ensemble_t0_cnn_0/train_subnetwork/adanet/iteration_0/ensemble_t0_cnn_0/weighted_subnetwork_0/subnetwork/dense_2/bias/RMSProp_1': [10], 'adanet/iteration_0/ensemble_t0_cnn_1/train_subnetwork/adanet/iteration_0/ensemble_t0_cnn_1/weighted_subnetwork_0/subnetwork/conv2d_1/bias/RMSProp_1': [32], 'adanet/iteration_0/ensemble_t0_cnn_0/train_subnetwork/adanet/iteration_0/ensemble_t0_cnn_0/weighted_subnetwork_0/subnetwork/dense_2/kernel/RMSProp_1': [100, 10], 'adanet/iteration_0/ensemble_t0_cnn_1/train_subnetwork/adanet/iteration_0/ensemble_t0_cnn_1/weighted_subnetwork_0/subnetwork/conv2d_1/kernel/RMSProp_1': [7, 7, 3, 32], 'adanet/iteration_0/ensemble_t0_cnn_0/train_subnetwork/adanet/iteration_0/ensemble_t0_cnn_0/weighted_subnetwork_0/subnetwork/dense_2/kernel/RMSProp': [100, 10], 'adanet/iteration_0/ensemble_t0_cnn_1/train_subnetwork/adanet/iteration_0/ensemble_t0_cnn_1/weighted_subnetwork_0/subnetwork/dense_3/kernel/RMSProp': [380192, 100], 'adanet/iteration_0/ensemble_t0_cnn_1/train_subnetwork/adanet/iteration_0/ensemble_t0_cnn_1/weighted_subnetwork_0/subnetwork/dense_3/bias/RMSProp': [100], 'adanet/iteration_0/ensemble_t0_cnn_1/train_subnetwork/adanet/iteration_0/ensemble_t0_cnn_1/weighted_subnetwork_0/subnetwork/dense_4/bias/RMSProp': [10], 'adanet/iteration_0/ensemble_t0_cnn_1/weighted_subnetwork_0/subnetwork/dense_3/kernel': [380192, 100], 'adanet/iteration_0/ensemble_t0_cnn_1/train_subnetwork/adanet/iteration_0/ensemble_t0_cnn_1/weighted_subnetwork_0/subnetwork/dense_4/bias/RMSProp_1': [10], 'adanet/iteration_0/ensemble_t0_cnn_1/weighted_subnetwork_0/logits/mixture_weight': [], 'adanet/iteration_0/ensemble_t0_cnn_1/weighted_subnetwork_0/subnetwork/conv2d_1/kernel': [7, 7, 3, 32]}"
     ]
    }
   ],
   "source": [
    "results, _ = tf.estimator.train_and_evaluate(\n",
    "    estimator,\n",
    "    train_spec=tf.estimator.TrainSpec(\n",
    "        input_fn=train_input_fn,\n",
    "        max_steps=TRAIN_STEPS),\n",
    "    eval_spec=tf.estimator.EvalSpec(\n",
    "        input_fn=test_input_fn,\n",
    "        steps=None))\n",
    "print(\"Accuracy:\", results[\"accuracy\"])\n",
    "print(\"Loss:\", results[\"average_loss\"])\n",
    "print(ensemble_architecture(results))"
   ]
  },
  {
   "cell_type": "code",
   "execution_count": null,
   "metadata": {},
   "outputs": [],
   "source": []
  }
 ],
 "metadata": {
  "kernelspec": {
   "display_name": "Python 3",
   "language": "python",
   "name": "python3"
  },
  "language_info": {
   "codemirror_mode": {
    "name": "ipython",
    "version": 3
   },
   "file_extension": ".py",
   "mimetype": "text/x-python",
   "name": "python",
   "nbconvert_exporter": "python",
   "pygments_lexer": "ipython3",
   "version": "3.6.8"
  }
 },
 "nbformat": 4,
 "nbformat_minor": 2
}
