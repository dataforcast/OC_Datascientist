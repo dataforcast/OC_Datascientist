{
 "cells": [
  {
   "cell_type": "markdown",
   "metadata": {},
   "source": [
    "<!--NOTEBOOK_INFORMATION-->\n",
    "<img align=\"left\" style=\"padding-right:10px;\" src=\"./figures/LogoOpenclassrooms.png\">\n",
    "<font size=\"4\">\n",
    "    \n",
    "Cette étude a été réalisée dans le cadre du 6ème projet de ma formation Datascientist dispensée en MOOC par \n",
    "\n",
    "<font color='blus'>Openclassrooms / écoles Centrale-Supélec</font>.\n",
    "\n",
    "\n",
    "\n",
    "\n",
    "<p></p><p></p><p></p>\n",
    "\n",
    "\n",
    "\n",
    "\n",
    "\n",
    "**Le problème posé :**\n",
    "\n",
    "# <font color='blus'>Indexation d'images</font>\n",
    "\n",
    "Vous êtes bénévole pour l'association de protection des animaux de votre quartier. C'est d'ailleurs ainsi que vous avez trouvé votre compagnon idéal, Snooky. Du coup, vous vous demandez ce que vous pouvez faire en retour pour aider l'association.\n",
    "\n",
    "Vous apprenez, en discutant avec un bénévole, que leur base de données de pensionnaires commence à s'agrandir et qu'ils n'ont pas toujours le temps de référencer les images des animaux qu'ils ont accumulées depuis plusieurs années. Ils aimeraient donc réaliser un index de l’ensemble de la base de données d’images qu’ils possèdent, pour classer les chiens par races.\n",
    "\n",
    "**<font color='blus'>Les données</font>**\n",
    "\n",
    "Les bénévoles de l'association n'ont pas eu le temps de réunir les différentes images des pensionnaires dispersées sur leurs disques durs. Pas de problème, vous développerez un algorithme en utilisant le Stanford Dogs Dataset pour entraîner votre algorithme.\n",
    "\n",
    "**<font color='blus'>Votre mission</font>**\n",
    "\n",
    "En tant que Data Scientist, l'association vous demande de réaliser un algorithme de détection de la race du chien sur une photo, afin d'accélérer leur travail d’indexation.\n",
    "\n",
    "**<font color='blus'>Contraintes</font>**\n",
    "\n",
    "Lors de ce projet, vous mettrez en œuvre deux approches.\n",
    "\n",
    "* Une approche classique : il s’agit de pre-processer des images avec des techniques spécifiques (e.g.whitening, equalisation, filtre linéaire/laplacien/gaussien, éventuellement modifier la taille des images), puis d’extraire des features (e.g. texture, corners, edges et SIFT detector). Il faut ensuite réduire les dimensions, soit par des approches classiques (e.g. PCA, k-means) soit avec une approche par histogrammes et dictionary learning (bag-of-words appliqué aux images), puis appliquer des algorithmes de classification standards.\n",
    "\n",
    "\n",
    "\n",
    "* Lors de l’analyse exploratoire, vous regarderez si les features extraites et utilisées en classification sont prometteuses en utilisant des méthodes de réduction de dimension pour visualiser le dataset en 2D. Cela vous permettra d’affiner votre intuition sur les différents traitements possibles, sans que cela ne se substitue à des mesures de performances rigoureuses.\n",
    "\n",
    "\n",
    "\n",
    "* Une approche s’appuyant sur l’état de l’art et l’utilisation de CNN (réseaux de neurones convolutionnels). Compte tenu de la taille et de la complexité du dataset, et de la puissance de calcul à votre disposition, il est très difficile d’obtenir de bonnes performances (pour ça, essayez MNIST). Aussi, est-il recommandé d’utiliser le transfer learning, c’est-à-dire utiliser un réseau déjà entraîné, et le modifier pour répondre à votre problème. Une première chose obligatoire est de ré-entraîner les dernières couches pour prédire les classes qui vous intéressent seulement. Il est également possible d’adapter la structure (supprimer certaines couches par exemple) ou de ré-entraîner le modèle avec un très faible learning rate pour ajuster les poids à votre problème (plus long) et optimiser les performances.\n",
    "\n",
    "\n",
    "***Ce notebook est dédié à la conception et à l'étude d'un CNN pré-entraîné en full tuning***"
   ]
  },
  {
   "cell_type": "code",
   "execution_count": 1,
   "metadata": {},
   "outputs": [],
   "source": [
    "%load_ext autoreload\n",
    "%autoreload 2\n",
    "%reload_ext autoreload"
   ]
  },
  {
   "cell_type": "markdown",
   "metadata": {},
   "source": [
    "# <font color='blus'>0. Data is loaded  </font>"
   ]
  },
  {
   "cell_type": "code",
   "execution_count": 2,
   "metadata": {},
   "outputs": [
    {
     "name": "stdout",
     "output_type": "stream",
     "text": [
      "p5_util.object_load : fileName= ./data/dict_keras_dataset.dump\n",
      "Nb of breeds= 3\n"
     ]
    },
    {
     "data": {
      "text/plain": [
       "((322, 224, 224, 3), (139, 224, 224, 3), (322, 3), (139, 3))"
      ]
     },
     "execution_count": 2,
     "metadata": {},
     "output_type": "execute_result"
    }
   ],
   "source": [
    "import p5_util\n",
    "\n",
    "filename = './data/dict_keras_dataset.dump'\n",
    "dict_keras_dataset = p5_util.object_load(filename)\n",
    "(X_train, X_test, y_train, y_test, nClass) = dict_keras_dataset['payload']\n",
    "nClasses = y_train.shape[1]\n",
    "print(\"Nb of breeds= \"+str(nClasses))\n",
    "X_train.shape, X_test.shape, y_train.shape, y_test.shape"
   ]
  },
  {
   "cell_type": "markdown",
   "metadata": {},
   "source": [
    "#### VGG16 model is downloaded with imagenet weights without dense layers"
   ]
  },
  {
   "cell_type": "code",
   "execution_count": 3,
   "metadata": {},
   "outputs": [
    {
     "name": "stderr",
     "output_type": "stream",
     "text": [
      "Using TensorFlow backend.\n"
     ]
    },
    {
     "name": "stdout",
     "output_type": "stream",
     "text": [
      "_________________________________________________________________\n",
      "Layer (type)                 Output Shape              Param #   \n",
      "=================================================================\n",
      "input_1 (InputLayer)         (None, 224, 224, 3)       0         \n",
      "_________________________________________________________________\n",
      "block1_conv1 (Conv2D)        (None, 224, 224, 64)      1792      \n",
      "_________________________________________________________________\n",
      "block1_conv2 (Conv2D)        (None, 224, 224, 64)      36928     \n",
      "_________________________________________________________________\n",
      "block1_pool (MaxPooling2D)   (None, 112, 112, 64)      0         \n",
      "_________________________________________________________________\n",
      "block2_conv1 (Conv2D)        (None, 112, 112, 128)     73856     \n",
      "_________________________________________________________________\n",
      "block2_conv2 (Conv2D)        (None, 112, 112, 128)     147584    \n",
      "_________________________________________________________________\n",
      "block2_pool (MaxPooling2D)   (None, 56, 56, 128)       0         \n",
      "_________________________________________________________________\n",
      "block3_conv1 (Conv2D)        (None, 56, 56, 256)       295168    \n",
      "_________________________________________________________________\n",
      "block3_conv2 (Conv2D)        (None, 56, 56, 256)       590080    \n",
      "_________________________________________________________________\n",
      "block3_conv3 (Conv2D)        (None, 56, 56, 256)       590080    \n",
      "_________________________________________________________________\n",
      "block3_pool (MaxPooling2D)   (None, 28, 28, 256)       0         \n",
      "_________________________________________________________________\n",
      "block4_conv1 (Conv2D)        (None, 28, 28, 512)       1180160   \n",
      "_________________________________________________________________\n",
      "block4_conv2 (Conv2D)        (None, 28, 28, 512)       2359808   \n",
      "_________________________________________________________________\n",
      "block4_conv3 (Conv2D)        (None, 28, 28, 512)       2359808   \n",
      "_________________________________________________________________\n",
      "block4_pool (MaxPooling2D)   (None, 14, 14, 512)       0         \n",
      "_________________________________________________________________\n",
      "block5_conv1 (Conv2D)        (None, 14, 14, 512)       2359808   \n",
      "_________________________________________________________________\n",
      "block5_conv2 (Conv2D)        (None, 14, 14, 512)       2359808   \n",
      "_________________________________________________________________\n",
      "block5_conv3 (Conv2D)        (None, 14, 14, 512)       2359808   \n",
      "_________________________________________________________________\n",
      "block5_pool (MaxPooling2D)   (None, 7, 7, 512)         0         \n",
      "=================================================================\n",
      "Total params: 14,714,688\n",
      "Trainable params: 14,714,688\n",
      "Non-trainable params: 0\n",
      "_________________________________________________________________\n"
     ]
    }
   ],
   "source": [
    "from keras.applications import VGG16\n",
    " \n",
    "vgg16_pretrained_conv = VGG16(weights='imagenet',\n",
    "                  include_top=False,\n",
    "                  input_shape=(224, 224, 3))\n",
    "\n",
    "\n",
    "vgg16_pretrained_conv.summary()"
   ]
  },
  {
   "cell_type": "markdown",
   "metadata": {},
   "source": [
    "#### Classification layers are added"
   ]
  },
  {
   "cell_type": "code",
   "execution_count": 4,
   "metadata": {},
   "outputs": [
    {
     "name": "stdout",
     "output_type": "stream",
     "text": [
      "_________________________________________________________________\n",
      "Layer (type)                 Output Shape              Param #   \n",
      "=================================================================\n",
      "vgg16 (Model)                (None, 7, 7, 512)         14714688  \n",
      "_________________________________________________________________\n",
      "flatten_1 (Flatten)          (None, 25088)             0         \n",
      "_________________________________________________________________\n",
      "dense_1 (Dense)              (None, 512)               12845568  \n",
      "_________________________________________________________________\n",
      "dropout_1 (Dropout)          (None, 512)               0         \n",
      "_________________________________________________________________\n",
      "dense_2 (Dense)              (None, 3)                 1539      \n",
      "=================================================================\n",
      "Total params: 27,561,795\n",
      "Trainable params: 27,561,795\n",
      "Non-trainable params: 0\n",
      "_________________________________________________________________\n"
     ]
    }
   ],
   "source": [
    "import numpy as np\n",
    "\n",
    "from keras import models\n",
    "from keras import layers\n",
    "from keras import optimizers\n",
    "\n",
    "vgg16_imagenet_pretrained = models.Sequential()\n",
    "\n",
    "#--------------------------------------------------------------------------\n",
    "# Convolutional layers are added to the model\n",
    "#--------------------------------------------------------------------------\n",
    "vgg16_imagenet_pretrained.add(vgg16_pretrained_conv)\n",
    "\n",
    "\n",
    "#--------------------------------------------------------------------------\n",
    "# Flatten transformation is added in-between of output of convolutional \n",
    "# layers and of input of classification layers .\n",
    "#--------------------------------------------------------------------------\n",
    "vgg16_imagenet_pretrained.add(layers.Flatten())\n",
    "\n",
    "#--------------------------------------------------------------------------\n",
    "# Get output dimensions from convolutional layer\n",
    "#--------------------------------------------------------------------------\n",
    "conv_layer_output_shape = np.prod(vgg16_imagenet_pretrained.output_shape[1:])\n",
    "conv_layer_output_shape\n",
    "\n",
    "#--------------------------------------------------------------------------\n",
    "# Fist dense layer is compliant with output of last convolutional layer \n",
    "# from pre-trained model for transfer learning\n",
    "#--------------------------------------------------------------------------\n",
    "vgg16_imagenet_pretrained.add(layers.Dense(512, activation='relu', input_dim=conv_layer_output_shape))\n",
    "vgg16_imagenet_pretrained.add(layers.Dropout(0.5))\n",
    "\n",
    "#--------------------------------------------------------------------------\n",
    "# Last dense layer will classify amont nClass classes.\n",
    "#--------------------------------------------------------------------------\n",
    "vgg16_imagenet_pretrained.add(layers.Dense(nClasses, activation='softmax'))\n",
    "\n",
    "\n",
    "vgg16_imagenet_pretrained.summary()"
   ]
  },
  {
   "cell_type": "markdown",
   "metadata": {},
   "source": [
    "#### Compilation"
   ]
  },
  {
   "cell_type": "code",
   "execution_count": 5,
   "metadata": {},
   "outputs": [
    {
     "name": "stdout",
     "output_type": "stream",
     "text": [
      "_________________________________________________________________\n",
      "Layer (type)                 Output Shape              Param #   \n",
      "=================================================================\n",
      "vgg16 (Model)                (None, 7, 7, 512)         14714688  \n",
      "_________________________________________________________________\n",
      "flatten_1 (Flatten)          (None, 25088)             0         \n",
      "_________________________________________________________________\n",
      "dense_1 (Dense)              (None, 512)               12845568  \n",
      "_________________________________________________________________\n",
      "dropout_1 (Dropout)          (None, 512)               0         \n",
      "_________________________________________________________________\n",
      "dense_2 (Dense)              (None, 3)                 1539      \n",
      "=================================================================\n",
      "Total params: 27,561,795\n",
      "Trainable params: 27,561,795\n",
      "Non-trainable params: 0\n",
      "_________________________________________________________________\n"
     ]
    }
   ],
   "source": [
    "vgg16_imagenet_pretrained.compile(loss=\"categorical_crossentropy\", optimizer=optimizers.SGD(lr=0.0001\\\n",
    "                                                             , momentum=0.9), metrics=[\"accuracy\"])\n",
    "vgg16_imagenet_pretrained.summary()\n"
   ]
  },
  {
   "cell_type": "markdown",
   "metadata": {},
   "source": [
    "#### Model is trained with previous features extracted from convolutional layers."
   ]
  },
  {
   "cell_type": "code",
   "execution_count": 6,
   "metadata": {},
   "outputs": [
    {
     "name": "stdout",
     "output_type": "stream",
     "text": [
      "Train on 322 samples, validate on 139 samples\n",
      "Epoch 1/50\n",
      "322/322 [==============================] - 126s 391ms/step - loss: 1.6498 - acc: 0.2702 - val_loss: 1.1615 - val_acc: 0.3022\n",
      "Epoch 2/50\n",
      "322/322 [==============================] - 287s 891ms/step - loss: 1.4193 - acc: 0.3323 - val_loss: 1.3055 - val_acc: 0.3094\n",
      "Epoch 3/50\n",
      "322/322 [==============================] - 219s 681ms/step - loss: 1.2710 - acc: 0.4099 - val_loss: 1.0383 - val_acc: 0.4532\n",
      "Epoch 4/50\n",
      "322/322 [==============================] - 175s 544ms/step - loss: 1.1661 - acc: 0.3851 - val_loss: 1.0363 - val_acc: 0.4317\n",
      "Epoch 5/50\n",
      "322/322 [==============================] - 155s 481ms/step - loss: 1.1006 - acc: 0.3975 - val_loss: 1.0035 - val_acc: 0.5108\n",
      "Epoch 6/50\n",
      "322/322 [==============================] - 144s 447ms/step - loss: 1.0485 - acc: 0.4658 - val_loss: 1.0355 - val_acc: 0.4964\n",
      "Epoch 7/50\n",
      "322/322 [==============================] - 132s 410ms/step - loss: 1.0663 - acc: 0.4627 - val_loss: 0.9588 - val_acc: 0.5612\n",
      "Epoch 8/50\n",
      "322/322 [==============================] - 126s 393ms/step - loss: 0.9442 - acc: 0.5621 - val_loss: 0.9617 - val_acc: 0.5755\n",
      "Epoch 9/50\n",
      "322/322 [==============================] - 123s 382ms/step - loss: 0.8760 - acc: 0.6273 - val_loss: 0.9363 - val_acc: 0.6043\n",
      "Epoch 10/50\n",
      "322/322 [==============================] - 120s 374ms/step - loss: 0.8160 - acc: 0.6491 - val_loss: 0.8846 - val_acc: 0.6187\n",
      "Epoch 11/50\n",
      "322/322 [==============================] - 121s 377ms/step - loss: 0.8191 - acc: 0.6491 - val_loss: 0.8887 - val_acc: 0.6115\n",
      "Epoch 12/50\n",
      "322/322 [==============================] - 122s 378ms/step - loss: 0.7936 - acc: 0.6398 - val_loss: 0.8425 - val_acc: 0.6547\n",
      "Epoch 13/50\n",
      "322/322 [==============================] - 121s 376ms/step - loss: 0.7128 - acc: 0.7112 - val_loss: 0.8168 - val_acc: 0.6547\n",
      "Epoch 14/50\n",
      "322/322 [==============================] - 120s 374ms/step - loss: 0.6944 - acc: 0.7174 - val_loss: 0.7887 - val_acc: 0.6906\n",
      "Epoch 15/50\n",
      "322/322 [==============================] - 122s 380ms/step - loss: 0.6337 - acc: 0.7950 - val_loss: 0.7770 - val_acc: 0.6619\n",
      "Epoch 16/50\n",
      "322/322 [==============================] - 121s 376ms/step - loss: 0.5985 - acc: 0.7671 - val_loss: 0.7549 - val_acc: 0.6763\n",
      "Epoch 17/50\n",
      "322/322 [==============================] - 121s 376ms/step - loss: 0.5992 - acc: 0.7578 - val_loss: 0.7422 - val_acc: 0.6763\n",
      "Epoch 18/50\n",
      "322/322 [==============================] - 121s 377ms/step - loss: 0.5636 - acc: 0.8012 - val_loss: 0.7164 - val_acc: 0.6835\n",
      "Epoch 19/50\n",
      "322/322 [==============================] - 121s 376ms/step - loss: 0.5691 - acc: 0.7578 - val_loss: 0.7092 - val_acc: 0.6978\n",
      "Epoch 20/50\n",
      "322/322 [==============================] - 121s 376ms/step - loss: 0.5191 - acc: 0.7950 - val_loss: 0.7035 - val_acc: 0.6906\n",
      "Epoch 21/50\n",
      "322/322 [==============================] - 121s 377ms/step - loss: 0.4878 - acc: 0.8106 - val_loss: 0.6863 - val_acc: 0.6978\n",
      "Epoch 22/50\n",
      "322/322 [==============================] - 122s 378ms/step - loss: 0.4728 - acc: 0.8199 - val_loss: 0.6872 - val_acc: 0.7410\n",
      "Epoch 23/50\n",
      "322/322 [==============================] - 121s 375ms/step - loss: 0.4419 - acc: 0.8261 - val_loss: 0.6719 - val_acc: 0.7554\n",
      "Epoch 24/50\n",
      "322/322 [==============================] - 122s 377ms/step - loss: 0.3866 - acc: 0.8851 - val_loss: 0.6483 - val_acc: 0.7410\n",
      "Epoch 25/50\n",
      "322/322 [==============================] - 121s 377ms/step - loss: 0.3787 - acc: 0.8851 - val_loss: 0.6400 - val_acc: 0.7266\n",
      "Epoch 26/50\n",
      "322/322 [==============================] - 122s 380ms/step - loss: 0.3391 - acc: 0.9006 - val_loss: 0.6424 - val_acc: 0.7338\n",
      "Epoch 27/50\n",
      "322/322 [==============================] - 121s 375ms/step - loss: 0.3419 - acc: 0.9037 - val_loss: 0.6258 - val_acc: 0.7626\n",
      "Epoch 28/50\n",
      "322/322 [==============================] - 121s 376ms/step - loss: 0.3523 - acc: 0.8851 - val_loss: 0.5981 - val_acc: 0.7482\n",
      "Epoch 29/50\n",
      "322/322 [==============================] - 121s 375ms/step - loss: 0.2806 - acc: 0.9348 - val_loss: 0.5894 - val_acc: 0.7410\n",
      "Epoch 30/50\n",
      "322/322 [==============================] - 121s 375ms/step - loss: 0.2861 - acc: 0.9161 - val_loss: 0.5945 - val_acc: 0.7482\n",
      "Epoch 31/50\n",
      "322/322 [==============================] - 122s 378ms/step - loss: 0.2713 - acc: 0.9099 - val_loss: 0.5728 - val_acc: 0.7482\n",
      "Epoch 32/50\n",
      "322/322 [==============================] - 122s 378ms/step - loss: 0.2398 - acc: 0.9193 - val_loss: 0.5738 - val_acc: 0.7698\n",
      "Epoch 33/50\n",
      "322/322 [==============================] - 122s 380ms/step - loss: 0.2510 - acc: 0.9224 - val_loss: 0.5705 - val_acc: 0.7554\n",
      "Epoch 34/50\n",
      "322/322 [==============================] - 121s 376ms/step - loss: 0.2051 - acc: 0.9658 - val_loss: 0.5710 - val_acc: 0.7770\n",
      "Epoch 35/50\n",
      "322/322 [==============================] - 122s 378ms/step - loss: 0.1931 - acc: 0.9472 - val_loss: 0.5769 - val_acc: 0.7626\n",
      "Epoch 36/50\n",
      "322/322 [==============================] - 121s 377ms/step - loss: 0.1955 - acc: 0.9503 - val_loss: 0.5631 - val_acc: 0.7554\n",
      "Epoch 37/50\n",
      "322/322 [==============================] - 122s 378ms/step - loss: 0.1782 - acc: 0.9596 - val_loss: 0.5502 - val_acc: 0.7554\n",
      "Epoch 38/50\n",
      "322/322 [==============================] - 122s 378ms/step - loss: 0.1650 - acc: 0.9627 - val_loss: 0.5765 - val_acc: 0.7842\n",
      "Epoch 39/50\n",
      "322/322 [==============================] - 122s 380ms/step - loss: 0.1604 - acc: 0.9565 - val_loss: 0.5816 - val_acc: 0.7554\n",
      "Epoch 40/50\n",
      "322/322 [==============================] - 121s 376ms/step - loss: 0.1530 - acc: 0.9627 - val_loss: 0.5523 - val_acc: 0.7482\n",
      "Epoch 41/50\n",
      "322/322 [==============================] - 120s 373ms/step - loss: 0.1684 - acc: 0.9534 - val_loss: 0.5087 - val_acc: 0.7986\n",
      "Epoch 42/50\n",
      "322/322 [==============================] - 121s 375ms/step - loss: 0.1669 - acc: 0.9596 - val_loss: 0.5564 - val_acc: 0.7770\n",
      "Epoch 43/50\n",
      "322/322 [==============================] - 121s 377ms/step - loss: 0.1271 - acc: 0.9720 - val_loss: 0.5804 - val_acc: 0.7410\n",
      "Epoch 44/50\n",
      "322/322 [==============================] - 122s 378ms/step - loss: 0.1152 - acc: 0.9689 - val_loss: 0.5245 - val_acc: 0.7770\n",
      "Epoch 45/50\n",
      "322/322 [==============================] - 122s 380ms/step - loss: 0.1132 - acc: 0.9876 - val_loss: 0.4908 - val_acc: 0.7842\n",
      "Epoch 46/50\n",
      "322/322 [==============================] - 121s 376ms/step - loss: 0.1410 - acc: 0.9565 - val_loss: 0.4959 - val_acc: 0.7986\n",
      "Epoch 47/50\n",
      "322/322 [==============================] - 121s 377ms/step - loss: 0.0916 - acc: 0.9814 - val_loss: 0.5221 - val_acc: 0.7914\n",
      "Epoch 48/50\n",
      "322/322 [==============================] - 121s 376ms/step - loss: 0.0982 - acc: 0.9783 - val_loss: 0.5459 - val_acc: 0.7842\n",
      "Epoch 49/50\n",
      "322/322 [==============================] - 120s 372ms/step - loss: 0.0933 - acc: 0.9752 - val_loss: 0.5463 - val_acc: 0.7914\n",
      "Epoch 50/50\n",
      "322/322 [==============================] - 121s 376ms/step - loss: 0.0682 - acc: 0.9969 - val_loss: 0.5328 - val_acc: 0.7914\n"
     ]
    }
   ],
   "source": [
    "history = vgg16_imagenet_pretrained.fit(X_train,\n",
    "                    y_train,\n",
    "                    epochs=50,\n",
    "                    batch_size=100,\n",
    "                    validation_data=(X_test,y_test))\n"
   ]
  },
  {
   "cell_type": "markdown",
   "metadata": {},
   "source": [
    "#### Results are displayed"
   ]
  },
  {
   "cell_type": "code",
   "execution_count": 8,
   "metadata": {},
   "outputs": [
    {
     "name": "stdout",
     "output_type": "stream",
     "text": [
      "139/139 [==============================] - 15s 105ms/step\n",
      "Evaluation result on Test Data : Loss = 0.53, accuracy = 0.79\n"
     ]
    },
    {
     "data": {
      "image/png": "[encoded data removed]",
      "text/plain": [
       "<Figure size 576x432 with 1 Axes>"
      ]
     },
     "metadata": {
      "needs_background": "light"
     },
     "output_type": "display_data"
    },
    {
     "data": {
      "image/png": "[encoded data removed]",
      "text/plain": [
       "<Figure size 576x432 with 1 Axes>"
      ]
     },
     "metadata": {
      "needs_background": "light"
     },
     "output_type": "display_data"
    }
   ],
   "source": [
    "import p7_util\n",
    "\n",
    "lost, score_acc = p7_util.p7_plot_cnn_history(vgg16_imagenet_pretrained, X_test, y_test, history=history)"
   ]
  },
  {
   "cell_type": "code",
   "execution_count": null,
   "metadata": {},
   "outputs": [],
   "source": []
  }
 ],
 "metadata": {
  "kernelspec": {
   "display_name": "Python 3",
   "language": "python",
   "name": "python3"
  },
  "language_info": {
   "codemirror_mode": {
    "name": "ipython",
    "version": 3
   },
   "file_extension": ".py",
   "mimetype": "text/x-python",
   "name": "python",
   "nbconvert_exporter": "python",
   "pygments_lexer": "ipython3",
   "version": "3.6.8"
  }
 },
 "nbformat": 4,
 "nbformat_minor": 2
}
