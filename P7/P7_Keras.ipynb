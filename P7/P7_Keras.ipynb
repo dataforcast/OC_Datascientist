{
 "cells": [
  {
   "cell_type": "code",
   "execution_count": null,
   "metadata": {},
   "outputs": [],
   "source": [
    "import numpy as np\n",
    "import pandas as pd\n",
    "import matplotlib.pyplot as plt\n",
    "\n",
    "import P7_DataBreed\n",
    "import p5_util\n",
    "\n",
    "%load_ext autoreload\n",
    "%autoreload 2\n",
    "%reload_ext autoreload\n",
    "\n",
    "from  sklearn import model_selection\n",
    "import numpy as np\n",
    "\n",
    "#-------------------------------------------------------------------------------\n",
    "#\n",
    "#-------------------------------------------------------------------------------\n",
    "def arr_X_y_build(X,y):\n",
    "    list_X = [np.array(x) for x in X]\n",
    "    list_y = [Y for Y in y]\n",
    "\n",
    "    weight  = list_X[0].shape[0]\n",
    "    height  = list_X[0].shape[1]\n",
    "    channel = list_X[0].shape[2]\n",
    "    \n",
    "    arr_X  = list_X[0].reshape((1, weight, height, channel))\n",
    "    \n",
    "\n",
    "    image_count = X.shape[0]\n",
    "    list_image_error = list()\n",
    "    for image_i in range(1,image_count) :\n",
    "        try :\n",
    "            arr_X\\\n",
    "            = np.append(arr_X,list_X[image_i].reshape((1, weight, height, channel)),axis=0)\n",
    "        except ValueError :\n",
    "            list_image_error.append(image_i)\n",
    "\n",
    "    arr_y = np.array(y)\n",
    "    return arr_X, arr_y\n",
    "#-------------------------------------------------------------------------------\n",
    "\n",
    "#-------------------------------------------------------------------------------\n",
    "#\n",
    "#-------------------------------------------------------------------------------\n",
    "def arr_X_train_test_build(X,y,test_size=0.2):\n",
    "    X_train, X_test, y_train,  y_test \\\n",
    "    = model_selection.train_test_split(X,y,test_size=test_size)\n",
    "\n",
    "    print(X_train.shape, y_train.shape, X_test.shape, y_test.shape)\n",
    "    print(\"Images for training...\")\n",
    "    arr_X_train, arr_y_train = arr_X_y_build(X_train, y_train)\n",
    "    print(\"Images for testing...\")\n",
    "    arr_X_test, arr_y_test = arr_X_y_build(X_test, y_test)\n",
    "    return arr_X_train, arr_X_test, arr_y_train, arr_y_test\n",
    "#-------------------------------------------------------------------------------"
   ]
  },
  {
   "cell_type": "code",
   "execution_count": null,
   "metadata": {},
   "outputs": [],
   "source": [
    "import p5_util\n",
    "filename= './data/df_breed_image.dump'\n",
    "df = p5_util.object_load(filename)\n",
    "df.shape"
   ]
  },
  {
   "cell_type": "raw",
   "metadata": {},
   "source": [
    "df['image'] = df['image'].apply(lambda ser : ser.resize((200,200)))\n",
    "filename= './data/df_breed_image.dump'\n",
    "p5_util.object_dump(df ,filename)"
   ]
  },
  {
   "cell_type": "markdown",
   "metadata": {},
   "source": [
    "**Execute following cell in order to update object version with no change in attributes**\n",
    "\n",
    "* A backup instance of object is created. This backup instance is empty.\n",
    "* If object instance is not defined then it is read from dmped file.\n",
    "* object instance is copied back into backup instance\n",
    "* Backup instance is deleted"
   ]
  },
  {
   "cell_type": "raw",
   "metadata": {},
   "source": [
    "new_attribute=None\n",
    "\n",
    "import p5_util\n",
    "import P7_DataBreed\n",
    "\n",
    "if new_attribute is None :\n",
    "    is_saved = True\n",
    "    filename='./data/oP7_DataBreed.dump'\n",
    "    oP7_DataBreed_save = P7_DataBreed.P7_DataBreed()\n",
    "    try: \n",
    "        oP7_DataBreed\n",
    "    except NameError:\n",
    "        print('*** INFO : oP7_DataBreed is not defined; loading...')\n",
    "        oP7_DataBreed = p5_util.object_load(filename)\n",
    "        is_saved = False\n",
    "    oP7_DataBreed_save.copy(oP7_DataBreed)\n",
    "    oP7_DataBreed = P7_DataBreed.P7_DataBreed()\n",
    "    oP7_DataBreed.copy(oP7_DataBreed_save)\n",
    "    del(oP7_DataBreed_save)\n",
    "    oP7_DataBreed.show()\n",
    "    is_saved=True\n",
    "    if is_saved is True:\n",
    "        print('*** INFO : oP7_DataBreed is saved')\n",
    "        p5_util.object_dump(oP7_DataBreed,filename)\n"
   ]
  },
  {
   "cell_type": "markdown",
   "metadata": {},
   "source": [
    "**Building Data-model**\n",
    "\n",
    "DataFrame with images and breed names are labels is built.\n",
    "\n",
    "Labels are issued from encoding breed names. \n",
    "\n",
    "Labels are then used for training Keras network. \n"
   ]
  },
  {
   "cell_type": "raw",
   "metadata": {},
   "source": [
    "import pandas as pd\n",
    "\n",
    "import p5_util\n",
    "import P7_DataBreed\n",
    "\n",
    "dict_image = dict()\n",
    "label = 0\n",
    "df = pd.DataFrame()\n",
    "new_breedname = str()\n",
    "for dirbreed, list_imagefilename in oP7_DataBreed._dict_data.items():\n",
    "    for imagefilename in list_imagefilename :\n",
    "        pil_image = oP7_DataBreed.read_image(dirbreed, imagefilename)\n",
    "        breedname = dirbreed.split('-')[1]\n",
    "        df = df.append(pd.DataFrame([[breedname, label,pil_image]], columns=['breed','label','image']))\n",
    "        ##pil_image.close()\n",
    "    label +=1\n",
    "print(\"Image count = \"+str(len(df)))\n",
    "df.reset_index(drop=True, inplace=True)\n",
    "filename= './data/df_breed_image.dump'\n",
    "p5_util.object_dump(df,filename)\n",
    "df.sample()\n"
   ]
  },
  {
   "cell_type": "markdown",
   "metadata": {},
   "source": [
    "**Building X_train, y_train, X_test, y_test**"
   ]
  },
  {
   "cell_type": "code",
   "execution_count": null,
   "metadata": {},
   "outputs": [],
   "source": [
    "X=df['image']\n",
    "y=df['label']\n",
    "arr_X_train,arr_X_test, arr_y_train, arr_y_test = arr_X_train_test_build(X,y,test_size=0.6)\n",
    "\n",
    "\n",
    "import p5_util\n",
    "filename='./data/arr_X_y_train_test.dump'\n",
    "p5_util.object_dump((arr_X_train,arr_X_test, arr_y_train, arr_y_test),filename)"
   ]
  },
  {
   "cell_type": "code",
   "execution_count": null,
   "metadata": {},
   "outputs": [],
   "source": [
    "arr_X_train.shape,arr_X_test.shape,arr_y_train.shape,arr_y_test.shape"
   ]
  },
  {
   "cell_type": "markdown",
   "metadata": {},
   "source": [
    "**Building Keras network**"
   ]
  },
  {
   "cell_type": "code",
   "execution_count": null,
   "metadata": {},
   "outputs": [],
   "source": [
    "import p5_util\n",
    "filename='./data/arr_X_y_train_test.dump'\n",
    "(arr_X_train,arr_X_test, arr_y_train, arr_y_test) = p5_util.object_load(filename)"
   ]
  },
  {
   "cell_type": "code",
   "execution_count": 2,
   "metadata": {},
   "outputs": [
    {
     "name": "stderr",
     "output_type": "stream",
     "text": [
      "Using TensorFlow backend.\n"
     ]
    },
    {
     "name": "stdout",
     "output_type": "stream",
     "text": [
      "200 200 3\n"
     ]
    }
   ],
   "source": [
    "from keras.models import Sequential\n",
    "from keras.layers import Conv2D, MaxPooling2D\n",
    "from keras.layers import Flatten, Dense\n",
    "\n",
    "my_VGG16 = Sequential()  # Création d'un réseau de neurones vide \n",
    "\n",
    "# Ajout de la première couche de convolution, suivie d'une couche ReLU\n",
    "w=arr_X_train.shape[1]\n",
    "h=arr_X_train.shape[2]\n",
    "c=arr_X_train.shape[3]\n",
    "print(w,h,c)\n",
    "my_VGG16.add(Conv2D(64, (3, 3), input_shape=(w, h, c), padding='same', activation='relu'))"
   ]
  },
  {
   "cell_type": "code",
   "execution_count": null,
   "metadata": {},
   "outputs": [],
   "source": [
    "# Ajout de la deuxième couche de convolution, suivie  d'une couche ReLU\n",
    "my_VGG16.add(Conv2D(64, (3, 3), padding='same', activation='relu'))\n"
   ]
  },
  {
   "cell_type": "code",
   "execution_count": 3,
   "metadata": {},
   "outputs": [],
   "source": [
    "# Ajout de la première couche de pooling\n",
    "my_VGG16.add(MaxPooling2D(pool_size=(2,2), strides=(2,2)))\n"
   ]
  },
  {
   "cell_type": "raw",
   "metadata": {},
   "source": [
    "\n",
    "my_VGG16.add(Flatten())  # Conversion des matrices 3D en vecteur 1D\n",
    "\n",
    "# Ajout de la première couche fully-connected, suivie d'une couche ReLU\n",
    "my_VGG16.add(Dense(7, activation='relu'))\n",
    "\n",
    "# Ajout de la deuxième couche fully-connected, suivie d'une couche ReLU\n",
    "my_VGG16.add(Dense(7, activation='relu'))\n"
   ]
  },
  {
   "cell_type": "code",
   "execution_count": 4,
   "metadata": {},
   "outputs": [
    {
     "data": {
      "text/plain": [
       "365"
      ]
     },
     "execution_count": 4,
     "metadata": {},
     "output_type": "execute_result"
    }
   ],
   "source": [
    "arr_y_train.shape[0]"
   ]
  },
  {
   "cell_type": "code",
   "execution_count": 5,
   "metadata": {},
   "outputs": [
    {
     "name": "stdout",
     "output_type": "stream",
     "text": [
      "365\n"
     ]
    }
   ],
   "source": [
    "# Ajout de la dernière couche fully-connected qui permet de classifier\n",
    "my_VGG16.add(Flatten())  # Conversion des matrices 3D en vecteur 1D\n",
    "\n",
    "print(arr_y_train.shape[0])\n",
    "my_VGG16.add(Dense(arr_y_train.shape[0], activation='softmax'))"
   ]
  },
  {
   "cell_type": "code",
   "execution_count": 6,
   "metadata": {},
   "outputs": [],
   "source": [
    "from keras import optimizers\n",
    "sgd = optimizers.SGD(lr=1e-3, decay=1e-6, momentum=0.9, nesterov=True)\n",
    "\n",
    "#my_VGG16.compile(optimizer=sgd, loss='categorical_crossentropy', metrics=['accuracy'])\n",
    "my_VGG16.compile(optimizer=sgd, loss='sparse_categorical_crossentropy', metrics=['accuracy'])\n",
    "\n"
   ]
  },
  {
   "cell_type": "code",
   "execution_count": 7,
   "metadata": {},
   "outputs": [
    {
     "name": "stdout",
     "output_type": "stream",
     "text": [
      "(365, 200, 200, 3)\n",
      "Epoch 1/1\n",
      "365/365 [==============================] - 22s 61ms/step - loss: 16.1181 - acc: 0.0000e+00\n"
     ]
    },
    {
     "data": {
      "text/plain": [
       "<keras.callbacks.History at 0x7eff506cae48>"
      ]
     },
     "execution_count": 7,
     "metadata": {},
     "output_type": "execute_result"
    }
   ],
   "source": [
    "#for X_train, y_train in zip(list_X_train, list_y_train):\n",
    "print(arr_X_train.shape)\n",
    "my_VGG16.fit(arr_X_train, arr_y_train)"
   ]
  },
  {
   "cell_type": "code",
   "execution_count": null,
   "metadata": {},
   "outputs": [],
   "source": [
    "my_VGG16.get_config()"
   ]
  },
  {
   "cell_type": "markdown",
   "metadata": {},
   "source": [
    "**Test for images classification**"
   ]
  },
  {
   "cell_type": "code",
   "execution_count": 8,
   "metadata": {},
   "outputs": [],
   "source": [
    "arr_result = my_VGG16.predict(arr_X_test)[0]"
   ]
  },
  {
   "cell_type": "code",
   "execution_count": 9,
   "metadata": {},
   "outputs": [],
   "source": [
    "filename= './data/result_vgg16.dump'\n",
    "p5_util.object_dump(arr_result,filename)"
   ]
  },
  {
   "cell_type": "code",
   "execution_count": 12,
   "metadata": {},
   "outputs": [
    {
     "data": {
      "text/plain": [
       "array([6.8363668e-38, 0.0000000e+00, 1.8494062e-15, 2.2768897e-32,\n",
       "       0.0000000e+00, 0.0000000e+00, 0.0000000e+00, 0.0000000e+00,\n",
       "       0.0000000e+00, 0.0000000e+00, 0.0000000e+00, 5.0137078e-29,\n",
       "       0.0000000e+00, 0.0000000e+00, 4.1629119e-33, 4.5139040e-26,\n",
       "       0.0000000e+00, 1.8933776e-24, 0.0000000e+00, 7.2826582e-24,\n",
       "       0.0000000e+00, 0.0000000e+00, 0.0000000e+00, 0.0000000e+00,\n",
       "       0.0000000e+00, 0.0000000e+00, 0.0000000e+00, 0.0000000e+00,\n",
       "       0.0000000e+00, 6.0128037e-17, 0.0000000e+00, 2.3106209e-24,\n",
       "       0.0000000e+00, 0.0000000e+00, 5.4673112e-32, 0.0000000e+00,\n",
       "       0.0000000e+00, 0.0000000e+00, 0.0000000e+00, 0.0000000e+00,\n",
       "       2.5498006e-32, 0.0000000e+00, 0.0000000e+00, 0.0000000e+00,\n",
       "       2.3368496e-32, 9.5936284e-26, 0.0000000e+00, 9.8330610e-10,\n",
       "       1.5572405e-26, 0.0000000e+00, 0.0000000e+00, 1.1371664e-24,\n",
       "       0.0000000e+00, 2.2376522e-31, 0.0000000e+00, 0.0000000e+00,\n",
       "       0.0000000e+00, 1.6830685e-30, 0.0000000e+00, 3.7930571e-37,\n",
       "       2.3864310e-26, 0.0000000e+00, 0.0000000e+00, 0.0000000e+00,\n",
       "       6.9954421e-31, 0.0000000e+00, 0.0000000e+00, 0.0000000e+00,\n",
       "       0.0000000e+00, 2.3455256e-36, 0.0000000e+00, 0.0000000e+00,\n",
       "       0.0000000e+00, 0.0000000e+00, 0.0000000e+00, 1.7633039e-21,\n",
       "       3.1109696e-06, 8.9415059e-31, 2.7608230e-17, 1.6649911e-29,\n",
       "       0.0000000e+00, 1.1193560e-03, 0.0000000e+00, 0.0000000e+00,\n",
       "       0.0000000e+00, 3.7531794e-34, 0.0000000e+00, 8.2139642e-29,\n",
       "       0.0000000e+00, 6.3423333e-18, 2.8500994e-19, 0.0000000e+00,\n",
       "       2.2451400e-33, 5.5698873e-19, 5.1925291e-30, 0.0000000e+00,\n",
       "       2.0613276e-31, 0.0000000e+00, 2.7242936e-22, 2.0426300e-21,\n",
       "       0.0000000e+00, 4.9421469e-18, 8.2932619e-17, 0.0000000e+00,\n",
       "       0.0000000e+00, 0.0000000e+00, 0.0000000e+00, 0.0000000e+00,\n",
       "       0.0000000e+00, 1.7263767e-37, 0.0000000e+00, 0.0000000e+00,\n",
       "       7.3239864e-21, 0.0000000e+00, 0.0000000e+00, 0.0000000e+00,\n",
       "       5.0757681e-37, 0.0000000e+00, 2.8569991e-35, 0.0000000e+00,\n",
       "       0.0000000e+00, 0.0000000e+00, 0.0000000e+00, 1.2247835e-35,\n",
       "       0.0000000e+00, 0.0000000e+00, 0.0000000e+00, 1.2598621e-24,\n",
       "       0.0000000e+00, 0.0000000e+00, 4.4124402e-24, 7.4036141e-38,\n",
       "       4.2876814e-37, 1.9687095e-18, 1.0322268e-32, 7.2363728e-27,\n",
       "       2.9876160e-36, 0.0000000e+00, 0.0000000e+00, 0.0000000e+00,\n",
       "       3.2042141e-38, 0.0000000e+00, 0.0000000e+00, 0.0000000e+00,\n",
       "       1.2983821e-32, 0.0000000e+00, 0.0000000e+00, 1.5340758e-32,\n",
       "       0.0000000e+00, 0.0000000e+00, 1.1777538e-37, 0.0000000e+00,\n",
       "       0.0000000e+00, 1.8731064e-37, 0.0000000e+00, 0.0000000e+00,\n",
       "       0.0000000e+00, 0.0000000e+00, 0.0000000e+00, 0.0000000e+00,\n",
       "       1.7177723e-28, 0.0000000e+00, 0.0000000e+00, 0.0000000e+00,\n",
       "       6.9288142e-14, 0.0000000e+00, 5.4824135e-31, 3.9622815e-37,\n",
       "       5.8583496e-38, 0.0000000e+00, 1.2334118e-33, 1.0380720e-30,\n",
       "       5.1254601e-30, 1.4527977e-27, 0.0000000e+00, 0.0000000e+00,\n",
       "       0.0000000e+00, 3.8349536e-32, 0.0000000e+00, 3.1234854e-32,\n",
       "       0.0000000e+00, 1.5406226e-37, 6.3276103e-35, 0.0000000e+00,\n",
       "       0.0000000e+00, 3.0502914e-25, 0.0000000e+00, 0.0000000e+00,\n",
       "       0.0000000e+00, 0.0000000e+00, 6.8508362e-36, 8.4919759e-16,\n",
       "       4.7370377e-31, 0.0000000e+00, 8.0835012e-37, 0.0000000e+00,\n",
       "       0.0000000e+00, 0.0000000e+00, 0.0000000e+00, 0.0000000e+00,\n",
       "       0.0000000e+00, 0.0000000e+00, 0.0000000e+00, 2.7702214e-33,\n",
       "       0.0000000e+00, 3.7891214e-23, 0.0000000e+00, 0.0000000e+00,\n",
       "       4.4678274e-31, 0.0000000e+00, 0.0000000e+00, 0.0000000e+00,\n",
       "       0.0000000e+00, 0.0000000e+00, 8.3308952e-33, 0.0000000e+00,\n",
       "       3.1706687e-37, 0.0000000e+00, 0.0000000e+00, 0.0000000e+00,\n",
       "       1.8841623e-24, 0.0000000e+00, 7.5746927e-34, 3.6525923e-30,\n",
       "       0.0000000e+00, 0.0000000e+00, 0.0000000e+00, 1.9091091e-31,\n",
       "       0.0000000e+00, 0.0000000e+00, 0.0000000e+00, 1.2035160e-27,\n",
       "       0.0000000e+00, 5.9076770e-38, 0.0000000e+00, 3.1794959e-16,\n",
       "       0.0000000e+00, 0.0000000e+00, 0.0000000e+00, 4.9454123e-32,\n",
       "       0.0000000e+00, 0.0000000e+00, 6.2137153e-31, 0.0000000e+00,\n",
       "       2.5767130e-37, 0.0000000e+00, 0.0000000e+00, 0.0000000e+00,\n",
       "       0.0000000e+00, 1.8172934e-21, 0.0000000e+00, 0.0000000e+00,\n",
       "       0.0000000e+00, 0.0000000e+00, 0.0000000e+00, 0.0000000e+00,\n",
       "       7.1226143e-25, 0.0000000e+00, 0.0000000e+00, 0.0000000e+00,\n",
       "       0.0000000e+00, 5.9749380e-25, 0.0000000e+00, 1.4939446e-24,\n",
       "       5.7915327e-16, 0.0000000e+00, 0.0000000e+00, 7.0447608e-26,\n",
       "       9.8770766e-34, 0.0000000e+00, 5.1614352e-11, 0.0000000e+00,\n",
       "       8.1316769e-02, 3.6750549e-36, 0.0000000e+00, 0.0000000e+00,\n",
       "       0.0000000e+00, 4.9990954e-30, 0.0000000e+00, 1.3295609e-35,\n",
       "       1.0185933e-35, 2.5393060e-26, 4.7807359e-30, 0.0000000e+00,\n",
       "       0.0000000e+00, 0.0000000e+00, 1.0471733e-05, 0.0000000e+00,\n",
       "       0.0000000e+00, 0.0000000e+00, 0.0000000e+00, 0.0000000e+00,\n",
       "       0.0000000e+00, 8.1815836e-25, 0.0000000e+00, 3.4971852e-35,\n",
       "       0.0000000e+00, 0.0000000e+00, 1.7329083e-15, 1.8618020e-36,\n",
       "       0.0000000e+00, 7.2480958e-32, 0.0000000e+00, 1.5751989e-35,\n",
       "       0.0000000e+00, 4.5144296e-22, 2.8935634e-30, 0.0000000e+00,\n",
       "       0.0000000e+00, 3.9220691e-30, 0.0000000e+00, 0.0000000e+00,\n",
       "       0.0000000e+00, 5.6040186e-23, 2.1548093e-34, 2.3509157e-38,\n",
       "       0.0000000e+00, 1.3133223e-38, 0.0000000e+00, 0.0000000e+00,\n",
       "       0.0000000e+00, 2.2520192e-33, 0.0000000e+00, 0.0000000e+00,\n",
       "       0.0000000e+00, 0.0000000e+00, 0.0000000e+00, 1.0561317e-27,\n",
       "       6.9291288e-30, 0.0000000e+00, 0.0000000e+00, 4.2571675e-09,\n",
       "       0.0000000e+00, 8.1109407e-27, 3.6477029e-31, 6.3804650e-38,\n",
       "       0.0000000e+00, 1.9376262e-25, 0.0000000e+00, 0.0000000e+00,\n",
       "       2.3480216e-30, 0.0000000e+00, 0.0000000e+00, 0.0000000e+00,\n",
       "       0.0000000e+00, 0.0000000e+00, 3.2176442e-27, 0.0000000e+00,\n",
       "       0.0000000e+00, 0.0000000e+00, 0.0000000e+00, 0.0000000e+00,\n",
       "       0.0000000e+00, 0.0000000e+00, 0.0000000e+00, 9.1755027e-01,\n",
       "       0.0000000e+00, 0.0000000e+00, 7.8341665e-38, 0.0000000e+00,\n",
       "       0.0000000e+00, 2.0831174e-27, 0.0000000e+00, 2.9583759e-38,\n",
       "       0.0000000e+00], dtype=float32)"
      ]
     },
     "execution_count": 12,
     "metadata": {},
     "output_type": "execute_result"
    }
   ],
   "source": [
    "arr_result"
   ]
  },
  {
   "cell_type": "code",
   "execution_count": null,
   "metadata": {},
   "outputs": [],
   "source": []
  }
 ],
 "metadata": {
  "kernelspec": {
   "display_name": "Python 3",
   "language": "python",
   "name": "python3"
  },
  "language_info": {
   "codemirror_mode": {
    "name": "ipython",
    "version": 3
   },
   "file_extension": ".py",
   "mimetype": "text/x-python",
   "name": "python",
   "nbconvert_exporter": "python",
   "pygments_lexer": "ipython3",
   "version": "3.6.8"
  }
 },
 "nbformat": 4,
 "nbformat_minor": 2
}
