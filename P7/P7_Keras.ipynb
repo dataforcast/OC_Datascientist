{
 "cells": [
  {
   "cell_type": "code",
   "execution_count": null,
   "metadata": {},
   "outputs": [],
   "source": [
    "from IPython.display import display, clear_output\n",
    "\n",
    "\n",
    "import numpy as np\n",
    "import pandas as pd\n",
    "import matplotlib.pyplot as plt\n",
    "\n",
    "import P7_DataBreed\n",
    "import p5_util\n",
    "\n",
    "%load_ext autoreload\n",
    "%autoreload 2\n",
    "%reload_ext autoreload\n",
    "\n",
    "from  sklearn import model_selection\n",
    "import numpy as np\n"
   ]
  },
  {
   "cell_type": "code",
   "execution_count": null,
   "metadata": {},
   "outputs": [],
   "source": [
    "import p5_util\n",
    "filename= './data/df_breed_image.dump'\n",
    "if False :\n",
    "    df = p5_util.object_load(filename)\n",
    "    df.shape"
   ]
  },
  {
   "cell_type": "raw",
   "metadata": {},
   "source": [
    "df['image'] = df['image'].apply(lambda ser : ser.resize((200,200)))\n",
    "filename= './data/df_breed_image.dump'\n",
    "p5_util.object_dump(df ,filename)"
   ]
  },
  {
   "cell_type": "code",
   "execution_count": null,
   "metadata": {},
   "outputs": [],
   "source": [
    "import p5_util\n",
    "if True :\n",
    "    oP7_DataBreed = p5_util.object_load('./data/oP7_DataBreed.dump')\n",
    "    oP7_DataBreed.show()"
   ]
  },
  {
   "cell_type": "markdown",
   "metadata": {},
   "source": [
    "#### Build a sample dataset :\n",
    "\n",
    "Sampling is leaded by 2 parameters :\n",
    "* `breed_count` : number of breeds into the dataset\n",
    "* `image_per_breed_count` : for each breed, number of image into sample."
   ]
  },
  {
   "cell_type": "code",
   "execution_count": null,
   "metadata": {},
   "outputs": [],
   "source": [
    "import P7_DataBreed\n",
    "\n",
    "oP7_DataBreed=P7_DataBreed.P7_DataBreed('./data/Images')\n",
    "oP7_DataBreed.std_size=None\n",
    "oP7_DataBreed.is_squarred=False\n",
    "oP7_DataBreed.is_kp_filtered=False\n",
    "is_splitted=True\n",
    "oP7_DataBreed.split_ratio=(3,3)\n",
    "oP7_DataBreed.load()\n",
    "breed_count=3\n",
    "image_per_breed_count=100\n",
    "list_breed_sample=['n02107142-Doberman','n02115641-dingo','n02113978-Mexican_hairless']\n",
    "#list_breed_sample=['n02107142-Doberman']\n",
    "oP7_DataBreed.list_breed_sample = list_breed_sample\n",
    "oP7_DataBreed.sampling(breed_count, image_per_breed_count)\n",
    "\n",
    "oP7_DataBreed.show()\n",
    "oP7_DataBreed.show_breed_name()"
   ]
  },
  {
   "cell_type": "markdown",
   "metadata": {},
   "source": [
    "**Execute following cell in order to update object version with no change in attributes**\n",
    "\n",
    "* A backup instance of object is created. This backup instance is empty.\n",
    "* If object instance is not defined then it is read from dmped file.\n",
    "* object instance is copied back into backup instance\n",
    "* Backup instance is deleted"
   ]
  },
  {
   "cell_type": "code",
   "execution_count": null,
   "metadata": {},
   "outputs": [],
   "source": [
    "import P7_DataBreed\n",
    "if True :\n",
    "    oP7_DataBreed = P7_DataBreed.update_object_save(oP7_DataBreed, is_saved=False,is_new_attribute=True)\n",
    "    oP7_DataBreed.show()\n"
   ]
  },
  {
   "cell_type": "markdown",
   "metadata": {},
   "source": [
    "**Building Data-model**\n",
    "\n",
    "DataFrame with columns as images, breed names and labels is built.\n",
    "\n",
    "Labels are issued from encoding breed names. \n",
    "\n",
    "Labels are then used for training Keras network. \n"
   ]
  },
  {
   "cell_type": "code",
   "execution_count": null,
   "metadata": {},
   "outputs": [],
   "source": [
    "df = oP7_DataBreed.df_build()\n",
    "df.label.unique(),df.shape"
   ]
  },
  {
   "cell_type": "markdown",
   "metadata": {},
   "source": [
    "**Dataframe is saved**"
   ]
  },
  {
   "cell_type": "code",
   "execution_count": null,
   "metadata": {},
   "outputs": [],
   "source": [
    "import p5_util\n",
    "\n",
    "filename= './data/df_breed_image.dump'\n",
    "p5_util.object_dump(df,filename)\n",
    "df.sample()"
   ]
  },
  {
   "cell_type": "markdown",
   "metadata": {},
   "source": [
    "### Image truncated against image resize"
   ]
  },
  {
   "cell_type": "code",
   "execution_count": null,
   "metadata": {},
   "outputs": [],
   "source": [
    "ser_pil_image = df['image']\n",
    "ser_label = df['label']"
   ]
  },
  {
   "cell_type": "markdown",
   "metadata": {},
   "source": [
    "#### Original image sample"
   ]
  },
  {
   "cell_type": "code",
   "execution_count": null,
   "metadata": {},
   "outputs": [],
   "source": [
    "pil_image = ser_pil_image.iloc[0]\n",
    "print(pil_image.size)\n",
    "pil_image"
   ]
  },
  {
   "cell_type": "markdown",
   "metadata": {},
   "source": [
    "#### Resized image\n",
    "\n",
    "Resize does not lead to loss of information due to truncation.\n",
    "<br>\n",
    "Resizing allows to consume less resources into CNN network."
   ]
  },
  {
   "cell_type": "code",
   "execution_count": null,
   "metadata": {},
   "outputs": [],
   "source": [
    "from PIL import Image\n",
    "pil_image_square = pil_image.resize((224,224))\n",
    "pil_image_square"
   ]
  },
  {
   "cell_type": "markdown",
   "metadata": {},
   "source": [
    "#### Truncated image as square"
   ]
  },
  {
   "cell_type": "raw",
   "metadata": {},
   "source": [
    "import numpy as np\n",
    "import P7_DataBreed\n",
    "square=(204,204)\n",
    "pil_image_truncated = P7_DataBreed.pil_square(ser_pil_image.iloc[0], square=square)\n",
    "print(np.array(pil_image_truncated).shape)\n",
    "#arr_keras_X = arr_keras_X.reshape(1,arr_keras_X.shape[0],arr_keras_X.shape[1],arr_keras_X.shape[2])\n",
    "pil_image_truncated"
   ]
  },
  {
   "cell_type": "markdown",
   "metadata": {},
   "source": [
    "### Building train and test sample, Keras compliant"
   ]
  },
  {
   "cell_type": "code",
   "execution_count": null,
   "metadata": {},
   "outputs": [],
   "source": [
    "square = None\n",
    "resize = (224,224)\n",
    "test_size=0.1"
   ]
  },
  {
   "cell_type": "code",
   "execution_count": null,
   "metadata": {},
   "outputs": [],
   "source": [
    "import P7_DataBreed\n",
    "\n",
    "arr_keras_image_train, arr_keras_image_test, arr_label_train, arr_label_test \\\n",
    "= P7_DataBreed.p7_keras_X_train_test_build(ser_pil_image, ser_label, test_size=test_size, square=square, resize=resize)\n",
    "\n",
    "arr_keras_image_train.shape, arr_keras_image_test.shape, arr_label_train.shape, arr_label_test.shape"
   ]
  },
  {
   "cell_type": "markdown",
   "metadata": {},
   "source": [
    "#### Dump train and test sample"
   ]
  },
  {
   "cell_type": "code",
   "execution_count": null,
   "metadata": {},
   "outputs": [],
   "source": [
    "import p5_util\n",
    "filename='./data/arr_keras_X_y_train_test.dump'\n",
    "p5_util.object_dump((arr_keras_image_train, arr_keras_image_test, arr_label_train, arr_label_test),filename)"
   ]
  },
  {
   "cell_type": "markdown",
   "metadata": {},
   "source": [
    "# <font color='blus'>1. Breeds classification using Keras MLP model</font>"
   ]
  },
  {
   "cell_type": "markdown",
   "metadata": {},
   "source": [
    "#### Loading data"
   ]
  },
  {
   "cell_type": "code",
   "execution_count": 1,
   "metadata": {},
   "outputs": [
    {
     "name": "stderr",
     "output_type": "stream",
     "text": [
      "Using TensorFlow backend.\n"
     ]
    },
    {
     "name": "stdout",
     "output_type": "stream",
     "text": [
      "p5_util.object_load : fileName= ./data/arr_keras_X_y_train_test.dump\n",
      "(270, 224, 224, 3) (30, 224, 224, 3) (270, 1) (30, 1)\n",
      "Number of classses= 3\n",
      "\n",
      "(270, 3)\n",
      "(30, 3)\n",
      "150528\n",
      "(270, 150528)\n",
      "(30, 150528)\n"
     ]
    }
   ],
   "source": [
    "import numpy as np\n",
    "from keras.utils import to_categorical\n",
    "import p5_util\n",
    "\n",
    "filename='./data/arr_keras_X_y_train_test.dump'\n",
    "(X_train,X_test, y_train, y_test) = p5_util.object_load(filename)\n",
    "print(X_train.shape,X_test.shape,y_train.shape,y_test.shape)\n",
    "\n",
    "#### Data normalization\n",
    "X_train = X_train.astype('float32')\n",
    "X_test  = X_test.astype('float32')\n",
    "\n",
    "# Scale the data to lie between 0 to 1\n",
    "X_train /= 255\n",
    "X_test /= 255\n",
    "## Retrieve number of classes\n",
    "nClasses = len(np.unique(y_train))\n",
    "print(\"Number of classses= \"+str(nClasses))\n",
    "\n",
    "### One hot encoding of labels\n",
    "y_train_one_hot_enc = to_categorical(y_train)\n",
    "y_test_one_hot_enc = to_categorical(y_test)\n",
    "print()\n",
    "print(y_train_one_hot_enc.shape)\n",
    "print(y_test_one_hot_enc.shape)\n",
    "\n",
    "dimData = np.prod(X_train.shape[1:])\n",
    "print(dimData)\n",
    "\n",
    "X_train = X_train.reshape(X_train.shape[0], dimData)\n",
    "X_test  = X_test.reshape(X_test.shape[0], dimData)\n",
    "print(X_train.shape)\n",
    "print(X_test.shape)"
   ]
  },
  {
   "cell_type": "markdown",
   "metadata": {},
   "source": [
    "#### Building MLP network"
   ]
  },
  {
   "cell_type": "code",
   "execution_count": 2,
   "metadata": {},
   "outputs": [
    {
     "name": "stdout",
     "output_type": "stream",
     "text": [
      "_________________________________________________________________\n",
      "Layer (type)                 Output Shape              Param #   \n",
      "=================================================================\n",
      "dense_1 (Dense)              (None, 512)               77070848  \n",
      "_________________________________________________________________\n",
      "dense_2 (Dense)              (None, 512)               262656    \n",
      "_________________________________________________________________\n",
      "dense_3 (Dense)              (None, 512)               262656    \n",
      "_________________________________________________________________\n",
      "dense_4 (Dense)              (None, 3)                 1539      \n",
      "=================================================================\n",
      "Total params: 77,597,699\n",
      "Trainable params: 77,597,699\n",
      "Non-trainable params: 0\n",
      "_________________________________________________________________\n"
     ]
    }
   ],
   "source": [
    "from keras.models import Sequential\n",
    "from keras.layers import Dense\n",
    "from keras import optimizers\n",
    "\n",
    "mlp_model = Sequential()\n",
    "mlp_model.add(Dense(512, activation='relu', input_shape=(dimData,)))\n",
    "mlp_model.add(Dense(512, activation='relu'))\n",
    "mlp_model.add(Dense(512, activation='relu'))\n",
    "mlp_model.add(Dense(nClasses, activation='softmax'))\n",
    "rmsprop = optimizers.RMSprop(lr=1e-4)\n",
    "sgd = optimizers.SGD(lr=5.e-4)\n",
    "\n",
    "mlp_model.compile(optimizer=sgd, loss='categorical_crossentropy', metrics=['accuracy'])\n",
    "\n",
    "mlp_model.summary()"
   ]
  },
  {
   "cell_type": "markdown",
   "metadata": {},
   "source": [
    "#### Training model"
   ]
  },
  {
   "cell_type": "code",
   "execution_count": 3,
   "metadata": {},
   "outputs": [
    {
     "name": "stdout",
     "output_type": "stream",
     "text": [
      "Train on 270 samples, validate on 30 samples\n",
      "Epoch 1/50\n",
      "270/270 [==============================] - 4s 14ms/step - loss: 1.0730 - acc: 0.4481 - val_loss: 1.0798 - val_acc: 0.4333\n",
      "Epoch 2/50\n",
      "270/270 [==============================] - 3s 10ms/step - loss: 0.9939 - acc: 0.5741 - val_loss: 1.0277 - val_acc: 0.4667\n",
      "Epoch 3/50\n",
      "270/270 [==============================] - 3s 10ms/step - loss: 0.9557 - acc: 0.5852 - val_loss: 1.0549 - val_acc: 0.4000\n",
      "Epoch 4/50\n",
      "270/270 [==============================] - 3s 9ms/step - loss: 0.9224 - acc: 0.6222 - val_loss: 1.1385 - val_acc: 0.3333\n",
      "Epoch 5/50\n",
      "270/270 [==============================] - 2s 9ms/step - loss: 0.9098 - acc: 0.5593 - val_loss: 0.9740 - val_acc: 0.5333\n",
      "Epoch 6/50\n",
      "270/270 [==============================] - 3s 10ms/step - loss: 0.8649 - acc: 0.6852 - val_loss: 0.9837 - val_acc: 0.5333\n",
      "Epoch 7/50\n",
      "270/270 [==============================] - 3s 11ms/step - loss: 0.8259 - acc: 0.7259 - val_loss: 1.3658 - val_acc: 0.3000\n",
      "Epoch 8/50\n",
      "270/270 [==============================] - 3s 10ms/step - loss: 0.8598 - acc: 0.6259 - val_loss: 1.0734 - val_acc: 0.4667\n",
      "Epoch 9/50\n",
      "270/270 [==============================] - 3s 10ms/step - loss: 0.7996 - acc: 0.7000 - val_loss: 0.9607 - val_acc: 0.5333\n",
      "Epoch 10/50\n",
      "270/270 [==============================] - 3s 10ms/step - loss: 0.8014 - acc: 0.6741 - val_loss: 1.0503 - val_acc: 0.5333\n",
      "Epoch 11/50\n",
      "270/270 [==============================] - 3s 10ms/step - loss: 0.8068 - acc: 0.6481 - val_loss: 0.9424 - val_acc: 0.5667\n",
      "Epoch 12/50\n",
      "270/270 [==============================] - 3s 9ms/step - loss: 0.7447 - acc: 0.7519 - val_loss: 1.1079 - val_acc: 0.4000\n",
      "Epoch 13/50\n",
      "270/270 [==============================] - 3s 9ms/step - loss: 0.7905 - acc: 0.6407 - val_loss: 0.9078 - val_acc: 0.6333\n",
      "Epoch 14/50\n",
      "270/270 [==============================] - 3s 10ms/step - loss: 0.7221 - acc: 0.7259 - val_loss: 1.0890 - val_acc: 0.3333\n",
      "Epoch 15/50\n",
      "270/270 [==============================] - 3s 10ms/step - loss: 0.7089 - acc: 0.7593 - val_loss: 1.0199 - val_acc: 0.4000\n",
      "Epoch 16/50\n",
      "270/270 [==============================] - 3s 10ms/step - loss: 0.7136 - acc: 0.7407 - val_loss: 0.9670 - val_acc: 0.5000\n",
      "Epoch 17/50\n",
      "270/270 [==============================] - 3s 10ms/step - loss: 0.7228 - acc: 0.7259 - val_loss: 0.9147 - val_acc: 0.5333\n",
      "Epoch 18/50\n",
      "270/270 [==============================] - 3s 10ms/step - loss: 0.6725 - acc: 0.7481 - val_loss: 0.9757 - val_acc: 0.4667\n",
      "Epoch 19/50\n",
      "270/270 [==============================] - 3s 10ms/step - loss: 0.6703 - acc: 0.7852 - val_loss: 0.8934 - val_acc: 0.5667\n",
      "Epoch 20/50\n",
      "270/270 [==============================] - 3s 10ms/step - loss: 0.6311 - acc: 0.8148 - val_loss: 1.0655 - val_acc: 0.3667\n",
      "Epoch 21/50\n",
      "270/270 [==============================] - 3s 12ms/step - loss: 0.6413 - acc: 0.7630 - val_loss: 1.0509 - val_acc: 0.3667\n",
      "Epoch 22/50\n",
      "270/270 [==============================] - 3s 10ms/step - loss: 0.6168 - acc: 0.8370 - val_loss: 1.0646 - val_acc: 0.4333\n",
      "Epoch 23/50\n",
      "270/270 [==============================] - 3s 10ms/step - loss: 0.6240 - acc: 0.8148 - val_loss: 1.0825 - val_acc: 0.3667\n",
      "Epoch 24/50\n",
      "270/270 [==============================] - 3s 10ms/step - loss: 0.5946 - acc: 0.8037 - val_loss: 0.9317 - val_acc: 0.5333\n",
      "Epoch 25/50\n",
      "270/270 [==============================] - 2s 9ms/step - loss: 0.6245 - acc: 0.7481 - val_loss: 0.9239 - val_acc: 0.5667\n",
      "Epoch 26/50\n",
      "270/270 [==============================] - 3s 9ms/step - loss: 0.6247 - acc: 0.7593 - val_loss: 1.3306 - val_acc: 0.3333\n",
      "Epoch 27/50\n",
      "270/270 [==============================] - 2s 9ms/step - loss: 0.6556 - acc: 0.7222 - val_loss: 0.9197 - val_acc: 0.5333\n",
      "Epoch 28/50\n",
      "270/270 [==============================] - 2s 9ms/step - loss: 0.5719 - acc: 0.8667 - val_loss: 0.9158 - val_acc: 0.6000\n",
      "Epoch 29/50\n",
      "270/270 [==============================] - 2s 9ms/step - loss: 0.5729 - acc: 0.8185 - val_loss: 0.9935 - val_acc: 0.5333\n",
      "Epoch 30/50\n",
      "270/270 [==============================] - 3s 9ms/step - loss: 0.5847 - acc: 0.8185 - val_loss: 1.1968 - val_acc: 0.3333\n",
      "Epoch 31/50\n",
      "270/270 [==============================] - 3s 9ms/step - loss: 0.5868 - acc: 0.7593 - val_loss: 1.0573 - val_acc: 0.5000\n",
      "Epoch 32/50\n",
      "270/270 [==============================] - 3s 9ms/step - loss: 0.5410 - acc: 0.8370 - val_loss: 1.0006 - val_acc: 0.4667\n",
      "Epoch 33/50\n",
      "270/270 [==============================] - 3s 10ms/step - loss: 0.5418 - acc: 0.8444 - val_loss: 0.9227 - val_acc: 0.5333\n",
      "Epoch 34/50\n",
      "270/270 [==============================] - 3s 10ms/step - loss: 0.5187 - acc: 0.8741 - val_loss: 0.9875 - val_acc: 0.4000\n",
      "Epoch 35/50\n",
      "270/270 [==============================] - 3s 12ms/step - loss: 0.5037 - acc: 0.8704 - val_loss: 0.9711 - val_acc: 0.5000\n",
      "Epoch 36/50\n",
      "270/270 [==============================] - 3s 10ms/step - loss: 0.5220 - acc: 0.8407 - val_loss: 1.1200 - val_acc: 0.4000\n",
      "Epoch 37/50\n",
      "270/270 [==============================] - 3s 12ms/step - loss: 0.5070 - acc: 0.8444 - val_loss: 0.9349 - val_acc: 0.5000\n",
      "Epoch 38/50\n",
      "270/270 [==============================] - 3s 11ms/step - loss: 0.4796 - acc: 0.8926 - val_loss: 1.1175 - val_acc: 0.4333\n",
      "Epoch 39/50\n",
      "270/270 [==============================] - 3s 10ms/step - loss: 0.5041 - acc: 0.8333 - val_loss: 1.0222 - val_acc: 0.5000\n",
      "Epoch 40/50\n",
      "270/270 [==============================] - 3s 10ms/step - loss: 0.4570 - acc: 0.9074 - val_loss: 0.9884 - val_acc: 0.4000\n",
      "Epoch 41/50\n",
      "270/270 [==============================] - 3s 10ms/step - loss: 0.4717 - acc: 0.8593 - val_loss: 1.1543 - val_acc: 0.4667\n",
      "Epoch 42/50\n",
      "270/270 [==============================] - 3s 10ms/step - loss: 0.4913 - acc: 0.8444 - val_loss: 0.9910 - val_acc: 0.5667\n",
      "Epoch 43/50\n",
      "270/270 [==============================] - 3s 10ms/step - loss: 0.4590 - acc: 0.8852 - val_loss: 0.9318 - val_acc: 0.5333\n",
      "Epoch 44/50\n",
      "270/270 [==============================] - 3s 9ms/step - loss: 0.4943 - acc: 0.8407 - val_loss: 0.9638 - val_acc: 0.5667\n",
      "Epoch 45/50\n",
      "270/270 [==============================] - 3s 10ms/step - loss: 0.4593 - acc: 0.8852 - val_loss: 0.9364 - val_acc: 0.5333\n",
      "Epoch 46/50\n",
      "270/270 [==============================] - 3s 9ms/step - loss: 0.4267 - acc: 0.9222 - val_loss: 0.9554 - val_acc: 0.5333\n",
      "Epoch 47/50\n",
      "270/270 [==============================] - 3s 11ms/step - loss: 0.4665 - acc: 0.8407 - val_loss: 1.0524 - val_acc: 0.5333\n",
      "Epoch 48/50\n",
      "270/270 [==============================] - 3s 10ms/step - loss: 0.4374 - acc: 0.8889 - val_loss: 1.0760 - val_acc: 0.4667\n",
      "Epoch 49/50\n",
      "270/270 [==============================] - 3s 9ms/step - loss: 0.4299 - acc: 0.9074 - val_loss: 0.9965 - val_acc: 0.5000\n",
      "Epoch 50/50\n",
      "270/270 [==============================] - 3s 11ms/step - loss: 0.4121 - acc: 0.8963 - val_loss: 1.0200 - val_acc: 0.5000\n"
     ]
    }
   ],
   "source": [
    "history = mlp_model.fit(X_train,\n",
    "                    y_train_one_hot_enc,\n",
    "                    epochs=50,\n",
    "                    batch_size=50,\n",
    "                    validation_data=(X_test,y_test_one_hot_enc))"
   ]
  },
  {
   "cell_type": "markdown",
   "metadata": {},
   "source": [
    "#### Display results"
   ]
  },
  {
   "cell_type": "code",
   "execution_count": 5,
   "metadata": {},
   "outputs": [
    {
     "name": "stdout",
     "output_type": "stream",
     "text": [
      "30/30 [==============================] - 0s 2ms/step\n",
      "Evaluation result on Test Data : Loss = 1.0200140476226807, accuracy = 0.5\n"
     ]
    },
    {
     "data": {
      "text/plain": [
       "Text(0.5, 1.0, 'Accuracy Curves')"
      ]
     },
     "execution_count": 5,
     "metadata": {},
     "output_type": "execute_result"
    },
    {
     "data": {
      "image/png": "[encoded data removed]",
      "text/plain": [
       "<Figure size 576x432 with 1 Axes>"
      ]
     },
     "metadata": {
      "needs_background": "light"
     },
     "output_type": "display_data"
    },
    {
     "data": {
      "image/png": "[encoded data removed]",
      "text/plain": [
       "<Figure size 576x432 with 1 Axes>"
      ]
     },
     "metadata": {
      "needs_background": "light"
     },
     "output_type": "display_data"
    }
   ],
   "source": [
    "import matplotlib.pyplot as plt\n",
    "\n",
    "[test_loss, test_acc] = mlp_model.evaluate(X_test, y_test_one_hot_enc)\n",
    "print(\"Evaluation result on Test Data : Loss = {}, accuracy = {}\".format(test_loss, test_acc))\n",
    "\n",
    "#Plot the Loss Curves\n",
    "plt.figure(figsize=[8,6])\n",
    "plt.plot(history.history['loss'],'r',linewidth=1.0)\n",
    "plt.plot(history.history['val_loss'],'b',linewidth=1.0)\n",
    "plt.legend(['Training loss', 'Validation Loss'],fontsize=18)\n",
    "plt.xlabel('Epochs ',fontsize=16)\n",
    "plt.ylabel('Loss',fontsize=16)\n",
    "plt.title('Loss Curves ',fontsize=16)\n",
    " \n",
    "#Plot the Accuracy Curves\n",
    "plt.figure(figsize=[8,6])\n",
    "plt.plot(history.history['acc'],'r',linewidth=1.0)\n",
    "plt.plot(history.history['val_acc'],'b',linewidth=1.0)\n",
    "plt.legend(['Training Accuracy', 'Validation Accuracy'],fontsize=18)\n",
    "plt.xlabel('Epochs ',fontsize=16)\n",
    "plt.ylabel('Accuracy',fontsize=16)\n",
    "plt.title('Accuracy Curves',fontsize=16)"
   ]
  },
  {
   "cell_type": "markdown",
   "metadata": {},
   "source": [
    "# <font color='blus'>2. Breeds classification using CNN VGG16 network</font>"
   ]
  },
  {
   "cell_type": "markdown",
   "metadata": {},
   "source": [
    "#### Read dumped file for train and test sample"
   ]
  },
  {
   "cell_type": "code",
   "execution_count": null,
   "metadata": {
    "scrolled": true
   },
   "outputs": [],
   "source": [
    "import p5_util\n",
    "filename='./data/arr_keras_X_y_train_test.dump'\n",
    "(arr_X_train,arr_X_test, arr_y_train, arr_y_test) = p5_util.object_load(filename)\n",
    "print(arr_X_train.shape,arr_X_test.shape,arr_y_train.shape,arr_y_test.shape)"
   ]
  },
  {
   "cell_type": "markdown",
   "metadata": {},
   "source": [
    "### Building VGG16 Keras layers"
   ]
  },
  {
   "cell_type": "markdown",
   "metadata": {},
   "source": [
    "#### 1st convolution layer is added "
   ]
  },
  {
   "cell_type": "code",
   "execution_count": null,
   "metadata": {},
   "outputs": [],
   "source": [
    "from keras.models import Sequential\n",
    "from keras.layers import Conv2D, MaxPooling2D\n",
    "from keras.layers import Flatten, Dense\n",
    "\n",
    "my_VGG16 = Sequential()  # Création d'un réseau de neurones vide \n",
    "\n",
    "# Ajout de la première couche de convolution, suivie d'une couche ReLU\n",
    "w=arr_X_train.shape[1]\n",
    "h=arr_X_train.shape[2]\n",
    "c=arr_X_train.shape[3]\n",
    "print(w,h,c)\n",
    "my_VGG16.add(Conv2D(64, (3, 3), input_shape=(w, h, c), padding='same', activation='relu'))\n",
    "my_VGG16.add(Conv2D(64, (3, 3), activation='relu'))\n",
    "my_VGG16.add(MaxPooling2D(pool_size=(2,2), strides=(2,2)))"
   ]
  },
  {
   "cell_type": "markdown",
   "metadata": {},
   "source": [
    "#### 2nd convolution layer is added "
   ]
  },
  {
   "cell_type": "code",
   "execution_count": null,
   "metadata": {},
   "outputs": [],
   "source": [
    "# Ajout de la deuxième couche de convolution, suivie  d'une couche ReLU\n",
    "my_VGG16.add(Conv2D(64, (3, 3), padding='same', activation='relu'))\n",
    "my_VGG16.add(Conv2D(64, (3, 3), activation='relu'))\n",
    "my_VGG16.add(MaxPooling2D(pool_size=(2,2), strides=(2,2)))"
   ]
  },
  {
   "cell_type": "markdown",
   "metadata": {},
   "source": [
    "#### 3th convolution layer is added "
   ]
  },
  {
   "cell_type": "code",
   "execution_count": null,
   "metadata": {},
   "outputs": [],
   "source": [
    "# Ajout de la deuxième couche de convolution, suivie  d'une couche ReLU\n",
    "my_VGG16.add(Conv2D(64, (3, 3), padding='same', activation='relu'))\n",
    "my_VGG16.add(Conv2D(64, (3, 3), activation='relu'))\n",
    "my_VGG16.add(MaxPooling2D(pool_size=(2,2), strides=(2,2)))"
   ]
  },
  {
   "cell_type": "markdown",
   "metadata": {},
   "source": [
    "#### Pooling layer is added "
   ]
  },
  {
   "cell_type": "raw",
   "metadata": {},
   "source": [
    "# Ajout de la première couche de pooling\n",
    "my_VGG16.add(MaxPooling2D(pool_size=(2,2), strides=(2,2)))"
   ]
  },
  {
   "cell_type": "code",
   "execution_count": null,
   "metadata": {},
   "outputs": [],
   "source": [
    "nb_labels = arr_y_train.shape[0]\n",
    "print(\"Number of labels for training process : \"+str(nb_labels))\n",
    "my_VGG16.add(Flatten())  # Conversion des matrices 3D en vecteur 1D"
   ]
  },
  {
   "cell_type": "markdown",
   "metadata": {},
   "source": [
    "#### 1st Dense layer is added"
   ]
  },
  {
   "cell_type": "code",
   "execution_count": null,
   "metadata": {},
   "outputs": [],
   "source": [
    "my_VGG16.add(Dense(nb_labels, activation='relu'))"
   ]
  },
  {
   "cell_type": "markdown",
   "metadata": {},
   "source": [
    "#### 2nd Dense layer is added"
   ]
  },
  {
   "cell_type": "raw",
   "metadata": {},
   "source": [
    "# Ajout de la deuxième couche fully-connected, suivie d'une couche ReLU\n",
    "my_VGG16.add(Dense(nb_labels, activation='relu'))"
   ]
  },
  {
   "cell_type": "markdown",
   "metadata": {},
   "source": [
    "#### 3th Dense layer is added"
   ]
  },
  {
   "cell_type": "code",
   "execution_count": null,
   "metadata": {},
   "outputs": [],
   "source": [
    "import numpy as np\n",
    "# Ajout de la dernière couche fully-connected qui permet de classifier\n",
    "my_VGG16.add(Dense(nb_labels, activation='softmax'))"
   ]
  },
  {
   "cell_type": "markdown",
   "metadata": {},
   "source": [
    "#### VGG16 compilation"
   ]
  },
  {
   "cell_type": "code",
   "execution_count": null,
   "metadata": {},
   "outputs": [],
   "source": [
    "from keras import optimizers\n",
    "sgd = optimizers.SGD(lr=1e-3, decay=1e-6, momentum=0.9, nesterov=True)\n",
    "rmsprop = optimizers.RMSprop(lr=1e-4)\n",
    "\n",
    "#my_VGG16.compile(optimizer=sgd, loss='categorical_crossentropy', metrics=['accuracy'])\n",
    "#my_VGG16.compile(optimizer=sgd, loss='sparse_categorical_crossentropy', metrics=['accuracy'])\n",
    "my_VGG16.compile(optimizer=rmsprop, loss='sparse_categorical_crossentropy', metrics=['accuracy'])\n"
   ]
  },
  {
   "cell_type": "markdown",
   "metadata": {},
   "source": [
    "#### Keras Sequential model is dumped"
   ]
  },
  {
   "cell_type": "code",
   "execution_count": null,
   "metadata": {},
   "outputs": [],
   "source": [
    "import p5_util\n",
    "p5_util.object_dump(my_VGG16,'./data/VGG16Seq_rmsprop.dump')"
   ]
  },
  {
   "cell_type": "code",
   "execution_count": null,
   "metadata": {},
   "outputs": [],
   "source": [
    "my_VGG16.summary()"
   ]
  },
  {
   "cell_type": "markdown",
   "metadata": {},
   "source": [
    "## Loading VGG166 Sequential model"
   ]
  },
  {
   "cell_type": "code",
   "execution_count": null,
   "metadata": {},
   "outputs": [],
   "source": [
    "from IPython.display import display, clear_output\n",
    "\n",
    "\n",
    "import numpy as np\n",
    "import pandas as pd\n",
    "import matplotlib.pyplot as plt\n",
    "\n",
    "import P7_DataBreed\n",
    "import p5_util\n",
    "\n",
    "%load_ext autoreload\n",
    "%autoreload 2\n",
    "%reload_ext autoreload\n",
    "\n",
    "from  sklearn import model_selection\n",
    "import numpy as np\n"
   ]
  },
  {
   "cell_type": "code",
   "execution_count": null,
   "metadata": {
    "scrolled": true
   },
   "outputs": [],
   "source": [
    "import p5_util\n",
    "if True :\n",
    "    VGG16Seq = p5_util.object_load('./data/VGG16Seq_rmsprop.dump')\n",
    "    VGG16Seq.summary()\n",
    "\n",
    "import p5_util\n",
    "import P7_DataBreed\n",
    "if False :\n",
    "    oP7_DataBreed = p5_util.object_load('./data/oP7_DataBreed.dump')\n",
    "    oP7_DataBreed.show()\n",
    "    oP7_DataBreed.breed_show()\n"
   ]
  },
  {
   "cell_type": "markdown",
   "metadata": {},
   "source": [
    "## Test for images classification"
   ]
  },
  {
   "cell_type": "markdown",
   "metadata": {},
   "source": [
    "#### Data is loaded form dumped file"
   ]
  },
  {
   "cell_type": "code",
   "execution_count": null,
   "metadata": {},
   "outputs": [],
   "source": [
    "import p5_util\n",
    "filename='./data/arr_keras_X_y_train_test.dump'\n",
    "(arr_X_train,arr_X_test, arr_y_train, arr_y_test) = p5_util.object_load(filename)\n",
    "print(arr_X_train.shape,arr_X_test.shape,arr_y_train.shape,arr_y_test.shape)\n",
    "\n",
    "#### Data normalization\n",
    "\n",
    "arr_X_train = arr_X_train.astype('float32')\n",
    "arr_X_test = arr_X_test.astype('float32')\n",
    "\n",
    "# Scale the data to lie between 0 to 1\n",
    "arr_X_train /= 255\n",
    "arr_X_test /= 255"
   ]
  },
  {
   "cell_type": "markdown",
   "metadata": {},
   "source": [
    "#### Targets clases are one hot encoded"
   ]
  },
  {
   "cell_type": "raw",
   "metadata": {},
   "source": [
    "from keras.utils import to_categorical\n",
    "\n",
    "# Change the labels from integer to categorical data\n",
    "y_train_labels_one_hot = to_categorical(arr_y_train)\n",
    "y_test_labels_one_hot  = to_categorical(arr_y_test)\n",
    " \n",
    "# Display the change for category label using one-hot encoding\n",
    "print('Original label 0 : ', arr_y_train[0])\n",
    "print('After conversion of label 0 to categorical ( one-hot ) : ', y_train_labels_one_hot[0])"
   ]
  },
  {
   "cell_type": "markdown",
   "metadata": {},
   "source": [
    "#### Model training"
   ]
  },
  {
   "cell_type": "code",
   "execution_count": null,
   "metadata": {
    "scrolled": true
   },
   "outputs": [],
   "source": [
    "#for X_train, y_train in zip(list_X_train, list_y_train):\n",
    "print(arr_X_train.shape)\n",
    "#history = VGG16Seq.fit(arr_X_train, arr_y_train, epochs=3, batch_size=256, verbose=1)\n",
    "history = VGG16Seq.fit(arr_X_train, arr_y_train, epochs=10, batch_size=90,verbose=1,validation_data=(arr_X_test, arr_y_test))"
   ]
  },
  {
   "cell_type": "code",
   "execution_count": null,
   "metadata": {},
   "outputs": [],
   "source": [
    "[test_loss, test_acc] = VGG16Seq.evaluate(arr_X_test, arr_y_test)\n",
    "print(\"Evaluation result on Test Data : Loss = {}, accuracy = {}\".format(test_loss, test_acc))"
   ]
  },
  {
   "cell_type": "code",
   "execution_count": null,
   "metadata": {},
   "outputs": [],
   "source": [
    "#Plot the Loss Curves\n",
    "plt.figure(figsize=[8,6])\n",
    "plt.plot(history.history['loss'],'r',linewidth=1.0)\n",
    "plt.plot(history.history['val_loss'],'b',linewidth=1.0)\n",
    "plt.legend(['Training loss', 'Validation Loss'],fontsize=18)\n",
    "plt.xlabel('Epochs ',fontsize=16)\n",
    "plt.ylabel('Loss',fontsize=16)\n",
    "plt.title('Loss Curves ',fontsize=16)\n",
    " \n",
    "#Plot the Accuracy Curves\n",
    "plt.figure(figsize=[8,6])\n",
    "plt.plot(history.history['acc'],'r',linewidth=1.0)\n",
    "plt.plot(history.history['val_acc'],'b',linewidth=1.0)\n",
    "plt.legend(['Training Accuracy', 'Validation Accuracy'],fontsize=18)\n",
    "plt.xlabel('Epochs ',fontsize=16)\n",
    "plt.ylabel('Accuracy',fontsize=16)\n",
    "plt.title('Accuracy Curves',fontsize=16)"
   ]
  },
  {
   "cell_type": "code",
   "execution_count": null,
   "metadata": {},
   "outputs": [],
   "source": [
    "import p5_util\n",
    "is_score_dumped=True\n",
    "if is_score_dumped is True :\n",
    "    filename = './data/dict_cls_score.dump'\n",
    "    dict_cls_score = p5_util.object_load(filename)\n",
    "else:\n",
    "    dict_cls_score = dict()\n",
    "dict_classifier = dict()\n",
    "\n",
    "dict_cls_score"
   ]
  },
  {
   "cell_type": "code",
   "execution_count": null,
   "metadata": {},
   "outputs": [],
   "source": [
    "y_pred = VGG16Seq.predict(arr_X_test)"
   ]
  },
  {
   "cell_type": "code",
   "execution_count": null,
   "metadata": {},
   "outputs": [],
   "source": [
    "filename= './data/result_VGG16Seq.dump'\n",
    "p5_util.object_dump(y_pred,filename)"
   ]
  },
  {
   "cell_type": "markdown",
   "metadata": {},
   "source": [
    "#### Measure of accuracy\n",
    "\n",
    "Result is stored into `arr_result` where :\n",
    "* rows : number of observations from test dataset\n",
    "* columns : probabibilty for each observation from train dataset.\n",
    "\n",
    "For each row from `arr_result`, greater probability value is searched for. \n",
    "<br>\n",
    "The result of search provides index of label into `list_index`.\n"
   ]
  },
  {
   "cell_type": "code",
   "execution_count": null,
   "metadata": {},
   "outputs": [],
   "source": [
    "import p5_util\n",
    "filename= './data/result_vgg16.dump'\n",
    "p5_util.object_load(y_pred,filename)"
   ]
  },
  {
   "cell_type": "raw",
   "metadata": {},
   "source": [
    "# List of indexes greater probabilities: greater values for each row from arr_result.\n",
    "list_index = [np.where(y_pred[i] == max(y_pred[i]))[0][0] for i in range(0, len(y_pred))]\n",
    "\n",
    "#print(arr_result)\n",
    "print(len(arr_y_train))\n",
    "print(list_index)\n",
    "list_result = [arr_y_train[list_index[i]][0] for i in range(0,len(list_index))]\n",
    "\n",
    "score_keras = len(set(list_result).intersection(arr_y_test.flatten()))/len(list(arr_y_test))\n",
    "print(\"*** INFO : Result accuracy = {0:1.1F}%\".format(score_keras*100))"
   ]
  },
  {
   "cell_type": "code",
   "execution_count": null,
   "metadata": {},
   "outputs": [],
   "source": [
    "(loss, score_vgg16_seq) = VGG16Seq.evaluate(arr_X_test, arr_y_test, verbose=True)\n",
    "\n",
    "score_vgg16_seq"
   ]
  },
  {
   "cell_type": "code",
   "execution_count": null,
   "metadata": {},
   "outputs": [],
   "source": [
    "import pandas as pd\n",
    "import p5_util\n",
    "import p6_util_plot\n",
    "is_dumped=True\n",
    "if is_dumped is True:\n",
    "    filename = './data/dict_cls_score.dump'\n",
    "    dict_cls_score = p5_util.object_load(filename)\n",
    "else :\n",
    "    pass\n",
    "\n",
    "dict_cls_score['VGG16 Seq'] = score_vgg16_seq\n",
    "dict_benchmark_result = dict_cls_score.copy()\n",
    "\n",
    "df_result = pd.DataFrame.from_dict( dict_benchmark_result, orient='index')\n",
    "df_result.reset_index(inplace=True)\n",
    "df_result.rename(columns={'index':'Classifier',0:'Score'}, inplace=True)\n",
    "df_result\n",
    "nb_images = oP7_DataBreed._sampling_breed_count*oP7_DataBreed._sampling_image_per_breed_count\n",
    "nb_images = oP7_DataBreed.df_pil_image_kpdesc.shape[0]\n",
    "if oP7_DataBreed.is_kp_filtered :\n",
    "    title = \"Benchmark classifiers accuracy / GMM clustering / \"+str(nb_images)+\" filtered splitted images / \"+str(oP7_DataBreed.sampling_breed_count)+\" breeds\"\n",
    "else :\n",
    "    title = \"Benchmark classifiers accuracy / GMM clustering / \"+str(nb_images)+\" splitted images / \"+str(oP7_DataBreed.sampling_breed_count)+\" breeds\"\n",
    "\n",
    "p6_util_plot.ser_item_occurency_plot(df_result.Classifier, df_result.Score*100, item_count=None, title=title,\\\n",
    "                                    p_reverse=False,p_x_title='Classifiers', p_y_title='Accuracy')\n",
    "\n",
    "#### Classifier API\n",
    "p5_util.object_dump(dict_cls_score,filename)\n",
    "\n",
    "dict_cls_score"
   ]
  },
  {
   "cell_type": "code",
   "execution_count": null,
   "metadata": {},
   "outputs": [],
   "source": [
    "oP7_DataBreed.show()\n",
    "oP7_DataBreed.show_breed_name()"
   ]
  },
  {
   "cell_type": "code",
   "execution_count": null,
   "metadata": {},
   "outputs": [],
   "source": []
  }
 ],
 "metadata": {
  "kernelspec": {
   "display_name": "Python 3",
   "language": "python",
   "name": "python3"
  },
  "language_info": {
   "codemirror_mode": {
    "name": "ipython",
    "version": 3
   },
   "file_extension": ".py",
   "mimetype": "text/x-python",
   "name": "python",
   "nbconvert_exporter": "python",
   "pygments_lexer": "ipython3",
   "version": "3.6.8"
  }
 },
 "nbformat": 4,
 "nbformat_minor": 2
}
