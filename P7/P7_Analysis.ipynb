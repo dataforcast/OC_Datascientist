{
 "cells": [
  {
   "cell_type": "markdown",
   "metadata": {},
   "source": [
    "<!--NOTEBOOK_INFORMATION-->\n",
    "<img align=\"left\" style=\"padding-right:10px;\" src=\"./figures/LogoOpenclassrooms.png\">\n",
    "<font size=\"4\">\n",
    "    \n",
    "Cette étude a été réalisée dans le cadre du 6ème projet de ma formation Datascientist dispensée en MOOC par \n",
    "\n",
    "<font color='blus'>Openclassrooms / écoles Centrale-Supélec</font>.\n",
    "\n",
    "\n",
    "\n",
    "\n",
    "<p></p><p></p><p></p>\n",
    "\n",
    "\n",
    "\n",
    "\n",
    "\n",
    "**Le problème posé :**\n",
    "\n",
    "# Indexation d'images\n",
    "\n",
    "Vous êtes bénévole pour l'association de protection des animaux de votre quartier. C'est d'ailleurs ainsi que vous avez trouvé votre compagnon idéal, Snooky. Du coup, vous vous demandez ce que vous pouvez faire en retour pour aider l'association.\n",
    "\n",
    "Vous apprenez, en discutant avec un bénévole, que leur base de données de pensionnaires commence à s'agrandir et qu'ils n'ont pas toujours le temps de référencer les images des animaux qu'ils ont accumulées depuis plusieurs années. Ils aimeraient donc réaliser un index de l’ensemble de la base de données d’images qu’ils possèdent, pour classer les chiens par races.\n",
    "\n",
    "**Les données**\n",
    "\n",
    "Les bénévoles de l'association n'ont pas eu le temps de réunir les différentes images des pensionnaires dispersées sur leurs disques durs. Pas de problème, vous développerez un algorithme en utilisant le Stanford Dogs Dataset pour entraîner votre algorithme.\n",
    "\n",
    "**Votre mission**\n",
    "\n",
    "En tant que Data Scientist, l'association vous demande de réaliser un algorithme de détection de la race du chien sur une photo, afin d'accélérer leur travail d’indexation.\n",
    "\n",
    "**Contraintes**\n",
    "\n",
    "Lors de ce projet, vous mettrez en œuvre deux approches.\n",
    "\n",
    "* Une approche classique : il s’agit de pre-processer des images avec des techniques spécifiques (e.g.whitening, equalisation, filtre linéaire/laplacien/gaussien, éventuellement modifier la taille des images), puis d’extraire des features (e.g. texture, corners, edges et SIFT detector). Il faut ensuite réduire les dimensions, soit par des approches classiques (e.g. PCA, k-means) soit avec une approche par histogrammes et dictionary learning (bag-of-words appliqué aux images), puis appliquer des algorithmes de classification standards.\n",
    "\n",
    "\n",
    "\n",
    "* Lors de l’analyse exploratoire, vous regarderez si les features extraites et utilisées en classification sont prometteuses en utilisant des méthodes de réduction de dimension pour visualiser le dataset en 2D. Cela vous permettra d’affiner votre intuition sur les différents traitements possibles, sans que cela ne se substitue à des mesures de performances rigoureuses.\n",
    "\n",
    "\n",
    "\n",
    "* Une approche s’appuyant sur l’état de l’art et l’utilisation de CNN (réseaux de neurones convolutionnels). Compte tenu de la taille et de la complexité du dataset, et de la puissance de calcul à votre disposition, il est très difficile d’obtenir de bonnes performances (pour ça, essayez MNIST). Aussi, est-il recommandé d’utiliser le transfer learning, c’est-à-dire utiliser un réseau déjà entraîné, et le modifier pour répondre à votre problème. Une première chose obligatoire est de ré-entraîner les dernières couches pour prédire les classes qui vous intéressent seulement. Il est également possible d’adapter la structure (supprimer certaines couches par exemple) ou de ré-entraîner le modèle avec un très faible learning rate pour ajuster les poids à votre problème (plus long) et optimiser les performances."
   ]
  },
  {
   "cell_type": "code",
   "execution_count": 1,
   "metadata": {},
   "outputs": [],
   "source": [
    "%load_ext autoreload\n",
    "%autoreload 2\n",
    "%reload_ext autoreload"
   ]
  },
  {
   "cell_type": "code",
   "execution_count": 43,
   "metadata": {},
   "outputs": [
    {
     "name": "stdout",
     "output_type": "stream",
     "text": [
      "Number of dog breeds= 120\n"
     ]
    },
    {
     "data": {
      "text/plain": [
       "['affenpinscher',\n",
       " 'miniature_schnauzer',\n",
       " 'Sealyham_terrier',\n",
       " 'German_shepherd',\n",
       " 'otterhound',\n",
       " 'briard',\n",
       " 'Saint_Bernard',\n",
       " 'toy_poodle',\n",
       " 'miniature_poodle']"
      ]
     },
     "execution_count": 43,
     "metadata": {},
     "output_type": "execute_result"
    }
   ],
   "source": [
    "import os\n",
    "import random\n",
    "\n",
    "#-------------------------------------------------------------------------------\n",
    "# List of all directories, each directory conatains matches with a breed dog\n",
    "#-------------------------------------------------------------------------------\n",
    "list_dir = os.listdir('./data/Images')\n",
    "\n",
    "#-------------------------------------------------------------------------------\n",
    "# Dogs breeds are extracted from file name and loaded into a dictionary \n",
    "# structured as fllowing : {dir_name:list_of_images}\n",
    "#-------------------------------------------------------------------------------\n",
    "dict_breed_all = { breed_dir_name :breed_dir_name.split('-')[1] for breed_dir_name in list_dir }\n",
    "list_breed_all = [breed_dir_name.split('-')[1] for breed_dir_name in list_dir]\n",
    "\n",
    "print(\"Number of dog breeds= {}\".format(len(dict_breed_all)))\n",
    "\n",
    "#-------------------------------------------------------------------------------\n",
    "# A random list of directories are selected among dogs breeds\n",
    "# list_breed_sample contains the sampled list of dogs breeds.\n",
    "#-------------------------------------------------------------------------------\n",
    "breed_count=13\n",
    "dog_breed_count=4\n",
    "\n",
    "list_breed_sample = list()\n",
    "\n",
    "for sample in range(0, breed_count,1):\n",
    "    list_breed_sample.append(random.randrange(0, len(dict_breed_all), int(len(dict_breed_all)/breed_count)))\n",
    "    \n",
    "list_breed_sample,len(list_breed_sample)\n",
    "\n",
    "#-------------------------------------------------------------------------------\n",
    "# List of name containing directories is built and duplicated names are removed\n",
    "#-------------------------------------------------------------------------------\n",
    "list_breed_sample_name =[list_breed_all[index] for index in list_breed_sample]\n",
    "list_breed_sample_name = list(set(list_breed_sample_name))\n",
    "list_breed_sample_name"
   ]
  },
  {
   "cell_type": "code",
   "execution_count": 56,
   "metadata": {},
   "outputs": [
    {
     "name": "stdout",
     "output_type": "stream",
     "text": [
      "n02113624-toy_poodle\n",
      "n02106662-German_shepherd\n",
      "n02091635-otterhound\n",
      "n02109525-Saint_Bernard\n",
      "n02105251-briard\n",
      "n02110627-affenpinscher\n",
      "n02095889-Sealyham_terrier\n",
      "n02097047-miniature_schnauzer\n",
      "n02113712-miniature_poodle\n"
     ]
    },
    {
     "data": {
      "text/plain": [
       "9"
      ]
     },
     "execution_count": 56,
     "metadata": {},
     "output_type": "execute_result"
    }
   ],
   "source": [
    "import p7_util\n",
    "from PIL import Image\n",
    "\n",
    "#-------------------------------------------------------------------------------\n",
    "# From any of the dogs breeds, a sample of dogs is selected.\n",
    "# Means, images from these sampling are read from files.\n",
    "#-------------------------------------------------------------------------------\n",
    "\n",
    "dict_breed_image = dict()\n",
    "dict_breed_filename = dict()\n",
    "\n",
    "\n",
    "for directory, breed in dict_breed_all.items() :\n",
    "    if directory.split('-')[1] in list_breed_sample_name :\n",
    "        print(directory)\n",
    "        list_image = list()\n",
    "        list_filename = list()\n",
    "        list_image_file = os.listdir('./data/Images'+'/'+directory)\n",
    "        for index_image_file in range(0,dog_breed_count,1) :\n",
    "            filename = './data/Images/'+directory+'/'+str(list_image_file[index_image_file])\n",
    "            list_filename.append(filename)\n",
    "            list_image.append(p7_util.p7_image_load(filename, is_verbose=False))\n",
    "        dict_breed_image[breed] = list_image\n",
    "        dict_breed_filename[breed] = list_filename\n",
    "len(dict_breed_image)"
   ]
  },
  {
   "cell_type": "code",
   "execution_count": 57,
   "metadata": {},
   "outputs": [
    {
     "name": "stdout",
     "output_type": "stream",
     "text": [
      "toy_poodle\n"
     ]
    },
    {
     "data": {
      "text/html": [
       "<img style='width: 100px; margin: 0px; float: left; border: 1px solid black;' src='./data/Images/n02113624-toy_poodle/n02113624_274.jpg' /><img style='width: 100px; margin: 0px; float: left; border: 1px solid black;' src='./data/Images/n02113624-toy_poodle/n02113624_2521.jpg' /><img style='width: 100px; margin: 0px; float: left; border: 1px solid black;' src='./data/Images/n02113624-toy_poodle/n02113624_3714.jpg' /><img style='width: 100px; margin: 0px; float: left; border: 1px solid black;' src='./data/Images/n02113624-toy_poodle/n02113624_8444.jpg' />"
      ],
      "text/plain": [
       "<IPython.core.display.HTML object>"
      ]
     },
     "metadata": {},
     "output_type": "display_data"
    },
    {
     "name": "stdout",
     "output_type": "stream",
     "text": [
      "German_shepherd\n"
     ]
    },
    {
     "data": {
      "text/html": [
       "<img style='width: 100px; margin: 0px; float: left; border: 1px solid black;' src='./data/Images/n02106662-German_shepherd/n02106662_27186.jpg' /><img style='width: 100px; margin: 0px; float: left; border: 1px solid black;' src='./data/Images/n02106662-German_shepherd/n02106662_9226.jpg' /><img style='width: 100px; margin: 0px; float: left; border: 1px solid black;' src='./data/Images/n02106662-German_shepherd/n02106662_808.jpg' /><img style='width: 100px; margin: 0px; float: left; border: 1px solid black;' src='./data/Images/n02106662-German_shepherd/n02106662_19641.jpg' />"
      ],
      "text/plain": [
       "<IPython.core.display.HTML object>"
      ]
     },
     "metadata": {},
     "output_type": "display_data"
    },
    {
     "name": "stdout",
     "output_type": "stream",
     "text": [
      "otterhound\n"
     ]
    },
    {
     "data": {
      "text/html": [
       "<img style='width: 100px; margin: 0px; float: left; border: 1px solid black;' src='./data/Images/n02091635-otterhound/n02091635_554.jpg' /><img style='width: 100px; margin: 0px; float: left; border: 1px solid black;' src='./data/Images/n02091635-otterhound/n02091635_3475.jpg' /><img style='width: 100px; margin: 0px; float: left; border: 1px solid black;' src='./data/Images/n02091635-otterhound/n02091635_4422.jpg' /><img style='width: 100px; margin: 0px; float: left; border: 1px solid black;' src='./data/Images/n02091635-otterhound/n02091635_1151.jpg' />"
      ],
      "text/plain": [
       "<IPython.core.display.HTML object>"
      ]
     },
     "metadata": {},
     "output_type": "display_data"
    },
    {
     "name": "stdout",
     "output_type": "stream",
     "text": [
      "Saint_Bernard\n"
     ]
    },
    {
     "data": {
      "text/html": [
       "<img style='width: 100px; margin: 0px; float: left; border: 1px solid black;' src='./data/Images/n02109525-Saint_Bernard/n02109525_10743.jpg' /><img style='width: 100px; margin: 0px; float: left; border: 1px solid black;' src='./data/Images/n02109525-Saint_Bernard/n02109525_2648.jpg' /><img style='width: 100px; margin: 0px; float: left; border: 1px solid black;' src='./data/Images/n02109525-Saint_Bernard/n02109525_8211.jpg' /><img style='width: 100px; margin: 0px; float: left; border: 1px solid black;' src='./data/Images/n02109525-Saint_Bernard/n02109525_15029.jpg' />"
      ],
      "text/plain": [
       "<IPython.core.display.HTML object>"
      ]
     },
     "metadata": {},
     "output_type": "display_data"
    },
    {
     "name": "stdout",
     "output_type": "stream",
     "text": [
      "briard\n"
     ]
    },
    {
     "data": {
      "text/html": [
       "<img style='width: 100px; margin: 0px; float: left; border: 1px solid black;' src='./data/Images/n02105251-briard/n02105251_5303.jpg' /><img style='width: 100px; margin: 0px; float: left; border: 1px solid black;' src='./data/Images/n02105251-briard/n02105251_2439.jpg' /><img style='width: 100px; margin: 0px; float: left; border: 1px solid black;' src='./data/Images/n02105251-briard/n02105251_2480.jpg' /><img style='width: 100px; margin: 0px; float: left; border: 1px solid black;' src='./data/Images/n02105251-briard/n02105251_6301.jpg' />"
      ],
      "text/plain": [
       "<IPython.core.display.HTML object>"
      ]
     },
     "metadata": {},
     "output_type": "display_data"
    },
    {
     "name": "stdout",
     "output_type": "stream",
     "text": [
      "affenpinscher\n"
     ]
    },
    {
     "data": {
      "text/html": [
       "<img style='width: 100px; margin: 0px; float: left; border: 1px solid black;' src='./data/Images/n02110627-affenpinscher/n02110627_6965.jpg' /><img style='width: 100px; margin: 0px; float: left; border: 1px solid black;' src='./data/Images/n02110627-affenpinscher/n02110627_12579.jpg' /><img style='width: 100px; margin: 0px; float: left; border: 1px solid black;' src='./data/Images/n02110627-affenpinscher/n02110627_8621.jpg' /><img style='width: 100px; margin: 0px; float: left; border: 1px solid black;' src='./data/Images/n02110627-affenpinscher/n02110627_13014.jpg' />"
      ],
      "text/plain": [
       "<IPython.core.display.HTML object>"
      ]
     },
     "metadata": {},
     "output_type": "display_data"
    },
    {
     "name": "stdout",
     "output_type": "stream",
     "text": [
      "Sealyham_terrier\n"
     ]
    },
    {
     "data": {
      "text/html": [
       "<img style='width: 100px; margin: 0px; float: left; border: 1px solid black;' src='./data/Images/n02095889-Sealyham_terrier/n02095889_3110.jpg' /><img style='width: 100px; margin: 0px; float: left; border: 1px solid black;' src='./data/Images/n02095889-Sealyham_terrier/n02095889_270.jpg' /><img style='width: 100px; margin: 0px; float: left; border: 1px solid black;' src='./data/Images/n02095889-Sealyham_terrier/n02095889_2927.jpg' /><img style='width: 100px; margin: 0px; float: left; border: 1px solid black;' src='./data/Images/n02095889-Sealyham_terrier/n02095889_3150.jpg' />"
      ],
      "text/plain": [
       "<IPython.core.display.HTML object>"
      ]
     },
     "metadata": {},
     "output_type": "display_data"
    },
    {
     "name": "stdout",
     "output_type": "stream",
     "text": [
      "miniature_schnauzer\n"
     ]
    },
    {
     "data": {
      "text/html": [
       "<img style='width: 100px; margin: 0px; float: left; border: 1px solid black;' src='./data/Images/n02097047-miniature_schnauzer/n02097047_2937.jpg' /><img style='width: 100px; margin: 0px; float: left; border: 1px solid black;' src='./data/Images/n02097047-miniature_schnauzer/n02097047_1825.jpg' /><img style='width: 100px; margin: 0px; float: left; border: 1px solid black;' src='./data/Images/n02097047-miniature_schnauzer/n02097047_1327.jpg' /><img style='width: 100px; margin: 0px; float: left; border: 1px solid black;' src='./data/Images/n02097047-miniature_schnauzer/n02097047_1626.jpg' />"
      ],
      "text/plain": [
       "<IPython.core.display.HTML object>"
      ]
     },
     "metadata": {},
     "output_type": "display_data"
    },
    {
     "name": "stdout",
     "output_type": "stream",
     "text": [
      "miniature_poodle\n"
     ]
    },
    {
     "data": {
      "text/html": [
       "<img style='width: 100px; margin: 0px; float: left; border: 1px solid black;' src='./data/Images/n02113712-miniature_poodle/n02113712_10525.jpg' /><img style='width: 100px; margin: 0px; float: left; border: 1px solid black;' src='./data/Images/n02113712-miniature_poodle/n02113712_8788.jpg' /><img style='width: 100px; margin: 0px; float: left; border: 1px solid black;' src='./data/Images/n02113712-miniature_poodle/n02113712_3790.jpg' /><img style='width: 100px; margin: 0px; float: left; border: 1px solid black;' src='./data/Images/n02113712-miniature_poodle/n02113712_2405.jpg' />"
      ],
      "text/plain": [
       "<IPython.core.display.HTML object>"
      ]
     },
     "metadata": {},
     "output_type": "display_data"
    }
   ],
   "source": [
    "from IPython.display import Image, HTML, display\n",
    "\n",
    "for breed, list_filename in dict_breed_filename.items() :\n",
    "    print(breed)\n",
    "    imagesList=''.join( [\"<img style='width: 100px; margin: 0px; float: left; border: 1px solid black;' src='%s' />\" % str(s) \n",
    "                     for s in list_filename ])\n",
    "    display(HTML(imagesList))\n"
   ]
  },
  {
   "cell_type": "code",
   "execution_count": null,
   "metadata": {},
   "outputs": [],
   "source": []
  }
 ],
 "metadata": {
  "kernelspec": {
   "display_name": "Python 3",
   "language": "python",
   "name": "python3"
  },
  "language_info": {
   "codemirror_mode": {
    "name": "ipython",
    "version": 3
   },
   "file_extension": ".py",
   "mimetype": "text/x-python",
   "name": "python",
   "nbconvert_exporter": "python",
   "pygments_lexer": "ipython3",
   "version": "3.7.0"
  }
 },
 "nbformat": 4,
 "nbformat_minor": 2
}
