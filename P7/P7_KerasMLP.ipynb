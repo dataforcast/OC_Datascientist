{
 "cells": [
  {
   "cell_type": "markdown",
   "metadata": {},
   "source": [
    "<!--NOTEBOOK_INFORMATION-->\n",
    "<img align=\"left\" style=\"padding-right:10px;\" src=\"./figures/LogoOpenclassrooms.png\">\n",
    "<font size=\"4\">\n",
    "    \n",
    "Cette étude a été réalisée dans le cadre du 6ème projet de ma formation Datascientist dispensée en MOOC par \n",
    "\n",
    "<font color='blus'>Openclassrooms / écoles Centrale-Supélec</font>.\n",
    "\n",
    "\n",
    "\n",
    "\n",
    "<p></p><p></p><p></p>\n",
    "\n",
    "\n",
    "\n",
    "\n",
    "\n",
    "**Le problème posé :**\n",
    "\n",
    "# <font color='blus'>Indexation d'images</font>\n",
    "\n",
    "Vous êtes bénévole pour l'association de protection des animaux de votre quartier. C'est d'ailleurs ainsi que vous avez trouvé votre compagnon idéal, Snooky. Du coup, vous vous demandez ce que vous pouvez faire en retour pour aider l'association.\n",
    "\n",
    "Vous apprenez, en discutant avec un bénévole, que leur base de données de pensionnaires commence à s'agrandir et qu'ils n'ont pas toujours le temps de référencer les images des animaux qu'ils ont accumulées depuis plusieurs années. Ils aimeraient donc réaliser un index de l’ensemble de la base de données d’images qu’ils possèdent, pour classer les chiens par races.\n",
    "\n",
    "**<font color='blus'>Les données</font>**\n",
    "\n",
    "Les bénévoles de l'association n'ont pas eu le temps de réunir les différentes images des pensionnaires dispersées sur leurs disques durs. Pas de problème, vous développerez un algorithme en utilisant le Stanford Dogs Dataset pour entraîner votre algorithme.\n",
    "\n",
    "**<font color='blus'>Votre mission</font>**\n",
    "\n",
    "En tant que Data Scientist, l'association vous demande de réaliser un algorithme de détection de la race du chien sur une photo, afin d'accélérer leur travail d’indexation.\n",
    "\n",
    "**<font color='blus'>Contraintes</font>**\n",
    "\n",
    "Lors de ce projet, vous mettrez en œuvre deux approches.\n",
    "\n",
    "* Une approche classique : il s’agit de pre-processer des images avec des techniques spécifiques (e.g.whitening, equalisation, filtre linéaire/laplacien/gaussien, éventuellement modifier la taille des images), puis d’extraire des features (e.g. texture, corners, edges et SIFT detector). Il faut ensuite réduire les dimensions, soit par des approches classiques (e.g. PCA, k-means) soit avec une approche par histogrammes et dictionary learning (bag-of-words appliqué aux images), puis appliquer des algorithmes de classification standards.\n",
    "\n",
    "\n",
    "\n",
    "* Lors de l’analyse exploratoire, vous regarderez si les features extraites et utilisées en classification sont prometteuses en utilisant des méthodes de réduction de dimension pour visualiser le dataset en 2D. Cela vous permettra d’affiner votre intuition sur les différents traitements possibles, sans que cela ne se substitue à des mesures de performances rigoureuses.\n",
    "\n",
    "\n",
    "\n",
    "* Une approche s’appuyant sur l’état de l’art et l’utilisation de CNN (réseaux de neurones convolutionnels). Compte tenu de la taille et de la complexité du dataset, et de la puissance de calcul à votre disposition, il est très difficile d’obtenir de bonnes performances (pour ça, essayez MNIST). Aussi, est-il recommandé d’utiliser le transfer learning, c’est-à-dire utiliser un réseau déjà entraîné, et le modifier pour répondre à votre problème. Une première chose obligatoire est de ré-entraîner les dernières couches pour prédire les classes qui vous intéressent seulement. Il est également possible d’adapter la structure (supprimer certaines couches par exemple) ou de ré-entraîner le modèle avec un très faible learning rate pour ajuster les poids à votre problème (plus long) et optimiser les performances."
   ]
  },
  {
   "cell_type": "code",
   "execution_count": 42,
   "metadata": {},
   "outputs": [
    {
     "name": "stdout",
     "output_type": "stream",
     "text": [
      "The autoreload extension is already loaded. To reload it, use:\n",
      "  %reload_ext autoreload\n"
     ]
    }
   ],
   "source": [
    "from IPython.display import display, clear_output\n",
    "\n",
    "\n",
    "import numpy as np\n",
    "import pandas as pd\n",
    "import matplotlib.pyplot as plt\n",
    "\n",
    "import P7_DataBreed\n",
    "import p5_util\n",
    "\n",
    "from  sklearn import model_selection\n",
    "import numpy as np\n",
    "\n",
    "%load_ext autoreload\n",
    "%autoreload 2\n",
    "%reload_ext autoreload\n"
   ]
  },
  {
   "cell_type": "code",
   "execution_count": 45,
   "metadata": {},
   "outputs": [
    {
     "name": "stdout",
     "output_type": "stream",
     "text": [
      "\n",
      " \n",
      "Path to data directory ........ : ./data/Images\n",
      "Number of original breeds ..... : 3\n",
      "Total number of images ........ : 461\n",
      "Standard images size .......... : (224, 224)\n",
      "SIFT Image descriptors count .. : 0\n",
      "Number of images in sample .... : 0\n",
      "Sampling : breeds count ....... : 3\n",
      "Sampling : images per breed ... : 0\n",
      "X train size .................. : (368, 3)\n",
      "y train size .................. : (368, 3)\n",
      "X test size ................... : (93, 3)\n",
      "y test size ................... : (93, 3)\n",
      "Clusters models  .............. : dict_keys(['GMM'])\n",
      "Current cluster model  ........ : GMM\n",
      "Bag of features dataframe ..... : (461, 3)\n",
      "Encoded labels from dataset ... : (461, 3)\n",
      "Number of breeds in sample .... : 3\n",
      "Image splitted ................ : False\n",
      "Key point descriptors ......... : (30949, 128)\n",
      "Classifier name ............... : Linear SVC\n",
      "Supported classifiers ......... : ['Bernoulli NB', 'Random Forest', 'L.R. + multinomial', 'Gaussian NB', 'Linear SVC', 'KR Classifier']\n",
      "Number of restricted images ... : 0\n",
      "Splitted parts ................ : (1, 1)\n",
      "Dataframe images descriptors .. : 461 / Index(['desc', 'breed', 'kp', 'size', 'split_image', 'image_id'], dtype='object')\n",
      "KP filtering .................. : False\n",
      "Squarred images ............... : False\n",
      "Nb of breeds into sampling .... : 0\n",
      "Random image sampling ......... : True\n",
      "Assigned filters identifiers .. : [3, 2, 11, 6]\n",
      "\n",
      "Assigned filters list ......... : \n",
      "Identifier : 3   Filter= pil_2gray\n",
      "Identifier : 2   Filter= p7_filter_median\n",
      "Identifier : 11   Filter= pil_edge_only\n",
      "Identifier : 6   Filter= pil_gaussian\n",
      "\n",
      "Assignable filters list ....... : \n",
      "Identifier : 0   Filter= pil_square\n",
      "Identifier : 1   Filter= pil_edge\n",
      "Identifier : 2   Filter= p7_filter_median\n",
      "Identifier : 3   Filter= pil_2gray\n",
      "Identifier : 4   Filter= pil_autocontrast\n",
      "Identifier : 5   Filter= pil_equalize\n",
      "Identifier : 6   Filter= pil_gaussian\n",
      "Identifier : 7   Filter= pil_gradient\n",
      "Identifier : 8   Filter= pil_laplacien_kernel_4\n",
      "Identifier : 9   Filter= pil_laplacien_kernel_8\n",
      "Identifier : 10   Filter= pil_low_pass\n",
      "Identifier : 11   Filter= pil_edge_only\n",
      "\n",
      "Images processed count ........ : 461\n",
      "List of selected clusters ..... : []\n",
      "PCA components ................ : None\n",
      "\n",
      "Neural Network supported models ... : \n",
      "mlp\n",
      "cnn\n",
      "\n",
      "Activated Neural Network model .. : mlp\n",
      "\n"
     ]
    }
   ],
   "source": [
    "import P7_DataBreed\n",
    "if True :\n",
    "    oP7_DataBreed = P7_DataBreed.update_object_save(oP7_DataBreed, is_saved=False,is_new_attribute=False)\n",
    "oP7_DataBreed.show()"
   ]
  },
  {
   "cell_type": "markdown",
   "metadata": {},
   "source": [
    "# <font color='blus'>1. Building data model </font>\n",
    "\n",
    "* Data-model configuration is set.\n",
    "* Breeds to be loaded is defined\n"
   ]
  },
  {
   "cell_type": "code",
   "execution_count": 2,
   "metadata": {},
   "outputs": [
    {
     "name": "stdout",
     "output_type": "stream",
     "text": [
      "Number of classses= 3\n",
      "\n",
      " \n",
      "Path to data directory ........ : ./data/Images\n",
      "Number of original breeds ..... : 3\n",
      "Total number of images ........ : 461\n",
      "Standard images size .......... : None\n",
      "SIFT Image descriptors count .. : 0\n",
      "Number of images in sample .... : 0\n",
      "Sampling : breeds count ....... : 3\n",
      "Sampling : images per breed ... : 0\n",
      "X train size .................. : 0\n",
      "y train size .................. : 0\n",
      "X test size ................... : 0\n",
      "y test size ................... : 0\n",
      "Clusters models  .............. : dict_keys([])\n",
      "Current cluster model  ........ : \n",
      "Bag of features dataframe ..... : (0, 0)\n",
      "Encoded labels from dataset ... : ()\n",
      "Number of breeds in sample .... : 0\n",
      "Image splitted ................ : False\n",
      "Key point descriptors ......... : (128,)\n",
      "Classifier name ............... : \n",
      "Supported classifiers ......... : []\n",
      "Number of restricted images ... : 0\n",
      "Splitted parts ................ : (3, 3)\n",
      "Dataframe images descriptors .. : 0 / Index([], dtype='object')\n",
      "KP filtering .................. : False\n",
      "Squarred images ............... : False\n",
      "Nb of breeds into sampling .... : 0\n",
      "Random image sampling ......... : True\n",
      "Assigned filters identifiers .. : []\n",
      "\n",
      "Assigned filters list ......... : \n",
      "Identifier : 0   Filter= pil_square\n",
      "Identifier : 1   Filter= pil_edge\n",
      "Identifier : 2   Filter= p7_filter_median\n",
      "Identifier : 3   Filter= pil_2gray\n",
      "Identifier : 4   Filter= pil_autocontrast\n",
      "Identifier : 5   Filter= pil_equalize\n",
      "Identifier : 6   Filter= pil_gaussian\n",
      "Identifier : 7   Filter= pil_gradient\n",
      "Identifier : 8   Filter= pil_laplacien_kernel_4\n",
      "Identifier : 9   Filter= pil_laplacien_kernel_8\n",
      "Identifier : 10   Filter= pil_low_pass\n",
      "Identifier : 11   Filter= pil_edge_only\n",
      "\n",
      "Assignable filters list ....... : \n",
      "Identifier : 0   Filter= pil_square\n",
      "Identifier : 1   Filter= pil_edge\n",
      "Identifier : 2   Filter= p7_filter_median\n",
      "Identifier : 3   Filter= pil_2gray\n",
      "Identifier : 4   Filter= pil_autocontrast\n",
      "Identifier : 5   Filter= pil_equalize\n",
      "Identifier : 6   Filter= pil_gaussian\n",
      "Identifier : 7   Filter= pil_gradient\n",
      "Identifier : 8   Filter= pil_laplacien_kernel_4\n",
      "Identifier : 9   Filter= pil_laplacien_kernel_8\n",
      "Identifier : 10   Filter= pil_low_pass\n",
      "Identifier : 11   Filter= pil_edge_only\n",
      "\n",
      "Images processed count ........ : 0\n",
      "List of selected clusters ..... : []\n",
      "PCA components ................ : None\n",
      "\n",
      "\n",
      " \n",
      "Path to data directory ........ : ./data/Images\n",
      "Number of original breeds ..... : 3\n",
      "Total number of images ........ : 461\n",
      "Standard images size .......... : None\n",
      "SIFT Image descriptors count .. : 0\n",
      "Number of images in sample .... : 0\n",
      "Sampling : breeds count ....... : 3\n",
      "Sampling : images per breed ... : 0\n",
      "X train size .................. : 0\n",
      "y train size .................. : 0\n",
      "X test size ................... : 0\n",
      "y test size ................... : 0\n",
      "Clusters models  .............. : dict_keys([])\n",
      "Current cluster model  ........ : \n",
      "Bag of features dataframe ..... : (0, 0)\n",
      "Encoded labels from dataset ... : ()\n",
      "Number of breeds in sample .... : 0\n",
      "Image splitted ................ : False\n",
      "Key point descriptors ......... : (128,)\n",
      "Classifier name ............... : \n",
      "Supported classifiers ......... : []\n",
      "Number of restricted images ... : 0\n",
      "Splitted parts ................ : (3, 3)\n",
      "Dataframe images descriptors .. : 0 / Index([], dtype='object')\n",
      "KP filtering .................. : False\n",
      "Squarred images ............... : False\n",
      "Nb of breeds into sampling .... : 0\n",
      "Random image sampling ......... : True\n",
      "Assigned filters identifiers .. : []\n",
      "\n",
      "Assigned filters list ......... : \n",
      "Identifier : 0   Filter= pil_square\n",
      "Identifier : 1   Filter= pil_edge\n",
      "Identifier : 2   Filter= p7_filter_median\n",
      "Identifier : 3   Filter= pil_2gray\n",
      "Identifier : 4   Filter= pil_autocontrast\n",
      "Identifier : 5   Filter= pil_equalize\n",
      "Identifier : 6   Filter= pil_gaussian\n",
      "Identifier : 7   Filter= pil_gradient\n",
      "Identifier : 8   Filter= pil_laplacien_kernel_4\n",
      "Identifier : 9   Filter= pil_laplacien_kernel_8\n",
      "Identifier : 10   Filter= pil_low_pass\n",
      "Identifier : 11   Filter= pil_edge_only\n",
      "\n",
      "Assignable filters list ....... : \n",
      "Identifier : 0   Filter= pil_square\n",
      "Identifier : 1   Filter= pil_edge\n",
      "Identifier : 2   Filter= p7_filter_median\n",
      "Identifier : 3   Filter= pil_2gray\n",
      "Identifier : 4   Filter= pil_autocontrast\n",
      "Identifier : 5   Filter= pil_equalize\n",
      "Identifier : 6   Filter= pil_gaussian\n",
      "Identifier : 7   Filter= pil_gradient\n",
      "Identifier : 8   Filter= pil_laplacien_kernel_4\n",
      "Identifier : 9   Filter= pil_laplacien_kernel_8\n",
      "Identifier : 10   Filter= pil_low_pass\n",
      "Identifier : 11   Filter= pil_edge_only\n",
      "\n",
      "Images processed count ........ : 0\n",
      "List of selected clusters ..... : []\n",
      "PCA components ................ : None\n",
      "\n"
     ]
    }
   ],
   "source": [
    "import P7_DataBreed\n",
    "\n",
    "oP7_DataBreed=P7_DataBreed.P7_DataBreed('./data/Images')\n",
    "oP7_DataBreed.std_size=None\n",
    "oP7_DataBreed.is_squarred=False\n",
    "oP7_DataBreed.is_kp_filtered=False\n",
    "is_splitted=False\n",
    "oP7_DataBreed.split_ratio=(3,3)\n",
    "list_dirbreed = ['n02107142-Doberman','n02115641-dingo','n02113978-Mexican_hairless']\n",
    "\n",
    "## Retrieve number of classes\n",
    "nClasses = len(list_dirbreed)\n",
    "print(\"Number of classses= \"+str(nClasses))\n",
    "\n",
    "\n",
    "oP7_DataBreed.load(list_dirbreed=['n02107142-Doberman','n02115641-dingo','n02113978-Mexican_hairless'])\n",
    "oP7_DataBreed.show()\n",
    "oP7_DataBreed.show()\n",
    "oP7_DataBreed.show_breed_name()"
   ]
  },
  {
   "cell_type": "markdown",
   "metadata": {},
   "source": [
    "\n",
    "* DataFrame with columns as images, breed names and labels is built.\n",
    "\n",
    "* Labels are issued from encoding breed names. \n",
    "\n",
    "* Labels are then used for training Keras network. \n"
   ]
  },
  {
   "cell_type": "code",
   "execution_count": 50,
   "metadata": {},
   "outputs": [
    {
     "name": "stdout",
     "output_type": "stream",
     "text": [
      "Image count = 461\n"
     ]
    },
    {
     "data": {
      "text/plain": [
       "(array([0, 1, 2]), (461, 3))"
      ]
     },
     "execution_count": 50,
     "metadata": {},
     "output_type": "execute_result"
    }
   ],
   "source": [
    "df = oP7_DataBreed.df_build()\n",
    "df.label.unique(),df.shape"
   ]
  },
  {
   "cell_type": "markdown",
   "metadata": {},
   "source": [
    "#### Building train and test sample, Keras compliant\n",
    "<br>\n",
    "\n",
    "* Train and test datasets are built in order to feed Keras based networks.\n",
    "\n",
    "* Dataset is dumped in order to be used for all kinds of neurone networks"
   ]
  },
  {
   "cell_type": "code",
   "execution_count": 52,
   "metadata": {},
   "outputs": [
    {
     "name": "stdout",
     "output_type": "stream",
     "text": [
      "Total images = 461\n",
      "INFO : number of Image errors = 0\n",
      "INFO : number of Label errors = 0\n",
      "(461, 224, 224, 3) (461, 1)\n",
      "*** (414, 224, 224, 3)\n"
     ]
    }
   ],
   "source": [
    "from keras.utils import to_categorical\n",
    "import p5_util\n",
    "\n",
    "import P7_DataBreed\n",
    "\n",
    "ser_pil_image = df['image']\n",
    "ser_label = df['label']\n",
    "\n",
    "square = None\n",
    "resize = (224,224)\n",
    "test_size=0.1\n",
    "\n",
    "\n",
    "arr_keras_image_train, arr_keras_image_test, arr_label_train, arr_label_test \\\n",
    "= P7_DataBreed.p7_keras_X_train_test_build(ser_pil_image, ser_label, test_size=test_size\\\n",
    "                                           , square=square, resize=resize)\n",
    "print(\"*** \"+str(arr_keras_image_train.shape))\n",
    "# Data is standardized \n",
    "arr_keras_image_train = arr_keras_image_train.astype('float32')\n",
    "arr_keras_image_test  = arr_keras_image_test.astype('float32')\n",
    "arr_keras_image_train /= 255\n",
    "arr_keras_image_test /= 255\n",
    "\n",
    "# Targets are one-encoded thanks to Keras tools\n",
    "arr_label_train = to_categorical(arr_label_train)\n",
    "arr_label_test = to_categorical(arr_label_test)\n",
    "\n",
    "\n",
    "filename='./data/arr_keras_X_y_train_test.dump'\n",
    "p5_util.object_dump((arr_keras_image_train, arr_keras_image_test, arr_label_train, arr_label_test),filename)"
   ]
  },
  {
   "cell_type": "markdown",
   "metadata": {},
   "source": [
    "# <font color='blus'>0. Data is loaded and pre-processed </font>"
   ]
  },
  {
   "cell_type": "code",
   "execution_count": 10,
   "metadata": {},
   "outputs": [
    {
     "name": "stdout",
     "output_type": "stream",
     "text": [
      "p5_util.object_load : fileName= ./data/arr_keras_X_y_train_test.dump\n",
      "(414, 224, 224, 3) (47, 224, 224, 3) (414, 3) (47, 3)\n",
      "3\n",
      "150528\n",
      "(414, 150528)\n",
      "(47, 150528)\n"
     ]
    }
   ],
   "source": [
    "import numpy as np\n",
    "import p5_util\n",
    "\n",
    "filename='./data/arr_keras_X_y_train_test.dump'\n",
    "(X_train,X_test, y_train, y_test) = p5_util.object_load(filename)\n",
    "print(X_train.shape,X_test.shape,y_train.shape,y_test.shape)\n",
    "\n",
    "nClasses = y_train.shape[1]\n",
    "print(nClasses)\n",
    "\n",
    "dimData = np.prod(X_train.shape[1:])\n",
    "print(dimData)\n",
    "\n",
    "X_train = X_train.reshape(X_train.shape[0], dimData)\n",
    "X_test  = X_test.reshape(X_test.shape[0], dimData)\n",
    "print(X_train.shape)\n",
    "print(X_test.shape)"
   ]
  },
  {
   "cell_type": "markdown",
   "metadata": {},
   "source": [
    "# <font color='blus'>1. Breeds classification using Keras MLP model</font>"
   ]
  },
  {
   "cell_type": "markdown",
   "metadata": {},
   "source": [
    "## <font color='blus'>1.2. MLP network is built </font>"
   ]
  },
  {
   "cell_type": "code",
   "execution_count": 6,
   "metadata": {},
   "outputs": [
    {
     "name": "stdout",
     "output_type": "stream",
     "text": [
      "_________________________________________________________________\n",
      "Layer (type)                 Output Shape              Param #   \n",
      "=================================================================\n",
      "dense_1 (Dense)              (None, 512)               77070848  \n",
      "_________________________________________________________________\n",
      "dense_2 (Dense)              (None, 512)               262656    \n",
      "_________________________________________________________________\n",
      "dense_3 (Dense)              (None, 3)                 1539      \n",
      "=================================================================\n",
      "Total params: 77,335,043\n",
      "Trainable params: 77,335,043\n",
      "Non-trainable params: 0\n",
      "_________________________________________________________________\n"
     ]
    }
   ],
   "source": [
    "from keras.models import Sequential\n",
    "from keras.layers import Dense,Dropout\n",
    "from keras import optimizers\n",
    "\n",
    "mlp_model = Sequential()\n",
    "mlp_model.add(Dense(512, activation='relu', input_shape=(dimData,)))\n",
    "\n",
    "mlp_model.add(Dense(512, activation='relu'))\n",
    "\n",
    "mlp_model.add(Dense(nClasses, activation='softmax'))\n",
    "sgd = optimizers.SGD(lr=5.e-4)\n",
    "\n",
    "mlp_model.compile(optimizer=sgd, loss='categorical_crossentropy', metrics=['accuracy'])\n",
    "\n",
    "mlp_model.summary()"
   ]
  },
  {
   "cell_type": "markdown",
   "metadata": {},
   "source": [
    "## <font color='blus'>1.3. MLP network is trained </font>\n",
    "\n",
    "Batch size is 50"
   ]
  },
  {
   "cell_type": "code",
   "execution_count": 7,
   "metadata": {},
   "outputs": [
    {
     "name": "stdout",
     "output_type": "stream",
     "text": [
      "Train on 414 samples, validate on 47 samples\n",
      "Epoch 1/50\n",
      "414/414 [==============================] - 4s 10ms/step - loss: 1.1386 - acc: 0.3768 - val_loss: 1.0770 - val_acc: 0.4894\n",
      "Epoch 2/50\n",
      "414/414 [==============================] - 3s 7ms/step - loss: 0.9951 - acc: 0.5000 - val_loss: 1.1132 - val_acc: 0.4255\n",
      "Epoch 3/50\n",
      "414/414 [==============================] - 3s 7ms/step - loss: 0.9801 - acc: 0.5435 - val_loss: 1.0768 - val_acc: 0.4468\n",
      "Epoch 4/50\n",
      "414/414 [==============================] - 3s 8ms/step - loss: 0.9135 - acc: 0.5628 - val_loss: 1.0407 - val_acc: 0.5319\n",
      "Epoch 5/50\n",
      "414/414 [==============================] - 4s 10ms/step - loss: 0.9312 - acc: 0.5121 - val_loss: 0.9823 - val_acc: 0.4894\n",
      "Epoch 6/50\n",
      "414/414 [==============================] - 4s 10ms/step - loss: 0.7974 - acc: 0.6787 - val_loss: 0.9296 - val_acc: 0.5532\n",
      "Epoch 7/50\n",
      "414/414 [==============================] - 4s 11ms/step - loss: 0.7973 - acc: 0.6449 - val_loss: 0.9455 - val_acc: 0.5319\n",
      "Epoch 8/50\n",
      "414/414 [==============================] - 4s 10ms/step - loss: 0.7891 - acc: 0.6449 - val_loss: 0.8993 - val_acc: 0.5745\n",
      "Epoch 9/50\n",
      "414/414 [==============================] - 4s 9ms/step - loss: 0.7393 - acc: 0.6957 - val_loss: 1.3984 - val_acc: 0.5319\n",
      "Epoch 10/50\n",
      "414/414 [==============================] - 3s 7ms/step - loss: 0.8264 - acc: 0.6667 - val_loss: 1.0270 - val_acc: 0.5106\n",
      "Epoch 11/50\n",
      "414/414 [==============================] - 3s 7ms/step - loss: 0.7029 - acc: 0.7488 - val_loss: 0.8463 - val_acc: 0.6596\n",
      "Epoch 12/50\n",
      "414/414 [==============================] - 3s 6ms/step - loss: 0.6800 - acc: 0.7536 - val_loss: 0.8566 - val_acc: 0.5957\n",
      "Epoch 13/50\n",
      "414/414 [==============================] - 3s 6ms/step - loss: 0.7552 - acc: 0.7029 - val_loss: 0.9734 - val_acc: 0.5957\n",
      "Epoch 14/50\n",
      "414/414 [==============================] - 3s 6ms/step - loss: 0.6703 - acc: 0.7367 - val_loss: 0.8598 - val_acc: 0.5957\n",
      "Epoch 15/50\n",
      "414/414 [==============================] - 3s 7ms/step - loss: 0.6842 - acc: 0.7053 - val_loss: 0.8442 - val_acc: 0.5957\n",
      "Epoch 16/50\n",
      "414/414 [==============================] - 3s 6ms/step - loss: 0.6995 - acc: 0.6667 - val_loss: 0.9825 - val_acc: 0.5319\n",
      "Epoch 17/50\n",
      "414/414 [==============================] - 3s 6ms/step - loss: 0.6621 - acc: 0.7536 - val_loss: 1.0897 - val_acc: 0.5319\n",
      "Epoch 18/50\n",
      "414/414 [==============================] - 3s 6ms/step - loss: 0.6394 - acc: 0.7585 - val_loss: 1.0640 - val_acc: 0.5319\n",
      "Epoch 19/50\n",
      "414/414 [==============================] - 3s 6ms/step - loss: 0.6656 - acc: 0.7319 - val_loss: 1.0474 - val_acc: 0.5957\n",
      "Epoch 20/50\n",
      "414/414 [==============================] - 4s 9ms/step - loss: 0.6142 - acc: 0.7705 - val_loss: 0.8527 - val_acc: 0.6170\n",
      "Epoch 21/50\n",
      "414/414 [==============================] - 4s 11ms/step - loss: 0.5801 - acc: 0.7923 - val_loss: 0.9340 - val_acc: 0.5532\n",
      "Epoch 22/50\n",
      "414/414 [==============================] - 4s 10ms/step - loss: 0.5991 - acc: 0.7536 - val_loss: 0.9336 - val_acc: 0.5319\n",
      "Epoch 23/50\n",
      "414/414 [==============================] - 3s 7ms/step - loss: 0.6401 - acc: 0.7174 - val_loss: 0.8239 - val_acc: 0.6170\n",
      "Epoch 24/50\n",
      "414/414 [==============================] - 5s 11ms/step - loss: 0.6204 - acc: 0.7585 - val_loss: 0.8219 - val_acc: 0.6383\n",
      "Epoch 25/50\n",
      "414/414 [==============================] - 3s 8ms/step - loss: 0.5244 - acc: 0.8575 - val_loss: 1.0442 - val_acc: 0.5106\n",
      "Epoch 26/50\n",
      "414/414 [==============================] - 3s 6ms/step - loss: 0.5833 - acc: 0.7874 - val_loss: 1.0483 - val_acc: 0.5106\n",
      "Epoch 27/50\n",
      "414/414 [==============================] - 3s 7ms/step - loss: 0.5907 - acc: 0.7367 - val_loss: 0.9999 - val_acc: 0.5532\n",
      "Epoch 28/50\n",
      "414/414 [==============================] - 3s 6ms/step - loss: 0.5358 - acc: 0.8333 - val_loss: 0.9303 - val_acc: 0.5532\n",
      "Epoch 29/50\n",
      "414/414 [==============================] - 3s 6ms/step - loss: 0.5044 - acc: 0.8382 - val_loss: 1.0008 - val_acc: 0.5319\n",
      "Epoch 30/50\n",
      "414/414 [==============================] - 3s 7ms/step - loss: 0.5266 - acc: 0.8237 - val_loss: 0.8711 - val_acc: 0.5957\n",
      "Epoch 31/50\n",
      "414/414 [==============================] - 3s 6ms/step - loss: 0.5403 - acc: 0.8092 - val_loss: 1.0353 - val_acc: 0.5745\n",
      "Epoch 32/50\n",
      "414/414 [==============================] - 3s 6ms/step - loss: 0.5166 - acc: 0.8309 - val_loss: 0.8850 - val_acc: 0.5957\n",
      "Epoch 33/50\n",
      "414/414 [==============================] - 3s 6ms/step - loss: 0.4728 - acc: 0.8720 - val_loss: 0.9150 - val_acc: 0.5745\n",
      "Epoch 34/50\n",
      "414/414 [==============================] - 3s 6ms/step - loss: 0.4659 - acc: 0.8527 - val_loss: 0.8181 - val_acc: 0.6809\n",
      "Epoch 35/50\n",
      "414/414 [==============================] - 3s 6ms/step - loss: 0.4601 - acc: 0.8575 - val_loss: 0.7951 - val_acc: 0.6170\n",
      "Epoch 36/50\n",
      "414/414 [==============================] - 3s 7ms/step - loss: 0.4393 - acc: 0.8816 - val_loss: 0.9787 - val_acc: 0.5106\n",
      "Epoch 37/50\n",
      "414/414 [==============================] - 3s 6ms/step - loss: 0.4780 - acc: 0.8502 - val_loss: 0.7910 - val_acc: 0.6170\n",
      "Epoch 38/50\n",
      "414/414 [==============================] - 2s 6ms/step - loss: 0.4842 - acc: 0.8261 - val_loss: 1.6473 - val_acc: 0.4681\n",
      "Epoch 39/50\n",
      "414/414 [==============================] - 3s 6ms/step - loss: 0.5464 - acc: 0.8261 - val_loss: 0.9975 - val_acc: 0.5319\n",
      "Epoch 40/50\n",
      "414/414 [==============================] - 3s 6ms/step - loss: 0.4506 - acc: 0.8696 - val_loss: 0.8391 - val_acc: 0.5957\n",
      "Epoch 41/50\n",
      "414/414 [==============================] - 3s 6ms/step - loss: 0.3985 - acc: 0.9106 - val_loss: 0.8101 - val_acc: 0.6809\n",
      "Epoch 42/50\n",
      "414/414 [==============================] - 3s 6ms/step - loss: 0.4100 - acc: 0.8913 - val_loss: 0.8562 - val_acc: 0.6383\n",
      "Epoch 43/50\n",
      "414/414 [==============================] - 3s 6ms/step - loss: 0.4839 - acc: 0.8116 - val_loss: 0.8597 - val_acc: 0.5745\n",
      "Epoch 44/50\n",
      "414/414 [==============================] - 3s 7ms/step - loss: 0.4058 - acc: 0.8792 - val_loss: 0.8106 - val_acc: 0.6170\n",
      "Epoch 45/50\n",
      "414/414 [==============================] - 3s 7ms/step - loss: 0.4511 - acc: 0.8430 - val_loss: 0.8170 - val_acc: 0.6383\n",
      "Epoch 46/50\n",
      "414/414 [==============================] - 3s 7ms/step - loss: 0.3955 - acc: 0.8937 - val_loss: 0.8716 - val_acc: 0.5745\n",
      "Epoch 47/50\n",
      "414/414 [==============================] - 3s 6ms/step - loss: 0.3926 - acc: 0.8889 - val_loss: 0.9080 - val_acc: 0.5957\n",
      "Epoch 48/50\n",
      "414/414 [==============================] - 2s 6ms/step - loss: 0.4426 - acc: 0.8382 - val_loss: 0.8313 - val_acc: 0.7021\n",
      "Epoch 49/50\n",
      "414/414 [==============================] - 3s 7ms/step - loss: 0.3810 - acc: 0.9130 - val_loss: 1.7087 - val_acc: 0.5106\n",
      "Epoch 50/50\n",
      "414/414 [==============================] - 3s 6ms/step - loss: 0.5029 - acc: 0.8527 - val_loss: 0.8141 - val_acc: 0.6170\n"
     ]
    }
   ],
   "source": [
    "history = mlp_model.fit(X_train,\n",
    "                    y_train,\n",
    "                    epochs=50,\n",
    "                    batch_size=50,\n",
    "                    validation_data=(X_test,y_test))"
   ]
  },
  {
   "cell_type": "markdown",
   "metadata": {},
   "source": [
    "## <font color='blus'>1.4. Results are displayed </font>"
   ]
  },
  {
   "cell_type": "code",
   "execution_count": 8,
   "metadata": {},
   "outputs": [
    {
     "name": "stdout",
     "output_type": "stream",
     "text": [
      "47/47 [==============================] - 0s 1ms/step\n",
      "Evaluation result on Test Data : Loss = 0.8140797995506449, accuracy = 0.6170212816684804\n"
     ]
    },
    {
     "data": {
      "text/plain": [
       "Text(0.5, 1.0, 'Accuracy Curves')"
      ]
     },
     "execution_count": 8,
     "metadata": {},
     "output_type": "execute_result"
    },
    {
     "data": {
      "image/png": "[encoded data removed]",
      "text/plain": [
       "<Figure size 576x432 with 1 Axes>"
      ]
     },
     "metadata": {
      "needs_background": "light"
     },
     "output_type": "display_data"
    },
    {
     "data": {
      "image/png": "[encoded data removed]",
      "text/plain": [
       "<Figure size 576x432 with 1 Axes>"
      ]
     },
     "metadata": {
      "needs_background": "light"
     },
     "output_type": "display_data"
    }
   ],
   "source": [
    "import matplotlib.pyplot as plt\n",
    "\n",
    "[test_loss, test_acc] = mlp_model.evaluate(X_test, y_test)\n",
    "print(\"Evaluation result on Test Data : Loss = {}, accuracy = {}\".format(test_loss, test_acc))\n",
    "\n",
    "#Plot the Loss Curves\n",
    "plt.figure(figsize=[8,6])\n",
    "plt.plot(history.history['loss'],'r',linewidth=1.0)\n",
    "plt.plot(history.history['val_loss'],'b',linewidth=1.0)\n",
    "plt.legend(['Training loss', 'Validation Loss'],fontsize=18)\n",
    "plt.xlabel('Epochs ',fontsize=16)\n",
    "plt.ylabel('Loss',fontsize=16)\n",
    "plt.title('Loss Curves ',fontsize=16)\n",
    " \n",
    "#Plot the Accuracy Curves\n",
    "plt.figure(figsize=[8,6])\n",
    "plt.plot(history.history['acc'],'r',linewidth=1.0)\n",
    "plt.plot(history.history['val_acc'],'b',linewidth=1.0)\n",
    "plt.legend(['Training Accuracy', 'Validation Accuracy'],fontsize=18)\n",
    "plt.xlabel('Epochs ',fontsize=16)\n",
    "plt.ylabel('Accuracy',fontsize=16)\n",
    "plt.title('Accuracy Curves',fontsize=16)"
   ]
  },
  {
   "cell_type": "markdown",
   "metadata": {},
   "source": [
    "# <font color='blus'>2. Breeds classification regularized MLP model</font>\n",
    "\n",
    "Regularization is gained with droping some neuron into first dense layers."
   ]
  },
  {
   "cell_type": "markdown",
   "metadata": {},
   "source": [
    "## <font color='blus'>2.2. MLP network is built droping neurons</font>\n",
    "\n",
    "* Regularization consists in droping some neurones into layers."
   ]
  },
  {
   "cell_type": "code",
   "execution_count": 11,
   "metadata": {},
   "outputs": [
    {
     "name": "stdout",
     "output_type": "stream",
     "text": [
      "_________________________________________________________________\n",
      "Layer (type)                 Output Shape              Param #   \n",
      "=================================================================\n",
      "dense_1 (Dense)              (None, 512)               77070848  \n",
      "_________________________________________________________________\n",
      "dropout_1 (Dropout)          (None, 512)               0         \n",
      "_________________________________________________________________\n",
      "dense_2 (Dense)              (None, 512)               262656    \n",
      "_________________________________________________________________\n",
      "dropout_2 (Dropout)          (None, 512)               0         \n",
      "_________________________________________________________________\n",
      "dense_3 (Dense)              (None, 3)                 1539      \n",
      "=================================================================\n",
      "Total params: 77,335,043\n",
      "Trainable params: 77,335,043\n",
      "Non-trainable params: 0\n",
      "_________________________________________________________________\n"
     ]
    }
   ],
   "source": [
    "from keras.regularizers import l1\n",
    "from keras.regularizers import l2\n",
    "from keras.models import Sequential\n",
    "from keras.layers import Dense,Dropout\n",
    "from keras import optimizers\n",
    "\n",
    "drop_ratio = 0.6\n",
    "\n",
    "mlp_model_drop = Sequential()\n",
    "mlp_model_drop.add(Dense(512, activation='relu', input_shape=(dimData,)))\n",
    "mlp_model_drop.add(Dropout(drop_ratio))\n",
    "\n",
    "mlp_model_drop.add(Dense(512, activation='relu'))\n",
    "mlp_model_drop.add(Dropout(drop_ratio))\n",
    "\n",
    "mlp_model_drop.add(Dense(nClasses, activation='softmax'))\n",
    "sgd = optimizers.SGD(lr=5.e-4)\n",
    "\n",
    "mlp_model_drop.compile(optimizer=sgd, loss='categorical_crossentropy', metrics=['accuracy'])\n",
    "\n",
    "mlp_model_drop.summary()"
   ]
  },
  {
   "cell_type": "code",
   "execution_count": 12,
   "metadata": {},
   "outputs": [
    {
     "name": "stdout",
     "output_type": "stream",
     "text": [
      "Train on 414 samples, validate on 47 samples\n",
      "Epoch 1/50\n",
      "414/414 [==============================] - 5s 11ms/step - loss: 1.4185 - acc: 0.3575 - val_loss: 1.2184 - val_acc: 0.3404\n",
      "Epoch 2/50\n",
      "414/414 [==============================] - 3s 8ms/step - loss: 1.2712 - acc: 0.3696 - val_loss: 1.1166 - val_acc: 0.3830\n",
      "Epoch 3/50\n",
      "414/414 [==============================] - 3s 7ms/step - loss: 1.1859 - acc: 0.3986 - val_loss: 1.0141 - val_acc: 0.4681\n",
      "Epoch 4/50\n",
      "414/414 [==============================] - 3s 7ms/step - loss: 1.1804 - acc: 0.3865 - val_loss: 0.9987 - val_acc: 0.4681\n",
      "Epoch 5/50\n",
      "414/414 [==============================] - 3s 7ms/step - loss: 1.1036 - acc: 0.4396 - val_loss: 1.0009 - val_acc: 0.4681\n",
      "Epoch 6/50\n",
      "414/414 [==============================] - 3s 7ms/step - loss: 1.0725 - acc: 0.4807 - val_loss: 1.0180 - val_acc: 0.5106\n",
      "Epoch 7/50\n",
      "414/414 [==============================] - 3s 7ms/step - loss: 1.0079 - acc: 0.4831 - val_loss: 1.0162 - val_acc: 0.4043\n",
      "Epoch 8/50\n",
      "414/414 [==============================] - 3s 7ms/step - loss: 1.0161 - acc: 0.4565 - val_loss: 0.9918 - val_acc: 0.5745\n",
      "Epoch 9/50\n",
      "414/414 [==============================] - 3s 7ms/step - loss: 1.0277 - acc: 0.4928 - val_loss: 1.0004 - val_acc: 0.5106\n",
      "Epoch 10/50\n",
      "414/414 [==============================] - 3s 7ms/step - loss: 0.9996 - acc: 0.5338 - val_loss: 0.9752 - val_acc: 0.5532\n",
      "Epoch 11/50\n",
      "414/414 [==============================] - 3s 7ms/step - loss: 1.0012 - acc: 0.5048 - val_loss: 0.9593 - val_acc: 0.5319\n",
      "Epoch 12/50\n",
      "414/414 [==============================] - 3s 7ms/step - loss: 0.9868 - acc: 0.5024 - val_loss: 0.9765 - val_acc: 0.5106\n",
      "Epoch 13/50\n",
      "414/414 [==============================] - 3s 7ms/step - loss: 0.9686 - acc: 0.5145 - val_loss: 0.9394 - val_acc: 0.5319\n",
      "Epoch 14/50\n",
      "414/414 [==============================] - 3s 7ms/step - loss: 0.9699 - acc: 0.4952 - val_loss: 0.9674 - val_acc: 0.4894\n",
      "Epoch 15/50\n",
      "414/414 [==============================] - 3s 7ms/step - loss: 0.9538 - acc: 0.5266 - val_loss: 0.9434 - val_acc: 0.5106\n",
      "Epoch 16/50\n",
      "414/414 [==============================] - 3s 8ms/step - loss: 0.9689 - acc: 0.5169 - val_loss: 0.9574 - val_acc: 0.5106\n",
      "Epoch 17/50\n",
      "414/414 [==============================] - 4s 10ms/step - loss: 0.9548 - acc: 0.5604 - val_loss: 0.9498 - val_acc: 0.5106\n",
      "Epoch 18/50\n",
      "414/414 [==============================] - 3s 8ms/step - loss: 0.9012 - acc: 0.5749 - val_loss: 0.9444 - val_acc: 0.5319\n",
      "Epoch 19/50\n",
      "414/414 [==============================] - 3s 7ms/step - loss: 0.9546 - acc: 0.5193 - val_loss: 0.9604 - val_acc: 0.5745\n",
      "Epoch 20/50\n",
      "414/414 [==============================] - 3s 7ms/step - loss: 0.9702 - acc: 0.5411 - val_loss: 0.9093 - val_acc: 0.5319\n",
      "Epoch 21/50\n",
      "414/414 [==============================] - 3s 7ms/step - loss: 0.8875 - acc: 0.5435 - val_loss: 0.9260 - val_acc: 0.5319\n",
      "Epoch 22/50\n",
      "414/414 [==============================] - 3s 7ms/step - loss: 0.9226 - acc: 0.5435 - val_loss: 0.9377 - val_acc: 0.5745\n",
      "Epoch 23/50\n",
      "414/414 [==============================] - 3s 7ms/step - loss: 0.8840 - acc: 0.5773 - val_loss: 0.9181 - val_acc: 0.5319\n",
      "Epoch 24/50\n",
      "414/414 [==============================] - 3s 7ms/step - loss: 0.8998 - acc: 0.5700 - val_loss: 0.9134 - val_acc: 0.5319\n",
      "Epoch 25/50\n",
      "414/414 [==============================] - 3s 7ms/step - loss: 0.8893 - acc: 0.5725 - val_loss: 0.9062 - val_acc: 0.5745\n",
      "Epoch 26/50\n",
      "414/414 [==============================] - 3s 7ms/step - loss: 0.9005 - acc: 0.5459 - val_loss: 0.9439 - val_acc: 0.5106\n",
      "Epoch 27/50\n",
      "414/414 [==============================] - 3s 7ms/step - loss: 0.9236 - acc: 0.5966 - val_loss: 0.8898 - val_acc: 0.5957\n",
      "Epoch 28/50\n",
      "414/414 [==============================] - 3s 7ms/step - loss: 0.8797 - acc: 0.5894 - val_loss: 0.8788 - val_acc: 0.6170\n",
      "Epoch 29/50\n",
      "414/414 [==============================] - 4s 9ms/step - loss: 0.9097 - acc: 0.5628 - val_loss: 0.8870 - val_acc: 0.5745\n",
      "Epoch 30/50\n",
      "414/414 [==============================] - 3s 7ms/step - loss: 0.8820 - acc: 0.5797 - val_loss: 0.8867 - val_acc: 0.6596\n",
      "Epoch 31/50\n",
      "414/414 [==============================] - 3s 7ms/step - loss: 0.8466 - acc: 0.6135 - val_loss: 0.8868 - val_acc: 0.5957\n",
      "Epoch 32/50\n",
      "414/414 [==============================] - 3s 7ms/step - loss: 0.9155 - acc: 0.5435 - val_loss: 0.8997 - val_acc: 0.5532\n",
      "Epoch 33/50\n",
      "414/414 [==============================] - 3s 7ms/step - loss: 0.8527 - acc: 0.6039 - val_loss: 0.9062 - val_acc: 0.5532\n",
      "Epoch 34/50\n",
      "414/414 [==============================] - 3s 7ms/step - loss: 0.8893 - acc: 0.5942 - val_loss: 0.8699 - val_acc: 0.5745\n",
      "Epoch 35/50\n",
      "414/414 [==============================] - 3s 7ms/step - loss: 0.8476 - acc: 0.5821 - val_loss: 0.8717 - val_acc: 0.6383\n",
      "Epoch 36/50\n",
      "414/414 [==============================] - 3s 7ms/step - loss: 0.8486 - acc: 0.6014 - val_loss: 0.8844 - val_acc: 0.5745\n",
      "Epoch 37/50\n",
      "414/414 [==============================] - 4s 9ms/step - loss: 0.8699 - acc: 0.5870 - val_loss: 0.9126 - val_acc: 0.5106\n",
      "Epoch 38/50\n",
      "414/414 [==============================] - 3s 7ms/step - loss: 0.8449 - acc: 0.5966 - val_loss: 0.9008 - val_acc: 0.5319\n",
      "Epoch 39/50\n",
      "414/414 [==============================] - 4s 9ms/step - loss: 0.8509 - acc: 0.6014 - val_loss: 0.8796 - val_acc: 0.5532\n",
      "Epoch 40/50\n",
      "414/414 [==============================] - 3s 7ms/step - loss: 0.8373 - acc: 0.6184 - val_loss: 0.8803 - val_acc: 0.5957\n",
      "Epoch 41/50\n",
      "414/414 [==============================] - 3s 7ms/step - loss: 0.8212 - acc: 0.6159 - val_loss: 0.8822 - val_acc: 0.6170\n",
      "Epoch 42/50\n",
      "414/414 [==============================] - 3s 7ms/step - loss: 0.8138 - acc: 0.6208 - val_loss: 0.8897 - val_acc: 0.5319\n",
      "Epoch 43/50\n",
      "414/414 [==============================] - 3s 7ms/step - loss: 0.8461 - acc: 0.5821 - val_loss: 0.8662 - val_acc: 0.5745\n",
      "Epoch 44/50\n",
      "414/414 [==============================] - 3s 7ms/step - loss: 0.8289 - acc: 0.6184 - val_loss: 0.8745 - val_acc: 0.5957\n",
      "Epoch 45/50\n",
      "414/414 [==============================] - 3s 7ms/step - loss: 0.7956 - acc: 0.6473 - val_loss: 0.8702 - val_acc: 0.5957\n",
      "Epoch 46/50\n",
      "414/414 [==============================] - 3s 7ms/step - loss: 0.8168 - acc: 0.6208 - val_loss: 0.8739 - val_acc: 0.6170\n",
      "Epoch 47/50\n",
      "414/414 [==============================] - 3s 7ms/step - loss: 0.8105 - acc: 0.6329 - val_loss: 0.8589 - val_acc: 0.5745\n",
      "Epoch 48/50\n",
      "414/414 [==============================] - 3s 7ms/step - loss: 0.8189 - acc: 0.6256 - val_loss: 0.8746 - val_acc: 0.5957\n",
      "Epoch 49/50\n",
      "414/414 [==============================] - 3s 7ms/step - loss: 0.7954 - acc: 0.6256 - val_loss: 0.9217 - val_acc: 0.5106\n",
      "Epoch 50/50\n",
      "414/414 [==============================] - 3s 7ms/step - loss: 0.8070 - acc: 0.6135 - val_loss: 0.9182 - val_acc: 0.5745\n"
     ]
    }
   ],
   "source": [
    "history = mlp_model_drop.fit(X_train,\n",
    "                    y_train,\n",
    "                    epochs=50,\n",
    "                    batch_size=50,\n",
    "                    validation_data=(X_test,y_test))"
   ]
  },
  {
   "cell_type": "markdown",
   "metadata": {},
   "source": [
    "## <font color='blus'>2.3. Results are displayed </font>"
   ]
  },
  {
   "cell_type": "code",
   "execution_count": 13,
   "metadata": {},
   "outputs": [
    {
     "name": "stdout",
     "output_type": "stream",
     "text": [
      "47/47 [==============================] - 0s 2ms/step\n",
      "Evaluation result on Test Data : Loss = 0.9181672233216306, accuracy = 0.5744680927154866\n"
     ]
    },
    {
     "data": {
      "text/plain": [
       "Text(0.5, 1.0, 'Accuracy Curves')"
      ]
     },
     "execution_count": 13,
     "metadata": {},
     "output_type": "execute_result"
    },
    {
     "data": {
      "image/png": "[encoded data removed]",
      "text/plain": [
       "<Figure size 576x432 with 1 Axes>"
      ]
     },
     "metadata": {
      "needs_background": "light"
     },
     "output_type": "display_data"
    },
    {
     "data": {
      "image/png": "[encoded data removed]",
      "text/plain": [
       "<Figure size 576x432 with 1 Axes>"
      ]
     },
     "metadata": {
      "needs_background": "light"
     },
     "output_type": "display_data"
    }
   ],
   "source": [
    "import matplotlib.pyplot as plt\n",
    "\n",
    "[test_loss, test_acc] = mlp_model_drop.evaluate(X_test, y_test)\n",
    "print(\"Evaluation result on Test Data : Loss = {}, accuracy = {}\".format(test_loss, test_acc))\n",
    "\n",
    "#Plot the Loss Curves\n",
    "plt.figure(figsize=[8,6])\n",
    "plt.plot(history.history['loss'],'r',linewidth=1.0)\n",
    "plt.plot(history.history['val_loss'],'b',linewidth=1.0)\n",
    "plt.legend(['Training loss', 'Validation Loss'],fontsize=18)\n",
    "plt.xlabel('Epochs ',fontsize=16)\n",
    "plt.ylabel('Loss',fontsize=16)\n",
    "plt.title('Loss Curves ',fontsize=16)\n",
    " \n",
    "#Plot the Accuracy Curves\n",
    "plt.figure(figsize=[8,6])\n",
    "plt.plot(history.history['acc'],'r',linewidth=1.0)\n",
    "plt.plot(history.history['val_acc'],'b',linewidth=1.0)\n",
    "plt.legend(['Training Accuracy', 'Validation Accuracy'],fontsize=18)\n",
    "plt.xlabel('Epochs ',fontsize=16)\n",
    "plt.ylabel('Accuracy',fontsize=16)\n",
    "plt.title('Accuracy Curves',fontsize=16)"
   ]
  },
  {
   "cell_type": "markdown",
   "metadata": {},
   "source": [
    "# <font color='blus'>3. Breeds classification with a L2 regularized MLP model</font>\n",
    "\n",
    "Regularization is gained with Ridge regularization applied to cost function"
   ]
  },
  {
   "cell_type": "markdown",
   "metadata": {},
   "source": [
    "## <font color='blus'>3.1. MLP network is built with L2 regularization</font>\n",
    "\n",
    "* Regularization consists in droping some neurones into layers."
   ]
  },
  {
   "cell_type": "code",
   "execution_count": 12,
   "metadata": {},
   "outputs": [
    {
     "name": "stdout",
     "output_type": "stream",
     "text": [
      "_________________________________________________________________\n",
      "Layer (type)                 Output Shape              Param #   \n",
      "=================================================================\n",
      "dense_7 (Dense)              (None, 512)               77070848  \n",
      "_________________________________________________________________\n",
      "dense_8 (Dense)              (None, 512)               262656    \n",
      "_________________________________________________________________\n",
      "dense_9 (Dense)              (None, 3)                 1539      \n",
      "=================================================================\n",
      "Total params: 77,335,043\n",
      "Trainable params: 77,335,043\n",
      "Non-trainable params: 0\n",
      "_________________________________________________________________\n"
     ]
    }
   ],
   "source": [
    "from keras.regularizers import l1\n",
    "from keras.regularizers import l2\n",
    "from keras.models import Sequential\n",
    "from keras.layers import Dense,Dropout\n",
    "from keras import optimizers\n",
    "reg = 1.e-4\n",
    "mlp_model = Sequential()\n",
    "mlp_model.add(Dense(512, activation='relu', input_shape=(dimData,),activity_regularizer=l2(reg)))\n",
    "\n",
    "mlp_model.add(Dense(512, activation='relu', activity_regularizer=l2(reg)))\n",
    "\n",
    "mlp_model.add(Dense(nClasses, activation='softmax'))\n",
    "sgd = optimizers.SGD(lr=5.e-4)\n",
    "\n",
    "mlp_model.compile(optimizer=sgd, loss='categorical_crossentropy', metrics=['accuracy'])\n",
    "\n",
    "mlp_model.summary()"
   ]
  },
  {
   "cell_type": "code",
   "execution_count": 13,
   "metadata": {},
   "outputs": [
    {
     "name": "stdout",
     "output_type": "stream",
     "text": [
      "Train on 414 samples, validate on 47 samples\n",
      "Epoch 1/50\n",
      "414/414 [==============================] - 3s 8ms/step - loss: 1.4975 - acc: 0.4082 - val_loss: 1.1695 - val_acc: 0.3830\n",
      "Epoch 2/50\n",
      "414/414 [==============================] - 3s 6ms/step - loss: 1.1074 - acc: 0.5604 - val_loss: 1.1156 - val_acc: 0.3617\n",
      "Epoch 3/50\n",
      "414/414 [==============================] - 3s 6ms/step - loss: 1.0548 - acc: 0.6063 - val_loss: 1.0688 - val_acc: 0.5745\n",
      "Epoch 4/50\n",
      "414/414 [==============================] - 3s 6ms/step - loss: 1.0215 - acc: 0.6715 - val_loss: 1.0586 - val_acc: 0.5319\n",
      "Epoch 5/50\n",
      "414/414 [==============================] - 3s 6ms/step - loss: 1.0082 - acc: 0.6691 - val_loss: 1.1095 - val_acc: 0.4468\n",
      "Epoch 6/50\n",
      "414/414 [==============================] - 3s 6ms/step - loss: 0.9873 - acc: 0.6643 - val_loss: 1.0631 - val_acc: 0.4894\n",
      "Epoch 7/50\n",
      "414/414 [==============================] - 3s 6ms/step - loss: 0.9777 - acc: 0.6812 - val_loss: 1.0549 - val_acc: 0.4894\n",
      "Epoch 8/50\n",
      "414/414 [==============================] - 3s 6ms/step - loss: 0.9586 - acc: 0.7077 - val_loss: 1.0367 - val_acc: 0.5319\n",
      "Epoch 9/50\n",
      "414/414 [==============================] - 3s 6ms/step - loss: 0.9442 - acc: 0.7415 - val_loss: 1.0216 - val_acc: 0.5745\n",
      "Epoch 10/50\n",
      "414/414 [==============================] - 3s 8ms/step - loss: 0.9316 - acc: 0.7319 - val_loss: 1.0520 - val_acc: 0.4894\n",
      "Epoch 11/50\n",
      "414/414 [==============================] - 3s 6ms/step - loss: 0.9219 - acc: 0.7367 - val_loss: 1.0179 - val_acc: 0.5532\n",
      "Epoch 12/50\n",
      "414/414 [==============================] - 3s 7ms/step - loss: 0.9148 - acc: 0.7343 - val_loss: 1.0428 - val_acc: 0.5319\n",
      "Epoch 13/50\n",
      "414/414 [==============================] - 3s 6ms/step - loss: 0.9105 - acc: 0.7391 - val_loss: 1.0221 - val_acc: 0.5319\n",
      "Epoch 14/50\n",
      "414/414 [==============================] - 3s 6ms/step - loss: 0.8922 - acc: 0.7850 - val_loss: 1.0849 - val_acc: 0.4681\n",
      "Epoch 15/50\n",
      "414/414 [==============================] - 3s 6ms/step - loss: 0.8886 - acc: 0.7633 - val_loss: 1.0235 - val_acc: 0.5745\n",
      "Epoch 16/50\n",
      "414/414 [==============================] - 3s 6ms/step - loss: 0.8722 - acc: 0.7778 - val_loss: 1.0352 - val_acc: 0.4894\n",
      "Epoch 17/50\n",
      "414/414 [==============================] - 3s 6ms/step - loss: 0.8721 - acc: 0.8092 - val_loss: 1.0369 - val_acc: 0.5532\n",
      "Epoch 18/50\n",
      "414/414 [==============================] - 3s 6ms/step - loss: 0.8560 - acc: 0.7874 - val_loss: 1.0124 - val_acc: 0.5532\n",
      "Epoch 19/50\n",
      "414/414 [==============================] - 3s 6ms/step - loss: 0.8491 - acc: 0.8333 - val_loss: 1.0905 - val_acc: 0.5106\n",
      "Epoch 20/50\n",
      "414/414 [==============================] - 3s 6ms/step - loss: 0.8534 - acc: 0.7923 - val_loss: 1.0076 - val_acc: 0.5319\n",
      "Epoch 21/50\n",
      "414/414 [==============================] - 3s 6ms/step - loss: 0.8326 - acc: 0.8213 - val_loss: 1.0292 - val_acc: 0.5745\n",
      "Epoch 22/50\n",
      "414/414 [==============================] - 3s 6ms/step - loss: 0.8339 - acc: 0.8019 - val_loss: 1.0003 - val_acc: 0.5957\n",
      "Epoch 23/50\n",
      "414/414 [==============================] - 3s 7ms/step - loss: 0.8160 - acc: 0.8430 - val_loss: 1.0307 - val_acc: 0.5319\n",
      "Epoch 24/50\n",
      "414/414 [==============================] - 3s 6ms/step - loss: 0.8126 - acc: 0.8382 - val_loss: 1.0004 - val_acc: 0.5745\n",
      "Epoch 25/50\n",
      "414/414 [==============================] - 3s 6ms/step - loss: 0.8137 - acc: 0.8430 - val_loss: 1.0022 - val_acc: 0.5745\n",
      "Epoch 26/50\n",
      "414/414 [==============================] - 3s 6ms/step - loss: 0.7990 - acc: 0.8502 - val_loss: 0.9962 - val_acc: 0.5319\n",
      "Epoch 27/50\n",
      "414/414 [==============================] - 3s 6ms/step - loss: 0.7910 - acc: 0.8430 - val_loss: 0.9939 - val_acc: 0.5745\n",
      "Epoch 28/50\n",
      "414/414 [==============================] - 3s 6ms/step - loss: 0.7924 - acc: 0.8575 - val_loss: 1.0016 - val_acc: 0.5319\n",
      "Epoch 29/50\n",
      "414/414 [==============================] - 3s 6ms/step - loss: 0.7794 - acc: 0.8647 - val_loss: 1.0097 - val_acc: 0.6170\n",
      "Epoch 30/50\n",
      "414/414 [==============================] - 3s 6ms/step - loss: 0.7759 - acc: 0.8647 - val_loss: 0.9982 - val_acc: 0.6383\n",
      "Epoch 31/50\n",
      "414/414 [==============================] - 3s 6ms/step - loss: 0.7709 - acc: 0.8937 - val_loss: 1.0271 - val_acc: 0.5532\n",
      "Epoch 32/50\n",
      "414/414 [==============================] - 3s 6ms/step - loss: 0.7694 - acc: 0.8527 - val_loss: 1.0393 - val_acc: 0.5957\n",
      "Epoch 33/50\n",
      "414/414 [==============================] - 3s 6ms/step - loss: 0.7639 - acc: 0.8647 - val_loss: 0.9880 - val_acc: 0.6170\n",
      "Epoch 34/50\n",
      "414/414 [==============================] - 3s 6ms/step - loss: 0.7506 - acc: 0.8816 - val_loss: 0.9887 - val_acc: 0.5957\n",
      "Epoch 35/50\n",
      "414/414 [==============================] - 3s 6ms/step - loss: 0.7467 - acc: 0.8816 - val_loss: 1.0334 - val_acc: 0.5532\n",
      "Epoch 36/50\n",
      "414/414 [==============================] - 2s 6ms/step - loss: 0.7430 - acc: 0.8768 - val_loss: 1.0055 - val_acc: 0.5532\n",
      "Epoch 37/50\n",
      "414/414 [==============================] - 3s 6ms/step - loss: 0.7338 - acc: 0.8961 - val_loss: 1.0251 - val_acc: 0.5106\n",
      "Epoch 38/50\n",
      "414/414 [==============================] - 3s 6ms/step - loss: 0.7300 - acc: 0.8961 - val_loss: 0.9954 - val_acc: 0.5532\n",
      "Epoch 39/50\n",
      "414/414 [==============================] - 3s 7ms/step - loss: 0.7339 - acc: 0.8889 - val_loss: 1.1036 - val_acc: 0.5106\n",
      "Epoch 40/50\n",
      "414/414 [==============================] - 3s 6ms/step - loss: 0.7323 - acc: 0.8792 - val_loss: 0.9969 - val_acc: 0.5532\n",
      "Epoch 41/50\n",
      "414/414 [==============================] - 3s 6ms/step - loss: 0.7210 - acc: 0.8913 - val_loss: 1.0109 - val_acc: 0.5745\n",
      "Epoch 42/50\n",
      "414/414 [==============================] - 3s 6ms/step - loss: 0.7215 - acc: 0.8841 - val_loss: 0.9944 - val_acc: 0.5745\n",
      "Epoch 43/50\n",
      "414/414 [==============================] - 3s 6ms/step - loss: 0.7019 - acc: 0.9106 - val_loss: 0.9872 - val_acc: 0.5319\n",
      "Epoch 44/50\n",
      "414/414 [==============================] - 3s 6ms/step - loss: 0.6971 - acc: 0.9058 - val_loss: 0.9913 - val_acc: 0.5532\n",
      "Epoch 45/50\n",
      "414/414 [==============================] - 3s 6ms/step - loss: 0.6960 - acc: 0.9203 - val_loss: 1.0234 - val_acc: 0.5106\n",
      "Epoch 46/50\n",
      "414/414 [==============================] - 2s 6ms/step - loss: 0.6863 - acc: 0.9130 - val_loss: 0.9852 - val_acc: 0.5957\n",
      "Epoch 47/50\n",
      "414/414 [==============================] - 3s 6ms/step - loss: 0.6876 - acc: 0.9155 - val_loss: 1.0519 - val_acc: 0.5319\n",
      "Epoch 48/50\n",
      "414/414 [==============================] - 3s 6ms/step - loss: 0.6973 - acc: 0.8865 - val_loss: 1.0035 - val_acc: 0.5957\n",
      "Epoch 49/50\n",
      "414/414 [==============================] - 3s 6ms/step - loss: 0.6751 - acc: 0.9324 - val_loss: 1.0394 - val_acc: 0.5957\n",
      "Epoch 50/50\n",
      "414/414 [==============================] - 3s 6ms/step - loss: 0.6769 - acc: 0.8889 - val_loss: 0.9977 - val_acc: 0.5319\n"
     ]
    }
   ],
   "source": [
    "history = mlp_model.fit(X_train,\n",
    "                    y_train,\n",
    "                    epochs=50,\n",
    "                    batch_size=50,\n",
    "                    validation_data=(X_test,y_test))"
   ]
  },
  {
   "cell_type": "markdown",
   "metadata": {},
   "source": [
    "## <font color='blus'>3.2 Results are displayed </font>"
   ]
  },
  {
   "cell_type": "code",
   "execution_count": 14,
   "metadata": {},
   "outputs": [
    {
     "name": "stdout",
     "output_type": "stream",
     "text": [
      "47/47 [==============================] - 0s 1ms/step\n",
      "Evaluation result on Test Data : Loss = 0.9405017114700155, accuracy = 0.5319149012261248\n"
     ]
    },
    {
     "data": {
      "text/plain": [
       "Text(0.5, 1.0, 'Accuracy Curves')"
      ]
     },
     "execution_count": 14,
     "metadata": {},
     "output_type": "execute_result"
    },
    {
     "data": {
      "image/png": "[encoded data removed]",
      "text/plain": [
       "<Figure size 576x432 with 1 Axes>"
      ]
     },
     "metadata": {
      "needs_background": "light"
     },
     "output_type": "display_data"
    },
    {
     "data": {
      "image/png": "[encoded data removed]",
      "text/plain": [
       "<Figure size 576x432 with 1 Axes>"
      ]
     },
     "metadata": {
      "needs_background": "light"
     },
     "output_type": "display_data"
    }
   ],
   "source": [
    "import matplotlib.pyplot as plt\n",
    "\n",
    "[test_loss, test_acc] = mlp_model.evaluate(X_test, y_test)\n",
    "print(\"Evaluation result on Test Data : Loss = {}, accuracy = {}\".format(test_loss, test_acc))\n",
    "\n",
    "#Plot the Loss Curves\n",
    "plt.figure(figsize=[8,6])\n",
    "plt.plot(history.history['loss'],'r',linewidth=1.0)\n",
    "plt.plot(history.history['val_loss'],'b',linewidth=1.0)\n",
    "plt.legend(['Training loss', 'Validation Loss'],fontsize=18)\n",
    "plt.xlabel('Epochs ',fontsize=16)\n",
    "plt.ylabel('Loss',fontsize=16)\n",
    "plt.title('Loss Curves ',fontsize=16)\n",
    " \n",
    "#Plot the Accuracy Curves\n",
    "plt.figure(figsize=[8,6])\n",
    "plt.plot(history.history['acc'],'r',linewidth=1.0)\n",
    "plt.plot(history.history['val_acc'],'b',linewidth=1.0)\n",
    "plt.legend(['Training Accuracy', 'Validation Accuracy'],fontsize=18)\n",
    "plt.xlabel('Epochs ',fontsize=16)\n",
    "plt.ylabel('Accuracy',fontsize=16)\n",
    "plt.title('Accuracy Curves',fontsize=16)"
   ]
  },
  {
   "cell_type": "markdown",
   "metadata": {},
   "source": [
    "# <font color='blus'>4. Best MLP model is saved into `oDataBreed`</font>"
   ]
  },
  {
   "cell_type": "code",
   "execution_count": 24,
   "metadata": {},
   "outputs": [
    {
     "name": "stdout",
     "output_type": "stream",
     "text": [
      "p5_util.object_load : fileName= ./data/oP7_DataBreed.dump\n",
      "\n",
      " \n",
      "Path to data directory ........ : ./data/Images\n",
      "Number of original breeds ..... : 3\n",
      "Total number of images ........ : 461\n",
      "Standard images size .......... : (224, 224)\n",
      "SIFT Image descriptors count .. : 0\n",
      "Number of images in sample .... : 0\n",
      "Sampling : breeds count ....... : 3\n",
      "Sampling : images per breed ... : 0\n",
      "X train size .................. : (368, 3)\n",
      "y train size .................. : (368, 3)\n",
      "X test size ................... : (93, 3)\n",
      "y test size ................... : (93, 3)\n",
      "Clusters models  .............. : dict_keys(['GMM'])\n",
      "Current cluster model  ........ : GMM\n",
      "Bag of features dataframe ..... : (461, 3)\n",
      "Encoded labels from dataset ... : (461, 3)\n",
      "Number of breeds in sample .... : 3\n",
      "Image splitted ................ : False\n",
      "Key point descriptors ......... : (30949, 128)\n",
      "Classifier name ............... : Linear SVC\n",
      "Supported classifiers ......... : ['Bernoulli NB', 'Random Forest', 'L.R. + multinomial', 'Gaussian NB', 'Linear SVC', 'KR Classifier']\n",
      "Number of restricted images ... : 0\n",
      "Splitted parts ................ : (1, 1)\n",
      "Dataframe images descriptors .. : 461 / Index(['desc', 'breed', 'kp', 'size', 'split_image', 'image_id'], dtype='object')\n",
      "KP filtering .................. : False\n",
      "Squarred images ............... : False\n",
      "Nb of breeds into sampling .... : 0\n",
      "Random image sampling ......... : True\n",
      "Assigned filters identifiers .. : [3, 2, 11, 6]\n",
      "\n",
      "Assigned filters list ......... : \n",
      "Identifier : 3   Filter= pil_2gray\n",
      "Identifier : 2   Filter= p7_filter_median\n",
      "Identifier : 11   Filter= pil_edge_only\n",
      "Identifier : 6   Filter= pil_gaussian\n",
      "\n",
      "Assignable filters list ....... : \n",
      "Identifier : 0   Filter= pil_square\n",
      "Identifier : 1   Filter= pil_edge\n",
      "Identifier : 2   Filter= p7_filter_median\n",
      "Identifier : 3   Filter= pil_2gray\n",
      "Identifier : 4   Filter= pil_autocontrast\n",
      "Identifier : 5   Filter= pil_equalize\n",
      "Identifier : 6   Filter= pil_gaussian\n",
      "Identifier : 7   Filter= pil_gradient\n",
      "Identifier : 8   Filter= pil_laplacien_kernel_4\n",
      "Identifier : 9   Filter= pil_laplacien_kernel_8\n",
      "Identifier : 10   Filter= pil_low_pass\n",
      "Identifier : 11   Filter= pil_edge_only\n",
      "\n",
      "Images processed count ........ : 461\n",
      "List of selected clusters ..... : []\n",
      "PCA components ................ : None\n",
      "\n",
      "Neural Network supported models ... : \n",
      "mlp\n",
      "cnn\n",
      "\n",
      "Activated Neural Network model .. : \n",
      "\n"
     ]
    }
   ],
   "source": [
    "import p5_util\n",
    "import P7_DataBreed\n",
    "\n",
    "filename = './data/oP7_DataBreed.dump'\n",
    "oP7_DataBreed = p5_util.object_load(filename)\n",
    "oP7_DataBreed.show()"
   ]
  },
  {
   "cell_type": "code",
   "execution_count": 25,
   "metadata": {},
   "outputs": [],
   "source": [
    "import p5_util\n",
    "if False :\n",
    "    filename= './data/mlp.dump'\n",
    "    p5_util.object_dump(mlp_model_drop, filename)"
   ]
  },
  {
   "cell_type": "code",
   "execution_count": 33,
   "metadata": {},
   "outputs": [
    {
     "name": "stdout",
     "output_type": "stream",
     "text": [
      "\n",
      " \n",
      "Path to data directory ........ : ./data/Images\n",
      "Number of original breeds ..... : 3\n",
      "Total number of images ........ : 461\n",
      "Standard images size .......... : (224, 224)\n",
      "SIFT Image descriptors count .. : 0\n",
      "Number of images in sample .... : 0\n",
      "Sampling : breeds count ....... : 3\n",
      "Sampling : images per breed ... : 0\n",
      "X train size .................. : (368, 3)\n",
      "y train size .................. : (368, 3)\n",
      "X test size ................... : (93, 3)\n",
      "y test size ................... : (93, 3)\n",
      "Clusters models  .............. : dict_keys(['GMM'])\n",
      "Current cluster model  ........ : GMM\n",
      "Bag of features dataframe ..... : (461, 3)\n",
      "Encoded labels from dataset ... : (461, 3)\n",
      "Number of breeds in sample .... : 3\n",
      "Image splitted ................ : False\n",
      "Key point descriptors ......... : (30949, 128)\n",
      "Classifier name ............... : Linear SVC\n",
      "Supported classifiers ......... : ['Bernoulli NB', 'Random Forest', 'L.R. + multinomial', 'Gaussian NB', 'Linear SVC', 'KR Classifier']\n",
      "Number of restricted images ... : 0\n",
      "Splitted parts ................ : (1, 1)\n",
      "Dataframe images descriptors .. : 461 / Index(['desc', 'breed', 'kp', 'size', 'split_image', 'image_id'], dtype='object')\n",
      "KP filtering .................. : False\n",
      "Squarred images ............... : False\n",
      "Nb of breeds into sampling .... : 0\n",
      "Random image sampling ......... : True\n",
      "Assigned filters identifiers .. : [3, 2, 11, 6]\n",
      "\n",
      "Assigned filters list ......... : \n",
      "Identifier : 3   Filter= pil_2gray\n",
      "Identifier : 2   Filter= p7_filter_median\n",
      "Identifier : 11   Filter= pil_edge_only\n",
      "Identifier : 6   Filter= pil_gaussian\n",
      "\n",
      "Assignable filters list ....... : \n",
      "Identifier : 0   Filter= pil_square\n",
      "Identifier : 1   Filter= pil_edge\n",
      "Identifier : 2   Filter= p7_filter_median\n",
      "Identifier : 3   Filter= pil_2gray\n",
      "Identifier : 4   Filter= pil_autocontrast\n",
      "Identifier : 5   Filter= pil_equalize\n",
      "Identifier : 6   Filter= pil_gaussian\n",
      "Identifier : 7   Filter= pil_gradient\n",
      "Identifier : 8   Filter= pil_laplacien_kernel_4\n",
      "Identifier : 9   Filter= pil_laplacien_kernel_8\n",
      "Identifier : 10   Filter= pil_low_pass\n",
      "Identifier : 11   Filter= pil_edge_only\n",
      "\n",
      "Images processed count ........ : 461\n",
      "List of selected clusters ..... : []\n",
      "PCA components ................ : None\n",
      "\n",
      "Neural Network supported models ... : \n",
      "mlp\n",
      "cnn\n",
      "\n",
      "Activated Neural Network model .. : mlp\n",
      "\n"
     ]
    }
   ],
   "source": [
    "import P7_DataBreed\n",
    "oP7_DataBreed.mlp_model = mlp_model_drop\n",
    "oP7_DataBreed.nn_model_name = 'mlp'\n",
    "oP7_DataBreed.show()"
   ]
  },
  {
   "cell_type": "markdown",
   "metadata": {},
   "source": [
    "# <font color='blus'>5. Test MLP predictions</font>"
   ]
  },
  {
   "cell_type": "code",
   "execution_count": 149,
   "metadata": {},
   "outputs": [
    {
     "name": "stdout",
     "output_type": "stream",
     "text": [
      "\n",
      "*** WARN : new attributes from copied_object are not             copied on target!\n",
      "\n",
      "Image count = 1\n",
      "INFO : number of Image errors = 0\n",
      "INFO : number of Label errors = 0\n",
      "150528\n",
      "Top 3 :\n",
      "['dingo', 'Mexican_hairless', 'Doberman']\n"
     ]
    }
   ],
   "source": [
    "import P7_DataBreed\n",
    "\n",
    "breedname = 'n02115641-dingo'\n",
    "\n",
    "breedname_result, list_predicted, pil_image_requested = oP7_DataBreed.predict(breedname, 'n02115641_8871.jpg'\\\n",
    "                                                                              ,classifier_name = 'mlp')\n",
    "print(list_predicted)"
   ]
  },
  {
   "cell_type": "code",
   "execution_count": 26,
   "metadata": {},
   "outputs": [
    {
     "name": "stdout",
     "output_type": "stream",
     "text": [
      "*** ERROR : dumping into ./data/oP7_DataBreed.dump Error= Can't pickle <class 'P7_DataBreed.P7_DataBreed'>: it's not the same object as P7_DataBreed.P7_DataBreed\n"
     ]
    }
   ],
   "source": [
    "import p5_util\n",
    "if True :\n",
    "    filename= './data/oP7_DataBreed.dump'\n",
    "    p5_util.object_dump(oP7_DataBreed, filename)"
   ]
  }
 ],
 "metadata": {
  "kernelspec": {
   "display_name": "Python 3",
   "language": "python",
   "name": "python3"
  },
  "language_info": {
   "codemirror_mode": {
    "name": "ipython",
    "version": 3
   },
   "file_extension": ".py",
   "mimetype": "text/x-python",
   "name": "python",
   "nbconvert_exporter": "python",
   "pygments_lexer": "ipython3",
   "version": "3.6.8"
  }
 },
 "nbformat": 4,
 "nbformat_minor": 2
}
