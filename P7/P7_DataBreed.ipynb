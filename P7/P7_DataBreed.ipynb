{
 "cells": [
  {
   "cell_type": "markdown",
   "metadata": {},
   "source": [
    "<!--NOTEBOOK_INFORMATION-->\n",
    "<img align=\"left\" style=\"padding-right:10px;\" src=\"./figures/LogoOpenclassrooms.png\">\n",
    "<font size=\"4\">\n",
    "    \n",
    "Cette étude a été réalisée dans le cadre du 6ème projet de ma formation Datascientist dispensée en MOOC par \n",
    "\n",
    "<font color='blus'>Openclassrooms / écoles Centrale-Supélec</font>.\n",
    "\n",
    "\n",
    "\n",
    "\n",
    "<p></p><p></p><p></p>\n",
    "\n",
    "\n",
    "\n",
    "\n",
    "\n",
    "**Le problème posé :**\n",
    "\n",
    "# <font color='blus'>Indexation d'images</font>\n",
    "\n",
    "Vous êtes bénévole pour l'association de protection des animaux de votre quartier. C'est d'ailleurs ainsi que vous avez trouvé votre compagnon idéal, Snooky. Du coup, vous vous demandez ce que vous pouvez faire en retour pour aider l'association.\n",
    "\n",
    "Vous apprenez, en discutant avec un bénévole, que leur base de données de pensionnaires commence à s'agrandir et qu'ils n'ont pas toujours le temps de référencer les images des animaux qu'ils ont accumulées depuis plusieurs années. Ils aimeraient donc réaliser un index de l’ensemble de la base de données d’images qu’ils possèdent, pour classer les chiens par races.\n",
    "\n",
    "**<font color='blus'>Les données</font>**\n",
    "\n",
    "Les bénévoles de l'association n'ont pas eu le temps de réunir les différentes images des pensionnaires dispersées sur leurs disques durs. Pas de problème, vous développerez un algorithme en utilisant le Stanford Dogs Dataset pour entraîner votre algorithme.\n",
    "\n",
    "**<font color='blus'>Votre mission</font>**\n",
    "\n",
    "En tant que Data Scientist, l'association vous demande de réaliser un algorithme de détection de la race du chien sur une photo, afin d'accélérer leur travail d’indexation.\n",
    "\n",
    "**<font color='blus'>Contraintes</font>**\n",
    "\n",
    "Lors de ce projet, vous mettrez en œuvre deux approches.\n",
    "\n",
    "* Une approche classique : il s’agit de pre-processer des images avec des techniques spécifiques (e.g.whitening, equalisation, filtre linéaire/laplacien/gaussien, éventuellement modifier la taille des images), puis d’extraire des features (e.g. texture, corners, edges et SIFT detector). Il faut ensuite réduire les dimensions, soit par des approches classiques (e.g. PCA, k-means) soit avec une approche par histogrammes et dictionary learning (bag-of-words appliqué aux images), puis appliquer des algorithmes de classification standards.\n",
    "\n",
    "\n",
    "\n",
    "* Lors de l’analyse exploratoire, vous regarderez si les features extraites et utilisées en classification sont prometteuses en utilisant des méthodes de réduction de dimension pour visualiser le dataset en 2D. Cela vous permettra d’affiner votre intuition sur les différents traitements possibles, sans que cela ne se substitue à des mesures de performances rigoureuses.\n",
    "\n",
    "\n",
    "\n",
    "* Une approche s’appuyant sur l’état de l’art et l’utilisation de CNN (réseaux de neurones convolutionnels). Compte tenu de la taille et de la complexité du dataset, et de la puissance de calcul à votre disposition, il est très difficile d’obtenir de bonnes performances (pour ça, essayez MNIST). Aussi, est-il recommandé d’utiliser le transfer learning, c’est-à-dire utiliser un réseau déjà entraîné, et le modifier pour répondre à votre problème. Une première chose obligatoire est de ré-entraîner les dernières couches pour prédire les classes qui vous intéressent seulement. Il est également possible d’adapter la structure (supprimer certaines couches par exemple) ou de ré-entraîner le modèle avec un très faible learning rate pour ajuster les poids à votre problème (plus long) et optimiser les performances."
   ]
  },
  {
   "cell_type": "markdown",
   "metadata": {},
   "source": [
    "##### Object is dumped into a file\n",
    "\n",
    "If any change took place into file `P7_DataBreed.py` then this function first update current object `oP7_DataBreed`.<br>\n",
    "* If function flag `is_saved` is fixed to `False` then object `oP7_DataBreed` is not dumped into a file.\n",
    "* By default, flag `is_saved` is fixed to `True`."
   ]
  },
  {
   "cell_type": "code",
   "execution_count": 1,
   "metadata": {},
   "outputs": [
    {
     "name": "stderr",
     "output_type": "stream",
     "text": [
      "Using TensorFlow backend.\n",
      "/home/bangui/.local/lib/python3.6/site-packages/matplotlib/__init__.py:886: MatplotlibDeprecationWarning: \n",
      "examples.directory is deprecated; in the future, examples will be found relative to the 'datapath' directory.\n",
      "  \"found relative to the 'datapath' directory.\".format(key))\n"
     ]
    }
   ],
   "source": [
    "import P7_DataBreed\n",
    "if False :\n",
    "    oP7_DataBreed = P7_DataBreed.update_object_save(oP7_DataBreed, is_saved=True,is_new_attribute=True)"
   ]
  },
  {
   "cell_type": "code",
   "execution_count": 2,
   "metadata": {},
   "outputs": [],
   "source": [
    "import matplotlib.pyplot as plt\n",
    "\n",
    "%load_ext autoreload\n",
    "%autoreload 2\n",
    "%reload_ext autoreload\n",
    "plt.style.use('ggplot')\n"
   ]
  },
  {
   "cell_type": "code",
   "execution_count": 3,
   "metadata": {},
   "outputs": [
    {
     "name": "stdout",
     "output_type": "stream",
     "text": [
      "\n",
      " \n",
      "Path to data directory ........ : ./data/EasyImages\n",
      "Number of original breeds ..... : 2\n",
      "Total number of images ........ : 121\n",
      "Standard images size .......... : (224, 224)\n",
      "SIFT Image descriptors count .. : 0\n",
      "Number of images in sample .... : 0\n",
      "Sampling : breeds count ....... : 2\n",
      "Sampling : images per breed ... : 0\n",
      "X train size .................. : 0\n",
      "y train size .................. : 0\n",
      "X test size ................... : 0\n",
      "y test size ................... : 0\n",
      "Clusters models  .............. : dict_keys([])\n",
      "Current cluster model  ........ : \n",
      "Bag of features dataframe ..... : (0, 0)\n",
      "Encoded labels from dataset ... : ()\n",
      "Number of breeds in sample .... : 0\n",
      "Image splitted ................ : False\n",
      "Key point descriptors ......... : (128,)\n",
      "Classifier name ............... : \n",
      "Supported classifiers ......... : []\n",
      "Number of restricted images ... : 0\n",
      "Splitted parts ................ : (5, 5)\n",
      "Dataframe images descriptors .. : 0 / Index([], dtype='object')\n",
      "KP filtering .................. : True\n",
      "Squarred images ............... : False\n",
      "Nb of breeds into sampling .... : 0\n",
      "Random image sampling ......... : True\n",
      "Assigned filters identifiers .. : []\n",
      "Assignable filters list ....... : \n",
      "Identifier : 0   Filter= pil_square\n",
      "Identifier : 1   Filter= pil_edge\n",
      "Identifier : 2   Filter= p7_filter_median\n",
      "Identifier : 3   Filter= pil_2gray\n",
      "Identifier : 4   Filter= pil_autocontrast\n",
      "Identifier : 5   Filter= pil_equalize\n",
      "Identifier : 6   Filter= pil_gaussian\n",
      "Identifier : 7   Filter= pil_gradient\n",
      "Identifier : 8   Filter= pil_laplacien_kernel_4\n",
      "Identifier : 9   Filter= pil_laplacien_kernel_8\n",
      "Identifier : 10   Filter= pil_low_pass\n",
      "Images processed count ........ : 0\n",
      "List of selected clusters ..... : []\n",
      "\n"
     ]
    }
   ],
   "source": [
    "import p5_util\n",
    "import P7_DataBreed\n",
    "filename_databreed = './data/oP7_DataBreed_3_breeds_splitted_True_KpFiltered_True.dump'\n",
    "if True :\n",
    "    oP7_DataBreed=P7_DataBreed.P7_DataBreed('./data/EasyImages')\n",
    "    oP7_DataBreed.std_size=(224,224)\n",
    "    oP7_DataBreed.is_squarred=False\n",
    "    oP7_DataBreed.is_kp_filtered=True\n",
    "    oP7_DataBreed.split_ratio=(5,5)\n",
    "    list_dirbreed_3_breeds =         ['n02107142-Doberman','n02115641-dingo','n02113978-Mexican_hairless']\n",
    "    list_dirbreed_2_breeds = ['n02094433-Yorkshire_terrier','n02113799-standard_poodle']\n",
    "    list_dirbreed_2_breeds = ['n02113624-toy_poodle','n02113799-standard_poodle']\n",
    "    list_dirbreed_2_breeds = ['n02107142-Doberman','n02113799-standard_poodle']\n",
    "    \n",
    "    \n",
    "    oP7_DataBreed.load(list_dirbreed=list_dirbreed_2_breeds)\n",
    "    #breed_count=3\n",
    "    #image_per_breed_count=-1\n",
    "    #oP7_DataBreed.sampling(breed_count, image_per_breed_count)\n",
    "else :\n",
    "    #---------------------------------------------------------------------\n",
    "    # Reload `oP7_DataBreed` already dumped\n",
    "    #---------------------------------------------------------------------\n",
    "    oP7_DataBreed = p5_util.object_load(filename_databreed)\n",
    "    oP7_DataBreed.is_squarred=False\n",
    "    oP7_DataBreed.std_size=(300,300)\n",
    "    breed_count = len(oP7_DataBreed.list_breed_sample)\n",
    "    image_per_breed_count = oP7_DataBreed.sampling_image_per_breed_count\n",
    "    oP7_DataBreed.is_kp_filtered=True\n",
    "\n",
    "oP7_DataBreed.show()\n",
    "oP7_DataBreed.show_breed_name()"
   ]
  },
  {
   "cell_type": "markdown",
   "metadata": {},
   "source": [
    "#### Images filters assignement"
   ]
  },
  {
   "cell_type": "code",
   "execution_count": 4,
   "metadata": {},
   "outputs": [
    {
     "name": "stdout",
     "output_type": "stream",
     "text": [
      "\n",
      " \n",
      "Path to data directory ........ : ./data/EasyImages\n",
      "Number of original breeds ..... : 2\n",
      "Total number of images ........ : 121\n",
      "Standard images size .......... : (224, 224)\n",
      "SIFT Image descriptors count .. : 0\n",
      "Number of images in sample .... : 0\n",
      "Sampling : breeds count ....... : 2\n",
      "Sampling : images per breed ... : 0\n",
      "X train size .................. : 0\n",
      "y train size .................. : 0\n",
      "X test size ................... : 0\n",
      "y test size ................... : 0\n",
      "Clusters models  .............. : dict_keys([])\n",
      "Current cluster model  ........ : \n",
      "Bag of features dataframe ..... : (0, 0)\n",
      "Encoded labels from dataset ... : ()\n",
      "Number of breeds in sample .... : 0\n",
      "Image splitted ................ : False\n",
      "Key point descriptors ......... : (128,)\n",
      "Classifier name ............... : \n",
      "Supported classifiers ......... : []\n",
      "Number of restricted images ... : 0\n",
      "Splitted parts ................ : (5, 5)\n",
      "Dataframe images descriptors .. : 0 / Index([], dtype='object')\n",
      "KP filtering .................. : True\n",
      "Squarred images ............... : False\n",
      "Nb of breeds into sampling .... : 0\n",
      "Random image sampling ......... : True\n",
      "Assigned filters identifiers .. : [3, 2, 1]\n",
      "Assignable filters list ....... : \n",
      "Identifier : 3   Filter= pil_2gray\n",
      "Identifier : 2   Filter= p7_filter_median\n",
      "Identifier : 1   Filter= pil_edge\n",
      "Images processed count ........ : 0\n",
      "List of selected clusters ..... : []\n",
      "\n"
     ]
    }
   ],
   "source": [
    "# Assigned list is reset\n",
    "oP7_DataBreed.list_processor_update(None)\n",
    "list_processor_id=[3,2,1]\n",
    "\n",
    "oP7_DataBreed.list_processor_update(list_processor_id)\n",
    "oP7_DataBreed.show()"
   ]
  },
  {
   "cell_type": "markdown",
   "metadata": {},
   "source": [
    "##### Data pre-processing and building BOF \n",
    "\n",
    "SIFT descriptors are used in order to build Bag Of Features"
   ]
  },
  {
   "cell_type": "code",
   "execution_count": 5,
   "metadata": {},
   "outputs": [],
   "source": [
    "is_splitted=True"
   ]
  },
  {
   "cell_type": "code",
   "execution_count": 6,
   "metadata": {},
   "outputs": [
    {
     "name": "stdout",
     "output_type": "stream",
     "text": [
      "*** build_sift_desc() ...\n",
      "Building...\n",
      "\n",
      "INFO : Error = 0 Total images processed= 3025\n",
      "*** Before filtering       : (3025, 6)\n",
      "*** After 1st filter level : (2615, 6)\n"
     ]
    },
    {
     "name": "stderr",
     "output_type": "stream",
     "text": [
      "/home/bangui/.local/lib/python3.6/site-packages/pandas/core/ops.py:1122: FutureWarning: elementwise comparison failed; returning scalar instead, but in the future will perform elementwise comparison\n",
      "  result = libops.scalar_compare(x, y, op)\n",
      "/home/bangui/.local/lib/python3.6/site-packages/pandas/core/frame.py:3697: SettingWithCopyWarning: \n",
      "A value is trying to be set on a copy of a slice from a DataFrame\n",
      "\n",
      "See the caveats in the documentation: http://pandas.pydata.org/pandas-docs/stable/indexing.html#indexing-view-versus-copy\n",
      "  errors=errors)\n"
     ]
    },
    {
     "name": "stdout",
     "output_type": "stream",
     "text": [
      "*** After KP filter        : (1404, 8)\n",
      "Processed rows= 1000/3025\n",
      "\n",
      " \n",
      "Path to data directory ........ : ./data/EasyImages\n",
      "Number of original breeds ..... : 2\n",
      "Total number of images ........ : 121\n",
      "Standard images size .......... : (224, 224)\n",
      "SIFT Image descriptors count .. : 3025\n",
      "Number of images in sample .... : 0\n",
      "Sampling : breeds count ....... : 2\n",
      "Sampling : images per breed ... : 0\n",
      "X train size .................. : 0\n",
      "y train size .................. : 0\n",
      "X test size ................... : 0\n",
      "y test size ................... : 0\n",
      "Clusters models  .............. : dict_keys([])\n",
      "Current cluster model  ........ : \n",
      "Bag of features dataframe ..... : (0, 0)\n",
      "Encoded labels from dataset ... : ()\n",
      "Number of breeds in sample .... : 2\n",
      "Image splitted ................ : True\n",
      "Key point descriptors ......... : (17282, 128)\n",
      "Classifier name ............... : \n",
      "Supported classifiers ......... : []\n",
      "Number of restricted images ... : 0\n",
      "Splitted parts ................ : (5, 5)\n",
      "Dataframe images descriptors .. : 1404 / Index(['raw', 'col', 'desc', 'breed', 'kp', 'size', 'split_image', 'image_id'], dtype='object')\n",
      "KP filtering .................. : True\n",
      "Squarred images ............... : False\n",
      "Nb of breeds into sampling .... : 0\n",
      "Random image sampling ......... : True\n",
      "Assigned filters identifiers .. : [3, 2, 1]\n",
      "Assignable filters list ....... : \n",
      "Identifier : 3   Filter= pil_2gray\n",
      "Identifier : 2   Filter= p7_filter_median\n",
      "Identifier : 1   Filter= pil_edge\n",
      "Images processed count ........ : 3025\n",
      "List of selected clusters ..... : []\n",
      "\n"
     ]
    }
   ],
   "source": [
    "#breed_count=3\n",
    "#image_per_breed_count=200\n",
    "\n",
    "#oP7_DataBreed.sampling(breed_count, image_per_breed_count)\n",
    "\n",
    "oP7_DataBreed.build_sift_desc(is_splitted=is_splitted)\n",
    "oP7_DataBreed.kp_filter()\n",
    "oP7_DataBreed.build_arr_desc()\n",
    "oP7_DataBreed.show()"
   ]
  },
  {
   "cell_type": "markdown",
   "metadata": {},
   "source": [
    "## <font color='blus'>2.a GMM clustering</font>\n",
    "\n",
    "The number of clusters is fixed with the number of breeds into sample."
   ]
  },
  {
   "cell_type": "code",
   "execution_count": 7,
   "metadata": {},
   "outputs": [],
   "source": [
    "is_gmm_clustering = True"
   ]
  },
  {
   "cell_type": "code",
   "execution_count": 8,
   "metadata": {},
   "outputs": [
    {
     "name": "stdout",
     "output_type": "stream",
     "text": [
      "Clustering from clusters range from : 1 --> 2\n",
      "GMM Hyper-parameter type= covariance_type\n",
      "Hyper parameter value : diag\n",
      "GMM Hyper-parameter type= max_iter\n"
     ]
    }
   ],
   "source": [
    "import p5_util\n",
    "import P7_DataBreed\n",
    "if is_gmm_clustering is True :\n",
    "    clustering='GMM'\n",
    "\n",
    "    df_desc = oP7_DataBreed.df_desc\n",
    "    cluster_start = 1\n",
    "    cluster_end = oP7_DataBreed.sampling_breed_count\n",
    "\n",
    "    clustering=oP7_DataBreed.cluster_model_name\n",
    "    str_is_splitted = str(oP7_DataBreed.is_splitted)\n",
    "    filename='./data/dict_list_'+clustering+'_'+str(cluster_end)+'_splitted_'+str_is_splitted+'_clusters.dump'\n",
    "\n",
    "    dict_hyper_parameter={'covariance_type':['diag','spherical','full','tied'], 'max_iter':200, 'verbose_interval':20}\n",
    "    dict_hyper_parameter={'covariance_type':['diag'], 'max_iter':[300]}\n",
    "    t_range_cluster = (cluster_start, cluster_end)\n",
    "    dict_list_gmm_model = p5_util.gmm_hyper_parameter_cv(df_desc, t_range_cluster ,dict_hyper_parameter)\n",
    "\n",
    "    p5_util.object_dump(dict_list_gmm_model,filename)"
   ]
  },
  {
   "cell_type": "markdown",
   "metadata": {},
   "source": [
    "##### AIC and BIC are computed for clustering evaluation"
   ]
  },
  {
   "cell_type": "code",
   "execution_count": 9,
   "metadata": {},
   "outputs": [],
   "source": [
    "import p5_util\n",
    "import p5_util_plot\n",
    "if False :\n",
    "    dict_list_gmm_model = p5_util.object_load(filename)\n",
    "\n",
    "    p_figsize = (14,7)\n",
    "    t_range_cluster = (cluster_start, cluster_end+1)\n",
    "    breed_count = oP7_DataBreed._sampling_breed_count\n",
    "    img_per_breed=oP7_DataBreed._sampling_image_per_breed_count\n",
    "\n",
    "    features = str(oP7_DataBreed.df_desc.shape[1])\n",
    "    p_title = clustering+\" \"+features+\" features \"+str(breed_count)+\" breeds \"+str(image_per_breed_count)+\" images/breed\"\n",
    "\n",
    "    p5_util_plot.gmm_models_plot_AIC_BIC(df_desc, dict_list_gmm_model, t_range_cluster, p_figsize, p_title)"
   ]
  },
  {
   "cell_type": "markdown",
   "metadata": {},
   "source": [
    "##### Silhouette score is computed and plot"
   ]
  },
  {
   "cell_type": "code",
   "execution_count": 10,
   "metadata": {},
   "outputs": [],
   "source": [
    "import p5_util\n",
    "if False :\n",
    "    df_desc = oP7_DataBreed.df_desc\n",
    "    dict_dict_silhouette_score = p5_util.gmm_silhouette_compute(df_desc, dict_list_gmm_model)\n",
    "\n",
    "    clustering=oP7_DataBreed.cluster_model_name\n",
    "    str_is_splitted = str(oP7_DataBreed.is_splitted)\n",
    "\n",
    "    filename = './data/dict_dict_silhouette_score_'+str(cluster_end)+'_clusters_splitted_'+str_is_splitted+'_breeds.dump'\n",
    "    p5_util.object_dump(dict_dict_silhouette_score,filename)\n"
   ]
  },
  {
   "cell_type": "code",
   "execution_count": 11,
   "metadata": {},
   "outputs": [],
   "source": [
    "import p5_util_plot\n",
    "if False :\n",
    "    filename = './data/dict_dict_silhouette_score_'+str(cluster_end)+'_clusters_splitted_'+str_is_splitted+'_breeds.dump'\n",
    "    dict_dict_silhouette_score = p5_util.object_load(filename)\n",
    "\n",
    "\n",
    "    p_figsize=(21,14)\n",
    "    areas_raws =1\n",
    "    areas_colums =3\n",
    "    p_title = \"GMM : silhouette\"\n",
    "    p5_util_plot.gmm_models_plot_silhouette(df_desc, dict_dict_silhouette_score\\\n",
    "    , p_figsize, p_title, areas_raws, areas_colums)"
   ]
  },
  {
   "cell_type": "markdown",
   "metadata": {},
   "source": [
    "##### Histogram of number of points per cluster is displayed\n",
    "\n",
    "If fixed co-variance fails, then 1st covariance is extracted from `dict_hyper_parameter`.\n",
    "<br>\n",
    "It is then supposed that only 1 covariance type has been used for hyper-parameters."
   ]
  },
  {
   "cell_type": "code",
   "execution_count": 12,
   "metadata": {
    "scrolled": true
   },
   "outputs": [
    {
     "name": "stdout",
     "output_type": "stream",
     "text": [
      "(17282, 128)\n",
      "(17282, 129)\n",
      "Clusters = [0 1]\n",
      "Population cumulée par cluster = 17282\n",
      "         Count\n",
      "cluster       \n",
      "0        14034\n",
      "1         3248\n"
     ]
    },
    {
     "data": {
      "image/png": "[encoded data removed]",
      "text/plain": [
       "<Figure size 504x504 with 1 Axes>"
      ]
     },
     "metadata": {},
     "output_type": "display_data"
    }
   ],
   "source": [
    "import p5_util\n",
    "import p5_util_plot\n",
    "if is_gmm_clustering is True :\n",
    "\n",
    "    n_cluster = cluster_end\n",
    "    #-----------------------------------------------------------------------------------\n",
    "    # Best GMM model is updated\n",
    "    #-----------------------------------------------------------------------------------\n",
    "    p_covariance_type = 'diag'\n",
    "    try :\n",
    "        list_gmm_model = dict_list_gmm_model[p_covariance_type]\n",
    "    except KeyError:\n",
    "        p_covariance_type = dict_hyper_parameter['covariance_type'][0]\n",
    "        list_gmm_model = dict_list_gmm_model[p_covariance_type]\n",
    "\n",
    "    for gmm_model in list_gmm_model:\n",
    "        if n_cluster == gmm_model.n_components:\n",
    "            break\n",
    "    gmm_model\n",
    "\n",
    "    #-----------------------------------------------------------------------------------\n",
    "    # Dictionary of clusters model is updated\n",
    "    #-----------------------------------------------------------------------------------\n",
    "    oP7_DataBreed.dict_cluster_model = {'GMM':gmm_model}\n",
    "\n",
    "    if 'cluster' in df_desc.columns:\n",
    "        del(df_desc['cluster'])\n",
    "\n",
    "    #-----------------------------------------------------------------------------------\n",
    "    # Data values (descriptors) are assigned to clusters\n",
    "    #-----------------------------------------------------------------------------------\n",
    "    pred_gmm = gmm_model.predict(df_desc.values)\n",
    "    print(df_desc.shape)\n",
    "\n",
    "    df_desc = p5_util.df_add_cluster(df_desc, pred_gmm)\n",
    "    print(df_desc.shape)\n",
    "\n",
    "    #-----------------------------------------------------------------------------------\n",
    "    # Histogram for assignement is displayed\n",
    "    #-----------------------------------------------------------------------------------\n",
    "    p5_util_plot.plot_cluster_frequency(df_desc)"
   ]
  },
  {
   "cell_type": "code",
   "execution_count": 13,
   "metadata": {},
   "outputs": [
    {
     "name": "stdout",
     "output_type": "stream",
     "text": [
      "\n",
      " \n",
      "Path to data directory ........ : ./data/EasyImages\n",
      "Number of original breeds ..... : 2\n",
      "Total number of images ........ : 121\n",
      "Standard images size .......... : (224, 224)\n",
      "SIFT Image descriptors count .. : 3025\n",
      "Number of images in sample .... : 0\n",
      "Sampling : breeds count ....... : 2\n",
      "Sampling : images per breed ... : 0\n",
      "X train size .................. : 0\n",
      "y train size .................. : 0\n",
      "X test size ................... : 0\n",
      "y test size ................... : 0\n",
      "Clusters models  .............. : dict_keys(['GMM'])\n",
      "Current cluster model  ........ : GMM\n",
      "Bag of features dataframe ..... : (0, 0)\n",
      "Encoded labels from dataset ... : ()\n",
      "Number of breeds in sample .... : 2\n",
      "Image splitted ................ : True\n",
      "Key point descriptors ......... : (17282, 128)\n",
      "Classifier name ............... : \n",
      "Supported classifiers ......... : []\n",
      "Number of restricted images ... : 0\n",
      "Splitted parts ................ : (5, 5)\n",
      "Dataframe images descriptors .. : 1404 / Index(['raw', 'col', 'desc', 'breed', 'kp', 'size', 'split_image', 'image_id'], dtype='object')\n",
      "KP filtering .................. : True\n",
      "Squarred images ............... : False\n",
      "Nb of breeds into sampling .... : 0\n",
      "Random image sampling ......... : True\n",
      "Assigned filters identifiers .. : [3, 2, 1]\n",
      "Assignable filters list ....... : \n",
      "Identifier : 3   Filter= pil_2gray\n",
      "Identifier : 2   Filter= p7_filter_median\n",
      "Identifier : 1   Filter= pil_edge\n",
      "Images processed count ........ : 3025\n",
      "List of selected clusters ..... : [4, 0, 5]\n",
      "\n"
     ]
    }
   ],
   "source": [
    "oP7_DataBreed.list_selected_cluster = [4,0,5]\n",
    "oP7_DataBreed.cluster_model_name='GMM'\n",
    "oP7_DataBreed.show()"
   ]
  },
  {
   "cell_type": "markdown",
   "metadata": {},
   "source": [
    "## <font color='blus'>2.b Kmeans clustering</font>\n",
    "\n",
    "The number of clusters is fixed with the number of breeds into sample."
   ]
  },
  {
   "cell_type": "code",
   "execution_count": 14,
   "metadata": {},
   "outputs": [],
   "source": [
    "is_kmeans_clustering = False"
   ]
  },
  {
   "cell_type": "code",
   "execution_count": 15,
   "metadata": {},
   "outputs": [],
   "source": [
    "import p5_util\n",
    "import P7_DataBreed\n",
    "#oP7_DataBreed.cluster_model_name = \n",
    "if is_kmeans_clustering is True :\n",
    "    clustering='Kmeans'\n",
    "\n",
    "    df_desc = oP7_DataBreed.df_desc\n",
    "\n",
    "    cluster_start = 1\n",
    "    cluster_end = oP7_DataBreed.sampling_breed_count+1\n",
    "    cluster_start = cluster_end-1\n",
    "\n",
    "    #clustering=oP7_DataBreed.cluster_model_name\n",
    "    str_is_splitted = str(oP7_DataBreed.is_splitted)\n",
    "    filename='./data/dict_list_'+clustering+'_'+str(cluster_end)+'_splitted_'+str_is_splitted+'_clusters.dump'\n",
    "\n",
    "    dict_kmeans = p5_util.kmeans_scan_inter_inertia(df_desc, cluster_start, cluster_end)\n",
    "\n",
    "    oP7_DataBreed.dict_cluster_model = {clustering:dict_kmeans[oP7_DataBreed.sampling_breed_count]}\n",
    "    oP7_DataBreed.show()"
   ]
  },
  {
   "cell_type": "code",
   "execution_count": 16,
   "metadata": {},
   "outputs": [],
   "source": [
    "if is_kmeans_clustering is True :\n",
    "\n",
    "    oP7_DataBreed.cluster_model_name='Kmeans'\n",
    "    oP7_DataBreed.show()\n",
    "\n",
    "    cluster_model = oP7_DataBreed.cluster_model\n",
    "    n_cluster == cluster_model.n_clusters\n",
    "    n_cluster\n",
    "\n",
    "\n",
    "    if 'cluster' in df_desc.columns:\n",
    "        del(df_desc['cluster'])\n",
    "\n",
    "    #-----------------------------------------------------------------------------------\n",
    "    # Data values (descriptors) are assigned to clusters\n",
    "    #-----------------------------------------------------------------------------------\n",
    "    pred_cluster = cluster_model.predict(df_desc.values)\n",
    "    print(df_desc.shape)\n",
    "\n",
    "    df_desc = p5_util.df_add_cluster(df_desc, pred_cluster)\n",
    "    print(df_desc.shape)\n",
    "\n",
    "    #-----------------------------------------------------------------------------------\n",
    "    # Histogram for assignement is displayed\n",
    "    #-----------------------------------------------------------------------------------\n",
    "    p5_util_plot.plot_cluster_frequency(df_desc)"
   ]
  },
  {
   "cell_type": "markdown",
   "metadata": {},
   "source": [
    "# <font color='blus'>3. Supervized model </font>\n",
    "\n",
    "## <font color='blus'>3.1. Building model </font>"
   ]
  },
  {
   "cell_type": "code",
   "execution_count": 17,
   "metadata": {},
   "outputs": [
    {
     "name": "stdout",
     "output_type": "stream",
     "text": [
      "\n",
      " \n",
      "Path to data directory ........ : ./data/EasyImages\n",
      "Number of original breeds ..... : 2\n",
      "Total number of images ........ : 121\n",
      "Standard images size .......... : (224, 224)\n",
      "SIFT Image descriptors count .. : 3025\n",
      "Number of images in sample .... : 0\n",
      "Sampling : breeds count ....... : 2\n",
      "Sampling : images per breed ... : 0\n",
      "X train size .................. : 0\n",
      "y train size .................. : 0\n",
      "X test size ................... : 0\n",
      "y test size ................... : 0\n",
      "Clusters models  .............. : dict_keys(['GMM'])\n",
      "Current cluster model  ........ : GMM\n",
      "Bag of features dataframe ..... : (0, 0)\n",
      "Encoded labels from dataset ... : ()\n",
      "Number of breeds in sample .... : 2\n",
      "Image splitted ................ : True\n",
      "Key point descriptors ......... : (17282, 128)\n",
      "Classifier name ............... : \n",
      "Supported classifiers ......... : []\n",
      "Number of restricted images ... : 0\n",
      "Splitted parts ................ : (5, 5)\n",
      "Dataframe images descriptors .. : 1404 / Index(['raw', 'col', 'desc', 'breed', 'kp', 'size', 'split_image', 'image_id'], dtype='object')\n",
      "KP filtering .................. : True\n",
      "Squarred images ............... : False\n",
      "Nb of breeds into sampling .... : 0\n",
      "Random image sampling ......... : True\n",
      "Assigned filters identifiers .. : [3, 2, 1]\n",
      "Assignable filters list ....... : \n",
      "Identifier : 3   Filter= pil_2gray\n",
      "Identifier : 2   Filter= p7_filter_median\n",
      "Identifier : 1   Filter= pil_edge\n",
      "Images processed count ........ : 3025\n",
      "List of selected clusters ..... : [4, 0, 5]\n",
      "\n"
     ]
    }
   ],
   "source": [
    "if is_gmm_clustering is True :\n",
    "    oP7_DataBreed.cluster_model_name='GMM'\n",
    "if is_kmeans_clustering is True :\n",
    "    oP7_DataBreed.cluster_model_name='Kmeans'\n",
    "oP7_DataBreed.show()"
   ]
  },
  {
   "cell_type": "code",
   "execution_count": 18,
   "metadata": {},
   "outputs": [
    {
     "name": "stdout",
     "output_type": "stream",
     "text": [
      "Doberman   ..... : n02107142-Doberman            \n",
      "standard_poodle ..... : n02113799-standard_poodle     \n"
     ]
    }
   ],
   "source": [
    "oP7_DataBreed.show_breed_name()"
   ]
  },
  {
   "cell_type": "markdown",
   "metadata": {},
   "source": [
    "### <font color='blus'>3.1.1. Building B.O.F. </font>"
   ]
  },
  {
   "cell_type": "code",
   "execution_count": 19,
   "metadata": {},
   "outputs": [
    {
     "data": {
      "text/plain": [
       "Index(['raw', 'col', 'desc', 'breed', 'kp', 'size', 'split_image', 'image_id'], dtype='object')"
      ]
     },
     "execution_count": 19,
     "metadata": {},
     "output_type": "execute_result"
    }
   ],
   "source": [
    "oP7_DataBreed._df_pil_image_kpdesc.columns"
   ]
  },
  {
   "cell_type": "raw",
   "metadata": {},
   "source": [
    "oP7_DataBreed.get_breedlabel_from_breedname('Mexican_hairless')\n",
    "df = oP7_DataBreed.get_cluster_from_imagedesc(oP7_DataBreed._df_pil_image_kpdesc.desc[0])\n",
    "list_col = [4,0,2]\n",
    "#df[df.columns==list_col]\n",
    "df.columns.tolist()\n",
    "if False :\n",
    "    list_del_col = [col for col in df.columns.tolist() if col not in list_col ]\n",
    "    for col in list_del_col :\n",
    "        del(df[col])\n",
    "    print(list_col)\n",
    "df"
   ]
  },
  {
   "cell_type": "code",
   "execution_count": 20,
   "metadata": {},
   "outputs": [
    {
     "name": "stdout",
     "output_type": "stream",
     "text": [
      "\n",
      "***Nb of errors..............= 0\n",
      "\n",
      "***Nb of labelized images ...= 1404\n",
      "Number of referenced labels= 2\n",
      "Number of labels to be encoded= 1404\n",
      "(1404, 1)\n",
      "\n",
      " \n",
      "Path to data directory ........ : ./data/EasyImages\n",
      "Number of original breeds ..... : 2\n",
      "Total number of images ........ : 121\n",
      "Standard images size .......... : (224, 224)\n",
      "SIFT Image descriptors count .. : 3025\n",
      "Number of images in sample .... : 0\n",
      "Sampling : breeds count ....... : 2\n",
      "Sampling : images per breed ... : 0\n",
      "X train size .................. : 0\n",
      "y train size .................. : 0\n",
      "X test size ................... : 0\n",
      "y test size ................... : 0\n",
      "Clusters models  .............. : dict_keys(['GMM'])\n",
      "Current cluster model  ........ : GMM\n",
      "Bag of features dataframe ..... : (1404, 1)\n",
      "Encoded labels from dataset ... : (1404, 2)\n",
      "Number of breeds in sample .... : 2\n",
      "Image splitted ................ : True\n",
      "Key point descriptors ......... : (17282, 128)\n",
      "Classifier name ............... : \n",
      "Supported classifiers ......... : []\n",
      "Number of restricted images ... : 0\n",
      "Splitted parts ................ : (5, 5)\n",
      "Dataframe images descriptors .. : 1404 / Index(['raw', 'col', 'desc', 'breed', 'kp', 'size', 'split_image', 'image_id'], dtype='object')\n",
      "KP filtering .................. : True\n",
      "Squarred images ............... : False\n",
      "Nb of breeds into sampling .... : 0\n",
      "Random image sampling ......... : True\n",
      "Assigned filters identifiers .. : [3, 2, 1]\n",
      "Assignable filters list ....... : \n",
      "Identifier : 3   Filter= pil_2gray\n",
      "Identifier : 2   Filter= p7_filter_median\n",
      "Identifier : 1   Filter= pil_edge\n",
      "Images processed count ........ : 3025\n",
      "List of selected clusters ..... : [4, 0, 5]\n",
      "\n"
     ]
    }
   ],
   "source": [
    "import p5_util\n",
    "import P7_DataBreed\n",
    "\n",
    "oP7_DataBreed.build_datakp_bof()\n",
    "oP7_DataBreed.show()"
   ]
  },
  {
   "cell_type": "code",
   "execution_count": 21,
   "metadata": {},
   "outputs": [
    {
     "name": "stdout",
     "output_type": "stream",
     "text": [
      "*** INFO : object is saved removing cv2.KeyPoint objects!\n",
      "\n",
      " \n",
      "Path to data directory ........ : ./data/EasyImages\n",
      "Number of original breeds ..... : 2\n",
      "Total number of images ........ : 121\n",
      "Standard images size .......... : (224, 224)\n",
      "SIFT Image descriptors count .. : 0\n",
      "Number of images in sample .... : 0\n",
      "Sampling : breeds count ....... : 2\n",
      "Sampling : images per breed ... : 0\n",
      "X train size .................. : 0\n",
      "y train size .................. : 0\n",
      "X test size ................... : 0\n",
      "y test size ................... : 0\n",
      "Clusters models  .............. : dict_keys(['GMM'])\n",
      "Current cluster model  ........ : GMM\n",
      "Bag of features dataframe ..... : (1404, 1)\n",
      "Encoded labels from dataset ... : (1404, 2)\n",
      "Number of breeds in sample .... : 2\n",
      "Image splitted ................ : True\n",
      "Key point descriptors ......... : (17282, 128)\n",
      "Classifier name ............... : \n",
      "Supported classifiers ......... : []\n",
      "Number of restricted images ... : 0\n",
      "Splitted parts ................ : (5, 5)\n",
      "Dataframe images descriptors .. : 1404 / Index(['raw', 'col', 'desc', 'breed', 'kp', 'size', 'split_image', 'image_id'], dtype='object')\n",
      "KP filtering .................. : True\n",
      "Squarred images ............... : False\n",
      "Nb of breeds into sampling .... : 0\n",
      "Random image sampling ......... : True\n",
      "Assigned filters identifiers .. : [3, 2, 1]\n",
      "Assignable filters list ....... : \n",
      "Identifier : 3   Filter= pil_2gray\n",
      "Identifier : 2   Filter= p7_filter_median\n",
      "Identifier : 1   Filter= pil_edge\n",
      "Images processed count ........ : 3025\n",
      "List of selected clusters ..... : [4, 0, 5]\n",
      "\n"
     ]
    }
   ],
   "source": [
    "import P7_DataBreed\n",
    "\n",
    "oP7_DataBreed.is_kp_filtered\n",
    "oP7_DataBreed.is_splitted\n",
    "breed_count = len(oP7_DataBreed._ser_breed_number)\n",
    "filename='./data/oP7_DataBreed_'+str(breed_count)+'_breeds_splitted'\n",
    "filename +='_'+str(oP7_DataBreed.is_splitted)\n",
    "filename +='_KpFiltered_'+str(oP7_DataBreed.is_kp_filtered)+'.dump'\n",
    "\n",
    "oP7_DataBreed = P7_DataBreed.update_object_save(oP7_DataBreed,filename=filename\\\n",
    "                                                ,is_saved=True,is_new_attribute=True)\n",
    "oP7_DataBreed.show()"
   ]
  },
  {
   "cell_type": "markdown",
   "metadata": {},
   "source": [
    "## <font color='blus'>3.2. Model evaluation </font>"
   ]
  },
  {
   "cell_type": "code",
   "execution_count": 22,
   "metadata": {},
   "outputs": [],
   "source": [
    "\n",
    "def dict_cls_score_update(self, is_score_dumped, dict_cls_score , cls_name, score):\n",
    "    cluster_name = self.cluster_model_name\n",
    "    filename_score = './data/dict_cls_score_'+cluster_name+'.dump'\n",
    "\n",
    "    dict_cls_score[cls_name] = score\n",
    "    if is_score_dumped is True:\n",
    "        p5_util.object_dump(dict_cls_score,filename_score)\n",
    "    else :\n",
    "        pass\n",
    "    return dict_cls_score\n",
    "\n"
   ]
  },
  {
   "cell_type": "markdown",
   "metadata": {},
   "source": [
    "##### Dataset is splitted into Train and test dataset "
   ]
  },
  {
   "cell_type": "code",
   "execution_count": 23,
   "metadata": {},
   "outputs": [
    {
     "name": "stdout",
     "output_type": "stream",
     "text": [
      "\n",
      " \n",
      "Path to data directory ........ : ./data/EasyImages\n",
      "Number of original breeds ..... : 2\n",
      "Total number of images ........ : 121\n",
      "Standard images size .......... : (224, 224)\n",
      "SIFT Image descriptors count .. : 0\n",
      "Number of images in sample .... : 0\n",
      "Sampling : breeds count ....... : 2\n",
      "Sampling : images per breed ... : 0\n",
      "X train size .................. : (1123, 1)\n",
      "y train size .................. : (1123, 2)\n",
      "X test size ................... : (281, 1)\n",
      "y test size ................... : (281, 2)\n",
      "Clusters models  .............. : dict_keys(['GMM'])\n",
      "Current cluster model  ........ : GMM\n",
      "Bag of features dataframe ..... : (1404, 1)\n",
      "Encoded labels from dataset ... : (1404, 2)\n",
      "Number of breeds in sample .... : 2\n",
      "Image splitted ................ : True\n",
      "Key point descriptors ......... : (17282, 128)\n",
      "Classifier name ............... : \n",
      "Supported classifiers ......... : []\n",
      "Number of restricted images ... : 0\n",
      "Splitted parts ................ : (5, 5)\n",
      "Dataframe images descriptors .. : 1404 / Index(['raw', 'col', 'desc', 'breed', 'kp', 'size', 'split_image', 'image_id'], dtype='object')\n",
      "KP filtering .................. : True\n",
      "Squarred images ............... : False\n",
      "Nb of breeds into sampling .... : 0\n",
      "Random image sampling ......... : True\n",
      "Assigned filters identifiers .. : [3, 2, 1]\n",
      "Assignable filters list ....... : \n",
      "Identifier : 3   Filter= pil_2gray\n",
      "Identifier : 2   Filter= p7_filter_median\n",
      "Identifier : 1   Filter= pil_edge\n",
      "Images processed count ........ : 3025\n",
      "List of selected clusters ..... : [4, 0, 5]\n",
      "\n"
     ]
    }
   ],
   "source": [
    "import P7_DataBreed\n",
    "\n",
    "oP7_DataBreed.train_test_build(size_test=0.2)\n",
    "oP7_DataBreed.show()"
   ]
  },
  {
   "cell_type": "markdown",
   "metadata": {},
   "source": [
    "#### Dictionary result initialization\n",
    "\n",
    "When dicitonary does not still exists for a given cluster model, then it is initialized while fixing `is_score_dumped` value to `False`.\n",
    "<br>\n",
    "Otherwise, it is read from dumped file and scores are updated.\n",
    "<br>\n",
    "Once dumped, thenflag `is_score_dumped` has to be fixe to `True`."
   ]
  },
  {
   "cell_type": "code",
   "execution_count": 24,
   "metadata": {},
   "outputs": [
    {
     "data": {
      "text/plain": [
       "({}, True)"
      ]
     },
     "execution_count": 24,
     "metadata": {},
     "output_type": "execute_result"
    }
   ],
   "source": [
    "cluster_name = oP7_DataBreed.cluster_model_name\n",
    "filename_score = './data/dict_cls_score_'+cluster_name+'.dump'\n",
    "\n",
    "\n",
    "import p5_util\n",
    "is_score_dumped=False\n",
    "if is_score_dumped is True :\n",
    "    dict_cls_score = p5_util.object_load(filename_score)\n",
    "else:\n",
    "    dict_cls_score = dict()\n",
    "    is_score_dumped = True\n",
    "dict_classifier = dict()\n",
    "dict_cls_score,is_score_dumped"
   ]
  },
  {
   "cell_type": "markdown",
   "metadata": {},
   "source": [
    "### <font color='blus'>3.2.1. Evaluation of Bernoulli NB </font>"
   ]
  },
  {
   "cell_type": "code",
   "execution_count": 25,
   "metadata": {},
   "outputs": [
    {
     "name": "stdout",
     "output_type": "stream",
     "text": [
      "0.5868210151380232\n",
      "{'estimator__alpha': 0.0005, 'n_jobs': -1}\n"
     ]
    },
    {
     "data": {
      "text/plain": [
       "{'Bernoulli NB': 0.5868210151380232}"
      ]
     },
     "execution_count": 25,
     "metadata": {},
     "output_type": "execute_result"
    }
   ],
   "source": [
    "from sklearn.naive_bayes import BernoulliNB\n",
    "from sklearn.preprocessing import StandardScaler\n",
    "import p6_util\n",
    "\n",
    "X_train = oP7_DataBreed.X_train\n",
    "X_test  = oP7_DataBreed.X_test\n",
    "y_train = oP7_DataBreed.y_train\n",
    "y_test  = oP7_DataBreed.y_test\n",
    "\n",
    "if False :\n",
    "    scaler = StandardScaler()\n",
    "    scaler.fit(X_train)  \n",
    "    X_train = scaler.transform(X_train)\n",
    "    X_test = scaler.transform(X_test) \n",
    "\n",
    "classifier = BernoulliNB()\n",
    "cls_name = 'Bernoulli NB'\n",
    "\n",
    "dict_param_grid = {\n",
    "    'estimator__alpha': [  5.e-4,1.e-4, 5.e-4, 1.e-3, 5.e-3, 1.e-2, 5.e-2, 1.e-1], # Best result : alfa=1E-4\n",
    "    #'estimator__alpha': [ 1.e-4, ], #\n",
    "    'n_jobs': [-1]\n",
    "}\n",
    "y_pred, gscv_classifier = p6_util.p6_gscv_best_classifier(dict_param_grid, classifier, X_train, y_train\\\n",
    "                              , X_test,y_test,cv=3, iid=True)\n",
    "\n",
    "score = gscv_classifier.best_score_\n",
    "dict_classifier[cls_name]=gscv_classifier.best_estimator_\n",
    "\n",
    "\n",
    "filename = './data/best_dict_classifier.dump'\n",
    "p5_util.object_dump(dict_classifier,filename)\n",
    "\n",
    "dict_cls_score = dict_cls_score_update(oP7_DataBreed, is_score_dumped, dict_cls_score , cls_name, score)\n",
    "\n",
    "dict_cls_score\n"
   ]
  },
  {
   "cell_type": "markdown",
   "metadata": {},
   "source": [
    "### <font color='blus'>3.2.2. Random Forest</font>"
   ]
  },
  {
   "cell_type": "markdown",
   "metadata": {},
   "source": [
    "R.F. applies well when there is no linear relation between features and classes."
   ]
  },
  {
   "cell_type": "code",
   "execution_count": 26,
   "metadata": {},
   "outputs": [
    {
     "name": "stdout",
     "output_type": "stream",
     "text": [
      "0.5414069456812111\n",
      "{'estimator__n_estimators': 21}\n"
     ]
    },
    {
     "data": {
      "text/plain": [
       "{'Bernoulli NB': 0.5868210151380232, 'Random Forest': 0.5414069456812111}"
      ]
     },
     "execution_count": 26,
     "metadata": {},
     "output_type": "execute_result"
    }
   ],
   "source": [
    "from sklearn.ensemble import RandomForestClassifier\n",
    "cls_name = 'Random Forest'\n",
    "\n",
    "X_train = oP7_DataBreed.X_train\n",
    "X_test  = oP7_DataBreed.X_test\n",
    "y_train = oP7_DataBreed.y_train\n",
    "y_test  = oP7_DataBreed.y_test\n",
    "dict_param_grid = {\n",
    "    #'estimator__n_estimators': [ 100, 200, 300,], # 100, accuracy=0.295\n",
    "    #'estimator__n_estimators': [ 10,50,90,100,110], # 10, accuracy=0.297\n",
    "    #'estimator__n_estimators': [ 5,9,10,11,15], # 10, accuracy=0.55\n",
    "    'estimator__n_estimators': [ 11,13,15,17,19,21,23,25,27], # 10, accuracy=0\n",
    "}\n",
    "classifier = RandomForestClassifier()\n",
    "\n",
    "y_pred, gscv_classifier = p6_util.p6_gscv_best_classifier(dict_param_grid, classifier, X_train, y_train\\\n",
    "                              , X_test,y_test,cv=3, iid=True)\n",
    "\n",
    "score = gscv_classifier.best_score_\n",
    "dict_classifier[cls_name]=gscv_classifier.best_estimator_\n",
    "filename = './data/best_dict_classifier.dump'\n",
    "p5_util.object_dump(dict_classifier,filename)\n",
    "\n",
    "dict_cls_score = dict_cls_score_update(oP7_DataBreed, is_score_dumped, dict_cls_score , cls_name, score)\n",
    "\n",
    "dict_cls_score\n"
   ]
  },
  {
   "cell_type": "markdown",
   "metadata": {},
   "source": [
    "### <font color='blus'>3.2.3. Logistic Regression classification</font>\n",
    "\n",
    "L.R. works well if no correlation exists in between images.<br>\n",
    "This is not the case for dogs belonging the same breed.<br>"
   ]
  },
  {
   "cell_type": "code",
   "execution_count": 27,
   "metadata": {},
   "outputs": [],
   "source": [
    "from sklearn.linear_model import LogisticRegression\n",
    "import p5_util\n",
    "import p6_util\n",
    "import P7_DataBreed\n",
    "if False :\n",
    "    dict_param_grid = {\n",
    "        'estimator__C': [ 1.e-1, 0.5, 1., 1.5], # Best classifier: 1.e-1, accuracy=0.41\n",
    "        #'estimator__C': [ 1.e-1, 0.5, 1., 1.5], # Best classifier: 0.1, accuracy=0.41\n",
    "        #'estimator__C': [1.e-4, 1.e-3, 1.e-2, ], # Best classifier: 0.1, accuracy=0.41\n",
    "        'estimator__solver':['newton-cg', 'lbfgs' ,'sag'],\n",
    "        'estimator__penalty': ['l2'],\n",
    "        'n_jobs': [-1]\n",
    "    }\n",
    "    cls_name = 'L.R. + multinomial'\n",
    "\n",
    "    X_train = oP7_DataBreed.X_train\n",
    "    X_test  = oP7_DataBreed.X_test\n",
    "    y_train = oP7_DataBreed.y_train\n",
    "    y_test  = oP7_DataBreed.y_test\n",
    "    classifier = LogisticRegression(multi_class='multinomial',solver='newton-cg')\n",
    "\n",
    "    print(X_train.shape, y_train.shape, X_test.shape, y_test.shape)\n",
    "    y_pred, gscv_classifier = p6_util.p6_gscv_best_classifier(dict_param_grid, classifier, X_train, y_train\\\n",
    "                                  , X_test,y_test,cv=3, iid=True)\n",
    "\n",
    "    classifier  = gscv_classifier.best_estimator_\n",
    "\n",
    "    score = gscv_classifier.best_score_\n",
    "    dict_classifier[cls_name]=gscv_classifier.best_estimator_\n",
    "    filename = './data/best_dict_classifier.dump'\n",
    "    p5_util.object_dump(dict_classifier,filename)\n",
    "\n",
    "    dict_cls_score = dict_cls_score_update(oP7_DataBreed, is_score_dumped, dict_cls_score , cls_name, score)\n",
    "\n",
    "    dict_cls_score\n"
   ]
  },
  {
   "cell_type": "markdown",
   "metadata": {},
   "source": [
    "### <font color='blus'>3.2.4. Evaluation of Logictic regression with hyper-parameter `multi_class='ovr'`</font>"
   ]
  },
  {
   "cell_type": "code",
   "execution_count": 28,
   "metadata": {},
   "outputs": [],
   "source": [
    "from sklearn.linear_model import LogisticRegression\n",
    "import p5_util\n",
    "import p6_util\n",
    "import P7_DataBreed\n",
    "if False :\n",
    "    dict_param_grid = {\n",
    "        #'estimator__C': [ 1.e-1, 0.5, 1., 1.5], # Best classifier: 1.5, accuracy=0.27\n",
    "        #'estimator__C': [ 1.5, 2.0, 2.5], # Best classifier: 2.5, accuracy>0.27\n",
    "        #'estimator__C': [2.5, 5.0, 10., ], # Best classifier: 10.0 , accuracy=0.28\n",
    "        #'estimator__C': [10., 50., 100., ], # Best classifier: 100.0 , accuracy=0.29\n",
    "        'estimator__C': [90.,100., 110.,], # Best classifier: 90.0 , accuracy=0.287\n",
    "        'estimator__solver':['newton-cg', 'lbfgs' ,'sag','liblinear'],\n",
    "        #'estimator__solver':[ 'saga','liblinear'],\n",
    "        'estimator__penalty': ['l2'],\n",
    "        'n_jobs': [-1]\n",
    "    }\n",
    "    cls_name = 'L.R. + ovr'\n",
    "\n",
    "    X_train = oP7_DataBreed.X_train\n",
    "    X_test  = oP7_DataBreed.X_test\n",
    "    y_train = oP7_DataBreed.y_train\n",
    "    y_test  = oP7_DataBreed.y_test\n",
    "    classifier = LogisticRegression(multi_class='ovr')\n",
    "\n",
    "    print(X_train.shape, y_train.shape, X_test.shape, y_test.shape)\n",
    "    y_pred, gscv_classifier = p6_util.p6_gscv_best_classifier(dict_param_grid, classifier, X_train, y_train\\\n",
    "                                  , X_test,y_test,cv=3, iid=False)\n",
    "\n",
    "    classifier  = gscv_classifier.best_estimator_\n",
    "\n",
    "    score = gscv_classifier.best_score_\n",
    "    dict_classifier[cls_name]=gscv_classifier.best_estimator_\n",
    "    filename = './data/best_dict_classifier.dump'\n",
    "    p5_util.object_dump(dict_classifier,filename)\n",
    "\n",
    "    dict_cls_score = dict_cls_score_update(oP7_DataBreed, is_score_dumped, dict_cls_score , cls_name, score)\n",
    "\n",
    "    dict_cls_score\n"
   ]
  },
  {
   "cell_type": "markdown",
   "metadata": {},
   "source": [
    "### <font color='blus'>3.2.5. Evaluation of Multinomial NB</font>"
   ]
  },
  {
   "cell_type": "code",
   "execution_count": 29,
   "metadata": {},
   "outputs": [],
   "source": [
    "from sklearn.naive_bayes import MultinomialNB\n",
    "if False :\n",
    "\n",
    "    X_train = oP7_DataBreed.X_train\n",
    "    X_test  = oP7_DataBreed.X_test\n",
    "    y_train = oP7_DataBreed.y_train\n",
    "    y_test  = oP7_DataBreed.y_test\n",
    "\n",
    "    cls_name = 'Multinomial NB'\n",
    "    classifier = MultinomialNB()\n",
    "    dict_param_grid = {\n",
    "        #'estimator__alpha': [ 1.e-3, 5.e-2, 1.e-1, 5.e-1, 1.], #1.e-3 : Accuracy 0.0\n",
    "        'estimator__alpha': [ 1.e-5, 1.e-4, 1.e-3,], #1.e-3 : Accuracy 0.0\n",
    "        'n_jobs': [-1]\n",
    "    }\n",
    "\n",
    "    y_pred, gscv_classifier = p6_util.p6_gscv_best_classifier(dict_param_grid, classifier, X_train, y_train\\\n",
    "                                  , X_test,y_test,cv=3, iid=True)\n",
    "\n",
    "    classifier  = gscv_classifier.best_estimator_\n",
    "\n",
    "    score = gscv_classifier.best_score_\n",
    "    dict_classifier[cls_name]=gscv_classifier.best_estimator_\n",
    "    filename = './data/best_dict_classifier.dump'\n",
    "    p5_util.object_dump(dict_classifier,filename)\n",
    "\n",
    "    dict_cls_score = dict_cls_score_update(oP7_DataBreed, is_score_dumped, dict_cls_score , cls_name, score)\n",
    "\n",
    "    dict_cls_score\n"
   ]
  },
  {
   "cell_type": "markdown",
   "metadata": {},
   "source": [
    "### <font color='blus'>3.2.6. Evaluation of Gaussian NB</font>"
   ]
  },
  {
   "cell_type": "code",
   "execution_count": 30,
   "metadata": {},
   "outputs": [
    {
     "name": "stdout",
     "output_type": "stream",
     "text": [
      "0.5814781834372217\n",
      "{}\n"
     ]
    },
    {
     "data": {
      "text/plain": [
       "{'Bernoulli NB': 0.5868210151380232,\n",
       " 'Random Forest': 0.5414069456812111,\n",
       " 'Gaussian NB': 0.5814781834372217}"
      ]
     },
     "execution_count": 30,
     "metadata": {},
     "output_type": "execute_result"
    }
   ],
   "source": [
    "from sklearn.naive_bayes import GaussianNB\n",
    "from scipy import sparse\n",
    "\n",
    "\n",
    "X_train = oP7_DataBreed.X_train\n",
    "X_test  = oP7_DataBreed.X_test\n",
    "y_train = oP7_DataBreed.y_train\n",
    "y_test  = oP7_DataBreed.y_test\n",
    "\n",
    "cls_name = 'Gaussian NB'\n",
    "classifier = GaussianNB()\n",
    "\n",
    "dict_param_grid = dict()\n",
    "y_pred, gscv_classifier = p6_util.p6_gscv_best_classifier(dict_param_grid, classifier, X_train, y_train\\\n",
    "                              , X_test,y_test,cv=3, iid=True)\n",
    "\n",
    "dict_classifier[cls_name]=gscv_classifier.best_estimator_\n",
    "filename = './data/best_dict_classifier.dump'\n",
    "p5_util.object_dump(dict_classifier,filename)\n",
    "\n",
    "score = gscv_classifier.best_score_\n",
    "dict_cls_score = dict_cls_score_update(oP7_DataBreed, is_score_dumped, dict_cls_score , cls_name, score)\n",
    "dict_cls_score\n"
   ]
  },
  {
   "cell_type": "markdown",
   "metadata": {},
   "source": [
    "### <font color='blus'>3.2.7. Linear SVC</font>"
   ]
  },
  {
   "cell_type": "code",
   "execution_count": 31,
   "metadata": {},
   "outputs": [
    {
     "name": "stdout",
     "output_type": "stream",
     "text": [
      "0.5868210151380232\n",
      "{'estimator__C': 30, 'n_jobs': -1}\n"
     ]
    },
    {
     "data": {
      "text/plain": [
       "{'Bernoulli NB': 0.5868210151380232,\n",
       " 'Random Forest': 0.5414069456812111,\n",
       " 'Gaussian NB': 0.5814781834372217,\n",
       " 'Linear SVC': 0.5868210151380232}"
      ]
     },
     "execution_count": 31,
     "metadata": {},
     "output_type": "execute_result"
    }
   ],
   "source": [
    "from sklearn.svm import LinearSVC\n",
    "\n",
    "nb_estimators=100\n",
    "cls_name = 'Linear SVC'\n",
    "\n",
    "X_train = oP7_DataBreed.X_train\n",
    "X_test  = oP7_DataBreed.X_test\n",
    "y_train = oP7_DataBreed.y_train\n",
    "y_test  = oP7_DataBreed.y_test\n",
    "\n",
    "dict_param_grid = {\n",
    "        #'estimator__C': [ 1e-1,5e-1,1.,0.5,10], # 10 / 0.282%\n",
    "        #'estimator__C': [ 10,20,30], # 30 / 0.283%\n",
    "        'estimator__C': [ 30, 50,100,200], # 100 / 0.283%\n",
    "        'n_jobs': [-1]\n",
    "}\n",
    "classifier = LinearSVC(multi_class='ovr')\n",
    "\n",
    "y_pred, gscv_classifier = p6_util.p6_gscv_best_classifier(dict_param_grid, classifier, X_train, y_train\\\n",
    "                              , X_test,y_test,cv=3, iid=True)\n",
    "\n",
    "dict_classifier[cls_name]=gscv_classifier.best_estimator_\n",
    "filename = './data/best_dict_classifier.dump'\n",
    "p5_util.object_dump(dict_classifier,filename)\n",
    "\n",
    "score = gscv_classifier.best_score_\n",
    "dict_cls_score = dict_cls_score_update(oP7_DataBreed, is_score_dumped, dict_cls_score , cls_name, score)\n",
    "dict_cls_score\n"
   ]
  },
  {
   "cell_type": "markdown",
   "metadata": {},
   "source": [
    "### <font color='blus'>3.2.8. Kernel Ridge</font>"
   ]
  },
  {
   "cell_type": "code",
   "execution_count": 32,
   "metadata": {},
   "outputs": [],
   "source": [
    "from sklearn.linear_model import RidgeClassifier\n",
    "if False :\n",
    "    cls_name = 'Kernel Ridge'\n",
    "\n",
    "    X_train = oP7_DataBreed.X_train\n",
    "    X_test  = oP7_DataBreed.X_test\n",
    "    y_train = oP7_DataBreed.y_train\n",
    "    y_test  = oP7_DataBreed.y_test\n",
    "    dict_param_grid = {\n",
    "        'estimator__alpha': [ 0.05,0.1,0.15],# 0.1 / 0.32%\n",
    "        'n_jobs': [-1]\n",
    "    }\n",
    "    cls_name='KR Classifier'\n",
    "    classifier = RidgeClassifier()\n",
    "\n",
    "    y_pred, gscv_classifier = p6_util.p6_gscv_best_classifier(dict_param_grid, classifier, X_train, y_train\\\n",
    "                                  , X_test,y_test,cv=3, iid=True)\n",
    "\n",
    "    dict_classifier[cls_name]=gscv_classifier.best_estimator_\n",
    "    filename = './data/best_dict_classifier.dump'\n",
    "    p5_util.object_dump(dict_classifier,filename)\n",
    "\n",
    "    score = gscv_classifier.best_score_\n",
    "    dict_cls_score = dict_cls_score_update(oP7_DataBreed, is_score_dumped, dict_cls_score , cls_name, score)\n",
    "    dict_cls_score\n"
   ]
  },
  {
   "cell_type": "markdown",
   "metadata": {},
   "source": [
    "### <font color='blus'>3.2.9. Benchmark results</font>"
   ]
  },
  {
   "cell_type": "code",
   "execution_count": 33,
   "metadata": {},
   "outputs": [
    {
     "name": "stdout",
     "output_type": "stream",
     "text": [
      "\n",
      " \n",
      "Path to data directory ........ : ./data/EasyImages\n",
      "Number of original breeds ..... : 2\n",
      "Total number of images ........ : 121\n",
      "Standard images size .......... : (224, 224)\n",
      "SIFT Image descriptors count .. : 0\n",
      "Number of images in sample .... : 0\n",
      "Sampling : breeds count ....... : 2\n",
      "Sampling : images per breed ... : 0\n",
      "X train size .................. : (1123, 1)\n",
      "y train size .................. : (1123, 2)\n",
      "X test size ................... : (281, 1)\n",
      "y test size ................... : (281, 2)\n",
      "Clusters models  .............. : dict_keys(['GMM'])\n",
      "Current cluster model  ........ : GMM\n",
      "Bag of features dataframe ..... : (1404, 1)\n",
      "Encoded labels from dataset ... : (1404, 2)\n",
      "Number of breeds in sample .... : 2\n",
      "Image splitted ................ : True\n",
      "Key point descriptors ......... : (17282, 128)\n",
      "Classifier name ............... : \n",
      "Supported classifiers ......... : []\n",
      "Number of restricted images ... : 0\n",
      "Splitted parts ................ : (5, 5)\n",
      "Dataframe images descriptors .. : 1404 / Index(['raw', 'col', 'desc', 'breed', 'kp', 'size', 'split_image', 'image_id'], dtype='object')\n",
      "KP filtering .................. : True\n",
      "Squarred images ............... : False\n",
      "Nb of breeds into sampling .... : 0\n",
      "Random image sampling ......... : True\n",
      "Assigned filters identifiers .. : [3, 2, 1]\n",
      "Assignable filters list ....... : \n",
      "Identifier : 3   Filter= pil_2gray\n",
      "Identifier : 2   Filter= p7_filter_median\n",
      "Identifier : 1   Filter= pil_edge\n",
      "Images processed count ........ : 3025\n",
      "List of selected clusters ..... : [4, 0, 5]\n",
      "\n"
     ]
    }
   ],
   "source": [
    "oP7_DataBreed.show()"
   ]
  },
  {
   "cell_type": "code",
   "execution_count": 34,
   "metadata": {},
   "outputs": [
    {
     "data": {
      "image/png": "[encoded data removed]",
      "text/plain": [
       "<Figure size 1440x720 with 1 Axes>"
      ]
     },
     "metadata": {},
     "output_type": "display_data"
    },
    {
     "data": {
      "text/plain": [
       "{'Bernoulli NB': 0.5868210151380232,\n",
       " 'Random Forest': 0.5414069456812111,\n",
       " 'Gaussian NB': 0.5814781834372217,\n",
       " 'Linear SVC': 0.5868210151380232}"
      ]
     },
     "execution_count": 34,
     "metadata": {},
     "output_type": "execute_result"
    }
   ],
   "source": [
    "import pandas as pd\n",
    "import p5_util\n",
    "import p6_util_plot\n",
    "\n",
    "dict_benchmark_result = dict_cls_score.copy()\n",
    "\n",
    "df_result = pd.DataFrame.from_dict( dict_benchmark_result, orient='index')\n",
    "df_result.reset_index(inplace=True)\n",
    "df_result.rename(columns={'index':'Classifier',0:'Score'}, inplace=True)\n",
    "df_result\n",
    "str_nb_images = str(oP7_DataBreed.image_process_count)\n",
    "nb_bof = oP7_DataBreed.df_pil_image_kpdesc.shape[0]\n",
    "clustering = oP7_DataBreed.cluster_model_name\n",
    "str_split_ratio = str(oP7_DataBreed.split_ratio)\n",
    "\n",
    "str_image_bank = oP7_DataBreed.dir_path\n",
    "if oP7_DataBreed.is_kp_filtered :\n",
    "    title = \"Classifiers accuracy \"+str_image_bank+\" / \"+clustering+\" clustering / \"+str(nb_bof)+\" BOF / Images= \"+str_nb_images+\" / Filtered / Splitted ratio \"+str_split_ratio+\" / \"+str(oP7_DataBreed.sampling_breed_count)+\" breeds\"\n",
    "else :\n",
    "    if oP7_DataBreed.is_splitted :\n",
    "        title = \"Classifiers accuracy \"+str_image_bank+\" / \"+clustering+\" clustering / \"+str(nb_bof)+\" BOF / Images=\"+str_nb_images+\" / Splitted ratio \"+str_split_ratio+\" / \"+str(oP7_DataBreed.sampling_breed_count)+\" breeds\"\n",
    "    else : \n",
    "        title = \"Classifiers accuracy \"+str_image_bank+\"/ \"+clustering+\" clustering / \"+str(nb_bof)+\" BOF / Images= \"+str_nb_images+\" / Not splitted images \"+str_split_ratio+\" / \"+str(oP7_DataBreed.sampling_breed_count)+\" breeds\"\n",
    "p6_util_plot.ser_item_occurency_plot(df_result.Classifier, df_result.Score*100, item_count=None, title=title,\\\n",
    "                                    p_reverse=False,p_x_title='Classifiers', p_y_title='Accuracy')\n",
    "\n",
    "#### Classifier API\n",
    "\n",
    "dict_cls_score"
   ]
  },
  {
   "cell_type": "code",
   "execution_count": 46,
   "metadata": {},
   "outputs": [
    {
     "name": "stdout",
     "output_type": "stream",
     "text": [
      "\n",
      " \n",
      "Path to data directory ........ : ./data/EasyImages\n",
      "Number of original breeds ..... : 1\n",
      "Total number of images ........ : 1\n",
      "Standard images size .......... : (224, 224)\n",
      "SIFT Image descriptors count .. : 25\n",
      "Number of images in sample .... : 0\n",
      "Sampling : breeds count ....... : 1\n",
      "Sampling : images per breed ... : 0\n",
      "X train size .................. : (1123, 1)\n",
      "y train size .................. : (1123, 2)\n",
      "X test size ................... : (281, 1)\n",
      "y test size ................... : (281, 2)\n",
      "Clusters models  .............. : dict_keys(['GMM'])\n",
      "Current cluster model  ........ : GMM\n",
      "Bag of features dataframe ..... : (22, 1)\n",
      "Encoded labels from dataset ... : (22, 1)\n",
      "Number of breeds in sample .... : 1\n",
      "Image splitted ................ : True\n",
      "Key point descriptors ......... : (215, 128)\n",
      "Classifier name ............... : Linear SVC\n",
      "Supported classifiers ......... : ['Bernoulli NB', 'Random Forest', 'Gaussian NB', 'Linear SVC']\n",
      "Number of restricted images ... : 0\n",
      "Splitted parts ................ : (5, 5)\n",
      "Dataframe images descriptors .. : 25 / Index(['desc', 'breed', 'kp', 'size', 'split_image', 'image_id'], dtype='object')\n",
      "KP filtering .................. : True\n",
      "Squarred images ............... : False\n",
      "Nb of breeds into sampling .... : 0\n",
      "Random image sampling ......... : True\n",
      "Assigned filters identifiers .. : [3, 2, 1]\n",
      "Assignable filters list ....... : \n",
      "Identifier : 3   Filter= pil_2gray\n",
      "Identifier : 2   Filter= p7_filter_median\n",
      "Identifier : 1   Filter= pil_edge\n",
      "Images processed count ........ : 25\n",
      "List of selected clusters ..... : [4, 0, 5]\n",
      "\n",
      "standard_poodle ..... : n02113799-standard_poodle     \n"
     ]
    }
   ],
   "source": [
    "oP7_DataBreed.dict_classifier = dict_classifier\n",
    "oP7_DataBreed.classifier_name = 'Linear SVC'\n",
    "oP7_DataBreed.show()\n",
    "oP7_DataBreed.show_breed_name()"
   ]
  },
  {
   "cell_type": "code",
   "execution_count": null,
   "metadata": {},
   "outputs": [],
   "source": []
  },
  {
   "cell_type": "code",
   "execution_count": 38,
   "metadata": {},
   "outputs": [
    {
     "name": "stdout",
     "output_type": "stream",
     "text": [
      "Help on method predict in module P7_DataBreed:\n",
      "\n",
      "predict(dirbreed, imagename, top=3) method of P7_DataBreed.P7_DataBreed instance\n",
      "    #---------------------------------------------------------------------------\n",
      "    #\n",
      "    #---------------------------------------------------------------------------\n",
      "\n"
     ]
    }
   ],
   "source": [
    "help(oP7_DataBreed.predict)"
   ]
  },
  {
   "cell_type": "code",
   "execution_count": 43,
   "metadata": {},
   "outputs": [
    {
     "data": {
      "text/plain": [
       "['n02113799-standard_poodle']"
      ]
     },
     "execution_count": 43,
     "metadata": {},
     "output_type": "execute_result"
    }
   ],
   "source": [
    "['n02113799-standard_poodle']"
   ]
  },
  {
   "cell_type": "code",
   "execution_count": 47,
   "metadata": {},
   "outputs": [
    {
     "name": "stdout",
     "output_type": "stream",
     "text": [
      "*** build_sift_desc() ...\n",
      "\n",
      "INFO : Series already built!\n",
      "Building...\n",
      "\n",
      "INFO : Error = 0 Total images processed= 25\n",
      "\n",
      "*** WARN : Nb of exceptions during process ... : 3\n",
      "\n",
      "***Nb of errors..............= 3\n",
      "\n",
      "***Nb of labelized images ...= 22\n",
      "Number of referenced labels= 1\n",
      "Number of labels to be encoded= 22\n",
      "(22, 1)\n",
      "\n",
      "***WARN : build_datakp_bof() : errors= 3\n"
     ]
    },
    {
     "ename": "KeyError",
     "evalue": "1",
     "output_type": "error",
     "traceback": [
      "\u001b[0;31m---------------------------------------------------------------------------\u001b[0m",
      "\u001b[0;31mKeyError\u001b[0m                                  Traceback (most recent call last)",
      "\u001b[0;32m<ipython-input-47-0916d27ad944>\u001b[0m in \u001b[0;36m<module>\u001b[0;34m\u001b[0m\n\u001b[0;32m----> 1\u001b[0;31m \u001b[0moP7_DataBreed\u001b[0m\u001b[0;34m.\u001b[0m\u001b[0mpredict\u001b[0m\u001b[0;34m(\u001b[0m\u001b[0;34m'n02113799-standard_poodle'\u001b[0m\u001b[0;34m,\u001b[0m\u001b[0;34m'n02113799_253.jpg'\u001b[0m\u001b[0;34m)\u001b[0m\u001b[0;34m\u001b[0m\u001b[0;34m\u001b[0m\u001b[0m\n\u001b[0m",
      "\u001b[0;32m~/Dropbox/Perso/Formation/openclassrooms/OC_Datascientist/P7/P7_DataBreed.py\u001b[0m in \u001b[0;36mpredict\u001b[0;34m(self, dirbreed, imagename, top)\u001b[0m\n\u001b[1;32m   2261\u001b[0m             \u001b[0;31m# Get breed name\u001b[0m\u001b[0;34m\u001b[0m\u001b[0;34m\u001b[0m\u001b[0;34m\u001b[0m\u001b[0m\n\u001b[1;32m   2262\u001b[0m             \u001b[0;31m#-------------------------------------------------------------------\u001b[0m\u001b[0;34m\u001b[0m\u001b[0;34m\u001b[0m\u001b[0;34m\u001b[0m\u001b[0m\n\u001b[0;32m-> 2263\u001b[0;31m             \u001b[0mbreedname\u001b[0m \u001b[0;34m=\u001b[0m \u001b[0mself\u001b[0m\u001b[0;34m.\u001b[0m\u001b[0mget_breedname_from_breedlabel\u001b[0m\u001b[0;34m(\u001b[0m\u001b[0mbreedlabel\u001b[0m\u001b[0;34m)\u001b[0m\u001b[0;34m\u001b[0m\u001b[0;34m\u001b[0m\u001b[0m\n\u001b[0m\u001b[1;32m   2264\u001b[0m             \u001b[0mlist_predicted\u001b[0m\u001b[0;34m.\u001b[0m\u001b[0mappend\u001b[0m\u001b[0;34m(\u001b[0m\u001b[0mbreedname\u001b[0m\u001b[0;34m)\u001b[0m\u001b[0;34m\u001b[0m\u001b[0;34m\u001b[0m\u001b[0m\n\u001b[1;32m   2265\u001b[0m \u001b[0;34m\u001b[0m\u001b[0m\n",
      "\u001b[0;32m~/Dropbox/Perso/Formation/openclassrooms/OC_Datascientist/P7/P7_DataBreed.py\u001b[0m in \u001b[0;36mget_breedname_from_breedlabel\u001b[0;34m(self, breedlabel)\u001b[0m\n\u001b[1;32m   2023\u001b[0m     \u001b[0;31m#---------------------------------------------------------------------------\u001b[0m\u001b[0;34m\u001b[0m\u001b[0;34m\u001b[0m\u001b[0;34m\u001b[0m\u001b[0m\n\u001b[1;32m   2024\u001b[0m     \u001b[0;32mdef\u001b[0m \u001b[0mget_breedname_from_breedlabel\u001b[0m\u001b[0;34m(\u001b[0m\u001b[0mself\u001b[0m\u001b[0;34m,\u001b[0m \u001b[0mbreedlabel\u001b[0m\u001b[0;34m)\u001b[0m \u001b[0;34m:\u001b[0m\u001b[0;34m\u001b[0m\u001b[0;34m\u001b[0m\u001b[0m\n\u001b[0;32m-> 2025\u001b[0;31m         \u001b[0;32mreturn\u001b[0m \u001b[0mself\u001b[0m\u001b[0;34m.\u001b[0m\u001b[0m_ser_breed_number\u001b[0m\u001b[0;34m[\u001b[0m\u001b[0mbreedlabel\u001b[0m\u001b[0;34m]\u001b[0m\u001b[0;34m\u001b[0m\u001b[0;34m\u001b[0m\u001b[0m\n\u001b[0m\u001b[1;32m   2026\u001b[0m     \u001b[0;31m#---------------------------------------------------------------------------\u001b[0m\u001b[0;34m\u001b[0m\u001b[0;34m\u001b[0m\u001b[0;34m\u001b[0m\u001b[0m\n\u001b[1;32m   2027\u001b[0m \u001b[0;34m\u001b[0m\u001b[0m\n",
      "\u001b[0;32m~/.local/lib/python3.6/site-packages/pandas/core/series.py\u001b[0m in \u001b[0;36m__getitem__\u001b[0;34m(self, key)\u001b[0m\n\u001b[1;32m    765\u001b[0m         \u001b[0mkey\u001b[0m \u001b[0;34m=\u001b[0m \u001b[0mcom\u001b[0m\u001b[0;34m.\u001b[0m\u001b[0m_apply_if_callable\u001b[0m\u001b[0;34m(\u001b[0m\u001b[0mkey\u001b[0m\u001b[0;34m,\u001b[0m \u001b[0mself\u001b[0m\u001b[0;34m)\u001b[0m\u001b[0;34m\u001b[0m\u001b[0;34m\u001b[0m\u001b[0m\n\u001b[1;32m    766\u001b[0m         \u001b[0;32mtry\u001b[0m\u001b[0;34m:\u001b[0m\u001b[0;34m\u001b[0m\u001b[0;34m\u001b[0m\u001b[0m\n\u001b[0;32m--> 767\u001b[0;31m             \u001b[0mresult\u001b[0m \u001b[0;34m=\u001b[0m \u001b[0mself\u001b[0m\u001b[0;34m.\u001b[0m\u001b[0mindex\u001b[0m\u001b[0;34m.\u001b[0m\u001b[0mget_value\u001b[0m\u001b[0;34m(\u001b[0m\u001b[0mself\u001b[0m\u001b[0;34m,\u001b[0m \u001b[0mkey\u001b[0m\u001b[0;34m)\u001b[0m\u001b[0;34m\u001b[0m\u001b[0;34m\u001b[0m\u001b[0m\n\u001b[0m\u001b[1;32m    768\u001b[0m \u001b[0;34m\u001b[0m\u001b[0m\n\u001b[1;32m    769\u001b[0m             \u001b[0;32mif\u001b[0m \u001b[0;32mnot\u001b[0m \u001b[0mis_scalar\u001b[0m\u001b[0;34m(\u001b[0m\u001b[0mresult\u001b[0m\u001b[0;34m)\u001b[0m\u001b[0;34m:\u001b[0m\u001b[0;34m\u001b[0m\u001b[0;34m\u001b[0m\u001b[0m\n",
      "\u001b[0;32m~/.local/lib/python3.6/site-packages/pandas/core/indexes/base.py\u001b[0m in \u001b[0;36mget_value\u001b[0;34m(self, series, key)\u001b[0m\n\u001b[1;32m   3116\u001b[0m         \u001b[0;32mtry\u001b[0m\u001b[0;34m:\u001b[0m\u001b[0;34m\u001b[0m\u001b[0;34m\u001b[0m\u001b[0m\n\u001b[1;32m   3117\u001b[0m             return self._engine.get_value(s, k,\n\u001b[0;32m-> 3118\u001b[0;31m                                           tz=getattr(series.dtype, 'tz', None))\n\u001b[0m\u001b[1;32m   3119\u001b[0m         \u001b[0;32mexcept\u001b[0m \u001b[0mKeyError\u001b[0m \u001b[0;32mas\u001b[0m \u001b[0me1\u001b[0m\u001b[0;34m:\u001b[0m\u001b[0;34m\u001b[0m\u001b[0;34m\u001b[0m\u001b[0m\n\u001b[1;32m   3120\u001b[0m             \u001b[0;32mif\u001b[0m \u001b[0mlen\u001b[0m\u001b[0;34m(\u001b[0m\u001b[0mself\u001b[0m\u001b[0;34m)\u001b[0m \u001b[0;34m>\u001b[0m \u001b[0;36m0\u001b[0m \u001b[0;32mand\u001b[0m \u001b[0mself\u001b[0m\u001b[0;34m.\u001b[0m\u001b[0minferred_type\u001b[0m \u001b[0;32min\u001b[0m \u001b[0;34m[\u001b[0m\u001b[0;34m'integer'\u001b[0m\u001b[0;34m,\u001b[0m \u001b[0;34m'boolean'\u001b[0m\u001b[0;34m]\u001b[0m\u001b[0;34m:\u001b[0m\u001b[0;34m\u001b[0m\u001b[0;34m\u001b[0m\u001b[0m\n",
      "\u001b[0;32mpandas/_libs/index.pyx\u001b[0m in \u001b[0;36mpandas._libs.index.IndexEngine.get_value\u001b[0;34m()\u001b[0m\n",
      "\u001b[0;32mpandas/_libs/index.pyx\u001b[0m in \u001b[0;36mpandas._libs.index.IndexEngine.get_value\u001b[0;34m()\u001b[0m\n",
      "\u001b[0;32mpandas/_libs/index.pyx\u001b[0m in \u001b[0;36mpandas._libs.index.IndexEngine.get_loc\u001b[0;34m()\u001b[0m\n",
      "\u001b[0;32mpandas/_libs/hashtable_class_helper.pxi\u001b[0m in \u001b[0;36mpandas._libs.hashtable.Int64HashTable.get_item\u001b[0;34m()\u001b[0m\n",
      "\u001b[0;32mpandas/_libs/hashtable_class_helper.pxi\u001b[0m in \u001b[0;36mpandas._libs.hashtable.Int64HashTable.get_item\u001b[0;34m()\u001b[0m\n",
      "\u001b[0;31mKeyError\u001b[0m: 1"
     ]
    }
   ],
   "source": [
    "oP7_DataBreed.predict('n02113799-standard_poodle','n02113799_253.jpg')"
   ]
  },
  {
   "cell_type": "code",
   "execution_count": 48,
   "metadata": {},
   "outputs": [
    {
     "data": {
      "text/plain": [
       "0    standard_poodle\n",
       "dtype: object"
      ]
     },
     "execution_count": 48,
     "metadata": {},
     "output_type": "execute_result"
    }
   ],
   "source": [
    "oP7_DataBreed._ser_breed_number"
   ]
  },
  {
   "cell_type": "code",
   "execution_count": null,
   "metadata": {},
   "outputs": [],
   "source": []
  }
 ],
 "metadata": {
  "kernelspec": {
   "display_name": "Python 3",
   "language": "python",
   "name": "python3"
  },
  "language_info": {
   "codemirror_mode": {
    "name": "ipython",
    "version": 3
   },
   "file_extension": ".py",
   "mimetype": "text/x-python",
   "name": "python",
   "nbconvert_exporter": "python",
   "pygments_lexer": "ipython3",
   "version": "3.6.8"
  }
 },
 "nbformat": 4,
 "nbformat_minor": 2
}
