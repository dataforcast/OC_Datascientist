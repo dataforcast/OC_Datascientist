{
 "cells": [
  {
   "cell_type": "markdown",
   "metadata": {},
   "source": [
    "<!--NOTEBOOK_INFORMATION-->\n",
    "<img align=\"left\" style=\"padding-right:10px;\" src=\"./figures/LogoOpenclassrooms.png\">\n",
    "<font size=\"4\">\n",
    "    \n",
    "Cette étude a été réalisée dans le cadre du 6ème projet de ma formation Datascientist dispensée en MOOC par \n",
    "\n",
    "<font color='blus'>Openclassrooms / écoles Centrale-Supélec</font>.\n",
    "\n",
    "\n",
    "\n",
    "\n",
    "<p></p><p></p><p></p>\n",
    "\n",
    "\n",
    "\n",
    "\n",
    "\n",
    "**Le problème posé :**\n",
    "\n",
    "# <font color='blus'>Indexation d'images</font>\n",
    "\n",
    "Vous êtes bénévole pour l'association de protection des animaux de votre quartier. C'est d'ailleurs ainsi que vous avez trouvé votre compagnon idéal, Snooky. Du coup, vous vous demandez ce que vous pouvez faire en retour pour aider l'association.\n",
    "\n",
    "Vous apprenez, en discutant avec un bénévole, que leur base de données de pensionnaires commence à s'agrandir et qu'ils n'ont pas toujours le temps de référencer les images des animaux qu'ils ont accumulées depuis plusieurs années. Ils aimeraient donc réaliser un index de l’ensemble de la base de données d’images qu’ils possèdent, pour classer les chiens par races.\n",
    "\n",
    "**<font color='blus'>Les données</font>**\n",
    "\n",
    "Les bénévoles de l'association n'ont pas eu le temps de réunir les différentes images des pensionnaires dispersées sur leurs disques durs. Pas de problème, vous développerez un algorithme en utilisant le Stanford Dogs Dataset pour entraîner votre algorithme.\n",
    "\n",
    "**<font color='blus'>Votre mission</font>**\n",
    "\n",
    "En tant que Data Scientist, l'association vous demande de réaliser un algorithme de détection de la race du chien sur une photo, afin d'accélérer leur travail d’indexation.\n",
    "\n",
    "**<font color='blus'>Contraintes</font>**\n",
    "\n",
    "Lors de ce projet, vous mettrez en œuvre deux approches.\n",
    "\n",
    "* Une approche classique : il s’agit de pre-processer des images avec des techniques spécifiques (e.g.whitening, equalisation, filtre linéaire/laplacien/gaussien, éventuellement modifier la taille des images), puis d’extraire des features (e.g. texture, corners, edges et SIFT detector). Il faut ensuite réduire les dimensions, soit par des approches classiques (e.g. PCA, k-means) soit avec une approche par histogrammes et dictionary learning (bag-of-words appliqué aux images), puis appliquer des algorithmes de classification standards.\n",
    "\n",
    "\n",
    "\n",
    "* Lors de l’analyse exploratoire, vous regarderez si les features extraites et utilisées en classification sont prometteuses en utilisant des méthodes de réduction de dimension pour visualiser le dataset en 2D. Cela vous permettra d’affiner votre intuition sur les différents traitements possibles, sans que cela ne se substitue à des mesures de performances rigoureuses.\n",
    "\n",
    "\n",
    "\n",
    "* Une approche s’appuyant sur l’état de l’art et l’utilisation de CNN (réseaux de neurones convolutionnels). Compte tenu de la taille et de la complexité du dataset, et de la puissance de calcul à votre disposition, il est très difficile d’obtenir de bonnes performances (pour ça, essayez MNIST). Aussi, est-il recommandé d’utiliser le transfer learning, c’est-à-dire utiliser un réseau déjà entraîné, et le modifier pour répondre à votre problème. Une première chose obligatoire est de ré-entraîner les dernières couches pour prédire les classes qui vous intéressent seulement. Il est également possible d’adapter la structure (supprimer certaines couches par exemple) ou de ré-entraîner le modèle avec un très faible learning rate pour ajuster les poids à votre problème (plus long) et optimiser les performances."
   ]
  },
  {
   "cell_type": "markdown",
   "metadata": {},
   "source": [
    "##### Object is dumped into a file\n",
    "\n",
    "If any change took place into file `P7_DataBreed.py` then this function first update current object `oP7_DataBreed`.<br>\n",
    "* If function flag `is_saved` is fixed to `False` then object `oP7_DataBreed` is not dumped into a file.\n",
    "* By default, flag `is_saved` is fixed to `True`."
   ]
  },
  {
   "cell_type": "code",
   "execution_count": null,
   "metadata": {},
   "outputs": [],
   "source": [
    "import P7_DataBreed\n",
    "if False :\n",
    "    oP7_DataBreed = P7_DataBreed.update_object_save(oP7_DataBreed, is_saved=False,is_new_attribute=True)"
   ]
  },
  {
   "cell_type": "raw",
   "metadata": {},
   "source": [
    "#-------------------------------------------------------------------------\n",
    "# Re-structure dictionary of KP before saving.\n",
    "# In progress...\n",
    "#-------------------------------------------------------------------------\n",
    "import pandas as pd\n",
    "# df_pil_image_kpdesc.kp[i] : List of KP for ith image.\n",
    "# df_pil_image_kpdesc.kp[i][j] :jth of KP from list belonging to ith image.\n",
    "\n",
    "\n",
    "\n",
    "oP7_DataBreed.df_pil_image_kpdesc.kp[0][0].angle\n",
    "oP7_DataBreed.df_pil_image_kpdesc.kp[0][0].class_id\n",
    "oP7_DataBreed.df_pil_image_kpdesc.kp[0][0].octave\n",
    "oP7_DataBreed.df_pil_image_kpdesc.kp[0][0].pt\n",
    "oP7_DataBreed.df_pil_image_kpdesc.kp[0][0].response\n",
    "oP7_DataBreed.df_pil_image_kpdesc.kp[0][0].size\n",
    "type(oP7_DataBreed.df_pil_image_kpdesc.kp[3])\n",
    "\n",
    "#df = pd.DataFrame(oP7_DataBreed.df_pil_image_kpdesc.kp)\n",
    "#list_tuple_kp_attr = [(angle,class_id,octave,pt,response,size) for tt in oP7_DataBreed.df_pil_image_kpdesc.kp[0]]\n",
    "ser_kp = oP7_DataBreed.df_pil_image_kpdesc.kp.copy()\n",
    "ser_kp_new = pd.Series()\n",
    "if False :\n",
    "    for list_kp in ser_kp.items():\n",
    "        list_kp_attr = [(kp.angle, kp.class_id,kp.octave, kp.pt, kp.response, kp.size) for kp in list_kp]\n",
    "        print(type(kp))\n",
    "        ser_kp_new\n",
    "        break\n",
    "for index,list_kp in ser_kp.items():\n",
    "    #print(index,type(list_kp))\n",
    "    ser_kp_new.loc[index] = [(kp.angle, kp.class_id,kp.octave, kp.pt, kp.response, kp.size) for kp in list_kp]\n",
    "    "
   ]
  },
  {
   "cell_type": "code",
   "execution_count": 1,
   "metadata": {},
   "outputs": [],
   "source": [
    "%load_ext autoreload\n",
    "%autoreload 2\n",
    "%reload_ext autoreload"
   ]
  },
  {
   "cell_type": "code",
   "execution_count": 2,
   "metadata": {},
   "outputs": [],
   "source": [
    "is_splitted=True"
   ]
  },
  {
   "cell_type": "code",
   "execution_count": 3,
   "metadata": {},
   "outputs": [
    {
     "name": "stdout",
     "output_type": "stream",
     "text": [
      "p5_util.object_load : fileName= ./data/oP7_DataBreed.dump\n",
      "\n",
      " \n",
      "Path to data directory ........ : ./data/Images\n",
      "Number of original breeds ..... : 120\n",
      "Total number of images ........ : 20580\n",
      "Standard images size .......... : (300, 300)\n",
      "SIFT Image descriptors count .. : 0\n",
      "Sampling : breeds count ....... : 3\n",
      "Sampling : images per breed ... : 100\n",
      "X train size .................. : 0\n",
      "y train size .................. : 0\n",
      "X test size ................... : 0\n",
      "y test size ................... : 0\n",
      "Clusters models  .............. : dict_keys([])\n",
      "Current cluster model  ........ : \n",
      "Bag of features dataframe ..... : (0, 0)\n",
      "Encoded labels from dataset ... : ()\n",
      "Number of breeds in sample .... : 3\n",
      "Image splitted ................ : False\n",
      "Key point descriptors ......... : (128,)\n",
      "Classifier name ............... : \n",
      "Supported classifiers ......... : []\n",
      "Number of restricted images ... : 0\n",
      "Splitted parts ................ : (3, 3)\n",
      "Dataframe images descriptors .. : 0 / Index([], dtype='object')\n",
      "KP filtering .................. : False\n",
      "Squarred images ............... : False\n",
      "Nb of breeds into sampling .... : 3\n",
      "Random image sampling ......... : False\n",
      "\n",
      "Doberman   ..... : n02107142-Doberman            \n",
      "dingo      ..... : n02115641-dingo               \n",
      "Mexican_hairless ..... : n02113978-Mexican_hairless    \n"
     ]
    }
   ],
   "source": [
    "import p5_util\n",
    "import P7_DataBreed\n",
    "if False :\n",
    "    oP7_DataBreed=P7_DataBreed.P7_DataBreed('./data/EasyImages')\n",
    "    oP7_DataBreed.std_size=None\n",
    "    oP7_DataBreed.is_squarred=True\n",
    "    oP7_DataBreed.is_kp_filtered=False\n",
    "    oP7_DataBreed.split_ratio=(3,3)\n",
    "    oP7_DataBreed.load()\n",
    "    list_breed_sample=['n02107142-Doberman','n02115641-dingo','n02113978-Mexican_hairless']\n",
    "    breed_count=3\n",
    "    image_per_breed_count=-1\n",
    "    oP7_DataBreed.sampling(breed_count, image_per_breed_count)\n",
    "else :\n",
    "    #---------------------------------------------------------------------\n",
    "    # Reload `oP7_DataBreed` already dumped\n",
    "    #---------------------------------------------------------------------\n",
    "    oP7_DataBreed = p5_util.object_load('./data/oP7_DataBreed.dump')\n",
    "    oP7_DataBreed.is_squarred=False\n",
    "    oP7_DataBreed.std_size=(300,300)\n",
    "    breed_count = len(oP7_DataBreed.list_breed_sample)\n",
    "    image_per_breed_count = oP7_DataBreed.sampling_image_per_breed_count\n",
    "\n",
    "oP7_DataBreed.show()\n",
    "oP7_DataBreed.show_breed_name()"
   ]
  },
  {
   "cell_type": "markdown",
   "metadata": {},
   "source": [
    "##### Data pre-processing and building BOF \n",
    "\n",
    "SIFT descriptors are used in order to build Bag Of Features"
   ]
  },
  {
   "cell_type": "code",
   "execution_count": 16,
   "metadata": {},
   "outputs": [
    {
     "name": "stdout",
     "output_type": "stream",
     "text": [
      "\n",
      "INFO : Series already built!\n",
      "Building...\n",
      "*** build_sift_desc() ...\n",
      "\n",
      "INFO : Error = 0 Total images processed= 2700\n",
      "\n",
      " \n",
      "Path to data directory ........ : ./data/Images\n",
      "Number of original breeds ..... : 120\n",
      "Total number of images ........ : 20580\n",
      "Standard images size .......... : (300, 300)\n",
      "SIFT Image descriptors count .. : 2700\n",
      "Sampling : breeds count ....... : 3\n",
      "Sampling : images per breed ... : 100\n",
      "X train size .................. : 0\n",
      "y train size .................. : 0\n",
      "X test size ................... : 0\n",
      "y test size ................... : 0\n",
      "Clusters models  .............. : dict_keys([])\n",
      "Current cluster model  ........ : \n",
      "Bag of features dataframe ..... : (0, 0)\n",
      "Encoded labels from dataset ... : ()\n",
      "Number of breeds in sample .... : 3\n",
      "Image splitted ................ : True\n",
      "Key point descriptors ......... : (128,)\n",
      "Classifier name ............... : \n",
      "Supported classifiers ......... : []\n",
      "Number of restricted images ... : 0\n",
      "Splitted parts ................ : (3, 3)\n",
      "Dataframe images descriptors .. : 2700 / Index(['desc', 'breed', 'kp', 'size', 'split_image', 'image_id'], dtype='object')\n",
      "KP filtering .................. : False\n",
      "Squarred images ............... : False\n",
      "Nb of breeds into sampling .... : 3\n",
      "Random image sampling ......... : False\n",
      "\n",
      "Processed rows= 1000/2700\n",
      "Processed rows= 2000/2700\n",
      "\n",
      "*** WARN : Nb of exceptions during process ... : 44\n",
      "\n",
      " \n",
      "Path to data directory ........ : ./data/Images\n",
      "Number of original breeds ..... : 120\n",
      "Total number of images ........ : 20580\n",
      "Standard images size .......... : (300, 300)\n",
      "SIFT Image descriptors count .. : 2700\n",
      "Sampling : breeds count ....... : 3\n",
      "Sampling : images per breed ... : 100\n",
      "X train size .................. : 0\n",
      "y train size .................. : 0\n",
      "X test size ................... : 0\n",
      "y test size ................... : 0\n",
      "Clusters models  .............. : dict_keys([])\n",
      "Current cluster model  ........ : \n",
      "Bag of features dataframe ..... : (0, 0)\n",
      "Encoded labels from dataset ... : ()\n",
      "Number of breeds in sample .... : 3\n",
      "Image splitted ................ : True\n",
      "Key point descriptors ......... : (228931, 128)\n",
      "Classifier name ............... : \n",
      "Supported classifiers ......... : []\n",
      "Number of restricted images ... : 0\n",
      "Splitted parts ................ : (3, 3)\n",
      "Dataframe images descriptors .. : 2700 / Index(['desc', 'breed', 'kp', 'size', 'split_image', 'image_id'], dtype='object')\n",
      "KP filtering .................. : False\n",
      "Squarred images ............... : False\n",
      "Nb of breeds into sampling .... : 3\n",
      "Random image sampling ......... : False\n",
      "\n"
     ]
    }
   ],
   "source": [
    "#breed_count=3\n",
    "#image_per_breed_count=200\n",
    "\n",
    "oP7_DataBreed.sampling(breed_count, image_per_breed_count)\n",
    "\n",
    "oP7_DataBreed.build_sift_desc(is_splitted=is_splitted)\n",
    "oP7_DataBreed.show()\n",
    "\n",
    "oP7_DataBreed.kp_filter()\n",
    "\n",
    "oP7_DataBreed.build_arr_desc()\n",
    "\n",
    "oP7_DataBreed.show()"
   ]
  },
  {
   "cell_type": "markdown",
   "metadata": {},
   "source": [
    "## <font color='blus'>2.a GMM clustering</font>\n",
    "\n",
    "The number of clusters is fixed with the number of breeds into sample."
   ]
  },
  {
   "cell_type": "code",
   "execution_count": 17,
   "metadata": {},
   "outputs": [
    {
     "name": "stdout",
     "output_type": "stream",
     "text": [
      "Clustering from clusters range from : 1 --> 3\n",
      "GMM Hyper-parameter type= covariance_type\n",
      "Hyper parameter value : diag\n"
     ]
    }
   ],
   "source": [
    "import p5_util\n",
    "import P7_DataBreed\n",
    "clustering='GMM'\n",
    "\n",
    "df_desc = oP7_DataBreed.df_desc\n",
    "cluster_start = 1\n",
    "cluster_end = oP7_DataBreed.sampling_breed_count\n",
    "\n",
    "clustering=oP7_DataBreed.cluster_model_name\n",
    "str_is_splitted = str(oP7_DataBreed.is_splitted)\n",
    "filename='./data/dict_list_'+clustering+'_'+str(cluster_end)+'_splitted_'+str_is_splitted+'_clusters.dump'\n",
    "\n",
    "#dict_hyper_parameter={'covariance_type':['diag','spherical','full']}\n",
    "dict_hyper_parameter={'covariance_type':['diag']}\n",
    "t_range_cluster = (cluster_start, cluster_end)\n",
    "dict_list_gmm_model = p5_util.gmm_hyper_parameter_cv(df_desc, t_range_cluster ,dict_hyper_parameter)\n",
    "\n",
    "p5_util.object_dump(dict_list_gmm_model,filename)"
   ]
  },
  {
   "cell_type": "markdown",
   "metadata": {},
   "source": [
    "##### AIC and BIC are computed for clustering evaluation"
   ]
  },
  {
   "cell_type": "raw",
   "metadata": {},
   "source": [
    "import p5_util\n",
    "import p5_util_plot\n",
    "\n",
    "dict_list_gmm_model = p5_util.object_load(filename)\n",
    "\n",
    "p_figsize = (14,7)\n",
    "t_range_cluster = (cluster_start, cluster_end+1)\n",
    "breed_count = oP7_DataBreed._sampling_breed_count\n",
    "img_per_breed=oP7_DataBreed._sampling_image_per_breed_count\n",
    "\n",
    "features = str(oP7_DataBreed.df_desc.shape[1])\n",
    "p_title = clustering+\" \"+features+\" features \"+str(breed_count)+\" breeds \"+str(image_per_breed_count)+\" images/breed\"\n",
    "\n",
    "p5_util_plot.gmm_models_plot_AIC_BIC(df_desc, dict_list_gmm_model, t_range_cluster, p_figsize, p_title)"
   ]
  },
  {
   "cell_type": "markdown",
   "metadata": {},
   "source": [
    "##### Silhouette score is computed and plot"
   ]
  },
  {
   "cell_type": "raw",
   "metadata": {},
   "source": [
    "import p5_util\n",
    "df_desc = oP7_DataBreed.df_desc\n",
    "dict_dict_silhouette_score = p5_util.gmm_silhouette_compute(df_desc, dict_list_gmm_model)\n",
    "\n",
    "clustering=oP7_DataBreed.cluster_model_name\n",
    "str_is_splitted = str(oP7_DataBreed.is_splitted)\n",
    "\n",
    "filename = './data/dict_dict_silhouette_score_'+str(cluster_end)+'_clusters_splitted_'+str_is_splitted+'_breeds.dump'\n",
    "p5_util.object_dump(dict_dict_silhouette_score,filename)\n"
   ]
  },
  {
   "cell_type": "raw",
   "metadata": {},
   "source": [
    "import p5_util_plot\n",
    "filename = './data/dict_dict_silhouette_score_'+str(cluster_end)+'_clusters_splitted_'+str_is_splitted+'_breeds.dump'\n",
    "dict_dict_silhouette_score = p5_util.object_load(filename)\n",
    "\n",
    "\n",
    "p_figsize=(21,14)\n",
    "areas_raws =1\n",
    "areas_colums =1\n",
    "p_title = \"GMM : silhouette\"\n",
    "p5_util_plot.gmm_models_plot_silhouette(df_desc, dict_dict_silhouette_score\\\n",
    ", p_figsize, p_title, areas_raws, areas_colums)"
   ]
  },
  {
   "cell_type": "markdown",
   "metadata": {},
   "source": [
    "##### Histogram of number of points per cluster is displayed\n",
    "\n",
    "If fixed co-variance fails, then 1st covariance is extracted from `dict_hyper_parameter`.\n",
    "<br>\n",
    "It is then supposed that only 1 covariance type has been used for hyper-parameters."
   ]
  },
  {
   "cell_type": "code",
   "execution_count": 18,
   "metadata": {},
   "outputs": [
    {
     "name": "stderr",
     "output_type": "stream",
     "text": [
      "/home/bangui/.local/lib/python3.6/site-packages/matplotlib/__init__.py:886: MatplotlibDeprecationWarning: \n",
      "examples.directory is deprecated; in the future, examples will be found relative to the 'datapath' directory.\n",
      "  \"found relative to the 'datapath' directory.\".format(key))\n"
     ]
    },
    {
     "name": "stdout",
     "output_type": "stream",
     "text": [
      "(228931, 128)\n",
      "(228931, 129)\n",
      "Clusters = [0 1 2]\n",
      "Population cumulée par cluster = 228931\n",
      "         Count\n",
      "cluster       \n",
      "0        98806\n",
      "2        98155\n",
      "1        31970\n"
     ]
    },
    {
     "data": {
      "image/png": "[encoded data removed]",
      "text/plain": [
       "<Figure size 504x504 with 1 Axes>"
      ]
     },
     "metadata": {},
     "output_type": "display_data"
    }
   ],
   "source": [
    "import p5_util\n",
    "import p5_util_plot\n",
    "n_cluster = oP7_DataBreed.sampling_breed_count\n",
    "#-----------------------------------------------------------------------------------\n",
    "# Best GMM model is updated\n",
    "#-----------------------------------------------------------------------------------\n",
    "p_covariance_type = 'full'\n",
    "try :\n",
    "    list_gmm_model = dict_list_gmm_model[p_covariance_type]\n",
    "except KeyError:\n",
    "    p_covariance_type = dict_hyper_parameter['covariance_type'][0]\n",
    "    list_gmm_model = dict_list_gmm_model[p_covariance_type]\n",
    "\n",
    "for gmm_model in list_gmm_model:\n",
    "    if n_cluster == gmm_model.n_components:\n",
    "        break\n",
    "gmm_model\n",
    "\n",
    "#-----------------------------------------------------------------------------------\n",
    "# Dictionary of clusters model is updated\n",
    "#-----------------------------------------------------------------------------------\n",
    "oP7_DataBreed.dict_cluster_model = {'GMM':gmm_model}\n",
    "\n",
    "if 'cluster' in df_desc.columns:\n",
    "    del(df_desc['cluster'])\n",
    "    \n",
    "#-----------------------------------------------------------------------------------\n",
    "# Data values (descriptors) are assigned to clusters\n",
    "#-----------------------------------------------------------------------------------\n",
    "pred_gmm = gmm_model.predict(df_desc.values)\n",
    "print(df_desc.shape)\n",
    "\n",
    "df_desc = p5_util.df_add_cluster(df_desc, pred_gmm)\n",
    "print(df_desc.shape)\n",
    "\n",
    "#-----------------------------------------------------------------------------------\n",
    "# Histogram for assignement is displayed\n",
    "#-----------------------------------------------------------------------------------\n",
    "p5_util_plot.plot_cluster_frequency(df_desc)"
   ]
  },
  {
   "cell_type": "markdown",
   "metadata": {},
   "source": [
    "## <font color='blus'>2.b Kmeans clustering</font>\n",
    "\n",
    "The number of clusters is fixed with the number of breeds into sample."
   ]
  },
  {
   "cell_type": "code",
   "execution_count": null,
   "metadata": {},
   "outputs": [],
   "source": [
    "import p5_util\n",
    "import P7_DataBreed\n",
    "#oP7_DataBreed.cluster_model_name = \n",
    "clustering='Kmeans'\n",
    "\n",
    "df_desc = oP7_DataBreed.df_desc\n",
    "\n",
    "cluster_start = 1\n",
    "cluster_end = oP7_DataBreed.sampling_breed_count\n",
    "cluster_start = cluster_end-1\n",
    "\n",
    "#clustering=oP7_DataBreed.cluster_model_name\n",
    "str_is_splitted = str(oP7_DataBreed.is_splitted)\n",
    "filename='./data/dict_list_'+clustering+'_'+str(cluster_end)+'_splitted_'+str_is_splitted+'_clusters.dump'\n",
    "\n",
    "dict_cluster_kmeans = p5_util.kmeans_scan_silhouette(df_desc, cluster_start, cluster_end+1)\n",
    "p5_util.object_dump(dict_cluster_kmeans,filename)"
   ]
  },
  {
   "cell_type": "markdown",
   "metadata": {},
   "source": [
    "# <font color='blus'>3. Supervized model </font>\n",
    "\n",
    "## <font color='blus'>3.1. Building model </font>"
   ]
  },
  {
   "cell_type": "code",
   "execution_count": 19,
   "metadata": {},
   "outputs": [
    {
     "name": "stdout",
     "output_type": "stream",
     "text": [
      "\n",
      " \n",
      "Path to data directory ........ : ./data/Images\n",
      "Number of original breeds ..... : 120\n",
      "Total number of images ........ : 20580\n",
      "Standard images size .......... : (300, 300)\n",
      "SIFT Image descriptors count .. : 2700\n",
      "Sampling : breeds count ....... : 3\n",
      "Sampling : images per breed ... : 100\n",
      "X train size .................. : 0\n",
      "y train size .................. : 0\n",
      "X test size ................... : 0\n",
      "y test size ................... : 0\n",
      "Clusters models  .............. : dict_keys(['GMM'])\n",
      "Current cluster model  ........ : GMM\n",
      "Bag of features dataframe ..... : (0, 0)\n",
      "Encoded labels from dataset ... : ()\n",
      "Number of breeds in sample .... : 3\n",
      "Image splitted ................ : True\n",
      "Key point descriptors ......... : (228931, 128)\n",
      "Classifier name ............... : \n",
      "Supported classifiers ......... : []\n",
      "Number of restricted images ... : 0\n",
      "Splitted parts ................ : (3, 3)\n",
      "Dataframe images descriptors .. : 2700 / Index(['desc', 'breed', 'kp', 'size', 'split_image', 'image_id'], dtype='object')\n",
      "KP filtering .................. : False\n",
      "Squarred images ............... : False\n",
      "Nb of breeds into sampling .... : 3\n",
      "Random image sampling ......... : False\n",
      "\n"
     ]
    }
   ],
   "source": [
    "oP7_DataBreed.cluster_model_name='GMM'\n",
    "oP7_DataBreed.show()"
   ]
  },
  {
   "cell_type": "code",
   "execution_count": 20,
   "metadata": {},
   "outputs": [
    {
     "name": "stdout",
     "output_type": "stream",
     "text": [
      "Doberman   ..... : n02107142-Doberman            \n",
      "dingo      ..... : n02115641-dingo               \n",
      "Mexican_hairless ..... : n02113978-Mexican_hairless    \n"
     ]
    }
   ],
   "source": [
    "oP7_DataBreed.show_breed_name()"
   ]
  },
  {
   "cell_type": "markdown",
   "metadata": {},
   "source": [
    "### <font color='blus'>3.1.1. Building B.O.F. </font>"
   ]
  },
  {
   "cell_type": "code",
   "execution_count": 21,
   "metadata": {},
   "outputs": [
    {
     "name": "stdout",
     "output_type": "stream",
     "text": [
      "\n",
      "***Nb of errors..............= 44\n",
      "\n",
      "***Nb of labelized images ...= 2656\n",
      "Number of referenced labels= 3\n",
      "Number of labels to be encoded= 2656\n",
      "(2656, 3)\n",
      "\n",
      "***WARN : build_datakp_bof() : errors= 44\n",
      "\n",
      " \n",
      "Path to data directory ........ : ./data/Images\n",
      "Number of original breeds ..... : 120\n",
      "Total number of images ........ : 20580\n",
      "Standard images size .......... : (300, 300)\n",
      "SIFT Image descriptors count .. : 2700\n",
      "Sampling : breeds count ....... : 3\n",
      "Sampling : images per breed ... : 100\n",
      "X train size .................. : 0\n",
      "y train size .................. : 0\n",
      "X test size ................... : 0\n",
      "y test size ................... : 0\n",
      "Clusters models  .............. : dict_keys(['GMM'])\n",
      "Current cluster model  ........ : GMM\n",
      "Bag of features dataframe ..... : (2656, 3)\n",
      "Encoded labels from dataset ... : (2656, 3)\n",
      "Number of breeds in sample .... : 3\n",
      "Image splitted ................ : True\n",
      "Key point descriptors ......... : (228931, 128)\n",
      "Classifier name ............... : \n",
      "Supported classifiers ......... : []\n",
      "Number of restricted images ... : 0\n",
      "Splitted parts ................ : (3, 3)\n",
      "Dataframe images descriptors .. : 2700 / Index(['desc', 'breed', 'kp', 'size', 'split_image', 'image_id'], dtype='object')\n",
      "KP filtering .................. : False\n",
      "Squarred images ............... : False\n",
      "Nb of breeds into sampling .... : 3\n",
      "Random image sampling ......... : False\n",
      "\n"
     ]
    }
   ],
   "source": [
    "import p5_util\n",
    "import P7_DataBreed\n",
    "\n",
    "oP7_DataBreed.build_datakp_bof()\n",
    "oP7_DataBreed.show()"
   ]
  },
  {
   "cell_type": "code",
   "execution_count": 22,
   "metadata": {},
   "outputs": [
    {
     "name": "stdout",
     "output_type": "stream",
     "text": [
      "\n",
      "Breed directory= n02107142-Doberman              Breed name= Doberman\n",
      "Breed directory= n02115641-dingo                 Breed name= dingo\n",
      "Breed directory= n02113978-Mexican_hairless      Breed name= Mexican_hairless\n"
     ]
    }
   ],
   "source": [
    "oP7_DataBreed.breed_show()"
   ]
  },
  {
   "cell_type": "code",
   "execution_count": 23,
   "metadata": {},
   "outputs": [
    {
     "name": "stdout",
     "output_type": "stream",
     "text": [
      "*** INFO : object is saved removing cv2.KeyPoint objects!\n",
      "\n",
      " \n",
      "Path to data directory ........ : ./data/Images\n",
      "Number of original breeds ..... : 120\n",
      "Total number of images ........ : 20580\n",
      "Standard images size .......... : (300, 300)\n",
      "SIFT Image descriptors count .. : 0\n",
      "Sampling : breeds count ....... : 3\n",
      "Sampling : images per breed ... : 100\n",
      "X train size .................. : 0\n",
      "y train size .................. : 0\n",
      "X test size ................... : 0\n",
      "y test size ................... : 0\n",
      "Clusters models  .............. : dict_keys(['GMM'])\n",
      "Current cluster model  ........ : GMM\n",
      "Bag of features dataframe ..... : (2656, 3)\n",
      "Encoded labels from dataset ... : (2656, 3)\n",
      "Number of breeds in sample .... : 3\n",
      "Image splitted ................ : True\n",
      "Key point descriptors ......... : (228931, 128)\n",
      "Classifier name ............... : \n",
      "Supported classifiers ......... : []\n",
      "Number of restricted images ... : 0\n",
      "Splitted parts ................ : (3, 3)\n",
      "Dataframe images descriptors .. : 2700 / Index(['desc', 'breed', 'kp', 'size', 'split_image', 'image_id'], dtype='object')\n",
      "KP filtering .................. : False\n",
      "Squarred images ............... : False\n",
      "Nb of breeds into sampling .... : 3\n",
      "Random image sampling ......... : False\n",
      "\n"
     ]
    }
   ],
   "source": [
    "import P7_DataBreed\n",
    "\n",
    "oP7_DataBreed.is_kp_filtered\n",
    "oP7_DataBreed.is_splitted\n",
    "filename='./data/oP7_DataBreed_'+str(breed_count)+'_breeds_splitted'\n",
    "filename +='_'+str(oP7_DataBreed.is_splitted)\n",
    "filename +='_KpFiltered_'+str(oP7_DataBreed.is_kp_filtered)+'.dump'\n",
    "\n",
    "oP7_DataBreed = P7_DataBreed.update_object_save(oP7_DataBreed,filename=filename\\\n",
    "                                                ,is_saved=True,is_new_attribute=True)\n",
    "oP7_DataBreed.show()"
   ]
  },
  {
   "cell_type": "markdown",
   "metadata": {},
   "source": [
    "## <font color='blus'>3.2. Model evaluation </font>"
   ]
  },
  {
   "cell_type": "markdown",
   "metadata": {},
   "source": [
    "##### Dataset is splitted into Train and test dataset "
   ]
  },
  {
   "cell_type": "code",
   "execution_count": 24,
   "metadata": {},
   "outputs": [
    {
     "name": "stdout",
     "output_type": "stream",
     "text": [
      "\n",
      " \n",
      "Path to data directory ........ : ./data/Images\n",
      "Number of original breeds ..... : 120\n",
      "Total number of images ........ : 20580\n",
      "Standard images size .......... : (300, 300)\n",
      "SIFT Image descriptors count .. : 0\n",
      "Sampling : breeds count ....... : 3\n",
      "Sampling : images per breed ... : 100\n",
      "X train size .................. : (1328, 3)\n",
      "y train size .................. : (1328, 3)\n",
      "X test size ................... : (1328, 3)\n",
      "y test size ................... : (1328, 3)\n",
      "Clusters models  .............. : dict_keys(['GMM'])\n",
      "Current cluster model  ........ : GMM\n",
      "Bag of features dataframe ..... : (2656, 3)\n",
      "Encoded labels from dataset ... : (2656, 3)\n",
      "Number of breeds in sample .... : 3\n",
      "Image splitted ................ : True\n",
      "Key point descriptors ......... : (228931, 128)\n",
      "Classifier name ............... : \n",
      "Supported classifiers ......... : []\n",
      "Number of restricted images ... : 0\n",
      "Splitted parts ................ : (3, 3)\n",
      "Dataframe images descriptors .. : 2700 / Index(['desc', 'breed', 'kp', 'size', 'split_image', 'image_id'], dtype='object')\n",
      "KP filtering .................. : False\n",
      "Squarred images ............... : False\n",
      "Nb of breeds into sampling .... : 3\n",
      "Random image sampling ......... : False\n",
      "\n"
     ]
    }
   ],
   "source": [
    "import P7_DataBreed\n",
    "\n",
    "oP7_DataBreed.train_test_build(size_test=0.5)\n",
    "oP7_DataBreed.show()"
   ]
  },
  {
   "cell_type": "code",
   "execution_count": 25,
   "metadata": {},
   "outputs": [
    {
     "name": "stdout",
     "output_type": "stream",
     "text": [
      "p5_util.object_load : fileName= ./data/dict_cls_score.dump\n"
     ]
    },
    {
     "data": {
      "text/plain": [
       "{'Bernoulli NB': 0.0,\n",
       " 'Random Forest': 0.2547933532168726,\n",
       " 'L.R. + multinomial': 0.00042607584149978694,\n",
       " 'L.R. + ovr': 0.0017044854479078544,\n",
       " 'Multinomial NB': 0.0,\n",
       " 'Gaussian NB': 0.027694929697486152,\n",
       " 'Linear SVC': 0.002982530890498509,\n",
       " 'KR Classifier': 0.0012782275244993609,\n",
       " 'VGG16 Seq': 0.46666666865348816}"
      ]
     },
     "execution_count": 25,
     "metadata": {},
     "output_type": "execute_result"
    }
   ],
   "source": [
    "import p5_util\n",
    "is_score_dumped=True\n",
    "if is_score_dumped is True :\n",
    "    filename = './data/dict_cls_score.dump'\n",
    "    dict_cls_score = p5_util.object_load(filename)\n",
    "else:\n",
    "    dict_cls_score = dict()\n",
    "dict_classifier = dict()\n",
    "dict_cls_score"
   ]
  },
  {
   "cell_type": "markdown",
   "metadata": {},
   "source": [
    "### <font color='blus'>3.2.1. Evaluation of Bernoulli NB </font>"
   ]
  },
  {
   "cell_type": "code",
   "execution_count": 27,
   "metadata": {},
   "outputs": [
    {
     "name": "stdout",
     "output_type": "stream",
     "text": [
      "0.00677710843373494\n",
      "{'estimator__alpha': 0.0001, 'n_jobs': -1}\n"
     ]
    },
    {
     "data": {
      "text/plain": [
       "{'Bernoulli NB': 0.00677710843373494,\n",
       " 'Random Forest': 0.2547933532168726,\n",
       " 'L.R. + multinomial': 0.00042607584149978694,\n",
       " 'L.R. + ovr': 0.0017044854479078544,\n",
       " 'Multinomial NB': 0.0,\n",
       " 'Gaussian NB': 0.027694929697486152,\n",
       " 'Linear SVC': 0.002982530890498509,\n",
       " 'KR Classifier': 0.0012782275244993609,\n",
       " 'VGG16 Seq': 0.46666666865348816}"
      ]
     },
     "execution_count": 27,
     "metadata": {},
     "output_type": "execute_result"
    }
   ],
   "source": [
    "from sklearn.naive_bayes import BernoulliNB\n",
    "from sklearn.preprocessing import StandardScaler\n",
    "import p6_util\n",
    "\n",
    "X_train = oP7_DataBreed.X_train\n",
    "X_test  = oP7_DataBreed.X_test\n",
    "y_train = oP7_DataBreed.y_train\n",
    "y_test  = oP7_DataBreed.y_test\n",
    "\n",
    "if False :\n",
    "    scaler = StandardScaler()\n",
    "    scaler.fit(X_train)  \n",
    "    X_train = scaler.transform(X_train)\n",
    "    X_test = scaler.transform(X_test) \n",
    "\n",
    "classifier = BernoulliNB()\n",
    "cls_name = 'Bernoulli NB'\n",
    "\n",
    "dict_param_grid = {\n",
    "    #'estimator__alpha': [ 1.e-4, 5.e-4, 1.e-3, 5.e-3, 1.e-2, 5.e-2, 1.e-1], # Best result : alfa=1E-4\n",
    "    'estimator__alpha': [ 1.e-4, ], #\n",
    "    'n_jobs': [-1]\n",
    "}\n",
    "y_pred, gscv_classifier = p6_util.p6_gscv_best_classifier(dict_param_grid, classifier, X_train, y_train\\\n",
    "                              , X_test,y_test,cv=3, iid=True)\n",
    "\n",
    "dict_cls_score[cls_name] = gscv_classifier.best_score_\n",
    "dict_classifier[cls_name]=gscv_classifier.best_estimator_\n",
    "\n",
    "if is_score_dumped is True:\n",
    "    filename = './data/dict_cls_score.dump'\n",
    "    p5_util.object_dump(dict_cls_score,filename)\n",
    "\n",
    "    filename = './data/best_dict_classifier.dump'\n",
    "    p5_util.object_dump(dict_classifier,filename)\n",
    "\n",
    "dict_cls_score\n"
   ]
  },
  {
   "cell_type": "markdown",
   "metadata": {},
   "source": [
    "### <font color='blus'>3.2.2. Random Forest</font>"
   ]
  },
  {
   "cell_type": "markdown",
   "metadata": {},
   "source": [
    "R.F. applies well when there is no linear relation between features and classes."
   ]
  },
  {
   "cell_type": "code",
   "execution_count": 28,
   "metadata": {},
   "outputs": [
    {
     "name": "stdout",
     "output_type": "stream",
     "text": [
      "0.21385542168674698\n",
      "{'estimator__n_estimators': 17}\n"
     ]
    },
    {
     "data": {
      "text/plain": [
       "{'Bernoulli NB': 0.00677710843373494,\n",
       " 'Random Forest': 0.21385542168674698,\n",
       " 'L.R. + multinomial': 0.00042607584149978694,\n",
       " 'L.R. + ovr': 0.0017044854479078544,\n",
       " 'Multinomial NB': 0.0,\n",
       " 'Gaussian NB': 0.027694929697486152,\n",
       " 'Linear SVC': 0.002982530890498509,\n",
       " 'KR Classifier': 0.0012782275244993609,\n",
       " 'VGG16 Seq': 0.46666666865348816}"
      ]
     },
     "execution_count": 28,
     "metadata": {},
     "output_type": "execute_result"
    }
   ],
   "source": [
    "from sklearn.ensemble import RandomForestClassifier\n",
    "cls_name = 'Random Forest'\n",
    "\n",
    "X_train = oP7_DataBreed.X_train\n",
    "X_test  = oP7_DataBreed.X_test\n",
    "y_train = oP7_DataBreed.y_train\n",
    "y_test  = oP7_DataBreed.y_test\n",
    "dict_param_grid = {\n",
    "    #'estimator__n_estimators': [ 100, 200, 300,], # 100, accuracy=0.295\n",
    "    #'estimator__n_estimators': [ 10,50,90,100,110], # 10, accuracy=0.297\n",
    "    #'estimator__n_estimators': [ 5,9,10,11,15], # 10, accuracy=0.55\n",
    "    'estimator__n_estimators': [ 11,13,15,17,19,21,23,25], # 10, accuracy=0\n",
    "}\n",
    "classifier = RandomForestClassifier()\n",
    "\n",
    "y_pred, gscv_classifier = p6_util.p6_gscv_best_classifier(dict_param_grid, classifier, X_train, y_train\\\n",
    "                              , X_test,y_test,cv=3, iid=True)\n",
    "\n",
    "dict_cls_score[cls_name] = gscv_classifier.best_score_\n",
    "dict_classifier[cls_name]=gscv_classifier.best_estimator_\n",
    "\n",
    "if is_score_dumped is True:\n",
    "    filename = './data/dict_cls_score.dump'\n",
    "    p5_util.object_dump(dict_cls_score,filename)\n",
    "\n",
    "    filename = './data/best_dict_classifier.dump'\n",
    "    p5_util.object_dump(dict_classifier,filename)\n",
    "\n",
    "dict_cls_score"
   ]
  },
  {
   "cell_type": "markdown",
   "metadata": {},
   "source": [
    "### <font color='blus'>3.2.3. Logistic Regression classification</font>\n",
    "\n",
    "L.R. works well if no correlation exists in between images.<br>\n",
    "This is not the case for dogs belonging the same breed.<br>"
   ]
  },
  {
   "cell_type": "code",
   "execution_count": 29,
   "metadata": {},
   "outputs": [
    {
     "name": "stdout",
     "output_type": "stream",
     "text": [
      "(1328, 3) (1328, 3) (1328, 3) (1328, 3)\n",
      "0.0\n",
      "{'estimator__C': 0.1, 'estimator__penalty': 'l2', 'estimator__solver': 'newton-cg', 'n_jobs': -1}\n"
     ]
    },
    {
     "data": {
      "text/plain": [
       "{'Bernoulli NB': 0.00677710843373494,\n",
       " 'Random Forest': 0.21385542168674698,\n",
       " 'L.R. + multinomial': 0.0,\n",
       " 'L.R. + ovr': 0.0017044854479078544,\n",
       " 'Multinomial NB': 0.0,\n",
       " 'Gaussian NB': 0.027694929697486152,\n",
       " 'Linear SVC': 0.002982530890498509,\n",
       " 'KR Classifier': 0.0012782275244993609,\n",
       " 'VGG16 Seq': 0.46666666865348816}"
      ]
     },
     "execution_count": 29,
     "metadata": {},
     "output_type": "execute_result"
    }
   ],
   "source": [
    "from sklearn.linear_model import LogisticRegression\n",
    "import p5_util\n",
    "import p6_util\n",
    "import P7_DataBreed\n",
    "\n",
    "dict_param_grid = {\n",
    "    'estimator__C': [ 1.e-1, 0.5, 1., 1.5], # Best classifier: 1.e-1, accuracy=0.41\n",
    "    #'estimator__C': [ 1.e-1, 0.5, 1., 1.5], # Best classifier: 0.1, accuracy=0.41\n",
    "    #'estimator__C': [1.e-4, 1.e-3, 1.e-2, ], # Best classifier: 0.1, accuracy=0.41\n",
    "    'estimator__solver':['newton-cg', 'lbfgs' ,'sag'],\n",
    "    'estimator__penalty': ['l2'],\n",
    "    'n_jobs': [-1]\n",
    "}\n",
    "cls_name = 'L.R. + multinomial'\n",
    "\n",
    "X_train = oP7_DataBreed.X_train\n",
    "X_test  = oP7_DataBreed.X_test\n",
    "y_train = oP7_DataBreed.y_train\n",
    "y_test  = oP7_DataBreed.y_test\n",
    "classifier = LogisticRegression(multi_class='multinomial',solver='newton-cg')\n",
    "\n",
    "print(X_train.shape, y_train.shape, X_test.shape, y_test.shape)\n",
    "y_pred, gscv_classifier = p6_util.p6_gscv_best_classifier(dict_param_grid, classifier, X_train, y_train\\\n",
    "                              , X_test,y_test,cv=3, iid=True)\n",
    "\n",
    "classifier  = gscv_classifier.best_estimator_\n",
    "best_score_ = gscv_classifier.best_score_\n",
    "\n",
    "dict_classifier[cls_name]=classifier\n",
    "dict_cls_score[cls_name] = best_score_\n",
    "\n",
    "\n",
    "if is_score_dumped is True:\n",
    "    filename = './data/dict_cls_score.dump'\n",
    "    p5_util.object_dump(dict_cls_score,filename)\n",
    "\n",
    "    filename = './data/best_dict_classifier.dump'\n",
    "    p5_util.object_dump(dict_classifier,filename)\n",
    "\n",
    "\n",
    "dict_cls_score"
   ]
  },
  {
   "cell_type": "markdown",
   "metadata": {},
   "source": [
    "### <font color='blus'>3.2.4. Evaluation of Logictic regression with hyper-parameter `multi_class='ovr'`</font>"
   ]
  },
  {
   "cell_type": "code",
   "execution_count": 30,
   "metadata": {},
   "outputs": [
    {
     "name": "stdout",
     "output_type": "stream",
     "text": [
      "(1328, 3) (1328, 3) (1328, 3) (1328, 3)\n",
      "0.020326241279633922\n",
      "{'estimator__C': 110.0, 'estimator__penalty': 'l2', 'estimator__solver': 'newton-cg', 'n_jobs': -1}\n"
     ]
    },
    {
     "data": {
      "text/plain": [
       "{'Bernoulli NB': 0.00677710843373494,\n",
       " 'Random Forest': 0.21385542168674698,\n",
       " 'L.R. + multinomial': 0.0,\n",
       " 'L.R. + ovr': 0.020326241279633922,\n",
       " 'Multinomial NB': 0.0,\n",
       " 'Gaussian NB': 0.027694929697486152,\n",
       " 'Linear SVC': 0.002982530890498509,\n",
       " 'KR Classifier': 0.0012782275244993609,\n",
       " 'VGG16 Seq': 0.46666666865348816}"
      ]
     },
     "execution_count": 30,
     "metadata": {},
     "output_type": "execute_result"
    }
   ],
   "source": [
    "from sklearn.linear_model import LogisticRegression\n",
    "import p5_util\n",
    "import p6_util\n",
    "import P7_DataBreed\n",
    "\n",
    "dict_param_grid = {\n",
    "    #'estimator__C': [ 1.e-1, 0.5, 1., 1.5], # Best classifier: 1.5, accuracy=0.27\n",
    "    #'estimator__C': [ 1.5, 2.0, 2.5], # Best classifier: 2.5, accuracy>0.27\n",
    "    #'estimator__C': [2.5, 5.0, 10., ], # Best classifier: 10.0 , accuracy=0.28\n",
    "    #'estimator__C': [10., 50., 100., ], # Best classifier: 100.0 , accuracy=0.29\n",
    "    'estimator__C': [90.,100., 110.,], # Best classifier: 90.0 , accuracy=0.287\n",
    "    'estimator__solver':['newton-cg', 'lbfgs' ,'sag','liblinear'],\n",
    "    #'estimator__solver':[ 'saga','liblinear'],\n",
    "    'estimator__penalty': ['l2'],\n",
    "    'n_jobs': [-1]\n",
    "}\n",
    "cls_name = 'L.R. + ovr'\n",
    "\n",
    "X_train = oP7_DataBreed.X_train\n",
    "X_test  = oP7_DataBreed.X_test\n",
    "y_train = oP7_DataBreed.y_train\n",
    "y_test  = oP7_DataBreed.y_test\n",
    "classifier = LogisticRegression(multi_class='ovr')\n",
    "\n",
    "print(X_train.shape, y_train.shape, X_test.shape, y_test.shape)\n",
    "y_pred, gscv_classifier = p6_util.p6_gscv_best_classifier(dict_param_grid, classifier, X_train, y_train\\\n",
    "                              , X_test,y_test,cv=3, iid=False)\n",
    "\n",
    "classifier  = gscv_classifier.best_estimator_\n",
    "best_score_ = gscv_classifier.best_score_\n",
    "\n",
    "dict_classifier[cls_name]=classifier\n",
    "dict_cls_score[cls_name] = best_score_\n",
    "\n",
    "if is_score_dumped is True:\n",
    "    filename = './data/dict_cls_score.dump'\n",
    "    p5_util.object_dump(dict_cls_score,filename)\n",
    "\n",
    "    filename = './data/best_dict_classifier.dump'\n",
    "    p5_util.object_dump(dict_classifier,filename)\n",
    "\n",
    "dict_cls_score"
   ]
  },
  {
   "cell_type": "markdown",
   "metadata": {},
   "source": [
    "### <font color='blus'>3.2.5. Evaluation of Multinomial NB</font>"
   ]
  },
  {
   "cell_type": "code",
   "execution_count": 31,
   "metadata": {},
   "outputs": [
    {
     "name": "stdout",
     "output_type": "stream",
     "text": [
      "0.0\n",
      "{'estimator__alpha': 1e-05, 'n_jobs': -1}\n"
     ]
    },
    {
     "data": {
      "text/plain": [
       "{'Bernoulli NB': 0.00677710843373494,\n",
       " 'Random Forest': 0.21385542168674698,\n",
       " 'L.R. + multinomial': 0.0,\n",
       " 'L.R. + ovr': 0.020326241279633922,\n",
       " 'Multinomial NB': 0.0,\n",
       " 'Gaussian NB': 0.027694929697486152,\n",
       " 'Linear SVC': 0.002982530890498509,\n",
       " 'KR Classifier': 0.0012782275244993609,\n",
       " 'VGG16 Seq': 0.46666666865348816}"
      ]
     },
     "execution_count": 31,
     "metadata": {},
     "output_type": "execute_result"
    }
   ],
   "source": [
    "from sklearn.naive_bayes import MultinomialNB\n",
    "\n",
    "X_train = oP7_DataBreed.X_train\n",
    "X_test  = oP7_DataBreed.X_test\n",
    "y_train = oP7_DataBreed.y_train\n",
    "y_test  = oP7_DataBreed.y_test\n",
    "\n",
    "cls_name = 'Multinomial NB'\n",
    "classifier = MultinomialNB()\n",
    "dict_param_grid = {\n",
    "    #'estimator__alpha': [ 1.e-3, 5.e-2, 1.e-1, 5.e-1, 1.], #1.e-3 : Accuracy 0.0\n",
    "    'estimator__alpha': [ 1.e-5, 1.e-4, 1.e-3,], #1.e-3 : Accuracy 0.0\n",
    "    'n_jobs': [-1]\n",
    "}\n",
    "\n",
    "y_pred, gscv_classifier = p6_util.p6_gscv_best_classifier(dict_param_grid, classifier, X_train, y_train\\\n",
    "                              , X_test,y_test,cv=3, iid=True)\n",
    "\n",
    "dict_cls_score[cls_name] = gscv_classifier.best_score_\n",
    "dict_classifier[cls_name]=gscv_classifier.best_estimator_\n",
    "\n",
    "if is_score_dumped is True:\n",
    "    filename = './data/dict_cls_score.dump'\n",
    "    p5_util.object_dump(dict_cls_score,filename)\n",
    "\n",
    "    filename = './data/best_dict_classifier.dump'\n",
    "    p5_util.object_dump(dict_classifier,filename)\n",
    "dict_cls_score"
   ]
  },
  {
   "cell_type": "markdown",
   "metadata": {},
   "source": [
    "### <font color='blus'>3.2.6. Evaluation of Gaussian NB</font>"
   ]
  },
  {
   "cell_type": "code",
   "execution_count": 32,
   "metadata": {},
   "outputs": [
    {
     "name": "stdout",
     "output_type": "stream",
     "text": [
      "0.08734939759036145\n",
      "{}\n"
     ]
    },
    {
     "data": {
      "text/plain": [
       "{'Bernoulli NB': 0.00677710843373494,\n",
       " 'Random Forest': 0.21385542168674698,\n",
       " 'L.R. + multinomial': 0.0,\n",
       " 'L.R. + ovr': 0.020326241279633922,\n",
       " 'Multinomial NB': 0.0,\n",
       " 'Gaussian NB': 0.08734939759036145,\n",
       " 'Linear SVC': 0.002982530890498509,\n",
       " 'KR Classifier': 0.0012782275244993609,\n",
       " 'VGG16 Seq': 0.46666666865348816}"
      ]
     },
     "execution_count": 32,
     "metadata": {},
     "output_type": "execute_result"
    }
   ],
   "source": [
    "from sklearn.naive_bayes import GaussianNB\n",
    "from scipy import sparse\n",
    "\n",
    "\n",
    "X_train = oP7_DataBreed.X_train\n",
    "X_test  = oP7_DataBreed.X_test\n",
    "y_train = oP7_DataBreed.y_train\n",
    "y_test  = oP7_DataBreed.y_test\n",
    "\n",
    "cls_name = 'Gaussian NB'\n",
    "classifier = GaussianNB()\n",
    "\n",
    "dict_param_grid = dict()\n",
    "y_pred, gscv_classifier = p6_util.p6_gscv_best_classifier(dict_param_grid, classifier, X_train, y_train\\\n",
    "                              , X_test,y_test,cv=3, iid=True)\n",
    "\n",
    "dict_cls_score[cls_name] = gscv_classifier.best_score_\n",
    "dict_classifier[cls_name]=gscv_classifier.best_estimator_\n",
    "\n",
    "if is_score_dumped is True:\n",
    "    filename = './data/dict_cls_score.dump'\n",
    "    p5_util.object_dump(dict_cls_score,filename)\n",
    "\n",
    "    filename = './data/best_dict_classifier.dump'\n",
    "    p5_util.object_dump(dict_classifier,filename)\n",
    "dict_cls_score"
   ]
  },
  {
   "cell_type": "markdown",
   "metadata": {},
   "source": [
    "### <font color='blus'>3.2.7. Linear SVC</font>"
   ]
  },
  {
   "cell_type": "code",
   "execution_count": 33,
   "metadata": {},
   "outputs": [
    {
     "name": "stdout",
     "output_type": "stream",
     "text": [
      "0.0391566265060241\n",
      "{'estimator__C': 200, 'n_jobs': -1}\n"
     ]
    },
    {
     "data": {
      "text/plain": [
       "{'Bernoulli NB': 0.00677710843373494,\n",
       " 'Random Forest': 0.21385542168674698,\n",
       " 'L.R. + multinomial': 0.0,\n",
       " 'L.R. + ovr': 0.020326241279633922,\n",
       " 'Multinomial NB': 0.0,\n",
       " 'Gaussian NB': 0.08734939759036145,\n",
       " 'Linear SVC': 0.0391566265060241,\n",
       " 'KR Classifier': 0.0012782275244993609,\n",
       " 'VGG16 Seq': 0.46666666865348816}"
      ]
     },
     "execution_count": 33,
     "metadata": {},
     "output_type": "execute_result"
    }
   ],
   "source": [
    "from sklearn.svm import LinearSVC\n",
    "\n",
    "nb_estimators=100\n",
    "cls_name = 'Linear SVC'\n",
    "\n",
    "X_train = oP7_DataBreed.X_train\n",
    "X_test  = oP7_DataBreed.X_test\n",
    "y_train = oP7_DataBreed.y_train\n",
    "y_test  = oP7_DataBreed.y_test\n",
    "\n",
    "dict_param_grid = {\n",
    "        #'estimator__C': [ 1e-1,5e-1,1.,0.5,10], # 10 / 0.282%\n",
    "        #'estimator__C': [ 10,20,30], # 30 / 0.283%\n",
    "        'estimator__C': [ 30, 50,100,200], # 100 / 0.283%\n",
    "        'n_jobs': [-1]\n",
    "}\n",
    "classifier = LinearSVC(multi_class='ovr')\n",
    "\n",
    "y_pred, gscv_classifier = p6_util.p6_gscv_best_classifier(dict_param_grid, classifier, X_train, y_train\\\n",
    "                              , X_test,y_test,cv=3, iid=True)\n",
    "\n",
    "dict_cls_score[cls_name] = gscv_classifier.best_score_\n",
    "dict_classifier[cls_name]=gscv_classifier.best_estimator_\n",
    "\n",
    "if is_score_dumped is True:\n",
    "    filename = './data/dict_cls_score.dump'\n",
    "    p5_util.object_dump(dict_cls_score,filename)\n",
    "\n",
    "    filename = './data/best_dict_classifier.dump'\n",
    "    p5_util.object_dump(dict_classifier,filename)\n",
    "\n",
    "dict_cls_score"
   ]
  },
  {
   "cell_type": "markdown",
   "metadata": {},
   "source": [
    "### <font color='blus'>3.2.8. Kernel Ridge</font>"
   ]
  },
  {
   "cell_type": "code",
   "execution_count": 34,
   "metadata": {},
   "outputs": [
    {
     "name": "stdout",
     "output_type": "stream",
     "text": [
      "0.017319277108433735\n",
      "{'estimator__alpha': 0.05, 'n_jobs': -1}\n"
     ]
    },
    {
     "data": {
      "text/plain": [
       "{'Bernoulli NB': 0.00677710843373494,\n",
       " 'Random Forest': 0.21385542168674698,\n",
       " 'L.R. + multinomial': 0.0,\n",
       " 'L.R. + ovr': 0.020326241279633922,\n",
       " 'Multinomial NB': 0.0,\n",
       " 'Gaussian NB': 0.08734939759036145,\n",
       " 'Linear SVC': 0.0391566265060241,\n",
       " 'KR Classifier': 0.017319277108433735,\n",
       " 'VGG16 Seq': 0.46666666865348816}"
      ]
     },
     "execution_count": 34,
     "metadata": {},
     "output_type": "execute_result"
    }
   ],
   "source": [
    "from sklearn.linear_model import RidgeClassifier\n",
    "\n",
    "cls_name = 'Kernel Ridge'\n",
    "\n",
    "X_train = oP7_DataBreed.X_train\n",
    "X_test  = oP7_DataBreed.X_test\n",
    "y_train = oP7_DataBreed.y_train\n",
    "y_test  = oP7_DataBreed.y_test\n",
    "dict_param_grid = {\n",
    "    'estimator__alpha': [ 0.05,0.1,0.15],# 0.1 / 0.32%\n",
    "    'n_jobs': [-1]\n",
    "}\n",
    "cls_name='KR Classifier'\n",
    "classifier = RidgeClassifier()\n",
    "\n",
    "y_pred, gscv_classifier = p6_util.p6_gscv_best_classifier(dict_param_grid, classifier, X_train, y_train\\\n",
    "                              , X_test,y_test,cv=3, iid=True)\n",
    "\n",
    "dict_cls_score[cls_name] = gscv_classifier.best_score_\n",
    "dict_classifier[cls_name]=gscv_classifier.best_estimator_\n",
    "\n",
    "if is_score_dumped is True:\n",
    "    filename = './data/dict_cls_score.dump'\n",
    "    p5_util.object_dump(dict_cls_score,filename)\n",
    "\n",
    "    filename = './data/best_dict_classifier.dump'\n",
    "    p5_util.object_dump(dict_classifier,filename)\n",
    "\n",
    "dict_cls_score"
   ]
  },
  {
   "cell_type": "markdown",
   "metadata": {},
   "source": [
    "### <font color='blus'>3.2.9. Benchmark results</font>"
   ]
  },
  {
   "cell_type": "code",
   "execution_count": 35,
   "metadata": {},
   "outputs": [
    {
     "name": "stdout",
     "output_type": "stream",
     "text": [
      "\n",
      " \n",
      "Path to data directory ........ : ./data/Images\n",
      "Number of original breeds ..... : 120\n",
      "Total number of images ........ : 20580\n",
      "Standard images size .......... : (300, 300)\n",
      "SIFT Image descriptors count .. : 0\n",
      "Sampling : breeds count ....... : 3\n",
      "Sampling : images per breed ... : 100\n",
      "X train size .................. : (1328, 3)\n",
      "y train size .................. : (1328, 3)\n",
      "X test size ................... : (1328, 3)\n",
      "y test size ................... : (1328, 3)\n",
      "Clusters models  .............. : dict_keys(['GMM'])\n",
      "Current cluster model  ........ : GMM\n",
      "Bag of features dataframe ..... : (2656, 3)\n",
      "Encoded labels from dataset ... : (2656, 3)\n",
      "Number of breeds in sample .... : 3\n",
      "Image splitted ................ : True\n",
      "Key point descriptors ......... : (228931, 128)\n",
      "Classifier name ............... : \n",
      "Supported classifiers ......... : []\n",
      "Number of restricted images ... : 0\n",
      "Splitted parts ................ : (3, 3)\n",
      "Dataframe images descriptors .. : 2700 / Index(['desc', 'breed', 'kp', 'size', 'split_image', 'image_id'], dtype='object')\n",
      "KP filtering .................. : False\n",
      "Squarred images ............... : False\n",
      "Nb of breeds into sampling .... : 3\n",
      "Random image sampling ......... : False\n",
      "\n"
     ]
    }
   ],
   "source": [
    "oP7_DataBreed.show()"
   ]
  },
  {
   "cell_type": "code",
   "execution_count": 36,
   "metadata": {},
   "outputs": [
    {
     "data": {
      "image/png": "[encoded data removed]",
      "text/plain": [
       "<Figure size 1440x720 with 1 Axes>"
      ]
     },
     "metadata": {},
     "output_type": "display_data"
    },
    {
     "data": {
      "text/plain": [
       "{'Bernoulli NB': 0.00677710843373494,\n",
       " 'Random Forest': 0.21385542168674698,\n",
       " 'L.R. + multinomial': 0.0,\n",
       " 'L.R. + ovr': 0.020326241279633922,\n",
       " 'Multinomial NB': 0.0,\n",
       " 'Gaussian NB': 0.08734939759036145,\n",
       " 'Linear SVC': 0.0391566265060241,\n",
       " 'KR Classifier': 0.017319277108433735,\n",
       " 'VGG16 Seq': 0.46666666865348816}"
      ]
     },
     "execution_count": 36,
     "metadata": {},
     "output_type": "execute_result"
    }
   ],
   "source": [
    "import pandas as pd\n",
    "import p5_util\n",
    "import p6_util_plot\n",
    "\n",
    "dict_benchmark_result = dict_cls_score.copy()\n",
    "\n",
    "df_result = pd.DataFrame.from_dict( dict_benchmark_result, orient='index')\n",
    "df_result.reset_index(inplace=True)\n",
    "df_result.rename(columns={'index':'Classifier',0:'Score'}, inplace=True)\n",
    "df_result\n",
    "nb_images = oP7_DataBreed._sampling_breed_count*oP7_DataBreed._sampling_image_per_breed_count\n",
    "nb_images = oP7_DataBreed.df_pil_image_kpdesc.shape[0]\n",
    "if oP7_DataBreed.is_kp_filtered :\n",
    "    title = \"Benchmark classifiers accuracy / GMM clustering / \"+str(nb_images)+\" filtered splitted images / \"+str(oP7_DataBreed.sampling_breed_count)+\" breeds\"\n",
    "else :\n",
    "    title = \"Benchmark classifiers accuracy / GMM clustering / \"+str(nb_images)+\" splitted images / \"+str(oP7_DataBreed.sampling_breed_count)+\" breeds\"\n",
    "\n",
    "p6_util_plot.ser_item_occurency_plot(df_result.Classifier, df_result.Score*100, item_count=None, title=title,\\\n",
    "                                    p_reverse=False,p_x_title='Classifiers', p_y_title='Accuracy')\n",
    "\n",
    "#### Classifier API\n",
    "\n",
    "dict_cls_score"
   ]
  },
  {
   "cell_type": "code",
   "execution_count": 37,
   "metadata": {},
   "outputs": [
    {
     "name": "stdout",
     "output_type": "stream",
     "text": [
      "\n",
      " \n",
      "Path to data directory ........ : ./data/Images\n",
      "Number of original breeds ..... : 120\n",
      "Total number of images ........ : 20580\n",
      "Standard images size .......... : (300, 300)\n",
      "SIFT Image descriptors count .. : 0\n",
      "Sampling : breeds count ....... : 3\n",
      "Sampling : images per breed ... : 100\n",
      "X train size .................. : (1328, 3)\n",
      "y train size .................. : (1328, 3)\n",
      "X test size ................... : (1328, 3)\n",
      "y test size ................... : (1328, 3)\n",
      "Clusters models  .............. : dict_keys(['GMM'])\n",
      "Current cluster model  ........ : GMM\n",
      "Bag of features dataframe ..... : (2656, 3)\n",
      "Encoded labels from dataset ... : (2656, 3)\n",
      "Number of breeds in sample .... : 3\n",
      "Image splitted ................ : True\n",
      "Key point descriptors ......... : (228931, 128)\n",
      "Classifier name ............... : \n",
      "Supported classifiers ......... : []\n",
      "Number of restricted images ... : 0\n",
      "Splitted parts ................ : (3, 3)\n",
      "Dataframe images descriptors .. : 2700 / Index(['desc', 'breed', 'kp', 'size', 'split_image', 'image_id'], dtype='object')\n",
      "KP filtering .................. : False\n",
      "Squarred images ............... : False\n",
      "Nb of breeds into sampling .... : 3\n",
      "Random image sampling ......... : False\n",
      "\n",
      "Doberman   ..... : n02107142-Doberman            \n",
      "dingo      ..... : n02115641-dingo               \n",
      "Mexican_hairless ..... : n02113978-Mexican_hairless    \n"
     ]
    }
   ],
   "source": [
    "oP7_DataBreed.show()\n",
    "oP7_DataBreed.show_breed_name()"
   ]
  },
  {
   "cell_type": "code",
   "execution_count": null,
   "metadata": {},
   "outputs": [],
   "source": []
  }
 ],
 "metadata": {
  "kernelspec": {
   "display_name": "Python 3",
   "language": "python",
   "name": "python3"
  },
  "language_info": {
   "codemirror_mode": {
    "name": "ipython",
    "version": 3
   },
   "file_extension": ".py",
   "mimetype": "text/x-python",
   "name": "python",
   "nbconvert_exporter": "python",
   "pygments_lexer": "ipython3",
   "version": "3.6.8"
  }
 },
 "nbformat": 4,
 "nbformat_minor": 2
}
