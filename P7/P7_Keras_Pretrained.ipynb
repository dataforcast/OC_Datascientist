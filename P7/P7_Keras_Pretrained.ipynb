{
 "cells": [
  {
   "cell_type": "code",
   "execution_count": null,
   "metadata": {},
   "outputs": [],
   "source": [
    "%load_ext autoreload\n",
    "%autoreload 2\n",
    "%reload_ext autoreload"
   ]
  },
  {
   "cell_type": "code",
   "execution_count": null,
   "metadata": {},
   "outputs": [],
   "source": [
    "import p5_util\n",
    "\n",
    "import P7_DataBreed\n",
    "oP7_DataBreed = p5_util.object_load('./data/oP7_DataBreed.dump')\n",
    "oP7_DataBreed.show()\n",
    "oP7_DataBreed.breed_show()\n"
   ]
  },
  {
   "cell_type": "markdown",
   "metadata": {},
   "source": [
    "# Building a new model from pre-trained VGG16\n",
    "\n",
    "`VGG16` is a CNN network provided by / implemented in `Keras` with 16 layers."
   ]
  },
  {
   "cell_type": "code",
   "execution_count": null,
   "metadata": {},
   "outputs": [],
   "source": [
    "from keras.applications.vgg16 import VGG16\n",
    "import p5_util\n",
    "\n",
    "model = VGG16() \n",
    "\n",
    "if False :\n",
    "    filename = './data/vgg16_pretrained.dump'\n",
    "    p5_util.object_dump(model,filename)"
   ]
  },
  {
   "cell_type": "code",
   "execution_count": null,
   "metadata": {},
   "outputs": [],
   "source": [
    "type(model)"
   ]
  },
  {
   "cell_type": "markdown",
   "metadata": {},
   "source": [
    "#### A breed and an image is selected and displayed"
   ]
  },
  {
   "cell_type": "code",
   "execution_count": null,
   "metadata": {},
   "outputs": [],
   "source": [
    "oP7_DataBreed.breed_show()"
   ]
  },
  {
   "cell_type": "code",
   "execution_count": null,
   "metadata": {},
   "outputs": [],
   "source": [
    "import P7_DataBreed\n",
    "\n",
    "oP7_DataBreed.show_image_name('Mexican_hairless')"
   ]
  },
  {
   "cell_type": "code",
   "execution_count": null,
   "metadata": {},
   "outputs": [],
   "source": [
    "import cv2\n",
    "\n",
    "import p3_util\n",
    "import p3_util_plot\n",
    "\n",
    "\n",
    "import P7_DataBreed\n",
    "import p7_util\n",
    "\n",
    "breedname='Doberman'\n",
    "imagename='n02107142_16400.jpg'\n",
    "imagename='n02107142_4314.jpg'\n",
    "\n",
    "oP7_DataBreed_single = P7_DataBreed.P7_DataBreed()\n",
    "oP7_DataBreed_single._dict_breed_sample=oP7_DataBreed._dict_breed_sample.copy()\n",
    "\n",
    "list_restricted_image = [(breedname,[imagename])]\n",
    "oP7_DataBreed_single.list_restricted_image = list_restricted_image\n",
    "\n",
    "oP7_DataBreed_single.load(dirbreed='n02107142-Doberman', imagename=imagename)\n",
    "\n",
    "p7_util.p7_image_pil_show(oP7_DataBreed_single._dict_img_pil,std_image_size=(500,375), is_title=False)"
   ]
  },
  {
   "cell_type": "code",
   "execution_count": null,
   "metadata": {},
   "outputs": [],
   "source": [
    "from keras.preprocessing.image import load_img, img_to_array\n",
    "from keras.applications import vgg16\n",
    "\n",
    "\n",
    "image_pathname = oP7_DataBreed._build_pathname(dirbreed,imagename)\n",
    "\n",
    "# Charger l'image PIL\n",
    "pil_image = load_img(image_pathname, target_size=(224, 224))  \n",
    "\n",
    "# Convertir en tableau numpy\n",
    "arr_image = img_to_array(pil_image)  \n",
    "\n",
    "# Créer la collection d'images (un seul échantillon)\n",
    "arr_image = img.reshape((1, arr_image.shape[0], arr_image.shape[1], arr_image.shape[2]))  \n",
    "X_test = vgg16.preprocess_input(arr_image)  # Prétraiter l'image comme le veut VGG-16\n",
    "\n",
    "y_pred = model.predict(X_test)\n",
    "\n",
    "\n",
    "# Afficher les 3 classes les plus probables\n",
    "[print(my_tuple) for my_tuple in vgg16.decode_predictions(y_pred, top=3)[0]]\n",
    "\n",
    "oP7_DataBreed.breed_show()\n"
   ]
  },
  {
   "cell_type": "code",
   "execution_count": null,
   "metadata": {},
   "outputs": [],
   "source": [
    "vgg16.decode_predictions(y_pred, top=3)[0]"
   ]
  },
  {
   "cell_type": "code",
   "execution_count": null,
   "metadata": {},
   "outputs": [],
   "source": [
    "#print('Top 3 :', vgg16.decode_predictions(y_pred, top=3)[0])\n",
    "print('Top 3 : {}'.format([my_tuple for my_tuple in vgg16.decode_predictions(y_pred, top=3)[0]]))"
   ]
  },
  {
   "cell_type": "markdown",
   "metadata": {},
   "source": [
    "# Transfer Learning from `VGG16`"
   ]
  },
  {
   "cell_type": "code",
   "execution_count": null,
   "metadata": {},
   "outputs": [],
   "source": [
    "import p5_util\n",
    "\n",
    "import P7_DataBreed\n",
    "oP7_DataBreed = p5_util.object_load('./data/oP7_DataBreed.dump')\n",
    "oP7_DataBreed.show()\n",
    "oP7_DataBreed.breed_show()"
   ]
  },
  {
   "cell_type": "code",
   "execution_count": null,
   "metadata": {},
   "outputs": [],
   "source": [
    "nbreed = oP7_DataBreed.sampling_breed_count\n",
    "nbreed"
   ]
  },
  {
   "cell_type": "markdown",
   "metadata": {},
   "source": [
    "#### Download a VGG16 model that has been pre-trained with imageNet  : \n",
    "* last fully connected layers are removed; in the resulting model only convolutional layers stay.\n",
    "* Image reshape is enforced to (224,224,3)"
   ]
  },
  {
   "cell_type": "code",
   "execution_count": null,
   "metadata": {},
   "outputs": [],
   "source": [
    "from keras.applications.vgg16 import VGG16\n",
    "from keras.layers import Dense\n",
    "import p5_util\n",
    "if False :\n",
    "    # Load ImageNet pre-trained model from VGG-16 \n",
    "    # Option include_top=False leads to remove last Fully connected layer.\n",
    "    # VGG16 model is downloaed from network.\n",
    "    vgg16_pretrained_model = VGG16(weights=\"imagenet\", include_top=False, input_shape=(224, 224, 3))\n",
    "    p5_util.object_dump(vgg16_model,'./data/vgg16_pretrained_model.dump')\n",
    "else :\n",
    "    vgg16_pretrained_model = p5_util.object_load('./data/vgg16_pretrained_model.dump')"
   ]
  },
  {
   "cell_type": "markdown",
   "metadata": {},
   "source": [
    "#### Transfer learning model is built\n",
    "* Output of all layers previous top layer are extracted.\n",
    "* A new fully connected layer (dense layer) is built using previous layer as an input layer"
   ]
  },
  {
   "cell_type": "code",
   "execution_count": null,
   "metadata": {},
   "outputs": [],
   "source": [
    "from keras import models\n",
    "from keras import layers\n",
    "\n",
    "# Outputs parameters are retrieved from previous layers\n",
    "vgg16_model_tensor = vgg16_pretrained_model.output\n",
    "\n",
    "# A new fully connected layer is then added in order to classify nbreeds breeds.\n",
    "# Activation function is Softmax; This last layer is applied to the data input vgg16_model_parameters\n",
    "vgg16_fc_tensor = layers.Dense(nbreed, activation='softmax')(vgg16_model_tensor)\n",
    "\n",
    "# New VGG16 model for transfer learning is defined with : \n",
    "# * All layers except last layer are issued from \n",
    "# * fully connected layer previously defined.\n",
    "model_vgg16_transfer_learning = models.Model(inputs=vgg16_pretrained_model.input, outputs=vgg16_fc_tensor)\n",
    "type(model_vgg16_transfer_learning)"
   ]
  },
  {
   "cell_type": "markdown",
   "metadata": {},
   "source": [
    "#### Compilation : shape of all internal layers are computed by compiler"
   ]
  },
  {
   "cell_type": "code",
   "execution_count": null,
   "metadata": {},
   "outputs": [],
   "source": [
    "# Compiler le modèle \n",
    "from keras import optimizers\n",
    "\n",
    "model_vgg16_transfer_learning.compile(loss=\"categorical_crossentropy\", optimizer=optimizers.SGD(lr=0.0001, momentum=0.9), metrics=[\"accuracy\"])"
   ]
  },
  {
   "cell_type": "code",
   "execution_count": null,
   "metadata": {},
   "outputs": [],
   "source": [
    "import numpy as np\n",
    "import p5_util\n",
    "\n",
    "filename='./data/arr_keras_X_y_train_test.dump'\n",
    "(X_train,X_test, y_train, y_test) = p5_util.object_load(filename)\n",
    "print(X_train.shape,X_test.shape,y_train.shape,y_test.shape)\n",
    "if False :\n",
    "    n_xtrain = int((X_train.shape[0]*X_train.shape[1]*X_train.shape[2]*X_train.shape[3])/(7*7*512))\n",
    "    print(n_xtrain)\n",
    "\n",
    "    n_ytrain = int((y_train.shape[0]*y_train.shape[1])/(7*7*512))\n",
    "    print(n_ytrain)\n",
    "\n",
    "    X_train = X_train.reshape((n_xtrain, 7, 7, 512))\n",
    "    #y_train = y_train.reshape((n_ytrain, 7, 7, 512))\n",
    "    print(X_train.shape, y_train.shape)\n",
    "    np.unique(y_train)"
   ]
  },
  {
   "cell_type": "code",
   "execution_count": null,
   "metadata": {},
   "outputs": [],
   "source": [
    "n_ytrain = int((y_train.shape[0]*y_train.shape[1])/(7*7*3))\n",
    "print(n_ytrain)\n",
    "y_train.shape,7*7*3"
   ]
  },
  {
   "cell_type": "code",
   "execution_count": null,
   "metadata": {},
   "outputs": [],
   "source": [
    "#help(model_vgg16_transfer_learning.fit)\n",
    "model_vgg16_transfer_learning.summary()"
   ]
  },
  {
   "cell_type": "code",
   "execution_count": null,
   "metadata": {},
   "outputs": [],
   "source": [
    "# Entraîner sur les données d'entraînement (X_train, y_train)\n",
    "model_info = model_vgg16_transfer_learning.fit(X_train, y_train, epochs=1, batch_size=None, verbose=2)"
   ]
  },
  {
   "cell_type": "markdown",
   "metadata": {},
   "source": [
    "## Total fine-tuning\n",
    "\n",
    "On remplace la dernière couche fully-connected du réseau pré-entraîné par un classifieur adapté au nouveau problème (SVM, régression logistique...) et initialisé de manière aléatoire. Toutes les couches sont ensuite entraînées sur les nouvelles images. \n",
    "\n",
    "La stratégie #1 doit être utilisée lorsque la nouvelle collection d'images est grande : dans ce cas, on peut se permettre d'entraîner tout le réseau sans courir le risque d'overfitting. De plus, comme les paramètres de toutes les couches (sauf de la dernière) sont initialement ceux du réseau pré-entraîné, la phase d'apprentissage sera faite plus rapidement que si l'initialisation avait été aléatoire."
   ]
  },
  {
   "cell_type": "code",
   "execution_count": null,
   "metadata": {},
   "outputs": [],
   "source": []
  }
 ],
 "metadata": {
  "kernelspec": {
   "display_name": "Python 3",
   "language": "python",
   "name": "python3"
  },
  "language_info": {
   "codemirror_mode": {
    "name": "ipython",
    "version": 3
   },
   "file_extension": ".py",
   "mimetype": "text/x-python",
   "name": "python",
   "nbconvert_exporter": "python",
   "pygments_lexer": "ipython3",
   "version": "3.6.8"
  }
 },
 "nbformat": 4,
 "nbformat_minor": 2
}
