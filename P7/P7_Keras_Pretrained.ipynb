{
 "cells": [
  {
   "cell_type": "code",
   "execution_count": 1,
   "metadata": {},
   "outputs": [],
   "source": [
    "%load_ext autoreload\n",
    "%autoreload 2\n",
    "%reload_ext autoreload"
   ]
  },
  {
   "cell_type": "markdown",
   "metadata": {},
   "source": [
    "# <font color='blus'>1. Breeds classification using pre-trained VGG16 model</font>\n",
    "`VGG16` is a CNN network provided by / implemented in `Keras` with 16 layers.\n",
    "<br>\n",
    "\n",
    "While convolutional layers are used for features extraction, fully connected layers are used for classification.\n",
    "<br>\n",
    "\n",
    "Those 2 set of layers are used here to classify images as breeds, since breeds have already been learned by network.\n",
    "\n"
   ]
  },
  {
   "cell_type": "code",
   "execution_count": null,
   "metadata": {},
   "outputs": [],
   "source": [
    "import P7_DataBreed\n",
    "if False :\n",
    "    oP7_DataBreed = P7_DataBreed.update_object_save(oP7_DataBreed, is_saved=False,is_new_attribute=True)\n",
    "    oP7_DataBreed.show()\n"
   ]
  },
  {
   "cell_type": "markdown",
   "metadata": {},
   "source": [
    "#### Object containing data breed model is loaded from dumped file.\n",
    "\n",
    "A sample is created from dumped object."
   ]
  },
  {
   "cell_type": "code",
   "execution_count": null,
   "metadata": {},
   "outputs": [],
   "source": [
    "import p5_util\n",
    "import P7_DataBreed\n",
    "if True :\n",
    "    oP7_DataBreed_sample = p5_util.object_load('./data/oP7_DataBreed.dump')\n",
    "    oP7_DataBreed_sample.show()\n",
    "    oP7_DataBreed_sample.breed_show()\n",
    "else : \n",
    "    oP7_DataBreed = P7_DataBreed.P7_DataBreed('./data/Images')\n",
    "    oP7_DataBreed.show()\n",
    "    "
   ]
  },
  {
   "cell_type": "markdown",
   "metadata": {},
   "source": [
    "Breeds list for evaluation is fixed."
   ]
  },
  {
   "cell_type": "code",
   "execution_count": null,
   "metadata": {},
   "outputs": [],
   "source": [
    "list_dirbreed = ['n02107142-Doberman','n02115641-dingo','n02113978-Mexican_hairless']\n",
    "\n",
    "oP7_DataBreed_sample.load(list_dirbreed=['n02107142-Doberman','n02115641-dingo','n02113978-Mexican_hairless'])\n",
    "oP7_DataBreed_sample.show()"
   ]
  },
  {
   "cell_type": "code",
   "execution_count": null,
   "metadata": {},
   "outputs": [],
   "source": [
    "test_size = 0.15\n",
    "resize = (224,224)\n",
    "square=None\n",
    "\n",
    "X_train, X_test, y_train, y_test, nClass = oP7_DataBreed_sample.keras_image_train_test(test_size = 0.3, resize=resize)\n",
    "print(X_train.shape, X_test.shape, y_train.shape, y_test.shape, nClass)\n"
   ]
  },
  {
   "cell_type": "markdown",
   "metadata": {},
   "source": [
    "#### Resources for dataset computation are released."
   ]
  },
  {
   "cell_type": "code",
   "execution_count": null,
   "metadata": {},
   "outputs": [],
   "source": [
    "del(oP7_DataBreed_sample)\n",
    "oP7_DataBreed_sample=None"
   ]
  },
  {
   "cell_type": "markdown",
   "metadata": {},
   "source": [
    "#### Keras dataset is saved"
   ]
  },
  {
   "cell_type": "code",
   "execution_count": null,
   "metadata": {},
   "outputs": [],
   "source": [
    "import p5_util\n",
    "filename = './data/dict_keras_dataset.dump'\n",
    "list_dirbreed = ['n02107142-Doberman','n02115641-dingo','n02113978-Mexican_hairless']\n",
    "dict_keras_dataset = {'description':list_dirbreed,'payload':(X_train, X_test, y_train, y_test, nClass)}\n",
    "p5_util.object_dump(dict_keras_dataset, filename)"
   ]
  },
  {
   "cell_type": "markdown",
   "metadata": {},
   "source": [
    "#### Transfer learning from pre-trained VGG16 over imagenet\n",
    "\n",
    "`VGG16` trained model from `imagenet` is downloaded without classification layer.\n"
   ]
  },
  {
   "cell_type": "code",
   "execution_count": 2,
   "metadata": {},
   "outputs": [
    {
     "name": "stderr",
     "output_type": "stream",
     "text": [
      "Using TensorFlow backend.\n"
     ]
    },
    {
     "name": "stdout",
     "output_type": "stream",
     "text": [
      "_________________________________________________________________\n",
      "Layer (type)                 Output Shape              Param #   \n",
      "=================================================================\n",
      "input_1 (InputLayer)         (None, 224, 224, 3)       0         \n",
      "_________________________________________________________________\n",
      "block1_conv1 (Conv2D)        (None, 224, 224, 64)      1792      \n",
      "_________________________________________________________________\n",
      "block1_conv2 (Conv2D)        (None, 224, 224, 64)      36928     \n",
      "_________________________________________________________________\n",
      "block1_pool (MaxPooling2D)   (None, 112, 112, 64)      0         \n",
      "_________________________________________________________________\n",
      "block2_conv1 (Conv2D)        (None, 112, 112, 128)     73856     \n",
      "_________________________________________________________________\n",
      "block2_conv2 (Conv2D)        (None, 112, 112, 128)     147584    \n",
      "_________________________________________________________________\n",
      "block2_pool (MaxPooling2D)   (None, 56, 56, 128)       0         \n",
      "_________________________________________________________________\n",
      "block3_conv1 (Conv2D)        (None, 56, 56, 256)       295168    \n",
      "_________________________________________________________________\n",
      "block3_conv2 (Conv2D)        (None, 56, 56, 256)       590080    \n",
      "_________________________________________________________________\n",
      "block3_conv3 (Conv2D)        (None, 56, 56, 256)       590080    \n",
      "_________________________________________________________________\n",
      "block3_pool (MaxPooling2D)   (None, 28, 28, 256)       0         \n",
      "_________________________________________________________________\n",
      "block4_conv1 (Conv2D)        (None, 28, 28, 512)       1180160   \n",
      "_________________________________________________________________\n",
      "block4_conv2 (Conv2D)        (None, 28, 28, 512)       2359808   \n",
      "_________________________________________________________________\n",
      "block4_conv3 (Conv2D)        (None, 28, 28, 512)       2359808   \n",
      "_________________________________________________________________\n",
      "block4_pool (MaxPooling2D)   (None, 14, 14, 512)       0         \n",
      "_________________________________________________________________\n",
      "block5_conv1 (Conv2D)        (None, 14, 14, 512)       2359808   \n",
      "_________________________________________________________________\n",
      "block5_conv2 (Conv2D)        (None, 14, 14, 512)       2359808   \n",
      "_________________________________________________________________\n",
      "block5_conv3 (Conv2D)        (None, 14, 14, 512)       2359808   \n",
      "_________________________________________________________________\n",
      "block5_pool (MaxPooling2D)   (None, 7, 7, 512)         0         \n",
      "=================================================================\n",
      "Total params: 14,714,688\n",
      "Trainable params: 14,714,688\n",
      "Non-trainable params: 0\n",
      "_________________________________________________________________\n"
     ]
    }
   ],
   "source": [
    "from keras.applications import VGG16\n",
    " \n",
    "vgg16_pretrained_conv = VGG16(weights='imagenet',\n",
    "                  include_top=False,\n",
    "                  input_shape=(224, 224, 3))\n",
    "\n",
    "\n",
    "vgg16_pretrained_conv.summary()"
   ]
  },
  {
   "cell_type": "raw",
   "metadata": {},
   "source": [
    "nClass=3"
   ]
  },
  {
   "cell_type": "code",
   "execution_count": 5,
   "metadata": {},
   "outputs": [],
   "source": [
    "import numpy as np\n",
    "\n",
    "from keras import models\n",
    "from keras import layers\n",
    "from keras import optimizers\n",
    "\n",
    "vgg16_imagenet_pretrained = models.Sequential()\n",
    "vgg16_imagenet_pretrained.add(vgg16_pretrained_conv)\n",
    "vgg16_imagenet_pretrained.add(layers.Flatten())\n",
    "\n",
    "#--------------------------------------------------------------------------\n",
    "# Get output dimensions from convolutional layer\n",
    "#--------------------------------------------------------------------------\n",
    "conv_layer_output_shape = np.prod(vgg16_imagenet_pretrained.output_shape[1:])\n",
    "conv_layer_output_shape\n",
    "\n",
    "#--------------------------------------------------------------------------\n",
    "# Fist dense layer is compliant with output of last convolutional layer \n",
    "# from pre-trained model for transfer learning\n",
    "#--------------------------------------------------------------------------\n",
    "vgg16_imagenet_pretrained.add(layers.Dense(512, activation='relu', input_dim=conv_layer_output_shape))\n",
    "vgg16_imagenet_pretrained.add(layers.Dropout(0.5))\n",
    "#--------------------------------------------------------------------------\n",
    "# Last dense layer will classify amont nClass classes.\n",
    "#--------------------------------------------------------------------------\n",
    "vgg16_imagenet_pretrained.add(layers.Dense(nClass, activation='softmax'))\n",
    "if False :\n",
    "    vgg16_imagenet_pretrained.compile(optimizer=optimizers.RMSprop(lr=1e-3),\n",
    "                  loss='categorical_crossentropy',\n",
    "                  metrics=['acc'])\n",
    "    vgg16_imagenet_pretrained.summary()"
   ]
  },
  {
   "cell_type": "markdown",
   "metadata": {},
   "source": [
    "#### Full connected layers are added\n",
    "\n",
    "* Input dimension matches with output dim from last convolutional layer\n",
    "* Output dimension matches with number of classes"
   ]
  },
  {
   "cell_type": "markdown",
   "metadata": {},
   "source": [
    "#### Model is compiled"
   ]
  },
  {
   "cell_type": "code",
   "execution_count": 6,
   "metadata": {},
   "outputs": [
    {
     "name": "stdout",
     "output_type": "stream",
     "text": [
      "_________________________________________________________________\n",
      "Layer (type)                 Output Shape              Param #   \n",
      "=================================================================\n",
      "vgg16 (Model)                (None, 7, 7, 512)         14714688  \n",
      "_________________________________________________________________\n",
      "flatten_1 (Flatten)          (None, 25088)             0         \n",
      "_________________________________________________________________\n",
      "dense_1 (Dense)              (None, 512)               12845568  \n",
      "_________________________________________________________________\n",
      "dropout_1 (Dropout)          (None, 512)               0         \n",
      "_________________________________________________________________\n",
      "dense_2 (Dense)              (None, 3)                 1539      \n",
      "=================================================================\n",
      "Total params: 27,561,795\n",
      "Trainable params: 27,561,795\n",
      "Non-trainable params: 0\n",
      "_________________________________________________________________\n"
     ]
    }
   ],
   "source": [
    "vgg16_imagenet_pretrained.compile(loss=\"categorical_crossentropy\", optimizer=optimizers.SGD(lr=0.0001\\\n",
    "                                                             , momentum=0.9), metrics=[\"accuracy\"])\n",
    "vgg16_imagenet_pretrained.summary()\n"
   ]
  },
  {
   "cell_type": "markdown",
   "metadata": {},
   "source": [
    "#### Pre-trained model is saved"
   ]
  },
  {
   "cell_type": "code",
   "execution_count": null,
   "metadata": {},
   "outputs": [],
   "source": [
    "import p5_util\n",
    "filename = './data/vgg16_imagenet_pretrained.dump'\n",
    "p5_util.object_dump(vgg16_imagenet_pretrained, filename)"
   ]
  },
  {
   "cell_type": "raw",
   "metadata": {},
   "source": [
    "model.compile(optimizer=optimizers.RMSprop(lr=1e-3),\n",
    "              loss='categorical_crossentropy',\n",
    "              metrics=['acc'])\n",
    "model.summary()"
   ]
  },
  {
   "cell_type": "markdown",
   "metadata": {},
   "source": [
    "#### Keras dataset is loaded"
   ]
  },
  {
   "cell_type": "code",
   "execution_count": 3,
   "metadata": {},
   "outputs": [
    {
     "name": "stdout",
     "output_type": "stream",
     "text": [
      "p5_util.object_load : fileName= ./data/dict_keras_dataset.dump\n"
     ]
    }
   ],
   "source": [
    "import p5_util\n",
    "\n",
    "filename = './data/dict_keras_dataset.dump'\n",
    "dict_keras_dataset = p5_util.object_load(filename)\n",
    "(X_train, X_test, y_train, y_test, nClass) = dict_keras_dataset['payload']"
   ]
  },
  {
   "cell_type": "code",
   "execution_count": 4,
   "metadata": {},
   "outputs": [
    {
     "data": {
      "text/plain": [
       "((322, 224, 224, 3), (139, 224, 224, 3), (322, 3), (139, 3))"
      ]
     },
     "execution_count": 4,
     "metadata": {},
     "output_type": "execute_result"
    }
   ],
   "source": [
    "X_train.shape, X_test.shape, y_train.shape, y_test.shape"
   ]
  },
  {
   "cell_type": "markdown",
   "metadata": {},
   "source": [
    "#### Pre-trained model is loaded"
   ]
  },
  {
   "cell_type": "code",
   "execution_count": null,
   "metadata": {},
   "outputs": [],
   "source": [
    "import p5_util\n",
    "filename = './data/vgg16_imagenet_pretrained.dump'\n",
    "vgg16_imagenet_pretrained = p5_util.object_load(filename)"
   ]
  },
  {
   "cell_type": "code",
   "execution_count": 7,
   "metadata": {},
   "outputs": [
    {
     "name": "stdout",
     "output_type": "stream",
     "text": [
      "Train on 322 samples, validate on 139 samples\n",
      "Epoch 1/100\n",
      "322/322 [==============================] - 125s 388ms/step - loss: 1.3868 - acc: 0.3292 - val_loss: 1.1156 - val_acc: 0.3885\n",
      "Epoch 2/100\n",
      "322/322 [==============================] - 127s 395ms/step - loss: 1.2630 - acc: 0.3789 - val_loss: 1.1184 - val_acc: 0.4029\n",
      "Epoch 3/100\n",
      "322/322 [==============================] - 125s 390ms/step - loss: 1.2265 - acc: 0.3665 - val_loss: 1.0378 - val_acc: 0.5108\n",
      "Epoch 4/100\n",
      "322/322 [==============================] - 125s 388ms/step - loss: 1.1454 - acc: 0.4503 - val_loss: 1.0141 - val_acc: 0.5324\n",
      "Epoch 5/100\n",
      "322/322 [==============================] - 125s 389ms/step - loss: 1.0674 - acc: 0.4783 - val_loss: 1.0138 - val_acc: 0.4460\n",
      "Epoch 6/100\n",
      "322/322 [==============================] - 126s 393ms/step - loss: 0.9626 - acc: 0.5466 - val_loss: 0.9936 - val_acc: 0.4604\n",
      "Epoch 7/100\n",
      "322/322 [==============================] - 113s 350ms/step - loss: 0.9651 - acc: 0.5435 - val_loss: 0.9485 - val_acc: 0.5396\n",
      "Epoch 8/100\n",
      "322/322 [==============================] - 111s 344ms/step - loss: 0.8776 - acc: 0.5870 - val_loss: 0.9195 - val_acc: 0.5540\n",
      "Epoch 9/100\n",
      "322/322 [==============================] - 111s 344ms/step - loss: 0.8286 - acc: 0.6491 - val_loss: 0.8961 - val_acc: 0.6259\n",
      "Epoch 10/100\n",
      "322/322 [==============================] - 111s 345ms/step - loss: 0.8319 - acc: 0.6056 - val_loss: 0.8660 - val_acc: 0.6187\n",
      "Epoch 11/100\n",
      "322/322 [==============================] - 111s 345ms/step - loss: 0.7583 - acc: 0.6646 - val_loss: 0.8663 - val_acc: 0.5971\n",
      "Epoch 12/100\n",
      "322/322 [==============================] - 111s 344ms/step - loss: 0.6899 - acc: 0.7143 - val_loss: 0.8291 - val_acc: 0.6331\n",
      "Epoch 13/100\n",
      "322/322 [==============================] - 111s 345ms/step - loss: 0.7024 - acc: 0.7205 - val_loss: 0.7822 - val_acc: 0.6763\n",
      "Epoch 14/100\n",
      "322/322 [==============================] - 111s 344ms/step - loss: 0.6355 - acc: 0.7733 - val_loss: 0.7671 - val_acc: 0.6978\n",
      "Epoch 15/100\n",
      "322/322 [==============================] - 111s 346ms/step - loss: 0.6327 - acc: 0.7391 - val_loss: 0.7838 - val_acc: 0.6475\n",
      "Epoch 16/100\n",
      "322/322 [==============================] - 111s 345ms/step - loss: 0.5790 - acc: 0.7516 - val_loss: 0.7638 - val_acc: 0.6619\n",
      "Epoch 17/100\n",
      "322/322 [==============================] - 113s 352ms/step - loss: 0.5561 - acc: 0.7702 - val_loss: 0.7104 - val_acc: 0.7194\n",
      "Epoch 18/100\n",
      "322/322 [==============================] - 111s 345ms/step - loss: 0.5377 - acc: 0.7826 - val_loss: 0.7042 - val_acc: 0.7194\n",
      "Epoch 19/100\n",
      "322/322 [==============================] - 111s 346ms/step - loss: 0.5131 - acc: 0.8106 - val_loss: 0.6955 - val_acc: 0.7266\n",
      "Epoch 20/100\n",
      "322/322 [==============================] - 111s 345ms/step - loss: 0.4973 - acc: 0.8075 - val_loss: 0.6655 - val_acc: 0.7338\n",
      "Epoch 21/100\n",
      "322/322 [==============================] - 111s 345ms/step - loss: 0.4461 - acc: 0.8323 - val_loss: 0.6512 - val_acc: 0.7410\n",
      "Epoch 22/100\n",
      "322/322 [==============================] - 112s 347ms/step - loss: 0.4078 - acc: 0.9037 - val_loss: 0.6961 - val_acc: 0.7122\n",
      "Epoch 23/100\n",
      "322/322 [==============================] - 111s 345ms/step - loss: 0.3827 - acc: 0.8758 - val_loss: 0.6715 - val_acc: 0.7194\n",
      "Epoch 24/100\n",
      "322/322 [==============================] - 111s 345ms/step - loss: 0.3716 - acc: 0.8758 - val_loss: 0.6237 - val_acc: 0.7482\n",
      "Epoch 25/100\n",
      "322/322 [==============================] - 111s 345ms/step - loss: 0.3901 - acc: 0.8292 - val_loss: 0.6327 - val_acc: 0.7482\n",
      "Epoch 26/100\n",
      "322/322 [==============================] - 112s 347ms/step - loss: 0.3544 - acc: 0.8851 - val_loss: 0.6646 - val_acc: 0.7122\n",
      "Epoch 27/100\n",
      "322/322 [==============================] - 111s 345ms/step - loss: 0.3222 - acc: 0.8913 - val_loss: 0.6246 - val_acc: 0.7482\n",
      "Epoch 28/100\n",
      "322/322 [==============================] - 111s 346ms/step - loss: 0.3052 - acc: 0.9006 - val_loss: 0.6136 - val_acc: 0.7698\n",
      "Epoch 29/100\n",
      "322/322 [==============================] - 111s 346ms/step - loss: 0.2671 - acc: 0.9193 - val_loss: 0.6034 - val_acc: 0.7554\n",
      "Epoch 30/100\n",
      "322/322 [==============================] - 111s 346ms/step - loss: 0.2517 - acc: 0.9255 - val_loss: 0.6495 - val_acc: 0.6906\n",
      "Epoch 31/100\n",
      "322/322 [==============================] - 112s 346ms/step - loss: 0.2560 - acc: 0.9193 - val_loss: 0.5992 - val_acc: 0.7482\n",
      "Epoch 32/100\n",
      "322/322 [==============================] - 112s 348ms/step - loss: 0.2559 - acc: 0.9255 - val_loss: 0.6001 - val_acc: 0.7842\n",
      "Epoch 33/100\n",
      "322/322 [==============================] - 112s 347ms/step - loss: 0.2056 - acc: 0.9348 - val_loss: 0.5733 - val_acc: 0.7338\n",
      "Epoch 34/100\n",
      "322/322 [==============================] - 111s 346ms/step - loss: 0.2020 - acc: 0.9472 - val_loss: 0.5889 - val_acc: 0.7050\n",
      "Epoch 35/100\n",
      "322/322 [==============================] - 111s 346ms/step - loss: 0.1844 - acc: 0.9658 - val_loss: 0.5845 - val_acc: 0.7194\n",
      "Epoch 36/100\n",
      "322/322 [==============================] - 111s 345ms/step - loss: 0.1635 - acc: 0.9627 - val_loss: 0.5711 - val_acc: 0.7914\n",
      "Epoch 37/100\n",
      "322/322 [==============================] - 112s 347ms/step - loss: 0.1720 - acc: 0.9472 - val_loss: 0.5649 - val_acc: 0.7842\n",
      "Epoch 38/100\n",
      "322/322 [==============================] - 111s 346ms/step - loss: 0.1518 - acc: 0.9596 - val_loss: 0.6201 - val_acc: 0.7122\n",
      "Epoch 39/100\n",
      "322/322 [==============================] - 112s 346ms/step - loss: 0.1556 - acc: 0.9658 - val_loss: 0.5722 - val_acc: 0.7482\n",
      "Epoch 40/100\n",
      "322/322 [==============================] - 111s 346ms/step - loss: 0.1351 - acc: 0.9689 - val_loss: 0.5394 - val_acc: 0.7698\n",
      "Epoch 41/100\n",
      "322/322 [==============================] - 112s 347ms/step - loss: 0.1475 - acc: 0.9596 - val_loss: 0.5699 - val_acc: 0.7410\n",
      "Epoch 42/100\n",
      "322/322 [==============================] - 111s 346ms/step - loss: 0.1229 - acc: 0.9689 - val_loss: 0.6232 - val_acc: 0.7410\n",
      "Epoch 43/100\n",
      "322/322 [==============================] - 111s 346ms/step - loss: 0.1074 - acc: 0.9845 - val_loss: 0.5666 - val_acc: 0.7842\n",
      "Epoch 44/100\n",
      "322/322 [==============================] - 111s 346ms/step - loss: 0.0986 - acc: 0.9814 - val_loss: 0.5521 - val_acc: 0.7842\n",
      "Epoch 45/100\n",
      "322/322 [==============================] - 111s 346ms/step - loss: 0.1060 - acc: 0.9752 - val_loss: 0.5654 - val_acc: 0.7626\n",
      "Epoch 46/100\n",
      "322/322 [==============================] - 112s 347ms/step - loss: 0.0867 - acc: 0.9876 - val_loss: 0.6056 - val_acc: 0.7338\n",
      "Epoch 47/100\n",
      "322/322 [==============================] - 112s 346ms/step - loss: 0.0803 - acc: 0.9876 - val_loss: 0.6127 - val_acc: 0.7482\n",
      "Epoch 48/100\n",
      "322/322 [==============================] - 112s 347ms/step - loss: 0.0734 - acc: 0.9814 - val_loss: 0.5892 - val_acc: 0.7770\n",
      "Epoch 49/100\n",
      "322/322 [==============================] - 112s 347ms/step - loss: 0.0872 - acc: 0.9814 - val_loss: 0.5714 - val_acc: 0.7698\n",
      "Epoch 50/100\n",
      "322/322 [==============================] - 111s 346ms/step - loss: 0.0747 - acc: 0.9845 - val_loss: 0.5588 - val_acc: 0.7554\n",
      "Epoch 51/100\n",
      "322/322 [==============================] - 112s 347ms/step - loss: 0.0882 - acc: 0.9783 - val_loss: 0.5574 - val_acc: 0.7842\n",
      "Epoch 52/100\n",
      "322/322 [==============================] - 112s 347ms/step - loss: 0.0584 - acc: 0.9876 - val_loss: 0.5590 - val_acc: 0.7986\n",
      "Epoch 53/100\n",
      "322/322 [==============================] - 112s 346ms/step - loss: 0.0706 - acc: 0.9907 - val_loss: 0.5938 - val_acc: 0.7842\n",
      "Epoch 54/100\n",
      "322/322 [==============================] - 111s 346ms/step - loss: 0.0663 - acc: 0.9907 - val_loss: 0.6094 - val_acc: 0.7770\n",
      "Epoch 55/100\n",
      "322/322 [==============================] - 111s 346ms/step - loss: 0.0616 - acc: 0.9907 - val_loss: 0.6344 - val_acc: 0.7626\n",
      "Epoch 56/100\n",
      "322/322 [==============================] - 112s 347ms/step - loss: 0.0641 - acc: 0.9845 - val_loss: 0.5876 - val_acc: 0.7914\n",
      "Epoch 57/100\n",
      "322/322 [==============================] - 111s 346ms/step - loss: 0.0521 - acc: 0.9938 - val_loss: 0.5521 - val_acc: 0.7626\n",
      "Epoch 58/100\n",
      "322/322 [==============================] - 112s 346ms/step - loss: 0.0740 - acc: 0.9752 - val_loss: 0.5860 - val_acc: 0.7482\n",
      "Epoch 59/100\n",
      "322/322 [==============================] - 111s 346ms/step - loss: 0.0419 - acc: 0.9969 - val_loss: 0.5942 - val_acc: 0.7698\n",
      "Epoch 60/100\n",
      "322/322 [==============================] - 112s 347ms/step - loss: 0.0490 - acc: 0.9876 - val_loss: 0.6371 - val_acc: 0.7842\n",
      "Epoch 61/100\n",
      "322/322 [==============================] - 112s 347ms/step - loss: 0.0448 - acc: 0.9938 - val_loss: 0.6032 - val_acc: 0.7986\n",
      "Epoch 62/100\n",
      "322/322 [==============================] - 112s 348ms/step - loss: 0.0533 - acc: 0.9907 - val_loss: 0.5640 - val_acc: 0.7986\n",
      "Epoch 63/100\n",
      "322/322 [==============================] - 111s 346ms/step - loss: 0.0467 - acc: 0.9969 - val_loss: 0.5742 - val_acc: 0.7698\n",
      "Epoch 64/100\n",
      "322/322 [==============================] - 112s 346ms/step - loss: 0.0400 - acc: 0.9938 - val_loss: 0.5900 - val_acc: 0.7410\n",
      "Epoch 65/100\n",
      "322/322 [==============================] - 112s 347ms/step - loss: 0.0395 - acc: 0.9907 - val_loss: 0.5802 - val_acc: 0.7482\n",
      "Epoch 66/100\n",
      "322/322 [==============================] - 111s 346ms/step - loss: 0.0319 - acc: 0.9969 - val_loss: 0.5910 - val_acc: 0.7842\n",
      "Epoch 67/100\n",
      "322/322 [==============================] - 112s 346ms/step - loss: 0.0316 - acc: 0.9969 - val_loss: 0.6235 - val_acc: 0.8058\n",
      "Epoch 68/100\n",
      "322/322 [==============================] - 112s 347ms/step - loss: 0.0370 - acc: 0.9876 - val_loss: 0.6338 - val_acc: 0.7698\n",
      "Epoch 69/100\n",
      "322/322 [==============================] - 112s 347ms/step - loss: 0.0327 - acc: 0.9938 - val_loss: 0.6121 - val_acc: 0.7482\n",
      "Epoch 70/100\n",
      "322/322 [==============================] - 112s 347ms/step - loss: 0.0294 - acc: 1.0000 - val_loss: 0.5987 - val_acc: 0.7770\n",
      "Epoch 71/100\n",
      "322/322 [==============================] - 112s 347ms/step - loss: 0.0289 - acc: 1.0000 - val_loss: 0.6334 - val_acc: 0.7914\n",
      "Epoch 72/100\n",
      "322/322 [==============================] - 112s 346ms/step - loss: 0.0242 - acc: 0.9969 - val_loss: 0.6350 - val_acc: 0.7986\n",
      "Epoch 73/100\n",
      "322/322 [==============================] - 112s 346ms/step - loss: 0.0337 - acc: 1.0000 - val_loss: 0.5781 - val_acc: 0.7986\n",
      "Epoch 74/100\n",
      "322/322 [==============================] - 111s 346ms/step - loss: 0.0355 - acc: 1.0000 - val_loss: 0.5773 - val_acc: 0.7770\n",
      "Epoch 75/100\n",
      "322/322 [==============================] - 111s 346ms/step - loss: 0.0366 - acc: 0.9876 - val_loss: 0.6225 - val_acc: 0.7986\n",
      "Epoch 76/100\n",
      "322/322 [==============================] - 111s 346ms/step - loss: 0.0194 - acc: 1.0000 - val_loss: 0.6812 - val_acc: 0.7842\n",
      "Epoch 77/100\n",
      "322/322 [==============================] - 111s 346ms/step - loss: 0.0245 - acc: 1.0000 - val_loss: 0.6615 - val_acc: 0.7914\n",
      "Epoch 78/100\n",
      "322/322 [==============================] - 112s 347ms/step - loss: 0.0197 - acc: 1.0000 - val_loss: 0.6325 - val_acc: 0.7914\n",
      "Epoch 79/100\n",
      "322/322 [==============================] - 112s 347ms/step - loss: 0.0233 - acc: 0.9969 - val_loss: 0.6218 - val_acc: 0.7770\n",
      "Epoch 80/100\n",
      "322/322 [==============================] - 111s 346ms/step - loss: 0.0220 - acc: 0.9969 - val_loss: 0.6137 - val_acc: 0.7842\n",
      "Epoch 81/100\n",
      "322/322 [==============================] - 112s 347ms/step - loss: 0.0210 - acc: 0.9969 - val_loss: 0.6278 - val_acc: 0.7770\n",
      "Epoch 82/100\n",
      "322/322 [==============================] - 111s 346ms/step - loss: 0.0224 - acc: 1.0000 - val_loss: 0.6143 - val_acc: 0.7914\n",
      "Epoch 83/100\n",
      "322/322 [==============================] - 111s 346ms/step - loss: 0.0299 - acc: 0.9907 - val_loss: 0.6008 - val_acc: 0.7842\n",
      "Epoch 84/100\n",
      "322/322 [==============================] - 112s 348ms/step - loss: 0.0270 - acc: 0.9969 - val_loss: 0.6153 - val_acc: 0.7842\n",
      "Epoch 85/100\n",
      "322/322 [==============================] - 111s 346ms/step - loss: 0.0139 - acc: 1.0000 - val_loss: 0.6648 - val_acc: 0.7770\n",
      "Epoch 86/100\n",
      "322/322 [==============================] - 112s 348ms/step - loss: 0.0197 - acc: 1.0000 - val_loss: 0.6925 - val_acc: 0.7698\n",
      "Epoch 87/100\n",
      "322/322 [==============================] - 112s 348ms/step - loss: 0.0200 - acc: 1.0000 - val_loss: 0.6965 - val_acc: 0.7698\n",
      "Epoch 88/100\n",
      "322/322 [==============================] - 113s 352ms/step - loss: 0.0233 - acc: 0.9969 - val_loss: 0.6648 - val_acc: 0.7698\n",
      "Epoch 89/100\n",
      "322/322 [==============================] - 112s 346ms/step - loss: 0.0127 - acc: 0.9969 - val_loss: 0.6309 - val_acc: 0.7842\n",
      "Epoch 90/100\n",
      "322/322 [==============================] - 111s 346ms/step - loss: 0.0145 - acc: 1.0000 - val_loss: 0.6149 - val_acc: 0.7770\n",
      "Epoch 91/100\n",
      "322/322 [==============================] - 112s 347ms/step - loss: 0.0150 - acc: 1.0000 - val_loss: 0.6366 - val_acc: 0.7698\n",
      "Epoch 92/100\n",
      "322/322 [==============================] - 111s 346ms/step - loss: 0.0203 - acc: 0.9938 - val_loss: 0.6391 - val_acc: 0.7842\n",
      "Epoch 93/100\n",
      "322/322 [==============================] - 111s 346ms/step - loss: 0.0160 - acc: 1.0000 - val_loss: 0.6574 - val_acc: 0.7770\n",
      "Epoch 94/100\n",
      "322/322 [==============================] - 112s 347ms/step - loss: 0.0185 - acc: 0.9969 - val_loss: 0.6581 - val_acc: 0.7770\n",
      "Epoch 95/100\n",
      "322/322 [==============================] - 112s 348ms/step - loss: 0.0209 - acc: 0.9969 - val_loss: 0.6644 - val_acc: 0.7770\n",
      "Epoch 96/100\n",
      "322/322 [==============================] - 112s 347ms/step - loss: 0.0227 - acc: 0.9969 - val_loss: 0.6419 - val_acc: 0.7770\n",
      "Epoch 97/100\n",
      "322/322 [==============================] - 111s 346ms/step - loss: 0.0091 - acc: 1.0000 - val_loss: 0.6230 - val_acc: 0.7842\n",
      "Epoch 98/100\n",
      "322/322 [==============================] - 112s 348ms/step - loss: 0.0156 - acc: 1.0000 - val_loss: 0.6276 - val_acc: 0.7842\n",
      "Epoch 99/100\n",
      "322/322 [==============================] - 111s 346ms/step - loss: 0.0101 - acc: 1.0000 - val_loss: 0.6509 - val_acc: 0.7842\n",
      "Epoch 100/100\n",
      "322/322 [==============================] - 111s 346ms/step - loss: 0.0101 - acc: 1.0000 - val_loss: 0.6739 - val_acc: 0.7842\n"
     ]
    }
   ],
   "source": [
    "batch_size=100\n",
    "history = vgg16_imagenet_pretrained.fit(X_train,\n",
    "                    y_train,\n",
    "                    epochs=100,\n",
    "                    batch_size=batch_size,\n",
    "                    validation_data=(X_test,y_test))"
   ]
  },
  {
   "cell_type": "code",
   "execution_count": 9,
   "metadata": {},
   "outputs": [
    {
     "name": "stdout",
     "output_type": "stream",
     "text": [
      "139/139 [==============================] - 15s 106ms/step\n",
      "Evaluation result on Test Data : Loss = 0.67, accuracy = 0.78\n"
     ]
    },
    {
     "data": {
      "image/png": "[encoded data removed]",
      "text/plain": [
       "<Figure size 576x432 with 1 Axes>"
      ]
     },
     "metadata": {
      "needs_background": "light"
     },
     "output_type": "display_data"
    },
    {
     "data": {
      "image/png": "[encoded data removed]",
      "text/plain": [
       "<Figure size 576x432 with 1 Axes>"
      ]
     },
     "metadata": {
      "needs_background": "light"
     },
     "output_type": "display_data"
    }
   ],
   "source": [
    "import p7_util\n",
    "\n",
    "lost, score_acc = p7_util.p7_plot_cnn_history(vgg16_imagenet_pretrained, X_test, y_test, history=history)"
   ]
  },
  {
   "cell_type": "markdown",
   "metadata": {},
   "source": [
    "Results show that new images can't be classified with as much accuracy then trained images.\n",
    "<br>\n",
    "\n",
    "Also, loss function do not decrease for tested images as it does for trained images. This is the sign network overfit.\n",
    "<br>"
   ]
  },
  {
   "cell_type": "code",
   "execution_count": 10,
   "metadata": {},
   "outputs": [],
   "source": [
    "import p5_util\n",
    "filename = './data/transfer_learning_'+str(nClass)+'_breeds.dump'\n",
    "p5_util.object_dump(vgg16_imagenet_pretrained, filename)"
   ]
  },
  {
   "cell_type": "markdown",
   "metadata": {},
   "source": [
    "#### Reloading transfer learned network"
   ]
  },
  {
   "cell_type": "code",
   "execution_count": null,
   "metadata": {},
   "outputs": [],
   "source": [
    "import p5_util\n",
    "filename = './data/transfer_learning_3_breeds.dump'\n",
    "vgg16_imagenet_pretrained = p5_util.object_load(filename)"
   ]
  },
  {
   "cell_type": "code",
   "execution_count": null,
   "metadata": {},
   "outputs": [],
   "source": [
    "import p7_util\n",
    "\n",
    "lost, score_acc = p7_util.p7_plot_cnn_history(vgg16_imagenet_pretrained, X_test, y_test, history=None)"
   ]
  },
  {
   "cell_type": "markdown",
   "metadata": {},
   "source": [
    "#### Continue to train ..."
   ]
  },
  {
   "cell_type": "code",
   "execution_count": null,
   "metadata": {},
   "outputs": [],
   "source": [
    "batch_size=100\n",
    "history = vgg16_imagenet_pretrained.fit(X_train,\n",
    "                    y_train,\n",
    "                    epochs=20,\n",
    "                    batch_size=batch_size,\n",
    "                    validation_data=(X_test,y_test))"
   ]
  },
  {
   "cell_type": "code",
   "execution_count": null,
   "metadata": {},
   "outputs": [],
   "source": [
    "import p7_util\n",
    "\n",
    "lost, score_acc = p7_util.p7_plot_cnn_history(vgg16_imagenet_pretrained, X_test, y_test, history=history)"
   ]
  },
  {
   "cell_type": "markdown",
   "metadata": {},
   "source": [
    "# <font color='blus'>2. Breeds classification using pre-trained VGG16 model</font>\n",
    "`VGG16` is a CNN network provided by / implemented in `Keras` with 16 layers.\n",
    "<br>\n",
    "\n",
    "While convolutional layers are used for features extraction, fully connected layers are used for classification.\n",
    "<br>\n",
    "\n",
    "Those 2 set of layers are used here to classify images as breeds, since breeds have already been learned by network.\n",
    "\n"
   ]
  },
  {
   "cell_type": "code",
   "execution_count": null,
   "metadata": {},
   "outputs": [],
   "source": []
  },
  {
   "cell_type": "code",
   "execution_count": null,
   "metadata": {},
   "outputs": [],
   "source": [
    "type(vgg16_pretrained)"
   ]
  },
  {
   "cell_type": "markdown",
   "metadata": {},
   "source": [
    "#### A breed and an image is selected and displayed"
   ]
  },
  {
   "cell_type": "code",
   "execution_count": null,
   "metadata": {},
   "outputs": [],
   "source": [
    "oP7_DataBreed.breed_show()"
   ]
  },
  {
   "cell_type": "markdown",
   "metadata": {},
   "source": [
    "List of images files names from selected breed is displayed."
   ]
  },
  {
   "cell_type": "code",
   "execution_count": null,
   "metadata": {},
   "outputs": [],
   "source": [
    "import P7_DataBreed\n",
    "\n",
    "oP7_DataBreed.show_image_name('Mexican_hairless')"
   ]
  },
  {
   "cell_type": "markdown",
   "metadata": {},
   "source": [
    "A selected PIL image is displayed"
   ]
  },
  {
   "cell_type": "code",
   "execution_count": null,
   "metadata": {},
   "outputs": [],
   "source": [
    "import cv2\n",
    "\n",
    "import p3_util\n",
    "import p3_util_plot\n",
    "\n",
    "\n",
    "import P7_DataBreed\n",
    "import p7_util\n",
    "\n",
    "breedname= 'Doberman'\n",
    "imagename= 'n02107142_16400.jpg'\n",
    "imagename= 'n02107142_4314.jpg'\n",
    "dirbreed = 'n02107142-Doberman'\n",
    "\n",
    "oP7_DataBreed_single = P7_DataBreed.P7_DataBreed()\n",
    "oP7_DataBreed_single._dict_breed_sample=oP7_DataBreed._dict_breed_sample.copy()\n",
    "\n",
    "list_restricted_image = [(breedname,[imagename])]\n",
    "oP7_DataBreed_single.list_restricted_image = list_restricted_image\n",
    "\n",
    "oP7_DataBreed_single.load(dirbreed=dirbreed, imagename=imagename)\n",
    "\n",
    "p7_util.p7_image_pil_show(oP7_DataBreed_single._dict_img_pil,std_image_size=(500,375), is_title=False)"
   ]
  },
  {
   "cell_type": "markdown",
   "metadata": {},
   "source": [
    "Selected image is pre-processed in order to feed pre-trained VGG16 network.\n",
    "\n",
    "Prediction returns `y_pred`, a 1000 sized vector.\n",
    "<br>\n",
    "\n",
    "Built-in function `decode_predictions` allows to provide human readable results."
   ]
  },
  {
   "cell_type": "code",
   "execution_count": null,
   "metadata": {},
   "outputs": [],
   "source": [
    "from keras.preprocessing.image import load_img, img_to_array\n",
    "from keras.applications import vgg16\n",
    "import p3_util_plot\n",
    "\n",
    "image_pathname = oP7_DataBreed._build_pathname(dirbreed,imagename)\n",
    "\n",
    "# Charger l'image PIL\n",
    "pil_image = load_img(image_pathname, target_size=(224, 224))  \n",
    "\n",
    "# Convertir en tableau numpy\n",
    "arr_image = img_to_array(pil_image)  \n",
    "\n",
    "# Créer la collection d'images (un seul échantillon)\n",
    "sample_count=1\n",
    "arr_image = arr_image.reshape((sample_count, arr_image.shape[0], arr_image.shape[1], arr_image.shape[2]))  \n",
    "\n",
    "# Prétraiter l'image comme le veut VGG-16\n",
    "X_test = vgg16.preprocess_input(arr_image)  \n",
    "\n",
    "# Predict image breed thanks to VGG16 pre-trained model\n",
    "y_pred = vgg16_pretrained.predict(X_test)"
   ]
  },
  {
   "cell_type": "markdown",
   "metadata": {},
   "source": [
    "#### Top prediction results are displayed.\n"
   ]
  },
  {
   "cell_type": "code",
   "execution_count": null,
   "metadata": {},
   "outputs": [],
   "source": [
    "# Afficher les 3 classes les plus probables\n",
    "top_results = 3\n",
    "print(\"***Breed predictions top \"+str(top_results)+\" results\")\n",
    "[p3_util_plot.printmd(my_tuple) for my_tuple in vgg16.decode_predictions(y_pred, top=top_results)[0]]"
   ]
  },
  {
   "cell_type": "markdown",
   "metadata": {},
   "source": [
    "# <font color='blus'> 3. Transfer Learning using `VGG16` pre-trained model</font>\n",
    "\n",
    "Pre-trained  `VGG16` model is used as a feature extractor.\n",
    "<br>\n",
    "\n",
    "It as learned discriminative features. Layers used for feature extraction are freezed.\n",
    "\n",
    "We consider we've a few sample to be trained  (3 breeds and close to 120 images) from Standford Dogs dataset. \n",
    "<br>\n",
    "\n",
    "We expect to benefit features extraction from already trained model over imagenet images bank.\n",
    "\n",
    "<br>\n",
    "Transfer learning seems to be a proper strategy to achieve classification over a few number of samples.\n"
   ]
  },
  {
   "cell_type": "markdown",
   "metadata": {},
   "source": [
    "#### Keras dataset is loaded"
   ]
  },
  {
   "cell_type": "code",
   "execution_count": 10,
   "metadata": {},
   "outputs": [
    {
     "name": "stdout",
     "output_type": "stream",
     "text": [
      "p5_util.object_load : fileName= ./data/dict_keras_dataset.dump\n"
     ]
    }
   ],
   "source": [
    "import p5_util\n",
    "\n",
    "filename = './data/dict_keras_dataset.dump'\n",
    "dict_keras_dataset = p5_util.object_load(filename)\n",
    "(X_train, X_test, y_train, y_test, nClass) = dict_keras_dataset['payload']"
   ]
  },
  {
   "cell_type": "code",
   "execution_count": 14,
   "metadata": {},
   "outputs": [
    {
     "name": "stdout",
     "output_type": "stream",
     "text": [
      "['n02107142-Doberman', 'n02115641-dingo', 'n02113978-Mexican_hairless']\n"
     ]
    }
   ],
   "source": [
    "print(dict_keras_dataset['description'])"
   ]
  },
  {
   "cell_type": "markdown",
   "metadata": {},
   "source": [
    "#### Download a VGG16 model that has been pre-trained with imageNet  : \n",
    "* Last fully connected layers are removed; in the resulting model only convolutional layers stay.\n",
    "* Image reshape is enforced to (224,224,3)"
   ]
  },
  {
   "cell_type": "code",
   "execution_count": 3,
   "metadata": {},
   "outputs": [
    {
     "name": "stdout",
     "output_type": "stream",
     "text": [
      "_________________________________________________________________\n",
      "Layer (type)                 Output Shape              Param #   \n",
      "=================================================================\n",
      "input_2 (InputLayer)         (None, 224, 224, 3)       0         \n",
      "_________________________________________________________________\n",
      "block1_conv1 (Conv2D)        (None, 224, 224, 64)      1792      \n",
      "_________________________________________________________________\n",
      "block1_conv2 (Conv2D)        (None, 224, 224, 64)      36928     \n",
      "_________________________________________________________________\n",
      "block1_pool (MaxPooling2D)   (None, 112, 112, 64)      0         \n",
      "_________________________________________________________________\n",
      "block2_conv1 (Conv2D)        (None, 112, 112, 128)     73856     \n",
      "_________________________________________________________________\n",
      "block2_conv2 (Conv2D)        (None, 112, 112, 128)     147584    \n",
      "_________________________________________________________________\n",
      "block2_pool (MaxPooling2D)   (None, 56, 56, 128)       0         \n",
      "_________________________________________________________________\n",
      "block3_conv1 (Conv2D)        (None, 56, 56, 256)       295168    \n",
      "_________________________________________________________________\n",
      "block3_conv2 (Conv2D)        (None, 56, 56, 256)       590080    \n",
      "_________________________________________________________________\n",
      "block3_conv3 (Conv2D)        (None, 56, 56, 256)       590080    \n",
      "_________________________________________________________________\n",
      "block3_pool (MaxPooling2D)   (None, 28, 28, 256)       0         \n",
      "_________________________________________________________________\n",
      "block4_conv1 (Conv2D)        (None, 28, 28, 512)       1180160   \n",
      "_________________________________________________________________\n",
      "block4_conv2 (Conv2D)        (None, 28, 28, 512)       2359808   \n",
      "_________________________________________________________________\n",
      "block4_conv3 (Conv2D)        (None, 28, 28, 512)       2359808   \n",
      "_________________________________________________________________\n",
      "block4_pool (MaxPooling2D)   (None, 14, 14, 512)       0         \n",
      "_________________________________________________________________\n",
      "block5_conv1 (Conv2D)        (None, 14, 14, 512)       2359808   \n",
      "_________________________________________________________________\n",
      "block5_conv2 (Conv2D)        (None, 14, 14, 512)       2359808   \n",
      "_________________________________________________________________\n",
      "block5_conv3 (Conv2D)        (None, 14, 14, 512)       2359808   \n",
      "_________________________________________________________________\n",
      "block5_pool (MaxPooling2D)   (None, 7, 7, 512)         0         \n",
      "=================================================================\n",
      "Total params: 14,714,688\n",
      "Trainable params: 14,714,688\n",
      "Non-trainable params: 0\n",
      "_________________________________________________________________\n"
     ]
    }
   ],
   "source": [
    "from keras.applications import VGG16\n",
    " \n",
    "vgg16_pretrained_conv = VGG16(weights='imagenet',\n",
    "                  include_top=False,\n",
    "                  input_shape=(224, 224, 3))\n",
    "\n",
    "\n",
    "vgg16_pretrained_conv.summary()"
   ]
  },
  {
   "cell_type": "markdown",
   "metadata": {},
   "source": [
    "#### Convolutional layers are frozen"
   ]
  },
  {
   "cell_type": "code",
   "execution_count": 4,
   "metadata": {},
   "outputs": [],
   "source": [
    "# Freeze the layers which you don't want to train. Here I am freezing the first 5 layers.\n",
    "for layer in vgg16_pretrained_conv.layers:\n",
    "    layer.trainable = False"
   ]
  },
  {
   "cell_type": "code",
   "execution_count": 5,
   "metadata": {},
   "outputs": [
    {
     "name": "stdout",
     "output_type": "stream",
     "text": [
      "_________________________________________________________________\n",
      "Layer (type)                 Output Shape              Param #   \n",
      "=================================================================\n",
      "input_2 (InputLayer)         (None, 224, 224, 3)       0         \n",
      "_________________________________________________________________\n",
      "block1_conv1 (Conv2D)        (None, 224, 224, 64)      1792      \n",
      "_________________________________________________________________\n",
      "block1_conv2 (Conv2D)        (None, 224, 224, 64)      36928     \n",
      "_________________________________________________________________\n",
      "block1_pool (MaxPooling2D)   (None, 112, 112, 64)      0         \n",
      "_________________________________________________________________\n",
      "block2_conv1 (Conv2D)        (None, 112, 112, 128)     73856     \n",
      "_________________________________________________________________\n",
      "block2_conv2 (Conv2D)        (None, 112, 112, 128)     147584    \n",
      "_________________________________________________________________\n",
      "block2_pool (MaxPooling2D)   (None, 56, 56, 128)       0         \n",
      "_________________________________________________________________\n",
      "block3_conv1 (Conv2D)        (None, 56, 56, 256)       295168    \n",
      "_________________________________________________________________\n",
      "block3_conv2 (Conv2D)        (None, 56, 56, 256)       590080    \n",
      "_________________________________________________________________\n",
      "block3_conv3 (Conv2D)        (None, 56, 56, 256)       590080    \n",
      "_________________________________________________________________\n",
      "block3_pool (MaxPooling2D)   (None, 28, 28, 256)       0         \n",
      "_________________________________________________________________\n",
      "block4_conv1 (Conv2D)        (None, 28, 28, 512)       1180160   \n",
      "_________________________________________________________________\n",
      "block4_conv2 (Conv2D)        (None, 28, 28, 512)       2359808   \n",
      "_________________________________________________________________\n",
      "block4_conv3 (Conv2D)        (None, 28, 28, 512)       2359808   \n",
      "_________________________________________________________________\n",
      "block4_pool (MaxPooling2D)   (None, 14, 14, 512)       0         \n",
      "_________________________________________________________________\n",
      "block5_conv1 (Conv2D)        (None, 14, 14, 512)       2359808   \n",
      "_________________________________________________________________\n",
      "block5_conv2 (Conv2D)        (None, 14, 14, 512)       2359808   \n",
      "_________________________________________________________________\n",
      "block5_conv3 (Conv2D)        (None, 14, 14, 512)       2359808   \n",
      "_________________________________________________________________\n",
      "block5_pool (MaxPooling2D)   (None, 7, 7, 512)         0         \n",
      "=================================================================\n",
      "Total params: 14,714,688\n",
      "Trainable params: 0\n",
      "Non-trainable params: 14,714,688\n",
      "_________________________________________________________________\n"
     ]
    }
   ],
   "source": [
    "vgg16_pretrained_conv.summary()"
   ]
  },
  {
   "cell_type": "markdown",
   "metadata": {},
   "source": [
    "As it can be shown above, all parameters from convolutional layers have been rendered not trainable."
   ]
  },
  {
   "cell_type": "markdown",
   "metadata": {},
   "source": [
    "#### Classification layers are added"
   ]
  },
  {
   "cell_type": "code",
   "execution_count": 7,
   "metadata": {},
   "outputs": [],
   "source": [
    "nClass=3"
   ]
  },
  {
   "cell_type": "code",
   "execution_count": 8,
   "metadata": {},
   "outputs": [],
   "source": [
    "import numpy as np\n",
    "\n",
    "from keras import models\n",
    "from keras import layers\n",
    "from keras import optimizers\n",
    "\n",
    "vgg16_imagenet_pretrained = models.Sequential()\n",
    "\n",
    "#--------------------------------------------------------------------------\n",
    "# Convolutional layers are added to the model\n",
    "#--------------------------------------------------------------------------\n",
    "vgg16_imagenet_pretrained.add(vgg16_pretrained_conv)\n",
    "\n",
    "\n",
    "#--------------------------------------------------------------------------\n",
    "# Flatten transformation is added in-between of output of convolutional \n",
    "# layers and of input of classification layers .\n",
    "#--------------------------------------------------------------------------\n",
    "vgg16_imagenet_pretrained.add(layers.Flatten())\n",
    "\n",
    "#--------------------------------------------------------------------------\n",
    "# Get output dimensions from convolutional layer\n",
    "#--------------------------------------------------------------------------\n",
    "conv_layer_output_shape = np.prod(vgg16_imagenet_pretrained.output_shape[1:])\n",
    "conv_layer_output_shape\n",
    "\n",
    "#--------------------------------------------------------------------------\n",
    "# Fist dense layer is compliant with output of last convolutional layer \n",
    "# from pre-trained model for transfer learning\n",
    "#--------------------------------------------------------------------------\n",
    "vgg16_imagenet_pretrained.add(layers.Dense(512, activation='relu', input_dim=conv_layer_output_shape))\n",
    "vgg16_imagenet_pretrained.add(layers.Dropout(0.5))\n",
    "\n",
    "#--------------------------------------------------------------------------\n",
    "# Last dense layer will classify amont nClass classes.\n",
    "#--------------------------------------------------------------------------\n",
    "vgg16_imagenet_pretrained.add(layers.Dense(nClass, activation='softmax'))\n"
   ]
  },
  {
   "cell_type": "code",
   "execution_count": 9,
   "metadata": {},
   "outputs": [
    {
     "name": "stdout",
     "output_type": "stream",
     "text": [
      "_________________________________________________________________\n",
      "Layer (type)                 Output Shape              Param #   \n",
      "=================================================================\n",
      "vgg16 (Model)                (None, 7, 7, 512)         14714688  \n",
      "_________________________________________________________________\n",
      "flatten_2 (Flatten)          (None, 25088)             0         \n",
      "_________________________________________________________________\n",
      "dense_2 (Dense)              (None, 512)               12845568  \n",
      "_________________________________________________________________\n",
      "dropout_2 (Dropout)          (None, 512)               0         \n",
      "_________________________________________________________________\n",
      "dense_3 (Dense)              (None, 3)                 1539      \n",
      "=================================================================\n",
      "Total params: 27,561,795\n",
      "Trainable params: 12,847,107\n",
      "Non-trainable params: 14,714,688\n",
      "_________________________________________________________________\n"
     ]
    }
   ],
   "source": [
    "vgg16_imagenet_pretrained.summary()"
   ]
  },
  {
   "cell_type": "markdown",
   "metadata": {},
   "source": [
    "Only parameters from classification layers are able to be parametrable."
   ]
  },
  {
   "cell_type": "code",
   "execution_count": 13,
   "metadata": {},
   "outputs": [
    {
     "name": "stdout",
     "output_type": "stream",
     "text": [
      "_________________________________________________________________\n",
      "Layer (type)                 Output Shape              Param #   \n",
      "=================================================================\n",
      "vgg16 (Model)                (None, 7, 7, 512)         14714688  \n",
      "_________________________________________________________________\n",
      "flatten_2 (Flatten)          (None, 25088)             0         \n",
      "_________________________________________________________________\n",
      "dense_2 (Dense)              (None, 512)               12845568  \n",
      "_________________________________________________________________\n",
      "dropout_2 (Dropout)          (None, 512)               0         \n",
      "_________________________________________________________________\n",
      "dense_3 (Dense)              (None, 3)                 1539      \n",
      "=================================================================\n",
      "Total params: 27,561,795\n",
      "Trainable params: 12,847,107\n",
      "Non-trainable params: 14,714,688\n",
      "_________________________________________________________________\n"
     ]
    }
   ],
   "source": [
    "vgg16_imagenet_pretrained.compile(loss=\"categorical_crossentropy\", optimizer=optimizers.SGD(lr=0.0001\\\n",
    "                                                             , momentum=0.9), metrics=[\"accuracy\"])\n",
    "vgg16_imagenet_pretrained.summary()\n"
   ]
  },
  {
   "cell_type": "markdown",
   "metadata": {},
   "source": [
    "#### Model is trained with previous features extracted from convolutional layers."
   ]
  },
  {
   "cell_type": "code",
   "execution_count": 19,
   "metadata": {},
   "outputs": [
    {
     "name": "stdout",
     "output_type": "stream",
     "text": [
      "Train on 322 samples, validate on 139 samples\n",
      "Epoch 1/50\n",
      "322/322 [==============================] - 61s 191ms/step - loss: 0.8963 - acc: 0.5497 - val_loss: 0.9850 - val_acc: 0.5324\n",
      "Epoch 2/50\n",
      "322/322 [==============================] - 57s 178ms/step - loss: 0.8856 - acc: 0.5932 - val_loss: 0.9456 - val_acc: 0.5827\n",
      "Epoch 3/50\n",
      "322/322 [==============================] - 62s 194ms/step - loss: 0.8804 - acc: 0.5839 - val_loss: 0.9345 - val_acc: 0.5324\n",
      "Epoch 4/50\n",
      "322/322 [==============================] - 54s 167ms/step - loss: 0.8034 - acc: 0.6429 - val_loss: 0.9284 - val_acc: 0.5396\n",
      "Epoch 5/50\n",
      "322/322 [==============================] - 54s 168ms/step - loss: 0.8232 - acc: 0.6149 - val_loss: 0.9136 - val_acc: 0.5683\n",
      "Epoch 6/50\n",
      "322/322 [==============================] - 53s 165ms/step - loss: 0.7965 - acc: 0.6584 - val_loss: 0.9079 - val_acc: 0.6259\n",
      "Epoch 7/50\n",
      "322/322 [==============================] - 60s 186ms/step - loss: 0.7734 - acc: 0.6832 - val_loss: 0.8929 - val_acc: 0.6187\n",
      "Epoch 8/50\n",
      "322/322 [==============================] - 57s 177ms/step - loss: 0.7497 - acc: 0.6770 - val_loss: 0.8899 - val_acc: 0.5755\n",
      "Epoch 9/50\n",
      "322/322 [==============================] - 59s 183ms/step - loss: 0.7621 - acc: 0.6677 - val_loss: 0.8810 - val_acc: 0.5971\n",
      "Epoch 10/50\n",
      "322/322 [==============================] - 53s 166ms/step - loss: 0.7072 - acc: 0.7267 - val_loss: 0.8897 - val_acc: 0.6115\n",
      "Epoch 11/50\n",
      "322/322 [==============================] - 54s 168ms/step - loss: 0.7236 - acc: 0.7019 - val_loss: 0.8751 - val_acc: 0.6259\n",
      "Epoch 12/50\n",
      "322/322 [==============================] - 54s 168ms/step - loss: 0.7014 - acc: 0.7360 - val_loss: 0.8541 - val_acc: 0.6115\n",
      "Epoch 13/50\n",
      "322/322 [==============================] - 54s 166ms/step - loss: 0.7270 - acc: 0.6957 - val_loss: 0.8514 - val_acc: 0.6259\n",
      "Epoch 14/50\n",
      "322/322 [==============================] - 54s 169ms/step - loss: 0.7023 - acc: 0.7267 - val_loss: 0.8462 - val_acc: 0.6331\n",
      "Epoch 15/50\n",
      "322/322 [==============================] - 56s 173ms/step - loss: 0.6982 - acc: 0.7174 - val_loss: 0.8354 - val_acc: 0.6547\n",
      "Epoch 16/50\n",
      "322/322 [==============================] - 55s 170ms/step - loss: 0.6462 - acc: 0.7484 - val_loss: 0.8282 - val_acc: 0.6187\n",
      "Epoch 17/50\n",
      "322/322 [==============================] - 54s 168ms/step - loss: 0.6523 - acc: 0.7422 - val_loss: 0.8246 - val_acc: 0.6187\n",
      "Epoch 18/50\n",
      "322/322 [==============================] - 54s 169ms/step - loss: 0.6595 - acc: 0.7422 - val_loss: 0.8161 - val_acc: 0.6403\n",
      "Epoch 19/50\n",
      "322/322 [==============================] - 55s 170ms/step - loss: 0.6259 - acc: 0.7609 - val_loss: 0.8228 - val_acc: 0.6187\n",
      "Epoch 20/50\n",
      "322/322 [==============================] - 55s 172ms/step - loss: 0.6324 - acc: 0.7950 - val_loss: 0.8096 - val_acc: 0.6475\n",
      "Epoch 21/50\n",
      "322/322 [==============================] - 54s 169ms/step - loss: 0.5862 - acc: 0.8137 - val_loss: 0.7996 - val_acc: 0.6547\n",
      "Epoch 22/50\n",
      "322/322 [==============================] - 54s 169ms/step - loss: 0.6115 - acc: 0.8137 - val_loss: 0.8003 - val_acc: 0.6763\n",
      "Epoch 23/50\n",
      "322/322 [==============================] - 55s 170ms/step - loss: 0.5852 - acc: 0.7795 - val_loss: 0.7962 - val_acc: 0.6691\n",
      "Epoch 24/50\n",
      "322/322 [==============================] - 60s 187ms/step - loss: 0.5993 - acc: 0.7981 - val_loss: 0.7887 - val_acc: 0.6619\n",
      "Epoch 25/50\n",
      "322/322 [==============================] - 55s 171ms/step - loss: 0.5724 - acc: 0.7919 - val_loss: 0.7794 - val_acc: 0.6763\n",
      "Epoch 26/50\n",
      "322/322 [==============================] - 54s 167ms/step - loss: 0.5771 - acc: 0.8199 - val_loss: 0.7767 - val_acc: 0.6691\n",
      "Epoch 27/50\n",
      "322/322 [==============================] - 59s 185ms/step - loss: 0.5317 - acc: 0.8012 - val_loss: 0.7811 - val_acc: 0.6691\n",
      "Epoch 28/50\n",
      "322/322 [==============================] - 56s 175ms/step - loss: 0.5373 - acc: 0.8137 - val_loss: 0.7881 - val_acc: 0.6619\n",
      "Epoch 29/50\n",
      "322/322 [==============================] - 54s 167ms/step - loss: 0.5564 - acc: 0.7950 - val_loss: 0.7713 - val_acc: 0.6547\n",
      "Epoch 30/50\n",
      "322/322 [==============================] - 54s 166ms/step - loss: 0.5504 - acc: 0.7919 - val_loss: 0.7661 - val_acc: 0.6619\n",
      "Epoch 31/50\n",
      "322/322 [==============================] - 56s 175ms/step - loss: 0.5283 - acc: 0.8323 - val_loss: 0.7802 - val_acc: 0.6619\n",
      "Epoch 32/50\n",
      "322/322 [==============================] - 56s 173ms/step - loss: 0.5369 - acc: 0.8199 - val_loss: 0.7651 - val_acc: 0.6619\n",
      "Epoch 33/50\n",
      "322/322 [==============================] - 57s 176ms/step - loss: 0.5172 - acc: 0.8354 - val_loss: 0.7567 - val_acc: 0.6835\n",
      "Epoch 34/50\n",
      "322/322 [==============================] - 52s 161ms/step - loss: 0.5371 - acc: 0.8385 - val_loss: 0.7437 - val_acc: 0.6691\n",
      "Epoch 35/50\n",
      "322/322 [==============================] - 53s 165ms/step - loss: 0.5047 - acc: 0.8540 - val_loss: 0.7412 - val_acc: 0.6619\n",
      "Epoch 36/50\n",
      "322/322 [==============================] - 57s 177ms/step - loss: 0.5157 - acc: 0.8075 - val_loss: 0.7408 - val_acc: 0.6763\n",
      "Epoch 37/50\n",
      "322/322 [==============================] - 57s 176ms/step - loss: 0.4914 - acc: 0.8416 - val_loss: 0.7467 - val_acc: 0.6835\n",
      "Epoch 38/50\n",
      "322/322 [==============================] - 56s 172ms/step - loss: 0.4710 - acc: 0.8602 - val_loss: 0.7454 - val_acc: 0.6763\n",
      "Epoch 39/50\n",
      "322/322 [==============================] - 55s 172ms/step - loss: 0.4939 - acc: 0.8602 - val_loss: 0.7323 - val_acc: 0.6978\n",
      "Epoch 40/50\n",
      "322/322 [==============================] - 54s 168ms/step - loss: 0.4851 - acc: 0.8540 - val_loss: 0.7303 - val_acc: 0.6619\n",
      "Epoch 41/50\n",
      "322/322 [==============================] - 55s 170ms/step - loss: 0.4778 - acc: 0.8696 - val_loss: 0.7431 - val_acc: 0.6475\n",
      "Epoch 42/50\n",
      "322/322 [==============================] - 55s 172ms/step - loss: 0.4580 - acc: 0.8727 - val_loss: 0.7547 - val_acc: 0.6691\n",
      "Epoch 43/50\n",
      "322/322 [==============================] - 55s 171ms/step - loss: 0.5063 - acc: 0.8292 - val_loss: 0.7377 - val_acc: 0.7122\n",
      "Epoch 44/50\n",
      "322/322 [==============================] - 55s 170ms/step - loss: 0.4776 - acc: 0.8540 - val_loss: 0.7268 - val_acc: 0.6978\n",
      "Epoch 45/50\n",
      "322/322 [==============================] - 56s 175ms/step - loss: 0.4494 - acc: 0.8851 - val_loss: 0.7193 - val_acc: 0.6547\n",
      "Epoch 46/50\n",
      "322/322 [==============================] - 55s 171ms/step - loss: 0.4685 - acc: 0.8509 - val_loss: 0.7170 - val_acc: 0.7050\n",
      "Epoch 47/50\n",
      "322/322 [==============================] - 54s 168ms/step - loss: 0.4507 - acc: 0.8665 - val_loss: 0.7295 - val_acc: 0.6978\n",
      "Epoch 48/50\n",
      "322/322 [==============================] - 53s 164ms/step - loss: 0.4307 - acc: 0.8758 - val_loss: 0.7256 - val_acc: 0.6835\n",
      "Epoch 49/50\n",
      "322/322 [==============================] - 53s 163ms/step - loss: 0.4405 - acc: 0.8696 - val_loss: 0.7140 - val_acc: 0.6835\n",
      "Epoch 50/50\n",
      "322/322 [==============================] - 53s 164ms/step - loss: 0.4510 - acc: 0.8758 - val_loss: 0.7156 - val_acc: 0.7122\n"
     ]
    }
   ],
   "source": [
    "history = vgg16_imagenet_pretrained.fit(X_train,\n",
    "                    y_train,\n",
    "                    epochs=50,\n",
    "                    batch_size=100,\n",
    "                    validation_data=(X_test,y_test))\n"
   ]
  },
  {
   "cell_type": "code",
   "execution_count": 20,
   "metadata": {},
   "outputs": [
    {
     "name": "stderr",
     "output_type": "stream",
     "text": [
      "/home/bangui/.local/lib/python3.6/site-packages/matplotlib/__init__.py:886: MatplotlibDeprecationWarning: \n",
      "examples.directory is deprecated; in the future, examples will be found relative to the 'datapath' directory.\n",
      "  \"found relative to the 'datapath' directory.\".format(key))\n"
     ]
    },
    {
     "name": "stdout",
     "output_type": "stream",
     "text": [
      "139/139 [==============================] - 14s 101ms/step\n",
      "Evaluation result on Test Data : Loss = 0.72, accuracy = 0.71\n"
     ]
    },
    {
     "data": {
      "image/png": "[encoded data removed]",
      "text/plain": [
       "<Figure size 576x432 with 1 Axes>"
      ]
     },
     "metadata": {
      "needs_background": "light"
     },
     "output_type": "display_data"
    },
    {
     "data": {
      "image/png": "[encoded data removed]",
      "text/plain": [
       "<Figure size 576x432 with 1 Axes>"
      ]
     },
     "metadata": {
      "needs_background": "light"
     },
     "output_type": "display_data"
    }
   ],
   "source": [
    "import p7_util\n",
    "\n",
    "lost, score_acc = p7_util.p7_plot_cnn_history(vgg16_imagenet_pretrained, X_test, y_test, history=history)"
   ]
  },
  {
   "cell_type": "markdown",
   "metadata": {},
   "source": [
    "#### Features are extracted feeding convolution layers with images issued from train directory.\n",
    "\n",
    "* `y_train` holds encoded classes.\n",
    "* `X_train` holds images used for training model."
   ]
  },
  {
   "cell_type": "code",
   "execution_count": null,
   "metadata": {},
   "outputs": [],
   "source": [
    "batch_id = 0\n",
    "for inputs_batch, labels_batch in train_generator:\n",
    "    \n",
    "    print(\"Batch ID= \"+str(batch_id))\n",
    "    features_batch = vgg16_pretrained_conv.predict(inputs_batch)\n",
    "    X_train[batch_id * batch_train_size : (batch_id + 1) * batch_train_size] = features_batch\n",
    "    y_train[batch_id * batch_train_size : (batch_id + 1) * batch_train_size] = labels_batch\n",
    "    batch_id += 1\n",
    "    if batch_id * batch_train_size >= nTrain:\n",
    "        break\n",
    "         \n",
    "X_train = np.reshape(X_train, (nTrain, 7 * 7 * 512))"
   ]
  },
  {
   "cell_type": "code",
   "execution_count": null,
   "metadata": {},
   "outputs": [],
   "source": [
    "X_train.shape"
   ]
  },
  {
   "cell_type": "markdown",
   "metadata": {},
   "source": [
    "#### Test dataset is loaded from test directory"
   ]
  },
  {
   "cell_type": "code",
   "execution_count": null,
   "metadata": {},
   "outputs": [],
   "source": [
    "import numpy as np\n",
    "from keras.preprocessing import image\n",
    "batch_test_size = 20\n",
    "\n",
    "test_dir  = './data/ImagesPretrained/test'\n",
    " \n",
    "datagen = image.ImageDataGenerator(rescale=1./255)\n",
    "\n",
    "#-----------------------------------------------------------------------------\n",
    "# test_generator is capable reading images from a given directory.\n",
    "#-----------------------------------------------------------------------------\n",
    "test_generator = datagen.flow_from_directory(\n",
    "    test_dir,\n",
    "    target_size=(224, 224),\n",
    "    batch_size=batch_test_size,\n",
    "    class_mode='categorical',\n",
    "    shuffle=False)\n"
   ]
  },
  {
   "cell_type": "markdown",
   "metadata": {},
   "source": [
    "#### Features from Test set are extracted"
   ]
  },
  {
   "cell_type": "code",
   "execution_count": null,
   "metadata": {},
   "outputs": [],
   "source": [
    "nTest = 101\n",
    "\n",
    "X_test = np.zeros(shape=(nTest, 7, 7, 512))\n",
    "y_test = np.zeros(shape=(nTest,nClass))\n",
    "X_test.shape, y_test.shape"
   ]
  },
  {
   "cell_type": "code",
   "execution_count": null,
   "metadata": {},
   "outputs": [],
   "source": [
    "batch_id = 0\n",
    "for inputs_batch, labels_batch in test_generator:\n",
    "    start = batch_id * batch_test_size\n",
    "    end   = start + batch_test_size\n",
    "    remain = X_test.shape[0] - start\n",
    "    \n",
    "    #end = min(end, remain)\n",
    "    print(\"Batch ID= \"+str(batch_id)+\" : start= \"+str(start)+ \" end= \"+str(end)+\" remain= \"+str(remain))\n",
    "    features_batch = vgg16_pretrained_conv.predict(inputs_batch)\n",
    "\n",
    "    if remain < batch_test_size:\n",
    "        end  = start+remain\n",
    "        X_test[start : end] = features_batch[:remain]\n",
    "        y_test[start : end] = labels_batch[:remain]\n",
    "    else :\n",
    "        X_test[start : end] = features_batch\n",
    "        y_test[start : end] = labels_batch\n",
    "    batch_id += 1\n",
    "    if batch_id * batch_test_size >= nTest:\n",
    "        break\n",
    "\n",
    "X_test = np.reshape(X_test, (nTest, 7 * 7 * 512))"
   ]
  },
  {
   "cell_type": "code",
   "execution_count": null,
   "metadata": {},
   "outputs": [],
   "source": [
    "X_test.shape, y_test.shape"
   ]
  },
  {
   "cell_type": "markdown",
   "metadata": {},
   "source": [
    "#### 2 full connected layers are created in order to complete convolutional layers.\n",
    "\n",
    "3 classes take place in the model."
   ]
  },
  {
   "cell_type": "code",
   "execution_count": null,
   "metadata": {},
   "outputs": [],
   "source": [
    "from keras import models\n",
    "from keras import layers\n",
    "from keras import optimizers\n",
    " \n",
    "model = models.Sequential()\n",
    "# Fist dense layer is compliant with output of last convolutional layer from pre-trained model for transfer learning\n",
    "model.add(layers.Dense(256, activation='relu', input_dim=7 * 7 * 512))\n",
    "model.add(layers.Dropout(0.5))\n",
    "\n",
    "# Last dense layer will classify amont nClass classes.\n",
    "model.add(layers.Dense(nClass, activation='softmax'))\n",
    "\n",
    "model.summary()"
   ]
  },
  {
   "cell_type": "code",
   "execution_count": null,
   "metadata": {},
   "outputs": [],
   "source": [
    "25088, 7*7*512"
   ]
  },
  {
   "cell_type": "code",
   "execution_count": null,
   "metadata": {},
   "outputs": [],
   "source": [
    "import matplotlib.pyplot as plt\n",
    "\n",
    "#Plot the Loss Curves\n",
    "plt.figure(figsize=[8,6])\n",
    "plt.plot(history.history['loss'],'r',linewidth=1.0)\n",
    "plt.plot(history.history['val_loss'],'b',linewidth=1.0)\n",
    "plt.legend(['Training loss', 'Validation Loss'],fontsize=18)\n",
    "plt.xlabel('Epochs ',fontsize=16)\n",
    "plt.ylabel('Loss',fontsize=16)\n",
    "plt.title('Loss Curves ',fontsize=16)\n",
    " \n",
    "#Plot the Accuracy Curves\n",
    "plt.figure(figsize=[8,6])\n",
    "plt.plot(history.history['acc'],'r',linewidth=1.0)\n",
    "plt.plot(history.history['val_acc'],'b',linewidth=1.0)\n",
    "plt.legend(['Training Accuracy', 'Validation Accuracy'],fontsize=18)\n",
    "plt.xlabel('Epochs ',fontsize=16)\n",
    "plt.ylabel('Accuracy',fontsize=16)\n",
    "plt.title('Accuracy Curves',fontsize=16)"
   ]
  },
  {
   "cell_type": "code",
   "execution_count": null,
   "metadata": {},
   "outputs": [],
   "source": []
  },
  {
   "cell_type": "markdown",
   "metadata": {},
   "source": [
    "#### Wrongly classified breeds"
   ]
  },
  {
   "cell_type": "code",
   "execution_count": null,
   "metadata": {},
   "outputs": [],
   "source": [
    "fnames = test_generator.filenames\n",
    " \n",
    "ground_truth = test_generator.classes\n",
    " \n",
    "label2index = test_generator.class_indices\n",
    " \n",
    "# Getting the mapping from class index to class label\n",
    "idx2label = dict((v,k) for k,v in label2index.items())\n",
    " \n",
    "predictions = model.predict_classes(X_test)\n",
    "prob = model.predict(X_test)\n",
    " \n",
    "errors = np.where(predictions != ground_truth)[0]\n",
    "print(\"Number of errors = {}/{}\".format(len(errors),nTest))"
   ]
  },
  {
   "cell_type": "code",
   "execution_count": null,
   "metadata": {},
   "outputs": [],
   "source": [
    "from keras.preprocessing.image import load_img\n",
    "\n",
    "for i in range(len(errors)):\n",
    "    pred_class = np.argmax(prob[errors[i]])\n",
    "    pred_label = idx2label[pred_class]\n",
    "     \n",
    "    print('Original label:{}, Prediction :{}, confidence : {:.3f}'.format(\n",
    "        fnames[errors[i]].split('/')[0],\n",
    "        pred_label,\n",
    "        prob[errors[i]][pred_class]))\n",
    "     \n",
    "    original = load_img('{}/{}'.format(test_dir,fnames[errors[i]]))\n",
    "    plt.imshow(original)\n",
    "    plt.show()"
   ]
  },
  {
   "cell_type": "code",
   "execution_count": null,
   "metadata": {},
   "outputs": [],
   "source": [
    "150/600"
   ]
  },
  {
   "cell_type": "code",
   "execution_count": null,
   "metadata": {},
   "outputs": [],
   "source": []
  },
  {
   "cell_type": "code",
   "execution_count": null,
   "metadata": {},
   "outputs": [],
   "source": [
    "from keras.applications.vgg16 import VGG16\n",
    "from keras.layers import Dense\n",
    "import p5_util\n",
    "if False :\n",
    "    # Load ImageNet pre-trained model from VGG-16 \n",
    "    # Option include_top=False leads to remove last Fully connected layer.\n",
    "    # VGG16 model is downloaed from network.\n",
    "    #vgg16_pretrained_model = VGG16(weights=\"imagenet\", include_top=False, input_shape=(224, 224, 3))\n",
    "    vgg16_pretrained_model = VGG16(weights=\"imagenet\", include_top=True, input_shape=(224, 224, 3))\n",
    "    p5_util.object_dump(vgg16_pretrained_model,'./data/vgg16_pretrained_model.dump')\n",
    "else :\n",
    "    vgg16_pretrained_model = p5_util.object_load('./data/vgg16_pretrained_model.dump')\n",
    "vgg16_pretrained_model.summary()"
   ]
  },
  {
   "cell_type": "markdown",
   "metadata": {},
   "source": [
    "#### An image is selected among breeds"
   ]
  },
  {
   "cell_type": "code",
   "execution_count": null,
   "metadata": {},
   "outputs": [],
   "source": [
    "oP7_DataBreed.breed_show()"
   ]
  },
  {
   "cell_type": "code",
   "execution_count": null,
   "metadata": {},
   "outputs": [],
   "source": [
    "breedname='dingo'"
   ]
  },
  {
   "cell_type": "code",
   "execution_count": null,
   "metadata": {},
   "outputs": [],
   "source": [
    "oP7_DataBreed.show_image_name(breedname, is_sample_show=False)"
   ]
  },
  {
   "cell_type": "code",
   "execution_count": null,
   "metadata": {},
   "outputs": [],
   "source": [
    "from keras.applications.imagenet_utils import decode_predictions\n",
    "from keras.applications import vgg16\n",
    "import p7_util\n",
    "\n",
    "imagename = 'n02115641_4970.jpg'\n",
    "pil_image = oP7_DataBreed.read_image(breedname, imagename)\n",
    "\n",
    "keras_image = p7_util.p7_pil_to_keras_image(pil_image, is_show=True)\n",
    "# prepare the image for the VGG model\n",
    "processed_image = vgg16.preprocess_input(keras_image.copy())\n",
    " \n",
    "# get the predicted probabilities for each class\n",
    "predictions = vgg16_pretrained_model.predict(processed_image)\n",
    "# print predictions\n",
    " \n",
    "# convert the probabilities to class labels\n",
    "# We will get top 5 predictions which is the default\n",
    "pred_breedname_result = decode_predictions(predictions)\n",
    "pred_breedname = pred_breedname_result[0][0][1]\n",
    "pred_proba = pred_breedname_result[0][0][2]*100\n",
    "print(\"Original breed name = \"+breedname+\" / Greatest likehood breed name= \"+str(pred_breedname)+\" Prob={0:0.2F}\".format(pred_proba))"
   ]
  },
  {
   "cell_type": "code",
   "execution_count": null,
   "metadata": {},
   "outputs": [],
   "source": []
  },
  {
   "cell_type": "markdown",
   "metadata": {},
   "source": [
    "#### Transfer learning model is built\n",
    "* Output of all layers previous top layer are extracted.\n",
    "* A new fully connected layer (dense layer) is built using previous layer as an input layer"
   ]
  },
  {
   "cell_type": "code",
   "execution_count": null,
   "metadata": {},
   "outputs": [],
   "source": [
    "from keras import models\n",
    "from keras import layers\n",
    "\n",
    "# Outputs parameters are retrieved from previous layers\n",
    "vgg16_model_tensor = vgg16_pretrained_model.output\n",
    "\n",
    "# A new fully connected layer is then added in order to classify nbreeds breeds.\n",
    "# Activation function is Softmax; This last layer is applied to the data input vgg16_model_parameters\n",
    "vgg16_fc_tensor = layers.Dense(nbreed, activation='softmax')(vgg16_model_tensor)\n",
    "\n",
    "# New VGG16 model for transfer learning is defined with : \n",
    "# * All layers except last layer are issued from \n",
    "# * fully connected layer previously defined.\n",
    "model_vgg16_transfer_learning = models.Model(inputs=vgg16_pretrained_model.input, outputs=vgg16_fc_tensor)\n",
    "type(model_vgg16_transfer_learning)"
   ]
  },
  {
   "cell_type": "markdown",
   "metadata": {},
   "source": [
    "#### Compilation : shape of all internal layers are computed by compiler"
   ]
  },
  {
   "cell_type": "code",
   "execution_count": null,
   "metadata": {},
   "outputs": [],
   "source": [
    "# Compiler le modèle \n",
    "from keras import optimizers\n",
    "\n",
    "model_vgg16_transfer_learning.compile(loss=\"categorical_crossentropy\", optimizer=optimizers.SGD(lr=0.0001, momentum=0.9), metrics=[\"accuracy\"])"
   ]
  },
  {
   "cell_type": "code",
   "execution_count": null,
   "metadata": {},
   "outputs": [],
   "source": [
    "import numpy as np\n",
    "import p5_util\n",
    "\n",
    "filename='./data/arr_keras_X_y_train_test.dump'\n",
    "(X_train,X_test, y_train, y_test) = p5_util.object_load(filename)\n",
    "print(X_train.shape,X_test.shape,y_train.shape,y_test.shape)\n",
    "if False :\n",
    "    n_xtrain = int((X_train.shape[0]*X_train.shape[1]*X_train.shape[2]*X_train.shape[3])/(7*7*512))\n",
    "    print(n_xtrain)\n",
    "\n",
    "    n_ytrain = int((y_train.shape[0]*y_train.shape[1])/(7*7*512))\n",
    "    print(n_ytrain)\n",
    "\n",
    "    X_train = X_train.reshape((n_xtrain, 7, 7, 512))\n",
    "    #y_train = y_train.reshape((n_ytrain, 7, 7, 512))\n",
    "    print(X_train.shape, y_train.shape)\n",
    "    np.unique(y_train)"
   ]
  },
  {
   "cell_type": "code",
   "execution_count": null,
   "metadata": {},
   "outputs": [],
   "source": [
    "n_ytrain = int((y_train.shape[0]*y_train.shape[1])/(7*7*3))\n",
    "print(n_ytrain)\n",
    "y_train.shape,7*7*3"
   ]
  },
  {
   "cell_type": "code",
   "execution_count": null,
   "metadata": {},
   "outputs": [],
   "source": [
    "#help(model_vgg16_transfer_learning.fit)\n",
    "model_vgg16_transfer_learning.summary()"
   ]
  },
  {
   "cell_type": "code",
   "execution_count": null,
   "metadata": {},
   "outputs": [],
   "source": [
    "y_train.shape"
   ]
  },
  {
   "cell_type": "code",
   "execution_count": null,
   "metadata": {},
   "outputs": [],
   "source": [
    "# Entraîner sur les données d'entraînement (X_train, y_train)\n",
    "model_info = model_vgg16_transfer_learning.fit(X_train, y_train, epochs=1, batch_size=1, verbose=2)"
   ]
  },
  {
   "cell_type": "markdown",
   "metadata": {},
   "source": [
    "## Total fine-tuning\n",
    "\n",
    "On remplace la dernière couche fully-connected du réseau pré-entraîné par un classifieur adapté au nouveau problème (SVM, régression logistique...) et initialisé de manière aléatoire. Toutes les couches sont ensuite entraînées sur les nouvelles images. \n",
    "\n",
    "La stratégie #1 doit être utilisée lorsque la nouvelle collection d'images est grande : dans ce cas, on peut se permettre d'entraîner tout le réseau sans courir le risque d'overfitting. De plus, comme les paramètres de toutes les couches (sauf de la dernière) sont initialement ceux du réseau pré-entraîné, la phase d'apprentissage sera faite plus rapidement que si l'initialisation avait été aléatoire."
   ]
  },
  {
   "cell_type": "code",
   "execution_count": null,
   "metadata": {},
   "outputs": [],
   "source": []
  }
 ],
 "metadata": {
  "kernelspec": {
   "display_name": "Python 3",
   "language": "python",
   "name": "python3"
  },
  "language_info": {
   "codemirror_mode": {
    "name": "ipython",
    "version": 3
   },
   "file_extension": ".py",
   "mimetype": "text/x-python",
   "name": "python",
   "nbconvert_exporter": "python",
   "pygments_lexer": "ipython3",
   "version": "3.6.8"
  }
 },
 "nbformat": 4,
 "nbformat_minor": 2
}
