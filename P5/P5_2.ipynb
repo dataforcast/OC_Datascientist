{
 "cells": [
  {
   "cell_type": "markdown",
   "metadata": {},
   "source": [
    "<!--NOTEBOOK_INFORMATION-->\n",
    "<img align=\"left\" style=\"padding-right:10px;\" src=\"./figures/LogoOpenclassrooms.png\">\n",
    "<font size=\"4\">\n",
    "<p>\n",
    "Cette étude a été réalisée dans le cadre du 5ème projet de ma formation Datascientist dispensée en MOOC par \n",
    "**<font color='blus'>Openclassrooms / écoles Centrale-Supélec</font>**.\n",
    "</p>    \n",
    "\n",
    "<p>\n",
    "Les données étudiées dans ce noteboook sont fournies par le site :\n",
    "</p>\n",
    "<p>\n",
    "https://archive.ics.uci.edu/ml/datasets/Online+Retail\n",
    "</p>\n",
    "<p>\n",
    "Ce notebook implémente les phases de l'analyse exploratoire de la façon suivante :\n",
    "</p>\n",
    "* l'acquisition des données\n",
    "* le nettoyage des données    \n",
    "* l'analyse exploratoire des données    \n",
    "\n",
    "\n",
    "**Les résultats des traitements effectués dans ce notebook sont repris dans les notebook **\n",
    "\n",
    "* <font color='blue'>*P5_2_timeFeature.ipynb*</font>. \n",
    "\n",
    "* <font color='blue'>*P5_2_RFM.ipynb*</font>. \n",
    "\n",
    "* <font color='blue'>*P5_2_NLP.ipynb*</font>. \n",
    "\n",
    "* <font color='blue'>*P5_2_AllFeature.ipynb*</font>. \n"
   ]
  },
  {
   "cell_type": "code",
   "execution_count": 1,
   "metadata": {},
   "outputs": [],
   "source": [
    "import pandas as pd\n",
    "import numpy as np\n",
    "import time\n",
    "\n",
    "import p3_util\n",
    "import p3_util_plot\n",
    "import p5_util\n",
    "import p5_util_plot\n",
    "\n",
    "#--------------------------\n",
    "# Process flow parameters\n",
    "#--------------------------\n",
    "is_reloaded = False\n",
    "\n",
    "#---------------------------------------------------------------------------\n",
    "# Outliers values issued from Total feature are removed or not from dataset.\n",
    "is_total_no_outliers = False\n",
    "#---------------------------------------------------------------------------\n",
    "\n",
    "#---------------------------------------------------------------------------\n",
    "# Encoded RFM features are clusterized separatly from other features.\n",
    "#---------------------------------------------------------------------------\n",
    "is_rfm_cluster = True"
   ]
  },
  {
   "cell_type": "markdown",
   "metadata": {},
   "source": [
    "\n",
    "# <font color='blues'>Data preparation</font>\n",
    "\n",
    "On s'est assuré qu'i n'y avait qu'un seul onglet dans le fichier."
   ]
  },
  {
   "cell_type": "markdown",
   "metadata": {},
   "source": [
    "## <font color='blue'>Data reading</font>"
   ]
  },
  {
   "cell_type": "code",
   "execution_count": 2,
   "metadata": {},
   "outputs": [
    {
     "name": "stdout",
     "output_type": "stream",
     "text": [
      "Elapsed time = 43.41\n"
     ]
    }
   ],
   "source": [
    "fileName = './data/OnlineRetail.xlsx'\n",
    "t0 = time.time()\n",
    "df_invoice_line = pd.read_excel(fileName)\n",
    "t1 = time.time()\n",
    "print(\"Elapsed time = %1.2f\" %(t1-t0))"
   ]
  },
  {
   "cell_type": "markdown",
   "metadata": {},
   "source": [
    "# <font color='blus'>Data cleaning</font>\n",
    "\n",
    " * Les lignes contenant les customers ID a Nan sont purgées.\n",
    " * Les lignes contenant des variables aberrantes sont purgées"
   ]
  },
  {
   "cell_type": "code",
   "execution_count": 3,
   "metadata": {},
   "outputs": [
    {
     "name": "stdout",
     "output_type": "stream",
     "text": [
      "(541909, 8)\n"
     ]
    },
    {
     "data": {
      "text/html": [
       "<div>\n",
       "<style scoped>\n",
       "    .dataframe tbody tr th:only-of-type {\n",
       "        vertical-align: middle;\n",
       "    }\n",
       "\n",
       "    .dataframe tbody tr th {\n",
       "        vertical-align: top;\n",
       "    }\n",
       "\n",
       "    .dataframe thead th {\n",
       "        text-align: right;\n",
       "    }\n",
       "</style>\n",
       "<table border=\"1\" class=\"dataframe\">\n",
       "  <thead>\n",
       "    <tr style=\"text-align: right;\">\n",
       "      <th></th>\n",
       "      <th>InvoiceNo</th>\n",
       "      <th>StockCode</th>\n",
       "      <th>Description</th>\n",
       "      <th>Quantity</th>\n",
       "      <th>InvoiceDate</th>\n",
       "      <th>UnitPrice</th>\n",
       "      <th>CustomerID</th>\n",
       "      <th>Country</th>\n",
       "    </tr>\n",
       "  </thead>\n",
       "  <tbody>\n",
       "    <tr>\n",
       "      <th>310991</th>\n",
       "      <td>564221</td>\n",
       "      <td>22433</td>\n",
       "      <td>WATERING CAN GREEN DINOSAUR</td>\n",
       "      <td>1</td>\n",
       "      <td>2011-08-24 09:36:00</td>\n",
       "      <td>4.13</td>\n",
       "      <td>NaN</td>\n",
       "      <td>United Kingdom</td>\n",
       "    </tr>\n",
       "    <tr>\n",
       "      <th>90714</th>\n",
       "      <td>544064</td>\n",
       "      <td>82486</td>\n",
       "      <td>WOOD S/3 CABINET ANT WHITE FINISH</td>\n",
       "      <td>1</td>\n",
       "      <td>2011-02-15 13:50:00</td>\n",
       "      <td>8.95</td>\n",
       "      <td>17114.0</td>\n",
       "      <td>United Kingdom</td>\n",
       "    </tr>\n",
       "    <tr>\n",
       "      <th>64904</th>\n",
       "      <td>541681</td>\n",
       "      <td>22554</td>\n",
       "      <td>PLASTERS IN TIN WOODLAND ANIMALS</td>\n",
       "      <td>12</td>\n",
       "      <td>2011-01-20 14:24:00</td>\n",
       "      <td>1.65</td>\n",
       "      <td>13008.0</td>\n",
       "      <td>United Kingdom</td>\n",
       "    </tr>\n",
       "  </tbody>\n",
       "</table>\n",
       "</div>"
      ],
      "text/plain": [
       "       InvoiceNo StockCode                        Description  Quantity  \\\n",
       "310991    564221     22433        WATERING CAN GREEN DINOSAUR         1   \n",
       "90714     544064     82486  WOOD S/3 CABINET ANT WHITE FINISH         1   \n",
       "64904     541681     22554   PLASTERS IN TIN WOODLAND ANIMALS        12   \n",
       "\n",
       "               InvoiceDate  UnitPrice  CustomerID         Country  \n",
       "310991 2011-08-24 09:36:00       4.13         NaN  United Kingdom  \n",
       "90714  2011-02-15 13:50:00       8.95     17114.0  United Kingdom  \n",
       "64904  2011-01-20 14:24:00       1.65     13008.0  United Kingdom  "
      ]
     },
     "execution_count": 3,
     "metadata": {},
     "output_type": "execute_result"
    }
   ],
   "source": [
    "print(df_invoice_line.shape)\n",
    "df_invoice_line.sample(3)"
   ]
  },
  {
   "cell_type": "markdown",
   "metadata": {},
   "source": [
    "**Description des variables quantitatives**"
   ]
  },
  {
   "cell_type": "code",
   "execution_count": 4,
   "metadata": {},
   "outputs": [
    {
     "data": {
      "text/html": [
       "<div>\n",
       "<style scoped>\n",
       "    .dataframe tbody tr th:only-of-type {\n",
       "        vertical-align: middle;\n",
       "    }\n",
       "\n",
       "    .dataframe tbody tr th {\n",
       "        vertical-align: top;\n",
       "    }\n",
       "\n",
       "    .dataframe thead th {\n",
       "        text-align: right;\n",
       "    }\n",
       "</style>\n",
       "<table border=\"1\" class=\"dataframe\">\n",
       "  <thead>\n",
       "    <tr style=\"text-align: right;\">\n",
       "      <th></th>\n",
       "      <th>Quantity</th>\n",
       "      <th>UnitPrice</th>\n",
       "      <th>CustomerID</th>\n",
       "    </tr>\n",
       "  </thead>\n",
       "  <tbody>\n",
       "    <tr>\n",
       "      <th>count</th>\n",
       "      <td>541909.000000</td>\n",
       "      <td>541909.000000</td>\n",
       "      <td>406829.000000</td>\n",
       "    </tr>\n",
       "    <tr>\n",
       "      <th>mean</th>\n",
       "      <td>9.552250</td>\n",
       "      <td>4.611114</td>\n",
       "      <td>15287.690570</td>\n",
       "    </tr>\n",
       "    <tr>\n",
       "      <th>std</th>\n",
       "      <td>218.081158</td>\n",
       "      <td>96.759853</td>\n",
       "      <td>1713.600303</td>\n",
       "    </tr>\n",
       "    <tr>\n",
       "      <th>min</th>\n",
       "      <td>-80995.000000</td>\n",
       "      <td>-11062.060000</td>\n",
       "      <td>12346.000000</td>\n",
       "    </tr>\n",
       "    <tr>\n",
       "      <th>25%</th>\n",
       "      <td>1.000000</td>\n",
       "      <td>1.250000</td>\n",
       "      <td>13953.000000</td>\n",
       "    </tr>\n",
       "    <tr>\n",
       "      <th>50%</th>\n",
       "      <td>3.000000</td>\n",
       "      <td>2.080000</td>\n",
       "      <td>15152.000000</td>\n",
       "    </tr>\n",
       "    <tr>\n",
       "      <th>75%</th>\n",
       "      <td>10.000000</td>\n",
       "      <td>4.130000</td>\n",
       "      <td>16791.000000</td>\n",
       "    </tr>\n",
       "    <tr>\n",
       "      <th>max</th>\n",
       "      <td>80995.000000</td>\n",
       "      <td>38970.000000</td>\n",
       "      <td>18287.000000</td>\n",
       "    </tr>\n",
       "  </tbody>\n",
       "</table>\n",
       "</div>"
      ],
      "text/plain": [
       "            Quantity      UnitPrice     CustomerID\n",
       "count  541909.000000  541909.000000  406829.000000\n",
       "mean        9.552250       4.611114   15287.690570\n",
       "std       218.081158      96.759853    1713.600303\n",
       "min    -80995.000000  -11062.060000   12346.000000\n",
       "25%         1.000000       1.250000   13953.000000\n",
       "50%         3.000000       2.080000   15152.000000\n",
       "75%        10.000000       4.130000   16791.000000\n",
       "max     80995.000000   38970.000000   18287.000000"
      ]
     },
     "execution_count": 4,
     "metadata": {},
     "output_type": "execute_result"
    }
   ],
   "source": [
    "df_invoice_line.describe()"
   ]
  },
  {
   "cell_type": "markdown",
   "metadata": {},
   "source": [
    "* **Drop duplicated rows**"
   ]
  },
  {
   "cell_type": "code",
   "execution_count": 5,
   "metadata": {},
   "outputs": [
    {
     "data": {
      "text/plain": [
       "Index(['InvoiceNo', 'StockCode', 'Description', 'Quantity', 'InvoiceDate',\n",
       "       'UnitPrice', 'CustomerID', 'Country'],\n",
       "      dtype='object')"
      ]
     },
     "execution_count": 5,
     "metadata": {},
     "output_type": "execute_result"
    }
   ],
   "source": [
    "df_invoice_line.columns\n",
    "#df_invoice_line[['CustomerID','Country']].drop_duplicates()"
   ]
  },
  {
   "cell_type": "markdown",
   "metadata": {},
   "source": [
    "* **Drop rows containing Nan values**"
   ]
  },
  {
   "cell_type": "code",
   "execution_count": 6,
   "metadata": {},
   "outputs": [
    {
     "name": "stdout",
     "output_type": "stream",
     "text": [
      "(541909, 8)\n",
      "(406829, 8)\n",
      "\n",
      "*** Nan values : Percent of dropped rows = 24.93\n"
     ]
    }
   ],
   "source": [
    "rows_before = df_invoice_line.shape[0]\n",
    "print(df_invoice_line.shape)\n",
    "df_invoice_line.dropna(axis=0, how='any', inplace=True)\n",
    "print(df_invoice_line.shape)\n",
    "rows_after = df_invoice_line.shape[0]\n",
    "print(\"\\n*** Nan values : Percent of dropped rows = %1.2F\" %(np.abs(rows_before-rows_after)*100/rows_before))"
   ]
  },
  {
   "cell_type": "markdown",
   "metadata": {},
   "source": [
    "* **Drop quantity <= 0**"
   ]
  },
  {
   "cell_type": "code",
   "execution_count": 7,
   "metadata": {},
   "outputs": [
    {
     "name": "stdout",
     "output_type": "stream",
     "text": [
      "CustomerID <= 0 : Percent of dropped rows = 2.19\n"
     ]
    }
   ],
   "source": [
    "rows_before = df_invoice_line.shape[0]\n",
    "df_invoice_line = df_invoice_line[(df_invoice_line['Quantity']>0)]\n",
    "rows_after = df_invoice_line.shape[0]\n",
    "print(\"CustomerID <= 0 : Percent of dropped rows = %1.2F\" %(np.abs(rows_before-rows_after)*100/rows_before))"
   ]
  },
  {
   "cell_type": "markdown",
   "metadata": {},
   "source": [
    "* **Drop CustomerID <= 0**\n",
    "* **Drop UnitPrice <=0**\n",
    "* **Drop Quantity <=0**"
   ]
  },
  {
   "cell_type": "code",
   "execution_count": 8,
   "metadata": {},
   "outputs": [
    {
     "name": "stdout",
     "output_type": "stream",
     "text": [
      "(397924, 8)\n",
      "(397884, 8)\n",
      "(397884, 8)\n"
     ]
    }
   ],
   "source": [
    "df_invoice_line = df_invoice_line[df_invoice_line['CustomerID'] > 0]\n",
    "print(df_invoice_line.shape)\n",
    "\n",
    "df_invoice_line = df_invoice_line[df_invoice_line['UnitPrice']>0]\n",
    "print(df_invoice_line.shape)\n",
    "\n",
    "df_invoice_line = df_invoice_line[df_invoice_line['Quantity']>0]\n",
    "print(df_invoice_line.shape)"
   ]
  },
  {
   "cell_type": "markdown",
   "metadata": {},
   "source": [
    "* **Verification de l'existance de valeurs nulles dans chacune des colonnes et chacune des lignes**"
   ]
  },
  {
   "cell_type": "code",
   "execution_count": 9,
   "metadata": {},
   "outputs": [
    {
     "data": {
      "text/plain": [
       "0"
      ]
     },
     "execution_count": 9,
     "metadata": {},
     "output_type": "execute_result"
    }
   ],
   "source": [
    "# Verification sur toutes les lignes (axis=1) puis somme des résultats en colonne (axis=0)\n",
    "df_invoice_line.isnull().sum(axis=1).sum(axis=0)"
   ]
  },
  {
   "cell_type": "markdown",
   "metadata": {},
   "source": [
    "* **CustomerID is converted as integer**"
   ]
  },
  {
   "cell_type": "code",
   "execution_count": 10,
   "metadata": {},
   "outputs": [],
   "source": [
    "df_invoice_line.CustomerID = df_invoice_line.CustomerID.astype(int)"
   ]
  },
  {
   "cell_type": "code",
   "execution_count": 11,
   "metadata": {},
   "outputs": [
    {
     "name": "stdout",
     "output_type": "stream",
     "text": [
      "\n",
      "*** Nombre de clients dans le dataset : 4338\n"
     ]
    }
   ],
   "source": [
    "nb_customers = len(df_invoice_line.CustomerID.unique())\n",
    "print(\"\\n*** Nombre de clients dans le dataset : \"+str(nb_customers))"
   ]
  },
  {
   "cell_type": "code",
   "execution_count": 12,
   "metadata": {},
   "outputs": [
    {
     "name": "stdout",
     "output_type": "stream",
     "text": [
      "Index(['InvoiceNo', 'StockCode', 'Description', 'Quantity', 'InvoiceDate',\n",
      "       'UnitPrice', 'CustomerID', 'Country'],\n",
      "      dtype='object') (397884, 8)\n"
     ]
    }
   ],
   "source": [
    "print(df_invoice_line.columns, df_invoice_line.shape)"
   ]
  },
  {
   "cell_type": "code",
   "execution_count": 13,
   "metadata": {},
   "outputs": [
    {
     "data": {
      "text/html": [
       "<div>\n",
       "<style scoped>\n",
       "    .dataframe tbody tr th:only-of-type {\n",
       "        vertical-align: middle;\n",
       "    }\n",
       "\n",
       "    .dataframe tbody tr th {\n",
       "        vertical-align: top;\n",
       "    }\n",
       "\n",
       "    .dataframe thead th {\n",
       "        text-align: right;\n",
       "    }\n",
       "</style>\n",
       "<table border=\"1\" class=\"dataframe\">\n",
       "  <thead>\n",
       "    <tr style=\"text-align: right;\">\n",
       "      <th></th>\n",
       "      <th>InvoiceNo</th>\n",
       "      <th>StockCode</th>\n",
       "      <th>Description</th>\n",
       "      <th>Quantity</th>\n",
       "      <th>InvoiceDate</th>\n",
       "      <th>UnitPrice</th>\n",
       "      <th>CustomerID</th>\n",
       "      <th>Country</th>\n",
       "    </tr>\n",
       "  </thead>\n",
       "  <tbody>\n",
       "    <tr>\n",
       "      <th>442203</th>\n",
       "      <td>574667</td>\n",
       "      <td>21034</td>\n",
       "      <td>REX CASH+CARRY JUMBO SHOPPER</td>\n",
       "      <td>5</td>\n",
       "      <td>2011-11-06 12:12:00</td>\n",
       "      <td>0.95</td>\n",
       "      <td>15514</td>\n",
       "      <td>United Kingdom</td>\n",
       "    </tr>\n",
       "  </tbody>\n",
       "</table>\n",
       "</div>"
      ],
      "text/plain": [
       "       InvoiceNo StockCode                   Description  Quantity  \\\n",
       "442203    574667     21034  REX CASH+CARRY JUMBO SHOPPER         5   \n",
       "\n",
       "               InvoiceDate  UnitPrice  CustomerID         Country  \n",
       "442203 2011-11-06 12:12:00       0.95       15514  United Kingdom  "
      ]
     },
     "execution_count": 13,
     "metadata": {},
     "output_type": "execute_result"
    }
   ],
   "source": [
    "df_invoice_line.sample(1)"
   ]
  },
  {
   "cell_type": "markdown",
   "metadata": {},
   "source": [
    "#### <font color='blue'> Removing duplicated rows</font>"
   ]
  },
  {
   "cell_type": "code",
   "execution_count": 14,
   "metadata": {},
   "outputs": [
    {
     "name": "stdout",
     "output_type": "stream",
     "text": [
      "(397884, 8)\n",
      "(392670, 8)\n"
     ]
    }
   ],
   "source": [
    "list_col_dupl = ['InvoiceNo','StockCode','InvoiceDate','Quantity','CustomerID']\n",
    "print(df_invoice_line.shape)\n",
    "df_invoice_line.drop_duplicates(subset=list_col_dupl, keep='first', inplace=True)\n",
    "print(df_invoice_line.shape)"
   ]
  },
  {
   "cell_type": "markdown",
   "metadata": {},
   "source": [
    "#### <font color='blue'>Countries are filtered</font>"
   ]
  },
  {
   "cell_type": "code",
   "execution_count": 38,
   "metadata": {},
   "outputs": [],
   "source": [
    "if 'Country' in df_invoice_line.columns:\n",
    "    df_invoice_line.Country.unique()"
   ]
  },
  {
   "cell_type": "markdown",
   "metadata": {},
   "source": [
    "United Kingdom is the only country to be kept"
   ]
  },
  {
   "cell_type": "code",
   "execution_count": 39,
   "metadata": {},
   "outputs": [
    {
     "name": "stdout",
     "output_type": "stream",
     "text": [
      "(349189, 8)\n",
      "(349189, 8)\n",
      "(349189, 7)\n"
     ]
    }
   ],
   "source": [
    "print(df_invoice_line.shape)\n",
    "\n",
    "df_invoice_line.query(\"Country == 'United Kingdom'\", inplace=True)\n",
    "\n",
    "print(df_invoice_line.shape)\n",
    "\n",
    "if 'Country' in df_invoice_line:\n",
    "    del(df_invoice_line['Country'])\n",
    "print(df_invoice_line.shape)\n"
   ]
  },
  {
   "cell_type": "markdown",
   "metadata": {},
   "source": [
    "#### <font color='blue'>Reset index </font>"
   ]
  },
  {
   "cell_type": "code",
   "execution_count": 40,
   "metadata": {},
   "outputs": [
    {
     "data": {
      "text/html": [
       "<div>\n",
       "<style scoped>\n",
       "    .dataframe tbody tr th:only-of-type {\n",
       "        vertical-align: middle;\n",
       "    }\n",
       "\n",
       "    .dataframe tbody tr th {\n",
       "        vertical-align: top;\n",
       "    }\n",
       "\n",
       "    .dataframe thead th {\n",
       "        text-align: right;\n",
       "    }\n",
       "</style>\n",
       "<table border=\"1\" class=\"dataframe\">\n",
       "  <thead>\n",
       "    <tr style=\"text-align: right;\">\n",
       "      <th></th>\n",
       "      <th>InvoiceNo</th>\n",
       "      <th>StockCode</th>\n",
       "      <th>Description</th>\n",
       "      <th>Quantity</th>\n",
       "      <th>InvoiceDate</th>\n",
       "      <th>UnitPrice</th>\n",
       "      <th>CustomerID</th>\n",
       "    </tr>\n",
       "  </thead>\n",
       "  <tbody>\n",
       "    <tr>\n",
       "      <th>237949</th>\n",
       "      <td>569528</td>\n",
       "      <td>22867</td>\n",
       "      <td>HAND WARMER BIRD DESIGN</td>\n",
       "      <td>5</td>\n",
       "      <td>2011-10-04 14:53:00</td>\n",
       "      <td>2.1</td>\n",
       "      <td>16242</td>\n",
       "    </tr>\n",
       "  </tbody>\n",
       "</table>\n",
       "</div>"
      ],
      "text/plain": [
       "       InvoiceNo StockCode              Description  Quantity  \\\n",
       "237949    569528     22867  HAND WARMER BIRD DESIGN         5   \n",
       "\n",
       "               InvoiceDate  UnitPrice  CustomerID  \n",
       "237949 2011-10-04 14:53:00        2.1       16242  "
      ]
     },
     "execution_count": 40,
     "metadata": {},
     "output_type": "execute_result"
    }
   ],
   "source": [
    "df_invoice_line = df_invoice_line.reset_index()\n",
    "\n",
    "del(df_invoice_line['index'])\n",
    "df_invoice_line.sample(1)"
   ]
  },
  {
   "cell_type": "code",
   "execution_count": 271,
   "metadata": {},
   "outputs": [
    {
     "data": {
      "text/plain": [
       "(349189, 7)"
      ]
     },
     "execution_count": 271,
     "metadata": {},
     "output_type": "execute_result"
    }
   ],
   "source": [
    "df_invoice_line.shape"
   ]
  },
  {
   "cell_type": "code",
   "execution_count": 42,
   "metadata": {},
   "outputs": [
    {
     "name": "stdout",
     "output_type": "stream",
     "text": [
      "\n",
      "*** Nombre de factures= 16646\n"
     ]
    }
   ],
   "source": [
    "nb_invoices = len(df_invoice_line['InvoiceNo'].unique())\n",
    "print(\"\\n*** Nombre de factures= \"+str(nb_invoices))"
   ]
  },
  {
   "cell_type": "code",
   "execution_count": 43,
   "metadata": {},
   "outputs": [
    {
     "name": "stdout",
     "output_type": "stream",
     "text": [
      "\n",
      "*** Nombre de clients= 3920\n"
     ]
    }
   ],
   "source": [
    "nb_customers = len(df_invoice_line['CustomerID'].unique())\n",
    "print(\"\\n*** Nombre de clients= \"+str(nb_customers))"
   ]
  },
  {
   "cell_type": "markdown",
   "metadata": {},
   "source": [
    "#### <font color='blue'>Backup cleaned ``df_invoice_line`` dataframe</font>"
   ]
  },
  {
   "cell_type": "code",
   "execution_count": 44,
   "metadata": {},
   "outputs": [],
   "source": [
    "import p5_util\n",
    "file_name = './data/df_invoice_line_clean.dump'\n",
    "p5_util.object_dump(df_invoice_line, file_name)"
   ]
  },
  {
   "cell_type": "markdown",
   "metadata": {},
   "source": [
    "### <font color='blue'>Sampling from *df_invoice_line* dataframe</font>"
   ]
  },
  {
   "cell_type": "markdown",
   "metadata": {},
   "source": [
    "#### <font color='blue'>Restore cleaned dataframe</font>"
   ]
  },
  {
   "cell_type": "code",
   "execution_count": 263,
   "metadata": {},
   "outputs": [
    {
     "name": "stdout",
     "output_type": "stream",
     "text": [
      "(349189, 7)\n"
     ]
    }
   ],
   "source": [
    "import p5_util\n",
    "is_reloaded = True\n",
    "if is_reloaded is True:\n",
    "    file_name = './data/df_invoice_line_clean.dump'\n",
    "    df_invoice_line = p5_util.object_load(file_name)\n",
    "    print(df_invoice_line.shape)    "
   ]
  },
  {
   "cell_type": "markdown",
   "metadata": {},
   "source": [
    "#### <font color='blue'>Backup sampled dataframe</font>"
   ]
  },
  {
   "cell_type": "code",
   "execution_count": 46,
   "metadata": {},
   "outputs": [
    {
     "name": "stdout",
     "output_type": "stream",
     "text": [
      "(194907, 7)\n"
     ]
    }
   ],
   "source": [
    "import p5_util\n",
    "col='CustomerID'\n",
    "ratio = 0.80\n",
    "\n",
    "df_invoice_line_sample = p5_util.df_sampling(df_invoice_line, 'CustomerID', ratio, mode='random')\n",
    "print(df_invoice_line_sample.shape)\n",
    "file_name = './data/df_invoice_line_sample_random.dump'\n",
    "p5_util.object_dump(df_invoice_line_sample, file_name)"
   ]
  },
  {
   "cell_type": "code",
   "execution_count": 274,
   "metadata": {},
   "outputs": [
    {
     "data": {
      "text/plain": [
       "Timestamp('2011-12-09 12:49:00')"
      ]
     },
     "execution_count": 274,
     "metadata": {},
     "output_type": "execute_result"
    }
   ],
   "source": [
    "df_invoice_line_sample.InvoiceDate.max()"
   ]
  },
  {
   "cell_type": "markdown",
   "metadata": {},
   "source": [
    "#### <font color='blue'>Backup out of sampling dataframe</font>"
   ]
  },
  {
   "cell_type": "code",
   "execution_count": 269,
   "metadata": {},
   "outputs": [],
   "source": [
    "import numpy as np\n",
    "\n",
    "import p5_util\n",
    "\n",
    "# Get customerID from sampling\n",
    "arr_sample_customerID = np.unique(df_invoice_line_sample.CustomerID.values)\n",
    "\n",
    "# Query cleaned dataframe with customerID out of sample\n",
    "df_query = \"CustomerID not in \"+str(list(arr_sample_customerID))\n",
    "df_invoice_line_out_sample = df_invoice_line.query(df_query)\n",
    "\n",
    "# Dump out of sample customerID dataframe\n",
    "file_name = './data/df_invoice_line_out_sample_random.dump'\n",
    "p5_util.object_dump(df_invoice_line_out_sample, file_name)"
   ]
  },
  {
   "cell_type": "code",
   "execution_count": 255,
   "metadata": {},
   "outputs": [
    {
     "data": {
      "text/plain": [
       "(194907, 7)"
      ]
     },
     "execution_count": 255,
     "metadata": {},
     "output_type": "execute_result"
    }
   ],
   "source": [
    "df_invoice_line_sample.shape"
   ]
  },
  {
   "cell_type": "code",
   "execution_count": 257,
   "metadata": {},
   "outputs": [
    {
     "name": "stdout",
     "output_type": "stream",
     "text": [
      "Max date from sample = 2011-12-09 12:49:00\n"
     ]
    }
   ],
   "source": [
    "print(\"Max date from sample = \"+str(df_invoice_line_sample.InvoiceDate.max()))"
   ]
  },
  {
   "cell_type": "code",
   "execution_count": 50,
   "metadata": {},
   "outputs": [
    {
     "name": "stdout",
     "output_type": "stream",
     "text": [
      "\n",
      "*** Nombre de factures du sample= 9330\n"
     ]
    }
   ],
   "source": [
    "nb_invoices = len(df_invoice_line_sample['InvoiceNo'].unique())\n",
    "print(\"\\n*** Nombre de factures du sample= \"+str(nb_invoices))"
   ]
  },
  {
   "cell_type": "code",
   "execution_count": 51,
   "metadata": {},
   "outputs": [
    {
     "name": "stdout",
     "output_type": "stream",
     "text": [
      "\n",
      "*** Nombre de clients du sample= 2124\n"
     ]
    }
   ],
   "source": [
    "nb_customers = len(df_invoice_line_sample['CustomerID'].unique())\n",
    "print(\"\\n*** Nombre de clients du sample= \"+str(nb_customers))"
   ]
  },
  {
   "cell_type": "markdown",
   "metadata": {},
   "source": [
    "# <font color='blus'>Data exploration</font>"
   ]
  },
  {
   "cell_type": "code",
   "execution_count": 58,
   "metadata": {},
   "outputs": [
    {
     "name": "stdout",
     "output_type": "stream",
     "text": [
      "(194907, 7)\n"
     ]
    }
   ],
   "source": [
    "import p5_util\n",
    "if is_reloaded is True:\n",
    "    file_name = './data/df_invoice_line_sample_random.dump'\n",
    "    df_invoice_line = p5_util.object_load(file_name)\n",
    "    print(df_invoice_line.shape)    "
   ]
  },
  {
   "cell_type": "markdown",
   "metadata": {},
   "source": [
    "### Features"
   ]
  },
  {
   "cell_type": "code",
   "execution_count": 59,
   "metadata": {},
   "outputs": [
    {
     "data": {
      "text/plain": [
       "Index(['InvoiceNo', 'StockCode', 'Description', 'Quantity', 'InvoiceDate',\n",
       "       'UnitPrice', 'CustomerID'],\n",
       "      dtype='object')"
      ]
     },
     "execution_count": 59,
     "metadata": {},
     "output_type": "execute_result"
    }
   ],
   "source": [
    "df_invoice_line.columns"
   ]
  },
  {
   "cell_type": "markdown",
   "metadata": {},
   "source": [
    "#### Exploration of activity per period of time"
   ]
  },
  {
   "cell_type": "code",
   "execution_count": 62,
   "metadata": {},
   "outputs": [
    {
     "name": "stdout",
     "output_type": "stream",
     "text": [
      "New time feature : year\n",
      "New time feature : month\n",
      "New time feature : day\n",
      "New time feature : dow\n",
      "New time feature : pod\n"
     ]
    }
   ],
   "source": [
    "import p5_util\n",
    "dict_period_function={'year':p5_util.p5_get_year_from_timestamp}\n",
    "dict_period_function['month'] = p5_util.p5_get_month_from_timestamp\n",
    "dict_period_function['day'] = p5_util.p5_get_day_from_timestamp\n",
    "dict_period_function['dow'] = p5_util.p5_get_dow_from_timestamp\n",
    "dict_period_function['pod'] = p5_util.p5_get_pod_from_timestamp\n",
    "\n",
    "for new_time_feature, time_function in dict_period_function.items() :\n",
    "    print(\"New time feature : \"+str(new_time_feature))\n",
    "    df_invoice_line[new_time_feature] = df_invoice_line['InvoiceDate'].apply(time_function)\n"
   ]
  },
  {
   "cell_type": "markdown",
   "metadata": {},
   "source": [
    "#### Activities against new features based on time"
   ]
  },
  {
   "cell_type": "code",
   "execution_count": 95,
   "metadata": {},
   "outputs": [
    {
     "name": "stdout",
     "output_type": "stream",
     "text": [
      "      Yearly Facturation\n",
      "year                    \n",
      "2010               12954\n",
      "2011              181953\n"
     ]
    }
   ],
   "source": [
    "df = df_invoice_line.groupby(['year','InvoiceNo']).agg({'InvoiceNo': lambda x:len(x)})\n",
    "\n",
    "df.rename(columns={'InvoiceNo':'InvoiceCount'}, inplace=True)\n",
    "df.reset_index(inplace=True)\n",
    "df = df.groupby(['year']).agg({'InvoiceCount': lambda x:sum(x)})\n",
    "df.rename(columns={'InvoiceCount':'Yearly Facturation'}, inplace=True)\n",
    "print(df)"
   ]
  },
  {
   "cell_type": "code",
   "execution_count": 180,
   "metadata": {},
   "outputs": [
    {
     "name": "stdout",
     "output_type": "stream",
     "text": [
      "     POD Facturation\n",
      "pod                 \n",
      "1             192476\n",
      "2               2431\n"
     ]
    }
   ],
   "source": [
    "df = df_invoice_line.groupby(['pod','InvoiceNo']).agg({'InvoiceNo': lambda x:len(x)})\n",
    "\n",
    "df.rename(columns={'InvoiceNo':'InvoiceCount'}, inplace=True)\n",
    "df.reset_index(inplace=True)\n",
    "df = df.groupby(['pod']).agg({'InvoiceCount': lambda x:sum(x)})\n",
    "df.rename(columns={'InvoiceCount':'POD Facturation'}, inplace=True)\n",
    "print(df)"
   ]
  },
  {
   "cell_type": "code",
   "execution_count": 185,
   "metadata": {},
   "outputs": [
    {
     "data": {
      "text/plain": [
       "<matplotlib.axes._subplots.AxesSubplot at 0xa09a120c>"
      ]
     },
     "execution_count": 185,
     "metadata": {},
     "output_type": "execute_result"
    },
    {
     "data": {
      "image/png": "[encoded data removed]",
      "text/plain": [
       "<matplotlib.figure.Figure at 0xa4767fcc>"
      ]
     },
     "metadata": {},
     "output_type": "display_data"
    }
   ],
   "source": [
    "import matplotlib.pyplot as plt\n",
    "import matplotlib.ticker as mtick\n",
    "\n",
    "feature = 'month'\n",
    "df = df_invoice_line.groupby([feature]).agg({'InvoiceNo': lambda x:len(x)})\n",
    "df = df.apply(lambda x: x/sum(x))\n",
    "df.rename(columns={'InvoiceNo':'%Nb Invoices'}, inplace=True)\n",
    "dict_month_name={1:'Jan',2:'Feb', 3:'Mar', 4:'Apr',5:'May', 6:'Jun', 7:'Jul',8:'Aug', 9:'Sep', 10:'Oct', 11:'Nov', 12:'Dec'}\n",
    "df.rename(dict_month_name,axis='index', inplace=True)\n",
    "\n",
    "z_ = plt.figure(figsize=(10,10))\n",
    "axes = plt.gca()\n",
    "axes.set_xlabel('Months')\n",
    "axes.yaxis.set_major_formatter(mtick.PercentFormatter())\n",
    "\n",
    "df.plot(kind='bar', ax=axes, color='green')"
   ]
  },
  {
   "cell_type": "code",
   "execution_count": 182,
   "metadata": {},
   "outputs": [
    {
     "data": {
      "image/png": "[encoded data removed]",
      "text/plain": [
       "<matplotlib.figure.Figure at 0xa00ffd0c>"
      ]
     },
     "metadata": {},
     "output_type": "display_data"
    }
   ],
   "source": [
    "import matplotlib.pyplot as plt\n",
    "import matplotlib.ticker as mtick\n",
    "\n",
    "feature = 'day'\n",
    "df = df_invoice_line.groupby([feature]).agg({'InvoiceNo': lambda x:len(x)})\n",
    "\n",
    "if True:\n",
    "    df.rename(columns={'InvoiceNo':'Nb Invoices'}, inplace=True)\n",
    "    #dict_month_name={1:'Jan',2:'Feb', 3:'Mar', 4:'Apr',5:'May', 6:'Jun', 7:'Jul',8:'Aug', 9:'Sep', 10:'Oct', 11:'Nov', 12:'Dec'}\n",
    "    #df.rename(dict_month_name,axis='index', inplace=True)\n",
    "    df  = df.apply(lambda x: x/x.sum())\n",
    "\n",
    "    z_ = plt.figure(figsize=(10,10))\n",
    "    axes = plt.gca()\n",
    "    axes.yaxis.set_major_formatter(mtick.PercentFormatter())\n",
    "\n",
    "    df.plot(kind='bar', ax=axes, color='red')\n"
   ]
  },
  {
   "cell_type": "code",
   "execution_count": 169,
   "metadata": {},
   "outputs": [
    {
     "data": {
      "text/html": [
       "<div>\n",
       "<style scoped>\n",
       "    .dataframe tbody tr th:only-of-type {\n",
       "        vertical-align: middle;\n",
       "    }\n",
       "\n",
       "    .dataframe tbody tr th {\n",
       "        vertical-align: top;\n",
       "    }\n",
       "\n",
       "    .dataframe thead th {\n",
       "        text-align: right;\n",
       "    }\n",
       "</style>\n",
       "<table border=\"1\" class=\"dataframe\">\n",
       "  <thead>\n",
       "    <tr style=\"text-align: right;\">\n",
       "      <th></th>\n",
       "      <th>InvoiceNo</th>\n",
       "      <th>StockCode</th>\n",
       "      <th>Description</th>\n",
       "      <th>Quantity</th>\n",
       "      <th>InvoiceDate</th>\n",
       "      <th>UnitPrice</th>\n",
       "      <th>CustomerID</th>\n",
       "      <th>year</th>\n",
       "      <th>month</th>\n",
       "      <th>day</th>\n",
       "      <th>dow</th>\n",
       "      <th>pod</th>\n",
       "    </tr>\n",
       "  </thead>\n",
       "  <tbody>\n",
       "  </tbody>\n",
       "</table>\n",
       "</div>"
      ],
      "text/plain": [
       "Empty DataFrame\n",
       "Columns: [InvoiceNo, StockCode, Description, Quantity, InvoiceDate, UnitPrice, CustomerID, year, month, day, dow, pod]\n",
       "Index: []"
      ]
     },
     "execution_count": 169,
     "metadata": {},
     "output_type": "execute_result"
    }
   ],
   "source": [
    "import datetime\n",
    "datetime.date(2002, 3, 11).timetuple()\n",
    "df_invoice_line.query(\"dow==5\")"
   ]
  },
  {
   "cell_type": "code",
   "execution_count": 188,
   "metadata": {},
   "outputs": [
    {
     "data": {
      "image/png": "[encoded data removed]",
      "text/plain": [
       "<matplotlib.figure.Figure at 0xa03c60cc>"
      ]
     },
     "metadata": {},
     "output_type": "display_data"
    }
   ],
   "source": [
    "import matplotlib.pyplot as plt\n",
    "import matplotlib.ticker as mtick\n",
    "\n",
    "feature = 'dow'\n",
    "df = df_invoice_line.groupby([feature]).agg({'InvoiceNo': lambda x:len(x)})\n",
    "\n",
    "if True:\n",
    "    df.rename(columns={'InvoiceNo':'%Nb Invoices'}, inplace=True)\n",
    "    dict_dow_name={0:'Mon',1:'Tue', 2:'Wed', 3:'Thu',4:'Fri', 5:'Sat', 6:'Sun'}\n",
    "    df.rename(dict_dow_name,axis='index', inplace=True)\n",
    "    df  = df.apply(lambda x: x/x.sum())\n",
    "\n",
    "    z_ = plt.figure(figsize=(10,10))\n",
    "    axes = plt.gca()\n",
    "    axes.yaxis.set_major_formatter(mtick.PercentFormatter())\n",
    "\n",
    "    df.plot(kind='bar', ax=axes)\n"
   ]
  },
  {
   "cell_type": "markdown",
   "metadata": {},
   "source": [
    "## Items analysys"
   ]
  },
  {
   "cell_type": "code",
   "execution_count": 211,
   "metadata": {
    "scrolled": true
   },
   "outputs": [
    {
     "data": {
      "text/markdown": [
       "<p><font color='green'>**Nb of items : 3672**</font></p>"
      ],
      "text/plain": [
       "<IPython.core.display.Markdown object>"
      ]
     },
     "metadata": {},
     "output_type": "display_data"
    }
   ],
   "source": [
    "import p3_util_plot\n",
    "p3_util_plot.printmd(\"Nb of items : \"+str(df_invoice_line.Description.unique().shape[0]))"
   ]
  },
  {
   "cell_type": "code",
   "execution_count": 235,
   "metadata": {},
   "outputs": [
    {
     "name": "stdout",
     "output_type": "stream",
     "text": [
      "count    3672.000000\n",
      "mean       53.079248\n",
      "std        78.962266\n",
      "min         1.000000\n",
      "25%         7.000000\n",
      "50%        25.000000\n",
      "75%        67.000000\n",
      "max      1040.000000\n",
      "dtype: float64\n"
     ]
    }
   ],
   "source": [
    "import numpy as np\n",
    "\n",
    "df_stock = df_invoice_line.groupby(['Description']).size().sort_values(ascending=False)\n",
    "df_stock = df_invoice_line.groupby(['Description']).size()\n",
    "df_stock.describe()\n",
    "#df_stock.hist(bins=100)\n",
    "print(df_stock.describe())"
   ]
  },
  {
   "cell_type": "code",
   "execution_count": 236,
   "metadata": {},
   "outputs": [
    {
     "name": "stdout",
     "output_type": "stream",
     "text": [
      "3672\n",
      "3623\n",
      "3616\n",
      "3583\n",
      "3581\n",
      "3581\n",
      "3576\n",
      "3573\n",
      "(194907, 1716)\n",
      "Dumping matrix_weights into file= ./data/matrix_weights_NLP.dump\n",
      "Done!\n"
     ]
    }
   ],
   "source": [
    "import p5_util\n",
    "list_no_words=['SET','PACK']\n",
    "df_invoice_line, csr_matrix_weights, vectorizer \\\n",
    "= p5_util.nlp_process(df_invoice_line,'Description' ,list_no_words=list_no_words)"
   ]
  },
  {
   "cell_type": "code",
   "execution_count": 244,
   "metadata": {},
   "outputs": [
    {
     "name": "stdout",
     "output_type": "stream",
     "text": [
      "(1716, 2)\n",
      "           term    weight\n",
      "54          bag  0.035680\n",
      "720       heart  0.030148\n",
      "1255        red  0.028173\n",
      "1273  retrospot  0.026195\n",
      "1645     vintag  0.023591\n",
      "433      design  0.022892\n",
      "306    christma  0.019881\n",
      "809       jumbo  0.018902\n",
      "1148       pink  0.018790\n",
      "158         box  0.018716\n",
      "903       lunch  0.018340\n",
      "866       light  0.017923\n",
      "207        cake  0.017441\n",
      "1670      white  0.015740\n",
      "943       metal  0.015409\n",
      "742      holder  0.014333\n",
      "710        hang  0.014124\n",
      "132        blue  0.013771\n",
      "424       decor  0.013289\n",
      "1383       sign  0.013169\n"
     ]
    }
   ],
   "source": [
    "import numpy as np\n",
    "matrix_weights_NLP = p5_util.object_load('./data/matrix_weights_NLP.dump')\n",
    "weights = np.asarray(matrix_weights_NLP.mean(axis=0)).ravel().tolist()\n",
    "df_weights = pd.DataFrame({'term': vectorizer.get_feature_names(), 'weight': weights})\n",
    "print(df_weights.shape)\n",
    "print(df_weights.sort_values(by='weight', ascending=False).head(20))\n"
   ]
  },
  {
   "cell_type": "markdown",
   "metadata": {},
   "source": [
    "# <font color='blus'>Feature engineering</font>"
   ]
  },
  {
   "cell_type": "markdown",
   "metadata": {},
   "source": [
    "## <font color='blue'>For any invoice, Total price is added in feature *Total*</font>"
   ]
  },
  {
   "cell_type": "code",
   "execution_count": null,
   "metadata": {},
   "outputs": [],
   "source": [
    "if 'Total' in df_invoice_line.columns :\n",
    "    del(df_invoice_line['Total'])\n",
    "\n",
    "df_invoice_line['Total'] = df_invoice_line.Quantity * df_invoice_line.UnitPrice\n",
    "df_invoice_line = df_invoice_line[df_invoice_line['Total']>0]\n",
    "print(df_invoice_line.shape)\n",
    "df_invoice_line.sample(2)"
   ]
  },
  {
   "cell_type": "markdown",
   "metadata": {},
   "source": [
    "### <font color='blue'>Oultliers in feature *Total*</font>"
   ]
  },
  {
   "cell_type": "code",
   "execution_count": null,
   "metadata": {},
   "outputs": [],
   "source": [
    "import p5_util_plot\n",
    "\n",
    "p5_util_plot.p5_df_subplot(df_invoice_line[['Quantity','UnitPrice','Total']],\\\n",
    "                           type_plot='box', is_outliers_removed = True, tuple_reshape=(1,3))"
   ]
  },
  {
   "cell_type": "markdown",
   "metadata": {},
   "source": [
    "### <font color='blue'>Outliers from *Total* feature are dropped</font>"
   ]
  },
  {
   "cell_type": "code",
   "execution_count": null,
   "metadata": {},
   "outputs": [],
   "source": [
    "import p3_util\n",
    "if is_total_no_outliers is True:\n",
    "    zmin, zmax = p3_util.df_boxplot_min_max(df_invoice_line , 'Total')\n",
    "\n",
    "    print(df_invoice_line.shape)\n",
    "    df_invoice_line = df_invoice_line[df_invoice_line['Total']>=zmin]\n",
    "\n",
    "    print(df_invoice_line.shape)\n",
    "\n",
    "    df_invoice_line = df_invoice_line[df_invoice_line['Total']<=zmax]\n",
    "    print(df_invoice_line.shape)\n"
   ]
  },
  {
   "cell_type": "markdown",
   "metadata": {},
   "source": [
    "#### <font color='blue'>Backup cleaned dataframe #1</font>"
   ]
  },
  {
   "cell_type": "code",
   "execution_count": null,
   "metadata": {},
   "outputs": [],
   "source": [
    "import p5_util\n",
    "\n",
    "fileName = './data/df_invoice_line_clean1.dump'\n",
    "p5_util.object_dump(df_invoice_line,fileName)"
   ]
  },
  {
   "cell_type": "markdown",
   "metadata": {},
   "source": [
    "#### <font color='blue'>Restore cleaned dataframe #1</font>"
   ]
  },
  {
   "cell_type": "code",
   "execution_count": null,
   "metadata": {},
   "outputs": [],
   "source": [
    "import p5_util\n",
    "\n",
    "if is_reloaded is True:\n",
    "    fileName = './data/df_invoice_line_clean1.dump'\n",
    "    df_invoice_line = p5_util.object_load(fileName)\n",
    "    print(df_invoice_line.shape)"
   ]
  },
  {
   "cell_type": "code",
   "execution_count": null,
   "metadata": {
    "scrolled": true
   },
   "outputs": [],
   "source": [
    "df_invoice_line.columns"
   ]
  }
 ],
 "metadata": {
  "kernelspec": {
   "display_name": "Python 3",
   "language": "python",
   "name": "python3"
  },
  "language_info": {
   "codemirror_mode": {
    "name": "ipython",
    "version": 3
   },
   "file_extension": ".py",
   "mimetype": "text/x-python",
   "name": "python",
   "nbconvert_exporter": "python",
   "pygments_lexer": "ipython3",
   "version": "3.6.4"
  }
 },
 "nbformat": 4,
 "nbformat_minor": 2
}
