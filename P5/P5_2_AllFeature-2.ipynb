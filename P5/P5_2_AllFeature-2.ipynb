{
 "cells": [
  {
   "cell_type": "markdown",
   "metadata": {},
   "source": [
    "<!--NOTEBOOK_INFORMATION-->\n",
    "<img align=\"left\" style=\"padding-right:10px;\" src=\"./figures/LogoOpenclassrooms.png\">\n",
    "<font size=\"4\">\n",
    "<p>\n",
    "Cette étude a été réalisée dans le cadre du 5ème projet de ma formation Datascientist dispensée en MOOC par \n",
    "**<font color='blus'>Openclassrooms / écoles Centrale-Supélec</font>**.\n",
    "</p>    \n",
    "\n",
    "<p>\n",
    "Ce notebook présente un modèle de ségmentation de clients d'un site d'achats en ligne. \n",
    "</p>\n",
    "<p>\n",
    "Ce modèle se base sur les données fournies par le site :\n",
    "</p>\n",
    "<p>\n",
    "https://archive.ics.uci.edu/ml/datasets/Online+Retail\n",
    "</p>\n",
    "<p>\n",
    "Ce notebook implémente les phases de l'analyse exploratoire de la façon suivante :\n",
    "</p>\n",
    "* l'acquisition des données traitées issues des notebook <font color='blue'>P5_2_RFM.ipynb</font>, <font color='blue'>P5_2_NLP.ipynb</font> et <font color='blue'>P5_2_timeFeature.ipynb</font>\n",
    "* l'analyse exploiratoire des modeles de calcul   \n",
    "* La recherche des paramètres optimaux pour les algorithmes :\n",
    "    * de clustering\n",
    "    * de prédiction par regression et méthodes ensemblistes.\n",
    "* les mesures de tests des différents modèles\n",
    "* Le test de prédiction de l'appartenance d'un client à un segment.\n",
    "\n",
    "\n",
    "**Les résultats de cette analyse sont implémentés dans <font color='blue'>*P5_ModelBuilder*</font>**. \n",
    "\n",
    "Ce dernier composant permet construire un composant déployable réalisant des prédictions d'appartenance d'un client à un segment de marché.\n"
   ]
  },
  {
   "cell_type": "code",
   "execution_count": null,
   "metadata": {},
   "outputs": [],
   "source": [
    "import pandas as pd\n",
    "import numpy as np\n",
    "import time\n",
    "\n",
    "import warnings\n",
    "warnings.filterwarnings(\"ignore\")\n",
    "\n",
    "\n",
    "import p3_util\n",
    "import p3_util_plot\n",
    "import p5_util\n",
    "import p5_util_plot\n",
    "\n",
    "#--------------------------\n",
    "# Process flow parameters\n",
    "#--------------------------\n",
    "is_reloaded = True\n",
    "\n",
    "#---------------------------------------------------------------------------\n",
    "# Outliers values issued from Total feature are removed or not from dataset.\n",
    "is_total_no_outliers = False\n",
    "#---------------------------------------------------------------------------\n",
    "\n",
    "#---------------------------------------------------------------------------\n",
    "# Encoded RFM features are clusterized separatly from other features.\n",
    "#---------------------------------------------------------------------------\n",
    "is_rfm_cluster = True\n",
    "\n",
    "\n",
    "dict_month_name={1:'Jan',2:'Feb', 3:'Mar', 4:'Apr',5:'May', 6:'Jun', 7:'Jul',8:'Aug', 9:'Sep', 10:'Oct', 11:'Nov', 12:'Dec'}\n"
   ]
  },
  {
   "cell_type": "markdown",
   "metadata": {},
   "source": [
    "#### <font color='blue'>Restore into *df_invoice_line* dataframe the samples data-set</font>"
   ]
  },
  {
   "cell_type": "code",
   "execution_count": null,
   "metadata": {},
   "outputs": [],
   "source": [
    "import p5_util\n",
    "if is_reloaded is True:\n",
    "    df_invoice_line =  p5_util.p5_reload_data_sample(mode='random')\n",
    "    print(df_invoice_line.shape)    "
   ]
  },
  {
   "cell_type": "code",
   "execution_count": null,
   "metadata": {},
   "outputs": [],
   "source": [
    "nb_invoices = len(df_invoice_line['InvoiceNo'].unique())\n",
    "print(\"\\n*** Nombre de factures= \"+str(nb_invoices))"
   ]
  },
  {
   "cell_type": "code",
   "execution_count": null,
   "metadata": {},
   "outputs": [],
   "source": [
    "nb_customers = len(df_invoice_line['CustomerID'].unique())\n",
    "print(\"\\n*** Nombre de clients= \"+str(nb_customers))"
   ]
  },
  {
   "cell_type": "code",
   "execution_count": null,
   "metadata": {},
   "outputs": [],
   "source": [
    "import p5_util\n",
    "df_invoice_line['Total'] = df_invoice_line.Quantity *  df_invoice_line.UnitPrice\n",
    "\n",
    "df_invoice_line.query('Total>0')['InvoiceDate'].sort_values().apply(p5_util.p5_get_month_from_timestamp).unique()"
   ]
  },
  {
   "cell_type": "markdown",
   "metadata": {},
   "source": [
    "# <font color='blus'>Restore into sepatated dataframes file issues from feature engineering</font>"
   ]
  },
  {
   "cell_type": "markdown",
   "metadata": {},
   "source": [
    "####  Restore time based features"
   ]
  },
  {
   "cell_type": "code",
   "execution_count": null,
   "metadata": {},
   "outputs": [],
   "source": [
    "import p5_util\n",
    "fileName = './data/df_customers_timeFeature_pca.dump'\n",
    "df_customers_timeFeature = p5_util.object_load(fileName)\n",
    "\n",
    "df_customers_timeFeature.shape"
   ]
  },
  {
   "cell_type": "code",
   "execution_count": null,
   "metadata": {},
   "outputs": [],
   "source": [
    "df_customers_timeFeature.sample(1)"
   ]
  },
  {
   "cell_type": "markdown",
   "metadata": {},
   "source": [
    "####  Restore RFM features"
   ]
  },
  {
   "cell_type": "code",
   "execution_count": null,
   "metadata": {},
   "outputs": [],
   "source": [
    "import p5_util\n",
    "fileName = './data/df_customers_RFM.dump'\n",
    "df_customers_RFM = p5_util.object_load(fileName)\n",
    "\n",
    "df_customers_RFM.shape"
   ]
  },
  {
   "cell_type": "markdown",
   "metadata": {},
   "source": [
    "####  Restore NLP features"
   ]
  },
  {
   "cell_type": "code",
   "execution_count": null,
   "metadata": {},
   "outputs": [],
   "source": [
    "import p5_util\n",
    "fileName = './data/df_customers_pca_nlp.dump'\n",
    "df_customers_NLP = p5_util.object_load(fileName)\n",
    "\n",
    "df_customers_NLP.shape"
   ]
  },
  {
   "cell_type": "code",
   "execution_count": null,
   "metadata": {},
   "outputs": [],
   "source": [
    "df_customers_NLP.sample(1)"
   ]
  },
  {
   "cell_type": "markdown",
   "metadata": {},
   "source": [
    "#### Dataframes aggregation"
   ]
  },
  {
   "cell_type": "code",
   "execution_count": null,
   "metadata": {},
   "outputs": [],
   "source": [
    "import pandas as pd\n",
    "df_customers = pd.DataFrame()\n",
    "\n",
    "df_customers = pd.concat([df_customers,df_customers_RFM],  axis=1)\n",
    "print(df_customers.shape)\n",
    "\n",
    "df_customers = pd.concat([df_customers,df_customers_timeFeature], join='inner', axis=1)\n",
    "print(df_customers.shape)\n",
    "\n",
    "df_customers = pd.concat([df_customers,df_customers_NLP], join='inner', axis=1)\n",
    "print(df_customers.shape)\n"
   ]
  },
  {
   "cell_type": "markdown",
   "metadata": {},
   "source": [
    "#### Backup *df_customers* file "
   ]
  },
  {
   "cell_type": "code",
   "execution_count": null,
   "metadata": {},
   "outputs": [],
   "source": [
    "import p5_util\n",
    "fileName = './data/df_customers.dump'\n",
    "p5_util.object_dump(df_customers, fileName)"
   ]
  },
  {
   "cell_type": "markdown",
   "metadata": {},
   "source": [
    "# <font color='blus'> Clustering features</font>"
   ]
  },
  {
   "cell_type": "markdown",
   "metadata": {},
   "source": [
    "#### Loading dumped file into *df_customers* dataframe"
   ]
  },
  {
   "cell_type": "code",
   "execution_count": null,
   "metadata": {},
   "outputs": [],
   "source": [
    "import p5_util\n",
    "if is_reloaded is True:\n",
    "    fileName = './data/df_customers.dump'\n",
    "    df_customers = p5_util.object_load(fileName)\n",
    "    print(df_customers.shape)"
   ]
  },
  {
   "cell_type": "markdown",
   "metadata": {},
   "source": [
    "## <font color='blue'> Kmeans Clustering / intra-inertia criteria</font>"
   ]
  },
  {
   "cell_type": "code",
   "execution_count": null,
   "metadata": {},
   "outputs": [],
   "source": [
    "import p5_util\n",
    "cluster_start = 1\n",
    "cluster_end = 10\n",
    "dict_kmeans = p5_util.kmeans_scan_inter_inertia(df_customers, cluster_start, cluster_end)"
   ]
  },
  {
   "cell_type": "markdown",
   "metadata": {},
   "source": [
    "#### Save of Kmeans clustering scan into a dumped file"
   ]
  },
  {
   "cell_type": "code",
   "execution_count": null,
   "metadata": {},
   "outputs": [],
   "source": [
    "import p5_util\n",
    "\n",
    "fileName = './data/clustering_dict_kmeans_ALL.dump'\n",
    "p5_util.object_dump(dict_kmeans, fileName)"
   ]
  },
  {
   "cell_type": "markdown",
   "metadata": {},
   "source": [
    "#### Time features : Plot Clusters = F(intra-inertia)"
   ]
  },
  {
   "cell_type": "code",
   "execution_count": null,
   "metadata": {},
   "outputs": [],
   "source": [
    "import p5_util_plot\n",
    "import p5_util\n",
    "\n",
    "if is_reloaded is True:\n",
    "    fileName = './data/clustering_dict_kmeans_ALL.dump'\n",
    "    dict_kmeans = p5_util.object_load(fileName)\n",
    "    print(\"Records into dict_kmeans= \"+str(len(dict_kmeans)))\n",
    "\n",
    "x_label_0 = 'Features : Nb. clusters'\n",
    "x_label_1 = 'Features : Nb. clusters'\n",
    "cluster_start = list(dict_kmeans.keys())[0]\n",
    "cluster_end = list(dict_kmeans.keys())[len(dict_kmeans)-1]\n",
    "print(cluster_start, cluster_end)\n",
    "p5_util_plot.plot_kmeans_interInertia(dict_kmeans, cluster_start, cluster_end\\\n",
    "                             ,[x_label_0, x_label_1]\\\n",
    "                             ,p_rows=1, p_cols=2, p_figsize=(20,10))"
   ]
  },
  {
   "cell_type": "markdown",
   "metadata": {},
   "source": [
    "#### Clustering :  silhouette"
   ]
  },
  {
   "cell_type": "code",
   "execution_count": null,
   "metadata": {
    "scrolled": true
   },
   "outputs": [],
   "source": [
    "import p5_util\n",
    "import p5_util_plot\n",
    "\n",
    "if True:\n",
    "    fileName = './data/df_customers.dump'\n",
    "    df_customers = p5_util.object_load(fileName)\n",
    "    print(\"Features : \"+str(df_customers.shape))\n",
    "    \n",
    "    #-------------------------------------------------------------------------------\n",
    "    # Use kmeans dictionary to get numbers of clusters\n",
    "    #-------------------------------------------------------------------------------\n",
    "    fileName = './data/clustering_dict_kmeans_ALL.dump'\n",
    "    dict_kmeans = p5_util.object_load(fileName)\n",
    "    print(\"Clusters into dict_kmeans= \"+str(len(dict_kmeans)))\n",
    "    cluster_start = list(dict_kmeans.keys())[0]\n",
    "    cluster_end = list(dict_kmeans.keys())[len(dict_kmeans)-1]\n",
    "    print(\"Cluster start = \"+str(cluster_start)+\" Cluster end= \"+str(cluster_end))\n",
    "if 1 == cluster_start:\n",
    "    cluster_start=2\n",
    "dict_cluster_kmeans_silhouette = p5_util.kmeans_scan_silhouette(df_customers, cluster_start, cluster_end)"
   ]
  },
  {
   "cell_type": "markdown",
   "metadata": {},
   "source": [
    "#### Backup silhouette clustering result"
   ]
  },
  {
   "cell_type": "code",
   "execution_count": null,
   "metadata": {},
   "outputs": [],
   "source": [
    "import p5_util\n",
    "fileName = './data/dict_cluster_kmeans_silhouette_ALL.dump'\n",
    "p5_util.object_dump(dict_cluster_kmeans_silhouette,fileName)"
   ]
  },
  {
   "cell_type": "markdown",
   "metadata": {},
   "source": [
    "#### Plotting silhouette = F(nb clusters)"
   ]
  },
  {
   "cell_type": "code",
   "execution_count": null,
   "metadata": {},
   "outputs": [],
   "source": [
    "dict_kmeans"
   ]
  },
  {
   "cell_type": "code",
   "execution_count": null,
   "metadata": {},
   "outputs": [],
   "source": [
    "p_title='Kmeans Silhouette'\n",
    "p5_util_plot.plot_kmeans_silhouette(dict_cluster_kmeans_silhouette, p_title, p_figsize=(10,10))"
   ]
  },
  {
   "cell_type": "markdown",
   "metadata": {},
   "source": [
    "### <font color='blue'>Cluster model with best number of clusters</font>"
   ]
  },
  {
   "cell_type": "code",
   "execution_count": null,
   "metadata": {},
   "outputs": [],
   "source": [
    "n_cluster=6"
   ]
  },
  {
   "cell_type": "code",
   "execution_count": null,
   "metadata": {},
   "outputs": [],
   "source": [
    "cluster_kmean = dict_kmeans[n_cluster]\n",
    "cluster_kmean\n",
    "if 'cluster' in df_customers:\n",
    "    del(df_customers['cluster'])\n",
    "X = df_customers.values\n",
    "preds_kmean = cluster_kmean.predict(X)"
   ]
  },
  {
   "cell_type": "markdown",
   "metadata": {},
   "source": [
    "### <font color='blue'>Adding *cluster* issue from clustering into *df_customers*  as a new feature</font>"
   ]
  },
  {
   "cell_type": "code",
   "execution_count": null,
   "metadata": {},
   "outputs": [],
   "source": [
    "if 'cluster' in df_customers.columns:\n",
    "    del(df_customers['cluster'])\n",
    "df_customers.shape,preds_kmean.shape"
   ]
  },
  {
   "cell_type": "code",
   "execution_count": null,
   "metadata": {},
   "outputs": [],
   "source": [
    "import p5_util\n",
    "\n",
    "print(df_customers.shape)\n",
    "df_customers = p5_util.df_add_cluster(df_customers, preds_kmean)\n",
    "print(df_customers.shape)"
   ]
  },
  {
   "cell_type": "markdown",
   "metadata": {},
   "source": [
    "### <font color='blue'>Showing elements count per cluster</font>"
   ]
  },
  {
   "cell_type": "code",
   "execution_count": null,
   "metadata": {},
   "outputs": [],
   "source": [
    "import p5_util_plot\n",
    "p5_util_plot.plot_cluster_frequency(df_customers)"
   ]
  },
  {
   "cell_type": "markdown",
   "metadata": {},
   "source": [
    "## <font color='blue'> DBSCAN clustering</font>"
   ]
  },
  {
   "cell_type": "markdown",
   "metadata": {},
   "source": [
    "#### Distances distribution"
   ]
  },
  {
   "cell_type": "code",
   "execution_count": null,
   "metadata": {},
   "outputs": [],
   "source": [
    "import numpy as np\n",
    "from scipy.spatial.distance import pdist, squareform\n",
    "\n",
    "if 'cluster' in df_customers.columns:\n",
    "    del(df_customers['cluster'])\n",
    "    \n",
    "distances = pdist(df_customers.values, metric='euclidean')\n",
    "\n",
    "print(np.min(distances), np.max(distances))\n",
    "\n",
    "\n",
    "\n",
    "x_med = np.median(distances)\n",
    "print(\"Distance median = \"+str(x_med))\n",
    "print(\"Nb elts de distances= \"+str(len(distances)))\n",
    "len(np.where(distances<x_med)[0])\n",
    "\n",
    "raws = df_customers.shape[0]\n",
    "print(\"Distance elts computing : n*(n+1)/2 - n = \"+str(int((raws*(raws+1)/2)-raws)))\n",
    "\n",
    "df_dist = pd.DataFrame(distances)\n",
    "\n",
    "df_dist_quantiles = df_dist.quantile(q=[0.15, 0.25 ,0.5, 0.75, 0.95])\n",
    "\n",
    "df_dist_quantiles.rename(columns={0:'Distance'},inplace=True)\n",
    "df_dist_quantiles"
   ]
  },
  {
   "cell_type": "code",
   "execution_count": null,
   "metadata": {},
   "outputs": [],
   "source": [
    "p_eps=31.0"
   ]
  },
  {
   "cell_type": "markdown",
   "metadata": {},
   "source": [
    "#### Computing nb neighbours for 95% fo distances"
   ]
  },
  {
   "cell_type": "code",
   "execution_count": null,
   "metadata": {},
   "outputs": [],
   "source": [
    "import numpy as np\n",
    "\n",
    "dist_matrix = squareform(distances)\n",
    "print(dist_matrix.shape)\n",
    "dict_ball_neighbour = dict()\n",
    "for raw in range(0,dist_matrix.shape[0]):\n",
    "    dict_ball_neighbour[raw] = len(np.where(dist_matrix[raw]<= p_eps)[0])"
   ]
  },
  {
   "cell_type": "raw",
   "metadata": {},
   "source": [
    "dict_ball_neighbour"
   ]
  },
  {
   "cell_type": "code",
   "execution_count": null,
   "metadata": {},
   "outputs": [],
   "source": [
    "ser_ball_neighbour = pd.Series(dict_ball_neighbour)\n",
    "ser_neighbour_quantiles = ser_ball_neighbour.quantile(q=[0.15, 0.25 ,0.5, 0.75, 0.95, 1.0])\n",
    "ser_neighbour_quantiles"
   ]
  },
  {
   "cell_type": "markdown",
   "metadata": {},
   "source": [
    "#### Apply of DBSCAN clustering"
   ]
  },
  {
   "cell_type": "code",
   "execution_count": null,
   "metadata": {},
   "outputs": [],
   "source": [
    "from sklearn.cluster import DBSCAN\n",
    "dbscan = DBSCAN(eps=p_eps,min_samples=350, n_jobs=3)\n",
    "if 'cluster' in df_customers.columns:\n",
    "    del(df_customers['cluster'])\n",
    "pred_dbscan =  dbscan.fit_predict(df_customers)\n",
    "\n",
    "import numpy as np\n",
    "np.unique(pred_dbscan)"
   ]
  },
  {
   "cell_type": "markdown",
   "metadata": {},
   "source": [
    "#### DBSCAN : Plot Numbers per cluster"
   ]
  },
  {
   "cell_type": "code",
   "execution_count": null,
   "metadata": {},
   "outputs": [],
   "source": [
    "import p5_util\n",
    "import p5_util_plot\n",
    "\n",
    "print(df_customers.shape)\n",
    "df_customers = p5_util.df_add_cluster(df_customers, pred_dbscan)\n",
    "print(df_customers.shape)\n",
    "p5_util_plot.plot_cluster_frequency(df_customers)"
   ]
  },
  {
   "cell_type": "markdown",
   "metadata": {},
   "source": [
    "## <font color='blue'>GMM clustering</font>"
   ]
  },
  {
   "cell_type": "markdown",
   "metadata": {},
   "source": [
    "#### Restore dataframe with reduced dimensions per customer and encoded values"
   ]
  },
  {
   "cell_type": "code",
   "execution_count": null,
   "metadata": {},
   "outputs": [],
   "source": [
    "import p5_util\n",
    "\n",
    "if is_reloaded is True:\n",
    "    fileName = './data/df_customers.dump'\n",
    "    df_customers = p5_util.object_load(fileName)\n",
    "    print(df_customers.shape)\n",
    "\n",
    "if 'cluster' in df_customers.columns:\n",
    "    del(df_customers['cluster'])\n",
    "print(df_customers.shape)    "
   ]
  },
  {
   "cell_type": "markdown",
   "metadata": {},
   "source": [
    "#### Clustering to search for from a given range of clusters"
   ]
  },
  {
   "cell_type": "code",
   "execution_count": null,
   "metadata": {},
   "outputs": [],
   "source": [
    "cluster_start = 1\n",
    "cluster_end = 11"
   ]
  },
  {
   "cell_type": "markdown",
   "metadata": {},
   "source": [
    "#### GMM clustering evaluation : using BIC and AIC criterias\n",
    "* AIC : provides a measure of statistical quality model. It measures loss of information (increase of entropy)  when multiple models are suggested, models with increaing complexity.\n",
    "* BIC : comes from AIC\n",
    "\n",
    "Goal : minimisation of both criterias"
   ]
  },
  {
   "cell_type": "markdown",
   "metadata": {},
   "source": [
    "#### Cross-validation of GMM hyper-parameter : covariance type."
   ]
  },
  {
   "cell_type": "code",
   "execution_count": null,
   "metadata": {
    "scrolled": true
   },
   "outputs": [],
   "source": [
    "import p5_util\n",
    "dict_hyper_parameter={'covariance_type':['diag','spherical','full']}\n",
    "t_range_cluster = (cluster_start, cluster_end)\n",
    "dict_list_gmm_model = p5_util.gmm_hyper_parameter_cv(df_customers, t_range_cluster ,dict_hyper_parameter)"
   ]
  },
  {
   "cell_type": "markdown",
   "metadata": {},
   "source": [
    "#### Display AIC and BIC considering clusters number"
   ]
  },
  {
   "cell_type": "code",
   "execution_count": null,
   "metadata": {},
   "outputs": [],
   "source": [
    "import p5_util_plot\n",
    "p_figsize = (14,7)\n",
    "t_range_cluster = (cluster_start, cluster_end)\n",
    "p_title = 'GMM clustering'\n",
    "p5_util_plot.gmm_models_plot_AIC_BIC(df_customers, dict_list_gmm_model, t_range_cluster, p_figsize, p_title)"
   ]
  },
  {
   "cell_type": "markdown",
   "metadata": {},
   "source": [
    "<font color='red'>Loss of information is optimized for clusters number = 4</font>"
   ]
  },
  {
   "cell_type": "markdown",
   "metadata": {},
   "source": [
    "#### GMM models evaluation:  computation of silhouette score"
   ]
  },
  {
   "cell_type": "code",
   "execution_count": null,
   "metadata": {},
   "outputs": [],
   "source": [
    "import p5_util\n",
    "dict_dict_silhouette_score = p5_util.gmm_silhouette_compute(df_customers, dict_list_gmm_model)"
   ]
  },
  {
   "cell_type": "markdown",
   "metadata": {},
   "source": [
    "#### Plot silhouette score for any type of covariance and for any type of GMM model\n",
    "\n",
    "* For each covariance type (spherical, diag and full), GMM models ranking from *cluster_start* to *cluster_end* have been built"
   ]
  },
  {
   "cell_type": "code",
   "execution_count": null,
   "metadata": {},
   "outputs": [],
   "source": [
    "import p5_util_plot\n",
    "p_figsize=(21,14)\n",
    "areas_raws =1\n",
    "areas_colums =3\n",
    "p_title = \"GMM : silhouette\"\n",
    "p5_util_plot.gmm_models_plot_silhouette(df_customers, dict_dict_silhouette_score\\\n",
    ", p_figsize, p_title, areas_raws, areas_colums)"
   ]
  },
  {
   "cell_type": "markdown",
   "metadata": {},
   "source": [
    "* <font color='red'>GMM : Silhouette coef. decreases with number of clusters, whatever hyper-parameters values</font>\n",
    "* <font color='red'>GMM : hyper-parameters with ``diag`` value has the best performance</font>\n"
   ]
  },
  {
   "cell_type": "markdown",
   "metadata": {},
   "source": [
    "#### Selection of best clusters count with optimum covariance type"
   ]
  },
  {
   "cell_type": "code",
   "execution_count": null,
   "metadata": {},
   "outputs": [],
   "source": [
    "p_covariance_type = 'diag'\n",
    "n_cluster = 6\n",
    "list_gmm_model = dict_list_gmm_model[p_covariance_type]\n",
    "for gmm_model in list_gmm_model:\n",
    "    if n_cluster == gmm_model.n_components:\n",
    "        break\n",
    "gmm_model"
   ]
  },
  {
   "cell_type": "markdown",
   "metadata": {},
   "source": [
    "#### Display number of elements in each cluster due to ``GMM``"
   ]
  },
  {
   "cell_type": "code",
   "execution_count": null,
   "metadata": {},
   "outputs": [],
   "source": [
    "import p5_util\n",
    "import p5_util_plot\n",
    "if 'cluster' in df_customers.columns:\n",
    "    del(df_customers['cluster'])\n",
    "\n",
    "if 'CustomerID' in df_customers.columns:\n",
    "    del(df_customers['CustomerID'])\n",
    "    \n",
    "\n",
    "    \n",
    "pred_gmm = gmm_model.predict(df_customers.values)\n",
    "print(df_customers.shape)\n",
    "df_customers = p5_util.df_add_cluster(df_customers, pred_gmm)\n",
    "print(df_customers.shape)\n",
    "p5_util_plot.plot_cluster_frequency(df_customers)"
   ]
  },
  {
   "cell_type": "markdown",
   "metadata": {},
   "source": [
    "Backup of ``df_customers`` dataframe with added clusters"
   ]
  },
  {
   "cell_type": "code",
   "execution_count": null,
   "metadata": {},
   "outputs": [],
   "source": [
    "import p5_util\n",
    "p5_util.object_dump(df_customers,'./data/df_customers_cluster.dump')\n",
    "print(df_customers.shape)\n",
    "print('cluster' in df_customers.columns)"
   ]
  },
  {
   "cell_type": "markdown",
   "metadata": {},
   "source": [
    "#### Cluster list selection"
   ]
  },
  {
   "cell_type": "code",
   "execution_count": 5,
   "metadata": {
    "scrolled": true
   },
   "outputs": [
    {
     "data": {
      "text/plain": [
       "[0, 2, 4]"
      ]
     },
     "execution_count": 5,
     "metadata": {},
     "output_type": "execute_result"
    }
   ],
   "source": [
    "list_cluster = [0,2,4]\n",
    "list_cluster"
   ]
  },
  {
   "cell_type": "markdown",
   "metadata": {},
   "source": [
    "# <font color='blus'>Using a supervised M.L. algorithm for market segments prediction</font>"
   ]
  },
  {
   "cell_type": "code",
   "execution_count": 6,
   "metadata": {},
   "outputs": [
    {
     "name": "stdout",
     "output_type": "stream",
     "text": [
      "p5_util.object_load : fileName= ./data/df_customers_cluster.dump\n",
      "(2124, 340)\n",
      "True\n"
     ]
    }
   ],
   "source": [
    "import p5_util\n",
    "df_customers = p5_util.object_load('./data/df_customers_cluster.dump')\n",
    "print(df_customers.shape)\n",
    "print('cluster' in df_customers.columns)"
   ]
  },
  {
   "cell_type": "markdown",
   "metadata": {},
   "source": [
    "Target vector for supervised ML algorithm is extracted from column ``cluster`` in ``df_customers`` dataframe."
   ]
  },
  {
   "cell_type": "markdown",
   "metadata": {},
   "source": [
    "Data belonging to clusters from ``list_cluster``  are extraced."
   ]
  },
  {
   "cell_type": "markdown",
   "metadata": {},
   "source": [
    "#### Cluster list selection"
   ]
  },
  {
   "cell_type": "code",
   "execution_count": 7,
   "metadata": {
    "scrolled": true
   },
   "outputs": [
    {
     "data": {
      "text/plain": [
       "[0, 2, 4]"
      ]
     },
     "execution_count": 7,
     "metadata": {},
     "output_type": "execute_result"
    }
   ],
   "source": [
    "list_cluster = [0,2,4]\n",
    "list_cluster"
   ]
  },
  {
   "cell_type": "code",
   "execution_count": 8,
   "metadata": {},
   "outputs": [
    {
     "name": "stdout",
     "output_type": "stream",
     "text": [
      "(2124, 340)\n",
      "(2121, 340)\n"
     ]
    }
   ],
   "source": [
    "import p5_util\n",
    "df_customers = p5_util.df_customers_cluster_filter(df_customers, list_cluster)"
   ]
  },
  {
   "cell_type": "markdown",
   "metadata": {},
   "source": [
    "Dataframe ``df_customers`` is filtered considering ``list_cluster``"
   ]
  },
  {
   "cell_type": "code",
   "execution_count": 9,
   "metadata": {},
   "outputs": [
    {
     "name": "stdout",
     "output_type": "stream",
     "text": [
      "(2121, 340)\n",
      "(2121, 340)\n",
      "(2121,) <class 'numpy.ndarray'>\n"
     ]
    }
   ],
   "source": [
    "import numpy as np\n",
    "\n",
    "list_all_cluster = np.unique(df_customers.cluster.values)\n",
    "\n",
    "print(df_customers.shape)\n",
    "\n",
    "for cluster in list_all_cluster:\n",
    "    if cluster not in list_cluster:\n",
    "        df_customers = df_customers[df_customers.cluster != cluster ]\n",
    "\n",
    "print(df_customers.shape)\n",
    "y_sample = df_customers.cluster.values\n",
    "print(y_sample.shape, type(y_sample))"
   ]
  },
  {
   "cell_type": "code",
   "execution_count": 10,
   "metadata": {},
   "outputs": [
    {
     "data": {
      "text/plain": [
       "array([0, 2, 4])"
      ]
     },
     "execution_count": 10,
     "metadata": {},
     "output_type": "execute_result"
    }
   ],
   "source": [
    "np.unique(y_sample)"
   ]
  },
  {
   "cell_type": "markdown",
   "metadata": {},
   "source": [
    "Dataframe of customers values is used to split data between train and test"
   ]
  },
  {
   "cell_type": "code",
   "execution_count": 11,
   "metadata": {},
   "outputs": [
    {
     "name": "stdout",
     "output_type": "stream",
     "text": [
      "Nan values : False\n",
      "(848, 339) (1273, 339)\n",
      "(848,) (1273,)\n"
     ]
    }
   ],
   "source": [
    "from sklearn.model_selection import train_test_split\n",
    "\n",
    "list_col_drop = ['cluster']\n",
    "list_col_keep =[col for col in df_customers.columns if col not in list_col_drop]\n",
    "is_nan_in_arr = np.isnan(df_customers[list_col_keep].values)\n",
    "print(\"Nan values : \"+str(True in is_nan_in_arr))\n",
    "\n",
    "\n",
    "X_train, X_test, y_train, y_test = train_test_split(df_customers[list_col_keep].values, y_sample, test_size=0.6)\n",
    "print(X_train.shape, X_test.shape)\n",
    "print(y_train.shape, y_test.shape)\n"
   ]
  },
  {
   "cell_type": "markdown",
   "metadata": {},
   "source": [
    "## <font color='blue'>Using *RandomForests* for observations classification into segments</font>"
   ]
  },
  {
   "cell_type": "markdown",
   "metadata": {},
   "source": [
    "### <font color='blue'>RandomForests : searching for bests parameters </font>"
   ]
  },
  {
   "cell_type": "code",
   "execution_count": null,
   "metadata": {},
   "outputs": [],
   "source": [
    "from sklearn.ensemble import RandomForestClassifier\n",
    "\n",
    "import p5_util\n",
    "\n",
    "dict_score_global = dict()\n",
    "list_estimators = list(np.arange(10,90,10))\n",
    "list_estimators = list(np.arange(2,21,1))\n",
    "#list_estimators = [10,20]\n",
    "nb_repetition = 10\n",
    "total_score_global = 0.0\n",
    "nb_segments = len(np.unique(y_sample))\n",
    "\n",
    "#-------------------------------------------------------------\n",
    "# dict_score_forest_mean is initialized\n",
    "#-------------------------------------------------------------\n",
    "dict_score_forest_mean = dict()\n",
    "\n",
    "for  nb_estimators in list_estimators:\n",
    "    print(\"\\n---------------- Random forest classifier : \"+str(nb_estimators)+\" forests / \"+str(nb_repetition)+\" repetition(s) ---------------------\")\n",
    "    dict_score_segment_mean = dict()\n",
    "    #-----------------------------------------------------------------------\n",
    "    # Each cluster is identified as a market segment\n",
    "    #-----------------------------------------------------------------------\n",
    "    for segment in list_cluster:\n",
    "        dict_score_segment_mean[segment] = 0.0\n",
    "        \n",
    "    for repeat in range(0,nb_repetition):\n",
    "        rfc = RandomForestClassifier(n_estimators=nb_estimators)\n",
    "        rfc_model = rfc.fit(X_train, y_train)\n",
    "        y_pred = rfc_model.predict(X_test)\n",
    "\n",
    "        #------------------------------------------------------\n",
    "        # dict_score_segment contains accuracy for any segment.\n",
    "        #------------------------------------------------------\n",
    "        score_global, dict_score_segment = p5_util.compute_precision_per_segment(y_test, y_pred,list_cluster)  \n",
    "        \n",
    "        #-------------------------------------------------------\n",
    "        # Accuracy per segment and per repetition is accumulated \n",
    "        #-------------------------------------------------------\n",
    "        for segment, accuracy in dict_score_segment.items():\n",
    "            dict_score_segment_mean[segment] += accuracy\n",
    "            \n",
    "        dict_score_global[nb_estimators] = score_global\n",
    "        total_score_global += score_global\n",
    "    #----------------------------------------------------------\n",
    "    # At end of repetitions, mean accuracy per segment is computed\n",
    "    #----------------------------------------------------------\n",
    "    total_score_global /= nb_repetition\n",
    "    for segment, accuracy in dict_score_segment_mean.items():\n",
    "        dict_score_segment_mean[segment] /= nb_repetition\n",
    "    #----------------------------------------------------------\n",
    "    # Mean accuracy for a forest is stored\n",
    "    #----------------------------------------------------------\n",
    "    dict_score_forest_mean[nb_estimators] = (dict_score_segment_mean,total_score_global)\n",
    "    total_score_global = 0.0\n",
    "    #print(\"\\nGlobal segment precision: {0:1.2F}\".format(total_score_global))\n",
    "    #print(\"----------------------------------------------------------------------------------------------\\n\")\n"
   ]
  },
  {
   "cell_type": "markdown",
   "metadata": {},
   "source": [
    "### <font color='blue'>Display accuracy per segment and global accuracy</font>"
   ]
  },
  {
   "cell_type": "code",
   "execution_count": null,
   "metadata": {},
   "outputs": [],
   "source": [
    "import numpy as np\n",
    "list_forests = list()\n",
    "list_global_accuracy = list()\n",
    "list_segment_accuracy = list()\n",
    "\n",
    "for forest, (dict_segment_accuracy, global_accuracy) in dict_score_forest_mean.items():\n",
    "    \n",
    "    print(\"\\n----------------- Forests : \"+str(forest)+\" / Repetitions : \"+str(nb_repetition)+\" -----------------\")\n",
    "    print(\"Global accuracy = {}\".format(np.format_float_positional(global_accuracy, precision=2)))\n",
    "    list_forests.append(forest)\n",
    "    list_global_accuracy.append(global_accuracy)\n",
    "    for segment, accuracy in dict_segment_accuracy.items():\n",
    "        if segment in list_cluster:\n",
    "            print(\"Segment : {0} / Mean accuracy for {1} repetitions : {2:0.2F}\".format(segment,nb_repetition,accuracy))\n",
    "    print(\"-------------------------------------------------------------------------\\n\")"
   ]
  },
  {
   "cell_type": "markdown",
   "metadata": {},
   "source": [
    "### <font color='blue'>Plot accuracy per segment and global accuracy</font>"
   ]
  },
  {
   "cell_type": "code",
   "execution_count": null,
   "metadata": {},
   "outputs": [],
   "source": [
    "import matplotlib.pyplot as plt\n",
    "\n",
    "f, axes = plt.subplots(2, 2, figsize=(14, 14), sharex=True)\n",
    "\n",
    "dict_forest_segment_accuracy = dict()\n",
    "\n",
    "for segment in list_cluster:\n",
    "    list_forest_segment_accuracy = list()\n",
    "    for forest, (dict_segment_accuracy, global_accuracy) in dict_score_forest_mean.items():\n",
    "        segment_accuracy = dict_segment_accuracy[segment]\n",
    "        list_forest_segment_accuracy.append(segment_accuracy)\n",
    "    dict_forest_segment_accuracy[segment] = list_forest_segment_accuracy\n",
    "    list_forest_segment_accuracy = None         \n",
    "        \n",
    "#for segment, list_forest_segment_accuracy in dict_forest_segment_accuracy.items():\n",
    "title = 'Segment 0'\n",
    "if True:\n",
    "    row = 0\n",
    "    col = 0\n",
    "    axes[row,col].plot(list_forests, dict_forest_segment_accuracy[0])\n",
    "    axes[row,col].set_title(title)\n",
    "    axes[row,col].set_xlabel('Nb forests')\n",
    "    axes[row,col].set_ylabel('Precision')\n",
    "\n",
    "if False:\n",
    "    row = 0\n",
    "    col = 1\n",
    "    title = 'Segment 1'\n",
    "    axes[row,col].plot(list_forests, dict_forest_segment_accuracy[1])\n",
    "    axes[row,col].set_title(title)\n",
    "    axes[row,col].set_xlabel('Nb forests')\n",
    "    axes[row,col].set_ylabel('Precision')\n",
    "\n",
    "if True:\n",
    "    row = 0\n",
    "    col = 1\n",
    "    title = 'Segment 2'\n",
    "    axes[row,col].plot(list_forests, dict_forest_segment_accuracy[2])\n",
    "    axes[row,col].set_title(title)\n",
    "    axes[row,col].set_xlabel('Nb forests')\n",
    "    axes[row,col].set_ylabel('Precision')\n",
    "\n",
    "if False:\n",
    "    row = 0\n",
    "    col = 1\n",
    "    title = 'Segment 3'\n",
    "    axes[row,col].plot(list_forests, dict_forest_segment_accuracy[3])\n",
    "    axes[row,col].set_title(title)\n",
    "    axes[row,col].set_xlabel('Nb forests')\n",
    "    axes[row,col].set_ylabel('Precision')\n",
    "\n",
    "if True:\n",
    "    row = 1\n",
    "    col = 0\n",
    "    title = 'Segment 4'\n",
    "    axes[row,col].plot(list_forests, dict_forest_segment_accuracy[4])\n",
    "    axes[row,col].set_title(title)\n",
    "    axes[row,col].set_xlabel('Nb forests')\n",
    "    axes[row,col].set_ylabel('Precision')\n",
    "\n",
    "row = 1\n",
    "col = 1\n",
    "title = 'All segments'\n",
    "axes[row,col].plot(list_forests, list_global_accuracy, color='red')\n",
    "axes[row,col].set_title(title)\n",
    "axes[row,col].set_xlabel('Nb forests')\n",
    "axes[row,col].set_ylabel('Precision')\n",
    "\n",
    "plt.plot()"
   ]
  },
  {
   "cell_type": "markdown",
   "metadata": {},
   "source": [
    "<font color='red'>Nombre optimal d'estimateurs :  18</font>"
   ]
  },
  {
   "cell_type": "markdown",
   "metadata": {},
   "source": [
    "### <font color='blue'>Random Forest :features importancy </font>"
   ]
  },
  {
   "cell_type": "code",
   "execution_count": null,
   "metadata": {},
   "outputs": [],
   "source": [
    "import p3_util_plot\n",
    "\n",
    "from sklearn.feature_selection import SelectFromModel\n",
    "from sklearn.metrics import accuracy_score\n",
    "\n",
    "p_threshold = 0.001\n",
    "select = SelectFromModel(rfc_best_model, prefit=True, threshold=p_threshold)\n",
    "print(X_train.shape)\n",
    "X_train2 = select.transform(X_train)\n",
    "X_test2 = select.transform(X_test)\n",
    "print(X_train2.shape)\n",
    "rfc_reduced = RandomForestClassifier(n_estimators=19).fit(X_train2, y_train)\n",
    "\n",
    "\n",
    "pred = rfc_reduced.predict(X_test2)\n",
    "#score = metrics.accuracy_score(y_test, y_pred)\n",
    "p3_util_plot.printmd(\"Random forest precision with importance threshold= \"+str(p_threshold)+\" : \"+str(accuracy_score(y_test, pred)))"
   ]
  },
  {
   "cell_type": "markdown",
   "metadata": {},
   "source": [
    "For 30% feaures less, decrease of accuracy is sensible. It is decided to keep model with 339 features."
   ]
  },
  {
   "cell_type": "markdown",
   "metadata": {},
   "source": [
    "### <font color='blue'>Random Forest : confusion matrix for each of the clusters</font>"
   ]
  },
  {
   "cell_type": "markdown",
   "metadata": {},
   "source": [
    "Optimal RF model trained with ``(X_train, y_train)`` is used."
   ]
  },
  {
   "cell_type": "code",
   "execution_count": null,
   "metadata": {},
   "outputs": [],
   "source": [
    "nb_estimators=19"
   ]
  },
  {
   "cell_type": "code",
   "execution_count": null,
   "metadata": {},
   "outputs": [],
   "source": [
    "nb_estimators\n",
    "rfc = RandomForestClassifier(n_estimators=nb_estimators)\n",
    "rfc_best_model = rfc.fit(X_train, y_train)"
   ]
  },
  {
   "cell_type": "markdown",
   "metadata": {},
   "source": [
    "Get customerID from ``y_test`` for each one the clusters"
   ]
  },
  {
   "cell_type": "code",
   "execution_count": null,
   "metadata": {},
   "outputs": [],
   "source": [
    "import numpy as np\n",
    "for cluster in list_cluster:\n",
    "    \n",
    "    y_true_index = np.where(y_sample==cluster)[0]\n",
    "    y_true = y_sample[y_true_index]\n",
    "    print(cluster, y_true.shape)\n",
    "    #print(y_true.shape)\n",
    "y_true.shape"
   ]
  },
  {
   "cell_type": "raw",
   "metadata": {},
   "source": [
    "from sklearn import metrics\n",
    "from sklearn.model_selection import train_test_split\n",
    "\n",
    "param_test_size = 0.4\n",
    "\n",
    "for cluster in list_cluster:\n",
    "\n",
    "    #-------------------------------------------------------------------------\n",
    "    # Values from dataframe matching with cluster value are filtered\n",
    "    #-------------------------------------------------------------------------\n",
    "    df_customers_cluster = df_customers[df_customers.cluster==cluster]\n",
    "    \n",
    "    #-------------------------------------------------------------------------\n",
    "    # Get Y sample with values focused on cluster value\n",
    "    #-------------------------------------------------------------------------\n",
    "    y_sample_cluster = df_customers_cluster.cluster.values\n",
    "\n",
    "    #-------------------------------------------------------------------------\n",
    "    # Split data into test and train\n",
    "    #-------------------------------------------------------------------------\n",
    "    X_train_cluster, X_test_cluster, y_train_cluster, y_test_cluster \\\n",
    "    = train_test_split(df_customers_cluster[list_col_keep].values, y_sample_cluster, test_size=param_test_size)\n",
    "\n",
    "    #-------------------------------------------------------------------------\n",
    "    # Make prediction with data tests\n",
    "    #-------------------------------------------------------------------------\n",
    "    y_pred_cluster = rfc_best_model.predict(X_test_cluster)\n",
    "    \n",
    "    #-------------------------------------------------------------------------\n",
    "    # Confusion matrix is printed\n",
    "    #-------------------------------------------------------------------------\n",
    "    print(\"Confusion matrix for cluster= \"+str(cluster)+\" / Test size = \"+str(param_test_size))\n",
    "    print(metrics.confusion_matrix(y_test_cluster, y_pred_cluster))\n",
    "    print('\\n\\n')\n"
   ]
  },
  {
   "cell_type": "code",
   "execution_count": null,
   "metadata": {},
   "outputs": [],
   "source": [
    "from sklearn import metrics\n",
    "y_pred = rfc_best_model.predict(X_test)\n",
    "metrics.confusion_matrix(y_test, y_pred, labels=[0,2,4])"
   ]
  },
  {
   "cell_type": "code",
   "execution_count": 48,
   "metadata": {},
   "outputs": [],
   "source": [
    "import itertools\n",
    "import numpy as np\n",
    "import matplotlib.pyplot as plt\n",
    "from sklearn import metrics\n",
    "\n",
    "#---------------------------------------------------------------------------------\n",
    "# Following function is extraced from URl :\n",
    "# http://scikit-learn.org/stable/auto_examples/model_selection/plot_confusion_matrix.html#sphx-glr-auto-examples-model-selection-plot-confusion-matrix-py\n",
    "#---------------------------------------------------------------------------------\n",
    "def plot_confusion_matrix(cm, classes,\n",
    "                          normalize=False,\n",
    "                          title='Confusion matrix',\n",
    "                          cmap=plt.cm.Greys):\n",
    "    \"\"\"\n",
    "    This function prints and plots the confusion matrix.\n",
    "    Normalization can be applied by setting `normalize=True`.\n",
    "    \"\"\"\n",
    "    if normalize:\n",
    "        cm = cm.astype('float') / cm.sum(axis=1)[:, np.newaxis]\n",
    "        print(\"Normalized confusion matrix\")\n",
    "    else:\n",
    "        print('Confusion matrix, without normalization')\n",
    "\n",
    "    print(cm)\n",
    "\n",
    "    plt.imshow(cm, interpolation='nearest', cmap=cmap)\n",
    "    plt.title(title, color='blue', fontsize=14)\n",
    "    plt.colorbar()\n",
    "    tick_marks = np.arange(len(classes))\n",
    "    plt.xticks(tick_marks, classes, rotation=45)\n",
    "    plt.yticks(tick_marks, classes)\n",
    "\n",
    "    fmt = '.2f' if normalize else 'd'\n",
    "    thresh = cm.max() / 2.\n",
    "    for i, j in itertools.product(range(cm.shape[0]), range(cm.shape[1])):\n",
    "        plt.text(j, i, format(cm[i, j], fmt),\n",
    "                 horizontalalignment=\"center\",\n",
    "                 color=\"white\" if cm[i, j] > thresh else \"black\")\n",
    "\n",
    "    plt.tight_layout()\n",
    "    plt.ylabel('True label', color='blue')\n",
    "    plt.xlabel('Predicted label', color='blue')\n",
    "    return cm"
   ]
  },
  {
   "cell_type": "code",
   "execution_count": null,
   "metadata": {},
   "outputs": [],
   "source": [
    "from sklearn import metrics\n",
    "# Compute confusion matrix\n",
    "cnf_matrix = metrics.confusion_matrix(y_test, y_pred, labels=[0,2,4])\n",
    "np.set_printoptions(precision=2)\n",
    "class_names=['Segment 0','Segment 2','Segment 4']\n",
    "\n",
    "# Plot non-normalized confusion matrix\n",
    "plt.figure()\n",
    "plot_confusion_matrix(cnf_matrix, classes=class_names,  title='Confusion matrix for RF predictions, 60% tests')\n",
    "\n",
    "# Plot normalized confusion matrix\n",
    "#plt.figure()\n",
    "#plot_confusion_matrix(cnf_matrix, classes=class_names, normalize=True,\n",
    "#                      title='Normalized confusion matrix')\n",
    "\n",
    "plt.show()"
   ]
  },
  {
   "cell_type": "code",
   "execution_count": null,
   "metadata": {},
   "outputs": [],
   "source": [
    "dict_crit_perf= dict()\n",
    "#---------------------------------------\n",
    "# Segment 0\n",
    "#---------------------------------------\n",
    "segment = 0\n",
    "FP = 0+68\n",
    "FN = 2+108\n",
    "TP = 725\n",
    "TN = y_test.shape[0]-(FP + FN + TP)\n",
    "dict_segment = dict()\n",
    "dict_segment['FP'] = FP\n",
    "dict_segment['FN'] = FN\n",
    "dict_segment['TP'] = TP\n",
    "dict_segment['TN'] = TN\n",
    "\n",
    "dict_crit_perf[0] = dict_segment\n",
    "\n",
    "#---------------------------------------\n",
    "# Segment 2\n",
    "#---------------------------------------\n",
    "segment = 2\n",
    "FP = 2 + 27\n",
    "FN = 4 + 0\n",
    "TP = 107\n",
    "TN = y_test.shape[0]-(FP + FN + TP)\n",
    "dict_segment = dict()\n",
    "dict_segment['FP'] = FP\n",
    "dict_segment['FN'] = FN\n",
    "dict_segment['TP'] = TP\n",
    "dict_segment['TN'] = TN\n",
    "\n",
    "dict_crit_perf[segment] = dict_segment\n",
    "\n",
    "#---------------------------------------\n",
    "# Segment 4\n",
    "#---------------------------------------\n",
    "segment = 4\n",
    "FP = 108+4\n",
    "FN = 68+27\n",
    "TP = 232\n",
    "TN = y_test.shape[0]-(FP + FN + TP)\n",
    "dict_segment = dict()\n",
    "dict_segment['FP'] = FP\n",
    "dict_segment['FN'] = FN\n",
    "dict_segment['TP'] = TP\n",
    "dict_segment['TN'] = TN\n",
    "\n",
    "dict_crit_perf[segment] = dict_segment\n",
    "\n",
    "for segment in dict_crit_perf.keys():\n",
    "    dict_segment = dict_crit_perf[segment]\n",
    "    \n",
    "    recall = dict_segment['TP']/(dict_segment['TP']+dict_segment['FN'])\n",
    "    precision = dict_segment['TP']/(dict_segment['TP']+dict_segment['FP'])\n",
    "    fmesure = (2*dict_segment['TP'])/(2*dict_segment['TP']+dict_segment['FP']+dict_segment['FN'])\n",
    "    specificity = dict_segment['TN']/(dict_segment['FP']+dict_segment['TN'])\n",
    "    \n",
    "    print(\"Segment : \"+str(segment)+\" : Recall= \"+str(recall)+\" Precision= \"+str(precision)+\" F-mesure= \"+str(fmesure)+\" Specifity= \"+str(specificity)+\"\\n\")"
   ]
  },
  {
   "cell_type": "markdown",
   "metadata": {},
   "source": [
    "## <font color='blue'>Using SVC for observations classification into segments</font>"
   ]
  },
  {
   "cell_type": "code",
   "execution_count": null,
   "metadata": {},
   "outputs": [],
   "source": [
    "import p5_util\n",
    "import sklearn\n",
    "\n",
    "dict_svm_model = dict()\n",
    "list_svm_kernel = ['rbf','linear','poly','sigmoid']\n",
    "for p_kernel in list_svm_kernel:\n",
    "    svm_model = sklearn.svm.SVC(kernel=p_kernel)\n",
    "    svm_model.fit(X_train, y_train)\n",
    "    dict_svm_model[p_kernel] = svm_model\n",
    "\n",
    "print(X_train.shape, X_test.shape)\n",
    "print(y_train.shape, y_test.shape)\n",
    "\n",
    "\n",
    "\n",
    "\n",
    "#------------------------------------------------------\n",
    "# dict_score_segment contains accuracy for any segment.\n",
    "#------------------------------------------------------\n",
    "dict_score_global_svm = dict()\n",
    "dict_dict_score_segment_svm = dict()\n",
    "nb_segments = len(np.unique(y_sample))\n",
    "\n",
    "for p_kernel, svm_model in dict_svm_model.items():    \n",
    "    y_pred = svm_model.predict(X_test)\n",
    "    score_global_svm, dict_score_segment_svm \\\n",
    "    = p5_util.compute_precision_per_segment(y_test, y_pred,list_cluster)  \n",
    "    dict_score_global_svm[p_kernel] = score_global_svm\n",
    "    dict_dict_score_segment_svm[p_kernel] = dict_score_segment_svm\n",
    "    print(\"\\nSVC : kernel= \"+str(p_kernel)+\"\\nAccuracy / segment : {} \\nGlobal accuracy : {}\".format(dict_score_segment_svm, score_global_svm))"
   ]
  },
  {
   "cell_type": "markdown",
   "metadata": {},
   "source": [
    "### <font color='blue'>SVC : confusion matrix for each of the clusters</font>"
   ]
  },
  {
   "cell_type": "code",
   "execution_count": null,
   "metadata": {},
   "outputs": [],
   "source": [
    "from sklearn import metrics\n",
    "\n",
    "svm_model = dict_svm_model['linear']\n",
    "y_pred = svm_model.predict(X_test)\n",
    "# Compute confusion matrix\n",
    "cnf_matrix = metrics.confusion_matrix(y_test, y_pred, labels=[0,2,4])\n",
    "np.set_printoptions(precision=2)\n",
    "class_names=['Segment 0','Segment 2','Segment 4']\n",
    "\n",
    "# Plot non-normalized confusion matrix\n",
    "plt.figure()\n",
    "plot_confusion_matrix(cnf_matrix, classes=class_names,  title='Confusion matrix for SVC predictions, 60% tests')\n",
    "\n",
    "# Plot normalized confusion matrix\n",
    "#plt.figure()\n",
    "#plot_confusion_matrix(cnf_matrix, classes=class_names, normalize=True,\n",
    "#                      title='Normalized confusion matrix')\n",
    "\n",
    "plt.show()"
   ]
  },
  {
   "cell_type": "code",
   "execution_count": null,
   "metadata": {},
   "outputs": [],
   "source": [
    "cnf_matrix.ravel()\n",
    "dict_crit_perf= dict()\n",
    "#---------------------------------------\n",
    "# Segment 0\n",
    "#---------------------------------------\n",
    "segment = 0\n",
    "FP = 1+63\n",
    "FN = 19+62\n",
    "TP = 729\n",
    "TN = y_test.shape[0]-(FP + FN + TP)\n",
    "dict_segment = dict()\n",
    "dict_segment['FP'] = FP\n",
    "dict_segment['FN'] = FN\n",
    "dict_segment['TP'] = TP\n",
    "dict_segment['TN'] = TN\n",
    "\n",
    "dict_crit_perf[0] = dict_segment\n",
    "\n",
    "#---------------------------------------\n",
    "# Segment 2\n",
    "#---------------------------------------\n",
    "segment = 2\n",
    "FP = 19 + 63\n",
    "FN = 24 + 1\n",
    "TP = 54\n",
    "TN = y_test.shape[0]-(FP + FN + TP)\n",
    "dict_segment = dict()\n",
    "dict_segment['FP'] = FP\n",
    "dict_segment['FN'] = FN\n",
    "dict_segment['TP'] = TP\n",
    "dict_segment['TN'] = TN\n",
    "\n",
    "dict_crit_perf[segment] = dict_segment\n",
    "\n",
    "#---------------------------------------\n",
    "# Segment 4\n",
    "#---------------------------------------\n",
    "segment = 4\n",
    "FP = 63+63\n",
    "FN = 62+24\n",
    "TP = 258\n",
    "TN = y_test.shape[0]-(FP + FN + TP)\n",
    "dict_segment = dict()\n",
    "dict_segment['FP'] = FP\n",
    "dict_segment['FN'] = FN\n",
    "dict_segment['TP'] = TP\n",
    "dict_segment['TN'] = TN\n",
    "\n",
    "dict_crit_perf[segment] = dict_segment\n",
    "\n",
    "for segment in dict_crit_perf.keys():\n",
    "    dict_segment = dict_crit_perf[segment]\n",
    "    \n",
    "    recall = dict_segment['TP']/(dict_segment['TP']+dict_segment['FN'])\n",
    "    precision = dict_segment['TP']/(dict_segment['TP']+dict_segment['FP'])\n",
    "    fmesure = (2*dict_segment['TP'])/(2*dict_segment['TP']+dict_segment['FP']+dict_segment['FN'])\n",
    "    specificity = dict_segment['TN']/(dict_segment['FP']+dict_segment['TN'])\n",
    "    \n",
    "    print(\"Segment : \"+str(segment)+\" : Recall= \"+str(recall)+\" Precision= \"+str(precision)+\" F-mesure= \"+str(fmesure)+\" Specifity= \"+str(specificity))"
   ]
  },
  {
   "cell_type": "code",
   "execution_count": null,
   "metadata": {},
   "outputs": [],
   "source": []
  },
  {
   "cell_type": "markdown",
   "metadata": {},
   "source": [
    "## <font color='blue'>Using LinearSVC for observations classification into segments</font>"
   ]
  },
  {
   "cell_type": "code",
   "execution_count": 45,
   "metadata": {},
   "outputs": [
    {
     "name": "stdout",
     "output_type": "stream",
     "text": [
      "(848, 339) (848,)\n",
      "(1273, 339) (1273,)\n"
     ]
    },
    {
     "data": {
      "text/plain": [
       "(None, None)"
      ]
     },
     "execution_count": 45,
     "metadata": {},
     "output_type": "execute_result"
    }
   ],
   "source": [
    "print(X_train.shape, y_train.shape),print(X_test.shape, y_test.shape)"
   ]
  },
  {
   "cell_type": "code",
   "execution_count": 39,
   "metadata": {},
   "outputs": [
    {
     "name": "stdout",
     "output_type": "stream",
     "text": [
      "[1.e-03 1.e-02 1.e-01 1.e+00 1.e+01 1.e+02 1.e+03]\n"
     ]
    },
    {
     "data": {
      "text/plain": [
       "GridSearchCV(cv=10, error_score='raise',\n",
       "       estimator=LinearSVC(C=1.0, class_weight=None, dual=False, fit_intercept=True,\n",
       "     intercept_scaling=1, loss='squared_hinge', max_iter=1000,\n",
       "     multi_class='ovr', penalty='l1', random_state=None, tol=0.0001,\n",
       "     verbose=0),\n",
       "       fit_params=None, iid=True, n_jobs=1,\n",
       "       param_grid={'C': array([1.e-03, 1.e-02, 1.e-01, 1.e+00, 1.e+01, 1.e+02, 1.e+03])},\n",
       "       pre_dispatch='2*n_jobs', refit=True, return_train_score='warn',\n",
       "       scoring=None, verbose=0)"
      ]
     },
     "execution_count": 39,
     "metadata": {},
     "output_type": "execute_result"
    }
   ],
   "source": [
    "import numpy as np\n",
    "\n",
    "import sklearn\n",
    "from sklearn.model_selection import cross_val_score\n",
    "from sklearn.model_selection import GridSearchCV\n",
    "from sklearn.svm import LinearSVC\n",
    "import p5_util\n",
    "#LinearSVC(penalty=’l2’, loss=’squared_hinge’, dual=True, tol=0.0001, C=1.0, multi_class=’ovr’\\\n",
    "#, fit_intercept=True, intercept_scaling=1, class_weight=None, verbose=0, random_state=None, max_iter=1000)\n",
    "\n",
    "dict_params = {'C': np.logspace(-3, 3, 7) }\n",
    "#dict_params = {'C': np.logspace(-3, 3, 7)}\n",
    "\n",
    "print(dict_params['C'])\n",
    "\n",
    "lsvc_model = LinearSVC(loss='squared_hinge', penalty='l1', dual=False)\n",
    "lsvc_model_gscv = GridSearchCV(lsvc_model, dict_params, cv=10)\n",
    "lsvc_model_gscv.fit(X_train, y_train)"
   ]
  },
  {
   "cell_type": "code",
   "execution_count": 40,
   "metadata": {},
   "outputs": [
    {
     "name": "stdout",
     "output_type": "stream",
     "text": [
      "{'C': 1000.0}\n"
     ]
    }
   ],
   "source": [
    "print(lsvc_model_gscv.best_params_)"
   ]
  },
  {
   "cell_type": "markdown",
   "metadata": {},
   "source": [
    "### <font color='blue'>LinearSVC : confusion matrix for each of the clusters</font>"
   ]
  },
  {
   "cell_type": "code",
   "execution_count": 53,
   "metadata": {},
   "outputs": [
    {
     "data": {
      "text/plain": [
       "757"
      ]
     },
     "execution_count": 53,
     "metadata": {},
     "output_type": "execute_result"
    }
   ],
   "source": [
    "dict_order_segment={0:0,2:1,4:2}\n",
    "segment=0\n"
   ]
  },
  {
   "cell_type": "code",
   "execution_count": 49,
   "metadata": {},
   "outputs": [
    {
     "name": "stdout",
     "output_type": "stream",
     "text": [
      "LinearSVC(C=1000.0, class_weight=None, dual=False, fit_intercept=True,\n",
      "     intercept_scaling=1, loss='squared_hinge', max_iter=1000,\n",
      "     multi_class='ovr', penalty='l1', random_state=None, tol=0.0001,\n",
      "     verbose=0)\n",
      "Confusion matrix, without normalization\n",
      "[[757   7   6]\n",
      " [  3 127  30]\n",
      " [  6  44 293]]\n"
     ]
    },
    {
     "data": {
      "image/png": "[encoded data removed]",
      "text/plain": [
       "<matplotlib.figure.Figure at 0xa5e0d4ec>"
      ]
     },
     "metadata": {},
     "output_type": "display_data"
    }
   ],
   "source": [
    "import matplotlib.pyplot as plt\n",
    "from sklearn import metrics\n",
    "\n",
    "lsvc_model = LinearSVC(C=1000.0,loss='squared_hinge', penalty='l1', dual=False)\n",
    "print(lsvc_model)\n",
    "\n",
    "lsvc_model.fit(X_train, y_train)\n",
    "y_pred = lsvc_model.predict(X_test)\n",
    "\n",
    "# Compute confusion matrix\n",
    "cnf_matrix = metrics.confusion_matrix(y_test, y_pred, labels=[0,2,4])\n",
    "np.set_printoptions(precision=2)\n",
    "class_names=['Segment 0','Segment 2','Segment 4']\n",
    "\n",
    "# Plot non-normalized confusion matrix\n",
    "plt.figure()\n",
    "confusion_matrix = plot_confusion_matrix(cnf_matrix, classes=class_names,  title='Confusion matrix for LinearSVC predictions, 60% tests')\n",
    "\n",
    "\n",
    "plt.show()"
   ]
  },
  {
   "cell_type": "code",
   "execution_count": 54,
   "metadata": {},
   "outputs": [
    {
     "name": "stdout",
     "output_type": "stream",
     "text": [
      "Segment : 0 : Recall= 0.9186893203883495 Precision= 0.9831168831168832 F-mesure= 0.9498117942283564 Specifity= 0.9710467706013363\n",
      "\n",
      "Segment : 2 : Recall= 0.7134831460674157 Precision= 0.79375 F-mesure= 0.7514792899408284 Specifity= 0.9698630136986301\n",
      "\n",
      "Segment : 4 : Recall= 0.8905775075987842 Precision= 0.8542274052478134 F-mesure= 0.8720238095238095 Specifity= 0.9470338983050848\n",
      "\n"
     ]
    }
   ],
   "source": [
    "cnf_matrix.ravel()\n",
    "dict_crit_perf= dict()\n",
    "#---------------------------------------\n",
    "# Segment 0\n",
    "#---------------------------------------\n",
    "segment = 0\n",
    "FP = 7+6\n",
    "FN = 3+64\n",
    "TP = 757\n",
    "TN = y_test.shape[0]-(FP + FN + TP)\n",
    "dict_segment = dict()\n",
    "dict_segment['FP'] = FP\n",
    "dict_segment['FN'] = FN\n",
    "dict_segment['TP'] = TP\n",
    "dict_segment['TN'] = TN\n",
    "\n",
    "dict_crit_perf[0] = dict_segment\n",
    "\n",
    "#---------------------------------------\n",
    "# Segment 2\n",
    "#---------------------------------------\n",
    "segment = 2\n",
    "FP = 3 + 30\n",
    "FN = 7 + 44\n",
    "TP = 127\n",
    "TN = y_test.shape[0]-(FP + FN + TP)\n",
    "dict_segment = dict()\n",
    "dict_segment['FP'] = FP\n",
    "dict_segment['FN'] = FN\n",
    "dict_segment['TP'] = TP\n",
    "dict_segment['TN'] = TN\n",
    "\n",
    "dict_crit_perf[segment] = dict_segment\n",
    "\n",
    "#---------------------------------------\n",
    "# Segment 4\n",
    "#---------------------------------------\n",
    "segment = 4\n",
    "FP = 6+44\n",
    "FN = 30+6\n",
    "TP = 293\n",
    "TN = y_test.shape[0]-(FP + FN + TP)\n",
    "dict_segment = dict()\n",
    "dict_segment['FP'] = FP\n",
    "dict_segment['FN'] = FN\n",
    "dict_segment['TP'] = TP\n",
    "dict_segment['TN'] = TN\n",
    "\n",
    "dict_crit_perf[segment] = dict_segment\n",
    "\n",
    "for segment in dict_crit_perf.keys():\n",
    "    dict_segment = dict_crit_perf[segment]\n",
    "    \n",
    "    recall = dict_segment['TP']/(dict_segment['TP']+dict_segment['FN'])\n",
    "    precision = dict_segment['TP']/(dict_segment['TP']+dict_segment['FP'])\n",
    "    fmesure = (2*dict_segment['TP'])/(2*dict_segment['TP']+dict_segment['FP']+dict_segment['FN'])\n",
    "    specificity = dict_segment['TN']/(dict_segment['FP']+dict_segment['TN'])\n",
    "    \n",
    "    print(\"Segment : \"+str(segment)+\" : Recall= \"+str(recall)+\" Precision= \"+str(precision)+\" F-mesure= \"+str(fmesure)+\" Specifity= \"+str(specificity)+\"\\n\")"
   ]
  },
  {
   "cell_type": "code",
   "execution_count": 42,
   "metadata": {},
   "outputs": [
    {
     "name": "stdout",
     "output_type": "stream",
     "text": [
      "LinearSVC(C=1.0, class_weight=None, dual=True, fit_intercept=True,\n",
      "     intercept_scaling=1, loss='squared_hinge', max_iter=1000,\n",
      "     multi_class='ovr', penalty='l2', random_state=None, tol=0.0001,\n",
      "     verbose=0)\n",
      "Confusion matrix, without normalization\n",
      "[[728  17  25]\n",
      " [ 14 108  38]\n",
      " [ 67  50 226]]\n"
     ]
    },
    {
     "data": {
      "image/png": "[encoded data removed]",
      "text/plain": [
       "<matplotlib.figure.Figure at 0xa5f476ec>"
      ]
     },
     "metadata": {},
     "output_type": "display_data"
    }
   ],
   "source": [
    "import matplotlib.pyplot as plt\n",
    "from sklearn import metrics\n",
    "\n",
    "lsvc_model = LinearSVC(C=1.0)\n",
    "print(lsvc_model)\n",
    "lsvc_model.fit(X_train, y_train)\n",
    "y_pred = lsvc_model.predict(X_test)\n",
    "\n",
    "# Compute confusion matrix\n",
    "cnf_matrix = metrics.confusion_matrix(y_test, y_pred, labels=[0,2,4])\n",
    "np.set_printoptions(precision=2)\n",
    "class_names=['Segment 0','Segment 2','Segment 4']\n",
    "\n",
    "# Plot non-normalized confusion matrix\n",
    "plt.figure()\n",
    "plot_confusion_matrix(cnf_matrix, classes=class_names,  title='Confusion matrix for LinearSVC predictions, 60% tests')\n",
    "\n",
    "\n",
    "plt.show()"
   ]
  },
  {
   "cell_type": "code",
   "execution_count": 25,
   "metadata": {},
   "outputs": [
    {
     "name": "stdout",
     "output_type": "stream",
     "text": [
      "Segment : 0 : Recall= 0.9029850746268657 Precision= 0.9428571428571428 F-mesure= 0.9224904701397713 Specifity= 0.906183368869936\n",
      "\n",
      "Segment : 2 : Recall= 0.6184971098265896 Precision= 0.66875 F-mesure= 0.6426426426426426 Specifity= 0.9518181818181818\n",
      "\n",
      "Segment : 4 : Recall= 0.777027027027027 Precision= 0.6705539358600583 F-mesure= 0.7198748043818466 Specifity= 0.8843398157625384\n",
      "\n"
     ]
    }
   ],
   "source": [
    "cnf_matrix.ravel()\n",
    "dict_crit_perf= dict()\n",
    "#---------------------------------------\n",
    "# Segment 0\n",
    "#---------------------------------------\n",
    "segment = 0\n",
    "FP = 17+27\n",
    "FN = 14+64\n",
    "TP = 726\n",
    "TN = y_test.shape[0]-(FP + FN + TP)\n",
    "dict_segment = dict()\n",
    "dict_segment['FP'] = FP\n",
    "dict_segment['FN'] = FN\n",
    "dict_segment['TP'] = TP\n",
    "dict_segment['TN'] = TN\n",
    "\n",
    "dict_crit_perf[0] = dict_segment\n",
    "\n",
    "#---------------------------------------\n",
    "# Segment 2\n",
    "#---------------------------------------\n",
    "segment = 2\n",
    "FP = 14 + 39\n",
    "FN = 17 + 49\n",
    "TP = 107\n",
    "TN = y_test.shape[0]-(FP + FN + TP)\n",
    "dict_segment = dict()\n",
    "dict_segment['FP'] = FP\n",
    "dict_segment['FN'] = FN\n",
    "dict_segment['TP'] = TP\n",
    "dict_segment['TN'] = TN\n",
    "\n",
    "dict_crit_perf[segment] = dict_segment\n",
    "\n",
    "#---------------------------------------\n",
    "# Segment 4\n",
    "#---------------------------------------\n",
    "segment = 4\n",
    "FP = 64+49\n",
    "FN = 27+39\n",
    "TP = 230\n",
    "TN = y_test.shape[0]-(FP + FN + TP)\n",
    "dict_segment = dict()\n",
    "dict_segment['FP'] = FP\n",
    "dict_segment['FN'] = FN\n",
    "dict_segment['TP'] = TP\n",
    "dict_segment['TN'] = TN\n",
    "\n",
    "dict_crit_perf[segment] = dict_segment\n",
    "\n",
    "for segment in dict_crit_perf.keys():\n",
    "    dict_segment = dict_crit_perf[segment]\n",
    "    \n",
    "    recall = dict_segment['TP']/(dict_segment['TP']+dict_segment['FN'])\n",
    "    precision = dict_segment['TP']/(dict_segment['TP']+dict_segment['FP'])\n",
    "    fmesure = (2*dict_segment['TP'])/(2*dict_segment['TP']+dict_segment['FP']+dict_segment['FN'])\n",
    "    specificity = dict_segment['TN']/(dict_segment['FP']+dict_segment['TN'])\n",
    "    \n",
    "    print(\"Segment : \"+str(segment)+\" : Recall= \"+str(recall)+\" Precision= \"+str(precision)+\" F-mesure= \"+str(fmesure)+\" Specifity= \"+str(specificity)+\"\\n\")"
   ]
  },
  {
   "cell_type": "code",
   "execution_count": null,
   "metadata": {},
   "outputs": [],
   "source": []
  },
  {
   "cell_type": "code",
   "execution_count": null,
   "metadata": {},
   "outputs": [],
   "source": []
  },
  {
   "cell_type": "markdown",
   "metadata": {},
   "source": [
    "## <font color='blue'>Using LinearSVC for observations classification into segments</font>"
   ]
  },
  {
   "cell_type": "code",
   "execution_count": 45,
   "metadata": {},
   "outputs": [
    {
     "name": "stdout",
     "output_type": "stream",
     "text": [
      "(848, 339) (848,)\n",
      "(1273, 339) (1273,)\n"
     ]
    },
    {
     "data": {
      "text/plain": [
       "(None, None)"
      ]
     },
     "execution_count": 45,
     "metadata": {},
     "output_type": "execute_result"
    }
   ],
   "source": [
    "print(X_train.shape, y_train.shape),print(X_test.shape, y_test.shape)"
   ]
  },
  {
   "cell_type": "code",
   "execution_count": 39,
   "metadata": {},
   "outputs": [
    {
     "name": "stdout",
     "output_type": "stream",
     "text": [
      "[1.e-03 1.e-02 1.e-01 1.e+00 1.e+01 1.e+02 1.e+03]\n"
     ]
    },
    {
     "data": {
      "text/plain": [
       "GridSearchCV(cv=10, error_score='raise',\n",
       "       estimator=LinearSVC(C=1.0, class_weight=None, dual=False, fit_intercept=True,\n",
       "     intercept_scaling=1, loss='squared_hinge', max_iter=1000,\n",
       "     multi_class='ovr', penalty='l1', random_state=None, tol=0.0001,\n",
       "     verbose=0),\n",
       "       fit_params=None, iid=True, n_jobs=1,\n",
       "       param_grid={'C': array([1.e-03, 1.e-02, 1.e-01, 1.e+00, 1.e+01, 1.e+02, 1.e+03])},\n",
       "       pre_dispatch='2*n_jobs', refit=True, return_train_score='warn',\n",
       "       scoring=None, verbose=0)"
      ]
     },
     "execution_count": 39,
     "metadata": {},
     "output_type": "execute_result"
    }
   ],
   "source": [
    "import numpy as np\n",
    "\n",
    "import sklearn\n",
    "from sklearn.model_selection import cross_val_score\n",
    "from sklearn.model_selection import GridSearchCV\n",
    "from sklearn.svm import LinearSVC\n",
    "import p5_util\n",
    "#LinearSVC(penalty=’l2’, loss=’squared_hinge’, dual=True, tol=0.0001, C=1.0, multi_class=’ovr’\\\n",
    "#, fit_intercept=True, intercept_scaling=1, class_weight=None, verbose=0, random_state=None, max_iter=1000)\n",
    "\n",
    "dict_params = {'C': np.logspace(-3, 3, 7) }\n",
    "#dict_params = {'C': np.logspace(-3, 3, 7)}\n",
    "\n",
    "print(dict_params['C'])\n",
    "\n",
    "lsvc_model = LinearSVC(loss='squared_hinge', penalty='l1', dual=False)\n",
    "lsvc_model_gscv = GridSearchCV(lsvc_model, dict_params, cv=10)\n",
    "lsvc_model_gscv.fit(X_train, y_train)"
   ]
  },
  {
   "cell_type": "code",
   "execution_count": 40,
   "metadata": {},
   "outputs": [
    {
     "name": "stdout",
     "output_type": "stream",
     "text": [
      "{'C': 1000.0}\n"
     ]
    }
   ],
   "source": [
    "print(lsvc_model_gscv.best_params_)"
   ]
  },
  {
   "cell_type": "code",
   "execution_count": 53,
   "metadata": {},
   "outputs": [
    {
     "data": {
      "text/plain": [
       "757"
      ]
     },
     "execution_count": 53,
     "metadata": {},
     "output_type": "execute_result"
    }
   ],
   "source": [
    "dict_order_segment={0:0,2:1,4:2}\n",
    "segment=0\n"
   ]
  },
  {
   "cell_type": "code",
   "execution_count": 49,
   "metadata": {},
   "outputs": [
    {
     "name": "stdout",
     "output_type": "stream",
     "text": [
      "LinearSVC(C=1000.0, class_weight=None, dual=False, fit_intercept=True,\n",
      "     intercept_scaling=1, loss='squared_hinge', max_iter=1000,\n",
      "     multi_class='ovr', penalty='l1', random_state=None, tol=0.0001,\n",
      "     verbose=0)\n",
      "Confusion matrix, without normalization\n",
      "[[757   7   6]\n",
      " [  3 127  30]\n",
      " [  6  44 293]]\n"
     ]
    },
    {
     "data": {
      "image/png": "[encoded data removed]",
      "text/plain": [
       "<matplotlib.figure.Figure at 0xa5e0d4ec>"
      ]
     },
     "metadata": {},
     "output_type": "display_data"
    }
   ],
   "source": [
    "import matplotlib.pyplot as plt\n",
    "from sklearn import metrics\n",
    "\n",
    "lsvc_model = LinearSVC(C=1000.0,loss='squared_hinge', penalty='l1', dual=False)\n",
    "print(lsvc_model)\n",
    "\n",
    "lsvc_model.fit(X_train, y_train)\n",
    "y_pred = lsvc_model.predict(X_test)\n",
    "\n",
    "# Compute confusion matrix\n",
    "cnf_matrix = metrics.confusion_matrix(y_test, y_pred, labels=[0,2,4])\n",
    "np.set_printoptions(precision=2)\n",
    "class_names=['Segment 0','Segment 2','Segment 4']\n",
    "\n",
    "# Plot non-normalized confusion matrix\n",
    "plt.figure()\n",
    "confusion_matrix = plot_confusion_matrix(cnf_matrix, classes=class_names,  title='Confusion matrix for LinearSVC predictions, 60% tests')\n",
    "\n",
    "\n",
    "plt.show()"
   ]
  },
  {
   "cell_type": "code",
   "execution_count": 54,
   "metadata": {},
   "outputs": [
    {
     "name": "stdout",
     "output_type": "stream",
     "text": [
      "Segment : 0 : Recall= 0.9186893203883495 Precision= 0.9831168831168832 F-mesure= 0.9498117942283564 Specifity= 0.9710467706013363\n",
      "\n",
      "Segment : 2 : Recall= 0.7134831460674157 Precision= 0.79375 F-mesure= 0.7514792899408284 Specifity= 0.9698630136986301\n",
      "\n",
      "Segment : 4 : Recall= 0.8905775075987842 Precision= 0.8542274052478134 F-mesure= 0.8720238095238095 Specifity= 0.9470338983050848\n",
      "\n"
     ]
    }
   ],
   "source": [
    "cnf_matrix.ravel()\n",
    "dict_crit_perf= dict()\n",
    "#---------------------------------------\n",
    "# Segment 0\n",
    "#---------------------------------------\n",
    "segment = 0\n",
    "FP = 7+6\n",
    "FN = 3+64\n",
    "TP = 757\n",
    "TN = y_test.shape[0]-(FP + FN + TP)\n",
    "dict_segment = dict()\n",
    "dict_segment['FP'] = FP\n",
    "dict_segment['FN'] = FN\n",
    "dict_segment['TP'] = TP\n",
    "dict_segment['TN'] = TN\n",
    "\n",
    "dict_crit_perf[0] = dict_segment\n",
    "\n",
    "#---------------------------------------\n",
    "# Segment 2\n",
    "#---------------------------------------\n",
    "segment = 2\n",
    "FP = 3 + 30\n",
    "FN = 7 + 44\n",
    "TP = 127\n",
    "TN = y_test.shape[0]-(FP + FN + TP)\n",
    "dict_segment = dict()\n",
    "dict_segment['FP'] = FP\n",
    "dict_segment['FN'] = FN\n",
    "dict_segment['TP'] = TP\n",
    "dict_segment['TN'] = TN\n",
    "\n",
    "dict_crit_perf[segment] = dict_segment\n",
    "\n",
    "#---------------------------------------\n",
    "# Segment 4\n",
    "#---------------------------------------\n",
    "segment = 4\n",
    "FP = 6+44\n",
    "FN = 30+6\n",
    "TP = 293\n",
    "TN = y_test.shape[0]-(FP + FN + TP)\n",
    "dict_segment = dict()\n",
    "dict_segment['FP'] = FP\n",
    "dict_segment['FN'] = FN\n",
    "dict_segment['TP'] = TP\n",
    "dict_segment['TN'] = TN\n",
    "\n",
    "dict_crit_perf[segment] = dict_segment\n",
    "\n",
    "for segment in dict_crit_perf.keys():\n",
    "    dict_segment = dict_crit_perf[segment]\n",
    "    \n",
    "    recall = dict_segment['TP']/(dict_segment['TP']+dict_segment['FN'])\n",
    "    precision = dict_segment['TP']/(dict_segment['TP']+dict_segment['FP'])\n",
    "    fmesure = (2*dict_segment['TP'])/(2*dict_segment['TP']+dict_segment['FP']+dict_segment['FN'])\n",
    "    specificity = dict_segment['TN']/(dict_segment['FP']+dict_segment['TN'])\n",
    "    \n",
    "    print(\"Segment : \"+str(segment)+\" : Recall= \"+str(recall)+\" Precision= \"+str(precision)+\" F-mesure= \"+str(fmesure)+\" Specifity= \"+str(specificity)+\"\\n\")"
   ]
  },
  {
   "cell_type": "markdown",
   "metadata": {},
   "source": [
    "## <font color='blue'>Using LogisticRegression for observations classification into segments</font>"
   ]
  },
  {
   "cell_type": "code",
   "execution_count": 70,
   "metadata": {},
   "outputs": [
    {
     "data": {
      "text/plain": [
       "dict_keys(['C', 'class_weight', 'dual', 'fit_intercept', 'intercept_scaling', 'max_iter', 'multi_class', 'n_jobs', 'penalty', 'random_state', 'solver', 'tol', 'verbose', 'warm_start'])"
      ]
     },
     "execution_count": 70,
     "metadata": {},
     "output_type": "execute_result"
    }
   ],
   "source": [
    "from sklearn.linear_model import LogisticRegression\n",
    "\n",
    "lr_model = LogisticRegression()\n",
    "\n",
    "lr_model.get_params().keys()"
   ]
  },
  {
   "cell_type": "code",
   "execution_count": 75,
   "metadata": {
    "scrolled": true
   },
   "outputs": [
    {
     "name": "stdout",
     "output_type": "stream",
     "text": [
      "[1.e-03 1.e-02 1.e-01 1.e+00 1.e+01 1.e+02 1.e+03]\n"
     ]
    },
    {
     "data": {
      "text/plain": [
       "GridSearchCV(cv=10, error_score='raise',\n",
       "       estimator=LogisticRegression(C=1.0, class_weight=None, dual=False, fit_intercept=True,\n",
       "          intercept_scaling=1, max_iter=100, multi_class='ovr', n_jobs=1,\n",
       "          penalty='l2', random_state=None, solver='liblinear', tol=0.0001,\n",
       "          verbose=0, warm_start=False),\n",
       "       fit_params=None, iid=True, n_jobs=1,\n",
       "       param_grid={'C': array([1.e-03, 1.e-02, 1.e-01, 1.e+00, 1.e+01, 1.e+02, 1.e+03]), 'penalty': ['l1'], 'dual': [False]},\n",
       "       pre_dispatch='2*n_jobs', refit=True, return_train_score='warn',\n",
       "       scoring=None, verbose=0)"
      ]
     },
     "execution_count": 75,
     "metadata": {},
     "output_type": "execute_result"
    }
   ],
   "source": [
    "import numpy as np\n",
    "\n",
    "import sklearn\n",
    "from sklearn.model_selection import cross_val_score\n",
    "from sklearn.model_selection import GridSearchCV\n",
    "from sklearn.linear_model import LogisticRegression\n",
    "import p5_util\n",
    "\n",
    "\n",
    "dict_params = {'C': np.logspace(-3, 3, 7),'penalty':['l1',], 'dual':[False, ] }\n",
    "\n",
    "print(dict_params['C'])\n",
    "\n",
    "lr_model = LogisticRegression()\n",
    "\n",
    "lr_model_gscv = GridSearchCV(lr_model, dict_params, cv=10)\n",
    "lr_model_gscv.fit(X_train, y_train)"
   ]
  },
  {
   "cell_type": "code",
   "execution_count": 76,
   "metadata": {},
   "outputs": [
    {
     "name": "stdout",
     "output_type": "stream",
     "text": [
      "{'C': 1000.0, 'dual': False, 'penalty': 'l1'}\n"
     ]
    }
   ],
   "source": [
    "print(lr_model_gscv.best_params_)"
   ]
  },
  {
   "cell_type": "code",
   "execution_count": 77,
   "metadata": {},
   "outputs": [
    {
     "name": "stdout",
     "output_type": "stream",
     "text": [
      "LogisticRegression(C=1000.0, class_weight=None, dual=False,\n",
      "          fit_intercept=True, intercept_scaling=1, max_iter=100,\n",
      "          multi_class='ovr', n_jobs=1, penalty='l1', random_state=None,\n",
      "          solver='liblinear', tol=0.0001, verbose=0, warm_start=False)\n",
      "Confusion matrix, without normalization\n",
      "[[768   1   1]\n",
      " [  7 120  33]\n",
      " [  6  48 289]]\n"
     ]
    },
    {
     "data": {
      "image/png": "[encoded data removed]",
      "text/plain": [
       "<matplotlib.figure.Figure at 0xa5ce35cc>"
      ]
     },
     "metadata": {},
     "output_type": "display_data"
    }
   ],
   "source": [
    "import matplotlib.pyplot as plt\n",
    "from sklearn import metrics\n",
    "\n",
    "lr_model = LogisticRegression(C=1000.0,penalty='l1',dual=False)\n",
    "print(lr_model)\n",
    "lr_model.fit(X_train, y_train)\n",
    "y_pred = lr_model.predict(X_test)\n",
    "\n",
    "# Compute confusion matrix\n",
    "cnf_matrix = metrics.confusion_matrix(y_test, y_pred, labels=[0,2,4])\n",
    "np.set_printoptions(precision=2)\n",
    "class_names=['Segment 0','Segment 2','Segment 4']\n",
    "\n",
    "# Plot non-normalized confusion matrix\n",
    "plt.figure()\n",
    "plot_confusion_matrix(cnf_matrix, classes=class_names,  title='Confusion matrix for LogisticRegression predictions, 60% tests')\n",
    "\n",
    "\n",
    "plt.show()"
   ]
  },
  {
   "cell_type": "code",
   "execution_count": 61,
   "metadata": {},
   "outputs": [
    {
     "name": "stdout",
     "output_type": "stream",
     "text": [
      "Segment : 0 : Recall= 0.9031055900621118 Precision= 0.9441558441558442 F-mesure= 0.9231746031746032 Specifity= 0.9081196581196581\n",
      "\n",
      "Segment : 2 : Recall= 0.5988700564971752 Precision= 0.6625 F-mesure= 0.629080118694362 Specifity= 0.9507299270072993\n",
      "\n",
      "Segment : 4 : Recall= 0.7800687285223368 Precision= 0.6618075801749271 F-mesure= 0.7160883280757098 Specifity= 0.8818737270875764\n",
      "\n"
     ]
    }
   ],
   "source": [
    "cnf_matrix.ravel()\n",
    "dict_crit_perf= dict()\n",
    "#---------------------------------------\n",
    "# Segment 0\n",
    "#---------------------------------------\n",
    "segment = 0\n",
    "FP = 19+24\n",
    "FN = 14+64\n",
    "TP = 727\n",
    "TN = y_test.shape[0]-(FP + FN + TP)\n",
    "dict_segment = dict()\n",
    "dict_segment['FP'] = FP\n",
    "dict_segment['FN'] = FN\n",
    "dict_segment['TP'] = TP\n",
    "dict_segment['TN'] = TN\n",
    "\n",
    "dict_crit_perf[0] = dict_segment\n",
    "\n",
    "#---------------------------------------\n",
    "# Segment 2\n",
    "#---------------------------------------\n",
    "segment = 2\n",
    "FP = 14 + 40\n",
    "FN = 19 + 52\n",
    "TP = 106\n",
    "TN = y_test.shape[0]-(FP + FN + TP)\n",
    "dict_segment = dict()\n",
    "dict_segment['FP'] = FP\n",
    "dict_segment['FN'] = FN\n",
    "dict_segment['TP'] = TP\n",
    "dict_segment['TN'] = TN\n",
    "\n",
    "dict_crit_perf[segment] = dict_segment\n",
    "\n",
    "#---------------------------------------\n",
    "# Segment 4\n",
    "#---------------------------------------\n",
    "segment = 4\n",
    "FP = 64+52\n",
    "FN = 24+40\n",
    "TP = 227\n",
    "TN = y_test.shape[0]-(FP + FN + TP)\n",
    "dict_segment = dict()\n",
    "dict_segment['FP'] = FP\n",
    "dict_segment['FN'] = FN\n",
    "dict_segment['TP'] = TP\n",
    "dict_segment['TN'] = TN\n",
    "\n",
    "dict_crit_perf[segment] = dict_segment\n",
    "\n",
    "for segment in dict_crit_perf.keys():\n",
    "    dict_segment = dict_crit_perf[segment]\n",
    "    \n",
    "    recall = dict_segment['TP']/(dict_segment['TP']+dict_segment['FN'])\n",
    "    precision = dict_segment['TP']/(dict_segment['TP']+dict_segment['FP'])\n",
    "    fmesure = (2*dict_segment['TP'])/(2*dict_segment['TP']+dict_segment['FP']+dict_segment['FN'])\n",
    "    specificity = dict_segment['TN']/(dict_segment['FP']+dict_segment['TN'])\n",
    "    \n",
    "    print(\"Segment : \"+str(segment)+\" : Recall= \"+str(recall)+\" Precision= \"+str(precision)+\" F-mesure= \"+str(fmesure)+\" Specifity= \"+str(specificity)+\"\\n\")"
   ]
  },
  {
   "cell_type": "markdown",
   "metadata": {},
   "source": [
    "# <font color='blus'>Clusters analysis</font>"
   ]
  },
  {
   "cell_type": "markdown",
   "metadata": {},
   "source": [
    "#### <font color='blue'>Restore ``df_invoice_line`` and ``df_customers_cluster`` dataframes</font>"
   ]
  },
  {
   "cell_type": "code",
   "execution_count": null,
   "metadata": {},
   "outputs": [],
   "source": [
    "import p5_util\n",
    "is_reloaded = True\n",
    "if is_reloaded is True:\n",
    "    df_invoice_line = p5_util.p5_reload_data_sample()\n",
    "    print(df_invoice_line.shape)  \n",
    "n_cluster=6\n",
    "\n",
    "import p5_util\n",
    "if is_reloaded is True:\n",
    "    \n",
    "    df_customers = p5_util.object_load('./data/df_customers_cluster.dump')\n",
    "    print(df_customers.shape)\n",
    "    print(\"Cluster into df_customers : \"+str('cluster'in df_customers.columns))"
   ]
  },
  {
   "cell_type": "code",
   "execution_count": null,
   "metadata": {},
   "outputs": [],
   "source": [
    "df_invoice_line.CustomerID.unique().shape"
   ]
  },
  {
   "cell_type": "code",
   "execution_count": null,
   "metadata": {
    "scrolled": false
   },
   "outputs": [],
   "source": [
    "import p3_util_plot\n",
    "p3_util_plot.printmd(\"Cluster count : \"+str(df_customers.cluster.unique().shape[0]))"
   ]
  },
  {
   "cell_type": "markdown",
   "metadata": {},
   "source": [
    "### POD activity per cluster"
   ]
  },
  {
   "cell_type": "markdown",
   "metadata": {},
   "source": [
    "``POD`` feature is added into ``df_invoice_line`` dataframe column"
   ]
  },
  {
   "cell_type": "code",
   "execution_count": null,
   "metadata": {},
   "outputs": [],
   "source": [
    "import p5_util\n",
    "if 'POD' not in df_invoice_line.columns:\n",
    "    df_invoice_line['POD'] = df_invoice_line['InvoiceDate'].apply(p5_util.p5_get_pod_from_timestamp)\n",
    "df_invoice_line.sample(1)"
   ]
  },
  {
   "cell_type": "markdown",
   "metadata": {},
   "source": [
    "``cluster`` column is addad to ``df_invoice_line``"
   ]
  },
  {
   "cell_type": "code",
   "execution_count": null,
   "metadata": {},
   "outputs": [],
   "source": [
    "if 'CustomerID' not in df_customers.columns:\n",
    "    print('cluster' in df_customers.columns)\n",
    "    df_customers.reset_index(inplace=True)\n",
    "\n",
    "\n",
    "if 'cluster' in df_invoice_line.columns:\n",
    "    del(df_invoice_line['cluster'])\n",
    "\n",
    "df_invoice_line = pd.merge(df_invoice_line, df_customers[['CustomerID','cluster']], on='CustomerID')\n",
    "df_invoice_line.sample()"
   ]
  },
  {
   "cell_type": "markdown",
   "metadata": {},
   "source": [
    "Clusters are filetered considering ``list_cluster``"
   ]
  },
  {
   "cell_type": "code",
   "execution_count": null,
   "metadata": {},
   "outputs": [],
   "source": [
    "print(list_cluster)\n",
    "df_invoice_line.cluster.unique()"
   ]
  },
  {
   "cell_type": "code",
   "execution_count": null,
   "metadata": {},
   "outputs": [],
   "source": [
    "for cluster in list_cluster:\n",
    "    print(df_invoice_line[df_invoice_line.cluster==cluster].shape)"
   ]
  },
  {
   "cell_type": "code",
   "execution_count": null,
   "metadata": {},
   "outputs": [],
   "source": [
    "import p5_util\n",
    "df_invoice_line = p5_util.df_cluster_filter(df_invoice_line, list_cluster)\n",
    "print(\"Nb customers : \" +str(df_invoice_line.CustomerID.unique().shape[0]))\n",
    "print(\"list of filtered clusters : \" +str(list_cluster))"
   ]
  },
  {
   "cell_type": "code",
   "execution_count": null,
   "metadata": {
    "scrolled": true
   },
   "outputs": [],
   "source": [
    "#df_invoice_line.groupby(['cluster','POD'])['POD'].size().plot(kind='bar',stacked=True)\n",
    "z_ = df_invoice_line.groupby(['cluster','POD'])['POD'].size().plot(kind='bar',title='POD per cluster')"
   ]
  },
  {
   "cell_type": "markdown",
   "metadata": {},
   "source": [
    "### Month activity per cluster"
   ]
  },
  {
   "cell_type": "code",
   "execution_count": null,
   "metadata": {},
   "outputs": [],
   "source": [
    "import p5_util\n",
    "if is_reloaded is True:\n",
    "    fileName = './data/df_customers_cluster.dump'\n",
    "    df_customers = p5_util.object_load(fileName)\n",
    "    print(df_customers.shape)"
   ]
  },
  {
   "cell_type": "markdown",
   "metadata": {},
   "source": [
    "``Month`` feature is added into ``df_invoice_line`` dataframe column"
   ]
  },
  {
   "cell_type": "code",
   "execution_count": null,
   "metadata": {},
   "outputs": [],
   "source": [
    "import p5_util\n",
    "if 'Month' not in df_invoice_line.columns:\n",
    "    df_invoice_line['Month'] = df_invoice_line['InvoiceDate'].apply(p5_util.p5_get_month_from_timestamp)\n",
    "df_invoice_line.sample(1)"
   ]
  },
  {
   "cell_type": "markdown",
   "metadata": {},
   "source": [
    "``cluster`` column is added to ``df_invoice_line``"
   ]
  },
  {
   "cell_type": "code",
   "execution_count": null,
   "metadata": {},
   "outputs": [],
   "source": [
    "'cluster' in df_customers.columns"
   ]
  },
  {
   "cell_type": "code",
   "execution_count": null,
   "metadata": {},
   "outputs": [],
   "source": [
    "if 'CustomerID' not in df_customers.columns:\n",
    "    print('cluster' in df_customers.columns)\n",
    "    df_customers.reset_index(inplace=True)\n",
    "\n",
    "if 'cluster' in df_customers.columns:\n",
    "    del(df_invoice_line['cluster'])\n",
    "\n",
    "df_invoice_line = pd.merge(df_invoice_line, df_customers[['CustomerID','cluster']], on='CustomerID')\n",
    "df_invoice_line.sample()"
   ]
  },
  {
   "cell_type": "code",
   "execution_count": null,
   "metadata": {},
   "outputs": [],
   "source": [
    "import matplotlib.pyplot as plt\n",
    "import matplotlib.ticker as mtick\n",
    "\n",
    "feature = 'Month'\n",
    "cluster = 0\n",
    "df = df_invoice_line[df_invoice_line.cluster==cluster].groupby([feature]).agg({'InvoiceNo': lambda x:len(x)})\n",
    "df = df.apply(lambda x: x/sum(x))\n",
    "df.rename(columns={'InvoiceNo':'%Nb Invoices'}, inplace=True)\n",
    "dict_month_name={1:'Jan',2:'Feb', 3:'Mar', 4:'Apr',5:'May', 6:'Jun', 7:'Jul',8:'Aug', 9:'Sep', 10:'Oct', 11:'Nov', 12:'Dec'}\n",
    "df.rename(dict_month_name,axis='index', inplace=True)\n",
    "\n",
    "z_ = plt.figure(figsize=(10,10))\n",
    "axes = plt.gca()\n",
    "axes.set_xlabel('Months')\n",
    "axes.yaxis.set_major_formatter(mtick.PercentFormatter())\n",
    "\n",
    "df.plot(kind='bar', ax=axes, color='green', title='Monthly activity for cluster '+str(cluster))"
   ]
  },
  {
   "cell_type": "code",
   "execution_count": null,
   "metadata": {},
   "outputs": [],
   "source": [
    "import matplotlib.pyplot as plt\n",
    "import matplotlib.ticker as mtick\n",
    "\n",
    "#z_ = plt.figure(figsize=(10,10))\n",
    "#axes = plt.gca()\n",
    "\n",
    "feature = 'Month'\n",
    "list_color=['grey','red','blue']\n",
    "cluster = 3\n",
    "i_color = 0\n",
    "for cluster in list_cluster:\n",
    "    df = df_invoice_line[df_invoice_line.cluster==cluster].groupby([feature]).agg({'InvoiceNo': lambda x:len(x)})\n",
    "    df = df.apply(lambda x: x/sum(x))\n",
    "    df.rename(columns={'InvoiceNo':'%Nb Invoices cluster '+str(cluster)}, inplace=True)\n",
    "    df.rename(dict_month_name,axis='index', inplace=True)\n",
    "\n",
    "    axes.set_xlabel('Months')\n",
    "    axes.yaxis.set_major_formatter(mtick.PercentFormatter())\n",
    "\n",
    "    #df.plot(kind='bar', ax=axes, color=list_color[i_color], title='Monthly activity for cluster '+str(cluster))\n",
    "    df.plot(kind='bar', color=list_color[i_color], title='Monthly activity for cluster '+str(cluster))\n",
    "    i_color += 1"
   ]
  },
  {
   "cell_type": "code",
   "execution_count": null,
   "metadata": {},
   "outputs": [],
   "source": [
    "df_ = df_invoice_line.groupby(['cluster','Month']).agg({'Month': lambda x:len(x)})\n",
    "df_.rename(columns={'Month':'MonthActivity'}, inplace=True)\n",
    "df_.reset_index(inplace=True)\n",
    "df_.sample()"
   ]
  },
  {
   "cell_type": "code",
   "execution_count": null,
   "metadata": {
    "scrolled": true
   },
   "outputs": [],
   "source": [
    "import matplotlib.pyplot as plt\n",
    "plt.figure(figsize=(14,14))\n",
    "ax = plt.gca()\n",
    "\n",
    "df_invoice_line.groupby(['cluster','Month'])['Month'].size().unstack().plot(kind='bar',stacked=True, ax=ax)"
   ]
  },
  {
   "cell_type": "code",
   "execution_count": null,
   "metadata": {},
   "outputs": [],
   "source": [
    "dict_month_name"
   ]
  },
  {
   "cell_type": "code",
   "execution_count": null,
   "metadata": {},
   "outputs": [],
   "source": [
    "import matplotlib.pyplot as plt\n",
    "import pandas as pd\n",
    "\n",
    "df_ = df_invoice_line.groupby(['cluster','Month']).agg({'Month': lambda x:len(x)})\n",
    "df_.rename(columns={'Month':'MonthActivity'}, inplace=True)\n",
    "df_.reset_index(inplace=True)\n",
    "df_.sample()\n",
    "\n",
    "df_.rename(columns=dict_month_name, inplace=True)\n",
    "\n",
    "print(df_.sample())\n",
    "# gca stands for 'get current axis'\n",
    "ax = plt.gca()\n",
    "for cluster in list_cluster:\n",
    "    df_.rename(dict_month_name,axis='index', inplace=True)\n",
    "    df_[df_.cluster==cluster].plot(kind='line',x='Month',y='MonthActivity',ax=ax)\n",
    "\n",
    "\n",
    "\n",
    "plt.show()"
   ]
  },
  {
   "cell_type": "code",
   "execution_count": null,
   "metadata": {},
   "outputs": [],
   "source": [
    "df_.sample()"
   ]
  },
  {
   "cell_type": "code",
   "execution_count": null,
   "metadata": {},
   "outputs": [],
   "source": [
    "import matplotlib.pyplot as plt\n",
    "import pandas as pd\n",
    "import numpy as np\n",
    "from matplotlib import cm\n",
    "\n",
    "color = cm.inferno_r(np.linspace(.2,.9, 12))\n",
    "color = np.vstack((color[:12],color[:12]))\n",
    "color = np.vstack((color[:24],color[:24]))\n",
    "color = np.vstack((color[:48],color[:24]))\n",
    "\n",
    "print(color.shape)\n",
    "plt.figure(figsize=(14,14))\n",
    "\n",
    "\n",
    "df_.query(\"cluster==0 or cluster==2 or cluster==4\")['MonthActivity'].plot(kind='bar',  color=color)\n",
    "plt.show()"
   ]
  },
  {
   "cell_type": "raw",
   "metadata": {},
   "source": [
    "df_invoice_line.groupby(['cluster'])['POD'].size().groupby(level=0)\\\n",
    ".apply(lambda x: 100 * x / x.sum()).unstack().plot(kind='bar',stacked=True)"
   ]
  },
  {
   "cell_type": "markdown",
   "metadata": {},
   "source": [
    "### POD activity by cluster"
   ]
  },
  {
   "cell_type": "markdown",
   "metadata": {},
   "source": [
    "#### POD activity distribution"
   ]
  },
  {
   "cell_type": "code",
   "execution_count": null,
   "metadata": {},
   "outputs": [],
   "source": [
    "import seaborn as sns\n",
    "\n",
    "with sns.axes_style('white'):\n",
    "    g = sns.factorplot(\"POD\", data=df_invoice_line, aspect=2, kind=\"count\", color='steelblue')"
   ]
  },
  {
   "cell_type": "markdown",
   "metadata": {},
   "source": [
    "#### POD=1 activity dispersion per cluster"
   ]
  },
  {
   "cell_type": "code",
   "execution_count": null,
   "metadata": {},
   "outputs": [],
   "source": [
    "import p5_util_plot\n",
    "#----------------------------------------------------------------------------------\n",
    "# Restrict dataframe to POD activity value 1 (in working hours)\n",
    "#----------------------------------------------------------------------------------\n",
    "df_pod_customers = df_invoice_line[df_invoice_line.POD==1]\n",
    "\n",
    "feature = 'POD'\n",
    "new_feature = 'TotalPOD'\n",
    "lambda_func = lambda x:len(x)\n",
    "plot_cond = ''\n",
    "y_label = None\n",
    "title = \"Working hours activity per customer for each cluster\"\n",
    "\n",
    "p5_util_plot.df_plot_feature_cluster(df_pod_customers, df_customers, feature,new_feature, list_cluster\\\n",
    ", lambda_func, plot_cond, y_label, title)"
   ]
  },
  {
   "cell_type": "markdown",
   "metadata": {},
   "source": [
    "#### POD=2 activity dispersion per cluster"
   ]
  },
  {
   "cell_type": "code",
   "execution_count": null,
   "metadata": {},
   "outputs": [],
   "source": [
    "import p5_util_plot\n",
    "#----------------------------------------------------------------------------------\n",
    "# Restrict dataframe to POD activity value 2 (out of working hours)\n",
    "#----------------------------------------------------------------------------------\n",
    "df_pod_customers = df_invoice_line[df_invoice_line.POD==2]\n",
    "\n",
    "feature = 'POD'\n",
    "new_feature = 'TotalPOD'\n",
    "lambda_func = lambda x:len(x)\n",
    "plot_cond = ''\n",
    "y_label = None\n",
    "title = \"Out of working hours activity per customer for each cluster\"\n",
    "\n",
    "p5_util_plot.df_plot_feature_cluster(df_pod_customers, df_customers, feature,new_feature, list_cluster\\\n",
    ", lambda_func, plot_cond, y_label, title)"
   ]
  },
  {
   "cell_type": "markdown",
   "metadata": {},
   "source": [
    "Behaviours considering POD activity are similar from one cluster to another."
   ]
  },
  {
   "cell_type": "markdown",
   "metadata": {},
   "source": [
    "### Monthly incomes by cluster"
   ]
  },
  {
   "cell_type": "markdown",
   "metadata": {},
   "source": [
    "Data sample and dataframe customer model are reloaded."
   ]
  },
  {
   "cell_type": "code",
   "execution_count": null,
   "metadata": {},
   "outputs": [],
   "source": [
    "import p5_util\n",
    "is_reloaded = True\n",
    "if is_reloaded is True:\n",
    "    df_invoice_line = p5_util.p5_reload_data_sample()\n",
    "    print(df_invoice_line.shape)  \n",
    "\n",
    "import p5_util\n",
    "if is_reloaded is True:\n",
    "    fileName = './data/df_customers_cluster.dump'\n",
    "    df_customers = p5_util.object_load(fileName)\n",
    "    print(df_customers.shape)"
   ]
  },
  {
   "cell_type": "markdown",
   "metadata": {},
   "source": [
    "Build dataframe ``df_monthy_incomes``"
   ]
  },
  {
   "cell_type": "code",
   "execution_count": null,
   "metadata": {
    "scrolled": true
   },
   "outputs": [],
   "source": [
    "df_monthly_incomes = p5_util.df_monthly_incomes_build(df_invoice_line, df_customers, dict_month_name)"
   ]
  },
  {
   "cell_type": "markdown",
   "metadata": {},
   "source": [
    "``cluster`` column is added to monthy incomes"
   ]
  },
  {
   "cell_type": "code",
   "execution_count": null,
   "metadata": {},
   "outputs": [],
   "source": [
    "df_monthly_incomes = p5_util.df_add_cluster(df_monthly_incomes, df_customers.cluster)"
   ]
  },
  {
   "cell_type": "code",
   "execution_count": null,
   "metadata": {},
   "outputs": [],
   "source": [
    "if 'CustomerID' in df_customers.columns:\n",
    "    df_customers.index = df_customers.CustomerID\n",
    "    del(df_customers['CustomerID'])"
   ]
  },
  {
   "cell_type": "markdown",
   "metadata": {},
   "source": [
    "#### Display effective for each cluster"
   ]
  },
  {
   "cell_type": "code",
   "execution_count": null,
   "metadata": {},
   "outputs": [],
   "source": [
    "# Effective per cluser\n",
    "df = df_monthly_incomes.groupby('cluster').agg({'cluster':lambda x:len(x)})\n",
    "df['Effective'] = df.cluster\n",
    "del(df['cluster'])\n",
    "print(df)"
   ]
  },
  {
   "cell_type": "markdown",
   "metadata": {},
   "source": [
    "### Incomes"
   ]
  },
  {
   "cell_type": "markdown",
   "metadata": {},
   "source": [
    "#### Plot of monthly incomes considering clusters"
   ]
  },
  {
   "cell_type": "code",
   "execution_count": null,
   "metadata": {},
   "outputs": [],
   "source": [
    "import p5_util_plot\n",
    "p5_util_plot.df_monthly_incomes_plot(df_monthly_incomes, dict_month_name, list_cluster)"
   ]
  },
  {
   "cell_type": "markdown",
   "metadata": {},
   "source": [
    "Monthly incomes shows differences between clusters : \n",
    "\n",
    "* Cluster 0 generates the less incomes\n",
    "* Cluster 2 generates most incomes\n",
    "* Cluster 4 show incomes between cluster 0 and 2"
   ]
  },
  {
   "cell_type": "markdown",
   "metadata": {},
   "source": [
    "#### Plot monthly incomes dispersion for each cluster"
   ]
  },
  {
   "cell_type": "code",
   "execution_count": null,
   "metadata": {},
   "outputs": [],
   "source": [
    "if 'CustomerID' not in df_customers.columns:\n",
    "    df_customers['CustomerID'] = df_customers.index"
   ]
  },
  {
   "cell_type": "markdown",
   "metadata": {},
   "source": [
    "**Plot distribution of incomes per customer for each cluster.**\n",
    "\n",
    "Dataframe ``df_incomes_cluster`` is  a table containing total incomes for each of the customers. \n",
    "\n",
    "Each customer is assigned a cluster."
   ]
  },
  {
   "cell_type": "code",
   "execution_count": null,
   "metadata": {},
   "outputs": [],
   "source": [
    "import p5_util_plot\n",
    "\n",
    "df_incomes_cluster = df_invoice_line.groupby(['CustomerID']).agg({'Total': lambda x:sum(x)})\n",
    "df_incomes_cluster.rename(columns={'Total':'Incomes'}, inplace=True)\n",
    "df_incomes_cluster.reset_index(inplace=True)\n",
    "\n",
    "\n",
    "feature = 'Incomes'\n",
    "new_feature = 'TotalIncomes'\n",
    "lambda_func = lambda x:sum(x)\n",
    "plot_cond = ''\n",
    "y_label = None\n",
    "title = \"Incomes per customer for each cluster\"\n",
    "\n",
    "p5_util_plot.df_plot_feature_cluster(df_incomes_cluster, df_customers, feature,new_feature, list_cluster\\\n",
    ", lambda_func, plot_cond, y_label, title)"
   ]
  },
  {
   "cell_type": "code",
   "execution_count": null,
   "metadata": {},
   "outputs": [],
   "source": [
    "plot_cond = 'TotalIncomes<=5000'\n",
    "p5_util_plot.df_plot_feature_cluster(df_incomes_cluster, df_customers, feature,new_feature, list_cluster\\\n",
    ", lambda_func, plot_cond, y_label, title)"
   ]
  },
  {
   "cell_type": "markdown",
   "metadata": {},
   "source": [
    "**Creates generic dataframe ``df_cluster`` from ``df_invoice_line``.**\n",
    "\n",
    "``df_invoice_line`` dataframe is the sampled dataset.\n",
    "\n",
    "``df_cluster`` dataframe is issued from ``df_invoice_line`` dataframe. It compounds information over numbers of invoices and number of invoices lines per invoice.\n",
    "\n",
    "``df_cluster`` is used to plot distributions of invoices per customer and invoice lines per customer, such, for each cluster.\n"
   ]
  },
  {
   "cell_type": "code",
   "execution_count": null,
   "metadata": {},
   "outputs": [],
   "source": [
    "import p3_util_plot\n",
    "\n",
    "df_cluster = df_invoice_line.groupby(['CustomerID','InvoiceNo']).agg({'InvoiceNo': lambda x:len(x)})\n",
    "df_cluster.rename(columns={'InvoiceNo':'InvoiceLineCount'}, inplace=True)\n",
    "df_cluster.reset_index(inplace=True)"
   ]
  },
  {
   "cell_type": "markdown",
   "metadata": {},
   "source": [
    "**Plot distribution of invoices count per customer for each cluster.**"
   ]
  },
  {
   "cell_type": "code",
   "execution_count": null,
   "metadata": {},
   "outputs": [],
   "source": [
    "import p5_util_plot\n",
    "\n",
    "feature = 'InvoiceNo'\n",
    "new_feature = 'InvoiceCount'\n",
    "lambda_func = lambda x:len(x)\n",
    "plot_cond = ''\n",
    "title = \"Invoice count per customer\"\n",
    "y_label = None\n",
    "\n",
    "#df_feature_cluster = df.groupby(['CustomerID']).agg({feature: lambda_func})\n",
    "if True:\n",
    "    p5_util_plot.df_plot_feature_cluster(df_cluster, df_customers, feature,new_feature, list_cluster\\\n",
    "    , lambda_func, plot_cond, y_label, title)"
   ]
  },
  {
   "cell_type": "code",
   "execution_count": null,
   "metadata": {},
   "outputs": [],
   "source": [
    "plot_cond = 'InvoiceCount<20'\n",
    "p5_util_plot.df_plot_feature_cluster(df_cluster, df_customers, feature,new_feature, list_cluster\\\n",
    ", lambda_func, plot_cond, y_label, title)"
   ]
  },
  {
   "cell_type": "markdown",
   "metadata": {},
   "source": [
    "**Plot distribution of invoice lines count per customer for each cluster.**"
   ]
  },
  {
   "cell_type": "code",
   "execution_count": null,
   "metadata": {},
   "outputs": [],
   "source": [
    "import p5_util_plot\n",
    "\n",
    "feature = 'InvoiceLineCount'\n",
    "new_feature = 'InvoiceLineCount'\n",
    "lambda_func = lambda x:sum(x)\n",
    "plot_cond = ''\n",
    "y_label = \"Invoice lines count per customer\"\n",
    "title = y_label\n",
    "\n",
    "p5_util_plot.df_plot_feature_cluster(df_cluster, df_customers, feature,new_feature, list_cluster\\\n",
    ", lambda_func, plot_cond, y_label, title)"
   ]
  },
  {
   "cell_type": "code",
   "execution_count": null,
   "metadata": {},
   "outputs": [],
   "source": [
    "plot_cond = 'InvoiceLineCount<400'\n",
    "p5_util_plot.df_plot_feature_cluster(df_cluster, df_customers, feature,new_feature, list_cluster\\\n",
    ", lambda_func, plot_cond, y_label, title)"
   ]
  },
  {
   "cell_type": "markdown",
   "metadata": {},
   "source": [
    "**Plot distribution of quantities of items per customer for each cluster.**"
   ]
  },
  {
   "cell_type": "code",
   "execution_count": null,
   "metadata": {},
   "outputs": [],
   "source": [
    "import p5_util_plot\n",
    "\n",
    "feature = 'Quantity'\n",
    "new_feature = 'ItemQuantities'\n",
    "lambda_func = lambda x:sum(x)\n",
    "plot_cond = 'ItemQuantities<2500'\n",
    "title = \"Items quantities per customer\"\n",
    "y_label = None\n",
    "\n",
    "p5_util_plot.df_plot_feature_cluster(df_invoice_line, df_customers, feature,new_feature, list_cluster\\\n",
    ", lambda_func, plot_cond, y_label, title)"
   ]
  },
  {
   "cell_type": "code",
   "execution_count": null,
   "metadata": {},
   "outputs": [],
   "source": [
    "plot_cond = ''\n",
    "p5_util_plot.df_plot_feature_cluster(df_invoice_line, df_customers, feature,new_feature, list_cluster\\\n",
    ", lambda_func, plot_cond, y_label, title)"
   ]
  },
  {
   "cell_type": "markdown",
   "metadata": {},
   "source": [
    "**Plot distribution of mean of items unit price per customer for each cluster**."
   ]
  },
  {
   "cell_type": "code",
   "execution_count": null,
   "metadata": {},
   "outputs": [],
   "source": [
    "import p5_util_plot\n",
    "feature = 'UnitPrice'\n",
    "new_feature = 'UnitPriceMean'\n",
    "lambda_func = lambda x:sum(x)/len(x)\n",
    "plot_cond = 'UnitPriceMean<10'\n",
    "title = \"Mean Unit Price per customer\"\n",
    "y_label = None\n",
    "p5_util_plot.df_plot_feature_cluster(df_invoice_line, df_customers, feature,new_feature, list_cluster\\\n",
    ", lambda_func, plot_cond, y_label, title)"
   ]
  },
  {
   "cell_type": "markdown",
   "metadata": {},
   "source": [
    "#### Total incomes per customer considering clusters"
   ]
  },
  {
   "cell_type": "markdown",
   "metadata": {},
   "source": [
    "Sub-total is computed per line of invoice."
   ]
  },
  {
   "cell_type": "code",
   "execution_count": null,
   "metadata": {},
   "outputs": [],
   "source": [
    "import seaborn as sns\n",
    "import pandas as pd\n",
    "\n",
    "import p5_util\n",
    "\n",
    "df_invoice_line['SubTotal'] = df_invoice_line['UnitPrice'] * df_invoice_line['Quantity']\n",
    "\n",
    "#----------------------------------------------------------------------------\n",
    "# Total incomes per customer is computed grouping customers and making sum \n",
    "# of SubTotal column.\n",
    "#----------------------------------------------------------------------------\n",
    "df_total_cluster = df_invoice_line.groupby(['CustomerID']).agg({'SubTotal': lambda x:sum(x)})\n",
    "\n",
    "df_total_cluster.rename(columns={'SubTotal':'Total'}, inplace=True)\n",
    "df_total_cluster.reset_index(inplace=True)\n",
    "\n",
    "\n",
    "df_total_cluster = p5_util.df_cluster_list_add(df_total_cluster, df_customers, list_cluster)\n",
    "print(df_total_cluster.cluster.unique())\n",
    "\n",
    "\n",
    "axes = sns.violinplot(y='Total', x='cluster', \n",
    "                 data=df_total_cluster, \n",
    "                 width=0.5,\n",
    "                 palette=\"colorblind\")\n",
    "axes.set_xlabel('Clusters')\n",
    "axes.set_ylabel('Total per customer')\n",
    "plt.grid(True)"
   ]
  },
  {
   "cell_type": "code",
   "execution_count": null,
   "metadata": {},
   "outputs": [],
   "source": []
  },
  {
   "cell_type": "markdown",
   "metadata": {},
   "source": [
    "#### Differentiation over StockCode"
   ]
  },
  {
   "cell_type": "code",
   "execution_count": null,
   "metadata": {},
   "outputs": [],
   "source": [
    "import pandas as pd\n",
    "\n",
    "df_invoice_line.StockCode.unique().shape\n",
    "if 'CustomerID' not in df_invoice_line.columns:\n",
    "    df_customers.reset_index(inplace=True)\n",
    "\n",
    "if 'cluster' not in  df_invoice_line.columns:   \n",
    "    df_invoice_line = pd.merge(df_invoice_line, df_customers[['CustomerID','cluster']], on='CustomerID')\n",
    "\n",
    "df_invoice_line.columns"
   ]
  },
  {
   "cell_type": "code",
   "execution_count": null,
   "metadata": {},
   "outputs": [],
   "source": [
    "import p3_util_plot\n",
    "print(list_cluster)\n",
    "for cluster in list_cluster:\n",
    "    p3_util_plot.printmd(\"Stock code count for cluster \"+str(cluster)+\" = \"+str(  df_invoice_line.query(\"cluster==\"+str(cluster) ).StockCode.unique().shape[0]))\n",
    "\n",
    "p3_util_plot.printmd(\"Stock code count for whole sampling : \"+str(df_invoice_line.StockCode.unique().shape[0]))\n",
    "    "
   ]
  },
  {
   "cell_type": "markdown",
   "metadata": {},
   "source": [
    "### <font color='blue'> RFM distribution from inside clusters </font>"
   ]
  },
  {
   "cell_type": "markdown",
   "metadata": {},
   "source": [
    "#### Loading RFM dataframe per customer"
   ]
  },
  {
   "cell_type": "code",
   "execution_count": null,
   "metadata": {},
   "outputs": [],
   "source": [
    "import pandas as pd\n",
    "import p5_util\n",
    "\n",
    "fileName = './data/df_RFM.dump'\n",
    "df_RFM = p5_util.object_load(fileName)\n",
    "\n",
    "#print(df_RFM.shape)\n",
    "df_RFM.index = df_RFM.CustomerID\n",
    "del(df_RFM['CustomerID'])\n",
    "#print(df_RFM.sample(1))\n",
    "\n",
    "fileName = './data/df_customers.dump'\n",
    "df_customers = p5_util.object_load(fileName)\n",
    "\n",
    "df_customers = p5_util.df_add_cluster(df_customers, pred_gmm)\n",
    "\n",
    "df_RFM = pd.concat([df_RFM,df_customers['cluster']],axis=1, join='inner')\n",
    "\n"
   ]
  },
  {
   "cell_type": "markdown",
   "metadata": {},
   "source": [
    "#### Build arrays of indexes for each cluster"
   ]
  },
  {
   "cell_type": "code",
   "execution_count": null,
   "metadata": {},
   "outputs": [],
   "source": [
    "dict_cluster_index = dict()\n",
    "for i_cluster in range(0,n_cluster,1):\n",
    "    dict_cluster_index[i_cluster] = df_RFM[df_RFM.cluster==i_cluster].index"
   ]
  },
  {
   "cell_type": "markdown",
   "metadata": {},
   "source": [
    "#### Plot RFM distributions per cluster"
   ]
  },
  {
   "cell_type": "code",
   "execution_count": null,
   "metadata": {
    "scrolled": true
   },
   "outputs": [],
   "source": [
    "df_RFM.columns, df_customers.shape"
   ]
  },
  {
   "cell_type": "code",
   "execution_count": null,
   "metadata": {},
   "outputs": [],
   "source": [
    "df_RFM.columns"
   ]
  },
  {
   "cell_type": "code",
   "execution_count": null,
   "metadata": {},
   "outputs": [],
   "source": [
    "list_cluster\n",
    "#n_cluster"
   ]
  },
  {
   "cell_type": "code",
   "execution_count": null,
   "metadata": {
    "scrolled": true
   },
   "outputs": [],
   "source": [
    "plt.figure(figsize=(20,20))  # create a plot figure\n",
    "\n",
    "dict_df = dict()\n",
    "ylabel = 'Frequence'\n",
    "xlabel = \"RFM categories\"\n",
    "i_panel = 1\n",
    "for cluster, arr_cluster_index in dict_cluster_index.items():\n",
    "    if cluster in list_cluster:\n",
    "        title = \"Cluster \"+str(cluster)+\" : RFM\"\n",
    "        df = df_RFM.loc[arr_cluster_index,:]\n",
    "        plt.subplot(3, 1, i_panel) # (rows, columns, panel number)\n",
    "        i_panel += 1\n",
    "        plt.hist(df.RFM, color='steelblue', histtype='stepfilled', label='Cluster '+str(cluster), bins=100)\n",
    "        plt.legend()\n",
    "    #p3_util_plot.ser_hist(df.RFM,title,xlabel, ylabel,param_bins=100, param_font_size=12, \\\n",
    "    #         param_rotation=90,figsize=(10,10))\n"
   ]
  },
  {
   "cell_type": "markdown",
   "metadata": {},
   "source": [
    "# <font color='blues'>Ploting data points</font>"
   ]
  },
  {
   "cell_type": "markdown",
   "metadata": {},
   "source": [
    "## <font color='blue'>Dimension shift with linear PCA</font>"
   ]
  },
  {
   "cell_type": "code",
   "execution_count": null,
   "metadata": {},
   "outputs": [],
   "source": [
    "import p5_util\n",
    "is_reloaded = True\n",
    "if is_reloaded is True:\n",
    "    fileName = './data/df_customers_cluster.dump'\n",
    "    df_customers = p5_util.object_load(fileName)\n",
    "    print(df_customers.shape)"
   ]
  },
  {
   "cell_type": "code",
   "execution_count": null,
   "metadata": {},
   "outputs": [],
   "source": [
    "df_customers.columns"
   ]
  },
  {
   "cell_type": "code",
   "execution_count": null,
   "metadata": {},
   "outputs": [],
   "source": [
    "import p5_util\n",
    "list_col = [col for col in df_customers.columns if col not in ['cluster']]\n",
    "df_customers = p5_util.df_cluster_filter(df_customers, list_cluster)"
   ]
  },
  {
   "cell_type": "code",
   "execution_count": null,
   "metadata": {},
   "outputs": [],
   "source": [
    "import p3_util_plot\n",
    "is_pca_plot = True\n",
    "if is_pca_plot is True:\n",
    "    z__ = p3_util_plot.df_pca_all_plot(df_customers[list_col], plot=True)"
   ]
  },
  {
   "cell_type": "code",
   "execution_count": null,
   "metadata": {},
   "outputs": [],
   "source": [
    "import p5_util\n",
    "\n",
    "print(df_customers[list_col].shape)\n",
    "n_dim = 2\n",
    "root_name = 'pca_'\n",
    "df_customers_pca, pca = p5_util.df_pca_reduce(df_customers[list_col]\\\n",
    "                                            , n_dim, root_name, p_is_scale=False)\n",
    "print(df_customers_pca.shape)\n"
   ]
  },
  {
   "cell_type": "code",
   "execution_count": null,
   "metadata": {},
   "outputs": [],
   "source": [
    "\n",
    "#len(list_cluster)"
   ]
  },
  {
   "cell_type": "code",
   "execution_count": null,
   "metadata": {},
   "outputs": [],
   "source": [
    "import p3_util_plot\n",
    "cluster_labels = df_customers.cluster.values\n",
    "\n",
    "nclusters = len(df_customers.cluster.unique())\n",
    "title = \"Reduced with PCA\"\n",
    "X_plot  = df_customers_pca.values\n",
    "p3_util_plot.clustering_plot(X_plot, cluster_labels, nclusters, title=None, X_center=None)"
   ]
  },
  {
   "cell_type": "markdown",
   "metadata": {},
   "source": [
    "## <font color='blue'>Dimension shift with t-SNE</font>"
   ]
  },
  {
   "cell_type": "markdown",
   "metadata": {},
   "source": [
    "tSNE allows to build separate groups of data points based on probability points of same group \n",
    "belongs to same neighborhood.\n",
    "\n",
    "This is also an easy way to apply clustering based on this dimension reduction."
   ]
  },
  {
   "cell_type": "code",
   "execution_count": null,
   "metadata": {},
   "outputs": [],
   "source": [
    "import p5_util\n",
    "is_reloaded = True\n",
    "if is_reloaded is True:\n",
    "    fileName = './data/df_customers_cluster.dump'\n",
    "    df_customers = p5_util.object_load(fileName)\n",
    "    print(df_customers.shape)"
   ]
  },
  {
   "cell_type": "markdown",
   "metadata": {},
   "source": [
    "Only points with cluster value in ``list_cluster`` are extracted from ``df_customers``"
   ]
  },
  {
   "cell_type": "code",
   "execution_count": null,
   "metadata": {},
   "outputs": [],
   "source": [
    "df_customers = p5_util.df_customers_cluster_filter(df_customers, list_cluster)"
   ]
  },
  {
   "cell_type": "markdown",
   "metadata": {},
   "source": [
    "Data values are extracted from clusterised dataframe."
   ]
  },
  {
   "cell_type": "code",
   "execution_count": null,
   "metadata": {},
   "outputs": [],
   "source": [
    "list_col_keep = [col for col in df_customers.columns if col not in ['cluster']]\n",
    "df_customers[list_col_keep].columns\n",
    "X_std = df_customers[list_col_keep].values"
   ]
  },
  {
   "cell_type": "markdown",
   "metadata": {},
   "source": [
    "T-SNE is applied for a range of perplexities values."
   ]
  },
  {
   "cell_type": "code",
   "execution_count": null,
   "metadata": {},
   "outputs": [],
   "source": [
    "import p5_util\n",
    "my_list_tsne_perplexity=[var for var in range(5,55,5)]\n",
    "dict_tsne_result = p5_util.tsne_2D_process_perplexity(X_std, tsne_iter=1000, list_tsne_perplexity=my_list_tsne_perplexity)"
   ]
  },
  {
   "cell_type": "code",
   "execution_count": null,
   "metadata": {},
   "outputs": [],
   "source": [
    "import p5_util_plot\n",
    "nb_col = 4     \n",
    "p5_util_plot.plot_2D_dict_tsne_result(dict_tsne_result, nb_col)"
   ]
  },
  {
   "cell_type": "code",
   "execution_count": null,
   "metadata": {},
   "outputs": [],
   "source": [
    "df_customers.cluster.unique()"
   ]
  },
  {
   "cell_type": "code",
   "execution_count": null,
   "metadata": {},
   "outputs": [],
   "source": [
    "import p3_util_plot\n",
    "#def this_clustering_plot():\n",
    "cluster_labels = df_customers.cluster.values\n",
    "nclusters = len(list_cluster)\n",
    "best_perplexity = 45\n",
    "title = \"Perplexity = \"+str(best_perplexity)\n",
    "X_plot  = dict_tsne_result[best_perplexity]\n",
    "p3_util_plot.clustering_plot(X_plot, cluster_labels, nclusters, title=None, X_center=None)"
   ]
  },
  {
   "cell_type": "markdown",
   "metadata": {},
   "source": [
    "#### A sample of data values are extracted from clusterised dataframe."
   ]
  },
  {
   "cell_type": "code",
   "execution_count": null,
   "metadata": {},
   "outputs": [],
   "source": [
    "sample_ratio = int(df_customers[list_col_keep].shape[0]*0.2)\n",
    "sample_ratio\n",
    "df_customers_sample = df_customers[list_col_keep].sample(sample_ratio)\n",
    "X_std = df_customers_sample.values"
   ]
  },
  {
   "cell_type": "markdown",
   "metadata": {},
   "source": [
    "T-SNE is applied for a range of perplexities values."
   ]
  },
  {
   "cell_type": "code",
   "execution_count": null,
   "metadata": {},
   "outputs": [],
   "source": [
    "import p5_util\n",
    "my_list_tsne_perplexity=[var for var in range(5,55,5)]\n",
    "dict_tsne_result = p5_util.tsne_2D_process_perplexity(X_std, tsne_iter=3000, list_tsne_perplexity=my_list_tsne_perplexity)"
   ]
  },
  {
   "cell_type": "code",
   "execution_count": null,
   "metadata": {},
   "outputs": [],
   "source": [
    "import p5_util_plot\n",
    "nb_col = 4     \n",
    "p5_util_plot.plot_2D_dict_tsne_result(dict_tsne_result, nb_col)"
   ]
  },
  {
   "cell_type": "code",
   "execution_count": null,
   "metadata": {},
   "outputs": [],
   "source": [
    "import p3_util_plot\n",
    "#def this_clustering_plot():\n",
    "cluster_labels = df_customers.cluster.values\n",
    "nclusters = len(list_cluster)\n",
    "best_perplexity = 30\n",
    "title = \"Perplexity = \"+str(best_perplexity)\n",
    "X_plot  = dict_tsne_result[best_perplexity]\n",
    "p3_util_plot.clustering_plot(X_plot, cluster_labels, nclusters, title=None, X_center=None)\n",
    "\n",
    "best_perplexity = 50\n",
    "title = \"Perplexity = \"+str(best_perplexity)\n",
    "X_plot  = dict_tsne_result[best_perplexity]\n",
    "p3_util_plot.clustering_plot(X_plot, cluster_labels, nclusters, title=None, X_center=None)"
   ]
  },
  {
   "cell_type": "code",
   "execution_count": null,
   "metadata": {},
   "outputs": [],
   "source": []
  }
 ],
 "metadata": {
  "kernelspec": {
   "display_name": "Python 3",
   "language": "python",
   "name": "python3"
  },
  "language_info": {
   "codemirror_mode": {
    "name": "ipython",
    "version": 3
   },
   "file_extension": ".py",
   "mimetype": "text/x-python",
   "name": "python",
   "nbconvert_exporter": "python",
   "pygments_lexer": "ipython3",
   "version": "3.6.4"
  }
 },
 "nbformat": 4,
 "nbformat_minor": 2
}
