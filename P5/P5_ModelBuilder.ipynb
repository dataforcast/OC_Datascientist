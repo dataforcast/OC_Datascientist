{
 "cells": [
  {
   "cell_type": "markdown",
   "metadata": {},
   "source": [
    "<!--NOTEBOOK_INFORMATION-->\n",
    "<img align=\"left\" style=\"padding-right:10px;\" src=\"./figures/LogoOpenclassrooms.png\">\n",
    "<font size=\"4\">\n",
    "<p>\n",
    "Cette étude a été réalisée dans le cadre du 5eme projet de ma formation Datascientist dispensée en MOOC par \n",
    "**<font color='blus'>Openclassrooms / écoles Centrale-Supélec</font>**.\n",
    "</p>    \n",
    "\n",
    "<p>\n",
    "Ce notebook présente un générateur de modèle de segmentation d'une base de clients. Le générateur est implémenté dans le fichier <font color='blue'>P5_ModelBuilder.py</font>.\n",
    "Ce dernier construit l'objet de la classe <font color='blue'>P5_SegmentClassifier.py</font>, objet \n",
    "    implémentant un modèle de prédiction par un algorithme de M.L. de l'appartenance d'un client à un segment.\n",
    "</p>\n",
    "<p>\n",
    "Les résultats des analyses des algorithmes de M.L supervisé et non superisé issus du notebook <font color='blue'>P5_2_AllFeature.ipynb</font> sont utilisés pour l'optimisation des algorithmes.\n",
    "</p>\n",
    "\n",
    "<p>\n",
    "Le modèle est basé sur les données fournies par le site :\n",
    "</p>\n",
    "<p>\n",
    "https://archive.ics.uci.edu/ml/datasets/Online+Retail\n",
    "</p>\n",
    "<p>\n",
    "</p>\n",
    "</font>"
   ]
  },
  {
   "cell_type": "code",
   "execution_count": 48,
   "metadata": {},
   "outputs": [],
   "source": [
    "import p3_util_plot\n",
    "\n",
    "import P5_ModelBuilder\n",
    "from P5_ModelBuilder import *\n",
    "from P5_SegmentClassifier import *\n",
    "\n",
    "#---------------------------------------------\n",
    "# Reload from dumped file cleaned dataframe \n",
    "# If flag is False, then data is read fro CSV \n",
    "# file, cleaning process is applied and result \n",
    "# dataframe is dumped into a file. \n",
    "#---------------------------------------------\n",
    "is_data_reloaded = True\n",
    "\n",
    "#---------------------------------------------\n",
    "# Reload sampling dumped file that has been \n",
    "# used for exloratory step into notebooks\n",
    "# for features study.\n",
    "#---------------------------------------------\n",
    "is_sampling_load = True\n",
    "\n",
    "\n",
    "#---------------------------------------------\n",
    "# oP5_SegmentClassifier is activated for unit\n",
    "# tests.\n",
    "#---------------------------------------------\n",
    "is_oP5_SegmentClassifier = False\n",
    "\n",
    "\n",
    "#---------------------------------------------\n",
    "# Unit tests\n",
    "#---------------------------------------------\n",
    "is_data_transform = False\n",
    "is_data_transform_rfm = False\n",
    "is_data_transform_timeFeature = False\n",
    "is_data_transform_nlp = False\n",
    "is_df_customers_build = False\n",
    "\n",
    "#---------------------------------------------\n",
    "# Building classifier\n",
    "#---------------------------------------------\n",
    "is_oP5_SegmentClassifier_built = True\n",
    "\n",
    "if is_oP5_SegmentClassifier_built is True:\n",
    "    is_data_transform = False\n",
    "    is_data_transform_rfm = False\n",
    "    is_data_transform_timeFeature = False\n",
    "    is_data_transform_nlp = False\n",
    "    is_df_customers_build = False\n",
    "else:\n",
    "    pass\n",
    "\n",
    "is_model_print = False"
   ]
  },
  {
   "cell_type": "code",
   "execution_count": 49,
   "metadata": {},
   "outputs": [
    {
     "name": "stdout",
     "output_type": "stream",
     "text": [
      "Help on module P5_ModelBuilder:\n",
      "\n",
      "NAME\n",
      "    P5_ModelBuilder\n",
      "\n",
      "CLASSES\n",
      "    builtins.object\n",
      "        P5_ModelBuilder\n",
      "    \n",
      "    class P5_ModelBuilder(builtins.object)\n",
      "     |  This class aims to build a model for customer segmentation as per \n",
      "     |  P5 project description from Openclassrooms course of Data-Scientist training.\n",
      "     |   \n",
      "     |  Services provided by this class are :\n",
      "     |     -> It acquires data from CSV file.\n",
      "     |     -> It proceeds to data preparation : data cleaning and scaling.\n",
      "     |     -> It builds data to be feed into a computable model.\n",
      "     |     -> It builds computational models \n",
      "     |     -> It builds a deployable component, oP5_SegmentClassifier, \n",
      "     |     in charge of customer segmentation. Such class aims to be deployed for \n",
      "     |     production.\n",
      "     |     \n",
      "     |  Instructions flow :\n",
      "     |  -------------------\n",
      "     |     +-->__init__()\n",
      "     |     |\n",
      "     |     +-->data_load(fileName)\n",
      "     |     |\n",
      "     |     +-->data_clean(fileName)\n",
      "     |     |\n",
      "     |     +-->data_sampling(fileName)\n",
      "     |     |\n",
      "     |     +-->data_transform()\n",
      "     |     |   |\n",
      "     |     |   +-->data_transform_rfm()\n",
      "     |     |   |  |\n",
      "     |     |   |  +-->p5_util.p5_df_rfm_build()\n",
      "     |     |   |  |\n",
      "     |     |   |  +-->p5_util.df_rfm_one_hot_encode()\n",
      "     |     |   |  |\n",
      "     |     |   |  +-->p5_util.df_rename_columns()\n",
      "     |     |   |\n",
      "     |     |   +-->data_transform_timeFeature()\n",
      "     |     |   |  |\n",
      "     |     |   |  +-->p5_util.time_list_feature_build()\n",
      "     |     |   |  |   |\n",
      "     |     |   |  |   +-->p5_util.time_feature_encoded_new()\n",
      "     |     |   |  |\n",
      "     |     |   |  +-->p5_util.time_list_feature_restore()\n",
      "     |     |   |  |\n",
      "     |     |   |  +-->p5_util.df_pca_reduce()\n",
      "     |     |   |\n",
      "     |     |   +-->data_transform_nlp()\n",
      "     |     |   |  |\n",
      "     |     |   |  +-->p5_util.nlp_process()\n",
      "     |     |   |  |\n",
      "     |     |   |  +-->p5_util.df_rename_columns()\n",
      "     |     |   |  |\n",
      "     |     |   |  +-->df_nlp_sum_per_customer()\n",
      "     |     |   |  |\n",
      "     |     |   |  +-->p5_util.df_pca_reduce()\n",
      "     |     |\n",
      "     |     +-->clusters_build()\n",
      "     |     |   |\n",
      "     |     |   +-->df_customers_fileRead()\n",
      "     |     |\n",
      "     |     +-->classifier_build()\n",
      "     |     |\n",
      "     |     +-->model_dump()\n",
      "     |  \n",
      "     |  Methods defined here:\n",
      "     |  \n",
      "     |  __init__(self, path_to_data=None, n_clusters=6)\n",
      "     |      Initialize self.  See help(type(self)) for accurate signature.\n",
      "     |  \n",
      "     |  classifier_build(self)\n",
      "     |      #----------------------------------------------------------------------------\n",
      "     |      #\n",
      "     |      #----------------------------------------------------------------------------\n",
      "     |  \n",
      "     |  clusters_build(self)\n",
      "     |      Builds clusters from transformed data.\n",
      "     |      Input : none\n",
      "     |      Output : none\n",
      "     |  \n",
      "     |  copy(self, other_object)\n",
      "     |      Copy my_object data into self\n",
      "     |  \n",
      "     |  data_clean(self)\n",
      "     |      Cleand data in a such way : \n",
      "     |      * Rows with CustomerID values <=0 are dropped.\n",
      "     |      * Rows with Quantity values <=0 are dropped.\n",
      "     |      * Rows with UnitPrice values <=0 are dropped.\n",
      "     |      * All countries except UK are filtered\n",
      "     |      Input : none\n",
      "     |      Output : \n",
      "     |         * dataframe issued from this process is backup into athe dumped file :\n",
      "     |         ./data/df_invoice_line_clean\n",
      "     |  \n",
      "     |  data_dump(self, file_name)\n",
      "     |      Dump data from df_invoice into a file which name is given as parameter. \n",
      "     |      Input : \n",
      "     |         * file_name : name of the file that handles dumped data\n",
      "     |      output : none\n",
      "     |  \n",
      "     |  data_load(self, file_name)\n",
      "     |      Load df_invoice data from dumped file which name is given as parameter. \n",
      "     |      Input : \n",
      "     |         * file_name : name of the file that handles dumped data\n",
      "     |      output : none\n",
      "     |  \n",
      "     |  data_read(self)\n",
      "     |      #----------------------------------------------------------------------------\n",
      "     |      #\n",
      "     |      #----------------------------------------------------------------------------\n",
      "     |  \n",
      "     |  data_sampling(self, ratio=0.1, select='random')\n",
      "     |      Build a dataframe sample from the original dataframe.\n",
      "     |      \n",
      "     |      Sampling operation applies on CustomerID values.\n",
      "     |      Original dataframe is backup.\n",
      "     |      Out of sample data is dumped into a separate file. Data issued from this\n",
      "     |      dataframe will be used into validation process.\n",
      "     |      \n",
      "     |      All operations for building data-model will apply on this sample.\n",
      "     |      \n",
      "     |      Input : \n",
      "     |         * ratio : percent of rows in the sampled dataframe\n",
      "     |         * select : mode of selection for sampling.\n",
      "     |         \n",
      "     |      Output : none\n",
      "     |  \n",
      "     |  data_sampling_deprecated(self, ratio=0.1, select='random')\n",
      "     |      Get a sample from the original dataframe.\n",
      "     |      Sampling operation applies on CustomerID values.\n",
      "     |      Original dataframe is backup.\n",
      "     |      All operations for building data-model will apply on this sample.\n",
      "     |      \n",
      "     |      Input : \n",
      "     |         * ratio : percent of rows in the sampled dataframe\n",
      "     |         * select : mode of selection for sampling.\n",
      "     |         \n",
      "     |      Output : none\n",
      "     |  \n",
      "     |  data_sampling_load(self, mode='random')\n",
      "     |      Load sampled dataframe dumped into a file.\n",
      "     |      Input : \n",
      "     |         * ratio : percent of rows in the sampled dataframe\n",
      "     |         * select : mode of selection for sampling.\n",
      "     |         \n",
      "     |      Output : none\n",
      "     |  \n",
      "     |  data_transform(self)\n",
      "     |      Proceed to data transformation in order to deliver computable \n",
      "     |      data model.\n",
      "     |      Input : none\n",
      "     |      Output : none\n",
      "     |  \n",
      "     |  feature_description_nlp(self)\n",
      "     |      Feature Description is vectorized using NLTK package.\n",
      "     |      Each vectorized column 'x' is renamed w_nlp_i\n",
      "     |      \n",
      "     |      Input : none\n",
      "     |      Output : none\n",
      "     |  \n",
      "     |  feature_rfm_encode(self)\n",
      "     |      Apply one hot encoding over RFM feature.\n",
      "     |      Each new column 'x' is renamed with the  'w_rfm_x'.\n",
      "     |      \n",
      "     |      Input : none\n",
      "     |      \n",
      "     |      Output : none\n",
      "     |  \n",
      "     |  feature_scale(self)\n",
      "     |      Standardize quantitatives features.\n",
      "     |      Standardizer is stored as object attribute.\n",
      "     |      It will be copied into P5_SegmentClassifier object.\n",
      "     |      \n",
      "     |      Input : none\n",
      "     |      Output : none\n",
      "     |  \n",
      "     |  list_feature_drop(self, list_feature_to_drop)\n",
      "     |      Drop from df_invoice dataframe features in list given as parameter.\n",
      "     |      All elements from list are checked to be into dataframe columns.\n",
      "     |      Input : \n",
      "     |         * list_feature_to_drop : list of features to be droped from dataframe.\n",
      "     |      \n",
      "     |      Output : none\n",
      "     |  \n",
      "     |  model_dump(self)\n",
      "     |      Backup into a dumped file classifier model built from this object.\n",
      "     |      Dumped classifier is accessed via file name : \n",
      "     |      --> ./data/_oP5_SegmentClassifier.dump\n",
      "     |  \n",
      "     |  print(self)\n",
      "     |      #----------------------------------------------------------------------------\n",
      "     |      #\n",
      "     |      #----------------------------------------------------------------------------\n",
      "     |  \n",
      "     |  ----------------------------------------------------------------------\n",
      "     |  Data descriptors defined here:\n",
      "     |  \n",
      "     |  __dict__\n",
      "     |      dictionary for instance variables (if defined)\n",
      "     |  \n",
      "     |  __weakref__\n",
      "     |      list of weak references to the object (if defined)\n",
      "     |  \n",
      "     |  classifier_name\n",
      "     |  \n",
      "     |  df_invoice\n",
      "     |  \n",
      "     |  df_invoice_sample\n",
      "     |  \n",
      "     |  dict_classifier_param\n",
      "     |  \n",
      "     |  is_data_sampling\n",
      "     |  \n",
      "     |  list_quant_feature\n",
      "     |  \n",
      "     |  path_to_data\n",
      "     |  \n",
      "     |  std_scale\n",
      "     |  \n",
      "     |  ----------------------------------------------------------------------\n",
      "     |  Data and other attributes defined here:\n",
      "     |  \n",
      "     |  __slotnames__ = []\n",
      "\n",
      "FILE\n",
      "    /home/bangui/Dropbox/Perso/Formation/Openclassroom/Datascientist/P5/P5_ModelBuilder.py\n",
      "\n",
      "\n"
     ]
    }
   ],
   "source": [
    "import P5_ModelBuilder\n",
    "help(P5_ModelBuilder)"
   ]
  },
  {
   "cell_type": "markdown",
   "metadata": {},
   "source": [
    "## <font color='blue'>``oP5_ModelBuilder`` backup and restore </font>\n",
    "\n",
    "It is usefull to activate this sequence to take into account in object ``oP5_ModelBuilder`` a code modification that took place into ``P5_ModelBuilder``.\n",
    "\n",
    "This save time avoiding the whole building process of ``oP5_ModelBuilder``.\n",
    "\n",
    "To activate this sequence, the fix flag ``is_oP5_SegmentClassifier_built`` to ``False`` value."
   ]
  },
  {
   "cell_type": "code",
   "execution_count": 3,
   "metadata": {},
   "outputs": [],
   "source": [
    "from P5_ModelBuilder import *\n",
    "\n",
    "is_oP5_SegmentClassifier_built = True\n",
    "\n",
    "if is_oP5_SegmentClassifier_built is False:\n",
    "    oP5_ModelBuilder_save = P5_ModelBuilder()\n",
    "    try:\n",
    "        oP5_ModelBuilder_save.copy(oP5_ModelBuilder)\n",
    "        oP5_ModelBuilder_save.print()\n",
    "    except NameError as nameErrorValue:\n",
    "        p3_util_plot.printmd_error(\" WARNING : oP5_ModelBuilder not yet defined\")\n",
    "else:\n",
    "    pass\n",
    "\n",
    "\n",
    "if is_oP5_SegmentClassifier_built is False:\n",
    "\n",
    "    oP5_ModelBuilder = P5_ModelBuilder()\n",
    "    oP5_ModelBuilder.copy(oP5_ModelBuilder_save)\n",
    "\n",
    "    del(oP5_ModelBuilder_save)\n",
    "    oP5_ModelBuilder.print()\n",
    "else:\n",
    "    pass"
   ]
  },
  {
   "cell_type": "markdown",
   "metadata": {},
   "source": [
    "# <font color='blus'>Data-set reading or loading </font>"
   ]
  },
  {
   "cell_type": "code",
   "execution_count": 4,
   "metadata": {},
   "outputs": [
    {
     "name": "stdout",
     "output_type": "stream",
     "text": [
      "p5_util.object_load : fileName= ./data/df_invoice_line_clean.dump\n",
      "Elapsed time = 0.14\n"
     ]
    }
   ],
   "source": [
    "if is_data_reloaded is False:\n",
    "    fileName = './data/OnlineRetail.xlsx'\n",
    "    oP5_ModelBuilder = P5_ModelBuilder(path_to_data=fileName)\n",
    "    oP5_ModelBuilder.data_read()\n",
    "    is_data_reloaded = True\n",
    "else : \n",
    "    fileName = './data/df_invoice_line_clean.dump'\n",
    "    oP5_ModelBuilder = P5_ModelBuilder(path_to_data=fileName)\n",
    "    oP5_ModelBuilder.data_load(fileName)"
   ]
  },
  {
   "cell_type": "code",
   "execution_count": 5,
   "metadata": {},
   "outputs": [
    {
     "data": {
      "text/plain": [
       "Index(['InvoiceNo', 'StockCode', 'Description', 'Quantity', 'InvoiceDate',\n",
       "       'UnitPrice', 'CustomerID'],\n",
       "      dtype='object')"
      ]
     },
     "execution_count": 5,
     "metadata": {},
     "output_type": "execute_result"
    }
   ],
   "source": [
    "oP5_ModelBuilder.df_invoice.columns"
   ]
  },
  {
   "cell_type": "markdown",
   "metadata": {},
   "source": [
    "#### Sampling data from cleaned dataframe."
   ]
  },
  {
   "cell_type": "code",
   "execution_count": 51,
   "metadata": {},
   "outputs": [],
   "source": [
    "if is_model_print is True:\n",
    "    oP5_ModelBuilder.print()"
   ]
  },
  {
   "cell_type": "code",
   "execution_count": 7,
   "metadata": {},
   "outputs": [
    {
     "name": "stdout",
     "output_type": "stream",
     "text": [
      "p5_util.object_load : fileName= ./data/df_invoice_line_sample_random.dump\n",
      "p5_util.object_load : fileName= ./data/df_invoice_line_out_sample_random.dump\n"
     ]
    }
   ],
   "source": [
    "is_sampling_load = True\n",
    "if is_sampling_load is False:\n",
    "    oP5_ModelBuilder.data_sampling(ratio=0.8)\n",
    "else:\n",
    "    oP5_ModelBuilder.data_sampling_load()"
   ]
  },
  {
   "cell_type": "code",
   "execution_count": 52,
   "metadata": {},
   "outputs": [],
   "source": [
    "if is_model_print is True:\n",
    "    oP5_ModelBuilder.print()"
   ]
  },
  {
   "cell_type": "markdown",
   "metadata": {},
   "source": [
    "# <font color='blus'>Data model cleaning</font>"
   ]
  },
  {
   "cell_type": "markdown",
   "metadata": {},
   "source": [
    "Once dataframe is made clear, it is dumped into file *df_invoice_line_clean.dump*"
   ]
  },
  {
   "cell_type": "code",
   "execution_count": 9,
   "metadata": {},
   "outputs": [],
   "source": [
    "if is_data_reloaded is False:\n",
    "    oP5_ModelBuilder.data_clean()\n",
    "    oP5_ModelBuilder.print()"
   ]
  },
  {
   "cell_type": "markdown",
   "metadata": {},
   "source": [
    "# <font color='blus'>Data model building : unit tests</font>"
   ]
  },
  {
   "cell_type": "markdown",
   "metadata": {},
   "source": [
    "### Test of method *<font color=blue>data_transform_rfm</font>*"
   ]
  },
  {
   "cell_type": "code",
   "execution_count": 10,
   "metadata": {},
   "outputs": [],
   "source": [
    "import p3_util_plot\n",
    "import P5_SegmentClassifier\n",
    "\n",
    "is_data_transform_rfm = False\n",
    "\n",
    "if is_data_transform_rfm is True:\n",
    "    \n",
    "    try:\n",
    "        if oP5_SegmentClassifier is None:\n",
    "            oP5_SegmentClassifier = P5_SegmentClassifier.P5_SegmentClassifier()\n",
    "        else:\n",
    "            pass\n",
    "    except NameError as nameErrorValue:\n",
    "        p3_util_plot.printmd_error(\"WARNING : \"+str(nameErrorValue))\n",
    "        oP5_SegmentClassifier = P5_SegmentClassifier.P5_SegmentClassifier()\n",
    "\n",
    "\n",
    "    df_invoice_line = oP5_ModelBuilder.df_invoice\n",
    "    try:\n",
    "        if oP5_SegmentClassifier is not None:\n",
    "            self = oP5_SegmentClassifier \n",
    "            self.df_invoice_line = df_invoice_line\n",
    "            self.data_transform_rfm()\n",
    "            oP5_ModelBuilder._oP5_SegmentClassifier = self\n",
    "        else:\n",
    "            p3_util_plot.printmd_error(\"ERROR 2 : oP5_SegmentClassifier : \"+str(oP5_SegmentClassifier))\n",
    "    except NameError as nameErrorValue:\n",
    "        p3_util_plot.printmd_error(\"ERROR 3: \"+str(nameErrorValue))\n",
    "else:\n",
    "    pass"
   ]
  },
  {
   "cell_type": "markdown",
   "metadata": {},
   "source": [
    "### Test of method *<font color=blue>data_transform_timeFeature</font>*"
   ]
  },
  {
   "cell_type": "code",
   "execution_count": 11,
   "metadata": {},
   "outputs": [],
   "source": [
    "is_data_transform_timeFeature = False\n",
    "\n",
    "if is_data_transform_timeFeature is True:\n",
    "    if oP5_SegmentClassifier is not None:\n",
    "        self = oP5_SegmentClassifier \n",
    "        self.df_invoice_line = df_invoice_line\n",
    "        self.data_transform_timeFeature()\n",
    "    else:\n",
    "        pass\n",
    "else:\n",
    "    pass"
   ]
  },
  {
   "cell_type": "markdown",
   "metadata": {},
   "source": [
    "### Test of method *<font color=blue>data_transform_nlp</font>* with *<font color=blue>_oP5_SegmentClassifier</font>*"
   ]
  },
  {
   "cell_type": "code",
   "execution_count": 12,
   "metadata": {},
   "outputs": [],
   "source": [
    "is_data_transform_nlp = False\n",
    "\n",
    "if is_data_transform_nlp is True:\n",
    "    oP5_ModelBuilder._oP5_SegmentClassifier.data_transform_nlp()\n",
    "else:\n",
    "    pass"
   ]
  },
  {
   "cell_type": "code",
   "execution_count": 13,
   "metadata": {},
   "outputs": [],
   "source": [
    "import p3_util_plot\n",
    "import P5_SegmentClassifier\n",
    "\n",
    "is_data_transform_nlp = False\n",
    "\n",
    "if is_data_transform_nlp is True:\n",
    "    oP5_ModelBuilder._oP5_SegmentClassifier = P5_SegmentClassifier.P5_SegmentClassifier()\n",
    "    oP5_ModelBuilder._oP5_SegmentClassifier._df_invoice_line = oP5_ModelBuilder._df_invoice.copy()\n",
    "\n",
    "    self = oP5_ModelBuilder._oP5_SegmentClassifier \n",
    "    self.data_transform_nlp()\n",
    "else:\n",
    "    pass"
   ]
  },
  {
   "cell_type": "markdown",
   "metadata": {},
   "source": [
    "### Test of method *<font color=blue>data_transform_nlp</font>* with *<font color=blue>oP5_SegmentClassifier</font>*"
   ]
  },
  {
   "cell_type": "code",
   "execution_count": 14,
   "metadata": {},
   "outputs": [],
   "source": [
    "is_data_transform_nlp = False\n",
    "\n",
    "if is_data_transform_nlp is True:\n",
    "    if oP5_SegmentClassifier is not None:\n",
    "        self = oP5_SegmentClassifier \n",
    "        self.df_invoice_line = df_invoice_line\n",
    "        self.data_transform_nlp()\n",
    "    else:\n",
    "        pass\n",
    "else:\n",
    "    pass"
   ]
  },
  {
   "cell_type": "markdown",
   "metadata": {},
   "source": [
    "### Test of method *<font color=blue>data_transform</font>*\n",
    "\n",
    "Includes calls: \n",
    "* data_transform_timeFeatures()\n",
    "* data_transform_rfm()\n",
    "* data_transform_nlp()\n"
   ]
  },
  {
   "cell_type": "code",
   "execution_count": 15,
   "metadata": {},
   "outputs": [],
   "source": [
    "is_data_transform = False\n",
    "\n",
    "if is_data_transform is True:\n",
    "    if oP5_SegmentClassifier is not None:\n",
    "        self = oP5_SegmentClassifier \n",
    "        self.data_transform(df_invoice_line)\n",
    "\n",
    "        self.print()\n",
    "    else:\n",
    "        pass\n",
    "else:\n",
    "    pass"
   ]
  },
  {
   "cell_type": "markdown",
   "metadata": {},
   "source": [
    "### Test of method *<font color=blue>df_customers_build</font>*"
   ]
  },
  {
   "cell_type": "code",
   "execution_count": 16,
   "metadata": {
    "scrolled": true
   },
   "outputs": [],
   "source": [
    "is_oP5_SegmentClassifier = False\n",
    "\n",
    "if is_df_customers_build is True:\n",
    "    if oP5_SegmentClassifier is not None:\n",
    "        oP5_SegmentClassifier.df_customers_build()\n",
    "    else:\n",
    "        pass\n",
    "else:\n",
    "    pass"
   ]
  },
  {
   "cell_type": "markdown",
   "metadata": {},
   "source": [
    "# <font color='blus'>Data model building</font>"
   ]
  },
  {
   "cell_type": "markdown",
   "metadata": {},
   "source": [
    "#### <font color='blue'>Note : transactions with Total value 0 are removed.</font>"
   ]
  },
  {
   "cell_type": "code",
   "execution_count": 17,
   "metadata": {
    "scrolled": true
   },
   "outputs": [
    {
     "name": "stdout",
     "output_type": "stream",
     "text": [
      "P5_SegmentClassifier : init done!\n",
      "\n",
      "*** Time features transformation ***\n",
      "self.df_invoice_line : (194907, 7)\n",
      "is_built_step : True\n",
      "Time feature : month --> (2124, 12)\n",
      "is_built_step : True\n",
      "Time feature : day --> (2124, 31)\n",
      "is_built_step : True\n",
      "Time feature : dow --> (2124, 6)\n",
      "is_built_step : True\n",
      "Time feature : pod --> (2124, 2)\n",
      "df_timeFeature= (0, 0)\n",
      "p5_util.object_load : fileName= ./data/df_customers_month.dump\n",
      "p5_util.object_load : fileName= ./data/df_customers_day.dump\n",
      "p5_util.object_load : fileName= ./data/df_customers_dow.dump\n",
      "p5_util.object_load : fileName= ./data/df_customers_pod.dump\n",
      "df_customers_timeFeature : (2124, 51)\n",
      "(2124, 30)\n",
      "\n",
      "*** RFM transformation ***\n",
      "df_customers_rfm =(2124, 59)\n",
      "\n",
      "*** NLP transformation ***\n",
      "3672\n",
      "3623\n",
      "3616\n",
      "3583\n",
      "3581\n",
      "3581\n",
      "3576\n",
      "3573\n",
      "(194907, 1716)\n",
      "Dumping matrix_weights into file= ./data/matrix_weights_NLP.dump\n",
      "Done!\n",
      "df_invoice_line : (194907, 8)\n",
      "self._df_w_nlp : (2124, 1717)\n",
      "df_customers_pca_nlp : (2124, 250)\n"
     ]
    }
   ],
   "source": [
    "oP5_ModelBuilder.data_transform()"
   ]
  },
  {
   "cell_type": "code",
   "execution_count": 53,
   "metadata": {},
   "outputs": [],
   "source": [
    "if is_model_print is True:\n",
    "    oP5_ModelBuilder._oP5_SegmentClassifier.print()"
   ]
  },
  {
   "cell_type": "code",
   "execution_count": 54,
   "metadata": {},
   "outputs": [],
   "source": [
    "if is_model_print is True:\n",
    "    oP5_ModelBuilder.print()"
   ]
  },
  {
   "cell_type": "markdown",
   "metadata": {},
   "source": [
    "# <font color='blus'>Building Clusters</font>"
   ]
  },
  {
   "cell_type": "markdown",
   "metadata": {},
   "source": [
    "#### <font color='blue'>Backup P5_ModelBuilder before clustering</font>"
   ]
  },
  {
   "cell_type": "code",
   "execution_count": 20,
   "metadata": {},
   "outputs": [],
   "source": [
    "import p5_util\n",
    "p5_util.object_dump(oP5_ModelBuilder, \"./data/oP5_ModelBuilder.dump\")"
   ]
  },
  {
   "cell_type": "markdown",
   "metadata": {},
   "source": [
    "#### <font color='blue'>*df_customers*</font> dataframe is aggregated from separate dataframes issued from NLP, RFM and Time features"
   ]
  },
  {
   "cell_type": "code",
   "execution_count": 21,
   "metadata": {
    "scrolled": true
   },
   "outputs": [],
   "source": [
    "import p3_util_plot\n",
    "from P5_SegmentClassifier import *\n",
    "\n",
    "is_oP5_SegmentClassifier = False\n",
    "\n",
    "if is_oP5_SegmentClassifier is True:\n",
    "    try:\n",
    "        oP5_SegmentClassifier.df_customers_fileRead()\n",
    "    except NameError as nameErrorValue:\n",
    "        p3_util_plot.printmd_error(\"WARNING : oP5_SegmentClassifier : \"+str(nameErrorValue))\n",
    "else:\n",
    "    pass"
   ]
  },
  {
   "cell_type": "code",
   "execution_count": 22,
   "metadata": {
    "scrolled": true
   },
   "outputs": [
    {
     "name": "stdout",
     "output_type": "stream",
     "text": [
      "p5_util.object_load : fileName= ./data/df_customers_rfm.dump\n",
      "RFM features : (2124, 59)\n",
      "p5_util.object_load : fileName= ./data/df_customers_timeFeature_pca.dump\n",
      "Time features : (2124, 30)\n",
      "p5_util.object_load : fileName= ./data/df_customers_nlp_pca.dump\n",
      "NLP features : (2124, 250)\n",
      "All features : (2124, 339)\n",
      "p5_util.object_load : fileName= ./data/df_customers.dump\n",
      "df_customers : (2124, 339)\n",
      "Clustering model : GMM\n",
      "Clustering parameters : {'n_clusters': 6, 'covariance_type': 'diag'}\n"
     ]
    }
   ],
   "source": [
    "oP5_ModelBuilder.clusters_build()"
   ]
  },
  {
   "cell_type": "code",
   "execution_count": 55,
   "metadata": {},
   "outputs": [],
   "source": [
    "if is_model_print is True:\n",
    "    oP5_ModelBuilder.print()"
   ]
  },
  {
   "cell_type": "markdown",
   "metadata": {},
   "source": [
    "# <font color='blus'>Building classifier</font>"
   ]
  },
  {
   "cell_type": "code",
   "execution_count": 24,
   "metadata": {
    "scrolled": true
   },
   "outputs": [
    {
     "name": "stdout",
     "output_type": "stream",
     "text": [
      "p5_util.object_load : fileName= ./data/df_customers.dump\n",
      "df_customers : (2124, 339)\n"
     ]
    }
   ],
   "source": [
    "oP5_ModelBuilder.classifier_build()"
   ]
  },
  {
   "cell_type": "code",
   "execution_count": 56,
   "metadata": {},
   "outputs": [],
   "source": [
    "if is_model_print is True:\n",
    "    oP5_ModelBuilder.print()"
   ]
  },
  {
   "cell_type": "markdown",
   "metadata": {},
   "source": [
    "# <font color='blus'>Dump Predictor model</font>"
   ]
  },
  {
   "cell_type": "code",
   "execution_count": 26,
   "metadata": {},
   "outputs": [],
   "source": [
    "import p3_util_plot\n",
    "\n",
    "is_oP5_SegmentClassifier = False\n",
    "\n",
    "if is_oP5_SegmentClassifier is True:\n",
    "    try:\n",
    "        oP5_ModelBuilder._oP5_SegmentClassifier = oP5_SegmentClassifier\n",
    "    except NameError as nameErrorValue:\n",
    "        p3_util_plot.printmd_error(\"WARNING : \"+str(nameErrorValue))\n",
    "    oP5_ModelBuilder._oP5_SegmentClassifier.print()\n",
    "else:\n",
    "    pass"
   ]
  },
  {
   "cell_type": "markdown",
   "metadata": {},
   "source": [
    "The following sequence is used when class ``P5_SegmentClassifier`` is modified \n",
    "and such modifications have to take place into ``oP5_ModelBuilder._oP5_SegmentClassifier`` object.\n",
    "\n",
    "This requires flag ``is_oP5_SegmentClassifier`` to be fixed to value ``True``.\n"
   ]
  },
  {
   "cell_type": "code",
   "execution_count": 46,
   "metadata": {},
   "outputs": [
    {
     "name": "stdout",
     "output_type": "stream",
     "text": [
      "P5_SegmentClassifier : init done!\n"
     ]
    }
   ],
   "source": [
    "import P5_SegmentClassifier\n",
    "\n",
    "is_oP5_SegmentClassifier = True\n",
    "\n",
    "#-------------------------------------------------------------------------\n",
    "# This sequence is used when class P5_SegmentClassifier is modified \n",
    "# and such modifications have to take place into oP5_ModelBuilder object.\n",
    "#\n",
    "# This requires flag is_oP5_SegmentClassifier to be True.\n",
    "#\n",
    "#-------------------------------------------------------------------------\n",
    "if is_oP5_SegmentClassifier is True:\n",
    "    _oP5_SegmentClassifier_save = P5_SegmentClassifier.P5_SegmentClassifier()\n",
    "    _oP5_SegmentClassifier_save.copy(oP5_ModelBuilder._oP5_SegmentClassifier)\n",
    "    \n",
    "    oP5_ModelBuilder._oP5_SegmentClassifier = _oP5_SegmentClassifier_save\n",
    "else:\n",
    "    pass"
   ]
  },
  {
   "cell_type": "code",
   "execution_count": 57,
   "metadata": {},
   "outputs": [],
   "source": [
    "if is_model_print is True:\n",
    "    oP5_ModelBuilder._oP5_SegmentClassifier.print()"
   ]
  },
  {
   "cell_type": "raw",
   "metadata": {},
   "source": [
    "import p5_util\n",
    "\n",
    "file_name = './data/df_invoice_line_clean.dump'\n",
    "df_invoice_original = p5_util.object_load(file_name)\n",
    "\n",
    "df_invoice_original[df_invoice_original.CustomerID==17924].shape[0]"
   ]
  },
  {
   "cell_type": "code",
   "execution_count": 47,
   "metadata": {},
   "outputs": [
    {
     "name": "stdout",
     "output_type": "stream",
     "text": [
      "p5_util.object_load : fileName= ./data/df_invoice_line_clean.dump\n",
      "Index(['InvoiceNo', 'StockCode', 'Description', 'Quantity', 'InvoiceDate',\n",
      "       'UnitPrice', 'CustomerID'],\n",
      "      dtype='object')\n",
      "(349189, 7)\n"
     ]
    }
   ],
   "source": [
    "oP5_ModelBuilder.model_dump()"
   ]
  },
  {
   "cell_type": "markdown",
   "metadata": {},
   "source": [
    "# <font color='blus'>Tests and validation</font>"
   ]
  },
  {
   "cell_type": "markdown",
   "metadata": {},
   "source": [
    "## <font color='blue'>Loading *P5_SegmentClassifier* object</font>"
   ]
  },
  {
   "cell_type": "code",
   "execution_count": 36,
   "metadata": {},
   "outputs": [],
   "source": [
    "import p3_util_plot\n",
    "import P5_SegmentClassifier\n",
    "\n",
    "is_oP5_SegmentClassifier = False\n",
    "\n",
    "#-------------------------------------------------------------------------\n",
    "# This sequence is used when class P5_SegmentClassifier is modified \n",
    "# and such modifications have to take place into oP5_SegmentClassifier object.\n",
    "#\n",
    "# This requires flag is_oP5_SegmentClassifier to be True.\n",
    "#\n",
    "#-------------------------------------------------------------------------\n",
    "if is_oP5_SegmentClassifier is True:\n",
    "    is_oP5_SegmentClassifier_dumped = False\n",
    "    oP5_SegmentClassifier_save = P5_SegmentClassifier.P5_SegmentClassifier()\n",
    "    try:\n",
    "        oP5_SegmentClassifier_save.copy(oP5_SegmentClassifier)\n",
    "        P5_SegmentClassifier.model_dump(oP5_SegmentClassifier_save, file_name = \"./data/oP5_SegmentClassifier.dump\")\n",
    "        is_oP5_SegmentClassifier_dumped = True\n",
    "    except NameError as nameErrorValue:\n",
    "        p3_util_plot.printmd_error(\"WARNING : \"+str(nameErrorValue))\n",
    "\n",
    "\n",
    "    if is_oP5_SegmentClassifier_dumped is True:\n",
    "        oP5_SegmentClassifier = P5_SegmentClassifier.model_load(\"./data/oP5_SegmentClassifier.dump\")\n",
    "    else:\n",
    "        oP5_SegmentClassifier = None    \n",
    "else:\n",
    "    pass\n",
    "#type(oP5_SegmentClassifier)"
   ]
  },
  {
   "cell_type": "code",
   "execution_count": 37,
   "metadata": {
    "scrolled": false
   },
   "outputs": [],
   "source": [
    "if is_oP5_SegmentClassifier is True:\n",
    "    if oP5_SegmentClassifier is not None:\n",
    "        oP5_SegmentClassifier.print()\n",
    "    else:\n",
    "        pass\n",
    "else:\n",
    "    pass"
   ]
  },
  {
   "cell_type": "markdown",
   "metadata": {},
   "source": [
    "### <font color='blue'> Load classifier model issued from dump of *P5_ModelBuilder*</font>"
   ]
  },
  {
   "cell_type": "code",
   "execution_count": 38,
   "metadata": {},
   "outputs": [
    {
     "data": {
      "text/plain": [
       "True"
      ]
     },
     "execution_count": 38,
     "metadata": {},
     "output_type": "execute_result"
    }
   ],
   "source": [
    "is_oP5_SegmentClassifier_built"
   ]
  },
  {
   "cell_type": "code",
   "execution_count": 39,
   "metadata": {},
   "outputs": [],
   "source": [
    "import P5_SegmentClassifier\n",
    "\n",
    "is_oP5_SegmentClassifier_built = False\n",
    "\n",
    "if is_oP5_SegmentClassifier_built is True:\n",
    "    _oP5_SegmentClassifier_restore = P5_SegmentClassifier.model_load(\"./data/_oP5_SegmentClassifier.dump\")\n",
    "    _oP5_SegmentClassifier = P5_SegmentClassifier.P5_SegmentClassifier()\n",
    "    _oP5_SegmentClassifier.copy(_oP5_SegmentClassifier_restore)\n",
    "    del(_oP5_SegmentClassifier_restore)\n",
    "    _oP5_SegmentClassifier.print()\n",
    "else:\n",
    "    pass"
   ]
  },
  {
   "cell_type": "code",
   "execution_count": 40,
   "metadata": {},
   "outputs": [],
   "source": [
    "import p5_util\n",
    "\n",
    "if is_oP5_SegmentClassifier is True:\n",
    "    p5_util.object_dump(_oP5_SegmentClassifier, \"./data/_oP5_SegmentClassifier.dump\")\n",
    "    _oP5_SegmentClassifier.print()\n",
    "else:\n",
    "    pass"
   ]
  },
  {
   "cell_type": "code",
   "execution_count": 41,
   "metadata": {},
   "outputs": [
    {
     "data": {
      "text/markdown": [
       "<p><font color='green'>**Got _oP5_SegmentClassifier from oP5_ModelBuilder**</font></p>"
      ],
      "text/plain": [
       "<IPython.core.display.Markdown object>"
      ]
     },
     "metadata": {},
     "output_type": "display_data"
    }
   ],
   "source": [
    "import p3_util_plot\n",
    "if is_oP5_SegmentClassifier is False:\n",
    "    _oP5_SegmentClassifier = oP5_ModelBuilder._oP5_SegmentClassifier\n",
    "    p3_util_plot.printmd(\"Got _oP5_SegmentClassifier from oP5_ModelBuilder\")\n",
    "else:\n",
    "    pass"
   ]
  },
  {
   "cell_type": "markdown",
   "metadata": {},
   "source": [
    "### <font color='blue'>Ramdomly get an obervation</font>"
   ]
  },
  {
   "cell_type": "code",
   "execution_count": 42,
   "metadata": {},
   "outputs": [
    {
     "name": "stdout",
     "output_type": "stream",
     "text": [
      "p5_util.object_load : fileName= ./data/df_invoice_cleaned.dump\n",
      "(36664, 10)\n",
      "(1, 9)\n",
      "       InvoiceNo StockCode                        Description  Quantity  \\\n",
      "249051    569546     22720  SET OF 3 CAKE TINS PANTRY DESIGN          1   \n",
      "\n",
      "        InvoiceDate  UnitPrice  CustomerID         Country  Total  \n",
      "249051        15252       4.95       15276  United Kingdom   4.95  \n",
      "(1, 6)\n"
     ]
    }
   ],
   "source": [
    "import pandas as pd\n",
    "import p5_util\n",
    "\n",
    "if is_oP5_SegmentClassifier_built is False:\n",
    "    df_invoice_clean = p5_util.object_load('./data/df_invoice_cleaned.dump')\n",
    "    print(df_invoice_clean.shape)\n",
    "\n",
    "    df_sample_test = df_invoice_clean.sample(1)\n",
    "    if 'RFM' in df_sample_test.columns:\n",
    "        del(df_sample_test['RFM'])\n",
    "    print(df_sample_test.shape)\n",
    "    print(df_sample_test)\n",
    "\n",
    "    ### <font color='blue'>Data is processed in order to be computable</font>\n",
    "\n",
    "    Description = df_sample_test.Description.iloc[0]\n",
    "    Quantity = df_sample_test.Quantity.iloc[0]\n",
    "    InvoiceDate = '2011-11-11 10:19:00'\n",
    "\n",
    "    UnitPrice = df_sample_test.UnitPrice.iloc[0]\n",
    "    InvoiceNo = df_sample_test.InvoiceNo.iloc[0]\n",
    "    CustomerID = df_sample_test.CustomerID.iloc[0]\n",
    "\n",
    "    dict_invoice_line = {'InvoiceDate':InvoiceDate, 'Description':Description\\\n",
    "    , 'Quantity':Quantity, 'UnitPrice':UnitPrice}\n",
    "    dict_invoice_line['CustomerID'] = CustomerID\n",
    "    dict_invoice_line['InvoiceNo'] = InvoiceNo\n",
    "    df_invoice_line = pd.DataFrame(dict_invoice_line, columns=dict_invoice_line.keys(), index=[0])\n",
    "\n",
    "    print(df_invoice_line.shape)    \n",
    "    \n",
    "else:\n",
    "    pass"
   ]
  },
  {
   "cell_type": "markdown",
   "metadata": {},
   "source": [
    "### Global test with classifier model issued from <font color='blue'>*P5_ModelBuilder*</font>"
   ]
  },
  {
   "cell_type": "code",
   "execution_count": 60,
   "metadata": {},
   "outputs": [],
   "source": [
    "if is_model_print is True:\n",
    "    _oP5_SegmentClassifier.print()"
   ]
  },
  {
   "cell_type": "code",
   "execution_count": 44,
   "metadata": {},
   "outputs": [
    {
     "data": {
      "text/plain": [
       "(0, 0)"
      ]
     },
     "execution_count": 44,
     "metadata": {},
     "output_type": "execute_result"
    }
   ],
   "source": [
    "_oP5_SegmentClassifier._df_invoice_line.shape"
   ]
  },
  {
   "cell_type": "code",
   "execution_count": 45,
   "metadata": {},
   "outputs": [
    {
     "name": "stdout",
     "output_type": "stream",
     "text": [
      "\n",
      "*** Time features transformation ***\n",
      "self.df_invoice_line : (1, 6)\n",
      "is_built_step : False\n",
      "Time feature : month --> (1, 12)\n",
      "is_built_step : False\n",
      "Time feature : day --> (1, 31)\n",
      "is_built_step : False\n",
      "Time feature : dow --> (1, 6)\n",
      "is_built_step : False\n",
      "Time feature : pod --> (1, 2)\n",
      "Aggregated time features df : (1, 51)\n",
      "df_timeFeature= (1, 51)\n",
      "df_customers_timeFeature : (1, 51)\n",
      "(1, 30)\n",
      "\n",
      "*** RFM transformation ***\n",
      "df_customers_rfm =(1, 59)\n",
      "\n",
      "*** NLP transformation ***\n",
      "1\n",
      "1\n",
      "1\n",
      "1\n",
      "1\n",
      "1\n",
      "1\n",
      "1\n",
      "df_invoice_line : (1, 8)\n",
      "self._df_w_nlp : (1, 1717)\n",
      "df_customers_pca_nlp : (1, 250)\n",
      "All features : (1, 339)\n"
     ]
    },
    {
     "data": {
      "text/markdown": [
       "<p><font color='green'>**Customer belongs to segment = 0**</font></p>"
      ],
      "text/plain": [
       "<IPython.core.display.Markdown object>"
      ]
     },
     "metadata": {},
     "output_type": "display_data"
    }
   ],
   "source": [
    "#oP5_SegmentClassifier.data_process(CustomerID, InvoiceDate, InvoiceNo, Description, Quantity, UnitPrice )\n",
    "import p3_util_plot\n",
    "\n",
    "segment = _oP5_SegmentClassifier.get_customer_marketSegment(df_invoice_line)\n",
    "p3_util_plot.printmd(\"Customer belongs to segment = \"+str(segment))"
   ]
  }
 ],
 "metadata": {
  "kernelspec": {
   "display_name": "Python 3",
   "language": "python",
   "name": "python3"
  },
  "language_info": {
   "codemirror_mode": {
    "name": "ipython",
    "version": 3
   },
   "file_extension": ".py",
   "mimetype": "text/x-python",
   "name": "python",
   "nbconvert_exporter": "python",
   "pygments_lexer": "ipython3",
   "version": "3.6.8"
  }
 },
 "nbformat": 4,
 "nbformat_minor": 2
}
