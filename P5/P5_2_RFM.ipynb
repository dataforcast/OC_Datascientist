{
 "cells": [
  {
   "cell_type": "markdown",
   "metadata": {},
   "source": [
    "<!--NOTEBOOK_INFORMATION-->\n",
    "<img align=\"left\" style=\"padding-right:10px;\" src=\"./figures/LogoOpenclassrooms.png\">\n",
    "<font size=\"4\">\n",
    "<p>\n",
    "Cette étude a été réalisée dans le cadre du 5ème projet de ma formation Datascientist dispensée en MOOC par \n",
    "**<font color='blus'>Openclassrooms / écoles Centrale-Supélec</font>**.\n",
    "</p>    \n",
    "\n",
    "<p>\n",
    "Ce notebook présente un modèle de ségmentation de clients d'un site d'achats en ligne. \n",
    "</p>\n",
    "<p>\n",
    "Ce modèle se base sur les données fournies par le site :\n",
    "</p>\n",
    "<p>\n",
    "https://archive.ics.uci.edu/ml/datasets/Online+Retail\n",
    "</p>\n",
    "<p>\n",
    "Ce notebook implémente les phases de l'analyse exploratoire de la caractéristique RFM.\n",
    "Les étapes de l'analyse sont :     \n",
    "</p>\n",
    "* l'acquisition des données issues du sampling réalisé dans le notebook ``P5_2.ipynb``\n",
    "* la construction de la caractéristique ``RFM``  \n",
    "* la construction de nouvelles variables par un encodage de la caractéristique ``RFM``\n",
    "* La recherche des paramètres optimaux pour les algorithmes de clustering:\n",
    "    * ``Kmeans``\n",
    "    * ``DBSCAN``\n",
    "    * ``GMM``\n",
    "\n",
    "**Les résultats de cette analyse sont reprise dans le notebook <font color='blue'>*P5_AllFeature.ipynb*</font>**. \n",
    "\n",
    "Ce dernier notebook permet d'évaluer les différents modèles de prédiction."
   ]
  },
  {
   "cell_type": "code",
   "execution_count": 1,
   "metadata": {},
   "outputs": [],
   "source": [
    "import pandas as pd\n",
    "import numpy as np\n",
    "import time\n",
    "\n",
    "import warnings\n",
    "warnings.filterwarnings(\"ignore\")\n",
    "\n",
    "\n",
    "import p3_util\n",
    "import p3_util_plot\n",
    "import p5_util\n",
    "import p5_util_plot\n",
    "\n",
    "#--------------------------\n",
    "# Process flow parameters\n",
    "#--------------------------\n",
    "is_reloaded = True\n",
    "\n",
    "#---------------------------------------------------------------------------\n",
    "# Outliers values issued from Total feature are removed or not from dataset.\n",
    "is_total_no_outliers = False\n",
    "#---------------------------------------------------------------------------\n",
    "\n",
    "#---------------------------------------------------------------------------\n",
    "# Encoded RFM features are clusterized separatly from other features.\n",
    "#---------------------------------------------------------------------------\n",
    "is_rfm_cluster = True"
   ]
  },
  {
   "cell_type": "markdown",
   "metadata": {},
   "source": [
    "#### <font color='blue'>Restore *df_invoice_line* dataframe</font>"
   ]
  },
  {
   "cell_type": "code",
   "execution_count": 2,
   "metadata": {},
   "outputs": [
    {
     "name": "stdout",
     "output_type": "stream",
     "text": [
      "p5_util.object_load : fileName= ./data/df_invoice_line_sample_random.dump\n",
      "(194907, 7)\n",
      "(194907, 7)\n"
     ]
    }
   ],
   "source": [
    "import p5_util\n",
    "if is_reloaded is True:\n",
    "    df_invoice_line =  p5_util.p5_reload_data_sample()\n",
    "    print(df_invoice_line.shape)    \n"
   ]
  },
  {
   "cell_type": "code",
   "execution_count": 3,
   "metadata": {},
   "outputs": [
    {
     "name": "stdout",
     "output_type": "stream",
     "text": [
      "\n",
      "*** Nombre de factures= 9330\n"
     ]
    }
   ],
   "source": [
    "nb_invoices = len(df_invoice_line['InvoiceNo'].unique())\n",
    "print(\"\\n*** Nombre de factures= \"+str(nb_invoices))"
   ]
  },
  {
   "cell_type": "markdown",
   "metadata": {},
   "source": [
    "# <font color='blus'>Building RFM features</font>"
   ]
  },
  {
   "cell_type": "code",
   "execution_count": 4,
   "metadata": {},
   "outputs": [],
   "source": [
    "import p5_util\n",
    "#-------------------------------------------------------------------------------\n",
    "# day_now = None : Most recent value from dataframe will be fixed for day_now.\n",
    "day_now = None\n",
    "#-------------------------------------------------------------------------------\n",
    "df_invoice_line, df_RFM,  df_RFM_quantiles, day_now = p5_util.p5_df_rfm_build(df_invoice_line, day_now)"
   ]
  },
  {
   "cell_type": "code",
   "execution_count": 5,
   "metadata": {},
   "outputs": [
    {
     "name": "stdout",
     "output_type": "stream",
     "text": [
      "    Frequency  Recency  Monatary  neg_recency\n",
      "Q1        1.0     16.0   296.170       -140.0\n",
      "Q2        2.0     49.0   654.025        -49.0\n",
      "Q3        5.0    140.0  1552.130        -16.0\n"
     ]
    }
   ],
   "source": [
    "print(df_RFM_quantiles)"
   ]
  },
  {
   "cell_type": "code",
   "execution_count": 6,
   "metadata": {},
   "outputs": [
    {
     "data": {
      "text/markdown": [
       "<p><font color='green'>**Nb de classes RFM : 59**</font></p>"
      ],
      "text/plain": [
       "<IPython.core.display.Markdown object>"
      ]
     },
     "metadata": {},
     "output_type": "display_data"
    },
    {
     "data": {
      "text/markdown": [
       "<p><font color='green'>**Echantillon de client(e)s classé(e)s RFM : 2124**</font></p>"
      ],
      "text/plain": [
       "<IPython.core.display.Markdown object>"
      ]
     },
     "metadata": {},
     "output_type": "display_data"
    },
    {
     "data": {
      "text/html": [
       "<div>\n",
       "<style scoped>\n",
       "    .dataframe tbody tr th:only-of-type {\n",
       "        vertical-align: middle;\n",
       "    }\n",
       "\n",
       "    .dataframe tbody tr th {\n",
       "        vertical-align: top;\n",
       "    }\n",
       "\n",
       "    .dataframe thead th {\n",
       "        text-align: right;\n",
       "    }\n",
       "</style>\n",
       "<table border=\"1\" class=\"dataframe\">\n",
       "  <thead>\n",
       "    <tr style=\"text-align: right;\">\n",
       "      <th></th>\n",
       "      <th>CustomerID</th>\n",
       "      <th>Frequency</th>\n",
       "      <th>Recency</th>\n",
       "      <th>Monatary</th>\n",
       "      <th>neg_recency</th>\n",
       "      <th>R_score</th>\n",
       "      <th>F_score</th>\n",
       "      <th>M_score</th>\n",
       "      <th>RFM</th>\n",
       "    </tr>\n",
       "  </thead>\n",
       "  <tbody>\n",
       "    <tr>\n",
       "      <th>1393</th>\n",
       "      <td>16461</td>\n",
       "      <td>1</td>\n",
       "      <td>177</td>\n",
       "      <td>142.92</td>\n",
       "      <td>-25</td>\n",
       "      <td>2</td>\n",
       "      <td>4</td>\n",
       "      <td>4</td>\n",
       "      <td>244</td>\n",
       "    </tr>\n",
       "  </tbody>\n",
       "</table>\n",
       "</div>"
      ],
      "text/plain": [
       "      CustomerID  Frequency  Recency  Monatary  neg_recency  R_score  F_score  \\\n",
       "1393       16461          1      177    142.92          -25        2        4   \n",
       "\n",
       "      M_score  RFM  \n",
       "1393        4  244  "
      ]
     },
     "execution_count": 6,
     "metadata": {},
     "output_type": "execute_result"
    }
   ],
   "source": [
    "import p3_util_plot\n",
    "nb_rfm = len(df_RFM.RFM.unique())\n",
    "p3_util_plot.printmd(\"Nb de classes RFM : \"+str(nb_rfm))\n",
    "p3_util_plot.printmd(\"Echantillon de client(e)s classé(e)s RFM : \"+str(df_RFM.shape[0]))\n",
    "df_RFM.sample(1)"
   ]
  },
  {
   "cell_type": "markdown",
   "metadata": {},
   "source": [
    "####  Backup of dataframe"
   ]
  },
  {
   "cell_type": "code",
   "execution_count": 7,
   "metadata": {},
   "outputs": [],
   "source": [
    "import p5_util\n",
    "\n",
    "fileName = './data/df_RFM.dump'\n",
    "p5_util.object_dump(df_RFM,fileName)"
   ]
  },
  {
   "cell_type": "markdown",
   "metadata": {},
   "source": [
    "**<font color='blue'>*RFM*</font> column from <font color='blue'>*df_RFM*</font> dataframe is aggregated to <font color='blue'>*df_invoice_line*</font> columns**"
   ]
  },
  {
   "cell_type": "code",
   "execution_count": 8,
   "metadata": {},
   "outputs": [
    {
     "data": {
      "text/html": [
       "<div>\n",
       "<style scoped>\n",
       "    .dataframe tbody tr th:only-of-type {\n",
       "        vertical-align: middle;\n",
       "    }\n",
       "\n",
       "    .dataframe tbody tr th {\n",
       "        vertical-align: top;\n",
       "    }\n",
       "\n",
       "    .dataframe thead th {\n",
       "        text-align: right;\n",
       "    }\n",
       "</style>\n",
       "<table border=\"1\" class=\"dataframe\">\n",
       "  <thead>\n",
       "    <tr style=\"text-align: right;\">\n",
       "      <th></th>\n",
       "      <th>InvoiceNo</th>\n",
       "      <th>StockCode</th>\n",
       "      <th>Description</th>\n",
       "      <th>Quantity</th>\n",
       "      <th>InvoiceDate</th>\n",
       "      <th>UnitPrice</th>\n",
       "      <th>CustomerID</th>\n",
       "      <th>Total</th>\n",
       "      <th>RFM</th>\n",
       "    </tr>\n",
       "  </thead>\n",
       "  <tbody>\n",
       "    <tr>\n",
       "      <th>90271</th>\n",
       "      <td>559940</td>\n",
       "      <td>23170</td>\n",
       "      <td>REGENCY TEA PLATE ROSES</td>\n",
       "      <td>36</td>\n",
       "      <td>15169</td>\n",
       "      <td>1.45</td>\n",
       "      <td>17396</td>\n",
       "      <td>52.2</td>\n",
       "      <td>111</td>\n",
       "    </tr>\n",
       "  </tbody>\n",
       "</table>\n",
       "</div>"
      ],
      "text/plain": [
       "      InvoiceNo StockCode               Description  Quantity  InvoiceDate  \\\n",
       "90271    559940     23170  REGENCY TEA PLATE ROSES         36        15169   \n",
       "\n",
       "       UnitPrice  CustomerID  Total  RFM  \n",
       "90271       1.45       17396   52.2  111  "
      ]
     },
     "execution_count": 8,
     "metadata": {},
     "output_type": "execute_result"
    }
   ],
   "source": [
    "df_invoice_line = pd.merge(df_invoice_line, df_RFM[['CustomerID','RFM']], how='left', on=['CustomerID'])"
   ]
  },
  {
   "cell_type": "code",
   "execution_count": 116,
   "metadata": {},
   "outputs": [
    {
     "data": {
      "text/html": [
       "<div>\n",
       "<style scoped>\n",
       "    .dataframe tbody tr th:only-of-type {\n",
       "        vertical-align: middle;\n",
       "    }\n",
       "\n",
       "    .dataframe tbody tr th {\n",
       "        vertical-align: top;\n",
       "    }\n",
       "\n",
       "    .dataframe thead th {\n",
       "        text-align: right;\n",
       "    }\n",
       "</style>\n",
       "<table border=\"1\" class=\"dataframe\">\n",
       "  <thead>\n",
       "    <tr style=\"text-align: right;\">\n",
       "      <th></th>\n",
       "      <th>InvoiceNo</th>\n",
       "      <th>StockCode</th>\n",
       "      <th>Description</th>\n",
       "      <th>Quantity</th>\n",
       "      <th>InvoiceDate</th>\n",
       "      <th>UnitPrice</th>\n",
       "      <th>CustomerID</th>\n",
       "      <th>Total</th>\n",
       "      <th>RFM</th>\n",
       "      <th>TotalInt</th>\n",
       "      <th>RFMInt</th>\n",
       "    </tr>\n",
       "  </thead>\n",
       "  <tbody>\n",
       "    <tr>\n",
       "      <th>90794</th>\n",
       "      <td>560103</td>\n",
       "      <td>22138</td>\n",
       "      <td>BAKING SET 9 PIECE RETROSPOT</td>\n",
       "      <td>3</td>\n",
       "      <td>15170</td>\n",
       "      <td>4.95</td>\n",
       "      <td>17837</td>\n",
       "      <td>14.85</td>\n",
       "      <td>112</td>\n",
       "      <td>14</td>\n",
       "      <td>112</td>\n",
       "    </tr>\n",
       "  </tbody>\n",
       "</table>\n",
       "</div>"
      ],
      "text/plain": [
       "      InvoiceNo StockCode                    Description  Quantity  \\\n",
       "90794    560103     22138  BAKING SET 9 PIECE RETROSPOT          3   \n",
       "\n",
       "       InvoiceDate  UnitPrice  CustomerID  Total  RFM  TotalInt  RFMInt  \n",
       "90794        15170       4.95       17837  14.85  112        14     112  "
      ]
     },
     "execution_count": 116,
     "metadata": {},
     "output_type": "execute_result"
    }
   ],
   "source": [
    "df_invoice_line.sample()"
   ]
  },
  {
   "cell_type": "markdown",
   "metadata": {},
   "source": [
    "### Total = F(Invoices)"
   ]
  },
  {
   "cell_type": "code",
   "execution_count": 140,
   "metadata": {
    "scrolled": true
   },
   "outputs": [
    {
     "data": {
      "text/html": [
       "<div>\n",
       "<style scoped>\n",
       "    .dataframe tbody tr th:only-of-type {\n",
       "        vertical-align: middle;\n",
       "    }\n",
       "\n",
       "    .dataframe tbody tr th {\n",
       "        vertical-align: top;\n",
       "    }\n",
       "\n",
       "    .dataframe thead th {\n",
       "        text-align: right;\n",
       "    }\n",
       "</style>\n",
       "<table border=\"1\" class=\"dataframe\">\n",
       "  <thead>\n",
       "    <tr style=\"text-align: right;\">\n",
       "      <th></th>\n",
       "      <th>Invoices</th>\n",
       "      <th>Total</th>\n",
       "    </tr>\n",
       "    <tr>\n",
       "      <th>CustomerID</th>\n",
       "      <th></th>\n",
       "      <th></th>\n",
       "    </tr>\n",
       "  </thead>\n",
       "  <tbody>\n",
       "    <tr>\n",
       "      <th>14778</th>\n",
       "      <td>35</td>\n",
       "      <td>730.86</td>\n",
       "    </tr>\n",
       "  </tbody>\n",
       "</table>\n",
       "</div>"
      ],
      "text/plain": [
       "            Invoices   Total\n",
       "CustomerID                  \n",
       "14778             35  730.86"
      ]
     },
     "execution_count": 140,
     "metadata": {},
     "output_type": "execute_result"
    },
    {
     "data": {
      "image/png": "[encoded data removed]",
      "text/plain": [
       "<matplotlib.figure.Figure at 0xa4fc562c>"
      ]
     },
     "metadata": {},
     "output_type": "display_data"
    }
   ],
   "source": [
    "import seaborn as sns\n",
    "feature1 = \"Total\"\n",
    "feature2 = \"InvoiceNo\"\n",
    "df_data = df_invoice_line[[feature1,feature2,'CustomerID']]\n",
    "df_data_total = df_data.groupby('CustomerID').agg({feature1: lambda x: sum(x)})\n",
    "df_data_total = df_data_total.query(feature1+'<1000')\n",
    "\n",
    "df_data_inv = df_data.groupby('CustomerID').agg({feature2: lambda x: len(x)})\n",
    "df_data_inv = df_data_inv.query(feature2+'<100')\n",
    "df_data_inv.rename(columns={feature2:'Invoices'},inplace=True)\n",
    "feature2 = \"Invoices\"\n",
    "\n",
    "df_data_all = pd.concat([df_data_inv, df_data_total], axis=1, join='inner')\n",
    "if True:\n",
    "    with sns.axes_style('white'):\n",
    "        sns.jointplot(feature2, feature1, df_data_all, kind='kde');\n",
    "        #sns.jointplot(\"InvoiceNo\", \"Total\", df_data_all, kind='hex');\n",
    "        \n",
    "df_data_all.sample()\n"
   ]
  },
  {
   "cell_type": "markdown",
   "metadata": {},
   "source": [
    "### Total = F(Invoice lines)"
   ]
  },
  {
   "cell_type": "code",
   "execution_count": 136,
   "metadata": {},
   "outputs": [
    {
     "data": {
      "image/png": "[encoded data removed]",
      "text/plain": [
       "<matplotlib.figure.Figure at 0xa4a9282c>"
      ]
     },
     "metadata": {},
     "output_type": "display_data"
    }
   ],
   "source": [
    "import seaborn as sns\n",
    "feature1= 'Total'\n",
    "feature2= 'StockCode'\n",
    "df_data = df_invoice_line[[feature1, feature2,'CustomerID']]\n",
    "df_data_feature1 = df_data.groupby('CustomerID').agg({feature1: lambda x: sum(x)})\n",
    "df_data_feature1 = df_data_total.query(feature1+'<1000')\n",
    "\n",
    "df_data_feature2 = df_data.groupby('CustomerID').agg({feature2: lambda x: len(x)})\n",
    "df_data_feature2 = df_data_feature2.query(feature2+'<100')\n",
    "df_data_feature2.rename(columns={'StockCode':'InvoiceLines'}, inplace=True)\n",
    "feature2 = 'InvoiceLines'\n",
    "\n",
    "df_data_all = pd.concat([df_data_feature1, df_data_feature2], axis=1, join='inner')\n",
    "if True:\n",
    "    with sns.axes_style('white'):\n",
    "        sns.jointplot(feature2, feature1, df_data_all, kind='kde', title=\"Total=f(\"+feature2+\")\");\n",
    "        #sns.jointplot(feature1, feature2, df_data_all, kind='hex');\n",
    "        "
   ]
  },
  {
   "cell_type": "code",
   "execution_count": 120,
   "metadata": {},
   "outputs": [
    {
     "data": {
      "text/html": [
       "<div>\n",
       "<style scoped>\n",
       "    .dataframe tbody tr th:only-of-type {\n",
       "        vertical-align: middle;\n",
       "    }\n",
       "\n",
       "    .dataframe tbody tr th {\n",
       "        vertical-align: top;\n",
       "    }\n",
       "\n",
       "    .dataframe thead th {\n",
       "        text-align: right;\n",
       "    }\n",
       "</style>\n",
       "<table border=\"1\" class=\"dataframe\">\n",
       "  <thead>\n",
       "    <tr style=\"text-align: right;\">\n",
       "      <th></th>\n",
       "      <th>Total</th>\n",
       "      <th>UnitPrice</th>\n",
       "    </tr>\n",
       "    <tr>\n",
       "      <th>CustomerID</th>\n",
       "      <th></th>\n",
       "      <th></th>\n",
       "    </tr>\n",
       "  </thead>\n",
       "  <tbody>\n",
       "    <tr>\n",
       "      <th>13210</th>\n",
       "      <td>353.48</td>\n",
       "      <td>1.511818</td>\n",
       "    </tr>\n",
       "  </tbody>\n",
       "</table>\n",
       "</div>"
      ],
      "text/plain": [
       "             Total  UnitPrice\n",
       "CustomerID                   \n",
       "13210       353.48   1.511818"
      ]
     },
     "execution_count": 120,
     "metadata": {},
     "output_type": "execute_result"
    },
    {
     "data": {
      "image/png": "[encoded data removed]",
      "text/plain": [
       "<matplotlib.figure.Figure at 0xa5200a4c>"
      ]
     },
     "metadata": {},
     "output_type": "display_data"
    },
    {
     "data": {
      "image/png": "[encoded data removed]",
      "text/plain": [
       "<matplotlib.figure.Figure at 0xa4fc7acc>"
      ]
     },
     "metadata": {},
     "output_type": "display_data"
    }
   ],
   "source": [
    "import seaborn as sns\n",
    "feature1= 'Total'\n",
    "feature2= 'UnitPrice'\n",
    "df_data = df_invoice_line[[feature1, feature2,'CustomerID']]\n",
    "df_data_feature1 = df_data.groupby('CustomerID').agg({feature1: lambda x: sum(x)})\n",
    "df_data_feature1 = df_data_total.query(feature1+'<1000')\n",
    "\n",
    "df_data_feature2 = df_data.groupby('CustomerID').agg({feature2: lambda x: sum(x)/len(x)})\n",
    "#df_data_feature2 = df_data_feature2.query(feature2+'<100')\n",
    "\n",
    "\n",
    "df_data_all = pd.concat([df_data_feature1, df_data_feature2], axis=1, join='inner')\n",
    "if True:\n",
    "    with sns.axes_style('white'):\n",
    "        sns.jointplot(feature1, feature2, df_data_all, kind='kde');\n",
    "        sns.jointplot(feature1, feature2, df_data_all, kind='hex');\n",
    "        \n",
    "df_data_all.sample()\n"
   ]
  },
  {
   "cell_type": "markdown",
   "metadata": {},
   "source": [
    "### Total = F(Quantities)"
   ]
  },
  {
   "cell_type": "code",
   "execution_count": 141,
   "metadata": {},
   "outputs": [
    {
     "data": {
      "image/png": "[encoded data removed]",
      "text/plain": [
       "<matplotlib.figure.Figure at 0xa4963fcc>"
      ]
     },
     "metadata": {},
     "output_type": "display_data"
    }
   ],
   "source": [
    "import seaborn as sns\n",
    "feature1= 'Total'\n",
    "feature2= 'Quantity'\n",
    "df_data = df_invoice_line[[feature1, feature2,'CustomerID']]\n",
    "df_data_feature1 = df_data.groupby('CustomerID').agg({feature1: lambda x: sum(x)})\n",
    "df_data_feature1 = df_data_total.query(feature1+'<1000')\n",
    "\n",
    "df_data_feature2 = df_data.groupby('CustomerID').agg({feature2: lambda x: sum(x)})\n",
    "df_data_feature2 = df_data_feature2.query(feature2+'<1000')\n",
    "\n",
    "\n",
    "df_data_all = pd.concat([df_data_feature1, df_data_feature2], axis=1, join='inner')\n",
    "if True:\n",
    "    with sns.axes_style('white'):\n",
    "        sns.jointplot(feature2, feature1, df_data_all, kind='kde');\n",
    "        \n"
   ]
  },
  {
   "cell_type": "markdown",
   "metadata": {},
   "source": [
    "# <font color='blus'>One hot encoding of RFM values </font>"
   ]
  },
  {
   "cell_type": "code",
   "execution_count": 9,
   "metadata": {},
   "outputs": [
    {
     "name": "stdout",
     "output_type": "stream",
     "text": [
      "(2124, 59)\n",
      "Index(['w_rfm_0', 'w_rfm_1', 'w_rfm_2', 'w_rfm_3', 'w_rfm_4', 'w_rfm_5',\n",
      "       'w_rfm_6', 'w_rfm_7', 'w_rfm_8', 'w_rfm_9', 'w_rfm_10', 'w_rfm_11',\n",
      "       'w_rfm_12', 'w_rfm_13', 'w_rfm_14', 'w_rfm_15', 'w_rfm_16', 'w_rfm_17',\n",
      "       'w_rfm_18', 'w_rfm_19', 'w_rfm_20', 'w_rfm_21', 'w_rfm_22', 'w_rfm_23',\n",
      "       'w_rfm_24', 'w_rfm_25', 'w_rfm_26', 'w_rfm_27', 'w_rfm_28', 'w_rfm_29',\n",
      "       'w_rfm_30', 'w_rfm_31', 'w_rfm_32', 'w_rfm_33', 'w_rfm_34', 'w_rfm_35',\n",
      "       'w_rfm_36', 'w_rfm_37', 'w_rfm_38', 'w_rfm_39', 'w_rfm_40', 'w_rfm_41',\n",
      "       'w_rfm_42', 'w_rfm_43', 'w_rfm_44', 'w_rfm_45', 'w_rfm_46', 'w_rfm_47',\n",
      "       'w_rfm_48', 'w_rfm_49', 'w_rfm_50', 'w_rfm_51', 'w_rfm_52', 'w_rfm_53',\n",
      "       'w_rfm_54', 'w_rfm_55', 'w_rfm_56', 'w_rfm_57', 'w_rfm_58'],\n",
      "      dtype='object')\n"
     ]
    }
   ],
   "source": [
    "import pandas as pd\n",
    "\n",
    "\n",
    "rfm_encoder, df_RFM_encoded = p5_util.df_rfm_one_hot_encode(df_RFM,'RFM')\n",
    "df_encoded, list_col_unchanged = p5_util.df_rename_columns(df_RFM_encoded, df_RFM_encoded.columns, 'w_rfm_')\n",
    "print(df_RFM_encoded.shape)\n",
    "print(df_RFM_encoded.columns)"
   ]
  },
  {
   "cell_type": "markdown",
   "metadata": {},
   "source": [
    "#### Backup dumped file "
   ]
  },
  {
   "cell_type": "code",
   "execution_count": 10,
   "metadata": {},
   "outputs": [],
   "source": [
    "import p5_util\n",
    "\n",
    "fileName = './data/df_customers_RFM.dump'\n",
    "p5_util.object_dump(df_RFM_encoded, fileName)"
   ]
  },
  {
   "cell_type": "markdown",
   "metadata": {},
   "source": [
    "# <font color='blus'> PCA over RFM : none</font>"
   ]
  },
  {
   "cell_type": "markdown",
   "metadata": {},
   "source": [
    "#### Restore dataframe "
   ]
  },
  {
   "cell_type": "raw",
   "metadata": {},
   "source": [
    "import p5_util\n",
    "\n",
    "if is_reloaded is True:\n",
    "    fileName = './data/df_customers_RFM.dump'\n",
    "    df_customers_rfm = p5_util.object_load(fileName)\n",
    "    print(df_customers_rfm.shape)"
   ]
  },
  {
   "cell_type": "raw",
   "metadata": {},
   "source": [
    "import p3_util_plot\n",
    "z__ = p3_util_plot.df_pca_all_plot(df_customers_rfm, plot=True)"
   ]
  },
  {
   "cell_type": "markdown",
   "metadata": {},
   "source": [
    "# <font color='blus'> Clustering RFM features</font>"
   ]
  },
  {
   "cell_type": "markdown",
   "metadata": {},
   "source": [
    "#### Loading dumped file into *df_customers* dataframe"
   ]
  },
  {
   "cell_type": "code",
   "execution_count": 11,
   "metadata": {},
   "outputs": [
    {
     "name": "stdout",
     "output_type": "stream",
     "text": [
      "p5_util.object_load : fileName= ./data/df_customers_rfm.dump\n",
      "(2124, 59)\n"
     ]
    }
   ],
   "source": [
    "import p5_util\n",
    "if is_reloaded is True:\n",
    "    fileName = './data/df_customers_rfm.dump'\n",
    "    df_customers = p5_util.object_load(fileName)\n",
    "    print(df_customers.shape)"
   ]
  },
  {
   "cell_type": "markdown",
   "metadata": {},
   "source": [
    "## <font color='blue'> Kmeans Clustering time features</font>"
   ]
  },
  {
   "cell_type": "code",
   "execution_count": 12,
   "metadata": {},
   "outputs": [
    {
     "name": "stdout",
     "output_type": "stream",
     "text": [
      "Clustering : 1 clusters\n",
      "Clustering : 2 clusters\n",
      "Clustering : 3 clusters\n",
      "Clustering : 4 clusters\n",
      "Clustering : 5 clusters\n",
      "Clustering : 6 clusters\n",
      "Clustering : 7 clusters\n",
      "Clustering : 8 clusters\n",
      "Clustering : 9 clusters\n",
      "Clustering : 10 clusters\n"
     ]
    }
   ],
   "source": [
    "import p5_util\n",
    "cluster_start = 1\n",
    "cluster_end = 11\n",
    "dict_kmeans = p5_util.kmeans_scan_inter_inertia(df_customers, cluster_start, cluster_end)"
   ]
  },
  {
   "cell_type": "markdown",
   "metadata": {},
   "source": [
    "#### Save of Kmeans clustering scan from time features into a dumped file"
   ]
  },
  {
   "cell_type": "code",
   "execution_count": 13,
   "metadata": {},
   "outputs": [],
   "source": [
    "import p5_util\n",
    "\n",
    "fileName = './data/clustering_dict_kmeans_RFM.dump'\n",
    "p5_util.object_dump(dict_kmeans, fileName)"
   ]
  },
  {
   "cell_type": "markdown",
   "metadata": {},
   "source": [
    "#### Time features : Plot Clusters = F(inter-inertia)"
   ]
  },
  {
   "cell_type": "code",
   "execution_count": 14,
   "metadata": {},
   "outputs": [
    {
     "name": "stdout",
     "output_type": "stream",
     "text": [
      "p5_util.object_load : fileName= ./data/clustering_dict_kmeans_RFM.dump\n",
      "Records into Time feaures dict_kmeans= 10\n",
      "1 10\n"
     ]
    },
    {
     "data": {
      "image/png": "[encoded data removed]",
      "text/plain": [
       "<matplotlib.figure.Figure at 0xaace184c>"
      ]
     },
     "metadata": {},
     "output_type": "display_data"
    }
   ],
   "source": [
    "import p5_util_plot\n",
    "import p5_util\n",
    "\n",
    "if is_reloaded is True:\n",
    "    fileName = './data/clustering_dict_kmeans_RFM.dump'\n",
    "    dict_kmeans = p5_util.object_load(fileName)\n",
    "    print(\"Records into Time feaures dict_kmeans= \"+str(len(dict_kmeans)))\n",
    "\n",
    "x_label_0 = 'RFM : Nb. clusters'\n",
    "x_label_1 = 'RFM : Nb. clusters'\n",
    "cluster_start = list(dict_kmeans.keys())[0]\n",
    "cluster_end = list(dict_kmeans.keys())[len(dict_kmeans)-1]\n",
    "print(cluster_start, cluster_end)\n",
    "p5_util_plot.plot_kmeans_interInertia(dict_kmeans, cluster_start, cluster_end\\\n",
    "                             ,[x_label_0, x_label_1]\\\n",
    "                             ,p_rows=1, p_cols=2, p_figsize=(20,10))"
   ]
  },
  {
   "cell_type": "markdown",
   "metadata": {},
   "source": [
    "#### Clustering : RFM silhouette"
   ]
  },
  {
   "cell_type": "code",
   "execution_count": 15,
   "metadata": {
    "scrolled": true
   },
   "outputs": [
    {
     "name": "stdout",
     "output_type": "stream",
     "text": [
      "p5_util.object_load : fileName= ./data/df_customers_rfm.dump\n",
      "Time features : (2124, 59)\n",
      "p5_util.object_load : fileName= ./data/clustering_dict_kmeans_RFM.dump\n",
      "Clusters into RFM features dict_kmeans= 10\n",
      "Cluster start = 1 Cluster end= 10\n",
      "Cluster 2 done!\n",
      "Cluster 3 done!\n",
      "Cluster 4 done!\n",
      "Cluster 5 done!\n",
      "Cluster 6 done!\n",
      "Cluster 7 done!\n",
      "Cluster 8 done!\n",
      "Cluster 9 done!\n"
     ]
    }
   ],
   "source": [
    "import p5_util\n",
    "import p5_util_plot\n",
    "\n",
    "if True:\n",
    "    fileName = './data/df_customers_rfm.dump'\n",
    "    df_customers = p5_util.object_load(fileName)\n",
    "    print(\"Time features : \"+str(df_customers.shape))\n",
    "    \n",
    "    #-------------------------------------------------------------------------------\n",
    "    # Use kmeans dictionary to get numbers of clusters\n",
    "    #-------------------------------------------------------------------------------\n",
    "    fileName = './data/clustering_dict_kmeans_RFM.dump'\n",
    "    dict_kmeans = p5_util.object_load(fileName)\n",
    "    print(\"Clusters into RFM features dict_kmeans= \"+str(len(dict_kmeans)))\n",
    "    cluster_start = list(dict_kmeans.keys())[0]\n",
    "    #if 1 == cluster_start :\n",
    "    #    cluster_start = 2\n",
    "    cluster_end = list(dict_kmeans.keys())[len(dict_kmeans)-1]\n",
    "    print(\"Cluster start = \"+str(cluster_start)+\" Cluster end= \"+str(cluster_end))\n",
    "\n",
    "\n",
    "dict_cluster_kmeans_silhouette = p5_util.kmeans_scan_silhouette(df_customers, cluster_start, cluster_end)"
   ]
  },
  {
   "cell_type": "markdown",
   "metadata": {},
   "source": [
    "#### Backup silhouette clustering result"
   ]
  },
  {
   "cell_type": "code",
   "execution_count": 16,
   "metadata": {},
   "outputs": [],
   "source": [
    "import p5_util\n",
    "fileName = './data/dict_cluster_kmeans_silhouette_RFM.dump'\n",
    "p5_util.object_dump(dict_cluster_kmeans_silhouette,fileName)"
   ]
  },
  {
   "cell_type": "markdown",
   "metadata": {},
   "source": [
    "#### Plotting silhouette = F(nb clusters)"
   ]
  },
  {
   "cell_type": "code",
   "execution_count": 17,
   "metadata": {},
   "outputs": [
    {
     "data": {
      "image/png": "[encoded data removed]",
      "text/plain": [
       "<matplotlib.figure.Figure at 0xa5277b6c>"
      ]
     },
     "metadata": {},
     "output_type": "display_data"
    }
   ],
   "source": [
    "p_title='RFM : Kmeans Silhouette'\n",
    "p5_util_plot.plot_kmeans_silhouette(dict_cluster_kmeans_silhouette, p_title, p_figsize=(10,10))"
   ]
  },
  {
   "cell_type": "markdown",
   "metadata": {},
   "source": [
    "Coefficient increases as number of clusters increase."
   ]
  },
  {
   "cell_type": "markdown",
   "metadata": {},
   "source": [
    "### <font color='blue'>Cluster model with best number of clusters</font>"
   ]
  },
  {
   "cell_type": "code",
   "execution_count": 18,
   "metadata": {},
   "outputs": [],
   "source": [
    "n_cluster=8"
   ]
  },
  {
   "cell_type": "code",
   "execution_count": 19,
   "metadata": {},
   "outputs": [],
   "source": [
    "from sklearn.cluster import KMeans\n",
    "from sklearn import metrics\n",
    "X = df_customers.values\n",
    "\n",
    "#csr_invoice_matrix = sparse.csr_matrix(df_RFM_encoded.values)\n",
    "cluster_kmean = KMeans(n_clusters=n_cluster).fit(X)\n",
    "\n",
    "# Predict the cluster for each data point\n",
    "preds_kmean = cluster_kmean.predict(X)"
   ]
  },
  {
   "cell_type": "markdown",
   "metadata": {},
   "source": [
    "### <font color='blue'>Adding *cluster* issue fro clustering into *df_customers*  as a new feature</font>"
   ]
  },
  {
   "cell_type": "code",
   "execution_count": 20,
   "metadata": {},
   "outputs": [
    {
     "data": {
      "text/plain": [
       "((2124, 59), (2124,))"
      ]
     },
     "execution_count": 20,
     "metadata": {},
     "output_type": "execute_result"
    }
   ],
   "source": [
    "if 'cluster' in df_customers.columns:\n",
    "    del(df_customers['cluster'])\n",
    "df_customers.shape,preds_kmean.shape"
   ]
  },
  {
   "cell_type": "code",
   "execution_count": 21,
   "metadata": {},
   "outputs": [
    {
     "name": "stdout",
     "output_type": "stream",
     "text": [
      "(2124, 59)\n",
      "(2124, 60)\n"
     ]
    }
   ],
   "source": [
    "import p5_util\n",
    "\n",
    "print(df_customers.shape)\n",
    "df_customers = p5_util.df_add_cluster(df_customers, preds_kmean)\n",
    "print(df_customers.shape)"
   ]
  },
  {
   "cell_type": "code",
   "execution_count": 22,
   "metadata": {},
   "outputs": [
    {
     "data": {
      "text/plain": [
       "Index(['cluster', 'w_rfm_0', 'w_rfm_1', 'w_rfm_2', 'w_rfm_3', 'w_rfm_4',\n",
       "       'w_rfm_5', 'w_rfm_6', 'w_rfm_7', 'w_rfm_8', 'w_rfm_9', 'w_rfm_10',\n",
       "       'w_rfm_11', 'w_rfm_12', 'w_rfm_13', 'w_rfm_14', 'w_rfm_15', 'w_rfm_16',\n",
       "       'w_rfm_17', 'w_rfm_18', 'w_rfm_19', 'w_rfm_20', 'w_rfm_21', 'w_rfm_22',\n",
       "       'w_rfm_23', 'w_rfm_24', 'w_rfm_25', 'w_rfm_26', 'w_rfm_27', 'w_rfm_28',\n",
       "       'w_rfm_29', 'w_rfm_30', 'w_rfm_31', 'w_rfm_32', 'w_rfm_33', 'w_rfm_34',\n",
       "       'w_rfm_35', 'w_rfm_36', 'w_rfm_37', 'w_rfm_38', 'w_rfm_39', 'w_rfm_40',\n",
       "       'w_rfm_41', 'w_rfm_42', 'w_rfm_43', 'w_rfm_44', 'w_rfm_45', 'w_rfm_46',\n",
       "       'w_rfm_47', 'w_rfm_48', 'w_rfm_49', 'w_rfm_50', 'w_rfm_51', 'w_rfm_52',\n",
       "       'w_rfm_53', 'w_rfm_54', 'w_rfm_55', 'w_rfm_56', 'w_rfm_57', 'w_rfm_58'],\n",
       "      dtype='object')"
      ]
     },
     "execution_count": 22,
     "metadata": {},
     "output_type": "execute_result"
    }
   ],
   "source": [
    "df_customers.columns"
   ]
  },
  {
   "cell_type": "markdown",
   "metadata": {},
   "source": [
    "### <font color='blue'>Showing elements count per cluster</font>"
   ]
  },
  {
   "cell_type": "code",
   "execution_count": 23,
   "metadata": {},
   "outputs": [
    {
     "name": "stdout",
     "output_type": "stream",
     "text": [
      "Clusters = [0 1 2 3 4 5 6 7]\n",
      "Population cumulée par cluster = 2124\n",
      "         Count\n",
      "cluster       \n",
      "0          973\n",
      "1           99\n",
      "2           92\n",
      "3           93\n",
      "4          106\n",
      "5          109\n",
      "6           63\n",
      "7          589\n"
     ]
    },
    {
     "data": {
      "image/png": "[encoded data removed]",
      "text/plain": [
       "<matplotlib.figure.Figure at 0xa525daac>"
      ]
     },
     "metadata": {},
     "output_type": "display_data"
    }
   ],
   "source": [
    "import p5_util_plot\n",
    "p5_util_plot.plot_cluster_frequency(df_customers, p_title='Kmeans RFM ')"
   ]
  },
  {
   "cell_type": "markdown",
   "metadata": {},
   "source": [
    "# <font color='blus'> DBSCAN clustering</font>"
   ]
  },
  {
   "cell_type": "markdown",
   "metadata": {},
   "source": [
    "#### Distances distribution"
   ]
  },
  {
   "cell_type": "code",
   "execution_count": 24,
   "metadata": {},
   "outputs": [
    {
     "name": "stdout",
     "output_type": "stream",
     "text": [
      "0.0 1.4142135623730951\n",
      "Distance median = 1.4142135623730951\n",
      "Nb elts de distances= 2254626\n",
      "Distance elts computing : n*(n+1)/2 - n = 2254626\n"
     ]
    },
    {
     "data": {
      "text/html": [
       "<div>\n",
       "<style scoped>\n",
       "    .dataframe tbody tr th:only-of-type {\n",
       "        vertical-align: middle;\n",
       "    }\n",
       "\n",
       "    .dataframe tbody tr th {\n",
       "        vertical-align: top;\n",
       "    }\n",
       "\n",
       "    .dataframe thead th {\n",
       "        text-align: right;\n",
       "    }\n",
       "</style>\n",
       "<table border=\"1\" class=\"dataframe\">\n",
       "  <thead>\n",
       "    <tr style=\"text-align: right;\">\n",
       "      <th></th>\n",
       "      <th>Distance</th>\n",
       "    </tr>\n",
       "  </thead>\n",
       "  <tbody>\n",
       "    <tr>\n",
       "      <th>0.15</th>\n",
       "      <td>1.414214</td>\n",
       "    </tr>\n",
       "    <tr>\n",
       "      <th>0.25</th>\n",
       "      <td>1.414214</td>\n",
       "    </tr>\n",
       "    <tr>\n",
       "      <th>0.50</th>\n",
       "      <td>1.414214</td>\n",
       "    </tr>\n",
       "    <tr>\n",
       "      <th>0.75</th>\n",
       "      <td>1.414214</td>\n",
       "    </tr>\n",
       "    <tr>\n",
       "      <th>0.95</th>\n",
       "      <td>1.414214</td>\n",
       "    </tr>\n",
       "  </tbody>\n",
       "</table>\n",
       "</div>"
      ],
      "text/plain": [
       "      Distance\n",
       "0.15  1.414214\n",
       "0.25  1.414214\n",
       "0.50  1.414214\n",
       "0.75  1.414214\n",
       "0.95  1.414214"
      ]
     },
     "execution_count": 24,
     "metadata": {},
     "output_type": "execute_result"
    }
   ],
   "source": [
    "import numpy as np\n",
    "from scipy.spatial.distance import pdist, squareform\n",
    "\n",
    "if 'cluster' in df_customers.columns:\n",
    "    del(df_customers['cluster'])\n",
    "    \n",
    "distances = pdist(df_customers.values, metric='euclidean')\n",
    "\n",
    "print(np.min(distances), np.max(distances))\n",
    "\n",
    "\n",
    "\n",
    "x_med = np.median(distances)\n",
    "print(\"Distance median = \"+str(x_med))\n",
    "print(\"Nb elts de distances= \"+str(len(distances)))\n",
    "len(np.where(distances<x_med)[0])\n",
    "\n",
    "raws = df_customers.shape[0]\n",
    "print(\"Distance elts computing : n*(n+1)/2 - n = \"+str(int((raws*(raws+1)/2)-raws)))\n",
    "\n",
    "df_dist = pd.DataFrame(distances)\n",
    "\n",
    "df_dist_quantiles = df_dist.quantile(q=[0.15, 0.25 ,0.5, 0.75, 0.95])\n",
    "\n",
    "df_dist_quantiles.rename(columns={0:'Distance'},inplace=True)\n",
    "df_dist_quantiles"
   ]
  },
  {
   "cell_type": "code",
   "execution_count": 25,
   "metadata": {},
   "outputs": [],
   "source": [
    "p_eps=1.4"
   ]
  },
  {
   "cell_type": "markdown",
   "metadata": {},
   "source": [
    "#### Computing nb neighbours for 95% fo distances"
   ]
  },
  {
   "cell_type": "code",
   "execution_count": 26,
   "metadata": {},
   "outputs": [
    {
     "name": "stdout",
     "output_type": "stream",
     "text": [
      "(2124, 2124)\n"
     ]
    }
   ],
   "source": [
    "import numpy as np\n",
    "\n",
    "dist_matrix = squareform(distances)\n",
    "print(dist_matrix.shape)\n",
    "dict_ball_neighbour = dict()\n",
    "for raw in range(0,dist_matrix.shape[0]):\n",
    "    dict_ball_neighbour[raw] = len(np.where(dist_matrix[raw]<= p_eps)[0])"
   ]
  },
  {
   "cell_type": "raw",
   "metadata": {},
   "source": [
    "dict_ball_neighbour"
   ]
  },
  {
   "cell_type": "code",
   "execution_count": 27,
   "metadata": {},
   "outputs": [
    {
     "data": {
      "text/plain": [
       "0.15     29.0\n",
       "0.25     33.0\n",
       "0.50     63.0\n",
       "0.75     92.0\n",
       "0.95    109.0\n",
       "1.00    109.0\n",
       "dtype: float64"
      ]
     },
     "execution_count": 27,
     "metadata": {},
     "output_type": "execute_result"
    }
   ],
   "source": [
    "ser_ball_neighbour = pd.Series(dict_ball_neighbour)\n",
    "ser_neighbour_quantiles = ser_ball_neighbour.quantile(q=[0.15, 0.25 ,0.5, 0.75, 0.95, 1.0])\n",
    "ser_neighbour_quantiles"
   ]
  },
  {
   "cell_type": "markdown",
   "metadata": {},
   "source": [
    "### DBSCAN clustering"
   ]
  },
  {
   "cell_type": "code",
   "execution_count": 28,
   "metadata": {},
   "outputs": [
    {
     "data": {
      "text/plain": [
       "array([-1,  0,  1], dtype=int32)"
      ]
     },
     "execution_count": 28,
     "metadata": {},
     "output_type": "execute_result"
    }
   ],
   "source": [
    "from sklearn.cluster import DBSCAN\n",
    "dbscan = DBSCAN(eps=p_eps,min_samples=100, n_jobs=3)\n",
    "if 'cluster' in df_customers.columns:\n",
    "    del(df_customers['cluster'])\n",
    "pred_dbscan =  dbscan.fit_predict(df_customers)\n",
    "\n",
    "import numpy as np\n",
    "np.unique(pred_dbscan)"
   ]
  },
  {
   "cell_type": "code",
   "execution_count": 29,
   "metadata": {},
   "outputs": [
    {
     "name": "stdout",
     "output_type": "stream",
     "text": [
      "(2124, 59)\n",
      "(2124, 60)\n",
      "Clusters = [-1  0  1]\n",
      "Population cumulée par cluster = 2124\n",
      "         Count\n",
      "cluster       \n",
      "-1        1909\n",
      " 0         109\n",
      " 1         106\n"
     ]
    },
    {
     "data": {
      "image/png": "[encoded data removed]",
      "text/plain": [
       "<matplotlib.figure.Figure at 0xa527b76c>"
      ]
     },
     "metadata": {},
     "output_type": "display_data"
    }
   ],
   "source": [
    "import p5_util\n",
    "import p5_util_plot\n",
    "\n",
    "print(df_customers.shape)\n",
    "df_customers = p5_util.df_add_cluster(df_customers, pred_dbscan)\n",
    "print(df_customers.shape)\n",
    "p5_util_plot.plot_cluster_frequency(df_customers)"
   ]
  },
  {
   "cell_type": "markdown",
   "metadata": {},
   "source": [
    "# <font color='blus'>GMM clustering</font>"
   ]
  },
  {
   "cell_type": "markdown",
   "metadata": {},
   "source": [
    "#### Restore dataframe "
   ]
  },
  {
   "cell_type": "code",
   "execution_count": 30,
   "metadata": {},
   "outputs": [
    {
     "name": "stdout",
     "output_type": "stream",
     "text": [
      "p5_util.object_load : fileName= ./data/df_customers_RFM.dump\n",
      "(2124, 59)\n"
     ]
    }
   ],
   "source": [
    "import p5_util\n",
    "\n",
    "if is_reloaded is True:\n",
    "    fileName = './data/df_customers_RFM.dump'\n",
    "    df_customers = p5_util.object_load(fileName)\n",
    "    print(df_customers.shape)"
   ]
  },
  {
   "cell_type": "code",
   "execution_count": 31,
   "metadata": {},
   "outputs": [],
   "source": [
    "if 'cluster' in df_customers.columns:\n",
    "    del(df_customers['cluster'])"
   ]
  },
  {
   "cell_type": "markdown",
   "metadata": {},
   "source": [
    "#### Clusters range to search for"
   ]
  },
  {
   "cell_type": "code",
   "execution_count": 32,
   "metadata": {},
   "outputs": [],
   "source": [
    "cluster_start = 1\n",
    "cluster_end = df_customers.shape[1]"
   ]
  },
  {
   "cell_type": "markdown",
   "metadata": {},
   "source": [
    "#### GMM clustering evaluation : using BIC and AIC criterias\n",
    "* AIC : mesure de la qualité du modele statistique. C'est une mesure de la perte d'information lorsque plusieurs modeles sont proposés, ceux-cic étant de complexité croissante.\n",
    "* BIC : dérive de l'AIC\n",
    "\n",
    "Objectif : minimiser ces deux critères."
   ]
  },
  {
   "cell_type": "markdown",
   "metadata": {},
   "source": [
    "#### Validation en croisant les hyper-paramètres de GMM"
   ]
  },
  {
   "cell_type": "code",
   "execution_count": 33,
   "metadata": {},
   "outputs": [
    {
     "name": "stdout",
     "output_type": "stream",
     "text": [
      "Clustering from clusters range from : 1 --> 59\n",
      "Covariance type = diag\n",
      "Covariance type = spherical\n",
      "Covariance type = full\n"
     ]
    }
   ],
   "source": [
    "from sklearn.mixture import GaussianMixture\n",
    "#cluster_start = 1\n",
    "#cluster_end = 20\n",
    "X = df_customers.values\n",
    "n_components = np.arange(cluster_start, cluster_end)\n",
    "print(\"Clustering from clusters range from : \"+str(cluster_start)+\" --> \"+str(cluster_end))\n",
    "dict_covariance_type = {1:'diag', 2:'spherical', 3:'full'}\n",
    "dict_list_gmm_model = dict()\n",
    "for key, p_covariance_type in dict_covariance_type.items():\n",
    "    print(\"Covariance type = \"+str(p_covariance_type))\n",
    "    #---------------------------------------------------------------------------------------------\n",
    "    # For a given covariance type, GMM models ranging from cluster_start to cluster_end are built\n",
    "    #---------------------------------------------------------------------------------------------\n",
    "    list_gmm_model = [ GaussianMixture(n, covariance_type=p_covariance_type, random_state=0).fit(X) for n in n_components]\n",
    "    dict_list_gmm_model[p_covariance_type] = list_gmm_model"
   ]
  },
  {
   "cell_type": "markdown",
   "metadata": {},
   "source": [
    "#### Display AIC and BIC considering clusters number"
   ]
  },
  {
   "cell_type": "code",
   "execution_count": 34,
   "metadata": {},
   "outputs": [
    {
     "data": {
      "image/png": "[encoded data removed]",
      "text/plain": [
       "<matplotlib.figure.Figure at 0xa472ce8c>"
      ]
     },
     "metadata": {},
     "output_type": "display_data"
    }
   ],
   "source": [
    "import matplotlib.pyplot as plt\n",
    "plt.figure(figsize=(7,7))\n",
    "for p_covariance_type, list_gmm_model in dict_list_gmm_model.items():\n",
    "    # For any GMM model from list_gmm_model, compute and plot both BIC and AIC \n",
    "    plt.plot(n_components, [model.bic(X) for model in list_gmm_model], label='BIC: '+str(p_covariance_type))\n",
    "    plt.plot(n_components, [model.aic(X) for model in list_gmm_model], label='AIC: '+str(p_covariance_type))\n",
    "    plt.legend(loc='best')\n",
    "    plt.title(\"GMM sur NLP : type covariance : \"+p_covariance_type, color='blue')\n",
    "    plt.xlabel('Nb clusters', color='blue');"
   ]
  },
  {
   "cell_type": "code",
   "execution_count": 35,
   "metadata": {},
   "outputs": [
    {
     "data": {
      "image/png": "[encoded data removed]",
      "text/plain": [
       "<matplotlib.figure.Figure at 0xa51e146c>"
      ]
     },
     "metadata": {},
     "output_type": "display_data"
    }
   ],
   "source": [
    "p_figsize = (21,14)\n",
    "f, ax = plt.subplots(1, 3, figsize=p_figsize, sharex=True, sharey=True)\n",
    "range_area = range(0,3)\n",
    "\n",
    "for t_cov_listModel,col_area in zip(dict_list_gmm_model.items(),range_area):\n",
    "    p_covariance_type = t_cov_listModel[0]\n",
    "    list_gmm_model = t_cov_listModel[1]\n",
    "\n",
    "    # For any GMM model from list_gmm_model, compute and plot both BIC and AIC \n",
    "    ax[col_area].plot(n_components, [model.bic(X) for model in list_gmm_model], label='BIC: '+str(p_covariance_type))\n",
    "    ax[col_area].plot(n_components, [model.aic(X) for model in list_gmm_model], label='AIC: '+str(p_covariance_type))\n",
    "    ax[col_area].legend(loc='best')\n",
    "    ax[col_area].set_title(\"GMM : RFM\", color='blue')\n",
    "    ax[col_area].set_xlabel('Nb clusters', color='blue');"
   ]
  },
  {
   "cell_type": "markdown",
   "metadata": {},
   "source": [
    "#### GMM models evaluation:  silhouette score"
   ]
  },
  {
   "cell_type": "code",
   "execution_count": 36,
   "metadata": {},
   "outputs": [
    {
     "name": "stdout",
     "output_type": "stream",
     "text": [
      "GMM Silhouette score: Covariance = diag\n",
      "GMM Silhouette score: Cluster= 2\n",
      "GMM Silhouette score: Cluster= 3\n",
      "GMM Silhouette score: Cluster= 4\n",
      "GMM Silhouette score: Cluster= 5\n",
      "GMM Silhouette score: Cluster= 6\n",
      "GMM Silhouette score: Cluster= 7\n",
      "GMM Silhouette score: Cluster= 8\n",
      "GMM Silhouette score: Cluster= 9\n",
      "GMM Silhouette score: Cluster= 10\n",
      "GMM Silhouette score: Cluster= 11\n",
      "GMM Silhouette score: Cluster= 12\n",
      "GMM Silhouette score: Cluster= 13\n",
      "GMM Silhouette score: Cluster= 14\n",
      "GMM Silhouette score: Cluster= 15\n",
      "GMM Silhouette score: Cluster= 16\n",
      "GMM Silhouette score: Cluster= 17\n",
      "GMM Silhouette score: Cluster= 18\n",
      "GMM Silhouette score: Cluster= 19\n",
      "GMM Silhouette score: Cluster= 20\n",
      "GMM Silhouette score: Cluster= 21\n",
      "GMM Silhouette score: Cluster= 22\n",
      "GMM Silhouette score: Cluster= 23\n",
      "GMM Silhouette score: Cluster= 24\n",
      "GMM Silhouette score: Cluster= 25\n",
      "GMM Silhouette score: Cluster= 26\n",
      "GMM Silhouette score: Cluster= 27\n",
      "GMM Silhouette score: Cluster= 28\n",
      "GMM Silhouette score: Cluster= 29\n",
      "GMM Silhouette score: Cluster= 30\n",
      "GMM Silhouette score: Cluster= 31\n",
      "GMM Silhouette score: Cluster= 32\n",
      "GMM Silhouette score: Cluster= 33\n",
      "GMM Silhouette score: Cluster= 34\n",
      "GMM Silhouette score: Cluster= 35\n",
      "GMM Silhouette score: Cluster= 36\n",
      "GMM Silhouette score: Cluster= 37\n",
      "GMM Silhouette score: Cluster= 38\n",
      "GMM Silhouette score: Cluster= 39\n",
      "GMM Silhouette score: Cluster= 40\n",
      "GMM Silhouette score: Cluster= 41\n",
      "GMM Silhouette score: Cluster= 42\n",
      "GMM Silhouette score: Cluster= 43\n",
      "GMM Silhouette score: Cluster= 44\n",
      "GMM Silhouette score: Cluster= 45\n",
      "GMM Silhouette score: Cluster= 46\n",
      "GMM Silhouette score: Cluster= 47\n",
      "GMM Silhouette score: Cluster= 48\n",
      "GMM Silhouette score: Cluster= 49\n",
      "GMM Silhouette score: Cluster= 50\n",
      "GMM Silhouette score: Cluster= 51\n",
      "GMM Silhouette score: Cluster= 52\n",
      "GMM Silhouette score: Cluster= 53\n",
      "GMM Silhouette score: Cluster= 54\n",
      "GMM Silhouette score: Cluster= 55\n",
      "GMM Silhouette score: Cluster= 56\n",
      "GMM Silhouette score: Cluster= 57\n",
      "GMM Silhouette score: Cluster= 58\n",
      "\n",
      "GMM Silhouette score: Covariance = spherical\n",
      "GMM Silhouette score: Cluster= 2\n",
      "GMM Silhouette score: Cluster= 3\n",
      "GMM Silhouette score: Cluster= 4\n",
      "GMM Silhouette score: Cluster= 5\n",
      "GMM Silhouette score: Cluster= 6\n",
      "GMM Silhouette score: Cluster= 7\n",
      "GMM Silhouette score: Cluster= 8\n",
      "GMM Silhouette score: Cluster= 9\n",
      "GMM Silhouette score: Cluster= 10\n",
      "GMM Silhouette score: Cluster= 11\n",
      "GMM Silhouette score: Cluster= 12\n",
      "GMM Silhouette score: Cluster= 13\n",
      "GMM Silhouette score: Cluster= 14\n",
      "GMM Silhouette score: Cluster= 15\n",
      "GMM Silhouette score: Cluster= 16\n",
      "GMM Silhouette score: Cluster= 17\n",
      "GMM Silhouette score: Cluster= 18\n",
      "GMM Silhouette score: Cluster= 19\n",
      "GMM Silhouette score: Cluster= 20\n",
      "GMM Silhouette score: Cluster= 21\n",
      "GMM Silhouette score: Cluster= 22\n",
      "GMM Silhouette score: Cluster= 23\n",
      "GMM Silhouette score: Cluster= 24\n",
      "GMM Silhouette score: Cluster= 25\n",
      "GMM Silhouette score: Cluster= 26\n",
      "GMM Silhouette score: Cluster= 27\n",
      "GMM Silhouette score: Cluster= 28\n",
      "GMM Silhouette score: Cluster= 29\n",
      "GMM Silhouette score: Cluster= 30\n",
      "GMM Silhouette score: Cluster= 31\n",
      "GMM Silhouette score: Cluster= 32\n",
      "GMM Silhouette score: Cluster= 33\n",
      "GMM Silhouette score: Cluster= 34\n",
      "GMM Silhouette score: Cluster= 35\n",
      "GMM Silhouette score: Cluster= 36\n",
      "GMM Silhouette score: Cluster= 37\n",
      "GMM Silhouette score: Cluster= 38\n",
      "GMM Silhouette score: Cluster= 39\n",
      "GMM Silhouette score: Cluster= 40\n",
      "GMM Silhouette score: Cluster= 41\n",
      "GMM Silhouette score: Cluster= 42\n",
      "GMM Silhouette score: Cluster= 43\n",
      "GMM Silhouette score: Cluster= 44\n",
      "GMM Silhouette score: Cluster= 45\n",
      "GMM Silhouette score: Cluster= 46\n",
      "GMM Silhouette score: Cluster= 47\n",
      "GMM Silhouette score: Cluster= 48\n",
      "GMM Silhouette score: Cluster= 49\n",
      "GMM Silhouette score: Cluster= 50\n",
      "GMM Silhouette score: Cluster= 51\n",
      "GMM Silhouette score: Cluster= 52\n",
      "GMM Silhouette score: Cluster= 53\n",
      "GMM Silhouette score: Cluster= 54\n",
      "GMM Silhouette score: Cluster= 55\n",
      "GMM Silhouette score: Cluster= 56\n",
      "GMM Silhouette score: Cluster= 57\n",
      "GMM Silhouette score: Cluster= 58\n",
      "\n",
      "GMM Silhouette score: Covariance = full\n",
      "GMM Silhouette score: Cluster= 2\n",
      "GMM Silhouette score: Cluster= 3\n",
      "GMM Silhouette score: Cluster= 4\n",
      "GMM Silhouette score: Cluster= 5\n",
      "GMM Silhouette score: Cluster= 6\n",
      "GMM Silhouette score: Cluster= 7\n",
      "GMM Silhouette score: Cluster= 8\n",
      "GMM Silhouette score: Cluster= 9\n",
      "GMM Silhouette score: Cluster= 10\n",
      "GMM Silhouette score: Cluster= 11\n",
      "GMM Silhouette score: Cluster= 12\n",
      "GMM Silhouette score: Cluster= 13\n",
      "GMM Silhouette score: Cluster= 14\n",
      "GMM Silhouette score: Cluster= 15\n",
      "GMM Silhouette score: Cluster= 16\n",
      "GMM Silhouette score: Cluster= 17\n",
      "GMM Silhouette score: Cluster= 18\n",
      "GMM Silhouette score: Cluster= 19\n",
      "GMM Silhouette score: Cluster= 20\n",
      "GMM Silhouette score: Cluster= 21\n",
      "GMM Silhouette score: Cluster= 22\n",
      "GMM Silhouette score: Cluster= 23\n",
      "GMM Silhouette score: Cluster= 24\n",
      "GMM Silhouette score: Cluster= 25\n",
      "GMM Silhouette score: Cluster= 26\n",
      "GMM Silhouette score: Cluster= 27\n",
      "GMM Silhouette score: Cluster= 28\n",
      "GMM Silhouette score: Cluster= 29\n",
      "GMM Silhouette score: Cluster= 30\n",
      "GMM Silhouette score: Cluster= 31\n",
      "GMM Silhouette score: Cluster= 32\n",
      "GMM Silhouette score: Cluster= 33\n",
      "GMM Silhouette score: Cluster= 34\n",
      "GMM Silhouette score: Cluster= 35\n",
      "GMM Silhouette score: Cluster= 36\n",
      "GMM Silhouette score: Cluster= 37\n",
      "GMM Silhouette score: Cluster= 38\n",
      "GMM Silhouette score: Cluster= 39\n",
      "GMM Silhouette score: Cluster= 40\n",
      "GMM Silhouette score: Cluster= 41\n",
      "GMM Silhouette score: Cluster= 42\n",
      "GMM Silhouette score: Cluster= 43\n",
      "GMM Silhouette score: Cluster= 44\n",
      "GMM Silhouette score: Cluster= 45\n",
      "GMM Silhouette score: Cluster= 46\n",
      "GMM Silhouette score: Cluster= 47\n",
      "GMM Silhouette score: Cluster= 48\n",
      "GMM Silhouette score: Cluster= 49\n",
      "GMM Silhouette score: Cluster= 50\n",
      "GMM Silhouette score: Cluster= 51\n",
      "GMM Silhouette score: Cluster= 52\n",
      "GMM Silhouette score: Cluster= 53\n",
      "GMM Silhouette score: Cluster= 54\n",
      "GMM Silhouette score: Cluster= 55\n",
      "GMM Silhouette score: Cluster= 56\n",
      "GMM Silhouette score: Cluster= 57\n",
      "GMM Silhouette score: Cluster= 58\n",
      "\n"
     ]
    }
   ],
   "source": [
    "from sklearn.metrics import silhouette_score\n",
    "\n",
    "dict_dict_silhouette_score = dict()\n",
    "X =df_customers.values\n",
    "if 1 == cluster_start:\n",
    "    cluster_start = 2\n",
    "\n",
    "for p_covariance_type, list_gmm_model in dict_list_gmm_model.items():\n",
    "    cluster = cluster_start\n",
    "    dict_silhouette_score = dict()\n",
    "    print(\"GMM Silhouette score: Covariance = \"+p_covariance_type)\n",
    "    for gmm_model in list_gmm_model:\n",
    "        if 1 == gmm_model.n_components:\n",
    "            pass\n",
    "        else:\n",
    "            preds_gmm = gmm_model.predict(X)\n",
    "            dict_silhouette_score[cluster] = silhouette_score(X, preds_gmm)\n",
    "            print(\"GMM Silhouette score: Cluster= \"+str(cluster))\n",
    "            cluster +=1\n",
    "    dict_dict_silhouette_score[p_covariance_type] = dict_silhouette_score\n",
    "    print(\"\")"
   ]
  },
  {
   "cell_type": "markdown",
   "metadata": {},
   "source": [
    "#### Plot silhouette score for any type of covariance anf for any type of GMM model\n",
    "\n",
    "* For each covariance type (spherical, diag and full), GMM models ranging from *cluster_start* to *cluster_end* have been built"
   ]
  },
  {
   "cell_type": "code",
   "execution_count": 37,
   "metadata": {},
   "outputs": [
    {
     "data": {
      "image/png": "[encoded data removed]",
      "text/plain": [
       "<matplotlib.figure.Figure at 0x989665ac>"
      ]
     },
     "metadata": {},
     "output_type": "display_data"
    }
   ],
   "source": [
    "import matplotlib.pyplot as plt\n",
    "\n",
    "p_figsize = (21,14)\n",
    "f, ax = plt.subplots(1, 3, figsize=p_figsize, sharex=True, sharey=True)\n",
    "range_area = range(0,3)\n",
    "\n",
    "range_area = range(0,3)\n",
    "for p_covariance_type,col_area in zip(dict_dict_silhouette_score,range_area):\n",
    "    dict_silhouette_score = dict_dict_silhouette_score[p_covariance_type]    \n",
    "    \n",
    "    # For any GMM model from list_gmm_model, compute and plot both BIC and AIC \n",
    "    ax[col_area].plot(dict_silhouette_score.keys(), dict_silhouette_score.values(), label=str(p_covariance_type))\n",
    "    ax[col_area].scatter(dict_silhouette_score.keys(), dict_silhouette_score.values(), label=str(p_covariance_type))\n",
    "    ax[col_area].legend(loc='best')\n",
    "    ax[col_area].set_title(\"GMM : RFM Silhouette\", color='blue')\n",
    "    ax[col_area].set_xlabel('Nb clusters', color='blue');"
   ]
  },
  {
   "cell_type": "markdown",
   "metadata": {},
   "source": [
    "#### Selection of best clusters count"
   ]
  },
  {
   "cell_type": "code",
   "execution_count": 38,
   "metadata": {},
   "outputs": [
    {
     "data": {
      "text/plain": [
       "GaussianMixture(covariance_type='spherical', init_params='kmeans',\n",
       "        max_iter=100, means_init=None, n_components=58, n_init=1,\n",
       "        precisions_init=None, random_state=0, reg_covar=1e-06, tol=0.001,\n",
       "        verbose=0, verbose_interval=10, warm_start=False,\n",
       "        weights_init=None)"
      ]
     },
     "execution_count": 38,
     "metadata": {},
     "output_type": "execute_result"
    }
   ],
   "source": [
    "cluster = cluster_end-2\n",
    "p_covariance_type = 'spherical'\n",
    "list_gmm_model = dict_list_gmm_model[p_covariance_type]\n",
    "gmm_model = list_gmm_model[cluster]\n",
    "n_cluster = gmm_model.n_components\n",
    "gmm_model"
   ]
  },
  {
   "cell_type": "code",
   "execution_count": 39,
   "metadata": {},
   "outputs": [
    {
     "name": "stdout",
     "output_type": "stream",
     "text": [
      "(2124, 59)\n",
      "(2124, 60)\n",
      "Clusters = [ 0  1  2  3  4  5  6  7  8  9 10 11 12 13 14 15 16 17 18 19 20 21 22 23\n",
      " 24 25 26 27 28 29 30 31 32 33 34 35 36 37 38 39 40 41 42 43 44 45 46 47\n",
      " 48 49 50 51 52 53 54 55 56 57]\n",
      "Population cumulée par cluster = 2124\n",
      "         Count\n",
      "cluster       \n",
      "0          106\n",
      "1          109\n",
      "2           90\n",
      "3           99\n",
      "4           98\n",
      "5           92\n",
      "6           93\n",
      "7           63\n",
      "8           84\n",
      "9           91\n",
      "10          51\n",
      "11          45\n",
      "12          46\n",
      "13          48\n",
      "14          81\n",
      "15          42\n",
      "16          45\n",
      "17          68\n",
      "18          34\n",
      "19          62\n",
      "20          43\n",
      "21          41\n",
      "22          60\n",
      "23          33\n",
      "24          30\n",
      "25          33\n",
      "26          30\n",
      "27          29\n",
      "28          28\n",
      "29          29\n",
      "30          31\n",
      "31          24\n",
      "32          28\n",
      "33          27\n",
      "34          25\n",
      "35          22\n",
      "36          22\n",
      "37          15\n",
      "38          13\n",
      "39          13\n",
      "40           6\n",
      "41          15\n",
      "42          11\n",
      "43           8\n",
      "44          12\n",
      "45           6\n",
      "46           9\n",
      "47           6\n",
      "48           4\n",
      "49           4\n",
      "50           3\n",
      "51           2\n",
      "52           4\n",
      "53           4\n",
      "54           2\n",
      "55           2\n",
      "56           1\n",
      "57           2\n"
     ]
    },
    {
     "data": {
      "image/png": "[encoded data removed]",
      "text/plain": [
       "<matplotlib.figure.Figure at 0x9896630c>"
      ]
     },
     "metadata": {},
     "output_type": "display_data"
    }
   ],
   "source": [
    "import p5_util\n",
    "import p5_util_plot\n",
    "if 'cluster' in df_customers.columns:\n",
    "    del(df_customers['cluster'])\n",
    "    \n",
    "pred_gmm = gmm_model.predict(df_customers.values)\n",
    "print(df_customers.shape)\n",
    "df_customers = p5_util.df_add_cluster(df_customers, pred_gmm)\n",
    "print(df_customers.shape)\n",
    "p5_util_plot.plot_cluster_frequency(df_customers)"
   ]
  },
  {
   "cell_type": "markdown",
   "metadata": {},
   "source": [
    "#### Backup of RFM dataframe per customer"
   ]
  },
  {
   "cell_type": "code",
   "execution_count": 40,
   "metadata": {},
   "outputs": [],
   "source": [
    "import p5_util\n",
    "\n",
    "#-----------------------------------------------------------------\n",
    "# cluster column is filtered \n",
    "#-----------------------------------------------------------------\n",
    "list_col = [col for col in df_customers.columns if col not in ['cluster'] ]\n",
    "\n",
    "fileName = './data/df_customers_rfm.dump'\n",
    "p5_util.object_dump(df_customers[list_col], fileName)"
   ]
  },
  {
   "cell_type": "code",
   "execution_count": 41,
   "metadata": {},
   "outputs": [
    {
     "name": "stdout",
     "output_type": "stream",
     "text": [
      "p5_util.object_load : fileName= ./data/df_RFM.dump\n",
      "(2124, 9)\n"
     ]
    }
   ],
   "source": [
    "import p5_util\n",
    "fileName = './data/df_RFM.dump'\n",
    "df = p5_util.object_load(fileName)\n",
    "print(df.shape)"
   ]
  },
  {
   "cell_type": "code",
   "execution_count": 42,
   "metadata": {},
   "outputs": [
    {
     "data": {
      "text/html": [
       "<div>\n",
       "<style scoped>\n",
       "    .dataframe tbody tr th:only-of-type {\n",
       "        vertical-align: middle;\n",
       "    }\n",
       "\n",
       "    .dataframe tbody tr th {\n",
       "        vertical-align: top;\n",
       "    }\n",
       "\n",
       "    .dataframe thead th {\n",
       "        text-align: right;\n",
       "    }\n",
       "</style>\n",
       "<table border=\"1\" class=\"dataframe\">\n",
       "  <thead>\n",
       "    <tr style=\"text-align: right;\">\n",
       "      <th></th>\n",
       "      <th>CustomerID</th>\n",
       "      <th>Frequency</th>\n",
       "      <th>Recency</th>\n",
       "      <th>Monatary</th>\n",
       "      <th>neg_recency</th>\n",
       "      <th>R_score</th>\n",
       "      <th>F_score</th>\n",
       "      <th>M_score</th>\n",
       "      <th>RFM</th>\n",
       "    </tr>\n",
       "  </thead>\n",
       "  <tbody>\n",
       "    <tr>\n",
       "      <th>274</th>\n",
       "      <td>13562</td>\n",
       "      <td>3</td>\n",
       "      <td>81</td>\n",
       "      <td>1799.33</td>\n",
       "      <td>-233</td>\n",
       "      <td>4</td>\n",
       "      <td>2</td>\n",
       "      <td>1</td>\n",
       "      <td>421</td>\n",
       "    </tr>\n",
       "  </tbody>\n",
       "</table>\n",
       "</div>"
      ],
      "text/plain": [
       "     CustomerID  Frequency  Recency  Monatary  neg_recency  R_score  F_score  \\\n",
       "274       13562          3       81   1799.33         -233        4        2   \n",
       "\n",
       "     M_score  RFM  \n",
       "274        1  421  "
      ]
     },
     "execution_count": 42,
     "metadata": {},
     "output_type": "execute_result"
    }
   ],
   "source": [
    "df.sample(1)"
   ]
  },
  {
   "cell_type": "code",
   "execution_count": 43,
   "metadata": {},
   "outputs": [
    {
     "data": {
      "text/html": [
       "<div>\n",
       "<style scoped>\n",
       "    .dataframe tbody tr th:only-of-type {\n",
       "        vertical-align: middle;\n",
       "    }\n",
       "\n",
       "    .dataframe tbody tr th {\n",
       "        vertical-align: top;\n",
       "    }\n",
       "\n",
       "    .dataframe thead th {\n",
       "        text-align: right;\n",
       "    }\n",
       "</style>\n",
       "<table border=\"1\" class=\"dataframe\">\n",
       "  <thead>\n",
       "    <tr style=\"text-align: right;\">\n",
       "      <th></th>\n",
       "      <th>CustID</th>\n",
       "      <th>Frequency</th>\n",
       "      <th>Recency</th>\n",
       "      <th>Monatary</th>\n",
       "      <th>neg_recency</th>\n",
       "      <th>R_score</th>\n",
       "      <th>F_score</th>\n",
       "      <th>M_score</th>\n",
       "      <th>RFM</th>\n",
       "    </tr>\n",
       "    <tr>\n",
       "      <th>CustomerID</th>\n",
       "      <th></th>\n",
       "      <th></th>\n",
       "      <th></th>\n",
       "      <th></th>\n",
       "      <th></th>\n",
       "      <th></th>\n",
       "      <th></th>\n",
       "      <th></th>\n",
       "      <th></th>\n",
       "    </tr>\n",
       "  </thead>\n",
       "  <tbody>\n",
       "    <tr>\n",
       "      <th>13867</th>\n",
       "      <td>13867</td>\n",
       "      <td>3</td>\n",
       "      <td>30</td>\n",
       "      <td>1005.09</td>\n",
       "      <td>-192</td>\n",
       "      <td>4</td>\n",
       "      <td>2</td>\n",
       "      <td>2</td>\n",
       "      <td>422</td>\n",
       "    </tr>\n",
       "  </tbody>\n",
       "</table>\n",
       "</div>"
      ],
      "text/plain": [
       "            CustID  Frequency  Recency  Monatary  neg_recency  R_score  \\\n",
       "CustomerID                                                               \n",
       "13867        13867          3       30   1005.09         -192        4   \n",
       "\n",
       "            F_score  M_score  RFM  \n",
       "CustomerID                         \n",
       "13867             2        2  422  "
      ]
     },
     "execution_count": 43,
     "metadata": {},
     "output_type": "execute_result"
    }
   ],
   "source": [
    "df.index = df.CustomerID\n",
    "df.rename(columns={'CustomerID':'CustID'}, inplace=True)\n",
    "df.sample(1)"
   ]
  },
  {
   "cell_type": "code",
   "execution_count": 44,
   "metadata": {},
   "outputs": [],
   "source": [
    "df = pd.concat([df,df_customers],axis=1, join='inner')"
   ]
  },
  {
   "cell_type": "code",
   "execution_count": 45,
   "metadata": {},
   "outputs": [
    {
     "data": {
      "text/html": [
       "<div>\n",
       "<style scoped>\n",
       "    .dataframe tbody tr th:only-of-type {\n",
       "        vertical-align: middle;\n",
       "    }\n",
       "\n",
       "    .dataframe tbody tr th {\n",
       "        vertical-align: top;\n",
       "    }\n",
       "\n",
       "    .dataframe thead th {\n",
       "        text-align: right;\n",
       "    }\n",
       "</style>\n",
       "<table border=\"1\" class=\"dataframe\">\n",
       "  <thead>\n",
       "    <tr style=\"text-align: right;\">\n",
       "      <th></th>\n",
       "      <th>cluster</th>\n",
       "      <th>w_rfm_0</th>\n",
       "      <th>w_rfm_1</th>\n",
       "      <th>w_rfm_2</th>\n",
       "      <th>w_rfm_3</th>\n",
       "      <th>w_rfm_4</th>\n",
       "      <th>w_rfm_5</th>\n",
       "      <th>w_rfm_6</th>\n",
       "      <th>w_rfm_7</th>\n",
       "      <th>w_rfm_8</th>\n",
       "      <th>...</th>\n",
       "      <th>w_rfm_49</th>\n",
       "      <th>w_rfm_50</th>\n",
       "      <th>w_rfm_51</th>\n",
       "      <th>w_rfm_52</th>\n",
       "      <th>w_rfm_53</th>\n",
       "      <th>w_rfm_54</th>\n",
       "      <th>w_rfm_55</th>\n",
       "      <th>w_rfm_56</th>\n",
       "      <th>w_rfm_57</th>\n",
       "      <th>w_rfm_58</th>\n",
       "    </tr>\n",
       "    <tr>\n",
       "      <th>CustomerID</th>\n",
       "      <th></th>\n",
       "      <th></th>\n",
       "      <th></th>\n",
       "      <th></th>\n",
       "      <th></th>\n",
       "      <th></th>\n",
       "      <th></th>\n",
       "      <th></th>\n",
       "      <th></th>\n",
       "      <th></th>\n",
       "      <th></th>\n",
       "      <th></th>\n",
       "      <th></th>\n",
       "      <th></th>\n",
       "      <th></th>\n",
       "      <th></th>\n",
       "      <th></th>\n",
       "      <th></th>\n",
       "      <th></th>\n",
       "      <th></th>\n",
       "      <th></th>\n",
       "    </tr>\n",
       "  </thead>\n",
       "  <tbody>\n",
       "    <tr>\n",
       "      <th>14527</th>\n",
       "      <td>2</td>\n",
       "      <td>0.0</td>\n",
       "      <td>0.0</td>\n",
       "      <td>0.0</td>\n",
       "      <td>0.0</td>\n",
       "      <td>0.0</td>\n",
       "      <td>0.0</td>\n",
       "      <td>0.0</td>\n",
       "      <td>0.0</td>\n",
       "      <td>0.0</td>\n",
       "      <td>...</td>\n",
       "      <td>0.0</td>\n",
       "      <td>0.0</td>\n",
       "      <td>0.0</td>\n",
       "      <td>0.0</td>\n",
       "      <td>0.0</td>\n",
       "      <td>0.0</td>\n",
       "      <td>0.0</td>\n",
       "      <td>0.0</td>\n",
       "      <td>0.0</td>\n",
       "      <td>0.0</td>\n",
       "    </tr>\n",
       "  </tbody>\n",
       "</table>\n",
       "<p>1 rows × 60 columns</p>\n",
       "</div>"
      ],
      "text/plain": [
       "            cluster  w_rfm_0  w_rfm_1  w_rfm_2  w_rfm_3  w_rfm_4  w_rfm_5  \\\n",
       "CustomerID                                                                  \n",
       "14527             2      0.0      0.0      0.0      0.0      0.0      0.0   \n",
       "\n",
       "            w_rfm_6  w_rfm_7  w_rfm_8    ...     w_rfm_49  w_rfm_50  w_rfm_51  \\\n",
       "CustomerID                               ...                                    \n",
       "14527           0.0      0.0      0.0    ...          0.0       0.0       0.0   \n",
       "\n",
       "            w_rfm_52  w_rfm_53  w_rfm_54  w_rfm_55  w_rfm_56  w_rfm_57  \\\n",
       "CustomerID                                                               \n",
       "14527            0.0       0.0       0.0       0.0       0.0       0.0   \n",
       "\n",
       "            w_rfm_58  \n",
       "CustomerID            \n",
       "14527            0.0  \n",
       "\n",
       "[1 rows x 60 columns]"
      ]
     },
     "execution_count": 45,
     "metadata": {},
     "output_type": "execute_result"
    }
   ],
   "source": [
    "df_customers.sample(1)"
   ]
  },
  {
   "cell_type": "code",
   "execution_count": 46,
   "metadata": {},
   "outputs": [],
   "source": [
    "#df.loc[18220]"
   ]
  },
  {
   "cell_type": "code",
   "execution_count": 47,
   "metadata": {},
   "outputs": [
    {
     "name": "stdout",
     "output_type": "stream",
     "text": [
      "Cluster : 0 RFM = ['144']\n",
      "Cluster : 1 RFM = ['344']\n",
      "Cluster : 2 RFM = ['311']\n",
      "Cluster : 3 RFM = ['444']\n",
      "Cluster : 4 RFM = ['244']\n",
      "Cluster : 5 RFM = ['411']\n",
      "Cluster : 6 RFM = ['111']\n",
      "Cluster : 7 RFM = ['343']\n",
      "Cluster : 8 RFM = ['222']\n",
      "Cluster : 9 RFM = ['211']\n",
      "Cluster : 10 RFM = ['122']\n",
      "Cluster : 11 RFM = ['333']\n",
      "Cluster : 12 RFM = ['133']\n",
      "Cluster : 13 RFM = ['143']\n",
      "Cluster : 14 RFM = ['322']\n",
      "Cluster : 15 RFM = ['421']\n",
      "Cluster : 16 RFM = ['433']\n",
      "Cluster : 17 RFM = ['422']\n",
      "Cluster : 18 RFM = ['321']\n",
      "Cluster : 19 RFM = ['243']\n",
      "Cluster : 20 RFM = ['233']\n",
      "Cluster : 21 RFM = ['432']\n",
      "Cluster : 22 RFM = ['443']\n",
      "Cluster : 23 RFM = ['123']\n",
      "Cluster : 24 RFM = ['132']\n",
      "Cluster : 25 RFM = ['221']\n",
      "Cluster : 26 RFM = ['121']\n",
      "Cluster : 27 RFM = ['134']\n",
      "Cluster : 28 RFM = ['323']\n",
      "Cluster : 29 RFM = ['332']\n",
      "Cluster : 30 RFM = ['223']\n",
      "Cluster : 31 RFM = ['423']\n"
     ]
    }
   ],
   "source": [
    "for cluster in range(0,32):\n",
    "    print(\"Cluster : \"+str(cluster), \"RFM = \"+str(df[df.cluster==cluster][['RFM','cluster']]['RFM'].unique()))"
   ]
  },
  {
   "cell_type": "code",
   "execution_count": 53,
   "metadata": {},
   "outputs": [
    {
     "data": {
      "text/markdown": [
       "<p><font color='green'>**Number of RFM features= 59**</font></p>"
      ],
      "text/plain": [
       "<IPython.core.display.Markdown object>"
      ]
     },
     "metadata": {},
     "output_type": "display_data"
    }
   ],
   "source": [
    "import p3_util_plot\n",
    "p3_util_plot.printmd(\"Number of RFM features= \"+str(len(df['RFM'].unique())))"
   ]
  },
  {
   "cell_type": "markdown",
   "metadata": {},
   "source": [
    "### Print some observations from different clusters"
   ]
  },
  {
   "cell_type": "code",
   "execution_count": 50,
   "metadata": {},
   "outputs": [
    {
     "name": "stdout",
     "output_type": "stream",
     "text": [
      "CustomerID = 16976\n"
     ]
    },
    {
     "data": {
      "text/html": [
       "<div>\n",
       "<style scoped>\n",
       "    .dataframe tbody tr th:only-of-type {\n",
       "        vertical-align: middle;\n",
       "    }\n",
       "\n",
       "    .dataframe tbody tr th {\n",
       "        vertical-align: top;\n",
       "    }\n",
       "\n",
       "    .dataframe thead th {\n",
       "        text-align: right;\n",
       "    }\n",
       "</style>\n",
       "<table border=\"1\" class=\"dataframe\">\n",
       "  <thead>\n",
       "    <tr style=\"text-align: right;\">\n",
       "      <th></th>\n",
       "      <th>InvoiceNo</th>\n",
       "      <th>StockCode</th>\n",
       "      <th>Description</th>\n",
       "      <th>Quantity</th>\n",
       "      <th>InvoiceDate</th>\n",
       "      <th>UnitPrice</th>\n",
       "      <th>CustomerID</th>\n",
       "      <th>Total</th>\n",
       "      <th>RFM</th>\n",
       "    </tr>\n",
       "  </thead>\n",
       "  <tbody>\n",
       "    <tr>\n",
       "      <th>38851</th>\n",
       "      <td>546874</td>\n",
       "      <td>84947</td>\n",
       "      <td>ANTIQUE SILVER TEA GLASS ENGRAVED</td>\n",
       "      <td>72</td>\n",
       "      <td>15051</td>\n",
       "      <td>1.06</td>\n",
       "      <td>16976</td>\n",
       "      <td>76.32</td>\n",
       "      <td>144</td>\n",
       "    </tr>\n",
       "    <tr>\n",
       "      <th>38852</th>\n",
       "      <td>546874</td>\n",
       "      <td>22423</td>\n",
       "      <td>REGENCY CAKESTAND 3 TIER</td>\n",
       "      <td>16</td>\n",
       "      <td>15051</td>\n",
       "      <td>10.95</td>\n",
       "      <td>16976</td>\n",
       "      <td>175.20</td>\n",
       "      <td>144</td>\n",
       "    </tr>\n",
       "  </tbody>\n",
       "</table>\n",
       "</div>"
      ],
      "text/plain": [
       "      InvoiceNo StockCode                        Description  Quantity  \\\n",
       "38851    546874     84947  ANTIQUE SILVER TEA GLASS ENGRAVED        72   \n",
       "38852    546874     22423           REGENCY CAKESTAND 3 TIER        16   \n",
       "\n",
       "       InvoiceDate  UnitPrice  CustomerID   Total  RFM  \n",
       "38851        15051       1.06       16976   76.32  144  \n",
       "38852        15051      10.95       16976  175.20  144  "
      ]
     },
     "execution_count": 50,
     "metadata": {},
     "output_type": "execute_result"
    }
   ],
   "source": [
    "cluster=0\n",
    "#print(\"Cluster : \"+str(cluster), \"RFM = \"+str(df[df.cluster==cluster]))\n",
    "customerID = df[df.cluster==cluster]['CustID'].iloc[0]\n",
    "print(\"CustomerID = \"+str(customerID))\n",
    "\n",
    "df_invoice_line[df_invoice_line.CustomerID==customerID]"
   ]
  },
  {
   "cell_type": "code",
   "execution_count": 51,
   "metadata": {},
   "outputs": [
    {
     "name": "stdout",
     "output_type": "stream",
     "text": [
      "CustomerID = 12747\n"
     ]
    },
    {
     "data": {
      "text/html": [
       "<div>\n",
       "<style scoped>\n",
       "    .dataframe tbody tr th:only-of-type {\n",
       "        vertical-align: middle;\n",
       "    }\n",
       "\n",
       "    .dataframe tbody tr th {\n",
       "        vertical-align: top;\n",
       "    }\n",
       "\n",
       "    .dataframe thead th {\n",
       "        text-align: right;\n",
       "    }\n",
       "</style>\n",
       "<table border=\"1\" class=\"dataframe\">\n",
       "  <thead>\n",
       "    <tr style=\"text-align: right;\">\n",
       "      <th></th>\n",
       "      <th>InvoiceNo</th>\n",
       "      <th>StockCode</th>\n",
       "      <th>Description</th>\n",
       "      <th>Quantity</th>\n",
       "      <th>InvoiceDate</th>\n",
       "      <th>UnitPrice</th>\n",
       "      <th>CustomerID</th>\n",
       "      <th>Total</th>\n",
       "      <th>RFM</th>\n",
       "    </tr>\n",
       "  </thead>\n",
       "  <tbody>\n",
       "    <tr>\n",
       "      <th>3110</th>\n",
       "      <td>537215</td>\n",
       "      <td>85124C</td>\n",
       "      <td>GREEN JUICY FRUIT PHOTO FRAME</td>\n",
       "      <td>12</td>\n",
       "      <td>14949</td>\n",
       "      <td>2.55</td>\n",
       "      <td>12747</td>\n",
       "      <td>30.60</td>\n",
       "      <td>411</td>\n",
       "    </tr>\n",
       "    <tr>\n",
       "      <th>3111</th>\n",
       "      <td>537215</td>\n",
       "      <td>85124B</td>\n",
       "      <td>BLUE JUICY FRUIT PHOTO FRAME</td>\n",
       "      <td>6</td>\n",
       "      <td>14949</td>\n",
       "      <td>2.55</td>\n",
       "      <td>12747</td>\n",
       "      <td>15.30</td>\n",
       "      <td>411</td>\n",
       "    </tr>\n",
       "    <tr>\n",
       "      <th>3112</th>\n",
       "      <td>537215</td>\n",
       "      <td>84879</td>\n",
       "      <td>ASSORTED COLOUR BIRD ORNAMENT</td>\n",
       "      <td>16</td>\n",
       "      <td>14949</td>\n",
       "      <td>1.69</td>\n",
       "      <td>12747</td>\n",
       "      <td>27.04</td>\n",
       "      <td>411</td>\n",
       "    </tr>\n",
       "    <tr>\n",
       "      <th>3113</th>\n",
       "      <td>537215</td>\n",
       "      <td>85062</td>\n",
       "      <td>PEARL CRYSTAL PUMPKIN T-LIGHT HLDR</td>\n",
       "      <td>24</td>\n",
       "      <td>14949</td>\n",
       "      <td>1.65</td>\n",
       "      <td>12747</td>\n",
       "      <td>39.60</td>\n",
       "      <td>411</td>\n",
       "    </tr>\n",
       "    <tr>\n",
       "      <th>3114</th>\n",
       "      <td>537215</td>\n",
       "      <td>85064</td>\n",
       "      <td>CREAM SWEETHEART LETTER RACK</td>\n",
       "      <td>6</td>\n",
       "      <td>14949</td>\n",
       "      <td>5.45</td>\n",
       "      <td>12747</td>\n",
       "      <td>32.70</td>\n",
       "      <td>411</td>\n",
       "    </tr>\n",
       "    <tr>\n",
       "      <th>3115</th>\n",
       "      <td>537215</td>\n",
       "      <td>82484</td>\n",
       "      <td>WOOD BLACK BOARD ANT WHITE FINISH</td>\n",
       "      <td>36</td>\n",
       "      <td>14949</td>\n",
       "      <td>5.55</td>\n",
       "      <td>12747</td>\n",
       "      <td>199.80</td>\n",
       "      <td>411</td>\n",
       "    </tr>\n",
       "    <tr>\n",
       "      <th>3116</th>\n",
       "      <td>537215</td>\n",
       "      <td>21136</td>\n",
       "      <td>PAINTED METAL PEARS ASSORTED</td>\n",
       "      <td>8</td>\n",
       "      <td>14949</td>\n",
       "      <td>1.69</td>\n",
       "      <td>12747</td>\n",
       "      <td>13.52</td>\n",
       "      <td>411</td>\n",
       "    </tr>\n",
       "    <tr>\n",
       "      <th>8540</th>\n",
       "      <td>538537</td>\n",
       "      <td>22795</td>\n",
       "      <td>SWEETHEART RECIPE BOOK STAND</td>\n",
       "      <td>16</td>\n",
       "      <td>14956</td>\n",
       "      <td>5.95</td>\n",
       "      <td>12747</td>\n",
       "      <td>95.20</td>\n",
       "      <td>411</td>\n",
       "    </tr>\n",
       "    <tr>\n",
       "      <th>8541</th>\n",
       "      <td>538537</td>\n",
       "      <td>48138</td>\n",
       "      <td>DOORMAT UNION FLAG</td>\n",
       "      <td>2</td>\n",
       "      <td>14956</td>\n",
       "      <td>7.95</td>\n",
       "      <td>12747</td>\n",
       "      <td>15.90</td>\n",
       "      <td>411</td>\n",
       "    </tr>\n",
       "    <tr>\n",
       "      <th>8542</th>\n",
       "      <td>538537</td>\n",
       "      <td>82494L</td>\n",
       "      <td>WOODEN FRAME ANTIQUE WHITE</td>\n",
       "      <td>24</td>\n",
       "      <td>14956</td>\n",
       "      <td>2.55</td>\n",
       "      <td>12747</td>\n",
       "      <td>61.20</td>\n",
       "      <td>411</td>\n",
       "    </tr>\n",
       "    <tr>\n",
       "      <th>8543</th>\n",
       "      <td>538537</td>\n",
       "      <td>84879</td>\n",
       "      <td>ASSORTED COLOUR BIRD ORNAMENT</td>\n",
       "      <td>24</td>\n",
       "      <td>14956</td>\n",
       "      <td>1.69</td>\n",
       "      <td>12747</td>\n",
       "      <td>40.56</td>\n",
       "      <td>411</td>\n",
       "    </tr>\n",
       "    <tr>\n",
       "      <th>8544</th>\n",
       "      <td>538537</td>\n",
       "      <td>85062</td>\n",
       "      <td>PEARL CRYSTAL PUMPKIN T-LIGHT HLDR</td>\n",
       "      <td>12</td>\n",
       "      <td>14956</td>\n",
       "      <td>1.65</td>\n",
       "      <td>12747</td>\n",
       "      <td>19.80</td>\n",
       "      <td>411</td>\n",
       "    </tr>\n",
       "    <tr>\n",
       "      <th>8545</th>\n",
       "      <td>538537</td>\n",
       "      <td>21754</td>\n",
       "      <td>HOME BUILDING BLOCK WORD</td>\n",
       "      <td>3</td>\n",
       "      <td>14956</td>\n",
       "      <td>5.95</td>\n",
       "      <td>12747</td>\n",
       "      <td>17.85</td>\n",
       "      <td>411</td>\n",
       "    </tr>\n",
       "    <tr>\n",
       "      <th>8546</th>\n",
       "      <td>538537</td>\n",
       "      <td>82484</td>\n",
       "      <td>WOOD BLACK BOARD ANT WHITE FINISH</td>\n",
       "      <td>12</td>\n",
       "      <td>14956</td>\n",
       "      <td>5.55</td>\n",
       "      <td>12747</td>\n",
       "      <td>66.60</td>\n",
       "      <td>411</td>\n",
       "    </tr>\n",
       "    <tr>\n",
       "      <th>8547</th>\n",
       "      <td>538537</td>\n",
       "      <td>82482</td>\n",
       "      <td>WOODEN PICTURE FRAME WHITE FINISH</td>\n",
       "      <td>12</td>\n",
       "      <td>14956</td>\n",
       "      <td>2.55</td>\n",
       "      <td>12747</td>\n",
       "      <td>30.60</td>\n",
       "      <td>411</td>\n",
       "    </tr>\n",
       "    <tr>\n",
       "      <th>18881</th>\n",
       "      <td>541677</td>\n",
       "      <td>21136</td>\n",
       "      <td>PAINTED METAL PEARS ASSORTED</td>\n",
       "      <td>16</td>\n",
       "      <td>14995</td>\n",
       "      <td>1.69</td>\n",
       "      <td>12747</td>\n",
       "      <td>27.04</td>\n",
       "      <td>411</td>\n",
       "    </tr>\n",
       "    <tr>\n",
       "      <th>18882</th>\n",
       "      <td>541677</td>\n",
       "      <td>82484</td>\n",
       "      <td>WOOD BLACK BOARD ANT WHITE FINISH</td>\n",
       "      <td>36</td>\n",
       "      <td>14995</td>\n",
       "      <td>5.55</td>\n",
       "      <td>12747</td>\n",
       "      <td>199.80</td>\n",
       "      <td>411</td>\n",
       "    </tr>\n",
       "    <tr>\n",
       "      <th>18883</th>\n",
       "      <td>541677</td>\n",
       "      <td>82494L</td>\n",
       "      <td>WOODEN FRAME ANTIQUE WHITE</td>\n",
       "      <td>12</td>\n",
       "      <td>14995</td>\n",
       "      <td>2.95</td>\n",
       "      <td>12747</td>\n",
       "      <td>35.40</td>\n",
       "      <td>411</td>\n",
       "    </tr>\n",
       "    <tr>\n",
       "      <th>18884</th>\n",
       "      <td>541677</td>\n",
       "      <td>82482</td>\n",
       "      <td>WOODEN PICTURE FRAME WHITE FINISH</td>\n",
       "      <td>12</td>\n",
       "      <td>14995</td>\n",
       "      <td>2.55</td>\n",
       "      <td>12747</td>\n",
       "      <td>30.60</td>\n",
       "      <td>411</td>\n",
       "    </tr>\n",
       "    <tr>\n",
       "      <th>18885</th>\n",
       "      <td>541677</td>\n",
       "      <td>71459</td>\n",
       "      <td>HANGING JAM JAR T-LIGHT HOLDER</td>\n",
       "      <td>12</td>\n",
       "      <td>14995</td>\n",
       "      <td>0.85</td>\n",
       "      <td>12747</td>\n",
       "      <td>10.20</td>\n",
       "      <td>411</td>\n",
       "    </tr>\n",
       "    <tr>\n",
       "      <th>32545</th>\n",
       "      <td>545321</td>\n",
       "      <td>20711</td>\n",
       "      <td>JUMBO BAG TOYS</td>\n",
       "      <td>20</td>\n",
       "      <td>15035</td>\n",
       "      <td>1.95</td>\n",
       "      <td>12747</td>\n",
       "      <td>39.00</td>\n",
       "      <td>411</td>\n",
       "    </tr>\n",
       "    <tr>\n",
       "      <th>32546</th>\n",
       "      <td>545321</td>\n",
       "      <td>22411</td>\n",
       "      <td>JUMBO SHOPPER VINTAGE RED PAISLEY</td>\n",
       "      <td>10</td>\n",
       "      <td>15035</td>\n",
       "      <td>1.95</td>\n",
       "      <td>12747</td>\n",
       "      <td>19.50</td>\n",
       "      <td>411</td>\n",
       "    </tr>\n",
       "    <tr>\n",
       "      <th>32547</th>\n",
       "      <td>545321</td>\n",
       "      <td>22386</td>\n",
       "      <td>JUMBO BAG PINK POLKADOT</td>\n",
       "      <td>20</td>\n",
       "      <td>15035</td>\n",
       "      <td>1.95</td>\n",
       "      <td>12747</td>\n",
       "      <td>39.00</td>\n",
       "      <td>411</td>\n",
       "    </tr>\n",
       "    <tr>\n",
       "      <th>32548</th>\n",
       "      <td>545321</td>\n",
       "      <td>85099F</td>\n",
       "      <td>JUMBO BAG STRAWBERRY</td>\n",
       "      <td>20</td>\n",
       "      <td>15035</td>\n",
       "      <td>1.95</td>\n",
       "      <td>12747</td>\n",
       "      <td>39.00</td>\n",
       "      <td>411</td>\n",
       "    </tr>\n",
       "    <tr>\n",
       "      <th>32549</th>\n",
       "      <td>545321</td>\n",
       "      <td>48194</td>\n",
       "      <td>DOORMAT HEARTS</td>\n",
       "      <td>2</td>\n",
       "      <td>15035</td>\n",
       "      <td>7.95</td>\n",
       "      <td>12747</td>\n",
       "      <td>15.90</td>\n",
       "      <td>411</td>\n",
       "    </tr>\n",
       "    <tr>\n",
       "      <th>32550</th>\n",
       "      <td>545321</td>\n",
       "      <td>71459</td>\n",
       "      <td>HANGING JAM JAR T-LIGHT HOLDER</td>\n",
       "      <td>12</td>\n",
       "      <td>15035</td>\n",
       "      <td>0.85</td>\n",
       "      <td>12747</td>\n",
       "      <td>10.20</td>\n",
       "      <td>411</td>\n",
       "    </tr>\n",
       "    <tr>\n",
       "      <th>32551</th>\n",
       "      <td>545321</td>\n",
       "      <td>85062</td>\n",
       "      <td>PEARL CRYSTAL PUMPKIN T-LIGHT HLDR</td>\n",
       "      <td>12</td>\n",
       "      <td>15035</td>\n",
       "      <td>1.65</td>\n",
       "      <td>12747</td>\n",
       "      <td>19.80</td>\n",
       "      <td>411</td>\n",
       "    </tr>\n",
       "    <tr>\n",
       "      <th>32552</th>\n",
       "      <td>545321</td>\n",
       "      <td>22763</td>\n",
       "      <td>KEY CABINET MA CAMPAGNE</td>\n",
       "      <td>4</td>\n",
       "      <td>15035</td>\n",
       "      <td>9.95</td>\n",
       "      <td>12747</td>\n",
       "      <td>39.80</td>\n",
       "      <td>411</td>\n",
       "    </tr>\n",
       "    <tr>\n",
       "      <th>32553</th>\n",
       "      <td>545321</td>\n",
       "      <td>21745</td>\n",
       "      <td>GAOLERS KEYS DECORATIVE GARDEN</td>\n",
       "      <td>4</td>\n",
       "      <td>15035</td>\n",
       "      <td>3.75</td>\n",
       "      <td>12747</td>\n",
       "      <td>15.00</td>\n",
       "      <td>411</td>\n",
       "    </tr>\n",
       "    <tr>\n",
       "      <th>32554</th>\n",
       "      <td>545321</td>\n",
       "      <td>21136</td>\n",
       "      <td>PAINTED METAL PEARS ASSORTED</td>\n",
       "      <td>16</td>\n",
       "      <td>15035</td>\n",
       "      <td>1.69</td>\n",
       "      <td>12747</td>\n",
       "      <td>27.04</td>\n",
       "      <td>411</td>\n",
       "    </tr>\n",
       "    <tr>\n",
       "      <th>...</th>\n",
       "      <td>...</td>\n",
       "      <td>...</td>\n",
       "      <td>...</td>\n",
       "      <td>...</td>\n",
       "      <td>...</td>\n",
       "      <td>...</td>\n",
       "      <td>...</td>\n",
       "      <td>...</td>\n",
       "      <td>...</td>\n",
       "    </tr>\n",
       "    <tr>\n",
       "      <th>132743</th>\n",
       "      <td>569397</td>\n",
       "      <td>85099F</td>\n",
       "      <td>JUMBO BAG STRAWBERRY</td>\n",
       "      <td>10</td>\n",
       "      <td>15251</td>\n",
       "      <td>2.08</td>\n",
       "      <td>12747</td>\n",
       "      <td>20.80</td>\n",
       "      <td>411</td>\n",
       "    </tr>\n",
       "    <tr>\n",
       "      <th>132744</th>\n",
       "      <td>569397</td>\n",
       "      <td>85099B</td>\n",
       "      <td>JUMBO BAG RED RETROSPOT</td>\n",
       "      <td>10</td>\n",
       "      <td>15251</td>\n",
       "      <td>2.08</td>\n",
       "      <td>12747</td>\n",
       "      <td>20.80</td>\n",
       "      <td>411</td>\n",
       "    </tr>\n",
       "    <tr>\n",
       "      <th>132745</th>\n",
       "      <td>569397</td>\n",
       "      <td>22386</td>\n",
       "      <td>JUMBO BAG PINK POLKADOT</td>\n",
       "      <td>10</td>\n",
       "      <td>15251</td>\n",
       "      <td>2.08</td>\n",
       "      <td>12747</td>\n",
       "      <td>20.80</td>\n",
       "      <td>411</td>\n",
       "    </tr>\n",
       "    <tr>\n",
       "      <th>132746</th>\n",
       "      <td>569397</td>\n",
       "      <td>48138</td>\n",
       "      <td>DOORMAT UNION FLAG</td>\n",
       "      <td>2</td>\n",
       "      <td>15251</td>\n",
       "      <td>8.25</td>\n",
       "      <td>12747</td>\n",
       "      <td>16.50</td>\n",
       "      <td>411</td>\n",
       "    </tr>\n",
       "    <tr>\n",
       "      <th>132747</th>\n",
       "      <td>569397</td>\n",
       "      <td>22120</td>\n",
       "      <td>WELCOME  WOODEN BLOCK LETTERS</td>\n",
       "      <td>3</td>\n",
       "      <td>15251</td>\n",
       "      <td>9.95</td>\n",
       "      <td>12747</td>\n",
       "      <td>29.85</td>\n",
       "      <td>411</td>\n",
       "    </tr>\n",
       "    <tr>\n",
       "      <th>132748</th>\n",
       "      <td>569397</td>\n",
       "      <td>85123A</td>\n",
       "      <td>WHITE HANGING HEART T-LIGHT HOLDER</td>\n",
       "      <td>12</td>\n",
       "      <td>15251</td>\n",
       "      <td>2.95</td>\n",
       "      <td>12747</td>\n",
       "      <td>35.40</td>\n",
       "      <td>411</td>\n",
       "    </tr>\n",
       "    <tr>\n",
       "      <th>132749</th>\n",
       "      <td>569397</td>\n",
       "      <td>21754</td>\n",
       "      <td>HOME BUILDING BLOCK WORD</td>\n",
       "      <td>3</td>\n",
       "      <td>15251</td>\n",
       "      <td>6.25</td>\n",
       "      <td>12747</td>\n",
       "      <td>18.75</td>\n",
       "      <td>411</td>\n",
       "    </tr>\n",
       "    <tr>\n",
       "      <th>132750</th>\n",
       "      <td>569397</td>\n",
       "      <td>82482</td>\n",
       "      <td>WOODEN PICTURE FRAME WHITE FINISH</td>\n",
       "      <td>36</td>\n",
       "      <td>15251</td>\n",
       "      <td>2.55</td>\n",
       "      <td>12747</td>\n",
       "      <td>91.80</td>\n",
       "      <td>411</td>\n",
       "    </tr>\n",
       "    <tr>\n",
       "      <th>132751</th>\n",
       "      <td>569397</td>\n",
       "      <td>82484</td>\n",
       "      <td>WOOD BLACK BOARD ANT WHITE FINISH</td>\n",
       "      <td>36</td>\n",
       "      <td>15251</td>\n",
       "      <td>6.75</td>\n",
       "      <td>12747</td>\n",
       "      <td>243.00</td>\n",
       "      <td>411</td>\n",
       "    </tr>\n",
       "    <tr>\n",
       "      <th>132752</th>\n",
       "      <td>569397</td>\n",
       "      <td>82494L</td>\n",
       "      <td>WOODEN FRAME ANTIQUE WHITE</td>\n",
       "      <td>24</td>\n",
       "      <td>15251</td>\n",
       "      <td>2.55</td>\n",
       "      <td>12747</td>\n",
       "      <td>61.20</td>\n",
       "      <td>411</td>\n",
       "    </tr>\n",
       "    <tr>\n",
       "      <th>132753</th>\n",
       "      <td>569397</td>\n",
       "      <td>84879</td>\n",
       "      <td>ASSORTED COLOUR BIRD ORNAMENT</td>\n",
       "      <td>16</td>\n",
       "      <td>15251</td>\n",
       "      <td>1.69</td>\n",
       "      <td>12747</td>\n",
       "      <td>27.04</td>\n",
       "      <td>411</td>\n",
       "    </tr>\n",
       "    <tr>\n",
       "      <th>132754</th>\n",
       "      <td>569397</td>\n",
       "      <td>21136</td>\n",
       "      <td>PAINTED METAL PEARS ASSORTED</td>\n",
       "      <td>16</td>\n",
       "      <td>15251</td>\n",
       "      <td>1.69</td>\n",
       "      <td>12747</td>\n",
       "      <td>27.04</td>\n",
       "      <td>411</td>\n",
       "    </tr>\n",
       "    <tr>\n",
       "      <th>171890</th>\n",
       "      <td>577104</td>\n",
       "      <td>82484</td>\n",
       "      <td>WOOD BLACK BOARD ANT WHITE FINISH</td>\n",
       "      <td>12</td>\n",
       "      <td>15296</td>\n",
       "      <td>6.75</td>\n",
       "      <td>12747</td>\n",
       "      <td>81.00</td>\n",
       "      <td>411</td>\n",
       "    </tr>\n",
       "    <tr>\n",
       "      <th>171891</th>\n",
       "      <td>577104</td>\n",
       "      <td>85123A</td>\n",
       "      <td>WHITE HANGING HEART T-LIGHT HOLDER</td>\n",
       "      <td>12</td>\n",
       "      <td>15296</td>\n",
       "      <td>2.95</td>\n",
       "      <td>12747</td>\n",
       "      <td>35.40</td>\n",
       "      <td>411</td>\n",
       "    </tr>\n",
       "    <tr>\n",
       "      <th>171892</th>\n",
       "      <td>577104</td>\n",
       "      <td>21754</td>\n",
       "      <td>HOME BUILDING BLOCK WORD</td>\n",
       "      <td>6</td>\n",
       "      <td>15296</td>\n",
       "      <td>6.25</td>\n",
       "      <td>12747</td>\n",
       "      <td>37.50</td>\n",
       "      <td>411</td>\n",
       "    </tr>\n",
       "    <tr>\n",
       "      <th>171893</th>\n",
       "      <td>577104</td>\n",
       "      <td>82486</td>\n",
       "      <td>3 DRAWER ANTIQUE WHITE WOOD CABINET</td>\n",
       "      <td>2</td>\n",
       "      <td>15296</td>\n",
       "      <td>8.95</td>\n",
       "      <td>12747</td>\n",
       "      <td>17.90</td>\n",
       "      <td>411</td>\n",
       "    </tr>\n",
       "    <tr>\n",
       "      <th>171894</th>\n",
       "      <td>577104</td>\n",
       "      <td>22120</td>\n",
       "      <td>WELCOME  WOODEN BLOCK LETTERS</td>\n",
       "      <td>3</td>\n",
       "      <td>15296</td>\n",
       "      <td>9.95</td>\n",
       "      <td>12747</td>\n",
       "      <td>29.85</td>\n",
       "      <td>411</td>\n",
       "    </tr>\n",
       "    <tr>\n",
       "      <th>171895</th>\n",
       "      <td>577104</td>\n",
       "      <td>85099F</td>\n",
       "      <td>JUMBO BAG STRAWBERRY</td>\n",
       "      <td>10</td>\n",
       "      <td>15296</td>\n",
       "      <td>2.08</td>\n",
       "      <td>12747</td>\n",
       "      <td>20.80</td>\n",
       "      <td>411</td>\n",
       "    </tr>\n",
       "    <tr>\n",
       "      <th>171896</th>\n",
       "      <td>577104</td>\n",
       "      <td>85062</td>\n",
       "      <td>PEARL CRYSTAL PUMPKIN T-LIGHT HLDR</td>\n",
       "      <td>12</td>\n",
       "      <td>15296</td>\n",
       "      <td>1.65</td>\n",
       "      <td>12747</td>\n",
       "      <td>19.80</td>\n",
       "      <td>411</td>\n",
       "    </tr>\n",
       "    <tr>\n",
       "      <th>171897</th>\n",
       "      <td>577104</td>\n",
       "      <td>21745</td>\n",
       "      <td>GAOLERS KEYS DECORATIVE GARDEN</td>\n",
       "      <td>4</td>\n",
       "      <td>15296</td>\n",
       "      <td>3.75</td>\n",
       "      <td>12747</td>\n",
       "      <td>15.00</td>\n",
       "      <td>411</td>\n",
       "    </tr>\n",
       "    <tr>\n",
       "      <th>171898</th>\n",
       "      <td>577104</td>\n",
       "      <td>23522</td>\n",
       "      <td>WALL ART DOG AND BALL</td>\n",
       "      <td>6</td>\n",
       "      <td>15296</td>\n",
       "      <td>2.89</td>\n",
       "      <td>12747</td>\n",
       "      <td>17.34</td>\n",
       "      <td>411</td>\n",
       "    </tr>\n",
       "    <tr>\n",
       "      <th>171899</th>\n",
       "      <td>577104</td>\n",
       "      <td>23521</td>\n",
       "      <td>WALL ART CAT AND BIRD</td>\n",
       "      <td>6</td>\n",
       "      <td>15296</td>\n",
       "      <td>2.89</td>\n",
       "      <td>12747</td>\n",
       "      <td>17.34</td>\n",
       "      <td>411</td>\n",
       "    </tr>\n",
       "    <tr>\n",
       "      <th>171900</th>\n",
       "      <td>577104</td>\n",
       "      <td>23581</td>\n",
       "      <td>JUMBO BAG PAISLEY PARK</td>\n",
       "      <td>10</td>\n",
       "      <td>15296</td>\n",
       "      <td>2.08</td>\n",
       "      <td>12747</td>\n",
       "      <td>20.80</td>\n",
       "      <td>411</td>\n",
       "    </tr>\n",
       "    <tr>\n",
       "      <th>192976</th>\n",
       "      <td>581163</td>\n",
       "      <td>82484</td>\n",
       "      <td>WOOD BLACK BOARD ANT WHITE FINISH</td>\n",
       "      <td>36</td>\n",
       "      <td>15316</td>\n",
       "      <td>6.75</td>\n",
       "      <td>12747</td>\n",
       "      <td>243.00</td>\n",
       "      <td>411</td>\n",
       "    </tr>\n",
       "    <tr>\n",
       "      <th>192977</th>\n",
       "      <td>581163</td>\n",
       "      <td>85099C</td>\n",
       "      <td>JUMBO  BAG BAROQUE BLACK WHITE</td>\n",
       "      <td>10</td>\n",
       "      <td>15316</td>\n",
       "      <td>2.08</td>\n",
       "      <td>12747</td>\n",
       "      <td>20.80</td>\n",
       "      <td>411</td>\n",
       "    </tr>\n",
       "    <tr>\n",
       "      <th>192978</th>\n",
       "      <td>581163</td>\n",
       "      <td>85062</td>\n",
       "      <td>PEARL CRYSTAL PUMPKIN T-LIGHT HLDR</td>\n",
       "      <td>24</td>\n",
       "      <td>15316</td>\n",
       "      <td>1.65</td>\n",
       "      <td>12747</td>\n",
       "      <td>39.60</td>\n",
       "      <td>411</td>\n",
       "    </tr>\n",
       "    <tr>\n",
       "      <th>192979</th>\n",
       "      <td>581163</td>\n",
       "      <td>23581</td>\n",
       "      <td>JUMBO BAG PAISLEY PARK</td>\n",
       "      <td>10</td>\n",
       "      <td>15316</td>\n",
       "      <td>2.08</td>\n",
       "      <td>12747</td>\n",
       "      <td>20.80</td>\n",
       "      <td>411</td>\n",
       "    </tr>\n",
       "    <tr>\n",
       "      <th>192980</th>\n",
       "      <td>581163</td>\n",
       "      <td>85123A</td>\n",
       "      <td>WHITE HANGING HEART T-LIGHT HOLDER</td>\n",
       "      <td>6</td>\n",
       "      <td>15316</td>\n",
       "      <td>2.95</td>\n",
       "      <td>12747</td>\n",
       "      <td>17.70</td>\n",
       "      <td>411</td>\n",
       "    </tr>\n",
       "    <tr>\n",
       "      <th>192981</th>\n",
       "      <td>581163</td>\n",
       "      <td>82494L</td>\n",
       "      <td>WOODEN FRAME ANTIQUE WHITE</td>\n",
       "      <td>24</td>\n",
       "      <td>15316</td>\n",
       "      <td>2.55</td>\n",
       "      <td>12747</td>\n",
       "      <td>61.20</td>\n",
       "      <td>411</td>\n",
       "    </tr>\n",
       "    <tr>\n",
       "      <th>192982</th>\n",
       "      <td>581163</td>\n",
       "      <td>82482</td>\n",
       "      <td>WOODEN PICTURE FRAME WHITE FINISH</td>\n",
       "      <td>12</td>\n",
       "      <td>15316</td>\n",
       "      <td>2.95</td>\n",
       "      <td>12747</td>\n",
       "      <td>35.40</td>\n",
       "      <td>411</td>\n",
       "    </tr>\n",
       "  </tbody>\n",
       "</table>\n",
       "<p>103 rows × 9 columns</p>\n",
       "</div>"
      ],
      "text/plain": [
       "       InvoiceNo StockCode                          Description  Quantity  \\\n",
       "3110      537215    85124C        GREEN JUICY FRUIT PHOTO FRAME        12   \n",
       "3111      537215    85124B         BLUE JUICY FRUIT PHOTO FRAME         6   \n",
       "3112      537215     84879        ASSORTED COLOUR BIRD ORNAMENT        16   \n",
       "3113      537215     85062   PEARL CRYSTAL PUMPKIN T-LIGHT HLDR        24   \n",
       "3114      537215     85064         CREAM SWEETHEART LETTER RACK         6   \n",
       "3115      537215     82484    WOOD BLACK BOARD ANT WHITE FINISH        36   \n",
       "3116      537215     21136         PAINTED METAL PEARS ASSORTED         8   \n",
       "8540      538537     22795         SWEETHEART RECIPE BOOK STAND        16   \n",
       "8541      538537     48138                   DOORMAT UNION FLAG         2   \n",
       "8542      538537    82494L          WOODEN FRAME ANTIQUE WHITE         24   \n",
       "8543      538537     84879        ASSORTED COLOUR BIRD ORNAMENT        24   \n",
       "8544      538537     85062   PEARL CRYSTAL PUMPKIN T-LIGHT HLDR        12   \n",
       "8545      538537     21754             HOME BUILDING BLOCK WORD         3   \n",
       "8546      538537     82484    WOOD BLACK BOARD ANT WHITE FINISH        12   \n",
       "8547      538537     82482    WOODEN PICTURE FRAME WHITE FINISH        12   \n",
       "18881     541677     21136         PAINTED METAL PEARS ASSORTED        16   \n",
       "18882     541677     82484    WOOD BLACK BOARD ANT WHITE FINISH        36   \n",
       "18883     541677    82494L          WOODEN FRAME ANTIQUE WHITE         12   \n",
       "18884     541677     82482    WOODEN PICTURE FRAME WHITE FINISH        12   \n",
       "18885     541677     71459       HANGING JAM JAR T-LIGHT HOLDER        12   \n",
       "32545     545321     20711                      JUMBO BAG TOYS         20   \n",
       "32546     545321     22411    JUMBO SHOPPER VINTAGE RED PAISLEY        10   \n",
       "32547     545321     22386              JUMBO BAG PINK POLKADOT        20   \n",
       "32548     545321    85099F                 JUMBO BAG STRAWBERRY        20   \n",
       "32549     545321     48194                       DOORMAT HEARTS         2   \n",
       "32550     545321     71459       HANGING JAM JAR T-LIGHT HOLDER        12   \n",
       "32551     545321     85062   PEARL CRYSTAL PUMPKIN T-LIGHT HLDR        12   \n",
       "32552     545321     22763              KEY CABINET MA CAMPAGNE         4   \n",
       "32553     545321     21745      GAOLERS KEYS DECORATIVE GARDEN          4   \n",
       "32554     545321     21136         PAINTED METAL PEARS ASSORTED        16   \n",
       "...          ...       ...                                  ...       ...   \n",
       "132743    569397    85099F                 JUMBO BAG STRAWBERRY        10   \n",
       "132744    569397    85099B              JUMBO BAG RED RETROSPOT        10   \n",
       "132745    569397     22386              JUMBO BAG PINK POLKADOT        10   \n",
       "132746    569397     48138                   DOORMAT UNION FLAG         2   \n",
       "132747    569397     22120        WELCOME  WOODEN BLOCK LETTERS         3   \n",
       "132748    569397    85123A   WHITE HANGING HEART T-LIGHT HOLDER        12   \n",
       "132749    569397     21754             HOME BUILDING BLOCK WORD         3   \n",
       "132750    569397     82482    WOODEN PICTURE FRAME WHITE FINISH        36   \n",
       "132751    569397     82484    WOOD BLACK BOARD ANT WHITE FINISH        36   \n",
       "132752    569397    82494L          WOODEN FRAME ANTIQUE WHITE         24   \n",
       "132753    569397     84879        ASSORTED COLOUR BIRD ORNAMENT        16   \n",
       "132754    569397     21136         PAINTED METAL PEARS ASSORTED        16   \n",
       "171890    577104     82484    WOOD BLACK BOARD ANT WHITE FINISH        12   \n",
       "171891    577104    85123A   WHITE HANGING HEART T-LIGHT HOLDER        12   \n",
       "171892    577104     21754             HOME BUILDING BLOCK WORD         6   \n",
       "171893    577104     82486  3 DRAWER ANTIQUE WHITE WOOD CABINET         2   \n",
       "171894    577104     22120        WELCOME  WOODEN BLOCK LETTERS         3   \n",
       "171895    577104    85099F                 JUMBO BAG STRAWBERRY        10   \n",
       "171896    577104     85062   PEARL CRYSTAL PUMPKIN T-LIGHT HLDR        12   \n",
       "171897    577104     21745      GAOLERS KEYS DECORATIVE GARDEN          4   \n",
       "171898    577104     23522               WALL ART DOG AND BALL          6   \n",
       "171899    577104     23521               WALL ART CAT AND BIRD          6   \n",
       "171900    577104     23581               JUMBO BAG PAISLEY PARK        10   \n",
       "192976    581163     82484    WOOD BLACK BOARD ANT WHITE FINISH        36   \n",
       "192977    581163    85099C       JUMBO  BAG BAROQUE BLACK WHITE        10   \n",
       "192978    581163     85062   PEARL CRYSTAL PUMPKIN T-LIGHT HLDR        24   \n",
       "192979    581163     23581               JUMBO BAG PAISLEY PARK        10   \n",
       "192980    581163    85123A   WHITE HANGING HEART T-LIGHT HOLDER         6   \n",
       "192981    581163    82494L          WOODEN FRAME ANTIQUE WHITE         24   \n",
       "192982    581163     82482    WOODEN PICTURE FRAME WHITE FINISH        12   \n",
       "\n",
       "        InvoiceDate  UnitPrice  CustomerID   Total  RFM  \n",
       "3110          14949       2.55       12747   30.60  411  \n",
       "3111          14949       2.55       12747   15.30  411  \n",
       "3112          14949       1.69       12747   27.04  411  \n",
       "3113          14949       1.65       12747   39.60  411  \n",
       "3114          14949       5.45       12747   32.70  411  \n",
       "3115          14949       5.55       12747  199.80  411  \n",
       "3116          14949       1.69       12747   13.52  411  \n",
       "8540          14956       5.95       12747   95.20  411  \n",
       "8541          14956       7.95       12747   15.90  411  \n",
       "8542          14956       2.55       12747   61.20  411  \n",
       "8543          14956       1.69       12747   40.56  411  \n",
       "8544          14956       1.65       12747   19.80  411  \n",
       "8545          14956       5.95       12747   17.85  411  \n",
       "8546          14956       5.55       12747   66.60  411  \n",
       "8547          14956       2.55       12747   30.60  411  \n",
       "18881         14995       1.69       12747   27.04  411  \n",
       "18882         14995       5.55       12747  199.80  411  \n",
       "18883         14995       2.95       12747   35.40  411  \n",
       "18884         14995       2.55       12747   30.60  411  \n",
       "18885         14995       0.85       12747   10.20  411  \n",
       "32545         15035       1.95       12747   39.00  411  \n",
       "32546         15035       1.95       12747   19.50  411  \n",
       "32547         15035       1.95       12747   39.00  411  \n",
       "32548         15035       1.95       12747   39.00  411  \n",
       "32549         15035       7.95       12747   15.90  411  \n",
       "32550         15035       0.85       12747   10.20  411  \n",
       "32551         15035       1.65       12747   19.80  411  \n",
       "32552         15035       9.95       12747   39.80  411  \n",
       "32553         15035       3.75       12747   15.00  411  \n",
       "32554         15035       1.69       12747   27.04  411  \n",
       "...             ...        ...         ...     ...  ...  \n",
       "132743        15251       2.08       12747   20.80  411  \n",
       "132744        15251       2.08       12747   20.80  411  \n",
       "132745        15251       2.08       12747   20.80  411  \n",
       "132746        15251       8.25       12747   16.50  411  \n",
       "132747        15251       9.95       12747   29.85  411  \n",
       "132748        15251       2.95       12747   35.40  411  \n",
       "132749        15251       6.25       12747   18.75  411  \n",
       "132750        15251       2.55       12747   91.80  411  \n",
       "132751        15251       6.75       12747  243.00  411  \n",
       "132752        15251       2.55       12747   61.20  411  \n",
       "132753        15251       1.69       12747   27.04  411  \n",
       "132754        15251       1.69       12747   27.04  411  \n",
       "171890        15296       6.75       12747   81.00  411  \n",
       "171891        15296       2.95       12747   35.40  411  \n",
       "171892        15296       6.25       12747   37.50  411  \n",
       "171893        15296       8.95       12747   17.90  411  \n",
       "171894        15296       9.95       12747   29.85  411  \n",
       "171895        15296       2.08       12747   20.80  411  \n",
       "171896        15296       1.65       12747   19.80  411  \n",
       "171897        15296       3.75       12747   15.00  411  \n",
       "171898        15296       2.89       12747   17.34  411  \n",
       "171899        15296       2.89       12747   17.34  411  \n",
       "171900        15296       2.08       12747   20.80  411  \n",
       "192976        15316       6.75       12747  243.00  411  \n",
       "192977        15316       2.08       12747   20.80  411  \n",
       "192978        15316       1.65       12747   39.60  411  \n",
       "192979        15316       2.08       12747   20.80  411  \n",
       "192980        15316       2.95       12747   17.70  411  \n",
       "192981        15316       2.55       12747   61.20  411  \n",
       "192982        15316       2.95       12747   35.40  411  \n",
       "\n",
       "[103 rows x 9 columns]"
      ]
     },
     "execution_count": 51,
     "metadata": {},
     "output_type": "execute_result"
    }
   ],
   "source": [
    "cluster=5\n",
    "#print(\"Cluster : \"+str(cluster), \"RFM = \"+str(df[df.cluster==cluster]))\n",
    "customerID = df[df.cluster==cluster]['CustID'].iloc[0]\n",
    "print(\"CustomerID = \"+str(customerID))\n",
    "\n",
    "df_invoice_line[df_invoice_line.CustomerID==customerID]"
   ]
  }
 ],
 "metadata": {
  "kernelspec": {
   "display_name": "Python 3",
   "language": "python",
   "name": "python3"
  },
  "language_info": {
   "codemirror_mode": {
    "name": "ipython",
    "version": 3
   },
   "file_extension": ".py",
   "mimetype": "text/x-python",
   "name": "python",
   "nbconvert_exporter": "python",
   "pygments_lexer": "ipython3",
   "version": "3.7.0"
  }
 },
 "nbformat": 4,
 "nbformat_minor": 2
}
