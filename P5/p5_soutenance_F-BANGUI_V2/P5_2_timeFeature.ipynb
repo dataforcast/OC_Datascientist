{
 "cells": [
  {
   "cell_type": "markdown",
   "metadata": {},
   "source": [
    "<!--NOTEBOOK_INFORMATION-->\n",
    "<img align=\"left\" style=\"padding-right:10px;\" src=\"./figures/LogoOpenclassrooms.png\">\n",
    "<font size=\"4\">\n",
    "<p>\n",
    "Cette étude a été réalisée dans le cadre du 5ème projet de ma formation Datascientist dispensée en MOOC par \n",
    "**<font color='blus'>Openclassrooms / écoles Centrale-Supélec</font>**.\n",
    "</p>    \n",
    "\n",
    "<p>\n",
    "Le modèle étudié se base sur les données fournies par le site :\n",
    "</p>\n",
    "<p>\n",
    "https://archive.ics.uci.edu/ml/datasets/Online+Retail\n",
    "</p>\n",
    "<p>\n",
    "\n",
    "<p>\n",
    "Ce notebook présente l'analyse des nouvelles features issues de la colonne ``InvoiceDate`` du dataset.\n",
    "</p>\n",
    "\n",
    "<p>\n",
    "Ce notebook implémente les phases de l'analyse exploratoire de la façon suivante :\n",
    "</p>\n",
    "* l'acquisition des données issues du sampling réalisé dans le notebook ``P5_2.ipynb``\n",
    "* les phases de création de ces données temporelles\n",
    "* l'analyse exploratoire de ces nouvelles données    \n",
    "* l'analyse et l'évaluation du clustering de ces données    \n",
    "\n",
    "**Les résultats de cette analyse sont reprise dans le notebook <font color='blue'>*P5_AllFeature.ipynb*</font>**. \n",
    "\n",
    "Ce dernier notebook permet d'évaluer les différents modèles de prédiction."
   ]
  },
  {
   "cell_type": "code",
   "execution_count": 4,
   "metadata": {},
   "outputs": [],
   "source": [
    "import pandas as pd\n",
    "import numpy as np\n",
    "import time\n",
    "\n",
    "import warnings\n",
    "warnings.filterwarnings(\"ignore\")\n",
    "\n",
    "\n",
    "import p3_util\n",
    "import p3_util_plot\n",
    "import p5_util\n",
    "import p5_util_plot\n",
    "\n",
    "#--------------------------\n",
    "# Process flow parameters\n",
    "#--------------------------\n",
    "is_reloaded = True\n",
    "\n",
    "#---------------------------------------------------------------------------\n",
    "# Outliers values issued from Total feature are removed or not from dataset.\n",
    "is_total_no_outliers = False\n",
    "#---------------------------------------------------------------------------\n",
    "\n",
    "#---------------------------------------------------------------------------\n",
    "# Encoded RFM features are clusterized separatly from other features.\n",
    "#---------------------------------------------------------------------------\n",
    "is_rfm_cluster = True"
   ]
  },
  {
   "cell_type": "markdown",
   "metadata": {},
   "source": [
    "#### <font color='blue'>Restore *df_invoice_line* dataframe</font>"
   ]
  },
  {
   "cell_type": "code",
   "execution_count": 5,
   "metadata": {},
   "outputs": [
    {
     "name": "stdout",
     "output_type": "stream",
     "text": [
      "p5_util.object_load : fileName= ./data/df_invoice_line_sample_random.dump\n",
      "(194907, 7)\n",
      "(194907, 7)\n"
     ]
    }
   ],
   "source": [
    "import p5_util\n",
    "if is_reloaded is True:\n",
    "    df_invoice_line =  p5_util.p5_reload_data_sample()\n",
    "    print(df_invoice_line.shape)    "
   ]
  },
  {
   "cell_type": "code",
   "execution_count": 6,
   "metadata": {},
   "outputs": [],
   "source": [
    "if is_reloaded is True:\n",
    "    df_invoice_line.shape"
   ]
  },
  {
   "cell_type": "code",
   "execution_count": 7,
   "metadata": {},
   "outputs": [
    {
     "name": "stdout",
     "output_type": "stream",
     "text": [
      "\n",
      "*** Nombre de factures= 9330\n"
     ]
    }
   ],
   "source": [
    "nb_invoices = len(df_invoice_line['InvoiceNo'].unique())\n",
    "print(\"\\n*** Nombre de factures= \"+str(nb_invoices))"
   ]
  },
  {
   "cell_type": "code",
   "execution_count": 8,
   "metadata": {},
   "outputs": [
    {
     "name": "stdout",
     "output_type": "stream",
     "text": [
      "\n",
      "*** Nombre de clients= 2124\n"
     ]
    }
   ],
   "source": [
    "nb_customers = len(df_invoice_line['CustomerID'].unique())\n",
    "print(\"\\n*** Nombre de clients= \"+str(nb_customers))"
   ]
  },
  {
   "cell_type": "markdown",
   "metadata": {},
   "source": [
    "# <font color='blus'>Building features from *InvoiceDate* colummn</font>"
   ]
  },
  {
   "cell_type": "code",
   "execution_count": 9,
   "metadata": {},
   "outputs": [
    {
     "name": "stdout",
     "output_type": "stream",
     "text": [
      "is_built_step : True\n",
      "Time feature : month --> (2124, 12)\n",
      "is_built_step : True\n",
      "Time feature : day --> (2124, 31)\n",
      "is_built_step : True\n",
      "Time feature : dow --> (2124, 6)\n",
      "is_built_step : True\n",
      "Time feature : pod --> (2124, 2)\n"
     ]
    },
    {
     "data": {
      "text/plain": [
       "({'day': OneHotEncoder(categorical_features='all', dtype=<class 'numpy.float64'>,\n",
       "         handle_unknown='error', n_values='auto', sparse=True),\n",
       "  'dow': OneHotEncoder(categorical_features='all', dtype=<class 'numpy.float64'>,\n",
       "         handle_unknown='error', n_values='auto', sparse=True),\n",
       "  'month': OneHotEncoder(categorical_features='all', dtype=<class 'numpy.float64'>,\n",
       "         handle_unknown='error', n_values='auto', sparse=True),\n",
       "  'pod': OneHotEncoder(categorical_features='all', dtype=<class 'numpy.float64'>,\n",
       "         handle_unknown='error', n_values='auto', sparse=True)},\n",
       " Empty DataFrame\n",
       " Columns: []\n",
       " Index: [])"
      ]
     },
     "execution_count": 9,
     "metadata": {},
     "output_type": "execute_result"
    }
   ],
   "source": [
    "import p5_util\n",
    "list_new_feature = ['month','day','dow','pod']\n",
    "p5_util.time_list_feature_build(df_invoice_line, list_new_feature)"
   ]
  },
  {
   "cell_type": "markdown",
   "metadata": {},
   "source": [
    "####  Restore time based features into an aggregated  dataframe"
   ]
  },
  {
   "cell_type": "code",
   "execution_count": 10,
   "metadata": {},
   "outputs": [
    {
     "name": "stdout",
     "output_type": "stream",
     "text": [
      "p5_util.object_load : fileName= ./data/df_customers_month.dump\n",
      "p5_util.object_load : fileName= ./data/df_customers_day.dump\n",
      "p5_util.object_load : fileName= ./data/df_customers_dow.dump\n",
      "p5_util.object_load : fileName= ./data/df_customers_pod.dump\n",
      "(2124, 51)\n"
     ]
    },
    {
     "data": {
      "text/html": [
       "<div>\n",
       "<style scoped>\n",
       "    .dataframe tbody tr th:only-of-type {\n",
       "        vertical-align: middle;\n",
       "    }\n",
       "\n",
       "    .dataframe tbody tr th {\n",
       "        vertical-align: top;\n",
       "    }\n",
       "\n",
       "    .dataframe thead th {\n",
       "        text-align: right;\n",
       "    }\n",
       "</style>\n",
       "<table border=\"1\" class=\"dataframe\">\n",
       "  <thead>\n",
       "    <tr style=\"text-align: right;\">\n",
       "      <th></th>\n",
       "      <th>w_month_0</th>\n",
       "      <th>w_month_1</th>\n",
       "      <th>w_month_2</th>\n",
       "      <th>w_month_3</th>\n",
       "      <th>w_month_4</th>\n",
       "      <th>w_month_5</th>\n",
       "      <th>w_month_6</th>\n",
       "      <th>w_month_7</th>\n",
       "      <th>w_month_8</th>\n",
       "      <th>w_month_9</th>\n",
       "      <th>...</th>\n",
       "      <th>w_day_29</th>\n",
       "      <th>w_day_30</th>\n",
       "      <th>w_dow_0</th>\n",
       "      <th>w_dow_1</th>\n",
       "      <th>w_dow_2</th>\n",
       "      <th>w_dow_3</th>\n",
       "      <th>w_dow_4</th>\n",
       "      <th>w_dow_5</th>\n",
       "      <th>w_pod_0</th>\n",
       "      <th>w_pod_1</th>\n",
       "    </tr>\n",
       "    <tr>\n",
       "      <th>CustomerID</th>\n",
       "      <th></th>\n",
       "      <th></th>\n",
       "      <th></th>\n",
       "      <th></th>\n",
       "      <th></th>\n",
       "      <th></th>\n",
       "      <th></th>\n",
       "      <th></th>\n",
       "      <th></th>\n",
       "      <th></th>\n",
       "      <th></th>\n",
       "      <th></th>\n",
       "      <th></th>\n",
       "      <th></th>\n",
       "      <th></th>\n",
       "      <th></th>\n",
       "      <th></th>\n",
       "      <th></th>\n",
       "      <th></th>\n",
       "      <th></th>\n",
       "      <th></th>\n",
       "    </tr>\n",
       "  </thead>\n",
       "  <tbody>\n",
       "    <tr>\n",
       "      <th>14195</th>\n",
       "      <td>-0.276565</td>\n",
       "      <td>-0.277841</td>\n",
       "      <td>-0.321879</td>\n",
       "      <td>-0.027448</td>\n",
       "      <td>-0.21324</td>\n",
       "      <td>-0.293989</td>\n",
       "      <td>-0.251089</td>\n",
       "      <td>-0.266494</td>\n",
       "      <td>-0.320354</td>\n",
       "      <td>-0.347423</td>\n",
       "      <td>...</td>\n",
       "      <td>-0.232023</td>\n",
       "      <td>-0.146899</td>\n",
       "      <td>-0.309756</td>\n",
       "      <td>-0.313783</td>\n",
       "      <td>-0.287361</td>\n",
       "      <td>-0.362638</td>\n",
       "      <td>-0.182454</td>\n",
       "      <td>-0.24555</td>\n",
       "      <td>-0.362092</td>\n",
       "      <td>-0.102301</td>\n",
       "    </tr>\n",
       "  </tbody>\n",
       "</table>\n",
       "<p>1 rows × 51 columns</p>\n",
       "</div>"
      ],
      "text/plain": [
       "            w_month_0  w_month_1  w_month_2  w_month_3  w_month_4  w_month_5  \\\n",
       "CustomerID                                                                     \n",
       "14195       -0.276565  -0.277841  -0.321879  -0.027448   -0.21324  -0.293989   \n",
       "\n",
       "            w_month_6  w_month_7  w_month_8  w_month_9    ...     w_day_29  \\\n",
       "CustomerID                                                ...                \n",
       "14195       -0.251089  -0.266494  -0.320354  -0.347423    ...    -0.232023   \n",
       "\n",
       "            w_day_30   w_dow_0   w_dow_1   w_dow_2   w_dow_3   w_dow_4  \\\n",
       "CustomerID                                                               \n",
       "14195      -0.146899 -0.309756 -0.313783 -0.287361 -0.362638 -0.182454   \n",
       "\n",
       "            w_dow_5   w_pod_0   w_pod_1  \n",
       "CustomerID                               \n",
       "14195      -0.24555 -0.362092 -0.102301  \n",
       "\n",
       "[1 rows x 51 columns]"
      ]
     },
     "execution_count": 10,
     "metadata": {},
     "output_type": "execute_result"
    }
   ],
   "source": [
    "import p5_util\n",
    "list_new_feature = ['month','day','dow','pod']\n",
    "\n",
    "df_cust_time_feature, std_scale = p5_util.time_list_feature_restore(list_new_feature)\n",
    "print(df_cust_time_feature.shape)\n",
    "df_cust_time_feature.sample(1)"
   ]
  },
  {
   "cell_type": "markdown",
   "metadata": {},
   "source": [
    "#### Backup dataframe into a dumped file"
   ]
  },
  {
   "cell_type": "code",
   "execution_count": 11,
   "metadata": {},
   "outputs": [],
   "source": [
    "import p5_util\n",
    "fileName = './data/df_cust_timeFeature.dump'\n",
    "p5_util.object_dump(df_cust_time_feature, fileName)"
   ]
  },
  {
   "cell_type": "code",
   "execution_count": 12,
   "metadata": {},
   "outputs": [
    {
     "data": {
      "text/plain": [
       "(2124, 51)"
      ]
     },
     "execution_count": 12,
     "metadata": {},
     "output_type": "execute_result"
    }
   ],
   "source": [
    "df_cust_time_feature.shape"
   ]
  },
  {
   "cell_type": "markdown",
   "metadata": {},
   "source": [
    "# <font color='blus'> PCA time features</font>"
   ]
  },
  {
   "cell_type": "code",
   "execution_count": 13,
   "metadata": {},
   "outputs": [
    {
     "data": {
      "image/png": "[encoded data removed]",
      "text/plain": [
       "<matplotlib.figure.Figure at 0xaa1df62c>"
      ]
     },
     "metadata": {},
     "output_type": "display_data"
    }
   ],
   "source": [
    "import p3_util_plot\n",
    "z__ = p3_util_plot.df_pca_all_plot(df_cust_time_feature, plot=True)"
   ]
  },
  {
   "cell_type": "markdown",
   "metadata": {},
   "source": [
    "#### 30 features allows to explain 90% of the total variance"
   ]
  },
  {
   "cell_type": "code",
   "execution_count": 14,
   "metadata": {},
   "outputs": [
    {
     "data": {
      "text/html": [
       "<div>\n",
       "<style scoped>\n",
       "    .dataframe tbody tr th:only-of-type {\n",
       "        vertical-align: middle;\n",
       "    }\n",
       "\n",
       "    .dataframe tbody tr th {\n",
       "        vertical-align: top;\n",
       "    }\n",
       "\n",
       "    .dataframe thead th {\n",
       "        text-align: right;\n",
       "    }\n",
       "</style>\n",
       "<table border=\"1\" class=\"dataframe\">\n",
       "  <thead>\n",
       "    <tr style=\"text-align: right;\">\n",
       "      <th></th>\n",
       "      <th>w_month_0</th>\n",
       "      <th>w_month_1</th>\n",
       "      <th>w_month_2</th>\n",
       "      <th>w_month_3</th>\n",
       "      <th>w_month_4</th>\n",
       "      <th>w_month_5</th>\n",
       "      <th>w_month_6</th>\n",
       "      <th>w_month_7</th>\n",
       "      <th>w_month_8</th>\n",
       "      <th>w_month_9</th>\n",
       "      <th>...</th>\n",
       "      <th>w_day_29</th>\n",
       "      <th>w_day_30</th>\n",
       "      <th>w_dow_0</th>\n",
       "      <th>w_dow_1</th>\n",
       "      <th>w_dow_2</th>\n",
       "      <th>w_dow_3</th>\n",
       "      <th>w_dow_4</th>\n",
       "      <th>w_dow_5</th>\n",
       "      <th>w_pod_0</th>\n",
       "      <th>w_pod_1</th>\n",
       "    </tr>\n",
       "    <tr>\n",
       "      <th>CustomerID</th>\n",
       "      <th></th>\n",
       "      <th></th>\n",
       "      <th></th>\n",
       "      <th></th>\n",
       "      <th></th>\n",
       "      <th></th>\n",
       "      <th></th>\n",
       "      <th></th>\n",
       "      <th></th>\n",
       "      <th></th>\n",
       "      <th></th>\n",
       "      <th></th>\n",
       "      <th></th>\n",
       "      <th></th>\n",
       "      <th></th>\n",
       "      <th></th>\n",
       "      <th></th>\n",
       "      <th></th>\n",
       "      <th></th>\n",
       "      <th></th>\n",
       "      <th></th>\n",
       "    </tr>\n",
       "  </thead>\n",
       "  <tbody>\n",
       "    <tr>\n",
       "      <th>15448</th>\n",
       "      <td>1.463397</td>\n",
       "      <td>-0.277841</td>\n",
       "      <td>-0.321879</td>\n",
       "      <td>-0.298859</td>\n",
       "      <td>-0.30238</td>\n",
       "      <td>-0.293989</td>\n",
       "      <td>-0.251089</td>\n",
       "      <td>-0.266494</td>\n",
       "      <td>-0.320354</td>\n",
       "      <td>-0.347423</td>\n",
       "      <td>...</td>\n",
       "      <td>-0.232023</td>\n",
       "      <td>2.576413</td>\n",
       "      <td>0.316793</td>\n",
       "      <td>-0.313783</td>\n",
       "      <td>-0.287361</td>\n",
       "      <td>-0.362638</td>\n",
       "      <td>-0.306871</td>\n",
       "      <td>-0.281034</td>\n",
       "      <td>-0.271157</td>\n",
       "      <td>-0.102301</td>\n",
       "    </tr>\n",
       "  </tbody>\n",
       "</table>\n",
       "<p>1 rows × 51 columns</p>\n",
       "</div>"
      ],
      "text/plain": [
       "            w_month_0  w_month_1  w_month_2  w_month_3  w_month_4  w_month_5  \\\n",
       "CustomerID                                                                     \n",
       "15448        1.463397  -0.277841  -0.321879  -0.298859   -0.30238  -0.293989   \n",
       "\n",
       "            w_month_6  w_month_7  w_month_8  w_month_9    ...     w_day_29  \\\n",
       "CustomerID                                                ...                \n",
       "15448       -0.251089  -0.266494  -0.320354  -0.347423    ...    -0.232023   \n",
       "\n",
       "            w_day_30   w_dow_0   w_dow_1   w_dow_2   w_dow_3   w_dow_4  \\\n",
       "CustomerID                                                               \n",
       "15448       2.576413  0.316793 -0.313783 -0.287361 -0.362638 -0.306871   \n",
       "\n",
       "             w_dow_5   w_pod_0   w_pod_1  \n",
       "CustomerID                                \n",
       "15448      -0.281034 -0.271157 -0.102301  \n",
       "\n",
       "[1 rows x 51 columns]"
      ]
     },
     "execution_count": 14,
     "metadata": {},
     "output_type": "execute_result"
    }
   ],
   "source": [
    "df_cust_time_feature.sample(1)"
   ]
  },
  {
   "cell_type": "code",
   "execution_count": 15,
   "metadata": {},
   "outputs": [
    {
     "name": "stdout",
     "output_type": "stream",
     "text": [
      "(2124, 51)\n",
      "(2124, 30)\n"
     ]
    }
   ],
   "source": [
    "import p5_util\n",
    "\n",
    "print(df_cust_time_feature.shape)\n",
    "n_dim=30\n",
    "root_name = 'time_pca_'\n",
    "df_cust_time_feature.CustomerID = df_cust_time_feature.index\n",
    "df_cust_time_feature, pca_timeFeature = p5_util.df_pca_reduce(df_cust_time_feature\\\n",
    "                                                                 , n_dim, root_name, p_is_scale=False)\n",
    "print(df_cust_time_feature.shape)\n"
   ]
  },
  {
   "cell_type": "markdown",
   "metadata": {},
   "source": [
    "#### Backup dumped file "
   ]
  },
  {
   "cell_type": "code",
   "execution_count": 16,
   "metadata": {},
   "outputs": [],
   "source": [
    "import p5_util\n",
    "fileName = './data/df_customers_timeFeature_pca.dump'\n",
    "p5_util.object_dump(df_cust_time_feature, fileName)"
   ]
  },
  {
   "cell_type": "markdown",
   "metadata": {},
   "source": [
    "# <font color='blus'> Clustering time features</font>"
   ]
  },
  {
   "cell_type": "markdown",
   "metadata": {},
   "source": [
    "#### Loading dumped file into *df_customers* dataframe"
   ]
  },
  {
   "cell_type": "code",
   "execution_count": 17,
   "metadata": {},
   "outputs": [
    {
     "data": {
      "text/plain": [
       "True"
      ]
     },
     "execution_count": 17,
     "metadata": {},
     "output_type": "execute_result"
    }
   ],
   "source": [
    "is_reloaded"
   ]
  },
  {
   "cell_type": "code",
   "execution_count": 18,
   "metadata": {},
   "outputs": [
    {
     "name": "stdout",
     "output_type": "stream",
     "text": [
      "p5_util.object_load : fileName= ./data/df_customers_timeFeature_pca.dump\n",
      "(2124, 30)\n"
     ]
    }
   ],
   "source": [
    "import p5_util\n",
    "if is_reloaded is True:\n",
    "    fileName = './data/df_customers_timeFeature_pca.dump'\n",
    "    df_customers = p5_util.object_load(fileName)\n",
    "    print(df_customers.shape)"
   ]
  },
  {
   "cell_type": "markdown",
   "metadata": {},
   "source": [
    "## <font color='blue'> Kmeans Clustering time features</font>"
   ]
  },
  {
   "cell_type": "code",
   "execution_count": 19,
   "metadata": {},
   "outputs": [
    {
     "name": "stdout",
     "output_type": "stream",
     "text": [
      "Clustering : 1 clusters\n",
      "Clustering : 2 clusters\n",
      "Clustering : 3 clusters\n",
      "Clustering : 4 clusters\n",
      "Clustering : 5 clusters\n",
      "Clustering : 6 clusters\n",
      "Clustering : 7 clusters\n",
      "Clustering : 8 clusters\n",
      "Clustering : 9 clusters\n",
      "Clustering : 10 clusters\n"
     ]
    }
   ],
   "source": [
    "import p5_util\n",
    "cluster_start = 1\n",
    "cluster_end = 11\n",
    "dict_kmeans = p5_util.kmeans_scan_inter_inertia(df_customers, cluster_start, cluster_end)"
   ]
  },
  {
   "cell_type": "markdown",
   "metadata": {},
   "source": [
    "#### Save of Kmeans clustering scan from time features into a dumped file"
   ]
  },
  {
   "cell_type": "code",
   "execution_count": 20,
   "metadata": {},
   "outputs": [],
   "source": [
    "import p5_util\n",
    "\n",
    "fileName = './data/clustering_dict_kmeans_timeFeature.dump'\n",
    "p5_util.object_dump(dict_kmeans, fileName)"
   ]
  },
  {
   "cell_type": "markdown",
   "metadata": {},
   "source": [
    "#### Time features : Plot Clusters = F(inter-inertia)"
   ]
  },
  {
   "cell_type": "code",
   "execution_count": 21,
   "metadata": {},
   "outputs": [
    {
     "name": "stdout",
     "output_type": "stream",
     "text": [
      "p5_util.object_load : fileName= ./data/clustering_dict_kmeans_timeFeature.dump\n",
      "Records into Time feaures dict_kmeans= 10\n",
      "1 10\n"
     ]
    },
    {
     "data": {
      "image/png": "[encoded data removed]",
      "text/plain": [
       "<matplotlib.figure.Figure at 0xaa4ee4cc>"
      ]
     },
     "metadata": {},
     "output_type": "display_data"
    }
   ],
   "source": [
    "import p5_util_plot\n",
    "import p5_util\n",
    "\n",
    "if is_reloaded is True:\n",
    "    fileName = './data/clustering_dict_kmeans_timeFeature.dump'\n",
    "    dict_kmeans = p5_util.object_load(fileName)\n",
    "    print(\"Records into Time feaures dict_kmeans= \"+str(len(dict_kmeans)))\n",
    "\n",
    "x_label_0 = 'Time features : Nb. clusters'\n",
    "x_label_1 = 'Time features : Nb. clusters'\n",
    "cluster_start = list(dict_kmeans.keys())[0]\n",
    "cluster_end = list(dict_kmeans.keys())[len(dict_kmeans)-1]\n",
    "print(cluster_start, cluster_end)\n",
    "p5_util_plot.plot_kmeans_interInertia(dict_kmeans, cluster_start, cluster_end\\\n",
    "                             ,[x_label_0, x_label_1]\\\n",
    "                             ,p_rows=1, p_cols=2, p_figsize=(20,10))"
   ]
  },
  {
   "cell_type": "markdown",
   "metadata": {},
   "source": [
    "#### Clustering : Time features silhouette"
   ]
  },
  {
   "cell_type": "code",
   "execution_count": 22,
   "metadata": {
    "scrolled": true
   },
   "outputs": [
    {
     "name": "stdout",
     "output_type": "stream",
     "text": [
      "p5_util.object_load : fileName= ./data/df_customers_timeFeature_pca.dump\n",
      "Time features : (2124, 30)\n",
      "p5_util.object_load : fileName= ./data/clustering_dict_kmeans_timeFeature.dump\n",
      "Clusters into Times features dict_kmeans= 10\n",
      "Cluster start = 1 Cluster end= 10\n",
      "Cluster 2 done!\n",
      "Cluster 3 done!\n",
      "Cluster 4 done!\n",
      "Cluster 5 done!\n",
      "Cluster 6 done!\n",
      "Cluster 7 done!\n",
      "Cluster 8 done!\n",
      "Cluster 9 done!\n"
     ]
    }
   ],
   "source": [
    "import p5_util\n",
    "import p5_util_plot\n",
    "\n",
    "if True:\n",
    "    fileName = './data/df_customers_timeFeature_pca.dump'\n",
    "    df_customers = p5_util.object_load(fileName)\n",
    "    print(\"Time features : \"+str(df_customers.shape))\n",
    "    \n",
    "    #-------------------------------------------------------------------------------\n",
    "    # Use kmeans dictionary to get numbers of clusters\n",
    "    #-------------------------------------------------------------------------------\n",
    "    fileName = './data/clustering_dict_kmeans_timeFeature.dump'\n",
    "    dict_kmeans = p5_util.object_load(fileName)\n",
    "    print(\"Clusters into Times features dict_kmeans= \"+str(len(dict_kmeans)))\n",
    "    cluster_start = list(dict_kmeans.keys())[0]\n",
    "    cluster_end = list(dict_kmeans.keys())[len(dict_kmeans)-1]\n",
    "    print(\"Cluster start = \"+str(cluster_start)+\" Cluster end= \"+str(cluster_end))\n",
    "\n",
    "\n",
    "dict_cluster_kmeans_silhouette = p5_util.kmeans_scan_silhouette(df_customers, cluster_start, cluster_end)"
   ]
  },
  {
   "cell_type": "markdown",
   "metadata": {},
   "source": [
    "#### Backup silhouette clustering result"
   ]
  },
  {
   "cell_type": "code",
   "execution_count": 23,
   "metadata": {},
   "outputs": [],
   "source": [
    "import p5_util\n",
    "fileName = './data/dict_cluster_kmeans_silhouette_TimeFeatures.dump'\n",
    "p5_util.object_dump(dict_cluster_kmeans_silhouette,fileName)"
   ]
  },
  {
   "cell_type": "markdown",
   "metadata": {},
   "source": [
    "#### Plotting silhouette = F(nb clusters)"
   ]
  },
  {
   "cell_type": "code",
   "execution_count": 24,
   "metadata": {},
   "outputs": [
    {
     "data": {
      "image/png": "[encoded data removed]",
      "text/plain": [
       "<matplotlib.figure.Figure at 0xa992c78c>"
      ]
     },
     "metadata": {},
     "output_type": "display_data"
    }
   ],
   "source": [
    "p_title='Time features : Kmeans Silhouette'\n",
    "p5_util_plot.plot_kmeans_silhouette(dict_cluster_kmeans_silhouette, p_title, p_figsize=(10,10))"
   ]
  },
  {
   "cell_type": "markdown",
   "metadata": {},
   "source": [
    "### <font color='blue'>Cluster model with best number of clusters</font>"
   ]
  },
  {
   "cell_type": "code",
   "execution_count": 25,
   "metadata": {},
   "outputs": [],
   "source": [
    "n_cluster=2"
   ]
  },
  {
   "cell_type": "code",
   "execution_count": 26,
   "metadata": {},
   "outputs": [],
   "source": [
    "from sklearn.cluster import KMeans\n",
    "from sklearn import metrics\n",
    "X = df_customers.values\n",
    "\n",
    "#csr_invoice_matrix = sparse.csr_matrix(df_RFM_encoded.values)\n",
    "cluster_kmean = KMeans(n_clusters=n_cluster).fit(X)\n",
    "\n",
    "# Predict the cluster for each data point\n",
    "preds_kmean = cluster_kmean.predict(X)"
   ]
  },
  {
   "cell_type": "markdown",
   "metadata": {},
   "source": [
    "### <font color='blue'>Adding *cluster* issue fro clustering into *df_customers*  as a new feature</font>"
   ]
  },
  {
   "cell_type": "code",
   "execution_count": 27,
   "metadata": {},
   "outputs": [
    {
     "data": {
      "text/plain": [
       "((2124, 30), (2124,))"
      ]
     },
     "execution_count": 27,
     "metadata": {},
     "output_type": "execute_result"
    }
   ],
   "source": [
    "if 'cluster' in df_customers.columns:\n",
    "    del(df_customers['cluster'])\n",
    "df_customers.shape,preds_kmean.shape"
   ]
  },
  {
   "cell_type": "code",
   "execution_count": 28,
   "metadata": {},
   "outputs": [
    {
     "name": "stdout",
     "output_type": "stream",
     "text": [
      "(2124, 30)\n",
      "(2124, 31)\n"
     ]
    }
   ],
   "source": [
    "import p5_util\n",
    "\n",
    "print(df_customers.shape)\n",
    "df_customers = p5_util.df_add_cluster(df_customers, preds_kmean)\n",
    "print(df_customers.shape)"
   ]
  },
  {
   "cell_type": "code",
   "execution_count": 29,
   "metadata": {},
   "outputs": [
    {
     "data": {
      "text/plain": [
       "Index(['cluster', 'time_pca_0', 'time_pca_1', 'time_pca_2', 'time_pca_3',\n",
       "       'time_pca_4', 'time_pca_5', 'time_pca_6', 'time_pca_7', 'time_pca_8',\n",
       "       'time_pca_9', 'time_pca_10', 'time_pca_11', 'time_pca_12',\n",
       "       'time_pca_13', 'time_pca_14', 'time_pca_15', 'time_pca_16',\n",
       "       'time_pca_17', 'time_pca_18', 'time_pca_19', 'time_pca_20',\n",
       "       'time_pca_21', 'time_pca_22', 'time_pca_23', 'time_pca_24',\n",
       "       'time_pca_25', 'time_pca_26', 'time_pca_27', 'time_pca_28',\n",
       "       'time_pca_29'],\n",
       "      dtype='object')"
      ]
     },
     "execution_count": 29,
     "metadata": {},
     "output_type": "execute_result"
    }
   ],
   "source": [
    "df_customers.columns"
   ]
  },
  {
   "cell_type": "markdown",
   "metadata": {},
   "source": [
    "### <font color='blue'>Showing elements count per cluster</font>"
   ]
  },
  {
   "cell_type": "code",
   "execution_count": 30,
   "metadata": {},
   "outputs": [
    {
     "name": "stdout",
     "output_type": "stream",
     "text": [
      "Clusters = [0 1]\n",
      "Population cumulée par cluster = 2124\n",
      "         Count\n",
      "cluster       \n",
      "0         2122\n",
      "1            2\n"
     ]
    },
    {
     "data": {
      "image/png": "[encoded data removed]",
      "text/plain": [
       "<matplotlib.figure.Figure at 0xa991b48c>"
      ]
     },
     "metadata": {},
     "output_type": "display_data"
    }
   ],
   "source": [
    "import p5_util_plot\n",
    "p5_util_plot.plot_cluster_frequency(df_customers)"
   ]
  },
  {
   "cell_type": "markdown",
   "metadata": {},
   "source": [
    "## <font color='blue'> DBSCAN clustering</font>"
   ]
  },
  {
   "cell_type": "markdown",
   "metadata": {},
   "source": [
    "#### Distances distribution"
   ]
  },
  {
   "cell_type": "code",
   "execution_count": 31,
   "metadata": {},
   "outputs": [
    {
     "name": "stdout",
     "output_type": "stream",
     "text": [
      "0.0 156.69397618522703\n",
      "Distance median = 4.251861177452584\n",
      "Nb elts de distances= 2254626\n",
      "Distance elts computing : n*(n+1)/2 - n = 2254626\n"
     ]
    },
    {
     "data": {
      "text/html": [
       "<div>\n",
       "<style scoped>\n",
       "    .dataframe tbody tr th:only-of-type {\n",
       "        vertical-align: middle;\n",
       "    }\n",
       "\n",
       "    .dataframe tbody tr th {\n",
       "        vertical-align: top;\n",
       "    }\n",
       "\n",
       "    .dataframe thead th {\n",
       "        text-align: right;\n",
       "    }\n",
       "</style>\n",
       "<table border=\"1\" class=\"dataframe\">\n",
       "  <thead>\n",
       "    <tr style=\"text-align: right;\">\n",
       "      <th></th>\n",
       "      <th>Distance</th>\n",
       "    </tr>\n",
       "  </thead>\n",
       "  <tbody>\n",
       "    <tr>\n",
       "      <th>0.15</th>\n",
       "      <td>1.804062</td>\n",
       "    </tr>\n",
       "    <tr>\n",
       "      <th>0.25</th>\n",
       "      <td>2.458834</td>\n",
       "    </tr>\n",
       "    <tr>\n",
       "      <th>0.50</th>\n",
       "      <td>4.251861</td>\n",
       "    </tr>\n",
       "    <tr>\n",
       "      <th>0.75</th>\n",
       "      <td>7.008467</td>\n",
       "    </tr>\n",
       "    <tr>\n",
       "      <th>0.95</th>\n",
       "      <td>14.738873</td>\n",
       "    </tr>\n",
       "  </tbody>\n",
       "</table>\n",
       "</div>"
      ],
      "text/plain": [
       "       Distance\n",
       "0.15   1.804062\n",
       "0.25   2.458834\n",
       "0.50   4.251861\n",
       "0.75   7.008467\n",
       "0.95  14.738873"
      ]
     },
     "execution_count": 31,
     "metadata": {},
     "output_type": "execute_result"
    }
   ],
   "source": [
    "import numpy as np\n",
    "from scipy.spatial.distance import pdist, squareform\n",
    "\n",
    "if 'cluster' in df_customers.columns:\n",
    "    del(df_customers['cluster'])\n",
    "    \n",
    "distances = pdist(df_customers.values, metric='euclidean')\n",
    "\n",
    "print(np.min(distances), np.max(distances))\n",
    "\n",
    "\n",
    "\n",
    "x_med = np.median(distances)\n",
    "print(\"Distance median = \"+str(x_med))\n",
    "print(\"Nb elts de distances= \"+str(len(distances)))\n",
    "len(np.where(distances<x_med)[0])\n",
    "\n",
    "raws = df_customers.shape[0]\n",
    "print(\"Distance elts computing : n*(n+1)/2 - n = \"+str(int((raws*(raws+1)/2)-raws)))\n",
    "\n",
    "df_dist = pd.DataFrame(distances)\n",
    "\n",
    "df_dist_quantiles = df_dist.quantile(q=[0.15, 0.25 ,0.5, 0.75, 0.95])\n",
    "\n",
    "df_dist_quantiles.rename(columns={0:'Distance'},inplace=True)\n",
    "df_dist_quantiles"
   ]
  },
  {
   "cell_type": "code",
   "execution_count": 32,
   "metadata": {},
   "outputs": [],
   "source": [
    "p_eps=7.0"
   ]
  },
  {
   "cell_type": "markdown",
   "metadata": {},
   "source": [
    "#### Computing nb neighbours for 95% fo distances"
   ]
  },
  {
   "cell_type": "code",
   "execution_count": 33,
   "metadata": {},
   "outputs": [
    {
     "name": "stdout",
     "output_type": "stream",
     "text": [
      "(2124, 2124)\n"
     ]
    }
   ],
   "source": [
    "import numpy as np\n",
    "\n",
    "dist_matrix = squareform(distances)\n",
    "print(dist_matrix.shape)\n",
    "dict_ball_neighbour = dict()\n",
    "for raw in range(0,dist_matrix.shape[0]):\n",
    "    dict_ball_neighbour[raw] = len(np.where(dist_matrix[raw]<= p_eps)[0])"
   ]
  },
  {
   "cell_type": "raw",
   "metadata": {},
   "source": [
    "dict_ball_neighbour"
   ]
  },
  {
   "cell_type": "code",
   "execution_count": 34,
   "metadata": {},
   "outputs": [
    {
     "data": {
      "text/plain": [
       "0.15    1552.90\n",
       "0.25    1787.75\n",
       "0.50    1850.00\n",
       "0.75    1855.00\n",
       "0.95    1860.00\n",
       "1.00    1888.00\n",
       "dtype: float64"
      ]
     },
     "execution_count": 34,
     "metadata": {},
     "output_type": "execute_result"
    }
   ],
   "source": [
    "ser_ball_neighbour = pd.Series(dict_ball_neighbour)\n",
    "ser_neighbour_quantiles = ser_ball_neighbour.quantile(q=[0.15, 0.25 ,0.5, 0.75, 0.95, 1.0])\n",
    "ser_neighbour_quantiles"
   ]
  },
  {
   "cell_type": "markdown",
   "metadata": {},
   "source": [
    "### DBSCAN clustering"
   ]
  },
  {
   "cell_type": "code",
   "execution_count": 35,
   "metadata": {},
   "outputs": [
    {
     "data": {
      "text/plain": [
       "array([-1], dtype=int32)"
      ]
     },
     "execution_count": 35,
     "metadata": {},
     "output_type": "execute_result"
    }
   ],
   "source": [
    "from sklearn.cluster import DBSCAN\n",
    "dbscan = DBSCAN(eps=p_eps,min_samples=3500, n_jobs=3)\n",
    "if 'cluster' in df_customers.columns:\n",
    "    del(df_customers['cluster'])\n",
    "pred_dbscan =  dbscan.fit_predict(df_customers)\n",
    "\n",
    "import numpy as np\n",
    "np.unique(pred_dbscan)"
   ]
  },
  {
   "cell_type": "code",
   "execution_count": 36,
   "metadata": {},
   "outputs": [
    {
     "name": "stdout",
     "output_type": "stream",
     "text": [
      "(2124, 30)\n",
      "(2124, 31)\n",
      "Clusters = [-1]\n",
      "Population cumulée par cluster = 2124\n",
      "         Count\n",
      "cluster       \n",
      "-1        2124\n"
     ]
    },
    {
     "data": {
      "image/png": "[encoded data removed]",
      "text/plain": [
       "<matplotlib.figure.Figure at 0xa97a95cc>"
      ]
     },
     "metadata": {},
     "output_type": "display_data"
    }
   ],
   "source": [
    "import p5_util\n",
    "import p5_util_plot\n",
    "\n",
    "print(df_customers.shape)\n",
    "df_customers = p5_util.df_add_cluster(df_customers, pred_dbscan)\n",
    "print(df_customers.shape)\n",
    "p5_util_plot.plot_cluster_frequency(df_customers)"
   ]
  },
  {
   "cell_type": "markdown",
   "metadata": {},
   "source": [
    "## <font color='blue'>GMM clustering</font>"
   ]
  },
  {
   "cell_type": "markdown",
   "metadata": {},
   "source": [
    "#### Restore dataframe with reduced dimensions per customer and encoded values"
   ]
  },
  {
   "cell_type": "code",
   "execution_count": 37,
   "metadata": {},
   "outputs": [
    {
     "name": "stdout",
     "output_type": "stream",
     "text": [
      "p5_util.object_load : fileName= ./data/df_customers_timeFeature_pca.dump\n",
      "(2124, 30)\n",
      "(2124, 30)\n"
     ]
    }
   ],
   "source": [
    "import p5_util\n",
    "\n",
    "if is_reloaded is True:\n",
    "    fileName = './data/df_customers_timeFeature_pca.dump'\n",
    "    df_customers = p5_util.object_load(fileName)\n",
    "    print(df_customers.shape)\n",
    "\n",
    "if 'cluster' in df_customers.columns:\n",
    "    del(df_customers['cluster'])\n",
    "print(df_customers.shape)    "
   ]
  },
  {
   "cell_type": "markdown",
   "metadata": {},
   "source": [
    "#### Clustering to search for from a given range "
   ]
  },
  {
   "cell_type": "code",
   "execution_count": 38,
   "metadata": {},
   "outputs": [],
   "source": [
    "cluster_start = 1\n",
    "cluster_end = 11"
   ]
  },
  {
   "cell_type": "markdown",
   "metadata": {},
   "source": [
    "#### GMM clustering evaluation : using BIC and AIC criterias\n",
    "* AIC : provides a measure of statistical quality model. It measures loss of information (increase of entropy)  when multiple models are suggested, models with increaing complexity.\n",
    "* BIC : comes from AIC\n",
    "\n",
    "Goal : minimisation of both criterias"
   ]
  },
  {
   "cell_type": "markdown",
   "metadata": {},
   "source": [
    "#### Cross-validation of GMM hyper-parameter : covariance type."
   ]
  },
  {
   "cell_type": "code",
   "execution_count": 39,
   "metadata": {
    "scrolled": true
   },
   "outputs": [
    {
     "name": "stdout",
     "output_type": "stream",
     "text": [
      "Clustering from clusters range from : 1 --> 11\n",
      "GMM Hyper-parameter type= covariance_type\n",
      "Hyper parameter value : diag\n",
      "Hyper parameter value : spherical\n",
      "Hyper parameter value : full\n"
     ]
    }
   ],
   "source": [
    "import p5_util\n",
    "dict_hyper_parameter={'covariance_type':['diag','spherical','full']}\n",
    "t_range_cluster = (cluster_start, cluster_end)\n",
    "dict_list_gmm_model = p5_util.gmm_hyper_parameter_cv(df_customers, t_range_cluster ,dict_hyper_parameter)"
   ]
  },
  {
   "cell_type": "markdown",
   "metadata": {},
   "source": [
    "#### Display AIC and BIC considering clusters number"
   ]
  },
  {
   "cell_type": "raw",
   "metadata": {},
   "source": [
    "dict_list_gmm_model"
   ]
  },
  {
   "cell_type": "code",
   "execution_count": 40,
   "metadata": {},
   "outputs": [
    {
     "data": {
      "text/plain": [
       "<matplotlib.figure.Figure at 0xa9789dac>"
      ]
     },
     "metadata": {},
     "output_type": "display_data"
    },
    {
     "data": {
      "image/png": "[encoded data removed]",
      "text/plain": [
       "<matplotlib.figure.Figure at 0xa974808c>"
      ]
     },
     "metadata": {},
     "output_type": "display_data"
    }
   ],
   "source": [
    "import p5_util_plot\n",
    "p_figsize = (10,10)\n",
    "t_range_cluster = (cluster_start, cluster_end)\n",
    "p_title = 'GMM : time features AIC and BIC '\n",
    "p5_util_plot.gmm_models_plot_AIC_BIC(df_customers, dict_list_gmm_model, t_range_cluster, p_figsize, p_title)"
   ]
  },
  {
   "cell_type": "markdown",
   "metadata": {},
   "source": [
    "#### <font color='green'>Loss of information is optimized for cluster = 3</font>"
   ]
  },
  {
   "cell_type": "markdown",
   "metadata": {},
   "source": [
    "#### GMM models evaluation:  computation of silhouette score"
   ]
  },
  {
   "cell_type": "code",
   "execution_count": 41,
   "metadata": {},
   "outputs": [
    {
     "name": "stdout",
     "output_type": "stream",
     "text": [
      "GMM Silhouette score: Hyper-parameter = diag\n",
      "GMM Silhouette score: Cluster= 2\n",
      "GMM Silhouette score: Cluster= 3\n",
      "GMM Silhouette score: Cluster= 4\n",
      "GMM Silhouette score: Cluster= 5\n",
      "GMM Silhouette score: Cluster= 6\n",
      "GMM Silhouette score: Cluster= 7\n",
      "GMM Silhouette score: Cluster= 8\n",
      "GMM Silhouette score: Cluster= 9\n",
      "GMM Silhouette score: Cluster= 10\n",
      "\n",
      "GMM Silhouette score: Hyper-parameter = spherical\n",
      "GMM Silhouette score: Cluster= 2\n",
      "GMM Silhouette score: Cluster= 3\n",
      "GMM Silhouette score: Cluster= 4\n",
      "GMM Silhouette score: Cluster= 5\n",
      "GMM Silhouette score: Cluster= 6\n",
      "GMM Silhouette score: Cluster= 7\n",
      "GMM Silhouette score: Cluster= 8\n",
      "GMM Silhouette score: Cluster= 9\n",
      "GMM Silhouette score: Cluster= 10\n",
      "\n",
      "GMM Silhouette score: Hyper-parameter = full\n",
      "GMM Silhouette score: Cluster= 2\n",
      "GMM Silhouette score: Cluster= 3\n",
      "GMM Silhouette score: Cluster= 4\n",
      "GMM Silhouette score: Cluster= 5\n",
      "GMM Silhouette score: Cluster= 6\n",
      "GMM Silhouette score: Cluster= 7\n",
      "GMM Silhouette score: Cluster= 8\n",
      "GMM Silhouette score: Cluster= 9\n",
      "GMM Silhouette score: Cluster= 10\n",
      "\n"
     ]
    }
   ],
   "source": [
    "import p5_util\n",
    "dict_dict_silhouette_score = p5_util.gmm_silhouette_compute(df_customers, dict_list_gmm_model)\n"
   ]
  },
  {
   "cell_type": "markdown",
   "metadata": {},
   "source": [
    "#### Plot silhouette score for any type of covariance and for any type of GMM model\n",
    "\n",
    "* For each covariance type (spherical, diag and full), GMM models ranking from *cluster_start* to *cluster_end* have been built"
   ]
  },
  {
   "cell_type": "code",
   "execution_count": 42,
   "metadata": {},
   "outputs": [
    {
     "data": {
      "image/png": "[encoded data removed]",
      "text/plain": [
       "<matplotlib.figure.Figure at 0xa4ce6f6c>"
      ]
     },
     "metadata": {},
     "output_type": "display_data"
    }
   ],
   "source": [
    "import p5_util_plot\n",
    "p_figsize=(21,14)\n",
    "areas_raws =1\n",
    "areas_colums =3\n",
    "p_title = \"GMM : silhouette\"\n",
    "p5_util_plot.gmm_models_plot_silhouette(df_customers, dict_dict_silhouette_score\\\n",
    ", p_figsize, p_title, areas_raws, areas_colums)"
   ]
  },
  {
   "cell_type": "markdown",
   "metadata": {},
   "source": [
    "#### Selection of best clusters count with optimum covariance type"
   ]
  },
  {
   "cell_type": "code",
   "execution_count": 43,
   "metadata": {},
   "outputs": [
    {
     "data": {
      "text/plain": [
       "GaussianMixture(covariance_type='diag', init_params='kmeans', max_iter=100,\n",
       "        means_init=None, n_components=4, n_init=1, precisions_init=None,\n",
       "        random_state=0, reg_covar=1e-06, tol=0.001, verbose=0,\n",
       "        verbose_interval=10, warm_start=False, weights_init=None)"
      ]
     },
     "execution_count": 43,
     "metadata": {},
     "output_type": "execute_result"
    }
   ],
   "source": [
    "p_covariance_type = 'diag'\n",
    "n_cluster = 4\n",
    "list_gmm_model = dict_list_gmm_model[p_covariance_type]\n",
    "for gmm_model in list_gmm_model:\n",
    "    if n_cluster == gmm_model.n_components:\n",
    "        break\n",
    "gmm_model"
   ]
  },
  {
   "cell_type": "code",
   "execution_count": 44,
   "metadata": {},
   "outputs": [
    {
     "name": "stdout",
     "output_type": "stream",
     "text": [
      "(2124, 30)\n",
      "(2124, 31)\n",
      "Clusters = [0 1 2 3]\n",
      "Population cumulée par cluster = 2124\n",
      "         Count\n",
      "cluster       \n",
      "0         1183\n",
      "1            1\n",
      "2          939\n",
      "3            1\n"
     ]
    },
    {
     "data": {
      "image/png": "[encoded data removed]",
      "text/plain": [
       "<matplotlib.figure.Figure at 0xa4bd4dac>"
      ]
     },
     "metadata": {},
     "output_type": "display_data"
    }
   ],
   "source": [
    "import p5_util\n",
    "import p5_util_plot\n",
    "if 'cluster' in df_customers.columns:\n",
    "    del(df_customers['cluster'])\n",
    "    \n",
    "pred_gmm = gmm_model.predict(df_customers.values)\n",
    "print(df_customers.shape)\n",
    "df_customers = p5_util.df_add_cluster(df_customers, pred_gmm)\n",
    "print(df_customers.shape)\n",
    "p5_util_plot.plot_cluster_frequency(df_customers)"
   ]
  },
  {
   "cell_type": "code",
   "execution_count": 45,
   "metadata": {},
   "outputs": [
    {
     "data": {
      "text/html": [
       "<div>\n",
       "<style scoped>\n",
       "    .dataframe tbody tr th:only-of-type {\n",
       "        vertical-align: middle;\n",
       "    }\n",
       "\n",
       "    .dataframe tbody tr th {\n",
       "        vertical-align: top;\n",
       "    }\n",
       "\n",
       "    .dataframe thead th {\n",
       "        text-align: right;\n",
       "    }\n",
       "</style>\n",
       "<table border=\"1\" class=\"dataframe\">\n",
       "  <thead>\n",
       "    <tr style=\"text-align: right;\">\n",
       "      <th></th>\n",
       "      <th>cluster</th>\n",
       "      <th>time_pca_0</th>\n",
       "      <th>time_pca_1</th>\n",
       "      <th>time_pca_2</th>\n",
       "      <th>time_pca_3</th>\n",
       "      <th>time_pca_4</th>\n",
       "      <th>time_pca_5</th>\n",
       "      <th>time_pca_6</th>\n",
       "      <th>time_pca_7</th>\n",
       "      <th>time_pca_8</th>\n",
       "      <th>...</th>\n",
       "      <th>time_pca_20</th>\n",
       "      <th>time_pca_21</th>\n",
       "      <th>time_pca_22</th>\n",
       "      <th>time_pca_23</th>\n",
       "      <th>time_pca_24</th>\n",
       "      <th>time_pca_25</th>\n",
       "      <th>time_pca_26</th>\n",
       "      <th>time_pca_27</th>\n",
       "      <th>time_pca_28</th>\n",
       "      <th>time_pca_29</th>\n",
       "    </tr>\n",
       "    <tr>\n",
       "      <th>CustomerID</th>\n",
       "      <th></th>\n",
       "      <th></th>\n",
       "      <th></th>\n",
       "      <th></th>\n",
       "      <th></th>\n",
       "      <th></th>\n",
       "      <th></th>\n",
       "      <th></th>\n",
       "      <th></th>\n",
       "      <th></th>\n",
       "      <th></th>\n",
       "      <th></th>\n",
       "      <th></th>\n",
       "      <th></th>\n",
       "      <th></th>\n",
       "      <th></th>\n",
       "      <th></th>\n",
       "      <th></th>\n",
       "      <th></th>\n",
       "      <th></th>\n",
       "      <th></th>\n",
       "    </tr>\n",
       "  </thead>\n",
       "  <tbody>\n",
       "    <tr>\n",
       "      <th>13827</th>\n",
       "      <td>2</td>\n",
       "      <td>0.159591</td>\n",
       "      <td>-0.357518</td>\n",
       "      <td>-0.966049</td>\n",
       "      <td>0.768561</td>\n",
       "      <td>1.071325</td>\n",
       "      <td>-0.449575</td>\n",
       "      <td>-0.653663</td>\n",
       "      <td>-1.494952</td>\n",
       "      <td>0.152031</td>\n",
       "      <td>...</td>\n",
       "      <td>-0.210729</td>\n",
       "      <td>-1.030475</td>\n",
       "      <td>-0.325405</td>\n",
       "      <td>-0.261883</td>\n",
       "      <td>-0.764185</td>\n",
       "      <td>-0.981062</td>\n",
       "      <td>-0.351794</td>\n",
       "      <td>0.152829</td>\n",
       "      <td>0.553572</td>\n",
       "      <td>-0.213526</td>\n",
       "    </tr>\n",
       "  </tbody>\n",
       "</table>\n",
       "<p>1 rows × 31 columns</p>\n",
       "</div>"
      ],
      "text/plain": [
       "            cluster  time_pca_0  time_pca_1  time_pca_2  time_pca_3  \\\n",
       "CustomerID                                                            \n",
       "13827             2    0.159591   -0.357518   -0.966049    0.768561   \n",
       "\n",
       "            time_pca_4  time_pca_5  time_pca_6  time_pca_7  time_pca_8  \\\n",
       "CustomerID                                                               \n",
       "13827         1.071325   -0.449575   -0.653663   -1.494952    0.152031   \n",
       "\n",
       "               ...       time_pca_20  time_pca_21  time_pca_22  time_pca_23  \\\n",
       "CustomerID     ...                                                            \n",
       "13827          ...         -0.210729    -1.030475    -0.325405    -0.261883   \n",
       "\n",
       "            time_pca_24  time_pca_25  time_pca_26  time_pca_27  time_pca_28  \\\n",
       "CustomerID                                                                    \n",
       "13827         -0.764185    -0.981062    -0.351794     0.152829     0.553572   \n",
       "\n",
       "            time_pca_29  \n",
       "CustomerID               \n",
       "13827         -0.213526  \n",
       "\n",
       "[1 rows x 31 columns]"
      ]
     },
     "execution_count": 45,
     "metadata": {},
     "output_type": "execute_result"
    }
   ],
   "source": [
    "df_customers.sample()"
   ]
  },
  {
   "cell_type": "code",
   "execution_count": 46,
   "metadata": {},
   "outputs": [],
   "source": [
    "import p5_util\n",
    "fileName = './data/pred_gmm_timeFeature.dump'\n",
    "p5_util.object_dump(df_customers, fileName)"
   ]
  },
  {
   "cell_type": "code",
   "execution_count": null,
   "metadata": {},
   "outputs": [],
   "source": []
  }
 ],
 "metadata": {
  "kernelspec": {
   "display_name": "Python 3",
   "language": "python",
   "name": "python3"
  },
  "language_info": {
   "codemirror_mode": {
    "name": "ipython",
    "version": 3
   },
   "file_extension": ".py",
   "mimetype": "text/x-python",
   "name": "python",
   "nbconvert_exporter": "python",
   "pygments_lexer": "ipython3",
   "version": "3.6.4"
  }
 },
 "nbformat": 4,
 "nbformat_minor": 2
}
