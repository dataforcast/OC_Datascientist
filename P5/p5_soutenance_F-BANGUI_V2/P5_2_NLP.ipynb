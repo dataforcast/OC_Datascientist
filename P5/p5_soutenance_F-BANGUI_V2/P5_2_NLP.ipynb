{
 "cells": [
  {
   "cell_type": "markdown",
   "metadata": {},
   "source": [
    "<!--NOTEBOOK_INFORMATION-->\n",
    "<img align=\"left\" style=\"padding-right:10px;\" src=\"./figures/LogoOpenclassrooms.png\">\n",
    "<font size=\"4\">\n",
    "<p>\n",
    "Cette étude a été réalisée dans le cadre du 5ème projet de ma formation Datascientist dispensée en MOOC par \n",
    "**<font color='blus'>Openclassrooms / écoles Centrale-Supélec</font>**.\n",
    "</p>    \n",
    "\n",
    "<p>\n",
    "Le modèle étudié se base sur les données fournies par le site :\n",
    "</p>\n",
    "<p>\n",
    "https://archive.ics.uci.edu/ml/datasets/Online+Retail\n",
    "</p>\n",
    "<p>\n",
    "\n",
    "<p>\n",
    "Ce notebook présente l'analyse des nouvelles feautres issues du traitement NLP de la colonne ``Description`` du dataset.\n",
    "</p>\n",
    "\n",
    "<p>\n",
    "Ce notebook implémente les phases de l'analyse exploratoire de la façon suivante :\n",
    "</p>\n",
    "* l'acquisition des données issues du sampling réalisé dans le notebook ``P5_2.ipynb``\n",
    "* les phases de traitement NLP des données textuelles.\n",
    "* l'analyse exploratoire de ces nouvelles données    \n",
    "* l'analyse et l'évaluation du clustering de ces données    \n",
    "\n",
    "**Les résultats de cette analyse sont reprise dans le notebook <font color='blue'>*P5_AllFeature.ipynb*</font>**. \n",
    "\n",
    "Ce dernier notebook permet d'évaluer les différents modèles de prédiction."
   ]
  },
  {
   "cell_type": "code",
   "execution_count": 68,
   "metadata": {},
   "outputs": [],
   "source": [
    "%matplotlib inline\n",
    "import pandas as pd\n",
    "import numpy as np\n",
    "import time\n",
    "\n",
    "import warnings\n",
    "warnings.filterwarnings(\"ignore\")\n",
    "\n",
    "\n",
    "import p3_util\n",
    "import p3_util_plot\n",
    "import p5_util\n",
    "import p5_util_plot\n",
    "\n",
    "#--------------------------\n",
    "# Process flow parameters\n",
    "#--------------------------\n",
    "is_reloaded = True\n",
    "\n",
    "#---------------------------------------------------------------------------\n",
    "# Outliers values issued from Total feature are removed or not from dataset.\n",
    "is_total_no_outliers = False\n",
    "#---------------------------------------------------------------------------\n",
    "is_pca_plot = True"
   ]
  },
  {
   "cell_type": "markdown",
   "metadata": {},
   "source": [
    "#### <font color='blue'>Restore *df_invoice_line* dataframe</font>"
   ]
  },
  {
   "cell_type": "code",
   "execution_count": 2,
   "metadata": {},
   "outputs": [
    {
     "name": "stdout",
     "output_type": "stream",
     "text": [
      "p5_util.object_load : fileName= ./data/df_invoice_line_sample_random.dump\n",
      "(194907, 7)\n",
      "(194907, 7)\n"
     ]
    },
    {
     "data": {
      "text/html": [
       "<div>\n",
       "<style scoped>\n",
       "    .dataframe tbody tr th:only-of-type {\n",
       "        vertical-align: middle;\n",
       "    }\n",
       "\n",
       "    .dataframe tbody tr th {\n",
       "        vertical-align: top;\n",
       "    }\n",
       "\n",
       "    .dataframe thead th {\n",
       "        text-align: right;\n",
       "    }\n",
       "</style>\n",
       "<table border=\"1\" class=\"dataframe\">\n",
       "  <thead>\n",
       "    <tr style=\"text-align: right;\">\n",
       "      <th></th>\n",
       "      <th>InvoiceNo</th>\n",
       "      <th>StockCode</th>\n",
       "      <th>Description</th>\n",
       "      <th>Quantity</th>\n",
       "      <th>InvoiceDate</th>\n",
       "      <th>UnitPrice</th>\n",
       "      <th>CustomerID</th>\n",
       "    </tr>\n",
       "  </thead>\n",
       "  <tbody>\n",
       "    <tr>\n",
       "      <th>181810</th>\n",
       "      <td>578999</td>\n",
       "      <td>75049L</td>\n",
       "      <td>LARGE CIRCULAR MIRROR MOBILE</td>\n",
       "      <td>6</td>\n",
       "      <td>2011-11-27 16:08:00</td>\n",
       "      <td>1.25</td>\n",
       "      <td>17595</td>\n",
       "    </tr>\n",
       "  </tbody>\n",
       "</table>\n",
       "</div>"
      ],
      "text/plain": [
       "       InvoiceNo StockCode                   Description  Quantity  \\\n",
       "181810    578999    75049L  LARGE CIRCULAR MIRROR MOBILE         6   \n",
       "\n",
       "               InvoiceDate  UnitPrice  CustomerID  \n",
       "181810 2011-11-27 16:08:00       1.25       17595  "
      ]
     },
     "execution_count": 2,
     "metadata": {},
     "output_type": "execute_result"
    }
   ],
   "source": [
    "import p5_util\n",
    "if is_reloaded is True:\n",
    "    df_invoice_line =  p5_util.p5_reload_data_sample()\n",
    "    print(df_invoice_line.shape)    \n",
    "\n",
    "df_invoice_line = df_invoice_line.reset_index()\n",
    "\n",
    "del(df_invoice_line['index'])\n",
    "df_invoice_line.sample(1)"
   ]
  },
  {
   "cell_type": "code",
   "execution_count": 3,
   "metadata": {},
   "outputs": [
    {
     "name": "stdout",
     "output_type": "stream",
     "text": [
      "\n",
      "*** Nombre de factures= 9330\n"
     ]
    }
   ],
   "source": [
    "nb_invoices = len(df_invoice_line['InvoiceNo'].unique())\n",
    "print(\"\\n*** Nombre de factures= \"+str(nb_invoices))"
   ]
  },
  {
   "cell_type": "markdown",
   "metadata": {},
   "source": [
    "# <font color='blus'>Building features from *Description* column</font>"
   ]
  },
  {
   "cell_type": "markdown",
   "metadata": {},
   "source": [
    "**Item names are processed with NLTK package. This process aims to create new features issues from Natural Language Processing.**\n",
    "\n",
    "**Those features will be then aggregated with RFM encoded feautures, UnitPrice and Total.**\n",
    "\n",
    "**Let's consider all items into *Description* feature as a corpus.**\n",
    "\n",
    "**Remove any punctuation from any *Description* feature**"
   ]
  },
  {
   "cell_type": "markdown",
   "metadata": {},
   "source": [
    "### <font color='blue'>Restore sample into *df_invoice_line*</font>"
   ]
  },
  {
   "cell_type": "code",
   "execution_count": 4,
   "metadata": {},
   "outputs": [
    {
     "name": "stdout",
     "output_type": "stream",
     "text": [
      "p5_util.object_load : fileName= ./data/df_invoice_line_sample_random.dump\n",
      "(194907, 7)\n",
      "(194907, 7)\n",
      "(194907, 2)\n"
     ]
    }
   ],
   "source": [
    "import p5_util\n",
    "\n",
    "df_invoice_line =  p5_util.p5_reload_data_sample()\n",
    "print(df_invoice_line.shape)    \n",
    "\n",
    "# <font color='blue'>Columns filtering</font>\n",
    "list_col_del = ['StockCode','InvoiceNo' ,'Quantity', 'InvoiceDate', 'UnitPrice','Country']\n",
    "for col_to_del in list_col_del:\n",
    "    if col_to_del in df_invoice_line.columns:\n",
    "        del(df_invoice_line[col_to_del])\n",
    "print(df_invoice_line.shape)"
   ]
  },
  {
   "cell_type": "markdown",
   "metadata": {},
   "source": [
    "### <font color='blue'>N.L.P. using NLTK</font>"
   ]
  },
  {
   "cell_type": "markdown",
   "metadata": {},
   "source": [
    "#### *<font color='blue'> csr_matrix_weights</font>* is backup from call of *<font color='blue'>p5_util.nlp_process()</font>*"
   ]
  },
  {
   "cell_type": "code",
   "execution_count": 5,
   "metadata": {},
   "outputs": [
    {
     "name": "stdout",
     "output_type": "stream",
     "text": [
      "3672\n",
      "3623\n",
      "3616\n",
      "3583\n",
      "3581\n",
      "3581\n",
      "3576\n",
      "3573\n",
      "(194907, 1716)\n",
      "Dumping matrix_weights into file= ./data/matrix_weights_NLP.dump\n",
      "Done!\n"
     ]
    }
   ],
   "source": [
    "import p5_util\n",
    "list_no_words=['SET','PACK']\n",
    "df_invoice_line, vectorizer, csr_matrix_weights \\\n",
    "= p5_util.nlp_process(df_invoice_line,'Description' ,list_no_words=list_no_words)"
   ]
  },
  {
   "cell_type": "code",
   "execution_count": 6,
   "metadata": {},
   "outputs": [],
   "source": [
    "#-------------------------------------------------------------------------\n",
    "# Description is droped from columns\n",
    "#-------------------------------------------------------------------------\n",
    "if 'Description' in df_invoice_line.columns:\n",
    "    del(df_invoice_line['Description'])"
   ]
  },
  {
   "cell_type": "code",
   "execution_count": 7,
   "metadata": {},
   "outputs": [
    {
     "data": {
      "text/plain": [
       "(194907, 1)"
      ]
     },
     "execution_count": 7,
     "metadata": {},
     "output_type": "execute_result"
    }
   ],
   "source": [
    "df_invoice_line.shape"
   ]
  },
  {
   "cell_type": "markdown",
   "metadata": {},
   "source": [
    "#### Restore matrix weights"
   ]
  },
  {
   "cell_type": "code",
   "execution_count": 8,
   "metadata": {},
   "outputs": [
    {
     "name": "stdout",
     "output_type": "stream",
     "text": [
      "p5_util.object_load : fileName= ./data/df_invoice_line_sample_random.dump\n",
      "(194907, 7)\n",
      "(194907, 7)\n",
      "(194907, 2)\n"
     ]
    },
    {
     "data": {
      "text/plain": [
       "Index(['Description', 'CustomerID'], dtype='object')"
      ]
     },
     "execution_count": 8,
     "metadata": {},
     "output_type": "execute_result"
    }
   ],
   "source": [
    "import p5_util\n",
    "\n",
    "df_invoice_line =  p5_util.p5_reload_data_sample()\n",
    "print(df_invoice_line.shape)    \n",
    "\n",
    "# <font color='blue'>Columns filtering</font>\n",
    "df_invoice_line = df_invoice_line[['Description', 'CustomerID']]\n",
    "if False:\n",
    "    list_col_del = ['StockCode','InvoiceNo' ,'Quantity', 'InvoiceDate', 'UnitPrice','Country']\n",
    "    for col_to_del in list_col_del:\n",
    "        if col_to_del in df_invoice_line.columns:\n",
    "            del(df_invoice_line[col_to_del])\n",
    "print(df_invoice_line.shape)\n",
    "df_invoice_line.columns"
   ]
  },
  {
   "cell_type": "markdown",
   "metadata": {},
   "source": [
    "### Matrix of NLP Weights computed per row are aggregated per customer"
   ]
  },
  {
   "cell_type": "code",
   "execution_count": 9,
   "metadata": {},
   "outputs": [
    {
     "name": "stdout",
     "output_type": "stream",
     "text": [
      "p5_util.object_load : fileName= ./data/matrix_weights_NLP.dump\n",
      "(194907, 1716)\n",
      "(2124, 1717)\n"
     ]
    }
   ],
   "source": [
    "import pandas as pd\n",
    "import p5_util\n",
    "\n",
    "matrix_weights_NLP = p5_util.object_load('./data/matrix_weights_NLP.dump')\n",
    "print(matrix_weights_NLP.shape)\n",
    "\n",
    "root_name = 'w_nlp_'\n",
    "df_customers_w_nlp = p5_util.df_nlp_sum_per_customer(df_invoice_line, matrix_weights_NLP, root_name)\n",
    "del(csr_matrix_weights)\n",
    "del(df_invoice_line)\n",
    "\n",
    "print(df_customers_w_nlp.shape)"
   ]
  },
  {
   "cell_type": "code",
   "execution_count": 10,
   "metadata": {},
   "outputs": [
    {
     "data": {
      "text/html": [
       "<div>\n",
       "<style scoped>\n",
       "    .dataframe tbody tr th:only-of-type {\n",
       "        vertical-align: middle;\n",
       "    }\n",
       "\n",
       "    .dataframe tbody tr th {\n",
       "        vertical-align: top;\n",
       "    }\n",
       "\n",
       "    .dataframe thead th {\n",
       "        text-align: right;\n",
       "    }\n",
       "</style>\n",
       "<table border=\"1\" class=\"dataframe\">\n",
       "  <thead>\n",
       "    <tr style=\"text-align: right;\">\n",
       "      <th></th>\n",
       "      <th>CustomerID</th>\n",
       "      <th>w_nlp_1</th>\n",
       "      <th>w_nlp_2</th>\n",
       "      <th>w_nlp_3</th>\n",
       "      <th>w_nlp_4</th>\n",
       "      <th>w_nlp_5</th>\n",
       "      <th>w_nlp_6</th>\n",
       "      <th>w_nlp_7</th>\n",
       "      <th>w_nlp_8</th>\n",
       "      <th>w_nlp_9</th>\n",
       "      <th>...</th>\n",
       "      <th>w_nlp_1707</th>\n",
       "      <th>w_nlp_1708</th>\n",
       "      <th>w_nlp_1709</th>\n",
       "      <th>w_nlp_1710</th>\n",
       "      <th>w_nlp_1711</th>\n",
       "      <th>w_nlp_1712</th>\n",
       "      <th>w_nlp_1713</th>\n",
       "      <th>w_nlp_1714</th>\n",
       "      <th>w_nlp_1715</th>\n",
       "      <th>w_nlp_1716</th>\n",
       "    </tr>\n",
       "  </thead>\n",
       "  <tbody>\n",
       "    <tr>\n",
       "      <th>1534</th>\n",
       "      <td>16794</td>\n",
       "      <td>0.0</td>\n",
       "      <td>0.0</td>\n",
       "      <td>0.0</td>\n",
       "      <td>0.0</td>\n",
       "      <td>1.579236</td>\n",
       "      <td>0.0</td>\n",
       "      <td>0.0</td>\n",
       "      <td>0.0</td>\n",
       "      <td>0.0</td>\n",
       "      <td>...</td>\n",
       "      <td>0.0</td>\n",
       "      <td>0.0</td>\n",
       "      <td>4.407445</td>\n",
       "      <td>0.0</td>\n",
       "      <td>0.0</td>\n",
       "      <td>0.0</td>\n",
       "      <td>0.0</td>\n",
       "      <td>0.0</td>\n",
       "      <td>2.426116</td>\n",
       "      <td>0.0</td>\n",
       "    </tr>\n",
       "  </tbody>\n",
       "</table>\n",
       "<p>1 rows × 1717 columns</p>\n",
       "</div>"
      ],
      "text/plain": [
       "      CustomerID  w_nlp_1  w_nlp_2  w_nlp_3  w_nlp_4   w_nlp_5  w_nlp_6  \\\n",
       "1534       16794      0.0      0.0      0.0      0.0  1.579236      0.0   \n",
       "\n",
       "      w_nlp_7  w_nlp_8  w_nlp_9     ...      w_nlp_1707  w_nlp_1708  \\\n",
       "1534      0.0      0.0      0.0     ...             0.0         0.0   \n",
       "\n",
       "      w_nlp_1709  w_nlp_1710  w_nlp_1711  w_nlp_1712  w_nlp_1713  w_nlp_1714  \\\n",
       "1534    4.407445         0.0         0.0         0.0         0.0         0.0   \n",
       "\n",
       "      w_nlp_1715  w_nlp_1716  \n",
       "1534    2.426116         0.0  \n",
       "\n",
       "[1 rows x 1717 columns]"
      ]
     },
     "execution_count": 10,
     "metadata": {},
     "output_type": "execute_result"
    }
   ],
   "source": [
    "df_customers_w_nlp.sample(1)"
   ]
  },
  {
   "cell_type": "markdown",
   "metadata": {},
   "source": [
    "#### Backup "
   ]
  },
  {
   "cell_type": "code",
   "execution_count": 11,
   "metadata": {},
   "outputs": [],
   "source": [
    "import p5_util\n",
    "\n",
    "fileName = './data/df_customers_w_nlp.dump'\n",
    "p5_util.object_dump(df_customers_w_nlp,fileName)"
   ]
  },
  {
   "cell_type": "markdown",
   "metadata": {},
   "source": [
    "# <font color='blus'> PCA NLP features</font>"
   ]
  },
  {
   "cell_type": "markdown",
   "metadata": {},
   "source": [
    "#### Restore "
   ]
  },
  {
   "cell_type": "code",
   "execution_count": 12,
   "metadata": {},
   "outputs": [
    {
     "name": "stdout",
     "output_type": "stream",
     "text": [
      "p5_util.object_load : fileName= ./data/df_customers_w_nlp.dump\n"
     ]
    }
   ],
   "source": [
    "import p5_util\n",
    "\n",
    "fileName = './data/df_customers_w_nlp.dump'\n",
    "df_customers_w_nlp = p5_util.object_load(fileName)"
   ]
  },
  {
   "cell_type": "code",
   "execution_count": 13,
   "metadata": {},
   "outputs": [
    {
     "data": {
      "text/plain": [
       "Index(['CustomerID', 'w_nlp_1', 'w_nlp_2', 'w_nlp_3', 'w_nlp_4', 'w_nlp_5',\n",
       "       'w_nlp_6', 'w_nlp_7', 'w_nlp_8', 'w_nlp_9',\n",
       "       ...\n",
       "       'w_nlp_1707', 'w_nlp_1708', 'w_nlp_1709', 'w_nlp_1710', 'w_nlp_1711',\n",
       "       'w_nlp_1712', 'w_nlp_1713', 'w_nlp_1714', 'w_nlp_1715', 'w_nlp_1716'],\n",
       "      dtype='object', length=1717)"
      ]
     },
     "execution_count": 13,
     "metadata": {},
     "output_type": "execute_result"
    }
   ],
   "source": [
    "df_customers_w_nlp.columns"
   ]
  },
  {
   "cell_type": "markdown",
   "metadata": {},
   "source": [
    "#### Restore "
   ]
  },
  {
   "cell_type": "code",
   "execution_count": 14,
   "metadata": {},
   "outputs": [
    {
     "data": {
      "text/plain": [
       "True"
      ]
     },
     "execution_count": 14,
     "metadata": {},
     "output_type": "execute_result"
    }
   ],
   "source": [
    "is_reloaded"
   ]
  },
  {
   "cell_type": "code",
   "execution_count": 15,
   "metadata": {},
   "outputs": [
    {
     "name": "stdout",
     "output_type": "stream",
     "text": [
      "p5_util.object_load : fileName= ./data/df_customers_w_nlp.dump\n",
      "(2124, 1717)\n"
     ]
    }
   ],
   "source": [
    "import p5_util\n",
    "is_reloaded=True\n",
    "if is_reloaded is True:\n",
    "    fileName = './data/df_customers_w_nlp.dump'\n",
    "    df_customers_nlp = p5_util.object_load(fileName)\n",
    "    print(df_customers_nlp.shape)\n",
    "else:\n",
    "    df_customers_nlp = df_w_nlp.copy()"
   ]
  },
  {
   "cell_type": "code",
   "execution_count": 16,
   "metadata": {},
   "outputs": [
    {
     "data": {
      "text/html": [
       "<div>\n",
       "<style scoped>\n",
       "    .dataframe tbody tr th:only-of-type {\n",
       "        vertical-align: middle;\n",
       "    }\n",
       "\n",
       "    .dataframe tbody tr th {\n",
       "        vertical-align: top;\n",
       "    }\n",
       "\n",
       "    .dataframe thead th {\n",
       "        text-align: right;\n",
       "    }\n",
       "</style>\n",
       "<table border=\"1\" class=\"dataframe\">\n",
       "  <thead>\n",
       "    <tr style=\"text-align: right;\">\n",
       "      <th></th>\n",
       "      <th>CustomerID</th>\n",
       "      <th>w_nlp_1</th>\n",
       "      <th>w_nlp_2</th>\n",
       "      <th>w_nlp_3</th>\n",
       "      <th>w_nlp_4</th>\n",
       "      <th>w_nlp_5</th>\n",
       "      <th>w_nlp_6</th>\n",
       "      <th>w_nlp_7</th>\n",
       "      <th>w_nlp_8</th>\n",
       "      <th>w_nlp_9</th>\n",
       "      <th>...</th>\n",
       "      <th>w_nlp_1707</th>\n",
       "      <th>w_nlp_1708</th>\n",
       "      <th>w_nlp_1709</th>\n",
       "      <th>w_nlp_1710</th>\n",
       "      <th>w_nlp_1711</th>\n",
       "      <th>w_nlp_1712</th>\n",
       "      <th>w_nlp_1713</th>\n",
       "      <th>w_nlp_1714</th>\n",
       "      <th>w_nlp_1715</th>\n",
       "      <th>w_nlp_1716</th>\n",
       "    </tr>\n",
       "  </thead>\n",
       "  <tbody>\n",
       "    <tr>\n",
       "      <th>1655</th>\n",
       "      <td>17109</td>\n",
       "      <td>0.650984</td>\n",
       "      <td>0.0</td>\n",
       "      <td>0.0</td>\n",
       "      <td>0.0</td>\n",
       "      <td>0.0</td>\n",
       "      <td>0.0</td>\n",
       "      <td>0.0</td>\n",
       "      <td>0.0</td>\n",
       "      <td>0.0</td>\n",
       "      <td>...</td>\n",
       "      <td>0.0</td>\n",
       "      <td>0.0</td>\n",
       "      <td>0.395804</td>\n",
       "      <td>0.0</td>\n",
       "      <td>0.0</td>\n",
       "      <td>0.0</td>\n",
       "      <td>0.0</td>\n",
       "      <td>0.0</td>\n",
       "      <td>0.463465</td>\n",
       "      <td>0.0</td>\n",
       "    </tr>\n",
       "  </tbody>\n",
       "</table>\n",
       "<p>1 rows × 1717 columns</p>\n",
       "</div>"
      ],
      "text/plain": [
       "      CustomerID   w_nlp_1  w_nlp_2  w_nlp_3  w_nlp_4  w_nlp_5  w_nlp_6  \\\n",
       "1655       17109  0.650984      0.0      0.0      0.0      0.0      0.0   \n",
       "\n",
       "      w_nlp_7  w_nlp_8  w_nlp_9     ...      w_nlp_1707  w_nlp_1708  \\\n",
       "1655      0.0      0.0      0.0     ...             0.0         0.0   \n",
       "\n",
       "      w_nlp_1709  w_nlp_1710  w_nlp_1711  w_nlp_1712  w_nlp_1713  w_nlp_1714  \\\n",
       "1655    0.395804         0.0         0.0         0.0         0.0         0.0   \n",
       "\n",
       "      w_nlp_1715  w_nlp_1716  \n",
       "1655    0.463465         0.0  \n",
       "\n",
       "[1 rows x 1717 columns]"
      ]
     },
     "execution_count": 16,
     "metadata": {},
     "output_type": "execute_result"
    }
   ],
   "source": [
    "df_customers_nlp.sample(1)"
   ]
  },
  {
   "cell_type": "code",
   "execution_count": 17,
   "metadata": {},
   "outputs": [],
   "source": [
    "import p3_util_plot\n",
    "list_col = [col for col in df_customers_nlp.columns  if col != 'CustomerID' ]"
   ]
  },
  {
   "cell_type": "code",
   "execution_count": 69,
   "metadata": {},
   "outputs": [
    {
     "data": {
      "text/plain": [
       "True"
      ]
     },
     "execution_count": 69,
     "metadata": {},
     "output_type": "execute_result"
    }
   ],
   "source": [
    "is_pca_plot"
   ]
  },
  {
   "cell_type": "code",
   "execution_count": 70,
   "metadata": {},
   "outputs": [
    {
     "name": "stdout",
     "output_type": "stream",
     "text": [
      "** Component = 100\n",
      "** Component = 200\n",
      "** Component = 300\n",
      "** Component = 400\n",
      "** Component = 500\n",
      "** Component = 600\n",
      "** Component = 700\n",
      "** Component = 800\n",
      "** Component = 900\n",
      "** Component = 1000\n",
      "** Component = 1100\n",
      "** Component = 1200\n",
      "** Component = 1300\n",
      "** Component = 1400\n",
      "** Component = 1500\n",
      "** Component = 1600\n",
      "** Component = 1700\n"
     ]
    },
    {
     "data": {
      "image/png": "[encoded data removed]",
      "text/plain": [
       "<matplotlib.figure.Figure at 0xa724268c>"
      ]
     },
     "metadata": {},
     "output_type": "display_data"
    }
   ],
   "source": [
    "import p3_util_plot\n",
    "if is_pca_plot is True:\n",
    "    z__ = p3_util_plot.df_pca_all_plot(df_customers_nlp[list_col], plot=True)"
   ]
  },
  {
   "cell_type": "markdown",
   "metadata": {},
   "source": [
    "#### Getting data explaining 90% of variance"
   ]
  },
  {
   "cell_type": "code",
   "execution_count": 20,
   "metadata": {},
   "outputs": [
    {
     "data": {
      "text/plain": [
       "(2124, 1717)"
      ]
     },
     "execution_count": 20,
     "metadata": {},
     "output_type": "execute_result"
    }
   ],
   "source": [
    "df_customers_nlp.shape"
   ]
  },
  {
   "cell_type": "markdown",
   "metadata": {},
   "source": [
    "#### 250 features allows to explain 90% of the total variance"
   ]
  },
  {
   "cell_type": "code",
   "execution_count": 21,
   "metadata": {},
   "outputs": [],
   "source": [
    "n_dim=250"
   ]
  },
  {
   "cell_type": "code",
   "execution_count": 22,
   "metadata": {},
   "outputs": [
    {
     "name": "stdout",
     "output_type": "stream",
     "text": [
      "(2124, 1717)\n",
      "(2124, 250)\n"
     ]
    }
   ],
   "source": [
    "import p5_util\n",
    "\n",
    "print(df_customers_nlp.shape)\n",
    "\n",
    "root_name = 'nlp_pca_'\n",
    "df_customers_pca_nlp, pca = p5_util.df_pca_reduce(df_customers_nlp\\\n",
    "                                            , n_dim, root_name, p_is_scale=False)\n",
    "print(df_customers_pca_nlp.shape)\n"
   ]
  },
  {
   "cell_type": "code",
   "execution_count": 23,
   "metadata": {},
   "outputs": [
    {
     "data": {
      "text/html": [
       "<div>\n",
       "<style scoped>\n",
       "    .dataframe tbody tr th:only-of-type {\n",
       "        vertical-align: middle;\n",
       "    }\n",
       "\n",
       "    .dataframe tbody tr th {\n",
       "        vertical-align: top;\n",
       "    }\n",
       "\n",
       "    .dataframe thead th {\n",
       "        text-align: right;\n",
       "    }\n",
       "</style>\n",
       "<table border=\"1\" class=\"dataframe\">\n",
       "  <thead>\n",
       "    <tr style=\"text-align: right;\">\n",
       "      <th></th>\n",
       "      <th>nlp_pca_0</th>\n",
       "      <th>nlp_pca_1</th>\n",
       "      <th>nlp_pca_2</th>\n",
       "      <th>nlp_pca_3</th>\n",
       "      <th>nlp_pca_4</th>\n",
       "      <th>nlp_pca_5</th>\n",
       "      <th>nlp_pca_6</th>\n",
       "      <th>nlp_pca_7</th>\n",
       "      <th>nlp_pca_8</th>\n",
       "      <th>nlp_pca_9</th>\n",
       "      <th>...</th>\n",
       "      <th>nlp_pca_240</th>\n",
       "      <th>nlp_pca_241</th>\n",
       "      <th>nlp_pca_242</th>\n",
       "      <th>nlp_pca_243</th>\n",
       "      <th>nlp_pca_244</th>\n",
       "      <th>nlp_pca_245</th>\n",
       "      <th>nlp_pca_246</th>\n",
       "      <th>nlp_pca_247</th>\n",
       "      <th>nlp_pca_248</th>\n",
       "      <th>nlp_pca_249</th>\n",
       "    </tr>\n",
       "    <tr>\n",
       "      <th>CustomerID</th>\n",
       "      <th></th>\n",
       "      <th></th>\n",
       "      <th></th>\n",
       "      <th></th>\n",
       "      <th></th>\n",
       "      <th></th>\n",
       "      <th></th>\n",
       "      <th></th>\n",
       "      <th></th>\n",
       "      <th></th>\n",
       "      <th></th>\n",
       "      <th></th>\n",
       "      <th></th>\n",
       "      <th></th>\n",
       "      <th></th>\n",
       "      <th></th>\n",
       "      <th></th>\n",
       "      <th></th>\n",
       "      <th></th>\n",
       "      <th></th>\n",
       "      <th></th>\n",
       "    </tr>\n",
       "  </thead>\n",
       "  <tbody>\n",
       "    <tr>\n",
       "      <th>13003</th>\n",
       "      <td>-9.583554</td>\n",
       "      <td>0.067185</td>\n",
       "      <td>2.512326</td>\n",
       "      <td>-0.748675</td>\n",
       "      <td>1.722055</td>\n",
       "      <td>-0.236616</td>\n",
       "      <td>0.30171</td>\n",
       "      <td>-0.392929</td>\n",
       "      <td>0.470869</td>\n",
       "      <td>0.093755</td>\n",
       "      <td>...</td>\n",
       "      <td>-0.038251</td>\n",
       "      <td>0.190156</td>\n",
       "      <td>0.05745</td>\n",
       "      <td>-0.038524</td>\n",
       "      <td>0.050787</td>\n",
       "      <td>0.111236</td>\n",
       "      <td>0.141248</td>\n",
       "      <td>-0.100709</td>\n",
       "      <td>0.113715</td>\n",
       "      <td>0.073527</td>\n",
       "    </tr>\n",
       "  </tbody>\n",
       "</table>\n",
       "<p>1 rows × 250 columns</p>\n",
       "</div>"
      ],
      "text/plain": [
       "            nlp_pca_0  nlp_pca_1  nlp_pca_2  nlp_pca_3  nlp_pca_4  nlp_pca_5  \\\n",
       "CustomerID                                                                     \n",
       "13003       -9.583554   0.067185   2.512326  -0.748675   1.722055  -0.236616   \n",
       "\n",
       "            nlp_pca_6  nlp_pca_7  nlp_pca_8  nlp_pca_9     ...       \\\n",
       "CustomerID                                                 ...        \n",
       "13003         0.30171  -0.392929   0.470869   0.093755     ...        \n",
       "\n",
       "            nlp_pca_240  nlp_pca_241  nlp_pca_242  nlp_pca_243  nlp_pca_244  \\\n",
       "CustomerID                                                                    \n",
       "13003         -0.038251     0.190156      0.05745    -0.038524     0.050787   \n",
       "\n",
       "            nlp_pca_245  nlp_pca_246  nlp_pca_247  nlp_pca_248  nlp_pca_249  \n",
       "CustomerID                                                                   \n",
       "13003          0.111236     0.141248    -0.100709     0.113715     0.073527  \n",
       "\n",
       "[1 rows x 250 columns]"
      ]
     },
     "execution_count": 23,
     "metadata": {},
     "output_type": "execute_result"
    }
   ],
   "source": [
    "df_customers_pca_nlp.sample(1)\n",
    "#df_customers_nlp.sample(1)"
   ]
  },
  {
   "cell_type": "markdown",
   "metadata": {},
   "source": [
    "#### Backup dumped file "
   ]
  },
  {
   "cell_type": "code",
   "execution_count": 24,
   "metadata": {},
   "outputs": [],
   "source": [
    "import p5_util\n",
    "fileName = './data/df_customers_pca_nlp.dump'\n",
    "p5_util.object_dump(df_customers_pca_nlp, fileName)"
   ]
  },
  {
   "cell_type": "markdown",
   "metadata": {},
   "source": [
    "# <font color='blus'> Clustering NLP features</font>"
   ]
  },
  {
   "cell_type": "markdown",
   "metadata": {},
   "source": [
    "#### Loading dumped file into *df_customers* dataframe"
   ]
  },
  {
   "cell_type": "code",
   "execution_count": 25,
   "metadata": {},
   "outputs": [
    {
     "name": "stdout",
     "output_type": "stream",
     "text": [
      "p5_util.object_load : fileName= ./data/df_customers_pca_nlp.dump\n",
      "(2124, 250)\n"
     ]
    }
   ],
   "source": [
    "import p5_util\n",
    "if is_reloaded is True:\n",
    "    fileName = './data/df_customers_pca_nlp.dump'\n",
    "    df_customers = p5_util.object_load(fileName)\n",
    "    print(df_customers.shape)\n",
    "else:\n",
    "    df_customers = df_customers_pca_nlp"
   ]
  },
  {
   "cell_type": "markdown",
   "metadata": {},
   "source": [
    "## <font color='blue'> NLP features: Kmeans Clustering</font>"
   ]
  },
  {
   "cell_type": "code",
   "execution_count": 26,
   "metadata": {},
   "outputs": [
    {
     "name": "stdout",
     "output_type": "stream",
     "text": [
      "Clustering : 1 clusters\n",
      "Clustering : 2 clusters\n",
      "Clustering : 3 clusters\n",
      "Clustering : 4 clusters\n",
      "Clustering : 5 clusters\n",
      "Clustering : 6 clusters\n",
      "Clustering : 7 clusters\n",
      "Clustering : 8 clusters\n",
      "Clustering : 9 clusters\n",
      "Clustering : 10 clusters\n"
     ]
    }
   ],
   "source": [
    "import p5_util\n",
    "cluster_start = 1\n",
    "cluster_end = 11\n",
    "dict_kmeans = p5_util.kmeans_scan_inter_inertia(df_customers, cluster_start, cluster_end)"
   ]
  },
  {
   "cell_type": "markdown",
   "metadata": {},
   "source": [
    "#### Save of Kmeans clustering scan from NLP features into a dumped file"
   ]
  },
  {
   "cell_type": "code",
   "execution_count": 27,
   "metadata": {},
   "outputs": [],
   "source": [
    "import p5_util\n",
    "\n",
    "fileName = './data/clustering_dict_kmeans_NLP.dump'\n",
    "p5_util.object_dump(dict_kmeans, fileName)"
   ]
  },
  {
   "cell_type": "markdown",
   "metadata": {},
   "source": [
    "#### NLP : Plot Clusters = F(inter-inertia)"
   ]
  },
  {
   "cell_type": "code",
   "execution_count": 28,
   "metadata": {},
   "outputs": [
    {
     "name": "stdout",
     "output_type": "stream",
     "text": [
      "p5_util.object_load : fileName= ./data/clustering_dict_kmeans_NLP.dump\n",
      "Records into Time feaures dict_kmeans= 10\n",
      "1 10\n"
     ]
    },
    {
     "data": {
      "image/png": "[encoded data removed]",
      "text/plain": [
       "<matplotlib.figure.Figure at 0xa6f8db2c>"
      ]
     },
     "metadata": {},
     "output_type": "display_data"
    }
   ],
   "source": [
    "import p5_util_plot\n",
    "import p5_util\n",
    "\n",
    "if is_reloaded is True:\n",
    "    fileName = './data/clustering_dict_kmeans_NLP.dump'\n",
    "    dict_kmeans = p5_util.object_load(fileName)\n",
    "    print(\"Records into Time feaures dict_kmeans= \"+str(len(dict_kmeans)))\n",
    "\n",
    "x_label_0 = 'NLP : Nb. clusters'\n",
    "x_label_1 = 'NLP : Nb. clusters'\n",
    "cluster_start = list(dict_kmeans.keys())[0]\n",
    "cluster_end = list(dict_kmeans.keys())[len(dict_kmeans)-1]\n",
    "print(cluster_start, cluster_end)\n",
    "p5_util_plot.plot_kmeans_interInertia(dict_kmeans, cluster_start, cluster_end\\\n",
    "                             ,[x_label_0, x_label_1]\\\n",
    "                             ,p_rows=1, p_cols=2, p_figsize=(20,10))"
   ]
  },
  {
   "cell_type": "markdown",
   "metadata": {},
   "source": [
    "#### Clustering : NLP Kmeans silhouette"
   ]
  },
  {
   "cell_type": "code",
   "execution_count": 29,
   "metadata": {
    "scrolled": true
   },
   "outputs": [
    {
     "name": "stdout",
     "output_type": "stream",
     "text": [
      "p5_util.object_load : fileName= ./data/df_customers_pca_nlp.dump\n",
      "NLP features : (2124, 250)\n",
      "p5_util.object_load : fileName= ./data/clustering_dict_kmeans_NLP.dump\n",
      "Clusters from NLP features Kmeans models into dict_kmeans= 10\n",
      "Cluster start = 1 Cluster end= 10\n",
      "Cluster 2 done!\n",
      "Cluster 3 done!\n",
      "Cluster 4 done!\n",
      "Cluster 5 done!\n",
      "Cluster 6 done!\n",
      "Cluster 7 done!\n",
      "Cluster 8 done!\n",
      "Cluster 9 done!\n"
     ]
    }
   ],
   "source": [
    "import p5_util\n",
    "import p5_util_plot\n",
    "\n",
    "if True:\n",
    "    fileName = './data/df_customers_pca_nlp.dump'\n",
    "    df_customers = p5_util.object_load(fileName)\n",
    "    print(\"NLP features : \"+str(df_customers.shape))\n",
    "    \n",
    "    #-------------------------------------------------------------------------------\n",
    "    # Use kmeans dictionary to get numbers of clusters\n",
    "    #-------------------------------------------------------------------------------\n",
    "    fileName = './data/clustering_dict_kmeans_NLP.dump'\n",
    "    dict_kmeans = p5_util.object_load(fileName)\n",
    "    print(\"Clusters from NLP features Kmeans models into dict_kmeans= \"+str(len(dict_kmeans)))\n",
    "    cluster_start = list(dict_kmeans.keys())[0]\n",
    "    cluster_end = list(dict_kmeans.keys())[len(dict_kmeans)-1]\n",
    "    print(\"Cluster start = \"+str(cluster_start)+\" Cluster end= \"+str(cluster_end))\n",
    "\n",
    "\n",
    "dict_cluster_kmeans_silhouette = p5_util.kmeans_scan_silhouette(df_customers, cluster_start, cluster_end)"
   ]
  },
  {
   "cell_type": "markdown",
   "metadata": {},
   "source": [
    "#### Backup silhouette clustering result"
   ]
  },
  {
   "cell_type": "code",
   "execution_count": 30,
   "metadata": {},
   "outputs": [],
   "source": [
    "import p5_util\n",
    "fileName = './data/dict_cluster_kmeans_silhouette_NLP.dump'\n",
    "p5_util.object_dump(dict_cluster_kmeans_silhouette,fileName)"
   ]
  },
  {
   "cell_type": "markdown",
   "metadata": {},
   "source": [
    "#### Plotting silhouette = F(nb clusters)"
   ]
  },
  {
   "cell_type": "code",
   "execution_count": 31,
   "metadata": {},
   "outputs": [
    {
     "data": {
      "image/png": "[encoded data removed]",
      "text/plain": [
       "<matplotlib.figure.Figure at 0xab05c5cc>"
      ]
     },
     "metadata": {},
     "output_type": "display_data"
    }
   ],
   "source": [
    "p_title='NLP features : Kmeans Silhouette'\n",
    "p5_util_plot.plot_kmeans_silhouette(dict_cluster_kmeans_silhouette, p_title, p_figsize=(10,10))"
   ]
  },
  {
   "cell_type": "markdown",
   "metadata": {},
   "source": [
    "### <font color='blue'>Cluster model with best number of clusters</font>"
   ]
  },
  {
   "cell_type": "code",
   "execution_count": 32,
   "metadata": {},
   "outputs": [],
   "source": [
    "n_cluster=3"
   ]
  },
  {
   "cell_type": "code",
   "execution_count": 33,
   "metadata": {},
   "outputs": [],
   "source": [
    "from sklearn.cluster import KMeans\n",
    "from sklearn import metrics\n",
    "X = df_customers.values\n",
    "\n",
    "#csr_invoice_matrix = sparse.csr_matrix(df_RFM_encoded.values)\n",
    "cluster_kmean = KMeans(n_clusters=n_cluster).fit(X)\n",
    "\n",
    "# Predict the cluster for each data point\n",
    "preds_kmean = cluster_kmean.predict(X)"
   ]
  },
  {
   "cell_type": "markdown",
   "metadata": {},
   "source": [
    "### <font color='blue'>Adding *cluster* issue fro clustering into *df_customers*  as a new feature</font>"
   ]
  },
  {
   "cell_type": "code",
   "execution_count": 34,
   "metadata": {},
   "outputs": [
    {
     "data": {
      "text/plain": [
       "((2124, 250), (2124,))"
      ]
     },
     "execution_count": 34,
     "metadata": {},
     "output_type": "execute_result"
    }
   ],
   "source": [
    "if 'cluster' in df_customers.columns:\n",
    "    del(df_customers['cluster'])\n",
    "df_customers.shape,preds_kmean.shape"
   ]
  },
  {
   "cell_type": "code",
   "execution_count": 35,
   "metadata": {},
   "outputs": [
    {
     "name": "stdout",
     "output_type": "stream",
     "text": [
      "(2124, 250)\n",
      "(2124, 251)\n"
     ]
    }
   ],
   "source": [
    "import p5_util\n",
    "\n",
    "print(df_customers.shape)\n",
    "df_customers = p5_util.df_add_cluster(df_customers, preds_kmean)\n",
    "print(df_customers.shape)"
   ]
  },
  {
   "cell_type": "code",
   "execution_count": 36,
   "metadata": {},
   "outputs": [
    {
     "data": {
      "text/plain": [
       "Index(['cluster', 'nlp_pca_0', 'nlp_pca_1', 'nlp_pca_2', 'nlp_pca_3',\n",
       "       'nlp_pca_4', 'nlp_pca_5', 'nlp_pca_6', 'nlp_pca_7', 'nlp_pca_8',\n",
       "       ...\n",
       "       'nlp_pca_240', 'nlp_pca_241', 'nlp_pca_242', 'nlp_pca_243',\n",
       "       'nlp_pca_244', 'nlp_pca_245', 'nlp_pca_246', 'nlp_pca_247',\n",
       "       'nlp_pca_248', 'nlp_pca_249'],\n",
       "      dtype='object', length=251)"
      ]
     },
     "execution_count": 36,
     "metadata": {},
     "output_type": "execute_result"
    }
   ],
   "source": [
    "df_customers.columns"
   ]
  },
  {
   "cell_type": "markdown",
   "metadata": {},
   "source": [
    "### <font color='blue'>Showing elements count per cluster</font>"
   ]
  },
  {
   "cell_type": "code",
   "execution_count": 37,
   "metadata": {},
   "outputs": [
    {
     "name": "stdout",
     "output_type": "stream",
     "text": [
      "Clusters = [0 1 2]\n",
      "Population cumulée par cluster = 2124\n",
      "         Count\n",
      "cluster       \n",
      "0           96\n",
      "1            1\n",
      "2         2027\n"
     ]
    },
    {
     "data": {
      "image/png": "[encoded data removed]",
      "text/plain": [
       "<matplotlib.figure.Figure at 0xab05612c>"
      ]
     },
     "metadata": {},
     "output_type": "display_data"
    }
   ],
   "source": [
    "import p5_util_plot\n",
    "p5_util_plot.plot_cluster_frequency(df_customers)"
   ]
  },
  {
   "cell_type": "markdown",
   "metadata": {},
   "source": [
    "## <font color='blue'> DBSCAN clustering</font>"
   ]
  },
  {
   "cell_type": "markdown",
   "metadata": {},
   "source": [
    "#### Distances distribution"
   ]
  },
  {
   "cell_type": "code",
   "execution_count": 38,
   "metadata": {},
   "outputs": [
    {
     "name": "stdout",
     "output_type": "stream",
     "text": [
      "0.0 1036.840613673533\n",
      "Distance median = 18.05809335257681\n",
      "Nb elts de distances= 2254626\n",
      "Distance elts computing : n*(n+1)/2 - n = 2254626\n"
     ]
    },
    {
     "data": {
      "text/html": [
       "<div>\n",
       "<style scoped>\n",
       "    .dataframe tbody tr th:only-of-type {\n",
       "        vertical-align: middle;\n",
       "    }\n",
       "\n",
       "    .dataframe tbody tr th {\n",
       "        vertical-align: top;\n",
       "    }\n",
       "\n",
       "    .dataframe thead th {\n",
       "        text-align: right;\n",
       "    }\n",
       "</style>\n",
       "<table border=\"1\" class=\"dataframe\">\n",
       "  <thead>\n",
       "    <tr style=\"text-align: right;\">\n",
       "      <th></th>\n",
       "      <th>Distance</th>\n",
       "    </tr>\n",
       "  </thead>\n",
       "  <tbody>\n",
       "    <tr>\n",
       "      <th>0.15</th>\n",
       "      <td>8.140229</td>\n",
       "    </tr>\n",
       "    <tr>\n",
       "      <th>0.25</th>\n",
       "      <td>10.697023</td>\n",
       "    </tr>\n",
       "    <tr>\n",
       "      <th>0.50</th>\n",
       "      <td>18.058093</td>\n",
       "    </tr>\n",
       "    <tr>\n",
       "      <th>0.75</th>\n",
       "      <td>31.758019</td>\n",
       "    </tr>\n",
       "    <tr>\n",
       "      <th>0.95</th>\n",
       "      <td>79.008785</td>\n",
       "    </tr>\n",
       "  </tbody>\n",
       "</table>\n",
       "</div>"
      ],
      "text/plain": [
       "       Distance\n",
       "0.15   8.140229\n",
       "0.25  10.697023\n",
       "0.50  18.058093\n",
       "0.75  31.758019\n",
       "0.95  79.008785"
      ]
     },
     "execution_count": 38,
     "metadata": {},
     "output_type": "execute_result"
    }
   ],
   "source": [
    "import numpy as np\n",
    "from scipy.spatial.distance import pdist, squareform\n",
    "\n",
    "if 'cluster' in df_customers.columns:\n",
    "    del(df_customers['cluster'])\n",
    "    \n",
    "distances = pdist(df_customers.values, metric='euclidean')\n",
    "\n",
    "print(np.min(distances), np.max(distances))\n",
    "\n",
    "\n",
    "\n",
    "x_med = np.median(distances)\n",
    "print(\"Distance median = \"+str(x_med))\n",
    "print(\"Nb elts de distances= \"+str(len(distances)))\n",
    "len(np.where(distances<x_med)[0])\n",
    "\n",
    "raws = df_customers.shape[0]\n",
    "print(\"Distance elts computing : n*(n+1)/2 - n = \"+str(int((raws*(raws+1)/2)-raws)))\n",
    "\n",
    "df_dist = pd.DataFrame(distances)\n",
    "\n",
    "df_dist_quantiles = df_dist.quantile(q=[0.15, 0.25 ,0.5, 0.75, 0.95])\n",
    "\n",
    "df_dist_quantiles.rename(columns={0:'Distance'},inplace=True)\n",
    "df_dist_quantiles"
   ]
  },
  {
   "cell_type": "code",
   "execution_count": 39,
   "metadata": {},
   "outputs": [],
   "source": [
    "p_eps=7.0"
   ]
  },
  {
   "cell_type": "markdown",
   "metadata": {},
   "source": [
    "#### Computing nb neighbours for 95% fo distances"
   ]
  },
  {
   "cell_type": "code",
   "execution_count": 40,
   "metadata": {},
   "outputs": [
    {
     "name": "stdout",
     "output_type": "stream",
     "text": [
      "(2124, 2124)\n"
     ]
    }
   ],
   "source": [
    "import numpy as np\n",
    "\n",
    "dist_matrix = squareform(distances)\n",
    "print(dist_matrix.shape)\n",
    "dict_ball_neighbour = dict()\n",
    "for raw in range(0,dist_matrix.shape[0]):\n",
    "    dict_ball_neighbour[raw] = len(np.where(dist_matrix[raw]<= p_eps)[0])"
   ]
  },
  {
   "cell_type": "raw",
   "metadata": {},
   "source": [
    "dict_ball_neighbour"
   ]
  },
  {
   "cell_type": "code",
   "execution_count": 41,
   "metadata": {},
   "outputs": [
    {
     "data": {
      "text/plain": [
       "0.15      1.0\n",
       "0.25      1.0\n",
       "0.50      1.0\n",
       "0.75    597.5\n",
       "0.95    748.0\n",
       "1.00    769.0\n",
       "dtype: float64"
      ]
     },
     "execution_count": 41,
     "metadata": {},
     "output_type": "execute_result"
    }
   ],
   "source": [
    "ser_ball_neighbour = pd.Series(dict_ball_neighbour)\n",
    "ser_neighbour_quantiles = ser_ball_neighbour.quantile(q=[0.15, 0.25 ,0.5, 0.75, 0.95, 1.0])\n",
    "ser_neighbour_quantiles"
   ]
  },
  {
   "cell_type": "markdown",
   "metadata": {},
   "source": [
    "### DBSCAN clustering"
   ]
  },
  {
   "cell_type": "code",
   "execution_count": 42,
   "metadata": {},
   "outputs": [
    {
     "data": {
      "text/plain": [
       "array([-1], dtype=int32)"
      ]
     },
     "execution_count": 42,
     "metadata": {},
     "output_type": "execute_result"
    }
   ],
   "source": [
    "from sklearn.cluster import DBSCAN\n",
    "dbscan = DBSCAN(eps=p_eps,min_samples=3500, n_jobs=3)\n",
    "if 'cluster' in df_customers.columns:\n",
    "    del(df_customers['cluster'])\n",
    "pred_dbscan =  dbscan.fit_predict(df_customers)\n",
    "\n",
    "import numpy as np\n",
    "np.unique(pred_dbscan)"
   ]
  },
  {
   "cell_type": "code",
   "execution_count": 43,
   "metadata": {},
   "outputs": [
    {
     "name": "stdout",
     "output_type": "stream",
     "text": [
      "(2124, 250)\n",
      "(2124, 251)\n",
      "Clusters = [-1]\n",
      "Population cumulée par cluster = 2124\n",
      "         Count\n",
      "cluster       \n",
      "-1        2124\n"
     ]
    },
    {
     "data": {
      "image/png": "[encoded data removed]",
      "text/plain": [
       "<matplotlib.figure.Figure at 0xaa2b50ac>"
      ]
     },
     "metadata": {},
     "output_type": "display_data"
    }
   ],
   "source": [
    "import p5_util\n",
    "import p5_util_plot\n",
    "\n",
    "print(df_customers.shape)\n",
    "df_customers = p5_util.df_add_cluster(df_customers, pred_dbscan)\n",
    "print(df_customers.shape)\n",
    "p5_util_plot.plot_cluster_frequency(df_customers)"
   ]
  },
  {
   "cell_type": "markdown",
   "metadata": {},
   "source": [
    "# <font color='blus'>GMM clustering</font>"
   ]
  },
  {
   "cell_type": "code",
   "execution_count": 44,
   "metadata": {},
   "outputs": [],
   "source": [
    "cluster_start = 1\n",
    "cluster_end = 11"
   ]
  },
  {
   "cell_type": "markdown",
   "metadata": {},
   "source": [
    "#### GMM clustering evaluation : using BIC and AIC criterias\n",
    "\n",
    "* AIC : mesure de la qualité du modele statistique. C'est une mesure de la perte d'information lorsque plusieurs modeles sont proposés, ceux-cic étant de complexité croissante.\n",
    "* BIC : dérive de l'AIC\n",
    "\n",
    "Objectif : minimiser ces deux critères."
   ]
  },
  {
   "cell_type": "code",
   "execution_count": 45,
   "metadata": {},
   "outputs": [
    {
     "name": "stdout",
     "output_type": "stream",
     "text": [
      "Clustering from clusters range from : 1 --> 11\n"
     ]
    }
   ],
   "source": [
    "from sklearn.mixture import GaussianMixture\n",
    "#cluster_start = 1\n",
    "#cluster_end = 20\n",
    "X = df_customers.values\n",
    "n_components = np.arange(cluster_start, cluster_end)\n",
    "print(\"Clustering from clusters range from : \"+str(cluster_start)+\" --> \"+str(cluster_end))\n",
    "p_covariance_type= 'spherical'\n",
    "p_covariance_type= 'full'\n",
    "list_gmm_model = [ GaussianMixture(n, covariance_type=p_covariance_type, random_state=0).fit(X) for n in n_components]"
   ]
  },
  {
   "cell_type": "code",
   "execution_count": 46,
   "metadata": {},
   "outputs": [
    {
     "data": {
      "image/png": "[encoded data removed]",
      "text/plain": [
       "<matplotlib.figure.Figure at 0xaa2b9e6c>"
      ]
     },
     "metadata": {},
     "output_type": "display_data"
    }
   ],
   "source": [
    "import matplotlib.pyplot as plt\n",
    "plt.figure(figsize=(7,7))\n",
    "\n",
    "plt.plot(n_components, [model.bic(X) for model in list_gmm_model], label='BIC')\n",
    "plt.plot(n_components, [model.aic(X) for model in list_gmm_model], label='AIC')\n",
    "plt.legend(loc='best')\n",
    "plt.title(\"GMM sur NLP : type covariance : \"+p_covariance_type, color='blue')\n",
    "plt.xlabel('Nb clusters', color='blue');"
   ]
  },
  {
   "cell_type": "markdown",
   "metadata": {},
   "source": [
    "### GMM : calcul de la silhouette avec des modeles de type de covariance optimum"
   ]
  },
  {
   "cell_type": "markdown",
   "metadata": {},
   "source": [
    "#### Computation of GMM models"
   ]
  },
  {
   "cell_type": "code",
   "execution_count": 47,
   "metadata": {
    "scrolled": false
   },
   "outputs": [
    {
     "name": "stdout",
     "output_type": "stream",
     "text": [
      "Clustering : 1 clusters\n",
      "Clustering : 2 clusters\n",
      "Clustering : 3 clusters\n",
      "Clustering : 4 clusters\n",
      "Clustering : 5 clusters\n",
      "Clustering : 6 clusters\n",
      "Clustering : 7 clusters\n",
      "Clustering : 8 clusters\n",
      "Clustering : 9 clusters\n",
      "Clustering : 10 clusters\n"
     ]
    }
   ],
   "source": [
    "import p5_util\n",
    "covariance_type = 'spherical'\n",
    "dict_gmm = p5_util.gmm_scan(df_customers, cluster_start, cluster_end, p_covariance_type=covariance_type)"
   ]
  },
  {
   "cell_type": "markdown",
   "metadata": {},
   "source": [
    "#### GMM models evaluation:  silhouette score"
   ]
  },
  {
   "cell_type": "code",
   "execution_count": 48,
   "metadata": {},
   "outputs": [
    {
     "data": {
      "text/plain": [
       "dict_keys([1, 2, 3, 4, 5, 6, 7, 8, 9, 10])"
      ]
     },
     "execution_count": 48,
     "metadata": {},
     "output_type": "execute_result"
    }
   ],
   "source": [
    "dict_gmm.keys()"
   ]
  },
  {
   "cell_type": "code",
   "execution_count": 49,
   "metadata": {},
   "outputs": [
    {
     "name": "stdout",
     "output_type": "stream",
     "text": [
      "GMM Silhouette score: cluster= 2\n",
      "GMM Silhouette score: cluster= 3\n",
      "GMM Silhouette score: cluster= 4\n",
      "GMM Silhouette score: cluster= 5\n",
      "GMM Silhouette score: cluster= 6\n",
      "GMM Silhouette score: cluster= 7\n",
      "GMM Silhouette score: cluster= 8\n",
      "GMM Silhouette score: cluster= 9\n",
      "GMM Silhouette score: cluster= 10\n"
     ]
    }
   ],
   "source": [
    "from sklearn.metrics import silhouette_score\n",
    "\n",
    "dict_silhouette_score = dict()\n",
    "X =df_customers.values\n",
    "for cluster in dict_gmm.keys():\n",
    "    if cluster > 1:\n",
    "        gmm = dict_gmm[cluster]\n",
    "        preds_gmm = gmm.predict(X)\n",
    "        dict_silhouette_score[cluster] = silhouette_score(X, preds_gmm)\n",
    "        print(\"GMM Silhouette score: cluster= \"+str(cluster))\n",
    "    else:\n",
    "        pass\n"
   ]
  },
  {
   "cell_type": "markdown",
   "metadata": {},
   "source": [
    "#### Plotting silhouette score results for GMM models"
   ]
  },
  {
   "cell_type": "code",
   "execution_count": 50,
   "metadata": {},
   "outputs": [
    {
     "data": {
      "image/png": "[encoded data removed]",
      "text/plain": [
       "<matplotlib.figure.Figure at 0xa6f975ec>"
      ]
     },
     "metadata": {},
     "output_type": "display_data"
    }
   ],
   "source": [
    "import matplotlib.pyplot as plt\n",
    "plt.figure(figsize=(7,7))\n",
    "plt.title(\"GMM : silhouette with covariance type= \"+covariance_type,color='blue')\n",
    "plt.xlabel(\"Nb clusters\",color='blue')\n",
    "\n",
    "z_ = plt.scatter(dict_silhouette_score.keys(), dict_silhouette_score.values(), c='grey', alpha=0.6)    \n",
    "z_ = plt.plot(dict_silhouette_score.keys(), dict_silhouette_score.values(), c='grey', alpha=0.6)    \n",
    "\n",
    "#plt.set_title(\"GMM silhouette\",color='blue')\n",
    "#plt.grid(True)\n"
   ]
  },
  {
   "cell_type": "markdown",
   "metadata": {},
   "source": [
    "#### Selection of best cluster number"
   ]
  },
  {
   "cell_type": "code",
   "execution_count": 51,
   "metadata": {},
   "outputs": [],
   "source": [
    "n_cluster = 4"
   ]
  },
  {
   "cell_type": "markdown",
   "metadata": {},
   "source": [
    "#### GMM : checking convergence of reduced dimension"
   ]
  },
  {
   "cell_type": "code",
   "execution_count": 52,
   "metadata": {},
   "outputs": [
    {
     "name": "stdout",
     "output_type": "stream",
     "text": [
      "True\n"
     ]
    }
   ],
   "source": [
    "from sklearn.mixture import GaussianMixture\n",
    "X =df_customers.values\n",
    "gmm_model = GaussianMixture(n_cluster, covariance_type=covariance_type, random_state=0)\n",
    "gmm_model.fit(X)\n",
    "print(gmm_model.converged_)"
   ]
  },
  {
   "cell_type": "markdown",
   "metadata": {},
   "source": [
    "#### Effectif dans chaque cluster"
   ]
  },
  {
   "cell_type": "code",
   "execution_count": 53,
   "metadata": {},
   "outputs": [
    {
     "name": "stdout",
     "output_type": "stream",
     "text": [
      "(2124, 251)\n",
      "(2124, 251)\n",
      "Clusters = [0 1 2 3]\n",
      "Population cumulée par cluster = 2124\n",
      "         Count\n",
      "cluster       \n",
      "0          937\n",
      "1            1\n",
      "2          912\n",
      "3          274\n"
     ]
    },
    {
     "data": {
      "image/png": "[encoded data removed]",
      "text/plain": [
       "<matplotlib.figure.Figure at 0xaa6d222c>"
      ]
     },
     "metadata": {},
     "output_type": "display_data"
    }
   ],
   "source": [
    "import p5_util\n",
    "import p5_util_plot\n",
    "pred_gmm = gmm_model.predict(df_customers.values)\n",
    "print(df_customers.shape)\n",
    "df_customers = p5_util.df_add_cluster(df_customers, pred_gmm)\n",
    "print(df_customers.shape)\n",
    "p5_util_plot.plot_cluster_frequency(df_customers)"
   ]
  },
  {
   "cell_type": "code",
   "execution_count": 54,
   "metadata": {},
   "outputs": [
    {
     "data": {
      "text/plain": [
       "0.41588517757708215"
      ]
     },
     "execution_count": 54,
     "metadata": {},
     "output_type": "execute_result"
    }
   ],
   "source": [
    "from sklearn.metrics import silhouette_score\n",
    "preds_gmm = dict_gmm[3].predict(df_customers.values)\n",
    "silhouette_score(df_customers.values, preds_gmm)"
   ]
  },
  {
   "cell_type": "markdown",
   "metadata": {},
   "source": [
    "#### Carctérisation cluster 1"
   ]
  },
  {
   "cell_type": "code",
   "execution_count": 58,
   "metadata": {},
   "outputs": [
    {
     "name": "stdout",
     "output_type": "stream",
     "text": [
      "p5_util.object_load : fileName= ./data/df_invoice_line_sample_random.dump\n"
     ]
    }
   ],
   "source": [
    "import p5_util\n",
    "\n",
    "fileName = './data/df_invoice_line_sample_random.dump'\n",
    "df_invoice_line_sample = p5_util.object_load(fileName)"
   ]
  },
  {
   "cell_type": "code",
   "execution_count": 59,
   "metadata": {},
   "outputs": [
    {
     "name": "stdout",
     "output_type": "stream",
     "text": [
      "Cluster 1 : Customer ID = 17841\n"
     ]
    }
   ],
   "source": [
    "customerID = df_customers[df_customers.cluster==1].index[0]\n",
    "print(\"Cluster 1 : Customer ID = \"+str(customerID))"
   ]
  },
  {
   "cell_type": "code",
   "execution_count": 61,
   "metadata": {},
   "outputs": [
    {
     "data": {
      "text/plain": [
       "7675"
      ]
     },
     "execution_count": 61,
     "metadata": {},
     "output_type": "execute_result"
    }
   ],
   "source": [
    "len(df_invoice_line_sample[df_invoice_line_sample.CustomerID==customerID])"
   ]
  },
  {
   "cell_type": "code",
   "execution_count": 62,
   "metadata": {},
   "outputs": [
    {
     "name": "stdout",
     "output_type": "stream",
     "text": [
      "============================================================\n",
      "----------------------InvoiceLineCount----------------------\n",
      "Moyenne: 91.76412429378531\n",
      "Mediane: 41.0\n",
      "Modes: 0    6\n",
      "dtype: int32\n",
      "Variance: 56596.46272423314\n",
      "Ecart:237.90011081172943\n"
     ]
    },
    {
     "data": {
      "image/png": "[encoded data removed]",
      "text/plain": [
       "<matplotlib.figure.Figure at 0xa7363bac>"
      ]
     },
     "metadata": {},
     "output_type": "display_data"
    },
    {
     "name": "stdout",
     "output_type": "stream",
     "text": [
      "============================================================\n",
      "----------------------InvoiceLineCount----------------------\n",
      "Moyenne: 91.76412429378531\n",
      "Mediane: 41.0\n",
      "Modes: 0    6\n",
      "dtype: int32\n",
      "Variance: 56596.46272423314\n",
      "Ecart:237.90011081172943\n"
     ]
    },
    {
     "data": {
      "image/png": "[encoded data removed]",
      "text/plain": [
       "<matplotlib.figure.Figure at 0xa72edb4c>"
      ]
     },
     "metadata": {},
     "output_type": "display_data"
    }
   ],
   "source": [
    "import p3_util_plot\n",
    "\n",
    "df = df_invoice_line_sample.groupby('CustomerID').agg({'CustomerID': lambda x: len(x)})\n",
    "df.sample(1)\n",
    "df.rename(columns={'CustomerID':'InvoiceLineCount'}, inplace=True)\n",
    "p3_util_plot.df_boxplot_list_display(df, ['InvoiceLineCount'], show_outliers=True )\n",
    "p3_util_plot.df_boxplot_list_display(df, ['InvoiceLineCount'], show_outliers=False )\n"
   ]
  },
  {
   "cell_type": "code",
   "execution_count": 63,
   "metadata": {},
   "outputs": [
    {
     "data": {
      "text/plain": [
       "CustomerID\n",
       "17841    7675\n",
       "12748    4410\n",
       "14606    2677\n",
       "13089    1814\n",
       "14298    1637\n",
       "18118    1263\n",
       "16033    1128\n",
       "15005    1112\n",
       "14056    1088\n",
       "14769    1062\n",
       "14527     971\n",
       "17511     963\n",
       "14456     947\n",
       "16549     925\n",
       "16931     886\n",
       "17811     828\n",
       "14505     785\n",
       "17757     740\n",
       "15547     695\n",
       "17920     665\n",
       "16904     665\n",
       "16241     655\n",
       "16360     636\n",
       "15856     628\n",
       "16923     626\n",
       "16713     619\n",
       "13969     619\n",
       "13230     587\n",
       "13098     572\n",
       "13694     568\n",
       "         ... \n",
       "17102       1\n",
       "13366       1\n",
       "14705       1\n",
       "17291       1\n",
       "14576       1\n",
       "15940       1\n",
       "17925       1\n",
       "13703       1\n",
       "13747       1\n",
       "17747       1\n",
       "17752       1\n",
       "17763       1\n",
       "18068       1\n",
       "16953       1\n",
       "18084       1\n",
       "15313       1\n",
       "15316       1\n",
       "16881       1\n",
       "18113       1\n",
       "15524       1\n",
       "13135       1\n",
       "16765       1\n",
       "13120       1\n",
       "13106       1\n",
       "15668       1\n",
       "13099       1\n",
       "15753       1\n",
       "15823       1\n",
       "18184       1\n",
       "12346       1\n",
       "Name: InvoiceLineCount, Length: 2124, dtype: int32"
      ]
     },
     "execution_count": 63,
     "metadata": {},
     "output_type": "execute_result"
    }
   ],
   "source": [
    "df.InvoiceLineCount.sort_values(ascending=False)"
   ]
  },
  {
   "cell_type": "markdown",
   "metadata": {},
   "source": [
    "#### Caractérisation clusters 0 et 2"
   ]
  },
  {
   "cell_type": "code",
   "execution_count": 64,
   "metadata": {},
   "outputs": [
    {
     "data": {
      "text/html": [
       "<div>\n",
       "<style scoped>\n",
       "    .dataframe tbody tr th:only-of-type {\n",
       "        vertical-align: middle;\n",
       "    }\n",
       "\n",
       "    .dataframe tbody tr th {\n",
       "        vertical-align: top;\n",
       "    }\n",
       "\n",
       "    .dataframe thead th {\n",
       "        text-align: right;\n",
       "    }\n",
       "</style>\n",
       "<table border=\"1\" class=\"dataframe\">\n",
       "  <thead>\n",
       "    <tr style=\"text-align: right;\">\n",
       "      <th></th>\n",
       "      <th>InvoiceNo</th>\n",
       "      <th>StockCode</th>\n",
       "      <th>Description</th>\n",
       "      <th>Quantity</th>\n",
       "      <th>InvoiceDate</th>\n",
       "      <th>UnitPrice</th>\n",
       "      <th>CustomerID</th>\n",
       "    </tr>\n",
       "  </thead>\n",
       "  <tbody>\n",
       "    <tr>\n",
       "      <th>44769</th>\n",
       "      <td>543275</td>\n",
       "      <td>22431</td>\n",
       "      <td>WATERING CAN BLUE ELEPHANT</td>\n",
       "      <td>1</td>\n",
       "      <td>2011-02-06 12:49:00</td>\n",
       "      <td>1.95</td>\n",
       "      <td>13584</td>\n",
       "    </tr>\n",
       "  </tbody>\n",
       "</table>\n",
       "</div>"
      ],
      "text/plain": [
       "      InvoiceNo StockCode                 Description  Quantity  \\\n",
       "44769    543275     22431  WATERING CAN BLUE ELEPHANT         1   \n",
       "\n",
       "              InvoiceDate  UnitPrice  CustomerID  \n",
       "44769 2011-02-06 12:49:00       1.95       13584  "
      ]
     },
     "execution_count": 64,
     "metadata": {},
     "output_type": "execute_result"
    }
   ],
   "source": [
    "df_invoice_line_sample.sample(1)\n"
   ]
  },
  {
   "cell_type": "code",
   "execution_count": 65,
   "metadata": {},
   "outputs": [
    {
     "data": {
      "text/html": [
       "<div>\n",
       "<style scoped>\n",
       "    .dataframe tbody tr th:only-of-type {\n",
       "        vertical-align: middle;\n",
       "    }\n",
       "\n",
       "    .dataframe tbody tr th {\n",
       "        vertical-align: top;\n",
       "    }\n",
       "\n",
       "    .dataframe thead th {\n",
       "        text-align: right;\n",
       "    }\n",
       "</style>\n",
       "<table border=\"1\" class=\"dataframe\">\n",
       "  <thead>\n",
       "    <tr style=\"text-align: right;\">\n",
       "      <th></th>\n",
       "      <th>cluster</th>\n",
       "      <th>nlp_pca_0</th>\n",
       "      <th>nlp_pca_1</th>\n",
       "      <th>nlp_pca_2</th>\n",
       "      <th>nlp_pca_3</th>\n",
       "      <th>nlp_pca_4</th>\n",
       "      <th>nlp_pca_5</th>\n",
       "      <th>nlp_pca_6</th>\n",
       "      <th>nlp_pca_7</th>\n",
       "      <th>nlp_pca_8</th>\n",
       "      <th>...</th>\n",
       "      <th>nlp_pca_241</th>\n",
       "      <th>nlp_pca_242</th>\n",
       "      <th>nlp_pca_243</th>\n",
       "      <th>nlp_pca_244</th>\n",
       "      <th>nlp_pca_245</th>\n",
       "      <th>nlp_pca_246</th>\n",
       "      <th>nlp_pca_247</th>\n",
       "      <th>nlp_pca_248</th>\n",
       "      <th>nlp_pca_249</th>\n",
       "      <th>CustID</th>\n",
       "    </tr>\n",
       "    <tr>\n",
       "      <th>CustomerID</th>\n",
       "      <th></th>\n",
       "      <th></th>\n",
       "      <th></th>\n",
       "      <th></th>\n",
       "      <th></th>\n",
       "      <th></th>\n",
       "      <th></th>\n",
       "      <th></th>\n",
       "      <th></th>\n",
       "      <th></th>\n",
       "      <th></th>\n",
       "      <th></th>\n",
       "      <th></th>\n",
       "      <th></th>\n",
       "      <th></th>\n",
       "      <th></th>\n",
       "      <th></th>\n",
       "      <th></th>\n",
       "      <th></th>\n",
       "      <th></th>\n",
       "      <th></th>\n",
       "    </tr>\n",
       "  </thead>\n",
       "  <tbody>\n",
       "    <tr>\n",
       "      <th>13513</th>\n",
       "      <td>0</td>\n",
       "      <td>-9.420169</td>\n",
       "      <td>1.713817</td>\n",
       "      <td>2.338831</td>\n",
       "      <td>1.086447</td>\n",
       "      <td>0.487482</td>\n",
       "      <td>0.575547</td>\n",
       "      <td>0.207234</td>\n",
       "      <td>-0.283574</td>\n",
       "      <td>0.484433</td>\n",
       "      <td>...</td>\n",
       "      <td>-0.16457</td>\n",
       "      <td>-0.073053</td>\n",
       "      <td>-0.066821</td>\n",
       "      <td>0.100626</td>\n",
       "      <td>-0.200143</td>\n",
       "      <td>0.09574</td>\n",
       "      <td>0.032499</td>\n",
       "      <td>0.00391</td>\n",
       "      <td>-0.090656</td>\n",
       "      <td>13513</td>\n",
       "    </tr>\n",
       "  </tbody>\n",
       "</table>\n",
       "<p>1 rows × 252 columns</p>\n",
       "</div>"
      ],
      "text/plain": [
       "            cluster  nlp_pca_0  nlp_pca_1  nlp_pca_2  nlp_pca_3  nlp_pca_4  \\\n",
       "CustomerID                                                                   \n",
       "13513             0  -9.420169   1.713817   2.338831   1.086447   0.487482   \n",
       "\n",
       "            nlp_pca_5  nlp_pca_6  nlp_pca_7  nlp_pca_8   ...    nlp_pca_241  \\\n",
       "CustomerID                                               ...                  \n",
       "13513        0.575547   0.207234  -0.283574   0.484433   ...       -0.16457   \n",
       "\n",
       "            nlp_pca_242  nlp_pca_243  nlp_pca_244  nlp_pca_245  nlp_pca_246  \\\n",
       "CustomerID                                                                    \n",
       "13513         -0.073053    -0.066821     0.100626    -0.200143      0.09574   \n",
       "\n",
       "            nlp_pca_247  nlp_pca_248  nlp_pca_249  CustID  \n",
       "CustomerID                                                 \n",
       "13513          0.032499      0.00391    -0.090656   13513  \n",
       "\n",
       "[1 rows x 252 columns]"
      ]
     },
     "execution_count": 65,
     "metadata": {},
     "output_type": "execute_result"
    }
   ],
   "source": [
    "df_cluster_0 = df_customers[df_customers.cluster==0]\n",
    "df_cluster_0['CustID'] = df_cluster_0.index\n",
    "df_cluster_0.sample(1)"
   ]
  }
 ],
 "metadata": {
  "kernelspec": {
   "display_name": "Python 3",
   "language": "python",
   "name": "python3"
  },
  "language_info": {
   "codemirror_mode": {
    "name": "ipython",
    "version": 3
   },
   "file_extension": ".py",
   "mimetype": "text/x-python",
   "name": "python",
   "nbconvert_exporter": "python",
   "pygments_lexer": "ipython3",
   "version": "3.6.4"
  }
 },
 "nbformat": 4,
 "nbformat_minor": 2
}
